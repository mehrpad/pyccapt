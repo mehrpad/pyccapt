{
 "cells": [
  {
   "cell_type": "markdown",
   "id": "93bd9e3c",
   "metadata": {},
   "source": [
    "$\\textbf{Propagation Delay Calculation}$"
   ]
  },
  {
   "cell_type": "markdown",
   "id": "f66d9bea",
   "metadata": {},
   "source": [
    "$\\text{In this tutorial we will see how to calculate the $t_0$ with the known sample}$"
   ]
  },
  {
   "cell_type": "code",
   "execution_count": 1,
   "id": "5473b2ca",
   "metadata": {},
   "outputs": [],
   "source": [
    "%matplotlib notebook\n",
    "import os\n",
    "import os.path as path\n",
    "import numpy as np\n",
    "from sklearn import linear_model\n",
    "import matplotlib.pyplot as plt\n",
    "\n",
    "\n",
    "from pyccapt.calibration_tools import variables, tools, data_tools\n",
    "from pyccapt.mc import mc_tools\n",
    "\n",
    "# The initial value for flight path length, which is the distance of local electrod to detector \n",
    "flightPathLength = 110 # mm\n",
    "# The initial value for t_0\n",
    "t0 = 1 # ns\n",
    "\n",
    "# if you want to save the picture the process takes too long\n",
    "# For faster run put save_figure to False\n",
    "save_figure = True"
   ]
  },
  {
   "cell_type": "code",
   "execution_count": 2,
   "id": "071ceb5e",
   "metadata": {},
   "outputs": [
    {
     "name": "stdout",
     "output_type": "stream",
     "text": [
      "          dld/high_voltage  dld/pulse_voltage  dld/start_counter       dld/t  \\\n",
      "0              3915.549072        3915.549072            43918.0  702.704970   \n",
      "1              3915.549072        3915.549072            44007.0  529.471890   \n",
      "2              3915.549072        3915.549072            44671.0  699.886332   \n",
      "3              3915.549072        3915.549072            44956.0  708.054210   \n",
      "4              3915.549072        3915.549072            45618.0  705.605904   \n",
      "...                    ...                ...                ...         ...   \n",
      "15292619       7542.105957        7542.105957            28996.0  518.265918   \n",
      "15292620       7542.105957        7542.105957            29009.0  524.588994   \n",
      "15292621       7542.105957        7542.105957            29010.0  395.843760   \n",
      "15292622       7542.105957        7542.105957            29010.0  532.496268   \n",
      "15292623       7542.105957        7542.105957            29615.0  524.630142   \n",
      "\n",
      "              dld/x      dld/y  \n",
      "0         10.728980   7.640816  \n",
      "1         -8.627755  24.227755  \n",
      "2          8.595918   2.546939  \n",
      "3          9.678367 -22.413061  \n",
      "4         -9.996735 -11.111020  \n",
      "...             ...        ...  \n",
      "15292619  -0.604898  -3.820408  \n",
      "15292620   5.125714   2.674286  \n",
      "15292621  15.822857 -21.362449  \n",
      "15292622  15.345306 -20.534694  \n",
      "15292623   8.022857   2.737959  \n",
      "\n",
      "[15292624 rows x 6 columns]\n"
     ]
    }
   ],
   "source": [
    "variables.init()\n",
    "\n",
    "# dataset name\n",
    "dataset_name = 'AL_data_b'\n",
    "# dataset_name = 'OLO_AL_6_data'\n",
    "# dataset_name = 'OLO_W_6_data'\n",
    "\n",
    "p = path.abspath(path.join(\"\", \"../../../../..\"))\n",
    "\n",
    "variables.path = os.path.join(p, 'tests//results//load_crop')\n",
    "variables.result_path = os.path.join(p, 'tests/results/t0_calibration/' + dataset_name)\n",
    "if not os.path.isdir(variables.result_path):\n",
    "        os.makedirs(variables.result_path, mode=0o777, exist_ok=True)\n",
    "        \n",
    "filename = variables.path + '//' + dataset_name + '//' + dataset_name + '_cropped' + '.h5'\n",
    "\n",
    "head, tail = os.path.split(filename)\n",
    "figname = os.path.splitext(tail)[0]\n",
    "\n",
    "data = data_tools.read_hdf5_through_pandas(filename)\n",
    "print(data)\n",
    "\n",
    "dld_highVoltage = data['dld/high_voltage'].to_numpy()\n",
    "dld_pulseVoltage = data['dld/pulse_voltage'].to_numpy()\n",
    "dld_startCounter = data['dld/start_counter'].to_numpy()\n",
    "dld_t = data['dld/t'].to_numpy()\n",
    "dld_x = data['dld/x'].to_numpy()\n",
    "dld_y = data['dld/y'].to_numpy()"
   ]
  },
  {
   "cell_type": "markdown",
   "id": "1b07b48b",
   "metadata": {},
   "source": [
    "$\\mathbf{\\text{calculate the mc in two mode for laser and voltage atom probe:}}$<br><br>\n",
    "$$\\frac{m}{n} = k V_{dc}(\\frac{t + t_{0}}{d})^{2} ,$$<br>\n",
    "$\\text{or:}$\n",
    "$$\\frac{m}{n} = k\\alpha (V_{dc} + \\beta V_{pulse})(\\frac{t + t_{0}}{d})^{2} $$<br>"
   ]
  },
  {
   "cell_type": "code",
   "execution_count": null,
   "id": "4a14a099",
   "metadata": {},
   "outputs": [],
   "source": [
    "mc_seb = mc_tools.tof2mc(dld_t, t0, dld_highVoltage, dld_pulseVoltage, dld_x, dld_y, flightPathLength, mode='voltage_pulse')\n",
    "max_hist, left_right_peaks, peaks_sides, max_paek_edges = tools.massSpecPlot(mc_seb[mc_seb < 100], 0.1, percent=50, plot=True, prominence=500, fig_name=figname)\n",
    "mrp = (max_hist / (left_right_peaks[1] - left_right_peaks[0]))\n",
    "print('Mass resolving power for the highest peak (MRP --> m/m_2-m_1):', mrp)\n",
    "for i in range(len(peaks_sides)):\n",
    "    print('Peaks ', i, 'is: {:.2f}'.format(peaks_sides[i,0]), 'peak window sides are: {:.2f} - {:.2f}'.format(peaks_sides[i,2], peaks_sides[i,3]))"
   ]
  },
  {
   "cell_type": "markdown",
   "id": "30d8fc77",
   "metadata": {},
   "source": [
    "$\\text{In the cell below you should type the correct m/c for the detected peak above}$"
   ]
  },
  {
   "cell_type": "code",
   "execution_count": null,
   "id": "f6c67cbb",
   "metadata": {},
   "outputs": [],
   "source": [
    "peak_ideal = [1.01, 13.49, 26.98]"
   ]
  },
  {
   "cell_type": "markdown",
   "id": "9d120e01",
   "metadata": {},
   "source": [
    "$\\text{Here for each peak a mask will be created}$"
   ]
  },
  {
   "cell_type": "code",
   "execution_count": null,
   "id": "e17c3d32",
   "metadata": {},
   "outputs": [],
   "source": [
    "pick_ions_plot = []\n",
    "\n",
    "# creat mask for each peak base on the peak loc. and window size\n",
    "for i in range(len(peaks_sides)):\n",
    "    mask_tmp = np.logical_and((peaks_sides[i, 2] < mc_seb), (mc_seb < peaks_sides[i, 3]))\n",
    "    if i == 0:\n",
    "        lenght = len(mask_tmp[mask_tmp==True])\n",
    "\n",
    "        indexes_mask_tmp_equal = np.where(mask_tmp==True)[0].tolist()\n",
    "    else:    \n",
    "        indexes_mask_tmp_equal = np.where(mask_tmp==True)[0].tolist()    \n",
    "        indexes_mask_tmp_equal = np.random.choice(indexes_mask_tmp_equal, size=lenght, replace=False)\n",
    "    \n",
    "    \n",
    "    bb = np.zeros(len(mc_seb))\n",
    "    \n",
    "    mc_seb_ideal_tmp = np.copy(bb)\n",
    "    # put the location (mc) of the peak for all selected mc\n",
    "    mc_seb_ideal_tmp[mask_tmp] = peak_ideal[i]\n",
    "    \n",
    "    pick_ions_plot.append(mask_tmp)\n",
    "    if i == 0:\n",
    "        mask = np.copy(mask_tmp)\n",
    "        mc_seb_ideal = np.copy(mc_seb_ideal_tmp)\n",
    "        mask_equal = indexes_mask_tmp_equal\n",
    "    else:\n",
    "        mask += mask_tmp\n",
    "        mc_seb_ideal += mc_seb_ideal_tmp \n",
    "        mask_equal.extend(indexes_mask_tmp_equal)"
   ]
  },
  {
   "cell_type": "markdown",
   "id": "2a8ff47b",
   "metadata": {},
   "source": [
    "$\\text{The selcted peak ions in shown below}$"
   ]
  },
  {
   "cell_type": "code",
   "execution_count": null,
   "id": "ee33bf78",
   "metadata": {},
   "outputs": [],
   "source": [
    "mc_seb_masked = mc_seb[mask]\n",
    "tools.massSpecPlot(mc_seb_masked[mc_seb_masked < 100], 0.1, peaks_find=False, plot=True)"
   ]
  },
  {
   "cell_type": "markdown",
   "id": "32941cde",
   "metadata": {},
   "source": [
    "$\\text{Plot ideal peak m/c:}$"
   ]
  },
  {
   "cell_type": "code",
   "execution_count": null,
   "id": "25c87e3f",
   "metadata": {},
   "outputs": [],
   "source": [
    "tools.massSpecPlot(mc_seb_ideal, 0.1, peaks_find=False, plot=True)"
   ]
  },
  {
   "cell_type": "markdown",
   "id": "8a8256ac",
   "metadata": {},
   "source": [
    "$\\text{Here we plot ions in each peak base on the TOF and (x,y) position}$"
   ]
  },
  {
   "cell_type": "code",
   "execution_count": null,
   "id": "58160516",
   "metadata": {},
   "outputs": [],
   "source": [
    "for i in range(len(pick_ions_plot)):\n",
    "    fig1, ax1 = plt.subplots(figsize=(8, 4))\n",
    "    dld_x_masked = dld_x[pick_ions_plot[i]]\n",
    "    dld_y_masked = dld_y[pick_ions_plot[i]]\n",
    "    dld_t_masked = dld_t[pick_ions_plot[i]]\n",
    "    x = plt.scatter(dld_x_masked, dld_t_masked, color=\"blue\", label='X', alpha=0.1)\n",
    "    y = plt.scatter(dld_y_masked, dld_t_masked, color=\"red\", label='Y', alpha=0.1)\n",
    "    ax1.set_ylabel(\"Time of flight (ns)\", color=\"red\", fontsize=10)\n",
    "    ax1.set_xlabel(\"position (mm)\", color=\"red\", fontsize=10)\n",
    "    plt.grid(color='aqua', alpha=0.3, linestyle='-.', linewidth=2)\n",
    "    plt.legend(handles=[x, y], loc='upper right')\n",
    "#     if save_figure == True:\n",
    "#         plt.savefig(variables.result_path + '/position_peak_%s' %i + \"%s.png\" %figname, format=\"png\", dpi=600)\n",
    "    plt.show()"
   ]
  },
  {
   "cell_type": "markdown",
   "id": "178fcf61",
   "metadata": {},
   "source": [
    "$\\text{As you saw the TOF changes base on the (x,y) of the events. Therefore we creat a mask to only select the ions in center (4mm*4mm) of detector. This helps to cansel out the variation in TOF due to hit position}$"
   ]
  },
  {
   "cell_type": "markdown",
   "id": "fed5f06c",
   "metadata": {},
   "source": [
    "$\\text{Reformulate the equation for volatege atom probe:}$<br>\n",
    "$$t = d(\\sqrt{\\frac{\\frac{m}{n}}{k\\alpha (V_{dc}+\\beta V_{pulse})}})-t_{0} $$<br>"
   ]
  },
  {
   "cell_type": "code",
   "execution_count": null,
   "id": "b5fdf9d6",
   "metadata": {},
   "outputs": [],
   "source": [
    "# use mask_equal to have equal number of ions for each peak\n",
    "# only peak the value in the center of detector 2mm * 2mm\n",
    "detector_squre = 2\n",
    "fig1, ax1 = plt.subplots(figsize=(8, 4))\n",
    "dld_x_masked = dld_x[mask_equal]\n",
    "dld_y_masked = dld_y[mask_equal]\n",
    "dld_t_masked = dld_t[mask_equal]\n",
    "dld_highVoltage_masked = dld_highVoltage[mask_equal]\n",
    "\n",
    "mask_tmp_middle = np.logical_and((np.abs(dld_x_masked) < detector_squre), (np.abs(dld_y_masked) < detector_squre))\n",
    "dld_x_masked = dld_x_masked[mask_tmp_middle]\n",
    "dld_y_masked = dld_y_masked[mask_tmp_middle]\n",
    "dld_t_masked = dld_t_masked[mask_tmp_middle]\n",
    "dld_highVoltage_masked = dld_highVoltage_masked[mask_tmp_middle]\n",
    "\n",
    "mc_seb_reg_masked = mc_seb_ideal[mask_equal]\n",
    "mc_seb_reg_masked = mc_seb_reg_masked[mask_tmp_middle]\n",
    "\n",
    "print(dld_t_masked.shape)\n",
    "x = plt.scatter(dld_x_masked, dld_t_masked, color=\"blue\", label='X', alpha=0.1)\n",
    "y = plt.scatter(dld_y_masked, dld_t_masked, color=\"red\", label='Y', alpha=0.1)\n",
    "ax1.set_ylabel(\"Time of flight (ns)\", color=\"red\", fontsize=10)\n",
    "ax1.set_xlabel(\"position (mm)\", color=\"red\", fontsize=10)\n",
    "plt.grid(color='aqua', alpha=0.3, linestyle='-.', linewidth=2)\n",
    "plt.legend(handles=[x, y], loc='upper right')\n",
    "if save_figure == True:\n",
    "    plt.savefig(variables.result_path + '/center_' + \"%s.png\" %figname, format=\"png\", dpi=600)\n",
    "#     plt.savefig(variables.result_path + '/center_' + \"%s.svg\" %figname, format=\"svg\", dpi=600)\n",
    "plt.show()\n"
   ]
  },
  {
   "cell_type": "markdown",
   "id": "801076be",
   "metadata": {},
   "source": [
    "$\\text{We calculate the t_0 base on:}$<br>\n",
    "$$t_{0} = \\frac{\\sum_{n=1}^n{\\left (t - L_{flight}  \\sqrt{\\frac{m/n}{2eV}} \\right )}}{n}$$<br>"
   ]
  },
  {
   "cell_type": "code",
   "execution_count": null,
   "id": "f2a86b5b",
   "metadata": {},
   "outputs": [],
   "source": [
    "seb_t = dld_t_masked * 1E-9  # tof in s\n",
    "# seb_factor = np.sqrt(mc_seb_reg_ideal[mask_middle] * 1.66E-27 / (2 * 1.6E-19 * 1.015 * (dld_highVoltage_masked + 0.7 * dld_pulseVoltage_masked)))\n",
    "seb_factor = np.sqrt(mc_seb_reg_masked * 1.66E-27 / (2 * 1.6E-19 * dld_highVoltage_masked))\n",
    "\n",
    "seb_factor = seb_factor * 1E6\n",
    "seb_t = seb_t * 1E9\n",
    "\n",
    "t0_seb_fixed = np.mean(np.array([seb_t]).squeeze(0) - (110 * np.array([seb_factor]).squeeze(0).reshape(-1, 1)))\n",
    "print('Linear fixed path lenght -- the flight path lenght(slop): {:.2f}'.format(110), '(mm)', '\\nthe corrected t_0(intercept): {:.2f}'.format(t0_seb_fixed), '(ns)')\n"
   ]
  },
  {
   "cell_type": "code",
   "execution_count": null,
   "id": "35738a15",
   "metadata": {},
   "outputs": [],
   "source": [
    "t0_new = t0_seb_fixed"
   ]
  },
  {
   "cell_type": "code",
   "execution_count": null,
   "id": "8d0d304f",
   "metadata": {},
   "outputs": [],
   "source": [
    "# Plot outputs\n",
    "fig1, ax1 = plt.subplots(figsize=(8, 6))\n",
    "peaks_data = plt.scatter(seb_factor, seb_t, color=\"black\", label='peaks Ions', alpha=0.1)\n",
    "axes = plt.gca()\n",
    "x_vals = np.array(axes.get_xlim())\n",
    "\n",
    "linear_fix, = plt.plot(x_vals, t0_seb_fixed + 110 * x_vals, '--', color='black', label='Fited line' )\n",
    "\n",
    "plt.grid(color='aqua', alpha=0.3, linestyle='-.', linewidth=2)\n",
    "plt.legend(handles=[linear_fix, peaks_data], loc='lower right')\n",
    "\n",
    "ax1.set_ylabel(\"Time of flight (ns)\", color=\"red\", fontsize=12)\n",
    "\n",
    "ax1.set_xlabel(r\"$\\sqrt{\\frac{\\frac{m}{n}}{2e \\alpha (V_{dc} + \\beta V_{pulse})}} (ns/mm)$\", color=\"red\", fontsize=12)\n",
    "if save_figure == True:\n",
    "    plt.savefig(variables.result_path + '/regression' + \"%s.svg\" %figname, format=\"svg\", dpi=600)\n",
    "    plt.savefig(variables.result_path + '/regression' + \"%s.png\" %figname, format=\"png\", dpi=600)\n",
    "plt.show()"
   ]
  },
  {
   "cell_type": "markdown",
   "id": "1b9cb786",
   "metadata": {},
   "source": [
    "$\\text{Plot the m/c with new ${t_0}$ :}$<br>"
   ]
  },
  {
   "cell_type": "code",
   "execution_count": null,
   "id": "e05af2f5",
   "metadata": {},
   "outputs": [],
   "source": [
    "# calculate the mc with new flight path lenght and t_0\n",
    "mc_seb = mc_tools.tof2mc(dld_t, t0_new, dld_highVoltage, dld_pulseVoltage, dld_x, dld_y, flightPathLength)\n",
    "\n",
    "max_hist, left_right_peaks, peaks_sides, max_paek_edges = tools.massSpecPlot(mc_seb[mc_seb < 100], 0.1, percent=50, plot=True, prominence=500, distance=None, fig_name='corrected_'+figname)\n",
    "mrp = (max_hist / (left_right_peaks[1] - left_right_peaks[0]))\n",
    "print('Mass resolving power for the highest peak (MRP --> m/m_2-m_1):', mrp)\n",
    "for i in range(len(peaks_sides)):\n",
    "    print('Peaks ', i, 'is: {:.2f}'.format(peaks_sides[i,0]), 'peak window sides are: {:.2f} - {:.2f}'.format(peaks_sides[i,2], peaks_sides[i,3]))"
   ]
  }
 ],
 "metadata": {
  "kernelspec": {
   "display_name": "Python 3 (ipykernel)",
   "language": "python",
   "name": "python3"
  },
  "language_info": {
   "codemirror_mode": {
    "name": "ipython",
    "version": 3
   },
   "file_extension": ".py",
   "mimetype": "text/x-python",
   "name": "python",
   "nbconvert_exporter": "python",
   "pygments_lexer": "ipython3",
   "version": "3.8.13"
  }
 },
 "nbformat": 4,
 "nbformat_minor": 5
}

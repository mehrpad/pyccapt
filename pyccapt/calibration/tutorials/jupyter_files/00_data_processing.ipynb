{
 "cells": [
  {
   "cell_type": "markdown",
   "metadata": {
    "pycharm": {
     "name": "#%% md\n"
    }
   },
   "source": [
    "<div style=\"margin: 0 auto; padding: 20px; font-family: 'Helvetica', sans-serif; font-size: 16px;\">\n",
    "\n",
    "## Data Processing\n",
    "\n",
    "In this workflow within PyCCAPT, we can crope the data, do the voltage and bowl calibration, calculate the 3d reconstruction, and do the ranging.\n",
    "</div>"
   ]
  },
  {
   "cell_type": "code",
   "execution_count": 1,
   "metadata": {
    "pycharm": {
     "name": "#%%\n"
    },
    "tags": []
   },
   "outputs": [],
   "source": [
    "# Activate intractive functionality of matplotlib\n",
    "%matplotlib ipympl\n",
    "# Activate auto reload \n",
    "%load_ext autoreload\n",
    "%autoreload 2\n",
    "%reload_ext autoreload\n",
    "# import libraries\n",
    "import os\n",
    "import numpy as np\n",
    "from ipywidgets import widgets\n",
    "from IPython.display import display\n",
    "from ipywidgets import fixed, interact_manual\n",
    "import warnings\n",
    "# Ignore all warnings\n",
    "warnings.filterwarnings(\"ignore\")\n",
    "\n",
    "# Local module and scripts\n",
    "from pyccapt.calibration.calibration_tools import widgets as wd\n",
    "from pyccapt.calibration.data_tools import data_tools, data_loadcrop, dataset_path_qt\n",
    "from pyccapt.calibration.tutorials.tutorials_helpers import helper_calibration\n",
    "from pyccapt.calibration.tutorials.tutorials_helpers import helper_data_loader\n",
    "from pyccapt.calibration.tutorials.tutorials_helpers import helper_temporal_crop\n",
    "from pyccapt.calibration.tutorials.tutorials_helpers import helper_special_crop\n",
    "from pyccapt.calibration.tutorials.tutorials_helpers import helper_t_0_tune\n",
    "from pyccapt.calibration.tutorials.tutorials_helpers import helper_mc_plot\n",
    "from pyccapt.calibration.tutorials.tutorials_helpers import helper_3d_reconstruction\n",
    "from pyccapt.calibration.tutorials.tutorials_helpers import helper_ion_selection\n",
    "from pyccapt.calibration.tutorials.tutorials_helpers import helper_visualization\n",
    "from pyccapt.calibration.tutorials.tutorials_helpers import helper_ion_list"
   ]
  },
  {
   "cell_type": "markdown",
   "metadata": {},
   "source": [
    "<div style=\"margin: 0 auto; padding: 20px; font-family: 'Helvetica', sans-serif; font-size: 16px;\">\n",
    "In case of recieving the error about pytable library, please install the pytables library by running the cell below. Befor running the cell, uncomment the cell by removing the # sign at the begining of the cell.\n",
    "</div>\n"
   ]
  },
  {
   "cell_type": "code",
   "execution_count": 2,
   "metadata": {
    "tags": []
   },
   "outputs": [],
   "source": [
    "# check pytables library and install it\n",
    "# try:\n",
    "#     import tables\n",
    "# except:\n",
    "#     !conda install --yes --prefix {sys.prefix} pytables"
   ]
  },
  {
   "cell_type": "markdown",
   "metadata": {},
   "source": [
    "<div style=\"margin: 0 auto; padding: 20px; font-family: 'Helvetica', sans-serif; font-size: 16px;\">\n",
    "    \n",
    "By clicking on the button below, you can select the dataset file you want to crop. The dataset file can be in various formats, including HDF5, EPOS, POS, ATO, and CSV. The cropped data will be saved in the same directory as the original dataset file in a new directory nammed load_crop. The name of the cropped dataset file will be the same as the original dataset file. The figures will be saved in the same directory as the dataset file.\n",
    "</div>"
   ]
  },
  {
   "cell_type": "code",
   "execution_count": 2,
   "metadata": {
    "tags": []
   },
   "outputs": [
    {
     "data": {
      "application/vnd.jupyter.widget-view+json": {
       "model_id": "c2196880a88c4c23a50f84b273028a37",
       "version_major": 2,
       "version_minor": 0
      },
      "text/plain": [
       "Button(description='load dataset', style=ButtonStyle())"
      ]
     },
     "execution_count": 2,
     "metadata": {},
     "output_type": "execute_result"
    }
   ],
   "source": [
    "button = widgets.Button(\n",
    "    description='load dataset',\n",
    ")\n",
    "@button.on_click\n",
    "def open_file_on_click(b):\n",
    "    \"\"\"\n",
    "    Event handler for button click event.\n",
    "    Prompts the user to select a dataset file and stores the selected file path in the global variable dataset_path.\n",
    "    \"\"\"\n",
    "    global dataset_path\n",
    "    dataset_path = dataset_path_qt.gui_fname().decode('ASCII')\n",
    "button"
   ]
  },
  {
   "cell_type": "markdown",
   "metadata": {
    "tags": []
   },
   "source": [
    "<div style=\"margin: 0 auto; padding: 20px; font-family: 'Helvetica', sans-serif; font-size: 16px;\">\n",
    "\n",
    "## ROI Selection and Data Cropping Workflow\n",
    "    \n",
    "\n",
    "</div>\n",
    "\n"
   ]
  },
  {
   "cell_type": "markdown",
   "metadata": {},
   "source": [
    "<div style=\"margin: 0 auto; padding: 20px; font-family: 'Helvetica', sans-serif; font-size: 16px;\">\n",
    "\n",
    "    \n",
    "From the dropdown lists below, you can select the instrument specifications of the dataset. The instrument specifications are the same as the ones used for the calibration process. Data mode is specify the dataset structure. The dataset can be in raw or calibrated mode. The flight path length is the distance between the sample and the detector. The t0 is the time of flight of the ions with the lowest mass-to-charge ratio. The maximum mass-to-charge ratio is the maximum mass-to-charge ratio of tat you want to plot. You can also change it in te related cells. The detector diameter is the diameter of the detector.\n",
    "</div>\n"
   ]
  },
  {
   "cell_type": "code",
   "execution_count": 3,
   "metadata": {
    "tags": []
   },
   "outputs": [
    {
     "data": {
      "application/vnd.jupyter.widget-view+json": {
       "model_id": "71b313561acc4e6d9c11ab20322d2c9d",
       "version_major": 2,
       "version_minor": 0
      },
      "text/plain": [
       "Dropdown(description='Data mode:', options=('pyccapt', 'leap_epos', 'leap_pos', 'ato_v6'), value='pyccapt')"
      ]
     },
     "metadata": {},
     "output_type": "display_data"
    },
    {
     "data": {
      "application/vnd.jupyter.widget-view+json": {
       "model_id": "d57e2bae177b422ca51c28e0712afaa3",
       "version_major": 2,
       "version_minor": 0
      },
      "text/plain": [
       "Dropdown(description='Pulse mode:', options=('voltage', 'laser'), value='voltage')"
      ]
     },
     "metadata": {},
     "output_type": "display_data"
    },
    {
     "data": {
      "application/vnd.jupyter.widget-view+json": {
       "model_id": "ca61b6eab83b4144b5447413360642c6",
       "version_major": 2,
       "version_minor": 0
      },
      "text/plain": [
       "FloatText(value=110.0, description='Flight path length:')"
      ]
     },
     "metadata": {},
     "output_type": "display_data"
    },
    {
     "data": {
      "application/vnd.jupyter.widget-view+json": {
       "model_id": "06d20445d3c14325a3549b617cf092c8",
       "version_major": 2,
       "version_minor": 0
      },
      "text/plain": [
       "FloatText(value=38.0, description='t0:')"
      ]
     },
     "metadata": {},
     "output_type": "display_data"
    },
    {
     "data": {
      "application/vnd.jupyter.widget-view+json": {
       "model_id": "1a76c3444a894d27a890dd884afd510b",
       "version_major": 2,
       "version_minor": 0
      },
      "text/plain": [
       "FloatText(value=400.0, description='Max mc:')"
      ]
     },
     "metadata": {},
     "output_type": "display_data"
    }
   ],
   "source": [
    "# create an object for selection of instrument specifications of the dataset\n",
    "tdc, pulse_mode, flight_path_length, t0, max_mc, det_diam = wd.dataset_instrument_specification_selection()\n",
    "\n",
    "# Display lists and comboboxes to selected instrument specifications\n",
    "display(tdc, pulse_mode, flight_path_length, t0, max_mc)"
   ]
  },
  {
   "cell_type": "code",
   "execution_count": 4,
   "metadata": {
    "tags": []
   },
   "outputs": [
    {
     "name": "stdout",
     "output_type": "stream",
     "text": [
      "The maximum possible TOF is: 5010 ns\n",
      "=============================\n",
      "The data will be saved on the path: C:/Users/mehrp/PycharmProjects/pyccapt/tests/data/data_1642_Aug-30-2023_16-05_Al_test4/data_processing/\n",
      "=============================\n",
      "The dataset name after saving is: data_1642_Aug-30-2023_16-05_Al_test4\n",
      "=============================\n",
      "The figures will be saved on the path: C:/Users/mehrp/PycharmProjects/pyccapt/tests/data/data_1642_Aug-30-2023_16-05_Al_test4/data_processing/\n",
      "=============================\n",
      "{'apt': ['high_voltage', 'hour', 'main_chamber_vacuum', 'minute', 'num_events', 'pulse', 'second', 'temperature', 'time_counter'], 'dld': ['high_voltage', 'pulse', 'start_counter', 't', 'x', 'y'], 'tdc': ['channel', 'high_voltage', 'pulse', 'start_counter', 'time_data'], 'time': []}\n",
      "The number of data over max_tof: 242\n",
      "Total number of Ions: 12312754\n"
     ]
    }
   ],
   "source": [
    "variables = helper_data_loader.load_data(dataset_path, max_mc, flight_path_length, pulse_mode, tdc)"
   ]
  },
  {
   "cell_type": "code",
   "execution_count": 5,
   "metadata": {},
   "outputs": [
    {
     "name": "stdout",
     "output_type": "stream",
     "text": [
      "Continue from the point based on the loaded data\n",
      "The maximum time of flight: 5010\n"
     ]
    },
    {
     "data": {
      "text/html": [
       "<div>\n",
       "<style scoped>\n",
       "    .dataframe tbody tr th:only-of-type {\n",
       "        vertical-align: middle;\n",
       "    }\n",
       "\n",
       "    .dataframe tbody tr th {\n",
       "        vertical-align: top;\n",
       "    }\n",
       "\n",
       "    .dataframe thead th {\n",
       "        text-align: right;\n",
       "    }\n",
       "</style>\n",
       "<table border=\"1\" class=\"dataframe\">\n",
       "  <thead>\n",
       "    <tr style=\"text-align: right;\">\n",
       "      <th></th>\n",
       "      <th>x (nm)</th>\n",
       "      <th>y (nm)</th>\n",
       "      <th>z (nm)</th>\n",
       "      <th>mc_c (Da)</th>\n",
       "      <th>mc (Da)</th>\n",
       "      <th>high_voltage (V)</th>\n",
       "      <th>pulse</th>\n",
       "      <th>start_counter</th>\n",
       "      <th>t_c (ns)</th>\n",
       "      <th>t (ns)</th>\n",
       "      <th>x_det (cm)</th>\n",
       "      <th>y_det (cm)</th>\n",
       "      <th>pulse_pi</th>\n",
       "      <th>ion_pp</th>\n",
       "    </tr>\n",
       "  </thead>\n",
       "  <tbody>\n",
       "    <tr>\n",
       "      <th>0</th>\n",
       "      <td>16.241534</td>\n",
       "      <td>20.424568</td>\n",
       "      <td>5.380027</td>\n",
       "      <td>27.055355</td>\n",
       "      <td>29.321677</td>\n",
       "      <td>5014.109863</td>\n",
       "      <td>1002.822021</td>\n",
       "      <td>16975</td>\n",
       "      <td>571.039847</td>\n",
       "      <td>626.025696</td>\n",
       "      <td>2.053878</td>\n",
       "      <td>2.582857</td>\n",
       "      <td>0</td>\n",
       "      <td>0</td>\n",
       "    </tr>\n",
       "    <tr>\n",
       "      <th>1</th>\n",
       "      <td>0.649997</td>\n",
       "      <td>12.133287</td>\n",
       "      <td>1.128566</td>\n",
       "      <td>27.053985</td>\n",
       "      <td>29.829835</td>\n",
       "      <td>5014.109863</td>\n",
       "      <td>1002.822021</td>\n",
       "      <td>17011</td>\n",
       "      <td>571.026315</td>\n",
       "      <td>611.102661</td>\n",
       "      <td>0.078367</td>\n",
       "      <td>1.462857</td>\n",
       "      <td>36</td>\n",
       "      <td>2</td>\n",
       "    </tr>\n",
       "    <tr>\n",
       "      <th>2</th>\n",
       "      <td>8.955535</td>\n",
       "      <td>-2.694827</td>\n",
       "      <td>0.666238</td>\n",
       "      <td>27.363812</td>\n",
       "      <td>29.768729</td>\n",
       "      <td>5014.109863</td>\n",
       "      <td>1002.822021</td>\n",
       "      <td>17458</td>\n",
       "      <td>574.079711</td>\n",
       "      <td>608.448608</td>\n",
       "      <td>1.074286</td>\n",
       "      <td>-0.323265</td>\n",
       "      <td>447</td>\n",
       "      <td>1</td>\n",
       "    </tr>\n",
       "    <tr>\n",
       "      <th>3</th>\n",
       "      <td>-2.984976</td>\n",
       "      <td>2.409889</td>\n",
       "      <td>0.111661</td>\n",
       "      <td>27.333617</td>\n",
       "      <td>30.148581</td>\n",
       "      <td>5014.109863</td>\n",
       "      <td>1002.822021</td>\n",
       "      <td>17993</td>\n",
       "      <td>573.782894</td>\n",
       "      <td>609.607605</td>\n",
       "      <td>-0.355918</td>\n",
       "      <td>0.287347</td>\n",
       "      <td>535</td>\n",
       "      <td>1</td>\n",
       "    </tr>\n",
       "    <tr>\n",
       "      <th>4</th>\n",
       "      <td>9.509804</td>\n",
       "      <td>14.745539</td>\n",
       "      <td>2.376025</td>\n",
       "      <td>27.057828</td>\n",
       "      <td>29.561435</td>\n",
       "      <td>5014.109863</td>\n",
       "      <td>1002.822021</td>\n",
       "      <td>18541</td>\n",
       "      <td>571.064287</td>\n",
       "      <td>614.175049</td>\n",
       "      <td>1.162449</td>\n",
       "      <td>1.802449</td>\n",
       "      <td>548</td>\n",
       "      <td>1</td>\n",
       "    </tr>\n",
       "    <tr>\n",
       "      <th>...</th>\n",
       "      <td>...</td>\n",
       "      <td>...</td>\n",
       "      <td>...</td>\n",
       "      <td>...</td>\n",
       "      <td>...</td>\n",
       "      <td>...</td>\n",
       "      <td>...</td>\n",
       "      <td>...</td>\n",
       "      <td>...</td>\n",
       "      <td>...</td>\n",
       "      <td>...</td>\n",
       "      <td>...</td>\n",
       "      <td>...</td>\n",
       "      <td>...</td>\n",
       "    </tr>\n",
       "    <tr>\n",
       "      <th>10359555</th>\n",
       "      <td>21.613046</td>\n",
       "      <td>4.708798</td>\n",
       "      <td>57.016720</td>\n",
       "      <td>27.216647</td>\n",
       "      <td>29.476320</td>\n",
       "      <td>6356.779785</td>\n",
       "      <td>1271.355957</td>\n",
       "      <td>3630</td>\n",
       "      <td>572.631530</td>\n",
       "      <td>548.873169</td>\n",
       "      <td>2.083265</td>\n",
       "      <td>0.453878</td>\n",
       "      <td>279</td>\n",
       "      <td>1</td>\n",
       "    </tr>\n",
       "    <tr>\n",
       "      <th>10359556</th>\n",
       "      <td>-10.062750</td>\n",
       "      <td>0.069160</td>\n",
       "      <td>54.646308</td>\n",
       "      <td>27.119814</td>\n",
       "      <td>30.066950</td>\n",
       "      <td>6356.779785</td>\n",
       "      <td>1271.355957</td>\n",
       "      <td>4153</td>\n",
       "      <td>571.676523</td>\n",
       "      <td>546.424866</td>\n",
       "      <td>-0.950204</td>\n",
       "      <td>0.006531</td>\n",
       "      <td>523</td>\n",
       "      <td>1</td>\n",
       "    </tr>\n",
       "    <tr>\n",
       "      <th>10359557</th>\n",
       "      <td>34.298491</td>\n",
       "      <td>1.530892</td>\n",
       "      <td>61.409855</td>\n",
       "      <td>26.956003</td>\n",
       "      <td>28.806147</td>\n",
       "      <td>6356.779785</td>\n",
       "      <td>1271.355957</td>\n",
       "      <td>4266</td>\n",
       "      <td>570.057059</td>\n",
       "      <td>557.507385</td>\n",
       "      <td>3.438367</td>\n",
       "      <td>0.153469</td>\n",
       "      <td>113</td>\n",
       "      <td>1</td>\n",
       "    </tr>\n",
       "    <tr>\n",
       "      <th>10359558</th>\n",
       "      <td>27.449792</td>\n",
       "      <td>6.196191</td>\n",
       "      <td>58.914668</td>\n",
       "      <td>26.993966</td>\n",
       "      <td>29.074990</td>\n",
       "      <td>6356.779785</td>\n",
       "      <td>1271.355957</td>\n",
       "      <td>4286</td>\n",
       "      <td>570.432804</td>\n",
       "      <td>551.534058</td>\n",
       "      <td>2.690612</td>\n",
       "      <td>0.607347</td>\n",
       "      <td>20</td>\n",
       "      <td>1</td>\n",
       "    </tr>\n",
       "    <tr>\n",
       "      <th>10359559</th>\n",
       "      <td>4.872825</td>\n",
       "      <td>24.733790</td>\n",
       "      <td>57.928168</td>\n",
       "      <td>27.028028</td>\n",
       "      <td>29.803694</td>\n",
       "      <td>6356.779785</td>\n",
       "      <td>1271.355957</td>\n",
       "      <td>4668</td>\n",
       "      <td>570.769713</td>\n",
       "      <td>554.668152</td>\n",
       "      <td>0.473469</td>\n",
       "      <td>2.403265</td>\n",
       "      <td>382</td>\n",
       "      <td>1</td>\n",
       "    </tr>\n",
       "  </tbody>\n",
       "</table>\n",
       "<p>10359560 rows × 14 columns</p>\n",
       "</div>"
      ],
      "text/plain": [
       "             x (nm)     y (nm)     z (nm)  mc_c (Da)    mc (Da)  \\\n",
       "0         16.241534  20.424568   5.380027  27.055355  29.321677   \n",
       "1          0.649997  12.133287   1.128566  27.053985  29.829835   \n",
       "2          8.955535  -2.694827   0.666238  27.363812  29.768729   \n",
       "3         -2.984976   2.409889   0.111661  27.333617  30.148581   \n",
       "4          9.509804  14.745539   2.376025  27.057828  29.561435   \n",
       "...             ...        ...        ...        ...        ...   \n",
       "10359555  21.613046   4.708798  57.016720  27.216647  29.476320   \n",
       "10359556 -10.062750   0.069160  54.646308  27.119814  30.066950   \n",
       "10359557  34.298491   1.530892  61.409855  26.956003  28.806147   \n",
       "10359558  27.449792   6.196191  58.914668  26.993966  29.074990   \n",
       "10359559   4.872825  24.733790  57.928168  27.028028  29.803694   \n",
       "\n",
       "          high_voltage (V)        pulse  start_counter    t_c (ns)  \\\n",
       "0              5014.109863  1002.822021          16975  571.039847   \n",
       "1              5014.109863  1002.822021          17011  571.026315   \n",
       "2              5014.109863  1002.822021          17458  574.079711   \n",
       "3              5014.109863  1002.822021          17993  573.782894   \n",
       "4              5014.109863  1002.822021          18541  571.064287   \n",
       "...                    ...          ...            ...         ...   \n",
       "10359555       6356.779785  1271.355957           3630  572.631530   \n",
       "10359556       6356.779785  1271.355957           4153  571.676523   \n",
       "10359557       6356.779785  1271.355957           4266  570.057059   \n",
       "10359558       6356.779785  1271.355957           4286  570.432804   \n",
       "10359559       6356.779785  1271.355957           4668  570.769713   \n",
       "\n",
       "              t (ns)  x_det (cm)  y_det (cm)  pulse_pi  ion_pp  \n",
       "0         626.025696    2.053878    2.582857         0       0  \n",
       "1         611.102661    0.078367    1.462857        36       2  \n",
       "2         608.448608    1.074286   -0.323265       447       1  \n",
       "3         609.607605   -0.355918    0.287347       535       1  \n",
       "4         614.175049    1.162449    1.802449       548       1  \n",
       "...              ...         ...         ...       ...     ...  \n",
       "10359555  548.873169    2.083265    0.453878       279       1  \n",
       "10359556  546.424866   -0.950204    0.006531       523       1  \n",
       "10359557  557.507385    3.438367    0.153469       113       1  \n",
       "10359558  551.534058    2.690612    0.607347        20       1  \n",
       "10359559  554.668152    0.473469    2.403265       382       1  \n",
       "\n",
       "[10359560 rows x 14 columns]"
      ]
     },
     "metadata": {},
     "output_type": "display_data"
    },
    {
     "data": {
      "text/html": [
       "<div>\n",
       "<style scoped>\n",
       "    .dataframe tbody tr th:only-of-type {\n",
       "        vertical-align: middle;\n",
       "    }\n",
       "\n",
       "    .dataframe tbody tr th {\n",
       "        vertical-align: top;\n",
       "    }\n",
       "\n",
       "    .dataframe thead th {\n",
       "        text-align: right;\n",
       "    }\n",
       "</style>\n",
       "<table border=\"1\" class=\"dataframe\">\n",
       "  <thead>\n",
       "    <tr style=\"text-align: right;\">\n",
       "      <th></th>\n",
       "      <th>ion</th>\n",
       "      <th>mass</th>\n",
       "      <th>mc</th>\n",
       "      <th>mc_low</th>\n",
       "      <th>mc_up</th>\n",
       "      <th>color</th>\n",
       "      <th>element</th>\n",
       "      <th>complex</th>\n",
       "      <th>isotope</th>\n",
       "      <th>charge</th>\n",
       "    </tr>\n",
       "  </thead>\n",
       "  <tbody>\n",
       "    <tr>\n",
       "      <th>0</th>\n",
       "      <td>${}^{1}H^{+}$</td>\n",
       "      <td>1.01</td>\n",
       "      <td>1.002519</td>\n",
       "      <td>0.847359</td>\n",
       "      <td>1.166235</td>\n",
       "      <td>#b2aa2d</td>\n",
       "      <td>[H]</td>\n",
       "      <td>[1]</td>\n",
       "      <td>[1]</td>\n",
       "      <td>1.0</td>\n",
       "    </tr>\n",
       "    <tr>\n",
       "      <th>1</th>\n",
       "      <td>${}^{27}Al^{2+}$</td>\n",
       "      <td>13.49</td>\n",
       "      <td>13.433556</td>\n",
       "      <td>13.241603</td>\n",
       "      <td>14.382197</td>\n",
       "      <td>#e7e0d1</td>\n",
       "      <td>[Al]</td>\n",
       "      <td>[1]</td>\n",
       "      <td>[27]</td>\n",
       "      <td>2.0</td>\n",
       "    </tr>\n",
       "    <tr>\n",
       "      <th>2</th>\n",
       "      <td>${}^{27}Al^{+}$</td>\n",
       "      <td>26.98</td>\n",
       "      <td>26.967346</td>\n",
       "      <td>26.223492</td>\n",
       "      <td>28.970731</td>\n",
       "      <td>#e7e0d1</td>\n",
       "      <td>[Al]</td>\n",
       "      <td>[1]</td>\n",
       "      <td>[27]</td>\n",
       "      <td>1.0</td>\n",
       "    </tr>\n",
       "  </tbody>\n",
       "</table>\n",
       "</div>"
      ],
      "text/plain": [
       "                ion   mass         mc     mc_low      mc_up    color element  \\\n",
       "0     ${}^{1}H^{+}$   1.01   1.002519   0.847359   1.166235  #b2aa2d     [H]   \n",
       "1  ${}^{27}Al^{2+}$  13.49  13.433556  13.241603  14.382197  #e7e0d1    [Al]   \n",
       "2   ${}^{27}Al^{+}$  26.98  26.967346  26.223492  28.970731  #e7e0d1    [Al]   \n",
       "\n",
       "  complex isotope  charge  \n",
       "0     [1]     [1]     1.0  \n",
       "1     [1]    [27]     2.0  \n",
       "2     [1]    [27]     1.0  "
      ]
     },
     "metadata": {},
     "output_type": "display_data"
    }
   ],
   "source": [
    "#load data, if it exists,\n",
    "try:\n",
    "    variables.data = data_tools.load_data(variables.result_data_path + '//' + variables.result_data_name + '.h5', tdc='pyccapt', mode='processed')\n",
    "    variables.range_data = data_tools.read_hdf5_through_pandas(variables.result_data_path + '/' + 'range_' + variables.dataset_name+ '.h5')\n",
    "    print('Continue from the point based on the loaded data')\n",
    "    # exctract needed data from Pandas data frame as an numpy array\n",
    "    data_tools.extract_data(variables.data, variables, flight_path_length.value, max_mc.value)\n",
    "    display(variables.data)\n",
    "    display(variables.range_data)\n",
    "except ValueError as e:\n",
    "    Print('There was no data available')\n",
    "    print(e)"
   ]
  },
  {
   "cell_type": "code",
   "execution_count": 6,
   "metadata": {
    "tags": []
   },
   "outputs": [
    {
     "data": {
      "text/html": [
       "<div>\n",
       "<style scoped>\n",
       "    .dataframe tbody tr th:only-of-type {\n",
       "        vertical-align: middle;\n",
       "    }\n",
       "\n",
       "    .dataframe tbody tr th {\n",
       "        vertical-align: top;\n",
       "    }\n",
       "\n",
       "    .dataframe thead th {\n",
       "        text-align: right;\n",
       "    }\n",
       "</style>\n",
       "<table border=\"1\" class=\"dataframe\">\n",
       "  <thead>\n",
       "    <tr style=\"text-align: right;\">\n",
       "      <th></th>\n",
       "      <th>x (nm)</th>\n",
       "      <th>y (nm)</th>\n",
       "      <th>z (nm)</th>\n",
       "      <th>mc_c (Da)</th>\n",
       "      <th>mc (Da)</th>\n",
       "      <th>high_voltage (V)</th>\n",
       "      <th>pulse</th>\n",
       "      <th>start_counter</th>\n",
       "      <th>t_c (ns)</th>\n",
       "      <th>t (ns)</th>\n",
       "      <th>x_det (cm)</th>\n",
       "      <th>y_det (cm)</th>\n",
       "      <th>pulse_pi</th>\n",
       "      <th>ion_pp</th>\n",
       "    </tr>\n",
       "  </thead>\n",
       "  <tbody>\n",
       "    <tr>\n",
       "      <th>0</th>\n",
       "      <td>16.241534</td>\n",
       "      <td>20.424568</td>\n",
       "      <td>5.380027</td>\n",
       "      <td>27.055355</td>\n",
       "      <td>29.321677</td>\n",
       "      <td>5014.109863</td>\n",
       "      <td>1002.822021</td>\n",
       "      <td>16975</td>\n",
       "      <td>571.039847</td>\n",
       "      <td>626.025696</td>\n",
       "      <td>2.053878</td>\n",
       "      <td>2.582857</td>\n",
       "      <td>0</td>\n",
       "      <td>0</td>\n",
       "    </tr>\n",
       "    <tr>\n",
       "      <th>1</th>\n",
       "      <td>0.649997</td>\n",
       "      <td>12.133287</td>\n",
       "      <td>1.128566</td>\n",
       "      <td>27.053985</td>\n",
       "      <td>29.829835</td>\n",
       "      <td>5014.109863</td>\n",
       "      <td>1002.822021</td>\n",
       "      <td>17011</td>\n",
       "      <td>571.026315</td>\n",
       "      <td>611.102661</td>\n",
       "      <td>0.078367</td>\n",
       "      <td>1.462857</td>\n",
       "      <td>36</td>\n",
       "      <td>2</td>\n",
       "    </tr>\n",
       "    <tr>\n",
       "      <th>2</th>\n",
       "      <td>8.955535</td>\n",
       "      <td>-2.694827</td>\n",
       "      <td>0.666238</td>\n",
       "      <td>27.363812</td>\n",
       "      <td>29.768729</td>\n",
       "      <td>5014.109863</td>\n",
       "      <td>1002.822021</td>\n",
       "      <td>17458</td>\n",
       "      <td>574.079711</td>\n",
       "      <td>608.448608</td>\n",
       "      <td>1.074286</td>\n",
       "      <td>-0.323265</td>\n",
       "      <td>447</td>\n",
       "      <td>1</td>\n",
       "    </tr>\n",
       "    <tr>\n",
       "      <th>3</th>\n",
       "      <td>-2.984976</td>\n",
       "      <td>2.409889</td>\n",
       "      <td>0.111661</td>\n",
       "      <td>27.333617</td>\n",
       "      <td>30.148581</td>\n",
       "      <td>5014.109863</td>\n",
       "      <td>1002.822021</td>\n",
       "      <td>17993</td>\n",
       "      <td>573.782894</td>\n",
       "      <td>609.607605</td>\n",
       "      <td>-0.355918</td>\n",
       "      <td>0.287347</td>\n",
       "      <td>535</td>\n",
       "      <td>1</td>\n",
       "    </tr>\n",
       "    <tr>\n",
       "      <th>4</th>\n",
       "      <td>9.509804</td>\n",
       "      <td>14.745539</td>\n",
       "      <td>2.376025</td>\n",
       "      <td>27.057828</td>\n",
       "      <td>29.561435</td>\n",
       "      <td>5014.109863</td>\n",
       "      <td>1002.822021</td>\n",
       "      <td>18541</td>\n",
       "      <td>571.064287</td>\n",
       "      <td>614.175049</td>\n",
       "      <td>1.162449</td>\n",
       "      <td>1.802449</td>\n",
       "      <td>548</td>\n",
       "      <td>1</td>\n",
       "    </tr>\n",
       "    <tr>\n",
       "      <th>...</th>\n",
       "      <td>...</td>\n",
       "      <td>...</td>\n",
       "      <td>...</td>\n",
       "      <td>...</td>\n",
       "      <td>...</td>\n",
       "      <td>...</td>\n",
       "      <td>...</td>\n",
       "      <td>...</td>\n",
       "      <td>...</td>\n",
       "      <td>...</td>\n",
       "      <td>...</td>\n",
       "      <td>...</td>\n",
       "      <td>...</td>\n",
       "      <td>...</td>\n",
       "    </tr>\n",
       "    <tr>\n",
       "      <th>10359555</th>\n",
       "      <td>21.613046</td>\n",
       "      <td>4.708798</td>\n",
       "      <td>57.016720</td>\n",
       "      <td>27.216647</td>\n",
       "      <td>29.476320</td>\n",
       "      <td>6356.779785</td>\n",
       "      <td>1271.355957</td>\n",
       "      <td>3630</td>\n",
       "      <td>572.631530</td>\n",
       "      <td>548.873169</td>\n",
       "      <td>2.083265</td>\n",
       "      <td>0.453878</td>\n",
       "      <td>279</td>\n",
       "      <td>1</td>\n",
       "    </tr>\n",
       "    <tr>\n",
       "      <th>10359556</th>\n",
       "      <td>-10.062750</td>\n",
       "      <td>0.069160</td>\n",
       "      <td>54.646308</td>\n",
       "      <td>27.119814</td>\n",
       "      <td>30.066950</td>\n",
       "      <td>6356.779785</td>\n",
       "      <td>1271.355957</td>\n",
       "      <td>4153</td>\n",
       "      <td>571.676523</td>\n",
       "      <td>546.424866</td>\n",
       "      <td>-0.950204</td>\n",
       "      <td>0.006531</td>\n",
       "      <td>523</td>\n",
       "      <td>1</td>\n",
       "    </tr>\n",
       "    <tr>\n",
       "      <th>10359557</th>\n",
       "      <td>34.298491</td>\n",
       "      <td>1.530892</td>\n",
       "      <td>61.409855</td>\n",
       "      <td>26.956003</td>\n",
       "      <td>28.806147</td>\n",
       "      <td>6356.779785</td>\n",
       "      <td>1271.355957</td>\n",
       "      <td>4266</td>\n",
       "      <td>570.057059</td>\n",
       "      <td>557.507385</td>\n",
       "      <td>3.438367</td>\n",
       "      <td>0.153469</td>\n",
       "      <td>113</td>\n",
       "      <td>1</td>\n",
       "    </tr>\n",
       "    <tr>\n",
       "      <th>10359558</th>\n",
       "      <td>27.449792</td>\n",
       "      <td>6.196191</td>\n",
       "      <td>58.914668</td>\n",
       "      <td>26.993966</td>\n",
       "      <td>29.074990</td>\n",
       "      <td>6356.779785</td>\n",
       "      <td>1271.355957</td>\n",
       "      <td>4286</td>\n",
       "      <td>570.432804</td>\n",
       "      <td>551.534058</td>\n",
       "      <td>2.690612</td>\n",
       "      <td>0.607347</td>\n",
       "      <td>20</td>\n",
       "      <td>1</td>\n",
       "    </tr>\n",
       "    <tr>\n",
       "      <th>10359559</th>\n",
       "      <td>4.872825</td>\n",
       "      <td>24.733790</td>\n",
       "      <td>57.928168</td>\n",
       "      <td>27.028028</td>\n",
       "      <td>29.803694</td>\n",
       "      <td>6356.779785</td>\n",
       "      <td>1271.355957</td>\n",
       "      <td>4668</td>\n",
       "      <td>570.769713</td>\n",
       "      <td>554.668152</td>\n",
       "      <td>0.473469</td>\n",
       "      <td>2.403265</td>\n",
       "      <td>382</td>\n",
       "      <td>1</td>\n",
       "    </tr>\n",
       "  </tbody>\n",
       "</table>\n",
       "<p>10359560 rows × 14 columns</p>\n",
       "</div>"
      ],
      "text/plain": [
       "             x (nm)     y (nm)     z (nm)  mc_c (Da)    mc (Da)  \\\n",
       "0         16.241534  20.424568   5.380027  27.055355  29.321677   \n",
       "1          0.649997  12.133287   1.128566  27.053985  29.829835   \n",
       "2          8.955535  -2.694827   0.666238  27.363812  29.768729   \n",
       "3         -2.984976   2.409889   0.111661  27.333617  30.148581   \n",
       "4          9.509804  14.745539   2.376025  27.057828  29.561435   \n",
       "...             ...        ...        ...        ...        ...   \n",
       "10359555  21.613046   4.708798  57.016720  27.216647  29.476320   \n",
       "10359556 -10.062750   0.069160  54.646308  27.119814  30.066950   \n",
       "10359557  34.298491   1.530892  61.409855  26.956003  28.806147   \n",
       "10359558  27.449792   6.196191  58.914668  26.993966  29.074990   \n",
       "10359559   4.872825  24.733790  57.928168  27.028028  29.803694   \n",
       "\n",
       "          high_voltage (V)        pulse  start_counter    t_c (ns)  \\\n",
       "0              5014.109863  1002.822021          16975  571.039847   \n",
       "1              5014.109863  1002.822021          17011  571.026315   \n",
       "2              5014.109863  1002.822021          17458  574.079711   \n",
       "3              5014.109863  1002.822021          17993  573.782894   \n",
       "4              5014.109863  1002.822021          18541  571.064287   \n",
       "...                    ...          ...            ...         ...   \n",
       "10359555       6356.779785  1271.355957           3630  572.631530   \n",
       "10359556       6356.779785  1271.355957           4153  571.676523   \n",
       "10359557       6356.779785  1271.355957           4266  570.057059   \n",
       "10359558       6356.779785  1271.355957           4286  570.432804   \n",
       "10359559       6356.779785  1271.355957           4668  570.769713   \n",
       "\n",
       "              t (ns)  x_det (cm)  y_det (cm)  pulse_pi  ion_pp  \n",
       "0         626.025696    2.053878    2.582857         0       0  \n",
       "1         611.102661    0.078367    1.462857        36       2  \n",
       "2         608.448608    1.074286   -0.323265       447       1  \n",
       "3         609.607605   -0.355918    0.287347       535       1  \n",
       "4         614.175049    1.162449    1.802449       548       1  \n",
       "...              ...         ...         ...       ...     ...  \n",
       "10359555  548.873169    2.083265    0.453878       279       1  \n",
       "10359556  546.424866   -0.950204    0.006531       523       1  \n",
       "10359557  557.507385    3.438367    0.153469       113       1  \n",
       "10359558  551.534058    2.690612    0.607347        20       1  \n",
       "10359559  554.668152    0.473469    2.403265       382       1  \n",
       "\n",
       "[10359560 rows x 14 columns]"
      ]
     },
     "execution_count": 6,
     "metadata": {},
     "output_type": "execute_result"
    }
   ],
   "source": [
    "variables.data"
   ]
  },
  {
   "cell_type": "markdown",
   "metadata": {
    "tags": []
   },
   "source": [
    "<div style=\"margin: 0 auto; padding: 20px;\">\n",
    "\n",
    "# Temporal crop\n",
    "\n",
    "Select the data by drawing a rectangle over the experiment history. Experiment history is a 2D histogram of the time of flight of the ions versus sequence of evaporation. The experiment history is plotted by clicking on the button below te cell.\n",
    "</div>\n"
   ]
  },
  {
   "cell_type": "code",
   "execution_count": null,
   "metadata": {
    "tags": []
   },
   "outputs": [],
   "source": [
    "helper_temporal_crop.call_plot_crop_experiment(variables)"
   ]
  },
  {
   "cell_type": "markdown",
   "metadata": {
    "pycharm": {
     "name": "#%% md\n"
    }
   },
   "source": [
    "<div style=\"margin: 0 auto; padding: 20px; font-family: 'Helvetica', sans-serif; font-size: 16px;\">\n",
    "\n",
    "# Spacial crop\n",
    "\n",
    "Select the region of maximum concentration of Ions in the below plotted graph to utilize relevant data. To crop you can draw a circle over the filed desorption map. The field desorption map is a 2D histogram of the time of flight of the ions versus the position of the ions on the detector. The field desorption map is plotted by clicking on the button below the cell.\n",
    "</div>"
   ]
  },
  {
   "cell_type": "code",
   "execution_count": null,
   "metadata": {
    "tags": []
   },
   "outputs": [],
   "source": [
    "helper_special_crop.call_plot_crop_fdm(variables)"
   ]
  },
  {
   "cell_type": "markdown",
   "metadata": {},
   "source": [
    "<div style=\"margin: 0 auto; padding: 20px; font-family: 'Helvetica', sans-serif; font-size: 16px;\">\n",
    "\n",
    "Calculate pulses since the last event pulse and ions per pulse. The percentage of loss in ROI selection process will be printed.\n",
    "</div>"
   ]
  },
  {
   "cell_type": "code",
   "execution_count": null,
   "metadata": {
    "tags": []
   },
   "outputs": [],
   "source": [
    "pulse_pi, ion_pp = data_loadcrop.calculate_ppi_and_ipp(variables.data)\n",
    "\n",
    "# add two calculated array to the croped dataset\n",
    "variables.data['pulse_pi'] = pulse_pi.astype(np.uintc)\n",
    "variables.data['ion_pp'] = ion_pp.astype(np.uintc)\n",
    "\n",
    "# exctract needed data from Pandas data frame as an numpy array\n",
    "variables.dld_high_voltage = variables.data['high_voltage (V)'].to_numpy()\n",
    "variables.dld_pulse = variables.data['pulse'].to_numpy()\n",
    "variables.dld_t = variables.data['t (ns)'].to_numpy()\n",
    "variables.dld_x_det = variables.data['x_det (cm)'].to_numpy()\n",
    "variables.dld_y_det = variables.data['y_det (cm)'].to_numpy()\n",
    "\n",
    "# save the cropped data\n",
    "print('tof Crop Loss {:.2f} %'.format((100 - (len(variables.data) / len(variables.data)) * 100)))\n",
    "#percentage of double event per pulse\n",
    "print('percentage of double event per pulse', len(ion_pp[ion_pp != 1]) / float(len(ion_pp)))"
   ]
  },
  {
   "cell_type": "markdown",
   "metadata": {},
   "source": [
    "<div style=\"margin: 0 auto; padding: 20px; font-family: 'Helvetica', sans-serif; font-size: 16px;\">\n",
    "\n",
    "In the next cell by changing the t<sub>0</sub> value you can correct the position of H<sub>1</sub> or any other known peak. this correction would be helpful for the position of the peaks in the m/c calibration process.\n",
    "</div>"
   ]
  },
  {
   "cell_type": "code",
   "execution_count": null,
   "metadata": {
    "tags": []
   },
   "outputs": [],
   "source": [
    "helper_t_0_tune.call_fine_tune_t_0(variables, flight_path_length, pulse_mode, t0)"
   ]
  },
  {
   "cell_type": "markdown",
   "metadata": {},
   "source": [
    "<div style=\"margin: 0 auto; padding: 20px; font-family: 'Helvetica', sans-serif; font-size: 16px;\">\n",
    "\n",
    "Remove the data with m/c greater than max m/c and x, y, t = 0. Also add the needed colums for calibration. The data types of the final cropped dataset is displayed below.\n",
    "\n",
    "</div>"
   ]
  },
  {
   "cell_type": "code",
   "execution_count": null,
   "metadata": {
    "tags": []
   },
   "outputs": [],
   "source": [
    "# add the columns in the dataset for x, y, z, mc, mc calibrated, and t calibrated\n",
    "helper_data_loader.add_columns(variables, max_mc)\n",
    "# save data temporarily\n",
    "data_tools.save_data(variables.data, variables, hdf=True, epos=False, pos=False, ato_6v=False, csv=False)\n",
    "display(variables.data)\n",
    "display(variables.data.dtypes)"
   ]
  },
  {
   "cell_type": "markdown",
   "metadata": {},
   "source": [
    "-------------------------------------------------------\n",
    "-------------------------------------------------------"
   ]
  },
  {
   "cell_type": "markdown",
   "metadata": {
    "tags": []
   },
   "source": [
    "<div style=\"margin: 0 auto; padding: 20px; font-family: 'Helvetica', sans-serif; font-size: 16px;\">\n",
    "\n",
    "## Time-of-Flight Calibration Workflow\n",
    "\n",
    "</div>"
   ]
  },
  {
   "cell_type": "markdown",
   "metadata": {},
   "source": [
    "<div style=\"margin: 0 auto; padding: 20px; font-family: 'Helvetica', sans-serif; font-size: 16px;\">\n",
    "    \n",
    "Below you can plot the ToF histogram of the dataset. You can select the peak range of the data you want to plot by drawing a rectangle over peak with holding left click. After that you should apply the voltage and bowl calibration. These three steps should be repeated until you see no improvement in the peak resolution. You can also save the calibration by clicking on the save button. The saved calibration will be used for the next steps.\n",
    "\n",
    "</div>"
   ]
  },
  {
   "cell_type": "code",
   "execution_count": null,
   "metadata": {
    "tags": []
   },
   "outputs": [],
   "source": [
    "# exctract needed data from Pandas data frame as an numpy array\n",
    "data_tools.extract_data(variables.data, variables, flight_path_length.value, max_mc.value)\n",
    "calibration_mode = widgets.Dropdown(\n",
    "    options=[('time_of_flight', 'tof'), ('mass_to_charge', 'mc')],\n",
    "    description='calibration mode:')\n",
    "display(calibration_mode)"
   ]
  },
  {
   "cell_type": "code",
   "execution_count": null,
   "metadata": {
    "tags": []
   },
   "outputs": [],
   "source": [
    "helper_calibration.call_voltage_bowl_calibration(variables, det_diam, calibration_mode)"
   ]
  },
  {
   "cell_type": "code",
   "execution_count": null,
   "metadata": {
    "tags": []
   },
   "outputs": [],
   "source": [
    "variables.dld_t_calib_backup = np.copy(variables.dld_t_calib)\n",
    "variables.mc_calib_backup = np.copy(variables.mc_calib)"
   ]
  },
  {
   "cell_type": "code",
   "execution_count": null,
   "metadata": {
    "tags": []
   },
   "outputs": [],
   "source": [
    "helper_ion_list.call_ion_list(variables, selector='peak', calibration_mode=calibration_mode)"
   ]
  },
  {
   "cell_type": "code",
   "execution_count": null,
   "metadata": {
    "tags": []
   },
   "outputs": [],
   "source": [
    "helper_mc_plot.call_mc_plot(variables, selector='None')"
   ]
  },
  {
   "cell_type": "code",
   "execution_count": null,
   "metadata": {
    "tags": []
   },
   "outputs": [],
   "source": [
    "variables.data['mc_c (Da)'] = variables.mc_calib\n",
    "variables.data['t_c (ns)'] = variables.dld_t_calib\n",
    "# Remove negative mc\n",
    "threshold = 0\n",
    "mc_t = variables.data['mc_c (Da)'].to_numpy()\n",
    "mc_t_mask = (mc_t <= threshold)\n",
    "print('The number of ions with negative mc are:', len(mc_t_mask[mc_t_mask==True]))\n",
    "variables.data.drop(np.where(mc_t_mask)[0], inplace=True)\n",
    "variables.data.reset_index(inplace=True, drop=True)\n",
    "# save data temporarily\n",
    "data_tools.save_data(variables.data, variables, hdf=True, epos=False, pos=False, ato_6v=False, csv=False)"
   ]
  },
  {
   "cell_type": "markdown",
   "metadata": {},
   "source": [
    "-------------------------------------------------------\n",
    "-------------------------------------------------------"
   ]
  },
  {
   "cell_type": "markdown",
   "metadata": {
    "tags": []
   },
   "source": [
    "<div style=\"margin: 0 auto; padding: 20px; font-family: 'Helvetica', sans-serif; font-size: 16px;\">\n",
    "\n",
    "## 3D Reconstruction Workflow\n",
    "\n",
    "After bowl and voltage calibration we are ready to calculate the 3d reconstruction. In this workflow we calculate the reconstructed x,y,z and then plot the 3d, heatmap, projection plots and mass-to-charge histogram.\n",
    "\n",
    "</div>"
   ]
  },
  {
   "cell_type": "code",
   "execution_count": null,
   "metadata": {
    "tags": []
   },
   "outputs": [],
   "source": [
    "# exctract needed data from Pandas data frame as an numpy array\n",
    "data_tools.extract_data(variables.data, variables, flight_path_length.value, max_mc.value)\n",
    "\n",
    "display(variables.data)"
   ]
  },
  {
   "cell_type": "markdown",
   "metadata": {},
   "source": [
    "<div style=\"margin: 0 auto; padding: 20px; font-family: 'Helvetica', sans-serif; font-size: 16px;\">\n",
    "\n",
    "You have to select the main element in your sample from the from dropdown below.\n",
    "</div>"
   ]
  },
  {
   "cell_type": "code",
   "execution_count": 9,
   "metadata": {
    "tags": []
   },
   "outputs": [
    {
     "data": {
      "application/vnd.jupyter.widget-view+json": {
       "model_id": "ebc346b25c2246aa9b17475a50109055",
       "version_major": 2,
       "version_minor": 0
      },
      "text/plain": [
       "Dropdown(description='Element', options=((1, 'H', 52.7, 0.0), (2, 'He', 28.7, 0.0), (3, 'Li', 46.3, 14.0), (4,…"
      ]
     },
     "metadata": {},
     "output_type": "display_data"
    }
   ],
   "source": [
    "element_selected = wd.density_field_selection()\n",
    "display(element_selected)"
   ]
  },
  {
   "cell_type": "code",
   "execution_count": null,
   "metadata": {
    "tags": []
   },
   "outputs": [],
   "source": [
    "# import plotly.offline as py\n",
    "# py.init_notebook_mode(connected=True)"
   ]
  },
  {
   "cell_type": "code",
   "execution_count": 10,
   "metadata": {
    "tags": []
   },
   "outputs": [
    {
     "data": {
      "application/vnd.jupyter.widget-view+json": {
       "model_id": "d91cced2094643d4b9c2896af8792ee7",
       "version_major": 2,
       "version_minor": 0
      },
      "text/plain": [
       "VBox(children=(HBox(children=(Label(value='KF:', layout=Layout(width='200px')), FloatText(value=4.0), Label(va…"
      ]
     },
     "metadata": {},
     "output_type": "display_data"
    },
    {
     "data": {
      "application/vnd.jupyter.widget-view+json": {
       "model_id": "50f0160fb56744be988a7533638a5f7c",
       "version_major": 2,
       "version_minor": 0
      },
      "text/plain": [
       "Output()"
      ]
     },
     "metadata": {},
     "output_type": "display_data"
    }
   ],
   "source": [
    "helper_3d_reconstruction.call_x_y_z_calculation(variables, flight_path_length, element_selected)"
   ]
  },
  {
   "cell_type": "code",
   "execution_count": null,
   "metadata": {
    "tags": []
   },
   "outputs": [],
   "source": [
    "variables.data['x (nm)'] = variables.x\n",
    "variables.data['y (nm)'] = variables.y\n",
    "variables.data['z (nm)'] = variables.z\n",
    "# save data temporarily\n",
    "data_tools.save_data(variables.data, variables, hdf=True, epos=False, pos=False, ato_6v=False, csv=False)"
   ]
  },
  {
   "cell_type": "markdown",
   "metadata": {},
   "source": [
    "-------------------------------------------------------\n",
    "-------------------------------------------------------"
   ]
  },
  {
   "cell_type": "markdown",
   "metadata": {},
   "source": [
    "<div style=\"margin: 0 auto; padding: 20px; font-family: 'Helvetica', sans-serif; font-size: 16px;\">\n",
    "\n",
    "## Ion Selection and Rangging\n",
    "\n",
    "This tutorial outlines a comprehensive workflow for ion selection and organization. Users can choose ions using peak and element finders, manually add ions, customize ion colors, and create histograms. Histograms can be generated for selected ranges and areas, and figures can be saved. Additionally, users have the option to save both figures and data in CSV and HDF5 formats.\n",
    "\n",
    "</div>"
   ]
  },
  {
   "cell_type": "code",
   "execution_count": null,
   "metadata": {
    "tags": []
   },
   "outputs": [],
   "source": [
    "# exctract needed data from Pandas data frame as an numpy array\n",
    "data_tools.extract_data(variables.data, variables, flight_path_length.value, max_mc.value)\n",
    "\n",
    "display(variables.data)"
   ]
  },
  {
   "cell_type": "code",
   "execution_count": null,
   "metadata": {
    "tags": []
   },
   "outputs": [],
   "source": [
    "helper_ion_selection.call_ion_selection(variables)"
   ]
  },
  {
   "cell_type": "code",
   "execution_count": null,
   "metadata": {
    "tags": []
   },
   "outputs": [],
   "source": [
    "variables.range_data"
   ]
  },
  {
   "cell_type": "code",
   "execution_count": null,
   "metadata": {
    "tags": []
   },
   "outputs": [],
   "source": [
    "variables.range_data.dtypes"
   ]
  },
  {
   "cell_type": "markdown",
   "metadata": {},
   "source": [
    "<div style=\"margin: 0 auto; padding: 20px; font-family: 'Helvetica', sans-serif; font-size: 16px;\">\n",
    "\n",
    "Save the range in the hdf5 and csv format.\n",
    "\n",
    "</div>"
   ]
  },
  {
   "cell_type": "code",
   "execution_count": null,
   "metadata": {},
   "outputs": [],
   "source": [
    "# save the new data\n",
    "name_save_file = variables.result_data_path + '/' + 'range_' + variables.dataset_name + '.h5'\n",
    "data_tools.store_df_to_hdf(variables.range_data,  'df', name_save_file)\n",
    "# save data in csv format\n",
    "name_save_file = variables.result_data_path + '/' + 'range_' + variables.dataset_name + '.csv'\n",
    "data_tools.store_df_to_csv(variables.range_data, name_save_file)"
   ]
  },
  {
   "cell_type": "markdown",
   "metadata": {},
   "source": [
    "<div style=\"margin: 0 auto; padding: 20px; font-family: 'Helvetica', sans-serif; font-size: 16px;\">\n",
    "\n",
    "Save the cropped dataset. You can specify te output format from list below. The output formats are HDF5, EPOS, POS, ATO, and CSV. The output file will be saved in the same directory as the original dataset file in a new directory nammed load_crop.\n",
    "</div>"
   ]
  },
  {
   "cell_type": "code",
   "execution_count": null,
   "metadata": {},
   "outputs": [],
   "source": [
    "interact_manual(data_tools.save_data, data=fixed(variables.data), variables=fixed(variables),\n",
    "                hdf=widgets.Dropdown(options=[('True', True), ('False', False)]),\n",
    "                epos=widgets.Dropdown(options=[('False', False), ('True', True)]),\n",
    "                pos=widgets.Dropdown(options=[('False', False), ('True', True)]),\n",
    "                ato_6v=widgets.Dropdown(options=[('False', False), ('True', True)]),\n",
    "                csv=widgets.Dropdown(options=[('False', False), ('True', True)]));"
   ]
  },
  {
   "cell_type": "markdown",
   "metadata": {},
   "source": [
    "-------------------------------------------------------\n",
    "-------------------------------------------------------"
   ]
  },
  {
   "cell_type": "markdown",
   "metadata": {},
   "source": [
    "<div style=\"margin: 0 auto; padding: 20px; font-family: 'Helvetica', sans-serif; font-size: 16px;\">\n",
    "    \n",
    "# Visualization\n",
    "    \n",
    "</div>"
   ]
  },
  {
   "cell_type": "code",
   "execution_count": null,
   "metadata": {
    "tags": []
   },
   "outputs": [],
   "source": [
    "helper_visualization.call_visualization(variables)"
   ]
  },
  {
   "cell_type": "code",
   "execution_count": 14,
   "metadata": {},
   "outputs": [
    {
     "data": {
      "text/plain": [
       "array([16.24153407,  0.64999749,  8.95553548, ..., 34.29849115,\n",
       "       27.44979228,  4.87282548])"
      ]
     },
     "execution_count": 14,
     "metadata": {},
     "output_type": "execute_result"
    }
   ],
   "source": [
    "variables.x"
   ]
  },
  {
   "cell_type": "code",
   "execution_count": null,
   "metadata": {
    "tags": []
   },
   "outputs": [
    {
     "data": {
      "text/html": [
       "        <script type=\"text/javascript\">\n",
       "        window.PlotlyConfig = {MathJaxConfig: 'local'};\n",
       "        if (window.MathJax && window.MathJax.Hub && window.MathJax.Hub.Config) {window.MathJax.Hub.Config({SVG: {font: \"STIX-Web\"}});}\n",
       "        if (typeof require !== 'undefined') {\n",
       "        require.undef(\"plotly\");\n",
       "        requirejs.config({\n",
       "            paths: {\n",
       "                'plotly': ['https://cdn.plot.ly/plotly-2.26.0.min']\n",
       "            }\n",
       "        });\n",
       "        require(['plotly'], function(Plotly) {\n",
       "            window._Plotly = Plotly;\n",
       "        });\n",
       "        }\n",
       "        </script>\n",
       "        "
      ]
     },
     "metadata": {},
     "output_type": "display_data"
    }
   ],
   "source": [
    "from pyccapt.calibration.reconstructions import reconstruction\n",
    "\n",
    "display(reconstruction.reconstruction_plot(variables, element_percentage=[0.001, 0.001, 0.001], opacity=0.5, rotary_fig_save=False, figname='22', save=True, selected_area_specially=False,\n",
    "                        selected_area_temporally=False, ions_individually_plots=False))"
   ]
  },
  {
   "cell_type": "code",
   "execution_count": null,
   "metadata": {},
   "outputs": [],
   "source": []
  },
  {
   "cell_type": "code",
   "execution_count": null,
   "metadata": {},
   "outputs": [],
   "source": []
  }
 ],
 "metadata": {
  "kernelspec": {
   "display_name": "Python 3 (ipykernel)",
   "language": "python",
   "name": "python3"
  },
  "language_info": {
   "codemirror_mode": {
    "name": "ipython",
    "version": 3
   },
   "file_extension": ".py",
   "mimetype": "text/x-python",
   "name": "python",
   "nbconvert_exporter": "python",
   "pygments_lexer": "ipython3",
   "version": "3.11.5"
  },
  "widgets": {
   "application/vnd.jupyter.widget-state+json": {
    "state": {},
    "version_major": 2,
    "version_minor": 0
   }
  }
 },
 "nbformat": 4,
 "nbformat_minor": 4
}

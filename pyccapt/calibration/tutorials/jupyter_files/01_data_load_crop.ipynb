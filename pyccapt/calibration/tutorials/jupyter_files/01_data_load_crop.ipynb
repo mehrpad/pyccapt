{
 "cells": [
  {
   "cell_type": "markdown",
   "metadata": {
    "pycharm": {
     "name": "#%% md\n"
    }
   },
   "source": [
    "$\\textbf{ROI slection}$<br>\n",
    "$\\text{In this workflow we crop the data temporaly and specialy. We also calculate the raw mc, pulse per ions and ion per pulse. }$"
   ]
  },
  {
   "cell_type": "code",
   "execution_count": 1,
   "metadata": {
    "pycharm": {
     "name": "#%%\n"
    },
    "tags": []
   },
   "outputs": [],
   "source": [
    "# Activate intractive functionality of matplotlib\n",
    "# Activate intractive functionality of matplotlib\n",
    "%matplotlib ipympl\n",
    "# Activate auto reload \n",
    "%load_ext autoreload\n",
    "%autoreload 2\n",
    "%reload_ext autoreload\n",
    "# import libraries\n",
    "import os\n",
    "import numpy as np\n",
    "from ipywidgets import fixed\n",
    "from ipywidgets import interact_manual\n",
    "from ipywidgets import widgets\n",
    "\n",
    "# Local module and scripts\n",
    "from pyccapt.calibration.calibration_tools import share_variables, calibration, ion_selection\n",
    "from pyccapt.calibration.calibration_tools import widgets as wd\n",
    "from pyccapt.calibration.data_tools import data_tools, data_loadcrop, dataset_path_qt\n",
    "from pyccapt.calibration.mc import mc_tools, tof_tools"
   ]
  },
  {
   "cell_type": "code",
   "execution_count": 2,
   "metadata": {
    "tags": []
   },
   "outputs": [],
   "source": [
    "# Disable showing logging in Jupyter notebook\n",
    "# logging.disable(sys.maxsize)"
   ]
  },
  {
   "cell_type": "code",
   "execution_count": 3,
   "metadata": {
    "tags": []
   },
   "outputs": [
    {
     "data": {
      "application/vnd.jupyter.widget-view+json": {
       "model_id": "ba9220ab9e084a19b5a861ad61a78281",
       "version_major": 2,
       "version_minor": 0
      },
      "text/plain": [
       "Button(description='load dataset', style=ButtonStyle())"
      ]
     },
     "execution_count": 3,
     "metadata": {},
     "output_type": "execute_result"
    }
   ],
   "source": [
    "button = widgets.Button(\n",
    "    description='load dataset',\n",
    ")\n",
    "@button.on_click\n",
    "def open_file_on_click(b):\n",
    "    \"\"\"\n",
    "    Event handler for button click event.\n",
    "    Prompts the user to select a dataset file and stores the selected file path in the global variable dataset_path.\n",
    "    \"\"\"\n",
    "    global dataset_path\n",
    "    dataset_path = dataset_path_qt.gui_fname().decode('ASCII')\n",
    "button"
   ]
  },
  {
   "cell_type": "code",
   "execution_count": 4,
   "metadata": {
    "pycharm": {
     "name": "#%%\n"
    },
    "tags": []
   },
   "outputs": [],
   "source": [
    "# check pytables library and install it\n",
    "# try:\n",
    "#     import tables\n",
    "# except:\n",
    "#     !conda install --yes --prefix {sys.prefix} pytables"
   ]
  },
  {
   "cell_type": "code",
   "execution_count": 4,
   "metadata": {
    "tags": []
   },
   "outputs": [
    {
     "data": {
      "application/vnd.jupyter.widget-view+json": {
       "model_id": "a6ee3de1a3144c519f98c7d28ba72a64",
       "version_major": 2,
       "version_minor": 0
      },
      "text/plain": [
       "Dropdown(description='Data mode:', options=('surface_concept', 'roentdec', 'leap_epos', 'leap_pos', 'ato_v6'),…"
      ]
     },
     "metadata": {},
     "output_type": "display_data"
    },
    {
     "data": {
      "application/vnd.jupyter.widget-view+json": {
       "model_id": "1909382be5f7499ea51f33db444281c1",
       "version_major": 2,
       "version_minor": 0
      },
      "text/plain": [
       "Dropdown(description='Pulse mode:', options=('voltage', 'laser'), value='voltage')"
      ]
     },
     "metadata": {},
     "output_type": "display_data"
    },
    {
     "data": {
      "application/vnd.jupyter.widget-view+json": {
       "model_id": "56ad5cfe3bca4c6681118dc3f271d1e4",
       "version_major": 2,
       "version_minor": 0
      },
      "text/plain": [
       "FloatText(value=110.0, description='Flight path length:')"
      ]
     },
     "metadata": {},
     "output_type": "display_data"
    },
    {
     "data": {
      "application/vnd.jupyter.widget-view+json": {
       "model_id": "9f736c9239f64177b6d8e42f24fb0512",
       "version_major": 2,
       "version_minor": 0
      },
      "text/plain": [
       "FloatText(value=54.0, description='t0:')"
      ]
     },
     "metadata": {},
     "output_type": "display_data"
    },
    {
     "data": {
      "application/vnd.jupyter.widget-view+json": {
       "model_id": "799a5bc0d1714f59b038889fe6d338fb",
       "version_major": 2,
       "version_minor": 0
      },
      "text/plain": [
       "FloatText(value=400.0, description='Max mc:')"
      ]
     },
     "metadata": {},
     "output_type": "display_data"
    }
   ],
   "source": [
    "# create object for selection of instrument specifications of the dataset\n",
    "tdc, pulse_mode, flightPathLength_d, t0_d, max_mc, det_diam = wd.dataset_instrument_specification_selection()\n",
    "\n",
    "# Display lists and comboboxes to selected instrument specifications\n",
    "display(tdc, pulse_mode, flightPathLength_d, t0_d, max_mc)"
   ]
  },
  {
   "cell_type": "code",
   "execution_count": 5,
   "metadata": {
    "pycharm": {
     "name": "#%%\n"
    },
    "tags": []
   },
   "outputs": [
    {
     "name": "stdout",
     "output_type": "stream",
     "text": [
      "The maximum possible TOF is: 5010 ns\n",
      "=============================\n",
      "The data will be saved on the path: D:/pyccapt/tests/data/SS-420-1_data\n",
      "=============================\n",
      "The dataset name after saving is: cropped_SS-420-1_data\n",
      "=============================\n",
      "The figures will be saved on the path: D:/pyccapt/tests/data/SS-420-1_data/load_crop/\n",
      "=============================\n",
      "{'cropped_dld': ['high_voltage', 'pulse_voltage', 'start_counter', 't', 'x', 'y'], 'dld': ['high_voltage', 'pulse', 'start_counter', 't', 'x', 'y'], 'oxcart': ['high_voltage', 'main_chamber_vacuum', 'num_events', 'pulse_voltage', 'temperature', 'time_counter'], 'tdc': ['channel', 'high_voltage', 'pulse_voltage', 'start_counter', 'time_data'], 'time': ['time_h', 'time_m', 'time_s']}\n",
      "The number of data over max_tof: 5793\n",
      "Total number of Ions: 6762021\n"
     ]
    }
   ],
   "source": [
    "# Calculate the maximum possible time of flight (TOF)\n",
    "max_tof = int(tof_tools.mc2tof(max_mc.value, 1000, 0, 0, flightPathLength_d.value))\n",
    "print('The maximum possible TOF is:', max_tof, 'ns')\n",
    "print('=============================')\n",
    "# create an instance of the Variables opject\n",
    "variables = share_variables.Variables()\n",
    "variables.pulse_mode = pulse_mode.value\n",
    "dataset_main_path = os.path.dirname(dataset_path)\n",
    "dataset_name_with_extention = os.path.basename(dataset_path)\n",
    "variables.dataset_name = os.path.splitext(dataset_name_with_extention)[0]\n",
    "variables.result_data_path = dataset_main_path + '/' + variables.dataset_name \n",
    "variables.result_data_name = 'cropped_' +  variables.dataset_name \n",
    "variables.result_path = dataset_main_path + '/' + variables.dataset_name + '/load_crop/'\n",
    "\n",
    "if not os.path.isdir(variables.result_path):\n",
    "    os.makedirs(variables.result_path, mode=0o777, exist_ok=True)\n",
    "\n",
    "print('The data will be saved on the path:', variables.result_data_path)\n",
    "print('=============================')\n",
    "print('The dataset name after saving is:', variables.result_data_name)\n",
    "print('=============================')\n",
    "print('The figures will be saved on the path:', variables.result_path)\n",
    "print('=============================')\n",
    "\n",
    "# Create data farame out of hdf5 file dataset\n",
    "dld_group_storage = data_tools.load_data(dataset_path, tdc.value, mode='raw')\n",
    "\n",
    "# Remove the data with tof greater thatn Max TOF or below 0 ns\n",
    "data = data_tools.remove_invalid_data(dld_group_storage, max_tof)\n",
    "print('Total number of Ions:', len(data))"
   ]
  },
  {
   "cell_type": "code",
   "execution_count": 6,
   "metadata": {
    "tags": []
   },
   "outputs": [
    {
     "data": {
      "text/html": [
       "<div>\n",
       "<style scoped>\n",
       "    .dataframe tbody tr th:only-of-type {\n",
       "        vertical-align: middle;\n",
       "    }\n",
       "\n",
       "    .dataframe tbody tr th {\n",
       "        vertical-align: top;\n",
       "    }\n",
       "\n",
       "    .dataframe thead th {\n",
       "        text-align: right;\n",
       "    }\n",
       "</style>\n",
       "<table border=\"1\" class=\"dataframe\">\n",
       "  <thead>\n",
       "    <tr style=\"text-align: right;\">\n",
       "      <th></th>\n",
       "      <th>high_voltage (V)</th>\n",
       "      <th>pulse</th>\n",
       "      <th>start_counter</th>\n",
       "      <th>t (ns)</th>\n",
       "      <th>x_det (cm)</th>\n",
       "      <th>y_det (cm)</th>\n",
       "    </tr>\n",
       "  </thead>\n",
       "  <tbody>\n",
       "    <tr>\n",
       "      <th>0</th>\n",
       "      <td>511.000000</td>\n",
       "      <td>511.000000</td>\n",
       "      <td>31425</td>\n",
       "      <td>85.025484</td>\n",
       "      <td>-1.423102</td>\n",
       "      <td>0.996490</td>\n",
       "    </tr>\n",
       "    <tr>\n",
       "      <th>1</th>\n",
       "      <td>516.997009</td>\n",
       "      <td>516.997009</td>\n",
       "      <td>42846</td>\n",
       "      <td>3282.458256</td>\n",
       "      <td>-2.088490</td>\n",
       "      <td>-1.977061</td>\n",
       "    </tr>\n",
       "    <tr>\n",
       "      <th>2</th>\n",
       "      <td>519.994019</td>\n",
       "      <td>519.994019</td>\n",
       "      <td>31756</td>\n",
       "      <td>1688.405310</td>\n",
       "      <td>2.330449</td>\n",
       "      <td>1.308490</td>\n",
       "    </tr>\n",
       "    <tr>\n",
       "      <th>3</th>\n",
       "      <td>521.990479</td>\n",
       "      <td>521.990479</td>\n",
       "      <td>14241</td>\n",
       "      <td>3585.328110</td>\n",
       "      <td>0.178286</td>\n",
       "      <td>2.470531</td>\n",
       "    </tr>\n",
       "    <tr>\n",
       "      <th>4</th>\n",
       "      <td>521.990479</td>\n",
       "      <td>521.990479</td>\n",
       "      <td>14241</td>\n",
       "      <td>3691.263636</td>\n",
       "      <td>0.092327</td>\n",
       "      <td>2.292245</td>\n",
       "    </tr>\n",
       "    <tr>\n",
       "      <th>...</th>\n",
       "      <td>...</td>\n",
       "      <td>...</td>\n",
       "      <td>...</td>\n",
       "      <td>...</td>\n",
       "      <td>...</td>\n",
       "      <td>...</td>\n",
       "    </tr>\n",
       "    <tr>\n",
       "      <th>6762016</th>\n",
       "      <td>12000.616211</td>\n",
       "      <td>12000.616211</td>\n",
       "      <td>25166</td>\n",
       "      <td>2153.151396</td>\n",
       "      <td>-1.782857</td>\n",
       "      <td>-0.996490</td>\n",
       "    </tr>\n",
       "    <tr>\n",
       "      <th>6762017</th>\n",
       "      <td>12000.616211</td>\n",
       "      <td>12000.616211</td>\n",
       "      <td>32372</td>\n",
       "      <td>1155.758166</td>\n",
       "      <td>0.729061</td>\n",
       "      <td>1.712816</td>\n",
       "    </tr>\n",
       "    <tr>\n",
       "      <th>6762018</th>\n",
       "      <td>12000.616211</td>\n",
       "      <td>12000.616211</td>\n",
       "      <td>27143</td>\n",
       "      <td>2923.215642</td>\n",
       "      <td>0.563510</td>\n",
       "      <td>0.748163</td>\n",
       "    </tr>\n",
       "    <tr>\n",
       "      <th>6762019</th>\n",
       "      <td>12000.616211</td>\n",
       "      <td>12000.616211</td>\n",
       "      <td>32451</td>\n",
       "      <td>2108.793852</td>\n",
       "      <td>0.553959</td>\n",
       "      <td>1.875184</td>\n",
       "    </tr>\n",
       "    <tr>\n",
       "      <th>6762020</th>\n",
       "      <td>12000.616211</td>\n",
       "      <td>12000.616211</td>\n",
       "      <td>32729</td>\n",
       "      <td>3197.377908</td>\n",
       "      <td>1.372163</td>\n",
       "      <td>1.633224</td>\n",
       "    </tr>\n",
       "  </tbody>\n",
       "</table>\n",
       "<p>6762021 rows × 6 columns</p>\n",
       "</div>"
      ],
      "text/plain": [
       "         high_voltage (V)         pulse  start_counter       t (ns)  \\\n",
       "0              511.000000    511.000000          31425    85.025484   \n",
       "1              516.997009    516.997009          42846  3282.458256   \n",
       "2              519.994019    519.994019          31756  1688.405310   \n",
       "3              521.990479    521.990479          14241  3585.328110   \n",
       "4              521.990479    521.990479          14241  3691.263636   \n",
       "...                   ...           ...            ...          ...   \n",
       "6762016      12000.616211  12000.616211          25166  2153.151396   \n",
       "6762017      12000.616211  12000.616211          32372  1155.758166   \n",
       "6762018      12000.616211  12000.616211          27143  2923.215642   \n",
       "6762019      12000.616211  12000.616211          32451  2108.793852   \n",
       "6762020      12000.616211  12000.616211          32729  3197.377908   \n",
       "\n",
       "         x_det (cm)  y_det (cm)  \n",
       "0         -1.423102    0.996490  \n",
       "1         -2.088490   -1.977061  \n",
       "2          2.330449    1.308490  \n",
       "3          0.178286    2.470531  \n",
       "4          0.092327    2.292245  \n",
       "...             ...         ...  \n",
       "6762016   -1.782857   -0.996490  \n",
       "6762017    0.729061    1.712816  \n",
       "6762018    0.563510    0.748163  \n",
       "6762019    0.553959    1.875184  \n",
       "6762020    1.372163    1.633224  \n",
       "\n",
       "[6762021 rows x 6 columns]"
      ]
     },
     "execution_count": 6,
     "metadata": {},
     "output_type": "execute_result"
    }
   ],
   "source": [
    "data"
   ]
  },
  {
   "cell_type": "markdown",
   "metadata": {
    "tags": []
   },
   "source": [
    "$\\textbf {Temporal crop}$\n",
    "<br>\n",
    "<br>\n",
    "$\\text {Select the data by drawing a rectangel over the experiment history}$"
   ]
  },
  {
   "cell_type": "code",
   "execution_count": 7,
   "metadata": {
    "pycharm": {
     "name": "#%%\n"
    },
    "tags": []
   },
   "outputs": [
    {
     "name": "stderr",
     "output_type": "stream",
     "text": [
      "C:\\Users\\APTUser\\AppData\\Local\\Temp\\ipykernel_1848\\797085356.py:1: DeprecationWarning: on_submit is deprecated. Instead, set the .continuous_update attribute to False and observe the value changing with: mywidget.observe(callback, 'value').\n",
      "  interact_manual(data_loadcrop.plot_crop_experiment_history, data=fixed(data), variables=fixed(variables), max_tof=widgets.FloatText(value=max_tof), frac=widgets.FloatText(value=1.0),\n"
     ]
    },
    {
     "data": {
      "application/vnd.jupyter.widget-view+json": {
       "model_id": "c8c0c1b90228418cb9ade0b8ccd86ff6",
       "version_major": 2,
       "version_minor": 0
      },
      "text/plain": [
       "interactive(children=(FloatText(value=5010.0, description='max_tof'), FloatText(value=1.0, description='frac')…"
      ]
     },
     "metadata": {},
     "output_type": "display_data"
    }
   ],
   "source": [
    "interact_manual(data_loadcrop.plot_crop_experiment_history, data=fixed(data), variables=fixed(variables), max_tof=widgets.FloatText(value=max_tof), frac=widgets.FloatText(value=1.0),\n",
    "                bins=fixed((1200,800)), figure_size=fixed((7,3)),\n",
    "               draw_rect=fixed(False), data_crop=fixed(True), pulse=widgets.Dropdown(options=[('False', False), ('True', True)]), \n",
    "                pulse_mode=widgets.Dropdown(options=[('voltage', 'voltage'), ('laser', 'laser')]), save=widgets.Dropdown(options=[('True', True), ('False', False)]),\n",
    "               figname=widgets.Text(value='hist_ini'));\n"
   ]
  },
  {
   "cell_type": "markdown",
   "metadata": {
    "pycharm": {
     "name": "#%% md\n"
    }
   },
   "source": [
    "$\\text{Boundaries of the selected(cropped) part of the graph is printed below}$"
   ]
  },
  {
   "cell_type": "code",
   "execution_count": 8,
   "metadata": {
    "pycharm": {
     "name": "#%%\n"
    },
    "tags": []
   },
   "outputs": [
    {
     "name": "stderr",
     "output_type": "stream",
     "text": [
      "C:\\Users\\APTUser\\AppData\\Local\\Temp\\ipykernel_1848\\2819923865.py:2: DeprecationWarning: on_submit is deprecated. Instead, set the .continuous_update attribute to False and observe the value changing with: mywidget.observe(callback, 'value').\n",
      "  interact_manual(data_loadcrop.plot_crop_experiment_history, data=fixed(data), variables=fixed(variables), max_tof=widgets.FloatText(value=max_tof), frac=widgets.FloatText(value=1.0),\n"
     ]
    },
    {
     "data": {
      "application/vnd.jupyter.widget-view+json": {
       "model_id": "c924a62fbdf34e68b1af36137a9910e5",
       "version_major": 2,
       "version_minor": 0
      },
      "text/plain": [
       "interactive(children=(FloatText(value=5010.0, description='max_tof'), FloatText(value=1.0, description='frac')…"
      ]
     },
     "metadata": {},
     "output_type": "display_data"
    }
   ],
   "source": [
    "# Plot and selected experiment history\n",
    "interact_manual(data_loadcrop.plot_crop_experiment_history, data=fixed(data), variables=fixed(variables), max_tof=widgets.FloatText(value=max_tof), frac=widgets.FloatText(value=1.0),\n",
    "                bins=fixed((1200,800)), figure_size=fixed((7,3)),\n",
    "               draw_rect=fixed(True), data_crop=fixed(False), pulse=widgets.Dropdown(options=[('False', False), ('True', True)]), \n",
    "                pulse_mode=widgets.Dropdown(options=[('voltage', 'voltage'), ('laser', 'laser')]), save=widgets.Dropdown(options=[('True', True), ('False', False)]),\n",
    "               figname=widgets.Text(value='hist_rect'));\n"
   ]
  },
  {
   "cell_type": "code",
   "execution_count": 9,
   "metadata": {
    "tags": []
   },
   "outputs": [
    {
     "name": "stdout",
     "output_type": "stream",
     "text": [
      "Min Idx: 114773.04020878486 Max Idx: 6705663.848178569\n"
     ]
    }
   ],
   "source": [
    "# Crop the dataset\n",
    "print('Min Idx:', variables.selected_x1, 'Max Idx:', variables.selected_x2)\n",
    "data_crop_t = data_loadcrop.crop_dataset(data, variables)"
   ]
  },
  {
   "cell_type": "markdown",
   "metadata": {
    "pycharm": {
     "name": "#%% md\n"
    }
   },
   "source": [
    "$\\textbf {Spacial crop}$\n",
    "<br>\n",
    "<br>\n",
    "$\\text {Select the region of maximum concentration of Ions in the below plotted graph to utlize relevant data}$"
   ]
  },
  {
   "cell_type": "code",
   "execution_count": 10,
   "metadata": {
    "pycharm": {
     "name": "#%%\n"
    },
    "tags": []
   },
   "outputs": [
    {
     "name": "stderr",
     "output_type": "stream",
     "text": [
      "C:\\Users\\APTUser\\AppData\\Local\\Temp\\ipykernel_1848\\1567814332.py:2: DeprecationWarning: on_submit is deprecated. Instead, set the .continuous_update attribute to False and observe the value changing with: mywidget.observe(callback, 'value').\n",
      "  interact_manual(data_loadcrop.plot_crop_fdm, data=fixed(data_crop_t), variables=fixed(variables), frac=widgets.FloatText(value=1.0),\n"
     ]
    },
    {
     "data": {
      "application/vnd.jupyter.widget-view+json": {
       "model_id": "eac5b517975643169c8a539553d1f632",
       "version_major": 2,
       "version_minor": 0
      },
      "text/plain": [
       "interactive(children=(FloatText(value=1.0, description='frac'), Dropdown(description='save', options=(('True',…"
      ]
     },
     "metadata": {},
     "output_type": "display_data"
    }
   ],
   "source": [
    "# Plot and select the FDM\n",
    "interact_manual(data_loadcrop.plot_crop_fdm, data=fixed(data_crop_t), variables=fixed(variables), frac=widgets.FloatText(value=1.0),\n",
    "                bins=fixed((256,256)), figure_size=fixed((5,4)),\n",
    "               draw_circle=fixed(False), data_crop=fixed(True), \n",
    "                save=widgets.Dropdown(options=[('True', True), ('False', False)]),\n",
    "               figname=widgets.Text(value='fdm_ini'));"
   ]
  },
  {
   "cell_type": "markdown",
   "metadata": {
    "pycharm": {
     "name": "#%% md\n"
    }
   },
   "source": [
    "$\\text {The region selected in the previous step is displayed below.}$"
   ]
  },
  {
   "cell_type": "code",
   "execution_count": 11,
   "metadata": {
    "pycharm": {
     "name": "#%%\n"
    },
    "tags": []
   },
   "outputs": [
    {
     "name": "stderr",
     "output_type": "stream",
     "text": [
      "C:\\Users\\APTUser\\AppData\\Local\\Temp\\ipykernel_1848\\3314188428.py:2: DeprecationWarning: on_submit is deprecated. Instead, set the .continuous_update attribute to False and observe the value changing with: mywidget.observe(callback, 'value').\n",
      "  interact_manual(data_loadcrop.plot_crop_fdm, data=fixed(data_crop_t), variables=fixed(variables), frac=widgets.FloatText(value=1.0),\n"
     ]
    },
    {
     "data": {
      "application/vnd.jupyter.widget-view+json": {
       "model_id": "6caf48fc57274f00a17e99de7e7cd8bb",
       "version_major": 2,
       "version_minor": 0
      },
      "text/plain": [
       "interactive(children=(FloatText(value=1.0, description='frac'), Dropdown(description='save', options=(('True',…"
      ]
     },
     "metadata": {},
     "output_type": "display_data"
    }
   ],
   "source": [
    "# plot selected area in FDM\n",
    "interact_manual(data_loadcrop.plot_crop_fdm, data=fixed(data_crop_t), variables=fixed(variables), frac=widgets.FloatText(value=1.0),\n",
    "                bins=fixed((256,256)), figure_size=fixed((5,4)),\n",
    "                draw_circle=fixed(True), data_crop=fixed(False), \n",
    "                save=widgets.Dropdown(options=[('True', True), ('False', False)]),\n",
    "               figname=widgets.Text(value='fdm_circle'));"
   ]
  },
  {
   "cell_type": "code",
   "execution_count": 12,
   "metadata": {
    "tags": []
   },
   "outputs": [
    {
     "name": "stdout",
     "output_type": "stream",
     "text": [
      "center x: 0.11198411352703408 center y: -0.09226597988916652\n",
      "Radios: 3.5779189586644042\n"
     ]
    },
    {
     "name": "stderr",
     "output_type": "stream",
     "text": [
      "d:\\pyccapt\\pyccapt\\calibration\\data_tools\\data_loadcrop.py:296: SettingWithCopyWarning: \n",
      "A value is trying to be set on a copy of a slice from a DataFrame\n",
      "\n",
      "See the caveats in the documentation: https://pandas.pydata.org/pandas-docs/stable/user_guide/indexing.html#returning-a-view-versus-a-copy\n",
      "  data_crop.drop(np.where(mask_fdm)[0], inplace=True)\n"
     ]
    }
   ],
   "source": [
    "# Crop the dataset\n",
    "print('center x:', variables.selected_x_fdm, 'center y:', variables.selected_y_fdm)\n",
    "print('Radios:', variables.roi_fdm)\n",
    "data_crop_spatial = data_loadcrop.crop_data_after_selection(data_crop_t, variables)"
   ]
  },
  {
   "cell_type": "markdown",
   "metadata": {
    "pycharm": {
     "name": "#%% md\n"
    }
   },
   "source": [
    "$\\text {The final selected data after processing is shown below.}$"
   ]
  },
  {
   "cell_type": "code",
   "execution_count": 13,
   "metadata": {
    "pycharm": {
     "name": "#%%\n"
    },
    "tags": []
   },
   "outputs": [
    {
     "name": "stderr",
     "output_type": "stream",
     "text": [
      "C:\\Users\\APTUser\\AppData\\Local\\Temp\\ipykernel_1848\\2530233233.py:2: DeprecationWarning: on_submit is deprecated. Instead, set the .continuous_update attribute to False and observe the value changing with: mywidget.observe(callback, 'value').\n",
      "  interact_manual(data_loadcrop.plot_crop_fdm, data=fixed(data_crop_spatial), variables=fixed(variables), frac=widgets.FloatText(value=1.0),\n"
     ]
    },
    {
     "data": {
      "application/vnd.jupyter.widget-view+json": {
       "model_id": "6e45a2fbb30c4215a095119416fdeebd",
       "version_major": 2,
       "version_minor": 0
      },
      "text/plain": [
       "interactive(children=(FloatText(value=1.0, description='frac'), Dropdown(description='save', options=(('True',…"
      ]
     },
     "metadata": {},
     "output_type": "display_data"
    }
   ],
   "source": [
    "# Crop and plot the dataset\n",
    "interact_manual(data_loadcrop.plot_crop_fdm, data=fixed(data_crop_spatial), variables=fixed(variables), frac=widgets.FloatText(value=1.0),\n",
    "                bins=fixed((256,256)), figure_size=fixed((5,4)),\n",
    "               draw_circle=fixed(False), data_crop=fixed(False), \n",
    "                save=widgets.Dropdown(options=[('True', True), ('False', False)]),\n",
    "               figname=widgets.Text(value='fdm'));"
   ]
  },
  {
   "cell_type": "markdown",
   "metadata": {},
   "source": [
    "$\\text {Calculate pulses since the last event pulse and ions per pulse.}$"
   ]
  },
  {
   "cell_type": "code",
   "execution_count": 14,
   "metadata": {
    "tags": []
   },
   "outputs": [
    {
     "name": "stderr",
     "output_type": "stream",
     "text": [
      "d:\\pyccapt\\pyccapt\\calibration\\data_tools\\data_loadcrop.py:343: RuntimeWarning: overflow encountered in ulong_scalars\n",
      "  pulse_pi[i] = current_counter - previous_counter\n",
      "d:\\pyccapt\\pyccapt\\calibration\\data_tools\\data_loadcrop.py:348: RuntimeWarning: overflow encountered in ulong_scalars\n",
      "  pulse_to_previous_ion = current_counter - previous_counter\n",
      "C:\\Users\\APTUser\\AppData\\Local\\Temp\\ipykernel_1848\\949659944.py:4: SettingWithCopyWarning: \n",
      "A value is trying to be set on a copy of a slice from a DataFrame.\n",
      "Try using .loc[row_indexer,col_indexer] = value instead\n",
      "\n",
      "See the caveats in the documentation: https://pandas.pydata.org/pandas-docs/stable/user_guide/indexing.html#returning-a-view-versus-a-copy\n",
      "  data_crop_spatial['pulse_pi'] = pulse_pi.astype(np.uintc)\n",
      "C:\\Users\\APTUser\\AppData\\Local\\Temp\\ipykernel_1848\\949659944.py:5: SettingWithCopyWarning: \n",
      "A value is trying to be set on a copy of a slice from a DataFrame.\n",
      "Try using .loc[row_indexer,col_indexer] = value instead\n",
      "\n",
      "See the caveats in the documentation: https://pandas.pydata.org/pandas-docs/stable/user_guide/indexing.html#returning-a-view-versus-a-copy\n",
      "  data_crop_spatial['ion_pp'] = ion_pp.astype(np.uintc)\n"
     ]
    }
   ],
   "source": [
    "pulse_pi, ion_pp = data_loadcrop.calculate_ppi_and_ipp(data_crop_spatial)\n",
    "\n",
    "# add two calculated array to the croped dataset\n",
    "data_crop_spatial['pulse_pi'] = pulse_pi.astype(np.uintc)\n",
    "data_crop_spatial['ion_pp'] = ion_pp.astype(np.uintc)\n"
   ]
  },
  {
   "cell_type": "markdown",
   "metadata": {
    "pycharm": {
     "name": "#%% md\n"
    }
   },
   "source": [
    "$\\text {The percentage of loss in ROI selection process.}$"
   ]
  },
  {
   "cell_type": "code",
   "execution_count": 15,
   "metadata": {
    "tags": []
   },
   "outputs": [
    {
     "name": "stdout",
     "output_type": "stream",
     "text": [
      "tof Crop Loss 8.66 %\n"
     ]
    }
   ],
   "source": [
    "# save the cropped data\n",
    "print('tof Crop Loss {:.2f} %'.format((100 - (len(data_crop_spatial) / len(data)) * 100)))"
   ]
  },
  {
   "cell_type": "code",
   "execution_count": 16,
   "metadata": {
    "tags": []
   },
   "outputs": [],
   "source": [
    "# exctract needed data from Pandas data frame as an numpy array\n",
    "dld_highVoltage = data_crop_spatial['high_voltage (V)'].to_numpy()\n",
    "dld_pulseVoltage = data_crop_spatial['pulse'].to_numpy()\n",
    "dld_t = data_crop_spatial['t (ns)'].to_numpy()\n",
    "dld_x = data_crop_spatial['x_det (cm)'].to_numpy()\n",
    "dld_y = data_crop_spatial['y_det (cm)'].to_numpy()\n",
    "\n",
    "data_crop_spatial.insert(0, 'x (nm)', np.zeros(len(dld_t)))\n",
    "data_crop_spatial.insert(1, 'y (nm)', np.zeros(len(dld_t)))\n",
    "data_crop_spatial.insert(2,'z (nm)', np.zeros(len(dld_t)))\n",
    "data_crop_spatial.insert(3,'mc_c (Da)', np.zeros(len(dld_t)))\n",
    "# calculate the mc\n",
    "# mc_seb_ini = mc_tools.tof2mc(dld_t, t0_d.value, dld_highVoltage, dld_pulseVoltage, dld_x, dld_y, flightPathLength_d.value, mode='dc_voltage')\n",
    "mc = mc_tools.tof2mc(dld_t, t0_d.value, dld_highVoltage,\n",
    "                     dld_x, dld_y, flightPathLength_d.value, dld_pulseVoltage, mode='dc_voltage')\n",
    "data_crop_spatial.insert(4, 'mc (Da)', mc)\n",
    "data_crop_spatial.insert(8,'t_c (ns)', np.zeros(len(dld_t)))"
   ]
  },
  {
   "cell_type": "markdown",
   "metadata": {},
   "source": [
    "$\\text {Remove the data with mc biger than max mc.}$"
   ]
  },
  {
   "cell_type": "code",
   "execution_count": 17,
   "metadata": {
    "tags": []
   },
   "outputs": [
    {
     "name": "stdout",
     "output_type": "stream",
     "text": [
      "The number of data over max_mc: 76937\n"
     ]
    },
    {
     "name": "stderr",
     "output_type": "stream",
     "text": [
      "C:\\Users\\APTUser\\AppData\\Local\\Temp\\ipykernel_1848\\2278286091.py:4: SettingWithCopyWarning: \n",
      "A value is trying to be set on a copy of a slice from a DataFrame\n",
      "\n",
      "See the caveats in the documentation: https://pandas.pydata.org/pandas-docs/stable/user_guide/indexing.html#returning-a-view-versus-a-copy\n",
      "  data_crop_spatial.drop(np.where(mask)[0], inplace=True)\n"
     ]
    },
    {
     "name": "stdout",
     "output_type": "stream",
     "text": [
      "The number of data with having t, x, and y equal to zero is: 0\n"
     ]
    },
    {
     "name": "stderr",
     "output_type": "stream",
     "text": [
      "C:\\Users\\APTUser\\AppData\\Local\\Temp\\ipykernel_1848\\2278286091.py:14: SettingWithCopyWarning: \n",
      "A value is trying to be set on a copy of a slice from a DataFrame\n",
      "\n",
      "See the caveats in the documentation: https://pandas.pydata.org/pandas-docs/stable/user_guide/indexing.html#returning-a-view-versus-a-copy\n",
      "  data_crop_spatial.drop(np.where(mask)[0], inplace=True)\n"
     ]
    }
   ],
   "source": [
    "# Remove the data with mc biger than max mc\n",
    "mask = (data_crop_spatial['mc (Da)'].to_numpy() > max_mc.value)\n",
    "print('The number of data over max_mc:', len(mask[mask==True]))\n",
    "data_crop_spatial.drop(np.where(mask)[0], inplace=True)\n",
    "data_crop_spatial.reset_index(inplace=True, drop=True)\n",
    "\n",
    "# Remove the data with x,y,t = 0\n",
    "mask1 = (data_crop_spatial['x (nm)'].to_numpy() == 0)\n",
    "mask2 = (data_crop_spatial['y (nm)'].to_numpy() == 0)\n",
    "mask3 = (data_crop_spatial['t (ns)'].to_numpy() == 0)\n",
    "mask = np.logical_and(mask1, mask2)\n",
    "mask = np.logical_and(mask, mask3)\n",
    "print('The number of data with having t, x, and y equal to zero is:', len(mask[mask==True]))\n",
    "data_crop_spatial.drop(np.where(mask)[0], inplace=True)\n",
    "data_crop_spatial.reset_index(inplace=True, drop=True)"
   ]
  },
  {
   "cell_type": "code",
   "execution_count": 18,
   "metadata": {
    "tags": []
   },
   "outputs": [
    {
     "data": {
      "text/html": [
       "<div>\n",
       "<style scoped>\n",
       "    .dataframe tbody tr th:only-of-type {\n",
       "        vertical-align: middle;\n",
       "    }\n",
       "\n",
       "    .dataframe tbody tr th {\n",
       "        vertical-align: top;\n",
       "    }\n",
       "\n",
       "    .dataframe thead th {\n",
       "        text-align: right;\n",
       "    }\n",
       "</style>\n",
       "<table border=\"1\" class=\"dataframe\">\n",
       "  <thead>\n",
       "    <tr style=\"text-align: right;\">\n",
       "      <th></th>\n",
       "      <th>x (nm)</th>\n",
       "      <th>y (nm)</th>\n",
       "      <th>z (nm)</th>\n",
       "      <th>mc_c (Da)</th>\n",
       "      <th>mc (Da)</th>\n",
       "      <th>high_voltage (V)</th>\n",
       "      <th>pulse</th>\n",
       "      <th>start_counter</th>\n",
       "      <th>t_c (ns)</th>\n",
       "      <th>t (ns)</th>\n",
       "      <th>x_det (cm)</th>\n",
       "      <th>y_det (cm)</th>\n",
       "      <th>pulse_pi</th>\n",
       "      <th>ion_pp</th>\n",
       "    </tr>\n",
       "  </thead>\n",
       "  <tbody>\n",
       "    <tr>\n",
       "      <th>0</th>\n",
       "      <td>0.0</td>\n",
       "      <td>0.0</td>\n",
       "      <td>0.0</td>\n",
       "      <td>0.0</td>\n",
       "      <td>26.829235</td>\n",
       "      <td>3448.971436</td>\n",
       "      <td>3448.971436</td>\n",
       "      <td>39371</td>\n",
       "      <td>0.0</td>\n",
       "      <td>771.545574</td>\n",
       "      <td>-2.489633</td>\n",
       "      <td>0.627184</td>\n",
       "      <td>0</td>\n",
       "      <td>0</td>\n",
       "    </tr>\n",
       "    <tr>\n",
       "      <th>1</th>\n",
       "      <td>0.0</td>\n",
       "      <td>0.0</td>\n",
       "      <td>0.0</td>\n",
       "      <td>0.0</td>\n",
       "      <td>26.346705</td>\n",
       "      <td>3448.971436</td>\n",
       "      <td>3448.971436</td>\n",
       "      <td>39764</td>\n",
       "      <td>0.0</td>\n",
       "      <td>771.202674</td>\n",
       "      <td>2.827102</td>\n",
       "      <td>-0.900980</td>\n",
       "      <td>393</td>\n",
       "      <td>2</td>\n",
       "    </tr>\n",
       "    <tr>\n",
       "      <th>2</th>\n",
       "      <td>0.0</td>\n",
       "      <td>0.0</td>\n",
       "      <td>0.0</td>\n",
       "      <td>0.0</td>\n",
       "      <td>26.096023</td>\n",
       "      <td>3448.971436</td>\n",
       "      <td>3448.971436</td>\n",
       "      <td>40245</td>\n",
       "      <td>0.0</td>\n",
       "      <td>758.467368</td>\n",
       "      <td>-0.085959</td>\n",
       "      <td>-2.330449</td>\n",
       "      <td>481</td>\n",
       "      <td>1</td>\n",
       "    </tr>\n",
       "    <tr>\n",
       "      <th>3</th>\n",
       "      <td>0.0</td>\n",
       "      <td>0.0</td>\n",
       "      <td>0.0</td>\n",
       "      <td>0.0</td>\n",
       "      <td>26.280247</td>\n",
       "      <td>3448.971436</td>\n",
       "      <td>3448.971436</td>\n",
       "      <td>41116</td>\n",
       "      <td>0.0</td>\n",
       "      <td>755.436132</td>\n",
       "      <td>-0.130531</td>\n",
       "      <td>-1.859265</td>\n",
       "      <td>871</td>\n",
       "      <td>1</td>\n",
       "    </tr>\n",
       "    <tr>\n",
       "      <th>4</th>\n",
       "      <td>0.0</td>\n",
       "      <td>0.0</td>\n",
       "      <td>0.0</td>\n",
       "      <td>0.0</td>\n",
       "      <td>26.168904</td>\n",
       "      <td>3448.971436</td>\n",
       "      <td>3448.971436</td>\n",
       "      <td>41484</td>\n",
       "      <td>0.0</td>\n",
       "      <td>767.437632</td>\n",
       "      <td>-0.503020</td>\n",
       "      <td>-2.839837</td>\n",
       "      <td>368</td>\n",
       "      <td>1</td>\n",
       "    </tr>\n",
       "    <tr>\n",
       "      <th>...</th>\n",
       "      <td>...</td>\n",
       "      <td>...</td>\n",
       "      <td>...</td>\n",
       "      <td>...</td>\n",
       "      <td>...</td>\n",
       "      <td>...</td>\n",
       "      <td>...</td>\n",
       "      <td>...</td>\n",
       "      <td>...</td>\n",
       "      <td>...</td>\n",
       "      <td>...</td>\n",
       "      <td>...</td>\n",
       "      <td>...</td>\n",
       "      <td>...</td>\n",
       "    </tr>\n",
       "    <tr>\n",
       "      <th>6099474</th>\n",
       "      <td>0.0</td>\n",
       "      <td>0.0</td>\n",
       "      <td>0.0</td>\n",
       "      <td>0.0</td>\n",
       "      <td>27.818275</td>\n",
       "      <td>7237.436523</td>\n",
       "      <td>7237.436523</td>\n",
       "      <td>59038</td>\n",
       "      <td>0.0</td>\n",
       "      <td>567.684666</td>\n",
       "      <td>-2.964000</td>\n",
       "      <td>1.598204</td>\n",
       "      <td>13</td>\n",
       "      <td>1</td>\n",
       "    </tr>\n",
       "    <tr>\n",
       "      <th>6099475</th>\n",
       "      <td>0.0</td>\n",
       "      <td>0.0</td>\n",
       "      <td>0.0</td>\n",
       "      <td>0.0</td>\n",
       "      <td>28.290275</td>\n",
       "      <td>7237.436523</td>\n",
       "      <td>7237.436523</td>\n",
       "      <td>59083</td>\n",
       "      <td>0.0</td>\n",
       "      <td>555.134526</td>\n",
       "      <td>-0.888245</td>\n",
       "      <td>1.435837</td>\n",
       "      <td>45</td>\n",
       "      <td>1</td>\n",
       "    </tr>\n",
       "    <tr>\n",
       "      <th>6099476</th>\n",
       "      <td>0.0</td>\n",
       "      <td>0.0</td>\n",
       "      <td>0.0</td>\n",
       "      <td>0.0</td>\n",
       "      <td>27.862127</td>\n",
       "      <td>7237.436523</td>\n",
       "      <td>7237.436523</td>\n",
       "      <td>59088</td>\n",
       "      <td>0.0</td>\n",
       "      <td>562.177692</td>\n",
       "      <td>-1.801959</td>\n",
       "      <td>2.250857</td>\n",
       "      <td>5</td>\n",
       "      <td>1</td>\n",
       "    </tr>\n",
       "    <tr>\n",
       "      <th>6099477</th>\n",
       "      <td>0.0</td>\n",
       "      <td>0.0</td>\n",
       "      <td>0.0</td>\n",
       "      <td>0.0</td>\n",
       "      <td>25.962167</td>\n",
       "      <td>7237.436523</td>\n",
       "      <td>7237.436523</td>\n",
       "      <td>59185</td>\n",
       "      <td>0.0</td>\n",
       "      <td>550.861992</td>\n",
       "      <td>-2.976735</td>\n",
       "      <td>1.674612</td>\n",
       "      <td>97</td>\n",
       "      <td>1</td>\n",
       "    </tr>\n",
       "    <tr>\n",
       "      <th>6099478</th>\n",
       "      <td>0.0</td>\n",
       "      <td>0.0</td>\n",
       "      <td>0.0</td>\n",
       "      <td>0.0</td>\n",
       "      <td>28.198763</td>\n",
       "      <td>7237.436523</td>\n",
       "      <td>7237.436523</td>\n",
       "      <td>59302</td>\n",
       "      <td>0.0</td>\n",
       "      <td>552.939966</td>\n",
       "      <td>-0.452082</td>\n",
       "      <td>1.400816</td>\n",
       "      <td>117</td>\n",
       "      <td>1</td>\n",
       "    </tr>\n",
       "  </tbody>\n",
       "</table>\n",
       "<p>6099479 rows × 14 columns</p>\n",
       "</div>"
      ],
      "text/plain": [
       "         x (nm)  y (nm)  z (nm)  mc_c (Da)    mc (Da)  high_voltage (V)  \\\n",
       "0           0.0     0.0     0.0        0.0  26.829235       3448.971436   \n",
       "1           0.0     0.0     0.0        0.0  26.346705       3448.971436   \n",
       "2           0.0     0.0     0.0        0.0  26.096023       3448.971436   \n",
       "3           0.0     0.0     0.0        0.0  26.280247       3448.971436   \n",
       "4           0.0     0.0     0.0        0.0  26.168904       3448.971436   \n",
       "...         ...     ...     ...        ...        ...               ...   \n",
       "6099474     0.0     0.0     0.0        0.0  27.818275       7237.436523   \n",
       "6099475     0.0     0.0     0.0        0.0  28.290275       7237.436523   \n",
       "6099476     0.0     0.0     0.0        0.0  27.862127       7237.436523   \n",
       "6099477     0.0     0.0     0.0        0.0  25.962167       7237.436523   \n",
       "6099478     0.0     0.0     0.0        0.0  28.198763       7237.436523   \n",
       "\n",
       "               pulse  start_counter  t_c (ns)      t (ns)  x_det (cm)  \\\n",
       "0        3448.971436          39371       0.0  771.545574   -2.489633   \n",
       "1        3448.971436          39764       0.0  771.202674    2.827102   \n",
       "2        3448.971436          40245       0.0  758.467368   -0.085959   \n",
       "3        3448.971436          41116       0.0  755.436132   -0.130531   \n",
       "4        3448.971436          41484       0.0  767.437632   -0.503020   \n",
       "...              ...            ...       ...         ...         ...   \n",
       "6099474  7237.436523          59038       0.0  567.684666   -2.964000   \n",
       "6099475  7237.436523          59083       0.0  555.134526   -0.888245   \n",
       "6099476  7237.436523          59088       0.0  562.177692   -1.801959   \n",
       "6099477  7237.436523          59185       0.0  550.861992   -2.976735   \n",
       "6099478  7237.436523          59302       0.0  552.939966   -0.452082   \n",
       "\n",
       "         y_det (cm)  pulse_pi  ion_pp  \n",
       "0          0.627184         0       0  \n",
       "1         -0.900980       393       2  \n",
       "2         -2.330449       481       1  \n",
       "3         -1.859265       871       1  \n",
       "4         -2.839837       368       1  \n",
       "...             ...       ...     ...  \n",
       "6099474    1.598204        13       1  \n",
       "6099475    1.435837        45       1  \n",
       "6099476    2.250857         5       1  \n",
       "6099477    1.674612        97       1  \n",
       "6099478    1.400816       117       1  \n",
       "\n",
       "[6099479 rows x 14 columns]"
      ]
     },
     "execution_count": 18,
     "metadata": {},
     "output_type": "execute_result"
    }
   ],
   "source": [
    "data_crop_spatial"
   ]
  },
  {
   "cell_type": "code",
   "execution_count": 19,
   "metadata": {
    "tags": []
   },
   "outputs": [
    {
     "data": {
      "text/plain": [
       "x (nm)              float64\n",
       "y (nm)              float64\n",
       "z (nm)              float64\n",
       "mc_c (Da)           float64\n",
       "mc (Da)             float64\n",
       "high_voltage (V)    float64\n",
       "pulse               float64\n",
       "start_counter        uint32\n",
       "t_c (ns)            float64\n",
       "t (ns)              float64\n",
       "x_det (cm)          float64\n",
       "y_det (cm)          float64\n",
       "pulse_pi             uint32\n",
       "ion_pp               uint32\n",
       "dtype: object"
      ]
     },
     "execution_count": 19,
     "metadata": {},
     "output_type": "execute_result"
    }
   ],
   "source": [
    "data_crop_spatial.dtypes"
   ]
  },
  {
   "cell_type": "code",
   "execution_count": 20,
   "metadata": {
    "tags": []
   },
   "outputs": [
    {
     "data": {
      "application/vnd.jupyter.widget-view+json": {
       "model_id": "8991af8be48b4d88be3ebdc4b99e1f0d",
       "version_major": 2,
       "version_minor": 0
      },
      "text/plain": [
       "interactive(children=(Dropdown(description='hdf', options=(('True', True), ('False', False)), value=True), Dro…"
      ]
     },
     "metadata": {},
     "output_type": "display_data"
    }
   ],
   "source": [
    "interact_manual(data_tools.save_data, data=fixed(data_crop_spatial), variables=fixed(variables),\n",
    "                hdf=widgets.Dropdown(options=[('True', True), ('False', False)]),\n",
    "                epos=widgets.Dropdown(options=[('False', False), ('True', True)]), \n",
    "                pos=widgets.Dropdown(options=[('False', False), ('True', True)]), \n",
    "                ato_6v=widgets.Dropdown(options=[('False', False), ('True', True)]), \n",
    "                csv=widgets.Dropdown(options=[('False', False), ('True', True)]));"
   ]
  },
  {
   "cell_type": "code",
   "execution_count": null,
   "metadata": {},
   "outputs": [],
   "source": []
  }
 ],
 "metadata": {
  "kernelspec": {
   "display_name": "Python 3 (ipykernel)",
   "language": "python",
   "name": "python3"
  },
  "language_info": {
   "codemirror_mode": {
    "name": "ipython",
    "version": 3
   },
   "file_extension": ".py",
   "mimetype": "text/x-python",
   "name": "python",
   "nbconvert_exporter": "python",
   "pygments_lexer": "ipython3",
   "version": "3.8.13"
  }
 },
 "nbformat": 4,
 "nbformat_minor": 4
}

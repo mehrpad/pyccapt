{
 "cells": [
  {
   "cell_type": "markdown",
   "metadata": {
    "pycharm": {
     "name": "#%% md\n"
    }
   },
   "source": [
    "$\\textbf{ROI slection}$<br>\n",
    "$\\text{In this workflow we crop the data temporaly and specialy. We also calculate the raw mc, pulse per ions and ion per pulse. }$"
   ]
  },
  {
   "cell_type": "code",
   "execution_count": 1,
   "metadata": {
    "pycharm": {
     "name": "#%%\n"
    },
    "tags": []
   },
   "outputs": [],
   "source": [
    "# Activate intractive functionality of matplotlib\n",
    "%matplotlib ipympl\n",
    "# Activate auto reload \n",
    "%load_ext autoreload\n",
    "%autoreload 2\n",
    "%reload_ext autoreload\n",
    "# import libraries\n",
    "import os\n",
    "import numpy as np\n",
    "import sys\n",
    "# import logging\n",
    "import os.path as path\n",
    "import matplotlib.pyplot as plt\n",
    "from ipywidgets import fixed\n",
    "from ipywidgets import interact_manual\n",
    "from ipywidgets import widgets\n",
    "\n",
    "# Local module and scripts\n",
    "from pyccapt.calibration.calibration_tools import tools, share_variables, calibration, ion_selection\n",
    "from pyccapt.calibration.calibration_tools import widgets as wd\n",
    "from pyccapt.calibration.data_tools import data_tools, data_loadcrop, dataset_path_qt\n",
    "from pyccapt.calibration.mc import mc_tools, tof_tools\n",
    "from pyccapt.calibration.leap_tools import ccapt_tools"
   ]
  },
  {
   "cell_type": "code",
   "execution_count": 2,
   "metadata": {
    "tags": []
   },
   "outputs": [],
   "source": [
    "# Disable showing logging in Jupyter notebook\n",
    "# logging.disable(sys.maxsize)"
   ]
  },
  {
   "cell_type": "code",
   "execution_count": 3,
   "metadata": {
    "tags": []
   },
   "outputs": [
    {
     "data": {
      "application/vnd.jupyter.widget-view+json": {
       "model_id": "a061701ae4b14f9abac8f0d2f1f5d611",
       "version_major": 2,
       "version_minor": 0
      },
      "text/plain": [
       "Button(description='load dataset', style=ButtonStyle())"
      ]
     },
     "execution_count": 3,
     "metadata": {},
     "output_type": "execute_result"
    }
   ],
   "source": [
    "button = widgets.Button(\n",
    "    description='load dataset',\n",
    ")\n",
    "@button.on_click\n",
    "def open_file_on_click(b):\n",
    "    \"\"\"\n",
    "    Event handler for button click event.\n",
    "    Prompts the user to select a dataset file and stores the selected file path in the global variable dataset_path.\n",
    "    \"\"\"\n",
    "    global dataset_path\n",
    "    dataset_path = dataset_path_qt.gui_fname().decode('ASCII')\n",
    "button"
   ]
  },
  {
   "cell_type": "code",
   "execution_count": 4,
   "metadata": {
    "pycharm": {
     "name": "#%%\n"
    },
    "tags": []
   },
   "outputs": [],
   "source": [
    "# check pytables library and install it\n",
    "# try:\n",
    "#     import tables\n",
    "# except:\n",
    "#     !conda install --yes --prefix {sys.prefix} pytables"
   ]
  },
  {
   "cell_type": "code",
   "execution_count": 27,
   "metadata": {
    "tags": []
   },
   "outputs": [
    {
     "data": {
      "application/vnd.jupyter.widget-view+json": {
       "model_id": "8c20e1243677486fbbbcf4ec048e9f1b",
       "version_major": 2,
       "version_minor": 0
      },
      "text/plain": [
       "Dropdown(description='Data mode:', options=('surface_concept', 'roentdec', 'leap_epos', 'leap_pos', 'ato_v6'),…"
      ]
     },
     "metadata": {},
     "output_type": "display_data"
    },
    {
     "data": {
      "application/vnd.jupyter.widget-view+json": {
       "model_id": "499804e5bb83445e9b395d413843853d",
       "version_major": 2,
       "version_minor": 0
      },
      "text/plain": [
       "Dropdown(description='Pulse mode:', options=('voltage', 'laser'), value='voltage')"
      ]
     },
     "metadata": {},
     "output_type": "display_data"
    },
    {
     "data": {
      "application/vnd.jupyter.widget-view+json": {
       "model_id": "5dea6a7fee7a4025a17ea0e33158489c",
       "version_major": 2,
       "version_minor": 0
      },
      "text/plain": [
       "FloatText(value=110.0, description='Flight path length:')"
      ]
     },
     "metadata": {},
     "output_type": "display_data"
    },
    {
     "data": {
      "application/vnd.jupyter.widget-view+json": {
       "model_id": "6ed8c48b8ae040e38c6848f89a5a2a4f",
       "version_major": 2,
       "version_minor": 0
      },
      "text/plain": [
       "FloatText(value=54.0, description='t0:')"
      ]
     },
     "metadata": {},
     "output_type": "display_data"
    },
    {
     "data": {
      "application/vnd.jupyter.widget-view+json": {
       "model_id": "873addbfc6cc4e63a176bbb5fae2a1a0",
       "version_major": 2,
       "version_minor": 0
      },
      "text/plain": [
       "FloatText(value=400.0, description='Max mc:')"
      ]
     },
     "metadata": {},
     "output_type": "display_data"
    }
   ],
   "source": [
    "# create object for selection of instrument specifications of the dataset\n",
    "tdc, pulse_mode, flightPathLength_d, t0_d, max_mc, det_diam = wd.dataset_instrument_specification_selection()\n",
    "\n",
    "# Display lists and comboboxes to selected instrument specifications\n",
    "display(tdc, pulse_mode, flightPathLength_d, t0_d, max_mc)"
   ]
  },
  {
   "cell_type": "code",
   "execution_count": 28,
   "metadata": {
    "tags": []
   },
   "outputs": [
    {
     "name": "stdout",
     "output_type": "stream",
     "text": [
      "The maximum possible TOF is: 5010 ns\n"
     ]
    }
   ],
   "source": [
    "# Calculate the maximum possible time of flight (TOF)\n",
    "max_tof = int(tof_tools.mc2tof(max_mc.value, 1000, 0, 0, flightPathLength_d.value))\n",
    "\n",
    "print('The maximum possible TOF is:', max_tof, 'ns')"
   ]
  },
  {
   "cell_type": "code",
   "execution_count": 32,
   "metadata": {
    "pycharm": {
     "name": "#%%\n"
    },
    "tags": []
   },
   "outputs": [
    {
     "name": "stdout",
     "output_type": "stream",
     "text": [
      "The result will be saved on the path: D:/pyccapt/tests/data/OLO_AL_6_data/load_crop/\n",
      "=============================\n",
      "{'cropped_dld': ['high_voltage', 'mc', 'pulse_voltage', 'start_counter', 't', 't_c', 'x', 'y'], 'dld': ['high_voltage', 'pulse', 'start_counter', 't', 'x', 'y'], 'oxcart': ['high_voltage', 'main_chamber_vacuum', 'num_events', 'pulse_voltage', 'temperature', 'time_counter'], 'tdc': ['channel', 'high_voltage', 'pulse_voltage', 'start_counter', 'time_data'], 'time': ['time_h', 'time_m', 'time_s']}\n",
      "The number of data over max_tof: 100\n",
      "=============================\n",
      "Total number of Ions: 2000106\n"
     ]
    }
   ],
   "source": [
    "# create an instance of the Variables opject\n",
    "variables = share_variables.Variables()\n",
    "variables.pulse_mode = pulse_mode.value\n",
    "dataset_main_path = os.path.dirname(dataset_path)\n",
    "dataset_name_with_extention = os.path.basename(dataset_path)\n",
    "variables.dataset_name = os.path.splitext(dataset_name_with_extention)[0]\n",
    "variables.result_path = dataset_main_path + '/' + variables.dataset_name + '/load_crop/'\n",
    "\n",
    "if not os.path.isdir(variables.result_path):\n",
    "    os.makedirs(variables.result_path, mode=0o777, exist_ok=True)\n",
    "    \n",
    "print('The result will be saved on the path:', variables.result_path)\n",
    "print('=============================')\n",
    "\n",
    "# Create data farame out of hdf5 file dataset\n",
    "dld_group_storage = data_tools.load_data(dataset_path, tdc.value)\n",
    "\n",
    "# Remove the data with tof greater thatn Max TOF or below 0 ns\n",
    "data = data_tools.remove_invalid_data(dld_group_storage, max_tof)\n",
    "print('=============================')\n",
    "print('Total number of Ions:', len(data))"
   ]
  },
  {
   "cell_type": "code",
   "execution_count": 7,
   "metadata": {
    "tags": []
   },
   "outputs": [
    {
     "data": {
      "text/html": [
       "<div>\n",
       "<style scoped>\n",
       "    .dataframe tbody tr th:only-of-type {\n",
       "        vertical-align: middle;\n",
       "    }\n",
       "\n",
       "    .dataframe tbody tr th {\n",
       "        vertical-align: top;\n",
       "    }\n",
       "\n",
       "    .dataframe thead th {\n",
       "        text-align: right;\n",
       "    }\n",
       "</style>\n",
       "<table border=\"1\" class=\"dataframe\">\n",
       "  <thead>\n",
       "    <tr style=\"text-align: right;\">\n",
       "      <th></th>\n",
       "      <th>high_voltage (V)</th>\n",
       "      <th>pulse</th>\n",
       "      <th>start_counter</th>\n",
       "      <th>t (ns)</th>\n",
       "      <th>x_det (cm)</th>\n",
       "      <th>y_det (cm)</th>\n",
       "    </tr>\n",
       "  </thead>\n",
       "  <tbody>\n",
       "    <tr>\n",
       "      <th>0</th>\n",
       "      <td>500.000000</td>\n",
       "      <td>500.000000</td>\n",
       "      <td>11367</td>\n",
       "      <td>3746.360808</td>\n",
       "      <td>-2.531020</td>\n",
       "      <td>2.537388</td>\n",
       "    </tr>\n",
       "    <tr>\n",
       "      <th>1</th>\n",
       "      <td>501.897491</td>\n",
       "      <td>501.897491</td>\n",
       "      <td>29203</td>\n",
       "      <td>2564.370792</td>\n",
       "      <td>1.423102</td>\n",
       "      <td>1.957959</td>\n",
       "    </tr>\n",
       "    <tr>\n",
       "      <th>2</th>\n",
       "      <td>503.034485</td>\n",
       "      <td>503.034485</td>\n",
       "      <td>44265</td>\n",
       "      <td>2048.793210</td>\n",
       "      <td>2.581959</td>\n",
       "      <td>-1.926122</td>\n",
       "    </tr>\n",
       "    <tr>\n",
       "      <th>3</th>\n",
       "      <td>503.034485</td>\n",
       "      <td>503.034485</td>\n",
       "      <td>47099</td>\n",
       "      <td>3220.811694</td>\n",
       "      <td>1.741469</td>\n",
       "      <td>2.091673</td>\n",
       "    </tr>\n",
       "    <tr>\n",
       "      <th>4</th>\n",
       "      <td>503.034485</td>\n",
       "      <td>503.034485</td>\n",
       "      <td>47416</td>\n",
       "      <td>1394.704602</td>\n",
       "      <td>0.050939</td>\n",
       "      <td>2.878041</td>\n",
       "    </tr>\n",
       "    <tr>\n",
       "      <th>...</th>\n",
       "      <td>...</td>\n",
       "      <td>...</td>\n",
       "      <td>...</td>\n",
       "      <td>...</td>\n",
       "      <td>...</td>\n",
       "      <td>...</td>\n",
       "    </tr>\n",
       "    <tr>\n",
       "      <th>2000101</th>\n",
       "      <td>5710.397949</td>\n",
       "      <td>5710.397949</td>\n",
       "      <td>57835</td>\n",
       "      <td>611.363268</td>\n",
       "      <td>-1.149306</td>\n",
       "      <td>-1.725551</td>\n",
       "    </tr>\n",
       "    <tr>\n",
       "      <th>2000102</th>\n",
       "      <td>5710.397949</td>\n",
       "      <td>5710.397949</td>\n",
       "      <td>57889</td>\n",
       "      <td>602.125542</td>\n",
       "      <td>0.375673</td>\n",
       "      <td>-1.464490</td>\n",
       "    </tr>\n",
       "    <tr>\n",
       "      <th>2000103</th>\n",
       "      <td>5710.397949</td>\n",
       "      <td>5710.397949</td>\n",
       "      <td>58516</td>\n",
       "      <td>604.745298</td>\n",
       "      <td>0.226041</td>\n",
       "      <td>-1.773306</td>\n",
       "    </tr>\n",
       "    <tr>\n",
       "      <th>2000104</th>\n",
       "      <td>5710.397949</td>\n",
       "      <td>5710.397949</td>\n",
       "      <td>59519</td>\n",
       "      <td>613.502964</td>\n",
       "      <td>-2.254041</td>\n",
       "      <td>-0.092327</td>\n",
       "    </tr>\n",
       "    <tr>\n",
       "      <th>2000105</th>\n",
       "      <td>5710.397949</td>\n",
       "      <td>5710.397949</td>\n",
       "      <td>59750</td>\n",
       "      <td>601.645482</td>\n",
       "      <td>0.232408</td>\n",
       "      <td>0.671755</td>\n",
       "    </tr>\n",
       "  </tbody>\n",
       "</table>\n",
       "<p>2000106 rows × 6 columns</p>\n",
       "</div>"
      ],
      "text/plain": [
       "         high_voltage (V)        pulse  start_counter       t (ns)  \\\n",
       "0              500.000000   500.000000          11367  3746.360808   \n",
       "1              501.897491   501.897491          29203  2564.370792   \n",
       "2              503.034485   503.034485          44265  2048.793210   \n",
       "3              503.034485   503.034485          47099  3220.811694   \n",
       "4              503.034485   503.034485          47416  1394.704602   \n",
       "...                   ...          ...            ...          ...   \n",
       "2000101       5710.397949  5710.397949          57835   611.363268   \n",
       "2000102       5710.397949  5710.397949          57889   602.125542   \n",
       "2000103       5710.397949  5710.397949          58516   604.745298   \n",
       "2000104       5710.397949  5710.397949          59519   613.502964   \n",
       "2000105       5710.397949  5710.397949          59750   601.645482   \n",
       "\n",
       "         x_det (cm)  y_det (cm)  \n",
       "0         -2.531020    2.537388  \n",
       "1          1.423102    1.957959  \n",
       "2          2.581959   -1.926122  \n",
       "3          1.741469    2.091673  \n",
       "4          0.050939    2.878041  \n",
       "...             ...         ...  \n",
       "2000101   -1.149306   -1.725551  \n",
       "2000102    0.375673   -1.464490  \n",
       "2000103    0.226041   -1.773306  \n",
       "2000104   -2.254041   -0.092327  \n",
       "2000105    0.232408    0.671755  \n",
       "\n",
       "[2000106 rows x 6 columns]"
      ]
     },
     "execution_count": 7,
     "metadata": {},
     "output_type": "execute_result"
    }
   ],
   "source": [
    "data"
   ]
  },
  {
   "cell_type": "markdown",
   "metadata": {
    "tags": []
   },
   "source": [
    "$\\textbf {Temporal crop}$\n",
    "<br>\n",
    "<br>\n",
    "$\\text {Select the data by drawing a rectangel over the experiment history}$"
   ]
  },
  {
   "cell_type": "code",
   "execution_count": 8,
   "metadata": {
    "pycharm": {
     "name": "#%%\n"
    },
    "tags": []
   },
   "outputs": [
    {
     "data": {
      "application/vnd.jupyter.widget-view+json": {
       "model_id": "c39bd5e3d897457ca7bb94e88ed3dd9d",
       "version_major": 2,
       "version_minor": 0
      },
      "text/plain": [
       "interactive(children=(FloatText(value=5010.0, description='max_tof'), FloatText(value=1.0, description='frac')…"
      ]
     },
     "metadata": {},
     "output_type": "display_data"
    }
   ],
   "source": [
    "interact_manual(data_loadcrop.plot_crop_experiment_history, data=fixed(data), variables=fixed(variables), max_tof=widgets.FloatText(value=max_tof), frac=widgets.FloatText(value=1.0),\n",
    "                bins=fixed((1200,800)), figure_size=fixed((7,3)),\n",
    "               draw_rect=fixed(False), data_crop=fixed(True), pulse=widgets.Dropdown(options=[('False', False), ('True', True)]), \n",
    "                pulse_mode=widgets.Dropdown(options=[('voltage', 'voltage'), ('laser', 'laser')]), save=widgets.Dropdown(options=[('True', True), ('False', False)]));\n"
   ]
  },
  {
   "cell_type": "markdown",
   "metadata": {
    "pycharm": {
     "name": "#%% md\n"
    }
   },
   "source": [
    "$\\text{Boundaries of the selected(cropped) part of the graph is printed below}$"
   ]
  },
  {
   "cell_type": "code",
   "execution_count": 10,
   "metadata": {
    "pycharm": {
     "name": "#%%\n"
    },
    "tags": []
   },
   "outputs": [
    {
     "name": "stdout",
     "output_type": "stream",
     "text": [
      "Min Idx: 29708.41438081651 Max Idx: 1999150.4535576706\n"
     ]
    }
   ],
   "source": [
    "# Crop the dataset\n",
    "print('Min Idx:', variables.selected_x1, 'Max Idx:', variables.selected_x2)\n",
    "data_crop = data_loadcrop.crop_dataset(data, variables)"
   ]
  },
  {
   "cell_type": "code",
   "execution_count": 11,
   "metadata": {
    "pycharm": {
     "name": "#%%\n"
    },
    "tags": []
   },
   "outputs": [
    {
     "data": {
      "application/vnd.jupyter.widget-view+json": {
       "model_id": "0af71634135445afbc3c34ddd2c78094",
       "version_major": 2,
       "version_minor": 0
      },
      "text/plain": [
       "interactive(children=(FloatText(value=5010.0, description='max_tof'), FloatText(value=1.0, description='frac')…"
      ]
     },
     "metadata": {},
     "output_type": "display_data"
    }
   ],
   "source": [
    "# Plot and selected experiment history\n",
    "interact_manual(data_loadcrop.plot_crop_experiment_history, data=fixed(data), variables=fixed(variables), max_tof=widgets.FloatText(value=max_tof), frac=widgets.FloatText(value=1.0),\n",
    "                bins=fixed((1200,800)), figure_size=fixed((7,3)),\n",
    "               draw_rect=fixed(True), data_crop=fixed(False), pulse=widgets.Dropdown(options=[('False', False), ('True', True)]), \n",
    "                pulse_mode=widgets.Dropdown(options=[('voltage', 'voltage'), ('laser', 'laser')]), save=widgets.Dropdown(options=[('True', True), ('False', False)]));\n"
   ]
  },
  {
   "cell_type": "markdown",
   "metadata": {
    "pycharm": {
     "name": "#%% md\n"
    }
   },
   "source": [
    "$\\textbf {Spacial crop}$\n",
    "<br>\n",
    "<br>\n",
    "$\\text {Select the region of maximum concentration of Ions in the below plotted graph to utlize relevant data}$"
   ]
  },
  {
   "cell_type": "code",
   "execution_count": 12,
   "metadata": {
    "pycharm": {
     "name": "#%%\n"
    },
    "tags": []
   },
   "outputs": [
    {
     "data": {
      "application/vnd.jupyter.widget-view+json": {
       "model_id": "45a4f26d410845dbbf09a5baa881f68f",
       "version_major": 2,
       "version_minor": 0
      },
      "text/plain": [
       "interactive(children=(FloatText(value=1.0, description='frac'), Dropdown(description='save', options=(('True',…"
      ]
     },
     "metadata": {},
     "output_type": "display_data"
    }
   ],
   "source": [
    "# Plot and select the FDM\n",
    "interact_manual(data_loadcrop.plot_crop_FDM, data=fixed(data_crop), variables=fixed(variables), frac=widgets.FloatText(value=1.0),\n",
    "                bins=fixed((256,256)), figure_size=fixed((5,4)),\n",
    "               draw_circle=fixed(False), data_crop=fixed(True), \n",
    "                save=widgets.Dropdown(options=[('True', True), ('False', False)]));"
   ]
  },
  {
   "cell_type": "markdown",
   "metadata": {
    "pycharm": {
     "name": "#%% md\n"
    }
   },
   "source": [
    "$\\text {The region selected in the previous step is displayed below.}$"
   ]
  },
  {
   "cell_type": "code",
   "execution_count": 13,
   "metadata": {
    "pycharm": {
     "name": "#%%\n"
    },
    "tags": []
   },
   "outputs": [
    {
     "data": {
      "application/vnd.jupyter.widget-view+json": {
       "model_id": "eee988dddfed404ab9ecc56225c47063",
       "version_major": 2,
       "version_minor": 0
      },
      "text/plain": [
       "interactive(children=(FloatText(value=1.0, description='frac'), Dropdown(description='save', options=(('True',…"
      ]
     },
     "metadata": {},
     "output_type": "display_data"
    }
   ],
   "source": [
    "# plot selected area in FDM\n",
    "interact_manual(data_loadcrop.plot_crop_FDM, data=fixed(data_crop), variables=fixed(variables), frac=widgets.FloatText(value=1.0),\n",
    "                bins=fixed((256,256)), figure_size=fixed((5,4)),\n",
    "                draw_circle=fixed(True), data_crop=fixed(False), \n",
    "                save=widgets.Dropdown(options=[('True', True), ('False', False)]));"
   ]
  },
  {
   "cell_type": "markdown",
   "metadata": {
    "pycharm": {
     "name": "#%% md\n"
    }
   },
   "source": [
    "$\\text {The final selected data after processing is shown below.}$"
   ]
  },
  {
   "cell_type": "code",
   "execution_count": 14,
   "metadata": {
    "pycharm": {
     "name": "#%%\n"
    },
    "tags": []
   },
   "outputs": [
    {
     "data": {
      "application/vnd.jupyter.widget-view+json": {
       "model_id": "0d9eb0deb88843248161fd98051a2d64",
       "version_major": 2,
       "version_minor": 0
      },
      "text/plain": [
       "interactive(children=(FloatText(value=1.0, description='frac'), Dropdown(description='save', options=(('True',…"
      ]
     },
     "metadata": {},
     "output_type": "display_data"
    }
   ],
   "source": [
    "# Crop and plot the dataset\n",
    "interact_manual(data_loadcrop.plot_crop_FDM, data=fixed(data_crop), variables=fixed(variables), frac=widgets.FloatText(value=1.0),\n",
    "                bins=fixed((256,256)), figure_size=fixed((5,4)),\n",
    "               draw_circle=fixed(False), data_crop=fixed(False), \n",
    "                save=widgets.Dropdown(options=[('True', True), ('False', False)]));"
   ]
  },
  {
   "cell_type": "markdown",
   "metadata": {},
   "source": [
    "$\\text {Calculate pulses since the last event pulse and ions per pulse.}$"
   ]
  },
  {
   "cell_type": "code",
   "execution_count": 15,
   "metadata": {
    "tags": []
   },
   "outputs": [
    {
     "name": "stderr",
     "output_type": "stream",
     "text": [
      "d:\\pyccapt\\pyccapt\\calibration\\data_tools\\data_loadcrop.py:340: RuntimeWarning: overflow encountered in ulong_scalars\n",
      "  pulse_pi[i] = current_counter - previous_counter\n",
      "d:\\pyccapt\\pyccapt\\calibration\\data_tools\\data_loadcrop.py:345: RuntimeWarning: overflow encountered in ulong_scalars\n",
      "  pulse_to_previous_ion = current_counter - previous_counter\n",
      "C:\\Users\\APTUser\\AppData\\Local\\Temp\\ipykernel_39728\\341666174.py:5: SettingWithCopyWarning: \n",
      "A value is trying to be set on a copy of a slice from a DataFrame.\n",
      "Try using .loc[row_indexer,col_indexer] = value instead\n",
      "\n",
      "See the caveats in the documentation: https://pandas.pydata.org/pandas-docs/stable/user_guide/indexing.html#returning-a-view-versus-a-copy\n",
      "  data_crop['pulse_pi'] = pulse_pi.astype(np.uintc)\n",
      "C:\\Users\\APTUser\\AppData\\Local\\Temp\\ipykernel_39728\\341666174.py:6: SettingWithCopyWarning: \n",
      "A value is trying to be set on a copy of a slice from a DataFrame.\n",
      "Try using .loc[row_indexer,col_indexer] = value instead\n",
      "\n",
      "See the caveats in the documentation: https://pandas.pydata.org/pandas-docs/stable/user_guide/indexing.html#returning-a-view-versus-a-copy\n",
      "  data_crop['ion_pp'] = ion_pp.astype(np.uintc)\n"
     ]
    }
   ],
   "source": [
    "pulse_pi, ion_pp = data_loadcrop.calculate_ppi_and_ipp(data_crop)\n",
    "\n",
    "\n",
    "# add two calculated array to the croped dataset\n",
    "data_crop['pulse_pi'] = pulse_pi.astype(np.uintc)\n",
    "data_crop['ion_pp'] = ion_pp.astype(np.uintc)\n"
   ]
  },
  {
   "cell_type": "markdown",
   "metadata": {
    "pycharm": {
     "name": "#%% md\n"
    }
   },
   "source": [
    "$\\text {The percentage of loss in ROI selection process.}$"
   ]
  },
  {
   "cell_type": "code",
   "execution_count": 16,
   "metadata": {
    "tags": []
   },
   "outputs": [
    {
     "name": "stdout",
     "output_type": "stream",
     "text": [
      "tof Crop Loss 1.53 %\n"
     ]
    }
   ],
   "source": [
    "# save the cropped data\n",
    "\n",
    "print('tof Crop Loss {:.2f} %'.format((100 - (len(data_crop) / len(data)) * 100)))"
   ]
  },
  {
   "cell_type": "code",
   "execution_count": 18,
   "metadata": {
    "tags": []
   },
   "outputs": [],
   "source": [
    "# exctract needed data from Pandas data frame as an numpy array\n",
    "dld_highVoltage = data_crop['high_voltage (V)'].to_numpy()\n",
    "dld_pulseVoltage = data_crop['pulse'].to_numpy()\n",
    "dld_t = data_crop['t (ns)'].to_numpy()\n",
    "dld_x = data_crop['x_det (cm)'].to_numpy()\n",
    "dld_y = data_crop['y_det (cm)'].to_numpy()\n",
    "# calculate the mc\n",
    "mc_seb_ini = mc_tools.tof2mc(dld_t, t0_d.value, dld_highVoltage, dld_pulseVoltage, dld_x, dld_y, flightPathLength_d.value, mode=pulse_mode.value)\n",
    "\n",
    "data_crop.insert(0, 'x (nm)', np.zeros(len(mc_seb_ini)))\n",
    "data_crop.insert(1, 'y (nm)', np.zeros(len(mc_seb_ini)))\n",
    "data_crop.insert(2,'z (nm)', np.zeros(len(mc_seb_ini)))\n",
    "\n",
    "data_crop.insert(3,'mc_c (Da)', np.zeros(len(mc_seb_ini)))\n",
    "data_crop.insert(4, 'mc (Da)', mc_seb_ini)\n",
    "\n",
    "\n",
    "data_crop.insert(8,'t_c (ns)', np.zeros(len(mc_seb_ini)))"
   ]
  },
  {
   "cell_type": "markdown",
   "metadata": {},
   "source": [
    "$\\text {Remove the data with mc biger than max mc.}$"
   ]
  },
  {
   "cell_type": "code",
   "execution_count": 19,
   "metadata": {
    "tags": []
   },
   "outputs": [
    {
     "name": "stdout",
     "output_type": "stream",
     "text": [
      "The number of data over max_mc: 29215\n",
      "The number of data with having t, x, and y equal to zero: 0\n"
     ]
    },
    {
     "name": "stderr",
     "output_type": "stream",
     "text": [
      "C:\\Users\\APTUser\\AppData\\Local\\Temp\\ipykernel_39728\\1927043370.py:4: SettingWithCopyWarning: \n",
      "A value is trying to be set on a copy of a slice from a DataFrame\n",
      "\n",
      "See the caveats in the documentation: https://pandas.pydata.org/pandas-docs/stable/user_guide/indexing.html#returning-a-view-versus-a-copy\n",
      "  data_crop.drop(np.where(mask)[0], inplace=True)\n",
      "C:\\Users\\APTUser\\AppData\\Local\\Temp\\ipykernel_39728\\1927043370.py:14: SettingWithCopyWarning: \n",
      "A value is trying to be set on a copy of a slice from a DataFrame\n",
      "\n",
      "See the caveats in the documentation: https://pandas.pydata.org/pandas-docs/stable/user_guide/indexing.html#returning-a-view-versus-a-copy\n",
      "  data_crop.drop(np.where(mask)[0], inplace=True)\n"
     ]
    }
   ],
   "source": [
    "# Remove the data with mc biger than max mc\n",
    "mask = (data_crop['mc (Da)'].to_numpy() > max_mc.value)\n",
    "print('The number of data over max_mc:', len(mask[mask==True]))\n",
    "data_crop.drop(np.where(mask)[0], inplace=True)\n",
    "data_crop.reset_index(inplace=True, drop=True)\n",
    "\n",
    "# Remove the data with x,y,t = 0\n",
    "mask1 = (data_crop['x (nm)'].to_numpy() == 0)\n",
    "mask2 = (data_crop['y (nm)'].to_numpy() == 0)\n",
    "mask3 = (data_crop['t (ns)'].to_numpy() == 0)\n",
    "mask = np.logical_and(mask1, mask2)\n",
    "mask = np.logical_and(mask, mask3)\n",
    "print('The number of data with having t, x, and y equal to zero is:', len(mask[mask==True]))\n",
    "data_crop.drop(np.where(mask)[0], inplace=True)\n",
    "data_crop.reset_index(inplace=True, drop=True)"
   ]
  },
  {
   "cell_type": "code",
   "execution_count": 21,
   "metadata": {
    "tags": []
   },
   "outputs": [
    {
     "data": {
      "text/html": [
       "<div>\n",
       "<style scoped>\n",
       "    .dataframe tbody tr th:only-of-type {\n",
       "        vertical-align: middle;\n",
       "    }\n",
       "\n",
       "    .dataframe tbody tr th {\n",
       "        vertical-align: top;\n",
       "    }\n",
       "\n",
       "    .dataframe thead th {\n",
       "        text-align: right;\n",
       "    }\n",
       "</style>\n",
       "<table border=\"1\" class=\"dataframe\">\n",
       "  <thead>\n",
       "    <tr style=\"text-align: right;\">\n",
       "      <th></th>\n",
       "      <th>x (nm)</th>\n",
       "      <th>y (nm)</th>\n",
       "      <th>z (nm)</th>\n",
       "      <th>mc_c (Da)</th>\n",
       "      <th>high_voltage (V)</th>\n",
       "      <th>mc (Da)</th>\n",
       "      <th>pulse</th>\n",
       "      <th>start_counter</th>\n",
       "      <th>t (ns)</th>\n",
       "      <th>t_c (ns)</th>\n",
       "      <th>x_det (cm)</th>\n",
       "      <th>y_det (cm)</th>\n",
       "      <th>pulse_pi</th>\n",
       "      <th>ion_pp</th>\n",
       "    </tr>\n",
       "  </thead>\n",
       "  <tbody>\n",
       "    <tr>\n",
       "      <th>0</th>\n",
       "      <td>0.0</td>\n",
       "      <td>0.0</td>\n",
       "      <td>0.0</td>\n",
       "      <td>0.0</td>\n",
       "      <td>5263.160645</td>\n",
       "      <td>27.400991</td>\n",
       "      <td>5263.160645</td>\n",
       "      <td>24501</td>\n",
       "      <td>629.290080</td>\n",
       "      <td>0.0</td>\n",
       "      <td>-0.544408</td>\n",
       "      <td>-1.117469</td>\n",
       "      <td>0</td>\n",
       "      <td>0</td>\n",
       "    </tr>\n",
       "    <tr>\n",
       "      <th>1</th>\n",
       "      <td>0.0</td>\n",
       "      <td>0.0</td>\n",
       "      <td>0.0</td>\n",
       "      <td>0.0</td>\n",
       "      <td>5263.160645</td>\n",
       "      <td>27.451994</td>\n",
       "      <td>5263.160645</td>\n",
       "      <td>25308</td>\n",
       "      <td>642.745476</td>\n",
       "      <td>0.0</td>\n",
       "      <td>-0.977388</td>\n",
       "      <td>2.480082</td>\n",
       "      <td>807</td>\n",
       "      <td>2</td>\n",
       "    </tr>\n",
       "    <tr>\n",
       "      <th>2</th>\n",
       "      <td>0.0</td>\n",
       "      <td>0.0</td>\n",
       "      <td>0.0</td>\n",
       "      <td>0.0</td>\n",
       "      <td>5263.160645</td>\n",
       "      <td>14.189937</td>\n",
       "      <td>5263.160645</td>\n",
       "      <td>25376</td>\n",
       "      <td>485.313228</td>\n",
       "      <td>0.0</td>\n",
       "      <td>-2.254041</td>\n",
       "      <td>2.632898</td>\n",
       "      <td>68</td>\n",
       "      <td>1</td>\n",
       "    </tr>\n",
       "    <tr>\n",
       "      <th>3</th>\n",
       "      <td>0.0</td>\n",
       "      <td>0.0</td>\n",
       "      <td>0.0</td>\n",
       "      <td>0.0</td>\n",
       "      <td>5263.160645</td>\n",
       "      <td>27.008272</td>\n",
       "      <td>5263.160645</td>\n",
       "      <td>25411</td>\n",
       "      <td>625.195854</td>\n",
       "      <td>0.0</td>\n",
       "      <td>0.780000</td>\n",
       "      <td>0.977388</td>\n",
       "      <td>35</td>\n",
       "      <td>1</td>\n",
       "    </tr>\n",
       "    <tr>\n",
       "      <th>4</th>\n",
       "      <td>0.0</td>\n",
       "      <td>0.0</td>\n",
       "      <td>0.0</td>\n",
       "      <td>0.0</td>\n",
       "      <td>5263.160645</td>\n",
       "      <td>27.270453</td>\n",
       "      <td>5263.160645</td>\n",
       "      <td>25674</td>\n",
       "      <td>636.964182</td>\n",
       "      <td>0.0</td>\n",
       "      <td>0.971020</td>\n",
       "      <td>2.120327</td>\n",
       "      <td>263</td>\n",
       "      <td>1</td>\n",
       "    </tr>\n",
       "    <tr>\n",
       "      <th>...</th>\n",
       "      <td>...</td>\n",
       "      <td>...</td>\n",
       "      <td>...</td>\n",
       "      <td>...</td>\n",
       "      <td>...</td>\n",
       "      <td>...</td>\n",
       "      <td>...</td>\n",
       "      <td>...</td>\n",
       "      <td>...</td>\n",
       "      <td>...</td>\n",
       "      <td>...</td>\n",
       "      <td>...</td>\n",
       "      <td>...</td>\n",
       "      <td>...</td>\n",
       "    </tr>\n",
       "    <tr>\n",
       "      <th>1940223</th>\n",
       "      <td>0.0</td>\n",
       "      <td>0.0</td>\n",
       "      <td>0.0</td>\n",
       "      <td>0.0</td>\n",
       "      <td>5710.793945</td>\n",
       "      <td>27.800477</td>\n",
       "      <td>5710.793945</td>\n",
       "      <td>24644</td>\n",
       "      <td>620.381538</td>\n",
       "      <td>0.0</td>\n",
       "      <td>-2.091673</td>\n",
       "      <td>1.286204</td>\n",
       "      <td>110</td>\n",
       "      <td>1</td>\n",
       "    </tr>\n",
       "    <tr>\n",
       "      <th>1940224</th>\n",
       "      <td>0.0</td>\n",
       "      <td>0.0</td>\n",
       "      <td>0.0</td>\n",
       "      <td>0.0</td>\n",
       "      <td>5710.793945</td>\n",
       "      <td>27.405944</td>\n",
       "      <td>5710.793945</td>\n",
       "      <td>24774</td>\n",
       "      <td>609.010974</td>\n",
       "      <td>0.0</td>\n",
       "      <td>-1.505878</td>\n",
       "      <td>0.684490</td>\n",
       "      <td>130</td>\n",
       "      <td>1</td>\n",
       "    </tr>\n",
       "    <tr>\n",
       "      <th>1940225</th>\n",
       "      <td>0.0</td>\n",
       "      <td>0.0</td>\n",
       "      <td>0.0</td>\n",
       "      <td>0.0</td>\n",
       "      <td>5710.793945</td>\n",
       "      <td>26.544736</td>\n",
       "      <td>5710.793945</td>\n",
       "      <td>24916</td>\n",
       "      <td>623.570508</td>\n",
       "      <td>0.0</td>\n",
       "      <td>3.670776</td>\n",
       "      <td>0.257878</td>\n",
       "      <td>142</td>\n",
       "      <td>1</td>\n",
       "    </tr>\n",
       "    <tr>\n",
       "      <th>1940226</th>\n",
       "      <td>0.0</td>\n",
       "      <td>0.0</td>\n",
       "      <td>0.0</td>\n",
       "      <td>0.0</td>\n",
       "      <td>5710.793945</td>\n",
       "      <td>26.813825</td>\n",
       "      <td>5710.793945</td>\n",
       "      <td>25014</td>\n",
       "      <td>623.460780</td>\n",
       "      <td>0.0</td>\n",
       "      <td>2.747510</td>\n",
       "      <td>2.142612</td>\n",
       "      <td>98</td>\n",
       "      <td>1</td>\n",
       "    </tr>\n",
       "    <tr>\n",
       "      <th>1940227</th>\n",
       "      <td>0.0</td>\n",
       "      <td>0.0</td>\n",
       "      <td>0.0</td>\n",
       "      <td>0.0</td>\n",
       "      <td>5710.793945</td>\n",
       "      <td>27.367084</td>\n",
       "      <td>5710.793945</td>\n",
       "      <td>25851</td>\n",
       "      <td>612.302814</td>\n",
       "      <td>0.0</td>\n",
       "      <td>-2.088490</td>\n",
       "      <td>-0.156000</td>\n",
       "      <td>837</td>\n",
       "      <td>1</td>\n",
       "    </tr>\n",
       "  </tbody>\n",
       "</table>\n",
       "<p>1940228 rows × 14 columns</p>\n",
       "</div>"
      ],
      "text/plain": [
       "         x (nm)  y (nm)  z (nm)  mc_c (Da)  high_voltage (V)    mc (Da)  \\\n",
       "0           0.0     0.0     0.0        0.0       5263.160645  27.400991   \n",
       "1           0.0     0.0     0.0        0.0       5263.160645  27.451994   \n",
       "2           0.0     0.0     0.0        0.0       5263.160645  14.189937   \n",
       "3           0.0     0.0     0.0        0.0       5263.160645  27.008272   \n",
       "4           0.0     0.0     0.0        0.0       5263.160645  27.270453   \n",
       "...         ...     ...     ...        ...               ...        ...   \n",
       "1940223     0.0     0.0     0.0        0.0       5710.793945  27.800477   \n",
       "1940224     0.0     0.0     0.0        0.0       5710.793945  27.405944   \n",
       "1940225     0.0     0.0     0.0        0.0       5710.793945  26.544736   \n",
       "1940226     0.0     0.0     0.0        0.0       5710.793945  26.813825   \n",
       "1940227     0.0     0.0     0.0        0.0       5710.793945  27.367084   \n",
       "\n",
       "               pulse  start_counter      t (ns)  t_c (ns)  x_det (cm)  \\\n",
       "0        5263.160645          24501  629.290080       0.0   -0.544408   \n",
       "1        5263.160645          25308  642.745476       0.0   -0.977388   \n",
       "2        5263.160645          25376  485.313228       0.0   -2.254041   \n",
       "3        5263.160645          25411  625.195854       0.0    0.780000   \n",
       "4        5263.160645          25674  636.964182       0.0    0.971020   \n",
       "...              ...            ...         ...       ...         ...   \n",
       "1940223  5710.793945          24644  620.381538       0.0   -2.091673   \n",
       "1940224  5710.793945          24774  609.010974       0.0   -1.505878   \n",
       "1940225  5710.793945          24916  623.570508       0.0    3.670776   \n",
       "1940226  5710.793945          25014  623.460780       0.0    2.747510   \n",
       "1940227  5710.793945          25851  612.302814       0.0   -2.088490   \n",
       "\n",
       "         y_det (cm)  pulse_pi  ion_pp  \n",
       "0         -1.117469         0       0  \n",
       "1          2.480082       807       2  \n",
       "2          2.632898        68       1  \n",
       "3          0.977388        35       1  \n",
       "4          2.120327       263       1  \n",
       "...             ...       ...     ...  \n",
       "1940223    1.286204       110       1  \n",
       "1940224    0.684490       130       1  \n",
       "1940225    0.257878       142       1  \n",
       "1940226    2.142612        98       1  \n",
       "1940227   -0.156000       837       1  \n",
       "\n",
       "[1940228 rows x 14 columns]"
      ]
     },
     "execution_count": 21,
     "metadata": {},
     "output_type": "execute_result"
    }
   ],
   "source": [
    "data_crop"
   ]
  },
  {
   "cell_type": "code",
   "execution_count": 22,
   "metadata": {
    "tags": []
   },
   "outputs": [
    {
     "data": {
      "text/plain": [
       "x (nm)              float64\n",
       "y (nm)              float64\n",
       "z (nm)              float64\n",
       "mc_c (Da)           float64\n",
       "high_voltage (V)    float64\n",
       "mc (Da)             float64\n",
       "pulse               float64\n",
       "start_counter        uint32\n",
       "t (ns)              float64\n",
       "t_c (ns)            float64\n",
       "x_det (cm)          float64\n",
       "y_det (cm)          float64\n",
       "pulse_pi             uint32\n",
       "ion_pp               uint32\n",
       "dtype: object"
      ]
     },
     "execution_count": 22,
     "metadata": {},
     "output_type": "execute_result"
    }
   ],
   "source": [
    "data_crop.dtypes"
   ]
  },
  {
   "cell_type": "code",
   "execution_count": 26,
   "metadata": {
    "tags": []
   },
   "outputs": [
    {
     "data": {
      "application/vnd.jupyter.widget-view+json": {
       "model_id": "52f562ad3c944f29a25894fbd6d8b2d9",
       "version_major": 2,
       "version_minor": 0
      },
      "text/plain": [
       "interactive(children=(Dropdown(description='hdf', options=(('True', True), ('False', False)), value=True), Dro…"
      ]
     },
     "metadata": {},
     "output_type": "display_data"
    }
   ],
   "source": [
    "interact_manual(data_tools.save_data, data=fixed(data_crop), variables=fixed(variables),\n",
    "                hdf=widgets.Dropdown(options=[('True', True), ('False', False)]),\n",
    "                epos=widgets.Dropdown(options=[('False', False), ('True', True)]), \n",
    "                pos=widgets.Dropdown(options=[('False', False), ('True', True)]), \n",
    "                ato=widgets.Dropdown(options=[('False', False), ('True', True)]), \n",
    "                csv=widgets.Dropdown(options=[('False', False), ('True', True)]));"
   ]
  }
 ],
 "metadata": {
  "kernelspec": {
   "display_name": "Python 3 (ipykernel)",
   "language": "python",
   "name": "python3"
  },
  "language_info": {
   "codemirror_mode": {
    "name": "ipython",
    "version": 3
   },
   "file_extension": ".py",
   "mimetype": "text/x-python",
   "name": "python",
   "nbconvert_exporter": "python",
   "pygments_lexer": "ipython3",
   "version": "3.8.16"
  }
 },
 "nbformat": 4,
 "nbformat_minor": 4
}

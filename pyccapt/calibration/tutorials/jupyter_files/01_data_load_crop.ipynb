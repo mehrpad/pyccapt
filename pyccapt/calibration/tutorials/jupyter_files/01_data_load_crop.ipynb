{
 "cells": [
  {
   "cell_type": "markdown",
   "metadata": {
    "pycharm": {
     "name": "#%% md\n"
    }
   },
   "source": [
    "<div style=\"margin: 0 auto; padding: 20px;\">\n",
    "\n",
    "# ROI Selection\n",
    "\n",
    "In this initial Jupyter workflow within PyCCAPT, we will guide you through the process of cropping atom probe data, whether it's originally collected using PyCCAPT or in various other formats such as EPOS, POS, ATO, and CSV. This workflow is designed to help you efficiently manage your atom probe data, focusing on both temporal and spatial cropping techniques. Additionally, we will cover essential calculations, including raw MC (Mass-to-Charge Ratio), pulses per ion, and ions per pulse. Lastly, you can explore how to save the cropped data in a range of formats, including PyCCAPT's native HDF5 format, EPOS, POS, ATO, and CSV, to suit your specific needs and preferences.\n",
    "</div>"
   ]
  },
  {
   "cell_type": "code",
   "execution_count": 1,
   "metadata": {
    "pycharm": {
     "name": "#%%\n"
    },
    "tags": []
   },
   "outputs": [],
   "source": [
    "# Activate intractive functionality of matplotlib\n",
    "# Activate intractive functionality of matplotlib\n",
    "%matplotlib ipympl\n",
    "# Activate auto reload \n",
    "%load_ext autoreload\n",
    "%autoreload 2\n",
    "%reload_ext autoreload\n",
    "# import libraries\n",
    "import os\n",
    "import numpy as np\n",
    "from ipywidgets import fixed\n",
    "from ipywidgets import interact_manual\n",
    "from ipywidgets import widgets\n",
    "import warnings\n",
    "# Ignore all warnings\n",
    "warnings.filterwarnings(\"ignore\")\n",
    "\n",
    "# Local module and scripts\n",
    "from pyccapt.calibration.calibration_tools import tools, share_variables\n",
    "from pyccapt.calibration.calibration_tools import widgets as wd\n",
    "from pyccapt.calibration.data_tools import data_tools, data_loadcrop, dataset_path_qt\n",
    "from pyccapt.calibration.mc import mc_tools, tof_tools"
   ]
  },
  {
   "cell_type": "markdown",
   "source": [
    "<div style=\"margin: 0 auto; padding: 20px;\">\n",
    "By clicking on the button below, you can select the dataset file you want to crop. The dataset file can be in various formats, including HDF5, EPOS, POS, ATO, and CSV. The cropped data will be saved in the same directory as the original dataset file in a new directory nammed load_crop. The name of the cropped dataset file will be the same as the original dataset file. The figures will be saved in the same directory as the dataset file.\n",
    "</div>"
   ],
   "metadata": {
    "collapsed": false
   }
  },
  {
   "cell_type": "code",
   "execution_count": 2,
   "metadata": {
    "tags": []
   },
   "outputs": [
    {
     "data": {
      "application/vnd.jupyter.widget-view+json": {
       "model_id": "4cb76dff4c47492ebebf87655d1ab837",
       "version_major": 2,
       "version_minor": 0
      },
      "text/plain": [
       "Button(description='load dataset', style=ButtonStyle())"
      ]
     },
     "execution_count": 2,
     "metadata": {},
     "output_type": "execute_result"
    }
   ],
   "source": [
    "button = widgets.Button(\n",
    "    description='load dataset',\n",
    ")\n",
    "@button.on_click\n",
    "def open_file_on_click(b):\n",
    "    \"\"\"\n",
    "    Event handler for button click event.\n",
    "    Prompts the user to select a dataset file and stores the selected file path in the global variable dataset_path.\n",
    "    \"\"\"\n",
    "    global dataset_path\n",
    "    dataset_path = dataset_path_qt.gui_fname().decode('ASCII')\n",
    "button"
   ]
  },
  {
   "cell_type": "markdown",
   "source": [
    "<div style=\"margin: 0 auto; padding: 20px;\">\n",
    "In case of recieving the error about pytable library, please install the pytables library by running the cell below. Befor running the cell, please uncomment the cell by removing the # sign at the begining of the cell.\n",
    "</div>\n"
   ],
   "metadata": {
    "collapsed": false
   }
  },
  {
   "cell_type": "code",
   "execution_count": 3,
   "metadata": {
    "pycharm": {
     "name": "#%%\n"
    },
    "tags": []
   },
   "outputs": [],
   "source": [
    "# check pytables library and install it\n",
    "# try:\n",
    "#     import tables\n",
    "# except:\n",
    "#     !conda install --yes --prefix {sys.prefix} pytables"
   ]
  },
  {
   "cell_type": "markdown",
   "source": [
    "<div style=\"margin: 0 auto; padding: 20px;\">\n",
    "From the dropdown lists below, you can select the instrument specifications of the dataset. The instrument specifications are the same as the ones used for the calibration process. Data mode is specify the dataset structure. The dataset can be in raw or calibrated mode. The flight path length is the distance between the sample and the detector. The t0 is the time of flight of the ions with the lowest mass-to-charge ratio. The maximum mass-to-charge ratio is the maximum mass-to-charge ratio of tat you want to plot. You can also change it in te related cells. The detector diameter is the diameter of the detector.\n",
    "</div>\n"
   ],
   "metadata": {
    "collapsed": false
   }
  },
  {
   "cell_type": "code",
   "execution_count": 4,
   "metadata": {
    "tags": []
   },
   "outputs": [
    {
     "data": {
      "application/vnd.jupyter.widget-view+json": {
       "model_id": "794f4487155b4d4985d8c7ecef3137d3",
       "version_major": 2,
       "version_minor": 0
      },
      "text/plain": [
       "Dropdown(description='Data mode:', options=('PyCCAPT', 'leap_epos', 'leap_pos', 'ato_v6'), value='PyCCAPT')"
      ]
     },
     "metadata": {},
     "output_type": "display_data"
    },
    {
     "data": {
      "application/vnd.jupyter.widget-view+json": {
       "model_id": "d18ce7fc5e6a41dbae8f985047034061",
       "version_major": 2,
       "version_minor": 0
      },
      "text/plain": [
       "Dropdown(description='Pulse mode:', options=('voltage', 'laser'), value='voltage')"
      ]
     },
     "metadata": {},
     "output_type": "display_data"
    },
    {
     "data": {
      "application/vnd.jupyter.widget-view+json": {
       "model_id": "dd2915d278fd4a478db490c5bfead0f5",
       "version_major": 2,
       "version_minor": 0
      },
      "text/plain": [
       "FloatText(value=110.0, description='Flight path length:')"
      ]
     },
     "metadata": {},
     "output_type": "display_data"
    },
    {
     "data": {
      "application/vnd.jupyter.widget-view+json": {
       "model_id": "24598ebfd02546a5840854e4ddf41f6c",
       "version_major": 2,
       "version_minor": 0
      },
      "text/plain": [
       "FloatText(value=54.0, description='t0:')"
      ]
     },
     "metadata": {},
     "output_type": "display_data"
    },
    {
     "data": {
      "application/vnd.jupyter.widget-view+json": {
       "model_id": "fa3d4ee623914e1a909452940150e381",
       "version_major": 2,
       "version_minor": 0
      },
      "text/plain": [
       "FloatText(value=400.0, description='Max mc:')"
      ]
     },
     "metadata": {},
     "output_type": "display_data"
    }
   ],
   "source": [
    "# create object for selection of instrument specifications of the dataset\n",
    "tdc, pulse_mode, flightPathLength_d, t0_d, max_mc, det_diam = wd.dataset_instrument_specification_selection()\n",
    "\n",
    "# Display lists and comboboxes to selected instrument specifications\n",
    "display(tdc, pulse_mode, flightPathLength_d, t0_d, max_mc)"
   ]
  },
  {
   "cell_type": "code",
   "execution_count": 6,
   "metadata": {
    "pycharm": {
     "name": "#%%\n"
    },
    "tags": []
   },
   "outputs": [
    {
     "name": "stdout",
     "output_type": "stream",
     "text": [
      "The maximum possible TOF is: 5010 ns\n",
      "=============================\n",
      "The data will be saved on the path: D:/pyccapt/tests/data/data_115_Jul-27-2022_17-44_Powersweep3/load_crop/\n",
      "=============================\n",
      "The dataset name after saving is: data_115_Jul-27-2022_17-44_Powersweep3\n",
      "=============================\n",
      "The figures will be saved on the path: D:/pyccapt/tests/data/data_115_Jul-27-2022_17-44_Powersweep3/load_crop/\n",
      "=============================\n",
      "{'apt': ['high_voltage', 'num_events', 'time_counter'], 'dld': ['high_voltage', 'pulse', 'start_counter', 't', 'x', 'y'], 'tdc': ['ch0', 'ch1', 'ch2', 'ch3', 'ch4', 'ch5', 'ch6', 'ch7'], 'time': ['time_h', 'time_m', 'time_s']}\n",
      "The number of data over max_tof: 30420\n",
      "Total number of Ions: 892131\n"
     ]
    }
   ],
   "source": [
    "# Calculate the maximum possible time of flight (TOF)\n",
    "max_tof = int(tof_tools.mc2tof(max_mc.value, 1000, 0, 0, flightPathLength_d.value))\n",
    "print('The maximum possible TOF is:', max_tof, 'ns')\n",
    "print('=============================')\n",
    "# create an instance of the Variables opject\n",
    "variables = share_variables.Variables()\n",
    "variables.pulse_mode = pulse_mode.value\n",
    "dataset_main_path = os.path.dirname(dataset_path)\n",
    "dataset_name_with_extention = os.path.basename(dataset_path)\n",
    "variables.dataset_name = os.path.splitext(dataset_name_with_extention)[0]\n",
    "variables.result_data_path = dataset_main_path + '/' + variables.dataset_name  + '/load_crop/'\n",
    "variables.result_data_name = variables.dataset_name \n",
    "variables.result_path = dataset_main_path + '/' + variables.dataset_name + '/load_crop/'\n",
    "\n",
    "if not os.path.isdir(variables.result_path):\n",
    "    os.makedirs(variables.result_path, mode=0o777, exist_ok=True)\n",
    "\n",
    "print('The data will be saved on the path:', variables.result_data_path)\n",
    "print('=============================')\n",
    "print('The dataset name after saving is:', variables.result_data_name)\n",
    "print('=============================')\n",
    "print('The figures will be saved on the path:', variables.result_path)\n",
    "print('=============================')\n",
    "\n",
    "# Create data farame out of hdf5 file dataset\n",
    "dld_group_storage = data_tools.load_data(dataset_path, tdc.value, mode='raw')\n",
    "\n",
    "# Remove the data with tof greater thatn Max TOF or below 0 ns\n",
    "data = data_tools.remove_invalid_data(dld_group_storage, max_tof)\n",
    "print('Total number of Ions:', len(data))"
   ]
  },
  {
   "cell_type": "code",
   "execution_count": 7,
   "metadata": {
    "tags": []
   },
   "outputs": [
    {
     "data": {
      "text/html": [
       "<div>\n",
       "<style scoped>\n",
       "    .dataframe tbody tr th:only-of-type {\n",
       "        vertical-align: middle;\n",
       "    }\n",
       "\n",
       "    .dataframe tbody tr th {\n",
       "        vertical-align: top;\n",
       "    }\n",
       "\n",
       "    .dataframe thead th {\n",
       "        text-align: right;\n",
       "    }\n",
       "</style>\n",
       "<table border=\"1\" class=\"dataframe\">\n",
       "  <thead>\n",
       "    <tr style=\"text-align: right;\">\n",
       "      <th></th>\n",
       "      <th>high_voltage (V)</th>\n",
       "      <th>pulse</th>\n",
       "      <th>start_counter</th>\n",
       "      <th>t (ns)</th>\n",
       "      <th>x_det (cm)</th>\n",
       "      <th>y_det (cm)</th>\n",
       "    </tr>\n",
       "  </thead>\n",
       "  <tbody>\n",
       "    <tr>\n",
       "      <th>0</th>\n",
       "      <td>0.000000</td>\n",
       "      <td>1.084383e+12</td>\n",
       "      <td>0</td>\n",
       "      <td>0.0</td>\n",
       "      <td>0.000000</td>\n",
       "      <td>0.000000</td>\n",
       "    </tr>\n",
       "    <tr>\n",
       "      <th>1</th>\n",
       "      <td>0.000000</td>\n",
       "      <td>1.084383e+12</td>\n",
       "      <td>0</td>\n",
       "      <td>0.0</td>\n",
       "      <td>0.000000</td>\n",
       "      <td>0.000000</td>\n",
       "    </tr>\n",
       "    <tr>\n",
       "      <th>2</th>\n",
       "      <td>0.000000</td>\n",
       "      <td>1.084383e+12</td>\n",
       "      <td>0</td>\n",
       "      <td>0.0</td>\n",
       "      <td>0.000000</td>\n",
       "      <td>0.000000</td>\n",
       "    </tr>\n",
       "    <tr>\n",
       "      <th>3</th>\n",
       "      <td>0.000000</td>\n",
       "      <td>1.084383e+12</td>\n",
       "      <td>0</td>\n",
       "      <td>0.0</td>\n",
       "      <td>0.000000</td>\n",
       "      <td>0.000000</td>\n",
       "    </tr>\n",
       "    <tr>\n",
       "      <th>4</th>\n",
       "      <td>0.000000</td>\n",
       "      <td>1.084383e+12</td>\n",
       "      <td>0</td>\n",
       "      <td>2753.0</td>\n",
       "      <td>2.730100</td>\n",
       "      <td>-0.474107</td>\n",
       "    </tr>\n",
       "    <tr>\n",
       "      <th>...</th>\n",
       "      <td>...</td>\n",
       "      <td>...</td>\n",
       "      <td>...</td>\n",
       "      <td>...</td>\n",
       "      <td>...</td>\n",
       "      <td>...</td>\n",
       "    </tr>\n",
       "    <tr>\n",
       "      <th>892126</th>\n",
       "      <td>6900.186523</td>\n",
       "      <td>1.871629e+12</td>\n",
       "      <td>0</td>\n",
       "      <td>248.0</td>\n",
       "      <td>-2.799670</td>\n",
       "      <td>-2.478320</td>\n",
       "    </tr>\n",
       "    <tr>\n",
       "      <th>892127</th>\n",
       "      <td>6900.186523</td>\n",
       "      <td>1.871629e+12</td>\n",
       "      <td>0</td>\n",
       "      <td>2217.0</td>\n",
       "      <td>0.807768</td>\n",
       "      <td>0.780332</td>\n",
       "    </tr>\n",
       "    <tr>\n",
       "      <th>892128</th>\n",
       "      <td>6900.186523</td>\n",
       "      <td>1.871629e+12</td>\n",
       "      <td>0</td>\n",
       "      <td>999.0</td>\n",
       "      <td>2.788440</td>\n",
       "      <td>-0.917429</td>\n",
       "    </tr>\n",
       "    <tr>\n",
       "      <th>892129</th>\n",
       "      <td>6900.186523</td>\n",
       "      <td>1.871629e+12</td>\n",
       "      <td>0</td>\n",
       "      <td>7.0</td>\n",
       "      <td>1.279810</td>\n",
       "      <td>-2.385730</td>\n",
       "    </tr>\n",
       "    <tr>\n",
       "      <th>892130</th>\n",
       "      <td>6900.186523</td>\n",
       "      <td>1.871629e+12</td>\n",
       "      <td>0</td>\n",
       "      <td>2220.0</td>\n",
       "      <td>1.371010</td>\n",
       "      <td>-2.125010</td>\n",
       "    </tr>\n",
       "  </tbody>\n",
       "</table>\n",
       "<p>892131 rows × 6 columns</p>\n",
       "</div>"
      ],
      "text/plain": [
       "        high_voltage (V)         pulse  start_counter  t (ns)  x_det (cm)  \\\n",
       "0               0.000000  1.084383e+12              0     0.0    0.000000   \n",
       "1               0.000000  1.084383e+12              0     0.0    0.000000   \n",
       "2               0.000000  1.084383e+12              0     0.0    0.000000   \n",
       "3               0.000000  1.084383e+12              0     0.0    0.000000   \n",
       "4               0.000000  1.084383e+12              0  2753.0    2.730100   \n",
       "...                  ...           ...            ...     ...         ...   \n",
       "892126       6900.186523  1.871629e+12              0   248.0   -2.799670   \n",
       "892127       6900.186523  1.871629e+12              0  2217.0    0.807768   \n",
       "892128       6900.186523  1.871629e+12              0   999.0    2.788440   \n",
       "892129       6900.186523  1.871629e+12              0     7.0    1.279810   \n",
       "892130       6900.186523  1.871629e+12              0  2220.0    1.371010   \n",
       "\n",
       "        y_det (cm)  \n",
       "0         0.000000  \n",
       "1         0.000000  \n",
       "2         0.000000  \n",
       "3         0.000000  \n",
       "4        -0.474107  \n",
       "...            ...  \n",
       "892126   -2.478320  \n",
       "892127    0.780332  \n",
       "892128   -0.917429  \n",
       "892129   -2.385730  \n",
       "892130   -2.125010  \n",
       "\n",
       "[892131 rows x 6 columns]"
      ]
     },
     "execution_count": 7,
     "metadata": {},
     "output_type": "execute_result"
    }
   ],
   "source": [
    "data"
   ]
  },
  {
   "cell_type": "markdown",
   "metadata": {
    "tags": []
   },
   "source": [
    "<div style=\"margin: 0 auto; padding: 20px;\">\n",
    "\n",
    "# Temporal crop\n",
    "\n",
    "Select the data by drawing a rectangle over the experiment history. Experiment history is a 2D histogram of the time of flight of the ions versus sequence of evaporation. The experiment history is plotted by clicking on the button below te cell.\n",
    "</div>\n"
   ]
  },
  {
   "cell_type": "code",
   "execution_count": 8,
   "metadata": {
    "pycharm": {
     "name": "#%%\n"
    },
    "tags": []
   },
   "outputs": [
    {
     "data": {
      "application/vnd.jupyter.widget-view+json": {
       "model_id": "948bade169cd4d0fad35b8016e70c7f8",
       "version_major": 2,
       "version_minor": 0
      },
      "text/plain": [
       "interactive(children=(FloatText(value=5010.0, description='max_tof'), FloatText(value=1.0, description='frac')…"
      ]
     },
     "metadata": {},
     "output_type": "display_data"
    }
   ],
   "source": [
    "interact_manual(data_loadcrop.plot_crop_experiment_history, data=fixed(data), variables=fixed(variables), max_tof=widgets.FloatText(value=max_tof), frac=widgets.FloatText(value=1.0),\n",
    "                bins=fixed((1200,800)), figure_size=fixed((7,3)),\n",
    "               draw_rect=fixed(False), data_crop=fixed(True), pulse_plot=widgets.Dropdown(options=[('False', False), ('True', True)]), dc_plot=widgets.Dropdown(options=[('True', True), ('False', False)]),\n",
    "                pulse_mode=widgets.Dropdown(options=[('voltage', 'voltage'), ('laser', 'laser')]), save=widgets.Dropdown(options=[('True', True), ('False', False)]),\n",
    "               figname=widgets.Text(value='hist_ini'));\n"
   ]
  },
  {
   "cell_type": "markdown",
   "metadata": {
    "pycharm": {
     "name": "#%% md\n"
    }
   },
   "source": [
    "<div style=\"margin: 0 auto; padding: 20px;\">\n",
    "\n",
    "Boundaries of the selected(cropped) part of the graph is printed below\n",
    "</div>"
   ]
  },
  {
   "cell_type": "code",
   "execution_count": 91,
   "metadata": {
    "pycharm": {
     "name": "#%%\n"
    },
    "tags": []
   },
   "outputs": [
    {
     "data": {
      "application/vnd.jupyter.widget-view+json": {
       "model_id": "f4c15370d9e74852acf3df607e5a27d4",
       "version_major": 2,
       "version_minor": 0
      },
      "text/plain": [
       "interactive(children=(FloatText(value=11251.0, description='max_tof'), FloatText(value=1.0, description='frac'…"
      ]
     },
     "metadata": {},
     "output_type": "display_data"
    }
   ],
   "source": [
    "# Plot and selected experiment history\n",
    "interact_manual(data_loadcrop.plot_crop_experiment_history, data=fixed(data), variables=fixed(variables), max_tof=widgets.FloatText(value=max_tof), frac=widgets.FloatText(value=1.0),\n",
    "                bins=fixed((1200,800)), figure_size=fixed((7,3)),\n",
    "               draw_rect=fixed(True), data_crop=fixed(False), pulse_plot=widgets.Dropdown(options=[('False', False), ('True', True)]), dc_plot=widgets.Dropdown(options=[('True', True), ('False', False)]),\n",
    "                pulse_mode=widgets.Dropdown(options=[('voltage', 'voltage'), ('laser', 'laser')]), save=widgets.Dropdown(options=[('True', True), ('False', False)]),\n",
    "               figname=widgets.Text(value='hist_rect'));\n"
   ]
  },
  {
   "cell_type": "code",
   "execution_count": 114,
   "metadata": {
    "tags": []
   },
   "outputs": [
    {
     "name": "stdout",
     "output_type": "stream",
     "text": [
      "Min Idx: 27524.68565763859 Max Idx: 1389291.0552662394\n"
     ]
    }
   ],
   "source": [
    "# Crop the dataset\n",
    "print('Min Idx:', variables.selected_x1, 'Max Idx:', variables.selected_x2)\n",
    "data_crop_t = data_loadcrop.crop_dataset(data, variables)"
   ]
  },
  {
   "cell_type": "markdown",
   "metadata": {
    "pycharm": {
     "name": "#%% md\n"
    }
   },
   "source": [
    "<div style=\"margin: 0 auto; padding: 20px;\">\n",
    "\n",
    "# Spacial crop\n",
    "\n",
    "Select the region of maximum concentration of Ions in the below plotted graph to utilize relevant data. To crop you can draw a circle over the filed desorption map. The field desorption map is a 2D histogram of the time of flight of the ions versus the position of the ions on the detector. The field desorption map is plotted by clicking on the button below the cell.\n",
    "</div>"
   ]
  },
  {
   "cell_type": "code",
   "execution_count": 115,
   "metadata": {
    "pycharm": {
     "name": "#%%\n"
    },
    "tags": []
   },
   "outputs": [
    {
     "data": {
      "application/vnd.jupyter.widget-view+json": {
       "model_id": "ec07c34b536a4816a2b1dbbfb93e87aa",
       "version_major": 2,
       "version_minor": 0
      },
      "text/plain": [
       "interactive(children=(FloatText(value=1.0, description='frac'), Dropdown(description='save', options=(('True',…"
      ]
     },
     "metadata": {},
     "output_type": "display_data"
    }
   ],
   "source": [
    "# Plot and select the FDM\n",
    "interact_manual(data_loadcrop.plot_crop_fdm, data=fixed(data_crop_t), variables=fixed(variables), frac=widgets.FloatText(value=1.0),\n",
    "                bins=fixed((256,256)), figure_size=fixed((5,4)),\n",
    "               draw_circle=fixed(False), data_crop=fixed(True), \n",
    "                save=widgets.Dropdown(options=[('True', True), ('False', False)]),\n",
    "               figname=widgets.Text(value='fdm_ini'));"
   ]
  },
  {
   "cell_type": "markdown",
   "metadata": {
    "pycharm": {
     "name": "#%% md\n"
    }
   },
   "source": [
    "<div style=\"margin: 0 auto; padding: 20px;\">\n",
    "\n",
    "The region selected in the previous step is displayed below.\n",
    "</div>"
   ]
  },
  {
   "cell_type": "code",
   "execution_count": 66,
   "metadata": {
    "pycharm": {
     "name": "#%%\n"
    },
    "tags": []
   },
   "outputs": [
    {
     "data": {
      "application/vnd.jupyter.widget-view+json": {
       "model_id": "5b8803d0161d4545bfd82b912fbde39a",
       "version_major": 2,
       "version_minor": 0
      },
      "text/plain": [
       "interactive(children=(FloatText(value=1.0, description='frac'), Dropdown(description='save', options=(('True',…"
      ]
     },
     "metadata": {},
     "output_type": "display_data"
    }
   ],
   "source": [
    "# plot selected area in FDM\n",
    "interact_manual(data_loadcrop.plot_crop_fdm, data=fixed(data_crop_t), variables=fixed(variables), frac=widgets.FloatText(value=1.0),\n",
    "                bins=fixed((256,256)), figure_size=fixed((5,4)),\n",
    "                draw_circle=fixed(True), data_crop=fixed(False), \n",
    "                save=widgets.Dropdown(options=[('True', True), ('False', False)]),\n",
    "               figname=widgets.Text(value='fdm_circle'));"
   ]
  },
  {
   "cell_type": "code",
   "execution_count": 116,
   "metadata": {
    "tags": []
   },
   "outputs": [
    {
     "name": "stdout",
     "output_type": "stream",
     "text": [
      "center x: -0.0363516284522345 center y: 0.04290755523682499\n",
      "Radios: 3.7865336617135927\n"
     ]
    }
   ],
   "source": [
    "# Crop the dataset\n",
    "print('center x:', variables.selected_x_fdm, 'center y:', variables.selected_y_fdm)\n",
    "print('Radios:', variables.roi_fdm)\n",
    "if variables.roi_fdm > 0:\n",
    "    data_crop_spatial = data_loadcrop.crop_data_after_selection(data_crop_t, variables)\n",
    "else:\n",
    "    print('select the data spacialy from cell below')"
   ]
  },
  {
   "cell_type": "markdown",
   "metadata": {
    "pycharm": {
     "name": "#%% md\n"
    }
   },
   "source": [
    "$\\text {The final selected data after processing is shown below.}$"
   ]
  },
  {
   "cell_type": "code",
   "execution_count": 117,
   "metadata": {
    "pycharm": {
     "name": "#%%\n"
    },
    "tags": []
   },
   "outputs": [
    {
     "data": {
      "application/vnd.jupyter.widget-view+json": {
       "model_id": "6a633d3d351f450ca3fab6a394f1b166",
       "version_major": 2,
       "version_minor": 0
      },
      "text/plain": [
       "interactive(children=(FloatText(value=1.0, description='frac'), Dropdown(description='save', options=(('True',…"
      ]
     },
     "metadata": {},
     "output_type": "display_data"
    }
   ],
   "source": [
    "# Crop and plot the dataset\n",
    "interact_manual(data_loadcrop.plot_crop_fdm, data=fixed(data_crop_spatial), variables=fixed(variables), frac=widgets.FloatText(value=1.0),\n",
    "                bins=fixed((256,256)), figure_size=fixed((5,4)),\n",
    "               draw_circle=fixed(False), data_crop=fixed(False), \n",
    "                save=widgets.Dropdown(options=[('True', True), ('False', False)]),\n",
    "               figname=widgets.Text(value='fdm'));"
   ]
  },
  {
   "cell_type": "markdown",
   "metadata": {},
   "source": [
    "<div style=\"margin: 0 auto; padding: 20px;\">\n",
    "\n",
    "Calculate pulses since the last event pulse and ions per pulse.\n",
    "</div>"
   ]
  },
  {
   "cell_type": "code",
   "execution_count": 118,
   "metadata": {
    "tags": []
   },
   "outputs": [],
   "source": [
    "pulse_pi, ion_pp = data_loadcrop.calculate_ppi_and_ipp(data_crop_spatial)\n",
    "\n",
    "# add two calculated array to the croped dataset\n",
    "data_crop_spatial['pulse_pi'] = pulse_pi.astype(np.uintc)\n",
    "data_crop_spatial['ion_pp'] = ion_pp.astype(np.uintc)\n"
   ]
  },
  {
   "cell_type": "markdown",
   "metadata": {
    "pycharm": {
     "name": "#%% md\n"
    }
   },
   "source": [
    "<div style=\"margin: 0 auto; padding: 20px;\">\n",
    "\n",
    "The percentage of loss in ROI selection process.\n",
    "</div>"
   ]
  },
  {
   "cell_type": "code",
   "execution_count": 119,
   "metadata": {
    "tags": []
   },
   "outputs": [
    {
     "name": "stdout",
     "output_type": "stream",
     "text": [
      "tof Crop Loss 7.47 %\n"
     ]
    }
   ],
   "source": [
    "# save the cropped data\n",
    "print('tof Crop Loss {:.2f} %'.format((100 - (len(data_crop_spatial) / len(data)) * 100)))"
   ]
  },
  {
   "cell_type": "code",
   "execution_count": 120,
   "metadata": {
    "tags": []
   },
   "outputs": [],
   "source": [
    "# exctract needed data from Pandas data frame as an numpy array\n",
    "dld_highVoltage = data_crop_spatial['high_voltage (V)'].to_numpy()\n",
    "dld_pulse = data_crop_spatial['pulse'].to_numpy()\n",
    "dld_t = data_crop_spatial['t (ns)'].to_numpy()\n",
    "dld_x = data_crop_spatial['x_det (cm)'].to_numpy()\n",
    "dld_y = data_crop_spatial['y_det (cm)'].to_numpy()"
   ]
  },
  {
   "cell_type": "markdown",
   "source": [
    "<div style=\"margin: 0 auto; padding: 20px;\">\n",
    "\n",
    "In the next cell by changing the t<sub>0</sub> value you can correct the position of H<sub>1</sub>. this correction would be helpful for the position of the peaks in the m/c calibration process. H<sub>2</sub>O\n",
    "</div>"
   ],
   "metadata": {
    "collapsed": false
   }
  },
  {
   "cell_type": "code",
   "execution_count": 121,
   "metadata": {
    "tags": []
   },
   "outputs": [
    {
     "data": {
      "application/vnd.jupyter.widget-view+json": {
       "model_id": "ba16c04049544e40bfc6570b75db2403",
       "version_major": 2,
       "version_minor": 0
      },
      "text/plain": [
       "interactive(children=(FloatText(value=27.0, description='t0_d'), FloatText(value=0.1, description='bin_size'),…"
      ]
     },
     "metadata": {},
     "output_type": "display_data"
    }
   ],
   "source": [
    "def fine_tune_t_0(variables, t0_d, bin_size, mode, prominence, distance, percent, selector, plot, figname, lim, peaks_find_plot):\n",
    "    variables.mc_calib = mc_tools.tof2mc(dld_t, t0_d, dld_highVoltage, dld_x, dld_y, flightPathLength_d.value, dld_pulse, mode=pulse_mode.value)\n",
    "    tools.mc_hist_plot(variables, bin_size, mode, prominence, distance, percent, selector, plot, figname, lim, peaks_find_plot)\n",
    "    \n",
    "interact_manual(fine_tune_t_0, variables=fixed(variables), t0_d=widgets.FloatText(value=t0_d.value), bin_size=widgets.FloatText(value=0.1), \n",
    "                mode=widgets.Dropdown(options=[('mc', 'mc')]), prominence=widgets.IntText(value=10), distance=widgets.IntText(value=100), \n",
    "                lim=widgets.IntText(value=400), percent=widgets.IntText(value=50), selector=fixed('None'), plot=fixed(True), figname=widgets.Text(value='hist'),\n",
    "                peaks_find_plot=fixed(True));"
   ]
  },
  {
   "cell_type": "code",
   "execution_count": 123,
   "metadata": {
    "tags": []
   },
   "outputs": [],
   "source": [
    "data_crop_spatial_back = data_crop_spatial.copy()"
   ]
  },
  {
   "cell_type": "code",
   "execution_count": 124,
   "metadata": {
    "tags": []
   },
   "outputs": [],
   "source": [
    "data_crop_spatial_back.insert(0, 'x (nm)', np.zeros(len(dld_t)))\n",
    "data_crop_spatial_back.insert(1, 'y (nm)', np.zeros(len(dld_t)))\n",
    "data_crop_spatial_back.insert(2,'z (nm)', np.zeros(len(dld_t)))\n",
    "data_crop_spatial_back.insert(3,'mc_c (Da)', np.zeros(len(dld_t)))\n",
    "data_crop_spatial_back.insert(4, 'mc (Da)', variables.mc_calib)\n",
    "data_crop_spatial_back.insert(8,'t_c (ns)', np.zeros(len(dld_t)))"
   ]
  },
  {
   "cell_type": "markdown",
   "metadata": {},
   "source": [
    "<div style=\"margin: 0 auto; padding: 20px;\">\n",
    "\n",
    "Remove the data with m/c greater than max m/c and x, y, t = 0\n",
    "</div>"
   ]
  },
  {
   "cell_type": "code",
   "execution_count": 125,
   "metadata": {
    "tags": []
   },
   "outputs": [
    {
     "name": "stdout",
     "output_type": "stream",
     "text": [
      "The number of data over max_mc: 46648\n",
      "The number of data with having t, x, and y equal to zero is: 487484\n"
     ]
    }
   ],
   "source": [
    "# Remove the data with mc biger than max mc\n",
    "mask = (data_crop_spatial_back['mc (Da)'].to_numpy() > max_mc.value)\n",
    "print('The number of data over max_mc:', len(mask[mask==True]))\n",
    "data_crop_spatial_back.drop(np.where(mask)[0], inplace=True)\n",
    "data_crop_spatial_back.reset_index(inplace=True, drop=True)\n",
    "\n",
    "# Remove the data with x,y,t = 0\n",
    "mask1 = (data_crop_spatial_back['x (nm)'].to_numpy() == 0)\n",
    "mask2 = (data_crop_spatial_back['y (nm)'].to_numpy() == 0)\n",
    "mask3 = (data_crop_spatial_back['t (ns)'].to_numpy() == 0)\n",
    "mask = np.logical_and(mask1, mask2)\n",
    "mask = np.logical_and(mask, mask3)\n",
    "print('The number of data with having t, x, and y equal to zero is:', len(mask[mask==True]))\n",
    "data_crop_spatial_back.drop(np.where(mask)[0], inplace=True)\n",
    "data_crop_spatial_back.reset_index(inplace=True, drop=True)"
   ]
  },
  {
   "cell_type": "markdown",
   "source": [
    "<div style=\"margin: 0 auto; padding: 20px;\">\n",
    "\n",
    "The final cropped dataset is displayed below.\n",
    "</div>"
   ],
   "metadata": {
    "collapsed": false
   }
  },
  {
   "cell_type": "code",
   "execution_count": 126,
   "metadata": {
    "tags": []
   },
   "outputs": [
    {
     "data": {
      "text/html": [
       "<div>\n",
       "<style scoped>\n",
       "    .dataframe tbody tr th:only-of-type {\n",
       "        vertical-align: middle;\n",
       "    }\n",
       "\n",
       "    .dataframe tbody tr th {\n",
       "        vertical-align: top;\n",
       "    }\n",
       "\n",
       "    .dataframe thead th {\n",
       "        text-align: right;\n",
       "    }\n",
       "</style>\n",
       "<table border=\"1\" class=\"dataframe\">\n",
       "  <thead>\n",
       "    <tr style=\"text-align: right;\">\n",
       "      <th></th>\n",
       "      <th>x (nm)</th>\n",
       "      <th>y (nm)</th>\n",
       "      <th>z (nm)</th>\n",
       "      <th>mc_c (Da)</th>\n",
       "      <th>mc (Da)</th>\n",
       "      <th>high_voltage (V)</th>\n",
       "      <th>pulse</th>\n",
       "      <th>start_counter</th>\n",
       "      <th>t_c (ns)</th>\n",
       "      <th>t (ns)</th>\n",
       "      <th>x_det (cm)</th>\n",
       "      <th>y_det (cm)</th>\n",
       "      <th>pulse_pi</th>\n",
       "      <th>ion_pp</th>\n",
       "    </tr>\n",
       "  </thead>\n",
       "  <tbody>\n",
       "    <tr>\n",
       "      <th>0</th>\n",
       "      <td>0.0</td>\n",
       "      <td>0.0</td>\n",
       "      <td>0.0</td>\n",
       "      <td>0.0</td>\n",
       "      <td>202.600521</td>\n",
       "      <td>7023.690430</td>\n",
       "      <td>2.072519e+12</td>\n",
       "      <td>0</td>\n",
       "      <td>0.0</td>\n",
       "      <td>3069.0</td>\n",
       "      <td>2.212050</td>\n",
       "      <td>-1.854480</td>\n",
       "      <td>0</td>\n",
       "      <td>0</td>\n",
       "    </tr>\n",
       "    <tr>\n",
       "      <th>1</th>\n",
       "      <td>0.0</td>\n",
       "      <td>0.0</td>\n",
       "      <td>0.0</td>\n",
       "      <td>0.0</td>\n",
       "      <td>62.646074</td>\n",
       "      <td>7023.690430</td>\n",
       "      <td>2.072519e+12</td>\n",
       "      <td>0</td>\n",
       "      <td>0.0</td>\n",
       "      <td>1715.0</td>\n",
       "      <td>0.432542</td>\n",
       "      <td>2.355690</td>\n",
       "      <td>0</td>\n",
       "      <td>0</td>\n",
       "    </tr>\n",
       "    <tr>\n",
       "      <th>2</th>\n",
       "      <td>0.0</td>\n",
       "      <td>0.0</td>\n",
       "      <td>0.0</td>\n",
       "      <td>0.0</td>\n",
       "      <td>64.373213</td>\n",
       "      <td>7023.690430</td>\n",
       "      <td>2.072519e+12</td>\n",
       "      <td>0</td>\n",
       "      <td>0.0</td>\n",
       "      <td>1735.0</td>\n",
       "      <td>1.764380</td>\n",
       "      <td>-0.621528</td>\n",
       "      <td>0</td>\n",
       "      <td>0</td>\n",
       "    </tr>\n",
       "    <tr>\n",
       "      <th>3</th>\n",
       "      <td>0.0</td>\n",
       "      <td>0.0</td>\n",
       "      <td>0.0</td>\n",
       "      <td>0.0</td>\n",
       "      <td>0.038453</td>\n",
       "      <td>7023.690430</td>\n",
       "      <td>2.072519e+12</td>\n",
       "      <td>0</td>\n",
       "      <td>0.0</td>\n",
       "      <td>69.0</td>\n",
       "      <td>-1.188130</td>\n",
       "      <td>3.101540</td>\n",
       "      <td>0</td>\n",
       "      <td>0</td>\n",
       "    </tr>\n",
       "    <tr>\n",
       "      <th>4</th>\n",
       "      <td>0.0</td>\n",
       "      <td>0.0</td>\n",
       "      <td>0.0</td>\n",
       "      <td>0.0</td>\n",
       "      <td>5.363930</td>\n",
       "      <td>7023.690430</td>\n",
       "      <td>2.072519e+12</td>\n",
       "      <td>0</td>\n",
       "      <td>0.0</td>\n",
       "      <td>523.0</td>\n",
       "      <td>0.894745</td>\n",
       "      <td>-3.178620</td>\n",
       "      <td>0</td>\n",
       "      <td>0</td>\n",
       "    </tr>\n",
       "    <tr>\n",
       "      <th>...</th>\n",
       "      <td>...</td>\n",
       "      <td>...</td>\n",
       "      <td>...</td>\n",
       "      <td>...</td>\n",
       "      <td>...</td>\n",
       "      <td>...</td>\n",
       "      <td>...</td>\n",
       "      <td>...</td>\n",
       "      <td>...</td>\n",
       "      <td>...</td>\n",
       "      <td>...</td>\n",
       "      <td>...</td>\n",
       "      <td>...</td>\n",
       "      <td>...</td>\n",
       "    </tr>\n",
       "    <tr>\n",
       "      <th>790505</th>\n",
       "      <td>0.0</td>\n",
       "      <td>0.0</td>\n",
       "      <td>0.0</td>\n",
       "      <td>0.0</td>\n",
       "      <td>95.925869</td>\n",
       "      <td>7041.554199</td>\n",
       "      <td>1.498848e+13</td>\n",
       "      <td>0</td>\n",
       "      <td>0.0</td>\n",
       "      <td>2116.0</td>\n",
       "      <td>-2.685150</td>\n",
       "      <td>0.469806</td>\n",
       "      <td>0</td>\n",
       "      <td>0</td>\n",
       "    </tr>\n",
       "    <tr>\n",
       "      <th>790506</th>\n",
       "      <td>0.0</td>\n",
       "      <td>0.0</td>\n",
       "      <td>0.0</td>\n",
       "      <td>0.0</td>\n",
       "      <td>94.238886</td>\n",
       "      <td>7041.554199</td>\n",
       "      <td>1.498848e+13</td>\n",
       "      <td>0</td>\n",
       "      <td>0.0</td>\n",
       "      <td>2092.0</td>\n",
       "      <td>2.019020</td>\n",
       "      <td>-0.220248</td>\n",
       "      <td>0</td>\n",
       "      <td>0</td>\n",
       "    </tr>\n",
       "    <tr>\n",
       "      <th>790507</th>\n",
       "      <td>0.0</td>\n",
       "      <td>0.0</td>\n",
       "      <td>0.0</td>\n",
       "      <td>0.0</td>\n",
       "      <td>97.339310</td>\n",
       "      <td>7041.554199</td>\n",
       "      <td>1.498848e+13</td>\n",
       "      <td>0</td>\n",
       "      <td>0.0</td>\n",
       "      <td>2141.0</td>\n",
       "      <td>3.567440</td>\n",
       "      <td>-0.624562</td>\n",
       "      <td>0</td>\n",
       "      <td>0</td>\n",
       "    </tr>\n",
       "    <tr>\n",
       "      <th>790508</th>\n",
       "      <td>0.0</td>\n",
       "      <td>0.0</td>\n",
       "      <td>0.0</td>\n",
       "      <td>0.0</td>\n",
       "      <td>94.329611</td>\n",
       "      <td>7041.554199</td>\n",
       "      <td>1.498848e+13</td>\n",
       "      <td>0</td>\n",
       "      <td>0.0</td>\n",
       "      <td>2100.0</td>\n",
       "      <td>2.515930</td>\n",
       "      <td>1.402850</td>\n",
       "      <td>0</td>\n",
       "      <td>0</td>\n",
       "    </tr>\n",
       "    <tr>\n",
       "      <th>790509</th>\n",
       "      <td>0.0</td>\n",
       "      <td>0.0</td>\n",
       "      <td>0.0</td>\n",
       "      <td>0.0</td>\n",
       "      <td>96.067891</td>\n",
       "      <td>7041.554199</td>\n",
       "      <td>1.498848e+13</td>\n",
       "      <td>0</td>\n",
       "      <td>0.0</td>\n",
       "      <td>2109.0</td>\n",
       "      <td>0.868432</td>\n",
       "      <td>-1.279930</td>\n",
       "      <td>0</td>\n",
       "      <td>0</td>\n",
       "    </tr>\n",
       "  </tbody>\n",
       "</table>\n",
       "<p>790510 rows × 14 columns</p>\n",
       "</div>"
      ],
      "text/plain": [
       "        x (nm)  y (nm)  z (nm)  mc_c (Da)     mc (Da)  high_voltage (V)  \\\n",
       "0          0.0     0.0     0.0        0.0  202.600521       7023.690430   \n",
       "1          0.0     0.0     0.0        0.0   62.646074       7023.690430   \n",
       "2          0.0     0.0     0.0        0.0   64.373213       7023.690430   \n",
       "3          0.0     0.0     0.0        0.0    0.038453       7023.690430   \n",
       "4          0.0     0.0     0.0        0.0    5.363930       7023.690430   \n",
       "...        ...     ...     ...        ...         ...               ...   \n",
       "790505     0.0     0.0     0.0        0.0   95.925869       7041.554199   \n",
       "790506     0.0     0.0     0.0        0.0   94.238886       7041.554199   \n",
       "790507     0.0     0.0     0.0        0.0   97.339310       7041.554199   \n",
       "790508     0.0     0.0     0.0        0.0   94.329611       7041.554199   \n",
       "790509     0.0     0.0     0.0        0.0   96.067891       7041.554199   \n",
       "\n",
       "               pulse  start_counter  t_c (ns)  t (ns)  x_det (cm)  y_det (cm)  \\\n",
       "0       2.072519e+12              0       0.0  3069.0    2.212050   -1.854480   \n",
       "1       2.072519e+12              0       0.0  1715.0    0.432542    2.355690   \n",
       "2       2.072519e+12              0       0.0  1735.0    1.764380   -0.621528   \n",
       "3       2.072519e+12              0       0.0    69.0   -1.188130    3.101540   \n",
       "4       2.072519e+12              0       0.0   523.0    0.894745   -3.178620   \n",
       "...              ...            ...       ...     ...         ...         ...   \n",
       "790505  1.498848e+13              0       0.0  2116.0   -2.685150    0.469806   \n",
       "790506  1.498848e+13              0       0.0  2092.0    2.019020   -0.220248   \n",
       "790507  1.498848e+13              0       0.0  2141.0    3.567440   -0.624562   \n",
       "790508  1.498848e+13              0       0.0  2100.0    2.515930    1.402850   \n",
       "790509  1.498848e+13              0       0.0  2109.0    0.868432   -1.279930   \n",
       "\n",
       "        pulse_pi  ion_pp  \n",
       "0              0       0  \n",
       "1              0       0  \n",
       "2              0       0  \n",
       "3              0       0  \n",
       "4              0       0  \n",
       "...          ...     ...  \n",
       "790505         0       0  \n",
       "790506         0       0  \n",
       "790507         0       0  \n",
       "790508         0       0  \n",
       "790509         0       0  \n",
       "\n",
       "[790510 rows x 14 columns]"
      ]
     },
     "execution_count": 126,
     "metadata": {},
     "output_type": "execute_result"
    }
   ],
   "source": [
    "data_crop_spatial_back"
   ]
  },
  {
   "cell_type": "markdown",
   "source": [
    "<div style=\"margin: 0 auto; padding: 20px;\">\n",
    "\n",
    "The data types of the final cropped dataset is displayed below.\n",
    "</div>"
   ],
   "metadata": {
    "collapsed": false
   }
  },
  {
   "cell_type": "code",
   "execution_count": 127,
   "metadata": {
    "tags": []
   },
   "outputs": [
    {
     "data": {
      "text/plain": [
       "x (nm)              float64\n",
       "y (nm)              float64\n",
       "z (nm)              float64\n",
       "mc_c (Da)           float64\n",
       "mc (Da)             float64\n",
       "high_voltage (V)    float64\n",
       "pulse               float64\n",
       "start_counter        uint32\n",
       "t_c (ns)            float64\n",
       "t (ns)              float64\n",
       "x_det (cm)          float64\n",
       "y_det (cm)          float64\n",
       "pulse_pi             uint32\n",
       "ion_pp               uint32\n",
       "dtype: object"
      ]
     },
     "execution_count": 127,
     "metadata": {},
     "output_type": "execute_result"
    }
   ],
   "source": [
    "data_crop_spatial_back.dtypes"
   ]
  },
  {
   "cell_type": "markdown",
   "source": [
    "<div style=\"margin: 0 auto; padding: 20px;\">\n",
    "\n",
    "Save the cropped dataset. You can specify te output format from list below. The output formats are HDF5, EPOS, POS, ATO, and CSV. The output file will be saved in the same directory as the original dataset file in a new directory nammed load_crop.\n",
    "</div>"
   ],
   "metadata": {
    "collapsed": false
   }
  },
  {
   "cell_type": "code",
   "execution_count": 128,
   "metadata": {
    "tags": []
   },
   "outputs": [
    {
     "data": {
      "application/vnd.jupyter.widget-view+json": {
       "model_id": "6920128cf87a4c84a0566d8e285ab60d",
       "version_major": 2,
       "version_minor": 0
      },
      "text/plain": [
       "interactive(children=(Dropdown(description='hdf', options=(('True', True), ('False', False)), value=True), Dro…"
      ]
     },
     "metadata": {},
     "output_type": "display_data"
    }
   ],
   "source": [
    "interact_manual(data_tools.save_data, data=fixed(data_crop_spatial_back), variables=fixed(variables),\n",
    "                hdf=widgets.Dropdown(options=[('True', True), ('False', False)]),\n",
    "                epos=widgets.Dropdown(options=[('False', False), ('True', True)]), \n",
    "                pos=widgets.Dropdown(options=[('False', False), ('True', True)]), \n",
    "                ato_6v=widgets.Dropdown(options=[('False', False), ('True', True)]), \n",
    "                csv=widgets.Dropdown(options=[('False', False), ('True', True)]));"
   ]
  },
  {
   "cell_type": "code",
   "execution_count": null,
   "metadata": {},
   "outputs": [],
   "source": []
  }
 ],
 "metadata": {
  "kernelspec": {
   "display_name": "Python 3 (ipykernel)",
   "language": "python",
   "name": "python3"
  },
  "language_info": {
   "codemirror_mode": {
    "name": "ipython",
    "version": 3
   },
   "file_extension": ".py",
   "mimetype": "text/x-python",
   "name": "python",
   "nbconvert_exporter": "python",
   "pygments_lexer": "ipython3",
   "version": "3.8.16"
  },
  "widgets": {
   "application/vnd.jupyter.widget-state+json": {
    "state": {
     "020b2a54ecea40ee8fed2554e2bf8ded": {
      "model_module": "@jupyter-widgets/base",
      "model_module_version": "2.0.0",
      "model_name": "LayoutModel",
      "state": {}
     },
     "04c69a00c00a48cf81af8d4e1f61533d": {
      "model_module": "@jupyter-widgets/base",
      "model_module_version": "2.0.0",
      "model_name": "LayoutModel",
      "state": {}
     },
     "0536eb439e4347cc9e83490058de9523": {
      "model_module": "@jupyter-widgets/controls",
      "model_module_version": "2.0.0",
      "model_name": "DescriptionStyleModel",
      "state": {
       "description_width": ""
      }
     },
     "0563ade9ac4242f590beabcd20d90f56": {
      "model_module": "@jupyter-widgets/controls",
      "model_module_version": "2.0.0",
      "model_name": "FloatTextModel",
      "state": {
       "description": "frac",
       "layout": "IPY_MODEL_20558d75a4414a15a2f473a1f483030b",
       "step": null,
       "style": "IPY_MODEL_7cd9bc84e8054abb9d65c41ad50ee026",
       "value": 1
      }
     },
     "058e5af70d354365b4e93d9e5208b3dc": {
      "model_module": "@jupyter-widgets/controls",
      "model_module_version": "2.0.0",
      "model_name": "DescriptionStyleModel",
      "state": {
       "description_width": ""
      }
     },
     "0b74181dcfac42de8af29ffe35fb2caa": {
      "model_module": "@jupyter-widgets/controls",
      "model_module_version": "2.0.0",
      "model_name": "DescriptionStyleModel",
      "state": {
       "description_width": ""
      }
     },
     "0c3b6aefac6b422bbd0b8703f71ab431": {
      "model_module": "@jupyter-widgets/base",
      "model_module_version": "2.0.0",
      "model_name": "LayoutModel",
      "state": {}
     },
     "0f5b9b281cb342a080c64a0b1b8d02bb": {
      "model_module": "@jupyter-widgets/controls",
      "model_module_version": "2.0.0",
      "model_name": "DropdownModel",
      "state": {
       "_options_labels": [
        "True",
        "False"
       ],
       "description": "dc_plot",
       "index": 0,
       "layout": "IPY_MODEL_cbe9e3bc40ca424c8858c52408a260ef",
       "style": "IPY_MODEL_41a4824d8d054590ab16d3dec7598694"
      }
     },
     "1bbd190ca60f4844b2df88a1a72f95ad": {
      "model_module": "@jupyter-widgets/base",
      "model_module_version": "2.0.0",
      "model_name": "LayoutModel",
      "state": {}
     },
     "1e8bd14f773548d680e0f912eaa9fe3b": {
      "model_module": "@jupyter-widgets/controls",
      "model_module_version": "2.0.0",
      "model_name": "ButtonStyleModel",
      "state": {
       "font_family": null,
       "font_size": null,
       "font_style": null,
       "font_variant": null,
       "font_weight": null,
       "text_color": null,
       "text_decoration": null
      }
     },
     "203f4f33f85a4459bd408f1510f3ca08": {
      "model_module": "@jupyter-widgets/controls",
      "model_module_version": "2.0.0",
      "model_name": "DescriptionStyleModel",
      "state": {
       "description_width": ""
      }
     },
     "20558d75a4414a15a2f473a1f483030b": {
      "model_module": "@jupyter-widgets/base",
      "model_module_version": "2.0.0",
      "model_name": "LayoutModel",
      "state": {}
     },
     "20b336a6ecfa4f0ca85565535c6b01f0": {
      "model_module": "@jupyter-widgets/controls",
      "model_module_version": "2.0.0",
      "model_name": "DescriptionStyleModel",
      "state": {
       "description_width": ""
      }
     },
     "227a7c445fa643e6a7330493462a2a35": {
      "model_module": "@jupyter-widgets/controls",
      "model_module_version": "2.0.0",
      "model_name": "ButtonModel",
      "state": {
       "description": "Run Interact",
       "layout": "IPY_MODEL_d4128e4152d94b4c8da4ad4e7b0287b3",
       "style": "IPY_MODEL_4473b2d1e2894483a5ba54fbefd98e01",
       "tooltip": null
      }
     },
     "24598ebfd02546a5840854e4ddf41f6c": {
      "model_module": "@jupyter-widgets/controls",
      "model_module_version": "2.0.0",
      "model_name": "FloatTextModel",
      "state": {
       "description": "t0:",
       "layout": "IPY_MODEL_8118301a27b84b21af6e1b77e2ce7478",
       "step": null,
       "style": "IPY_MODEL_0b74181dcfac42de8af29ffe35fb2caa",
       "value": 54
      }
     },
     "261691acb77f4da98baa8ddc7db66cc8": {
      "model_module": "@jupyter-widgets/base",
      "model_module_version": "2.0.0",
      "model_name": "LayoutModel",
      "state": {}
     },
     "3599c0d7d83c4071a36911ba8dd6f637": {
      "model_module": "@jupyter-widgets/controls",
      "model_module_version": "2.0.0",
      "model_name": "TextModel",
      "state": {
       "description": "figname",
       "layout": "IPY_MODEL_261691acb77f4da98baa8ddc7db66cc8",
       "style": "IPY_MODEL_eed82c23645a4e3385eeb7c6fc1f258c",
       "value": "hist_ini"
      }
     },
     "3b379804d5be4a10b77b219db7367522": {
      "model_module": "@jupyter-widgets/output",
      "model_module_version": "1.0.0",
      "model_name": "OutputModel",
      "state": {
       "layout": "IPY_MODEL_c65a35aa7e094e72861bcbdf5d9e1cee",
       "outputs": [
        {
         "data": {
          "application/vnd.jupyter.widget-view+json": {
           "model_id": "e3a42f08106a413bb153ad1160b74b73",
           "version_major": 2,
           "version_minor": 0
          },
          "image/png": "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",
          "text/html": "\n            <div style=\"display: inline-block;\">\n                <div class=\"jupyter-widgets widget-label\" style=\"text-align: center;\">\n                    Figure\n                </div>\n                <img src='data:image/png;base64,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' width=700.0/>\n            </div>\n        ",
          "text/plain": "Canvas(toolbar=Toolbar(toolitems=[('Home', 'Reset original view', 'home', 'home'), ('Back', 'Back to previous …"
         },
         "metadata": {},
         "output_type": "display_data"
        }
       ]
      }
     },
     "3da985df9a42482695bec54e7cedc40a": {
      "model_module": "@jupyter-widgets/base",
      "model_module_version": "2.0.0",
      "model_name": "LayoutModel",
      "state": {}
     },
     "41a4824d8d054590ab16d3dec7598694": {
      "model_module": "@jupyter-widgets/controls",
      "model_module_version": "2.0.0",
      "model_name": "DescriptionStyleModel",
      "state": {
       "description_width": ""
      }
     },
     "4473b2d1e2894483a5ba54fbefd98e01": {
      "model_module": "@jupyter-widgets/controls",
      "model_module_version": "2.0.0",
      "model_name": "ButtonStyleModel",
      "state": {
       "font_family": null,
       "font_size": null,
       "font_style": null,
       "font_variant": null,
       "font_weight": null,
       "text_color": null,
       "text_decoration": null
      }
     },
     "49b348a6e7c449b7928fa3bfe25d8741": {
      "model_module": "@jupyter-widgets/controls",
      "model_module_version": "2.0.0",
      "model_name": "FloatTextModel",
      "state": {
       "description": "max_tof",
       "layout": "IPY_MODEL_6d871e1e301e4e9a8b6e59e59038620e",
       "step": null,
       "style": "IPY_MODEL_e1a94a9cb626455fa8f2d7e16ba4a4c3",
       "value": 5010
      }
     },
     "4cb76dff4c47492ebebf87655d1ab837": {
      "model_module": "@jupyter-widgets/controls",
      "model_module_version": "2.0.0",
      "model_name": "ButtonModel",
      "state": {
       "description": "load dataset",
       "layout": "IPY_MODEL_e54d678823514e01bf58168187d95d77",
       "style": "IPY_MODEL_1e8bd14f773548d680e0f912eaa9fe3b",
       "tooltip": null
      }
     },
     "5721356b68c3460782b8323d4a7f1c85": {
      "model_module": "@jupyter-widgets/base",
      "model_module_version": "2.0.0",
      "model_name": "LayoutModel",
      "state": {}
     },
     "6d871e1e301e4e9a8b6e59e59038620e": {
      "model_module": "@jupyter-widgets/base",
      "model_module_version": "2.0.0",
      "model_name": "LayoutModel",
      "state": {}
     },
     "76319e7afcab464e8f260f96a677d1f3": {
      "model_module": "@jupyter-widgets/base",
      "model_module_version": "2.0.0",
      "model_name": "LayoutModel",
      "state": {}
     },
     "794f4487155b4d4985d8c7ecef3137d3": {
      "model_module": "@jupyter-widgets/controls",
      "model_module_version": "2.0.0",
      "model_name": "DropdownModel",
      "state": {
       "_options_labels": [
        "PyCCAPT",
        "leap_epos",
        "leap_pos",
        "ato_v6"
       ],
       "description": "Data mode:",
       "index": 0,
       "layout": "IPY_MODEL_a45f2380a0564accabe97d876c3a580c",
       "style": "IPY_MODEL_f1918bc0a2d64f9caf5cbea135df2a1a"
      }
     },
     "7cd9bc84e8054abb9d65c41ad50ee026": {
      "model_module": "@jupyter-widgets/controls",
      "model_module_version": "2.0.0",
      "model_name": "DescriptionStyleModel",
      "state": {
       "description_width": ""
      }
     },
     "8118301a27b84b21af6e1b77e2ce7478": {
      "model_module": "@jupyter-widgets/base",
      "model_module_version": "2.0.0",
      "model_name": "LayoutModel",
      "state": {}
     },
     "848d5c3385da41e5ad9d5f3f5a18bc81": {
      "model_module": "@jupyter-widgets/base",
      "model_module_version": "2.0.0",
      "model_name": "LayoutModel",
      "state": {}
     },
     "948bade169cd4d0fad35b8016e70c7f8": {
      "model_module": "@jupyter-widgets/controls",
      "model_module_version": "2.0.0",
      "model_name": "VBoxModel",
      "state": {
       "_dom_classes": [
        "widget-interact"
       ],
       "children": [
        "IPY_MODEL_49b348a6e7c449b7928fa3bfe25d8741",
        "IPY_MODEL_0563ade9ac4242f590beabcd20d90f56",
        "IPY_MODEL_a6c5ecd6c83c4103a98162189ac6b977",
        "IPY_MODEL_0f5b9b281cb342a080c64a0b1b8d02bb",
        "IPY_MODEL_a53cdcca339a4f0dbb75b585fdc9761f",
        "IPY_MODEL_de9258473fef448ea2d014fe24ea3e0e",
        "IPY_MODEL_3599c0d7d83c4071a36911ba8dd6f637",
        "IPY_MODEL_227a7c445fa643e6a7330493462a2a35",
        "IPY_MODEL_3b379804d5be4a10b77b219db7367522"
       ],
       "layout": "IPY_MODEL_f787d4b57bf6404eabeb9baf137cc89c"
      }
     },
     "9d52b5a2deac45229c241cf77e76a1dd": {
      "model_module": "jupyter-matplotlib",
      "model_module_version": "^0.11",
      "model_name": "ToolbarModel",
      "state": {
       "_model_module_version": "^0.11",
       "_view_module_version": "^0.11",
       "collapsed": true,
       "layout": "IPY_MODEL_0c3b6aefac6b422bbd0b8703f71ab431",
       "orientation": "vertical",
       "toolitems": [
        [
         "Home",
         "Reset original view",
         "home",
         "home"
        ],
        [
         "Back",
         "Back to previous view",
         "arrow-left",
         "back"
        ],
        [
         "Forward",
         "Forward to next view",
         "arrow-right",
         "forward"
        ],
        [
         "Pan",
         "Left button pans, Right button zooms\nx/y fixes axis, CTRL fixes aspect",
         "arrows",
         "pan"
        ],
        [
         "Zoom",
         "Zoom to rectangle\nx/y fixes axis",
         "square-o",
         "zoom"
        ],
        [
         "Download",
         "Download plot",
         "floppy-o",
         "save_figure"
        ]
       ]
      }
     },
     "9db008a00b2a49cead5cc7fc55c932b3": {
      "model_module": "@jupyter-widgets/base",
      "model_module_version": "2.0.0",
      "model_name": "LayoutModel",
      "state": {}
     },
     "a45f2380a0564accabe97d876c3a580c": {
      "model_module": "@jupyter-widgets/base",
      "model_module_version": "2.0.0",
      "model_name": "LayoutModel",
      "state": {}
     },
     "a53cdcca339a4f0dbb75b585fdc9761f": {
      "model_module": "@jupyter-widgets/controls",
      "model_module_version": "2.0.0",
      "model_name": "DropdownModel",
      "state": {
       "_options_labels": [
        "voltage",
        "laser"
       ],
       "description": "pulse_mode",
       "index": 0,
       "layout": "IPY_MODEL_5721356b68c3460782b8323d4a7f1c85",
       "style": "IPY_MODEL_e23c22cce38d482ca6e6cb3256cfb10a"
      }
     },
     "a6c5ecd6c83c4103a98162189ac6b977": {
      "model_module": "@jupyter-widgets/controls",
      "model_module_version": "2.0.0",
      "model_name": "DropdownModel",
      "state": {
       "_options_labels": [
        "False",
        "True"
       ],
       "description": "pulse_plot",
       "index": 0,
       "layout": "IPY_MODEL_848d5c3385da41e5ad9d5f3f5a18bc81",
       "style": "IPY_MODEL_0536eb439e4347cc9e83490058de9523"
      }
     },
     "b709a3e2b4ec4f71b3613ccfede23fc9": {
      "model_module": "@jupyter-widgets/controls",
      "model_module_version": "2.0.0",
      "model_name": "FloatTextModel",
      "state": {
       "description": "Detector diameter:",
       "layout": "IPY_MODEL_1bbd190ca60f4844b2df88a1a72f95ad",
       "step": null,
       "style": "IPY_MODEL_203f4f33f85a4459bd408f1510f3ca08",
       "value": 80
      }
     },
     "c5aaf3a93cea4af1ae9e2a4cc37d62e0": {
      "model_module": "@jupyter-widgets/controls",
      "model_module_version": "2.0.0",
      "model_name": "DescriptionStyleModel",
      "state": {
       "description_width": ""
      }
     },
     "c65a35aa7e094e72861bcbdf5d9e1cee": {
      "model_module": "@jupyter-widgets/base",
      "model_module_version": "2.0.0",
      "model_name": "LayoutModel",
      "state": {}
     },
     "cbe9e3bc40ca424c8858c52408a260ef": {
      "model_module": "@jupyter-widgets/base",
      "model_module_version": "2.0.0",
      "model_name": "LayoutModel",
      "state": {}
     },
     "d18ce7fc5e6a41dbae8f985047034061": {
      "model_module": "@jupyter-widgets/controls",
      "model_module_version": "2.0.0",
      "model_name": "DropdownModel",
      "state": {
       "_options_labels": [
        "voltage",
        "laser"
       ],
       "description": "Pulse mode:",
       "index": 0,
       "layout": "IPY_MODEL_9db008a00b2a49cead5cc7fc55c932b3",
       "style": "IPY_MODEL_daffc442351c4248a0a02c084f2d0dad"
      }
     },
     "d4128e4152d94b4c8da4ad4e7b0287b3": {
      "model_module": "@jupyter-widgets/base",
      "model_module_version": "2.0.0",
      "model_name": "LayoutModel",
      "state": {}
     },
     "daffc442351c4248a0a02c084f2d0dad": {
      "model_module": "@jupyter-widgets/controls",
      "model_module_version": "2.0.0",
      "model_name": "DescriptionStyleModel",
      "state": {
       "description_width": ""
      }
     },
     "dd2915d278fd4a478db490c5bfead0f5": {
      "model_module": "@jupyter-widgets/controls",
      "model_module_version": "2.0.0",
      "model_name": "FloatTextModel",
      "state": {
       "description": "Flight path length:",
       "layout": "IPY_MODEL_76319e7afcab464e8f260f96a677d1f3",
       "step": null,
       "style": "IPY_MODEL_c5aaf3a93cea4af1ae9e2a4cc37d62e0",
       "value": 110
      }
     },
     "de9258473fef448ea2d014fe24ea3e0e": {
      "model_module": "@jupyter-widgets/controls",
      "model_module_version": "2.0.0",
      "model_name": "DropdownModel",
      "state": {
       "_options_labels": [
        "True",
        "False"
       ],
       "description": "save",
       "index": 0,
       "layout": "IPY_MODEL_3da985df9a42482695bec54e7cedc40a",
       "style": "IPY_MODEL_20b336a6ecfa4f0ca85565535c6b01f0"
      }
     },
     "e1a94a9cb626455fa8f2d7e16ba4a4c3": {
      "model_module": "@jupyter-widgets/controls",
      "model_module_version": "2.0.0",
      "model_name": "DescriptionStyleModel",
      "state": {
       "description_width": ""
      }
     },
     "e23c22cce38d482ca6e6cb3256cfb10a": {
      "model_module": "@jupyter-widgets/controls",
      "model_module_version": "2.0.0",
      "model_name": "DescriptionStyleModel",
      "state": {
       "description_width": ""
      }
     },
     "e3a42f08106a413bb153ad1160b74b73": {
      "model_module": "jupyter-matplotlib",
      "model_module_version": "^0.11",
      "model_name": "MPLCanvasModel",
      "state": {
       "_data_url": "data:image/png;base64,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",
       "_figure_label": "Figure 1",
       "_model_module_version": "^0.11",
       "_size": [
        700,
        300
       ],
       "_view_module_version": "^0.11",
       "layout": "IPY_MODEL_04c69a00c00a48cf81af8d4e1f61533d",
       "toolbar": "IPY_MODEL_9d52b5a2deac45229c241cf77e76a1dd",
       "toolbar_position": "left"
      }
     },
     "e54d678823514e01bf58168187d95d77": {
      "model_module": "@jupyter-widgets/base",
      "model_module_version": "2.0.0",
      "model_name": "LayoutModel",
      "state": {}
     },
     "eed82c23645a4e3385eeb7c6fc1f258c": {
      "model_module": "@jupyter-widgets/controls",
      "model_module_version": "2.0.0",
      "model_name": "TextStyleModel",
      "state": {
       "description_width": "",
       "font_size": null,
       "text_color": null
      }
     },
     "f1918bc0a2d64f9caf5cbea135df2a1a": {
      "model_module": "@jupyter-widgets/controls",
      "model_module_version": "2.0.0",
      "model_name": "DescriptionStyleModel",
      "state": {
       "description_width": ""
      }
     },
     "f787d4b57bf6404eabeb9baf137cc89c": {
      "model_module": "@jupyter-widgets/base",
      "model_module_version": "2.0.0",
      "model_name": "LayoutModel",
      "state": {}
     },
     "fa3d4ee623914e1a909452940150e381": {
      "model_module": "@jupyter-widgets/controls",
      "model_module_version": "2.0.0",
      "model_name": "FloatTextModel",
      "state": {
       "description": "Max mc:",
       "layout": "IPY_MODEL_020b2a54ecea40ee8fed2554e2bf8ded",
       "step": null,
       "style": "IPY_MODEL_058e5af70d354365b4e93d9e5208b3dc",
       "value": 400
      }
     }
    },
    "version_major": 2,
    "version_minor": 0
   }
  }
 },
 "nbformat": 4,
 "nbformat_minor": 4
}

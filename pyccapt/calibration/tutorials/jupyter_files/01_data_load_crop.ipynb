{
 "cells": [
  {
   "cell_type": "markdown",
   "metadata": {
    "pycharm": {
     "name": "#%% md\n"
    }
   },
   "source": [
    "$\\textbf{ROI slection}$<br>\n",
    "$\\text{In this workflow we crop the data temporaly and specialy. We also calculate the raw mc, pulse per ions and ion per pulse. }$"
   ]
  },
  {
   "cell_type": "code",
   "execution_count": 1,
   "metadata": {
    "pycharm": {
     "name": "#%%\n"
    },
    "tags": []
   },
   "outputs": [],
   "source": [
    "# Activate intractive functionality of matplotlib\n",
    "# Activate intractive functionality of matplotlib\n",
    "%matplotlib ipympl\n",
    "# Activate auto reload \n",
    "%load_ext autoreload\n",
    "%autoreload 2\n",
    "%reload_ext autoreload\n",
    "# import libraries\n",
    "import os\n",
    "import numpy as np\n",
    "from ipywidgets import fixed\n",
    "from ipywidgets import interact_manual\n",
    "from ipywidgets import widgets\n",
    "\n",
    "# Local module and scripts\n",
    "from pyccapt.calibration.calibration_tools import share_variables, calibration, ion_selection\n",
    "from pyccapt.calibration.calibration_tools import widgets as wd\n",
    "from pyccapt.calibration.data_tools import data_tools, data_loadcrop, dataset_path_qt\n",
    "from pyccapt.calibration.mc import mc_tools, tof_tools"
   ]
  },
  {
   "cell_type": "code",
   "execution_count": 2,
   "metadata": {
    "tags": []
   },
   "outputs": [],
   "source": [
    "# Disable showing logging in Jupyter notebook\n",
    "# logging.disable(sys.maxsize)"
   ]
  },
  {
   "cell_type": "code",
   "execution_count": 3,
   "metadata": {
    "tags": []
   },
   "outputs": [
    {
     "data": {
      "application/vnd.jupyter.widget-view+json": {
       "model_id": "b7d513bbb8704f41b17c0c09c5d6d7bc",
       "version_major": 2,
       "version_minor": 0
      },
      "text/plain": [
       "Button(description='load dataset', style=ButtonStyle())"
      ]
     },
     "execution_count": 3,
     "metadata": {},
     "output_type": "execute_result"
    }
   ],
   "source": [
    "button = widgets.Button(\n",
    "    description='load dataset',\n",
    ")\n",
    "@button.on_click\n",
    "def open_file_on_click(b):\n",
    "    \"\"\"\n",
    "    Event handler for button click event.\n",
    "    Prompts the user to select a dataset file and stores the selected file path in the global variable dataset_path.\n",
    "    \"\"\"\n",
    "    global dataset_path\n",
    "    dataset_path = dataset_path_qt.gui_fname().decode('ASCII')\n",
    "button"
   ]
  },
  {
   "cell_type": "code",
   "execution_count": 4,
   "metadata": {
    "pycharm": {
     "name": "#%%\n"
    },
    "tags": []
   },
   "outputs": [],
   "source": [
    "# check pytables library and install it\n",
    "# try:\n",
    "#     import tables\n",
    "# except:\n",
    "#     !conda install --yes --prefix {sys.prefix} pytables"
   ]
  },
  {
   "cell_type": "code",
   "execution_count": 5,
   "metadata": {
    "tags": []
   },
   "outputs": [
    {
     "data": {
      "application/vnd.jupyter.widget-view+json": {
       "model_id": "e462ee4f348943fb9cad8f9076506bc7",
       "version_major": 2,
       "version_minor": 0
      },
      "text/plain": [
       "Dropdown(description='Data mode:', options=('surface_concept', 'roentdec', 'leap_epos', 'leap_pos', 'ato_v6'),…"
      ]
     },
     "metadata": {},
     "output_type": "display_data"
    },
    {
     "data": {
      "application/vnd.jupyter.widget-view+json": {
       "model_id": "a74e610d7bb54e8484b3eac9f0f38fec",
       "version_major": 2,
       "version_minor": 0
      },
      "text/plain": [
       "Dropdown(description='Pulse mode:', options=('voltage', 'laser'), value='voltage')"
      ]
     },
     "metadata": {},
     "output_type": "display_data"
    },
    {
     "data": {
      "application/vnd.jupyter.widget-view+json": {
       "model_id": "3655aca6fc1946a8a395efaa7fe42017",
       "version_major": 2,
       "version_minor": 0
      },
      "text/plain": [
       "FloatText(value=110.0, description='Flight path length:')"
      ]
     },
     "metadata": {},
     "output_type": "display_data"
    },
    {
     "data": {
      "application/vnd.jupyter.widget-view+json": {
       "model_id": "2d7c44b380cd4d1a81818156cafda743",
       "version_major": 2,
       "version_minor": 0
      },
      "text/plain": [
       "FloatText(value=54.0, description='t0:')"
      ]
     },
     "metadata": {},
     "output_type": "display_data"
    },
    {
     "data": {
      "application/vnd.jupyter.widget-view+json": {
       "model_id": "b516c3fd40fb4643879b1bc87b5c4f8f",
       "version_major": 2,
       "version_minor": 0
      },
      "text/plain": [
       "FloatText(value=400.0, description='Max mc:')"
      ]
     },
     "metadata": {},
     "output_type": "display_data"
    }
   ],
   "source": [
    "# create object for selection of instrument specifications of the dataset\n",
    "tdc, pulse_mode, flightPathLength_d, t0_d, max_mc, det_diam = wd.dataset_instrument_specification_selection()\n",
    "\n",
    "# Display lists and comboboxes to selected instrument specifications\n",
    "display(tdc, pulse_mode, flightPathLength_d, t0_d, max_mc)"
   ]
  },
  {
   "cell_type": "code",
   "execution_count": 6,
   "metadata": {
    "pycharm": {
     "name": "#%%\n"
    },
    "tags": []
   },
   "outputs": [
    {
     "name": "stdout",
     "output_type": "stream",
     "text": [
      "The maximum possible TOF is: 5010 ns\n",
      "=============================\n",
      "The data will be saved on the path: D:/pyccapt/tests/data/OLO_AL_6_data\n",
      "=============================\n",
      "The dataset name after saving is: cropped_OLO_AL_6_data\n",
      "=============================\n",
      "The figures will be saved on the path: D:/pyccapt/tests/data/OLO_AL_6_data/load_crop/\n",
      "=============================\n",
      "{'dld': ['high_voltage', 'pulse', 'start_counter', 't', 'x', 'y'], 'oxcart': ['high_voltage', 'main_chamber_vacuum', 'num_events', 'pulse_voltage', 'temperature', 'time_counter'], 'tdc': ['channel', 'high_voltage', 'pulse_voltage', 'start_counter', 'time_data'], 'time': ['time_h', 'time_m', 'time_s']}\n",
      "The number of data over max_tof: 245\n",
      "Total number of Ions: 1999982\n"
     ]
    }
   ],
   "source": [
    "# Calculate the maximum possible time of flight (TOF)\n",
    "max_tof = int(tof_tools.mc2tof(max_mc.value, 1000, 0, 0, flightPathLength_d.value))\n",
    "print('The maximum possible TOF is:', max_tof, 'ns')\n",
    "print('=============================')\n",
    "# create an instance of the Variables opject\n",
    "variables = share_variables.Variables()\n",
    "variables.pulse_mode = pulse_mode.value\n",
    "dataset_main_path = os.path.dirname(dataset_path)\n",
    "dataset_name_with_extention = os.path.basename(dataset_path)\n",
    "variables.dataset_name = os.path.splitext(dataset_name_with_extention)[0]\n",
    "variables.result_data_path = dataset_main_path + '/' + variables.dataset_name \n",
    "variables.result_data_name = 'cropped_' +  variables.dataset_name \n",
    "variables.result_path = dataset_main_path + '/' + variables.dataset_name + '/load_crop/'\n",
    "\n",
    "if not os.path.isdir(variables.result_path):\n",
    "    os.makedirs(variables.result_path, mode=0o777, exist_ok=True)\n",
    "\n",
    "print('The data will be saved on the path:', variables.result_data_path)\n",
    "print('=============================')\n",
    "print('The dataset name after saving is:', variables.result_data_name)\n",
    "print('=============================')\n",
    "print('The figures will be saved on the path:', variables.result_path)\n",
    "print('=============================')\n",
    "\n",
    "# Create data farame out of hdf5 file dataset\n",
    "dld_group_storage = data_tools.load_data(dataset_path, tdc.value, mode='raw')\n",
    "\n",
    "# Remove the data with tof greater thatn Max TOF or below 0 ns\n",
    "data = data_tools.remove_invalid_data(dld_group_storage, max_tof)\n",
    "print('Total number of Ions:', len(data))"
   ]
  },
  {
   "cell_type": "code",
   "execution_count": 7,
   "metadata": {
    "tags": []
   },
   "outputs": [
    {
     "data": {
      "text/html": [
       "<div>\n",
       "<style scoped>\n",
       "    .dataframe tbody tr th:only-of-type {\n",
       "        vertical-align: middle;\n",
       "    }\n",
       "\n",
       "    .dataframe tbody tr th {\n",
       "        vertical-align: top;\n",
       "    }\n",
       "\n",
       "    .dataframe thead th {\n",
       "        text-align: right;\n",
       "    }\n",
       "</style>\n",
       "<table border=\"1\" class=\"dataframe\">\n",
       "  <thead>\n",
       "    <tr style=\"text-align: right;\">\n",
       "      <th></th>\n",
       "      <th>high_voltage (V)</th>\n",
       "      <th>pulse</th>\n",
       "      <th>start_counter</th>\n",
       "      <th>t (ns)</th>\n",
       "      <th>x_det (cm)</th>\n",
       "      <th>y_det (cm)</th>\n",
       "    </tr>\n",
       "  </thead>\n",
       "  <tbody>\n",
       "    <tr>\n",
       "      <th>0</th>\n",
       "      <td>504.179993</td>\n",
       "      <td>504.179993</td>\n",
       "      <td>6802</td>\n",
       "      <td>67.928490</td>\n",
       "      <td>-3.578449</td>\n",
       "      <td>-0.327918</td>\n",
       "    </tr>\n",
       "    <tr>\n",
       "      <th>1</th>\n",
       "      <td>507.595490</td>\n",
       "      <td>507.595490</td>\n",
       "      <td>37928</td>\n",
       "      <td>1924.293078</td>\n",
       "      <td>1.238449</td>\n",
       "      <td>-2.798449</td>\n",
       "    </tr>\n",
       "    <tr>\n",
       "      <th>2</th>\n",
       "      <td>507.595490</td>\n",
       "      <td>507.595490</td>\n",
       "      <td>48040</td>\n",
       "      <td>769.611618</td>\n",
       "      <td>0.999673</td>\n",
       "      <td>1.843347</td>\n",
       "    </tr>\n",
       "    <tr>\n",
       "      <th>3</th>\n",
       "      <td>508.731995</td>\n",
       "      <td>508.731995</td>\n",
       "      <td>6858</td>\n",
       "      <td>2148.679980</td>\n",
       "      <td>1.378531</td>\n",
       "      <td>-1.575918</td>\n",
       "    </tr>\n",
       "    <tr>\n",
       "      <th>4</th>\n",
       "      <td>511.760986</td>\n",
       "      <td>511.760986</td>\n",
       "      <td>30260</td>\n",
       "      <td>2993.222106</td>\n",
       "      <td>1.598204</td>\n",
       "      <td>0.143265</td>\n",
       "    </tr>\n",
       "    <tr>\n",
       "      <th>...</th>\n",
       "      <td>...</td>\n",
       "      <td>...</td>\n",
       "      <td>...</td>\n",
       "      <td>...</td>\n",
       "      <td>...</td>\n",
       "      <td>...</td>\n",
       "    </tr>\n",
       "    <tr>\n",
       "      <th>1999977</th>\n",
       "      <td>4593.749023</td>\n",
       "      <td>4593.749023</td>\n",
       "      <td>59316</td>\n",
       "      <td>669.423096</td>\n",
       "      <td>1.636408</td>\n",
       "      <td>0.563510</td>\n",
       "    </tr>\n",
       "    <tr>\n",
       "      <th>1999978</th>\n",
       "      <td>4593.749023</td>\n",
       "      <td>4593.749023</td>\n",
       "      <td>59566</td>\n",
       "      <td>675.122094</td>\n",
       "      <td>1.407184</td>\n",
       "      <td>1.267102</td>\n",
       "    </tr>\n",
       "    <tr>\n",
       "      <th>1999979</th>\n",
       "      <td>4593.749023</td>\n",
       "      <td>4593.749023</td>\n",
       "      <td>59770</td>\n",
       "      <td>681.884082</td>\n",
       "      <td>1.655510</td>\n",
       "      <td>2.228571</td>\n",
       "    </tr>\n",
       "    <tr>\n",
       "      <th>1999980</th>\n",
       "      <td>4593.749023</td>\n",
       "      <td>4593.749023</td>\n",
       "      <td>59783</td>\n",
       "      <td>671.453064</td>\n",
       "      <td>-0.366122</td>\n",
       "      <td>-1.948408</td>\n",
       "    </tr>\n",
       "    <tr>\n",
       "      <th>1999981</th>\n",
       "      <td>4593.749023</td>\n",
       "      <td>4593.749023</td>\n",
       "      <td>59815</td>\n",
       "      <td>678.276774</td>\n",
       "      <td>0.127347</td>\n",
       "      <td>1.919755</td>\n",
       "    </tr>\n",
       "  </tbody>\n",
       "</table>\n",
       "<p>1999982 rows × 6 columns</p>\n",
       "</div>"
      ],
      "text/plain": [
       "         high_voltage (V)        pulse  start_counter       t (ns)  \\\n",
       "0              504.179993   504.179993           6802    67.928490   \n",
       "1              507.595490   507.595490          37928  1924.293078   \n",
       "2              507.595490   507.595490          48040   769.611618   \n",
       "3              508.731995   508.731995           6858  2148.679980   \n",
       "4              511.760986   511.760986          30260  2993.222106   \n",
       "...                   ...          ...            ...          ...   \n",
       "1999977       4593.749023  4593.749023          59316   669.423096   \n",
       "1999978       4593.749023  4593.749023          59566   675.122094   \n",
       "1999979       4593.749023  4593.749023          59770   681.884082   \n",
       "1999980       4593.749023  4593.749023          59783   671.453064   \n",
       "1999981       4593.749023  4593.749023          59815   678.276774   \n",
       "\n",
       "         x_det (cm)  y_det (cm)  \n",
       "0         -3.578449   -0.327918  \n",
       "1          1.238449   -2.798449  \n",
       "2          0.999673    1.843347  \n",
       "3          1.378531   -1.575918  \n",
       "4          1.598204    0.143265  \n",
       "...             ...         ...  \n",
       "1999977    1.636408    0.563510  \n",
       "1999978    1.407184    1.267102  \n",
       "1999979    1.655510    2.228571  \n",
       "1999980   -0.366122   -1.948408  \n",
       "1999981    0.127347    1.919755  \n",
       "\n",
       "[1999982 rows x 6 columns]"
      ]
     },
     "execution_count": 7,
     "metadata": {},
     "output_type": "execute_result"
    }
   ],
   "source": [
    "data"
   ]
  },
  {
   "cell_type": "code",
   "execution_count": 23,
   "metadata": {
    "tags": []
   },
   "outputs": [
    {
     "data": {
      "application/vnd.jupyter.widget-view+json": {
       "model_id": "82960416ed3c40fb893a5d79726d9061",
       "version_major": 2,
       "version_minor": 0
      },
      "image/png": "[encoded data removed]",
      "text/html": [
       "\n",
       "            <div style=\"display: inline-block;\">\n",
       "                <div class=\"jupyter-widgets widget-label\" style=\"text-align: center;\">\n",
       "                    Figure\n",
       "                </div>\n",
       "                <img src='data:image/png;base64,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' width=400.0/>\n",
       "            </div>\n",
       "        "
      ],
      "text/plain": [
       "Canvas(toolbar=Toolbar(toolitems=[('Home', 'Reset original view', 'home', 'home'), ('Back', 'Back to previous …"
      ]
     },
     "metadata": {},
     "output_type": "display_data"
    }
   ],
   "source": [
    "import matplotlib.pyplot as plt\n",
    "dld_peak = data_crop['t (ns)'].to_numpy()\n",
    "dld_x_peak = data_crop['y_det (cm)'].to_numpy()\n",
    "mask_temporal = np.logical_and((dld_peak > 594),\n",
    "                               (dld_peak < 758))\n",
    "dld_peak = dld_peak[mask_temporal] \n",
    "dld_x_peak = dld_x_peak[mask_temporal]\n",
    "fig1, ax1 = plt.subplots(figsize=(4,4), constrained_layout=True)\n",
    "mask = np.random.randint(0, len(dld_peak), 10000)\n",
    "\n",
    "x = plt.scatter(dld_x_peak[mask]*10, dld_peak[mask], color=\"blue\", label=r\"$t$\", s=1)\n",
    "plt.show()"
   ]
  },
  {
   "cell_type": "markdown",
   "metadata": {
    "tags": []
   },
   "source": [
    "$\\textbf {Temporal crop}$\n",
    "<br>\n",
    "<br>\n",
    "$\\text {Select the data by drawing a rectangel over the experiment history}$"
   ]
  },
  {
   "cell_type": "code",
   "execution_count": 8,
   "metadata": {
    "pycharm": {
     "name": "#%%\n"
    },
    "tags": []
   },
   "outputs": [
    {
     "name": "stderr",
     "output_type": "stream",
     "text": [
      "C:\\Users\\APTUser\\AppData\\Local\\Temp\\ipykernel_18580\\797085356.py:1: DeprecationWarning: on_submit is deprecated. Instead, set the .continuous_update attribute to False and observe the value changing with: mywidget.observe(callback, 'value').\n",
      "  interact_manual(data_loadcrop.plot_crop_experiment_history, data=fixed(data), variables=fixed(variables), max_tof=widgets.FloatText(value=max_tof), frac=widgets.FloatText(value=1.0),\n"
     ]
    },
    {
     "data": {
      "application/vnd.jupyter.widget-view+json": {
       "model_id": "18a75592a688417cbade458055c363b4",
       "version_major": 2,
       "version_minor": 0
      },
      "text/plain": [
       "interactive(children=(FloatText(value=5010.0, description='max_tof'), FloatText(value=1.0, description='frac')…"
      ]
     },
     "metadata": {},
     "output_type": "display_data"
    }
   ],
   "source": [
    "interact_manual(data_loadcrop.plot_crop_experiment_history, data=fixed(data), variables=fixed(variables), max_tof=widgets.FloatText(value=max_tof), frac=widgets.FloatText(value=1.0),\n",
    "                bins=fixed((1200,800)), figure_size=fixed((7,3)),\n",
    "               draw_rect=fixed(False), data_crop=fixed(True), pulse=widgets.Dropdown(options=[('False', False), ('True', True)]), \n",
    "                pulse_mode=widgets.Dropdown(options=[('voltage', 'voltage'), ('laser', 'laser')]), save=widgets.Dropdown(options=[('True', True), ('False', False)]),\n",
    "               figname=widgets.Text(value='hist_ini'));\n"
   ]
  },
  {
   "cell_type": "markdown",
   "metadata": {
    "pycharm": {
     "name": "#%% md\n"
    }
   },
   "source": [
    "$\\text{Boundaries of the selected(cropped) part of the graph is printed below}$"
   ]
  },
  {
   "cell_type": "code",
   "execution_count": 9,
   "metadata": {
    "pycharm": {
     "name": "#%%\n"
    },
    "tags": []
   },
   "outputs": [
    {
     "name": "stdout",
     "output_type": "stream",
     "text": [
      "Min Idx: 81336.68334707292 Max Idx: 1991650.782623407\n"
     ]
    }
   ],
   "source": [
    "# Crop the dataset\n",
    "print('Min Idx:', variables.selected_x1, 'Max Idx:', variables.selected_x2)\n",
    "data_crop = data_loadcrop.crop_dataset(data, variables)"
   ]
  },
  {
   "cell_type": "code",
   "execution_count": 10,
   "metadata": {
    "pycharm": {
     "name": "#%%\n"
    },
    "tags": []
   },
   "outputs": [
    {
     "name": "stderr",
     "output_type": "stream",
     "text": [
      "C:\\Users\\APTUser\\AppData\\Local\\Temp\\ipykernel_18580\\2819923865.py:2: DeprecationWarning: on_submit is deprecated. Instead, set the .continuous_update attribute to False and observe the value changing with: mywidget.observe(callback, 'value').\n",
      "  interact_manual(data_loadcrop.plot_crop_experiment_history, data=fixed(data), variables=fixed(variables), max_tof=widgets.FloatText(value=max_tof), frac=widgets.FloatText(value=1.0),\n"
     ]
    },
    {
     "data": {
      "application/vnd.jupyter.widget-view+json": {
       "model_id": "3e2e446350ad4aaf92d35718de2576aa",
       "version_major": 2,
       "version_minor": 0
      },
      "text/plain": [
       "interactive(children=(FloatText(value=5010.0, description='max_tof'), FloatText(value=1.0, description='frac')…"
      ]
     },
     "metadata": {},
     "output_type": "display_data"
    }
   ],
   "source": [
    "# Plot and selected experiment history\n",
    "interact_manual(data_loadcrop.plot_crop_experiment_history, data=fixed(data), variables=fixed(variables), max_tof=widgets.FloatText(value=max_tof), frac=widgets.FloatText(value=1.0),\n",
    "                bins=fixed((1200,800)), figure_size=fixed((7,3)),\n",
    "               draw_rect=fixed(True), data_crop=fixed(False), pulse=widgets.Dropdown(options=[('False', False), ('True', True)]), \n",
    "                pulse_mode=widgets.Dropdown(options=[('voltage', 'voltage'), ('laser', 'laser')]), save=widgets.Dropdown(options=[('True', True), ('False', False)]),\n",
    "               figname=widgets.Text(value='hist_rect'));\n"
   ]
  },
  {
   "cell_type": "markdown",
   "metadata": {
    "pycharm": {
     "name": "#%% md\n"
    }
   },
   "source": [
    "$\\textbf {Spacial crop}$\n",
    "<br>\n",
    "<br>\n",
    "$\\text {Select the region of maximum concentration of Ions in the below plotted graph to utlize relevant data}$"
   ]
  },
  {
   "cell_type": "code",
   "execution_count": 11,
   "metadata": {
    "pycharm": {
     "name": "#%%\n"
    },
    "tags": []
   },
   "outputs": [
    {
     "name": "stderr",
     "output_type": "stream",
     "text": [
      "C:\\Users\\APTUser\\AppData\\Local\\Temp\\ipykernel_18580\\999593063.py:2: DeprecationWarning: on_submit is deprecated. Instead, set the .continuous_update attribute to False and observe the value changing with: mywidget.observe(callback, 'value').\n",
      "  interact_manual(data_loadcrop.plot_crop_fdm, data=fixed(data_crop), variables=fixed(variables), frac=widgets.FloatText(value=1.0),\n"
     ]
    },
    {
     "data": {
      "application/vnd.jupyter.widget-view+json": {
       "model_id": "4e3c10d8a186442b88145ab40134d0a5",
       "version_major": 2,
       "version_minor": 0
      },
      "text/plain": [
       "interactive(children=(FloatText(value=1.0, description='frac'), Dropdown(description='save', options=(('True',…"
      ]
     },
     "metadata": {},
     "output_type": "display_data"
    }
   ],
   "source": [
    "# Plot and select the FDM\n",
    "interact_manual(data_loadcrop.plot_crop_fdm, data=fixed(data_crop), variables=fixed(variables), frac=widgets.FloatText(value=1.0),\n",
    "                bins=fixed((256,256)), figure_size=fixed((5,4)),\n",
    "               draw_circle=fixed(False), data_crop=fixed(True), \n",
    "                save=widgets.Dropdown(options=[('True', True), ('False', False)]),\n",
    "               figname=widgets.Text(value='fdm_ini'));"
   ]
  },
  {
   "cell_type": "markdown",
   "metadata": {
    "pycharm": {
     "name": "#%% md\n"
    }
   },
   "source": [
    "$\\text {The region selected in the previous step is displayed below.}$"
   ]
  },
  {
   "cell_type": "code",
   "execution_count": 12,
   "metadata": {
    "pycharm": {
     "name": "#%%\n"
    },
    "tags": []
   },
   "outputs": [
    {
     "name": "stderr",
     "output_type": "stream",
     "text": [
      "C:\\Users\\APTUser\\AppData\\Local\\Temp\\ipykernel_18580\\3249001940.py:2: DeprecationWarning: on_submit is deprecated. Instead, set the .continuous_update attribute to False and observe the value changing with: mywidget.observe(callback, 'value').\n",
      "  interact_manual(data_loadcrop.plot_crop_fdm, data=fixed(data_crop), variables=fixed(variables), frac=widgets.FloatText(value=1.0),\n"
     ]
    },
    {
     "data": {
      "application/vnd.jupyter.widget-view+json": {
       "model_id": "ad00cd4415c942ecab41faec4ebec1d3",
       "version_major": 2,
       "version_minor": 0
      },
      "text/plain": [
       "interactive(children=(FloatText(value=1.0, description='frac'), Dropdown(description='save', options=(('True',…"
      ]
     },
     "metadata": {},
     "output_type": "display_data"
    }
   ],
   "source": [
    "# plot selected area in FDM\n",
    "interact_manual(data_loadcrop.plot_crop_fdm, data=fixed(data_crop), variables=fixed(variables), frac=widgets.FloatText(value=1.0),\n",
    "                bins=fixed((256,256)), figure_size=fixed((5,4)),\n",
    "                draw_circle=fixed(True), data_crop=fixed(False), \n",
    "                save=widgets.Dropdown(options=[('True', True), ('False', False)]),\n",
    "               figname=widgets.Text(value='fdm_circle'));"
   ]
  },
  {
   "cell_type": "markdown",
   "metadata": {
    "pycharm": {
     "name": "#%% md\n"
    }
   },
   "source": [
    "$\\text {The final selected data after processing is shown below.}$"
   ]
  },
  {
   "cell_type": "code",
   "execution_count": 13,
   "metadata": {
    "pycharm": {
     "name": "#%%\n"
    },
    "tags": []
   },
   "outputs": [
    {
     "name": "stderr",
     "output_type": "stream",
     "text": [
      "C:\\Users\\APTUser\\AppData\\Local\\Temp\\ipykernel_18580\\4052553126.py:2: DeprecationWarning: on_submit is deprecated. Instead, set the .continuous_update attribute to False and observe the value changing with: mywidget.observe(callback, 'value').\n",
      "  interact_manual(data_loadcrop.plot_crop_fdm, data=fixed(data_crop), variables=fixed(variables), frac=widgets.FloatText(value=1.0),\n"
     ]
    },
    {
     "data": {
      "application/vnd.jupyter.widget-view+json": {
       "model_id": "2fffe291c3b648b395ccc900cbbbcf72",
       "version_major": 2,
       "version_minor": 0
      },
      "text/plain": [
       "interactive(children=(FloatText(value=1.0, description='frac'), Dropdown(description='save', options=(('True',…"
      ]
     },
     "metadata": {},
     "output_type": "display_data"
    }
   ],
   "source": [
    "# Crop and plot the dataset\n",
    "interact_manual(data_loadcrop.plot_crop_fdm, data=fixed(data_crop), variables=fixed(variables), frac=widgets.FloatText(value=1.0),\n",
    "                bins=fixed((256,256)), figure_size=fixed((5,4)),\n",
    "               draw_circle=fixed(False), data_crop=fixed(False), \n",
    "                save=widgets.Dropdown(options=[('True', True), ('False', False)]),\n",
    "               figname=widgets.Text(value='fdm'));"
   ]
  },
  {
   "cell_type": "markdown",
   "metadata": {},
   "source": [
    "$\\text {Calculate pulses since the last event pulse and ions per pulse.}$"
   ]
  },
  {
   "cell_type": "code",
   "execution_count": 14,
   "metadata": {
    "tags": []
   },
   "outputs": [
    {
     "name": "stderr",
     "output_type": "stream",
     "text": [
      "d:\\pyccapt\\pyccapt\\calibration\\data_tools\\data_loadcrop.py:343: RuntimeWarning: overflow encountered in ulong_scalars\n",
      "  pulse_pi[i] = current_counter - previous_counter\n",
      "d:\\pyccapt\\pyccapt\\calibration\\data_tools\\data_loadcrop.py:348: RuntimeWarning: overflow encountered in ulong_scalars\n",
      "  pulse_to_previous_ion = current_counter - previous_counter\n",
      "C:\\Users\\APTUser\\AppData\\Local\\Temp\\ipykernel_18580\\3659353448.py:4: SettingWithCopyWarning: \n",
      "A value is trying to be set on a copy of a slice from a DataFrame.\n",
      "Try using .loc[row_indexer,col_indexer] = value instead\n",
      "\n",
      "See the caveats in the documentation: https://pandas.pydata.org/pandas-docs/stable/user_guide/indexing.html#returning-a-view-versus-a-copy\n",
      "  data_crop['pulse_pi'] = pulse_pi.astype(np.uintc)\n",
      "C:\\Users\\APTUser\\AppData\\Local\\Temp\\ipykernel_18580\\3659353448.py:5: SettingWithCopyWarning: \n",
      "A value is trying to be set on a copy of a slice from a DataFrame.\n",
      "Try using .loc[row_indexer,col_indexer] = value instead\n",
      "\n",
      "See the caveats in the documentation: https://pandas.pydata.org/pandas-docs/stable/user_guide/indexing.html#returning-a-view-versus-a-copy\n",
      "  data_crop['ion_pp'] = ion_pp.astype(np.uintc)\n"
     ]
    }
   ],
   "source": [
    "pulse_pi, ion_pp = data_loadcrop.calculate_ppi_and_ipp(data_crop)\n",
    "\n",
    "# add two calculated array to the croped dataset\n",
    "data_crop['pulse_pi'] = pulse_pi.astype(np.uintc)\n",
    "data_crop['ion_pp'] = ion_pp.astype(np.uintc)\n"
   ]
  },
  {
   "cell_type": "markdown",
   "metadata": {
    "pycharm": {
     "name": "#%% md\n"
    }
   },
   "source": [
    "$\\text {The percentage of loss in ROI selection process.}$"
   ]
  },
  {
   "cell_type": "code",
   "execution_count": 15,
   "metadata": {
    "tags": []
   },
   "outputs": [
    {
     "name": "stdout",
     "output_type": "stream",
     "text": [
      "tof Crop Loss 4.48 %\n"
     ]
    }
   ],
   "source": [
    "# save the cropped data\n",
    "print('tof Crop Loss {:.2f} %'.format((100 - (len(data_crop) / len(data)) * 100)))"
   ]
  },
  {
   "cell_type": "code",
   "execution_count": 16,
   "metadata": {
    "tags": []
   },
   "outputs": [],
   "source": [
    "# exctract needed data from Pandas data frame as an numpy array\n",
    "dld_highVoltage = data_crop['high_voltage (V)'].to_numpy()\n",
    "dld_pulseVoltage = data_crop['pulse'].to_numpy()\n",
    "dld_t = data_crop['t (ns)'].to_numpy()\n",
    "dld_x = data_crop['x_det (cm)'].to_numpy()\n",
    "dld_y = data_crop['y_det (cm)'].to_numpy()\n",
    "\n",
    "data_crop.insert(0, 'x (nm)', np.zeros(len(dld_t)))\n",
    "data_crop.insert(1, 'y (nm)', np.zeros(len(dld_t)))\n",
    "data_crop.insert(2,'z (nm)', np.zeros(len(dld_t)))\n",
    "data_crop.insert(3,'mc_c (Da)', np.zeros(len(dld_t)))\n",
    "# calculate the mc\n",
    "mc_seb_ini = mc_tools.tof2mc(dld_t, t0_d.value, dld_highVoltage, dld_pulseVoltage, dld_x, dld_y, flightPathLength_d.value, mode='dc_voltage')\n",
    "data_crop.insert(4, 'mc (Da)', mc_seb_ini)\n",
    "data_crop.insert(8,'t_c (ns)', np.zeros(len(dld_t)))"
   ]
  },
  {
   "cell_type": "markdown",
   "metadata": {},
   "source": [
    "$\\text {Remove the data with mc biger than max mc.}$"
   ]
  },
  {
   "cell_type": "code",
   "execution_count": 17,
   "metadata": {
    "tags": []
   },
   "outputs": [
    {
     "name": "stdout",
     "output_type": "stream",
     "text": [
      "The number of data over max_mc: 0\n",
      "The number of data with having t, x, and y equal to zero is: 0\n"
     ]
    },
    {
     "name": "stderr",
     "output_type": "stream",
     "text": [
      "C:\\Users\\APTUser\\AppData\\Local\\Temp\\ipykernel_18580\\3097091198.py:4: SettingWithCopyWarning: \n",
      "A value is trying to be set on a copy of a slice from a DataFrame\n",
      "\n",
      "See the caveats in the documentation: https://pandas.pydata.org/pandas-docs/stable/user_guide/indexing.html#returning-a-view-versus-a-copy\n",
      "  data_crop.drop(np.where(mask)[0], inplace=True)\n",
      "C:\\Users\\APTUser\\AppData\\Local\\Temp\\ipykernel_18580\\3097091198.py:14: SettingWithCopyWarning: \n",
      "A value is trying to be set on a copy of a slice from a DataFrame\n",
      "\n",
      "See the caveats in the documentation: https://pandas.pydata.org/pandas-docs/stable/user_guide/indexing.html#returning-a-view-versus-a-copy\n",
      "  data_crop.drop(np.where(mask)[0], inplace=True)\n"
     ]
    }
   ],
   "source": [
    "# Remove the data with mc biger than max mc\n",
    "mask = (data_crop['mc (Da)'].to_numpy() > max_mc.value)\n",
    "print('The number of data over max_mc:', len(mask[mask==True]))\n",
    "data_crop.drop(np.where(mask)[0], inplace=True)\n",
    "data_crop.reset_index(inplace=True, drop=True)\n",
    "\n",
    "# Remove the data with x,y,t = 0\n",
    "mask1 = (data_crop['x (nm)'].to_numpy() == 0)\n",
    "mask2 = (data_crop['y (nm)'].to_numpy() == 0)\n",
    "mask3 = (data_crop['t (ns)'].to_numpy() == 0)\n",
    "mask = np.logical_and(mask1, mask2)\n",
    "mask = np.logical_and(mask, mask3)\n",
    "print('The number of data with having t, x, and y equal to zero is:', len(mask[mask==True]))\n",
    "data_crop.drop(np.where(mask)[0], inplace=True)\n",
    "data_crop.reset_index(inplace=True, drop=True)"
   ]
  },
  {
   "cell_type": "code",
   "execution_count": 18,
   "metadata": {
    "tags": []
   },
   "outputs": [
    {
     "data": {
      "text/html": [
       "<div>\n",
       "<style scoped>\n",
       "    .dataframe tbody tr th:only-of-type {\n",
       "        vertical-align: middle;\n",
       "    }\n",
       "\n",
       "    .dataframe tbody tr th {\n",
       "        vertical-align: top;\n",
       "    }\n",
       "\n",
       "    .dataframe thead th {\n",
       "        text-align: right;\n",
       "    }\n",
       "</style>\n",
       "<table border=\"1\" class=\"dataframe\">\n",
       "  <thead>\n",
       "    <tr style=\"text-align: right;\">\n",
       "      <th></th>\n",
       "      <th>x (nm)</th>\n",
       "      <th>y (nm)</th>\n",
       "      <th>z (nm)</th>\n",
       "      <th>mc_c (Da)</th>\n",
       "      <th>mc (Da)</th>\n",
       "      <th>high_voltage (V)</th>\n",
       "      <th>pulse</th>\n",
       "      <th>start_counter</th>\n",
       "      <th>t_c (ns)</th>\n",
       "      <th>t (ns)</th>\n",
       "      <th>x_det (cm)</th>\n",
       "      <th>y_det (cm)</th>\n",
       "      <th>pulse_pi</th>\n",
       "      <th>ion_pp</th>\n",
       "    </tr>\n",
       "  </thead>\n",
       "  <tbody>\n",
       "    <tr>\n",
       "      <th>0</th>\n",
       "      <td>0.0</td>\n",
       "      <td>0.0</td>\n",
       "      <td>0.0</td>\n",
       "      <td>0.0</td>\n",
       "      <td>0.000375</td>\n",
       "      <td>3044.420898</td>\n",
       "      <td>3044.420898</td>\n",
       "      <td>54025</td>\n",
       "      <td>0.0</td>\n",
       "      <td>823.981842</td>\n",
       "      <td>2.136245</td>\n",
       "      <td>1.499510</td>\n",
       "      <td>0</td>\n",
       "      <td>0</td>\n",
       "    </tr>\n",
       "    <tr>\n",
       "      <th>1</th>\n",
       "      <td>0.0</td>\n",
       "      <td>0.0</td>\n",
       "      <td>0.0</td>\n",
       "      <td>0.0</td>\n",
       "      <td>0.000354</td>\n",
       "      <td>3044.420898</td>\n",
       "      <td>3044.420898</td>\n",
       "      <td>54732</td>\n",
       "      <td>0.0</td>\n",
       "      <td>802.104822</td>\n",
       "      <td>1.034694</td>\n",
       "      <td>0.248327</td>\n",
       "      <td>707</td>\n",
       "      <td>2</td>\n",
       "    </tr>\n",
       "    <tr>\n",
       "      <th>2</th>\n",
       "      <td>0.0</td>\n",
       "      <td>0.0</td>\n",
       "      <td>0.0</td>\n",
       "      <td>0.0</td>\n",
       "      <td>0.000228</td>\n",
       "      <td>3044.420898</td>\n",
       "      <td>3044.420898</td>\n",
       "      <td>56128</td>\n",
       "      <td>0.0</td>\n",
       "      <td>653.574258</td>\n",
       "      <td>0.124163</td>\n",
       "      <td>-2.413224</td>\n",
       "      <td>1396</td>\n",
       "      <td>1</td>\n",
       "    </tr>\n",
       "    <tr>\n",
       "      <th>3</th>\n",
       "      <td>0.0</td>\n",
       "      <td>0.0</td>\n",
       "      <td>0.0</td>\n",
       "      <td>0.0</td>\n",
       "      <td>0.000362</td>\n",
       "      <td>3044.420898</td>\n",
       "      <td>3044.420898</td>\n",
       "      <td>56875</td>\n",
       "      <td>0.0</td>\n",
       "      <td>810.149256</td>\n",
       "      <td>0.604898</td>\n",
       "      <td>-1.881551</td>\n",
       "      <td>747</td>\n",
       "      <td>1</td>\n",
       "    </tr>\n",
       "    <tr>\n",
       "      <th>4</th>\n",
       "      <td>0.0</td>\n",
       "      <td>0.0</td>\n",
       "      <td>0.0</td>\n",
       "      <td>0.0</td>\n",
       "      <td>0.000015</td>\n",
       "      <td>3044.420898</td>\n",
       "      <td>3044.420898</td>\n",
       "      <td>57067</td>\n",
       "      <td>0.0</td>\n",
       "      <td>205.740000</td>\n",
       "      <td>0.522122</td>\n",
       "      <td>-2.715673</td>\n",
       "      <td>192</td>\n",
       "      <td>1</td>\n",
       "    </tr>\n",
       "    <tr>\n",
       "      <th>...</th>\n",
       "      <td>...</td>\n",
       "      <td>...</td>\n",
       "      <td>...</td>\n",
       "      <td>...</td>\n",
       "      <td>...</td>\n",
       "      <td>...</td>\n",
       "      <td>...</td>\n",
       "      <td>...</td>\n",
       "      <td>...</td>\n",
       "      <td>...</td>\n",
       "      <td>...</td>\n",
       "      <td>...</td>\n",
       "      <td>...</td>\n",
       "      <td>...</td>\n",
       "    </tr>\n",
       "    <tr>\n",
       "      <th>1910310</th>\n",
       "      <td>0.0</td>\n",
       "      <td>0.0</td>\n",
       "      <td>0.0</td>\n",
       "      <td>0.0</td>\n",
       "      <td>0.000159</td>\n",
       "      <td>4590.712891</td>\n",
       "      <td>4590.712891</td>\n",
       "      <td>35984</td>\n",
       "      <td>0.0</td>\n",
       "      <td>669.244788</td>\n",
       "      <td>-0.598531</td>\n",
       "      <td>-0.442531</td>\n",
       "      <td>581</td>\n",
       "      <td>1</td>\n",
       "    </tr>\n",
       "    <tr>\n",
       "      <th>1910311</th>\n",
       "      <td>0.0</td>\n",
       "      <td>0.0</td>\n",
       "      <td>0.0</td>\n",
       "      <td>0.0</td>\n",
       "      <td>0.000170</td>\n",
       "      <td>4590.712891</td>\n",
       "      <td>4590.712891</td>\n",
       "      <td>36380</td>\n",
       "      <td>0.0</td>\n",
       "      <td>689.983380</td>\n",
       "      <td>-2.085306</td>\n",
       "      <td>0.378857</td>\n",
       "      <td>396</td>\n",
       "      <td>1</td>\n",
       "    </tr>\n",
       "    <tr>\n",
       "      <th>1910312</th>\n",
       "      <td>0.0</td>\n",
       "      <td>0.0</td>\n",
       "      <td>0.0</td>\n",
       "      <td>0.0</td>\n",
       "      <td>0.000157</td>\n",
       "      <td>4590.712891</td>\n",
       "      <td>4590.712891</td>\n",
       "      <td>37445</td>\n",
       "      <td>0.0</td>\n",
       "      <td>665.308296</td>\n",
       "      <td>0.308816</td>\n",
       "      <td>0.210122</td>\n",
       "      <td>1065</td>\n",
       "      <td>1</td>\n",
       "    </tr>\n",
       "    <tr>\n",
       "      <th>1910313</th>\n",
       "      <td>0.0</td>\n",
       "      <td>0.0</td>\n",
       "      <td>0.0</td>\n",
       "      <td>0.0</td>\n",
       "      <td>0.000183</td>\n",
       "      <td>4590.712891</td>\n",
       "      <td>4590.712891</td>\n",
       "      <td>37719</td>\n",
       "      <td>0.0</td>\n",
       "      <td>715.042512</td>\n",
       "      <td>-0.865959</td>\n",
       "      <td>1.168408</td>\n",
       "      <td>274</td>\n",
       "      <td>1</td>\n",
       "    </tr>\n",
       "    <tr>\n",
       "      <th>1910314</th>\n",
       "      <td>0.0</td>\n",
       "      <td>0.0</td>\n",
       "      <td>0.0</td>\n",
       "      <td>0.0</td>\n",
       "      <td>0.000166</td>\n",
       "      <td>4590.712891</td>\n",
       "      <td>4590.712891</td>\n",
       "      <td>38097</td>\n",
       "      <td>0.0</td>\n",
       "      <td>682.130970</td>\n",
       "      <td>2.451429</td>\n",
       "      <td>-0.780000</td>\n",
       "      <td>378</td>\n",
       "      <td>1</td>\n",
       "    </tr>\n",
       "  </tbody>\n",
       "</table>\n",
       "<p>1910315 rows × 14 columns</p>\n",
       "</div>"
      ],
      "text/plain": [
       "         x (nm)  y (nm)  z (nm)  mc_c (Da)   mc (Da)  high_voltage (V)  \\\n",
       "0           0.0     0.0     0.0        0.0  0.000375       3044.420898   \n",
       "1           0.0     0.0     0.0        0.0  0.000354       3044.420898   \n",
       "2           0.0     0.0     0.0        0.0  0.000228       3044.420898   \n",
       "3           0.0     0.0     0.0        0.0  0.000362       3044.420898   \n",
       "4           0.0     0.0     0.0        0.0  0.000015       3044.420898   \n",
       "...         ...     ...     ...        ...       ...               ...   \n",
       "1910310     0.0     0.0     0.0        0.0  0.000159       4590.712891   \n",
       "1910311     0.0     0.0     0.0        0.0  0.000170       4590.712891   \n",
       "1910312     0.0     0.0     0.0        0.0  0.000157       4590.712891   \n",
       "1910313     0.0     0.0     0.0        0.0  0.000183       4590.712891   \n",
       "1910314     0.0     0.0     0.0        0.0  0.000166       4590.712891   \n",
       "\n",
       "               pulse  start_counter  t_c (ns)      t (ns)  x_det (cm)  \\\n",
       "0        3044.420898          54025       0.0  823.981842    2.136245   \n",
       "1        3044.420898          54732       0.0  802.104822    1.034694   \n",
       "2        3044.420898          56128       0.0  653.574258    0.124163   \n",
       "3        3044.420898          56875       0.0  810.149256    0.604898   \n",
       "4        3044.420898          57067       0.0  205.740000    0.522122   \n",
       "...              ...            ...       ...         ...         ...   \n",
       "1910310  4590.712891          35984       0.0  669.244788   -0.598531   \n",
       "1910311  4590.712891          36380       0.0  689.983380   -2.085306   \n",
       "1910312  4590.712891          37445       0.0  665.308296    0.308816   \n",
       "1910313  4590.712891          37719       0.0  715.042512   -0.865959   \n",
       "1910314  4590.712891          38097       0.0  682.130970    2.451429   \n",
       "\n",
       "         y_det (cm)  pulse_pi  ion_pp  \n",
       "0          1.499510         0       0  \n",
       "1          0.248327       707       2  \n",
       "2         -2.413224      1396       1  \n",
       "3         -1.881551       747       1  \n",
       "4         -2.715673       192       1  \n",
       "...             ...       ...     ...  \n",
       "1910310   -0.442531       581       1  \n",
       "1910311    0.378857       396       1  \n",
       "1910312    0.210122      1065       1  \n",
       "1910313    1.168408       274       1  \n",
       "1910314   -0.780000       378       1  \n",
       "\n",
       "[1910315 rows x 14 columns]"
      ]
     },
     "execution_count": 18,
     "metadata": {},
     "output_type": "execute_result"
    }
   ],
   "source": [
    "data_crop"
   ]
  },
  {
   "cell_type": "code",
   "execution_count": 19,
   "metadata": {
    "tags": []
   },
   "outputs": [
    {
     "data": {
      "text/plain": [
       "x (nm)              float64\n",
       "y (nm)              float64\n",
       "z (nm)              float64\n",
       "mc_c (Da)           float64\n",
       "mc (Da)             float64\n",
       "high_voltage (V)    float64\n",
       "pulse               float64\n",
       "start_counter        uint32\n",
       "t_c (ns)            float64\n",
       "t (ns)              float64\n",
       "x_det (cm)          float64\n",
       "y_det (cm)          float64\n",
       "pulse_pi             uint32\n",
       "ion_pp               uint32\n",
       "dtype: object"
      ]
     },
     "execution_count": 19,
     "metadata": {},
     "output_type": "execute_result"
    }
   ],
   "source": [
    "data_crop.dtypes"
   ]
  },
  {
   "cell_type": "code",
   "execution_count": 20,
   "metadata": {
    "tags": []
   },
   "outputs": [
    {
     "data": {
      "application/vnd.jupyter.widget-view+json": {
       "model_id": "e243982410cb4076bed94d0e7d78453f",
       "version_major": 2,
       "version_minor": 0
      },
      "text/plain": [
       "interactive(children=(Dropdown(description='hdf', options=(('True', True), ('False', False)), value=True), Dro…"
      ]
     },
     "metadata": {},
     "output_type": "display_data"
    }
   ],
   "source": [
    "interact_manual(data_tools.save_data, data=fixed(data_crop), variables=fixed(variables),\n",
    "                hdf=widgets.Dropdown(options=[('True', True), ('False', False)]),\n",
    "                epos=widgets.Dropdown(options=[('False', False), ('True', True)]), \n",
    "                pos=widgets.Dropdown(options=[('False', False), ('True', True)]), \n",
    "                ato_6v=widgets.Dropdown(options=[('False', False), ('True', True)]), \n",
    "                csv=widgets.Dropdown(options=[('False', False), ('True', True)]));"
   ]
  },
  {
   "cell_type": "code",
   "execution_count": 23,
   "metadata": {
    "tags": []
   },
   "outputs": [
    {
     "data": {
      "application/vnd.jupyter.widget-view+json": {
       "model_id": "82960416ed3c40fb893a5d79726d9061",
       "version_major": 2,
       "version_minor": 0
      },
      "image/png": "[encoded data removed]",
      "text/html": [
       "\n",
       "            <div style=\"display: inline-block;\">\n",
       "                <div class=\"jupyter-widgets widget-label\" style=\"text-align: center;\">\n",
       "                    Figure\n",
       "                </div>\n",
       "                <img src='data:image/png;base64,iVBORw0KGgoAAAANSUhEUgAAAZAAAAGQCAYAAACAvzbMAAAAOXRFWHRTb2Z0d2FyZQBNYXRwbG90bGliIHZlcnNpb24zLjcuMSwgaHR0cHM6Ly9tYXRwbG90bGliLm9yZy/bCgiHAAAACXBIWXMAAA9hAAAPYQGoP6dpAACHDUlEQVR4nO29fZRd1Xke/s5IMyMNeCSNQAyyNQPF2AiL2iKDQUDNclDEh92mEOOiJTuBqlLEh/kIdkDtonQ1C3Cc2k1C6gGxEsyKiXFNawxUoCoIGydVEJ8xnwIiJITQoBbQCDASgtm/P/R7r577zLv3+bj3ztwZvc9aZ0lzzzn77L3P3u/zfu19WkIIQRwOh8PhKIjWsa6Aw+FwOMYnnEAcDofDUQqTx7oCKQwPD8vrr78uH/vYx6SlpWWsq+NwOBwTEiEEeeedd2T27NnS2prfrmhqAnn99ddlzpw5Y10Nh8PhOCCwdetW+cQnPpH7+qYmkI997GMisq9RXV1dY1wbh8PhmJjYtWuXzJkzpyJz86KpCUTdVl1dXU4gDofD0WAUDRV4EN3hcDgcpeAE4nA4HI5ScAJxOBwORyk4gTgcDoejFJxAHA6Hw1EKJoEcccQR0tLSMuK45JJLKtesX79efvM3f1MOOugg6erqki984Qvy/vvvV86/9dZbsmTJEunq6pLp06fL0qVL5d133218ixwOh8MxKjAJ5NFHH5Xt27dXjrVr14qIyHnnnSci+8jjzDPPlEWLFsmGDRvk0UcflUsvvbRqBeOSJUvk2WeflbVr18p9990nDz/8sCxfvnwUmuRwOByO0UBLnt14r7jiCrnvvvvkpZdekpaWFjnppJPkt37rt+SP/uiPzOuff/55OfbYY+XRRx+V/v5+ERF54IEH5Oyzz5bXXntNZs+enatyu3btkmnTpsnQ0JCvA3E4HI4GoayszYyBfPDBB/LDH/5Q/u2//bfS0tIiO3bskEceeURmzZolJ598shx22GFy2mmnyd/93d9V7lm/fr1Mnz69Qh4iIgsXLpTW1lZ55JFHCjbN4XA4HM2ITAK5++67ZefOnXLBBReIiMimTZtEROQ//af/JMuWLZMHHnhAjj/+eDn99NPlpZdeEhGRwcFBmTVrVlU5kydPlu7ubhkcHIw+a8+ePbJr166qw+FwOBzNiUwC+cu//Es566yzKm6n4eFhERH5/d//fbnwwgtl/vz58l//63+VT3/60/JXf/VXNVXmxhtvlGnTplUO30jR4XA4mhdJAtmyZYv87d/+rfy7f/fvKr8dfvjhIiJy7LHHVl07d+5cefXVV0VEpKenR3bs2FF1/sMPP5S33npLenp6os9buXKlDA0NVY6tW7cWa43D4XA4Rg1JArnttttk1qxZ8qUvfany2xFHHCGzZ8+WjRs3Vl374osvSl9fn4iILFiwQHbu3CmPP/545fy6detkeHhYTjzxxOjzOjo6Khsn+gaKDofD0dyIEsjw8LDcdttt8nu/93syefL+TXtbWlrkW9/6lvz5n/+53HXXXfLyyy/LtddeKy+88IIsXbpURPZZI2eeeaYsW7ZMNmzYIH//938vl156qZx//vm5M7CaHTffLHLEEfv+tf7Oun6061e0DqNd30Y/v0x5sXvGom/G+n3EUI96NWvbHDkQIlizZk0QkbBx40bz/I033hg+8YlPhM7OzrBgwYLwy1/+sur8m2++GRYvXhwOPvjg0NXVFS688MLwzjvvxB5nYmhoKIhIGBoaKnTfaKCvLwSRff9af2dd3wgMDOwrX//l58XqgPfp/7u79107adK+30Yb9e4vbU93d3V789QB+2BgYN/fWlZfXwiLF4/sP/zNAvd5Z2cIra0h9Pfb9xXpj4GBfXXTtmY9vwj4Puwjq83W2KqlbVl1L9uuAx1lZW2UQJoBzUwgPFCzBu5oDOwsIbl48f6JjsAJrP/v7t4vKC0SKdOeIvfE6lq2fOwbFlgxIYdkwYrCpEn7hL7IPsHP/cf3Maw+xyNF8lnA8mIKQF6hnUUY3d3722+12WpnLW3LqvtoKGoTEU4gJTFeNJY89UQhaSGvBaLaqwpxvSfLwsmCpdFnXVumfOuelCacl1z4b72vszOfBZIiKssCqcVKQMGe1R8pcH8sXlxNTjFLLKvNWfW3ystj3Y2X+dxscAIpibHQWMqY4HnqWS8rCJ8VI42yFkiMkGJ1zXIFlWkf36OCtrV15PNSllAtmnOed5VlxXAdilrFecDtRyWgv7+4lZgHSsxMgI2aq046TiClYQ2eRg+ovCZ4Ee2tnnWOlVWPZ1iEpBpslqulEe+K3UctLdUkokIc3TZopZV14WUJQ8tas9qax0VUC1IWWaMEumXZ8bPrCXd7OYHUFbUMqDyDPK8FUqQe9ZgE9ZqgRV0VKjCyXC0W4RRpt6Whd3fvj2Wwawa17JaW/b8h6XR27jvX2ZmfcPMQkHWv9lNLy36lAsspGjcqOlYbYeGUrdd4fl4zwgmkjqhlQOUVaLUSTS3XxqCCtLOzePlFiC8liPIIXSScIu3meqGWr4TQ3j4y9hNCtXDGuqibxWpvrB9SWn2qv5Do0OJQQk0Rcao/1MrJIrZmUVJG0xo/UOAE0mAU1aqzrmv0ZMw7ydRdg8HR1tbs+nL5KMyytOuU6yr2nDykkaUhs4DEPkgRRgqLF4+0QKy+TRFm3owt7lsmFnb5ZKG/3yakIokImomFdcpDQim3pYUy7r9aXVIHEhE5gTQYqUFZZqDVY3Cm6oTnUr5zdNegW8YSDBZhpAR9VtstUmBhW0TgxCwMrEtKGFvZZ2XWweSpB1+bek7WWMnKvouViW67lPDPM344iy3WXu1bJb2i1lJsPOexYouiXkQ0HuAE0mCkBuVYDLQsTc/S2DB3v7Nzv7BEwY0LCFEQ5PV/F/GT59Eq89yfR9Pne7SdWS6tPK4my7JJkW9el11eIZglUC2goM+yslh48/jR+JBaYXkUj1osEAuxwHuRMmq9fjzDCWQMUY+BVrSMIhPRyt3PinWwBVKWJPNqxzGhmiJKFvhZgt5qnwpCdstYhBRrCwrjPPGIPH2JqaxFiEGvSfUJW1t5xg8qH0ysqXccs1SLtikLnPprWXQHkkVRFE4gTYBaJkLRwV3EZcQWSCrWYT1jYKDcyvAQRgqXmKvKqm9fX9olYpVlCU+rbBUweQhOn6NuF74WBTIvSsyyVmJAQd3ZWb1VSEogY/tRiMYWS+YZd3gN1itmZVh9Z233wlZJLYIdnxN7/40ir4kAJ5AmQNZEyOvOyXN93mssgaXB0/7+fO1pbU2vak7VIyYscBUz14+Jq7V1nxDNs3DN0ty5PLTG2tr2/R9TY1nQWaQQc0tlafR5LceBgf2r0zGFmN8njzn9u6Wluk8xBTglzGN1ifVJXqGfIq16C/Ei5dVCXhOJfJxAmgB5/c5lJl1ZWGXkLRe1WcstYGneWWWqhqhbdlgukVj9WbO2+tqyKGIWDbo8tFxsB/vVUfDGBDe2IaYUYPpvHs0fLRB+Vsztxu8jyzIrCiayLAKNuSiLXlNv5CV+CxPJJeYEMg5QdFLkdXdw+VkaZpF6pOqAwjhPCmnMNx+zQDgOg2602OTFa5CstBy1YpTA+vv3a/gi+yyS1tZ9/+rvSkbsCrQsEGx/jACQNHVdCZfF8Rnux5jbKqXV1yKUU+1D4kUyLrpnVVHXWj1R5nlugTiBjArKEEdM002B3UN5fMC11HVgYL+QVRdQnrZYlkzKzWW1PVbPmMUSK5MtEutICeqs/unrq95rq69v32JFjCPwO+Y4Q1bbsQ0p915ZgRdrN75/JUnLusuyLK36jbZbayKRQRk4gTQJrIFYNE/fclGUsUDKZFKxkE9ZIOqnz+uCilkWeo0K01gWVKy9MTLi1eO47Qj3kcZClAxREMaemdcto7EM7SssH/tA78U+tc7ze8xDbCjsW1uLJUTEiD+E6rGt9dT6t7XZzylqWdcDE8nd1Ag4gTQJrIFalEDqpQ2hZqrlWX7r/v79Ao6zWLiMWPmxhXApV4X2SdE4CpeT9/qYRaL9gpYUCvkYQWW5XFiwxwhUoX2vmrvWhS2MlNtP/47tostuJuteRtEdifW32PscC2HeSOtmIsAJpEmQZ3I38tmWL93KxrFcDpbvOssCydIkYwJGffwqqItaW7GyU2CLBIU7kzxma2HdUChmCSUVlK2t+VJe+X1g6jML/ZgQRjJkklBLaMaMfed6e9OCnttRZFV+1rgZSwHezNbIWPWNE0iTIKZ1Zg2IshpSTCO2zodQrWmrcFMLBIV57BlF6hNCerKWEUypZ2KAPI+LJKvPrb7lgHieeqGAZncdkn3qs7acem0pC/gsPaxUbbZGNFgf6y8m0zwYayGdGrNjTWApjFW/OYGMIdA1YaWaZvmmY0KG3R7WoOdrYxYHarPd3SMzjGIaYx7/ulUfjKHUeyKzS4WFJh4YJyjrwsC+yetmw2eg8Neyin4sCYnHek98PutrhGzp1EL0WeQ7mshynzU73AKpI5qNQGIvFycYT7SsAWFppJbmG7NqsjR+a4t2SyDE4jQx4VGWcGqxZhTo6kGXjQZtLQsE+zkWl7A0elYC8ghL7gMeF2XGiWVhWJ/StcqzytYFmm1t1enNRb+8aL3vegjBsmXELDxHGk4go4CU+yFlJaSQV3CkFrFZwkKvx+03UvWMEUisfqkFgKk25THRs3Zs5W3IY8/jfkHNnC1E/r631W9cvlVPiyCs9Ssi1WtV8rrE0HrMsxgx5n5iQipLApaCUQ83TJEyYmRZhoSa2b3VSDiBjAJi7gfruloGcVYd1FdurUxWWGSXckUUracKHq1H3rTMlKas4C3CUxZf6nncL9Z9TKrsDksRL2ZLsYvLcuFZ44etqRT4neZJc8a24HXs8uJFizEBnuf95f3Nqm9MESrynrN+12elXIHjzfVVK5xARgl5hHAsnlEU1qRDDTalLcZ+w4VfRSZ06pxVp7yw+ge1Zsu1l3eFsyW8s7KhBgaqtzdBq4FdX9yXlnWKv+v9LS37jv7++DoaS8DFhB63m/uWXZh4fWzzwZhlVHY8431ZZRexZor2CT8rZpmNJwukHnV2Ahkl5BmULPTKLpqyJk8t5YVQbTlkCYK8wkLrxN8YyVO/LPdTVnJBzDrhYDPfy0IztmW5ro3ReAFmLGVZGtoXaHXgob8xmWP9uL3WjsDcHr1Wt2nR73Tw2OGNJVOaeBGLIOs94+4FfE1RV1oZKyPr3HhDPawmJ5AmQJZQK/qCsyZPTNvOUyYKgphGWNQVYWnqRduUqm+MEPh6Ftgcx0CtX/uB3VHsxkJBa1ka+Hx2wWG/YDtwZbolvHH9CGrM3CYmsyyLKY/7jN9TzMIqAi1Tt3JJfY+m6PgoYmWMV2QpW26BEMYbgcRQq7aTh5hq0UJwr6ZaND5r88IiZJrHrYRpx0ieGBdiYctbu+M5vVbXd+A2HCis0aJIuc+sxYCpdsX2mLJInq2FmFC37kcS1H7iWFoKlkVovbfUWK8HCeWtZ63Wf5nnNfKeEOpjacTgBNLkKJrlhEhp2zELpIjLQYVlW5vth87zTM72scpJubpSwhSFsmrrscwmFK7s37cEvLU7LxKJXpN6V5YlgGmxKUHGq+MtrR/7E62SrAwuLA9dlykLLlY3LjOWFZjS+otayWWEfiOFbAjxd1RkMaxVxzxtroelEYMTSJ3QqJeUtc4iNeDL1CmPO8mqW0yQp55huUOwHBVC+DfXLTYR9feWlnj2Ukqbxr7DstglhVaYWiSosVvZd0wcVsYbu9Ni5GhZkRZZF0nQwPN5FAy+Bt8T92lsXRKvL0kRZgx5FKYYsq6pdX6zFZX6AmKROjaa+LLgBFInxAR9rain/9K6h3/jDzcVmXR5JqFaEmpNWAvRmEQ4DqD348FCJ6/Fk6d/U/VWK0x/R6GPhKNksnhxPKNtYGDkDrzsSguhmtCsPrTantqnrOh7xDpYJJ6VLYXWkHXOmkfWTg15SQatm7w7CafaWwYWkZclpZQHYbThBFInNIpAYijiakoN3lggtay/OTWgcSKjVp7Sarl9bCHltZZQaMbcKJbVgUFrjE9YQXGsG7p+8DseWG8OBmP/6HP1U7JWH+O7s95hytrIcw0/L0ZCljadUlZS8ZDY9+Mt12OqTVguJzOUQb0EdT0UwrG2OhBOIHVCPQdYKoAXEx4xQRxC2nxGYWgRS9YgZW0oK5NKtW+Nm1guohQJW9ZAngWJKEQswcX14LRbFOzY9zFXDv4fSQO/ZGjFtfDbI7FsK667FbPR31PpqFlkrWDS1v7DccXPYask9mz+PW/SQV4hrPUospnlWIBJISVPxtrqQNSdQPr6+oKIjDguvvjiquuGh4fDmWeeGUQk/PSnP606t2XLlnD22WeHqVOnhkMPPTR885vfDHv37m14o5oBqIVaQtgiA0sDTvnEWWPN49rKqi+Sjk5YS4BZllqW9omwSCpGXCiQUBinyJnXUaDLq61tpIsm5ZbRMnnRH7tasK856wk155SLyXJDWXtnpRDT4GO7/VrvTX/jbWNi9Y49P0VAeZAixdF0AeUtn6+LWRn1rm+t5dWdQHbs2BG2b99eOdauXRtEJDz00ENV133ve98LZ5111ggC+fDDD8O8efPCwoULw5NPPhlWr14dDjnkkLBy5cqGN6oIGjXwUMPO0hxjdUppb7VOzNgzWVDygUIkj1bMf7NlpCTFxGlpn3ptHssq5prBclIZWjG3iuXqYk0e64cps0gieYKvXCd+fp53afVh7Hm48SYrMUVXh+P7jsVDsqx0fFZK0UKiapQ7qGz5sXle7/rWWl7DXViXX355OOqoo8Lw8HDltyeffDJ8/OMfD9u3bx9BIKtXrw6tra1hcHCw8tvAwEDo6uoKe/bsyfXM0SCQZh14WShi/heFCj/MfGLNvIhmbE10dLmxu4mJhwPWsXZmTVY8MDCOFgSTforM2QLBv1VzV2vHqkPK4sF6Y1owb9yYGgOpgLsFfO96L1uf2EdZSQ9cbiwDMTWG2DqyYm5jZYHU8swJb4Eg9uzZE2bOnBmuv/76ym/vvfdemDt3brj77rv3FUQEcu2114bPfvazVeVs2rQpiEh44oknzOfs3r07DA0NVY6tW7eOWwtktMpn1IOw8kxMFojsLsmyQFg7RQ3baksqucESMlhfFeYYBNf9qCxhZGnirAFbFgT2Ca/6RqGOxBuzpFjg57GAuN9imr8FfZ71UTEkMo7ZxazI1HjgZ+bZVkefm9rDbTzOtWZBQwnkxz/+cZg0aVLYtm1b5bfly5eHpUuX7i+ICGTZsmVh0aJFVeW89957QUTC6tWrzedcd911wYq7jMcYCKPI4K5lIqQWf9VT20kFSYtMLLQuVNjFNGhLA0ShF1tvgZsY8vX6PHQ54XkmJ8uSwQQAPq9CN6a5ZhE0pg1nacDcb3liUbHn8XM4Wy3W3ljaeKrNKSsv1tZUG4oI9GayIsYSDSWQRYsWhS9/+cuVv3/2s5+FT37yk+Gdd97ZX1AdCGQsLJCiKDtoigzuWiaCpdGmyivTniI+8Kw6cxpvSrOO1UPvtdwtfX32+gp2v3FMhknYEpZ6LWrkGqhGUkSisawwq68w6J/VFzELTK2pPNuV8LvgT+HG3Hv4XXvtB+setGyyLKcyGn0eF52FiWRF1IKGEcjmzZtDa2trxVUVwr54SEtLS5g0aVLlEJHQ2toaTjvttBBCORcWY6yysFICsOyAa7QFkjLx692ePPUrojFa8ZVUG1AwxeImFhFxGahVd3fvi1foNusxa4ddbpaFwO49JgKsV8xFhhYRWjj6/N7e6rRbdptpn2A9Y25FbB/WNfa+rHZYlq/VD5rVF3NpphJPUhiNeVlP1Prcete7YQRy3XXXhZ6enqr02+3bt4enn3666hCR8Gd/9mdh06ZNIYT9QfQ33nijct8tt9wSurq6wu7duxvaqFqRGox5tmIYC6RiBIhU6qmlxZUZqKg9Z6Xy5i0bBS1nS8VIA9uD6ajshrG2Wk9ZbFmZUWz58OaSlgXCsQUuM0VK2B6Me+A9/HVHJi59vq7I1++3WySjAr6317ZWcBy0tOyLPSG5oZLDc42typQ7K8vF2cyo1fKpt+XUEAL56KOPQm9vb7j66quzCxI7jXfRokXhqaeeCg888EA49NBDmy6N10IjLJB6IFavmPlu/Y57P3FZrGHib3nSRxUoYK11IkUmOQuLVPovauQpwYtuvphgTmWWpepkaeA4VmJupaw4gN6H9UtlQaE7z1rHwxaVRYKxhZLcZ9aqcCRaLRe3zEcrycrywmti77ToHlTNhAPCAlmzZk0QkbBx48bsgmTkQsLNmzeHs846K0ydOjUccsgh4aqrrhqXCwnz+KzzoFbrhbXrmBbH1+M51Rot4ZCyQGLZQrF28oeMLLdMSru0hAW7ntg1ZdWRLQYkHaxbijyy3rnlKoqtHmcNuwi4nikLWS0JdHFxgkIqDRufpWPEupdJk++3Fk5ycD9GtEzO+L7REsqzDZAjDd/KpEGwBFZZxHY31edkTQIU8CgssywTnGiWNh7TfutFnCn3U+xaFBZWBpDlwohlhmE/xIROaruRPO5BdJGlhPzAQLWbiOuX8v1jX8RIjt1xau2wW8sqh60X7qu8Yy7LArJcY7GxFbOucZyMpVdAMd5caAwnkAbB0qTKImWB5J0EZVxKlpumvb2aPCyXQNGJmVeopASlJVx4Z1urfthG1L5j/VBk08DYZ2Tx+lSWVsyaQ0Ugy7LI6mNtm2aQaSIAxlYsoY7vImsc5Blz1jvJUhqKttVye9VbeBctsxlIrBY4gdSALA2oqBZeZkCnBJj1W8yvHZtwqcVreSyQELJdcFmTqMgkUyHB26qjRswfbbKsKywPP5yVZ12F9pMGffEetkrQPcdrRlgQq3uPU331XGzX3tR7ziJvJAiuD9Y7ZsHlmR/43rCcPIqDVWbMbVoPpS5rjhZV1NwCaUKMFoEU1f7rcV2eAZcqByd/HouBiZAntLpgUl/fU4HX0pKvTSnhkiX8LKuJ3WCsKaOLjtdd8HoTCyyYcEV6CDZJcHzA6l8VoPiZXIs8dKV8bC8wtSxS2nwRZcjKQIu56WKKFI65vII/Ni/4/tjOu/g+y1o0ResyXi2LvHACqQH1tixqJQcuJ6YtW5qeJcBTq8W1DihEOB1UwQLVqi8SREq4IFmhZq7ZSdw+jv3gLrocC+EsMN5zi8vH/kLBFLMyimim3Ndad/5kbio+NDBgpxrXsgtAjKBjW4VYrinte97RONY3WfOCLb6U8C6j8VvjschcbqSVMdYWjBPIKKCeLzmPy0GR1zXEE1d/t8iABShqtijIcF+pmOuEhXuWcEGBpWVYFoJFgKn+wR12UdCn3EncbxYxx6y2vHXUe9FywuB2HnLAVeYxgd3fv9860h2AY6vQtY68ViW2L1WWBYJjII/ryxqDTNi1zrcsi7go8pJzs5WdB04gdUYZQZ6nvJi1kHqG5XqwLA+cgPg7u1tisQwUkuijZ2KyBIhq9yhgUXhjWq+mEvf2Vj+bBV4slmDV1XLH9PamBT8TH5MLPi+mvaJ7iS0eHiexBYjo2hLZ/z1xLAPdZ/wemCQnTap+L9aaHwt4T56tT6yxF+sz615sdxGrIC/qLZSbzQKpZ32cQOqMLEFetryY/17LVz94bHUvCou86yGQMAYGRmr6sXarkGWtNOsarYe1ASFrrTEyxXpqXbX+ltBkiyfWJiyfNWqthxKcbsXO11tkom42JV0rwIsrs5HMMIU45kpi9xqCU4iVOJWQMSstNYZTz8i6LmadppQkHhf1Rr0tkGZDPQnSCaTOqPdgYyHFG/yFUD2xWLizUFZNPY8bDAcaa5lZkwyJL8uVZbk1OFiMgp43IrS0VxWmXH+1HGLfpVCo0ObsJqtdlmCzNGOLqDCAr2VmZa2liNYKZsf6ne/lsYPWC6cQpxIastxWFknmmTdc56yss3qBFZfxTiRugWSgGbcyKfrSsrQw1orVdaR5/KzZlhn8MUGQqgc+O2+qcErwWIHwLAsEy0jFJaxvWOj9sS3eU1o0ulY0lqB/83c+FLwym0nBel+cbZR1PfaDRXqtrXbMA9uqfc7xKguW4sFWF783Hk+xvddmzKi2lrLGZD3A4yWWcZa3rIlAQgonkBIoItzznLMQuz5rAKLWyO6JPAM3j6DXv2NCybIMONCZ1U7rmpj2G6sfCryYlcIWEm+vjgv6sp7FCQVWyi1urYIWZX+/fb2VwICkpAJVXWep/styHVltZIuXt5tJ3cvWlNbf2keLxxMSI7Yb3Wkpl2u9gX1YC4E0iuTGCk4gJVBGuBfVPMpOBtRO2d+fZ+DG2mYRAF+b0jBVs25rq74mK5WYrZGYrz2WOosxAcuqiaX6WkIt1j4mThTo+De6w1gzj91r9XfssNKktQ26s23eIDcrItoHnJmXNeat9GYtlzV6VBTQEsN7lXTQArP6NE8bLcs6dU9Mecl6Rp7fa8FYWjVOICUwGi+syGSwhJzWTYVu7ItvVnmWW4gFSYwoYmWwQGIiYAKwXB8s4BGxxXso6FILCNnC4Y3/0B3Du8VmZbfhPeh+Y+LS+qvmzpr+wIBt0aQ0Y61zLCU75krSBZWYiWdp4Xmsbn1f2k78LLDWDccuk0XMvZnHpWkh5mJLoeicL+tBKIOxtGqcQGpE0QFRROMpMhmKDKCi2hQLAmvAYn1T52PJAEwAVnkYAGfCTK3wttoQwkjhi8/C7estCwTrohYD++yxrpwajYFpjUGgMIzFGlAIx5QGS9ha+3LF3lOKIK3YVlm3okUi1n0xxFxZ1jXWehurPTFkjfnU87LKydPGVP1S9Wi0VeIEUiOKDog81+dxX5WZBFyHrEnHEzq1FgU1Xf1Cn+Un50wqfX5stbrGFTQ1lrVgJpdYP1gTirdhwfplfaPbcg+iFRHz88eu41XUFlnq89maUYuFFwoiAWA53EYeQ9wv7DrjVHHLWkyRmSoPWet1YuXkebdcN+sZReZuylrD95BVZr0smUbdVxROIDXCmiApTSBLQwnB3r49plFnDRCLjLIskFjZsUC4lhcLAmPdtW0tLdXBVcvFEkJ1WdoeFsJsPaiQS01U1rRTbcd3Zi38472mUKvGPrMWBOJ5LQPThy0hpf2N7kBeR8ICDUmKr8WEC24X9xW+C+4ftuBYoLIw13dnpVPze0iRVApYd3Z91qqlszKRpcTU8oy81lke+VJPOIHUEZbwiQnjFAFYQp+vzzv4efJY98RSJvm6GIGwFcBCEutuWSAodHjgq1DVLDJL89dn6EK+mMZp1ZmFij4Pd5nF2IuWy2thBgZG7pSLxIbuqtj3RbjuGDuILcpEYczZTlo+b32Ce4dxOUhk+HnaxYv3B/ZTGX2WCwz7KCtmg+XEYnsWqaZQ1nopWkbKlZZVdi2utCLn6w0nkDqiiC+yqPZTVOviSa8auaVdo8DiclQoWosHreepiwJTYGNWEGvUKKxjhItCWrfuiLmTUhpnrE5WObgdfCwLDAWx9eXELAuSLSssB9uHJM+EZtUllhiAz1W3I1tyTO55rd/UPMjrcmWrlEkxJrDr6SKySCslmIsmrHAd8gj+vBZIoy0PhRNIQYz2CyrzPJz0rA3z5MXBG9vKwyKX1HNjwpU1xiytkkmG3QV4DjX/mIbM98asRRTgrPnHXAoqGFHb59gF3scExi4itgoswY/ZTJaLywrys3CzXEMccEa3I1tNiizXSVHNGN+Fut5YyFpzo+hzUkoRuivzkJ4+O+aOTdWh3q6v0YITSEHEXB95YAnEWk3W1HPQfaGD2XKFxQavCinWfPO6A7RsdgWpsMPMoLzCQK/jrCLOWrLKw0C99g1+f53jOGgBxKwu1oKt1GAURpzSqtlHSii8rxUeWA8W6hy0550I2CorYv2xtWONRSZfJqQsAcnjEGNKqVgJ31dWQ49ZiNZ6lRj0Hca+bDkR4QRSEDiZ8gj1mBkc08pT9xetp6VNWhM5RlJWzMMiIOs5KFxZi7PiJFb9U0IHy7CErNUmvUeFLj7f2hod99yKadQosLnNlvaMfYFEpeVzn7MVqP2LrkkkIyteM2lS9UaPTBR5xqL1PpiIrHgb1iVG7NzOvr6R1nMe4srjUospgLFxzeMkhbxzuihG2+tRBE4gJVDkhVouAkvIFrEw8tQp5aJhjT4mqK3UWna9sJBAd4tFGlpHKzPGmugqJK32stsHg/CxNQtcN0yltQR1LM7A2rVqqRrMRi1U+0x3TNYANu+Phe+C24F1xPRXTEhANyWTKhOuVffYu4iNkyxr1ooJxJQV6178RkkRYmPwHLT2MktZmnndS40S9GW8EKMFJ5A6w5p49TCpsxDToFICwLoPr2U3DBIea96sgVsB7CxXA090yyXCfcSZTygcLI2Qn4tWiZUZxfXgZAIkOs1uUpKwXHfoDuE+sSxUJSROE0ZSwX27eAV97Hp0A1rWII8LbCe/e4ugsQ3szsJ7UhmA9RKcWXOyUc+pF9wCGWU02/dAEHkJw3IfpWBZN/gM9rmn6sNCEYWgpWFjOanVyta3P1J1wUWEMdcA1stypaHQbmkZ2e/cz2yl9PVVb1jIazuQBNh9ZS344/eAbUZhivEr61Ci4ziHRR5oUSHJp9btxN4hW5P43nCVPbeN90LTcnnNScxiT4331G9Z91lWX17lj8st4tqeKHACqTOyBl2MYPj3IgSSR6NC4ZZlpaDrA91YVqzA0liRgFTIsQAu4rpjAYV9wgQSIwhuO5at7cT2IlHEDvwCo2r/WFYsW4kD3ipAsU+sZ7PFgO5CJQS2QFK7AeDW6EgY1tizBC1vzxILNrMVh+9BlYT29rjyY9Ud1xExMabGVMyyYovJulbbYtUP32MzWgqNghNIjShqXua1QIqUm+W+0t+yfNgo+PU3JBA8z5otChcUfigY1c2ChBTzLee1omJbo/A9lvXF/afX6L+6xXosxZaFPGbsKHmm2iGyf1sP7RN1V8Wyp9Btx9fErIdUe/kZaPngO2KXJgpsvd7aD8wiw1iMKY8ygdln7OqyLFRGap5lzUHLOi0zXxuN0ayLE4iBWoR3mTKy6pBXK0vtnZX1DP2bhQ8KfHRTxSweFRYoTFTo4boKJCRLcLAVo/VjNwEKD0twxgQqkx5+kAvdKlkWSOoaJB/WYvE63huKrQp0a/EeUpw4wMkJsVXlfX329ivo7mPy5ZgOEp5lAbBgj42b1PoShiYf8C7FeV1dRd1SVn3ZWsxzb9461UP4p+ZVveEEYqDIC8gyacu+xJhpbQ22soPZEq58bSrGYJUfc72xoFWXRWzi4HoKXMTIZInZOpaLK9YfnOaKfYiCVolP4zBMGlkEgsIcYa08jwXMtQwW7kyKbFnw3zHXlLY1FuTnLzfGxl3WljhZf6csafx/kbmVxy2V994igj6PcqTn8L3UQ/i7BVIjGmWB1KK91FKH2OTJ0r4VMRPfioswWbELAwWMlaYZs4as7KCY8GDhmscCwbqxtRRz3aHLKRZD4T7G9Fj9SBPGhbQ/9N+Y9dPXN7I/tC7qPosRUmurvarceh9ogXDwP+ae4S3sY2OLx6h1v9WXMWud35Vl2Vp1Z8TmDrfFKqesNVDE0okpaUXb1gxwAimARpqGWYNZgQJ6YKA6hZO1Xb22t9eOEyApWAMf26uCyFrvgYQQs5a4/lwXvBbLxYmPghpJBYU7Wwm80ywGuVMWE9cXM7Fi7eeMNewPay+p1KFums7OfdaPkkpf38hEBotMY2tW+N1qfXkFPBMsv092JVltslK5s6z12PhBSzhvjIfnacwaQcWq7BzPc1/MQsvjuivynNGEE0gBsPCupyZgDYw8v6GgZP+35TYq4lKwhDoGLy1LAfuIhXNKM8Tn6qrp3t7qNlvCydJe9blIVGwpqAWV9d3zWCaWCncV7BiXwHpwUBoFBsc+rMA41lnfOe9QjO8L7+MxwwsFmZSxbeymY+HKBMbvAfvC6ldUcpCIYmPQWukfE6KxTQ1jZVvuy6JWR577UinLeVFPuVOPspxACiCmKZVBHpM3z284WVAgqKaNAqKlJV02CoaYe4RdU0gu2C+o1aqFk1cz5Immwk7dRpbFw9tloAC3iAAD+qjx8/VsabCQ5zpr32F9rPRb691bC/uQqHj1v5V1ZO0ewO+I+x1jPKjl87bzaL1hHXGnAG0LlqcKlxVP4XfN4LHBbqjUPVlEw3WOKRFFLZ0YsmJEWRgNpbUo6k4gfX19QURGHBdffHF48803w6WXXho+9alPhSlTpoQ5c+aEb3zjG2Hnzp1VZWzZsiWcffbZYerUqeHQQw8N3/zmN8PevXsb3qgslPWPWqi3KcpCBbVwDACn0l5Rgy0y+VCwxDbxS2l3rGXydvDcRhRcSBQoWCzrhy0yS2DHdre1BLwKddbkMRV4YGB//2uw3lrYODAw0hrg7eo1tqDBfWxHlmVnKQCWuxITCpA8U5lpKPyRlLBP+T4lHcuqt/ZVKzLP+F0X3V6d2xJb25GqW72FPdanXjKjKS2QHTt2hO3bt1eOtWvXBhEJDz30UHj66afDueeeG+65557w8ssvhwcffDAcffTR4Xd+53cq93/44Ydh3rx5YeHCheHJJ58Mq1evDoccckhYuXJlwxs1mqj3ALMsGitnHSeWpcWxRZPS9EKwLQD8jb99jnVNpQPH3C4oODEAzvdjfAfJjd18vCcV+9ixX1nzxqwZFKa4LiKE+D5WKAy0HPzWOSoFvF4C/+Yt5NmKwv9zejVbajFXoJUqHLNA0FrU/k+RTmosYZlZYxGBY92yvlLj0CqjqHvLEva1zvlGkFKtaLgL6/LLLw9HHXVUGB4eNs//9//+30N7e3vFwli9enVobW0Ng4ODlWsGBgZCV1dX2LNnT65njgcCyUItgyXmAw6hOrsnS5NJaTxaP8w4Qq3R2qOKiYIJjjVPa+JzNpgKTu4zS6NHARhzB6GA5K8LWl/kGxiovk6tJ71f+4iFvZ5nQa79iUF7jS1hrAD/ZhK0FAcW4pMmVZOfFedIWYxodbGGzuSP4xF3EcaytO0tLfuIJ+Z+jFkDFpAgLAKKEZbVVk6OyPts63lFyaieqPdzG0oge/bsCTNnzgzXX3999Jpbb701HHLIIZW/r7322vDZz3626ppNmzYFEQlPPPGEWcbu3bvD0NBQ5di6deu4J5BazFXUSEOIuyqyBlFKQ8vyM1uuDtTkUUDE1m9Ygx3dOVpuW5st5FCQc0BbnxUjFD4sIdbdXR2T0YMztrDdrJXzGhQrqM1uJUsYYr9Y74sJRBcWcsDbsmTZIlMyxXgQa9rWdi1MyNzfbGUhuWM9rT3NspCyCLLWNrGSUQ8Lot7uqLyo93MbSiA//vGPw6RJk8K2bdvM8//3//7f0NvbG/79v//3ld+WLVsWFi1aVHXde++9F0QkrF692iznuuuuC1bcpVkIpKwfNxUvSJXFgVQcNFkuqpTmhJlP7MvH1Fi0QNra7G3FcQBbgd+sfuF1EjwhrDqz9o8TmVdDo1avsQgVmlYgOXWolcHuQ8sCszY4xGs4CwldRtjPWe43dA9ZX9DTe/l5TLCtrbbw5bFhtSeE6kw4tUBiGVl5MrDKzhs+n9cSK0soboHkwKJFi8KXv/zl6IM///nPhzPPPDN88MEHld/LEEizWyD1ZP08vtWY1sh+bZ2MGIS1LBRM10UhoumeHJdA14a1+WLMqsiT48/9gMIf68tfG0xZRCzY2e2BFhJqo5hpxBYDtxl/U0LCdGUU1rzqHLVk3HZFf4sRlz5TXUJIMLzfFvcha/+YqIBrU6ztc1J1YgsCx7OV+JAa16lxofMj7zY/fB+7Qy2hW3Re11t4jxUJIRpGIJs3bw6tra3h7rvvHnFu165dYcGCBeH0008P77//ftW5Mi4sRrPFQPK+6DyDNsu3yr/p5LG0XXR1WQJVy4v5tFGwprYeR20175oLJkgWHCnfdCzfHhfGoavHIgusBwo2tOCy2qvPYaKxyCx23rIieX+yvNYQ9inXgeMZeSzR2PhFouFYGKZK41jidUM4DvPGPaxxkpUmHLsPESOKogK8iPs4Vs+YlVQG9SCghhHIddddF3p6ekak3w4NDYWTTjopnHbaaeG9994bcZ8G0d94443Kb7fcckvo6uoKu3fvzlW5ZiCQMi8HB0SRwWY9iyegVVbMB8y/x7aYQGvCcluhlo1CNObHj03kLNcFurUwAI1+fms9AxKnAuvJwjRGGu3t1dYE1tciJF5slyIStiDRPYQKgj5fn8nZYKyYYFtSKdf47q0EDLwOlRR0i7GbDInCcq9allXKlaSIWc/W2gtrVX5Rt1hRWMpZEaSspDKoh2ekIQTy0Ucfhd7e3nD11VePeNiJJ54YjjvuuPDyyy9Xpft++OGHIYT9abyLFi0KTz31VHjggQfCoYceOu7SeMu8bLZAimpgVnnsumCBrUJfF9bFPj9qTXTO8sIJjJOe68CBW4vEECiEY+sYQhipVWPwGYUbXsepxqnt2GNWlkWIaCVwxhjHUJR0ud6Wpsmr/7mdTJxstWFcR4PgTIxZMR50d+l1uHEkr1Hh9x0L+LPVnEfQx+ZMTCiWIaYYytyXpbTllQ/1QNNaIGvWrAkiEjZu3Fj1+0MPPRSsYLeIhFdeeaVy3ebNm8NZZ50Vpk6dGg455JBw1VVXNcVCQgsxt1M9zM1aNRZ8bmolckooouZuTfSYNsrX8nWavYSL7Kx2ssadctNZW7JzO1DgacAW3TcooJlsYgdvpoiCFVeSc//yPmZ49PePJGqLPPQZ1vvj/oqRglW2Vab1DL0O4yyxLeG1XWihMBmkrGXLOs1S1Ky/U+tYeOzlsXjKWC58bx75UG8CqQd8K5MaEdPSGVkDO4ZaB01M4wmhWmiwBcKau6X1xVYM8/85oN/XVx2LsIiK1wBwkFfrEXPTYR1Yg7dWfFtuDkvgan3VZYRpvNbGgyjI2ZJCV6AVf+G017yxDr2e3zf2JWaU4Xuy4hZYH45nWOm6/B66u6stFL3X+q4Hu7+y3EypNU8hpK0Wi0StsWf1JdY3T+wkNf+zykm1ZazhBFIjUlZHCinNKVVO3qySPPXlrBfrupRrKVZWaqDrOfXTsyBlQuDJy32j/YExAG4PChnLoohdj2Uq0bAlg3VGi4Lrp4sBuSzOZEJ3UmoPLbwO64mr81kgWivUWWijIsQkglaeEo1elyUIeTwhGfIiRm0n19OaH2wNp8YL18GKz1llWdaclp21CDGLAEPITwxugYwSmiEGkoWUiws1RR4sebJKUrCeYxFIrJ6xScEZNHlIB39jLTWP8MP2cCqu1Wa0IjDAHOtjy/pA4a7t4Kw0q37YvhSBsRDmXX65H5SI2TXEfYKCGIkL+4bXwqAVikoCv3PcEyxLi9Y2KhGh1Wa57Cwlhi1KvCe2KNUaB6i84bzKG5/A9hf1JJRVPJsNTiANRJGBYWnzKZOd3S0xYW0FUlNup9RkHRgYmV1TZBKkNFQOKvPK8CwNk7OQUq6urPcRizVYQh/7RN1CWIeUOwyJiftb28kr3XFreFwvghYL7onF7UYhqv2IMQscczzWWGBiv/JmkuyyjPWFZYlyEkZe9yS+CyR4671yWSlLO4a8C2CtZ5R1RzUb2TiBlECWz1JfckobqqV8RGogMhGlJos1ebEtLHxQgKYGND4TNWIu39qrie9PPcfKwEKSwf7MQ8L4Aa3YLrncJj5w3yfN8LLKU6GLmnSMcNSFhoKSy0FXm6VNs+tM+4cz9Vg44wJGhfaB1SZ077FrzNqZgN+11b+WG8lyZ1lzz8r+irnJUmAlL2t+x4ixDBGUJZ5GwQmkBFiLU7CGZW0RUW+kTGN2hcVMeLwvK+bBxIaTw7pHz1v7UrHrq7s7vsI5NuG0TrrHFFoB2u/sXsM+QA1fiYFX1ivpsBWAbcLrMT7A1oFVBz4WL672yysptLZWW1ra56mMKUvQMDFYrkElPI2lWORvvV8mM9b2Y9lx1ntlt1LqehwjmI5tEQjG6fIE6rl8K36Tgt5n7UyN5y1LPuvvsYYTSAnELAQelGXMYutZMcFp/W4JB73GMuGz2hhbP6Lt4wBsrP6sEeok1Awo3s03Vm92YVlkjvEBfnbKlZQSwkiUKtwxk4wJh8maXU+p58VWifPBQsWyRvSZMWvMEqQhVAtvJAkeCxyD4DgPxxQsIczP5vfK7szYPdo+y13J7bYEM6aBp+aWlpPHQ4CIxRxxzjKJ1WJxjAbZOIEkUPQF5Lm+qM8VBVceH2qqDnmCfioQODPF0jpZ605NKJ7AbKVZrg5rjQTuYmtppfgc1jhRW9dtTdrb99dhxoz92j6nuVpbbsQO/BCUvjP+fK11WDv7xrR6/dYI93EqAYDdPKnANxIDtiXLArUC4Wh1IPnyxpRsEeOYUKtC15vwPUxMsb29YkoOLy7NO7eKuL1iHokiFkgRjIa7ywkkgUa8AMsfqrDIBQd3LICNSA043kPJIjJLAFlBab7GchlwvSwfcOx7IjFB2N09MuiLKbqYWooCXQUV9gG6UfAeDOzyexPZ50biALZ1WKSL9S9zWPVHS43bjfdqm7Rvi7wzjGegULe+2a73clst8mRLma1bbR9nH/I4Z0sqRjApi4U/yJVHaOeRETyey6bgF4VbICUxVhZIkTItf2iMXGJuIAvovmEBowJF90biZw0M7NeCVUiidomIWSqxjBTU2q0sK56ALAy1bHRnWZ9KzRLO6tbC+qCrh60LtGq4rJhrCfeewvfOhKULN7nMVBvYLYdCk/fI6u8fSY5oFei7w6wqy72FOyxb7wH7zlrngfVEC8SKdcXmgLX+KaW5a7/qti6xecwWVFHk8Siwxd5Ii2C04QQyRrAEZ2wwFnF7sWsIn8Hf6sYyrUApWw1cT3VZFCUQrUOqTTzpdJKzb7zoFhxaPxSWlmsQ+wEFKQtozkBSoWgJLcuHrpo2WwOWlYf1R1dNbFt5JjUVqFZ7MLCs7VYhzK417BMmU7RYNKbACzKRqFlwo5uRLV8efzHXV19f9TvB6+rpIkJkuchiSmMZjIZlkRdOIDWglhdZ5N4irrSYCwCDhNYA5riDFWxUoWutWmYN2Xo+EpQKtFibBgaqg9Q68WJasgojaw0HClmL4FRQ6k66KHyQDPiDRxbJaX0t4YYCORZHQevS2v1XSUf7xrqGCYW3ILHSY9HFp8/A+61YEwpqtQatzThj7YzFGmLuHiYOtOi6u+Or+ItkWmWhjOtYUebZKUWkGSwZJ5AakPdF1qox1DJoFVl1xbLYdcGrfFFYo/YcCxKjVh1bEGiBt8qw2qLEaK2s1mdhoNxy7VmEw4TI/cICiw/V2nGjPs7W4ntYQKPFiFaSFfDl/ub3gKSi5aDw5YQDJDjuVxTqlhsP18mwa03babnMFBZ5xZIiYiQVSxBIub1iwHpaioF1vVWu5YbLQspT4RZIgzCWFkhKYyjrZ409O6bBWXXJGnQ4SbI+lsQZPTihY75vBfqms4Bl4TNiExHdHykhjYIU65Q6tG/yBMD5Gu3/vMFztuzYalILRFNO8b2pBWm5xrDf2A2Ja02wv9HFie8f6xJrh6Zo4/dZGCwgtV7q9kKCtJQOJEJcQ2QRHs+BmFKVsnLzKD7WvEg9L4Ui7mvrvkaTjBNInZDll80S9kWRh5SKDFhLc1cLBH3YGHBFlxhOZNZKLZcHbq0Rs6xQi8QEArZALG3UClAjEajAxVRVXQBopQ7zB5FSX2C0VtWjNZUiElxoiVlhIVQTgPVu+R1ynAHv0XOx+AlvX8IZbPiusvqDCZvfNVqQHMPjreFjsQsW2rzmCa+xtkTBMlFxQcWIrZkYYrKgFqFelHxGy83lBFInxLQORV7NO+8gy2MOp66xJo8VVA5hpD+Z3ShWLIQFEZ5P5f/j81BQoSCLudu4nigIcF1CbL0FurksVxyStaV5I8mkFgti2Z2d1ZaDtehR24xl4DoVXA+jpG6RJVotWQLfWoRpacMolLFumHGF91tjD7P9tM0YS2NhjH3Pwpmvi61J4XVVOEbzrGvKg9RczjPPszwIKWJzC6QGjKUFEnthnMceQ17NAYVL7PkpUktZMCwoUGNmTd/yZ1vZJpbAjbkkUCCzELDqyjEBjI3wsywXG36TBLVejvlY/adCmd1C+n9rXQoLarRO0TLAemRll/H7YJ+9RXT8f6wnPpuFlEXmVjYcLyJkIY7vSRcJqiuKvxWCChi+7zyCE0mJY3ZYD8uSyuNqLYM88zzrGpyHjbY0YnACGSXktQby+DwHBkYuKrT2GOIAqUi1PzjmVmOtknP2LQ3QaotVJh5Wuiv7rnmRV0zbwnIHBuKumSwXUlvbyEWJ7PJYvHikQEdrANujbeBUVhbY/IwiLjI+MBalYyDWH1bGFhKWlVEWswa5XmiloDuN32eqLaog4TvTvswr3NktxvEdVIos6zEPimr8RS2Q2N+YCNFoa8OCE0gTIOXPtjQLth7wb56QOuBQ41Sonz22VxLGEKy6WdZL7BxaEta+UDqhUaMPIR7HQAGweLG9ziF28OaHVvlIxhxMTbmnuG2peAgKbO5HayEl1g+VBD6PAhsJM7XhIR/q8sI6aj/E4k68cNFKwWVy5oWTbW3VLkYlEPwta20S/40knleJw/GUhYEBe1V/lguqKGIyYbTiHRacQGpEPQaGVUbR+AUOVNU40Wqw4gqWCYyDMUYGKSspZtlguSjctHx2gXB9UOChZYBCEAP8KgB6e0cGZFXwav9Yq8GZNFBgonDlQzOPUPgy4ViatxUjsLRzjPVwub291eOAz6NbLNbveA6fz8kPOE7xnhBGulcRlqaPbiX9VwlDP/jFcSPWuFmIxsYxv8s8LrCseCOOUWyzVYdahHyROo8WnEAKIBVnqDf7pyZhmfuzgnCozbMLLDYwkQhYALK7SVNF0c2DBITCCjORULiwC8IKBltxFd5KHgV4a6u9PsNyc2jbLAtE3XxI1Jgyy9vCWFaSPofdkdY6Cn1H1mpy7HPcgNCK6WAMorOz2j2ExKqLOXmsY5lW5hbDUnawbrhmh9uM7wfHnDXeLAvEWuTIVoy1jRATZMyVxAko9bJAxpIgsuAEUgCxQVfPgaG/YfZLmXJjG+WxK8Ga9DGNSu+3hBf3S0wjjGmAlratk1mFMQfS+Z729v2aKy4+RKGu9YjFEbhdsUWMKmQtAa/aOwtytUzUKsIMKstNhsKRFzdy29Ey0XeGZaFLDF1SHN/AezjYbglqtP54jMUsVOsdap1SyQY4L7ivU/PSmreWVWH1PSoL6s7K48Ktp6Uxli6qLDiBFEBqYmTdY11rDQw08cs+gy2D1F5P+ixO12StPSXoVcO1tC/9jRe58SprSzBwCidP2KxgMrq00LpibVzjPTHhxYIHy0/VIeUiimm0XFd27Wh9LQJhYYsWhJUqa40zFJr47Jh1YVmWLHy1/6zkC6wLPlezsbCeWj9WYKy5wuSZx3MQE9xWHWIJKEUUyti1XLcycme04ARSAkU0gtS1KQukyCBh0sEAJU5M9uPz5Ei5arhsS8BiW/U5aBFoOewCYpeFriOw6oL9mJXBw+1CS4QFYYwY0ZWXCmyXOVIaLfYzrhHResSIixcQ8v18WC5KVCAwmUItLiRnrD/2Oe+9FcLIDQ7RhYZb5qQUEWuuxJSUmJBn115srlnegHoK85hsyEsszQAnkBKoh5bRiPrg5Oa4BpMDa+RW/SwfNWq3uv2FCiKcwJZAZsGiRMF5/ZZAjZFtFolovfv6qq0eFIqxRYFMsljPGJFg36fajuSGFpn2L1sUSMypLDBL6Fp9xBlwDNz6n0lP/6/16e4eud073qPlcxxD74+lpKdcogjLqrbcpIqU69UClqN9qe+pFhlQVDbw9bXKlnrIJieQBqARpJEqEwVGnkyTLDeZdR9r7CjkUwJ8xoz9qaTWB44GBkYuVGQhkkV47JLB+zGYrZpnnu3P+cB9p3CxG359UOuLaaMsrDCtNpVea1kg7Hqz7sF3h8Fjfk/4bEubRrLVvaz4wC1VMB03ZoEwseF4xfGIY0Pvw0C/NV6xHOsaBPctu19TQCWN6xmbO42yHGottx71cgJpABoxYPJoYEwaWSayFXyMPSum/aTcKTHhyNpf1oS2NEzUAFWDR9eX5X7AtqXqy+muSHjsxkI/tRIJChduP1pCqUNdTLxqOnUvLvpDkhAZ+eVHzhZjso2t/Oa2oPBWglPrDS0Lawwh+aAVi8Fty+Li2ACSZWprnxCqlQgk/pQ1xvdrP1qJKnnmTh7kucctkAZhrAmkVtM0dk3M3cTn8vppMR6CwiVrFXwsVmJZGjFy4TUL7AbhCRgTYugCw8C/1g8TCvBZ1sI0/EZJTBCzwEariF1FuLBOr7cC26kDXYho9aig5uuzYjSqnaOwZ7LjtSvWKnocJ3qeN91EksJ3yBlmXA98/xbJMAH19dmWiwWsA45nK43dmmsxi8uaH7H/x5BS/kbDFV4GTiB1QK0vNzVJrOss7QatibxakP5m7YfEdYhZLVnxCiS3rBx5tWbUXWRZPKmt19kdovexe4PjEyh0lRTUbRLLtEJBjL9x7ELLseqr7bSsCxwLVsYVunWKBvbZDaPvO5aJxuMjtTULth3dnmz5sfWCpJvy86fGUx4rosiiQKssHjspwrIILkUIMU9CCCNdyM0CJ5A6oFaXlTWRrPhEatDh9akcd6yj/haLCeC1qMmjpcNWURaZ6nn8NjaSEj7HIsG8whLjATzps1xIvNgPrQC9V9uYVVbWNfqe2N2lmrC2hQUbkxLGaPR9ZK2piC3C5Ovb2vLFjdTiUksL/89Cn12B2K8pYP1irtlatHS0irIskKzYScoCKeLqwjGUIpCYm7mRVosTSB1Q1FSNldHdXb0TaZ4JZbmr8sYwWChaAkHvYU3bskZCyCZTS0C1t498jmUF8b26XYulDTMx4T5bvM6B74tpgdyPedKIrfZafczE1tdXnbWUFWvCdnIA3wpWh2ATCH52V8+3te2PM1nWCI4/q09SWVX4LvOk1MYSKcrMu9j7zcpMtIgglpBS5NlZz8hyz/Hcq1WxzYO6E0hfX18QkRHHxRdfHEII4f333w8XX3xx6O7uDgcddFA499xzw+DgYFUZW7ZsCWeffXaYOnVqOPTQQ8M3v/nNsHfv3oY3qh6o9aXp/eieyAoM8nMtvy4TXB7hh8HVmGsjNpHZlxzTPPWwgqao+Xd3jyQKFphWxhFm5Ggf4Z5YFoFon6f6MQS7DzljyXK5TZo0Mk6kfYTCi+MnVv9zO62sL8t64YV6uq4jFqznYLOSjNYV+xbvbW+Pr+Hg/tfxZH0OIGte5XXxoOsPEyxY+co7h2Ou3VrAhJGyTLLcfePOAtmxY0fYvn175Vi7dm0QkfDQQw+FEEJYsWJFmDNnTnjwwQfDY489Fk466aRw8sknV+7/8MMPw7x588LChQvDk08+GVavXh0OOeSQsHLlyoY3qh6wLIIiUIGIk0sDfqlnptJb0T2AbhEMKKL/O+ub1iwMU7ESSwuNaanYB7xLKx/aVnb7sMuqtbWaPNk9gZYJkxMTDgsWLg9JM0XMsT28uA+xHLWolETb26sFLbsGU2TDBKP/ovuTy1Ehy9aMnuPUXSzfstD1XcU+7sVjQu+zyAXHupXxhf9nMsUYE1qWKWsoNgfzzvc8bt488ZzRsDCy0HAX1uWXXx6OOuqoMDw8HHbu3Bna2trCT37yk8r5559/PohIWL9+fQghhNWrV4fW1tYqq2RgYCB0dXWFPXv25HrmWGdhhVD+5aJJrO4lzqNnDSOm/VjuIJxoKXcMCgsUPqjpW35ZjhvoROjtrc4m0nRZFKqxuqi2qMJDtfyYUMS68yI8JEkUMJaQt9x7qbz/mLuKtzRhLV3bokIVXVdo/bGw7ewc+a71PrbWLGLhFdtIEkgGrAnjPdjHMQKxEjywXlqm9ndq23UmvDwxBrbOeRsbJIwirqWyiMmGoq7w0bAwstBQAtmzZ0+YOXNmuP7660MIITz44INBRMLbb79ddV1vb2/43ve+F0II4dprrw2f/exnq85v2rQpiEh44oknclWuGVail70mdR+btiysU5kp1r5YCJxUnKmE1gDGCJCgtDx12WiaLi5IY80V13LgpEJhaAVXYxorkyX3pyXg2dpLHRoLwP7FBXnorkKBrQHumIDFPmJizHI3KrJckjFrDi0n6/n6Lnn8oSWA40BjeLxtiR7sYsRNGFnQW5YAvztLEOt7x2dqVhuPi9g6IbQyrTHKzyoiyGPXN4NFURQNJZAf//jHYdKkSWHbtm0hhBDuuOOO0N7ePuK6E044IfzhH/5hCCGEZcuWhUWLFlWdf++994KIhNWrV5vP2b17dxgaGqocW7dubSiB1OtF5y0HXSWo9eMEw8nNE8AKoDJQAHE2jpURxASlz2Pho64yzLqK5c8jCbLAQa2UtWt0x3EbWHPOQxQodDlTiP3mlkBjgk8dGBzX9R34XCWt2JoRvVaD5qm1JbGUZGxLjFD1HVkLI7FfuV+U0JFk8By+1xjZ4xoeVmRS291YLsiYlW65vvh8owR/rW7vsURDCWTRokXhy1/+cuXvRhHIddddF6zAfaMIJO+qV4Q1SPL6W3Eysb+ZB34sYJmVBoiTE9cf4OS06qrxCl7zgCt90S2FZceC0qmN+jTrhwVgTFBabpMiBBKzTljQarAY3Y5Zmy9awfLYs5BEUplzsXbgM9mdxSnPlrtLgX1tEWUsmK/Ewl8bxKA9u2eZqJDkrP3dLOUJ5wqOK56XMS8AK06pTR3LCv6U1ZNV17FGwwhk8+bNobW1Ndx9992V3xrlwhpLCySvqyq2HUMe7YWFNxNKnnvy+HY5FZP9/VZdUaBgf1gCDxeX4XNU4Fp+dy0Hs5twT6qYMNU4i7VwEI8ZM6oD4Snhm3VY7znrsDR+tbjQdYjuIg7Uq4uMN4u0XEyxRZE6DmLZXqz0YCICEgYqNPwMfse4kNJKW+dYRSyAjmOTyYXdvrG5YlkumK3FCSloiecpMwWOfcRcc83o4moYgVx33XWhp6enKv1Wg+h33XVX5bcXXnghWEH0N954o3LNLbfcErq6usLu3btzVa7RMRC0QPK8VNaAURMqIujx+tSKdX5m1oCzNCB2x+jvXDeOV+jkjsUbsO9YCFrXx3z7RVxS1voFPJDUUhYHfyfcek7WgrvYPlvYD+y7Tz1T64+WDAbXQ4hnmuEzUdu22oV9bgl83DtLkSe2xAF63FZHxznvB8YZaf39tuLCsZrYXOJFq1oWu8ms8RGbWym5kPI8pAjvgLFAPvroo9Db2xuuvvrqEedWrFgRent7w7p168Jjjz0WFixYEBYsWFA5r2m8ixYtCk899VR44IEHwqGHHtpUabxlLBArYMflscDkbR342hjhMMnEfKs46SyXleUSYDPe2vKcJ6YeTLio1eHE1O+Kp4QmChQUpOhyQNJg9xzep9qkEgQ/E108/Nw8pFGEzFL35T2P+0phn2B9rdRkJnR9X9gvSGYomHntjRKg9f46O0e6snQ88TvFdqU2dlRYGXxaDs8RLMtSlHiPOJ1vWH5qDsbkQky5y+vSbiY0hEDWrFkTRCRs3LhxxDldSDhjxozQ2dkZzjnnnLB9+/aqazZv3hzOOuusMHXq1HDIIYeEq666qqkWEpbVBGIDBAezpQWitYMaFvqFcSAyycQCgXgvfv/Baidq+/h8FqZIEpzZxWXy/9E9gFlBMYHJi+FY+GGZ6IqwhIxFePwOeAGePicm1Jhcs9xhfD7PppR5CAldMZxxhVlr1uJG7i8mEhX+1oJJa1Ejjg9um2VVYoKEntfnq1szZvVwvMeaI9ZiWFYQWZHiGGhR1xLKgawdJPKUlVeBbQQp+VYmo4iUfxO1e8zA4ZXBHOC2BDKTDBKIZT3x5LeAQlLjC4sXj/zAUAj2Ykh2q8T6B+urQs8SkBin0UA+nte6WNucTJq0P86QErwxIsE29fXFv5eBsYr29jjZaVlsEWa5gFT4K7Ghto3XqbYfswoVvLLdeiZvvWLFaLh+nIo9MFBtgShJ4G7QOMbRPYbkg9lZPHd47Ot45ew+a42VNY+4r6xxW0ZAF/VmpO6v5ZqycAKpA/K+eH2RvFbBugZdVJxJgmSgZXAqJU66lNZvWTyWy0vLQyHILjfVMDETy0rZ1YkZ2z4e24IEp+sLNMMJ68ECLyt4HjvyrgnJOtAtF7MQUOByNl0sHhE7VJu1VpFrHWL10FRaDdyziwkPfaft7bYbTGMxuPiT12CEMDK1XN+jJUxZiPM6mZhrUS1njlfitZxJZlkpWM8ULBdv7Bqcf+w6LkIiboE0AM2wG2/KL4pBW74uFahWAc1pvOyX5W1KYgOIJwgfeg9qkTrgUXNmF461diImPPh5WC9ewY3XsIDFlFB8dhHCwFXTeQ8lQhSwbPGlAvOc1o2WplV/axW7/p5aEY7XpQL5RduvdUULyDrUVcRWhe5QEHPncP/imGQr3IrlsYav/YrxFJ6HXF5eAmEiszR+rE8e93OzwwmkJFJaPZNE6t485iVrqSj4dWKyEEDNi+/XOljWQ9ZiOP6iHWcAWYJ70qTq9qgWyYLMcidY/nJ07+DfLMjUBcgWC9cNBbP1GVrsI/6NBRX2kY6HlF8eFwJiuW1t6W+fpI4YyWgfp4jVSiLA2IWlLMT6Fl1F3AdcjpU5hqTBVmts3rHQ5d/zuIwsly+OzxjYAslaMxJTMq0MyGaFE0hJxAR/KjinwNiDao5ogWSZtZZQYiGvgiC2itwSzPh8zOBCCwSD/bF6cvYTEoO1nxO2A33USjJW8NvK0ecymCDLCmMkRs4K0v5i1562l7Oj2CWTlwSsYH2qnJjVY/WJ9U4spcRqJ48lXsuDwpTfy6RJ1VldlqDnZ1gJJNjWrFiCtQiYr8f5wjEca37G5mjKErFgxV4aEbeoJ5xASiK2Gj3PwGHhjRo6notZLyzQ2ddrpSfGXGd6LW4QgMJD62D5d2PaHGuP3C+WQE756LUMXPWOdcTf0DJizVivQ6FVhFiszKVYDIn7Ue9bvHi/wO7t3V+flBuQY0vWNTyeYjEMJF120SCB9PXtTw7g2AKXlVoVbs0FHKsct8HYBbo/dXzx2g+uf8yqt5QunnPs5uKPnjFZWq4nyw2bZRXF6tGouEU94QRSEinXU9bLRwvE0oZwO4zYc3FwsnDnBW+Wa0iB1ykw5mJZQeiCYusgpqVZ8Rad0BiM18mK7hvVxlUoIllgLIazvlDAopXHLkCsUyo+oFoy14OfESMWPjARQgVpnrgNElms3Ng9McHHfcDla5v1GyB4fWoOWFvOs3t3YGCk5RJTYrA9XH8e55ayYxFILNBu9ZkVf0GLPeVJ4D7nfhsvpIFwAimJsi87z31WzALvV63O2iUVBZO1kpafa1lS+Js16S2NVAU/plLGCMhyqVkugCxBirGYlBBF9whroilBLFKdoqtrZPA8WjkqRLKsGl58iMH7LALB+JZeX8SKYo04b39w1hQG7DF+w4tfUVjq/5E4Yy49tJTYtaTvIhZnsOaRtpNdxlhHFfhsoVluWn2uRXRcrtXn440oYnACaRDymKkx4OS0BhlONMsCQQHNmlUe8xivtYR9LGiKQgKFaqx91jl20aWEMJKRasi4iBAFhj4vS8BmubVQ4BbN2kpZN6n0WU0GUOHMH6SK9ZflbmKy5rUTsT7B69Ta02ym2FjAeYBrW/Sw4lr4jljw8rUo9C1N3xq7OM5YecHYTNbcSMUC8RnjJZZRFk4gdYAlkGsxU1NaTQj24r2sZ+BvMR+xZQ3ErCHUGnF9huW+4bqhYIzVTQ+0grDdKhTURYIavWqP2J48gl4FLPrfra3jUetXkkIhrKm8eq+6ZLIILBYU5xXPeLArBc/pflIcBEahljfVOaZ1W3W2BDALXiybV5ozOeoYQetOrRhOoEgRg94TC1KnBD4raSnLx7p+IlgbFpxA6oAsgVwUKf9p7Jq8z7PKRh+0TlgV1lY2Gbs9VHij4IgRCAe/8TcMTPPqZa4/usksocdbmOB1qT2aQqgWdiniQQ26u3uk8GHyTRGIChvrGn4nVr1VUCHhqeDHdmPSQsr6UALFvsP3Y7l5WLhaGViLF4/cMgVjfhgL03qgYoHuLx0PvLg2NhfRwogRXSw5Jq9CGIvzTFQ4gdQB9fRp6qRmP60l+C1Bh5PCqhcLa9biWOjotegOYiHHGnkI+10xWjcUPqxZo/9fhSj3QSzQGROA1gJHSwPm+wcGRi4M5MWGeD2vG0E3EfdJjIzQVWlZGdY7scqwfk9t18JJBxZ5sYWSx3XE1gYTK28HgySKbickhpRVzdZmbC5mrSXBumdZILHrY0Q3UeEEMsrIMm1xcuEgRgGC/mXUtFlTtDQt1PB4MV5398htMCw/v7VQjxcEWhYCBtmZHGJCTtuCmjNqwbGdcGNWBgtD1ohxbQL+htuuZO2+y759DPhyZhP2k/ZPkSB/nvMxQuD0YXTHaRtRkOs9fX0jNylk1xFaKZyJpc/hNGLM6kNlg2OBMSs1y3JHckICxDkSsyhihMGkVIvLqp6K6GjBCaQOKPLiWTtjTSdmgcR+Z5eQThDWtHGSYQYPCuUQbOGJk97K+w+hWmvH1d2pdRfqmsnSrvv6Rubwc7xEJ7EKqjy+fSvonzoU2Lex9RYxQY8avL4P7vMi271rXdhNF2svPk8FswpSfW5bW/WYRoLXnW+xXHY9cZYYWhKcKRhbIKnC3Jon/N4t641jdjhX2GKMbWmCZWJ9rfPWPCtKBjHrp5nhBFIDyvg7UxZIatClTGv2QbMGG0sjtIKJeq9OfCtzx2oTkpG6TTAzKiZQ0WWFWUZ4jT6fg6tqMWk2EPYrrxhHgYFaapHtQlCg4kI47ac8K8xxkZrl1kuRDy8utGIJ1n0i+1O+Q7BJkX/H920ldbAiwOs4Ym23CBDHANYbrRd2O1mWBsdDYvMDFQx2j+E8w3tjczxm6ZchA7dAmgSjRSBl/J15SCLP6tVUOWyVWAsSkURiwXiMl3BA2Kq3nke3WmzvJPaPozDBc0i0qVhE7ODsJ87IiW1MGBPqLBCwvCzLwaqzvoOi9+VJSY7VGzcyjJEuujctSzW2K4DIyG3Z0eLJ2iCSz1v7qsWUGFU+MAjO8bKs+WORCY/D2LOzlMHxSBBZcAKpAfU2U2Mmu4WUQGe3CBKcEoOeRzdOSjhawXecjKjl6XPVFYLCQSe4biHe3z8y91//z+tXcP1FXsHJFgauYrcEFK4jscrD1c6W/z4m+PLWL8+h1lpquxJNbEBLB+uNGj+6wVLkZSkisfGG4H6JudswLsLvCY+UEsPuKLaOcIxnzd8i8zEPxqOLKgtOIA1GEcsh63zMOrCAmU14La8iR9Pe0sbUTTJjhr0okWH5ofHbJFZsBie/tXU3B6BVKHKA1zosd0oqXqAablbGVJHYSdH6pYiDCYrbgetmrJiGlRCBqbRaJyQnTpO1xiZbhzjeuY6x98YL/mKxrJjSxK5h9BBYLq88HoSYu6wM3ALZDyeQnCiideAAs/6PftgsE9ny/TKpWCm1XB+evPxs1Gj1WVo2p5AiQcyYUR2Uj2XFhDDSxaMCRAVMbCuMvj47jbWIBWMdsXgDCtu8hJH3q4gY84jVX4kiRpp6Db4v7G8cG0wIHG9hYc3EpL+zO5Ldq1gOj2/uVz1477hYPCTmmuX5khXDnIiWQ73gBNJgFNE6cKBa/8+KtaBWbFkKvEgKJymmx1pZTkg6qU3qcJJZ5GHFPlDAWW3kVFN2lVmH+vdrIQotp1bCQUGcil1wenBbW3bKMPdhnjZrrACD+fzdjpSriUmSEx9ERr5rFeLsEtPYFrrb2PLQHQusecDrSGKkgP3CiSGWBW7tBzeRLId6wQlkDBAbuDELJLY6loFCFQV+KjMENVNeg8LWhbU+ASe7aod6r2rXM2aMtICs9SacT8+++lgQXeMpuPFhlmsob4wCCRwXTKJW3t4ed7VY7pt6EZLVJh4Dee/DfuWtT/r6qt8XvzsrjmORB2/IGMJIy0XXzHCfWVYTj0e0hNgdxhZNKvYXQnX9i8xrXFWPv09UAnICGQNwwC+1eVsI2fEOvo4nioKJC4W09a2LmN+chY+6dFg46gTn3H+rPPbpZwk/3FIdBQFm46Tut+Ix1sHxARSAqfvb26tjSNpPjSAOrheOKT6f16LRhAcdHyy8U4cqFig0mRT4y5ZMBFab9B1bsREuD8exAjPHYm4tvDaP0obANiLxTGQXmBPIGAAFeZ4sj7IEEltdaxGY/mu5p2J+8Ty5/1aQXgPi+m0JK4snJaDQraQxFJ7sWa4cKxhubZyI/+cFeFnbhHCbigTMrTbnvRaFv/U+MJbS2lptueUhB12tH9tdWMcpjnNrbOq1TAY4HnCxY4zEsHxej8MKVL0C4hbQHYcLbifyhopOIGOMPOZt3kwunSC6uI73muLgp/Uvp0GioMZJjO4CdmWxwMF7sD5IiLytCgskdAexK8QqD4P1MWGo98asnZjQi5EcWk+cYpsiRSXSlGsrdj6WyhtLLGBrKmXpqRafqpd1v7UGQ+uqioOSD1o5mFqeUgrwnbErzBqnfD8TS5k5mQIraBPR8lA4gYxDxILqsQAiCy9eja33pvbOwntx/x/0+eJ2K5ZrguuDfmrUMllAaSBT6xz75jsSSN5tyvU+S+Dy3lVZB5It3qckZn3NT488riUmQyRdFcy4/xTWQZWKvG3Rcq3gN74byzLCpA3uH7b6rG1EMCuP/2/FCFNjH89Zi2Yti6RWl1MqOD/R4AQyDqECXAUIp0wqsViWBQo6JAvUmnBSsgaKq8tx40FNm9Xn433sj9bn8b5QMbeTtgeFJgordh1g7AEP/QY5toXJj8sukgWFglctIC4zJozzkggLcH6v2vepsoqQYizYrW2xsuliW+ponWOkoODsPyYmRCxd13LFMqmkXF0HCgHUCieQcQhLg7cIACdOSptGl5QVMGXhoSmgnZ0jvwTI2VY8sXEysuXAddD6ssvMElapvZm0frE4AmbkaL1VY8+KWxSJa/T3Z6cfa12LWgsi+Td21DiB9keW64zTZXmNDq/0xthZ7PkxwczxDizDCmjjmMBxFLNsrPgepoZbscKJ7IKqFU4gTYRUbAN/t1w21r34m6Xdo4DGcnFCossgS1ii5YM7A6MgsCycWFAzK41Yy+ffeNFbLB6gFgt/hCkm5FnQ9vbmz0yaMSPfdUo0Wm7qnt7ekSm4Vp15Q0KMXeF7su63dstlQc7KS95MOBbMlhWd2pKHrRy2ZDm7MStbj2MWbolkwwmkiRDTePj32MBOBf9Qi+QFbRpjsFJ58f6UMMM1Euy+SgkOywpJpX/GiMtahId7b8XqYh0x94+SDq7m1rbn0eZTz7MENX4vpMyB+3pxFhy/O0vJQPLl9SH4rjTewplH3B5eR8NjjC1XrQNv2ohWDhItW0XWRp08P6y913j+uCUShxNIEyGvBaLggZ010FkDQ40rprUpUGu1yEPPT5pUTTQcc2DC4221UXhyLAMJqsyCuSJH0ZTbPNdjkJ2157a27FTdMvEYDJ5r/MGq68BAdXo19ilbFuyqTPUHZqThtjW8vxYvSOVddXW8YCKFnueMrVQsjYH7tBWdfw4nkHGNVHqvdc7KvIpdj+fzZCOpcNOJiK4njJlYLgWd/NaqbX4Ot8naLj5LqGbtj6UkGEtLxr+1XZqWmiIzFaS6zUrehYUogIt8wCp1WNYOCnUWvLFNCmPJGfj9Do4vxZQNq35s7eC9/FxdvKfjz0qlZqBS5ZZGcTiBjHNkWSecZWWZ/DFgGZYgxfRUnPg82VHQWNkusRiNJfiV0DDYjgvjcF0BasFZJINrOFIksHhxtSXArj2rr2Jl8s7I1md4kVjZLZPn4DiJPjelFGDCAX7bXt8fKha82BL/r+/Y2gIHkyusNiEB4VhEiwXL4z3esly7lhvYLY3iqDuBvPbaa2HJkiWhu7s7TJkyJcybNy88+uijlfPvvPNOuOSSS8LHP/7xMGXKlDB37twwQG/s/fffDxdffHHo7u4OBx10UDj33HPD4OBgwxs1HhHTmmKZKCjsrHusiWelAbMlg+tBmHisADo/T8vAGAMK9TxBfBSOeD8vniuyMC51LabrxoiB402psrAvVIO2ssmyyrKu4XcRW6ujhwpq64uAPPa0fBxbLS37ruHfcLEgjwN0Y7G1YFnLlpsrNSeKXuPIRl0J5K233gp9fX3hggsuCI888kjYtGlTWLNmTXj55Zcr1yxbtiwcddRR4aGHHgqvvPJKuOWWW8KkSZPCz372s8o1K1asCHPmzAkPPvhgeOyxx8JJJ50UTj755IY3ajwir3aF5zgHn/P2LVNf74vl5fMEt9wgeRZs4W/o286bwWQJUI7DZLnk8FyR3XhrCXhjXfOk+uphxUUsYtBFfFZgG4PgvCsvv2vrPaubkhcuhjAyHmZtNojAWFvMFRtb4Y0LXLOyp9zaqA/qSiBXX311OPXUU5M3fuYznwn/+T//56rfjj/++PAf/sN/CCGEsHPnztDW1hZ+8pOfVM4///zzQUTC+vXrc1XuQCeQvNpVzEUVy9NHd0QsnsEBfZGRK7A18GnFRayMIRRMuB0Lk0oswI9CVoVXXgIpIvhTGj2XmbKmYvtLWWSRl0BSh5VMwWXoe9LzbIVaxKQEYNXRUlL0/WN9OEsvleyBQfgU0Tjqh7oSyNy5c8MVV1wRvvKVr4RDDz00fO5znwurVq2qumbZsmWhv78/vPbaa2F4eDisW7cuHHzwweEXv/hFCCGEBx98MIhIePvtt6vu6+3tDd/73vfMyuzevTsMDQ1Vjq1btx4wBGKRRV7tynJRoSuCJx6SAj+PNUsrDoLCxdouG+ttaeEolKwdcnn339hX+1KHWihFBLBac6iNW0Id69GIzDFsg7q/8nwyF91T+g5i62t4kaaOA+s5KvQtskRCGhiIZ0OhwoLP0XgYjnElKtwSPmun6zzzw62UOOpKIB0dHaGjoyOsXLkyPPHEE+GWW24JU6ZMCT/4wQ8q1+zevTv87u/+bhCRMHny5NDe3h5uv/32yvk77rgjtLe3jyj7hBNOCH/4h39oVua6664LIjLiOBAIJDbI2ZzPmgToLorFQjSwqpk0VjonBjnZjYDCgFMvWWNMfco0T8Bd6xlbIIeZU5ytE9OaWehqfa0gsXX9wEB2TKWRxJJ6Lr/vrE0W9f+9vfF3ohaKlTmm48TqPwRbIExGuLgQr80j/LOu8ThJNupKIG1tbWHBggVVv33jG98IJ510UuXvP/mTPwmf+tSnwj333BP+8R//Mdx0003h4IMPDmvXrg0hlCOQA9kCQeCEsL5fEZssqHFbroVY/AHXZcRWTqcsIysLSzVGFiq62E5JCdOGlYysnXfRCuE+iaXTxla9W8KxSGwmDzFxamyZo7u72Pbv3Ca2lDBN1qqbvkvMjIttva7loMVmxU54zOj1uECU03pjQfVYnNDaPDTrPkc16kogvb29YenSpVW/ff/73w+zZ88OIYTw61//OrS1tYX77ruv6pqlS5eGM844I4RQzoXFOJBiIAjUmFQAqjkfc0uFUC0UrPhHTEjGdvXFa9DC4GuxXP2qIO+8a60ZQF89EmPKMinixuIt5TF7iNuG12V9V4NJCXc0xpXcVvwhb91bW6vHQpEFjkyclovQWsXOQBLSHYLxWZipp+SAG2FiOda7ZaUEicAa46lkDatMR37UlUAWL148Ioh+xRVXVKwSfdjq1aurrlm+fHn4rd/6rRDC/iD6XXfdVTn/wgsvBA+iZ8NKdbS0fQavNdAJhdofTjZ1/aCg5Q32eGJaAiC2UBCFH/vWNc2XNVwln5hQVcGcN3iOKaWxxXu4KA7/z9dY96KrEMk+q17Y9lh8g1eRZxGIxjbYcuX6oNsJf+PMvjwbUKa24eGMPyQZJSC8x3KXxuYF/+b7XNWGuhLIhg0bwuTJk8P1118fXnrppXDHHXeEzs7O8MMf/rByzWmnnRY+85nPhIceeihs2rQp3HbbbWHKlCnh+9//fuWaFStWhN7e3rBu3brw2GOPhQULFoxwjTWiURMFZUxvXgyHWp9qptZnWWOLBK0YB65O50woXADICxNjgojJLWUpoaBGIol9VS+1gSMKdmxHVllMIHn36OJ9ptRVU2Zrk9ih5XNdtE3aVtxniq2JIgcqKOiy1OwuJhtedInKQx7rwd1RjUHdFxLee++9Yd68eaGjoyMcc8wxI7Kwtm/fHi644IIwe/bsMGXKlPDpT386fPe73w3Dw8OVa3Qh4YwZM0JnZ2c455xzwvbt2xveqImCPME/1vg4BRKvQYGuExd93SogrbReXREe26dIBUZsQZ5lVaiQQ5dRnuCz5aopYpXEBC/2nXWNCryUJWOVq0Ja+6KMoOb3FjsfWy2PAh2VBVQarHenVh//jtlTOE7x2ei+ZKLl6/KSggfEGwPfymQCIo+2hRMqK+URhWgsNsITUyc+r+FAgWstWMPrlJiKfF0w6xoVTJjyWWvQWtuSlf6bJziP5aEQx00Di3zDHAU6Z3nhp2VxSxjrwDgQui8xBsEHZ+jxOOG0bba0rHUnGHwvYk0Ucek68sMJ5ABFLF5iTSzM0Ueg/58nZsqvj4vQWMBwdo1ej0JYXTiYaWRZCvxs1GA55pN1zJgRvxaJlwnC2t/K6o+s8yGkLRB9zqRJ+7OULIuDdzdGDR8tjJQ1xVvTxIgTd9+1rFQehzyudB0LKhq1rOtAuEVSHziBOEII+yey5VeOWSgc58BrUYjE4gIaJEcBg+4SdJepxszPS7llYqu3UZDG4hZ5Dg0+84Z8KoT1g1Ox+zU2k5Vyqy6wmPXCcYOsa7ls/Zctv5h1iH/rOIlZR7wuiIU/CnJVKHhnZCa3egh9t0DqAycQRwjBDpijcOePCfE9KEBZgLAQUi1Z/x8rS6GTnbft1nMpAZ0SzBjcZgGV101kfSQJy4yRE2rjtS4eZCunyDYpSmKWxafvAstD4sXdB5RArO+3MBFwthUu/GPS9N1ymxtOII4QQvXkjG09ERPsbLXwqnYlIdTMra1P2LeNHzjS7Cx1a8RiIyj49RmYJcVEpnXVTROLbmaYh5ysc4iy2VSxLwnywbEoLkPfCbsK0S3Jrq2s2BSf43dmxd54PYg1JqzxmvrN0Vg4gThGALdB4S8G5o2bWGBiYpcYCxRLQKHg4YPTPdES4Ewf1KK5Tiz4s7Z/V7cPE0HMilHiZBdd0YPJt+j9qV2L2U1krZtI1dv6Dgm/dyQmtAD1fXGSBiomqcWBHtcYPTiBOJKwJq0laGK76ypiAie2qthy/6Dg5e021N3BW5xonawV3pamzERgrX2JEWARIZ43s4yfHdtOX/svLyFZGy3qNiGxd2i905j1hO8x1We8aBATHTAOxivO3QJpDjiBOJLgICdr8jpZUfNXwYYTWgWJps1aO8CiVm4JY17cyPEZSwCnBHZqNXfqvtjKZ0tY8t+aVZQ3cI+xH+0Ddu1Z63GyCMpaAMgfe2IXkiWgsQx1P2Fd0CrE3ZSxHC0DM7xUKchK2nCMLZxAHElYQsOayGyBoMaI7oju7pFlW5k9uJWIHlwfS9O23DKslWNwVuuVZy0IC1N276Em3dYW34YlZRVoPWfMyJehFStH40WYSst9gy5K/Jokt0/7h1eLY5wCkyIwvdva+p3HAsfSUp8UcDQXnEAcDQHHM1LaK2frWIHh3t6RZaCA05RZFpKoTVv+diWZgYG0sMZvmIzGgUkHZQ/MeMqzit0KmqfIGYU7xnu4f3URopJZkc/WujuqueEE4qgZ1sTnrbXxGhUiuo5CNVtckMjau6WVYraUtdVHS4vtI7csl6xNABvxnQ4Wsvh7HhdX7BprE8Qsd5/268DAyLRkdNnFFgXy87LckVkLAp1AxgecQBw1I7YtCgp7vIa1f07pDaF6/yO0HKxUX3WdIemgm4WBLhYmCBTKLS3VH9Equ+DQEvhYdnt7dV2s7dzZOsKEAg38oxuqTN343hiB8PqMEEb2DRIEuxutQHrMOnUXVnPDCcRRMywLJLVdN1oOnFVkWTBYprUamQUmLmjTNRfWFxdZM+Z9uvIEo/U+3C5eEwT4OiU6a/W7Zh9ZVtCkSfbv1tcmOXaUlYLM63islGDeQNFSEHDrGs6WsjKoEBZZuAUyPuAE4mgIstIsOfOKtzKxNE+Oq2C5aLGwps8LA3VRWyoFVQkwD4ForIFXysfSlmOuMkvY8w60sfvUKuB26Aer+Hr+rgZbFvxtFCV1vZ/JS98bb4BpLRjMM1Yc4wNOII6GoOhCL0zPjQmTlKDRc1amUZFgtAq51NoPFaIaOEZrB1OUrQ9xxdajxEjBEv5ZlgnWyUrrxZXfsW3cdet5a/v1GImjNYPb9GO8y0liYsEJxNEQsLDnNQVZ1/M5Dt6qNtzWZrtwcD8ny9KIafUq6Jg08gh9rQuSIT+T1zngLrpZ5fMiRyt9GMlDicAKYnOmVIyA9FBCRAvPWu/D6dv8DI9pTCw4gThGBbUERTmeYP2NsRMU/LHV4dbX92JC24oLqGvJWneSd2+rmPYfq0cI1QkAbAHEEgFw/QZmvKl1oNfrd+m5DNwzDK0LXghoEQpui+NuqokHJxDHqKCMnxvjJPzFRLRArEWHItUL3TidNBbfYOGL1o8GvzXjSYVrHgJQ4R2Lc+S538p+wr7SNlrfQVES4vhECNUL+zjVWfvAIu1a3q1jYsAJxNG04G1LYu4vK+NJM6N4LYqWg2mxvDtwzNphstBAdCogjwe6wjATS78MGCMV6zOusW1UYnt3oTXGcSYMgMcW8sWy6xwHNpxAHE0LDszG3F/Wdhro0mlt3XcdEkrMlYRWirqpdNdePVC4W19QRBJLWSOWkEcS4O1C0IrinWv5Oxxcfh5S8O1DHEXhBOJoeuTd4oLPoRDltQhFvsFhLWaMafiavaQEokFnXgio5aTcV5YgV9edkkzsfuvbHlmL9ZhQYptGOhwKJxDHuEKRRWecEWQtJlTBnufTtugGim2HoinAqW3g8VO4TDoo/HGthiK2/YkeTGBsNWmqMfZBbGEfLyB0y8TBcAJxjCukNGlroVpWgBeFZCpVV4PJqKVbAhytE2tLEt5uJUYEeuhqcdy6xSIQJRv+VgvHcHCxY4p43QJx5IETiGPcgy0N63xsVbxaIP396a1L2tury7EC90ogGE9JfW+ENy20CEx/QzeTut9wkZ8CCYw3NcS02thX/RyOInACcUwIpCyN1Kp4Jp7Y99BbWkZmhWk6r24X0tq6/1Ouun4kRjTWN1CQHJSweAEmWxSxfrAC4rEgulsWjrJwAnFMeKQsEHbPsMDXALq1CSOSD9+nwn1goNrVpMTCW9Hz83ELdlz5jTGWVByDiSfLSnM4ysAJxOEA4Ip263smsS3NLZeYgt1KIewnCmtjQystOLYRYWoPMbS8UnEih6MsnEAcjhywXF6pgD4KdLQ2dLGetestW0ixjzch8rqs3F3laAScQBwHBGoVoJZlkkopRoGO5JP6qmIsAaAIkThBOEYTTiCOAwL1yjjCcvIuasyyBPIkAMRIxonDMZZwAnEcEKiXoC1KALU+g7dkiS3688C4YyzgBOJw1IiiAeoswoltMZJn+5Yyz3M4yqLuBPLaa6+FJUuWhO7u7jBlypQwb9688Oijj1Zd89xzz4V/+S//Zejq6gqdnZ2hv78/bNmypXL+/fffDxdffHHo7u4OBx10UDj33HPD4OBgwxvlcJQBp8gWJQirvHoKfLdSHI1CWVnbKgbefvttOeWUU6StrU3uv/9+ee655+S73/2uzJgxo3LNP/3TP8mpp54qxxxzjPz85z+XX/3qV3LttdfKlClTKtdceeWVcu+998pPfvIT+cUvfiGvv/66nHvuudYjHY4xx4oVIn/xFyJ9fSLXXCPy7W+LbNmy718L11yz/9pYeZs37/u3Hsh6nsMx2mgJIQT+8ZprrpG///u/l1/+8pfRG88//3xpa2uTv/7rvzbPDw0NyaGHHip/8zd/I1/5yldEROSFF16QuXPnyvr16+Wkk07KrNyuXbtk2rRpMjQ0JF1dXXnb5HDUBTffvI88rrmmfiTgcDQjyspa0wK55557pL+/X8477zyZNWuWzJ8/X2699dbK+eHhYflf/+t/yac+9Sk544wzZNasWXLiiSfK3XffXbnm8ccfl71798rChQsrvx1zzDHS29sr69evNyuzZ88e2bVrV9XhcIwV6m1BOBwTDSaBbNq0SQYGBuToo4+WNWvWyEUXXSSXXXaZ3H777SIismPHDnn33Xfl29/+tpx55pnyv//3/5ZzzjlHzj33XPnFL34hIiKDg4PS3t4u06dPryr7sMMOk8HBQbMyN954o0ybNq1yzJkzp45NdTgcDkc9Mdn6cXh4WPr7++WGG24QEZH58+fLM888IzfffLP83u/9ngwPD4uIyG//9m/LlVdeKSIin/vc5+T//J//IzfffLOcdtpppSqzcuVK+YM/+IPK37t27XIScTgcjiaFaYEcfvjhcuyxx1b9NnfuXHn11VdFROSQQw6RyZMnJ6/p6emRDz74QHbu3Fl1zRtvvCE9PT1mZTo6OqSrq6vqcDgcDkdzwiSQU045RTZu3Fj124svvih9fX0iItLe3i4nnHBC8prf+I3fkLa2NnnwwQcr5zdu3CivvvqqLFiwoK6NcDgcDsfow3RhXXnllXLyySfLDTfcIF/96ldlw4YNsmrVKlm1alXlmm9961vyb/7Nv5EvfOEL8sUvflEeeOABuffee+XnP/+5iIhMmzZNli5dKn/wB38g3d3d0tXVJd/4xjdkwYIFuTKwHA6Hw9HkiC0Quffee8O8efNCR0dHOOaYY8KqVatGXPOXf/mX4ZOf/GSYMmVK+OxnPxvuvvvuqvO6kHDGjBmhs7MznHPOOWH79u25F6n4QkKHw+FoPMrKWnMdSLPA14E4HA5H41HXdSAOh8PhcGTBCcThcDgcpeAE4nA4HI5ScAKZALj5ZpEjjtj3r8PhcIwWnEAmALJ2jXU4HI5GwAlkAsC3+XY4HGMBT+N1OByOAxyexutwOByOUYUTiMPhcDhKwQnE4XA4HKXgBOJwOByOUnACcTgcDkcpOIE4HA6HoxScQBwOh8NRCk4gDofD4SgFJxCHw+FwlIITiMPhcDhKwQnE4XA4mgjjaXdtJxCHw+FoIoyn3bWdQBwOh6OJMJ521/bdeB0Oh+MAh+/G63A4HI5RhROIw+FwOErBCcThcDgcpeAE4nA4HI5ScAJxOBwORyk4gTgcNWI8LfxyOOoJJxCHo0aMp4VfDkc94QTicNSI8bTwy+GoJ3whocPhcBzgqPtCwm3btsnXvvY1mTlzpkydOlWOO+44eeyxx8xrV6xYIS0tLfKnf/qnVb+/9dZbsmTJEunq6pLp06fL0qVL5d13381dOYfD4XA0LyZbP7799ttyyimnyBe/+EW5//775dBDD5WXXnpJZsyYMeLan/70p/IP//APMnv27BHnlixZItu3b5e1a9fK3r175cILL5Tly5fL3/zN39S/JQ6Hw+EYVZgE8sd//McyZ84cue222yq/HXnkkSOu27Ztm3zjG9+QNWvWyJe+9KWqc88//7w88MAD8uijj0p/f7+IiNx0001y9tlny3/5L//FJByHw+FwjB+YLqx77rlH+vv75bzzzpNZs2bJ/Pnz5dZbb626Znh4WL7+9a/Lt771LfnMZz4zooz169fL9OnTK+QhIrJw4UJpbW2VRx55pM7NcMTgKaYOh6NRMAlk06ZNMjAwIEcffbSsWbNGLrroIrnsssvk9ttvr1zzx3/8xzJ58mS57LLLzIIHBwdl1qxZVb9NnjxZuru7ZXBw0Lxnz549smvXrqrDURs8xdThcDQKJoEMDw/L8ccfLzfccIPMnz9fli9fLsuWLZOb/3819vHHH5c/+7M/kx/84AfS0tJSt8rceOONMm3atMoxZ86cupV9oMJTTB0OR6NgEsjhhx8uxx57bNVvc+fOlVdffVVERH75y1/Kjh07pLe3VyZPniyTJ0+WLVu2yFVXXSVHHHGEiIj09PTIjh07qsr48MMP5a233pKenh6zMitXrpShoaHKsXXr1lrbd8BjxQqRzZv3/etwOBz1hBlEP+WUU2Tjxo1Vv7344ovS19cnIiJf//rXZeHChVXnzzjjDPn6178uF154oYiILFiwQHbu3CmPP/64/MZv/IaIiKxbt06Gh4flxBNPNCvT0dEhHR0dtbXI4XA4HKMCk0CuvPJKOfnkk+WGG26Qr371q7JhwwZZtWqVrFq1SkREZs6cKTNnzqy6p62tTXp6euTTn/60iOyzWM4888yK62vv3r1y6aWXyvnnn+8ZWA6HwzEBYLqwTjjhBPnpT38qP/rRj2TevHnyR3/0R/Knf/qnsmTJkkKF33HHHXLMMcfI6aefLmeffbaceuqpFRJyOBwOx/iGb2XicDgcBzj8m+gOh8PhGFU4gTgcDoejFJxAHA6Hw1EKTiAOh8PhKAUnEIfD4XCUghOIw+FwOErBCcThcDgcpeAE4nA4HI5ScAJxOBwORyk4gTgc4xj+wTDHWMIJxOEYx/APhjnGEk4gDsc4hn8wzDGW8M0UHQ6H4wCHb6boGDW4393hcIg4gUxYNFLIu9/d4XCIOIFMWDRSyLvf3eFwiDiBTFg0UsivWCGyefO+fx0Ox4ELD6I7HA7HAQ4PojscDodjVOEE4nA4HI5ScAJxOBwj4KnajjxwAnE4HCPgqdqOPHACcTgcI+Cp2o488Cwsh8PhOMDhWVgOh8PhGFU4gTgcDoejFJxAHA6Hw1EKTiAOh8PhKAUnEIfD4XCUghOIw+FwOErBCcThcDgcpRAlkG3btsnXvvY1mTlzpkydOlWOO+44eeyxx0REZO/evXL11VfLcccdJwcddJDMnj1bfvd3f1def/31qjLeeustWbJkiXR1dcn06dNl6dKl8u677za2RY4JAd9Kw+FofpgE8vbbb8spp5wibW1tcv/998tzzz0n3/3ud2XGjBkiIvLrX/9annjiCbn22mvliSeekP/5P/+nbNy4Uf7Vv/pXVeUsWbJEnn32WVm7dq3cd9998vDDD8vy5csb3yrHuIdvpeFwjAMEA1dffXU49dRTrVNRbNiwIYhI2LJlSwghhOeeey6ISHj00Ucr19x///2hpaUlbNu2LVeZQ0NDQUTC0NBQobo4xj8GBkLo69v3r8PhaCzKylrTArnnnnukv79fzjvvPJk1a5bMnz9fbr311iQRDQ0NSUtLi0yfPl1ERNavXy/Tp0+X/v7+yjULFy6U1tZWeeSRR8wy9uzZI7t27ao6HAcmGv3VQ3eRORy1wySQTZs2ycDAgBx99NGyZs0aueiii+Syyy6T22+/3Sxk9+7dcvXVV8vixYsr+6gMDg7KrFmzqq6bPHmydHd3y+DgoFnOjTfeKNOmTascc+bMqaVtDkcU7iJzOGqHSSDDw8Ny/PHHyw033CDz58+X5cuXy7Jly+RmQ13bu3evfPWrX5UQggwMDNRUmZUrV8rQ0FDl2Lp1a03lORwx+G6zDkftmGz9ePjhh8uxxx5b9dvcuXPlf/yP/1H1m5LHli1bZN26dVW7OPb09MiOHTuqrv/www/lrbfekp6eHrMyHR0d0tHRUaohDkcRrFjROPeYw3GgwLRATjnlFNm4cWPVby+++KL09fVV/lbyeOmll+Rv//ZvZebMmVXXL1iwQHbu3CmPP/545bd169bJ8PCwnHjiifVsg8PhcDjGAKYFcuWVV8rJJ58sN9xwg3z1q1+VDRs2yKpVq2TVqlUiso88vvKVr8gTTzwh9913n3z00UeVuEZ3d7e0t7fL3Llz5cwzz6y4vvbu3SuXXnqpnH/++TJ79uzRa6HD4XA4GoNYeta9994b5s2bFzo6OsIxxxwTVq1aVTn3yiuvBBExj4ceeqhy3ZtvvhkWL14cDj744NDV1RUuvPDC8M477zQ8tczhcDgc+VFW1voXCR0OR8Nx8837Mt6uucZjT80I/yKhw+FoWnja9MSEE4jD4Wg4PG16YsIJxFEzfFW3IwuN3lnAMTZwAnHUDHdPOBwHJpxAHDXD3RMOx4EJz8JyOByOAxyeheVwOByOUYUTiMPhcDhKwQnE4XA4HKXgBOJwOByOUnACcTgcDkcpOIE4HA6HoxScQBwOh8NRCk4gDofD4SgFJxCHw+FwlIITiMPhcDhKwQnE4XA4HKXgBOJwOByOUnACcTgcDkcpOIE4HA6HoxScQBwOR0PhX6ycuHACcTgcDRXy/sXKiQsnEIfD0VAh71+snLhwAnE4HA0V8itWiGzevO9fx8SCf9LW4XA4DnD4J20dDofDMapwAnE4HA5HKTiBOBwOh6MUnEAcDofDUQpOIA6Hw+EoBScQx7iAr2Z2OJoPUQLZtm2bfO1rX5OZM2fK1KlT5bjjjpPHHnuscj6EIP/xP/5HOfzww2Xq1KmycOFCeemll6rKeOutt2TJkiXS1dUl06dPl6VLl8q7777buNY4Jix8NbPD0XwwCeTtt9+WU045Rdra2uT++++X5557Tr773e/KjBkzKtd85zvfkT//8z+Xm2++WR555BE56KCD5IwzzpDdu3dXrlmyZIk8++yzsnbtWrnvvvvk4YcfluXLlze+VY4JB1/N7HA0IYKBq6++Opx66qnWqRBCCMPDw6Gnpyf8yZ/8SeW3nTt3ho6OjvCjH/0ohBDCc889F0QkPProo5Vr7r///tDS0hK2bdsWLRsxNDQURCQMDQ3lut7hcDgcxVFW1poWyD333CP9/f1y3nnnyaxZs2T+/Ply6623Vs6/8sorMjg4KAsXLqz8Nm3aNDnxxBNl/fr1IiKyfv16mT59uvT391euWbhwobS2tsojjzxiktmePXtk165dVYfD4XA4mhMmgWzatEkGBgbk6KOPljVr1shFF10kl112mdx+++0iIjI4OCgiIocddljVfYcddljl3ODgoMyaNavq/OTJk6W7u7tyDePGG2+UadOmVY45c+bU1jqHw+FwNAwmgQwPD8vxxx8vN9xwg8yfP1+WL18uy5Ytk5sbnAKzcuVKGRoaqhxbt25t6PMcDofDUR4mgRx++OFy7LHHVv02d+5cefXVV0VEpKenR0RE3njjjapr3njjjcq5np4e2bFjR9X5Dz/8UN56663KNYyOjg7p6uqqOhyOZoCnETscI2ESyCmnnCIbN26s+u3FF1+Uvr4+ERE58sgjpaenRx588MHK+V27dskjjzwiCxYsEBGRBQsWyM6dO+Xxxx+vXLNu3ToZHh6WE088se4NcYw/jCeh7GnE4wfjaVyNe1iR9Q0bNoTJkyeH66+/Prz00kvhjjvuCJ2dneGHP/xh5Zpvf/vbYfr06eFnP/tZ+NWvfhV++7d/Oxx55JHh/fffr1xz5plnhvnz54dHHnkk/N3f/V04+uijw+LFixueGeAYH+jrC0Fk37/NjoGBffUcGBjrmtholvo1Qz3G07hqFpSVtSaBhBDCvffeG+bNmxc6OjrCMcccE1atWlV1fnh4OFx77bXhsMMOCx0dHeH0008PGzdurLrmzTffDIsXLw4HH3xw6OrqChdeeGF45513Gt4ox/hAMwibiYJmEZrNUA8fV8VRVtb6B6UcjgmAm2/e51675pqx/fJfs9TDUQxlZa0TiMPhcBzg8C8SOhwOh2NU4QTicDgcjlJwAnE4HA5HKTiBOBwOh6MUnEAcDofDUQpOIA6Hw+EoBScQh8PhcJSCE4jD4XA4SsEJxOFwOByl4ATicDgcjlJwAnE4HA5HKTiBOBwOh6MUnEAcDofDUQqTx7oCKehGwbt27RrjmjgcDsfEhcrYopuzNzWBvPPOOyIiMmfOnDGuicPhcEx8vPnmmzJt2rTc1zf190CGh4fl9ddfl4997GPS0tISvW7Xrl0yZ84c2bp1q383pA7w/qw/vE/rC+/P+mJoaEh6e3vl7bfflunTp+e+r6ktkNbWVvnEJz6R+/quri4fTHWE92f94X1aX3h/1hetrcXC4h5EdzgcDkcpOIE4HA6HoxQmBIF0dHTIddddJx0dHWNdlQkB78/6w/u0vvD+rC/K9mdTB9EdDofD0byYEBaIw+FwOEYfTiAOh8PhKAUnEIfD4XCUghOIw+FwOEphwhDInj175HOf+5y0tLTIU089VXXuV7/6lfyLf/EvZMqUKTJnzhz5zne+MzaVbHJs3rxZli5dKkceeaRMnTpVjjrqKLnuuuvkgw8+qLrO+7MY/tt/+29yxBFHyJQpU+TEE0+UDRs2jHWVxgVuvPFGOeGEE+RjH/uYzJo1S/71v/7XsnHjxqprdu/eLZdcconMnDlTDj74YPmd3/kdeeONN8aoxuML3/72t6WlpUWuuOKKym+F+zNMEFx22WXhrLPOCiISnnzyycrvQ0ND4bDDDgtLliwJzzzzTPjRj34Upk6dGm655Zaxq2yT4v777w8XXHBBWLNmTfinf/qn8LOf/SzMmjUrXHXVVZVrvD+L4c477wzt7e3hr/7qr8Kzzz4bli1bFqZPnx7eeOONsa5a0+OMM84It912W3jmmWfCU089Fc4+++zQ29sb3n333co1K1asCHPmzAkPPvhgeOyxx8JJJ50UTj755DGs9fjAhg0bwhFHHBH++T//5+Hyyy+v/F60PycEgaxevTocc8wx4dlnnx1BIN///vfDjBkzwp49eyq/XX311eHTn/70GNR0/OE73/lOOPLIIyt/e38Ww+c///lwySWXVP7+6KOPwuzZs8ONN944hrUan9ixY0cQkfCLX/wihBDCzp07Q1tbW/jJT35Sueb5558PIhLWr18/VtVserzzzjvh6KOPDmvXrg2nnXZahUDK9Oe4d2G98cYbsmzZMvnrv/5r6ezsHHF+/fr18oUvfEHa29srv51xxhmyceNGefvtt0ezquMSQ0ND0t3dXfnb+zM/PvjgA3n88cdl4cKFld9aW1tl4cKFsn79+jGs2fjE0NCQiEhlPD7++OOyd+/eqv495phjpLe31/s3gUsuuUS+9KUvVfWbSLn+HNcEEkKQCy64QFasWCH9/f3mNYODg3LYYYdV/aZ/Dw4ONryO4xkvv/yy3HTTTfL7v//7ld+8P/Pj//2//ycfffSR2V/eV8UwPDwsV1xxhZxyyikyb948Edk33trb20fsHuv9G8edd94pTzzxhNx4440jzpXpz6YkkGuuuUZaWlqSxwsvvCA33XSTvPPOO7Jy5cqxrnJTI29/IrZt2yZnnnmmnHfeebJs2bIxqrnDsQ+XXHKJPPPMM3LnnXeOdVXGLbZu3SqXX3653HHHHTJlypS6lNmU27lfddVVcsEFFySv+Wf/7J/JunXrZP369SP2b+nv75clS5bI7bffLj09PSOyCPTvnp6euta7WZG3PxWvv/66fPGLX5STTz5ZVq1aVXWd92d+HHLIITJp0iSzv7yv8uPSSy+V++67Tx5++OGqzzv09PTIBx98IDt37qzSmr1/bTz++OOyY8cOOf744yu/ffTRR/Lwww/LX/zFX8iaNWuK9+coxGwahi1btoSnn366cqxZsyaISLjrrrvC1q1bQwj7g74ffPBB5b6VK1d60DeC1157LRx99NHh/PPPDx9++OGI896fxfD5z38+XHrppZW/P/roo/Dxj3/cg+g5MDw8HC655JIwe/bs8OKLL444r0Hfu+66q/LbCy+84EH0CHbt2lUlL59++unQ398fvva1r4Wnn366VH+OawJhvPLKKyOysHbu3BkOO+yw8PWvfz0888wz4c477wydnZ2edmrgtddeC5/85CfD6aefHl577bWwffv2yqHw/iyGO++8M3R0dIQf/OAH4bnnngvLly8P06dPD4ODg2NdtabHRRddFKZNmxZ+/vOfV43FX//615VrVqxYEXp7e8O6devCY489FhYsWBAWLFgwhrUeX8AsrBCK9+eEJ5AQQvjHf/zHcOqpp4aOjo7w8Y9/PHz7298emwo2OW677bYgIuaB8P4shptuuin09vaG9vb28PnPfz78wz/8w1hXaVwgNhZvu+22yjXvv/9+uPjii8OMGTNCZ2dnOOecc6oUHkcaTCBF+9O3c3c4HA5HKTRlFpbD4XA4mh9OIA6Hw+EoBScQh8PhcJSCE4jD4XA4SsEJxOFwOByl4ATicDgcjlL4/wDB1pebTsoAuAAAAABJRU5ErkJggg==' width=400.0/>\n",
       "            </div>\n",
       "        "
      ],
      "text/plain": [
       "Canvas(toolbar=Toolbar(toolitems=[('Home', 'Reset original view', 'home', 'home'), ('Back', 'Back to previous …"
      ]
     },
     "metadata": {},
     "output_type": "display_data"
    }
   ],
   "source": [
    "import matplotlib.pyplot as plt\n",
    "dld_peak = data_crop['t (ns)'].to_numpy()\n",
    "dld_x_peak = data_crop['y_det (cm)'].to_numpy()\n",
    "mask_temporal = np.logical_and((dld_peak > 594),\n",
    "                               (dld_peak < 758))\n",
    "dld_peak = dld_peak[mask_temporal] \n",
    "dld_x_peak = dld_x_peak[mask_temporal]\n",
    "fig1, ax1 = plt.subplots(figsize=(4,4), constrained_layout=True)\n",
    "mask = np.random.randint(0, len(dld_peak), 10000)\n",
    "\n",
    "x = plt.scatter(dld_x_peak[mask]*10, dld_peak[mask], color=\"blue\", label=r\"$t$\", s=1)\n",
    "plt.show()"
   ]
  },
  {
   "cell_type": "code",
   "execution_count": null,
   "metadata": {},
   "outputs": [],
   "source": []
  }
 ],
 "metadata": {
  "kernelspec": {
   "display_name": "Python 3 (ipykernel)",
   "language": "python",
   "name": "python3"
  },
  "language_info": {
   "codemirror_mode": {
    "name": "ipython",
    "version": 3
   },
   "file_extension": ".py",
   "mimetype": "text/x-python",
   "name": "python",
   "nbconvert_exporter": "python",
   "pygments_lexer": "ipython3",
   "version": "3.8.16"
  }
 },
 "nbformat": 4,
 "nbformat_minor": 4
}

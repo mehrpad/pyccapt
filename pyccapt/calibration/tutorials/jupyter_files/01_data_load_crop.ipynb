{
 "cells": [
  {
   "cell_type": "markdown",
   "metadata": {
    "pycharm": {
     "name": "#%% md\n"
    }
   },
   "source": [
    "$\\textbf{ROI slection}$<br>\n",
    "$\\text{In this workflow we crop the data temporaly and specialy. We also calculate the raw mc, pulse per ions and ion per pulse. }$"
   ]
  },
  {
   "cell_type": "code",
   "execution_count": 1,
   "metadata": {
    "pycharm": {
     "name": "#%%\n"
    },
    "tags": []
   },
   "outputs": [],
   "source": [
    "# Activate intractive functionality of matplotlib\n",
    "# Activate intractive functionality of matplotlib\n",
    "%matplotlib ipympl\n",
    "# Activate auto reload \n",
    "%load_ext autoreload\n",
    "%autoreload 2\n",
    "%reload_ext autoreload\n",
    "# import libraries\n",
    "import os\n",
    "import numpy as np\n",
    "from ipywidgets import fixed\n",
    "from ipywidgets import interact_manual\n",
    "from ipywidgets import widgets\n",
    "\n",
    "# Local module and scripts\n",
    "from pyccapt.calibration.calibration_tools import tools, share_variables\n",
    "from pyccapt.calibration.calibration_tools import widgets as wd\n",
    "from pyccapt.calibration.data_tools import data_tools, data_loadcrop, dataset_path_qt\n",
    "from pyccapt.calibration.mc import mc_tools, tof_tools"
   ]
  },
  {
   "cell_type": "code",
   "execution_count": 2,
   "metadata": {
    "tags": []
   },
   "outputs": [
    {
     "data": {
      "application/vnd.jupyter.widget-view+json": {
       "model_id": "f73543abd730461d9e99e7fcf09b033d",
       "version_major": 2,
       "version_minor": 0
      },
      "text/plain": [
       "Button(description='load dataset', style=ButtonStyle())"
      ]
     },
     "execution_count": 2,
     "metadata": {},
     "output_type": "execute_result"
    }
   ],
   "source": [
    "button = widgets.Button(\n",
    "    description='load dataset',\n",
    ")\n",
    "@button.on_click\n",
    "def open_file_on_click(b):\n",
    "    \"\"\"\n",
    "    Event handler for button click event.\n",
    "    Prompts the user to select a dataset file and stores the selected file path in the global variable dataset_path.\n",
    "    \"\"\"\n",
    "    global dataset_path\n",
    "    dataset_path = dataset_path_qt.gui_fname().decode('ASCII')\n",
    "button"
   ]
  },
  {
   "cell_type": "code",
   "execution_count": null,
   "metadata": {
    "pycharm": {
     "name": "#%%\n"
    },
    "tags": []
   },
   "outputs": [],
   "source": [
    "# check pytables library and install it\n",
    "# try:\n",
    "#     import tables\n",
    "# except:\n",
    "#     !conda install --yes --prefix {sys.prefix} pytables"
   ]
  },
  {
   "cell_type": "code",
   "execution_count": 3,
   "metadata": {
    "tags": []
   },
   "outputs": [
    {
     "data": {
      "application/vnd.jupyter.widget-view+json": {
       "model_id": "7de5bc42a15e42a4a1e6a87a7499d42a",
       "version_major": 2,
       "version_minor": 0
      },
      "text/plain": [
       "Dropdown(description='Data mode:', options=('PyCCAPT', 'leap_epos', 'leap_pos', 'ato_v6'), value='PyCCAPT')"
      ]
     },
     "metadata": {},
     "output_type": "display_data"
    },
    {
     "data": {
      "application/vnd.jupyter.widget-view+json": {
       "model_id": "2af13f34bb2043dabf58fdb397281a8e",
       "version_major": 2,
       "version_minor": 0
      },
      "text/plain": [
       "Dropdown(description='Pulse mode:', options=('voltage', 'laser'), value='voltage')"
      ]
     },
     "metadata": {},
     "output_type": "display_data"
    },
    {
     "data": {
      "application/vnd.jupyter.widget-view+json": {
       "model_id": "1fc17589647a48cbbd6ca3026d7f28c4",
       "version_major": 2,
       "version_minor": 0
      },
      "text/plain": [
       "FloatText(value=110.0, description='Flight path length:')"
      ]
     },
     "metadata": {},
     "output_type": "display_data"
    },
    {
     "data": {
      "application/vnd.jupyter.widget-view+json": {
       "model_id": "f38cc553e2924115852f4abeeace7532",
       "version_major": 2,
       "version_minor": 0
      },
      "text/plain": [
       "FloatText(value=54.0, description='t0:')"
      ]
     },
     "metadata": {},
     "output_type": "display_data"
    },
    {
     "data": {
      "application/vnd.jupyter.widget-view+json": {
       "model_id": "b163c348422e42938b39c5eb80c38dd9",
       "version_major": 2,
       "version_minor": 0
      },
      "text/plain": [
       "FloatText(value=400.0, description='Max mc:')"
      ]
     },
     "metadata": {},
     "output_type": "display_data"
    }
   ],
   "source": [
    "# create object for selection of instrument specifications of the dataset\n",
    "tdc, pulse_mode, flightPathLength_d, t0_d, max_mc, det_diam = wd.dataset_instrument_specification_selection()\n",
    "\n",
    "# Display lists and comboboxes to selected instrument specifications\n",
    "display(tdc, pulse_mode, flightPathLength_d, t0_d, max_mc)"
   ]
  },
  {
   "cell_type": "code",
   "execution_count": 42,
   "metadata": {
    "pycharm": {
     "name": "#%%\n"
    },
    "tags": []
   },
   "outputs": [
    {
     "name": "stdout",
     "output_type": "stream",
     "text": [
      "The maximum possible TOF is: 11251 ns\n",
      "=============================\n",
      "The data will be saved on the path: E:/APT&M-2023/physics_atom_probe_data/TiO2/data_TiO2\n",
      "=============================\n",
      "The dataset name after saving is: cropped_data_TiO2\n",
      "=============================\n",
      "The figures will be saved on the path: E:/APT&M-2023/physics_atom_probe_data/TiO2/data_TiO2/load_crop/\n",
      "=============================\n",
      "{'dld': ['high_voltage', 'pulse', 'start_counter', 't', 'x', 'y']}\n",
      "The number of data over max_tof: 2691\n",
      "Total number of Ions: 160717\n"
     ]
    }
   ],
   "source": [
    "# Calculate the maximum possible time of flight (TOF)\n",
    "max_tof = int(tof_tools.mc2tof(max_mc.value, 1000, 0, 0, flightPathLength_d.value))\n",
    "print('The maximum possible TOF is:', max_tof, 'ns')\n",
    "print('=============================')\n",
    "# create an instance of the Variables opject\n",
    "variables = share_variables.Variables()\n",
    "variables.pulse_mode = pulse_mode.value\n",
    "dataset_main_path = os.path.dirname(dataset_path)\n",
    "dataset_name_with_extention = os.path.basename(dataset_path)\n",
    "variables.dataset_name = os.path.splitext(dataset_name_with_extention)[0]\n",
    "variables.result_data_path = dataset_main_path + '/' + variables.dataset_name \n",
    "variables.result_data_name = 'cropped_' +  variables.dataset_name \n",
    "variables.result_path = dataset_main_path + '/' + variables.dataset_name + '/load_crop/'\n",
    "\n",
    "if not os.path.isdir(variables.result_path):\n",
    "    os.makedirs(variables.result_path, mode=0o777, exist_ok=True)\n",
    "\n",
    "print('The data will be saved on the path:', variables.result_data_path)\n",
    "print('=============================')\n",
    "print('The dataset name after saving is:', variables.result_data_name)\n",
    "print('=============================')\n",
    "print('The figures will be saved on the path:', variables.result_path)\n",
    "print('=============================')\n",
    "\n",
    "# Create data farame out of hdf5 file dataset\n",
    "dld_group_storage = data_tools.load_data(dataset_path, tdc.value, mode='raw')\n",
    "\n",
    "# Remove the data with tof greater thatn Max TOF or below 0 ns\n",
    "data = data_tools.remove_invalid_data(dld_group_storage, max_tof)\n",
    "print('Total number of Ions:', len(data))"
   ]
  },
  {
   "cell_type": "code",
   "execution_count": 43,
   "metadata": {
    "tags": []
   },
   "outputs": [
    {
     "data": {
      "text/html": [
       "<div>\n",
       "<style scoped>\n",
       "    .dataframe tbody tr th:only-of-type {\n",
       "        vertical-align: middle;\n",
       "    }\n",
       "\n",
       "    .dataframe tbody tr th {\n",
       "        vertical-align: top;\n",
       "    }\n",
       "\n",
       "    .dataframe thead th {\n",
       "        text-align: right;\n",
       "    }\n",
       "</style>\n",
       "<table border=\"1\" class=\"dataframe\">\n",
       "  <thead>\n",
       "    <tr style=\"text-align: right;\">\n",
       "      <th></th>\n",
       "      <th>high_voltage (V)</th>\n",
       "      <th>pulse</th>\n",
       "      <th>start_counter</th>\n",
       "      <th>t (ns)</th>\n",
       "      <th>x_det (cm)</th>\n",
       "      <th>y_det (cm)</th>\n",
       "    </tr>\n",
       "  </thead>\n",
       "  <tbody>\n",
       "    <tr>\n",
       "      <th>0</th>\n",
       "      <td>5300.0</td>\n",
       "      <td>0.0</td>\n",
       "      <td>0</td>\n",
       "      <td>0.000000</td>\n",
       "      <td>0.000000</td>\n",
       "      <td>0.000000</td>\n",
       "    </tr>\n",
       "    <tr>\n",
       "      <th>1</th>\n",
       "      <td>5300.0</td>\n",
       "      <td>0.0</td>\n",
       "      <td>0</td>\n",
       "      <td>6104.077148</td>\n",
       "      <td>-3.165880</td>\n",
       "      <td>-0.214491</td>\n",
       "    </tr>\n",
       "    <tr>\n",
       "      <th>2</th>\n",
       "      <td>5300.0</td>\n",
       "      <td>0.0</td>\n",
       "      <td>0</td>\n",
       "      <td>1758.948486</td>\n",
       "      <td>3.294220</td>\n",
       "      <td>0.566176</td>\n",
       "    </tr>\n",
       "    <tr>\n",
       "      <th>3</th>\n",
       "      <td>5300.0</td>\n",
       "      <td>0.0</td>\n",
       "      <td>0</td>\n",
       "      <td>1567.771362</td>\n",
       "      <td>-2.202440</td>\n",
       "      <td>-2.975180</td>\n",
       "    </tr>\n",
       "    <tr>\n",
       "      <th>4</th>\n",
       "      <td>5300.0</td>\n",
       "      <td>0.0</td>\n",
       "      <td>0</td>\n",
       "      <td>174.828705</td>\n",
       "      <td>-3.511540</td>\n",
       "      <td>0.861455</td>\n",
       "    </tr>\n",
       "    <tr>\n",
       "      <th>...</th>\n",
       "      <td>...</td>\n",
       "      <td>...</td>\n",
       "      <td>...</td>\n",
       "      <td>...</td>\n",
       "      <td>...</td>\n",
       "      <td>...</td>\n",
       "    </tr>\n",
       "    <tr>\n",
       "      <th>160712</th>\n",
       "      <td>5300.0</td>\n",
       "      <td>0.0</td>\n",
       "      <td>0</td>\n",
       "      <td>2536.992432</td>\n",
       "      <td>1.974480</td>\n",
       "      <td>3.047470</td>\n",
       "    </tr>\n",
       "    <tr>\n",
       "      <th>160713</th>\n",
       "      <td>5300.0</td>\n",
       "      <td>0.0</td>\n",
       "      <td>0</td>\n",
       "      <td>2904.909668</td>\n",
       "      <td>-3.127870</td>\n",
       "      <td>-1.704800</td>\n",
       "    </tr>\n",
       "    <tr>\n",
       "      <th>160714</th>\n",
       "      <td>5300.0</td>\n",
       "      <td>0.0</td>\n",
       "      <td>0</td>\n",
       "      <td>1256.020752</td>\n",
       "      <td>-3.252640</td>\n",
       "      <td>0.010828</td>\n",
       "    </tr>\n",
       "    <tr>\n",
       "      <th>160715</th>\n",
       "      <td>5300.0</td>\n",
       "      <td>0.0</td>\n",
       "      <td>0</td>\n",
       "      <td>4292.604492</td>\n",
       "      <td>-0.619795</td>\n",
       "      <td>3.199240</td>\n",
       "    </tr>\n",
       "    <tr>\n",
       "      <th>160716</th>\n",
       "      <td>5300.0</td>\n",
       "      <td>0.0</td>\n",
       "      <td>0</td>\n",
       "      <td>3778.572754</td>\n",
       "      <td>-2.066520</td>\n",
       "      <td>1.214360</td>\n",
       "    </tr>\n",
       "  </tbody>\n",
       "</table>\n",
       "<p>160717 rows × 6 columns</p>\n",
       "</div>"
      ],
      "text/plain": [
       "        high_voltage (V)  pulse  start_counter       t (ns)  x_det (cm)  \\\n",
       "0                 5300.0    0.0              0     0.000000    0.000000   \n",
       "1                 5300.0    0.0              0  6104.077148   -3.165880   \n",
       "2                 5300.0    0.0              0  1758.948486    3.294220   \n",
       "3                 5300.0    0.0              0  1567.771362   -2.202440   \n",
       "4                 5300.0    0.0              0   174.828705   -3.511540   \n",
       "...                  ...    ...            ...          ...         ...   \n",
       "160712            5300.0    0.0              0  2536.992432    1.974480   \n",
       "160713            5300.0    0.0              0  2904.909668   -3.127870   \n",
       "160714            5300.0    0.0              0  1256.020752   -3.252640   \n",
       "160715            5300.0    0.0              0  4292.604492   -0.619795   \n",
       "160716            5300.0    0.0              0  3778.572754   -2.066520   \n",
       "\n",
       "        y_det (cm)  \n",
       "0         0.000000  \n",
       "1        -0.214491  \n",
       "2         0.566176  \n",
       "3        -2.975180  \n",
       "4         0.861455  \n",
       "...            ...  \n",
       "160712    3.047470  \n",
       "160713   -1.704800  \n",
       "160714    0.010828  \n",
       "160715    3.199240  \n",
       "160716    1.214360  \n",
       "\n",
       "[160717 rows x 6 columns]"
      ]
     },
     "execution_count": 43,
     "metadata": {},
     "output_type": "execute_result"
    }
   ],
   "source": [
    "data"
   ]
  },
  {
   "cell_type": "markdown",
   "metadata": {
    "tags": []
   },
   "source": [
    "$\\textbf {Temporal crop}$\n",
    "<br>\n",
    "<br>\n",
    "$\\text {Select the data by drawing a rectangel over the experiment history}$"
   ]
  },
  {
   "cell_type": "code",
   "execution_count": 44,
   "metadata": {
    "pycharm": {
     "name": "#%%\n"
    },
    "tags": []
   },
   "outputs": [
    {
     "name": "stderr",
     "output_type": "stream",
     "text": [
      "C:\\Users\\mehrp\\AppData\\Local\\Temp\\ipykernel_28776\\4188335034.py:1: DeprecationWarning: on_submit is deprecated. Instead, set the .continuous_update attribute to False and observe the value changing with: mywidget.observe(callback, 'value').\n",
      "  interact_manual(data_loadcrop.plot_crop_experiment_history, data=fixed(data), variables=fixed(variables), max_tof=widgets.FloatText(value=max_tof), frac=widgets.FloatText(value=1.0),\n"
     ]
    },
    {
     "data": {
      "application/vnd.jupyter.widget-view+json": {
       "model_id": "94561efcc5a44ebdb82b068bee26015a",
       "version_major": 2,
       "version_minor": 0
      },
      "text/plain": [
       "interactive(children=(FloatText(value=11251.0, description='max_tof'), FloatText(value=1.0, description='frac'…"
      ]
     },
     "metadata": {},
     "output_type": "display_data"
    }
   ],
   "source": [
    "interact_manual(data_loadcrop.plot_crop_experiment_history, data=fixed(data), variables=fixed(variables), max_tof=widgets.FloatText(value=max_tof), frac=widgets.FloatText(value=1.0),\n",
    "                bins=fixed((1200,800)), figure_size=fixed((7,3)),\n",
    "               draw_rect=fixed(False), data_crop=fixed(True), pulse_plot=widgets.Dropdown(options=[('False', False), ('True', True)]), dc_plot=widgets.Dropdown(options=[('True', True), ('False', False)]),\n",
    "                pulse_mode=widgets.Dropdown(options=[('voltage', 'voltage'), ('laser', 'laser')]), save=widgets.Dropdown(options=[('True', True), ('False', False)]),\n",
    "               figname=widgets.Text(value='hist_ini'));\n"
   ]
  },
  {
   "cell_type": "markdown",
   "metadata": {
    "pycharm": {
     "name": "#%% md\n"
    }
   },
   "source": [
    "$\\text{Boundaries of the selected(cropped) part of the graph is printed below}$"
   ]
  },
  {
   "cell_type": "code",
   "execution_count": 45,
   "metadata": {
    "pycharm": {
     "name": "#%%\n"
    },
    "tags": []
   },
   "outputs": [
    {
     "name": "stderr",
     "output_type": "stream",
     "text": [
      "C:\\Users\\mehrp\\AppData\\Local\\Temp\\ipykernel_28776\\2323789099.py:2: DeprecationWarning: on_submit is deprecated. Instead, set the .continuous_update attribute to False and observe the value changing with: mywidget.observe(callback, 'value').\n",
      "  interact_manual(data_loadcrop.plot_crop_experiment_history, data=fixed(data), variables=fixed(variables), max_tof=widgets.FloatText(value=max_tof), frac=widgets.FloatText(value=1.0),\n"
     ]
    },
    {
     "data": {
      "application/vnd.jupyter.widget-view+json": {
       "model_id": "ba2a1978c8d54248923bc974f3cdb9c3",
       "version_major": 2,
       "version_minor": 0
      },
      "text/plain": [
       "interactive(children=(FloatText(value=11251.0, description='max_tof'), FloatText(value=1.0, description='frac'…"
      ]
     },
     "metadata": {},
     "output_type": "display_data"
    }
   ],
   "source": [
    "# Plot and selected experiment history\n",
    "interact_manual(data_loadcrop.plot_crop_experiment_history, data=fixed(data), variables=fixed(variables), max_tof=widgets.FloatText(value=max_tof), frac=widgets.FloatText(value=1.0),\n",
    "                bins=fixed((1200,800)), figure_size=fixed((7,3)),\n",
    "               draw_rect=fixed(True), data_crop=fixed(False), pulse_plot=widgets.Dropdown(options=[('False', False), ('True', True)]), dc_plot=widgets.Dropdown(options=[('True', True), ('False', False)]),\n",
    "                pulse_mode=widgets.Dropdown(options=[('voltage', 'voltage'), ('laser', 'laser')]), save=widgets.Dropdown(options=[('True', True), ('False', False)]),\n",
    "               figname=widgets.Text(value='hist_rect'));\n"
   ]
  },
  {
   "cell_type": "code",
   "execution_count": 46,
   "metadata": {
    "tags": []
   },
   "outputs": [
    {
     "name": "stdout",
     "output_type": "stream",
     "text": [
      "Min Idx: 829.946919623224 Max Idx: 160593.16747528705\n"
     ]
    }
   ],
   "source": [
    "# Crop the dataset\n",
    "print('Min Idx:', variables.selected_x1, 'Max Idx:', variables.selected_x2)\n",
    "data_crop_t = data_loadcrop.crop_dataset(data, variables)"
   ]
  },
  {
   "cell_type": "markdown",
   "metadata": {
    "pycharm": {
     "name": "#%% md\n"
    }
   },
   "source": [
    "$\\textbf {Spacial crop}$\n",
    "<br>\n",
    "<br>\n",
    "$\\text {Select the region of maximum concentration of Ions in the below plotted graph to utlize relevant data}$"
   ]
  },
  {
   "cell_type": "code",
   "execution_count": 47,
   "metadata": {
    "pycharm": {
     "name": "#%%\n"
    },
    "tags": []
   },
   "outputs": [
    {
     "name": "stderr",
     "output_type": "stream",
     "text": [
      "C:\\Users\\mehrp\\AppData\\Local\\Temp\\ipykernel_28776\\1567814332.py:2: DeprecationWarning: on_submit is deprecated. Instead, set the .continuous_update attribute to False and observe the value changing with: mywidget.observe(callback, 'value').\n",
      "  interact_manual(data_loadcrop.plot_crop_fdm, data=fixed(data_crop_t), variables=fixed(variables), frac=widgets.FloatText(value=1.0),\n"
     ]
    },
    {
     "data": {
      "application/vnd.jupyter.widget-view+json": {
       "model_id": "606adeade7db4dbdb45578fdd1fb06a3",
       "version_major": 2,
       "version_minor": 0
      },
      "text/plain": [
       "interactive(children=(FloatText(value=1.0, description='frac'), Dropdown(description='save', options=(('True',…"
      ]
     },
     "metadata": {},
     "output_type": "display_data"
    }
   ],
   "source": [
    "# Plot and select the FDM\n",
    "interact_manual(data_loadcrop.plot_crop_fdm, data=fixed(data_crop_t), variables=fixed(variables), frac=widgets.FloatText(value=1.0),\n",
    "                bins=fixed((256,256)), figure_size=fixed((5,4)),\n",
    "               draw_circle=fixed(False), data_crop=fixed(True), \n",
    "                save=widgets.Dropdown(options=[('True', True), ('False', False)]),\n",
    "               figname=widgets.Text(value='fdm_ini'));"
   ]
  },
  {
   "cell_type": "markdown",
   "metadata": {
    "pycharm": {
     "name": "#%% md\n"
    }
   },
   "source": [
    "$\\text {The region selected in the previous step is displayed below.}$"
   ]
  },
  {
   "cell_type": "code",
   "execution_count": 22,
   "metadata": {
    "pycharm": {
     "name": "#%%\n"
    },
    "tags": []
   },
   "outputs": [
    {
     "name": "stderr",
     "output_type": "stream",
     "text": [
      "C:\\Users\\mehrp\\AppData\\Local\\Temp\\ipykernel_28776\\3314188428.py:2: DeprecationWarning: on_submit is deprecated. Instead, set the .continuous_update attribute to False and observe the value changing with: mywidget.observe(callback, 'value').\n",
      "  interact_manual(data_loadcrop.plot_crop_fdm, data=fixed(data_crop_t), variables=fixed(variables), frac=widgets.FloatText(value=1.0),\n"
     ]
    },
    {
     "data": {
      "application/vnd.jupyter.widget-view+json": {
       "model_id": "c7df0f8ddf474251bea687a2d0b8258a",
       "version_major": 2,
       "version_minor": 0
      },
      "text/plain": [
       "interactive(children=(FloatText(value=1.0, description='frac'), Dropdown(description='save', options=(('True',…"
      ]
     },
     "metadata": {},
     "output_type": "display_data"
    }
   ],
   "source": [
    "# plot selected area in FDM\n",
    "interact_manual(data_loadcrop.plot_crop_fdm, data=fixed(data_crop_t), variables=fixed(variables), frac=widgets.FloatText(value=1.0),\n",
    "                bins=fixed((256,256)), figure_size=fixed((5,4)),\n",
    "                draw_circle=fixed(True), data_crop=fixed(False), \n",
    "                save=widgets.Dropdown(options=[('True', True), ('False', False)]),\n",
    "               figname=widgets.Text(value='fdm_circle'));"
   ]
  },
  {
   "cell_type": "code",
   "execution_count": 48,
   "metadata": {
    "tags": []
   },
   "outputs": [
    {
     "name": "stdout",
     "output_type": "stream",
     "text": [
      "center x: -0.022115361718757942 center y: 0.013014876106655304\n",
      "Radios: 3.748267374727593\n"
     ]
    },
    {
     "name": "stderr",
     "output_type": "stream",
     "text": [
      "c:\\users\\mehrp\\pycharmprojects\\pyccapt\\pyccapt\\calibration\\data_tools\\data_loadcrop.py:313: SettingWithCopyWarning: \n",
      "A value is trying to be set on a copy of a slice from a DataFrame\n",
      "\n",
      "See the caveats in the documentation: https://pandas.pydata.org/pandas-docs/stable/user_guide/indexing.html#returning-a-view-versus-a-copy\n",
      "  def create_pandas_dataframe(data_crop):\n"
     ]
    }
   ],
   "source": [
    "# Crop the dataset\n",
    "print('center x:', variables.selected_x_fdm, 'center y:', variables.selected_y_fdm)\n",
    "print('Radios:', variables.roi_fdm)\n",
    "if variables.roi_fdm > 0:\n",
    "    data_crop_spatial = data_loadcrop.crop_data_after_selection(data_crop_t, variables)\n",
    "else:\n",
    "    print('select the data spacialy from cell below')"
   ]
  },
  {
   "cell_type": "markdown",
   "metadata": {
    "pycharm": {
     "name": "#%% md\n"
    }
   },
   "source": [
    "$\\text {The final selected data after processing is shown below.}$"
   ]
  },
  {
   "cell_type": "code",
   "execution_count": 49,
   "metadata": {
    "pycharm": {
     "name": "#%%\n"
    },
    "tags": []
   },
   "outputs": [
    {
     "name": "stderr",
     "output_type": "stream",
     "text": [
      "C:\\Users\\mehrp\\AppData\\Local\\Temp\\ipykernel_28776\\2530233233.py:2: DeprecationWarning: on_submit is deprecated. Instead, set the .continuous_update attribute to False and observe the value changing with: mywidget.observe(callback, 'value').\n",
      "  interact_manual(data_loadcrop.plot_crop_fdm, data=fixed(data_crop_spatial), variables=fixed(variables), frac=widgets.FloatText(value=1.0),\n"
     ]
    },
    {
     "data": {
      "application/vnd.jupyter.widget-view+json": {
       "model_id": "bddc10c8e59141189cae49ef4b1afba2",
       "version_major": 2,
       "version_minor": 0
      },
      "text/plain": [
       "interactive(children=(FloatText(value=1.0, description='frac'), Dropdown(description='save', options=(('True',…"
      ]
     },
     "metadata": {},
     "output_type": "display_data"
    }
   ],
   "source": [
    "# Crop and plot the dataset\n",
    "interact_manual(data_loadcrop.plot_crop_fdm, data=fixed(data_crop_spatial), variables=fixed(variables), frac=widgets.FloatText(value=1.0),\n",
    "                bins=fixed((256,256)), figure_size=fixed((5,4)),\n",
    "               draw_circle=fixed(False), data_crop=fixed(False), \n",
    "                save=widgets.Dropdown(options=[('True', True), ('False', False)]),\n",
    "               figname=widgets.Text(value='fdm'));"
   ]
  },
  {
   "cell_type": "markdown",
   "metadata": {},
   "source": [
    "$\\text {Calculate pulses since the last event pulse and ions per pulse.}$"
   ]
  },
  {
   "cell_type": "code",
   "execution_count": 50,
   "metadata": {
    "tags": []
   },
   "outputs": [
    {
     "name": "stderr",
     "output_type": "stream",
     "text": [
      "C:\\Users\\mehrp\\AppData\\Local\\Temp\\ipykernel_28776\\949659944.py:4: SettingWithCopyWarning: \n",
      "A value is trying to be set on a copy of a slice from a DataFrame.\n",
      "Try using .loc[row_indexer,col_indexer] = value instead\n",
      "\n",
      "See the caveats in the documentation: https://pandas.pydata.org/pandas-docs/stable/user_guide/indexing.html#returning-a-view-versus-a-copy\n",
      "  data_crop_spatial['pulse_pi'] = pulse_pi.astype(np.uintc)\n",
      "C:\\Users\\mehrp\\AppData\\Local\\Temp\\ipykernel_28776\\949659944.py:5: SettingWithCopyWarning: \n",
      "A value is trying to be set on a copy of a slice from a DataFrame.\n",
      "Try using .loc[row_indexer,col_indexer] = value instead\n",
      "\n",
      "See the caveats in the documentation: https://pandas.pydata.org/pandas-docs/stable/user_guide/indexing.html#returning-a-view-versus-a-copy\n",
      "  data_crop_spatial['ion_pp'] = ion_pp.astype(np.uintc)\n"
     ]
    }
   ],
   "source": [
    "pulse_pi, ion_pp = data_loadcrop.calculate_ppi_and_ipp(data_crop_spatial)\n",
    "\n",
    "# add two calculated array to the croped dataset\n",
    "data_crop_spatial['pulse_pi'] = pulse_pi.astype(np.uintc)\n",
    "data_crop_spatial['ion_pp'] = ion_pp.astype(np.uintc)\n"
   ]
  },
  {
   "cell_type": "markdown",
   "metadata": {
    "pycharm": {
     "name": "#%% md\n"
    }
   },
   "source": [
    "$\\text {The percentage of loss in ROI selection process.}$"
   ]
  },
  {
   "cell_type": "code",
   "execution_count": 51,
   "metadata": {
    "tags": []
   },
   "outputs": [
    {
     "name": "stdout",
     "output_type": "stream",
     "text": [
      "tof Crop Loss 8.28 %\n"
     ]
    }
   ],
   "source": [
    "# save the cropped data\n",
    "print('tof Crop Loss {:.2f} %'.format((100 - (len(data_crop_spatial) / len(data)) * 100)))"
   ]
  },
  {
   "cell_type": "code",
   "execution_count": 52,
   "metadata": {
    "tags": []
   },
   "outputs": [],
   "source": [
    "# exctract needed data from Pandas data frame as an numpy array\n",
    "dld_highVoltage = data_crop_spatial['high_voltage (V)'].to_numpy()\n",
    "dld_pulse = data_crop_spatial['pulse'].to_numpy()\n",
    "dld_t = data_crop_spatial['t (ns)'].to_numpy()\n",
    "dld_x = data_crop_spatial['x_det (cm)'].to_numpy()\n",
    "dld_y = data_crop_spatial['y_det (cm)'].to_numpy()"
   ]
  },
  {
   "cell_type": "code",
   "execution_count": 53,
   "metadata": {
    "tags": []
   },
   "outputs": [
    {
     "name": "stderr",
     "output_type": "stream",
     "text": [
      "C:\\Users\\mehrp\\AppData\\Local\\Temp\\ipykernel_28776\\820851973.py:5: DeprecationWarning: on_submit is deprecated. Instead, set the .continuous_update attribute to False and observe the value changing with: mywidget.observe(callback, 'value').\n",
      "  interact_manual(fine_tune_t_0, variables=fixed(variables), t0_d=widgets.FloatText(value=t0_d.value), bin_size=widgets.FloatText(value=0.1),\n"
     ]
    },
    {
     "data": {
      "application/vnd.jupyter.widget-view+json": {
       "model_id": "4b7c82e930894c8f986e375b2be0395f",
       "version_major": 2,
       "version_minor": 0
      },
      "text/plain": [
       "interactive(children=(FloatText(value=33.0, description='t0_d'), FloatText(value=0.1, description='bin_size'),…"
      ]
     },
     "metadata": {},
     "output_type": "display_data"
    }
   ],
   "source": [
    "def fine_tune_t_0(variables, t0_d, bin_size, mode, prominence, distance, percent, selector, plot, figname, lim, peaks_find_plot):\n",
    "    variables.mc_calib = mc_tools.tof2mc(dld_t, t0_d, dld_highVoltage, dld_x, dld_y, flightPathLength_d.value, dld_pulse, mode=pulse_mode.value)\n",
    "    tools.mc_hist_plot(variables, bin_size, mode, prominence, distance, percent, selector, plot, figname, lim, peaks_find_plot)\n",
    "    \n",
    "interact_manual(fine_tune_t_0, variables=fixed(variables), t0_d=widgets.FloatText(value=t0_d.value), bin_size=widgets.FloatText(value=0.1), \n",
    "                mode=widgets.Dropdown(options=[('mc', 'mc')]), prominence=widgets.IntText(value=50), distance=widgets.IntText(value=100), \n",
    "                lim=widgets.IntText(value=400), percent=widgets.IntText(value=50), selector=fixed('None'), plot=fixed(True), figname=widgets.Text(value='hist'),\n",
    "                peaks_find_plot=fixed(True));"
   ]
  },
  {
   "cell_type": "code",
   "execution_count": 55,
   "metadata": {
    "tags": []
   },
   "outputs": [],
   "source": [
    "data_crop_spatial_back = data_crop_spatial.copy()"
   ]
  },
  {
   "cell_type": "code",
   "execution_count": 56,
   "metadata": {
    "tags": []
   },
   "outputs": [],
   "source": [
    "data_crop_spatial_back.insert(0, 'x (nm)', np.zeros(len(dld_t)))\n",
    "data_crop_spatial_back.insert(1, 'y (nm)', np.zeros(len(dld_t)))\n",
    "data_crop_spatial_back.insert(2,'z (nm)', np.zeros(len(dld_t)))\n",
    "data_crop_spatial_back.insert(3,'mc_c (Da)', np.zeros(len(dld_t)))\n",
    "data_crop_spatial_back.insert(4, 'mc (Da)', variables.mc_calib)\n",
    "data_crop_spatial_back.insert(8,'t_c (ns)', np.zeros(len(dld_t)))"
   ]
  },
  {
   "cell_type": "markdown",
   "metadata": {},
   "source": [
    "$\\text {Remove the data with mc biger than max mc.}$"
   ]
  },
  {
   "cell_type": "code",
   "execution_count": 57,
   "metadata": {
    "tags": []
   },
   "outputs": [
    {
     "name": "stdout",
     "output_type": "stream",
     "text": [
      "The number of data over max_mc: 7428\n",
      "The number of data with having t, x, and y equal to zero is: 6944\n"
     ]
    }
   ],
   "source": [
    "# Remove the data with mc biger than max mc\n",
    "mask = (data_crop_spatial_back['mc (Da)'].to_numpy() > max_mc.value)\n",
    "print('The number of data over max_mc:', len(mask[mask==True]))\n",
    "data_crop_spatial_back.drop(np.where(mask)[0], inplace=True)\n",
    "data_crop_spatial_back.reset_index(inplace=True, drop=True)\n",
    "\n",
    "# Remove the data with x,y,t = 0\n",
    "mask1 = (data_crop_spatial_back['x (nm)'].to_numpy() == 0)\n",
    "mask2 = (data_crop_spatial_back['y (nm)'].to_numpy() == 0)\n",
    "mask3 = (data_crop_spatial_back['t (ns)'].to_numpy() == 0)\n",
    "mask = np.logical_and(mask1, mask2)\n",
    "mask = np.logical_and(mask, mask3)\n",
    "print('The number of data with having t, x, and y equal to zero is:', len(mask[mask==True]))\n",
    "data_crop_spatial_back.drop(np.where(mask)[0], inplace=True)\n",
    "data_crop_spatial_back.reset_index(inplace=True, drop=True)"
   ]
  },
  {
   "cell_type": "code",
   "execution_count": 58,
   "metadata": {
    "tags": []
   },
   "outputs": [
    {
     "data": {
      "text/html": [
       "<div>\n",
       "<style scoped>\n",
       "    .dataframe tbody tr th:only-of-type {\n",
       "        vertical-align: middle;\n",
       "    }\n",
       "\n",
       "    .dataframe tbody tr th {\n",
       "        vertical-align: top;\n",
       "    }\n",
       "\n",
       "    .dataframe thead th {\n",
       "        text-align: right;\n",
       "    }\n",
       "</style>\n",
       "<table border=\"1\" class=\"dataframe\">\n",
       "  <thead>\n",
       "    <tr style=\"text-align: right;\">\n",
       "      <th></th>\n",
       "      <th>x (nm)</th>\n",
       "      <th>y (nm)</th>\n",
       "      <th>z (nm)</th>\n",
       "      <th>mc_c (Da)</th>\n",
       "      <th>mc (Da)</th>\n",
       "      <th>high_voltage (V)</th>\n",
       "      <th>pulse</th>\n",
       "      <th>start_counter</th>\n",
       "      <th>t_c (ns)</th>\n",
       "      <th>t (ns)</th>\n",
       "      <th>x_det (cm)</th>\n",
       "      <th>y_det (cm)</th>\n",
       "      <th>pulse_pi</th>\n",
       "      <th>ion_pp</th>\n",
       "    </tr>\n",
       "  </thead>\n",
       "  <tbody>\n",
       "    <tr>\n",
       "      <th>0</th>\n",
       "      <td>0.0</td>\n",
       "      <td>0.0</td>\n",
       "      <td>0.0</td>\n",
       "      <td>0.0</td>\n",
       "      <td>104.964648</td>\n",
       "      <td>5300.0</td>\n",
       "      <td>0.0</td>\n",
       "      <td>0</td>\n",
       "      <td>0.0</td>\n",
       "      <td>2538.156982</td>\n",
       "      <td>-1.445110</td>\n",
       "      <td>-2.352110</td>\n",
       "      <td>0</td>\n",
       "      <td>0</td>\n",
       "    </tr>\n",
       "    <tr>\n",
       "      <th>1</th>\n",
       "      <td>0.0</td>\n",
       "      <td>0.0</td>\n",
       "      <td>0.0</td>\n",
       "      <td>0.0</td>\n",
       "      <td>19.805717</td>\n",
       "      <td>5300.0</td>\n",
       "      <td>0.0</td>\n",
       "      <td>0</td>\n",
       "      <td>0.0</td>\n",
       "      <td>1117.385864</td>\n",
       "      <td>3.482330</td>\n",
       "      <td>0.369837</td>\n",
       "      <td>0</td>\n",
       "      <td>0</td>\n",
       "    </tr>\n",
       "    <tr>\n",
       "      <th>2</th>\n",
       "      <td>0.0</td>\n",
       "      <td>0.0</td>\n",
       "      <td>0.0</td>\n",
       "      <td>0.0</td>\n",
       "      <td>20.773834</td>\n",
       "      <td>5300.0</td>\n",
       "      <td>0.0</td>\n",
       "      <td>0</td>\n",
       "      <td>0.0</td>\n",
       "      <td>1143.148560</td>\n",
       "      <td>2.394760</td>\n",
       "      <td>-2.384470</td>\n",
       "      <td>0</td>\n",
       "      <td>0</td>\n",
       "    </tr>\n",
       "    <tr>\n",
       "      <th>3</th>\n",
       "      <td>0.0</td>\n",
       "      <td>0.0</td>\n",
       "      <td>0.0</td>\n",
       "      <td>0.0</td>\n",
       "      <td>20.048524</td>\n",
       "      <td>5300.0</td>\n",
       "      <td>0.0</td>\n",
       "      <td>0</td>\n",
       "      <td>0.0</td>\n",
       "      <td>1118.774658</td>\n",
       "      <td>-0.524547</td>\n",
       "      <td>-2.450850</td>\n",
       "      <td>0</td>\n",
       "      <td>0</td>\n",
       "    </tr>\n",
       "    <tr>\n",
       "      <th>4</th>\n",
       "      <td>0.0</td>\n",
       "      <td>0.0</td>\n",
       "      <td>0.0</td>\n",
       "      <td>0.0</td>\n",
       "      <td>19.916877</td>\n",
       "      <td>5300.0</td>\n",
       "      <td>0.0</td>\n",
       "      <td>0</td>\n",
       "      <td>0.0</td>\n",
       "      <td>1118.870850</td>\n",
       "      <td>2.916350</td>\n",
       "      <td>-1.399770</td>\n",
       "      <td>0</td>\n",
       "      <td>0</td>\n",
       "    </tr>\n",
       "    <tr>\n",
       "      <th>...</th>\n",
       "      <td>...</td>\n",
       "      <td>...</td>\n",
       "      <td>...</td>\n",
       "      <td>...</td>\n",
       "      <td>...</td>\n",
       "      <td>...</td>\n",
       "      <td>...</td>\n",
       "      <td>...</td>\n",
       "      <td>...</td>\n",
       "      <td>...</td>\n",
       "      <td>...</td>\n",
       "      <td>...</td>\n",
       "      <td>...</td>\n",
       "      <td>...</td>\n",
       "    </tr>\n",
       "    <tr>\n",
       "      <th>133033</th>\n",
       "      <td>0.0</td>\n",
       "      <td>0.0</td>\n",
       "      <td>0.0</td>\n",
       "      <td>0.0</td>\n",
       "      <td>127.338820</td>\n",
       "      <td>5300.0</td>\n",
       "      <td>0.0</td>\n",
       "      <td>0</td>\n",
       "      <td>0.0</td>\n",
       "      <td>2806.806885</td>\n",
       "      <td>-0.629373</td>\n",
       "      <td>3.616590</td>\n",
       "      <td>0</td>\n",
       "      <td>0</td>\n",
       "    </tr>\n",
       "    <tr>\n",
       "      <th>133034</th>\n",
       "      <td>0.0</td>\n",
       "      <td>0.0</td>\n",
       "      <td>0.0</td>\n",
       "      <td>0.0</td>\n",
       "      <td>96.286327</td>\n",
       "      <td>5300.0</td>\n",
       "      <td>0.0</td>\n",
       "      <td>0</td>\n",
       "      <td>0.0</td>\n",
       "      <td>2443.751221</td>\n",
       "      <td>-0.882558</td>\n",
       "      <td>3.604390</td>\n",
       "      <td>0</td>\n",
       "      <td>0</td>\n",
       "    </tr>\n",
       "    <tr>\n",
       "      <th>133035</th>\n",
       "      <td>0.0</td>\n",
       "      <td>0.0</td>\n",
       "      <td>0.0</td>\n",
       "      <td>0.0</td>\n",
       "      <td>104.046546</td>\n",
       "      <td>5300.0</td>\n",
       "      <td>0.0</td>\n",
       "      <td>0</td>\n",
       "      <td>0.0</td>\n",
       "      <td>2524.839600</td>\n",
       "      <td>-2.299070</td>\n",
       "      <td>-1.102040</td>\n",
       "      <td>0</td>\n",
       "      <td>0</td>\n",
       "    </tr>\n",
       "    <tr>\n",
       "      <th>133036</th>\n",
       "      <td>0.0</td>\n",
       "      <td>0.0</td>\n",
       "      <td>0.0</td>\n",
       "      <td>0.0</td>\n",
       "      <td>93.788365</td>\n",
       "      <td>5300.0</td>\n",
       "      <td>0.0</td>\n",
       "      <td>0</td>\n",
       "      <td>0.0</td>\n",
       "      <td>2403.310791</td>\n",
       "      <td>-0.037916</td>\n",
       "      <td>3.033020</td>\n",
       "      <td>0</td>\n",
       "      <td>0</td>\n",
       "    </tr>\n",
       "    <tr>\n",
       "      <th>133037</th>\n",
       "      <td>0.0</td>\n",
       "      <td>0.0</td>\n",
       "      <td>0.0</td>\n",
       "      <td>0.0</td>\n",
       "      <td>259.725766</td>\n",
       "      <td>5300.0</td>\n",
       "      <td>0.0</td>\n",
       "      <td>0</td>\n",
       "      <td>0.0</td>\n",
       "      <td>4002.481201</td>\n",
       "      <td>-3.386200</td>\n",
       "      <td>-1.627920</td>\n",
       "      <td>0</td>\n",
       "      <td>0</td>\n",
       "    </tr>\n",
       "  </tbody>\n",
       "</table>\n",
       "<p>133038 rows × 14 columns</p>\n",
       "</div>"
      ],
      "text/plain": [
       "        x (nm)  y (nm)  z (nm)  mc_c (Da)     mc (Da)  high_voltage (V)  \\\n",
       "0          0.0     0.0     0.0        0.0  104.964648            5300.0   \n",
       "1          0.0     0.0     0.0        0.0   19.805717            5300.0   \n",
       "2          0.0     0.0     0.0        0.0   20.773834            5300.0   \n",
       "3          0.0     0.0     0.0        0.0   20.048524            5300.0   \n",
       "4          0.0     0.0     0.0        0.0   19.916877            5300.0   \n",
       "...        ...     ...     ...        ...         ...               ...   \n",
       "133033     0.0     0.0     0.0        0.0  127.338820            5300.0   \n",
       "133034     0.0     0.0     0.0        0.0   96.286327            5300.0   \n",
       "133035     0.0     0.0     0.0        0.0  104.046546            5300.0   \n",
       "133036     0.0     0.0     0.0        0.0   93.788365            5300.0   \n",
       "133037     0.0     0.0     0.0        0.0  259.725766            5300.0   \n",
       "\n",
       "        pulse  start_counter  t_c (ns)       t (ns)  x_det (cm)  y_det (cm)  \\\n",
       "0         0.0              0       0.0  2538.156982   -1.445110   -2.352110   \n",
       "1         0.0              0       0.0  1117.385864    3.482330    0.369837   \n",
       "2         0.0              0       0.0  1143.148560    2.394760   -2.384470   \n",
       "3         0.0              0       0.0  1118.774658   -0.524547   -2.450850   \n",
       "4         0.0              0       0.0  1118.870850    2.916350   -1.399770   \n",
       "...       ...            ...       ...          ...         ...         ...   \n",
       "133033    0.0              0       0.0  2806.806885   -0.629373    3.616590   \n",
       "133034    0.0              0       0.0  2443.751221   -0.882558    3.604390   \n",
       "133035    0.0              0       0.0  2524.839600   -2.299070   -1.102040   \n",
       "133036    0.0              0       0.0  2403.310791   -0.037916    3.033020   \n",
       "133037    0.0              0       0.0  4002.481201   -3.386200   -1.627920   \n",
       "\n",
       "        pulse_pi  ion_pp  \n",
       "0              0       0  \n",
       "1              0       0  \n",
       "2              0       0  \n",
       "3              0       0  \n",
       "4              0       0  \n",
       "...          ...     ...  \n",
       "133033         0       0  \n",
       "133034         0       0  \n",
       "133035         0       0  \n",
       "133036         0       0  \n",
       "133037         0       0  \n",
       "\n",
       "[133038 rows x 14 columns]"
      ]
     },
     "execution_count": 58,
     "metadata": {},
     "output_type": "execute_result"
    }
   ],
   "source": [
    "data_crop_spatial_back"
   ]
  },
  {
   "cell_type": "code",
   "execution_count": 59,
   "metadata": {
    "tags": []
   },
   "outputs": [
    {
     "data": {
      "text/plain": [
       "x (nm)              float64\n",
       "y (nm)              float64\n",
       "z (nm)              float64\n",
       "mc_c (Da)           float64\n",
       "mc (Da)             float64\n",
       "high_voltage (V)    float64\n",
       "pulse               float64\n",
       "start_counter        uint32\n",
       "t_c (ns)            float64\n",
       "t (ns)              float64\n",
       "x_det (cm)          float64\n",
       "y_det (cm)          float64\n",
       "pulse_pi             uint32\n",
       "ion_pp               uint32\n",
       "dtype: object"
      ]
     },
     "execution_count": 59,
     "metadata": {},
     "output_type": "execute_result"
    }
   ],
   "source": [
    "data_crop_spatial_back.dtypes"
   ]
  },
  {
   "cell_type": "code",
   "execution_count": 60,
   "metadata": {
    "tags": []
   },
   "outputs": [
    {
     "data": {
      "application/vnd.jupyter.widget-view+json": {
       "model_id": "8f600af974df4655a766fe69296d2fdb",
       "version_major": 2,
       "version_minor": 0
      },
      "text/plain": [
       "interactive(children=(Dropdown(description='hdf', options=(('True', True), ('False', False)), value=True), Dro…"
      ]
     },
     "metadata": {},
     "output_type": "display_data"
    }
   ],
   "source": [
    "interact_manual(data_tools.save_data, data=fixed(data_crop_spatial_back), variables=fixed(variables),\n",
    "                hdf=widgets.Dropdown(options=[('True', True), ('False', False)]),\n",
    "                epos=widgets.Dropdown(options=[('False', False), ('True', True)]), \n",
    "                pos=widgets.Dropdown(options=[('False', False), ('True', True)]), \n",
    "                ato_6v=widgets.Dropdown(options=[('False', False), ('True', True)]), \n",
    "                csv=widgets.Dropdown(options=[('False', False), ('True', True)]));"
   ]
  },
  {
   "cell_type": "code",
   "execution_count": null,
   "metadata": {},
   "outputs": [],
   "source": []
  }
 ],
 "metadata": {
  "kernelspec": {
   "display_name": "Python 3 (ipykernel)",
   "language": "python",
   "name": "python3"
  },
  "language_info": {
   "codemirror_mode": {
    "name": "ipython",
    "version": 3
   },
   "file_extension": ".py",
   "mimetype": "text/x-python",
   "name": "python",
   "nbconvert_exporter": "python",
   "pygments_lexer": "ipython3",
   "version": "3.8.13"
  }
 },
 "nbformat": 4,
 "nbformat_minor": 4
}

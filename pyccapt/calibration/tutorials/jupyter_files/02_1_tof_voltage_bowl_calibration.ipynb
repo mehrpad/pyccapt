{
 "cells": [
  {
   "cell_type": "code",
   "execution_count": 46,
   "metadata": {
    "pycharm": {
     "name": "#%%\n"
    }
   },
   "outputs": [],
   "source": [
    "%matplotlib ipympl\n",
    "import os\n",
    "import os.path as path\n",
    "import logging, sys\n",
    "import numpy as np\n",
    "from scipy.optimize import curve_fit\n",
    "from scipy import interpolate\n",
    "from sklearn.preprocessing import MinMaxScaler\n",
    "import matplotlib.pyplot as plt\n",
    "from ipywidgets import fixed, interact_manual, widgets\n",
    "from ipywidgets import HBox, VBox\n",
    "from IPython.display import clear_output\n",
    "from IPython.display import display\n",
    "from ipywidgets import IntSlider, Output\n",
    "from itertools import product\n",
    "from scipy.signal import find_peaks\n",
    "import math\n",
    "from mpl_toolkits.mplot3d import Axes3D\n",
    "\n",
    "# Local module and scripts\n",
    "from pyccapt.calibration.calibration_tools import tools, variables, calibration\n",
    "from pyccapt.calibration.calibration_tools import widgets as wd\n",
    "from pyccapt.calibration.data_tools import data_tools, data_loadcrop, dataset_path_qt\n",
    "from pyccapt.calibration.mc import mc_tools\n",
    "from pyccapt.calibration.leap_tools import ccapt_tools"
   ]
  },
  {
   "cell_type": "code",
   "execution_count": 47,
   "metadata": {},
   "outputs": [
    {
     "name": "stdout",
     "output_type": "stream",
     "text": [
      "The autoreload extension is already loaded. To reload it, use:\n",
      "  %reload_ext autoreload\n"
     ]
    }
   ],
   "source": [
    "%load_ext autoreload\n",
    "%autoreload 2"
   ]
  },
  {
   "cell_type": "code",
   "execution_count": 48,
   "metadata": {},
   "outputs": [],
   "source": [
    "%reload_ext autoreload"
   ]
  },
  {
   "cell_type": "code",
   "execution_count": 49,
   "metadata": {
    "pycharm": {
     "name": "#%%\n"
    }
   },
   "outputs": [],
   "source": [
    "# Disable showing logging in Jupyter notebook\n",
    "logging.disable(sys.maxsize)"
   ]
  },
  {
   "cell_type": "code",
   "execution_count": 50,
   "metadata": {},
   "outputs": [
    {
     "data": {
      "application/vnd.jupyter.widget-view+json": {
       "model_id": "89e2189c530746c4a0967d75b090f946",
       "version_major": 2,
       "version_minor": 0
      },
      "text/plain": [
       "Button(description='load dataset', style=ButtonStyle())"
      ]
     },
     "execution_count": 50,
     "metadata": {},
     "output_type": "execute_result"
    }
   ],
   "source": [
    "button = widgets.Button(\n",
    "    description='load dataset',\n",
    ")\n",
    "\n",
    "@button.on_click\n",
    "def open_file_on_click(b):\n",
    "    global dataset_path\n",
    "    dataset_path = dataset_path_qt.gui_fname().decode('ASCII')\n",
    "button"
   ]
  },
  {
   "cell_type": "code",
   "execution_count": 51,
   "metadata": {},
   "outputs": [
    {
     "data": {
      "application/vnd.jupyter.widget-view+json": {
       "model_id": "6a5e559e86554f4ca4fcf37985a1138b",
       "version_major": 2,
       "version_minor": 0
      },
      "text/plain": [
       "Dropdown(description='Data mode:', options=('surface_concept', 'roentdec', 'leap_epos', 'leap_pos'), value='su…"
      ]
     },
     "metadata": {},
     "output_type": "display_data"
    },
    {
     "data": {
      "application/vnd.jupyter.widget-view+json": {
       "model_id": "347d1306fad44c34bb44cfd6c6ae3bcc",
       "version_major": 2,
       "version_minor": 0
      },
      "text/plain": [
       "FloatText(value=78.0, description='Detector diameter:')"
      ]
     },
     "metadata": {},
     "output_type": "display_data"
    },
    {
     "data": {
      "application/vnd.jupyter.widget-view+json": {
       "model_id": "715f86c2503d445f81f7edf00647112f",
       "version_major": 2,
       "version_minor": 0
      },
      "text/plain": [
       "Dropdown(description='Pulse mode:', options=('voltage', 'laser'), value='voltage')"
      ]
     },
     "metadata": {},
     "output_type": "display_data"
    },
    {
     "data": {
      "application/vnd.jupyter.widget-view+json": {
       "model_id": "886547e1125a4c888e22bbf2c4e7becc",
       "version_major": 2,
       "version_minor": 0
      },
      "text/plain": [
       "FloatText(value=110.0, description='Flight path length:')"
      ]
     },
     "metadata": {},
     "output_type": "display_data"
    },
    {
     "data": {
      "application/vnd.jupyter.widget-view+json": {
       "model_id": "1466e4fc1a7a4c5db8ee01ff4cd39565",
       "version_major": 2,
       "version_minor": 0
      },
      "text/plain": [
       "FloatText(value=54.0, description='t0:')"
      ]
     },
     "metadata": {},
     "output_type": "display_data"
    }
   ],
   "source": [
    "tdc, pulse_mode, flightPathLength_d, t0_d, max_mc, det_diam = wd.dataset_tdc_selection()\n",
    "display(tdc, det_diam, pulse_mode, flightPathLength_d, t0_d)"
   ]
  },
  {
   "cell_type": "markdown",
   "metadata": {
    "pycharm": {
     "name": "#%% md\n"
    }
   },
   "source": [
    "$$\\textbf{You can specify which dataset to use in below block}$$"
   ]
  },
  {
   "cell_type": "code",
   "execution_count": 57,
   "metadata": {
    "pycharm": {
     "name": "#%%\n"
    }
   },
   "outputs": [
    {
     "name": "stdout",
     "output_type": "stream",
     "text": [
      "The result will be saved on the path: C:/Users/mehrp/PycharmProjects/pyccapt/tests/data/OLO_AL_6_data/tof_calibration/\n"
     ]
    }
   ],
   "source": [
    "dataset_main_path = os.path.dirname(dataset_path)\n",
    "dataset_name_with_extention = os.path.basename(dataset_path)\n",
    "dataset_name = os.path.splitext(dataset_name_with_extention)[0]\n",
    "\n",
    "\n",
    "variables.init()\n",
    "# variables.path = os.path.join(p, 'tests//data')\n",
    "variables.result_path = os.path.dirname(dataset_main_path) +  '/tof_calibration/'\n",
    "if not os.path.isdir(variables.result_path):\n",
    "    os.makedirs(variables.result_path, mode=0o777, exist_ok=True)\n",
    "print('The result will be saved on the path:', variables.result_path)\n",
    "\n",
    "filename = dataset_path\n",
    "\n",
    "head, tail = os.path.split(filename)\n",
    "figname = os.path.splitext(tail)[0]\n",
    "\n",
    "if tdc.value == 'leap_pos' or tdc.value == 'leap_epos':\n",
    "    if tdc.value == 'leap_epos':\n",
    "        data = ccapt_tools.epos_to_ccapt(filename)\n",
    "    else:\n",
    "        print('The file has to be epos. With pos information this tutorial cannot be run')\n",
    "        data = ccapt_tools.pos_to_ccapt(filename)\n",
    "else:\n",
    "    data = data_tools.read_hdf5_through_pandas(filename)\n"
   ]
  },
  {
   "cell_type": "code",
   "execution_count": 58,
   "metadata": {
    "pycharm": {
     "name": "#%%\n"
    }
   },
   "outputs": [
    {
     "data": {
      "text/html": [
       "<div>\n",
       "<style scoped>\n",
       "    .dataframe tbody tr th:only-of-type {\n",
       "        vertical-align: middle;\n",
       "    }\n",
       "\n",
       "    .dataframe tbody tr th {\n",
       "        vertical-align: top;\n",
       "    }\n",
       "\n",
       "    .dataframe thead th {\n",
       "        text-align: right;\n",
       "    }\n",
       "</style>\n",
       "<table border=\"1\" class=\"dataframe\">\n",
       "  <thead>\n",
       "    <tr style=\"text-align: right;\">\n",
       "      <th></th>\n",
       "      <th>x (nm)</th>\n",
       "      <th>y (nm)</th>\n",
       "      <th>z (nm)</th>\n",
       "      <th>mc_c (Da)</th>\n",
       "      <th>high_voltage (V)</th>\n",
       "      <th>mc (Da)</th>\n",
       "      <th>pulse</th>\n",
       "      <th>start_counter</th>\n",
       "      <th>t (ns)</th>\n",
       "      <th>t_c (ns)</th>\n",
       "      <th>x_det (cm)</th>\n",
       "      <th>y_det (cm)</th>\n",
       "      <th>pulse_pi</th>\n",
       "      <th>ion_pp</th>\n",
       "    </tr>\n",
       "  </thead>\n",
       "  <tbody>\n",
       "    <tr>\n",
       "      <th>0</th>\n",
       "      <td>0.0</td>\n",
       "      <td>0.0</td>\n",
       "      <td>0.0</td>\n",
       "      <td>0.0</td>\n",
       "      <td>5274.982422</td>\n",
       "      <td>27.292586</td>\n",
       "      <td>5274.982422</td>\n",
       "      <td>25874</td>\n",
       "      <td>630.764550</td>\n",
       "      <td>0.0</td>\n",
       "      <td>-0.410694</td>\n",
       "      <td>1.665061</td>\n",
       "      <td>0</td>\n",
       "      <td>1</td>\n",
       "    </tr>\n",
       "    <tr>\n",
       "      <th>1</th>\n",
       "      <td>0.0</td>\n",
       "      <td>0.0</td>\n",
       "      <td>0.0</td>\n",
       "      <td>0.0</td>\n",
       "      <td>5274.982422</td>\n",
       "      <td>27.365273</td>\n",
       "      <td>5274.982422</td>\n",
       "      <td>26008</td>\n",
       "      <td>632.835666</td>\n",
       "      <td>0.0</td>\n",
       "      <td>-0.684490</td>\n",
       "      <td>1.741469</td>\n",
       "      <td>134</td>\n",
       "      <td>1</td>\n",
       "    </tr>\n",
       "    <tr>\n",
       "      <th>2</th>\n",
       "      <td>0.0</td>\n",
       "      <td>0.0</td>\n",
       "      <td>0.0</td>\n",
       "      <td>0.0</td>\n",
       "      <td>5274.982422</td>\n",
       "      <td>27.216381</td>\n",
       "      <td>5274.982422</td>\n",
       "      <td>26489</td>\n",
       "      <td>628.652286</td>\n",
       "      <td>0.0</td>\n",
       "      <td>1.063347</td>\n",
       "      <td>1.117469</td>\n",
       "      <td>481</td>\n",
       "      <td>1</td>\n",
       "    </tr>\n",
       "    <tr>\n",
       "      <th>3</th>\n",
       "      <td>0.0</td>\n",
       "      <td>0.0</td>\n",
       "      <td>0.0</td>\n",
       "      <td>0.0</td>\n",
       "      <td>5274.982422</td>\n",
       "      <td>26.427600</td>\n",
       "      <td>5274.982422</td>\n",
       "      <td>26967</td>\n",
       "      <td>638.562096</td>\n",
       "      <td>0.0</td>\n",
       "      <td>1.566367</td>\n",
       "      <td>-2.833469</td>\n",
       "      <td>478</td>\n",
       "      <td>1</td>\n",
       "    </tr>\n",
       "    <tr>\n",
       "      <th>4</th>\n",
       "      <td>0.0</td>\n",
       "      <td>0.0</td>\n",
       "      <td>0.0</td>\n",
       "      <td>0.0</td>\n",
       "      <td>5274.982422</td>\n",
       "      <td>28.036255</td>\n",
       "      <td>5274.982422</td>\n",
       "      <td>27137</td>\n",
       "      <td>659.362410</td>\n",
       "      <td>0.0</td>\n",
       "      <td>-2.250857</td>\n",
       "      <td>2.616980</td>\n",
       "      <td>170</td>\n",
       "      <td>1</td>\n",
       "    </tr>\n",
       "    <tr>\n",
       "      <th>...</th>\n",
       "      <td>...</td>\n",
       "      <td>...</td>\n",
       "      <td>...</td>\n",
       "      <td>...</td>\n",
       "      <td>...</td>\n",
       "      <td>...</td>\n",
       "      <td>...</td>\n",
       "      <td>...</td>\n",
       "      <td>...</td>\n",
       "      <td>...</td>\n",
       "      <td>...</td>\n",
       "      <td>...</td>\n",
       "      <td>...</td>\n",
       "      <td>...</td>\n",
       "    </tr>\n",
       "    <tr>\n",
       "      <th>1821283</th>\n",
       "      <td>0.0</td>\n",
       "      <td>0.0</td>\n",
       "      <td>0.0</td>\n",
       "      <td>0.0</td>\n",
       "      <td>5700.322266</td>\n",
       "      <td>26.611713</td>\n",
       "      <td>5700.322266</td>\n",
       "      <td>42543</td>\n",
       "      <td>620.827308</td>\n",
       "      <td>0.0</td>\n",
       "      <td>2.986286</td>\n",
       "      <td>-1.658694</td>\n",
       "      <td>511</td>\n",
       "      <td>1</td>\n",
       "    </tr>\n",
       "    <tr>\n",
       "      <th>1821284</th>\n",
       "      <td>0.0</td>\n",
       "      <td>0.0</td>\n",
       "      <td>0.0</td>\n",
       "      <td>0.0</td>\n",
       "      <td>5700.322266</td>\n",
       "      <td>27.033313</td>\n",
       "      <td>5700.322266</td>\n",
       "      <td>42810</td>\n",
       "      <td>604.203516</td>\n",
       "      <td>0.0</td>\n",
       "      <td>-0.945551</td>\n",
       "      <td>-1.076082</td>\n",
       "      <td>267</td>\n",
       "      <td>1</td>\n",
       "    </tr>\n",
       "    <tr>\n",
       "      <th>1821285</th>\n",
       "      <td>0.0</td>\n",
       "      <td>0.0</td>\n",
       "      <td>0.0</td>\n",
       "      <td>0.0</td>\n",
       "      <td>5700.322266</td>\n",
       "      <td>26.814166</td>\n",
       "      <td>5700.322266</td>\n",
       "      <td>43621</td>\n",
       "      <td>597.997026</td>\n",
       "      <td>0.0</td>\n",
       "      <td>0.308816</td>\n",
       "      <td>-0.423429</td>\n",
       "      <td>811</td>\n",
       "      <td>1</td>\n",
       "    </tr>\n",
       "    <tr>\n",
       "      <th>1821286</th>\n",
       "      <td>0.0</td>\n",
       "      <td>0.0</td>\n",
       "      <td>0.0</td>\n",
       "      <td>0.0</td>\n",
       "      <td>5700.322266</td>\n",
       "      <td>26.929702</td>\n",
       "      <td>5700.322266</td>\n",
       "      <td>43835</td>\n",
       "      <td>605.410524</td>\n",
       "      <td>0.0</td>\n",
       "      <td>1.610939</td>\n",
       "      <td>-0.687673</td>\n",
       "      <td>214</td>\n",
       "      <td>1</td>\n",
       "    </tr>\n",
       "    <tr>\n",
       "      <th>1821287</th>\n",
       "      <td>0.0</td>\n",
       "      <td>0.0</td>\n",
       "      <td>0.0</td>\n",
       "      <td>0.0</td>\n",
       "      <td>5700.322266</td>\n",
       "      <td>27.456814</td>\n",
       "      <td>5700.322266</td>\n",
       "      <td>44039</td>\n",
       "      <td>626.251986</td>\n",
       "      <td>0.0</td>\n",
       "      <td>-2.887592</td>\n",
       "      <td>-1.311673</td>\n",
       "      <td>204</td>\n",
       "      <td>1</td>\n",
       "    </tr>\n",
       "  </tbody>\n",
       "</table>\n",
       "<p>1821288 rows × 14 columns</p>\n",
       "</div>"
      ],
      "text/plain": [
       "         x (nm)  y (nm)  z (nm)  mc_c (Da)  high_voltage (V)    mc (Da)  \\\n",
       "0           0.0     0.0     0.0        0.0       5274.982422  27.292586   \n",
       "1           0.0     0.0     0.0        0.0       5274.982422  27.365273   \n",
       "2           0.0     0.0     0.0        0.0       5274.982422  27.216381   \n",
       "3           0.0     0.0     0.0        0.0       5274.982422  26.427600   \n",
       "4           0.0     0.0     0.0        0.0       5274.982422  28.036255   \n",
       "...         ...     ...     ...        ...               ...        ...   \n",
       "1821283     0.0     0.0     0.0        0.0       5700.322266  26.611713   \n",
       "1821284     0.0     0.0     0.0        0.0       5700.322266  27.033313   \n",
       "1821285     0.0     0.0     0.0        0.0       5700.322266  26.814166   \n",
       "1821286     0.0     0.0     0.0        0.0       5700.322266  26.929702   \n",
       "1821287     0.0     0.0     0.0        0.0       5700.322266  27.456814   \n",
       "\n",
       "               pulse  start_counter      t (ns)  t_c (ns)  x_det (cm)  \\\n",
       "0        5274.982422          25874  630.764550       0.0   -0.410694   \n",
       "1        5274.982422          26008  632.835666       0.0   -0.684490   \n",
       "2        5274.982422          26489  628.652286       0.0    1.063347   \n",
       "3        5274.982422          26967  638.562096       0.0    1.566367   \n",
       "4        5274.982422          27137  659.362410       0.0   -2.250857   \n",
       "...              ...            ...         ...       ...         ...   \n",
       "1821283  5700.322266          42543  620.827308       0.0    2.986286   \n",
       "1821284  5700.322266          42810  604.203516       0.0   -0.945551   \n",
       "1821285  5700.322266          43621  597.997026       0.0    0.308816   \n",
       "1821286  5700.322266          43835  605.410524       0.0    1.610939   \n",
       "1821287  5700.322266          44039  626.251986       0.0   -2.887592   \n",
       "\n",
       "         y_det (cm)  pulse_pi  ion_pp  \n",
       "0          1.665061         0       1  \n",
       "1          1.741469       134       1  \n",
       "2          1.117469       481       1  \n",
       "3         -2.833469       478       1  \n",
       "4          2.616980       170       1  \n",
       "...             ...       ...     ...  \n",
       "1821283   -1.658694       511       1  \n",
       "1821284   -1.076082       267       1  \n",
       "1821285   -0.423429       811       1  \n",
       "1821286   -0.687673       214       1  \n",
       "1821287   -1.311673       204       1  \n",
       "\n",
       "[1821288 rows x 14 columns]"
      ]
     },
     "execution_count": 58,
     "metadata": {},
     "output_type": "execute_result"
    }
   ],
   "source": [
    "data"
   ]
  },
  {
   "cell_type": "code",
   "execution_count": 59,
   "metadata": {
    "pycharm": {
     "name": "#%%\n"
    }
   },
   "outputs": [],
   "source": [
    "# Remove negative TOF\n",
    "# threshold = 0\n",
    "# dld_t_mask = data['t (ns)'].to_numpy()\n",
    "# dld_t_mask = (dld_t <= threshold)\n",
    "# data.drop(np.where(dld_t_mask)[0], inplace=True)\n",
    "# data.reset_index(inplace=True, drop=True)\n"
   ]
  },
  {
   "cell_type": "code",
   "execution_count": 60,
   "metadata": {},
   "outputs": [
    {
     "data": {
      "application/vnd.jupyter.widget-view+json": {
       "model_id": "757efe2b84924bd296ce4d8cc00a8d32",
       "version_major": 2,
       "version_minor": 0
      },
      "image/png": "[encoded data removed]",
      "text/html": [
       "\n",
       "            <div style=\"display: inline-block;\">\n",
       "                <div class=\"jupyter-widgets widget-label\" style=\"text-align: center;\">\n",
       "                    Figure\n",
       "                </div>\n",
       "                <img src='data:image/png;base64,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' width=433.0708661417323/>\n",
       "            </div>\n",
       "        "
      ],
      "text/plain": [
       "Canvas(toolbar=Toolbar(toolitems=[('Home', 'Reset original view', 'home', 'home'), ('Back', 'Back to previous …"
      ]
     },
     "metadata": {},
     "output_type": "display_data"
    }
   ],
   "source": [
    "data_loadcrop.plot_crop_experimetn_history(data, save_name=variables.result_path + '//ex_hist_' + dataset_name)"
   ]
  },
  {
   "cell_type": "code",
   "execution_count": 62,
   "metadata": {},
   "outputs": [],
   "source": [
    "# exctract needed data from Pandas data frame as an numpy array\n",
    "dld_highVoltage = data['high_voltage (V)'].to_numpy()\n",
    "dld_pulseVoltage = data['pulse'].to_numpy()\n",
    "dld_t = data['t (ns)'].to_numpy()\n",
    "dld_x = data['x_det (cm)'].to_numpy()\n",
    "dld_y = data['y_det (cm)'].to_numpy()\n",
    "# copy dld_t to a have a global version of that\n",
    "variables.dld_t_calib = np.copy(dld_t)\n",
    "variables.dld_t_calib_backup = np.copy(dld_t)"
   ]
  },
  {
   "cell_type": "code",
   "execution_count": null,
   "metadata": {},
   "outputs": [],
   "source": [
    "ion_distance = np.sqrt(flightPathLength_d.value**2 + (dld_x*10)**2 + (dld_y*10)**2)\n",
    "ion_distance = flightPathLength_d.value / ion_distance\n",
    "dld_t = dld_t * ion_distance"
   ]
  },
  {
   "cell_type": "code",
   "execution_count": 63,
   "metadata": {
    "tags": []
   },
   "outputs": [
    {
     "data": {
      "application/vnd.jupyter.widget-view+json": {
       "model_id": "e5459a3432b243739fe9735256dbb7b8",
       "version_major": 2,
       "version_minor": 0
      },
      "image/png": "[encoded data removed]",
      "text/html": [
       "\n",
       "            <div style=\"display: inline-block;\">\n",
       "                <div class=\"jupyter-widgets widget-label\" style=\"text-align: center;\">\n",
       "                    Figure\n",
       "                </div>\n",
       "                <img src='data:image/png;base64,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' width=354.3307086614173/>\n",
       "            </div>\n",
       "        "
      ],
      "text/plain": [
       "Canvas(toolbar=Toolbar(toolitems=[('Home', 'Reset original view', 'home', 'home'), ('Back', 'Back to previous …"
      ]
     },
     "metadata": {},
     "output_type": "display_data"
    },
    {
     "data": {
      "text/plain": [
       "(None, None, None, None)"
      ]
     },
     "execution_count": 63,
     "metadata": {},
     "output_type": "execute_result"
    }
   ],
   "source": [
    "tools.hist_plot(dld_t[dld_t < 10000], 0.1, prominence=200, distance=100, h_line=True, text_loc='right', percent=percent_mrp, plot=True, label='tof', peaks_find=False, fig_name=figname, fig_size=(9/2.54, 6/2.54))"
   ]
  },
  {
   "cell_type": "code",
   "execution_count": 64,
   "metadata": {},
   "outputs": [
    {
     "name": "stdout",
     "output_type": "stream",
     "text": [
      "The peak index for MRP calculation is: 2\n"
     ]
    },
    {
     "data": {
      "application/vnd.jupyter.widget-view+json": {
       "model_id": "df69c9dd7c6843fe8e1b8672d607b26a",
       "version_major": 2,
       "version_minor": 0
      },
      "image/png": "[encoded data removed]",
      "text/html": [
       "\n",
       "            <div style=\"display: inline-block;\">\n",
       "                <div class=\"jupyter-widgets widget-label\" style=\"text-align: center;\">\n",
       "                    Figure\n",
       "                </div>\n",
       "                <img src='data:image/png;base64,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' width=354.3307086614173/>\n",
       "            </div>\n",
       "        "
      ],
      "text/plain": [
       "Canvas(toolbar=Toolbar(toolitems=[('Home', 'Reset original view', 'home', 'home'), ('Back', 'Back to previous …"
      ]
     },
     "metadata": {},
     "output_type": "display_data"
    },
    {
     "name": "stdout",
     "output_type": "stream",
     "text": [
      "Mass resolving power for the highest peak (MRP --> m/m_2-m_1): 26.195077572972938\n",
      "Peaks  0 is at location and height: (457.12, 893.00) peak window sides (50.00%) are: (449.35, 466.07)\n",
      "Peaks  1 is at location and height: (607.79, 4271.00) peak window sides (50.00%) are: (607.69, 607.79)\n",
      "Peaks  2 is at location and height: (617.84, 6822.00) peak window sides (50.00%) are: (606.10, 629.68)\n",
      "Peaks  3 is at location and height: (627.79, 4230.00) peak window sides (50.00%) are: (627.69, 627.79)\n"
     ]
    }
   ],
   "source": [
    "percent_mrp = 50\n",
    "peaks_ini, peaks_y_ini, peak_widths_p_ini, _ = tools.hist_plot(dld_t[dld_t < 2000], 0.1, prominence=200, distance=100, h_line=True, text_loc='right', percent=percent_mrp, plot=True, label='tof', fig_name=figname, fig_size=(9/2.54, 6/2.54))\n",
    "index_max_ini = np.argmax(peaks_y_ini)\n",
    "mrp = (peaks_ini[index_max_ini] / (peak_widths_p_ini[index_max_ini][2] - peak_widths_p_ini[index_max_ini][1]))\n",
    "print('Mass resolving power for the highest peak (MRP --> m/m_2-m_1):', mrp)\n",
    "for i in range(len(peaks_ini)):\n",
    "    print('Peaks ', i, 'is at location and height: ({:.2f}, {:.2f})'.format(peaks_ini[i], peaks_y_ini[i]), 'peak window sides ({:.2f}%) are: ({:.2f}, {:.2f})'.format(percent_mrp, peak_widths_p_ini[i][1], peak_widths_p_ini[i][2]))"
   ]
  },
  {
   "cell_type": "markdown",
   "metadata": {
    "pycharm": {
     "name": "#%% md\n"
    }
   },
   "source": [
    "$$\\textbf{Below plotted graph offers peak selection. You can select relevant peaks you want for computation.}$$"
   ]
  },
  {
   "cell_type": "code",
   "execution_count": 65,
   "metadata": {
    "pycharm": {
     "name": "#%%\n"
    }
   },
   "outputs": [
    {
     "name": "stdout",
     "output_type": "stream",
     "text": [
      "The peak index for MRP calculation is: 2\n"
     ]
    },
    {
     "data": {
      "application/vnd.jupyter.widget-view+json": {
       "model_id": "3fc7a710ad904865b4b3398419d8a153",
       "version_major": 2,
       "version_minor": 0
      },
      "image/png": "[encoded data removed]",
      "text/html": [
       "\n",
       "            <div style=\"display: inline-block;\">\n",
       "                <div class=\"jupyter-widgets widget-label\" style=\"text-align: center;\">\n",
       "                    Figure\n",
       "                </div>\n",
       "                <img src='data:image/png;base64,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' width=354.3307086614173/>\n",
       "            </div>\n",
       "        "
      ],
      "text/plain": [
       "Canvas(toolbar=Toolbar(toolitems=[('Home', 'Reset original view', 'home', 'home'), ('Back', 'Back to previous …"
      ]
     },
     "metadata": {},
     "output_type": "display_data"
    },
    {
     "name": "stdout",
     "output_type": "stream",
     "text": [
      "Mass resolving power for the highest peak (MRP --> m/m_2-m_1): 30.000001650923682\n",
      "Peaks  0 is at location and height: (1.20, 157.00) peak window sides (50.00%) are: (1.10, 1.20)\n",
      "Peaks  1 is at location and height: (13.70, 32195.00) peak window sides (50.00%) are: (13.40, 13.90)\n",
      "Peaks  2 is at location and height: (27.01, 186148.00) peak window sides (50.00%) are: (26.51, 27.41)\n"
     ]
    }
   ],
   "source": [
    "percent_mrp = 50\n",
    "lim = 400\n",
    "mc_seb_ini = mc_tools.tof2mc(dld_t, t0_d.value, dld_highVoltage, dld_pulseVoltage, dld_x, dld_y, flightPathLength_d.value, mode=pulse_mode.value)\n",
    "peaks_ini, peaks_y_ini, peak_widths_p_ini, _ = tools.hist_plot(mc_seb_ini[mc_seb_ini < lim], 0.1, prominence=50, distance=100, h_line=True, text_loc='right', percent=percent_mrp, plot=True, fig_name=figname)\n",
    "index_max_ini = np.argmax(peaks_y_ini)\n",
    "mrp = (peaks_ini[index_max_ini] / (peak_widths_p_ini[index_max_ini][2] - peak_widths_p_ini[index_max_ini][1]))\n",
    "print('Mass resolving power for the highest peak (MRP --> m/m_2-m_1):', mrp)\n",
    "for i in range(len(peaks_ini)):\n",
    "    print('Peaks ', i, 'is at location and height: ({:.2f}, {:.2f})'.format(peaks_ini[i], peaks_y_ini[i]), 'peak window sides ({:.2f}%) are: ({:.2f}, {:.2f})'.format(percent_mrp, peak_widths_p_ini[i][1], peak_widths_p_ini[i][2]))"
   ]
  },
  {
   "cell_type": "code",
   "execution_count": 66,
   "metadata": {},
   "outputs": [],
   "source": [
    "bin_size=widgets.FloatText(value=0.1, description='bin size:')\n",
    "prominence=widgets.IntText(value=100, description='peak prominance:')\n",
    "distance=widgets.IntText(value=500, description='peak distance:')\n",
    "lim_tof=widgets.IntText(value=1500, description='lim tof/mc:')\n",
    "percent=widgets.IntText(value=50, description='percent MRP:')\n",
    "\n",
    "def hist_plot(figname, plot):\n",
    "    \n",
    "    with out:\n",
    "        clear_output(True)\n",
    "    \n",
    "        bin_size_p = bin_size.value\n",
    "        prominence_p = prominence.value\n",
    "        distance_p = distance.value\n",
    "        lim_tof_p = lim_tof.value\n",
    "        percent_p = percent.value\n",
    "        selector = 'rect'\n",
    "        peaks_ini, peaks_y_ini, peak_widths_p_ini, _ = tools.hist_plot(variables.dld_t_calib[variables.dld_t_calib < lim_tof_p], bin_size_p, distance=distance_p, percent=percent_p, prominence=prominence_p, selector=selector, plot=plot, label='tof', fig_name=figname+'calib')\n",
    "        index_max_ini = np.argmax(peaks_y_ini)\n",
    "        variables.max_peak = peaks_ini[index_max_ini]\n",
    "        variables.peak = peaks_ini\n",
    "        mrp = (peaks_ini[index_max_ini] / (peak_widths_p_ini[index_max_ini][2] - peak_widths_p_ini[index_max_ini][1]))\n",
    "        print('Mass resolving power for the highest peak (MRP --> m/m_2-m_1):', mrp)\n",
    "        for i in range(len(peaks_ini)):\n",
    "            print('Peaks ', i, 'is at location and height: ({:.2f}, {:.2f})'.format(peaks_ini[i], peaks_y_ini[i]), 'peak window sides ({:.2f}%) are: ({:.2f}, {:.2f})'.format(percent_p, peak_widths_p_ini[i][1], peak_widths_p_ini[i][2]))"
   ]
  },
  {
   "cell_type": "code",
   "execution_count": 67,
   "metadata": {},
   "outputs": [],
   "source": [
    "sample_size_b = widgets.IntText(value=11, description='sample size:') \n",
    "index_fig_b = widgets.IntText(value=1, description='fig index:')\n",
    "plot_b = widgets.Dropdown(\n",
    "    options=[('False', False), ('True', True)],\n",
    "    description='plot fig:'\n",
    ")\n",
    "\n",
    "save_b = widgets.Dropdown(\n",
    "    options=[('False', False), ('True', True)],\n",
    "    description='save fig:'\n",
    ")\n",
    "def bowl_correction(dld_x, dld_y, dld_highVoltage, figname=figname):\n",
    "    with out:\n",
    "        sample_size_p = sample_size_b.value\n",
    "        index_fig_p = index_fig_b.value\n",
    "        plot_p = plot_b.value\n",
    "        save_p = save_b.value\n",
    "\n",
    "        calibration.bowl_correction_main(dld_x, dld_y, dld_highVoltage, det_diam.value, sample_size=sample_size_p, calibration_mode='tof',\n",
    "                                        index_fig=index_fig_p, plot=plot_p, save=save_p)\n"
   ]
  },
  {
   "cell_type": "code",
   "execution_count": 68,
   "metadata": {},
   "outputs": [],
   "source": [
    "sample_size_v =widgets.IntText(value=100, description='sample size:') \n",
    "index_fig_v = widgets.IntText(value=1, description='fig index:')\n",
    "plot_v = widgets.Dropdown(\n",
    "    options=[('False', False), ('True', True)],\n",
    "    description='plot fig:'\n",
    ")\n",
    "save_v = widgets.Dropdown(\n",
    "    options=[('False', False), ('True', True)],\n",
    "    description='save fig:'\n",
    ")\n",
    "mode_v = widgets.Dropdown(\n",
    "    options=[('ion_seq', 'ion_seq'), ('voltage', 'voltage')],\n",
    "    description='sample mode:'\n",
    ")\n",
    "peak_mode = widgets.Dropdown(\n",
    "    options=[('peak', 'peak'), ('mean', 'mean'), ('median', 'median')],\n",
    "    description='peak mode:'\n",
    ")\n",
    "def vol_correction(dld_highVoltage, figname):\n",
    "    with out:\n",
    "        sample_size_p = sample_size_v.value\n",
    "        index_fig_p = index_fig_v.value\n",
    "        plot_p = plot_v.value\n",
    "        save_p = save_v.value\n",
    "        mode_p = mode_v.value\n",
    "        peak_mode_p = peak_mode.value\n",
    "        calibration.voltage_corr_main(dld_highVoltage, sample_size=sample_size_p, calibration_mode='tof',\n",
    "                                        index_fig=index_fig_p, plot=plot_p, save=save_p, mode=mode_p, peak_mode=peak_mode_p)\n"
   ]
  },
  {
   "cell_type": "code",
   "execution_count": 70,
   "metadata": {},
   "outputs": [
    {
     "data": {
      "application/vnd.jupyter.widget-view+json": {
       "model_id": "eca167e9b42345428a310a2d94add52b",
       "version_major": 2,
       "version_minor": 0
      },
      "text/plain": [
       "VBox(children=(Tab(children=(VBox(children=(FloatText(value=0.1, description='bin size:'), IntText(value=100, …"
      ]
     },
     "metadata": {},
     "output_type": "display_data"
    },
    {
     "data": {
      "application/vnd.jupyter.widget-view+json": {
       "model_id": "0085cb7592ce4de3894d3d747efc97ab",
       "version_major": 2,
       "version_minor": 0
      },
      "text/plain": [
       "Output()"
      ]
     },
     "metadata": {},
     "output_type": "display_data"
    }
   ],
   "source": [
    "pb_bowl = widgets.HTML(\n",
    "    value=\" \",\n",
    "    placeholder='Status:',\n",
    "    description='Status:',\n",
    ")\n",
    "pb_vol = widgets.HTML(\n",
    "    value=\" \",\n",
    "    placeholder='Status:',\n",
    "    description='Status:',\n",
    ")\n",
    "plot_button = widgets.Button(\n",
    "    description='plot hist',\n",
    ")\n",
    "plot_fdm_button = widgets.Button(\n",
    "    description='plot FDM',\n",
    ")\n",
    "reset_button = widgets.Button(\n",
    "    description='reset back correction',\n",
    ")\n",
    "save_button = widgets.Button(\n",
    "    description='save correction',\n",
    ")\n",
    "bowl_button = widgets.Button(\n",
    "    description='bowl correction',\n",
    ")\n",
    "vol_button = widgets.Button(\n",
    "    description='voltage correction',\n",
    ")\n",
    "bin_fdm = widgets.IntText(value=256, description='bin FDM:')\n",
    "    \n",
    "@plot_button.on_click\n",
    "def plot_on_click(b, figname=figname, plot=True):\n",
    "    hist_plot(figname, plot)\n",
    "\n",
    "@plot_fdm_button.on_click\n",
    "def plot_fdm_on_click(b, save=True):\n",
    "    with out:\n",
    "        clear_output(True)\n",
    "        if variables.selected_x1 == 0 or variables.selected_x2 == 0:\n",
    "            print('Please first select a peak')\n",
    "        else:\n",
    "            print('Selected tof are: (%s, %s)' %(variables.selected_x1, variables.selected_x2)) \n",
    "            mask_temporal = np.logical_and((variables.dld_t_calib > variables.selected_x1),\n",
    "                                           (variables.dld_t_calib < variables.selected_x2))\n",
    "            x = dld_x[mask_temporal]\n",
    "            y = dld_y[mask_temporal]\n",
    "            bin_fdm_p = bin_fdm.value\n",
    "            bins = [bin_fdm_p, bin_fdm_p]\n",
    "\n",
    "            calibration.plot_FDM(x, y, save, bins)\n",
    "    \n",
    "@reset_button.on_click\n",
    "def reset_on_click(b, figname=figname, plot=True):\n",
    "    variables.dld_t_calib = np.copy(variables.dld_t_calib_backup)\n",
    "@save_button.on_click\n",
    "def save_on_click(b, figname=figname, plot=True):\n",
    "    variables.dld_t_calib_backup = np.copy(variables.dld_t_calib)\n",
    "    \n",
    "@bowl_button.on_click\n",
    "def bowl_on_click(b, dld_x=dld_x, dld_y=dld_y, dld_highVoltage=dld_highVoltage, figname=figname):\n",
    "    with out:\n",
    "        clear_output(True)\n",
    "        pb_bowl.value = \"<b>Starting...</b>\"\n",
    "        if variables.selected_x1 == 0 or variables.selected_x2 == 0:\n",
    "            print('Please first select a peak')\n",
    "        else:\n",
    "            print('Selected tof are: (%s, %s)' %(variables.selected_x1, variables.selected_x2))\n",
    "            bowl_correction(dld_x, dld_y, dld_highVoltage, figname)  \n",
    "        pb_bowl.value = \"<b>Flished</b>\"\n",
    "@vol_button.on_click\n",
    "def vol_on_click(b, dld_highVoltage=dld_highVoltage, figname=figname):\n",
    "    with out:\n",
    "        clear_output(True)\n",
    "        pb_vol.value = \"<b>Starting...</b>\"\n",
    "        if variables.selected_x1 == 0 or variables.selected_x2 == 0:\n",
    "            print('Please first select a peak')\n",
    "        else:\n",
    "            print('Selected tof are: (%s, %s)' %(variables.selected_x1, variables.selected_x2))\n",
    "            vol_correction(dld_highVoltage, figname)\n",
    "        pb_vol.value = \"<b>Flished</b>\"\n",
    "    \n",
    "\n",
    "\n",
    "tab1 = VBox(children=[bin_size, prominence, distance, lim_tof, percent, bin_fdm])\n",
    "tab2 = VBox(children=[HBox(children=[sample_size_b, index_fig_b, plot_b, save_b]), bowl_button, pb_bowl])\n",
    "tab3 = VBox(children=[HBox(children=[sample_size_v, index_fig_v, mode_v, peak_mode, plot_v, save_v]), vol_button, pb_vol])\n",
    "\n",
    "tab = widgets.Tab(children=[tab1, tab2, tab3])\n",
    "tab.set_title(0, 'tof/mc plot')\n",
    "tab.set_title(1, 'bowl correction')\n",
    "tab.set_title(2, 'voltage correction')\n",
    "\n",
    "\n",
    "\n",
    "display(VBox(children=[tab,HBox(children=[plot_button, plot_fdm_button, save_button, reset_button])]))\n",
    "out = Output()\n",
    "display(out)"
   ]
  },
  {
   "cell_type": "code",
   "execution_count": null,
   "metadata": {},
   "outputs": [],
   "source": [
    "# fitresult = [ 1.59856266e+00,  5.68765920e-09, -1.41281563e-04]\n",
    "# f_v = calibration.voltage_corr(data['high_voltage (V)'].to_numpy(), *fitresult)\n",
    "# variables.dld_t_calib = variables.dld_t_calib * (1 / f_v)"
   ]
  },
  {
   "cell_type": "code",
   "execution_count": 22,
   "metadata": {},
   "outputs": [],
   "source": [
    "# parameters = [ 9.88684464e-01, -2.17639093e-04 , 2.36038428e-04,  3.44156992e-05, -2.62895576e-06,  3.28072030e-05]\n",
    "# f_bowl = calibration.bowl_corr_fit([data['x_det (cm)'].to_numpy()* 10, data['y_det (cm)'].to_numpy()* 10], *parameters)\n",
    "# variables.dld_t_calib = variables.dld_t_calib * 1 / f_bowl"
   ]
  },
  {
   "cell_type": "code",
   "execution_count": 71,
   "metadata": {},
   "outputs": [],
   "source": [
    "variables.dld_t_calib_backup = np.copy(variables.dld_t_calib)"
   ]
  },
  {
   "cell_type": "code",
   "execution_count": 72,
   "metadata": {
    "tags": []
   },
   "outputs": [],
   "source": [
    "# np.save(\"t_171_c.npy\", variables.dld_t_calib)"
   ]
  },
  {
   "cell_type": "code",
   "execution_count": 73,
   "metadata": {},
   "outputs": [
    {
     "data": {
      "application/vnd.jupyter.widget-view+json": {
       "model_id": "8eee0e336ae64060b30ef19be6395342",
       "version_major": 2,
       "version_minor": 0
      },
      "text/plain": [
       "interactive(children=(FloatText(value=0.1, description='bin_size'), IntText(value=50, description='prominence'…"
      ]
     },
     "metadata": {},
     "output_type": "display_data"
    }
   ],
   "source": [
    "def tof_his(bin_size, prominence, distance, percent, selector, plot, figname, lim_dld_t):\n",
    "    variables.peaks_idx = []\n",
    "    peaks_ini, peaks_y_ini, peak_widths_p_ini, _ = tools.hist_plot(variables.dld_t_calib[variables.dld_t_calib < lim_dld_t], bin_size, distance=distance, percent=percent, prominence=prominence, selector=selector, peaks_find_plot=True, plot=plot, label='tof', fig_name=figname)\n",
    "    index_max_ini = np.argmax(peaks_y_ini)\n",
    "    variables.max_peak = peaks_ini[index_max_ini]\n",
    "    variables.peak = peaks_ini\n",
    "    mrp = (peaks_ini[index_max_ini] / (peak_widths_p_ini[index_max_ini][2] - peak_widths_p_ini[index_max_ini][1]))\n",
    "    print('Mass resolving power for the highest peak (MRP --> m/m_2-m_1):', mrp)\n",
    "    for i in range(len(peaks_ini)):\n",
    "                   print('Peaks ', i+1, 'is at location and height: ({:.2f}, {:.2f})'.format(peaks_ini[i], peaks_y_ini[i]), 'peak window sides ({:.2f}%) are: ({:.2f}, {:.2f})'.format(percent, peak_widths_p_ini[i][1], peak_widths_p_ini[i][2]))\n",
    "interact_manual(tof_his, bin_size=widgets.FloatText(value=0.1)\n",
    "               ,prominence=widgets.IntText(value=50), distance=widgets.IntText(value=100), lim_dld_t=widgets.IntText(value=1500)\n",
    "               ,percent=widgets.IntText(value=50), selector=fixed('peak'), plot=fixed(True), figname=fixed(figname));\n"
   ]
  },
  {
   "cell_type": "code",
   "execution_count": 74,
   "metadata": {
    "pycharm": {
     "name": "#%%\n"
    }
   },
   "outputs": [
    {
     "data": {
      "application/vnd.jupyter.widget-view+json": {
       "model_id": "495853464e1d4e5daf0f5d461cef0b24",
       "version_major": 2,
       "version_minor": 0
      },
      "text/plain": [
       "Dropdown(description='Elements', options=(('H (1) (99.98)', 'H(1)[1.01]'), ('H (2) (0.01)', 'H(2)[2.01]'), ('H…"
      ]
     },
     "metadata": {},
     "output_type": "display_data"
    },
    {
     "data": {
      "application/vnd.jupyter.widget-view+json": {
       "model_id": "370334ef10d04ba7b910143888213ed3",
       "version_major": 2,
       "version_minor": 0
      },
      "text/plain": [
       "Dropdown(description='Charge', options=((1, 1), (2, 2), (3, 3), (4, 4)), value=1)"
      ]
     },
     "metadata": {},
     "output_type": "display_data"
    },
    {
     "data": {
      "application/vnd.jupyter.widget-view+json": {
       "model_id": "0b033abd4a674c068645652aec0c9f2c",
       "version_major": 2,
       "version_minor": 0
      },
      "text/plain": [
       "Button(description='ADD', icon='check', style=ButtonStyle(), tooltip='ADD')"
      ]
     },
     "metadata": {},
     "output_type": "display_data"
    },
    {
     "data": {
      "application/vnd.jupyter.widget-view+json": {
       "model_id": "aa4be803830849568a921fc51d4c861b",
       "version_major": 2,
       "version_minor": 0
      },
      "text/plain": [
       "Button(description='DELETE', icon='check', style=ButtonStyle(), tooltip='DELETE')"
      ]
     },
     "metadata": {},
     "output_type": "display_data"
    },
    {
     "data": {
      "application/vnd.jupyter.widget-view+json": {
       "model_id": "4d49069af0204d408ce12fc25b833b0c",
       "version_major": 2,
       "version_minor": 0
      },
      "text/plain": [
       "Button(description='RESET', icon='check', style=ButtonStyle(), tooltip='RESET')"
      ]
     },
     "metadata": {},
     "output_type": "display_data"
    },
    {
     "data": {
      "application/vnd.jupyter.widget-view+json": {
       "model_id": "cbd13218e7404cdc8a56ee2eff071702",
       "version_major": 2,
       "version_minor": 0
      },
      "text/plain": [
       "Output()"
      ]
     },
     "metadata": {},
     "output_type": "display_data"
    }
   ],
   "source": [
    "isotopeTableFile = '../../../files/isotopeTable.h5'\n",
    "dataframe = data_tools.read_hdf5_through_pandas(isotopeTableFile)\n",
    "elementsList = dataframe['element']\n",
    "elementIsotopeList = dataframe['isotope']\n",
    "elementMassList =  dataframe['weight']\n",
    "abundanceList = dataframe['abundance']\n",
    "\n",
    "elements = list(zip(elementsList, elementIsotopeList, elementMassList, abundanceList))\n",
    "dropdownList = []\n",
    "for element in elements:\n",
    "    tupleElement = (\"{} ({}) ({:.2f})\".format(element[0], element[1], element[3]), \"{}({})[{}]\".format(element[0], element[1], element[2]))\n",
    "    dropdownList.append(tupleElement)\n",
    "\n",
    "chargeList = [(1,1,),(2,2,),(3,3,),(4,4,)]\n",
    "dropdown = wd.dropdownWidget(dropdownList,\"Elements\")\n",
    "dropdown.observe(wd.on_change)\n",
    "\n",
    "\n",
    "chargeDropdown = wd.dropdownWidget(chargeList,\"Charge\")\n",
    "chargeDropdown.observe(wd.on_change_charge)\n",
    "\n",
    "wd.compute_element_isotope_values_according_to_selected_charge()\n",
    "\n",
    "buttonAdd = wd.buttonWidget(\"ADD\")\n",
    "buttonDelete = wd.buttonWidget(\"DELETE\")\n",
    "buttonReset = wd.buttonWidget(\"RESET\")\n",
    "\n",
    "display(dropdown, chargeDropdown, buttonAdd, buttonDelete, buttonReset)\n",
    "\n",
    "def buttonAdd_f(b,):\n",
    "    with out:\n",
    "        clear_output(True)\n",
    "        wd.onClickAdd(b,)\n",
    "        display()\n",
    "def buttonDelete_f(b,):\n",
    "    with out:\n",
    "        clear_output(True)\n",
    "        wd.onClickDelete(b,)\n",
    "        display()\n",
    "def buttonResett_f(b,):\n",
    "    with out:\n",
    "        clear_output(True)\n",
    "        wd.onClickReset(b,)\n",
    "        display()\n",
    "\n",
    "listMaterial = buttonAdd.on_click(buttonAdd_f)\n",
    "buttonDelete.on_click(buttonDelete_f)\n",
    "buttonReset.on_click(buttonResett_f)\n",
    "# listMaterial = buttonAdd.on_click(wd.onClickAdd)\n",
    "# buttonDelete.on_click(wd.onClickDelete)\n",
    "# buttonReset.on_click(wd.onClickReset)\n",
    "out = Output()\n",
    "display(out)"
   ]
  },
  {
   "cell_type": "code",
   "execution_count": 79,
   "metadata": {
    "pycharm": {
     "name": "#%%\n"
    }
   },
   "outputs": [
    {
     "name": "stdout",
     "output_type": "stream",
     "text": [
      "highest peak in the tof histogram: [ 76.67188025 450.38973708 610.17338977]\n",
      "highest peak in the ideal mc histogram: [ 1.01 13.49 26.98]\n"
     ]
    }
   ],
   "source": [
    "peaks_chos = []\n",
    "for i in range(len(variables.peaks_idx)):\n",
    "    peaks_chos.append(variables.peak[variables.peaks_idx[i]])\n",
    "peaks_chos = np.array(peaks_chos)\n",
    "listMaterial = np.array(variables.listMaterial)\n",
    "print('highest peak in the tof histogram:', peaks_chos)\n",
    "print('highest peak in the ideal mc histogram:', listMaterial)"
   ]
  },
  {
   "cell_type": "code",
   "execution_count": 80,
   "metadata": {
    "pycharm": {
     "name": "#%%\n"
    }
   },
   "outputs": [],
   "source": [
    "def parametric(t, t0, c, d):\n",
    "\n",
    "    # return c * ((t - t0)**2) + d\n",
    "    return c * ((t - t0)**2) + d*t\n",
    "\n",
    "def parametric_calib(t, mc_ideal):\n",
    "    \n",
    "    fitresult, _ = curve_fit(parametric, t, mc_ideal, maxfev=2000)\n",
    "    return fitresult\n",
    "\n",
    "fitresult = parametric_calib(peaks_chos, variables.listMaterial)\n",
    "\n",
    "\n",
    "mc_p_1 = parametric(variables.dld_t_calib, *fitresult)"
   ]
  },
  {
   "cell_type": "code",
   "execution_count": 81,
   "metadata": {},
   "outputs": [
    {
     "name": "stdout",
     "output_type": "stream",
     "text": [
      "The t0 is: 135.36677992870028 ns\n"
     ]
    }
   ],
   "source": [
    "print('The t0 is:', fitresult[0], 'ns')"
   ]
  },
  {
   "cell_type": "code",
   "execution_count": 82,
   "metadata": {
    "pycharm": {
     "name": "#%%\n"
    }
   },
   "outputs": [
    {
     "name": "stdout",
     "output_type": "stream",
     "text": [
      "The peak index for MRP calculation is: 2\n"
     ]
    },
    {
     "data": {
      "application/vnd.jupyter.widget-view+json": {
       "model_id": "ec6c3c7da3e14400beaed8a27aec56df",
       "version_major": 2,
       "version_minor": 0
      },
      "image/png": "[encoded data removed]",
      "text/html": [
       "\n",
       "            <div style=\"display: inline-block;\">\n",
       "                <div class=\"jupyter-widgets widget-label\" style=\"text-align: center;\">\n",
       "                    Figure\n",
       "                </div>\n",
       "                <img src='data:image/png;base64,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' width=354.3307086614173/>\n",
       "            </div>\n",
       "        "
      ],
      "text/plain": [
       "Canvas(toolbar=Toolbar(toolitems=[('Home', 'Reset original view', 'home', 'home'), ('Back', 'Back to previous …"
      ]
     },
     "metadata": {},
     "output_type": "display_data"
    },
    {
     "name": "stdout",
     "output_type": "stream",
     "text": [
      "Mass resolving power for the highest peak (MRP --> m/m_2-m_1): 273.0781362272771\n",
      "Peaks  0 is at location and height: (1.59, 162.00) peak window sides (half-maximum) are: (1.49, 1.59)\n",
      "Peaks  1 is at location and height: (13.44, 84510.00) peak window sides (half-maximum) are: (13.34, 13.54)\n",
      "Peaks  2 is at location and height: (26.97, 659672.00) peak window sides (half-maximum) are: (26.88, 26.97)\n"
     ]
    }
   ],
   "source": [
    "percent_mrp = 50\n",
    "# background = {'calculation': True, 'plot_no_back': True, 'plot': False, 'mode': 'fabc', 'patch': False, 'lam': 1e4, 'num_std': 5.0}\n",
    "background={'calculation': False}\n",
    "peak_p, peaks_y_p, peak_widths_p, _ = tools.hist_plot(mc_p_1[mc_p_1 < 75], 0.1, prominence=40, distance=20, text_loc='right', percent=percent_mrp, plot=True, fig_name='mc2_p_1'+figname, background=background)\n",
    "index_max_ini = np.argmax(peaks_y_p)\n",
    "mrp = (peak_p[index_max_ini] / (peak_widths_p[index_max_ini][2] - peak_widths_p[index_max_ini][1]))\n",
    "print('Mass resolving power for the highest peak (MRP --> m/m_2-m_1):', mrp)\n",
    "for i in range(len(peak_p)):\n",
    "    print('Peaks ', i, 'is at location and height: ({:.2f}, {:.2f})'.format(peak_p[i], peaks_y_p[i]), 'peak window sides (half-maximum) are: ({:.2f}, {:.2f})'.format(peak_widths_p[i][1], peak_widths_p[i][2]))"
   ]
  },
  {
   "cell_type": "code",
   "execution_count": 83,
   "metadata": {
    "tags": []
   },
   "outputs": [],
   "source": [
    "# np.sqrt(((1.0 * 1.66E-27 * (110 * 1E-3) ** 2)) / (2 * 1.6E-19  * 3000)) * 1E9 # in ns"
   ]
  },
  {
   "cell_type": "code",
   "execution_count": 84,
   "metadata": {
    "tags": []
   },
   "outputs": [
    {
     "data": {
      "text/html": [
       "<div>\n",
       "<style scoped>\n",
       "    .dataframe tbody tr th:only-of-type {\n",
       "        vertical-align: middle;\n",
       "    }\n",
       "\n",
       "    .dataframe tbody tr th {\n",
       "        vertical-align: top;\n",
       "    }\n",
       "\n",
       "    .dataframe thead th {\n",
       "        text-align: right;\n",
       "    }\n",
       "</style>\n",
       "<table border=\"1\" class=\"dataframe\">\n",
       "  <thead>\n",
       "    <tr style=\"text-align: right;\">\n",
       "      <th></th>\n",
       "      <th>x (nm)</th>\n",
       "      <th>y (nm)</th>\n",
       "      <th>z (nm)</th>\n",
       "      <th>mc_c (Da)</th>\n",
       "      <th>high_voltage (V)</th>\n",
       "      <th>mc (Da)</th>\n",
       "      <th>pulse</th>\n",
       "      <th>start_counter</th>\n",
       "      <th>t (ns)</th>\n",
       "      <th>t_c (ns)</th>\n",
       "      <th>x_det (cm)</th>\n",
       "      <th>y_det (cm)</th>\n",
       "      <th>pulse_pi</th>\n",
       "      <th>ion_pp</th>\n",
       "    </tr>\n",
       "  </thead>\n",
       "  <tbody>\n",
       "    <tr>\n",
       "      <th>0</th>\n",
       "      <td>0.0</td>\n",
       "      <td>0.0</td>\n",
       "      <td>0.0</td>\n",
       "      <td>0.0</td>\n",
       "      <td>5274.982422</td>\n",
       "      <td>27.292586</td>\n",
       "      <td>5274.982422</td>\n",
       "      <td>25874</td>\n",
       "      <td>630.764550</td>\n",
       "      <td>0.0</td>\n",
       "      <td>-0.410694</td>\n",
       "      <td>1.665061</td>\n",
       "      <td>0</td>\n",
       "      <td>1</td>\n",
       "    </tr>\n",
       "    <tr>\n",
       "      <th>1</th>\n",
       "      <td>0.0</td>\n",
       "      <td>0.0</td>\n",
       "      <td>0.0</td>\n",
       "      <td>0.0</td>\n",
       "      <td>5274.982422</td>\n",
       "      <td>27.365273</td>\n",
       "      <td>5274.982422</td>\n",
       "      <td>26008</td>\n",
       "      <td>632.835666</td>\n",
       "      <td>0.0</td>\n",
       "      <td>-0.684490</td>\n",
       "      <td>1.741469</td>\n",
       "      <td>134</td>\n",
       "      <td>1</td>\n",
       "    </tr>\n",
       "    <tr>\n",
       "      <th>2</th>\n",
       "      <td>0.0</td>\n",
       "      <td>0.0</td>\n",
       "      <td>0.0</td>\n",
       "      <td>0.0</td>\n",
       "      <td>5274.982422</td>\n",
       "      <td>27.216381</td>\n",
       "      <td>5274.982422</td>\n",
       "      <td>26489</td>\n",
       "      <td>628.652286</td>\n",
       "      <td>0.0</td>\n",
       "      <td>1.063347</td>\n",
       "      <td>1.117469</td>\n",
       "      <td>481</td>\n",
       "      <td>1</td>\n",
       "    </tr>\n",
       "    <tr>\n",
       "      <th>3</th>\n",
       "      <td>0.0</td>\n",
       "      <td>0.0</td>\n",
       "      <td>0.0</td>\n",
       "      <td>0.0</td>\n",
       "      <td>5274.982422</td>\n",
       "      <td>26.427600</td>\n",
       "      <td>5274.982422</td>\n",
       "      <td>26967</td>\n",
       "      <td>638.562096</td>\n",
       "      <td>0.0</td>\n",
       "      <td>1.566367</td>\n",
       "      <td>-2.833469</td>\n",
       "      <td>478</td>\n",
       "      <td>1</td>\n",
       "    </tr>\n",
       "    <tr>\n",
       "      <th>4</th>\n",
       "      <td>0.0</td>\n",
       "      <td>0.0</td>\n",
       "      <td>0.0</td>\n",
       "      <td>0.0</td>\n",
       "      <td>5274.982422</td>\n",
       "      <td>28.036255</td>\n",
       "      <td>5274.982422</td>\n",
       "      <td>27137</td>\n",
       "      <td>659.362410</td>\n",
       "      <td>0.0</td>\n",
       "      <td>-2.250857</td>\n",
       "      <td>2.616980</td>\n",
       "      <td>170</td>\n",
       "      <td>1</td>\n",
       "    </tr>\n",
       "    <tr>\n",
       "      <th>...</th>\n",
       "      <td>...</td>\n",
       "      <td>...</td>\n",
       "      <td>...</td>\n",
       "      <td>...</td>\n",
       "      <td>...</td>\n",
       "      <td>...</td>\n",
       "      <td>...</td>\n",
       "      <td>...</td>\n",
       "      <td>...</td>\n",
       "      <td>...</td>\n",
       "      <td>...</td>\n",
       "      <td>...</td>\n",
       "      <td>...</td>\n",
       "      <td>...</td>\n",
       "    </tr>\n",
       "    <tr>\n",
       "      <th>1821283</th>\n",
       "      <td>0.0</td>\n",
       "      <td>0.0</td>\n",
       "      <td>0.0</td>\n",
       "      <td>0.0</td>\n",
       "      <td>5700.322266</td>\n",
       "      <td>26.611713</td>\n",
       "      <td>5700.322266</td>\n",
       "      <td>42543</td>\n",
       "      <td>620.827308</td>\n",
       "      <td>0.0</td>\n",
       "      <td>2.986286</td>\n",
       "      <td>-1.658694</td>\n",
       "      <td>511</td>\n",
       "      <td>1</td>\n",
       "    </tr>\n",
       "    <tr>\n",
       "      <th>1821284</th>\n",
       "      <td>0.0</td>\n",
       "      <td>0.0</td>\n",
       "      <td>0.0</td>\n",
       "      <td>0.0</td>\n",
       "      <td>5700.322266</td>\n",
       "      <td>27.033313</td>\n",
       "      <td>5700.322266</td>\n",
       "      <td>42810</td>\n",
       "      <td>604.203516</td>\n",
       "      <td>0.0</td>\n",
       "      <td>-0.945551</td>\n",
       "      <td>-1.076082</td>\n",
       "      <td>267</td>\n",
       "      <td>1</td>\n",
       "    </tr>\n",
       "    <tr>\n",
       "      <th>1821285</th>\n",
       "      <td>0.0</td>\n",
       "      <td>0.0</td>\n",
       "      <td>0.0</td>\n",
       "      <td>0.0</td>\n",
       "      <td>5700.322266</td>\n",
       "      <td>26.814166</td>\n",
       "      <td>5700.322266</td>\n",
       "      <td>43621</td>\n",
       "      <td>597.997026</td>\n",
       "      <td>0.0</td>\n",
       "      <td>0.308816</td>\n",
       "      <td>-0.423429</td>\n",
       "      <td>811</td>\n",
       "      <td>1</td>\n",
       "    </tr>\n",
       "    <tr>\n",
       "      <th>1821286</th>\n",
       "      <td>0.0</td>\n",
       "      <td>0.0</td>\n",
       "      <td>0.0</td>\n",
       "      <td>0.0</td>\n",
       "      <td>5700.322266</td>\n",
       "      <td>26.929702</td>\n",
       "      <td>5700.322266</td>\n",
       "      <td>43835</td>\n",
       "      <td>605.410524</td>\n",
       "      <td>0.0</td>\n",
       "      <td>1.610939</td>\n",
       "      <td>-0.687673</td>\n",
       "      <td>214</td>\n",
       "      <td>1</td>\n",
       "    </tr>\n",
       "    <tr>\n",
       "      <th>1821287</th>\n",
       "      <td>0.0</td>\n",
       "      <td>0.0</td>\n",
       "      <td>0.0</td>\n",
       "      <td>0.0</td>\n",
       "      <td>5700.322266</td>\n",
       "      <td>27.456814</td>\n",
       "      <td>5700.322266</td>\n",
       "      <td>44039</td>\n",
       "      <td>626.251986</td>\n",
       "      <td>0.0</td>\n",
       "      <td>-2.887592</td>\n",
       "      <td>-1.311673</td>\n",
       "      <td>204</td>\n",
       "      <td>1</td>\n",
       "    </tr>\n",
       "  </tbody>\n",
       "</table>\n",
       "<p>1821288 rows × 14 columns</p>\n",
       "</div>"
      ],
      "text/plain": [
       "         x (nm)  y (nm)  z (nm)  mc_c (Da)  high_voltage (V)    mc (Da)  \\\n",
       "0           0.0     0.0     0.0        0.0       5274.982422  27.292586   \n",
       "1           0.0     0.0     0.0        0.0       5274.982422  27.365273   \n",
       "2           0.0     0.0     0.0        0.0       5274.982422  27.216381   \n",
       "3           0.0     0.0     0.0        0.0       5274.982422  26.427600   \n",
       "4           0.0     0.0     0.0        0.0       5274.982422  28.036255   \n",
       "...         ...     ...     ...        ...               ...        ...   \n",
       "1821283     0.0     0.0     0.0        0.0       5700.322266  26.611713   \n",
       "1821284     0.0     0.0     0.0        0.0       5700.322266  27.033313   \n",
       "1821285     0.0     0.0     0.0        0.0       5700.322266  26.814166   \n",
       "1821286     0.0     0.0     0.0        0.0       5700.322266  26.929702   \n",
       "1821287     0.0     0.0     0.0        0.0       5700.322266  27.456814   \n",
       "\n",
       "               pulse  start_counter      t (ns)  t_c (ns)  x_det (cm)  \\\n",
       "0        5274.982422          25874  630.764550       0.0   -0.410694   \n",
       "1        5274.982422          26008  632.835666       0.0   -0.684490   \n",
       "2        5274.982422          26489  628.652286       0.0    1.063347   \n",
       "3        5274.982422          26967  638.562096       0.0    1.566367   \n",
       "4        5274.982422          27137  659.362410       0.0   -2.250857   \n",
       "...              ...            ...         ...       ...         ...   \n",
       "1821283  5700.322266          42543  620.827308       0.0    2.986286   \n",
       "1821284  5700.322266          42810  604.203516       0.0   -0.945551   \n",
       "1821285  5700.322266          43621  597.997026       0.0    0.308816   \n",
       "1821286  5700.322266          43835  605.410524       0.0    1.610939   \n",
       "1821287  5700.322266          44039  626.251986       0.0   -2.887592   \n",
       "\n",
       "         y_det (cm)  pulse_pi  ion_pp  \n",
       "0          1.665061         0       1  \n",
       "1          1.741469       134       1  \n",
       "2          1.117469       481       1  \n",
       "3         -2.833469       478       1  \n",
       "4          2.616980       170       1  \n",
       "...             ...       ...     ...  \n",
       "1821283   -1.658694       511       1  \n",
       "1821284   -1.076082       267       1  \n",
       "1821285   -0.423429       811       1  \n",
       "1821286   -0.687673       214       1  \n",
       "1821287   -1.311673       204       1  \n",
       "\n",
       "[1821288 rows x 14 columns]"
      ]
     },
     "execution_count": 84,
     "metadata": {},
     "output_type": "execute_result"
    }
   ],
   "source": [
    "data"
   ]
  },
  {
   "cell_type": "code",
   "execution_count": 88,
   "metadata": {},
   "outputs": [],
   "source": [
    "data_c = data.copy(deep = True)\n",
    "data_c['t_c (ns)'] = variables.dld_t_calib\n",
    "data_c['mc_c (Da)'] = mc_p_1"
   ]
  },
  {
   "cell_type": "code",
   "execution_count": 89,
   "metadata": {},
   "outputs": [],
   "source": [
    "# Remove negative mc\n",
    "# threshold = 0\n",
    "# mc_t = data_c['mc_c (Da)'].to_numpy()\n",
    "# mc_t_mask = (mc_t <= threshold)\n",
    "# print('The number of ions with negative mc are:', len(mc_t_mask[mc_t_mask==True]))\n",
    "# data_c.drop(np.where(mc_t_mask)[0], inplace=True)\n",
    "# data_c.reset_index(inplace=True, drop=True)"
   ]
  },
  {
   "cell_type": "code",
   "execution_count": 97,
   "metadata": {},
   "outputs": [],
   "source": [
    "\n",
    "cc = data_c['mc (Da)'].to_numpy()\n",
    "del data_c['mc (Da)']\n",
    "data_c.insert(3, 'mc (Da)', cc)"
   ]
  },
  {
   "cell_type": "code",
   "execution_count": 98,
   "metadata": {},
   "outputs": [
    {
     "data": {
      "text/html": [
       "<div>\n",
       "<style scoped>\n",
       "    .dataframe tbody tr th:only-of-type {\n",
       "        vertical-align: middle;\n",
       "    }\n",
       "\n",
       "    .dataframe tbody tr th {\n",
       "        vertical-align: top;\n",
       "    }\n",
       "\n",
       "    .dataframe thead th {\n",
       "        text-align: right;\n",
       "    }\n",
       "</style>\n",
       "<table border=\"1\" class=\"dataframe\">\n",
       "  <thead>\n",
       "    <tr style=\"text-align: right;\">\n",
       "      <th></th>\n",
       "      <th>x (nm)</th>\n",
       "      <th>y (nm)</th>\n",
       "      <th>z (nm)</th>\n",
       "      <th>mc (Da)</th>\n",
       "      <th>mc_c (Da)</th>\n",
       "      <th>high_voltage (V)</th>\n",
       "      <th>pulse</th>\n",
       "      <th>start_counter</th>\n",
       "      <th>t (ns)</th>\n",
       "      <th>t_c (ns)</th>\n",
       "      <th>x_det (cm)</th>\n",
       "      <th>y_det (cm)</th>\n",
       "      <th>pulse_pi</th>\n",
       "      <th>ion_pp</th>\n",
       "    </tr>\n",
       "  </thead>\n",
       "  <tbody>\n",
       "    <tr>\n",
       "      <th>0</th>\n",
       "      <td>0.0</td>\n",
       "      <td>0.0</td>\n",
       "      <td>0.0</td>\n",
       "      <td>27.292586</td>\n",
       "      <td>27.032576</td>\n",
       "      <td>5274.982422</td>\n",
       "      <td>5274.982422</td>\n",
       "      <td>25874</td>\n",
       "      <td>630.764550</td>\n",
       "      <td>610.700406</td>\n",
       "      <td>-0.410694</td>\n",
       "      <td>1.665061</td>\n",
       "      <td>0</td>\n",
       "      <td>1</td>\n",
       "    </tr>\n",
       "    <tr>\n",
       "      <th>1</th>\n",
       "      <td>0.0</td>\n",
       "      <td>0.0</td>\n",
       "      <td>0.0</td>\n",
       "      <td>27.365273</td>\n",
       "      <td>27.059216</td>\n",
       "      <td>5274.982422</td>\n",
       "      <td>5274.982422</td>\n",
       "      <td>26008</td>\n",
       "      <td>632.835666</td>\n",
       "      <td>610.967247</td>\n",
       "      <td>-0.684490</td>\n",
       "      <td>1.741469</td>\n",
       "      <td>134</td>\n",
       "      <td>1</td>\n",
       "    </tr>\n",
       "    <tr>\n",
       "      <th>2</th>\n",
       "      <td>0.0</td>\n",
       "      <td>0.0</td>\n",
       "      <td>0.0</td>\n",
       "      <td>27.216381</td>\n",
       "      <td>27.244142</td>\n",
       "      <td>5274.982422</td>\n",
       "      <td>5274.982422</td>\n",
       "      <td>26489</td>\n",
       "      <td>628.652286</td>\n",
       "      <td>612.815775</td>\n",
       "      <td>1.063347</td>\n",
       "      <td>1.117469</td>\n",
       "      <td>481</td>\n",
       "      <td>1</td>\n",
       "    </tr>\n",
       "    <tr>\n",
       "      <th>3</th>\n",
       "      <td>0.0</td>\n",
       "      <td>0.0</td>\n",
       "      <td>0.0</td>\n",
       "      <td>26.427600</td>\n",
       "      <td>27.045492</td>\n",
       "      <td>5274.982422</td>\n",
       "      <td>5274.982422</td>\n",
       "      <td>26967</td>\n",
       "      <td>638.562096</td>\n",
       "      <td>610.829795</td>\n",
       "      <td>1.566367</td>\n",
       "      <td>-2.833469</td>\n",
       "      <td>478</td>\n",
       "      <td>1</td>\n",
       "    </tr>\n",
       "    <tr>\n",
       "      <th>4</th>\n",
       "      <td>0.0</td>\n",
       "      <td>0.0</td>\n",
       "      <td>0.0</td>\n",
       "      <td>28.036255</td>\n",
       "      <td>27.428237</td>\n",
       "      <td>5274.982422</td>\n",
       "      <td>5274.982422</td>\n",
       "      <td>27137</td>\n",
       "      <td>659.362410</td>\n",
       "      <td>614.649538</td>\n",
       "      <td>-2.250857</td>\n",
       "      <td>2.616980</td>\n",
       "      <td>170</td>\n",
       "      <td>1</td>\n",
       "    </tr>\n",
       "    <tr>\n",
       "      <th>...</th>\n",
       "      <td>...</td>\n",
       "      <td>...</td>\n",
       "      <td>...</td>\n",
       "      <td>...</td>\n",
       "      <td>...</td>\n",
       "      <td>...</td>\n",
       "      <td>...</td>\n",
       "      <td>...</td>\n",
       "      <td>...</td>\n",
       "      <td>...</td>\n",
       "      <td>...</td>\n",
       "      <td>...</td>\n",
       "      <td>...</td>\n",
       "      <td>...</td>\n",
       "    </tr>\n",
       "    <tr>\n",
       "      <th>1821283</th>\n",
       "      <td>0.0</td>\n",
       "      <td>0.0</td>\n",
       "      <td>0.0</td>\n",
       "      <td>26.611713</td>\n",
       "      <td>27.121847</td>\n",
       "      <td>5700.322266</td>\n",
       "      <td>5700.322266</td>\n",
       "      <td>42543</td>\n",
       "      <td>620.827308</td>\n",
       "      <td>611.594039</td>\n",
       "      <td>2.986286</td>\n",
       "      <td>-1.658694</td>\n",
       "      <td>511</td>\n",
       "      <td>1</td>\n",
       "    </tr>\n",
       "    <tr>\n",
       "      <th>1821284</th>\n",
       "      <td>0.0</td>\n",
       "      <td>0.0</td>\n",
       "      <td>0.0</td>\n",
       "      <td>27.033313</td>\n",
       "      <td>26.997628</td>\n",
       "      <td>5700.322266</td>\n",
       "      <td>5700.322266</td>\n",
       "      <td>42810</td>\n",
       "      <td>604.203516</td>\n",
       "      <td>610.350149</td>\n",
       "      <td>-0.945551</td>\n",
       "      <td>-1.076082</td>\n",
       "      <td>267</td>\n",
       "      <td>1</td>\n",
       "    </tr>\n",
       "    <tr>\n",
       "      <th>1821285</th>\n",
       "      <td>0.0</td>\n",
       "      <td>0.0</td>\n",
       "      <td>0.0</td>\n",
       "      <td>26.814166</td>\n",
       "      <td>26.802954</td>\n",
       "      <td>5700.322266</td>\n",
       "      <td>5700.322266</td>\n",
       "      <td>43621</td>\n",
       "      <td>597.997026</td>\n",
       "      <td>608.394761</td>\n",
       "      <td>0.308816</td>\n",
       "      <td>-0.423429</td>\n",
       "      <td>811</td>\n",
       "      <td>1</td>\n",
       "    </tr>\n",
       "    <tr>\n",
       "      <th>1821286</th>\n",
       "      <td>0.0</td>\n",
       "      <td>0.0</td>\n",
       "      <td>0.0</td>\n",
       "      <td>26.929702</td>\n",
       "      <td>27.148377</td>\n",
       "      <td>5700.322266</td>\n",
       "      <td>5700.322266</td>\n",
       "      <td>43835</td>\n",
       "      <td>605.410524</td>\n",
       "      <td>611.859317</td>\n",
       "      <td>1.610939</td>\n",
       "      <td>-0.687673</td>\n",
       "      <td>214</td>\n",
       "      <td>1</td>\n",
       "    </tr>\n",
       "    <tr>\n",
       "      <th>1821287</th>\n",
       "      <td>0.0</td>\n",
       "      <td>0.0</td>\n",
       "      <td>0.0</td>\n",
       "      <td>27.456814</td>\n",
       "      <td>27.311398</td>\n",
       "      <td>5700.322266</td>\n",
       "      <td>5700.322266</td>\n",
       "      <td>44039</td>\n",
       "      <td>626.251986</td>\n",
       "      <td>613.486450</td>\n",
       "      <td>-2.887592</td>\n",
       "      <td>-1.311673</td>\n",
       "      <td>204</td>\n",
       "      <td>1</td>\n",
       "    </tr>\n",
       "  </tbody>\n",
       "</table>\n",
       "<p>1821288 rows × 14 columns</p>\n",
       "</div>"
      ],
      "text/plain": [
       "         x (nm)  y (nm)  z (nm)    mc (Da)  mc_c (Da)  high_voltage (V)  \\\n",
       "0           0.0     0.0     0.0  27.292586  27.032576       5274.982422   \n",
       "1           0.0     0.0     0.0  27.365273  27.059216       5274.982422   \n",
       "2           0.0     0.0     0.0  27.216381  27.244142       5274.982422   \n",
       "3           0.0     0.0     0.0  26.427600  27.045492       5274.982422   \n",
       "4           0.0     0.0     0.0  28.036255  27.428237       5274.982422   \n",
       "...         ...     ...     ...        ...        ...               ...   \n",
       "1821283     0.0     0.0     0.0  26.611713  27.121847       5700.322266   \n",
       "1821284     0.0     0.0     0.0  27.033313  26.997628       5700.322266   \n",
       "1821285     0.0     0.0     0.0  26.814166  26.802954       5700.322266   \n",
       "1821286     0.0     0.0     0.0  26.929702  27.148377       5700.322266   \n",
       "1821287     0.0     0.0     0.0  27.456814  27.311398       5700.322266   \n",
       "\n",
       "               pulse  start_counter      t (ns)    t_c (ns)  x_det (cm)  \\\n",
       "0        5274.982422          25874  630.764550  610.700406   -0.410694   \n",
       "1        5274.982422          26008  632.835666  610.967247   -0.684490   \n",
       "2        5274.982422          26489  628.652286  612.815775    1.063347   \n",
       "3        5274.982422          26967  638.562096  610.829795    1.566367   \n",
       "4        5274.982422          27137  659.362410  614.649538   -2.250857   \n",
       "...              ...            ...         ...         ...         ...   \n",
       "1821283  5700.322266          42543  620.827308  611.594039    2.986286   \n",
       "1821284  5700.322266          42810  604.203516  610.350149   -0.945551   \n",
       "1821285  5700.322266          43621  597.997026  608.394761    0.308816   \n",
       "1821286  5700.322266          43835  605.410524  611.859317    1.610939   \n",
       "1821287  5700.322266          44039  626.251986  613.486450   -2.887592   \n",
       "\n",
       "         y_det (cm)  pulse_pi  ion_pp  \n",
       "0          1.665061         0       1  \n",
       "1          1.741469       134       1  \n",
       "2          1.117469       481       1  \n",
       "3         -2.833469       478       1  \n",
       "4          2.616980       170       1  \n",
       "...             ...       ...     ...  \n",
       "1821283   -1.658694       511       1  \n",
       "1821284   -1.076082       267       1  \n",
       "1821285   -0.423429       811       1  \n",
       "1821286   -0.687673       214       1  \n",
       "1821287   -1.311673       204       1  \n",
       "\n",
       "[1821288 rows x 14 columns]"
      ]
     },
     "execution_count": 98,
     "metadata": {},
     "output_type": "execute_result"
    }
   ],
   "source": [
    "data_c"
   ]
  },
  {
   "cell_type": "code",
   "execution_count": 99,
   "metadata": {},
   "outputs": [
    {
     "name": "stdout",
     "output_type": "stream",
     "text": [
      "The peak index for MRP calculation is: 2\n"
     ]
    },
    {
     "data": {
      "application/vnd.jupyter.widget-view+json": {
       "model_id": "7cc0dae8c5264d028ccd74b59729d592",
       "version_major": 2,
       "version_minor": 0
      },
      "image/png": "[encoded data removed]",
      "text/html": [
       "\n",
       "            <div style=\"display: inline-block;\">\n",
       "                <div class=\"jupyter-widgets widget-label\" style=\"text-align: center;\">\n",
       "                    Figure\n",
       "                </div>\n",
       "                <img src='data:image/png;base64,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' width=354.3307086614173/>\n",
       "            </div>\n",
       "        "
      ],
      "text/plain": [
       "Canvas(toolbar=Toolbar(toolitems=[('Home', 'Reset original view', 'home', 'home'), ('Back', 'Back to previous …"
      ]
     },
     "metadata": {},
     "output_type": "display_data"
    }
   ],
   "source": [
    "# cc = data_c['mc_c (Da)'].to_numpy()\n",
    "# cc[cc <= 0] = 0\n",
    "peaks_ini, peaks_y_ini, peak_widths_p_ini, _ = tools.hist_plot(mc_p_1[mc_p_1 < 100], 0.1, distance=10, percent=50, prominence=50, selector='peak', peaks_find_plot=True, plot=True, label='mc')\n",
    "# peaks_ini, peaks_y_ini, peak_widths_p_ini, _ = tools.hist_plot(cc[cc < 100], 0.1, distance=10, percent=50, prominence=50, selector='peak', peaks_find_plot=True, plot=True, label='mc')"
   ]
  },
  {
   "cell_type": "code",
   "execution_count": 100,
   "metadata": {},
   "outputs": [],
   "source": [
    "# save the new data\n",
    "name_save_file = variables.result_path + '//' + dataset_name + '.h5'\n",
    "data_tools.store_df_to_hdf(name_save_file, data_c, 'df')"
   ]
  },
  {
   "cell_type": "code",
   "execution_count": 63,
   "metadata": {},
   "outputs": [],
   "source": [
    "# save data as epos file\n",
    "epos = ccapt_tools.ccapt_to_epos(data_c, pulse_mode=pulse_mode.value, path=variables.result_path, name=dataset_name + '.epos')\n",
    "pos = ccapt_tools.ccapt_to_pos(data_c, path=variables.result_path, name=dataset_name + '.POS')"
   ]
  },
  {
   "cell_type": "code",
   "execution_count": null,
   "metadata": {},
   "outputs": [],
   "source": [
    "# save data in csv format\n",
    "data_tools.store_df_to_csv(data_c, variables.result_path + dataset_name + '.csv')"
   ]
  },
  {
   "cell_type": "code",
   "execution_count": 64,
   "metadata": {
    "tags": []
   },
   "outputs": [
    {
     "data": {
      "text/plain": [
       "'D:/pyccapt/tests/data/tof_calibration/'"
      ]
     },
     "execution_count": 64,
     "metadata": {},
     "output_type": "execute_result"
    }
   ],
   "source": [
    "variables.result_path"
   ]
  },
  {
   "cell_type": "code",
   "execution_count": null,
   "metadata": {},
   "outputs": [],
   "source": []
  }
 ],
 "metadata": {
  "kernelspec": {
   "display_name": "Python 3 (ipykernel)",
   "language": "python",
   "name": "python3"
  },
  "language_info": {
   "codemirror_mode": {
    "name": "ipython",
    "version": 3
   },
   "file_extension": ".py",
   "mimetype": "text/x-python",
   "name": "python",
   "nbconvert_exporter": "python",
   "pygments_lexer": "ipython3",
   "version": "3.8.13"
  }
 },
 "nbformat": 4,
 "nbformat_minor": 4
}

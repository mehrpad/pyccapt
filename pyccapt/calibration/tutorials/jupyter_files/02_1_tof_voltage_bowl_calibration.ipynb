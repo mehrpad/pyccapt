{
 "cells": [
  {
   "cell_type": "code",
   "execution_count": 24,
   "metadata": {
    "pycharm": {
     "name": "#%%\n"
    },
    "tags": []
   },
   "outputs": [
    {
     "name": "stdout",
     "output_type": "stream",
     "text": [
      "The autoreload extension is already loaded. To reload it, use:\n",
      "  %reload_ext autoreload\n"
     ]
    }
   ],
   "source": [
    "# Activate intractive functionality of matplotlib\n",
    "%matplotlib ipympl\n",
    "# Activate auto reload \n",
    "%load_ext autoreload\n",
    "%autoreload 2\n",
    "%reload_ext autoreload\n",
    "# import libraries\n",
    "import os\n",
    "import numpy as np\n",
    "from scipy.optimize import curve_fit\n",
    "from ipywidgets import fixed, interact_manual, widgets\n",
    "from ipywidgets import HBox, VBox\n",
    "from IPython.display import clear_output\n",
    "from IPython.display import display\n",
    "from ipywidgets import Output\n",
    "\n",
    "\n",
    "# Local module and scripts\n",
    "from pyccapt.calibration.calibration_tools import tools, share_variables, calibration\n",
    "from pyccapt.calibration.calibration_tools import widgets as wd\n",
    "from pyccapt.calibration.data_tools import data_tools, data_loadcrop, dataset_path_qt\n",
    "from pyccapt.calibration.mc import mc_tools, tof_tools\n",
    "from pyccapt.calibration.leap_tools import ccapt_tools"
   ]
  },
  {
   "cell_type": "code",
   "execution_count": 25,
   "metadata": {
    "pycharm": {
     "name": "#%%\n"
    },
    "tags": []
   },
   "outputs": [],
   "source": [
    "# Disable showing logging in Jupyter notebook\n",
    "# logging.disable(sys.maxsize)"
   ]
  },
  {
   "cell_type": "code",
   "execution_count": 3,
   "metadata": {
    "tags": []
   },
   "outputs": [
    {
     "data": {
      "application/vnd.jupyter.widget-view+json": {
       "model_id": "843c2cc03e9e4a86b020b87ae7e991e8",
       "version_major": 2,
       "version_minor": 0
      },
      "text/plain": [
       "Button(description='load dataset', style=ButtonStyle())"
      ]
     },
     "execution_count": 3,
     "metadata": {},
     "output_type": "execute_result"
    }
   ],
   "source": [
    "button = widgets.Button(\n",
    "    description='load dataset',\n",
    ")\n",
    "@button.on_click\n",
    "def open_file_on_click(b):\n",
    "    \"\"\"\n",
    "    Event handler for button click event.\n",
    "    Prompts the user to select a dataset file and stores the selected file path in the global variable dataset_path.\n",
    "    \"\"\"\n",
    "    global dataset_path\n",
    "    dataset_path = dataset_path_qt.gui_fname().decode('ASCII')\n",
    "button"
   ]
  },
  {
   "cell_type": "code",
   "execution_count": 30,
   "metadata": {
    "tags": []
   },
   "outputs": [
    {
     "data": {
      "application/vnd.jupyter.widget-view+json": {
       "model_id": "ca88008af8894b12b979612a8f0d3178",
       "version_major": 2,
       "version_minor": 0
      },
      "text/plain": [
       "Dropdown(description='Data mode:', options=('surface_concept', 'roentdec', 'leap_epos', 'leap_pos', 'ato_v6'),…"
      ]
     },
     "metadata": {},
     "output_type": "display_data"
    },
    {
     "data": {
      "application/vnd.jupyter.widget-view+json": {
       "model_id": "2693fabbf6134c788b8dcadebead25c4",
       "version_major": 2,
       "version_minor": 0
      },
      "text/plain": [
       "FloatText(value=78.0, description='Detector diameter:')"
      ]
     },
     "metadata": {},
     "output_type": "display_data"
    },
    {
     "data": {
      "application/vnd.jupyter.widget-view+json": {
       "model_id": "ada2c8244c88499baf00ff0faefc0beb",
       "version_major": 2,
       "version_minor": 0
      },
      "text/plain": [
       "Dropdown(description='Pulse mode:', options=('voltage', 'laser'), value='voltage')"
      ]
     },
     "metadata": {},
     "output_type": "display_data"
    },
    {
     "data": {
      "application/vnd.jupyter.widget-view+json": {
       "model_id": "02faa3e13fa144dd8f2d9674a0da0e40",
       "version_major": 2,
       "version_minor": 0
      },
      "text/plain": [
       "FloatText(value=110.0, description='Flight path length:')"
      ]
     },
     "metadata": {},
     "output_type": "display_data"
    },
    {
     "data": {
      "application/vnd.jupyter.widget-view+json": {
       "model_id": "e565d5d84a5342ce9257ea826103da7c",
       "version_major": 2,
       "version_minor": 0
      },
      "text/plain": [
       "FloatText(value=54.0, description='t0:')"
      ]
     },
     "metadata": {},
     "output_type": "display_data"
    }
   ],
   "source": [
    "tdc, pulse_mode, flightPathLength_d, t0_d, max_mc, det_diam = wd.dataset_instrument_specification_selection()\n",
    "display(tdc, det_diam, pulse_mode, flightPathLength_d, t0_d)"
   ]
  },
  {
   "cell_type": "markdown",
   "metadata": {
    "pycharm": {
     "name": "#%% md\n"
    }
   },
   "source": [
    "$$\\textbf{You can specify which dataset to use in below block}$$"
   ]
  },
  {
   "cell_type": "code",
   "execution_count": 32,
   "metadata": {
    "pycharm": {
     "name": "#%%\n"
    },
    "tags": []
   },
   "outputs": [],
   "source": [
    "# extract data from the path and create the Variable object\n",
    "data, variables = data_tools.extract_data(dataset_path, flightPathLength_d.value, t0_d.value, max_mc.value, tdc.value, pulse_mode.value)"
   ]
  },
  {
   "cell_type": "code",
   "execution_count": 33,
   "metadata": {
    "pycharm": {
     "name": "#%%\n"
    },
    "tags": []
   },
   "outputs": [
    {
     "name": "stdout",
     "output_type": "stream",
     "text": [
      "The data will be saved on the path: D:/pyccapt/tests/data/OLO_AL_6_data/cropped_OLO_AL_6_data\n",
      "=============================\n",
      "The dataset name after saving is: tof_calibration_cropped_OLO_AL_6_data\n",
      "=============================\n",
      "The figures will be saved on the path: D:/pyccapt/tests/data/OLO_AL_6_data//tof_calibration/\n",
      "=============================\n",
      "Total number of Ions: 1910315\n"
     ]
    },
    {
     "data": {
      "text/html": [
       "<div>\n",
       "<style scoped>\n",
       "    .dataframe tbody tr th:only-of-type {\n",
       "        vertical-align: middle;\n",
       "    }\n",
       "\n",
       "    .dataframe tbody tr th {\n",
       "        vertical-align: top;\n",
       "    }\n",
       "\n",
       "    .dataframe thead th {\n",
       "        text-align: right;\n",
       "    }\n",
       "</style>\n",
       "<table border=\"1\" class=\"dataframe\">\n",
       "  <thead>\n",
       "    <tr style=\"text-align: right;\">\n",
       "      <th></th>\n",
       "      <th>x (nm)</th>\n",
       "      <th>y (nm)</th>\n",
       "      <th>z (nm)</th>\n",
       "      <th>mc_c (Da)</th>\n",
       "      <th>mc (Da)</th>\n",
       "      <th>high_voltage (V)</th>\n",
       "      <th>pulse</th>\n",
       "      <th>start_counter</th>\n",
       "      <th>t_c (ns)</th>\n",
       "      <th>t (ns)</th>\n",
       "      <th>x_det (cm)</th>\n",
       "      <th>y_det (cm)</th>\n",
       "      <th>pulse_pi</th>\n",
       "      <th>ion_pp</th>\n",
       "    </tr>\n",
       "  </thead>\n",
       "  <tbody>\n",
       "    <tr>\n",
       "      <th>0</th>\n",
       "      <td>0.0</td>\n",
       "      <td>0.0</td>\n",
       "      <td>0.0</td>\n",
       "      <td>0.0</td>\n",
       "      <td>0.000375</td>\n",
       "      <td>3044.420898</td>\n",
       "      <td>3044.420898</td>\n",
       "      <td>54025</td>\n",
       "      <td>0.0</td>\n",
       "      <td>823.981842</td>\n",
       "      <td>2.136245</td>\n",
       "      <td>1.499510</td>\n",
       "      <td>0</td>\n",
       "      <td>0</td>\n",
       "    </tr>\n",
       "    <tr>\n",
       "      <th>1</th>\n",
       "      <td>0.0</td>\n",
       "      <td>0.0</td>\n",
       "      <td>0.0</td>\n",
       "      <td>0.0</td>\n",
       "      <td>0.000354</td>\n",
       "      <td>3044.420898</td>\n",
       "      <td>3044.420898</td>\n",
       "      <td>54732</td>\n",
       "      <td>0.0</td>\n",
       "      <td>802.104822</td>\n",
       "      <td>1.034694</td>\n",
       "      <td>0.248327</td>\n",
       "      <td>707</td>\n",
       "      <td>2</td>\n",
       "    </tr>\n",
       "    <tr>\n",
       "      <th>2</th>\n",
       "      <td>0.0</td>\n",
       "      <td>0.0</td>\n",
       "      <td>0.0</td>\n",
       "      <td>0.0</td>\n",
       "      <td>0.000228</td>\n",
       "      <td>3044.420898</td>\n",
       "      <td>3044.420898</td>\n",
       "      <td>56128</td>\n",
       "      <td>0.0</td>\n",
       "      <td>653.574258</td>\n",
       "      <td>0.124163</td>\n",
       "      <td>-2.413224</td>\n",
       "      <td>1396</td>\n",
       "      <td>1</td>\n",
       "    </tr>\n",
       "    <tr>\n",
       "      <th>3</th>\n",
       "      <td>0.0</td>\n",
       "      <td>0.0</td>\n",
       "      <td>0.0</td>\n",
       "      <td>0.0</td>\n",
       "      <td>0.000362</td>\n",
       "      <td>3044.420898</td>\n",
       "      <td>3044.420898</td>\n",
       "      <td>56875</td>\n",
       "      <td>0.0</td>\n",
       "      <td>810.149256</td>\n",
       "      <td>0.604898</td>\n",
       "      <td>-1.881551</td>\n",
       "      <td>747</td>\n",
       "      <td>1</td>\n",
       "    </tr>\n",
       "    <tr>\n",
       "      <th>4</th>\n",
       "      <td>0.0</td>\n",
       "      <td>0.0</td>\n",
       "      <td>0.0</td>\n",
       "      <td>0.0</td>\n",
       "      <td>0.000015</td>\n",
       "      <td>3044.420898</td>\n",
       "      <td>3044.420898</td>\n",
       "      <td>57067</td>\n",
       "      <td>0.0</td>\n",
       "      <td>205.740000</td>\n",
       "      <td>0.522122</td>\n",
       "      <td>-2.715673</td>\n",
       "      <td>192</td>\n",
       "      <td>1</td>\n",
       "    </tr>\n",
       "    <tr>\n",
       "      <th>...</th>\n",
       "      <td>...</td>\n",
       "      <td>...</td>\n",
       "      <td>...</td>\n",
       "      <td>...</td>\n",
       "      <td>...</td>\n",
       "      <td>...</td>\n",
       "      <td>...</td>\n",
       "      <td>...</td>\n",
       "      <td>...</td>\n",
       "      <td>...</td>\n",
       "      <td>...</td>\n",
       "      <td>...</td>\n",
       "      <td>...</td>\n",
       "      <td>...</td>\n",
       "    </tr>\n",
       "    <tr>\n",
       "      <th>1910310</th>\n",
       "      <td>0.0</td>\n",
       "      <td>0.0</td>\n",
       "      <td>0.0</td>\n",
       "      <td>0.0</td>\n",
       "      <td>0.000159</td>\n",
       "      <td>4590.712891</td>\n",
       "      <td>4590.712891</td>\n",
       "      <td>35984</td>\n",
       "      <td>0.0</td>\n",
       "      <td>669.244788</td>\n",
       "      <td>-0.598531</td>\n",
       "      <td>-0.442531</td>\n",
       "      <td>581</td>\n",
       "      <td>1</td>\n",
       "    </tr>\n",
       "    <tr>\n",
       "      <th>1910311</th>\n",
       "      <td>0.0</td>\n",
       "      <td>0.0</td>\n",
       "      <td>0.0</td>\n",
       "      <td>0.0</td>\n",
       "      <td>0.000170</td>\n",
       "      <td>4590.712891</td>\n",
       "      <td>4590.712891</td>\n",
       "      <td>36380</td>\n",
       "      <td>0.0</td>\n",
       "      <td>689.983380</td>\n",
       "      <td>-2.085306</td>\n",
       "      <td>0.378857</td>\n",
       "      <td>396</td>\n",
       "      <td>1</td>\n",
       "    </tr>\n",
       "    <tr>\n",
       "      <th>1910312</th>\n",
       "      <td>0.0</td>\n",
       "      <td>0.0</td>\n",
       "      <td>0.0</td>\n",
       "      <td>0.0</td>\n",
       "      <td>0.000157</td>\n",
       "      <td>4590.712891</td>\n",
       "      <td>4590.712891</td>\n",
       "      <td>37445</td>\n",
       "      <td>0.0</td>\n",
       "      <td>665.308296</td>\n",
       "      <td>0.308816</td>\n",
       "      <td>0.210122</td>\n",
       "      <td>1065</td>\n",
       "      <td>1</td>\n",
       "    </tr>\n",
       "    <tr>\n",
       "      <th>1910313</th>\n",
       "      <td>0.0</td>\n",
       "      <td>0.0</td>\n",
       "      <td>0.0</td>\n",
       "      <td>0.0</td>\n",
       "      <td>0.000183</td>\n",
       "      <td>4590.712891</td>\n",
       "      <td>4590.712891</td>\n",
       "      <td>37719</td>\n",
       "      <td>0.0</td>\n",
       "      <td>715.042512</td>\n",
       "      <td>-0.865959</td>\n",
       "      <td>1.168408</td>\n",
       "      <td>274</td>\n",
       "      <td>1</td>\n",
       "    </tr>\n",
       "    <tr>\n",
       "      <th>1910314</th>\n",
       "      <td>0.0</td>\n",
       "      <td>0.0</td>\n",
       "      <td>0.0</td>\n",
       "      <td>0.0</td>\n",
       "      <td>0.000166</td>\n",
       "      <td>4590.712891</td>\n",
       "      <td>4590.712891</td>\n",
       "      <td>38097</td>\n",
       "      <td>0.0</td>\n",
       "      <td>682.130970</td>\n",
       "      <td>2.451429</td>\n",
       "      <td>-0.780000</td>\n",
       "      <td>378</td>\n",
       "      <td>1</td>\n",
       "    </tr>\n",
       "  </tbody>\n",
       "</table>\n",
       "<p>1910315 rows × 14 columns</p>\n",
       "</div>"
      ],
      "text/plain": [
       "         x (nm)  y (nm)  z (nm)  mc_c (Da)   mc (Da)  high_voltage (V)  \\\n",
       "0           0.0     0.0     0.0        0.0  0.000375       3044.420898   \n",
       "1           0.0     0.0     0.0        0.0  0.000354       3044.420898   \n",
       "2           0.0     0.0     0.0        0.0  0.000228       3044.420898   \n",
       "3           0.0     0.0     0.0        0.0  0.000362       3044.420898   \n",
       "4           0.0     0.0     0.0        0.0  0.000015       3044.420898   \n",
       "...         ...     ...     ...        ...       ...               ...   \n",
       "1910310     0.0     0.0     0.0        0.0  0.000159       4590.712891   \n",
       "1910311     0.0     0.0     0.0        0.0  0.000170       4590.712891   \n",
       "1910312     0.0     0.0     0.0        0.0  0.000157       4590.712891   \n",
       "1910313     0.0     0.0     0.0        0.0  0.000183       4590.712891   \n",
       "1910314     0.0     0.0     0.0        0.0  0.000166       4590.712891   \n",
       "\n",
       "               pulse  start_counter  t_c (ns)      t (ns)  x_det (cm)  \\\n",
       "0        3044.420898          54025       0.0  823.981842    2.136245   \n",
       "1        3044.420898          54732       0.0  802.104822    1.034694   \n",
       "2        3044.420898          56128       0.0  653.574258    0.124163   \n",
       "3        3044.420898          56875       0.0  810.149256    0.604898   \n",
       "4        3044.420898          57067       0.0  205.740000    0.522122   \n",
       "...              ...            ...       ...         ...         ...   \n",
       "1910310  4590.712891          35984       0.0  669.244788   -0.598531   \n",
       "1910311  4590.712891          36380       0.0  689.983380   -2.085306   \n",
       "1910312  4590.712891          37445       0.0  665.308296    0.308816   \n",
       "1910313  4590.712891          37719       0.0  715.042512   -0.865959   \n",
       "1910314  4590.712891          38097       0.0  682.130970    2.451429   \n",
       "\n",
       "         y_det (cm)  pulse_pi  ion_pp  \n",
       "0          1.499510         0       0  \n",
       "1          0.248327       707       2  \n",
       "2         -2.413224      1396       1  \n",
       "3         -1.881551       747       1  \n",
       "4         -2.715673       192       1  \n",
       "...             ...       ...     ...  \n",
       "1910310   -0.442531       581       1  \n",
       "1910311    0.378857       396       1  \n",
       "1910312    0.210122      1065       1  \n",
       "1910313    1.168408       274       1  \n",
       "1910314   -0.780000       378       1  \n",
       "\n",
       "[1910315 rows x 14 columns]"
      ]
     },
     "execution_count": 33,
     "metadata": {},
     "output_type": "execute_result"
    }
   ],
   "source": [
    "print('The data will be saved on the path:', variables.result_data_path)\n",
    "print('=============================')\n",
    "print('The dataset name after saving is:', variables.result_data_name)\n",
    "print('=============================')\n",
    "print('The figures will be saved on the path:', variables.result_path)\n",
    "print('=============================')\n",
    "print('Total number of Ions:', len(data))\n",
    "data"
   ]
  },
  {
   "cell_type": "code",
   "execution_count": 34,
   "metadata": {
    "tags": []
   },
   "outputs": [
    {
     "name": "stderr",
     "output_type": "stream",
     "text": [
      "C:\\Users\\APTUser\\AppData\\Local\\Temp\\ipykernel_27084\\34346344.py:1: DeprecationWarning: on_submit is deprecated. Instead, set the .continuous_update attribute to False and observe the value changing with: mywidget.observe(callback, 'value').\n",
      "  interact_manual(data_loadcrop.plot_crop_experiment_history, data=fixed(data), variables=fixed(variables), max_tof=widgets.FloatText(value=variables.max_tof), frac=widgets.FloatText(value=1.0),\n"
     ]
    },
    {
     "data": {
      "application/vnd.jupyter.widget-view+json": {
       "model_id": "24d3f0a601a642a0aa8ebb36221e7474",
       "version_major": 2,
       "version_minor": 0
      },
      "text/plain": [
       "interactive(children=(FloatText(value=5010.0, description='max_tof'), FloatText(value=1.0, description='frac')…"
      ]
     },
     "metadata": {},
     "output_type": "display_data"
    }
   ],
   "source": [
    "interact_manual(data_loadcrop.plot_crop_experiment_history, data=fixed(data), variables=fixed(variables), max_tof=widgets.FloatText(value=variables.max_tof), frac=widgets.FloatText(value=1.0),\n",
    "                bins=fixed((1200,800)), figure_size=fixed((7,3)),\n",
    "               draw_rect=fixed(False), data_crop=fixed(False), pulse=widgets.Dropdown(options=[('False', False), ('True', True)]), \n",
    "                pulse_mode=widgets.Dropdown(options=[('voltage', 'voltage'), ('laser', 'laser')]), save=widgets.Dropdown(options=[('True', True), ('False', False)]),\n",
    "               figname=widgets.Text(value='exp_hist'));"
   ]
  },
  {
   "cell_type": "code",
   "execution_count": 35,
   "metadata": {
    "tags": []
   },
   "outputs": [
    {
     "ename": "ValueError",
     "evalue": "high <= 0",
     "output_type": "error",
     "traceback": [
      "\u001b[1;31m---------------------------------------------------------------------------\u001b[0m",
      "\u001b[1;31mValueError\u001b[0m                                Traceback (most recent call last)",
      "Cell \u001b[1;32mIn[35], line 9\u001b[0m\n\u001b[0;32m      7\u001b[0m dld_x_peak \u001b[38;5;241m=\u001b[39m variables\u001b[38;5;241m.\u001b[39mdld_x_det[mask_temporal]\n\u001b[0;32m      8\u001b[0m fig1, ax1 \u001b[38;5;241m=\u001b[39m plt\u001b[38;5;241m.\u001b[39msubplots(figsize\u001b[38;5;241m=\u001b[39m(\u001b[38;5;241m4\u001b[39m,\u001b[38;5;241m4\u001b[39m), constrained_layout\u001b[38;5;241m=\u001b[39m\u001b[38;5;28;01mTrue\u001b[39;00m)\n\u001b[1;32m----> 9\u001b[0m mask \u001b[38;5;241m=\u001b[39m \u001b[43mnp\u001b[49m\u001b[38;5;241;43m.\u001b[39;49m\u001b[43mrandom\u001b[49m\u001b[38;5;241;43m.\u001b[39;49m\u001b[43mrandint\u001b[49m\u001b[43m(\u001b[49m\u001b[38;5;241;43m0\u001b[39;49m\u001b[43m,\u001b[49m\u001b[43m \u001b[49m\u001b[38;5;28;43mlen\u001b[39;49m\u001b[43m(\u001b[49m\u001b[43mdld_peak\u001b[49m\u001b[43m)\u001b[49m\u001b[43m,\u001b[49m\u001b[43m \u001b[49m\u001b[38;5;241;43m10000\u001b[39;49m\u001b[43m)\u001b[49m\n\u001b[0;32m     11\u001b[0m x \u001b[38;5;241m=\u001b[39m plt\u001b[38;5;241m.\u001b[39mscatter(dld_x_peak[mask]\u001b[38;5;241m*\u001b[39m\u001b[38;5;241m10\u001b[39m, dld_peak[mask], color\u001b[38;5;241m=\u001b[39m\u001b[38;5;124m\"\u001b[39m\u001b[38;5;124mblue\u001b[39m\u001b[38;5;124m\"\u001b[39m, label\u001b[38;5;241m=\u001b[39m\u001b[38;5;124mr\u001b[39m\u001b[38;5;124m\"\u001b[39m\u001b[38;5;124m$t$\u001b[39m\u001b[38;5;124m\"\u001b[39m, s\u001b[38;5;241m=\u001b[39m\u001b[38;5;241m1\u001b[39m)\n\u001b[0;32m     12\u001b[0m plt\u001b[38;5;241m.\u001b[39mshow()\n",
      "File \u001b[1;32mmtrand.pyx:746\u001b[0m, in \u001b[0;36mnumpy.random.mtrand.RandomState.randint\u001b[1;34m()\u001b[0m\n",
      "File \u001b[1;32m_bounded_integers.pyx:1338\u001b[0m, in \u001b[0;36mnumpy.random._bounded_integers._rand_int32\u001b[1;34m()\u001b[0m\n",
      "\u001b[1;31mValueError\u001b[0m: high <= 0"
     ]
    },
    {
     "data": {
      "application/vnd.jupyter.widget-view+json": {
       "model_id": "f428a658c7bc4482b7999a7e702fca17",
       "version_major": 2,
       "version_minor": 0
      },
      "image/png": "[encoded data removed]",
      "text/html": [
       "\n",
       "            <div style=\"display: inline-block;\">\n",
       "                <div class=\"jupyter-widgets widget-label\" style=\"text-align: center;\">\n",
       "                    Figure\n",
       "                </div>\n",
       "                <img src='data:image/png;base64,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' width=400.0/>\n",
       "            </div>\n",
       "        "
      ],
      "text/plain": [
       "Canvas(toolbar=Toolbar(toolitems=[('Home', 'Reset original view', 'home', 'home'), ('Back', 'Back to previous …"
      ]
     },
     "metadata": {},
     "output_type": "display_data"
    }
   ],
   "source": [
    "import matplotlib.pyplot as plt\n",
    "dld_peak = variables.dld_t\n",
    "dld_x_peak = variables.dld_x_det\n",
    "mask_temporal = np.logical_and((dld_peak > variables.selected_x1),\n",
    "                               (dld_peak < variables.selected_x2))\n",
    "dld_peak = variables.dld_t_calib[mask_temporal] \n",
    "dld_x_peak = variables.dld_x_det[mask_temporal]\n",
    "fig1, ax1 = plt.subplots(figsize=(4,4), constrained_layout=True)\n",
    "mask = np.random.randint(0, len(dld_peak), 10000)\n",
    "\n",
    "x = plt.scatter(dld_x_peak[mask]*10, dld_peak[mask], color=\"blue\", label=r\"$t$\", s=1)\n",
    "plt.show()"
   ]
  },
  {
   "cell_type": "code",
   "execution_count": null,
   "metadata": {
    "tags": []
   },
   "outputs": [],
   "source": [
    "import matplotlib.pyplot as plt\n",
    "dld_peak = data['t (ns)'].to_numpy()\n",
    "dld_x_peak = data['y_det (cm)'].to_numpy()\n",
    "mask_temporal = np.logical_and((dld_peak > variables.selected_x1),\n",
    "                               (dld_peak < variables.selected_x2))\n",
    "dld_peak = dld_peak[mask_temporal] \n",
    "dld_x_peak = dld_x_peak[mask_temporal]\n",
    "fig1, ax1 = plt.subplots(figsize=(4,4), constrained_layout=True)\n",
    "mask = np.random.randint(0, len(dld_peak), 10000)\n",
    "\n",
    "x = plt.scatter(dld_x_peak[mask]*10, dld_peak[mask], color=\"blue\", label=r\"$t$\", s=1)\n",
    "plt.show()"
   ]
  },
  {
   "cell_type": "code",
   "execution_count": null,
   "metadata": {
    "tags": []
   },
   "outputs": [],
   "source": [
    "interact_manual(tools.mc_hist_plot, variables=fixed(variables), bin_size=widgets.FloatText(value=0.1), \n",
    "                mode=widgets.Dropdown(options=[('mc', 'mc'), ('tof', 'tof')]), prominence=widgets.IntText(value=50), distance=widgets.IntText(value=100), \n",
    "                lim=widgets.IntText(value=400), percent=widgets.IntText(value=50), selector=fixed('None'), plot=fixed(True), figname=widgets.Text(value='hist'));\n"
   ]
  },
  {
   "cell_type": "markdown",
   "metadata": {
    "pycharm": {
     "name": "#%% md\n"
    }
   },
   "source": [
    "$$\\textbf{Below plotted graph offers peak selection. You can select relevant peaks you want for computation.}$$"
   ]
  },
  {
   "cell_type": "code",
   "execution_count": 36,
   "metadata": {
    "tags": []
   },
   "outputs": [],
   "source": [
    "bin_size=widgets.FloatText(value=0.1, description='bin size:')\n",
    "prominence=widgets.IntText(value=100, description='peak prominance:')\n",
    "distance=widgets.IntText(value=500, description='peak distance:')\n",
    "lim_tof=widgets.IntText(value=1500, description='lim tof/mc:')\n",
    "percent=widgets.IntText(value=50, description='percent MRP:')\n",
    "index_fig = widgets.IntText(value=1, description='fig index:')\n",
    "\n",
    "def hist_plot(variables, plot):\n",
    "    \n",
    "    with out:\n",
    "        clear_output(True)\n",
    "    \n",
    "        bin_size_p = bin_size.value\n",
    "        prominence_p = prominence.value\n",
    "        distance_p = distance.value\n",
    "        lim_tof_p = lim_tof.value\n",
    "        percent_p = percent.value\n",
    "        index_fig_p = index_fig.value\n",
    "        selector = 'rect'\n",
    "        peaks_ini, peaks_y_ini, peak_widths_p_ini, _ = tools.hist_plot(variables.dld_t_calib[variables.dld_t_calib < lim_tof_p], variables, bin_size_p, \n",
    "                                                                       distance=distance_p, percent=percent_p, prominence=prominence_p, selector=selector, \n",
    "                                                                       plot=plot, label='tof', fig_name=index_fig_p)\n",
    "        index_max_ini = np.argmax(peaks_y_ini)\n",
    "        variables.max_peak = peaks_ini[index_max_ini]\n",
    "        variables.peak = peaks_ini\n",
    "        mrp = (peaks_ini[index_max_ini] / (peak_widths_p_ini[index_max_ini][2] - peak_widths_p_ini[index_max_ini][1]))\n",
    "        print('Mass resolving power for the highest peak (MRP --> m/m_2-m_1):', mrp)\n",
    "        for i in range(len(peaks_ini)):\n",
    "            print('Peaks ', i, 'is at location and height: ({:.2f}, {:.2f})'.format(peaks_ini[i], peaks_y_ini[i]), 'peak window sides ({:.2f}%) are: ({:.2f}, {:.2f})'.format(percent_p, peak_widths_p_ini[i][1], peak_widths_p_ini[i][2]))"
   ]
  },
  {
   "cell_type": "code",
   "execution_count": 37,
   "metadata": {
    "tags": []
   },
   "outputs": [],
   "source": [
    "sample_size_b = widgets.IntText(value=11, description='sample size:') \n",
    "index_fig_b = widgets.IntText(value=1, description='fig index:')\n",
    "maximum_cal_method_b = widgets.Dropdown(\n",
    "    options=[('mean', 'mean'), ('histogram', 'histogram')],\n",
    "    description='calib method:'\n",
    ")\n",
    "plot_b = widgets.Dropdown(\n",
    "    options=[('False', False), ('True', True)],\n",
    "    description='plot fig:'\n",
    ")\n",
    "\n",
    "save_b = widgets.Dropdown(\n",
    "    options=[('False', False), ('True', True)],\n",
    "    description='save fig:'\n",
    ")\n",
    "def bowl_correction(dld_x, dld_y, dld_highVoltage, variables):\n",
    "    with out:\n",
    "        sample_size_p = sample_size_b.value\n",
    "        index_fig_p = index_fig_b.value\n",
    "        plot_p = plot_b.value\n",
    "        save_p = save_b.value\n",
    "        maximum_cal_method_p = maximum_cal_method_b.value\n",
    "        calibration.bowl_correction_main(dld_x, dld_y, dld_highVoltage, variables, det_diam.value, sample_size=sample_size_p, maximum_cal_method=maximum_cal_method_p,\n",
    "                                         calibration_mode='tof', index_fig=index_fig_p, plot=plot_p, save=save_p)\n"
   ]
  },
  {
   "cell_type": "code",
   "execution_count": 38,
   "metadata": {
    "tags": []
   },
   "outputs": [],
   "source": [
    "sample_size_v =widgets.IntText(value=100, description='sample size:') \n",
    "index_fig_v = widgets.IntText(value=1, description='fig index:')\n",
    "plot_v = widgets.Dropdown(\n",
    "    options=[('False', False), ('True', True)],\n",
    "    description='plot fig:'\n",
    ")\n",
    "save_v = widgets.Dropdown(\n",
    "    options=[('False', False), ('True', True)],\n",
    "    description='save fig:'\n",
    ")\n",
    "mode_v = widgets.Dropdown(\n",
    "    options=[('ion_seq', 'ion_seq'), ('voltage', 'voltage')],\n",
    "    description='sample mode:'\n",
    ")\n",
    "peak_mode = widgets.Dropdown(\n",
    "    options=[('peak', 'peak'), ('mean', 'mean'), ('median', 'median')],\n",
    "    description='peak mode:'\n",
    ")\n",
    "def vol_correction(dld_highVoltage, variables):\n",
    "    with out:\n",
    "        sample_size_p = sample_size_v.value\n",
    "        index_fig_p = index_fig_v.value\n",
    "        plot_p = plot_v.value\n",
    "        save_p = save_v.value\n",
    "        mode_p = mode_v.value\n",
    "        peak_mode_p = peak_mode.value\n",
    "        calibration.voltage_corr_main(dld_highVoltage, variables, sample_size=sample_size_p, calibration_mode='tof',\n",
    "                                        index_fig=index_fig_p, plot=plot_p, save=save_p, mode=mode_p, peak_mode=peak_mode_p)\n"
   ]
  },
  {
   "cell_type": "code",
   "execution_count": 43,
   "metadata": {
    "tags": []
   },
   "outputs": [
    {
     "ename": "TypeError",
     "evalue": "'NoneType' object is not callable",
     "output_type": "error",
     "traceback": [
      "\u001b[1;31m---------------------------------------------------------------------------\u001b[0m",
      "\u001b[1;31mTypeError\u001b[0m                                 Traceback (most recent call last)",
      "Cell \u001b[1;32mIn[43], line 60\u001b[0m\n\u001b[0;32m     56\u001b[0m \u001b[38;5;129m@reset_button\u001b[39m\u001b[38;5;241m.\u001b[39mon_click\n\u001b[0;32m     57\u001b[0m \u001b[38;5;28;01mdef\u001b[39;00m \u001b[38;5;21mreset_back_on_click\u001b[39m(b, variables\u001b[38;5;241m=\u001b[39mvariables, plot\u001b[38;5;241m=\u001b[39m\u001b[38;5;28;01mTrue\u001b[39;00m):\n\u001b[0;32m     58\u001b[0m     variables\u001b[38;5;241m.\u001b[39mdld_t_calib \u001b[38;5;241m=\u001b[39m np\u001b[38;5;241m.\u001b[39mcopy(variables\u001b[38;5;241m.\u001b[39mdld_t_calib_backup)\n\u001b[0;32m     59\u001b[0m \u001b[38;5;129;43m@reset_button\u001b[39;49m\u001b[38;5;241;43m.\u001b[39;49m\u001b[43mon_click\u001b[49m\u001b[43m(\u001b[49m\u001b[43mdata_tools\u001b[49m\u001b[38;5;241;43m.\u001b[39;49m\u001b[43mextract_data\u001b[49m\u001b[43m)\u001b[49m\n\u001b[1;32m---> 60\u001b[0m \u001b[38;5;28;43;01mdef\u001b[39;49;00m\u001b[43m \u001b[49m\u001b[38;5;21;43mreset_on_click\u001b[39;49m\u001b[43m(\u001b[49m\u001b[43mb\u001b[49m\u001b[43m,\u001b[49m\u001b[43m \u001b[49m\u001b[43mvariables\u001b[49m\u001b[38;5;241;43m=\u001b[39;49m\u001b[43mvariables\u001b[49m\u001b[43m,\u001b[49m\u001b[43m \u001b[49m\u001b[43mplot\u001b[49m\u001b[38;5;241;43m=\u001b[39;49m\u001b[38;5;28;43;01mTrue\u001b[39;49;00m\u001b[43m)\u001b[49m\u001b[43m:\u001b[49m\n\u001b[0;32m     61\u001b[0m \u001b[43m    \u001b[49m\u001b[43mdata_tools\u001b[49m\u001b[38;5;241;43m.\u001b[39;49m\u001b[43mextract_data\u001b[49m\u001b[43m(\u001b[49m\u001b[43mdataset_path\u001b[49m\u001b[43m,\u001b[49m\u001b[43m \u001b[49m\u001b[43mflightPathLength_d\u001b[49m\u001b[38;5;241;43m.\u001b[39;49m\u001b[43mvalue\u001b[49m\u001b[43m,\u001b[49m\u001b[43m \u001b[49m\u001b[43mt0_d\u001b[49m\u001b[38;5;241;43m.\u001b[39;49m\u001b[43mvalue\u001b[49m\u001b[43m,\u001b[49m\u001b[43m \u001b[49m\u001b[43mmax_mc\u001b[49m\u001b[38;5;241;43m.\u001b[39;49m\u001b[43mvalue\u001b[49m\u001b[43m,\u001b[49m\u001b[43m \u001b[49m\u001b[43mtdc\u001b[49m\u001b[38;5;241;43m.\u001b[39;49m\u001b[43mvalue\u001b[49m\u001b[43m,\u001b[49m\u001b[43m \u001b[49m\u001b[43mpulse_mode\u001b[49m\u001b[38;5;241;43m.\u001b[39;49m\u001b[43mvalu\u001b[49m\u001b[43m)\u001b[49m\n\u001b[0;32m     63\u001b[0m \u001b[38;5;129m@save_button\u001b[39m\u001b[38;5;241m.\u001b[39mon_click\n\u001b[0;32m     64\u001b[0m \u001b[38;5;28;01mdef\u001b[39;00m \u001b[38;5;21msave_on_click\u001b[39m(b, variables\u001b[38;5;241m=\u001b[39mvariables, plot\u001b[38;5;241m=\u001b[39m\u001b[38;5;28;01mTrue\u001b[39;00m):\n",
      "\u001b[1;31mTypeError\u001b[0m: 'NoneType' object is not callable"
     ]
    }
   ],
   "source": [
    "pb_bowl = widgets.HTML(\n",
    "    value=\" \",\n",
    "    placeholder='Status:',\n",
    "    description='Status:',\n",
    ")\n",
    "pb_vol = widgets.HTML(\n",
    "    value=\" \",\n",
    "    placeholder='Status:',\n",
    "    description='Status:',\n",
    ")\n",
    "plot_button = widgets.Button(\n",
    "    description='plot hist',\n",
    ")\n",
    "plot_fdm_button = widgets.Button(\n",
    "    description='plot FDM',\n",
    ")\n",
    "reset_back_button = widgets.Button(\n",
    "    description='reset back correction',\n",
    ")\n",
    "reset_button = widgets.Button(\n",
    "    description='reset',\n",
    ")\n",
    "save_button = widgets.Button(\n",
    "    description='save correction',\n",
    ")\n",
    "bowl_button = widgets.Button(\n",
    "    description='bowl correction',\n",
    ")\n",
    "vol_button = widgets.Button(\n",
    "    description='voltage correction',\n",
    ")\n",
    "bin_fdm = widgets.IntText(value=256, description='bin FDM:')\n",
    "    \n",
    "@plot_button.on_click\n",
    "def plot_on_click(b, variables=variables, plot=True):\n",
    "    hist_plot(variables, plot)\n",
    "\n",
    "@plot_fdm_button.on_click\n",
    "def plot_fdm_on_click(b, variables=variables, save=True):\n",
    "    with out:\n",
    "        clear_output(True)\n",
    "        if variables.selected_x1 == 0 or variables.selected_x2 == 0:\n",
    "            print('Please first select a peak')\n",
    "        else:\n",
    "            print('Selected tof are: (%s, %s)' %(variables.selected_x1, variables.selected_x2)) \n",
    "            mask_temporal = np.logical_and((variables.dld_t_calib > variables.selected_x1),\n",
    "                                           (variables.dld_t_calib < variables.selected_x2))\n",
    "            x = variables.dld_x_det[mask_temporal]\n",
    "            y = variables.dld_y_det[mask_temporal]\n",
    "            bin_fdm_p = bin_fdm.value\n",
    "            index_fig_p = index_fig.value\n",
    "            bins = [bin_fdm_p, bin_fdm_p]\n",
    "\n",
    "            calibration.plot_fdm(x, y, variables, save, bins, index_fig_p)\n",
    "    \n",
    "@reset_button.on_click\n",
    "def reset_back_on_click(b, variables=variables, plot=True):\n",
    "    variables.dld_t_calib = np.copy(variables.dld_t_calib_backup)\n",
    "@reset_button.on_click\n",
    "def reset_on_click(b, variables=variables, plot=True):\n",
    "    data_tools.extract_data(dataset_path, flightPathLength_d.value, t0_d.value, max_mc.value, tdc.value, pulse_mode.valu)\n",
    "    \n",
    "@save_button.on_click\n",
    "def save_on_click(b, variables=variables, plot=True):\n",
    "    variables.dld_t_calib_backup = np.copy(variables.dld_t_calib)\n",
    "\n",
    "@vol_button.on_click\n",
    "def vol_on_click(b, dld_highVoltage=variables.dld_high_voltage, variables=variables):\n",
    "    with out:\n",
    "        clear_output(True)\n",
    "        pb_vol.value = \"<b>Starting...</b>\"\n",
    "        if variables.selected_x1 == 0 or variables.selected_x2 == 0:\n",
    "            print('Please first select a peak')\n",
    "        else:\n",
    "            print('Selected tof ranges are: (%s, %s)' %(variables.selected_x1, variables.selected_x2))\n",
    "            vol_correction(dld_highVoltage, variables)\n",
    "        pb_vol.value = \"<b>Flished</b>\"\n",
    "@bowl_button.on_click\n",
    "def bowl_on_click(b, dld_x_det=variables.dld_x_det, dld_y_det=variables.dld_y_det, dld_highVoltage=variables.dld_high_voltage, variables=variables):\n",
    "    with out:\n",
    "        clear_output(True)\n",
    "        pb_bowl.value = \"<b>Starting...</b>\"\n",
    "        if variables.selected_x1 == 0 or variables.selected_x2 == 0:\n",
    "            print('Please first select a peak')\n",
    "        else:\n",
    "            print('Selected tof ranges are: (%s, %s)' %(variables.selected_x1, variables.selected_x2))\n",
    "            bowl_correction(dld_x_det, dld_y_det, dld_highVoltage, variables)  \n",
    "        pb_bowl.value = \"<b>Flished</b>\"\n",
    "\n",
    "\n",
    "tab1 = VBox(children=[bin_size, index_fig, prominence, distance, lim_tof, percent, bin_fdm])\n",
    "tab2 = VBox(children=[HBox(children=[sample_size_b, index_fig_b, maximum_cal_method_b, plot_b, save_b]), bowl_button, pb_bowl])\n",
    "tab3 = VBox(children=[HBox(children=[sample_size_v, index_fig_v, mode_v, peak_mode, plot_v, save_v]), vol_button, pb_vol])\n",
    "\n",
    "tab = widgets.Tab(children=[tab1, tab2, tab3])\n",
    "tab.set_title(0, 'tof/mc plot')\n",
    "tab.set_title(1, 'bowl correction')\n",
    "tab.set_title(2, 'voltage correction')\n",
    "\n",
    "\n",
    "\n",
    "display(VBox(children=[tab,HBox(children=[plot_button, plot_fdm_button, save_button, reset_back_button, reset_button])]))\n",
    "out = Output()\n",
    "display(out)"
   ]
  },
  {
   "cell_type": "code",
   "execution_count": 41,
   "metadata": {
    "tags": []
   },
   "outputs": [
    {
     "ename": "AttributeError",
     "evalue": "'NoneType' object has no attribute 'data'",
     "output_type": "error",
     "traceback": [
      "\u001b[1;31m---------------------------------------------------------------------------\u001b[0m",
      "\u001b[1;31mAttributeError\u001b[0m                            Traceback (most recent call last)",
      "Cell \u001b[1;32mIn[41], line 1\u001b[0m\n\u001b[1;32m----> 1\u001b[0m \u001b[43mreset_on_click\u001b[49m\u001b[38;5;241;43m.\u001b[39;49m\u001b[43mdata\u001b[49m\n",
      "\u001b[1;31mAttributeError\u001b[0m: 'NoneType' object has no attribute 'data'"
     ]
    }
   ],
   "source": [
    "reset_on_click.data"
   ]
  },
  {
   "cell_type": "code",
   "execution_count": 39,
   "metadata": {
    "tags": []
   },
   "outputs": [
    {
     "data": {
      "application/vnd.jupyter.widget-view+json": {
       "model_id": "12ad2752c3e844a9a29e7c007c484c76",
       "version_major": 2,
       "version_minor": 0
      },
      "image/png": "[encoded data removed]",
      "text/html": [
       "\n",
       "            <div style=\"display: inline-block;\">\n",
       "                <div class=\"jupyter-widgets widget-label\" style=\"text-align: center;\">\n",
       "                    Figure\n",
       "                </div>\n",
       "                <img src='data:image/png;base64,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' width=400.0/>\n",
       "            </div>\n",
       "        "
      ],
      "text/plain": [
       "Canvas(toolbar=Toolbar(toolitems=[('Home', 'Reset original view', 'home', 'home'), ('Back', 'Back to previous …"
      ]
     },
     "metadata": {},
     "output_type": "display_data"
    },
    {
     "data": {
      "application/vnd.jupyter.widget-view+json": {
       "model_id": "058aae4fec50492381a59f60e5a1ef75",
       "version_major": 2,
       "version_minor": 0
      },
      "image/png": "[encoded data removed]",
      "text/html": [
       "\n",
       "            <div style=\"display: inline-block;\">\n",
       "                <div class=\"jupyter-widgets widget-label\" style=\"text-align: center;\">\n",
       "                    Figure\n",
       "                </div>\n",
       "                <img src='data:image/png;base64,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' width=400.0/>\n",
       "            </div>\n",
       "        "
      ],
      "text/plain": [
       "Canvas(toolbar=Toolbar(toolitems=[('Home', 'Reset original view', 'home', 'home'), ('Back', 'Back to previous …"
      ]
     },
     "metadata": {},
     "output_type": "display_data"
    }
   ],
   "source": [
    "import matplotlib.pyplot as plt\n",
    "dld_peak = data['t (ns)'].to_numpy()\n",
    "dld_x_peak = data['x_det (cm)'].to_numpy()\n",
    "mask_temporal = np.logical_and((dld_peak > variables.selected_x1),\n",
    "                               (dld_peak < variables.selected_x2))\n",
    "dld_peak = variables.dld_t_calib[mask_temporal] \n",
    "dld_x_peak = variables.dld_x_det[mask_temporal]\n",
    "fig1, ax1 = plt.subplots(figsize=(4,4), constrained_layout=True)\n",
    "mask = np.random.randint(0, len(dld_peak), 10000)\n",
    "\n",
    "x = plt.scatter(dld_x_peak[mask]*10, dld_peak[mask], color=\"blue\", label=r\"$t$\", s=1)\n",
    "plt.show()\n",
    "\n",
    "dld_peak = data['t (ns)'].to_numpy()\n",
    "dld_x_peak = data['x_det (cm)'].to_numpy()\n",
    "mask_temporal = np.logical_and((dld_peak > variables.selected_x1),\n",
    "                               (dld_peak < variables.selected_x2))\n",
    "dld_peak = dld_peak[mask_temporal] \n",
    "dld_x_peak = dld_x_peak[mask_temporal]\n",
    "fig1, ax1 = plt.subplots(figsize=(4,4), constrained_layout=True)\n",
    "\n",
    "\n",
    "x = plt.scatter(dld_x_peak[mask]*10, dld_peak[mask], color=\"blue\", label=r\"$t$\", s=1)\n",
    "plt.show()"
   ]
  },
  {
   "cell_type": "code",
   "execution_count": 14,
   "metadata": {
    "tags": []
   },
   "outputs": [
    {
     "ename": "NameError",
     "evalue": "name 'figname' is not defined",
     "output_type": "error",
     "traceback": [
      "\u001b[1;31m---------------------------------------------------------------------------\u001b[0m",
      "\u001b[1;31mNameError\u001b[0m                                 Traceback (most recent call last)",
      "Cell \u001b[1;32mIn[14], line 13\u001b[0m\n\u001b[0;32m      9\u001b[0m     \u001b[38;5;28;01mfor\u001b[39;00m i \u001b[38;5;129;01min\u001b[39;00m \u001b[38;5;28mrange\u001b[39m(\u001b[38;5;28mlen\u001b[39m(peaks_ini)):\n\u001b[0;32m     10\u001b[0m                    \u001b[38;5;28mprint\u001b[39m(\u001b[38;5;124m'\u001b[39m\u001b[38;5;124mPeaks \u001b[39m\u001b[38;5;124m'\u001b[39m, i\u001b[38;5;241m+\u001b[39m\u001b[38;5;241m1\u001b[39m, \u001b[38;5;124m'\u001b[39m\u001b[38;5;124mis at location and height: (\u001b[39m\u001b[38;5;132;01m{:.2f}\u001b[39;00m\u001b[38;5;124m, \u001b[39m\u001b[38;5;132;01m{:.2f}\u001b[39;00m\u001b[38;5;124m)\u001b[39m\u001b[38;5;124m'\u001b[39m\u001b[38;5;241m.\u001b[39mformat(peaks_ini[i], peaks_y_ini[i]), \u001b[38;5;124m'\u001b[39m\u001b[38;5;124mpeak window sides (\u001b[39m\u001b[38;5;132;01m{:.2f}\u001b[39;00m\u001b[38;5;124m%\u001b[39m\u001b[38;5;124m) are: (\u001b[39m\u001b[38;5;132;01m{:.2f}\u001b[39;00m\u001b[38;5;124m, \u001b[39m\u001b[38;5;132;01m{:.2f}\u001b[39;00m\u001b[38;5;124m)\u001b[39m\u001b[38;5;124m'\u001b[39m\u001b[38;5;241m.\u001b[39mformat(percent, peak_widths_p_ini[i][\u001b[38;5;241m1\u001b[39m], peak_widths_p_ini[i][\u001b[38;5;241m2\u001b[39m]))\n\u001b[0;32m     11\u001b[0m interact_manual(tof_his, bin_size\u001b[38;5;241m=\u001b[39mwidgets\u001b[38;5;241m.\u001b[39mFloatText(value\u001b[38;5;241m=\u001b[39m\u001b[38;5;241m0.1\u001b[39m)\n\u001b[0;32m     12\u001b[0m                ,prominence\u001b[38;5;241m=\u001b[39mwidgets\u001b[38;5;241m.\u001b[39mIntText(value\u001b[38;5;241m=\u001b[39m\u001b[38;5;241m50\u001b[39m), distance\u001b[38;5;241m=\u001b[39mwidgets\u001b[38;5;241m.\u001b[39mIntText(value\u001b[38;5;241m=\u001b[39m\u001b[38;5;241m100\u001b[39m), lim_dld_t\u001b[38;5;241m=\u001b[39mwidgets\u001b[38;5;241m.\u001b[39mIntText(value\u001b[38;5;241m=\u001b[39m\u001b[38;5;241m1500\u001b[39m)\n\u001b[1;32m---> 13\u001b[0m                ,percent\u001b[38;5;241m=\u001b[39mwidgets\u001b[38;5;241m.\u001b[39mIntText(value\u001b[38;5;241m=\u001b[39m\u001b[38;5;241m50\u001b[39m), selector\u001b[38;5;241m=\u001b[39mfixed(\u001b[38;5;124m'\u001b[39m\u001b[38;5;124mpeak\u001b[39m\u001b[38;5;124m'\u001b[39m), plot\u001b[38;5;241m=\u001b[39mfixed(\u001b[38;5;28;01mTrue\u001b[39;00m), figname\u001b[38;5;241m=\u001b[39mfixed(\u001b[43mfigname\u001b[49m));\n",
      "\u001b[1;31mNameError\u001b[0m: name 'figname' is not defined"
     ]
    }
   ],
   "source": [
    "def tof_his(bin_size, prominence, distance, percent, selector, plot, figname, lim_dld_t):\n",
    "    variables.peaks_idx = []\n",
    "    peaks_ini, peaks_y_ini, peak_widths_p_ini, _ = tools.hist_plot(variables.dld_t_calib[variables.dld_t_calib < lim_dld_t], bin_size, distance=distance, percent=percent, prominence=prominence, selector=selector, peaks_find_plot=True, plot=plot, label='tof', fig_name=figname)\n",
    "    index_max_ini = np.argmax(peaks_y_ini)\n",
    "    variables.max_peak = peaks_ini[index_max_ini]\n",
    "    variables.peak = peaks_ini\n",
    "    mrp = (peaks_ini[index_max_ini] / (peak_widths_p_ini[index_max_ini][2] - peak_widths_p_ini[index_max_ini][1]))\n",
    "    print('Mass resolving power for the highest peak (MRP --> m/m_2-m_1):', mrp)\n",
    "    for i in range(len(peaks_ini)):\n",
    "                   print('Peaks ', i+1, 'is at location and height: ({:.2f}, {:.2f})'.format(peaks_ini[i], peaks_y_ini[i]), 'peak window sides ({:.2f}%) are: ({:.2f}, {:.2f})'.format(percent, peak_widths_p_ini[i][1], peak_widths_p_ini[i][2]))\n",
    "interact_manual(tof_his, bin_size=widgets.FloatText(value=0.1)\n",
    "               ,prominence=widgets.IntText(value=50), distance=widgets.IntText(value=100), lim_dld_t=widgets.IntText(value=1500)\n",
    "               ,percent=widgets.IntText(value=50), selector=fixed('peak'), plot=fixed(True), figname=fixed(figname));\n"
   ]
  },
  {
   "cell_type": "code",
   "execution_count": 98,
   "metadata": {
    "pycharm": {
     "name": "#%%\n"
    }
   },
   "outputs": [
    {
     "data": {
      "application/vnd.jupyter.widget-view+json": {
       "model_id": "b602453cd78e4c5c93d4fccb6fc17e37",
       "version_major": 2,
       "version_minor": 0
      },
      "text/plain": [
       "Dropdown(description='Elements', options=(('H (1) (99.98)', 'H(1)[1.01]'), ('H (2) (0.01)', 'H(2)[2.01]'), ('H…"
      ]
     },
     "metadata": {},
     "output_type": "display_data"
    },
    {
     "data": {
      "application/vnd.jupyter.widget-view+json": {
       "model_id": "e364e64659bd44b39b1a6a3235bbfd3b",
       "version_major": 2,
       "version_minor": 0
      },
      "text/plain": [
       "Dropdown(description='Charge', options=((1, 1), (2, 2), (3, 3), (4, 4)), value=1)"
      ]
     },
     "metadata": {},
     "output_type": "display_data"
    },
    {
     "data": {
      "application/vnd.jupyter.widget-view+json": {
       "model_id": "1912b1c682bc4ba4af7f7ac7bf4b92a6",
       "version_major": 2,
       "version_minor": 0
      },
      "text/plain": [
       "Button(description='ADD', icon='check', style=ButtonStyle(), tooltip='ADD')"
      ]
     },
     "metadata": {},
     "output_type": "display_data"
    },
    {
     "data": {
      "application/vnd.jupyter.widget-view+json": {
       "model_id": "489472fff6104d90a460da9d5d550e9e",
       "version_major": 2,
       "version_minor": 0
      },
      "text/plain": [
       "Button(description='DELETE', icon='check', style=ButtonStyle(), tooltip='DELETE')"
      ]
     },
     "metadata": {},
     "output_type": "display_data"
    },
    {
     "data": {
      "application/vnd.jupyter.widget-view+json": {
       "model_id": "68c5a12fa80e42049ae9c357b8f652d3",
       "version_major": 2,
       "version_minor": 0
      },
      "text/plain": [
       "Button(description='RESET', icon='check', style=ButtonStyle(), tooltip='RESET')"
      ]
     },
     "metadata": {},
     "output_type": "display_data"
    },
    {
     "data": {
      "application/vnd.jupyter.widget-view+json": {
       "model_id": "aa8e7ed5cc8a4a19be7bbdb4a270b126",
       "version_major": 2,
       "version_minor": 0
      },
      "text/plain": [
       "Output()"
      ]
     },
     "metadata": {},
     "output_type": "display_data"
    }
   ],
   "source": [
    "isotopeTableFile = '../../../files/isotopeTable.h5'\n",
    "dataframe = data_tools.read_hdf5_through_pandas(isotopeTableFile)\n",
    "elementsList = dataframe['element']\n",
    "elementIsotopeList = dataframe['isotope']\n",
    "elementMassList =  dataframe['weight']\n",
    "abundanceList = dataframe['abundance']\n",
    "\n",
    "elements = list(zip(elementsList, elementIsotopeList, elementMassList, abundanceList))\n",
    "dropdownList = []\n",
    "for element in elements:\n",
    "    tupleElement = (\"{} ({}) ({:.2f})\".format(element[0], element[1], element[3]), \"{}({})[{}]\".format(element[0], element[1], element[2]))\n",
    "    dropdownList.append(tupleElement)\n",
    "\n",
    "chargeList = [(1,1,),(2,2,),(3,3,),(4,4,)]\n",
    "dropdown = wd.dropdownWidget(dropdownList,\"Elements\")\n",
    "dropdown.observe(wd.on_change)\n",
    "\n",
    "\n",
    "chargeDropdown = wd.dropdownWidget(chargeList,\"Charge\")\n",
    "chargeDropdown.observe(wd.on_change_charge)\n",
    "\n",
    "wd.compute_element_isotope_values_according_to_selected_charge()\n",
    "\n",
    "buttonAdd = wd.buttonWidget(\"ADD\")\n",
    "buttonDelete = wd.buttonWidget(\"DELETE\")\n",
    "buttonReset = wd.buttonWidget(\"RESET\")\n",
    "\n",
    "display(dropdown, chargeDropdown, buttonAdd, buttonDelete, buttonReset)\n",
    "\n",
    "def buttonAdd_f(b,):\n",
    "    with out:\n",
    "        clear_output(True)\n",
    "        wd.onClickAdd(b,)\n",
    "        display()\n",
    "def buttonDelete_f(b,):\n",
    "    with out:\n",
    "        clear_output(True)\n",
    "        wd.onClickDelete(b,)\n",
    "        display()\n",
    "def buttonResett_f(b,):\n",
    "    with out:\n",
    "        clear_output(True)\n",
    "        wd.onClickReset(b,)\n",
    "        display()\n",
    "\n",
    "listMaterial = buttonAdd.on_click(buttonAdd_f)\n",
    "buttonDelete.on_click(buttonDelete_f)\n",
    "buttonReset.on_click(buttonResett_f)\n",
    "# listMaterial = buttonAdd.on_click(wd.onClickAdd)\n",
    "# buttonDelete.on_click(wd.onClickDelete)\n",
    "# buttonReset.on_click(wd.onClickReset)\n",
    "out = Output()\n",
    "display(out)"
   ]
  },
  {
   "cell_type": "code",
   "execution_count": 99,
   "metadata": {
    "pycharm": {
     "name": "#%%\n"
    }
   },
   "outputs": [
    {
     "name": "stdout",
     "output_type": "stream",
     "text": [
      "highest peak in the tof histogram: [171.45736849 445.83000897 603.93463447]\n",
      "highest peak in the ideal mc histogram: [ 1.01 13.49 26.98]\n"
     ]
    }
   ],
   "source": [
    "peaks_chos = []\n",
    "for i in range(len(variables.peaks_idx)):\n",
    "    peaks_chos.append(variables.peak[variables.peaks_idx[i]])\n",
    "peaks_chos = np.array(peaks_chos)\n",
    "listMaterial = np.array(variables.listMaterial)\n",
    "print('highest peak in the tof histogram:', peaks_chos)\n",
    "print('highest peak in the ideal mc histogram:', listMaterial)"
   ]
  },
  {
   "cell_type": "code",
   "execution_count": 100,
   "metadata": {
    "pycharm": {
     "name": "#%%\n"
    }
   },
   "outputs": [
    {
     "name": "stderr",
     "output_type": "stream",
     "text": [
      "C:\\Users\\APTUser\\.conda\\envs\\oxcart5\\lib\\site-packages\\scipy\\optimize\\_minpack_py.py:906: OptimizeWarning: Covariance of the parameters could not be estimated\n",
      "  warnings.warn('Covariance of the parameters could not be estimated',\n"
     ]
    }
   ],
   "source": [
    "def parametric(t, t0, c, d):\n",
    "\n",
    "    # return c * ((t - t0)**2) + d\n",
    "    return c * ((t - t0)**2) + d*t\n",
    "\n",
    "def parametric_calib(t, mc_ideal):\n",
    "    \n",
    "    fitresult, _ = curve_fit(parametric, t, mc_ideal, maxfev=2000)\n",
    "    return fitresult\n",
    "\n",
    "fitresult = parametric_calib(peaks_chos, variables.listMaterial)\n",
    "\n",
    "\n",
    "mc_p_1 = parametric(variables.dld_t_calib, *fitresult)"
   ]
  },
  {
   "cell_type": "code",
   "execution_count": 101,
   "metadata": {},
   "outputs": [
    {
     "name": "stdout",
     "output_type": "stream",
     "text": [
      "The t0 is: 52.35718377338705 ns\n"
     ]
    }
   ],
   "source": [
    "print('The t0 is:', fitresult[0], 'ns')"
   ]
  },
  {
   "cell_type": "code",
   "execution_count": 102,
   "metadata": {
    "pycharm": {
     "name": "#%%\n"
    }
   },
   "outputs": [
    {
     "name": "stdout",
     "output_type": "stream",
     "text": [
      "The peak index for MRP calculation is: 2\n"
     ]
    },
    {
     "data": {
      "application/vnd.jupyter.widget-view+json": {
       "model_id": "2659f0fd364f40b4abc2516a3c4e7793",
       "version_major": 2,
       "version_minor": 0
      },
      "image/png": "[encoded data removed]",
      "text/html": [
       "\n",
       "            <div style=\"display: inline-block;\">\n",
       "                <div class=\"jupyter-widgets widget-label\" style=\"text-align: center;\">\n",
       "                    Figure\n",
       "                </div>\n",
       "                <img src='data:image/png;base64,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' width=354.3307086614173/>\n",
       "            </div>\n",
       "        "
      ],
      "text/plain": [
       "Canvas(toolbar=Toolbar(toolitems=[('Home', 'Reset original view', 'home', 'home'), ('Back', 'Back to previous …"
      ]
     },
     "metadata": {},
     "output_type": "display_data"
    },
    {
     "name": "stdout",
     "output_type": "stream",
     "text": [
      "Mass resolving power for the highest peak (MRP --> m/m_2-m_1): 269.01550939358486\n",
      "Peaks  0 is at location and height: (0.90, 118.00) peak window sides (half-maximum) are: (0.80, 1.00)\n",
      "Peaks  1 is at location and height: (13.44, 81784.00) peak window sides (half-maximum) are: (13.34, 13.54)\n",
      "Peaks  2 is at location and height: (26.97, 673199.00) peak window sides (half-maximum) are: (26.87, 26.97)\n"
     ]
    }
   ],
   "source": [
    "percent_mrp = 50\n",
    "# background = {'calculation': True, 'plot_no_back': True, 'plot': False, 'mode': 'fabc', 'patch': False, 'lam': 1e4, 'num_std': 5.0}\n",
    "background={'calculation': False}\n",
    "peak_p, peaks_y_p, peak_widths_p, _ = tools.hist_plot(mc_p_1[mc_p_1 < 75], 0.1, prominence=40, distance=20, text_loc='right', percent=percent_mrp, plot=True, fig_name='mc2_p_1'+figname, background=background)\n",
    "index_max_ini = np.argmax(peaks_y_p)\n",
    "mrp = (peak_p[index_max_ini] / (peak_widths_p[index_max_ini][2] - peak_widths_p[index_max_ini][1]))\n",
    "print('Mass resolving power for the highest peak (MRP --> m/m_2-m_1):', mrp)\n",
    "for i in range(len(peak_p)):\n",
    "    print('Peaks ', i, 'is at location and height: ({:.2f}, {:.2f})'.format(peak_p[i], peaks_y_p[i]), 'peak window sides (half-maximum) are: ({:.2f}, {:.2f})'.format(peak_widths_p[i][1], peak_widths_p[i][2]))"
   ]
  },
  {
   "cell_type": "code",
   "execution_count": 77,
   "metadata": {
    "tags": []
   },
   "outputs": [
    {
     "data": {
      "text/plain": [
       "144.6475601822121"
      ]
     },
     "execution_count": 77,
     "metadata": {},
     "output_type": "execute_result"
    }
   ],
   "source": [
    "# np.sqrt(((1.0 * 1.66E-27 * (110 * 1E-3) ** 2)) / (2 * 1.6E-19  * 3000)) * 1E9 # in ns"
   ]
  },
  {
   "cell_type": "code",
   "execution_count": 58,
   "metadata": {
    "tags": []
   },
   "outputs": [
    {
     "data": {
      "text/html": [
       "<div>\n",
       "<style scoped>\n",
       "    .dataframe tbody tr th:only-of-type {\n",
       "        vertical-align: middle;\n",
       "    }\n",
       "\n",
       "    .dataframe tbody tr th {\n",
       "        vertical-align: top;\n",
       "    }\n",
       "\n",
       "    .dataframe thead th {\n",
       "        text-align: right;\n",
       "    }\n",
       "</style>\n",
       "<table border=\"1\" class=\"dataframe\">\n",
       "  <thead>\n",
       "    <tr style=\"text-align: right;\">\n",
       "      <th></th>\n",
       "      <th>x (nm)</th>\n",
       "      <th>y (nm)</th>\n",
       "      <th>z (nm)</th>\n",
       "      <th>mc_c (Da)</th>\n",
       "      <th>mc (Da)</th>\n",
       "      <th>high_voltage (V)</th>\n",
       "      <th>pulse (V)</th>\n",
       "      <th>start_counter</th>\n",
       "      <th>t (ns)</th>\n",
       "      <th>t_c (nm)</th>\n",
       "      <th>x_det (cm)</th>\n",
       "      <th>y_det (cm)</th>\n",
       "      <th>pulse_pi</th>\n",
       "      <th>ion_pp</th>\n",
       "    </tr>\n",
       "  </thead>\n",
       "  <tbody>\n",
       "    <tr>\n",
       "      <th>0</th>\n",
       "      <td>0.943917</td>\n",
       "      <td>-0.463124</td>\n",
       "      <td>0.019942</td>\n",
       "      <td>91.527626</td>\n",
       "      <td>0.0</td>\n",
       "      <td>3682.110107</td>\n",
       "      <td>0.0</td>\n",
       "      <td>0.0</td>\n",
       "      <td>3891.519531</td>\n",
       "      <td>0.0</td>\n",
       "      <td>0.392873</td>\n",
       "      <td>0.057275</td>\n",
       "      <td>0</td>\n",
       "      <td>1</td>\n",
       "    </tr>\n",
       "    <tr>\n",
       "      <th>1</th>\n",
       "      <td>2.270334</td>\n",
       "      <td>-5.010604</td>\n",
       "      <td>0.551171</td>\n",
       "      <td>91.982094</td>\n",
       "      <td>0.0</td>\n",
       "      <td>3682.110107</td>\n",
       "      <td>0.0</td>\n",
       "      <td>0.0</td>\n",
       "      <td>3904.508789</td>\n",
       "      <td>0.0</td>\n",
       "      <td>0.702811</td>\n",
       "      <td>-0.243931</td>\n",
       "      <td>43</td>\n",
       "      <td>1</td>\n",
       "    </tr>\n",
       "    <tr>\n",
       "      <th>2</th>\n",
       "      <td>-5.462508</td>\n",
       "      <td>0.471533</td>\n",
       "      <td>0.547564</td>\n",
       "      <td>92.993858</td>\n",
       "      <td>0.0</td>\n",
       "      <td>3682.110107</td>\n",
       "      <td>0.0</td>\n",
       "      <td>0.0</td>\n",
       "      <td>3878.014160</td>\n",
       "      <td>0.0</td>\n",
       "      <td>-0.112540</td>\n",
       "      <td>-0.152062</td>\n",
       "      <td>211</td>\n",
       "      <td>1</td>\n",
       "    </tr>\n",
       "    <tr>\n",
       "      <th>3</th>\n",
       "      <td>8.305490</td>\n",
       "      <td>4.298521</td>\n",
       "      <td>1.624813</td>\n",
       "      <td>60.973576</td>\n",
       "      <td>0.0</td>\n",
       "      <td>3682.110107</td>\n",
       "      <td>0.0</td>\n",
       "      <td>0.0</td>\n",
       "      <td>3204.297363</td>\n",
       "      <td>0.0</td>\n",
       "      <td>0.712028</td>\n",
       "      <td>0.788533</td>\n",
       "      <td>66</td>\n",
       "      <td>1</td>\n",
       "    </tr>\n",
       "    <tr>\n",
       "      <th>4</th>\n",
       "      <td>2.990205</td>\n",
       "      <td>0.078835</td>\n",
       "      <td>0.161882</td>\n",
       "      <td>61.330170</td>\n",
       "      <td>0.0</td>\n",
       "      <td>3682.110107</td>\n",
       "      <td>0.0</td>\n",
       "      <td>0.0</td>\n",
       "      <td>3195.071777</td>\n",
       "      <td>0.0</td>\n",
       "      <td>0.512681</td>\n",
       "      <td>0.189050</td>\n",
       "      <td>18</td>\n",
       "      <td>1</td>\n",
       "    </tr>\n",
       "    <tr>\n",
       "      <th>...</th>\n",
       "      <td>...</td>\n",
       "      <td>...</td>\n",
       "      <td>...</td>\n",
       "      <td>...</td>\n",
       "      <td>...</td>\n",
       "      <td>...</td>\n",
       "      <td>...</td>\n",
       "      <td>...</td>\n",
       "      <td>...</td>\n",
       "      <td>...</td>\n",
       "      <td>...</td>\n",
       "      <td>...</td>\n",
       "      <td>...</td>\n",
       "      <td>...</td>\n",
       "    </tr>\n",
       "    <tr>\n",
       "      <th>549698</th>\n",
       "      <td>-4.680508</td>\n",
       "      <td>-0.665500</td>\n",
       "      <td>8.134455</td>\n",
       "      <td>99.078377</td>\n",
       "      <td>0.0</td>\n",
       "      <td>1334.670044</td>\n",
       "      <td>0.0</td>\n",
       "      <td>0.0</td>\n",
       "      <td>6555.320312</td>\n",
       "      <td>0.0</td>\n",
       "      <td>-0.575553</td>\n",
       "      <td>-0.705528</td>\n",
       "      <td>1</td>\n",
       "      <td>1</td>\n",
       "    </tr>\n",
       "    <tr>\n",
       "      <th>549699</th>\n",
       "      <td>-3.787911</td>\n",
       "      <td>-3.385010</td>\n",
       "      <td>8.331511</td>\n",
       "      <td>216.163483</td>\n",
       "      <td>0.0</td>\n",
       "      <td>1334.670044</td>\n",
       "      <td>0.0</td>\n",
       "      <td>0.0</td>\n",
       "      <td>9699.115234</td>\n",
       "      <td>0.0</td>\n",
       "      <td>-0.047374</td>\n",
       "      <td>-1.282389</td>\n",
       "      <td>43</td>\n",
       "      <td>1</td>\n",
       "    </tr>\n",
       "    <tr>\n",
       "      <th>549700</th>\n",
       "      <td>-2.945118</td>\n",
       "      <td>-1.283401</td>\n",
       "      <td>7.480402</td>\n",
       "      <td>101.124908</td>\n",
       "      <td>0.0</td>\n",
       "      <td>1334.670044</td>\n",
       "      <td>0.0</td>\n",
       "      <td>0.0</td>\n",
       "      <td>6691.295410</td>\n",
       "      <td>0.0</td>\n",
       "      <td>-0.129701</td>\n",
       "      <td>-0.605268</td>\n",
       "      <td>114</td>\n",
       "      <td>1</td>\n",
       "    </tr>\n",
       "    <tr>\n",
       "      <th>549701</th>\n",
       "      <td>-4.043397</td>\n",
       "      <td>-0.999465</td>\n",
       "      <td>7.856801</td>\n",
       "      <td>100.075027</td>\n",
       "      <td>0.0</td>\n",
       "      <td>1334.670044</td>\n",
       "      <td>0.0</td>\n",
       "      <td>0.0</td>\n",
       "      <td>6614.916504</td>\n",
       "      <td>0.0</td>\n",
       "      <td>-0.393382</td>\n",
       "      <td>-0.694126</td>\n",
       "      <td>211</td>\n",
       "      <td>1</td>\n",
       "    </tr>\n",
       "    <tr>\n",
       "      <th>549702</th>\n",
       "      <td>-3.605551</td>\n",
       "      <td>-1.773034</td>\n",
       "      <td>7.791200</td>\n",
       "      <td>93.055229</td>\n",
       "      <td>0.0</td>\n",
       "      <td>1334.670044</td>\n",
       "      <td>0.0</td>\n",
       "      <td>0.0</td>\n",
       "      <td>6389.932617</td>\n",
       "      <td>0.0</td>\n",
       "      <td>-0.201848</td>\n",
       "      <td>-0.819208</td>\n",
       "      <td>531</td>\n",
       "      <td>1</td>\n",
       "    </tr>\n",
       "  </tbody>\n",
       "</table>\n",
       "<p>549703 rows × 14 columns</p>\n",
       "</div>"
      ],
      "text/plain": [
       "          x (nm)    y (nm)    z (nm)   mc_c (Da)  mc (Da)  high_voltage (V)  \\\n",
       "0       0.943917 -0.463124  0.019942   91.527626      0.0       3682.110107   \n",
       "1       2.270334 -5.010604  0.551171   91.982094      0.0       3682.110107   \n",
       "2      -5.462508  0.471533  0.547564   92.993858      0.0       3682.110107   \n",
       "3       8.305490  4.298521  1.624813   60.973576      0.0       3682.110107   \n",
       "4       2.990205  0.078835  0.161882   61.330170      0.0       3682.110107   \n",
       "...          ...       ...       ...         ...      ...               ...   \n",
       "549698 -4.680508 -0.665500  8.134455   99.078377      0.0       1334.670044   \n",
       "549699 -3.787911 -3.385010  8.331511  216.163483      0.0       1334.670044   \n",
       "549700 -2.945118 -1.283401  7.480402  101.124908      0.0       1334.670044   \n",
       "549701 -4.043397 -0.999465  7.856801  100.075027      0.0       1334.670044   \n",
       "549702 -3.605551 -1.773034  7.791200   93.055229      0.0       1334.670044   \n",
       "\n",
       "        pulse (V)  start_counter       t (ns)  t_c (nm)  x_det (cm)  \\\n",
       "0             0.0            0.0  3891.519531       0.0    0.392873   \n",
       "1             0.0            0.0  3904.508789       0.0    0.702811   \n",
       "2             0.0            0.0  3878.014160       0.0   -0.112540   \n",
       "3             0.0            0.0  3204.297363       0.0    0.712028   \n",
       "4             0.0            0.0  3195.071777       0.0    0.512681   \n",
       "...           ...            ...          ...       ...         ...   \n",
       "549698        0.0            0.0  6555.320312       0.0   -0.575553   \n",
       "549699        0.0            0.0  9699.115234       0.0   -0.047374   \n",
       "549700        0.0            0.0  6691.295410       0.0   -0.129701   \n",
       "549701        0.0            0.0  6614.916504       0.0   -0.393382   \n",
       "549702        0.0            0.0  6389.932617       0.0   -0.201848   \n",
       "\n",
       "        y_det (cm)  pulse_pi  ion_pp  \n",
       "0         0.057275         0       1  \n",
       "1        -0.243931        43       1  \n",
       "2        -0.152062       211       1  \n",
       "3         0.788533        66       1  \n",
       "4         0.189050        18       1  \n",
       "...            ...       ...     ...  \n",
       "549698   -0.705528         1       1  \n",
       "549699   -1.282389        43       1  \n",
       "549700   -0.605268       114       1  \n",
       "549701   -0.694126       211       1  \n",
       "549702   -0.819208       531       1  \n",
       "\n",
       "[549703 rows x 14 columns]"
      ]
     },
     "execution_count": 58,
     "metadata": {},
     "output_type": "execute_result"
    }
   ],
   "source": [
    "data"
   ]
  },
  {
   "cell_type": "code",
   "execution_count": 67,
   "metadata": {},
   "outputs": [],
   "source": [
    "data_c = data.copy(deep = True)\n",
    "data_c['t_c (ns)'] = variables.dld_t_calib\n",
    "# data_c['mc_c (Da)'] = mc_p_1"
   ]
  },
  {
   "cell_type": "code",
   "execution_count": 68,
   "metadata": {},
   "outputs": [],
   "source": [
    "# Remove negative mc\n",
    "# threshold = 0\n",
    "# mc_t = data_c['mc_c (Da)'].to_numpy()\n",
    "# mc_t_mask = (mc_t <= threshold)\n",
    "# print('The number of ions with negative mc are:', len(mc_t_mask[mc_t_mask==True]))\n",
    "# data_c.drop(np.where(mc_t_mask)[0], inplace=True)\n",
    "# data_c.reset_index(inplace=True, drop=True)"
   ]
  },
  {
   "cell_type": "code",
   "execution_count": 69,
   "metadata": {},
   "outputs": [
    {
     "data": {
      "text/html": [
       "<div>\n",
       "<style scoped>\n",
       "    .dataframe tbody tr th:only-of-type {\n",
       "        vertical-align: middle;\n",
       "    }\n",
       "\n",
       "    .dataframe tbody tr th {\n",
       "        vertical-align: top;\n",
       "    }\n",
       "\n",
       "    .dataframe thead th {\n",
       "        text-align: right;\n",
       "    }\n",
       "</style>\n",
       "<table border=\"1\" class=\"dataframe\">\n",
       "  <thead>\n",
       "    <tr style=\"text-align: right;\">\n",
       "      <th></th>\n",
       "      <th>x (nm)</th>\n",
       "      <th>y (nm)</th>\n",
       "      <th>z (nm)</th>\n",
       "      <th>mc_c (Da)</th>\n",
       "      <th>mc (Da)</th>\n",
       "      <th>high_voltage (V)</th>\n",
       "      <th>pulse (V)</th>\n",
       "      <th>start_counter</th>\n",
       "      <th>t (ns)</th>\n",
       "      <th>t_c (nm)</th>\n",
       "      <th>x_det (cm)</th>\n",
       "      <th>y_det (cm)</th>\n",
       "      <th>pulse_pi</th>\n",
       "      <th>ion_pp</th>\n",
       "      <th>t_c (ns)</th>\n",
       "    </tr>\n",
       "  </thead>\n",
       "  <tbody>\n",
       "    <tr>\n",
       "      <th>0</th>\n",
       "      <td>0.943917</td>\n",
       "      <td>-0.463124</td>\n",
       "      <td>0.019942</td>\n",
       "      <td>91.527626</td>\n",
       "      <td>0.0</td>\n",
       "      <td>3682.110107</td>\n",
       "      <td>0.0</td>\n",
       "      <td>0.0</td>\n",
       "      <td>3891.519531</td>\n",
       "      <td>0.0</td>\n",
       "      <td>0.392873</td>\n",
       "      <td>0.057275</td>\n",
       "      <td>0</td>\n",
       "      <td>1</td>\n",
       "      <td>4239.131558</td>\n",
       "    </tr>\n",
       "    <tr>\n",
       "      <th>1</th>\n",
       "      <td>2.270334</td>\n",
       "      <td>-5.010604</td>\n",
       "      <td>0.551171</td>\n",
       "      <td>91.982094</td>\n",
       "      <td>0.0</td>\n",
       "      <td>3682.110107</td>\n",
       "      <td>0.0</td>\n",
       "      <td>0.0</td>\n",
       "      <td>3904.508789</td>\n",
       "      <td>0.0</td>\n",
       "      <td>0.702811</td>\n",
       "      <td>-0.243931</td>\n",
       "      <td>43</td>\n",
       "      <td>1</td>\n",
       "      <td>4248.225144</td>\n",
       "    </tr>\n",
       "    <tr>\n",
       "      <th>2</th>\n",
       "      <td>-5.462508</td>\n",
       "      <td>0.471533</td>\n",
       "      <td>0.547564</td>\n",
       "      <td>92.993858</td>\n",
       "      <td>0.0</td>\n",
       "      <td>3682.110107</td>\n",
       "      <td>0.0</td>\n",
       "      <td>0.0</td>\n",
       "      <td>3878.014160</td>\n",
       "      <td>0.0</td>\n",
       "      <td>-0.112540</td>\n",
       "      <td>-0.152062</td>\n",
       "      <td>211</td>\n",
       "      <td>1</td>\n",
       "      <td>4267.018864</td>\n",
       "    </tr>\n",
       "    <tr>\n",
       "      <th>3</th>\n",
       "      <td>8.305490</td>\n",
       "      <td>4.298521</td>\n",
       "      <td>1.624813</td>\n",
       "      <td>60.973576</td>\n",
       "      <td>0.0</td>\n",
       "      <td>3682.110107</td>\n",
       "      <td>0.0</td>\n",
       "      <td>0.0</td>\n",
       "      <td>3204.297363</td>\n",
       "      <td>0.0</td>\n",
       "      <td>0.712028</td>\n",
       "      <td>0.788533</td>\n",
       "      <td>66</td>\n",
       "      <td>1</td>\n",
       "      <td>3461.230088</td>\n",
       "    </tr>\n",
       "    <tr>\n",
       "      <th>4</th>\n",
       "      <td>2.990205</td>\n",
       "      <td>0.078835</td>\n",
       "      <td>0.161882</td>\n",
       "      <td>61.330170</td>\n",
       "      <td>0.0</td>\n",
       "      <td>3682.110107</td>\n",
       "      <td>0.0</td>\n",
       "      <td>0.0</td>\n",
       "      <td>3195.071777</td>\n",
       "      <td>0.0</td>\n",
       "      <td>0.512681</td>\n",
       "      <td>0.189050</td>\n",
       "      <td>18</td>\n",
       "      <td>1</td>\n",
       "      <td>3471.082777</td>\n",
       "    </tr>\n",
       "    <tr>\n",
       "      <th>...</th>\n",
       "      <td>...</td>\n",
       "      <td>...</td>\n",
       "      <td>...</td>\n",
       "      <td>...</td>\n",
       "      <td>...</td>\n",
       "      <td>...</td>\n",
       "      <td>...</td>\n",
       "      <td>...</td>\n",
       "      <td>...</td>\n",
       "      <td>...</td>\n",
       "      <td>...</td>\n",
       "      <td>...</td>\n",
       "      <td>...</td>\n",
       "      <td>...</td>\n",
       "      <td>...</td>\n",
       "    </tr>\n",
       "    <tr>\n",
       "      <th>549698</th>\n",
       "      <td>-4.680508</td>\n",
       "      <td>-0.665500</td>\n",
       "      <td>8.134455</td>\n",
       "      <td>99.078377</td>\n",
       "      <td>0.0</td>\n",
       "      <td>1334.670044</td>\n",
       "      <td>0.0</td>\n",
       "      <td>0.0</td>\n",
       "      <td>6555.320312</td>\n",
       "      <td>0.0</td>\n",
       "      <td>-0.575553</td>\n",
       "      <td>-0.705528</td>\n",
       "      <td>1</td>\n",
       "      <td>1</td>\n",
       "      <td>4738.564447</td>\n",
       "    </tr>\n",
       "    <tr>\n",
       "      <th>549699</th>\n",
       "      <td>-3.787911</td>\n",
       "      <td>-3.385010</td>\n",
       "      <td>8.331511</td>\n",
       "      <td>216.163483</td>\n",
       "      <td>0.0</td>\n",
       "      <td>1334.670044</td>\n",
       "      <td>0.0</td>\n",
       "      <td>0.0</td>\n",
       "      <td>9699.115234</td>\n",
       "      <td>0.0</td>\n",
       "      <td>-0.047374</td>\n",
       "      <td>-1.282389</td>\n",
       "      <td>43</td>\n",
       "      <td>1</td>\n",
       "      <td>7004.295261</td>\n",
       "    </tr>\n",
       "    <tr>\n",
       "      <th>549700</th>\n",
       "      <td>-2.945118</td>\n",
       "      <td>-1.283401</td>\n",
       "      <td>7.480402</td>\n",
       "      <td>101.124908</td>\n",
       "      <td>0.0</td>\n",
       "      <td>1334.670044</td>\n",
       "      <td>0.0</td>\n",
       "      <td>0.0</td>\n",
       "      <td>6691.295410</td>\n",
       "      <td>0.0</td>\n",
       "      <td>-0.129701</td>\n",
       "      <td>-0.605268</td>\n",
       "      <td>114</td>\n",
       "      <td>1</td>\n",
       "      <td>4787.932694</td>\n",
       "    </tr>\n",
       "    <tr>\n",
       "      <th>549701</th>\n",
       "      <td>-4.043397</td>\n",
       "      <td>-0.999465</td>\n",
       "      <td>7.856801</td>\n",
       "      <td>100.075027</td>\n",
       "      <td>0.0</td>\n",
       "      <td>1334.670044</td>\n",
       "      <td>0.0</td>\n",
       "      <td>0.0</td>\n",
       "      <td>6614.916504</td>\n",
       "      <td>0.0</td>\n",
       "      <td>-0.393382</td>\n",
       "      <td>-0.694126</td>\n",
       "      <td>211</td>\n",
       "      <td>1</td>\n",
       "      <td>4762.872355</td>\n",
       "    </tr>\n",
       "    <tr>\n",
       "      <th>549702</th>\n",
       "      <td>-3.605551</td>\n",
       "      <td>-1.773034</td>\n",
       "      <td>7.791200</td>\n",
       "      <td>93.055229</td>\n",
       "      <td>0.0</td>\n",
       "      <td>1334.670044</td>\n",
       "      <td>0.0</td>\n",
       "      <td>0.0</td>\n",
       "      <td>6389.932617</td>\n",
       "      <td>0.0</td>\n",
       "      <td>-0.201848</td>\n",
       "      <td>-0.819208</td>\n",
       "      <td>531</td>\n",
       "      <td>1</td>\n",
       "      <td>4592.155897</td>\n",
       "    </tr>\n",
       "  </tbody>\n",
       "</table>\n",
       "<p>549703 rows × 15 columns</p>\n",
       "</div>"
      ],
      "text/plain": [
       "          x (nm)    y (nm)    z (nm)   mc_c (Da)  mc (Da)  high_voltage (V)  \\\n",
       "0       0.943917 -0.463124  0.019942   91.527626      0.0       3682.110107   \n",
       "1       2.270334 -5.010604  0.551171   91.982094      0.0       3682.110107   \n",
       "2      -5.462508  0.471533  0.547564   92.993858      0.0       3682.110107   \n",
       "3       8.305490  4.298521  1.624813   60.973576      0.0       3682.110107   \n",
       "4       2.990205  0.078835  0.161882   61.330170      0.0       3682.110107   \n",
       "...          ...       ...       ...         ...      ...               ...   \n",
       "549698 -4.680508 -0.665500  8.134455   99.078377      0.0       1334.670044   \n",
       "549699 -3.787911 -3.385010  8.331511  216.163483      0.0       1334.670044   \n",
       "549700 -2.945118 -1.283401  7.480402  101.124908      0.0       1334.670044   \n",
       "549701 -4.043397 -0.999465  7.856801  100.075027      0.0       1334.670044   \n",
       "549702 -3.605551 -1.773034  7.791200   93.055229      0.0       1334.670044   \n",
       "\n",
       "        pulse (V)  start_counter       t (ns)  t_c (nm)  x_det (cm)  \\\n",
       "0             0.0            0.0  3891.519531       0.0    0.392873   \n",
       "1             0.0            0.0  3904.508789       0.0    0.702811   \n",
       "2             0.0            0.0  3878.014160       0.0   -0.112540   \n",
       "3             0.0            0.0  3204.297363       0.0    0.712028   \n",
       "4             0.0            0.0  3195.071777       0.0    0.512681   \n",
       "...           ...            ...          ...       ...         ...   \n",
       "549698        0.0            0.0  6555.320312       0.0   -0.575553   \n",
       "549699        0.0            0.0  9699.115234       0.0   -0.047374   \n",
       "549700        0.0            0.0  6691.295410       0.0   -0.129701   \n",
       "549701        0.0            0.0  6614.916504       0.0   -0.393382   \n",
       "549702        0.0            0.0  6389.932617       0.0   -0.201848   \n",
       "\n",
       "        y_det (cm)  pulse_pi  ion_pp     t_c (ns)  \n",
       "0         0.057275         0       1  4239.131558  \n",
       "1        -0.243931        43       1  4248.225144  \n",
       "2        -0.152062       211       1  4267.018864  \n",
       "3         0.788533        66       1  3461.230088  \n",
       "4         0.189050        18       1  3471.082777  \n",
       "...            ...       ...     ...          ...  \n",
       "549698   -0.705528         1       1  4738.564447  \n",
       "549699   -1.282389        43       1  7004.295261  \n",
       "549700   -0.605268       114       1  4787.932694  \n",
       "549701   -0.694126       211       1  4762.872355  \n",
       "549702   -0.819208       531       1  4592.155897  \n",
       "\n",
       "[549703 rows x 15 columns]"
      ]
     },
     "execution_count": 69,
     "metadata": {},
     "output_type": "execute_result"
    }
   ],
   "source": [
    "data_c"
   ]
  },
  {
   "cell_type": "code",
   "execution_count": 61,
   "metadata": {},
   "outputs": [
    {
     "ename": "NameError",
     "evalue": "name 'mc_p_1' is not defined",
     "output_type": "error",
     "traceback": [
      "\u001b[1;31m---------------------------------------------------------------------------\u001b[0m",
      "\u001b[1;31mNameError\u001b[0m                                 Traceback (most recent call last)",
      "Cell \u001b[1;32mIn[61], line 3\u001b[0m\n\u001b[0;32m      1\u001b[0m cc \u001b[38;5;241m=\u001b[39m data_c[\u001b[38;5;124m'\u001b[39m\u001b[38;5;124mmc_c (Da)\u001b[39m\u001b[38;5;124m'\u001b[39m]\u001b[38;5;241m.\u001b[39mto_numpy()\n\u001b[0;32m      2\u001b[0m \u001b[38;5;66;03m# cc[cc <= 0] = 0\u001b[39;00m\n\u001b[1;32m----> 3\u001b[0m peaks_ini, peaks_y_ini, peak_widths_p_ini, _ \u001b[38;5;241m=\u001b[39m tools\u001b[38;5;241m.\u001b[39mhist_plot(\u001b[43mmc_p_1\u001b[49m[mc_p_1 \u001b[38;5;241m<\u001b[39m \u001b[38;5;241m100\u001b[39m], \u001b[38;5;241m0.1\u001b[39m, distance\u001b[38;5;241m=\u001b[39m\u001b[38;5;241m10\u001b[39m, percent\u001b[38;5;241m=\u001b[39m\u001b[38;5;241m50\u001b[39m, prominence\u001b[38;5;241m=\u001b[39m\u001b[38;5;241m50\u001b[39m, selector\u001b[38;5;241m=\u001b[39m\u001b[38;5;124m'\u001b[39m\u001b[38;5;124mpeak\u001b[39m\u001b[38;5;124m'\u001b[39m, peaks_find_plot\u001b[38;5;241m=\u001b[39m\u001b[38;5;28;01mTrue\u001b[39;00m, plot\u001b[38;5;241m=\u001b[39m\u001b[38;5;28;01mTrue\u001b[39;00m, label\u001b[38;5;241m=\u001b[39m\u001b[38;5;124m'\u001b[39m\u001b[38;5;124mmc\u001b[39m\u001b[38;5;124m'\u001b[39m)\n\u001b[0;32m      4\u001b[0m peaks_ini, peaks_y_ini, peak_widths_p_ini, _ \u001b[38;5;241m=\u001b[39m tools\u001b[38;5;241m.\u001b[39mhist_plot(cc[cc \u001b[38;5;241m<\u001b[39m \u001b[38;5;241m100\u001b[39m], \u001b[38;5;241m0.1\u001b[39m, distance\u001b[38;5;241m=\u001b[39m\u001b[38;5;241m10\u001b[39m, percent\u001b[38;5;241m=\u001b[39m\u001b[38;5;241m50\u001b[39m, prominence\u001b[38;5;241m=\u001b[39m\u001b[38;5;241m50\u001b[39m, selector\u001b[38;5;241m=\u001b[39m\u001b[38;5;124m'\u001b[39m\u001b[38;5;124mpeak\u001b[39m\u001b[38;5;124m'\u001b[39m, peaks_find_plot\u001b[38;5;241m=\u001b[39m\u001b[38;5;28;01mTrue\u001b[39;00m, plot\u001b[38;5;241m=\u001b[39m\u001b[38;5;28;01mTrue\u001b[39;00m, label\u001b[38;5;241m=\u001b[39m\u001b[38;5;124m'\u001b[39m\u001b[38;5;124mmc\u001b[39m\u001b[38;5;124m'\u001b[39m)\n",
      "\u001b[1;31mNameError\u001b[0m: name 'mc_p_1' is not defined"
     ]
    }
   ],
   "source": [
    "cc = data_c['mc_c (Da)'].to_numpy()\n",
    "# cc[cc <= 0] = 0\n",
    "peaks_ini, peaks_y_ini, peak_widths_p_ini, _ = tools.hist_plot(mc_p_1[mc_p_1 < 100], 0.1, distance=10, percent=50, prominence=50, selector='peak', peaks_find_plot=True, plot=True, label='mc')\n",
    "peaks_ini, peaks_y_ini, peak_widths_p_ini, _ = tools.hist_plot(cc[cc < 100], 0.1, distance=10, percent=50, prominence=50, selector='peak', peaks_find_plot=True, plot=True, label='mc')"
   ]
  },
  {
   "cell_type": "code",
   "execution_count": 62,
   "metadata": {},
   "outputs": [],
   "source": [
    "# save the new data\n",
    "name_save_file = variables.result_path + '//' + dataset_name + '.h5'\n",
    "data_tools.store_df_to_hdf(name_save_file, data_c, 'df')"
   ]
  },
  {
   "cell_type": "code",
   "execution_count": 63,
   "metadata": {},
   "outputs": [],
   "source": [
    "# save data as epos file\n",
    "epos = ccapt_tools.ccapt_to_epos(data_c, pulse_mode=pulse_mode.value, path=variables.result_path, name=dataset_name + '.epos')\n",
    "pos = ccapt_tools.ccapt_to_pos(data_c, path=variables.result_path, name=dataset_name + '.POS')"
   ]
  },
  {
   "cell_type": "code",
   "execution_count": null,
   "metadata": {},
   "outputs": [],
   "source": [
    "# save data in csv format\n",
    "data_tools.store_df_to_csv(data_c, variables.result_path + dataset_name + '.csv')"
   ]
  },
  {
   "cell_type": "code",
   "execution_count": 64,
   "metadata": {
    "tags": []
   },
   "outputs": [
    {
     "data": {
      "text/plain": [
       "'D:/pyccapt/tests/data/tof_calibration/'"
      ]
     },
     "execution_count": 64,
     "metadata": {},
     "output_type": "execute_result"
    }
   ],
   "source": [
    "variables.result_path"
   ]
  },
  {
   "cell_type": "code",
   "execution_count": null,
   "metadata": {},
   "outputs": [],
   "source": []
  }
 ],
 "metadata": {
  "kernelspec": {
   "display_name": "Python 3 (ipykernel)",
   "language": "python",
   "name": "python3"
  },
  "language_info": {
   "codemirror_mode": {
    "name": "ipython",
    "version": 3
   },
   "file_extension": ".py",
   "mimetype": "text/x-python",
   "name": "python",
   "nbconvert_exporter": "python",
   "pygments_lexer": "ipython3",
   "version": "3.8.16"
  }
 },
 "nbformat": 4,
 "nbformat_minor": 4
}

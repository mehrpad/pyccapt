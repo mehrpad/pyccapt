{
 "cells": [
  {
   "cell_type": "code",
   "execution_count": 2,
   "metadata": {
    "pycharm": {
     "name": "#%%\n"
    }
   },
   "outputs": [],
   "source": [
    "%matplotlib ipympl\n",
    "import os\n",
    "import os.path as path\n",
    "import logging, sys\n",
    "import numpy as np\n",
    "from scipy.optimize import curve_fit\n",
    "from scipy import interpolate\n",
    "from sklearn.preprocessing import MinMaxScaler\n",
    "import matplotlib.pyplot as plt\n",
    "from ipywidgets import fixed, interact_manual, widgets\n",
    "from ipywidgets import HBox, VBox\n",
    "from IPython.display import clear_output\n",
    "from IPython.display import display\n",
    "from ipywidgets import IntSlider, Output\n",
    "from itertools import product\n",
    "from scipy.signal import find_peaks\n",
    "import math\n",
    "from mpl_toolkits.mplot3d import Axes3D\n",
    "\n",
    "# Local module and scripts\n",
    "from pyccapt.calibration.calibration_tools import tools, variables, calibration\n",
    "from pyccapt.calibration.calibration_tools import widgets as wd\n",
    "from pyccapt.calibration.data_tools import data_tools, data_loadcrop, dataset_path_qt\n",
    "from pyccapt.calibration.mc import mc_tools\n",
    "from pyccapt.calibration.leap_tools import ccapt_tools"
   ]
  },
  {
   "cell_type": "code",
   "execution_count": 53,
   "metadata": {},
   "outputs": [
    {
     "name": "stdout",
     "output_type": "stream",
     "text": [
      "The autoreload extension is already loaded. To reload it, use:\n",
      "  %reload_ext autoreload\n"
     ]
    }
   ],
   "source": [
    "%load_ext autoreload\n",
    "%autoreload 2"
   ]
  },
  {
   "cell_type": "code",
   "execution_count": 55,
   "metadata": {},
   "outputs": [],
   "source": [
    "%reload_ext autoreload"
   ]
  },
  {
   "cell_type": "code",
   "execution_count": 5,
   "metadata": {
    "pycharm": {
     "name": "#%%\n"
    }
   },
   "outputs": [],
   "source": [
    "# Disable showing logging in Jupyter notebook\n",
    "logging.disable(sys.maxsize)"
   ]
  },
  {
   "cell_type": "code",
   "execution_count": 6,
   "metadata": {},
   "outputs": [
    {
     "data": {
      "application/vnd.jupyter.widget-view+json": {
       "model_id": "e08b3929ad154094a3e6bec49896fed1",
       "version_major": 2,
       "version_minor": 0
      },
      "text/plain": [
       "Button(description='load dataset', style=ButtonStyle())"
      ]
     },
     "execution_count": 6,
     "metadata": {},
     "output_type": "execute_result"
    }
   ],
   "source": [
    "button = widgets.Button(\n",
    "    description='load dataset',\n",
    ")\n",
    "\n",
    "@button.on_click\n",
    "def open_file_on_click(b):\n",
    "    global dataset_path\n",
    "    dataset_path = dataset_path_qt.gui_fname().decode('ASCII')\n",
    "button"
   ]
  },
  {
   "cell_type": "code",
   "execution_count": 7,
   "metadata": {},
   "outputs": [
    {
     "data": {
      "application/vnd.jupyter.widget-view+json": {
       "model_id": "aabcfc33ed044ac19cf032d34527d0e4",
       "version_major": 2,
       "version_minor": 0
      },
      "text/plain": [
       "Dropdown(description='Data mode:', options=('surface_concept', 'roentdec', 'leap_epos', 'leap_pos'), value='su…"
      ]
     },
     "metadata": {},
     "output_type": "display_data"
    },
    {
     "data": {
      "application/vnd.jupyter.widget-view+json": {
       "model_id": "1c227b12ad064e60818be2abdfcf2db1",
       "version_major": 2,
       "version_minor": 0
      },
      "text/plain": [
       "FloatText(value=78.0, description='Detector diameter:')"
      ]
     },
     "metadata": {},
     "output_type": "display_data"
    },
    {
     "data": {
      "application/vnd.jupyter.widget-view+json": {
       "model_id": "589e989a4bc146528d3986746c697634",
       "version_major": 2,
       "version_minor": 0
      },
      "text/plain": [
       "Dropdown(description='Pulse mode:', options=('voltage', 'laser'), value='voltage')"
      ]
     },
     "metadata": {},
     "output_type": "display_data"
    },
    {
     "data": {
      "application/vnd.jupyter.widget-view+json": {
       "model_id": "9aebed972377492fbfe2f8365b82d75d",
       "version_major": 2,
       "version_minor": 0
      },
      "text/plain": [
       "FloatText(value=110.0, description='Flight path length:')"
      ]
     },
     "metadata": {},
     "output_type": "display_data"
    },
    {
     "data": {
      "application/vnd.jupyter.widget-view+json": {
       "model_id": "823a3ca399e746589c5fc8caa3ce4e7a",
       "version_major": 2,
       "version_minor": 0
      },
      "text/plain": [
       "FloatText(value=54.0, description='t0:')"
      ]
     },
     "metadata": {},
     "output_type": "display_data"
    }
   ],
   "source": [
    "tdc, pulse_mode, flightPathLength_d, t0_d, max_mc, det_diam = wd.dataset_tdc_selection()\n",
    "display(tdc, det_diam, pulse_mode, flightPathLength_d, t0_d)"
   ]
  },
  {
   "cell_type": "markdown",
   "metadata": {
    "pycharm": {
     "name": "#%% md\n"
    }
   },
   "source": [
    "$$\\textbf{You can specify which dataset to use in below block}$$"
   ]
  },
  {
   "cell_type": "code",
   "execution_count": 49,
   "metadata": {
    "pycharm": {
     "name": "#%%\n"
    }
   },
   "outputs": [
    {
     "name": "stdout",
     "output_type": "stream",
     "text": [
      "The result will be saved on the path: D:/pyccapt/tests/data/data_124_Apr-18-2023_18-46_LFIM1/tof_calibration/\n"
     ]
    }
   ],
   "source": [
    "dataset_main_path = os.path.dirname(dataset_path)\n",
    "dataset_name_with_extention = os.path.basename(dataset_path)\n",
    "dataset_name = os.path.splitext(dataset_name_with_extention)[0]\n",
    "\n",
    "\n",
    "variables.init()\n",
    "# variables.path = os.path.join(p, 'tests//data')\n",
    "variables.result_path = os.path.dirname(dataset_main_path) +  '/tof_calibration/'\n",
    "if not os.path.isdir(variables.result_path):\n",
    "    os.makedirs(variables.result_path, mode=0o777, exist_ok=True)\n",
    "print('The result will be saved on the path:', variables.result_path)\n",
    "\n",
    "filename = dataset_path\n",
    "\n",
    "head, tail = os.path.split(filename)\n",
    "figname = os.path.splitext(tail)[0]\n",
    "\n",
    "if tdc.value == 'leap_pos' or tdc.value == 'leap_epos':\n",
    "    if tdc.value == 'leap_epos':\n",
    "        data = ccapt_tools.epos_to_ccapt(filename)\n",
    "    else:\n",
    "        print('The file has to be epos. With pos information this tutorial cannot be run')\n",
    "        data = ccapt_tools.pos_to_ccapt(filename)\n",
    "else:\n",
    "    data = data_tools.read_hdf5_through_pandas(filename)\n"
   ]
  },
  {
   "cell_type": "code",
   "execution_count": 50,
   "metadata": {
    "pycharm": {
     "name": "#%%\n"
    }
   },
   "outputs": [
    {
     "data": {
      "text/html": [
       "<div>\n",
       "<style scoped>\n",
       "    .dataframe tbody tr th:only-of-type {\n",
       "        vertical-align: middle;\n",
       "    }\n",
       "\n",
       "    .dataframe tbody tr th {\n",
       "        vertical-align: top;\n",
       "    }\n",
       "\n",
       "    .dataframe thead th {\n",
       "        text-align: right;\n",
       "    }\n",
       "</style>\n",
       "<table border=\"1\" class=\"dataframe\">\n",
       "  <thead>\n",
       "    <tr style=\"text-align: right;\">\n",
       "      <th></th>\n",
       "      <th>x (nm)</th>\n",
       "      <th>y (nm)</th>\n",
       "      <th>z (nm)</th>\n",
       "      <th>mc_c (Da)</th>\n",
       "      <th>mc (Da)</th>\n",
       "      <th>high_voltage (V)</th>\n",
       "      <th>pulse (deg)</th>\n",
       "      <th>start_counter</th>\n",
       "      <th>t (ns)</th>\n",
       "      <th>t_c (ns)</th>\n",
       "      <th>x_det (cm)</th>\n",
       "      <th>y_det (cm)</th>\n",
       "      <th>pulse_pi</th>\n",
       "      <th>ion_pp</th>\n",
       "    </tr>\n",
       "  </thead>\n",
       "  <tbody>\n",
       "    <tr>\n",
       "      <th>0</th>\n",
       "      <td>0.0</td>\n",
       "      <td>0.0</td>\n",
       "      <td>0.0</td>\n",
       "      <td>0.0</td>\n",
       "      <td>0.866215</td>\n",
       "      <td>8118.056152</td>\n",
       "      <td>230.0</td>\n",
       "      <td>214.0</td>\n",
       "      <td>214.0</td>\n",
       "      <td>0.0</td>\n",
       "      <td>1.032970</td>\n",
       "      <td>0.558104</td>\n",
       "      <td>0</td>\n",
       "      <td>1</td>\n",
       "    </tr>\n",
       "    <tr>\n",
       "      <th>1</th>\n",
       "      <td>0.0</td>\n",
       "      <td>0.0</td>\n",
       "      <td>0.0</td>\n",
       "      <td>0.0</td>\n",
       "      <td>101.605702</td>\n",
       "      <td>8118.056152</td>\n",
       "      <td>230.0</td>\n",
       "      <td>2007.0</td>\n",
       "      <td>2007.0</td>\n",
       "      <td>0.0</td>\n",
       "      <td>-2.864820</td>\n",
       "      <td>-1.211240</td>\n",
       "      <td>1793</td>\n",
       "      <td>1</td>\n",
       "    </tr>\n",
       "    <tr>\n",
       "      <th>2</th>\n",
       "      <td>0.0</td>\n",
       "      <td>0.0</td>\n",
       "      <td>0.0</td>\n",
       "      <td>0.0</td>\n",
       "      <td>340.906069</td>\n",
       "      <td>8118.056152</td>\n",
       "      <td>230.0</td>\n",
       "      <td>3643.0</td>\n",
       "      <td>3643.0</td>\n",
       "      <td>0.0</td>\n",
       "      <td>-2.689240</td>\n",
       "      <td>0.717955</td>\n",
       "      <td>3643</td>\n",
       "      <td>1</td>\n",
       "    </tr>\n",
       "    <tr>\n",
       "      <th>3</th>\n",
       "      <td>0.0</td>\n",
       "      <td>0.0</td>\n",
       "      <td>0.0</td>\n",
       "      <td>0.0</td>\n",
       "      <td>334.185929</td>\n",
       "      <td>8118.056152</td>\n",
       "      <td>230.0</td>\n",
       "      <td>3615.0</td>\n",
       "      <td>3615.0</td>\n",
       "      <td>0.0</td>\n",
       "      <td>-0.171491</td>\n",
       "      <td>-3.212160</td>\n",
       "      <td>0</td>\n",
       "      <td>0</td>\n",
       "    </tr>\n",
       "    <tr>\n",
       "      <th>4</th>\n",
       "      <td>0.0</td>\n",
       "      <td>0.0</td>\n",
       "      <td>0.0</td>\n",
       "      <td>0.0</td>\n",
       "      <td>98.995943</td>\n",
       "      <td>8118.056152</td>\n",
       "      <td>230.0</td>\n",
       "      <td>1983.0</td>\n",
       "      <td>1983.0</td>\n",
       "      <td>0.0</td>\n",
       "      <td>-3.106970</td>\n",
       "      <td>0.977451</td>\n",
       "      <td>0</td>\n",
       "      <td>0</td>\n",
       "    </tr>\n",
       "    <tr>\n",
       "      <th>...</th>\n",
       "      <td>...</td>\n",
       "      <td>...</td>\n",
       "      <td>...</td>\n",
       "      <td>...</td>\n",
       "      <td>...</td>\n",
       "      <td>...</td>\n",
       "      <td>...</td>\n",
       "      <td>...</td>\n",
       "      <td>...</td>\n",
       "      <td>...</td>\n",
       "      <td>...</td>\n",
       "      <td>...</td>\n",
       "      <td>...</td>\n",
       "      <td>...</td>\n",
       "    </tr>\n",
       "    <tr>\n",
       "      <th>690611</th>\n",
       "      <td>0.0</td>\n",
       "      <td>0.0</td>\n",
       "      <td>0.0</td>\n",
       "      <td>0.0</td>\n",
       "      <td>65.528238</td>\n",
       "      <td>7221.176270</td>\n",
       "      <td>242.0</td>\n",
       "      <td>1706.0</td>\n",
       "      <td>1706.0</td>\n",
       "      <td>0.0</td>\n",
       "      <td>1.399840</td>\n",
       "      <td>1.460980</td>\n",
       "      <td>1706</td>\n",
       "      <td>1</td>\n",
       "    </tr>\n",
       "    <tr>\n",
       "      <th>690612</th>\n",
       "      <td>0.0</td>\n",
       "      <td>0.0</td>\n",
       "      <td>0.0</td>\n",
       "      <td>0.0</td>\n",
       "      <td>100.876531</td>\n",
       "      <td>7221.176270</td>\n",
       "      <td>242.0</td>\n",
       "      <td>2121.0</td>\n",
       "      <td>2121.0</td>\n",
       "      <td>0.0</td>\n",
       "      <td>-2.308090</td>\n",
       "      <td>2.408430</td>\n",
       "      <td>415</td>\n",
       "      <td>1</td>\n",
       "    </tr>\n",
       "    <tr>\n",
       "      <th>690613</th>\n",
       "      <td>0.0</td>\n",
       "      <td>0.0</td>\n",
       "      <td>0.0</td>\n",
       "      <td>0.0</td>\n",
       "      <td>98.712700</td>\n",
       "      <td>7221.176270</td>\n",
       "      <td>242.0</td>\n",
       "      <td>2096.0</td>\n",
       "      <td>2096.0</td>\n",
       "      <td>0.0</td>\n",
       "      <td>3.067440</td>\n",
       "      <td>-0.521695</td>\n",
       "      <td>4294967271</td>\n",
       "      <td>1</td>\n",
       "    </tr>\n",
       "    <tr>\n",
       "      <th>690614</th>\n",
       "      <td>0.0</td>\n",
       "      <td>0.0</td>\n",
       "      <td>0.0</td>\n",
       "      <td>0.0</td>\n",
       "      <td>99.510744</td>\n",
       "      <td>7221.176270</td>\n",
       "      <td>242.0</td>\n",
       "      <td>2099.0</td>\n",
       "      <td>2099.0</td>\n",
       "      <td>0.0</td>\n",
       "      <td>-0.463658</td>\n",
       "      <td>-2.527050</td>\n",
       "      <td>2099</td>\n",
       "      <td>1</td>\n",
       "    </tr>\n",
       "    <tr>\n",
       "      <th>690615</th>\n",
       "      <td>0.0</td>\n",
       "      <td>0.0</td>\n",
       "      <td>0.0</td>\n",
       "      <td>0.0</td>\n",
       "      <td>303.286304</td>\n",
       "      <td>7221.176270</td>\n",
       "      <td>242.0</td>\n",
       "      <td>3623.0</td>\n",
       "      <td>3623.0</td>\n",
       "      <td>0.0</td>\n",
       "      <td>-0.964503</td>\n",
       "      <td>-0.349587</td>\n",
       "      <td>1524</td>\n",
       "      <td>1</td>\n",
       "    </tr>\n",
       "  </tbody>\n",
       "</table>\n",
       "<p>690616 rows × 14 columns</p>\n",
       "</div>"
      ],
      "text/plain": [
       "        x (nm)  y (nm)  z (nm)  mc_c (Da)     mc (Da)  high_voltage (V)  \\\n",
       "0          0.0     0.0     0.0        0.0    0.866215       8118.056152   \n",
       "1          0.0     0.0     0.0        0.0  101.605702       8118.056152   \n",
       "2          0.0     0.0     0.0        0.0  340.906069       8118.056152   \n",
       "3          0.0     0.0     0.0        0.0  334.185929       8118.056152   \n",
       "4          0.0     0.0     0.0        0.0   98.995943       8118.056152   \n",
       "...        ...     ...     ...        ...         ...               ...   \n",
       "690611     0.0     0.0     0.0        0.0   65.528238       7221.176270   \n",
       "690612     0.0     0.0     0.0        0.0  100.876531       7221.176270   \n",
       "690613     0.0     0.0     0.0        0.0   98.712700       7221.176270   \n",
       "690614     0.0     0.0     0.0        0.0   99.510744       7221.176270   \n",
       "690615     0.0     0.0     0.0        0.0  303.286304       7221.176270   \n",
       "\n",
       "        pulse (deg)  start_counter  t (ns)  t_c (ns)  x_det (cm)  y_det (cm)  \\\n",
       "0             230.0          214.0   214.0       0.0    1.032970    0.558104   \n",
       "1             230.0         2007.0  2007.0       0.0   -2.864820   -1.211240   \n",
       "2             230.0         3643.0  3643.0       0.0   -2.689240    0.717955   \n",
       "3             230.0         3615.0  3615.0       0.0   -0.171491   -3.212160   \n",
       "4             230.0         1983.0  1983.0       0.0   -3.106970    0.977451   \n",
       "...             ...            ...     ...       ...         ...         ...   \n",
       "690611        242.0         1706.0  1706.0       0.0    1.399840    1.460980   \n",
       "690612        242.0         2121.0  2121.0       0.0   -2.308090    2.408430   \n",
       "690613        242.0         2096.0  2096.0       0.0    3.067440   -0.521695   \n",
       "690614        242.0         2099.0  2099.0       0.0   -0.463658   -2.527050   \n",
       "690615        242.0         3623.0  3623.0       0.0   -0.964503   -0.349587   \n",
       "\n",
       "          pulse_pi  ion_pp  \n",
       "0                0       1  \n",
       "1             1793       1  \n",
       "2             3643       1  \n",
       "3                0       0  \n",
       "4                0       0  \n",
       "...            ...     ...  \n",
       "690611        1706       1  \n",
       "690612         415       1  \n",
       "690613  4294967271       1  \n",
       "690614        2099       1  \n",
       "690615        1524       1  \n",
       "\n",
       "[690616 rows x 14 columns]"
      ]
     },
     "execution_count": 50,
     "metadata": {},
     "output_type": "execute_result"
    }
   ],
   "source": [
    "data"
   ]
  },
  {
   "cell_type": "code",
   "execution_count": 51,
   "metadata": {
    "pycharm": {
     "name": "#%%\n"
    }
   },
   "outputs": [],
   "source": [
    "# Remove negative TOF\n",
    "# threshold = 0\n",
    "# dld_t_mask = data['t (ns)'].to_numpy()\n",
    "# dld_t_mask = (dld_t <= threshold)\n",
    "# data.drop(np.where(dld_t_mask)[0], inplace=True)\n",
    "# data.reset_index(inplace=True, drop=True)\n"
   ]
  },
  {
   "cell_type": "code",
   "execution_count": 56,
   "metadata": {},
   "outputs": [
    {
     "name": "stderr",
     "output_type": "stream",
     "text": [
      "d:\\pyccapt\\pyccapt\\calibration\\data_tools\\data_loadcrop.py:174: UserWarning: This figure was using a layout engine that is incompatible with subplots_adjust and/or tight_layout; not calling subplots_adjust.\n",
      "  fig1.subplots_adjust(right=0.75)\n"
     ]
    },
    {
     "data": {
      "application/vnd.jupyter.widget-view+json": {
       "model_id": "019d73b319fd44c1b2faac0e4de4d806",
       "version_major": 2,
       "version_minor": 0
      },
      "image/png": "[encoded data removed]",
      "text/html": [
       "\n",
       "            <div style=\"display: inline-block;\">\n",
       "                <div class=\"jupyter-widgets widget-label\" style=\"text-align: center;\">\n",
       "                    Figure\n",
       "                </div>\n",
       "                <img src='data:image/png;base64,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' width=433.0708661417323/>\n",
       "            </div>\n",
       "        "
      ],
      "text/plain": [
       "Canvas(toolbar=Toolbar(toolitems=[('Home', 'Reset original view', 'home', 'home'), ('Back', 'Back to previous …"
      ]
     },
     "metadata": {},
     "output_type": "display_data"
    }
   ],
   "source": [
    "data_loadcrop.plot_crop_experimetn_history(data, save_name=variables.result_path + '//ex_hist_' + dataset_name)"
   ]
  },
  {
   "cell_type": "code",
   "execution_count": 57,
   "metadata": {},
   "outputs": [],
   "source": [
    "# exctract needed data from Pandas data frame as an numpy array\n",
    "dld_highVoltage = data['high_voltage (V)'].to_numpy()\n",
    "if pulse_mode.value == 'voltage':\n",
    "    dld_pulseVoltage = data['pulse (V)'].to_numpy()\n",
    "elif pulse_mode.value == 'laser':\n",
    "    dld_pulseVoltage = data['pulse (deg)'].to_numpy()\n",
    "dld_t = data['t (ns)'].to_numpy()\n",
    "dld_x = data['x_det (cm)'].to_numpy()\n",
    "dld_y = data['y_det (cm)'].to_numpy()\n",
    "# copy dld_t to a have a global version of that\n",
    "variables.dld_t_calib = np.copy(dld_t)\n",
    "variables.dld_t_calib_backup = np.copy(dld_t)"
   ]
  },
  {
   "cell_type": "code",
   "execution_count": 58,
   "metadata": {},
   "outputs": [],
   "source": [
    "ion_distance = np.sqrt(flightPathLength_d.value**2 + (dld_x*10)**2 + (dld_y*10)**2)\n",
    "ion_distance = flightPathLength_d.value / ion_distance\n",
    "dld_t = dld_t * ion_distance"
   ]
  },
  {
   "cell_type": "code",
   "execution_count": 59,
   "metadata": {},
   "outputs": [
    {
     "name": "stdout",
     "output_type": "stream",
     "text": [
      "The peak index for MRP calculation is: 1\n"
     ]
    },
    {
     "data": {
      "application/vnd.jupyter.widget-view+json": {
       "model_id": "8cc9e7e0979d42fd8f6b82b5d9770354",
       "version_major": 2,
       "version_minor": 0
      },
      "image/png": "[encoded data removed]",
      "text/html": [
       "\n",
       "            <div style=\"display: inline-block;\">\n",
       "                <div class=\"jupyter-widgets widget-label\" style=\"text-align: center;\">\n",
       "                    Figure\n",
       "                </div>\n",
       "                <img src='data:image/png;base64,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' width=354.3307086614173/>\n",
       "            </div>\n",
       "        "
      ],
      "text/plain": [
       "Canvas(toolbar=Toolbar(toolitems=[('Home', 'Reset original view', 'home', 'home'), ('Back', 'Back to previous …"
      ]
     },
     "metadata": {},
     "output_type": "display_data"
    },
    {
     "name": "stdout",
     "output_type": "stream",
     "text": [
      "Mass resolving power for the highest peak (MRP --> m/m_2-m_1): 60.80846747290187\n",
      "Peaks  0 is at location and height: (1588.88, 334.00) peak window sides (50.00%) are: (1573.49, 1598.58)\n",
      "Peaks  1 is at location and height: (1938.92, 922.00) peak window sides (50.00%) are: (1921.03, 1952.92)\n"
     ]
    }
   ],
   "source": [
    "percent_mrp = 50\n",
    "peaks_ini, peaks_y_ini, peak_widths_p_ini = tools.hist_plot(dld_t[dld_t < 2000], 0.1, prominence=200, distance=100, h_line=True, text_loc='right', percent=percent_mrp, plot=True, label='tof', fig_name=figname, fig_size=(9/2.54, 6/2.54))\n",
    "index_max_ini = np.argmax(peaks_y_ini)\n",
    "mrp = (peaks_ini[index_max_ini] / (peak_widths_p_ini[index_max_ini][2] - peak_widths_p_ini[index_max_ini][1]))\n",
    "print('Mass resolving power for the highest peak (MRP --> m/m_2-m_1):', mrp)\n",
    "for i in range(len(peaks_ini)):\n",
    "    print('Peaks ', i, 'is at location and height: ({:.2f}, {:.2f})'.format(peaks_ini[i], peaks_y_ini[i]), 'peak window sides ({:.2f}%) are: ({:.2f}, {:.2f})'.format(percent_mrp, peak_widths_p_ini[i][1], peak_widths_p_ini[i][2]))"
   ]
  },
  {
   "cell_type": "code",
   "execution_count": 60,
   "metadata": {},
   "outputs": [],
   "source": [
    "# mc = data['mc_c (Da)'].to_numpy()\n",
    "# peaks_ini, peaks_y_ini, peak_widths_p_ini = tools.hist_plot(mc[mc < 150], 0.1, prominence=50, distance=100, h_line=True, text_loc='right', percent=percent_mrp, plot=True, fig_name=figname)\n",
    "# index_max_ini = np.argmax(peaks_y_ini)\n",
    "# mrp = (peaks_ini[index_max_ini] / (peak_widths_p_ini[index_max_ini][2] - peak_widths_p_ini[index_max_ini][1]))\n",
    "# print('Mass resolving power for the highest peak (MRP --> m/m_2-m_1):', mrp)\n",
    "# for i in range(len(peaks_ini)):\n",
    "#     print('Peaks ', i, 'is at location and height: ({:.2f}, {:.2f})'.format(peaks_ini[i], peaks_y_ini[i]), 'peak window sides ({:.2f}%) are: ({:.2f}, {:.2f})'.format(percent_mrp, peak_widths_p_ini[i][1], peak_widths_p_ini[i][2]))"
   ]
  },
  {
   "cell_type": "markdown",
   "metadata": {
    "pycharm": {
     "name": "#%% md\n"
    }
   },
   "source": [
    "$$\\textbf{Below plotted graph offers peak selection. You can select relevant peaks you want for computation.}$$"
   ]
  },
  {
   "cell_type": "code",
   "execution_count": 61,
   "metadata": {
    "pycharm": {
     "name": "#%%\n"
    }
   },
   "outputs": [
    {
     "name": "stdout",
     "output_type": "stream",
     "text": [
      "The peak index for MRP calculation is: 4\n"
     ]
    },
    {
     "data": {
      "application/vnd.jupyter.widget-view+json": {
       "model_id": "530a5d5c2d864f37a672ac7e07e2f95d",
       "version_major": 2,
       "version_minor": 0
      },
      "image/png": "[encoded data removed]",
      "text/html": [
       "\n",
       "            <div style=\"display: inline-block;\">\n",
       "                <div class=\"jupyter-widgets widget-label\" style=\"text-align: center;\">\n",
       "                    Figure\n",
       "                </div>\n",
       "                <img src='data:image/png;base64,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' width=354.3307086614173/>\n",
       "            </div>\n",
       "        "
      ],
      "text/plain": [
       "Canvas(toolbar=Toolbar(toolitems=[('Home', 'Reset original view', 'home', 'home'), ('Back', 'Back to previous …"
      ]
     },
     "metadata": {},
     "output_type": "display_data"
    },
    {
     "name": "stdout",
     "output_type": "stream",
     "text": [
      "Mass resolving power for the highest peak (MRP --> m/m_2-m_1): 38.19999999999997\n",
      "Peaks  0 is at location and height: (0.90, 5473.00) peak window sides (50.00%) are: (0.80, 0.90)\n",
      "Peaks  1 is at location and height: (19.01, 358.00) peak window sides (50.00%) are: (18.61, 19.11)\n",
      "Peaks  2 is at location and height: (29.42, 113.00) peak window sides (50.00%) are: (28.82, 29.62)\n",
      "Peaks  3 is at location and height: (63.54, 6273.00) peak window sides (50.00%) are: (62.44, 64.34)\n",
      "Peaks  4 is at location and height: (95.56, 18029.00) peak window sides (50.00%) are: (94.26, 96.76)\n"
     ]
    }
   ],
   "source": [
    "percent_mrp = 50\n",
    "lim = 150\n",
    "mc_seb_ini = mc_tools.tof2mc(dld_t, t0_d.value, dld_highVoltage, dld_pulseVoltage, dld_x, dld_y, flightPathLength_d.value, mode=pulse_mode.value)\n",
    "peaks_ini, peaks_y_ini, peak_widths_p_ini = tools.hist_plot(mc_seb_ini[mc_seb_ini < lim], 0.1, prominence=50, distance=100, h_line=True, text_loc='right', percent=percent_mrp, plot=True, fig_name=figname)\n",
    "index_max_ini = np.argmax(peaks_y_ini)\n",
    "mrp = (peaks_ini[index_max_ini] / (peak_widths_p_ini[index_max_ini][2] - peak_widths_p_ini[index_max_ini][1]))\n",
    "print('Mass resolving power for the highest peak (MRP --> m/m_2-m_1):', mrp)\n",
    "for i in range(len(peaks_ini)):\n",
    "    print('Peaks ', i, 'is at location and height: ({:.2f}, {:.2f})'.format(peaks_ini[i], peaks_y_ini[i]), 'peak window sides ({:.2f}%) are: ({:.2f}, {:.2f})'.format(percent_mrp, peak_widths_p_ini[i][1], peak_widths_p_ini[i][2]))"
   ]
  },
  {
   "cell_type": "code",
   "execution_count": 62,
   "metadata": {},
   "outputs": [],
   "source": [
    "bin_size=widgets.FloatText(value=0.1, description='bin size:')\n",
    "prominence=widgets.IntText(value=100, description='peak prominance:')\n",
    "distance=widgets.IntText(value=500, description='peak distance:')\n",
    "lim_tof=widgets.IntText(value=1500, description='lim tof/mc:')\n",
    "percent=widgets.IntText(value=50, description='percent MRP:')\n",
    "\n",
    "def hist_plot(figname, plot):\n",
    "    \n",
    "    with out:\n",
    "        clear_output(True)\n",
    "    \n",
    "        bin_size_p = bin_size.value\n",
    "        prominence_p = prominence.value\n",
    "        distance_p = distance.value\n",
    "        lim_tof_p = lim_tof.value\n",
    "        percent_p = percent.value\n",
    "        selector = 'rect'\n",
    "        peaks_ini, peaks_y_ini, peak_widths_p_ini = tools.hist_plot(variables.dld_t_calib[variables.dld_t_calib < lim_tof_p], bin_size_p, distance=distance_p, percent=percent_p, prominence=prominence_p, selector=selector, plot=plot, label='tof', fig_name=figname+'calib')\n",
    "        index_max_ini = np.argmax(peaks_y_ini)\n",
    "        variables.max_peak = peaks_ini[index_max_ini]\n",
    "        variables.peak = peaks_ini\n",
    "        mrp = (peaks_ini[index_max_ini] / (peak_widths_p_ini[index_max_ini][2] - peak_widths_p_ini[index_max_ini][1]))\n",
    "        print('Mass resolving power for the highest peak (MRP --> m/m_2-m_1):', mrp)\n",
    "        for i in range(len(peaks_ini)):\n",
    "            print('Peaks ', i, 'is at location and height: ({:.2f}, {:.2f})'.format(peaks_ini[i], peaks_y_ini[i]), 'peak window sides ({:.2f}%) are: ({:.2f}, {:.2f})'.format(percent_p, peak_widths_p_ini[i][1], peak_widths_p_ini[i][2]))"
   ]
  },
  {
   "cell_type": "code",
   "execution_count": 63,
   "metadata": {},
   "outputs": [],
   "source": [
    "sample_size_b = widgets.IntText(value=11, description='sample size:') \n",
    "index_fig_b = widgets.IntText(value=1, description='fig index:')\n",
    "plot_b = widgets.Dropdown(\n",
    "    options=[('False', False), ('True', True)],\n",
    "    description='plot fig:'\n",
    ")\n",
    "\n",
    "save_b = widgets.Dropdown(\n",
    "    options=[('False', False), ('True', True)],\n",
    "    description='save fig:'\n",
    ")\n",
    "def bowl_correction(dld_x, dld_y, dld_highVoltage, figname=figname):\n",
    "    with out:\n",
    "        sample_size_p = sample_size_b.value\n",
    "        index_fig_p = index_fig_b.value\n",
    "        plot_p = plot_b.value\n",
    "        save_p = save_b.value\n",
    "\n",
    "        calibration.bowl_correction_main(dld_x, dld_y, dld_highVoltage, det_diam.value, sample_size=sample_size_p, calibration_mode='tof',\n",
    "                                        index_fig=index_fig_p, plot=plot_p, save=save_p)\n"
   ]
  },
  {
   "cell_type": "code",
   "execution_count": 64,
   "metadata": {},
   "outputs": [],
   "source": [
    "sample_size_v =widgets.IntText(value=100, description='sample size:') \n",
    "index_fig_v = widgets.IntText(value=1, description='fig index:')\n",
    "plot_v = widgets.Dropdown(\n",
    "    options=[('False', False), ('True', True)],\n",
    "    description='plot fig:'\n",
    ")\n",
    "save_v = widgets.Dropdown(\n",
    "    options=[('False', False), ('True', True)],\n",
    "    description='save fig:'\n",
    ")\n",
    "mode_v = widgets.Dropdown(\n",
    "    options=[('ion_seq', 'ion_seq'), ('voltage', 'voltage')],\n",
    "    description='sample mode:'\n",
    ")\n",
    "peak_mode = widgets.Dropdown(\n",
    "    options=[('peak', 'peak'), ('mean', 'mean'), ('median', 'median')],\n",
    "    description='peak mode:'\n",
    ")\n",
    "def vol_correction(dld_highVoltage, figname):\n",
    "    with out:\n",
    "        sample_size_p = sample_size_v.value\n",
    "        index_fig_p = index_fig_v.value\n",
    "        plot_p = plot_v.value\n",
    "        save_p = save_v.value\n",
    "        mode_p = mode_v.value\n",
    "        peak_mode_p = peak_mode.value\n",
    "        calibration.voltage_corr_main(dld_highVoltage, sample_size=sample_size_p, calibration_mode='tof',\n",
    "                                        index_fig=index_fig_p, plot=plot_p, save=save_p, mode=mode_p, peak_mode=peak_mode_p)\n"
   ]
  },
  {
   "cell_type": "code",
   "execution_count": 65,
   "metadata": {},
   "outputs": [
    {
     "data": {
      "application/vnd.jupyter.widget-view+json": {
       "model_id": "2d381c8a54d84ea19e49ba4796d2ddd0",
       "version_major": 2,
       "version_minor": 0
      },
      "text/plain": [
       "VBox(children=(Tab(children=(VBox(children=(FloatText(value=0.1, description='bin size:'), IntText(value=100, …"
      ]
     },
     "metadata": {},
     "output_type": "display_data"
    },
    {
     "data": {
      "application/vnd.jupyter.widget-view+json": {
       "model_id": "0d6d647dd3b44a2f961f26896b9f61ae",
       "version_major": 2,
       "version_minor": 0
      },
      "text/plain": [
       "Output()"
      ]
     },
     "metadata": {},
     "output_type": "display_data"
    }
   ],
   "source": [
    "pb_bowl = widgets.HTML(\n",
    "    value=\" \",\n",
    "    placeholder='Status:',\n",
    "    description='Status:',\n",
    ")\n",
    "pb_vol = widgets.HTML(\n",
    "    value=\" \",\n",
    "    placeholder='Status:',\n",
    "    description='Status:',\n",
    ")\n",
    "plot_button = widgets.Button(\n",
    "    description='plot hist',\n",
    ")\n",
    "plot_fdm_button = widgets.Button(\n",
    "    description='plot FDM',\n",
    ")\n",
    "reset_button = widgets.Button(\n",
    "    description='reset back correction',\n",
    ")\n",
    "save_button = widgets.Button(\n",
    "    description='save correction',\n",
    ")\n",
    "bowl_button = widgets.Button(\n",
    "    description='bowl correction',\n",
    ")\n",
    "vol_button = widgets.Button(\n",
    "    description='voltage correction',\n",
    ")\n",
    "bin_fdm = widgets.IntText(value=256, description='bin FDM:')\n",
    "    \n",
    "@plot_button.on_click\n",
    "def plot_on_click(b, figname=figname, plot=True):\n",
    "    hist_plot(figname, plot)\n",
    "\n",
    "@plot_fdm_button.on_click\n",
    "def plot_fdm_on_click(b, save=True):\n",
    "    with out:\n",
    "        clear_output(True)\n",
    "        if variables.selected_x1 == 0 or variables.selected_x2 == 0:\n",
    "            print('Please first select a peak')\n",
    "        else:\n",
    "            print('Selected tof are: (%s, %s)' %(variables.selected_x1, variables.selected_x2)) \n",
    "            mask_temporal = np.logical_and((variables.dld_t_calib > variables.selected_x1),\n",
    "                                           (variables.dld_t_calib < variables.selected_x2))\n",
    "            x = dld_x[mask_temporal]\n",
    "            y = dld_y[mask_temporal]\n",
    "            bin_fdm_p = bin_fdm.value\n",
    "            bins = [bin_fdm_p, bin_fdm_p]\n",
    "\n",
    "            calibration.plot_FDM(x, y, save, bins)\n",
    "    \n",
    "@reset_button.on_click\n",
    "def reset_on_click(b, figname=figname, plot=True):\n",
    "    variables.dld_t_calib = np.copy(variables.dld_t_calib_backup)\n",
    "@save_button.on_click\n",
    "def save_on_click(b, figname=figname, plot=True):\n",
    "    variables.dld_t_calib_backup = np.copy(variables.dld_t_calib)\n",
    "    \n",
    "@bowl_button.on_click\n",
    "def bowl_on_click(b, dld_x=dld_x, dld_y=dld_y, dld_highVoltage=dld_highVoltage, figname=figname):\n",
    "    with out:\n",
    "        clear_output(True)\n",
    "        pb_bowl.value = \"<b>Starting...</b>\"\n",
    "        if variables.selected_x1 == 0 or variables.selected_x2 == 0:\n",
    "            print('Please first select a peak')\n",
    "        else:\n",
    "            print('Selected tof are: (%s, %s)' %(variables.selected_x1, variables.selected_x2))\n",
    "            bowl_correction(dld_x, dld_y, dld_highVoltage, figname)  \n",
    "        pb_bowl.value = \"<b>Flished</b>\"\n",
    "@vol_button.on_click\n",
    "def vol_on_click(b, dld_highVoltage=dld_highVoltage, figname=figname):\n",
    "    with out:\n",
    "        clear_output(True)\n",
    "        pb_vol.value = \"<b>Starting...</b>\"\n",
    "        if variables.selected_x1 == 0 or variables.selected_x2 == 0:\n",
    "            print('Please first select a peak')\n",
    "        else:\n",
    "            print('Selected tof are: (%s, %s)' %(variables.selected_x1, variables.selected_x2))\n",
    "            vol_correction(dld_highVoltage, figname)\n",
    "        pb_vol.value = \"<b>Flished</b>\"\n",
    "    \n",
    "\n",
    "\n",
    "tab1 = VBox(children=[bin_size, prominence, distance, lim_tof, percent, bin_fdm])\n",
    "tab2 = VBox(children=[HBox(children=[sample_size_b, index_fig_b, plot_b, save_b]), bowl_button, pb_bowl])\n",
    "tab3 = VBox(children=[HBox(children=[sample_size_v, index_fig_v, mode_v, peak_mode, plot_v, save_v]), vol_button, pb_vol])\n",
    "\n",
    "tab = widgets.Tab(children=[tab1, tab2, tab3])\n",
    "tab.set_title(0, 'tof/mc plot')\n",
    "tab.set_title(1, 'bowl correction')\n",
    "tab.set_title(2, 'voltage correction')\n",
    "\n",
    "\n",
    "\n",
    "display(VBox(children=[tab,HBox(children=[plot_button, plot_fdm_button, save_button, reset_button])]))\n",
    "out = Output()\n",
    "display(out)"
   ]
  },
  {
   "cell_type": "code",
   "execution_count": 21,
   "metadata": {},
   "outputs": [],
   "source": [
    "# fitresult = [ 1.59856266e+00,  5.68765920e-09, -1.41281563e-04]\n",
    "# f_v = calibration.voltage_corr(data['high_voltage (V)'].to_numpy(), *fitresult)\n",
    "# variables.dld_t_calib = variables.dld_t_calib * (1 / f_v)"
   ]
  },
  {
   "cell_type": "code",
   "execution_count": 22,
   "metadata": {},
   "outputs": [],
   "source": [
    "# parameters = [ 9.88684464e-01, -2.17639093e-04 , 2.36038428e-04,  3.44156992e-05, -2.62895576e-06,  3.28072030e-05]\n",
    "# f_bowl = calibration.bowl_corr_fit([data['x_det (cm)'].to_numpy()* 10, data['y_det (cm)'].to_numpy()* 10], *parameters)\n",
    "# variables.dld_t_calib = variables.dld_t_calib * 1 / f_bowl"
   ]
  },
  {
   "cell_type": "code",
   "execution_count": 23,
   "metadata": {},
   "outputs": [],
   "source": [
    "variables.dld_t_calib_backup = np.copy(variables.dld_t_calib)"
   ]
  },
  {
   "cell_type": "code",
   "execution_count": 66,
   "metadata": {
    "tags": []
   },
   "outputs": [],
   "source": [
    "# np.save(\"t_171_c.npy\", variables.dld_t_calib)"
   ]
  },
  {
   "cell_type": "code",
   "execution_count": 24,
   "metadata": {},
   "outputs": [],
   "source": [
    "def tof_his(bin_size, prominence, distance, percent, selector, plot, figname, lim_dld_t):\n",
    "    variables.peaks_idx = []\n",
    "    peaks_ini, peaks_y_ini, peak_widths_p_ini = tools.hist_plot(variables.dld_t_calib[variables.dld_t_calib < lim_dld_t], bin_size, distance=distance, percent=percent, prominence=prominence, selector=selector, plot=plot, label='tof', fig_name=figname)\n",
    "    index_max_ini = np.argmax(peaks_y_ini)\n",
    "    variables.max_peak = peaks_ini[index_max_ini]\n",
    "    variables.peak = peaks_ini\n",
    "    mrp = (peaks_ini[index_max_ini] / (peak_widths_p_ini[index_max_ini][2] - peak_widths_p_ini[index_max_ini][1]))\n",
    "    print('Mass resolving power for the highest peak (MRP --> m/m_2-m_1):', mrp)\n",
    "    for i in range(len(peaks_ini)):\n",
    "                   print('Peaks ', i+1, 'is at location and height: ({:.2f}, {:.2f})'.format(peaks_ini[i], peaks_y_ini[i]), 'peak window sides ({:.2f}%) are: ({:.2f}, {:.2f})'.format(percent, peak_widths_p_ini[i][1], peak_widths_p_ini[i][2]))"
   ]
  },
  {
   "cell_type": "code",
   "execution_count": 25,
   "metadata": {},
   "outputs": [
    {
     "data": {
      "application/vnd.jupyter.widget-view+json": {
       "model_id": "ad2723c1c0444f67a293d02517b9a3ad",
       "version_major": 2,
       "version_minor": 0
      },
      "text/plain": [
       "interactive(children=(FloatText(value=0.1, description='bin_size'), IntText(value=50, description='prominence'…"
      ]
     },
     "metadata": {},
     "output_type": "display_data"
    }
   ],
   "source": [
    "interact_manual(tof_his, bin_size=widgets.FloatText(value=0.1)\n",
    "               ,prominence=widgets.IntText(value=50), distance=widgets.IntText(value=100), lim_dld_t=widgets.IntText(value=1500)\n",
    "               ,percent=widgets.IntText(value=50), selector=fixed('peak'), plot=fixed(True), figname=fixed(figname));\n"
   ]
  },
  {
   "cell_type": "code",
   "execution_count": 26,
   "metadata": {
    "pycharm": {
     "name": "#%%\n"
    }
   },
   "outputs": [
    {
     "data": {
      "application/vnd.jupyter.widget-view+json": {
       "model_id": "55501e395c3047668254e197a66bb45d",
       "version_major": 2,
       "version_minor": 0
      },
      "text/plain": [
       "Dropdown(description='Elements', options=(('H (1) (99.98)', 'H(1)[1.01]'), ('H (2) (0.01)', 'H(2)[2.01]'), ('H…"
      ]
     },
     "metadata": {},
     "output_type": "display_data"
    },
    {
     "data": {
      "application/vnd.jupyter.widget-view+json": {
       "model_id": "fb43c02fba13447a8b41fb8295d354cb",
       "version_major": 2,
       "version_minor": 0
      },
      "text/plain": [
       "Dropdown(description='Charge', options=((1, 1), (2, 2), (3, 3), (4, 4)), value=1)"
      ]
     },
     "metadata": {},
     "output_type": "display_data"
    },
    {
     "data": {
      "application/vnd.jupyter.widget-view+json": {
       "model_id": "c766700f0a134b87a6be334913fb73f6",
       "version_major": 2,
       "version_minor": 0
      },
      "text/plain": [
       "Button(description='ADD', icon='check', style=ButtonStyle(), tooltip='ADD')"
      ]
     },
     "metadata": {},
     "output_type": "display_data"
    },
    {
     "data": {
      "application/vnd.jupyter.widget-view+json": {
       "model_id": "e43fcdd631f5455086d3ca1a2683451d",
       "version_major": 2,
       "version_minor": 0
      },
      "text/plain": [
       "Button(description='DELETE', icon='check', style=ButtonStyle(), tooltip='DELETE')"
      ]
     },
     "metadata": {},
     "output_type": "display_data"
    },
    {
     "data": {
      "application/vnd.jupyter.widget-view+json": {
       "model_id": "4a25b55c581b4587a1050fa5b1a25c1b",
       "version_major": 2,
       "version_minor": 0
      },
      "text/plain": [
       "Button(description='RESET', icon='check', style=ButtonStyle(), tooltip='RESET')"
      ]
     },
     "metadata": {},
     "output_type": "display_data"
    },
    {
     "data": {
      "application/vnd.jupyter.widget-view+json": {
       "model_id": "695cbec9eca34856b72c382cee34a638",
       "version_major": 2,
       "version_minor": 0
      },
      "text/plain": [
       "Output()"
      ]
     },
     "metadata": {},
     "output_type": "display_data"
    }
   ],
   "source": [
    "isotopeTableFile = '../../../files/isotopeTable.h5'\n",
    "dataframe = data_tools.read_hdf5_through_pandas(isotopeTableFile)\n",
    "elementsList = dataframe['element']\n",
    "elementIsotopeList = dataframe['isotope']\n",
    "elementMassList =  dataframe['weight']\n",
    "abundanceList = dataframe['abundance']\n",
    "\n",
    "elements = list(zip(elementsList, elementIsotopeList, elementMassList, abundanceList))\n",
    "dropdownList = []\n",
    "for element in elements:\n",
    "    tupleElement = (\"{} ({}) ({:.2f})\".format(element[0], element[1], element[3]), \"{}({})[{}]\".format(element[0], element[1], element[2]))\n",
    "    dropdownList.append(tupleElement)\n",
    "\n",
    "chargeList = [(1,1,),(2,2,),(3,3,),(4,4,)]\n",
    "dropdown = wd.dropdownWidget(dropdownList,\"Elements\")\n",
    "dropdown.observe(wd.on_change)\n",
    "\n",
    "\n",
    "chargeDropdown = wd.dropdownWidget(chargeList,\"Charge\")\n",
    "chargeDropdown.observe(wd.on_change_charge)\n",
    "\n",
    "wd.compute_element_isotope_values_according_to_selected_charge()\n",
    "\n",
    "buttonAdd = wd.buttonWidget(\"ADD\")\n",
    "buttonDelete = wd.buttonWidget(\"DELETE\")\n",
    "buttonReset = wd.buttonWidget(\"RESET\")\n",
    "\n",
    "display(dropdown, chargeDropdown, buttonAdd, buttonDelete, buttonReset)\n",
    "\n",
    "def buttonAdd_f(b,):\n",
    "    with out:\n",
    "        clear_output(True)\n",
    "        wd.onClickAdd(b,)\n",
    "        display()\n",
    "def buttonDelete_f(b,):\n",
    "    with out:\n",
    "        clear_output(True)\n",
    "        wd.onClickDelete(b,)\n",
    "        display()\n",
    "def buttonResett_f(b,):\n",
    "    with out:\n",
    "        clear_output(True)\n",
    "        wd.onClickReset(b,)\n",
    "        display()\n",
    "\n",
    "listMaterial = buttonAdd.on_click(buttonAdd_f)\n",
    "buttonDelete.on_click(buttonDelete_f)\n",
    "buttonReset.on_click(buttonResett_f)\n",
    "# listMaterial = buttonAdd.on_click(wd.onClickAdd)\n",
    "# buttonDelete.on_click(wd.onClickDelete)\n",
    "# buttonReset.on_click(wd.onClickReset)\n",
    "out = Output()\n",
    "display(out)"
   ]
  },
  {
   "cell_type": "code",
   "execution_count": 27,
   "metadata": {
    "pycharm": {
     "name": "#%%\n"
    }
   },
   "outputs": [
    {
     "name": "stdout",
     "output_type": "stream",
     "text": [
      "highest peak in the tof histogram: [ 76.67976289 447.0533274  605.4583346 ]\n",
      "highest peak in the ideal mc histogram: [ 1.01 13.49 26.98]\n"
     ]
    }
   ],
   "source": [
    "peaks_chos = []\n",
    "for i in range(len(variables.peaks_idx)):\n",
    "    peaks_chos.append(variables.peak[variables.peaks_idx[i]])\n",
    "peaks_chos = np.array(peaks_chos)\n",
    "listMaterial = np.array(variables.listMaterial)\n",
    "print('highest peak in the tof histogram:', peaks_chos)\n",
    "print('highest peak in the ideal mc histogram:', listMaterial)"
   ]
  },
  {
   "cell_type": "code",
   "execution_count": 28,
   "metadata": {
    "pycharm": {
     "name": "#%%\n"
    }
   },
   "outputs": [
    {
     "name": "stderr",
     "output_type": "stream",
     "text": [
      "C:\\Users\\APTUser\\.conda\\envs\\oxcart5\\lib\\site-packages\\scipy\\optimize\\_minpack_py.py:906: OptimizeWarning: Covariance of the parameters could not be estimated\n",
      "  warnings.warn('Covariance of the parameters could not be estimated',\n"
     ]
    }
   ],
   "source": [
    "def parametric(t, t0, c, d):\n",
    "\n",
    "    # return c * ((t - t0)**2) + d\n",
    "    return c * ((t - t0)**2) + d*t\n",
    "\n",
    "def parametric_calib(t, mc_ideal):\n",
    "    \n",
    "    fitresult, _ = curve_fit(parametric, t, mc_ideal, maxfev=2000)\n",
    "    return fitresult\n",
    "\n",
    "fitresult = parametric_calib(peaks_chos, variables.listMaterial)\n",
    "\n",
    "\n",
    "mc_p_1 = parametric(variables.dld_t_calib, *fitresult)"
   ]
  },
  {
   "cell_type": "code",
   "execution_count": 29,
   "metadata": {},
   "outputs": [
    {
     "name": "stdout",
     "output_type": "stream",
     "text": [
      "The t0 is: 134.57466149178381 ns\n"
     ]
    }
   ],
   "source": [
    "print('The t0 is:', fitresult[0], 'ns')"
   ]
  },
  {
   "cell_type": "code",
   "execution_count": 30,
   "metadata": {
    "pycharm": {
     "name": "#%%\n"
    }
   },
   "outputs": [
    {
     "name": "stdout",
     "output_type": "stream",
     "text": [
      "The peak index for MRP calculation is: 1\n"
     ]
    },
    {
     "data": {
      "application/vnd.jupyter.widget-view+json": {
       "model_id": "3fcc58e956b448838f25a0ada6399efb",
       "version_major": 2,
       "version_minor": 0
      },
      "image/png": "[encoded data removed]",
      "text/html": [
       "\n",
       "            <div style=\"display: inline-block;\">\n",
       "                <div class=\"jupyter-widgets widget-label\" style=\"text-align: center;\">\n",
       "                    Figure\n",
       "                </div>\n",
       "                <img src='data:image/png;base64,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' width=354.3307086614173/>\n",
       "            </div>\n",
       "        "
      ],
      "text/plain": [
       "Canvas(toolbar=Toolbar(toolitems=[('Home', 'Reset original view', 'home', 'home'), ('Back', 'Back to previous …"
      ]
     },
     "metadata": {},
     "output_type": "display_data"
    },
    {
     "name": "stdout",
     "output_type": "stream",
     "text": [
      "Mass resolving power for the highest peak (MRP --> m/m_2-m_1): 272.04919112888365\n",
      "Peaks  0 is at location and height: (13.48, 70031.00) peak window sides (half-maximum) are: (13.38, 13.48)\n",
      "Peaks  1 is at location and height: (26.96, 657783.00) peak window sides (half-maximum) are: (26.86, 26.96)\n"
     ]
    }
   ],
   "source": [
    "percent_mrp = 50\n",
    "# background = {'calculation': True, 'plot_no_back': True, 'plot': False, 'mode': 'fabc', 'patch': False, 'lam': 1e4, 'num_std': 5.0}\n",
    "background={'calculation': False}\n",
    "peak_p, peaks_y_p, peak_widths_p = tools.hist_plot(mc_p_1[mc_p_1 < 100], 0.1, prominence=40, distance=20, text_loc='right', percent=percent_mrp, plot=True, fig_name='mc2_p_1'+figname, background=background)\n",
    "index_max_ini = np.argmax(peaks_y_p)\n",
    "mrp = (peak_p[index_max_ini] / (peak_widths_p[index_max_ini][2] - peak_widths_p[index_max_ini][1]))\n",
    "print('Mass resolving power for the highest peak (MRP --> m/m_2-m_1):', mrp)\n",
    "for i in range(len(peak_p)):\n",
    "    print('Peaks ', i, 'is at location and height: ({:.2f}, {:.2f})'.format(peak_p[i], peaks_y_p[i]), 'peak window sides (half-maximum) are: ({:.2f}, {:.2f})'.format(peak_widths_p[i][1], peak_widths_p[i][2]))"
   ]
  },
  {
   "cell_type": "code",
   "execution_count": 42,
   "metadata": {},
   "outputs": [],
   "source": [
    "data_c = data.copy(deep = True)\n",
    "data_c['t_c (ns)'] = variables.dld_t_calib\n",
    "data_c['mc_c (Da)'] = np.zeros(len(variables.dld_t_calib))"
   ]
  },
  {
   "cell_type": "code",
   "execution_count": 40,
   "metadata": {},
   "outputs": [
    {
     "name": "stdout",
     "output_type": "stream",
     "text": [
      "The number of ions with negative mc are: 490176\n"
     ]
    }
   ],
   "source": [
    "# Remove negative mc\n",
    "threshold = 0\n",
    "mc_t = data_c['mc_c (Da)'].to_numpy()\n",
    "mc_t_mask = (mc_t <= threshold)\n",
    "print('The number of ions with negative mc are:', len(mc_t_mask[mc_t_mask==True]))\n",
    "data_c.drop(np.where(mc_t_mask)[0], inplace=True)\n",
    "data_c.reset_index(inplace=True, drop=True)"
   ]
  },
  {
   "cell_type": "code",
   "execution_count": 43,
   "metadata": {},
   "outputs": [
    {
     "data": {
      "text/html": [
       "<div>\n",
       "<style scoped>\n",
       "    .dataframe tbody tr th:only-of-type {\n",
       "        vertical-align: middle;\n",
       "    }\n",
       "\n",
       "    .dataframe tbody tr th {\n",
       "        vertical-align: top;\n",
       "    }\n",
       "\n",
       "    .dataframe thead th {\n",
       "        text-align: right;\n",
       "    }\n",
       "</style>\n",
       "<table border=\"1\" class=\"dataframe\">\n",
       "  <thead>\n",
       "    <tr style=\"text-align: right;\">\n",
       "      <th></th>\n",
       "      <th>x (nm)</th>\n",
       "      <th>y (nm)</th>\n",
       "      <th>z (nm)</th>\n",
       "      <th>mc_c (Da)</th>\n",
       "      <th>mc (Da)</th>\n",
       "      <th>high_voltage (V)</th>\n",
       "      <th>pulse (deg)</th>\n",
       "      <th>start_counter</th>\n",
       "      <th>t (ns)</th>\n",
       "      <th>t_c (nm)</th>\n",
       "      <th>x_det (cm)</th>\n",
       "      <th>y_det (cm)</th>\n",
       "      <th>pulse_pi</th>\n",
       "      <th>ion_pp</th>\n",
       "      <th>t_c (ns)</th>\n",
       "    </tr>\n",
       "  </thead>\n",
       "  <tbody>\n",
       "    <tr>\n",
       "      <th>0</th>\n",
       "      <td>0.0</td>\n",
       "      <td>0.0</td>\n",
       "      <td>0.0</td>\n",
       "      <td>0.0</td>\n",
       "      <td>96.788074</td>\n",
       "      <td>7875.019531</td>\n",
       "      <td>46.0</td>\n",
       "      <td>1986.0</td>\n",
       "      <td>1986.0</td>\n",
       "      <td>0.0</td>\n",
       "      <td>1.574880</td>\n",
       "      <td>-2.295810</td>\n",
       "      <td>0</td>\n",
       "      <td>1</td>\n",
       "      <td>1975.537202</td>\n",
       "    </tr>\n",
       "    <tr>\n",
       "      <th>1</th>\n",
       "      <td>0.0</td>\n",
       "      <td>0.0</td>\n",
       "      <td>0.0</td>\n",
       "      <td>0.0</td>\n",
       "      <td>184.834798</td>\n",
       "      <td>7875.019531</td>\n",
       "      <td>46.0</td>\n",
       "      <td>2718.0</td>\n",
       "      <td>2718.0</td>\n",
       "      <td>0.0</td>\n",
       "      <td>-1.240870</td>\n",
       "      <td>-0.273416</td>\n",
       "      <td>732</td>\n",
       "      <td>1</td>\n",
       "      <td>2716.857755</td>\n",
       "    </tr>\n",
       "    <tr>\n",
       "      <th>2</th>\n",
       "      <td>0.0</td>\n",
       "      <td>0.0</td>\n",
       "      <td>0.0</td>\n",
       "      <td>0.0</td>\n",
       "      <td>98.703905</td>\n",
       "      <td>7875.019531</td>\n",
       "      <td>46.0</td>\n",
       "      <td>1998.0</td>\n",
       "      <td>1998.0</td>\n",
       "      <td>0.0</td>\n",
       "      <td>1.709700</td>\n",
       "      <td>-0.668762</td>\n",
       "      <td>4294966576</td>\n",
       "      <td>1</td>\n",
       "      <td>1997.530579</td>\n",
       "    </tr>\n",
       "    <tr>\n",
       "      <th>3</th>\n",
       "      <td>0.0</td>\n",
       "      <td>0.0</td>\n",
       "      <td>0.0</td>\n",
       "      <td>0.0</td>\n",
       "      <td>105.604788</td>\n",
       "      <td>7875.019531</td>\n",
       "      <td>46.0</td>\n",
       "      <td>2078.0</td>\n",
       "      <td>2078.0</td>\n",
       "      <td>0.0</td>\n",
       "      <td>-2.533930</td>\n",
       "      <td>2.063530</td>\n",
       "      <td>2078</td>\n",
       "      <td>1</td>\n",
       "      <td>2064.302996</td>\n",
       "    </tr>\n",
       "    <tr>\n",
       "      <th>4</th>\n",
       "      <td>0.0</td>\n",
       "      <td>0.0</td>\n",
       "      <td>0.0</td>\n",
       "      <td>0.0</td>\n",
       "      <td>105.690186</td>\n",
       "      <td>7875.019531</td>\n",
       "      <td>46.0</td>\n",
       "      <td>2070.0</td>\n",
       "      <td>2070.0</td>\n",
       "      <td>0.0</td>\n",
       "      <td>1.603760</td>\n",
       "      <td>1.711910</td>\n",
       "      <td>0</td>\n",
       "      <td>0</td>\n",
       "      <td>2069.692284</td>\n",
       "    </tr>\n",
       "    <tr>\n",
       "      <th>...</th>\n",
       "      <td>...</td>\n",
       "      <td>...</td>\n",
       "      <td>...</td>\n",
       "      <td>...</td>\n",
       "      <td>...</td>\n",
       "      <td>...</td>\n",
       "      <td>...</td>\n",
       "      <td>...</td>\n",
       "      <td>...</td>\n",
       "      <td>...</td>\n",
       "      <td>...</td>\n",
       "      <td>...</td>\n",
       "      <td>...</td>\n",
       "      <td>...</td>\n",
       "      <td>...</td>\n",
       "    </tr>\n",
       "    <tr>\n",
       "      <th>490171</th>\n",
       "      <td>0.0</td>\n",
       "      <td>0.0</td>\n",
       "      <td>0.0</td>\n",
       "      <td>0.0</td>\n",
       "      <td>98.431365</td>\n",
       "      <td>6547.874512</td>\n",
       "      <td>72.0</td>\n",
       "      <td>2198.0</td>\n",
       "      <td>2198.0</td>\n",
       "      <td>0.0</td>\n",
       "      <td>-1.343130</td>\n",
       "      <td>-2.962310</td>\n",
       "      <td>2198</td>\n",
       "      <td>1</td>\n",
       "      <td>2275.424844</td>\n",
       "    </tr>\n",
       "    <tr>\n",
       "      <th>490172</th>\n",
       "      <td>0.0</td>\n",
       "      <td>0.0</td>\n",
       "      <td>0.0</td>\n",
       "      <td>0.0</td>\n",
       "      <td>98.542280</td>\n",
       "      <td>6547.874512</td>\n",
       "      <td>72.0</td>\n",
       "      <td>2199.0</td>\n",
       "      <td>2199.0</td>\n",
       "      <td>0.0</td>\n",
       "      <td>-2.036310</td>\n",
       "      <td>2.512160</td>\n",
       "      <td>2199</td>\n",
       "      <td>1</td>\n",
       "      <td>2286.729009</td>\n",
       "    </tr>\n",
       "    <tr>\n",
       "      <th>490173</th>\n",
       "      <td>0.0</td>\n",
       "      <td>0.0</td>\n",
       "      <td>0.0</td>\n",
       "      <td>0.0</td>\n",
       "      <td>96.401960</td>\n",
       "      <td>6547.874512</td>\n",
       "      <td>72.0</td>\n",
       "      <td>2178.0</td>\n",
       "      <td>2178.0</td>\n",
       "      <td>0.0</td>\n",
       "      <td>3.303280</td>\n",
       "      <td>-1.017060</td>\n",
       "      <td>2178</td>\n",
       "      <td>1</td>\n",
       "      <td>2263.319736</td>\n",
       "    </tr>\n",
       "    <tr>\n",
       "      <th>490174</th>\n",
       "      <td>0.0</td>\n",
       "      <td>0.0</td>\n",
       "      <td>0.0</td>\n",
       "      <td>0.0</td>\n",
       "      <td>98.647571</td>\n",
       "      <td>6547.874512</td>\n",
       "      <td>72.0</td>\n",
       "      <td>2187.0</td>\n",
       "      <td>2187.0</td>\n",
       "      <td>0.0</td>\n",
       "      <td>1.660160</td>\n",
       "      <td>-0.653290</td>\n",
       "      <td>0</td>\n",
       "      <td>0</td>\n",
       "      <td>2287.145028</td>\n",
       "    </tr>\n",
       "    <tr>\n",
       "      <th>490175</th>\n",
       "      <td>0.0</td>\n",
       "      <td>0.0</td>\n",
       "      <td>0.0</td>\n",
       "      <td>0.0</td>\n",
       "      <td>97.674570</td>\n",
       "      <td>6547.874512</td>\n",
       "      <td>72.0</td>\n",
       "      <td>2172.0</td>\n",
       "      <td>2172.0</td>\n",
       "      <td>0.0</td>\n",
       "      <td>0.665614</td>\n",
       "      <td>-0.576311</td>\n",
       "      <td>2172</td>\n",
       "      <td>1</td>\n",
       "      <td>2274.578337</td>\n",
       "    </tr>\n",
       "  </tbody>\n",
       "</table>\n",
       "<p>490176 rows × 15 columns</p>\n",
       "</div>"
      ],
      "text/plain": [
       "        x (nm)  y (nm)  z (nm)  mc_c (Da)     mc (Da)  high_voltage (V)  \\\n",
       "0          0.0     0.0     0.0        0.0   96.788074       7875.019531   \n",
       "1          0.0     0.0     0.0        0.0  184.834798       7875.019531   \n",
       "2          0.0     0.0     0.0        0.0   98.703905       7875.019531   \n",
       "3          0.0     0.0     0.0        0.0  105.604788       7875.019531   \n",
       "4          0.0     0.0     0.0        0.0  105.690186       7875.019531   \n",
       "...        ...     ...     ...        ...         ...               ...   \n",
       "490171     0.0     0.0     0.0        0.0   98.431365       6547.874512   \n",
       "490172     0.0     0.0     0.0        0.0   98.542280       6547.874512   \n",
       "490173     0.0     0.0     0.0        0.0   96.401960       6547.874512   \n",
       "490174     0.0     0.0     0.0        0.0   98.647571       6547.874512   \n",
       "490175     0.0     0.0     0.0        0.0   97.674570       6547.874512   \n",
       "\n",
       "        pulse (deg)  start_counter  t (ns)  t_c (nm)  x_det (cm)  y_det (cm)  \\\n",
       "0              46.0         1986.0  1986.0       0.0    1.574880   -2.295810   \n",
       "1              46.0         2718.0  2718.0       0.0   -1.240870   -0.273416   \n",
       "2              46.0         1998.0  1998.0       0.0    1.709700   -0.668762   \n",
       "3              46.0         2078.0  2078.0       0.0   -2.533930    2.063530   \n",
       "4              46.0         2070.0  2070.0       0.0    1.603760    1.711910   \n",
       "...             ...            ...     ...       ...         ...         ...   \n",
       "490171         72.0         2198.0  2198.0       0.0   -1.343130   -2.962310   \n",
       "490172         72.0         2199.0  2199.0       0.0   -2.036310    2.512160   \n",
       "490173         72.0         2178.0  2178.0       0.0    3.303280   -1.017060   \n",
       "490174         72.0         2187.0  2187.0       0.0    1.660160   -0.653290   \n",
       "490175         72.0         2172.0  2172.0       0.0    0.665614   -0.576311   \n",
       "\n",
       "          pulse_pi  ion_pp     t_c (ns)  \n",
       "0                0       1  1975.537202  \n",
       "1              732       1  2716.857755  \n",
       "2       4294966576       1  1997.530579  \n",
       "3             2078       1  2064.302996  \n",
       "4                0       0  2069.692284  \n",
       "...            ...     ...          ...  \n",
       "490171        2198       1  2275.424844  \n",
       "490172        2199       1  2286.729009  \n",
       "490173        2178       1  2263.319736  \n",
       "490174           0       0  2287.145028  \n",
       "490175        2172       1  2274.578337  \n",
       "\n",
       "[490176 rows x 15 columns]"
      ]
     },
     "execution_count": 43,
     "metadata": {},
     "output_type": "execute_result"
    }
   ],
   "source": [
    "data_c"
   ]
  },
  {
   "cell_type": "code",
   "execution_count": 44,
   "metadata": {},
   "outputs": [
    {
     "ename": "NameError",
     "evalue": "name 'mc_p_1' is not defined",
     "output_type": "error",
     "traceback": [
      "\u001b[1;31m---------------------------------------------------------------------------\u001b[0m",
      "\u001b[1;31mNameError\u001b[0m                                 Traceback (most recent call last)",
      "Cell \u001b[1;32mIn[44], line 3\u001b[0m\n\u001b[0;32m      1\u001b[0m cc \u001b[38;5;241m=\u001b[39m data_c[\u001b[38;5;124m'\u001b[39m\u001b[38;5;124mmc_c (Da)\u001b[39m\u001b[38;5;124m'\u001b[39m]\u001b[38;5;241m.\u001b[39mto_numpy()\n\u001b[0;32m      2\u001b[0m \u001b[38;5;66;03m# cc[cc <= 0] = 0\u001b[39;00m\n\u001b[1;32m----> 3\u001b[0m peaks_ini, peaks_y_ini, peak_widths_p_ini \u001b[38;5;241m=\u001b[39m tools\u001b[38;5;241m.\u001b[39mhist_plot(\u001b[43mmc_p_1\u001b[49m[mc_p_1 \u001b[38;5;241m<\u001b[39m \u001b[38;5;241m100\u001b[39m], \u001b[38;5;241m0.1\u001b[39m, distance\u001b[38;5;241m=\u001b[39m\u001b[38;5;241m10\u001b[39m, percent\u001b[38;5;241m=\u001b[39m\u001b[38;5;241m50\u001b[39m, prominence\u001b[38;5;241m=\u001b[39m\u001b[38;5;241m50\u001b[39m, selector\u001b[38;5;241m=\u001b[39m\u001b[38;5;124m'\u001b[39m\u001b[38;5;124mpeak\u001b[39m\u001b[38;5;124m'\u001b[39m, plot\u001b[38;5;241m=\u001b[39m\u001b[38;5;28;01mTrue\u001b[39;00m, label\u001b[38;5;241m=\u001b[39m\u001b[38;5;124m'\u001b[39m\u001b[38;5;124mmc\u001b[39m\u001b[38;5;124m'\u001b[39m)\n\u001b[0;32m      4\u001b[0m peaks_ini, peaks_y_ini, peak_widths_p_ini \u001b[38;5;241m=\u001b[39m tools\u001b[38;5;241m.\u001b[39mhist_plot(cc[cc \u001b[38;5;241m<\u001b[39m \u001b[38;5;241m100\u001b[39m], \u001b[38;5;241m0.1\u001b[39m, distance\u001b[38;5;241m=\u001b[39m\u001b[38;5;241m10\u001b[39m, percent\u001b[38;5;241m=\u001b[39m\u001b[38;5;241m50\u001b[39m, prominence\u001b[38;5;241m=\u001b[39m\u001b[38;5;241m50\u001b[39m, selector\u001b[38;5;241m=\u001b[39m\u001b[38;5;124m'\u001b[39m\u001b[38;5;124mpeak\u001b[39m\u001b[38;5;124m'\u001b[39m, plot\u001b[38;5;241m=\u001b[39m\u001b[38;5;28;01mTrue\u001b[39;00m, label\u001b[38;5;241m=\u001b[39m\u001b[38;5;124m'\u001b[39m\u001b[38;5;124mmc\u001b[39m\u001b[38;5;124m'\u001b[39m)\n",
      "\u001b[1;31mNameError\u001b[0m: name 'mc_p_1' is not defined"
     ]
    }
   ],
   "source": [
    "cc = data_c['mc_c (Da)'].to_numpy()\n",
    "# cc[cc <= 0] = 0\n",
    "peaks_ini, peaks_y_ini, peak_widths_p_ini = tools.hist_plot(mc_p_1[mc_p_1 < 100], 0.1, distance=10, percent=50, prominence=50, selector='peak', plot=True, label='mc')\n",
    "peaks_ini, peaks_y_ini, peak_widths_p_ini = tools.hist_plot(cc[cc < 100], 0.1, distance=10, percent=50, prominence=50, selector='peak', plot=True, label='mc')"
   ]
  },
  {
   "cell_type": "code",
   "execution_count": 45,
   "metadata": {},
   "outputs": [],
   "source": [
    "# save the new data\n",
    "name_save_file = variables.result_path + '//' + dataset_name + '.h5'\n",
    "data_tools.store_df_to_hdf(name_save_file, data_c, 'df')"
   ]
  },
  {
   "cell_type": "code",
   "execution_count": 46,
   "metadata": {},
   "outputs": [],
   "source": [
    "# save data as epos file\n",
    "epos = ccapt_tools.ccapt_to_epos(data_c, pulse_mode=pulse_mode.value, path=variables.result_path, name=dataset_name + '.epos')\n",
    "pos = ccapt_tools.ccapt_to_pos(data_c, path=variables.result_path, name=dataset_name + '.POS')"
   ]
  },
  {
   "cell_type": "code",
   "execution_count": null,
   "metadata": {},
   "outputs": [],
   "source": [
    "# save data in csv format\n",
    "data_tools.store_df_to_csv(data_c, variables.result_path + dataset_name + '.csv')"
   ]
  }
 ],
 "metadata": {
  "kernelspec": {
   "display_name": "Python 3 (ipykernel)",
   "language": "python",
   "name": "python3"
  },
  "language_info": {
   "codemirror_mode": {
    "name": "ipython",
    "version": 3
   },
   "file_extension": ".py",
   "mimetype": "text/x-python",
   "name": "python",
   "nbconvert_exporter": "python",
   "pygments_lexer": "ipython3",
   "version": "3.9.12"
  }
 },
 "nbformat": 4,
 "nbformat_minor": 4
}

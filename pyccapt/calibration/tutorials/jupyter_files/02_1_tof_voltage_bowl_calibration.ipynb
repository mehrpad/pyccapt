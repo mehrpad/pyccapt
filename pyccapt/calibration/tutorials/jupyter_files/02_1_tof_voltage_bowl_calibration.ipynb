{
 "cells": [
  {
   "cell_type": "code",
   "execution_count": 1,
   "metadata": {
    "pycharm": {
     "name": "#%%\n"
    }
   },
   "outputs": [],
   "source": [
    "%matplotlib ipympl\n",
    "import os\n",
    "import os.path as path\n",
    "import logging, sys\n",
    "import numpy as np\n",
    "from scipy.optimize import curve_fit\n",
    "from scipy import interpolate\n",
    "from sklearn.preprocessing import MinMaxScaler\n",
    "import matplotlib.pyplot as plt\n",
    "from ipywidgets import fixed, interact_manual, widgets\n",
    "from ipywidgets import HBox, VBox\n",
    "from IPython.display import clear_output\n",
    "from IPython.display import display\n",
    "from ipywidgets import IntSlider, Output\n",
    "from itertools import product\n",
    "from scipy.signal import find_peaks\n",
    "import math\n",
    "from mpl_toolkits.mplot3d import Axes3D\n",
    "\n",
    "# Local module and scripts\n",
    "from pyccapt.calibration.calibration_tools import tools, variables, calibration\n",
    "from pyccapt.calibration.calibration_tools import widgets as wd\n",
    "from pyccapt.calibration.data_tools import data_tools, data_loadcrop, dataset_path_qt\n",
    "from pyccapt.calibration.mc import mc_tools\n",
    "from pyccapt.calibration.leap_tools import ccapt_tools"
   ]
  },
  {
   "cell_type": "code",
   "execution_count": 2,
   "metadata": {},
   "outputs": [],
   "source": [
    "%load_ext autoreload\n",
    "%autoreload 2"
   ]
  },
  {
   "cell_type": "code",
   "execution_count": 3,
   "metadata": {},
   "outputs": [],
   "source": [
    "%reload_ext autoreload"
   ]
  },
  {
   "cell_type": "code",
   "execution_count": 4,
   "metadata": {
    "pycharm": {
     "name": "#%%\n"
    }
   },
   "outputs": [],
   "source": [
    "# Disable showing logging in Jupyter notebook\n",
    "logging.disable(sys.maxsize)"
   ]
  },
  {
   "cell_type": "code",
   "execution_count": 5,
   "metadata": {},
   "outputs": [
    {
     "data": {
      "application/vnd.jupyter.widget-view+json": {
       "model_id": "db7b224864484679896ab53227bec677",
       "version_major": 2,
       "version_minor": 0
      },
      "text/plain": [
       "Button(description='load dataset', style=ButtonStyle())"
      ]
     },
     "execution_count": 5,
     "metadata": {},
     "output_type": "execute_result"
    }
   ],
   "source": [
    "button = widgets.Button(\n",
    "    description='load dataset',\n",
    ")\n",
    "\n",
    "@button.on_click\n",
    "def open_file_on_click(b):\n",
    "    global dataset_path\n",
    "    dataset_path = dataset_path_qt.gui_fname().decode('ASCII')\n",
    "button"
   ]
  },
  {
   "cell_type": "code",
   "execution_count": 129,
   "metadata": {},
   "outputs": [
    {
     "data": {
      "application/vnd.jupyter.widget-view+json": {
       "model_id": "9a3542423b9349e2bb32c7fbe62254f5",
       "version_major": 2,
       "version_minor": 0
      },
      "text/plain": [
       "Dropdown(description='Data mode:', options=('surface_concept', 'roentdec', 'leap_epos', 'leap_pos'), value='su…"
      ]
     },
     "metadata": {},
     "output_type": "display_data"
    },
    {
     "data": {
      "application/vnd.jupyter.widget-view+json": {
       "model_id": "f68a197f5f51446e912bafef54938033",
       "version_major": 2,
       "version_minor": 0
      },
      "text/plain": [
       "FloatText(value=78.0, description='Detector diameter:')"
      ]
     },
     "metadata": {},
     "output_type": "display_data"
    },
    {
     "data": {
      "application/vnd.jupyter.widget-view+json": {
       "model_id": "66cd815dd1d64b8f9e3194893538821d",
       "version_major": 2,
       "version_minor": 0
      },
      "text/plain": [
       "Dropdown(description='Pulse mode:', options=('voltage', 'laser'), value='voltage')"
      ]
     },
     "metadata": {},
     "output_type": "display_data"
    },
    {
     "data": {
      "application/vnd.jupyter.widget-view+json": {
       "model_id": "029cc8fc9960429a856d5f3651891b16",
       "version_major": 2,
       "version_minor": 0
      },
      "text/plain": [
       "FloatText(value=110.0, description='Flight path length:')"
      ]
     },
     "metadata": {},
     "output_type": "display_data"
    },
    {
     "data": {
      "application/vnd.jupyter.widget-view+json": {
       "model_id": "eedb111b1b9a45f48dfbbe158906975e",
       "version_major": 2,
       "version_minor": 0
      },
      "text/plain": [
       "FloatText(value=54.0, description='t0:')"
      ]
     },
     "metadata": {},
     "output_type": "display_data"
    }
   ],
   "source": [
    "tdc, pulse_mode, flightPathLength_d, t0_d, max_mc, det_diam = wd.dataset_tdc_selection()\n",
    "display(tdc, det_diam, pulse_mode, flightPathLength_d, t0_d)"
   ]
  },
  {
   "cell_type": "markdown",
   "metadata": {
    "pycharm": {
     "name": "#%% md\n"
    }
   },
   "source": [
    "$$\\textbf{You can specify which dataset to use in below block}$$"
   ]
  },
  {
   "cell_type": "code",
   "execution_count": 130,
   "metadata": {
    "pycharm": {
     "name": "#%%\n"
    }
   },
   "outputs": [
    {
     "name": "stdout",
     "output_type": "stream",
     "text": [
      "The result will be saved on the path: D:/pyccapt/tests/data/OLO_AL_6_data/tof_calibration/\n"
     ]
    }
   ],
   "source": [
    "dataset_main_path = os.path.dirname(dataset_path)\n",
    "dataset_name_with_extention = os.path.basename(dataset_path)\n",
    "dataset_name = os.path.splitext(dataset_name_with_extention)[0]\n",
    "\n",
    "\n",
    "variables.init()\n",
    "# variables.path = os.path.join(p, 'tests//data')\n",
    "variables.result_path = os.path.dirname(dataset_main_path) +  '/tof_calibration/'\n",
    "if not os.path.isdir(variables.result_path):\n",
    "    os.makedirs(variables.result_path, mode=0o777, exist_ok=True)\n",
    "print('The result will be saved on the path:', variables.result_path)\n",
    "\n",
    "filename = dataset_path\n",
    "\n",
    "head, tail = os.path.split(filename)\n",
    "figname = os.path.splitext(tail)[0]\n",
    "\n",
    "if tdc.value == 'leap_pos' or tdc.value == 'leap_epos':\n",
    "    if tdc.value == 'leap_epos':\n",
    "        data = ccapt_tools.epos_to_ccapt(filename)\n",
    "    else:\n",
    "        print('The file has to be epos. With pos information this tutorial cannot be run')\n",
    "        data = ccapt_tools.pos_to_ccapt(filename)\n",
    "else:\n",
    "    data = data_tools.read_hdf5_through_pandas(filename)\n"
   ]
  },
  {
   "cell_type": "code",
   "execution_count": 131,
   "metadata": {
    "pycharm": {
     "name": "#%%\n"
    }
   },
   "outputs": [
    {
     "data": {
      "text/html": [
       "<div>\n",
       "<style scoped>\n",
       "    .dataframe tbody tr th:only-of-type {\n",
       "        vertical-align: middle;\n",
       "    }\n",
       "\n",
       "    .dataframe tbody tr th {\n",
       "        vertical-align: top;\n",
       "    }\n",
       "\n",
       "    .dataframe thead th {\n",
       "        text-align: right;\n",
       "    }\n",
       "</style>\n",
       "<table border=\"1\" class=\"dataframe\">\n",
       "  <thead>\n",
       "    <tr style=\"text-align: right;\">\n",
       "      <th></th>\n",
       "      <th>x (nm)</th>\n",
       "      <th>y (nm)</th>\n",
       "      <th>z (nm)</th>\n",
       "      <th>mc_c (Da)</th>\n",
       "      <th>mc (Da)</th>\n",
       "      <th>high_voltage (V)</th>\n",
       "      <th>pulse (V)</th>\n",
       "      <th>start_counter</th>\n",
       "      <th>t (ns)</th>\n",
       "      <th>t_c (nm)</th>\n",
       "      <th>x_det (cm)</th>\n",
       "      <th>y_det (cm)</th>\n",
       "      <th>pulse_pi</th>\n",
       "      <th>ion_pp</th>\n",
       "    </tr>\n",
       "  </thead>\n",
       "  <tbody>\n",
       "    <tr>\n",
       "      <th>0</th>\n",
       "      <td>0.0</td>\n",
       "      <td>0.0</td>\n",
       "      <td>0.0</td>\n",
       "      <td>0.0</td>\n",
       "      <td>27.175524</td>\n",
       "      <td>5300.393555</td>\n",
       "      <td>5300.393555</td>\n",
       "      <td>47896.0</td>\n",
       "      <td>640.406898</td>\n",
       "      <td>0.0</td>\n",
       "      <td>0.881878</td>\n",
       "      <td>2.741143</td>\n",
       "      <td>0</td>\n",
       "      <td>1</td>\n",
       "    </tr>\n",
       "    <tr>\n",
       "      <th>1</th>\n",
       "      <td>0.0</td>\n",
       "      <td>0.0</td>\n",
       "      <td>0.0</td>\n",
       "      <td>0.0</td>\n",
       "      <td>26.993029</td>\n",
       "      <td>5300.393555</td>\n",
       "      <td>5300.393555</td>\n",
       "      <td>48363.0</td>\n",
       "      <td>621.753138</td>\n",
       "      <td>0.0</td>\n",
       "      <td>-0.773633</td>\n",
       "      <td>-0.646286</td>\n",
       "      <td>467</td>\n",
       "      <td>1</td>\n",
       "    </tr>\n",
       "    <tr>\n",
       "      <th>2</th>\n",
       "      <td>0.0</td>\n",
       "      <td>0.0</td>\n",
       "      <td>0.0</td>\n",
       "      <td>0.0</td>\n",
       "      <td>26.600712</td>\n",
       "      <td>5300.393555</td>\n",
       "      <td>5300.393555</td>\n",
       "      <td>49690.0</td>\n",
       "      <td>628.864884</td>\n",
       "      <td>0.0</td>\n",
       "      <td>2.285878</td>\n",
       "      <td>-0.843673</td>\n",
       "      <td>1327</td>\n",
       "      <td>1</td>\n",
       "    </tr>\n",
       "    <tr>\n",
       "      <th>3</th>\n",
       "      <td>0.0</td>\n",
       "      <td>0.0</td>\n",
       "      <td>0.0</td>\n",
       "      <td>0.0</td>\n",
       "      <td>27.368893</td>\n",
       "      <td>5300.393555</td>\n",
       "      <td>5300.393555</td>\n",
       "      <td>50347.0</td>\n",
       "      <td>633.096270</td>\n",
       "      <td>0.0</td>\n",
       "      <td>-1.257551</td>\n",
       "      <td>1.617306</td>\n",
       "      <td>657</td>\n",
       "      <td>1</td>\n",
       "    </tr>\n",
       "    <tr>\n",
       "      <th>4</th>\n",
       "      <td>0.0</td>\n",
       "      <td>0.0</td>\n",
       "      <td>0.0</td>\n",
       "      <td>0.0</td>\n",
       "      <td>27.411449</td>\n",
       "      <td>5300.393555</td>\n",
       "      <td>5300.393555</td>\n",
       "      <td>50643.0</td>\n",
       "      <td>629.516394</td>\n",
       "      <td>0.0</td>\n",
       "      <td>-0.296082</td>\n",
       "      <td>1.540898</td>\n",
       "      <td>296</td>\n",
       "      <td>1</td>\n",
       "    </tr>\n",
       "    <tr>\n",
       "      <th>...</th>\n",
       "      <td>...</td>\n",
       "      <td>...</td>\n",
       "      <td>...</td>\n",
       "      <td>...</td>\n",
       "      <td>...</td>\n",
       "      <td>...</td>\n",
       "      <td>...</td>\n",
       "      <td>...</td>\n",
       "      <td>...</td>\n",
       "      <td>...</td>\n",
       "      <td>...</td>\n",
       "      <td>...</td>\n",
       "      <td>...</td>\n",
       "      <td>...</td>\n",
       "    </tr>\n",
       "    <tr>\n",
       "      <th>1786779</th>\n",
       "      <td>0.0</td>\n",
       "      <td>0.0</td>\n",
       "      <td>0.0</td>\n",
       "      <td>0.0</td>\n",
       "      <td>27.639377</td>\n",
       "      <td>5703.430176</td>\n",
       "      <td>5703.430176</td>\n",
       "      <td>52828.0</td>\n",
       "      <td>620.847882</td>\n",
       "      <td>0.0</td>\n",
       "      <td>-1.693714</td>\n",
       "      <td>1.986612</td>\n",
       "      <td>90</td>\n",
       "      <td>1</td>\n",
       "    </tr>\n",
       "    <tr>\n",
       "      <th>1786780</th>\n",
       "      <td>0.0</td>\n",
       "      <td>0.0</td>\n",
       "      <td>0.0</td>\n",
       "      <td>0.0</td>\n",
       "      <td>26.700668</td>\n",
       "      <td>5703.430176</td>\n",
       "      <td>5703.430176</td>\n",
       "      <td>53123.0</td>\n",
       "      <td>608.441760</td>\n",
       "      <td>0.0</td>\n",
       "      <td>2.225388</td>\n",
       "      <td>-0.792735</td>\n",
       "      <td>295</td>\n",
       "      <td>1</td>\n",
       "    </tr>\n",
       "    <tr>\n",
       "      <th>1786781</th>\n",
       "      <td>0.0</td>\n",
       "      <td>0.0</td>\n",
       "      <td>0.0</td>\n",
       "      <td>0.0</td>\n",
       "      <td>27.567948</td>\n",
       "      <td>5703.430176</td>\n",
       "      <td>5703.430176</td>\n",
       "      <td>53463.0</td>\n",
       "      <td>620.072928</td>\n",
       "      <td>0.0</td>\n",
       "      <td>-0.662204</td>\n",
       "      <td>2.521469</td>\n",
       "      <td>340</td>\n",
       "      <td>1</td>\n",
       "    </tr>\n",
       "    <tr>\n",
       "      <th>1786782</th>\n",
       "      <td>0.0</td>\n",
       "      <td>0.0</td>\n",
       "      <td>0.0</td>\n",
       "      <td>0.0</td>\n",
       "      <td>27.595504</td>\n",
       "      <td>5703.430176</td>\n",
       "      <td>5703.430176</td>\n",
       "      <td>53513.0</td>\n",
       "      <td>630.490230</td>\n",
       "      <td>0.0</td>\n",
       "      <td>-1.368980</td>\n",
       "      <td>3.088163</td>\n",
       "      <td>50</td>\n",
       "      <td>1</td>\n",
       "    </tr>\n",
       "    <tr>\n",
       "      <th>1786783</th>\n",
       "      <td>0.0</td>\n",
       "      <td>0.0</td>\n",
       "      <td>0.0</td>\n",
       "      <td>0.0</td>\n",
       "      <td>27.215947</td>\n",
       "      <td>5703.430176</td>\n",
       "      <td>5703.430176</td>\n",
       "      <td>53754.0</td>\n",
       "      <td>613.832148</td>\n",
       "      <td>0.0</td>\n",
       "      <td>0.620816</td>\n",
       "      <td>2.285878</td>\n",
       "      <td>241</td>\n",
       "      <td>1</td>\n",
       "    </tr>\n",
       "  </tbody>\n",
       "</table>\n",
       "<p>1786784 rows × 14 columns</p>\n",
       "</div>"
      ],
      "text/plain": [
       "         x (nm)  y (nm)  z (nm)  mc_c (Da)    mc (Da)  high_voltage (V)  \\\n",
       "0           0.0     0.0     0.0        0.0  27.175524       5300.393555   \n",
       "1           0.0     0.0     0.0        0.0  26.993029       5300.393555   \n",
       "2           0.0     0.0     0.0        0.0  26.600712       5300.393555   \n",
       "3           0.0     0.0     0.0        0.0  27.368893       5300.393555   \n",
       "4           0.0     0.0     0.0        0.0  27.411449       5300.393555   \n",
       "...         ...     ...     ...        ...        ...               ...   \n",
       "1786779     0.0     0.0     0.0        0.0  27.639377       5703.430176   \n",
       "1786780     0.0     0.0     0.0        0.0  26.700668       5703.430176   \n",
       "1786781     0.0     0.0     0.0        0.0  27.567948       5703.430176   \n",
       "1786782     0.0     0.0     0.0        0.0  27.595504       5703.430176   \n",
       "1786783     0.0     0.0     0.0        0.0  27.215947       5703.430176   \n",
       "\n",
       "           pulse (V)  start_counter      t (ns)  t_c (nm)  x_det (cm)  \\\n",
       "0        5300.393555        47896.0  640.406898       0.0    0.881878   \n",
       "1        5300.393555        48363.0  621.753138       0.0   -0.773633   \n",
       "2        5300.393555        49690.0  628.864884       0.0    2.285878   \n",
       "3        5300.393555        50347.0  633.096270       0.0   -1.257551   \n",
       "4        5300.393555        50643.0  629.516394       0.0   -0.296082   \n",
       "...              ...            ...         ...       ...         ...   \n",
       "1786779  5703.430176        52828.0  620.847882       0.0   -1.693714   \n",
       "1786780  5703.430176        53123.0  608.441760       0.0    2.225388   \n",
       "1786781  5703.430176        53463.0  620.072928       0.0   -0.662204   \n",
       "1786782  5703.430176        53513.0  630.490230       0.0   -1.368980   \n",
       "1786783  5703.430176        53754.0  613.832148       0.0    0.620816   \n",
       "\n",
       "         y_det (cm)  pulse_pi  ion_pp  \n",
       "0          2.741143         0       1  \n",
       "1         -0.646286       467       1  \n",
       "2         -0.843673      1327       1  \n",
       "3          1.617306       657       1  \n",
       "4          1.540898       296       1  \n",
       "...             ...       ...     ...  \n",
       "1786779    1.986612        90       1  \n",
       "1786780   -0.792735       295       1  \n",
       "1786781    2.521469       340       1  \n",
       "1786782    3.088163        50       1  \n",
       "1786783    2.285878       241       1  \n",
       "\n",
       "[1786784 rows x 14 columns]"
      ]
     },
     "execution_count": 131,
     "metadata": {},
     "output_type": "execute_result"
    }
   ],
   "source": [
    "data"
   ]
  },
  {
   "cell_type": "code",
   "execution_count": 132,
   "metadata": {
    "pycharm": {
     "name": "#%%\n"
    }
   },
   "outputs": [],
   "source": [
    "# Remove negative TOF\n",
    "# threshold = 0\n",
    "# dld_t_mask = data['t (ns)'].to_numpy()\n",
    "# dld_t_mask = (dld_t <= threshold)\n",
    "# data.drop(np.where(dld_t_mask)[0], inplace=True)\n",
    "# data.reset_index(inplace=True, drop=True)\n"
   ]
  },
  {
   "cell_type": "code",
   "execution_count": 133,
   "metadata": {},
   "outputs": [
    {
     "data": {
      "application/vnd.jupyter.widget-view+json": {
       "model_id": "84e091b0866849daa2a2f1e044535085",
       "version_major": 2,
       "version_minor": 0
      },
      "image/png": "[encoded data removed]",
      "text/html": [
       "\n",
       "            <div style=\"display: inline-block;\">\n",
       "                <div class=\"jupyter-widgets widget-label\" style=\"text-align: center;\">\n",
       "                    Figure\n",
       "                </div>\n",
       "                <img src='data:image/png;base64,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' width=433.0708661417323/>\n",
       "            </div>\n",
       "        "
      ],
      "text/plain": [
       "Canvas(toolbar=Toolbar(toolitems=[('Home', 'Reset original view', 'home', 'home'), ('Back', 'Back to previous …"
      ]
     },
     "metadata": {},
     "output_type": "display_data"
    }
   ],
   "source": [
    "data_loadcrop.plot_crop_experimetn_history(data, save_name=variables.result_path + '//ex_hist_' + dataset_name)"
   ]
  },
  {
   "cell_type": "code",
   "execution_count": 134,
   "metadata": {},
   "outputs": [],
   "source": [
    "# exctract needed data from Pandas data frame as an numpy array\n",
    "dld_highVoltage = data['high_voltage (V)'].to_numpy()\n",
    "if pulse_mode.value == 'voltage':\n",
    "    dld_pulseVoltage = data['pulse (V)'].to_numpy()\n",
    "elif pulse_mode.value == 'laser':\n",
    "    dld_pulseVoltage = data['pulse (deg)'].to_numpy()\n",
    "dld_t = data['t (ns)'].to_numpy()\n",
    "dld_x = data['x_det (cm)'].to_numpy()\n",
    "dld_y = data['y_det (cm)'].to_numpy()\n",
    "# copy dld_t to a have a global version of that\n",
    "variables.dld_t_calib = np.copy(dld_t)\n",
    "variables.dld_t_calib_backup = np.copy(dld_t)"
   ]
  },
  {
   "cell_type": "code",
   "execution_count": 135,
   "metadata": {},
   "outputs": [],
   "source": [
    "ion_distance = np.sqrt(flightPathLength_d.value**2 + (dld_x*10)**2 + (dld_y*10)**2)\n",
    "ion_distance = flightPathLength_d.value / ion_distance\n",
    "dld_t = dld_t * ion_distance"
   ]
  },
  {
   "cell_type": "code",
   "execution_count": 136,
   "metadata": {},
   "outputs": [
    {
     "name": "stdout",
     "output_type": "stream",
     "text": [
      "The peak index for MRP calculation is: 1\n"
     ]
    },
    {
     "data": {
      "application/vnd.jupyter.widget-view+json": {
       "model_id": "bf86ab58298247ee93feaf951ea728eb",
       "version_major": 2,
       "version_minor": 0
      },
      "image/png": "[encoded data removed]",
      "text/html": [
       "\n",
       "            <div style=\"display: inline-block;\">\n",
       "                <div class=\"jupyter-widgets widget-label\" style=\"text-align: center;\">\n",
       "                    Figure\n",
       "                </div>\n",
       "                <img src='data:image/png;base64,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' width=354.3307086614173/>\n",
       "            </div>\n",
       "        "
      ],
      "text/plain": [
       "Canvas(toolbar=Toolbar(toolitems=[('Home', 'Reset original view', 'home', 'home'), ('Back', 'Back to previous …"
      ]
     },
     "metadata": {},
     "output_type": "display_data"
    },
    {
     "name": "stdout",
     "output_type": "stream",
     "text": [
      "Mass resolving power for the highest peak (MRP --> m/m_2-m_1): 33.82870470645703\n",
      "Peaks  0 is at location and height: (447.46, 1224.00) peak window sides (50.00%) are: (442.18, 454.02)\n",
      "Peaks  1 is at location and height: (605.99, 8978.00) peak window sides (50.00%) are: (599.22, 617.14)\n"
     ]
    }
   ],
   "source": [
    "percent_mrp = 50\n",
    "peaks_ini, peaks_y_ini, peak_widths_p_ini, _ = tools.hist_plot(dld_t[dld_t < 2000], 0.1, prominence=200, distance=100, h_line=True, text_loc='right', percent=percent_mrp, plot=True, label='tof', fig_name=figname, fig_size=(9/2.54, 6/2.54))\n",
    "index_max_ini = np.argmax(peaks_y_ini)\n",
    "mrp = (peaks_ini[index_max_ini] / (peak_widths_p_ini[index_max_ini][2] - peak_widths_p_ini[index_max_ini][1]))\n",
    "print('Mass resolving power for the highest peak (MRP --> m/m_2-m_1):', mrp)\n",
    "for i in range(len(peaks_ini)):\n",
    "    print('Peaks ', i, 'is at location and height: ({:.2f}, {:.2f})'.format(peaks_ini[i], peaks_y_ini[i]), 'peak window sides ({:.2f}%) are: ({:.2f}, {:.2f})'.format(percent_mrp, peak_widths_p_ini[i][1], peak_widths_p_ini[i][2]))"
   ]
  },
  {
   "cell_type": "markdown",
   "metadata": {
    "pycharm": {
     "name": "#%% md\n"
    }
   },
   "source": [
    "$$\\textbf{Below plotted graph offers peak selection. You can select relevant peaks you want for computation.}$$"
   ]
  },
  {
   "cell_type": "code",
   "execution_count": 137,
   "metadata": {
    "pycharm": {
     "name": "#%%\n"
    }
   },
   "outputs": [
    {
     "name": "stdout",
     "output_type": "stream",
     "text": [
      "The peak index for MRP calculation is: 2\n"
     ]
    },
    {
     "data": {
      "application/vnd.jupyter.widget-view+json": {
       "model_id": "7a0fc4caf2e448fb86d830631a46200f",
       "version_major": 2,
       "version_minor": 0
      },
      "image/png": "[encoded data removed]",
      "text/html": [
       "\n",
       "            <div style=\"display: inline-block;\">\n",
       "                <div class=\"jupyter-widgets widget-label\" style=\"text-align: center;\">\n",
       "                    Figure\n",
       "                </div>\n",
       "                <img src='data:image/png;base64,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' width=354.3307086614173/>\n",
       "            </div>\n",
       "        "
      ],
      "text/plain": [
       "Canvas(toolbar=Toolbar(toolitems=[('Home', 'Reset original view', 'home', 'home'), ('Back', 'Back to previous …"
      ]
     },
     "metadata": {},
     "output_type": "display_data"
    },
    {
     "name": "stdout",
     "output_type": "stream",
     "text": [
      "Mass resolving power for the highest peak (MRP --> m/m_2-m_1): 17.800000249912582\n",
      "Peaks  0 is at location and height: (1.10, 113.00) peak window sides (50.00%) are: (1.00, 1.20)\n",
      "Peaks  1 is at location and height: (13.61, 11553.00) peak window sides (50.00%) are: (12.31, 13.71)\n",
      "Peaks  2 is at location and height: (26.72, 90961.00) peak window sides (50.00%) are: (25.51, 27.02)\n"
     ]
    }
   ],
   "source": [
    "percent_mrp = 50\n",
    "lim = 150\n",
    "mc_seb_ini = mc_tools.tof2mc(dld_t, t0_d.value, dld_highVoltage, dld_pulseVoltage, dld_x, dld_y, flightPathLength_d.value, mode=pulse_mode.value)\n",
    "peaks_ini, peaks_y_ini, peak_widths_p_ini, _ = tools.hist_plot(mc_seb_ini[mc_seb_ini < lim], 0.1, prominence=50, distance=100, h_line=True, text_loc='right', percent=percent_mrp, plot=True, fig_name=figname)\n",
    "index_max_ini = np.argmax(peaks_y_ini)\n",
    "mrp = (peaks_ini[index_max_ini] / (peak_widths_p_ini[index_max_ini][2] - peak_widths_p_ini[index_max_ini][1]))\n",
    "print('Mass resolving power for the highest peak (MRP --> m/m_2-m_1):', mrp)\n",
    "for i in range(len(peaks_ini)):\n",
    "    print('Peaks ', i, 'is at location and height: ({:.2f}, {:.2f})'.format(peaks_ini[i], peaks_y_ini[i]), 'peak window sides ({:.2f}%) are: ({:.2f}, {:.2f})'.format(percent_mrp, peak_widths_p_ini[i][1], peak_widths_p_ini[i][2]))"
   ]
  },
  {
   "cell_type": "code",
   "execution_count": 91,
   "metadata": {},
   "outputs": [],
   "source": [
    "bin_size=widgets.FloatText(value=0.1, description='bin size:')\n",
    "prominence=widgets.IntText(value=100, description='peak prominance:')\n",
    "distance=widgets.IntText(value=500, description='peak distance:')\n",
    "lim_tof=widgets.IntText(value=1500, description='lim tof/mc:')\n",
    "percent=widgets.IntText(value=50, description='percent MRP:')\n",
    "\n",
    "def hist_plot(figname, plot):\n",
    "    \n",
    "    with out:\n",
    "        clear_output(True)\n",
    "    \n",
    "        bin_size_p = bin_size.value\n",
    "        prominence_p = prominence.value\n",
    "        distance_p = distance.value\n",
    "        lim_tof_p = lim_tof.value\n",
    "        percent_p = percent.value\n",
    "        selector = 'rect'\n",
    "        peaks_ini, peaks_y_ini, peak_widths_p_ini, _ = tools.hist_plot(variables.dld_t_calib[variables.dld_t_calib < lim_tof_p], bin_size_p, distance=distance_p, percent=percent_p, prominence=prominence_p, selector=selector, plot=plot, label='tof', fig_name=figname+'calib')\n",
    "        index_max_ini = np.argmax(peaks_y_ini)\n",
    "        variables.max_peak = peaks_ini[index_max_ini]\n",
    "        variables.peak = peaks_ini\n",
    "        mrp = (peaks_ini[index_max_ini] / (peak_widths_p_ini[index_max_ini][2] - peak_widths_p_ini[index_max_ini][1]))\n",
    "        print('Mass resolving power for the highest peak (MRP --> m/m_2-m_1):', mrp)\n",
    "        for i in range(len(peaks_ini)):\n",
    "            print('Peaks ', i, 'is at location and height: ({:.2f}, {:.2f})'.format(peaks_ini[i], peaks_y_ini[i]), 'peak window sides ({:.2f}%) are: ({:.2f}, {:.2f})'.format(percent_p, peak_widths_p_ini[i][1], peak_widths_p_ini[i][2]))"
   ]
  },
  {
   "cell_type": "code",
   "execution_count": 92,
   "metadata": {},
   "outputs": [],
   "source": [
    "sample_size_b = widgets.IntText(value=11, description='sample size:') \n",
    "index_fig_b = widgets.IntText(value=1, description='fig index:')\n",
    "plot_b = widgets.Dropdown(\n",
    "    options=[('False', False), ('True', True)],\n",
    "    description='plot fig:'\n",
    ")\n",
    "\n",
    "save_b = widgets.Dropdown(\n",
    "    options=[('False', False), ('True', True)],\n",
    "    description='save fig:'\n",
    ")\n",
    "def bowl_correction(dld_x, dld_y, dld_highVoltage, figname=figname):\n",
    "    with out:\n",
    "        sample_size_p = sample_size_b.value\n",
    "        index_fig_p = index_fig_b.value\n",
    "        plot_p = plot_b.value\n",
    "        save_p = save_b.value\n",
    "\n",
    "        calibration.bowl_correction_main(dld_x, dld_y, dld_highVoltage, det_diam.value, sample_size=sample_size_p, calibration_mode='tof',\n",
    "                                        index_fig=index_fig_p, plot=plot_p, save=save_p)\n"
   ]
  },
  {
   "cell_type": "code",
   "execution_count": 93,
   "metadata": {},
   "outputs": [],
   "source": [
    "sample_size_v =widgets.IntText(value=100, description='sample size:') \n",
    "index_fig_v = widgets.IntText(value=1, description='fig index:')\n",
    "plot_v = widgets.Dropdown(\n",
    "    options=[('False', False), ('True', True)],\n",
    "    description='plot fig:'\n",
    ")\n",
    "save_v = widgets.Dropdown(\n",
    "    options=[('False', False), ('True', True)],\n",
    "    description='save fig:'\n",
    ")\n",
    "mode_v = widgets.Dropdown(\n",
    "    options=[('ion_seq', 'ion_seq'), ('voltage', 'voltage')],\n",
    "    description='sample mode:'\n",
    ")\n",
    "peak_mode = widgets.Dropdown(\n",
    "    options=[('peak', 'peak'), ('mean', 'mean'), ('median', 'median')],\n",
    "    description='peak mode:'\n",
    ")\n",
    "def vol_correction(dld_highVoltage, figname):\n",
    "    with out:\n",
    "        sample_size_p = sample_size_v.value\n",
    "        index_fig_p = index_fig_v.value\n",
    "        plot_p = plot_v.value\n",
    "        save_p = save_v.value\n",
    "        mode_p = mode_v.value\n",
    "        peak_mode_p = peak_mode.value\n",
    "        calibration.voltage_corr_main(dld_highVoltage, sample_size=sample_size_p, calibration_mode='tof',\n",
    "                                        index_fig=index_fig_p, plot=plot_p, save=save_p, mode=mode_p, peak_mode=peak_mode_p)\n"
   ]
  },
  {
   "cell_type": "code",
   "execution_count": 94,
   "metadata": {},
   "outputs": [
    {
     "data": {
      "application/vnd.jupyter.widget-view+json": {
       "model_id": "19735f50bdc94a0f82df8c5ba9a49299",
       "version_major": 2,
       "version_minor": 0
      },
      "text/plain": [
       "VBox(children=(Tab(children=(VBox(children=(FloatText(value=0.1, description='bin size:'), IntText(value=100, …"
      ]
     },
     "metadata": {},
     "output_type": "display_data"
    },
    {
     "data": {
      "application/vnd.jupyter.widget-view+json": {
       "model_id": "2e8759d84cc24790b0c33e2c01243968",
       "version_major": 2,
       "version_minor": 0
      },
      "text/plain": [
       "Output()"
      ]
     },
     "metadata": {},
     "output_type": "display_data"
    }
   ],
   "source": [
    "pb_bowl = widgets.HTML(\n",
    "    value=\" \",\n",
    "    placeholder='Status:',\n",
    "    description='Status:',\n",
    ")\n",
    "pb_vol = widgets.HTML(\n",
    "    value=\" \",\n",
    "    placeholder='Status:',\n",
    "    description='Status:',\n",
    ")\n",
    "plot_button = widgets.Button(\n",
    "    description='plot hist',\n",
    ")\n",
    "plot_fdm_button = widgets.Button(\n",
    "    description='plot FDM',\n",
    ")\n",
    "reset_button = widgets.Button(\n",
    "    description='reset back correction',\n",
    ")\n",
    "save_button = widgets.Button(\n",
    "    description='save correction',\n",
    ")\n",
    "bowl_button = widgets.Button(\n",
    "    description='bowl correction',\n",
    ")\n",
    "vol_button = widgets.Button(\n",
    "    description='voltage correction',\n",
    ")\n",
    "bin_fdm = widgets.IntText(value=256, description='bin FDM:')\n",
    "    \n",
    "@plot_button.on_click\n",
    "def plot_on_click(b, figname=figname, plot=True):\n",
    "    hist_plot(figname, plot)\n",
    "\n",
    "@plot_fdm_button.on_click\n",
    "def plot_fdm_on_click(b, save=True):\n",
    "    with out:\n",
    "        clear_output(True)\n",
    "        if variables.selected_x1 == 0 or variables.selected_x2 == 0:\n",
    "            print('Please first select a peak')\n",
    "        else:\n",
    "            print('Selected tof are: (%s, %s)' %(variables.selected_x1, variables.selected_x2)) \n",
    "            mask_temporal = np.logical_and((variables.dld_t_calib > variables.selected_x1),\n",
    "                                           (variables.dld_t_calib < variables.selected_x2))\n",
    "            x = dld_x[mask_temporal]\n",
    "            y = dld_y[mask_temporal]\n",
    "            bin_fdm_p = bin_fdm.value\n",
    "            bins = [bin_fdm_p, bin_fdm_p]\n",
    "\n",
    "            calibration.plot_FDM(x, y, save, bins)\n",
    "    \n",
    "@reset_button.on_click\n",
    "def reset_on_click(b, figname=figname, plot=True):\n",
    "    variables.dld_t_calib = np.copy(variables.dld_t_calib_backup)\n",
    "@save_button.on_click\n",
    "def save_on_click(b, figname=figname, plot=True):\n",
    "    variables.dld_t_calib_backup = np.copy(variables.dld_t_calib)\n",
    "    \n",
    "@bowl_button.on_click\n",
    "def bowl_on_click(b, dld_x=dld_x, dld_y=dld_y, dld_highVoltage=dld_highVoltage, figname=figname):\n",
    "    with out:\n",
    "        clear_output(True)\n",
    "        pb_bowl.value = \"<b>Starting...</b>\"\n",
    "        if variables.selected_x1 == 0 or variables.selected_x2 == 0:\n",
    "            print('Please first select a peak')\n",
    "        else:\n",
    "            print('Selected tof are: (%s, %s)' %(variables.selected_x1, variables.selected_x2))\n",
    "            bowl_correction(dld_x, dld_y, dld_highVoltage, figname)  \n",
    "        pb_bowl.value = \"<b>Flished</b>\"\n",
    "@vol_button.on_click\n",
    "def vol_on_click(b, dld_highVoltage=dld_highVoltage, figname=figname):\n",
    "    with out:\n",
    "        clear_output(True)\n",
    "        pb_vol.value = \"<b>Starting...</b>\"\n",
    "        if variables.selected_x1 == 0 or variables.selected_x2 == 0:\n",
    "            print('Please first select a peak')\n",
    "        else:\n",
    "            print('Selected tof are: (%s, %s)' %(variables.selected_x1, variables.selected_x2))\n",
    "            vol_correction(dld_highVoltage, figname)\n",
    "        pb_vol.value = \"<b>Flished</b>\"\n",
    "    \n",
    "\n",
    "\n",
    "tab1 = VBox(children=[bin_size, prominence, distance, lim_tof, percent, bin_fdm])\n",
    "tab2 = VBox(children=[HBox(children=[sample_size_b, index_fig_b, plot_b, save_b]), bowl_button, pb_bowl])\n",
    "tab3 = VBox(children=[HBox(children=[sample_size_v, index_fig_v, mode_v, peak_mode, plot_v, save_v]), vol_button, pb_vol])\n",
    "\n",
    "tab = widgets.Tab(children=[tab1, tab2, tab3])\n",
    "tab.set_title(0, 'tof/mc plot')\n",
    "tab.set_title(1, 'bowl correction')\n",
    "tab.set_title(2, 'voltage correction')\n",
    "\n",
    "\n",
    "\n",
    "display(VBox(children=[tab,HBox(children=[plot_button, plot_fdm_button, save_button, reset_button])]))\n",
    "out = Output()\n",
    "display(out)"
   ]
  },
  {
   "cell_type": "code",
   "execution_count": 21,
   "metadata": {},
   "outputs": [],
   "source": [
    "# fitresult = [ 1.59856266e+00,  5.68765920e-09, -1.41281563e-04]\n",
    "# f_v = calibration.voltage_corr(data['high_voltage (V)'].to_numpy(), *fitresult)\n",
    "# variables.dld_t_calib = variables.dld_t_calib * (1 / f_v)"
   ]
  },
  {
   "cell_type": "code",
   "execution_count": 22,
   "metadata": {},
   "outputs": [],
   "source": [
    "# parameters = [ 9.88684464e-01, -2.17639093e-04 , 2.36038428e-04,  3.44156992e-05, -2.62895576e-06,  3.28072030e-05]\n",
    "# f_bowl = calibration.bowl_corr_fit([data['x_det (cm)'].to_numpy()* 10, data['y_det (cm)'].to_numpy()* 10], *parameters)\n",
    "# variables.dld_t_calib = variables.dld_t_calib * 1 / f_bowl"
   ]
  },
  {
   "cell_type": "code",
   "execution_count": 95,
   "metadata": {},
   "outputs": [],
   "source": [
    "variables.dld_t_calib_backup = np.copy(variables.dld_t_calib)"
   ]
  },
  {
   "cell_type": "code",
   "execution_count": 96,
   "metadata": {
    "tags": []
   },
   "outputs": [],
   "source": [
    "# np.save(\"t_171_c.npy\", variables.dld_t_calib)"
   ]
  },
  {
   "cell_type": "code",
   "execution_count": 97,
   "metadata": {},
   "outputs": [
    {
     "data": {
      "application/vnd.jupyter.widget-view+json": {
       "model_id": "f30e8720eac94d1590e5475a7fdb90dc",
       "version_major": 2,
       "version_minor": 0
      },
      "text/plain": [
       "interactive(children=(FloatText(value=0.1, description='bin_size'), IntText(value=50, description='prominence'…"
      ]
     },
     "metadata": {},
     "output_type": "display_data"
    }
   ],
   "source": [
    "def tof_his(bin_size, prominence, distance, percent, selector, plot, figname, lim_dld_t):\n",
    "    variables.peaks_idx = []\n",
    "    peaks_ini, peaks_y_ini, peak_widths_p_ini, _ = tools.hist_plot(variables.dld_t_calib[variables.dld_t_calib < lim_dld_t], bin_size, distance=distance, percent=percent, prominence=prominence, selector=selector, peaks_find_plot=True, plot=plot, label='tof', fig_name=figname)\n",
    "    index_max_ini = np.argmax(peaks_y_ini)\n",
    "    variables.max_peak = peaks_ini[index_max_ini]\n",
    "    variables.peak = peaks_ini\n",
    "    mrp = (peaks_ini[index_max_ini] / (peak_widths_p_ini[index_max_ini][2] - peak_widths_p_ini[index_max_ini][1]))\n",
    "    print('Mass resolving power for the highest peak (MRP --> m/m_2-m_1):', mrp)\n",
    "    for i in range(len(peaks_ini)):\n",
    "                   print('Peaks ', i+1, 'is at location and height: ({:.2f}, {:.2f})'.format(peaks_ini[i], peaks_y_ini[i]), 'peak window sides ({:.2f}%) are: ({:.2f}, {:.2f})'.format(percent, peak_widths_p_ini[i][1], peak_widths_p_ini[i][2]))\n",
    "interact_manual(tof_his, bin_size=widgets.FloatText(value=0.1)\n",
    "               ,prominence=widgets.IntText(value=50), distance=widgets.IntText(value=100), lim_dld_t=widgets.IntText(value=1500)\n",
    "               ,percent=widgets.IntText(value=50), selector=fixed('peak'), plot=fixed(True), figname=fixed(figname));\n"
   ]
  },
  {
   "cell_type": "code",
   "execution_count": 98,
   "metadata": {
    "pycharm": {
     "name": "#%%\n"
    }
   },
   "outputs": [
    {
     "data": {
      "application/vnd.jupyter.widget-view+json": {
       "model_id": "b602453cd78e4c5c93d4fccb6fc17e37",
       "version_major": 2,
       "version_minor": 0
      },
      "text/plain": [
       "Dropdown(description='Elements', options=(('H (1) (99.98)', 'H(1)[1.01]'), ('H (2) (0.01)', 'H(2)[2.01]'), ('H…"
      ]
     },
     "metadata": {},
     "output_type": "display_data"
    },
    {
     "data": {
      "application/vnd.jupyter.widget-view+json": {
       "model_id": "e364e64659bd44b39b1a6a3235bbfd3b",
       "version_major": 2,
       "version_minor": 0
      },
      "text/plain": [
       "Dropdown(description='Charge', options=((1, 1), (2, 2), (3, 3), (4, 4)), value=1)"
      ]
     },
     "metadata": {},
     "output_type": "display_data"
    },
    {
     "data": {
      "application/vnd.jupyter.widget-view+json": {
       "model_id": "1912b1c682bc4ba4af7f7ac7bf4b92a6",
       "version_major": 2,
       "version_minor": 0
      },
      "text/plain": [
       "Button(description='ADD', icon='check', style=ButtonStyle(), tooltip='ADD')"
      ]
     },
     "metadata": {},
     "output_type": "display_data"
    },
    {
     "data": {
      "application/vnd.jupyter.widget-view+json": {
       "model_id": "489472fff6104d90a460da9d5d550e9e",
       "version_major": 2,
       "version_minor": 0
      },
      "text/plain": [
       "Button(description='DELETE', icon='check', style=ButtonStyle(), tooltip='DELETE')"
      ]
     },
     "metadata": {},
     "output_type": "display_data"
    },
    {
     "data": {
      "application/vnd.jupyter.widget-view+json": {
       "model_id": "68c5a12fa80e42049ae9c357b8f652d3",
       "version_major": 2,
       "version_minor": 0
      },
      "text/plain": [
       "Button(description='RESET', icon='check', style=ButtonStyle(), tooltip='RESET')"
      ]
     },
     "metadata": {},
     "output_type": "display_data"
    },
    {
     "data": {
      "application/vnd.jupyter.widget-view+json": {
       "model_id": "aa8e7ed5cc8a4a19be7bbdb4a270b126",
       "version_major": 2,
       "version_minor": 0
      },
      "text/plain": [
       "Output()"
      ]
     },
     "metadata": {},
     "output_type": "display_data"
    }
   ],
   "source": [
    "isotopeTableFile = '../../../files/isotopeTable.h5'\n",
    "dataframe = data_tools.read_hdf5_through_pandas(isotopeTableFile)\n",
    "elementsList = dataframe['element']\n",
    "elementIsotopeList = dataframe['isotope']\n",
    "elementMassList =  dataframe['weight']\n",
    "abundanceList = dataframe['abundance']\n",
    "\n",
    "elements = list(zip(elementsList, elementIsotopeList, elementMassList, abundanceList))\n",
    "dropdownList = []\n",
    "for element in elements:\n",
    "    tupleElement = (\"{} ({}) ({:.2f})\".format(element[0], element[1], element[3]), \"{}({})[{}]\".format(element[0], element[1], element[2]))\n",
    "    dropdownList.append(tupleElement)\n",
    "\n",
    "chargeList = [(1,1,),(2,2,),(3,3,),(4,4,)]\n",
    "dropdown = wd.dropdownWidget(dropdownList,\"Elements\")\n",
    "dropdown.observe(wd.on_change)\n",
    "\n",
    "\n",
    "chargeDropdown = wd.dropdownWidget(chargeList,\"Charge\")\n",
    "chargeDropdown.observe(wd.on_change_charge)\n",
    "\n",
    "wd.compute_element_isotope_values_according_to_selected_charge()\n",
    "\n",
    "buttonAdd = wd.buttonWidget(\"ADD\")\n",
    "buttonDelete = wd.buttonWidget(\"DELETE\")\n",
    "buttonReset = wd.buttonWidget(\"RESET\")\n",
    "\n",
    "display(dropdown, chargeDropdown, buttonAdd, buttonDelete, buttonReset)\n",
    "\n",
    "def buttonAdd_f(b,):\n",
    "    with out:\n",
    "        clear_output(True)\n",
    "        wd.onClickAdd(b,)\n",
    "        display()\n",
    "def buttonDelete_f(b,):\n",
    "    with out:\n",
    "        clear_output(True)\n",
    "        wd.onClickDelete(b,)\n",
    "        display()\n",
    "def buttonResett_f(b,):\n",
    "    with out:\n",
    "        clear_output(True)\n",
    "        wd.onClickReset(b,)\n",
    "        display()\n",
    "\n",
    "listMaterial = buttonAdd.on_click(buttonAdd_f)\n",
    "buttonDelete.on_click(buttonDelete_f)\n",
    "buttonReset.on_click(buttonResett_f)\n",
    "# listMaterial = buttonAdd.on_click(wd.onClickAdd)\n",
    "# buttonDelete.on_click(wd.onClickDelete)\n",
    "# buttonReset.on_click(wd.onClickReset)\n",
    "out = Output()\n",
    "display(out)"
   ]
  },
  {
   "cell_type": "code",
   "execution_count": 99,
   "metadata": {
    "pycharm": {
     "name": "#%%\n"
    }
   },
   "outputs": [
    {
     "name": "stdout",
     "output_type": "stream",
     "text": [
      "highest peak in the tof histogram: [171.45736849 445.83000897 603.93463447]\n",
      "highest peak in the ideal mc histogram: [ 1.01 13.49 26.98]\n"
     ]
    }
   ],
   "source": [
    "peaks_chos = []\n",
    "for i in range(len(variables.peaks_idx)):\n",
    "    peaks_chos.append(variables.peak[variables.peaks_idx[i]])\n",
    "peaks_chos = np.array(peaks_chos)\n",
    "listMaterial = np.array(variables.listMaterial)\n",
    "print('highest peak in the tof histogram:', peaks_chos)\n",
    "print('highest peak in the ideal mc histogram:', listMaterial)"
   ]
  },
  {
   "cell_type": "code",
   "execution_count": 100,
   "metadata": {
    "pycharm": {
     "name": "#%%\n"
    }
   },
   "outputs": [
    {
     "name": "stderr",
     "output_type": "stream",
     "text": [
      "C:\\Users\\APTUser\\.conda\\envs\\oxcart5\\lib\\site-packages\\scipy\\optimize\\_minpack_py.py:906: OptimizeWarning: Covariance of the parameters could not be estimated\n",
      "  warnings.warn('Covariance of the parameters could not be estimated',\n"
     ]
    }
   ],
   "source": [
    "def parametric(t, t0, c, d):\n",
    "\n",
    "    # return c * ((t - t0)**2) + d\n",
    "    return c * ((t - t0)**2) + d*t\n",
    "\n",
    "def parametric_calib(t, mc_ideal):\n",
    "    \n",
    "    fitresult, _ = curve_fit(parametric, t, mc_ideal, maxfev=2000)\n",
    "    return fitresult\n",
    "\n",
    "fitresult = parametric_calib(peaks_chos, variables.listMaterial)\n",
    "\n",
    "\n",
    "mc_p_1 = parametric(variables.dld_t_calib, *fitresult)"
   ]
  },
  {
   "cell_type": "code",
   "execution_count": 101,
   "metadata": {},
   "outputs": [
    {
     "name": "stdout",
     "output_type": "stream",
     "text": [
      "The t0 is: 52.35718377338705 ns\n"
     ]
    }
   ],
   "source": [
    "print('The t0 is:', fitresult[0], 'ns')"
   ]
  },
  {
   "cell_type": "code",
   "execution_count": 102,
   "metadata": {
    "pycharm": {
     "name": "#%%\n"
    }
   },
   "outputs": [
    {
     "name": "stdout",
     "output_type": "stream",
     "text": [
      "The peak index for MRP calculation is: 2\n"
     ]
    },
    {
     "data": {
      "application/vnd.jupyter.widget-view+json": {
       "model_id": "2659f0fd364f40b4abc2516a3c4e7793",
       "version_major": 2,
       "version_minor": 0
      },
      "image/png": "[encoded data removed]",
      "text/html": [
       "\n",
       "            <div style=\"display: inline-block;\">\n",
       "                <div class=\"jupyter-widgets widget-label\" style=\"text-align: center;\">\n",
       "                    Figure\n",
       "                </div>\n",
       "                <img src='data:image/png;base64,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' width=354.3307086614173/>\n",
       "            </div>\n",
       "        "
      ],
      "text/plain": [
       "Canvas(toolbar=Toolbar(toolitems=[('Home', 'Reset original view', 'home', 'home'), ('Back', 'Back to previous …"
      ]
     },
     "metadata": {},
     "output_type": "display_data"
    },
    {
     "name": "stdout",
     "output_type": "stream",
     "text": [
      "Mass resolving power for the highest peak (MRP --> m/m_2-m_1): 269.01550939358486\n",
      "Peaks  0 is at location and height: (0.90, 118.00) peak window sides (half-maximum) are: (0.80, 1.00)\n",
      "Peaks  1 is at location and height: (13.44, 81784.00) peak window sides (half-maximum) are: (13.34, 13.54)\n",
      "Peaks  2 is at location and height: (26.97, 673199.00) peak window sides (half-maximum) are: (26.87, 26.97)\n"
     ]
    }
   ],
   "source": [
    "percent_mrp = 50\n",
    "# background = {'calculation': True, 'plot_no_back': True, 'plot': False, 'mode': 'fabc', 'patch': False, 'lam': 1e4, 'num_std': 5.0}\n",
    "background={'calculation': False}\n",
    "peak_p, peaks_y_p, peak_widths_p, _ = tools.hist_plot(mc_p_1[mc_p_1 < 75], 0.1, prominence=40, distance=20, text_loc='right', percent=percent_mrp, plot=True, fig_name='mc2_p_1'+figname, background=background)\n",
    "index_max_ini = np.argmax(peaks_y_p)\n",
    "mrp = (peak_p[index_max_ini] / (peak_widths_p[index_max_ini][2] - peak_widths_p[index_max_ini][1]))\n",
    "print('Mass resolving power for the highest peak (MRP --> m/m_2-m_1):', mrp)\n",
    "for i in range(len(peak_p)):\n",
    "    print('Peaks ', i, 'is at location and height: ({:.2f}, {:.2f})'.format(peak_p[i], peaks_y_p[i]), 'peak window sides (half-maximum) are: ({:.2f}, {:.2f})'.format(peak_widths_p[i][1], peak_widths_p[i][2]))"
   ]
  },
  {
   "cell_type": "code",
   "execution_count": 77,
   "metadata": {
    "tags": []
   },
   "outputs": [
    {
     "data": {
      "text/plain": [
       "144.6475601822121"
      ]
     },
     "execution_count": 77,
     "metadata": {},
     "output_type": "execute_result"
    }
   ],
   "source": [
    "# np.sqrt(((1.0 * 1.66E-27 * (110 * 1E-3) ** 2)) / (2 * 1.6E-19  * 3000)) * 1E9 # in ns"
   ]
  },
  {
   "cell_type": "code",
   "execution_count": 108,
   "metadata": {
    "tags": []
   },
   "outputs": [
    {
     "data": {
      "text/html": [
       "<div>\n",
       "<style scoped>\n",
       "    .dataframe tbody tr th:only-of-type {\n",
       "        vertical-align: middle;\n",
       "    }\n",
       "\n",
       "    .dataframe tbody tr th {\n",
       "        vertical-align: top;\n",
       "    }\n",
       "\n",
       "    .dataframe thead th {\n",
       "        text-align: right;\n",
       "    }\n",
       "</style>\n",
       "<table border=\"1\" class=\"dataframe\">\n",
       "  <thead>\n",
       "    <tr style=\"text-align: right;\">\n",
       "      <th></th>\n",
       "      <th>x (nm)</th>\n",
       "      <th>y (nm)</th>\n",
       "      <th>z (nm)</th>\n",
       "      <th>mc_c (Da)</th>\n",
       "      <th>mc (Da)</th>\n",
       "      <th>high_voltage (V)</th>\n",
       "      <th>pulse (V)</th>\n",
       "      <th>start_counter</th>\n",
       "      <th>t (ns)</th>\n",
       "      <th>t_c (nm)</th>\n",
       "      <th>x_det (cm)</th>\n",
       "      <th>y_det (cm)</th>\n",
       "      <th>pulse_pi</th>\n",
       "      <th>ion_pp</th>\n",
       "    </tr>\n",
       "  </thead>\n",
       "  <tbody>\n",
       "    <tr>\n",
       "      <th>0</th>\n",
       "      <td>0.0</td>\n",
       "      <td>0.0</td>\n",
       "      <td>0.0</td>\n",
       "      <td>0.0</td>\n",
       "      <td>27.175524</td>\n",
       "      <td>5300.393555</td>\n",
       "      <td>5300.393555</td>\n",
       "      <td>47896.0</td>\n",
       "      <td>640.406898</td>\n",
       "      <td>0.0</td>\n",
       "      <td>0.881878</td>\n",
       "      <td>2.741143</td>\n",
       "      <td>0</td>\n",
       "      <td>1</td>\n",
       "    </tr>\n",
       "    <tr>\n",
       "      <th>1</th>\n",
       "      <td>0.0</td>\n",
       "      <td>0.0</td>\n",
       "      <td>0.0</td>\n",
       "      <td>0.0</td>\n",
       "      <td>26.993029</td>\n",
       "      <td>5300.393555</td>\n",
       "      <td>5300.393555</td>\n",
       "      <td>48363.0</td>\n",
       "      <td>621.753138</td>\n",
       "      <td>0.0</td>\n",
       "      <td>-0.773633</td>\n",
       "      <td>-0.646286</td>\n",
       "      <td>467</td>\n",
       "      <td>1</td>\n",
       "    </tr>\n",
       "    <tr>\n",
       "      <th>2</th>\n",
       "      <td>0.0</td>\n",
       "      <td>0.0</td>\n",
       "      <td>0.0</td>\n",
       "      <td>0.0</td>\n",
       "      <td>26.600712</td>\n",
       "      <td>5300.393555</td>\n",
       "      <td>5300.393555</td>\n",
       "      <td>49690.0</td>\n",
       "      <td>628.864884</td>\n",
       "      <td>0.0</td>\n",
       "      <td>2.285878</td>\n",
       "      <td>-0.843673</td>\n",
       "      <td>1327</td>\n",
       "      <td>1</td>\n",
       "    </tr>\n",
       "    <tr>\n",
       "      <th>3</th>\n",
       "      <td>0.0</td>\n",
       "      <td>0.0</td>\n",
       "      <td>0.0</td>\n",
       "      <td>0.0</td>\n",
       "      <td>27.368893</td>\n",
       "      <td>5300.393555</td>\n",
       "      <td>5300.393555</td>\n",
       "      <td>50347.0</td>\n",
       "      <td>633.096270</td>\n",
       "      <td>0.0</td>\n",
       "      <td>-1.257551</td>\n",
       "      <td>1.617306</td>\n",
       "      <td>657</td>\n",
       "      <td>1</td>\n",
       "    </tr>\n",
       "    <tr>\n",
       "      <th>4</th>\n",
       "      <td>0.0</td>\n",
       "      <td>0.0</td>\n",
       "      <td>0.0</td>\n",
       "      <td>0.0</td>\n",
       "      <td>27.411449</td>\n",
       "      <td>5300.393555</td>\n",
       "      <td>5300.393555</td>\n",
       "      <td>50643.0</td>\n",
       "      <td>629.516394</td>\n",
       "      <td>0.0</td>\n",
       "      <td>-0.296082</td>\n",
       "      <td>1.540898</td>\n",
       "      <td>296</td>\n",
       "      <td>1</td>\n",
       "    </tr>\n",
       "    <tr>\n",
       "      <th>...</th>\n",
       "      <td>...</td>\n",
       "      <td>...</td>\n",
       "      <td>...</td>\n",
       "      <td>...</td>\n",
       "      <td>...</td>\n",
       "      <td>...</td>\n",
       "      <td>...</td>\n",
       "      <td>...</td>\n",
       "      <td>...</td>\n",
       "      <td>...</td>\n",
       "      <td>...</td>\n",
       "      <td>...</td>\n",
       "      <td>...</td>\n",
       "      <td>...</td>\n",
       "    </tr>\n",
       "    <tr>\n",
       "      <th>1786779</th>\n",
       "      <td>0.0</td>\n",
       "      <td>0.0</td>\n",
       "      <td>0.0</td>\n",
       "      <td>0.0</td>\n",
       "      <td>27.639377</td>\n",
       "      <td>5703.430176</td>\n",
       "      <td>5703.430176</td>\n",
       "      <td>52828.0</td>\n",
       "      <td>620.847882</td>\n",
       "      <td>0.0</td>\n",
       "      <td>-1.693714</td>\n",
       "      <td>1.986612</td>\n",
       "      <td>90</td>\n",
       "      <td>1</td>\n",
       "    </tr>\n",
       "    <tr>\n",
       "      <th>1786780</th>\n",
       "      <td>0.0</td>\n",
       "      <td>0.0</td>\n",
       "      <td>0.0</td>\n",
       "      <td>0.0</td>\n",
       "      <td>26.700668</td>\n",
       "      <td>5703.430176</td>\n",
       "      <td>5703.430176</td>\n",
       "      <td>53123.0</td>\n",
       "      <td>608.441760</td>\n",
       "      <td>0.0</td>\n",
       "      <td>2.225388</td>\n",
       "      <td>-0.792735</td>\n",
       "      <td>295</td>\n",
       "      <td>1</td>\n",
       "    </tr>\n",
       "    <tr>\n",
       "      <th>1786781</th>\n",
       "      <td>0.0</td>\n",
       "      <td>0.0</td>\n",
       "      <td>0.0</td>\n",
       "      <td>0.0</td>\n",
       "      <td>27.567948</td>\n",
       "      <td>5703.430176</td>\n",
       "      <td>5703.430176</td>\n",
       "      <td>53463.0</td>\n",
       "      <td>620.072928</td>\n",
       "      <td>0.0</td>\n",
       "      <td>-0.662204</td>\n",
       "      <td>2.521469</td>\n",
       "      <td>340</td>\n",
       "      <td>1</td>\n",
       "    </tr>\n",
       "    <tr>\n",
       "      <th>1786782</th>\n",
       "      <td>0.0</td>\n",
       "      <td>0.0</td>\n",
       "      <td>0.0</td>\n",
       "      <td>0.0</td>\n",
       "      <td>27.595504</td>\n",
       "      <td>5703.430176</td>\n",
       "      <td>5703.430176</td>\n",
       "      <td>53513.0</td>\n",
       "      <td>630.490230</td>\n",
       "      <td>0.0</td>\n",
       "      <td>-1.368980</td>\n",
       "      <td>3.088163</td>\n",
       "      <td>50</td>\n",
       "      <td>1</td>\n",
       "    </tr>\n",
       "    <tr>\n",
       "      <th>1786783</th>\n",
       "      <td>0.0</td>\n",
       "      <td>0.0</td>\n",
       "      <td>0.0</td>\n",
       "      <td>0.0</td>\n",
       "      <td>27.215947</td>\n",
       "      <td>5703.430176</td>\n",
       "      <td>5703.430176</td>\n",
       "      <td>53754.0</td>\n",
       "      <td>613.832148</td>\n",
       "      <td>0.0</td>\n",
       "      <td>0.620816</td>\n",
       "      <td>2.285878</td>\n",
       "      <td>241</td>\n",
       "      <td>1</td>\n",
       "    </tr>\n",
       "  </tbody>\n",
       "</table>\n",
       "<p>1786784 rows × 14 columns</p>\n",
       "</div>"
      ],
      "text/plain": [
       "         x (nm)  y (nm)  z (nm)  mc_c (Da)    mc (Da)  high_voltage (V)  \\\n",
       "0           0.0     0.0     0.0        0.0  27.175524       5300.393555   \n",
       "1           0.0     0.0     0.0        0.0  26.993029       5300.393555   \n",
       "2           0.0     0.0     0.0        0.0  26.600712       5300.393555   \n",
       "3           0.0     0.0     0.0        0.0  27.368893       5300.393555   \n",
       "4           0.0     0.0     0.0        0.0  27.411449       5300.393555   \n",
       "...         ...     ...     ...        ...        ...               ...   \n",
       "1786779     0.0     0.0     0.0        0.0  27.639377       5703.430176   \n",
       "1786780     0.0     0.0     0.0        0.0  26.700668       5703.430176   \n",
       "1786781     0.0     0.0     0.0        0.0  27.567948       5703.430176   \n",
       "1786782     0.0     0.0     0.0        0.0  27.595504       5703.430176   \n",
       "1786783     0.0     0.0     0.0        0.0  27.215947       5703.430176   \n",
       "\n",
       "           pulse (V)  start_counter      t (ns)  t_c (nm)  x_det (cm)  \\\n",
       "0        5300.393555        47896.0  640.406898       0.0    0.881878   \n",
       "1        5300.393555        48363.0  621.753138       0.0   -0.773633   \n",
       "2        5300.393555        49690.0  628.864884       0.0    2.285878   \n",
       "3        5300.393555        50347.0  633.096270       0.0   -1.257551   \n",
       "4        5300.393555        50643.0  629.516394       0.0   -0.296082   \n",
       "...              ...            ...         ...       ...         ...   \n",
       "1786779  5703.430176        52828.0  620.847882       0.0   -1.693714   \n",
       "1786780  5703.430176        53123.0  608.441760       0.0    2.225388   \n",
       "1786781  5703.430176        53463.0  620.072928       0.0   -0.662204   \n",
       "1786782  5703.430176        53513.0  630.490230       0.0   -1.368980   \n",
       "1786783  5703.430176        53754.0  613.832148       0.0    0.620816   \n",
       "\n",
       "         y_det (cm)  pulse_pi  ion_pp  \n",
       "0          2.741143         0       1  \n",
       "1         -0.646286       467       1  \n",
       "2         -0.843673      1327       1  \n",
       "3          1.617306       657       1  \n",
       "4          1.540898       296       1  \n",
       "...             ...       ...     ...  \n",
       "1786779    1.986612        90       1  \n",
       "1786780   -0.792735       295       1  \n",
       "1786781    2.521469       340       1  \n",
       "1786782    3.088163        50       1  \n",
       "1786783    2.285878       241       1  \n",
       "\n",
       "[1786784 rows x 14 columns]"
      ]
     },
     "execution_count": 108,
     "metadata": {},
     "output_type": "execute_result"
    }
   ],
   "source": [
    "data"
   ]
  },
  {
   "cell_type": "code",
   "execution_count": 123,
   "metadata": {},
   "outputs": [],
   "source": [
    "data_c = data.copy(deep = True)\n",
    "data_c['t_c (ns)'] = variables.dld_t_calib\n",
    "data_c['mc_c (Da)'] = mc_p_1"
   ]
  },
  {
   "cell_type": "code",
   "execution_count": 124,
   "metadata": {},
   "outputs": [],
   "source": [
    "# Remove negative mc\n",
    "# threshold = 0\n",
    "# mc_t = data_c['mc_c (Da)'].to_numpy()\n",
    "# mc_t_mask = (mc_t <= threshold)\n",
    "# print('The number of ions with negative mc are:', len(mc_t_mask[mc_t_mask==True]))\n",
    "# data_c.drop(np.where(mc_t_mask)[0], inplace=True)\n",
    "# data_c.reset_index(inplace=True, drop=True)"
   ]
  },
  {
   "cell_type": "code",
   "execution_count": 125,
   "metadata": {},
   "outputs": [
    {
     "data": {
      "text/html": [
       "<div>\n",
       "<style scoped>\n",
       "    .dataframe tbody tr th:only-of-type {\n",
       "        vertical-align: middle;\n",
       "    }\n",
       "\n",
       "    .dataframe tbody tr th {\n",
       "        vertical-align: top;\n",
       "    }\n",
       "\n",
       "    .dataframe thead th {\n",
       "        text-align: right;\n",
       "    }\n",
       "</style>\n",
       "<table border=\"1\" class=\"dataframe\">\n",
       "  <thead>\n",
       "    <tr style=\"text-align: right;\">\n",
       "      <th></th>\n",
       "      <th>x (nm)</th>\n",
       "      <th>y (nm)</th>\n",
       "      <th>z (nm)</th>\n",
       "      <th>mc_c (Da)</th>\n",
       "      <th>mc (Da)</th>\n",
       "      <th>high_voltage (V)</th>\n",
       "      <th>pulse (V)</th>\n",
       "      <th>start_counter</th>\n",
       "      <th>t (ns)</th>\n",
       "      <th>t_c (nm)</th>\n",
       "      <th>x_det (cm)</th>\n",
       "      <th>y_det (cm)</th>\n",
       "      <th>pulse_pi</th>\n",
       "      <th>ion_pp</th>\n",
       "      <th>t_c (ns)</th>\n",
       "    </tr>\n",
       "  </thead>\n",
       "  <tbody>\n",
       "    <tr>\n",
       "      <th>0</th>\n",
       "      <td>0.0</td>\n",
       "      <td>0.0</td>\n",
       "      <td>0.0</td>\n",
       "      <td>27.043036</td>\n",
       "      <td>27.175524</td>\n",
       "      <td>5300.393555</td>\n",
       "      <td>5300.393555</td>\n",
       "      <td>47896.0</td>\n",
       "      <td>640.406898</td>\n",
       "      <td>0.0</td>\n",
       "      <td>0.881878</td>\n",
       "      <td>2.741143</td>\n",
       "      <td>0</td>\n",
       "      <td>1</td>\n",
       "      <td>604.565336</td>\n",
       "    </tr>\n",
       "    <tr>\n",
       "      <th>1</th>\n",
       "      <td>0.0</td>\n",
       "      <td>0.0</td>\n",
       "      <td>0.0</td>\n",
       "      <td>26.954380</td>\n",
       "      <td>26.993029</td>\n",
       "      <td>5300.393555</td>\n",
       "      <td>5300.393555</td>\n",
       "      <td>48363.0</td>\n",
       "      <td>621.753138</td>\n",
       "      <td>0.0</td>\n",
       "      <td>-0.773633</td>\n",
       "      <td>-0.646286</td>\n",
       "      <td>467</td>\n",
       "      <td>1</td>\n",
       "      <td>603.678086</td>\n",
       "    </tr>\n",
       "    <tr>\n",
       "      <th>2</th>\n",
       "      <td>0.0</td>\n",
       "      <td>0.0</td>\n",
       "      <td>0.0</td>\n",
       "      <td>26.997497</td>\n",
       "      <td>26.600712</td>\n",
       "      <td>5300.393555</td>\n",
       "      <td>5300.393555</td>\n",
       "      <td>49690.0</td>\n",
       "      <td>628.864884</td>\n",
       "      <td>0.0</td>\n",
       "      <td>2.285878</td>\n",
       "      <td>-0.843673</td>\n",
       "      <td>1327</td>\n",
       "      <td>1</td>\n",
       "      <td>604.109772</td>\n",
       "    </tr>\n",
       "    <tr>\n",
       "      <th>3</th>\n",
       "      <td>0.0</td>\n",
       "      <td>0.0</td>\n",
       "      <td>0.0</td>\n",
       "      <td>26.969991</td>\n",
       "      <td>27.368893</td>\n",
       "      <td>5300.393555</td>\n",
       "      <td>5300.393555</td>\n",
       "      <td>50347.0</td>\n",
       "      <td>633.096270</td>\n",
       "      <td>0.0</td>\n",
       "      <td>-1.257551</td>\n",
       "      <td>1.617306</td>\n",
       "      <td>657</td>\n",
       "      <td>1</td>\n",
       "      <td>603.834425</td>\n",
       "    </tr>\n",
       "    <tr>\n",
       "      <th>4</th>\n",
       "      <td>0.0</td>\n",
       "      <td>0.0</td>\n",
       "      <td>0.0</td>\n",
       "      <td>27.154663</td>\n",
       "      <td>27.411449</td>\n",
       "      <td>5300.393555</td>\n",
       "      <td>5300.393555</td>\n",
       "      <td>50643.0</td>\n",
       "      <td>629.516394</td>\n",
       "      <td>0.0</td>\n",
       "      <td>-0.296082</td>\n",
       "      <td>1.540898</td>\n",
       "      <td>296</td>\n",
       "      <td>1</td>\n",
       "      <td>605.680428</td>\n",
       "    </tr>\n",
       "    <tr>\n",
       "      <th>...</th>\n",
       "      <td>...</td>\n",
       "      <td>...</td>\n",
       "      <td>...</td>\n",
       "      <td>...</td>\n",
       "      <td>...</td>\n",
       "      <td>...</td>\n",
       "      <td>...</td>\n",
       "      <td>...</td>\n",
       "      <td>...</td>\n",
       "      <td>...</td>\n",
       "      <td>...</td>\n",
       "      <td>...</td>\n",
       "      <td>...</td>\n",
       "      <td>...</td>\n",
       "      <td>...</td>\n",
       "    </tr>\n",
       "    <tr>\n",
       "      <th>1786779</th>\n",
       "      <td>0.0</td>\n",
       "      <td>0.0</td>\n",
       "      <td>0.0</td>\n",
       "      <td>27.072160</td>\n",
       "      <td>27.639377</td>\n",
       "      <td>5703.430176</td>\n",
       "      <td>5703.430176</td>\n",
       "      <td>52828.0</td>\n",
       "      <td>620.847882</td>\n",
       "      <td>0.0</td>\n",
       "      <td>-1.693714</td>\n",
       "      <td>1.986612</td>\n",
       "      <td>90</td>\n",
       "      <td>1</td>\n",
       "      <td>604.856496</td>\n",
       "    </tr>\n",
       "    <tr>\n",
       "      <th>1786780</th>\n",
       "      <td>0.0</td>\n",
       "      <td>0.0</td>\n",
       "      <td>0.0</td>\n",
       "      <td>27.013051</td>\n",
       "      <td>26.700668</td>\n",
       "      <td>5703.430176</td>\n",
       "      <td>5703.430176</td>\n",
       "      <td>53123.0</td>\n",
       "      <td>608.441760</td>\n",
       "      <td>0.0</td>\n",
       "      <td>2.225388</td>\n",
       "      <td>-0.792735</td>\n",
       "      <td>295</td>\n",
       "      <td>1</td>\n",
       "      <td>604.265420</td>\n",
       "    </tr>\n",
       "    <tr>\n",
       "      <th>1786781</th>\n",
       "      <td>0.0</td>\n",
       "      <td>0.0</td>\n",
       "      <td>0.0</td>\n",
       "      <td>27.106438</td>\n",
       "      <td>27.567948</td>\n",
       "      <td>5703.430176</td>\n",
       "      <td>5703.430176</td>\n",
       "      <td>53463.0</td>\n",
       "      <td>620.072928</td>\n",
       "      <td>0.0</td>\n",
       "      <td>-0.662204</td>\n",
       "      <td>2.521469</td>\n",
       "      <td>340</td>\n",
       "      <td>1</td>\n",
       "      <td>605.198970</td>\n",
       "    </tr>\n",
       "    <tr>\n",
       "      <th>1786782</th>\n",
       "      <td>0.0</td>\n",
       "      <td>0.0</td>\n",
       "      <td>0.0</td>\n",
       "      <td>26.976211</td>\n",
       "      <td>27.595504</td>\n",
       "      <td>5703.430176</td>\n",
       "      <td>5703.430176</td>\n",
       "      <td>53513.0</td>\n",
       "      <td>630.490230</td>\n",
       "      <td>0.0</td>\n",
       "      <td>-1.368980</td>\n",
       "      <td>3.088163</td>\n",
       "      <td>50</td>\n",
       "      <td>1</td>\n",
       "      <td>603.896704</td>\n",
       "    </tr>\n",
       "    <tr>\n",
       "      <th>1786783</th>\n",
       "      <td>0.0</td>\n",
       "      <td>0.0</td>\n",
       "      <td>0.0</td>\n",
       "      <td>26.985231</td>\n",
       "      <td>27.215947</td>\n",
       "      <td>5703.430176</td>\n",
       "      <td>5703.430176</td>\n",
       "      <td>53754.0</td>\n",
       "      <td>613.832148</td>\n",
       "      <td>0.0</td>\n",
       "      <td>0.620816</td>\n",
       "      <td>2.285878</td>\n",
       "      <td>241</td>\n",
       "      <td>1</td>\n",
       "      <td>603.986997</td>\n",
       "    </tr>\n",
       "  </tbody>\n",
       "</table>\n",
       "<p>1786784 rows × 15 columns</p>\n",
       "</div>"
      ],
      "text/plain": [
       "         x (nm)  y (nm)  z (nm)  mc_c (Da)    mc (Da)  high_voltage (V)  \\\n",
       "0           0.0     0.0     0.0  27.043036  27.175524       5300.393555   \n",
       "1           0.0     0.0     0.0  26.954380  26.993029       5300.393555   \n",
       "2           0.0     0.0     0.0  26.997497  26.600712       5300.393555   \n",
       "3           0.0     0.0     0.0  26.969991  27.368893       5300.393555   \n",
       "4           0.0     0.0     0.0  27.154663  27.411449       5300.393555   \n",
       "...         ...     ...     ...        ...        ...               ...   \n",
       "1786779     0.0     0.0     0.0  27.072160  27.639377       5703.430176   \n",
       "1786780     0.0     0.0     0.0  27.013051  26.700668       5703.430176   \n",
       "1786781     0.0     0.0     0.0  27.106438  27.567948       5703.430176   \n",
       "1786782     0.0     0.0     0.0  26.976211  27.595504       5703.430176   \n",
       "1786783     0.0     0.0     0.0  26.985231  27.215947       5703.430176   \n",
       "\n",
       "           pulse (V)  start_counter      t (ns)  t_c (nm)  x_det (cm)  \\\n",
       "0        5300.393555        47896.0  640.406898       0.0    0.881878   \n",
       "1        5300.393555        48363.0  621.753138       0.0   -0.773633   \n",
       "2        5300.393555        49690.0  628.864884       0.0    2.285878   \n",
       "3        5300.393555        50347.0  633.096270       0.0   -1.257551   \n",
       "4        5300.393555        50643.0  629.516394       0.0   -0.296082   \n",
       "...              ...            ...         ...       ...         ...   \n",
       "1786779  5703.430176        52828.0  620.847882       0.0   -1.693714   \n",
       "1786780  5703.430176        53123.0  608.441760       0.0    2.225388   \n",
       "1786781  5703.430176        53463.0  620.072928       0.0   -0.662204   \n",
       "1786782  5703.430176        53513.0  630.490230       0.0   -1.368980   \n",
       "1786783  5703.430176        53754.0  613.832148       0.0    0.620816   \n",
       "\n",
       "         y_det (cm)  pulse_pi  ion_pp    t_c (ns)  \n",
       "0          2.741143         0       1  604.565336  \n",
       "1         -0.646286       467       1  603.678086  \n",
       "2         -0.843673      1327       1  604.109772  \n",
       "3          1.617306       657       1  603.834425  \n",
       "4          1.540898       296       1  605.680428  \n",
       "...             ...       ...     ...         ...  \n",
       "1786779    1.986612        90       1  604.856496  \n",
       "1786780   -0.792735       295       1  604.265420  \n",
       "1786781    2.521469       340       1  605.198970  \n",
       "1786782    3.088163        50       1  603.896704  \n",
       "1786783    2.285878       241       1  603.986997  \n",
       "\n",
       "[1786784 rows x 15 columns]"
      ]
     },
     "execution_count": 125,
     "metadata": {},
     "output_type": "execute_result"
    }
   ],
   "source": [
    "data_c"
   ]
  },
  {
   "cell_type": "code",
   "execution_count": 126,
   "metadata": {},
   "outputs": [
    {
     "name": "stdout",
     "output_type": "stream",
     "text": [
      "The peak index for MRP calculation is: 2\n"
     ]
    },
    {
     "data": {
      "application/vnd.jupyter.widget-view+json": {
       "model_id": "edccfde81ac345f48a75ac359a4947bb",
       "version_major": 2,
       "version_minor": 0
      },
      "image/png": "[encoded data removed]",
      "text/html": [
       "\n",
       "            <div style=\"display: inline-block;\">\n",
       "                <div class=\"jupyter-widgets widget-label\" style=\"text-align: center;\">\n",
       "                    Figure\n",
       "                </div>\n",
       "                <img src='data:image/png;base64,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' width=354.3307086614173/>\n",
       "            </div>\n",
       "        "
      ],
      "text/plain": [
       "Canvas(toolbar=Toolbar(toolitems=[('Home', 'Reset original view', 'home', 'home'), ('Back', 'Back to previous …"
      ]
     },
     "metadata": {},
     "output_type": "display_data"
    },
    {
     "name": "stdout",
     "output_type": "stream",
     "text": [
      "The peak index for MRP calculation is: 2\n"
     ]
    },
    {
     "data": {
      "application/vnd.jupyter.widget-view+json": {
       "model_id": "33c34e3d404b46d6b53982342f0b803e",
       "version_major": 2,
       "version_minor": 0
      },
      "image/png": "[encoded data removed]",
      "text/html": [
       "\n",
       "            <div style=\"display: inline-block;\">\n",
       "                <div class=\"jupyter-widgets widget-label\" style=\"text-align: center;\">\n",
       "                    Figure\n",
       "                </div>\n",
       "                <img src='data:image/png;base64,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' width=354.3307086614173/>\n",
       "            </div>\n",
       "        "
      ],
      "text/plain": [
       "Canvas(toolbar=Toolbar(toolitems=[('Home', 'Reset original view', 'home', 'home'), ('Back', 'Back to previous …"
      ]
     },
     "metadata": {},
     "output_type": "display_data"
    }
   ],
   "source": [
    "cc = data_c['mc_c (Da)'].to_numpy()\n",
    "# cc[cc <= 0] = 0\n",
    "peaks_ini, peaks_y_ini, peak_widths_p_ini, _ = tools.hist_plot(mc_p_1[mc_p_1 < 100], 0.1, distance=10, percent=50, prominence=50, selector='peak', peaks_find_plot=True, plot=True, label='mc')\n",
    "peaks_ini, peaks_y_ini, peak_widths_p_ini, _ = tools.hist_plot(cc[cc < 100], 0.1, distance=10, percent=50, prominence=50, selector='peak', peaks_find_plot=True, plot=True, label='mc')"
   ]
  },
  {
   "cell_type": "code",
   "execution_count": 127,
   "metadata": {},
   "outputs": [],
   "source": [
    "# save the new data\n",
    "name_save_file = variables.result_path + '//' + dataset_name + '.h5'\n",
    "data_tools.store_df_to_hdf(name_save_file, data_c, 'df')"
   ]
  },
  {
   "cell_type": "code",
   "execution_count": 128,
   "metadata": {},
   "outputs": [],
   "source": [
    "# save data as epos file\n",
    "epos = ccapt_tools.ccapt_to_epos(data_c, pulse_mode=pulse_mode.value, path=variables.result_path, name=dataset_name + '.epos')\n",
    "pos = ccapt_tools.ccapt_to_pos(data_c, path=variables.result_path, name=dataset_name + '.POS')"
   ]
  },
  {
   "cell_type": "code",
   "execution_count": null,
   "metadata": {},
   "outputs": [],
   "source": [
    "# save data in csv format\n",
    "data_tools.store_df_to_csv(data_c, variables.result_path + dataset_name + '.csv')"
   ]
  }
 ],
 "metadata": {
  "kernelspec": {
   "display_name": "Python 3 (ipykernel)",
   "language": "python",
   "name": "python3"
  },
  "language_info": {
   "codemirror_mode": {
    "name": "ipython",
    "version": 3
   },
   "file_extension": ".py",
   "mimetype": "text/x-python",
   "name": "python",
   "nbconvert_exporter": "python",
   "pygments_lexer": "ipython3",
   "version": "3.8.16"
  }
 },
 "nbformat": 4,
 "nbformat_minor": 4
}

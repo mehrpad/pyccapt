{
 "cells": [
  {
   "cell_type": "code",
   "execution_count": 1,
   "metadata": {
    "pycharm": {
     "name": "#%%\n"
    }
   },
   "outputs": [],
   "source": [
    "%matplotlib ipympl\n",
    "import os\n",
    "import os.path as path\n",
    "import logging, sys\n",
    "import numpy as np\n",
    "from scipy.optimize import curve_fit\n",
    "from scipy import interpolate\n",
    "from sklearn.preprocessing import MinMaxScaler\n",
    "import matplotlib.pyplot as plt\n",
    "from ipywidgets import fixed, interact_manual, widgets\n",
    "from ipywidgets import HBox, VBox\n",
    "from IPython.display import clear_output\n",
    "from IPython.display import display\n",
    "from ipywidgets import IntSlider, Output\n",
    "from itertools import product\n",
    "from scipy.signal import find_peaks\n",
    "import math\n",
    "from mpl_toolkits.mplot3d import Axes3D\n",
    "\n",
    "# Local module and scripts\n",
    "from pyccapt.calibration.calibration_tools import tools, variables, calibration\n",
    "from pyccapt.calibration.calibration_tools import widgets as wd\n",
    "from pyccapt.calibration.data_tools import data_tools, data_loadcrop, dataset_path_qt\n",
    "from pyccapt.calibration.mc import mc_tools\n",
    "from pyccapt.calibration.leap_tools import ccapt_tools"
   ]
  },
  {
   "cell_type": "code",
   "execution_count": 2,
   "metadata": {},
   "outputs": [],
   "source": [
    "%load_ext autoreload\n",
    "%autoreload 2"
   ]
  },
  {
   "cell_type": "code",
   "execution_count": 3,
   "metadata": {},
   "outputs": [],
   "source": [
    "%reload_ext autoreload"
   ]
  },
  {
   "cell_type": "code",
   "execution_count": 4,
   "metadata": {
    "pycharm": {
     "name": "#%%\n"
    }
   },
   "outputs": [],
   "source": [
    "# Disable showing logging in Jupyter notebook\n",
    "logging.disable(sys.maxsize)"
   ]
  },
  {
   "cell_type": "code",
   "execution_count": 5,
   "metadata": {},
   "outputs": [
    {
     "data": {
      "application/vnd.jupyter.widget-view+json": {
       "model_id": "0e01cd8063f4410caff5baa8cf58f11f",
       "version_major": 2,
       "version_minor": 0
      },
      "text/plain": [
       "Button(description='load dataset', style=ButtonStyle())"
      ]
     },
     "execution_count": 5,
     "metadata": {},
     "output_type": "execute_result"
    }
   ],
   "source": [
    "button = widgets.Button(\n",
    "    description='load dataset',\n",
    ")\n",
    "\n",
    "@button.on_click\n",
    "def open_file_on_click(b):\n",
    "    global dataset_path\n",
    "    dataset_path = dataset_path_qt.gui_fname().decode('ASCII')\n",
    "button"
   ]
  },
  {
   "cell_type": "code",
   "execution_count": 22,
   "metadata": {},
   "outputs": [
    {
     "data": {
      "application/vnd.jupyter.widget-view+json": {
       "model_id": "fba322be8a324914a200c1a33fcca38d",
       "version_major": 2,
       "version_minor": 0
      },
      "text/plain": [
       "Dropdown(description='Data mode:', options=('surface_concept', 'roentdec', 'leap_epos', 'leap_pos'), value='su…"
      ]
     },
     "metadata": {},
     "output_type": "display_data"
    },
    {
     "data": {
      "application/vnd.jupyter.widget-view+json": {
       "model_id": "73cc7982ded74d2199c71097193069da",
       "version_major": 2,
       "version_minor": 0
      },
      "text/plain": [
       "FloatText(value=78.0, description='Detector diameter:')"
      ]
     },
     "metadata": {},
     "output_type": "display_data"
    },
    {
     "data": {
      "application/vnd.jupyter.widget-view+json": {
       "model_id": "95b4e03fceb64d5a90ee24b8c245dacc",
       "version_major": 2,
       "version_minor": 0
      },
      "text/plain": [
       "Dropdown(description='Pulse mode:', options=('voltage', 'laser'), value='voltage')"
      ]
     },
     "metadata": {},
     "output_type": "display_data"
    },
    {
     "data": {
      "application/vnd.jupyter.widget-view+json": {
       "model_id": "b080959133b147cdafd527e9f27a849b",
       "version_major": 2,
       "version_minor": 0
      },
      "text/plain": [
       "FloatText(value=110.0, description='Flight path length:')"
      ]
     },
     "metadata": {},
     "output_type": "display_data"
    },
    {
     "data": {
      "application/vnd.jupyter.widget-view+json": {
       "model_id": "d4e1b3c0fa164f078e207fabbd9c2ce5",
       "version_major": 2,
       "version_minor": 0
      },
      "text/plain": [
       "FloatText(value=54.0, description='t0:')"
      ]
     },
     "metadata": {},
     "output_type": "display_data"
    }
   ],
   "source": [
    "tdc, pulse_mode, flightPathLength_d, t0_d, max_mc, det_diam = wd.dataset_tdc_selection()\n",
    "display(tdc, det_diam, pulse_mode, flightPathLength_d, t0_d)"
   ]
  },
  {
   "cell_type": "markdown",
   "metadata": {
    "pycharm": {
     "name": "#%% md\n"
    }
   },
   "source": [
    "$$\\textbf{You can specify which dataset to use in below block}$$"
   ]
  },
  {
   "cell_type": "code",
   "execution_count": 23,
   "metadata": {
    "pycharm": {
     "name": "#%%\n"
    }
   },
   "outputs": [
    {
     "name": "stdout",
     "output_type": "stream",
     "text": [
      "The result will be saved on the path: D:/pyccapt/tests/data/OLO_AL_6_data/tof_calibration/\n"
     ]
    }
   ],
   "source": [
    "dataset_main_path = os.path.dirname(dataset_path)\n",
    "dataset_name_with_extention = os.path.basename(dataset_path)\n",
    "dataset_name = os.path.splitext(dataset_name_with_extention)[0]\n",
    "\n",
    "\n",
    "variables.init()\n",
    "# variables.path = os.path.join(p, 'tests//data')\n",
    "variables.result_path = os.path.dirname(dataset_main_path) +  '/tof_calibration/'\n",
    "if not os.path.isdir(variables.result_path):\n",
    "    os.makedirs(variables.result_path, mode=0o777, exist_ok=True)\n",
    "print('The result will be saved on the path:', variables.result_path)\n",
    "\n",
    "filename = dataset_path\n",
    "\n",
    "head, tail = os.path.split(filename)\n",
    "figname = os.path.splitext(tail)[0]\n",
    "\n",
    "if tdc.value == 'leap_pos' or tdc.value == 'leap_epos':\n",
    "    if tdc.value == 'leap_epos':\n",
    "        data = ccapt_tools.epos_to_ccapt(filename)\n",
    "    else:\n",
    "        print('The file has to be epos. With pos information this tutorial cannot be run')\n",
    "        data = ccapt_tools.pos_to_ccapt(filename)\n",
    "else:\n",
    "    data = data_tools.read_hdf5_through_pandas(filename)\n"
   ]
  },
  {
   "cell_type": "code",
   "execution_count": 24,
   "metadata": {
    "pycharm": {
     "name": "#%%\n"
    }
   },
   "outputs": [
    {
     "data": {
      "text/html": [
       "<div>\n",
       "<style scoped>\n",
       "    .dataframe tbody tr th:only-of-type {\n",
       "        vertical-align: middle;\n",
       "    }\n",
       "\n",
       "    .dataframe tbody tr th {\n",
       "        vertical-align: top;\n",
       "    }\n",
       "\n",
       "    .dataframe thead th {\n",
       "        text-align: right;\n",
       "    }\n",
       "</style>\n",
       "<table border=\"1\" class=\"dataframe\">\n",
       "  <thead>\n",
       "    <tr style=\"text-align: right;\">\n",
       "      <th></th>\n",
       "      <th>x (nm)</th>\n",
       "      <th>y (nm)</th>\n",
       "      <th>z (nm)</th>\n",
       "      <th>mc_c (Da)</th>\n",
       "      <th>mc (Da)</th>\n",
       "      <th>high_voltage (V)</th>\n",
       "      <th>pulse</th>\n",
       "      <th>start_counter</th>\n",
       "      <th>t_c (ns)</th>\n",
       "      <th>t (ns)</th>\n",
       "      <th>x_det (cm)</th>\n",
       "      <th>y_det (cm)</th>\n",
       "      <th>pulse_pi</th>\n",
       "      <th>ion_pp</th>\n",
       "    </tr>\n",
       "  </thead>\n",
       "  <tbody>\n",
       "    <tr>\n",
       "      <th>0</th>\n",
       "      <td>0.0</td>\n",
       "      <td>0.0</td>\n",
       "      <td>0.0</td>\n",
       "      <td>0.0</td>\n",
       "      <td>0.000128</td>\n",
       "      <td>5258.742676</td>\n",
       "      <td>5258.742676</td>\n",
       "      <td>3106</td>\n",
       "      <td>0.0</td>\n",
       "      <td>644.350248</td>\n",
       "      <td>-2.830286</td>\n",
       "      <td>-1.267102</td>\n",
       "      <td>0</td>\n",
       "      <td>0</td>\n",
       "    </tr>\n",
       "    <tr>\n",
       "      <th>1</th>\n",
       "      <td>0.0</td>\n",
       "      <td>0.0</td>\n",
       "      <td>0.0</td>\n",
       "      <td>0.0</td>\n",
       "      <td>0.000122</td>\n",
       "      <td>5258.742676</td>\n",
       "      <td>5258.742676</td>\n",
       "      <td>3785</td>\n",
       "      <td>0.0</td>\n",
       "      <td>630.887994</td>\n",
       "      <td>-1.298939</td>\n",
       "      <td>-1.321224</td>\n",
       "      <td>679</td>\n",
       "      <td>2</td>\n",
       "    </tr>\n",
       "    <tr>\n",
       "      <th>2</th>\n",
       "      <td>0.0</td>\n",
       "      <td>0.0</td>\n",
       "      <td>0.0</td>\n",
       "      <td>0.0</td>\n",
       "      <td>0.000117</td>\n",
       "      <td>5258.742676</td>\n",
       "      <td>5258.742676</td>\n",
       "      <td>3900</td>\n",
       "      <td>0.0</td>\n",
       "      <td>618.838488</td>\n",
       "      <td>-0.038204</td>\n",
       "      <td>-0.643102</td>\n",
       "      <td>115</td>\n",
       "      <td>1</td>\n",
       "    </tr>\n",
       "    <tr>\n",
       "      <th>3</th>\n",
       "      <td>0.0</td>\n",
       "      <td>0.0</td>\n",
       "      <td>0.0</td>\n",
       "      <td>0.0</td>\n",
       "      <td>0.000121</td>\n",
       "      <td>5258.742676</td>\n",
       "      <td>5258.742676</td>\n",
       "      <td>4037</td>\n",
       "      <td>0.0</td>\n",
       "      <td>629.674128</td>\n",
       "      <td>0.872327</td>\n",
       "      <td>-1.798776</td>\n",
       "      <td>137</td>\n",
       "      <td>1</td>\n",
       "    </tr>\n",
       "    <tr>\n",
       "      <th>4</th>\n",
       "      <td>0.0</td>\n",
       "      <td>0.0</td>\n",
       "      <td>0.0</td>\n",
       "      <td>0.0</td>\n",
       "      <td>0.000127</td>\n",
       "      <td>5258.742676</td>\n",
       "      <td>5258.742676</td>\n",
       "      <td>4335</td>\n",
       "      <td>0.0</td>\n",
       "      <td>642.944358</td>\n",
       "      <td>-2.725224</td>\n",
       "      <td>-0.694041</td>\n",
       "      <td>298</td>\n",
       "      <td>1</td>\n",
       "    </tr>\n",
       "    <tr>\n",
       "      <th>...</th>\n",
       "      <td>...</td>\n",
       "      <td>...</td>\n",
       "      <td>...</td>\n",
       "      <td>...</td>\n",
       "      <td>...</td>\n",
       "      <td>...</td>\n",
       "      <td>...</td>\n",
       "      <td>...</td>\n",
       "      <td>...</td>\n",
       "      <td>...</td>\n",
       "      <td>...</td>\n",
       "      <td>...</td>\n",
       "      <td>...</td>\n",
       "      <td>...</td>\n",
       "    </tr>\n",
       "    <tr>\n",
       "      <th>1972405</th>\n",
       "      <td>0.0</td>\n",
       "      <td>0.0</td>\n",
       "      <td>0.0</td>\n",
       "      <td>0.0</td>\n",
       "      <td>0.000108</td>\n",
       "      <td>5710.897949</td>\n",
       "      <td>5710.897949</td>\n",
       "      <td>27153</td>\n",
       "      <td>0.0</td>\n",
       "      <td>619.195104</td>\n",
       "      <td>3.158204</td>\n",
       "      <td>0.105061</td>\n",
       "      <td>420</td>\n",
       "      <td>1</td>\n",
       "    </tr>\n",
       "    <tr>\n",
       "      <th>1972406</th>\n",
       "      <td>0.0</td>\n",
       "      <td>0.0</td>\n",
       "      <td>0.0</td>\n",
       "      <td>0.0</td>\n",
       "      <td>0.000107</td>\n",
       "      <td>5710.897949</td>\n",
       "      <td>5710.897949</td>\n",
       "      <td>27190</td>\n",
       "      <td>0.0</td>\n",
       "      <td>616.959396</td>\n",
       "      <td>3.145469</td>\n",
       "      <td>0.060490</td>\n",
       "      <td>37</td>\n",
       "      <td>1</td>\n",
       "    </tr>\n",
       "    <tr>\n",
       "      <th>1972407</th>\n",
       "      <td>0.0</td>\n",
       "      <td>0.0</td>\n",
       "      <td>0.0</td>\n",
       "      <td>0.0</td>\n",
       "      <td>0.000104</td>\n",
       "      <td>5710.897949</td>\n",
       "      <td>5710.897949</td>\n",
       "      <td>27456</td>\n",
       "      <td>0.0</td>\n",
       "      <td>608.530914</td>\n",
       "      <td>-1.728735</td>\n",
       "      <td>-0.079592</td>\n",
       "      <td>266</td>\n",
       "      <td>1</td>\n",
       "    </tr>\n",
       "    <tr>\n",
       "      <th>1972408</th>\n",
       "      <td>0.0</td>\n",
       "      <td>0.0</td>\n",
       "      <td>0.0</td>\n",
       "      <td>0.0</td>\n",
       "      <td>0.000101</td>\n",
       "      <td>5710.897949</td>\n",
       "      <td>5710.897949</td>\n",
       "      <td>28120</td>\n",
       "      <td>0.0</td>\n",
       "      <td>600.321888</td>\n",
       "      <td>1.152490</td>\n",
       "      <td>-1.044245</td>\n",
       "      <td>664</td>\n",
       "      <td>1</td>\n",
       "    </tr>\n",
       "    <tr>\n",
       "      <th>1972409</th>\n",
       "      <td>0.0</td>\n",
       "      <td>0.0</td>\n",
       "      <td>0.0</td>\n",
       "      <td>0.0</td>\n",
       "      <td>0.000107</td>\n",
       "      <td>5710.897949</td>\n",
       "      <td>5710.897949</td>\n",
       "      <td>28446</td>\n",
       "      <td>0.0</td>\n",
       "      <td>616.445046</td>\n",
       "      <td>-0.136898</td>\n",
       "      <td>-2.999020</td>\n",
       "      <td>326</td>\n",
       "      <td>1</td>\n",
       "    </tr>\n",
       "  </tbody>\n",
       "</table>\n",
       "<p>1972410 rows × 14 columns</p>\n",
       "</div>"
      ],
      "text/plain": [
       "         x (nm)  y (nm)  z (nm)  mc_c (Da)   mc (Da)  high_voltage (V)  \\\n",
       "0           0.0     0.0     0.0        0.0  0.000128       5258.742676   \n",
       "1           0.0     0.0     0.0        0.0  0.000122       5258.742676   \n",
       "2           0.0     0.0     0.0        0.0  0.000117       5258.742676   \n",
       "3           0.0     0.0     0.0        0.0  0.000121       5258.742676   \n",
       "4           0.0     0.0     0.0        0.0  0.000127       5258.742676   \n",
       "...         ...     ...     ...        ...       ...               ...   \n",
       "1972405     0.0     0.0     0.0        0.0  0.000108       5710.897949   \n",
       "1972406     0.0     0.0     0.0        0.0  0.000107       5710.897949   \n",
       "1972407     0.0     0.0     0.0        0.0  0.000104       5710.897949   \n",
       "1972408     0.0     0.0     0.0        0.0  0.000101       5710.897949   \n",
       "1972409     0.0     0.0     0.0        0.0  0.000107       5710.897949   \n",
       "\n",
       "               pulse  start_counter  t_c (ns)      t (ns)  x_det (cm)  \\\n",
       "0        5258.742676           3106       0.0  644.350248   -2.830286   \n",
       "1        5258.742676           3785       0.0  630.887994   -1.298939   \n",
       "2        5258.742676           3900       0.0  618.838488   -0.038204   \n",
       "3        5258.742676           4037       0.0  629.674128    0.872327   \n",
       "4        5258.742676           4335       0.0  642.944358   -2.725224   \n",
       "...              ...            ...       ...         ...         ...   \n",
       "1972405  5710.897949          27153       0.0  619.195104    3.158204   \n",
       "1972406  5710.897949          27190       0.0  616.959396    3.145469   \n",
       "1972407  5710.897949          27456       0.0  608.530914   -1.728735   \n",
       "1972408  5710.897949          28120       0.0  600.321888    1.152490   \n",
       "1972409  5710.897949          28446       0.0  616.445046   -0.136898   \n",
       "\n",
       "         y_det (cm)  pulse_pi  ion_pp  \n",
       "0         -1.267102         0       0  \n",
       "1         -1.321224       679       2  \n",
       "2         -0.643102       115       1  \n",
       "3         -1.798776       137       1  \n",
       "4         -0.694041       298       1  \n",
       "...             ...       ...     ...  \n",
       "1972405    0.105061       420       1  \n",
       "1972406    0.060490        37       1  \n",
       "1972407   -0.079592       266       1  \n",
       "1972408   -1.044245       664       1  \n",
       "1972409   -2.999020       326       1  \n",
       "\n",
       "[1972410 rows x 14 columns]"
      ]
     },
     "execution_count": 24,
     "metadata": {},
     "output_type": "execute_result"
    }
   ],
   "source": [
    "data"
   ]
  },
  {
   "cell_type": "code",
   "execution_count": 25,
   "metadata": {
    "pycharm": {
     "name": "#%%\n"
    }
   },
   "outputs": [],
   "source": [
    "# Remove negative TOF\n",
    "# threshold = 0\n",
    "# dld_t_mask = data['t (ns)'].to_numpy()\n",
    "# dld_t_mask = (dld_t <= threshold)\n",
    "# data.drop(np.where(dld_t_mask)[0], inplace=True)\n",
    "# data.reset_index(inplace=True, drop=True)\n"
   ]
  },
  {
   "cell_type": "code",
   "execution_count": 26,
   "metadata": {},
   "outputs": [
    {
     "data": {
      "application/vnd.jupyter.widget-view+json": {
       "model_id": "b2ad875d7cce4c6ba5d516be58e74f71",
       "version_major": 2,
       "version_minor": 0
      },
      "image/png": "[encoded data removed]",
      "text/html": [
       "\n",
       "            <div style=\"display: inline-block;\">\n",
       "                <div class=\"jupyter-widgets widget-label\" style=\"text-align: center;\">\n",
       "                    Figure\n",
       "                </div>\n",
       "                <img src='data:image/png;base64,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' width=433.0708661417323/>\n",
       "            </div>\n",
       "        "
      ],
      "text/plain": [
       "Canvas(toolbar=Toolbar(toolitems=[('Home', 'Reset original view', 'home', 'home'), ('Back', 'Back to previous …"
      ]
     },
     "metadata": {},
     "output_type": "display_data"
    }
   ],
   "source": [
    "data_loadcrop.plot_crop_experimetn_history(data, save_name=variables.result_path + '//ex_hist_' + dataset_name)"
   ]
  },
  {
   "cell_type": "code",
   "execution_count": 27,
   "metadata": {},
   "outputs": [],
   "source": [
    "# exctract needed data from Pandas data frame as an numpy array\n",
    "dld_highVoltage = data['high_voltage (V)'].to_numpy()\n",
    "if pulse_mode.value == 'voltage':\n",
    "    dld_pulseVoltage = data['pulse'].to_numpy()\n",
    "elif pulse_mode.value == 'laser':\n",
    "    dld_pulseVoltage = data['pulse (deg)'].to_numpy()\n",
    "dld_t = data['t (ns)'].to_numpy()\n",
    "dld_x = data['x_det (cm)'].to_numpy()\n",
    "dld_y = data['y_det (cm)'].to_numpy()\n",
    "# copy dld_t to a have a global version of that\n",
    "variables.dld_t_calib = np.copy(dld_t)\n",
    "variables.dld_t_calib_backup = np.copy(dld_t)"
   ]
  },
  {
   "cell_type": "code",
   "execution_count": 12,
   "metadata": {},
   "outputs": [],
   "source": [
    "ion_distance = np.sqrt(flightPathLength_d.value**2 + (dld_x*10)**2 + (dld_y*10)**2)\n",
    "ion_distance = flightPathLength_d.value / ion_distance\n",
    "dld_t = dld_t * ion_distance"
   ]
  },
  {
   "cell_type": "code",
   "execution_count": 13,
   "metadata": {
    "tags": []
   },
   "outputs": [
    {
     "ename": "NameError",
     "evalue": "name 'percent_mrp' is not defined",
     "output_type": "error",
     "traceback": [
      "\u001b[1;31m---------------------------------------------------------------------------\u001b[0m",
      "\u001b[1;31mNameError\u001b[0m                                 Traceback (most recent call last)",
      "Cell \u001b[1;32mIn[13], line 1\u001b[0m\n\u001b[1;32m----> 1\u001b[0m tools\u001b[38;5;241m.\u001b[39mhist_plot(dld_t[dld_t \u001b[38;5;241m<\u001b[39m \u001b[38;5;241m10000\u001b[39m], \u001b[38;5;241m0.1\u001b[39m, prominence\u001b[38;5;241m=\u001b[39m\u001b[38;5;241m200\u001b[39m, distance\u001b[38;5;241m=\u001b[39m\u001b[38;5;241m100\u001b[39m, h_line\u001b[38;5;241m=\u001b[39m\u001b[38;5;28;01mTrue\u001b[39;00m, text_loc\u001b[38;5;241m=\u001b[39m\u001b[38;5;124m'\u001b[39m\u001b[38;5;124mright\u001b[39m\u001b[38;5;124m'\u001b[39m, percent\u001b[38;5;241m=\u001b[39m\u001b[43mpercent_mrp\u001b[49m, plot\u001b[38;5;241m=\u001b[39m\u001b[38;5;28;01mTrue\u001b[39;00m, label\u001b[38;5;241m=\u001b[39m\u001b[38;5;124m'\u001b[39m\u001b[38;5;124mtof\u001b[39m\u001b[38;5;124m'\u001b[39m, peaks_find\u001b[38;5;241m=\u001b[39m\u001b[38;5;28;01mFalse\u001b[39;00m, fig_name\u001b[38;5;241m=\u001b[39mfigname, fig_size\u001b[38;5;241m=\u001b[39m(\u001b[38;5;241m9\u001b[39m\u001b[38;5;241m/\u001b[39m\u001b[38;5;241m2.54\u001b[39m, \u001b[38;5;241m6\u001b[39m\u001b[38;5;241m/\u001b[39m\u001b[38;5;241m2.54\u001b[39m))\n",
      "\u001b[1;31mNameError\u001b[0m: name 'percent_mrp' is not defined"
     ]
    }
   ],
   "source": [
    "tools.hist_plot(dld_t[dld_t < 10000], 0.1, prominence=200, distance=100, h_line=True, text_loc='right', percent=percent_mrp, plot=True, label='tof', peaks_find=False, fig_name=figname, fig_size=(9/2.54, 6/2.54))"
   ]
  },
  {
   "cell_type": "code",
   "execution_count": 28,
   "metadata": {},
   "outputs": [
    {
     "name": "stdout",
     "output_type": "stream",
     "text": [
      "The peak index for MRP calculation is: 2\n"
     ]
    },
    {
     "data": {
      "application/vnd.jupyter.widget-view+json": {
       "model_id": "20ca250abfcd4c6ea0ee2ba141bda51f",
       "version_major": 2,
       "version_minor": 0
      },
      "image/png": "[encoded data removed]",
      "text/html": [
       "\n",
       "            <div style=\"display: inline-block;\">\n",
       "                <div class=\"jupyter-widgets widget-label\" style=\"text-align: center;\">\n",
       "                    Figure\n",
       "                </div>\n",
       "                <img src='data:image/png;base64,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' width=354.3307086614173/>\n",
       "            </div>\n",
       "        "
      ],
      "text/plain": [
       "Canvas(toolbar=Toolbar(toolitems=[('Home', 'Reset original view', 'home', 'home'), ('Back', 'Back to previous …"
      ]
     },
     "metadata": {},
     "output_type": "display_data"
    },
    {
     "name": "stdout",
     "output_type": "stream",
     "text": [
      "Mass resolving power for the highest peak (MRP --> m/m_2-m_1): 25.56061950925185\n",
      "Peaks  0 is at location and height: (457.13, 934.00) peak window sides (50.00%) are: (449.07, 466.88)\n",
      "Peaks  1 is at location and height: (608.21, 4636.00) peak window sides (50.00%) are: (608.11, 608.21)\n",
      "Peaks  2 is at location and height: (618.16, 6892.00) peak window sides (50.00%) are: (606.22, 630.40)\n"
     ]
    }
   ],
   "source": [
    "percent_mrp = 50\n",
    "peaks_ini, peaks_y_ini, peak_widths_p_ini, _ = tools.hist_plot(dld_t[dld_t < 2000], 0.1, prominence=200, distance=100, h_line=True, text_loc='right', percent=percent_mrp, plot=True, label='tof', fig_name=figname, fig_size=(9/2.54, 6/2.54))\n",
    "index_max_ini = np.argmax(peaks_y_ini)\n",
    "mrp = (peaks_ini[index_max_ini] / (peak_widths_p_ini[index_max_ini][2] - peak_widths_p_ini[index_max_ini][1]))\n",
    "print('Mass resolving power for the highest peak (MRP --> m/m_2-m_1):', mrp)\n",
    "for i in range(len(peaks_ini)):\n",
    "    print('Peaks ', i, 'is at location and height: ({:.2f}, {:.2f})'.format(peaks_ini[i], peaks_y_ini[i]), 'peak window sides ({:.2f}%) are: ({:.2f}, {:.2f})'.format(percent_mrp, peak_widths_p_ini[i][1], peak_widths_p_ini[i][2]))"
   ]
  },
  {
   "cell_type": "markdown",
   "metadata": {
    "pycharm": {
     "name": "#%% md\n"
    }
   },
   "source": [
    "$$\\textbf{Below plotted graph offers peak selection. You can select relevant peaks you want for computation.}$$"
   ]
  },
  {
   "cell_type": "code",
   "execution_count": 29,
   "metadata": {
    "pycharm": {
     "name": "#%%\n"
    }
   },
   "outputs": [
    {
     "name": "stdout",
     "output_type": "stream",
     "text": [
      "The peak index for MRP calculation is: 2\n"
     ]
    },
    {
     "data": {
      "application/vnd.jupyter.widget-view+json": {
       "model_id": "6dbe47e120bd4f29afc9bca335c7f50d",
       "version_major": 2,
       "version_minor": 0
      },
      "image/png": "[encoded data removed]",
      "text/html": [
       "\n",
       "            <div style=\"display: inline-block;\">\n",
       "                <div class=\"jupyter-widgets widget-label\" style=\"text-align: center;\">\n",
       "                    Figure\n",
       "                </div>\n",
       "                <img src='data:image/png;base64,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' width=354.3307086614173/>\n",
       "            </div>\n",
       "        "
      ],
      "text/plain": [
       "Canvas(toolbar=Toolbar(toolitems=[('Home', 'Reset original view', 'home', 'home'), ('Back', 'Back to previous …"
      ]
     },
     "metadata": {},
     "output_type": "display_data"
    },
    {
     "name": "stdout",
     "output_type": "stream",
     "text": [
      "Mass resolving power for the highest peak (MRP --> m/m_2-m_1): 30.000001650923682\n",
      "Peaks  0 is at location and height: (1.20, 175.00) peak window sides (50.00%) are: (1.10, 1.20)\n",
      "Peaks  1 is at location and height: (13.70, 34030.00) peak window sides (50.00%) are: (13.40, 13.90)\n",
      "Peaks  2 is at location and height: (27.01, 195051.00) peak window sides (50.00%) are: (26.51, 27.41)\n"
     ]
    }
   ],
   "source": [
    "percent_mrp = 50\n",
    "lim = 400\n",
    "mc_seb_ini = mc_tools.tof2mc(dld_t, t0_d.value, dld_highVoltage, dld_pulseVoltage, dld_x, dld_y, flightPathLength_d.value, mode=pulse_mode.value)\n",
    "peaks_ini, peaks_y_ini, peak_widths_p_ini, _ = tools.hist_plot(mc_seb_ini[mc_seb_ini < lim], 0.1, prominence=50, distance=100, h_line=True, text_loc='right', percent=percent_mrp, plot=True, fig_name=figname)\n",
    "index_max_ini = np.argmax(peaks_y_ini)\n",
    "mrp = (peaks_ini[index_max_ini] / (peak_widths_p_ini[index_max_ini][2] - peak_widths_p_ini[index_max_ini][1]))\n",
    "print('Mass resolving power for the highest peak (MRP --> m/m_2-m_1):', mrp)\n",
    "for i in range(len(peaks_ini)):\n",
    "    print('Peaks ', i, 'is at location and height: ({:.2f}, {:.2f})'.format(peaks_ini[i], peaks_y_ini[i]), 'peak window sides ({:.2f}%) are: ({:.2f}, {:.2f})'.format(percent_mrp, peak_widths_p_ini[i][1], peak_widths_p_ini[i][2]))"
   ]
  },
  {
   "cell_type": "code",
   "execution_count": 30,
   "metadata": {},
   "outputs": [],
   "source": [
    "bin_size=widgets.FloatText(value=0.1, description='bin size:')\n",
    "prominence=widgets.IntText(value=100, description='peak prominance:')\n",
    "distance=widgets.IntText(value=500, description='peak distance:')\n",
    "lim_tof=widgets.IntText(value=1500, description='lim tof/mc:')\n",
    "percent=widgets.IntText(value=50, description='percent MRP:')\n",
    "\n",
    "def hist_plot(figname, plot):\n",
    "    \n",
    "    with out:\n",
    "        clear_output(True)\n",
    "    \n",
    "        bin_size_p = bin_size.value\n",
    "        prominence_p = prominence.value\n",
    "        distance_p = distance.value\n",
    "        lim_tof_p = lim_tof.value\n",
    "        percent_p = percent.value\n",
    "        selector = 'rect'\n",
    "        peaks_ini, peaks_y_ini, peak_widths_p_ini, _ = tools.hist_plot(variables.dld_t_calib[variables.dld_t_calib < lim_tof_p], bin_size_p, distance=distance_p, percent=percent_p, prominence=prominence_p, selector=selector, plot=plot, label='tof', fig_name=figname+'calib')\n",
    "        index_max_ini = np.argmax(peaks_y_ini)\n",
    "        variables.max_peak = peaks_ini[index_max_ini]\n",
    "        variables.peak = peaks_ini\n",
    "        mrp = (peaks_ini[index_max_ini] / (peak_widths_p_ini[index_max_ini][2] - peak_widths_p_ini[index_max_ini][1]))\n",
    "        print('Mass resolving power for the highest peak (MRP --> m/m_2-m_1):', mrp)\n",
    "        for i in range(len(peaks_ini)):\n",
    "            print('Peaks ', i, 'is at location and height: ({:.2f}, {:.2f})'.format(peaks_ini[i], peaks_y_ini[i]), 'peak window sides ({:.2f}%) are: ({:.2f}, {:.2f})'.format(percent_p, peak_widths_p_ini[i][1], peak_widths_p_ini[i][2]))"
   ]
  },
  {
   "cell_type": "code",
   "execution_count": 31,
   "metadata": {},
   "outputs": [],
   "source": [
    "sample_size_b = widgets.IntText(value=11, description='sample size:') \n",
    "index_fig_b = widgets.IntText(value=1, description='fig index:')\n",
    "plot_b = widgets.Dropdown(\n",
    "    options=[('False', False), ('True', True)],\n",
    "    description='plot fig:'\n",
    ")\n",
    "\n",
    "save_b = widgets.Dropdown(\n",
    "    options=[('False', False), ('True', True)],\n",
    "    description='save fig:'\n",
    ")\n",
    "def bowl_correction(dld_x, dld_y, dld_highVoltage, figname=figname):\n",
    "    with out:\n",
    "        sample_size_p = sample_size_b.value\n",
    "        index_fig_p = index_fig_b.value\n",
    "        plot_p = plot_b.value\n",
    "        save_p = save_b.value\n",
    "\n",
    "        calibration.bowl_correction_main(dld_x, dld_y, dld_highVoltage, det_diam.value, sample_size=sample_size_p, calibration_mode='tof',\n",
    "                                        index_fig=index_fig_p, plot=plot_p, save=save_p)\n"
   ]
  },
  {
   "cell_type": "code",
   "execution_count": 32,
   "metadata": {},
   "outputs": [],
   "source": [
    "sample_size_v =widgets.IntText(value=100, description='sample size:') \n",
    "index_fig_v = widgets.IntText(value=1, description='fig index:')\n",
    "plot_v = widgets.Dropdown(\n",
    "    options=[('False', False), ('True', True)],\n",
    "    description='plot fig:'\n",
    ")\n",
    "save_v = widgets.Dropdown(\n",
    "    options=[('False', False), ('True', True)],\n",
    "    description='save fig:'\n",
    ")\n",
    "mode_v = widgets.Dropdown(\n",
    "    options=[('ion_seq', 'ion_seq'), ('voltage', 'voltage')],\n",
    "    description='sample mode:'\n",
    ")\n",
    "peak_mode = widgets.Dropdown(\n",
    "    options=[('peak', 'peak'), ('mean', 'mean'), ('median', 'median')],\n",
    "    description='peak mode:'\n",
    ")\n",
    "def vol_correction(dld_highVoltage, figname):\n",
    "    with out:\n",
    "        sample_size_p = sample_size_v.value\n",
    "        index_fig_p = index_fig_v.value\n",
    "        plot_p = plot_v.value\n",
    "        save_p = save_v.value\n",
    "        mode_p = mode_v.value\n",
    "        peak_mode_p = peak_mode.value\n",
    "        calibration.voltage_corr_main(dld_highVoltage, sample_size=sample_size_p, calibration_mode='tof',\n",
    "                                        index_fig=index_fig_p, plot=plot_p, save=save_p, mode=mode_p, peak_mode=peak_mode_p)\n"
   ]
  },
  {
   "cell_type": "code",
   "execution_count": 33,
   "metadata": {},
   "outputs": [
    {
     "data": {
      "application/vnd.jupyter.widget-view+json": {
       "model_id": "fe8de8a6881e49e2a04c89b51aac243a",
       "version_major": 2,
       "version_minor": 0
      },
      "text/plain": [
       "VBox(children=(Tab(children=(VBox(children=(FloatText(value=0.1, description='bin size:'), IntText(value=100, …"
      ]
     },
     "metadata": {},
     "output_type": "display_data"
    },
    {
     "data": {
      "application/vnd.jupyter.widget-view+json": {
       "model_id": "6a9263efbc134a19927c756deffbbe18",
       "version_major": 2,
       "version_minor": 0
      },
      "text/plain": [
       "Output()"
      ]
     },
     "metadata": {},
     "output_type": "display_data"
    }
   ],
   "source": [
    "pb_bowl = widgets.HTML(\n",
    "    value=\" \",\n",
    "    placeholder='Status:',\n",
    "    description='Status:',\n",
    ")\n",
    "pb_vol = widgets.HTML(\n",
    "    value=\" \",\n",
    "    placeholder='Status:',\n",
    "    description='Status:',\n",
    ")\n",
    "plot_button = widgets.Button(\n",
    "    description='plot hist',\n",
    ")\n",
    "plot_fdm_button = widgets.Button(\n",
    "    description='plot FDM',\n",
    ")\n",
    "reset_button = widgets.Button(\n",
    "    description='reset back correction',\n",
    ")\n",
    "save_button = widgets.Button(\n",
    "    description='save correction',\n",
    ")\n",
    "bowl_button = widgets.Button(\n",
    "    description='bowl correction',\n",
    ")\n",
    "vol_button = widgets.Button(\n",
    "    description='voltage correction',\n",
    ")\n",
    "bin_fdm = widgets.IntText(value=256, description='bin FDM:')\n",
    "    \n",
    "@plot_button.on_click\n",
    "def plot_on_click(b, figname=figname, plot=True):\n",
    "    hist_plot(figname, plot)\n",
    "\n",
    "@plot_fdm_button.on_click\n",
    "def plot_fdm_on_click(b, save=True):\n",
    "    with out:\n",
    "        clear_output(True)\n",
    "        if variables.selected_x1 == 0 or variables.selected_x2 == 0:\n",
    "            print('Please first select a peak')\n",
    "        else:\n",
    "            print('Selected tof are: (%s, %s)' %(variables.selected_x1, variables.selected_x2)) \n",
    "            mask_temporal = np.logical_and((variables.dld_t_calib > variables.selected_x1),\n",
    "                                           (variables.dld_t_calib < variables.selected_x2))\n",
    "            x = dld_x[mask_temporal]\n",
    "            y = dld_y[mask_temporal]\n",
    "            bin_fdm_p = bin_fdm.value\n",
    "            bins = [bin_fdm_p, bin_fdm_p]\n",
    "\n",
    "            calibration.plot_FDM(x, y, save, bins)\n",
    "    \n",
    "@reset_button.on_click\n",
    "def reset_on_click(b, figname=figname, plot=True):\n",
    "    variables.dld_t_calib = np.copy(variables.dld_t_calib_backup)\n",
    "@save_button.on_click\n",
    "def save_on_click(b, figname=figname, plot=True):\n",
    "    variables.dld_t_calib_backup = np.copy(variables.dld_t_calib)\n",
    "    \n",
    "@bowl_button.on_click\n",
    "def bowl_on_click(b, dld_x=dld_x, dld_y=dld_y, dld_highVoltage=dld_highVoltage, figname=figname):\n",
    "    with out:\n",
    "        clear_output(True)\n",
    "        pb_bowl.value = \"<b>Starting...</b>\"\n",
    "        if variables.selected_x1 == 0 or variables.selected_x2 == 0:\n",
    "            print('Please first select a peak')\n",
    "        else:\n",
    "            print('Selected tof are: (%s, %s)' %(variables.selected_x1, variables.selected_x2))\n",
    "            bowl_correction(dld_x, dld_y, dld_highVoltage, figname)  \n",
    "        pb_bowl.value = \"<b>Flished</b>\"\n",
    "@vol_button.on_click\n",
    "def vol_on_click(b, dld_highVoltage=dld_highVoltage, figname=figname):\n",
    "    with out:\n",
    "        clear_output(True)\n",
    "        pb_vol.value = \"<b>Starting...</b>\"\n",
    "        if variables.selected_x1 == 0 or variables.selected_x2 == 0:\n",
    "            print('Please first select a peak')\n",
    "        else:\n",
    "            print('Selected tof are: (%s, %s)' %(variables.selected_x1, variables.selected_x2))\n",
    "            vol_correction(dld_highVoltage, figname)\n",
    "        pb_vol.value = \"<b>Flished</b>\"\n",
    "    \n",
    "\n",
    "\n",
    "tab1 = VBox(children=[bin_size, prominence, distance, lim_tof, percent, bin_fdm])\n",
    "tab2 = VBox(children=[HBox(children=[sample_size_b, index_fig_b, plot_b, save_b]), bowl_button, pb_bowl])\n",
    "tab3 = VBox(children=[HBox(children=[sample_size_v, index_fig_v, mode_v, peak_mode, plot_v, save_v]), vol_button, pb_vol])\n",
    "\n",
    "tab = widgets.Tab(children=[tab1, tab2, tab3])\n",
    "tab.set_title(0, 'tof/mc plot')\n",
    "tab.set_title(1, 'bowl correction')\n",
    "tab.set_title(2, 'voltage correction')\n",
    "\n",
    "\n",
    "\n",
    "display(VBox(children=[tab,HBox(children=[plot_button, plot_fdm_button, save_button, reset_button])]))\n",
    "out = Output()\n",
    "display(out)"
   ]
  },
  {
   "cell_type": "code",
   "execution_count": 20,
   "metadata": {},
   "outputs": [],
   "source": [
    "# fitresult = [ 1.59856266e+00,  5.68765920e-09, -1.41281563e-04]\n",
    "# f_v = calibration.voltage_corr(data['high_voltage (V)'].to_numpy(), *fitresult)\n",
    "# variables.dld_t_calib = variables.dld_t_calib * (1 / f_v)"
   ]
  },
  {
   "cell_type": "code",
   "execution_count": 21,
   "metadata": {},
   "outputs": [],
   "source": [
    "# parameters = [ 9.88684464e-01, -2.17639093e-04 , 2.36038428e-04,  3.44156992e-05, -2.62895576e-06,  3.28072030e-05]\n",
    "# f_bowl = calibration.bowl_corr_fit([data['x_det (cm)'].to_numpy()* 10, data['y_det (cm)'].to_numpy()* 10], *parameters)\n",
    "# variables.dld_t_calib = variables.dld_t_calib * 1 / f_bowl"
   ]
  },
  {
   "cell_type": "code",
   "execution_count": 53,
   "metadata": {
    "tags": []
   },
   "outputs": [],
   "source": [
    "xxxx = np.copy(variables.dld_t_calib)"
   ]
  },
  {
   "cell_type": "code",
   "execution_count": 55,
   "metadata": {},
   "outputs": [],
   "source": [
    "variables.dld_t_calib_backup = np.copy(variables.dld_t_calib)"
   ]
  },
  {
   "cell_type": "code",
   "execution_count": 56,
   "metadata": {
    "tags": []
   },
   "outputs": [],
   "source": [
    "# np.save(\"t_171_c.npy\", variables.dld_t_calib)"
   ]
  },
  {
   "cell_type": "code",
   "execution_count": 57,
   "metadata": {},
   "outputs": [
    {
     "data": {
      "application/vnd.jupyter.widget-view+json": {
       "model_id": "c06a49b37d5545bd8ee11150a75744ed",
       "version_major": 2,
       "version_minor": 0
      },
      "text/plain": [
       "interactive(children=(FloatText(value=0.1, description='bin_size'), IntText(value=50, description='prominence'…"
      ]
     },
     "metadata": {},
     "output_type": "display_data"
    }
   ],
   "source": [
    "def tof_his(bin_size, prominence, distance, percent, selector, plot, figname, lim_dld_t):\n",
    "    variables.peaks_idx = []\n",
    "    peaks_ini, peaks_y_ini, peak_widths_p_ini, _ = tools.hist_plot(variables.dld_t_calib[variables.dld_t_calib < lim_dld_t], bin_size, distance=distance, percent=percent, prominence=prominence, selector=selector, peaks_find_plot=True, plot=plot, label='tof', fig_name=figname)\n",
    "    index_max_ini = np.argmax(peaks_y_ini)\n",
    "    variables.max_peak = peaks_ini[index_max_ini]\n",
    "    variables.peak = peaks_ini\n",
    "    mrp = (peaks_ini[index_max_ini] / (peak_widths_p_ini[index_max_ini][2] - peak_widths_p_ini[index_max_ini][1]))\n",
    "    print('Mass resolving power for the highest peak (MRP --> m/m_2-m_1):', mrp)\n",
    "    for i in range(len(peaks_ini)):\n",
    "                   print('Peaks ', i+1, 'is at location and height: ({:.2f}, {:.2f})'.format(peaks_ini[i], peaks_y_ini[i]), 'peak window sides ({:.2f}%) are: ({:.2f}, {:.2f})'.format(percent, peak_widths_p_ini[i][1], peak_widths_p_ini[i][2]))\n",
    "interact_manual(tof_his, bin_size=widgets.FloatText(value=0.1)\n",
    "               ,prominence=widgets.IntText(value=50), distance=widgets.IntText(value=100), lim_dld_t=widgets.IntText(value=1500)\n",
    "               ,percent=widgets.IntText(value=50), selector=fixed('peak'), plot=fixed(True), figname=fixed(figname));\n"
   ]
  },
  {
   "cell_type": "code",
   "execution_count": 98,
   "metadata": {
    "pycharm": {
     "name": "#%%\n"
    }
   },
   "outputs": [
    {
     "data": {
      "application/vnd.jupyter.widget-view+json": {
       "model_id": "b602453cd78e4c5c93d4fccb6fc17e37",
       "version_major": 2,
       "version_minor": 0
      },
      "text/plain": [
       "Dropdown(description='Elements', options=(('H (1) (99.98)', 'H(1)[1.01]'), ('H (2) (0.01)', 'H(2)[2.01]'), ('H…"
      ]
     },
     "metadata": {},
     "output_type": "display_data"
    },
    {
     "data": {
      "application/vnd.jupyter.widget-view+json": {
       "model_id": "e364e64659bd44b39b1a6a3235bbfd3b",
       "version_major": 2,
       "version_minor": 0
      },
      "text/plain": [
       "Dropdown(description='Charge', options=((1, 1), (2, 2), (3, 3), (4, 4)), value=1)"
      ]
     },
     "metadata": {},
     "output_type": "display_data"
    },
    {
     "data": {
      "application/vnd.jupyter.widget-view+json": {
       "model_id": "1912b1c682bc4ba4af7f7ac7bf4b92a6",
       "version_major": 2,
       "version_minor": 0
      },
      "text/plain": [
       "Button(description='ADD', icon='check', style=ButtonStyle(), tooltip='ADD')"
      ]
     },
     "metadata": {},
     "output_type": "display_data"
    },
    {
     "data": {
      "application/vnd.jupyter.widget-view+json": {
       "model_id": "489472fff6104d90a460da9d5d550e9e",
       "version_major": 2,
       "version_minor": 0
      },
      "text/plain": [
       "Button(description='DELETE', icon='check', style=ButtonStyle(), tooltip='DELETE')"
      ]
     },
     "metadata": {},
     "output_type": "display_data"
    },
    {
     "data": {
      "application/vnd.jupyter.widget-view+json": {
       "model_id": "68c5a12fa80e42049ae9c357b8f652d3",
       "version_major": 2,
       "version_minor": 0
      },
      "text/plain": [
       "Button(description='RESET', icon='check', style=ButtonStyle(), tooltip='RESET')"
      ]
     },
     "metadata": {},
     "output_type": "display_data"
    },
    {
     "data": {
      "application/vnd.jupyter.widget-view+json": {
       "model_id": "aa8e7ed5cc8a4a19be7bbdb4a270b126",
       "version_major": 2,
       "version_minor": 0
      },
      "text/plain": [
       "Output()"
      ]
     },
     "metadata": {},
     "output_type": "display_data"
    }
   ],
   "source": [
    "isotopeTableFile = '../../../files/isotopeTable.h5'\n",
    "dataframe = data_tools.read_hdf5_through_pandas(isotopeTableFile)\n",
    "elementsList = dataframe['element']\n",
    "elementIsotopeList = dataframe['isotope']\n",
    "elementMassList =  dataframe['weight']\n",
    "abundanceList = dataframe['abundance']\n",
    "\n",
    "elements = list(zip(elementsList, elementIsotopeList, elementMassList, abundanceList))\n",
    "dropdownList = []\n",
    "for element in elements:\n",
    "    tupleElement = (\"{} ({}) ({:.2f})\".format(element[0], element[1], element[3]), \"{}({})[{}]\".format(element[0], element[1], element[2]))\n",
    "    dropdownList.append(tupleElement)\n",
    "\n",
    "chargeList = [(1,1,),(2,2,),(3,3,),(4,4,)]\n",
    "dropdown = wd.dropdownWidget(dropdownList,\"Elements\")\n",
    "dropdown.observe(wd.on_change)\n",
    "\n",
    "\n",
    "chargeDropdown = wd.dropdownWidget(chargeList,\"Charge\")\n",
    "chargeDropdown.observe(wd.on_change_charge)\n",
    "\n",
    "wd.compute_element_isotope_values_according_to_selected_charge()\n",
    "\n",
    "buttonAdd = wd.buttonWidget(\"ADD\")\n",
    "buttonDelete = wd.buttonWidget(\"DELETE\")\n",
    "buttonReset = wd.buttonWidget(\"RESET\")\n",
    "\n",
    "display(dropdown, chargeDropdown, buttonAdd, buttonDelete, buttonReset)\n",
    "\n",
    "def buttonAdd_f(b,):\n",
    "    with out:\n",
    "        clear_output(True)\n",
    "        wd.onClickAdd(b,)\n",
    "        display()\n",
    "def buttonDelete_f(b,):\n",
    "    with out:\n",
    "        clear_output(True)\n",
    "        wd.onClickDelete(b,)\n",
    "        display()\n",
    "def buttonResett_f(b,):\n",
    "    with out:\n",
    "        clear_output(True)\n",
    "        wd.onClickReset(b,)\n",
    "        display()\n",
    "\n",
    "listMaterial = buttonAdd.on_click(buttonAdd_f)\n",
    "buttonDelete.on_click(buttonDelete_f)\n",
    "buttonReset.on_click(buttonResett_f)\n",
    "# listMaterial = buttonAdd.on_click(wd.onClickAdd)\n",
    "# buttonDelete.on_click(wd.onClickDelete)\n",
    "# buttonReset.on_click(wd.onClickReset)\n",
    "out = Output()\n",
    "display(out)"
   ]
  },
  {
   "cell_type": "code",
   "execution_count": 99,
   "metadata": {
    "pycharm": {
     "name": "#%%\n"
    }
   },
   "outputs": [
    {
     "name": "stdout",
     "output_type": "stream",
     "text": [
      "highest peak in the tof histogram: [171.45736849 445.83000897 603.93463447]\n",
      "highest peak in the ideal mc histogram: [ 1.01 13.49 26.98]\n"
     ]
    }
   ],
   "source": [
    "peaks_chos = []\n",
    "for i in range(len(variables.peaks_idx)):\n",
    "    peaks_chos.append(variables.peak[variables.peaks_idx[i]])\n",
    "peaks_chos = np.array(peaks_chos)\n",
    "listMaterial = np.array(variables.listMaterial)\n",
    "print('highest peak in the tof histogram:', peaks_chos)\n",
    "print('highest peak in the ideal mc histogram:', listMaterial)"
   ]
  },
  {
   "cell_type": "code",
   "execution_count": 100,
   "metadata": {
    "pycharm": {
     "name": "#%%\n"
    }
   },
   "outputs": [
    {
     "name": "stderr",
     "output_type": "stream",
     "text": [
      "C:\\Users\\APTUser\\.conda\\envs\\oxcart5\\lib\\site-packages\\scipy\\optimize\\_minpack_py.py:906: OptimizeWarning: Covariance of the parameters could not be estimated\n",
      "  warnings.warn('Covariance of the parameters could not be estimated',\n"
     ]
    }
   ],
   "source": [
    "def parametric(t, t0, c, d):\n",
    "\n",
    "    # return c * ((t - t0)**2) + d\n",
    "    return c * ((t - t0)**2) + d*t\n",
    "\n",
    "def parametric_calib(t, mc_ideal):\n",
    "    \n",
    "    fitresult, _ = curve_fit(parametric, t, mc_ideal, maxfev=2000)\n",
    "    return fitresult\n",
    "\n",
    "fitresult = parametric_calib(peaks_chos, variables.listMaterial)\n",
    "\n",
    "\n",
    "mc_p_1 = parametric(variables.dld_t_calib, *fitresult)"
   ]
  },
  {
   "cell_type": "code",
   "execution_count": 101,
   "metadata": {},
   "outputs": [
    {
     "name": "stdout",
     "output_type": "stream",
     "text": [
      "The t0 is: 52.35718377338705 ns\n"
     ]
    }
   ],
   "source": [
    "print('The t0 is:', fitresult[0], 'ns')"
   ]
  },
  {
   "cell_type": "code",
   "execution_count": 102,
   "metadata": {
    "pycharm": {
     "name": "#%%\n"
    }
   },
   "outputs": [
    {
     "name": "stdout",
     "output_type": "stream",
     "text": [
      "The peak index for MRP calculation is: 2\n"
     ]
    },
    {
     "data": {
      "application/vnd.jupyter.widget-view+json": {
       "model_id": "2659f0fd364f40b4abc2516a3c4e7793",
       "version_major": 2,
       "version_minor": 0
      },
      "image/png": "[encoded data removed]",
      "text/html": [
       "\n",
       "            <div style=\"display: inline-block;\">\n",
       "                <div class=\"jupyter-widgets widget-label\" style=\"text-align: center;\">\n",
       "                    Figure\n",
       "                </div>\n",
       "                <img src='data:image/png;base64,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' width=354.3307086614173/>\n",
       "            </div>\n",
       "        "
      ],
      "text/plain": [
       "Canvas(toolbar=Toolbar(toolitems=[('Home', 'Reset original view', 'home', 'home'), ('Back', 'Back to previous …"
      ]
     },
     "metadata": {},
     "output_type": "display_data"
    },
    {
     "name": "stdout",
     "output_type": "stream",
     "text": [
      "Mass resolving power for the highest peak (MRP --> m/m_2-m_1): 269.01550939358486\n",
      "Peaks  0 is at location and height: (0.90, 118.00) peak window sides (half-maximum) are: (0.80, 1.00)\n",
      "Peaks  1 is at location and height: (13.44, 81784.00) peak window sides (half-maximum) are: (13.34, 13.54)\n",
      "Peaks  2 is at location and height: (26.97, 673199.00) peak window sides (half-maximum) are: (26.87, 26.97)\n"
     ]
    }
   ],
   "source": [
    "percent_mrp = 50\n",
    "# background = {'calculation': True, 'plot_no_back': True, 'plot': False, 'mode': 'fabc', 'patch': False, 'lam': 1e4, 'num_std': 5.0}\n",
    "background={'calculation': False}\n",
    "peak_p, peaks_y_p, peak_widths_p, _ = tools.hist_plot(mc_p_1[mc_p_1 < 75], 0.1, prominence=40, distance=20, text_loc='right', percent=percent_mrp, plot=True, fig_name='mc2_p_1'+figname, background=background)\n",
    "index_max_ini = np.argmax(peaks_y_p)\n",
    "mrp = (peak_p[index_max_ini] / (peak_widths_p[index_max_ini][2] - peak_widths_p[index_max_ini][1]))\n",
    "print('Mass resolving power for the highest peak (MRP --> m/m_2-m_1):', mrp)\n",
    "for i in range(len(peak_p)):\n",
    "    print('Peaks ', i, 'is at location and height: ({:.2f}, {:.2f})'.format(peak_p[i], peaks_y_p[i]), 'peak window sides (half-maximum) are: ({:.2f}, {:.2f})'.format(peak_widths_p[i][1], peak_widths_p[i][2]))"
   ]
  },
  {
   "cell_type": "code",
   "execution_count": 77,
   "metadata": {
    "tags": []
   },
   "outputs": [
    {
     "data": {
      "text/plain": [
       "144.6475601822121"
      ]
     },
     "execution_count": 77,
     "metadata": {},
     "output_type": "execute_result"
    }
   ],
   "source": [
    "# np.sqrt(((1.0 * 1.66E-27 * (110 * 1E-3) ** 2)) / (2 * 1.6E-19  * 3000)) * 1E9 # in ns"
   ]
  },
  {
   "cell_type": "code",
   "execution_count": 58,
   "metadata": {
    "tags": []
   },
   "outputs": [
    {
     "data": {
      "text/html": [
       "<div>\n",
       "<style scoped>\n",
       "    .dataframe tbody tr th:only-of-type {\n",
       "        vertical-align: middle;\n",
       "    }\n",
       "\n",
       "    .dataframe tbody tr th {\n",
       "        vertical-align: top;\n",
       "    }\n",
       "\n",
       "    .dataframe thead th {\n",
       "        text-align: right;\n",
       "    }\n",
       "</style>\n",
       "<table border=\"1\" class=\"dataframe\">\n",
       "  <thead>\n",
       "    <tr style=\"text-align: right;\">\n",
       "      <th></th>\n",
       "      <th>x (nm)</th>\n",
       "      <th>y (nm)</th>\n",
       "      <th>z (nm)</th>\n",
       "      <th>mc_c (Da)</th>\n",
       "      <th>mc (Da)</th>\n",
       "      <th>high_voltage (V)</th>\n",
       "      <th>pulse (V)</th>\n",
       "      <th>start_counter</th>\n",
       "      <th>t (ns)</th>\n",
       "      <th>t_c (nm)</th>\n",
       "      <th>x_det (cm)</th>\n",
       "      <th>y_det (cm)</th>\n",
       "      <th>pulse_pi</th>\n",
       "      <th>ion_pp</th>\n",
       "    </tr>\n",
       "  </thead>\n",
       "  <tbody>\n",
       "    <tr>\n",
       "      <th>0</th>\n",
       "      <td>0.943917</td>\n",
       "      <td>-0.463124</td>\n",
       "      <td>0.019942</td>\n",
       "      <td>91.527626</td>\n",
       "      <td>0.0</td>\n",
       "      <td>3682.110107</td>\n",
       "      <td>0.0</td>\n",
       "      <td>0.0</td>\n",
       "      <td>3891.519531</td>\n",
       "      <td>0.0</td>\n",
       "      <td>0.392873</td>\n",
       "      <td>0.057275</td>\n",
       "      <td>0</td>\n",
       "      <td>1</td>\n",
       "    </tr>\n",
       "    <tr>\n",
       "      <th>1</th>\n",
       "      <td>2.270334</td>\n",
       "      <td>-5.010604</td>\n",
       "      <td>0.551171</td>\n",
       "      <td>91.982094</td>\n",
       "      <td>0.0</td>\n",
       "      <td>3682.110107</td>\n",
       "      <td>0.0</td>\n",
       "      <td>0.0</td>\n",
       "      <td>3904.508789</td>\n",
       "      <td>0.0</td>\n",
       "      <td>0.702811</td>\n",
       "      <td>-0.243931</td>\n",
       "      <td>43</td>\n",
       "      <td>1</td>\n",
       "    </tr>\n",
       "    <tr>\n",
       "      <th>2</th>\n",
       "      <td>-5.462508</td>\n",
       "      <td>0.471533</td>\n",
       "      <td>0.547564</td>\n",
       "      <td>92.993858</td>\n",
       "      <td>0.0</td>\n",
       "      <td>3682.110107</td>\n",
       "      <td>0.0</td>\n",
       "      <td>0.0</td>\n",
       "      <td>3878.014160</td>\n",
       "      <td>0.0</td>\n",
       "      <td>-0.112540</td>\n",
       "      <td>-0.152062</td>\n",
       "      <td>211</td>\n",
       "      <td>1</td>\n",
       "    </tr>\n",
       "    <tr>\n",
       "      <th>3</th>\n",
       "      <td>8.305490</td>\n",
       "      <td>4.298521</td>\n",
       "      <td>1.624813</td>\n",
       "      <td>60.973576</td>\n",
       "      <td>0.0</td>\n",
       "      <td>3682.110107</td>\n",
       "      <td>0.0</td>\n",
       "      <td>0.0</td>\n",
       "      <td>3204.297363</td>\n",
       "      <td>0.0</td>\n",
       "      <td>0.712028</td>\n",
       "      <td>0.788533</td>\n",
       "      <td>66</td>\n",
       "      <td>1</td>\n",
       "    </tr>\n",
       "    <tr>\n",
       "      <th>4</th>\n",
       "      <td>2.990205</td>\n",
       "      <td>0.078835</td>\n",
       "      <td>0.161882</td>\n",
       "      <td>61.330170</td>\n",
       "      <td>0.0</td>\n",
       "      <td>3682.110107</td>\n",
       "      <td>0.0</td>\n",
       "      <td>0.0</td>\n",
       "      <td>3195.071777</td>\n",
       "      <td>0.0</td>\n",
       "      <td>0.512681</td>\n",
       "      <td>0.189050</td>\n",
       "      <td>18</td>\n",
       "      <td>1</td>\n",
       "    </tr>\n",
       "    <tr>\n",
       "      <th>...</th>\n",
       "      <td>...</td>\n",
       "      <td>...</td>\n",
       "      <td>...</td>\n",
       "      <td>...</td>\n",
       "      <td>...</td>\n",
       "      <td>...</td>\n",
       "      <td>...</td>\n",
       "      <td>...</td>\n",
       "      <td>...</td>\n",
       "      <td>...</td>\n",
       "      <td>...</td>\n",
       "      <td>...</td>\n",
       "      <td>...</td>\n",
       "      <td>...</td>\n",
       "    </tr>\n",
       "    <tr>\n",
       "      <th>549698</th>\n",
       "      <td>-4.680508</td>\n",
       "      <td>-0.665500</td>\n",
       "      <td>8.134455</td>\n",
       "      <td>99.078377</td>\n",
       "      <td>0.0</td>\n",
       "      <td>1334.670044</td>\n",
       "      <td>0.0</td>\n",
       "      <td>0.0</td>\n",
       "      <td>6555.320312</td>\n",
       "      <td>0.0</td>\n",
       "      <td>-0.575553</td>\n",
       "      <td>-0.705528</td>\n",
       "      <td>1</td>\n",
       "      <td>1</td>\n",
       "    </tr>\n",
       "    <tr>\n",
       "      <th>549699</th>\n",
       "      <td>-3.787911</td>\n",
       "      <td>-3.385010</td>\n",
       "      <td>8.331511</td>\n",
       "      <td>216.163483</td>\n",
       "      <td>0.0</td>\n",
       "      <td>1334.670044</td>\n",
       "      <td>0.0</td>\n",
       "      <td>0.0</td>\n",
       "      <td>9699.115234</td>\n",
       "      <td>0.0</td>\n",
       "      <td>-0.047374</td>\n",
       "      <td>-1.282389</td>\n",
       "      <td>43</td>\n",
       "      <td>1</td>\n",
       "    </tr>\n",
       "    <tr>\n",
       "      <th>549700</th>\n",
       "      <td>-2.945118</td>\n",
       "      <td>-1.283401</td>\n",
       "      <td>7.480402</td>\n",
       "      <td>101.124908</td>\n",
       "      <td>0.0</td>\n",
       "      <td>1334.670044</td>\n",
       "      <td>0.0</td>\n",
       "      <td>0.0</td>\n",
       "      <td>6691.295410</td>\n",
       "      <td>0.0</td>\n",
       "      <td>-0.129701</td>\n",
       "      <td>-0.605268</td>\n",
       "      <td>114</td>\n",
       "      <td>1</td>\n",
       "    </tr>\n",
       "    <tr>\n",
       "      <th>549701</th>\n",
       "      <td>-4.043397</td>\n",
       "      <td>-0.999465</td>\n",
       "      <td>7.856801</td>\n",
       "      <td>100.075027</td>\n",
       "      <td>0.0</td>\n",
       "      <td>1334.670044</td>\n",
       "      <td>0.0</td>\n",
       "      <td>0.0</td>\n",
       "      <td>6614.916504</td>\n",
       "      <td>0.0</td>\n",
       "      <td>-0.393382</td>\n",
       "      <td>-0.694126</td>\n",
       "      <td>211</td>\n",
       "      <td>1</td>\n",
       "    </tr>\n",
       "    <tr>\n",
       "      <th>549702</th>\n",
       "      <td>-3.605551</td>\n",
       "      <td>-1.773034</td>\n",
       "      <td>7.791200</td>\n",
       "      <td>93.055229</td>\n",
       "      <td>0.0</td>\n",
       "      <td>1334.670044</td>\n",
       "      <td>0.0</td>\n",
       "      <td>0.0</td>\n",
       "      <td>6389.932617</td>\n",
       "      <td>0.0</td>\n",
       "      <td>-0.201848</td>\n",
       "      <td>-0.819208</td>\n",
       "      <td>531</td>\n",
       "      <td>1</td>\n",
       "    </tr>\n",
       "  </tbody>\n",
       "</table>\n",
       "<p>549703 rows × 14 columns</p>\n",
       "</div>"
      ],
      "text/plain": [
       "          x (nm)    y (nm)    z (nm)   mc_c (Da)  mc (Da)  high_voltage (V)  \\\n",
       "0       0.943917 -0.463124  0.019942   91.527626      0.0       3682.110107   \n",
       "1       2.270334 -5.010604  0.551171   91.982094      0.0       3682.110107   \n",
       "2      -5.462508  0.471533  0.547564   92.993858      0.0       3682.110107   \n",
       "3       8.305490  4.298521  1.624813   60.973576      0.0       3682.110107   \n",
       "4       2.990205  0.078835  0.161882   61.330170      0.0       3682.110107   \n",
       "...          ...       ...       ...         ...      ...               ...   \n",
       "549698 -4.680508 -0.665500  8.134455   99.078377      0.0       1334.670044   \n",
       "549699 -3.787911 -3.385010  8.331511  216.163483      0.0       1334.670044   \n",
       "549700 -2.945118 -1.283401  7.480402  101.124908      0.0       1334.670044   \n",
       "549701 -4.043397 -0.999465  7.856801  100.075027      0.0       1334.670044   \n",
       "549702 -3.605551 -1.773034  7.791200   93.055229      0.0       1334.670044   \n",
       "\n",
       "        pulse (V)  start_counter       t (ns)  t_c (nm)  x_det (cm)  \\\n",
       "0             0.0            0.0  3891.519531       0.0    0.392873   \n",
       "1             0.0            0.0  3904.508789       0.0    0.702811   \n",
       "2             0.0            0.0  3878.014160       0.0   -0.112540   \n",
       "3             0.0            0.0  3204.297363       0.0    0.712028   \n",
       "4             0.0            0.0  3195.071777       0.0    0.512681   \n",
       "...           ...            ...          ...       ...         ...   \n",
       "549698        0.0            0.0  6555.320312       0.0   -0.575553   \n",
       "549699        0.0            0.0  9699.115234       0.0   -0.047374   \n",
       "549700        0.0            0.0  6691.295410       0.0   -0.129701   \n",
       "549701        0.0            0.0  6614.916504       0.0   -0.393382   \n",
       "549702        0.0            0.0  6389.932617       0.0   -0.201848   \n",
       "\n",
       "        y_det (cm)  pulse_pi  ion_pp  \n",
       "0         0.057275         0       1  \n",
       "1        -0.243931        43       1  \n",
       "2        -0.152062       211       1  \n",
       "3         0.788533        66       1  \n",
       "4         0.189050        18       1  \n",
       "...            ...       ...     ...  \n",
       "549698   -0.705528         1       1  \n",
       "549699   -1.282389        43       1  \n",
       "549700   -0.605268       114       1  \n",
       "549701   -0.694126       211       1  \n",
       "549702   -0.819208       531       1  \n",
       "\n",
       "[549703 rows x 14 columns]"
      ]
     },
     "execution_count": 58,
     "metadata": {},
     "output_type": "execute_result"
    }
   ],
   "source": [
    "data"
   ]
  },
  {
   "cell_type": "code",
   "execution_count": 67,
   "metadata": {},
   "outputs": [],
   "source": [
    "data_c = data.copy(deep = True)\n",
    "data_c['t_c (ns)'] = variables.dld_t_calib\n",
    "# data_c['mc_c (Da)'] = mc_p_1"
   ]
  },
  {
   "cell_type": "code",
   "execution_count": 68,
   "metadata": {},
   "outputs": [],
   "source": [
    "# Remove negative mc\n",
    "# threshold = 0\n",
    "# mc_t = data_c['mc_c (Da)'].to_numpy()\n",
    "# mc_t_mask = (mc_t <= threshold)\n",
    "# print('The number of ions with negative mc are:', len(mc_t_mask[mc_t_mask==True]))\n",
    "# data_c.drop(np.where(mc_t_mask)[0], inplace=True)\n",
    "# data_c.reset_index(inplace=True, drop=True)"
   ]
  },
  {
   "cell_type": "code",
   "execution_count": 69,
   "metadata": {},
   "outputs": [
    {
     "data": {
      "text/html": [
       "<div>\n",
       "<style scoped>\n",
       "    .dataframe tbody tr th:only-of-type {\n",
       "        vertical-align: middle;\n",
       "    }\n",
       "\n",
       "    .dataframe tbody tr th {\n",
       "        vertical-align: top;\n",
       "    }\n",
       "\n",
       "    .dataframe thead th {\n",
       "        text-align: right;\n",
       "    }\n",
       "</style>\n",
       "<table border=\"1\" class=\"dataframe\">\n",
       "  <thead>\n",
       "    <tr style=\"text-align: right;\">\n",
       "      <th></th>\n",
       "      <th>x (nm)</th>\n",
       "      <th>y (nm)</th>\n",
       "      <th>z (nm)</th>\n",
       "      <th>mc_c (Da)</th>\n",
       "      <th>mc (Da)</th>\n",
       "      <th>high_voltage (V)</th>\n",
       "      <th>pulse (V)</th>\n",
       "      <th>start_counter</th>\n",
       "      <th>t (ns)</th>\n",
       "      <th>t_c (nm)</th>\n",
       "      <th>x_det (cm)</th>\n",
       "      <th>y_det (cm)</th>\n",
       "      <th>pulse_pi</th>\n",
       "      <th>ion_pp</th>\n",
       "      <th>t_c (ns)</th>\n",
       "    </tr>\n",
       "  </thead>\n",
       "  <tbody>\n",
       "    <tr>\n",
       "      <th>0</th>\n",
       "      <td>0.943917</td>\n",
       "      <td>-0.463124</td>\n",
       "      <td>0.019942</td>\n",
       "      <td>91.527626</td>\n",
       "      <td>0.0</td>\n",
       "      <td>3682.110107</td>\n",
       "      <td>0.0</td>\n",
       "      <td>0.0</td>\n",
       "      <td>3891.519531</td>\n",
       "      <td>0.0</td>\n",
       "      <td>0.392873</td>\n",
       "      <td>0.057275</td>\n",
       "      <td>0</td>\n",
       "      <td>1</td>\n",
       "      <td>4239.131558</td>\n",
       "    </tr>\n",
       "    <tr>\n",
       "      <th>1</th>\n",
       "      <td>2.270334</td>\n",
       "      <td>-5.010604</td>\n",
       "      <td>0.551171</td>\n",
       "      <td>91.982094</td>\n",
       "      <td>0.0</td>\n",
       "      <td>3682.110107</td>\n",
       "      <td>0.0</td>\n",
       "      <td>0.0</td>\n",
       "      <td>3904.508789</td>\n",
       "      <td>0.0</td>\n",
       "      <td>0.702811</td>\n",
       "      <td>-0.243931</td>\n",
       "      <td>43</td>\n",
       "      <td>1</td>\n",
       "      <td>4248.225144</td>\n",
       "    </tr>\n",
       "    <tr>\n",
       "      <th>2</th>\n",
       "      <td>-5.462508</td>\n",
       "      <td>0.471533</td>\n",
       "      <td>0.547564</td>\n",
       "      <td>92.993858</td>\n",
       "      <td>0.0</td>\n",
       "      <td>3682.110107</td>\n",
       "      <td>0.0</td>\n",
       "      <td>0.0</td>\n",
       "      <td>3878.014160</td>\n",
       "      <td>0.0</td>\n",
       "      <td>-0.112540</td>\n",
       "      <td>-0.152062</td>\n",
       "      <td>211</td>\n",
       "      <td>1</td>\n",
       "      <td>4267.018864</td>\n",
       "    </tr>\n",
       "    <tr>\n",
       "      <th>3</th>\n",
       "      <td>8.305490</td>\n",
       "      <td>4.298521</td>\n",
       "      <td>1.624813</td>\n",
       "      <td>60.973576</td>\n",
       "      <td>0.0</td>\n",
       "      <td>3682.110107</td>\n",
       "      <td>0.0</td>\n",
       "      <td>0.0</td>\n",
       "      <td>3204.297363</td>\n",
       "      <td>0.0</td>\n",
       "      <td>0.712028</td>\n",
       "      <td>0.788533</td>\n",
       "      <td>66</td>\n",
       "      <td>1</td>\n",
       "      <td>3461.230088</td>\n",
       "    </tr>\n",
       "    <tr>\n",
       "      <th>4</th>\n",
       "      <td>2.990205</td>\n",
       "      <td>0.078835</td>\n",
       "      <td>0.161882</td>\n",
       "      <td>61.330170</td>\n",
       "      <td>0.0</td>\n",
       "      <td>3682.110107</td>\n",
       "      <td>0.0</td>\n",
       "      <td>0.0</td>\n",
       "      <td>3195.071777</td>\n",
       "      <td>0.0</td>\n",
       "      <td>0.512681</td>\n",
       "      <td>0.189050</td>\n",
       "      <td>18</td>\n",
       "      <td>1</td>\n",
       "      <td>3471.082777</td>\n",
       "    </tr>\n",
       "    <tr>\n",
       "      <th>...</th>\n",
       "      <td>...</td>\n",
       "      <td>...</td>\n",
       "      <td>...</td>\n",
       "      <td>...</td>\n",
       "      <td>...</td>\n",
       "      <td>...</td>\n",
       "      <td>...</td>\n",
       "      <td>...</td>\n",
       "      <td>...</td>\n",
       "      <td>...</td>\n",
       "      <td>...</td>\n",
       "      <td>...</td>\n",
       "      <td>...</td>\n",
       "      <td>...</td>\n",
       "      <td>...</td>\n",
       "    </tr>\n",
       "    <tr>\n",
       "      <th>549698</th>\n",
       "      <td>-4.680508</td>\n",
       "      <td>-0.665500</td>\n",
       "      <td>8.134455</td>\n",
       "      <td>99.078377</td>\n",
       "      <td>0.0</td>\n",
       "      <td>1334.670044</td>\n",
       "      <td>0.0</td>\n",
       "      <td>0.0</td>\n",
       "      <td>6555.320312</td>\n",
       "      <td>0.0</td>\n",
       "      <td>-0.575553</td>\n",
       "      <td>-0.705528</td>\n",
       "      <td>1</td>\n",
       "      <td>1</td>\n",
       "      <td>4738.564447</td>\n",
       "    </tr>\n",
       "    <tr>\n",
       "      <th>549699</th>\n",
       "      <td>-3.787911</td>\n",
       "      <td>-3.385010</td>\n",
       "      <td>8.331511</td>\n",
       "      <td>216.163483</td>\n",
       "      <td>0.0</td>\n",
       "      <td>1334.670044</td>\n",
       "      <td>0.0</td>\n",
       "      <td>0.0</td>\n",
       "      <td>9699.115234</td>\n",
       "      <td>0.0</td>\n",
       "      <td>-0.047374</td>\n",
       "      <td>-1.282389</td>\n",
       "      <td>43</td>\n",
       "      <td>1</td>\n",
       "      <td>7004.295261</td>\n",
       "    </tr>\n",
       "    <tr>\n",
       "      <th>549700</th>\n",
       "      <td>-2.945118</td>\n",
       "      <td>-1.283401</td>\n",
       "      <td>7.480402</td>\n",
       "      <td>101.124908</td>\n",
       "      <td>0.0</td>\n",
       "      <td>1334.670044</td>\n",
       "      <td>0.0</td>\n",
       "      <td>0.0</td>\n",
       "      <td>6691.295410</td>\n",
       "      <td>0.0</td>\n",
       "      <td>-0.129701</td>\n",
       "      <td>-0.605268</td>\n",
       "      <td>114</td>\n",
       "      <td>1</td>\n",
       "      <td>4787.932694</td>\n",
       "    </tr>\n",
       "    <tr>\n",
       "      <th>549701</th>\n",
       "      <td>-4.043397</td>\n",
       "      <td>-0.999465</td>\n",
       "      <td>7.856801</td>\n",
       "      <td>100.075027</td>\n",
       "      <td>0.0</td>\n",
       "      <td>1334.670044</td>\n",
       "      <td>0.0</td>\n",
       "      <td>0.0</td>\n",
       "      <td>6614.916504</td>\n",
       "      <td>0.0</td>\n",
       "      <td>-0.393382</td>\n",
       "      <td>-0.694126</td>\n",
       "      <td>211</td>\n",
       "      <td>1</td>\n",
       "      <td>4762.872355</td>\n",
       "    </tr>\n",
       "    <tr>\n",
       "      <th>549702</th>\n",
       "      <td>-3.605551</td>\n",
       "      <td>-1.773034</td>\n",
       "      <td>7.791200</td>\n",
       "      <td>93.055229</td>\n",
       "      <td>0.0</td>\n",
       "      <td>1334.670044</td>\n",
       "      <td>0.0</td>\n",
       "      <td>0.0</td>\n",
       "      <td>6389.932617</td>\n",
       "      <td>0.0</td>\n",
       "      <td>-0.201848</td>\n",
       "      <td>-0.819208</td>\n",
       "      <td>531</td>\n",
       "      <td>1</td>\n",
       "      <td>4592.155897</td>\n",
       "    </tr>\n",
       "  </tbody>\n",
       "</table>\n",
       "<p>549703 rows × 15 columns</p>\n",
       "</div>"
      ],
      "text/plain": [
       "          x (nm)    y (nm)    z (nm)   mc_c (Da)  mc (Da)  high_voltage (V)  \\\n",
       "0       0.943917 -0.463124  0.019942   91.527626      0.0       3682.110107   \n",
       "1       2.270334 -5.010604  0.551171   91.982094      0.0       3682.110107   \n",
       "2      -5.462508  0.471533  0.547564   92.993858      0.0       3682.110107   \n",
       "3       8.305490  4.298521  1.624813   60.973576      0.0       3682.110107   \n",
       "4       2.990205  0.078835  0.161882   61.330170      0.0       3682.110107   \n",
       "...          ...       ...       ...         ...      ...               ...   \n",
       "549698 -4.680508 -0.665500  8.134455   99.078377      0.0       1334.670044   \n",
       "549699 -3.787911 -3.385010  8.331511  216.163483      0.0       1334.670044   \n",
       "549700 -2.945118 -1.283401  7.480402  101.124908      0.0       1334.670044   \n",
       "549701 -4.043397 -0.999465  7.856801  100.075027      0.0       1334.670044   \n",
       "549702 -3.605551 -1.773034  7.791200   93.055229      0.0       1334.670044   \n",
       "\n",
       "        pulse (V)  start_counter       t (ns)  t_c (nm)  x_det (cm)  \\\n",
       "0             0.0            0.0  3891.519531       0.0    0.392873   \n",
       "1             0.0            0.0  3904.508789       0.0    0.702811   \n",
       "2             0.0            0.0  3878.014160       0.0   -0.112540   \n",
       "3             0.0            0.0  3204.297363       0.0    0.712028   \n",
       "4             0.0            0.0  3195.071777       0.0    0.512681   \n",
       "...           ...            ...          ...       ...         ...   \n",
       "549698        0.0            0.0  6555.320312       0.0   -0.575553   \n",
       "549699        0.0            0.0  9699.115234       0.0   -0.047374   \n",
       "549700        0.0            0.0  6691.295410       0.0   -0.129701   \n",
       "549701        0.0            0.0  6614.916504       0.0   -0.393382   \n",
       "549702        0.0            0.0  6389.932617       0.0   -0.201848   \n",
       "\n",
       "        y_det (cm)  pulse_pi  ion_pp     t_c (ns)  \n",
       "0         0.057275         0       1  4239.131558  \n",
       "1        -0.243931        43       1  4248.225144  \n",
       "2        -0.152062       211       1  4267.018864  \n",
       "3         0.788533        66       1  3461.230088  \n",
       "4         0.189050        18       1  3471.082777  \n",
       "...            ...       ...     ...          ...  \n",
       "549698   -0.705528         1       1  4738.564447  \n",
       "549699   -1.282389        43       1  7004.295261  \n",
       "549700   -0.605268       114       1  4787.932694  \n",
       "549701   -0.694126       211       1  4762.872355  \n",
       "549702   -0.819208       531       1  4592.155897  \n",
       "\n",
       "[549703 rows x 15 columns]"
      ]
     },
     "execution_count": 69,
     "metadata": {},
     "output_type": "execute_result"
    }
   ],
   "source": [
    "data_c"
   ]
  },
  {
   "cell_type": "code",
   "execution_count": 61,
   "metadata": {},
   "outputs": [
    {
     "ename": "NameError",
     "evalue": "name 'mc_p_1' is not defined",
     "output_type": "error",
     "traceback": [
      "\u001b[1;31m---------------------------------------------------------------------------\u001b[0m",
      "\u001b[1;31mNameError\u001b[0m                                 Traceback (most recent call last)",
      "Cell \u001b[1;32mIn[61], line 3\u001b[0m\n\u001b[0;32m      1\u001b[0m cc \u001b[38;5;241m=\u001b[39m data_c[\u001b[38;5;124m'\u001b[39m\u001b[38;5;124mmc_c (Da)\u001b[39m\u001b[38;5;124m'\u001b[39m]\u001b[38;5;241m.\u001b[39mto_numpy()\n\u001b[0;32m      2\u001b[0m \u001b[38;5;66;03m# cc[cc <= 0] = 0\u001b[39;00m\n\u001b[1;32m----> 3\u001b[0m peaks_ini, peaks_y_ini, peak_widths_p_ini, _ \u001b[38;5;241m=\u001b[39m tools\u001b[38;5;241m.\u001b[39mhist_plot(\u001b[43mmc_p_1\u001b[49m[mc_p_1 \u001b[38;5;241m<\u001b[39m \u001b[38;5;241m100\u001b[39m], \u001b[38;5;241m0.1\u001b[39m, distance\u001b[38;5;241m=\u001b[39m\u001b[38;5;241m10\u001b[39m, percent\u001b[38;5;241m=\u001b[39m\u001b[38;5;241m50\u001b[39m, prominence\u001b[38;5;241m=\u001b[39m\u001b[38;5;241m50\u001b[39m, selector\u001b[38;5;241m=\u001b[39m\u001b[38;5;124m'\u001b[39m\u001b[38;5;124mpeak\u001b[39m\u001b[38;5;124m'\u001b[39m, peaks_find_plot\u001b[38;5;241m=\u001b[39m\u001b[38;5;28;01mTrue\u001b[39;00m, plot\u001b[38;5;241m=\u001b[39m\u001b[38;5;28;01mTrue\u001b[39;00m, label\u001b[38;5;241m=\u001b[39m\u001b[38;5;124m'\u001b[39m\u001b[38;5;124mmc\u001b[39m\u001b[38;5;124m'\u001b[39m)\n\u001b[0;32m      4\u001b[0m peaks_ini, peaks_y_ini, peak_widths_p_ini, _ \u001b[38;5;241m=\u001b[39m tools\u001b[38;5;241m.\u001b[39mhist_plot(cc[cc \u001b[38;5;241m<\u001b[39m \u001b[38;5;241m100\u001b[39m], \u001b[38;5;241m0.1\u001b[39m, distance\u001b[38;5;241m=\u001b[39m\u001b[38;5;241m10\u001b[39m, percent\u001b[38;5;241m=\u001b[39m\u001b[38;5;241m50\u001b[39m, prominence\u001b[38;5;241m=\u001b[39m\u001b[38;5;241m50\u001b[39m, selector\u001b[38;5;241m=\u001b[39m\u001b[38;5;124m'\u001b[39m\u001b[38;5;124mpeak\u001b[39m\u001b[38;5;124m'\u001b[39m, peaks_find_plot\u001b[38;5;241m=\u001b[39m\u001b[38;5;28;01mTrue\u001b[39;00m, plot\u001b[38;5;241m=\u001b[39m\u001b[38;5;28;01mTrue\u001b[39;00m, label\u001b[38;5;241m=\u001b[39m\u001b[38;5;124m'\u001b[39m\u001b[38;5;124mmc\u001b[39m\u001b[38;5;124m'\u001b[39m)\n",
      "\u001b[1;31mNameError\u001b[0m: name 'mc_p_1' is not defined"
     ]
    }
   ],
   "source": [
    "cc = data_c['mc_c (Da)'].to_numpy()\n",
    "# cc[cc <= 0] = 0\n",
    "peaks_ini, peaks_y_ini, peak_widths_p_ini, _ = tools.hist_plot(mc_p_1[mc_p_1 < 100], 0.1, distance=10, percent=50, prominence=50, selector='peak', peaks_find_plot=True, plot=True, label='mc')\n",
    "peaks_ini, peaks_y_ini, peak_widths_p_ini, _ = tools.hist_plot(cc[cc < 100], 0.1, distance=10, percent=50, prominence=50, selector='peak', peaks_find_plot=True, plot=True, label='mc')"
   ]
  },
  {
   "cell_type": "code",
   "execution_count": 62,
   "metadata": {},
   "outputs": [],
   "source": [
    "# save the new data\n",
    "name_save_file = variables.result_path + '//' + dataset_name + '.h5'\n",
    "data_tools.store_df_to_hdf(name_save_file, data_c, 'df')"
   ]
  },
  {
   "cell_type": "code",
   "execution_count": 63,
   "metadata": {},
   "outputs": [],
   "source": [
    "# save data as epos file\n",
    "epos = ccapt_tools.ccapt_to_epos(data_c, pulse_mode=pulse_mode.value, path=variables.result_path, name=dataset_name + '.epos')\n",
    "pos = ccapt_tools.ccapt_to_pos(data_c, path=variables.result_path, name=dataset_name + '.POS')"
   ]
  },
  {
   "cell_type": "code",
   "execution_count": null,
   "metadata": {},
   "outputs": [],
   "source": [
    "# save data in csv format\n",
    "data_tools.store_df_to_csv(data_c, variables.result_path + dataset_name + '.csv')"
   ]
  },
  {
   "cell_type": "code",
   "execution_count": 64,
   "metadata": {
    "tags": []
   },
   "outputs": [
    {
     "data": {
      "text/plain": [
       "'D:/pyccapt/tests/data/tof_calibration/'"
      ]
     },
     "execution_count": 64,
     "metadata": {},
     "output_type": "execute_result"
    }
   ],
   "source": [
    "variables.result_path"
   ]
  },
  {
   "cell_type": "code",
   "execution_count": null,
   "metadata": {},
   "outputs": [],
   "source": []
  }
 ],
 "metadata": {
  "kernelspec": {
   "display_name": "Python 3 (ipykernel)",
   "language": "python",
   "name": "python3"
  },
  "language_info": {
   "codemirror_mode": {
    "name": "ipython",
    "version": 3
   },
   "file_extension": ".py",
   "mimetype": "text/x-python",
   "name": "python",
   "nbconvert_exporter": "python",
   "pygments_lexer": "ipython3",
   "version": "3.8.16"
  }
 },
 "nbformat": 4,
 "nbformat_minor": 4
}

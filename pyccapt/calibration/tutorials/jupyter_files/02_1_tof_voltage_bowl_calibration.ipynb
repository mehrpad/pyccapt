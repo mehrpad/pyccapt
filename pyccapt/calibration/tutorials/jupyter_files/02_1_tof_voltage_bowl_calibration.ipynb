{
 "cells": [
  {
   "cell_type": "code",
   "execution_count": 1,
   "metadata": {
    "pycharm": {
     "name": "#%%\n"
    },
    "tags": []
   },
   "outputs": [],
   "source": [
    "# Activate intractive functionality of matplotlib\n",
    "%matplotlib ipympl\n",
    "# Activate auto reload \n",
    "%load_ext autoreload\n",
    "%autoreload 2\n",
    "%reload_ext autoreload\n",
    "# import libraries\n",
    "import os\n",
    "import numpy as np\n",
    "from scipy.optimize import curve_fit\n",
    "from ipywidgets import fixed, interact_manual, widgets\n",
    "from ipywidgets import HBox, VBox\n",
    "from IPython.display import clear_output\n",
    "from IPython.display import display\n",
    "from ipywidgets import Output\n",
    "\n",
    "\n",
    "# Local module and scripts\n",
    "from pyccapt.calibration.calibration_tools import tools, share_variables, calibration\n",
    "from pyccapt.calibration.calibration_tools import widgets as wd\n",
    "from pyccapt.calibration.data_tools import data_tools, data_loadcrop, dataset_path_qt\n",
    "from pyccapt.calibration.mc import mc_tools, tof_tools\n",
    "from pyccapt.calibration.leap_tools import ccapt_tools"
   ]
  },
  {
   "cell_type": "code",
   "execution_count": 2,
   "metadata": {
    "pycharm": {
     "name": "#%%\n"
    },
    "tags": []
   },
   "outputs": [],
   "source": [
    "# Disable showing logging in Jupyter notebook\n",
    "# logging.disable(sys.maxsize)"
   ]
  },
  {
   "cell_type": "code",
   "execution_count": 3,
   "metadata": {
    "tags": []
   },
   "outputs": [
    {
     "data": {
      "application/vnd.jupyter.widget-view+json": {
       "model_id": "530f0ac0380141cea0ebf4c7eeabe2f3",
       "version_major": 2,
       "version_minor": 0
      },
      "text/plain": [
       "Button(description='load dataset', style=ButtonStyle())"
      ]
     },
     "execution_count": 3,
     "metadata": {},
     "output_type": "execute_result"
    }
   ],
   "source": [
    "button = widgets.Button(\n",
    "    description='load dataset',\n",
    ")\n",
    "@button.on_click\n",
    "def open_file_on_click(b):\n",
    "    \"\"\"\n",
    "    Event handler for button click event.\n",
    "    Prompts the user to select a dataset file and stores the selected file path in the global variable dataset_path.\n",
    "    \"\"\"\n",
    "    global dataset_path\n",
    "    dataset_path = dataset_path_qt.gui_fname().decode('ASCII')\n",
    "button"
   ]
  },
  {
   "cell_type": "code",
   "execution_count": 4,
   "metadata": {
    "tags": []
   },
   "outputs": [
    {
     "data": {
      "application/vnd.jupyter.widget-view+json": {
       "model_id": "c84a588a06e54724ac0f8d11d43a4b47",
       "version_major": 2,
       "version_minor": 0
      },
      "text/plain": [
       "Dropdown(description='Data mode:', options=('surface_concept', 'roentdec', 'leap_epos', 'leap_pos', 'ato_v6'),…"
      ]
     },
     "metadata": {},
     "output_type": "display_data"
    },
    {
     "data": {
      "application/vnd.jupyter.widget-view+json": {
       "model_id": "5de52559f53c48c1bcd7279f98f172d9",
       "version_major": 2,
       "version_minor": 0
      },
      "text/plain": [
       "FloatText(value=78.0, description='Detector diameter:')"
      ]
     },
     "metadata": {},
     "output_type": "display_data"
    },
    {
     "data": {
      "application/vnd.jupyter.widget-view+json": {
       "model_id": "8ffd8a56e22842568eed25dea3db4cfa",
       "version_major": 2,
       "version_minor": 0
      },
      "text/plain": [
       "Dropdown(description='Pulse mode:', options=('voltage', 'laser'), value='voltage')"
      ]
     },
     "metadata": {},
     "output_type": "display_data"
    },
    {
     "data": {
      "application/vnd.jupyter.widget-view+json": {
       "model_id": "a2d61b20ea484a1da7cb30d6389f4549",
       "version_major": 2,
       "version_minor": 0
      },
      "text/plain": [
       "FloatText(value=110.0, description='Flight path length:')"
      ]
     },
     "metadata": {},
     "output_type": "display_data"
    },
    {
     "data": {
      "application/vnd.jupyter.widget-view+json": {
       "model_id": "1178cb0ed799489d93ed12103c84083c",
       "version_major": 2,
       "version_minor": 0
      },
      "text/plain": [
       "FloatText(value=54.0, description='t0:')"
      ]
     },
     "metadata": {},
     "output_type": "display_data"
    }
   ],
   "source": [
    "tdc, pulse_mode, flightPathLength_d, t0_d, max_mc, det_diam = wd.dataset_instrument_specification_selection()\n",
    "display(tdc, det_diam, pulse_mode, flightPathLength_d, t0_d)"
   ]
  },
  {
   "cell_type": "markdown",
   "metadata": {
    "pycharm": {
     "name": "#%% md\n"
    }
   },
   "source": [
    "$$\\textbf{You can specify which dataset to use in below block}$$"
   ]
  },
  {
   "cell_type": "code",
   "execution_count": 69,
   "metadata": {
    "pycharm": {
     "name": "#%%\n"
    },
    "tags": []
   },
   "outputs": [
    {
     "name": "stdout",
     "output_type": "stream",
     "text": [
      "The maximum possible TOF is: 5010 ns\n",
      "=============================\n",
      "The data will be saved on the path: D:/pyccapt/tests/data/OLO_AL_6_data/cropped_OLO_AL_6_data\n",
      "=============================\n",
      "The dataset name after saving is: tof_calibration_cropped_OLO_AL_6_data\n",
      "=============================\n",
      "The figures will be saved on the path: D:/pyccapt/tests/data/OLO_AL_6_data//tof_calibration/\n",
      "=============================\n",
      "Total number of Ions: 1943857\n"
     ]
    }
   ],
   "source": [
    "# Calculate the maximum possible time of flight (TOF)\n",
    "max_tof = int(tof_tools.mc2tof(max_mc.value, 1000, 0, 0, flightPathLength_d.value))\n",
    "print('The maximum possible TOF is:', max_tof, 'ns')\n",
    "print('=============================')\n",
    "# create an instance of the Variables opject\n",
    "variables = share_variables.Variables()\n",
    "variables.pulse_mode = pulse_mode.value\n",
    "dataset_main_path = os.path.dirname(dataset_path)\n",
    "dataset_name_with_extention = os.path.basename(dataset_path)\n",
    "variables.dataset_name = os.path.splitext(dataset_name_with_extention)[0]\n",
    "variables.result_data_path = dataset_main_path + '/' + variables.dataset_name \n",
    "variables.result_data_name = 'tof_calibration_' +  variables.dataset_name \n",
    "variables.result_path = dataset_main_path + '/' + '/tof_calibration/'\n",
    "\n",
    "if not os.path.isdir(variables.result_path):\n",
    "    os.makedirs(variables.result_path, mode=0o777, exist_ok=True)\n",
    "\n",
    "print('The data will be saved on the path:', variables.result_data_path)\n",
    "print('=============================')\n",
    "print('The dataset name after saving is:', variables.result_data_name)\n",
    "print('=============================')\n",
    "print('The figures will be saved on the path:', variables.result_path)\n",
    "print('=============================')\n",
    "\n",
    "# Create data farame out of hdf5 file dataset\n",
    "data = data_tools.load_data(dataset_path, tdc.value, mode='processed')\n",
    "print('Total number of Ions:', len(data))"
   ]
  },
  {
   "cell_type": "code",
   "execution_count": 70,
   "metadata": {
    "pycharm": {
     "name": "#%%\n"
    },
    "tags": []
   },
   "outputs": [
    {
     "data": {
      "text/html": [
       "<div>\n",
       "<style scoped>\n",
       "    .dataframe tbody tr th:only-of-type {\n",
       "        vertical-align: middle;\n",
       "    }\n",
       "\n",
       "    .dataframe tbody tr th {\n",
       "        vertical-align: top;\n",
       "    }\n",
       "\n",
       "    .dataframe thead th {\n",
       "        text-align: right;\n",
       "    }\n",
       "</style>\n",
       "<table border=\"1\" class=\"dataframe\">\n",
       "  <thead>\n",
       "    <tr style=\"text-align: right;\">\n",
       "      <th></th>\n",
       "      <th>x (nm)</th>\n",
       "      <th>y (nm)</th>\n",
       "      <th>z (nm)</th>\n",
       "      <th>mc_c (Da)</th>\n",
       "      <th>mc (Da)</th>\n",
       "      <th>high_voltage (V)</th>\n",
       "      <th>pulse</th>\n",
       "      <th>start_counter</th>\n",
       "      <th>t_c (ns)</th>\n",
       "      <th>t (ns)</th>\n",
       "      <th>x_det (cm)</th>\n",
       "      <th>y_det (cm)</th>\n",
       "      <th>pulse_pi</th>\n",
       "      <th>ion_pp</th>\n",
       "    </tr>\n",
       "  </thead>\n",
       "  <tbody>\n",
       "    <tr>\n",
       "      <th>0</th>\n",
       "      <td>0.0</td>\n",
       "      <td>0.0</td>\n",
       "      <td>0.0</td>\n",
       "      <td>0.0</td>\n",
       "      <td>13.903214</td>\n",
       "      <td>5258.368164</td>\n",
       "      <td>5258.368164</td>\n",
       "      <td>31579</td>\n",
       "      <td>0.0</td>\n",
       "      <td>470.575386</td>\n",
       "      <td>-2.164898</td>\n",
       "      <td>0.913714</td>\n",
       "      <td>0</td>\n",
       "      <td>0</td>\n",
       "    </tr>\n",
       "    <tr>\n",
       "      <th>1</th>\n",
       "      <td>0.0</td>\n",
       "      <td>0.0</td>\n",
       "      <td>0.0</td>\n",
       "      <td>0.0</td>\n",
       "      <td>27.216537</td>\n",
       "      <td>5258.368164</td>\n",
       "      <td>5258.368164</td>\n",
       "      <td>31666</td>\n",
       "      <td>0.0</td>\n",
       "      <td>634.316994</td>\n",
       "      <td>-1.572735</td>\n",
       "      <td>1.397633</td>\n",
       "      <td>87</td>\n",
       "      <td>2</td>\n",
       "    </tr>\n",
       "    <tr>\n",
       "      <th>2</th>\n",
       "      <td>0.0</td>\n",
       "      <td>0.0</td>\n",
       "      <td>0.0</td>\n",
       "      <td>0.0</td>\n",
       "      <td>27.464797</td>\n",
       "      <td>5258.368164</td>\n",
       "      <td>5258.368164</td>\n",
       "      <td>31784</td>\n",
       "      <td>0.0</td>\n",
       "      <td>635.626872</td>\n",
       "      <td>-1.149306</td>\n",
       "      <td>1.591837</td>\n",
       "      <td>118</td>\n",
       "      <td>1</td>\n",
       "    </tr>\n",
       "    <tr>\n",
       "      <th>3</th>\n",
       "      <td>0.0</td>\n",
       "      <td>0.0</td>\n",
       "      <td>0.0</td>\n",
       "      <td>0.0</td>\n",
       "      <td>26.779948</td>\n",
       "      <td>5258.368164</td>\n",
       "      <td>5258.368164</td>\n",
       "      <td>32106</td>\n",
       "      <td>0.0</td>\n",
       "      <td>638.253486</td>\n",
       "      <td>2.429143</td>\n",
       "      <td>1.518612</td>\n",
       "      <td>322</td>\n",
       "      <td>1</td>\n",
       "    </tr>\n",
       "    <tr>\n",
       "      <th>4</th>\n",
       "      <td>0.0</td>\n",
       "      <td>0.0</td>\n",
       "      <td>0.0</td>\n",
       "      <td>0.0</td>\n",
       "      <td>26.957527</td>\n",
       "      <td>5258.368164</td>\n",
       "      <td>5258.368164</td>\n",
       "      <td>32635</td>\n",
       "      <td>0.0</td>\n",
       "      <td>637.766568</td>\n",
       "      <td>-2.021633</td>\n",
       "      <td>-1.747837</td>\n",
       "      <td>529</td>\n",
       "      <td>1</td>\n",
       "    </tr>\n",
       "    <tr>\n",
       "      <th>...</th>\n",
       "      <td>...</td>\n",
       "      <td>...</td>\n",
       "      <td>...</td>\n",
       "      <td>...</td>\n",
       "      <td>...</td>\n",
       "      <td>...</td>\n",
       "      <td>...</td>\n",
       "      <td>...</td>\n",
       "      <td>...</td>\n",
       "      <td>...</td>\n",
       "      <td>...</td>\n",
       "      <td>...</td>\n",
       "      <td>...</td>\n",
       "      <td>...</td>\n",
       "    </tr>\n",
       "    <tr>\n",
       "      <th>1943852</th>\n",
       "      <td>0.0</td>\n",
       "      <td>0.0</td>\n",
       "      <td>0.0</td>\n",
       "      <td>0.0</td>\n",
       "      <td>27.800477</td>\n",
       "      <td>5710.793945</td>\n",
       "      <td>5710.793945</td>\n",
       "      <td>24644</td>\n",
       "      <td>0.0</td>\n",
       "      <td>620.381538</td>\n",
       "      <td>-2.091673</td>\n",
       "      <td>1.286204</td>\n",
       "      <td>110</td>\n",
       "      <td>1</td>\n",
       "    </tr>\n",
       "    <tr>\n",
       "      <th>1943853</th>\n",
       "      <td>0.0</td>\n",
       "      <td>0.0</td>\n",
       "      <td>0.0</td>\n",
       "      <td>0.0</td>\n",
       "      <td>27.405944</td>\n",
       "      <td>5710.793945</td>\n",
       "      <td>5710.793945</td>\n",
       "      <td>24774</td>\n",
       "      <td>0.0</td>\n",
       "      <td>609.010974</td>\n",
       "      <td>-1.505878</td>\n",
       "      <td>0.684490</td>\n",
       "      <td>130</td>\n",
       "      <td>1</td>\n",
       "    </tr>\n",
       "    <tr>\n",
       "      <th>1943854</th>\n",
       "      <td>0.0</td>\n",
       "      <td>0.0</td>\n",
       "      <td>0.0</td>\n",
       "      <td>0.0</td>\n",
       "      <td>26.544736</td>\n",
       "      <td>5710.793945</td>\n",
       "      <td>5710.793945</td>\n",
       "      <td>24916</td>\n",
       "      <td>0.0</td>\n",
       "      <td>623.570508</td>\n",
       "      <td>3.670776</td>\n",
       "      <td>0.257878</td>\n",
       "      <td>142</td>\n",
       "      <td>1</td>\n",
       "    </tr>\n",
       "    <tr>\n",
       "      <th>1943855</th>\n",
       "      <td>0.0</td>\n",
       "      <td>0.0</td>\n",
       "      <td>0.0</td>\n",
       "      <td>0.0</td>\n",
       "      <td>26.813825</td>\n",
       "      <td>5710.793945</td>\n",
       "      <td>5710.793945</td>\n",
       "      <td>25014</td>\n",
       "      <td>0.0</td>\n",
       "      <td>623.460780</td>\n",
       "      <td>2.747510</td>\n",
       "      <td>2.142612</td>\n",
       "      <td>98</td>\n",
       "      <td>1</td>\n",
       "    </tr>\n",
       "    <tr>\n",
       "      <th>1943856</th>\n",
       "      <td>0.0</td>\n",
       "      <td>0.0</td>\n",
       "      <td>0.0</td>\n",
       "      <td>0.0</td>\n",
       "      <td>27.367084</td>\n",
       "      <td>5710.793945</td>\n",
       "      <td>5710.793945</td>\n",
       "      <td>25851</td>\n",
       "      <td>0.0</td>\n",
       "      <td>612.302814</td>\n",
       "      <td>-2.088490</td>\n",
       "      <td>-0.156000</td>\n",
       "      <td>837</td>\n",
       "      <td>1</td>\n",
       "    </tr>\n",
       "  </tbody>\n",
       "</table>\n",
       "<p>1943857 rows × 14 columns</p>\n",
       "</div>"
      ],
      "text/plain": [
       "         x (nm)  y (nm)  z (nm)  mc_c (Da)    mc (Da)  high_voltage (V)  \\\n",
       "0           0.0     0.0     0.0        0.0  13.903214       5258.368164   \n",
       "1           0.0     0.0     0.0        0.0  27.216537       5258.368164   \n",
       "2           0.0     0.0     0.0        0.0  27.464797       5258.368164   \n",
       "3           0.0     0.0     0.0        0.0  26.779948       5258.368164   \n",
       "4           0.0     0.0     0.0        0.0  26.957527       5258.368164   \n",
       "...         ...     ...     ...        ...        ...               ...   \n",
       "1943852     0.0     0.0     0.0        0.0  27.800477       5710.793945   \n",
       "1943853     0.0     0.0     0.0        0.0  27.405944       5710.793945   \n",
       "1943854     0.0     0.0     0.0        0.0  26.544736       5710.793945   \n",
       "1943855     0.0     0.0     0.0        0.0  26.813825       5710.793945   \n",
       "1943856     0.0     0.0     0.0        0.0  27.367084       5710.793945   \n",
       "\n",
       "               pulse  start_counter  t_c (ns)      t (ns)  x_det (cm)  \\\n",
       "0        5258.368164          31579       0.0  470.575386   -2.164898   \n",
       "1        5258.368164          31666       0.0  634.316994   -1.572735   \n",
       "2        5258.368164          31784       0.0  635.626872   -1.149306   \n",
       "3        5258.368164          32106       0.0  638.253486    2.429143   \n",
       "4        5258.368164          32635       0.0  637.766568   -2.021633   \n",
       "...              ...            ...       ...         ...         ...   \n",
       "1943852  5710.793945          24644       0.0  620.381538   -2.091673   \n",
       "1943853  5710.793945          24774       0.0  609.010974   -1.505878   \n",
       "1943854  5710.793945          24916       0.0  623.570508    3.670776   \n",
       "1943855  5710.793945          25014       0.0  623.460780    2.747510   \n",
       "1943856  5710.793945          25851       0.0  612.302814   -2.088490   \n",
       "\n",
       "         y_det (cm)  pulse_pi  ion_pp  \n",
       "0          0.913714         0       0  \n",
       "1          1.397633        87       2  \n",
       "2          1.591837       118       1  \n",
       "3          1.518612       322       1  \n",
       "4         -1.747837       529       1  \n",
       "...             ...       ...     ...  \n",
       "1943852    1.286204       110       1  \n",
       "1943853    0.684490       130       1  \n",
       "1943854    0.257878       142       1  \n",
       "1943855    2.142612        98       1  \n",
       "1943856   -0.156000       837       1  \n",
       "\n",
       "[1943857 rows x 14 columns]"
      ]
     },
     "execution_count": 70,
     "metadata": {},
     "output_type": "execute_result"
    }
   ],
   "source": [
    "data"
   ]
  },
  {
   "cell_type": "code",
   "execution_count": 53,
   "metadata": {
    "tags": []
   },
   "outputs": [
    {
     "name": "stderr",
     "output_type": "stream",
     "text": [
      "C:\\Users\\APTUser\\AppData\\Local\\Temp\\ipykernel_33088\\874884481.py:1: DeprecationWarning: on_submit is deprecated. Instead, set the .continuous_update attribute to False and observe the value changing with: mywidget.observe(callback, 'value').\n",
      "  interact_manual(data_loadcrop.plot_crop_experiment_history, data=fixed(data), variables=fixed(variables), max_tof=widgets.FloatText(value=max_tof), frac=widgets.FloatText(value=1.0),\n"
     ]
    },
    {
     "data": {
      "application/vnd.jupyter.widget-view+json": {
       "model_id": "87fe3906734142abb1c00da65bd9d7df",
       "version_major": 2,
       "version_minor": 0
      },
      "text/plain": [
       "interactive(children=(FloatText(value=5010.0, description='max_tof'), FloatText(value=1.0, description='frac')…"
      ]
     },
     "metadata": {},
     "output_type": "display_data"
    }
   ],
   "source": [
    "interact_manual(data_loadcrop.plot_crop_experiment_history, data=fixed(data), variables=fixed(variables), max_tof=widgets.FloatText(value=max_tof), frac=widgets.FloatText(value=1.0),\n",
    "                bins=fixed((1200,800)), figure_size=fixed((7,3)),\n",
    "               draw_rect=fixed(False), data_crop=fixed(False), pulse=widgets.Dropdown(options=[('False', False), ('True', True)]), \n",
    "                pulse_mode=widgets.Dropdown(options=[('voltage', 'voltage'), ('laser', 'laser')]), save=widgets.Dropdown(options=[('True', True), ('False', False)]),\n",
    "               figname=widgets.Text(value='exp_hist'));"
   ]
  },
  {
   "cell_type": "code",
   "execution_count": 71,
   "metadata": {
    "tags": []
   },
   "outputs": [],
   "source": [
    "def exctract_data():\n",
    "    # exctract needed data from Pandas data frame as an numpy array\n",
    "    variables.dld_high_voltage = data['high_voltage (V)'].to_numpy()\n",
    "    variables.dld_pulse = data['pulse'].to_numpy()\n",
    "    variables.dld_t = data['t (ns)'].to_numpy()\n",
    "    variables.dld_x_det = data['x_det (cm)'].to_numpy()\n",
    "    variables.dld_y_det = data['y_det (cm)'].to_numpy()\n",
    "    variables.mc = mc_tools.tof2mc(variables.dld_t, t0_d.value, variables.dld_high_voltage, variables.dld_x_det, variables.dld_y_det, flightPathLength_d.value, V_pulse=variables.dld_pulse, mode='dc_voltage')\n",
    "\n",
    "    variables.dld_t_calib = data['t (ns)'].to_numpy()\n",
    "    variables.dld_t_calib_backup = data['t (ns)'].to_numpy()\n",
    "    # ion_distance = np.sqrt(flightPathLength_d.value**2 + (variables.dld_x_det*10)**2 + (variables.dld_y_det*10)**2)\n",
    "    # ion_distance = flightPathLength_d.value / ion_distance\n",
    "    # variables.dld_t = variables.dld_t * ion_distance\n",
    "exctract_data()"
   ]
  },
  {
   "cell_type": "code",
   "execution_count": 57,
   "metadata": {
    "tags": []
   },
   "outputs": [
    {
     "name": "stderr",
     "output_type": "stream",
     "text": [
      "C:\\Users\\APTUser\\AppData\\Local\\Temp\\ipykernel_33088\\3596624902.py:1: DeprecationWarning: on_submit is deprecated. Instead, set the .continuous_update attribute to False and observe the value changing with: mywidget.observe(callback, 'value').\n",
      "  interact_manual(tools.mc_hist_plot, variables=fixed(variables), bin_size=widgets.FloatText(value=0.1),\n"
     ]
    },
    {
     "data": {
      "application/vnd.jupyter.widget-view+json": {
       "model_id": "9ba79b3eea4d40c6989409e8ad2a79d4",
       "version_major": 2,
       "version_minor": 0
      },
      "text/plain": [
       "interactive(children=(FloatText(value=0.1, description='bin_size'), Dropdown(description='mode', options=(('mc…"
      ]
     },
     "metadata": {},
     "output_type": "display_data"
    }
   ],
   "source": [
    "interact_manual(tools.mc_hist_plot, variables=fixed(variables), bin_size=widgets.FloatText(value=0.1), \n",
    "                mode=widgets.Dropdown(options=[('mc', 'mc'), ('tof', 'tof')]), prominence=widgets.IntText(value=50), distance=widgets.IntText(value=100), \n",
    "                lim=widgets.IntText(value=400), percent=widgets.IntText(value=50), selector=fixed('None'), plot=fixed(True), figname=widgets.Text(value='hist'));\n"
   ]
  },
  {
   "cell_type": "markdown",
   "metadata": {
    "pycharm": {
     "name": "#%% md\n"
    }
   },
   "source": [
    "$$\\textbf{Below plotted graph offers peak selection. You can select relevant peaks you want for computation.}$$"
   ]
  },
  {
   "cell_type": "code",
   "execution_count": 48,
   "metadata": {
    "tags": []
   },
   "outputs": [],
   "source": [
    "bin_size=widgets.FloatText(value=0.1, description='bin size:')\n",
    "prominence=widgets.IntText(value=100, description='peak prominance:')\n",
    "distance=widgets.IntText(value=500, description='peak distance:')\n",
    "lim_tof=widgets.IntText(value=1500, description='lim tof/mc:')\n",
    "percent=widgets.IntText(value=50, description='percent MRP:')\n",
    "index_fig = widgets.IntText(value=1, description='fig index:')\n",
    "\n",
    "def hist_plot(variables, plot):\n",
    "    \n",
    "    with out:\n",
    "        clear_output(True)\n",
    "    \n",
    "        bin_size_p = bin_size.value\n",
    "        prominence_p = prominence.value\n",
    "        distance_p = distance.value\n",
    "        lim_tof_p = lim_tof.value\n",
    "        percent_p = percent.value\n",
    "        index_fig_p = index_fig.value\n",
    "        selector = 'rect'\n",
    "        peaks_ini, peaks_y_ini, peak_widths_p_ini, _ = tools.hist_plot(variables.dld_t_calib[variables.dld_t_calib < lim_tof_p], variables, bin_size_p, \n",
    "                                                                       distance=distance_p, percent=percent_p, prominence=prominence_p, selector=selector, \n",
    "                                                                       plot=plot, label='tof', fig_name=index_fig_p)\n",
    "        index_max_ini = np.argmax(peaks_y_ini)\n",
    "        variables.max_peak = peaks_ini[index_max_ini]\n",
    "        variables.peak = peaks_ini\n",
    "        mrp = (peaks_ini[index_max_ini] / (peak_widths_p_ini[index_max_ini][2] - peak_widths_p_ini[index_max_ini][1]))\n",
    "        print('Mass resolving power for the highest peak (MRP --> m/m_2-m_1):', mrp)\n",
    "        for i in range(len(peaks_ini)):\n",
    "            print('Peaks ', i, 'is at location and height: ({:.2f}, {:.2f})'.format(peaks_ini[i], peaks_y_ini[i]), 'peak window sides ({:.2f}%) are: ({:.2f}, {:.2f})'.format(percent_p, peak_widths_p_ini[i][1], peak_widths_p_ini[i][2]))"
   ]
  },
  {
   "cell_type": "code",
   "execution_count": 77,
   "metadata": {
    "tags": []
   },
   "outputs": [],
   "source": [
    "sample_size_b = widgets.IntText(value=11, description='sample size:') \n",
    "index_fig_b = widgets.IntText(value=1, description='fig index:')\n",
    "maximum_cal_method_b = widgets.Dropdown(\n",
    "    options=[('mean', 'mean'), ('histogram', 'histogram')],\n",
    "    description='calib method:'\n",
    ")\n",
    "plot_b = widgets.Dropdown(\n",
    "    options=[('False', False), ('True', True)],\n",
    "    description='plot fig:'\n",
    ")\n",
    "\n",
    "save_b = widgets.Dropdown(\n",
    "    options=[('False', False), ('True', True)],\n",
    "    description='save fig:'\n",
    ")\n",
    "def bowl_correction(dld_x, dld_y, dld_highVoltage, variables):\n",
    "    with out:\n",
    "        sample_size_p = sample_size_b.value\n",
    "        index_fig_p = index_fig_b.value\n",
    "        plot_p = plot_b.value\n",
    "        save_p = save_b.value\n",
    "        maximum_cal_method_p = maximum_cal_method_b.value\n",
    "        calibration.bowl_correction_main(dld_x, dld_y, dld_highVoltage, variables, det_diam.value, sample_size=sample_size_p, maximum_cal_method=maximum_cal_method_p,\n",
    "                                         calibration_mode='tof', index_fig=index_fig_p, plot=plot_p, save=save_p)\n"
   ]
  },
  {
   "cell_type": "code",
   "execution_count": 78,
   "metadata": {
    "tags": []
   },
   "outputs": [],
   "source": [
    "sample_size_v =widgets.IntText(value=100, description='sample size:') \n",
    "index_fig_v = widgets.IntText(value=1, description='fig index:')\n",
    "plot_v = widgets.Dropdown(\n",
    "    options=[('False', False), ('True', True)],\n",
    "    description='plot fig:'\n",
    ")\n",
    "save_v = widgets.Dropdown(\n",
    "    options=[('False', False), ('True', True)],\n",
    "    description='save fig:'\n",
    ")\n",
    "mode_v = widgets.Dropdown(\n",
    "    options=[('ion_seq', 'ion_seq'), ('voltage', 'voltage')],\n",
    "    description='sample mode:'\n",
    ")\n",
    "peak_mode = widgets.Dropdown(\n",
    "    options=[('peak', 'peak'), ('mean', 'mean'), ('median', 'median')],\n",
    "    description='peak mode:'\n",
    ")\n",
    "def vol_correction(dld_highVoltage, variables):\n",
    "    with out:\n",
    "        sample_size_p = sample_size_v.value\n",
    "        index_fig_p = index_fig_v.value\n",
    "        plot_p = plot_v.value\n",
    "        save_p = save_v.value\n",
    "        mode_p = mode_v.value\n",
    "        peak_mode_p = peak_mode.value\n",
    "        calibration.voltage_corr_main(dld_highVoltage, variables, sample_size=sample_size_p, calibration_mode='tof',\n",
    "                                        index_fig=index_fig_p, plot=plot_p, save=save_p, mode=mode_p, peak_mode=peak_mode_p)\n"
   ]
  },
  {
   "cell_type": "code",
   "execution_count": 79,
   "metadata": {
    "tags": []
   },
   "outputs": [
    {
     "data": {
      "application/vnd.jupyter.widget-view+json": {
       "model_id": "31f5fa2b50d248d8aaacfd5953f46583",
       "version_major": 2,
       "version_minor": 0
      },
      "text/plain": [
       "VBox(children=(Tab(children=(VBox(children=(FloatText(value=0.1, description='bin size:'), IntText(value=1, de…"
      ]
     },
     "metadata": {},
     "output_type": "display_data"
    },
    {
     "data": {
      "application/vnd.jupyter.widget-view+json": {
       "model_id": "34a48eac0dbc4d39a162f930316ccc89",
       "version_major": 2,
       "version_minor": 0
      },
      "text/plain": [
       "Output()"
      ]
     },
     "metadata": {},
     "output_type": "display_data"
    }
   ],
   "source": [
    "pb_bowl = widgets.HTML(\n",
    "    value=\" \",\n",
    "    placeholder='Status:',\n",
    "    description='Status:',\n",
    ")\n",
    "pb_vol = widgets.HTML(\n",
    "    value=\" \",\n",
    "    placeholder='Status:',\n",
    "    description='Status:',\n",
    ")\n",
    "plot_button = widgets.Button(\n",
    "    description='plot hist',\n",
    ")\n",
    "plot_fdm_button = widgets.Button(\n",
    "    description='plot FDM',\n",
    ")\n",
    "reset_back_button = widgets.Button(\n",
    "    description='reset back correction',\n",
    ")\n",
    "reset_button = widgets.Button(\n",
    "    description='reset',\n",
    ")\n",
    "save_button = widgets.Button(\n",
    "    description='save correction',\n",
    ")\n",
    "bowl_button = widgets.Button(\n",
    "    description='bowl correction',\n",
    ")\n",
    "vol_button = widgets.Button(\n",
    "    description='voltage correction',\n",
    ")\n",
    "bin_fdm = widgets.IntText(value=256, description='bin FDM:')\n",
    "    \n",
    "@plot_button.on_click\n",
    "def plot_on_click(b, variables=variables, plot=True):\n",
    "    hist_plot(variables, plot)\n",
    "\n",
    "@plot_fdm_button.on_click\n",
    "def plot_fdm_on_click(b, variables=variables, save=True):\n",
    "    with out:\n",
    "        clear_output(True)\n",
    "        if variables.selected_x1 == 0 or variables.selected_x2 == 0:\n",
    "            print('Please first select a peak')\n",
    "        else:\n",
    "            print('Selected tof are: (%s, %s)' %(variables.selected_x1, variables.selected_x2)) \n",
    "            mask_temporal = np.logical_and((variables.dld_t_calib > variables.selected_x1),\n",
    "                                           (variables.dld_t_calib < variables.selected_x2))\n",
    "            x = variables.dld_x_det[mask_temporal]\n",
    "            y = variables.dld_y_det[mask_temporal]\n",
    "            bin_fdm_p = bin_fdm.value\n",
    "            index_fig_p = index_fig.value\n",
    "            bins = [bin_fdm_p, bin_fdm_p]\n",
    "\n",
    "            calibration.plot_fdm(x, y, variables, save, bins, index_fig_p)\n",
    "    \n",
    "@reset_button.on_click\n",
    "def reset_back_on_click(b, variables=variables, plot=True):\n",
    "    variables.dld_t_calib = np.copy(variables.dld_t_calib_backup)\n",
    "@reset_button.on_click\n",
    "def reset_on_click(b, variables=variables, plot=True):\n",
    "    exctract_data()\n",
    "@save_button.on_click\n",
    "def save_on_click(b, variables=variables, plot=True):\n",
    "    variables.dld_t_calib_backup = np.copy(variables.dld_t_calib)\n",
    "    \n",
    "@bowl_button.on_click\n",
    "def bowl_on_click(b, dld_x_det=variables.dld_x_det, dld_y_det=variables.dld_y_det, dld_highVoltage=variables.dld_high_voltage, variables=variables):\n",
    "    with out:\n",
    "        clear_output(True)\n",
    "        pb_bowl.value = \"<b>Starting...</b>\"\n",
    "        if variables.selected_x1 == 0 or variables.selected_x2 == 0:\n",
    "            print('Please first select a peak')\n",
    "        else:\n",
    "            print('Selected tof ranges are: (%s, %s)' %(variables.selected_x1, variables.selected_x2))\n",
    "            bowl_correction(dld_x_det, dld_y_det, dld_highVoltage, variables)  \n",
    "        pb_bowl.value = \"<b>Flished</b>\"\n",
    "@vol_button.on_click\n",
    "def vol_on_click(b, dld_highVoltage=variables.dld_high_voltage, variables=variables):\n",
    "    with out:\n",
    "        clear_output(True)\n",
    "        pb_vol.value = \"<b>Starting...</b>\"\n",
    "        if variables.selected_x1 == 0 or variables.selected_x2 == 0:\n",
    "            print('Please first select a peak')\n",
    "        else:\n",
    "            print('Selected tof ranges are: (%s, %s)' %(variables.selected_x1, variables.selected_x2))\n",
    "            vol_correction(dld_highVoltage, variables)\n",
    "        pb_vol.value = \"<b>Flished</b>\"\n",
    "    \n",
    "\n",
    "\n",
    "tab1 = VBox(children=[bin_size, index_fig, prominence, distance, lim_tof, percent, bin_fdm])\n",
    "tab2 = VBox(children=[HBox(children=[sample_size_b, index_fig_b, maximum_cal_method_b, plot_b, save_b]), bowl_button, pb_bowl])\n",
    "tab3 = VBox(children=[HBox(children=[sample_size_v, index_fig_v, mode_v, peak_mode, plot_v, save_v]), vol_button, pb_vol])\n",
    "\n",
    "tab = widgets.Tab(children=[tab1, tab2, tab3])\n",
    "tab.set_title(0, 'tof/mc plot')\n",
    "tab.set_title(1, 'bowl correction')\n",
    "tab.set_title(2, 'voltage correction')\n",
    "\n",
    "\n",
    "\n",
    "display(VBox(children=[tab,HBox(children=[plot_button, plot_fdm_button, save_button, reset_back_button, reset_button])]))\n",
    "out = Output()\n",
    "display(out)"
   ]
  },
  {
   "cell_type": "code",
   "execution_count": 57,
   "metadata": {},
   "outputs": [
    {
     "data": {
      "application/vnd.jupyter.widget-view+json": {
       "model_id": "c06a49b37d5545bd8ee11150a75744ed",
       "version_major": 2,
       "version_minor": 0
      },
      "text/plain": [
       "interactive(children=(FloatText(value=0.1, description='bin_size'), IntText(value=50, description='prominence'…"
      ]
     },
     "metadata": {},
     "output_type": "display_data"
    }
   ],
   "source": [
    "def tof_his(bin_size, prominence, distance, percent, selector, plot, figname, lim_dld_t):\n",
    "    variables.peaks_idx = []\n",
    "    peaks_ini, peaks_y_ini, peak_widths_p_ini, _ = tools.hist_plot(variables.dld_t_calib[variables.dld_t_calib < lim_dld_t], bin_size, distance=distance, percent=percent, prominence=prominence, selector=selector, peaks_find_plot=True, plot=plot, label='tof', fig_name=figname)\n",
    "    index_max_ini = np.argmax(peaks_y_ini)\n",
    "    variables.max_peak = peaks_ini[index_max_ini]\n",
    "    variables.peak = peaks_ini\n",
    "    mrp = (peaks_ini[index_max_ini] / (peak_widths_p_ini[index_max_ini][2] - peak_widths_p_ini[index_max_ini][1]))\n",
    "    print('Mass resolving power for the highest peak (MRP --> m/m_2-m_1):', mrp)\n",
    "    for i in range(len(peaks_ini)):\n",
    "                   print('Peaks ', i+1, 'is at location and height: ({:.2f}, {:.2f})'.format(peaks_ini[i], peaks_y_ini[i]), 'peak window sides ({:.2f}%) are: ({:.2f}, {:.2f})'.format(percent, peak_widths_p_ini[i][1], peak_widths_p_ini[i][2]))\n",
    "interact_manual(tof_his, bin_size=widgets.FloatText(value=0.1)\n",
    "               ,prominence=widgets.IntText(value=50), distance=widgets.IntText(value=100), lim_dld_t=widgets.IntText(value=1500)\n",
    "               ,percent=widgets.IntText(value=50), selector=fixed('peak'), plot=fixed(True), figname=fixed(figname));\n"
   ]
  },
  {
   "cell_type": "code",
   "execution_count": 98,
   "metadata": {
    "pycharm": {
     "name": "#%%\n"
    }
   },
   "outputs": [
    {
     "data": {
      "application/vnd.jupyter.widget-view+json": {
       "model_id": "b602453cd78e4c5c93d4fccb6fc17e37",
       "version_major": 2,
       "version_minor": 0
      },
      "text/plain": [
       "Dropdown(description='Elements', options=(('H (1) (99.98)', 'H(1)[1.01]'), ('H (2) (0.01)', 'H(2)[2.01]'), ('H…"
      ]
     },
     "metadata": {},
     "output_type": "display_data"
    },
    {
     "data": {
      "application/vnd.jupyter.widget-view+json": {
       "model_id": "e364e64659bd44b39b1a6a3235bbfd3b",
       "version_major": 2,
       "version_minor": 0
      },
      "text/plain": [
       "Dropdown(description='Charge', options=((1, 1), (2, 2), (3, 3), (4, 4)), value=1)"
      ]
     },
     "metadata": {},
     "output_type": "display_data"
    },
    {
     "data": {
      "application/vnd.jupyter.widget-view+json": {
       "model_id": "1912b1c682bc4ba4af7f7ac7bf4b92a6",
       "version_major": 2,
       "version_minor": 0
      },
      "text/plain": [
       "Button(description='ADD', icon='check', style=ButtonStyle(), tooltip='ADD')"
      ]
     },
     "metadata": {},
     "output_type": "display_data"
    },
    {
     "data": {
      "application/vnd.jupyter.widget-view+json": {
       "model_id": "489472fff6104d90a460da9d5d550e9e",
       "version_major": 2,
       "version_minor": 0
      },
      "text/plain": [
       "Button(description='DELETE', icon='check', style=ButtonStyle(), tooltip='DELETE')"
      ]
     },
     "metadata": {},
     "output_type": "display_data"
    },
    {
     "data": {
      "application/vnd.jupyter.widget-view+json": {
       "model_id": "68c5a12fa80e42049ae9c357b8f652d3",
       "version_major": 2,
       "version_minor": 0
      },
      "text/plain": [
       "Button(description='RESET', icon='check', style=ButtonStyle(), tooltip='RESET')"
      ]
     },
     "metadata": {},
     "output_type": "display_data"
    },
    {
     "data": {
      "application/vnd.jupyter.widget-view+json": {
       "model_id": "aa8e7ed5cc8a4a19be7bbdb4a270b126",
       "version_major": 2,
       "version_minor": 0
      },
      "text/plain": [
       "Output()"
      ]
     },
     "metadata": {},
     "output_type": "display_data"
    }
   ],
   "source": [
    "isotopeTableFile = '../../../files/isotopeTable.h5'\n",
    "dataframe = data_tools.read_hdf5_through_pandas(isotopeTableFile)\n",
    "elementsList = dataframe['element']\n",
    "elementIsotopeList = dataframe['isotope']\n",
    "elementMassList =  dataframe['weight']\n",
    "abundanceList = dataframe['abundance']\n",
    "\n",
    "elements = list(zip(elementsList, elementIsotopeList, elementMassList, abundanceList))\n",
    "dropdownList = []\n",
    "for element in elements:\n",
    "    tupleElement = (\"{} ({}) ({:.2f})\".format(element[0], element[1], element[3]), \"{}({})[{}]\".format(element[0], element[1], element[2]))\n",
    "    dropdownList.append(tupleElement)\n",
    "\n",
    "chargeList = [(1,1,),(2,2,),(3,3,),(4,4,)]\n",
    "dropdown = wd.dropdownWidget(dropdownList,\"Elements\")\n",
    "dropdown.observe(wd.on_change)\n",
    "\n",
    "\n",
    "chargeDropdown = wd.dropdownWidget(chargeList,\"Charge\")\n",
    "chargeDropdown.observe(wd.on_change_charge)\n",
    "\n",
    "wd.compute_element_isotope_values_according_to_selected_charge()\n",
    "\n",
    "buttonAdd = wd.buttonWidget(\"ADD\")\n",
    "buttonDelete = wd.buttonWidget(\"DELETE\")\n",
    "buttonReset = wd.buttonWidget(\"RESET\")\n",
    "\n",
    "display(dropdown, chargeDropdown, buttonAdd, buttonDelete, buttonReset)\n",
    "\n",
    "def buttonAdd_f(b,):\n",
    "    with out:\n",
    "        clear_output(True)\n",
    "        wd.onClickAdd(b,)\n",
    "        display()\n",
    "def buttonDelete_f(b,):\n",
    "    with out:\n",
    "        clear_output(True)\n",
    "        wd.onClickDelete(b,)\n",
    "        display()\n",
    "def buttonResett_f(b,):\n",
    "    with out:\n",
    "        clear_output(True)\n",
    "        wd.onClickReset(b,)\n",
    "        display()\n",
    "\n",
    "listMaterial = buttonAdd.on_click(buttonAdd_f)\n",
    "buttonDelete.on_click(buttonDelete_f)\n",
    "buttonReset.on_click(buttonResett_f)\n",
    "# listMaterial = buttonAdd.on_click(wd.onClickAdd)\n",
    "# buttonDelete.on_click(wd.onClickDelete)\n",
    "# buttonReset.on_click(wd.onClickReset)\n",
    "out = Output()\n",
    "display(out)"
   ]
  },
  {
   "cell_type": "code",
   "execution_count": 99,
   "metadata": {
    "pycharm": {
     "name": "#%%\n"
    }
   },
   "outputs": [
    {
     "name": "stdout",
     "output_type": "stream",
     "text": [
      "highest peak in the tof histogram: [171.45736849 445.83000897 603.93463447]\n",
      "highest peak in the ideal mc histogram: [ 1.01 13.49 26.98]\n"
     ]
    }
   ],
   "source": [
    "peaks_chos = []\n",
    "for i in range(len(variables.peaks_idx)):\n",
    "    peaks_chos.append(variables.peak[variables.peaks_idx[i]])\n",
    "peaks_chos = np.array(peaks_chos)\n",
    "listMaterial = np.array(variables.listMaterial)\n",
    "print('highest peak in the tof histogram:', peaks_chos)\n",
    "print('highest peak in the ideal mc histogram:', listMaterial)"
   ]
  },
  {
   "cell_type": "code",
   "execution_count": 100,
   "metadata": {
    "pycharm": {
     "name": "#%%\n"
    }
   },
   "outputs": [
    {
     "name": "stderr",
     "output_type": "stream",
     "text": [
      "C:\\Users\\APTUser\\.conda\\envs\\oxcart5\\lib\\site-packages\\scipy\\optimize\\_minpack_py.py:906: OptimizeWarning: Covariance of the parameters could not be estimated\n",
      "  warnings.warn('Covariance of the parameters could not be estimated',\n"
     ]
    }
   ],
   "source": [
    "def parametric(t, t0, c, d):\n",
    "\n",
    "    # return c * ((t - t0)**2) + d\n",
    "    return c * ((t - t0)**2) + d*t\n",
    "\n",
    "def parametric_calib(t, mc_ideal):\n",
    "    \n",
    "    fitresult, _ = curve_fit(parametric, t, mc_ideal, maxfev=2000)\n",
    "    return fitresult\n",
    "\n",
    "fitresult = parametric_calib(peaks_chos, variables.listMaterial)\n",
    "\n",
    "\n",
    "mc_p_1 = parametric(variables.dld_t_calib, *fitresult)"
   ]
  },
  {
   "cell_type": "code",
   "execution_count": 101,
   "metadata": {},
   "outputs": [
    {
     "name": "stdout",
     "output_type": "stream",
     "text": [
      "The t0 is: 52.35718377338705 ns\n"
     ]
    }
   ],
   "source": [
    "print('The t0 is:', fitresult[0], 'ns')"
   ]
  },
  {
   "cell_type": "code",
   "execution_count": 102,
   "metadata": {
    "pycharm": {
     "name": "#%%\n"
    }
   },
   "outputs": [
    {
     "name": "stdout",
     "output_type": "stream",
     "text": [
      "The peak index for MRP calculation is: 2\n"
     ]
    },
    {
     "data": {
      "application/vnd.jupyter.widget-view+json": {
       "model_id": "2659f0fd364f40b4abc2516a3c4e7793",
       "version_major": 2,
       "version_minor": 0
      },
      "image/png": "[encoded data removed]",
      "text/html": [
       "\n",
       "            <div style=\"display: inline-block;\">\n",
       "                <div class=\"jupyter-widgets widget-label\" style=\"text-align: center;\">\n",
       "                    Figure\n",
       "                </div>\n",
       "                <img src='data:image/png;base64,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' width=354.3307086614173/>\n",
       "            </div>\n",
       "        "
      ],
      "text/plain": [
       "Canvas(toolbar=Toolbar(toolitems=[('Home', 'Reset original view', 'home', 'home'), ('Back', 'Back to previous …"
      ]
     },
     "metadata": {},
     "output_type": "display_data"
    },
    {
     "name": "stdout",
     "output_type": "stream",
     "text": [
      "Mass resolving power for the highest peak (MRP --> m/m_2-m_1): 269.01550939358486\n",
      "Peaks  0 is at location and height: (0.90, 118.00) peak window sides (half-maximum) are: (0.80, 1.00)\n",
      "Peaks  1 is at location and height: (13.44, 81784.00) peak window sides (half-maximum) are: (13.34, 13.54)\n",
      "Peaks  2 is at location and height: (26.97, 673199.00) peak window sides (half-maximum) are: (26.87, 26.97)\n"
     ]
    }
   ],
   "source": [
    "percent_mrp = 50\n",
    "# background = {'calculation': True, 'plot_no_back': True, 'plot': False, 'mode': 'fabc', 'patch': False, 'lam': 1e4, 'num_std': 5.0}\n",
    "background={'calculation': False}\n",
    "peak_p, peaks_y_p, peak_widths_p, _ = tools.hist_plot(mc_p_1[mc_p_1 < 75], 0.1, prominence=40, distance=20, text_loc='right', percent=percent_mrp, plot=True, fig_name='mc2_p_1'+figname, background=background)\n",
    "index_max_ini = np.argmax(peaks_y_p)\n",
    "mrp = (peak_p[index_max_ini] / (peak_widths_p[index_max_ini][2] - peak_widths_p[index_max_ini][1]))\n",
    "print('Mass resolving power for the highest peak (MRP --> m/m_2-m_1):', mrp)\n",
    "for i in range(len(peak_p)):\n",
    "    print('Peaks ', i, 'is at location and height: ({:.2f}, {:.2f})'.format(peak_p[i], peaks_y_p[i]), 'peak window sides (half-maximum) are: ({:.2f}, {:.2f})'.format(peak_widths_p[i][1], peak_widths_p[i][2]))"
   ]
  },
  {
   "cell_type": "code",
   "execution_count": 77,
   "metadata": {
    "tags": []
   },
   "outputs": [
    {
     "data": {
      "text/plain": [
       "144.6475601822121"
      ]
     },
     "execution_count": 77,
     "metadata": {},
     "output_type": "execute_result"
    }
   ],
   "source": [
    "# np.sqrt(((1.0 * 1.66E-27 * (110 * 1E-3) ** 2)) / (2 * 1.6E-19  * 3000)) * 1E9 # in ns"
   ]
  },
  {
   "cell_type": "code",
   "execution_count": 58,
   "metadata": {
    "tags": []
   },
   "outputs": [
    {
     "data": {
      "text/html": [
       "<div>\n",
       "<style scoped>\n",
       "    .dataframe tbody tr th:only-of-type {\n",
       "        vertical-align: middle;\n",
       "    }\n",
       "\n",
       "    .dataframe tbody tr th {\n",
       "        vertical-align: top;\n",
       "    }\n",
       "\n",
       "    .dataframe thead th {\n",
       "        text-align: right;\n",
       "    }\n",
       "</style>\n",
       "<table border=\"1\" class=\"dataframe\">\n",
       "  <thead>\n",
       "    <tr style=\"text-align: right;\">\n",
       "      <th></th>\n",
       "      <th>x (nm)</th>\n",
       "      <th>y (nm)</th>\n",
       "      <th>z (nm)</th>\n",
       "      <th>mc_c (Da)</th>\n",
       "      <th>mc (Da)</th>\n",
       "      <th>high_voltage (V)</th>\n",
       "      <th>pulse (V)</th>\n",
       "      <th>start_counter</th>\n",
       "      <th>t (ns)</th>\n",
       "      <th>t_c (nm)</th>\n",
       "      <th>x_det (cm)</th>\n",
       "      <th>y_det (cm)</th>\n",
       "      <th>pulse_pi</th>\n",
       "      <th>ion_pp</th>\n",
       "    </tr>\n",
       "  </thead>\n",
       "  <tbody>\n",
       "    <tr>\n",
       "      <th>0</th>\n",
       "      <td>0.943917</td>\n",
       "      <td>-0.463124</td>\n",
       "      <td>0.019942</td>\n",
       "      <td>91.527626</td>\n",
       "      <td>0.0</td>\n",
       "      <td>3682.110107</td>\n",
       "      <td>0.0</td>\n",
       "      <td>0.0</td>\n",
       "      <td>3891.519531</td>\n",
       "      <td>0.0</td>\n",
       "      <td>0.392873</td>\n",
       "      <td>0.057275</td>\n",
       "      <td>0</td>\n",
       "      <td>1</td>\n",
       "    </tr>\n",
       "    <tr>\n",
       "      <th>1</th>\n",
       "      <td>2.270334</td>\n",
       "      <td>-5.010604</td>\n",
       "      <td>0.551171</td>\n",
       "      <td>91.982094</td>\n",
       "      <td>0.0</td>\n",
       "      <td>3682.110107</td>\n",
       "      <td>0.0</td>\n",
       "      <td>0.0</td>\n",
       "      <td>3904.508789</td>\n",
       "      <td>0.0</td>\n",
       "      <td>0.702811</td>\n",
       "      <td>-0.243931</td>\n",
       "      <td>43</td>\n",
       "      <td>1</td>\n",
       "    </tr>\n",
       "    <tr>\n",
       "      <th>2</th>\n",
       "      <td>-5.462508</td>\n",
       "      <td>0.471533</td>\n",
       "      <td>0.547564</td>\n",
       "      <td>92.993858</td>\n",
       "      <td>0.0</td>\n",
       "      <td>3682.110107</td>\n",
       "      <td>0.0</td>\n",
       "      <td>0.0</td>\n",
       "      <td>3878.014160</td>\n",
       "      <td>0.0</td>\n",
       "      <td>-0.112540</td>\n",
       "      <td>-0.152062</td>\n",
       "      <td>211</td>\n",
       "      <td>1</td>\n",
       "    </tr>\n",
       "    <tr>\n",
       "      <th>3</th>\n",
       "      <td>8.305490</td>\n",
       "      <td>4.298521</td>\n",
       "      <td>1.624813</td>\n",
       "      <td>60.973576</td>\n",
       "      <td>0.0</td>\n",
       "      <td>3682.110107</td>\n",
       "      <td>0.0</td>\n",
       "      <td>0.0</td>\n",
       "      <td>3204.297363</td>\n",
       "      <td>0.0</td>\n",
       "      <td>0.712028</td>\n",
       "      <td>0.788533</td>\n",
       "      <td>66</td>\n",
       "      <td>1</td>\n",
       "    </tr>\n",
       "    <tr>\n",
       "      <th>4</th>\n",
       "      <td>2.990205</td>\n",
       "      <td>0.078835</td>\n",
       "      <td>0.161882</td>\n",
       "      <td>61.330170</td>\n",
       "      <td>0.0</td>\n",
       "      <td>3682.110107</td>\n",
       "      <td>0.0</td>\n",
       "      <td>0.0</td>\n",
       "      <td>3195.071777</td>\n",
       "      <td>0.0</td>\n",
       "      <td>0.512681</td>\n",
       "      <td>0.189050</td>\n",
       "      <td>18</td>\n",
       "      <td>1</td>\n",
       "    </tr>\n",
       "    <tr>\n",
       "      <th>...</th>\n",
       "      <td>...</td>\n",
       "      <td>...</td>\n",
       "      <td>...</td>\n",
       "      <td>...</td>\n",
       "      <td>...</td>\n",
       "      <td>...</td>\n",
       "      <td>...</td>\n",
       "      <td>...</td>\n",
       "      <td>...</td>\n",
       "      <td>...</td>\n",
       "      <td>...</td>\n",
       "      <td>...</td>\n",
       "      <td>...</td>\n",
       "      <td>...</td>\n",
       "    </tr>\n",
       "    <tr>\n",
       "      <th>549698</th>\n",
       "      <td>-4.680508</td>\n",
       "      <td>-0.665500</td>\n",
       "      <td>8.134455</td>\n",
       "      <td>99.078377</td>\n",
       "      <td>0.0</td>\n",
       "      <td>1334.670044</td>\n",
       "      <td>0.0</td>\n",
       "      <td>0.0</td>\n",
       "      <td>6555.320312</td>\n",
       "      <td>0.0</td>\n",
       "      <td>-0.575553</td>\n",
       "      <td>-0.705528</td>\n",
       "      <td>1</td>\n",
       "      <td>1</td>\n",
       "    </tr>\n",
       "    <tr>\n",
       "      <th>549699</th>\n",
       "      <td>-3.787911</td>\n",
       "      <td>-3.385010</td>\n",
       "      <td>8.331511</td>\n",
       "      <td>216.163483</td>\n",
       "      <td>0.0</td>\n",
       "      <td>1334.670044</td>\n",
       "      <td>0.0</td>\n",
       "      <td>0.0</td>\n",
       "      <td>9699.115234</td>\n",
       "      <td>0.0</td>\n",
       "      <td>-0.047374</td>\n",
       "      <td>-1.282389</td>\n",
       "      <td>43</td>\n",
       "      <td>1</td>\n",
       "    </tr>\n",
       "    <tr>\n",
       "      <th>549700</th>\n",
       "      <td>-2.945118</td>\n",
       "      <td>-1.283401</td>\n",
       "      <td>7.480402</td>\n",
       "      <td>101.124908</td>\n",
       "      <td>0.0</td>\n",
       "      <td>1334.670044</td>\n",
       "      <td>0.0</td>\n",
       "      <td>0.0</td>\n",
       "      <td>6691.295410</td>\n",
       "      <td>0.0</td>\n",
       "      <td>-0.129701</td>\n",
       "      <td>-0.605268</td>\n",
       "      <td>114</td>\n",
       "      <td>1</td>\n",
       "    </tr>\n",
       "    <tr>\n",
       "      <th>549701</th>\n",
       "      <td>-4.043397</td>\n",
       "      <td>-0.999465</td>\n",
       "      <td>7.856801</td>\n",
       "      <td>100.075027</td>\n",
       "      <td>0.0</td>\n",
       "      <td>1334.670044</td>\n",
       "      <td>0.0</td>\n",
       "      <td>0.0</td>\n",
       "      <td>6614.916504</td>\n",
       "      <td>0.0</td>\n",
       "      <td>-0.393382</td>\n",
       "      <td>-0.694126</td>\n",
       "      <td>211</td>\n",
       "      <td>1</td>\n",
       "    </tr>\n",
       "    <tr>\n",
       "      <th>549702</th>\n",
       "      <td>-3.605551</td>\n",
       "      <td>-1.773034</td>\n",
       "      <td>7.791200</td>\n",
       "      <td>93.055229</td>\n",
       "      <td>0.0</td>\n",
       "      <td>1334.670044</td>\n",
       "      <td>0.0</td>\n",
       "      <td>0.0</td>\n",
       "      <td>6389.932617</td>\n",
       "      <td>0.0</td>\n",
       "      <td>-0.201848</td>\n",
       "      <td>-0.819208</td>\n",
       "      <td>531</td>\n",
       "      <td>1</td>\n",
       "    </tr>\n",
       "  </tbody>\n",
       "</table>\n",
       "<p>549703 rows × 14 columns</p>\n",
       "</div>"
      ],
      "text/plain": [
       "          x (nm)    y (nm)    z (nm)   mc_c (Da)  mc (Da)  high_voltage (V)  \\\n",
       "0       0.943917 -0.463124  0.019942   91.527626      0.0       3682.110107   \n",
       "1       2.270334 -5.010604  0.551171   91.982094      0.0       3682.110107   \n",
       "2      -5.462508  0.471533  0.547564   92.993858      0.0       3682.110107   \n",
       "3       8.305490  4.298521  1.624813   60.973576      0.0       3682.110107   \n",
       "4       2.990205  0.078835  0.161882   61.330170      0.0       3682.110107   \n",
       "...          ...       ...       ...         ...      ...               ...   \n",
       "549698 -4.680508 -0.665500  8.134455   99.078377      0.0       1334.670044   \n",
       "549699 -3.787911 -3.385010  8.331511  216.163483      0.0       1334.670044   \n",
       "549700 -2.945118 -1.283401  7.480402  101.124908      0.0       1334.670044   \n",
       "549701 -4.043397 -0.999465  7.856801  100.075027      0.0       1334.670044   \n",
       "549702 -3.605551 -1.773034  7.791200   93.055229      0.0       1334.670044   \n",
       "\n",
       "        pulse (V)  start_counter       t (ns)  t_c (nm)  x_det (cm)  \\\n",
       "0             0.0            0.0  3891.519531       0.0    0.392873   \n",
       "1             0.0            0.0  3904.508789       0.0    0.702811   \n",
       "2             0.0            0.0  3878.014160       0.0   -0.112540   \n",
       "3             0.0            0.0  3204.297363       0.0    0.712028   \n",
       "4             0.0            0.0  3195.071777       0.0    0.512681   \n",
       "...           ...            ...          ...       ...         ...   \n",
       "549698        0.0            0.0  6555.320312       0.0   -0.575553   \n",
       "549699        0.0            0.0  9699.115234       0.0   -0.047374   \n",
       "549700        0.0            0.0  6691.295410       0.0   -0.129701   \n",
       "549701        0.0            0.0  6614.916504       0.0   -0.393382   \n",
       "549702        0.0            0.0  6389.932617       0.0   -0.201848   \n",
       "\n",
       "        y_det (cm)  pulse_pi  ion_pp  \n",
       "0         0.057275         0       1  \n",
       "1        -0.243931        43       1  \n",
       "2        -0.152062       211       1  \n",
       "3         0.788533        66       1  \n",
       "4         0.189050        18       1  \n",
       "...            ...       ...     ...  \n",
       "549698   -0.705528         1       1  \n",
       "549699   -1.282389        43       1  \n",
       "549700   -0.605268       114       1  \n",
       "549701   -0.694126       211       1  \n",
       "549702   -0.819208       531       1  \n",
       "\n",
       "[549703 rows x 14 columns]"
      ]
     },
     "execution_count": 58,
     "metadata": {},
     "output_type": "execute_result"
    }
   ],
   "source": [
    "data"
   ]
  },
  {
   "cell_type": "code",
   "execution_count": 67,
   "metadata": {},
   "outputs": [],
   "source": [
    "data_c = data.copy(deep = True)\n",
    "data_c['t_c (ns)'] = variables.dld_t_calib\n",
    "# data_c['mc_c (Da)'] = mc_p_1"
   ]
  },
  {
   "cell_type": "code",
   "execution_count": 68,
   "metadata": {},
   "outputs": [],
   "source": [
    "# Remove negative mc\n",
    "# threshold = 0\n",
    "# mc_t = data_c['mc_c (Da)'].to_numpy()\n",
    "# mc_t_mask = (mc_t <= threshold)\n",
    "# print('The number of ions with negative mc are:', len(mc_t_mask[mc_t_mask==True]))\n",
    "# data_c.drop(np.where(mc_t_mask)[0], inplace=True)\n",
    "# data_c.reset_index(inplace=True, drop=True)"
   ]
  },
  {
   "cell_type": "code",
   "execution_count": 69,
   "metadata": {},
   "outputs": [
    {
     "data": {
      "text/html": [
       "<div>\n",
       "<style scoped>\n",
       "    .dataframe tbody tr th:only-of-type {\n",
       "        vertical-align: middle;\n",
       "    }\n",
       "\n",
       "    .dataframe tbody tr th {\n",
       "        vertical-align: top;\n",
       "    }\n",
       "\n",
       "    .dataframe thead th {\n",
       "        text-align: right;\n",
       "    }\n",
       "</style>\n",
       "<table border=\"1\" class=\"dataframe\">\n",
       "  <thead>\n",
       "    <tr style=\"text-align: right;\">\n",
       "      <th></th>\n",
       "      <th>x (nm)</th>\n",
       "      <th>y (nm)</th>\n",
       "      <th>z (nm)</th>\n",
       "      <th>mc_c (Da)</th>\n",
       "      <th>mc (Da)</th>\n",
       "      <th>high_voltage (V)</th>\n",
       "      <th>pulse (V)</th>\n",
       "      <th>start_counter</th>\n",
       "      <th>t (ns)</th>\n",
       "      <th>t_c (nm)</th>\n",
       "      <th>x_det (cm)</th>\n",
       "      <th>y_det (cm)</th>\n",
       "      <th>pulse_pi</th>\n",
       "      <th>ion_pp</th>\n",
       "      <th>t_c (ns)</th>\n",
       "    </tr>\n",
       "  </thead>\n",
       "  <tbody>\n",
       "    <tr>\n",
       "      <th>0</th>\n",
       "      <td>0.943917</td>\n",
       "      <td>-0.463124</td>\n",
       "      <td>0.019942</td>\n",
       "      <td>91.527626</td>\n",
       "      <td>0.0</td>\n",
       "      <td>3682.110107</td>\n",
       "      <td>0.0</td>\n",
       "      <td>0.0</td>\n",
       "      <td>3891.519531</td>\n",
       "      <td>0.0</td>\n",
       "      <td>0.392873</td>\n",
       "      <td>0.057275</td>\n",
       "      <td>0</td>\n",
       "      <td>1</td>\n",
       "      <td>4239.131558</td>\n",
       "    </tr>\n",
       "    <tr>\n",
       "      <th>1</th>\n",
       "      <td>2.270334</td>\n",
       "      <td>-5.010604</td>\n",
       "      <td>0.551171</td>\n",
       "      <td>91.982094</td>\n",
       "      <td>0.0</td>\n",
       "      <td>3682.110107</td>\n",
       "      <td>0.0</td>\n",
       "      <td>0.0</td>\n",
       "      <td>3904.508789</td>\n",
       "      <td>0.0</td>\n",
       "      <td>0.702811</td>\n",
       "      <td>-0.243931</td>\n",
       "      <td>43</td>\n",
       "      <td>1</td>\n",
       "      <td>4248.225144</td>\n",
       "    </tr>\n",
       "    <tr>\n",
       "      <th>2</th>\n",
       "      <td>-5.462508</td>\n",
       "      <td>0.471533</td>\n",
       "      <td>0.547564</td>\n",
       "      <td>92.993858</td>\n",
       "      <td>0.0</td>\n",
       "      <td>3682.110107</td>\n",
       "      <td>0.0</td>\n",
       "      <td>0.0</td>\n",
       "      <td>3878.014160</td>\n",
       "      <td>0.0</td>\n",
       "      <td>-0.112540</td>\n",
       "      <td>-0.152062</td>\n",
       "      <td>211</td>\n",
       "      <td>1</td>\n",
       "      <td>4267.018864</td>\n",
       "    </tr>\n",
       "    <tr>\n",
       "      <th>3</th>\n",
       "      <td>8.305490</td>\n",
       "      <td>4.298521</td>\n",
       "      <td>1.624813</td>\n",
       "      <td>60.973576</td>\n",
       "      <td>0.0</td>\n",
       "      <td>3682.110107</td>\n",
       "      <td>0.0</td>\n",
       "      <td>0.0</td>\n",
       "      <td>3204.297363</td>\n",
       "      <td>0.0</td>\n",
       "      <td>0.712028</td>\n",
       "      <td>0.788533</td>\n",
       "      <td>66</td>\n",
       "      <td>1</td>\n",
       "      <td>3461.230088</td>\n",
       "    </tr>\n",
       "    <tr>\n",
       "      <th>4</th>\n",
       "      <td>2.990205</td>\n",
       "      <td>0.078835</td>\n",
       "      <td>0.161882</td>\n",
       "      <td>61.330170</td>\n",
       "      <td>0.0</td>\n",
       "      <td>3682.110107</td>\n",
       "      <td>0.0</td>\n",
       "      <td>0.0</td>\n",
       "      <td>3195.071777</td>\n",
       "      <td>0.0</td>\n",
       "      <td>0.512681</td>\n",
       "      <td>0.189050</td>\n",
       "      <td>18</td>\n",
       "      <td>1</td>\n",
       "      <td>3471.082777</td>\n",
       "    </tr>\n",
       "    <tr>\n",
       "      <th>...</th>\n",
       "      <td>...</td>\n",
       "      <td>...</td>\n",
       "      <td>...</td>\n",
       "      <td>...</td>\n",
       "      <td>...</td>\n",
       "      <td>...</td>\n",
       "      <td>...</td>\n",
       "      <td>...</td>\n",
       "      <td>...</td>\n",
       "      <td>...</td>\n",
       "      <td>...</td>\n",
       "      <td>...</td>\n",
       "      <td>...</td>\n",
       "      <td>...</td>\n",
       "      <td>...</td>\n",
       "    </tr>\n",
       "    <tr>\n",
       "      <th>549698</th>\n",
       "      <td>-4.680508</td>\n",
       "      <td>-0.665500</td>\n",
       "      <td>8.134455</td>\n",
       "      <td>99.078377</td>\n",
       "      <td>0.0</td>\n",
       "      <td>1334.670044</td>\n",
       "      <td>0.0</td>\n",
       "      <td>0.0</td>\n",
       "      <td>6555.320312</td>\n",
       "      <td>0.0</td>\n",
       "      <td>-0.575553</td>\n",
       "      <td>-0.705528</td>\n",
       "      <td>1</td>\n",
       "      <td>1</td>\n",
       "      <td>4738.564447</td>\n",
       "    </tr>\n",
       "    <tr>\n",
       "      <th>549699</th>\n",
       "      <td>-3.787911</td>\n",
       "      <td>-3.385010</td>\n",
       "      <td>8.331511</td>\n",
       "      <td>216.163483</td>\n",
       "      <td>0.0</td>\n",
       "      <td>1334.670044</td>\n",
       "      <td>0.0</td>\n",
       "      <td>0.0</td>\n",
       "      <td>9699.115234</td>\n",
       "      <td>0.0</td>\n",
       "      <td>-0.047374</td>\n",
       "      <td>-1.282389</td>\n",
       "      <td>43</td>\n",
       "      <td>1</td>\n",
       "      <td>7004.295261</td>\n",
       "    </tr>\n",
       "    <tr>\n",
       "      <th>549700</th>\n",
       "      <td>-2.945118</td>\n",
       "      <td>-1.283401</td>\n",
       "      <td>7.480402</td>\n",
       "      <td>101.124908</td>\n",
       "      <td>0.0</td>\n",
       "      <td>1334.670044</td>\n",
       "      <td>0.0</td>\n",
       "      <td>0.0</td>\n",
       "      <td>6691.295410</td>\n",
       "      <td>0.0</td>\n",
       "      <td>-0.129701</td>\n",
       "      <td>-0.605268</td>\n",
       "      <td>114</td>\n",
       "      <td>1</td>\n",
       "      <td>4787.932694</td>\n",
       "    </tr>\n",
       "    <tr>\n",
       "      <th>549701</th>\n",
       "      <td>-4.043397</td>\n",
       "      <td>-0.999465</td>\n",
       "      <td>7.856801</td>\n",
       "      <td>100.075027</td>\n",
       "      <td>0.0</td>\n",
       "      <td>1334.670044</td>\n",
       "      <td>0.0</td>\n",
       "      <td>0.0</td>\n",
       "      <td>6614.916504</td>\n",
       "      <td>0.0</td>\n",
       "      <td>-0.393382</td>\n",
       "      <td>-0.694126</td>\n",
       "      <td>211</td>\n",
       "      <td>1</td>\n",
       "      <td>4762.872355</td>\n",
       "    </tr>\n",
       "    <tr>\n",
       "      <th>549702</th>\n",
       "      <td>-3.605551</td>\n",
       "      <td>-1.773034</td>\n",
       "      <td>7.791200</td>\n",
       "      <td>93.055229</td>\n",
       "      <td>0.0</td>\n",
       "      <td>1334.670044</td>\n",
       "      <td>0.0</td>\n",
       "      <td>0.0</td>\n",
       "      <td>6389.932617</td>\n",
       "      <td>0.0</td>\n",
       "      <td>-0.201848</td>\n",
       "      <td>-0.819208</td>\n",
       "      <td>531</td>\n",
       "      <td>1</td>\n",
       "      <td>4592.155897</td>\n",
       "    </tr>\n",
       "  </tbody>\n",
       "</table>\n",
       "<p>549703 rows × 15 columns</p>\n",
       "</div>"
      ],
      "text/plain": [
       "          x (nm)    y (nm)    z (nm)   mc_c (Da)  mc (Da)  high_voltage (V)  \\\n",
       "0       0.943917 -0.463124  0.019942   91.527626      0.0       3682.110107   \n",
       "1       2.270334 -5.010604  0.551171   91.982094      0.0       3682.110107   \n",
       "2      -5.462508  0.471533  0.547564   92.993858      0.0       3682.110107   \n",
       "3       8.305490  4.298521  1.624813   60.973576      0.0       3682.110107   \n",
       "4       2.990205  0.078835  0.161882   61.330170      0.0       3682.110107   \n",
       "...          ...       ...       ...         ...      ...               ...   \n",
       "549698 -4.680508 -0.665500  8.134455   99.078377      0.0       1334.670044   \n",
       "549699 -3.787911 -3.385010  8.331511  216.163483      0.0       1334.670044   \n",
       "549700 -2.945118 -1.283401  7.480402  101.124908      0.0       1334.670044   \n",
       "549701 -4.043397 -0.999465  7.856801  100.075027      0.0       1334.670044   \n",
       "549702 -3.605551 -1.773034  7.791200   93.055229      0.0       1334.670044   \n",
       "\n",
       "        pulse (V)  start_counter       t (ns)  t_c (nm)  x_det (cm)  \\\n",
       "0             0.0            0.0  3891.519531       0.0    0.392873   \n",
       "1             0.0            0.0  3904.508789       0.0    0.702811   \n",
       "2             0.0            0.0  3878.014160       0.0   -0.112540   \n",
       "3             0.0            0.0  3204.297363       0.0    0.712028   \n",
       "4             0.0            0.0  3195.071777       0.0    0.512681   \n",
       "...           ...            ...          ...       ...         ...   \n",
       "549698        0.0            0.0  6555.320312       0.0   -0.575553   \n",
       "549699        0.0            0.0  9699.115234       0.0   -0.047374   \n",
       "549700        0.0            0.0  6691.295410       0.0   -0.129701   \n",
       "549701        0.0            0.0  6614.916504       0.0   -0.393382   \n",
       "549702        0.0            0.0  6389.932617       0.0   -0.201848   \n",
       "\n",
       "        y_det (cm)  pulse_pi  ion_pp     t_c (ns)  \n",
       "0         0.057275         0       1  4239.131558  \n",
       "1        -0.243931        43       1  4248.225144  \n",
       "2        -0.152062       211       1  4267.018864  \n",
       "3         0.788533        66       1  3461.230088  \n",
       "4         0.189050        18       1  3471.082777  \n",
       "...            ...       ...     ...          ...  \n",
       "549698   -0.705528         1       1  4738.564447  \n",
       "549699   -1.282389        43       1  7004.295261  \n",
       "549700   -0.605268       114       1  4787.932694  \n",
       "549701   -0.694126       211       1  4762.872355  \n",
       "549702   -0.819208       531       1  4592.155897  \n",
       "\n",
       "[549703 rows x 15 columns]"
      ]
     },
     "execution_count": 69,
     "metadata": {},
     "output_type": "execute_result"
    }
   ],
   "source": [
    "data_c"
   ]
  },
  {
   "cell_type": "code",
   "execution_count": 61,
   "metadata": {},
   "outputs": [
    {
     "ename": "NameError",
     "evalue": "name 'mc_p_1' is not defined",
     "output_type": "error",
     "traceback": [
      "\u001b[1;31m---------------------------------------------------------------------------\u001b[0m",
      "\u001b[1;31mNameError\u001b[0m                                 Traceback (most recent call last)",
      "Cell \u001b[1;32mIn[61], line 3\u001b[0m\n\u001b[0;32m      1\u001b[0m cc \u001b[38;5;241m=\u001b[39m data_c[\u001b[38;5;124m'\u001b[39m\u001b[38;5;124mmc_c (Da)\u001b[39m\u001b[38;5;124m'\u001b[39m]\u001b[38;5;241m.\u001b[39mto_numpy()\n\u001b[0;32m      2\u001b[0m \u001b[38;5;66;03m# cc[cc <= 0] = 0\u001b[39;00m\n\u001b[1;32m----> 3\u001b[0m peaks_ini, peaks_y_ini, peak_widths_p_ini, _ \u001b[38;5;241m=\u001b[39m tools\u001b[38;5;241m.\u001b[39mhist_plot(\u001b[43mmc_p_1\u001b[49m[mc_p_1 \u001b[38;5;241m<\u001b[39m \u001b[38;5;241m100\u001b[39m], \u001b[38;5;241m0.1\u001b[39m, distance\u001b[38;5;241m=\u001b[39m\u001b[38;5;241m10\u001b[39m, percent\u001b[38;5;241m=\u001b[39m\u001b[38;5;241m50\u001b[39m, prominence\u001b[38;5;241m=\u001b[39m\u001b[38;5;241m50\u001b[39m, selector\u001b[38;5;241m=\u001b[39m\u001b[38;5;124m'\u001b[39m\u001b[38;5;124mpeak\u001b[39m\u001b[38;5;124m'\u001b[39m, peaks_find_plot\u001b[38;5;241m=\u001b[39m\u001b[38;5;28;01mTrue\u001b[39;00m, plot\u001b[38;5;241m=\u001b[39m\u001b[38;5;28;01mTrue\u001b[39;00m, label\u001b[38;5;241m=\u001b[39m\u001b[38;5;124m'\u001b[39m\u001b[38;5;124mmc\u001b[39m\u001b[38;5;124m'\u001b[39m)\n\u001b[0;32m      4\u001b[0m peaks_ini, peaks_y_ini, peak_widths_p_ini, _ \u001b[38;5;241m=\u001b[39m tools\u001b[38;5;241m.\u001b[39mhist_plot(cc[cc \u001b[38;5;241m<\u001b[39m \u001b[38;5;241m100\u001b[39m], \u001b[38;5;241m0.1\u001b[39m, distance\u001b[38;5;241m=\u001b[39m\u001b[38;5;241m10\u001b[39m, percent\u001b[38;5;241m=\u001b[39m\u001b[38;5;241m50\u001b[39m, prominence\u001b[38;5;241m=\u001b[39m\u001b[38;5;241m50\u001b[39m, selector\u001b[38;5;241m=\u001b[39m\u001b[38;5;124m'\u001b[39m\u001b[38;5;124mpeak\u001b[39m\u001b[38;5;124m'\u001b[39m, peaks_find_plot\u001b[38;5;241m=\u001b[39m\u001b[38;5;28;01mTrue\u001b[39;00m, plot\u001b[38;5;241m=\u001b[39m\u001b[38;5;28;01mTrue\u001b[39;00m, label\u001b[38;5;241m=\u001b[39m\u001b[38;5;124m'\u001b[39m\u001b[38;5;124mmc\u001b[39m\u001b[38;5;124m'\u001b[39m)\n",
      "\u001b[1;31mNameError\u001b[0m: name 'mc_p_1' is not defined"
     ]
    }
   ],
   "source": [
    "cc = data_c['mc_c (Da)'].to_numpy()\n",
    "# cc[cc <= 0] = 0\n",
    "peaks_ini, peaks_y_ini, peak_widths_p_ini, _ = tools.hist_plot(mc_p_1[mc_p_1 < 100], 0.1, distance=10, percent=50, prominence=50, selector='peak', peaks_find_plot=True, plot=True, label='mc')\n",
    "peaks_ini, peaks_y_ini, peak_widths_p_ini, _ = tools.hist_plot(cc[cc < 100], 0.1, distance=10, percent=50, prominence=50, selector='peak', peaks_find_plot=True, plot=True, label='mc')"
   ]
  },
  {
   "cell_type": "code",
   "execution_count": 62,
   "metadata": {},
   "outputs": [],
   "source": [
    "# save the new data\n",
    "name_save_file = variables.result_path + '//' + dataset_name + '.h5'\n",
    "data_tools.store_df_to_hdf(name_save_file, data_c, 'df')"
   ]
  },
  {
   "cell_type": "code",
   "execution_count": 63,
   "metadata": {},
   "outputs": [],
   "source": [
    "# save data as epos file\n",
    "epos = ccapt_tools.ccapt_to_epos(data_c, pulse_mode=pulse_mode.value, path=variables.result_path, name=dataset_name + '.epos')\n",
    "pos = ccapt_tools.ccapt_to_pos(data_c, path=variables.result_path, name=dataset_name + '.POS')"
   ]
  },
  {
   "cell_type": "code",
   "execution_count": null,
   "metadata": {},
   "outputs": [],
   "source": [
    "# save data in csv format\n",
    "data_tools.store_df_to_csv(data_c, variables.result_path + dataset_name + '.csv')"
   ]
  },
  {
   "cell_type": "code",
   "execution_count": 64,
   "metadata": {
    "tags": []
   },
   "outputs": [
    {
     "data": {
      "text/plain": [
       "'D:/pyccapt/tests/data/tof_calibration/'"
      ]
     },
     "execution_count": 64,
     "metadata": {},
     "output_type": "execute_result"
    }
   ],
   "source": [
    "variables.result_path"
   ]
  },
  {
   "cell_type": "code",
   "execution_count": null,
   "metadata": {},
   "outputs": [],
   "source": []
  }
 ],
 "metadata": {
  "kernelspec": {
   "display_name": "Python 3 (ipykernel)",
   "language": "python",
   "name": "python3"
  },
  "language_info": {
   "codemirror_mode": {
    "name": "ipython",
    "version": 3
   },
   "file_extension": ".py",
   "mimetype": "text/x-python",
   "name": "python",
   "nbconvert_exporter": "python",
   "pygments_lexer": "ipython3",
   "version": "3.8.16"
  }
 },
 "nbformat": 4,
 "nbformat_minor": 4
}

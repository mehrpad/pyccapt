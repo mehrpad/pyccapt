{
 "cells": [
  {
   "cell_type": "code",
   "execution_count": 2,
   "metadata": {
    "pycharm": {
     "name": "#%%\n"
    },
    "tags": []
   },
   "outputs": [],
   "source": [
    "# Activate intractive functionality of matplotlib\n",
    "%matplotlib ipympl\n",
    "# Activate auto reload \n",
    "%load_ext autoreload\n",
    "%autoreload 2\n",
    "%reload_ext autoreload\n",
    "# import libraries\n",
    "import os\n",
    "import functools\n",
    "import numpy as np\n",
    "from scipy.optimize import curve_fit\n",
    "from ipywidgets import fixed, interact_manual, widgets\n",
    "from ipywidgets import HBox, VBox\n",
    "from IPython.display import clear_output\n",
    "from IPython.display import display\n",
    "from ipywidgets import Output\n",
    "\n",
    "\n",
    "# Local module and scripts\n",
    "from pyccapt.calibration.calibration_tools import tools, share_variables, calibration\n",
    "from pyccapt.calibration.calibration_tools import widgets as wd\n",
    "from pyccapt.calibration.data_tools import data_tools, data_loadcrop, dataset_path_qt\n",
    "from pyccapt.calibration.mc import mc_tools, tof_tools\n",
    "from pyccapt.calibration.leap_tools import ccapt_tools"
   ]
  },
  {
   "cell_type": "code",
   "execution_count": 3,
   "metadata": {
    "tags": []
   },
   "outputs": [
    {
     "data": {
      "application/vnd.jupyter.widget-view+json": {
       "model_id": "e9333728a26241a894ebcb099baa1c79",
       "version_major": 2,
       "version_minor": 0
      },
      "text/plain": [
       "Button(description='load dataset', style=ButtonStyle())"
      ]
     },
     "execution_count": 3,
     "metadata": {},
     "output_type": "execute_result"
    }
   ],
   "source": [
    "button = widgets.Button(\n",
    "    description='load dataset',\n",
    ")\n",
    "@button.on_click\n",
    "def open_file_on_click(b):\n",
    "    \"\"\"\n",
    "    Event handler for button click event.\n",
    "    Prompts the user to select a dataset file and stores the selected file path in the global variable dataset_path.\n",
    "    \"\"\"\n",
    "    global dataset_path\n",
    "    dataset_path = dataset_path_qt.gui_fname().decode('ASCII')\n",
    "button"
   ]
  },
  {
   "cell_type": "code",
   "execution_count": 5,
   "metadata": {
    "tags": []
   },
   "outputs": [
    {
     "data": {
      "application/vnd.jupyter.widget-view+json": {
       "model_id": "4083f53616cf487c98a68ade45b5473b",
       "version_major": 2,
       "version_minor": 0
      },
      "text/plain": [
       "Dropdown(description='Data mode:', options=('surface_concept', 'roentdec', 'leap_epos', 'leap_pos', 'ato_v6'),…"
      ]
     },
     "metadata": {},
     "output_type": "display_data"
    },
    {
     "data": {
      "application/vnd.jupyter.widget-view+json": {
       "model_id": "f91011f088a543ebaeaa7404358bfc52",
       "version_major": 2,
       "version_minor": 0
      },
      "text/plain": [
       "FloatText(value=80.0, description='Detector diameter:')"
      ]
     },
     "metadata": {},
     "output_type": "display_data"
    },
    {
     "data": {
      "application/vnd.jupyter.widget-view+json": {
       "model_id": "2340acd28900419792d5e32539118651",
       "version_major": 2,
       "version_minor": 0
      },
      "text/plain": [
       "Dropdown(description='Pulse mode:', options=('voltage', 'laser'), value='voltage')"
      ]
     },
     "metadata": {},
     "output_type": "display_data"
    },
    {
     "data": {
      "application/vnd.jupyter.widget-view+json": {
       "model_id": "9b76780bfd8246a785d983268445d4f6",
       "version_major": 2,
       "version_minor": 0
      },
      "text/plain": [
       "FloatText(value=110.0, description='Flight path length:')"
      ]
     },
     "metadata": {},
     "output_type": "display_data"
    },
    {
     "data": {
      "application/vnd.jupyter.widget-view+json": {
       "model_id": "0d4559aba87142e8932bd9b017e1982e",
       "version_major": 2,
       "version_minor": 0
      },
      "text/plain": [
       "FloatText(value=54.0, description='t0:')"
      ]
     },
     "metadata": {},
     "output_type": "display_data"
    }
   ],
   "source": [
    "tdc, pulse_mode, flightPathLength_d, t0_d, max_mc, det_diam = wd.dataset_instrument_specification_selection()\n",
    "display(tdc, det_diam, pulse_mode, flightPathLength_d, t0_d)"
   ]
  },
  {
   "cell_type": "markdown",
   "metadata": {
    "pycharm": {
     "name": "#%% md\n"
    }
   },
   "source": [
    "$$\\textbf{You can specify which dataset to use in below block}$$"
   ]
  },
  {
   "cell_type": "code",
   "execution_count": 7,
   "metadata": {
    "tags": []
   },
   "outputs": [],
   "source": [
    "# exctract needed data from Pandas data frame as an numpy array\n",
    "# create an instance of the Variables opject\n",
    "variables = share_variables.Variables()\n",
    "variables.pulse_mode = pulse_mode\n",
    "dataset_main_path = os.path.dirname(dataset_path)\n",
    "dataset_name_with_extention = os.path.basename(dataset_path)\n",
    "variables.dataset_name = os.path.splitext(dataset_name_with_extention)[0]\n",
    "variables.result_data_path = dataset_main_path \n",
    "variables.result_data_name = 'tof_calibration_' + variables.dataset_name\n",
    "variables.result_path = dataset_main_path + '/' + '/tof_calibration/'\n",
    "\n",
    "if not os.path.isdir(variables.result_path):\n",
    "    os.makedirs(variables.result_path, mode=0o777, exist_ok=True)\n",
    "    \n",
    "# Create data farame out of hdf5 file dataset\n",
    "data = data_tools.load_data(dataset_path, tdc.value, mode='processed')\n",
    "# extract data from the path and create the Variable object\n",
    "data_tools.extract_data(data, variables, flightPathLength_d.value, max_mc.value)"
   ]
  },
  {
   "cell_type": "code",
   "execution_count": 8,
   "metadata": {
    "tags": []
   },
   "outputs": [
    {
     "name": "stdout",
     "output_type": "stream",
     "text": [
      "The data will be saved on the path: D:/pyccapt/tests/data/SS-420-1_data\n",
      "=============================\n",
      "The dataset name after saving is: tof_calibration_cropped_SS-420-1_data\n",
      "=============================\n",
      "The figures will be saved on the path: D:/pyccapt/tests/data/SS-420-1_data//tof_calibration/\n",
      "=============================\n",
      "Total number of Ions: 6099479\n"
     ]
    },
    {
     "data": {
      "text/html": [
       "<div>\n",
       "<style scoped>\n",
       "    .dataframe tbody tr th:only-of-type {\n",
       "        vertical-align: middle;\n",
       "    }\n",
       "\n",
       "    .dataframe tbody tr th {\n",
       "        vertical-align: top;\n",
       "    }\n",
       "\n",
       "    .dataframe thead th {\n",
       "        text-align: right;\n",
       "    }\n",
       "</style>\n",
       "<table border=\"1\" class=\"dataframe\">\n",
       "  <thead>\n",
       "    <tr style=\"text-align: right;\">\n",
       "      <th></th>\n",
       "      <th>x (nm)</th>\n",
       "      <th>y (nm)</th>\n",
       "      <th>z (nm)</th>\n",
       "      <th>mc_c (Da)</th>\n",
       "      <th>mc (Da)</th>\n",
       "      <th>high_voltage (V)</th>\n",
       "      <th>pulse</th>\n",
       "      <th>start_counter</th>\n",
       "      <th>t_c (ns)</th>\n",
       "      <th>t (ns)</th>\n",
       "      <th>x_det (cm)</th>\n",
       "      <th>y_det (cm)</th>\n",
       "      <th>pulse_pi</th>\n",
       "      <th>ion_pp</th>\n",
       "    </tr>\n",
       "  </thead>\n",
       "  <tbody>\n",
       "    <tr>\n",
       "      <th>0</th>\n",
       "      <td>0.0</td>\n",
       "      <td>0.0</td>\n",
       "      <td>0.0</td>\n",
       "      <td>0.0</td>\n",
       "      <td>26.829235</td>\n",
       "      <td>3448.971436</td>\n",
       "      <td>3448.971436</td>\n",
       "      <td>39371</td>\n",
       "      <td>0.0</td>\n",
       "      <td>771.545574</td>\n",
       "      <td>-2.489633</td>\n",
       "      <td>0.627184</td>\n",
       "      <td>0</td>\n",
       "      <td>0</td>\n",
       "    </tr>\n",
       "    <tr>\n",
       "      <th>1</th>\n",
       "      <td>0.0</td>\n",
       "      <td>0.0</td>\n",
       "      <td>0.0</td>\n",
       "      <td>0.0</td>\n",
       "      <td>26.346705</td>\n",
       "      <td>3448.971436</td>\n",
       "      <td>3448.971436</td>\n",
       "      <td>39764</td>\n",
       "      <td>0.0</td>\n",
       "      <td>771.202674</td>\n",
       "      <td>2.827102</td>\n",
       "      <td>-0.900980</td>\n",
       "      <td>393</td>\n",
       "      <td>2</td>\n",
       "    </tr>\n",
       "    <tr>\n",
       "      <th>2</th>\n",
       "      <td>0.0</td>\n",
       "      <td>0.0</td>\n",
       "      <td>0.0</td>\n",
       "      <td>0.0</td>\n",
       "      <td>26.096023</td>\n",
       "      <td>3448.971436</td>\n",
       "      <td>3448.971436</td>\n",
       "      <td>40245</td>\n",
       "      <td>0.0</td>\n",
       "      <td>758.467368</td>\n",
       "      <td>-0.085959</td>\n",
       "      <td>-2.330449</td>\n",
       "      <td>481</td>\n",
       "      <td>1</td>\n",
       "    </tr>\n",
       "    <tr>\n",
       "      <th>3</th>\n",
       "      <td>0.0</td>\n",
       "      <td>0.0</td>\n",
       "      <td>0.0</td>\n",
       "      <td>0.0</td>\n",
       "      <td>26.280247</td>\n",
       "      <td>3448.971436</td>\n",
       "      <td>3448.971436</td>\n",
       "      <td>41116</td>\n",
       "      <td>0.0</td>\n",
       "      <td>755.436132</td>\n",
       "      <td>-0.130531</td>\n",
       "      <td>-1.859265</td>\n",
       "      <td>871</td>\n",
       "      <td>1</td>\n",
       "    </tr>\n",
       "    <tr>\n",
       "      <th>4</th>\n",
       "      <td>0.0</td>\n",
       "      <td>0.0</td>\n",
       "      <td>0.0</td>\n",
       "      <td>0.0</td>\n",
       "      <td>26.168904</td>\n",
       "      <td>3448.971436</td>\n",
       "      <td>3448.971436</td>\n",
       "      <td>41484</td>\n",
       "      <td>0.0</td>\n",
       "      <td>767.437632</td>\n",
       "      <td>-0.503020</td>\n",
       "      <td>-2.839837</td>\n",
       "      <td>368</td>\n",
       "      <td>1</td>\n",
       "    </tr>\n",
       "    <tr>\n",
       "      <th>...</th>\n",
       "      <td>...</td>\n",
       "      <td>...</td>\n",
       "      <td>...</td>\n",
       "      <td>...</td>\n",
       "      <td>...</td>\n",
       "      <td>...</td>\n",
       "      <td>...</td>\n",
       "      <td>...</td>\n",
       "      <td>...</td>\n",
       "      <td>...</td>\n",
       "      <td>...</td>\n",
       "      <td>...</td>\n",
       "      <td>...</td>\n",
       "      <td>...</td>\n",
       "    </tr>\n",
       "    <tr>\n",
       "      <th>6099474</th>\n",
       "      <td>0.0</td>\n",
       "      <td>0.0</td>\n",
       "      <td>0.0</td>\n",
       "      <td>0.0</td>\n",
       "      <td>27.818275</td>\n",
       "      <td>7237.436523</td>\n",
       "      <td>7237.436523</td>\n",
       "      <td>59038</td>\n",
       "      <td>0.0</td>\n",
       "      <td>567.684666</td>\n",
       "      <td>-2.964000</td>\n",
       "      <td>1.598204</td>\n",
       "      <td>13</td>\n",
       "      <td>1</td>\n",
       "    </tr>\n",
       "    <tr>\n",
       "      <th>6099475</th>\n",
       "      <td>0.0</td>\n",
       "      <td>0.0</td>\n",
       "      <td>0.0</td>\n",
       "      <td>0.0</td>\n",
       "      <td>28.290275</td>\n",
       "      <td>7237.436523</td>\n",
       "      <td>7237.436523</td>\n",
       "      <td>59083</td>\n",
       "      <td>0.0</td>\n",
       "      <td>555.134526</td>\n",
       "      <td>-0.888245</td>\n",
       "      <td>1.435837</td>\n",
       "      <td>45</td>\n",
       "      <td>1</td>\n",
       "    </tr>\n",
       "    <tr>\n",
       "      <th>6099476</th>\n",
       "      <td>0.0</td>\n",
       "      <td>0.0</td>\n",
       "      <td>0.0</td>\n",
       "      <td>0.0</td>\n",
       "      <td>27.862127</td>\n",
       "      <td>7237.436523</td>\n",
       "      <td>7237.436523</td>\n",
       "      <td>59088</td>\n",
       "      <td>0.0</td>\n",
       "      <td>562.177692</td>\n",
       "      <td>-1.801959</td>\n",
       "      <td>2.250857</td>\n",
       "      <td>5</td>\n",
       "      <td>1</td>\n",
       "    </tr>\n",
       "    <tr>\n",
       "      <th>6099477</th>\n",
       "      <td>0.0</td>\n",
       "      <td>0.0</td>\n",
       "      <td>0.0</td>\n",
       "      <td>0.0</td>\n",
       "      <td>25.962167</td>\n",
       "      <td>7237.436523</td>\n",
       "      <td>7237.436523</td>\n",
       "      <td>59185</td>\n",
       "      <td>0.0</td>\n",
       "      <td>550.861992</td>\n",
       "      <td>-2.976735</td>\n",
       "      <td>1.674612</td>\n",
       "      <td>97</td>\n",
       "      <td>1</td>\n",
       "    </tr>\n",
       "    <tr>\n",
       "      <th>6099478</th>\n",
       "      <td>0.0</td>\n",
       "      <td>0.0</td>\n",
       "      <td>0.0</td>\n",
       "      <td>0.0</td>\n",
       "      <td>28.198763</td>\n",
       "      <td>7237.436523</td>\n",
       "      <td>7237.436523</td>\n",
       "      <td>59302</td>\n",
       "      <td>0.0</td>\n",
       "      <td>552.939966</td>\n",
       "      <td>-0.452082</td>\n",
       "      <td>1.400816</td>\n",
       "      <td>117</td>\n",
       "      <td>1</td>\n",
       "    </tr>\n",
       "  </tbody>\n",
       "</table>\n",
       "<p>6099479 rows × 14 columns</p>\n",
       "</div>"
      ],
      "text/plain": [
       "         x (nm)  y (nm)  z (nm)  mc_c (Da)    mc (Da)  high_voltage (V)  \\\n",
       "0           0.0     0.0     0.0        0.0  26.829235       3448.971436   \n",
       "1           0.0     0.0     0.0        0.0  26.346705       3448.971436   \n",
       "2           0.0     0.0     0.0        0.0  26.096023       3448.971436   \n",
       "3           0.0     0.0     0.0        0.0  26.280247       3448.971436   \n",
       "4           0.0     0.0     0.0        0.0  26.168904       3448.971436   \n",
       "...         ...     ...     ...        ...        ...               ...   \n",
       "6099474     0.0     0.0     0.0        0.0  27.818275       7237.436523   \n",
       "6099475     0.0     0.0     0.0        0.0  28.290275       7237.436523   \n",
       "6099476     0.0     0.0     0.0        0.0  27.862127       7237.436523   \n",
       "6099477     0.0     0.0     0.0        0.0  25.962167       7237.436523   \n",
       "6099478     0.0     0.0     0.0        0.0  28.198763       7237.436523   \n",
       "\n",
       "               pulse  start_counter  t_c (ns)      t (ns)  x_det (cm)  \\\n",
       "0        3448.971436          39371       0.0  771.545574   -2.489633   \n",
       "1        3448.971436          39764       0.0  771.202674    2.827102   \n",
       "2        3448.971436          40245       0.0  758.467368   -0.085959   \n",
       "3        3448.971436          41116       0.0  755.436132   -0.130531   \n",
       "4        3448.971436          41484       0.0  767.437632   -0.503020   \n",
       "...              ...            ...       ...         ...         ...   \n",
       "6099474  7237.436523          59038       0.0  567.684666   -2.964000   \n",
       "6099475  7237.436523          59083       0.0  555.134526   -0.888245   \n",
       "6099476  7237.436523          59088       0.0  562.177692   -1.801959   \n",
       "6099477  7237.436523          59185       0.0  550.861992   -2.976735   \n",
       "6099478  7237.436523          59302       0.0  552.939966   -0.452082   \n",
       "\n",
       "         y_det (cm)  pulse_pi  ion_pp  \n",
       "0          0.627184         0       0  \n",
       "1         -0.900980       393       2  \n",
       "2         -2.330449       481       1  \n",
       "3         -1.859265       871       1  \n",
       "4         -2.839837       368       1  \n",
       "...             ...       ...     ...  \n",
       "6099474    1.598204        13       1  \n",
       "6099475    1.435837        45       1  \n",
       "6099476    2.250857         5       1  \n",
       "6099477    1.674612        97       1  \n",
       "6099478    1.400816       117       1  \n",
       "\n",
       "[6099479 rows x 14 columns]"
      ]
     },
     "execution_count": 8,
     "metadata": {},
     "output_type": "execute_result"
    }
   ],
   "source": [
    "print('The data will be saved on the path:', variables.result_data_path)\n",
    "print('=============================')\n",
    "print('The dataset name after saving is:', variables.result_data_name)\n",
    "print('=============================')\n",
    "print('The figures will be saved on the path:', variables.result_path)\n",
    "print('=============================')\n",
    "print('Total number of Ions:', len(data))\n",
    "data"
   ]
  },
  {
   "cell_type": "code",
   "execution_count": 10,
   "metadata": {
    "tags": []
   },
   "outputs": [
    {
     "name": "stderr",
     "output_type": "stream",
     "text": [
      "C:\\Users\\APTUser\\AppData\\Local\\Temp\\ipykernel_43600\\34346344.py:1: DeprecationWarning: on_submit is deprecated. Instead, set the .continuous_update attribute to False and observe the value changing with: mywidget.observe(callback, 'value').\n",
      "  interact_manual(data_loadcrop.plot_crop_experiment_history, data=fixed(data), variables=fixed(variables), max_tof=widgets.FloatText(value=variables.max_tof), frac=widgets.FloatText(value=1.0),\n"
     ]
    },
    {
     "data": {
      "application/vnd.jupyter.widget-view+json": {
       "model_id": "b1b553fe89ad4dc8ac54cde82035e036",
       "version_major": 2,
       "version_minor": 0
      },
      "text/plain": [
       "interactive(children=(FloatText(value=5010.0, description='max_tof'), FloatText(value=1.0, description='frac')…"
      ]
     },
     "metadata": {},
     "output_type": "display_data"
    }
   ],
   "source": [
    "interact_manual(data_loadcrop.plot_crop_experiment_history, data=fixed(data), variables=fixed(variables), max_tof=widgets.FloatText(value=variables.max_tof), frac=widgets.FloatText(value=1.0),\n",
    "                bins=fixed((1200,800)), figure_size=fixed((7,3)),\n",
    "               draw_rect=fixed(False), data_crop=fixed(False), pulse=widgets.Dropdown(options=[('False', False), ('True', True)]), \n",
    "                pulse_mode=widgets.Dropdown(options=[('voltage', 'voltage'), ('laser', 'laser')]), save=widgets.Dropdown(options=[('True', True), ('False', False)]),\n",
    "               figname=widgets.Text(value='exp_hist'));"
   ]
  },
  {
   "cell_type": "code",
   "execution_count": 11,
   "metadata": {
    "tags": []
   },
   "outputs": [
    {
     "name": "stderr",
     "output_type": "stream",
     "text": [
      "C:\\Users\\APTUser\\AppData\\Local\\Temp\\ipykernel_43600\\2908251488.py:1: DeprecationWarning: on_submit is deprecated. Instead, set the .continuous_update attribute to False and observe the value changing with: mywidget.observe(callback, 'value').\n",
      "  interact_manual(tools.mc_hist_plot, variables=fixed(variables), bin_size=widgets.FloatText(value=0.1),\n"
     ]
    },
    {
     "data": {
      "application/vnd.jupyter.widget-view+json": {
       "model_id": "b95d82f1f0e44fde93420c3829b290b5",
       "version_major": 2,
       "version_minor": 0
      },
      "text/plain": [
       "interactive(children=(FloatText(value=0.1, description='bin_size'), Dropdown(description='mode', options=(('mc…"
      ]
     },
     "metadata": {},
     "output_type": "display_data"
    }
   ],
   "source": [
    "interact_manual(tools.mc_hist_plot, variables=fixed(variables), bin_size=widgets.FloatText(value=0.1), \n",
    "                mode=widgets.Dropdown(options=[('mc', 'mc'), ('tof', 'tof')]), prominence=widgets.IntText(value=50), distance=widgets.IntText(value=100), \n",
    "                lim=widgets.IntText(value=5000), percent=widgets.IntText(value=50), selector=fixed('None'), plot=fixed(True), figname=widgets.Text(value='hist'),\n",
    "                peaks_find_plot=fixed(False));"
   ]
  },
  {
   "cell_type": "markdown",
   "metadata": {
    "pycharm": {
     "name": "#%% md\n"
    }
   },
   "source": [
    "$$\\textbf{Below plotted graph offers peak selection. You can select relevant peaks you want for computation.}$$"
   ]
  },
  {
   "cell_type": "code",
   "execution_count": 12,
   "metadata": {
    "tags": []
   },
   "outputs": [],
   "source": [
    "bin_size=widgets.FloatText(value=0.1, description='bin size:')\n",
    "prominence=widgets.IntText(value=100, description='peak prominance:')\n",
    "distance=widgets.IntText(value=500, description='peak distance:')\n",
    "lim_tof=widgets.IntText(value=variables.max_tof, description='lim tof/mc:')\n",
    "percent=widgets.IntText(value=50, description='percent MRP:')\n",
    "index_fig = widgets.IntText(value=1, description='fig index:')\n",
    "\n",
    "def hist_plot(variables, plot):\n",
    "    \n",
    "    with out:\n",
    "        clear_output(True)\n",
    "    \n",
    "        bin_size_p = bin_size.value\n",
    "        prominence_p = prominence.value\n",
    "        distance_p = distance.value\n",
    "        lim_tof_p = lim_tof.value\n",
    "        percent_p = percent.value\n",
    "        index_fig_p = index_fig.value\n",
    "        tools.mc_hist_plot(variables, bin_size_p, mode='tof', prominence=prominence_p, distance=distance_p, percent=percent_p, selector='rect', plot=True, figname=index_fig_p, lim=lim_tof_p,\n",
    "                          peaks_find_plot=False)"
   ]
  },
  {
   "cell_type": "code",
   "execution_count": 13,
   "metadata": {
    "tags": []
   },
   "outputs": [],
   "source": [
    "sample_size_b = widgets.IntText(value=11, description='sample size:') \n",
    "index_fig_b = widgets.IntText(value=1, description='fig index:')\n",
    "maximum_cal_method_b = widgets.Dropdown(\n",
    "    options=[('mean', 'mean'), ('histogram', 'histogram')],\n",
    "    description='calib method:'\n",
    ")\n",
    "plot_b = widgets.Dropdown(\n",
    "    options=[('False', False), ('True', True)],\n",
    "    description='plot fig:'\n",
    ")\n",
    "\n",
    "save_b = widgets.Dropdown(\n",
    "    options=[('False', False), ('True', True)],\n",
    "    description='save fig:'\n",
    ")\n",
    "def bowl_correction(dld_x, dld_y, dld_highVoltage, variables):\n",
    "    with out:\n",
    "        sample_size_p = sample_size_b.value\n",
    "        index_fig_p = index_fig_b.value\n",
    "        plot_p = plot_b.value\n",
    "        save_p = save_b.value\n",
    "        maximum_cal_method_p = maximum_cal_method_b.value\n",
    "        calibration.bowl_correction_main(dld_x, dld_y, dld_highVoltage, variables, det_diam.value, sample_size=sample_size_p, maximum_cal_method=maximum_cal_method_p,\n",
    "                                         calibration_mode='tof', index_fig=index_fig_p, plot=plot_p, save=save_p)\n"
   ]
  },
  {
   "cell_type": "code",
   "execution_count": 14,
   "metadata": {
    "tags": []
   },
   "outputs": [],
   "source": [
    "sample_size_v =widgets.IntText(value=100, description='sample size:') \n",
    "index_fig_v = widgets.IntText(value=1, description='fig index:')\n",
    "plot_v = widgets.Dropdown(\n",
    "    options=[('False', False), ('True', True)],\n",
    "    description='plot fig:'\n",
    ")\n",
    "save_v = widgets.Dropdown(\n",
    "    options=[('False', False), ('True', True)],\n",
    "    description='save fig:'\n",
    ")\n",
    "mode_v = widgets.Dropdown(\n",
    "    options=[('ion_seq', 'ion_seq'), ('voltage', 'voltage')],\n",
    "    description='sample mode:'\n",
    ")\n",
    "peak_mode = widgets.Dropdown(\n",
    "    options=[('peak', 'peak'), ('mean', 'mean'), ('median', 'median')],\n",
    "    description='peak mode:'\n",
    ")\n",
    "def vol_correction(dld_highVoltage, variables):\n",
    "    with out:\n",
    "        sample_size_p = sample_size_v.value\n",
    "        index_fig_p = index_fig_v.value\n",
    "        plot_p = plot_v.value\n",
    "        save_p = save_v.value\n",
    "        mode_p = mode_v.value\n",
    "        peak_mode_p = peak_mode.value\n",
    "        calibration.voltage_corr_main(dld_highVoltage, variables, sample_size=sample_size_p, calibration_mode='tof',\n",
    "                                        index_fig=index_fig_p, plot=plot_p, save=save_p, mode=mode_p, peak_mode=peak_mode_p)\n"
   ]
  },
  {
   "cell_type": "code",
   "execution_count": 16,
   "metadata": {
    "tags": []
   },
   "outputs": [
    {
     "data": {
      "application/vnd.jupyter.widget-view+json": {
       "model_id": "19eac58c6c154a429f8ae1a1df47cb29",
       "version_major": 2,
       "version_minor": 0
      },
      "text/plain": [
       "VBox(children=(Tab(children=(VBox(children=(FloatText(value=0.1, description='bin size:'), IntText(value=1, de…"
      ]
     },
     "metadata": {},
     "output_type": "display_data"
    },
    {
     "data": {
      "application/vnd.jupyter.widget-view+json": {
       "model_id": "8ce23adec5e24444928748cf05c4fd05",
       "version_major": 2,
       "version_minor": 0
      },
      "text/plain": [
       "Output()"
      ]
     },
     "metadata": {},
     "output_type": "display_data"
    }
   ],
   "source": [
    "pb_bowl = widgets.HTML(\n",
    "    value=\" \",\n",
    "    placeholder='Status:',\n",
    "    description='Status:',\n",
    ")\n",
    "pb_vol = widgets.HTML(\n",
    "    value=\" \",\n",
    "    placeholder='Status:',\n",
    "    description='Status:',\n",
    ")\n",
    "plot_button = widgets.Button(\n",
    "    description='plot hist',\n",
    ")\n",
    "plot_fdm_button = widgets.Button(\n",
    "    description='plot FDM',\n",
    ")\n",
    "reset_back_button = widgets.Button(\n",
    "    description='reset back correction',\n",
    ")\n",
    "reset_button = widgets.Button(\n",
    "    description='reset',\n",
    ")\n",
    "save_button = widgets.Button(\n",
    "    description='save correction',\n",
    ")\n",
    "bowl_button = widgets.Button(\n",
    "    description='bowl correction',\n",
    ")\n",
    "vol_button = widgets.Button(\n",
    "    description='voltage correction',\n",
    ")\n",
    "bin_fdm = widgets.IntText(value=256, description='bin FDM:')\n",
    "    \n",
    "@plot_button.on_click\n",
    "def plot_on_click(b, variables=variables, plot=True):\n",
    "    hist_plot(variables, plot)\n",
    "\n",
    "@plot_fdm_button.on_click\n",
    "def plot_fdm_on_click(b, variables=variables, save=True):\n",
    "    with out:\n",
    "        clear_output(True)\n",
    "        if variables.selected_x1 == 0 or variables.selected_x2 == 0:\n",
    "            print('Please first select a peak')\n",
    "        else:\n",
    "            print('Selected tof are: (%s, %s)' %(variables.selected_x1, variables.selected_x2)) \n",
    "            mask_temporal = np.logical_and((variables.dld_t_calib > variables.selected_x1),\n",
    "                                           (variables.dld_t_calib < variables.selected_x2))\n",
    "            x = variables.dld_x_det[mask_temporal]\n",
    "            y = variables.dld_y_det[mask_temporal]\n",
    "            bin_fdm_p = bin_fdm.value\n",
    "            index_fig_p = index_fig.value\n",
    "            bins = [bin_fdm_p, bin_fdm_p]\n",
    "\n",
    "            calibration.plot_fdm(x, y, variables, save, bins, index_fig_p)\n",
    "    \n",
    "@reset_back_button.on_click\n",
    "def reset_back_on_click(b, variables=variables):\n",
    "    variables.dld_t_calib = np.copy(variables.dld_t_calib_backup)\n",
    "@reset_button.on_click\n",
    "def reset_on_click(b, data=data, variables=variables, flightPathLength_d=flightPathLength_d.value, t0_d=t0_d.value, max_mc=max_mc.value):\n",
    "    data_tools.extract_data(data, variables, flightPathLength_d, t0_d, max_mc)\n",
    "    \n",
    "@save_button.on_click\n",
    "def save_on_click(b, variables=variables):\n",
    "    variables.dld_t_calib_backup = np.copy(variables.dld_t_calib)\n",
    "\n",
    "@vol_button.on_click\n",
    "def vol_on_click(b, dld_highVoltage=variables.dld_high_voltage, variables=variables):\n",
    "    with out:\n",
    "        clear_output(True)\n",
    "        pb_vol.value = \"<b>Starting...</b>\"\n",
    "        if variables.selected_x1 == 0 or variables.selected_x2 == 0:\n",
    "            print('Please first select a peak')\n",
    "        else:\n",
    "            print('Selected tof ranges are: (%s, %s)' %(variables.selected_x1, variables.selected_x2))\n",
    "            vol_correction(dld_highVoltage, variables)\n",
    "        pb_vol.value = \"<b>Flished</b>\"\n",
    "@bowl_button.on_click\n",
    "def bowl_on_click(b, dld_x_det=variables.dld_x_det, dld_y_det=variables.dld_y_det, dld_highVoltage=variables.dld_high_voltage, variables=variables):\n",
    "    with out:\n",
    "        clear_output(True)\n",
    "        pb_bowl.value = \"<b>Starting...</b>\"\n",
    "        if variables.selected_x1 == 0 or variables.selected_x2 == 0:\n",
    "            print('Please first select a peak')\n",
    "        else:\n",
    "            print('Selected tof ranges are: (%s, %s)' %(variables.selected_x1, variables.selected_x2))\n",
    "            bowl_correction(dld_x_det, dld_y_det, dld_highVoltage, variables)  \n",
    "        pb_bowl.value = \"<b>Flished</b>\"\n",
    "\n",
    "\n",
    "tab1 = VBox(children=[bin_size, index_fig, prominence, distance, lim_tof, percent, bin_fdm])\n",
    "tab2 = VBox(children=[HBox(children=[sample_size_b, index_fig_b, maximum_cal_method_b, plot_b, save_b]), bowl_button, pb_bowl])\n",
    "tab3 = VBox(children=[HBox(children=[sample_size_v, index_fig_v, mode_v, peak_mode, plot_v, save_v]), vol_button, pb_vol])\n",
    "\n",
    "tab = widgets.Tab(children=[tab1, tab2, tab3])\n",
    "tab.set_title(0, 'tof/mc plot')\n",
    "tab.set_title(1, 'bowl correction')\n",
    "tab.set_title(2, 'voltage correction')\n",
    "\n",
    "\n",
    "\n",
    "display(VBox(children=[tab,HBox(children=[plot_button, plot_fdm_button, save_button, reset_back_button, reset_button])]))\n",
    "out = Output()\n",
    "display(out)"
   ]
  },
  {
   "cell_type": "code",
   "execution_count": 17,
   "metadata": {
    "tags": []
   },
   "outputs": [
    {
     "name": "stderr",
     "output_type": "stream",
     "text": [
      "C:\\Users\\APTUser\\AppData\\Local\\Temp\\ipykernel_43600\\3269822899.py:1: DeprecationWarning: on_submit is deprecated. Instead, set the .continuous_update attribute to False and observe the value changing with: mywidget.observe(callback, 'value').\n",
      "  interact_manual(tools.mc_hist_plot, variables=fixed(variables), bin_size=widgets.FloatText(value=0.1),\n"
     ]
    },
    {
     "data": {
      "application/vnd.jupyter.widget-view+json": {
       "model_id": "5e1b9731543a4070addb625561a26e63",
       "version_major": 2,
       "version_minor": 0
      },
      "text/plain": [
       "interactive(children=(FloatText(value=0.1, description='bin_size'), Dropdown(description='mode', options=(('to…"
      ]
     },
     "metadata": {},
     "output_type": "display_data"
    }
   ],
   "source": [
    "interact_manual(tools.mc_hist_plot, variables=fixed(variables), bin_size=widgets.FloatText(value=0.1), \n",
    "                mode=widgets.Dropdown(options=[('tof', 'tof')]), prominence=widgets.IntText(value=50), distance=widgets.IntText(value=100), \n",
    "                lim=widgets.IntText(value=5000), percent=widgets.IntText(value=50), selector=fixed('peak'), plot=fixed(True), figname=widgets.Text(value='tof_hist_calibrated'),\n",
    "               peaks_find_plot=fixed(True));\n"
   ]
  },
  {
   "cell_type": "code",
   "execution_count": 15,
   "metadata": {
    "pycharm": {
     "name": "#%%\n"
    },
    "tags": []
   },
   "outputs": [
    {
     "data": {
      "application/vnd.jupyter.widget-view+json": {
       "model_id": "3efc7e2a7a56425da3e1defefe3a26a7",
       "version_major": 2,
       "version_minor": 0
      },
      "text/plain": [
       "Dropdown(description='Elements', options=(('H (1) (99.98)', 'H(1)[1.01]'), ('H (2) (0.01)', 'H(2)[2.01]'), ('H…"
      ]
     },
     "metadata": {},
     "output_type": "display_data"
    },
    {
     "data": {
      "application/vnd.jupyter.widget-view+json": {
       "model_id": "1dc0d5a6cd4746e69e9ec17e0415432a",
       "version_major": 2,
       "version_minor": 0
      },
      "text/plain": [
       "Dropdown(description='Charge', options=((1, 1), (2, 2), (3, 3), (4, 4)), value=1)"
      ]
     },
     "metadata": {},
     "output_type": "display_data"
    },
    {
     "data": {
      "application/vnd.jupyter.widget-view+json": {
       "model_id": "5470e26d305144ff86811a6e65b06986",
       "version_major": 2,
       "version_minor": 0
      },
      "text/plain": [
       "Button(description='ADD', icon='check', style=ButtonStyle(), tooltip='ADD')"
      ]
     },
     "metadata": {},
     "output_type": "display_data"
    },
    {
     "data": {
      "application/vnd.jupyter.widget-view+json": {
       "model_id": "4699e13873f844dcb3db5f1c6c526587",
       "version_major": 2,
       "version_minor": 0
      },
      "text/plain": [
       "Button(description='DELETE', icon='check', style=ButtonStyle(), tooltip='DELETE')"
      ]
     },
     "metadata": {},
     "output_type": "display_data"
    },
    {
     "data": {
      "application/vnd.jupyter.widget-view+json": {
       "model_id": "8127fd02dbf246be9ceac8845f0bc929",
       "version_major": 2,
       "version_minor": 0
      },
      "text/plain": [
       "Button(description='RESET', icon='check', style=ButtonStyle(), tooltip='RESET')"
      ]
     },
     "metadata": {},
     "output_type": "display_data"
    },
    {
     "data": {
      "application/vnd.jupyter.widget-view+json": {
       "model_id": "1ebf50a9c71a473ab0210739eeca32fd",
       "version_major": 2,
       "version_minor": 0
      },
      "text/plain": [
       "Output()"
      ]
     },
     "metadata": {},
     "output_type": "display_data"
    }
   ],
   "source": [
    "isotopeTableFile = '../../../files/isotopeTable.h5'\n",
    "dataframe = data_tools.read_hdf5_through_pandas(isotopeTableFile)\n",
    "elementsList = dataframe['element']\n",
    "elementIsotopeList = dataframe['isotope']\n",
    "elementMassList =  dataframe['weight']\n",
    "abundanceList = dataframe['abundance']\n",
    "\n",
    "elements = list(zip(elementsList, elementIsotopeList, elementMassList, abundanceList))\n",
    "dropdownList = []\n",
    "for element in elements:\n",
    "    tupleElement = (\"{} ({}) ({:.2f})\".format(element[0], element[1], element[3]), \"{}({})[{}]\".format(element[0], element[1], element[2]))\n",
    "    dropdownList.append(tupleElement)\n",
    "\n",
    "chargeList = [(1,1,),(2,2,),(3,3,),(4,4,)]\n",
    "dropdown = wd.dropdownWidget(dropdownList,\"Elements\")\n",
    "dropdown.observe(wd.on_change)\n",
    "\n",
    "\n",
    "chargeDropdown = wd.dropdownWidget(chargeList,\"Charge\")\n",
    "chargeDropdown.observe(wd.on_change_charge)\n",
    "\n",
    "wd.compute_element_isotope_values_according_to_selected_charge()\n",
    "\n",
    "buttonAdd = wd.buttonWidget(\"ADD\")\n",
    "buttonDelete = wd.buttonWidget(\"DELETE\")\n",
    "buttonReset = wd.buttonWidget(\"RESET\")\n",
    "\n",
    "\n",
    "display(dropdown, chargeDropdown, buttonAdd, buttonDelete, buttonReset)\n",
    "\n",
    "def buttonAdd_f(b, variables):\n",
    "    with out:\n",
    "        clear_output(True)\n",
    "        wd.onClickAdd(b, variables)\n",
    "        display()\n",
    "def buttonDelete_f(b, variables):\n",
    "    with out:\n",
    "        clear_output(True)\n",
    "        wd.onClickDelete(b, variables)\n",
    "        display()\n",
    "def buttonResett_f(b, variables):\n",
    "    with out:\n",
    "        clear_output(True)\n",
    "        wd.onClickReset(b, variables)\n",
    "        display()\n",
    "\n",
    "listMaterial = buttonAdd.on_click(functools.partial(buttonAdd_f, variables=variables))\n",
    "buttonDelete.on_click(functools.partial(buttonDelete_f, variables=variables))\n",
    "buttonReset.on_click(functools.partial(buttonResett_f, variables=variables))\n",
    "# listMaterial = buttonAdd.on_click(wd.onClickAdd)\n",
    "# buttonDelete.on_click(wd.onClickDelete)\n",
    "# buttonReset.on_click(wd.onClickReset)\n",
    "out = Output()\n",
    "display(out)"
   ]
  },
  {
   "cell_type": "code",
   "execution_count": 16,
   "metadata": {
    "pycharm": {
     "name": "#%%\n"
    },
    "tags": []
   },
   "outputs": [
    {
     "name": "stdout",
     "output_type": "stream",
     "text": [
      "highest peak in the tof histogram: [ 76.69011569 450.48758127 610.20285425]\n",
      "highest peak in the ideal mc histogram: [ 1.01 13.49 26.98]\n"
     ]
    }
   ],
   "source": [
    "peaks_chos = []\n",
    "for i in range(len(variables.peaks_idx)):\n",
    "    peaks_chos.append(variables.peak[variables.peaks_idx[i]])\n",
    "peaks_chos = np.array(peaks_chos)\n",
    "listMaterial = np.array(variables.listMaterial)\n",
    "print('highest peak in the tof histogram:', peaks_chos)\n",
    "print('highest peak in the ideal mc histogram:', listMaterial)"
   ]
  },
  {
   "cell_type": "code",
   "execution_count": 17,
   "metadata": {
    "pycharm": {
     "name": "#%%\n"
    },
    "tags": []
   },
   "outputs": [
    {
     "name": "stderr",
     "output_type": "stream",
     "text": [
      "C:\\Users\\APTUser\\.conda\\envs\\oxcart5\\lib\\site-packages\\scipy\\optimize\\_minpack_py.py:906: OptimizeWarning: Covariance of the parameters could not be estimated\n",
      "  warnings.warn('Covariance of the parameters could not be estimated',\n"
     ]
    }
   ],
   "source": [
    "def parametric(t, t0, c, d):\n",
    "\n",
    "    # return c * ((t - t0)**2) + d\n",
    "    return c * ((t - t0)**2) + d*t\n",
    "\n",
    "def parametric_calib(t, mc_ideal):\n",
    "    \n",
    "    fitresult, _ = curve_fit(parametric, t, mc_ideal, maxfev=2000)\n",
    "    return fitresult\n",
    "\n",
    "fitresult = parametric_calib(peaks_chos, variables.listMaterial)\n",
    "\n",
    "\n",
    "variables.mc_calib = parametric(variables.dld_t_calib, *fitresult)"
   ]
  },
  {
   "cell_type": "code",
   "execution_count": 18,
   "metadata": {
    "tags": []
   },
   "outputs": [
    {
     "name": "stdout",
     "output_type": "stream",
     "text": [
      "The t0 is: 135.471785276709 ns\n"
     ]
    }
   ],
   "source": [
    "print('The t0 is:', fitresult[0], 'ns')"
   ]
  },
  {
   "cell_type": "code",
   "execution_count": 19,
   "metadata": {
    "pycharm": {
     "name": "#%%\n"
    },
    "tags": []
   },
   "outputs": [
    {
     "name": "stderr",
     "output_type": "stream",
     "text": [
      "C:\\Users\\APTUser\\AppData\\Local\\Temp\\ipykernel_22156\\1203954349.py:1: DeprecationWarning: on_submit is deprecated. Instead, set the .continuous_update attribute to False and observe the value changing with: mywidget.observe(callback, 'value').\n",
      "  interact_manual(tools.mc_hist_plot, variables=fixed(variables), bin_size=widgets.FloatText(value=0.1),\n"
     ]
    },
    {
     "data": {
      "application/vnd.jupyter.widget-view+json": {
       "model_id": "fe2452fd72ae49a2b6ae52310abc35e6",
       "version_major": 2,
       "version_minor": 0
      },
      "text/plain": [
       "interactive(children=(FloatText(value=0.1, description='bin_size'), Dropdown(description='mode', options=(('mc…"
      ]
     },
     "metadata": {},
     "output_type": "display_data"
    }
   ],
   "source": [
    "interact_manual(tools.mc_hist_plot, variables=fixed(variables), bin_size=widgets.FloatText(value=0.1), \n",
    "                mode=widgets.Dropdown(options=[('mc', 'mc')]), prominence=widgets.IntText(value=50), distance=widgets.IntText(value=100), \n",
    "                lim=widgets.IntText(value=400), percent=widgets.IntText(value=50), selector=fixed('peak'), plot=fixed(True), figname=widgets.Text(value='mc_hist_calibrated'),\n",
    "               peaks_find_plot=fixed(True));\n"
   ]
  },
  {
   "cell_type": "code",
   "execution_count": 20,
   "metadata": {
    "tags": []
   },
   "outputs": [
    {
     "data": {
      "text/html": [
       "<div>\n",
       "<style scoped>\n",
       "    .dataframe tbody tr th:only-of-type {\n",
       "        vertical-align: middle;\n",
       "    }\n",
       "\n",
       "    .dataframe tbody tr th {\n",
       "        vertical-align: top;\n",
       "    }\n",
       "\n",
       "    .dataframe thead th {\n",
       "        text-align: right;\n",
       "    }\n",
       "</style>\n",
       "<table border=\"1\" class=\"dataframe\">\n",
       "  <thead>\n",
       "    <tr style=\"text-align: right;\">\n",
       "      <th></th>\n",
       "      <th>x (nm)</th>\n",
       "      <th>y (nm)</th>\n",
       "      <th>z (nm)</th>\n",
       "      <th>mc_c (Da)</th>\n",
       "      <th>mc (Da)</th>\n",
       "      <th>high_voltage (V)</th>\n",
       "      <th>pulse</th>\n",
       "      <th>start_counter</th>\n",
       "      <th>t_c (ns)</th>\n",
       "      <th>t (ns)</th>\n",
       "      <th>x_det (cm)</th>\n",
       "      <th>y_det (cm)</th>\n",
       "      <th>pulse_pi</th>\n",
       "      <th>ion_pp</th>\n",
       "    </tr>\n",
       "  </thead>\n",
       "  <tbody>\n",
       "    <tr>\n",
       "      <th>0</th>\n",
       "      <td>0.0</td>\n",
       "      <td>0.0</td>\n",
       "      <td>0.0</td>\n",
       "      <td>27.527876</td>\n",
       "      <td>27.400991</td>\n",
       "      <td>5263.160645</td>\n",
       "      <td>5263.160645</td>\n",
       "      <td>24501</td>\n",
       "      <td>615.666522</td>\n",
       "      <td>629.290080</td>\n",
       "      <td>-0.544408</td>\n",
       "      <td>-1.117469</td>\n",
       "      <td>0</td>\n",
       "      <td>0</td>\n",
       "    </tr>\n",
       "    <tr>\n",
       "      <th>1</th>\n",
       "      <td>0.0</td>\n",
       "      <td>0.0</td>\n",
       "      <td>0.0</td>\n",
       "      <td>27.048185</td>\n",
       "      <td>27.451994</td>\n",
       "      <td>5263.160645</td>\n",
       "      <td>5263.160645</td>\n",
       "      <td>25308</td>\n",
       "      <td>610.885941</td>\n",
       "      <td>642.745476</td>\n",
       "      <td>-0.977388</td>\n",
       "      <td>2.480082</td>\n",
       "      <td>807</td>\n",
       "      <td>2</td>\n",
       "    </tr>\n",
       "    <tr>\n",
       "      <th>2</th>\n",
       "      <td>0.0</td>\n",
       "      <td>0.0</td>\n",
       "      <td>0.0</td>\n",
       "      <td>27.001281</td>\n",
       "      <td>27.008272</td>\n",
       "      <td>5263.160645</td>\n",
       "      <td>5263.160645</td>\n",
       "      <td>25411</td>\n",
       "      <td>610.416149</td>\n",
       "      <td>625.195854</td>\n",
       "      <td>0.780000</td>\n",
       "      <td>0.977388</td>\n",
       "      <td>103</td>\n",
       "      <td>1</td>\n",
       "    </tr>\n",
       "    <tr>\n",
       "      <th>3</th>\n",
       "      <td>0.0</td>\n",
       "      <td>0.0</td>\n",
       "      <td>0.0</td>\n",
       "      <td>27.218993</td>\n",
       "      <td>27.270453</td>\n",
       "      <td>5263.160645</td>\n",
       "      <td>5263.160645</td>\n",
       "      <td>25674</td>\n",
       "      <td>612.593216</td>\n",
       "      <td>636.964182</td>\n",
       "      <td>0.971020</td>\n",
       "      <td>2.120327</td>\n",
       "      <td>263</td>\n",
       "      <td>1</td>\n",
       "    </tr>\n",
       "    <tr>\n",
       "      <th>4</th>\n",
       "      <td>0.0</td>\n",
       "      <td>0.0</td>\n",
       "      <td>0.0</td>\n",
       "      <td>27.592954</td>\n",
       "      <td>26.977407</td>\n",
       "      <td>5263.160645</td>\n",
       "      <td>5263.160645</td>\n",
       "      <td>26234</td>\n",
       "      <td>616.311750</td>\n",
       "      <td>642.718044</td>\n",
       "      <td>2.072571</td>\n",
       "      <td>-2.247673</td>\n",
       "      <td>560</td>\n",
       "      <td>1</td>\n",
       "    </tr>\n",
       "    <tr>\n",
       "      <th>...</th>\n",
       "      <td>...</td>\n",
       "      <td>...</td>\n",
       "      <td>...</td>\n",
       "      <td>...</td>\n",
       "      <td>...</td>\n",
       "      <td>...</td>\n",
       "      <td>...</td>\n",
       "      <td>...</td>\n",
       "      <td>...</td>\n",
       "      <td>...</td>\n",
       "      <td>...</td>\n",
       "      <td>...</td>\n",
       "      <td>...</td>\n",
       "      <td>...</td>\n",
       "    </tr>\n",
       "    <tr>\n",
       "      <th>1865056</th>\n",
       "      <td>0.0</td>\n",
       "      <td>0.0</td>\n",
       "      <td>0.0</td>\n",
       "      <td>27.130503</td>\n",
       "      <td>26.662453</td>\n",
       "      <td>5710.793945</td>\n",
       "      <td>5710.793945</td>\n",
       "      <td>24534</td>\n",
       "      <td>611.709426</td>\n",
       "      <td>613.146348</td>\n",
       "      <td>1.579102</td>\n",
       "      <td>-2.365469</td>\n",
       "      <td>2</td>\n",
       "      <td>1</td>\n",
       "    </tr>\n",
       "    <tr>\n",
       "      <th>1865057</th>\n",
       "      <td>0.0</td>\n",
       "      <td>0.0</td>\n",
       "      <td>0.0</td>\n",
       "      <td>27.280111</td>\n",
       "      <td>27.800477</td>\n",
       "      <td>5710.793945</td>\n",
       "      <td>5710.793945</td>\n",
       "      <td>24644</td>\n",
       "      <td>613.202760</td>\n",
       "      <td>620.381538</td>\n",
       "      <td>-2.091673</td>\n",
       "      <td>1.286204</td>\n",
       "      <td>110</td>\n",
       "      <td>1</td>\n",
       "    </tr>\n",
       "    <tr>\n",
       "      <th>1865058</th>\n",
       "      <td>0.0</td>\n",
       "      <td>0.0</td>\n",
       "      <td>0.0</td>\n",
       "      <td>27.031051</td>\n",
       "      <td>27.405944</td>\n",
       "      <td>5710.793945</td>\n",
       "      <td>5710.793945</td>\n",
       "      <td>24774</td>\n",
       "      <td>610.714381</td>\n",
       "      <td>609.010974</td>\n",
       "      <td>-1.505878</td>\n",
       "      <td>0.684490</td>\n",
       "      <td>130</td>\n",
       "      <td>1</td>\n",
       "    </tr>\n",
       "    <tr>\n",
       "      <th>1865059</th>\n",
       "      <td>0.0</td>\n",
       "      <td>0.0</td>\n",
       "      <td>0.0</td>\n",
       "      <td>26.971629</td>\n",
       "      <td>26.813825</td>\n",
       "      <td>5710.793945</td>\n",
       "      <td>5710.793945</td>\n",
       "      <td>25014</td>\n",
       "      <td>610.118935</td>\n",
       "      <td>623.460780</td>\n",
       "      <td>2.747510</td>\n",
       "      <td>2.142612</td>\n",
       "      <td>240</td>\n",
       "      <td>1</td>\n",
       "    </tr>\n",
       "    <tr>\n",
       "      <th>1865060</th>\n",
       "      <td>0.0</td>\n",
       "      <td>0.0</td>\n",
       "      <td>0.0</td>\n",
       "      <td>27.068720</td>\n",
       "      <td>27.367084</td>\n",
       "      <td>5710.793945</td>\n",
       "      <td>5710.793945</td>\n",
       "      <td>25851</td>\n",
       "      <td>611.091493</td>\n",
       "      <td>612.302814</td>\n",
       "      <td>-2.088490</td>\n",
       "      <td>-0.156000</td>\n",
       "      <td>837</td>\n",
       "      <td>1</td>\n",
       "    </tr>\n",
       "  </tbody>\n",
       "</table>\n",
       "<p>1865061 rows × 14 columns</p>\n",
       "</div>"
      ],
      "text/plain": [
       "         x (nm)  y (nm)  z (nm)  mc_c (Da)    mc (Da)  high_voltage (V)  \\\n",
       "0           0.0     0.0     0.0  27.527876  27.400991       5263.160645   \n",
       "1           0.0     0.0     0.0  27.048185  27.451994       5263.160645   \n",
       "2           0.0     0.0     0.0  27.001281  27.008272       5263.160645   \n",
       "3           0.0     0.0     0.0  27.218993  27.270453       5263.160645   \n",
       "4           0.0     0.0     0.0  27.592954  26.977407       5263.160645   \n",
       "...         ...     ...     ...        ...        ...               ...   \n",
       "1865056     0.0     0.0     0.0  27.130503  26.662453       5710.793945   \n",
       "1865057     0.0     0.0     0.0  27.280111  27.800477       5710.793945   \n",
       "1865058     0.0     0.0     0.0  27.031051  27.405944       5710.793945   \n",
       "1865059     0.0     0.0     0.0  26.971629  26.813825       5710.793945   \n",
       "1865060     0.0     0.0     0.0  27.068720  27.367084       5710.793945   \n",
       "\n",
       "               pulse  start_counter    t_c (ns)      t (ns)  x_det (cm)  \\\n",
       "0        5263.160645          24501  615.666522  629.290080   -0.544408   \n",
       "1        5263.160645          25308  610.885941  642.745476   -0.977388   \n",
       "2        5263.160645          25411  610.416149  625.195854    0.780000   \n",
       "3        5263.160645          25674  612.593216  636.964182    0.971020   \n",
       "4        5263.160645          26234  616.311750  642.718044    2.072571   \n",
       "...              ...            ...         ...         ...         ...   \n",
       "1865056  5710.793945          24534  611.709426  613.146348    1.579102   \n",
       "1865057  5710.793945          24644  613.202760  620.381538   -2.091673   \n",
       "1865058  5710.793945          24774  610.714381  609.010974   -1.505878   \n",
       "1865059  5710.793945          25014  610.118935  623.460780    2.747510   \n",
       "1865060  5710.793945          25851  611.091493  612.302814   -2.088490   \n",
       "\n",
       "         y_det (cm)  pulse_pi  ion_pp  \n",
       "0         -1.117469         0       0  \n",
       "1          2.480082       807       2  \n",
       "2          0.977388       103       1  \n",
       "3          2.120327       263       1  \n",
       "4         -2.247673       560       1  \n",
       "...             ...       ...     ...  \n",
       "1865056   -2.365469         2       1  \n",
       "1865057    1.286204       110       1  \n",
       "1865058    0.684490       130       1  \n",
       "1865059    2.142612       240       1  \n",
       "1865060   -0.156000       837       1  \n",
       "\n",
       "[1865061 rows x 14 columns]"
      ]
     },
     "execution_count": 20,
     "metadata": {},
     "output_type": "execute_result"
    }
   ],
   "source": [
    "data['mc_c (Da)'] = variables.mc_calib\n",
    "data['t_c (ns)'] = variables.dld_t_calib\n",
    "data"
   ]
  },
  {
   "cell_type": "code",
   "execution_count": 21,
   "metadata": {
    "tags": []
   },
   "outputs": [],
   "source": [
    "data_c = data.copy(deep = True)"
   ]
  },
  {
   "cell_type": "code",
   "execution_count": 22,
   "metadata": {
    "tags": []
   },
   "outputs": [
    {
     "name": "stdout",
     "output_type": "stream",
     "text": [
      "The number of ions with negative mc are: 0\n"
     ]
    }
   ],
   "source": [
    "# Remove negative mc\n",
    "threshold = 0\n",
    "mc_t = data_c['mc_c (Da)'].to_numpy()\n",
    "mc_t_mask = (mc_t <= threshold)\n",
    "print('The number of ions with negative mc are:', len(mc_t_mask[mc_t_mask==True]))\n",
    "data_c.drop(np.where(mc_t_mask)[0], inplace=True)\n",
    "data_c.reset_index(inplace=True, drop=True)"
   ]
  },
  {
   "cell_type": "code",
   "execution_count": 23,
   "metadata": {
    "tags": []
   },
   "outputs": [
    {
     "data": {
      "text/html": [
       "<div>\n",
       "<style scoped>\n",
       "    .dataframe tbody tr th:only-of-type {\n",
       "        vertical-align: middle;\n",
       "    }\n",
       "\n",
       "    .dataframe tbody tr th {\n",
       "        vertical-align: top;\n",
       "    }\n",
       "\n",
       "    .dataframe thead th {\n",
       "        text-align: right;\n",
       "    }\n",
       "</style>\n",
       "<table border=\"1\" class=\"dataframe\">\n",
       "  <thead>\n",
       "    <tr style=\"text-align: right;\">\n",
       "      <th></th>\n",
       "      <th>x (nm)</th>\n",
       "      <th>y (nm)</th>\n",
       "      <th>z (nm)</th>\n",
       "      <th>mc_c (Da)</th>\n",
       "      <th>mc (Da)</th>\n",
       "      <th>high_voltage (V)</th>\n",
       "      <th>pulse</th>\n",
       "      <th>start_counter</th>\n",
       "      <th>t_c (ns)</th>\n",
       "      <th>t (ns)</th>\n",
       "      <th>x_det (cm)</th>\n",
       "      <th>y_det (cm)</th>\n",
       "      <th>pulse_pi</th>\n",
       "      <th>ion_pp</th>\n",
       "    </tr>\n",
       "  </thead>\n",
       "  <tbody>\n",
       "    <tr>\n",
       "      <th>0</th>\n",
       "      <td>0.0</td>\n",
       "      <td>0.0</td>\n",
       "      <td>0.0</td>\n",
       "      <td>27.527876</td>\n",
       "      <td>27.400991</td>\n",
       "      <td>5263.160645</td>\n",
       "      <td>5263.160645</td>\n",
       "      <td>24501</td>\n",
       "      <td>615.666522</td>\n",
       "      <td>629.290080</td>\n",
       "      <td>-0.544408</td>\n",
       "      <td>-1.117469</td>\n",
       "      <td>0</td>\n",
       "      <td>0</td>\n",
       "    </tr>\n",
       "    <tr>\n",
       "      <th>1</th>\n",
       "      <td>0.0</td>\n",
       "      <td>0.0</td>\n",
       "      <td>0.0</td>\n",
       "      <td>27.048185</td>\n",
       "      <td>27.451994</td>\n",
       "      <td>5263.160645</td>\n",
       "      <td>5263.160645</td>\n",
       "      <td>25308</td>\n",
       "      <td>610.885941</td>\n",
       "      <td>642.745476</td>\n",
       "      <td>-0.977388</td>\n",
       "      <td>2.480082</td>\n",
       "      <td>807</td>\n",
       "      <td>2</td>\n",
       "    </tr>\n",
       "    <tr>\n",
       "      <th>2</th>\n",
       "      <td>0.0</td>\n",
       "      <td>0.0</td>\n",
       "      <td>0.0</td>\n",
       "      <td>27.001281</td>\n",
       "      <td>27.008272</td>\n",
       "      <td>5263.160645</td>\n",
       "      <td>5263.160645</td>\n",
       "      <td>25411</td>\n",
       "      <td>610.416149</td>\n",
       "      <td>625.195854</td>\n",
       "      <td>0.780000</td>\n",
       "      <td>0.977388</td>\n",
       "      <td>103</td>\n",
       "      <td>1</td>\n",
       "    </tr>\n",
       "    <tr>\n",
       "      <th>3</th>\n",
       "      <td>0.0</td>\n",
       "      <td>0.0</td>\n",
       "      <td>0.0</td>\n",
       "      <td>27.218993</td>\n",
       "      <td>27.270453</td>\n",
       "      <td>5263.160645</td>\n",
       "      <td>5263.160645</td>\n",
       "      <td>25674</td>\n",
       "      <td>612.593216</td>\n",
       "      <td>636.964182</td>\n",
       "      <td>0.971020</td>\n",
       "      <td>2.120327</td>\n",
       "      <td>263</td>\n",
       "      <td>1</td>\n",
       "    </tr>\n",
       "    <tr>\n",
       "      <th>4</th>\n",
       "      <td>0.0</td>\n",
       "      <td>0.0</td>\n",
       "      <td>0.0</td>\n",
       "      <td>27.592954</td>\n",
       "      <td>26.977407</td>\n",
       "      <td>5263.160645</td>\n",
       "      <td>5263.160645</td>\n",
       "      <td>26234</td>\n",
       "      <td>616.311750</td>\n",
       "      <td>642.718044</td>\n",
       "      <td>2.072571</td>\n",
       "      <td>-2.247673</td>\n",
       "      <td>560</td>\n",
       "      <td>1</td>\n",
       "    </tr>\n",
       "    <tr>\n",
       "      <th>...</th>\n",
       "      <td>...</td>\n",
       "      <td>...</td>\n",
       "      <td>...</td>\n",
       "      <td>...</td>\n",
       "      <td>...</td>\n",
       "      <td>...</td>\n",
       "      <td>...</td>\n",
       "      <td>...</td>\n",
       "      <td>...</td>\n",
       "      <td>...</td>\n",
       "      <td>...</td>\n",
       "      <td>...</td>\n",
       "      <td>...</td>\n",
       "      <td>...</td>\n",
       "    </tr>\n",
       "    <tr>\n",
       "      <th>1865056</th>\n",
       "      <td>0.0</td>\n",
       "      <td>0.0</td>\n",
       "      <td>0.0</td>\n",
       "      <td>27.130503</td>\n",
       "      <td>26.662453</td>\n",
       "      <td>5710.793945</td>\n",
       "      <td>5710.793945</td>\n",
       "      <td>24534</td>\n",
       "      <td>611.709426</td>\n",
       "      <td>613.146348</td>\n",
       "      <td>1.579102</td>\n",
       "      <td>-2.365469</td>\n",
       "      <td>2</td>\n",
       "      <td>1</td>\n",
       "    </tr>\n",
       "    <tr>\n",
       "      <th>1865057</th>\n",
       "      <td>0.0</td>\n",
       "      <td>0.0</td>\n",
       "      <td>0.0</td>\n",
       "      <td>27.280111</td>\n",
       "      <td>27.800477</td>\n",
       "      <td>5710.793945</td>\n",
       "      <td>5710.793945</td>\n",
       "      <td>24644</td>\n",
       "      <td>613.202760</td>\n",
       "      <td>620.381538</td>\n",
       "      <td>-2.091673</td>\n",
       "      <td>1.286204</td>\n",
       "      <td>110</td>\n",
       "      <td>1</td>\n",
       "    </tr>\n",
       "    <tr>\n",
       "      <th>1865058</th>\n",
       "      <td>0.0</td>\n",
       "      <td>0.0</td>\n",
       "      <td>0.0</td>\n",
       "      <td>27.031051</td>\n",
       "      <td>27.405944</td>\n",
       "      <td>5710.793945</td>\n",
       "      <td>5710.793945</td>\n",
       "      <td>24774</td>\n",
       "      <td>610.714381</td>\n",
       "      <td>609.010974</td>\n",
       "      <td>-1.505878</td>\n",
       "      <td>0.684490</td>\n",
       "      <td>130</td>\n",
       "      <td>1</td>\n",
       "    </tr>\n",
       "    <tr>\n",
       "      <th>1865059</th>\n",
       "      <td>0.0</td>\n",
       "      <td>0.0</td>\n",
       "      <td>0.0</td>\n",
       "      <td>26.971629</td>\n",
       "      <td>26.813825</td>\n",
       "      <td>5710.793945</td>\n",
       "      <td>5710.793945</td>\n",
       "      <td>25014</td>\n",
       "      <td>610.118935</td>\n",
       "      <td>623.460780</td>\n",
       "      <td>2.747510</td>\n",
       "      <td>2.142612</td>\n",
       "      <td>240</td>\n",
       "      <td>1</td>\n",
       "    </tr>\n",
       "    <tr>\n",
       "      <th>1865060</th>\n",
       "      <td>0.0</td>\n",
       "      <td>0.0</td>\n",
       "      <td>0.0</td>\n",
       "      <td>27.068720</td>\n",
       "      <td>27.367084</td>\n",
       "      <td>5710.793945</td>\n",
       "      <td>5710.793945</td>\n",
       "      <td>25851</td>\n",
       "      <td>611.091493</td>\n",
       "      <td>612.302814</td>\n",
       "      <td>-2.088490</td>\n",
       "      <td>-0.156000</td>\n",
       "      <td>837</td>\n",
       "      <td>1</td>\n",
       "    </tr>\n",
       "  </tbody>\n",
       "</table>\n",
       "<p>1865061 rows × 14 columns</p>\n",
       "</div>"
      ],
      "text/plain": [
       "         x (nm)  y (nm)  z (nm)  mc_c (Da)    mc (Da)  high_voltage (V)  \\\n",
       "0           0.0     0.0     0.0  27.527876  27.400991       5263.160645   \n",
       "1           0.0     0.0     0.0  27.048185  27.451994       5263.160645   \n",
       "2           0.0     0.0     0.0  27.001281  27.008272       5263.160645   \n",
       "3           0.0     0.0     0.0  27.218993  27.270453       5263.160645   \n",
       "4           0.0     0.0     0.0  27.592954  26.977407       5263.160645   \n",
       "...         ...     ...     ...        ...        ...               ...   \n",
       "1865056     0.0     0.0     0.0  27.130503  26.662453       5710.793945   \n",
       "1865057     0.0     0.0     0.0  27.280111  27.800477       5710.793945   \n",
       "1865058     0.0     0.0     0.0  27.031051  27.405944       5710.793945   \n",
       "1865059     0.0     0.0     0.0  26.971629  26.813825       5710.793945   \n",
       "1865060     0.0     0.0     0.0  27.068720  27.367084       5710.793945   \n",
       "\n",
       "               pulse  start_counter    t_c (ns)      t (ns)  x_det (cm)  \\\n",
       "0        5263.160645          24501  615.666522  629.290080   -0.544408   \n",
       "1        5263.160645          25308  610.885941  642.745476   -0.977388   \n",
       "2        5263.160645          25411  610.416149  625.195854    0.780000   \n",
       "3        5263.160645          25674  612.593216  636.964182    0.971020   \n",
       "4        5263.160645          26234  616.311750  642.718044    2.072571   \n",
       "...              ...            ...         ...         ...         ...   \n",
       "1865056  5710.793945          24534  611.709426  613.146348    1.579102   \n",
       "1865057  5710.793945          24644  613.202760  620.381538   -2.091673   \n",
       "1865058  5710.793945          24774  610.714381  609.010974   -1.505878   \n",
       "1865059  5710.793945          25014  610.118935  623.460780    2.747510   \n",
       "1865060  5710.793945          25851  611.091493  612.302814   -2.088490   \n",
       "\n",
       "         y_det (cm)  pulse_pi  ion_pp  \n",
       "0         -1.117469         0       0  \n",
       "1          2.480082       807       2  \n",
       "2          0.977388       103       1  \n",
       "3          2.120327       263       1  \n",
       "4         -2.247673       560       1  \n",
       "...             ...       ...     ...  \n",
       "1865056   -2.365469         2       1  \n",
       "1865057    1.286204       110       1  \n",
       "1865058    0.684490       130       1  \n",
       "1865059    2.142612       240       1  \n",
       "1865060   -0.156000       837       1  \n",
       "\n",
       "[1865061 rows x 14 columns]"
      ]
     },
     "execution_count": 23,
     "metadata": {},
     "output_type": "execute_result"
    }
   ],
   "source": [
    "data_c"
   ]
  },
  {
   "cell_type": "code",
   "execution_count": 24,
   "metadata": {
    "tags": []
   },
   "outputs": [
    {
     "data": {
      "application/vnd.jupyter.widget-view+json": {
       "model_id": "2959fed169d54c888806b10e886e3859",
       "version_major": 2,
       "version_minor": 0
      },
      "text/plain": [
       "interactive(children=(Dropdown(description='hdf', options=(('True', True), ('False', False)), value=True), Dro…"
      ]
     },
     "metadata": {},
     "output_type": "display_data"
    }
   ],
   "source": [
    "interact_manual(data_tools.save_data, data=fixed(data_c), variables=fixed(variables),\n",
    "                hdf=widgets.Dropdown(options=[('True', True), ('False', False)]),\n",
    "                epos=widgets.Dropdown(options=[('False', False), ('True', True)]), \n",
    "                pos=widgets.Dropdown(options=[('False', False), ('True', True)]), \n",
    "                ato_6v=widgets.Dropdown(options=[('False', False), ('True', True)]), \n",
    "                csv=widgets.Dropdown(options=[('False', False), ('True', True)]));"
   ]
  },
  {
   "cell_type": "code",
   "execution_count": null,
   "metadata": {},
   "outputs": [],
   "source": []
  }
 ],
 "metadata": {
  "kernelspec": {
   "display_name": "Python 3 (ipykernel)",
   "language": "python",
   "name": "python3"
  },
  "language_info": {
   "codemirror_mode": {
    "name": "ipython",
    "version": 3
   },
   "file_extension": ".py",
   "mimetype": "text/x-python",
   "name": "python",
   "nbconvert_exporter": "python",
   "pygments_lexer": "ipython3",
   "version": "3.8.13"
  }
 },
 "nbformat": 4,
 "nbformat_minor": 4
}

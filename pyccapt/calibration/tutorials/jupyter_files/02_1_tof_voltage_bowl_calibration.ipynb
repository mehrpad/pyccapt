{
 "cells": [
  {
   "cell_type": "code",
   "execution_count": 80,
   "metadata": {
    "pycharm": {
     "name": "#%%\n"
    },
    "tags": []
   },
   "outputs": [
    {
     "name": "stdout",
     "output_type": "stream",
     "text": [
      "The autoreload extension is already loaded. To reload it, use:\n",
      "  %reload_ext autoreload\n"
     ]
    }
   ],
   "source": [
    "# Activate intractive functionality of matplotlib\n",
    "%matplotlib ipympl\n",
    "# Activate auto reload \n",
    "%load_ext autoreload\n",
    "%autoreload 2\n",
    "%reload_ext autoreload\n",
    "# import libraries\n",
    "import os\n",
    "import functools\n",
    "import numpy as np\n",
    "from scipy.optimize import curve_fit\n",
    "from ipywidgets import fixed, interact_manual, widgets\n",
    "from ipywidgets import HBox, VBox\n",
    "from IPython.display import clear_output\n",
    "from IPython.display import display\n",
    "from ipywidgets import Output\n",
    "\n",
    "# Local module and scripts\n",
    "from pyccapt.calibration.calibration_tools import tools, share_variables, calibration\n",
    "from pyccapt.calibration.calibration_tools import widgets as wd\n",
    "from pyccapt.calibration.data_tools import data_tools, data_loadcrop, dataset_path_qt"
   ]
  },
  {
   "cell_type": "code",
   "execution_count": 81,
   "metadata": {
    "tags": []
   },
   "outputs": [
    {
     "data": {
      "application/vnd.jupyter.widget-view+json": {
       "model_id": "0c1cae357ec547abadbb1e9870bbb01c",
       "version_major": 2,
       "version_minor": 0
      },
      "text/plain": [
       "Button(description='load dataset', style=ButtonStyle())"
      ]
     },
     "execution_count": 81,
     "metadata": {},
     "output_type": "execute_result"
    }
   ],
   "source": [
    "button = widgets.Button(\n",
    "    description='load dataset',\n",
    ")\n",
    "@button.on_click\n",
    "def open_file_on_click(b):\n",
    "    \"\"\"\n",
    "    Event handler for button click event.\n",
    "    Prompts the user to select a dataset file and stores the selected file path in the global variable dataset_path.\n",
    "    \"\"\"\n",
    "    global dataset_path\n",
    "    dataset_path = dataset_path_qt.gui_fname().decode('ASCII')\n",
    "button"
   ]
  },
  {
   "cell_type": "code",
   "execution_count": 82,
   "metadata": {
    "tags": []
   },
   "outputs": [
    {
     "data": {
      "application/vnd.jupyter.widget-view+json": {
       "model_id": "b052a0f8723344378158400906506cdb",
       "version_major": 2,
       "version_minor": 0
      },
      "text/plain": [
       "Dropdown(description='Data mode:', options=('PyCCAPT', 'leap_epos', 'leap_pos', 'ato_v6'), value='PyCCAPT')"
      ]
     },
     "metadata": {},
     "output_type": "display_data"
    },
    {
     "data": {
      "application/vnd.jupyter.widget-view+json": {
       "model_id": "ac6dc16435b24a05bcb8ad00edade916",
       "version_major": 2,
       "version_minor": 0
      },
      "text/plain": [
       "FloatText(value=80.0, description='Detector diameter:')"
      ]
     },
     "metadata": {},
     "output_type": "display_data"
    },
    {
     "data": {
      "application/vnd.jupyter.widget-view+json": {
       "model_id": "98480369f20f4faaac2e75b39136d850",
       "version_major": 2,
       "version_minor": 0
      },
      "text/plain": [
       "Dropdown(description='Pulse mode:', options=('voltage', 'laser'), value='voltage')"
      ]
     },
     "metadata": {},
     "output_type": "display_data"
    },
    {
     "data": {
      "application/vnd.jupyter.widget-view+json": {
       "model_id": "0e5b6429d04a42c1b6c47a4bb627beca",
       "version_major": 2,
       "version_minor": 0
      },
      "text/plain": [
       "FloatText(value=110.0, description='Flight path length:')"
      ]
     },
     "metadata": {},
     "output_type": "display_data"
    },
    {
     "data": {
      "application/vnd.jupyter.widget-view+json": {
       "model_id": "fe41f16517a743e8b2e497629373f96a",
       "version_major": 2,
       "version_minor": 0
      },
      "text/plain": [
       "FloatText(value=54.0, description='t0:')"
      ]
     },
     "metadata": {},
     "output_type": "display_data"
    }
   ],
   "source": [
    "tdc, pulse_mode, flightPathLength_d, t0_d, max_mc, det_diam = wd.dataset_instrument_specification_selection()\n",
    "display(tdc, det_diam, pulse_mode, flightPathLength_d, t0_d)"
   ]
  },
  {
   "cell_type": "markdown",
   "metadata": {
    "pycharm": {
     "name": "#%% md\n"
    }
   },
   "source": [
    "$$\\textbf{You can specify which dataset to use in below block}$$"
   ]
  },
  {
   "cell_type": "code",
   "execution_count": 83,
   "metadata": {
    "tags": []
   },
   "outputs": [
    {
     "name": "stdout",
     "output_type": "stream",
     "text": [
      "The maximum time of flight: 5010\n"
     ]
    }
   ],
   "source": [
    "# exctract needed data from Pandas data frame as an numpy array\n",
    "# create an instance of the Variables opject\n",
    "variables = share_variables.Variables()\n",
    "variables.pulse_mode = pulse_mode\n",
    "dataset_main_path = os.path.dirname(dataset_path)\n",
    "dataset_name_with_extention = os.path.basename(dataset_path)\n",
    "variables.dataset_name = os.path.splitext(dataset_name_with_extention)[0]\n",
    "variables.result_data_path = dataset_main_path \n",
    "variables.result_data_name = 'tof_calibration_' + variables.dataset_name\n",
    "variables.result_path = dataset_main_path + '/' + '/tof_calibration/'\n",
    "\n",
    "if not os.path.isdir(variables.result_path):\n",
    "    os.makedirs(variables.result_path, mode=0o777, exist_ok=True)\n",
    "    \n",
    "# Create data farame out of hdf5 file dataset\n",
    "data = data_tools.load_data(dataset_path, tdc.value, mode='processed')\n",
    "# extract data from the path and create the Variable object\n",
    "data_tools.extract_data(data, variables, flightPathLength_d.value, max_mc.value)"
   ]
  },
  {
   "cell_type": "code",
   "execution_count": 84,
   "metadata": {
    "tags": []
   },
   "outputs": [
    {
     "name": "stdout",
     "output_type": "stream",
     "text": [
      "The data will be saved on the path: D:/pyccapt/tests/data/data_1647_Sep-01-2023_16-58_Pd_35_unchargedV2\n",
      "=============================\n",
      "The dataset name after saving is: tof_calibration_cropped_data_1647_Sep-01-2023_16-58_Pd_35_unchargedV2\n",
      "=============================\n",
      "The figures will be saved on the path: D:/pyccapt/tests/data/data_1647_Sep-01-2023_16-58_Pd_35_unchargedV2//tof_calibration/\n",
      "=============================\n",
      "Total number of Ions: 497764\n"
     ]
    },
    {
     "data": {
      "text/html": [
       "<div>\n",
       "<style scoped>\n",
       "    .dataframe tbody tr th:only-of-type {\n",
       "        vertical-align: middle;\n",
       "    }\n",
       "\n",
       "    .dataframe tbody tr th {\n",
       "        vertical-align: top;\n",
       "    }\n",
       "\n",
       "    .dataframe thead th {\n",
       "        text-align: right;\n",
       "    }\n",
       "</style>\n",
       "<table border=\"1\" class=\"dataframe\">\n",
       "  <thead>\n",
       "    <tr style=\"text-align: right;\">\n",
       "      <th></th>\n",
       "      <th>x (nm)</th>\n",
       "      <th>y (nm)</th>\n",
       "      <th>z (nm)</th>\n",
       "      <th>mc_c (Da)</th>\n",
       "      <th>mc (Da)</th>\n",
       "      <th>high_voltage (V)</th>\n",
       "      <th>pulse</th>\n",
       "      <th>start_counter</th>\n",
       "      <th>t_c (ns)</th>\n",
       "      <th>t (ns)</th>\n",
       "      <th>x_det (cm)</th>\n",
       "      <th>y_det (cm)</th>\n",
       "      <th>pulse_pi</th>\n",
       "      <th>ion_pp</th>\n",
       "    </tr>\n",
       "  </thead>\n",
       "  <tbody>\n",
       "    <tr>\n",
       "      <th>0</th>\n",
       "      <td>0.0</td>\n",
       "      <td>0.0</td>\n",
       "      <td>0.0</td>\n",
       "      <td>0.0</td>\n",
       "      <td>61.157136</td>\n",
       "      <td>4751.734863</td>\n",
       "      <td>712.760254</td>\n",
       "      <td>15294</td>\n",
       "      <td>0.0</td>\n",
       "      <td>888.488220</td>\n",
       "      <td>0.156735</td>\n",
       "      <td>1.910204</td>\n",
       "      <td>0</td>\n",
       "      <td>0</td>\n",
       "    </tr>\n",
       "    <tr>\n",
       "      <th>1</th>\n",
       "      <td>0.0</td>\n",
       "      <td>0.0</td>\n",
       "      <td>0.0</td>\n",
       "      <td>0.0</td>\n",
       "      <td>61.688395</td>\n",
       "      <td>4751.734863</td>\n",
       "      <td>712.760254</td>\n",
       "      <td>16307</td>\n",
       "      <td>0.0</td>\n",
       "      <td>912.779236</td>\n",
       "      <td>2.827755</td>\n",
       "      <td>1.293061</td>\n",
       "      <td>1013</td>\n",
       "      <td>2</td>\n",
       "    </tr>\n",
       "    <tr>\n",
       "      <th>2</th>\n",
       "      <td>0.0</td>\n",
       "      <td>0.0</td>\n",
       "      <td>0.0</td>\n",
       "      <td>0.0</td>\n",
       "      <td>61.432604</td>\n",
       "      <td>4751.734863</td>\n",
       "      <td>712.760254</td>\n",
       "      <td>16327</td>\n",
       "      <td>0.0</td>\n",
       "      <td>881.479309</td>\n",
       "      <td>0.195918</td>\n",
       "      <td>-1.031837</td>\n",
       "      <td>20</td>\n",
       "      <td>1</td>\n",
       "    </tr>\n",
       "    <tr>\n",
       "      <th>3</th>\n",
       "      <td>0.0</td>\n",
       "      <td>0.0</td>\n",
       "      <td>0.0</td>\n",
       "      <td>0.0</td>\n",
       "      <td>63.528767</td>\n",
       "      <td>4751.734863</td>\n",
       "      <td>712.760254</td>\n",
       "      <td>17860</td>\n",
       "      <td>0.0</td>\n",
       "      <td>902.348206</td>\n",
       "      <td>1.270204</td>\n",
       "      <td>1.139592</td>\n",
       "      <td>1533</td>\n",
       "      <td>1</td>\n",
       "    </tr>\n",
       "    <tr>\n",
       "      <th>4</th>\n",
       "      <td>0.0</td>\n",
       "      <td>0.0</td>\n",
       "      <td>0.0</td>\n",
       "      <td>0.0</td>\n",
       "      <td>226.379812</td>\n",
       "      <td>4751.734863</td>\n",
       "      <td>712.760254</td>\n",
       "      <td>17861</td>\n",
       "      <td>0.0</td>\n",
       "      <td>1701.812744</td>\n",
       "      <td>-0.653061</td>\n",
       "      <td>-2.422857</td>\n",
       "      <td>1</td>\n",
       "      <td>1</td>\n",
       "    </tr>\n",
       "    <tr>\n",
       "      <th>...</th>\n",
       "      <td>...</td>\n",
       "      <td>...</td>\n",
       "      <td>...</td>\n",
       "      <td>...</td>\n",
       "      <td>...</td>\n",
       "      <td>...</td>\n",
       "      <td>...</td>\n",
       "      <td>...</td>\n",
       "      <td>...</td>\n",
       "      <td>...</td>\n",
       "      <td>...</td>\n",
       "      <td>...</td>\n",
       "      <td>...</td>\n",
       "      <td>...</td>\n",
       "    </tr>\n",
       "    <tr>\n",
       "      <th>497759</th>\n",
       "      <td>0.0</td>\n",
       "      <td>0.0</td>\n",
       "      <td>0.0</td>\n",
       "      <td>0.0</td>\n",
       "      <td>62.117178</td>\n",
       "      <td>9779.985352</td>\n",
       "      <td>1466.997803</td>\n",
       "      <td>12296</td>\n",
       "      <td>0.0</td>\n",
       "      <td>628.494568</td>\n",
       "      <td>-0.088163</td>\n",
       "      <td>1.466123</td>\n",
       "      <td>2</td>\n",
       "      <td>1</td>\n",
       "    </tr>\n",
       "    <tr>\n",
       "      <th>497760</th>\n",
       "      <td>0.0</td>\n",
       "      <td>0.0</td>\n",
       "      <td>0.0</td>\n",
       "      <td>0.0</td>\n",
       "      <td>59.659543</td>\n",
       "      <td>9779.985352</td>\n",
       "      <td>1466.997803</td>\n",
       "      <td>12435</td>\n",
       "      <td>0.0</td>\n",
       "      <td>634.563904</td>\n",
       "      <td>2.654694</td>\n",
       "      <td>-1.668571</td>\n",
       "      <td>139</td>\n",
       "      <td>1</td>\n",
       "    </tr>\n",
       "    <tr>\n",
       "      <th>497761</th>\n",
       "      <td>0.0</td>\n",
       "      <td>0.0</td>\n",
       "      <td>0.0</td>\n",
       "      <td>0.0</td>\n",
       "      <td>61.896671</td>\n",
       "      <td>9779.985352</td>\n",
       "      <td>1466.997803</td>\n",
       "      <td>12504</td>\n",
       "      <td>0.0</td>\n",
       "      <td>626.183411</td>\n",
       "      <td>-0.186122</td>\n",
       "      <td>1.270204</td>\n",
       "      <td>69</td>\n",
       "      <td>1</td>\n",
       "    </tr>\n",
       "    <tr>\n",
       "      <th>497762</th>\n",
       "      <td>0.0</td>\n",
       "      <td>0.0</td>\n",
       "      <td>0.0</td>\n",
       "      <td>0.0</td>\n",
       "      <td>48.688104</td>\n",
       "      <td>9779.985352</td>\n",
       "      <td>1466.997803</td>\n",
       "      <td>13021</td>\n",
       "      <td>0.0</td>\n",
       "      <td>558.090332</td>\n",
       "      <td>-0.143673</td>\n",
       "      <td>-1.214694</td>\n",
       "      <td>517</td>\n",
       "      <td>1</td>\n",
       "    </tr>\n",
       "    <tr>\n",
       "      <th>497763</th>\n",
       "      <td>0.0</td>\n",
       "      <td>0.0</td>\n",
       "      <td>0.0</td>\n",
       "      <td>0.0</td>\n",
       "      <td>59.555009</td>\n",
       "      <td>9779.985352</td>\n",
       "      <td>1466.997803</td>\n",
       "      <td>13315</td>\n",
       "      <td>0.0</td>\n",
       "      <td>633.967224</td>\n",
       "      <td>2.984490</td>\n",
       "      <td>-0.946939</td>\n",
       "      <td>294</td>\n",
       "      <td>1</td>\n",
       "    </tr>\n",
       "  </tbody>\n",
       "</table>\n",
       "<p>497764 rows × 14 columns</p>\n",
       "</div>"
      ],
      "text/plain": [
       "        x (nm)  y (nm)  z (nm)  mc_c (Da)     mc (Da)  high_voltage (V)  \\\n",
       "0          0.0     0.0     0.0        0.0   61.157136       4751.734863   \n",
       "1          0.0     0.0     0.0        0.0   61.688395       4751.734863   \n",
       "2          0.0     0.0     0.0        0.0   61.432604       4751.734863   \n",
       "3          0.0     0.0     0.0        0.0   63.528767       4751.734863   \n",
       "4          0.0     0.0     0.0        0.0  226.379812       4751.734863   \n",
       "...        ...     ...     ...        ...         ...               ...   \n",
       "497759     0.0     0.0     0.0        0.0   62.117178       9779.985352   \n",
       "497760     0.0     0.0     0.0        0.0   59.659543       9779.985352   \n",
       "497761     0.0     0.0     0.0        0.0   61.896671       9779.985352   \n",
       "497762     0.0     0.0     0.0        0.0   48.688104       9779.985352   \n",
       "497763     0.0     0.0     0.0        0.0   59.555009       9779.985352   \n",
       "\n",
       "              pulse  start_counter  t_c (ns)       t (ns)  x_det (cm)  \\\n",
       "0        712.760254          15294       0.0   888.488220    0.156735   \n",
       "1        712.760254          16307       0.0   912.779236    2.827755   \n",
       "2        712.760254          16327       0.0   881.479309    0.195918   \n",
       "3        712.760254          17860       0.0   902.348206    1.270204   \n",
       "4        712.760254          17861       0.0  1701.812744   -0.653061   \n",
       "...             ...            ...       ...          ...         ...   \n",
       "497759  1466.997803          12296       0.0   628.494568   -0.088163   \n",
       "497760  1466.997803          12435       0.0   634.563904    2.654694   \n",
       "497761  1466.997803          12504       0.0   626.183411   -0.186122   \n",
       "497762  1466.997803          13021       0.0   558.090332   -0.143673   \n",
       "497763  1466.997803          13315       0.0   633.967224    2.984490   \n",
       "\n",
       "        y_det (cm)  pulse_pi  ion_pp  \n",
       "0         1.910204         0       0  \n",
       "1         1.293061      1013       2  \n",
       "2        -1.031837        20       1  \n",
       "3         1.139592      1533       1  \n",
       "4        -2.422857         1       1  \n",
       "...            ...       ...     ...  \n",
       "497759    1.466123         2       1  \n",
       "497760   -1.668571       139       1  \n",
       "497761    1.270204        69       1  \n",
       "497762   -1.214694       517       1  \n",
       "497763   -0.946939       294       1  \n",
       "\n",
       "[497764 rows x 14 columns]"
      ]
     },
     "execution_count": 84,
     "metadata": {},
     "output_type": "execute_result"
    }
   ],
   "source": [
    "print('The data will be saved on the path:', variables.result_data_path)\n",
    "print('=============================')\n",
    "print('The dataset name after saving is:', variables.result_data_name)\n",
    "print('=============================')\n",
    "print('The figures will be saved on the path:', variables.result_path)\n",
    "print('=============================')\n",
    "print('Total number of Ions:', len(data))\n",
    "data"
   ]
  },
  {
   "cell_type": "code",
   "execution_count": 85,
   "metadata": {
    "tags": []
   },
   "outputs": [
    {
     "name": "stderr",
     "output_type": "stream",
     "text": [
      "C:\\Users\\APTUser\\AppData\\Local\\Temp\\ipykernel_24896\\2178511811.py:1: DeprecationWarning: on_submit is deprecated. Instead, set the .continuous_update attribute to False and observe the value changing with: mywidget.observe(callback, 'value').\n",
      "  interact_manual(data_loadcrop.plot_crop_experiment_history, data=fixed(data), variables=fixed(variables), max_tof=widgets.FloatText(value=variables.max_tof), frac=widgets.FloatText(value=1.0),\n"
     ]
    },
    {
     "data": {
      "application/vnd.jupyter.widget-view+json": {
       "model_id": "ac02e34207f24afea834c5dc81ee47b0",
       "version_major": 2,
       "version_minor": 0
      },
      "text/plain": [
       "interactive(children=(FloatText(value=5010.0, description='max_tof'), FloatText(value=1.0, description='frac')…"
      ]
     },
     "metadata": {},
     "output_type": "display_data"
    }
   ],
   "source": [
    "interact_manual(data_loadcrop.plot_crop_experiment_history, data=fixed(data), variables=fixed(variables), max_tof=widgets.FloatText(value=variables.max_tof), frac=widgets.FloatText(value=1.0),\n",
    "                bins=fixed((1200,800)), figure_size=fixed((7,3)),\n",
    "               draw_rect=fixed(False), data_crop=fixed(False), pulse_plot=widgets.Dropdown(options=[('False', False), ('True', True)]), dc_plot=widgets.Dropdown(options=[('True', True), ('False', False)]),\n",
    "                pulse_mode=widgets.Dropdown(options=[('voltage', 'voltage'), ('laser', 'laser')]), save=widgets.Dropdown(options=[('True', True), ('False', False)]),\n",
    "               figname=widgets.Text(value='exp_hist'));"
   ]
  },
  {
   "cell_type": "code",
   "execution_count": 86,
   "metadata": {
    "tags": []
   },
   "outputs": [
    {
     "name": "stdout",
     "output_type": "stream",
     "text": [
      "The maximum time of flight: 5010\n"
     ]
    },
    {
     "data": {
      "text/html": [
       "<div>\n",
       "<style scoped>\n",
       "    .dataframe tbody tr th:only-of-type {\n",
       "        vertical-align: middle;\n",
       "    }\n",
       "\n",
       "    .dataframe tbody tr th {\n",
       "        vertical-align: top;\n",
       "    }\n",
       "\n",
       "    .dataframe thead th {\n",
       "        text-align: right;\n",
       "    }\n",
       "</style>\n",
       "<table border=\"1\" class=\"dataframe\">\n",
       "  <thead>\n",
       "    <tr style=\"text-align: right;\">\n",
       "      <th></th>\n",
       "      <th>x (nm)</th>\n",
       "      <th>y (nm)</th>\n",
       "      <th>z (nm)</th>\n",
       "      <th>mc_c (Da)</th>\n",
       "      <th>mc (Da)</th>\n",
       "      <th>high_voltage (V)</th>\n",
       "      <th>pulse</th>\n",
       "      <th>start_counter</th>\n",
       "      <th>t_c (ns)</th>\n",
       "      <th>t (ns)</th>\n",
       "      <th>x_det (cm)</th>\n",
       "      <th>y_det (cm)</th>\n",
       "      <th>pulse_pi</th>\n",
       "      <th>ion_pp</th>\n",
       "    </tr>\n",
       "  </thead>\n",
       "  <tbody>\n",
       "    <tr>\n",
       "      <th>0</th>\n",
       "      <td>0.0</td>\n",
       "      <td>0.0</td>\n",
       "      <td>0.0</td>\n",
       "      <td>0.0</td>\n",
       "      <td>0.0</td>\n",
       "      <td>4751.734863</td>\n",
       "      <td>712.760254</td>\n",
       "      <td>15294</td>\n",
       "      <td>0.0</td>\n",
       "      <td>888.488220</td>\n",
       "      <td>0.156735</td>\n",
       "      <td>1.910204</td>\n",
       "      <td>0</td>\n",
       "      <td>0</td>\n",
       "    </tr>\n",
       "    <tr>\n",
       "      <th>1</th>\n",
       "      <td>0.0</td>\n",
       "      <td>0.0</td>\n",
       "      <td>0.0</td>\n",
       "      <td>0.0</td>\n",
       "      <td>0.0</td>\n",
       "      <td>4751.734863</td>\n",
       "      <td>712.760254</td>\n",
       "      <td>16307</td>\n",
       "      <td>0.0</td>\n",
       "      <td>912.779236</td>\n",
       "      <td>2.827755</td>\n",
       "      <td>1.293061</td>\n",
       "      <td>1013</td>\n",
       "      <td>2</td>\n",
       "    </tr>\n",
       "    <tr>\n",
       "      <th>2</th>\n",
       "      <td>0.0</td>\n",
       "      <td>0.0</td>\n",
       "      <td>0.0</td>\n",
       "      <td>0.0</td>\n",
       "      <td>0.0</td>\n",
       "      <td>4751.734863</td>\n",
       "      <td>712.760254</td>\n",
       "      <td>16327</td>\n",
       "      <td>0.0</td>\n",
       "      <td>881.479309</td>\n",
       "      <td>0.195918</td>\n",
       "      <td>-1.031837</td>\n",
       "      <td>20</td>\n",
       "      <td>1</td>\n",
       "    </tr>\n",
       "    <tr>\n",
       "      <th>3</th>\n",
       "      <td>0.0</td>\n",
       "      <td>0.0</td>\n",
       "      <td>0.0</td>\n",
       "      <td>0.0</td>\n",
       "      <td>0.0</td>\n",
       "      <td>4751.734863</td>\n",
       "      <td>712.760254</td>\n",
       "      <td>17860</td>\n",
       "      <td>0.0</td>\n",
       "      <td>902.348206</td>\n",
       "      <td>1.270204</td>\n",
       "      <td>1.139592</td>\n",
       "      <td>1533</td>\n",
       "      <td>1</td>\n",
       "    </tr>\n",
       "    <tr>\n",
       "      <th>4</th>\n",
       "      <td>0.0</td>\n",
       "      <td>0.0</td>\n",
       "      <td>0.0</td>\n",
       "      <td>0.0</td>\n",
       "      <td>0.0</td>\n",
       "      <td>4751.734863</td>\n",
       "      <td>712.760254</td>\n",
       "      <td>17861</td>\n",
       "      <td>0.0</td>\n",
       "      <td>1701.812744</td>\n",
       "      <td>-0.653061</td>\n",
       "      <td>-2.422857</td>\n",
       "      <td>1</td>\n",
       "      <td>1</td>\n",
       "    </tr>\n",
       "    <tr>\n",
       "      <th>...</th>\n",
       "      <td>...</td>\n",
       "      <td>...</td>\n",
       "      <td>...</td>\n",
       "      <td>...</td>\n",
       "      <td>...</td>\n",
       "      <td>...</td>\n",
       "      <td>...</td>\n",
       "      <td>...</td>\n",
       "      <td>...</td>\n",
       "      <td>...</td>\n",
       "      <td>...</td>\n",
       "      <td>...</td>\n",
       "      <td>...</td>\n",
       "      <td>...</td>\n",
       "    </tr>\n",
       "    <tr>\n",
       "      <th>497759</th>\n",
       "      <td>0.0</td>\n",
       "      <td>0.0</td>\n",
       "      <td>0.0</td>\n",
       "      <td>0.0</td>\n",
       "      <td>0.0</td>\n",
       "      <td>9779.985352</td>\n",
       "      <td>1466.997803</td>\n",
       "      <td>12296</td>\n",
       "      <td>0.0</td>\n",
       "      <td>628.494568</td>\n",
       "      <td>-0.088163</td>\n",
       "      <td>1.466123</td>\n",
       "      <td>2</td>\n",
       "      <td>1</td>\n",
       "    </tr>\n",
       "    <tr>\n",
       "      <th>497760</th>\n",
       "      <td>0.0</td>\n",
       "      <td>0.0</td>\n",
       "      <td>0.0</td>\n",
       "      <td>0.0</td>\n",
       "      <td>0.0</td>\n",
       "      <td>9779.985352</td>\n",
       "      <td>1466.997803</td>\n",
       "      <td>12435</td>\n",
       "      <td>0.0</td>\n",
       "      <td>634.563904</td>\n",
       "      <td>2.654694</td>\n",
       "      <td>-1.668571</td>\n",
       "      <td>139</td>\n",
       "      <td>1</td>\n",
       "    </tr>\n",
       "    <tr>\n",
       "      <th>497761</th>\n",
       "      <td>0.0</td>\n",
       "      <td>0.0</td>\n",
       "      <td>0.0</td>\n",
       "      <td>0.0</td>\n",
       "      <td>0.0</td>\n",
       "      <td>9779.985352</td>\n",
       "      <td>1466.997803</td>\n",
       "      <td>12504</td>\n",
       "      <td>0.0</td>\n",
       "      <td>626.183411</td>\n",
       "      <td>-0.186122</td>\n",
       "      <td>1.270204</td>\n",
       "      <td>69</td>\n",
       "      <td>1</td>\n",
       "    </tr>\n",
       "    <tr>\n",
       "      <th>497762</th>\n",
       "      <td>0.0</td>\n",
       "      <td>0.0</td>\n",
       "      <td>0.0</td>\n",
       "      <td>0.0</td>\n",
       "      <td>0.0</td>\n",
       "      <td>9779.985352</td>\n",
       "      <td>1466.997803</td>\n",
       "      <td>13021</td>\n",
       "      <td>0.0</td>\n",
       "      <td>558.090332</td>\n",
       "      <td>-0.143673</td>\n",
       "      <td>-1.214694</td>\n",
       "      <td>517</td>\n",
       "      <td>1</td>\n",
       "    </tr>\n",
       "    <tr>\n",
       "      <th>497763</th>\n",
       "      <td>0.0</td>\n",
       "      <td>0.0</td>\n",
       "      <td>0.0</td>\n",
       "      <td>0.0</td>\n",
       "      <td>0.0</td>\n",
       "      <td>9779.985352</td>\n",
       "      <td>1466.997803</td>\n",
       "      <td>13315</td>\n",
       "      <td>0.0</td>\n",
       "      <td>633.967224</td>\n",
       "      <td>2.984490</td>\n",
       "      <td>-0.946939</td>\n",
       "      <td>294</td>\n",
       "      <td>1</td>\n",
       "    </tr>\n",
       "  </tbody>\n",
       "</table>\n",
       "<p>497764 rows × 14 columns</p>\n",
       "</div>"
      ],
      "text/plain": [
       "        x (nm)  y (nm)  z (nm)  mc_c (Da)  mc (Da)  high_voltage (V)  \\\n",
       "0          0.0     0.0     0.0        0.0      0.0       4751.734863   \n",
       "1          0.0     0.0     0.0        0.0      0.0       4751.734863   \n",
       "2          0.0     0.0     0.0        0.0      0.0       4751.734863   \n",
       "3          0.0     0.0     0.0        0.0      0.0       4751.734863   \n",
       "4          0.0     0.0     0.0        0.0      0.0       4751.734863   \n",
       "...        ...     ...     ...        ...      ...               ...   \n",
       "497759     0.0     0.0     0.0        0.0      0.0       9779.985352   \n",
       "497760     0.0     0.0     0.0        0.0      0.0       9779.985352   \n",
       "497761     0.0     0.0     0.0        0.0      0.0       9779.985352   \n",
       "497762     0.0     0.0     0.0        0.0      0.0       9779.985352   \n",
       "497763     0.0     0.0     0.0        0.0      0.0       9779.985352   \n",
       "\n",
       "              pulse  start_counter  t_c (ns)       t (ns)  x_det (cm)  \\\n",
       "0        712.760254          15294       0.0   888.488220    0.156735   \n",
       "1        712.760254          16307       0.0   912.779236    2.827755   \n",
       "2        712.760254          16327       0.0   881.479309    0.195918   \n",
       "3        712.760254          17860       0.0   902.348206    1.270204   \n",
       "4        712.760254          17861       0.0  1701.812744   -0.653061   \n",
       "...             ...            ...       ...          ...         ...   \n",
       "497759  1466.997803          12296       0.0   628.494568   -0.088163   \n",
       "497760  1466.997803          12435       0.0   634.563904    2.654694   \n",
       "497761  1466.997803          12504       0.0   626.183411   -0.186122   \n",
       "497762  1466.997803          13021       0.0   558.090332   -0.143673   \n",
       "497763  1466.997803          13315       0.0   633.967224    2.984490   \n",
       "\n",
       "        y_det (cm)  pulse_pi  ion_pp  \n",
       "0         1.910204         0       0  \n",
       "1         1.293061      1013       2  \n",
       "2        -1.031837        20       1  \n",
       "3         1.139592      1533       1  \n",
       "4        -2.422857         1       1  \n",
       "...            ...       ...     ...  \n",
       "497759    1.466123         2       1  \n",
       "497760   -1.668571       139       1  \n",
       "497761    1.270204        69       1  \n",
       "497762   -1.214694       517       1  \n",
       "497763   -0.946939       294       1  \n",
       "\n",
       "[497764 rows x 14 columns]"
      ]
     },
     "execution_count": 86,
     "metadata": {},
     "output_type": "execute_result"
    }
   ],
   "source": [
    "data['mc (Da)'] = data['mc_c (Da)'].to_numpy()\n",
    "data_tools.extract_data(data, variables, flightPathLength_d.value, max_mc.value)\n",
    "data"
   ]
  },
  {
   "cell_type": "code",
   "execution_count": 87,
   "metadata": {
    "tags": []
   },
   "outputs": [
    {
     "name": "stderr",
     "output_type": "stream",
     "text": [
      "C:\\Users\\APTUser\\AppData\\Local\\Temp\\ipykernel_24896\\2908251488.py:1: DeprecationWarning: on_submit is deprecated. Instead, set the .continuous_update attribute to False and observe the value changing with: mywidget.observe(callback, 'value').\n",
      "  interact_manual(tools.mc_hist_plot, variables=fixed(variables), bin_size=widgets.FloatText(value=0.1),\n"
     ]
    },
    {
     "data": {
      "application/vnd.jupyter.widget-view+json": {
       "model_id": "88683f8eed7d4f82ae4228374a81c0d3",
       "version_major": 2,
       "version_minor": 0
      },
      "text/plain": [
       "interactive(children=(FloatText(value=0.1, description='bin_size'), Dropdown(description='mode', options=(('mc…"
      ]
     },
     "metadata": {},
     "output_type": "display_data"
    }
   ],
   "source": [
    "interact_manual(tools.mc_hist_plot, variables=fixed(variables), bin_size=widgets.FloatText(value=0.1), \n",
    "                mode=widgets.Dropdown(options=[('mc', 'mc'), ('tof', 'tof')]), prominence=widgets.IntText(value=50), distance=widgets.IntText(value=100), \n",
    "                lim=widgets.IntText(value=5000), percent=widgets.IntText(value=50), selector=fixed('None'), plot=fixed(True), figname=widgets.Text(value='hist'),\n",
    "                peaks_find_plot=fixed(False));"
   ]
  },
  {
   "cell_type": "markdown",
   "metadata": {
    "pycharm": {
     "name": "#%% md\n"
    }
   },
   "source": [
    "$$\\textbf{Below plotted graph offers peak selection. You can select relevant peaks you want for computation.}$$"
   ]
  },
  {
   "cell_type": "code",
   "execution_count": 88,
   "metadata": {
    "tags": []
   },
   "outputs": [],
   "source": [
    "bin_size=widgets.FloatText(value=0.1, description='bin size:')\n",
    "prominence=widgets.IntText(value=100, description='peak prominance:')\n",
    "distance=widgets.IntText(value=500, description='peak distance:')\n",
    "lim_tof=widgets.IntText(value=variables.max_tof, description='lim tof/mc:')\n",
    "percent=widgets.IntText(value=50, description='percent MRP:')\n",
    "index_fig = widgets.IntText(value=1, description='fig index:')\n",
    "\n",
    "def hist_plot(variables, plot):\n",
    "    \n",
    "    with out:\n",
    "        clear_output(True)\n",
    "    \n",
    "        bin_size_p = bin_size.value\n",
    "        prominence_p = prominence.value\n",
    "        distance_p = distance.value\n",
    "        lim_tof_p = lim_tof.value\n",
    "        percent_p = percent.value\n",
    "        index_fig_p = index_fig.value\n",
    "        tools.mc_hist_plot(variables, bin_size_p, mode='tof', prominence=prominence_p, distance=distance_p, percent=percent_p, selector='rect', plot=True, figname=index_fig_p, lim=lim_tof_p,\n",
    "                          peaks_find_plot=False)"
   ]
  },
  {
   "cell_type": "code",
   "execution_count": 89,
   "metadata": {
    "tags": []
   },
   "outputs": [],
   "source": [
    "sample_size_b = widgets.IntText(value=11, description='sample size:') \n",
    "index_fig_b = widgets.IntText(value=1, description='fig index:')\n",
    "maximum_cal_method_b = widgets.Dropdown(\n",
    "    options=[('mean', 'mean'), ('histogram', 'histogram')],\n",
    "    description='calib method:'\n",
    ")\n",
    "plot_b = widgets.Dropdown(\n",
    "    options=[('False', False), ('True', True)],\n",
    "    description='plot fig:'\n",
    ")\n",
    "\n",
    "save_b = widgets.Dropdown(\n",
    "    options=[('False', False), ('True', True)],\n",
    "    description='save fig:'\n",
    ")\n",
    "apply_b = widgets.Dropdown(\n",
    "    options=[('all', 'all'), ('temporal', 'temporal'),],\n",
    "    description='apply mode:'\n",
    ")\n",
    "def bowl_correction(dld_x, dld_y, dld_highVoltage, variables):\n",
    "    with out:\n",
    "        sample_size_p = sample_size_b.value\n",
    "        index_fig_p = index_fig_b.value\n",
    "        plot_p = plot_b.value\n",
    "        save_p = save_b.value\n",
    "        maximum_cal_method_p = maximum_cal_method_b.value\n",
    "        calibration.bowl_correction_main(dld_x, dld_y, dld_highVoltage, variables, det_diam.value, sample_size=sample_size_p, maximum_cal_method=maximum_cal_method_p, apply_local=apply_b.value,\n",
    "                                         calibration_mode='tof', index_fig=index_fig_p, plot=plot_p, save=save_p)\n"
   ]
  },
  {
   "cell_type": "code",
   "execution_count": 90,
   "metadata": {
    "tags": []
   },
   "outputs": [],
   "source": [
    "sample_size_v =widgets.IntText(value=100, description='sample size:') \n",
    "index_fig_v = widgets.IntText(value=1, description='fig index:')\n",
    "plot_v = widgets.Dropdown(\n",
    "    options=[('False', False), ('True', True)],\n",
    "    description='plot fig:'\n",
    ")\n",
    "save_v = widgets.Dropdown(\n",
    "    options=[('False', False), ('True', True)],\n",
    "    description='save fig:'\n",
    ")\n",
    "mode_v = widgets.Dropdown(\n",
    "    options=[('ion_seq', 'ion_seq'), ('voltage', 'voltage')],\n",
    "    description='sample mode:'\n",
    ")\n",
    "peak_mode = widgets.Dropdown(\n",
    "    options=[('peak', 'peak'), ('mean', 'mean'), ('median', 'median')],\n",
    "    description='peak mode:'\n",
    ")\n",
    "num_cluster = widgets.IntText(value=1, description='num_cluster:')\n",
    "apply_v = widgets.Dropdown(\n",
    "    options=[('all', 'all'), ('voltage', 'voltage'), ('voltage_temporal', 'voltage_temporal')],\n",
    "    description='apply mode:'\n",
    ")\n",
    "def vol_correction(dld_highVoltage, variables):\n",
    "    with out:\n",
    "        sample_size_p = sample_size_v.value\n",
    "        index_fig_p = index_fig_v.value\n",
    "        plot_p = plot_v.value\n",
    "        save_p = save_v.value\n",
    "        mode_p = mode_v.value\n",
    "        peak_mode_p = peak_mode.value\n",
    "        calibration.voltage_corr_main(dld_highVoltage, variables, sample_size=sample_size_p, calibration_mode='tof',\n",
    "                                        index_fig=index_fig_p, plot=plot_p, save=save_p, apply_local=apply_v.value, num_cluster=num_cluster.value, mode=mode_p, peak_mode=peak_mode_p)\n"
   ]
  },
  {
   "cell_type": "code",
   "execution_count": 91,
   "metadata": {
    "tags": []
   },
   "outputs": [
    {
     "data": {
      "application/vnd.jupyter.widget-view+json": {
       "model_id": "d9cfc60dbb7740efa12b25ba9535db16",
       "version_major": 2,
       "version_minor": 0
      },
      "text/plain": [
       "VBox(children=(Tab(children=(VBox(children=(FloatText(value=0.1, description='bin size:'), IntText(value=1, de…"
      ]
     },
     "metadata": {},
     "output_type": "display_data"
    },
    {
     "data": {
      "application/vnd.jupyter.widget-view+json": {
       "model_id": "6c1f0e724f904958814918b9169baa04",
       "version_major": 2,
       "version_minor": 0
      },
      "text/plain": [
       "Output()"
      ]
     },
     "metadata": {},
     "output_type": "display_data"
    }
   ],
   "source": [
    "pb_bowl = widgets.HTML(\n",
    "    value=\" \",\n",
    "    placeholder='Status:',\n",
    "    description='Status:',\n",
    ")\n",
    "pb_vol = widgets.HTML(\n",
    "    value=\" \",\n",
    "    placeholder='Status:',\n",
    "    description='Status:',\n",
    ")\n",
    "plot_button = widgets.Button(\n",
    "    description='plot hist',\n",
    ")\n",
    "plot_stat_button = widgets.Button(\n",
    "    description='plot stat',\n",
    ")\n",
    "reset_back_button = widgets.Button(\n",
    "    description='reset back correction',\n",
    ")\n",
    "reset_button = widgets.Button(\n",
    "    description='reset',\n",
    ")\n",
    "save_button = widgets.Button(\n",
    "    description='save correction',\n",
    ")\n",
    "bowl_button = widgets.Button(\n",
    "    description='bowl correction',\n",
    ")\n",
    "vol_button = widgets.Button(\n",
    "    description='voltage correction',\n",
    ")\n",
    "bin_fdm = widgets.IntText(value=256, description='bin FDM:')\n",
    "    \n",
    "@plot_button.on_click\n",
    "def plot_on_click(b, variables=variables, plot=True):\n",
    "    hist_plot(variables, plot)\n",
    "\n",
    "@plot_stat_button.on_click\n",
    "def plot_stat_on_click(b, variables=variables):\n",
    "    with out2:\n",
    "        clear_output(True)\n",
    "    with out:\n",
    "        clear_output(True)\n",
    "        calibration.plot_selected_statistic(variables, bin_fdm.value, index_fig.value, calibration_mode='tof', save=True)\n",
    "    \n",
    "@reset_back_button.on_click\n",
    "def reset_back_on_click(b, variables=variables):\n",
    "    variables.dld_t_calib = np.copy(variables.dld_t_calib_backup)\n",
    "@reset_button.on_click\n",
    "def reset_on_click(b, data=data, variables=variables, flightPathLength_d=flightPathLength_d.value, t0_d=t0_d.value, max_mc=max_mc.value):\n",
    "    data_tools.extract_data(data, variables, flightPathLength_d, max_mc)\n",
    "    \n",
    "@save_button.on_click\n",
    "def save_on_click(b, variables=variables):\n",
    "    variables.dld_t_calib_backup = np.copy(variables.dld_t_calib)\n",
    "\n",
    "@vol_button.on_click\n",
    "def vol_on_click(b, dld_highVoltage=variables.dld_high_voltage, variables=variables):\n",
    "    with out2:\n",
    "        clear_output(True)\n",
    "        pb_vol.value = \"<b>Starting...</b>\"\n",
    "        if variables.selected_x1 == 0 or variables.selected_x2 == 0:\n",
    "            print('Please first select a peak')\n",
    "        else:\n",
    "            print('Selected tof ranges are: (%s, %s)' %(variables.selected_x1, variables.selected_x2))\n",
    "            vol_correction(dld_highVoltage, variables)\n",
    "        pb_vol.value = \"<b>Flished</b>\"\n",
    "@bowl_button.on_click\n",
    "def bowl_on_click(b, dld_x_det=variables.dld_x_det, dld_y_det=variables.dld_y_det, dld_highVoltage=variables.dld_high_voltage, variables=variables):\n",
    "    with out2:\n",
    "        clear_output(True)\n",
    "        pb_bowl.value = \"<b>Starting...</b>\"\n",
    "        if variables.selected_x1 == 0 or variables.selected_x2 == 0:\n",
    "            print('Please first select a peak')\n",
    "        else:\n",
    "            print('Selected tof ranges are: (%s, %s)' %(variables.selected_x1, variables.selected_x2))\n",
    "            bowl_correction(dld_x_det, dld_y_det, dld_highVoltage, variables)  \n",
    "        pb_bowl.value = \"<b>Flished</b>\"\n",
    "\n",
    "\n",
    "tab1 = VBox(children=[bin_size, index_fig, prominence, distance, lim_tof, percent, bin_fdm])\n",
    "tab2 = VBox(children=[VBox(children=[sample_size_b, index_fig_b, maximum_cal_method_b, apply_b, plot_b, save_b]), bowl_button, pb_bowl])\n",
    "tab3 = VBox(children=[VBox(children=[sample_size_v, index_fig_v, mode_v, apply_v, num_cluster, peak_mode, plot_v, save_v]), vol_button, pb_vol])\n",
    "\n",
    "tab = widgets.Tab(children=[tab1, tab2, tab3])\n",
    "tab.set_title(0, 'tof/mc plot')\n",
    "tab.set_title(1, 'bowl correction')\n",
    "tab.set_title(2, 'voltage correction')\n",
    "\n",
    "\n",
    "\n",
    "display(VBox(children=[tab,HBox(children=[plot_button, plot_stat_button, save_button, reset_back_button, reset_button])]))\n",
    "out = Output()\n",
    "out2 = Output()\n",
    "display(out)"
   ]
  },
  {
   "cell_type": "code",
   "execution_count": null,
   "metadata": {
    "tags": []
   },
   "outputs": [],
   "source": [
    "fit_result_v = [ 1.94208697e+00, -2.09506601e-04,  1.07759401e-08]\n",
    "f_v = calibration.voltage_corr(variables.dld_high_voltage, *fit_result_v)\n",
    "variables.dld_t_calib= variables.dld_t_calib / f_v"
   ]
  },
  {
   "cell_type": "code",
   "execution_count": 5,
   "metadata": {
    "tags": []
   },
   "outputs": [],
   "source": [
    "fit_result_b = [ 9.87363382e-01, -2.34910574e-04,  2.16627932e-04,  3.45115689e-05, -2.29909341e-06, 3.36282076e-05]\n",
    "f_bowl = calibration.bowl_corr_fit([variables.dld_x_det*10, variables.dld_y_det*10], *fit_result_b)\n",
    "variables.dld_t_calib = variables.dld_t_calib / f_bowl"
   ]
  },
  {
   "cell_type": "code",
   "execution_count": 6,
   "metadata": {
    "tags": []
   },
   "outputs": [
    {
     "data": {
      "text/plain": [
       "167.4235833148962"
      ]
     },
     "execution_count": 6,
     "metadata": {},
     "output_type": "execute_result"
    }
   ],
   "source": [
    "from pyccapt.calibration.mc import mc_tools, tof_tools\n",
    "tof_tools.mc2tof(1.01, 6000, 10, 10, 110)"
   ]
  },
  {
   "cell_type": "code",
   "execution_count": 30,
   "metadata": {
    "tags": []
   },
   "outputs": [
    {
     "name": "stderr",
     "output_type": "stream",
     "text": [
      "C:\\Users\\APTUser\\AppData\\Local\\Temp\\ipykernel_24896\\3269822899.py:1: DeprecationWarning: on_submit is deprecated. Instead, set the .continuous_update attribute to False and observe the value changing with: mywidget.observe(callback, 'value').\n",
      "  interact_manual(tools.mc_hist_plot, variables=fixed(variables), bin_size=widgets.FloatText(value=0.1),\n"
     ]
    },
    {
     "data": {
      "application/vnd.jupyter.widget-view+json": {
       "model_id": "3362e52d3468474880dd31b0ff80dec7",
       "version_major": 2,
       "version_minor": 0
      },
      "text/plain": [
       "interactive(children=(FloatText(value=0.1, description='bin_size'), Dropdown(description='mode', options=(('to…"
      ]
     },
     "metadata": {},
     "output_type": "display_data"
    }
   ],
   "source": [
    "interact_manual(tools.mc_hist_plot, variables=fixed(variables), bin_size=widgets.FloatText(value=0.1), \n",
    "                mode=widgets.Dropdown(options=[('tof', 'tof')]), prominence=widgets.IntText(value=50), distance=widgets.IntText(value=100), \n",
    "                lim=widgets.IntText(value=5000), percent=widgets.IntText(value=50), selector=fixed('peak'), plot=fixed(True), figname=widgets.Text(value='tof_hist_calibrated'),\n",
    "               peaks_find_plot=fixed(True));\n"
   ]
  },
  {
   "cell_type": "code",
   "execution_count": 31,
   "metadata": {
    "pycharm": {
     "name": "#%%\n"
    },
    "tags": []
   },
   "outputs": [
    {
     "data": {
      "application/vnd.jupyter.widget-view+json": {
       "model_id": "bfd1cef46ebf4d42bca752e53d6c3041",
       "version_major": 2,
       "version_minor": 0
      },
      "text/plain": [
       "Dropdown(description='Elements', options=(('H (1) (99.98)', 'H(1)[1.01]'), ('H (2) (0.01)', 'H(2)[2.01]'), ('H…"
      ]
     },
     "metadata": {},
     "output_type": "display_data"
    },
    {
     "data": {
      "application/vnd.jupyter.widget-view+json": {
       "model_id": "8473c1139206491482d8bf8c1d9ea2e5",
       "version_major": 2,
       "version_minor": 0
      },
      "text/plain": [
       "Dropdown(description='Charge', options=((1, 1), (2, 2), (3, 3), (4, 4)), value=1)"
      ]
     },
     "metadata": {},
     "output_type": "display_data"
    },
    {
     "data": {
      "application/vnd.jupyter.widget-view+json": {
       "model_id": "96e6cb44396b4eb4a532cd19e49df23e",
       "version_major": 2,
       "version_minor": 0
      },
      "text/plain": [
       "Button(description='ADD', icon='check', style=ButtonStyle(), tooltip='ADD')"
      ]
     },
     "metadata": {},
     "output_type": "display_data"
    },
    {
     "data": {
      "application/vnd.jupyter.widget-view+json": {
       "model_id": "c6920ec32c1b41d29b41d4f6d247931c",
       "version_major": 2,
       "version_minor": 0
      },
      "text/plain": [
       "Button(description='DELETE', icon='check', style=ButtonStyle(), tooltip='DELETE')"
      ]
     },
     "metadata": {},
     "output_type": "display_data"
    },
    {
     "data": {
      "application/vnd.jupyter.widget-view+json": {
       "model_id": "9fefa9d504bf4de9b7337b0cf80f678a",
       "version_major": 2,
       "version_minor": 0
      },
      "text/plain": [
       "Button(description='RESET', icon='check', style=ButtonStyle(), tooltip='RESET')"
      ]
     },
     "metadata": {},
     "output_type": "display_data"
    },
    {
     "data": {
      "application/vnd.jupyter.widget-view+json": {
       "model_id": "8e243fff73ad4438b045c8a8070abeb0",
       "version_major": 2,
       "version_minor": 0
      },
      "text/plain": [
       "Output()"
      ]
     },
     "metadata": {},
     "output_type": "display_data"
    }
   ],
   "source": [
    "isotopeTableFile = '../../../files/isotopeTable.h5'\n",
    "dataframe = data_tools.read_hdf5_through_pandas(isotopeTableFile)\n",
    "elementsList = dataframe['element']\n",
    "elementIsotopeList = dataframe['isotope']\n",
    "elementMassList =  dataframe['weight']\n",
    "abundanceList = dataframe['abundance']\n",
    "\n",
    "elements = list(zip(elementsList, elementIsotopeList, elementMassList, abundanceList))\n",
    "dropdownList = []\n",
    "for element in elements:\n",
    "    tupleElement = (\"{} ({}) ({:.2f})\".format(element[0], element[1], element[3]), \"{}({})[{}]\".format(element[0], element[1], element[2]))\n",
    "    dropdownList.append(tupleElement)\n",
    "\n",
    "chargeList = [(1,1,),(2,2,),(3,3,),(4,4,)]\n",
    "dropdown = wd.dropdownWidget(dropdownList,\"Elements\")\n",
    "dropdown.observe(wd.on_change)\n",
    "\n",
    "\n",
    "chargeDropdown = wd.dropdownWidget(chargeList,\"Charge\")\n",
    "chargeDropdown.observe(wd.on_change_charge)\n",
    "\n",
    "wd.compute_element_isotope_values_according_to_selected_charge()\n",
    "\n",
    "buttonAdd = wd.buttonWidget(\"ADD\")\n",
    "buttonDelete = wd.buttonWidget(\"DELETE\")\n",
    "buttonReset = wd.buttonWidget(\"RESET\")\n",
    "\n",
    "\n",
    "display(dropdown, chargeDropdown, buttonAdd, buttonDelete, buttonReset)\n",
    "\n",
    "def buttonAdd_f(b, variables):\n",
    "    with out:\n",
    "        clear_output(True)\n",
    "        wd.onClickAdd(b, variables)\n",
    "        display()\n",
    "def buttonDelete_f(b, variables):\n",
    "    with out:\n",
    "        clear_output(True)\n",
    "        wd.onClickDelete(b, variables)\n",
    "        display()\n",
    "def buttonResett_f(b, variables):\n",
    "    with out:\n",
    "        clear_output(True)\n",
    "        wd.onClickReset(b, variables)\n",
    "        display()\n",
    "\n",
    "listMaterial = buttonAdd.on_click(functools.partial(buttonAdd_f, variables=variables))\n",
    "buttonDelete.on_click(functools.partial(buttonDelete_f, variables=variables))\n",
    "buttonReset.on_click(functools.partial(buttonResett_f, variables=variables))\n",
    "# listMaterial = buttonAdd.on_click(wd.onClickAdd)\n",
    "# buttonDelete.on_click(wd.onClickDelete)\n",
    "# buttonReset.on_click(wd.onClickReset)\n",
    "out = Output()\n",
    "display(out)"
   ]
  },
  {
   "cell_type": "code",
   "execution_count": 45,
   "metadata": {
    "pycharm": {
     "name": "#%%\n"
    },
    "tags": []
   },
   "outputs": [
    {
     "name": "stdout",
     "output_type": "stream",
     "text": [
      "highest peak in the tof histogram: [ 226.01698349 1599.63749693 1953.06558594]\n",
      "highest peak in the ideal mc histogram: [ 1.01 61.32 91.97]\n"
     ]
    }
   ],
   "source": [
    "peaks_chos = []\n",
    "for i in range(len(variables.peaks_idx)):\n",
    "    peaks_chos.append(variables.peak[variables.peaks_idx[i]])\n",
    "peaks_chos = np.array(peaks_chos)\n",
    "listMaterial = np.array(variables.listMaterial)\n",
    "print('highest peak in the tof histogram:', peaks_chos)\n",
    "print('highest peak in the ideal mc histogram:', listMaterial)"
   ]
  },
  {
   "cell_type": "code",
   "execution_count": 46,
   "metadata": {
    "pycharm": {
     "name": "#%%\n"
    },
    "tags": []
   },
   "outputs": [
    {
     "name": "stderr",
     "output_type": "stream",
     "text": [
      "C:\\Users\\APTUser\\.conda\\envs\\oxcart5\\lib\\site-packages\\scipy\\optimize\\_minpack_py.py:906: OptimizeWarning: Covariance of the parameters could not be estimated\n",
      "  warnings.warn('Covariance of the parameters could not be estimated',\n"
     ]
    }
   ],
   "source": [
    "def parametric(t, t0, c, d):\n",
    "\n",
    "    # return c * ((t - t0)**2) + d\n",
    "    return c * ((t - t0)**2) + d*t\n",
    "\n",
    "def parametric_calib(t, mc_ideal):\n",
    "    \n",
    "    fitresult, _ = curve_fit(parametric, t, mc_ideal, maxfev=2000)\n",
    "    return fitresult\n",
    "\n",
    "fitresult = parametric_calib(peaks_chos, variables.listMaterial)\n",
    "\n",
    "\n",
    "variables.mc_calib = parametric(variables.dld_t_calib, *fitresult)"
   ]
  },
  {
   "cell_type": "code",
   "execution_count": 47,
   "metadata": {
    "tags": []
   },
   "outputs": [
    {
     "name": "stdout",
     "output_type": "stream",
     "text": [
      "The t0 is: 44.81197745495629 ns\n"
     ]
    }
   ],
   "source": [
    "print('The t0 is:', fitresult[0], 'ns')"
   ]
  },
  {
   "cell_type": "code",
   "execution_count": 48,
   "metadata": {
    "pycharm": {
     "name": "#%%\n"
    },
    "tags": []
   },
   "outputs": [
    {
     "name": "stderr",
     "output_type": "stream",
     "text": [
      "C:\\Users\\APTUser\\AppData\\Local\\Temp\\ipykernel_24896\\1203954349.py:1: DeprecationWarning: on_submit is deprecated. Instead, set the .continuous_update attribute to False and observe the value changing with: mywidget.observe(callback, 'value').\n",
      "  interact_manual(tools.mc_hist_plot, variables=fixed(variables), bin_size=widgets.FloatText(value=0.1),\n"
     ]
    },
    {
     "data": {
      "application/vnd.jupyter.widget-view+json": {
       "model_id": "e1d100847aff43ffbe7a5a92aecbb449",
       "version_major": 2,
       "version_minor": 0
      },
      "text/plain": [
       "interactive(children=(FloatText(value=0.1, description='bin_size'), Dropdown(description='mode', options=(('mc…"
      ]
     },
     "metadata": {},
     "output_type": "display_data"
    }
   ],
   "source": [
    "interact_manual(tools.mc_hist_plot, variables=fixed(variables), bin_size=widgets.FloatText(value=0.1), \n",
    "                mode=widgets.Dropdown(options=[('mc', 'mc')]), prominence=widgets.IntText(value=50), distance=widgets.IntText(value=100), \n",
    "                lim=widgets.IntText(value=400), percent=widgets.IntText(value=50), selector=fixed('peak'), plot=fixed(True), figname=widgets.Text(value='mc_hist_calibrated'),\n",
    "               peaks_find_plot=fixed(True));\n"
   ]
  },
  {
   "cell_type": "code",
   "execution_count": 50,
   "metadata": {
    "tags": []
   },
   "outputs": [
    {
     "data": {
      "text/html": [
       "<div>\n",
       "<style scoped>\n",
       "    .dataframe tbody tr th:only-of-type {\n",
       "        vertical-align: middle;\n",
       "    }\n",
       "\n",
       "    .dataframe tbody tr th {\n",
       "        vertical-align: top;\n",
       "    }\n",
       "\n",
       "    .dataframe thead th {\n",
       "        text-align: right;\n",
       "    }\n",
       "</style>\n",
       "<table border=\"1\" class=\"dataframe\">\n",
       "  <thead>\n",
       "    <tr style=\"text-align: right;\">\n",
       "      <th></th>\n",
       "      <th>x (nm)</th>\n",
       "      <th>y (nm)</th>\n",
       "      <th>z (nm)</th>\n",
       "      <th>mc_c (Da)</th>\n",
       "      <th>mc (Da)</th>\n",
       "      <th>high_voltage (V)</th>\n",
       "      <th>pulse</th>\n",
       "      <th>start_counter</th>\n",
       "      <th>t_c (ns)</th>\n",
       "      <th>t (ns)</th>\n",
       "      <th>x_det (cm)</th>\n",
       "      <th>y_det (cm)</th>\n",
       "      <th>pulse_pi</th>\n",
       "      <th>ion_pp</th>\n",
       "    </tr>\n",
       "  </thead>\n",
       "  <tbody>\n",
       "    <tr>\n",
       "      <th>0</th>\n",
       "      <td>0.0</td>\n",
       "      <td>0.0</td>\n",
       "      <td>0.0</td>\n",
       "      <td>93.464806</td>\n",
       "      <td>96.828765</td>\n",
       "      <td>7824.123535</td>\n",
       "      <td>43805.726562</td>\n",
       "      <td>0</td>\n",
       "      <td>1968.657498</td>\n",
       "      <td>2015.0</td>\n",
       "      <td>1.000040</td>\n",
       "      <td>-0.899989</td>\n",
       "      <td>0</td>\n",
       "      <td>0</td>\n",
       "    </tr>\n",
       "    <tr>\n",
       "      <th>1</th>\n",
       "      <td>0.0</td>\n",
       "      <td>0.0</td>\n",
       "      <td>0.0</td>\n",
       "      <td>93.556886</td>\n",
       "      <td>97.484441</td>\n",
       "      <td>7824.123535</td>\n",
       "      <td>43805.726562</td>\n",
       "      <td>0</td>\n",
       "      <td>1969.613869</td>\n",
       "      <td>2035.0</td>\n",
       "      <td>-0.419676</td>\n",
       "      <td>-3.137880</td>\n",
       "      <td>0</td>\n",
       "      <td>0</td>\n",
       "    </tr>\n",
       "    <tr>\n",
       "      <th>2</th>\n",
       "      <td>0.0</td>\n",
       "      <td>0.0</td>\n",
       "      <td>0.0</td>\n",
       "      <td>346.107680</td>\n",
       "      <td>360.658488</td>\n",
       "      <td>7824.123535</td>\n",
       "      <td>43805.726562</td>\n",
       "      <td>0</td>\n",
       "      <td>3763.562564</td>\n",
       "      <td>3877.0</td>\n",
       "      <td>-2.763780</td>\n",
       "      <td>-0.462814</td>\n",
       "      <td>0</td>\n",
       "      <td>0</td>\n",
       "    </tr>\n",
       "    <tr>\n",
       "      <th>3</th>\n",
       "      <td>0.0</td>\n",
       "      <td>0.0</td>\n",
       "      <td>0.0</td>\n",
       "      <td>92.511524</td>\n",
       "      <td>96.552811</td>\n",
       "      <td>7824.123535</td>\n",
       "      <td>43805.726562</td>\n",
       "      <td>0</td>\n",
       "      <td>1958.728619</td>\n",
       "      <td>2031.0</td>\n",
       "      <td>-1.613070</td>\n",
       "      <td>-3.302190</td>\n",
       "      <td>0</td>\n",
       "      <td>0</td>\n",
       "    </tr>\n",
       "    <tr>\n",
       "      <th>4</th>\n",
       "      <td>0.0</td>\n",
       "      <td>0.0</td>\n",
       "      <td>0.0</td>\n",
       "      <td>0.183530</td>\n",
       "      <td>0.138873</td>\n",
       "      <td>7824.123535</td>\n",
       "      <td>43805.726562</td>\n",
       "      <td>0</td>\n",
       "      <td>105.693156</td>\n",
       "      <td>108.0</td>\n",
       "      <td>0.902636</td>\n",
       "      <td>0.114006</td>\n",
       "      <td>0</td>\n",
       "      <td>0</td>\n",
       "    </tr>\n",
       "    <tr>\n",
       "      <th>...</th>\n",
       "      <td>...</td>\n",
       "      <td>...</td>\n",
       "      <td>...</td>\n",
       "      <td>...</td>\n",
       "      <td>...</td>\n",
       "      <td>...</td>\n",
       "      <td>...</td>\n",
       "      <td>...</td>\n",
       "      <td>...</td>\n",
       "      <td>...</td>\n",
       "      <td>...</td>\n",
       "      <td>...</td>\n",
       "      <td>...</td>\n",
       "      <td>...</td>\n",
       "    </tr>\n",
       "    <tr>\n",
       "      <th>744458</th>\n",
       "      <td>0.0</td>\n",
       "      <td>0.0</td>\n",
       "      <td>0.0</td>\n",
       "      <td>98.886037</td>\n",
       "      <td>96.236683</td>\n",
       "      <td>7225.151367</td>\n",
       "      <td>53755.109375</td>\n",
       "      <td>0</td>\n",
       "      <td>2024.183718</td>\n",
       "      <td>2105.0</td>\n",
       "      <td>-0.585350</td>\n",
       "      <td>3.302280</td>\n",
       "      <td>0</td>\n",
       "      <td>0</td>\n",
       "    </tr>\n",
       "    <tr>\n",
       "      <th>744459</th>\n",
       "      <td>0.0</td>\n",
       "      <td>0.0</td>\n",
       "      <td>0.0</td>\n",
       "      <td>98.832849</td>\n",
       "      <td>96.497576</td>\n",
       "      <td>7225.151367</td>\n",
       "      <td>53755.109375</td>\n",
       "      <td>0</td>\n",
       "      <td>2023.646442</td>\n",
       "      <td>2095.0</td>\n",
       "      <td>-0.666989</td>\n",
       "      <td>1.776550</td>\n",
       "      <td>0</td>\n",
       "      <td>0</td>\n",
       "    </tr>\n",
       "    <tr>\n",
       "      <th>744460</th>\n",
       "      <td>0.0</td>\n",
       "      <td>0.0</td>\n",
       "      <td>0.0</td>\n",
       "      <td>98.852791</td>\n",
       "      <td>96.228355</td>\n",
       "      <td>7225.151367</td>\n",
       "      <td>53755.109375</td>\n",
       "      <td>0</td>\n",
       "      <td>2023.847901</td>\n",
       "      <td>2104.0</td>\n",
       "      <td>-0.640886</td>\n",
       "      <td>3.207970</td>\n",
       "      <td>0</td>\n",
       "      <td>0</td>\n",
       "    </tr>\n",
       "    <tr>\n",
       "      <th>744461</th>\n",
       "      <td>0.0</td>\n",
       "      <td>0.0</td>\n",
       "      <td>0.0</td>\n",
       "      <td>99.934313</td>\n",
       "      <td>98.093664</td>\n",
       "      <td>7225.151367</td>\n",
       "      <td>53755.109375</td>\n",
       "      <td>0</td>\n",
       "      <td>2034.743338</td>\n",
       "      <td>2108.0</td>\n",
       "      <td>-0.367809</td>\n",
       "      <td>-1.056650</td>\n",
       "      <td>0</td>\n",
       "      <td>0</td>\n",
       "    </tr>\n",
       "    <tr>\n",
       "      <th>744462</th>\n",
       "      <td>0.0</td>\n",
       "      <td>0.0</td>\n",
       "      <td>0.0</td>\n",
       "      <td>65.852979</td>\n",
       "      <td>64.835767</td>\n",
       "      <td>7225.151367</td>\n",
       "      <td>53755.109375</td>\n",
       "      <td>0</td>\n",
       "      <td>1656.745316</td>\n",
       "      <td>1731.0</td>\n",
       "      <td>-1.733120</td>\n",
       "      <td>-2.505080</td>\n",
       "      <td>0</td>\n",
       "      <td>0</td>\n",
       "    </tr>\n",
       "  </tbody>\n",
       "</table>\n",
       "<p>744463 rows × 14 columns</p>\n",
       "</div>"
      ],
      "text/plain": [
       "        x (nm)  y (nm)  z (nm)   mc_c (Da)     mc (Da)  high_voltage (V)  \\\n",
       "0          0.0     0.0     0.0   93.464806   96.828765       7824.123535   \n",
       "1          0.0     0.0     0.0   93.556886   97.484441       7824.123535   \n",
       "2          0.0     0.0     0.0  346.107680  360.658488       7824.123535   \n",
       "3          0.0     0.0     0.0   92.511524   96.552811       7824.123535   \n",
       "4          0.0     0.0     0.0    0.183530    0.138873       7824.123535   \n",
       "...        ...     ...     ...         ...         ...               ...   \n",
       "744458     0.0     0.0     0.0   98.886037   96.236683       7225.151367   \n",
       "744459     0.0     0.0     0.0   98.832849   96.497576       7225.151367   \n",
       "744460     0.0     0.0     0.0   98.852791   96.228355       7225.151367   \n",
       "744461     0.0     0.0     0.0   99.934313   98.093664       7225.151367   \n",
       "744462     0.0     0.0     0.0   65.852979   64.835767       7225.151367   \n",
       "\n",
       "               pulse  start_counter     t_c (ns)  t (ns)  x_det (cm)  \\\n",
       "0       43805.726562              0  1968.657498  2015.0    1.000040   \n",
       "1       43805.726562              0  1969.613869  2035.0   -0.419676   \n",
       "2       43805.726562              0  3763.562564  3877.0   -2.763780   \n",
       "3       43805.726562              0  1958.728619  2031.0   -1.613070   \n",
       "4       43805.726562              0   105.693156   108.0    0.902636   \n",
       "...              ...            ...          ...     ...         ...   \n",
       "744458  53755.109375              0  2024.183718  2105.0   -0.585350   \n",
       "744459  53755.109375              0  2023.646442  2095.0   -0.666989   \n",
       "744460  53755.109375              0  2023.847901  2104.0   -0.640886   \n",
       "744461  53755.109375              0  2034.743338  2108.0   -0.367809   \n",
       "744462  53755.109375              0  1656.745316  1731.0   -1.733120   \n",
       "\n",
       "        y_det (cm)  pulse_pi  ion_pp  \n",
       "0        -0.899989         0       0  \n",
       "1        -3.137880         0       0  \n",
       "2        -0.462814         0       0  \n",
       "3        -3.302190         0       0  \n",
       "4         0.114006         0       0  \n",
       "...            ...       ...     ...  \n",
       "744458    3.302280         0       0  \n",
       "744459    1.776550         0       0  \n",
       "744460    3.207970         0       0  \n",
       "744461   -1.056650         0       0  \n",
       "744462   -2.505080         0       0  \n",
       "\n",
       "[744463 rows x 14 columns]"
      ]
     },
     "execution_count": 50,
     "metadata": {},
     "output_type": "execute_result"
    }
   ],
   "source": [
    "data['mc_c (Da)'] = variables.mc_calib\n",
    "data['t_c (ns)'] = variables.dld_t_calib\n",
    "data"
   ]
  },
  {
   "cell_type": "code",
   "execution_count": 51,
   "metadata": {
    "tags": []
   },
   "outputs": [],
   "source": [
    "data_c = data.copy(deep=True)"
   ]
  },
  {
   "cell_type": "code",
   "execution_count": 52,
   "metadata": {
    "tags": []
   },
   "outputs": [
    {
     "name": "stdout",
     "output_type": "stream",
     "text": [
      "The number of ions with negative mc are: 0\n"
     ]
    }
   ],
   "source": [
    "# Remove negative mc\n",
    "threshold = 0\n",
    "mc_t = data_c['mc_c (Da)'].to_numpy()\n",
    "mc_t_mask = (mc_t <= threshold)\n",
    "print('The number of ions with negative mc are:', len(mc_t_mask[mc_t_mask==True]))\n",
    "data_c.drop(np.where(mc_t_mask)[0], inplace=True)\n",
    "data_c.reset_index(inplace=True, drop=True)"
   ]
  },
  {
   "cell_type": "code",
   "execution_count": 53,
   "metadata": {
    "tags": []
   },
   "outputs": [
    {
     "data": {
      "text/html": [
       "<div>\n",
       "<style scoped>\n",
       "    .dataframe tbody tr th:only-of-type {\n",
       "        vertical-align: middle;\n",
       "    }\n",
       "\n",
       "    .dataframe tbody tr th {\n",
       "        vertical-align: top;\n",
       "    }\n",
       "\n",
       "    .dataframe thead th {\n",
       "        text-align: right;\n",
       "    }\n",
       "</style>\n",
       "<table border=\"1\" class=\"dataframe\">\n",
       "  <thead>\n",
       "    <tr style=\"text-align: right;\">\n",
       "      <th></th>\n",
       "      <th>x (nm)</th>\n",
       "      <th>y (nm)</th>\n",
       "      <th>z (nm)</th>\n",
       "      <th>mc_c (Da)</th>\n",
       "      <th>mc (Da)</th>\n",
       "      <th>high_voltage (V)</th>\n",
       "      <th>pulse</th>\n",
       "      <th>start_counter</th>\n",
       "      <th>t_c (ns)</th>\n",
       "      <th>t (ns)</th>\n",
       "      <th>x_det (cm)</th>\n",
       "      <th>y_det (cm)</th>\n",
       "      <th>pulse_pi</th>\n",
       "      <th>ion_pp</th>\n",
       "    </tr>\n",
       "  </thead>\n",
       "  <tbody>\n",
       "    <tr>\n",
       "      <th>0</th>\n",
       "      <td>0.0</td>\n",
       "      <td>0.0</td>\n",
       "      <td>0.0</td>\n",
       "      <td>93.464806</td>\n",
       "      <td>96.828765</td>\n",
       "      <td>7824.123535</td>\n",
       "      <td>43805.726562</td>\n",
       "      <td>0</td>\n",
       "      <td>1968.657498</td>\n",
       "      <td>2015.0</td>\n",
       "      <td>1.000040</td>\n",
       "      <td>-0.899989</td>\n",
       "      <td>0</td>\n",
       "      <td>0</td>\n",
       "    </tr>\n",
       "    <tr>\n",
       "      <th>1</th>\n",
       "      <td>0.0</td>\n",
       "      <td>0.0</td>\n",
       "      <td>0.0</td>\n",
       "      <td>93.556886</td>\n",
       "      <td>97.484441</td>\n",
       "      <td>7824.123535</td>\n",
       "      <td>43805.726562</td>\n",
       "      <td>0</td>\n",
       "      <td>1969.613869</td>\n",
       "      <td>2035.0</td>\n",
       "      <td>-0.419676</td>\n",
       "      <td>-3.137880</td>\n",
       "      <td>0</td>\n",
       "      <td>0</td>\n",
       "    </tr>\n",
       "    <tr>\n",
       "      <th>2</th>\n",
       "      <td>0.0</td>\n",
       "      <td>0.0</td>\n",
       "      <td>0.0</td>\n",
       "      <td>346.107680</td>\n",
       "      <td>360.658488</td>\n",
       "      <td>7824.123535</td>\n",
       "      <td>43805.726562</td>\n",
       "      <td>0</td>\n",
       "      <td>3763.562564</td>\n",
       "      <td>3877.0</td>\n",
       "      <td>-2.763780</td>\n",
       "      <td>-0.462814</td>\n",
       "      <td>0</td>\n",
       "      <td>0</td>\n",
       "    </tr>\n",
       "    <tr>\n",
       "      <th>3</th>\n",
       "      <td>0.0</td>\n",
       "      <td>0.0</td>\n",
       "      <td>0.0</td>\n",
       "      <td>92.511524</td>\n",
       "      <td>96.552811</td>\n",
       "      <td>7824.123535</td>\n",
       "      <td>43805.726562</td>\n",
       "      <td>0</td>\n",
       "      <td>1958.728619</td>\n",
       "      <td>2031.0</td>\n",
       "      <td>-1.613070</td>\n",
       "      <td>-3.302190</td>\n",
       "      <td>0</td>\n",
       "      <td>0</td>\n",
       "    </tr>\n",
       "    <tr>\n",
       "      <th>4</th>\n",
       "      <td>0.0</td>\n",
       "      <td>0.0</td>\n",
       "      <td>0.0</td>\n",
       "      <td>0.183530</td>\n",
       "      <td>0.138873</td>\n",
       "      <td>7824.123535</td>\n",
       "      <td>43805.726562</td>\n",
       "      <td>0</td>\n",
       "      <td>105.693156</td>\n",
       "      <td>108.0</td>\n",
       "      <td>0.902636</td>\n",
       "      <td>0.114006</td>\n",
       "      <td>0</td>\n",
       "      <td>0</td>\n",
       "    </tr>\n",
       "    <tr>\n",
       "      <th>...</th>\n",
       "      <td>...</td>\n",
       "      <td>...</td>\n",
       "      <td>...</td>\n",
       "      <td>...</td>\n",
       "      <td>...</td>\n",
       "      <td>...</td>\n",
       "      <td>...</td>\n",
       "      <td>...</td>\n",
       "      <td>...</td>\n",
       "      <td>...</td>\n",
       "      <td>...</td>\n",
       "      <td>...</td>\n",
       "      <td>...</td>\n",
       "      <td>...</td>\n",
       "    </tr>\n",
       "    <tr>\n",
       "      <th>744458</th>\n",
       "      <td>0.0</td>\n",
       "      <td>0.0</td>\n",
       "      <td>0.0</td>\n",
       "      <td>98.886037</td>\n",
       "      <td>96.236683</td>\n",
       "      <td>7225.151367</td>\n",
       "      <td>53755.109375</td>\n",
       "      <td>0</td>\n",
       "      <td>2024.183718</td>\n",
       "      <td>2105.0</td>\n",
       "      <td>-0.585350</td>\n",
       "      <td>3.302280</td>\n",
       "      <td>0</td>\n",
       "      <td>0</td>\n",
       "    </tr>\n",
       "    <tr>\n",
       "      <th>744459</th>\n",
       "      <td>0.0</td>\n",
       "      <td>0.0</td>\n",
       "      <td>0.0</td>\n",
       "      <td>98.832849</td>\n",
       "      <td>96.497576</td>\n",
       "      <td>7225.151367</td>\n",
       "      <td>53755.109375</td>\n",
       "      <td>0</td>\n",
       "      <td>2023.646442</td>\n",
       "      <td>2095.0</td>\n",
       "      <td>-0.666989</td>\n",
       "      <td>1.776550</td>\n",
       "      <td>0</td>\n",
       "      <td>0</td>\n",
       "    </tr>\n",
       "    <tr>\n",
       "      <th>744460</th>\n",
       "      <td>0.0</td>\n",
       "      <td>0.0</td>\n",
       "      <td>0.0</td>\n",
       "      <td>98.852791</td>\n",
       "      <td>96.228355</td>\n",
       "      <td>7225.151367</td>\n",
       "      <td>53755.109375</td>\n",
       "      <td>0</td>\n",
       "      <td>2023.847901</td>\n",
       "      <td>2104.0</td>\n",
       "      <td>-0.640886</td>\n",
       "      <td>3.207970</td>\n",
       "      <td>0</td>\n",
       "      <td>0</td>\n",
       "    </tr>\n",
       "    <tr>\n",
       "      <th>744461</th>\n",
       "      <td>0.0</td>\n",
       "      <td>0.0</td>\n",
       "      <td>0.0</td>\n",
       "      <td>99.934313</td>\n",
       "      <td>98.093664</td>\n",
       "      <td>7225.151367</td>\n",
       "      <td>53755.109375</td>\n",
       "      <td>0</td>\n",
       "      <td>2034.743338</td>\n",
       "      <td>2108.0</td>\n",
       "      <td>-0.367809</td>\n",
       "      <td>-1.056650</td>\n",
       "      <td>0</td>\n",
       "      <td>0</td>\n",
       "    </tr>\n",
       "    <tr>\n",
       "      <th>744462</th>\n",
       "      <td>0.0</td>\n",
       "      <td>0.0</td>\n",
       "      <td>0.0</td>\n",
       "      <td>65.852979</td>\n",
       "      <td>64.835767</td>\n",
       "      <td>7225.151367</td>\n",
       "      <td>53755.109375</td>\n",
       "      <td>0</td>\n",
       "      <td>1656.745316</td>\n",
       "      <td>1731.0</td>\n",
       "      <td>-1.733120</td>\n",
       "      <td>-2.505080</td>\n",
       "      <td>0</td>\n",
       "      <td>0</td>\n",
       "    </tr>\n",
       "  </tbody>\n",
       "</table>\n",
       "<p>744463 rows × 14 columns</p>\n",
       "</div>"
      ],
      "text/plain": [
       "        x (nm)  y (nm)  z (nm)   mc_c (Da)     mc (Da)  high_voltage (V)  \\\n",
       "0          0.0     0.0     0.0   93.464806   96.828765       7824.123535   \n",
       "1          0.0     0.0     0.0   93.556886   97.484441       7824.123535   \n",
       "2          0.0     0.0     0.0  346.107680  360.658488       7824.123535   \n",
       "3          0.0     0.0     0.0   92.511524   96.552811       7824.123535   \n",
       "4          0.0     0.0     0.0    0.183530    0.138873       7824.123535   \n",
       "...        ...     ...     ...         ...         ...               ...   \n",
       "744458     0.0     0.0     0.0   98.886037   96.236683       7225.151367   \n",
       "744459     0.0     0.0     0.0   98.832849   96.497576       7225.151367   \n",
       "744460     0.0     0.0     0.0   98.852791   96.228355       7225.151367   \n",
       "744461     0.0     0.0     0.0   99.934313   98.093664       7225.151367   \n",
       "744462     0.0     0.0     0.0   65.852979   64.835767       7225.151367   \n",
       "\n",
       "               pulse  start_counter     t_c (ns)  t (ns)  x_det (cm)  \\\n",
       "0       43805.726562              0  1968.657498  2015.0    1.000040   \n",
       "1       43805.726562              0  1969.613869  2035.0   -0.419676   \n",
       "2       43805.726562              0  3763.562564  3877.0   -2.763780   \n",
       "3       43805.726562              0  1958.728619  2031.0   -1.613070   \n",
       "4       43805.726562              0   105.693156   108.0    0.902636   \n",
       "...              ...            ...          ...     ...         ...   \n",
       "744458  53755.109375              0  2024.183718  2105.0   -0.585350   \n",
       "744459  53755.109375              0  2023.646442  2095.0   -0.666989   \n",
       "744460  53755.109375              0  2023.847901  2104.0   -0.640886   \n",
       "744461  53755.109375              0  2034.743338  2108.0   -0.367809   \n",
       "744462  53755.109375              0  1656.745316  1731.0   -1.733120   \n",
       "\n",
       "        y_det (cm)  pulse_pi  ion_pp  \n",
       "0        -0.899989         0       0  \n",
       "1        -3.137880         0       0  \n",
       "2        -0.462814         0       0  \n",
       "3        -3.302190         0       0  \n",
       "4         0.114006         0       0  \n",
       "...            ...       ...     ...  \n",
       "744458    3.302280         0       0  \n",
       "744459    1.776550         0       0  \n",
       "744460    3.207970         0       0  \n",
       "744461   -1.056650         0       0  \n",
       "744462   -2.505080         0       0  \n",
       "\n",
       "[744463 rows x 14 columns]"
      ]
     },
     "execution_count": 53,
     "metadata": {},
     "output_type": "execute_result"
    }
   ],
   "source": [
    "data_c"
   ]
  },
  {
   "cell_type": "code",
   "execution_count": 40,
   "metadata": {
    "tags": []
   },
   "outputs": [
    {
     "data": {
      "application/vnd.jupyter.widget-view+json": {
       "model_id": "0ee6ef50fd3d4df482637f7969a4e7e0",
       "version_major": 2,
       "version_minor": 0
      },
      "text/plain": [
       "interactive(children=(Dropdown(description='hdf', options=(('True', True), ('False', False)), value=True), Dro…"
      ]
     },
     "metadata": {},
     "output_type": "display_data"
    }
   ],
   "source": [
    "interact_manual(data_tools.save_data, data=fixed(data_c), variables=fixed(variables),\n",
    "                hdf=widgets.Dropdown(options=[('True', True), ('False', False)]),\n",
    "                epos=widgets.Dropdown(options=[('False', False), ('True', True)]), \n",
    "                pos=widgets.Dropdown(options=[('False', False), ('True', True)]), \n",
    "                ato_6v=widgets.Dropdown(options=[('False', False), ('True', True)]), \n",
    "                csv=widgets.Dropdown(options=[('False', False), ('True', True)]));"
   ]
  },
  {
   "cell_type": "code",
   "execution_count": 55,
   "metadata": {
    "tags": []
   },
   "outputs": [],
   "source": [
    "t = data_c['t (ns)'].to_numpy()\n",
    "np.save('t_12.npy', t )\n",
    "t = data_c['t_c (ns)'].to_numpy()\n",
    "np.save('t_12_c.npy', t )"
   ]
  },
  {
   "cell_type": "code",
   "execution_count": null,
   "metadata": {},
   "outputs": [],
   "source": []
  }
 ],
 "metadata": {
  "kernelspec": {
   "display_name": "Python 3 (ipykernel)",
   "language": "python",
   "name": "python3"
  },
  "language_info": {
   "codemirror_mode": {
    "name": "ipython",
    "version": 3
   },
   "file_extension": ".py",
   "mimetype": "text/x-python",
   "name": "python",
   "nbconvert_exporter": "python",
   "pygments_lexer": "ipython3",
   "version": "3.8.16"
  }
 },
 "nbformat": 4,
 "nbformat_minor": 4
}

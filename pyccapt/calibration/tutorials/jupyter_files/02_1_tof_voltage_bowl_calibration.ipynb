{
 "cells": [
  {
   "cell_type": "code",
   "execution_count": 1,
   "metadata": {
    "pycharm": {
     "name": "#%%\n"
    }
   },
   "outputs": [],
   "source": [
    "%matplotlib ipympl\n",
    "import os\n",
    "import os.path as path\n",
    "import logging, sys\n",
    "import numpy as np\n",
    "from scipy.optimize import curve_fit\n",
    "from scipy import interpolate\n",
    "from sklearn.preprocessing import MinMaxScaler\n",
    "import matplotlib.pyplot as plt\n",
    "from ipywidgets import fixed, interact_manual, widgets\n",
    "from ipywidgets import HBox, VBox\n",
    "from IPython.display import clear_output\n",
    "from IPython.display import display\n",
    "from ipywidgets import IntSlider, Output\n",
    "from itertools import product\n",
    "from scipy.signal import find_peaks\n",
    "import math\n",
    "from mpl_toolkits.mplot3d import Axes3D\n",
    "\n",
    "# Local module and scripts\n",
    "from pyccapt.calibration.calibration_tools import tools, variables, calibration\n",
    "from pyccapt.calibration.calibration_tools import widgets as wd\n",
    "from pyccapt.calibration.data_tools import data_tools, data_loadcrop, dataset_path_qt\n",
    "from pyccapt.calibration.mc import mc_tools\n",
    "from pyccapt.calibration.leap_tools import ccapt_tools"
   ]
  },
  {
   "cell_type": "code",
   "execution_count": 2,
   "metadata": {},
   "outputs": [],
   "source": [
    "%load_ext autoreload\n",
    "%autoreload 2"
   ]
  },
  {
   "cell_type": "code",
   "execution_count": 3,
   "metadata": {},
   "outputs": [],
   "source": [
    "%reload_ext autoreload"
   ]
  },
  {
   "cell_type": "code",
   "execution_count": 4,
   "metadata": {
    "pycharm": {
     "name": "#%%\n"
    }
   },
   "outputs": [],
   "source": [
    "# Disable showing logging in Jupyter notebook\n",
    "logging.disable(sys.maxsize)"
   ]
  },
  {
   "cell_type": "code",
   "execution_count": 5,
   "metadata": {},
   "outputs": [
    {
     "data": {
      "application/vnd.jupyter.widget-view+json": {
       "model_id": "e765f4d4d1794f1f82b2d9dbbc906372",
       "version_major": 2,
       "version_minor": 0
      },
      "text/plain": [
       "Button(description='load dataset', style=ButtonStyle())"
      ]
     },
     "execution_count": 5,
     "metadata": {},
     "output_type": "execute_result"
    }
   ],
   "source": [
    "button = widgets.Button(\n",
    "    description='load dataset',\n",
    ")\n",
    "\n",
    "@button.on_click\n",
    "def open_file_on_click(b):\n",
    "    global dataset_path\n",
    "    dataset_path = dataset_path_qt.gui_fname().decode('ASCII')\n",
    "button"
   ]
  },
  {
   "cell_type": "code",
   "execution_count": 6,
   "metadata": {},
   "outputs": [
    {
     "data": {
      "application/vnd.jupyter.widget-view+json": {
       "model_id": "3ceccb81dc7c43ea8c71ed8efb050aff",
       "version_major": 2,
       "version_minor": 0
      },
      "text/plain": [
       "Dropdown(description='Data mode:', options=('surface_concept', 'roentdec', 'leap_epos', 'leap_pos'), value='su…"
      ]
     },
     "metadata": {},
     "output_type": "display_data"
    },
    {
     "data": {
      "application/vnd.jupyter.widget-view+json": {
       "model_id": "2e0b3d55dc0d4e5191211bb56ad4671b",
       "version_major": 2,
       "version_minor": 0
      },
      "text/plain": [
       "FloatText(value=78.0, description='Detector diameter:')"
      ]
     },
     "metadata": {},
     "output_type": "display_data"
    },
    {
     "data": {
      "application/vnd.jupyter.widget-view+json": {
       "model_id": "d441da4c4ffc41518c919f637c98182f",
       "version_major": 2,
       "version_minor": 0
      },
      "text/plain": [
       "Dropdown(description='Pulse mode:', options=('voltage', 'laser'), value='voltage')"
      ]
     },
     "metadata": {},
     "output_type": "display_data"
    },
    {
     "data": {
      "application/vnd.jupyter.widget-view+json": {
       "model_id": "4d90fe050cd64f91af87b29bd5785702",
       "version_major": 2,
       "version_minor": 0
      },
      "text/plain": [
       "FloatText(value=110.0, description='Flight path length:')"
      ]
     },
     "metadata": {},
     "output_type": "display_data"
    },
    {
     "data": {
      "application/vnd.jupyter.widget-view+json": {
       "model_id": "eefe3c0edb434777afb19a2ed1a4f499",
       "version_major": 2,
       "version_minor": 0
      },
      "text/plain": [
       "FloatText(value=54.0, description='t0:')"
      ]
     },
     "metadata": {},
     "output_type": "display_data"
    }
   ],
   "source": [
    "tdc, pulse_mode, flightPathLength_d, t0_d, max_mc, det_diam = wd.dataset_tdc_selection()\n",
    "display(tdc, det_diam, pulse_mode, flightPathLength_d, t0_d)"
   ]
  },
  {
   "cell_type": "markdown",
   "metadata": {
    "pycharm": {
     "name": "#%% md\n"
    }
   },
   "source": [
    "$$\\textbf{You can specify which dataset to use in below block}$$"
   ]
  },
  {
   "cell_type": "code",
   "execution_count": 70,
   "metadata": {
    "pycharm": {
     "name": "#%%\n"
    }
   },
   "outputs": [
    {
     "name": "stdout",
     "output_type": "stream",
     "text": [
      "The result will be saved on the path: D:/pyccapt/tests/data/tof_calibration/\n"
     ]
    }
   ],
   "source": [
    "dataset_main_path = os.path.dirname(dataset_path)\n",
    "dataset_name_with_extention = os.path.basename(dataset_path)\n",
    "dataset_name = os.path.splitext(dataset_name_with_extention)[0]\n",
    "\n",
    "\n",
    "variables.init()\n",
    "# variables.path = os.path.join(p, 'tests//data')\n",
    "variables.result_path = os.path.dirname(dataset_main_path) +  '/tof_calibration/'\n",
    "if not os.path.isdir(variables.result_path):\n",
    "    os.makedirs(variables.result_path, mode=0o777, exist_ok=True)\n",
    "print('The result will be saved on the path:', variables.result_path)\n",
    "\n",
    "filename = dataset_path\n",
    "\n",
    "head, tail = os.path.split(filename)\n",
    "figname = os.path.splitext(tail)[0]\n",
    "\n",
    "if tdc.value == 'leap_pos' or tdc.value == 'leap_epos':\n",
    "    if tdc.value == 'leap_epos':\n",
    "        data = ccapt_tools.epos_to_ccapt(filename)\n",
    "    else:\n",
    "        print('The file has to be epos. With pos information this tutorial cannot be run')\n",
    "        data = ccapt_tools.pos_to_ccapt(filename)\n",
    "else:\n",
    "    data = data_tools.read_hdf5_through_pandas(filename)\n"
   ]
  },
  {
   "cell_type": "code",
   "execution_count": 71,
   "metadata": {
    "pycharm": {
     "name": "#%%\n"
    }
   },
   "outputs": [
    {
     "data": {
      "text/html": [
       "<div>\n",
       "<style scoped>\n",
       "    .dataframe tbody tr th:only-of-type {\n",
       "        vertical-align: middle;\n",
       "    }\n",
       "\n",
       "    .dataframe tbody tr th {\n",
       "        vertical-align: top;\n",
       "    }\n",
       "\n",
       "    .dataframe thead th {\n",
       "        text-align: right;\n",
       "    }\n",
       "</style>\n",
       "<table border=\"1\" class=\"dataframe\">\n",
       "  <thead>\n",
       "    <tr style=\"text-align: right;\">\n",
       "      <th></th>\n",
       "      <th>x (nm)</th>\n",
       "      <th>y (nm)</th>\n",
       "      <th>z (nm)</th>\n",
       "      <th>mc_c (Da)</th>\n",
       "      <th>mc (Da)</th>\n",
       "      <th>high_voltage (V)</th>\n",
       "      <th>pulse (V)</th>\n",
       "      <th>start_counter</th>\n",
       "      <th>t (ns)</th>\n",
       "      <th>t_c (ns)</th>\n",
       "      <th>x_det (cm)</th>\n",
       "      <th>y_det (cm)</th>\n",
       "      <th>pulse_pi</th>\n",
       "      <th>ion_pp</th>\n",
       "    </tr>\n",
       "  </thead>\n",
       "  <tbody>\n",
       "    <tr>\n",
       "      <th>0</th>\n",
       "      <td>0.943917</td>\n",
       "      <td>-0.463124</td>\n",
       "      <td>0.019942</td>\n",
       "      <td>91.527626</td>\n",
       "      <td>0.0</td>\n",
       "      <td>3682.110107</td>\n",
       "      <td>0.0</td>\n",
       "      <td>0</td>\n",
       "      <td>3891.519531</td>\n",
       "      <td>0.0</td>\n",
       "      <td>0.392873</td>\n",
       "      <td>0.057275</td>\n",
       "      <td>0</td>\n",
       "      <td>1</td>\n",
       "    </tr>\n",
       "    <tr>\n",
       "      <th>1</th>\n",
       "      <td>2.270334</td>\n",
       "      <td>-5.010604</td>\n",
       "      <td>0.551171</td>\n",
       "      <td>91.982094</td>\n",
       "      <td>0.0</td>\n",
       "      <td>3682.110107</td>\n",
       "      <td>0.0</td>\n",
       "      <td>0</td>\n",
       "      <td>3904.508789</td>\n",
       "      <td>0.0</td>\n",
       "      <td>0.702811</td>\n",
       "      <td>-0.243931</td>\n",
       "      <td>43</td>\n",
       "      <td>1</td>\n",
       "    </tr>\n",
       "    <tr>\n",
       "      <th>2</th>\n",
       "      <td>-5.462508</td>\n",
       "      <td>0.471533</td>\n",
       "      <td>0.547564</td>\n",
       "      <td>92.993858</td>\n",
       "      <td>0.0</td>\n",
       "      <td>3682.110107</td>\n",
       "      <td>0.0</td>\n",
       "      <td>0</td>\n",
       "      <td>3878.014160</td>\n",
       "      <td>0.0</td>\n",
       "      <td>-0.112540</td>\n",
       "      <td>-0.152062</td>\n",
       "      <td>211</td>\n",
       "      <td>1</td>\n",
       "    </tr>\n",
       "    <tr>\n",
       "      <th>3</th>\n",
       "      <td>8.305490</td>\n",
       "      <td>4.298521</td>\n",
       "      <td>1.624813</td>\n",
       "      <td>60.973576</td>\n",
       "      <td>0.0</td>\n",
       "      <td>3682.110107</td>\n",
       "      <td>0.0</td>\n",
       "      <td>0</td>\n",
       "      <td>3204.297363</td>\n",
       "      <td>0.0</td>\n",
       "      <td>0.712028</td>\n",
       "      <td>0.788533</td>\n",
       "      <td>66</td>\n",
       "      <td>1</td>\n",
       "    </tr>\n",
       "    <tr>\n",
       "      <th>4</th>\n",
       "      <td>2.990205</td>\n",
       "      <td>0.078835</td>\n",
       "      <td>0.161882</td>\n",
       "      <td>61.330170</td>\n",
       "      <td>0.0</td>\n",
       "      <td>3682.110107</td>\n",
       "      <td>0.0</td>\n",
       "      <td>0</td>\n",
       "      <td>3195.071777</td>\n",
       "      <td>0.0</td>\n",
       "      <td>0.512681</td>\n",
       "      <td>0.189050</td>\n",
       "      <td>18</td>\n",
       "      <td>1</td>\n",
       "    </tr>\n",
       "    <tr>\n",
       "      <th>...</th>\n",
       "      <td>...</td>\n",
       "      <td>...</td>\n",
       "      <td>...</td>\n",
       "      <td>...</td>\n",
       "      <td>...</td>\n",
       "      <td>...</td>\n",
       "      <td>...</td>\n",
       "      <td>...</td>\n",
       "      <td>...</td>\n",
       "      <td>...</td>\n",
       "      <td>...</td>\n",
       "      <td>...</td>\n",
       "      <td>...</td>\n",
       "      <td>...</td>\n",
       "    </tr>\n",
       "    <tr>\n",
       "      <th>549698</th>\n",
       "      <td>-4.680508</td>\n",
       "      <td>-0.665500</td>\n",
       "      <td>8.134455</td>\n",
       "      <td>99.078377</td>\n",
       "      <td>0.0</td>\n",
       "      <td>1334.670044</td>\n",
       "      <td>0.0</td>\n",
       "      <td>0</td>\n",
       "      <td>6555.320312</td>\n",
       "      <td>0.0</td>\n",
       "      <td>-0.575553</td>\n",
       "      <td>-0.705528</td>\n",
       "      <td>1</td>\n",
       "      <td>1</td>\n",
       "    </tr>\n",
       "    <tr>\n",
       "      <th>549699</th>\n",
       "      <td>-3.787911</td>\n",
       "      <td>-3.385010</td>\n",
       "      <td>8.331511</td>\n",
       "      <td>216.163483</td>\n",
       "      <td>0.0</td>\n",
       "      <td>1334.670044</td>\n",
       "      <td>0.0</td>\n",
       "      <td>0</td>\n",
       "      <td>9699.115234</td>\n",
       "      <td>0.0</td>\n",
       "      <td>-0.047374</td>\n",
       "      <td>-1.282389</td>\n",
       "      <td>43</td>\n",
       "      <td>1</td>\n",
       "    </tr>\n",
       "    <tr>\n",
       "      <th>549700</th>\n",
       "      <td>-2.945118</td>\n",
       "      <td>-1.283401</td>\n",
       "      <td>7.480402</td>\n",
       "      <td>101.124908</td>\n",
       "      <td>0.0</td>\n",
       "      <td>1334.670044</td>\n",
       "      <td>0.0</td>\n",
       "      <td>0</td>\n",
       "      <td>6691.295410</td>\n",
       "      <td>0.0</td>\n",
       "      <td>-0.129701</td>\n",
       "      <td>-0.605268</td>\n",
       "      <td>114</td>\n",
       "      <td>1</td>\n",
       "    </tr>\n",
       "    <tr>\n",
       "      <th>549701</th>\n",
       "      <td>-4.043397</td>\n",
       "      <td>-0.999465</td>\n",
       "      <td>7.856801</td>\n",
       "      <td>100.075027</td>\n",
       "      <td>0.0</td>\n",
       "      <td>1334.670044</td>\n",
       "      <td>0.0</td>\n",
       "      <td>0</td>\n",
       "      <td>6614.916504</td>\n",
       "      <td>0.0</td>\n",
       "      <td>-0.393382</td>\n",
       "      <td>-0.694126</td>\n",
       "      <td>211</td>\n",
       "      <td>1</td>\n",
       "    </tr>\n",
       "    <tr>\n",
       "      <th>549702</th>\n",
       "      <td>-3.605551</td>\n",
       "      <td>-1.773034</td>\n",
       "      <td>7.791200</td>\n",
       "      <td>93.055229</td>\n",
       "      <td>0.0</td>\n",
       "      <td>1334.670044</td>\n",
       "      <td>0.0</td>\n",
       "      <td>0</td>\n",
       "      <td>6389.932617</td>\n",
       "      <td>0.0</td>\n",
       "      <td>-0.201848</td>\n",
       "      <td>-0.819208</td>\n",
       "      <td>531</td>\n",
       "      <td>1</td>\n",
       "    </tr>\n",
       "  </tbody>\n",
       "</table>\n",
       "<p>549703 rows × 14 columns</p>\n",
       "</div>"
      ],
      "text/plain": [
       "          x (nm)    y (nm)    z (nm)   mc_c (Da)  mc (Da)  high_voltage (V)  \\\n",
       "0       0.943917 -0.463124  0.019942   91.527626      0.0       3682.110107   \n",
       "1       2.270334 -5.010604  0.551171   91.982094      0.0       3682.110107   \n",
       "2      -5.462508  0.471533  0.547564   92.993858      0.0       3682.110107   \n",
       "3       8.305490  4.298521  1.624813   60.973576      0.0       3682.110107   \n",
       "4       2.990205  0.078835  0.161882   61.330170      0.0       3682.110107   \n",
       "...          ...       ...       ...         ...      ...               ...   \n",
       "549698 -4.680508 -0.665500  8.134455   99.078377      0.0       1334.670044   \n",
       "549699 -3.787911 -3.385010  8.331511  216.163483      0.0       1334.670044   \n",
       "549700 -2.945118 -1.283401  7.480402  101.124908      0.0       1334.670044   \n",
       "549701 -4.043397 -0.999465  7.856801  100.075027      0.0       1334.670044   \n",
       "549702 -3.605551 -1.773034  7.791200   93.055229      0.0       1334.670044   \n",
       "\n",
       "        pulse (V)  start_counter       t (ns)  t_c (ns)  x_det (cm)  \\\n",
       "0             0.0              0  3891.519531       0.0    0.392873   \n",
       "1             0.0              0  3904.508789       0.0    0.702811   \n",
       "2             0.0              0  3878.014160       0.0   -0.112540   \n",
       "3             0.0              0  3204.297363       0.0    0.712028   \n",
       "4             0.0              0  3195.071777       0.0    0.512681   \n",
       "...           ...            ...          ...       ...         ...   \n",
       "549698        0.0              0  6555.320312       0.0   -0.575553   \n",
       "549699        0.0              0  9699.115234       0.0   -0.047374   \n",
       "549700        0.0              0  6691.295410       0.0   -0.129701   \n",
       "549701        0.0              0  6614.916504       0.0   -0.393382   \n",
       "549702        0.0              0  6389.932617       0.0   -0.201848   \n",
       "\n",
       "        y_det (cm)  pulse_pi  ion_pp  \n",
       "0         0.057275         0       1  \n",
       "1        -0.243931        43       1  \n",
       "2        -0.152062       211       1  \n",
       "3         0.788533        66       1  \n",
       "4         0.189050        18       1  \n",
       "...            ...       ...     ...  \n",
       "549698   -0.705528         1       1  \n",
       "549699   -1.282389        43       1  \n",
       "549700   -0.605268       114       1  \n",
       "549701   -0.694126       211       1  \n",
       "549702   -0.819208       531       1  \n",
       "\n",
       "[549703 rows x 14 columns]"
      ]
     },
     "execution_count": 71,
     "metadata": {},
     "output_type": "execute_result"
    }
   ],
   "source": [
    "data"
   ]
  },
  {
   "cell_type": "code",
   "execution_count": 72,
   "metadata": {
    "pycharm": {
     "name": "#%%\n"
    }
   },
   "outputs": [],
   "source": [
    "# Remove negative TOF\n",
    "# threshold = 0\n",
    "# dld_t_mask = data['t (ns)'].to_numpy()\n",
    "# dld_t_mask = (dld_t <= threshold)\n",
    "# data.drop(np.where(dld_t_mask)[0], inplace=True)\n",
    "# data.reset_index(inplace=True, drop=True)\n"
   ]
  },
  {
   "cell_type": "code",
   "execution_count": 73,
   "metadata": {},
   "outputs": [
    {
     "data": {
      "application/vnd.jupyter.widget-view+json": {
       "model_id": "1769d77334094914acd053e3eceed02a",
       "version_major": 2,
       "version_minor": 0
      },
      "image/png": "[encoded data removed]",
      "text/html": [
       "\n",
       "            <div style=\"display: inline-block;\">\n",
       "                <div class=\"jupyter-widgets widget-label\" style=\"text-align: center;\">\n",
       "                    Figure\n",
       "                </div>\n",
       "                <img src='data:image/png;base64,iVBORw0KGgoAAAANSUhEUgAAAbEAAADECAYAAAARSB93AAAAOXRFWHRTb2Z0d2FyZQBNYXRwbG90bGliIHZlcnNpb24zLjcuMSwgaHR0cHM6Ly9tYXRwbG90bGliLm9yZy/bCgiHAAAACXBIWXMAAA9hAAAPYQGoP6dpAABnvElEQVR4nO2dd3wVVfqHn7k1PSEkJKEkBJGSCAQCxGCDJYKIlVgXhRVWFwUs+LNhQd1dwF5Q0V3XsiuuDVBXBEUUFEVKACmBSCAQShIC6e3W8/tjcod7k5sGCbmB8/CZD5kzZ86cmZvM977nvOd9FSGEQCKRSCSSDoiuvTsgkUgkEsnJYmjvDrQ3drudLVu2EBUVhU4nNV0ikZwenE4nBQUFDB48GIOhfV/FNTU1WK3WBo+bTCb8/PxOY4+az1kvYlu2bGH48OHt3Q2JRHKWsmHDBoYNG9Zu16+pqaFnfBAF+Y4G60RHR5OTk+OTQnbWi1hUVBQA/oa70OlC2rk3EonkTGXJxUW8/d0AUrtUs+6oP1UUs4wntHdQe2G1WinId5D5e0+Cg+uPRpWXO0nosx+r1SpFzBdxDSHqdCHodKHt3BtJRyDdEsdi84H27oakgzBbxDFXOUBeZm9uTSxnSWZ3hpih1AnLbPjMNEZwkJ6QYH39A6JhC80X8I2nJ5F0IKSASVpClhUWhEcys6iQiXtrtN+fPj2PtXPPPNHZlQY3gGHDhpGQkMDrr7/ezj315Ky3xCQSiaStmC3iwASr8wLArFrxAJhg5gFL+3auDopD3byVA2zcuJGQEN+bcpEiJpFIJG1EYu8ClmRGsdh8QB1WdLPiZzq7Mb8d+1YXRYDi9F7uy8jhxFos9osRwst4sEQikZwkSzJPOG0k9i5gtogj3RLHonP82Gtrx455QXGIBjdfRlpitdidF1BlHUSA6SMUpeH1EhKJRNJc3OdPJ+6tAeUAixL8WJIZxdembeBDrxrFLlDs9QXLW5kvIS0xN5yiK1XWm3CKoPbuikQi6eBo81+1P88W6rYzWx1enCm6tWPv6uOaE/O2+TLSEtOoAUJUIbNMwWxcgVH/e3t3SiKRdFD6mk787M2j1deGE3HWbt7KfRhpidXiZ/gPCmUACAKosU2gynodDmdkO/dMIpF0RLKaGCr82nT49HSkmahWl7c5sfbuWeNIEatFrztGoPkd9Lpsrczh7E2VdSpV1nTsjjhkvH+JRNJcRsZUtXcXWoTiAMXuZZMi1nFQlBr8jZ/hZ/wShXKt3OE8l2rbzVRa7qLGNgohTI20IpFIJDCzqFBdJ9ZBUETDG8jFzh0GRQGjPhOD7ndsjsFY7cMQqAv8BCHYHCnolDJMhox27qlEIvF15iodKLqLvXbzVo7vLnaWllgDKIodk2EjgeY38TMuBU7Y1E4R3H4dk0gkHYKmrLDLrb7onah42dq7Z40jRawJFMWJUZ9FgOkDt1JpwEokkoZxd69vCF9z7MDRyObDyLdxsznxSdocQwEHZsM6BCYQBgQ61O8ECqDDKTphcyTgdEaiKDYUpRyzYSV6XVE79V8ikZxOYjpXQQf6c1ecCopT8Vruy0gRayYKnsE6bY4UbI6UZp0rBCAisNhHE2D6tA16J5FImsvJpNJpyTmuuos7kIAB4FTA4UWwfFzE5HBiM1GUUgy6U1v87HDGIYTvJZWTSM5kZos4vkhSV+y6i5FryC/dEud1+M8V53BB+Im1ok0NE84WcUxIKGitrp9e5HDimY2igL9pCU7hjxAhWOyjcDh7AqDXHUCnlHBiybu6KYoFo34rVvv52BzDAQM2Rx9Mhm3tdRsSyVmFKyElW9Xv64vNBzQh6mtSj2fVlmt1UcUqJqYKjgdodd3PdxdCdwstpnOVGiOxI+JUvFtdPm6JSRFrITqlGpRqAkwfNfsco35XrYipa85AiphEcjrIsgJmzzKXEM1VDrAgPJKsPFWo3OewXMOBCzpHEt5JXTM6+3gcMZ2ryDve8PWSkneR/lVyh0yc6vJG9Fbuy0gROw3olDwUKhEEYnfGIYRJRsqXSFrIycxl1bWc3MtBXZDsErmZRYX1zp9ZVEh6Xu35CqrIKfXbATV788tftbyPPoOjgTkxHxcxOSd2GlAUMGjBhE3YHAPatT8SSUfkZMWhJQ4Z3ua86s6heWNBeCSr8wI6roABOHQNb/huxA4pYqcJgz5T+9liv0jGYZRIThF3xwz3/xtjQXgki8454VzlSpECqlj1bSSi3MiYKq2uu+ClW+KYWVRYzyrrcDgb2VAjdmRmZjJ9+vT26qFX2kTEHA4Hjz/+OPHx8fj7+3POOefw17/+FeH25hZC8MQTTxATE4O/vz9paWns2bPHo52ioiImTpxISEgIYWFhTJ06lYqKCo8627Zt46KLLsLPz48ePXrw7LPPtsUtnTJ65aDbnh9gbLW2nc5OVFuvoMp6E9XWCVjsFyCEbw8BSCTNwV2YZgtPT0FXgF2XeLicM+qKmUu0Zos48o4HsCQzysO5Y65y4ryYzlVa3i+XULk219zYgvBIRsZUadfz1mdvQ5O+jnDqEA4vm9O3bZ02mRN75plnWLhwIe+//z6JiYls2rSJ2267jdDQUO6++24Ann32WV599VXef/994uPjefzxxxk7diyZmZn4+am/dBMnTiQvL4+VK1dis9m47bbbuOOOO/jwww8BKCsrY8yYMaSlpfHmm2+yfft2pkyZQlhYGHfccUdb3NpJoyigUw7j1BLh1f/FEAIE/iBMgB6BHtAhhBmniMYpQmrP0yGEHlAQIhSH6OHZkLMPCpWYDFvb8pYkklbHXYAWmw+w2Kw6X8wsKlQ9B4tOeByuzguo57QxVznAbJOnsLi8BV2eh4sS/Ji4t8bDGzHLWiuGeW5zWuYT83CzRRxLMqOY9oed7N4Vz+q8ABbERLI6z3O4sjnWoM/SQefEFCFaf2DriiuuICoqin/9619aWXp6Ov7+/nzwwQcIIejatSv3338///d//wdAaWkpUVFRvPfee9x0003s2rWLhIQENm7cyNChQwFYsWIFl19+OYcOHaJr164sXLiQRx99lPz8fEwmdRzg4Ycf5vPPP2f37t3N6uuhQ4fo0aMHgaaH0elCW/lJeKLmJ+tdu1eDotSAcEX60NWKlrnhBlqAohQRaHobRfHxjHaSsxaXQHhzvGiuE8fJOHu0Fo252jcHp7OUSut8Dh48SPfu3duii82irKyM0NBQiv87gJAAff3jVQ463byd0tJSnwwA7GGJzZo1q8kTQkJCePLJJxutM2LECP7xj3/w+++/06dPH3777TfWrl3Liy++CEBOTg75+fmkpaVp54SGhpKSksK6deu46aabWLduHWFhYZqAAaSlpaHT6Vi/fj3XXnst69at4+KLL9YEDGDs2LE888wzFBcX06lTp3p9s1gsWCwnom+Ul5fXq9NWeEb98GvVhc865TD+ps+pst6MEOEIEY7d2Q+j21ycROJLuA8DulNXENItcdpcVd2o8KciIqeK63qzRRyY2ldQWwU3Jw7Pct+ewPcQsf/+979Mmzat0RMWLVrUpIg9/PDDlJWV0a9fP/R6PQ6Hg7///e9MnDgRgPz8fACioqI8zouKitKO5efn06VLF8/OGgyEh4d71ImPj6/XhuuYNxGbN28eTz31VKP9bytMhs04bdE4RSCKx6ypAEX9WadUoFAJOFCUE0vmdUoxet1R1LwITvU4ztrzbOr6NcDPuJxqq/qcrfYRGHSZKL49GiCReODNHd41pOiN2UJdmNzcME+nIjbuQ5AutKHI1hlEaT866HCih4iNHj2aOXPmNHpCXecLb3zyyScsWrSIDz/8kMTERLZu3cq9995L165dmTx58qn1+BR55JFHPCzOw4cPk5CQcFqurdcdJtD8z7a9hpsDiVNEIEQnFKW4Ta8pOXk6/Ld3vL/YT+W+vA3T5R0PIN3qvc0sK+qC5Toi4q1fcPKu+lDfEky3xDEpJYfFW9ve+WHhwoUsXLiQ/fv3A5CYmMgTTzzBuHHjvNafMKHpNsPDoXaATHPkqIvoSJbYBx980FC9FtV54IEHePjhh7npppsAGDBgAAcOHGDevHlMnjyZ6OhoAAoKCoiJidHOKygoICkpCYDo6GiOHj3q0a7dbqeoqEg7Pzo6moICzzhlrn1XnbqYzWbM5hO/7WVlZU3eT0dCUVQhczl7iJPwghQCD+tNCLDY07A7+qOG06rGqN8sHUdOEveXdEcXsHRLHHO93MMpWTpu57ra0awdL3grny3ivEbrOBXqimtfE8w1HzgtAgbQvXt35s+fz7nnnosQgvfff5+rr76aLVu2kJiYWK9+RgY8/XTjbc6f77ZzJoWd2rhxI4mJiQQEBPDJJ5+wYcMGZs2aRdeuXZvVaFVVFTqd5wer1+txOlUng/j4eKKjo1m1apUmWmVlZaxfv54777wTgNTUVEpKSsjIyCA5ORmA77//HqfTSUpKilbn0UcfxWazYTSqL+uVK1fSt29fr0OJZws6XQEOhypiFtul+Jn+h0KF5uQhhBGbYxBO0QmFagz63eh1xxDCTI3tUuzO/oCoPbYHIQKwO/tp7QsRjMWehlG/E0Wxtcctdmjqzve0ppCdbsuuOXNS7h5+jYmRC28WVEvvaa7S+sN7i72Ia2tQXl7u8WW67hdtF1deeaXH/t///ncWLlzIr7/+6lXEbrwRmhr42rnTbcepeJ8Tc/q2c5jXrxB//vOfMZvN7Nmzh0cffRSj0chtt93W7EavvPJK/v73v7Ns2TL279/P0qVLefHFF7n22msBUBSFe++9l7/97W98+eWXbN++nUmTJtG1a1euueYaAPr3789ll13G7bffzoYNG/j555+ZMWMGN910kyamf/zjHzGZTEydOpWdO3fy8ccf88orrzTLQeVMRuFESCuH6EGl5S4qLA9SXnM/5TX3UWG5H4s9DZsjGavjQqqsk3GKECqtt2F3ngfoAQOCYGyOIR4CdgIDAhmR/1RoC8HxcDZoY+q6wzfVp7nKAe3nhhYDz1UOeB0CrHu9M4mEhARCQ0O1bd68eU2e43A4+Oijj6isrCQ1NdVrnblzm762+7Ja4VQa3HwZr5aYXq9Hr9ezfPly7rzzTmbNmsXgwYOb3eiCBQt4/PHHueuuuzh69Chdu3blL3/5C0888YRW58EHH6SyspI77riDkpISLrzwQlasWKGtEQPViWTGjBmMHj0anU5Heno6r776qnY8NDSUb7/9lunTp5OcnExERARPPPGEz60RO90Y9LuwOoZAPZFpaGjRSKXlrma0bEOvO4LDqb5MnCIMnXL6vDvPNNrSYpqrnIjW7u06reHcUDccU0Ptueq7W2Qzi1o+h9bRh14bIjMzk27dumn73qwwF9u3byc1NZWamhqCgoJYunRpg3P6MTEwaRJMnQrNmvbvoMOJXteJJSYm8v3333PLLbfwzDPPMGTIEAYOHMi2bWde9PXTuU7sdCKEDruzP3ZHT9ViEn4ei6IVqlCUUpwipt65el0O/sbPsTn6AormJanXHcZqvwCbYxCgBjYONL9/mu6o49OQo0FjnnetQXMFq6H+NdV2X1Pjc1Yn2/aZzsmsE7NareTm5lJaWspnn33G22+/zZo1a7wK2ZYt8M478OGH0KePKmY33QRBQZ71XOvEji04nxD/+nZNWbWdiJm/+uw6Ma/Diffddx99+/YlNDSUIUOGsHfv3rN6jqkjoihOjPqd+JuWEWBaTIB5EUHm+QSY/kmg6S0Cza8SYHofk/4X9Loc9LpsDLrdGPUb8TN+haJYMBm2YTL8hlG/A6N+FzqlDJ1yWLuGU8RgtQ/G7uzRSE/OPhoa9mroJb66NhVIc9tpKY3NVbnTlMh4G6JcbD7g1Sqri7tlKDl5TCYTvXv3Jjk5mXnz5jFo0CBeeeUVr3UHD4YFCyAvD+65Bz79FLp1gylT4Jdf6tcXTl2Dmy/TrIgdTqcTu93usaj4TOFMtcTaCiGgwvJwvXJ/42cY9Nnt0COJ5il3CpZOS4YXz4iI7T5Aa0Ts+MMf/kBsbCzvvfdes+rv3Qs336x6LjpqMza7LLHCFy9o0BKLnPWzz1piDcZOXL9+PXv37sVut2tlkyZNOi2dkvguDS2crrZdR6DuDXRK00sWhDDgcHbFKSJQY0TqAD0IA04RDBjQKaUYDRvRKZWt2f0zkqa8AhvDVaevqb4LuYuRMVVqXq3a4+45uE6GM2FtXHvwyCOPMG7cOGJjYykvL+fDDz9k9erVfPPNN02eu23biaHFvn3BLSKgRkNOHK6yYcOGodfrmT59uk9FsvcqYnfeeSfffPMNSUlJ6PVqLC1FUaSISQDQKUdwivrLLSotd2Ey/ATYQRhxinAEJtBESo0PqYpX01a9wIyfsek/0I7Eyb7AXXNKriE9l9XlrT1vjhcNufW7ew56y4AMaJEwWkt4pICdHEePHmXSpEnk5eURGhrKwIED+eabb7j00ku91i8uVkXrX/+C/Hy49Vb46SdVxLzR0NChq2zjxo0dxxL77rvvPKLJSyTu+Js+xeHsiV45gt3ZB4t9tHbMar+o1a7jFGGt1tbpxn1N1Mksbq5rFc2tbSeLptcruQSurphpZY30wd0yq9sPSfvyL2/mUyP06AGjR8OcOXDFFaCvH9vXE2cDsRN9fE7Mq4jFxMQ06uYpObvRKdXo9LsAMOk2IjBgtV/SghZqMOhy0esOoShlaHEgcaAo1VRZ1TWJTmc4FtuF6HRFGHS7UBTfDn/jjsuyOVkR8CZUJ7Xgtxllze2HpGOxZ4/qZn/8eH0B+/131WPRHSHwmqzX1xP4ehWxlJQUrrvuOm688UYPa+yqq646bR2TdBxM+nUYdL8jRBDqImgTYEenFKMolZpAuQIeNx2Q2IE6VxaK1XEhOMDPSJtE5G9KZE7VEmlNEag7lNgWeAwvSjo0roh+11wD330HLrtk/3648krIyvKs33DsxA5oiW3atAlQA066UBRFipjEK2q8xuPA8VZpT6/Lccu7puJ0RqqBRNqIhsTKlywRKSySk+GGG+CPf4TFi1V3+8svh5deql/vjBKxH3744XT3QyLR8DcuxiG643RGYbGrOeesjlQUpQy9Lq/WurMhMCCEf60F6PJydEsyKvS1C71NoNjRKUUYdFkelmBTQ3WNOUXUjQXYXvNHbX1dOS/WsZk5U7W+/vIXWL8e/vpXVcjqononenPs8O2IHR4iduzYMSIiIho9oTl1JJK6tORFqCgCg3IQh1sMSACLfewp98Nk+AGzYX2T/XKVNyZuc82e817u4nY6raa2FhgpYK3DbBFHTOcqLTrL5dZufNqG13MPsHTLLXDHHXDppXDuueqxgQPrnNBBw055iNiYMWPYvHlzoyc0p45EUpeTeRHqlOMoVCIIbLV+GOwpCP36JuflGuqvy2vP3euwbl057CfxRpYVOB7AbNS5zV6Dt/Lplra73tVX1y/77DN1UxTYt8/zmNOp4PQiWN7KfAkPEdu9ezdDhgxp9ITjx1tn3kMiaQpFsRNgfhunMxqHiEKIAHX4EH+inQGE6RxkUYJOKePKADP/qy6vkzHbgaJYULBQbbsa8KeKAAJENHpFzQ5+Kh5/0kKReMNbQOTsO3+j98IT0VWmPfApSz+uawq1Ljk5Lat/RsyJLV++vMkTzsTQUxLfRXXnz8GA519kWe3mT+1wnu0Af3Q0PGRpFqux2NUMuDbHYPS6pn/Xm4Oam20gilKJQbe7GZ6XkjOduuvyAB56OQ7MB5j2h50czY+gLL8TCcm7YE979dIbCghvv8C+/UvtIWKXXNKStT4SSftQdx6rOeuojPpdWOyjAD9sjkRMhjXolKpT6sNnpkNUWO7XyvyN/8Wgl9bZ2Yp7VBWXxZ7Yu4Cd2VGMjKnirSeXo/OzUrSlJwCl+8PatD/Dh8OGDU3X+e479eczwhKTSDoC3sIsNZUKRFGsGPW/YXOkAAZsjiTMBi+hvBvA7uyBEKHodXvRKdUsNh+g2nqjRx2bYwB6XQGKUtOi+5F0fNItcaSk5JC+Pt4jIsrO7ChiOqtfloyxRQi7noAuZfzwwaWYY3a1aZ9+/x0mTGi8zrFjJ34+I+bEJJKOSHNT0Zv0W7A5hgE6rPaLcTqjMOh3ouDEWeum73Lj1ykVADhFMDW2K7REoACKUgI4EKKzR/t253lUWM7DbFiFybCx1e5P4vssNh9g8VYd1PkiNerCnfRNzcQ/ppjQayZq5V8kVWFr4z41kKHFg5tucttpwBLzGorKh5AiJjlr0OlKMOgysTvPA8Du7Ivd6T0aqsmwBr1ylGrb9fWOiSZiOlrsF2HUb0NRLKfcZ4lv4W3doCvKf102XHWYXmnbqMkLpSLXc1lSRXkAnbq2bYaGyZObV6+sNvGEEArCy5yYtzJfwqvEDh8+vFllEsnporUSKpqNa9ApBU3Ws9ov8SpgCpWAHahBoRKdcqxeHTDVZsWWnKm4JwhtKCv38C+7YYiowGkzEP9KssexouJgqspab+lIa9BRk2J6tcTcc4i59svLy09LhyQSb4uFW8udXaeUE2h+F6czHJsjEYEJRalBQf39tti9hDIAzIZvMRm8r49UA6QqOEU0VVb166/d2R8T27zWl3Rc6saWbOz3craII+yP19cri+lcRWxsARXVvhVkXTgUhMOLJealzJfwELFnnnmG+fPnU1FRQXh4uFZeXV0tc4lJ2hzXUM3pWCys0xVh1v1Ur9ygO4TNMRCBgoIdFAd65QgG/f4G21Ld6gU68lCUEoQIw+GMRQgTimJt8DzJmUu6JY67nvwvc+eN8CifqxyAIqBIh9PpY5bYmTCcOG3aNLZs2UJaWhpbtmzRtiNHjvDWW2+1qOHDhw9zyy230LlzZ/z9/RkwYIAWWBhACMETTzxBTEwM/v7+pKWlsWeP56KJoqIiJk6cSEhICGFhYUydOpWKigqPOtu2beOiiy7Cz8+PHj168Oyzz7b0GUhOE00NCfrC4mGdrgizcTV+xh8wG3/CbPilUQFzR1HAoNtbu6fH5khqtX45RTBOZzhO4d9qbZ6NtNawdFP8/a7lBKfknLbrNcXixTB3rvrz4cOwfXv9Oh11ONGjd6GhofTs2ZPly5cTFxenbZ06dWpRo8XFxVxwwQUYjUaWL19OZmYmL7zwgkc7zz77LK+++ipvvvkm69evJzAwkLFjx1JTc8I9eeLEiezcuZOVK1fy1Vdf8eOPP3LHHXdox8vKyhgzZgxxcXFkZGTw3HPP8eSTT/KPf/zjZJ+HpA1pSqR85Q/+VDDqtwFqAiaL/RKEODFkJMTJvQxqbJdSaZlOpfUOKi33UG29yue/HTeXlnzmJ/v7sSA8kgXhkUDbf1FKt8SRbonDYLIxZdxsn/hi9sQT8Pbb8N576r5OpwYDrovTqeB06OpvHdHFfvPmzcyePZt9+/Zht9sRQqAoCvvqBttqgGeeeYYePXrw7rvvamXx8fHaz0IIXn75ZR577DGurg3w9e9//5uoqCg+//xzbrrpJnbt2sWKFSvYuHEjQ4cOBWDBggVcfvnlPP/883Tt2pVFixZhtVp55513MJlMJCYmsnXrVl588UUPsXPHYrFgsZzwGpNzfb6DL/zBnyp6XQEG3R7szj6AngrLfW5HHZgMazEb1jW7Pat9ODaHp1OA3ZmAzXEQk6ENA++1MScTGf9kfz+SkneRu6+7OoxXe+17r8igqFCdMqkoD2Di3hpN6FznFBWGU1EeAMDEvU2v/VsQHklsbA4BgVW888ZVPvP7/MUXsHkz1L5GiYmBOgNagCuKvZfhRB8XMa9fDSdPnsy1117LZ599xv/+9z+++uor/ve//zW70S+//JKhQ4dy/fXX06VLFwYPHsw///lP7XhOTg75+fmkpaVpZaGhoaSkpLBunfoHvm7dOsLCwjQBA0hLS0On07F+/XqtzsUXX+wRCmvs2LFkZWVRXFzstW/z5s0jNDRU2xISEpp9XxJJczDqGwqQrcdmT27gmOogYnP0x2JPwWIfQY1tLBb7H7zWtTpSfD7jbmO4B1BuS1ZeUMHyb5M1EXIJlUvAAgKr2JkdRboljplFhazOCyC8Uzm5+7oTEFhFl+hjxPY65NUKdPdQ/CLJyYWjN3LJg4vpPTTLp4JA+/vXz+zsPYOz0uDWHlx77bV06tSJ6667rtF6Xi0xvV7PX7zZm81k3759LFy4kFmzZjF79mw2btzI3XffjclkYvLkyeTnq8FXo6KiPM6LiorSjuXn59OlSxfPzhoMhIeHe9Rxt/Dc28zPz/c6DPrII48wa9Ysbf/w4cNSyCStikG/H38+w+boV2uRGXHFnxMEIYQBRbHXO6/Gdg12Zz+vbSpUEmheQLXtRhzOeIQIwym6oleONNkfIcDhjMMpIhHoAQNCmHA4uwN+OEUg6qvAFThZ1AZSFif2lRoUpQqD7neM+q0oyskrqLt4NSZk7l6qC8IjNVf2lohfTHweMbviWdTJj4uu/RGHTc/qZyeQmxvF6rwA+prQor3MFmp6ncWuac29QbXXS6wnug2l23F5I6oBfwc174G0MXFx8NNP6pytzabOjSUl1a/na2Gn7rnnHqZMmcL777/faD2vInbBBRewadMmDyuoJTidToYOHcrc2pnEwYMHs2PHDt58800mN3cFXhthNpsxm0/MU5S5VvpJJK2IQZ+NQZ8NqCJSZf0TThENQIXl/wgyz/cIFmx39GxQwMCOv+m/tY4ju3A41S9uVdZJKEoxCjXodIUg9AiCADs65Rh63RFAT42t5RnZ60qUEKEgwOGMx+oYTqDp/ZMOr9VYrMu6AuUSC5eALQiPZHUeLDrHTwvp1JC4pVvimPOvON7+6EUqd8cQ2C+Pyt0xvP7ce+gMTq4+FgxAYK+jLCgIxT/2c+4tDGb/L/3Ys/MckkduprosAP+QTJ6yGPEL/o17s7sBYPY/zKjjofgFqM8gd193Bn/ak0Xn+HFu4l70pvpfUtqLV19VFz5v3w6BgTBqFCxaVL+e06nD6cWJw1vZ6WDkyJGsXr26yXoeIjZ48GAURcFms/HPf/6T3r174+fnpx1vbh6xmJiYetZN//79Wbx4MQDR0eofc0FBATExMVqdgoICkmq/IkRHR3P06FGPNux2O0VFRdr50dHRFBR4Llx17bvqnMnIjLsdA0UBp/AcVaiwPEyg+TUtvJXFfrHbUYG/8TPAAYoDnXIMnVINgFGfhcU+GlecLSE6qfaSI8ajfQfnYHM0t4c16BTXlzldbYZshQBhogoHatbsE+7gQnSiwjKDANMH6HX5zb1Is3D/fU7sXcC5iXtJ3HkORcXBzCwqJDa2gEmx6jzWuDEZbM3oD5xIcfJFkpOAwCr8Amow+x+m9Hgo1fu6EJT2OxzzJyg5FyJqEEYnphodFPtBpxoMaUfRZRsxGhzEvfot3QIUArMEFQkCvzyBMceMM9JK+Lb96HqWYt+tDktajwfhtOp5+atkFiUUkDBkN7GjdnDH1On1QlC1F1FRsGIFVFWpX6gCG/DsF6KhYcaWX/PHH3/kueeeIyMjg7y8PJYuXco111zjUef111/nueeeIz8/n0GDBrFgwYKTCqrhIWIvv/xyy3vrhQsuuICsrCyPst9//524OHUMOT4+nujoaFatWqWJVllZGevXr+fOO+8EIDU1lZKSEjIyMkhOVucRvv/+e5xOJykpKVqdRx99FJvNhtFoBGDlypX07du3xR6VHREpYB0HnXIEp+juUVZpmYFeOYiiVOMUXbXyQPOrmmjVRVEs+BuXYHUMxyk6NxkCyx2DbjsG/Z7a9W821YJTyutZVIvO8dPmkIJqy54Pi+Guo5fgcPZ0tYbNkYRet6LZ128K15ey2SKOxN4FLMmM4qHEvQxK3c5v6wawsn8FR/MjiO11iNzcKLpU+ZF3PAAUmJBQQFBwFQGBVRzNj2BJpho5/sZfn+HOuKfoa4KUwTn8e328do2YzlWEd1Idu9wdN1yCOG5MBrn7ulNUHKwNPYLaTm5uFFfcuoJtawZz9VYdu+9aTlh8AdWFIeT90ten/jZ//LF+WVgY9OkDbjZKk8OJdUet6o5quVNZWcmgQYOYMmUKE7xEIf7444+ZNWsWb775JikpKbz88suaP0PdaaSmUIRo/enhjRs3MmLECJ566iluuOEGNmzYwO23384//vEPJk5Ug2C6Fla///77xMfH8/jjj7Nt2zYyMzM162/cuHEUFBTw5ptvYrPZuO222xg6dCgffvghAKWlpfTt25cxY8bw0EMPsWPHDqZMmcJLL73UoHdiXQ4dOkSPHj0IND2MThfa2o9CIgHA5uhLje3aJuvplKMEmt9pdrtCGLE7e6FgRVHK0CnlOEWwOhcnDKDYUXCg1x2qHV5sHi5Hhr6mE9EphNBhdaRgtV9S29djGPQ70SuH0esKODGHpm7XWZs39+WKP7g6L4CHrv+FPTvP4dzEvUT3OUxVcRCFuV0w+1uIjM/nUGYcnaKK+W3dAM5N3Evp8VB69MuluiwAm8XI+rVJrM4LYNofdhITn0dIdDGxz6vf7huax3Lvh/v91j3WUP8XnePH+Gfew5odSZeHRzfj6ao4naVUWudz8OBBunfv3vQJJ0lSkjqU2KuXOiqwdy/07QulpfDBB5CcXEZoaChbbryNYC/5IsutVgZ//G698jlz5vDkk082eX1FUepZYikpKQwbNozXXnsNUKegevTowcyZM3n44Ye1eqtXr+a1117js88+a7B9r3Nio0aNQqmT3S8sLIzU1FTuvvvuBtXXxbBhw1i6dCmPPPIITz/9NPHx8bz88suagAE8+OCDVFZWcscdd1BSUsKFF17IihUrPIYvFy1axIwZMxg9ejQ6nY709HReffVV7XhoaCjffvst06dPJzk5mYiICJ544olmC5hEcrow6JqT/bAGs+H7FrWrKDaMes9RD71yHL2u+W783nAXH1eGAEVxYtJv1kTMKSK0n73xHgJq7ATh4Fuliq41x+lECd0MDr5WctHr9qMoThabDzCtfwWXXpvLwd2xpIxZj95kJ2TIAYJ7ldNlW2cUsx0l0EbYzb+hlBnoPmkdHPNHCbYgys0oAVbQC3o+/w23FILiVFDKDYRefqvWnywrYPa0NN2ZlJJDYup2xmV346KVER7CNSGhgEnBTsIji3j5q2QmJBQQ2+sQ54zYhalzBWHX3VSvPV8hORlefhlGjlT316yB99+Hu+6CadPg+9pfOSG8z4m51jcePHiQkJAQrbwpHWgIq9VKRkYGjzzyiFam0+lIS0vTvNNbglcRS05OZtu2bUyePBlFUfj3v/9N165d2bRpEzNnzmzWYuIrrriCK664osHjiqLw9NNP8/TTTzdYJzw8XLO6GmLgwIH89FP98EESSXvQ0Dd2RXGi1+3B4TxXK7syfAvfV6wHxQE4mGCJ4vNmRgc5mT6cDHXbURQLMeSTR3PmnBXASAVGKoQfUBvKzg5wPqN6bOO+kO8pKg5m965I4gfuJWnCz9jKAnBa9dTsi8C+vRu2KjN6o4PjB7oQMygHncGJvdpE0d5oAjuXoTc6KMvvRPg5+ZR93pnocdtwFvljLwryeBau4cCd2VGku0UDcx3PzY0i9txcXv4qWZvPOuFaX8D6LfFMuWs7914BnaKKKS7oRNXREIr2+vb8+6ZN8K9/ndi/5BK4+2513ZjNPR+MaCCzc21ZSEiIh4idLMeOHcPhcHj1Tt+9e7e2n5aWxm+//UZlZSXdu3fn008/JTU1tV57XkXsl19+4aeffkJfu7jg+uuv56KLLmLt2rUMGDDglG9CImlv2sopprE2/QzfEeToQo1Bz8LRC4k6bmPE1ngtGzBmJ5/X1nV3KW8M1324/lfPa/y+XMNqrhd0S5/DGH4g2NgJU7BCTlAY+wpiqLYaKBc6BAqRwRbQCSqr/LEKA4fs4V7b+eHgQNYZ+nHhub8RarVx/Yh/YOxRiuFAMLrwakKvvEXrb5ZVtYYGf9rTa1uu55VuiWPxv9ycytzuzTVM2FD+uZlFhfBpT+0cj+zhewHlAHM1t/na1CorPVOstCXz5s1jyZIl7N69G39/f0aMGMEzzzxD376NZ0zQ6dR5sYtrfYd+/FEtAzw8ZJ0OBafOS1LMdgoA/J0r5XQTeBWx48ePewwnKopCcXExBoPBY7hPIunotIaYNbeNx5Qwbv7TLLb9OoCUvpspOhzBpKG7mWKykbOtgpj4PEblxHDpz0H1BKyh+RyXgLnqQFWDfXTNO811e0m7wiQ1Z+7KxRK/A2Tf+SU15QGERBejM9qxVZkxBlgwhVZjjCynMrsLJQcjCYkuxhRVypr9AygsjKS6yp//7Upl2U71G3WN3cR3u4ap7d6wnEniG5b4eVpBc80HSCeuwagZC8IjVQeNohPW1pnImjVrmD59OsOGDcNutzN79mzGjBlDZmYmgQ25HAKvv64mv6z1fcNmg48+UqN23OcWUKYpF/thw4ah1+uZPn0606dPP+n7iIiIQK/Xe/UsPxmvcq8iNnr0aMaNG8ctt6jfhD788EP+8Ic/UFFRcdLjoBJJe+HtxdzYWqWW0lgb6ZY4JiQUMHFvDSmDc7BbjVxyw/cUZnela+IBzBHl6INr8AurxC+mlLycGE2w3K0xdwFzOSDEdK4iKXkXNVUV9Oinzif5BdSwJUx12zeabRQXdCIorILMzX4UFQcz7Q87GbkrXvXqA1JScrh6q87DKvP2vFzXzLKqQtFpwFfoAi3owqup3BSHEQtOmwHFaMeSF4optJqYHlnoO1dStjGeMcN/xllpRt+7iBt//IF7353FhrJe7Co8EfVCiHA+MxfWCyPkCuc0CXXIz13gtQgcxcEsCA/WrNCOtPykvLzcw/OvIa+/FSs8PUHfe+89unTpQkZGBhdffHG9+i5GjFCdOVwjdX37gst/Y/Jk96SY3iPWu1z/Nm7c2CrDiSaTieTkZFatWqU5ezidTlatWsWMGTNa3J5XEXv11Vd56623+PzzzwF1fusvf/kLBoOBX3/99aQ7L5G0By2xMloDd0FYXBsB4osk1SmgoiSInv3yMEeUI2wGjmf2IPxcdX/X/1SLJMsKu+/KpKwwlEU7zyFhyG4Gf9rTwxq7/d4lhCYe4siPCYSfk0/V0RCG3fcVNbuj0BmclB2IIC+7G/FDf8dWZYbNkHc8gH7AjQ9+xNEdsYT1KKSmJJAd5wUAe7BZjDxkMbJ+bSR9j6tu7juzo0gZnENFubpmq2viAUoORiLsemx5Ydj3dcEcVUr1wXB0Rjs5a84jdvjvKEY7zmojjpwIQs5XY66Wbe5J4YrBdE08wMPJS7BUmyk82plL18/CNb6nt/yJan0W5znMfGzcjV63j8W1qUtUPC3UhoZcO4qAAfXW1DbX66+0tBTAI21WQxiNqku9xQI1NepWV48ailh/MlHsKyoqyM7O1vZzcnLYunUr4eHhxMbGMmvWLCZPnszQoUMZPnw4L7/8MpWVldx2220tvlabuNh3JKSLvW/iHquuOWGJXOe09OXlmm9pyXnNvU7u/23AYdNjqfAnqEsJptBqKvPCsFT4YzDZ8AurpKZEHQaqKQ8geng29jI/TF3KqDmsvpiqjoZQfiwUm8VIXm4MFeUBdIk+RvzAvQR0KcMYUoUhogLLwXDMMaWUbOuB3ujAP6YYY/cSRI0BJdCGNTuSmmPB+EWUU3Yggpxt5zD4xp8o2dWV0N75WI4FYwi0YAipwV7mx7Hd3TGYbYSfm0fZgQitf/pAC45KM1s+vkhbj+W+BmtSirqGKrxTOUHBVaqzRKzqFBHTWR3qDO9UTsIQ1SzoHHeUm196khWVA70+Q3/TIgy6g83+bDoSLhf7zMxMunXrppU3tv7qxLlOrrrqKkpKSli7dm2jdX/9FW67DX7/3bPcUbsYvqxMdbH/5fK7CDLWv26FzcKIr9+gtLS02ZbY6tWrGTVqVL3yyZMn815tOP3XXntNW+yclJTEq6++qq0BbgkeltgLL7zA/fffz3333VfPxR7gxRdfbPEFJGcP7g4DLRWTuuc05/zmZH/2ForIfb85AlbXeaIh3IcBr7h1BVXFQRhMNkK6H8fUuQJDVBm6ACvZH1/ED2sTPWL2xXSuIqmgEwNu+4GyzXGYwiox9ygiYMBh/DJiMUeU06f7Wqoyu2IMqaI0O5rAwblUbolF2AzYK804czvTaUQ2xb/0RudvI//bAZQVhhLe7RiRV27DVGVElPoREVtEQJcy7GV+RF6+HWF2oux2UpXbmerCEFVkzTbsFiOHM87BaLYREl2MoWspVdu74bTqufTnINItUZozSUV5AJNScgiPLFKHJ/NOrLlKz4vX5qpiYwsYnLaJL94Zz6jLf+GnpRfzk+1nzlUi2SMiUONMnsBmH4TQhdXGfDQhhB8CI2rscnVTXcB1tXEp9bVxKe3olBJMhnXolMpGP9/2Jjg4uMXDdNOnT2fHjh1NChjAPfeoaVimTVOdOl591XORs4vWDDs1cuRImrKPZsyYcVLDh3XxELGgIHV9flhY2Ck3LDm7SLfEeTgMtJS2Gv5paC7MJUh9Ta54fAGaoGRZ4d4rMojpfZiiwxF8/kVc7dqihoXMdf/pljjSZ36AqXMFIQYH+i4VVGTE4qwykf/tAP799jhVfN085LKskJUXQN63yXRPOIA5rIqKw+HYK83UlAQS8cfNcDCImj1dqDoagp9VzztvXMW47G4s/za5njU6IaGAnS+fiCs4W4wgZd0AAgKriOh6jNw9sYAawT1md3cCO5dxKDOOfpdlULClFwazjayMfiSP+5WSg5GEn5NPQWYPjh/owtpVw+jX/0Syx3RLHKvzYFJsARXlAazfEs+CzlXMLFLFLT3vxPNaQCS5uVEErEsgKXkX531wLlCDTldDvvl9ggQIEYbVMQSbQ12gbHeeh915Xss+9Np3pwNwis4EmD5u2fk+zowZM7T8is1ZJG2zQUoK2O0QHAyPPgrDhsH993vWayqzc2s5drQ2cjhRDid2SLx51LlSYzSVBmPL9fsxmm1EDd5HRW4ExgALtiozoYmHsBcFUXYgQhvCi79kB7/851JiYvMA+PyLEWRZ4fkHl3AoM46iwnCu3qpjw1WHsVSbiR/6OzqTA6dVT8XRMP799jhGXbiTH9Ymkti7oEEPu7riuOgcP4KCq6goD6CoOJhRl/9C9ys3U7YxngO/9WJrRn9iYwv49/p4j0jsLnF57JY1rF01jAtHbyR3T6zmvOH+nMaNyWD5t2pItxOCF8eoC9VoF8UFndia0V8bGvz3ejXwsMtRxR3XAuLmLg1oDKcIotJyJ6Bvsm5zCDC9WxtRxLdoacQOIQQzZ85k6dKlrF69mnPPPbfJc0AVsPXr1cXOL74IPXqoIrZ/v3rcNZy45tJ7GhxOvGTlKy0aTjydeFhi7tEwvHH33Xe3aWckvk17eHx5Gw4ETy861/HmDA1uuOowkb2PYAqtxnIsmOxNfel/8TYCY0o0AQuJO0bnoTkoQRZEjYHkcb9SUxJITXkAk/68nM4JBynY0ouY3ocx+1vITj2GKdBCVXEQtiozlqP+/Pvtcdx+7xJSBuewe5c6H7QzO0q1wLzgrd/rt6iiMVc5wKJ1A/ht3QCKioMZd+N35O7rTnhkEZNS4OqtOmab4rRUIgCT9sSqQ3ef9lQtIosa+2/L9fvJ3OxHl+hjRMYe5Zqr1TBPACv7V7B7l2qtFRd0olNUMekzl2AMqeKlWXdo813ehNhVdqoCBqBTKggw/QeHMxY1hJUaOssV71FRrLiHt1LTxjhqY0BaAT1Wx1Cs9pEA2BwJPiliLWX69Ol8+OGHfPHFFwQHB2spqUJDQ/H392/wvJtuguPHYfZsdaGzzQZ//Wv9esLZQOzEdopi31w8LLHGPEMUReGdd5of062jIC2x00dz55a8nTcyRnUnX/5tMtffsIa/fXAJI2OqNKeBcWMyuGhlhGZlZNVGZHC/3pbr9xMcUYop0EL+792I7nMYgPzfuxHe7RgRo3dhzY6kMi+MyuMhBHYuw1LhT1h8AcbwSmxFgVhLAtEZ7ThtBnRGO/49iti7YjDxl+zAEFbNni+GYTTbWLtqmIcFM6nWlb0l9+zC5Tixfks8KYNz6Ju8m3+/Pa5FDinuz3zROX6aQ4a71eqam4uNLSAgsEqLSWg02/jh6xFA64jU6UAIPyos96BGDXHWZgzwvoauvWipJebNTwHg3Xff5U9/+lOzrmmzqZ6JwcEnylyW2A9/mEWQwYslZrcw6vsXfdYSk8OJUsTahKaCrTb3/NkijnufeQd7tYmqoyGED94PQM3hcKqOhhDW/whVuZ0BMARaMHWu4OBP/YlKOIgxpIrjmT0wB6kR4S0V/trPANmb+tJ7aBa/fHUBXaKPEdpZdVm2VKt/yEWF4eTmqqFxrrh1BYcy4zD7W4jucxhrpZm87G50iiomavA+qvM6Ya004xdWScby8z3S2p/qs3Dx06XHMPtb+PyLEW2WObihNWIdyWXdRYXldoRQfzfMhu8w6reippUxAHrQHELcnUTMCPyp6zSiiqHrZ1Bn3BwoigOFMvS6XBrQmAY5XQGAhw+HDRsaLnOJ2KqR9zcoYqNXv+CzIuYxnHjHHXdocRG/+OILrr766nbplKRj4kqhAbAkE9Lx/PZfVKx+/dPCA7km/L3Mo1x/wxomhVRhDsqg7EAEepMdv7BKKn6PwWHTE9I3D3ulmWO/xWkRzKP7HKbsUGc6xx3l0JZerF+bxLgbv+NQZhy5+7qTMGQ3WRn9iD03l4qSIKoqA/jnyxO45upfWL82iaTkXeTu605QcBXhkUXEnpt7YnHtfy4D1LVWLmslPLKI39YNoEtODFWVAcSem8vOWgcK90W5rSU4F7lCHLWRgIF3y64jChiASb8Zi/1SACz2NCz2tDa7ltnwHSbDpjZr/1Sw2+vvl5fXryca8E4UrRyxo7XxELFNm058CE899ZQUMUmD/HTpMc0z7qdLj5F4/c+U7uyOOawKY0gVF+V1wmHT8/cKfw7ujqX30AwKc6LpfcUmxm3pid2ayWO14tNzxCpG7YjFYFajkVaXBZC5uR+xvQ6xNaM/oy7/BYPZhqXCn4zVQ7j09mVkLj2foLAKjGYbNouRkMhSjh84kYeo9HgoV9y6gsrjIZj9LcT2OoR/SBUDL9lC5fEQYnofJnef+u13+JfdWBAOy79N1kTYlWxxZlEhXyQ5Wb8lgFEX7iQpoEazhkZdWKXlutqZHUVMbJ4W5byjvvjPJPS60/cZWOwXYtRvq52v8w2eeQbmz1fDS7mvh66uhkmT6tdvysW+tSJ2tDZeI3YATfr4SzoervmilMGe8zPqS/qEE0FzMPtbmHLXl4zL7qYmDnzjSgBiYvOIjFcnnEuOdMZmMbJ7Vzw9+uViqTZz5McEPvxPGlPu+lJz9bZUmzULyDV8l3c8gNheh0i5cKs2N1WY24Uu0cc4uiOWmip1oUvcoH2ERBcDYDDZCOhShqUkgB79cgEI7FxGXk4M8QP3Ygq04LDp+W3dAIKCq7T09hShJT0MCq6qfTYnLMOrt+qYDfywNpFxYzKwVJvJssIoIC8nhqBgda5lz85z2JkdJQXMR9DrjmEy/ITdcU6tY0itAwgO1FD6tY4hiruTiBVFqa49LtAcR7Q6rveiHiH0WO0jEQQAftTYxuJn/F+LhxXbimnT4MYb4c474c03T5SHhIC3nMHCqSCcXlzsvZT5Eh4iVl1dzfbt2xFCUFNTo/3sYuBA76vqJb7JgvBILhy9keCIUnauG0DsuWtUC+fcXL4gVnMUCAisIrF3AV2ij3G92zqiivIA1aMOakMPndjPy3VqczPplijuvSJDmy/KWpdARNdjHDsSwdF8dQisrDBUs25SBuew/tsUTbTWb4nXhvTyjgeQ2LuAK25dgX9kGYaQGnb9bxiRsUc1q6y4QP0LrKny83DQCOpWxPrP1PxWAy/Zos2BJU9exdH156I32cne1JclmbVCoxyAIvVZacLTgPOFFgHdNaRnPsDin9V1ldqcV22kc4nvYDb8jNnwc5u1b9AdpNJ6B6BgdyZSYxP4m75qs+u1hNBQdVu+vHn1nU6lAUvMt0XMw7GjZ8+eDXrAKIrCvn37TlvHThft5djR1hPos0Wclkbdtf7HFbw1ywrT/rCTN79P9EgHX1QcTFLyLrZm9NcCxLpCBbn2XS/zI3N+4tCWXpQeD2XoHd+g+Nkp2xhPWX4nQqKLOX6gi+bKbhpymLJv++EfU+zhaBF8zlHK93YhKPYYFbkRmMOq0BntGK7ZR/k/kwAwh1Wx87vBHM2P0KykL5KcVJQHsCQziml/2ElVpdo3V2r6ouJgLhy9UQuA67LaAC6tFR6JpLWotk5QM2mfKMHf+DkGfeN/y23t2DF4MI1ahZs3q/+7HDuWDX+UQEP9UB6V9hrGb/h7x3Ds2O9a/SZpc+q6mrvcyEeiRo9wr+Nysa4bbRxORPF2ORG4Rzh3DRF+MdhJRXkBicCg1O0AGMw2Ru6KZySRXHrtckK6H6fqaAg71w3Qold8keTU3MP79a/i0p+DNKtDZ7RrbuXV+7poMf6CI0p587nrSRmcw7EjESSmbSHrucsBCDpQQUVJEJ2iionod4h93w0kMj4fYTMQFHuMgi29COtRSMXrQ6kpD9DmyNxDHKVb4rh66wGgxsMaUglSy6kh/QPVIhsZU1VPgCWS1sTPuIxKayRCuMbo/Km2XUeg7g10SnWj57YlL7/csvpNRezwVaSLvQ+62NddT9WQ1QaeURrq1jn26nIM/Qqx745E56dOOCt6ga0wGGupP0HJuYiYKsgOBbse4VCoORyO06onIL6Qoi096TTgIPqwapwVJo78mEC3S7dhPxaErSyAgsweRPY+AkDF0TCCupRwZGccASFV5OXEENq5lNjhv7NnzQDM/hYi4/NxWA3oTXYqj4fgF1xFTa0rus1ixGi2Edi5DIfVwEMvX+URiUIi8WWEMFJjG4Pd6Z402EqgeWGDQna6XOxdHFH/VOna1bPcZYl9mfxEg5bYVRlP06dPH9/3TpScHo6/8RWV+7oQEHscZ5UJXYCVmrxQakoCKTocQUDIHt6sDYm0MKYEgAn/HM+5iXsxmm0cOxIB7CS0cyl/jyzFYPqNnesGwPp4bQHwxfctxVEaQNm3/dAZ7Zgjyjn0a19iR+3g6I5YbBajtmDXEGjBWhKItdJMQJcynDYDFb/HENCljMp9XagqDiKk+3GiBu/DfiwIfXAN375xNecm7qUwuyu5e2L59/p4L2ITBF92c9vvRmO4xHrlBRUn2pLp6yQdAEWx4W9aht2xk2rbTbWlJmz2ZMzGpoP0tiW7dsF1150Qse7d4dNPoV8/z3pOpw6nl4gdvu6deFriicyfPx9FUbj33nu1spqaGqZPn07nzp0JCgoiPT29XqbP3Nxcxo8fT0BAAF26dOGBBx7AXmfRw+rVqxkyZAhms5nevXtrYf59leNvfIW+cyUh4zIx9j6GuV8+YmwehkALYf2PcM5lW+j+l7UYk/IIG3gQc2IeugAr4595j95PrSB++mqGzf+UYfd9Re8rNhH9xw10GnCQEbeu5J3lc7nlf89w8evv4SgNwFmlhg4vORiJsBmISjiIrSiQqrIAgiNKNXGzlgTy09KL1dBJR0OwVpoxBFooyOxBVXEQhbld2PtLf3T+NmxlARz5MYGJe2sY/mU3Bn/ak6u36lo1uaSct5J0VPS6AyiUavtWx4Xt2BuVu+5Sg/4WF6vbo4+qHot1cTiVBjdfxsMSmzlzJgsWLOCDDz7QsjqfKhs3buStt96q59l43333sWzZMj799FNCQ0OZMWMGEyZM4OefVU8ih8PB+PHjiY6O5pdffiEvL49JkyZhNBqZO3cuoCZaGz9+PNOmTWPRokWsWrWKP//5z8TExDB27NhW6X9r8UWSk0se+wRCrBxbOoiI0buo3h3FnjUDiIw9SlCXEqoLQ3BYDYRWG3FUm7BXmjEVBlN2IIKgMj902U6MkeXYCoNx2nVUF4bAzu5YKvyJGvE7lt3RGI+Xs+OjC4npfZjeCwe5DUXWDRZa1yqqgefVyOEupxB36yrdEsdD/hYA1q9Nom5yQolEAooiCDS/Q4XlPq3MKQLbNR1McTH88Y8n9m+6SV0/VpeOOifmIWI//vgjoOYNaw0Rq6ioYOLEifzzn//kb3/7m1ZeWlrKv/71Lz788EP+8Ic/AGr8r/79+/Prr79y/vnn8+2335KZmcl3331HVFQUSUlJ/PWvf+Whhx7iySefxGQy8eabbxIfH88LL7wAQP/+/Vm7di0vvfRSm4lYyccfIyrMKH2KwaqASaCUG6jpZ8eUJ1CcCspxE5iciBI/6FGBctyECLbBMX8qfuiN3Wpkzd9uoKI8gOSRm/n32+MYNyaDmio/EtO2UJEbQeVx1WzP+zEGgB5WI2WFoXRNPEDOpj6a8NmqzJiDqnFUmlGMdmyFwZj9LfReOAg4ufmkucoB1dW8Tn6vxdrQoBQwiaQhFMXisW+zD8VsXNNOvQG9HjIzwZVAOjNTLauLcOpwKh0vALCHiPXo0YP+/fuTm5vLkCFD6lXe7PLJbCbTp09n/PjxpKWleYhYRkYGNpuNtLQTYWD69etHbGws69at4/zzz2fdunUMGDCAqKgorc7YsWO588472blzJ4MHD2bdunUebbjquA9b1sVisWCxnPglK/cSf8Xlwp0yZj015QFE9DuE/3lHcB4PRAmwIWoMiN9VT6Tq3M6YOldQ9U0XzCn7ENVGhMGB4mfHmhuOKapSFbRDwWDXU5jdlcGf9qy9Ug3sTQDlwIn1Rz9f5L3jP9f+BmpCEuFxuKPGt5NIzkRM+p+xOi4AwOpIxaDPQq/Lb5e+zJ0LF18MrsGw7dth0aL69ZwOHU4vM0ze5sl8CQ8RW7p0KZs3b+aWW27hpZdeOqWGP/roIzZv3szGjRvrHcvPz8dkMtVLvhkVFaWlF8jPz/cQMNdx17HG6pSVlVFdXe01PcG8efN46qmn6pX/Nnst8YMrUMzqnJv9SCiGnsWIYDscDMKWG46haynlv/TCFFqNtdSfkoORdBu1k+rczuiNDso2x1FVHERApwp0RjvBI/Zh2dhDc9zoPm9EM59ey5ECJpH4DkbDFk3EAKqtNxBofvW0RvO49174859h7FjVuWP9erX8/PMhIqJ+/Y6aFNNDxIxGIykpKXz55Zf079//pBs9ePAg99xzDytXrsTPWx7sduSRRx5h1qxZ2v7hw4dJSEjAEF6BqDBDJwuKRacKWIkfxd/0IjTxEDo/K46jQXSfN8LT6vmgscR0qmhJK0kiObvQKRXoddk4nL0BEARQZZ1EgOnfp03IhIBRoyA+XhWzm2/2TMFSF2cDw4m+7p3o1cW+e/fuTJ8+nZUrVwIwZswY5s2bR3BjT8CNjIwMjh496jEk6XA4+PHHH3nttdf45ptvsFqtlJSUeFhjBQUFREdHAxAdHc2GOvkDXN6L7nXqejQWFBQQEhLSYJI4s9mM2XzCb7usrAyAYxm96NyvBkNhMIczztHWLbnyVrlHWW+pIEkBk0jOPvyNn1FlnYpTqAEJnKIr1bab0SkFKEoNeuWXNr3+K6/A88/D0qXw7rvwwANwzTUwdao6vFgXh1PB4UXEOpR3oou77rqLgIAAPvnkExRF4a233uKuu+7iP//5T7MaHT16NNu3b/cou+222+jXrx8PPfQQPXr0wGg0smrVKtLT0wHIysoiNzeX1NRUAFJTU/n73//O0aNH6dJFjU6+cuVKQkJCSKidoUxNTeXrr7/2uM7KlSu1NlrCM++PYoVfRf0D5gMsLmpxcxIfQlrCkvZAUcDfuIRK61+0MoczDgeuhKdJwCNt2gejEW64Qd0OH4b33lNFTKeDrCzPuk6ngpP6guXrsRO9iti2bdv47bfftP033niDQYMGNbvR4OBgzjvvPI+ywMBAOnfurJVPnTqVWbNmER4eTkhICDNnziQ1NZXzzz8fUK2/hIQEbr31Vp599lny8/N57LHHmD59umZJTZs2jddee40HH3yQKVOm8P333/PJJ5+wbNmylj0F4GvTYXT4RsQOycnhColVN5pJXxMNRjWRSNoSna6YANP7VFlvBkzt2pfCQigogJISSEysf/yMcLF34XA4KC8v14YPKyoqcDgcrXrhl156CZ1OR3p6OhaLhbFjx/LGG29ox/V6PV999RV33nknqampBAYGMnnyZJ5++mmtTnx8PMuWLeO+++7jlVdeoXv37rz99ts+t0bM12gLy8Rb9mJX0GFv13KJysiYKi1W46kKTZYVMNc/f65yQEb+kLQbel0eQebXcIoQQI/T2YUa++Wn5drFxfDBB/DOO6qITZ4M69ZB79716zqcOhxevBMdHcnF3sXkyZM5//zzufHGGwH45JNPuO22207pQqtXr/bY9/Pz4/XXX+f1119v8Jy4uLh6w4V1GTlyJFu2bDmlvp2puEQBToiFGhC3vmXiHhl+sfkAi87xO5GyhPpWjutcb+LluvZc8wHSiat3zP3cmUWFHgLjsppORsjOpKzEkjMLRbGiV44BoNcVoNfvx+FQqLE3ceIpcP31sGIFXHop/PWvcPnl6jBiQzidDbjY+7iIee3dAw88wAsvvEBZWRllZWU8//zz3H///ae7b2csruSU6ZY40i1xWiR6d4Fo6Gd3vJW7l/WtHb1YbD5AeKdy+pogvJO6Lm5kjJpiZUF4pJYUc0lmlHbOzuwoRsZUaX2N6VzFygsqGBlTRV9TA9aOG67jjYmIt3PmKgek8EjOeHRKOXrdwTa9xvDhkJ0NS5bAFVc0LmCgDhs6vWwdcjgR4LLLLuOyyy47nX05q0i3xDEhoYCd2VHkHQ9gNnHExFSxuIhaK+iERTIhoYC+2Z6CFdP5hEXlsrL6miAmpopJsScyNbsEQbOqahM3puep7c0sKoQinZrM0c0iyrJCDGjW1+o8WJ2XqEWWd9WV6U0kEt/kgQdaVt/pUEWrXnlHdOyQNIwrx9aEBDUT8u5d8doxl5Xjyn486kI18aQLl5UzV1GH2XZmRxHTWXXfT7fEMbf2/4l7D5COKkALwiMJClaXEWRZT7STdzyAmM5VzC0qZHERzDapiS2XZEax2CVKbtS1bpqydha7eWXWqyvnlySSM46m5sR8dbGzzCfWSD4xlyW0IDxSm08K71SuZRheEB5JeKdyTbRcVskXSU6udktzv+gcP7pEH6OqMsCjvLWRruQSScfhdOcTawhXPrEFka/jr6u/vrbaWc3MwukdI7Pz2cyqCfvY/eMYYmMLCI8soqbKjx/WuhweyiEvgNjYAq7eqmO2iAflAHnH1bIs6wmHhJExVVy9VV0YvSA8krzjAUzcewD2tn16ESlgEonkZHHNgXkr92W8ipjdbueVV14hOzubhQsXsnfvXg4cOKBFnD8TGb2kF/8bUkBFeQC5uVHqEJ8VEssD2JldO5+0Ph5qnQ/AS7R3Mx4Lo2cWFeJl7aBEIpGcNvbvh2eegb17wT0d4/ffe9Y7oxY7z5gxA4fDwdq1akbSzp07c+ONN7Jp06bT2rnTyYI4M+u3xNc6MkRp640W1zpCgLR0JBJJ+/Ljjz/y3HPPkZGRQV5eHkuXLuWaa65p9JwbboDRo2HGDO8pWFw4nAoOL1aXtzJfwquI/frrr2zdupXBgwcDEBYWhs1mO60dO93MPGBBp5NiJZFIfJfKykoGDRrElClTmDBhQrPOqamBefOarieEgvBiiXVIF/u6kecdDgdOp/O0dEgikUgk3hk3bhzjxo1r0TnnnQe5uRAb23g9p1PB4SXEfoecExs4cCAffPABTqeT7OxsnnnmGUaOHHmauyaRSCRnPuXl5Vo2DaifaeNkufZaNQhxeTkMGgSpqeBunyxZ4lnf4cSriDl83H/dq4i9+OKL3H///eTn5zNixAiuvfZa5s+ff7r7JpFIJGc8rqwcLubMmcOTTz55yu26T5XdckvT9R0NWGIdck4sKCiIt956i7feeut090cikUjOKjIzM+nWrZu23xpWGKjBfluCEODN6PL1lcQNrhNbvnw5e/bswe7mk+meEVkikUgkp05wcHCbLiKeMqV+WViYOrx4/fUnypqyxHw1YodXEZs4cSKZmZkMHjwYfa1PpnK6cmpLJBKJpNUwmeCXX+DGG9U5sk8+gaQkePVV2LIFHn5YrdeUiG3cuLHjROzIyMhg586dmoBJJBKJpP2pqKggOztb28/JyWHr1q2Eh4cT24D74a5dqogF1QYNuvtuNS3LN9/A0KFuIibAW9bIDunY0bNnTywWCwEBAae7PxKJRCJpgE2bNjFq1Cht3zXFM3nyZN577z2v5xQWnhAwUH8+dgwCAsB9+k3QwDoxHw875FXEXnjhBdLS0hg5cqTHmrEnnnjitHVMIpFIJJ6MHDmSlsZsHzhQnRdz5TV+/30YMAAsFs8IHs4GLDGnj1tiXkOqP/LII5hMJmpqaigvL9c2iUQi8RUaShYr8eTttyEiAu69V906dVLL9HpYvvxEPYdoePNlvFpiWVlZZGVlne6+SCQSSbOR4eGaR1AQPPus92ORkeBaZ+0U4C0uk69bYl5FrG/fvpSVlfmkJ4pE0lFx5XtLt8RpGbJb80Us88lJ3Pnvf+Hmm1UvRG/cfbfnvoMGHDtau2OtjNfhRH9/f4YMGcJdd93FrFmztK25zJs3j2HDhhEcHEyXLl245ppr6ll2NTU1TJ8+nc6dOxMUFER6ejoFBQUedXJzcxk/fjwBAQF06dKFBx54wGPdGsDq1asZMmQIZrOZ3r17Nzi5KZH4Cotr0/l4E5zZov4QWXOHzZoSsFMZfvPWL4lvs3u3+v+WLfW3rVvr13c0svkyXi2xhISEeqFQWsKaNWuYPn06w4YNw263M3v2bMaMGUNmZiaBgYEA3HfffSxbtoxPP/2U0NBQZsyYwYQJE/j5558BNejw+PHjiY6O5pdffiEvL49JkyZhNBqZO3cuoLqXjh8/nmnTprFo0SJWrVrFn//8Z2JiYhg7duxJ918iqUtrWDnNOd+Vq66l57XW9RvCW78kvs1TT6n/v/tu8+o78D7/5esipoiWurqcBIWFhXTp0oU1a9Zw8cUXU1paSmRkJB9++CHXXXcdALt376Z///6sW7eO888/n+XLl3PFFVdw5MgRoqKiAHjzzTd56KGHKCwsxGQy8dBDD7Fs2TJ27NihXeumm26ipKSEFStWeO2LxWLBYrFo+4cPHyYhIYFA08PodKFt+BQkp4LLiuhrOv0vVDlMJ2kLnM5SKq3zOXjwIN27d2/19r/8svHjV12l/l9WVkZoaCh/4R3M1F9WZaGKt5hCaWmpT04xeVhi//3vf7n55pt5tYFB1LvrDqI2k9LSUgDCw8MBdTG1zWYjLS1Nq9OvXz9iY2M1EVu3bh0DBgzQBAxg7Nix3HnnnezcuZPBgwezbt06jzZcde69994G+zJv3jyecn1FkbQ6s0XcSYtMY2LhmkNqD4tACpikI/LSSyd+zsiA5OQT+4pyQsRcOADPyZoT5b6Mh4i55q22bNlSr+LJhp1yOp3ce++9XHDBBZx33nkA5OfnYzKZCAsL86gbFRVFfn6+VsddwFzHXccaq1NWVkZ1dTX+/v71+vPII494zO+5LLEzkZMRlLpC0lIrpKnrNdZeY9eZqxyA1omLKpGcFfzww4mfBw/23PdGR3Xs8Cpi7zZ3ELUZTJ8+nR07drB27dpWa/NUqJurxz2Pz8nS1sNNzWnfm2CdjNVS9zqtfV/SqpFITj/NsUFE7T9v5b6Mh3dia68NmzFjBl999RU//PCDx5hvdHQ0VquVkpISj/oFBQVER0drdep6K7r2m6oTEhLi1QprC1oqYCfjIXayDgESiUTSXDqqd6JXF/tTRQjBjBkzWLp0Kd9//z3x8fEex5OTkzEajaxatUory8rKIjc3l9TUVABSU1PZvn07R48e1eqsXLmSkJAQbfgvNTXVow1XHVcbp4OWWhbSEpFIJKeDbdtObNXVsH27Z1ldHAgcipfNxy0xj+HEbdu2ac4X7gghUBSFoqKiZjU6ffp0PvzwQ7744guCg4O1OazQ0FD8/f0JDQ1l6tSpzJo1i/DwcEJCQpg5cyapqamcf/75AIwZM4aEhARuvfVWnn32WfLz83nssceYPn26Nhw4bdo0XnvtNR588EGmTJnC999/zyeffMKyZctO6aFIJBJJR+fqqz333R05FAX27fM8bse7VeNy9ugQ+cT69u3L119/fcqNLly4EFCDVbrz7rvv8qc//QmAl156CZ1OR3p6OhaLhbFjx/LGG29odfV6PV999RV33nknqampBAYGMnnyZJ5++mmtTnx8PMuWLeO+++7jlVdeoXv37rz99ttyjZhEIjnryclp6Rne58Rc+Z47RD4xs9lMXNypr8xvztIzPz8/Xn/9dV5//fUG68TFxTUpqiNHjvTqTSmRSCSS5uNAoPMiYh1qOPE0rHuWSCQSiQ/iUEDnxYvRAfiyjnmImLRoJBKJ5OzECTi9qJW3yPa+hNfYiRKJRCI5uzgjhhMlEolEcnZiR6B4ESy7FDGJRCKR+DoORaBTGrDEfFjHpIhJJBKJhKZc7H0VKWISiUQiqR02lMOJEolEIumAOBSB0tBwog8jRUwikUgkOBENuNhLEZNIJBKJj+NowDvR1y2xNoliL5H4CieT+kYiORuxIxrcfBkpYpIzGl9KfSMFVeLLOHHi8LI5fTxmhxQxiU9zJr34fUlQJR2X119/nZ49e+Ln50dKSgobNmxolXadimhw82WkiLUip/rCTbfEtaiNRef4tclLfrbwHeGQL36J5AQff/wxs2bNYs6cOWzevJlBgwYxduxYj+TBJ4scTpSc8gt3sflAi9qYuLemTV7ycxUpHBKJL/Liiy9y++23c9ttt5GQkMCbb75JQEAA77zzzim37W0o0bX5MlLE2pAzaSisMVz36W5JLjrHj5UXVHgcc5UvOsdPs/YWhEcyW8Q1af2lW+L4IsnpUc91vbrnusrc2z4d1uXZ8nlLWpfy8nLKysq0zWKxeK1ntVrJyMggLS1NK9PpdKSlpbFu3bpT7ofLxd7b5stIF/taLrd2Y4i5M1nWExbVbBHnse9OuiVOK3e9vPqa6lsxC8IjmVlU2Ma9b19cz8H9OU3cWwN7g6DOsYl7a9QKtc9pZlEheMlh5O0ai7fqtPPqXs9bfyiiWW23FnLoU3IyJCQkeOzPmTOHJ598sl69Y8eO4XA4iIqK8iiPiopi9+7dp9wPOwLhxerydRd7KWK1fG06zAqlAswnyuYqBzz23XF/YTX2Ml1c1Jq9lEgkZxqZmZl069ZN2zebG3jptDEORSC8OHG0lyX21Vdfcf/99+N0OnnooYf485//7LWeFDGJRCJpR4KDgwkJCWmyXkREBHq9noKCAo/ygoICoqOjT7kfNpzovFhi7eFib7fbmTVrFj/88AOhoaEkJydz7bXX0rlz53p15ZyYRCKRdABMJhPJycmsWrVKK3M6naxatYrU1NRTbt+X5sQ2bNhAYmIi3bp1IygoiHHjxvHtt996rStFTCKRSDoIs2bN4p///Cfvv/8+u3bt4s4776SyspLbbrvtlNu2KY4Gt5by448/cuWVV9K1a1cUReHzzz+vV6ex9W5HjhzxGGLt1q0bhw8f9notKWISiUTSQbjxxht5/vnneeKJJ0hKSmLr1q2sWLGinrPHyWDDidXLZjuJ4cTKykoGDRrE66+/7vV4a653O+vnxJxOZ+3/Ze3cE4lEcjbheue43kHNZcaMGcyYMaPV+2NXarwGABaK6vJfVub5jjSbzQ06oYwbN45x48Y1eC339W4Ab775JsuWLeOdd97h4YcfpmvXrh6W1+HDhxk+fLj3xsRZztq1a12Z4OQmN7nJ7bRvGzZsaNd3YHV1tYiOjm60j0FBQfXK5syZ06z2AbF06VJt32KxCL1e71EmhBCTJk0SV111lRBCCJvNJnr37i0OHTokysvLRZ8+fcSxY8e8tn/WW2L9+/cHYMeOHYSGhrZzb06d8vJyEhISyMzMJDg4uL27c8qcafcDZ949yfs5OZxOJwUFBQwePLjNrtEc/Pz8yMnJwWq1NlhHCIGieC66PNmlAM1Z72YwGHjhhRcYNWoUTqeTBx980KtnIsjhRAwG9RH06NGjWW6uvo7L5O/WrZu8Hx/lTLsneT8nT2xsbJu231z8/Pzw8/Nr7254cNVVV3HVVVc1WU86dkgkEonktNHa692kiEkkEonktNHa693O+uFEs9nMnDlz2i3US2sj78f3OdPuSd6PpC4VFRVkZ2dr+zk5OWzdupXw8HBiY2OZNWsWkydPZujQoQwfPpyXX375pNe7KbXeIxKJRCKRtAqrV69m1KhR9conT57Me++9B8Brr73Gc889R35+PklJSbz66qukpKS0+FpSxCQSiUTSYZFzYhKJRCLpsEgRk0gkEkmHRYqYRCKRSDosZ7WINRZFua1oKrqzEIInnniCmJgY/P39SUtLY8+ePR51ioqKmDhxIiEhIYSFhTF16lQqKio86mzbto2LLroIPz8/evTowbPPPluvL59++in9+vXDz8+PAQMG8PXXX7e4L/PmzWPYsGEEBwfTpUsXrrnmGrKysjzq1NTUMH36dDp37kxQUBDp6en11ojk5uYyfvx4AgIC6NKlCw888AB2u92jzurVqxkyZAhms5nevXtrE8TuNPWZNtWXhQsXMnDgQEJCQggJCSE1NZXly5d3yHvxxvz581EUhXvvvbfD3tOTTz6JoigeW79+/Trs/UhOkRYF2TqD+Oijj4TJZBLvvPOO2Llzp7j99ttFWFiYKCgoaNPrfv311+LRRx8VS5YsqRdTTAgh5s+fL0JDQ8Xnn38ufvvtN3HVVVeJ+Ph4UV1drdW57LLLxKBBg8Svv/4qfvrpJ9G7d29x8803a8dLS0tFVFSUmDhxotixY4f473//K/z9/cVbb72l1fn555+FXq8Xzz77rMjMzBSPPfaYMBqNYvv27S3qy9ixY8W7774rduzYIbZu3Souv/xyERsbKyoqKrQ606ZNEz169BCrVq0SmzZtEueff74YMWKEdtxut4vzzjtPpKWliS1btoivv/5aREREiEceeUSrs2/fPhEQECBmzZolMjMzxYIFC4RerxcrVqzQ6jTnM22qL19++aVYtmyZ+P3330VWVpaYPXu2MBqNYseOHR3uXuqyYcMG0bNnTzFw4EBxzz33dMjPRwgh5syZIxITE0VeXp62FRYWdtj7kZwaZ62IDR8+XEyfPl3bdzgcomvXrmLevHmnrQ91RczpdIro6Gjx3HPPaWUlJSXCbDaL//73v0IIITIzMwUgNm7cqNVZvny5UBRFHD58WAghxBtvvCE6deokLBaLVuehhx4Sffv21fZvuOEGMX78eI/+pKSkiL/85S/N7os3jh49KgCxZs0a7Ryj0Sg+/fRTrc6uXbsEINatWyeEUIVdp9OJ/Px8rc7ChQtFSEiIdg8PPvigSExM9LjWjTfeKMaOHavtN/WZNqcv3ujUqZN4++23O/S9lJeXi3PPPVesXLlSXHLJJZqIdcR7mjNnjhg0aFC9e+yo9yM5Nc7K4USr1UpGRgZpaWlamU6nIy0tjXXr1rVbv3JycsjPz/foV2hoKCkpKVq/1q1bR1hYGEOHDtXqpKWlodPpWL9+vVbn4osvxmQyaXXGjh1LVlYWxcXFWh3367jquK7TnL54o7S0FIDw8HAAMjIysNlsHu3069eP2NhYj3saMGCAR0DQsWPHUlZWxs6dO5vV3+Z8ps3pizsOh4OPPvqIyspKUlNTO/S9TJ8+nfHjx9e7bke9pz179tC1a1d69erFxIkTyc3N7dD3Izl5zkoRayyKcn5+fjv1Cu3ajfUrPz+fLl26eBw3GAyEh4d71PHWhvs1GqrjfrypvtTF6XRy7733csEFF3Deeedp7ZhMJsLCwhq91sn2t6ysjOrq6mZ9ps3pC8D27dsJCgrCbDYzbdo0li5dSkJCQoe8F4CPPvqIzZs3M2/ePOrSEe8pJSWF9957jxUrVrBw4UJycnK46KKLKC8v75D3Izk1zvqwU5LWY/r06ezYsYO1a9e2d1dOib59+7J161ZKS0v57LPPmDx5MmvWrGnvbp0UBw8e5J577mHlypU+F6X8ZHFPtjhw4EBSUlKIi4vjk08+wd/fvx17JmkPzkpLrLWjKLcWrms31q/o6Oh6KbztdjtFRUUedby14X6Nhuq4H2+qL+7MmDGDr776ih9++IHu3bt73JPVaqWkpKTRa51sf0NCQvD392/WZ9qcvoAaoLR3794kJyczb948Bg0axCuvvNIh7yUjI4OjR48yZMgQDAYDBoOBNWvW8Oqrr2IwGIiKiupw91SXsLAw+vTpQ3Z2dof8jCSnxlkpYq0dRbm1iI+PJzo62qNfZWVlrF+/XutXamoqJSUlZGRkaHW+//57nE6nFncsNTWVH3/8EZvNptVZuXIlffv2pVOnTlod9+u46riu05y+gOqGP2PGDJYuXcr3339PfHy8R5vJyckYjUaPdrKyssjNzfW4p+3bt3uI88qVKwkJCSEhIaFZ/W3OZ9qcvnjD6XRisVg65L2MHj2a7du3s3XrVm0bOnQoEydO1H7uaPdUl4qKCvbu3UtMTEyH/Iwkp0h7e5a0Fx999JEwm83ivffeE5mZmeKOO+4QYWFhHh5LbUF5ebnYsmWL2LJliwDEiy++KLZs2SIOHDgghFDd2sPCwsQXX3whtm3bJq6++mqvLvaDBw8W69evF2vXrhXnnnuuh4t9SUmJiIqKErfeeqvYsWOH+Oijj0RAQEA9F3uDwSCef/55sWvXLjFnzhyvLvZN9eXOO+8UoaGhYvXq1R4uz1VVVVqdadOmidjYWPH999+LTZs2idTUVJGamqodd7k8jxkzRmzdulWsWLFCREZGenV5fuCBB8SuXbvE66+/7tXluanPtKm+PPzww2LNmjUiJydHbNu2TTz88MNCURTx7bffdrh7aQh378SOeE/333+/WL16tcjJyRE///yzSEtLExEREeLo0aMd8n4kp8ZZK2JCCLFgwQIRGxsrTCaTGD58uPj111/b/Jo//PCDAOptkydPFkKoru2PP/64iIqKEmazWYwePVpkZWV5tHH8+HFx8803i6CgIBESEiJuu+02UV5e7lHnt99+ExdeeKEwm82iW7duYv78+fX68sknn4g+ffoIk8kkEhMTxbJlyzyON6cv3u4FEO+++65Wp7q6Wtx1112iU6dOIiAgQFx77bUiLy/Po539+/eLcePGCX9/fxERESHuv/9+YbPZ6j27pKQkYTKZRK9evTyu4aKpz7SpvkyZMkXExcUJk8kkIiMjxejRozUB62j30hB1Rayj3dONN94oYmJihMlkEt26dRM33nijyM7O7rD3Izk1ZBR7iUQikXRYzso5MYlEIpGcGUgRk0gkEkmHRYqYRCKRSDosUsQkEolE0mGRIiaRSCSSDosUMYlEIpF0WKSISSQSiaTDIkVMIpFIJB0WKWKSVqdnz55s3brVo2zkyJF8/vnnADzxxBMsWrQIUFPAr1ix4jT30LfYv38/iqIwdepUrayiogJFUVr9Wt4+G4mkIyNTsUhOO08//bT28+rVqykpKeGyyy5rxx61PwEBASxfvpzMzEwtCK2vYrfbMRjkq0PiG0hLTHLa+dOf/sTLL7/M1q1befPNN1m0aBFJSUke4ubi7bffJiEhgaSkJAYMGKBlr96zZw/jx49n2LBhDBw4kNdee00758svv6R///4MHDiQBx98kIiICPbv3w/Ut0SGDh3K6tWrATWJ4Q033MDw4cMZMGAAjz32mFavZ8+ePPHEE6SmphIfH8/f/vY37djhw4e57rrrGDBgAAMHDuTxxx8HoLy8nNtvv53hw4czcOBA7rjjDqxWq9dnYjQaeeSRR3jkkUe8Hm+s3yNHjuT+++/n4osvJjY2lscff5yvv/6aCy+8kJ49e/Liiy96tLVo0SKSk5Pp3bs3zz33nFbe2DNVFIU5c+YwbNiwBvsokbQL7R28UXLmERcXJ/r06SMGDRqkbYGBgWLp0qVCCCEmT54sXnrpJSGEEHPmzPEIRluXkJAQceTIESGEEFarVZSXlwu73S6Sk5PFrl27hBBCVFZWigEDBogNGzaIgoICER4eLnbu3CmEEOKtt94SgMjJydH6tmXLFq395ORk8cMPPwghhBgzZoxYvXq1EEIIm80mxo4dKz755BPtvJkzZwohhCgsLBQhISHi0KFDQgghRo4cKebOnau16Yqmfvvtt4v3339fCKEGU546dap49tln691jTk6OCA0NFVarVfTq1UusXbtWlJeXC/c/z8b6fckll4j09HRht9tFUVGRCAkJEdOnTxdOp1McOnRIBAYGiuLiYq2dW2+9VTidTlFYWCh69Oghfv7550afqRBqoOennnqqwc9JImkv5JiApE34+OOPSUpK0vZHjhx5Uu2MHj2aW2+9lSuvvJJx48bRp08fMjMz2blzJzfddJNWr7y8nMzMTPLy8hg4cKA2JDd16lRmzpzZ5HUqKytZtWqVR5LDiooKsrKytP0//vGPgJpUtVevXuTk5BAaGsratWv55ptvtHqRkZEAfP7556xbt06zhKqrq9Hr9Q32wWg08te//pWHHnqoxfOE1113HXq9nk6dOtGrVy+uuOIKFEWhW7duREZGsn//fu3zmDp1KoqiEBERwYQJE/juu+8ICwtr8JkOGzYMgClTprSoTxLJ6UCKmMSnWbx4MRkZGaxevZrLL7+cv/3tbwwYMIDw8HCvDgpffvmlx35d5wiDwYDD4dD2a2pqADW5J8Cvv/6Kn5+f1764l+v1eux2e6N9F0KwePFi+vTp02g9d26++Waee+45vvjii2b1u6G+taSviqIghGjwmboICgpq7m1IJKcNOScmaVdCQkIoLS31esxut7N3716GDh3K//3f/3HdddexYcMG+vbtS0hICO+++65WNzs7m6KiIlJTU9m2bRu7d+8G4J133vGYh+rdu7c2r7ZhwwbN0goKCmLUqFHMnz9fq3vkyBEOHTrUaP+DgoK4+OKLeeGFF7SywsJCAK655hqeeeYZTUCKi4vJzs5utD1FUZg/f77HfFxj/T4Z3nvvPQCKiopYunQpo0ePbvSZSiS+jBQxSbty7bXXsnXrVq+OHQ6HgylTpnDeeeeRlJRERkYGs2bNwmAw8NVXX7FkyRIGDhxIYmIiU6dOpbq6msjISN555x2uvfZaBg0axJ49e+jcubPW5t/+9jdef/11Bg0axDvvvENiYqJ2bNGiRWRnZ3PeeecxYMAAJkyYwPHjx5u8h//85z9s2rSJxMREkpKSNIeIl156CX9/f5KSkhg4cCCjR4/WHEwaY+zYsfTq1cujrLF+t5TIyEiSk5MZPnw4M2bMYMSIEY0+U4nEl5FJMSVnPBEREWzatImePXu2d1ckEkkrIy0xiUQikXRYpCUmkUgkkg6LtMQkEolE0mGRIiaRSCSSDsv/A+KavF5yw362AAAAAElFTkSuQmCC' width=433.0708661417323/>\n",
       "            </div>\n",
       "        "
      ],
      "text/plain": [
       "Canvas(toolbar=Toolbar(toolitems=[('Home', 'Reset original view', 'home', 'home'), ('Back', 'Back to previous …"
      ]
     },
     "metadata": {},
     "output_type": "display_data"
    }
   ],
   "source": [
    "data_loadcrop.plot_crop_experimetn_history(data, save_name=variables.result_path + '//ex_hist_' + dataset_name)"
   ]
  },
  {
   "cell_type": "code",
   "execution_count": 74,
   "metadata": {},
   "outputs": [],
   "source": [
    "# exctract needed data from Pandas data frame as an numpy array\n",
    "dld_highVoltage = data['high_voltage (V)'].to_numpy()\n",
    "if pulse_mode.value == 'voltage':\n",
    "    dld_pulseVoltage = data['pulse (V)'].to_numpy()\n",
    "elif pulse_mode.value == 'laser':\n",
    "    dld_pulseVoltage = data['pulse (deg)'].to_numpy()\n",
    "dld_t = data['t (ns)'].to_numpy()\n",
    "dld_x = data['x_det (cm)'].to_numpy()\n",
    "dld_y = data['y_det (cm)'].to_numpy()\n",
    "# copy dld_t to a have a global version of that\n",
    "variables.dld_t_calib = np.copy(dld_t)\n",
    "variables.dld_t_calib_backup = np.copy(dld_t)"
   ]
  },
  {
   "cell_type": "code",
   "execution_count": 50,
   "metadata": {},
   "outputs": [],
   "source": [
    "ion_distance = np.sqrt(flightPathLength_d.value**2 + (dld_x*10)**2 + (dld_y*10)**2)\n",
    "ion_distance = flightPathLength_d.value / ion_distance\n",
    "dld_t = dld_t * ion_distance"
   ]
  },
  {
   "cell_type": "code",
   "execution_count": 51,
   "metadata": {
    "tags": []
   },
   "outputs": [
    {
     "data": {
      "application/vnd.jupyter.widget-view+json": {
       "model_id": "063cd16ee7704f09a5e944f519c88597",
       "version_major": 2,
       "version_minor": 0
      },
      "image/png": "[encoded data removed]",
      "text/html": [
       "\n",
       "            <div style=\"display: inline-block;\">\n",
       "                <div class=\"jupyter-widgets widget-label\" style=\"text-align: center;\">\n",
       "                    Figure\n",
       "                </div>\n",
       "                <img src='data:image/png;base64,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' width=354.3307086614173/>\n",
       "            </div>\n",
       "        "
      ],
      "text/plain": [
       "Canvas(toolbar=Toolbar(toolitems=[('Home', 'Reset original view', 'home', 'home'), ('Back', 'Back to previous …"
      ]
     },
     "metadata": {},
     "output_type": "display_data"
    },
    {
     "data": {
      "text/plain": [
       "(None, None, None, None)"
      ]
     },
     "execution_count": 51,
     "metadata": {},
     "output_type": "execute_result"
    }
   ],
   "source": [
    "tools.hist_plot(dld_t[dld_t < 10000], 0.1, prominence=200, distance=100, h_line=True, text_loc='right', percent=percent_mrp, plot=True, label='tof', peaks_find=False, fig_name=figname, fig_size=(9/2.54, 6/2.54))"
   ]
  },
  {
   "cell_type": "code",
   "execution_count": 38,
   "metadata": {},
   "outputs": [
    {
     "ename": "ValueError",
     "evalue": "attempt to get argmax of an empty sequence",
     "output_type": "error",
     "traceback": [
      "\u001b[1;31m---------------------------------------------------------------------------\u001b[0m",
      "\u001b[1;31mValueError\u001b[0m                                Traceback (most recent call last)",
      "Cell \u001b[1;32mIn[38], line 2\u001b[0m\n\u001b[0;32m      1\u001b[0m percent_mrp \u001b[38;5;241m=\u001b[39m \u001b[38;5;241m50\u001b[39m\n\u001b[1;32m----> 2\u001b[0m peaks_ini, peaks_y_ini, peak_widths_p_ini, _ \u001b[38;5;241m=\u001b[39m \u001b[43mtools\u001b[49m\u001b[38;5;241;43m.\u001b[39;49m\u001b[43mhist_plot\u001b[49m\u001b[43m(\u001b[49m\u001b[43mdld_t\u001b[49m\u001b[43m[\u001b[49m\u001b[43mdld_t\u001b[49m\u001b[43m \u001b[49m\u001b[38;5;241;43m<\u001b[39;49m\u001b[43m \u001b[49m\u001b[38;5;241;43m2000\u001b[39;49m\u001b[43m]\u001b[49m\u001b[43m,\u001b[49m\u001b[43m \u001b[49m\u001b[38;5;241;43m0.1\u001b[39;49m\u001b[43m,\u001b[49m\u001b[43m \u001b[49m\u001b[43mprominence\u001b[49m\u001b[38;5;241;43m=\u001b[39;49m\u001b[38;5;241;43m200\u001b[39;49m\u001b[43m,\u001b[49m\u001b[43m \u001b[49m\u001b[43mdistance\u001b[49m\u001b[38;5;241;43m=\u001b[39;49m\u001b[38;5;241;43m100\u001b[39;49m\u001b[43m,\u001b[49m\u001b[43m \u001b[49m\u001b[43mh_line\u001b[49m\u001b[38;5;241;43m=\u001b[39;49m\u001b[38;5;28;43;01mTrue\u001b[39;49;00m\u001b[43m,\u001b[49m\u001b[43m \u001b[49m\u001b[43mtext_loc\u001b[49m\u001b[38;5;241;43m=\u001b[39;49m\u001b[38;5;124;43m'\u001b[39;49m\u001b[38;5;124;43mright\u001b[39;49m\u001b[38;5;124;43m'\u001b[39;49m\u001b[43m,\u001b[49m\u001b[43m \u001b[49m\u001b[43mpercent\u001b[49m\u001b[38;5;241;43m=\u001b[39;49m\u001b[43mpercent_mrp\u001b[49m\u001b[43m,\u001b[49m\u001b[43m \u001b[49m\u001b[43mplot\u001b[49m\u001b[38;5;241;43m=\u001b[39;49m\u001b[38;5;28;43;01mTrue\u001b[39;49;00m\u001b[43m,\u001b[49m\u001b[43m \u001b[49m\u001b[43mlabel\u001b[49m\u001b[38;5;241;43m=\u001b[39;49m\u001b[38;5;124;43m'\u001b[39;49m\u001b[38;5;124;43mtof\u001b[39;49m\u001b[38;5;124;43m'\u001b[39;49m\u001b[43m,\u001b[49m\u001b[43m \u001b[49m\u001b[43mfig_name\u001b[49m\u001b[38;5;241;43m=\u001b[39;49m\u001b[43mfigname\u001b[49m\u001b[43m,\u001b[49m\u001b[43m \u001b[49m\u001b[43mfig_size\u001b[49m\u001b[38;5;241;43m=\u001b[39;49m\u001b[43m(\u001b[49m\u001b[38;5;241;43m9\u001b[39;49m\u001b[38;5;241;43m/\u001b[39;49m\u001b[38;5;241;43m2.54\u001b[39;49m\u001b[43m,\u001b[49m\u001b[43m \u001b[49m\u001b[38;5;241;43m6\u001b[39;49m\u001b[38;5;241;43m/\u001b[39;49m\u001b[38;5;241;43m2.54\u001b[39;49m\u001b[43m)\u001b[49m\u001b[43m)\u001b[49m\n\u001b[0;32m      3\u001b[0m index_max_ini \u001b[38;5;241m=\u001b[39m np\u001b[38;5;241m.\u001b[39margmax(peaks_y_ini)\n\u001b[0;32m      4\u001b[0m mrp \u001b[38;5;241m=\u001b[39m (peaks_ini[index_max_ini] \u001b[38;5;241m/\u001b[39m (peak_widths_p_ini[index_max_ini][\u001b[38;5;241m2\u001b[39m] \u001b[38;5;241m-\u001b[39m peak_widths_p_ini[index_max_ini][\u001b[38;5;241m1\u001b[39m]))\n",
      "File \u001b[1;32md:\\pyccapt\\pyccapt\\calibration\\calibration_tools\\tools.py:66\u001b[0m, in \u001b[0;36mhist_plot\u001b[1;34m(mc_tof, bin, range_data, mc_peak_label, adjust_label, ranging, log, mode, percent, peaks_find, peaks_find_plot, plot, prominence, distance, h_line, selector, fast_hist, fig_name, text_loc, label, peak_val_plot, fig_size, background)\u001b[0m\n\u001b[0;32m     64\u001b[0m \u001b[38;5;28;01mif\u001b[39;00m peaks_find:\n\u001b[0;32m     65\u001b[0m     peaks, properties \u001b[38;5;241m=\u001b[39m find_peaks(y, prominence\u001b[38;5;241m=\u001b[39mprominence, distance\u001b[38;5;241m=\u001b[39mdistance, height\u001b[38;5;241m=\u001b[39m\u001b[38;5;241m0\u001b[39m)\n\u001b[1;32m---> 66\u001b[0m     index_peak_max \u001b[38;5;241m=\u001b[39m \u001b[43mnp\u001b[49m\u001b[38;5;241;43m.\u001b[39;49m\u001b[43margmax\u001b[49m\u001b[43m(\u001b[49m\u001b[43mproperties\u001b[49m\u001b[43m[\u001b[49m\u001b[38;5;124;43m'\u001b[39;49m\u001b[38;5;124;43mpeak_heights\u001b[39;49m\u001b[38;5;124;43m'\u001b[39;49m\u001b[43m]\u001b[49m\u001b[43m)\u001b[49m\n\u001b[0;32m     67\u001b[0m     \u001b[38;5;66;03m# find peak width\u001b[39;00m\n\u001b[0;32m     68\u001b[0m     peak_widths_p \u001b[38;5;241m=\u001b[39m peak_widths(y, peaks, rel_height\u001b[38;5;241m=\u001b[39m(percent \u001b[38;5;241m/\u001b[39m \u001b[38;5;241m100\u001b[39m), prominence_data\u001b[38;5;241m=\u001b[39m\u001b[38;5;28;01mNone\u001b[39;00m)\n",
      "File \u001b[1;32m<__array_function__ internals>:180\u001b[0m, in \u001b[0;36margmax\u001b[1;34m(*args, **kwargs)\u001b[0m\n",
      "File \u001b[1;32m~\\.conda\\envs\\oxcart5\\lib\\site-packages\\numpy\\core\\fromnumeric.py:1216\u001b[0m, in \u001b[0;36margmax\u001b[1;34m(a, axis, out, keepdims)\u001b[0m\n\u001b[0;32m   1129\u001b[0m \u001b[38;5;250m\u001b[39m\u001b[38;5;124;03m\"\"\"\u001b[39;00m\n\u001b[0;32m   1130\u001b[0m \u001b[38;5;124;03mReturns the indices of the maximum values along an axis.\u001b[39;00m\n\u001b[0;32m   1131\u001b[0m \n\u001b[1;32m   (...)\u001b[0m\n\u001b[0;32m   1213\u001b[0m \u001b[38;5;124;03m(2, 1, 4)\u001b[39;00m\n\u001b[0;32m   1214\u001b[0m \u001b[38;5;124;03m\"\"\"\u001b[39;00m\n\u001b[0;32m   1215\u001b[0m kwds \u001b[38;5;241m=\u001b[39m {\u001b[38;5;124m'\u001b[39m\u001b[38;5;124mkeepdims\u001b[39m\u001b[38;5;124m'\u001b[39m: keepdims} \u001b[38;5;28;01mif\u001b[39;00m keepdims \u001b[38;5;129;01mis\u001b[39;00m \u001b[38;5;129;01mnot\u001b[39;00m np\u001b[38;5;241m.\u001b[39m_NoValue \u001b[38;5;28;01melse\u001b[39;00m {}\n\u001b[1;32m-> 1216\u001b[0m \u001b[38;5;28;01mreturn\u001b[39;00m \u001b[43m_wrapfunc\u001b[49m\u001b[43m(\u001b[49m\u001b[43ma\u001b[49m\u001b[43m,\u001b[49m\u001b[43m \u001b[49m\u001b[38;5;124;43m'\u001b[39;49m\u001b[38;5;124;43margmax\u001b[39;49m\u001b[38;5;124;43m'\u001b[39;49m\u001b[43m,\u001b[49m\u001b[43m \u001b[49m\u001b[43maxis\u001b[49m\u001b[38;5;241;43m=\u001b[39;49m\u001b[43maxis\u001b[49m\u001b[43m,\u001b[49m\u001b[43m \u001b[49m\u001b[43mout\u001b[49m\u001b[38;5;241;43m=\u001b[39;49m\u001b[43mout\u001b[49m\u001b[43m,\u001b[49m\u001b[43m \u001b[49m\u001b[38;5;241;43m*\u001b[39;49m\u001b[38;5;241;43m*\u001b[39;49m\u001b[43mkwds\u001b[49m\u001b[43m)\u001b[49m\n",
      "File \u001b[1;32m~\\.conda\\envs\\oxcart5\\lib\\site-packages\\numpy\\core\\fromnumeric.py:57\u001b[0m, in \u001b[0;36m_wrapfunc\u001b[1;34m(obj, method, *args, **kwds)\u001b[0m\n\u001b[0;32m     54\u001b[0m     \u001b[38;5;28;01mreturn\u001b[39;00m _wrapit(obj, method, \u001b[38;5;241m*\u001b[39margs, \u001b[38;5;241m*\u001b[39m\u001b[38;5;241m*\u001b[39mkwds)\n\u001b[0;32m     56\u001b[0m \u001b[38;5;28;01mtry\u001b[39;00m:\n\u001b[1;32m---> 57\u001b[0m     \u001b[38;5;28;01mreturn\u001b[39;00m \u001b[43mbound\u001b[49m\u001b[43m(\u001b[49m\u001b[38;5;241;43m*\u001b[39;49m\u001b[43margs\u001b[49m\u001b[43m,\u001b[49m\u001b[43m \u001b[49m\u001b[38;5;241;43m*\u001b[39;49m\u001b[38;5;241;43m*\u001b[39;49m\u001b[43mkwds\u001b[49m\u001b[43m)\u001b[49m\n\u001b[0;32m     58\u001b[0m \u001b[38;5;28;01mexcept\u001b[39;00m \u001b[38;5;167;01mTypeError\u001b[39;00m:\n\u001b[0;32m     59\u001b[0m     \u001b[38;5;66;03m# A TypeError occurs if the object does have such a method in its\u001b[39;00m\n\u001b[0;32m     60\u001b[0m     \u001b[38;5;66;03m# class, but its signature is not identical to that of NumPy's. This\u001b[39;00m\n\u001b[1;32m   (...)\u001b[0m\n\u001b[0;32m     64\u001b[0m     \u001b[38;5;66;03m# Call _wrapit from within the except clause to ensure a potential\u001b[39;00m\n\u001b[0;32m     65\u001b[0m     \u001b[38;5;66;03m# exception has a traceback chain.\u001b[39;00m\n\u001b[0;32m     66\u001b[0m     \u001b[38;5;28;01mreturn\u001b[39;00m _wrapit(obj, method, \u001b[38;5;241m*\u001b[39margs, \u001b[38;5;241m*\u001b[39m\u001b[38;5;241m*\u001b[39mkwds)\n",
      "\u001b[1;31mValueError\u001b[0m: attempt to get argmax of an empty sequence"
     ]
    },
    {
     "data": {
      "application/vnd.jupyter.widget-view+json": {
       "model_id": "4bbc6d213ec6413db1e6432839ace1e1",
       "version_major": 2,
       "version_minor": 0
      },
      "image/png": "[encoded data removed]",
      "text/html": [
       "\n",
       "            <div style=\"display: inline-block;\">\n",
       "                <div class=\"jupyter-widgets widget-label\" style=\"text-align: center;\">\n",
       "                    Figure\n",
       "                </div>\n",
       "                <img src='data:image/png;base64,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' width=354.3307086614173/>\n",
       "            </div>\n",
       "        "
      ],
      "text/plain": [
       "Canvas(toolbar=Toolbar(toolitems=[('Home', 'Reset original view', 'home', 'home'), ('Back', 'Back to previous …"
      ]
     },
     "metadata": {},
     "output_type": "display_data"
    }
   ],
   "source": [
    "percent_mrp = 50\n",
    "peaks_ini, peaks_y_ini, peak_widths_p_ini, _ = tools.hist_plot(dld_t[dld_t < 2000], 0.1, prominence=200, distance=100, h_line=True, text_loc='right', percent=percent_mrp, plot=True, label='tof', fig_name=figname, fig_size=(9/2.54, 6/2.54))\n",
    "index_max_ini = np.argmax(peaks_y_ini)\n",
    "mrp = (peaks_ini[index_max_ini] / (peak_widths_p_ini[index_max_ini][2] - peak_widths_p_ini[index_max_ini][1]))\n",
    "print('Mass resolving power for the highest peak (MRP --> m/m_2-m_1):', mrp)\n",
    "for i in range(len(peaks_ini)):\n",
    "    print('Peaks ', i, 'is at location and height: ({:.2f}, {:.2f})'.format(peaks_ini[i], peaks_y_ini[i]), 'peak window sides ({:.2f}%) are: ({:.2f}, {:.2f})'.format(percent_mrp, peak_widths_p_ini[i][1], peak_widths_p_ini[i][2]))"
   ]
  },
  {
   "cell_type": "markdown",
   "metadata": {
    "pycharm": {
     "name": "#%% md\n"
    }
   },
   "source": [
    "$$\\textbf{Below plotted graph offers peak selection. You can select relevant peaks you want for computation.}$$"
   ]
  },
  {
   "cell_type": "code",
   "execution_count": 52,
   "metadata": {
    "pycharm": {
     "name": "#%%\n"
    }
   },
   "outputs": [
    {
     "name": "stdout",
     "output_type": "stream",
     "text": [
      "The peak index for MRP calculation is: 4\n"
     ]
    },
    {
     "data": {
      "application/vnd.jupyter.widget-view+json": {
       "model_id": "e1085106c26b4144bbd1cce8f6e57231",
       "version_major": 2,
       "version_minor": 0
      },
      "image/png": "[encoded data removed]",
      "text/html": [
       "\n",
       "            <div style=\"display: inline-block;\">\n",
       "                <div class=\"jupyter-widgets widget-label\" style=\"text-align: center;\">\n",
       "                    Figure\n",
       "                </div>\n",
       "                <img src='data:image/png;base64,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' width=354.3307086614173/>\n",
       "            </div>\n",
       "        "
      ],
      "text/plain": [
       "Canvas(toolbar=Toolbar(toolitems=[('Home', 'Reset original view', 'home', 'home'), ('Back', 'Back to previous …"
      ]
     },
     "metadata": {},
     "output_type": "display_data"
    },
    {
     "name": "stdout",
     "output_type": "stream",
     "text": [
      "Mass resolving power for the highest peak (MRP --> m/m_2-m_1): 16.200000026521028\n",
      "Peaks  0 is at location and height: (0.10, 3236.00) peak window sides (50.00%) are: (0.00, 0.10)\n",
      "Peaks  1 is at location and height: (12.20, 231.00) peak window sides (50.00%) are: (11.30, 12.80)\n",
      "Peaks  2 is at location and height: (47.31, 478.00) peak window sides (50.00%) are: (45.01, 48.61)\n",
      "Peaks  3 is at location and height: (70.72, 1963.00) peak window sides (50.00%) are: (70.62, 70.72)\n",
      "Peaks  4 is at location and height: (81.02, 4710.00) peak window sides (50.00%) are: (78.62, 83.63)\n",
      "Peaks  5 is at location and height: (169.45, 213.00) peak window sides (50.00%) are: (164.25, 172.65)\n",
      "Peaks  6 is at location and height: (182.66, 143.00) peak window sides (50.00%) are: (178.55, 184.16)\n"
     ]
    }
   ],
   "source": [
    "percent_mrp = 50\n",
    "lim = 400\n",
    "mc_seb_ini = mc_tools.tof2mc(dld_t, t0_d.value, dld_highVoltage, dld_pulseVoltage, dld_x, dld_y, flightPathLength_d.value, mode=pulse_mode.value)\n",
    "peaks_ini, peaks_y_ini, peak_widths_p_ini, _ = tools.hist_plot(mc_seb_ini[mc_seb_ini < lim], 0.1, prominence=50, distance=100, h_line=True, text_loc='right', percent=percent_mrp, plot=True, fig_name=figname)\n",
    "index_max_ini = np.argmax(peaks_y_ini)\n",
    "mrp = (peaks_ini[index_max_ini] / (peak_widths_p_ini[index_max_ini][2] - peak_widths_p_ini[index_max_ini][1]))\n",
    "print('Mass resolving power for the highest peak (MRP --> m/m_2-m_1):', mrp)\n",
    "for i in range(len(peaks_ini)):\n",
    "    print('Peaks ', i, 'is at location and height: ({:.2f}, {:.2f})'.format(peaks_ini[i], peaks_y_ini[i]), 'peak window sides ({:.2f}%) are: ({:.2f}, {:.2f})'.format(percent_mrp, peak_widths_p_ini[i][1], peak_widths_p_ini[i][2]))"
   ]
  },
  {
   "cell_type": "code",
   "execution_count": 40,
   "metadata": {},
   "outputs": [],
   "source": [
    "bin_size=widgets.FloatText(value=0.1, description='bin size:')\n",
    "prominence=widgets.IntText(value=100, description='peak prominance:')\n",
    "distance=widgets.IntText(value=500, description='peak distance:')\n",
    "lim_tof=widgets.IntText(value=1500, description='lim tof/mc:')\n",
    "percent=widgets.IntText(value=50, description='percent MRP:')\n",
    "\n",
    "def hist_plot(figname, plot):\n",
    "    \n",
    "    with out:\n",
    "        clear_output(True)\n",
    "    \n",
    "        bin_size_p = bin_size.value\n",
    "        prominence_p = prominence.value\n",
    "        distance_p = distance.value\n",
    "        lim_tof_p = lim_tof.value\n",
    "        percent_p = percent.value\n",
    "        selector = 'rect'\n",
    "        peaks_ini, peaks_y_ini, peak_widths_p_ini, _ = tools.hist_plot(variables.dld_t_calib[variables.dld_t_calib < lim_tof_p], bin_size_p, distance=distance_p, percent=percent_p, prominence=prominence_p, selector=selector, plot=plot, label='tof', fig_name=figname+'calib')\n",
    "        index_max_ini = np.argmax(peaks_y_ini)\n",
    "        variables.max_peak = peaks_ini[index_max_ini]\n",
    "        variables.peak = peaks_ini\n",
    "        mrp = (peaks_ini[index_max_ini] / (peak_widths_p_ini[index_max_ini][2] - peak_widths_p_ini[index_max_ini][1]))\n",
    "        print('Mass resolving power for the highest peak (MRP --> m/m_2-m_1):', mrp)\n",
    "        for i in range(len(peaks_ini)):\n",
    "            print('Peaks ', i, 'is at location and height: ({:.2f}, {:.2f})'.format(peaks_ini[i], peaks_y_ini[i]), 'peak window sides ({:.2f}%) are: ({:.2f}, {:.2f})'.format(percent_p, peak_widths_p_ini[i][1], peak_widths_p_ini[i][2]))"
   ]
  },
  {
   "cell_type": "code",
   "execution_count": 41,
   "metadata": {},
   "outputs": [],
   "source": [
    "sample_size_b = widgets.IntText(value=11, description='sample size:') \n",
    "index_fig_b = widgets.IntText(value=1, description='fig index:')\n",
    "plot_b = widgets.Dropdown(\n",
    "    options=[('False', False), ('True', True)],\n",
    "    description='plot fig:'\n",
    ")\n",
    "\n",
    "save_b = widgets.Dropdown(\n",
    "    options=[('False', False), ('True', True)],\n",
    "    description='save fig:'\n",
    ")\n",
    "def bowl_correction(dld_x, dld_y, dld_highVoltage, figname=figname):\n",
    "    with out:\n",
    "        sample_size_p = sample_size_b.value\n",
    "        index_fig_p = index_fig_b.value\n",
    "        plot_p = plot_b.value\n",
    "        save_p = save_b.value\n",
    "\n",
    "        calibration.bowl_correction_main(dld_x, dld_y, dld_highVoltage, det_diam.value, sample_size=sample_size_p, calibration_mode='tof',\n",
    "                                        index_fig=index_fig_p, plot=plot_p, save=save_p)\n"
   ]
  },
  {
   "cell_type": "code",
   "execution_count": 42,
   "metadata": {},
   "outputs": [],
   "source": [
    "sample_size_v =widgets.IntText(value=100, description='sample size:') \n",
    "index_fig_v = widgets.IntText(value=1, description='fig index:')\n",
    "plot_v = widgets.Dropdown(\n",
    "    options=[('False', False), ('True', True)],\n",
    "    description='plot fig:'\n",
    ")\n",
    "save_v = widgets.Dropdown(\n",
    "    options=[('False', False), ('True', True)],\n",
    "    description='save fig:'\n",
    ")\n",
    "mode_v = widgets.Dropdown(\n",
    "    options=[('ion_seq', 'ion_seq'), ('voltage', 'voltage')],\n",
    "    description='sample mode:'\n",
    ")\n",
    "peak_mode = widgets.Dropdown(\n",
    "    options=[('peak', 'peak'), ('mean', 'mean'), ('median', 'median')],\n",
    "    description='peak mode:'\n",
    ")\n",
    "def vol_correction(dld_highVoltage, figname):\n",
    "    with out:\n",
    "        sample_size_p = sample_size_v.value\n",
    "        index_fig_p = index_fig_v.value\n",
    "        plot_p = plot_v.value\n",
    "        save_p = save_v.value\n",
    "        mode_p = mode_v.value\n",
    "        peak_mode_p = peak_mode.value\n",
    "        calibration.voltage_corr_main(dld_highVoltage, sample_size=sample_size_p, calibration_mode='tof',\n",
    "                                        index_fig=index_fig_p, plot=plot_p, save=save_p, mode=mode_p, peak_mode=peak_mode_p)\n"
   ]
  },
  {
   "cell_type": "code",
   "execution_count": 75,
   "metadata": {},
   "outputs": [
    {
     "data": {
      "application/vnd.jupyter.widget-view+json": {
       "model_id": "a25989b3692c46aba229dbbb69b8c67d",
       "version_major": 2,
       "version_minor": 0
      },
      "text/plain": [
       "VBox(children=(Tab(children=(VBox(children=(FloatText(value=0.1, description='bin size:'), IntText(value=50, d…"
      ]
     },
     "metadata": {},
     "output_type": "display_data"
    },
    {
     "data": {
      "application/vnd.jupyter.widget-view+json": {
       "model_id": "3cc659451d6e42e1b5a81f1b14dfce9f",
       "version_major": 2,
       "version_minor": 0
      },
      "text/plain": [
       "Output()"
      ]
     },
     "metadata": {},
     "output_type": "display_data"
    }
   ],
   "source": [
    "pb_bowl = widgets.HTML(\n",
    "    value=\" \",\n",
    "    placeholder='Status:',\n",
    "    description='Status:',\n",
    ")\n",
    "pb_vol = widgets.HTML(\n",
    "    value=\" \",\n",
    "    placeholder='Status:',\n",
    "    description='Status:',\n",
    ")\n",
    "plot_button = widgets.Button(\n",
    "    description='plot hist',\n",
    ")\n",
    "plot_fdm_button = widgets.Button(\n",
    "    description='plot FDM',\n",
    ")\n",
    "reset_button = widgets.Button(\n",
    "    description='reset back correction',\n",
    ")\n",
    "save_button = widgets.Button(\n",
    "    description='save correction',\n",
    ")\n",
    "bowl_button = widgets.Button(\n",
    "    description='bowl correction',\n",
    ")\n",
    "vol_button = widgets.Button(\n",
    "    description='voltage correction',\n",
    ")\n",
    "bin_fdm = widgets.IntText(value=256, description='bin FDM:')\n",
    "    \n",
    "@plot_button.on_click\n",
    "def plot_on_click(b, figname=figname, plot=True):\n",
    "    hist_plot(figname, plot)\n",
    "\n",
    "@plot_fdm_button.on_click\n",
    "def plot_fdm_on_click(b, save=True):\n",
    "    with out:\n",
    "        clear_output(True)\n",
    "        if variables.selected_x1 == 0 or variables.selected_x2 == 0:\n",
    "            print('Please first select a peak')\n",
    "        else:\n",
    "            print('Selected tof are: (%s, %s)' %(variables.selected_x1, variables.selected_x2)) \n",
    "            mask_temporal = np.logical_and((variables.dld_t_calib > variables.selected_x1),\n",
    "                                           (variables.dld_t_calib < variables.selected_x2))\n",
    "            x = dld_x[mask_temporal]\n",
    "            y = dld_y[mask_temporal]\n",
    "            bin_fdm_p = bin_fdm.value\n",
    "            bins = [bin_fdm_p, bin_fdm_p]\n",
    "\n",
    "            calibration.plot_FDM(x, y, save, bins)\n",
    "    \n",
    "@reset_button.on_click\n",
    "def reset_on_click(b, figname=figname, plot=True):\n",
    "    variables.dld_t_calib = np.copy(variables.dld_t_calib_backup)\n",
    "@save_button.on_click\n",
    "def save_on_click(b, figname=figname, plot=True):\n",
    "    variables.dld_t_calib_backup = np.copy(variables.dld_t_calib)\n",
    "    \n",
    "@bowl_button.on_click\n",
    "def bowl_on_click(b, dld_x=dld_x, dld_y=dld_y, dld_highVoltage=dld_highVoltage, figname=figname):\n",
    "    with out:\n",
    "        clear_output(True)\n",
    "        pb_bowl.value = \"<b>Starting...</b>\"\n",
    "        if variables.selected_x1 == 0 or variables.selected_x2 == 0:\n",
    "            print('Please first select a peak')\n",
    "        else:\n",
    "            print('Selected tof are: (%s, %s)' %(variables.selected_x1, variables.selected_x2))\n",
    "            bowl_correction(dld_x, dld_y, dld_highVoltage, figname)  \n",
    "        pb_bowl.value = \"<b>Flished</b>\"\n",
    "@vol_button.on_click\n",
    "def vol_on_click(b, dld_highVoltage=dld_highVoltage, figname=figname):\n",
    "    with out:\n",
    "        clear_output(True)\n",
    "        pb_vol.value = \"<b>Starting...</b>\"\n",
    "        if variables.selected_x1 == 0 or variables.selected_x2 == 0:\n",
    "            print('Please first select a peak')\n",
    "        else:\n",
    "            print('Selected tof are: (%s, %s)' %(variables.selected_x1, variables.selected_x2))\n",
    "            vol_correction(dld_highVoltage, figname)\n",
    "        pb_vol.value = \"<b>Flished</b>\"\n",
    "    \n",
    "\n",
    "\n",
    "tab1 = VBox(children=[bin_size, prominence, distance, lim_tof, percent, bin_fdm])\n",
    "tab2 = VBox(children=[HBox(children=[sample_size_b, index_fig_b, plot_b, save_b]), bowl_button, pb_bowl])\n",
    "tab3 = VBox(children=[HBox(children=[sample_size_v, index_fig_v, mode_v, peak_mode, plot_v, save_v]), vol_button, pb_vol])\n",
    "\n",
    "tab = widgets.Tab(children=[tab1, tab2, tab3])\n",
    "tab.set_title(0, 'tof/mc plot')\n",
    "tab.set_title(1, 'bowl correction')\n",
    "tab.set_title(2, 'voltage correction')\n",
    "\n",
    "\n",
    "\n",
    "display(VBox(children=[tab,HBox(children=[plot_button, plot_fdm_button, save_button, reset_button])]))\n",
    "out = Output()\n",
    "display(out)"
   ]
  },
  {
   "cell_type": "code",
   "execution_count": null,
   "metadata": {},
   "outputs": [],
   "source": [
    "# fitresult = [ 1.59856266e+00,  5.68765920e-09, -1.41281563e-04]\n",
    "# f_v = calibration.voltage_corr(data['high_voltage (V)'].to_numpy(), *fitresult)\n",
    "# variables.dld_t_calib = variables.dld_t_calib * (1 / f_v)"
   ]
  },
  {
   "cell_type": "code",
   "execution_count": 22,
   "metadata": {},
   "outputs": [],
   "source": [
    "# parameters = [ 9.88684464e-01, -2.17639093e-04 , 2.36038428e-04,  3.44156992e-05, -2.62895576e-06,  3.28072030e-05]\n",
    "# f_bowl = calibration.bowl_corr_fit([data['x_det (cm)'].to_numpy()* 10, data['y_det (cm)'].to_numpy()* 10], *parameters)\n",
    "# variables.dld_t_calib = variables.dld_t_calib * 1 / f_bowl"
   ]
  },
  {
   "cell_type": "code",
   "execution_count": 53,
   "metadata": {
    "tags": []
   },
   "outputs": [],
   "source": [
    "xxxx = np.copy(variables.dld_t_calib)"
   ]
  },
  {
   "cell_type": "code",
   "execution_count": 55,
   "metadata": {},
   "outputs": [],
   "source": [
    "variables.dld_t_calib_backup = np.copy(variables.dld_t_calib)"
   ]
  },
  {
   "cell_type": "code",
   "execution_count": 56,
   "metadata": {
    "tags": []
   },
   "outputs": [],
   "source": [
    "# np.save(\"t_171_c.npy\", variables.dld_t_calib)"
   ]
  },
  {
   "cell_type": "code",
   "execution_count": 57,
   "metadata": {},
   "outputs": [
    {
     "data": {
      "application/vnd.jupyter.widget-view+json": {
       "model_id": "c06a49b37d5545bd8ee11150a75744ed",
       "version_major": 2,
       "version_minor": 0
      },
      "text/plain": [
       "interactive(children=(FloatText(value=0.1, description='bin_size'), IntText(value=50, description='prominence'…"
      ]
     },
     "metadata": {},
     "output_type": "display_data"
    }
   ],
   "source": [
    "def tof_his(bin_size, prominence, distance, percent, selector, plot, figname, lim_dld_t):\n",
    "    variables.peaks_idx = []\n",
    "    peaks_ini, peaks_y_ini, peak_widths_p_ini, _ = tools.hist_plot(variables.dld_t_calib[variables.dld_t_calib < lim_dld_t], bin_size, distance=distance, percent=percent, prominence=prominence, selector=selector, peaks_find_plot=True, plot=plot, label='tof', fig_name=figname)\n",
    "    index_max_ini = np.argmax(peaks_y_ini)\n",
    "    variables.max_peak = peaks_ini[index_max_ini]\n",
    "    variables.peak = peaks_ini\n",
    "    mrp = (peaks_ini[index_max_ini] / (peak_widths_p_ini[index_max_ini][2] - peak_widths_p_ini[index_max_ini][1]))\n",
    "    print('Mass resolving power for the highest peak (MRP --> m/m_2-m_1):', mrp)\n",
    "    for i in range(len(peaks_ini)):\n",
    "                   print('Peaks ', i+1, 'is at location and height: ({:.2f}, {:.2f})'.format(peaks_ini[i], peaks_y_ini[i]), 'peak window sides ({:.2f}%) are: ({:.2f}, {:.2f})'.format(percent, peak_widths_p_ini[i][1], peak_widths_p_ini[i][2]))\n",
    "interact_manual(tof_his, bin_size=widgets.FloatText(value=0.1)\n",
    "               ,prominence=widgets.IntText(value=50), distance=widgets.IntText(value=100), lim_dld_t=widgets.IntText(value=1500)\n",
    "               ,percent=widgets.IntText(value=50), selector=fixed('peak'), plot=fixed(True), figname=fixed(figname));\n"
   ]
  },
  {
   "cell_type": "code",
   "execution_count": 98,
   "metadata": {
    "pycharm": {
     "name": "#%%\n"
    }
   },
   "outputs": [
    {
     "data": {
      "application/vnd.jupyter.widget-view+json": {
       "model_id": "b602453cd78e4c5c93d4fccb6fc17e37",
       "version_major": 2,
       "version_minor": 0
      },
      "text/plain": [
       "Dropdown(description='Elements', options=(('H (1) (99.98)', 'H(1)[1.01]'), ('H (2) (0.01)', 'H(2)[2.01]'), ('H…"
      ]
     },
     "metadata": {},
     "output_type": "display_data"
    },
    {
     "data": {
      "application/vnd.jupyter.widget-view+json": {
       "model_id": "e364e64659bd44b39b1a6a3235bbfd3b",
       "version_major": 2,
       "version_minor": 0
      },
      "text/plain": [
       "Dropdown(description='Charge', options=((1, 1), (2, 2), (3, 3), (4, 4)), value=1)"
      ]
     },
     "metadata": {},
     "output_type": "display_data"
    },
    {
     "data": {
      "application/vnd.jupyter.widget-view+json": {
       "model_id": "1912b1c682bc4ba4af7f7ac7bf4b92a6",
       "version_major": 2,
       "version_minor": 0
      },
      "text/plain": [
       "Button(description='ADD', icon='check', style=ButtonStyle(), tooltip='ADD')"
      ]
     },
     "metadata": {},
     "output_type": "display_data"
    },
    {
     "data": {
      "application/vnd.jupyter.widget-view+json": {
       "model_id": "489472fff6104d90a460da9d5d550e9e",
       "version_major": 2,
       "version_minor": 0
      },
      "text/plain": [
       "Button(description='DELETE', icon='check', style=ButtonStyle(), tooltip='DELETE')"
      ]
     },
     "metadata": {},
     "output_type": "display_data"
    },
    {
     "data": {
      "application/vnd.jupyter.widget-view+json": {
       "model_id": "68c5a12fa80e42049ae9c357b8f652d3",
       "version_major": 2,
       "version_minor": 0
      },
      "text/plain": [
       "Button(description='RESET', icon='check', style=ButtonStyle(), tooltip='RESET')"
      ]
     },
     "metadata": {},
     "output_type": "display_data"
    },
    {
     "data": {
      "application/vnd.jupyter.widget-view+json": {
       "model_id": "aa8e7ed5cc8a4a19be7bbdb4a270b126",
       "version_major": 2,
       "version_minor": 0
      },
      "text/plain": [
       "Output()"
      ]
     },
     "metadata": {},
     "output_type": "display_data"
    }
   ],
   "source": [
    "isotopeTableFile = '../../../files/isotopeTable.h5'\n",
    "dataframe = data_tools.read_hdf5_through_pandas(isotopeTableFile)\n",
    "elementsList = dataframe['element']\n",
    "elementIsotopeList = dataframe['isotope']\n",
    "elementMassList =  dataframe['weight']\n",
    "abundanceList = dataframe['abundance']\n",
    "\n",
    "elements = list(zip(elementsList, elementIsotopeList, elementMassList, abundanceList))\n",
    "dropdownList = []\n",
    "for element in elements:\n",
    "    tupleElement = (\"{} ({}) ({:.2f})\".format(element[0], element[1], element[3]), \"{}({})[{}]\".format(element[0], element[1], element[2]))\n",
    "    dropdownList.append(tupleElement)\n",
    "\n",
    "chargeList = [(1,1,),(2,2,),(3,3,),(4,4,)]\n",
    "dropdown = wd.dropdownWidget(dropdownList,\"Elements\")\n",
    "dropdown.observe(wd.on_change)\n",
    "\n",
    "\n",
    "chargeDropdown = wd.dropdownWidget(chargeList,\"Charge\")\n",
    "chargeDropdown.observe(wd.on_change_charge)\n",
    "\n",
    "wd.compute_element_isotope_values_according_to_selected_charge()\n",
    "\n",
    "buttonAdd = wd.buttonWidget(\"ADD\")\n",
    "buttonDelete = wd.buttonWidget(\"DELETE\")\n",
    "buttonReset = wd.buttonWidget(\"RESET\")\n",
    "\n",
    "display(dropdown, chargeDropdown, buttonAdd, buttonDelete, buttonReset)\n",
    "\n",
    "def buttonAdd_f(b,):\n",
    "    with out:\n",
    "        clear_output(True)\n",
    "        wd.onClickAdd(b,)\n",
    "        display()\n",
    "def buttonDelete_f(b,):\n",
    "    with out:\n",
    "        clear_output(True)\n",
    "        wd.onClickDelete(b,)\n",
    "        display()\n",
    "def buttonResett_f(b,):\n",
    "    with out:\n",
    "        clear_output(True)\n",
    "        wd.onClickReset(b,)\n",
    "        display()\n",
    "\n",
    "listMaterial = buttonAdd.on_click(buttonAdd_f)\n",
    "buttonDelete.on_click(buttonDelete_f)\n",
    "buttonReset.on_click(buttonResett_f)\n",
    "# listMaterial = buttonAdd.on_click(wd.onClickAdd)\n",
    "# buttonDelete.on_click(wd.onClickDelete)\n",
    "# buttonReset.on_click(wd.onClickReset)\n",
    "out = Output()\n",
    "display(out)"
   ]
  },
  {
   "cell_type": "code",
   "execution_count": 99,
   "metadata": {
    "pycharm": {
     "name": "#%%\n"
    }
   },
   "outputs": [
    {
     "name": "stdout",
     "output_type": "stream",
     "text": [
      "highest peak in the tof histogram: [171.45736849 445.83000897 603.93463447]\n",
      "highest peak in the ideal mc histogram: [ 1.01 13.49 26.98]\n"
     ]
    }
   ],
   "source": [
    "peaks_chos = []\n",
    "for i in range(len(variables.peaks_idx)):\n",
    "    peaks_chos.append(variables.peak[variables.peaks_idx[i]])\n",
    "peaks_chos = np.array(peaks_chos)\n",
    "listMaterial = np.array(variables.listMaterial)\n",
    "print('highest peak in the tof histogram:', peaks_chos)\n",
    "print('highest peak in the ideal mc histogram:', listMaterial)"
   ]
  },
  {
   "cell_type": "code",
   "execution_count": 100,
   "metadata": {
    "pycharm": {
     "name": "#%%\n"
    }
   },
   "outputs": [
    {
     "name": "stderr",
     "output_type": "stream",
     "text": [
      "C:\\Users\\APTUser\\.conda\\envs\\oxcart5\\lib\\site-packages\\scipy\\optimize\\_minpack_py.py:906: OptimizeWarning: Covariance of the parameters could not be estimated\n",
      "  warnings.warn('Covariance of the parameters could not be estimated',\n"
     ]
    }
   ],
   "source": [
    "def parametric(t, t0, c, d):\n",
    "\n",
    "    # return c * ((t - t0)**2) + d\n",
    "    return c * ((t - t0)**2) + d*t\n",
    "\n",
    "def parametric_calib(t, mc_ideal):\n",
    "    \n",
    "    fitresult, _ = curve_fit(parametric, t, mc_ideal, maxfev=2000)\n",
    "    return fitresult\n",
    "\n",
    "fitresult = parametric_calib(peaks_chos, variables.listMaterial)\n",
    "\n",
    "\n",
    "mc_p_1 = parametric(variables.dld_t_calib, *fitresult)"
   ]
  },
  {
   "cell_type": "code",
   "execution_count": 101,
   "metadata": {},
   "outputs": [
    {
     "name": "stdout",
     "output_type": "stream",
     "text": [
      "The t0 is: 52.35718377338705 ns\n"
     ]
    }
   ],
   "source": [
    "print('The t0 is:', fitresult[0], 'ns')"
   ]
  },
  {
   "cell_type": "code",
   "execution_count": 102,
   "metadata": {
    "pycharm": {
     "name": "#%%\n"
    }
   },
   "outputs": [
    {
     "name": "stdout",
     "output_type": "stream",
     "text": [
      "The peak index for MRP calculation is: 2\n"
     ]
    },
    {
     "data": {
      "application/vnd.jupyter.widget-view+json": {
       "model_id": "2659f0fd364f40b4abc2516a3c4e7793",
       "version_major": 2,
       "version_minor": 0
      },
      "image/png": "[encoded data removed]",
      "text/html": [
       "\n",
       "            <div style=\"display: inline-block;\">\n",
       "                <div class=\"jupyter-widgets widget-label\" style=\"text-align: center;\">\n",
       "                    Figure\n",
       "                </div>\n",
       "                <img src='data:image/png;base64,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' width=354.3307086614173/>\n",
       "            </div>\n",
       "        "
      ],
      "text/plain": [
       "Canvas(toolbar=Toolbar(toolitems=[('Home', 'Reset original view', 'home', 'home'), ('Back', 'Back to previous …"
      ]
     },
     "metadata": {},
     "output_type": "display_data"
    },
    {
     "name": "stdout",
     "output_type": "stream",
     "text": [
      "Mass resolving power for the highest peak (MRP --> m/m_2-m_1): 269.01550939358486\n",
      "Peaks  0 is at location and height: (0.90, 118.00) peak window sides (half-maximum) are: (0.80, 1.00)\n",
      "Peaks  1 is at location and height: (13.44, 81784.00) peak window sides (half-maximum) are: (13.34, 13.54)\n",
      "Peaks  2 is at location and height: (26.97, 673199.00) peak window sides (half-maximum) are: (26.87, 26.97)\n"
     ]
    }
   ],
   "source": [
    "percent_mrp = 50\n",
    "# background = {'calculation': True, 'plot_no_back': True, 'plot': False, 'mode': 'fabc', 'patch': False, 'lam': 1e4, 'num_std': 5.0}\n",
    "background={'calculation': False}\n",
    "peak_p, peaks_y_p, peak_widths_p, _ = tools.hist_plot(mc_p_1[mc_p_1 < 75], 0.1, prominence=40, distance=20, text_loc='right', percent=percent_mrp, plot=True, fig_name='mc2_p_1'+figname, background=background)\n",
    "index_max_ini = np.argmax(peaks_y_p)\n",
    "mrp = (peak_p[index_max_ini] / (peak_widths_p[index_max_ini][2] - peak_widths_p[index_max_ini][1]))\n",
    "print('Mass resolving power for the highest peak (MRP --> m/m_2-m_1):', mrp)\n",
    "for i in range(len(peak_p)):\n",
    "    print('Peaks ', i, 'is at location and height: ({:.2f}, {:.2f})'.format(peak_p[i], peaks_y_p[i]), 'peak window sides (half-maximum) are: ({:.2f}, {:.2f})'.format(peak_widths_p[i][1], peak_widths_p[i][2]))"
   ]
  },
  {
   "cell_type": "code",
   "execution_count": 77,
   "metadata": {
    "tags": []
   },
   "outputs": [
    {
     "data": {
      "text/plain": [
       "144.6475601822121"
      ]
     },
     "execution_count": 77,
     "metadata": {},
     "output_type": "execute_result"
    }
   ],
   "source": [
    "# np.sqrt(((1.0 * 1.66E-27 * (110 * 1E-3) ** 2)) / (2 * 1.6E-19  * 3000)) * 1E9 # in ns"
   ]
  },
  {
   "cell_type": "code",
   "execution_count": 58,
   "metadata": {
    "tags": []
   },
   "outputs": [
    {
     "data": {
      "text/html": [
       "<div>\n",
       "<style scoped>\n",
       "    .dataframe tbody tr th:only-of-type {\n",
       "        vertical-align: middle;\n",
       "    }\n",
       "\n",
       "    .dataframe tbody tr th {\n",
       "        vertical-align: top;\n",
       "    }\n",
       "\n",
       "    .dataframe thead th {\n",
       "        text-align: right;\n",
       "    }\n",
       "</style>\n",
       "<table border=\"1\" class=\"dataframe\">\n",
       "  <thead>\n",
       "    <tr style=\"text-align: right;\">\n",
       "      <th></th>\n",
       "      <th>x (nm)</th>\n",
       "      <th>y (nm)</th>\n",
       "      <th>z (nm)</th>\n",
       "      <th>mc_c (Da)</th>\n",
       "      <th>mc (Da)</th>\n",
       "      <th>high_voltage (V)</th>\n",
       "      <th>pulse (V)</th>\n",
       "      <th>start_counter</th>\n",
       "      <th>t (ns)</th>\n",
       "      <th>t_c (nm)</th>\n",
       "      <th>x_det (cm)</th>\n",
       "      <th>y_det (cm)</th>\n",
       "      <th>pulse_pi</th>\n",
       "      <th>ion_pp</th>\n",
       "    </tr>\n",
       "  </thead>\n",
       "  <tbody>\n",
       "    <tr>\n",
       "      <th>0</th>\n",
       "      <td>0.943917</td>\n",
       "      <td>-0.463124</td>\n",
       "      <td>0.019942</td>\n",
       "      <td>91.527626</td>\n",
       "      <td>0.0</td>\n",
       "      <td>3682.110107</td>\n",
       "      <td>0.0</td>\n",
       "      <td>0.0</td>\n",
       "      <td>3891.519531</td>\n",
       "      <td>0.0</td>\n",
       "      <td>0.392873</td>\n",
       "      <td>0.057275</td>\n",
       "      <td>0</td>\n",
       "      <td>1</td>\n",
       "    </tr>\n",
       "    <tr>\n",
       "      <th>1</th>\n",
       "      <td>2.270334</td>\n",
       "      <td>-5.010604</td>\n",
       "      <td>0.551171</td>\n",
       "      <td>91.982094</td>\n",
       "      <td>0.0</td>\n",
       "      <td>3682.110107</td>\n",
       "      <td>0.0</td>\n",
       "      <td>0.0</td>\n",
       "      <td>3904.508789</td>\n",
       "      <td>0.0</td>\n",
       "      <td>0.702811</td>\n",
       "      <td>-0.243931</td>\n",
       "      <td>43</td>\n",
       "      <td>1</td>\n",
       "    </tr>\n",
       "    <tr>\n",
       "      <th>2</th>\n",
       "      <td>-5.462508</td>\n",
       "      <td>0.471533</td>\n",
       "      <td>0.547564</td>\n",
       "      <td>92.993858</td>\n",
       "      <td>0.0</td>\n",
       "      <td>3682.110107</td>\n",
       "      <td>0.0</td>\n",
       "      <td>0.0</td>\n",
       "      <td>3878.014160</td>\n",
       "      <td>0.0</td>\n",
       "      <td>-0.112540</td>\n",
       "      <td>-0.152062</td>\n",
       "      <td>211</td>\n",
       "      <td>1</td>\n",
       "    </tr>\n",
       "    <tr>\n",
       "      <th>3</th>\n",
       "      <td>8.305490</td>\n",
       "      <td>4.298521</td>\n",
       "      <td>1.624813</td>\n",
       "      <td>60.973576</td>\n",
       "      <td>0.0</td>\n",
       "      <td>3682.110107</td>\n",
       "      <td>0.0</td>\n",
       "      <td>0.0</td>\n",
       "      <td>3204.297363</td>\n",
       "      <td>0.0</td>\n",
       "      <td>0.712028</td>\n",
       "      <td>0.788533</td>\n",
       "      <td>66</td>\n",
       "      <td>1</td>\n",
       "    </tr>\n",
       "    <tr>\n",
       "      <th>4</th>\n",
       "      <td>2.990205</td>\n",
       "      <td>0.078835</td>\n",
       "      <td>0.161882</td>\n",
       "      <td>61.330170</td>\n",
       "      <td>0.0</td>\n",
       "      <td>3682.110107</td>\n",
       "      <td>0.0</td>\n",
       "      <td>0.0</td>\n",
       "      <td>3195.071777</td>\n",
       "      <td>0.0</td>\n",
       "      <td>0.512681</td>\n",
       "      <td>0.189050</td>\n",
       "      <td>18</td>\n",
       "      <td>1</td>\n",
       "    </tr>\n",
       "    <tr>\n",
       "      <th>...</th>\n",
       "      <td>...</td>\n",
       "      <td>...</td>\n",
       "      <td>...</td>\n",
       "      <td>...</td>\n",
       "      <td>...</td>\n",
       "      <td>...</td>\n",
       "      <td>...</td>\n",
       "      <td>...</td>\n",
       "      <td>...</td>\n",
       "      <td>...</td>\n",
       "      <td>...</td>\n",
       "      <td>...</td>\n",
       "      <td>...</td>\n",
       "      <td>...</td>\n",
       "    </tr>\n",
       "    <tr>\n",
       "      <th>549698</th>\n",
       "      <td>-4.680508</td>\n",
       "      <td>-0.665500</td>\n",
       "      <td>8.134455</td>\n",
       "      <td>99.078377</td>\n",
       "      <td>0.0</td>\n",
       "      <td>1334.670044</td>\n",
       "      <td>0.0</td>\n",
       "      <td>0.0</td>\n",
       "      <td>6555.320312</td>\n",
       "      <td>0.0</td>\n",
       "      <td>-0.575553</td>\n",
       "      <td>-0.705528</td>\n",
       "      <td>1</td>\n",
       "      <td>1</td>\n",
       "    </tr>\n",
       "    <tr>\n",
       "      <th>549699</th>\n",
       "      <td>-3.787911</td>\n",
       "      <td>-3.385010</td>\n",
       "      <td>8.331511</td>\n",
       "      <td>216.163483</td>\n",
       "      <td>0.0</td>\n",
       "      <td>1334.670044</td>\n",
       "      <td>0.0</td>\n",
       "      <td>0.0</td>\n",
       "      <td>9699.115234</td>\n",
       "      <td>0.0</td>\n",
       "      <td>-0.047374</td>\n",
       "      <td>-1.282389</td>\n",
       "      <td>43</td>\n",
       "      <td>1</td>\n",
       "    </tr>\n",
       "    <tr>\n",
       "      <th>549700</th>\n",
       "      <td>-2.945118</td>\n",
       "      <td>-1.283401</td>\n",
       "      <td>7.480402</td>\n",
       "      <td>101.124908</td>\n",
       "      <td>0.0</td>\n",
       "      <td>1334.670044</td>\n",
       "      <td>0.0</td>\n",
       "      <td>0.0</td>\n",
       "      <td>6691.295410</td>\n",
       "      <td>0.0</td>\n",
       "      <td>-0.129701</td>\n",
       "      <td>-0.605268</td>\n",
       "      <td>114</td>\n",
       "      <td>1</td>\n",
       "    </tr>\n",
       "    <tr>\n",
       "      <th>549701</th>\n",
       "      <td>-4.043397</td>\n",
       "      <td>-0.999465</td>\n",
       "      <td>7.856801</td>\n",
       "      <td>100.075027</td>\n",
       "      <td>0.0</td>\n",
       "      <td>1334.670044</td>\n",
       "      <td>0.0</td>\n",
       "      <td>0.0</td>\n",
       "      <td>6614.916504</td>\n",
       "      <td>0.0</td>\n",
       "      <td>-0.393382</td>\n",
       "      <td>-0.694126</td>\n",
       "      <td>211</td>\n",
       "      <td>1</td>\n",
       "    </tr>\n",
       "    <tr>\n",
       "      <th>549702</th>\n",
       "      <td>-3.605551</td>\n",
       "      <td>-1.773034</td>\n",
       "      <td>7.791200</td>\n",
       "      <td>93.055229</td>\n",
       "      <td>0.0</td>\n",
       "      <td>1334.670044</td>\n",
       "      <td>0.0</td>\n",
       "      <td>0.0</td>\n",
       "      <td>6389.932617</td>\n",
       "      <td>0.0</td>\n",
       "      <td>-0.201848</td>\n",
       "      <td>-0.819208</td>\n",
       "      <td>531</td>\n",
       "      <td>1</td>\n",
       "    </tr>\n",
       "  </tbody>\n",
       "</table>\n",
       "<p>549703 rows × 14 columns</p>\n",
       "</div>"
      ],
      "text/plain": [
       "          x (nm)    y (nm)    z (nm)   mc_c (Da)  mc (Da)  high_voltage (V)  \\\n",
       "0       0.943917 -0.463124  0.019942   91.527626      0.0       3682.110107   \n",
       "1       2.270334 -5.010604  0.551171   91.982094      0.0       3682.110107   \n",
       "2      -5.462508  0.471533  0.547564   92.993858      0.0       3682.110107   \n",
       "3       8.305490  4.298521  1.624813   60.973576      0.0       3682.110107   \n",
       "4       2.990205  0.078835  0.161882   61.330170      0.0       3682.110107   \n",
       "...          ...       ...       ...         ...      ...               ...   \n",
       "549698 -4.680508 -0.665500  8.134455   99.078377      0.0       1334.670044   \n",
       "549699 -3.787911 -3.385010  8.331511  216.163483      0.0       1334.670044   \n",
       "549700 -2.945118 -1.283401  7.480402  101.124908      0.0       1334.670044   \n",
       "549701 -4.043397 -0.999465  7.856801  100.075027      0.0       1334.670044   \n",
       "549702 -3.605551 -1.773034  7.791200   93.055229      0.0       1334.670044   \n",
       "\n",
       "        pulse (V)  start_counter       t (ns)  t_c (nm)  x_det (cm)  \\\n",
       "0             0.0            0.0  3891.519531       0.0    0.392873   \n",
       "1             0.0            0.0  3904.508789       0.0    0.702811   \n",
       "2             0.0            0.0  3878.014160       0.0   -0.112540   \n",
       "3             0.0            0.0  3204.297363       0.0    0.712028   \n",
       "4             0.0            0.0  3195.071777       0.0    0.512681   \n",
       "...           ...            ...          ...       ...         ...   \n",
       "549698        0.0            0.0  6555.320312       0.0   -0.575553   \n",
       "549699        0.0            0.0  9699.115234       0.0   -0.047374   \n",
       "549700        0.0            0.0  6691.295410       0.0   -0.129701   \n",
       "549701        0.0            0.0  6614.916504       0.0   -0.393382   \n",
       "549702        0.0            0.0  6389.932617       0.0   -0.201848   \n",
       "\n",
       "        y_det (cm)  pulse_pi  ion_pp  \n",
       "0         0.057275         0       1  \n",
       "1        -0.243931        43       1  \n",
       "2        -0.152062       211       1  \n",
       "3         0.788533        66       1  \n",
       "4         0.189050        18       1  \n",
       "...            ...       ...     ...  \n",
       "549698   -0.705528         1       1  \n",
       "549699   -1.282389        43       1  \n",
       "549700   -0.605268       114       1  \n",
       "549701   -0.694126       211       1  \n",
       "549702   -0.819208       531       1  \n",
       "\n",
       "[549703 rows x 14 columns]"
      ]
     },
     "execution_count": 58,
     "metadata": {},
     "output_type": "execute_result"
    }
   ],
   "source": [
    "data"
   ]
  },
  {
   "cell_type": "code",
   "execution_count": 67,
   "metadata": {},
   "outputs": [],
   "source": [
    "data_c = data.copy(deep = True)\n",
    "data_c['t_c (ns)'] = variables.dld_t_calib\n",
    "# data_c['mc_c (Da)'] = mc_p_1"
   ]
  },
  {
   "cell_type": "code",
   "execution_count": 68,
   "metadata": {},
   "outputs": [],
   "source": [
    "# Remove negative mc\n",
    "# threshold = 0\n",
    "# mc_t = data_c['mc_c (Da)'].to_numpy()\n",
    "# mc_t_mask = (mc_t <= threshold)\n",
    "# print('The number of ions with negative mc are:', len(mc_t_mask[mc_t_mask==True]))\n",
    "# data_c.drop(np.where(mc_t_mask)[0], inplace=True)\n",
    "# data_c.reset_index(inplace=True, drop=True)"
   ]
  },
  {
   "cell_type": "code",
   "execution_count": 69,
   "metadata": {},
   "outputs": [
    {
     "data": {
      "text/html": [
       "<div>\n",
       "<style scoped>\n",
       "    .dataframe tbody tr th:only-of-type {\n",
       "        vertical-align: middle;\n",
       "    }\n",
       "\n",
       "    .dataframe tbody tr th {\n",
       "        vertical-align: top;\n",
       "    }\n",
       "\n",
       "    .dataframe thead th {\n",
       "        text-align: right;\n",
       "    }\n",
       "</style>\n",
       "<table border=\"1\" class=\"dataframe\">\n",
       "  <thead>\n",
       "    <tr style=\"text-align: right;\">\n",
       "      <th></th>\n",
       "      <th>x (nm)</th>\n",
       "      <th>y (nm)</th>\n",
       "      <th>z (nm)</th>\n",
       "      <th>mc_c (Da)</th>\n",
       "      <th>mc (Da)</th>\n",
       "      <th>high_voltage (V)</th>\n",
       "      <th>pulse (V)</th>\n",
       "      <th>start_counter</th>\n",
       "      <th>t (ns)</th>\n",
       "      <th>t_c (nm)</th>\n",
       "      <th>x_det (cm)</th>\n",
       "      <th>y_det (cm)</th>\n",
       "      <th>pulse_pi</th>\n",
       "      <th>ion_pp</th>\n",
       "      <th>t_c (ns)</th>\n",
       "    </tr>\n",
       "  </thead>\n",
       "  <tbody>\n",
       "    <tr>\n",
       "      <th>0</th>\n",
       "      <td>0.943917</td>\n",
       "      <td>-0.463124</td>\n",
       "      <td>0.019942</td>\n",
       "      <td>91.527626</td>\n",
       "      <td>0.0</td>\n",
       "      <td>3682.110107</td>\n",
       "      <td>0.0</td>\n",
       "      <td>0.0</td>\n",
       "      <td>3891.519531</td>\n",
       "      <td>0.0</td>\n",
       "      <td>0.392873</td>\n",
       "      <td>0.057275</td>\n",
       "      <td>0</td>\n",
       "      <td>1</td>\n",
       "      <td>4239.131558</td>\n",
       "    </tr>\n",
       "    <tr>\n",
       "      <th>1</th>\n",
       "      <td>2.270334</td>\n",
       "      <td>-5.010604</td>\n",
       "      <td>0.551171</td>\n",
       "      <td>91.982094</td>\n",
       "      <td>0.0</td>\n",
       "      <td>3682.110107</td>\n",
       "      <td>0.0</td>\n",
       "      <td>0.0</td>\n",
       "      <td>3904.508789</td>\n",
       "      <td>0.0</td>\n",
       "      <td>0.702811</td>\n",
       "      <td>-0.243931</td>\n",
       "      <td>43</td>\n",
       "      <td>1</td>\n",
       "      <td>4248.225144</td>\n",
       "    </tr>\n",
       "    <tr>\n",
       "      <th>2</th>\n",
       "      <td>-5.462508</td>\n",
       "      <td>0.471533</td>\n",
       "      <td>0.547564</td>\n",
       "      <td>92.993858</td>\n",
       "      <td>0.0</td>\n",
       "      <td>3682.110107</td>\n",
       "      <td>0.0</td>\n",
       "      <td>0.0</td>\n",
       "      <td>3878.014160</td>\n",
       "      <td>0.0</td>\n",
       "      <td>-0.112540</td>\n",
       "      <td>-0.152062</td>\n",
       "      <td>211</td>\n",
       "      <td>1</td>\n",
       "      <td>4267.018864</td>\n",
       "    </tr>\n",
       "    <tr>\n",
       "      <th>3</th>\n",
       "      <td>8.305490</td>\n",
       "      <td>4.298521</td>\n",
       "      <td>1.624813</td>\n",
       "      <td>60.973576</td>\n",
       "      <td>0.0</td>\n",
       "      <td>3682.110107</td>\n",
       "      <td>0.0</td>\n",
       "      <td>0.0</td>\n",
       "      <td>3204.297363</td>\n",
       "      <td>0.0</td>\n",
       "      <td>0.712028</td>\n",
       "      <td>0.788533</td>\n",
       "      <td>66</td>\n",
       "      <td>1</td>\n",
       "      <td>3461.230088</td>\n",
       "    </tr>\n",
       "    <tr>\n",
       "      <th>4</th>\n",
       "      <td>2.990205</td>\n",
       "      <td>0.078835</td>\n",
       "      <td>0.161882</td>\n",
       "      <td>61.330170</td>\n",
       "      <td>0.0</td>\n",
       "      <td>3682.110107</td>\n",
       "      <td>0.0</td>\n",
       "      <td>0.0</td>\n",
       "      <td>3195.071777</td>\n",
       "      <td>0.0</td>\n",
       "      <td>0.512681</td>\n",
       "      <td>0.189050</td>\n",
       "      <td>18</td>\n",
       "      <td>1</td>\n",
       "      <td>3471.082777</td>\n",
       "    </tr>\n",
       "    <tr>\n",
       "      <th>...</th>\n",
       "      <td>...</td>\n",
       "      <td>...</td>\n",
       "      <td>...</td>\n",
       "      <td>...</td>\n",
       "      <td>...</td>\n",
       "      <td>...</td>\n",
       "      <td>...</td>\n",
       "      <td>...</td>\n",
       "      <td>...</td>\n",
       "      <td>...</td>\n",
       "      <td>...</td>\n",
       "      <td>...</td>\n",
       "      <td>...</td>\n",
       "      <td>...</td>\n",
       "      <td>...</td>\n",
       "    </tr>\n",
       "    <tr>\n",
       "      <th>549698</th>\n",
       "      <td>-4.680508</td>\n",
       "      <td>-0.665500</td>\n",
       "      <td>8.134455</td>\n",
       "      <td>99.078377</td>\n",
       "      <td>0.0</td>\n",
       "      <td>1334.670044</td>\n",
       "      <td>0.0</td>\n",
       "      <td>0.0</td>\n",
       "      <td>6555.320312</td>\n",
       "      <td>0.0</td>\n",
       "      <td>-0.575553</td>\n",
       "      <td>-0.705528</td>\n",
       "      <td>1</td>\n",
       "      <td>1</td>\n",
       "      <td>4738.564447</td>\n",
       "    </tr>\n",
       "    <tr>\n",
       "      <th>549699</th>\n",
       "      <td>-3.787911</td>\n",
       "      <td>-3.385010</td>\n",
       "      <td>8.331511</td>\n",
       "      <td>216.163483</td>\n",
       "      <td>0.0</td>\n",
       "      <td>1334.670044</td>\n",
       "      <td>0.0</td>\n",
       "      <td>0.0</td>\n",
       "      <td>9699.115234</td>\n",
       "      <td>0.0</td>\n",
       "      <td>-0.047374</td>\n",
       "      <td>-1.282389</td>\n",
       "      <td>43</td>\n",
       "      <td>1</td>\n",
       "      <td>7004.295261</td>\n",
       "    </tr>\n",
       "    <tr>\n",
       "      <th>549700</th>\n",
       "      <td>-2.945118</td>\n",
       "      <td>-1.283401</td>\n",
       "      <td>7.480402</td>\n",
       "      <td>101.124908</td>\n",
       "      <td>0.0</td>\n",
       "      <td>1334.670044</td>\n",
       "      <td>0.0</td>\n",
       "      <td>0.0</td>\n",
       "      <td>6691.295410</td>\n",
       "      <td>0.0</td>\n",
       "      <td>-0.129701</td>\n",
       "      <td>-0.605268</td>\n",
       "      <td>114</td>\n",
       "      <td>1</td>\n",
       "      <td>4787.932694</td>\n",
       "    </tr>\n",
       "    <tr>\n",
       "      <th>549701</th>\n",
       "      <td>-4.043397</td>\n",
       "      <td>-0.999465</td>\n",
       "      <td>7.856801</td>\n",
       "      <td>100.075027</td>\n",
       "      <td>0.0</td>\n",
       "      <td>1334.670044</td>\n",
       "      <td>0.0</td>\n",
       "      <td>0.0</td>\n",
       "      <td>6614.916504</td>\n",
       "      <td>0.0</td>\n",
       "      <td>-0.393382</td>\n",
       "      <td>-0.694126</td>\n",
       "      <td>211</td>\n",
       "      <td>1</td>\n",
       "      <td>4762.872355</td>\n",
       "    </tr>\n",
       "    <tr>\n",
       "      <th>549702</th>\n",
       "      <td>-3.605551</td>\n",
       "      <td>-1.773034</td>\n",
       "      <td>7.791200</td>\n",
       "      <td>93.055229</td>\n",
       "      <td>0.0</td>\n",
       "      <td>1334.670044</td>\n",
       "      <td>0.0</td>\n",
       "      <td>0.0</td>\n",
       "      <td>6389.932617</td>\n",
       "      <td>0.0</td>\n",
       "      <td>-0.201848</td>\n",
       "      <td>-0.819208</td>\n",
       "      <td>531</td>\n",
       "      <td>1</td>\n",
       "      <td>4592.155897</td>\n",
       "    </tr>\n",
       "  </tbody>\n",
       "</table>\n",
       "<p>549703 rows × 15 columns</p>\n",
       "</div>"
      ],
      "text/plain": [
       "          x (nm)    y (nm)    z (nm)   mc_c (Da)  mc (Da)  high_voltage (V)  \\\n",
       "0       0.943917 -0.463124  0.019942   91.527626      0.0       3682.110107   \n",
       "1       2.270334 -5.010604  0.551171   91.982094      0.0       3682.110107   \n",
       "2      -5.462508  0.471533  0.547564   92.993858      0.0       3682.110107   \n",
       "3       8.305490  4.298521  1.624813   60.973576      0.0       3682.110107   \n",
       "4       2.990205  0.078835  0.161882   61.330170      0.0       3682.110107   \n",
       "...          ...       ...       ...         ...      ...               ...   \n",
       "549698 -4.680508 -0.665500  8.134455   99.078377      0.0       1334.670044   \n",
       "549699 -3.787911 -3.385010  8.331511  216.163483      0.0       1334.670044   \n",
       "549700 -2.945118 -1.283401  7.480402  101.124908      0.0       1334.670044   \n",
       "549701 -4.043397 -0.999465  7.856801  100.075027      0.0       1334.670044   \n",
       "549702 -3.605551 -1.773034  7.791200   93.055229      0.0       1334.670044   \n",
       "\n",
       "        pulse (V)  start_counter       t (ns)  t_c (nm)  x_det (cm)  \\\n",
       "0             0.0            0.0  3891.519531       0.0    0.392873   \n",
       "1             0.0            0.0  3904.508789       0.0    0.702811   \n",
       "2             0.0            0.0  3878.014160       0.0   -0.112540   \n",
       "3             0.0            0.0  3204.297363       0.0    0.712028   \n",
       "4             0.0            0.0  3195.071777       0.0    0.512681   \n",
       "...           ...            ...          ...       ...         ...   \n",
       "549698        0.0            0.0  6555.320312       0.0   -0.575553   \n",
       "549699        0.0            0.0  9699.115234       0.0   -0.047374   \n",
       "549700        0.0            0.0  6691.295410       0.0   -0.129701   \n",
       "549701        0.0            0.0  6614.916504       0.0   -0.393382   \n",
       "549702        0.0            0.0  6389.932617       0.0   -0.201848   \n",
       "\n",
       "        y_det (cm)  pulse_pi  ion_pp     t_c (ns)  \n",
       "0         0.057275         0       1  4239.131558  \n",
       "1        -0.243931        43       1  4248.225144  \n",
       "2        -0.152062       211       1  4267.018864  \n",
       "3         0.788533        66       1  3461.230088  \n",
       "4         0.189050        18       1  3471.082777  \n",
       "...            ...       ...     ...          ...  \n",
       "549698   -0.705528         1       1  4738.564447  \n",
       "549699   -1.282389        43       1  7004.295261  \n",
       "549700   -0.605268       114       1  4787.932694  \n",
       "549701   -0.694126       211       1  4762.872355  \n",
       "549702   -0.819208       531       1  4592.155897  \n",
       "\n",
       "[549703 rows x 15 columns]"
      ]
     },
     "execution_count": 69,
     "metadata": {},
     "output_type": "execute_result"
    }
   ],
   "source": [
    "data_c"
   ]
  },
  {
   "cell_type": "code",
   "execution_count": 61,
   "metadata": {},
   "outputs": [
    {
     "ename": "NameError",
     "evalue": "name 'mc_p_1' is not defined",
     "output_type": "error",
     "traceback": [
      "\u001b[1;31m---------------------------------------------------------------------------\u001b[0m",
      "\u001b[1;31mNameError\u001b[0m                                 Traceback (most recent call last)",
      "Cell \u001b[1;32mIn[61], line 3\u001b[0m\n\u001b[0;32m      1\u001b[0m cc \u001b[38;5;241m=\u001b[39m data_c[\u001b[38;5;124m'\u001b[39m\u001b[38;5;124mmc_c (Da)\u001b[39m\u001b[38;5;124m'\u001b[39m]\u001b[38;5;241m.\u001b[39mto_numpy()\n\u001b[0;32m      2\u001b[0m \u001b[38;5;66;03m# cc[cc <= 0] = 0\u001b[39;00m\n\u001b[1;32m----> 3\u001b[0m peaks_ini, peaks_y_ini, peak_widths_p_ini, _ \u001b[38;5;241m=\u001b[39m tools\u001b[38;5;241m.\u001b[39mhist_plot(\u001b[43mmc_p_1\u001b[49m[mc_p_1 \u001b[38;5;241m<\u001b[39m \u001b[38;5;241m100\u001b[39m], \u001b[38;5;241m0.1\u001b[39m, distance\u001b[38;5;241m=\u001b[39m\u001b[38;5;241m10\u001b[39m, percent\u001b[38;5;241m=\u001b[39m\u001b[38;5;241m50\u001b[39m, prominence\u001b[38;5;241m=\u001b[39m\u001b[38;5;241m50\u001b[39m, selector\u001b[38;5;241m=\u001b[39m\u001b[38;5;124m'\u001b[39m\u001b[38;5;124mpeak\u001b[39m\u001b[38;5;124m'\u001b[39m, peaks_find_plot\u001b[38;5;241m=\u001b[39m\u001b[38;5;28;01mTrue\u001b[39;00m, plot\u001b[38;5;241m=\u001b[39m\u001b[38;5;28;01mTrue\u001b[39;00m, label\u001b[38;5;241m=\u001b[39m\u001b[38;5;124m'\u001b[39m\u001b[38;5;124mmc\u001b[39m\u001b[38;5;124m'\u001b[39m)\n\u001b[0;32m      4\u001b[0m peaks_ini, peaks_y_ini, peak_widths_p_ini, _ \u001b[38;5;241m=\u001b[39m tools\u001b[38;5;241m.\u001b[39mhist_plot(cc[cc \u001b[38;5;241m<\u001b[39m \u001b[38;5;241m100\u001b[39m], \u001b[38;5;241m0.1\u001b[39m, distance\u001b[38;5;241m=\u001b[39m\u001b[38;5;241m10\u001b[39m, percent\u001b[38;5;241m=\u001b[39m\u001b[38;5;241m50\u001b[39m, prominence\u001b[38;5;241m=\u001b[39m\u001b[38;5;241m50\u001b[39m, selector\u001b[38;5;241m=\u001b[39m\u001b[38;5;124m'\u001b[39m\u001b[38;5;124mpeak\u001b[39m\u001b[38;5;124m'\u001b[39m, peaks_find_plot\u001b[38;5;241m=\u001b[39m\u001b[38;5;28;01mTrue\u001b[39;00m, plot\u001b[38;5;241m=\u001b[39m\u001b[38;5;28;01mTrue\u001b[39;00m, label\u001b[38;5;241m=\u001b[39m\u001b[38;5;124m'\u001b[39m\u001b[38;5;124mmc\u001b[39m\u001b[38;5;124m'\u001b[39m)\n",
      "\u001b[1;31mNameError\u001b[0m: name 'mc_p_1' is not defined"
     ]
    }
   ],
   "source": [
    "cc = data_c['mc_c (Da)'].to_numpy()\n",
    "# cc[cc <= 0] = 0\n",
    "peaks_ini, peaks_y_ini, peak_widths_p_ini, _ = tools.hist_plot(mc_p_1[mc_p_1 < 100], 0.1, distance=10, percent=50, prominence=50, selector='peak', peaks_find_plot=True, plot=True, label='mc')\n",
    "peaks_ini, peaks_y_ini, peak_widths_p_ini, _ = tools.hist_plot(cc[cc < 100], 0.1, distance=10, percent=50, prominence=50, selector='peak', peaks_find_plot=True, plot=True, label='mc')"
   ]
  },
  {
   "cell_type": "code",
   "execution_count": 62,
   "metadata": {},
   "outputs": [],
   "source": [
    "# save the new data\n",
    "name_save_file = variables.result_path + '//' + dataset_name + '.h5'\n",
    "data_tools.store_df_to_hdf(name_save_file, data_c, 'df')"
   ]
  },
  {
   "cell_type": "code",
   "execution_count": 63,
   "metadata": {},
   "outputs": [],
   "source": [
    "# save data as epos file\n",
    "epos = ccapt_tools.ccapt_to_epos(data_c, pulse_mode=pulse_mode.value, path=variables.result_path, name=dataset_name + '.epos')\n",
    "pos = ccapt_tools.ccapt_to_pos(data_c, path=variables.result_path, name=dataset_name + '.POS')"
   ]
  },
  {
   "cell_type": "code",
   "execution_count": null,
   "metadata": {},
   "outputs": [],
   "source": [
    "# save data in csv format\n",
    "data_tools.store_df_to_csv(data_c, variables.result_path + dataset_name + '.csv')"
   ]
  },
  {
   "cell_type": "code",
   "execution_count": 64,
   "metadata": {
    "tags": []
   },
   "outputs": [
    {
     "data": {
      "text/plain": [
       "'D:/pyccapt/tests/data/tof_calibration/'"
      ]
     },
     "execution_count": 64,
     "metadata": {},
     "output_type": "execute_result"
    }
   ],
   "source": [
    "variables.result_path"
   ]
  },
  {
   "cell_type": "code",
   "execution_count": null,
   "metadata": {},
   "outputs": [],
   "source": []
  }
 ],
 "metadata": {
  "kernelspec": {
   "display_name": "Python 3 (ipykernel)",
   "language": "python",
   "name": "python3"
  },
  "language_info": {
   "codemirror_mode": {
    "name": "ipython",
    "version": 3
   },
   "file_extension": ".py",
   "mimetype": "text/x-python",
   "name": "python",
   "nbconvert_exporter": "python",
   "pygments_lexer": "ipython3",
   "version": "3.8.16"
  }
 },
 "nbformat": 4,
 "nbformat_minor": 4
}

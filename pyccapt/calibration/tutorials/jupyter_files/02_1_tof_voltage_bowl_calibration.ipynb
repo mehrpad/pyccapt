{
 "cells": [
  {
   "cell_type": "code",
   "execution_count": 1,
   "metadata": {
    "pycharm": {
     "name": "#%%\n"
    }
   },
   "outputs": [],
   "source": [
    "%matplotlib ipympl\n",
    "import os\n",
    "import os.path as path\n",
    "import logging, sys\n",
    "import numpy as np\n",
    "from scipy.optimize import curve_fit\n",
    "from scipy import interpolate\n",
    "from sklearn.preprocessing import MinMaxScaler\n",
    "import matplotlib.pyplot as plt\n",
    "from ipywidgets import fixed, interact_manual, widgets\n",
    "from ipywidgets import HBox, VBox\n",
    "from IPython.display import clear_output\n",
    "from IPython.display import display\n",
    "from ipywidgets import IntSlider, Output\n",
    "from itertools import product\n",
    "from scipy.signal import find_peaks\n",
    "import math\n",
    "from mpl_toolkits.mplot3d import Axes3D\n",
    "\n",
    "# Local module and scripts\n",
    "from pyccapt.calibration.calibration_tools import tools, variables, calibration\n",
    "from pyccapt.calibration.calibration_tools import widgets as wd\n",
    "from pyccapt.calibration.data_tools import data_tools, data_loadcrop, dataset_path_qt\n",
    "from pyccapt.calibration.mc import mc_tools\n",
    "from pyccapt.calibration.leap_tools import ccapt_tools"
   ]
  },
  {
   "cell_type": "code",
   "execution_count": 2,
   "metadata": {},
   "outputs": [],
   "source": [
    "%load_ext autoreload\n",
    "%autoreload 2"
   ]
  },
  {
   "cell_type": "code",
   "execution_count": 3,
   "metadata": {},
   "outputs": [],
   "source": [
    "%reload_ext autoreload"
   ]
  },
  {
   "cell_type": "code",
   "execution_count": 4,
   "metadata": {
    "pycharm": {
     "name": "#%%\n"
    }
   },
   "outputs": [],
   "source": [
    "# Disable showing logging in Jupyter notebook\n",
    "logging.disable(sys.maxsize)"
   ]
  },
  {
   "cell_type": "code",
   "execution_count": 5,
   "metadata": {},
   "outputs": [
    {
     "data": {
      "application/vnd.jupyter.widget-view+json": {
       "model_id": "acabc862627e45429fab012a43647a7e",
       "version_major": 2,
       "version_minor": 0
      },
      "text/plain": [
       "Button(description='load dataset', style=ButtonStyle())"
      ]
     },
     "execution_count": 5,
     "metadata": {},
     "output_type": "execute_result"
    }
   ],
   "source": [
    "button = widgets.Button(\n",
    "    description='load dataset',\n",
    ")\n",
    "\n",
    "@button.on_click\n",
    "def open_file_on_click(b):\n",
    "    global dataset_path\n",
    "    dataset_path = dataset_path_qt.gui_fname().decode('ASCII')\n",
    "button"
   ]
  },
  {
   "cell_type": "code",
   "execution_count": 6,
   "metadata": {},
   "outputs": [
    {
     "data": {
      "application/vnd.jupyter.widget-view+json": {
       "model_id": "4e9535a7d25d45d482d0fa8f2f37ee8f",
       "version_major": 2,
       "version_minor": 0
      },
      "text/plain": [
       "Dropdown(description='Data mode:', options=('surface_concept', 'roentdec', 'leap_epos', 'leap_pos'), value='su…"
      ]
     },
     "metadata": {},
     "output_type": "display_data"
    },
    {
     "data": {
      "application/vnd.jupyter.widget-view+json": {
       "model_id": "58bdb2652bd64328a7078a5c2db7827e",
       "version_major": 2,
       "version_minor": 0
      },
      "text/plain": [
       "FloatText(value=78.0, description='Detector diameter:')"
      ]
     },
     "metadata": {},
     "output_type": "display_data"
    },
    {
     "data": {
      "application/vnd.jupyter.widget-view+json": {
       "model_id": "99a230752e3e47a7b00941a52520c610",
       "version_major": 2,
       "version_minor": 0
      },
      "text/plain": [
       "Dropdown(description='Pulse mode:', options=('voltage', 'laser'), value='voltage')"
      ]
     },
     "metadata": {},
     "output_type": "display_data"
    },
    {
     "data": {
      "application/vnd.jupyter.widget-view+json": {
       "model_id": "fbcc44775c1f4404973d443c1c20b1ae",
       "version_major": 2,
       "version_minor": 0
      },
      "text/plain": [
       "FloatText(value=110.0, description='Flight path length:')"
      ]
     },
     "metadata": {},
     "output_type": "display_data"
    },
    {
     "data": {
      "application/vnd.jupyter.widget-view+json": {
       "model_id": "481605bfd4ef4b3bb4a98c9b9e7d282e",
       "version_major": 2,
       "version_minor": 0
      },
      "text/plain": [
       "FloatText(value=54.0, description='t0:')"
      ]
     },
     "metadata": {},
     "output_type": "display_data"
    }
   ],
   "source": [
    "tdc, pulse_mode, flightPathLength_d, t0_d, max_mc, det_diam = wd.dataset_tdc_selection()\n",
    "display(tdc, det_diam, pulse_mode, flightPathLength_d, t0_d)"
   ]
  },
  {
   "cell_type": "markdown",
   "metadata": {
    "pycharm": {
     "name": "#%% md\n"
    }
   },
   "source": [
    "$$\\textbf{You can specify which dataset to use in below block}$$"
   ]
  },
  {
   "cell_type": "code",
   "execution_count": 7,
   "metadata": {
    "pycharm": {
     "name": "#%%\n"
    }
   },
   "outputs": [
    {
     "name": "stdout",
     "output_type": "stream",
     "text": [
      "The result will be saved on the path: C:/Users/mehrp/PycharmProjects/pyccapt/tests/data/OLO_AL_6_data/tof_calibration/\n"
     ]
    }
   ],
   "source": [
    "dataset_main_path = os.path.dirname(dataset_path)\n",
    "dataset_name_with_extention = os.path.basename(dataset_path)\n",
    "dataset_name = os.path.splitext(dataset_name_with_extention)[0]\n",
    "\n",
    "\n",
    "variables.init()\n",
    "# variables.path = os.path.join(p, 'tests//data')\n",
    "variables.result_path = os.path.dirname(dataset_main_path) +  '/tof_calibration/'\n",
    "if not os.path.isdir(variables.result_path):\n",
    "    os.makedirs(variables.result_path, mode=0o777, exist_ok=True)\n",
    "print('The result will be saved on the path:', variables.result_path)\n",
    "\n",
    "filename = dataset_path\n",
    "\n",
    "head, tail = os.path.split(filename)\n",
    "figname = os.path.splitext(tail)[0]\n",
    "\n",
    "if tdc.value == 'leap_pos' or tdc.value == 'leap_epos':\n",
    "    if tdc.value == 'leap_epos':\n",
    "        data = ccapt_tools.epos_to_ccapt(filename)\n",
    "    else:\n",
    "        print('The file has to be epos. With pos information this tutorial cannot be run')\n",
    "        data = ccapt_tools.pos_to_ccapt(filename)\n",
    "else:\n",
    "    data = data_tools.read_hdf5_through_pandas(filename)\n"
   ]
  },
  {
   "cell_type": "code",
   "execution_count": 8,
   "metadata": {
    "pycharm": {
     "name": "#%%\n"
    }
   },
   "outputs": [
    {
     "data": {
      "text/html": [
       "<div>\n",
       "<style scoped>\n",
       "    .dataframe tbody tr th:only-of-type {\n",
       "        vertical-align: middle;\n",
       "    }\n",
       "\n",
       "    .dataframe tbody tr th {\n",
       "        vertical-align: top;\n",
       "    }\n",
       "\n",
       "    .dataframe thead th {\n",
       "        text-align: right;\n",
       "    }\n",
       "</style>\n",
       "<table border=\"1\" class=\"dataframe\">\n",
       "  <thead>\n",
       "    <tr style=\"text-align: right;\">\n",
       "      <th></th>\n",
       "      <th>x (nm)</th>\n",
       "      <th>y (nm)</th>\n",
       "      <th>z (nm)</th>\n",
       "      <th>mc_c (Da)</th>\n",
       "      <th>mc (Da)</th>\n",
       "      <th>high_voltage (V)</th>\n",
       "      <th>pulse (V)</th>\n",
       "      <th>start_counter</th>\n",
       "      <th>t (ns)</th>\n",
       "      <th>t_c (nm)</th>\n",
       "      <th>x_det (cm)</th>\n",
       "      <th>y_det (cm)</th>\n",
       "      <th>pulse_pi</th>\n",
       "      <th>ion_pp</th>\n",
       "    </tr>\n",
       "  </thead>\n",
       "  <tbody>\n",
       "    <tr>\n",
       "      <th>0</th>\n",
       "      <td>0.0</td>\n",
       "      <td>0.0</td>\n",
       "      <td>0.0</td>\n",
       "      <td>0.0</td>\n",
       "      <td>27.401002</td>\n",
       "      <td>5269.834473</td>\n",
       "      <td>5269.834473</td>\n",
       "      <td>54436.0</td>\n",
       "      <td>635.421132</td>\n",
       "      <td>0.0</td>\n",
       "      <td>-1.595020</td>\n",
       "      <td>-1.661878</td>\n",
       "      <td>0</td>\n",
       "      <td>1</td>\n",
       "    </tr>\n",
       "    <tr>\n",
       "      <th>1</th>\n",
       "      <td>0.0</td>\n",
       "      <td>0.0</td>\n",
       "      <td>0.0</td>\n",
       "      <td>0.0</td>\n",
       "      <td>27.522766</td>\n",
       "      <td>5269.834473</td>\n",
       "      <td>5269.834473</td>\n",
       "      <td>54903.0</td>\n",
       "      <td>635.901192</td>\n",
       "      <td>0.0</td>\n",
       "      <td>0.646286</td>\n",
       "      <td>2.129878</td>\n",
       "      <td>467</td>\n",
       "      <td>1</td>\n",
       "    </tr>\n",
       "    <tr>\n",
       "      <th>2</th>\n",
       "      <td>0.0</td>\n",
       "      <td>0.0</td>\n",
       "      <td>0.0</td>\n",
       "      <td>0.0</td>\n",
       "      <td>27.582728</td>\n",
       "      <td>5269.834473</td>\n",
       "      <td>5269.834473</td>\n",
       "      <td>55353.0</td>\n",
       "      <td>648.101574</td>\n",
       "      <td>0.0</td>\n",
       "      <td>-0.175102</td>\n",
       "      <td>3.155020</td>\n",
       "      <td>450</td>\n",
       "      <td>1</td>\n",
       "    </tr>\n",
       "    <tr>\n",
       "      <th>3</th>\n",
       "      <td>0.0</td>\n",
       "      <td>0.0</td>\n",
       "      <td>0.0</td>\n",
       "      <td>0.0</td>\n",
       "      <td>26.913047</td>\n",
       "      <td>5269.834473</td>\n",
       "      <td>5269.834473</td>\n",
       "      <td>55831.0</td>\n",
       "      <td>636.010920</td>\n",
       "      <td>0.0</td>\n",
       "      <td>1.964327</td>\n",
       "      <td>-1.999347</td>\n",
       "      <td>478</td>\n",
       "      <td>1</td>\n",
       "    </tr>\n",
       "    <tr>\n",
       "      <th>4</th>\n",
       "      <td>0.0</td>\n",
       "      <td>0.0</td>\n",
       "      <td>0.0</td>\n",
       "      <td>0.0</td>\n",
       "      <td>27.273478</td>\n",
       "      <td>5269.834473</td>\n",
       "      <td>5269.834473</td>\n",
       "      <td>56022.0</td>\n",
       "      <td>633.350016</td>\n",
       "      <td>0.0</td>\n",
       "      <td>1.381714</td>\n",
       "      <td>1.757388</td>\n",
       "      <td>191</td>\n",
       "      <td>1</td>\n",
       "    </tr>\n",
       "    <tr>\n",
       "      <th>...</th>\n",
       "      <td>...</td>\n",
       "      <td>...</td>\n",
       "      <td>...</td>\n",
       "      <td>...</td>\n",
       "      <td>...</td>\n",
       "      <td>...</td>\n",
       "      <td>...</td>\n",
       "      <td>...</td>\n",
       "      <td>...</td>\n",
       "      <td>...</td>\n",
       "      <td>...</td>\n",
       "      <td>...</td>\n",
       "      <td>...</td>\n",
       "      <td>...</td>\n",
       "    </tr>\n",
       "    <tr>\n",
       "      <th>1898626</th>\n",
       "      <td>0.0</td>\n",
       "      <td>0.0</td>\n",
       "      <td>0.0</td>\n",
       "      <td>0.0</td>\n",
       "      <td>248.363850</td>\n",
       "      <td>5711.471680</td>\n",
       "      <td>5711.471680</td>\n",
       "      <td>37587.0</td>\n",
       "      <td>1716.831720</td>\n",
       "      <td>0.0</td>\n",
       "      <td>0.369306</td>\n",
       "      <td>-1.330776</td>\n",
       "      <td>83</td>\n",
       "      <td>1</td>\n",
       "    </tr>\n",
       "    <tr>\n",
       "      <th>1898627</th>\n",
       "      <td>0.0</td>\n",
       "      <td>0.0</td>\n",
       "      <td>0.0</td>\n",
       "      <td>0.0</td>\n",
       "      <td>27.320343</td>\n",
       "      <td>5711.471680</td>\n",
       "      <td>5711.471680</td>\n",
       "      <td>38162.0</td>\n",
       "      <td>600.993972</td>\n",
       "      <td>0.0</td>\n",
       "      <td>0.423429</td>\n",
       "      <td>0.630367</td>\n",
       "      <td>575</td>\n",
       "      <td>1</td>\n",
       "    </tr>\n",
       "    <tr>\n",
       "      <th>1898628</th>\n",
       "      <td>0.0</td>\n",
       "      <td>0.0</td>\n",
       "      <td>0.0</td>\n",
       "      <td>0.0</td>\n",
       "      <td>27.881308</td>\n",
       "      <td>5711.471680</td>\n",
       "      <td>5711.471680</td>\n",
       "      <td>38200.0</td>\n",
       "      <td>606.096324</td>\n",
       "      <td>0.0</td>\n",
       "      <td>0.560327</td>\n",
       "      <td>0.200571</td>\n",
       "      <td>38</td>\n",
       "      <td>1</td>\n",
       "    </tr>\n",
       "    <tr>\n",
       "      <th>1898629</th>\n",
       "      <td>0.0</td>\n",
       "      <td>0.0</td>\n",
       "      <td>0.0</td>\n",
       "      <td>0.0</td>\n",
       "      <td>27.072135</td>\n",
       "      <td>5711.471680</td>\n",
       "      <td>5711.471680</td>\n",
       "      <td>38467.0</td>\n",
       "      <td>600.026994</td>\n",
       "      <td>0.0</td>\n",
       "      <td>0.926449</td>\n",
       "      <td>-0.633551</td>\n",
       "      <td>267</td>\n",
       "      <td>1</td>\n",
       "    </tr>\n",
       "    <tr>\n",
       "      <th>1898630</th>\n",
       "      <td>0.0</td>\n",
       "      <td>0.0</td>\n",
       "      <td>0.0</td>\n",
       "      <td>0.0</td>\n",
       "      <td>26.879493</td>\n",
       "      <td>5711.471680</td>\n",
       "      <td>5711.471680</td>\n",
       "      <td>38469.0</td>\n",
       "      <td>609.497892</td>\n",
       "      <td>0.0</td>\n",
       "      <td>-0.066857</td>\n",
       "      <td>-2.534204</td>\n",
       "      <td>2</td>\n",
       "      <td>1</td>\n",
       "    </tr>\n",
       "  </tbody>\n",
       "</table>\n",
       "<p>1898631 rows × 14 columns</p>\n",
       "</div>"
      ],
      "text/plain": [
       "         x (nm)  y (nm)  z (nm)  mc_c (Da)     mc (Da)  high_voltage (V)  \\\n",
       "0           0.0     0.0     0.0        0.0   27.401002       5269.834473   \n",
       "1           0.0     0.0     0.0        0.0   27.522766       5269.834473   \n",
       "2           0.0     0.0     0.0        0.0   27.582728       5269.834473   \n",
       "3           0.0     0.0     0.0        0.0   26.913047       5269.834473   \n",
       "4           0.0     0.0     0.0        0.0   27.273478       5269.834473   \n",
       "...         ...     ...     ...        ...         ...               ...   \n",
       "1898626     0.0     0.0     0.0        0.0  248.363850       5711.471680   \n",
       "1898627     0.0     0.0     0.0        0.0   27.320343       5711.471680   \n",
       "1898628     0.0     0.0     0.0        0.0   27.881308       5711.471680   \n",
       "1898629     0.0     0.0     0.0        0.0   27.072135       5711.471680   \n",
       "1898630     0.0     0.0     0.0        0.0   26.879493       5711.471680   \n",
       "\n",
       "           pulse (V)  start_counter       t (ns)  t_c (nm)  x_det (cm)  \\\n",
       "0        5269.834473        54436.0   635.421132       0.0   -1.595020   \n",
       "1        5269.834473        54903.0   635.901192       0.0    0.646286   \n",
       "2        5269.834473        55353.0   648.101574       0.0   -0.175102   \n",
       "3        5269.834473        55831.0   636.010920       0.0    1.964327   \n",
       "4        5269.834473        56022.0   633.350016       0.0    1.381714   \n",
       "...              ...            ...          ...       ...         ...   \n",
       "1898626  5711.471680        37587.0  1716.831720       0.0    0.369306   \n",
       "1898627  5711.471680        38162.0   600.993972       0.0    0.423429   \n",
       "1898628  5711.471680        38200.0   606.096324       0.0    0.560327   \n",
       "1898629  5711.471680        38467.0   600.026994       0.0    0.926449   \n",
       "1898630  5711.471680        38469.0   609.497892       0.0   -0.066857   \n",
       "\n",
       "         y_det (cm)  pulse_pi  ion_pp  \n",
       "0         -1.661878         0       1  \n",
       "1          2.129878       467       1  \n",
       "2          3.155020       450       1  \n",
       "3         -1.999347       478       1  \n",
       "4          1.757388       191       1  \n",
       "...             ...       ...     ...  \n",
       "1898626   -1.330776        83       1  \n",
       "1898627    0.630367       575       1  \n",
       "1898628    0.200571        38       1  \n",
       "1898629   -0.633551       267       1  \n",
       "1898630   -2.534204         2       1  \n",
       "\n",
       "[1898631 rows x 14 columns]"
      ]
     },
     "execution_count": 8,
     "metadata": {},
     "output_type": "execute_result"
    }
   ],
   "source": [
    "data"
   ]
  },
  {
   "cell_type": "code",
   "execution_count": 9,
   "metadata": {
    "pycharm": {
     "name": "#%%\n"
    }
   },
   "outputs": [],
   "source": [
    "# Remove negative TOF\n",
    "# threshold = 0\n",
    "# dld_t_mask = data['t (ns)'].to_numpy()\n",
    "# dld_t_mask = (dld_t <= threshold)\n",
    "# data.drop(np.where(dld_t_mask)[0], inplace=True)\n",
    "# data.reset_index(inplace=True, drop=True)\n"
   ]
  },
  {
   "cell_type": "code",
   "execution_count": 10,
   "metadata": {},
   "outputs": [
    {
     "data": {
      "application/vnd.jupyter.widget-view+json": {
       "model_id": "542d1c57b1e6485e893c74674ecc88b3",
       "version_major": 2,
       "version_minor": 0
      },
      "image/png": "[encoded data removed]",
      "text/html": [
       "\n",
       "            <div style=\"display: inline-block;\">\n",
       "                <div class=\"jupyter-widgets widget-label\" style=\"text-align: center;\">\n",
       "                    Figure\n",
       "                </div>\n",
       "                <img src='data:image/png;base64,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' width=433.0708661417323/>\n",
       "            </div>\n",
       "        "
      ],
      "text/plain": [
       "Canvas(toolbar=Toolbar(toolitems=[('Home', 'Reset original view', 'home', 'home'), ('Back', 'Back to previous …"
      ]
     },
     "metadata": {},
     "output_type": "display_data"
    }
   ],
   "source": [
    "data_loadcrop.plot_crop_experimetn_history(data, save_name=variables.result_path + '//ex_hist_' + dataset_name)"
   ]
  },
  {
   "cell_type": "code",
   "execution_count": 11,
   "metadata": {},
   "outputs": [],
   "source": [
    "# exctract needed data from Pandas data frame as an numpy array\n",
    "dld_highVoltage = data['high_voltage (V)'].to_numpy()\n",
    "if pulse_mode.value == 'voltage':\n",
    "    dld_pulseVoltage = data['pulse (V)'].to_numpy()\n",
    "elif pulse_mode.value == 'laser':\n",
    "    dld_pulseVoltage = data['pulse (deg)'].to_numpy()\n",
    "dld_t = data['t (ns)'].to_numpy()\n",
    "dld_x = data['x_det (cm)'].to_numpy()\n",
    "dld_y = data['y_det (cm)'].to_numpy()\n",
    "# copy dld_t to a have a global version of that\n",
    "variables.dld_t_calib = np.copy(dld_t)\n",
    "variables.dld_t_calib_backup = np.copy(dld_t)"
   ]
  },
  {
   "cell_type": "code",
   "execution_count": 12,
   "metadata": {},
   "outputs": [],
   "source": [
    "ion_distance = np.sqrt(flightPathLength_d.value**2 + (dld_x*10)**2 + (dld_y*10)**2)\n",
    "ion_distance = flightPathLength_d.value / ion_distance\n",
    "dld_t = dld_t * ion_distance"
   ]
  },
  {
   "cell_type": "code",
   "execution_count": 14,
   "metadata": {},
   "outputs": [
    {
     "name": "stdout",
     "output_type": "stream",
     "text": [
      "The peak index for MRP calculation is: 1\n"
     ]
    },
    {
     "data": {
      "application/vnd.jupyter.widget-view+json": {
       "model_id": "9150e5df81744b95a3f48409f1740f81",
       "version_major": 2,
       "version_minor": 0
      },
      "image/png": "[encoded data removed]",
      "text/html": [
       "\n",
       "            <div style=\"display: inline-block;\">\n",
       "                <div class=\"jupyter-widgets widget-label\" style=\"text-align: center;\">\n",
       "                    Figure\n",
       "                </div>\n",
       "                <img src='data:image/png;base64,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' width=354.3307086614173/>\n",
       "            </div>\n",
       "        "
      ],
      "text/plain": [
       "Canvas(toolbar=Toolbar(toolitems=[('Home', 'Reset original view', 'home', 'home'), ('Back', 'Back to previous …"
      ]
     },
     "metadata": {},
     "output_type": "display_data"
    },
    {
     "name": "stdout",
     "output_type": "stream",
     "text": [
      "Mass resolving power for the highest peak (MRP --> m/m_2-m_1): 33.23588441072291\n",
      "Peaks  0 is at location and height: (447.46, 1244.00) peak window sides (50.00%) are: (441.98, 454.12)\n",
      "Peaks  1 is at location and height: (605.29, 9130.00) peak window sides (50.00%) are: (599.02, 617.24)\n"
     ]
    }
   ],
   "source": [
    "percent_mrp = 50\n",
    "peaks_ini, peaks_y_ini, peak_widths_p_ini, _ = tools.hist_plot(dld_t[dld_t < 2000], 0.1, prominence=200, distance=100, h_line=True, text_loc='right', percent=percent_mrp, plot=True, label='tof', fig_name=figname, fig_size=(9/2.54, 6/2.54))\n",
    "index_max_ini = np.argmax(peaks_y_ini)\n",
    "mrp = (peaks_ini[index_max_ini] / (peak_widths_p_ini[index_max_ini][2] - peak_widths_p_ini[index_max_ini][1]))\n",
    "print('Mass resolving power for the highest peak (MRP --> m/m_2-m_1):', mrp)\n",
    "for i in range(len(peaks_ini)):\n",
    "    print('Peaks ', i, 'is at location and height: ({:.2f}, {:.2f})'.format(peaks_ini[i], peaks_y_ini[i]), 'peak window sides ({:.2f}%) are: ({:.2f}, {:.2f})'.format(percent_mrp, peak_widths_p_ini[i][1], peak_widths_p_ini[i][2]))"
   ]
  },
  {
   "cell_type": "code",
   "execution_count": 60,
   "metadata": {},
   "outputs": [],
   "source": [
    "# mc = data['mc_c (Da)'].to_numpy()\n",
    "# peaks_ini, peaks_y_ini, peak_widths_p_ini = tools.hist_plot(mc[mc < 150], 0.1, prominence=50, distance=100, h_line=True, text_loc='right', percent=percent_mrp, plot=True, fig_name=figname)\n",
    "# index_max_ini = np.argmax(peaks_y_ini)\n",
    "# mrp = (peaks_ini[index_max_ini] / (peak_widths_p_ini[index_max_ini][2] - peak_widths_p_ini[index_max_ini][1]))\n",
    "# print('Mass resolving power for the highest peak (MRP --> m/m_2-m_1):', mrp)\n",
    "# for i in range(len(peaks_ini)):\n",
    "#     print('Peaks ', i, 'is at location and height: ({:.2f}, {:.2f})'.format(peaks_ini[i], peaks_y_ini[i]), 'peak window sides ({:.2f}%) are: ({:.2f}, {:.2f})'.format(percent_mrp, peak_widths_p_ini[i][1], peak_widths_p_ini[i][2]))"
   ]
  },
  {
   "cell_type": "markdown",
   "metadata": {
    "pycharm": {
     "name": "#%% md\n"
    }
   },
   "source": [
    "$$\\textbf{Below plotted graph offers peak selection. You can select relevant peaks you want for computation.}$$"
   ]
  },
  {
   "cell_type": "code",
   "execution_count": 16,
   "metadata": {
    "pycharm": {
     "name": "#%%\n"
    }
   },
   "outputs": [
    {
     "name": "stdout",
     "output_type": "stream",
     "text": [
      "The peak index for MRP calculation is: 2\n"
     ]
    },
    {
     "data": {
      "application/vnd.jupyter.widget-view+json": {
       "model_id": "9adeef53d61d473ba5a414d88aa37cc1",
       "version_major": 2,
       "version_minor": 0
      },
      "image/png": "[encoded data removed]",
      "text/html": [
       "\n",
       "            <div style=\"display: inline-block;\">\n",
       "                <div class=\"jupyter-widgets widget-label\" style=\"text-align: center;\">\n",
       "                    Figure\n",
       "                </div>\n",
       "                <img src='data:image/png;base64,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' width=354.3307086614173/>\n",
       "            </div>\n",
       "        "
      ],
      "text/plain": [
       "Canvas(toolbar=Toolbar(toolitems=[('Home', 'Reset original view', 'home', 'home'), ('Back', 'Back to previous …"
      ]
     },
     "metadata": {},
     "output_type": "display_data"
    },
    {
     "name": "stdout",
     "output_type": "stream",
     "text": [
      "Mass resolving power for the highest peak (MRP --> m/m_2-m_1): 19.07142883919207\n",
      "Peaks  0 is at location and height: (1.10, 119.00) peak window sides (50.00%) are: (1.00, 1.20)\n",
      "Peaks  1 is at location and height: (13.61, 11961.00) peak window sides (50.00%) are: (12.31, 13.71)\n",
      "Peaks  2 is at location and height: (26.72, 93914.00) peak window sides (50.00%) are: (25.61, 27.02)\n"
     ]
    }
   ],
   "source": [
    "percent_mrp = 50\n",
    "lim = 150\n",
    "mc_seb_ini = mc_tools.tof2mc(dld_t, t0_d.value, dld_highVoltage, dld_pulseVoltage, dld_x, dld_y, flightPathLength_d.value, mode=pulse_mode.value)\n",
    "peaks_ini, peaks_y_ini, peak_widths_p_ini, _ = tools.hist_plot(mc_seb_ini[mc_seb_ini < lim], 0.1, prominence=50, distance=100, h_line=True, text_loc='right', percent=percent_mrp, plot=True, fig_name=figname)\n",
    "index_max_ini = np.argmax(peaks_y_ini)\n",
    "mrp = (peaks_ini[index_max_ini] / (peak_widths_p_ini[index_max_ini][2] - peak_widths_p_ini[index_max_ini][1]))\n",
    "print('Mass resolving power for the highest peak (MRP --> m/m_2-m_1):', mrp)\n",
    "for i in range(len(peaks_ini)):\n",
    "    print('Peaks ', i, 'is at location and height: ({:.2f}, {:.2f})'.format(peaks_ini[i], peaks_y_ini[i]), 'peak window sides ({:.2f}%) are: ({:.2f}, {:.2f})'.format(percent_mrp, peak_widths_p_ini[i][1], peak_widths_p_ini[i][2]))"
   ]
  },
  {
   "cell_type": "code",
   "execution_count": 22,
   "metadata": {},
   "outputs": [],
   "source": [
    "bin_size=widgets.FloatText(value=0.1, description='bin size:')\n",
    "prominence=widgets.IntText(value=100, description='peak prominance:')\n",
    "distance=widgets.IntText(value=500, description='peak distance:')\n",
    "lim_tof=widgets.IntText(value=1500, description='lim tof/mc:')\n",
    "percent=widgets.IntText(value=50, description='percent MRP:')\n",
    "\n",
    "def hist_plot(figname, plot):\n",
    "    \n",
    "    with out:\n",
    "        clear_output(True)\n",
    "    \n",
    "        bin_size_p = bin_size.value\n",
    "        prominence_p = prominence.value\n",
    "        distance_p = distance.value\n",
    "        lim_tof_p = lim_tof.value\n",
    "        percent_p = percent.value\n",
    "        selector = 'rect'\n",
    "        peaks_ini, peaks_y_ini, peak_widths_p_ini, _ = tools.hist_plot(variables.dld_t_calib[variables.dld_t_calib < lim_tof_p], bin_size_p, distance=distance_p, percent=percent_p, prominence=prominence_p, selector=selector, plot=plot, label='tof', fig_name=figname+'calib')\n",
    "        index_max_ini = np.argmax(peaks_y_ini)\n",
    "        variables.max_peak = peaks_ini[index_max_ini]\n",
    "        variables.peak = peaks_ini\n",
    "        mrp = (peaks_ini[index_max_ini] / (peak_widths_p_ini[index_max_ini][2] - peak_widths_p_ini[index_max_ini][1]))\n",
    "        print('Mass resolving power for the highest peak (MRP --> m/m_2-m_1):', mrp)\n",
    "        for i in range(len(peaks_ini)):\n",
    "            print('Peaks ', i, 'is at location and height: ({:.2f}, {:.2f})'.format(peaks_ini[i], peaks_y_ini[i]), 'peak window sides ({:.2f}%) are: ({:.2f}, {:.2f})'.format(percent_p, peak_widths_p_ini[i][1], peak_widths_p_ini[i][2]))"
   ]
  },
  {
   "cell_type": "code",
   "execution_count": 23,
   "metadata": {},
   "outputs": [],
   "source": [
    "sample_size_b = widgets.IntText(value=11, description='sample size:') \n",
    "index_fig_b = widgets.IntText(value=1, description='fig index:')\n",
    "plot_b = widgets.Dropdown(\n",
    "    options=[('False', False), ('True', True)],\n",
    "    description='plot fig:'\n",
    ")\n",
    "\n",
    "save_b = widgets.Dropdown(\n",
    "    options=[('False', False), ('True', True)],\n",
    "    description='save fig:'\n",
    ")\n",
    "def bowl_correction(dld_x, dld_y, dld_highVoltage, figname=figname):\n",
    "    with out:\n",
    "        sample_size_p = sample_size_b.value\n",
    "        index_fig_p = index_fig_b.value\n",
    "        plot_p = plot_b.value\n",
    "        save_p = save_b.value\n",
    "\n",
    "        calibration.bowl_correction_main(dld_x, dld_y, dld_highVoltage, det_diam.value, sample_size=sample_size_p, calibration_mode='tof',\n",
    "                                        index_fig=index_fig_p, plot=plot_p, save=save_p)\n"
   ]
  },
  {
   "cell_type": "code",
   "execution_count": 24,
   "metadata": {},
   "outputs": [],
   "source": [
    "sample_size_v =widgets.IntText(value=100, description='sample size:') \n",
    "index_fig_v = widgets.IntText(value=1, description='fig index:')\n",
    "plot_v = widgets.Dropdown(\n",
    "    options=[('False', False), ('True', True)],\n",
    "    description='plot fig:'\n",
    ")\n",
    "save_v = widgets.Dropdown(\n",
    "    options=[('False', False), ('True', True)],\n",
    "    description='save fig:'\n",
    ")\n",
    "mode_v = widgets.Dropdown(\n",
    "    options=[('ion_seq', 'ion_seq'), ('voltage', 'voltage')],\n",
    "    description='sample mode:'\n",
    ")\n",
    "peak_mode = widgets.Dropdown(\n",
    "    options=[('peak', 'peak'), ('mean', 'mean'), ('median', 'median')],\n",
    "    description='peak mode:'\n",
    ")\n",
    "def vol_correction(dld_highVoltage, figname):\n",
    "    with out:\n",
    "        sample_size_p = sample_size_v.value\n",
    "        index_fig_p = index_fig_v.value\n",
    "        plot_p = plot_v.value\n",
    "        save_p = save_v.value\n",
    "        mode_p = mode_v.value\n",
    "        peak_mode_p = peak_mode.value\n",
    "        calibration.voltage_corr_main(dld_highVoltage, sample_size=sample_size_p, calibration_mode='tof',\n",
    "                                        index_fig=index_fig_p, plot=plot_p, save=save_p, mode=mode_p, peak_mode=peak_mode_p)\n"
   ]
  },
  {
   "cell_type": "code",
   "execution_count": 41,
   "metadata": {},
   "outputs": [
    {
     "data": {
      "application/vnd.jupyter.widget-view+json": {
       "model_id": "57b4105bc8a1402d8e09842fc77e168a",
       "version_major": 2,
       "version_minor": 0
      },
      "text/plain": [
       "VBox(children=(Tab(children=(VBox(children=(FloatText(value=0.1, description='bin size:'), IntText(value=100, …"
      ]
     },
     "metadata": {},
     "output_type": "display_data"
    },
    {
     "data": {
      "application/vnd.jupyter.widget-view+json": {
       "model_id": "e5c60dd3f2ef4b039434fda77442ab11",
       "version_major": 2,
       "version_minor": 0
      },
      "text/plain": [
       "Output()"
      ]
     },
     "metadata": {},
     "output_type": "display_data"
    }
   ],
   "source": [
    "pb_bowl = widgets.HTML(\n",
    "    value=\" \",\n",
    "    placeholder='Status:',\n",
    "    description='Status:',\n",
    ")\n",
    "pb_vol = widgets.HTML(\n",
    "    value=\" \",\n",
    "    placeholder='Status:',\n",
    "    description='Status:',\n",
    ")\n",
    "plot_button = widgets.Button(\n",
    "    description='plot hist',\n",
    ")\n",
    "plot_fdm_button = widgets.Button(\n",
    "    description='plot FDM',\n",
    ")\n",
    "reset_button = widgets.Button(\n",
    "    description='reset back correction',\n",
    ")\n",
    "save_button = widgets.Button(\n",
    "    description='save correction',\n",
    ")\n",
    "bowl_button = widgets.Button(\n",
    "    description='bowl correction',\n",
    ")\n",
    "vol_button = widgets.Button(\n",
    "    description='voltage correction',\n",
    ")\n",
    "bin_fdm = widgets.IntText(value=256, description='bin FDM:')\n",
    "    \n",
    "@plot_button.on_click\n",
    "def plot_on_click(b, figname=figname, plot=True):\n",
    "    hist_plot(figname, plot)\n",
    "\n",
    "@plot_fdm_button.on_click\n",
    "def plot_fdm_on_click(b, save=True):\n",
    "    with out:\n",
    "        clear_output(True)\n",
    "        if variables.selected_x1 == 0 or variables.selected_x2 == 0:\n",
    "            print('Please first select a peak')\n",
    "        else:\n",
    "            print('Selected tof are: (%s, %s)' %(variables.selected_x1, variables.selected_x2)) \n",
    "            mask_temporal = np.logical_and((variables.dld_t_calib > variables.selected_x1),\n",
    "                                           (variables.dld_t_calib < variables.selected_x2))\n",
    "            x = dld_x[mask_temporal]\n",
    "            y = dld_y[mask_temporal]\n",
    "            bin_fdm_p = bin_fdm.value\n",
    "            bins = [bin_fdm_p, bin_fdm_p]\n",
    "\n",
    "            calibration.plot_FDM(x, y, save, bins)\n",
    "    \n",
    "@reset_button.on_click\n",
    "def reset_on_click(b, figname=figname, plot=True):\n",
    "    variables.dld_t_calib = np.copy(variables.dld_t_calib_backup)\n",
    "@save_button.on_click\n",
    "def save_on_click(b, figname=figname, plot=True):\n",
    "    variables.dld_t_calib_backup = np.copy(variables.dld_t_calib)\n",
    "    \n",
    "@bowl_button.on_click\n",
    "def bowl_on_click(b, dld_x=dld_x, dld_y=dld_y, dld_highVoltage=dld_highVoltage, figname=figname):\n",
    "    with out:\n",
    "        clear_output(True)\n",
    "        pb_bowl.value = \"<b>Starting...</b>\"\n",
    "        if variables.selected_x1 == 0 or variables.selected_x2 == 0:\n",
    "            print('Please first select a peak')\n",
    "        else:\n",
    "            print('Selected tof are: (%s, %s)' %(variables.selected_x1, variables.selected_x2))\n",
    "            bowl_correction(dld_x, dld_y, dld_highVoltage, figname)  \n",
    "        pb_bowl.value = \"<b>Flished</b>\"\n",
    "@vol_button.on_click\n",
    "def vol_on_click(b, dld_highVoltage=dld_highVoltage, figname=figname):\n",
    "    with out:\n",
    "        clear_output(True)\n",
    "        pb_vol.value = \"<b>Starting...</b>\"\n",
    "        if variables.selected_x1 == 0 or variables.selected_x2 == 0:\n",
    "            print('Please first select a peak')\n",
    "        else:\n",
    "            print('Selected tof are: (%s, %s)' %(variables.selected_x1, variables.selected_x2))\n",
    "            vol_correction(dld_highVoltage, figname)\n",
    "        pb_vol.value = \"<b>Flished</b>\"\n",
    "    \n",
    "\n",
    "\n",
    "tab1 = VBox(children=[bin_size, prominence, distance, lim_tof, percent, bin_fdm])\n",
    "tab2 = VBox(children=[HBox(children=[sample_size_b, index_fig_b, plot_b, save_b]), bowl_button, pb_bowl])\n",
    "tab3 = VBox(children=[HBox(children=[sample_size_v, index_fig_v, mode_v, peak_mode, plot_v, save_v]), vol_button, pb_vol])\n",
    "\n",
    "tab = widgets.Tab(children=[tab1, tab2, tab3])\n",
    "tab.set_title(0, 'tof/mc plot')\n",
    "tab.set_title(1, 'bowl correction')\n",
    "tab.set_title(2, 'voltage correction')\n",
    "\n",
    "\n",
    "\n",
    "display(VBox(children=[tab,HBox(children=[plot_button, plot_fdm_button, save_button, reset_button])]))\n",
    "out = Output()\n",
    "display(out)"
   ]
  },
  {
   "cell_type": "code",
   "execution_count": 21,
   "metadata": {},
   "outputs": [],
   "source": [
    "# fitresult = [ 1.59856266e+00,  5.68765920e-09, -1.41281563e-04]\n",
    "# f_v = calibration.voltage_corr(data['high_voltage (V)'].to_numpy(), *fitresult)\n",
    "# variables.dld_t_calib = variables.dld_t_calib * (1 / f_v)"
   ]
  },
  {
   "cell_type": "code",
   "execution_count": 22,
   "metadata": {},
   "outputs": [],
   "source": [
    "# parameters = [ 9.88684464e-01, -2.17639093e-04 , 2.36038428e-04,  3.44156992e-05, -2.62895576e-06,  3.28072030e-05]\n",
    "# f_bowl = calibration.bowl_corr_fit([data['x_det (cm)'].to_numpy()* 10, data['y_det (cm)'].to_numpy()* 10], *parameters)\n",
    "# variables.dld_t_calib = variables.dld_t_calib * 1 / f_bowl"
   ]
  },
  {
   "cell_type": "code",
   "execution_count": 23,
   "metadata": {},
   "outputs": [],
   "source": [
    "variables.dld_t_calib_backup = np.copy(variables.dld_t_calib)"
   ]
  },
  {
   "cell_type": "code",
   "execution_count": 66,
   "metadata": {
    "tags": []
   },
   "outputs": [],
   "source": [
    "# np.save(\"t_171_c.npy\", variables.dld_t_calib)"
   ]
  },
  {
   "cell_type": "code",
   "execution_count": 24,
   "metadata": {},
   "outputs": [],
   "source": [
    "def tof_his(bin_size, prominence, distance, percent, selector, plot, figname, lim_dld_t):\n",
    "    variables.peaks_idx = []\n",
    "    peaks_ini, peaks_y_ini, peak_widths_p_ini = tools.hist_plot(variables.dld_t_calib[variables.dld_t_calib < lim_dld_t], bin_size, distance=distance, percent=percent, prominence=prominence, selector=selector, plot=plot, label='tof', fig_name=figname)\n",
    "    index_max_ini = np.argmax(peaks_y_ini)\n",
    "    variables.max_peak = peaks_ini[index_max_ini]\n",
    "    variables.peak = peaks_ini\n",
    "    mrp = (peaks_ini[index_max_ini] / (peak_widths_p_ini[index_max_ini][2] - peak_widths_p_ini[index_max_ini][1]))\n",
    "    print('Mass resolving power for the highest peak (MRP --> m/m_2-m_1):', mrp)\n",
    "    for i in range(len(peaks_ini)):\n",
    "                   print('Peaks ', i+1, 'is at location and height: ({:.2f}, {:.2f})'.format(peaks_ini[i], peaks_y_ini[i]), 'peak window sides ({:.2f}%) are: ({:.2f}, {:.2f})'.format(percent, peak_widths_p_ini[i][1], peak_widths_p_ini[i][2]))"
   ]
  },
  {
   "cell_type": "code",
   "execution_count": 25,
   "metadata": {},
   "outputs": [
    {
     "data": {
      "application/vnd.jupyter.widget-view+json": {
       "model_id": "ad2723c1c0444f67a293d02517b9a3ad",
       "version_major": 2,
       "version_minor": 0
      },
      "text/plain": [
       "interactive(children=(FloatText(value=0.1, description='bin_size'), IntText(value=50, description='prominence'…"
      ]
     },
     "metadata": {},
     "output_type": "display_data"
    }
   ],
   "source": [
    "interact_manual(tof_his, bin_size=widgets.FloatText(value=0.1)\n",
    "               ,prominence=widgets.IntText(value=50), distance=widgets.IntText(value=100), lim_dld_t=widgets.IntText(value=1500)\n",
    "               ,percent=widgets.IntText(value=50), selector=fixed('peak'), plot=fixed(True), figname=fixed(figname));\n"
   ]
  },
  {
   "cell_type": "code",
   "execution_count": 26,
   "metadata": {
    "pycharm": {
     "name": "#%%\n"
    }
   },
   "outputs": [
    {
     "data": {
      "application/vnd.jupyter.widget-view+json": {
       "model_id": "55501e395c3047668254e197a66bb45d",
       "version_major": 2,
       "version_minor": 0
      },
      "text/plain": [
       "Dropdown(description='Elements', options=(('H (1) (99.98)', 'H(1)[1.01]'), ('H (2) (0.01)', 'H(2)[2.01]'), ('H…"
      ]
     },
     "metadata": {},
     "output_type": "display_data"
    },
    {
     "data": {
      "application/vnd.jupyter.widget-view+json": {
       "model_id": "fb43c02fba13447a8b41fb8295d354cb",
       "version_major": 2,
       "version_minor": 0
      },
      "text/plain": [
       "Dropdown(description='Charge', options=((1, 1), (2, 2), (3, 3), (4, 4)), value=1)"
      ]
     },
     "metadata": {},
     "output_type": "display_data"
    },
    {
     "data": {
      "application/vnd.jupyter.widget-view+json": {
       "model_id": "c766700f0a134b87a6be334913fb73f6",
       "version_major": 2,
       "version_minor": 0
      },
      "text/plain": [
       "Button(description='ADD', icon='check', style=ButtonStyle(), tooltip='ADD')"
      ]
     },
     "metadata": {},
     "output_type": "display_data"
    },
    {
     "data": {
      "application/vnd.jupyter.widget-view+json": {
       "model_id": "e43fcdd631f5455086d3ca1a2683451d",
       "version_major": 2,
       "version_minor": 0
      },
      "text/plain": [
       "Button(description='DELETE', icon='check', style=ButtonStyle(), tooltip='DELETE')"
      ]
     },
     "metadata": {},
     "output_type": "display_data"
    },
    {
     "data": {
      "application/vnd.jupyter.widget-view+json": {
       "model_id": "4a25b55c581b4587a1050fa5b1a25c1b",
       "version_major": 2,
       "version_minor": 0
      },
      "text/plain": [
       "Button(description='RESET', icon='check', style=ButtonStyle(), tooltip='RESET')"
      ]
     },
     "metadata": {},
     "output_type": "display_data"
    },
    {
     "data": {
      "application/vnd.jupyter.widget-view+json": {
       "model_id": "695cbec9eca34856b72c382cee34a638",
       "version_major": 2,
       "version_minor": 0
      },
      "text/plain": [
       "Output()"
      ]
     },
     "metadata": {},
     "output_type": "display_data"
    }
   ],
   "source": [
    "isotopeTableFile = '../../../files/isotopeTable.h5'\n",
    "dataframe = data_tools.read_hdf5_through_pandas(isotopeTableFile)\n",
    "elementsList = dataframe['element']\n",
    "elementIsotopeList = dataframe['isotope']\n",
    "elementMassList =  dataframe['weight']\n",
    "abundanceList = dataframe['abundance']\n",
    "\n",
    "elements = list(zip(elementsList, elementIsotopeList, elementMassList, abundanceList))\n",
    "dropdownList = []\n",
    "for element in elements:\n",
    "    tupleElement = (\"{} ({}) ({:.2f})\".format(element[0], element[1], element[3]), \"{}({})[{}]\".format(element[0], element[1], element[2]))\n",
    "    dropdownList.append(tupleElement)\n",
    "\n",
    "chargeList = [(1,1,),(2,2,),(3,3,),(4,4,)]\n",
    "dropdown = wd.dropdownWidget(dropdownList,\"Elements\")\n",
    "dropdown.observe(wd.on_change)\n",
    "\n",
    "\n",
    "chargeDropdown = wd.dropdownWidget(chargeList,\"Charge\")\n",
    "chargeDropdown.observe(wd.on_change_charge)\n",
    "\n",
    "wd.compute_element_isotope_values_according_to_selected_charge()\n",
    "\n",
    "buttonAdd = wd.buttonWidget(\"ADD\")\n",
    "buttonDelete = wd.buttonWidget(\"DELETE\")\n",
    "buttonReset = wd.buttonWidget(\"RESET\")\n",
    "\n",
    "display(dropdown, chargeDropdown, buttonAdd, buttonDelete, buttonReset)\n",
    "\n",
    "def buttonAdd_f(b,):\n",
    "    with out:\n",
    "        clear_output(True)\n",
    "        wd.onClickAdd(b,)\n",
    "        display()\n",
    "def buttonDelete_f(b,):\n",
    "    with out:\n",
    "        clear_output(True)\n",
    "        wd.onClickDelete(b,)\n",
    "        display()\n",
    "def buttonResett_f(b,):\n",
    "    with out:\n",
    "        clear_output(True)\n",
    "        wd.onClickReset(b,)\n",
    "        display()\n",
    "\n",
    "listMaterial = buttonAdd.on_click(buttonAdd_f)\n",
    "buttonDelete.on_click(buttonDelete_f)\n",
    "buttonReset.on_click(buttonResett_f)\n",
    "# listMaterial = buttonAdd.on_click(wd.onClickAdd)\n",
    "# buttonDelete.on_click(wd.onClickDelete)\n",
    "# buttonReset.on_click(wd.onClickReset)\n",
    "out = Output()\n",
    "display(out)"
   ]
  },
  {
   "cell_type": "code",
   "execution_count": 27,
   "metadata": {
    "pycharm": {
     "name": "#%%\n"
    }
   },
   "outputs": [
    {
     "name": "stdout",
     "output_type": "stream",
     "text": [
      "highest peak in the tof histogram: [ 76.67976289 447.0533274  605.4583346 ]\n",
      "highest peak in the ideal mc histogram: [ 1.01 13.49 26.98]\n"
     ]
    }
   ],
   "source": [
    "peaks_chos = []\n",
    "for i in range(len(variables.peaks_idx)):\n",
    "    peaks_chos.append(variables.peak[variables.peaks_idx[i]])\n",
    "peaks_chos = np.array(peaks_chos)\n",
    "listMaterial = np.array(variables.listMaterial)\n",
    "print('highest peak in the tof histogram:', peaks_chos)\n",
    "print('highest peak in the ideal mc histogram:', listMaterial)"
   ]
  },
  {
   "cell_type": "code",
   "execution_count": 28,
   "metadata": {
    "pycharm": {
     "name": "#%%\n"
    }
   },
   "outputs": [
    {
     "name": "stderr",
     "output_type": "stream",
     "text": [
      "C:\\Users\\APTUser\\.conda\\envs\\oxcart5\\lib\\site-packages\\scipy\\optimize\\_minpack_py.py:906: OptimizeWarning: Covariance of the parameters could not be estimated\n",
      "  warnings.warn('Covariance of the parameters could not be estimated',\n"
     ]
    }
   ],
   "source": [
    "def parametric(t, t0, c, d):\n",
    "\n",
    "    # return c * ((t - t0)**2) + d\n",
    "    return c * ((t - t0)**2) + d*t\n",
    "\n",
    "def parametric_calib(t, mc_ideal):\n",
    "    \n",
    "    fitresult, _ = curve_fit(parametric, t, mc_ideal, maxfev=2000)\n",
    "    return fitresult\n",
    "\n",
    "fitresult = parametric_calib(peaks_chos, variables.listMaterial)\n",
    "\n",
    "\n",
    "mc_p_1 = parametric(variables.dld_t_calib, *fitresult)"
   ]
  },
  {
   "cell_type": "code",
   "execution_count": 29,
   "metadata": {},
   "outputs": [
    {
     "name": "stdout",
     "output_type": "stream",
     "text": [
      "The t0 is: 134.57466149178381 ns\n"
     ]
    }
   ],
   "source": [
    "print('The t0 is:', fitresult[0], 'ns')"
   ]
  },
  {
   "cell_type": "code",
   "execution_count": 30,
   "metadata": {
    "pycharm": {
     "name": "#%%\n"
    }
   },
   "outputs": [
    {
     "name": "stdout",
     "output_type": "stream",
     "text": [
      "The peak index for MRP calculation is: 1\n"
     ]
    },
    {
     "data": {
      "application/vnd.jupyter.widget-view+json": {
       "model_id": "3fcc58e956b448838f25a0ada6399efb",
       "version_major": 2,
       "version_minor": 0
      },
      "image/png": "[encoded data removed]",
      "text/html": [
       "\n",
       "            <div style=\"display: inline-block;\">\n",
       "                <div class=\"jupyter-widgets widget-label\" style=\"text-align: center;\">\n",
       "                    Figure\n",
       "                </div>\n",
       "                <img src='data:image/png;base64,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' width=354.3307086614173/>\n",
       "            </div>\n",
       "        "
      ],
      "text/plain": [
       "Canvas(toolbar=Toolbar(toolitems=[('Home', 'Reset original view', 'home', 'home'), ('Back', 'Back to previous …"
      ]
     },
     "metadata": {},
     "output_type": "display_data"
    },
    {
     "name": "stdout",
     "output_type": "stream",
     "text": [
      "Mass resolving power for the highest peak (MRP --> m/m_2-m_1): 272.04919112888365\n",
      "Peaks  0 is at location and height: (13.48, 70031.00) peak window sides (half-maximum) are: (13.38, 13.48)\n",
      "Peaks  1 is at location and height: (26.96, 657783.00) peak window sides (half-maximum) are: (26.86, 26.96)\n"
     ]
    }
   ],
   "source": [
    "percent_mrp = 50\n",
    "# background = {'calculation': True, 'plot_no_back': True, 'plot': False, 'mode': 'fabc', 'patch': False, 'lam': 1e4, 'num_std': 5.0}\n",
    "background={'calculation': False}\n",
    "peak_p, peaks_y_p, peak_widths_p = tools.hist_plot(mc_p_1[mc_p_1 < 100], 0.1, prominence=40, distance=20, text_loc='right', percent=percent_mrp, plot=True, fig_name='mc2_p_1'+figname, background=background)\n",
    "index_max_ini = np.argmax(peaks_y_p)\n",
    "mrp = (peak_p[index_max_ini] / (peak_widths_p[index_max_ini][2] - peak_widths_p[index_max_ini][1]))\n",
    "print('Mass resolving power for the highest peak (MRP --> m/m_2-m_1):', mrp)\n",
    "for i in range(len(peak_p)):\n",
    "    print('Peaks ', i, 'is at location and height: ({:.2f}, {:.2f})'.format(peak_p[i], peaks_y_p[i]), 'peak window sides (half-maximum) are: ({:.2f}, {:.2f})'.format(peak_widths_p[i][1], peak_widths_p[i][2]))"
   ]
  },
  {
   "cell_type": "code",
   "execution_count": 42,
   "metadata": {},
   "outputs": [],
   "source": [
    "data_c = data.copy(deep = True)\n",
    "data_c['t_c (ns)'] = variables.dld_t_calib\n",
    "data_c['mc_c (Da)'] = np.zeros(len(variables.dld_t_calib))"
   ]
  },
  {
   "cell_type": "code",
   "execution_count": 40,
   "metadata": {},
   "outputs": [
    {
     "name": "stdout",
     "output_type": "stream",
     "text": [
      "The number of ions with negative mc are: 490176\n"
     ]
    }
   ],
   "source": [
    "# Remove negative mc\n",
    "threshold = 0\n",
    "mc_t = data_c['mc_c (Da)'].to_numpy()\n",
    "mc_t_mask = (mc_t <= threshold)\n",
    "print('The number of ions with negative mc are:', len(mc_t_mask[mc_t_mask==True]))\n",
    "data_c.drop(np.where(mc_t_mask)[0], inplace=True)\n",
    "data_c.reset_index(inplace=True, drop=True)"
   ]
  },
  {
   "cell_type": "code",
   "execution_count": 43,
   "metadata": {},
   "outputs": [
    {
     "data": {
      "text/html": [
       "<div>\n",
       "<style scoped>\n",
       "    .dataframe tbody tr th:only-of-type {\n",
       "        vertical-align: middle;\n",
       "    }\n",
       "\n",
       "    .dataframe tbody tr th {\n",
       "        vertical-align: top;\n",
       "    }\n",
       "\n",
       "    .dataframe thead th {\n",
       "        text-align: right;\n",
       "    }\n",
       "</style>\n",
       "<table border=\"1\" class=\"dataframe\">\n",
       "  <thead>\n",
       "    <tr style=\"text-align: right;\">\n",
       "      <th></th>\n",
       "      <th>x (nm)</th>\n",
       "      <th>y (nm)</th>\n",
       "      <th>z (nm)</th>\n",
       "      <th>mc_c (Da)</th>\n",
       "      <th>mc (Da)</th>\n",
       "      <th>high_voltage (V)</th>\n",
       "      <th>pulse (deg)</th>\n",
       "      <th>start_counter</th>\n",
       "      <th>t (ns)</th>\n",
       "      <th>t_c (nm)</th>\n",
       "      <th>x_det (cm)</th>\n",
       "      <th>y_det (cm)</th>\n",
       "      <th>pulse_pi</th>\n",
       "      <th>ion_pp</th>\n",
       "      <th>t_c (ns)</th>\n",
       "    </tr>\n",
       "  </thead>\n",
       "  <tbody>\n",
       "    <tr>\n",
       "      <th>0</th>\n",
       "      <td>0.0</td>\n",
       "      <td>0.0</td>\n",
       "      <td>0.0</td>\n",
       "      <td>0.0</td>\n",
       "      <td>96.788074</td>\n",
       "      <td>7875.019531</td>\n",
       "      <td>46.0</td>\n",
       "      <td>1986.0</td>\n",
       "      <td>1986.0</td>\n",
       "      <td>0.0</td>\n",
       "      <td>1.574880</td>\n",
       "      <td>-2.295810</td>\n",
       "      <td>0</td>\n",
       "      <td>1</td>\n",
       "      <td>1975.537202</td>\n",
       "    </tr>\n",
       "    <tr>\n",
       "      <th>1</th>\n",
       "      <td>0.0</td>\n",
       "      <td>0.0</td>\n",
       "      <td>0.0</td>\n",
       "      <td>0.0</td>\n",
       "      <td>184.834798</td>\n",
       "      <td>7875.019531</td>\n",
       "      <td>46.0</td>\n",
       "      <td>2718.0</td>\n",
       "      <td>2718.0</td>\n",
       "      <td>0.0</td>\n",
       "      <td>-1.240870</td>\n",
       "      <td>-0.273416</td>\n",
       "      <td>732</td>\n",
       "      <td>1</td>\n",
       "      <td>2716.857755</td>\n",
       "    </tr>\n",
       "    <tr>\n",
       "      <th>2</th>\n",
       "      <td>0.0</td>\n",
       "      <td>0.0</td>\n",
       "      <td>0.0</td>\n",
       "      <td>0.0</td>\n",
       "      <td>98.703905</td>\n",
       "      <td>7875.019531</td>\n",
       "      <td>46.0</td>\n",
       "      <td>1998.0</td>\n",
       "      <td>1998.0</td>\n",
       "      <td>0.0</td>\n",
       "      <td>1.709700</td>\n",
       "      <td>-0.668762</td>\n",
       "      <td>4294966576</td>\n",
       "      <td>1</td>\n",
       "      <td>1997.530579</td>\n",
       "    </tr>\n",
       "    <tr>\n",
       "      <th>3</th>\n",
       "      <td>0.0</td>\n",
       "      <td>0.0</td>\n",
       "      <td>0.0</td>\n",
       "      <td>0.0</td>\n",
       "      <td>105.604788</td>\n",
       "      <td>7875.019531</td>\n",
       "      <td>46.0</td>\n",
       "      <td>2078.0</td>\n",
       "      <td>2078.0</td>\n",
       "      <td>0.0</td>\n",
       "      <td>-2.533930</td>\n",
       "      <td>2.063530</td>\n",
       "      <td>2078</td>\n",
       "      <td>1</td>\n",
       "      <td>2064.302996</td>\n",
       "    </tr>\n",
       "    <tr>\n",
       "      <th>4</th>\n",
       "      <td>0.0</td>\n",
       "      <td>0.0</td>\n",
       "      <td>0.0</td>\n",
       "      <td>0.0</td>\n",
       "      <td>105.690186</td>\n",
       "      <td>7875.019531</td>\n",
       "      <td>46.0</td>\n",
       "      <td>2070.0</td>\n",
       "      <td>2070.0</td>\n",
       "      <td>0.0</td>\n",
       "      <td>1.603760</td>\n",
       "      <td>1.711910</td>\n",
       "      <td>0</td>\n",
       "      <td>0</td>\n",
       "      <td>2069.692284</td>\n",
       "    </tr>\n",
       "    <tr>\n",
       "      <th>...</th>\n",
       "      <td>...</td>\n",
       "      <td>...</td>\n",
       "      <td>...</td>\n",
       "      <td>...</td>\n",
       "      <td>...</td>\n",
       "      <td>...</td>\n",
       "      <td>...</td>\n",
       "      <td>...</td>\n",
       "      <td>...</td>\n",
       "      <td>...</td>\n",
       "      <td>...</td>\n",
       "      <td>...</td>\n",
       "      <td>...</td>\n",
       "      <td>...</td>\n",
       "      <td>...</td>\n",
       "    </tr>\n",
       "    <tr>\n",
       "      <th>490171</th>\n",
       "      <td>0.0</td>\n",
       "      <td>0.0</td>\n",
       "      <td>0.0</td>\n",
       "      <td>0.0</td>\n",
       "      <td>98.431365</td>\n",
       "      <td>6547.874512</td>\n",
       "      <td>72.0</td>\n",
       "      <td>2198.0</td>\n",
       "      <td>2198.0</td>\n",
       "      <td>0.0</td>\n",
       "      <td>-1.343130</td>\n",
       "      <td>-2.962310</td>\n",
       "      <td>2198</td>\n",
       "      <td>1</td>\n",
       "      <td>2275.424844</td>\n",
       "    </tr>\n",
       "    <tr>\n",
       "      <th>490172</th>\n",
       "      <td>0.0</td>\n",
       "      <td>0.0</td>\n",
       "      <td>0.0</td>\n",
       "      <td>0.0</td>\n",
       "      <td>98.542280</td>\n",
       "      <td>6547.874512</td>\n",
       "      <td>72.0</td>\n",
       "      <td>2199.0</td>\n",
       "      <td>2199.0</td>\n",
       "      <td>0.0</td>\n",
       "      <td>-2.036310</td>\n",
       "      <td>2.512160</td>\n",
       "      <td>2199</td>\n",
       "      <td>1</td>\n",
       "      <td>2286.729009</td>\n",
       "    </tr>\n",
       "    <tr>\n",
       "      <th>490173</th>\n",
       "      <td>0.0</td>\n",
       "      <td>0.0</td>\n",
       "      <td>0.0</td>\n",
       "      <td>0.0</td>\n",
       "      <td>96.401960</td>\n",
       "      <td>6547.874512</td>\n",
       "      <td>72.0</td>\n",
       "      <td>2178.0</td>\n",
       "      <td>2178.0</td>\n",
       "      <td>0.0</td>\n",
       "      <td>3.303280</td>\n",
       "      <td>-1.017060</td>\n",
       "      <td>2178</td>\n",
       "      <td>1</td>\n",
       "      <td>2263.319736</td>\n",
       "    </tr>\n",
       "    <tr>\n",
       "      <th>490174</th>\n",
       "      <td>0.0</td>\n",
       "      <td>0.0</td>\n",
       "      <td>0.0</td>\n",
       "      <td>0.0</td>\n",
       "      <td>98.647571</td>\n",
       "      <td>6547.874512</td>\n",
       "      <td>72.0</td>\n",
       "      <td>2187.0</td>\n",
       "      <td>2187.0</td>\n",
       "      <td>0.0</td>\n",
       "      <td>1.660160</td>\n",
       "      <td>-0.653290</td>\n",
       "      <td>0</td>\n",
       "      <td>0</td>\n",
       "      <td>2287.145028</td>\n",
       "    </tr>\n",
       "    <tr>\n",
       "      <th>490175</th>\n",
       "      <td>0.0</td>\n",
       "      <td>0.0</td>\n",
       "      <td>0.0</td>\n",
       "      <td>0.0</td>\n",
       "      <td>97.674570</td>\n",
       "      <td>6547.874512</td>\n",
       "      <td>72.0</td>\n",
       "      <td>2172.0</td>\n",
       "      <td>2172.0</td>\n",
       "      <td>0.0</td>\n",
       "      <td>0.665614</td>\n",
       "      <td>-0.576311</td>\n",
       "      <td>2172</td>\n",
       "      <td>1</td>\n",
       "      <td>2274.578337</td>\n",
       "    </tr>\n",
       "  </tbody>\n",
       "</table>\n",
       "<p>490176 rows × 15 columns</p>\n",
       "</div>"
      ],
      "text/plain": [
       "        x (nm)  y (nm)  z (nm)  mc_c (Da)     mc (Da)  high_voltage (V)  \\\n",
       "0          0.0     0.0     0.0        0.0   96.788074       7875.019531   \n",
       "1          0.0     0.0     0.0        0.0  184.834798       7875.019531   \n",
       "2          0.0     0.0     0.0        0.0   98.703905       7875.019531   \n",
       "3          0.0     0.0     0.0        0.0  105.604788       7875.019531   \n",
       "4          0.0     0.0     0.0        0.0  105.690186       7875.019531   \n",
       "...        ...     ...     ...        ...         ...               ...   \n",
       "490171     0.0     0.0     0.0        0.0   98.431365       6547.874512   \n",
       "490172     0.0     0.0     0.0        0.0   98.542280       6547.874512   \n",
       "490173     0.0     0.0     0.0        0.0   96.401960       6547.874512   \n",
       "490174     0.0     0.0     0.0        0.0   98.647571       6547.874512   \n",
       "490175     0.0     0.0     0.0        0.0   97.674570       6547.874512   \n",
       "\n",
       "        pulse (deg)  start_counter  t (ns)  t_c (nm)  x_det (cm)  y_det (cm)  \\\n",
       "0              46.0         1986.0  1986.0       0.0    1.574880   -2.295810   \n",
       "1              46.0         2718.0  2718.0       0.0   -1.240870   -0.273416   \n",
       "2              46.0         1998.0  1998.0       0.0    1.709700   -0.668762   \n",
       "3              46.0         2078.0  2078.0       0.0   -2.533930    2.063530   \n",
       "4              46.0         2070.0  2070.0       0.0    1.603760    1.711910   \n",
       "...             ...            ...     ...       ...         ...         ...   \n",
       "490171         72.0         2198.0  2198.0       0.0   -1.343130   -2.962310   \n",
       "490172         72.0         2199.0  2199.0       0.0   -2.036310    2.512160   \n",
       "490173         72.0         2178.0  2178.0       0.0    3.303280   -1.017060   \n",
       "490174         72.0         2187.0  2187.0       0.0    1.660160   -0.653290   \n",
       "490175         72.0         2172.0  2172.0       0.0    0.665614   -0.576311   \n",
       "\n",
       "          pulse_pi  ion_pp     t_c (ns)  \n",
       "0                0       1  1975.537202  \n",
       "1              732       1  2716.857755  \n",
       "2       4294966576       1  1997.530579  \n",
       "3             2078       1  2064.302996  \n",
       "4                0       0  2069.692284  \n",
       "...            ...     ...          ...  \n",
       "490171        2198       1  2275.424844  \n",
       "490172        2199       1  2286.729009  \n",
       "490173        2178       1  2263.319736  \n",
       "490174           0       0  2287.145028  \n",
       "490175        2172       1  2274.578337  \n",
       "\n",
       "[490176 rows x 15 columns]"
      ]
     },
     "execution_count": 43,
     "metadata": {},
     "output_type": "execute_result"
    }
   ],
   "source": [
    "data_c"
   ]
  },
  {
   "cell_type": "code",
   "execution_count": 44,
   "metadata": {},
   "outputs": [
    {
     "ename": "NameError",
     "evalue": "name 'mc_p_1' is not defined",
     "output_type": "error",
     "traceback": [
      "\u001b[1;31m---------------------------------------------------------------------------\u001b[0m",
      "\u001b[1;31mNameError\u001b[0m                                 Traceback (most recent call last)",
      "Cell \u001b[1;32mIn[44], line 3\u001b[0m\n\u001b[0;32m      1\u001b[0m cc \u001b[38;5;241m=\u001b[39m data_c[\u001b[38;5;124m'\u001b[39m\u001b[38;5;124mmc_c (Da)\u001b[39m\u001b[38;5;124m'\u001b[39m]\u001b[38;5;241m.\u001b[39mto_numpy()\n\u001b[0;32m      2\u001b[0m \u001b[38;5;66;03m# cc[cc <= 0] = 0\u001b[39;00m\n\u001b[1;32m----> 3\u001b[0m peaks_ini, peaks_y_ini, peak_widths_p_ini \u001b[38;5;241m=\u001b[39m tools\u001b[38;5;241m.\u001b[39mhist_plot(\u001b[43mmc_p_1\u001b[49m[mc_p_1 \u001b[38;5;241m<\u001b[39m \u001b[38;5;241m100\u001b[39m], \u001b[38;5;241m0.1\u001b[39m, distance\u001b[38;5;241m=\u001b[39m\u001b[38;5;241m10\u001b[39m, percent\u001b[38;5;241m=\u001b[39m\u001b[38;5;241m50\u001b[39m, prominence\u001b[38;5;241m=\u001b[39m\u001b[38;5;241m50\u001b[39m, selector\u001b[38;5;241m=\u001b[39m\u001b[38;5;124m'\u001b[39m\u001b[38;5;124mpeak\u001b[39m\u001b[38;5;124m'\u001b[39m, plot\u001b[38;5;241m=\u001b[39m\u001b[38;5;28;01mTrue\u001b[39;00m, label\u001b[38;5;241m=\u001b[39m\u001b[38;5;124m'\u001b[39m\u001b[38;5;124mmc\u001b[39m\u001b[38;5;124m'\u001b[39m)\n\u001b[0;32m      4\u001b[0m peaks_ini, peaks_y_ini, peak_widths_p_ini \u001b[38;5;241m=\u001b[39m tools\u001b[38;5;241m.\u001b[39mhist_plot(cc[cc \u001b[38;5;241m<\u001b[39m \u001b[38;5;241m100\u001b[39m], \u001b[38;5;241m0.1\u001b[39m, distance\u001b[38;5;241m=\u001b[39m\u001b[38;5;241m10\u001b[39m, percent\u001b[38;5;241m=\u001b[39m\u001b[38;5;241m50\u001b[39m, prominence\u001b[38;5;241m=\u001b[39m\u001b[38;5;241m50\u001b[39m, selector\u001b[38;5;241m=\u001b[39m\u001b[38;5;124m'\u001b[39m\u001b[38;5;124mpeak\u001b[39m\u001b[38;5;124m'\u001b[39m, plot\u001b[38;5;241m=\u001b[39m\u001b[38;5;28;01mTrue\u001b[39;00m, label\u001b[38;5;241m=\u001b[39m\u001b[38;5;124m'\u001b[39m\u001b[38;5;124mmc\u001b[39m\u001b[38;5;124m'\u001b[39m)\n",
      "\u001b[1;31mNameError\u001b[0m: name 'mc_p_1' is not defined"
     ]
    }
   ],
   "source": [
    "cc = data_c['mc_c (Da)'].to_numpy()\n",
    "# cc[cc <= 0] = 0\n",
    "peaks_ini, peaks_y_ini, peak_widths_p_ini = tools.hist_plot(mc_p_1[mc_p_1 < 100], 0.1, distance=10, percent=50, prominence=50, selector='peak', plot=True, label='mc')\n",
    "peaks_ini, peaks_y_ini, peak_widths_p_ini = tools.hist_plot(cc[cc < 100], 0.1, distance=10, percent=50, prominence=50, selector='peak', plot=True, label='mc')"
   ]
  },
  {
   "cell_type": "code",
   "execution_count": 45,
   "metadata": {},
   "outputs": [],
   "source": [
    "# save the new data\n",
    "name_save_file = variables.result_path + '//' + dataset_name + '.h5'\n",
    "data_tools.store_df_to_hdf(name_save_file, data_c, 'df')"
   ]
  },
  {
   "cell_type": "code",
   "execution_count": 46,
   "metadata": {},
   "outputs": [],
   "source": [
    "# save data as epos file\n",
    "epos = ccapt_tools.ccapt_to_epos(data_c, pulse_mode=pulse_mode.value, path=variables.result_path, name=dataset_name + '.epos')\n",
    "pos = ccapt_tools.ccapt_to_pos(data_c, path=variables.result_path, name=dataset_name + '.POS')"
   ]
  },
  {
   "cell_type": "code",
   "execution_count": null,
   "metadata": {},
   "outputs": [],
   "source": [
    "# save data in csv format\n",
    "data_tools.store_df_to_csv(data_c, variables.result_path + dataset_name + '.csv')"
   ]
  }
 ],
 "metadata": {
  "kernelspec": {
   "display_name": "Python 3 (ipykernel)",
   "language": "python",
   "name": "python3"
  },
  "language_info": {
   "codemirror_mode": {
    "name": "ipython",
    "version": 3
   },
   "file_extension": ".py",
   "mimetype": "text/x-python",
   "name": "python",
   "nbconvert_exporter": "python",
   "pygments_lexer": "ipython3",
   "version": "3.8.13"
  }
 },
 "nbformat": 4,
 "nbformat_minor": 4
}

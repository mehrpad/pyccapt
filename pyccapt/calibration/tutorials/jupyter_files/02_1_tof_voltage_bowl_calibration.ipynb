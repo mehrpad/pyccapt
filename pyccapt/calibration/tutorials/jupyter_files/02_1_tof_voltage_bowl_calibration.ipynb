{
 "cells": [
  {
   "cell_type": "code",
   "execution_count": 20,
   "metadata": {
    "pycharm": {
     "name": "#%%\n"
    }
   },
   "outputs": [],
   "source": [
    "%matplotlib ipympl\n",
    "import os\n",
    "import os.path as path\n",
    "import logging, sys\n",
    "import numpy as np\n",
    "from scipy.optimize import curve_fit\n",
    "from scipy import interpolate\n",
    "from sklearn.preprocessing import MinMaxScaler\n",
    "import matplotlib.pyplot as plt\n",
    "from ipywidgets import fixed, interact_manual, widgets\n",
    "from ipywidgets import HBox, VBox\n",
    "from IPython.display import clear_output\n",
    "from IPython.display import display\n",
    "from ipywidgets import IntSlider, Output\n",
    "from itertools import product\n",
    "from scipy.signal import find_peaks\n",
    "import math\n",
    "from mpl_toolkits.mplot3d import Axes3D\n",
    "\n",
    "# Local module and scripts\n",
    "from pyccapt.calibration.calibration_tools import tools, variables, calibration\n",
    "from pyccapt.calibration.calibration_tools import widgets as wd\n",
    "from pyccapt.calibration.data_tools import data_tools, data_loadcrop, dataset_path_qt\n",
    "from pyccapt.calibration.mc import mc_tools\n",
    "from pyccapt.calibration.leap_tools import ccapt_tools"
   ]
  },
  {
   "cell_type": "code",
   "execution_count": 21,
   "metadata": {},
   "outputs": [
    {
     "name": "stdout",
     "output_type": "stream",
     "text": [
      "The autoreload extension is already loaded. To reload it, use:\n",
      "  %reload_ext autoreload\n"
     ]
    }
   ],
   "source": [
    "%load_ext autoreload\n",
    "%autoreload 2"
   ]
  },
  {
   "cell_type": "code",
   "execution_count": 22,
   "metadata": {},
   "outputs": [],
   "source": [
    "%reload_ext autoreload"
   ]
  },
  {
   "cell_type": "code",
   "execution_count": 23,
   "metadata": {
    "pycharm": {
     "name": "#%%\n"
    }
   },
   "outputs": [],
   "source": [
    "# Disable showing logging in Jupyter notebook\n",
    "logging.disable(sys.maxsize)"
   ]
  },
  {
   "cell_type": "code",
   "execution_count": 24,
   "metadata": {},
   "outputs": [
    {
     "data": {
      "application/vnd.jupyter.widget-view+json": {
       "model_id": "938eff1892df438eac971e5701482b83",
       "version_major": 2,
       "version_minor": 0
      },
      "text/plain": [
       "Button(description='load dataset', style=ButtonStyle())"
      ]
     },
     "execution_count": 24,
     "metadata": {},
     "output_type": "execute_result"
    }
   ],
   "source": [
    "button = widgets.Button(\n",
    "    description='load dataset',\n",
    ")\n",
    "\n",
    "@button.on_click\n",
    "def open_file_on_click(b):\n",
    "    global dataset_path\n",
    "    dataset_path = dataset_path_qt.gui_fname().decode('ASCII')\n",
    "button"
   ]
  },
  {
   "cell_type": "code",
   "execution_count": 6,
   "metadata": {},
   "outputs": [
    {
     "data": {
      "application/vnd.jupyter.widget-view+json": {
       "model_id": "2016b2e7073d47b78fba32a6d6ce0c3f",
       "version_major": 2,
       "version_minor": 0
      },
      "text/plain": [
       "Dropdown(description='Data mode:', options=('surface_concept', 'roentdec', 'leap_epos', 'leap_pos'), value='su…"
      ]
     },
     "metadata": {},
     "output_type": "display_data"
    },
    {
     "data": {
      "application/vnd.jupyter.widget-view+json": {
       "model_id": "7db923e7edc449a6b0c3bd02bfa277e7",
       "version_major": 2,
       "version_minor": 0
      },
      "text/plain": [
       "FloatText(value=78.0, description='Detector diameter:')"
      ]
     },
     "metadata": {},
     "output_type": "display_data"
    },
    {
     "data": {
      "application/vnd.jupyter.widget-view+json": {
       "model_id": "62f883664a464c7f82862e307cf16150",
       "version_major": 2,
       "version_minor": 0
      },
      "text/plain": [
       "Dropdown(description='Pulse mode:', options=('voltage', 'laser'), value='voltage')"
      ]
     },
     "metadata": {},
     "output_type": "display_data"
    },
    {
     "data": {
      "application/vnd.jupyter.widget-view+json": {
       "model_id": "d438bae623644eb0908d01957810b5a2",
       "version_major": 2,
       "version_minor": 0
      },
      "text/plain": [
       "FloatText(value=110.0, description='Flight path length:')"
      ]
     },
     "metadata": {},
     "output_type": "display_data"
    },
    {
     "data": {
      "application/vnd.jupyter.widget-view+json": {
       "model_id": "85299efb8c20437dbe18a10dc341291b",
       "version_major": 2,
       "version_minor": 0
      },
      "text/plain": [
       "FloatText(value=54.0, description='t0:')"
      ]
     },
     "metadata": {},
     "output_type": "display_data"
    }
   ],
   "source": [
    "tdc, pulse_mode, flightPathLength_d, t0_d, max_mc, det_diam = wd.dataset_tdc_selection()\n",
    "display(tdc, det_diam, pulse_mode, flightPathLength_d, t0_d)"
   ]
  },
  {
   "cell_type": "markdown",
   "metadata": {
    "pycharm": {
     "name": "#%% md\n"
    }
   },
   "source": [
    "$$\\textbf{You can specify which dataset to use in below block}$$"
   ]
  },
  {
   "cell_type": "code",
   "execution_count": 38,
   "metadata": {
    "pycharm": {
     "name": "#%%\n"
    }
   },
   "outputs": [
    {
     "name": "stdout",
     "output_type": "stream",
     "text": [
      "The result will be saved on the path: C:/Users/APTUser/Desktop/New folder/OLO_AL_6_data/tof_calibration/\n"
     ]
    }
   ],
   "source": [
    "dataset_main_path = os.path.dirname(dataset_path)\n",
    "dataset_name_with_extention = os.path.basename(dataset_path)\n",
    "dataset_name = os.path.splitext(dataset_name_with_extention)[0]\n",
    "\n",
    "\n",
    "variables.init()\n",
    "# variables.path = os.path.join(p, 'tests//data')\n",
    "variables.result_path = os.path.dirname(dataset_main_path) +  '/tof_calibration/'\n",
    "if not os.path.isdir(variables.result_path):\n",
    "    os.makedirs(variables.result_path, mode=0o777, exist_ok=True)\n",
    "print('The result will be saved on the path:', variables.result_path)\n",
    "\n",
    "filename = dataset_path\n",
    "\n",
    "head, tail = os.path.split(filename)\n",
    "figname = os.path.splitext(tail)[0]\n",
    "\n",
    "if tdc.value == 'leap_pos' or tdc.value == 'leap_epos':\n",
    "    if tdc.value == 'leap_epos':\n",
    "        data = ccapt_tools.epos_to_ccapt(filename)\n",
    "    else:\n",
    "        print('The file has to be epos. With pos information this tutorial cannot be run')\n",
    "        data = ccapt_tools.pos_to_ccapt(filename)\n",
    "else:\n",
    "    data = data_tools.read_hdf5_through_pandas(filename)\n"
   ]
  },
  {
   "cell_type": "code",
   "execution_count": 39,
   "metadata": {
    "pycharm": {
     "name": "#%%\n"
    }
   },
   "outputs": [
    {
     "data": {
      "text/html": [
       "<div>\n",
       "<style scoped>\n",
       "    .dataframe tbody tr th:only-of-type {\n",
       "        vertical-align: middle;\n",
       "    }\n",
       "\n",
       "    .dataframe tbody tr th {\n",
       "        vertical-align: top;\n",
       "    }\n",
       "\n",
       "    .dataframe thead th {\n",
       "        text-align: right;\n",
       "    }\n",
       "</style>\n",
       "<table border=\"1\" class=\"dataframe\">\n",
       "  <thead>\n",
       "    <tr style=\"text-align: right;\">\n",
       "      <th></th>\n",
       "      <th>x (nm)</th>\n",
       "      <th>y (nm)</th>\n",
       "      <th>z (nm)</th>\n",
       "      <th>mc_c (Da)</th>\n",
       "      <th>high_voltage (V)</th>\n",
       "      <th>mc (Da)</th>\n",
       "      <th>pulse</th>\n",
       "      <th>start_counter</th>\n",
       "      <th>t (ns)</th>\n",
       "      <th>t_c (ns)</th>\n",
       "      <th>x_det (cm)</th>\n",
       "      <th>y_det (cm)</th>\n",
       "      <th>pulse_pi</th>\n",
       "      <th>ion_pp</th>\n",
       "    </tr>\n",
       "  </thead>\n",
       "  <tbody>\n",
       "    <tr>\n",
       "      <th>0</th>\n",
       "      <td>0.0</td>\n",
       "      <td>0.0</td>\n",
       "      <td>0.0</td>\n",
       "      <td>0.0</td>\n",
       "      <td>2881.532471</td>\n",
       "      <td>26.919310</td>\n",
       "      <td>2881.532471</td>\n",
       "      <td>47623</td>\n",
       "      <td>827.479422</td>\n",
       "      <td>0.0</td>\n",
       "      <td>0.369306</td>\n",
       "      <td>-1.521796</td>\n",
       "      <td>0</td>\n",
       "      <td>1</td>\n",
       "    </tr>\n",
       "    <tr>\n",
       "      <th>1</th>\n",
       "      <td>0.0</td>\n",
       "      <td>0.0</td>\n",
       "      <td>0.0</td>\n",
       "      <td>0.0</td>\n",
       "      <td>2881.532471</td>\n",
       "      <td>26.988287</td>\n",
       "      <td>2881.532471</td>\n",
       "      <td>48968</td>\n",
       "      <td>824.544198</td>\n",
       "      <td>0.0</td>\n",
       "      <td>-0.159184</td>\n",
       "      <td>-1.085633</td>\n",
       "      <td>1310</td>\n",
       "      <td>1</td>\n",
       "    </tr>\n",
       "    <tr>\n",
       "      <th>2</th>\n",
       "      <td>0.0</td>\n",
       "      <td>0.0</td>\n",
       "      <td>0.0</td>\n",
       "      <td>0.0</td>\n",
       "      <td>2881.532471</td>\n",
       "      <td>281.550205</td>\n",
       "      <td>2881.532471</td>\n",
       "      <td>49156</td>\n",
       "      <td>2532.954294</td>\n",
       "      <td>0.0</td>\n",
       "      <td>0.267429</td>\n",
       "      <td>-0.410694</td>\n",
       "      <td>188</td>\n",
       "      <td>1</td>\n",
       "    </tr>\n",
       "    <tr>\n",
       "      <th>3</th>\n",
       "      <td>0.0</td>\n",
       "      <td>0.0</td>\n",
       "      <td>0.0</td>\n",
       "      <td>0.0</td>\n",
       "      <td>2881.532471</td>\n",
       "      <td>27.420947</td>\n",
       "      <td>2881.532471</td>\n",
       "      <td>50216</td>\n",
       "      <td>832.629780</td>\n",
       "      <td>0.0</td>\n",
       "      <td>1.009224</td>\n",
       "      <td>0.891429</td>\n",
       "      <td>1060</td>\n",
       "      <td>1</td>\n",
       "    </tr>\n",
       "    <tr>\n",
       "      <th>4</th>\n",
       "      <td>0.0</td>\n",
       "      <td>0.0</td>\n",
       "      <td>0.0</td>\n",
       "      <td>0.0</td>\n",
       "      <td>2881.532471</td>\n",
       "      <td>19.236127</td>\n",
       "      <td>2881.532471</td>\n",
       "      <td>50415</td>\n",
       "      <td>715.851756</td>\n",
       "      <td>0.0</td>\n",
       "      <td>1.451755</td>\n",
       "      <td>1.840163</td>\n",
       "      <td>199</td>\n",
       "      <td>1</td>\n",
       "    </tr>\n",
       "    <tr>\n",
       "      <th>...</th>\n",
       "      <td>...</td>\n",
       "      <td>...</td>\n",
       "      <td>...</td>\n",
       "      <td>...</td>\n",
       "      <td>...</td>\n",
       "      <td>...</td>\n",
       "      <td>...</td>\n",
       "      <td>...</td>\n",
       "      <td>...</td>\n",
       "      <td>...</td>\n",
       "      <td>...</td>\n",
       "      <td>...</td>\n",
       "      <td>...</td>\n",
       "      <td>...</td>\n",
       "    </tr>\n",
       "    <tr>\n",
       "      <th>1614556</th>\n",
       "      <td>0.0</td>\n",
       "      <td>0.0</td>\n",
       "      <td>0.0</td>\n",
       "      <td>0.0</td>\n",
       "      <td>4541.300293</td>\n",
       "      <td>26.769938</td>\n",
       "      <td>4541.300293</td>\n",
       "      <td>49517</td>\n",
       "      <td>676.644570</td>\n",
       "      <td>0.0</td>\n",
       "      <td>2.292245</td>\n",
       "      <td>-0.725878</td>\n",
       "      <td>851</td>\n",
       "      <td>1</td>\n",
       "    </tr>\n",
       "    <tr>\n",
       "      <th>1614557</th>\n",
       "      <td>0.0</td>\n",
       "      <td>0.0</td>\n",
       "      <td>0.0</td>\n",
       "      <td>0.0</td>\n",
       "      <td>4541.300293</td>\n",
       "      <td>27.746793</td>\n",
       "      <td>4541.300293</td>\n",
       "      <td>49816</td>\n",
       "      <td>677.179494</td>\n",
       "      <td>0.0</td>\n",
       "      <td>0.891429</td>\n",
       "      <td>-0.856408</td>\n",
       "      <td>299</td>\n",
       "      <td>1</td>\n",
       "    </tr>\n",
       "    <tr>\n",
       "      <th>1614558</th>\n",
       "      <td>0.0</td>\n",
       "      <td>0.0</td>\n",
       "      <td>0.0</td>\n",
       "      <td>0.0</td>\n",
       "      <td>4541.300293</td>\n",
       "      <td>27.605079</td>\n",
       "      <td>4541.300293</td>\n",
       "      <td>50016</td>\n",
       "      <td>671.912550</td>\n",
       "      <td>0.0</td>\n",
       "      <td>-0.276980</td>\n",
       "      <td>-0.085959</td>\n",
       "      <td>200</td>\n",
       "      <td>1</td>\n",
       "    </tr>\n",
       "    <tr>\n",
       "      <th>1614559</th>\n",
       "      <td>0.0</td>\n",
       "      <td>0.0</td>\n",
       "      <td>0.0</td>\n",
       "      <td>0.0</td>\n",
       "      <td>4541.300293</td>\n",
       "      <td>27.128285</td>\n",
       "      <td>4541.300293</td>\n",
       "      <td>50332</td>\n",
       "      <td>669.930588</td>\n",
       "      <td>0.0</td>\n",
       "      <td>0.990122</td>\n",
       "      <td>0.665388</td>\n",
       "      <td>316</td>\n",
       "      <td>1</td>\n",
       "    </tr>\n",
       "    <tr>\n",
       "      <th>1614560</th>\n",
       "      <td>0.0</td>\n",
       "      <td>0.0</td>\n",
       "      <td>0.0</td>\n",
       "      <td>0.0</td>\n",
       "      <td>4541.300293</td>\n",
       "      <td>27.412967</td>\n",
       "      <td>4541.300293</td>\n",
       "      <td>51081</td>\n",
       "      <td>671.802822</td>\n",
       "      <td>0.0</td>\n",
       "      <td>-0.206939</td>\n",
       "      <td>-0.920082</td>\n",
       "      <td>749</td>\n",
       "      <td>1</td>\n",
       "    </tr>\n",
       "  </tbody>\n",
       "</table>\n",
       "<p>1614561 rows × 14 columns</p>\n",
       "</div>"
      ],
      "text/plain": [
       "         x (nm)  y (nm)  z (nm)  mc_c (Da)  high_voltage (V)     mc (Da)  \\\n",
       "0           0.0     0.0     0.0        0.0       2881.532471   26.919310   \n",
       "1           0.0     0.0     0.0        0.0       2881.532471   26.988287   \n",
       "2           0.0     0.0     0.0        0.0       2881.532471  281.550205   \n",
       "3           0.0     0.0     0.0        0.0       2881.532471   27.420947   \n",
       "4           0.0     0.0     0.0        0.0       2881.532471   19.236127   \n",
       "...         ...     ...     ...        ...               ...         ...   \n",
       "1614556     0.0     0.0     0.0        0.0       4541.300293   26.769938   \n",
       "1614557     0.0     0.0     0.0        0.0       4541.300293   27.746793   \n",
       "1614558     0.0     0.0     0.0        0.0       4541.300293   27.605079   \n",
       "1614559     0.0     0.0     0.0        0.0       4541.300293   27.128285   \n",
       "1614560     0.0     0.0     0.0        0.0       4541.300293   27.412967   \n",
       "\n",
       "               pulse  start_counter       t (ns)  t_c (ns)  x_det (cm)  \\\n",
       "0        2881.532471          47623   827.479422       0.0    0.369306   \n",
       "1        2881.532471          48968   824.544198       0.0   -0.159184   \n",
       "2        2881.532471          49156  2532.954294       0.0    0.267429   \n",
       "3        2881.532471          50216   832.629780       0.0    1.009224   \n",
       "4        2881.532471          50415   715.851756       0.0    1.451755   \n",
       "...              ...            ...          ...       ...         ...   \n",
       "1614556  4541.300293          49517   676.644570       0.0    2.292245   \n",
       "1614557  4541.300293          49816   677.179494       0.0    0.891429   \n",
       "1614558  4541.300293          50016   671.912550       0.0   -0.276980   \n",
       "1614559  4541.300293          50332   669.930588       0.0    0.990122   \n",
       "1614560  4541.300293          51081   671.802822       0.0   -0.206939   \n",
       "\n",
       "         y_det (cm)  pulse_pi  ion_pp  \n",
       "0         -1.521796         0       1  \n",
       "1         -1.085633      1310       1  \n",
       "2         -0.410694       188       1  \n",
       "3          0.891429      1060       1  \n",
       "4          1.840163       199       1  \n",
       "...             ...       ...     ...  \n",
       "1614556   -0.725878       851       1  \n",
       "1614557   -0.856408       299       1  \n",
       "1614558   -0.085959       200       1  \n",
       "1614559    0.665388       316       1  \n",
       "1614560   -0.920082       749       1  \n",
       "\n",
       "[1614561 rows x 14 columns]"
      ]
     },
     "execution_count": 39,
     "metadata": {},
     "output_type": "execute_result"
    }
   ],
   "source": [
    "data"
   ]
  },
  {
   "cell_type": "code",
   "execution_count": 27,
   "metadata": {
    "pycharm": {
     "name": "#%%\n"
    }
   },
   "outputs": [],
   "source": [
    "# Remove negative TOF\n",
    "# threshold = 0\n",
    "# dld_t_mask = data['t (ns)'].to_numpy()\n",
    "# dld_t_mask = (dld_t <= threshold)\n",
    "# data.drop(np.where(dld_t_mask)[0], inplace=True)\n",
    "# data.reset_index(inplace=True, drop=True)\n"
   ]
  },
  {
   "cell_type": "code",
   "execution_count": 28,
   "metadata": {},
   "outputs": [
    {
     "data": {
      "application/vnd.jupyter.widget-view+json": {
       "model_id": "d72647bdd6aa43c9ad5333876219a611",
       "version_major": 2,
       "version_minor": 0
      },
      "image/png": "[encoded data removed]",
      "text/html": [
       "\n",
       "            <div style=\"display: inline-block;\">\n",
       "                <div class=\"jupyter-widgets widget-label\" style=\"text-align: center;\">\n",
       "                    Figure\n",
       "                </div>\n",
       "                <img src='data:image/png;base64,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' width=433.0708661417323/>\n",
       "            </div>\n",
       "        "
      ],
      "text/plain": [
       "Canvas(toolbar=Toolbar(toolitems=[('Home', 'Reset original view', 'home', 'home'), ('Back', 'Back to previous …"
      ]
     },
     "metadata": {},
     "output_type": "display_data"
    }
   ],
   "source": [
    "data_loadcrop.plot_crop_experimetn_history(data, save_name=variables.result_path + '//ex_hist_' + dataset_name)"
   ]
  },
  {
   "cell_type": "code",
   "execution_count": 40,
   "metadata": {},
   "outputs": [],
   "source": [
    "# exctract needed data from Pandas data frame as an numpy array\n",
    "dld_highVoltage = data['high_voltage (V)'].to_numpy()\n",
    "if pulse_mode.value == 'voltage':\n",
    "    dld_pulseVoltage = data['pulse'].to_numpy()\n",
    "elif pulse_mode.value == 'laser':\n",
    "    dld_pulseVoltage = data['pulse (deg)'].to_numpy()\n",
    "dld_t = data['t (ns)'].to_numpy()\n",
    "dld_x = data['x_det (cm)'].to_numpy()\n",
    "dld_y = data['y_det (cm)'].to_numpy()\n",
    "# copy dld_t to a have a global version of that\n",
    "variables.dld_t_calib = np.copy(dld_t)\n",
    "variables.dld_t_calib_backup = np.copy(dld_t)"
   ]
  },
  {
   "cell_type": "code",
   "execution_count": 30,
   "metadata": {},
   "outputs": [],
   "source": [
    "ion_distance = np.sqrt(flightPathLength_d.value**2 + (dld_x*10)**2 + (dld_y*10)**2)\n",
    "ion_distance = flightPathLength_d.value / ion_distance\n",
    "dld_t = dld_t * ion_distance"
   ]
  },
  {
   "cell_type": "code",
   "execution_count": 41,
   "metadata": {
    "tags": []
   },
   "outputs": [
    {
     "data": {
      "application/vnd.jupyter.widget-view+json": {
       "model_id": "cd7988cdd1514affb8260572d92893e0",
       "version_major": 2,
       "version_minor": 0
      },
      "image/png": "[encoded data removed]",
      "text/html": [
       "\n",
       "            <div style=\"display: inline-block;\">\n",
       "                <div class=\"jupyter-widgets widget-label\" style=\"text-align: center;\">\n",
       "                    Figure\n",
       "                </div>\n",
       "                <img src='data:image/png;base64,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' width=354.3307086614173/>\n",
       "            </div>\n",
       "        "
      ],
      "text/plain": [
       "Canvas(toolbar=Toolbar(toolitems=[('Home', 'Reset original view', 'home', 'home'), ('Back', 'Back to previous …"
      ]
     },
     "metadata": {},
     "output_type": "display_data"
    },
    {
     "data": {
      "text/plain": [
       "(None, None, None, None)"
      ]
     },
     "execution_count": 41,
     "metadata": {},
     "output_type": "execute_result"
    }
   ],
   "source": [
    "tools.hist_plot(dld_t[dld_t < 10000], 0.1, prominence=200, distance=100, h_line=True, text_loc='right', percent=percent_mrp, plot=True, label='tof', peaks_find=False, fig_name=figname, fig_size=(9/2.54, 6/2.54))"
   ]
  },
  {
   "cell_type": "code",
   "execution_count": 42,
   "metadata": {},
   "outputs": [
    {
     "name": "stdout",
     "output_type": "stream",
     "text": [
      "The peak index for MRP calculation is: 1\n"
     ]
    },
    {
     "data": {
      "application/vnd.jupyter.widget-view+json": {
       "model_id": "ffbaa2827636433da369ea51ff094d73",
       "version_major": 2,
       "version_minor": 0
      },
      "image/png": "[encoded data removed]",
      "text/html": [
       "\n",
       "            <div style=\"display: inline-block;\">\n",
       "                <div class=\"jupyter-widgets widget-label\" style=\"text-align: center;\">\n",
       "                    Figure\n",
       "                </div>\n",
       "                <img src='data:image/png;base64,iVBORw0KGgoAAAANSUhEUgAAAWIAAADsCAYAAABOkaxmAAAAOXRFWHRTb2Z0d2FyZQBNYXRwbG90bGliIHZlcnNpb24zLjcuMSwgaHR0cHM6Ly9tYXRwbG90bGliLm9yZy/bCgiHAAAACXBIWXMAAA9hAAAPYQGoP6dpAABW7UlEQVR4nO2dd5gUxdaHf909cSO7xCWISs4LSgYVAxIEDGC4IKgoCF4QFRQ+LoKgoMJVQEVFvCAIKnLNXFBQUESSCAiCgEhmYWHTxM71/VE9vTPssmlmd2ah3ueZZ3e6q6tPVfecrj516hyOEELAYDAYjKjBR1sABoPBuNJhipjBYDCiDFPEDAaDEWWYImYwGIwowxQxg8FgRBmmiBkMBiPKMEXMYDAYUYYpYgaDwYgyTBEzGAxGlGGKmMFgMKIMU8QMBoMRZZgiZjAYjCjDFDGDwWBEGUu0BYhFdF3HmTNnkJiYCI7joi0Og8GIMoQQuN1u1K5dGzwf+fErU8SFcObMGdSrVy/aYjAYjBjj5MmTqFu3bsTrZYq4EBITEwHQTk9KSoqyNAwGI9q4XC7Uq1fP1A2RhiniQgiYI5KSkpgiZjAYJuVlqmSKmMEoBzRNQ1ZWFlRVjbYojFLCcRxSUlLgcDgq7JxMETMYEURVVfzrX//CkiWLce5cZrTFYZQRm82GXr1ux/z5b6B+/frlfj6miBmMCDJ27FgsXLgQo4bdga7tW8Bms0ZbJEYpIbqOw0fP4O2l3+Cmm27Evn1/lPs5OZY8tCAulwvJycnIy8tjNmJGifF4PKhRowbGP343Jo65P9riMMLkz79O4rqeo7Fy5Urcfvvt5aoT2IIORszg8fmjLUJYHDhwAH6/H7ffdH20RWFEgKYN66F+vVrYsWNHuZ+LKWJGTJDn9mDXvkPQdD3aopQZWZYBAHFx9pDt8df2Q67LU+gxnfqOhdvji7gsGeeycNu9z11y/1XX/QPHT50DALz5ny9x9nyOue+luSswYfp7ZTrvmu+3o+2tj6N1jxF44PGZcLkLb9vaH3aga/9xSGl6V5nPVRHEOx3mdS1PmCJmxAQZ57Lw6+8H4Kvko+LSsnX1fCQmxEW83rSaVbFu5SslKvvW4q9wLkgRlxWP149RE9/Ax+9Oxu8bFiKtZipefvPjQss2uLo23n7lSYx77O6wz3s5wBQxIyb488hxnDh9DsdPn4u2KOXCvPc+R+c7nkSbm0fi4y82mtuDR8vNug/HjNc/RI97xqP5DcPxypufFFrXQ0/Oxidf0joWLluNKk3ugtcnAgB6D56Mn7fvw/FT51C7Tb6devX6bWh32yh06D0Gk19ebG6fNf8jZGRmY9iYV9Gp71js2f83AODc+WwMfHQ6rus5Gr0HT0Z2rrvYNn734060aXEtmjSgq1IfG9IHn379U6FlG11bB62bXQOLIBRZZ6AdL76+HF37j0OrHiOwdsOvAAC/KGHomFdwXc/R6NhnDPoNnVKsjLEKU8SMqKMTgpNnqALef/goLsf5Y47jsOWbefhiyQsY/8K7plngYvJcXmz47xz89MVrmLvwM5w5m1WgTI+u6diweQ8A4IfNu9GuVUNs2rYPPr+IfQeOomPbpiHlMy/k4vFn52H5gknYvuYNNKifhqwcqlgnjX0AaTVS8cEbz2Lr6vlo0/xaAMCO3Yfw7uxx2PndAtSomoz3V6wFQN9cOvUdW6jsJ8+cx1V1qpvf69etgbOZOVBVrZS9dVGfuL1o2fRqbP5qLv49bSQmvrgIALDux9+Q6/Ji53cLsO1/b+CD+c+GdZ5owhQxI+pIkowz5y4AAI6fOguvX4yyRJHnoft6AgCuuaoWunZogZ+3F+4SdW//GwEA1VKTcfVVtXDs5NkCZW7u2gYbf9kDTdPw5+GTGPPIndiweTc279iP69o0gtUa6pW6Y/dBtGx6NZo1ugoAMOze22CzFe25etsN7VA1hXoHdGjbFEdPZACgJo+tq+eXouXh47DbMKBXFwBAx7ZN8bchS6tm1+DgXycxbsoCrPpmE6yWokfXsQxTxIyo4/J4IckKAOBsZhbOnD0fZYnKn0utlLXbbeb/As9D1QpOXtarUwN2mxUff/kj0ls2wE1d2+CnrXuxYfNu3NSlTQnOXfwy3RA5BB6qVvyotl7t6jhxOv/aHT+ViVo1UmAJU0HabVZTZkHgoRl9cs1VtbDzuwW47cbrsHXnfrTv9U/k5BU+KRrrMEXMiDrZuS7THKETgt8P/HXZmSeWfboeALV5/rJjP7q2bxFWfT26tsGLry9Hj67pSElOgNUi4PP/bUaPrukFynZo2xT7/jyGg0dOAgCWfroOspy/9DoxIQ4utzcseQA6it79xxHzPO99+D8MvKN72PVeitMZF8BxHPre2hEzJz0CQghOnamcD3GmiBlR52L3rb9PnIFPlKIkTfmg6To63/Ek+g99HrOfH4H6dWuGVV+Pruk4cToTN3dtY373+UW0bnZNgbLVqybj7VfG4oHHZ6JjnzH462gGqqbkRxEb/dAd+OekN0Mm6y5FUTbixIQ4LJg1BvePfAmteozA6bMXMPGf+ROGnfqORcY5avPesHkPGnV5CG/85wss/XQdGnV5CKvXbytVH+w7eAy3DHoWHfuMQZd+T+KBu3qgVSHtrwxctivrRowYga+//hperxf169fHzJkz0a9fvxIdy1bWVSw/bduNz9f+aH63WgSMeeRe1EurEUWpSs/mzZvRrVs3/LZugek5wKjctO81Brf1HoDp06ezlXVl4emnn8axY8fgcrnwn//8B0OGDEFWVsEZaEb0yXOH2vUUVcOhv09ESRoGo+K5bBVx06ZNYbfTFU4cx0GWZZw+fTrKUjEKw+cvaIY4cvx0pV5lx2CUhphQxB6PB1OnTkWvXr2QmpoKjuOwZMmSQstKkoTnnnsOtWvXhtPpRMeOHbFu3bpCy44ePRpOpxPt27fHzTffjFatWpVjKxhlpbCYvSdOn0NuXvGLCBiMy4GYUMQXLlzA9OnTceDAAbRpU7T7zUMPPYTXXnsNgwcPxrx58yAIAvr06YOff/65QNkFCxbA4/Fg/fr16NmzJ0sEGqN4C1nW7PX5cfZ8dhSkYTAqnphQxGlpacjIyMDx48cxe/bsS5bbvn07Pv74Y8yaNQuzZ8/GiBEj8MMPP6B+/fp49tnCV9UIgoBbbrkF69evx//+97/yagIjDGSl8CwWBw4fq1hBGIwoEROK2G63o1atWsWWW7VqFQRBwIgRI8xtDocDw4cPx5YtW3Dy5MlLHquqKv7666+IyMuILLKiFLr92KkM6MxOzChH3l+xBn0GT0avByZBucSAoCKICUVcUnbt2oXGjRsXcB/p0KEDAGD37t0AgLy8PKxYsQIejweqquLTTz/Fhg0bcMMNN1S0yIwScKlYBBey8yp9jGJG7HLydCb+OHgc/1v+EtZ+NKvA0vCKpFIp4oyMDKSlpRXYHth25swZANRL4r333kPdunVRtWpVvPzyy1ixYgXS09MLrVeSJLhcrpAPo+K4lGlCkmUzGBCDEWm+/3kXvD4RvQdPxktzV0RVlkqliP1+v+mSFkwg26rfT0dPSUlJ2LBhA3Jzc5GXl4edO3fi7rsvHfd01qxZSE5ONj/16jFn/IqkqEzHR44xl8NI89LcFRCl8g92XhLGv/AumnUfjvhr+xW5qk+SFDw99R207jEC7Xv9E4889e+Q/X8dPYObB05Am5tHovuAp7D/0PFiz33+Qh44jsOa5S/h2Klzxa4qLE8qlSJ2Op2QpII+p6IomvvLwqRJk5CXl2d+irI1MyJPUba5o6cyLru4E9Fm5vyPYkYR39m7K9avfAVX1Sl6FeWUV5eA4zjs+eFd7Fj7Jmb+3yMh+8f86y08fP/t2PPDu3h65ECMnDC32HMnJcajW8eWAIBu7Vvg8N/Re+hXqizOaWlphS7KyMigYfFq165dpnrtdnuhI21G+UMIgVJEvNqMcxdwPjsXNaqmVKBUkSf+2n6Y9syD+HrdVlzIzsPEMQ9g6KBbzX2nd3+EKkkJAGgao01fvo76dWsi/tp+mPrMEKxevx2ZF3Lx6pRH8edfp/Dl2l/gcnvx5qwxuKFTQf/4h8fNweG/T0NWVNRNq4YFr4xFreopGDv5LQDAbfdOhCDw+OqD6diz/29Mnf0BVFVHSnI85s4YbYbMLOn5/aKEkRPm4o+Dx2GxCKhRrQq+Xjqj2H7p1qFlsWW8PhFLP12HQ5uXmC6otarn3w+ZF3Kxa+9hfP3BdADAnb274Olp7+DIsTNocHVt5Lo8mPrqUuz98yhyct24pXtbzH5+BDq0a4KVX9Gl9fsOHse9/aM3h1SpRsTp6ek4dOhQARvutm3bzP2MyoVOSJGeEYqi4vDfl8cbis1uxU9fvIbPF0/DhOkLSxwwPT7OiR8//zcWvDwWw59+DbVqpODnr17HtAlDMXnWfwo95tUpj+Hnr17H9jVvoEv75php2EDnv/QEAGDdypfNuMKPjJuDhbOfwvY1b+Dh+3thyBMvh7yFlOT8RQVpHz1xfqkD+gTz9/EMpCQnYvaClejW/yncdu9zZmB8gEZhq1U91Qy3yXEc6tWujpNGJLZhY2fjjp6d8MOq2dj53QL8cegEftq6F21bNoSq6uj1wCT4RQnt05uUWcZwqVQj4oEDB2LOnDlYuHAhxo8fD4BOtC1evBgdO3Zktt3KCCFFLmXWCcGO3w+gU7sWEIpJqxPr3DfgJgBAkwb1YBF4nDufgzpp1Yo97h4jlGS7Vg3h9YkY1I+O3K5v0xhHjmUUeszKr37ER59vgCjLkCTFDPJ+Mb/uOYQWTeqjZdOrAQD333kTnp76Ds6czTJlK8n5g4O0d+vYCrffdJ15jgUvFx6traSomoYTpzPRtNFVmPHcQ9j9xxH0HzoFO9a+hZrVi35T2vjLHuzYdRBTXlmCKa8sAQC43F7oOn3QzH7+sbBkixQxo4jffPNN5Obmmp4PX3/9NU6dOgUAGDNmDJKTk9GxY0cMGjQIkyZNQmZmJho2bIgPPvgAx44dw/vvvx9N8RllRC+B/TfzQg6y89yonlql/AUqRxx2q/l/cLD14GDnACBKSqHHCQJvfKdB22ng+IKj6l92/IG3P/gaP6yajRrVqmD1+m2Y8frysOUu6vyBIO0/bvkdGzbvxr9eXowtq+cjJTmhzOcNUK92dfA8j/sH0Owl6S0aoH7dmvjj4HHUrJ6COmnVcPZ8NlRVg8UigBCCk2fOo17t6vhm/TY8/MDteGniw2HLUZ7EjGlizpw5mDJlCt5++20AwGeffYYpU6ZgypQpyMnJzzC7dOlSjBs3DsuWLcPYsWOhKAq++eYb5iNcSQlk5igKUZLx19FTFSBNdGhQPw07dh8CAHy59hczEWhZyXV5kRDvRNWURMiyYuabC5CY4DTT3LdPb4I/Dh7HHwepl8GnX/+E2rVSUbtW1VKdszyDtFdLTcZNXVpj3U+7AADHTp7F8VPn0LQhfQOuUa0K0ls0wEdfbAAAfLHmF9SpVQ0Nrq6NOrWq4ftNu+DxUo8qvyiVyKOioomZEfGxY8dKVM7hcGD27NlFLoVmVCJKMCImhODYqQx0atfisowX8vK/HsWEFxZi+mvL0KtH+5Cg7WXhthva4eMvNiD91lFIrZKIHl3b4My5/BCwY4ffhX4PToHTacdXH0zH+68/g8fGv2ZO1i17c2Kp+3nfwWOYOnspCCHQNC0kSPvoifPR99aO6HtrxwLHjZn8JtZu+BXnzudgwLCpSExwYu+GhQWOm//iExg9cT6mvLIEPM9h/otPhDws5r/0BEZOmIs5Cz5FYkIc3nn1SQDAXb274Jcdf6BT37FIiHfCZrXg/8Y+gOaN65e6X8uTyzYwfDiwwPAVR57bg2mvFW9Wqle7BkYPvcd8LY5FWGD4yw8WGJ5xRVBSz4GsHBfOsWhsjMsUpogZUUUrJEtxYYiihIzMC+UsDYMRHZgiZkQVnZRMEeuE4NhJFo2NcXnCFDEjqgT8OUvCX8dPF7kKj8GorDBFzIgqpRnh5uS5kZPHIuMxLj9ixn2NcWVS2IKES6HrOk6cPoda1Uvn4xptmnUfDrvNCofDBllW0Lr5tXhr1hjEx9Gogd9v2oVX3vwEp89eQEpyIniew0P39cQjD/Qy69A0DR99sREff7ER587nwG6z4sYurfH0yHtCVs31emASTpzORFJiPABg8N03Y8zwOwHQmAyPjX8dR49nwGa3Yu70USWK9fDBynV48z9f4uCRk5g56RH885EB5r6/jp7BuOffxvmsXGiaholjHsBAYyVetHh66jvo0r5F1OUoDWVWxE8//XSxZZKSkjBt2rSynoJxBVBam+/JM5m4rlWTSrfc+YM3nkWb5tdC13UMfHQGPlz1PUYO7Yv1m37DyAnzsPytieh0XTMAdHHE4o+/NY+VJAUPjJqJxg3qYsHLY3BVnRpQFBVfr9uKAcOmYsm8CWh4TX7Aq1f+9Sj69excQIbnX/0AHdKb4MslL2DnnkO4f9RM7P9xUbEB0du2aohlbz6HOW9/WmDfyGfn4sGBt+Ch+27H+aw8dB/wFLpc37zUC0IiBSEE3/24Ey9MGBqV85eVMivijz76CI8//niRZZYvX84UMaNISuo1EeD02Uz4/CISE+LLSaLyRVZU+EUJVZKp/C/P/xiTxtxvKmEAqJNWDf96arD5feqcpbjjto4hI2Sr1YK7+3RD62bX4skpC7D6wxeLPfdn//sZvxuLJa5r0xhpNVKxads+3NwtvcjjWhsLM3i+4CKPvQeO4vabrgcAVK+ajFbNrsGqbzZh7KN3hpQ7fuocOvd9EsPuuw3fb9oNXdfw6pQRuLlbeon2PT7sDqzdsAMejx/vzh6Hz9dsxk9b90LVNHww71m0aEIXaPz2+2E0uqYOEhPi8NLcFTh45CR8fglHT5xFjeopWP7WRKRWScT2XX/iqanvQNN0qJqGkUP64rEhfYrtw/KizIr4lltuwdSpU4ssc/jw4bJWz2AUSmZWLnJcnkqniIeNeRUOhw0nTmUivWUD3NOXvjbv/uMI5kwbecnjfH4R2347gJcnD0dOngdjJ7+Jv0+cxa3d2+G3vYfx9dIZaHxtHew9cNRcyfb8qx9g+mvL0axRPbwwYRiuuaoWsnJcUFQ1JHxk/bo1zAhlM17/EGk1quLRwb1L1a62LRvgoy824umR9+DoibPY9tsB1K9beGzhPLcXTRvUw6z/G47tu/7EoBEvYp/xYChuX9uWDfD800PwwSffYcBDU/Hpe1Pw6pTH8PrCzzBr/kf48K2JAICvvtuKfj07mefcsfsQfv7qdVRNScKwsa/i/RVrMWH0IMx5exWefPQu3Nufxq/IyfOUqt2RpsyTdR9++GFEyjAYpUEUJZzPyim+YIzxwRvPYuvq+Tixcznq162JfxmRwC7m4XFz0KnvWFzT4UG43D78efikGZ5xztufonWza7H5q7lo3vgq/HWUBshq1ij//0X/fhq71r9jhL9sgYGPTi+RfFOeGlJqJQwAC+c8hV93H0SnvmPx3IuLcFOXNpc0G1ksAoYMvAUA0KFtU6TVSDWzYhS1z2G3maaWtq0bIT7OgRs7twYAXN+mEf46dsY8x+rvt4Uspb7thnamDb1D26Y4eoJGi7uhUyu88uYnmDX/I/yy44+IBCcKh7C9Jnbs2AGfjwYQWblyJcaPH29GUGMwiqO0NmJN13HyTGaJorbFIhaLgAG9umD9TzsBAG1aNMDOPYfM/YvnjsfW1fOReSHX9LEORD3bf/A4+t1OFVL/2/NtwGfP56BWDTrSrVu7OgAak/fxoXfg6ImzyMpxoWpKEiyCgLPn8x9ix09lop5RvqzUr1sTK97+P2xdPR8rF/4LeW4fmhtB5UsCh0vHtAjss9uCotbxfMgy9+AIcIf/Po0qifEhoTHtwWWDIt7985EB+O/7z6NWjVRMm7MM46YsKLHM5UHYivjRRx+F3W7H4cOHMXnyZFitVjz8cGyHnGPEDmVRp0eOn4bX64u4LBXFj1v2oNE1dQEAz/3zPsx642Ns3/WnuT84+lqThvWwY9dBAEDzJvWx5ocdAIDV67cDoDba7bsOon16E6iqhnNBivaLNZtRo1oVc0R4V5+ueH/5GgDAzj2HcOZcFrp3LN5roijOnc8xH6brfvoNfx4+gXuNcJUXo6oaVnxOI6T9uucQMjKz0br5NcXuKylffbcFdwSZJYri0N+ncHW9Wnj4/tsxfvQgbN99sFTnijRhu68JggBBELBmzRqMGjUKTz/9NNq2bRsJ2RhXAKWdrAOAC9m5OHchp1LZiQM2YlXTcFXtGpj/4mgAQM8br8OCl8di8qzFyMjMRrXUZNisFvx72kgkxjshCAJaNbsGKz7/AeNHDcLYyW+ia/9xuKVbW9SpVRXvLP0Gi157GhaLAK9PxD3Dp0OSFfA8h6opSVj53hRThhnPPoRHn3kNrXuMgM1mwfuvPWN6TBRlI162aj2mv/YhcvM8+Oa7bZi36HN8+t4UpLdogDU/bMe/3/kvBJ5HWs1UfPafaXA6Ck87lpwYj/2HjqNjnzHQNA2LXx+PxIQ4ZOe6i9xXUr5ZtxWL/l28NxcAvLt0NX7csgdWqxUCz2PW/w0v8XnKg7Cjr7Vo0QI//PADhgwZgldeeQXt2rVD69at8fvvv0dKxgqHRV+rOP44dBSLPvqqVMdwHIe+N3fBLd2uLyepykZ5RV/z+UXcO+IldO/YEo8N6YPUKolQFBU/b/8Doiih9y0dInau8iLg/XBmz8el2ldSMjKzMWDYVGxf80Y4Yhag0kRfe+qpp9CkSRMkJyejXbt2OHLkCFJSKneiR0bFUZZxACEEp85mXjHZneOcDnyxeBqqpSZh8OhZ6NR3LG646xms3bADbVo0iLZ4MUFajdSIK+GKJGzTxJ133olHH33U/H711Vdj1apV4VbLuEIozcq6YDIv5MAvSohzOiIsUWxisQgY/o/eGP6P0ns2xAL169a85Ii3qH1XCmGPiHv27BnyXRAE3H777eFWy7hSKOOg1uXxIivXVWm9JxiMYMqsiGVZhsvlgqZpcLvdcLlccLlcOHnyJLxebyRlZFzGlNW8IIoysnPyKoV5oln34ajffggURTW3/bjld8Rf2w8Tpr8HAPhp615UbXYPOvUdiw69x+DGu54J8aR4ae4K1L9+MDr1HYt2t43C0DGvhCxCmDTzfXz69U8A6ORaWuv70KnvWPPz2++HMXLCXLzy5ifmMR99sQHx1/bD8VPnzG0DHpqKDz75DgAQf20/5LpCFzo06z7c9O8dMeF1xF/bD7v/OGLud3t8qNFyEDr1pZmbRUlG1/7jkOcqmU5Y+8MOdO0/DilN7zL75mIyL+Ti6vYP4r6Rl15NOPutlUi/5XEkNOiPr7/bErLv1z2HcNPd49H5jifR7rZReO3d/5ZItvKkzIp41qxZqFKlCvbu3Yvk5GRUqVIFVapUQatWrTBkyJBIyshgFEDVNPx94kyJM3xEm3pp1bF6/Tbz+wcr16Fdq4YhZRpdWwdbV8/H9jVv4IG7emDUc/ND9t/b/yZsXT0fO9a+CUXRTKV65mwWvtu4MyTIzQ2dW2Hr6vnmp13rRrihc2v8tHWvWeanLXvRPr2JuU1VNWz5dT9u7NK6xO1q27Ihln263vz+39Wb0KRBXfO7w27DA3f2wPz3Py9RfQ2uro23X3kS4x67+5Jlxv7rLfS+uX2R9fTolo7PF09Dtw4tCuz75/+9iQmjB2HLN/Ow/tNXMW/R5zhw+ESJ5CsvyqyIp06dCl3XMXLkSOi6bn5yc3MxZcqU4itgMFD2ETEAnD57Hn4xvIzHFcWDA2/FUkNh5bm82LH7IG678bpLlr+pSxucOJ1Z6D5BENCjaxsc/ptmtl766ToM6NWl2ISfN3Zqhe27/oRsZM7e8ut+jB81EJu2UUW88/fDqJqShKvr1Spxuwbc3hlrftgOSaJ1Llv1PYYOui2kzMB+N2Dxx9+V6Fo3urYOWje7BpZLrM774JPvUL9uTXRp37zIeq5v0xjXXFV4OziOQ64xQvf5RNisFqRUCS9ha7iEbSN+5JFH4Hbn+/q53W78+uuv4VbLuEIgZTUSAzh3PhsuT+VY2NHp+mY4cfocMs5l4dOvf8JdvbtC4C/98/tizWYMvOOGQvf5RQlfr9uKti3piPqnrXvRvk3jkDI/bdlrmiX6D3seAF11V6tGKnbsPoSTpzORUiUBt3Rvi207/zSO+d1cOhzgtnsnhpg4MjJD8wY6nXbc3K0tvl63FQePnAQhBE0ahrru1aqeAqfDhv2H6Khz0fI1mPF66cMfHDt5FotWrMG08Q+W+thg3nn1Scx47UM06fow2tzyOKaNHxoSgyMahO01MXLkSOzYscP87nQ68fjjjzNlzCgRpcnQcTGSLOP8hRxcVbtmBCUqP+6/swc+XPU9vl63Ff95fTw++XJjyP7Df59Gp75jce58DjRNw8bP/h2yf+VXG/Hz9n0AgG4dWuKZUQMBUNNEjWpVQsre0LkVPnn3XwVkuKFTK2zathf16tRAtw4t4XTYUb1qMo6dPIuftu3FA3f1CCm/buXLqJKUH4ehWfeCCx+GDroVM15fjlbNrsGDA28ttO01q6fg9NkLaNGkfpliWhBCMOq5+XjthccvuWCkpLz2ziq8MGEo7htwE46eOIvbH5iEdq0aolkplmZHmrAVsa7rIUE+LBYLVFUt4ggGI59wctApqoZzFypPZufBd9+MLv3GodE1dULiBwcI2IgVRcW459/GI0/9Gxv+O9s0Odzb/ybMfv6xAsc5nXaIhmmgOG7o1ApLVq7DVbWr4x7DptytY0t8v2kXtu48gHdfHVfqdnVo2xQZmdk4eOQUdn77FnbtO1KgjCjJcDpshRxdMlxuH/b9eQxDx7wKAPD6/PD5JfQZPBn/W/5Sieu5kJ2Hr77bgg/mPwsAuOaqWuiQ3gRbdx6IqiIO2zRhs9lCwl0eOnQIVqu1iCMYjHzC9Xo4dyG7zL7IFU1azap4YcIwzHjuoSLLWa0WzH7+MZw+ewFff7e12HpbNr0ah4+eKpEMN3RujR27/sTP2/ehy/XUztqtY0vMX/QFatesWuaA7rOnjMDMSY8gMSGuwD5N03D0+Fm0aHJ1meoGgOSkeJz8bQUObHofBza9j5cmPYJburctlRIGgJTkBMQ7Hdj4yx4AVDHv2H0QzRvXL7NskSDsEfHUqVPRrVs39O5NXze+/fZbLF68OGzBGFcG4foBn8/KhSQrsDgrR8aOoYMKf3W/mDinA1OfeRAvzVsREl+3MO7q3RUrPvsBD91XvP9+Wo1U1KtdHclJCUiIdwIAOrVrhmOnzmHYRZNspaFH1zaX3PfLr/vRrnUjpBoTYouWr0FGZhamPFXQu2rD5j0YMeF1uD0+EAJ8sXYz5k4fFRLasjB++/0wZry+HJ8vngYAeOXNT7BoxRpcyM7D/kPH8fS0d/HL1/NQvWoylr7xHCa/vBiqqkFVNTzx8AB0bNe0zG2PBGHHmgBoAPh169YBAG6//XY0aFC5l12yWBMVx8/b9+C/azaW+fiEeCfGPnIvqqdWiZhMZaW8Yk0Uh67ruOHOZ/DJu5NRJ61ahZ23pAwb+yqGDroNt3SvfMHAKirWRESShzZq1AiNGjWKRFWMK4xwR8Q+n4gL2bmolpJcrPtWeROYK1HVstu9ywLP83jjpSdw/NS5mFPEoiSjW4eWlVIJA9RfvSLyI5bZRjx69OiIlGFc2YT7QqYTgnPns8Oa9IsU9etTO2PwSrOKom2rhujSvuDihWjjsNuimgsuHHJdHhw9kYFrrildXOSyUOYR8VdffYWmTYu2q/zwww9lrZ5xhRCJJcqZWTlQNT3qmZ3T0tJw44034IV/f4i0Gqno1qEFbDY2cV3Z0HUdfx07g6mvLgXA4a677ir3c5ZZEd92223YtWtXkWV69epV5H5G5UTTNHAcB76IBQkVyfmsXCiKEpJSJ1qsWPERbr+9J/oNZatLKzvx8fH49NNPUadOHbhcrnI9V5kVMfOMuHJRVBW2CLkoRmJEnOtywydKSIgv6DpV0dSuXRu//74XO3bswP79+6EoJfPvZcQOHMchLS0NN998M5xOZ4WcMyKTdYwrC5fHh6pVIjNzrEXAtuvzici8kIMaVWMjIQHHcejQoQM6dIj9zBmM2CA23i0ZlYrzWbkQ5QiN9CIQxVJRVWTnlu+rI4NRnjBFzCgVhBCcz8qBJMkRqS8SI2KdAFk5eRGQhsGIDmEr4m+//TYScjAqCYQQ5Lo88PkjE34yEjZiTdNw9nwWy9bBqLSErYinT5+OJk2aYN68eeU+s8iIPpqu48y588h1eWIqO4bXJ0ZslM5gVDRhK+LNmzfj448/xr59+9C4cWOMHj0a+/fvj4RsjBhE03Rk5bhw7GRGRBZRREqZi5IMKVJ2awajgomIjbht27Z47733sHbtWnzzzTdo3bo1brvtNuzdu7f4gxmVClXTIEkyMrNyImLfjVTkNFVVobDwq4xKSkQU8fr16zFgwADcfffdeOKJJ3D27FmMHDmyQlakMCoWWVagaho8Pj98fjH8EW2ErBt+UWKmCUalJWw/4mbNmqFatWoYO3Ys7r77bnOZ6cCBA/H++++HLSAjtsjOdUFRVLjdXuS6PEhKiA8r2E4kRtUADRLvF6WI1MVgVDRhK+IPP/wQ111XeBLENWvWhFs9I8aQZBk6IfD4/HBHIF9cOKmSQiCEKWJGpSVs08TOnTuRnZ2friYrKwvvvfdeuNUyYhRRpK//qqrhfFZuxEa04UKAiLnUMRgVTdiKeMGCBUhNTTW/V61aFQsWLAi3WkaM4vH5AVCTwqmMTKhqeJNthEROkV/IZos6GJWTsBVxYZM1WiXJIcYoPV5DEYMQeP0iZEUJa8JO1SKniH1+MSbiEjMYpSVsRZyWloaVK1ea3z/55BOkpaWFWy0jRgnYYQmA3Dw3RFGOmYUdHp8/Uk4YDEaFEvZk3dy5czFgwAA8+yxNTx0XF4cvv/wybMEYsUmwzvWJInLdHlRLTY6eQEF4fH4QXQdiJE4yg1FSwlbETZs2xf79+3Hw4EEAQJMmTaKeKYFRfgSbnRRFw9nMLNSvUzMmrrnPJ0LVNFgsLLoro3IRkTuW4zhUqVIFqqri9OnTAICrrroqElUzYozg1WuqquLMuQt0ws5etvoiadaQZBlapNzhGIwKJGxFvGTJEowdOxZWq9VMncNxHDIzM8MWjhF7yEroMmKX2wtRkhEf5yzTwo5Iur9JsgJJkhHvdESsTgajIghbEc+YMQM7duxAkyZNIiEPI8ZRghSxpusQJRk+UUIqIWVSxHoEPWw0ja2uY1ROwp7VqFatGlPCVxAXKzpRkiGHEfUskjGEVbbMmVFJCVsR33nnnZg7dy4yMzPhcrnMD+PyRL4oGaYoSXB7fWVWqBFb4gyq1EUW+IdRCQnbNDF58mQAwNNPPw2O40CMV1S2qOPyRLnIRiwrKjxePzRNh6VMnhORnVy7+EHBYFQGwlbEbCXTlQMhpMDkmqqqYa1oi/RaEEliiphR+YiI5/vOnTuxbNkyAEBubi4yMjIiUS0jxtB0vUAgd1XT4fb4ymybjfSDXJRiZ6Ufg1FSIhL055FHHsG0adMA0Ohr//jHP8KtlhGjaBfFhiC6Dp8owuX2lslOHOmEn2yyjlEZCVsRL1y4EFu3bkVSUhIAoEGDBjh//nzYgjFiD0JIAds/AeD2+ODx+cs0uo306FWS2WQdo/IRtiK22+1wOp0h29gS08sTQgr3cvCLEvyiVKaQmJE2Tbi9Phb4h1HpCFsRV69eHYcOHTKd+ZcsWcKWN19huNxeeH3+mEje6fdLbAKZUemISPS1Bx54AH/++Sfq1auHpKQkfPPNN5GQjRFzkEJturKi4kJ2HjRNg67r5lL3EtUY4eGrxxeOKx2DER3CVsQNGzbEtm3bcPDgQRBCWPS1yxhd1wu16RKiw+Xxwi/KSIiPK9VrVqRtxLKisBExo9IRtiI+ceIEACA+Ph4AWPS1yxhdJ4UqTl0npnkitUpSqUajkVbEqqpBUVU4yxoOjsGIAmEr4uuuu85cUSeKInw+H6pWrcqir12GXMrVjADwSxJcHm+pR6ORHr3qug4pjNgXDEY0CFsRX+yq9tlnn2HPnj3hVsuIRS6hiHVNg6KoyM3zlF4RR3pEbMjCYFQmIp5T5u6778bq1asjXS0jBtAJKVQZE9BYwOezcyHJCnRS+KReoUR4sk7XCUSJLepgVC7CHhEHR1rTNA3btm1j0dcuU3SdXFJvyrICWVHg8fmRlEjnC/gS2IojGRgeoCv/vD4xonUyGOVN2Iq4SpUqpo1YEAQ0atQI8+fPj4RsjBiDkEsrTZ0QuD2+fLNACUfEkY7Sp+t6TPgzMxilgUVfY5SYomIHE0KgKCr8YnQXVKiaFlagegYjGrC844wSU5yrmV+ScCE7F26PL6oR0C7Oq8dgxDphK2Ke5yEIQoFPYHu0ePvtt9GuXTtYrVYzMhwjPIqagAuMiC9k50GSlah6LoiSXCBcJ4MRy4Rtmpg+fTr8fj9GjRoFAHjnnXfgdDoxbty4cKsOi7S0NEybNg0rVqyIqhyXExeHwLwYUZLhF0V4fX7ExzmgaVqFP4ypP3tBr4nSLr1mMCqSsBXx559/jp07d5rfX3zxRVx33XVmCqVoceeddwIA/ve//0VVjsuJoibrADrxJsoKdWErwsMi5JhysCfLisKCwzMqFWEPEdxud8gquszMTLjd7lLV4fF4MHXqVPTq1QupqangOA5LliwptKwkSXjuuedQu3ZtOJ1OdOzYEevWrQunCYwSUpxuo+YJBYqqUkVICl8SHUx5TOzJCj0/U8aMykLYiviZZ55BmzZtMHz4cAwfPhxt27bFhAkTSlXHhQsXMH36dBw4cABt2rQpsuxDDz2E1157DYMHD8a8efMgCAL69OmDn3/+OZxmMEpAca5mNHC8Dp9PpHZiVSt2xFseutIvSkwRMyoVYZsmRo4cia5du2LDhg0AaDbnFi1alKqOtLQ0ZGRkoFatWvj111/Rvn37Qstt374dH3/8MWbPno3x48cDAIYOHYqWLVvi2WefxS+//BJeYxhFUhK9JisqXB4vJEmGpmmwWCp+wlaSZWiaDmvQ3V1ZlbJOCHgj1jfj8iUisxdVq1ZFq1atMGbMGDRp0gRyKdPV2O121KpVq9hyq1atgiAIGDFihLnN4XBg+PDh2LJlC06ePFlq2RklpyRWX0VV4fX5ISkKNJ2Uy4i3WBkUrYDJo3KqYZTPKwMj5ghbEa9atQqdOnXCww8/DAD4448/zImySLNr1y40btzYzI8XoEOHDgCA3bt3m9tUVYUoitA0LeR/RtkpzmsCANxuL1RNR57LA4/XV2yfl4+NWIHXJ0LVdKglWGVX3gtQLtdFT7HQrliQIRKErYhnzZqF3377DVWqVAEAtGnTBsePHw+32kLJyMhAWlpage2BbWfOnDG3vfjii3A6nVi0aBFeeuklOJ1OLFu2rNB6JUmCy+UK+VR2Cg/gTorcX5Y6Q/fTV2ld16Fqmvl/pCOsFYeuE2i6BppRJF/u0rS5uP4rLSU99uJyke65sspR0mMLyM9G9CUibEUsCAKqVq0ass1ms4VbbaH4/X7Y7QUDfjscDnN/gGnTppkTNoHPQw89VGi9s2bNQnJysvmpV69euchfkZSHIpaVopcOa7oOXSfIc3uRm+cBIQRur6/IpKIlGWWXFllRkJPnhqbpUBTFnDCslIo4woqMKeLYJGxFnJiYiHPnzpnJQ7///nukpqaGLVhhOJ1OSIWEOBRF0dxfFiZNmoS8vDzzE01bc7jKorR1lIZiqzUeeLquB33yH4SBkXHIA6EcrLcB7w3zvHq+K11h3hTEOKakyqeo/i1KEV18/kLrLuTYi48pziOkOGVYIoVagrovLlN+913p2lsZCdtr4pVXXkHv3r3x999/o1u3bjh69Gi5xSNOS0szUzEFk5GRAQCoXbt2meq12+2FjrSjASHEfKiVtWx53ZjF2eMIaNAdt9eHPLcHXp8fqk1DclICBIGHrhPYrJYQuctDVlXTcCE7D/Vq14Rm5Nmz223QVA12mxUAQvqNkPzHwcX9WVgfF3WNLt6n6brp9RBoq04ILIJwybov/j/wNxDlMEBJZShMpuLSWRX1kL/UtdMJQXn4dwS3vzBK0p5YJyxFrOs6NE3Dhg0b8Msvv4AQgi5dupj24kiTnp6ODRs2wOVyhUzYbdu2zdzPYDAYlY2wTBM8z2PEiBFITk5G79690adPn3JTwgAwcOBAaJqGhQsXmtskScLixYvRsWPHmLHtXjxyDHwP/hv8Ke74kpwjuN4SyRg0mgk+RtW0kIA5wTKXNJCO3y8h1+VB5oVc6somyWYQoOBJPJrWKPKeLJqqIdflwYXsXCiKCo9PhKbpcHt8UDWa007VNDNKm2xkFVG1/P5TDdt1oJ+ovMH7813ktMDkZNA+1fDWCfYauThzCT1n8e0PHBeQISBf4HpfXEewLIHvwXUF2lPseS+6bwvuJ6ZXyiXLXNTGQN8E91Vh57y4DcH7i7vPS/M7iBXCNk00atQIf/31Fxo2bBhWPW+++SZyc3NNz4evv/4ap06dAgCMGTMGycnJ6NixIwYNGoRJkyYhMzMTDRs2xAcffIBjx47h/fffD7cpjAhBELAJ6yAkOja8gK068H/w3wJlK0wqBqNwwlbE2dnZSE9PR5cuXZCQkGBu/+yzz0pVz5w5c0Lc3j777DOzjiFDhiA5ORkAsHTpUkyZMgXLli1DTk4OWrdujW+++QY33HBDuE2JKLqug4DatXRCAMNWae43VkyRi0amge+arkPgeTNqWHAks2AFoxsTGcH2s2BbXeA8gXKBvHOF/U+M83McZ543OE9dSRWqrhMoqgq/X4LolCBKMmw2K3ieg64bL2F8OdqyCYFfkiDJirnKLj7OAVlVoShKyChMBqAoCqwWCwjREezEQU1vRj8EjX4D1wUcBxh9RQgAjphlqT2X9kXwNQpMXgauPSGAzhknNbYF933I/QEaeImQwLHGvWLISIxrqOsEOm9ct4uuta4TcBytC3roeQM26MC9o6gqrBZLyH0S6N8Amk7AB+5bjoOq6bAApvy6TozrrpuTouZvwphUDcjOGX0ekCe/b+n5VE0DB/rg5DkOmq4bxxCzD4Mj7AXkDNjo9aD2gpCYisYXtiIeNmwYhg0bFrYgx44dK1E5h8OB2bNnY/bs2WGfszwJ3IQWY5IKHL2xzP06AS9wIaOxkNdWzfjBEwIe9CY0FXHghwyAM25mi8CH1s0b5zJuaPOHZM66w/hh0hufM14hOY6nP1TjvLpOwHOGXCXUm5qmQZIV5Hm8sNut8Pr8cNhtsAgCeD7wult+PwJdp2mbfH4RgsBDUTUkxDshy4oZq5gQQBB4qJoGvyjD6bDTH7SugbMaP1yjT6wWgf7oOR6qqkGw8dQrg+fMhyTHcdAIjO+6ca2I+QDVNA1WK1X2qqZDEPggbxJ6Ph75vtiBvg8m4AFCBCDY38SUUdNNU0jguunB15oQ0Ah69NzIfyaa9xBVjFQeUVIgCIJZlzmhedHgQSe0Ig5UefO8lVZtnk8wfw8AvR0DdebLroHneaiaDhvPmx46wb8JVaVL5gO/nYDMhOghfRjUYTBPiHwlzyO/j2OFMiviESNGYOHChRg2bBi+/PJLDBgwIJJyMRgMxhVDmRXxr7/+av7/wgsvMEVsEJj0oU99DYTnoKoqfZJrmvlKRUdRoaMeTaOvtOaoxhg1aZoGzZicCXyHMVLhePpqLfA289VP1zUQwoMDfXW0cBwUVYPAcyC6bsSA0KFxgdc1DjBG7jyvQ1VhuJvpZhs0PXSiqSgIodk6ZFmBJClwe32Ij3NCEHjwPP0IfGBkHvlJFUJ0+PwivD7RHBTR735YLAJ9vSUEFosFmqqZee40nUDgOTNYkSxrUDUddpvVWK1HM4/YrBZ6TXQOgiDQ6438vqSjOw6qqoEQOqFFzQ30OsiyAp7j4BclCIIAuy0wUgz0OR1dBi/P5jg6+pYVFRxHgyvZrHSwp6oqVIsFuk4nuOjoHVCMNx56DB0VyrICi4W6EAZG5XQfZ0wA0nsHoKPbwFuCCno/C4IAzbgH6T7dfNHjeZ7eX0Z/ADDuWwKLRaD3nPE2QP286W9C1XRIkgyr1WKYtTRzwo3jOMOko5nHEqJDUXXjd0aPUTUFHADOlj8ByHG0fTyv55vndAIIPP1NxpDLW9imCeDycKiOGIYi5HmeKkHQG4PneePVymK6/VHbGUHgnT9gUlBU1bhxLCAE0Ej+UmF60+nGTaaDQICiqrDbbeYPQ9MJeE6HZih1i/EKLvCWi5YdB+xvQXY7PT+bhU6I2QbtErPYhRGwESsKNQW4PT4kJ1JfYkEQYLVYAIGEvK5GEl0npuJVVBVWq8VUzPT89CFms+kQJRk8RxWcpumwWqlijeMd8EuyWZ9OiNEeBYkJcYb3AoFutRoPTuO6GYpZEIjxms4bHgAEHK9DVanZxmIR4PH54bDZIBimAI7Pn2DkecE0oXAcVcw2mxWKqkLgOUiyAoHnqV1W1ej1McwPqhowY1HPDVmhAwGe40ylrBNqaiDG+axWC1WahN47AKAoqmE3JyBEM+5jqlBpzGejw42Vk4KQv8Rd4zjwHMx7LWDiUDUNBPR+Isb9pWkaREmmDwSOA1FV86FPzVlGG3UCq2F31wwFbhHofSrLMjiOh8UimB46gkBNIrzxwAzY5zmjzxAbSwcAhKGI/X4/9u7dC0IIRFE0/w/QunXriAjIYDAYlzthKeL+/fub34P/5zgOf//9d3iSVUICK7QCjgb5k2MAQEK+B8oh5C/JnxE3PSpISF1A/t/AJAwxK8s/B31fNLwdEPCwCFqmbJTPj3dLzJlqYsoS1JjS9YQpZrALW6GfMvV0sWcPPYdOzNEQNe/wQXIBOoJlgul9kD+wCN0XeIsJPibQ4MLaCFx0/YKuacDVD6CTYBefkx6LfE8C8x4zRncXtzVQR9CxwfcEubh/AmcLugcRcu/l3xeh7Qt4QAAEwfvyr4JOuILXIuiezb87YcrFBd37+W3LLxXar6H1clzB5d+FtSf/rLFDmRVxSb0criRkRaF2Nk0DOI4uIHA6oBiO/aIkgeM4iDLNqaYa7kGirMAiCPD5RTgdNrg9PlitVkiSDJ7n87MSc5wZJEfTdVgtFvhECbKiwCfy5iuewAuGPZa+klksAvJcHvA8D6fDZs6Mcyp9xbXbbLDbrMjNcyPO6YCm63CrPnAcIPA8NF03bb4lQdcJREnC2fNZEGUZFkEAxwHVq6bAYtiJ4+Oc9BWy1Eq+eAghkCQZ57NzkRDnNGydOhRVxdnzWaibVgOSrKBaSjLy3B7EOR2QZLropGpKMnJdHlgtgmmftAgC3F4fnHY7cvJcECUZDrsVflGGX5TBcYBflCHwPLw+EYqqwmG3QVYU2KxW+qMnBA6HHYqiQpLpNfJ4ffRaGnExHHYbfEZ2kYQ4J7JzXYiPc0CSFDgddro4xsgH6PH56P1jtcLt8UFRqclBVlQoioqEeBp3RVU1eLw++tpPCHyiBIHn4Pb6YbNawHM8OJ4zry2V3W56mLjcPmi6DpvVQk0csmLYrukxcU47NF2Hx+tHapUkKIZdWxOpCYbjaPtkRYVo2MQtggCd6LRvCIHH54ffLxmamF4/TdNgtVjgl2QQQmCzWo1+lsBzvNFeGAt2/EhKiIfXJ0FRVPglGRaBh8Nuh1+UEB9HPWZsNgu8PhHVq6ZAlGQkxsdF/N4rK7HkwcFgMBhXJEwRMxgMRpRhipjBYDCiTETc1xgURVHh9YnQdGqrlRUVbq8PVotgrrjSjKAzFosASVYQ57DD5fEhIc4Jt9eX79soSpAkGYkJcZAVmgfOIlCXJp9fRHyc0wgqQ23Ffr9Eg+gYduf8lVyAzWpBrssDjuPgdNjN1V7UfUiH1SLAZrXi3IVsOOw2CLxg2j0T4p2witT2luf2lKgfAm5wsqzA7fHBbdgoOY6Dqmlw2u1webzlEhQegNkut9cHQghcHh9sVisUTYPb44PTYYesqPB4fVAUFUmJ8aYbXa7LA4sgwC9KiHM6IEoSJFmG1yeabnBZOS6kJCfCL0qwWizmSjSvT0Sc02HYbzU4HXZYjBVvsqygakqykd1ahcvqRVaOC25DNlXTkJQQD0VVaShRjw8eI5yoKMqoWT0VLrcXhBCcJ7kQeOqq5bDbcObcBVRLrQJd1+EXJSiqimqpVUAMN0KPz2+4U1I5dJ0GQKI+3dSFMs7pgGS4kCUlEpzNzALHc/B4qQtganISXB4vbFYrrFYLVFWFotKQp5qmwesX4Rcl+EUJ1VKTkefyIi7OAb9fgt1upfe94SvM87x5L+o6/T24PV4kJcZDUQKumNSFkrrQEfhFCU6HHYQQWK0W2KxWuL30dyPJivG7kqEomtGXcXC5fRBlGZquIzvXhYQ4Jzw+mjzC5xdRPbVKudx/ZYEp4ghCQCfRNJ0Yvp3U11TgDZ9fQpcja7oOXufMMqqqQtM1w2/UcLTXQdPRG8pbDTi5B/43/tKlzwElT8vznGb6LuuEmAqQMxYbBBRgwMFd4zhoho+rwmsgFpj+zJqugw+quzSYPsuGkz+NtkYfFILKm5kzygNi+JuaPqdm31FFp2kaZENhqxrtz0BsA87O0Yk2m5VOfqmamWWEZv1QzesCqHRi1JhA0nRaVpRk6i8N6kcuGTEuAudWObrQR1Ut5vXJ369D5VRzQUjgOgQmwlRVg81mBbT8iTC6wITKpgT8inWSf/8YfuCB71rAv5fw5mIhRVXNRR6yEX9DJXSAEegnnufp/abnB/6neSHptVUUKresKHBoNsOPWzDvVY7nwAfFnzCvhdGniqrBYtFML5fARGZg8AJCvbKsFov5+8mvRzcnxgO+7JrxW1EU47ob17KkkQQrCmaaYDAYjCjDFDGDwWBEGaaIGQwGI8owG3GE0I1FBB6vDzoh8PlEGg9A4OHzS2aMX7vNSmMBWATIxsSNoqhwuX0hWZIDdjlB4CHLCrw+0Zw4ESXZtOnpOjHtXwE7ssNhh88vwm610pVzPEdlAF3775ckOOw2GnSGF8xJn5w8Nxx2GxLj46CodOIRoOv9FVWFzy8W2w/BK5cCtm2vTwTP87BaaBwGRaHxHwL2yPIgYC/1ixJkRYXPiDshyQpyXR5zwlLgeQCcGbxGMCbqZEU1JpJUuD0+iKJkxkhQVA0Ouw1en99cMCPJitH/BD6/3zzearFAVhTwPA+Xx2tMltF5AL8omQtzVE2DRRDg9Yn0GtptyHG5kRDnhF+UcCE7F5KkQCe0XXFOmrlcVTVIkow8txe6rsPnl6DpGhxuGzSdxqrwixJcbi8AOkklybIZ/4I3JlEJIfD6/RB4ATzHw+3xwW6n2dh1XUeuyw2/X4Jipf1hs1ng8fphs1rNmM9urw+SREOK5gVNemqaZraVxo7gEYiRLIo0bjQNgMSb7VE1ml8wMBEXuOcJAZwOGyRZobFEFBWyoiAhPg6iKAXF5/BQu7aqmZOsPM8h1+2B1VicEkswRRwpjFVL2bkucBydbfb6/HA47OaqJU3XEe90gBAC3ohuBgLY7TbkyR5jNppOurg9XjjsNjO2r88vwmGnkx+EELjc3vzEmDarcUOq4HkOSZqOrFwXbFZLfsQ2Y32zKMnIdXmQnBiPCzl5iDNm9hPi45CZlUOD0AgCXG6PuWILoD9Gl7ESrETdAZheHHkujzlRFMAiCHQWPKIXIR/ab7KpfPPcXkiyDF0nyLyQQ2ffLRbEOe10Jt14IFgNDwarRYDbSzcLPAdJUeiEkUBj5go8B5fHB0HgYbVY6Co4pwM+f2D1m448tw67zQafX0RKcqIR8EcGz9NYxT6/CM7HwWKhXggcx+FCTh4IIUg0rkfNqinwiZKx2tJiekYkJ9H64px2c3UlAPhEyWyLomhmEBxFoRNxuXluCIKAOKcdokRXvtltNhqcyeuDwNNJx6xcFxLjnTRqn/HQ0HW6Gi4nz40a1VKQmZWDlKREuL0+2G02qF7VGHwIyMzKgdVqhV+kEfDy3B462YbAg10z72NRpsGVZMNDgk72yUhOTIRfpAMaAvpAIYQgId5pTswFJt5SDc8ijuMgCDw8Xh+dEDQmjF1uL1RNw/kLOTQCW4zBTBMMBoMRZZgiZjAYjCjDFDGDwWBEGaaIGQwGI8owRcxgMBhRhiliBoPBiDLMfS1CSLKC81k5OHkmkyaeNILK0KSJMP/nOA4pSYnIynXBIvCw2200UWRQinWLxQKX22MGbA+46gTyegWCmNttNupvabcZLkoKdMP1ye3xmcG3Az6jNqvFzFKR5/ZAkmXk5AFWiwXxcU6cO58NiyAg1+UGbwQ5DwQuslktyM1zl7g/Av7BkhH0XicEPr8EgMaxsFjy/UnLC5+fuk7phCAn10U3Gv7chABWKw34Hkjoquu6EehHNgPMBOIm+PyikfdMN31dvT7R9P+VZBl5xjUTJZkG3gdnBGtXTNcrh90Gn1+C02lHdo4LNpvFzKHm81NfcZ7n4fZ44fb4AELgl2TIMg0OL0qyEYDJC57njGA9CjRdA8fx8Pr84HkOOXn0GtptViNQjhWq4RseuA953khJbxHgsNtp4gJwyMzKgcvtRbbdZiQWpa5+gfxzoijDL0nweP3IznWZgds9Xj9UTYPLkJ0GoecNP2IZNpvFTJ5qM3x7ZYUGhnLYbeB5DnYb9WcnhNDECkYMiYBPsM1mRWJ8nBloyCII0HQdLrfHdLXTNB1Ohx2CQPsjMT4OfklGnMeOnDw3dfMUYmsMyhRxhNCMKFJ+SYJVMyJuGYFeOI6Dzy/CZrOC6DT7gtfnN4PC6EZwE7q4ALDZaJCTQDoaGtRENwICCfCLoulzGfDHDCiMgNO8KFEfWt1B99HUQPRm5nkeMIKsqJoGzapDEIwFJjxN3Eid6WVIsgyfX4Sm28ykjKUhIH9w8lGLkcixvAkkwwRgZHTgTeVDjIUuAf/agP92oO8shtJVVBWSJEMUZdhsVmNBB30oSjKNsGcRBCOZJQ2sFMjAwfOcGbSHM7KrBHxyBYGHKElGKh+6MMNvLG4IZNAO+EDLxoIHnucgGtHVaCJWHgJPF9vQhLM8JEmGIAiQoJj3F70OgCTLEGUZVp0q1YDfuqDS+06SFBAQcBJHF1CQQMAqAs2arwwVRYXPT6PSUT9r3kzYGojmJxm+8zYbHQhIpq9w4KFkh+CnDzK/SB/QgQh9XiNanM1mhW5cw0D2mYD/t6Zp8PslI8IggW4o68DiI96ITucXZeNBqZjJU0VJMpKrxg6x9VhgMBiMKxCmiBkMBiPKMEXMYDAYUYYpYgaDwYgyTBEzGAxGlGGKmMFgMKIMU8QMBoMRZZgiZjAYjCjDFDGDwWBEGaaIGQwGI8owRcxgMBhRhsWaiBBnM7Nw4vQ5nM3Mgs1mhSQpUFUV4ACeo4kjA4FkOCMoi8Nug08UzTgTOtGh6zQwjMvthdVqgcNug2rEk+AF3swppmk6vEaQFZvNClmmCSp1XYcsK0bCUmNtv18y194DQQk+CQHP8/D5AVGSzXxnsqwizwiCo2oaTSRpJHIsC5KiQtMJLBYBqhEHIBCcpTzRCTHbqqoawOngEBy/g/arJAfiXhB4/SJUlQauCcSHyHN7aTJWG80hKCuKmRhV1TSz3wWexpEI5ETjBR6KEYtCllXoRDdjLdB4FYoZQySQ+FWSFTPvmqbR+0FWFMgyjXkRiEuiE5r4M5BsNBDTRFU12hLj2lotFiPoj8WMDcEBAAc4bDb4jBgWDpvNCHxE6H0jK7BIFjNwlG7sC5xHUVVaxiKYMR5oUCcCVVWhqBok2QJN043AQYDH66exP4L63++XzNyGRKcJeGlMCRjxMzgzLglNlkvvb83I3eew2yDLCqxWCwAOHAcjyJYfHEfjV0iSDE3XkWvkTpQVBTartVzvvdLCFHGE8Pj8cHvoDzZwgwV+3jzHmUkVia7D75cgSTJ444bWVM1MWhkIjuM3MtICMDPO8kbELF0nppJRVRqdSjIiWgUC60gyDf5CCIFflAwlyIPjeRBdBwHMH2hAcVCFHzheoRHE/PRG1nUaeKUs6LoOnQOIzhlBh3QQIpQpiFBZIQBACIghjxr0EFA1HbyhLFQjM7au62ZfS7ICRaFKQdV0Gr3LCFSjaTTqGSE6iBH8h34nEHSePrxsAIzswrpOgh6aGlQ1P6iTKHFmnwSC0kgcPTd9+GqmTIpC5eU4GvyJXhsaKS1wf/CGYqbBniz59yDR6cOQp0GCaHCi/AdU4L4MBNvhwJlKUFU1WCwWEJ32g43QrOSaoJkJTGldOkCIeU6LwJuJaAVBAFEBjlMgShJoFm0CXdeMh59mXgMaAIkYwZo0KAq9BsR4aPE8D1GSoekEgpEsNCA/ADjsdiiKambgDvwmyi1rbRlhpgkGg8GIMkwRMxgMRpRhipjBYDCiDFPEDAaDEWWYImYwGIwow7wmCiHg8uRyuUp8jMfjgd/ngyT6oWsqJPEirwlRhMAREF2HhecgiX7w0MHxHDRVg66pptcEiGbUYwEH3ZxJv5TXBHSaUodoRl4xXTVT5mgCD0n0Q7MIEPiCXhO6Rr0mdF2FJPpBiA7dYjG9JqBrkEQRukZn7bUypDjiOA6awIXUKwjUa6Is9ZXmvIXlxNMtPFSNQBMMTwmNgKf/mv0b/D8HHZIoAbpqek1whHqQBHtNCBd7TQg8JFkFdHr9CAHdJsngoEOWZdP1TdUIoKsFvCZ0zWJ4TWjguXyZdM0S0saCXhMAz8H0kgj0fbDXBGfcZzzPgehaAa8Jsz1ED/Ka0KFZ6H0lKyqIrhpeEzwkSTH6t+A5tYu8Jnieh65ZIIl+AJzpRcIRHZIkGZ4SfAGvCd1iMe9hSVLAQ4ckytA1tVCvCY5Q98BgrwlN4EE0rVS/70DZ8sqxyJHyzN5YSTl16hTq1asXbTEYDEaMcfLkSdStWzfi9TJFXAi6ruPMmTNITEw0ndEvhcvlQr169XDy5EkkJSVVkITR40pq75XUVuDKam9p20oIgdvtRu3atWny3QjDTBOFwPN8qZ96SUlJl/3NG8yV1N4rqa3AldXe0rQ1OTm53ORgk3UMBoMRZZgiZjAYjCjDFHGY2O12TJ06FXa7PdqiVAhXUnuvpLYCV1Z7Y62tbLKOwWAwogwbETMYDEaUYYqYwWAwogxTxAwGgxFlmCJmMBiMKMMUcRmRJAnPPfccateuDafTiY4dO2LdunXRFqvEbNy4ERzHFfrZunVrSNlffvkF3bp1Q1xcHGrVqoWxY8fC4/EUqDNW+sTj8WDq1Kno1asXUlNTwXEclixZUmjZAwcOoFevXkhISEBqaioefPBBnD9/vkA5Xdfx6quv4pprroHD4UDr1q3x0UcfhVVnJChpWx966KFCr3XTpk0LlI3Vtu7YsQP//Oc/0aJFC8THx+Oqq67Cvffei0OHDpVZrphpK2GUifvvv59YLBYyfvx48u6775LOnTsTi8VCNm3aFG3RSsSGDRsIADJ27FiybNmykM/58+fNcrt27SIOh4O0bduWvP3222Ty5MnEbreTXr16FagzVvrk6NGjBAC56qqryE033UQAkMWLFxcod/LkSVKtWjXSoEEDMm/ePPLSSy+RlJQU0qZNGyJJUkjZiRMnEgDkscceIwsXLiR9+/YlAMhHH31U5jorsq3Dhg0jdru9wLX+6quvCpSN1bbec889pFatWmTMmDHkvffeIzNmzCA1a9Yk8fHxZO/evWWSK1bayhRxGdi2bRsBQGbPnm1u8/v9pEGDBqRz585RlKzkBBTxp59+WmS53r17k7S0NJKXl2due++99wgA8u2335rbYqlPRFEkGRkZhBBCduzYcUnlNGrUKOJ0Osnx48fNbevWrSMAyLvvvmtuO3XqFLFareSJJ54wt+m6Trp3707q1q1LVFUtdZ2RoqRtHTZsGImPjy+2vlhu6+bNmwsovUOHDhG73U4GDx5carliqa1MEZeBCRMmEEEQQpQTIYTMnDmTACAnTpyIkmQlJ1gRu1wuoihKgTJ5eXnEYrGQCRMmhGyXJIkkJCSQ4cOHm9titU+KUk41atQggwYNKrC9cePG5JZbbjG/v/XWWwQA+eOPP0LKrVixggAIGfGXtM7yoCSKWFXVAtcomMrS1mDatWtH2rVrV2q5YqmtzEZcBnbt2oXGjRsXCBbSoUMHAMDu3bujIFXZePjhh5GUlASHw4EePXrg119/Nfft3bsXqqri+uuvDznGZrMhPT0du3btMrdVtj45ffo0MjMzC7QNoDJf3Lb4+Hg0a9asQLnA/tLWGQ18Ph+SkpKQnJyM1NRUPPHEEwVs/ZWtrYQQnDt3DtWqVSu1XLHUVhZ9rQxkZGQgLS2twPbAtjNnzlS0SKXGZrPhnnvuQZ8+fVCtWjXs378fc+bMQffu3fHLL7+gbdu2yMjIAIBLtnXTpk3m98rWJ8W1LTs7G5IkwW63IyMjAzVr1iwQEvXitpWmzoomLS0Nzz77LNq1awdd17F27VosWLAAe/bswcaNG2GxUFVQ2dq6fPlynD59GtOnTy+1XLHUVqaIy4Df7y+00x0Oh7k/1unSpQu6dOlifu/fvz8GDhyI1q1bY9KkSVi7dq3Zjku1Nbidla1PimtboIzdbi9x20pTZ0Uza9askO/3338/GjdujMmTJ2PVqlW4//77i5QvFtv6559/4oknnkDnzp0xbNiwUssVS21lpoky4HQ6IUlSge2iKJr7KyMNGzbEgAEDsGHDBmiaZrbjUm0Nbmdl65Pi2hZcpqRtK02dscBTTz0Fnuexfv16c1tlaevZs2fRt29fJCcnY9WqVWZqqcp6XZkiLgNpaWnm60owgW21a9euaJEiRr169SDLMrxer/kqdqm2BrezsvVJcW1LTU01RzhpaWk4e/ZsgXxlF7etNHXGAk6nE1WrVkV2dra5rTK0NS8vD71790Zubi7Wrl1b4D4sqVyx1FamiMtAeno6Dh06VCD54LZt28z9lZW///4bDocDCQkJaNmyJSwWS8gEHgDIsozdu3eHtLOy9UmdOnVQvXr1Am0DgO3btxdom8/nw4EDB0LKXdy20tQZC7jdbly4cAHVq1c3t8V6W0VRRL9+/XDo0CF88803aN68ecj+Sntdw/a7uALZunVrAZ9ZURRJw4YNSceOHaMoWcnJzMwssG337t3EarWS/v37m9t69epF0tLSiMvlMrctWrSIACBr1qwxt8VqnxTl0vX4448Tp9MZ4lq3fv16AoC8/fbb5raTJ09e0t+0Tp06If6mJa2zPLhUW/1+f8j1CzBhwgQCgHz22Wfmtlhuq6qqpH///sRisZDVq1dfslxlvK5MEZeRQYMGmT627777LunSpQuxWCzkxx9/jLZoJaJHjx6kT58+5MUXXyQLFy4k48aNI3FxcSQ5OZns37/fLLdz505it9tDVtY5HA7Ss2fPAnXGUp+88cYbZMaMGWTUqFEEALn77rvJjBkzyIwZM0hubi4hhJATJ06QqlWrkgYNGpD58+eTmTNnkpSUFNKqVSsiimJIfQGlNWLECPLee++ZK7CWL18eUq40dVZUW48ePUqqVKlCRo0aRebNm0fmzZtH+vTpQwCQXr16EU3TKkVbn3zySQKA9OvXr8AKwWXLlpVJrlhpK1PEZcTv95Px48eTWrVqEbvdTtq3b0/Wrl0bbbFKzLx580iHDh1IamoqsVgsJC0tjQwZMoQcPny4QNlNmzaRLl26EIfDQapXr06eeOKJQkdYsdQn9evXJwAK/Rw9etQst2/fPtKzZ08SFxdHqlSpQgYPHkzOnj1boD5N08jMmTNJ/fr1ic1mIy1atCAffvhhoecuaZ2Rori25uTkkCFDhpCGDRuSuLg4YrfbSYsWLcjMmTOJLMuVpq033njjJdt58ct9ZbuuLEMHg8FgRBk2WcdgMBhRhiliBoPBiDJMETMYDEaUYYqYwWAwogxTxAwGgxFlmCJmMBiMKMMUMYPBYEQZpogZDAYjyjBFzCgX0tPTkZ6ejubNm0MQBPP7fffdh+effx7Lly+PilyyLOOOO+5Aq1at8MQTTxTYf/XVV6NJkyamvI8++igAmgV57ty5AIB33nkHs2fPLvZcGzduvGRAmNzcXLz88stFHut0OpGeno7MzMziG3YJBg8ejFq1amHcuHFlroNR/rDA8IxyIZAa6dixY0hPT4+ZVEm7du3C4cOHcfDgwUuW+eSTT4qMqPX444+HLUdAEU+cOPGSZZo0aRJ2vy1fvhzTpk1Dbm5uWPUwyhc2ImZUOMGjy2nTpuHee+9Fv3790LhxY9xxxx3Yt28fbr/9djRu3BgPPPAAdF0HQMM2PvbYY+jQoQNat26NESNGQJblQs8xe/ZstGjRAq1atcLgwYORl5eH/fv3Y/DgwThx4gTS09OxdOnSMsk/bdo0c4SpKApGjx6Nxo0bo1OnTnjmmWdw0003mWVVVcXo0aPRpk0btGjRwgyl+Pjjj8PtdiM9Pb3QXGiFcdNNN2H8+PHo3r07GjRoEPJAWLRoEZo3b4709HS0atXKDOXIqBwwRcyIOr/++iuWLl2KgwcPwu1249FHH8WqVauwf/9+HDhwAGvWrAEAPPPMM+jevTu2b9+OPXv2QNd1zJs3r0B9a9aswX/+8x9s3rwZe/fuRXx8PCZOnIjmzZtj0aJF5khz6NChhcpz3333maaJzz//vEjZFy5ciMOHD+OPP/7Apk2b8Pvvv4fs//PPPzFs2DDs2bMHY8aMweTJkwFQ80ZiYiJ2795daJzbS3HkyBFs2LAB+/btw7fffostW7aYffP9999j9+7d+O2339CiRYsS18mIPsw0wYg6PXv2REpKCgCgXbt2sNvtSExMBAC0bdsWhw8fBgB88cUX2LJlC1577TUANE9YIEVOMOvXr8d9992HKlWqAABGjRqFQYMGlVie4kwTwXz//fcYMmQIrFYrAGDYsGFYtGiRub9hw4bo2LEjAKBz586YM2dOieUojPvuuw8WiwUWiwXp6ek4cuQIOnfujFtuuQUPPvgg+vXrh969e6Nx48ZhnYdRsTBFzIg6gQSMACAIQoHvqqoCoKnT//vf/5ZayVycpbc8ufhcl2pLWblUff/973+xc+dObNy4EX369MGLL75oJgRlxD7MNMGoNNx555145ZVXTOWTk5ODv/76q0C5W2+9FStXrjTTNr377rvo2bNnuch08803Y8WKFVAUBYqilNjunJSUBL/ff0kbd2lQVRVHjhzB9ddfj/Hjx2PgwIHYvn172PUyKg42ImZUGl5//XVMnDgR6enp4HkeFosFr776Kho2bBhSrnfv3ti3bx86d+4MnufRunVrLFiwoFxkGjlyJPbu3YvmzZsjJSUF119/Pc6cOVPscampqRg6dChat26NhISEUtmJL0bTNDzyyCPIzs6GxWJB9erVsXjx4jLXx6h4WGB4BiNM3G43EhMToSgKBg8ejOuuuw7PPfdcWHVu3LgR48aNi4jbX8B9LeCpwog9mGmCwQiTW2+91XQbS0pKwtixY8Ou02azISsrKyILOj788EMkJSWFLROj/GAjYgaDwYgybETMYDAYUYYpYgaDwYgyTBEzGAxGlGGKmMFgMKIMU8QMBoMRZZgiZjAYjCjDFDGDwWBEGaaIGQwGI8owRcxgMBhRhiliBoPBiDJMETMYDEaUYYqYwWAwogxTxAwGgxFlmCJmMBiMKPP/L2lPL367YVcAAAAASUVORK5CYII=' width=354.3307086614173/>\n",
       "            </div>\n",
       "        "
      ],
      "text/plain": [
       "Canvas(toolbar=Toolbar(toolitems=[('Home', 'Reset original view', 'home', 'home'), ('Back', 'Back to previous …"
      ]
     },
     "metadata": {},
     "output_type": "display_data"
    },
    {
     "name": "stdout",
     "output_type": "stream",
     "text": [
      "Mass resolving power for the highest peak (MRP --> m/m_2-m_1): 14.17957025371643\n",
      "Peaks  0 is at location and height: (681.09, 2158.00) peak window sides (50.00%) are: (680.99, 681.09)\n",
      "Peaks  1 is at location and height: (691.16, 2574.00) peak window sides (50.00%) are: (673.52, 722.26)\n",
      "Peaks  2 is at location and height: (702.72, 2124.00) peak window sides (50.00%) are: (702.62, 702.72)\n",
      "Peaks  3 is at location and height: (714.79, 1708.00) peak window sides (50.00%) are: (714.59, 714.79)\n"
     ]
    }
   ],
   "source": [
    "percent_mrp = 50\n",
    "peaks_ini, peaks_y_ini, peak_widths_p_ini, _ = tools.hist_plot(dld_t[dld_t < 2000], 0.1, prominence=200, distance=100, h_line=True, text_loc='right', percent=percent_mrp, plot=True, label='tof', fig_name=figname, fig_size=(9/2.54, 6/2.54))\n",
    "index_max_ini = np.argmax(peaks_y_ini)\n",
    "mrp = (peaks_ini[index_max_ini] / (peak_widths_p_ini[index_max_ini][2] - peak_widths_p_ini[index_max_ini][1]))\n",
    "print('Mass resolving power for the highest peak (MRP --> m/m_2-m_1):', mrp)\n",
    "for i in range(len(peaks_ini)):\n",
    "    print('Peaks ', i, 'is at location and height: ({:.2f}, {:.2f})'.format(peaks_ini[i], peaks_y_ini[i]), 'peak window sides ({:.2f}%) are: ({:.2f}, {:.2f})'.format(percent_mrp, peak_widths_p_ini[i][1], peak_widths_p_ini[i][2]))"
   ]
  },
  {
   "cell_type": "markdown",
   "metadata": {
    "pycharm": {
     "name": "#%% md\n"
    }
   },
   "source": [
    "$$\\textbf{Below plotted graph offers peak selection. You can select relevant peaks you want for computation.}$$"
   ]
  },
  {
   "cell_type": "code",
   "execution_count": 33,
   "metadata": {
    "pycharm": {
     "name": "#%%\n"
    }
   },
   "outputs": [
    {
     "name": "stdout",
     "output_type": "stream",
     "text": [
      "The peak index for MRP calculation is: 1\n"
     ]
    },
    {
     "data": {
      "application/vnd.jupyter.widget-view+json": {
       "model_id": "dcad0f73444d4972818a4710b466bbea",
       "version_major": 2,
       "version_minor": 0
      },
      "image/png": "[encoded data removed]",
      "text/html": [
       "\n",
       "            <div style=\"display: inline-block;\">\n",
       "                <div class=\"jupyter-widgets widget-label\" style=\"text-align: center;\">\n",
       "                    Figure\n",
       "                </div>\n",
       "                <img src='data:image/png;base64,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' width=354.3307086614173/>\n",
       "            </div>\n",
       "        "
      ],
      "text/plain": [
       "Canvas(toolbar=Toolbar(toolitems=[('Home', 'Reset original view', 'home', 'home'), ('Back', 'Back to previous …"
      ]
     },
     "metadata": {},
     "output_type": "display_data"
    },
    {
     "name": "stdout",
     "output_type": "stream",
     "text": [
      "Mass resolving power for the highest peak (MRP --> m/m_2-m_1): 24.54545454824744\n",
      "Peaks  0 is at location and height: (13.61, 4168.00) peak window sides (50.00%) are: (12.90, 13.81)\n",
      "Peaks  1 is at location and height: (27.01, 98426.00) peak window sides (50.00%) are: (26.11, 27.21)\n"
     ]
    }
   ],
   "source": [
    "percent_mrp = 50\n",
    "lim = 400\n",
    "mc_seb_ini = mc_tools.tof2mc(dld_t, t0_d.value, dld_highVoltage, dld_pulseVoltage, dld_x, dld_y, flightPathLength_d.value, mode=pulse_mode.value)\n",
    "peaks_ini, peaks_y_ini, peak_widths_p_ini, _ = tools.hist_plot(mc_seb_ini[mc_seb_ini < lim], 0.1, prominence=50, distance=100, h_line=True, text_loc='right', percent=percent_mrp, plot=True, fig_name=figname)\n",
    "index_max_ini = np.argmax(peaks_y_ini)\n",
    "mrp = (peaks_ini[index_max_ini] / (peak_widths_p_ini[index_max_ini][2] - peak_widths_p_ini[index_max_ini][1]))\n",
    "print('Mass resolving power for the highest peak (MRP --> m/m_2-m_1):', mrp)\n",
    "for i in range(len(peaks_ini)):\n",
    "    print('Peaks ', i, 'is at location and height: ({:.2f}, {:.2f})'.format(peaks_ini[i], peaks_y_ini[i]), 'peak window sides ({:.2f}%) are: ({:.2f}, {:.2f})'.format(percent_mrp, peak_widths_p_ini[i][1], peak_widths_p_ini[i][2]))"
   ]
  },
  {
   "cell_type": "code",
   "execution_count": 34,
   "metadata": {},
   "outputs": [],
   "source": [
    "bin_size=widgets.FloatText(value=0.1, description='bin size:')\n",
    "prominence=widgets.IntText(value=100, description='peak prominance:')\n",
    "distance=widgets.IntText(value=500, description='peak distance:')\n",
    "lim_tof=widgets.IntText(value=1500, description='lim tof/mc:')\n",
    "percent=widgets.IntText(value=50, description='percent MRP:')\n",
    "\n",
    "def hist_plot(figname, plot):\n",
    "    \n",
    "    with out:\n",
    "        clear_output(True)\n",
    "    \n",
    "        bin_size_p = bin_size.value\n",
    "        prominence_p = prominence.value\n",
    "        distance_p = distance.value\n",
    "        lim_tof_p = lim_tof.value\n",
    "        percent_p = percent.value\n",
    "        selector = 'rect'\n",
    "        peaks_ini, peaks_y_ini, peak_widths_p_ini, _ = tools.hist_plot(variables.dld_t_calib[variables.dld_t_calib < lim_tof_p], bin_size_p, distance=distance_p, percent=percent_p, prominence=prominence_p, selector=selector, plot=plot, label='tof', fig_name=figname+'calib')\n",
    "        index_max_ini = np.argmax(peaks_y_ini)\n",
    "        variables.max_peak = peaks_ini[index_max_ini]\n",
    "        variables.peak = peaks_ini\n",
    "        mrp = (peaks_ini[index_max_ini] / (peak_widths_p_ini[index_max_ini][2] - peak_widths_p_ini[index_max_ini][1]))\n",
    "        print('Mass resolving power for the highest peak (MRP --> m/m_2-m_1):', mrp)\n",
    "        for i in range(len(peaks_ini)):\n",
    "            print('Peaks ', i, 'is at location and height: ({:.2f}, {:.2f})'.format(peaks_ini[i], peaks_y_ini[i]), 'peak window sides ({:.2f}%) are: ({:.2f}, {:.2f})'.format(percent_p, peak_widths_p_ini[i][1], peak_widths_p_ini[i][2]))"
   ]
  },
  {
   "cell_type": "code",
   "execution_count": 35,
   "metadata": {},
   "outputs": [],
   "source": [
    "sample_size_b = widgets.IntText(value=11, description='sample size:') \n",
    "index_fig_b = widgets.IntText(value=1, description='fig index:')\n",
    "plot_b = widgets.Dropdown(\n",
    "    options=[('False', False), ('True', True)],\n",
    "    description='plot fig:'\n",
    ")\n",
    "\n",
    "save_b = widgets.Dropdown(\n",
    "    options=[('False', False), ('True', True)],\n",
    "    description='save fig:'\n",
    ")\n",
    "def bowl_correction(dld_x, dld_y, dld_highVoltage, figname=figname):\n",
    "    with out:\n",
    "        sample_size_p = sample_size_b.value\n",
    "        index_fig_p = index_fig_b.value\n",
    "        plot_p = plot_b.value\n",
    "        save_p = save_b.value\n",
    "\n",
    "        calibration.bowl_correction_main(dld_x, dld_y, dld_highVoltage, det_diam.value, sample_size=sample_size_p, calibration_mode='tof',\n",
    "                                        index_fig=index_fig_p, plot=plot_p, save=save_p)\n"
   ]
  },
  {
   "cell_type": "code",
   "execution_count": 36,
   "metadata": {},
   "outputs": [],
   "source": [
    "sample_size_v =widgets.IntText(value=100, description='sample size:') \n",
    "index_fig_v = widgets.IntText(value=1, description='fig index:')\n",
    "plot_v = widgets.Dropdown(\n",
    "    options=[('False', False), ('True', True)],\n",
    "    description='plot fig:'\n",
    ")\n",
    "save_v = widgets.Dropdown(\n",
    "    options=[('False', False), ('True', True)],\n",
    "    description='save fig:'\n",
    ")\n",
    "mode_v = widgets.Dropdown(\n",
    "    options=[('ion_seq', 'ion_seq'), ('voltage', 'voltage')],\n",
    "    description='sample mode:'\n",
    ")\n",
    "peak_mode = widgets.Dropdown(\n",
    "    options=[('peak', 'peak'), ('mean', 'mean'), ('median', 'median')],\n",
    "    description='peak mode:'\n",
    ")\n",
    "def vol_correction(dld_highVoltage, figname):\n",
    "    with out:\n",
    "        sample_size_p = sample_size_v.value\n",
    "        index_fig_p = index_fig_v.value\n",
    "        plot_p = plot_v.value\n",
    "        save_p = save_v.value\n",
    "        mode_p = mode_v.value\n",
    "        peak_mode_p = peak_mode.value\n",
    "        calibration.voltage_corr_main(dld_highVoltage, sample_size=sample_size_p, calibration_mode='tof',\n",
    "                                        index_fig=index_fig_p, plot=plot_p, save=save_p, mode=mode_p, peak_mode=peak_mode_p)\n"
   ]
  },
  {
   "cell_type": "code",
   "execution_count": 37,
   "metadata": {},
   "outputs": [
    {
     "data": {
      "application/vnd.jupyter.widget-view+json": {
       "model_id": "e9e3206cdc264bb6b231eea6e711d197",
       "version_major": 2,
       "version_minor": 0
      },
      "text/plain": [
       "VBox(children=(Tab(children=(VBox(children=(FloatText(value=0.1, description='bin size:'), IntText(value=100, …"
      ]
     },
     "metadata": {},
     "output_type": "display_data"
    },
    {
     "data": {
      "application/vnd.jupyter.widget-view+json": {
       "model_id": "3eb48d0324684c379186c67a26db3aae",
       "version_major": 2,
       "version_minor": 0
      },
      "text/plain": [
       "Output()"
      ]
     },
     "metadata": {},
     "output_type": "display_data"
    }
   ],
   "source": [
    "pb_bowl = widgets.HTML(\n",
    "    value=\" \",\n",
    "    placeholder='Status:',\n",
    "    description='Status:',\n",
    ")\n",
    "pb_vol = widgets.HTML(\n",
    "    value=\" \",\n",
    "    placeholder='Status:',\n",
    "    description='Status:',\n",
    ")\n",
    "plot_button = widgets.Button(\n",
    "    description='plot hist',\n",
    ")\n",
    "plot_fdm_button = widgets.Button(\n",
    "    description='plot FDM',\n",
    ")\n",
    "reset_button = widgets.Button(\n",
    "    description='reset back correction',\n",
    ")\n",
    "save_button = widgets.Button(\n",
    "    description='save correction',\n",
    ")\n",
    "bowl_button = widgets.Button(\n",
    "    description='bowl correction',\n",
    ")\n",
    "vol_button = widgets.Button(\n",
    "    description='voltage correction',\n",
    ")\n",
    "bin_fdm = widgets.IntText(value=256, description='bin FDM:')\n",
    "    \n",
    "@plot_button.on_click\n",
    "def plot_on_click(b, figname=figname, plot=True):\n",
    "    hist_plot(figname, plot)\n",
    "\n",
    "@plot_fdm_button.on_click\n",
    "def plot_fdm_on_click(b, save=True):\n",
    "    with out:\n",
    "        clear_output(True)\n",
    "        if variables.selected_x1 == 0 or variables.selected_x2 == 0:\n",
    "            print('Please first select a peak')\n",
    "        else:\n",
    "            print('Selected tof are: (%s, %s)' %(variables.selected_x1, variables.selected_x2)) \n",
    "            mask_temporal = np.logical_and((variables.dld_t_calib > variables.selected_x1),\n",
    "                                           (variables.dld_t_calib < variables.selected_x2))\n",
    "            x = dld_x[mask_temporal]\n",
    "            y = dld_y[mask_temporal]\n",
    "            bin_fdm_p = bin_fdm.value\n",
    "            bins = [bin_fdm_p, bin_fdm_p]\n",
    "\n",
    "            calibration.plot_FDM(x, y, save, bins)\n",
    "    \n",
    "@reset_button.on_click\n",
    "def reset_on_click(b, figname=figname, plot=True):\n",
    "    variables.dld_t_calib = np.copy(variables.dld_t_calib_backup)\n",
    "@save_button.on_click\n",
    "def save_on_click(b, figname=figname, plot=True):\n",
    "    variables.dld_t_calib_backup = np.copy(variables.dld_t_calib)\n",
    "    \n",
    "@bowl_button.on_click\n",
    "def bowl_on_click(b, dld_x=dld_x, dld_y=dld_y, dld_highVoltage=dld_highVoltage, figname=figname):\n",
    "    with out:\n",
    "        clear_output(True)\n",
    "        pb_bowl.value = \"<b>Starting...</b>\"\n",
    "        if variables.selected_x1 == 0 or variables.selected_x2 == 0:\n",
    "            print('Please first select a peak')\n",
    "        else:\n",
    "            print('Selected tof are: (%s, %s)' %(variables.selected_x1, variables.selected_x2))\n",
    "            bowl_correction(dld_x, dld_y, dld_highVoltage, figname)  \n",
    "        pb_bowl.value = \"<b>Flished</b>\"\n",
    "@vol_button.on_click\n",
    "def vol_on_click(b, dld_highVoltage=dld_highVoltage, figname=figname):\n",
    "    with out:\n",
    "        clear_output(True)\n",
    "        pb_vol.value = \"<b>Starting...</b>\"\n",
    "        if variables.selected_x1 == 0 or variables.selected_x2 == 0:\n",
    "            print('Please first select a peak')\n",
    "        else:\n",
    "            print('Selected tof are: (%s, %s)' %(variables.selected_x1, variables.selected_x2))\n",
    "            vol_correction(dld_highVoltage, figname)\n",
    "        pb_vol.value = \"<b>Flished</b>\"\n",
    "    \n",
    "\n",
    "\n",
    "tab1 = VBox(children=[bin_size, prominence, distance, lim_tof, percent, bin_fdm])\n",
    "tab2 = VBox(children=[HBox(children=[sample_size_b, index_fig_b, plot_b, save_b]), bowl_button, pb_bowl])\n",
    "tab3 = VBox(children=[HBox(children=[sample_size_v, index_fig_v, mode_v, peak_mode, plot_v, save_v]), vol_button, pb_vol])\n",
    "\n",
    "tab = widgets.Tab(children=[tab1, tab2, tab3])\n",
    "tab.set_title(0, 'tof/mc plot')\n",
    "tab.set_title(1, 'bowl correction')\n",
    "tab.set_title(2, 'voltage correction')\n",
    "\n",
    "\n",
    "\n",
    "display(VBox(children=[tab,HBox(children=[plot_button, plot_fdm_button, save_button, reset_button])]))\n",
    "out = Output()\n",
    "display(out)"
   ]
  },
  {
   "cell_type": "code",
   "execution_count": null,
   "metadata": {},
   "outputs": [],
   "source": [
    "# fitresult = [ 1.59856266e+00,  5.68765920e-09, -1.41281563e-04]\n",
    "# f_v = calibration.voltage_corr(data['high_voltage (V)'].to_numpy(), *fitresult)\n",
    "# variables.dld_t_calib = variables.dld_t_calib * (1 / f_v)"
   ]
  },
  {
   "cell_type": "code",
   "execution_count": 22,
   "metadata": {},
   "outputs": [],
   "source": [
    "# parameters = [ 9.88684464e-01, -2.17639093e-04 , 2.36038428e-04,  3.44156992e-05, -2.62895576e-06,  3.28072030e-05]\n",
    "# f_bowl = calibration.bowl_corr_fit([data['x_det (cm)'].to_numpy()* 10, data['y_det (cm)'].to_numpy()* 10], *parameters)\n",
    "# variables.dld_t_calib = variables.dld_t_calib * 1 / f_bowl"
   ]
  },
  {
   "cell_type": "code",
   "execution_count": 53,
   "metadata": {
    "tags": []
   },
   "outputs": [],
   "source": [
    "xxxx = np.copy(variables.dld_t_calib)"
   ]
  },
  {
   "cell_type": "code",
   "execution_count": 55,
   "metadata": {},
   "outputs": [],
   "source": [
    "variables.dld_t_calib_backup = np.copy(variables.dld_t_calib)"
   ]
  },
  {
   "cell_type": "code",
   "execution_count": 56,
   "metadata": {
    "tags": []
   },
   "outputs": [],
   "source": [
    "# np.save(\"t_171_c.npy\", variables.dld_t_calib)"
   ]
  },
  {
   "cell_type": "code",
   "execution_count": 57,
   "metadata": {},
   "outputs": [
    {
     "data": {
      "application/vnd.jupyter.widget-view+json": {
       "model_id": "c06a49b37d5545bd8ee11150a75744ed",
       "version_major": 2,
       "version_minor": 0
      },
      "text/plain": [
       "interactive(children=(FloatText(value=0.1, description='bin_size'), IntText(value=50, description='prominence'…"
      ]
     },
     "metadata": {},
     "output_type": "display_data"
    }
   ],
   "source": [
    "def tof_his(bin_size, prominence, distance, percent, selector, plot, figname, lim_dld_t):\n",
    "    variables.peaks_idx = []\n",
    "    peaks_ini, peaks_y_ini, peak_widths_p_ini, _ = tools.hist_plot(variables.dld_t_calib[variables.dld_t_calib < lim_dld_t], bin_size, distance=distance, percent=percent, prominence=prominence, selector=selector, peaks_find_plot=True, plot=plot, label='tof', fig_name=figname)\n",
    "    index_max_ini = np.argmax(peaks_y_ini)\n",
    "    variables.max_peak = peaks_ini[index_max_ini]\n",
    "    variables.peak = peaks_ini\n",
    "    mrp = (peaks_ini[index_max_ini] / (peak_widths_p_ini[index_max_ini][2] - peak_widths_p_ini[index_max_ini][1]))\n",
    "    print('Mass resolving power for the highest peak (MRP --> m/m_2-m_1):', mrp)\n",
    "    for i in range(len(peaks_ini)):\n",
    "                   print('Peaks ', i+1, 'is at location and height: ({:.2f}, {:.2f})'.format(peaks_ini[i], peaks_y_ini[i]), 'peak window sides ({:.2f}%) are: ({:.2f}, {:.2f})'.format(percent, peak_widths_p_ini[i][1], peak_widths_p_ini[i][2]))\n",
    "interact_manual(tof_his, bin_size=widgets.FloatText(value=0.1)\n",
    "               ,prominence=widgets.IntText(value=50), distance=widgets.IntText(value=100), lim_dld_t=widgets.IntText(value=1500)\n",
    "               ,percent=widgets.IntText(value=50), selector=fixed('peak'), plot=fixed(True), figname=fixed(figname));\n"
   ]
  },
  {
   "cell_type": "code",
   "execution_count": 98,
   "metadata": {
    "pycharm": {
     "name": "#%%\n"
    }
   },
   "outputs": [
    {
     "data": {
      "application/vnd.jupyter.widget-view+json": {
       "model_id": "b602453cd78e4c5c93d4fccb6fc17e37",
       "version_major": 2,
       "version_minor": 0
      },
      "text/plain": [
       "Dropdown(description='Elements', options=(('H (1) (99.98)', 'H(1)[1.01]'), ('H (2) (0.01)', 'H(2)[2.01]'), ('H…"
      ]
     },
     "metadata": {},
     "output_type": "display_data"
    },
    {
     "data": {
      "application/vnd.jupyter.widget-view+json": {
       "model_id": "e364e64659bd44b39b1a6a3235bbfd3b",
       "version_major": 2,
       "version_minor": 0
      },
      "text/plain": [
       "Dropdown(description='Charge', options=((1, 1), (2, 2), (3, 3), (4, 4)), value=1)"
      ]
     },
     "metadata": {},
     "output_type": "display_data"
    },
    {
     "data": {
      "application/vnd.jupyter.widget-view+json": {
       "model_id": "1912b1c682bc4ba4af7f7ac7bf4b92a6",
       "version_major": 2,
       "version_minor": 0
      },
      "text/plain": [
       "Button(description='ADD', icon='check', style=ButtonStyle(), tooltip='ADD')"
      ]
     },
     "metadata": {},
     "output_type": "display_data"
    },
    {
     "data": {
      "application/vnd.jupyter.widget-view+json": {
       "model_id": "489472fff6104d90a460da9d5d550e9e",
       "version_major": 2,
       "version_minor": 0
      },
      "text/plain": [
       "Button(description='DELETE', icon='check', style=ButtonStyle(), tooltip='DELETE')"
      ]
     },
     "metadata": {},
     "output_type": "display_data"
    },
    {
     "data": {
      "application/vnd.jupyter.widget-view+json": {
       "model_id": "68c5a12fa80e42049ae9c357b8f652d3",
       "version_major": 2,
       "version_minor": 0
      },
      "text/plain": [
       "Button(description='RESET', icon='check', style=ButtonStyle(), tooltip='RESET')"
      ]
     },
     "metadata": {},
     "output_type": "display_data"
    },
    {
     "data": {
      "application/vnd.jupyter.widget-view+json": {
       "model_id": "aa8e7ed5cc8a4a19be7bbdb4a270b126",
       "version_major": 2,
       "version_minor": 0
      },
      "text/plain": [
       "Output()"
      ]
     },
     "metadata": {},
     "output_type": "display_data"
    }
   ],
   "source": [
    "isotopeTableFile = '../../../files/isotopeTable.h5'\n",
    "dataframe = data_tools.read_hdf5_through_pandas(isotopeTableFile)\n",
    "elementsList = dataframe['element']\n",
    "elementIsotopeList = dataframe['isotope']\n",
    "elementMassList =  dataframe['weight']\n",
    "abundanceList = dataframe['abundance']\n",
    "\n",
    "elements = list(zip(elementsList, elementIsotopeList, elementMassList, abundanceList))\n",
    "dropdownList = []\n",
    "for element in elements:\n",
    "    tupleElement = (\"{} ({}) ({:.2f})\".format(element[0], element[1], element[3]), \"{}({})[{}]\".format(element[0], element[1], element[2]))\n",
    "    dropdownList.append(tupleElement)\n",
    "\n",
    "chargeList = [(1,1,),(2,2,),(3,3,),(4,4,)]\n",
    "dropdown = wd.dropdownWidget(dropdownList,\"Elements\")\n",
    "dropdown.observe(wd.on_change)\n",
    "\n",
    "\n",
    "chargeDropdown = wd.dropdownWidget(chargeList,\"Charge\")\n",
    "chargeDropdown.observe(wd.on_change_charge)\n",
    "\n",
    "wd.compute_element_isotope_values_according_to_selected_charge()\n",
    "\n",
    "buttonAdd = wd.buttonWidget(\"ADD\")\n",
    "buttonDelete = wd.buttonWidget(\"DELETE\")\n",
    "buttonReset = wd.buttonWidget(\"RESET\")\n",
    "\n",
    "display(dropdown, chargeDropdown, buttonAdd, buttonDelete, buttonReset)\n",
    "\n",
    "def buttonAdd_f(b,):\n",
    "    with out:\n",
    "        clear_output(True)\n",
    "        wd.onClickAdd(b,)\n",
    "        display()\n",
    "def buttonDelete_f(b,):\n",
    "    with out:\n",
    "        clear_output(True)\n",
    "        wd.onClickDelete(b,)\n",
    "        display()\n",
    "def buttonResett_f(b,):\n",
    "    with out:\n",
    "        clear_output(True)\n",
    "        wd.onClickReset(b,)\n",
    "        display()\n",
    "\n",
    "listMaterial = buttonAdd.on_click(buttonAdd_f)\n",
    "buttonDelete.on_click(buttonDelete_f)\n",
    "buttonReset.on_click(buttonResett_f)\n",
    "# listMaterial = buttonAdd.on_click(wd.onClickAdd)\n",
    "# buttonDelete.on_click(wd.onClickDelete)\n",
    "# buttonReset.on_click(wd.onClickReset)\n",
    "out = Output()\n",
    "display(out)"
   ]
  },
  {
   "cell_type": "code",
   "execution_count": 99,
   "metadata": {
    "pycharm": {
     "name": "#%%\n"
    }
   },
   "outputs": [
    {
     "name": "stdout",
     "output_type": "stream",
     "text": [
      "highest peak in the tof histogram: [171.45736849 445.83000897 603.93463447]\n",
      "highest peak in the ideal mc histogram: [ 1.01 13.49 26.98]\n"
     ]
    }
   ],
   "source": [
    "peaks_chos = []\n",
    "for i in range(len(variables.peaks_idx)):\n",
    "    peaks_chos.append(variables.peak[variables.peaks_idx[i]])\n",
    "peaks_chos = np.array(peaks_chos)\n",
    "listMaterial = np.array(variables.listMaterial)\n",
    "print('highest peak in the tof histogram:', peaks_chos)\n",
    "print('highest peak in the ideal mc histogram:', listMaterial)"
   ]
  },
  {
   "cell_type": "code",
   "execution_count": 100,
   "metadata": {
    "pycharm": {
     "name": "#%%\n"
    }
   },
   "outputs": [
    {
     "name": "stderr",
     "output_type": "stream",
     "text": [
      "C:\\Users\\APTUser\\.conda\\envs\\oxcart5\\lib\\site-packages\\scipy\\optimize\\_minpack_py.py:906: OptimizeWarning: Covariance of the parameters could not be estimated\n",
      "  warnings.warn('Covariance of the parameters could not be estimated',\n"
     ]
    }
   ],
   "source": [
    "def parametric(t, t0, c, d):\n",
    "\n",
    "    # return c * ((t - t0)**2) + d\n",
    "    return c * ((t - t0)**2) + d*t\n",
    "\n",
    "def parametric_calib(t, mc_ideal):\n",
    "    \n",
    "    fitresult, _ = curve_fit(parametric, t, mc_ideal, maxfev=2000)\n",
    "    return fitresult\n",
    "\n",
    "fitresult = parametric_calib(peaks_chos, variables.listMaterial)\n",
    "\n",
    "\n",
    "mc_p_1 = parametric(variables.dld_t_calib, *fitresult)"
   ]
  },
  {
   "cell_type": "code",
   "execution_count": 101,
   "metadata": {},
   "outputs": [
    {
     "name": "stdout",
     "output_type": "stream",
     "text": [
      "The t0 is: 52.35718377338705 ns\n"
     ]
    }
   ],
   "source": [
    "print('The t0 is:', fitresult[0], 'ns')"
   ]
  },
  {
   "cell_type": "code",
   "execution_count": 102,
   "metadata": {
    "pycharm": {
     "name": "#%%\n"
    }
   },
   "outputs": [
    {
     "name": "stdout",
     "output_type": "stream",
     "text": [
      "The peak index for MRP calculation is: 2\n"
     ]
    },
    {
     "data": {
      "application/vnd.jupyter.widget-view+json": {
       "model_id": "2659f0fd364f40b4abc2516a3c4e7793",
       "version_major": 2,
       "version_minor": 0
      },
      "image/png": "[encoded data removed]",
      "text/html": [
       "\n",
       "            <div style=\"display: inline-block;\">\n",
       "                <div class=\"jupyter-widgets widget-label\" style=\"text-align: center;\">\n",
       "                    Figure\n",
       "                </div>\n",
       "                <img src='data:image/png;base64,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' width=354.3307086614173/>\n",
       "            </div>\n",
       "        "
      ],
      "text/plain": [
       "Canvas(toolbar=Toolbar(toolitems=[('Home', 'Reset original view', 'home', 'home'), ('Back', 'Back to previous …"
      ]
     },
     "metadata": {},
     "output_type": "display_data"
    },
    {
     "name": "stdout",
     "output_type": "stream",
     "text": [
      "Mass resolving power for the highest peak (MRP --> m/m_2-m_1): 269.01550939358486\n",
      "Peaks  0 is at location and height: (0.90, 118.00) peak window sides (half-maximum) are: (0.80, 1.00)\n",
      "Peaks  1 is at location and height: (13.44, 81784.00) peak window sides (half-maximum) are: (13.34, 13.54)\n",
      "Peaks  2 is at location and height: (26.97, 673199.00) peak window sides (half-maximum) are: (26.87, 26.97)\n"
     ]
    }
   ],
   "source": [
    "percent_mrp = 50\n",
    "# background = {'calculation': True, 'plot_no_back': True, 'plot': False, 'mode': 'fabc', 'patch': False, 'lam': 1e4, 'num_std': 5.0}\n",
    "background={'calculation': False}\n",
    "peak_p, peaks_y_p, peak_widths_p, _ = tools.hist_plot(mc_p_1[mc_p_1 < 75], 0.1, prominence=40, distance=20, text_loc='right', percent=percent_mrp, plot=True, fig_name='mc2_p_1'+figname, background=background)\n",
    "index_max_ini = np.argmax(peaks_y_p)\n",
    "mrp = (peak_p[index_max_ini] / (peak_widths_p[index_max_ini][2] - peak_widths_p[index_max_ini][1]))\n",
    "print('Mass resolving power for the highest peak (MRP --> m/m_2-m_1):', mrp)\n",
    "for i in range(len(peak_p)):\n",
    "    print('Peaks ', i, 'is at location and height: ({:.2f}, {:.2f})'.format(peak_p[i], peaks_y_p[i]), 'peak window sides (half-maximum) are: ({:.2f}, {:.2f})'.format(peak_widths_p[i][1], peak_widths_p[i][2]))"
   ]
  },
  {
   "cell_type": "code",
   "execution_count": 77,
   "metadata": {
    "tags": []
   },
   "outputs": [
    {
     "data": {
      "text/plain": [
       "144.6475601822121"
      ]
     },
     "execution_count": 77,
     "metadata": {},
     "output_type": "execute_result"
    }
   ],
   "source": [
    "# np.sqrt(((1.0 * 1.66E-27 * (110 * 1E-3) ** 2)) / (2 * 1.6E-19  * 3000)) * 1E9 # in ns"
   ]
  },
  {
   "cell_type": "code",
   "execution_count": 58,
   "metadata": {
    "tags": []
   },
   "outputs": [
    {
     "data": {
      "text/html": [
       "<div>\n",
       "<style scoped>\n",
       "    .dataframe tbody tr th:only-of-type {\n",
       "        vertical-align: middle;\n",
       "    }\n",
       "\n",
       "    .dataframe tbody tr th {\n",
       "        vertical-align: top;\n",
       "    }\n",
       "\n",
       "    .dataframe thead th {\n",
       "        text-align: right;\n",
       "    }\n",
       "</style>\n",
       "<table border=\"1\" class=\"dataframe\">\n",
       "  <thead>\n",
       "    <tr style=\"text-align: right;\">\n",
       "      <th></th>\n",
       "      <th>x (nm)</th>\n",
       "      <th>y (nm)</th>\n",
       "      <th>z (nm)</th>\n",
       "      <th>mc_c (Da)</th>\n",
       "      <th>mc (Da)</th>\n",
       "      <th>high_voltage (V)</th>\n",
       "      <th>pulse (V)</th>\n",
       "      <th>start_counter</th>\n",
       "      <th>t (ns)</th>\n",
       "      <th>t_c (nm)</th>\n",
       "      <th>x_det (cm)</th>\n",
       "      <th>y_det (cm)</th>\n",
       "      <th>pulse_pi</th>\n",
       "      <th>ion_pp</th>\n",
       "    </tr>\n",
       "  </thead>\n",
       "  <tbody>\n",
       "    <tr>\n",
       "      <th>0</th>\n",
       "      <td>0.943917</td>\n",
       "      <td>-0.463124</td>\n",
       "      <td>0.019942</td>\n",
       "      <td>91.527626</td>\n",
       "      <td>0.0</td>\n",
       "      <td>3682.110107</td>\n",
       "      <td>0.0</td>\n",
       "      <td>0.0</td>\n",
       "      <td>3891.519531</td>\n",
       "      <td>0.0</td>\n",
       "      <td>0.392873</td>\n",
       "      <td>0.057275</td>\n",
       "      <td>0</td>\n",
       "      <td>1</td>\n",
       "    </tr>\n",
       "    <tr>\n",
       "      <th>1</th>\n",
       "      <td>2.270334</td>\n",
       "      <td>-5.010604</td>\n",
       "      <td>0.551171</td>\n",
       "      <td>91.982094</td>\n",
       "      <td>0.0</td>\n",
       "      <td>3682.110107</td>\n",
       "      <td>0.0</td>\n",
       "      <td>0.0</td>\n",
       "      <td>3904.508789</td>\n",
       "      <td>0.0</td>\n",
       "      <td>0.702811</td>\n",
       "      <td>-0.243931</td>\n",
       "      <td>43</td>\n",
       "      <td>1</td>\n",
       "    </tr>\n",
       "    <tr>\n",
       "      <th>2</th>\n",
       "      <td>-5.462508</td>\n",
       "      <td>0.471533</td>\n",
       "      <td>0.547564</td>\n",
       "      <td>92.993858</td>\n",
       "      <td>0.0</td>\n",
       "      <td>3682.110107</td>\n",
       "      <td>0.0</td>\n",
       "      <td>0.0</td>\n",
       "      <td>3878.014160</td>\n",
       "      <td>0.0</td>\n",
       "      <td>-0.112540</td>\n",
       "      <td>-0.152062</td>\n",
       "      <td>211</td>\n",
       "      <td>1</td>\n",
       "    </tr>\n",
       "    <tr>\n",
       "      <th>3</th>\n",
       "      <td>8.305490</td>\n",
       "      <td>4.298521</td>\n",
       "      <td>1.624813</td>\n",
       "      <td>60.973576</td>\n",
       "      <td>0.0</td>\n",
       "      <td>3682.110107</td>\n",
       "      <td>0.0</td>\n",
       "      <td>0.0</td>\n",
       "      <td>3204.297363</td>\n",
       "      <td>0.0</td>\n",
       "      <td>0.712028</td>\n",
       "      <td>0.788533</td>\n",
       "      <td>66</td>\n",
       "      <td>1</td>\n",
       "    </tr>\n",
       "    <tr>\n",
       "      <th>4</th>\n",
       "      <td>2.990205</td>\n",
       "      <td>0.078835</td>\n",
       "      <td>0.161882</td>\n",
       "      <td>61.330170</td>\n",
       "      <td>0.0</td>\n",
       "      <td>3682.110107</td>\n",
       "      <td>0.0</td>\n",
       "      <td>0.0</td>\n",
       "      <td>3195.071777</td>\n",
       "      <td>0.0</td>\n",
       "      <td>0.512681</td>\n",
       "      <td>0.189050</td>\n",
       "      <td>18</td>\n",
       "      <td>1</td>\n",
       "    </tr>\n",
       "    <tr>\n",
       "      <th>...</th>\n",
       "      <td>...</td>\n",
       "      <td>...</td>\n",
       "      <td>...</td>\n",
       "      <td>...</td>\n",
       "      <td>...</td>\n",
       "      <td>...</td>\n",
       "      <td>...</td>\n",
       "      <td>...</td>\n",
       "      <td>...</td>\n",
       "      <td>...</td>\n",
       "      <td>...</td>\n",
       "      <td>...</td>\n",
       "      <td>...</td>\n",
       "      <td>...</td>\n",
       "    </tr>\n",
       "    <tr>\n",
       "      <th>549698</th>\n",
       "      <td>-4.680508</td>\n",
       "      <td>-0.665500</td>\n",
       "      <td>8.134455</td>\n",
       "      <td>99.078377</td>\n",
       "      <td>0.0</td>\n",
       "      <td>1334.670044</td>\n",
       "      <td>0.0</td>\n",
       "      <td>0.0</td>\n",
       "      <td>6555.320312</td>\n",
       "      <td>0.0</td>\n",
       "      <td>-0.575553</td>\n",
       "      <td>-0.705528</td>\n",
       "      <td>1</td>\n",
       "      <td>1</td>\n",
       "    </tr>\n",
       "    <tr>\n",
       "      <th>549699</th>\n",
       "      <td>-3.787911</td>\n",
       "      <td>-3.385010</td>\n",
       "      <td>8.331511</td>\n",
       "      <td>216.163483</td>\n",
       "      <td>0.0</td>\n",
       "      <td>1334.670044</td>\n",
       "      <td>0.0</td>\n",
       "      <td>0.0</td>\n",
       "      <td>9699.115234</td>\n",
       "      <td>0.0</td>\n",
       "      <td>-0.047374</td>\n",
       "      <td>-1.282389</td>\n",
       "      <td>43</td>\n",
       "      <td>1</td>\n",
       "    </tr>\n",
       "    <tr>\n",
       "      <th>549700</th>\n",
       "      <td>-2.945118</td>\n",
       "      <td>-1.283401</td>\n",
       "      <td>7.480402</td>\n",
       "      <td>101.124908</td>\n",
       "      <td>0.0</td>\n",
       "      <td>1334.670044</td>\n",
       "      <td>0.0</td>\n",
       "      <td>0.0</td>\n",
       "      <td>6691.295410</td>\n",
       "      <td>0.0</td>\n",
       "      <td>-0.129701</td>\n",
       "      <td>-0.605268</td>\n",
       "      <td>114</td>\n",
       "      <td>1</td>\n",
       "    </tr>\n",
       "    <tr>\n",
       "      <th>549701</th>\n",
       "      <td>-4.043397</td>\n",
       "      <td>-0.999465</td>\n",
       "      <td>7.856801</td>\n",
       "      <td>100.075027</td>\n",
       "      <td>0.0</td>\n",
       "      <td>1334.670044</td>\n",
       "      <td>0.0</td>\n",
       "      <td>0.0</td>\n",
       "      <td>6614.916504</td>\n",
       "      <td>0.0</td>\n",
       "      <td>-0.393382</td>\n",
       "      <td>-0.694126</td>\n",
       "      <td>211</td>\n",
       "      <td>1</td>\n",
       "    </tr>\n",
       "    <tr>\n",
       "      <th>549702</th>\n",
       "      <td>-3.605551</td>\n",
       "      <td>-1.773034</td>\n",
       "      <td>7.791200</td>\n",
       "      <td>93.055229</td>\n",
       "      <td>0.0</td>\n",
       "      <td>1334.670044</td>\n",
       "      <td>0.0</td>\n",
       "      <td>0.0</td>\n",
       "      <td>6389.932617</td>\n",
       "      <td>0.0</td>\n",
       "      <td>-0.201848</td>\n",
       "      <td>-0.819208</td>\n",
       "      <td>531</td>\n",
       "      <td>1</td>\n",
       "    </tr>\n",
       "  </tbody>\n",
       "</table>\n",
       "<p>549703 rows × 14 columns</p>\n",
       "</div>"
      ],
      "text/plain": [
       "          x (nm)    y (nm)    z (nm)   mc_c (Da)  mc (Da)  high_voltage (V)  \\\n",
       "0       0.943917 -0.463124  0.019942   91.527626      0.0       3682.110107   \n",
       "1       2.270334 -5.010604  0.551171   91.982094      0.0       3682.110107   \n",
       "2      -5.462508  0.471533  0.547564   92.993858      0.0       3682.110107   \n",
       "3       8.305490  4.298521  1.624813   60.973576      0.0       3682.110107   \n",
       "4       2.990205  0.078835  0.161882   61.330170      0.0       3682.110107   \n",
       "...          ...       ...       ...         ...      ...               ...   \n",
       "549698 -4.680508 -0.665500  8.134455   99.078377      0.0       1334.670044   \n",
       "549699 -3.787911 -3.385010  8.331511  216.163483      0.0       1334.670044   \n",
       "549700 -2.945118 -1.283401  7.480402  101.124908      0.0       1334.670044   \n",
       "549701 -4.043397 -0.999465  7.856801  100.075027      0.0       1334.670044   \n",
       "549702 -3.605551 -1.773034  7.791200   93.055229      0.0       1334.670044   \n",
       "\n",
       "        pulse (V)  start_counter       t (ns)  t_c (nm)  x_det (cm)  \\\n",
       "0             0.0            0.0  3891.519531       0.0    0.392873   \n",
       "1             0.0            0.0  3904.508789       0.0    0.702811   \n",
       "2             0.0            0.0  3878.014160       0.0   -0.112540   \n",
       "3             0.0            0.0  3204.297363       0.0    0.712028   \n",
       "4             0.0            0.0  3195.071777       0.0    0.512681   \n",
       "...           ...            ...          ...       ...         ...   \n",
       "549698        0.0            0.0  6555.320312       0.0   -0.575553   \n",
       "549699        0.0            0.0  9699.115234       0.0   -0.047374   \n",
       "549700        0.0            0.0  6691.295410       0.0   -0.129701   \n",
       "549701        0.0            0.0  6614.916504       0.0   -0.393382   \n",
       "549702        0.0            0.0  6389.932617       0.0   -0.201848   \n",
       "\n",
       "        y_det (cm)  pulse_pi  ion_pp  \n",
       "0         0.057275         0       1  \n",
       "1        -0.243931        43       1  \n",
       "2        -0.152062       211       1  \n",
       "3         0.788533        66       1  \n",
       "4         0.189050        18       1  \n",
       "...            ...       ...     ...  \n",
       "549698   -0.705528         1       1  \n",
       "549699   -1.282389        43       1  \n",
       "549700   -0.605268       114       1  \n",
       "549701   -0.694126       211       1  \n",
       "549702   -0.819208       531       1  \n",
       "\n",
       "[549703 rows x 14 columns]"
      ]
     },
     "execution_count": 58,
     "metadata": {},
     "output_type": "execute_result"
    }
   ],
   "source": [
    "data"
   ]
  },
  {
   "cell_type": "code",
   "execution_count": 67,
   "metadata": {},
   "outputs": [],
   "source": [
    "data_c = data.copy(deep = True)\n",
    "data_c['t_c (ns)'] = variables.dld_t_calib\n",
    "# data_c['mc_c (Da)'] = mc_p_1"
   ]
  },
  {
   "cell_type": "code",
   "execution_count": 68,
   "metadata": {},
   "outputs": [],
   "source": [
    "# Remove negative mc\n",
    "# threshold = 0\n",
    "# mc_t = data_c['mc_c (Da)'].to_numpy()\n",
    "# mc_t_mask = (mc_t <= threshold)\n",
    "# print('The number of ions with negative mc are:', len(mc_t_mask[mc_t_mask==True]))\n",
    "# data_c.drop(np.where(mc_t_mask)[0], inplace=True)\n",
    "# data_c.reset_index(inplace=True, drop=True)"
   ]
  },
  {
   "cell_type": "code",
   "execution_count": 69,
   "metadata": {},
   "outputs": [
    {
     "data": {
      "text/html": [
       "<div>\n",
       "<style scoped>\n",
       "    .dataframe tbody tr th:only-of-type {\n",
       "        vertical-align: middle;\n",
       "    }\n",
       "\n",
       "    .dataframe tbody tr th {\n",
       "        vertical-align: top;\n",
       "    }\n",
       "\n",
       "    .dataframe thead th {\n",
       "        text-align: right;\n",
       "    }\n",
       "</style>\n",
       "<table border=\"1\" class=\"dataframe\">\n",
       "  <thead>\n",
       "    <tr style=\"text-align: right;\">\n",
       "      <th></th>\n",
       "      <th>x (nm)</th>\n",
       "      <th>y (nm)</th>\n",
       "      <th>z (nm)</th>\n",
       "      <th>mc_c (Da)</th>\n",
       "      <th>mc (Da)</th>\n",
       "      <th>high_voltage (V)</th>\n",
       "      <th>pulse (V)</th>\n",
       "      <th>start_counter</th>\n",
       "      <th>t (ns)</th>\n",
       "      <th>t_c (nm)</th>\n",
       "      <th>x_det (cm)</th>\n",
       "      <th>y_det (cm)</th>\n",
       "      <th>pulse_pi</th>\n",
       "      <th>ion_pp</th>\n",
       "      <th>t_c (ns)</th>\n",
       "    </tr>\n",
       "  </thead>\n",
       "  <tbody>\n",
       "    <tr>\n",
       "      <th>0</th>\n",
       "      <td>0.943917</td>\n",
       "      <td>-0.463124</td>\n",
       "      <td>0.019942</td>\n",
       "      <td>91.527626</td>\n",
       "      <td>0.0</td>\n",
       "      <td>3682.110107</td>\n",
       "      <td>0.0</td>\n",
       "      <td>0.0</td>\n",
       "      <td>3891.519531</td>\n",
       "      <td>0.0</td>\n",
       "      <td>0.392873</td>\n",
       "      <td>0.057275</td>\n",
       "      <td>0</td>\n",
       "      <td>1</td>\n",
       "      <td>4239.131558</td>\n",
       "    </tr>\n",
       "    <tr>\n",
       "      <th>1</th>\n",
       "      <td>2.270334</td>\n",
       "      <td>-5.010604</td>\n",
       "      <td>0.551171</td>\n",
       "      <td>91.982094</td>\n",
       "      <td>0.0</td>\n",
       "      <td>3682.110107</td>\n",
       "      <td>0.0</td>\n",
       "      <td>0.0</td>\n",
       "      <td>3904.508789</td>\n",
       "      <td>0.0</td>\n",
       "      <td>0.702811</td>\n",
       "      <td>-0.243931</td>\n",
       "      <td>43</td>\n",
       "      <td>1</td>\n",
       "      <td>4248.225144</td>\n",
       "    </tr>\n",
       "    <tr>\n",
       "      <th>2</th>\n",
       "      <td>-5.462508</td>\n",
       "      <td>0.471533</td>\n",
       "      <td>0.547564</td>\n",
       "      <td>92.993858</td>\n",
       "      <td>0.0</td>\n",
       "      <td>3682.110107</td>\n",
       "      <td>0.0</td>\n",
       "      <td>0.0</td>\n",
       "      <td>3878.014160</td>\n",
       "      <td>0.0</td>\n",
       "      <td>-0.112540</td>\n",
       "      <td>-0.152062</td>\n",
       "      <td>211</td>\n",
       "      <td>1</td>\n",
       "      <td>4267.018864</td>\n",
       "    </tr>\n",
       "    <tr>\n",
       "      <th>3</th>\n",
       "      <td>8.305490</td>\n",
       "      <td>4.298521</td>\n",
       "      <td>1.624813</td>\n",
       "      <td>60.973576</td>\n",
       "      <td>0.0</td>\n",
       "      <td>3682.110107</td>\n",
       "      <td>0.0</td>\n",
       "      <td>0.0</td>\n",
       "      <td>3204.297363</td>\n",
       "      <td>0.0</td>\n",
       "      <td>0.712028</td>\n",
       "      <td>0.788533</td>\n",
       "      <td>66</td>\n",
       "      <td>1</td>\n",
       "      <td>3461.230088</td>\n",
       "    </tr>\n",
       "    <tr>\n",
       "      <th>4</th>\n",
       "      <td>2.990205</td>\n",
       "      <td>0.078835</td>\n",
       "      <td>0.161882</td>\n",
       "      <td>61.330170</td>\n",
       "      <td>0.0</td>\n",
       "      <td>3682.110107</td>\n",
       "      <td>0.0</td>\n",
       "      <td>0.0</td>\n",
       "      <td>3195.071777</td>\n",
       "      <td>0.0</td>\n",
       "      <td>0.512681</td>\n",
       "      <td>0.189050</td>\n",
       "      <td>18</td>\n",
       "      <td>1</td>\n",
       "      <td>3471.082777</td>\n",
       "    </tr>\n",
       "    <tr>\n",
       "      <th>...</th>\n",
       "      <td>...</td>\n",
       "      <td>...</td>\n",
       "      <td>...</td>\n",
       "      <td>...</td>\n",
       "      <td>...</td>\n",
       "      <td>...</td>\n",
       "      <td>...</td>\n",
       "      <td>...</td>\n",
       "      <td>...</td>\n",
       "      <td>...</td>\n",
       "      <td>...</td>\n",
       "      <td>...</td>\n",
       "      <td>...</td>\n",
       "      <td>...</td>\n",
       "      <td>...</td>\n",
       "    </tr>\n",
       "    <tr>\n",
       "      <th>549698</th>\n",
       "      <td>-4.680508</td>\n",
       "      <td>-0.665500</td>\n",
       "      <td>8.134455</td>\n",
       "      <td>99.078377</td>\n",
       "      <td>0.0</td>\n",
       "      <td>1334.670044</td>\n",
       "      <td>0.0</td>\n",
       "      <td>0.0</td>\n",
       "      <td>6555.320312</td>\n",
       "      <td>0.0</td>\n",
       "      <td>-0.575553</td>\n",
       "      <td>-0.705528</td>\n",
       "      <td>1</td>\n",
       "      <td>1</td>\n",
       "      <td>4738.564447</td>\n",
       "    </tr>\n",
       "    <tr>\n",
       "      <th>549699</th>\n",
       "      <td>-3.787911</td>\n",
       "      <td>-3.385010</td>\n",
       "      <td>8.331511</td>\n",
       "      <td>216.163483</td>\n",
       "      <td>0.0</td>\n",
       "      <td>1334.670044</td>\n",
       "      <td>0.0</td>\n",
       "      <td>0.0</td>\n",
       "      <td>9699.115234</td>\n",
       "      <td>0.0</td>\n",
       "      <td>-0.047374</td>\n",
       "      <td>-1.282389</td>\n",
       "      <td>43</td>\n",
       "      <td>1</td>\n",
       "      <td>7004.295261</td>\n",
       "    </tr>\n",
       "    <tr>\n",
       "      <th>549700</th>\n",
       "      <td>-2.945118</td>\n",
       "      <td>-1.283401</td>\n",
       "      <td>7.480402</td>\n",
       "      <td>101.124908</td>\n",
       "      <td>0.0</td>\n",
       "      <td>1334.670044</td>\n",
       "      <td>0.0</td>\n",
       "      <td>0.0</td>\n",
       "      <td>6691.295410</td>\n",
       "      <td>0.0</td>\n",
       "      <td>-0.129701</td>\n",
       "      <td>-0.605268</td>\n",
       "      <td>114</td>\n",
       "      <td>1</td>\n",
       "      <td>4787.932694</td>\n",
       "    </tr>\n",
       "    <tr>\n",
       "      <th>549701</th>\n",
       "      <td>-4.043397</td>\n",
       "      <td>-0.999465</td>\n",
       "      <td>7.856801</td>\n",
       "      <td>100.075027</td>\n",
       "      <td>0.0</td>\n",
       "      <td>1334.670044</td>\n",
       "      <td>0.0</td>\n",
       "      <td>0.0</td>\n",
       "      <td>6614.916504</td>\n",
       "      <td>0.0</td>\n",
       "      <td>-0.393382</td>\n",
       "      <td>-0.694126</td>\n",
       "      <td>211</td>\n",
       "      <td>1</td>\n",
       "      <td>4762.872355</td>\n",
       "    </tr>\n",
       "    <tr>\n",
       "      <th>549702</th>\n",
       "      <td>-3.605551</td>\n",
       "      <td>-1.773034</td>\n",
       "      <td>7.791200</td>\n",
       "      <td>93.055229</td>\n",
       "      <td>0.0</td>\n",
       "      <td>1334.670044</td>\n",
       "      <td>0.0</td>\n",
       "      <td>0.0</td>\n",
       "      <td>6389.932617</td>\n",
       "      <td>0.0</td>\n",
       "      <td>-0.201848</td>\n",
       "      <td>-0.819208</td>\n",
       "      <td>531</td>\n",
       "      <td>1</td>\n",
       "      <td>4592.155897</td>\n",
       "    </tr>\n",
       "  </tbody>\n",
       "</table>\n",
       "<p>549703 rows × 15 columns</p>\n",
       "</div>"
      ],
      "text/plain": [
       "          x (nm)    y (nm)    z (nm)   mc_c (Da)  mc (Da)  high_voltage (V)  \\\n",
       "0       0.943917 -0.463124  0.019942   91.527626      0.0       3682.110107   \n",
       "1       2.270334 -5.010604  0.551171   91.982094      0.0       3682.110107   \n",
       "2      -5.462508  0.471533  0.547564   92.993858      0.0       3682.110107   \n",
       "3       8.305490  4.298521  1.624813   60.973576      0.0       3682.110107   \n",
       "4       2.990205  0.078835  0.161882   61.330170      0.0       3682.110107   \n",
       "...          ...       ...       ...         ...      ...               ...   \n",
       "549698 -4.680508 -0.665500  8.134455   99.078377      0.0       1334.670044   \n",
       "549699 -3.787911 -3.385010  8.331511  216.163483      0.0       1334.670044   \n",
       "549700 -2.945118 -1.283401  7.480402  101.124908      0.0       1334.670044   \n",
       "549701 -4.043397 -0.999465  7.856801  100.075027      0.0       1334.670044   \n",
       "549702 -3.605551 -1.773034  7.791200   93.055229      0.0       1334.670044   \n",
       "\n",
       "        pulse (V)  start_counter       t (ns)  t_c (nm)  x_det (cm)  \\\n",
       "0             0.0            0.0  3891.519531       0.0    0.392873   \n",
       "1             0.0            0.0  3904.508789       0.0    0.702811   \n",
       "2             0.0            0.0  3878.014160       0.0   -0.112540   \n",
       "3             0.0            0.0  3204.297363       0.0    0.712028   \n",
       "4             0.0            0.0  3195.071777       0.0    0.512681   \n",
       "...           ...            ...          ...       ...         ...   \n",
       "549698        0.0            0.0  6555.320312       0.0   -0.575553   \n",
       "549699        0.0            0.0  9699.115234       0.0   -0.047374   \n",
       "549700        0.0            0.0  6691.295410       0.0   -0.129701   \n",
       "549701        0.0            0.0  6614.916504       0.0   -0.393382   \n",
       "549702        0.0            0.0  6389.932617       0.0   -0.201848   \n",
       "\n",
       "        y_det (cm)  pulse_pi  ion_pp     t_c (ns)  \n",
       "0         0.057275         0       1  4239.131558  \n",
       "1        -0.243931        43       1  4248.225144  \n",
       "2        -0.152062       211       1  4267.018864  \n",
       "3         0.788533        66       1  3461.230088  \n",
       "4         0.189050        18       1  3471.082777  \n",
       "...            ...       ...     ...          ...  \n",
       "549698   -0.705528         1       1  4738.564447  \n",
       "549699   -1.282389        43       1  7004.295261  \n",
       "549700   -0.605268       114       1  4787.932694  \n",
       "549701   -0.694126       211       1  4762.872355  \n",
       "549702   -0.819208       531       1  4592.155897  \n",
       "\n",
       "[549703 rows x 15 columns]"
      ]
     },
     "execution_count": 69,
     "metadata": {},
     "output_type": "execute_result"
    }
   ],
   "source": [
    "data_c"
   ]
  },
  {
   "cell_type": "code",
   "execution_count": 61,
   "metadata": {},
   "outputs": [
    {
     "ename": "NameError",
     "evalue": "name 'mc_p_1' is not defined",
     "output_type": "error",
     "traceback": [
      "\u001b[1;31m---------------------------------------------------------------------------\u001b[0m",
      "\u001b[1;31mNameError\u001b[0m                                 Traceback (most recent call last)",
      "Cell \u001b[1;32mIn[61], line 3\u001b[0m\n\u001b[0;32m      1\u001b[0m cc \u001b[38;5;241m=\u001b[39m data_c[\u001b[38;5;124m'\u001b[39m\u001b[38;5;124mmc_c (Da)\u001b[39m\u001b[38;5;124m'\u001b[39m]\u001b[38;5;241m.\u001b[39mto_numpy()\n\u001b[0;32m      2\u001b[0m \u001b[38;5;66;03m# cc[cc <= 0] = 0\u001b[39;00m\n\u001b[1;32m----> 3\u001b[0m peaks_ini, peaks_y_ini, peak_widths_p_ini, _ \u001b[38;5;241m=\u001b[39m tools\u001b[38;5;241m.\u001b[39mhist_plot(\u001b[43mmc_p_1\u001b[49m[mc_p_1 \u001b[38;5;241m<\u001b[39m \u001b[38;5;241m100\u001b[39m], \u001b[38;5;241m0.1\u001b[39m, distance\u001b[38;5;241m=\u001b[39m\u001b[38;5;241m10\u001b[39m, percent\u001b[38;5;241m=\u001b[39m\u001b[38;5;241m50\u001b[39m, prominence\u001b[38;5;241m=\u001b[39m\u001b[38;5;241m50\u001b[39m, selector\u001b[38;5;241m=\u001b[39m\u001b[38;5;124m'\u001b[39m\u001b[38;5;124mpeak\u001b[39m\u001b[38;5;124m'\u001b[39m, peaks_find_plot\u001b[38;5;241m=\u001b[39m\u001b[38;5;28;01mTrue\u001b[39;00m, plot\u001b[38;5;241m=\u001b[39m\u001b[38;5;28;01mTrue\u001b[39;00m, label\u001b[38;5;241m=\u001b[39m\u001b[38;5;124m'\u001b[39m\u001b[38;5;124mmc\u001b[39m\u001b[38;5;124m'\u001b[39m)\n\u001b[0;32m      4\u001b[0m peaks_ini, peaks_y_ini, peak_widths_p_ini, _ \u001b[38;5;241m=\u001b[39m tools\u001b[38;5;241m.\u001b[39mhist_plot(cc[cc \u001b[38;5;241m<\u001b[39m \u001b[38;5;241m100\u001b[39m], \u001b[38;5;241m0.1\u001b[39m, distance\u001b[38;5;241m=\u001b[39m\u001b[38;5;241m10\u001b[39m, percent\u001b[38;5;241m=\u001b[39m\u001b[38;5;241m50\u001b[39m, prominence\u001b[38;5;241m=\u001b[39m\u001b[38;5;241m50\u001b[39m, selector\u001b[38;5;241m=\u001b[39m\u001b[38;5;124m'\u001b[39m\u001b[38;5;124mpeak\u001b[39m\u001b[38;5;124m'\u001b[39m, peaks_find_plot\u001b[38;5;241m=\u001b[39m\u001b[38;5;28;01mTrue\u001b[39;00m, plot\u001b[38;5;241m=\u001b[39m\u001b[38;5;28;01mTrue\u001b[39;00m, label\u001b[38;5;241m=\u001b[39m\u001b[38;5;124m'\u001b[39m\u001b[38;5;124mmc\u001b[39m\u001b[38;5;124m'\u001b[39m)\n",
      "\u001b[1;31mNameError\u001b[0m: name 'mc_p_1' is not defined"
     ]
    }
   ],
   "source": [
    "cc = data_c['mc_c (Da)'].to_numpy()\n",
    "# cc[cc <= 0] = 0\n",
    "peaks_ini, peaks_y_ini, peak_widths_p_ini, _ = tools.hist_plot(mc_p_1[mc_p_1 < 100], 0.1, distance=10, percent=50, prominence=50, selector='peak', peaks_find_plot=True, plot=True, label='mc')\n",
    "peaks_ini, peaks_y_ini, peak_widths_p_ini, _ = tools.hist_plot(cc[cc < 100], 0.1, distance=10, percent=50, prominence=50, selector='peak', peaks_find_plot=True, plot=True, label='mc')"
   ]
  },
  {
   "cell_type": "code",
   "execution_count": 62,
   "metadata": {},
   "outputs": [],
   "source": [
    "# save the new data\n",
    "name_save_file = variables.result_path + '//' + dataset_name + '.h5'\n",
    "data_tools.store_df_to_hdf(name_save_file, data_c, 'df')"
   ]
  },
  {
   "cell_type": "code",
   "execution_count": 63,
   "metadata": {},
   "outputs": [],
   "source": [
    "# save data as epos file\n",
    "epos = ccapt_tools.ccapt_to_epos(data_c, pulse_mode=pulse_mode.value, path=variables.result_path, name=dataset_name + '.epos')\n",
    "pos = ccapt_tools.ccapt_to_pos(data_c, path=variables.result_path, name=dataset_name + '.POS')"
   ]
  },
  {
   "cell_type": "code",
   "execution_count": null,
   "metadata": {},
   "outputs": [],
   "source": [
    "# save data in csv format\n",
    "data_tools.store_df_to_csv(data_c, variables.result_path + dataset_name + '.csv')"
   ]
  },
  {
   "cell_type": "code",
   "execution_count": 64,
   "metadata": {
    "tags": []
   },
   "outputs": [
    {
     "data": {
      "text/plain": [
       "'D:/pyccapt/tests/data/tof_calibration/'"
      ]
     },
     "execution_count": 64,
     "metadata": {},
     "output_type": "execute_result"
    }
   ],
   "source": [
    "variables.result_path"
   ]
  },
  {
   "cell_type": "code",
   "execution_count": null,
   "metadata": {},
   "outputs": [],
   "source": []
  }
 ],
 "metadata": {
  "kernelspec": {
   "display_name": "Python 3 (ipykernel)",
   "language": "python",
   "name": "python3"
  },
  "language_info": {
   "codemirror_mode": {
    "name": "ipython",
    "version": 3
   },
   "file_extension": ".py",
   "mimetype": "text/x-python",
   "name": "python",
   "nbconvert_exporter": "python",
   "pygments_lexer": "ipython3",
   "version": "3.8.16"
  }
 },
 "nbformat": 4,
 "nbformat_minor": 4
}

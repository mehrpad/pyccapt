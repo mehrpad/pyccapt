{
 "cells": [
  {
   "cell_type": "code",
   "execution_count": 30,
   "metadata": {
    "pycharm": {
     "name": "#%%\n"
    }
   },
   "outputs": [],
   "source": [
    "%matplotlib ipympl\n",
    "import os\n",
    "import os.path as path\n",
    "import numpy as np\n",
    "from scipy.optimize import curve_fit\n",
    "from scipy import interpolate\n",
    "from sklearn.preprocessing import MinMaxScaler\n",
    "import matplotlib.pyplot as plt\n",
    "from ipywidgets import fixed, interact_manual, widgets\n",
    "from ipywidgets import HBox, VBox\n",
    "from IPython.display import clear_output\n",
    "from IPython.display import display\n",
    "from ipywidgets import IntSlider, Output\n",
    "from itertools import product\n",
    "from scipy.signal import find_peaks\n",
    "import math\n",
    "from mpl_toolkits.mplot3d import Axes3D\n",
    "\n",
    "# Local module and scripts\n",
    "from pyccapt.calibration.calibration_tools import tools, data_tools, variables, calibration, data_loadcrop\n",
    "from pyccapt.calibration.calibration_tools import widgets as wd\n",
    "from pyccapt.calibration.mc import mc_tools\n",
    "from pyccapt.calibration.calibration_tools import dataset_path_qt\n",
    "from pyccapt.calibration.leap_tools import ccapt_tools"
   ]
  },
  {
   "cell_type": "code",
   "execution_count": 31,
   "metadata": {
    "tags": []
   },
   "outputs": [
    {
     "name": "stdout",
     "output_type": "stream",
     "text": [
      "The autoreload extension is already loaded. To reload it, use:\n",
      "  %reload_ext autoreload\n"
     ]
    }
   ],
   "source": [
    "%load_ext autoreload\n",
    "%autoreload 2"
   ]
  },
  {
   "cell_type": "code",
   "execution_count": 32,
   "metadata": {
    "tags": []
   },
   "outputs": [],
   "source": [
    "%reload_ext autoreload"
   ]
  },
  {
   "cell_type": "code",
   "execution_count": 33,
   "metadata": {
    "pycharm": {
     "name": "#%%\n"
    }
   },
   "outputs": [],
   "source": [
    "# Disable showing logging in Jupyter notebook\n",
    "import logging, sys\n",
    "logging.disable(sys.maxsize)\n",
    "save_fig=False\n",
    "plot_fig=True "
   ]
  },
  {
   "cell_type": "code",
   "execution_count": 34,
   "metadata": {},
   "outputs": [
    {
     "data": {
      "application/vnd.jupyter.widget-view+json": {
       "model_id": "6a4a963b0998490fb2601f01c6081d79",
       "version_major": 2,
       "version_minor": 0
      },
      "text/plain": [
       "Button(description='load dataset', style=ButtonStyle())"
      ]
     },
     "execution_count": 34,
     "metadata": {},
     "output_type": "execute_result"
    }
   ],
   "source": [
    "button = widgets.Button(\n",
    "    description='load dataset',\n",
    ")\n",
    "\n",
    "@button.on_click\n",
    "def open_file_on_click(b):\n",
    "    global dataset_path\n",
    "    dataset_path = dataset_path_qt.gui_fname().decode('ASCII')\n",
    "button"
   ]
  },
  {
   "cell_type": "code",
   "execution_count": 6,
   "metadata": {},
   "outputs": [
    {
     "data": {
      "application/vnd.jupyter.widget-view+json": {
       "model_id": "f33a1156bd5044cbb3bd348b1d23f8a3",
       "version_major": 2,
       "version_minor": 0
      },
      "text/plain": [
       "Dropdown(description='Data mode:', options=('surface_concept', 'roentdec', 'leap_epos', 'leap_pos'), value='su…"
      ]
     },
     "metadata": {},
     "output_type": "display_data"
    },
    {
     "data": {
      "application/vnd.jupyter.widget-view+json": {
       "model_id": "39ecde6ac8a441c091e3ab3ff7779ced",
       "version_major": 2,
       "version_minor": 0
      },
      "text/plain": [
       "Dropdown(description='Pulse mode:', options=('voltage', 'laser'), value='voltage')"
      ]
     },
     "metadata": {},
     "output_type": "display_data"
    },
    {
     "data": {
      "application/vnd.jupyter.widget-view+json": {
       "model_id": "f2b3e0ca96f0466e8198cd21f906690c",
       "version_major": 2,
       "version_minor": 0
      },
      "text/plain": [
       "FloatText(value=110.0, description='Flight path length:')"
      ]
     },
     "metadata": {},
     "output_type": "display_data"
    },
    {
     "data": {
      "application/vnd.jupyter.widget-view+json": {
       "model_id": "c20bb9e5c3ad438f90d0cfaaaac788f3",
       "version_major": 2,
       "version_minor": 0
      },
      "text/plain": [
       "FloatText(value=54.0, description='t0:')"
      ]
     },
     "metadata": {},
     "output_type": "display_data"
    },
    {
     "data": {
      "application/vnd.jupyter.widget-view+json": {
       "model_id": "1225aa1082c546f88f449f1ac0adb9c7",
       "version_major": 2,
       "version_minor": 0
      },
      "text/plain": [
       "FloatText(value=400.0, description='Max mc:')"
      ]
     },
     "metadata": {},
     "output_type": "display_data"
    },
    {
     "data": {
      "application/vnd.jupyter.widget-view+json": {
       "model_id": "4b33754fe1644adf92295cac0151a723",
       "version_major": 2,
       "version_minor": 0
      },
      "text/plain": [
       "FloatText(value=78.0, description='Detector diameter:')"
      ]
     },
     "metadata": {},
     "output_type": "display_data"
    }
   ],
   "source": [
    "tdc, pulse_mode, flightPathLength_d, t0_d, max_mc, det_diam = wd.dataset_tdc_selection()\n",
    "display(tdc, pulse_mode, flightPathLength_d, t0_d, max_mc, det_diam)"
   ]
  },
  {
   "cell_type": "markdown",
   "metadata": {
    "pycharm": {
     "name": "#%% md\n"
    }
   },
   "source": [
    "$$\\textbf{You can specify which dataset to use in below block}$$"
   ]
  },
  {
   "cell_type": "code",
   "execution_count": 125,
   "metadata": {
    "pycharm": {
     "name": "#%%\n"
    }
   },
   "outputs": [],
   "source": [
    "dataset_main_path = os.path.dirname(dataset_path)\n",
    "dataset_name_with_extention = os.path.basename(dataset_path)\n",
    "dataset_name = os.path.splitext(dataset_name_with_extention)[0]\n",
    "\n",
    "\n",
    "variables.init()\n",
    "\n",
    "variables.result_path = os.path.dirname(dataset_main_path) + '/mc_calibration/'\n",
    "if not os.path.isdir(variables.result_path):\n",
    "    os.makedirs(variables.result_path, mode=0o777, exist_ok=True)\n",
    "        \n",
    "filename = dataset_path\n",
    "\n",
    "head, tail = os.path.split(filename)\n",
    "figname = os.path.splitext(tail)[0]\n",
    "\n",
    "if tdc.value == 'leap_pos' or tdc.value == 'leap_epos':\n",
    "    if tdc.value == 'leap_epos':\n",
    "        data = ccapt_tools.epos_to_ccapt(filename)\n",
    "    else:\n",
    "        print('The file has to be epos. With pos information this tutorial cannot be run')\n",
    "        data = ccapt_tools.pos_to_ccapt(filename)\n",
    "else:\n",
    "    data = data_tools.read_hdf5_through_pandas(filename)\n"
   ]
  },
  {
   "cell_type": "code",
   "execution_count": 126,
   "metadata": {
    "pycharm": {
     "name": "#%%\n"
    }
   },
   "outputs": [
    {
     "data": {
      "text/html": [
       "<div>\n",
       "<style scoped>\n",
       "    .dataframe tbody tr th:only-of-type {\n",
       "        vertical-align: middle;\n",
       "    }\n",
       "\n",
       "    .dataframe tbody tr th {\n",
       "        vertical-align: top;\n",
       "    }\n",
       "\n",
       "    .dataframe thead th {\n",
       "        text-align: right;\n",
       "    }\n",
       "</style>\n",
       "<table border=\"1\" class=\"dataframe\">\n",
       "  <thead>\n",
       "    <tr style=\"text-align: right;\">\n",
       "      <th></th>\n",
       "      <th>x (nm)</th>\n",
       "      <th>y (nm)</th>\n",
       "      <th>z (nm)</th>\n",
       "      <th>mc_c (Da)</th>\n",
       "      <th>mc (Da)</th>\n",
       "      <th>high_voltage (V)</th>\n",
       "      <th>pulse (deg)</th>\n",
       "      <th>start_counter</th>\n",
       "      <th>t (ns)</th>\n",
       "      <th>t_c (nm)</th>\n",
       "      <th>x_det (cm)</th>\n",
       "      <th>y_det (cm)</th>\n",
       "      <th>pulse_pi</th>\n",
       "      <th>ion_pp</th>\n",
       "    </tr>\n",
       "  </thead>\n",
       "  <tbody>\n",
       "    <tr>\n",
       "      <th>0</th>\n",
       "      <td>0.0</td>\n",
       "      <td>0.0</td>\n",
       "      <td>0.0</td>\n",
       "      <td>0.0</td>\n",
       "      <td>96.788074</td>\n",
       "      <td>7875.019531</td>\n",
       "      <td>46.0</td>\n",
       "      <td>1986.0</td>\n",
       "      <td>1986.0</td>\n",
       "      <td>0.0</td>\n",
       "      <td>1.574880</td>\n",
       "      <td>-2.295810</td>\n",
       "      <td>0</td>\n",
       "      <td>1</td>\n",
       "    </tr>\n",
       "    <tr>\n",
       "      <th>1</th>\n",
       "      <td>0.0</td>\n",
       "      <td>0.0</td>\n",
       "      <td>0.0</td>\n",
       "      <td>0.0</td>\n",
       "      <td>184.834798</td>\n",
       "      <td>7875.019531</td>\n",
       "      <td>46.0</td>\n",
       "      <td>2718.0</td>\n",
       "      <td>2718.0</td>\n",
       "      <td>0.0</td>\n",
       "      <td>-1.240870</td>\n",
       "      <td>-0.273416</td>\n",
       "      <td>732</td>\n",
       "      <td>1</td>\n",
       "    </tr>\n",
       "    <tr>\n",
       "      <th>2</th>\n",
       "      <td>0.0</td>\n",
       "      <td>0.0</td>\n",
       "      <td>0.0</td>\n",
       "      <td>0.0</td>\n",
       "      <td>98.703905</td>\n",
       "      <td>7875.019531</td>\n",
       "      <td>46.0</td>\n",
       "      <td>1998.0</td>\n",
       "      <td>1998.0</td>\n",
       "      <td>0.0</td>\n",
       "      <td>1.709700</td>\n",
       "      <td>-0.668762</td>\n",
       "      <td>4294966576</td>\n",
       "      <td>1</td>\n",
       "    </tr>\n",
       "    <tr>\n",
       "      <th>3</th>\n",
       "      <td>0.0</td>\n",
       "      <td>0.0</td>\n",
       "      <td>0.0</td>\n",
       "      <td>0.0</td>\n",
       "      <td>105.604788</td>\n",
       "      <td>7875.019531</td>\n",
       "      <td>46.0</td>\n",
       "      <td>2078.0</td>\n",
       "      <td>2078.0</td>\n",
       "      <td>0.0</td>\n",
       "      <td>-2.533930</td>\n",
       "      <td>2.063530</td>\n",
       "      <td>2078</td>\n",
       "      <td>1</td>\n",
       "    </tr>\n",
       "    <tr>\n",
       "      <th>4</th>\n",
       "      <td>0.0</td>\n",
       "      <td>0.0</td>\n",
       "      <td>0.0</td>\n",
       "      <td>0.0</td>\n",
       "      <td>105.690186</td>\n",
       "      <td>7875.019531</td>\n",
       "      <td>46.0</td>\n",
       "      <td>2070.0</td>\n",
       "      <td>2070.0</td>\n",
       "      <td>0.0</td>\n",
       "      <td>1.603760</td>\n",
       "      <td>1.711910</td>\n",
       "      <td>0</td>\n",
       "      <td>0</td>\n",
       "    </tr>\n",
       "    <tr>\n",
       "      <th>...</th>\n",
       "      <td>...</td>\n",
       "      <td>...</td>\n",
       "      <td>...</td>\n",
       "      <td>...</td>\n",
       "      <td>...</td>\n",
       "      <td>...</td>\n",
       "      <td>...</td>\n",
       "      <td>...</td>\n",
       "      <td>...</td>\n",
       "      <td>...</td>\n",
       "      <td>...</td>\n",
       "      <td>...</td>\n",
       "      <td>...</td>\n",
       "      <td>...</td>\n",
       "    </tr>\n",
       "    <tr>\n",
       "      <th>490171</th>\n",
       "      <td>0.0</td>\n",
       "      <td>0.0</td>\n",
       "      <td>0.0</td>\n",
       "      <td>0.0</td>\n",
       "      <td>98.431365</td>\n",
       "      <td>6547.874512</td>\n",
       "      <td>72.0</td>\n",
       "      <td>2198.0</td>\n",
       "      <td>2198.0</td>\n",
       "      <td>0.0</td>\n",
       "      <td>-1.343130</td>\n",
       "      <td>-2.962310</td>\n",
       "      <td>2198</td>\n",
       "      <td>1</td>\n",
       "    </tr>\n",
       "    <tr>\n",
       "      <th>490172</th>\n",
       "      <td>0.0</td>\n",
       "      <td>0.0</td>\n",
       "      <td>0.0</td>\n",
       "      <td>0.0</td>\n",
       "      <td>98.542280</td>\n",
       "      <td>6547.874512</td>\n",
       "      <td>72.0</td>\n",
       "      <td>2199.0</td>\n",
       "      <td>2199.0</td>\n",
       "      <td>0.0</td>\n",
       "      <td>-2.036310</td>\n",
       "      <td>2.512160</td>\n",
       "      <td>2199</td>\n",
       "      <td>1</td>\n",
       "    </tr>\n",
       "    <tr>\n",
       "      <th>490173</th>\n",
       "      <td>0.0</td>\n",
       "      <td>0.0</td>\n",
       "      <td>0.0</td>\n",
       "      <td>0.0</td>\n",
       "      <td>96.401960</td>\n",
       "      <td>6547.874512</td>\n",
       "      <td>72.0</td>\n",
       "      <td>2178.0</td>\n",
       "      <td>2178.0</td>\n",
       "      <td>0.0</td>\n",
       "      <td>3.303280</td>\n",
       "      <td>-1.017060</td>\n",
       "      <td>2178</td>\n",
       "      <td>1</td>\n",
       "    </tr>\n",
       "    <tr>\n",
       "      <th>490174</th>\n",
       "      <td>0.0</td>\n",
       "      <td>0.0</td>\n",
       "      <td>0.0</td>\n",
       "      <td>0.0</td>\n",
       "      <td>98.647571</td>\n",
       "      <td>6547.874512</td>\n",
       "      <td>72.0</td>\n",
       "      <td>2187.0</td>\n",
       "      <td>2187.0</td>\n",
       "      <td>0.0</td>\n",
       "      <td>1.660160</td>\n",
       "      <td>-0.653290</td>\n",
       "      <td>0</td>\n",
       "      <td>0</td>\n",
       "    </tr>\n",
       "    <tr>\n",
       "      <th>490175</th>\n",
       "      <td>0.0</td>\n",
       "      <td>0.0</td>\n",
       "      <td>0.0</td>\n",
       "      <td>0.0</td>\n",
       "      <td>97.674570</td>\n",
       "      <td>6547.874512</td>\n",
       "      <td>72.0</td>\n",
       "      <td>2172.0</td>\n",
       "      <td>2172.0</td>\n",
       "      <td>0.0</td>\n",
       "      <td>0.665614</td>\n",
       "      <td>-0.576311</td>\n",
       "      <td>2172</td>\n",
       "      <td>1</td>\n",
       "    </tr>\n",
       "  </tbody>\n",
       "</table>\n",
       "<p>490176 rows × 14 columns</p>\n",
       "</div>"
      ],
      "text/plain": [
       "        x (nm)  y (nm)  z (nm)  mc_c (Da)     mc (Da)  high_voltage (V)  \\\n",
       "0          0.0     0.0     0.0        0.0   96.788074       7875.019531   \n",
       "1          0.0     0.0     0.0        0.0  184.834798       7875.019531   \n",
       "2          0.0     0.0     0.0        0.0   98.703905       7875.019531   \n",
       "3          0.0     0.0     0.0        0.0  105.604788       7875.019531   \n",
       "4          0.0     0.0     0.0        0.0  105.690186       7875.019531   \n",
       "...        ...     ...     ...        ...         ...               ...   \n",
       "490171     0.0     0.0     0.0        0.0   98.431365       6547.874512   \n",
       "490172     0.0     0.0     0.0        0.0   98.542280       6547.874512   \n",
       "490173     0.0     0.0     0.0        0.0   96.401960       6547.874512   \n",
       "490174     0.0     0.0     0.0        0.0   98.647571       6547.874512   \n",
       "490175     0.0     0.0     0.0        0.0   97.674570       6547.874512   \n",
       "\n",
       "        pulse (deg)  start_counter  t (ns)  t_c (nm)  x_det (cm)  y_det (cm)  \\\n",
       "0              46.0         1986.0  1986.0       0.0    1.574880   -2.295810   \n",
       "1              46.0         2718.0  2718.0       0.0   -1.240870   -0.273416   \n",
       "2              46.0         1998.0  1998.0       0.0    1.709700   -0.668762   \n",
       "3              46.0         2078.0  2078.0       0.0   -2.533930    2.063530   \n",
       "4              46.0         2070.0  2070.0       0.0    1.603760    1.711910   \n",
       "...             ...            ...     ...       ...         ...         ...   \n",
       "490171         72.0         2198.0  2198.0       0.0   -1.343130   -2.962310   \n",
       "490172         72.0         2199.0  2199.0       0.0   -2.036310    2.512160   \n",
       "490173         72.0         2178.0  2178.0       0.0    3.303280   -1.017060   \n",
       "490174         72.0         2187.0  2187.0       0.0    1.660160   -0.653290   \n",
       "490175         72.0         2172.0  2172.0       0.0    0.665614   -0.576311   \n",
       "\n",
       "          pulse_pi  ion_pp  \n",
       "0                0       1  \n",
       "1              732       1  \n",
       "2       4294966576       1  \n",
       "3             2078       1  \n",
       "4                0       0  \n",
       "...            ...     ...  \n",
       "490171        2198       1  \n",
       "490172        2199       1  \n",
       "490173        2178       1  \n",
       "490174           0       0  \n",
       "490175        2172       1  \n",
       "\n",
       "[490176 rows x 14 columns]"
      ]
     },
     "execution_count": 126,
     "metadata": {},
     "output_type": "execute_result"
    }
   ],
   "source": [
    "data"
   ]
  },
  {
   "cell_type": "code",
   "execution_count": 127,
   "metadata": {},
   "outputs": [
    {
     "name": "stderr",
     "output_type": "stream",
     "text": [
      "d:\\pyccapt\\pyccapt\\calibration\\calibration_tools\\data_loadcrop.py:174: UserWarning: This figure was using a layout engine that is incompatible with subplots_adjust and/or tight_layout; not calling subplots_adjust.\n",
      "  fig1.subplots_adjust(right=0.75)\n"
     ]
    },
    {
     "data": {
      "application/vnd.jupyter.widget-view+json": {
       "model_id": "e9769d8df99b430d9dfeb48f763c523b",
       "version_major": 2,
       "version_minor": 0
      },
      "image/png": "[encoded data removed]",
      "text/html": [
       "\n",
       "            <div style=\"display: inline-block;\">\n",
       "                <div class=\"jupyter-widgets widget-label\" style=\"text-align: center;\">\n",
       "                    Figure\n",
       "                </div>\n",
       "                <img src='data:image/png;base64,iVBORw0KGgoAAAANSUhEUgAAAbEAAACxCAYAAABKp4MFAAAAOXRFWHRTb2Z0d2FyZQBNYXRwbG90bGliIHZlcnNpb24zLjcuMSwgaHR0cHM6Ly9tYXRwbG90bGliLm9yZy/bCgiHAAAACXBIWXMAAA9hAAAPYQGoP6dpAABSoElEQVR4nO2deXwURfbAvz1nEnJyJCEhAeQOV0CuuB4oWdDlWBX3p+IqgqggqICLgOuK666CJ6yKwnrhqoi6K6zLpdyIIHe4QpBLwpVw5iLJZGa6fn9MppmZTE5yzCT1/Xz6k+nq6u5XPZl6/apevacIIQQSiUQikfghuroWQCKRSCSSqiKVmEQikUj8FkNdC1CX2Gw2du/eTVRUFDqd1OcSicSBqqpkZmbSo0cPDIaG0U0WFhZSVFTk9ZjJZCIgIKCWJaoYDePbKYXdu3fTp0+fuhZDIpH4KNu2baN37951LUaNU1hYSKvWwWRm2L0eDw0NpXnz5uh0OsaPH8/48eNrWcLSadBKLCoqCoBAwxPodKF1LI1EIvEVVDWHAtt7Wh9R3ykqKiIzw07qL60ICXEflcrNVUlo/ysnT54kNNT3+skGrcScQ4g6XSg6XVgdSyORSHyNhjbNEBpkILSR3q1MsXu3znyFBq3EJBKJRHIVxebYPMt8mYb1muFHCKHHau9Aka0bQvjmhKpEIqlf6FTQ2T021XGsd+/eJCQkMHfu3LoV0gNpifkgQpjJL7oPVTQHwGK7DbNhE0b9LhRFrWPpJBJJfUWxCxS7KFEGsH37djknJnFHFUGoalMEIQgR6NgIxK7GoYpmLjUDsNiSsdhuxGT4GaN+Lzolv87krixCgBDhCIwoFKEoV1AUG45YMQaECMYuohDCDJiKn4MZIUIQ6FFQAQsG/WEMusMoigwyI5HUBIpNoNhEiTJfpsaV2KxZs5g+fTpPP/00c+bMARzunM888wyLFi3CYrEwaNAg3nvP3RMoPT2dcePGsW7dOoKDgxk5ciQzZ850W7Oxfv16Jk+ezIEDB4iLi+P555/n4YcfrukmlYsQelTRDCGCsKsx2EVs8ZCgAYEBhBGBCTCVcyUreiUDu4gr3g+gyNafIlt/9Lpf0etOoFOyUZRsVLUZCnZ0unPolAsoir1YFrCpHbCrcShYUJQCwIaCHRQrCvkoSiEKFlCKipWM+0SuEDrAiBCBqISgYAVsjvYIM45RaR0CPaAABlQRghBhqCIcVUQgRLhH2xznVwab2hWFPAz6w+iUy4AFRSkqbtcVFCUHnVJQqWtKJJKrKHbH5lnmy9SoEtu+fTvz58+nW7dubuWTJk1i2bJlfPPNN4SFhTFhwgTuvvtufvrpJwDsdjuDBw8mOjqazZs3c/bsWR566CGMRiOvvPIKAMePH2fw4MGMHTuWL774gjVr1jBmzBiaN2/OoEGDarJZGqoIRVWboYpQhAhFpZHDqlBjAfM1XVshj0DTYvS609jUWKy2ftjUdtpxu9oKu9qqjCvYi7fyFKUnAoV8QClWSgZAX845VaFq/3qCYKz2HqUeV8hGrzuHomSjU86jKBYUitDrTqMolqoKK5E0CPzRsUOpqQDAeXl59OzZk/fee4+///3vJCYmMmfOHLKzs2nWrBkLFy7knnvuASAtLY1OnTqxZcsW+vXrx4oVKxgyZAhnzpzRrLN58+YxdepUzp8/j8lkYurUqSxbtoz9+/dr97zvvvvIyspi5cqVFZLx1KlTxMXF0cg0rUwXeyEU7Go8dtEchBm7iERVmyGozPiwisMCsgFWR+eqFKBTzqNTslCUfBQKiv8WoSjZJea/7GokVnsXbPYOCPxpSYAVnXIeve48QphQRQhgxGkROp7DBRQlB0WxFj8HC4qSh0IRAiN2tSVWe0fsatsqylCAybAdg+4oipJbbE1aUZTqa6Wk/qCq2VwpmsXJkydp0aJFXYtT4+Tk5BAWFsaFXdcRGuzu75eTp9K05zHat2+PXq9vOIudx48fz+DBg0lOTubvf/+7Vr5z506sVivJyclaWceOHYmPj9eU2JYtW+jatavb8OKgQYMYN24cBw4coEePHmzZssXtGs46EydOvCa5HZ1sE+xqc4QIwaa2RhVNcHS6FUMhH73uGDolC52SjV5/Ap2Sc01yAeh159Dr1iIMa1FF0+ItHFVtiioiiocFC1BFOE4LyjnEp1OyMOl3IDCD0CMwIAgoHg50/BUYEaIRQjQCxe4YcsSOo7N3DtvlFl/X6FBAFABq8ZiDWjx/pRYrpksOZUzBNSkLhUJ0+v0Y9ftRRSCqGokgECFMgBkhAhA0wq42RRVReP+uAimy3UwRN7uUFRbXFWhDrNgcylMp1Obv9LrTGHRpci5OUu8pazixQTl2LFq0iF27drF9+/YSxzIyMjCZTISHh7uVR0VFkZGRodXxXCnv3C+vTk5ODgUFBQQGBpa4t8ViwWK5OqSUm5sLgF1tRpH9pmKHiugKtrIAvXIBve5UcWedWzwvk3fNnXZ5KAqOe3Oh5m7io+iUAnT6E6UeF0JBEIyqNkYVEYARuxqLTW1PyRUlrksXDAjtGmHgoq+s9l7AYMcwq2JDoRBFKUAhH53ukuOvkoWiXEGIIAQhqCIYhAlFuYJBdxyd7nK1tF8iqVFsxZtnmQ9T7Urs5MmTPP3006xatcrnAkbOnDmTv/71ryXKC21joIyhQUW5jF45i0F/FIVcdEouinJZDkX5IIoiHN+RPhdwKrvtqGpYsYNLMwQBIMyoIhxFKcShsfTFTjcmBEFermxwDB+LYv3mVHIVWPFgAQy6Qxj0B9Hr0v3Ks1TSsHBYYkqJMl+m2pXYzp07OXfuHD179tTK7HY7Gzdu5N133+X777+nqKiIrKwsN2ssMzOT6GiHFRQdHc22bdvcrpuZmakdc/51lrnWCQ0N9WqFAUyfPp3Jkydr+6dPnyYhIcGtjk45j053Fr1yVlNWet3FSj4Fia+h02Vj0m0rvyJOb0wTQpixi+bY7J2xi6bFw7BmquK0Y1M7YFM7AI6XIoPuMCZ9CjrdpUpfSyKpMZwzCJ5lPky1K7EBAwawb98+t7JRo0bRsWNHpk6dSlxcHEajkTVr1jB8+HAADh06RHp6OklJSQAkJSXx8ssvc+7cOSIjIwFYtWoVoaGhmtJJSkpi+fLlbvdZtWqVdg1vmM1mzOarHVBOjnOe6gpmww6M+r3Fb+aShozDoaYQRSlERzZGfZrbcaeSU0UYqghDiGBUEYlAh4Kl+OUnGwU7djWGIntPXIcuhYjAau+D1d4HvXISoyEFg+6gXMguqXMUu+LFEnPs9+7d2ycdO6o97FRISAhdunRx2xo1akSTJk3o0qULYWFhPPLII0yePJl169axc+dORo0aRVJSEv369QNg4MCBJCQk8OCDD7Jnzx6+//57nn/+ecaPH68pobFjx3Ls2DGeffZZ0tLSeO+99/j666+ZNGlSpWUezBJMhm1VVmBDLPFVOk/inyiKiqIUotdlYtT/gsmwiwDjSgKNywkwrsFk2IZRfwiD/ghm40aCze8QaPw3Rv1WdMo5XCfc7CKOQutQ8ov+iNXeodhzU+JvtGrVCkVRSmzOzr5///4ljo0dO9btGunp6QwePJigoCAiIyOZMmUKNpv7hNT69evp2bMnZrOZtm3bsmDBguptiF0Bm8dWrMS2b99OamqqTykw8LDEXIfaSiM0NJQXX3zxmm46e/ZsdDodw4cPd1vs7ESv17N06VLGjRtHUlISjRo1YuTIkbz00ktandatW7Ns2TImTZrEP/7xD1q0aMGHH35YpTVi603p6K7BZX2pOb3K50rqP4pix6A/gkF/BFiHKoKw2rtjtXdDiAgAVBFDofUuAHTKBQz6/Rh06cVLD7wnKpT4Dtu3b8fuEu19//79/Pa3v+UPf/iDVvboo4+69WFBQVfnXn1mbaz9qtJyK/Nh3NaJNW/evMTbgSdffPEFv/zyS40LVhtUZJ3YEEt8nSqpIZZ42un0zDYeL7deQ1Cm9amdjmgqHSm0DgK8z+OCYwF3gHE5hjK8MiXVy7WuE5s4cSJLly7l8OHDKIpC//79tbWy3qittbGl4VwnlrWsfYlULDlX7IQP/oXs7Gzfd7EfMGAAM2bMKPOEw4cP16hAvkZ1d5ienXB5nXJF719bHXtdK5H6osDAsVTCqE/DoDuETW2LXW2BXW2BKmLd6gnCKLDej1HdgdmwWnrF1iK5ubkuc+cl59W9UVRUxOeff87kyZNRXL6sL774gs8//5zo6GiGDh3KX/7yF80aq8u1sW74oSXmpsQ+//zzck+oSB1J6Xh2wmV1ynWtMLzha/LUBxRFYNQfxqh3vCDa1abFYcWisKldtXpWey9U0QyTfnvx0KSkpvH0Xp4xY0a50ylLliwhKyvLLY7riBEjaNmyJTExMezdu5epU6dy6NAhvv32W6Dm1sZWGrvOsbmV+fYif6/eidu3b6dz584EBQXx9ddfs23bNiZPnkxMTExty9egqWuF4YtKtCGg111Ar3MsZFfVLVwpGoPTB8uutqRAbYliy8Js2IheOYNOl1V3wtZzUlNTiY29ahmXZ4UBfPTRR9xxxx1u/eVjjz2mfe7atSvNmzdnwIABHD16lDZt2lSv0NeCH1piXr0Tx4wZg9ls5vDhw/z5z3/GaDQyatSo2pbNp6kJj0Rf83IsT4H5mrz1EZ3uEsHm1zDo9xYHZnYgRDiF1mFcKRpLvmUEVnvn4jBckuokJCSE0NBQbStPiZ04cYLVq1czZsyYMuv17dsXgCNHHBZ1aetencfKqlPW2tjKIlQdwu6xqQ414VdJMfV6PXq9nhUrVjBu3DgmT55Mjx6lRw5viNSEheJvVk9NyDvJ2prZxuPSCnRBUSDQuBxh0GGzd8Ziu8kt+LRdxGO3xgMqel06et1xdMoVHIGXs9EpGWXOozlcuxQc77SOWJsCk2N+Tm2GIAghjMXLCk5j0B2RHpOl8MknnxAZGcngwYPLrJeSkgI4nOmg5tbGVpoyLDG/ip1osVjIzMzkf//7H6+++iqAm/uoRFJTOL0wpQIriaKoGA37MOgPYrV3QRXNsdmvQ+BcW6bzmqJHp5wrVjy5KEo+qmiMEGHFTiShVCZdj9V+PaCiU5x566w41r0VB37Gik6XWZyNwa6V65QsHEH4nOl9BI58cKCqjbGpccWJUwNwZntQlAIUJc9vhkxVVeWTTz5h5MiRbnkPjx49ysKFC/nd735HkyZN2Lt3L5MmTeLmm2/W0lS5ro197bXXyMjI8Lo29t133+XZZ59l9OjRrF27lq+//pply5ZVXyPqy5zYpEmT6NChA8nJyfTs2ZOjR48SERFR27JJ/BxpTdUMimLDZEgBUhAGBbvaCpvaDpu9jdcUPaqIpMgeWY0S6FBFdOnBsiv8vluAwwIsP8aqQrYjiJ/QIwjAbNiIybCzojeqFVavXk16ejqjR492KzeZTKxevZo5c+Zw5coV4uLiGD58OM8//7xWp7bXxpaKH86JVSifmKqq2Gw2TKb6NeZe0XxiEok/IASoonlxJu0ABGZs9vaoonmp5yhkO7IvYAfFYTU5U+ooSg4G3bHi/Gs2VBGGTW2L1Z5AWevaagu97jhBpq9q5NoNNZ/YpY97EhrksU4s307j0bv8Y52YK1u3buXo0aNuYU8eeuihWhFKIpFUHkeKnrPoOauVmfRbECICtXgTIhhFKUCvO4lOuVypUGs6LmHQH8dsWI9djSkeSrTimEtTAD2qCCkerjSjza85MwYgtLxzCKMj751iR6dcdszlKee0rAJCmBAEoooIbPaOxTn9nPN2Duxqa65YHqKR+V/X/vDqKRUIwkRoqEs9u+JlONG3Y3p6VWLjxo3j+++/JzExEb3eoZUVRZFKrBzk8JnE11AUR9R8HdWXz0xRrKVGD9F7Lb02zIbNCKEAAkEgVyxPa8dUEUNu4URCAubUwJ39ny+/hHKCMPHFF1eVmFAVhMfwoVB9ezjRqxJbvXo1qampPpcPzNeRCkwiqRwVffFzZtVWKCDYPJs8i2ug7wDyCp8kwPhfdLrLxUlpfTyTYy0xYACUE4QJtyBMXh07qj1OfLXiVYk1b968Qov6JBKQFqik6lTl/0ZRLASbXyXPMlUrEzSiwDpC21OULG2YUqdcQq/LQKfkeL9gPaYiAZY+/xyckbWca8Ncce77aioWr0qsb9++3HPPPdx7771u1tiwYcNqTTCJRCIpDUURBJtncaXoMYRo7HkUISKwiwjs6nXFZSoG3QEM+sPF84EFWm1VBGO1JaKKJihKATrlPApp1AcSE2HMGHjgAaiIg7lQry5udi0DP1sntmPHDgDef/99rUxRFKnEKkh1WCbORb/+gC9aYdI6rP8oCgSb/4kqQrHbW2EXUcUJSsNRRQTu69902NSuWixKRckCVIQIxLunZRIwsYZbUPPMmAEffwzTp8OQIfDII+ARQ9gdP3Sx96rE1q1bV9ty1Cuqo/P0BwXmy4rCV+WSVD86JQedYS9GlzLHcoPGxQu6o7Hae+DwbnQeD69tMeuEu+5ybBkZ8OmnMGECWCwwapRji4tzr1/WcKKv4ibdhQsXyj2hInUkDQOpKCS+iqKAXncJk2EvAcYfCDa/RaDxG4z6HcXZte1AYfHc2VlM+i0Emf5FgHEpRv02FM7VdROqlehomDoV0tIcc2BLl0Lr1iXrlRU70Vdxs8QGDhzIrl27yjyhInX8mcpYFzVtiVT39X3ZcpJIahLHsoCjGPRHAYel5i2epJ4zGPWg6rO5Us/CQ168CJ995hhezM4Gl4AhGkJVSrjU+5WLfVpaGj179izzhIsXL9aoQHVNZTr5mlYI1X19qcAkEgcNJbGoqsKKFfDRR7B6Nfzud/DGG/Db33p/Bv44nOimxFasWFHuCfUt9JQvIS0lSUPjWv/nnemA5O/GO7GxEBkJo0fDBx9AkyZl1/d7JXbLLbfUlRwS5A9R0vC41v/5qp7fUJTfd99B794Vr+8YTvR0sfdts9W3VWw9QiaQvIp8Fv5Dad/VJGtJrwBvZWVdx1k2xBLPrMAYJllbM8QS71bu/DvJ2rrM63te19v9ZgW6Z6b3VGAL214N8PCo1cNtz0+pyOzPypVXPwu74nXzZaQSqyVKe+Or6w69Lu5f399+65ryvlOnMihNKbiev9Sc7rbv/Oy6BMRbmSfevnNn2VJzOtMKzjDbeJyl5nS3cuff2cbjlVp2MrRlrqbMnO2Mj71Yon2unxceiNLKPjCerPC9fJmpUyE31xGRo7Rt+vSr9Ut4JnoZXvQ1KpSKpb7i66lY5ByZRFI31JdULDqdw4GjrF4+OhrS0hypWNKn/Y5Qs9HteI7FSvys5T6bisWriu3Tp0+FyuojdW0ZuVJX1pvn9WvjmfjSc6+v1OUzLuvensOHlT1fUjqqCna7429p25kzV+uXZYn17t2bhIQE5s6dW0et8Y5XJeaaQ8y5n5ubWysC1TX+YPnUtmt/bTyT8u4hO7GyqcjzaadzJEqp6NxSeffzNiznWlbasKXz3FmBMW6jDc6hS+fcmCv+8LusDwjhfQNH7MTU1FSfCv4LHt6Jr776KrNmzSIvL4/Gja8G1SwoKJC5xCR1iuzEvDPEEk87nZ7Z5uPlDj8755SqI6RZaS86ruWl3U+rWwB4JMuQ33PdUlYAYF/FTYmNHTuWe++9l3HjxjFv3jytPDQ0lIiKhECu58g5qppHPuPK4fqs5HOTXCvCrkP153ViYWFhhIWFVWjRc0OkrE6iop1vfemka6od9eHZSCT+ij9aYl6l27VrF7fffjvt27fnuuuuo3Xr1lx33XXeqkqKqWjn661eWWtoqovqvp5UNlVDzu3VLPL5eufkSUcqlsREx35KCsyeXbKeP64T85qKZeTIkUyYMIGkpCT0en1ty+ST1KQFVdYampq8h6T2kd9DzSKfr3cefxxGjIDXX3fsd+kCDz4Ikya511NVHaqH5eW572t4lU6v1/P444/TrVs3OnfurG0Nmdr6cfiCBSbfZiWS+sW5c/DHPzrWjQEYDI7NE6EqXlKx+LYl5lWJ/eY3v9GyOzdU6qoj9wULrLpkqK5n6K9K1V/ldqU+tEHiUFiuC54vX/a+ANqZisVz82XclFiPHj3o2bMnGzdu5IYbbiAhIYGePXtqW0OiMh15abHaamOuy5epLmXoeR1/eYb1YWirPrShNnjxxRdRFMVt69ixo3a8sLCQ8ePH06RJE4KDgxk+fDiZmZlu10hPT2fw4MEEBQURGRnJlClTSqzZXb9+PT179sRsNtO2bVsWLFhQIfn+8AfHkGJODnz4oSMVy5gxJes5hxM9N1/GzaCcM2dOHYnhW1R2/qu0urUx19UQkc9Q4ot07tyZ1atXa/sGl/G6SZMmsWzZMr755hvCwsKYMGECd999Nz/99BMAdrudwYMHEx0dzebNmzl79iwPPfQQRqORV155BYDjx48zePBgxo4dyxdffMGaNWsYM2YMzZs3Z9CgQWXK9swz8OWXjmSYP/wAkyc75sg8kalY6gmyk5RIJJXFYDAQHR1dojw7O5uPPvqIhQsXcttttwHwySef0KlTJ37++Wf69evHDz/8QGpqKqtXryYqKorExET+9re/MXXqVF588UVMJhPz5s2jdevWvPnmmwB06tSJTZs2MXv27HKVGMD99zu2svBHxw6v3om33norikfaz/DwcJKSknjqqacwm83eTpO4UF/Wg9Ul8hlK6prc3FxycnK0fbPZXGr/d/jwYWJiYggICCApKYmZM2cSHx/Pzp07sVqtJCcna3U7duxIfHw8W7ZsoV+/fmzZsoWuXbsSFRWl1Rk0aBDjxo3jwIED9OjRgy1btrhdw1ln4sSJ5bZj1KiSmZzDwyEpyTHU6ERVFVSPOTDPfV/Dq4q9/vrrMRgMPPLII4wZMwaTyURMTAw7duzgySefrG0Z/ZJr7Xz9Zd6nJpHPUFLXJCQkaEEgwsLCmDlzptd6ffv2ZcGCBaxcuZL333+f48ePc9NNN5Gbm0tGRgYmk4nw8HC3c6KiosjIyAAgIyPDTYE5jzuPlVUnJyeHgoKCMtthNsOOHdCmDbRtC7t2waVL8Pbb8NxzV+v5YyoWr5bY5s2b+fHHH7U1Yn/4wx+46aab2LRpE127dq1VAeuSSdbW1RJnrioWhbRArp3qfIbSKvRvvGVydpa10+mZbXSPPTkrMownT0FqaiqxsbHaOaVZYXfccYf2uVu3bvTt25eWLVvy9ddfExgYWO3tqSwHD8LmzRAc7Nh/6in43e/g+++hVy+YNs1R7o/DiV6lu3jxottwoqIoXL58GYPBQEBAQK0JV9dUhwID//Wuk1xFKjD/wjOqvmuyTSfOMufv3PX4tHPZAISEhBAaGqptFZ1KCQ8Pp3379hw5coTo6GiKiorIyspyq5OZmanNoUVHR5fwVnTul1cnNDS0XEV5/vxVBQaOzxcuQFCQw0rTEDot9JQWgkrUjRK76667iIiI4J577imznlfpBgwYwB133MFnn33GZ599xtChQ7ntttvIy8uT82HVgPPHUhFlVheLn6WSbThc63c9KzCmzHLXdCyeqVtmBcZ4TQvjqoCqKp+3qPq1SV5eHkePHqV58+Zcf/31GI1G1qxZox0/dOgQ6enpJCUlAZCUlMS+ffs4d+6cVmfVqlWEhoaSkJCg1XG9hrOO8xpl0a0bjB4NP/7o2MaMga5dwWIB16BMql3xutUFTz/9NP/617/Krec1s7PNZmP+/PmsXbsWgNtuu43HH3/czWW0PuDrmZ0lkoriVAaHVTs3htuIj71I+ukmdGx/mjv3KMyPjuBydiDTCs5o9Xt3OkNuXhBpJ8M5rNpZak5nVmCMdi7ApiwDQ1tezSX4vxMh2vCbqwK6pdcx7tyjaMprWsEZ5kdH8HjGZTcZo0Itmgyuw3fzoyP434kQhrbM5fGMyyzpLrhzT905FFQ2s/Of/vQnhg4dSsuWLTlz5gwzZswgJSWF1NRUmjVrxrhx41i+fDkLFiwgNDRU8y3YvHkz4HCxT0xMJCYmhtdee42MjAwefPBBxowZ4+Zi36VLF8aPH8/o0aNZu3YtTz31FMuWLSvXOzEvD156CZw68Lbb4IUXIDDQsfDZbHZkdt525+MEG03u51qL6LNkfp1kdl6/fj3vvvsu//73v0ut41WJNRQqo8TknEjZyOdTOzjnaYdY4rUOX1L9VFaJ3XfffWzcuJGLFy/SrFkzbrzxRl5++WXatGkDOBY7P/PMM3z55ZdYLBYGDRrEe++95+aSf+LECcaNG8f69etp1KgRI0eOZNasWW7Gw/r165k0aRKpqam0aNGCv/zlLzz88MPX3N6cHIcS2zpsLMFG99G2PKuFvt/Nq5QS27hxI6+//jo7d+7k7NmzLF68mDvvvNOtzty5c3n99dfJyMige/fuvPPOO/Tp08etTkWUmJtp9eabb/LMM88wadKkEi72AG+99VaFGlAfqY8ddHUqnvr4fOoS1+9miCWeG8NtTCs44zZ/szSjLiX0TSrzP+1Z91p+D4sWLSrzeEBAAHPnzmXu3Lml1mnZsiXLly8v8zr9+/dn9+7dVZJx2zZH9PrCwqtlTz3lXqe6HDuuXLlC9+7dGT16NHfffXeJ41999RWTJ09m3rx59O3blzlz5jBo0CAOHTpEZGRkpe7lpsSCi2f+PF1BJdWLr1gtviCDxDueyS6Xlu1BLSnmWiLt1OffwyuvwL//DenpcMstsGoVDBjgRYnZFVSdUqIMcFsvB2WvmbvjjjvcPDY9eeutt3j00UcZNWoUAPPmzWPZsmV8/PHHTHO6SlYQNyX2+OOPAzBjxoxKXURSOerzj6W2qc0XAl95+SgPf5GzpnH1TJxkbc1h1U47nV77GxVqIT72Io2bZlFYEKDN6Tnn7OoTCxc61on16wf/+Q8cOuS+PsxJWZZYXFycW/mMGTN48cUXKy1LUVERO3fuZPr06VqZTqcjOTmZLVu2VPp6bkrs7bffLrPyU55qWyKpY2qzs/YXxeAvclYHzqHWzBwzvTs5lM/CA1GM6JxJbp5jznCIJZ7ZZi/LZQqAI8CRq+7p9VGBAQQEODZVdUSv79ABjh4tWa8sJXby5Em3ObGqeqpfuHABu93udeF2Wlqatp+cnMyePXu4cuUKLVq04JtvvvHqiemmxMoaa/U2RyaR+DLlWSQNxWKZFRjDpiwDIzpnsvBAlOaFuCnLUOn5I+dfp2diVKiFzByzNlfn6YHoLHPWdfV8dJKZY6ZjXBZpJ8OZbTzOwrZmth+MISrUQkRYAVFRl4hrc4pDe9sCMOKIhSXdBflXAkg/7ZgrxIhDIQGY01l6BMACUGJusWP70wQEFlJYEEDTqAukH2tBUKNCzRtyiCWeP978E4M3VPZJ+y6BgWC1OjI7/+lP0KIF2O0l6wnVSwDgYiXmXCtXW7gGUy4LNyX2ySef1IgwEkldUF4H7Y8KzFWZ3Bhu01zgnW7pAGm/xJLY3fGaXVgQwIYdZoa2zCI3L4gbw20MDYsgJPgi0246xTMWE2dPR9I89hzfrU7kll7HCAgsJDg0jwuZTYlrc4qTR1uQ9osNsuIZ0TmTCU0LMJtT+OVQK24d9iPffjaQg/cdJONYDFu3WUjsfpQlxQpi04/d2WSxM7RlLt17pdJvaXPmRxfQstUZbv/ZYQENUeOJyg7kll7HGBRYyIlfIzSrKqhRIflXAvj8q5s1r0zM6cUKxwKcYVZgDP0H7CS6/SmCorJRrXqKcoII7XYSYTGgtMpCbWxHsSiIPU0RSefR5SsopwOxdimggwrGU3ouNbUh9GA4FsDJDDvUIyX2/vtQVARvvukYRvzpJ/j885L1yrLEevfujV6vZ/z48YwfP77KsjRt2hS9Xu914ba3AMrl4eZi/9hjj/HPf/4TgP/+97/8/ve/r5KQM2fO5NtvvyUtLY3AwEBuuOEGXn31VTp06KDVcbqcLlq0yM3l1NXETE9PZ9y4caxbt47g4GBGjhzJzJkzS7icTp48mQMHDhAXF8fzzz9fYZdTTxd71/FwV1fm2u7sGso9fYGy2u15rLrCkFUU1zmdhW3NpJ9uwqYsA2P6nCDtF0copMTuRzVl0FBwKvBH/v4J4venMZ3SwUUz9jNhCLuCLS+A/HNhmBoVsn9dD4JD87jxh2aVukdlXex9nZUr4fbbSy9zutivueVPNDK4DxNesVkYsOGNKq8TUxSlhIt937596dOnD++88w4AqqoSHx/PhAkTrs2xwzWb81//+tcqK7ENGzYwfvx4evfujc1m47nnnmPgwIGkpqbSqFEjoO7z63jDdQjEWygaJ+V1fJ7nVVd+sopQlvKdFRijDf14dsjeQmM53/idxz0nyl2v45w4B7Q5CkArK+15zI+O0IaRvLXFuQjXeR9nGwC3dlZVCZd1juexa1FgFfmfaafTc0uvY2zYcZ3mfACO723EkTPAGTDD0j2K4zPAz4EsbGtm4YEonh++FYDGMRexW/UERuShM6g0iruIYrYiLEZ0QUWoFgOiSI+9wISiEygGO0fXdaP1b1IByEhpTfwdKRT+2pSLR5pz/mQkRnMRgcGFxHQ7jjH8CnnpTTE1cgzXBbY5h7AY0IUWYssMQRdUhC7QitIsHzUjGCXQihJchHq+EaJIjz4yDxFihTPBqAVG9JF5WA5FYWp7HpFrRs03oRYYMba8jNryCrpjwajZASh6AZ0vYYnVEXhAR8GOOKLbjq7A029YSt4bzz1XUol5K6suF/u8vDyOHDmi7R8/fpyUlBQaN25MfHw8kydPZuTIkfTq1Ys+ffowZ84crly5onkrVgY3S6xnz57s2rULcGR5rup6BE/Onz9PZGQkGzZs4OabbyY7O5tmzZqxcOFCLS5WWloanTp10lITrFixgiFDhnDmzBnNOps3bx5Tp07l/PnzmEwmpk6dyrJly9i/f792r/vuu4+srCxWrlxZrlxOS2xR4lTUrNZuEQ1qGl+wfDzXItW1PLWJ58uGUzk6lYenwpofHUFIcD7pp5uQmWPWIlTAVWXrXMvlnAPq3emMNrfjVLwd47L434kQgEotVl7SXZDQ9wAB4VcI6/8LIsDuCBpnVRBhjhcF5ZDjLdlyKgJz3GVy9sZhMFvJvxhMxpFYN2vk5yFnAYhufwpTIwtBHTI4tbI7TTueInNfSwLD8glq4nCptlmMNIq9hD6kEOvFYOz5Zo5t7UCT2AsERuRxfGd7WnY/yt4NPQCqHGlj3S3ZNIs7x96fu7jNUdUF9cUS++UXSEuDSZNg9uyr5dnZ8PLLjmNw1RL7/oZpXi2xQZtn0b59+woPJ65fv55bb721RPnIkSO1bNTvvvuuttg5MTGRt99+m759+1a6jW6WWEFBAfv27UMIQWFhofbZSbdu3Sp9A3AkhQNo3LgxgE/k13HlkVSFYVZHOB2M3us4J6w3ZRk0S8PZ0bl6SDnrDG2Zq4Xzcb5ROzszZ5mn2y9QqlXhzcJzToA7J8VdJ86dE+LgmCNx3tcpF0BUuIUbcYQJiojOZUSwWQtVtGHHdfTudIb4606RlxNMi7an+Gl1H/53IoQRna+OZTePdcR627qtEzfetIcLmU1pGnWBC5lNSfsllvjYiwQ1KiTtl1giwgq4nB3o9Tk550BGHLFo7XV9FrMCY4gIKyDtZDgd47IICc4H0MImDboplUsXwtl+MEYLpwTweMZlVvYr4MSvMURFXdKG4abhuLbzGU7jOPPjIjh8IsSrpXpV2TicCGa7dLCa1V7gvs8RwHjc4QXn/L/KAMyOa7U72Zohaghj+pygbdcjRPU4hrHVJdSLQehCLGDXQYANkR2ALSuQgsxwdHo7Yb970Ps/aSXot7S58xv0ONKuEldxGaLb0PMaJYJbN4QBYTjmuq46WTSkl6vqZssWWLAAzp1zV2KhoY75MU8c+cQ8LTHHd7F9+/YKDyf279+f8oJBTZgwgQkTJlToemVRQokNGzZM23f9rCgKx44dq/QNVFVl4sSJ/OY3v6FLly4AtZZfxzOys8ViwWKxaPu5uY6YcOvvPcy2pZ3oP2ArHXckcDnbcZ7zrXq28bijYyrAMZzj2inhshjViFaHE/Es9XTr9TjPqZg6xmVBscJzhhNyRmNw/ohdh/OcZQ5Ps+OOjtF4+arLMGccnzOcHe0Z7b5Li+sOscQz2zWGXYFLJ71HcXS+R4AjxR3Vz+2Ay2C+XOz5VcyRsKvnaW/6za6WHQFQmGQ1ay8Azmc7hHgez7jM/DhIP92E+NiLmrK6nG2jXU5r0FE8HwSXswMd34NbpAoLGC8z++fA4s/FcnP1e3bMGV0ufh5XLe2lTi+2YqXzeMZlTcG4vqA4h/mcirhzt1+wWkxYLCZO/BpD916pGE02DEYruZdDaBJ7gUO7OtKhZxrZ58PpcM8WFIOKmm8EoaBregURW4CSr0PJM4IK53/ojLDpSfukP8fSWmnKvCEjFdi1M3KkY/voI3jkkfLr+2MqFjcl9uuvv1b7DcaPH8/+/fvZtGlTtV+7ssycOZO//vWvJcoLchtxx7BNNGt/hrbJKeiCilD0ghGHmmMwb2JakAVj4yuoBUaEXUdBZjgBTXLZtfg3dPvtTmwWIwazlexTTQhrcZHzv8Rw9kQBf425wKoVDvM4PvYi2w/GaPM6ri7P/zsR4qbwXMMJeUZucARytfFMn2yys07w1zanCGmazbrvbiIq6hIdeqahN9o592sUVouJ6OvOkH0+nILcIM6ejqRx0ywALl3IZEwjQUBgISd+zeWZDtn8cqgV3Xul0jjmIrkXwjAYrQDYrEbMQYXs/bkLI45YGGKJ5/nhW7EVGWgSewG71cBPq/sQEpxP89hzZGeFEhaew9ZtnYgIc5gn/zvhGG6LCCsgIqyAWdkxJPY7xI172pB20mHVDjlQbG0WXAYua4p3yAGHYv/fiRDmt4zQrLnhg7dx4w/N2Hn3SXIuhhIYkk90+1PknQunWed0hF1HUU4QjeIugl5Fn3AB8WsouvAC7OeC0UfmYc8MQel6AeVkI0SeGV2TK6jRFpTDoRBkRQm0IbLN2C8HcWOR3jGnlG9C2HUYwgu4PisQe4GJy0ejadQsB73RTkSbDHpFX6ZR23M0yzWTvTeOlDW9KjE8JhUY+Kf3qK+xd6/jb+/eVz+74jm45vdKrLqZMGECS5cuZePGjW7jyq75dVytMc/8Otu2bXO73rXm15k+fTqTJ0/W9k+fPk1CQgJ3LI8pDgB8XaXbuDOmpfYGHhhcyMXTTcnLCabjDfuxFRoZOXUROrMVfWARtwcVMe1iMJbLwYyKyMOeb+ZWvQqAKTKHc9vbENbiIgCPPT+Cdjo909/6ANWqxxhWgD4yF9vZUBS9QB+ez4UtbYnodAa1SE9U1CX6DPuJwuwgcjPDCY/MwhRkwRRcQOP2ZzCEFZCQHYg930z2qSb07HiarKPRFOWbadvzEOHtz2JcXkRYsywunWlCQW4Q361OZNBNqTSLuUBA6BU6dDvCzm4Q1WEzRVcC0BnsBEVlczEtlkEjfgAg71w40dedITAij4637sHUJA/LuVDuCi4kPzOM0I5nsF4MRrUYCYi7RIt1nWnS9ixT7Dp0ZiuZ+1oy7zqHFtcZVBS9irDrCOpymnsNKhTpweZYy5K9N470xGM0irtIwZlwiq4EkLa5C2ZzEVnnwolslcm5X6NI//bmWrZsKjMkJ5HUHGX55ikKeA6uqaoO1e5diVWXi311UyNKTAjBk08+yeLFi1m/fj2tW7vnDHLNrzN8+HDAe36dl19+mXPnzmkBIb3l1/EMmFlWfh3PWF+escCqwvXfxnk/8HPva7tw8Vvok6cbc93bZc03JF79uOfGStygUynXcZnnMB4vHqaLK96clNLmKuPZ6TteJqo+nOR8gXG2RVo21Y0c6vMPjlfSoVZVFVSPwBZVmROrTWrEThw/fjyff/45CxcuJCQkhIyMDDIyMigocAwthYWF8cgjjzB58mTWrVvHzp07GTVqFElJSfTr1w+AgQMHkpCQwIMPPsiePXv4/vvvef755xk/frymiMaOHcuxY8d49tlnSUtL47333uPrr79m0qRJNdGsOqFsBVa9eEtQCGUnTqzJJJuyk/Rd5Hfjf2zb5ggE/MorjjiK3rCrOq+bL+MmnTNR2+felnJXgvfff5/s7Gz69+9P8+bNte2rr77S6syePZshQ4YwfPhwbr75ZqKjo/n222+143q9nqVLl6LX60lKSuKPf/wjDz30EC+99JJWp3Xr1ixbtoxVq1bRvXt33nzzTT788MMqrRHzBeo6o7JnokMnlVlLVdU6tU1dP2uJpDb55z/hnnscXornz8Pw4fDhhyXrieI5MddN+LgSc1sn1r17d/bs2eO2Xqw+4wuZnatrWEYO70gkFWeStTUd47J4POOy26J6cKwZfPbKwXqxTsxJt26OrM7NikfYz593pGJxOns414l91ekVgvQBbufm2wu59+BzdZLZuSK4zYnFxcXRqVMn0tPT6dmz5DBWQ1BstU1VFY+n0qrL8EgSSV3iGkfSuYTDGVTYuU4wZU8bLZCBFtW+2AvY6THcLsfxu5lWcIbkohj+W1cNqiGaNfP+2RVV1aEqfuzYsXjxYnbt2sUf//hHZruujJP4HGUpP6nAGjalxXx0Wh+OJR1Vf3kC90X5ni9N3kYFHEtDAkuEPfO0glzPd67Rcx3mjgq1aIvxnUpKW6dpvrrgHCOaknKsE3RfH+iJFgm/mNWmM1BUpUfkk7RrB3/+MxSnjOSDDxxlnthVBbuHErP7uGOHmxIzGo307duX7777jk6dPL3XGjalRdGQQ3gNi7r8zl3jYo7onOkWrWXQTamc+DWGy9mBxLfN5JnYbN78oWvxWkS7u/VhvuwW7NpVwQBuw2wd47K0yC8fbmupRZ9Z0l3wocsKGKfCAbzm7nJEPLm69s+p9DxfuCZZWxMVbqFdTmsOYy9Zr4Cri/HdFr1LymLePHjySejZ0+Fan5zsiGzvSVmWmK/iNifmJDc3l2nTprFq1SrA4Sk4c+ZMQkJCal3AmsQX5sT8HV9X5L4uHzg6bmdEkMwcM4NuSsVsLuLs6UiCGhWSmdmYkOB8LReYpOapL7ETK4pzTmxB6zcI0rmvsc1XC3j4+J/8Y07MyRNPPEFQUBBff/01iqIwf/58nnjiCT777LPalq9WmBUZxnMXcIvELjuLiuHrz8nbMJWrReOs4xkM2fX8WYGO+JLOYSxnjMqgRoVacsX8K47JcGf4LGcMxxFHLMyPjqBzt18cx4+1oHHTLN7d0EGLGznbeJzD21o67m+keG1ecRgtFKA4JJiPP2uJ79KzJ4wZAyNGgEe0Pzfsqg47nsOJfmiJOb0Uyyvzdypjibl2bJ5Rzp0Ty9MKzmghpdrp9G4Zbj0tgvnREW6eUc7res4PeOKcG3DWcw4LTbK2pnenM1onOuKIRYvM7gy267yH676zU3dGYXfK7noPt6Gi4s5/aMtcQoLzCWpUyIYdjsXJzsC8zoC/zszBrm11VR6e7XXNNuyZruXxDMcQWMf2pwkLz+G71YmazM5JfHDEV3QGQU7sfhSzuYjvVidqCsWZlwtwizjvKoe3eRpJzeJrFnN9s8Q2bIBPPoGlSx1eiaNHw8CBjqFFuGqJfRA3x6sl9ujJiZWKYl+beFViXbp0YcuWLdrwYV5eHv369XNLeVIf8IfhRNe5i6rga51DQ6KheYnWp/+1+qbEnFy5At9844hsf+wYpBd/XU4l9s8W/yDQQ4kVqAU8duppnx1O9Gonjhw5kn79+vHSSy/x0ksv0a9fvyolK5NcO9MKzlzTwlxf6FQa6sLihqTAwDf+1+qKmTNn0rt3b0JCQoiMjOTOO+/k0KFDbnX69++Poihu29ixY93qpKenM3jwYIKCgoiMjGTKlCnYbDa3OuvXr6dnz56YzWbatm2r5eeqCHl5jjVi585BmJf3dtWueN18Ga9KbMqUKbz55pvk5OSQk5PDG2+8wTPPPFPbsjU4Suvs/b1z8Hf5JZLycGaz//nnn1m1ahVWq5WBAwdy5coVt3qPPvooZ8+e1bbXXntNO+bMZl9UVMTmzZv59NNPWbBgAS+88IJWx5nN/tZbbyUlJYWJEycyZswYvv/++zLl+/ZbGDoUunaFX3+FTz+FfftK1vPHsFNehxMbCr44nFifhmQkvk1V/tfq6v+ztu97rcOJntnswWGJJSYmMmfOHK/n1GQ2+4EDYdQouOsuCAgoedw5nPhOs7lehxOfPD/ev4YTJXWHVGCS2sJfFBj43+/CM5u9ky+++IKmTZvSpUsXpk+fTn5+vnastGz2OTk5HDhwQKvjLZv9li1bypTnhx/g/vu9KzBX7KridfNlajSfmERS32lIlnNDaacrubm5bimbPNM5ecNbNnuAESNG0LJlS2JiYti7dy9Tp07l0KFDWuDzmshmX1n80cVeKjEXGlKHVJM0pOfYUNrZUHHmLnQyY8YMXnzxxTLPKS2b/WOPPaZ97tq1K82bN2fAgAEcPXqUNm3aVJvM14KqKqjCI59Y8b5fxE50YrPZ+Mc//sGRI0d4//33OXr0KCdOnOC2226rbflqFdkhVQ/yOUrqC6mpqcTGxmr75VlhpWWz90bfvn0BOHLkCG3atKmRbPaVRVUV7J5JMYVvx070aidOmDCBtLQ01q9fD0CTJk149tlna1OuOqGhuoJLJBLvhISEEBoaqm2lKTEhBBMmTGDx4sWsXbu2RDZ7b6SkpADQvHlzwJGpft++fZw7d06r4y2b/Zo1a9yuU1Y2++++A2+Blv71L8fCZ0/sqrd5sXKbUqd4VWI///wzH3zwAQHFs4Dh4eFYrdZaFawukBaERCKpCuVlsz969Ch/+9vf2LlzJ7/++ivfffcdDz30EDfffDPdunUDaiab/euvw29/W7J80CCYNatkuT86dnhVYgEeLix2ux1V9XF1XEvUlbXmvK+0FiUS36O8bPYmk4nVq1czcOBAOnbsyDPPPMPw4cP53//+p12jJrLZWyxQPBLpRlQU5OaWLPdHJeZ1Tqxbt258/vnnqKrKkSNHePXVV+nfv38ti+ab1LWLsb9aiw3J2UNSM/jy/1B5y23j4uLYsGFDuddp2bIly5cvL7NO//792b17d4XkunSp9GMe67ABUFXw1Fmqj68k9mqJvfXWW/z4449kZGRwww03oNPpmOXN9pT4DL5uoflq5+OvePu+h1jia+z/wBkouS6R/0OVp1078KYTV6wAbw6RdqF43XwZr5ZYcHAw8+fPZ/78+bUtT4PHNattZX60vvoD9+W3Z3/G2zOtyefc0OJA1hf+/ne4/XZ45BFw+n5s3uyIaL9iRcn6dqFgRylR5suUuoptxYoVvP3227z11lvaJimbSdbWbm/C3t5ePd+UXee6XFOe3BhuK3Gu572cea5Ku19ZsrgeK00m131n28p7Iy/tuhWxELxd37ONpV3H1y1RiaQuuP56WL8ezpyB555zbGfPwtq1jmOeqALsHptzOLF3794kJCQwd+7cWm1DeXiNnfjAAw+QmppKjx490OsdnaqiKPzzn/+sdQFrEl+MnehKXVgx0nKSSOpvKpbScMZOfEb5GLMS5HbMIvJ5U4z22diJXocTd+7cyYEDBzQFJqkbqlOZVFQ5SQUmkdQvtm+HN96A4vCLdOkCf/oT9OpVsq5dgN1LmS/jdTixVatWWCyW2pbFr6iN4avqvIercpJDb5JrRf4P+Qdbtjgi2F93nWN+7G9/g9atHWVbt5asby9l82W8WmJvvvkmycnJ9O/f323NmGtem4aK06KpboulNEupuob3XK9Tk9aWvw9HXmsm7YaCP3/HDYnXXoOPP3akYHFy113Qrx/MnAlLlrjXt1PS8vJ1JebVEps+fTomk4nCwkJyc3O1TXL1x1uVN9GynCKcHomu165OZVlbnU5p9ynreVX2WdakFSAVmAQguSim/Ep+wIED7grMye9/D6mpJcvrjSV26NChEqm1JQ48LTFXy8P18yRraw6rdrdO/bBqL/UYVG5B87VYPFV1468pPIc6KyNTTbWlIterCStZ4husNp2BorqW4toJCir9WKNGJcvsgKdftK8rMa+WWIcOHdxy6DRESnMPL03xOD876842Hi9htTn3XY+VRllWW2U6PW9WS2WHFcuzfEpbZFvWcysNz3plye/6ubrn/CpicfublSxpeFgssG8f7N1bcissLFnfHy0xry729957Lzt37mTgwIFuc2L1ba3YtbrY++obdE3L5avtriz1pR2S6qe+uNi3agVKKWuVFQWOHXN8drrYP8RHmHA334rI51884l8u9gkJCSWSwUlKUpPp3a+lbk0PFdZVWvvqblNZ15IKTlIf+PXXytX3Znn5uiXmVYnNmDGjtuWoc6qr05pkbV1uiB7XOtVx38qEIKqLzrm6h91Km4esCqWdXxvPyFeVu6ThYkdgV9wH5+zlBDeua9yGE7/88kvuv/9+3n77ba+Vn3rqqVoTrDbwHE6sqlPBtVLV69Rl51UT9/acO6yua9bXDr422lafn19Z1JfhxIriHE78Pz7A6BGxwyry+ZpH/WM40emR6C3Mv1LawGo9orI/1qp6r3kb/qsKNTE0WdV7V8QCrew1q4P63AHXRtvq8/OTlMSOQIcoUQaO2Il6vZ7x48czfvz4uhDPK16V2CeffFInwvgy3hRBecqhtGM17UJflftdKw05yrlcIC2pL9gV0HnYK3YAAdu3b/dJS8zNxV6uDbuKp2t1ZRVYVe/ndK2vL2/ANb2Q2RcyXnsqMH8KyeRPskpqHhtgQ3hsvk2pqVgaOuUpkarOYZV3PV+2aGqjw6vqkG5NLymoDP70AuJPskpqHjvC6+bLuCmxvXv30rhx4xJbREQEjRs3risZ/Q7PTs+ZE6syHUZFMuleSybfqpxXlQ6vPnSS9aENrjR066uht78s7IrwuvkybkqsQ4cO7N69u8SWkpLi1dlD4h3PaA/lzZd4U1izjcer9cfmvEd1eAD6agT/ip7jS7Ea64L6ppQrS0Nvf1moqNg9NhW1rsUqEzclZjabadmyZambpHJUJIQSlD6E6MzyXNb1K/qDdN6jOn7A1dUJeM5neYapqozy8KXF3bWJPypYf5S5oVByPsyx+TJuSsxLBKoGT23m9PIsq8z8WEWGH30B1yFQz/mssuJSup7vjcooPV9WSpXlWttSFwqlPj3/+obfDyfKIcPaw1un61pW1nxXacOPvkZpwXsru6Dc8/zS8Gb5yrf+sqnocg9Jw8AfHTu8hp2SXKUm3xrLctsv676+qLA88Rzeq+pw37U8fxkbsXqQz6nhYEMFjzkwmz/NiUkqR3U7CPh6Z1EZx4mKDA1WJ1Vxg2+oFkZDbXdFuZbnM3fuXFq1akVAQAB9+/Zl27Zt1ShZzeOPlphUYteAZ8fsdKWvaP3y8LXOxluoqYrU88S1XdU1l9dQ3f+rQkNtd0Wp6vP56quvmDx5MjNmzGDXrl10796dQYMGce7cuWqWsOawKyo2j82uSEvM53nUGlct16mO0ENVSSRZV3gb1qyI4nVtl7dr+IuTSn3D116a/I233nqLRx99lFGjRpGQkMC8efMICgri448/rmvRKow/eifKOTHgA+NJdJQexb6s+ZPqTmPvC4rrWuaLqkN+f5jzqyzVOQc3KzCGzBwzvTudITcviJDgfADirzuFwWSjIDcIo7kIq8WExWKisCCAtF9i6dvnIG/+0JXnh28l60I4ZnMRgSH5FOQGsXVbJ+64dz0TTjQnvGkWGSejtfu17nicsNiLfL9wIJezA8nMMQPQu9MZmseeIzsrlLRfYunY/jSZmY25nB3Ib+/Yyo7N3bicHUhEWAGXswOJj71Ibl4QaSfDuaXXMT7c1pJ2Oj2Dbkrl0oVwcvOCuJwdSP8BO9mz42o+w8czLrOku2DDjut89n+jqKiInTt3Mn36dK1Mp9ORnJzMli1b6lCyymH3Midm9/E5Ma+ZnRsK15rZubZp6M4IzvY39OfgiXwe1Y8zFUtqaiqxsbFaudlsxmw2l6h/5swZYmNj2bx5M0lJSVr5s88+y4YNG9i6dWutyF1VnKlY2hleRa8Euh2ziwIO26b6bCoWOZxYBr42vNLQO6qKxklsaBE5GsL/RV19RwkJCYSFhWnbzJkz60SO2sKugE0Rbpu9jrJwLV26lA4dOtCuXTs+/PDDUutJJVYG5XmwVdcPq65+oFW5b3nzVb6gEKo7L5ykZqnsPGptkpqaSnZ2tra5Dhe60rRpU/R6PZmZmW7lmZmZREdHez3HF1ERXrfaxmazMXnyZNauXcvu3bt5/fXXuXjxote6UomVQ1XyhVVX1POaUAiui6mr0jGUNydR2WteqxNHRSKfSHwbX36JCAkJITQ0VNu8DSUCmEwmrr/+etasWaOVqarKmjVr3IYXfR0rqtetttm2bRudO3cmNjaW4OBg7rjjDn744QevdaUSc8HXOr9rWctU2TVpddX2msgG7Wtr0iQNg8mTJ/PBBx/w6aefcvDgQcaNG8eVK1cYNWpUXYtWYWyoXrfKsnHjRoYOHUpMTAyKorBkyZISdcpaU+ecY3QSGxvL6dOnvd5LKjEguajyqVJKw9XCqUhnV5YlUlFrqbTwTt64lmzTEgdVfVZS+dVv7r33Xt544w1eeOEFEhMTSUlJYeXKlURFRdW1aBWmSLF73SrLlStX6N69O3PnzvV6vDrX1DVo78T09HRatmxJoOEJdLrKed0kF8Ww2lQ3KekftcbxgfFkpc6pS3n9Afl8JK6oag4Ftvc4ceIE8fH1/+XD6Z3YyDwNBfchU4GFK5ZZnDx50s07sTRPTU8URWHx4sXceeedWlnfvn3p3bs37777LuAYeo2Li+PJJ59k2rRpbN68mddff53FixcDMHHiRPr06cOIESNK3kA0YDZt2iQAuclNbnLzum3btq2uu6laoaCgQERHR5f6HIKDg0uUzZgxo0LXBsTixYu1fYvFIvR6vVuZEEI89NBDYtiwYUIIIaxWq2jbtq04deqUyM3NFe3btxcXLlzwev0Gvdi5U6dOAOzfv5+wsLA6lqb6yM3NJSEhgdTUVEJCQupanGqjPrarPrYJ/L9dqqqSmZlJjx496lqUWiEgIIDjx49TVFTk9bgQAkVx97WviBXmjQsXLmC320sMs0ZFRZGWlgaAwWDgzTff5NZbb0VVVZ599lmaNGni9XoNWokZDI7mx8XF+eQivqqSk5MDOCZDZbt8m/rYJqgf7WoIw4iuBAQEEBAQUNdiaAwbNoxhw4aVW086dkgkEomk1qjuNXVSiUkkEomk1qjuNXUNejjRbDYzY8aMKo/t+iqyXf5DfWwT1N92SSpGXl4eR44c0faPHz9OSkoKjRs3Jj4+nsmTJzNy5Eh69epFnz59mDNnTpXX1DVoF3uJRCKRVD/r16/n1ltvLVE+cuRIFixYAMC7777L66+/TkZGBomJibz99tv07du30veSSkwikUgkfoucE5NIJBKJ3yKVmEQikUj8lgatxMoKQFmTlBccUwjBCy+8QPPmzQkMDCQ5OZnDhw+71bl06RIPPPAAoaGhhIeH88gjj5CXl+dWZ+/evdx0000EBAQQFxfHa6+9VkKWb775ho4dOxIQEEDXrl1Zvnx5pWUBmDlzJr179yYkJITIyEjuvPNODh065FansLCQ8ePH06RJE4KDgxk+fHgJN9v09HQGDx5MUFAQkZGRTJkyBZvN5lZn/fr19OzZE7PZTNu2bbUxdlfK+24rIgvA+++/T7du3bQo5klJSaxYscKv2+TJrFmzUBSFiRMn1qt2SRoIlYpNUo9YtGiRMJlM4uOPPxYHDhwQjz76qAgPDxeZmZk1fu/ly5eLP//5z+Lbb78tEZJFCCFmzZolwsLCxJIlS8SePXvEsGHDROvWrUVBQYFW5/bbbxfdu3cXP//8s/jxxx9F27Ztxf33368dz87OFlFRUeKBBx4Q+/fvF19++aUIDAwU8+fP1+r89NNPQq/Xi9dee02kpqaK559/XhiNRrFv375KySKEEIMGDRKffPKJ2L9/v0hJSRG/+93vRHx8vMjLy9PqjB07VsTFxYk1a9aIHTt2iH79+okbbrhBO26z2USXLl1EcnKy2L17t1i+fLlo2rSpmD59ulbn2LFjIigoSEyePFmkpqaKd955R+j1erFy5UqtTkW+2/JkcfLdd9+JZcuWiV9++UUcOnRIPPfcc8JoNIr9+/f7bZtc2bZtm2jVqpXo1q2bePrpp/36u5I0TBqsEuvTp48YP368tm+320VMTIyYOXNmrcrhqcRUVRXR0dHi9ddf18qysrKE2WwWX375pRBCiNTUVAGI7du3a3VWrFghFEURp0+fFkII8d5774mIiAhhsVi0OlOnThUdOnTQ9v/v//5PDB482E2evn37iscff7zCspTGuXPnBCA2bNignWc0GsU333yj1Tl48KAAxJYtW4QQDuWu0+lERkaGVuf9998XoaGhWjueffZZ0blzZ7d73XvvvWLQoEHafnnfbUVkKYuIiAjx4Ycf+n2bcnNzRbt27cSqVavELbfcoikxf2+XpGHRIIcTi4qK2LlzJ8nJyVqZTqcjOTmZLVu21KFkjvUUGRkZbrKFhYXRt29fTbYtW7YQHh5Or169tDrJycnodDq2bt2q1bn55psxmUxanUGDBnHo0CEuX76s1XG9j7OO8z4VkaU0srOzAWjcuDEAO3fuxGq1ul2rY8eOxMfHu7Wra9eubjHVBg0aRE5ODgcOHKiQzBX5bisiizfsdjuLFi3iypUrJCUl+X2bxo8fz+DBg0vc29/bJWlYNMjFzhUJQFlXZGRkaLK4EhUVpR3LyMggMjLS7bjBYKBx48ZudVq3bl3iGs5jERERZGRklHuf8mTxhqqqTJw4kd/85jd06dJFu5bJZCI8PLzM+3m7l6sspdXJycmhoKCAy5cvl/vdVkQWV/bt20dSUhKFhYUEBwezePFiEhISSElJ8ds2LVq0iF27drF9+/YSx/z5u5I0PBqkEpPULOPHj2f//v1s2rSprkWpFjp06EBKSgrZ2dn8+9//ZuTIkWzYsKGuxaoyJ0+e5Omnn2bVqlU+FfBVIqkKDXI4sboDUFYnzvuXJVt0dHSJDKg2m41Lly651fF2Ddd7lFbH9Xh5sngyYcIEli5dyrp162jRooVbu4qKisjKyirzflWVOTQ0lMDAwAp9txWRxRWTyUTbtm25/vrrmTlzJt27d+cf//iH37Zp586dnDt3jp49e2IwGDAYDGzYsIG3334bg8FAVFSUX7ZL0jBpkEqsugNQVietW7cmOjraTbacnBy2bt2qyZaUlERWVhY7d+7U6qxduxZVVbWwLUlJSWzcuBGr1arVWbVqFR06dCAiIkKr43ofZx3nfSoiixMhBBMmTGDx4sWsXbu2xFDm9ddfj9FodLvWoUOHSE9Pd2vXvn373BT0qlWrCA0NJSEhoUIyV+S7rYgsZaGqKhaLxW/bNGDAAPbt20dKSoq29erViwceeED77I/tkjRQ6tqzpK5YtGiRMJvNYsGCBSI1NVU89thjIjw83M3bqqbIzc0Vu3fvFrt37xaAeOutt8Tu3bvFiRMnhBAOt/bw8HDx3//+V+zdu1f8/ve/9+pi36NHD7F161axadMm0a5dOzcX+6ysLBEVFSUefPBBsX//frFo0SIRFBRUwsXeYDCIN954Qxw8eFDMmDHDq4t9ebIIIcS4ceNEWFiYWL9+vTh79qy25efna3XGjh0r4uPjxdq1a8WOHTtEUlKSSEpK0o473bYHDhwoUlJSxMqVK0WzZs28um1PmTJFHDx4UMydO9er23Z53215sjiZNm2a2LBhgzh+/LjYu3evmDZtmlAURfzwww9+2yZvuHon1qd2Seo/DVaJCSHEO++8I+Lj44XJZBJ9+vQRP//8c63cd926dV5TgI8cOVII4XBt/8tf/iKioqKE2WwWAwYMEIcOHXK7xsWLF8X9998vgoODRWhoqBg1apTIzc11q7Nnzx5x4403CrPZLGJjY8WsWbNKyPL111+L9u3bC5PJJDp37iyWLVvmdrwisgghSk1r/sknn2h1CgoKxBNPPCEiIiJEUFCQuOuuu8TZs2fdrvPrr7+KO+64QwQGBoqmTZuKZ555Rlit1hLPLzExUZhMJnHddde53cNJed9tRWQRQojRo0eLli1bCpPJJJo1ayYGDBigKTB/bZM3PJVYfWmXpP4jAwBLJBKJxG9pkHNiEolEIqkfSCUmkUgkEr9FKjGJRCKR+C1SiUkkEonEb5FKTCKRSCR+i1RiEolEIvFbpBKTSCQSid8ilZhEIpFI/BapxCSl0qpVK1JSUtzK+vfvz5IlSwB44YUX+OKLLwBHGvqVK1eWeq2TJ08ybNgwunbtSteuXUlMTGTt2rU1JXqd0r9/f5o0aaLlVAO45557WLBgQbXe58UXX2TixInVek2JxN+QqVgkVeall17SPq9fv56srCxuv/12r3XHjRvHgAED+O677wBHTrf8/PxakbMuCA0NZdasWcycObOuRSkTm82GwSC7AYn/Ii0xSZV5+OGHmTNnDikpKcybN48vvviCxMREN+Xm5NSpU8TGxmr7TZs2JT4+HgCr1cq0adPo06cPiYmJ/N///Z+Wffrs2bMMGjSIhIQEkpOTue+++3jxxReBkpbIu+++y8MPP6ztv/HGG/Tp04eePXty++23c+LECe28e++9l6FDh5KQkMBtt93GpUuXtPNeffVVunbtSvfu3enXr5+mbD/77DP69u1Lz549ufnmm9mzZ0+pz2bq1Kl89NFHnDlzpsSxsuResGABycnJ3H///SQkJHDDDTeQmprKXXfdRadOnRg4cCB5eXnauSdPnuS2226jY8eODB06lIsXL5b7TB9++GFGjx7NzTffrCUtlUj8FanEJGVy7733kpiYqG07duwoUScxMZGxY8dqqTxeeOGFEnWmTp3KI488wm9+8xueeeYZNm7cqB17/fXXadSoEdu2bSMlJYWuXbvy/PPPA/DUU0/Rp08fUlNT+fTTT0uk9iiNhQsXcujQIbZs2cKuXbt44IEHeOKJJ7TjW7duZcGCBaSmphIZGcn8+fMB+PTTT/nPf/7Dpk2b2LNnDytWrMBsNvPTTz/x5ZdfsnHjRnbt2sXLL7/MiBEjSr1/dHQ0jz/+ODNmzKiQvK5s376dV199ldTUVNq0acPQoUOZN28eBw8exGQy8emnn2p1f/zxRxYuXEhaWhpxcXFMnz693GcKjpxiy5Ytq/NM5hLJtSLHESRl8tVXX5GYmKjt9+/fv0rXuf/++7n99ttZt24dP/30E7///e957rnnmDJlCkuWLCE7O5v//Oc/ABQVFdGqVSsA1qxZwxtvvAFAbGwsw4YNq9D9lixZwvbt27n++usBsNvtbsdvv/12mjRpAlzNjQWwdOlSxo4dS1hYGICWe+2///0ve/bs0fK1AVy6dImCggICAwO9yjBlyhQ6dOhQaUWRlJSkWam9evXCarUSFRUFQO/evTl8+LBWd/DgwVpyyMcee4y7775ba39pzxTgD3/4AyEhIZWSSyLxRaQSk9QaERER3H333dx999307t2bV155hSlTpiCE4J133mHgwIHlXkNRFO2zwWBwU06FhYXaZyEE06dP57HHHvN6nYCAAO2zXq/HZrOVeV8hBCNHjuSVV14pV0YnoaGhTJ06lenTp6PX6ysktzfZKiOr8/mU90yDg4Mr3A6JxJeRw4mSaiE0NNTNG8+TpUuXanNLQgh2795NmzZtALjzzjuZPXu2djw/P58DBw4AkJyczMcffww45secjiEAbdu2ZceOHdjtdvLz8zWrw3nNefPmaXNdVquV3bt3l9uOYcOGMW/ePK0tWVlZ2O12hg0bxueff056ejrgyEDsbWjVk3HjxpGSkuKWhbssuSvL8uXLyczMBODDDz8kOTkZKPuZSiT1CWmJSaqFu+66i88++4zExETuvvvuEvNiGzZsYMqUKRgMBoQQdOjQgXfffRdwzJdZLBb69u2rWRJTp06lc+fO/OMf/+Dhhx8mISGB2NhYbrvtNu2ad999N9988w2dOnWiRYsW9OjRQ+u0H3jgAS5evMitt94KOLzwRo8eTY8ePcpsx4MPPsiZM2e44YYbMBgMNGrUiNWrV3PTTTfx2muvcdddd2Gz2SgqKmLw4MH06tWrzOuZzWZeeuklHnrooQrJXVluuukmRowYwenTp2nXrp3mxl/WM5VI6hMyKabEr/jTn/5EcHCw5qEokUgaNnI4USKRSCR+i7TEJBKJROK3SEtMIpFIJH6LVGISiUQi8VukEpNIJBKJ3/L/oGbt4SzTaE0AAAAASUVORK5CYII=' width=433.0708661417323/>\n",
       "            </div>\n",
       "        "
      ],
      "text/plain": [
       "Canvas(toolbar=Toolbar(toolitems=[('Home', 'Reset original view', 'home', 'home'), ('Back', 'Back to previous …"
      ]
     },
     "metadata": {},
     "output_type": "display_data"
    }
   ],
   "source": [
    "data_loadcrop.plot_crop_experimetn_history(data, save_name=variables.result_path + '//ex_hist_' + dataset_name)\n"
   ]
  },
  {
   "cell_type": "code",
   "execution_count": 128,
   "metadata": {},
   "outputs": [],
   "source": [
    "# exctract needed data from Pandas data frame as an numpy array\n",
    "dld_highVoltage = data['high_voltage (V)'].to_numpy()\n",
    "if pulse_mode.value == 'voltage':\n",
    "    dld_pulseVoltage = data['pulse (V)'].to_numpy()\n",
    "elif pulse_mode.value == 'laser':\n",
    "    dld_pulseVoltage = data['pulse (deg)'].to_numpy()\n",
    "dld_t = data['t (ns)'].to_numpy()\n",
    "dld_x = data['x_det (cm)'].to_numpy()\n",
    "dld_y = data['y_det (cm)'].to_numpy()\n",
    "mc = data['mc (Da)'].to_numpy()\n",
    "# copy dld_t to a have a global version of that\n",
    "variables.dld_t_calib = np.copy(dld_t)\n",
    "# variables.mc_calib = np.copy(mc)\n",
    "# variables.mc_calib_backup = np.copy(mc)"
   ]
  },
  {
   "cell_type": "code",
   "execution_count": 129,
   "metadata": {},
   "outputs": [],
   "source": [
    "ion_distance = np.sqrt(flightPathLength_d.value**2 + (dld_x*10)**2 + (dld_y*10)**2)\n",
    "ion_distance = flightPathLength_d.value / ion_distance\n",
    "dld_t = dld_t * ion_distance\n",
    "variables.dld_t_calib = np.copy(dld_t)"
   ]
  },
  {
   "cell_type": "code",
   "execution_count": 130,
   "metadata": {},
   "outputs": [],
   "source": [
    "# peaks_ini, peaks_y_ini, peak_widths_p_ini = tools.hist_plot(dld_t[dld_t < 5000], 0.5, distance=100, percent=50, prominence=100, selector='rect', plot=True, label='mc', fig_name=figname+'_orig')"
   ]
  },
  {
   "cell_type": "markdown",
   "metadata": {
    "pycharm": {
     "name": "#%% md\n"
    }
   },
   "source": [
    "$$\\textbf{Below plotted graph offers peak selection. You can select relevant peaks you want for computation.}$$"
   ]
  },
  {
   "cell_type": "code",
   "execution_count": 131,
   "metadata": {
    "pycharm": {
     "name": "#%%\n"
    }
   },
   "outputs": [
    {
     "data": {
      "application/vnd.jupyter.widget-view+json": {
       "model_id": "32127c9ab6674f669d468d7bfa7b4727",
       "version_major": 2,
       "version_minor": 0
      },
      "text/plain": [
       "interactive(children=(FloatText(value=33.0, description='t_0'), FloatText(value=0.1, description='bin_size'), …"
      ]
     },
     "metadata": {},
     "output_type": "display_data"
    }
   ],
   "source": [
    "def mc_hist_plot(t_0, bin_size, prominence, distance, percent, selector, plot, figname, lim_mc, flightPathLength, mode):\n",
    "    mc_seb_ini = mc_tools.tof2mc(dld_t, t_0, dld_highVoltage, dld_pulseVoltage, dld_x, dld_y, flightPathLength, mode=mode)\n",
    "    variables.mc_calib = np.copy(mc_seb_ini)\n",
    "    variables.mc_calib_backup = np.copy(mc_seb_ini)\n",
    "    mc = mc_seb_ini\n",
    "    peaks_ini, peaks_y_ini, peak_widths_p_ini = tools.hist_plot(variables.mc_calib[variables.mc_calib < lim_mc], bin_size, distance=distance, percent=percent, prominence=prominence, selector=selector, plot=plot, label='mc', fig_name=figname+'_ini')\n",
    "    index_max_ini = np.argmax(peaks_y_ini)\n",
    "    variables.max_peak = peaks_ini[index_max_ini]\n",
    "    variables.peak = peaks_ini\n",
    "    mrp = (peaks_ini[index_max_ini] / (peak_widths_p_ini[index_max_ini][2] - peak_widths_p_ini[index_max_ini][1]))\n",
    "    print('Mass resolving power for the highest peak (MRP --> m/m_2-m_1):', mrp)\n",
    "    for i in range(len(peaks_ini)):\n",
    "        print('Peaks ', i, 'is at location and height: ({:.2f}, {:.2f})'.format(peaks_ini[i], peaks_y_ini[i]), 'peak window sides ({:.1f}-maximum) are: ({:.2f}, {:.2f})'.format(percent, peak_widths_p_ini[i][1], peak_widths_p_ini[i][2]), '-> {:.2f}'.format(peak_widths_p_ini[i][2] - peak_widths_p_ini[i][1]))\n",
    "\n",
    "interact_manual(mc_hist_plot, t_0=widgets.FloatText(value=t0_d.value), bin_size=widgets.FloatText(value=0.1)\n",
    "               ,prominence=widgets.IntText(value=50), distance=widgets.IntText(value=100), lim_mc=widgets.IntText(value=400)\n",
    "               ,percent=widgets.IntText(value=50), selector=fixed('rect'), plot=fixed(True), figname=fixed(figname), flightPathLength=fixed(flightPathLength_d.value), mode=fixed(pulse_mode.value));\n"
   ]
  },
  {
   "cell_type": "code",
   "execution_count": 132,
   "metadata": {},
   "outputs": [],
   "source": [
    "bin_size=widgets.FloatText(value=0.1, description='bin size:')\n",
    "prominence=widgets.IntText(value=100, description='peak prominance:')\n",
    "distance=widgets.IntText(value=50, description='peak distance:')\n",
    "lim_tof=widgets.IntText(value=400, description='lim tof/mc:')\n",
    "percent=widgets.IntText(value=50, description='percent MRP:')\n",
    "\n",
    "def hist_plot(figname, plot):\n",
    "    \n",
    "    with out:\n",
    "        clear_output(True)\n",
    "    \n",
    "        bin_size_p = bin_size.value\n",
    "        prominence_p = prominence.value\n",
    "        distance_p = distance.value\n",
    "        lim_tof_p = lim_tof.value\n",
    "        percent_p = percent.value\n",
    "        selector='rect'\n",
    "        peaks_ini, peaks_y_ini, peak_widths_p_ini = tools.hist_plot(variables.mc_calib[variables.mc_calib < lim_tof_p], \n",
    "                                                bin_size_p, distance=distance_p, percent=percent_p, prominence=prominence_p,\n",
    "                                                                    selector=selector, plot=plot, label='mc', fig_name=figname)\n",
    "        index_max_ini = np.argmax(peaks_y_ini)\n",
    "        variables.max_peak = peaks_ini[index_max_ini]\n",
    "        variables.peak = peaks_ini\n",
    "        mrp = (peaks_ini[index_max_ini] / (peak_widths_p_ini[index_max_ini][2] - peak_widths_p_ini[index_max_ini][1]))\n",
    "        print('Mass resolving power for the highest peak (MRP --> m/m_2-m_1):', mrp)\n",
    "        for i in range(len(peaks_ini)):\n",
    "                      print('Peaks ', i, 'is at location and height: ({:.2f}, {:.2f})'.format(peaks_ini[i], peaks_y_ini[i]), 'peak window sides ({:.1f}%) are: ({:.2f}, {:.2f})'.format(percent_p, peak_widths_p_ini[i][1], peak_widths_p_ini[i][2]), '-> {:.2f}'.format(peak_widths_p_ini[i][2] - peak_widths_p_ini[i][1]))"
   ]
  },
  {
   "cell_type": "code",
   "execution_count": 133,
   "metadata": {},
   "outputs": [],
   "source": [
    "sample_size_b = widgets.IntText(value=11, description='sample size:') \n",
    "index_fig_b = widgets.IntText(value=1, description='fig index:')\n",
    "plot_b = widgets.Dropdown(\n",
    "    options=[('False', False), ('True', True)],\n",
    "    description='plot fig:'\n",
    ")\n",
    "\n",
    "save_b = widgets.Dropdown(\n",
    "    options=[('False', False), ('True', True)],\n",
    "    description='save fig:'\n",
    ")\n",
    "def bowl_correction(dld_x, dld_y, dld_highVoltage, figname=figname):\n",
    "    with out:\n",
    "        sample_size_p = sample_size_b.value\n",
    "        index_fig_p = index_fig_b.value\n",
    "        plot_p = plot_b.value\n",
    "        save_p = save_b.value\n",
    "\n",
    "        calibration.bowl_correction_main(dld_x, dld_y, dld_highVoltage, det_diam.value, sample_size=sample_size_p, calibration_mode='mc',\n",
    "                                        index_fig=index_fig_p, plot=plot_p, save=save_p)\n"
   ]
  },
  {
   "cell_type": "code",
   "execution_count": 134,
   "metadata": {},
   "outputs": [],
   "source": [
    "sample_size_v =widgets.IntText(value=100, description='sample size:') \n",
    "index_fig_v = widgets.IntText(value=1, description='fig index:')\n",
    "plot_v = widgets.Dropdown(\n",
    "    options=[('False', False), ('True', True)],\n",
    "    description='plot fig:'\n",
    ")\n",
    "save_v = widgets.Dropdown(\n",
    "    options=[('False', False), ('True', True)],\n",
    "    description='save fig:'\n",
    ")\n",
    "mode_v = widgets.Dropdown(\n",
    "    options=[('ion_seq', 'ion_seq'), ('voltage', 'voltage')],\n",
    "    description='sample mode:'\n",
    ")\n",
    "peak_mode = widgets.Dropdown(\n",
    "    options=[('peak', 'peak'), ('mean', 'mean'), ('median', 'median')],\n",
    "    description='peak mode:'\n",
    ")\n",
    "def vol_correction(dld_highVoltage, figname):\n",
    "    with out:\n",
    "        sample_size_p = sample_size_v.value\n",
    "        index_fig_p = index_fig_v.value\n",
    "        plot_p = plot_v.value\n",
    "        save_p = save_v.value\n",
    "        mode_p = mode_v.value\n",
    "        peak_mode_p = peak_mode.value\n",
    "        calibration.voltage_corr_main(dld_highVoltage, sample_size=sample_size_p, calibration_mode='mc',\n",
    "                                        index_fig=index_fig_p, plot=plot_p, save=save_p, mode=mode_p, peak_mode=peak_mode_p)\n"
   ]
  },
  {
   "cell_type": "code",
   "execution_count": 135,
   "metadata": {},
   "outputs": [
    {
     "data": {
      "application/vnd.jupyter.widget-view+json": {
       "model_id": "f6fc32c1ee3649de9d0c8dcf9580f702",
       "version_major": 2,
       "version_minor": 0
      },
      "text/plain": [
       "VBox(children=(Tab(children=(VBox(children=(FloatText(value=0.1, description='bin size:'), IntText(value=100, …"
      ]
     },
     "metadata": {},
     "output_type": "display_data"
    },
    {
     "data": {
      "application/vnd.jupyter.widget-view+json": {
       "model_id": "e52f339431a54b8da635fb1e5a09a216",
       "version_major": 2,
       "version_minor": 0
      },
      "text/plain": [
       "Output()"
      ]
     },
     "metadata": {},
     "output_type": "display_data"
    }
   ],
   "source": [
    "pb_bowl = widgets.HTML(\n",
    "    value=\" \",\n",
    "    placeholder='Status:',\n",
    "    description='Status:',\n",
    ")\n",
    "pb_vol = widgets.HTML(\n",
    "    value=\" \",\n",
    "    placeholder='Status:',\n",
    "    description='Status:',\n",
    ")\n",
    "plot_button = widgets.Button(\n",
    "    description='plot hist',\n",
    ")\n",
    "plot_fdm_button = widgets.Button(\n",
    "    description='plot FDM',\n",
    ")\n",
    "reset_button = widgets.Button(\n",
    "    description='reset back correction',\n",
    ")\n",
    "save_button = widgets.Button(\n",
    "    description='save correction',\n",
    ")\n",
    "bowl_button = widgets.Button(\n",
    "    description='bowl correction',\n",
    ")\n",
    "vol_button = widgets.Button(\n",
    "    description='voltage correction',\n",
    ")\n",
    "bin_fdm = widgets.IntText(value=256, description='bin FDM:')\n",
    "\n",
    "\n",
    "\n",
    "@plot_button.on_click\n",
    "def plot_on_click(b, figname=figname, plot=True):\n",
    "    hist_plot(figname, plot)\n",
    "\n",
    "@plot_fdm_button.on_click\n",
    "def plot_fdm_on_click(b, save=True):\n",
    "    with out:\n",
    "        clear_output(True)\n",
    "        mask_temporal = np.logical_and((variables.mc_calib > variables.selected_x1),\n",
    "                                       (variables.mc_calib < variables.selected_x2))\n",
    "        x = dld_x[mask_temporal]\n",
    "        y = dld_y[mask_temporal]\n",
    "        bin_fdm_p = bin_fdm.value\n",
    "        bins = [bin_fdm_p, bin_fdm_p]\n",
    "\n",
    "        calibration.plot_FDM(x, y, save, bins)\n",
    "    \n",
    "@reset_button.on_click\n",
    "def reset_on_click(b, figname=figname, plot=True):\n",
    "    variables.mc_calib = np.copy(variables.mc_calib_backup)\n",
    "    \n",
    "@save_button.on_click\n",
    "def save_on_click(b, figname=figname, plot=True):\n",
    "    variables.mc_calib_backup = np.copy(variables.mc_calib)   \n",
    "    \n",
    "@bowl_button.on_click\n",
    "def bowl_on_click(b, dld_x=dld_x, dld_y=dld_y, dld_highVoltage=dld_highVoltage, figname=figname):\n",
    "    with out:\n",
    "        clear_output(True)\n",
    "        pb_bowl.value = \"<b>Starting...</b>\"\n",
    "        if variables.selected_x1 == 0 or variables.selected_x2 == 0:\n",
    "            Print('Please first select a peak')\n",
    "        else:\n",
    "            bowl_correction(dld_x, dld_y, dld_highVoltage, figname)  \n",
    "        pb_bowl.value = \"<b>Fnished</b>\"\n",
    "@vol_button.on_click\n",
    "def vol_on_click(b, dld_highVoltage=dld_highVoltage, figname=figname):\n",
    "    with out:\n",
    "        clear_output(True)\n",
    "        pb_vol.value = \"<b>Starting...</b>\"\n",
    "        if variables.selected_x1 == 0 or variables.selected_x2 == 0:\n",
    "            Print('Please first select a peak')\n",
    "        else:\n",
    "            vol_correction(dld_highVoltage, figname)\n",
    "        pb_vol.value = \"<b>Fnished</b>\"\n",
    "    \n",
    "\n",
    "\n",
    "tab1 = VBox(children=[bin_size, prominence, distance, lim_tof, percent, bin_fdm])\n",
    "tab2 = VBox(children=[HBox(children=[sample_size_b, index_fig_b, plot_b, save_b]), bowl_button, pb_bowl])\n",
    "tab3 = VBox(children=[HBox(children=[sample_size_v, index_fig_v, mode_v, peak_mode, plot_v, save_v]), vol_button, pb_vol])\n",
    "\n",
    "tab = widgets.Tab(children=[tab1, tab2, tab3])\n",
    "tab.set_title(0, 'tof/mc plot')\n",
    "tab.set_title(1, 'bowl correction')\n",
    "tab.set_title(2, 'voltage correction')\n",
    "\n",
    "\n",
    "\n",
    "display(VBox(children=[tab,HBox(children=[plot_button, plot_fdm_button, save_button, reset_button])]))\n",
    "out = Output()\n",
    "display(out)"
   ]
  },
  {
   "cell_type": "code",
   "execution_count": 139,
   "metadata": {},
   "outputs": [],
   "source": [
    "variables.mc_calib_backup = np.copy(variables.mc_calib)"
   ]
  },
  {
   "cell_type": "code",
   "execution_count": 140,
   "metadata": {},
   "outputs": [],
   "source": [
    "def tof_his(bin_size, prominence, distance, percent, selector, plot, figname, lim_mc):\n",
    "    variables.peaks_idx = []\n",
    "    peaks_ini, peaks_y_ini, peak_widths_p_ini = tools.hist_plot(variables.mc_calib[variables.mc_calib < lim_mc], bin_size, distance=distance, percent=percent, prominence=prominence, selector=selector, plot=plot, label='mc', fig_name=figname)\n",
    "    index_max_ini = np.argmax(peaks_y_ini)\n",
    "    variables.max_peak = peaks_ini[index_max_ini]\n",
    "    variables.peak = peaks_ini\n",
    "    mrp = (peaks_ini[index_max_ini] / (peak_widths_p_ini[index_max_ini][2] - peak_widths_p_ini[index_max_ini][1]))\n",
    "    print('Mass resolving power for the highest peak (MRP --> m/m_2-m_1):', mrp)\n",
    "    for i in range(len(peaks_ini)):\n",
    "        print('Peaks ', i, 'is at location and height: ({:.2f}, {:.2f})'.format(peaks_ini[i], peaks_y_ini[i]), 'peak window sides (half-maximum) are: ({:.2f}, {:.2f})'.format(peak_widths_p_ini[i][1], peak_widths_p_ini[i][2]))"
   ]
  },
  {
   "cell_type": "code",
   "execution_count": 141,
   "metadata": {},
   "outputs": [
    {
     "data": {
      "application/vnd.jupyter.widget-view+json": {
       "model_id": "1752a0c727a0489784ba8838a7ca5797",
       "version_major": 2,
       "version_minor": 0
      },
      "text/plain": [
       "interactive(children=(FloatText(value=0.1, description='bin_size'), IntText(value=50, description='prominence'…"
      ]
     },
     "metadata": {},
     "output_type": "display_data"
    }
   ],
   "source": [
    "\n",
    "interact_manual(tof_his, bin_size=widgets.FloatText(value=0.1)\n",
    "               ,prominence=widgets.IntText(value=50), distance=widgets.IntText(value=100), lim_mc=widgets.IntText(value=max_mc.value)\n",
    "               ,percent=widgets.IntText(value=50), selector=fixed('peak'), plot=fixed(True), figname=fixed(figname+'_cor'));\n"
   ]
  },
  {
   "cell_type": "code",
   "execution_count": 52,
   "metadata": {},
   "outputs": [
    {
     "data": {
      "application/vnd.jupyter.widget-view+json": {
       "model_id": "955968440e1345948b603d115a538cb4",
       "version_major": 2,
       "version_minor": 0
      },
      "text/plain": [
       "Dropdown(description='Elements', options=(('H (1) (99.98)', 'H(1)[1.01]'), ('H (2) (0.01)', 'H(2)[2.01]'), ('H…"
      ]
     },
     "metadata": {},
     "output_type": "display_data"
    },
    {
     "data": {
      "application/vnd.jupyter.widget-view+json": {
       "model_id": "2ed4d231ac9248a78fce81b5d07a3154",
       "version_major": 2,
       "version_minor": 0
      },
      "text/plain": [
       "Dropdown(description='Charge', options=((1, 1), (2, 2), (3, 3), (4, 4)), value=1)"
      ]
     },
     "metadata": {},
     "output_type": "display_data"
    },
    {
     "data": {
      "application/vnd.jupyter.widget-view+json": {
       "model_id": "2fb4f776fd4640079962ab94223cfeeb",
       "version_major": 2,
       "version_minor": 0
      },
      "text/plain": [
       "Button(description='ADD', icon='check', style=ButtonStyle(), tooltip='ADD')"
      ]
     },
     "metadata": {},
     "output_type": "display_data"
    },
    {
     "data": {
      "application/vnd.jupyter.widget-view+json": {
       "model_id": "d38d7131d3ce41a59898812cef30c9dd",
       "version_major": 2,
       "version_minor": 0
      },
      "text/plain": [
       "Button(description='DELETE', icon='check', style=ButtonStyle(), tooltip='DELETE')"
      ]
     },
     "metadata": {},
     "output_type": "display_data"
    },
    {
     "data": {
      "application/vnd.jupyter.widget-view+json": {
       "model_id": "68eaff6a186148fbb1610a4a84283b39",
       "version_major": 2,
       "version_minor": 0
      },
      "text/plain": [
       "Button(description='RESET', icon='check', style=ButtonStyle(), tooltip='RESET')"
      ]
     },
     "metadata": {},
     "output_type": "display_data"
    },
    {
     "data": {
      "application/vnd.jupyter.widget-view+json": {
       "model_id": "a7d6a8a095dc443eaa1c6207545f74d3",
       "version_major": 2,
       "version_minor": 0
      },
      "text/plain": [
       "Output()"
      ]
     },
     "metadata": {},
     "output_type": "display_data"
    }
   ],
   "source": [
    "isotopeTableFile = '../../../files/isotopeTable.h5'\n",
    "dataframe = data_tools.read_hdf5_through_pandas(isotopeTableFile)\n",
    "elementsList = dataframe['element']\n",
    "elementIsotopeList = dataframe['isotope']\n",
    "elementMassList =  dataframe['weight']\n",
    "abundanceList = dataframe['abundance']\n",
    "\n",
    "elements = list(zip(elementsList, elementIsotopeList, elementMassList, abundanceList))\n",
    "dropdownList = []\n",
    "for element in elements:\n",
    "    tupleElement = (\"{} ({}) ({:.2f})\".format(element[0], element[1], element[3]), \"{}({})[{}]\".format(element[0], element[1], element[2]))\n",
    "    dropdownList.append(tupleElement)\n",
    "\n",
    "chargeList = [(1,1,),(2,2,),(3,3,),(4,4,)]\n",
    "dropdown = wd.dropdownWidget(dropdownList,\"Elements\")\n",
    "dropdown.observe(wd.on_change)\n",
    "\n",
    "\n",
    "chargeDropdown = wd.dropdownWidget(chargeList,\"Charge\")\n",
    "chargeDropdown.observe(wd.on_change_charge)\n",
    "\n",
    "wd.compute_element_isotope_values_according_to_selected_charge()\n",
    "\n",
    "buttonAdd = wd.buttonWidget(\"ADD\")\n",
    "buttonDelete = wd.buttonWidget(\"DELETE\")\n",
    "buttonReset = wd.buttonWidget(\"RESET\")\n",
    "\n",
    "display(dropdown, chargeDropdown, buttonAdd, buttonDelete, buttonReset)\n",
    "\n",
    "def buttonAdd_f(b,):\n",
    "    with out:\n",
    "        clear_output(True)\n",
    "        wd.onClickAdd(b,)\n",
    "        display()\n",
    "def buttonDelete_f(b,):\n",
    "    with out:\n",
    "        clear_output(True)\n",
    "        wd.onClickDelete(b,)\n",
    "        display()\n",
    "def buttonResett_f(b,):\n",
    "    with out:\n",
    "        clear_output(True)\n",
    "        wd.onClickReset(b,)\n",
    "        display()\n",
    "\n",
    "listMaterial = buttonAdd.on_click(buttonAdd_f)\n",
    "buttonDelete.on_click(buttonDelete_f)\n",
    "buttonReset.on_click(buttonResett_f)\n",
    "# listMaterial = buttonAdd.on_click(wd.onClickAdd)\n",
    "# buttonDelete.on_click(wd.onClickDelete)\n",
    "# buttonReset.on_click(wd.onClickReset)\n",
    "out = Output()\n",
    "display(out)"
   ]
  },
  {
   "cell_type": "code",
   "execution_count": 53,
   "metadata": {},
   "outputs": [
    {
     "name": "stdout",
     "output_type": "stream",
     "text": [
      "highest peak in the tof histogram: []\n",
      "highest peak in the ideal mc histogram: []\n"
     ]
    }
   ],
   "source": [
    "peaks_chos = []\n",
    "for i in range(len(variables.peaks_idx)):\n",
    "    peaks_chos.append(variables.peak[variables.peaks_idx[i]])\n",
    "peaks_chos = np.array(peaks_chos)\n",
    "listMaterial = np.array(variables.listMaterial)\n",
    "print('highest peak in the tof histogram:', peaks_chos)\n",
    "print('highest peak in the ideal mc histogram:', listMaterial)"
   ]
  },
  {
   "cell_type": "code",
   "execution_count": 54,
   "metadata": {},
   "outputs": [
    {
     "ename": "ValueError",
     "evalue": "`ydata` must not be empty!",
     "output_type": "error",
     "traceback": [
      "\u001b[1;31m---------------------------------------------------------------------------\u001b[0m",
      "\u001b[1;31mValueError\u001b[0m                                Traceback (most recent call last)",
      "Cell \u001b[1;32mIn[54], line 11\u001b[0m\n\u001b[0;32m      8\u001b[0m     fitresult, _ \u001b[38;5;241m=\u001b[39m curve_fit(shift, mc, mc_ideal, maxfev\u001b[38;5;241m=\u001b[39m\u001b[38;5;241m2000\u001b[39m)\n\u001b[0;32m      9\u001b[0m     \u001b[38;5;28;01mreturn\u001b[39;00m fitresult\n\u001b[1;32m---> 11\u001b[0m fitresult \u001b[38;5;241m=\u001b[39m \u001b[43mshift_calib\u001b[49m\u001b[43m(\u001b[49m\u001b[43mpeaks_chos\u001b[49m\u001b[43m,\u001b[49m\u001b[43m  \u001b[49m\u001b[43mvariables\u001b[49m\u001b[38;5;241;43m.\u001b[39;49m\u001b[43mlistMaterial\u001b[49m\u001b[43m)\u001b[49m\n\u001b[0;32m     12\u001b[0m mc_p_1 \u001b[38;5;241m=\u001b[39m shift(variables\u001b[38;5;241m.\u001b[39mmc_calib, \u001b[38;5;241m*\u001b[39mfitresult)\n\u001b[0;32m     14\u001b[0m \u001b[38;5;66;03m# f_shift = interpolate.interp1d(np.array(variables.listMaterial).T, peaks_chos.T, fill_value=\"extrapolate\")\u001b[39;00m\n\u001b[0;32m     15\u001b[0m \u001b[38;5;66;03m# variables.mc_calib = f_shift(variables.mc_calib)\u001b[39;00m\n",
      "Cell \u001b[1;32mIn[54], line 8\u001b[0m, in \u001b[0;36mshift_calib\u001b[1;34m(mc, mc_ideal)\u001b[0m\n\u001b[0;32m      6\u001b[0m \u001b[38;5;28;01mdef\u001b[39;00m \u001b[38;5;21mshift_calib\u001b[39m(mc, mc_ideal):\n\u001b[1;32m----> 8\u001b[0m     fitresult, _ \u001b[38;5;241m=\u001b[39m \u001b[43mcurve_fit\u001b[49m\u001b[43m(\u001b[49m\u001b[43mshift\u001b[49m\u001b[43m,\u001b[49m\u001b[43m \u001b[49m\u001b[43mmc\u001b[49m\u001b[43m,\u001b[49m\u001b[43m \u001b[49m\u001b[43mmc_ideal\u001b[49m\u001b[43m,\u001b[49m\u001b[43m \u001b[49m\u001b[43mmaxfev\u001b[49m\u001b[38;5;241;43m=\u001b[39;49m\u001b[38;5;241;43m2000\u001b[39;49m\u001b[43m)\u001b[49m\n\u001b[0;32m      9\u001b[0m     \u001b[38;5;28;01mreturn\u001b[39;00m fitresult\n",
      "File \u001b[1;32m~\\.conda\\envs\\oxcart5\\lib\\site-packages\\scipy\\optimize\\_minpack_py.py:820\u001b[0m, in \u001b[0;36mcurve_fit\u001b[1;34m(f, xdata, ydata, p0, sigma, absolute_sigma, check_finite, bounds, method, jac, full_output, **kwargs)\u001b[0m\n\u001b[0;32m    817\u001b[0m         xdata \u001b[38;5;241m=\u001b[39m np\u001b[38;5;241m.\u001b[39masarray(xdata, \u001b[38;5;28mfloat\u001b[39m)\n\u001b[0;32m    819\u001b[0m \u001b[38;5;28;01mif\u001b[39;00m ydata\u001b[38;5;241m.\u001b[39msize \u001b[38;5;241m==\u001b[39m \u001b[38;5;241m0\u001b[39m:\n\u001b[1;32m--> 820\u001b[0m     \u001b[38;5;28;01mraise\u001b[39;00m \u001b[38;5;167;01mValueError\u001b[39;00m(\u001b[38;5;124m\"\u001b[39m\u001b[38;5;124m`ydata` must not be empty!\u001b[39m\u001b[38;5;124m\"\u001b[39m)\n\u001b[0;32m    822\u001b[0m \u001b[38;5;66;03m# Determine type of sigma\u001b[39;00m\n\u001b[0;32m    823\u001b[0m \u001b[38;5;28;01mif\u001b[39;00m sigma \u001b[38;5;129;01mis\u001b[39;00m \u001b[38;5;129;01mnot\u001b[39;00m \u001b[38;5;28;01mNone\u001b[39;00m:\n",
      "\u001b[1;31mValueError\u001b[0m: `ydata` must not be empty!"
     ]
    }
   ],
   "source": [
    "def shift(mc, a, b):\n",
    "\n",
    "    # return c * ((t - t0)**2) + d\n",
    "    return mc ** a + b\n",
    "\n",
    "def shift_calib(mc, mc_ideal):\n",
    "    \n",
    "    fitresult, _ = curve_fit(shift, mc, mc_ideal, maxfev=2000)\n",
    "    return fitresult\n",
    "\n",
    "fitresult = shift_calib(peaks_chos,  variables.listMaterial)\n",
    "mc_p_1 = shift(variables.mc_calib, *fitresult)\n",
    "\n",
    "# f_shift = interpolate.interp1d(np.array(variables.listMaterial).T, peaks_chos.T, fill_value=\"extrapolate\")\n",
    "# variables.mc_calib = f_shift(variables.mc_calib)\n"
   ]
  },
  {
   "cell_type": "code",
   "execution_count": 142,
   "metadata": {},
   "outputs": [],
   "source": [
    "def mc_his(mc, bin_size, prominence, distance, percent, selector, plot, figname, lim_mc):\n",
    "    peaks_ini, peaks_y_ini, peak_widths_p_ini = tools.hist_plot(mc[mc < lim_mc], bin_size, distance=distance, percent=percent, prominence=prominence, selector=selector, plot=plot, label='mc', fig_name=figname)\n",
    "    index_max_ini = np.argmax(peaks_y_ini)\n",
    "    variables.max_peak = peaks_ini[index_max_ini]\n",
    "    variables.peak = peaks_ini\n",
    "    mrp = (peaks_ini[index_max_ini] / (peak_widths_p_ini[index_max_ini][2] - peak_widths_p_ini[index_max_ini][1]))\n",
    "    print('Mass resolving power for the highest peak (MRP --> m/m_2-m_1):', mrp)\n",
    "    for i in range(len(peaks_ini)):\n",
    "        print('Peaks ', i, 'is at location and height: ({:.2f}, {:.2f})'.format(peaks_ini[i], peaks_y_ini[i]), 'peak window sides (half-maximum) are: ({:.2f}, {:.2f})'.format(peak_widths_p_ini[i][1], peak_widths_p_ini[i][2]))"
   ]
  },
  {
   "cell_type": "code",
   "execution_count": 143,
   "metadata": {},
   "outputs": [
    {
     "data": {
      "application/vnd.jupyter.widget-view+json": {
       "model_id": "b8a5ca753aee4013b3c5e58a0e468209",
       "version_major": 2,
       "version_minor": 0
      },
      "text/plain": [
       "interactive(children=(FloatText(value=0.1, description='bin_size'), IntText(value=50, description='prominence'…"
      ]
     },
     "metadata": {},
     "output_type": "display_data"
    }
   ],
   "source": [
    "\n",
    "interact_manual(mc_his, mc=fixed(variables.mc_calib), bin_size=widgets.FloatText(value=0.1)\n",
    "               ,prominence=widgets.IntText(value=50), distance=widgets.IntText(value=100), lim_mc=widgets.IntText(value=150)\n",
    "               ,percent=widgets.IntText(value=50), selector=fixed('None'), plot=fixed(True), figname=fixed(figname+'_cor'));\n"
   ]
  },
  {
   "cell_type": "code",
   "execution_count": 144,
   "metadata": {},
   "outputs": [],
   "source": [
    "variables.mc_calib_backup =  variables.mc_calib"
   ]
  },
  {
   "cell_type": "code",
   "execution_count": 145,
   "metadata": {},
   "outputs": [],
   "source": [
    "data['mc_c (Da)'] = variables.mc_calib_backup"
   ]
  },
  {
   "cell_type": "code",
   "execution_count": 146,
   "metadata": {},
   "outputs": [
    {
     "data": {
      "text/html": [
       "<div>\n",
       "<style scoped>\n",
       "    .dataframe tbody tr th:only-of-type {\n",
       "        vertical-align: middle;\n",
       "    }\n",
       "\n",
       "    .dataframe tbody tr th {\n",
       "        vertical-align: top;\n",
       "    }\n",
       "\n",
       "    .dataframe thead th {\n",
       "        text-align: right;\n",
       "    }\n",
       "</style>\n",
       "<table border=\"1\" class=\"dataframe\">\n",
       "  <thead>\n",
       "    <tr style=\"text-align: right;\">\n",
       "      <th></th>\n",
       "      <th>x (nm)</th>\n",
       "      <th>y (nm)</th>\n",
       "      <th>z (nm)</th>\n",
       "      <th>mc_c (Da)</th>\n",
       "      <th>mc (Da)</th>\n",
       "      <th>high_voltage (V)</th>\n",
       "      <th>pulse (deg)</th>\n",
       "      <th>start_counter</th>\n",
       "      <th>t (ns)</th>\n",
       "      <th>t_c (nm)</th>\n",
       "      <th>x_det (cm)</th>\n",
       "      <th>y_det (cm)</th>\n",
       "      <th>pulse_pi</th>\n",
       "      <th>ion_pp</th>\n",
       "    </tr>\n",
       "  </thead>\n",
       "  <tbody>\n",
       "    <tr>\n",
       "      <th>0</th>\n",
       "      <td>0.0</td>\n",
       "      <td>0.0</td>\n",
       "      <td>0.0</td>\n",
       "      <td>98.989848</td>\n",
       "      <td>96.788074</td>\n",
       "      <td>7875.019531</td>\n",
       "      <td>46.0</td>\n",
       "      <td>1986.0</td>\n",
       "      <td>1986.0</td>\n",
       "      <td>0.0</td>\n",
       "      <td>1.574880</td>\n",
       "      <td>-2.295810</td>\n",
       "      <td>0</td>\n",
       "      <td>1</td>\n",
       "    </tr>\n",
       "    <tr>\n",
       "      <th>1</th>\n",
       "      <td>0.0</td>\n",
       "      <td>0.0</td>\n",
       "      <td>0.0</td>\n",
       "      <td>188.759448</td>\n",
       "      <td>184.834798</td>\n",
       "      <td>7875.019531</td>\n",
       "      <td>46.0</td>\n",
       "      <td>2718.0</td>\n",
       "      <td>2718.0</td>\n",
       "      <td>0.0</td>\n",
       "      <td>-1.240870</td>\n",
       "      <td>-0.273416</td>\n",
       "      <td>732</td>\n",
       "      <td>1</td>\n",
       "    </tr>\n",
       "    <tr>\n",
       "      <th>2</th>\n",
       "      <td>0.0</td>\n",
       "      <td>0.0</td>\n",
       "      <td>0.0</td>\n",
       "      <td>101.231988</td>\n",
       "      <td>98.703905</td>\n",
       "      <td>7875.019531</td>\n",
       "      <td>46.0</td>\n",
       "      <td>1998.0</td>\n",
       "      <td>1998.0</td>\n",
       "      <td>0.0</td>\n",
       "      <td>1.709700</td>\n",
       "      <td>-0.668762</td>\n",
       "      <td>4294966576</td>\n",
       "      <td>1</td>\n",
       "    </tr>\n",
       "    <tr>\n",
       "      <th>3</th>\n",
       "      <td>0.0</td>\n",
       "      <td>0.0</td>\n",
       "      <td>0.0</td>\n",
       "      <td>108.278975</td>\n",
       "      <td>105.604788</td>\n",
       "      <td>7875.019531</td>\n",
       "      <td>46.0</td>\n",
       "      <td>2078.0</td>\n",
       "      <td>2078.0</td>\n",
       "      <td>0.0</td>\n",
       "      <td>-2.533930</td>\n",
       "      <td>2.063530</td>\n",
       "      <td>2078</td>\n",
       "      <td>1</td>\n",
       "    </tr>\n",
       "    <tr>\n",
       "      <th>4</th>\n",
       "      <td>0.0</td>\n",
       "      <td>0.0</td>\n",
       "      <td>0.0</td>\n",
       "      <td>108.833799</td>\n",
       "      <td>105.690186</td>\n",
       "      <td>7875.019531</td>\n",
       "      <td>46.0</td>\n",
       "      <td>2070.0</td>\n",
       "      <td>2070.0</td>\n",
       "      <td>0.0</td>\n",
       "      <td>1.603760</td>\n",
       "      <td>1.711910</td>\n",
       "      <td>0</td>\n",
       "      <td>0</td>\n",
       "    </tr>\n",
       "    <tr>\n",
       "      <th>...</th>\n",
       "      <td>...</td>\n",
       "      <td>...</td>\n",
       "      <td>...</td>\n",
       "      <td>...</td>\n",
       "      <td>...</td>\n",
       "      <td>...</td>\n",
       "      <td>...</td>\n",
       "      <td>...</td>\n",
       "      <td>...</td>\n",
       "      <td>...</td>\n",
       "      <td>...</td>\n",
       "      <td>...</td>\n",
       "      <td>...</td>\n",
       "      <td>...</td>\n",
       "    </tr>\n",
       "    <tr>\n",
       "      <th>490171</th>\n",
       "      <td>0.0</td>\n",
       "      <td>0.0</td>\n",
       "      <td>0.0</td>\n",
       "      <td>99.974625</td>\n",
       "      <td>98.431365</td>\n",
       "      <td>6547.874512</td>\n",
       "      <td>72.0</td>\n",
       "      <td>2198.0</td>\n",
       "      <td>2198.0</td>\n",
       "      <td>0.0</td>\n",
       "      <td>-1.343130</td>\n",
       "      <td>-2.962310</td>\n",
       "      <td>2198</td>\n",
       "      <td>1</td>\n",
       "    </tr>\n",
       "    <tr>\n",
       "      <th>490172</th>\n",
       "      <td>0.0</td>\n",
       "      <td>0.0</td>\n",
       "      <td>0.0</td>\n",
       "      <td>101.049799</td>\n",
       "      <td>98.542280</td>\n",
       "      <td>6547.874512</td>\n",
       "      <td>72.0</td>\n",
       "      <td>2199.0</td>\n",
       "      <td>2199.0</td>\n",
       "      <td>0.0</td>\n",
       "      <td>-2.036310</td>\n",
       "      <td>2.512160</td>\n",
       "      <td>2199</td>\n",
       "      <td>1</td>\n",
       "    </tr>\n",
       "    <tr>\n",
       "      <th>490173</th>\n",
       "      <td>0.0</td>\n",
       "      <td>0.0</td>\n",
       "      <td>0.0</td>\n",
       "      <td>98.959425</td>\n",
       "      <td>96.401960</td>\n",
       "      <td>6547.874512</td>\n",
       "      <td>72.0</td>\n",
       "      <td>2178.0</td>\n",
       "      <td>2178.0</td>\n",
       "      <td>0.0</td>\n",
       "      <td>3.303280</td>\n",
       "      <td>-1.017060</td>\n",
       "      <td>2178</td>\n",
       "      <td>1</td>\n",
       "    </tr>\n",
       "    <tr>\n",
       "      <th>490174</th>\n",
       "      <td>0.0</td>\n",
       "      <td>0.0</td>\n",
       "      <td>0.0</td>\n",
       "      <td>101.020582</td>\n",
       "      <td>98.647571</td>\n",
       "      <td>6547.874512</td>\n",
       "      <td>72.0</td>\n",
       "      <td>2187.0</td>\n",
       "      <td>2187.0</td>\n",
       "      <td>0.0</td>\n",
       "      <td>1.660160</td>\n",
       "      <td>-0.653290</td>\n",
       "      <td>0</td>\n",
       "      <td>0</td>\n",
       "    </tr>\n",
       "    <tr>\n",
       "      <th>490175</th>\n",
       "      <td>0.0</td>\n",
       "      <td>0.0</td>\n",
       "      <td>0.0</td>\n",
       "      <td>99.890016</td>\n",
       "      <td>97.674570</td>\n",
       "      <td>6547.874512</td>\n",
       "      <td>72.0</td>\n",
       "      <td>2172.0</td>\n",
       "      <td>2172.0</td>\n",
       "      <td>0.0</td>\n",
       "      <td>0.665614</td>\n",
       "      <td>-0.576311</td>\n",
       "      <td>2172</td>\n",
       "      <td>1</td>\n",
       "    </tr>\n",
       "  </tbody>\n",
       "</table>\n",
       "<p>490176 rows × 14 columns</p>\n",
       "</div>"
      ],
      "text/plain": [
       "        x (nm)  y (nm)  z (nm)   mc_c (Da)     mc (Da)  high_voltage (V)  \\\n",
       "0          0.0     0.0     0.0   98.989848   96.788074       7875.019531   \n",
       "1          0.0     0.0     0.0  188.759448  184.834798       7875.019531   \n",
       "2          0.0     0.0     0.0  101.231988   98.703905       7875.019531   \n",
       "3          0.0     0.0     0.0  108.278975  105.604788       7875.019531   \n",
       "4          0.0     0.0     0.0  108.833799  105.690186       7875.019531   \n",
       "...        ...     ...     ...         ...         ...               ...   \n",
       "490171     0.0     0.0     0.0   99.974625   98.431365       6547.874512   \n",
       "490172     0.0     0.0     0.0  101.049799   98.542280       6547.874512   \n",
       "490173     0.0     0.0     0.0   98.959425   96.401960       6547.874512   \n",
       "490174     0.0     0.0     0.0  101.020582   98.647571       6547.874512   \n",
       "490175     0.0     0.0     0.0   99.890016   97.674570       6547.874512   \n",
       "\n",
       "        pulse (deg)  start_counter  t (ns)  t_c (nm)  x_det (cm)  y_det (cm)  \\\n",
       "0              46.0         1986.0  1986.0       0.0    1.574880   -2.295810   \n",
       "1              46.0         2718.0  2718.0       0.0   -1.240870   -0.273416   \n",
       "2              46.0         1998.0  1998.0       0.0    1.709700   -0.668762   \n",
       "3              46.0         2078.0  2078.0       0.0   -2.533930    2.063530   \n",
       "4              46.0         2070.0  2070.0       0.0    1.603760    1.711910   \n",
       "...             ...            ...     ...       ...         ...         ...   \n",
       "490171         72.0         2198.0  2198.0       0.0   -1.343130   -2.962310   \n",
       "490172         72.0         2199.0  2199.0       0.0   -2.036310    2.512160   \n",
       "490173         72.0         2178.0  2178.0       0.0    3.303280   -1.017060   \n",
       "490174         72.0         2187.0  2187.0       0.0    1.660160   -0.653290   \n",
       "490175         72.0         2172.0  2172.0       0.0    0.665614   -0.576311   \n",
       "\n",
       "          pulse_pi  ion_pp  \n",
       "0                0       1  \n",
       "1              732       1  \n",
       "2       4294966576       1  \n",
       "3             2078       1  \n",
       "4                0       0  \n",
       "...            ...     ...  \n",
       "490171        2198       1  \n",
       "490172        2199       1  \n",
       "490173        2178       1  \n",
       "490174           0       0  \n",
       "490175        2172       1  \n",
       "\n",
       "[490176 rows x 14 columns]"
      ]
     },
     "execution_count": 146,
     "metadata": {},
     "output_type": "execute_result"
    }
   ],
   "source": [
    "data"
   ]
  },
  {
   "cell_type": "code",
   "execution_count": 147,
   "metadata": {},
   "outputs": [],
   "source": [
    "# save the new data\n",
    "name_save_file = variables.result_path + '//' + dataset_name + '.h5'\n",
    "data_tools.store_df_to_hdf(name_save_file, data, 'df')"
   ]
  },
  {
   "cell_type": "code",
   "execution_count": 148,
   "metadata": {},
   "outputs": [],
   "source": [
    "# save data as epos file\n",
    "epos = ccapt_tools.ccapt_to_epos(data, pulse_mode=pulse_mode.value, path=variables.result_path, name=dataset_name + '.epos')\n",
    "pos = ccapt_tools.ccapt_to_pos(data, path=variables.result_path, name=dataset_name + '.pos')"
   ]
  },
  {
   "cell_type": "code",
   "execution_count": 149,
   "metadata": {},
   "outputs": [],
   "source": [
    "# save data in csv format\n",
    "data_tools.store_df_to_csv(data, variables.result_path + dataset_name + '.csv')"
   ]
  },
  {
   "cell_type": "code",
   "execution_count": null,
   "metadata": {},
   "outputs": [],
   "source": []
  }
 ],
 "metadata": {
  "kernelspec": {
   "display_name": "Python 3 (ipykernel)",
   "language": "python",
   "name": "python3"
  },
  "language_info": {
   "codemirror_mode": {
    "name": "ipython",
    "version": 3
   },
   "file_extension": ".py",
   "mimetype": "text/x-python",
   "name": "python",
   "nbconvert_exporter": "python",
   "pygments_lexer": "ipython3",
   "version": "3.9.12"
  }
 },
 "nbformat": 4,
 "nbformat_minor": 4
}

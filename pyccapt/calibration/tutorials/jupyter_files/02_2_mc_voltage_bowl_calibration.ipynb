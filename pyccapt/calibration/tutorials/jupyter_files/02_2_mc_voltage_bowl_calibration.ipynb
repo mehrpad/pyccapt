{
 "cells": [
  {
   "cell_type": "code",
   "execution_count": 1,
   "metadata": {
    "pycharm": {
     "name": "#%%\n"
    },
    "tags": []
   },
   "outputs": [],
   "source": [
    "# Activate intractive functionality of matplotlib\n",
    "%matplotlib ipympl\n",
    "# Activate auto reload \n",
    "%load_ext autoreload\n",
    "%autoreload 2\n",
    "%reload_ext autoreload\n",
    "# import libraries\n",
    "import os\n",
    "import functools\n",
    "import numpy as np\n",
    "from scipy.optimize import curve_fit\n",
    "from ipywidgets import fixed, interact_manual, widgets\n",
    "from ipywidgets import HBox, VBox\n",
    "from IPython.display import clear_output\n",
    "from IPython.display import display\n",
    "from ipywidgets import Output\n",
    "\n",
    "# Local module and scripts\n",
    "from pyccapt.calibration.calibration_tools import tools, share_variables, calibration\n",
    "from pyccapt.calibration.calibration_tools import widgets as wd\n",
    "from pyccapt.calibration.data_tools import data_tools, data_loadcrop, dataset_path_qt"
   ]
  },
  {
   "cell_type": "code",
   "execution_count": 49,
   "metadata": {
    "tags": []
   },
   "outputs": [
    {
     "data": {
      "application/vnd.jupyter.widget-view+json": {
       "model_id": "d4cc5009d22a4e499f493a111218f899",
       "version_major": 2,
       "version_minor": 0
      },
      "text/plain": [
       "Button(description='load dataset', style=ButtonStyle())"
      ]
     },
     "execution_count": 49,
     "metadata": {},
     "output_type": "execute_result"
    }
   ],
   "source": [
    "button = widgets.Button(\n",
    "    description='load dataset',\n",
    ")\n",
    "@button.on_click\n",
    "def open_file_on_click(b):\n",
    "    \"\"\"\n",
    "    Event handler for button click event.\n",
    "    Prompts the user to select a dataset file and stores the selected file path in the global variable dataset_path.\n",
    "    \"\"\"\n",
    "    global dataset_path\n",
    "    dataset_path = dataset_path_qt.gui_fname().decode('ASCII')\n",
    "button"
   ]
  },
  {
   "cell_type": "code",
   "execution_count": 121,
   "metadata": {
    "tags": []
   },
   "outputs": [
    {
     "data": {
      "application/vnd.jupyter.widget-view+json": {
       "model_id": "0f077f771cc34c4f88f4e181abe2f31c",
       "version_major": 2,
       "version_minor": 0
      },
      "text/plain": [
       "Dropdown(description='Data mode:', options=('PyCCAPT', 'leap_epos', 'leap_pos', 'ato_v6'), value='PyCCAPT')"
      ]
     },
     "metadata": {},
     "output_type": "display_data"
    },
    {
     "data": {
      "application/vnd.jupyter.widget-view+json": {
       "model_id": "2f6b1eacec244f04ba957dce6895862a",
       "version_major": 2,
       "version_minor": 0
      },
      "text/plain": [
       "FloatText(value=80.0, description='Detector diameter:')"
      ]
     },
     "metadata": {},
     "output_type": "display_data"
    },
    {
     "data": {
      "application/vnd.jupyter.widget-view+json": {
       "model_id": "26d02bafd3014244b5994dd5e6127d4b",
       "version_major": 2,
       "version_minor": 0
      },
      "text/plain": [
       "Dropdown(description='Pulse mode:', options=('voltage', 'laser'), value='voltage')"
      ]
     },
     "metadata": {},
     "output_type": "display_data"
    },
    {
     "data": {
      "application/vnd.jupyter.widget-view+json": {
       "model_id": "d92c5279c3ae44a3b28cdb400297e3e6",
       "version_major": 2,
       "version_minor": 0
      },
      "text/plain": [
       "FloatText(value=110.0, description='Flight path length:')"
      ]
     },
     "metadata": {},
     "output_type": "display_data"
    }
   ],
   "source": [
    "tdc, pulse_mode, flightPathLength_d, t0_d, max_mc, det_diam = wd.dataset_instrument_specification_selection()\n",
    "display(tdc, det_diam, pulse_mode, flightPathLength_d)"
   ]
  },
  {
   "cell_type": "markdown",
   "metadata": {
    "pycharm": {
     "name": "#%% md\n"
    }
   },
   "source": [
    "$$\\textbf{You can specify which dataset to use in below block}$$"
   ]
  },
  {
   "cell_type": "code",
   "execution_count": 200,
   "metadata": {
    "pycharm": {
     "name": "#%%\n"
    },
    "tags": []
   },
   "outputs": [
    {
     "name": "stdout",
     "output_type": "stream",
     "text": [
      "The maximum time of flight: 5010\n"
     ]
    }
   ],
   "source": [
    "# exctract needed data from Pandas data frame as an numpy array\n",
    "# create an instance of the Variables opject\n",
    "variables = share_variables.Variables()\n",
    "variables.pulse_mode = pulse_mode\n",
    "dataset_main_path = os.path.dirname(dataset_path)\n",
    "dataset_name_with_extention = os.path.basename(dataset_path)\n",
    "variables.dataset_name = os.path.splitext(dataset_name_with_extention)[0]\n",
    "variables.result_data_path = dataset_main_path \n",
    "variables.result_data_name = 'mc_calibration_' + variables.dataset_name\n",
    "variables.result_path = dataset_main_path + '/' + '/mc_calibration/'\n",
    "\n",
    "if not os.path.isdir(variables.result_path):\n",
    "    os.makedirs(variables.result_path, mode=0o777, exist_ok=True)\n",
    "    \n",
    "# Create data farame out of hdf5 file dataset\n",
    "data = data_tools.load_data(dataset_path, tdc.value, mode='processed')\n",
    "# extract data from the path and create the Variable object\n",
    "data_tools.extract_data(data, variables, flightPathLength_d.value, max_mc.value)"
   ]
  },
  {
   "cell_type": "code",
   "execution_count": 201,
   "metadata": {
    "pycharm": {
     "name": "#%%\n"
    },
    "tags": []
   },
   "outputs": [
    {
     "name": "stdout",
     "output_type": "stream",
     "text": [
      "The data will be saved on the path: D:/pyccapt/tests/data/data_1664_Sep-12-2023_14-13_SS430_B_14_test2\n",
      "=============================\n",
      "The dataset name after saving is: mc_calibration_cropped_data_1664_Sep-12-2023_14-13_SS430_B_14_test2\n",
      "=============================\n",
      "The figures will be saved on the path: D:/pyccapt/tests/data/data_1664_Sep-12-2023_14-13_SS430_B_14_test2//mc_calibration/\n",
      "=============================\n",
      "Total number of Ions: 306802\n"
     ]
    },
    {
     "data": {
      "text/html": [
       "<div>\n",
       "<style scoped>\n",
       "    .dataframe tbody tr th:only-of-type {\n",
       "        vertical-align: middle;\n",
       "    }\n",
       "\n",
       "    .dataframe tbody tr th {\n",
       "        vertical-align: top;\n",
       "    }\n",
       "\n",
       "    .dataframe thead th {\n",
       "        text-align: right;\n",
       "    }\n",
       "</style>\n",
       "<table border=\"1\" class=\"dataframe\">\n",
       "  <thead>\n",
       "    <tr style=\"text-align: right;\">\n",
       "      <th></th>\n",
       "      <th>x (nm)</th>\n",
       "      <th>y (nm)</th>\n",
       "      <th>z (nm)</th>\n",
       "      <th>mc_c (Da)</th>\n",
       "      <th>mc (Da)</th>\n",
       "      <th>high_voltage (V)</th>\n",
       "      <th>pulse</th>\n",
       "      <th>start_counter</th>\n",
       "      <th>t_c (ns)</th>\n",
       "      <th>t (ns)</th>\n",
       "      <th>x_det (cm)</th>\n",
       "      <th>y_det (cm)</th>\n",
       "      <th>pulse_pi</th>\n",
       "      <th>ion_pp</th>\n",
       "    </tr>\n",
       "  </thead>\n",
       "  <tbody>\n",
       "    <tr>\n",
       "      <th>0</th>\n",
       "      <td>0.0</td>\n",
       "      <td>0.0</td>\n",
       "      <td>0.0</td>\n",
       "      <td>0.0</td>\n",
       "      <td>30.291252</td>\n",
       "      <td>7380.22998</td>\n",
       "      <td>1107.034546</td>\n",
       "      <td>11595</td>\n",
       "      <td>0.0</td>\n",
       "      <td>538.016968</td>\n",
       "      <td>1.492245</td>\n",
       "      <td>2.419592</td>\n",
       "      <td>0</td>\n",
       "      <td>0</td>\n",
       "    </tr>\n",
       "    <tr>\n",
       "      <th>1</th>\n",
       "      <td>0.0</td>\n",
       "      <td>0.0</td>\n",
       "      <td>0.0</td>\n",
       "      <td>0.0</td>\n",
       "      <td>30.163544</td>\n",
       "      <td>7380.22998</td>\n",
       "      <td>1107.034546</td>\n",
       "      <td>11970</td>\n",
       "      <td>0.0</td>\n",
       "      <td>537.379150</td>\n",
       "      <td>1.596735</td>\n",
       "      <td>2.396735</td>\n",
       "      <td>375</td>\n",
       "      <td>2</td>\n",
       "    </tr>\n",
       "    <tr>\n",
       "      <th>2</th>\n",
       "      <td>0.0</td>\n",
       "      <td>0.0</td>\n",
       "      <td>0.0</td>\n",
       "      <td>0.0</td>\n",
       "      <td>29.998563</td>\n",
       "      <td>7380.22998</td>\n",
       "      <td>1107.034546</td>\n",
       "      <td>13053</td>\n",
       "      <td>0.0</td>\n",
       "      <td>525.226807</td>\n",
       "      <td>1.632653</td>\n",
       "      <td>-0.163265</td>\n",
       "      <td>1083</td>\n",
       "      <td>1</td>\n",
       "    </tr>\n",
       "    <tr>\n",
       "      <th>3</th>\n",
       "      <td>0.0</td>\n",
       "      <td>0.0</td>\n",
       "      <td>0.0</td>\n",
       "      <td>0.0</td>\n",
       "      <td>28.997095</td>\n",
       "      <td>7380.22998</td>\n",
       "      <td>1107.034546</td>\n",
       "      <td>16044</td>\n",
       "      <td>0.0</td>\n",
       "      <td>524.842712</td>\n",
       "      <td>-1.988571</td>\n",
       "      <td>1.675102</td>\n",
       "      <td>2991</td>\n",
       "      <td>1</td>\n",
       "    </tr>\n",
       "    <tr>\n",
       "      <th>4</th>\n",
       "      <td>0.0</td>\n",
       "      <td>0.0</td>\n",
       "      <td>0.0</td>\n",
       "      <td>0.0</td>\n",
       "      <td>29.834567</td>\n",
       "      <td>7380.22998</td>\n",
       "      <td>1107.034546</td>\n",
       "      <td>17519</td>\n",
       "      <td>0.0</td>\n",
       "      <td>520.590759</td>\n",
       "      <td>-0.672653</td>\n",
       "      <td>-0.734694</td>\n",
       "      <td>1475</td>\n",
       "      <td>1</td>\n",
       "    </tr>\n",
       "    <tr>\n",
       "      <th>...</th>\n",
       "      <td>...</td>\n",
       "      <td>...</td>\n",
       "      <td>...</td>\n",
       "      <td>...</td>\n",
       "      <td>...</td>\n",
       "      <td>...</td>\n",
       "      <td>...</td>\n",
       "      <td>...</td>\n",
       "      <td>...</td>\n",
       "      <td>...</td>\n",
       "      <td>...</td>\n",
       "      <td>...</td>\n",
       "      <td>...</td>\n",
       "      <td>...</td>\n",
       "    </tr>\n",
       "    <tr>\n",
       "      <th>306797</th>\n",
       "      <td>0.0</td>\n",
       "      <td>0.0</td>\n",
       "      <td>0.0</td>\n",
       "      <td>0.0</td>\n",
       "      <td>30.946816</td>\n",
       "      <td>9711.05957</td>\n",
       "      <td>1456.659058</td>\n",
       "      <td>10976</td>\n",
       "      <td>0.0</td>\n",
       "      <td>489.990387</td>\n",
       "      <td>2.471837</td>\n",
       "      <td>2.906122</td>\n",
       "      <td>12</td>\n",
       "      <td>1</td>\n",
       "    </tr>\n",
       "    <tr>\n",
       "      <th>306798</th>\n",
       "      <td>0.0</td>\n",
       "      <td>0.0</td>\n",
       "      <td>0.0</td>\n",
       "      <td>0.0</td>\n",
       "      <td>376.240405</td>\n",
       "      <td>9711.05957</td>\n",
       "      <td>1456.659058</td>\n",
       "      <td>11021</td>\n",
       "      <td>0.0</td>\n",
       "      <td>1519.773926</td>\n",
       "      <td>0.120816</td>\n",
       "      <td>0.829388</td>\n",
       "      <td>45</td>\n",
       "      <td>1</td>\n",
       "    </tr>\n",
       "    <tr>\n",
       "      <th>306799</th>\n",
       "      <td>0.0</td>\n",
       "      <td>0.0</td>\n",
       "      <td>0.0</td>\n",
       "      <td>0.0</td>\n",
       "      <td>28.060671</td>\n",
       "      <td>9711.05957</td>\n",
       "      <td>1456.659058</td>\n",
       "      <td>11156</td>\n",
       "      <td>0.0</td>\n",
       "      <td>456.715363</td>\n",
       "      <td>1.583673</td>\n",
       "      <td>-2.135510</td>\n",
       "      <td>135</td>\n",
       "      <td>1</td>\n",
       "    </tr>\n",
       "    <tr>\n",
       "      <th>306800</th>\n",
       "      <td>0.0</td>\n",
       "      <td>0.0</td>\n",
       "      <td>0.0</td>\n",
       "      <td>0.0</td>\n",
       "      <td>29.532588</td>\n",
       "      <td>9711.05957</td>\n",
       "      <td>1456.659058</td>\n",
       "      <td>17661</td>\n",
       "      <td>0.0</td>\n",
       "      <td>471.590363</td>\n",
       "      <td>3.092245</td>\n",
       "      <td>0.176327</td>\n",
       "      <td>1371</td>\n",
       "      <td>1</td>\n",
       "    </tr>\n",
       "    <tr>\n",
       "      <th>306801</th>\n",
       "      <td>0.0</td>\n",
       "      <td>0.0</td>\n",
       "      <td>0.0</td>\n",
       "      <td>0.0</td>\n",
       "      <td>29.501438</td>\n",
       "      <td>9711.05957</td>\n",
       "      <td>1456.659058</td>\n",
       "      <td>17828</td>\n",
       "      <td>0.0</td>\n",
       "      <td>473.325439</td>\n",
       "      <td>3.258775</td>\n",
       "      <td>0.414694</td>\n",
       "      <td>167</td>\n",
       "      <td>1</td>\n",
       "    </tr>\n",
       "  </tbody>\n",
       "</table>\n",
       "<p>306802 rows × 14 columns</p>\n",
       "</div>"
      ],
      "text/plain": [
       "        x (nm)  y (nm)  z (nm)  mc_c (Da)     mc (Da)  high_voltage (V)  \\\n",
       "0          0.0     0.0     0.0        0.0   30.291252        7380.22998   \n",
       "1          0.0     0.0     0.0        0.0   30.163544        7380.22998   \n",
       "2          0.0     0.0     0.0        0.0   29.998563        7380.22998   \n",
       "3          0.0     0.0     0.0        0.0   28.997095        7380.22998   \n",
       "4          0.0     0.0     0.0        0.0   29.834567        7380.22998   \n",
       "...        ...     ...     ...        ...         ...               ...   \n",
       "306797     0.0     0.0     0.0        0.0   30.946816        9711.05957   \n",
       "306798     0.0     0.0     0.0        0.0  376.240405        9711.05957   \n",
       "306799     0.0     0.0     0.0        0.0   28.060671        9711.05957   \n",
       "306800     0.0     0.0     0.0        0.0   29.532588        9711.05957   \n",
       "306801     0.0     0.0     0.0        0.0   29.501438        9711.05957   \n",
       "\n",
       "              pulse  start_counter  t_c (ns)       t (ns)  x_det (cm)  \\\n",
       "0       1107.034546          11595       0.0   538.016968    1.492245   \n",
       "1       1107.034546          11970       0.0   537.379150    1.596735   \n",
       "2       1107.034546          13053       0.0   525.226807    1.632653   \n",
       "3       1107.034546          16044       0.0   524.842712   -1.988571   \n",
       "4       1107.034546          17519       0.0   520.590759   -0.672653   \n",
       "...             ...            ...       ...          ...         ...   \n",
       "306797  1456.659058          10976       0.0   489.990387    2.471837   \n",
       "306798  1456.659058          11021       0.0  1519.773926    0.120816   \n",
       "306799  1456.659058          11156       0.0   456.715363    1.583673   \n",
       "306800  1456.659058          17661       0.0   471.590363    3.092245   \n",
       "306801  1456.659058          17828       0.0   473.325439    3.258775   \n",
       "\n",
       "        y_det (cm)  pulse_pi  ion_pp  \n",
       "0         2.419592         0       0  \n",
       "1         2.396735       375       2  \n",
       "2        -0.163265      1083       1  \n",
       "3         1.675102      2991       1  \n",
       "4        -0.734694      1475       1  \n",
       "...            ...       ...     ...  \n",
       "306797    2.906122        12       1  \n",
       "306798    0.829388        45       1  \n",
       "306799   -2.135510       135       1  \n",
       "306800    0.176327      1371       1  \n",
       "306801    0.414694       167       1  \n",
       "\n",
       "[306802 rows x 14 columns]"
      ]
     },
     "execution_count": 201,
     "metadata": {},
     "output_type": "execute_result"
    }
   ],
   "source": [
    "print('The data will be saved on the path:', variables.result_data_path)\n",
    "print('=============================')\n",
    "print('The dataset name after saving is:', variables.result_data_name)\n",
    "print('=============================')\n",
    "print('The figures will be saved on the path:', variables.result_path)\n",
    "print('=============================')\n",
    "print('Total number of Ions:', len(data))\n",
    "data"
   ]
  },
  {
   "cell_type": "code",
   "execution_count": 202,
   "metadata": {
    "tags": []
   },
   "outputs": [
    {
     "name": "stderr",
     "output_type": "stream",
     "text": [
      "C:\\Users\\APTUser\\AppData\\Local\\Temp\\ipykernel_19508\\1621577327.py:1: DeprecationWarning: on_submit is deprecated. Instead, set the .continuous_update attribute to False and observe the value changing with: mywidget.observe(callback, 'value').\n",
      "  interact_manual(data_loadcrop.plot_crop_experiment_history, data=fixed(data), variables=fixed(variables), max_tof=widgets.FloatText(value=variables.max_tof), frac=widgets.FloatText(value=1.0),\n"
     ]
    },
    {
     "data": {
      "application/vnd.jupyter.widget-view+json": {
       "model_id": "503ae5270e2e4df6b620e370450687c6",
       "version_major": 2,
       "version_minor": 0
      },
      "text/plain": [
       "interactive(children=(FloatText(value=5010.0, description='max_tof'), FloatText(value=1.0, description='frac')…"
      ]
     },
     "metadata": {},
     "output_type": "display_data"
    }
   ],
   "source": [
    "interact_manual(data_loadcrop.plot_crop_experiment_history, data=fixed(data), variables=fixed(variables), max_tof=widgets.FloatText(value=variables.max_tof), frac=widgets.FloatText(value=1.0),\n",
    "                bins=fixed((1200,800)), figure_size=fixed((7,3)),\n",
    "               draw_rect=fixed(False), data_crop=fixed(False), pulse_plot=widgets.Dropdown(options=[('False', False), ('True', True)]), dc_plot=widgets.Dropdown(options=[('True', True), ('False', False)]),\n",
    "               pulse_mode=widgets.Dropdown(options=[('voltage', 'voltage'), ('laser', 'laser')]), save=widgets.Dropdown(options=[('True', True), ('False', False)]),\n",
    "               figname=widgets.Text(value='exp_hist'));"
   ]
  },
  {
   "cell_type": "code",
   "execution_count": 203,
   "metadata": {
    "tags": []
   },
   "outputs": [
    {
     "name": "stderr",
     "output_type": "stream",
     "text": [
      "C:\\Users\\APTUser\\AppData\\Local\\Temp\\ipykernel_19508\\2908251488.py:1: DeprecationWarning: on_submit is deprecated. Instead, set the .continuous_update attribute to False and observe the value changing with: mywidget.observe(callback, 'value').\n",
      "  interact_manual(tools.mc_hist_plot, variables=fixed(variables), bin_size=widgets.FloatText(value=0.1),\n"
     ]
    },
    {
     "data": {
      "application/vnd.jupyter.widget-view+json": {
       "model_id": "ad55b5e2fba94a96add58d39213396d8",
       "version_major": 2,
       "version_minor": 0
      },
      "text/plain": [
       "interactive(children=(FloatText(value=0.1, description='bin_size'), Dropdown(description='mode', options=(('mc…"
      ]
     },
     "metadata": {},
     "output_type": "display_data"
    }
   ],
   "source": [
    "interact_manual(tools.mc_hist_plot, variables=fixed(variables), bin_size=widgets.FloatText(value=0.1), \n",
    "                mode=widgets.Dropdown(options=[('mc', 'mc'), ('tof', 'tof')]), prominence=widgets.IntText(value=50), distance=widgets.IntText(value=100), \n",
    "                lim=widgets.IntText(value=5000), percent=widgets.IntText(value=50), selector=fixed('None'), plot=fixed(True), figname=widgets.Text(value='hist'),\n",
    "                peaks_find_plot=fixed(False));"
   ]
  },
  {
   "cell_type": "markdown",
   "metadata": {
    "pycharm": {
     "name": "#%% md\n"
    }
   },
   "source": [
    "$$\\textbf{Below plotted graph offers peak selection. You can select relevant peaks you want for computation.}$$"
   ]
  },
  {
   "cell_type": "code",
   "execution_count": 204,
   "metadata": {
    "pycharm": {
     "name": "#%%\n"
    },
    "tags": []
   },
   "outputs": [],
   "source": [
    "bin_size=widgets.FloatText(value=0.1, description='bin size:')\n",
    "prominence=widgets.IntText(value=100, description='peak prominance:')\n",
    "distance=widgets.IntText(value=500, description='peak distance:')\n",
    "lim_tof=widgets.IntText(value=400, description='lim tof/mc:')\n",
    "percent=widgets.IntText(value=50, description='percent MRP:')\n",
    "index_fig = widgets.IntText(value=1, description='fig index:')\n",
    "plot_peak = widgets.Dropdown(\n",
    "    options=[('False', False), ('True', True)],\n",
    "    description='plot peak:'\n",
    ")\n",
    "\n",
    "def hist_plot(variables, plot):\n",
    "    \n",
    "    with out:\n",
    "        clear_output(True)\n",
    "    \n",
    "        bin_size_p = bin_size.value\n",
    "        prominence_p = prominence.value\n",
    "        distance_p = distance.value\n",
    "        lim_tof_p = lim_tof.value\n",
    "        percent_p = percent.value\n",
    "        index_fig_p = index_fig.value\n",
    "        plot_peak_p = plot_peak.value\n",
    "        tools.mc_hist_plot(variables, bin_size_p, mode='mc', prominence=prominence_p, distance=distance_p, percent=percent_p, selector='rect', plot=True, figname=index_fig_p, lim=lim_tof_p,\n",
    "                          peaks_find_plot=plot_peak_p)"
   ]
  },
  {
   "cell_type": "code",
   "execution_count": 205,
   "metadata": {
    "tags": []
   },
   "outputs": [],
   "source": [
    "sample_size_b = widgets.IntText(value=11, description='sample size:') \n",
    "index_fig_b = widgets.IntText(value=1, description='fig index:')\n",
    "maximum_cal_method_b = widgets.Dropdown(\n",
    "    options=[('mean', 'mean'), ('histogram', 'histogram')],\n",
    "    description='calib method:'\n",
    ")\n",
    "plot_b = widgets.Dropdown(\n",
    "    options=[('False', False), ('True', True)],\n",
    "    description='plot fig:'\n",
    ")\n",
    "\n",
    "save_b = widgets.Dropdown(\n",
    "    options=[('False', False), ('True', True)],\n",
    "    description='save fig:'\n",
    ")\n",
    "apply_b = widgets.Dropdown(\n",
    "    options=[('all', 'all'), ('temporal', 'temporal'),],\n",
    "    description='apply mode:'\n",
    ")\n",
    "def bowl_correction(dld_x, dld_y, dld_highVoltage, variables):\n",
    "    with out:\n",
    "        sample_size_p = sample_size_b.value\n",
    "        index_fig_p = index_fig_b.value\n",
    "        plot_p = plot_b.value\n",
    "        save_p = save_b.value\n",
    "        maximum_cal_method_p = maximum_cal_method_b.value\n",
    "        calibration.bowl_correction_main(dld_x, dld_y, dld_highVoltage, variables, det_diam.value, sample_size=sample_size_p, maximum_cal_method=maximum_cal_method_p, apply_local=apply_b.value,\n",
    "                                         calibration_mode='mc', index_fig=index_fig_p, plot=plot_p, save=save_p)\n"
   ]
  },
  {
   "cell_type": "code",
   "execution_count": 206,
   "metadata": {
    "tags": []
   },
   "outputs": [],
   "source": [
    "sample_size_v =widgets.IntText(value=100, description='sample size:') \n",
    "index_fig_v = widgets.IntText(value=1, description='fig index:')\n",
    "plot_v = widgets.Dropdown(\n",
    "    options=[('False', False), ('True', True)],\n",
    "    description='plot fig:'\n",
    ")\n",
    "save_v = widgets.Dropdown(\n",
    "    options=[('False', False), ('True', True)],\n",
    "    description='save fig:'\n",
    ")\n",
    "mode_v = widgets.Dropdown(\n",
    "    options=[('ion_seq', 'ion_seq'), ('voltage', 'voltage')],\n",
    "    description='sample mode:'\n",
    ")\n",
    "peak_mode = widgets.Dropdown(\n",
    "    options=[('peak', 'peak'), ('mean', 'mean'), ('median', 'median')],\n",
    "    description='peak mode:'\n",
    ")\n",
    "num_cluster = widgets.IntText(value=1, description='num_cluster:')\n",
    "apply_v = widgets.Dropdown(\n",
    "    options=[('all', 'all'), ('voltage', 'voltage'), ('voltage_temporal', 'voltage_temporal')],\n",
    "    description='apply mode:'\n",
    ")\n",
    "def vol_correction(dld_highVoltage, variables):\n",
    "    with out:\n",
    "        sample_size_p = sample_size_v.value\n",
    "        index_fig_p = index_fig_v.value\n",
    "        plot_p = plot_v.value\n",
    "        save_p = save_v.value\n",
    "        mode_p = mode_v.value\n",
    "        peak_mode_p = peak_mode.value\n",
    "        calibration.voltage_corr_main(dld_highVoltage, variables, sample_size=sample_size_p, calibration_mode='mc',\n",
    "                                        index_fig=index_fig_p, plot=plot_p, save=save_p, apply_local=apply_v.value, num_cluster=num_cluster.value, mode=mode_p, peak_mode=peak_mode_p)\n"
   ]
  },
  {
   "cell_type": "code",
   "execution_count": 207,
   "metadata": {
    "tags": []
   },
   "outputs": [
    {
     "data": {
      "application/vnd.jupyter.widget-view+json": {
       "model_id": "fcc3791a0b7947f2b138aa30f87cdb72",
       "version_major": 2,
       "version_minor": 0
      },
      "text/plain": [
       "VBox(children=(Tab(children=(VBox(children=(FloatText(value=0.1, description='bin size:'), IntText(value=1, de…"
      ]
     },
     "metadata": {},
     "output_type": "display_data"
    },
    {
     "data": {
      "application/vnd.jupyter.widget-view+json": {
       "model_id": "caacaaa6de644541b4ea34323ba4e93d",
       "version_major": 2,
       "version_minor": 0
      },
      "text/plain": [
       "Output()"
      ]
     },
     "metadata": {},
     "output_type": "display_data"
    }
   ],
   "source": [
    "pb_bowl = widgets.HTML(\n",
    "    value=\" \",\n",
    "    placeholder='Status:',\n",
    "    description='Status:',\n",
    ")\n",
    "pb_vol = widgets.HTML(\n",
    "    value=\" \",\n",
    "    placeholder='Status:',\n",
    "    description='Status:',\n",
    ")\n",
    "plot_button = widgets.Button(\n",
    "    description='plot hist',\n",
    ")\n",
    "plot_stat_button = widgets.Button(\n",
    "    description='plot stat',\n",
    ")\n",
    "reset_back_button = widgets.Button(\n",
    "    description='reset back correction',\n",
    ")\n",
    "reset_button = widgets.Button(\n",
    "    description='reset',\n",
    ")\n",
    "save_button = widgets.Button(\n",
    "    description='save correction',\n",
    ")\n",
    "bowl_button = widgets.Button(\n",
    "    description='bowl correction',\n",
    ")\n",
    "vol_button = widgets.Button(\n",
    "    description='voltage correction',\n",
    ")\n",
    "bin_fdm = widgets.IntText(value=256, description='bin FDM:')\n",
    "    \n",
    "@plot_button.on_click\n",
    "def plot_on_click(b, variables=variables, plot=True):\n",
    "    hist_plot(variables, plot)\n",
    "\n",
    "@plot_stat_button.on_click\n",
    "def plot_stat_on_click(b, variables=variables, save=True):\n",
    "    with out2:\n",
    "        clear_output(True)\n",
    "    with out:\n",
    "        clear_output(True)\n",
    "        calibration.plot_selected_statistic(variables, bin_fdm.value, index_fig.value, calibration_mode='mc', save=True)\n",
    "    \n",
    "@reset_back_button.on_click\n",
    "def reset_back_on_click(b, variables=variables):\n",
    "    variables.mc_calib = np.copy(variables.mc_calib_backup)\n",
    "@reset_button.on_click\n",
    "def reset_on_click(b, data=data, variables=variables, flightPathLength_d=flightPathLength_d.value, max_mc=max_mc.value):\n",
    "    data_tools.extract_data(data, variables, flightPathLength_d, max_mc)\n",
    "    \n",
    "@save_button.on_click\n",
    "def save_on_click(b, variables=variables):\n",
    "    variables.mc_calib_backup = np.copy(variables.mc_calib)\n",
    "\n",
    "@vol_button.on_click\n",
    "def vol_on_click(b, dld_highVoltage=variables.dld_high_voltage, variables=variables):\n",
    "    with out2:\n",
    "        clear_output(True)\n",
    "        pb_vol.value = \"<b>Starting...</b>\"\n",
    "        if variables.selected_x1 == 0 or variables.selected_x2 == 0:\n",
    "            print('Please first select a peak')\n",
    "        else:\n",
    "            print('Selected mc ranges are: (%s, %s)' %(variables.selected_x1, variables.selected_x2))\n",
    "            vol_correction(dld_highVoltage, variables)\n",
    "        pb_vol.value = \"<b>Flished</b>\"\n",
    "@bowl_button.on_click\n",
    "def bowl_on_click(b, dld_x_det=variables.dld_x_det, dld_y_det=variables.dld_y_det, dld_highVoltage=variables.dld_high_voltage, variables=variables):\n",
    "    with out2:\n",
    "        clear_output(True)\n",
    "        pb_bowl.value = \"<b>Starting...</b>\"\n",
    "        if variables.selected_x1 == 0 or variables.selected_x2 == 0:\n",
    "            print('Please first select a peak')\n",
    "        else:\n",
    "            print('Selected mc ranges are: (%s, %s)' %(variables.selected_x1, variables.selected_x2))\n",
    "            bowl_correction(dld_x_det, dld_y_det, dld_highVoltage, variables)  \n",
    "        pb_bowl.value = \"<b>Flished</b>\"\n",
    "\n",
    "\n",
    "tab1 = VBox(children=[bin_size, index_fig, prominence, distance, lim_tof, percent, bin_fdm, plot_peak])\n",
    "tab2 = VBox(children=[VBox(children=[sample_size_b, index_fig_b, maximum_cal_method_b, apply_b, plot_b, save_b]), bowl_button, pb_bowl])\n",
    "tab3 = VBox(children=[VBox(children=[sample_size_v, index_fig_v, mode_v, apply_v, num_cluster, peak_mode, plot_v, save_v]), vol_button, pb_vol])\n",
    "\n",
    "tab = widgets.Tab(children=[tab1, tab2, tab3])\n",
    "tab.set_title(0, 'tof/mc plot')\n",
    "tab.set_title(1, 'bowl correction')\n",
    "tab.set_title(2, 'voltage correction')\n",
    "\n",
    "\n",
    "\n",
    "display(VBox(children=[tab,HBox(children=[plot_button, plot_stat_button, save_button, reset_back_button, reset_button])]))\n",
    "out = Output()\n",
    "out2 = Output()\n",
    "display(out)"
   ]
  },
  {
   "cell_type": "code",
   "execution_count": 208,
   "metadata": {},
   "outputs": [],
   "source": [
    "variables.mc_calib_backup = variables.mc_calib"
   ]
  },
  {
   "cell_type": "code",
   "execution_count": 209,
   "metadata": {
    "tags": []
   },
   "outputs": [],
   "source": [
    "variables.mc_calib = variables.mc_calib_backup"
   ]
  },
  {
   "cell_type": "code",
   "execution_count": 210,
   "metadata": {
    "tags": []
   },
   "outputs": [
    {
     "name": "stderr",
     "output_type": "stream",
     "text": [
      "C:\\Users\\APTUser\\AppData\\Local\\Temp\\ipykernel_19508\\419717795.py:1: DeprecationWarning: on_submit is deprecated. Instead, set the .continuous_update attribute to False and observe the value changing with: mywidget.observe(callback, 'value').\n",
      "  interact_manual(tools.mc_hist_plot, variables=fixed(variables), bin_size=widgets.FloatText(value=0.1),\n"
     ]
    },
    {
     "data": {
      "application/vnd.jupyter.widget-view+json": {
       "model_id": "eba55657b4de40f3a00bbe627c3e63e6",
       "version_major": 2,
       "version_minor": 0
      },
      "text/plain": [
       "interactive(children=(FloatText(value=0.1, description='bin_size'), Dropdown(description='mode', options=(('mc…"
      ]
     },
     "metadata": {},
     "output_type": "display_data"
    }
   ],
   "source": [
    "interact_manual(tools.mc_hist_plot, variables=fixed(variables), bin_size=widgets.FloatText(value=0.1), \n",
    "                mode=widgets.Dropdown(options=[('mc', 'mc')]), prominence=widgets.IntText(value=50), distance=widgets.IntText(value=100), \n",
    "                lim=widgets.IntText(value=400), percent=widgets.IntText(value=50), selector=fixed('peak'), plot=fixed(True), figname=widgets.Text(value='mc_hist_calibrated'),\n",
    "               peaks_find_plot=widgets.Dropdown(options=[('True', True), ('False', False)]));\n"
   ]
  },
  {
   "cell_type": "code",
   "execution_count": 2,
   "metadata": {
    "tags": []
   },
   "outputs": [
    {
     "data": {
      "application/vnd.jupyter.widget-view+json": {
       "model_id": "43209caa3d83494882f0e3bdad47ba94",
       "version_major": 2,
       "version_minor": 0
      },
      "text/plain": [
       "Dropdown(description='Elements', options=(('H (1) (99.98)', 'H(1)[1.01]'), ('H (2) (0.01)', 'H(2)[2.01]'), ('H…"
      ]
     },
     "metadata": {},
     "output_type": "display_data"
    },
    {
     "data": {
      "application/vnd.jupyter.widget-view+json": {
       "model_id": "c144e0b3ea5e47f28fa26ff63299759e",
       "version_major": 2,
       "version_minor": 0
      },
      "text/plain": [
       "Dropdown(description='Charge', options=((1, 1), (2, 2), (3, 3), (4, 4)), value=1)"
      ]
     },
     "metadata": {},
     "output_type": "display_data"
    },
    {
     "data": {
      "application/vnd.jupyter.widget-view+json": {
       "model_id": "540c6ebca1f3437e82b8421330e1f316",
       "version_major": 2,
       "version_minor": 0
      },
      "text/plain": [
       "Button(description='ADD', icon='check', style=ButtonStyle(), tooltip='ADD')"
      ]
     },
     "metadata": {},
     "output_type": "display_data"
    },
    {
     "data": {
      "application/vnd.jupyter.widget-view+json": {
       "model_id": "ef1a29f7b9784652a7bb896f92b14b78",
       "version_major": 2,
       "version_minor": 0
      },
      "text/plain": [
       "Button(description='DELETE', icon='check', style=ButtonStyle(), tooltip='DELETE')"
      ]
     },
     "metadata": {},
     "output_type": "display_data"
    },
    {
     "data": {
      "application/vnd.jupyter.widget-view+json": {
       "model_id": "4e71b1294e664aefb261c7ab00619fca",
       "version_major": 2,
       "version_minor": 0
      },
      "text/plain": [
       "Button(description='RESET', icon='check', style=ButtonStyle(), tooltip='RESET')"
      ]
     },
     "metadata": {},
     "output_type": "display_data"
    },
    {
     "ename": "NameError",
     "evalue": "name 'variables' is not defined",
     "output_type": "error",
     "traceback": [
      "\u001b[1;31m---------------------------------------------------------------------------\u001b[0m",
      "\u001b[1;31mNameError\u001b[0m                                 Traceback (most recent call last)",
      "Cell \u001b[1;32mIn[2], line 47\u001b[0m\n\u001b[0;32m     44\u001b[0m         wd\u001b[38;5;241m.\u001b[39monClickReset(b, variables)\n\u001b[0;32m     45\u001b[0m         display()\n\u001b[1;32m---> 47\u001b[0m listMaterial \u001b[38;5;241m=\u001b[39m buttonAdd\u001b[38;5;241m.\u001b[39mon_click(functools\u001b[38;5;241m.\u001b[39mpartial(buttonAdd_f, variables\u001b[38;5;241m=\u001b[39m\u001b[43mvariables\u001b[49m))\n\u001b[0;32m     48\u001b[0m buttonDelete\u001b[38;5;241m.\u001b[39mon_click(functools\u001b[38;5;241m.\u001b[39mpartial(buttonDelete_f, variables\u001b[38;5;241m=\u001b[39mvariables))\n\u001b[0;32m     49\u001b[0m buttonReset\u001b[38;5;241m.\u001b[39mon_click(functools\u001b[38;5;241m.\u001b[39mpartial(buttonResett_f, variables\u001b[38;5;241m=\u001b[39mvariables))\n",
      "\u001b[1;31mNameError\u001b[0m: name 'variables' is not defined"
     ]
    }
   ],
   "source": [
    "isotopeTableFile = '../../../files/isotopeTable.h5'\n",
    "dataframe = data_tools.read_hdf5_through_pandas(isotopeTableFile)\n",
    "elementsList = dataframe['element']\n",
    "elementIsotopeList = dataframe['isotope']\n",
    "elementMassList =  dataframe['weight']\n",
    "abundanceList = dataframe['abundance']\n",
    "\n",
    "elements = list(zip(elementsList, elementIsotopeList, elementMassList, abundanceList))\n",
    "dropdownList = []\n",
    "for element in elements:\n",
    "    tupleElement = (\"{} ({}) ({:.2f})\".format(element[0], element[1], element[3]), \"{}({})[{}]\".format(element[0], element[1], element[2]))\n",
    "    dropdownList.append(tupleElement)\n",
    "\n",
    "chargeList = [(1,1,),(2,2,),(3,3,),(4,4,)]\n",
    "dropdown = wd.dropdownWidget(dropdownList,\"Elements\")\n",
    "dropdown.observe(wd.on_change)\n",
    "\n",
    "\n",
    "chargeDropdown = wd.dropdownWidget(chargeList,\"Charge\")\n",
    "chargeDropdown.observe(wd.on_change_charge)\n",
    "\n",
    "wd.compute_element_isotope_values_according_to_selected_charge()\n",
    "\n",
    "buttonAdd = wd.buttonWidget(\"ADD\")\n",
    "buttonDelete = wd.buttonWidget(\"DELETE\")\n",
    "buttonReset = wd.buttonWidget(\"RESET\")\n",
    "\n",
    "\n",
    "display(dropdown, chargeDropdown, buttonAdd, buttonDelete, buttonReset)\n",
    "\n",
    "def buttonAdd_f(b, variables):\n",
    "    with out:\n",
    "        clear_output(True)\n",
    "        wd.onClickAdd(b, variables)\n",
    "        display()\n",
    "def buttonDelete_f(b, variables):\n",
    "    with out:\n",
    "        clear_output(True)\n",
    "        wd.onClickDelete(b, variables)\n",
    "        display()\n",
    "def buttonResett_f(b, variables):\n",
    "    with out:\n",
    "        clear_output(True)\n",
    "        wd.onClickReset(b, variables)\n",
    "        display()\n",
    "\n",
    "listMaterial = buttonAdd.on_click(functools.partial(buttonAdd_f, variables=variables))\n",
    "buttonDelete.on_click(functools.partial(buttonDelete_f, variables=variables))\n",
    "buttonReset.on_click(functools.partial(buttonResett_f, variables=variables))\n",
    "# listMaterial = buttonAdd.on_click(wd.onClickAdd)\n",
    "# buttonDelete.on_click(wd.onClickDelete)\n",
    "# buttonReset.on_click(wd.onClickReset)\n",
    "out = Output()\n",
    "display(out)"
   ]
  },
  {
   "cell_type": "code",
   "execution_count": 213,
   "metadata": {
    "tags": []
   },
   "outputs": [
    {
     "name": "stdout",
     "output_type": "stream",
     "text": [
      "highest peak in the mc histogram: [ 0.90061505 14.81011376 30.12056917]\n",
      "highest peak in the ideal mc histogram: [ 1.01 13.99 27.97]\n"
     ]
    }
   ],
   "source": [
    "peaks_chos = []\n",
    "for i in range(len(variables.peaks_idx)):\n",
    "    peaks_chos.append(variables.peak[variables.peaks_idx[i]])\n",
    "peaks_chos = np.array(peaks_chos)\n",
    "listMaterial = np.array(variables.listMaterial)\n",
    "print('highest peak in the mc histogram:', peaks_chos)\n",
    "print('highest peak in the ideal mc histogram:', listMaterial)"
   ]
  },
  {
   "cell_type": "code",
   "execution_count": 214,
   "metadata": {
    "tags": []
   },
   "outputs": [
    {
     "name": "stderr",
     "output_type": "stream",
     "text": [
      "C:\\Users\\APTUser\\.conda\\envs\\oxcart5\\lib\\site-packages\\scipy\\optimize\\_minpack_py.py:906: OptimizeWarning: Covariance of the parameters could not be estimated\n",
      "  warnings.warn('Covariance of the parameters could not be estimated',\n"
     ]
    }
   ],
   "source": [
    "# def shift(mc, a, c):\n",
    "#     return  a * mc + c\n",
    "\n",
    "def shift(mc, a, b, c):\n",
    "    return  a * mc**b + c\n",
    "\n",
    "# def shift(mc, a, b, c):\n",
    "#     return a * ((mc - b)**2) + c\n",
    "\n",
    "def shift_calib(mc, mc_ideal):\n",
    "    \n",
    "    fitresult, _ = curve_fit(shift, mc, mc_ideal, maxfev=2000)\n",
    "    return fitresult\n",
    "\n",
    "fitresult = shift_calib(peaks_chos,  variables.listMaterial)\n",
    "variables.mc_calib = shift(variables.mc_calib_backup, *fitresult)\n",
    "\n",
    "# from scipy import interpolate\n",
    "# f_shift = interpolate.interp1d(np.array(variables.listMaterial).T, peaks_chos.T, fill_value=\"extrapolate\")\n",
    "# variables.mc_calib = f_shift(variables.mc_calib)\n",
    "\n"
   ]
  },
  {
   "cell_type": "code",
   "execution_count": 215,
   "metadata": {
    "tags": []
   },
   "outputs": [
    {
     "name": "stderr",
     "output_type": "stream",
     "text": [
      "C:\\Users\\APTUser\\AppData\\Local\\Temp\\ipykernel_19508\\1203954349.py:1: DeprecationWarning: on_submit is deprecated. Instead, set the .continuous_update attribute to False and observe the value changing with: mywidget.observe(callback, 'value').\n",
      "  interact_manual(tools.mc_hist_plot, variables=fixed(variables), bin_size=widgets.FloatText(value=0.1),\n"
     ]
    },
    {
     "data": {
      "application/vnd.jupyter.widget-view+json": {
       "model_id": "2416323f0086445b9c4dad1c7231a2f8",
       "version_major": 2,
       "version_minor": 0
      },
      "text/plain": [
       "interactive(children=(FloatText(value=0.1, description='bin_size'), Dropdown(description='mode', options=(('mc…"
      ]
     },
     "metadata": {},
     "output_type": "display_data"
    }
   ],
   "source": [
    "interact_manual(tools.mc_hist_plot, variables=fixed(variables), bin_size=widgets.FloatText(value=0.1), \n",
    "                mode=widgets.Dropdown(options=[('mc', 'mc')]), prominence=widgets.IntText(value=50), distance=widgets.IntText(value=100), \n",
    "                lim=widgets.IntText(value=400), percent=widgets.IntText(value=50), selector=fixed('peak'), plot=fixed(True), figname=widgets.Text(value='mc_hist_calibrated'),\n",
    "               peaks_find_plot=fixed(True));\n"
   ]
  },
  {
   "cell_type": "code",
   "execution_count": 216,
   "metadata": {
    "tags": []
   },
   "outputs": [
    {
     "data": {
      "text/html": [
       "<div>\n",
       "<style scoped>\n",
       "    .dataframe tbody tr th:only-of-type {\n",
       "        vertical-align: middle;\n",
       "    }\n",
       "\n",
       "    .dataframe tbody tr th {\n",
       "        vertical-align: top;\n",
       "    }\n",
       "\n",
       "    .dataframe thead th {\n",
       "        text-align: right;\n",
       "    }\n",
       "</style>\n",
       "<table border=\"1\" class=\"dataframe\">\n",
       "  <thead>\n",
       "    <tr style=\"text-align: right;\">\n",
       "      <th></th>\n",
       "      <th>x (nm)</th>\n",
       "      <th>y (nm)</th>\n",
       "      <th>z (nm)</th>\n",
       "      <th>mc_c (Da)</th>\n",
       "      <th>mc (Da)</th>\n",
       "      <th>high_voltage (V)</th>\n",
       "      <th>pulse</th>\n",
       "      <th>start_counter</th>\n",
       "      <th>t_c (ns)</th>\n",
       "      <th>t (ns)</th>\n",
       "      <th>x_det (cm)</th>\n",
       "      <th>y_det (cm)</th>\n",
       "      <th>pulse_pi</th>\n",
       "      <th>ion_pp</th>\n",
       "    </tr>\n",
       "  </thead>\n",
       "  <tbody>\n",
       "    <tr>\n",
       "      <th>0</th>\n",
       "      <td>0.0</td>\n",
       "      <td>0.0</td>\n",
       "      <td>0.0</td>\n",
       "      <td>28.145858</td>\n",
       "      <td>30.291252</td>\n",
       "      <td>7380.22998</td>\n",
       "      <td>1107.034546</td>\n",
       "      <td>11595</td>\n",
       "      <td>0.0</td>\n",
       "      <td>538.016968</td>\n",
       "      <td>1.492245</td>\n",
       "      <td>2.419592</td>\n",
       "      <td>0</td>\n",
       "      <td>0</td>\n",
       "    </tr>\n",
       "    <tr>\n",
       "      <th>1</th>\n",
       "      <td>0.0</td>\n",
       "      <td>0.0</td>\n",
       "      <td>0.0</td>\n",
       "      <td>28.059348</td>\n",
       "      <td>30.163544</td>\n",
       "      <td>7380.22998</td>\n",
       "      <td>1107.034546</td>\n",
       "      <td>11970</td>\n",
       "      <td>0.0</td>\n",
       "      <td>537.379150</td>\n",
       "      <td>1.596735</td>\n",
       "      <td>2.396735</td>\n",
       "      <td>375</td>\n",
       "      <td>2</td>\n",
       "    </tr>\n",
       "    <tr>\n",
       "      <th>2</th>\n",
       "      <td>0.0</td>\n",
       "      <td>0.0</td>\n",
       "      <td>0.0</td>\n",
       "      <td>27.981336</td>\n",
       "      <td>29.998563</td>\n",
       "      <td>7380.22998</td>\n",
       "      <td>1107.034546</td>\n",
       "      <td>13053</td>\n",
       "      <td>0.0</td>\n",
       "      <td>525.226807</td>\n",
       "      <td>1.632653</td>\n",
       "      <td>-0.163265</td>\n",
       "      <td>1083</td>\n",
       "      <td>1</td>\n",
       "    </tr>\n",
       "    <tr>\n",
       "      <th>3</th>\n",
       "      <td>0.0</td>\n",
       "      <td>0.0</td>\n",
       "      <td>0.0</td>\n",
       "      <td>26.073363</td>\n",
       "      <td>28.997095</td>\n",
       "      <td>7380.22998</td>\n",
       "      <td>1107.034546</td>\n",
       "      <td>16044</td>\n",
       "      <td>0.0</td>\n",
       "      <td>524.842712</td>\n",
       "      <td>-1.988571</td>\n",
       "      <td>1.675102</td>\n",
       "      <td>2991</td>\n",
       "      <td>1</td>\n",
       "    </tr>\n",
       "    <tr>\n",
       "      <th>4</th>\n",
       "      <td>0.0</td>\n",
       "      <td>0.0</td>\n",
       "      <td>0.0</td>\n",
       "      <td>27.225888</td>\n",
       "      <td>29.834567</td>\n",
       "      <td>7380.22998</td>\n",
       "      <td>1107.034546</td>\n",
       "      <td>17519</td>\n",
       "      <td>0.0</td>\n",
       "      <td>520.590759</td>\n",
       "      <td>-0.672653</td>\n",
       "      <td>-0.734694</td>\n",
       "      <td>1475</td>\n",
       "      <td>1</td>\n",
       "    </tr>\n",
       "    <tr>\n",
       "      <th>...</th>\n",
       "      <td>...</td>\n",
       "      <td>...</td>\n",
       "      <td>...</td>\n",
       "      <td>...</td>\n",
       "      <td>...</td>\n",
       "      <td>...</td>\n",
       "      <td>...</td>\n",
       "      <td>...</td>\n",
       "      <td>...</td>\n",
       "      <td>...</td>\n",
       "      <td>...</td>\n",
       "      <td>...</td>\n",
       "      <td>...</td>\n",
       "      <td>...</td>\n",
       "    </tr>\n",
       "    <tr>\n",
       "      <th>306797</th>\n",
       "      <td>0.0</td>\n",
       "      <td>0.0</td>\n",
       "      <td>0.0</td>\n",
       "      <td>29.030300</td>\n",
       "      <td>30.946816</td>\n",
       "      <td>9711.05957</td>\n",
       "      <td>1456.659058</td>\n",
       "      <td>10976</td>\n",
       "      <td>0.0</td>\n",
       "      <td>489.990387</td>\n",
       "      <td>2.471837</td>\n",
       "      <td>2.906122</td>\n",
       "      <td>12</td>\n",
       "      <td>1</td>\n",
       "    </tr>\n",
       "    <tr>\n",
       "      <th>306798</th>\n",
       "      <td>0.0</td>\n",
       "      <td>0.0</td>\n",
       "      <td>0.0</td>\n",
       "      <td>328.622402</td>\n",
       "      <td>376.240405</td>\n",
       "      <td>9711.05957</td>\n",
       "      <td>1456.659058</td>\n",
       "      <td>11021</td>\n",
       "      <td>0.0</td>\n",
       "      <td>1519.773926</td>\n",
       "      <td>0.120816</td>\n",
       "      <td>0.829388</td>\n",
       "      <td>45</td>\n",
       "      <td>1</td>\n",
       "    </tr>\n",
       "    <tr>\n",
       "      <th>306799</th>\n",
       "      <td>0.0</td>\n",
       "      <td>0.0</td>\n",
       "      <td>0.0</td>\n",
       "      <td>26.319004</td>\n",
       "      <td>28.060671</td>\n",
       "      <td>9711.05957</td>\n",
       "      <td>1456.659058</td>\n",
       "      <td>11156</td>\n",
       "      <td>0.0</td>\n",
       "      <td>456.715363</td>\n",
       "      <td>1.583673</td>\n",
       "      <td>-2.135510</td>\n",
       "      <td>135</td>\n",
       "      <td>1</td>\n",
       "    </tr>\n",
       "    <tr>\n",
       "      <th>306800</th>\n",
       "      <td>0.0</td>\n",
       "      <td>0.0</td>\n",
       "      <td>0.0</td>\n",
       "      <td>27.959781</td>\n",
       "      <td>29.532588</td>\n",
       "      <td>9711.05957</td>\n",
       "      <td>1456.659058</td>\n",
       "      <td>17661</td>\n",
       "      <td>0.0</td>\n",
       "      <td>471.590363</td>\n",
       "      <td>3.092245</td>\n",
       "      <td>0.176327</td>\n",
       "      <td>1371</td>\n",
       "      <td>1</td>\n",
       "    </tr>\n",
       "    <tr>\n",
       "      <th>306801</th>\n",
       "      <td>0.0</td>\n",
       "      <td>0.0</td>\n",
       "      <td>0.0</td>\n",
       "      <td>27.970262</td>\n",
       "      <td>29.501438</td>\n",
       "      <td>9711.05957</td>\n",
       "      <td>1456.659058</td>\n",
       "      <td>17828</td>\n",
       "      <td>0.0</td>\n",
       "      <td>473.325439</td>\n",
       "      <td>3.258775</td>\n",
       "      <td>0.414694</td>\n",
       "      <td>167</td>\n",
       "      <td>1</td>\n",
       "    </tr>\n",
       "  </tbody>\n",
       "</table>\n",
       "<p>306802 rows × 14 columns</p>\n",
       "</div>"
      ],
      "text/plain": [
       "        x (nm)  y (nm)  z (nm)   mc_c (Da)     mc (Da)  high_voltage (V)  \\\n",
       "0          0.0     0.0     0.0   28.145858   30.291252        7380.22998   \n",
       "1          0.0     0.0     0.0   28.059348   30.163544        7380.22998   \n",
       "2          0.0     0.0     0.0   27.981336   29.998563        7380.22998   \n",
       "3          0.0     0.0     0.0   26.073363   28.997095        7380.22998   \n",
       "4          0.0     0.0     0.0   27.225888   29.834567        7380.22998   \n",
       "...        ...     ...     ...         ...         ...               ...   \n",
       "306797     0.0     0.0     0.0   29.030300   30.946816        9711.05957   \n",
       "306798     0.0     0.0     0.0  328.622402  376.240405        9711.05957   \n",
       "306799     0.0     0.0     0.0   26.319004   28.060671        9711.05957   \n",
       "306800     0.0     0.0     0.0   27.959781   29.532588        9711.05957   \n",
       "306801     0.0     0.0     0.0   27.970262   29.501438        9711.05957   \n",
       "\n",
       "              pulse  start_counter  t_c (ns)       t (ns)  x_det (cm)  \\\n",
       "0       1107.034546          11595       0.0   538.016968    1.492245   \n",
       "1       1107.034546          11970       0.0   537.379150    1.596735   \n",
       "2       1107.034546          13053       0.0   525.226807    1.632653   \n",
       "3       1107.034546          16044       0.0   524.842712   -1.988571   \n",
       "4       1107.034546          17519       0.0   520.590759   -0.672653   \n",
       "...             ...            ...       ...          ...         ...   \n",
       "306797  1456.659058          10976       0.0   489.990387    2.471837   \n",
       "306798  1456.659058          11021       0.0  1519.773926    0.120816   \n",
       "306799  1456.659058          11156       0.0   456.715363    1.583673   \n",
       "306800  1456.659058          17661       0.0   471.590363    3.092245   \n",
       "306801  1456.659058          17828       0.0   473.325439    3.258775   \n",
       "\n",
       "        y_det (cm)  pulse_pi  ion_pp  \n",
       "0         2.419592         0       0  \n",
       "1         2.396735       375       2  \n",
       "2        -0.163265      1083       1  \n",
       "3         1.675102      2991       1  \n",
       "4        -0.734694      1475       1  \n",
       "...            ...       ...     ...  \n",
       "306797    2.906122        12       1  \n",
       "306798    0.829388        45       1  \n",
       "306799   -2.135510       135       1  \n",
       "306800    0.176327      1371       1  \n",
       "306801    0.414694       167       1  \n",
       "\n",
       "[306802 rows x 14 columns]"
      ]
     },
     "execution_count": 216,
     "metadata": {},
     "output_type": "execute_result"
    }
   ],
   "source": [
    "data['mc_c (Da)'] = variables.mc_calib\n",
    "data"
   ]
  },
  {
   "cell_type": "code",
   "execution_count": 217,
   "metadata": {
    "tags": []
   },
   "outputs": [],
   "source": [
    "data_c = data.copy(deep = True)"
   ]
  },
  {
   "cell_type": "code",
   "execution_count": 218,
   "metadata": {
    "tags": []
   },
   "outputs": [
    {
     "name": "stdout",
     "output_type": "stream",
     "text": [
      "The number of ions with negative mc are: 0\n"
     ]
    }
   ],
   "source": [
    "# Remove negative mc\n",
    "threshold = 0\n",
    "mc_t = data_c['mc_c (Da)'].to_numpy()\n",
    "mc_t_mask = (mc_t <= threshold)\n",
    "print('The number of ions with negative mc are:', len(mc_t_mask[mc_t_mask==True]))\n",
    "data_c.drop(np.where(mc_t_mask)[0], inplace=True)\n",
    "data_c.reset_index(inplace=True, drop=True)"
   ]
  },
  {
   "cell_type": "code",
   "execution_count": 219,
   "metadata": {
    "tags": []
   },
   "outputs": [
    {
     "data": {
      "application/vnd.jupyter.widget-view+json": {
       "model_id": "ddf9f9c9f9274f8cbb75d12df6683de3",
       "version_major": 2,
       "version_minor": 0
      },
      "text/plain": [
       "interactive(children=(Dropdown(description='hdf', options=(('True', True), ('False', False)), value=True), Dro…"
      ]
     },
     "metadata": {},
     "output_type": "display_data"
    }
   ],
   "source": [
    "interact_manual(data_tools.save_data, data=fixed(data_c), variables=fixed(variables),\n",
    "                hdf=widgets.Dropdown(options=[('True', True), ('False', False)]),\n",
    "                epos=widgets.Dropdown(options=[('False', False), ('True', True)]), \n",
    "                pos=widgets.Dropdown(options=[('False', False), ('True', True)]), \n",
    "                ato_6v=widgets.Dropdown(options=[('False', False), ('True', True)]), \n",
    "                csv=widgets.Dropdown(options=[('False', False), ('True', True)]));"
   ]
  },
  {
   "cell_type": "code",
   "execution_count": null,
   "metadata": {},
   "outputs": [],
   "source": []
  }
 ],
 "metadata": {
  "kernelspec": {
   "display_name": "Python 3 (ipykernel)",
   "language": "python",
   "name": "python3"
  },
  "language_info": {
   "codemirror_mode": {
    "name": "ipython",
    "version": 3
   },
   "file_extension": ".py",
   "mimetype": "text/x-python",
   "name": "python",
   "nbconvert_exporter": "python",
   "pygments_lexer": "ipython3",
   "version": "3.8.16"
  }
 },
 "nbformat": 4,
 "nbformat_minor": 4
}

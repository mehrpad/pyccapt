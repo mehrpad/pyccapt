{
 "cells": [
  {
   "cell_type": "code",
   "execution_count": 47,
   "metadata": {
    "pycharm": {
     "name": "#%%\n"
    }
   },
   "outputs": [],
   "source": [
    "%matplotlib ipympl\n",
    "import os\n",
    "import os.path as path\n",
    "import numpy as np\n",
    "from scipy.optimize import curve_fit\n",
    "from scipy import interpolate\n",
    "from sklearn.preprocessing import MinMaxScaler\n",
    "import matplotlib.pyplot as plt\n",
    "from ipywidgets import fixed, interact_manual, widgets\n",
    "from ipywidgets import HBox, VBox\n",
    "from IPython.display import clear_output\n",
    "from IPython.display import display\n",
    "from ipywidgets import IntSlider, Output\n",
    "from itertools import product\n",
    "from scipy.signal import find_peaks\n",
    "import math\n",
    "from mpl_toolkits.mplot3d import Axes3D\n",
    "\n",
    "# Local module and scripts\n",
    "from pyccapt.calibration.calibration_tools import tools, data_tools, variables, calibration, data_loadcrop\n",
    "from pyccapt.calibration.calibration_tools import widgets as wd\n",
    "from pyccapt.calibration.mc import mc_tools\n",
    "from pyccapt.calibration.calibration_tools import dataset_path_qt\n",
    "from pyccapt.calibration.leap_tools import ccapt_tools"
   ]
  },
  {
   "cell_type": "code",
   "execution_count": 27,
   "metadata": {
    "pycharm": {
     "name": "#%%\n"
    }
   },
   "outputs": [],
   "source": [
    "# Disable showing logging in Jupyter notebook\n",
    "import logging, sys\n",
    "logging.disable(sys.maxsize)\n",
    "save_fig=False\n",
    "plot_fig=True "
   ]
  },
  {
   "cell_type": "code",
   "execution_count": 28,
   "metadata": {},
   "outputs": [
    {
     "data": {
      "application/vnd.jupyter.widget-view+json": {
       "model_id": "1153cd760ff347bbaf8f3f77cc00da74",
       "version_major": 2,
       "version_minor": 0
      },
      "text/plain": [
       "Button(description='load dataset', style=ButtonStyle())"
      ]
     },
     "execution_count": 28,
     "metadata": {},
     "output_type": "execute_result"
    }
   ],
   "source": [
    "button = widgets.Button(\n",
    "    description='load dataset',\n",
    ")\n",
    "\n",
    "@button.on_click\n",
    "def open_file_on_click(b):\n",
    "    global dataset_path\n",
    "    dataset_path = dataset_path_qt.gui_fname().decode('ASCII')\n",
    "button"
   ]
  },
  {
   "cell_type": "code",
   "execution_count": 65,
   "metadata": {},
   "outputs": [
    {
     "data": {
      "application/vnd.jupyter.widget-view+json": {
       "model_id": "449c86ddda38413f8579355b0ecf2896",
       "version_major": 2,
       "version_minor": 0
      },
      "text/plain": [
       "Dropdown(description='TDC model:', options=('surface_concept', 'roentdec'), value='surface_concept')"
      ]
     },
     "metadata": {},
     "output_type": "display_data"
    },
    {
     "data": {
      "application/vnd.jupyter.widget-view+json": {
       "model_id": "0b0ec89e801143c189e6238dd173fc89",
       "version_major": 2,
       "version_minor": 0
      },
      "text/plain": [
       "FloatText(value=78.0, description='Detector diameter:')"
      ]
     },
     "metadata": {},
     "output_type": "display_data"
    },
    {
     "data": {
      "application/vnd.jupyter.widget-view+json": {
       "model_id": "3793705973194a0aabfd17c73b9eaf78",
       "version_major": 2,
       "version_minor": 0
      },
      "text/plain": [
       "Dropdown(description='Pulse mode:', options=('voltage', 'laser'), value='voltage')"
      ]
     },
     "metadata": {},
     "output_type": "display_data"
    },
    {
     "data": {
      "application/vnd.jupyter.widget-view+json": {
       "model_id": "18dfd84fce2947d28db61aeda56f2853",
       "version_major": 2,
       "version_minor": 0
      },
      "text/plain": [
       "FloatText(value=110.0, description='Flight path length:')"
      ]
     },
     "metadata": {},
     "output_type": "display_data"
    },
    {
     "data": {
      "application/vnd.jupyter.widget-view+json": {
       "model_id": "4a529fd0c0454a55bb1eafd7fcda3f2a",
       "version_major": 2,
       "version_minor": 0
      },
      "text/plain": [
       "FloatText(value=51.74, description='t0:')"
      ]
     },
     "metadata": {},
     "output_type": "display_data"
    }
   ],
   "source": [
    "tdc, det_diam, pulse_mode, flightPathLength_d, t0_d, max_tof = wd.dataset_tdc_selection()\n",
    "display(tdc, det_diam, pulse_mode, flightPathLength_d, t0_d)"
   ]
  },
  {
   "cell_type": "markdown",
   "metadata": {
    "pycharm": {
     "name": "#%% md\n"
    }
   },
   "source": [
    "$$\\textbf{You can specify which dataset to use in below block}$$"
   ]
  },
  {
   "cell_type": "code",
   "execution_count": 66,
   "metadata": {
    "pycharm": {
     "name": "#%%\n"
    }
   },
   "outputs": [],
   "source": [
    "tdc_model = tdc.value\n",
    "pulse_mode_ini = pulse_mode.value\n",
    "\n",
    "flightPathLength = flightPathLength_d.value # mm \n",
    "# The initial value for t_0\n",
    "t0 = t0_d.value # ns\n",
    "\n",
    "dataset_main_path = os.path.dirname(dataset_path)\n",
    "dataset_name_with_extention = os.path.basename(dataset_path)\n",
    "dataset_name = os.path.splitext(dataset_name_with_extention)[0]\n",
    "\n",
    "\n",
    "variables.init()\n",
    "\n",
    "variables.result_path = os.path.dirname(dataset_main_path) + '/mc_calibration/'\n",
    "if not os.path.isdir(variables.result_path):\n",
    "    os.makedirs(variables.result_path, mode=0o777, exist_ok=True)\n",
    "        \n",
    "filename = dataset_path\n",
    "\n",
    "head, tail = os.path.split(filename)\n",
    "figname = os.path.splitext(tail)[0]\n",
    "\n",
    "if tdc_model == 'leap_pos' or tdc_model == 'leap_pos':\n",
    "    if tdc_model == 'leap_epos':\n",
    "        data = ccapt_tools.epos_to_ccapt(filename)\n",
    "    else:\n",
    "        print('The file has to be epos. With pos information this tutorial cannot be run')\n",
    "        data = ccapt_tools.pos_to_ccapt(filename)\n",
    "else:\n",
    "    data = data_tools.read_hdf5_through_pandas(filename)\n"
   ]
  },
  {
   "cell_type": "code",
   "execution_count": 67,
   "metadata": {
    "pycharm": {
     "name": "#%%\n"
    }
   },
   "outputs": [
    {
     "data": {
      "text/html": [
       "<div>\n",
       "<style scoped>\n",
       "    .dataframe tbody tr th:only-of-type {\n",
       "        vertical-align: middle;\n",
       "    }\n",
       "\n",
       "    .dataframe tbody tr th {\n",
       "        vertical-align: top;\n",
       "    }\n",
       "\n",
       "    .dataframe thead th {\n",
       "        text-align: right;\n",
       "    }\n",
       "</style>\n",
       "<table border=\"1\" class=\"dataframe\">\n",
       "  <thead>\n",
       "    <tr style=\"text-align: right;\">\n",
       "      <th></th>\n",
       "      <th>x (nm)</th>\n",
       "      <th>y (nm)</th>\n",
       "      <th>z (nm)</th>\n",
       "      <th>mc_c (Da)</th>\n",
       "      <th>mc (Da)</th>\n",
       "      <th>high_voltage (V)</th>\n",
       "      <th>pulse (V)</th>\n",
       "      <th>start_counter</th>\n",
       "      <th>t (ns)</th>\n",
       "      <th>t_c (nm)</th>\n",
       "      <th>x_det (cm)</th>\n",
       "      <th>y_det (cm)</th>\n",
       "      <th>pulse_pi</th>\n",
       "      <th>ion_pp</th>\n",
       "    </tr>\n",
       "  </thead>\n",
       "  <tbody>\n",
       "    <tr>\n",
       "      <th>0</th>\n",
       "      <td>0.0</td>\n",
       "      <td>0.0</td>\n",
       "      <td>0.0</td>\n",
       "      <td>0.0</td>\n",
       "      <td>31.253212</td>\n",
       "      <td>3579.636963</td>\n",
       "      <td>3579.636963</td>\n",
       "      <td>24305.0</td>\n",
       "      <td>809.497746</td>\n",
       "      <td>0.0</td>\n",
       "      <td>0.614449</td>\n",
       "      <td>2.324082</td>\n",
       "      <td>0</td>\n",
       "      <td>1</td>\n",
       "    </tr>\n",
       "    <tr>\n",
       "      <th>1</th>\n",
       "      <td>0.0</td>\n",
       "      <td>0.0</td>\n",
       "      <td>0.0</td>\n",
       "      <td>0.0</td>\n",
       "      <td>29.053112</td>\n",
       "      <td>3579.636963</td>\n",
       "      <td>3579.636963</td>\n",
       "      <td>24306.0</td>\n",
       "      <td>797.146488</td>\n",
       "      <td>0.0</td>\n",
       "      <td>1.945224</td>\n",
       "      <td>2.680653</td>\n",
       "      <td>1</td>\n",
       "      <td>1</td>\n",
       "    </tr>\n",
       "    <tr>\n",
       "      <th>2</th>\n",
       "      <td>0.0</td>\n",
       "      <td>0.0</td>\n",
       "      <td>0.0</td>\n",
       "      <td>0.0</td>\n",
       "      <td>748.741207</td>\n",
       "      <td>3579.636963</td>\n",
       "      <td>3579.636963</td>\n",
       "      <td>24730.0</td>\n",
       "      <td>3799.942362</td>\n",
       "      <td>0.0</td>\n",
       "      <td>1.827429</td>\n",
       "      <td>2.266776</td>\n",
       "      <td>424</td>\n",
       "      <td>1</td>\n",
       "    </tr>\n",
       "    <tr>\n",
       "      <th>3</th>\n",
       "      <td>0.0</td>\n",
       "      <td>0.0</td>\n",
       "      <td>0.0</td>\n",
       "      <td>0.0</td>\n",
       "      <td>29.427938</td>\n",
       "      <td>3579.636963</td>\n",
       "      <td>3579.636963</td>\n",
       "      <td>29708.0</td>\n",
       "      <td>787.812750</td>\n",
       "      <td>0.0</td>\n",
       "      <td>1.821061</td>\n",
       "      <td>-1.652327</td>\n",
       "      <td>4978</td>\n",
       "      <td>1</td>\n",
       "    </tr>\n",
       "    <tr>\n",
       "      <th>4</th>\n",
       "      <td>0.0</td>\n",
       "      <td>0.0</td>\n",
       "      <td>0.0</td>\n",
       "      <td>0.0</td>\n",
       "      <td>29.013504</td>\n",
       "      <td>3579.636963</td>\n",
       "      <td>3579.636963</td>\n",
       "      <td>30209.0</td>\n",
       "      <td>768.637782</td>\n",
       "      <td>0.0</td>\n",
       "      <td>-0.168735</td>\n",
       "      <td>-1.098367</td>\n",
       "      <td>501</td>\n",
       "      <td>1</td>\n",
       "    </tr>\n",
       "    <tr>\n",
       "      <th>...</th>\n",
       "      <td>...</td>\n",
       "      <td>...</td>\n",
       "      <td>...</td>\n",
       "      <td>...</td>\n",
       "      <td>...</td>\n",
       "      <td>...</td>\n",
       "      <td>...</td>\n",
       "      <td>...</td>\n",
       "      <td>...</td>\n",
       "      <td>...</td>\n",
       "      <td>...</td>\n",
       "      <td>...</td>\n",
       "      <td>...</td>\n",
       "      <td>...</td>\n",
       "    </tr>\n",
       "    <tr>\n",
       "      <th>1762980</th>\n",
       "      <td>0.0</td>\n",
       "      <td>0.0</td>\n",
       "      <td>0.0</td>\n",
       "      <td>0.0</td>\n",
       "      <td>29.038886</td>\n",
       "      <td>6329.787598</td>\n",
       "      <td>6329.787598</td>\n",
       "      <td>58547.0</td>\n",
       "      <td>596.728296</td>\n",
       "      <td>0.0</td>\n",
       "      <td>1.795592</td>\n",
       "      <td>-0.760898</td>\n",
       "      <td>67</td>\n",
       "      <td>1</td>\n",
       "    </tr>\n",
       "    <tr>\n",
       "      <th>1762981</th>\n",
       "      <td>0.0</td>\n",
       "      <td>0.0</td>\n",
       "      <td>0.0</td>\n",
       "      <td>0.0</td>\n",
       "      <td>29.484707</td>\n",
       "      <td>6329.787598</td>\n",
       "      <td>6329.787598</td>\n",
       "      <td>59740.0</td>\n",
       "      <td>593.134704</td>\n",
       "      <td>0.0</td>\n",
       "      <td>0.210122</td>\n",
       "      <td>-0.506204</td>\n",
       "      <td>1193</td>\n",
       "      <td>1</td>\n",
       "    </tr>\n",
       "    <tr>\n",
       "      <th>1762982</th>\n",
       "      <td>0.0</td>\n",
       "      <td>0.0</td>\n",
       "      <td>0.0</td>\n",
       "      <td>0.0</td>\n",
       "      <td>28.752708</td>\n",
       "      <td>6329.787598</td>\n",
       "      <td>6329.787598</td>\n",
       "      <td>59917.0</td>\n",
       "      <td>608.277168</td>\n",
       "      <td>0.0</td>\n",
       "      <td>2.492816</td>\n",
       "      <td>-2.056653</td>\n",
       "      <td>177</td>\n",
       "      <td>1</td>\n",
       "    </tr>\n",
       "    <tr>\n",
       "      <th>1762983</th>\n",
       "      <td>0.0</td>\n",
       "      <td>0.0</td>\n",
       "      <td>0.0</td>\n",
       "      <td>0.0</td>\n",
       "      <td>30.259675</td>\n",
       "      <td>6329.810547</td>\n",
       "      <td>6329.810547</td>\n",
       "      <td>14.0</td>\n",
       "      <td>620.168940</td>\n",
       "      <td>0.0</td>\n",
       "      <td>2.031184</td>\n",
       "      <td>2.273143</td>\n",
       "      <td>4294907393</td>\n",
       "      <td>1</td>\n",
       "    </tr>\n",
       "    <tr>\n",
       "      <th>1762984</th>\n",
       "      <td>0.0</td>\n",
       "      <td>0.0</td>\n",
       "      <td>0.0</td>\n",
       "      <td>0.0</td>\n",
       "      <td>29.477169</td>\n",
       "      <td>6329.810547</td>\n",
       "      <td>6329.810547</td>\n",
       "      <td>298.0</td>\n",
       "      <td>592.524342</td>\n",
       "      <td>0.0</td>\n",
       "      <td>-0.184653</td>\n",
       "      <td>-0.156000</td>\n",
       "      <td>284</td>\n",
       "      <td>1</td>\n",
       "    </tr>\n",
       "  </tbody>\n",
       "</table>\n",
       "<p>1762985 rows × 14 columns</p>\n",
       "</div>"
      ],
      "text/plain": [
       "         x (nm)  y (nm)  z (nm)  mc_c (Da)     mc (Da)  high_voltage (V)  \\\n",
       "0           0.0     0.0     0.0        0.0   31.253212       3579.636963   \n",
       "1           0.0     0.0     0.0        0.0   29.053112       3579.636963   \n",
       "2           0.0     0.0     0.0        0.0  748.741207       3579.636963   \n",
       "3           0.0     0.0     0.0        0.0   29.427938       3579.636963   \n",
       "4           0.0     0.0     0.0        0.0   29.013504       3579.636963   \n",
       "...         ...     ...     ...        ...         ...               ...   \n",
       "1762980     0.0     0.0     0.0        0.0   29.038886       6329.787598   \n",
       "1762981     0.0     0.0     0.0        0.0   29.484707       6329.787598   \n",
       "1762982     0.0     0.0     0.0        0.0   28.752708       6329.787598   \n",
       "1762983     0.0     0.0     0.0        0.0   30.259675       6329.810547   \n",
       "1762984     0.0     0.0     0.0        0.0   29.477169       6329.810547   \n",
       "\n",
       "           pulse (V)  start_counter       t (ns)  t_c (nm)  x_det (cm)  \\\n",
       "0        3579.636963        24305.0   809.497746       0.0    0.614449   \n",
       "1        3579.636963        24306.0   797.146488       0.0    1.945224   \n",
       "2        3579.636963        24730.0  3799.942362       0.0    1.827429   \n",
       "3        3579.636963        29708.0   787.812750       0.0    1.821061   \n",
       "4        3579.636963        30209.0   768.637782       0.0   -0.168735   \n",
       "...              ...            ...          ...       ...         ...   \n",
       "1762980  6329.787598        58547.0   596.728296       0.0    1.795592   \n",
       "1762981  6329.787598        59740.0   593.134704       0.0    0.210122   \n",
       "1762982  6329.787598        59917.0   608.277168       0.0    2.492816   \n",
       "1762983  6329.810547           14.0   620.168940       0.0    2.031184   \n",
       "1762984  6329.810547          298.0   592.524342       0.0   -0.184653   \n",
       "\n",
       "         y_det (cm)    pulse_pi  ion_pp  \n",
       "0          2.324082           0       1  \n",
       "1          2.680653           1       1  \n",
       "2          2.266776         424       1  \n",
       "3         -1.652327        4978       1  \n",
       "4         -1.098367         501       1  \n",
       "...             ...         ...     ...  \n",
       "1762980   -0.760898          67       1  \n",
       "1762981   -0.506204        1193       1  \n",
       "1762982   -2.056653         177       1  \n",
       "1762983    2.273143  4294907393       1  \n",
       "1762984   -0.156000         284       1  \n",
       "\n",
       "[1762985 rows x 14 columns]"
      ]
     },
     "execution_count": 67,
     "metadata": {},
     "output_type": "execute_result"
    }
   ],
   "source": [
    "data"
   ]
  },
  {
   "cell_type": "code",
   "execution_count": 68,
   "metadata": {},
   "outputs": [
    {
     "data": {
      "application/vnd.jupyter.widget-view+json": {
       "model_id": "721b9a68e2954b1ea2491d11f68a328d",
       "version_major": 2,
       "version_minor": 0
      },
      "image/png": "[encoded data removed]",
      "text/html": [
       "\n",
       "            <div style=\"display: inline-block;\">\n",
       "                <div class=\"jupyter-widgets widget-label\" style=\"text-align: center;\">\n",
       "                    Figure\n",
       "                </div>\n",
       "                <img src='data:image/png;base64,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' width=800.0/>\n",
       "            </div>\n",
       "        "
      ],
      "text/plain": [
       "Canvas(toolbar=Toolbar(toolitems=[('Home', 'Reset original view', 'home', 'home'), ('Back', 'Back to previous …"
      ]
     },
     "metadata": {},
     "output_type": "display_data"
    }
   ],
   "source": [
    "data_loadcrop.plot_crop_experimetn_history(data, save_name=variables.result_path + '//ex_hist_' + dataset_name)\n"
   ]
  },
  {
   "cell_type": "code",
   "execution_count": 69,
   "metadata": {},
   "outputs": [],
   "source": [
    "# exctract needed data from Pandas data frame as an numpy array\n",
    "dld_highVoltage = data['high_voltage (V)'].to_numpy()\n",
    "if pulse_mode_ini == 'voltage':\n",
    "    dld_pulseVoltage = data['pulse (V)'].to_numpy()\n",
    "elif pulse_mode_ini == 'laser':\n",
    "    dld_pulseVoltage = data['pulse (deg)'].to_numpy()\n",
    "dld_t = data['t (ns)'].to_numpy()\n",
    "dld_x = data['x_det (cm)'].to_numpy()\n",
    "dld_y = data['y_det (cm)'].to_numpy()\n",
    "mc = data['mc (Da)'].to_numpy()\n",
    "# copy dld_t to a have a global version of that\n",
    "variables.dld_t_calib = np.copy(dld_t)\n",
    "# variables.mc_calib = np.copy(mc)\n",
    "# variables.mc_calib_backup = np.copy(mc)"
   ]
  },
  {
   "cell_type": "code",
   "execution_count": 70,
   "metadata": {},
   "outputs": [],
   "source": [
    "# peaks_ini, peaks_y_ini, peak_widths_p_ini = tools.hist_plot(mc[mc < 150], 0.1, distance=100, percent=50, prominence=100, selector='rect', plot=True, label='mc', fig_name=figname+'_orig')"
   ]
  },
  {
   "cell_type": "markdown",
   "metadata": {
    "pycharm": {
     "name": "#%% md\n"
    }
   },
   "source": [
    "$$\\textbf{Below plotted graph offers peak selection. You can select relevant peaks you want for computation.}$$"
   ]
  },
  {
   "cell_type": "code",
   "execution_count": 71,
   "metadata": {
    "pycharm": {
     "name": "#%%\n"
    }
   },
   "outputs": [
    {
     "data": {
      "application/vnd.jupyter.widget-view+json": {
       "model_id": "bb1773e2c59b46a691ccac9d7697cb90",
       "version_major": 2,
       "version_minor": 0
      },
      "text/plain": [
       "interactive(children=(FloatText(value=51.74, description='t_0'), FloatText(value=0.1, description='bin_size'),…"
      ]
     },
     "metadata": {},
     "output_type": "display_data"
    }
   ],
   "source": [
    "def mc_hist_plot(t_0, bin_size, prominence, distance, percent, selector, plot, figname, lim_mc):\n",
    "    mc_seb_ini = mc_tools.tof2mc(dld_t, t_0, dld_highVoltage, dld_pulseVoltage, dld_x, dld_y, flightPathLength, mode=pulse_mode_ini)\n",
    "    variables.mc_calib = np.copy(mc_seb_ini)\n",
    "    variables.mc_calib_backup = np.copy(mc_seb_ini)\n",
    "    mc = mc_seb_ini\n",
    "    peaks_ini, peaks_y_ini, peak_widths_p_ini = tools.hist_plot(variables.mc_calib[variables.mc_calib < lim_mc], bin_size, distance=distance, percent=percent, prominence=prominence, selector=selector, plot=plot, label='mc', fig_name=figname+'_ini')\n",
    "    index_max_ini = np.argmax(peaks_y_ini)\n",
    "    variables.max_peak = peaks_ini[index_max_ini]\n",
    "    variables.peak = peaks_ini\n",
    "    mrp = (peaks_ini[index_max_ini] / (peak_widths_p_ini[index_max_ini][2] - peak_widths_p_ini[index_max_ini][1]))\n",
    "    print('Mass resolving power for the highest peak (MRP --> m/m_2-m_1):', mrp)\n",
    "    for i in range(len(peaks_ini)):\n",
    "        print('Peaks ', i, 'is at location and height: ({:.2f}, {:.2f})'.format(peaks_ini[i], peaks_y_ini[i]), 'peak window sides (half-maximum) are: ({:.2f}, {:.2f})'.format(peak_widths_p_ini[i][1], peak_widths_p_ini[i][2]))\n",
    "\n",
    "interact_manual(mc_hist_plot, t_0=widgets.FloatText(value=t0), bin_size=widgets.FloatText(value=0.1)\n",
    "               ,prominence=widgets.IntText(value=50), distance=widgets.IntText(value=100), lim_mc=widgets.IntText(value=150)\n",
    "               ,percent=widgets.IntText(value=50), selector=fixed('rect'), plot=fixed(True), figname=fixed(figname));\n"
   ]
  },
  {
   "cell_type": "code",
   "execution_count": 72,
   "metadata": {},
   "outputs": [],
   "source": [
    "bin_size=widgets.FloatText(value=0.1, description='bin size:')\n",
    "prominence=widgets.IntText(value=100, description='peak prominance:')\n",
    "distance=widgets.IntText(value=50, description='peak distance:')\n",
    "lim_tof=widgets.IntText(value=150, description='lim tof/mc:')\n",
    "percent=widgets.IntText(value=50, description='percent MRP:')\n",
    "\n",
    "def hist_plot(figname, plot):\n",
    "    \n",
    "    with out:\n",
    "        clear_output(True)\n",
    "    \n",
    "        bin_size_p = bin_size.value\n",
    "        prominence_p = prominence.value\n",
    "        distance_p = distance.value\n",
    "        lim_tof_p = lim_tof.value\n",
    "        percent_p = percent.value\n",
    "        selector='rect'\n",
    "        peaks_ini, peaks_y_ini, peak_widths_p_ini = tools.hist_plot(variables.mc_calib[variables.mc_calib < lim_tof_p], \n",
    "                                                bin_size_p, distance=distance_p, percent=percent_p, prominence=prominence_p,\n",
    "                                                                    selector=selector, plot=plot, label='mc', fig_name=figname)\n",
    "        index_max_ini = np.argmax(peaks_y_ini)\n",
    "        variables.max_peak = peaks_ini[index_max_ini]\n",
    "        variables.peak = peaks_ini\n",
    "        mrp = (peaks_ini[index_max_ini] / (peak_widths_p_ini[index_max_ini][2] - peak_widths_p_ini[index_max_ini][1]))\n",
    "        print('Mass resolving power for the highest peak (MRP --> m/m_2-m_1):', mrp)\n",
    "        for i in range(len(peaks_ini)):\n",
    "                      print('Peaks ', i, 'is at location and height: ({:.2f}, {:.2f})'.format(peaks_ini[i], peaks_y_ini[i]), 'peak window sides ({:.2f}%) are: ({:.2f}, {:.2f})'.format(percent_p, peak_widths_p_ini[i][1], peak_widths_p_ini[i][2]))"
   ]
  },
  {
   "cell_type": "code",
   "execution_count": 73,
   "metadata": {},
   "outputs": [],
   "source": [
    "sample_size_b = widgets.IntText(value=11, description='sample size:') \n",
    "index_fig_b = widgets.IntText(value=1, description='fig index:')\n",
    "plot_b = widgets.Dropdown(\n",
    "    options=[('False', False), ('True', True)],\n",
    "    description='plot fig:'\n",
    ")\n",
    "\n",
    "save_b = widgets.Dropdown(\n",
    "    options=[('False', False), ('True', True)],\n",
    "    description='save fig:'\n",
    ")\n",
    "def bowl_correction(dld_x, dld_y, dld_highVoltage, figname=figname):\n",
    "    with out:\n",
    "        sample_size_p = sample_size_b.value\n",
    "        index_fig_p = index_fig_b.value\n",
    "        plot_p = plot_b.value\n",
    "        save_p = save_b.value\n",
    "        if plot_p:\n",
    "            clear_output(True)\n",
    "\n",
    "        calibration.bowl_correction_main(dld_x, dld_y, dld_highVoltage, det_diam.value, sample_size=sample_size_p, calibration_mode='mc',\n",
    "                                        index_fig=index_fig_p, plot=plot_p, save=save_p)\n"
   ]
  },
  {
   "cell_type": "code",
   "execution_count": 74,
   "metadata": {},
   "outputs": [],
   "source": [
    "sample_size_v =widgets.IntText(value=100, description='sample size:') \n",
    "index_fig_v = widgets.IntText(value=1, description='fig index:')\n",
    "plot_v = widgets.Dropdown(\n",
    "    options=[('False', False), ('True', True)],\n",
    "    description='plot fig:'\n",
    ")\n",
    "save_v = widgets.Dropdown(\n",
    "    options=[('False', False), ('True', True)],\n",
    "    description='save fig:'\n",
    ")\n",
    "mode_v = widgets.Dropdown(\n",
    "    options=[('ion_seq', 'ion_seq'), ('voltage', 'voltage')],\n",
    "    description='sample mode:'\n",
    ")\n",
    "def vol_correction(dld_highVoltage, figname):\n",
    "    with out:\n",
    "        sample_size_p = sample_size_v.value\n",
    "        index_fig_p = index_fig_v.value\n",
    "        plot_p = plot_v.value\n",
    "        save_p = save_v.value\n",
    "        mode_p = mode_v.value\n",
    "        if plot_p:\n",
    "            clear_output(True)\n",
    "        calibration.voltage_corr_main(dld_highVoltage, sample_size=sample_size_p, calibration_mode='mc',\n",
    "                                        index_fig=index_fig_p, plot=plot_p, save=save_p, mode=mode_p)\n"
   ]
  },
  {
   "cell_type": "code",
   "execution_count": 75,
   "metadata": {},
   "outputs": [
    {
     "data": {
      "application/vnd.jupyter.widget-view+json": {
       "model_id": "fbaaf7563dfc42729027310292b2f104",
       "version_major": 2,
       "version_minor": 0
      },
      "text/plain": [
       "VBox(children=(Tab(children=(VBox(children=(FloatText(value=0.1, description='bin size:'), IntText(value=100, …"
      ]
     },
     "metadata": {},
     "output_type": "display_data"
    },
    {
     "data": {
      "application/vnd.jupyter.widget-view+json": {
       "model_id": "a38724fd4c0541f38506ca71d960a0e8",
       "version_major": 2,
       "version_minor": 0
      },
      "text/plain": [
       "Output()"
      ]
     },
     "metadata": {},
     "output_type": "display_data"
    }
   ],
   "source": [
    "pb_bowl = widgets.HTML(\n",
    "    value=\" \",\n",
    "    placeholder='Status:',\n",
    "    description='Status:',\n",
    ")\n",
    "pb_vol = widgets.HTML(\n",
    "    value=\" \",\n",
    "    placeholder='Status:',\n",
    "    description='Status:',\n",
    ")\n",
    "plot_button = widgets.Button(\n",
    "    description='plot hist',\n",
    ")\n",
    "plot_fdm_button = widgets.Button(\n",
    "    description='plot FDM',\n",
    ")\n",
    "reset_button = widgets.Button(\n",
    "    description='reset back correction',\n",
    ")\n",
    "save_button = widgets.Button(\n",
    "    description='save correction',\n",
    ")\n",
    "bowl_button = widgets.Button(\n",
    "    description='bowl correction',\n",
    ")\n",
    "vol_button = widgets.Button(\n",
    "    description='voltage correction',\n",
    ")\n",
    "bin_fdm = widgets.IntText(value=256, description='bin FDM:')\n",
    "\n",
    "\n",
    "\n",
    "@plot_button.on_click\n",
    "def plot_on_click(b, figname=figname, plot=True):\n",
    "    hist_plot(figname, plot)\n",
    "\n",
    "@plot_fdm_button.on_click\n",
    "def plot_fdm_on_click(b, save=True):\n",
    "    with out:\n",
    "        clear_output(True)\n",
    "        mask_temporal = np.logical_and((variables.mc_calib > variables.selected_x1),\n",
    "                                       (variables.mc_calib < variables.selected_x2))\n",
    "        x = dld_x[mask_temporal]\n",
    "        y = dld_y[mask_temporal]\n",
    "        bin_fdm_p = bin_fdm.value\n",
    "        bins = [bin_fdm_p, bin_fdm_p]\n",
    "\n",
    "        calibration.plot_FDM(x, y, save, bins)\n",
    "    \n",
    "@reset_button.on_click\n",
    "def reset_on_click(b, figname=figname, plot=True):\n",
    "    variables.mc_calib = np.copy(variables.mc_calib_backup)\n",
    "    \n",
    "@save_button.on_click\n",
    "def save_on_click(b, figname=figname, plot=True):\n",
    "    variables.mc_calib_backup = np.copy(variables.mc_calib)   \n",
    "    \n",
    "@bowl_button.on_click\n",
    "def bowl_on_click(b, dld_x=dld_x, dld_y=dld_y, dld_highVoltage=dld_highVoltage, figname=figname):\n",
    "    pb_bowl.value = \"<b>Starting...</b>\"\n",
    "    bowl_correction(dld_x, dld_y, dld_highVoltage, figname)  \n",
    "    pb_bowl.value = \"<b>Fnished</b>\"\n",
    "@vol_button.on_click\n",
    "def vol_on_click(b, dld_highVoltage=dld_highVoltage, figname=figname):\n",
    "    pb_vol.value = \"<b>Starting...</b>\"\n",
    "    vol_correction(dld_highVoltage, figname)\n",
    "    pb_vol.value = \"<b>Fnished</b>\"\n",
    "    \n",
    "\n",
    "\n",
    "tab1 = VBox(children=[bin_size, prominence, distance, lim_tof, percent, bin_fdm])\n",
    "tab2 = VBox(children=[HBox(children=[sample_size_b, index_fig_b, plot_b, save_b]), bowl_button, pb_bowl])\n",
    "tab3 = VBox(children=[HBox(children=[sample_size_v, index_fig_v, mode_v, plot_v, save_v]), vol_button, pb_vol])\n",
    "\n",
    "tab = widgets.Tab(children=[tab1, tab2, tab3])\n",
    "tab.set_title(0, 'tof/mc plot')\n",
    "tab.set_title(1, 'bowl correction')\n",
    "tab.set_title(2, 'voltage correction')\n",
    "\n",
    "\n",
    "\n",
    "display(VBox(children=[tab,HBox(children=[plot_button, plot_fdm_button, save_button, reset_button])]))\n",
    "out = Output()\n",
    "display(out)"
   ]
  },
  {
   "cell_type": "code",
   "execution_count": 79,
   "metadata": {},
   "outputs": [],
   "source": [
    "variables.mc_calib_backup = np.copy(variables.mc_calib)"
   ]
  },
  {
   "cell_type": "code",
   "execution_count": 80,
   "metadata": {},
   "outputs": [],
   "source": [
    "def tof_his(bin_size, prominence, distance, percent, selector, plot, figname, lim_mc):\n",
    "    variables.peaks_idx = []\n",
    "    peaks_ini, peaks_y_ini, peak_widths_p_ini = tools.hist_plot(variables.mc_calib[variables.mc_calib < lim_mc], bin_size, distance=distance, percent=percent, prominence=prominence, selector=selector, plot=plot, label='mc', fig_name=figname)\n",
    "    index_max_ini = np.argmax(peaks_y_ini)\n",
    "    variables.max_peak = peaks_ini[index_max_ini]\n",
    "    variables.peak = peaks_ini\n",
    "    mrp = (peaks_ini[index_max_ini] / (peak_widths_p_ini[index_max_ini][2] - peak_widths_p_ini[index_max_ini][1]))\n",
    "    print('Mass resolving power for the highest peak (MRP --> m/m_2-m_1):', mrp)\n",
    "    for i in range(len(peaks_ini)):\n",
    "        print('Peaks ', i, 'is at location and height: ({:.2f}, {:.2f})'.format(peaks_ini[i], peaks_y_ini[i]), 'peak window sides (half-maximum) are: ({:.2f}, {:.2f})'.format(peak_widths_p_ini[i][1], peak_widths_p_ini[i][2]))"
   ]
  },
  {
   "cell_type": "code",
   "execution_count": 81,
   "metadata": {},
   "outputs": [
    {
     "data": {
      "application/vnd.jupyter.widget-view+json": {
       "model_id": "ae9bca6310f648208d01471cd2801399",
       "version_major": 2,
       "version_minor": 0
      },
      "text/plain": [
       "interactive(children=(FloatText(value=0.1, description='bin_size'), IntText(value=50, description='prominence'…"
      ]
     },
     "metadata": {},
     "output_type": "display_data"
    }
   ],
   "source": [
    "\n",
    "interact_manual(tof_his, bin_size=widgets.FloatText(value=0.1)\n",
    "               ,prominence=widgets.IntText(value=50), distance=widgets.IntText(value=100), lim_mc=widgets.IntText(value=150)\n",
    "               ,percent=widgets.IntText(value=50), selector=fixed('rect'), plot=fixed(True), figname=fixed(figname+'_cor'));\n"
   ]
  },
  {
   "cell_type": "code",
   "execution_count": 82,
   "metadata": {},
   "outputs": [],
   "source": [
    "data['mc_c (Da)'] = variables.mc_calib"
   ]
  },
  {
   "cell_type": "code",
   "execution_count": 83,
   "metadata": {},
   "outputs": [
    {
     "data": {
      "text/html": [
       "<div>\n",
       "<style scoped>\n",
       "    .dataframe tbody tr th:only-of-type {\n",
       "        vertical-align: middle;\n",
       "    }\n",
       "\n",
       "    .dataframe tbody tr th {\n",
       "        vertical-align: top;\n",
       "    }\n",
       "\n",
       "    .dataframe thead th {\n",
       "        text-align: right;\n",
       "    }\n",
       "</style>\n",
       "<table border=\"1\" class=\"dataframe\">\n",
       "  <thead>\n",
       "    <tr style=\"text-align: right;\">\n",
       "      <th></th>\n",
       "      <th>x (nm)</th>\n",
       "      <th>y (nm)</th>\n",
       "      <th>z (nm)</th>\n",
       "      <th>mc_c (Da)</th>\n",
       "      <th>mc (Da)</th>\n",
       "      <th>high_voltage (V)</th>\n",
       "      <th>pulse (V)</th>\n",
       "      <th>start_counter</th>\n",
       "      <th>t (ns)</th>\n",
       "      <th>t_c (nm)</th>\n",
       "      <th>x_det (cm)</th>\n",
       "      <th>y_det (cm)</th>\n",
       "      <th>pulse_pi</th>\n",
       "      <th>ion_pp</th>\n",
       "    </tr>\n",
       "  </thead>\n",
       "  <tbody>\n",
       "    <tr>\n",
       "      <th>0</th>\n",
       "      <td>0.0</td>\n",
       "      <td>0.0</td>\n",
       "      <td>0.0</td>\n",
       "      <td>30.374087</td>\n",
       "      <td>31.253212</td>\n",
       "      <td>3579.636963</td>\n",
       "      <td>3579.636963</td>\n",
       "      <td>24305.0</td>\n",
       "      <td>809.497746</td>\n",
       "      <td>0.0</td>\n",
       "      <td>0.614449</td>\n",
       "      <td>2.324082</td>\n",
       "      <td>0</td>\n",
       "      <td>1</td>\n",
       "    </tr>\n",
       "    <tr>\n",
       "      <th>1</th>\n",
       "      <td>0.0</td>\n",
       "      <td>0.0</td>\n",
       "      <td>0.0</td>\n",
       "      <td>28.482975</td>\n",
       "      <td>29.053112</td>\n",
       "      <td>3579.636963</td>\n",
       "      <td>3579.636963</td>\n",
       "      <td>24306.0</td>\n",
       "      <td>797.146488</td>\n",
       "      <td>0.0</td>\n",
       "      <td>1.945224</td>\n",
       "      <td>2.680653</td>\n",
       "      <td>1</td>\n",
       "      <td>1</td>\n",
       "    </tr>\n",
       "    <tr>\n",
       "      <th>2</th>\n",
       "      <td>0.0</td>\n",
       "      <td>0.0</td>\n",
       "      <td>0.0</td>\n",
       "      <td>733.700759</td>\n",
       "      <td>748.741207</td>\n",
       "      <td>3579.636963</td>\n",
       "      <td>3579.636963</td>\n",
       "      <td>24730.0</td>\n",
       "      <td>3799.942362</td>\n",
       "      <td>0.0</td>\n",
       "      <td>1.827429</td>\n",
       "      <td>2.266776</td>\n",
       "      <td>424</td>\n",
       "      <td>1</td>\n",
       "    </tr>\n",
       "    <tr>\n",
       "      <th>3</th>\n",
       "      <td>0.0</td>\n",
       "      <td>0.0</td>\n",
       "      <td>0.0</td>\n",
       "      <td>29.249036</td>\n",
       "      <td>29.427938</td>\n",
       "      <td>3579.636963</td>\n",
       "      <td>3579.636963</td>\n",
       "      <td>29708.0</td>\n",
       "      <td>787.812750</td>\n",
       "      <td>0.0</td>\n",
       "      <td>1.821061</td>\n",
       "      <td>-1.652327</td>\n",
       "      <td>4978</td>\n",
       "      <td>1</td>\n",
       "    </tr>\n",
       "    <tr>\n",
       "      <th>4</th>\n",
       "      <td>0.0</td>\n",
       "      <td>0.0</td>\n",
       "      <td>0.0</td>\n",
       "      <td>28.496723</td>\n",
       "      <td>29.013504</td>\n",
       "      <td>3579.636963</td>\n",
       "      <td>3579.636963</td>\n",
       "      <td>30209.0</td>\n",
       "      <td>768.637782</td>\n",
       "      <td>0.0</td>\n",
       "      <td>-0.168735</td>\n",
       "      <td>-1.098367</td>\n",
       "      <td>501</td>\n",
       "      <td>1</td>\n",
       "    </tr>\n",
       "    <tr>\n",
       "      <th>...</th>\n",
       "      <td>...</td>\n",
       "      <td>...</td>\n",
       "      <td>...</td>\n",
       "      <td>...</td>\n",
       "      <td>...</td>\n",
       "      <td>...</td>\n",
       "      <td>...</td>\n",
       "      <td>...</td>\n",
       "      <td>...</td>\n",
       "      <td>...</td>\n",
       "      <td>...</td>\n",
       "      <td>...</td>\n",
       "      <td>...</td>\n",
       "      <td>...</td>\n",
       "    </tr>\n",
       "    <tr>\n",
       "      <th>1762980</th>\n",
       "      <td>0.0</td>\n",
       "      <td>0.0</td>\n",
       "      <td>0.0</td>\n",
       "      <td>28.643858</td>\n",
       "      <td>29.038886</td>\n",
       "      <td>6329.787598</td>\n",
       "      <td>6329.787598</td>\n",
       "      <td>58547.0</td>\n",
       "      <td>596.728296</td>\n",
       "      <td>0.0</td>\n",
       "      <td>1.795592</td>\n",
       "      <td>-0.760898</td>\n",
       "      <td>67</td>\n",
       "      <td>1</td>\n",
       "    </tr>\n",
       "    <tr>\n",
       "      <th>1762981</th>\n",
       "      <td>0.0</td>\n",
       "      <td>0.0</td>\n",
       "      <td>0.0</td>\n",
       "      <td>28.824575</td>\n",
       "      <td>29.484707</td>\n",
       "      <td>6329.787598</td>\n",
       "      <td>6329.787598</td>\n",
       "      <td>59740.0</td>\n",
       "      <td>593.134704</td>\n",
       "      <td>0.0</td>\n",
       "      <td>0.210122</td>\n",
       "      <td>-0.506204</td>\n",
       "      <td>1193</td>\n",
       "      <td>1</td>\n",
       "    </tr>\n",
       "    <tr>\n",
       "      <th>1762982</th>\n",
       "      <td>0.0</td>\n",
       "      <td>0.0</td>\n",
       "      <td>0.0</td>\n",
       "      <td>28.671646</td>\n",
       "      <td>28.752708</td>\n",
       "      <td>6329.787598</td>\n",
       "      <td>6329.787598</td>\n",
       "      <td>59917.0</td>\n",
       "      <td>608.277168</td>\n",
       "      <td>0.0</td>\n",
       "      <td>2.492816</td>\n",
       "      <td>-2.056653</td>\n",
       "      <td>177</td>\n",
       "      <td>1</td>\n",
       "    </tr>\n",
       "    <tr>\n",
       "      <th>1762983</th>\n",
       "      <td>0.0</td>\n",
       "      <td>0.0</td>\n",
       "      <td>0.0</td>\n",
       "      <td>29.619693</td>\n",
       "      <td>30.259675</td>\n",
       "      <td>6329.810547</td>\n",
       "      <td>6329.810547</td>\n",
       "      <td>14.0</td>\n",
       "      <td>620.168940</td>\n",
       "      <td>0.0</td>\n",
       "      <td>2.031184</td>\n",
       "      <td>2.273143</td>\n",
       "      <td>4294907393</td>\n",
       "      <td>1</td>\n",
       "    </tr>\n",
       "    <tr>\n",
       "      <th>1762984</th>\n",
       "      <td>0.0</td>\n",
       "      <td>0.0</td>\n",
       "      <td>0.0</td>\n",
       "      <td>28.714535</td>\n",
       "      <td>29.477169</td>\n",
       "      <td>6329.810547</td>\n",
       "      <td>6329.810547</td>\n",
       "      <td>298.0</td>\n",
       "      <td>592.524342</td>\n",
       "      <td>0.0</td>\n",
       "      <td>-0.184653</td>\n",
       "      <td>-0.156000</td>\n",
       "      <td>284</td>\n",
       "      <td>1</td>\n",
       "    </tr>\n",
       "  </tbody>\n",
       "</table>\n",
       "<p>1762985 rows × 14 columns</p>\n",
       "</div>"
      ],
      "text/plain": [
       "         x (nm)  y (nm)  z (nm)   mc_c (Da)     mc (Da)  high_voltage (V)  \\\n",
       "0           0.0     0.0     0.0   30.374087   31.253212       3579.636963   \n",
       "1           0.0     0.0     0.0   28.482975   29.053112       3579.636963   \n",
       "2           0.0     0.0     0.0  733.700759  748.741207       3579.636963   \n",
       "3           0.0     0.0     0.0   29.249036   29.427938       3579.636963   \n",
       "4           0.0     0.0     0.0   28.496723   29.013504       3579.636963   \n",
       "...         ...     ...     ...         ...         ...               ...   \n",
       "1762980     0.0     0.0     0.0   28.643858   29.038886       6329.787598   \n",
       "1762981     0.0     0.0     0.0   28.824575   29.484707       6329.787598   \n",
       "1762982     0.0     0.0     0.0   28.671646   28.752708       6329.787598   \n",
       "1762983     0.0     0.0     0.0   29.619693   30.259675       6329.810547   \n",
       "1762984     0.0     0.0     0.0   28.714535   29.477169       6329.810547   \n",
       "\n",
       "           pulse (V)  start_counter       t (ns)  t_c (nm)  x_det (cm)  \\\n",
       "0        3579.636963        24305.0   809.497746       0.0    0.614449   \n",
       "1        3579.636963        24306.0   797.146488       0.0    1.945224   \n",
       "2        3579.636963        24730.0  3799.942362       0.0    1.827429   \n",
       "3        3579.636963        29708.0   787.812750       0.0    1.821061   \n",
       "4        3579.636963        30209.0   768.637782       0.0   -0.168735   \n",
       "...              ...            ...          ...       ...         ...   \n",
       "1762980  6329.787598        58547.0   596.728296       0.0    1.795592   \n",
       "1762981  6329.787598        59740.0   593.134704       0.0    0.210122   \n",
       "1762982  6329.787598        59917.0   608.277168       0.0    2.492816   \n",
       "1762983  6329.810547           14.0   620.168940       0.0    2.031184   \n",
       "1762984  6329.810547          298.0   592.524342       0.0   -0.184653   \n",
       "\n",
       "         y_det (cm)    pulse_pi  ion_pp  \n",
       "0          2.324082           0       1  \n",
       "1          2.680653           1       1  \n",
       "2          2.266776         424       1  \n",
       "3         -1.652327        4978       1  \n",
       "4         -1.098367         501       1  \n",
       "...             ...         ...     ...  \n",
       "1762980   -0.760898          67       1  \n",
       "1762981   -0.506204        1193       1  \n",
       "1762982   -2.056653         177       1  \n",
       "1762983    2.273143  4294907393       1  \n",
       "1762984   -0.156000         284       1  \n",
       "\n",
       "[1762985 rows x 14 columns]"
      ]
     },
     "execution_count": 83,
     "metadata": {},
     "output_type": "execute_result"
    }
   ],
   "source": [
    "data"
   ]
  },
  {
   "cell_type": "code",
   "execution_count": 84,
   "metadata": {},
   "outputs": [],
   "source": [
    "# save the new data\n",
    "name_save_file = variables.result_path + '//' + dataset_name + '.h5'\n",
    "data_tools.store_df_to_hdf(name_save_file, data, 'df')"
   ]
  },
  {
   "cell_type": "code",
   "execution_count": 85,
   "metadata": {},
   "outputs": [],
   "source": [
    "# save data as epos file\n",
    "epos = ccapt_tools.ccapt_to_epos(data, path=variables.result_path, name=dataset_name + '.epos')\n",
    "pos = ccapt_tools.ccapt_to_pos(data, path=variables.result_path, name=dataset_name + '.pos')"
   ]
  },
  {
   "cell_type": "code",
   "execution_count": 25,
   "metadata": {},
   "outputs": [],
   "source": [
    "# save data in csv format\n",
    "data_tools.store_df_to_csv(data, variables.result_path + dataset_name + '.csv')"
   ]
  }
 ],
 "metadata": {
  "kernelspec": {
   "display_name": "Python 3 (ipykernel)",
   "language": "python",
   "name": "python3"
  },
  "language_info": {
   "codemirror_mode": {
    "name": "ipython",
    "version": 3
   },
   "file_extension": ".py",
   "mimetype": "text/x-python",
   "name": "python",
   "nbconvert_exporter": "python",
   "pygments_lexer": "ipython3",
   "version": "3.9.12"
  }
 },
 "nbformat": 4,
 "nbformat_minor": 4
}

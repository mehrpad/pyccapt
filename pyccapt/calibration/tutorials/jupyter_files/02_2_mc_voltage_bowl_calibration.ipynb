{
 "cells": [
  {
   "cell_type": "code",
   "execution_count": 1,
   "metadata": {
    "pycharm": {
     "name": "#%%\n"
    }
   },
   "outputs": [],
   "source": [
    "%matplotlib ipympl\n",
    "import os\n",
    "import os.path as path\n",
    "import numpy as np\n",
    "from scipy.optimize import curve_fit\n",
    "from scipy import interpolate\n",
    "from sklearn.preprocessing import MinMaxScaler\n",
    "import matplotlib.pyplot as plt\n",
    "from ipywidgets import fixed, interact_manual, widgets\n",
    "from ipywidgets import HBox, VBox\n",
    "from IPython.display import clear_output\n",
    "from IPython.display import display\n",
    "from ipywidgets import IntSlider, Output\n",
    "from itertools import product\n",
    "from scipy.signal import find_peaks\n",
    "import math\n",
    "from mpl_toolkits.mplot3d import Axes3D\n",
    "\n",
    "# Local module and scripts\n",
    "from pyccapt.calibration.calibration_tools import tools, variables, calibration\n",
    "from pyccapt.calibration.calibration_tools import widgets as wd\n",
    "from pyccapt.calibration.data_tools import data_tools, data_loadcrop, dataset_path_qt\n",
    "from pyccapt.calibration.mc import mc_tools\n",
    "from pyccapt.calibration.leap_tools import ccapt_tools"
   ]
  },
  {
   "cell_type": "code",
   "execution_count": 2,
   "metadata": {
    "tags": []
   },
   "outputs": [],
   "source": [
    "%load_ext autoreload\n",
    "%autoreload 2"
   ]
  },
  {
   "cell_type": "code",
   "execution_count": 3,
   "metadata": {
    "tags": []
   },
   "outputs": [],
   "source": [
    "%reload_ext autoreload"
   ]
  },
  {
   "cell_type": "code",
   "execution_count": 4,
   "metadata": {
    "pycharm": {
     "name": "#%%\n"
    }
   },
   "outputs": [],
   "source": [
    "# Disable showing logging in Jupyter notebook\n",
    "import logging, sys\n",
    "logging.disable(sys.maxsize)\n",
    "save_fig=False\n",
    "plot_fig=True "
   ]
  },
  {
   "cell_type": "code",
   "execution_count": 5,
   "metadata": {},
   "outputs": [
    {
     "data": {
      "application/vnd.jupyter.widget-view+json": {
       "model_id": "e1ce66eee3624fe09d2f7a5f78158c1f",
       "version_major": 2,
       "version_minor": 0
      },
      "text/plain": [
       "Button(description='load dataset', style=ButtonStyle())"
      ]
     },
     "execution_count": 5,
     "metadata": {},
     "output_type": "execute_result"
    }
   ],
   "source": [
    "button = widgets.Button(\n",
    "    description='load dataset',\n",
    ")\n",
    "\n",
    "@button.on_click\n",
    "def open_file_on_click(b):\n",
    "    global dataset_path\n",
    "    dataset_path = dataset_path_qt.gui_fname().decode('ASCII')\n",
    "button"
   ]
  },
  {
   "cell_type": "code",
   "execution_count": 6,
   "metadata": {},
   "outputs": [
    {
     "data": {
      "application/vnd.jupyter.widget-view+json": {
       "model_id": "064c5fccb83d41f49bd2e7d24f12a66c",
       "version_major": 2,
       "version_minor": 0
      },
      "text/plain": [
       "Dropdown(description='Data mode:', options=('surface_concept', 'roentdec', 'leap_epos', 'leap_pos'), value='su…"
      ]
     },
     "metadata": {},
     "output_type": "display_data"
    },
    {
     "data": {
      "application/vnd.jupyter.widget-view+json": {
       "model_id": "6384a0edc0bd4569a701ac8e6c0ec5df",
       "version_major": 2,
       "version_minor": 0
      },
      "text/plain": [
       "Dropdown(description='Pulse mode:', options=('voltage', 'laser'), value='voltage')"
      ]
     },
     "metadata": {},
     "output_type": "display_data"
    },
    {
     "data": {
      "application/vnd.jupyter.widget-view+json": {
       "model_id": "050dd09ceec047428b39d25e9beeae76",
       "version_major": 2,
       "version_minor": 0
      },
      "text/plain": [
       "FloatText(value=110.0, description='Flight path length:')"
      ]
     },
     "metadata": {},
     "output_type": "display_data"
    },
    {
     "data": {
      "application/vnd.jupyter.widget-view+json": {
       "model_id": "36caf9b4e9224a778fb794e2b8b2fd15",
       "version_major": 2,
       "version_minor": 0
      },
      "text/plain": [
       "FloatText(value=54.0, description='t0:')"
      ]
     },
     "metadata": {},
     "output_type": "display_data"
    },
    {
     "data": {
      "application/vnd.jupyter.widget-view+json": {
       "model_id": "f5f89e5688dd4015931b433ccca7d369",
       "version_major": 2,
       "version_minor": 0
      },
      "text/plain": [
       "FloatText(value=400.0, description='Max mc:')"
      ]
     },
     "metadata": {},
     "output_type": "display_data"
    },
    {
     "data": {
      "application/vnd.jupyter.widget-view+json": {
       "model_id": "fc629ce8061e435488e762309a97db85",
       "version_major": 2,
       "version_minor": 0
      },
      "text/plain": [
       "FloatText(value=78.0, description='Detector diameter:')"
      ]
     },
     "metadata": {},
     "output_type": "display_data"
    }
   ],
   "source": [
    "tdc, pulse_mode, flightPathLength_d, t0_d, max_mc, det_diam = wd.dataset_tdc_selection()\n",
    "display(tdc, pulse_mode, flightPathLength_d, t0_d, max_mc, det_diam)"
   ]
  },
  {
   "cell_type": "markdown",
   "metadata": {
    "pycharm": {
     "name": "#%% md\n"
    }
   },
   "source": [
    "$$\\textbf{You can specify which dataset to use in below block}$$"
   ]
  },
  {
   "cell_type": "code",
   "execution_count": 10,
   "metadata": {
    "pycharm": {
     "name": "#%%\n"
    }
   },
   "outputs": [],
   "source": [
    "dataset_main_path = os.path.dirname(dataset_path)\n",
    "dataset_name_with_extention = os.path.basename(dataset_path)\n",
    "dataset_name = os.path.splitext(dataset_name_with_extention)[0]\n",
    "\n",
    "\n",
    "variables.init()\n",
    "\n",
    "variables.result_path = os.path.dirname(dataset_main_path) + '/mc_calibration/'\n",
    "if not os.path.isdir(variables.result_path):\n",
    "    os.makedirs(variables.result_path, mode=0o777, exist_ok=True)\n",
    "        \n",
    "filename = dataset_path\n",
    "\n",
    "head, tail = os.path.split(filename)\n",
    "figname = os.path.splitext(tail)[0]\n",
    "\n",
    "if tdc.value == 'leap_pos' or tdc.value == 'leap_epos':\n",
    "    if tdc.value == 'leap_epos':\n",
    "        data = ccapt_tools.epos_to_ccapt(filename)\n",
    "    else:\n",
    "        print('The file has to be epos. With pos information this tutorial cannot be run')\n",
    "        data = ccapt_tools.pos_to_ccapt(filename)\n",
    "else:\n",
    "    data = data_tools.read_hdf5_through_pandas(filename)\n"
   ]
  },
  {
   "cell_type": "code",
   "execution_count": 11,
   "metadata": {
    "pycharm": {
     "name": "#%%\n"
    }
   },
   "outputs": [
    {
     "data": {
      "text/html": [
       "<div>\n",
       "<style scoped>\n",
       "    .dataframe tbody tr th:only-of-type {\n",
       "        vertical-align: middle;\n",
       "    }\n",
       "\n",
       "    .dataframe tbody tr th {\n",
       "        vertical-align: top;\n",
       "    }\n",
       "\n",
       "    .dataframe thead th {\n",
       "        text-align: right;\n",
       "    }\n",
       "</style>\n",
       "<table border=\"1\" class=\"dataframe\">\n",
       "  <thead>\n",
       "    <tr style=\"text-align: right;\">\n",
       "      <th></th>\n",
       "      <th>x (nm)</th>\n",
       "      <th>y (nm)</th>\n",
       "      <th>z (nm)</th>\n",
       "      <th>mc_c (Da)</th>\n",
       "      <th>mc (Da)</th>\n",
       "      <th>high_voltage (V)</th>\n",
       "      <th>pulse</th>\n",
       "      <th>start_counter</th>\n",
       "      <th>t (ns)</th>\n",
       "      <th>t_c (ns)</th>\n",
       "      <th>x_det (cm)</th>\n",
       "      <th>y_det (cm)</th>\n",
       "      <th>pulse_pi</th>\n",
       "      <th>ion_pp</th>\n",
       "    </tr>\n",
       "  </thead>\n",
       "  <tbody>\n",
       "    <tr>\n",
       "      <th>0</th>\n",
       "      <td>0.943917</td>\n",
       "      <td>-0.463124</td>\n",
       "      <td>0.019942</td>\n",
       "      <td>91.527626</td>\n",
       "      <td>0.0</td>\n",
       "      <td>3682.110107</td>\n",
       "      <td>0.0</td>\n",
       "      <td>0</td>\n",
       "      <td>3891.519531</td>\n",
       "      <td>0.0</td>\n",
       "      <td>1.015896</td>\n",
       "      <td>-0.479137</td>\n",
       "      <td>0</td>\n",
       "      <td>1</td>\n",
       "    </tr>\n",
       "    <tr>\n",
       "      <th>1</th>\n",
       "      <td>2.270334</td>\n",
       "      <td>-5.010604</td>\n",
       "      <td>0.551171</td>\n",
       "      <td>91.982094</td>\n",
       "      <td>0.0</td>\n",
       "      <td>3682.110107</td>\n",
       "      <td>0.0</td>\n",
       "      <td>0</td>\n",
       "      <td>3904.508789</td>\n",
       "      <td>0.0</td>\n",
       "      <td>2.646676</td>\n",
       "      <td>-5.243885</td>\n",
       "      <td>43</td>\n",
       "      <td>1</td>\n",
       "    </tr>\n",
       "    <tr>\n",
       "      <th>2</th>\n",
       "      <td>-5.462508</td>\n",
       "      <td>0.471533</td>\n",
       "      <td>0.547564</td>\n",
       "      <td>92.993858</td>\n",
       "      <td>0.0</td>\n",
       "      <td>3682.110107</td>\n",
       "      <td>0.0</td>\n",
       "      <td>0</td>\n",
       "      <td>3878.014160</td>\n",
       "      <td>0.0</td>\n",
       "      <td>-5.560694</td>\n",
       "      <td>0.505755</td>\n",
       "      <td>211</td>\n",
       "      <td>1</td>\n",
       "    </tr>\n",
       "    <tr>\n",
       "      <th>3</th>\n",
       "      <td>8.305490</td>\n",
       "      <td>4.298521</td>\n",
       "      <td>1.624813</td>\n",
       "      <td>60.973576</td>\n",
       "      <td>0.0</td>\n",
       "      <td>3682.110107</td>\n",
       "      <td>0.0</td>\n",
       "      <td>0</td>\n",
       "      <td>3204.297363</td>\n",
       "      <td>0.0</td>\n",
       "      <td>9.704479</td>\n",
       "      <td>4.738130</td>\n",
       "      <td>66</td>\n",
       "      <td>1</td>\n",
       "    </tr>\n",
       "    <tr>\n",
       "      <th>4</th>\n",
       "      <td>2.990205</td>\n",
       "      <td>0.078835</td>\n",
       "      <td>0.161882</td>\n",
       "      <td>61.330170</td>\n",
       "      <td>0.0</td>\n",
       "      <td>3682.110107</td>\n",
       "      <td>0.0</td>\n",
       "      <td>0</td>\n",
       "      <td>3195.071777</td>\n",
       "      <td>0.0</td>\n",
       "      <td>3.234827</td>\n",
       "      <td>0.079856</td>\n",
       "      <td>18</td>\n",
       "      <td>1</td>\n",
       "    </tr>\n",
       "    <tr>\n",
       "      <th>...</th>\n",
       "      <td>...</td>\n",
       "      <td>...</td>\n",
       "      <td>...</td>\n",
       "      <td>...</td>\n",
       "      <td>...</td>\n",
       "      <td>...</td>\n",
       "      <td>...</td>\n",
       "      <td>...</td>\n",
       "      <td>...</td>\n",
       "      <td>...</td>\n",
       "      <td>...</td>\n",
       "      <td>...</td>\n",
       "      <td>...</td>\n",
       "      <td>...</td>\n",
       "    </tr>\n",
       "    <tr>\n",
       "      <th>549698</th>\n",
       "      <td>-4.680508</td>\n",
       "      <td>-0.665500</td>\n",
       "      <td>8.134455</td>\n",
       "      <td>99.078377</td>\n",
       "      <td>0.0</td>\n",
       "      <td>1334.670044</td>\n",
       "      <td>0.0</td>\n",
       "      <td>0</td>\n",
       "      <td>6555.320312</td>\n",
       "      <td>0.0</td>\n",
       "      <td>-12.618497</td>\n",
       "      <td>-2.129496</td>\n",
       "      <td>1</td>\n",
       "      <td>1</td>\n",
       "    </tr>\n",
       "    <tr>\n",
       "      <th>549699</th>\n",
       "      <td>-3.787911</td>\n",
       "      <td>-3.385010</td>\n",
       "      <td>8.331511</td>\n",
       "      <td>216.163483</td>\n",
       "      <td>0.0</td>\n",
       "      <td>1334.670044</td>\n",
       "      <td>0.0</td>\n",
       "      <td>0</td>\n",
       "      <td>9699.115234</td>\n",
       "      <td>0.0</td>\n",
       "      <td>-9.998555</td>\n",
       "      <td>-10.620863</td>\n",
       "      <td>43</td>\n",
       "      <td>1</td>\n",
       "    </tr>\n",
       "    <tr>\n",
       "      <th>549700</th>\n",
       "      <td>-2.945118</td>\n",
       "      <td>-1.283401</td>\n",
       "      <td>7.480402</td>\n",
       "      <td>101.124908</td>\n",
       "      <td>0.0</td>\n",
       "      <td>1334.670044</td>\n",
       "      <td>0.0</td>\n",
       "      <td>0</td>\n",
       "      <td>6691.295410</td>\n",
       "      <td>0.0</td>\n",
       "      <td>-8.100433</td>\n",
       "      <td>-3.833094</td>\n",
       "      <td>114</td>\n",
       "      <td>1</td>\n",
       "    </tr>\n",
       "    <tr>\n",
       "      <th>549701</th>\n",
       "      <td>-4.043397</td>\n",
       "      <td>-0.999465</td>\n",
       "      <td>7.856801</td>\n",
       "      <td>100.075027</td>\n",
       "      <td>0.0</td>\n",
       "      <td>1334.670044</td>\n",
       "      <td>0.0</td>\n",
       "      <td>0</td>\n",
       "      <td>6614.916504</td>\n",
       "      <td>0.0</td>\n",
       "      <td>-10.960982</td>\n",
       "      <td>-3.114388</td>\n",
       "      <td>211</td>\n",
       "      <td>1</td>\n",
       "    </tr>\n",
       "    <tr>\n",
       "      <th>549702</th>\n",
       "      <td>-3.605551</td>\n",
       "      <td>-1.773034</td>\n",
       "      <td>7.791200</td>\n",
       "      <td>93.055229</td>\n",
       "      <td>0.0</td>\n",
       "      <td>1334.670044</td>\n",
       "      <td>0.0</td>\n",
       "      <td>0</td>\n",
       "      <td>6389.932617</td>\n",
       "      <td>0.0</td>\n",
       "      <td>-9.784682</td>\n",
       "      <td>-5.430216</td>\n",
       "      <td>531</td>\n",
       "      <td>1</td>\n",
       "    </tr>\n",
       "  </tbody>\n",
       "</table>\n",
       "<p>549703 rows × 14 columns</p>\n",
       "</div>"
      ],
      "text/plain": [
       "          x (nm)    y (nm)    z (nm)   mc_c (Da)  mc (Da)  high_voltage (V)  \\\n",
       "0       0.943917 -0.463124  0.019942   91.527626      0.0       3682.110107   \n",
       "1       2.270334 -5.010604  0.551171   91.982094      0.0       3682.110107   \n",
       "2      -5.462508  0.471533  0.547564   92.993858      0.0       3682.110107   \n",
       "3       8.305490  4.298521  1.624813   60.973576      0.0       3682.110107   \n",
       "4       2.990205  0.078835  0.161882   61.330170      0.0       3682.110107   \n",
       "...          ...       ...       ...         ...      ...               ...   \n",
       "549698 -4.680508 -0.665500  8.134455   99.078377      0.0       1334.670044   \n",
       "549699 -3.787911 -3.385010  8.331511  216.163483      0.0       1334.670044   \n",
       "549700 -2.945118 -1.283401  7.480402  101.124908      0.0       1334.670044   \n",
       "549701 -4.043397 -0.999465  7.856801  100.075027      0.0       1334.670044   \n",
       "549702 -3.605551 -1.773034  7.791200   93.055229      0.0       1334.670044   \n",
       "\n",
       "        pulse  start_counter       t (ns)  t_c (ns)  x_det (cm)  y_det (cm)  \\\n",
       "0         0.0              0  3891.519531       0.0    1.015896   -0.479137   \n",
       "1         0.0              0  3904.508789       0.0    2.646676   -5.243885   \n",
       "2         0.0              0  3878.014160       0.0   -5.560694    0.505755   \n",
       "3         0.0              0  3204.297363       0.0    9.704479    4.738130   \n",
       "4         0.0              0  3195.071777       0.0    3.234827    0.079856   \n",
       "...       ...            ...          ...       ...         ...         ...   \n",
       "549698    0.0              0  6555.320312       0.0  -12.618497   -2.129496   \n",
       "549699    0.0              0  9699.115234       0.0   -9.998555  -10.620863   \n",
       "549700    0.0              0  6691.295410       0.0   -8.100433   -3.833094   \n",
       "549701    0.0              0  6614.916504       0.0  -10.960982   -3.114388   \n",
       "549702    0.0              0  6389.932617       0.0   -9.784682   -5.430216   \n",
       "\n",
       "        pulse_pi  ion_pp  \n",
       "0              0       1  \n",
       "1             43       1  \n",
       "2            211       1  \n",
       "3             66       1  \n",
       "4             18       1  \n",
       "...          ...     ...  \n",
       "549698         1       1  \n",
       "549699        43       1  \n",
       "549700       114       1  \n",
       "549701       211       1  \n",
       "549702       531       1  \n",
       "\n",
       "[549703 rows x 14 columns]"
      ]
     },
     "execution_count": 11,
     "metadata": {},
     "output_type": "execute_result"
    }
   ],
   "source": [
    "data"
   ]
  },
  {
   "cell_type": "code",
   "execution_count": 12,
   "metadata": {},
   "outputs": [
    {
     "data": {
      "application/vnd.jupyter.widget-view+json": {
       "model_id": "a66fde51d72f4aadba27609238206de3",
       "version_major": 2,
       "version_minor": 0
      },
      "image/png": "[encoded data removed]",
      "text/html": [
       "\n",
       "            <div style=\"display: inline-block;\">\n",
       "                <div class=\"jupyter-widgets widget-label\" style=\"text-align: center;\">\n",
       "                    Figure\n",
       "                </div>\n",
       "                <img src='data:image/png;base64,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' width=433.0708661417323/>\n",
       "            </div>\n",
       "        "
      ],
      "text/plain": [
       "Canvas(toolbar=Toolbar(toolitems=[('Home', 'Reset original view', 'home', 'home'), ('Back', 'Back to previous …"
      ]
     },
     "metadata": {},
     "output_type": "display_data"
    }
   ],
   "source": [
    "data_loadcrop.plot_crop_experimetn_history(data, save_name=variables.result_path + '//ex_hist_' + dataset_name)\n"
   ]
  },
  {
   "cell_type": "code",
   "execution_count": 14,
   "metadata": {},
   "outputs": [],
   "source": [
    "# exctract needed data from Pandas data frame as an numpy array\n",
    "dld_highVoltage = data['high_voltage (V)'].to_numpy()\n",
    "dld_pulseVoltage = data['pulse'].to_numpy()\n",
    "dld_t = data['t (ns)'].to_numpy()\n",
    "dld_x = data['x_det (cm)'].to_numpy()\n",
    "dld_y = data['y_det (cm)'].to_numpy()\n",
    "mc = data['mc (Da)'].to_numpy()\n",
    "# copy dld_t to a have a global version of that\n",
    "variables.dld_t_calib = np.copy(dld_t)\n",
    "# variables.mc_calib = np.copy(mc)\n",
    "# variables.mc_calib_backup = np.copy(mc)"
   ]
  },
  {
   "cell_type": "code",
   "execution_count": 24,
   "metadata": {
    "tags": []
   },
   "outputs": [
    {
     "name": "stdout",
     "output_type": "stream",
     "text": [
      "The peak index for MRP calculation is: 4\n"
     ]
    },
    {
     "data": {
      "application/vnd.jupyter.widget-view+json": {
       "model_id": "204e2e85f3a2414b816513adb91a7c7f",
       "version_major": 2,
       "version_minor": 0
      },
      "image/png": "[encoded data removed]",
      "text/html": [
       "\n",
       "            <div style=\"display: inline-block;\">\n",
       "                <div class=\"jupyter-widgets widget-label\" style=\"text-align: center;\">\n",
       "                    Figure\n",
       "                </div>\n",
       "                <img src='data:image/png;base64,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' width=354.3307086614173/>\n",
       "            </div>\n",
       "        "
      ],
      "text/plain": [
       "Canvas(toolbar=Toolbar(toolitems=[('Home', 'Reset original view', 'home', 'home'), ('Back', 'Back to previous …"
      ]
     },
     "metadata": {},
     "output_type": "display_data"
    }
   ],
   "source": [
    " peaks_ini, peaks_y_ini, peak_widths_p_ini, _ = tools.hist_plot(data['mc_c (Da)'].to_numpy()[data['mc_c (Da)'].to_numpy() < 300], 0.1, distance=100, percent=50, prominence=100, peaks_find_plot=False, selector='rect', plot=True, label='mc', fig_name=figname+'_ini')"
   ]
  },
  {
   "cell_type": "code",
   "execution_count": 88,
   "metadata": {},
   "outputs": [],
   "source": [
    "ion_distance = np.sqrt(flightPathLength_d.value**2 + (dld_x*10)**2 + (dld_y*10)**2)\n",
    "ion_distance = flightPathLength_d.value / ion_distance\n",
    "dld_t = dld_t * ion_distance\n",
    "variables.dld_t_calib = np.copy(dld_t)"
   ]
  },
  {
   "cell_type": "code",
   "execution_count": 89,
   "metadata": {},
   "outputs": [],
   "source": [
    "# peaks_ini, peaks_y_ini, peak_widths_p_ini = tools.hist_plot(dld_t[dld_t < 5000], 0.5, distance=100, percent=50, prominence=100, selector='rect', plot=True, label='mc', fig_name=figname+'_orig')"
   ]
  },
  {
   "cell_type": "markdown",
   "metadata": {
    "pycharm": {
     "name": "#%% md\n"
    }
   },
   "source": [
    "$$\\textbf{Below plotted graph offers peak selection. You can select relevant peaks you want for computation.}$$"
   ]
  },
  {
   "cell_type": "code",
   "execution_count": 15,
   "metadata": {
    "pycharm": {
     "name": "#%%\n"
    }
   },
   "outputs": [
    {
     "data": {
      "application/vnd.jupyter.widget-view+json": {
       "model_id": "e4baa503d32040c88778b3147f948dfd",
       "version_major": 2,
       "version_minor": 0
      },
      "text/plain": [
       "interactive(children=(FloatText(value=54.0, description='t_0'), FloatText(value=0.1, description='bin_size'), …"
      ]
     },
     "metadata": {},
     "output_type": "display_data"
    }
   ],
   "source": [
    "def mc_hist_plot(t_0, bin_size, prominence, distance, percent, selector, plot, figname, lim_mc, flightPathLength, mode):\n",
    "    mc_seb_ini = mc_tools.tof2mc(dld_t, t_0, dld_highVoltage, dld_pulseVoltage, dld_x, dld_y, flightPathLength, mode=mode)\n",
    "    variables.mc_calib = np.copy(mc_seb_ini)\n",
    "    variables.mc_calib_backup = np.copy(mc_seb_ini)\n",
    "    mc = mc_seb_ini\n",
    "    peaks_ini, peaks_y_ini, peak_widths_p_ini, _ = tools.hist_plot(variables.mc_calib[variables.mc_calib < lim_mc], bin_size, distance=distance, percent=percent, prominence=prominence, selector=selector, plot=plot, label='mc', fig_name=figname+'_ini')\n",
    "    index_max_ini = np.argmax(peaks_y_ini)\n",
    "    variables.max_peak = peaks_ini[index_max_ini]\n",
    "    variables.peak = peaks_ini\n",
    "    mrp = (peaks_ini[index_max_ini] / (peak_widths_p_ini[index_max_ini][2] - peak_widths_p_ini[index_max_ini][1]))\n",
    "    print('Mass resolving power for the highest peak (MRP --> m/m_2-m_1):', mrp)\n",
    "    for i in range(len(peaks_ini)):\n",
    "        print('Peaks ', i, 'is at location and height: ({:.2f}, {:.2f})'.format(peaks_ini[i], peaks_y_ini[i]), 'peak window sides ({:.1f}-maximum) are: ({:.2f}, {:.2f})'.format(percent, peak_widths_p_ini[i][1], peak_widths_p_ini[i][2]), '-> {:.2f}'.format(peak_widths_p_ini[i][2] - peak_widths_p_ini[i][1]))\n",
    "\n",
    "interact_manual(mc_hist_plot, t_0=widgets.FloatText(value=t0_d.value), bin_size=widgets.FloatText(value=0.1)\n",
    "               ,prominence=widgets.IntText(value=50), distance=widgets.IntText(value=100), lim_mc=widgets.IntText(value=400)\n",
    "               ,percent=widgets.IntText(value=50), selector=fixed('rect'), plot=fixed(True), figname=fixed(figname), flightPathLength=fixed(flightPathLength_d.value), mode=fixed(pulse_mode.value));\n"
   ]
  },
  {
   "cell_type": "code",
   "execution_count": 46,
   "metadata": {},
   "outputs": [],
   "source": [
    "bin_size=widgets.FloatText(value=0.1, description='bin size:')\n",
    "prominence=widgets.IntText(value=100, description='peak prominance:')\n",
    "distance=widgets.IntText(value=50, description='peak distance:')\n",
    "lim_tof=widgets.IntText(value=400, description='lim tof/mc:')\n",
    "percent=widgets.IntText(value=50, description='percent MRP:')\n",
    "\n",
    "def hist_plot(figname, plot):\n",
    "    \n",
    "    with out:\n",
    "        clear_output(True)\n",
    "    \n",
    "        bin_size_p = bin_size.value\n",
    "        prominence_p = prominence.value\n",
    "        distance_p = distance.value\n",
    "        lim_tof_p = lim_tof.value\n",
    "        percent_p = percent.value\n",
    "        selector='rect'\n",
    "        peaks_ini, peaks_y_ini, peak_widths_p_ini, _ = tools.hist_plot(variables.mc_calib[variables.mc_calib < lim_tof_p], \n",
    "                                                bin_size_p, distance=distance_p, percent=percent_p, prominence=prominence_p,\n",
    "                                                                    selector=selector, plot=plot, label='mc', fig_name=figname)\n",
    "        index_max_ini = np.argmax(peaks_y_ini)\n",
    "        variables.max_peak = peaks_ini[index_max_ini]\n",
    "        variables.peak = peaks_ini\n",
    "        mrp = (peaks_ini[index_max_ini] / (peak_widths_p_ini[index_max_ini][2] - peak_widths_p_ini[index_max_ini][1]))\n",
    "        print('Mass resolving power for the highest peak (MRP --> m/m_2-m_1):', mrp)\n",
    "        for i in range(len(peaks_ini)):\n",
    "                      print('Peaks ', i, 'is at location and height: ({:.2f}, {:.2f})'.format(peaks_ini[i], peaks_y_ini[i]), 'peak window sides ({:.1f}%) are: ({:.2f}, {:.2f})'.format(percent_p, peak_widths_p_ini[i][1], peak_widths_p_ini[i][2]), '-> {:.2f}'.format(peak_widths_p_ini[i][2] - peak_widths_p_ini[i][1]))"
   ]
  },
  {
   "cell_type": "code",
   "execution_count": 47,
   "metadata": {},
   "outputs": [],
   "source": [
    "sample_size_b = widgets.IntText(value=11, description='sample size:') \n",
    "index_fig_b = widgets.IntText(value=1, description='fig index:')\n",
    "plot_b = widgets.Dropdown(\n",
    "    options=[('False', False), ('True', True)],\n",
    "    description='plot fig:'\n",
    ")\n",
    "\n",
    "save_b = widgets.Dropdown(\n",
    "    options=[('False', False), ('True', True)],\n",
    "    description='save fig:'\n",
    ")\n",
    "def bowl_correction(dld_x, dld_y, dld_highVoltage, figname=figname):\n",
    "    with out:\n",
    "        sample_size_p = sample_size_b.value\n",
    "        index_fig_p = index_fig_b.value\n",
    "        plot_p = plot_b.value\n",
    "        save_p = save_b.value\n",
    "\n",
    "        calibration.bowl_correction_main(dld_x, dld_y, dld_highVoltage, det_diam.value, sample_size=sample_size_p, calibration_mode='mc',\n",
    "                                        index_fig=index_fig_p, plot=plot_p, save=save_p)\n"
   ]
  },
  {
   "cell_type": "code",
   "execution_count": 48,
   "metadata": {},
   "outputs": [],
   "source": [
    "sample_size_v =widgets.IntText(value=100, description='sample size:') \n",
    "index_fig_v = widgets.IntText(value=1, description='fig index:')\n",
    "plot_v = widgets.Dropdown(\n",
    "    options=[('False', False), ('True', True)],\n",
    "    description='plot fig:'\n",
    ")\n",
    "save_v = widgets.Dropdown(\n",
    "    options=[('False', False), ('True', True)],\n",
    "    description='save fig:'\n",
    ")\n",
    "mode_v = widgets.Dropdown(\n",
    "    options=[('ion_seq', 'ion_seq'), ('voltage', 'voltage')],\n",
    "    description='sample mode:'\n",
    ")\n",
    "peak_mode = widgets.Dropdown(\n",
    "    options=[('peak', 'peak'), ('mean', 'mean'), ('median', 'median')],\n",
    "    description='peak mode:'\n",
    ")\n",
    "def vol_correction(dld_highVoltage, figname):\n",
    "    with out:\n",
    "        sample_size_p = sample_size_v.value\n",
    "        index_fig_p = index_fig_v.value\n",
    "        plot_p = plot_v.value\n",
    "        save_p = save_v.value\n",
    "        mode_p = mode_v.value\n",
    "        peak_mode_p = peak_mode.value\n",
    "        calibration.voltage_corr_main(dld_highVoltage, sample_size=sample_size_p, calibration_mode='mc',\n",
    "                                        index_fig=index_fig_p, plot=plot_p, save=save_p, mode=mode_p, peak_mode=peak_mode_p)\n"
   ]
  },
  {
   "cell_type": "code",
   "execution_count": 79,
   "metadata": {},
   "outputs": [
    {
     "data": {
      "application/vnd.jupyter.widget-view+json": {
       "model_id": "240612d2a93c4817ba07653edb2112b6",
       "version_major": 2,
       "version_minor": 0
      },
      "text/plain": [
       "VBox(children=(Tab(children=(VBox(children=(FloatText(value=0.1, description='bin size:'), IntText(value=100, …"
      ]
     },
     "metadata": {},
     "output_type": "display_data"
    },
    {
     "data": {
      "application/vnd.jupyter.widget-view+json": {
       "model_id": "e93bfbfecd5e4372a0c930ea8a36a705",
       "version_major": 2,
       "version_minor": 0
      },
      "text/plain": [
       "Output()"
      ]
     },
     "metadata": {},
     "output_type": "display_data"
    }
   ],
   "source": [
    "pb_bowl = widgets.HTML(\n",
    "    value=\" \",\n",
    "    placeholder='Status:',\n",
    "    description='Status:',\n",
    ")\n",
    "pb_vol = widgets.HTML(\n",
    "    value=\" \",\n",
    "    placeholder='Status:',\n",
    "    description='Status:',\n",
    ")\n",
    "plot_button = widgets.Button(\n",
    "    description='plot hist',\n",
    ")\n",
    "plot_fdm_button = widgets.Button(\n",
    "    description='plot FDM',\n",
    ")\n",
    "reset_button = widgets.Button(\n",
    "    description='reset back correction',\n",
    ")\n",
    "save_button = widgets.Button(\n",
    "    description='save correction',\n",
    ")\n",
    "bowl_button = widgets.Button(\n",
    "    description='bowl correction',\n",
    ")\n",
    "vol_button = widgets.Button(\n",
    "    description='voltage correction',\n",
    ")\n",
    "bin_fdm = widgets.IntText(value=256, description='bin FDM:')\n",
    "\n",
    "\n",
    "\n",
    "@plot_button.on_click\n",
    "def plot_on_click(b, figname=figname, plot=True):\n",
    "    hist_plot(figname, plot)\n",
    "\n",
    "@plot_fdm_button.on_click\n",
    "def plot_fdm_on_click(b, save=True):\n",
    "    with out:\n",
    "        clear_output(True)\n",
    "        mask_temporal = np.logical_and((variables.mc_calib > variables.selected_x1),\n",
    "                                       (variables.mc_calib < variables.selected_x2))\n",
    "        x = dld_x[mask_temporal]\n",
    "        y = dld_y[mask_temporal]\n",
    "        bin_fdm_p = bin_fdm.value\n",
    "        bins = [bin_fdm_p, bin_fdm_p]\n",
    "\n",
    "        calibration.plot_FDM(x, y, save, bins)\n",
    "    \n",
    "@reset_button.on_click\n",
    "def reset_on_click(b, figname=figname, plot=True):\n",
    "    variables.mc_calib = np.copy(variables.mc_calib_backup)\n",
    "    \n",
    "@save_button.on_click\n",
    "def save_on_click(b, figname=figname, plot=True):\n",
    "    variables.mc_calib_backup = np.copy(variables.mc_calib)   \n",
    "    \n",
    "@bowl_button.on_click\n",
    "def bowl_on_click(b, dld_x=dld_x, dld_y=dld_y, dld_highVoltage=dld_highVoltage, figname=figname):\n",
    "    with out:\n",
    "        clear_output(True)\n",
    "        pb_bowl.value = \"<b>Starting...</b>\"\n",
    "        if variables.selected_x1 == 0 or variables.selected_x2 == 0:\n",
    "            Print('Please first select a peak')\n",
    "        else:\n",
    "            bowl_correction(dld_x, dld_y, dld_highVoltage, figname)  \n",
    "        pb_bowl.value = \"<b>Fnished</b>\"\n",
    "@vol_button.on_click\n",
    "def vol_on_click(b, dld_highVoltage=dld_highVoltage, figname=figname):\n",
    "    with out:\n",
    "        clear_output(True)\n",
    "        pb_vol.value = \"<b>Starting...</b>\"\n",
    "        if variables.selected_x1 == 0 or variables.selected_x2 == 0:\n",
    "            Print('Please first select a peak')\n",
    "        else:\n",
    "            vol_correction(dld_highVoltage, figname)\n",
    "        pb_vol.value = \"<b>Fnished</b>\"\n",
    "    \n",
    "\n",
    "\n",
    "tab1 = VBox(children=[bin_size, prominence, distance, lim_tof, percent, bin_fdm])\n",
    "tab2 = VBox(children=[HBox(children=[sample_size_b, index_fig_b, plot_b, save_b]), bowl_button, pb_bowl])\n",
    "tab3 = VBox(children=[HBox(children=[sample_size_v, index_fig_v, mode_v, peak_mode, plot_v, save_v]), vol_button, pb_vol])\n",
    "\n",
    "tab = widgets.Tab(children=[tab1, tab2, tab3])\n",
    "tab.set_title(0, 'tof/mc plot')\n",
    "tab.set_title(1, 'bowl correction')\n",
    "tab.set_title(2, 'voltage correction')\n",
    "\n",
    "\n",
    "\n",
    "display(VBox(children=[tab,HBox(children=[plot_button, plot_fdm_button, save_button, reset_button])]))\n",
    "out = Output()\n",
    "display(out)"
   ]
  },
  {
   "cell_type": "code",
   "execution_count": 69,
   "metadata": {},
   "outputs": [],
   "source": [
    "variables.mc_calib_backup = np.copy(variables.mc_calib)"
   ]
  },
  {
   "cell_type": "code",
   "execution_count": 70,
   "metadata": {},
   "outputs": [],
   "source": [
    "def tof_his(bin_size, prominence, distance, percent, selector, plot, figname, lim_mc):\n",
    "    variables.peaks_idx = []\n",
    "    peaks_ini, peaks_y_ini, peak_widths_p_ini, _ = tools.hist_plot(variables.mc_calib[variables.mc_calib < lim_mc], bin_size, distance=distance, percent=percent, prominence=prominence, selector=selector, plot=plot, label='mc', fig_name=figname)\n",
    "    index_max_ini = np.argmax(peaks_y_ini)\n",
    "    variables.max_peak = peaks_ini[index_max_ini]\n",
    "    variables.peak = peaks_ini\n",
    "    mrp = (peaks_ini[index_max_ini] / (peak_widths_p_ini[index_max_ini][2] - peak_widths_p_ini[index_max_ini][1]))\n",
    "    print('Mass resolving power for the highest peak (MRP --> m/m_2-m_1):', mrp)\n",
    "    for i in range(len(peaks_ini)):\n",
    "        print('Peaks ', i, 'is at location and height: ({:.2f}, {:.2f})'.format(peaks_ini[i], peaks_y_ini[i]), 'peak window sides (half-maximum) are: ({:.2f}, {:.2f})'.format(peak_widths_p_ini[i][1], peak_widths_p_ini[i][2]))"
   ]
  },
  {
   "cell_type": "code",
   "execution_count": 71,
   "metadata": {},
   "outputs": [
    {
     "data": {
      "application/vnd.jupyter.widget-view+json": {
       "model_id": "b2080b4b51cf4afcb79fe85acfe762c6",
       "version_major": 2,
       "version_minor": 0
      },
      "text/plain": [
       "interactive(children=(FloatText(value=0.1, description='bin_size'), IntText(value=50, description='prominence'…"
      ]
     },
     "metadata": {},
     "output_type": "display_data"
    }
   ],
   "source": [
    "\n",
    "interact_manual(tof_his, bin_size=widgets.FloatText(value=0.1)\n",
    "               ,prominence=widgets.IntText(value=50), distance=widgets.IntText(value=100), lim_mc=widgets.IntText(value=max_mc.value)\n",
    "               ,percent=widgets.IntText(value=50), selector=fixed('peak'), plot=fixed(True), figname=fixed(figname+'_cor'));\n"
   ]
  },
  {
   "cell_type": "code",
   "execution_count": 72,
   "metadata": {},
   "outputs": [
    {
     "data": {
      "application/vnd.jupyter.widget-view+json": {
       "model_id": "4f4fa1c4525b4f749ac40e58e2045ebb",
       "version_major": 2,
       "version_minor": 0
      },
      "text/plain": [
       "Dropdown(description='Elements', options=(('H (1) (99.98)', 'H(1)[1.01]'), ('H (2) (0.01)', 'H(2)[2.01]'), ('H…"
      ]
     },
     "metadata": {},
     "output_type": "display_data"
    },
    {
     "data": {
      "application/vnd.jupyter.widget-view+json": {
       "model_id": "e20b256cfdff468d949cf16cc9cd3c51",
       "version_major": 2,
       "version_minor": 0
      },
      "text/plain": [
       "Dropdown(description='Charge', options=((1, 1), (2, 2), (3, 3), (4, 4)), value=1)"
      ]
     },
     "metadata": {},
     "output_type": "display_data"
    },
    {
     "data": {
      "application/vnd.jupyter.widget-view+json": {
       "model_id": "42d15dbb9dc540ebb08a60773a86b1d6",
       "version_major": 2,
       "version_minor": 0
      },
      "text/plain": [
       "Button(description='ADD', icon='check', style=ButtonStyle(), tooltip='ADD')"
      ]
     },
     "metadata": {},
     "output_type": "display_data"
    },
    {
     "data": {
      "application/vnd.jupyter.widget-view+json": {
       "model_id": "e6fcda8bf36148a2a012dfe2afb1b08f",
       "version_major": 2,
       "version_minor": 0
      },
      "text/plain": [
       "Button(description='DELETE', icon='check', style=ButtonStyle(), tooltip='DELETE')"
      ]
     },
     "metadata": {},
     "output_type": "display_data"
    },
    {
     "data": {
      "application/vnd.jupyter.widget-view+json": {
       "model_id": "e54f0abf941247a189250407302adf09",
       "version_major": 2,
       "version_minor": 0
      },
      "text/plain": [
       "Button(description='RESET', icon='check', style=ButtonStyle(), tooltip='RESET')"
      ]
     },
     "metadata": {},
     "output_type": "display_data"
    },
    {
     "data": {
      "application/vnd.jupyter.widget-view+json": {
       "model_id": "82969a14e5464fd5945ab6259578660e",
       "version_major": 2,
       "version_minor": 0
      },
      "text/plain": [
       "Output()"
      ]
     },
     "metadata": {},
     "output_type": "display_data"
    }
   ],
   "source": [
    "isotopeTableFile = '../../../files/isotopeTable.h5'\n",
    "dataframe = data_tools.read_hdf5_through_pandas(isotopeTableFile)\n",
    "elementsList = dataframe['element']\n",
    "elementIsotopeList = dataframe['isotope']\n",
    "elementMassList =  dataframe['weight']\n",
    "abundanceList = dataframe['abundance']\n",
    "\n",
    "elements = list(zip(elementsList, elementIsotopeList, elementMassList, abundanceList))\n",
    "dropdownList = []\n",
    "for element in elements:\n",
    "    tupleElement = (\"{} ({}) ({:.2f})\".format(element[0], element[1], element[3]), \"{}({})[{}]\".format(element[0], element[1], element[2]))\n",
    "    dropdownList.append(tupleElement)\n",
    "\n",
    "chargeList = [(1,1,),(2,2,),(3,3,),(4,4,)]\n",
    "dropdown = wd.dropdownWidget(dropdownList,\"Elements\")\n",
    "dropdown.observe(wd.on_change)\n",
    "\n",
    "\n",
    "chargeDropdown = wd.dropdownWidget(chargeList,\"Charge\")\n",
    "chargeDropdown.observe(wd.on_change_charge)\n",
    "\n",
    "wd.compute_element_isotope_values_according_to_selected_charge()\n",
    "\n",
    "buttonAdd = wd.buttonWidget(\"ADD\")\n",
    "buttonDelete = wd.buttonWidget(\"DELETE\")\n",
    "buttonReset = wd.buttonWidget(\"RESET\")\n",
    "\n",
    "display(dropdown, chargeDropdown, buttonAdd, buttonDelete, buttonReset)\n",
    "\n",
    "def buttonAdd_f(b,):\n",
    "    with out:\n",
    "        clear_output(True)\n",
    "        wd.onClickAdd(b,)\n",
    "        display()\n",
    "def buttonDelete_f(b,):\n",
    "    with out:\n",
    "        clear_output(True)\n",
    "        wd.onClickDelete(b,)\n",
    "        display()\n",
    "def buttonResett_f(b,):\n",
    "    with out:\n",
    "        clear_output(True)\n",
    "        wd.onClickReset(b,)\n",
    "        display()\n",
    "\n",
    "listMaterial = buttonAdd.on_click(buttonAdd_f)\n",
    "buttonDelete.on_click(buttonDelete_f)\n",
    "buttonReset.on_click(buttonResett_f)\n",
    "# listMaterial = buttonAdd.on_click(wd.onClickAdd)\n",
    "# buttonDelete.on_click(wd.onClickDelete)\n",
    "# buttonReset.on_click(wd.onClickReset)\n",
    "out = Output()\n",
    "display(out)"
   ]
  },
  {
   "cell_type": "code",
   "execution_count": 58,
   "metadata": {},
   "outputs": [
    {
     "name": "stdout",
     "output_type": "stream",
     "text": [
      "highest peak in the tof histogram: []\n",
      "highest peak in the ideal mc histogram: []\n"
     ]
    }
   ],
   "source": [
    "peaks_chos = []\n",
    "for i in range(len(variables.peaks_idx)):\n",
    "    peaks_chos.append(variables.peak[variables.peaks_idx[i]])\n",
    "peaks_chos = np.array(peaks_chos)\n",
    "listMaterial = np.array(variables.listMaterial)\n",
    "print('highest peak in the tof histogram:', peaks_chos)\n",
    "print('highest peak in the ideal mc histogram:', listMaterial)"
   ]
  },
  {
   "cell_type": "code",
   "execution_count": null,
   "metadata": {},
   "outputs": [],
   "source": [
    "def shift(mc, a, b):\n",
    "\n",
    "    # return c * ((t - t0)**2) + d\n",
    "    return mc ** a + b\n",
    "\n",
    "def shift_calib(mc, mc_ideal):\n",
    "    \n",
    "    fitresult, _ = curve_fit(shift, mc, mc_ideal, maxfev=2000)\n",
    "    return fitresult\n",
    "\n",
    "fitresult = shift_calib(peaks_chos,  variables.listMaterial)\n",
    "mc_p_1 = shift(variables.mc_calib, *fitresult)\n",
    "\n",
    "# f_shift = interpolate.interp1d(np.array(variables.listMaterial).T, peaks_chos.T, fill_value=\"extrapolate\")\n",
    "# variables.mc_calib = f_shift(variables.mc_calib)\n"
   ]
  },
  {
   "cell_type": "code",
   "execution_count": 77,
   "metadata": {},
   "outputs": [],
   "source": [
    "def tof_his(bin_size, prominence, distance, percent, selector, plot, figname, lim_mc):\n",
    "    peaks_ini, peaks_y_ini, peak_widths_p_ini, _ = tools.hist_plot(variables.mc_calib[variables.mc_calib < lim_mc], bin_size, distance=distance, percent=percent, prominence=prominence, selector=selector, plot=plot, label='mc', fig_name=figname)\n",
    "    index_max_ini = np.argmax(peaks_y_ini)\n",
    "    variables.max_peak = peaks_ini[index_max_ini]\n",
    "    variables.peak = peaks_ini\n",
    "    mrp = (peaks_ini[index_max_ini] / (peak_widths_p_ini[index_max_ini][2] - peak_widths_p_ini[index_max_ini][1]))\n",
    "    print('Mass resolving power for the highest peak (MRP --> m/m_2-m_1):', mrp)\n",
    "    for i in range(len(peaks_ini)):\n",
    "        print('Peaks ', i, 'is at location and height: ({:.2f}, {:.2f})'.format(peaks_ini[i], peaks_y_ini[i]), 'peak window sides (half-maximum) are: ({:.2f}, {:.2f})'.format(peak_widths_p_ini[i][1], peak_widths_p_ini[i][2]))"
   ]
  },
  {
   "cell_type": "code",
   "execution_count": 78,
   "metadata": {},
   "outputs": [
    {
     "data": {
      "application/vnd.jupyter.widget-view+json": {
       "model_id": "23deb85d84ce4e7598fdc45e3f389347",
       "version_major": 2,
       "version_minor": 0
      },
      "text/plain": [
       "interactive(children=(FloatText(value=0.1, description='bin_size'), IntText(value=50, description='prominence'…"
      ]
     },
     "metadata": {},
     "output_type": "display_data"
    }
   ],
   "source": [
    "interact_manual(mc_his, mc=fixed(mc_p_1), bin_size=widgets.FloatText(value=0.1)\n",
    "               ,prominence=widgets.IntText(value=50), distance=widgets.IntText(value=100), lim_mc=widgets.IntText(value=150)\n",
    "               ,percent=widgets.IntText(value=50), selector=fixed('None'), plot=fixed(True), figname=fixed(figname+'_cor'));\n"
   ]
  },
  {
   "cell_type": "code",
   "execution_count": 144,
   "metadata": {},
   "outputs": [],
   "source": [
    "variables.mc_calib =  mc_p_1"
   ]
  },
  {
   "cell_type": "code",
   "execution_count": 80,
   "metadata": {},
   "outputs": [],
   "source": [
    "\n",
    "data['mc_c (Da)'] = variables.mc_calib_backup"
   ]
  },
  {
   "cell_type": "code",
   "execution_count": 81,
   "metadata": {},
   "outputs": [
    {
     "data": {
      "text/html": [
       "<div>\n",
       "<style scoped>\n",
       "    .dataframe tbody tr th:only-of-type {\n",
       "        vertical-align: middle;\n",
       "    }\n",
       "\n",
       "    .dataframe tbody tr th {\n",
       "        vertical-align: top;\n",
       "    }\n",
       "\n",
       "    .dataframe thead th {\n",
       "        text-align: right;\n",
       "    }\n",
       "</style>\n",
       "<table border=\"1\" class=\"dataframe\">\n",
       "  <thead>\n",
       "    <tr style=\"text-align: right;\">\n",
       "      <th></th>\n",
       "      <th>x (nm)</th>\n",
       "      <th>y (nm)</th>\n",
       "      <th>z (nm)</th>\n",
       "      <th>mc_c (Da)</th>\n",
       "      <th>mc (Da)</th>\n",
       "      <th>high_voltage (V)</th>\n",
       "      <th>pulse (deg)</th>\n",
       "      <th>start_counter</th>\n",
       "      <th>t (ns)</th>\n",
       "      <th>t_c (ns)</th>\n",
       "      <th>x_det (cm)</th>\n",
       "      <th>y_det (cm)</th>\n",
       "      <th>pulse_pi</th>\n",
       "      <th>ion_pp</th>\n",
       "    </tr>\n",
       "  </thead>\n",
       "  <tbody>\n",
       "    <tr>\n",
       "      <th>0</th>\n",
       "      <td>0.0</td>\n",
       "      <td>0.0</td>\n",
       "      <td>0.0</td>\n",
       "      <td>0.870039</td>\n",
       "      <td>0.866215</td>\n",
       "      <td>8118.056152</td>\n",
       "      <td>230.0</td>\n",
       "      <td>214.0</td>\n",
       "      <td>214.0</td>\n",
       "      <td>0.0</td>\n",
       "      <td>1.032970</td>\n",
       "      <td>0.558104</td>\n",
       "      <td>0</td>\n",
       "      <td>1</td>\n",
       "    </tr>\n",
       "    <tr>\n",
       "      <th>1</th>\n",
       "      <td>0.0</td>\n",
       "      <td>0.0</td>\n",
       "      <td>0.0</td>\n",
       "      <td>101.368715</td>\n",
       "      <td>101.605702</td>\n",
       "      <td>8118.056152</td>\n",
       "      <td>230.0</td>\n",
       "      <td>2007.0</td>\n",
       "      <td>2007.0</td>\n",
       "      <td>0.0</td>\n",
       "      <td>-2.864820</td>\n",
       "      <td>-1.211240</td>\n",
       "      <td>1793</td>\n",
       "      <td>1</td>\n",
       "    </tr>\n",
       "    <tr>\n",
       "      <th>2</th>\n",
       "      <td>0.0</td>\n",
       "      <td>0.0</td>\n",
       "      <td>0.0</td>\n",
       "      <td>341.513402</td>\n",
       "      <td>340.906069</td>\n",
       "      <td>8118.056152</td>\n",
       "      <td>230.0</td>\n",
       "      <td>3643.0</td>\n",
       "      <td>3643.0</td>\n",
       "      <td>0.0</td>\n",
       "      <td>-2.689240</td>\n",
       "      <td>0.717955</td>\n",
       "      <td>3643</td>\n",
       "      <td>1</td>\n",
       "    </tr>\n",
       "    <tr>\n",
       "      <th>3</th>\n",
       "      <td>0.0</td>\n",
       "      <td>0.0</td>\n",
       "      <td>0.0</td>\n",
       "      <td>332.985301</td>\n",
       "      <td>334.185929</td>\n",
       "      <td>8118.056152</td>\n",
       "      <td>230.0</td>\n",
       "      <td>3615.0</td>\n",
       "      <td>3615.0</td>\n",
       "      <td>0.0</td>\n",
       "      <td>-0.171491</td>\n",
       "      <td>-3.212160</td>\n",
       "      <td>0</td>\n",
       "      <td>0</td>\n",
       "    </tr>\n",
       "    <tr>\n",
       "      <th>4</th>\n",
       "      <td>0.0</td>\n",
       "      <td>0.0</td>\n",
       "      <td>0.0</td>\n",
       "      <td>99.202192</td>\n",
       "      <td>98.995943</td>\n",
       "      <td>8118.056152</td>\n",
       "      <td>230.0</td>\n",
       "      <td>1983.0</td>\n",
       "      <td>1983.0</td>\n",
       "      <td>0.0</td>\n",
       "      <td>-3.106970</td>\n",
       "      <td>0.977451</td>\n",
       "      <td>0</td>\n",
       "      <td>0</td>\n",
       "    </tr>\n",
       "    <tr>\n",
       "      <th>...</th>\n",
       "      <td>...</td>\n",
       "      <td>...</td>\n",
       "      <td>...</td>\n",
       "      <td>...</td>\n",
       "      <td>...</td>\n",
       "      <td>...</td>\n",
       "      <td>...</td>\n",
       "      <td>...</td>\n",
       "      <td>...</td>\n",
       "      <td>...</td>\n",
       "      <td>...</td>\n",
       "      <td>...</td>\n",
       "      <td>...</td>\n",
       "      <td>...</td>\n",
       "    </tr>\n",
       "    <tr>\n",
       "      <th>690611</th>\n",
       "      <td>0.0</td>\n",
       "      <td>0.0</td>\n",
       "      <td>0.0</td>\n",
       "      <td>65.968453</td>\n",
       "      <td>65.528238</td>\n",
       "      <td>7221.176270</td>\n",
       "      <td>242.0</td>\n",
       "      <td>1706.0</td>\n",
       "      <td>1706.0</td>\n",
       "      <td>0.0</td>\n",
       "      <td>1.399840</td>\n",
       "      <td>1.460980</td>\n",
       "      <td>1706</td>\n",
       "      <td>1</td>\n",
       "    </tr>\n",
       "    <tr>\n",
       "      <th>690612</th>\n",
       "      <td>0.0</td>\n",
       "      <td>0.0</td>\n",
       "      <td>0.0</td>\n",
       "      <td>101.412468</td>\n",
       "      <td>100.876531</td>\n",
       "      <td>7221.176270</td>\n",
       "      <td>242.0</td>\n",
       "      <td>2121.0</td>\n",
       "      <td>2121.0</td>\n",
       "      <td>0.0</td>\n",
       "      <td>-2.308090</td>\n",
       "      <td>2.408430</td>\n",
       "      <td>415</td>\n",
       "      <td>1</td>\n",
       "    </tr>\n",
       "    <tr>\n",
       "      <th>690613</th>\n",
       "      <td>0.0</td>\n",
       "      <td>0.0</td>\n",
       "      <td>0.0</td>\n",
       "      <td>99.282469</td>\n",
       "      <td>98.712700</td>\n",
       "      <td>7221.176270</td>\n",
       "      <td>242.0</td>\n",
       "      <td>2096.0</td>\n",
       "      <td>2096.0</td>\n",
       "      <td>0.0</td>\n",
       "      <td>3.067440</td>\n",
       "      <td>-0.521695</td>\n",
       "      <td>4294967271</td>\n",
       "      <td>1</td>\n",
       "    </tr>\n",
       "    <tr>\n",
       "      <th>690614</th>\n",
       "      <td>0.0</td>\n",
       "      <td>0.0</td>\n",
       "      <td>0.0</td>\n",
       "      <td>99.203155</td>\n",
       "      <td>99.510744</td>\n",
       "      <td>7221.176270</td>\n",
       "      <td>242.0</td>\n",
       "      <td>2099.0</td>\n",
       "      <td>2099.0</td>\n",
       "      <td>0.0</td>\n",
       "      <td>-0.463658</td>\n",
       "      <td>-2.527050</td>\n",
       "      <td>2099</td>\n",
       "      <td>1</td>\n",
       "    </tr>\n",
       "    <tr>\n",
       "      <th>690615</th>\n",
       "      <td>0.0</td>\n",
       "      <td>0.0</td>\n",
       "      <td>0.0</td>\n",
       "      <td>303.467967</td>\n",
       "      <td>303.286304</td>\n",
       "      <td>7221.176270</td>\n",
       "      <td>242.0</td>\n",
       "      <td>3623.0</td>\n",
       "      <td>3623.0</td>\n",
       "      <td>0.0</td>\n",
       "      <td>-0.964503</td>\n",
       "      <td>-0.349587</td>\n",
       "      <td>1524</td>\n",
       "      <td>1</td>\n",
       "    </tr>\n",
       "  </tbody>\n",
       "</table>\n",
       "<p>690616 rows × 14 columns</p>\n",
       "</div>"
      ],
      "text/plain": [
       "        x (nm)  y (nm)  z (nm)   mc_c (Da)     mc (Da)  high_voltage (V)  \\\n",
       "0          0.0     0.0     0.0    0.870039    0.866215       8118.056152   \n",
       "1          0.0     0.0     0.0  101.368715  101.605702       8118.056152   \n",
       "2          0.0     0.0     0.0  341.513402  340.906069       8118.056152   \n",
       "3          0.0     0.0     0.0  332.985301  334.185929       8118.056152   \n",
       "4          0.0     0.0     0.0   99.202192   98.995943       8118.056152   \n",
       "...        ...     ...     ...         ...         ...               ...   \n",
       "690611     0.0     0.0     0.0   65.968453   65.528238       7221.176270   \n",
       "690612     0.0     0.0     0.0  101.412468  100.876531       7221.176270   \n",
       "690613     0.0     0.0     0.0   99.282469   98.712700       7221.176270   \n",
       "690614     0.0     0.0     0.0   99.203155   99.510744       7221.176270   \n",
       "690615     0.0     0.0     0.0  303.467967  303.286304       7221.176270   \n",
       "\n",
       "        pulse (deg)  start_counter  t (ns)  t_c (ns)  x_det (cm)  y_det (cm)  \\\n",
       "0             230.0          214.0   214.0       0.0    1.032970    0.558104   \n",
       "1             230.0         2007.0  2007.0       0.0   -2.864820   -1.211240   \n",
       "2             230.0         3643.0  3643.0       0.0   -2.689240    0.717955   \n",
       "3             230.0         3615.0  3615.0       0.0   -0.171491   -3.212160   \n",
       "4             230.0         1983.0  1983.0       0.0   -3.106970    0.977451   \n",
       "...             ...            ...     ...       ...         ...         ...   \n",
       "690611        242.0         1706.0  1706.0       0.0    1.399840    1.460980   \n",
       "690612        242.0         2121.0  2121.0       0.0   -2.308090    2.408430   \n",
       "690613        242.0         2096.0  2096.0       0.0    3.067440   -0.521695   \n",
       "690614        242.0         2099.0  2099.0       0.0   -0.463658   -2.527050   \n",
       "690615        242.0         3623.0  3623.0       0.0   -0.964503   -0.349587   \n",
       "\n",
       "          pulse_pi  ion_pp  \n",
       "0                0       1  \n",
       "1             1793       1  \n",
       "2             3643       1  \n",
       "3                0       0  \n",
       "4                0       0  \n",
       "...            ...     ...  \n",
       "690611        1706       1  \n",
       "690612         415       1  \n",
       "690613  4294967271       1  \n",
       "690614        2099       1  \n",
       "690615        1524       1  \n",
       "\n",
       "[690616 rows x 14 columns]"
      ]
     },
     "execution_count": 81,
     "metadata": {},
     "output_type": "execute_result"
    }
   ],
   "source": [
    "data"
   ]
  },
  {
   "cell_type": "code",
   "execution_count": 82,
   "metadata": {},
   "outputs": [],
   "source": [
    "# save the new data\n",
    "name_save_file = variables.result_path + '//' + dataset_name + '.h5'\n",
    "data_tools.store_df_to_hdf(name_save_file, data, 'df')"
   ]
  },
  {
   "cell_type": "code",
   "execution_count": 83,
   "metadata": {},
   "outputs": [],
   "source": [
    "# save data as epos file\n",
    "epos = ccapt_tools.ccapt_to_epos(data, pulse_mode=pulse_mode.value, path=variables.result_path, name=dataset_name + '.epos')\n",
    "pos = ccapt_tools.ccapt_to_pos(data, path=variables.result_path, name=dataset_name + '.pos')"
   ]
  },
  {
   "cell_type": "code",
   "execution_count": 149,
   "metadata": {},
   "outputs": [],
   "source": [
    "# save data in csv format\n",
    "data_tools.store_df_to_csv(data, variables.result_path + dataset_name + '.csv')"
   ]
  },
  {
   "cell_type": "code",
   "execution_count": null,
   "metadata": {},
   "outputs": [],
   "source": []
  }
 ],
 "metadata": {
  "kernelspec": {
   "display_name": "Python 3 (ipykernel)",
   "language": "python",
   "name": "python3"
  },
  "language_info": {
   "codemirror_mode": {
    "name": "ipython",
    "version": 3
   },
   "file_extension": ".py",
   "mimetype": "text/x-python",
   "name": "python",
   "nbconvert_exporter": "python",
   "pygments_lexer": "ipython3",
   "version": "3.8.16"
  }
 },
 "nbformat": 4,
 "nbformat_minor": 4
}

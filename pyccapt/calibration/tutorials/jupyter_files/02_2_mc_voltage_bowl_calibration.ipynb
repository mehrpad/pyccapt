{
 "cells": [
  {
   "cell_type": "code",
   "execution_count": 1,
   "metadata": {
    "pycharm": {
     "name": "#%%\n"
    }
   },
   "outputs": [],
   "source": [
    "%matplotlib ipympl\n",
    "import os\n",
    "import os.path as path\n",
    "import numpy as np\n",
    "from scipy.optimize import curve_fit\n",
    "from scipy import interpolate\n",
    "from sklearn.preprocessing import MinMaxScaler\n",
    "import matplotlib.pyplot as plt\n",
    "from ipywidgets import fixed, interact_manual, widgets\n",
    "from ipywidgets import HBox, VBox\n",
    "from IPython.display import clear_output\n",
    "from IPython.display import display\n",
    "from ipywidgets import IntSlider, Output\n",
    "from itertools import product\n",
    "from scipy.signal import find_peaks\n",
    "import math\n",
    "from mpl_toolkits.mplot3d import Axes3D\n",
    "\n",
    "# Local module and scripts\n",
    "from pyccapt.calibration.calibration_tools import tools, data_tools, variables, calibration, data_loadcrop\n",
    "from pyccapt.calibration.calibration_tools import widgets as wd\n",
    "from pyccapt.calibration.mc import mc_tools\n",
    "from pyccapt.calibration.calibration_tools import dataset_path_qt\n",
    "from pyccapt.calibration.calibration_tools import hdf_to_leap"
   ]
  },
  {
   "cell_type": "code",
   "execution_count": 2,
   "metadata": {
    "pycharm": {
     "name": "#%%\n"
    }
   },
   "outputs": [],
   "source": [
    "# Disable showing logging in Jupyter notebook\n",
    "import logging, sys\n",
    "logging.disable(sys.maxsize)\n",
    "save_fig=False\n",
    "plot_fig=True "
   ]
  },
  {
   "cell_type": "code",
   "execution_count": 3,
   "metadata": {},
   "outputs": [
    {
     "data": {
      "application/vnd.jupyter.widget-view+json": {
       "model_id": "bfd9e36211244181bb91dc59975eaff4",
       "version_major": 2,
       "version_minor": 0
      },
      "text/plain": [
       "Button(description='load dataset', style=ButtonStyle())"
      ]
     },
     "execution_count": 3,
     "metadata": {},
     "output_type": "execute_result"
    }
   ],
   "source": [
    "button = widgets.Button(\n",
    "    description='load dataset',\n",
    ")\n",
    "\n",
    "@button.on_click\n",
    "def open_file_on_click(b):\n",
    "    global dataset_path\n",
    "    dataset_path = dataset_path_qt.gui_fname().decode('ASCII')\n",
    "button"
   ]
  },
  {
   "cell_type": "code",
   "execution_count": 120,
   "metadata": {},
   "outputs": [
    {
     "data": {
      "application/vnd.jupyter.widget-view+json": {
       "model_id": "93a00e252dbd4e49a3dd7509a71f3b2d",
       "version_major": 2,
       "version_minor": 0
      },
      "text/plain": [
       "Dropdown(description='TDC model:', options=('surface_concept', 'roentdec'), value='surface_concept')"
      ]
     },
     "metadata": {},
     "output_type": "display_data"
    },
    {
     "data": {
      "application/vnd.jupyter.widget-view+json": {
       "model_id": "ca00bf8e6a4448d7973e44a074417e64",
       "version_major": 2,
       "version_minor": 0
      },
      "text/plain": [
       "Dropdown(description='Pulse mode:', options=('voltage', 'laser'), value='voltage')"
      ]
     },
     "metadata": {},
     "output_type": "display_data"
    },
    {
     "data": {
      "application/vnd.jupyter.widget-view+json": {
       "model_id": "b866368b604b47b8930661832b647df2",
       "version_major": 2,
       "version_minor": 0
      },
      "text/plain": [
       "FloatText(value=110.0, description='Flight path length:')"
      ]
     },
     "metadata": {},
     "output_type": "display_data"
    },
    {
     "data": {
      "application/vnd.jupyter.widget-view+json": {
       "model_id": "0da4a507707349cab67b7c9295b08be0",
       "version_major": 2,
       "version_minor": 0
      },
      "text/plain": [
       "FloatText(value=51.74, description='t0:')"
      ]
     },
     "metadata": {},
     "output_type": "display_data"
    }
   ],
   "source": [
    "tdc, pulse_mode, flightPathLength_d, t0_d, max_tof = wd.dataset_tdc_selection()\n",
    "display(tdc, pulse_mode, flightPathLength_d, t0_d)"
   ]
  },
  {
   "cell_type": "markdown",
   "metadata": {
    "pycharm": {
     "name": "#%% md\n"
    }
   },
   "source": [
    "$$\\textbf{You can specify which dataset to use in below block}$$"
   ]
  },
  {
   "cell_type": "code",
   "execution_count": 121,
   "metadata": {
    "pycharm": {
     "name": "#%%\n"
    }
   },
   "outputs": [],
   "source": [
    "tdc_model = tdc.value\n",
    "pulse_mode_ini = pulse_mode.value\n",
    "\n",
    "flightPathLength = flightPathLength_d.value # mm \n",
    "# The initial value for t_0\n",
    "t0 = t0_d.value # ns\n",
    "\n",
    "dataset_main_path = os.path.dirname(dataset_path)\n",
    "dataset_name_with_extention = os.path.basename(dataset_path)\n",
    "dataset_name = os.path.splitext(dataset_name_with_extention)[0]\n",
    "\n",
    "\n",
    "variables.init()\n",
    "# variables.path = os.path.join(p, 'tests//data')\n",
    "variables.result_path = os.path.dirname(dataset_main_path) + '/mc_calibration/'\n",
    "if not os.path.isdir(variables.result_path):\n",
    "    os.makedirs(variables.result_path, mode=0o777, exist_ok=True)\n",
    "        \n",
    "filename = dataset_path\n",
    "\n",
    "head, tail = os.path.split(filename)\n",
    "figname = os.path.splitext(tail)[0]\n",
    "\n",
    "data = data_tools.read_hdf5_through_pandas(filename)\n"
   ]
  },
  {
   "cell_type": "code",
   "execution_count": 122,
   "metadata": {
    "pycharm": {
     "name": "#%%\n"
    }
   },
   "outputs": [
    {
     "data": {
      "text/html": [
       "<div>\n",
       "<style scoped>\n",
       "    .dataframe tbody tr th:only-of-type {\n",
       "        vertical-align: middle;\n",
       "    }\n",
       "\n",
       "    .dataframe tbody tr th {\n",
       "        vertical-align: top;\n",
       "    }\n",
       "\n",
       "    .dataframe thead th {\n",
       "        text-align: right;\n",
       "    }\n",
       "</style>\n",
       "<table border=\"1\" class=\"dataframe\">\n",
       "  <thead>\n",
       "    <tr style=\"text-align: right;\">\n",
       "      <th></th>\n",
       "      <th>high_voltage (V)</th>\n",
       "      <th>pulse (V)</th>\n",
       "      <th>start_counter</th>\n",
       "      <th>t (ns)</th>\n",
       "      <th>mc (Da)</th>\n",
       "      <th>x_det (mm)</th>\n",
       "      <th>y_det (mm)</th>\n",
       "      <th>pulse_pi</th>\n",
       "      <th>ion_pp</th>\n",
       "    </tr>\n",
       "  </thead>\n",
       "  <tbody>\n",
       "    <tr>\n",
       "      <th>0</th>\n",
       "      <td>5259.947266</td>\n",
       "      <td>5259.947266</td>\n",
       "      <td>16984.0</td>\n",
       "      <td>629.296938</td>\n",
       "      <td>27.583287</td>\n",
       "      <td>-0.891429</td>\n",
       "      <td>12.702857</td>\n",
       "      <td>0.0</td>\n",
       "      <td>1.0</td>\n",
       "    </tr>\n",
       "    <tr>\n",
       "      <th>1</th>\n",
       "      <td>5259.947266</td>\n",
       "      <td>5259.947266</td>\n",
       "      <td>17227.0</td>\n",
       "      <td>629.982738</td>\n",
       "      <td>26.970251</td>\n",
       "      <td>21.521633</td>\n",
       "      <td>-2.737959</td>\n",
       "      <td>243.0</td>\n",
       "      <td>1.0</td>\n",
       "    </tr>\n",
       "    <tr>\n",
       "      <th>2</th>\n",
       "      <td>5259.947266</td>\n",
       "      <td>5259.947266</td>\n",
       "      <td>17354.0</td>\n",
       "      <td>624.873528</td>\n",
       "      <td>27.316067</td>\n",
       "      <td>3.852245</td>\n",
       "      <td>8.850612</td>\n",
       "      <td>127.0</td>\n",
       "      <td>1.0</td>\n",
       "    </tr>\n",
       "    <tr>\n",
       "      <th>3</th>\n",
       "      <td>5259.947266</td>\n",
       "      <td>5259.947266</td>\n",
       "      <td>17697.0</td>\n",
       "      <td>628.185942</td>\n",
       "      <td>27.000529</td>\n",
       "      <td>-2.769796</td>\n",
       "      <td>-19.261224</td>\n",
       "      <td>343.0</td>\n",
       "      <td>1.0</td>\n",
       "    </tr>\n",
       "    <tr>\n",
       "      <th>4</th>\n",
       "      <td>5259.947266</td>\n",
       "      <td>5259.947266</td>\n",
       "      <td>17718.0</td>\n",
       "      <td>628.803162</td>\n",
       "      <td>26.887388</td>\n",
       "      <td>19.006531</td>\n",
       "      <td>-9.837551</td>\n",
       "      <td>21.0</td>\n",
       "      <td>1.0</td>\n",
       "    </tr>\n",
       "    <tr>\n",
       "      <th>...</th>\n",
       "      <td>...</td>\n",
       "      <td>...</td>\n",
       "      <td>...</td>\n",
       "      <td>...</td>\n",
       "      <td>...</td>\n",
       "      <td>...</td>\n",
       "      <td>...</td>\n",
       "      <td>...</td>\n",
       "      <td>...</td>\n",
       "    </tr>\n",
       "    <tr>\n",
       "      <th>1875505</th>\n",
       "      <td>5710.552734</td>\n",
       "      <td>5710.552734</td>\n",
       "      <td>15857.0</td>\n",
       "      <td>602.687898</td>\n",
       "      <td>26.957421</td>\n",
       "      <td>11.684082</td>\n",
       "      <td>-12.607347</td>\n",
       "      <td>740.0</td>\n",
       "      <td>1.0</td>\n",
       "    </tr>\n",
       "    <tr>\n",
       "      <th>1875506</th>\n",
       "      <td>5710.552734</td>\n",
       "      <td>5710.552734</td>\n",
       "      <td>16295.0</td>\n",
       "      <td>689.050692</td>\n",
       "      <td>34.879355</td>\n",
       "      <td>25.151020</td>\n",
       "      <td>9.296327</td>\n",
       "      <td>438.0</td>\n",
       "      <td>1.0</td>\n",
       "    </tr>\n",
       "    <tr>\n",
       "      <th>1875507</th>\n",
       "      <td>5710.552734</td>\n",
       "      <td>5710.552734</td>\n",
       "      <td>16329.0</td>\n",
       "      <td>614.613960</td>\n",
       "      <td>27.623357</td>\n",
       "      <td>-22.317551</td>\n",
       "      <td>5.284898</td>\n",
       "      <td>34.0</td>\n",
       "      <td>1.0</td>\n",
       "    </tr>\n",
       "    <tr>\n",
       "      <th>1875508</th>\n",
       "      <td>5710.552734</td>\n",
       "      <td>5710.552734</td>\n",
       "      <td>16370.0</td>\n",
       "      <td>456.818238</td>\n",
       "      <td>13.847658</td>\n",
       "      <td>-23.336327</td>\n",
       "      <td>-19.993469</td>\n",
       "      <td>41.0</td>\n",
       "      <td>1.0</td>\n",
       "    </tr>\n",
       "    <tr>\n",
       "      <th>1875509</th>\n",
       "      <td>5710.552734</td>\n",
       "      <td>5710.552734</td>\n",
       "      <td>16449.0</td>\n",
       "      <td>614.579670</td>\n",
       "      <td>27.161908</td>\n",
       "      <td>22.126531</td>\n",
       "      <td>15.791020</td>\n",
       "      <td>79.0</td>\n",
       "      <td>1.0</td>\n",
       "    </tr>\n",
       "  </tbody>\n",
       "</table>\n",
       "<p>1875510 rows × 9 columns</p>\n",
       "</div>"
      ],
      "text/plain": [
       "         high_voltage (V)    pulse (V)  start_counter      t (ns)    mc (Da)  \\\n",
       "0             5259.947266  5259.947266        16984.0  629.296938  27.583287   \n",
       "1             5259.947266  5259.947266        17227.0  629.982738  26.970251   \n",
       "2             5259.947266  5259.947266        17354.0  624.873528  27.316067   \n",
       "3             5259.947266  5259.947266        17697.0  628.185942  27.000529   \n",
       "4             5259.947266  5259.947266        17718.0  628.803162  26.887388   \n",
       "...                   ...          ...            ...         ...        ...   \n",
       "1875505       5710.552734  5710.552734        15857.0  602.687898  26.957421   \n",
       "1875506       5710.552734  5710.552734        16295.0  689.050692  34.879355   \n",
       "1875507       5710.552734  5710.552734        16329.0  614.613960  27.623357   \n",
       "1875508       5710.552734  5710.552734        16370.0  456.818238  13.847658   \n",
       "1875509       5710.552734  5710.552734        16449.0  614.579670  27.161908   \n",
       "\n",
       "         x_det (mm)  y_det (mm)  pulse_pi  ion_pp  \n",
       "0         -0.891429   12.702857       0.0     1.0  \n",
       "1         21.521633   -2.737959     243.0     1.0  \n",
       "2          3.852245    8.850612     127.0     1.0  \n",
       "3         -2.769796  -19.261224     343.0     1.0  \n",
       "4         19.006531   -9.837551      21.0     1.0  \n",
       "...             ...         ...       ...     ...  \n",
       "1875505   11.684082  -12.607347     740.0     1.0  \n",
       "1875506   25.151020    9.296327     438.0     1.0  \n",
       "1875507  -22.317551    5.284898      34.0     1.0  \n",
       "1875508  -23.336327  -19.993469      41.0     1.0  \n",
       "1875509   22.126531   15.791020      79.0     1.0  \n",
       "\n",
       "[1875510 rows x 9 columns]"
      ]
     },
     "execution_count": 122,
     "metadata": {},
     "output_type": "execute_result"
    }
   ],
   "source": [
    "data"
   ]
  },
  {
   "cell_type": "code",
   "execution_count": 123,
   "metadata": {},
   "outputs": [
    {
     "data": {
      "application/vnd.jupyter.widget-view+json": {
       "model_id": "44db73723eb24f5c98016c861801e081",
       "version_major": 2,
       "version_minor": 0
      },
      "image/png": "[encoded data removed]",
      "text/html": [
       "\n",
       "            <div style=\"display: inline-block;\">\n",
       "                <div class=\"jupyter-widgets widget-label\" style=\"text-align: center;\">\n",
       "                    Figure\n",
       "                </div>\n",
       "                <img src='data:image/png;base64,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' width=800.0/>\n",
       "            </div>\n",
       "        "
      ],
      "text/plain": [
       "Canvas(toolbar=Toolbar(toolitems=[('Home', 'Reset original view', 'home', 'home'), ('Back', 'Back to previous …"
      ]
     },
     "metadata": {},
     "output_type": "display_data"
    }
   ],
   "source": [
    "data_loadcrop.plot_crop_experimetn_history(data, save_name=variables.result_path + '//ex_hist_' + dataset_name)\n"
   ]
  },
  {
   "cell_type": "code",
   "execution_count": 124,
   "metadata": {},
   "outputs": [],
   "source": [
    "# exctract needed data from Pandas data frame as an numpy array\n",
    "dld_highVoltage = data['high_voltage (V)'].to_numpy()\n",
    "if pulse_mode_ini == 'voltage':\n",
    "    dld_pulseVoltage = data['pulse (V)'].to_numpy()\n",
    "elif pulse_mode_ini == 'laser':\n",
    "    dld_pulseVoltage = data['pulse (deg)'].to_numpy()\n",
    "dld_t = data['t (ns)'].to_numpy()\n",
    "dld_x = data['x_det (cm)'].to_numpy()\n",
    "dld_y = data['y_det (cm)'].to_numpy()\n",
    "mc = data['mc (Da)'].to_numpy()\n",
    "# copy dld_t to a have a global version of that\n",
    "variables.dld_t_calib = np.copy(dld_t)\n",
    "# variables.mc_calib = np.copy(mc)\n",
    "# variables.mc_calib_backup = np.copy(mc)"
   ]
  },
  {
   "cell_type": "code",
   "execution_count": 125,
   "metadata": {},
   "outputs": [],
   "source": [
    "# peaks_ini, peaks_y_ini, peak_widths_p_ini = tools.hist_plot(mc[mc < 150], 0.1, distance=100, percent=50, prominence=100, selector='rect', plot=True, label='mc', fig_name=figname+'_orig')"
   ]
  },
  {
   "cell_type": "markdown",
   "metadata": {
    "pycharm": {
     "name": "#%% md\n"
    }
   },
   "source": [
    "$$\\textbf{Below plotted graph offers peak selection. You can select relevant peaks you want for computation.}$$"
   ]
  },
  {
   "cell_type": "code",
   "execution_count": 126,
   "metadata": {
    "pycharm": {
     "name": "#%%\n"
    }
   },
   "outputs": [
    {
     "data": {
      "application/vnd.jupyter.widget-view+json": {
       "model_id": "f47ee1ba5dd144e185ab82533938c27e",
       "version_major": 2,
       "version_minor": 0
      },
      "text/plain": [
       "interactive(children=(FloatText(value=51.74, description='t_0'), FloatText(value=0.1, description='bin_size'),…"
      ]
     },
     "metadata": {},
     "output_type": "display_data"
    }
   ],
   "source": [
    "def mc_hist_plot(t_0, bin_size, prominence, distance, percent, selector, plot, figname, lim_mc):\n",
    "    mc_seb_ini = mc_tools.tof2mc(dld_t, t_0, dld_highVoltage, dld_pulseVoltage, dld_x, dld_y, flightPathLength, mode=pulse_mode_ini)\n",
    "    variables.mc_calib = mc_seb_ini\n",
    "    variables.mc_calib_backup = mc_seb_ini\n",
    "    mc = mc_seb_ini\n",
    "    peaks_ini, peaks_y_ini, peak_widths_p_ini = tools.hist_plot(variables.mc_calib[variables.mc_calib < lim_mc], bin_size, distance=distance, percent=percent, prominence=prominence, selector=selector, plot=plot, label='mc', fig_name=figname+'_ini')\n",
    "    index_max_ini = np.argmax(peaks_y_ini)\n",
    "    variables.max_peak = peaks_ini[index_max_ini]\n",
    "    variables.peak = peaks_ini\n",
    "    mrp = (peaks_ini[index_max_ini] / (peak_widths_p_ini[index_max_ini][2] - peak_widths_p_ini[index_max_ini][1]))\n",
    "    print('Mass resolving power for the highest peak (MRP --> m/m_2-m_1):', mrp)\n",
    "    for i in range(len(peaks_ini)):\n",
    "        print('Peaks ', i, 'is at location and height: ({:.2f}, {:.2f})'.format(peaks_ini[i], peaks_y_ini[i]), 'peak window sides (half-maximum) are: ({:.2f}, {:.2f})'.format(peak_widths_p_ini[i][1], peak_widths_p_ini[i][2]))\n",
    "\n",
    "interact_manual(mc_hist_plot, t_0=widgets.FloatText(value=t0), bin_size=widgets.FloatText(value=0.1)\n",
    "               ,prominence=widgets.IntText(value=50), distance=widgets.IntText(value=100), lim_mc=widgets.IntText(value=150)\n",
    "               ,percent=widgets.IntText(value=50), selector=fixed('rect'), plot=fixed(True), figname=fixed(figname));\n"
   ]
  },
  {
   "cell_type": "code",
   "execution_count": 127,
   "metadata": {},
   "outputs": [],
   "source": [
    "bin_size=widgets.FloatText(value=0.1, description='bin size:')\n",
    "prominence=widgets.IntText(value=100, description='peak prominance:')\n",
    "distance=widgets.IntText(value=50, description='peak distance:')\n",
    "lim_tof=widgets.IntText(value=150, description='lim tof/mc:')\n",
    "percent=widgets.IntText(value=50, description='percent MRP:')\n",
    "\n",
    "def hist_plot(figname, plot):\n",
    "    \n",
    "    with out:\n",
    "        clear_output(True)\n",
    "    \n",
    "        bin_size_p = bin_size.value\n",
    "        prominence_p = prominence.value\n",
    "        distance_p = distance.value\n",
    "        lim_tof_p = lim_tof.value\n",
    "        percent_p = percent.value\n",
    "        selector='rect'\n",
    "        peaks_ini, peaks_y_ini, peak_widths_p_ini = tools.hist_plot(variables.mc_calib[variables.mc_calib < lim_tof_p], \n",
    "                                                bin_size_p, distance=distance_p, percent=percent_p, prominence=prominence_p,\n",
    "                                                                    selector=selector, plot=plot, label='mc', fig_name=figname)\n",
    "        index_max_ini = np.argmax(peaks_y_ini)\n",
    "        variables.max_peak = peaks_ini[index_max_ini]\n",
    "        variables.peak = peaks_ini\n",
    "        mrp = (peaks_ini[index_max_ini] / (peak_widths_p_ini[index_max_ini][2] - peak_widths_p_ini[index_max_ini][1]))\n",
    "        print('Mass resolving power for the highest peak (MRP --> m/m_2-m_1):', mrp)\n",
    "        for i in range(len(peaks_ini)):\n",
    "                      print('Peaks ', i, 'is at location and height: ({:.2f}, {:.2f})'.format(peaks_ini[i], peaks_y_ini[i]), 'peak window sides ({:.2f}%) are: ({:.2f}, {:.2f})'.format(percent_p, peak_widths_p_ini[i][1], peak_widths_p_ini[i][2]))"
   ]
  },
  {
   "cell_type": "code",
   "execution_count": 128,
   "metadata": {},
   "outputs": [],
   "source": [
    "sample_size_b = widgets.IntText(value=11, description='sample size:') \n",
    "index_fig_b = widgets.IntText(value=1, description='fig index:')\n",
    "plot_b = widgets.Dropdown(\n",
    "    options=[('False', False), ('True', True)],\n",
    "    description='plot fig:'\n",
    ")\n",
    "\n",
    "save_b = widgets.Dropdown(\n",
    "    options=[('False', False), ('True', True)],\n",
    "    description='save fig:'\n",
    ")\n",
    "def bowl_correction(dld_x, dld_y, dld_highVoltage, figname=figname):\n",
    "    with out:\n",
    "        sample_size_p = sample_size_b.value\n",
    "        index_fig_p = index_fig_b.value\n",
    "        plot_p = plot_b.value\n",
    "        save_p = save_b.value\n",
    "        if plot_p:\n",
    "            clear_output(True)\n",
    "\n",
    "        calibration.bowl_correction_main(dld_x, dld_y, dld_highVoltage, sample_size=sample_size_p, calibration_mode='mc',\n",
    "                                        index_fig=index_fig_p, plot=plot_p, save=save_p)\n"
   ]
  },
  {
   "cell_type": "code",
   "execution_count": 129,
   "metadata": {},
   "outputs": [],
   "source": [
    "sample_size_v =widgets.IntText(value=100, description='sample size:') \n",
    "index_fig_v = widgets.IntText(value=1, description='fig index:')\n",
    "plot_v = widgets.Dropdown(\n",
    "    options=[('False', False), ('True', True)],\n",
    "    description='plot fig:'\n",
    ")\n",
    "save_v = widgets.Dropdown(\n",
    "    options=[('False', False), ('True', True)],\n",
    "    description='save fig:'\n",
    ")\n",
    "mode_v = widgets.Dropdown(\n",
    "    options=[('ion_seq', 'ion_seq'), ('voltage', 'voltage')],\n",
    "    description='sample mode:'\n",
    ")\n",
    "def vol_correction(dld_highVoltage, figname):\n",
    "    with out:\n",
    "        sample_size_p = sample_size_v.value\n",
    "        index_fig_p = index_fig_v.value\n",
    "        plot_p = plot_v.value\n",
    "        save_p = save_v.value\n",
    "        mode_p = mode_v.value\n",
    "        if plot_p:\n",
    "            clear_output(True)\n",
    "        calibration.voltage_corr_main(dld_highVoltage, sample_size=sample_size_p, calibration_mode='mc',\n",
    "                                        index_fig=index_fig_p, plot=plot_p, save=save_p, mode=mode_p)\n"
   ]
  },
  {
   "cell_type": "code",
   "execution_count": 130,
   "metadata": {},
   "outputs": [
    {
     "data": {
      "application/vnd.jupyter.widget-view+json": {
       "model_id": "49ea6f2c2d0f44418cc188e1dae62475",
       "version_major": 2,
       "version_minor": 0
      },
      "text/plain": [
       "VBox(children=(Tab(children=(VBox(children=(FloatText(value=0.1, description='bin size:'), IntText(value=100, …"
      ]
     },
     "metadata": {},
     "output_type": "display_data"
    },
    {
     "data": {
      "application/vnd.jupyter.widget-view+json": {
       "model_id": "a4609f0c457844da959681645eee2787",
       "version_major": 2,
       "version_minor": 0
      },
      "text/plain": [
       "Output()"
      ]
     },
     "metadata": {},
     "output_type": "display_data"
    }
   ],
   "source": [
    "pb_bowl = widgets.HTML(\n",
    "    value=\" \",\n",
    "    placeholder='Status:',\n",
    "    description='Status:',\n",
    ")\n",
    "pb_vol = widgets.HTML(\n",
    "    value=\" \",\n",
    "    placeholder='Status:',\n",
    "    description='Status:',\n",
    ")\n",
    "plot_button = widgets.Button(\n",
    "    description='plot hist',\n",
    ")\n",
    "plot_fdm_button = widgets.Button(\n",
    "    description='plot FDM',\n",
    ")\n",
    "reset_button = widgets.Button(\n",
    "    description='reset back correction',\n",
    ")\n",
    "save_button = widgets.Button(\n",
    "    description='save correction',\n",
    ")\n",
    "bowl_button = widgets.Button(\n",
    "    description='bowl correction',\n",
    ")\n",
    "vol_button = widgets.Button(\n",
    "    description='voltage correction',\n",
    ")\n",
    "bin_fdm = widgets.IntText(value=256, description='bin FDM:')\n",
    "\n",
    "\n",
    "\n",
    "@plot_button.on_click\n",
    "def plot_on_click(b, figname=figname, plot=True):\n",
    "    hist_plot(figname, plot)\n",
    "\n",
    "@plot_fdm_button.on_click\n",
    "def plot_fdm_on_click(b, save=True):\n",
    "    with out:\n",
    "        clear_output(True)\n",
    "        mask_temporal = np.logical_and((variables.mc_calib > variables.selected_x1),\n",
    "                                       (variables.mc_calib < variables.selected_x2))\n",
    "        x = dld_x[mask_temporal]\n",
    "        y = dld_y[mask_temporal]\n",
    "        bin_fdm_p = bin_fdm.value\n",
    "        bins = [bin_fdm_p, bin_fdm_p]\n",
    "\n",
    "        calibration.plot_FDM(x, y, save, bins)\n",
    "    \n",
    "@reset_button.on_click\n",
    "def reset_on_click(b, figname=figname, plot=True):\n",
    "    variables.mc_calib = np.copy(variables.mc_calib_backup)\n",
    "    \n",
    "@save_button.on_click\n",
    "def save_on_click(b, figname=figname, plot=True):\n",
    "    variables.mc_calib_backup = np.copy(variables.mc_calib)   \n",
    "    \n",
    "@bowl_button.on_click\n",
    "def bowl_on_click(b, dld_x=dld_x, dld_y=dld_y, dld_highVoltage=dld_highVoltage, figname=figname):\n",
    "    pb_bowl.value = \"<b>Starting...</b>\"\n",
    "    bowl_correction(dld_x, dld_y, dld_highVoltage, figname)  \n",
    "    pb_bowl.value = \"<b>Flished</b>\"\n",
    "@vol_button.on_click\n",
    "def vol_on_click(b, dld_highVoltage=dld_highVoltage, figname=figname):\n",
    "    pb_vol.value = \"<b>Starting...</b>\"\n",
    "    vol_correction(dld_highVoltage, figname)\n",
    "    pb_vol.value = \"<b>Flished</b>\"\n",
    "    \n",
    "\n",
    "\n",
    "tab1 = VBox(children=[bin_size, prominence, distance, lim_tof, percent, bin_fdm])\n",
    "tab2 = VBox(children=[HBox(children=[sample_size_b, index_fig_b, plot_b, save_b]), bowl_button, pb_bowl])\n",
    "tab3 = VBox(children=[HBox(children=[sample_size_v, index_fig_v, mode_v, plot_v, save_v]), vol_button, pb_vol])\n",
    "\n",
    "tab = widgets.Tab(children=[tab1, tab2, tab3])\n",
    "tab.set_title(0, 'tof/mc plot')\n",
    "tab.set_title(1, 'bowl correction')\n",
    "tab.set_title(2, 'voltage correction')\n",
    "\n",
    "\n",
    "\n",
    "display(VBox(children=[tab,HBox(children=[plot_button, plot_fdm_button, save_button, reset_button])]))\n",
    "out = Output()\n",
    "display(out)"
   ]
  },
  {
   "cell_type": "code",
   "execution_count": 113,
   "metadata": {},
   "outputs": [],
   "source": [
    "variables.mc_calib_backup = np.copy(variables.mc_calib)"
   ]
  },
  {
   "cell_type": "code",
   "execution_count": 131,
   "metadata": {},
   "outputs": [],
   "source": [
    "def tof_his(bin_size, prominence, distance, percent, selector, plot, figname, lim_mc):\n",
    "    variables.peaks_idx = []\n",
    "    peaks_ini, peaks_y_ini, peak_widths_p_ini = tools.hist_plot(variables.mc_calib[variables.mc_calib < lim_mc], bin_size, distance=distance, percent=percent, prominence=prominence, selector=selector, plot=plot, label='mc', fig_name=figname)\n",
    "    index_max_ini = np.argmax(peaks_y_ini)\n",
    "    variables.max_peak = peaks_ini[index_max_ini]\n",
    "    variables.peak = peaks_ini\n",
    "    mrp = (peaks_ini[index_max_ini] / (peak_widths_p_ini[index_max_ini][2] - peak_widths_p_ini[index_max_ini][1]))\n",
    "    print('Mass resolving power for the highest peak (MRP --> m/m_2-m_1):', mrp)\n",
    "    for i in range(len(peaks_ini)):\n",
    "        print('Peaks ', i, 'is at location and height: ({:.2f}, {:.2f})'.format(peaks_ini[i], peaks_y_ini[i]), 'peak window sides (half-maximum) are: ({:.2f}, {:.2f})'.format(peak_widths_p_ini[i][1], peak_widths_p_ini[i][2]))"
   ]
  },
  {
   "cell_type": "code",
   "execution_count": 132,
   "metadata": {},
   "outputs": [
    {
     "data": {
      "application/vnd.jupyter.widget-view+json": {
       "model_id": "231719736a9b411f8eb785f349b4262a",
       "version_major": 2,
       "version_minor": 0
      },
      "text/plain": [
       "interactive(children=(FloatText(value=0.1, description='bin_size'), IntText(value=50, description='prominence'…"
      ]
     },
     "metadata": {},
     "output_type": "display_data"
    }
   ],
   "source": [
    "\n",
    "interact_manual(tof_his, bin_size=widgets.FloatText(value=0.1)\n",
    "               ,prominence=widgets.IntText(value=50), distance=widgets.IntText(value=100), lim_mc=widgets.IntText(value=150)\n",
    "               ,percent=widgets.IntText(value=50), selector=fixed('rect'), plot=fixed(True), figname=fixed(figname+'_cor'));\n"
   ]
  },
  {
   "cell_type": "code",
   "execution_count": 133,
   "metadata": {},
   "outputs": [],
   "source": [
    "data['tof_c (ns)'] = np.zeros(len(variables.mc_calib))\n",
    "data['mc_c (Da)'] = variables.mc_calib"
   ]
  },
  {
   "cell_type": "code",
   "execution_count": 134,
   "metadata": {},
   "outputs": [
    {
     "data": {
      "text/html": [
       "<div>\n",
       "<style scoped>\n",
       "    .dataframe tbody tr th:only-of-type {\n",
       "        vertical-align: middle;\n",
       "    }\n",
       "\n",
       "    .dataframe tbody tr th {\n",
       "        vertical-align: top;\n",
       "    }\n",
       "\n",
       "    .dataframe thead th {\n",
       "        text-align: right;\n",
       "    }\n",
       "</style>\n",
       "<table border=\"1\" class=\"dataframe\">\n",
       "  <thead>\n",
       "    <tr style=\"text-align: right;\">\n",
       "      <th></th>\n",
       "      <th>high_voltage (V)</th>\n",
       "      <th>pulse (V)</th>\n",
       "      <th>start_counter</th>\n",
       "      <th>t (ns)</th>\n",
       "      <th>mc (Da)</th>\n",
       "      <th>x_det (mm)</th>\n",
       "      <th>y_det (mm)</th>\n",
       "      <th>pulse_pi</th>\n",
       "      <th>ion_pp</th>\n",
       "      <th>tof_c (ns)</th>\n",
       "      <th>mc_c (Da)</th>\n",
       "    </tr>\n",
       "  </thead>\n",
       "  <tbody>\n",
       "    <tr>\n",
       "      <th>0</th>\n",
       "      <td>5259.947266</td>\n",
       "      <td>5259.947266</td>\n",
       "      <td>16984.0</td>\n",
       "      <td>629.296938</td>\n",
       "      <td>27.583287</td>\n",
       "      <td>-0.891429</td>\n",
       "      <td>12.702857</td>\n",
       "      <td>0.0</td>\n",
       "      <td>1.0</td>\n",
       "      <td>0.0</td>\n",
       "      <td>27.168454</td>\n",
       "    </tr>\n",
       "    <tr>\n",
       "      <th>1</th>\n",
       "      <td>5259.947266</td>\n",
       "      <td>5259.947266</td>\n",
       "      <td>17227.0</td>\n",
       "      <td>629.982738</td>\n",
       "      <td>26.970251</td>\n",
       "      <td>21.521633</td>\n",
       "      <td>-2.737959</td>\n",
       "      <td>243.0</td>\n",
       "      <td>1.0</td>\n",
       "      <td>0.0</td>\n",
       "      <td>27.052723</td>\n",
       "    </tr>\n",
       "    <tr>\n",
       "      <th>2</th>\n",
       "      <td>5259.947266</td>\n",
       "      <td>5259.947266</td>\n",
       "      <td>17354.0</td>\n",
       "      <td>624.873528</td>\n",
       "      <td>27.316067</td>\n",
       "      <td>3.852245</td>\n",
       "      <td>8.850612</td>\n",
       "      <td>127.0</td>\n",
       "      <td>1.0</td>\n",
       "      <td>0.0</td>\n",
       "      <td>27.012179</td>\n",
       "    </tr>\n",
       "    <tr>\n",
       "      <th>3</th>\n",
       "      <td>5259.947266</td>\n",
       "      <td>5259.947266</td>\n",
       "      <td>17697.0</td>\n",
       "      <td>628.185942</td>\n",
       "      <td>27.000529</td>\n",
       "      <td>-2.769796</td>\n",
       "      <td>-19.261224</td>\n",
       "      <td>343.0</td>\n",
       "      <td>1.0</td>\n",
       "      <td>0.0</td>\n",
       "      <td>27.033755</td>\n",
       "    </tr>\n",
       "    <tr>\n",
       "      <th>4</th>\n",
       "      <td>5259.947266</td>\n",
       "      <td>5259.947266</td>\n",
       "      <td>17718.0</td>\n",
       "      <td>628.803162</td>\n",
       "      <td>26.887388</td>\n",
       "      <td>19.006531</td>\n",
       "      <td>-9.837551</td>\n",
       "      <td>21.0</td>\n",
       "      <td>1.0</td>\n",
       "      <td>0.0</td>\n",
       "      <td>27.018005</td>\n",
       "    </tr>\n",
       "    <tr>\n",
       "      <th>...</th>\n",
       "      <td>...</td>\n",
       "      <td>...</td>\n",
       "      <td>...</td>\n",
       "      <td>...</td>\n",
       "      <td>...</td>\n",
       "      <td>...</td>\n",
       "      <td>...</td>\n",
       "      <td>...</td>\n",
       "      <td>...</td>\n",
       "      <td>...</td>\n",
       "      <td>...</td>\n",
       "    </tr>\n",
       "    <tr>\n",
       "      <th>1875505</th>\n",
       "      <td>5710.552734</td>\n",
       "      <td>5710.552734</td>\n",
       "      <td>15857.0</td>\n",
       "      <td>602.687898</td>\n",
       "      <td>26.957421</td>\n",
       "      <td>11.684082</td>\n",
       "      <td>-12.607347</td>\n",
       "      <td>740.0</td>\n",
       "      <td>1.0</td>\n",
       "      <td>0.0</td>\n",
       "      <td>26.940142</td>\n",
       "    </tr>\n",
       "    <tr>\n",
       "      <th>1875506</th>\n",
       "      <td>5710.552734</td>\n",
       "      <td>5710.552734</td>\n",
       "      <td>16295.0</td>\n",
       "      <td>689.050692</td>\n",
       "      <td>34.879355</td>\n",
       "      <td>25.151020</td>\n",
       "      <td>9.296327</td>\n",
       "      <td>438.0</td>\n",
       "      <td>1.0</td>\n",
       "      <td>0.0</td>\n",
       "      <td>34.807534</td>\n",
       "    </tr>\n",
       "    <tr>\n",
       "      <th>1875507</th>\n",
       "      <td>5710.552734</td>\n",
       "      <td>5710.552734</td>\n",
       "      <td>16329.0</td>\n",
       "      <td>614.613960</td>\n",
       "      <td>27.623357</td>\n",
       "      <td>-22.317551</td>\n",
       "      <td>5.284898</td>\n",
       "      <td>34.0</td>\n",
       "      <td>1.0</td>\n",
       "      <td>0.0</td>\n",
       "      <td>26.948361</td>\n",
       "    </tr>\n",
       "    <tr>\n",
       "      <th>1875508</th>\n",
       "      <td>5710.552734</td>\n",
       "      <td>5710.552734</td>\n",
       "      <td>16370.0</td>\n",
       "      <td>456.818238</td>\n",
       "      <td>13.847658</td>\n",
       "      <td>-23.336327</td>\n",
       "      <td>-19.993469</td>\n",
       "      <td>41.0</td>\n",
       "      <td>1.0</td>\n",
       "      <td>0.0</td>\n",
       "      <td>13.745682</td>\n",
       "    </tr>\n",
       "    <tr>\n",
       "      <th>1875509</th>\n",
       "      <td>5710.552734</td>\n",
       "      <td>5710.552734</td>\n",
       "      <td>16449.0</td>\n",
       "      <td>614.579670</td>\n",
       "      <td>27.161908</td>\n",
       "      <td>22.126531</td>\n",
       "      <td>15.791020</td>\n",
       "      <td>79.0</td>\n",
       "      <td>1.0</td>\n",
       "      <td>0.0</td>\n",
       "      <td>27.010910</td>\n",
       "    </tr>\n",
       "  </tbody>\n",
       "</table>\n",
       "<p>1875510 rows × 11 columns</p>\n",
       "</div>"
      ],
      "text/plain": [
       "         high_voltage (V)    pulse (V)  start_counter      t (ns)    mc (Da)  \\\n",
       "0             5259.947266  5259.947266        16984.0  629.296938  27.583287   \n",
       "1             5259.947266  5259.947266        17227.0  629.982738  26.970251   \n",
       "2             5259.947266  5259.947266        17354.0  624.873528  27.316067   \n",
       "3             5259.947266  5259.947266        17697.0  628.185942  27.000529   \n",
       "4             5259.947266  5259.947266        17718.0  628.803162  26.887388   \n",
       "...                   ...          ...            ...         ...        ...   \n",
       "1875505       5710.552734  5710.552734        15857.0  602.687898  26.957421   \n",
       "1875506       5710.552734  5710.552734        16295.0  689.050692  34.879355   \n",
       "1875507       5710.552734  5710.552734        16329.0  614.613960  27.623357   \n",
       "1875508       5710.552734  5710.552734        16370.0  456.818238  13.847658   \n",
       "1875509       5710.552734  5710.552734        16449.0  614.579670  27.161908   \n",
       "\n",
       "         x_det (mm)  y_det (mm)  pulse_pi  ion_pp  tof_c (ns)  mc_c (Da)  \n",
       "0         -0.891429   12.702857       0.0     1.0         0.0  27.168454  \n",
       "1         21.521633   -2.737959     243.0     1.0         0.0  27.052723  \n",
       "2          3.852245    8.850612     127.0     1.0         0.0  27.012179  \n",
       "3         -2.769796  -19.261224     343.0     1.0         0.0  27.033755  \n",
       "4         19.006531   -9.837551      21.0     1.0         0.0  27.018005  \n",
       "...             ...         ...       ...     ...         ...        ...  \n",
       "1875505   11.684082  -12.607347     740.0     1.0         0.0  26.940142  \n",
       "1875506   25.151020    9.296327     438.0     1.0         0.0  34.807534  \n",
       "1875507  -22.317551    5.284898      34.0     1.0         0.0  26.948361  \n",
       "1875508  -23.336327  -19.993469      41.0     1.0         0.0  13.745682  \n",
       "1875509   22.126531   15.791020      79.0     1.0         0.0  27.010910  \n",
       "\n",
       "[1875510 rows x 11 columns]"
      ]
     },
     "execution_count": 134,
     "metadata": {},
     "output_type": "execute_result"
    }
   ],
   "source": [
    "data"
   ]
  },
  {
   "cell_type": "code",
   "execution_count": 135,
   "metadata": {},
   "outputs": [],
   "source": [
    "# save the new data\n",
    "name_save_file = variables.result_path + '//' + dataset_name + '.h5'\n",
    "data_tools.store_df_to_hdf(name_save_file, data, 'df')"
   ]
  },
  {
   "cell_type": "code",
   "execution_count": null,
   "metadata": {},
   "outputs": [],
   "source": [
    "# save data as epos file\n",
    "epos = hdf_to_leap.hdf5_to_epos(data_crop_FDM, path=variables.result_path, name=dataset_name + '.epos')\n",
    "pos = hdf_to_leap.hdf5_to_pos(data_crop_FDM, path=variables.result_path, name=dataset_name + '.POS')"
   ]
  },
  {
   "cell_type": "code",
   "execution_count": 136,
   "metadata": {},
   "outputs": [],
   "source": [
    "# save data in csv format\n",
    "data_tools.store_df_to_csv(data, variables.result_path + dataset_name + '.csv')"
   ]
  },
  {
   "cell_type": "code",
   "execution_count": null,
   "metadata": {},
   "outputs": [],
   "source": []
  }
 ],
 "metadata": {
  "kernelspec": {
   "display_name": "Python 3 (ipykernel)",
   "language": "python",
   "name": "python3"
  },
  "language_info": {
   "codemirror_mode": {
    "name": "ipython",
    "version": 3
   },
   "file_extension": ".py",
   "mimetype": "text/x-python",
   "name": "python",
   "nbconvert_exporter": "python",
   "pygments_lexer": "ipython3",
   "version": "3.9.12"
  }
 },
 "nbformat": 4,
 "nbformat_minor": 4
}

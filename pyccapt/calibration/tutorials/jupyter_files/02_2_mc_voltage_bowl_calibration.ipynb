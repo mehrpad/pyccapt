{
 "cells": [
  {
   "cell_type": "code",
   "execution_count": 1,
   "metadata": {
    "pycharm": {
     "name": "#%%\n"
    }
   },
   "outputs": [],
   "source": [
    "%matplotlib ipympl\n",
    "import os\n",
    "import os.path as path\n",
    "import numpy as np\n",
    "from scipy.optimize import curve_fit\n",
    "from scipy import interpolate\n",
    "from sklearn.preprocessing import MinMaxScaler\n",
    "import matplotlib.pyplot as plt\n",
    "from ipywidgets import fixed, interact_manual, widgets\n",
    "from ipywidgets import HBox, VBox\n",
    "from IPython.display import clear_output\n",
    "from IPython.display import display\n",
    "from ipywidgets import IntSlider, Output\n",
    "from itertools import product\n",
    "from scipy.signal import find_peaks\n",
    "import math\n",
    "from mpl_toolkits.mplot3d import Axes3D\n",
    "\n",
    "# Local module and scripts\n",
    "from pyccapt.calibration.calibration_tools import tools, variables, calibration\n",
    "from pyccapt.calibration.calibration_tools import widgets as wd\n",
    "from pyccapt.calibration.data_tools import data_tools, data_loadcrop, dataset_path_qt\n",
    "from pyccapt.calibration.mc import mc_tools\n",
    "from pyccapt.calibration.leap_tools import ccapt_tools"
   ]
  },
  {
   "cell_type": "code",
   "execution_count": 2,
   "metadata": {
    "tags": []
   },
   "outputs": [],
   "source": [
    "%load_ext autoreload\n",
    "%autoreload 2"
   ]
  },
  {
   "cell_type": "code",
   "execution_count": 3,
   "metadata": {
    "tags": []
   },
   "outputs": [],
   "source": [
    "%reload_ext autoreload"
   ]
  },
  {
   "cell_type": "code",
   "execution_count": 4,
   "metadata": {
    "pycharm": {
     "name": "#%%\n"
    }
   },
   "outputs": [],
   "source": [
    "# Disable showing logging in Jupyter notebook\n",
    "import logging, sys\n",
    "logging.disable(sys.maxsize)\n",
    "save_fig=False\n",
    "plot_fig=True "
   ]
  },
  {
   "cell_type": "code",
   "execution_count": 5,
   "metadata": {},
   "outputs": [
    {
     "data": {
      "application/vnd.jupyter.widget-view+json": {
       "model_id": "8a119e783619491b9bf4efacb481f773",
       "version_major": 2,
       "version_minor": 0
      },
      "text/plain": [
       "Button(description='load dataset', style=ButtonStyle())"
      ]
     },
     "execution_count": 5,
     "metadata": {},
     "output_type": "execute_result"
    }
   ],
   "source": [
    "button = widgets.Button(\n",
    "    description='load dataset',\n",
    ")\n",
    "\n",
    "@button.on_click\n",
    "def open_file_on_click(b):\n",
    "    global dataset_path\n",
    "    dataset_path = dataset_path_qt.gui_fname().decode('ASCII')\n",
    "button"
   ]
  },
  {
   "cell_type": "code",
   "execution_count": 8,
   "metadata": {},
   "outputs": [
    {
     "data": {
      "application/vnd.jupyter.widget-view+json": {
       "model_id": "848886bceb3a42dd8a208133b024a75c",
       "version_major": 2,
       "version_minor": 0
      },
      "text/plain": [
       "Dropdown(description='Data mode:', options=('surface_concept', 'roentdec', 'leap_epos', 'leap_pos'), value='su…"
      ]
     },
     "metadata": {},
     "output_type": "display_data"
    },
    {
     "data": {
      "application/vnd.jupyter.widget-view+json": {
       "model_id": "6f5b445d92d041e49f25127a139a6e8a",
       "version_major": 2,
       "version_minor": 0
      },
      "text/plain": [
       "Dropdown(description='Pulse mode:', options=('voltage', 'laser'), value='voltage')"
      ]
     },
     "metadata": {},
     "output_type": "display_data"
    },
    {
     "data": {
      "application/vnd.jupyter.widget-view+json": {
       "model_id": "d84cd342e4724f2eabdca9ca0faf66e2",
       "version_major": 2,
       "version_minor": 0
      },
      "text/plain": [
       "FloatText(value=110.0, description='Flight path length:')"
      ]
     },
     "metadata": {},
     "output_type": "display_data"
    },
    {
     "data": {
      "application/vnd.jupyter.widget-view+json": {
       "model_id": "ceaff7eac88d4e2f89406ffbf990685f",
       "version_major": 2,
       "version_minor": 0
      },
      "text/plain": [
       "FloatText(value=54.0, description='t0:')"
      ]
     },
     "metadata": {},
     "output_type": "display_data"
    },
    {
     "data": {
      "application/vnd.jupyter.widget-view+json": {
       "model_id": "2294a437bbf54ff0b83a9745b3acf786",
       "version_major": 2,
       "version_minor": 0
      },
      "text/plain": [
       "FloatText(value=400.0, description='Max mc:')"
      ]
     },
     "metadata": {},
     "output_type": "display_data"
    },
    {
     "data": {
      "application/vnd.jupyter.widget-view+json": {
       "model_id": "3a921c9bbb914cb09694d54c28884bad",
       "version_major": 2,
       "version_minor": 0
      },
      "text/plain": [
       "FloatText(value=78.0, description='Detector diameter:')"
      ]
     },
     "metadata": {},
     "output_type": "display_data"
    }
   ],
   "source": [
    "tdc, pulse_mode, flightPathLength_d, t0_d, max_mc, det_diam = wd.dataset_tdc_selection()\n",
    "display(tdc, pulse_mode, flightPathLength_d, t0_d, max_mc, det_diam)"
   ]
  },
  {
   "cell_type": "markdown",
   "metadata": {
    "pycharm": {
     "name": "#%% md\n"
    }
   },
   "source": [
    "$$\\textbf{You can specify which dataset to use in below block}$$"
   ]
  },
  {
   "cell_type": "code",
   "execution_count": 9,
   "metadata": {
    "pycharm": {
     "name": "#%%\n"
    }
   },
   "outputs": [],
   "source": [
    "dataset_main_path = os.path.dirname(dataset_path)\n",
    "dataset_name_with_extention = os.path.basename(dataset_path)\n",
    "dataset_name = os.path.splitext(dataset_name_with_extention)[0]\n",
    "\n",
    "\n",
    "variables.init()\n",
    "\n",
    "variables.result_path = os.path.dirname(dataset_main_path) + '/mc_calibration/'\n",
    "if not os.path.isdir(variables.result_path):\n",
    "    os.makedirs(variables.result_path, mode=0o777, exist_ok=True)\n",
    "        \n",
    "filename = dataset_path\n",
    "\n",
    "head, tail = os.path.split(filename)\n",
    "figname = os.path.splitext(tail)[0]\n",
    "\n",
    "if tdc.value == 'leap_pos' or tdc.value == 'leap_epos':\n",
    "    if tdc.value == 'leap_epos':\n",
    "        data = ccapt_tools.epos_to_ccapt(filename)\n",
    "    else:\n",
    "        print('The file has to be epos. With pos information this tutorial cannot be run')\n",
    "        data = ccapt_tools.pos_to_ccapt(filename)\n",
    "else:\n",
    "    data = data_tools.read_hdf5_through_pandas(filename)\n"
   ]
  },
  {
   "cell_type": "code",
   "execution_count": 10,
   "metadata": {
    "pycharm": {
     "name": "#%%\n"
    }
   },
   "outputs": [
    {
     "data": {
      "text/html": [
       "<div>\n",
       "<style scoped>\n",
       "    .dataframe tbody tr th:only-of-type {\n",
       "        vertical-align: middle;\n",
       "    }\n",
       "\n",
       "    .dataframe tbody tr th {\n",
       "        vertical-align: top;\n",
       "    }\n",
       "\n",
       "    .dataframe thead th {\n",
       "        text-align: right;\n",
       "    }\n",
       "</style>\n",
       "<table border=\"1\" class=\"dataframe\">\n",
       "  <thead>\n",
       "    <tr style=\"text-align: right;\">\n",
       "      <th></th>\n",
       "      <th>x (nm)</th>\n",
       "      <th>y (nm)</th>\n",
       "      <th>z (nm)</th>\n",
       "      <th>mc_c (Da)</th>\n",
       "      <th>mc (Da)</th>\n",
       "      <th>high_voltage (V)</th>\n",
       "      <th>pulse (V)</th>\n",
       "      <th>start_counter</th>\n",
       "      <th>t (ns)</th>\n",
       "      <th>t_c (nm)</th>\n",
       "      <th>x_det (cm)</th>\n",
       "      <th>y_det (cm)</th>\n",
       "      <th>pulse_pi</th>\n",
       "      <th>ion_pp</th>\n",
       "    </tr>\n",
       "  </thead>\n",
       "  <tbody>\n",
       "    <tr>\n",
       "      <th>0</th>\n",
       "      <td>0.0</td>\n",
       "      <td>0.0</td>\n",
       "      <td>0.0</td>\n",
       "      <td>0.0</td>\n",
       "      <td>26.651289</td>\n",
       "      <td>3738.356445</td>\n",
       "      <td>3738.356445</td>\n",
       "      <td>10164.0</td>\n",
       "      <td>721.125558</td>\n",
       "      <td>0.0</td>\n",
       "      <td>0.299265</td>\n",
       "      <td>-0.264245</td>\n",
       "      <td>0</td>\n",
       "      <td>1</td>\n",
       "    </tr>\n",
       "    <tr>\n",
       "      <th>1</th>\n",
       "      <td>0.0</td>\n",
       "      <td>0.0</td>\n",
       "      <td>0.0</td>\n",
       "      <td>0.0</td>\n",
       "      <td>26.623950</td>\n",
       "      <td>3738.356445</td>\n",
       "      <td>3738.356445</td>\n",
       "      <td>10264.0</td>\n",
       "      <td>721.297008</td>\n",
       "      <td>0.0</td>\n",
       "      <td>0.117796</td>\n",
       "      <td>-0.576245</td>\n",
       "      <td>100</td>\n",
       "      <td>1</td>\n",
       "    </tr>\n",
       "    <tr>\n",
       "      <th>2</th>\n",
       "      <td>0.0</td>\n",
       "      <td>0.0</td>\n",
       "      <td>0.0</td>\n",
       "      <td>0.0</td>\n",
       "      <td>26.947230</td>\n",
       "      <td>3738.356445</td>\n",
       "      <td>3738.356445</td>\n",
       "      <td>10318.0</td>\n",
       "      <td>725.356944</td>\n",
       "      <td>0.0</td>\n",
       "      <td>0.073224</td>\n",
       "      <td>-0.585796</td>\n",
       "      <td>54</td>\n",
       "      <td>1</td>\n",
       "    </tr>\n",
       "    <tr>\n",
       "      <th>3</th>\n",
       "      <td>0.0</td>\n",
       "      <td>0.0</td>\n",
       "      <td>0.0</td>\n",
       "      <td>0.0</td>\n",
       "      <td>26.543927</td>\n",
       "      <td>3738.356445</td>\n",
       "      <td>3738.356445</td>\n",
       "      <td>10384.0</td>\n",
       "      <td>723.923622</td>\n",
       "      <td>0.0</td>\n",
       "      <td>0.397959</td>\n",
       "      <td>1.228898</td>\n",
       "      <td>66</td>\n",
       "      <td>1</td>\n",
       "    </tr>\n",
       "    <tr>\n",
       "      <th>4</th>\n",
       "      <td>0.0</td>\n",
       "      <td>0.0</td>\n",
       "      <td>0.0</td>\n",
       "      <td>0.0</td>\n",
       "      <td>263.962570</td>\n",
       "      <td>3738.356445</td>\n",
       "      <td>3738.356445</td>\n",
       "      <td>10556.0</td>\n",
       "      <td>2164.617972</td>\n",
       "      <td>0.0</td>\n",
       "      <td>-0.630367</td>\n",
       "      <td>0.694041</td>\n",
       "      <td>172</td>\n",
       "      <td>1</td>\n",
       "    </tr>\n",
       "    <tr>\n",
       "      <th>...</th>\n",
       "      <td>...</td>\n",
       "      <td>...</td>\n",
       "      <td>...</td>\n",
       "      <td>...</td>\n",
       "      <td>...</td>\n",
       "      <td>...</td>\n",
       "      <td>...</td>\n",
       "      <td>...</td>\n",
       "      <td>...</td>\n",
       "      <td>...</td>\n",
       "      <td>...</td>\n",
       "      <td>...</td>\n",
       "      <td>...</td>\n",
       "      <td>...</td>\n",
       "    </tr>\n",
       "    <tr>\n",
       "      <th>6252145</th>\n",
       "      <td>0.0</td>\n",
       "      <td>0.0</td>\n",
       "      <td>0.0</td>\n",
       "      <td>0.0</td>\n",
       "      <td>26.359344</td>\n",
       "      <td>7246.866211</td>\n",
       "      <td>7246.866211</td>\n",
       "      <td>18886.0</td>\n",
       "      <td>551.760390</td>\n",
       "      <td>0.0</td>\n",
       "      <td>-1.980245</td>\n",
       "      <td>-2.753878</td>\n",
       "      <td>152</td>\n",
       "      <td>1</td>\n",
       "    </tr>\n",
       "    <tr>\n",
       "      <th>6252146</th>\n",
       "      <td>0.0</td>\n",
       "      <td>0.0</td>\n",
       "      <td>0.0</td>\n",
       "      <td>0.0</td>\n",
       "      <td>27.402419</td>\n",
       "      <td>7246.866211</td>\n",
       "      <td>7246.866211</td>\n",
       "      <td>18913.0</td>\n",
       "      <td>557.308512</td>\n",
       "      <td>0.0</td>\n",
       "      <td>-1.744653</td>\n",
       "      <td>-2.502367</td>\n",
       "      <td>27</td>\n",
       "      <td>1</td>\n",
       "    </tr>\n",
       "    <tr>\n",
       "      <th>6252147</th>\n",
       "      <td>0.0</td>\n",
       "      <td>0.0</td>\n",
       "      <td>0.0</td>\n",
       "      <td>0.0</td>\n",
       "      <td>28.061340</td>\n",
       "      <td>7246.866211</td>\n",
       "      <td>7246.866211</td>\n",
       "      <td>19050.0</td>\n",
       "      <td>564.276240</td>\n",
       "      <td>0.0</td>\n",
       "      <td>-2.999020</td>\n",
       "      <td>-0.885061</td>\n",
       "      <td>137</td>\n",
       "      <td>1</td>\n",
       "    </tr>\n",
       "    <tr>\n",
       "      <th>6252148</th>\n",
       "      <td>0.0</td>\n",
       "      <td>0.0</td>\n",
       "      <td>0.0</td>\n",
       "      <td>0.0</td>\n",
       "      <td>27.803238</td>\n",
       "      <td>7246.866211</td>\n",
       "      <td>7246.866211</td>\n",
       "      <td>19225.0</td>\n",
       "      <td>547.103808</td>\n",
       "      <td>0.0</td>\n",
       "      <td>-1.149306</td>\n",
       "      <td>0.986939</td>\n",
       "      <td>175</td>\n",
       "      <td>1</td>\n",
       "    </tr>\n",
       "    <tr>\n",
       "      <th>6252149</th>\n",
       "      <td>0.0</td>\n",
       "      <td>0.0</td>\n",
       "      <td>0.0</td>\n",
       "      <td>0.0</td>\n",
       "      <td>26.625241</td>\n",
       "      <td>7246.866211</td>\n",
       "      <td>7246.866211</td>\n",
       "      <td>19241.0</td>\n",
       "      <td>533.566116</td>\n",
       "      <td>0.0</td>\n",
       "      <td>0.054122</td>\n",
       "      <td>0.897796</td>\n",
       "      <td>16</td>\n",
       "      <td>1</td>\n",
       "    </tr>\n",
       "  </tbody>\n",
       "</table>\n",
       "<p>6252150 rows × 14 columns</p>\n",
       "</div>"
      ],
      "text/plain": [
       "         x (nm)  y (nm)  z (nm)  mc_c (Da)     mc (Da)  high_voltage (V)  \\\n",
       "0           0.0     0.0     0.0        0.0   26.651289       3738.356445   \n",
       "1           0.0     0.0     0.0        0.0   26.623950       3738.356445   \n",
       "2           0.0     0.0     0.0        0.0   26.947230       3738.356445   \n",
       "3           0.0     0.0     0.0        0.0   26.543927       3738.356445   \n",
       "4           0.0     0.0     0.0        0.0  263.962570       3738.356445   \n",
       "...         ...     ...     ...        ...         ...               ...   \n",
       "6252145     0.0     0.0     0.0        0.0   26.359344       7246.866211   \n",
       "6252146     0.0     0.0     0.0        0.0   27.402419       7246.866211   \n",
       "6252147     0.0     0.0     0.0        0.0   28.061340       7246.866211   \n",
       "6252148     0.0     0.0     0.0        0.0   27.803238       7246.866211   \n",
       "6252149     0.0     0.0     0.0        0.0   26.625241       7246.866211   \n",
       "\n",
       "           pulse (V)  start_counter       t (ns)  t_c (nm)  x_det (cm)  \\\n",
       "0        3738.356445        10164.0   721.125558       0.0    0.299265   \n",
       "1        3738.356445        10264.0   721.297008       0.0    0.117796   \n",
       "2        3738.356445        10318.0   725.356944       0.0    0.073224   \n",
       "3        3738.356445        10384.0   723.923622       0.0    0.397959   \n",
       "4        3738.356445        10556.0  2164.617972       0.0   -0.630367   \n",
       "...              ...            ...          ...       ...         ...   \n",
       "6252145  7246.866211        18886.0   551.760390       0.0   -1.980245   \n",
       "6252146  7246.866211        18913.0   557.308512       0.0   -1.744653   \n",
       "6252147  7246.866211        19050.0   564.276240       0.0   -2.999020   \n",
       "6252148  7246.866211        19225.0   547.103808       0.0   -1.149306   \n",
       "6252149  7246.866211        19241.0   533.566116       0.0    0.054122   \n",
       "\n",
       "         y_det (cm)  pulse_pi  ion_pp  \n",
       "0         -0.264245         0       1  \n",
       "1         -0.576245       100       1  \n",
       "2         -0.585796        54       1  \n",
       "3          1.228898        66       1  \n",
       "4          0.694041       172       1  \n",
       "...             ...       ...     ...  \n",
       "6252145   -2.753878       152       1  \n",
       "6252146   -2.502367        27       1  \n",
       "6252147   -0.885061       137       1  \n",
       "6252148    0.986939       175       1  \n",
       "6252149    0.897796        16       1  \n",
       "\n",
       "[6252150 rows x 14 columns]"
      ]
     },
     "execution_count": 10,
     "metadata": {},
     "output_type": "execute_result"
    }
   ],
   "source": [
    "data"
   ]
  },
  {
   "cell_type": "code",
   "execution_count": 11,
   "metadata": {},
   "outputs": [
    {
     "data": {
      "application/vnd.jupyter.widget-view+json": {
       "model_id": "9e0c8dddcb37448796c08b9702d4d5cb",
       "version_major": 2,
       "version_minor": 0
      },
      "image/png": "[encoded data removed]",
      "text/html": [
       "\n",
       "            <div style=\"display: inline-block;\">\n",
       "                <div class=\"jupyter-widgets widget-label\" style=\"text-align: center;\">\n",
       "                    Figure\n",
       "                </div>\n",
       "                <img src='data:image/png;base64,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' width=433.0708661417323/>\n",
       "            </div>\n",
       "        "
      ],
      "text/plain": [
       "Canvas(toolbar=Toolbar(toolitems=[('Home', 'Reset original view', 'home', 'home'), ('Back', 'Back to previous …"
      ]
     },
     "metadata": {},
     "output_type": "display_data"
    }
   ],
   "source": [
    "data_loadcrop.plot_crop_experimetn_history(data, save_name=variables.result_path + '//ex_hist_' + dataset_name)\n"
   ]
  },
  {
   "cell_type": "code",
   "execution_count": 13,
   "metadata": {},
   "outputs": [],
   "source": [
    "# exctract needed data from Pandas data frame as an numpy array\n",
    "dld_highVoltage = data['high_voltage (V)'].to_numpy()\n",
    "dld_pulseVoltage = data['pulse'].to_numpy()\n",
    "dld_t = data['t (ns)'].to_numpy()\n",
    "dld_x = data['x_det (cm)'].to_numpy()\n",
    "dld_y = data['y_det (cm)'].to_numpy()\n",
    "mc = data['mc (Da)'].to_numpy()\n",
    "# copy dld_t to a have a global version of that\n",
    "variables.dld_t_calib = np.copy(dld_t)\n",
    "# variables.mc_calib = np.copy(mc)\n",
    "# variables.mc_calib_backup = np.copy(mc)"
   ]
  },
  {
   "cell_type": "code",
   "execution_count": 14,
   "metadata": {
    "tags": []
   },
   "outputs": [
    {
     "ename": "ValueError",
     "evalue": "attempt to get argmax of an empty sequence",
     "output_type": "error",
     "traceback": [
      "\u001b[1;31m---------------------------------------------------------------------------\u001b[0m",
      "\u001b[1;31mValueError\u001b[0m                                Traceback (most recent call last)",
      "Cell \u001b[1;32mIn[14], line 1\u001b[0m\n\u001b[1;32m----> 1\u001b[0m peaks_ini, peaks_y_ini, peak_widths_p_ini, _ \u001b[38;5;241m=\u001b[39m \u001b[43mtools\u001b[49m\u001b[38;5;241;43m.\u001b[39;49m\u001b[43mhist_plot\u001b[49m\u001b[43m(\u001b[49m\u001b[43mdata\u001b[49m\u001b[43m[\u001b[49m\u001b[38;5;124;43m'\u001b[39;49m\u001b[38;5;124;43mmc_c (Da)\u001b[39;49m\u001b[38;5;124;43m'\u001b[39;49m\u001b[43m]\u001b[49m\u001b[38;5;241;43m.\u001b[39;49m\u001b[43mto_numpy\u001b[49m\u001b[43m(\u001b[49m\u001b[43m)\u001b[49m\u001b[43m[\u001b[49m\u001b[43mdata\u001b[49m\u001b[43m[\u001b[49m\u001b[38;5;124;43m'\u001b[39;49m\u001b[38;5;124;43mmc_c (Da)\u001b[39;49m\u001b[38;5;124;43m'\u001b[39;49m\u001b[43m]\u001b[49m\u001b[38;5;241;43m.\u001b[39;49m\u001b[43mto_numpy\u001b[49m\u001b[43m(\u001b[49m\u001b[43m)\u001b[49m\u001b[43m \u001b[49m\u001b[38;5;241;43m<\u001b[39;49m\u001b[43m \u001b[49m\u001b[38;5;241;43m300\u001b[39;49m\u001b[43m]\u001b[49m\u001b[43m,\u001b[49m\u001b[43m \u001b[49m\u001b[38;5;241;43m0.1\u001b[39;49m\u001b[43m,\u001b[49m\u001b[43m \u001b[49m\u001b[43mdistance\u001b[49m\u001b[38;5;241;43m=\u001b[39;49m\u001b[38;5;241;43m100\u001b[39;49m\u001b[43m,\u001b[49m\u001b[43m \u001b[49m\u001b[43mpercent\u001b[49m\u001b[38;5;241;43m=\u001b[39;49m\u001b[38;5;241;43m50\u001b[39;49m\u001b[43m,\u001b[49m\u001b[43m \u001b[49m\u001b[43mprominence\u001b[49m\u001b[38;5;241;43m=\u001b[39;49m\u001b[38;5;241;43m100\u001b[39;49m\u001b[43m,\u001b[49m\u001b[43m \u001b[49m\u001b[43mpeaks_find_plot\u001b[49m\u001b[38;5;241;43m=\u001b[39;49m\u001b[38;5;28;43;01mFalse\u001b[39;49;00m\u001b[43m,\u001b[49m\u001b[43m \u001b[49m\u001b[43mselector\u001b[49m\u001b[38;5;241;43m=\u001b[39;49m\u001b[38;5;124;43m'\u001b[39;49m\u001b[38;5;124;43mrect\u001b[39;49m\u001b[38;5;124;43m'\u001b[39;49m\u001b[43m,\u001b[49m\u001b[43m \u001b[49m\u001b[43mplot\u001b[49m\u001b[38;5;241;43m=\u001b[39;49m\u001b[38;5;28;43;01mTrue\u001b[39;49;00m\u001b[43m,\u001b[49m\u001b[43m \u001b[49m\u001b[43mlabel\u001b[49m\u001b[38;5;241;43m=\u001b[39;49m\u001b[38;5;124;43m'\u001b[39;49m\u001b[38;5;124;43mmc\u001b[39;49m\u001b[38;5;124;43m'\u001b[39;49m\u001b[43m,\u001b[49m\u001b[43m \u001b[49m\u001b[43mfig_name\u001b[49m\u001b[38;5;241;43m=\u001b[39;49m\u001b[43mfigname\u001b[49m\u001b[38;5;241;43m+\u001b[39;49m\u001b[38;5;124;43m'\u001b[39;49m\u001b[38;5;124;43m_ini\u001b[39;49m\u001b[38;5;124;43m'\u001b[39;49m\u001b[43m)\u001b[49m\n",
      "File \u001b[1;32md:\\pyccapt\\pyccapt\\calibration\\calibration_tools\\tools.py:66\u001b[0m, in \u001b[0;36mhist_plot\u001b[1;34m(mc_tof, bin, range_data, mc_peak_label, adjust_label, ranging, log, mode, percent, peaks_find, peaks_find_plot, plot, prominence, distance, h_line, selector, fast_hist, fig_name, text_loc, label, peak_val_plot, fig_size, background)\u001b[0m\n\u001b[0;32m     64\u001b[0m \u001b[38;5;28;01mif\u001b[39;00m peaks_find:\n\u001b[0;32m     65\u001b[0m     peaks, properties \u001b[38;5;241m=\u001b[39m find_peaks(y, prominence\u001b[38;5;241m=\u001b[39mprominence, distance\u001b[38;5;241m=\u001b[39mdistance, height\u001b[38;5;241m=\u001b[39m\u001b[38;5;241m0\u001b[39m)\n\u001b[1;32m---> 66\u001b[0m     index_peak_max \u001b[38;5;241m=\u001b[39m \u001b[43mnp\u001b[49m\u001b[38;5;241;43m.\u001b[39;49m\u001b[43margmax\u001b[49m\u001b[43m(\u001b[49m\u001b[43mproperties\u001b[49m\u001b[43m[\u001b[49m\u001b[38;5;124;43m'\u001b[39;49m\u001b[38;5;124;43mpeak_heights\u001b[39;49m\u001b[38;5;124;43m'\u001b[39;49m\u001b[43m]\u001b[49m\u001b[43m)\u001b[49m\n\u001b[0;32m     67\u001b[0m     \u001b[38;5;66;03m# find peak width\u001b[39;00m\n\u001b[0;32m     68\u001b[0m     peak_widths_p \u001b[38;5;241m=\u001b[39m peak_widths(y, peaks, rel_height\u001b[38;5;241m=\u001b[39m(percent \u001b[38;5;241m/\u001b[39m \u001b[38;5;241m100\u001b[39m), prominence_data\u001b[38;5;241m=\u001b[39m\u001b[38;5;28;01mNone\u001b[39;00m)\n",
      "File \u001b[1;32m<__array_function__ internals>:180\u001b[0m, in \u001b[0;36margmax\u001b[1;34m(*args, **kwargs)\u001b[0m\n",
      "File \u001b[1;32m~\\.conda\\envs\\oxcart5\\lib\\site-packages\\numpy\\core\\fromnumeric.py:1216\u001b[0m, in \u001b[0;36margmax\u001b[1;34m(a, axis, out, keepdims)\u001b[0m\n\u001b[0;32m   1129\u001b[0m \u001b[38;5;250m\u001b[39m\u001b[38;5;124;03m\"\"\"\u001b[39;00m\n\u001b[0;32m   1130\u001b[0m \u001b[38;5;124;03mReturns the indices of the maximum values along an axis.\u001b[39;00m\n\u001b[0;32m   1131\u001b[0m \n\u001b[1;32m   (...)\u001b[0m\n\u001b[0;32m   1213\u001b[0m \u001b[38;5;124;03m(2, 1, 4)\u001b[39;00m\n\u001b[0;32m   1214\u001b[0m \u001b[38;5;124;03m\"\"\"\u001b[39;00m\n\u001b[0;32m   1215\u001b[0m kwds \u001b[38;5;241m=\u001b[39m {\u001b[38;5;124m'\u001b[39m\u001b[38;5;124mkeepdims\u001b[39m\u001b[38;5;124m'\u001b[39m: keepdims} \u001b[38;5;28;01mif\u001b[39;00m keepdims \u001b[38;5;129;01mis\u001b[39;00m \u001b[38;5;129;01mnot\u001b[39;00m np\u001b[38;5;241m.\u001b[39m_NoValue \u001b[38;5;28;01melse\u001b[39;00m {}\n\u001b[1;32m-> 1216\u001b[0m \u001b[38;5;28;01mreturn\u001b[39;00m \u001b[43m_wrapfunc\u001b[49m\u001b[43m(\u001b[49m\u001b[43ma\u001b[49m\u001b[43m,\u001b[49m\u001b[43m \u001b[49m\u001b[38;5;124;43m'\u001b[39;49m\u001b[38;5;124;43margmax\u001b[39;49m\u001b[38;5;124;43m'\u001b[39;49m\u001b[43m,\u001b[49m\u001b[43m \u001b[49m\u001b[43maxis\u001b[49m\u001b[38;5;241;43m=\u001b[39;49m\u001b[43maxis\u001b[49m\u001b[43m,\u001b[49m\u001b[43m \u001b[49m\u001b[43mout\u001b[49m\u001b[38;5;241;43m=\u001b[39;49m\u001b[43mout\u001b[49m\u001b[43m,\u001b[49m\u001b[43m \u001b[49m\u001b[38;5;241;43m*\u001b[39;49m\u001b[38;5;241;43m*\u001b[39;49m\u001b[43mkwds\u001b[49m\u001b[43m)\u001b[49m\n",
      "File \u001b[1;32m~\\.conda\\envs\\oxcart5\\lib\\site-packages\\numpy\\core\\fromnumeric.py:57\u001b[0m, in \u001b[0;36m_wrapfunc\u001b[1;34m(obj, method, *args, **kwds)\u001b[0m\n\u001b[0;32m     54\u001b[0m     \u001b[38;5;28;01mreturn\u001b[39;00m _wrapit(obj, method, \u001b[38;5;241m*\u001b[39margs, \u001b[38;5;241m*\u001b[39m\u001b[38;5;241m*\u001b[39mkwds)\n\u001b[0;32m     56\u001b[0m \u001b[38;5;28;01mtry\u001b[39;00m:\n\u001b[1;32m---> 57\u001b[0m     \u001b[38;5;28;01mreturn\u001b[39;00m \u001b[43mbound\u001b[49m\u001b[43m(\u001b[49m\u001b[38;5;241;43m*\u001b[39;49m\u001b[43margs\u001b[49m\u001b[43m,\u001b[49m\u001b[43m \u001b[49m\u001b[38;5;241;43m*\u001b[39;49m\u001b[38;5;241;43m*\u001b[39;49m\u001b[43mkwds\u001b[49m\u001b[43m)\u001b[49m\n\u001b[0;32m     58\u001b[0m \u001b[38;5;28;01mexcept\u001b[39;00m \u001b[38;5;167;01mTypeError\u001b[39;00m:\n\u001b[0;32m     59\u001b[0m     \u001b[38;5;66;03m# A TypeError occurs if the object does have such a method in its\u001b[39;00m\n\u001b[0;32m     60\u001b[0m     \u001b[38;5;66;03m# class, but its signature is not identical to that of NumPy's. This\u001b[39;00m\n\u001b[1;32m   (...)\u001b[0m\n\u001b[0;32m     64\u001b[0m     \u001b[38;5;66;03m# Call _wrapit from within the except clause to ensure a potential\u001b[39;00m\n\u001b[0;32m     65\u001b[0m     \u001b[38;5;66;03m# exception has a traceback chain.\u001b[39;00m\n\u001b[0;32m     66\u001b[0m     \u001b[38;5;28;01mreturn\u001b[39;00m _wrapit(obj, method, \u001b[38;5;241m*\u001b[39margs, \u001b[38;5;241m*\u001b[39m\u001b[38;5;241m*\u001b[39mkwds)\n",
      "\u001b[1;31mValueError\u001b[0m: attempt to get argmax of an empty sequence"
     ]
    },
    {
     "data": {
      "application/vnd.jupyter.widget-view+json": {
       "model_id": "40dd6d135a0843dfbfcf1637ecdb2d1b",
       "version_major": 2,
       "version_minor": 0
      },
      "image/png": "[encoded data removed]",
      "text/html": [
       "\n",
       "            <div style=\"display: inline-block;\">\n",
       "                <div class=\"jupyter-widgets widget-label\" style=\"text-align: center;\">\n",
       "                    Figure\n",
       "                </div>\n",
       "                <img src='data:image/png;base64,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' width=354.3307086614173/>\n",
       "            </div>\n",
       "        "
      ],
      "text/plain": [
       "Canvas(toolbar=Toolbar(toolitems=[('Home', 'Reset original view', 'home', 'home'), ('Back', 'Back to previous …"
      ]
     },
     "metadata": {},
     "output_type": "display_data"
    }
   ],
   "source": [
    " peaks_ini, peaks_y_ini, peak_widths_p_ini, _ = tools.hist_plot(data['mc_c (Da)'].to_numpy()[data['mc_c (Da)'].to_numpy() < 300], 0.1, distance=100, percent=50, prominence=100, peaks_find_plot=False, selector='rect', plot=True, label='mc', fig_name=figname+'_ini')"
   ]
  },
  {
   "cell_type": "code",
   "execution_count": 16,
   "metadata": {},
   "outputs": [],
   "source": [
    "ion_distance = np.sqrt(flightPathLength_d.value**2 + (dld_x*10)**2 + (dld_y*10)**2)\n",
    "ion_distance = flightPathLength_d.value / ion_distance\n",
    "dld_t = dld_t * ion_distance\n",
    "variables.dld_t_calib = np.copy(dld_t)"
   ]
  },
  {
   "cell_type": "code",
   "execution_count": 17,
   "metadata": {},
   "outputs": [],
   "source": [
    "# peaks_ini, peaks_y_ini, peak_widths_p_ini = tools.hist_plot(dld_t[dld_t < 5000], 0.5, distance=100, percent=50, prominence=100, selector='rect', plot=True, label='mc', fig_name=figname+'_orig')"
   ]
  },
  {
   "cell_type": "markdown",
   "metadata": {
    "pycharm": {
     "name": "#%% md\n"
    }
   },
   "source": [
    "$$\\textbf{Below plotted graph offers peak selection. You can select relevant peaks you want for computation.}$$"
   ]
  },
  {
   "cell_type": "code",
   "execution_count": 21,
   "metadata": {
    "pycharm": {
     "name": "#%%\n"
    }
   },
   "outputs": [
    {
     "data": {
      "application/vnd.jupyter.widget-view+json": {
       "model_id": "a381521bed5542f390a86ef3bc48272d",
       "version_major": 2,
       "version_minor": 0
      },
      "text/plain": [
       "interactive(children=(FloatText(value=54.0, description='t_0'), FloatText(value=0.1, description='bin_size'), …"
      ]
     },
     "metadata": {},
     "output_type": "display_data"
    }
   ],
   "source": [
    "def mc_hist_plot(t_0, bin_size, prominence, distance, percent, selector, plot, figname, lim_mc, flightPathLength, mode):\n",
    "    mc_seb_ini = mc_tools.tof2mc(dld_t, t_0, dld_highVoltage, dld_pulseVoltage, dld_x, dld_y, flightPathLength, mode=mode)\n",
    "    variables.mc_calib = np.copy(mc_seb_ini)\n",
    "    variables.mc_calib_backup = np.copy(mc_seb_ini)\n",
    "    mc = mc_seb_ini\n",
    "    peaks_ini, peaks_y_ini, peak_widths_p_ini, _ = tools.hist_plot(variables.mc_calib[variables.mc_calib < lim_mc], bin_size, distance=distance, percent=percent, prominence=prominence, selector=selector, plot=plot, label='mc', fig_name=figname+'_ini')\n",
    "    index_max_ini = np.argmax(peaks_y_ini)\n",
    "    variables.max_peak = peaks_ini[index_max_ini]\n",
    "    variables.peak = peaks_ini\n",
    "    mrp = (peaks_ini[index_max_ini] / (peak_widths_p_ini[index_max_ini][2] - peak_widths_p_ini[index_max_ini][1]))\n",
    "    print('Mass resolving power for the highest peak (MRP --> m/m_2-m_1):', mrp)\n",
    "    for i in range(len(peaks_ini)):\n",
    "        print('Peaks ', i, 'is at location and height: ({:.2f}, {:.2f})'.format(peaks_ini[i], peaks_y_ini[i]), 'peak window sides ({:.1f}-maximum) are: ({:.2f}, {:.2f})'.format(percent, peak_widths_p_ini[i][1], peak_widths_p_ini[i][2]), '-> {:.2f}'.format(peak_widths_p_ini[i][2] - peak_widths_p_ini[i][1]))\n",
    "\n",
    "interact_manual(mc_hist_plot, t_0=widgets.FloatText(value=t0_d.value), bin_size=widgets.FloatText(value=0.1)\n",
    "               ,prominence=widgets.IntText(value=50), distance=widgets.IntText(value=100), lim_mc=widgets.IntText(value=400)\n",
    "               ,percent=widgets.IntText(value=50), selector=fixed('rect'), plot=fixed(True), figname=fixed(figname), flightPathLength=fixed(flightPathLength_d.value), mode=fixed(pulse_mode.value));\n"
   ]
  },
  {
   "cell_type": "code",
   "execution_count": 46,
   "metadata": {},
   "outputs": [],
   "source": [
    "bin_size=widgets.FloatText(value=0.1, description='bin size:')\n",
    "prominence=widgets.IntText(value=100, description='peak prominance:')\n",
    "distance=widgets.IntText(value=50, description='peak distance:')\n",
    "lim_tof=widgets.IntText(value=400, description='lim tof/mc:')\n",
    "percent=widgets.IntText(value=50, description='percent MRP:')\n",
    "\n",
    "def hist_plot(figname, plot):\n",
    "    \n",
    "    with out:\n",
    "        clear_output(True)\n",
    "    \n",
    "        bin_size_p = bin_size.value\n",
    "        prominence_p = prominence.value\n",
    "        distance_p = distance.value\n",
    "        lim_tof_p = lim_tof.value\n",
    "        percent_p = percent.value\n",
    "        selector='rect'\n",
    "        peaks_ini, peaks_y_ini, peak_widths_p_ini, _ = tools.hist_plot(variables.mc_calib[variables.mc_calib < lim_tof_p], \n",
    "                                                bin_size_p, distance=distance_p, percent=percent_p, prominence=prominence_p,\n",
    "                                                                    selector=selector, plot=plot, label='mc', fig_name=figname)\n",
    "        index_max_ini = np.argmax(peaks_y_ini)\n",
    "        variables.max_peak = peaks_ini[index_max_ini]\n",
    "        variables.peak = peaks_ini\n",
    "        mrp = (peaks_ini[index_max_ini] / (peak_widths_p_ini[index_max_ini][2] - peak_widths_p_ini[index_max_ini][1]))\n",
    "        print('Mass resolving power for the highest peak (MRP --> m/m_2-m_1):', mrp)\n",
    "        for i in range(len(peaks_ini)):\n",
    "                      print('Peaks ', i, 'is at location and height: ({:.2f}, {:.2f})'.format(peaks_ini[i], peaks_y_ini[i]), 'peak window sides ({:.1f}%) are: ({:.2f}, {:.2f})'.format(percent_p, peak_widths_p_ini[i][1], peak_widths_p_ini[i][2]), '-> {:.2f}'.format(peak_widths_p_ini[i][2] - peak_widths_p_ini[i][1]))"
   ]
  },
  {
   "cell_type": "code",
   "execution_count": 47,
   "metadata": {},
   "outputs": [],
   "source": [
    "sample_size_b = widgets.IntText(value=11, description='sample size:') \n",
    "index_fig_b = widgets.IntText(value=1, description='fig index:')\n",
    "plot_b = widgets.Dropdown(\n",
    "    options=[('False', False), ('True', True)],\n",
    "    description='plot fig:'\n",
    ")\n",
    "\n",
    "save_b = widgets.Dropdown(\n",
    "    options=[('False', False), ('True', True)],\n",
    "    description='save fig:'\n",
    ")\n",
    "def bowl_correction(dld_x, dld_y, dld_highVoltage, figname=figname):\n",
    "    with out:\n",
    "        sample_size_p = sample_size_b.value\n",
    "        index_fig_p = index_fig_b.value\n",
    "        plot_p = plot_b.value\n",
    "        save_p = save_b.value\n",
    "\n",
    "        calibration.bowl_correction_main(dld_x, dld_y, dld_highVoltage, det_diam.value, sample_size=sample_size_p, calibration_mode='mc',\n",
    "                                        index_fig=index_fig_p, plot=plot_p, save=save_p)\n"
   ]
  },
  {
   "cell_type": "code",
   "execution_count": 48,
   "metadata": {},
   "outputs": [],
   "source": [
    "sample_size_v =widgets.IntText(value=100, description='sample size:') \n",
    "index_fig_v = widgets.IntText(value=1, description='fig index:')\n",
    "plot_v = widgets.Dropdown(\n",
    "    options=[('False', False), ('True', True)],\n",
    "    description='plot fig:'\n",
    ")\n",
    "save_v = widgets.Dropdown(\n",
    "    options=[('False', False), ('True', True)],\n",
    "    description='save fig:'\n",
    ")\n",
    "mode_v = widgets.Dropdown(\n",
    "    options=[('ion_seq', 'ion_seq'), ('voltage', 'voltage')],\n",
    "    description='sample mode:'\n",
    ")\n",
    "peak_mode = widgets.Dropdown(\n",
    "    options=[('peak', 'peak'), ('mean', 'mean'), ('median', 'median')],\n",
    "    description='peak mode:'\n",
    ")\n",
    "def vol_correction(dld_highVoltage, figname):\n",
    "    with out:\n",
    "        sample_size_p = sample_size_v.value\n",
    "        index_fig_p = index_fig_v.value\n",
    "        plot_p = plot_v.value\n",
    "        save_p = save_v.value\n",
    "        mode_p = mode_v.value\n",
    "        peak_mode_p = peak_mode.value\n",
    "        calibration.voltage_corr_main(dld_highVoltage, sample_size=sample_size_p, calibration_mode='mc',\n",
    "                                        index_fig=index_fig_p, plot=plot_p, save=save_p, mode=mode_p, peak_mode=peak_mode_p)\n"
   ]
  },
  {
   "cell_type": "code",
   "execution_count": 79,
   "metadata": {},
   "outputs": [
    {
     "data": {
      "application/vnd.jupyter.widget-view+json": {
       "model_id": "240612d2a93c4817ba07653edb2112b6",
       "version_major": 2,
       "version_minor": 0
      },
      "text/plain": [
       "VBox(children=(Tab(children=(VBox(children=(FloatText(value=0.1, description='bin size:'), IntText(value=100, …"
      ]
     },
     "metadata": {},
     "output_type": "display_data"
    },
    {
     "data": {
      "application/vnd.jupyter.widget-view+json": {
       "model_id": "e93bfbfecd5e4372a0c930ea8a36a705",
       "version_major": 2,
       "version_minor": 0
      },
      "text/plain": [
       "Output()"
      ]
     },
     "metadata": {},
     "output_type": "display_data"
    }
   ],
   "source": [
    "pb_bowl = widgets.HTML(\n",
    "    value=\" \",\n",
    "    placeholder='Status:',\n",
    "    description='Status:',\n",
    ")\n",
    "pb_vol = widgets.HTML(\n",
    "    value=\" \",\n",
    "    placeholder='Status:',\n",
    "    description='Status:',\n",
    ")\n",
    "plot_button = widgets.Button(\n",
    "    description='plot hist',\n",
    ")\n",
    "plot_fdm_button = widgets.Button(\n",
    "    description='plot FDM',\n",
    ")\n",
    "reset_button = widgets.Button(\n",
    "    description='reset back correction',\n",
    ")\n",
    "save_button = widgets.Button(\n",
    "    description='save correction',\n",
    ")\n",
    "bowl_button = widgets.Button(\n",
    "    description='bowl correction',\n",
    ")\n",
    "vol_button = widgets.Button(\n",
    "    description='voltage correction',\n",
    ")\n",
    "bin_fdm = widgets.IntText(value=256, description='bin FDM:')\n",
    "\n",
    "\n",
    "\n",
    "@plot_button.on_click\n",
    "def plot_on_click(b, figname=figname, plot=True):\n",
    "    hist_plot(figname, plot)\n",
    "\n",
    "@plot_fdm_button.on_click\n",
    "def plot_fdm_on_click(b, save=True):\n",
    "    with out:\n",
    "        clear_output(True)\n",
    "        mask_temporal = np.logical_and((variables.mc_calib > variables.selected_x1),\n",
    "                                       (variables.mc_calib < variables.selected_x2))\n",
    "        x = dld_x[mask_temporal]\n",
    "        y = dld_y[mask_temporal]\n",
    "        bin_fdm_p = bin_fdm.value\n",
    "        bins = [bin_fdm_p, bin_fdm_p]\n",
    "\n",
    "        calibration.plot_FDM(x, y, save, bins)\n",
    "    \n",
    "@reset_button.on_click\n",
    "def reset_on_click(b, figname=figname, plot=True):\n",
    "    variables.mc_calib = np.copy(variables.mc_calib_backup)\n",
    "    \n",
    "@save_button.on_click\n",
    "def save_on_click(b, figname=figname, plot=True):\n",
    "    variables.mc_calib_backup = np.copy(variables.mc_calib)   \n",
    "    \n",
    "@bowl_button.on_click\n",
    "def bowl_on_click(b, dld_x=dld_x, dld_y=dld_y, dld_highVoltage=dld_highVoltage, figname=figname):\n",
    "    with out:\n",
    "        clear_output(True)\n",
    "        pb_bowl.value = \"<b>Starting...</b>\"\n",
    "        if variables.selected_x1 == 0 or variables.selected_x2 == 0:\n",
    "            Print('Please first select a peak')\n",
    "        else:\n",
    "            bowl_correction(dld_x, dld_y, dld_highVoltage, figname)  \n",
    "        pb_bowl.value = \"<b>Fnished</b>\"\n",
    "@vol_button.on_click\n",
    "def vol_on_click(b, dld_highVoltage=dld_highVoltage, figname=figname):\n",
    "    with out:\n",
    "        clear_output(True)\n",
    "        pb_vol.value = \"<b>Starting...</b>\"\n",
    "        if variables.selected_x1 == 0 or variables.selected_x2 == 0:\n",
    "            Print('Please first select a peak')\n",
    "        else:\n",
    "            vol_correction(dld_highVoltage, figname)\n",
    "        pb_vol.value = \"<b>Fnished</b>\"\n",
    "    \n",
    "\n",
    "\n",
    "tab1 = VBox(children=[bin_size, prominence, distance, lim_tof, percent, bin_fdm])\n",
    "tab2 = VBox(children=[HBox(children=[sample_size_b, index_fig_b, plot_b, save_b]), bowl_button, pb_bowl])\n",
    "tab3 = VBox(children=[HBox(children=[sample_size_v, index_fig_v, mode_v, peak_mode, plot_v, save_v]), vol_button, pb_vol])\n",
    "\n",
    "tab = widgets.Tab(children=[tab1, tab2, tab3])\n",
    "tab.set_title(0, 'tof/mc plot')\n",
    "tab.set_title(1, 'bowl correction')\n",
    "tab.set_title(2, 'voltage correction')\n",
    "\n",
    "\n",
    "\n",
    "display(VBox(children=[tab,HBox(children=[plot_button, plot_fdm_button, save_button, reset_button])]))\n",
    "out = Output()\n",
    "display(out)"
   ]
  },
  {
   "cell_type": "code",
   "execution_count": 69,
   "metadata": {},
   "outputs": [],
   "source": [
    "variables.mc_calib_backup = np.copy(variables.mc_calib)"
   ]
  },
  {
   "cell_type": "code",
   "execution_count": 70,
   "metadata": {},
   "outputs": [],
   "source": [
    "def tof_his(bin_size, prominence, distance, percent, selector, plot, figname, lim_mc):\n",
    "    variables.peaks_idx = []\n",
    "    peaks_ini, peaks_y_ini, peak_widths_p_ini, _ = tools.hist_plot(variables.mc_calib[variables.mc_calib < lim_mc], bin_size, distance=distance, percent=percent, prominence=prominence, selector=selector, plot=plot, label='mc', fig_name=figname)\n",
    "    index_max_ini = np.argmax(peaks_y_ini)\n",
    "    variables.max_peak = peaks_ini[index_max_ini]\n",
    "    variables.peak = peaks_ini\n",
    "    mrp = (peaks_ini[index_max_ini] / (peak_widths_p_ini[index_max_ini][2] - peak_widths_p_ini[index_max_ini][1]))\n",
    "    print('Mass resolving power for the highest peak (MRP --> m/m_2-m_1):', mrp)\n",
    "    for i in range(len(peaks_ini)):\n",
    "        print('Peaks ', i, 'is at location and height: ({:.2f}, {:.2f})'.format(peaks_ini[i], peaks_y_ini[i]), 'peak window sides (half-maximum) are: ({:.2f}, {:.2f})'.format(peak_widths_p_ini[i][1], peak_widths_p_ini[i][2]))"
   ]
  },
  {
   "cell_type": "code",
   "execution_count": 71,
   "metadata": {},
   "outputs": [
    {
     "data": {
      "application/vnd.jupyter.widget-view+json": {
       "model_id": "b2080b4b51cf4afcb79fe85acfe762c6",
       "version_major": 2,
       "version_minor": 0
      },
      "text/plain": [
       "interactive(children=(FloatText(value=0.1, description='bin_size'), IntText(value=50, description='prominence'…"
      ]
     },
     "metadata": {},
     "output_type": "display_data"
    }
   ],
   "source": [
    "\n",
    "interact_manual(tof_his, bin_size=widgets.FloatText(value=0.1)\n",
    "               ,prominence=widgets.IntText(value=50), distance=widgets.IntText(value=100), lim_mc=widgets.IntText(value=max_mc.value)\n",
    "               ,percent=widgets.IntText(value=50), selector=fixed('peak'), plot=fixed(True), figname=fixed(figname+'_cor'));\n"
   ]
  },
  {
   "cell_type": "code",
   "execution_count": 72,
   "metadata": {},
   "outputs": [
    {
     "data": {
      "application/vnd.jupyter.widget-view+json": {
       "model_id": "4f4fa1c4525b4f749ac40e58e2045ebb",
       "version_major": 2,
       "version_minor": 0
      },
      "text/plain": [
       "Dropdown(description='Elements', options=(('H (1) (99.98)', 'H(1)[1.01]'), ('H (2) (0.01)', 'H(2)[2.01]'), ('H…"
      ]
     },
     "metadata": {},
     "output_type": "display_data"
    },
    {
     "data": {
      "application/vnd.jupyter.widget-view+json": {
       "model_id": "e20b256cfdff468d949cf16cc9cd3c51",
       "version_major": 2,
       "version_minor": 0
      },
      "text/plain": [
       "Dropdown(description='Charge', options=((1, 1), (2, 2), (3, 3), (4, 4)), value=1)"
      ]
     },
     "metadata": {},
     "output_type": "display_data"
    },
    {
     "data": {
      "application/vnd.jupyter.widget-view+json": {
       "model_id": "42d15dbb9dc540ebb08a60773a86b1d6",
       "version_major": 2,
       "version_minor": 0
      },
      "text/plain": [
       "Button(description='ADD', icon='check', style=ButtonStyle(), tooltip='ADD')"
      ]
     },
     "metadata": {},
     "output_type": "display_data"
    },
    {
     "data": {
      "application/vnd.jupyter.widget-view+json": {
       "model_id": "e6fcda8bf36148a2a012dfe2afb1b08f",
       "version_major": 2,
       "version_minor": 0
      },
      "text/plain": [
       "Button(description='DELETE', icon='check', style=ButtonStyle(), tooltip='DELETE')"
      ]
     },
     "metadata": {},
     "output_type": "display_data"
    },
    {
     "data": {
      "application/vnd.jupyter.widget-view+json": {
       "model_id": "e54f0abf941247a189250407302adf09",
       "version_major": 2,
       "version_minor": 0
      },
      "text/plain": [
       "Button(description='RESET', icon='check', style=ButtonStyle(), tooltip='RESET')"
      ]
     },
     "metadata": {},
     "output_type": "display_data"
    },
    {
     "data": {
      "application/vnd.jupyter.widget-view+json": {
       "model_id": "82969a14e5464fd5945ab6259578660e",
       "version_major": 2,
       "version_minor": 0
      },
      "text/plain": [
       "Output()"
      ]
     },
     "metadata": {},
     "output_type": "display_data"
    }
   ],
   "source": [
    "isotopeTableFile = '../../../files/isotopeTable.h5'\n",
    "dataframe = data_tools.read_hdf5_through_pandas(isotopeTableFile)\n",
    "elementsList = dataframe['element']\n",
    "elementIsotopeList = dataframe['isotope']\n",
    "elementMassList =  dataframe['weight']\n",
    "abundanceList = dataframe['abundance']\n",
    "\n",
    "elements = list(zip(elementsList, elementIsotopeList, elementMassList, abundanceList))\n",
    "dropdownList = []\n",
    "for element in elements:\n",
    "    tupleElement = (\"{} ({}) ({:.2f})\".format(element[0], element[1], element[3]), \"{}({})[{}]\".format(element[0], element[1], element[2]))\n",
    "    dropdownList.append(tupleElement)\n",
    "\n",
    "chargeList = [(1,1,),(2,2,),(3,3,),(4,4,)]\n",
    "dropdown = wd.dropdownWidget(dropdownList,\"Elements\")\n",
    "dropdown.observe(wd.on_change)\n",
    "\n",
    "\n",
    "chargeDropdown = wd.dropdownWidget(chargeList,\"Charge\")\n",
    "chargeDropdown.observe(wd.on_change_charge)\n",
    "\n",
    "wd.compute_element_isotope_values_according_to_selected_charge()\n",
    "\n",
    "buttonAdd = wd.buttonWidget(\"ADD\")\n",
    "buttonDelete = wd.buttonWidget(\"DELETE\")\n",
    "buttonReset = wd.buttonWidget(\"RESET\")\n",
    "\n",
    "display(dropdown, chargeDropdown, buttonAdd, buttonDelete, buttonReset)\n",
    "\n",
    "def buttonAdd_f(b,):\n",
    "    with out:\n",
    "        clear_output(True)\n",
    "        wd.onClickAdd(b,)\n",
    "        display()\n",
    "def buttonDelete_f(b,):\n",
    "    with out:\n",
    "        clear_output(True)\n",
    "        wd.onClickDelete(b,)\n",
    "        display()\n",
    "def buttonResett_f(b,):\n",
    "    with out:\n",
    "        clear_output(True)\n",
    "        wd.onClickReset(b,)\n",
    "        display()\n",
    "\n",
    "listMaterial = buttonAdd.on_click(buttonAdd_f)\n",
    "buttonDelete.on_click(buttonDelete_f)\n",
    "buttonReset.on_click(buttonResett_f)\n",
    "# listMaterial = buttonAdd.on_click(wd.onClickAdd)\n",
    "# buttonDelete.on_click(wd.onClickDelete)\n",
    "# buttonReset.on_click(wd.onClickReset)\n",
    "out = Output()\n",
    "display(out)"
   ]
  },
  {
   "cell_type": "code",
   "execution_count": 58,
   "metadata": {},
   "outputs": [
    {
     "name": "stdout",
     "output_type": "stream",
     "text": [
      "highest peak in the tof histogram: []\n",
      "highest peak in the ideal mc histogram: []\n"
     ]
    }
   ],
   "source": [
    "peaks_chos = []\n",
    "for i in range(len(variables.peaks_idx)):\n",
    "    peaks_chos.append(variables.peak[variables.peaks_idx[i]])\n",
    "peaks_chos = np.array(peaks_chos)\n",
    "listMaterial = np.array(variables.listMaterial)\n",
    "print('highest peak in the tof histogram:', peaks_chos)\n",
    "print('highest peak in the ideal mc histogram:', listMaterial)"
   ]
  },
  {
   "cell_type": "code",
   "execution_count": null,
   "metadata": {},
   "outputs": [],
   "source": [
    "def shift(mc, a, b):\n",
    "\n",
    "    # return c * ((t - t0)**2) + d\n",
    "    return mc ** a + b\n",
    "\n",
    "def shift_calib(mc, mc_ideal):\n",
    "    \n",
    "    fitresult, _ = curve_fit(shift, mc, mc_ideal, maxfev=2000)\n",
    "    return fitresult\n",
    "\n",
    "fitresult = shift_calib(peaks_chos,  variables.listMaterial)\n",
    "mc_p_1 = shift(variables.mc_calib, *fitresult)\n",
    "\n",
    "# f_shift = interpolate.interp1d(np.array(variables.listMaterial).T, peaks_chos.T, fill_value=\"extrapolate\")\n",
    "# variables.mc_calib = f_shift(variables.mc_calib)\n"
   ]
  },
  {
   "cell_type": "code",
   "execution_count": 77,
   "metadata": {},
   "outputs": [],
   "source": [
    "def tof_his(bin_size, prominence, distance, percent, selector, plot, figname, lim_mc):\n",
    "    peaks_ini, peaks_y_ini, peak_widths_p_ini, _ = tools.hist_plot(variables.mc_calib[variables.mc_calib < lim_mc], bin_size, distance=distance, percent=percent, prominence=prominence, selector=selector, plot=plot, label='mc', fig_name=figname)\n",
    "    index_max_ini = np.argmax(peaks_y_ini)\n",
    "    variables.max_peak = peaks_ini[index_max_ini]\n",
    "    variables.peak = peaks_ini\n",
    "    mrp = (peaks_ini[index_max_ini] / (peak_widths_p_ini[index_max_ini][2] - peak_widths_p_ini[index_max_ini][1]))\n",
    "    print('Mass resolving power for the highest peak (MRP --> m/m_2-m_1):', mrp)\n",
    "    for i in range(len(peaks_ini)):\n",
    "        print('Peaks ', i, 'is at location and height: ({:.2f}, {:.2f})'.format(peaks_ini[i], peaks_y_ini[i]), 'peak window sides (half-maximum) are: ({:.2f}, {:.2f})'.format(peak_widths_p_ini[i][1], peak_widths_p_ini[i][2]))"
   ]
  },
  {
   "cell_type": "code",
   "execution_count": 78,
   "metadata": {},
   "outputs": [
    {
     "data": {
      "application/vnd.jupyter.widget-view+json": {
       "model_id": "23deb85d84ce4e7598fdc45e3f389347",
       "version_major": 2,
       "version_minor": 0
      },
      "text/plain": [
       "interactive(children=(FloatText(value=0.1, description='bin_size'), IntText(value=50, description='prominence'…"
      ]
     },
     "metadata": {},
     "output_type": "display_data"
    }
   ],
   "source": [
    "interact_manual(mc_his, mc=fixed(mc_p_1), bin_size=widgets.FloatText(value=0.1)\n",
    "               ,prominence=widgets.IntText(value=50), distance=widgets.IntText(value=100), lim_mc=widgets.IntText(value=150)\n",
    "               ,percent=widgets.IntText(value=50), selector=fixed('None'), plot=fixed(True), figname=fixed(figname+'_cor'));\n"
   ]
  },
  {
   "cell_type": "code",
   "execution_count": 144,
   "metadata": {},
   "outputs": [],
   "source": [
    "variables.mc_calib =  mc_p_1"
   ]
  },
  {
   "cell_type": "code",
   "execution_count": 80,
   "metadata": {},
   "outputs": [],
   "source": [
    "\n",
    "data['mc_c (Da)'] = variables.mc_calib_backup"
   ]
  },
  {
   "cell_type": "code",
   "execution_count": 81,
   "metadata": {},
   "outputs": [
    {
     "data": {
      "text/html": [
       "<div>\n",
       "<style scoped>\n",
       "    .dataframe tbody tr th:only-of-type {\n",
       "        vertical-align: middle;\n",
       "    }\n",
       "\n",
       "    .dataframe tbody tr th {\n",
       "        vertical-align: top;\n",
       "    }\n",
       "\n",
       "    .dataframe thead th {\n",
       "        text-align: right;\n",
       "    }\n",
       "</style>\n",
       "<table border=\"1\" class=\"dataframe\">\n",
       "  <thead>\n",
       "    <tr style=\"text-align: right;\">\n",
       "      <th></th>\n",
       "      <th>x (nm)</th>\n",
       "      <th>y (nm)</th>\n",
       "      <th>z (nm)</th>\n",
       "      <th>mc_c (Da)</th>\n",
       "      <th>mc (Da)</th>\n",
       "      <th>high_voltage (V)</th>\n",
       "      <th>pulse (deg)</th>\n",
       "      <th>start_counter</th>\n",
       "      <th>t (ns)</th>\n",
       "      <th>t_c (ns)</th>\n",
       "      <th>x_det (cm)</th>\n",
       "      <th>y_det (cm)</th>\n",
       "      <th>pulse_pi</th>\n",
       "      <th>ion_pp</th>\n",
       "    </tr>\n",
       "  </thead>\n",
       "  <tbody>\n",
       "    <tr>\n",
       "      <th>0</th>\n",
       "      <td>0.0</td>\n",
       "      <td>0.0</td>\n",
       "      <td>0.0</td>\n",
       "      <td>0.870039</td>\n",
       "      <td>0.866215</td>\n",
       "      <td>8118.056152</td>\n",
       "      <td>230.0</td>\n",
       "      <td>214.0</td>\n",
       "      <td>214.0</td>\n",
       "      <td>0.0</td>\n",
       "      <td>1.032970</td>\n",
       "      <td>0.558104</td>\n",
       "      <td>0</td>\n",
       "      <td>1</td>\n",
       "    </tr>\n",
       "    <tr>\n",
       "      <th>1</th>\n",
       "      <td>0.0</td>\n",
       "      <td>0.0</td>\n",
       "      <td>0.0</td>\n",
       "      <td>101.368715</td>\n",
       "      <td>101.605702</td>\n",
       "      <td>8118.056152</td>\n",
       "      <td>230.0</td>\n",
       "      <td>2007.0</td>\n",
       "      <td>2007.0</td>\n",
       "      <td>0.0</td>\n",
       "      <td>-2.864820</td>\n",
       "      <td>-1.211240</td>\n",
       "      <td>1793</td>\n",
       "      <td>1</td>\n",
       "    </tr>\n",
       "    <tr>\n",
       "      <th>2</th>\n",
       "      <td>0.0</td>\n",
       "      <td>0.0</td>\n",
       "      <td>0.0</td>\n",
       "      <td>341.513402</td>\n",
       "      <td>340.906069</td>\n",
       "      <td>8118.056152</td>\n",
       "      <td>230.0</td>\n",
       "      <td>3643.0</td>\n",
       "      <td>3643.0</td>\n",
       "      <td>0.0</td>\n",
       "      <td>-2.689240</td>\n",
       "      <td>0.717955</td>\n",
       "      <td>3643</td>\n",
       "      <td>1</td>\n",
       "    </tr>\n",
       "    <tr>\n",
       "      <th>3</th>\n",
       "      <td>0.0</td>\n",
       "      <td>0.0</td>\n",
       "      <td>0.0</td>\n",
       "      <td>332.985301</td>\n",
       "      <td>334.185929</td>\n",
       "      <td>8118.056152</td>\n",
       "      <td>230.0</td>\n",
       "      <td>3615.0</td>\n",
       "      <td>3615.0</td>\n",
       "      <td>0.0</td>\n",
       "      <td>-0.171491</td>\n",
       "      <td>-3.212160</td>\n",
       "      <td>0</td>\n",
       "      <td>0</td>\n",
       "    </tr>\n",
       "    <tr>\n",
       "      <th>4</th>\n",
       "      <td>0.0</td>\n",
       "      <td>0.0</td>\n",
       "      <td>0.0</td>\n",
       "      <td>99.202192</td>\n",
       "      <td>98.995943</td>\n",
       "      <td>8118.056152</td>\n",
       "      <td>230.0</td>\n",
       "      <td>1983.0</td>\n",
       "      <td>1983.0</td>\n",
       "      <td>0.0</td>\n",
       "      <td>-3.106970</td>\n",
       "      <td>0.977451</td>\n",
       "      <td>0</td>\n",
       "      <td>0</td>\n",
       "    </tr>\n",
       "    <tr>\n",
       "      <th>...</th>\n",
       "      <td>...</td>\n",
       "      <td>...</td>\n",
       "      <td>...</td>\n",
       "      <td>...</td>\n",
       "      <td>...</td>\n",
       "      <td>...</td>\n",
       "      <td>...</td>\n",
       "      <td>...</td>\n",
       "      <td>...</td>\n",
       "      <td>...</td>\n",
       "      <td>...</td>\n",
       "      <td>...</td>\n",
       "      <td>...</td>\n",
       "      <td>...</td>\n",
       "    </tr>\n",
       "    <tr>\n",
       "      <th>690611</th>\n",
       "      <td>0.0</td>\n",
       "      <td>0.0</td>\n",
       "      <td>0.0</td>\n",
       "      <td>65.968453</td>\n",
       "      <td>65.528238</td>\n",
       "      <td>7221.176270</td>\n",
       "      <td>242.0</td>\n",
       "      <td>1706.0</td>\n",
       "      <td>1706.0</td>\n",
       "      <td>0.0</td>\n",
       "      <td>1.399840</td>\n",
       "      <td>1.460980</td>\n",
       "      <td>1706</td>\n",
       "      <td>1</td>\n",
       "    </tr>\n",
       "    <tr>\n",
       "      <th>690612</th>\n",
       "      <td>0.0</td>\n",
       "      <td>0.0</td>\n",
       "      <td>0.0</td>\n",
       "      <td>101.412468</td>\n",
       "      <td>100.876531</td>\n",
       "      <td>7221.176270</td>\n",
       "      <td>242.0</td>\n",
       "      <td>2121.0</td>\n",
       "      <td>2121.0</td>\n",
       "      <td>0.0</td>\n",
       "      <td>-2.308090</td>\n",
       "      <td>2.408430</td>\n",
       "      <td>415</td>\n",
       "      <td>1</td>\n",
       "    </tr>\n",
       "    <tr>\n",
       "      <th>690613</th>\n",
       "      <td>0.0</td>\n",
       "      <td>0.0</td>\n",
       "      <td>0.0</td>\n",
       "      <td>99.282469</td>\n",
       "      <td>98.712700</td>\n",
       "      <td>7221.176270</td>\n",
       "      <td>242.0</td>\n",
       "      <td>2096.0</td>\n",
       "      <td>2096.0</td>\n",
       "      <td>0.0</td>\n",
       "      <td>3.067440</td>\n",
       "      <td>-0.521695</td>\n",
       "      <td>4294967271</td>\n",
       "      <td>1</td>\n",
       "    </tr>\n",
       "    <tr>\n",
       "      <th>690614</th>\n",
       "      <td>0.0</td>\n",
       "      <td>0.0</td>\n",
       "      <td>0.0</td>\n",
       "      <td>99.203155</td>\n",
       "      <td>99.510744</td>\n",
       "      <td>7221.176270</td>\n",
       "      <td>242.0</td>\n",
       "      <td>2099.0</td>\n",
       "      <td>2099.0</td>\n",
       "      <td>0.0</td>\n",
       "      <td>-0.463658</td>\n",
       "      <td>-2.527050</td>\n",
       "      <td>2099</td>\n",
       "      <td>1</td>\n",
       "    </tr>\n",
       "    <tr>\n",
       "      <th>690615</th>\n",
       "      <td>0.0</td>\n",
       "      <td>0.0</td>\n",
       "      <td>0.0</td>\n",
       "      <td>303.467967</td>\n",
       "      <td>303.286304</td>\n",
       "      <td>7221.176270</td>\n",
       "      <td>242.0</td>\n",
       "      <td>3623.0</td>\n",
       "      <td>3623.0</td>\n",
       "      <td>0.0</td>\n",
       "      <td>-0.964503</td>\n",
       "      <td>-0.349587</td>\n",
       "      <td>1524</td>\n",
       "      <td>1</td>\n",
       "    </tr>\n",
       "  </tbody>\n",
       "</table>\n",
       "<p>690616 rows × 14 columns</p>\n",
       "</div>"
      ],
      "text/plain": [
       "        x (nm)  y (nm)  z (nm)   mc_c (Da)     mc (Da)  high_voltage (V)  \\\n",
       "0          0.0     0.0     0.0    0.870039    0.866215       8118.056152   \n",
       "1          0.0     0.0     0.0  101.368715  101.605702       8118.056152   \n",
       "2          0.0     0.0     0.0  341.513402  340.906069       8118.056152   \n",
       "3          0.0     0.0     0.0  332.985301  334.185929       8118.056152   \n",
       "4          0.0     0.0     0.0   99.202192   98.995943       8118.056152   \n",
       "...        ...     ...     ...         ...         ...               ...   \n",
       "690611     0.0     0.0     0.0   65.968453   65.528238       7221.176270   \n",
       "690612     0.0     0.0     0.0  101.412468  100.876531       7221.176270   \n",
       "690613     0.0     0.0     0.0   99.282469   98.712700       7221.176270   \n",
       "690614     0.0     0.0     0.0   99.203155   99.510744       7221.176270   \n",
       "690615     0.0     0.0     0.0  303.467967  303.286304       7221.176270   \n",
       "\n",
       "        pulse (deg)  start_counter  t (ns)  t_c (ns)  x_det (cm)  y_det (cm)  \\\n",
       "0             230.0          214.0   214.0       0.0    1.032970    0.558104   \n",
       "1             230.0         2007.0  2007.0       0.0   -2.864820   -1.211240   \n",
       "2             230.0         3643.0  3643.0       0.0   -2.689240    0.717955   \n",
       "3             230.0         3615.0  3615.0       0.0   -0.171491   -3.212160   \n",
       "4             230.0         1983.0  1983.0       0.0   -3.106970    0.977451   \n",
       "...             ...            ...     ...       ...         ...         ...   \n",
       "690611        242.0         1706.0  1706.0       0.0    1.399840    1.460980   \n",
       "690612        242.0         2121.0  2121.0       0.0   -2.308090    2.408430   \n",
       "690613        242.0         2096.0  2096.0       0.0    3.067440   -0.521695   \n",
       "690614        242.0         2099.0  2099.0       0.0   -0.463658   -2.527050   \n",
       "690615        242.0         3623.0  3623.0       0.0   -0.964503   -0.349587   \n",
       "\n",
       "          pulse_pi  ion_pp  \n",
       "0                0       1  \n",
       "1             1793       1  \n",
       "2             3643       1  \n",
       "3                0       0  \n",
       "4                0       0  \n",
       "...            ...     ...  \n",
       "690611        1706       1  \n",
       "690612         415       1  \n",
       "690613  4294967271       1  \n",
       "690614        2099       1  \n",
       "690615        1524       1  \n",
       "\n",
       "[690616 rows x 14 columns]"
      ]
     },
     "execution_count": 81,
     "metadata": {},
     "output_type": "execute_result"
    }
   ],
   "source": [
    "data"
   ]
  },
  {
   "cell_type": "code",
   "execution_count": 82,
   "metadata": {},
   "outputs": [],
   "source": [
    "# save the new data\n",
    "name_save_file = variables.result_path + '//' + dataset_name + '.h5'\n",
    "data_tools.store_df_to_hdf(name_save_file, data, 'df')"
   ]
  },
  {
   "cell_type": "code",
   "execution_count": 83,
   "metadata": {},
   "outputs": [],
   "source": [
    "# save data as epos file\n",
    "epos = ccapt_tools.ccapt_to_epos(data, pulse_mode=pulse_mode.value, path=variables.result_path, name=dataset_name + '.epos')\n",
    "pos = ccapt_tools.ccapt_to_pos(data, path=variables.result_path, name=dataset_name + '.pos')"
   ]
  },
  {
   "cell_type": "code",
   "execution_count": 149,
   "metadata": {},
   "outputs": [],
   "source": [
    "# save data in csv format\n",
    "data_tools.store_df_to_csv(data, variables.result_path + dataset_name + '.csv')"
   ]
  },
  {
   "cell_type": "code",
   "execution_count": null,
   "metadata": {},
   "outputs": [],
   "source": []
  }
 ],
 "metadata": {
  "kernelspec": {
   "display_name": "Python 3 (ipykernel)",
   "language": "python",
   "name": "python3"
  },
  "language_info": {
   "codemirror_mode": {
    "name": "ipython",
    "version": 3
   },
   "file_extension": ".py",
   "mimetype": "text/x-python",
   "name": "python",
   "nbconvert_exporter": "python",
   "pygments_lexer": "ipython3",
   "version": "3.8.16"
  }
 },
 "nbformat": 4,
 "nbformat_minor": 4
}

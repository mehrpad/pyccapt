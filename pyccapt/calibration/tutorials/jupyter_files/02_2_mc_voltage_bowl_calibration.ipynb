{
 "cells": [
  {
   "cell_type": "code",
   "execution_count": 1,
   "metadata": {
    "pycharm": {
     "name": "#%%\n"
    }
   },
   "outputs": [],
   "source": [
    "%matplotlib ipympl\n",
    "import os\n",
    "import os.path as path\n",
    "import numpy as np\n",
    "from scipy.optimize import curve_fit\n",
    "from scipy import interpolate\n",
    "from sklearn.preprocessing import MinMaxScaler\n",
    "import matplotlib.pyplot as plt\n",
    "from ipywidgets import fixed, interact_manual, widgets\n",
    "from ipywidgets import HBox, VBox\n",
    "from IPython.display import clear_output\n",
    "from IPython.display import display\n",
    "from ipywidgets import IntSlider, Output\n",
    "from itertools import product\n",
    "from scipy.signal import find_peaks\n",
    "import math\n",
    "from mpl_toolkits.mplot3d import Axes3D\n",
    "\n",
    "# Local module and scripts\n",
    "from pyccapt.calibration.calibration_tools import tools, variables, calibration\n",
    "from pyccapt.calibration.calibration_tools import widgets as wd\n",
    "from pyccapt.calibration.data_tools import data_tools, data_loadcrop, dataset_path_qt\n",
    "from pyccapt.calibration.mc import mc_tools\n",
    "from pyccapt.calibration.leap_tools import ccapt_tools"
   ]
  },
  {
   "cell_type": "code",
   "execution_count": 2,
   "metadata": {
    "tags": []
   },
   "outputs": [],
   "source": [
    "%load_ext autoreload\n",
    "%autoreload 2"
   ]
  },
  {
   "cell_type": "code",
   "execution_count": 3,
   "metadata": {
    "tags": []
   },
   "outputs": [],
   "source": [
    "%reload_ext autoreload"
   ]
  },
  {
   "cell_type": "code",
   "execution_count": 4,
   "metadata": {
    "pycharm": {
     "name": "#%%\n"
    }
   },
   "outputs": [],
   "source": [
    "# Disable showing logging in Jupyter notebook\n",
    "import logging, sys\n",
    "logging.disable(sys.maxsize)\n",
    "save_fig=False\n",
    "plot_fig=True "
   ]
  },
  {
   "cell_type": "code",
   "execution_count": 5,
   "metadata": {},
   "outputs": [
    {
     "data": {
      "application/vnd.jupyter.widget-view+json": {
       "model_id": "dd0c5ec24f1848a8818c4d0ea6621bbd",
       "version_major": 2,
       "version_minor": 0
      },
      "text/plain": [
       "Button(description='load dataset', style=ButtonStyle())"
      ]
     },
     "execution_count": 5,
     "metadata": {},
     "output_type": "execute_result"
    }
   ],
   "source": [
    "button = widgets.Button(\n",
    "    description='load dataset',\n",
    ")\n",
    "\n",
    "@button.on_click\n",
    "def open_file_on_click(b):\n",
    "    global dataset_path\n",
    "    dataset_path = dataset_path_qt.gui_fname().decode('ASCII')\n",
    "button"
   ]
  },
  {
   "cell_type": "code",
   "execution_count": 6,
   "metadata": {},
   "outputs": [
    {
     "data": {
      "application/vnd.jupyter.widget-view+json": {
       "model_id": "856812955a0c49c3a9d1bba93ce43d35",
       "version_major": 2,
       "version_minor": 0
      },
      "text/plain": [
       "Dropdown(description='Data mode:', options=('surface_concept', 'roentdec', 'leap_epos', 'leap_pos'), value='su…"
      ]
     },
     "metadata": {},
     "output_type": "display_data"
    },
    {
     "data": {
      "application/vnd.jupyter.widget-view+json": {
       "model_id": "5d62f8bb06854613a2dc25f3b5f613c2",
       "version_major": 2,
       "version_minor": 0
      },
      "text/plain": [
       "Dropdown(description='Pulse mode:', options=('voltage', 'laser'), value='voltage')"
      ]
     },
     "metadata": {},
     "output_type": "display_data"
    },
    {
     "data": {
      "application/vnd.jupyter.widget-view+json": {
       "model_id": "79409ac2c4ba4d09aa477a8becd931dd",
       "version_major": 2,
       "version_minor": 0
      },
      "text/plain": [
       "FloatText(value=110.0, description='Flight path length:')"
      ]
     },
     "metadata": {},
     "output_type": "display_data"
    },
    {
     "data": {
      "application/vnd.jupyter.widget-view+json": {
       "model_id": "f8e43201639c4df19f5b9ef8cf835d45",
       "version_major": 2,
       "version_minor": 0
      },
      "text/plain": [
       "FloatText(value=54.0, description='t0:')"
      ]
     },
     "metadata": {},
     "output_type": "display_data"
    },
    {
     "data": {
      "application/vnd.jupyter.widget-view+json": {
       "model_id": "552e6bdf1cba49b0a5efe812e4a61dc5",
       "version_major": 2,
       "version_minor": 0
      },
      "text/plain": [
       "FloatText(value=400.0, description='Max mc:')"
      ]
     },
     "metadata": {},
     "output_type": "display_data"
    },
    {
     "data": {
      "application/vnd.jupyter.widget-view+json": {
       "model_id": "41256f97a613408ba6d70871f1f42a57",
       "version_major": 2,
       "version_minor": 0
      },
      "text/plain": [
       "FloatText(value=78.0, description='Detector diameter:')"
      ]
     },
     "metadata": {},
     "output_type": "display_data"
    }
   ],
   "source": [
    "tdc, pulse_mode, flightPathLength_d, t0_d, max_mc, det_diam = wd.dataset_tdc_selection()\n",
    "display(tdc, pulse_mode, flightPathLength_d, t0_d, max_mc, det_diam)"
   ]
  },
  {
   "cell_type": "markdown",
   "metadata": {
    "pycharm": {
     "name": "#%% md\n"
    }
   },
   "source": [
    "$$\\textbf{You can specify which dataset to use in below block}$$"
   ]
  },
  {
   "cell_type": "code",
   "execution_count": 13,
   "metadata": {
    "pycharm": {
     "name": "#%%\n"
    }
   },
   "outputs": [],
   "source": [
    "dataset_main_path = os.path.dirname(dataset_path)\n",
    "dataset_name_with_extention = os.path.basename(dataset_path)\n",
    "dataset_name = os.path.splitext(dataset_name_with_extention)[0]\n",
    "\n",
    "\n",
    "variables.init()\n",
    "\n",
    "variables.result_path = os.path.dirname(dataset_main_path) + '/mc_calibration/'\n",
    "if not os.path.isdir(variables.result_path):\n",
    "    os.makedirs(variables.result_path, mode=0o777, exist_ok=True)\n",
    "        \n",
    "filename = dataset_path\n",
    "\n",
    "head, tail = os.path.split(filename)\n",
    "figname = os.path.splitext(tail)[0]\n",
    "\n",
    "if tdc.value == 'leap_pos' or tdc.value == 'leap_epos':\n",
    "    if tdc.value == 'leap_epos':\n",
    "        data = ccapt_tools.epos_to_ccapt(filename)\n",
    "    else:\n",
    "        print('The file has to be epos. With pos information this tutorial cannot be run')\n",
    "        data = ccapt_tools.pos_to_ccapt(filename)\n",
    "else:\n",
    "    data = data_tools.read_hdf5_through_pandas(filename)\n"
   ]
  },
  {
   "cell_type": "code",
   "execution_count": 14,
   "metadata": {
    "pycharm": {
     "name": "#%%\n"
    }
   },
   "outputs": [
    {
     "data": {
      "text/html": [
       "<div>\n",
       "<style scoped>\n",
       "    .dataframe tbody tr th:only-of-type {\n",
       "        vertical-align: middle;\n",
       "    }\n",
       "\n",
       "    .dataframe tbody tr th {\n",
       "        vertical-align: top;\n",
       "    }\n",
       "\n",
       "    .dataframe thead th {\n",
       "        text-align: right;\n",
       "    }\n",
       "</style>\n",
       "<table border=\"1\" class=\"dataframe\">\n",
       "  <thead>\n",
       "    <tr style=\"text-align: right;\">\n",
       "      <th></th>\n",
       "      <th>x (nm)</th>\n",
       "      <th>y (nm)</th>\n",
       "      <th>z (nm)</th>\n",
       "      <th>mc_c (Da)</th>\n",
       "      <th>high_voltage (V)</th>\n",
       "      <th>mc (Da)</th>\n",
       "      <th>pulse</th>\n",
       "      <th>start_counter</th>\n",
       "      <th>t (ns)</th>\n",
       "      <th>t_c (ns)</th>\n",
       "      <th>x_det (cm)</th>\n",
       "      <th>y_det (cm)</th>\n",
       "      <th>pulse_pi</th>\n",
       "      <th>ion_pp</th>\n",
       "    </tr>\n",
       "  </thead>\n",
       "  <tbody>\n",
       "    <tr>\n",
       "      <th>0</th>\n",
       "      <td>0.0</td>\n",
       "      <td>0.0</td>\n",
       "      <td>0.0</td>\n",
       "      <td>0.0</td>\n",
       "      <td>5274.982422</td>\n",
       "      <td>27.292586</td>\n",
       "      <td>5274.982422</td>\n",
       "      <td>25874</td>\n",
       "      <td>630.764550</td>\n",
       "      <td>0.0</td>\n",
       "      <td>-0.410694</td>\n",
       "      <td>1.665061</td>\n",
       "      <td>0</td>\n",
       "      <td>1</td>\n",
       "    </tr>\n",
       "    <tr>\n",
       "      <th>1</th>\n",
       "      <td>0.0</td>\n",
       "      <td>0.0</td>\n",
       "      <td>0.0</td>\n",
       "      <td>0.0</td>\n",
       "      <td>5274.982422</td>\n",
       "      <td>27.365273</td>\n",
       "      <td>5274.982422</td>\n",
       "      <td>26008</td>\n",
       "      <td>632.835666</td>\n",
       "      <td>0.0</td>\n",
       "      <td>-0.684490</td>\n",
       "      <td>1.741469</td>\n",
       "      <td>134</td>\n",
       "      <td>1</td>\n",
       "    </tr>\n",
       "    <tr>\n",
       "      <th>2</th>\n",
       "      <td>0.0</td>\n",
       "      <td>0.0</td>\n",
       "      <td>0.0</td>\n",
       "      <td>0.0</td>\n",
       "      <td>5274.982422</td>\n",
       "      <td>27.216381</td>\n",
       "      <td>5274.982422</td>\n",
       "      <td>26489</td>\n",
       "      <td>628.652286</td>\n",
       "      <td>0.0</td>\n",
       "      <td>1.063347</td>\n",
       "      <td>1.117469</td>\n",
       "      <td>481</td>\n",
       "      <td>1</td>\n",
       "    </tr>\n",
       "    <tr>\n",
       "      <th>3</th>\n",
       "      <td>0.0</td>\n",
       "      <td>0.0</td>\n",
       "      <td>0.0</td>\n",
       "      <td>0.0</td>\n",
       "      <td>5274.982422</td>\n",
       "      <td>26.427600</td>\n",
       "      <td>5274.982422</td>\n",
       "      <td>26967</td>\n",
       "      <td>638.562096</td>\n",
       "      <td>0.0</td>\n",
       "      <td>1.566367</td>\n",
       "      <td>-2.833469</td>\n",
       "      <td>478</td>\n",
       "      <td>1</td>\n",
       "    </tr>\n",
       "    <tr>\n",
       "      <th>4</th>\n",
       "      <td>0.0</td>\n",
       "      <td>0.0</td>\n",
       "      <td>0.0</td>\n",
       "      <td>0.0</td>\n",
       "      <td>5274.982422</td>\n",
       "      <td>28.036255</td>\n",
       "      <td>5274.982422</td>\n",
       "      <td>27137</td>\n",
       "      <td>659.362410</td>\n",
       "      <td>0.0</td>\n",
       "      <td>-2.250857</td>\n",
       "      <td>2.616980</td>\n",
       "      <td>170</td>\n",
       "      <td>1</td>\n",
       "    </tr>\n",
       "    <tr>\n",
       "      <th>...</th>\n",
       "      <td>...</td>\n",
       "      <td>...</td>\n",
       "      <td>...</td>\n",
       "      <td>...</td>\n",
       "      <td>...</td>\n",
       "      <td>...</td>\n",
       "      <td>...</td>\n",
       "      <td>...</td>\n",
       "      <td>...</td>\n",
       "      <td>...</td>\n",
       "      <td>...</td>\n",
       "      <td>...</td>\n",
       "      <td>...</td>\n",
       "      <td>...</td>\n",
       "    </tr>\n",
       "    <tr>\n",
       "      <th>1821283</th>\n",
       "      <td>0.0</td>\n",
       "      <td>0.0</td>\n",
       "      <td>0.0</td>\n",
       "      <td>0.0</td>\n",
       "      <td>5700.322266</td>\n",
       "      <td>26.611713</td>\n",
       "      <td>5700.322266</td>\n",
       "      <td>42543</td>\n",
       "      <td>620.827308</td>\n",
       "      <td>0.0</td>\n",
       "      <td>2.986286</td>\n",
       "      <td>-1.658694</td>\n",
       "      <td>511</td>\n",
       "      <td>1</td>\n",
       "    </tr>\n",
       "    <tr>\n",
       "      <th>1821284</th>\n",
       "      <td>0.0</td>\n",
       "      <td>0.0</td>\n",
       "      <td>0.0</td>\n",
       "      <td>0.0</td>\n",
       "      <td>5700.322266</td>\n",
       "      <td>27.033313</td>\n",
       "      <td>5700.322266</td>\n",
       "      <td>42810</td>\n",
       "      <td>604.203516</td>\n",
       "      <td>0.0</td>\n",
       "      <td>-0.945551</td>\n",
       "      <td>-1.076082</td>\n",
       "      <td>267</td>\n",
       "      <td>1</td>\n",
       "    </tr>\n",
       "    <tr>\n",
       "      <th>1821285</th>\n",
       "      <td>0.0</td>\n",
       "      <td>0.0</td>\n",
       "      <td>0.0</td>\n",
       "      <td>0.0</td>\n",
       "      <td>5700.322266</td>\n",
       "      <td>26.814166</td>\n",
       "      <td>5700.322266</td>\n",
       "      <td>43621</td>\n",
       "      <td>597.997026</td>\n",
       "      <td>0.0</td>\n",
       "      <td>0.308816</td>\n",
       "      <td>-0.423429</td>\n",
       "      <td>811</td>\n",
       "      <td>1</td>\n",
       "    </tr>\n",
       "    <tr>\n",
       "      <th>1821286</th>\n",
       "      <td>0.0</td>\n",
       "      <td>0.0</td>\n",
       "      <td>0.0</td>\n",
       "      <td>0.0</td>\n",
       "      <td>5700.322266</td>\n",
       "      <td>26.929702</td>\n",
       "      <td>5700.322266</td>\n",
       "      <td>43835</td>\n",
       "      <td>605.410524</td>\n",
       "      <td>0.0</td>\n",
       "      <td>1.610939</td>\n",
       "      <td>-0.687673</td>\n",
       "      <td>214</td>\n",
       "      <td>1</td>\n",
       "    </tr>\n",
       "    <tr>\n",
       "      <th>1821287</th>\n",
       "      <td>0.0</td>\n",
       "      <td>0.0</td>\n",
       "      <td>0.0</td>\n",
       "      <td>0.0</td>\n",
       "      <td>5700.322266</td>\n",
       "      <td>27.456814</td>\n",
       "      <td>5700.322266</td>\n",
       "      <td>44039</td>\n",
       "      <td>626.251986</td>\n",
       "      <td>0.0</td>\n",
       "      <td>-2.887592</td>\n",
       "      <td>-1.311673</td>\n",
       "      <td>204</td>\n",
       "      <td>1</td>\n",
       "    </tr>\n",
       "  </tbody>\n",
       "</table>\n",
       "<p>1821288 rows × 14 columns</p>\n",
       "</div>"
      ],
      "text/plain": [
       "         x (nm)  y (nm)  z (nm)  mc_c (Da)  high_voltage (V)    mc (Da)  \\\n",
       "0           0.0     0.0     0.0        0.0       5274.982422  27.292586   \n",
       "1           0.0     0.0     0.0        0.0       5274.982422  27.365273   \n",
       "2           0.0     0.0     0.0        0.0       5274.982422  27.216381   \n",
       "3           0.0     0.0     0.0        0.0       5274.982422  26.427600   \n",
       "4           0.0     0.0     0.0        0.0       5274.982422  28.036255   \n",
       "...         ...     ...     ...        ...               ...        ...   \n",
       "1821283     0.0     0.0     0.0        0.0       5700.322266  26.611713   \n",
       "1821284     0.0     0.0     0.0        0.0       5700.322266  27.033313   \n",
       "1821285     0.0     0.0     0.0        0.0       5700.322266  26.814166   \n",
       "1821286     0.0     0.0     0.0        0.0       5700.322266  26.929702   \n",
       "1821287     0.0     0.0     0.0        0.0       5700.322266  27.456814   \n",
       "\n",
       "               pulse  start_counter      t (ns)  t_c (ns)  x_det (cm)  \\\n",
       "0        5274.982422          25874  630.764550       0.0   -0.410694   \n",
       "1        5274.982422          26008  632.835666       0.0   -0.684490   \n",
       "2        5274.982422          26489  628.652286       0.0    1.063347   \n",
       "3        5274.982422          26967  638.562096       0.0    1.566367   \n",
       "4        5274.982422          27137  659.362410       0.0   -2.250857   \n",
       "...              ...            ...         ...       ...         ...   \n",
       "1821283  5700.322266          42543  620.827308       0.0    2.986286   \n",
       "1821284  5700.322266          42810  604.203516       0.0   -0.945551   \n",
       "1821285  5700.322266          43621  597.997026       0.0    0.308816   \n",
       "1821286  5700.322266          43835  605.410524       0.0    1.610939   \n",
       "1821287  5700.322266          44039  626.251986       0.0   -2.887592   \n",
       "\n",
       "         y_det (cm)  pulse_pi  ion_pp  \n",
       "0          1.665061         0       1  \n",
       "1          1.741469       134       1  \n",
       "2          1.117469       481       1  \n",
       "3         -2.833469       478       1  \n",
       "4          2.616980       170       1  \n",
       "...             ...       ...     ...  \n",
       "1821283   -1.658694       511       1  \n",
       "1821284   -1.076082       267       1  \n",
       "1821285   -0.423429       811       1  \n",
       "1821286   -0.687673       214       1  \n",
       "1821287   -1.311673       204       1  \n",
       "\n",
       "[1821288 rows x 14 columns]"
      ]
     },
     "execution_count": 14,
     "metadata": {},
     "output_type": "execute_result"
    }
   ],
   "source": [
    "data"
   ]
  },
  {
   "cell_type": "code",
   "execution_count": 15,
   "metadata": {},
   "outputs": [
    {
     "data": {
      "application/vnd.jupyter.widget-view+json": {
       "model_id": "ef323d12c5f64726a0445843ea1899ba",
       "version_major": 2,
       "version_minor": 0
      },
      "image/png": "[encoded data removed]",
      "text/html": [
       "\n",
       "            <div style=\"display: inline-block;\">\n",
       "                <div class=\"jupyter-widgets widget-label\" style=\"text-align: center;\">\n",
       "                    Figure\n",
       "                </div>\n",
       "                <img src='data:image/png;base64,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' width=433.0708661417323/>\n",
       "            </div>\n",
       "        "
      ],
      "text/plain": [
       "Canvas(toolbar=Toolbar(toolitems=[('Home', 'Reset original view', 'home', 'home'), ('Back', 'Back to previous …"
      ]
     },
     "metadata": {},
     "output_type": "display_data"
    }
   ],
   "source": [
    "data_loadcrop.plot_crop_experimetn_history(data, save_name=variables.result_path + '//ex_hist_' + dataset_name)\n"
   ]
  },
  {
   "cell_type": "code",
   "execution_count": 16,
   "metadata": {},
   "outputs": [],
   "source": [
    "# exctract needed data from Pandas data frame as an numpy array\n",
    "dld_highVoltage = data['high_voltage (V)'].to_numpy()\n",
    "dld_pulseVoltage = data['pulse'].to_numpy()\n",
    "dld_t = data['t (ns)'].to_numpy()\n",
    "dld_x = data['x_det (cm)'].to_numpy()\n",
    "dld_y = data['y_det (cm)'].to_numpy()\n",
    "mc = data['mc (Da)'].to_numpy()\n",
    "# copy dld_t to a have a global version of that\n",
    "variables.dld_t_calib = np.copy(dld_t)\n",
    "# variables.mc_calib = np.copy(mc)\n",
    "# variables.mc_calib_backup = np.copy(mc)"
   ]
  },
  {
   "cell_type": "code",
   "execution_count": 18,
   "metadata": {},
   "outputs": [],
   "source": [
    "ion_distance = np.sqrt(flightPathLength_d.value**2 + (dld_x*10)**2 + (dld_y*10)**2)\n",
    "ion_distance = flightPathLength_d.value / ion_distance\n",
    "dld_t = dld_t * ion_distance\n",
    "variables.dld_t_calib = np.copy(dld_t)"
   ]
  },
  {
   "cell_type": "code",
   "execution_count": 19,
   "metadata": {},
   "outputs": [],
   "source": [
    "# peaks_ini, peaks_y_ini, peak_widths_p_ini = tools.hist_plot(dld_t[dld_t < 5000], 0.5, distance=100, percent=50, prominence=100, selector='rect', plot=True, label='mc', fig_name=figname+'_orig')"
   ]
  },
  {
   "cell_type": "markdown",
   "metadata": {
    "pycharm": {
     "name": "#%% md\n"
    }
   },
   "source": [
    "$$\\textbf{Below plotted graph offers peak selection. You can select relevant peaks you want for computation.}$$"
   ]
  },
  {
   "cell_type": "code",
   "execution_count": 20,
   "metadata": {
    "pycharm": {
     "name": "#%%\n"
    }
   },
   "outputs": [
    {
     "data": {
      "application/vnd.jupyter.widget-view+json": {
       "model_id": "9a29a7c8a88343d7ad533ba0b8cdc3c4",
       "version_major": 2,
       "version_minor": 0
      },
      "text/plain": [
       "interactive(children=(FloatText(value=54.0, description='t_0'), FloatText(value=0.1, description='bin_size'), …"
      ]
     },
     "metadata": {},
     "output_type": "display_data"
    }
   ],
   "source": [
    "def mc_hist_plot(t_0, bin_size, prominence, distance, percent, selector, plot, figname, lim_mc, flightPathLength, mode):\n",
    "    mc_seb_ini = mc_tools.tof2mc(dld_t, t_0, dld_highVoltage, dld_pulseVoltage, dld_x, dld_y, flightPathLength, mode=mode)\n",
    "    variables.mc_calib = np.copy(mc_seb_ini)\n",
    "    variables.mc_calib_backup = np.copy(mc_seb_ini)\n",
    "    mc = mc_seb_ini\n",
    "    peaks_ini, peaks_y_ini, peak_widths_p_ini, _ = tools.hist_plot(variables.mc_calib[variables.mc_calib < lim_mc], bin_size, distance=distance, percent=percent, prominence=prominence, selector=selector, plot=plot, label='mc', fig_name=figname+'_ini')\n",
    "    index_max_ini = np.argmax(peaks_y_ini)\n",
    "    variables.max_peak = peaks_ini[index_max_ini]\n",
    "    variables.peak = peaks_ini\n",
    "    mrp = (peaks_ini[index_max_ini] / (peak_widths_p_ini[index_max_ini][2] - peak_widths_p_ini[index_max_ini][1]))\n",
    "    print('Mass resolving power for the highest peak (MRP --> m/m_2-m_1):', mrp)\n",
    "    for i in range(len(peaks_ini)):\n",
    "        print('Peaks ', i, 'is at location and height: ({:.2f}, {:.2f})'.format(peaks_ini[i], peaks_y_ini[i]), 'peak window sides ({:.1f}-maximum) are: ({:.2f}, {:.2f})'.format(percent, peak_widths_p_ini[i][1], peak_widths_p_ini[i][2]), '-> {:.2f}'.format(peak_widths_p_ini[i][2] - peak_widths_p_ini[i][1]))\n",
    "\n",
    "interact_manual(mc_hist_plot, t_0=widgets.FloatText(value=t0_d.value), bin_size=widgets.FloatText(value=0.1)\n",
    "               ,prominence=widgets.IntText(value=50), distance=widgets.IntText(value=100), lim_mc=widgets.IntText(value=400)\n",
    "               ,percent=widgets.IntText(value=50), selector=fixed('rect'), plot=fixed(True), figname=fixed(figname), flightPathLength=fixed(flightPathLength_d.value), mode=fixed(pulse_mode.value));\n"
   ]
  },
  {
   "cell_type": "code",
   "execution_count": 21,
   "metadata": {},
   "outputs": [],
   "source": [
    "bin_size=widgets.FloatText(value=0.1, description='bin size:')\n",
    "prominence=widgets.IntText(value=100, description='peak prominance:')\n",
    "distance=widgets.IntText(value=50, description='peak distance:')\n",
    "lim_tof=widgets.IntText(value=400, description='lim tof/mc:')\n",
    "percent=widgets.IntText(value=50, description='percent MRP:')\n",
    "\n",
    "def hist_plot(figname, plot):\n",
    "    \n",
    "    with out:\n",
    "        clear_output(True)\n",
    "    \n",
    "        bin_size_p = bin_size.value\n",
    "        prominence_p = prominence.value\n",
    "        distance_p = distance.value\n",
    "        lim_tof_p = lim_tof.value\n",
    "        percent_p = percent.value\n",
    "        selector='rect'\n",
    "        peaks_ini, peaks_y_ini, peak_widths_p_ini, _ = tools.hist_plot(variables.mc_calib[variables.mc_calib < lim_tof_p], \n",
    "                                                bin_size_p, distance=distance_p, percent=percent_p, prominence=prominence_p,\n",
    "                                                                    selector=selector, plot=plot, label='mc', fig_name=figname)\n",
    "        index_max_ini = np.argmax(peaks_y_ini)\n",
    "        variables.max_peak = peaks_ini[index_max_ini]\n",
    "        variables.peak = peaks_ini\n",
    "        mrp = (peaks_ini[index_max_ini] / (peak_widths_p_ini[index_max_ini][2] - peak_widths_p_ini[index_max_ini][1]))\n",
    "        print('Mass resolving power for the highest peak (MRP --> m/m_2-m_1):', mrp)\n",
    "        for i in range(len(peaks_ini)):\n",
    "                      print('Peaks ', i, 'is at location and height: ({:.2f}, {:.2f})'.format(peaks_ini[i], peaks_y_ini[i]), 'peak window sides ({:.1f}%) are: ({:.2f}, {:.2f})'.format(percent_p, peak_widths_p_ini[i][1], peak_widths_p_ini[i][2]), '-> {:.2f}'.format(peak_widths_p_ini[i][2] - peak_widths_p_ini[i][1]))"
   ]
  },
  {
   "cell_type": "code",
   "execution_count": 22,
   "metadata": {},
   "outputs": [],
   "source": [
    "sample_size_b = widgets.IntText(value=11, description='sample size:') \n",
    "index_fig_b = widgets.IntText(value=1, description='fig index:')\n",
    "plot_b = widgets.Dropdown(\n",
    "    options=[('False', False), ('True', True)],\n",
    "    description='plot fig:'\n",
    ")\n",
    "\n",
    "save_b = widgets.Dropdown(\n",
    "    options=[('False', False), ('True', True)],\n",
    "    description='save fig:'\n",
    ")\n",
    "def bowl_correction(dld_x, dld_y, dld_highVoltage, figname=figname):\n",
    "    with out:\n",
    "        sample_size_p = sample_size_b.value\n",
    "        index_fig_p = index_fig_b.value\n",
    "        plot_p = plot_b.value\n",
    "        save_p = save_b.value\n",
    "\n",
    "        calibration.bowl_correction_main(dld_x, dld_y, dld_highVoltage, det_diam.value, sample_size=sample_size_p, calibration_mode='mc',\n",
    "                                        index_fig=index_fig_p, plot=plot_p, save=save_p)\n"
   ]
  },
  {
   "cell_type": "code",
   "execution_count": 23,
   "metadata": {},
   "outputs": [],
   "source": [
    "sample_size_v =widgets.IntText(value=100, description='sample size:') \n",
    "index_fig_v = widgets.IntText(value=1, description='fig index:')\n",
    "plot_v = widgets.Dropdown(\n",
    "    options=[('False', False), ('True', True)],\n",
    "    description='plot fig:'\n",
    ")\n",
    "save_v = widgets.Dropdown(\n",
    "    options=[('False', False), ('True', True)],\n",
    "    description='save fig:'\n",
    ")\n",
    "mode_v = widgets.Dropdown(\n",
    "    options=[('ion_seq', 'ion_seq'), ('voltage', 'voltage')],\n",
    "    description='sample mode:'\n",
    ")\n",
    "peak_mode = widgets.Dropdown(\n",
    "    options=[('peak', 'peak'), ('mean', 'mean'), ('median', 'median')],\n",
    "    description='peak mode:'\n",
    ")\n",
    "def vol_correction(dld_highVoltage, figname):\n",
    "    with out:\n",
    "        sample_size_p = sample_size_v.value\n",
    "        index_fig_p = index_fig_v.value\n",
    "        plot_p = plot_v.value\n",
    "        save_p = save_v.value\n",
    "        mode_p = mode_v.value\n",
    "        peak_mode_p = peak_mode.value\n",
    "        calibration.voltage_corr_main(dld_highVoltage, sample_size=sample_size_p, calibration_mode='mc',\n",
    "                                        index_fig=index_fig_p, plot=plot_p, save=save_p, mode=mode_p, peak_mode=peak_mode_p)\n"
   ]
  },
  {
   "cell_type": "code",
   "execution_count": 26,
   "metadata": {},
   "outputs": [
    {
     "data": {
      "application/vnd.jupyter.widget-view+json": {
       "model_id": "de21cb20c3e94a20b232bd3c106effb2",
       "version_major": 2,
       "version_minor": 0
      },
      "text/plain": [
       "VBox(children=(Tab(children=(VBox(children=(FloatText(value=0.1, description='bin size:'), IntText(value=100, …"
      ]
     },
     "metadata": {},
     "output_type": "display_data"
    },
    {
     "data": {
      "application/vnd.jupyter.widget-view+json": {
       "model_id": "520655870c134e348d18f0470691fff7",
       "version_major": 2,
       "version_minor": 0
      },
      "text/plain": [
       "Output()"
      ]
     },
     "metadata": {},
     "output_type": "display_data"
    }
   ],
   "source": [
    "pb_bowl = widgets.HTML(\n",
    "    value=\" \",\n",
    "    placeholder='Status:',\n",
    "    description='Status:',\n",
    ")\n",
    "pb_vol = widgets.HTML(\n",
    "    value=\" \",\n",
    "    placeholder='Status:',\n",
    "    description='Status:',\n",
    ")\n",
    "plot_button = widgets.Button(\n",
    "    description='plot hist',\n",
    ")\n",
    "plot_fdm_button = widgets.Button(\n",
    "    description='plot FDM',\n",
    ")\n",
    "reset_button = widgets.Button(\n",
    "    description='reset back correction',\n",
    ")\n",
    "save_button = widgets.Button(\n",
    "    description='save correction',\n",
    ")\n",
    "bowl_button = widgets.Button(\n",
    "    description='bowl correction',\n",
    ")\n",
    "vol_button = widgets.Button(\n",
    "    description='voltage correction',\n",
    ")\n",
    "bin_fdm = widgets.IntText(value=256, description='bin FDM:')\n",
    "\n",
    "\n",
    "\n",
    "@plot_button.on_click\n",
    "def plot_on_click(b, figname=figname, plot=True):\n",
    "    hist_plot(figname, plot)\n",
    "\n",
    "@plot_fdm_button.on_click\n",
    "def plot_fdm_on_click(b, save=True):\n",
    "    with out:\n",
    "        clear_output(True)\n",
    "        mask_temporal = np.logical_and((variables.mc_calib > variables.selected_x1),\n",
    "                                       (variables.mc_calib < variables.selected_x2))\n",
    "        x = dld_x[mask_temporal]\n",
    "        y = dld_y[mask_temporal]\n",
    "        bin_fdm_p = bin_fdm.value\n",
    "        bins = [bin_fdm_p, bin_fdm_p]\n",
    "\n",
    "        calibration.plot_FDM(x, y, save, bins)\n",
    "    \n",
    "@reset_button.on_click\n",
    "def reset_on_click(b, figname=figname, plot=True):\n",
    "    variables.mc_calib = np.copy(variables.mc_calib_backup)\n",
    "    \n",
    "@save_button.on_click\n",
    "def save_on_click(b, figname=figname, plot=True):\n",
    "    variables.mc_calib_backup = np.copy(variables.mc_calib)   \n",
    "    \n",
    "@bowl_button.on_click\n",
    "def bowl_on_click(b, dld_x=dld_x, dld_y=dld_y, dld_highVoltage=dld_highVoltage, figname=figname):\n",
    "    with out:\n",
    "        clear_output(True)\n",
    "        pb_bowl.value = \"<b>Starting...</b>\"\n",
    "        if variables.selected_x1 == 0 or variables.selected_x2 == 0:\n",
    "            Print('Please first select a peak')\n",
    "        else:\n",
    "            bowl_correction(dld_x, dld_y, dld_highVoltage, figname)  \n",
    "        pb_bowl.value = \"<b>Fnished</b>\"\n",
    "@vol_button.on_click\n",
    "def vol_on_click(b, dld_highVoltage=dld_highVoltage, figname=figname):\n",
    "    with out:\n",
    "        clear_output(True)\n",
    "        pb_vol.value = \"<b>Starting...</b>\"\n",
    "        if variables.selected_x1 == 0 or variables.selected_x2 == 0:\n",
    "            Print('Please first select a peak')\n",
    "        else:\n",
    "            vol_correction(dld_highVoltage, figname)\n",
    "        pb_vol.value = \"<b>Fnished</b>\"\n",
    "    \n",
    "\n",
    "\n",
    "tab1 = VBox(children=[bin_size, prominence, distance, lim_tof, percent, bin_fdm])\n",
    "tab2 = VBox(children=[HBox(children=[sample_size_b, index_fig_b, plot_b, save_b]), bowl_button, pb_bowl])\n",
    "tab3 = VBox(children=[HBox(children=[sample_size_v, index_fig_v, mode_v, peak_mode, plot_v, save_v]), vol_button, pb_vol])\n",
    "\n",
    "tab = widgets.Tab(children=[tab1, tab2, tab3])\n",
    "tab.set_title(0, 'tof/mc plot')\n",
    "tab.set_title(1, 'bowl correction')\n",
    "tab.set_title(2, 'voltage correction')\n",
    "\n",
    "\n",
    "\n",
    "display(VBox(children=[tab,HBox(children=[plot_button, plot_fdm_button, save_button, reset_button])]))\n",
    "out = Output()\n",
    "display(out)"
   ]
  },
  {
   "cell_type": "code",
   "execution_count": 25,
   "metadata": {},
   "outputs": [],
   "source": [
    "variables.mc_calib_backup = np.copy(variables.mc_calib)"
   ]
  },
  {
   "cell_type": "code",
   "execution_count": 70,
   "metadata": {},
   "outputs": [],
   "source": [
    "def tof_his(bin_size, prominence, distance, percent, selector, plot, figname, lim_mc):\n",
    "    variables.peaks_idx = []\n",
    "    peaks_ini, peaks_y_ini, peak_widths_p_ini, _ = tools.hist_plot(variables.mc_calib[variables.mc_calib < lim_mc], bin_size, distance=distance, percent=percent, prominence=prominence, selector=selector, plot=plot, label='mc', fig_name=figname)\n",
    "    index_max_ini = np.argmax(peaks_y_ini)\n",
    "    variables.max_peak = peaks_ini[index_max_ini]\n",
    "    variables.peak = peaks_ini\n",
    "    mrp = (peaks_ini[index_max_ini] / (peak_widths_p_ini[index_max_ini][2] - peak_widths_p_ini[index_max_ini][1]))\n",
    "    print('Mass resolving power for the highest peak (MRP --> m/m_2-m_1):', mrp)\n",
    "    for i in range(len(peaks_ini)):\n",
    "        print('Peaks ', i, 'is at location and height: ({:.2f}, {:.2f})'.format(peaks_ini[i], peaks_y_ini[i]), 'peak window sides (half-maximum) are: ({:.2f}, {:.2f})'.format(peak_widths_p_ini[i][1], peak_widths_p_ini[i][2]))"
   ]
  },
  {
   "cell_type": "code",
   "execution_count": 71,
   "metadata": {},
   "outputs": [
    {
     "data": {
      "application/vnd.jupyter.widget-view+json": {
       "model_id": "b2080b4b51cf4afcb79fe85acfe762c6",
       "version_major": 2,
       "version_minor": 0
      },
      "text/plain": [
       "interactive(children=(FloatText(value=0.1, description='bin_size'), IntText(value=50, description='prominence'…"
      ]
     },
     "metadata": {},
     "output_type": "display_data"
    }
   ],
   "source": [
    "\n",
    "interact_manual(tof_his, bin_size=widgets.FloatText(value=0.1)\n",
    "               ,prominence=widgets.IntText(value=50), distance=widgets.IntText(value=100), lim_mc=widgets.IntText(value=max_mc.value)\n",
    "               ,percent=widgets.IntText(value=50), selector=fixed('peak'), plot=fixed(True), figname=fixed(figname+'_cor'));\n"
   ]
  },
  {
   "cell_type": "code",
   "execution_count": 72,
   "metadata": {},
   "outputs": [
    {
     "data": {
      "application/vnd.jupyter.widget-view+json": {
       "model_id": "4f4fa1c4525b4f749ac40e58e2045ebb",
       "version_major": 2,
       "version_minor": 0
      },
      "text/plain": [
       "Dropdown(description='Elements', options=(('H (1) (99.98)', 'H(1)[1.01]'), ('H (2) (0.01)', 'H(2)[2.01]'), ('H…"
      ]
     },
     "metadata": {},
     "output_type": "display_data"
    },
    {
     "data": {
      "application/vnd.jupyter.widget-view+json": {
       "model_id": "e20b256cfdff468d949cf16cc9cd3c51",
       "version_major": 2,
       "version_minor": 0
      },
      "text/plain": [
       "Dropdown(description='Charge', options=((1, 1), (2, 2), (3, 3), (4, 4)), value=1)"
      ]
     },
     "metadata": {},
     "output_type": "display_data"
    },
    {
     "data": {
      "application/vnd.jupyter.widget-view+json": {
       "model_id": "42d15dbb9dc540ebb08a60773a86b1d6",
       "version_major": 2,
       "version_minor": 0
      },
      "text/plain": [
       "Button(description='ADD', icon='check', style=ButtonStyle(), tooltip='ADD')"
      ]
     },
     "metadata": {},
     "output_type": "display_data"
    },
    {
     "data": {
      "application/vnd.jupyter.widget-view+json": {
       "model_id": "e6fcda8bf36148a2a012dfe2afb1b08f",
       "version_major": 2,
       "version_minor": 0
      },
      "text/plain": [
       "Button(description='DELETE', icon='check', style=ButtonStyle(), tooltip='DELETE')"
      ]
     },
     "metadata": {},
     "output_type": "display_data"
    },
    {
     "data": {
      "application/vnd.jupyter.widget-view+json": {
       "model_id": "e54f0abf941247a189250407302adf09",
       "version_major": 2,
       "version_minor": 0
      },
      "text/plain": [
       "Button(description='RESET', icon='check', style=ButtonStyle(), tooltip='RESET')"
      ]
     },
     "metadata": {},
     "output_type": "display_data"
    },
    {
     "data": {
      "application/vnd.jupyter.widget-view+json": {
       "model_id": "82969a14e5464fd5945ab6259578660e",
       "version_major": 2,
       "version_minor": 0
      },
      "text/plain": [
       "Output()"
      ]
     },
     "metadata": {},
     "output_type": "display_data"
    }
   ],
   "source": [
    "isotopeTableFile = '../../../files/isotopeTable.h5'\n",
    "dataframe = data_tools.read_hdf5_through_pandas(isotopeTableFile)\n",
    "elementsList = dataframe['element']\n",
    "elementIsotopeList = dataframe['isotope']\n",
    "elementMassList =  dataframe['weight']\n",
    "abundanceList = dataframe['abundance']\n",
    "\n",
    "elements = list(zip(elementsList, elementIsotopeList, elementMassList, abundanceList))\n",
    "dropdownList = []\n",
    "for element in elements:\n",
    "    tupleElement = (\"{} ({}) ({:.2f})\".format(element[0], element[1], element[3]), \"{}({})[{}]\".format(element[0], element[1], element[2]))\n",
    "    dropdownList.append(tupleElement)\n",
    "\n",
    "chargeList = [(1,1,),(2,2,),(3,3,),(4,4,)]\n",
    "dropdown = wd.dropdownWidget(dropdownList,\"Elements\")\n",
    "dropdown.observe(wd.on_change)\n",
    "\n",
    "\n",
    "chargeDropdown = wd.dropdownWidget(chargeList,\"Charge\")\n",
    "chargeDropdown.observe(wd.on_change_charge)\n",
    "\n",
    "wd.compute_element_isotope_values_according_to_selected_charge()\n",
    "\n",
    "buttonAdd = wd.buttonWidget(\"ADD\")\n",
    "buttonDelete = wd.buttonWidget(\"DELETE\")\n",
    "buttonReset = wd.buttonWidget(\"RESET\")\n",
    "\n",
    "display(dropdown, chargeDropdown, buttonAdd, buttonDelete, buttonReset)\n",
    "\n",
    "def buttonAdd_f(b,):\n",
    "    with out:\n",
    "        clear_output(True)\n",
    "        wd.onClickAdd(b,)\n",
    "        display()\n",
    "def buttonDelete_f(b,):\n",
    "    with out:\n",
    "        clear_output(True)\n",
    "        wd.onClickDelete(b,)\n",
    "        display()\n",
    "def buttonResett_f(b,):\n",
    "    with out:\n",
    "        clear_output(True)\n",
    "        wd.onClickReset(b,)\n",
    "        display()\n",
    "\n",
    "listMaterial = buttonAdd.on_click(buttonAdd_f)\n",
    "buttonDelete.on_click(buttonDelete_f)\n",
    "buttonReset.on_click(buttonResett_f)\n",
    "# listMaterial = buttonAdd.on_click(wd.onClickAdd)\n",
    "# buttonDelete.on_click(wd.onClickDelete)\n",
    "# buttonReset.on_click(wd.onClickReset)\n",
    "out = Output()\n",
    "display(out)"
   ]
  },
  {
   "cell_type": "code",
   "execution_count": 58,
   "metadata": {},
   "outputs": [
    {
     "name": "stdout",
     "output_type": "stream",
     "text": [
      "highest peak in the tof histogram: []\n",
      "highest peak in the ideal mc histogram: []\n"
     ]
    }
   ],
   "source": [
    "peaks_chos = []\n",
    "for i in range(len(variables.peaks_idx)):\n",
    "    peaks_chos.append(variables.peak[variables.peaks_idx[i]])\n",
    "peaks_chos = np.array(peaks_chos)\n",
    "listMaterial = np.array(variables.listMaterial)\n",
    "print('highest peak in the tof histogram:', peaks_chos)\n",
    "print('highest peak in the ideal mc histogram:', listMaterial)"
   ]
  },
  {
   "cell_type": "code",
   "execution_count": null,
   "metadata": {},
   "outputs": [],
   "source": [
    "def shift(mc, a, b):\n",
    "\n",
    "    # return c * ((t - t0)**2) + d\n",
    "    return mc ** a + b\n",
    "\n",
    "def shift_calib(mc, mc_ideal):\n",
    "    \n",
    "    fitresult, _ = curve_fit(shift, mc, mc_ideal, maxfev=2000)\n",
    "    return fitresult\n",
    "\n",
    "fitresult = shift_calib(peaks_chos,  variables.listMaterial)\n",
    "mc_p_1 = shift(variables.mc_calib, *fitresult)\n",
    "\n",
    "# f_shift = interpolate.interp1d(np.array(variables.listMaterial).T, peaks_chos.T, fill_value=\"extrapolate\")\n",
    "# variables.mc_calib = f_shift(variables.mc_calib)\n"
   ]
  },
  {
   "cell_type": "code",
   "execution_count": 77,
   "metadata": {},
   "outputs": [],
   "source": [
    "def tof_his(bin_size, prominence, distance, percent, selector, plot, figname, lim_mc):\n",
    "    peaks_ini, peaks_y_ini, peak_widths_p_ini, _ = tools.hist_plot(variables.mc_calib[variables.mc_calib < lim_mc], bin_size, distance=distance, percent=percent, prominence=prominence, selector=selector, plot=plot, label='mc', fig_name=figname)\n",
    "    index_max_ini = np.argmax(peaks_y_ini)\n",
    "    variables.max_peak = peaks_ini[index_max_ini]\n",
    "    variables.peak = peaks_ini\n",
    "    mrp = (peaks_ini[index_max_ini] / (peak_widths_p_ini[index_max_ini][2] - peak_widths_p_ini[index_max_ini][1]))\n",
    "    print('Mass resolving power for the highest peak (MRP --> m/m_2-m_1):', mrp)\n",
    "    for i in range(len(peaks_ini)):\n",
    "        print('Peaks ', i, 'is at location and height: ({:.2f}, {:.2f})'.format(peaks_ini[i], peaks_y_ini[i]), 'peak window sides (half-maximum) are: ({:.2f}, {:.2f})'.format(peak_widths_p_ini[i][1], peak_widths_p_ini[i][2]))"
   ]
  },
  {
   "cell_type": "code",
   "execution_count": 78,
   "metadata": {},
   "outputs": [
    {
     "data": {
      "application/vnd.jupyter.widget-view+json": {
       "model_id": "23deb85d84ce4e7598fdc45e3f389347",
       "version_major": 2,
       "version_minor": 0
      },
      "text/plain": [
       "interactive(children=(FloatText(value=0.1, description='bin_size'), IntText(value=50, description='prominence'…"
      ]
     },
     "metadata": {},
     "output_type": "display_data"
    }
   ],
   "source": [
    "interact_manual(mc_his, mc=fixed(mc_p_1), bin_size=widgets.FloatText(value=0.1)\n",
    "               ,prominence=widgets.IntText(value=50), distance=widgets.IntText(value=100), lim_mc=widgets.IntText(value=150)\n",
    "               ,percent=widgets.IntText(value=50), selector=fixed('None'), plot=fixed(True), figname=fixed(figname+'_cor'));\n"
   ]
  },
  {
   "cell_type": "code",
   "execution_count": 144,
   "metadata": {},
   "outputs": [],
   "source": [
    "variables.mc_calib =  mc_p_1"
   ]
  },
  {
   "cell_type": "code",
   "execution_count": 80,
   "metadata": {},
   "outputs": [],
   "source": [
    "\n",
    "data['mc_c (Da)'] = variables.mc_calib_backup"
   ]
  },
  {
   "cell_type": "code",
   "execution_count": 81,
   "metadata": {},
   "outputs": [
    {
     "data": {
      "text/html": [
       "<div>\n",
       "<style scoped>\n",
       "    .dataframe tbody tr th:only-of-type {\n",
       "        vertical-align: middle;\n",
       "    }\n",
       "\n",
       "    .dataframe tbody tr th {\n",
       "        vertical-align: top;\n",
       "    }\n",
       "\n",
       "    .dataframe thead th {\n",
       "        text-align: right;\n",
       "    }\n",
       "</style>\n",
       "<table border=\"1\" class=\"dataframe\">\n",
       "  <thead>\n",
       "    <tr style=\"text-align: right;\">\n",
       "      <th></th>\n",
       "      <th>x (nm)</th>\n",
       "      <th>y (nm)</th>\n",
       "      <th>z (nm)</th>\n",
       "      <th>mc_c (Da)</th>\n",
       "      <th>mc (Da)</th>\n",
       "      <th>high_voltage (V)</th>\n",
       "      <th>pulse (deg)</th>\n",
       "      <th>start_counter</th>\n",
       "      <th>t (ns)</th>\n",
       "      <th>t_c (ns)</th>\n",
       "      <th>x_det (cm)</th>\n",
       "      <th>y_det (cm)</th>\n",
       "      <th>pulse_pi</th>\n",
       "      <th>ion_pp</th>\n",
       "    </tr>\n",
       "  </thead>\n",
       "  <tbody>\n",
       "    <tr>\n",
       "      <th>0</th>\n",
       "      <td>0.0</td>\n",
       "      <td>0.0</td>\n",
       "      <td>0.0</td>\n",
       "      <td>0.870039</td>\n",
       "      <td>0.866215</td>\n",
       "      <td>8118.056152</td>\n",
       "      <td>230.0</td>\n",
       "      <td>214.0</td>\n",
       "      <td>214.0</td>\n",
       "      <td>0.0</td>\n",
       "      <td>1.032970</td>\n",
       "      <td>0.558104</td>\n",
       "      <td>0</td>\n",
       "      <td>1</td>\n",
       "    </tr>\n",
       "    <tr>\n",
       "      <th>1</th>\n",
       "      <td>0.0</td>\n",
       "      <td>0.0</td>\n",
       "      <td>0.0</td>\n",
       "      <td>101.368715</td>\n",
       "      <td>101.605702</td>\n",
       "      <td>8118.056152</td>\n",
       "      <td>230.0</td>\n",
       "      <td>2007.0</td>\n",
       "      <td>2007.0</td>\n",
       "      <td>0.0</td>\n",
       "      <td>-2.864820</td>\n",
       "      <td>-1.211240</td>\n",
       "      <td>1793</td>\n",
       "      <td>1</td>\n",
       "    </tr>\n",
       "    <tr>\n",
       "      <th>2</th>\n",
       "      <td>0.0</td>\n",
       "      <td>0.0</td>\n",
       "      <td>0.0</td>\n",
       "      <td>341.513402</td>\n",
       "      <td>340.906069</td>\n",
       "      <td>8118.056152</td>\n",
       "      <td>230.0</td>\n",
       "      <td>3643.0</td>\n",
       "      <td>3643.0</td>\n",
       "      <td>0.0</td>\n",
       "      <td>-2.689240</td>\n",
       "      <td>0.717955</td>\n",
       "      <td>3643</td>\n",
       "      <td>1</td>\n",
       "    </tr>\n",
       "    <tr>\n",
       "      <th>3</th>\n",
       "      <td>0.0</td>\n",
       "      <td>0.0</td>\n",
       "      <td>0.0</td>\n",
       "      <td>332.985301</td>\n",
       "      <td>334.185929</td>\n",
       "      <td>8118.056152</td>\n",
       "      <td>230.0</td>\n",
       "      <td>3615.0</td>\n",
       "      <td>3615.0</td>\n",
       "      <td>0.0</td>\n",
       "      <td>-0.171491</td>\n",
       "      <td>-3.212160</td>\n",
       "      <td>0</td>\n",
       "      <td>0</td>\n",
       "    </tr>\n",
       "    <tr>\n",
       "      <th>4</th>\n",
       "      <td>0.0</td>\n",
       "      <td>0.0</td>\n",
       "      <td>0.0</td>\n",
       "      <td>99.202192</td>\n",
       "      <td>98.995943</td>\n",
       "      <td>8118.056152</td>\n",
       "      <td>230.0</td>\n",
       "      <td>1983.0</td>\n",
       "      <td>1983.0</td>\n",
       "      <td>0.0</td>\n",
       "      <td>-3.106970</td>\n",
       "      <td>0.977451</td>\n",
       "      <td>0</td>\n",
       "      <td>0</td>\n",
       "    </tr>\n",
       "    <tr>\n",
       "      <th>...</th>\n",
       "      <td>...</td>\n",
       "      <td>...</td>\n",
       "      <td>...</td>\n",
       "      <td>...</td>\n",
       "      <td>...</td>\n",
       "      <td>...</td>\n",
       "      <td>...</td>\n",
       "      <td>...</td>\n",
       "      <td>...</td>\n",
       "      <td>...</td>\n",
       "      <td>...</td>\n",
       "      <td>...</td>\n",
       "      <td>...</td>\n",
       "      <td>...</td>\n",
       "    </tr>\n",
       "    <tr>\n",
       "      <th>690611</th>\n",
       "      <td>0.0</td>\n",
       "      <td>0.0</td>\n",
       "      <td>0.0</td>\n",
       "      <td>65.968453</td>\n",
       "      <td>65.528238</td>\n",
       "      <td>7221.176270</td>\n",
       "      <td>242.0</td>\n",
       "      <td>1706.0</td>\n",
       "      <td>1706.0</td>\n",
       "      <td>0.0</td>\n",
       "      <td>1.399840</td>\n",
       "      <td>1.460980</td>\n",
       "      <td>1706</td>\n",
       "      <td>1</td>\n",
       "    </tr>\n",
       "    <tr>\n",
       "      <th>690612</th>\n",
       "      <td>0.0</td>\n",
       "      <td>0.0</td>\n",
       "      <td>0.0</td>\n",
       "      <td>101.412468</td>\n",
       "      <td>100.876531</td>\n",
       "      <td>7221.176270</td>\n",
       "      <td>242.0</td>\n",
       "      <td>2121.0</td>\n",
       "      <td>2121.0</td>\n",
       "      <td>0.0</td>\n",
       "      <td>-2.308090</td>\n",
       "      <td>2.408430</td>\n",
       "      <td>415</td>\n",
       "      <td>1</td>\n",
       "    </tr>\n",
       "    <tr>\n",
       "      <th>690613</th>\n",
       "      <td>0.0</td>\n",
       "      <td>0.0</td>\n",
       "      <td>0.0</td>\n",
       "      <td>99.282469</td>\n",
       "      <td>98.712700</td>\n",
       "      <td>7221.176270</td>\n",
       "      <td>242.0</td>\n",
       "      <td>2096.0</td>\n",
       "      <td>2096.0</td>\n",
       "      <td>0.0</td>\n",
       "      <td>3.067440</td>\n",
       "      <td>-0.521695</td>\n",
       "      <td>4294967271</td>\n",
       "      <td>1</td>\n",
       "    </tr>\n",
       "    <tr>\n",
       "      <th>690614</th>\n",
       "      <td>0.0</td>\n",
       "      <td>0.0</td>\n",
       "      <td>0.0</td>\n",
       "      <td>99.203155</td>\n",
       "      <td>99.510744</td>\n",
       "      <td>7221.176270</td>\n",
       "      <td>242.0</td>\n",
       "      <td>2099.0</td>\n",
       "      <td>2099.0</td>\n",
       "      <td>0.0</td>\n",
       "      <td>-0.463658</td>\n",
       "      <td>-2.527050</td>\n",
       "      <td>2099</td>\n",
       "      <td>1</td>\n",
       "    </tr>\n",
       "    <tr>\n",
       "      <th>690615</th>\n",
       "      <td>0.0</td>\n",
       "      <td>0.0</td>\n",
       "      <td>0.0</td>\n",
       "      <td>303.467967</td>\n",
       "      <td>303.286304</td>\n",
       "      <td>7221.176270</td>\n",
       "      <td>242.0</td>\n",
       "      <td>3623.0</td>\n",
       "      <td>3623.0</td>\n",
       "      <td>0.0</td>\n",
       "      <td>-0.964503</td>\n",
       "      <td>-0.349587</td>\n",
       "      <td>1524</td>\n",
       "      <td>1</td>\n",
       "    </tr>\n",
       "  </tbody>\n",
       "</table>\n",
       "<p>690616 rows × 14 columns</p>\n",
       "</div>"
      ],
      "text/plain": [
       "        x (nm)  y (nm)  z (nm)   mc_c (Da)     mc (Da)  high_voltage (V)  \\\n",
       "0          0.0     0.0     0.0    0.870039    0.866215       8118.056152   \n",
       "1          0.0     0.0     0.0  101.368715  101.605702       8118.056152   \n",
       "2          0.0     0.0     0.0  341.513402  340.906069       8118.056152   \n",
       "3          0.0     0.0     0.0  332.985301  334.185929       8118.056152   \n",
       "4          0.0     0.0     0.0   99.202192   98.995943       8118.056152   \n",
       "...        ...     ...     ...         ...         ...               ...   \n",
       "690611     0.0     0.0     0.0   65.968453   65.528238       7221.176270   \n",
       "690612     0.0     0.0     0.0  101.412468  100.876531       7221.176270   \n",
       "690613     0.0     0.0     0.0   99.282469   98.712700       7221.176270   \n",
       "690614     0.0     0.0     0.0   99.203155   99.510744       7221.176270   \n",
       "690615     0.0     0.0     0.0  303.467967  303.286304       7221.176270   \n",
       "\n",
       "        pulse (deg)  start_counter  t (ns)  t_c (ns)  x_det (cm)  y_det (cm)  \\\n",
       "0             230.0          214.0   214.0       0.0    1.032970    0.558104   \n",
       "1             230.0         2007.0  2007.0       0.0   -2.864820   -1.211240   \n",
       "2             230.0         3643.0  3643.0       0.0   -2.689240    0.717955   \n",
       "3             230.0         3615.0  3615.0       0.0   -0.171491   -3.212160   \n",
       "4             230.0         1983.0  1983.0       0.0   -3.106970    0.977451   \n",
       "...             ...            ...     ...       ...         ...         ...   \n",
       "690611        242.0         1706.0  1706.0       0.0    1.399840    1.460980   \n",
       "690612        242.0         2121.0  2121.0       0.0   -2.308090    2.408430   \n",
       "690613        242.0         2096.0  2096.0       0.0    3.067440   -0.521695   \n",
       "690614        242.0         2099.0  2099.0       0.0   -0.463658   -2.527050   \n",
       "690615        242.0         3623.0  3623.0       0.0   -0.964503   -0.349587   \n",
       "\n",
       "          pulse_pi  ion_pp  \n",
       "0                0       1  \n",
       "1             1793       1  \n",
       "2             3643       1  \n",
       "3                0       0  \n",
       "4                0       0  \n",
       "...            ...     ...  \n",
       "690611        1706       1  \n",
       "690612         415       1  \n",
       "690613  4294967271       1  \n",
       "690614        2099       1  \n",
       "690615        1524       1  \n",
       "\n",
       "[690616 rows x 14 columns]"
      ]
     },
     "execution_count": 81,
     "metadata": {},
     "output_type": "execute_result"
    }
   ],
   "source": [
    "data"
   ]
  },
  {
   "cell_type": "code",
   "execution_count": 82,
   "metadata": {},
   "outputs": [],
   "source": [
    "# save the new data\n",
    "name_save_file = variables.result_path + '//' + dataset_name + '.h5'\n",
    "data_tools.store_df_to_hdf(name_save_file, data, 'df')"
   ]
  },
  {
   "cell_type": "code",
   "execution_count": 83,
   "metadata": {},
   "outputs": [],
   "source": [
    "# save data as epos file\n",
    "epos = ccapt_tools.ccapt_to_epos(data, pulse_mode=pulse_mode.value, path=variables.result_path, name=dataset_name + '.epos')\n",
    "pos = ccapt_tools.ccapt_to_pos(data, path=variables.result_path, name=dataset_name + '.pos')"
   ]
  },
  {
   "cell_type": "code",
   "execution_count": 149,
   "metadata": {},
   "outputs": [],
   "source": [
    "# save data in csv format\n",
    "data_tools.store_df_to_csv(data, variables.result_path + dataset_name + '.csv')"
   ]
  },
  {
   "cell_type": "code",
   "execution_count": null,
   "metadata": {},
   "outputs": [],
   "source": []
  }
 ],
 "metadata": {
  "kernelspec": {
   "display_name": "Python 3 (ipykernel)",
   "language": "python",
   "name": "python3"
  },
  "language_info": {
   "codemirror_mode": {
    "name": "ipython",
    "version": 3
   },
   "file_extension": ".py",
   "mimetype": "text/x-python",
   "name": "python",
   "nbconvert_exporter": "python",
   "pygments_lexer": "ipython3",
   "version": "3.8.13"
  }
 },
 "nbformat": 4,
 "nbformat_minor": 4
}

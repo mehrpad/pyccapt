{
 "cells": [
  {
   "cell_type": "code",
   "execution_count": 2,
   "metadata": {
    "pycharm": {
     "name": "#%%\n"
    }
   },
   "outputs": [],
   "source": [
    "%matplotlib ipympl\n",
    "import os\n",
    "import os.path as path\n",
    "import numpy as np\n",
    "from scipy.optimize import curve_fit\n",
    "from scipy import interpolate\n",
    "from sklearn.preprocessing import MinMaxScaler\n",
    "import matplotlib.pyplot as plt\n",
    "from ipywidgets import fixed, interact_manual, widgets\n",
    "from ipywidgets import HBox, VBox\n",
    "from IPython.display import clear_output\n",
    "from IPython.display import display\n",
    "from ipywidgets import IntSlider, Output\n",
    "from itertools import product\n",
    "from scipy.signal import find_peaks\n",
    "import math\n",
    "from mpl_toolkits.mplot3d import Axes3D\n",
    "\n",
    "# Local module and scripts\n",
    "from pyccapt.calibration.calibration_tools import tools, variables, calibration\n",
    "from pyccapt.calibration.calibration_tools import widgets as wd\n",
    "from pyccapt.calibration.data_tools import data_tools, data_loadcrop, dataset_path_qt\n",
    "from pyccapt.calibration.mc import mc_tools\n",
    "from pyccapt.calibration.leap_tools import ccapt_tools"
   ]
  },
  {
   "cell_type": "code",
   "execution_count": 3,
   "metadata": {
    "tags": []
   },
   "outputs": [],
   "source": [
    "%load_ext autoreload\n",
    "%autoreload 2"
   ]
  },
  {
   "cell_type": "code",
   "execution_count": 4,
   "metadata": {
    "tags": []
   },
   "outputs": [],
   "source": [
    "%reload_ext autoreload"
   ]
  },
  {
   "cell_type": "code",
   "execution_count": 5,
   "metadata": {
    "pycharm": {
     "name": "#%%\n"
    }
   },
   "outputs": [],
   "source": [
    "# Disable showing logging in Jupyter notebook\n",
    "import logging, sys\n",
    "logging.disable(sys.maxsize)\n",
    "save_fig=False\n",
    "plot_fig=True "
   ]
  },
  {
   "cell_type": "code",
   "execution_count": 6,
   "metadata": {},
   "outputs": [
    {
     "data": {
      "application/vnd.jupyter.widget-view+json": {
       "model_id": "599037045cd74f6a9abf336e5c58542a",
       "version_major": 2,
       "version_minor": 0
      },
      "text/plain": [
       "Button(description='load dataset', style=ButtonStyle())"
      ]
     },
     "execution_count": 6,
     "metadata": {},
     "output_type": "execute_result"
    }
   ],
   "source": [
    "button = widgets.Button(\n",
    "    description='load dataset',\n",
    ")\n",
    "\n",
    "@button.on_click\n",
    "def open_file_on_click(b):\n",
    "    global dataset_path\n",
    "    dataset_path = dataset_path_qt.gui_fname().decode('ASCII')\n",
    "button"
   ]
  },
  {
   "cell_type": "code",
   "execution_count": 38,
   "metadata": {},
   "outputs": [
    {
     "data": {
      "application/vnd.jupyter.widget-view+json": {
       "model_id": "bb804994dd4747a78c36b55d196f71e1",
       "version_major": 2,
       "version_minor": 0
      },
      "text/plain": [
       "Dropdown(description='Data mode:', options=('surface_concept', 'roentdec', 'leap_epos', 'leap_pos'), value='su…"
      ]
     },
     "metadata": {},
     "output_type": "display_data"
    },
    {
     "data": {
      "application/vnd.jupyter.widget-view+json": {
       "model_id": "6f09a409ca53455ea6c1ea869c9a86a6",
       "version_major": 2,
       "version_minor": 0
      },
      "text/plain": [
       "Dropdown(description='Pulse mode:', options=('voltage', 'laser'), value='voltage')"
      ]
     },
     "metadata": {},
     "output_type": "display_data"
    },
    {
     "data": {
      "application/vnd.jupyter.widget-view+json": {
       "model_id": "f37b3186405c47988d6c423f263ea1af",
       "version_major": 2,
       "version_minor": 0
      },
      "text/plain": [
       "FloatText(value=110.0, description='Flight path length:')"
      ]
     },
     "metadata": {},
     "output_type": "display_data"
    },
    {
     "data": {
      "application/vnd.jupyter.widget-view+json": {
       "model_id": "38d4c8993670442a83510087af70d18f",
       "version_major": 2,
       "version_minor": 0
      },
      "text/plain": [
       "FloatText(value=54.0, description='t0:')"
      ]
     },
     "metadata": {},
     "output_type": "display_data"
    },
    {
     "data": {
      "application/vnd.jupyter.widget-view+json": {
       "model_id": "dcdce52e9b484b39bed842bbcbdaf5c1",
       "version_major": 2,
       "version_minor": 0
      },
      "text/plain": [
       "FloatText(value=400.0, description='Max mc:')"
      ]
     },
     "metadata": {},
     "output_type": "display_data"
    },
    {
     "data": {
      "application/vnd.jupyter.widget-view+json": {
       "model_id": "86cff8e203fa48d284acafee3f2345de",
       "version_major": 2,
       "version_minor": 0
      },
      "text/plain": [
       "FloatText(value=78.0, description='Detector diameter:')"
      ]
     },
     "metadata": {},
     "output_type": "display_data"
    }
   ],
   "source": [
    "tdc, pulse_mode, flightPathLength_d, t0_d, max_mc, det_diam = wd.dataset_tdc_selection()\n",
    "display(tdc, pulse_mode, flightPathLength_d, t0_d, max_mc, det_diam)"
   ]
  },
  {
   "cell_type": "markdown",
   "metadata": {
    "pycharm": {
     "name": "#%% md\n"
    }
   },
   "source": [
    "$$\\textbf{You can specify which dataset to use in below block}$$"
   ]
  },
  {
   "cell_type": "code",
   "execution_count": 84,
   "metadata": {
    "pycharm": {
     "name": "#%%\n"
    }
   },
   "outputs": [],
   "source": [
    "dataset_main_path = os.path.dirname(dataset_path)\n",
    "dataset_name_with_extention = os.path.basename(dataset_path)\n",
    "dataset_name = os.path.splitext(dataset_name_with_extention)[0]\n",
    "\n",
    "\n",
    "variables.init()\n",
    "\n",
    "variables.result_path = os.path.dirname(dataset_main_path) + '/mc_calibration/'\n",
    "if not os.path.isdir(variables.result_path):\n",
    "    os.makedirs(variables.result_path, mode=0o777, exist_ok=True)\n",
    "        \n",
    "filename = dataset_path\n",
    "\n",
    "head, tail = os.path.split(filename)\n",
    "figname = os.path.splitext(tail)[0]\n",
    "\n",
    "if tdc.value == 'leap_pos' or tdc.value == 'leap_epos':\n",
    "    if tdc.value == 'leap_epos':\n",
    "        data = ccapt_tools.epos_to_ccapt(filename)\n",
    "    else:\n",
    "        print('The file has to be epos. With pos information this tutorial cannot be run')\n",
    "        data = ccapt_tools.pos_to_ccapt(filename)\n",
    "else:\n",
    "    data = data_tools.read_hdf5_through_pandas(filename)\n"
   ]
  },
  {
   "cell_type": "code",
   "execution_count": 85,
   "metadata": {
    "pycharm": {
     "name": "#%%\n"
    }
   },
   "outputs": [
    {
     "data": {
      "text/html": [
       "<div>\n",
       "<style scoped>\n",
       "    .dataframe tbody tr th:only-of-type {\n",
       "        vertical-align: middle;\n",
       "    }\n",
       "\n",
       "    .dataframe tbody tr th {\n",
       "        vertical-align: top;\n",
       "    }\n",
       "\n",
       "    .dataframe thead th {\n",
       "        text-align: right;\n",
       "    }\n",
       "</style>\n",
       "<table border=\"1\" class=\"dataframe\">\n",
       "  <thead>\n",
       "    <tr style=\"text-align: right;\">\n",
       "      <th></th>\n",
       "      <th>x (nm)</th>\n",
       "      <th>y (nm)</th>\n",
       "      <th>z (nm)</th>\n",
       "      <th>mc_c (Da)</th>\n",
       "      <th>mc (Da)</th>\n",
       "      <th>high_voltage (V)</th>\n",
       "      <th>pulse (deg)</th>\n",
       "      <th>start_counter</th>\n",
       "      <th>t (ns)</th>\n",
       "      <th>t_c (ns)</th>\n",
       "      <th>x_det (cm)</th>\n",
       "      <th>y_det (cm)</th>\n",
       "      <th>pulse_pi</th>\n",
       "      <th>ion_pp</th>\n",
       "    </tr>\n",
       "  </thead>\n",
       "  <tbody>\n",
       "    <tr>\n",
       "      <th>0</th>\n",
       "      <td>0.0</td>\n",
       "      <td>0.0</td>\n",
       "      <td>0.0</td>\n",
       "      <td>0.0</td>\n",
       "      <td>0.866215</td>\n",
       "      <td>8118.056152</td>\n",
       "      <td>230.0</td>\n",
       "      <td>214.0</td>\n",
       "      <td>214.0</td>\n",
       "      <td>0.0</td>\n",
       "      <td>1.032970</td>\n",
       "      <td>0.558104</td>\n",
       "      <td>0</td>\n",
       "      <td>1</td>\n",
       "    </tr>\n",
       "    <tr>\n",
       "      <th>1</th>\n",
       "      <td>0.0</td>\n",
       "      <td>0.0</td>\n",
       "      <td>0.0</td>\n",
       "      <td>0.0</td>\n",
       "      <td>101.605702</td>\n",
       "      <td>8118.056152</td>\n",
       "      <td>230.0</td>\n",
       "      <td>2007.0</td>\n",
       "      <td>2007.0</td>\n",
       "      <td>0.0</td>\n",
       "      <td>-2.864820</td>\n",
       "      <td>-1.211240</td>\n",
       "      <td>1793</td>\n",
       "      <td>1</td>\n",
       "    </tr>\n",
       "    <tr>\n",
       "      <th>2</th>\n",
       "      <td>0.0</td>\n",
       "      <td>0.0</td>\n",
       "      <td>0.0</td>\n",
       "      <td>0.0</td>\n",
       "      <td>340.906069</td>\n",
       "      <td>8118.056152</td>\n",
       "      <td>230.0</td>\n",
       "      <td>3643.0</td>\n",
       "      <td>3643.0</td>\n",
       "      <td>0.0</td>\n",
       "      <td>-2.689240</td>\n",
       "      <td>0.717955</td>\n",
       "      <td>3643</td>\n",
       "      <td>1</td>\n",
       "    </tr>\n",
       "    <tr>\n",
       "      <th>3</th>\n",
       "      <td>0.0</td>\n",
       "      <td>0.0</td>\n",
       "      <td>0.0</td>\n",
       "      <td>0.0</td>\n",
       "      <td>334.185929</td>\n",
       "      <td>8118.056152</td>\n",
       "      <td>230.0</td>\n",
       "      <td>3615.0</td>\n",
       "      <td>3615.0</td>\n",
       "      <td>0.0</td>\n",
       "      <td>-0.171491</td>\n",
       "      <td>-3.212160</td>\n",
       "      <td>0</td>\n",
       "      <td>0</td>\n",
       "    </tr>\n",
       "    <tr>\n",
       "      <th>4</th>\n",
       "      <td>0.0</td>\n",
       "      <td>0.0</td>\n",
       "      <td>0.0</td>\n",
       "      <td>0.0</td>\n",
       "      <td>98.995943</td>\n",
       "      <td>8118.056152</td>\n",
       "      <td>230.0</td>\n",
       "      <td>1983.0</td>\n",
       "      <td>1983.0</td>\n",
       "      <td>0.0</td>\n",
       "      <td>-3.106970</td>\n",
       "      <td>0.977451</td>\n",
       "      <td>0</td>\n",
       "      <td>0</td>\n",
       "    </tr>\n",
       "    <tr>\n",
       "      <th>...</th>\n",
       "      <td>...</td>\n",
       "      <td>...</td>\n",
       "      <td>...</td>\n",
       "      <td>...</td>\n",
       "      <td>...</td>\n",
       "      <td>...</td>\n",
       "      <td>...</td>\n",
       "      <td>...</td>\n",
       "      <td>...</td>\n",
       "      <td>...</td>\n",
       "      <td>...</td>\n",
       "      <td>...</td>\n",
       "      <td>...</td>\n",
       "      <td>...</td>\n",
       "    </tr>\n",
       "    <tr>\n",
       "      <th>690611</th>\n",
       "      <td>0.0</td>\n",
       "      <td>0.0</td>\n",
       "      <td>0.0</td>\n",
       "      <td>0.0</td>\n",
       "      <td>65.528238</td>\n",
       "      <td>7221.176270</td>\n",
       "      <td>242.0</td>\n",
       "      <td>1706.0</td>\n",
       "      <td>1706.0</td>\n",
       "      <td>0.0</td>\n",
       "      <td>1.399840</td>\n",
       "      <td>1.460980</td>\n",
       "      <td>1706</td>\n",
       "      <td>1</td>\n",
       "    </tr>\n",
       "    <tr>\n",
       "      <th>690612</th>\n",
       "      <td>0.0</td>\n",
       "      <td>0.0</td>\n",
       "      <td>0.0</td>\n",
       "      <td>0.0</td>\n",
       "      <td>100.876531</td>\n",
       "      <td>7221.176270</td>\n",
       "      <td>242.0</td>\n",
       "      <td>2121.0</td>\n",
       "      <td>2121.0</td>\n",
       "      <td>0.0</td>\n",
       "      <td>-2.308090</td>\n",
       "      <td>2.408430</td>\n",
       "      <td>415</td>\n",
       "      <td>1</td>\n",
       "    </tr>\n",
       "    <tr>\n",
       "      <th>690613</th>\n",
       "      <td>0.0</td>\n",
       "      <td>0.0</td>\n",
       "      <td>0.0</td>\n",
       "      <td>0.0</td>\n",
       "      <td>98.712700</td>\n",
       "      <td>7221.176270</td>\n",
       "      <td>242.0</td>\n",
       "      <td>2096.0</td>\n",
       "      <td>2096.0</td>\n",
       "      <td>0.0</td>\n",
       "      <td>3.067440</td>\n",
       "      <td>-0.521695</td>\n",
       "      <td>4294967271</td>\n",
       "      <td>1</td>\n",
       "    </tr>\n",
       "    <tr>\n",
       "      <th>690614</th>\n",
       "      <td>0.0</td>\n",
       "      <td>0.0</td>\n",
       "      <td>0.0</td>\n",
       "      <td>0.0</td>\n",
       "      <td>99.510744</td>\n",
       "      <td>7221.176270</td>\n",
       "      <td>242.0</td>\n",
       "      <td>2099.0</td>\n",
       "      <td>2099.0</td>\n",
       "      <td>0.0</td>\n",
       "      <td>-0.463658</td>\n",
       "      <td>-2.527050</td>\n",
       "      <td>2099</td>\n",
       "      <td>1</td>\n",
       "    </tr>\n",
       "    <tr>\n",
       "      <th>690615</th>\n",
       "      <td>0.0</td>\n",
       "      <td>0.0</td>\n",
       "      <td>0.0</td>\n",
       "      <td>0.0</td>\n",
       "      <td>303.286304</td>\n",
       "      <td>7221.176270</td>\n",
       "      <td>242.0</td>\n",
       "      <td>3623.0</td>\n",
       "      <td>3623.0</td>\n",
       "      <td>0.0</td>\n",
       "      <td>-0.964503</td>\n",
       "      <td>-0.349587</td>\n",
       "      <td>1524</td>\n",
       "      <td>1</td>\n",
       "    </tr>\n",
       "  </tbody>\n",
       "</table>\n",
       "<p>690616 rows × 14 columns</p>\n",
       "</div>"
      ],
      "text/plain": [
       "        x (nm)  y (nm)  z (nm)  mc_c (Da)     mc (Da)  high_voltage (V)  \\\n",
       "0          0.0     0.0     0.0        0.0    0.866215       8118.056152   \n",
       "1          0.0     0.0     0.0        0.0  101.605702       8118.056152   \n",
       "2          0.0     0.0     0.0        0.0  340.906069       8118.056152   \n",
       "3          0.0     0.0     0.0        0.0  334.185929       8118.056152   \n",
       "4          0.0     0.0     0.0        0.0   98.995943       8118.056152   \n",
       "...        ...     ...     ...        ...         ...               ...   \n",
       "690611     0.0     0.0     0.0        0.0   65.528238       7221.176270   \n",
       "690612     0.0     0.0     0.0        0.0  100.876531       7221.176270   \n",
       "690613     0.0     0.0     0.0        0.0   98.712700       7221.176270   \n",
       "690614     0.0     0.0     0.0        0.0   99.510744       7221.176270   \n",
       "690615     0.0     0.0     0.0        0.0  303.286304       7221.176270   \n",
       "\n",
       "        pulse (deg)  start_counter  t (ns)  t_c (ns)  x_det (cm)  y_det (cm)  \\\n",
       "0             230.0          214.0   214.0       0.0    1.032970    0.558104   \n",
       "1             230.0         2007.0  2007.0       0.0   -2.864820   -1.211240   \n",
       "2             230.0         3643.0  3643.0       0.0   -2.689240    0.717955   \n",
       "3             230.0         3615.0  3615.0       0.0   -0.171491   -3.212160   \n",
       "4             230.0         1983.0  1983.0       0.0   -3.106970    0.977451   \n",
       "...             ...            ...     ...       ...         ...         ...   \n",
       "690611        242.0         1706.0  1706.0       0.0    1.399840    1.460980   \n",
       "690612        242.0         2121.0  2121.0       0.0   -2.308090    2.408430   \n",
       "690613        242.0         2096.0  2096.0       0.0    3.067440   -0.521695   \n",
       "690614        242.0         2099.0  2099.0       0.0   -0.463658   -2.527050   \n",
       "690615        242.0         3623.0  3623.0       0.0   -0.964503   -0.349587   \n",
       "\n",
       "          pulse_pi  ion_pp  \n",
       "0                0       1  \n",
       "1             1793       1  \n",
       "2             3643       1  \n",
       "3                0       0  \n",
       "4                0       0  \n",
       "...            ...     ...  \n",
       "690611        1706       1  \n",
       "690612         415       1  \n",
       "690613  4294967271       1  \n",
       "690614        2099       1  \n",
       "690615        1524       1  \n",
       "\n",
       "[690616 rows x 14 columns]"
      ]
     },
     "execution_count": 85,
     "metadata": {},
     "output_type": "execute_result"
    }
   ],
   "source": [
    "data"
   ]
  },
  {
   "cell_type": "code",
   "execution_count": 86,
   "metadata": {},
   "outputs": [
    {
     "data": {
      "application/vnd.jupyter.widget-view+json": {
       "model_id": "6c1ad4fef94649edbe748632917cebb8",
       "version_major": 2,
       "version_minor": 0
      },
      "image/png": "[encoded data removed]",
      "text/html": [
       "\n",
       "            <div style=\"display: inline-block;\">\n",
       "                <div class=\"jupyter-widgets widget-label\" style=\"text-align: center;\">\n",
       "                    Figure\n",
       "                </div>\n",
       "                <img src='data:image/png;base64,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' width=433.0708661417323/>\n",
       "            </div>\n",
       "        "
      ],
      "text/plain": [
       "Canvas(toolbar=Toolbar(toolitems=[('Home', 'Reset original view', 'home', 'home'), ('Back', 'Back to previous …"
      ]
     },
     "metadata": {},
     "output_type": "display_data"
    }
   ],
   "source": [
    "data_loadcrop.plot_crop_experimetn_history(data, save_name=variables.result_path + '//ex_hist_' + dataset_name)\n"
   ]
  },
  {
   "cell_type": "code",
   "execution_count": 87,
   "metadata": {},
   "outputs": [],
   "source": [
    "# exctract needed data from Pandas data frame as an numpy array\n",
    "dld_highVoltage = data['high_voltage (V)'].to_numpy()\n",
    "if pulse_mode.value == 'voltage':\n",
    "    dld_pulseVoltage = data['pulse (V)'].to_numpy()\n",
    "elif pulse_mode.value == 'laser':\n",
    "    dld_pulseVoltage = data['pulse (deg)'].to_numpy()\n",
    "dld_t = data['t (ns)'].to_numpy()\n",
    "dld_x = data['x_det (cm)'].to_numpy()\n",
    "dld_y = data['y_det (cm)'].to_numpy()\n",
    "mc = data['mc (Da)'].to_numpy()\n",
    "# copy dld_t to a have a global version of that\n",
    "variables.dld_t_calib = np.copy(dld_t)\n",
    "# variables.mc_calib = np.copy(mc)\n",
    "# variables.mc_calib_backup = np.copy(mc)"
   ]
  },
  {
   "cell_type": "code",
   "execution_count": 88,
   "metadata": {},
   "outputs": [],
   "source": [
    "ion_distance = np.sqrt(flightPathLength_d.value**2 + (dld_x*10)**2 + (dld_y*10)**2)\n",
    "ion_distance = flightPathLength_d.value / ion_distance\n",
    "dld_t = dld_t * ion_distance\n",
    "variables.dld_t_calib = np.copy(dld_t)"
   ]
  },
  {
   "cell_type": "code",
   "execution_count": 89,
   "metadata": {},
   "outputs": [],
   "source": [
    "# peaks_ini, peaks_y_ini, peak_widths_p_ini = tools.hist_plot(dld_t[dld_t < 5000], 0.5, distance=100, percent=50, prominence=100, selector='rect', plot=True, label='mc', fig_name=figname+'_orig')"
   ]
  },
  {
   "cell_type": "markdown",
   "metadata": {
    "pycharm": {
     "name": "#%% md\n"
    }
   },
   "source": [
    "$$\\textbf{Below plotted graph offers peak selection. You can select relevant peaks you want for computation.}$$"
   ]
  },
  {
   "cell_type": "code",
   "execution_count": 90,
   "metadata": {
    "pycharm": {
     "name": "#%%\n"
    }
   },
   "outputs": [
    {
     "data": {
      "application/vnd.jupyter.widget-view+json": {
       "model_id": "4b076784123745a6a58b3f6a70ce3832",
       "version_major": 2,
       "version_minor": 0
      },
      "text/plain": [
       "interactive(children=(FloatText(value=33.0, description='t_0'), FloatText(value=0.1, description='bin_size'), …"
      ]
     },
     "metadata": {},
     "output_type": "display_data"
    }
   ],
   "source": [
    "def mc_hist_plot(t_0, bin_size, prominence, distance, percent, selector, plot, figname, lim_mc, flightPathLength, mode):\n",
    "    mc_seb_ini = mc_tools.tof2mc(dld_t, t_0, dld_highVoltage, dld_pulseVoltage, dld_x, dld_y, flightPathLength, mode=mode)\n",
    "    variables.mc_calib = np.copy(mc_seb_ini)\n",
    "    variables.mc_calib_backup = np.copy(mc_seb_ini)\n",
    "    mc = mc_seb_ini\n",
    "    peaks_ini, peaks_y_ini, peak_widths_p_ini, _ = tools.hist_plot(variables.mc_calib[variables.mc_calib < lim_mc], bin_size, distance=distance, percent=percent, prominence=prominence, selector=selector, plot=plot, label='mc', fig_name=figname+'_ini')\n",
    "    index_max_ini = np.argmax(peaks_y_ini)\n",
    "    variables.max_peak = peaks_ini[index_max_ini]\n",
    "    variables.peak = peaks_ini\n",
    "    mrp = (peaks_ini[index_max_ini] / (peak_widths_p_ini[index_max_ini][2] - peak_widths_p_ini[index_max_ini][1]))\n",
    "    print('Mass resolving power for the highest peak (MRP --> m/m_2-m_1):', mrp)\n",
    "    for i in range(len(peaks_ini)):\n",
    "        print('Peaks ', i, 'is at location and height: ({:.2f}, {:.2f})'.format(peaks_ini[i], peaks_y_ini[i]), 'peak window sides ({:.1f}-maximum) are: ({:.2f}, {:.2f})'.format(percent, peak_widths_p_ini[i][1], peak_widths_p_ini[i][2]), '-> {:.2f}'.format(peak_widths_p_ini[i][2] - peak_widths_p_ini[i][1]))\n",
    "\n",
    "interact_manual(mc_hist_plot, t_0=widgets.FloatText(value=t0_d.value), bin_size=widgets.FloatText(value=0.1)\n",
    "               ,prominence=widgets.IntText(value=50), distance=widgets.IntText(value=100), lim_mc=widgets.IntText(value=400)\n",
    "               ,percent=widgets.IntText(value=50), selector=fixed('rect'), plot=fixed(True), figname=fixed(figname), flightPathLength=fixed(flightPathLength_d.value), mode=fixed(pulse_mode.value));\n"
   ]
  },
  {
   "cell_type": "code",
   "execution_count": 46,
   "metadata": {},
   "outputs": [],
   "source": [
    "bin_size=widgets.FloatText(value=0.1, description='bin size:')\n",
    "prominence=widgets.IntText(value=100, description='peak prominance:')\n",
    "distance=widgets.IntText(value=50, description='peak distance:')\n",
    "lim_tof=widgets.IntText(value=400, description='lim tof/mc:')\n",
    "percent=widgets.IntText(value=50, description='percent MRP:')\n",
    "\n",
    "def hist_plot(figname, plot):\n",
    "    \n",
    "    with out:\n",
    "        clear_output(True)\n",
    "    \n",
    "        bin_size_p = bin_size.value\n",
    "        prominence_p = prominence.value\n",
    "        distance_p = distance.value\n",
    "        lim_tof_p = lim_tof.value\n",
    "        percent_p = percent.value\n",
    "        selector='rect'\n",
    "        peaks_ini, peaks_y_ini, peak_widths_p_ini, _ = tools.hist_plot(variables.mc_calib[variables.mc_calib < lim_tof_p], \n",
    "                                                bin_size_p, distance=distance_p, percent=percent_p, prominence=prominence_p,\n",
    "                                                                    selector=selector, plot=plot, label='mc', fig_name=figname)\n",
    "        index_max_ini = np.argmax(peaks_y_ini)\n",
    "        variables.max_peak = peaks_ini[index_max_ini]\n",
    "        variables.peak = peaks_ini\n",
    "        mrp = (peaks_ini[index_max_ini] / (peak_widths_p_ini[index_max_ini][2] - peak_widths_p_ini[index_max_ini][1]))\n",
    "        print('Mass resolving power for the highest peak (MRP --> m/m_2-m_1):', mrp)\n",
    "        for i in range(len(peaks_ini)):\n",
    "                      print('Peaks ', i, 'is at location and height: ({:.2f}, {:.2f})'.format(peaks_ini[i], peaks_y_ini[i]), 'peak window sides ({:.1f}%) are: ({:.2f}, {:.2f})'.format(percent_p, peak_widths_p_ini[i][1], peak_widths_p_ini[i][2]), '-> {:.2f}'.format(peak_widths_p_ini[i][2] - peak_widths_p_ini[i][1]))"
   ]
  },
  {
   "cell_type": "code",
   "execution_count": 47,
   "metadata": {},
   "outputs": [],
   "source": [
    "sample_size_b = widgets.IntText(value=11, description='sample size:') \n",
    "index_fig_b = widgets.IntText(value=1, description='fig index:')\n",
    "plot_b = widgets.Dropdown(\n",
    "    options=[('False', False), ('True', True)],\n",
    "    description='plot fig:'\n",
    ")\n",
    "\n",
    "save_b = widgets.Dropdown(\n",
    "    options=[('False', False), ('True', True)],\n",
    "    description='save fig:'\n",
    ")\n",
    "def bowl_correction(dld_x, dld_y, dld_highVoltage, figname=figname):\n",
    "    with out:\n",
    "        sample_size_p = sample_size_b.value\n",
    "        index_fig_p = index_fig_b.value\n",
    "        plot_p = plot_b.value\n",
    "        save_p = save_b.value\n",
    "\n",
    "        calibration.bowl_correction_main(dld_x, dld_y, dld_highVoltage, det_diam.value, sample_size=sample_size_p, calibration_mode='mc',\n",
    "                                        index_fig=index_fig_p, plot=plot_p, save=save_p)\n"
   ]
  },
  {
   "cell_type": "code",
   "execution_count": 48,
   "metadata": {},
   "outputs": [],
   "source": [
    "sample_size_v =widgets.IntText(value=100, description='sample size:') \n",
    "index_fig_v = widgets.IntText(value=1, description='fig index:')\n",
    "plot_v = widgets.Dropdown(\n",
    "    options=[('False', False), ('True', True)],\n",
    "    description='plot fig:'\n",
    ")\n",
    "save_v = widgets.Dropdown(\n",
    "    options=[('False', False), ('True', True)],\n",
    "    description='save fig:'\n",
    ")\n",
    "mode_v = widgets.Dropdown(\n",
    "    options=[('ion_seq', 'ion_seq'), ('voltage', 'voltage')],\n",
    "    description='sample mode:'\n",
    ")\n",
    "peak_mode = widgets.Dropdown(\n",
    "    options=[('peak', 'peak'), ('mean', 'mean'), ('median', 'median')],\n",
    "    description='peak mode:'\n",
    ")\n",
    "def vol_correction(dld_highVoltage, figname):\n",
    "    with out:\n",
    "        sample_size_p = sample_size_v.value\n",
    "        index_fig_p = index_fig_v.value\n",
    "        plot_p = plot_v.value\n",
    "        save_p = save_v.value\n",
    "        mode_p = mode_v.value\n",
    "        peak_mode_p = peak_mode.value\n",
    "        calibration.voltage_corr_main(dld_highVoltage, sample_size=sample_size_p, calibration_mode='mc',\n",
    "                                        index_fig=index_fig_p, plot=plot_p, save=save_p, mode=mode_p, peak_mode=peak_mode_p)\n"
   ]
  },
  {
   "cell_type": "code",
   "execution_count": 79,
   "metadata": {},
   "outputs": [
    {
     "data": {
      "application/vnd.jupyter.widget-view+json": {
       "model_id": "240612d2a93c4817ba07653edb2112b6",
       "version_major": 2,
       "version_minor": 0
      },
      "text/plain": [
       "VBox(children=(Tab(children=(VBox(children=(FloatText(value=0.1, description='bin size:'), IntText(value=100, …"
      ]
     },
     "metadata": {},
     "output_type": "display_data"
    },
    {
     "data": {
      "application/vnd.jupyter.widget-view+json": {
       "model_id": "e93bfbfecd5e4372a0c930ea8a36a705",
       "version_major": 2,
       "version_minor": 0
      },
      "text/plain": [
       "Output()"
      ]
     },
     "metadata": {},
     "output_type": "display_data"
    }
   ],
   "source": [
    "pb_bowl = widgets.HTML(\n",
    "    value=\" \",\n",
    "    placeholder='Status:',\n",
    "    description='Status:',\n",
    ")\n",
    "pb_vol = widgets.HTML(\n",
    "    value=\" \",\n",
    "    placeholder='Status:',\n",
    "    description='Status:',\n",
    ")\n",
    "plot_button = widgets.Button(\n",
    "    description='plot hist',\n",
    ")\n",
    "plot_fdm_button = widgets.Button(\n",
    "    description='plot FDM',\n",
    ")\n",
    "reset_button = widgets.Button(\n",
    "    description='reset back correction',\n",
    ")\n",
    "save_button = widgets.Button(\n",
    "    description='save correction',\n",
    ")\n",
    "bowl_button = widgets.Button(\n",
    "    description='bowl correction',\n",
    ")\n",
    "vol_button = widgets.Button(\n",
    "    description='voltage correction',\n",
    ")\n",
    "bin_fdm = widgets.IntText(value=256, description='bin FDM:')\n",
    "\n",
    "\n",
    "\n",
    "@plot_button.on_click\n",
    "def plot_on_click(b, figname=figname, plot=True):\n",
    "    hist_plot(figname, plot)\n",
    "\n",
    "@plot_fdm_button.on_click\n",
    "def plot_fdm_on_click(b, save=True):\n",
    "    with out:\n",
    "        clear_output(True)\n",
    "        mask_temporal = np.logical_and((variables.mc_calib > variables.selected_x1),\n",
    "                                       (variables.mc_calib < variables.selected_x2))\n",
    "        x = dld_x[mask_temporal]\n",
    "        y = dld_y[mask_temporal]\n",
    "        bin_fdm_p = bin_fdm.value\n",
    "        bins = [bin_fdm_p, bin_fdm_p]\n",
    "\n",
    "        calibration.plot_FDM(x, y, save, bins)\n",
    "    \n",
    "@reset_button.on_click\n",
    "def reset_on_click(b, figname=figname, plot=True):\n",
    "    variables.mc_calib = np.copy(variables.mc_calib_backup)\n",
    "    \n",
    "@save_button.on_click\n",
    "def save_on_click(b, figname=figname, plot=True):\n",
    "    variables.mc_calib_backup = np.copy(variables.mc_calib)   \n",
    "    \n",
    "@bowl_button.on_click\n",
    "def bowl_on_click(b, dld_x=dld_x, dld_y=dld_y, dld_highVoltage=dld_highVoltage, figname=figname):\n",
    "    with out:\n",
    "        clear_output(True)\n",
    "        pb_bowl.value = \"<b>Starting...</b>\"\n",
    "        if variables.selected_x1 == 0 or variables.selected_x2 == 0:\n",
    "            Print('Please first select a peak')\n",
    "        else:\n",
    "            bowl_correction(dld_x, dld_y, dld_highVoltage, figname)  \n",
    "        pb_bowl.value = \"<b>Fnished</b>\"\n",
    "@vol_button.on_click\n",
    "def vol_on_click(b, dld_highVoltage=dld_highVoltage, figname=figname):\n",
    "    with out:\n",
    "        clear_output(True)\n",
    "        pb_vol.value = \"<b>Starting...</b>\"\n",
    "        if variables.selected_x1 == 0 or variables.selected_x2 == 0:\n",
    "            Print('Please first select a peak')\n",
    "        else:\n",
    "            vol_correction(dld_highVoltage, figname)\n",
    "        pb_vol.value = \"<b>Fnished</b>\"\n",
    "    \n",
    "\n",
    "\n",
    "tab1 = VBox(children=[bin_size, prominence, distance, lim_tof, percent, bin_fdm])\n",
    "tab2 = VBox(children=[HBox(children=[sample_size_b, index_fig_b, plot_b, save_b]), bowl_button, pb_bowl])\n",
    "tab3 = VBox(children=[HBox(children=[sample_size_v, index_fig_v, mode_v, peak_mode, plot_v, save_v]), vol_button, pb_vol])\n",
    "\n",
    "tab = widgets.Tab(children=[tab1, tab2, tab3])\n",
    "tab.set_title(0, 'tof/mc plot')\n",
    "tab.set_title(1, 'bowl correction')\n",
    "tab.set_title(2, 'voltage correction')\n",
    "\n",
    "\n",
    "\n",
    "display(VBox(children=[tab,HBox(children=[plot_button, plot_fdm_button, save_button, reset_button])]))\n",
    "out = Output()\n",
    "display(out)"
   ]
  },
  {
   "cell_type": "code",
   "execution_count": 69,
   "metadata": {},
   "outputs": [],
   "source": [
    "variables.mc_calib_backup = np.copy(variables.mc_calib)"
   ]
  },
  {
   "cell_type": "code",
   "execution_count": 70,
   "metadata": {},
   "outputs": [],
   "source": [
    "def tof_his(bin_size, prominence, distance, percent, selector, plot, figname, lim_mc):\n",
    "    variables.peaks_idx = []\n",
    "    peaks_ini, peaks_y_ini, peak_widths_p_ini, _ = tools.hist_plot(variables.mc_calib[variables.mc_calib < lim_mc], bin_size, distance=distance, percent=percent, prominence=prominence, selector=selector, plot=plot, label='mc', fig_name=figname)\n",
    "    index_max_ini = np.argmax(peaks_y_ini)\n",
    "    variables.max_peak = peaks_ini[index_max_ini]\n",
    "    variables.peak = peaks_ini\n",
    "    mrp = (peaks_ini[index_max_ini] / (peak_widths_p_ini[index_max_ini][2] - peak_widths_p_ini[index_max_ini][1]))\n",
    "    print('Mass resolving power for the highest peak (MRP --> m/m_2-m_1):', mrp)\n",
    "    for i in range(len(peaks_ini)):\n",
    "        print('Peaks ', i, 'is at location and height: ({:.2f}, {:.2f})'.format(peaks_ini[i], peaks_y_ini[i]), 'peak window sides (half-maximum) are: ({:.2f}, {:.2f})'.format(peak_widths_p_ini[i][1], peak_widths_p_ini[i][2]))"
   ]
  },
  {
   "cell_type": "code",
   "execution_count": 71,
   "metadata": {},
   "outputs": [
    {
     "data": {
      "application/vnd.jupyter.widget-view+json": {
       "model_id": "b2080b4b51cf4afcb79fe85acfe762c6",
       "version_major": 2,
       "version_minor": 0
      },
      "text/plain": [
       "interactive(children=(FloatText(value=0.1, description='bin_size'), IntText(value=50, description='prominence'…"
      ]
     },
     "metadata": {},
     "output_type": "display_data"
    }
   ],
   "source": [
    "\n",
    "interact_manual(tof_his, bin_size=widgets.FloatText(value=0.1)\n",
    "               ,prominence=widgets.IntText(value=50), distance=widgets.IntText(value=100), lim_mc=widgets.IntText(value=max_mc.value)\n",
    "               ,percent=widgets.IntText(value=50), selector=fixed('peak'), plot=fixed(True), figname=fixed(figname+'_cor'));\n"
   ]
  },
  {
   "cell_type": "code",
   "execution_count": 72,
   "metadata": {},
   "outputs": [
    {
     "data": {
      "application/vnd.jupyter.widget-view+json": {
       "model_id": "4f4fa1c4525b4f749ac40e58e2045ebb",
       "version_major": 2,
       "version_minor": 0
      },
      "text/plain": [
       "Dropdown(description='Elements', options=(('H (1) (99.98)', 'H(1)[1.01]'), ('H (2) (0.01)', 'H(2)[2.01]'), ('H…"
      ]
     },
     "metadata": {},
     "output_type": "display_data"
    },
    {
     "data": {
      "application/vnd.jupyter.widget-view+json": {
       "model_id": "e20b256cfdff468d949cf16cc9cd3c51",
       "version_major": 2,
       "version_minor": 0
      },
      "text/plain": [
       "Dropdown(description='Charge', options=((1, 1), (2, 2), (3, 3), (4, 4)), value=1)"
      ]
     },
     "metadata": {},
     "output_type": "display_data"
    },
    {
     "data": {
      "application/vnd.jupyter.widget-view+json": {
       "model_id": "42d15dbb9dc540ebb08a60773a86b1d6",
       "version_major": 2,
       "version_minor": 0
      },
      "text/plain": [
       "Button(description='ADD', icon='check', style=ButtonStyle(), tooltip='ADD')"
      ]
     },
     "metadata": {},
     "output_type": "display_data"
    },
    {
     "data": {
      "application/vnd.jupyter.widget-view+json": {
       "model_id": "e6fcda8bf36148a2a012dfe2afb1b08f",
       "version_major": 2,
       "version_minor": 0
      },
      "text/plain": [
       "Button(description='DELETE', icon='check', style=ButtonStyle(), tooltip='DELETE')"
      ]
     },
     "metadata": {},
     "output_type": "display_data"
    },
    {
     "data": {
      "application/vnd.jupyter.widget-view+json": {
       "model_id": "e54f0abf941247a189250407302adf09",
       "version_major": 2,
       "version_minor": 0
      },
      "text/plain": [
       "Button(description='RESET', icon='check', style=ButtonStyle(), tooltip='RESET')"
      ]
     },
     "metadata": {},
     "output_type": "display_data"
    },
    {
     "data": {
      "application/vnd.jupyter.widget-view+json": {
       "model_id": "82969a14e5464fd5945ab6259578660e",
       "version_major": 2,
       "version_minor": 0
      },
      "text/plain": [
       "Output()"
      ]
     },
     "metadata": {},
     "output_type": "display_data"
    }
   ],
   "source": [
    "isotopeTableFile = '../../../files/isotopeTable.h5'\n",
    "dataframe = data_tools.read_hdf5_through_pandas(isotopeTableFile)\n",
    "elementsList = dataframe['element']\n",
    "elementIsotopeList = dataframe['isotope']\n",
    "elementMassList =  dataframe['weight']\n",
    "abundanceList = dataframe['abundance']\n",
    "\n",
    "elements = list(zip(elementsList, elementIsotopeList, elementMassList, abundanceList))\n",
    "dropdownList = []\n",
    "for element in elements:\n",
    "    tupleElement = (\"{} ({}) ({:.2f})\".format(element[0], element[1], element[3]), \"{}({})[{}]\".format(element[0], element[1], element[2]))\n",
    "    dropdownList.append(tupleElement)\n",
    "\n",
    "chargeList = [(1,1,),(2,2,),(3,3,),(4,4,)]\n",
    "dropdown = wd.dropdownWidget(dropdownList,\"Elements\")\n",
    "dropdown.observe(wd.on_change)\n",
    "\n",
    "\n",
    "chargeDropdown = wd.dropdownWidget(chargeList,\"Charge\")\n",
    "chargeDropdown.observe(wd.on_change_charge)\n",
    "\n",
    "wd.compute_element_isotope_values_according_to_selected_charge()\n",
    "\n",
    "buttonAdd = wd.buttonWidget(\"ADD\")\n",
    "buttonDelete = wd.buttonWidget(\"DELETE\")\n",
    "buttonReset = wd.buttonWidget(\"RESET\")\n",
    "\n",
    "display(dropdown, chargeDropdown, buttonAdd, buttonDelete, buttonReset)\n",
    "\n",
    "def buttonAdd_f(b,):\n",
    "    with out:\n",
    "        clear_output(True)\n",
    "        wd.onClickAdd(b,)\n",
    "        display()\n",
    "def buttonDelete_f(b,):\n",
    "    with out:\n",
    "        clear_output(True)\n",
    "        wd.onClickDelete(b,)\n",
    "        display()\n",
    "def buttonResett_f(b,):\n",
    "    with out:\n",
    "        clear_output(True)\n",
    "        wd.onClickReset(b,)\n",
    "        display()\n",
    "\n",
    "listMaterial = buttonAdd.on_click(buttonAdd_f)\n",
    "buttonDelete.on_click(buttonDelete_f)\n",
    "buttonReset.on_click(buttonResett_f)\n",
    "# listMaterial = buttonAdd.on_click(wd.onClickAdd)\n",
    "# buttonDelete.on_click(wd.onClickDelete)\n",
    "# buttonReset.on_click(wd.onClickReset)\n",
    "out = Output()\n",
    "display(out)"
   ]
  },
  {
   "cell_type": "code",
   "execution_count": 58,
   "metadata": {},
   "outputs": [
    {
     "name": "stdout",
     "output_type": "stream",
     "text": [
      "highest peak in the tof histogram: []\n",
      "highest peak in the ideal mc histogram: []\n"
     ]
    }
   ],
   "source": [
    "peaks_chos = []\n",
    "for i in range(len(variables.peaks_idx)):\n",
    "    peaks_chos.append(variables.peak[variables.peaks_idx[i]])\n",
    "peaks_chos = np.array(peaks_chos)\n",
    "listMaterial = np.array(variables.listMaterial)\n",
    "print('highest peak in the tof histogram:', peaks_chos)\n",
    "print('highest peak in the ideal mc histogram:', listMaterial)"
   ]
  },
  {
   "cell_type": "code",
   "execution_count": null,
   "metadata": {},
   "outputs": [],
   "source": [
    "def shift(mc, a, b):\n",
    "\n",
    "    # return c * ((t - t0)**2) + d\n",
    "    return mc ** a + b\n",
    "\n",
    "def shift_calib(mc, mc_ideal):\n",
    "    \n",
    "    fitresult, _ = curve_fit(shift, mc, mc_ideal, maxfev=2000)\n",
    "    return fitresult\n",
    "\n",
    "fitresult = shift_calib(peaks_chos,  variables.listMaterial)\n",
    "mc_p_1 = shift(variables.mc_calib, *fitresult)\n",
    "\n",
    "# f_shift = interpolate.interp1d(np.array(variables.listMaterial).T, peaks_chos.T, fill_value=\"extrapolate\")\n",
    "# variables.mc_calib = f_shift(variables.mc_calib)\n"
   ]
  },
  {
   "cell_type": "code",
   "execution_count": 77,
   "metadata": {},
   "outputs": [],
   "source": [
    "def tof_his(bin_size, prominence, distance, percent, selector, plot, figname, lim_mc):\n",
    "    peaks_ini, peaks_y_ini, peak_widths_p_ini, _ = tools.hist_plot(variables.mc_calib[variables.mc_calib < lim_mc], bin_size, distance=distance, percent=percent, prominence=prominence, selector=selector, plot=plot, label='mc', fig_name=figname)\n",
    "    index_max_ini = np.argmax(peaks_y_ini)\n",
    "    variables.max_peak = peaks_ini[index_max_ini]\n",
    "    variables.peak = peaks_ini\n",
    "    mrp = (peaks_ini[index_max_ini] / (peak_widths_p_ini[index_max_ini][2] - peak_widths_p_ini[index_max_ini][1]))\n",
    "    print('Mass resolving power for the highest peak (MRP --> m/m_2-m_1):', mrp)\n",
    "    for i in range(len(peaks_ini)):\n",
    "        print('Peaks ', i, 'is at location and height: ({:.2f}, {:.2f})'.format(peaks_ini[i], peaks_y_ini[i]), 'peak window sides (half-maximum) are: ({:.2f}, {:.2f})'.format(peak_widths_p_ini[i][1], peak_widths_p_ini[i][2]))"
   ]
  },
  {
   "cell_type": "code",
   "execution_count": 78,
   "metadata": {},
   "outputs": [
    {
     "data": {
      "application/vnd.jupyter.widget-view+json": {
       "model_id": "23deb85d84ce4e7598fdc45e3f389347",
       "version_major": 2,
       "version_minor": 0
      },
      "text/plain": [
       "interactive(children=(FloatText(value=0.1, description='bin_size'), IntText(value=50, description='prominence'…"
      ]
     },
     "metadata": {},
     "output_type": "display_data"
    }
   ],
   "source": [
    "interact_manual(mc_his, mc=fixed(mc_p_1), bin_size=widgets.FloatText(value=0.1)\n",
    "               ,prominence=widgets.IntText(value=50), distance=widgets.IntText(value=100), lim_mc=widgets.IntText(value=150)\n",
    "               ,percent=widgets.IntText(value=50), selector=fixed('None'), plot=fixed(True), figname=fixed(figname+'_cor'));\n"
   ]
  },
  {
   "cell_type": "code",
   "execution_count": 144,
   "metadata": {},
   "outputs": [],
   "source": [
    "variables.mc_calib =  mc_p_1"
   ]
  },
  {
   "cell_type": "code",
   "execution_count": 80,
   "metadata": {},
   "outputs": [],
   "source": [
    "\n",
    "data['mc_c (Da)'] = variables.mc_calib_backup"
   ]
  },
  {
   "cell_type": "code",
   "execution_count": 81,
   "metadata": {},
   "outputs": [
    {
     "data": {
      "text/html": [
       "<div>\n",
       "<style scoped>\n",
       "    .dataframe tbody tr th:only-of-type {\n",
       "        vertical-align: middle;\n",
       "    }\n",
       "\n",
       "    .dataframe tbody tr th {\n",
       "        vertical-align: top;\n",
       "    }\n",
       "\n",
       "    .dataframe thead th {\n",
       "        text-align: right;\n",
       "    }\n",
       "</style>\n",
       "<table border=\"1\" class=\"dataframe\">\n",
       "  <thead>\n",
       "    <tr style=\"text-align: right;\">\n",
       "      <th></th>\n",
       "      <th>x (nm)</th>\n",
       "      <th>y (nm)</th>\n",
       "      <th>z (nm)</th>\n",
       "      <th>mc_c (Da)</th>\n",
       "      <th>mc (Da)</th>\n",
       "      <th>high_voltage (V)</th>\n",
       "      <th>pulse (deg)</th>\n",
       "      <th>start_counter</th>\n",
       "      <th>t (ns)</th>\n",
       "      <th>t_c (ns)</th>\n",
       "      <th>x_det (cm)</th>\n",
       "      <th>y_det (cm)</th>\n",
       "      <th>pulse_pi</th>\n",
       "      <th>ion_pp</th>\n",
       "    </tr>\n",
       "  </thead>\n",
       "  <tbody>\n",
       "    <tr>\n",
       "      <th>0</th>\n",
       "      <td>0.0</td>\n",
       "      <td>0.0</td>\n",
       "      <td>0.0</td>\n",
       "      <td>0.870039</td>\n",
       "      <td>0.866215</td>\n",
       "      <td>8118.056152</td>\n",
       "      <td>230.0</td>\n",
       "      <td>214.0</td>\n",
       "      <td>214.0</td>\n",
       "      <td>0.0</td>\n",
       "      <td>1.032970</td>\n",
       "      <td>0.558104</td>\n",
       "      <td>0</td>\n",
       "      <td>1</td>\n",
       "    </tr>\n",
       "    <tr>\n",
       "      <th>1</th>\n",
       "      <td>0.0</td>\n",
       "      <td>0.0</td>\n",
       "      <td>0.0</td>\n",
       "      <td>101.368715</td>\n",
       "      <td>101.605702</td>\n",
       "      <td>8118.056152</td>\n",
       "      <td>230.0</td>\n",
       "      <td>2007.0</td>\n",
       "      <td>2007.0</td>\n",
       "      <td>0.0</td>\n",
       "      <td>-2.864820</td>\n",
       "      <td>-1.211240</td>\n",
       "      <td>1793</td>\n",
       "      <td>1</td>\n",
       "    </tr>\n",
       "    <tr>\n",
       "      <th>2</th>\n",
       "      <td>0.0</td>\n",
       "      <td>0.0</td>\n",
       "      <td>0.0</td>\n",
       "      <td>341.513402</td>\n",
       "      <td>340.906069</td>\n",
       "      <td>8118.056152</td>\n",
       "      <td>230.0</td>\n",
       "      <td>3643.0</td>\n",
       "      <td>3643.0</td>\n",
       "      <td>0.0</td>\n",
       "      <td>-2.689240</td>\n",
       "      <td>0.717955</td>\n",
       "      <td>3643</td>\n",
       "      <td>1</td>\n",
       "    </tr>\n",
       "    <tr>\n",
       "      <th>3</th>\n",
       "      <td>0.0</td>\n",
       "      <td>0.0</td>\n",
       "      <td>0.0</td>\n",
       "      <td>332.985301</td>\n",
       "      <td>334.185929</td>\n",
       "      <td>8118.056152</td>\n",
       "      <td>230.0</td>\n",
       "      <td>3615.0</td>\n",
       "      <td>3615.0</td>\n",
       "      <td>0.0</td>\n",
       "      <td>-0.171491</td>\n",
       "      <td>-3.212160</td>\n",
       "      <td>0</td>\n",
       "      <td>0</td>\n",
       "    </tr>\n",
       "    <tr>\n",
       "      <th>4</th>\n",
       "      <td>0.0</td>\n",
       "      <td>0.0</td>\n",
       "      <td>0.0</td>\n",
       "      <td>99.202192</td>\n",
       "      <td>98.995943</td>\n",
       "      <td>8118.056152</td>\n",
       "      <td>230.0</td>\n",
       "      <td>1983.0</td>\n",
       "      <td>1983.0</td>\n",
       "      <td>0.0</td>\n",
       "      <td>-3.106970</td>\n",
       "      <td>0.977451</td>\n",
       "      <td>0</td>\n",
       "      <td>0</td>\n",
       "    </tr>\n",
       "    <tr>\n",
       "      <th>...</th>\n",
       "      <td>...</td>\n",
       "      <td>...</td>\n",
       "      <td>...</td>\n",
       "      <td>...</td>\n",
       "      <td>...</td>\n",
       "      <td>...</td>\n",
       "      <td>...</td>\n",
       "      <td>...</td>\n",
       "      <td>...</td>\n",
       "      <td>...</td>\n",
       "      <td>...</td>\n",
       "      <td>...</td>\n",
       "      <td>...</td>\n",
       "      <td>...</td>\n",
       "    </tr>\n",
       "    <tr>\n",
       "      <th>690611</th>\n",
       "      <td>0.0</td>\n",
       "      <td>0.0</td>\n",
       "      <td>0.0</td>\n",
       "      <td>65.968453</td>\n",
       "      <td>65.528238</td>\n",
       "      <td>7221.176270</td>\n",
       "      <td>242.0</td>\n",
       "      <td>1706.0</td>\n",
       "      <td>1706.0</td>\n",
       "      <td>0.0</td>\n",
       "      <td>1.399840</td>\n",
       "      <td>1.460980</td>\n",
       "      <td>1706</td>\n",
       "      <td>1</td>\n",
       "    </tr>\n",
       "    <tr>\n",
       "      <th>690612</th>\n",
       "      <td>0.0</td>\n",
       "      <td>0.0</td>\n",
       "      <td>0.0</td>\n",
       "      <td>101.412468</td>\n",
       "      <td>100.876531</td>\n",
       "      <td>7221.176270</td>\n",
       "      <td>242.0</td>\n",
       "      <td>2121.0</td>\n",
       "      <td>2121.0</td>\n",
       "      <td>0.0</td>\n",
       "      <td>-2.308090</td>\n",
       "      <td>2.408430</td>\n",
       "      <td>415</td>\n",
       "      <td>1</td>\n",
       "    </tr>\n",
       "    <tr>\n",
       "      <th>690613</th>\n",
       "      <td>0.0</td>\n",
       "      <td>0.0</td>\n",
       "      <td>0.0</td>\n",
       "      <td>99.282469</td>\n",
       "      <td>98.712700</td>\n",
       "      <td>7221.176270</td>\n",
       "      <td>242.0</td>\n",
       "      <td>2096.0</td>\n",
       "      <td>2096.0</td>\n",
       "      <td>0.0</td>\n",
       "      <td>3.067440</td>\n",
       "      <td>-0.521695</td>\n",
       "      <td>4294967271</td>\n",
       "      <td>1</td>\n",
       "    </tr>\n",
       "    <tr>\n",
       "      <th>690614</th>\n",
       "      <td>0.0</td>\n",
       "      <td>0.0</td>\n",
       "      <td>0.0</td>\n",
       "      <td>99.203155</td>\n",
       "      <td>99.510744</td>\n",
       "      <td>7221.176270</td>\n",
       "      <td>242.0</td>\n",
       "      <td>2099.0</td>\n",
       "      <td>2099.0</td>\n",
       "      <td>0.0</td>\n",
       "      <td>-0.463658</td>\n",
       "      <td>-2.527050</td>\n",
       "      <td>2099</td>\n",
       "      <td>1</td>\n",
       "    </tr>\n",
       "    <tr>\n",
       "      <th>690615</th>\n",
       "      <td>0.0</td>\n",
       "      <td>0.0</td>\n",
       "      <td>0.0</td>\n",
       "      <td>303.467967</td>\n",
       "      <td>303.286304</td>\n",
       "      <td>7221.176270</td>\n",
       "      <td>242.0</td>\n",
       "      <td>3623.0</td>\n",
       "      <td>3623.0</td>\n",
       "      <td>0.0</td>\n",
       "      <td>-0.964503</td>\n",
       "      <td>-0.349587</td>\n",
       "      <td>1524</td>\n",
       "      <td>1</td>\n",
       "    </tr>\n",
       "  </tbody>\n",
       "</table>\n",
       "<p>690616 rows × 14 columns</p>\n",
       "</div>"
      ],
      "text/plain": [
       "        x (nm)  y (nm)  z (nm)   mc_c (Da)     mc (Da)  high_voltage (V)  \\\n",
       "0          0.0     0.0     0.0    0.870039    0.866215       8118.056152   \n",
       "1          0.0     0.0     0.0  101.368715  101.605702       8118.056152   \n",
       "2          0.0     0.0     0.0  341.513402  340.906069       8118.056152   \n",
       "3          0.0     0.0     0.0  332.985301  334.185929       8118.056152   \n",
       "4          0.0     0.0     0.0   99.202192   98.995943       8118.056152   \n",
       "...        ...     ...     ...         ...         ...               ...   \n",
       "690611     0.0     0.0     0.0   65.968453   65.528238       7221.176270   \n",
       "690612     0.0     0.0     0.0  101.412468  100.876531       7221.176270   \n",
       "690613     0.0     0.0     0.0   99.282469   98.712700       7221.176270   \n",
       "690614     0.0     0.0     0.0   99.203155   99.510744       7221.176270   \n",
       "690615     0.0     0.0     0.0  303.467967  303.286304       7221.176270   \n",
       "\n",
       "        pulse (deg)  start_counter  t (ns)  t_c (ns)  x_det (cm)  y_det (cm)  \\\n",
       "0             230.0          214.0   214.0       0.0    1.032970    0.558104   \n",
       "1             230.0         2007.0  2007.0       0.0   -2.864820   -1.211240   \n",
       "2             230.0         3643.0  3643.0       0.0   -2.689240    0.717955   \n",
       "3             230.0         3615.0  3615.0       0.0   -0.171491   -3.212160   \n",
       "4             230.0         1983.0  1983.0       0.0   -3.106970    0.977451   \n",
       "...             ...            ...     ...       ...         ...         ...   \n",
       "690611        242.0         1706.0  1706.0       0.0    1.399840    1.460980   \n",
       "690612        242.0         2121.0  2121.0       0.0   -2.308090    2.408430   \n",
       "690613        242.0         2096.0  2096.0       0.0    3.067440   -0.521695   \n",
       "690614        242.0         2099.0  2099.0       0.0   -0.463658   -2.527050   \n",
       "690615        242.0         3623.0  3623.0       0.0   -0.964503   -0.349587   \n",
       "\n",
       "          pulse_pi  ion_pp  \n",
       "0                0       1  \n",
       "1             1793       1  \n",
       "2             3643       1  \n",
       "3                0       0  \n",
       "4                0       0  \n",
       "...            ...     ...  \n",
       "690611        1706       1  \n",
       "690612         415       1  \n",
       "690613  4294967271       1  \n",
       "690614        2099       1  \n",
       "690615        1524       1  \n",
       "\n",
       "[690616 rows x 14 columns]"
      ]
     },
     "execution_count": 81,
     "metadata": {},
     "output_type": "execute_result"
    }
   ],
   "source": [
    "data"
   ]
  },
  {
   "cell_type": "code",
   "execution_count": 82,
   "metadata": {},
   "outputs": [],
   "source": [
    "# save the new data\n",
    "name_save_file = variables.result_path + '//' + dataset_name + '.h5'\n",
    "data_tools.store_df_to_hdf(name_save_file, data, 'df')"
   ]
  },
  {
   "cell_type": "code",
   "execution_count": 83,
   "metadata": {},
   "outputs": [],
   "source": [
    "# save data as epos file\n",
    "epos = ccapt_tools.ccapt_to_epos(data, pulse_mode=pulse_mode.value, path=variables.result_path, name=dataset_name + '.epos')\n",
    "pos = ccapt_tools.ccapt_to_pos(data, path=variables.result_path, name=dataset_name + '.pos')"
   ]
  },
  {
   "cell_type": "code",
   "execution_count": 149,
   "metadata": {},
   "outputs": [],
   "source": [
    "# save data in csv format\n",
    "data_tools.store_df_to_csv(data, variables.result_path + dataset_name + '.csv')"
   ]
  },
  {
   "cell_type": "code",
   "execution_count": null,
   "metadata": {},
   "outputs": [],
   "source": []
  }
 ],
 "metadata": {
  "kernelspec": {
   "display_name": "Python 3 (ipykernel)",
   "language": "python",
   "name": "python3"
  },
  "language_info": {
   "codemirror_mode": {
    "name": "ipython",
    "version": 3
   },
   "file_extension": ".py",
   "mimetype": "text/x-python",
   "name": "python",
   "nbconvert_exporter": "python",
   "pygments_lexer": "ipython3",
   "version": "3.8.16"
  }
 },
 "nbformat": 4,
 "nbformat_minor": 4
}

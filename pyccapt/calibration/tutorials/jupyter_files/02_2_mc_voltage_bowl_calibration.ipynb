{
 "cells": [
  {
   "cell_type": "code",
   "execution_count": 1,
   "metadata": {
    "pycharm": {
     "name": "#%%\n"
    }
   },
   "outputs": [],
   "source": [
    "%matplotlib ipympl\n",
    "import os\n",
    "import os.path as path\n",
    "import numpy as np\n",
    "from scipy.optimize import curve_fit\n",
    "from scipy import interpolate\n",
    "from sklearn.preprocessing import MinMaxScaler\n",
    "import matplotlib.pyplot as plt\n",
    "from ipywidgets import fixed, interact_manual, widgets\n",
    "from ipywidgets import HBox, VBox\n",
    "from IPython.display import clear_output\n",
    "from IPython.display import display\n",
    "from ipywidgets import IntSlider, Output\n",
    "from itertools import product\n",
    "from scipy.signal import find_peaks\n",
    "import math\n",
    "from mpl_toolkits.mplot3d import Axes3D\n",
    "\n",
    "# Local module and scripts\n",
    "from pyccapt.calibration.calibration_tools import tools, data_tools, variables, calibration, data_loadcrop\n",
    "from pyccapt.calibration.calibration_tools import widgets as wd\n",
    "from pyccapt.calibration.mc import mc_tools\n",
    "from pyccapt.calibration.calibration_tools import dataset_path_qt\n",
    "from pyccapt.calibration.leap_tools import ccapt_tools"
   ]
  },
  {
   "cell_type": "code",
   "execution_count": 2,
   "metadata": {
    "pycharm": {
     "name": "#%%\n"
    }
   },
   "outputs": [],
   "source": [
    "# Disable showing logging in Jupyter notebook\n",
    "import logging, sys\n",
    "logging.disable(sys.maxsize)\n",
    "save_fig=False\n",
    "plot_fig=True "
   ]
  },
  {
   "cell_type": "code",
   "execution_count": 3,
   "metadata": {},
   "outputs": [
    {
     "data": {
      "application/vnd.jupyter.widget-view+json": {
       "model_id": "c78e5f7c14d648d9b1418b1cace5ba07",
       "version_major": 2,
       "version_minor": 0
      },
      "text/plain": [
       "Button(description='load dataset', style=ButtonStyle())"
      ]
     },
     "execution_count": 3,
     "metadata": {},
     "output_type": "execute_result"
    }
   ],
   "source": [
    "button = widgets.Button(\n",
    "    description='load dataset',\n",
    ")\n",
    "\n",
    "@button.on_click\n",
    "def open_file_on_click(b):\n",
    "    global dataset_path\n",
    "    dataset_path = dataset_path_qt.gui_fname().decode('ASCII')\n",
    "button"
   ]
  },
  {
   "cell_type": "code",
   "execution_count": 4,
   "metadata": {},
   "outputs": [
    {
     "data": {
      "application/vnd.jupyter.widget-view+json": {
       "model_id": "4e7660c9f2cc4f2fb0a25b0e1f7fab50",
       "version_major": 2,
       "version_minor": 0
      },
      "text/plain": [
       "Dropdown(description='TDC model:', options=('surface_concept', 'roentdec'), value='surface_concept')"
      ]
     },
     "metadata": {},
     "output_type": "display_data"
    },
    {
     "data": {
      "application/vnd.jupyter.widget-view+json": {
       "model_id": "789c43e1f53449a18dc86b85a37bd521",
       "version_major": 2,
       "version_minor": 0
      },
      "text/plain": [
       "FloatText(value=78.0, description='Detector diameter:')"
      ]
     },
     "metadata": {},
     "output_type": "display_data"
    },
    {
     "data": {
      "application/vnd.jupyter.widget-view+json": {
       "model_id": "562cff1d8088404ca170922585f25e59",
       "version_major": 2,
       "version_minor": 0
      },
      "text/plain": [
       "Dropdown(description='Pulse mode:', options=('voltage', 'laser'), value='voltage')"
      ]
     },
     "metadata": {},
     "output_type": "display_data"
    },
    {
     "data": {
      "application/vnd.jupyter.widget-view+json": {
       "model_id": "3c1cfa3675f14a9f87c91169474e62c3",
       "version_major": 2,
       "version_minor": 0
      },
      "text/plain": [
       "FloatText(value=110.0, description='Flight path length:')"
      ]
     },
     "metadata": {},
     "output_type": "display_data"
    },
    {
     "data": {
      "application/vnd.jupyter.widget-view+json": {
       "model_id": "aceca591518d430ea51cb1177de02a6b",
       "version_major": 2,
       "version_minor": 0
      },
      "text/plain": [
       "FloatText(value=51.74, description='t0:')"
      ]
     },
     "metadata": {},
     "output_type": "display_data"
    }
   ],
   "source": [
    "tdc, det_diam, pulse_mode, flightPathLength_d, t0_d, max_tof = wd.dataset_tdc_selection()\n",
    "display(tdc, det_diam, pulse_mode, flightPathLength_d, t0_d)"
   ]
  },
  {
   "cell_type": "markdown",
   "metadata": {
    "pycharm": {
     "name": "#%% md\n"
    }
   },
   "source": [
    "$$\\textbf{You can specify which dataset to use in below block}$$"
   ]
  },
  {
   "cell_type": "code",
   "execution_count": 20,
   "metadata": {
    "pycharm": {
     "name": "#%%\n"
    }
   },
   "outputs": [],
   "source": [
    "tdc_model = tdc.value\n",
    "pulse_mode_ini = pulse_mode.value\n",
    "\n",
    "flightPathLength = flightPathLength_d.value # mm \n",
    "# The initial value for t_0\n",
    "t0 = t0_d.value # ns\n",
    "\n",
    "dataset_main_path = os.path.dirname(dataset_path)\n",
    "dataset_name_with_extention = os.path.basename(dataset_path)\n",
    "dataset_name = os.path.splitext(dataset_name_with_extention)[0]\n",
    "\n",
    "\n",
    "variables.init()\n",
    "\n",
    "variables.result_path = os.path.dirname(dataset_main_path) + '/mc_calibration/'\n",
    "if not os.path.isdir(variables.result_path):\n",
    "    os.makedirs(variables.result_path, mode=0o777, exist_ok=True)\n",
    "        \n",
    "filename = dataset_path\n",
    "\n",
    "head, tail = os.path.split(filename)\n",
    "figname = os.path.splitext(tail)[0]\n",
    "\n",
    "data = data_tools.read_hdf5_through_pandas(filename)\n"
   ]
  },
  {
   "cell_type": "code",
   "execution_count": 21,
   "metadata": {
    "pycharm": {
     "name": "#%%\n"
    }
   },
   "outputs": [
    {
     "data": {
      "text/html": [
       "<div>\n",
       "<style scoped>\n",
       "    .dataframe tbody tr th:only-of-type {\n",
       "        vertical-align: middle;\n",
       "    }\n",
       "\n",
       "    .dataframe tbody tr th {\n",
       "        vertical-align: top;\n",
       "    }\n",
       "\n",
       "    .dataframe thead th {\n",
       "        text-align: right;\n",
       "    }\n",
       "</style>\n",
       "<table border=\"1\" class=\"dataframe\">\n",
       "  <thead>\n",
       "    <tr style=\"text-align: right;\">\n",
       "      <th></th>\n",
       "      <th>x (nm)</th>\n",
       "      <th>y (nm)</th>\n",
       "      <th>z (nm)</th>\n",
       "      <th>mc_c (Da)</th>\n",
       "      <th>mc (Da)</th>\n",
       "      <th>high_voltage (V)</th>\n",
       "      <th>pulse (V)</th>\n",
       "      <th>start_counter</th>\n",
       "      <th>t (ns)</th>\n",
       "      <th>t_c (nm)</th>\n",
       "      <th>x_det (cm)</th>\n",
       "      <th>y_det (cm)</th>\n",
       "      <th>pulse_pi</th>\n",
       "      <th>ion_pp</th>\n",
       "    </tr>\n",
       "  </thead>\n",
       "  <tbody>\n",
       "    <tr>\n",
       "      <th>0</th>\n",
       "      <td>0.0</td>\n",
       "      <td>0.0</td>\n",
       "      <td>0.0</td>\n",
       "      <td>0.0</td>\n",
       "      <td>27.401002</td>\n",
       "      <td>5269.834473</td>\n",
       "      <td>5269.834473</td>\n",
       "      <td>54436.0</td>\n",
       "      <td>635.421132</td>\n",
       "      <td>0.0</td>\n",
       "      <td>-1.595020</td>\n",
       "      <td>-1.661878</td>\n",
       "      <td>0</td>\n",
       "      <td>1</td>\n",
       "    </tr>\n",
       "    <tr>\n",
       "      <th>1</th>\n",
       "      <td>0.0</td>\n",
       "      <td>0.0</td>\n",
       "      <td>0.0</td>\n",
       "      <td>0.0</td>\n",
       "      <td>27.522766</td>\n",
       "      <td>5269.834473</td>\n",
       "      <td>5269.834473</td>\n",
       "      <td>54903.0</td>\n",
       "      <td>635.901192</td>\n",
       "      <td>0.0</td>\n",
       "      <td>0.646286</td>\n",
       "      <td>2.129878</td>\n",
       "      <td>467</td>\n",
       "      <td>1</td>\n",
       "    </tr>\n",
       "    <tr>\n",
       "      <th>2</th>\n",
       "      <td>0.0</td>\n",
       "      <td>0.0</td>\n",
       "      <td>0.0</td>\n",
       "      <td>0.0</td>\n",
       "      <td>27.582728</td>\n",
       "      <td>5269.834473</td>\n",
       "      <td>5269.834473</td>\n",
       "      <td>55353.0</td>\n",
       "      <td>648.101574</td>\n",
       "      <td>0.0</td>\n",
       "      <td>-0.175102</td>\n",
       "      <td>3.155020</td>\n",
       "      <td>450</td>\n",
       "      <td>1</td>\n",
       "    </tr>\n",
       "    <tr>\n",
       "      <th>3</th>\n",
       "      <td>0.0</td>\n",
       "      <td>0.0</td>\n",
       "      <td>0.0</td>\n",
       "      <td>0.0</td>\n",
       "      <td>26.913047</td>\n",
       "      <td>5269.834473</td>\n",
       "      <td>5269.834473</td>\n",
       "      <td>55831.0</td>\n",
       "      <td>636.010920</td>\n",
       "      <td>0.0</td>\n",
       "      <td>1.964327</td>\n",
       "      <td>-1.999347</td>\n",
       "      <td>478</td>\n",
       "      <td>1</td>\n",
       "    </tr>\n",
       "    <tr>\n",
       "      <th>4</th>\n",
       "      <td>0.0</td>\n",
       "      <td>0.0</td>\n",
       "      <td>0.0</td>\n",
       "      <td>0.0</td>\n",
       "      <td>27.273478</td>\n",
       "      <td>5269.834473</td>\n",
       "      <td>5269.834473</td>\n",
       "      <td>56022.0</td>\n",
       "      <td>633.350016</td>\n",
       "      <td>0.0</td>\n",
       "      <td>1.381714</td>\n",
       "      <td>1.757388</td>\n",
       "      <td>191</td>\n",
       "      <td>1</td>\n",
       "    </tr>\n",
       "    <tr>\n",
       "      <th>...</th>\n",
       "      <td>...</td>\n",
       "      <td>...</td>\n",
       "      <td>...</td>\n",
       "      <td>...</td>\n",
       "      <td>...</td>\n",
       "      <td>...</td>\n",
       "      <td>...</td>\n",
       "      <td>...</td>\n",
       "      <td>...</td>\n",
       "      <td>...</td>\n",
       "      <td>...</td>\n",
       "      <td>...</td>\n",
       "      <td>...</td>\n",
       "      <td>...</td>\n",
       "    </tr>\n",
       "    <tr>\n",
       "      <th>1898626</th>\n",
       "      <td>0.0</td>\n",
       "      <td>0.0</td>\n",
       "      <td>0.0</td>\n",
       "      <td>0.0</td>\n",
       "      <td>248.363850</td>\n",
       "      <td>5711.471680</td>\n",
       "      <td>5711.471680</td>\n",
       "      <td>37587.0</td>\n",
       "      <td>1716.831720</td>\n",
       "      <td>0.0</td>\n",
       "      <td>0.369306</td>\n",
       "      <td>-1.330776</td>\n",
       "      <td>83</td>\n",
       "      <td>1</td>\n",
       "    </tr>\n",
       "    <tr>\n",
       "      <th>1898627</th>\n",
       "      <td>0.0</td>\n",
       "      <td>0.0</td>\n",
       "      <td>0.0</td>\n",
       "      <td>0.0</td>\n",
       "      <td>27.320343</td>\n",
       "      <td>5711.471680</td>\n",
       "      <td>5711.471680</td>\n",
       "      <td>38162.0</td>\n",
       "      <td>600.993972</td>\n",
       "      <td>0.0</td>\n",
       "      <td>0.423429</td>\n",
       "      <td>0.630367</td>\n",
       "      <td>575</td>\n",
       "      <td>1</td>\n",
       "    </tr>\n",
       "    <tr>\n",
       "      <th>1898628</th>\n",
       "      <td>0.0</td>\n",
       "      <td>0.0</td>\n",
       "      <td>0.0</td>\n",
       "      <td>0.0</td>\n",
       "      <td>27.881308</td>\n",
       "      <td>5711.471680</td>\n",
       "      <td>5711.471680</td>\n",
       "      <td>38200.0</td>\n",
       "      <td>606.096324</td>\n",
       "      <td>0.0</td>\n",
       "      <td>0.560327</td>\n",
       "      <td>0.200571</td>\n",
       "      <td>38</td>\n",
       "      <td>1</td>\n",
       "    </tr>\n",
       "    <tr>\n",
       "      <th>1898629</th>\n",
       "      <td>0.0</td>\n",
       "      <td>0.0</td>\n",
       "      <td>0.0</td>\n",
       "      <td>0.0</td>\n",
       "      <td>27.072135</td>\n",
       "      <td>5711.471680</td>\n",
       "      <td>5711.471680</td>\n",
       "      <td>38467.0</td>\n",
       "      <td>600.026994</td>\n",
       "      <td>0.0</td>\n",
       "      <td>0.926449</td>\n",
       "      <td>-0.633551</td>\n",
       "      <td>267</td>\n",
       "      <td>1</td>\n",
       "    </tr>\n",
       "    <tr>\n",
       "      <th>1898630</th>\n",
       "      <td>0.0</td>\n",
       "      <td>0.0</td>\n",
       "      <td>0.0</td>\n",
       "      <td>0.0</td>\n",
       "      <td>26.879493</td>\n",
       "      <td>5711.471680</td>\n",
       "      <td>5711.471680</td>\n",
       "      <td>38469.0</td>\n",
       "      <td>609.497892</td>\n",
       "      <td>0.0</td>\n",
       "      <td>-0.066857</td>\n",
       "      <td>-2.534204</td>\n",
       "      <td>2</td>\n",
       "      <td>1</td>\n",
       "    </tr>\n",
       "  </tbody>\n",
       "</table>\n",
       "<p>1898631 rows × 14 columns</p>\n",
       "</div>"
      ],
      "text/plain": [
       "         x (nm)  y (nm)  z (nm)  mc_c (Da)     mc (Da)  high_voltage (V)  \\\n",
       "0           0.0     0.0     0.0        0.0   27.401002       5269.834473   \n",
       "1           0.0     0.0     0.0        0.0   27.522766       5269.834473   \n",
       "2           0.0     0.0     0.0        0.0   27.582728       5269.834473   \n",
       "3           0.0     0.0     0.0        0.0   26.913047       5269.834473   \n",
       "4           0.0     0.0     0.0        0.0   27.273478       5269.834473   \n",
       "...         ...     ...     ...        ...         ...               ...   \n",
       "1898626     0.0     0.0     0.0        0.0  248.363850       5711.471680   \n",
       "1898627     0.0     0.0     0.0        0.0   27.320343       5711.471680   \n",
       "1898628     0.0     0.0     0.0        0.0   27.881308       5711.471680   \n",
       "1898629     0.0     0.0     0.0        0.0   27.072135       5711.471680   \n",
       "1898630     0.0     0.0     0.0        0.0   26.879493       5711.471680   \n",
       "\n",
       "           pulse (V)  start_counter       t (ns)  t_c (nm)  x_det (cm)  \\\n",
       "0        5269.834473        54436.0   635.421132       0.0   -1.595020   \n",
       "1        5269.834473        54903.0   635.901192       0.0    0.646286   \n",
       "2        5269.834473        55353.0   648.101574       0.0   -0.175102   \n",
       "3        5269.834473        55831.0   636.010920       0.0    1.964327   \n",
       "4        5269.834473        56022.0   633.350016       0.0    1.381714   \n",
       "...              ...            ...          ...       ...         ...   \n",
       "1898626  5711.471680        37587.0  1716.831720       0.0    0.369306   \n",
       "1898627  5711.471680        38162.0   600.993972       0.0    0.423429   \n",
       "1898628  5711.471680        38200.0   606.096324       0.0    0.560327   \n",
       "1898629  5711.471680        38467.0   600.026994       0.0    0.926449   \n",
       "1898630  5711.471680        38469.0   609.497892       0.0   -0.066857   \n",
       "\n",
       "         y_det (cm)  pulse_pi  ion_pp  \n",
       "0         -1.661878         0       1  \n",
       "1          2.129878       467       1  \n",
       "2          3.155020       450       1  \n",
       "3         -1.999347       478       1  \n",
       "4          1.757388       191       1  \n",
       "...             ...       ...     ...  \n",
       "1898626   -1.330776        83       1  \n",
       "1898627    0.630367       575       1  \n",
       "1898628    0.200571        38       1  \n",
       "1898629   -0.633551       267       1  \n",
       "1898630   -2.534204         2       1  \n",
       "\n",
       "[1898631 rows x 14 columns]"
      ]
     },
     "execution_count": 21,
     "metadata": {},
     "output_type": "execute_result"
    }
   ],
   "source": [
    "data"
   ]
  },
  {
   "cell_type": "code",
   "execution_count": 22,
   "metadata": {},
   "outputs": [
    {
     "data": {
      "application/vnd.jupyter.widget-view+json": {
       "model_id": "352d6232508a49599b222b1adc92259e",
       "version_major": 2,
       "version_minor": 0
      },
      "image/png": "[encoded data removed]",
      "text/html": [
       "\n",
       "            <div style=\"display: inline-block;\">\n",
       "                <div class=\"jupyter-widgets widget-label\" style=\"text-align: center;\">\n",
       "                    Figure\n",
       "                </div>\n",
       "                <img src='data:image/png;base64,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' width=800.0/>\n",
       "            </div>\n",
       "        "
      ],
      "text/plain": [
       "Canvas(toolbar=Toolbar(toolitems=[('Home', 'Reset original view', 'home', 'home'), ('Back', 'Back to previous …"
      ]
     },
     "metadata": {},
     "output_type": "display_data"
    }
   ],
   "source": [
    "data_loadcrop.plot_crop_experimetn_history(data, save_name=variables.result_path + '//ex_hist_' + dataset_name)\n"
   ]
  },
  {
   "cell_type": "code",
   "execution_count": 23,
   "metadata": {},
   "outputs": [],
   "source": [
    "# exctract needed data from Pandas data frame as an numpy array\n",
    "dld_highVoltage = data['high_voltage (V)'].to_numpy()\n",
    "if pulse_mode_ini == 'voltage':\n",
    "    dld_pulseVoltage = data['pulse (V)'].to_numpy()\n",
    "elif pulse_mode_ini == 'laser':\n",
    "    dld_pulseVoltage = data['pulse (deg)'].to_numpy()\n",
    "dld_t = data['t (ns)'].to_numpy()\n",
    "dld_x = data['x_det (cm)'].to_numpy()\n",
    "dld_y = data['y_det (cm)'].to_numpy()\n",
    "mc = data['mc (Da)'].to_numpy()\n",
    "# copy dld_t to a have a global version of that\n",
    "variables.dld_t_calib = np.copy(dld_t)\n",
    "# variables.mc_calib = np.copy(mc)\n",
    "# variables.mc_calib_backup = np.copy(mc)"
   ]
  },
  {
   "cell_type": "code",
   "execution_count": 24,
   "metadata": {},
   "outputs": [],
   "source": [
    "# peaks_ini, peaks_y_ini, peak_widths_p_ini = tools.hist_plot(mc[mc < 150], 0.1, distance=100, percent=50, prominence=100, selector='rect', plot=True, label='mc', fig_name=figname+'_orig')"
   ]
  },
  {
   "cell_type": "markdown",
   "metadata": {
    "pycharm": {
     "name": "#%% md\n"
    }
   },
   "source": [
    "$$\\textbf{Below plotted graph offers peak selection. You can select relevant peaks you want for computation.}$$"
   ]
  },
  {
   "cell_type": "code",
   "execution_count": 25,
   "metadata": {
    "pycharm": {
     "name": "#%%\n"
    }
   },
   "outputs": [
    {
     "data": {
      "application/vnd.jupyter.widget-view+json": {
       "model_id": "fc78490d1274473e96bcf0bab8e5a9eb",
       "version_major": 2,
       "version_minor": 0
      },
      "text/plain": [
       "interactive(children=(FloatText(value=51.74, description='t_0'), FloatText(value=0.1, description='bin_size'),…"
      ]
     },
     "metadata": {},
     "output_type": "display_data"
    }
   ],
   "source": [
    "def mc_hist_plot(t_0, bin_size, prominence, distance, percent, selector, plot, figname, lim_mc):\n",
    "    mc_seb_ini = mc_tools.tof2mc(dld_t, t_0, dld_highVoltage, dld_pulseVoltage, dld_x, dld_y, flightPathLength, mode=pulse_mode_ini)\n",
    "    variables.mc_calib = np.copy(mc_seb_ini)\n",
    "    variables.mc_calib_backup = np.copy(mc_seb_ini)\n",
    "    mc = mc_seb_ini\n",
    "    peaks_ini, peaks_y_ini, peak_widths_p_ini = tools.hist_plot(variables.mc_calib[variables.mc_calib < lim_mc], bin_size, distance=distance, percent=percent, prominence=prominence, selector=selector, plot=plot, label='mc', fig_name=figname+'_ini')\n",
    "    index_max_ini = np.argmax(peaks_y_ini)\n",
    "    variables.max_peak = peaks_ini[index_max_ini]\n",
    "    variables.peak = peaks_ini\n",
    "    mrp = (peaks_ini[index_max_ini] / (peak_widths_p_ini[index_max_ini][2] - peak_widths_p_ini[index_max_ini][1]))\n",
    "    print('Mass resolving power for the highest peak (MRP --> m/m_2-m_1):', mrp)\n",
    "    for i in range(len(peaks_ini)):\n",
    "        print('Peaks ', i, 'is at location and height: ({:.2f}, {:.2f})'.format(peaks_ini[i], peaks_y_ini[i]), 'peak window sides (half-maximum) are: ({:.2f}, {:.2f})'.format(peak_widths_p_ini[i][1], peak_widths_p_ini[i][2]))\n",
    "\n",
    "interact_manual(mc_hist_plot, t_0=widgets.FloatText(value=t0), bin_size=widgets.FloatText(value=0.1)\n",
    "               ,prominence=widgets.IntText(value=50), distance=widgets.IntText(value=100), lim_mc=widgets.IntText(value=150)\n",
    "               ,percent=widgets.IntText(value=50), selector=fixed('rect'), plot=fixed(True), figname=fixed(figname));\n"
   ]
  },
  {
   "cell_type": "code",
   "execution_count": 26,
   "metadata": {},
   "outputs": [],
   "source": [
    "bin_size=widgets.FloatText(value=0.1, description='bin size:')\n",
    "prominence=widgets.IntText(value=100, description='peak prominance:')\n",
    "distance=widgets.IntText(value=50, description='peak distance:')\n",
    "lim_tof=widgets.IntText(value=150, description='lim tof/mc:')\n",
    "percent=widgets.IntText(value=50, description='percent MRP:')\n",
    "\n",
    "def hist_plot(figname, plot):\n",
    "    \n",
    "    with out:\n",
    "        clear_output(True)\n",
    "    \n",
    "        bin_size_p = bin_size.value\n",
    "        prominence_p = prominence.value\n",
    "        distance_p = distance.value\n",
    "        lim_tof_p = lim_tof.value\n",
    "        percent_p = percent.value\n",
    "        selector='rect'\n",
    "        peaks_ini, peaks_y_ini, peak_widths_p_ini = tools.hist_plot(variables.mc_calib[variables.mc_calib < lim_tof_p], \n",
    "                                                bin_size_p, distance=distance_p, percent=percent_p, prominence=prominence_p,\n",
    "                                                                    selector=selector, plot=plot, label='mc', fig_name=figname)\n",
    "        index_max_ini = np.argmax(peaks_y_ini)\n",
    "        variables.max_peak = peaks_ini[index_max_ini]\n",
    "        variables.peak = peaks_ini\n",
    "        mrp = (peaks_ini[index_max_ini] / (peak_widths_p_ini[index_max_ini][2] - peak_widths_p_ini[index_max_ini][1]))\n",
    "        print('Mass resolving power for the highest peak (MRP --> m/m_2-m_1):', mrp)\n",
    "        for i in range(len(peaks_ini)):\n",
    "                      print('Peaks ', i, 'is at location and height: ({:.2f}, {:.2f})'.format(peaks_ini[i], peaks_y_ini[i]), 'peak window sides ({:.2f}%) are: ({:.2f}, {:.2f})'.format(percent_p, peak_widths_p_ini[i][1], peak_widths_p_ini[i][2]))"
   ]
  },
  {
   "cell_type": "code",
   "execution_count": 27,
   "metadata": {},
   "outputs": [],
   "source": [
    "sample_size_b = widgets.IntText(value=11, description='sample size:') \n",
    "index_fig_b = widgets.IntText(value=1, description='fig index:')\n",
    "plot_b = widgets.Dropdown(\n",
    "    options=[('False', False), ('True', True)],\n",
    "    description='plot fig:'\n",
    ")\n",
    "\n",
    "save_b = widgets.Dropdown(\n",
    "    options=[('False', False), ('True', True)],\n",
    "    description='save fig:'\n",
    ")\n",
    "def bowl_correction(dld_x, dld_y, dld_highVoltage, figname=figname):\n",
    "    with out:\n",
    "        sample_size_p = sample_size_b.value\n",
    "        index_fig_p = index_fig_b.value\n",
    "        plot_p = plot_b.value\n",
    "        save_p = save_b.value\n",
    "        if plot_p:\n",
    "            clear_output(True)\n",
    "\n",
    "        calibration.bowl_correction_main(dld_x, dld_y, dld_highVoltage, det_diam.value, sample_size=sample_size_p, calibration_mode='mc',\n",
    "                                        index_fig=index_fig_p, plot=plot_p, save=save_p)\n"
   ]
  },
  {
   "cell_type": "code",
   "execution_count": 28,
   "metadata": {},
   "outputs": [],
   "source": [
    "sample_size_v =widgets.IntText(value=100, description='sample size:') \n",
    "index_fig_v = widgets.IntText(value=1, description='fig index:')\n",
    "plot_v = widgets.Dropdown(\n",
    "    options=[('False', False), ('True', True)],\n",
    "    description='plot fig:'\n",
    ")\n",
    "save_v = widgets.Dropdown(\n",
    "    options=[('False', False), ('True', True)],\n",
    "    description='save fig:'\n",
    ")\n",
    "mode_v = widgets.Dropdown(\n",
    "    options=[('ion_seq', 'ion_seq'), ('voltage', 'voltage')],\n",
    "    description='sample mode:'\n",
    ")\n",
    "def vol_correction(dld_highVoltage, figname):\n",
    "    with out:\n",
    "        sample_size_p = sample_size_v.value\n",
    "        index_fig_p = index_fig_v.value\n",
    "        plot_p = plot_v.value\n",
    "        save_p = save_v.value\n",
    "        mode_p = mode_v.value\n",
    "        if plot_p:\n",
    "            clear_output(True)\n",
    "        calibration.voltage_corr_main(dld_highVoltage, sample_size=sample_size_p, calibration_mode='mc',\n",
    "                                        index_fig=index_fig_p, plot=plot_p, save=save_p, mode=mode_p)\n"
   ]
  },
  {
   "cell_type": "code",
   "execution_count": 29,
   "metadata": {},
   "outputs": [
    {
     "data": {
      "application/vnd.jupyter.widget-view+json": {
       "model_id": "e339bbdc94a04d4d81aac46c6b2e74d5",
       "version_major": 2,
       "version_minor": 0
      },
      "text/plain": [
       "VBox(children=(Tab(children=(VBox(children=(FloatText(value=0.1, description='bin size:'), IntText(value=100, …"
      ]
     },
     "metadata": {},
     "output_type": "display_data"
    },
    {
     "data": {
      "application/vnd.jupyter.widget-view+json": {
       "model_id": "e3bd57d05961451a93bd7cf7bc98edb5",
       "version_major": 2,
       "version_minor": 0
      },
      "text/plain": [
       "Output()"
      ]
     },
     "metadata": {},
     "output_type": "display_data"
    }
   ],
   "source": [
    "pb_bowl = widgets.HTML(\n",
    "    value=\" \",\n",
    "    placeholder='Status:',\n",
    "    description='Status:',\n",
    ")\n",
    "pb_vol = widgets.HTML(\n",
    "    value=\" \",\n",
    "    placeholder='Status:',\n",
    "    description='Status:',\n",
    ")\n",
    "plot_button = widgets.Button(\n",
    "    description='plot hist',\n",
    ")\n",
    "plot_fdm_button = widgets.Button(\n",
    "    description='plot FDM',\n",
    ")\n",
    "reset_button = widgets.Button(\n",
    "    description='reset back correction',\n",
    ")\n",
    "save_button = widgets.Button(\n",
    "    description='save correction',\n",
    ")\n",
    "bowl_button = widgets.Button(\n",
    "    description='bowl correction',\n",
    ")\n",
    "vol_button = widgets.Button(\n",
    "    description='voltage correction',\n",
    ")\n",
    "bin_fdm = widgets.IntText(value=256, description='bin FDM:')\n",
    "\n",
    "\n",
    "\n",
    "@plot_button.on_click\n",
    "def plot_on_click(b, figname=figname, plot=True):\n",
    "    hist_plot(figname, plot)\n",
    "\n",
    "@plot_fdm_button.on_click\n",
    "def plot_fdm_on_click(b, save=True):\n",
    "    with out:\n",
    "        clear_output(True)\n",
    "        mask_temporal = np.logical_and((variables.mc_calib > variables.selected_x1),\n",
    "                                       (variables.mc_calib < variables.selected_x2))\n",
    "        x = dld_x[mask_temporal]\n",
    "        y = dld_y[mask_temporal]\n",
    "        bin_fdm_p = bin_fdm.value\n",
    "        bins = [bin_fdm_p, bin_fdm_p]\n",
    "\n",
    "        calibration.plot_FDM(x, y, save, bins)\n",
    "    \n",
    "@reset_button.on_click\n",
    "def reset_on_click(b, figname=figname, plot=True):\n",
    "    variables.mc_calib = np.copy(variables.mc_calib_backup)\n",
    "    \n",
    "@save_button.on_click\n",
    "def save_on_click(b, figname=figname, plot=True):\n",
    "    variables.mc_calib_backup = np.copy(variables.mc_calib)   \n",
    "    \n",
    "@bowl_button.on_click\n",
    "def bowl_on_click(b, dld_x=dld_x, dld_y=dld_y, dld_highVoltage=dld_highVoltage, figname=figname):\n",
    "    pb_bowl.value = \"<b>Starting...</b>\"\n",
    "    bowl_correction(dld_x, dld_y, dld_highVoltage, figname)  \n",
    "    pb_bowl.value = \"<b>Fnished</b>\"\n",
    "@vol_button.on_click\n",
    "def vol_on_click(b, dld_highVoltage=dld_highVoltage, figname=figname):\n",
    "    pb_vol.value = \"<b>Starting...</b>\"\n",
    "    vol_correction(dld_highVoltage, figname)\n",
    "    pb_vol.value = \"<b>Fnished</b>\"\n",
    "    \n",
    "\n",
    "\n",
    "tab1 = VBox(children=[bin_size, prominence, distance, lim_tof, percent, bin_fdm])\n",
    "tab2 = VBox(children=[HBox(children=[sample_size_b, index_fig_b, plot_b, save_b]), bowl_button, pb_bowl])\n",
    "tab3 = VBox(children=[HBox(children=[sample_size_v, index_fig_v, mode_v, plot_v, save_v]), vol_button, pb_vol])\n",
    "\n",
    "tab = widgets.Tab(children=[tab1, tab2, tab3])\n",
    "tab.set_title(0, 'tof/mc plot')\n",
    "tab.set_title(1, 'bowl correction')\n",
    "tab.set_title(2, 'voltage correction')\n",
    "\n",
    "\n",
    "\n",
    "display(VBox(children=[tab,HBox(children=[plot_button, plot_fdm_button, save_button, reset_button])]))\n",
    "out = Output()\n",
    "display(out)"
   ]
  },
  {
   "cell_type": "code",
   "execution_count": 31,
   "metadata": {},
   "outputs": [],
   "source": [
    "variables.mc_calib_backup = np.copy(variables.mc_calib)"
   ]
  },
  {
   "cell_type": "code",
   "execution_count": 32,
   "metadata": {},
   "outputs": [],
   "source": [
    "def tof_his(bin_size, prominence, distance, percent, selector, plot, figname, lim_mc):\n",
    "    variables.peaks_idx = []\n",
    "    peaks_ini, peaks_y_ini, peak_widths_p_ini = tools.hist_plot(variables.mc_calib[variables.mc_calib < lim_mc], bin_size, distance=distance, percent=percent, prominence=prominence, selector=selector, plot=plot, label='mc', fig_name=figname)\n",
    "    index_max_ini = np.argmax(peaks_y_ini)\n",
    "    variables.max_peak = peaks_ini[index_max_ini]\n",
    "    variables.peak = peaks_ini\n",
    "    mrp = (peaks_ini[index_max_ini] / (peak_widths_p_ini[index_max_ini][2] - peak_widths_p_ini[index_max_ini][1]))\n",
    "    print('Mass resolving power for the highest peak (MRP --> m/m_2-m_1):', mrp)\n",
    "    for i in range(len(peaks_ini)):\n",
    "        print('Peaks ', i, 'is at location and height: ({:.2f}, {:.2f})'.format(peaks_ini[i], peaks_y_ini[i]), 'peak window sides (half-maximum) are: ({:.2f}, {:.2f})'.format(peak_widths_p_ini[i][1], peak_widths_p_ini[i][2]))"
   ]
  },
  {
   "cell_type": "code",
   "execution_count": 33,
   "metadata": {},
   "outputs": [
    {
     "data": {
      "application/vnd.jupyter.widget-view+json": {
       "model_id": "86c77112cef542c99f8284ddfe0c32f9",
       "version_major": 2,
       "version_minor": 0
      },
      "text/plain": [
       "interactive(children=(FloatText(value=0.1, description='bin_size'), IntText(value=50, description='prominence'…"
      ]
     },
     "metadata": {},
     "output_type": "display_data"
    }
   ],
   "source": [
    "\n",
    "interact_manual(tof_his, bin_size=widgets.FloatText(value=0.1)\n",
    "               ,prominence=widgets.IntText(value=50), distance=widgets.IntText(value=100), lim_mc=widgets.IntText(value=150)\n",
    "               ,percent=widgets.IntText(value=50), selector=fixed('rect'), plot=fixed(True), figname=fixed(figname+'_cor'));\n"
   ]
  },
  {
   "cell_type": "code",
   "execution_count": 34,
   "metadata": {},
   "outputs": [],
   "source": [
    "data['mc_c (Da)'] = variables.mc_calib"
   ]
  },
  {
   "cell_type": "code",
   "execution_count": 35,
   "metadata": {},
   "outputs": [
    {
     "data": {
      "text/html": [
       "<div>\n",
       "<style scoped>\n",
       "    .dataframe tbody tr th:only-of-type {\n",
       "        vertical-align: middle;\n",
       "    }\n",
       "\n",
       "    .dataframe tbody tr th {\n",
       "        vertical-align: top;\n",
       "    }\n",
       "\n",
       "    .dataframe thead th {\n",
       "        text-align: right;\n",
       "    }\n",
       "</style>\n",
       "<table border=\"1\" class=\"dataframe\">\n",
       "  <thead>\n",
       "    <tr style=\"text-align: right;\">\n",
       "      <th></th>\n",
       "      <th>x (nm)</th>\n",
       "      <th>y (nm)</th>\n",
       "      <th>z (nm)</th>\n",
       "      <th>mc_c (Da)</th>\n",
       "      <th>mc (Da)</th>\n",
       "      <th>high_voltage (V)</th>\n",
       "      <th>pulse (V)</th>\n",
       "      <th>start_counter</th>\n",
       "      <th>t (ns)</th>\n",
       "      <th>t_c (nm)</th>\n",
       "      <th>x_det (cm)</th>\n",
       "      <th>y_det (cm)</th>\n",
       "      <th>pulse_pi</th>\n",
       "      <th>ion_pp</th>\n",
       "      <th>tof_c (ns)</th>\n",
       "    </tr>\n",
       "  </thead>\n",
       "  <tbody>\n",
       "    <tr>\n",
       "      <th>0</th>\n",
       "      <td>0.0</td>\n",
       "      <td>0.0</td>\n",
       "      <td>0.0</td>\n",
       "      <td>27.352441</td>\n",
       "      <td>27.401002</td>\n",
       "      <td>5269.834473</td>\n",
       "      <td>5269.834473</td>\n",
       "      <td>54436.0</td>\n",
       "      <td>635.421132</td>\n",
       "      <td>0.0</td>\n",
       "      <td>-1.595020</td>\n",
       "      <td>-1.661878</td>\n",
       "      <td>0</td>\n",
       "      <td>1</td>\n",
       "      <td>0.0</td>\n",
       "    </tr>\n",
       "    <tr>\n",
       "      <th>1</th>\n",
       "      <td>0.0</td>\n",
       "      <td>0.0</td>\n",
       "      <td>0.0</td>\n",
       "      <td>27.228966</td>\n",
       "      <td>27.522766</td>\n",
       "      <td>5269.834473</td>\n",
       "      <td>5269.834473</td>\n",
       "      <td>54903.0</td>\n",
       "      <td>635.901192</td>\n",
       "      <td>0.0</td>\n",
       "      <td>0.646286</td>\n",
       "      <td>2.129878</td>\n",
       "      <td>467</td>\n",
       "      <td>1</td>\n",
       "      <td>0.0</td>\n",
       "    </tr>\n",
       "    <tr>\n",
       "      <th>2</th>\n",
       "      <td>0.0</td>\n",
       "      <td>0.0</td>\n",
       "      <td>0.0</td>\n",
       "      <td>27.086795</td>\n",
       "      <td>27.582728</td>\n",
       "      <td>5269.834473</td>\n",
       "      <td>5269.834473</td>\n",
       "      <td>55353.0</td>\n",
       "      <td>648.101574</td>\n",
       "      <td>0.0</td>\n",
       "      <td>-0.175102</td>\n",
       "      <td>3.155020</td>\n",
       "      <td>450</td>\n",
       "      <td>1</td>\n",
       "      <td>0.0</td>\n",
       "    </tr>\n",
       "    <tr>\n",
       "      <th>3</th>\n",
       "      <td>0.0</td>\n",
       "      <td>0.0</td>\n",
       "      <td>0.0</td>\n",
       "      <td>27.282802</td>\n",
       "      <td>26.913047</td>\n",
       "      <td>5269.834473</td>\n",
       "      <td>5269.834473</td>\n",
       "      <td>55831.0</td>\n",
       "      <td>636.010920</td>\n",
       "      <td>0.0</td>\n",
       "      <td>1.964327</td>\n",
       "      <td>-1.999347</td>\n",
       "      <td>478</td>\n",
       "      <td>1</td>\n",
       "      <td>0.0</td>\n",
       "    </tr>\n",
       "    <tr>\n",
       "      <th>4</th>\n",
       "      <td>0.0</td>\n",
       "      <td>0.0</td>\n",
       "      <td>0.0</td>\n",
       "      <td>27.132434</td>\n",
       "      <td>27.273478</td>\n",
       "      <td>5269.834473</td>\n",
       "      <td>5269.834473</td>\n",
       "      <td>56022.0</td>\n",
       "      <td>633.350016</td>\n",
       "      <td>0.0</td>\n",
       "      <td>1.381714</td>\n",
       "      <td>1.757388</td>\n",
       "      <td>191</td>\n",
       "      <td>1</td>\n",
       "      <td>0.0</td>\n",
       "    </tr>\n",
       "    <tr>\n",
       "      <th>...</th>\n",
       "      <td>...</td>\n",
       "      <td>...</td>\n",
       "      <td>...</td>\n",
       "      <td>...</td>\n",
       "      <td>...</td>\n",
       "      <td>...</td>\n",
       "      <td>...</td>\n",
       "      <td>...</td>\n",
       "      <td>...</td>\n",
       "      <td>...</td>\n",
       "      <td>...</td>\n",
       "      <td>...</td>\n",
       "      <td>...</td>\n",
       "      <td>...</td>\n",
       "      <td>...</td>\n",
       "    </tr>\n",
       "    <tr>\n",
       "      <th>1898626</th>\n",
       "      <td>0.0</td>\n",
       "      <td>0.0</td>\n",
       "      <td>0.0</td>\n",
       "      <td>248.242374</td>\n",
       "      <td>248.363850</td>\n",
       "      <td>5711.471680</td>\n",
       "      <td>5711.471680</td>\n",
       "      <td>37587.0</td>\n",
       "      <td>1716.831720</td>\n",
       "      <td>0.0</td>\n",
       "      <td>0.369306</td>\n",
       "      <td>-1.330776</td>\n",
       "      <td>83</td>\n",
       "      <td>1</td>\n",
       "      <td>0.0</td>\n",
       "    </tr>\n",
       "    <tr>\n",
       "      <th>1898627</th>\n",
       "      <td>0.0</td>\n",
       "      <td>0.0</td>\n",
       "      <td>0.0</td>\n",
       "      <td>27.040206</td>\n",
       "      <td>27.320343</td>\n",
       "      <td>5711.471680</td>\n",
       "      <td>5711.471680</td>\n",
       "      <td>38162.0</td>\n",
       "      <td>600.993972</td>\n",
       "      <td>0.0</td>\n",
       "      <td>0.423429</td>\n",
       "      <td>0.630367</td>\n",
       "      <td>575</td>\n",
       "      <td>1</td>\n",
       "      <td>0.0</td>\n",
       "    </tr>\n",
       "    <tr>\n",
       "      <th>1898628</th>\n",
       "      <td>0.0</td>\n",
       "      <td>0.0</td>\n",
       "      <td>0.0</td>\n",
       "      <td>27.665819</td>\n",
       "      <td>27.881308</td>\n",
       "      <td>5711.471680</td>\n",
       "      <td>5711.471680</td>\n",
       "      <td>38200.0</td>\n",
       "      <td>606.096324</td>\n",
       "      <td>0.0</td>\n",
       "      <td>0.560327</td>\n",
       "      <td>0.200571</td>\n",
       "      <td>38</td>\n",
       "      <td>1</td>\n",
       "      <td>0.0</td>\n",
       "    </tr>\n",
       "    <tr>\n",
       "      <th>1898629</th>\n",
       "      <td>0.0</td>\n",
       "      <td>0.0</td>\n",
       "      <td>0.0</td>\n",
       "      <td>27.019084</td>\n",
       "      <td>27.072135</td>\n",
       "      <td>5711.471680</td>\n",
       "      <td>5711.471680</td>\n",
       "      <td>38467.0</td>\n",
       "      <td>600.026994</td>\n",
       "      <td>0.0</td>\n",
       "      <td>0.926449</td>\n",
       "      <td>-0.633551</td>\n",
       "      <td>267</td>\n",
       "      <td>1</td>\n",
       "      <td>0.0</td>\n",
       "    </tr>\n",
       "    <tr>\n",
       "      <th>1898630</th>\n",
       "      <td>0.0</td>\n",
       "      <td>0.0</td>\n",
       "      <td>0.0</td>\n",
       "      <td>27.048837</td>\n",
       "      <td>26.879493</td>\n",
       "      <td>5711.471680</td>\n",
       "      <td>5711.471680</td>\n",
       "      <td>38469.0</td>\n",
       "      <td>609.497892</td>\n",
       "      <td>0.0</td>\n",
       "      <td>-0.066857</td>\n",
       "      <td>-2.534204</td>\n",
       "      <td>2</td>\n",
       "      <td>1</td>\n",
       "      <td>0.0</td>\n",
       "    </tr>\n",
       "  </tbody>\n",
       "</table>\n",
       "<p>1898631 rows × 15 columns</p>\n",
       "</div>"
      ],
      "text/plain": [
       "         x (nm)  y (nm)  z (nm)   mc_c (Da)     mc (Da)  high_voltage (V)  \\\n",
       "0           0.0     0.0     0.0   27.352441   27.401002       5269.834473   \n",
       "1           0.0     0.0     0.0   27.228966   27.522766       5269.834473   \n",
       "2           0.0     0.0     0.0   27.086795   27.582728       5269.834473   \n",
       "3           0.0     0.0     0.0   27.282802   26.913047       5269.834473   \n",
       "4           0.0     0.0     0.0   27.132434   27.273478       5269.834473   \n",
       "...         ...     ...     ...         ...         ...               ...   \n",
       "1898626     0.0     0.0     0.0  248.242374  248.363850       5711.471680   \n",
       "1898627     0.0     0.0     0.0   27.040206   27.320343       5711.471680   \n",
       "1898628     0.0     0.0     0.0   27.665819   27.881308       5711.471680   \n",
       "1898629     0.0     0.0     0.0   27.019084   27.072135       5711.471680   \n",
       "1898630     0.0     0.0     0.0   27.048837   26.879493       5711.471680   \n",
       "\n",
       "           pulse (V)  start_counter       t (ns)  t_c (nm)  x_det (cm)  \\\n",
       "0        5269.834473        54436.0   635.421132       0.0   -1.595020   \n",
       "1        5269.834473        54903.0   635.901192       0.0    0.646286   \n",
       "2        5269.834473        55353.0   648.101574       0.0   -0.175102   \n",
       "3        5269.834473        55831.0   636.010920       0.0    1.964327   \n",
       "4        5269.834473        56022.0   633.350016       0.0    1.381714   \n",
       "...              ...            ...          ...       ...         ...   \n",
       "1898626  5711.471680        37587.0  1716.831720       0.0    0.369306   \n",
       "1898627  5711.471680        38162.0   600.993972       0.0    0.423429   \n",
       "1898628  5711.471680        38200.0   606.096324       0.0    0.560327   \n",
       "1898629  5711.471680        38467.0   600.026994       0.0    0.926449   \n",
       "1898630  5711.471680        38469.0   609.497892       0.0   -0.066857   \n",
       "\n",
       "         y_det (cm)  pulse_pi  ion_pp  tof_c (ns)  \n",
       "0         -1.661878         0       1         0.0  \n",
       "1          2.129878       467       1         0.0  \n",
       "2          3.155020       450       1         0.0  \n",
       "3         -1.999347       478       1         0.0  \n",
       "4          1.757388       191       1         0.0  \n",
       "...             ...       ...     ...         ...  \n",
       "1898626   -1.330776        83       1         0.0  \n",
       "1898627    0.630367       575       1         0.0  \n",
       "1898628    0.200571        38       1         0.0  \n",
       "1898629   -0.633551       267       1         0.0  \n",
       "1898630   -2.534204         2       1         0.0  \n",
       "\n",
       "[1898631 rows x 15 columns]"
      ]
     },
     "execution_count": 35,
     "metadata": {},
     "output_type": "execute_result"
    }
   ],
   "source": [
    "data"
   ]
  },
  {
   "cell_type": "code",
   "execution_count": 36,
   "metadata": {},
   "outputs": [],
   "source": [
    "# save the new data\n",
    "name_save_file = variables.result_path + '//' + dataset_name + '.h5'\n",
    "data_tools.store_df_to_hdf(name_save_file, data, 'df')"
   ]
  },
  {
   "cell_type": "code",
   "execution_count": 37,
   "metadata": {},
   "outputs": [],
   "source": [
    "# save data as epos file\n",
    "epos = ccapt_tools.ccapt_to_epos(data, path=variables.result_path, name=dataset_name + '.epos')\n",
    "pos = ccapt_tools.ccapt_to_pos(data, path=variables.result_path, name=dataset_name + '.POS')"
   ]
  },
  {
   "cell_type": "code",
   "execution_count": 136,
   "metadata": {},
   "outputs": [],
   "source": [
    "# save data in csv format\n",
    "data_tools.store_df_to_csv(data, variables.result_path + dataset_name + '.csv')"
   ]
  },
  {
   "cell_type": "code",
   "execution_count": null,
   "metadata": {},
   "outputs": [],
   "source": []
  }
 ],
 "metadata": {
  "kernelspec": {
   "display_name": "Python 3 (ipykernel)",
   "language": "python",
   "name": "python3"
  },
  "language_info": {
   "codemirror_mode": {
    "name": "ipython",
    "version": 3
   },
   "file_extension": ".py",
   "mimetype": "text/x-python",
   "name": "python",
   "nbconvert_exporter": "python",
   "pygments_lexer": "ipython3",
   "version": "3.8.13"
  }
 },
 "nbformat": 4,
 "nbformat_minor": 4
}

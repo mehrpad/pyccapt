{
 "cells": [
  {
   "cell_type": "code",
   "execution_count": 117,
   "metadata": {
    "pycharm": {
     "name": "#%%\n"
    }
   },
   "outputs": [],
   "source": [
    "%matplotlib ipympl\n",
    "import os\n",
    "import os.path as path\n",
    "import numpy as np\n",
    "from scipy.optimize import curve_fit\n",
    "from scipy import interpolate\n",
    "from sklearn.preprocessing import MinMaxScaler\n",
    "import matplotlib.pyplot as plt\n",
    "from ipywidgets import fixed, interact_manual, widgets\n",
    "from ipywidgets import HBox, VBox\n",
    "from IPython.display import clear_output\n",
    "from IPython.display import display\n",
    "from ipywidgets import IntSlider, Output\n",
    "from itertools import product\n",
    "from scipy.signal import find_peaks\n",
    "import math\n",
    "from mpl_toolkits.mplot3d import Axes3D\n",
    "\n",
    "# Local module and scripts\n",
    "from pyccapt.calibration.calibration_tools import tools, data_tools, variables, calibration, data_loadcrop\n",
    "from pyccapt.calibration.calibration_tools import widgets as wd\n",
    "from pyccapt.calibration.mc import mc_tools\n",
    "from pyccapt.calibration.calibration_tools import dataset_path_qt\n",
    "from pyccapt.calibration.leap_tools import ccapt_tools"
   ]
  },
  {
   "cell_type": "code",
   "execution_count": 118,
   "metadata": {
    "pycharm": {
     "name": "#%%\n"
    }
   },
   "outputs": [],
   "source": [
    "# Disable showing logging in Jupyter notebook\n",
    "import logging, sys\n",
    "logging.disable(sys.maxsize)\n",
    "save_fig=False\n",
    "plot_fig=True "
   ]
  },
  {
   "cell_type": "code",
   "execution_count": 119,
   "metadata": {},
   "outputs": [
    {
     "data": {
      "application/vnd.jupyter.widget-view+json": {
       "model_id": "2ef70b92d2ee4836994d075b33b486d5",
       "version_major": 2,
       "version_minor": 0
      },
      "text/plain": [
       "Button(description='load dataset', style=ButtonStyle())"
      ]
     },
     "execution_count": 119,
     "metadata": {},
     "output_type": "execute_result"
    }
   ],
   "source": [
    "button = widgets.Button(\n",
    "    description='load dataset',\n",
    ")\n",
    "\n",
    "@button.on_click\n",
    "def open_file_on_click(b):\n",
    "    global dataset_path\n",
    "    dataset_path = dataset_path_qt.gui_fname().decode('ASCII')\n",
    "button"
   ]
  },
  {
   "cell_type": "code",
   "execution_count": 138,
   "metadata": {},
   "outputs": [
    {
     "data": {
      "application/vnd.jupyter.widget-view+json": {
       "model_id": "633fa7512d6446c08d24ca51d20344d2",
       "version_major": 2,
       "version_minor": 0
      },
      "text/plain": [
       "Dropdown(description='TDC model:', options=('surface_concept', 'roentdec', 'leap_epos', 'leap_pos'), value='su…"
      ]
     },
     "metadata": {},
     "output_type": "display_data"
    },
    {
     "data": {
      "application/vnd.jupyter.widget-view+json": {
       "model_id": "68ed2b4dd69141089a2d1ef1695558a7",
       "version_major": 2,
       "version_minor": 0
      },
      "text/plain": [
       "FloatText(value=78.0, description='Detector diameter:')"
      ]
     },
     "metadata": {},
     "output_type": "display_data"
    },
    {
     "data": {
      "application/vnd.jupyter.widget-view+json": {
       "model_id": "d21573a6edf945f2bf6c03fc48e998af",
       "version_major": 2,
       "version_minor": 0
      },
      "text/plain": [
       "Dropdown(description='Pulse mode:', options=('voltage', 'laser'), value='voltage')"
      ]
     },
     "metadata": {},
     "output_type": "display_data"
    },
    {
     "data": {
      "application/vnd.jupyter.widget-view+json": {
       "model_id": "1ae903b773b845ad8756ae1e091df73e",
       "version_major": 2,
       "version_minor": 0
      },
      "text/plain": [
       "FloatText(value=110.0, description='Flight path length:')"
      ]
     },
     "metadata": {},
     "output_type": "display_data"
    },
    {
     "data": {
      "application/vnd.jupyter.widget-view+json": {
       "model_id": "d7b808d607d74baba0e9bcc41e272dcc",
       "version_major": 2,
       "version_minor": 0
      },
      "text/plain": [
       "FloatText(value=51.74, description='t0:')"
      ]
     },
     "metadata": {},
     "output_type": "display_data"
    }
   ],
   "source": [
    "tdc, det_diam, pulse_mode, flightPathLength_d, t0_d, max_tof = wd.dataset_tdc_selection()\n",
    "display(tdc, det_diam, pulse_mode, flightPathLength_d, t0_d)"
   ]
  },
  {
   "cell_type": "markdown",
   "metadata": {
    "pycharm": {
     "name": "#%% md\n"
    }
   },
   "source": [
    "$$\\textbf{You can specify which dataset to use in below block}$$"
   ]
  },
  {
   "cell_type": "code",
   "execution_count": 139,
   "metadata": {
    "pycharm": {
     "name": "#%%\n"
    }
   },
   "outputs": [],
   "source": [
    "tdc_model = tdc.value\n",
    "pulse_mode_ini = pulse_mode.value\n",
    "\n",
    "flightPathLength = flightPathLength_d.value # mm \n",
    "# The initial value for t_0\n",
    "t0 = t0_d.value # ns\n",
    "\n",
    "dataset_main_path = os.path.dirname(dataset_path)\n",
    "dataset_name_with_extention = os.path.basename(dataset_path)\n",
    "dataset_name = os.path.splitext(dataset_name_with_extention)[0]\n",
    "\n",
    "\n",
    "variables.init()\n",
    "\n",
    "variables.result_path = os.path.dirname(dataset_main_path) + '/mc_calibration/'\n",
    "if not os.path.isdir(variables.result_path):\n",
    "    os.makedirs(variables.result_path, mode=0o777, exist_ok=True)\n",
    "        \n",
    "filename = dataset_path\n",
    "\n",
    "head, tail = os.path.split(filename)\n",
    "figname = os.path.splitext(tail)[0]\n",
    "\n",
    "if tdc_model == 'leap_pos' or tdc_model == 'leap_pos':\n",
    "    if tdc_model == 'leap_epos':\n",
    "        data = ccapt_tools.epos_to_ccapt(filename)\n",
    "    else:\n",
    "        print('The file has to be epos. With pos information this tutorial cannot be run')\n",
    "        data = ccapt_tools.pos_to_ccapt(filename)\n",
    "else:\n",
    "    data = data_tools.read_hdf5_through_pandas(filename)\n"
   ]
  },
  {
   "cell_type": "code",
   "execution_count": 140,
   "metadata": {
    "pycharm": {
     "name": "#%%\n"
    }
   },
   "outputs": [
    {
     "data": {
      "text/html": [
       "<div>\n",
       "<style scoped>\n",
       "    .dataframe tbody tr th:only-of-type {\n",
       "        vertical-align: middle;\n",
       "    }\n",
       "\n",
       "    .dataframe tbody tr th {\n",
       "        vertical-align: top;\n",
       "    }\n",
       "\n",
       "    .dataframe thead th {\n",
       "        text-align: right;\n",
       "    }\n",
       "</style>\n",
       "<table border=\"1\" class=\"dataframe\">\n",
       "  <thead>\n",
       "    <tr style=\"text-align: right;\">\n",
       "      <th></th>\n",
       "      <th>x (nm)</th>\n",
       "      <th>y (nm)</th>\n",
       "      <th>z (nm)</th>\n",
       "      <th>mc_c (Da)</th>\n",
       "      <th>mc (Da)</th>\n",
       "      <th>high_voltage (V)</th>\n",
       "      <th>pulse (V)</th>\n",
       "      <th>start_counter</th>\n",
       "      <th>t (ns)</th>\n",
       "      <th>t_c (nm)</th>\n",
       "      <th>x_det (cm)</th>\n",
       "      <th>y_det (cm)</th>\n",
       "      <th>pulse_pi</th>\n",
       "      <th>ion_pp</th>\n",
       "    </tr>\n",
       "  </thead>\n",
       "  <tbody>\n",
       "    <tr>\n",
       "      <th>0</th>\n",
       "      <td>0.0</td>\n",
       "      <td>0.0</td>\n",
       "      <td>0.0</td>\n",
       "      <td>0.0</td>\n",
       "      <td>27.322782</td>\n",
       "      <td>5276.637207</td>\n",
       "      <td>5276.637207</td>\n",
       "      <td>36631.0</td>\n",
       "      <td>625.106700</td>\n",
       "      <td>0.0</td>\n",
       "      <td>-0.022286</td>\n",
       "      <td>-1.177959</td>\n",
       "      <td>0</td>\n",
       "      <td>1</td>\n",
       "    </tr>\n",
       "    <tr>\n",
       "      <th>1</th>\n",
       "      <td>0.0</td>\n",
       "      <td>0.0</td>\n",
       "      <td>0.0</td>\n",
       "      <td>0.0</td>\n",
       "      <td>27.702932</td>\n",
       "      <td>5276.637207</td>\n",
       "      <td>5276.637207</td>\n",
       "      <td>36636.0</td>\n",
       "      <td>632.451618</td>\n",
       "      <td>0.0</td>\n",
       "      <td>-1.305306</td>\n",
       "      <td>1.056980</td>\n",
       "      <td>5</td>\n",
       "      <td>1</td>\n",
       "    </tr>\n",
       "    <tr>\n",
       "      <th>2</th>\n",
       "      <td>0.0</td>\n",
       "      <td>0.0</td>\n",
       "      <td>0.0</td>\n",
       "      <td>0.0</td>\n",
       "      <td>13.920760</td>\n",
       "      <td>5276.637207</td>\n",
       "      <td>5276.637207</td>\n",
       "      <td>36651.0</td>\n",
       "      <td>473.983812</td>\n",
       "      <td>0.0</td>\n",
       "      <td>-2.881224</td>\n",
       "      <td>-0.986939</td>\n",
       "      <td>15</td>\n",
       "      <td>1</td>\n",
       "    </tr>\n",
       "    <tr>\n",
       "      <th>3</th>\n",
       "      <td>0.0</td>\n",
       "      <td>0.0</td>\n",
       "      <td>0.0</td>\n",
       "      <td>0.0</td>\n",
       "      <td>26.875930</td>\n",
       "      <td>5276.637207</td>\n",
       "      <td>5276.637207</td>\n",
       "      <td>37036.0</td>\n",
       "      <td>624.407184</td>\n",
       "      <td>0.0</td>\n",
       "      <td>0.687673</td>\n",
       "      <td>-1.626857</td>\n",
       "      <td>385</td>\n",
       "      <td>1</td>\n",
       "    </tr>\n",
       "    <tr>\n",
       "      <th>4</th>\n",
       "      <td>0.0</td>\n",
       "      <td>0.0</td>\n",
       "      <td>0.0</td>\n",
       "      <td>0.0</td>\n",
       "      <td>13.786519</td>\n",
       "      <td>5276.637207</td>\n",
       "      <td>5276.637207</td>\n",
       "      <td>37438.0</td>\n",
       "      <td>468.662004</td>\n",
       "      <td>0.0</td>\n",
       "      <td>2.110776</td>\n",
       "      <td>1.671429</td>\n",
       "      <td>402</td>\n",
       "      <td>1</td>\n",
       "    </tr>\n",
       "    <tr>\n",
       "      <th>...</th>\n",
       "      <td>...</td>\n",
       "      <td>...</td>\n",
       "      <td>...</td>\n",
       "      <td>...</td>\n",
       "      <td>...</td>\n",
       "      <td>...</td>\n",
       "      <td>...</td>\n",
       "      <td>...</td>\n",
       "      <td>...</td>\n",
       "      <td>...</td>\n",
       "      <td>...</td>\n",
       "      <td>...</td>\n",
       "      <td>...</td>\n",
       "      <td>...</td>\n",
       "    </tr>\n",
       "    <tr>\n",
       "      <th>1912331</th>\n",
       "      <td>0.0</td>\n",
       "      <td>0.0</td>\n",
       "      <td>0.0</td>\n",
       "      <td>0.0</td>\n",
       "      <td>27.118839</td>\n",
       "      <td>5712.145508</td>\n",
       "      <td>5712.145508</td>\n",
       "      <td>33051.0</td>\n",
       "      <td>615.039156</td>\n",
       "      <td>0.0</td>\n",
       "      <td>2.403673</td>\n",
       "      <td>1.435837</td>\n",
       "      <td>191</td>\n",
       "      <td>1</td>\n",
       "    </tr>\n",
       "    <tr>\n",
       "      <th>1912332</th>\n",
       "      <td>0.0</td>\n",
       "      <td>0.0</td>\n",
       "      <td>0.0</td>\n",
       "      <td>0.0</td>\n",
       "      <td>27.778914</td>\n",
       "      <td>5712.145508</td>\n",
       "      <td>5712.145508</td>\n",
       "      <td>33404.0</td>\n",
       "      <td>615.800394</td>\n",
       "      <td>0.0</td>\n",
       "      <td>-0.735429</td>\n",
       "      <td>2.139429</td>\n",
       "      <td>353</td>\n",
       "      <td>1</td>\n",
       "    </tr>\n",
       "    <tr>\n",
       "      <th>1912333</th>\n",
       "      <td>0.0</td>\n",
       "      <td>0.0</td>\n",
       "      <td>0.0</td>\n",
       "      <td>0.0</td>\n",
       "      <td>27.357361</td>\n",
       "      <td>5712.145508</td>\n",
       "      <td>5712.145508</td>\n",
       "      <td>33490.0</td>\n",
       "      <td>607.179888</td>\n",
       "      <td>0.0</td>\n",
       "      <td>-1.563184</td>\n",
       "      <td>-0.856408</td>\n",
       "      <td>86</td>\n",
       "      <td>1</td>\n",
       "    </tr>\n",
       "    <tr>\n",
       "      <th>1912334</th>\n",
       "      <td>0.0</td>\n",
       "      <td>0.0</td>\n",
       "      <td>0.0</td>\n",
       "      <td>0.0</td>\n",
       "      <td>27.497484</td>\n",
       "      <td>5712.145508</td>\n",
       "      <td>5712.145508</td>\n",
       "      <td>33526.0</td>\n",
       "      <td>604.217232</td>\n",
       "      <td>0.0</td>\n",
       "      <td>-0.382041</td>\n",
       "      <td>1.041061</td>\n",
       "      <td>36</td>\n",
       "      <td>1</td>\n",
       "    </tr>\n",
       "    <tr>\n",
       "      <th>1912335</th>\n",
       "      <td>0.0</td>\n",
       "      <td>0.0</td>\n",
       "      <td>0.0</td>\n",
       "      <td>0.0</td>\n",
       "      <td>13.914303</td>\n",
       "      <td>5712.145508</td>\n",
       "      <td>5712.145508</td>\n",
       "      <td>34143.0</td>\n",
       "      <td>444.254382</td>\n",
       "      <td>0.0</td>\n",
       "      <td>-0.375673</td>\n",
       "      <td>-0.885061</td>\n",
       "      <td>617</td>\n",
       "      <td>1</td>\n",
       "    </tr>\n",
       "  </tbody>\n",
       "</table>\n",
       "<p>1912336 rows × 14 columns</p>\n",
       "</div>"
      ],
      "text/plain": [
       "         x (nm)  y (nm)  z (nm)  mc_c (Da)    mc (Da)  high_voltage (V)  \\\n",
       "0           0.0     0.0     0.0        0.0  27.322782       5276.637207   \n",
       "1           0.0     0.0     0.0        0.0  27.702932       5276.637207   \n",
       "2           0.0     0.0     0.0        0.0  13.920760       5276.637207   \n",
       "3           0.0     0.0     0.0        0.0  26.875930       5276.637207   \n",
       "4           0.0     0.0     0.0        0.0  13.786519       5276.637207   \n",
       "...         ...     ...     ...        ...        ...               ...   \n",
       "1912331     0.0     0.0     0.0        0.0  27.118839       5712.145508   \n",
       "1912332     0.0     0.0     0.0        0.0  27.778914       5712.145508   \n",
       "1912333     0.0     0.0     0.0        0.0  27.357361       5712.145508   \n",
       "1912334     0.0     0.0     0.0        0.0  27.497484       5712.145508   \n",
       "1912335     0.0     0.0     0.0        0.0  13.914303       5712.145508   \n",
       "\n",
       "           pulse (V)  start_counter      t (ns)  t_c (nm)  x_det (cm)  \\\n",
       "0        5276.637207        36631.0  625.106700       0.0   -0.022286   \n",
       "1        5276.637207        36636.0  632.451618       0.0   -1.305306   \n",
       "2        5276.637207        36651.0  473.983812       0.0   -2.881224   \n",
       "3        5276.637207        37036.0  624.407184       0.0    0.687673   \n",
       "4        5276.637207        37438.0  468.662004       0.0    2.110776   \n",
       "...              ...            ...         ...       ...         ...   \n",
       "1912331  5712.145508        33051.0  615.039156       0.0    2.403673   \n",
       "1912332  5712.145508        33404.0  615.800394       0.0   -0.735429   \n",
       "1912333  5712.145508        33490.0  607.179888       0.0   -1.563184   \n",
       "1912334  5712.145508        33526.0  604.217232       0.0   -0.382041   \n",
       "1912335  5712.145508        34143.0  444.254382       0.0   -0.375673   \n",
       "\n",
       "         y_det (cm)  pulse_pi  ion_pp  \n",
       "0         -1.177959         0       1  \n",
       "1          1.056980         5       1  \n",
       "2         -0.986939        15       1  \n",
       "3         -1.626857       385       1  \n",
       "4          1.671429       402       1  \n",
       "...             ...       ...     ...  \n",
       "1912331    1.435837       191       1  \n",
       "1912332    2.139429       353       1  \n",
       "1912333   -0.856408        86       1  \n",
       "1912334    1.041061        36       1  \n",
       "1912335   -0.885061       617       1  \n",
       "\n",
       "[1912336 rows x 14 columns]"
      ]
     },
     "execution_count": 140,
     "metadata": {},
     "output_type": "execute_result"
    }
   ],
   "source": [
    "data"
   ]
  },
  {
   "cell_type": "code",
   "execution_count": 141,
   "metadata": {},
   "outputs": [
    {
     "data": {
      "application/vnd.jupyter.widget-view+json": {
       "model_id": "018d86e95d0e4a46a3fcdbabf4465d07",
       "version_major": 2,
       "version_minor": 0
      },
      "image/png": "[encoded data removed]",
      "text/html": [
       "\n",
       "            <div style=\"display: inline-block;\">\n",
       "                <div class=\"jupyter-widgets widget-label\" style=\"text-align: center;\">\n",
       "                    Figure\n",
       "                </div>\n",
       "                <img src='data:image/png;base64,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' width=800.0/>\n",
       "            </div>\n",
       "        "
      ],
      "text/plain": [
       "Canvas(toolbar=Toolbar(toolitems=[('Home', 'Reset original view', 'home', 'home'), ('Back', 'Back to previous …"
      ]
     },
     "metadata": {},
     "output_type": "display_data"
    }
   ],
   "source": [
    "data_loadcrop.plot_crop_experimetn_history(data, save_name=variables.result_path + '//ex_hist_' + dataset_name)\n"
   ]
  },
  {
   "cell_type": "code",
   "execution_count": 142,
   "metadata": {},
   "outputs": [],
   "source": [
    "# exctract needed data from Pandas data frame as an numpy array\n",
    "dld_highVoltage = data['high_voltage (V)'].to_numpy()\n",
    "if pulse_mode_ini == 'voltage':\n",
    "    dld_pulseVoltage = data['pulse (V)'].to_numpy()\n",
    "elif pulse_mode_ini == 'laser':\n",
    "    dld_pulseVoltage = data['pulse (deg)'].to_numpy()\n",
    "dld_t = data['t (ns)'].to_numpy()\n",
    "dld_x = data['x_det (cm)'].to_numpy()\n",
    "dld_y = data['y_det (cm)'].to_numpy()\n",
    "mc = data['mc (Da)'].to_numpy()\n",
    "# copy dld_t to a have a global version of that\n",
    "variables.dld_t_calib = np.copy(dld_t)\n",
    "# variables.mc_calib = np.copy(mc)\n",
    "# variables.mc_calib_backup = np.copy(mc)"
   ]
  },
  {
   "cell_type": "code",
   "execution_count": 143,
   "metadata": {},
   "outputs": [],
   "source": [
    "# peaks_ini, peaks_y_ini, peak_widths_p_ini = tools.hist_plot(mc[mc < 150], 0.1, distance=100, percent=50, prominence=100, selector='rect', plot=True, label='mc', fig_name=figname+'_orig')"
   ]
  },
  {
   "cell_type": "markdown",
   "metadata": {
    "pycharm": {
     "name": "#%% md\n"
    }
   },
   "source": [
    "$$\\textbf{Below plotted graph offers peak selection. You can select relevant peaks you want for computation.}$$"
   ]
  },
  {
   "cell_type": "code",
   "execution_count": 144,
   "metadata": {
    "pycharm": {
     "name": "#%%\n"
    }
   },
   "outputs": [
    {
     "data": {
      "application/vnd.jupyter.widget-view+json": {
       "model_id": "07fe2acd22f54ceaaa8542a2ab9b4cad",
       "version_major": 2,
       "version_minor": 0
      },
      "text/plain": [
       "interactive(children=(FloatText(value=51.74, description='t_0'), FloatText(value=0.1, description='bin_size'),…"
      ]
     },
     "metadata": {},
     "output_type": "display_data"
    }
   ],
   "source": [
    "def mc_hist_plot(t_0, bin_size, prominence, distance, percent, selector, plot, figname, lim_mc):\n",
    "    mc_seb_ini = mc_tools.tof2mc(dld_t, t_0, dld_highVoltage, dld_pulseVoltage, dld_x, dld_y, flightPathLength, mode=pulse_mode_ini)\n",
    "    variables.mc_calib = np.copy(mc_seb_ini)\n",
    "    variables.mc_calib_backup = np.copy(mc_seb_ini)\n",
    "    mc = mc_seb_ini\n",
    "    peaks_ini, peaks_y_ini, peak_widths_p_ini = tools.hist_plot(variables.mc_calib[variables.mc_calib < lim_mc], bin_size, distance=distance, percent=percent, prominence=prominence, selector=selector, plot=plot, label='mc', fig_name=figname+'_ini')\n",
    "    index_max_ini = np.argmax(peaks_y_ini)\n",
    "    variables.max_peak = peaks_ini[index_max_ini]\n",
    "    variables.peak = peaks_ini\n",
    "    mrp = (peaks_ini[index_max_ini] / (peak_widths_p_ini[index_max_ini][2] - peak_widths_p_ini[index_max_ini][1]))\n",
    "    print('Mass resolving power for the highest peak (MRP --> m/m_2-m_1):', mrp)\n",
    "    for i in range(len(peaks_ini)):\n",
    "        print('Peaks ', i, 'is at location and height: ({:.2f}, {:.2f})'.format(peaks_ini[i], peaks_y_ini[i]), 'peak window sides (half-maximum) are: ({:.2f}, {:.2f})'.format(peak_widths_p_ini[i][1], peak_widths_p_ini[i][2]))\n",
    "\n",
    "interact_manual(mc_hist_plot, t_0=widgets.FloatText(value=t0), bin_size=widgets.FloatText(value=0.1)\n",
    "               ,prominence=widgets.IntText(value=50), distance=widgets.IntText(value=100), lim_mc=widgets.IntText(value=150)\n",
    "               ,percent=widgets.IntText(value=50), selector=fixed('rect'), plot=fixed(True), figname=fixed(figname));\n"
   ]
  },
  {
   "cell_type": "code",
   "execution_count": 145,
   "metadata": {},
   "outputs": [],
   "source": [
    "bin_size=widgets.FloatText(value=0.1, description='bin size:')\n",
    "prominence=widgets.IntText(value=100, description='peak prominance:')\n",
    "distance=widgets.IntText(value=50, description='peak distance:')\n",
    "lim_tof=widgets.IntText(value=150, description='lim tof/mc:')\n",
    "percent=widgets.IntText(value=50, description='percent MRP:')\n",
    "\n",
    "def hist_plot(figname, plot):\n",
    "    \n",
    "    with out:\n",
    "        clear_output(True)\n",
    "    \n",
    "        bin_size_p = bin_size.value\n",
    "        prominence_p = prominence.value\n",
    "        distance_p = distance.value\n",
    "        lim_tof_p = lim_tof.value\n",
    "        percent_p = percent.value\n",
    "        selector='rect'\n",
    "        peaks_ini, peaks_y_ini, peak_widths_p_ini = tools.hist_plot(variables.mc_calib[variables.mc_calib < lim_tof_p], \n",
    "                                                bin_size_p, distance=distance_p, percent=percent_p, prominence=prominence_p,\n",
    "                                                                    selector=selector, plot=plot, label='mc', fig_name=figname)\n",
    "        index_max_ini = np.argmax(peaks_y_ini)\n",
    "        variables.max_peak = peaks_ini[index_max_ini]\n",
    "        variables.peak = peaks_ini\n",
    "        mrp = (peaks_ini[index_max_ini] / (peak_widths_p_ini[index_max_ini][2] - peak_widths_p_ini[index_max_ini][1]))\n",
    "        print('Mass resolving power for the highest peak (MRP --> m/m_2-m_1):', mrp)\n",
    "        for i in range(len(peaks_ini)):\n",
    "                      print('Peaks ', i, 'is at location and height: ({:.2f}, {:.2f})'.format(peaks_ini[i], peaks_y_ini[i]), 'peak window sides ({:.2f}%) are: ({:.2f}, {:.2f})'.format(percent_p, peak_widths_p_ini[i][1], peak_widths_p_ini[i][2]))"
   ]
  },
  {
   "cell_type": "code",
   "execution_count": 146,
   "metadata": {},
   "outputs": [],
   "source": [
    "sample_size_b = widgets.IntText(value=11, description='sample size:') \n",
    "index_fig_b = widgets.IntText(value=1, description='fig index:')\n",
    "plot_b = widgets.Dropdown(\n",
    "    options=[('False', False), ('True', True)],\n",
    "    description='plot fig:'\n",
    ")\n",
    "\n",
    "save_b = widgets.Dropdown(\n",
    "    options=[('False', False), ('True', True)],\n",
    "    description='save fig:'\n",
    ")\n",
    "def bowl_correction(dld_x, dld_y, dld_highVoltage, figname=figname):\n",
    "    with out:\n",
    "        sample_size_p = sample_size_b.value\n",
    "        index_fig_p = index_fig_b.value\n",
    "        plot_p = plot_b.value\n",
    "        save_p = save_b.value\n",
    "        if plot_p:\n",
    "            clear_output(True)\n",
    "\n",
    "        calibration.bowl_correction_main(dld_x, dld_y, dld_highVoltage, det_diam.value, sample_size=sample_size_p, calibration_mode='mc',\n",
    "                                        index_fig=index_fig_p, plot=plot_p, save=save_p)\n"
   ]
  },
  {
   "cell_type": "code",
   "execution_count": 147,
   "metadata": {},
   "outputs": [],
   "source": [
    "sample_size_v =widgets.IntText(value=100, description='sample size:') \n",
    "index_fig_v = widgets.IntText(value=1, description='fig index:')\n",
    "plot_v = widgets.Dropdown(\n",
    "    options=[('False', False), ('True', True)],\n",
    "    description='plot fig:'\n",
    ")\n",
    "save_v = widgets.Dropdown(\n",
    "    options=[('False', False), ('True', True)],\n",
    "    description='save fig:'\n",
    ")\n",
    "mode_v = widgets.Dropdown(\n",
    "    options=[('ion_seq', 'ion_seq'), ('voltage', 'voltage')],\n",
    "    description='sample mode:'\n",
    ")\n",
    "def vol_correction(dld_highVoltage, figname):\n",
    "    with out:\n",
    "        sample_size_p = sample_size_v.value\n",
    "        index_fig_p = index_fig_v.value\n",
    "        plot_p = plot_v.value\n",
    "        save_p = save_v.value\n",
    "        mode_p = mode_v.value\n",
    "        if plot_p:\n",
    "            clear_output(True)\n",
    "        calibration.voltage_corr_main(dld_highVoltage, sample_size=sample_size_p, calibration_mode='mc',\n",
    "                                        index_fig=index_fig_p, plot=plot_p, save=save_p, mode=mode_p)\n"
   ]
  },
  {
   "cell_type": "code",
   "execution_count": 148,
   "metadata": {},
   "outputs": [
    {
     "data": {
      "application/vnd.jupyter.widget-view+json": {
       "model_id": "c76ed93b58f540f690d3c50b674dfea3",
       "version_major": 2,
       "version_minor": 0
      },
      "text/plain": [
       "VBox(children=(Tab(children=(VBox(children=(FloatText(value=0.1, description='bin size:'), IntText(value=100, …"
      ]
     },
     "metadata": {},
     "output_type": "display_data"
    },
    {
     "data": {
      "application/vnd.jupyter.widget-view+json": {
       "model_id": "fd2ea20753494bd3afed7f18fcc4bb6c",
       "version_major": 2,
       "version_minor": 0
      },
      "text/plain": [
       "Output()"
      ]
     },
     "metadata": {},
     "output_type": "display_data"
    }
   ],
   "source": [
    "pb_bowl = widgets.HTML(\n",
    "    value=\" \",\n",
    "    placeholder='Status:',\n",
    "    description='Status:',\n",
    ")\n",
    "pb_vol = widgets.HTML(\n",
    "    value=\" \",\n",
    "    placeholder='Status:',\n",
    "    description='Status:',\n",
    ")\n",
    "plot_button = widgets.Button(\n",
    "    description='plot hist',\n",
    ")\n",
    "plot_fdm_button = widgets.Button(\n",
    "    description='plot FDM',\n",
    ")\n",
    "reset_button = widgets.Button(\n",
    "    description='reset back correction',\n",
    ")\n",
    "save_button = widgets.Button(\n",
    "    description='save correction',\n",
    ")\n",
    "bowl_button = widgets.Button(\n",
    "    description='bowl correction',\n",
    ")\n",
    "vol_button = widgets.Button(\n",
    "    description='voltage correction',\n",
    ")\n",
    "bin_fdm = widgets.IntText(value=256, description='bin FDM:')\n",
    "\n",
    "\n",
    "\n",
    "@plot_button.on_click\n",
    "def plot_on_click(b, figname=figname, plot=True):\n",
    "    hist_plot(figname, plot)\n",
    "\n",
    "@plot_fdm_button.on_click\n",
    "def plot_fdm_on_click(b, save=True):\n",
    "    with out:\n",
    "        clear_output(True)\n",
    "        mask_temporal = np.logical_and((variables.mc_calib > variables.selected_x1),\n",
    "                                       (variables.mc_calib < variables.selected_x2))\n",
    "        x = dld_x[mask_temporal]\n",
    "        y = dld_y[mask_temporal]\n",
    "        bin_fdm_p = bin_fdm.value\n",
    "        bins = [bin_fdm_p, bin_fdm_p]\n",
    "\n",
    "        calibration.plot_FDM(x, y, save, bins)\n",
    "    \n",
    "@reset_button.on_click\n",
    "def reset_on_click(b, figname=figname, plot=True):\n",
    "    variables.mc_calib = np.copy(variables.mc_calib_backup)\n",
    "    \n",
    "@save_button.on_click\n",
    "def save_on_click(b, figname=figname, plot=True):\n",
    "    variables.mc_calib_backup = np.copy(variables.mc_calib)   \n",
    "    \n",
    "@bowl_button.on_click\n",
    "def bowl_on_click(b, dld_x=dld_x, dld_y=dld_y, dld_highVoltage=dld_highVoltage, figname=figname):\n",
    "    pb_bowl.value = \"<b>Starting...</b>\"\n",
    "    if variables.selected_x1 == 0 or variables.selected_x2 == 0:\n",
    "        Print('Please first select a peak')\n",
    "    else:\n",
    "        bowl_correction(dld_x, dld_y, dld_highVoltage, figname)  \n",
    "    pb_bowl.value = \"<b>Fnished</b>\"\n",
    "@vol_button.on_click\n",
    "def vol_on_click(b, dld_highVoltage=dld_highVoltage, figname=figname):\n",
    "    pb_vol.value = \"<b>Starting...</b>\"\n",
    "    if variables.selected_x1 == 0 or variables.selected_x2 == 0:\n",
    "        Print('Please first select a peak')\n",
    "    else:\n",
    "        vol_correction(dld_highVoltage, figname)\n",
    "    pb_vol.value = \"<b>Fnished</b>\"\n",
    "    \n",
    "\n",
    "\n",
    "tab1 = VBox(children=[bin_size, prominence, distance, lim_tof, percent, bin_fdm])\n",
    "tab2 = VBox(children=[HBox(children=[sample_size_b, index_fig_b, plot_b, save_b]), bowl_button, pb_bowl])\n",
    "tab3 = VBox(children=[HBox(children=[sample_size_v, index_fig_v, mode_v, plot_v, save_v]), vol_button, pb_vol])\n",
    "\n",
    "tab = widgets.Tab(children=[tab1, tab2, tab3])\n",
    "tab.set_title(0, 'tof/mc plot')\n",
    "tab.set_title(1, 'bowl correction')\n",
    "tab.set_title(2, 'voltage correction')\n",
    "\n",
    "\n",
    "\n",
    "display(VBox(children=[tab,HBox(children=[plot_button, plot_fdm_button, save_button, reset_button])]))\n",
    "out = Output()\n",
    "display(out)"
   ]
  },
  {
   "cell_type": "code",
   "execution_count": 149,
   "metadata": {},
   "outputs": [],
   "source": [
    "variables.mc_calib_backup = np.copy(variables.mc_calib)"
   ]
  },
  {
   "cell_type": "code",
   "execution_count": 150,
   "metadata": {},
   "outputs": [],
   "source": [
    "def tof_his(bin_size, prominence, distance, percent, selector, plot, figname, lim_mc):\n",
    "    variables.peaks_idx = []\n",
    "    peaks_ini, peaks_y_ini, peak_widths_p_ini = tools.hist_plot(variables.mc_calib[variables.mc_calib < lim_mc], bin_size, distance=distance, percent=percent, prominence=prominence, selector=selector, plot=plot, label='mc', fig_name=figname)\n",
    "    index_max_ini = np.argmax(peaks_y_ini)\n",
    "    variables.max_peak = peaks_ini[index_max_ini]\n",
    "    variables.peak = peaks_ini\n",
    "    mrp = (peaks_ini[index_max_ini] / (peak_widths_p_ini[index_max_ini][2] - peak_widths_p_ini[index_max_ini][1]))\n",
    "    print('Mass resolving power for the highest peak (MRP --> m/m_2-m_1):', mrp)\n",
    "    for i in range(len(peaks_ini)):\n",
    "        print('Peaks ', i, 'is at location and height: ({:.2f}, {:.2f})'.format(peaks_ini[i], peaks_y_ini[i]), 'peak window sides (half-maximum) are: ({:.2f}, {:.2f})'.format(peak_widths_p_ini[i][1], peak_widths_p_ini[i][2]))"
   ]
  },
  {
   "cell_type": "code",
   "execution_count": 133,
   "metadata": {},
   "outputs": [
    {
     "data": {
      "application/vnd.jupyter.widget-view+json": {
       "model_id": "7e6993c129284e43bff455f8052e436c",
       "version_major": 2,
       "version_minor": 0
      },
      "text/plain": [
       "interactive(children=(FloatText(value=0.1, description='bin_size'), IntText(value=50, description='prominence'…"
      ]
     },
     "metadata": {},
     "output_type": "display_data"
    }
   ],
   "source": [
    "\n",
    "interact_manual(tof_his, bin_size=widgets.FloatText(value=0.1)\n",
    "               ,prominence=widgets.IntText(value=50), distance=widgets.IntText(value=100), lim_mc=widgets.IntText(value=150)\n",
    "               ,percent=widgets.IntText(value=50), selector=fixed('rect'), plot=fixed(True), figname=fixed(figname+'_cor'));\n"
   ]
  },
  {
   "cell_type": "code",
   "execution_count": 134,
   "metadata": {},
   "outputs": [],
   "source": [
    "data['mc_c (Da)'] = variables.mc_calib"
   ]
  },
  {
   "cell_type": "code",
   "execution_count": 135,
   "metadata": {},
   "outputs": [
    {
     "data": {
      "text/html": [
       "<div>\n",
       "<style scoped>\n",
       "    .dataframe tbody tr th:only-of-type {\n",
       "        vertical-align: middle;\n",
       "    }\n",
       "\n",
       "    .dataframe tbody tr th {\n",
       "        vertical-align: top;\n",
       "    }\n",
       "\n",
       "    .dataframe thead th {\n",
       "        text-align: right;\n",
       "    }\n",
       "</style>\n",
       "<table border=\"1\" class=\"dataframe\">\n",
       "  <thead>\n",
       "    <tr style=\"text-align: right;\">\n",
       "      <th></th>\n",
       "      <th>x (nm)</th>\n",
       "      <th>y (nm)</th>\n",
       "      <th>z (nm)</th>\n",
       "      <th>mc_c (Da)</th>\n",
       "      <th>mc (Da)</th>\n",
       "      <th>high_voltage (V)</th>\n",
       "      <th>pulse (V)</th>\n",
       "      <th>start_counter</th>\n",
       "      <th>t (ns)</th>\n",
       "      <th>t_c (nm)</th>\n",
       "      <th>x_det (cm)</th>\n",
       "      <th>y_det (cm)</th>\n",
       "      <th>pulse_pi</th>\n",
       "      <th>ion_pp</th>\n",
       "    </tr>\n",
       "  </thead>\n",
       "  <tbody>\n",
       "    <tr>\n",
       "      <th>0</th>\n",
       "      <td>0.0</td>\n",
       "      <td>0.0</td>\n",
       "      <td>0.0</td>\n",
       "      <td>27.463481</td>\n",
       "      <td>26.651289</td>\n",
       "      <td>3738.356445</td>\n",
       "      <td>3738.356445</td>\n",
       "      <td>10164.0</td>\n",
       "      <td>721.125558</td>\n",
       "      <td>0.0</td>\n",
       "      <td>0.299265</td>\n",
       "      <td>-0.264245</td>\n",
       "      <td>0</td>\n",
       "      <td>1</td>\n",
       "    </tr>\n",
       "    <tr>\n",
       "      <th>1</th>\n",
       "      <td>0.0</td>\n",
       "      <td>0.0</td>\n",
       "      <td>0.0</td>\n",
       "      <td>27.464963</td>\n",
       "      <td>26.623950</td>\n",
       "      <td>3738.356445</td>\n",
       "      <td>3738.356445</td>\n",
       "      <td>10264.0</td>\n",
       "      <td>721.297008</td>\n",
       "      <td>0.0</td>\n",
       "      <td>0.117796</td>\n",
       "      <td>-0.576245</td>\n",
       "      <td>100</td>\n",
       "      <td>1</td>\n",
       "    </tr>\n",
       "    <tr>\n",
       "      <th>2</th>\n",
       "      <td>0.0</td>\n",
       "      <td>0.0</td>\n",
       "      <td>0.0</td>\n",
       "      <td>27.795469</td>\n",
       "      <td>26.947230</td>\n",
       "      <td>3738.356445</td>\n",
       "      <td>3738.356445</td>\n",
       "      <td>10318.0</td>\n",
       "      <td>725.356944</td>\n",
       "      <td>0.0</td>\n",
       "      <td>0.073224</td>\n",
       "      <td>-0.585796</td>\n",
       "      <td>54</td>\n",
       "      <td>1</td>\n",
       "    </tr>\n",
       "    <tr>\n",
       "      <th>3</th>\n",
       "      <td>0.0</td>\n",
       "      <td>0.0</td>\n",
       "      <td>0.0</td>\n",
       "      <td>27.163912</td>\n",
       "      <td>26.543927</td>\n",
       "      <td>3738.356445</td>\n",
       "      <td>3738.356445</td>\n",
       "      <td>10384.0</td>\n",
       "      <td>723.923622</td>\n",
       "      <td>0.0</td>\n",
       "      <td>0.397959</td>\n",
       "      <td>1.228898</td>\n",
       "      <td>66</td>\n",
       "      <td>1</td>\n",
       "    </tr>\n",
       "    <tr>\n",
       "      <th>4</th>\n",
       "      <td>0.0</td>\n",
       "      <td>0.0</td>\n",
       "      <td>0.0</td>\n",
       "      <td>269.507730</td>\n",
       "      <td>263.962570</td>\n",
       "      <td>3738.356445</td>\n",
       "      <td>3738.356445</td>\n",
       "      <td>10556.0</td>\n",
       "      <td>2164.617972</td>\n",
       "      <td>0.0</td>\n",
       "      <td>-0.630367</td>\n",
       "      <td>0.694041</td>\n",
       "      <td>172</td>\n",
       "      <td>1</td>\n",
       "    </tr>\n",
       "    <tr>\n",
       "      <th>...</th>\n",
       "      <td>...</td>\n",
       "      <td>...</td>\n",
       "      <td>...</td>\n",
       "      <td>...</td>\n",
       "      <td>...</td>\n",
       "      <td>...</td>\n",
       "      <td>...</td>\n",
       "      <td>...</td>\n",
       "      <td>...</td>\n",
       "      <td>...</td>\n",
       "      <td>...</td>\n",
       "      <td>...</td>\n",
       "      <td>...</td>\n",
       "      <td>...</td>\n",
       "    </tr>\n",
       "    <tr>\n",
       "      <th>6252145</th>\n",
       "      <td>0.0</td>\n",
       "      <td>0.0</td>\n",
       "      <td>0.0</td>\n",
       "      <td>26.721781</td>\n",
       "      <td>26.359344</td>\n",
       "      <td>7246.866211</td>\n",
       "      <td>7246.866211</td>\n",
       "      <td>18886.0</td>\n",
       "      <td>551.760390</td>\n",
       "      <td>0.0</td>\n",
       "      <td>-1.980245</td>\n",
       "      <td>-2.753878</td>\n",
       "      <td>152</td>\n",
       "      <td>1</td>\n",
       "    </tr>\n",
       "    <tr>\n",
       "      <th>6252146</th>\n",
       "      <td>0.0</td>\n",
       "      <td>0.0</td>\n",
       "      <td>0.0</td>\n",
       "      <td>27.730706</td>\n",
       "      <td>27.402419</td>\n",
       "      <td>7246.866211</td>\n",
       "      <td>7246.866211</td>\n",
       "      <td>18913.0</td>\n",
       "      <td>557.308512</td>\n",
       "      <td>0.0</td>\n",
       "      <td>-1.744653</td>\n",
       "      <td>-2.502367</td>\n",
       "      <td>27</td>\n",
       "      <td>1</td>\n",
       "    </tr>\n",
       "    <tr>\n",
       "      <th>6252147</th>\n",
       "      <td>0.0</td>\n",
       "      <td>0.0</td>\n",
       "      <td>0.0</td>\n",
       "      <td>27.913617</td>\n",
       "      <td>28.061340</td>\n",
       "      <td>7246.866211</td>\n",
       "      <td>7246.866211</td>\n",
       "      <td>19050.0</td>\n",
       "      <td>564.276240</td>\n",
       "      <td>0.0</td>\n",
       "      <td>-2.999020</td>\n",
       "      <td>-0.885061</td>\n",
       "      <td>137</td>\n",
       "      <td>1</td>\n",
       "    </tr>\n",
       "    <tr>\n",
       "      <th>6252148</th>\n",
       "      <td>0.0</td>\n",
       "      <td>0.0</td>\n",
       "      <td>0.0</td>\n",
       "      <td>27.498398</td>\n",
       "      <td>27.803238</td>\n",
       "      <td>7246.866211</td>\n",
       "      <td>7246.866211</td>\n",
       "      <td>19225.0</td>\n",
       "      <td>547.103808</td>\n",
       "      <td>0.0</td>\n",
       "      <td>-1.149306</td>\n",
       "      <td>0.986939</td>\n",
       "      <td>175</td>\n",
       "      <td>1</td>\n",
       "    </tr>\n",
       "    <tr>\n",
       "      <th>6252149</th>\n",
       "      <td>0.0</td>\n",
       "      <td>0.0</td>\n",
       "      <td>0.0</td>\n",
       "      <td>26.497467</td>\n",
       "      <td>26.625241</td>\n",
       "      <td>7246.866211</td>\n",
       "      <td>7246.866211</td>\n",
       "      <td>19241.0</td>\n",
       "      <td>533.566116</td>\n",
       "      <td>0.0</td>\n",
       "      <td>0.054122</td>\n",
       "      <td>0.897796</td>\n",
       "      <td>16</td>\n",
       "      <td>1</td>\n",
       "    </tr>\n",
       "  </tbody>\n",
       "</table>\n",
       "<p>6252150 rows × 14 columns</p>\n",
       "</div>"
      ],
      "text/plain": [
       "         x (nm)  y (nm)  z (nm)   mc_c (Da)     mc (Da)  high_voltage (V)  \\\n",
       "0           0.0     0.0     0.0   27.463481   26.651289       3738.356445   \n",
       "1           0.0     0.0     0.0   27.464963   26.623950       3738.356445   \n",
       "2           0.0     0.0     0.0   27.795469   26.947230       3738.356445   \n",
       "3           0.0     0.0     0.0   27.163912   26.543927       3738.356445   \n",
       "4           0.0     0.0     0.0  269.507730  263.962570       3738.356445   \n",
       "...         ...     ...     ...         ...         ...               ...   \n",
       "6252145     0.0     0.0     0.0   26.721781   26.359344       7246.866211   \n",
       "6252146     0.0     0.0     0.0   27.730706   27.402419       7246.866211   \n",
       "6252147     0.0     0.0     0.0   27.913617   28.061340       7246.866211   \n",
       "6252148     0.0     0.0     0.0   27.498398   27.803238       7246.866211   \n",
       "6252149     0.0     0.0     0.0   26.497467   26.625241       7246.866211   \n",
       "\n",
       "           pulse (V)  start_counter       t (ns)  t_c (nm)  x_det (cm)  \\\n",
       "0        3738.356445        10164.0   721.125558       0.0    0.299265   \n",
       "1        3738.356445        10264.0   721.297008       0.0    0.117796   \n",
       "2        3738.356445        10318.0   725.356944       0.0    0.073224   \n",
       "3        3738.356445        10384.0   723.923622       0.0    0.397959   \n",
       "4        3738.356445        10556.0  2164.617972       0.0   -0.630367   \n",
       "...              ...            ...          ...       ...         ...   \n",
       "6252145  7246.866211        18886.0   551.760390       0.0   -1.980245   \n",
       "6252146  7246.866211        18913.0   557.308512       0.0   -1.744653   \n",
       "6252147  7246.866211        19050.0   564.276240       0.0   -2.999020   \n",
       "6252148  7246.866211        19225.0   547.103808       0.0   -1.149306   \n",
       "6252149  7246.866211        19241.0   533.566116       0.0    0.054122   \n",
       "\n",
       "         y_det (cm)  pulse_pi  ion_pp  \n",
       "0         -0.264245         0       1  \n",
       "1         -0.576245       100       1  \n",
       "2         -0.585796        54       1  \n",
       "3          1.228898        66       1  \n",
       "4          0.694041       172       1  \n",
       "...             ...       ...     ...  \n",
       "6252145   -2.753878       152       1  \n",
       "6252146   -2.502367        27       1  \n",
       "6252147   -0.885061       137       1  \n",
       "6252148    0.986939       175       1  \n",
       "6252149    0.897796        16       1  \n",
       "\n",
       "[6252150 rows x 14 columns]"
      ]
     },
     "execution_count": 135,
     "metadata": {},
     "output_type": "execute_result"
    }
   ],
   "source": [
    "data"
   ]
  },
  {
   "cell_type": "code",
   "execution_count": 136,
   "metadata": {},
   "outputs": [],
   "source": [
    "# save the new data\n",
    "name_save_file = variables.result_path + '//' + dataset_name + '.h5'\n",
    "data_tools.store_df_to_hdf(name_save_file, data, 'df')"
   ]
  },
  {
   "cell_type": "code",
   "execution_count": 137,
   "metadata": {},
   "outputs": [],
   "source": [
    "# save data as epos file\n",
    "epos = ccapt_tools.ccapt_to_epos(data, path=variables.result_path, name=dataset_name + '.epos')\n",
    "pos = ccapt_tools.ccapt_to_pos(data, path=variables.result_path, name=dataset_name + '.pos')"
   ]
  },
  {
   "cell_type": "code",
   "execution_count": 25,
   "metadata": {},
   "outputs": [],
   "source": [
    "# save data in csv format\n",
    "data_tools.store_df_to_csv(data, variables.result_path + dataset_name + '.csv')"
   ]
  }
 ],
 "metadata": {
  "kernelspec": {
   "display_name": "Python 3 (ipykernel)",
   "language": "python",
   "name": "python3"
  },
  "language_info": {
   "codemirror_mode": {
    "name": "ipython",
    "version": 3
   },
   "file_extension": ".py",
   "mimetype": "text/x-python",
   "name": "python",
   "nbconvert_exporter": "python",
   "pygments_lexer": "ipython3",
   "version": "3.9.12"
  }
 },
 "nbformat": 4,
 "nbformat_minor": 4
}

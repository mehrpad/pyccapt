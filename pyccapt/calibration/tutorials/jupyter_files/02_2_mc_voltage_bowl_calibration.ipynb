{
 "cells": [
  {
   "cell_type": "markdown",
   "metadata": {
    "pycharm": {
     "name": "#%%\n"
    },
    "tags": []
   },
   "source": [
    "<div style=\"margin: 0 auto; padding: 20px; font-family: 'Helvetica', sans-serif; font-size: 16px;\">\n",
    "    \n",
    "# Mass-to-chareg Calibration Workflow\n",
    "\n",
    "Once we've trimmed the data, we've got to make sure it's accurate and calibrated. We accomplish this by either calibrating the Time-of-Flight (ToF) and converting it into mass-to charge or by directly working with mass-to-charge. In this tutorial we calibrate the calculated mass-to-charge. Here's how we do it:\n",
    "\n",
    "1- Pick out the peaks.\n",
    "    \n",
    "2- Fix any voltage issues.\n",
    "    \n",
    "3- Correct for any bowl-related errors.\n",
    "\n",
    "There's a special tool at cells below that does all these steps together. After that, we shift the peaks by selectinf 3 known peaks."
   ]
  },
  {
   "cell_type": "code",
   "execution_count": 1,
   "metadata": {
    "tags": []
   },
   "outputs": [],
   "source": [
    "# Activate intractive functionality of matplotlib\n",
    "%matplotlib ipympl\n",
    "# Activate auto reload \n",
    "%load_ext autoreload\n",
    "%autoreload 2\n",
    "%reload_ext autoreload\n",
    "# import libraries\n",
    "import os\n",
    "import functools\n",
    "import numpy as np\n",
    "from scipy.optimize import curve_fit\n",
    "from ipywidgets import fixed, interact_manual, widgets\n",
    "from ipywidgets import HBox, VBox\n",
    "from IPython.display import clear_output\n",
    "from IPython.display import display\n",
    "from ipywidgets import Output\n",
    "import warnings\n",
    "# Ignore all warnings\n",
    "warnings.filterwarnings(\"ignore\")\n",
    "\n",
    "# Local module and scripts\n",
    "from pyccapt.calibration.calibration_tools import tools, share_variables, calibration\n",
    "from pyccapt.calibration.calibration_tools import widgets as wd\n",
    "from pyccapt.calibration.data_tools import data_tools, data_loadcrop, dataset_path_qt\n",
    "from pyccapt.calibration.calibration_tools import mc_plot"
   ]
  },
  {
   "cell_type": "markdown",
   "metadata": {},
   "source": [
    "<div style=\"margin: 0 auto; padding: 20px; font-family: 'Helvetica', sans-serif; font-size: 16px;\">\n",
    "\n",
    "By clicking on the button below, you can select the dataset file you want to use. The dataset file can be in various formats, including HDF5, EPOS, POS, ATO, and CSV.\n",
    "</div>"
   ]
  },
  {
   "cell_type": "code",
   "execution_count": 2,
   "metadata": {
    "tags": []
   },
   "outputs": [
    {
     "data": {
      "application/vnd.jupyter.widget-view+json": {
       "model_id": "1a2aaacc54254af487d2d4d73e051f63",
       "version_major": 2,
       "version_minor": 0
      },
      "text/plain": [
       "Button(description='load dataset', style=ButtonStyle())"
      ]
     },
     "execution_count": 2,
     "metadata": {},
     "output_type": "execute_result"
    }
   ],
   "source": [
    "button = widgets.Button(\n",
    "    description='load dataset',\n",
    ")\n",
    "@button.on_click\n",
    "def open_file_on_click(b):\n",
    "    \"\"\"\n",
    "    Event handler for button click event.\n",
    "    Prompts the user to select a dataset file and stores the selected file path in the global variable dataset_path.\n",
    "    \"\"\"\n",
    "    global dataset_path\n",
    "    dataset_path = dataset_path_qt.gui_fname().decode('ASCII')\n",
    "button"
   ]
  },
  {
   "cell_type": "markdown",
   "metadata": {
    "tags": []
   },
   "source": [
    "<div style=\"margin: 0 auto; padding: 20px; font-family: 'Helvetica', sans-serif; font-size: 16px;\">\n",
    "From the dropdown lists below, you can select the instrument specifications of the dataset. The instrument specifications are the same as the ones used for the calibration process. Data mode is specify the dataset structure. The flight path length is the distance between the sample and the detector. The t0 is the time of flight of the ions with the lowest mass-to-charge ratio. The maximum mass-to-charge ratio is the maximum mass-to-charge ratio of tat you want to plot. You can also change it in te related cells. The detector diameter is the diameter of the detector.\n",
    "</div>\n"
   ]
  },
  {
   "cell_type": "code",
   "execution_count": 6,
   "metadata": {
    "tags": []
   },
   "outputs": [
    {
     "data": {
      "application/vnd.jupyter.widget-view+json": {
       "model_id": "0e02621b736d41d9a210fcdbb4d9fc23",
       "version_major": 2,
       "version_minor": 0
      },
      "text/plain": [
       "Dropdown(description='Data mode:', options=('PyCCAPT', 'leap_epos', 'leap_pos', 'ato_v6'), value='PyCCAPT')"
      ]
     },
     "metadata": {},
     "output_type": "display_data"
    },
    {
     "data": {
      "application/vnd.jupyter.widget-view+json": {
       "model_id": "908c6c239ced4f87b7e4dfa62d9ebf6a",
       "version_major": 2,
       "version_minor": 0
      },
      "text/plain": [
       "FloatText(value=80.0, description='Detector diameter:')"
      ]
     },
     "metadata": {},
     "output_type": "display_data"
    },
    {
     "data": {
      "application/vnd.jupyter.widget-view+json": {
       "model_id": "18b5fa2e78cd4a10bf4243e3274cefd1",
       "version_major": 2,
       "version_minor": 0
      },
      "text/plain": [
       "Dropdown(description='Pulse mode:', options=('voltage', 'laser'), value='voltage')"
      ]
     },
     "metadata": {},
     "output_type": "display_data"
    },
    {
     "data": {
      "application/vnd.jupyter.widget-view+json": {
       "model_id": "3daa64a1bf704a9d8c81c560a5ec320e",
       "version_major": 2,
       "version_minor": 0
      },
      "text/plain": [
       "FloatText(value=110.0, description='Flight path length:')"
      ]
     },
     "metadata": {},
     "output_type": "display_data"
    }
   ],
   "source": [
    "tdc, pulse_mode, flightPathLength_d, t0_d, max_mc, det_diam = wd.dataset_instrument_specification_selection()\n",
    "display(tdc, det_diam, pulse_mode, flightPathLength_d)"
   ]
  },
  {
   "cell_type": "markdown",
   "metadata": {
    "pycharm": {
     "name": "#%% md\n"
    }
   },
   "source": [
    "$$\\textbf{You can specify which dataset to use in below block}$$"
   ]
  },
  {
   "cell_type": "code",
   "execution_count": 7,
   "metadata": {
    "pycharm": {
     "name": "#%%\n"
    },
    "tags": []
   },
   "outputs": [
    {
     "name": "stdout",
     "output_type": "stream",
     "text": [
      "The maximum time of flight: 5010\n"
     ]
    }
   ],
   "source": [
    "# exctract needed data from Pandas data frame as an numpy array\n",
    "# create an instance of the Variables opject\n",
    "variables = share_variables.Variables()\n",
    "variables.pulse_mode = pulse_mode\n",
    "dataset_main_path = os.path.dirname(dataset_path)\n",
    "dataset_main_path = os.path.dirname(dataset_main_path)\n",
    "dataset_name_with_extention = os.path.basename(dataset_path)\n",
    "variables.dataset_name = os.path.splitext(dataset_name_with_extention)[0]\n",
    "variables.result_data_path = dataset_main_path + '/mc_calibration/'\n",
    "variables.result_data_name = variables.dataset_name\n",
    "variables.result_path = dataset_main_path + '/' + '/mc_calibration/'\n",
    "\n",
    "if not os.path.isdir(variables.result_path):\n",
    "    os.makedirs(variables.result_path, mode=0o777, exist_ok=True)\n",
    "    \n",
    "# Create data farame out of hdf5 file dataset\n",
    "data = data_tools.load_data(dataset_path, tdc.value, mode='processed')\n",
    "# extract data from the path and create the Variable object\n",
    "data_tools.extract_data(data, variables, flightPathLength_d.value, max_mc.value)"
   ]
  },
  {
   "cell_type": "code",
   "execution_count": 8,
   "metadata": {
    "pycharm": {
     "name": "#%%\n"
    },
    "tags": []
   },
   "outputs": [
    {
     "name": "stdout",
     "output_type": "stream",
     "text": [
      "The data will be saved on the path: D:/pyccapt/tests/data/data_1642_Aug-30-2023_16-05_Al_test4/mc_calibration/\n",
      "=============================\n",
      "The dataset name after saving is: data_1642_Aug-30-2023_16-05_Al_test4\n",
      "=============================\n",
      "The figures will be saved on the path: D:/pyccapt/tests/data/data_1642_Aug-30-2023_16-05_Al_test4//mc_calibration/\n",
      "=============================\n",
      "Total number of Ions: 10571248\n"
     ]
    },
    {
     "data": {
      "text/html": [
       "<div>\n",
       "<style scoped>\n",
       "    .dataframe tbody tr th:only-of-type {\n",
       "        vertical-align: middle;\n",
       "    }\n",
       "\n",
       "    .dataframe tbody tr th {\n",
       "        vertical-align: top;\n",
       "    }\n",
       "\n",
       "    .dataframe thead th {\n",
       "        text-align: right;\n",
       "    }\n",
       "</style>\n",
       "<table border=\"1\" class=\"dataframe\">\n",
       "  <thead>\n",
       "    <tr style=\"text-align: right;\">\n",
       "      <th></th>\n",
       "      <th>x (nm)</th>\n",
       "      <th>y (nm)</th>\n",
       "      <th>z (nm)</th>\n",
       "      <th>mc_c (Da)</th>\n",
       "      <th>mc (Da)</th>\n",
       "      <th>high_voltage (V)</th>\n",
       "      <th>pulse</th>\n",
       "      <th>start_counter</th>\n",
       "      <th>t_c (ns)</th>\n",
       "      <th>t (ns)</th>\n",
       "      <th>x_det (cm)</th>\n",
       "      <th>y_det (cm)</th>\n",
       "      <th>pulse_pi</th>\n",
       "      <th>ion_pp</th>\n",
       "    </tr>\n",
       "  </thead>\n",
       "  <tbody>\n",
       "    <tr>\n",
       "      <th>0</th>\n",
       "      <td>0.0</td>\n",
       "      <td>0.0</td>\n",
       "      <td>0.0</td>\n",
       "      <td>0.0</td>\n",
       "      <td>28.993453</td>\n",
       "      <td>5019.959961</td>\n",
       "      <td>1003.992004</td>\n",
       "      <td>7565</td>\n",
       "      <td>0.0</td>\n",
       "      <td>618.564148</td>\n",
       "      <td>2.651428</td>\n",
       "      <td>0.594286</td>\n",
       "      <td>0</td>\n",
       "      <td>0</td>\n",
       "    </tr>\n",
       "    <tr>\n",
       "      <th>1</th>\n",
       "      <td>0.0</td>\n",
       "      <td>0.0</td>\n",
       "      <td>0.0</td>\n",
       "      <td>0.0</td>\n",
       "      <td>29.360520</td>\n",
       "      <td>5019.959961</td>\n",
       "      <td>1003.992004</td>\n",
       "      <td>7664</td>\n",
       "      <td>0.0</td>\n",
       "      <td>606.260925</td>\n",
       "      <td>-0.055510</td>\n",
       "      <td>0.649796</td>\n",
       "      <td>99</td>\n",
       "      <td>2</td>\n",
       "    </tr>\n",
       "    <tr>\n",
       "      <th>2</th>\n",
       "      <td>0.0</td>\n",
       "      <td>0.0</td>\n",
       "      <td>0.0</td>\n",
       "      <td>0.0</td>\n",
       "      <td>29.441372</td>\n",
       "      <td>5019.959961</td>\n",
       "      <td>1003.992004</td>\n",
       "      <td>7682</td>\n",
       "      <td>0.0</td>\n",
       "      <td>606.932983</td>\n",
       "      <td>-0.107755</td>\n",
       "      <td>0.607347</td>\n",
       "      <td>18</td>\n",
       "      <td>1</td>\n",
       "    </tr>\n",
       "    <tr>\n",
       "      <th>3</th>\n",
       "      <td>0.0</td>\n",
       "      <td>0.0</td>\n",
       "      <td>0.0</td>\n",
       "      <td>0.0</td>\n",
       "      <td>28.725689</td>\n",
       "      <td>5019.959961</td>\n",
       "      <td>1003.992004</td>\n",
       "      <td>7690</td>\n",
       "      <td>0.0</td>\n",
       "      <td>611.520996</td>\n",
       "      <td>2.285714</td>\n",
       "      <td>-0.457143</td>\n",
       "      <td>8</td>\n",
       "      <td>1</td>\n",
       "    </tr>\n",
       "    <tr>\n",
       "      <th>4</th>\n",
       "      <td>0.0</td>\n",
       "      <td>0.0</td>\n",
       "      <td>0.0</td>\n",
       "      <td>0.0</td>\n",
       "      <td>29.512555</td>\n",
       "      <td>5019.959961</td>\n",
       "      <td>1003.992004</td>\n",
       "      <td>7794</td>\n",
       "      <td>0.0</td>\n",
       "      <td>614.298462</td>\n",
       "      <td>0.486531</td>\n",
       "      <td>1.740408</td>\n",
       "      <td>104</td>\n",
       "      <td>1</td>\n",
       "    </tr>\n",
       "    <tr>\n",
       "      <th>...</th>\n",
       "      <td>...</td>\n",
       "      <td>...</td>\n",
       "      <td>...</td>\n",
       "      <td>...</td>\n",
       "      <td>...</td>\n",
       "      <td>...</td>\n",
       "      <td>...</td>\n",
       "      <td>...</td>\n",
       "      <td>...</td>\n",
       "      <td>...</td>\n",
       "      <td>...</td>\n",
       "      <td>...</td>\n",
       "      <td>...</td>\n",
       "      <td>...</td>\n",
       "    </tr>\n",
       "    <tr>\n",
       "      <th>10571243</th>\n",
       "      <td>0.0</td>\n",
       "      <td>0.0</td>\n",
       "      <td>0.0</td>\n",
       "      <td>0.0</td>\n",
       "      <td>29.759238</td>\n",
       "      <td>6351.169922</td>\n",
       "      <td>1270.234009</td>\n",
       "      <td>19549</td>\n",
       "      <td>0.0</td>\n",
       "      <td>550.999146</td>\n",
       "      <td>-0.460408</td>\n",
       "      <td>1.456326</td>\n",
       "      <td>105</td>\n",
       "      <td>1</td>\n",
       "    </tr>\n",
       "    <tr>\n",
       "      <th>10571244</th>\n",
       "      <td>0.0</td>\n",
       "      <td>0.0</td>\n",
       "      <td>0.0</td>\n",
       "      <td>0.0</td>\n",
       "      <td>29.967560</td>\n",
       "      <td>6351.169922</td>\n",
       "      <td>1270.234009</td>\n",
       "      <td>19664</td>\n",
       "      <td>0.0</td>\n",
       "      <td>551.705505</td>\n",
       "      <td>-1.342041</td>\n",
       "      <td>-0.120816</td>\n",
       "      <td>31</td>\n",
       "      <td>1</td>\n",
       "    </tr>\n",
       "    <tr>\n",
       "      <th>10571245</th>\n",
       "      <td>0.0</td>\n",
       "      <td>0.0</td>\n",
       "      <td>0.0</td>\n",
       "      <td>0.0</td>\n",
       "      <td>29.029561</td>\n",
       "      <td>6351.169922</td>\n",
       "      <td>1270.234009</td>\n",
       "      <td>19762</td>\n",
       "      <td>0.0</td>\n",
       "      <td>545.156128</td>\n",
       "      <td>1.567347</td>\n",
       "      <td>0.300408</td>\n",
       "      <td>98</td>\n",
       "      <td>1</td>\n",
       "    </tr>\n",
       "    <tr>\n",
       "      <th>10571246</th>\n",
       "      <td>0.0</td>\n",
       "      <td>0.0</td>\n",
       "      <td>0.0</td>\n",
       "      <td>0.0</td>\n",
       "      <td>28.815053</td>\n",
       "      <td>6351.169922</td>\n",
       "      <td>1270.234009</td>\n",
       "      <td>19833</td>\n",
       "      <td>0.0</td>\n",
       "      <td>543.187866</td>\n",
       "      <td>1.319184</td>\n",
       "      <td>-0.868571</td>\n",
       "      <td>71</td>\n",
       "      <td>1</td>\n",
       "    </tr>\n",
       "    <tr>\n",
       "      <th>10571247</th>\n",
       "      <td>0.0</td>\n",
       "      <td>0.0</td>\n",
       "      <td>0.0</td>\n",
       "      <td>0.0</td>\n",
       "      <td>28.904500</td>\n",
       "      <td>6351.169922</td>\n",
       "      <td>1270.234009</td>\n",
       "      <td>317</td>\n",
       "      <td>0.0</td>\n",
       "      <td>554.791626</td>\n",
       "      <td>-0.460408</td>\n",
       "      <td>-2.768980</td>\n",
       "      <td>4294947780</td>\n",
       "      <td>1</td>\n",
       "    </tr>\n",
       "  </tbody>\n",
       "</table>\n",
       "<p>10571248 rows × 14 columns</p>\n",
       "</div>"
      ],
      "text/plain": [
       "          x (nm)  y (nm)  z (nm)  mc_c (Da)    mc (Da)  high_voltage (V)  \\\n",
       "0            0.0     0.0     0.0        0.0  28.993453       5019.959961   \n",
       "1            0.0     0.0     0.0        0.0  29.360520       5019.959961   \n",
       "2            0.0     0.0     0.0        0.0  29.441372       5019.959961   \n",
       "3            0.0     0.0     0.0        0.0  28.725689       5019.959961   \n",
       "4            0.0     0.0     0.0        0.0  29.512555       5019.959961   \n",
       "...          ...     ...     ...        ...        ...               ...   \n",
       "10571243     0.0     0.0     0.0        0.0  29.759238       6351.169922   \n",
       "10571244     0.0     0.0     0.0        0.0  29.967560       6351.169922   \n",
       "10571245     0.0     0.0     0.0        0.0  29.029561       6351.169922   \n",
       "10571246     0.0     0.0     0.0        0.0  28.815053       6351.169922   \n",
       "10571247     0.0     0.0     0.0        0.0  28.904500       6351.169922   \n",
       "\n",
       "                pulse  start_counter  t_c (ns)      t (ns)  x_det (cm)  \\\n",
       "0         1003.992004           7565       0.0  618.564148    2.651428   \n",
       "1         1003.992004           7664       0.0  606.260925   -0.055510   \n",
       "2         1003.992004           7682       0.0  606.932983   -0.107755   \n",
       "3         1003.992004           7690       0.0  611.520996    2.285714   \n",
       "4         1003.992004           7794       0.0  614.298462    0.486531   \n",
       "...               ...            ...       ...         ...         ...   \n",
       "10571243  1270.234009          19549       0.0  550.999146   -0.460408   \n",
       "10571244  1270.234009          19664       0.0  551.705505   -1.342041   \n",
       "10571245  1270.234009          19762       0.0  545.156128    1.567347   \n",
       "10571246  1270.234009          19833       0.0  543.187866    1.319184   \n",
       "10571247  1270.234009            317       0.0  554.791626   -0.460408   \n",
       "\n",
       "          y_det (cm)    pulse_pi  ion_pp  \n",
       "0           0.594286           0       0  \n",
       "1           0.649796          99       2  \n",
       "2           0.607347          18       1  \n",
       "3          -0.457143           8       1  \n",
       "4           1.740408         104       1  \n",
       "...              ...         ...     ...  \n",
       "10571243    1.456326         105       1  \n",
       "10571244   -0.120816          31       1  \n",
       "10571245    0.300408          98       1  \n",
       "10571246   -0.868571          71       1  \n",
       "10571247   -2.768980  4294947780       1  \n",
       "\n",
       "[10571248 rows x 14 columns]"
      ]
     },
     "execution_count": 8,
     "metadata": {},
     "output_type": "execute_result"
    }
   ],
   "source": [
    "print('The data will be saved on the path:', variables.result_data_path)\n",
    "print('=============================')\n",
    "print('The dataset name after saving is:', variables.result_data_name)\n",
    "print('=============================')\n",
    "print('The figures will be saved on the path:', variables.result_path)\n",
    "print('=============================')\n",
    "print('Total number of Ions:', len(data))\n",
    "data"
   ]
  },
  {
   "cell_type": "markdown",
   "metadata": {},
   "source": [
    "<div style=\"margin: 0 auto; padding: 20px; font-family: 'Helvetica', sans-serif; font-size: 16px;\">\n",
    "\n",
    "Cell below visualizes the experiment history. You can select the range of the data you want to plot. The plot will be saved in the same directory as the dataset file.\n",
    "</div>"
   ]
  },
  {
   "cell_type": "code",
   "execution_count": 9,
   "metadata": {
    "tags": []
   },
   "outputs": [
    {
     "data": {
      "application/vnd.jupyter.widget-view+json": {
       "model_id": "099b7acce90e4e8bad045d18c90427a2",
       "version_major": 2,
       "version_minor": 0
      },
      "text/plain": [
       "interactive(children=(FloatText(value=5010.0, description='max_tof'), FloatText(value=1.0, description='frac')…"
      ]
     },
     "metadata": {},
     "output_type": "display_data"
    }
   ],
   "source": [
    "interact_manual(data_loadcrop.plot_crop_experiment_history, data=fixed(data), variables=fixed(variables), max_tof=widgets.FloatText(value=variables.max_tof), frac=widgets.FloatText(value=1.0),\n",
    "                bins=fixed((1200,800)), figure_size=fixed((7,3)),\n",
    "               draw_rect=fixed(False), data_crop=fixed(False), pulse_plot=widgets.Dropdown(options=[('False', False), ('True', True)]), dc_plot=widgets.Dropdown(options=[('True', True), ('False', False)]),\n",
    "               pulse_mode=widgets.Dropdown(options=[('voltage', 'voltage'), ('laser', 'laser')]), save=widgets.Dropdown(options=[('True', True), ('False', False)]),\n",
    "               figname=widgets.Text(value='exp_hist'));"
   ]
  },
  {
   "cell_type": "markdown",
   "metadata": {
    "tags": []
   },
   "source": [
    "<div style=\"margin: 0 auto; padding: 20px; font-family: 'Helvetica', sans-serif; font-size: 16px;\">\n",
    "\n",
    "The uncalibrated mass-to-charge ratio that is calculated with previous workflow will be shown below. You can select the range of the data you want to plot. There is also possibility to activate the peak finding tool to show the peak values.\n",
    "</div>"
   ]
  },
  {
   "cell_type": "code",
   "execution_count": 10,
   "metadata": {
    "tags": []
   },
   "outputs": [
    {
     "data": {
      "application/vnd.jupyter.widget-view+json": {
       "model_id": "bce8edd584ed45df888fbc490c4a22db",
       "version_major": 2,
       "version_minor": 0
      },
      "text/plain": [
       "interactive(children=(FloatText(value=0.1, description='bin_size'), Dropdown(description='log', options=(('Tru…"
      ]
     },
     "metadata": {},
     "output_type": "display_data"
    }
   ],
   "source": [
    "interact_manual(mc_plot.hist_plot, variables=fixed(variables), bin_size=widgets.FloatText(value=0.1), log=widgets.Dropdown(options=[('True', True), ('Flase', False)]),\n",
    "                target=widgets.Dropdown(options=[('mc', 'mc'), ('tof', 'tof')]), mode=widgets.Dropdown(options=[('normal', 'normal'), ('normalized', 'normalized')]),\n",
    "                prominence=widgets.IntText(value=100), distance=widgets.IntText(value=100), \n",
    "                lim=widgets.IntText(value=variables.max_tof), percent=widgets.IntText(value=50), selector=fixed('None'), plot=fixed(True), figname=widgets.Text(value='hist'),\n",
    "                peaks_find_plot=widgets.Dropdown(options=[('True', True), ('Flase', False)]), range_plot=fixed(False), selected_area=fixed(False), ranging_mode=fixed(False), save_fig=fixed(True), print_info=fixed(True));"
   ]
  },
  {
   "cell_type": "markdown",
   "metadata": {
    "pycharm": {
     "name": "#%% md\n"
    }
   },
   "source": [
    "$$\\textbf{Below plotted graph offers peak selection. You can select relevant peaks you want for computation.}$$"
   ]
  },
  {
   "cell_type": "code",
   "execution_count": 209,
   "metadata": {
    "pycharm": {
     "name": "#%%\n"
    },
    "tags": []
   },
   "outputs": [],
   "source": [
    "bin_size=widgets.FloatText(value=0.1, description='bin size:')\n",
    "prominence=widgets.IntText(value=100, description='peak prominance:')\n",
    "distance=widgets.IntText(value=500, description='peak distance:')\n",
    "lim_tof=widgets.IntText(value=400, description='lim tof/mc:')\n",
    "percent=widgets.IntText(value=50, description='percent MRP:')\n",
    "index_fig = widgets.IntText(value=1, description='fig index:')\n",
    "plot_peak = widgets.Dropdown(\n",
    "    options=[('False', False), ('True', True)],\n",
    "    description='plot peak:'\n",
    ")\n",
    "\n",
    "def hist_plot(variables, plot):\n",
    "    with out:\n",
    "        clear_output(True)\n",
    "        mc_plot.hist_plot(variables, bin_size.value, log=True, target='mc', mode='normal', prominence=prominence.value, distance=distance.value, percent=percent.value, selector='rect', figname=index_fig, lim=lim_tof.value,\n",
    "                          peaks_find_plot=plot_peak, print_info=False)"
   ]
  },
  {
   "cell_type": "code",
   "execution_count": 210,
   "metadata": {
    "tags": []
   },
   "outputs": [],
   "source": [
    "sample_size_b = widgets.IntText(value=11, description='sample size:') \n",
    "index_fig_b = widgets.IntText(value=1, description='fig index:')\n",
    "maximum_cal_method_b = widgets.Dropdown(\n",
    "    options=[('mean', 'mean'), ('histogram', 'histogram')],\n",
    "    description='calib method:'\n",
    ")\n",
    "plot_b = widgets.Dropdown(\n",
    "    options=[('False', False), ('True', True)],\n",
    "    description='plot fig:'\n",
    ")\n",
    "\n",
    "save_b = widgets.Dropdown(\n",
    "    options=[('False', False), ('True', True)],\n",
    "    description='save fig:'\n",
    ")\n",
    "apply_b = widgets.Dropdown(\n",
    "    options=[('all', 'all'), ('temporal', 'temporal'),],\n",
    "    description='apply mode:'\n",
    ")\n",
    "def bowl_correction(dld_x, dld_y, dld_highVoltage, variables):\n",
    "    with out:\n",
    "        sample_size_p = sample_size_b.value\n",
    "        index_fig_p = index_fig_b.value\n",
    "        plot_p = plot_b.value\n",
    "        save_p = save_b.value\n",
    "        maximum_cal_method_p = maximum_cal_method_b.value\n",
    "        calibration.bowl_correction_main(dld_x, dld_y, dld_highVoltage, variables, det_diam.value, sample_size=sample_size_p, maximum_cal_method=maximum_cal_method_p, apply_local=apply_b.value,\n",
    "                                         calibration_mode='mc', index_fig=index_fig_p, plot=plot_p, save=save_p)\n"
   ]
  },
  {
   "cell_type": "code",
   "execution_count": 211,
   "metadata": {
    "tags": []
   },
   "outputs": [],
   "source": [
    "sample_size_v =widgets.IntText(value=100, description='sample size:') \n",
    "index_fig_v = widgets.IntText(value=1, description='fig index:')\n",
    "plot_v = widgets.Dropdown(\n",
    "    options=[('False', False), ('True', True)],\n",
    "    description='plot fig:'\n",
    ")\n",
    "save_v = widgets.Dropdown(\n",
    "    options=[('False', False), ('True', True)],\n",
    "    description='save fig:'\n",
    ")\n",
    "mode_v = widgets.Dropdown(\n",
    "    options=[('ion_seq', 'ion_seq'), ('voltage', 'voltage')],\n",
    "    description='sample mode:'\n",
    ")\n",
    "peak_mode = widgets.Dropdown(\n",
    "    options=[('peak', 'peak'), ('mean', 'mean'), ('median', 'median')],\n",
    "    description='peak mode:'\n",
    ")\n",
    "num_cluster = widgets.IntText(value=1, description='num_cluster:')\n",
    "apply_v = widgets.Dropdown(\n",
    "    options=[('all', 'all'), ('voltage', 'voltage'), ('voltage_temporal', 'voltage_temporal')],\n",
    "    description='apply mode:'\n",
    ")\n",
    "def vol_correction(dld_highVoltage, variables):\n",
    "    with out:\n",
    "        sample_size_p = sample_size_v.value\n",
    "        index_fig_p = index_fig_v.value\n",
    "        plot_p = plot_v.value\n",
    "        save_p = save_v.value\n",
    "        mode_p = mode_v.value\n",
    "        peak_mode_p = peak_mode.value\n",
    "        calibration.voltage_corr_main(dld_highVoltage, variables, sample_size=sample_size_p, calibration_mode='mc',\n",
    "                                        index_fig=index_fig_p, plot=plot_p, save=save_p, apply_local=apply_v.value, num_cluster=num_cluster.value, mode=mode_p, peak_mode=peak_mode_p)\n"
   ]
  },
  {
   "cell_type": "code",
   "execution_count": 212,
   "metadata": {
    "tags": []
   },
   "outputs": [],
   "source": [
    "pb_bowl = widgets.HTML(\n",
    "    value=\" \",\n",
    "    placeholder='Status:',\n",
    "    description='Status:',\n",
    ")\n",
    "pb_vol = widgets.HTML(\n",
    "    value=\" \",\n",
    "    placeholder='Status:',\n",
    "    description='Status:',\n",
    ")\n",
    "plot_button = widgets.Button(\n",
    "    description='plot hist',\n",
    ")\n",
    "plot_stat_button = widgets.Button(\n",
    "    description='plot stat',\n",
    ")\n",
    "reset_back_button = widgets.Button(\n",
    "    description='reset back correction',\n",
    ")\n",
    "reset_button = widgets.Button(\n",
    "    description='reset',\n",
    ")\n",
    "save_button = widgets.Button(\n",
    "    description='save correction',\n",
    ")\n",
    "bowl_button = widgets.Button(\n",
    "    description='bowl correction',\n",
    ")\n",
    "vol_button = widgets.Button(\n",
    "    description='voltage correction',\n",
    ")\n",
    "bin_fdm = widgets.IntText(value=256, description='bin FDM:')\n",
    "    \n",
    "@plot_button.on_click\n",
    "def plot_on_click(b, variables=variables, plot=True):\n",
    "    hist_plot(variables, plot)\n",
    "\n",
    "@plot_stat_button.on_click\n",
    "def plot_stat_on_click(b, variables=variables, save=True):\n",
    "    with out2:\n",
    "        clear_output(True)\n",
    "    with out:\n",
    "        clear_output(True)\n",
    "        calibration.plot_selected_statistic(variables, bin_fdm.value, index_fig.value, calibration_mode='mc', save=True)\n",
    "    \n",
    "@reset_back_button.on_click\n",
    "def reset_back_on_click(b, variables=variables):\n",
    "    variables.mc_calib = np.copy(variables.mc_calib_backup)\n",
    "@reset_button.on_click\n",
    "def reset_on_click(b, data=data, variables=variables, flightPathLength_d=flightPathLength_d.value, max_mc=max_mc.value):\n",
    "    data_tools.extract_data(data, variables, flightPathLength_d, max_mc)\n",
    "    \n",
    "@save_button.on_click\n",
    "def save_on_click(b, variables=variables):\n",
    "    variables.mc_calib_backup = np.copy(variables.mc_calib)\n",
    "\n",
    "@vol_button.on_click\n",
    "def vol_on_click(b, dld_highVoltage=variables.dld_high_voltage, variables=variables):\n",
    "    with out2:\n",
    "        clear_output(True)\n",
    "        pb_vol.value = \"<b>Starting...</b>\"\n",
    "        if variables.selected_x1 == 0 or variables.selected_x2 == 0:\n",
    "            print('Please first select a peak')\n",
    "        else:\n",
    "            print('Selected mc ranges are: (%s, %s)' %(variables.selected_x1, variables.selected_x2))\n",
    "            vol_correction(dld_highVoltage, variables)\n",
    "        pb_vol.value = \"<b>Flished</b>\"\n",
    "@bowl_button.on_click\n",
    "def bowl_on_click(b, dld_x_det=variables.dld_x_det, dld_y_det=variables.dld_y_det, dld_highVoltage=variables.dld_high_voltage, variables=variables):\n",
    "    with out2:\n",
    "        clear_output(True)\n",
    "        pb_bowl.value = \"<b>Starting...</b>\"\n",
    "        if variables.selected_x1 == 0 or variables.selected_x2 == 0:\n",
    "            print('Please first select a peak')\n",
    "        else:\n",
    "            print('Selected mc ranges are: (%s, %s)' %(variables.selected_x1, variables.selected_x2))\n",
    "            bowl_correction(dld_x_det, dld_y_det, dld_highVoltage, variables)  \n",
    "        pb_bowl.value = \"<b>Flished</b>\"\n",
    "\n",
    "\n",
    "tab1 = VBox(children=[bin_size, index_fig, prominence, distance, lim_tof, percent, bin_fdm, plot_peak])\n",
    "tab2 = VBox(children=[VBox(children=[sample_size_b, index_fig_b, maximum_cal_method_b, apply_b, plot_b, save_b]), bowl_button, pb_bowl])\n",
    "tab3 = VBox(children=[VBox(children=[sample_size_v, index_fig_v, mode_v, apply_v, num_cluster, peak_mode, plot_v, save_v]), vol_button, pb_vol])\n",
    "\n",
    "tab = widgets.Tab(children=[tab1, tab2, tab3])\n",
    "tab.set_title(0, 'tof/mc plot')\n",
    "tab.set_title(1, 'bowl correction')\n",
    "tab.set_title(2, 'voltage correction')"
   ]
  },
  {
   "cell_type": "markdown",
   "metadata": {},
   "source": [
    "<div style=\"margin: 0 auto; padding: 20px; font-family: 'Helvetica', sans-serif; font-size: 16px;\">\n",
    "\n",
    "Below you can plot the mass histogram of the dataset. You can select the peak range of the data you want to plot by drawing a rectangle over peak with holding left click. After that you should apply the voltage and bowl calibration. These three steps should be repeated until you see no improvement in the peak resolution. You can also save the calibration by clicking on the save button. The saved calibration will be used for the next steps.\n",
    "\n",
    "</div>"
   ]
  },
  {
   "cell_type": "code",
   "execution_count": 213,
   "metadata": {
    "tags": []
   },
   "outputs": [
    {
     "data": {
      "application/vnd.jupyter.widget-view+json": {
       "model_id": "00688964f14b44d78cf5ae3d7d02a253",
       "version_major": 2,
       "version_minor": 0
      },
      "text/plain": [
       "VBox(children=(Tab(children=(VBox(children=(FloatText(value=0.1, description='bin size:'), IntText(value=1, de…"
      ]
     },
     "metadata": {},
     "output_type": "display_data"
    },
    {
     "data": {
      "application/vnd.jupyter.widget-view+json": {
       "model_id": "5205ef2c573e405c98cd868bf25dc752",
       "version_major": 2,
       "version_minor": 0
      },
      "text/plain": [
       "Output()"
      ]
     },
     "metadata": {},
     "output_type": "display_data"
    }
   ],
   "source": [
    "display(VBox(children=[tab,HBox(children=[plot_button, plot_stat_button, save_button, reset_back_button, reset_button])]))\n",
    "out = Output()\n",
    "out2 = Output()\n",
    "display(out)"
   ]
  },
  {
   "cell_type": "code",
   "execution_count": 214,
   "metadata": {
    "tags": []
   },
   "outputs": [],
   "source": [
    "variables.mc_calib_backup = variables.mc_calib"
   ]
  },
  {
   "cell_type": "code",
   "execution_count": 215,
   "metadata": {
    "tags": []
   },
   "outputs": [],
   "source": [
    "variables.mc_calib = variables.mc_calib_backup"
   ]
  },
  {
   "cell_type": "markdown",
   "metadata": {},
   "source": [
    "<div style=\"margin: 0 auto; padding: 20px; font-family: 'Helvetica', sans-serif; font-size: 16px;\">\n",
    "\n",
    "Here you have to select three known peaks that you know the mass-to-charge ratio. Select the peak with left click and deselect them with right click.\n",
    "\n",
    "</div>\n"
   ]
  },
  {
   "cell_type": "code",
   "execution_count": 226,
   "metadata": {
    "tags": []
   },
   "outputs": [
    {
     "data": {
      "application/vnd.jupyter.widget-view+json": {
       "model_id": "0c981e396a5a4699bc3fe7bde407db64",
       "version_major": 2,
       "version_minor": 0
      },
      "text/plain": [
       "interactive(children=(FloatText(value=0.1, description='bin_size'), Dropdown(description='log', options=(('Tru…"
      ]
     },
     "metadata": {},
     "output_type": "display_data"
    }
   ],
   "source": [
    "interact_manual(mc_plot.hist_plot, variables=fixed(variables), bin_size=widgets.FloatText(value=0.1), \n",
    "                log=widgets.Dropdown(options=[('True', True), ('False', False)]), mode=widgets.Dropdown(options=[('normal', 'normal'), ('normalized', 'normalized')]),\n",
    "                target=widgets.Dropdown(options=[('mc', 'mc')]), prominence=widgets.IntText(value=50), selector=fixed('peak'), distance=widgets.IntText(value=100), \n",
    "                lim=widgets.IntText(value=400), percent=widgets.IntText(value=50), figname=widge, ranging_mode=fixed(False), save_fig=fixed(True), print_info=fixed(True));"
   ]
  },
  {
   "cell_type": "markdown",
   "metadata": {},
   "source": [
    "<div style=\"margin: 0 auto; padding: 20px; font-family: 'Helvetica', sans-serif; font-size: 16px;\">\n",
    "\n",
    "For the selected peak you have to select the mass-to-charge ratio of the peak. You can select the mass-to-charge ratio from the dropdown list below. You can also select the charge of the peak. After that you can add the peak to the list by clicking on the add button. You can also delete the selected peak from the list by clicking on the delete button. You can reset the list by clicking on the reset button.\n",
    "\n",
    "</div>\n"
   ]
  },
  {
   "cell_type": "code",
   "execution_count": 217,
   "metadata": {
    "tags": []
   },
   "outputs": [
    {
     "data": {
      "application/vnd.jupyter.widget-view+json": {
       "model_id": "b1db17f28bac4616968f2d71566579e6",
       "version_major": 2,
       "version_minor": 0
      },
      "text/plain": [
       "Dropdown(description='Elements', options=(('H (1) (99.98)', 'H(1)[1.01]'), ('H (2) (0.01)', 'H(2)[2.01]'), ('H…"
      ]
     },
     "metadata": {},
     "output_type": "display_data"
    },
    {
     "data": {
      "application/vnd.jupyter.widget-view+json": {
       "model_id": "735fe486b3c14262a16ff6bb7f956c6e",
       "version_major": 2,
       "version_minor": 0
      },
      "text/plain": [
       "Dropdown(description='Charge', options=((1, 1), (2, 2), (3, 3), (4, 4)), value=1)"
      ]
     },
     "metadata": {},
     "output_type": "display_data"
    },
    {
     "data": {
      "application/vnd.jupyter.widget-view+json": {
       "model_id": "ed996b80be3b4f8da4945c163d1f5d6a",
       "version_major": 2,
       "version_minor": 0
      },
      "text/plain": [
       "Button(description='ADD', icon='check', style=ButtonStyle(), tooltip='ADD')"
      ]
     },
     "metadata": {},
     "output_type": "display_data"
    },
    {
     "data": {
      "application/vnd.jupyter.widget-view+json": {
       "model_id": "9a39c20c6c3348d4a4787ceb55309f32",
       "version_major": 2,
       "version_minor": 0
      },
      "text/plain": [
       "Button(description='DELETE', icon='check', style=ButtonStyle(), tooltip='DELETE')"
      ]
     },
     "metadata": {},
     "output_type": "display_data"
    },
    {
     "data": {
      "application/vnd.jupyter.widget-view+json": {
       "model_id": "3de844bcdf61494cb751087815d0ac81",
       "version_major": 2,
       "version_minor": 0
      },
      "text/plain": [
       "Button(description='RESET', icon='check', style=ButtonStyle(), tooltip='RESET')"
      ]
     },
     "metadata": {},
     "output_type": "display_data"
    },
    {
     "data": {
      "application/vnd.jupyter.widget-view+json": {
       "model_id": "9ac2fedc4c484107b7ed0bdc95114ec7",
       "version_major": 2,
       "version_minor": 0
      },
      "text/plain": [
       "Output()"
      ]
     },
     "metadata": {},
     "output_type": "display_data"
    }
   ],
   "source": [
    "isotopeTableFile = '../../../files/isotopeTable.h5'\n",
    "dataframe = data_tools.read_hdf5_through_pandas(isotopeTableFile)\n",
    "elementsList = dataframe['element']\n",
    "elementIsotopeList = dataframe['isotope']\n",
    "elementMassList =  dataframe['weight']\n",
    "abundanceList = dataframe['abundance']\n",
    "\n",
    "elements = list(zip(elementsList, elementIsotopeList, elementMassList, abundanceList))\n",
    "dropdownList = []\n",
    "for element in elements:\n",
    "    tupleElement = (\"{} ({}) ({:.2f})\".format(element[0], element[1], element[3]), \"{}({})[{}]\".format(element[0], element[1], element[2]))\n",
    "    dropdownList.append(tupleElement)\n",
    "\n",
    "chargeList = [(1,1,),(2,2,),(3,3,),(4,4,)]\n",
    "dropdown = wd.dropdownWidget(dropdownList,\"Elements\")\n",
    "dropdown.observe(wd.on_change)\n",
    "\n",
    "\n",
    "chargeDropdown = wd.dropdownWidget(chargeList,\"Charge\")\n",
    "chargeDropdown.observe(wd.on_change_charge)\n",
    "\n",
    "wd.compute_element_isotope_values_according_to_selected_charge()\n",
    "\n",
    "buttonAdd = wd.buttonWidget(\"ADD\")\n",
    "buttonDelete = wd.buttonWidget(\"DELETE\")\n",
    "buttonReset = wd.buttonWidget(\"RESET\")\n",
    "\n",
    "\n",
    "display(dropdown, chargeDropdown, buttonAdd, buttonDelete, buttonReset)\n",
    "\n",
    "def buttonAdd_f(b, variables):\n",
    "    with out:\n",
    "        clear_output(True)\n",
    "        wd.onClickAdd(b, variables)\n",
    "        display()\n",
    "def buttonDelete_f(b, variables):\n",
    "    with out:\n",
    "        clear_output(True)\n",
    "        wd.onClickDelete(b, variables)\n",
    "        display()\n",
    "def buttonResett_f(b, variables):\n",
    "    with out:\n",
    "        clear_output(True)\n",
    "        wd.onClickReset(b, variables)\n",
    "        display()\n",
    "\n",
    "listMaterial = buttonAdd.on_click(functools.partial(buttonAdd_f, variables=variables))\n",
    "buttonDelete.on_click(functools.partial(buttonDelete_f, variables=variables))\n",
    "buttonReset.on_click(functools.partial(buttonResett_f, variables=variables))\n",
    "# listMaterial = buttonAdd.on_click(wd.onClickAdd)\n",
    "# buttonDelete.on_click(wd.onClickDelete)\n",
    "# buttonReset.on_click(wd.onClickReset)\n",
    "out = Output()\n",
    "display(out)"
   ]
  },
  {
   "cell_type": "markdown",
   "metadata": {},
   "source": [
    "<div style=\"margin: 0 auto; padding: 20px; font-family: 'Helvetica', sans-serif; font-size: 16px;\">\n",
    "\n",
    "Here you can see the selected peak mass and related mass-to-charge.\n",
    "\n",
    "</div>\n"
   ]
  },
  {
   "cell_type": "code",
   "execution_count": 218,
   "metadata": {
    "tags": []
   },
   "outputs": [
    {
     "name": "stdout",
     "output_type": "stream",
     "text": [
      "highest peak in the mc histogram: [ 1.10267528 15.53769706 31.17563733]\n",
      "highest peak in the ideal mc histogram: [ 1.01 13.99 27.97]\n"
     ]
    }
   ],
   "source": [
    "peaks_chos = []\n",
    "for i in range(len(variables.peaks_idx)):\n",
    "    peaks_chos.append(variables.peak_x[variables.peaks_idx[i]])\n",
    "peaks_chos = np.array(peaks_chos)\n",
    "listMaterial = np.array(variables.listMaterial)\n",
    "print('highest peak in the mc histogram:', peaks_chos)\n",
    "print('highest peak in the ideal mc histogram:', listMaterial)"
   ]
  },
  {
   "cell_type": "code",
   "execution_count": 219,
   "metadata": {
    "tags": []
   },
   "outputs": [],
   "source": [
    "def shift(mc, a, b, c):\n",
    "    return  a * mc**b + c\n",
    "\n",
    "\n",
    "def shift_calib(mc, mc_ideal):\n",
    "    fitresult, _ = curve_fit(shift, mc, mc_ideal, maxfev=2000)\n",
    "    return fitresult\n",
    "\n",
    "fitresult = shift_calib(peaks_chos,  variables.listMaterial)\n",
    "variables.mc_calib = shift(variables.mc_calib_backup, *fitresult)"
   ]
  },
  {
   "cell_type": "markdown",
   "metadata": {},
   "source": [
    "<div style=\"margin: 0 auto; padding: 20px; font-family: 'Helvetica', sans-serif; font-size: 16px;\">\n",
    "\n",
    "The calibrated mass-to-charge histogram can be checked below.\n",
    "\n",
    "</div>\n"
   ]
  },
  {
   "cell_type": "code",
   "execution_count": 220,
   "metadata": {
    "tags": []
   },
   "outputs": [
    {
     "data": {
      "application/vnd.jupyter.widget-view+json": {
       "model_id": "6e8b3ed99589401aac9cb16bb7059eef",
       "version_major": 2,
       "version_minor": 0
      },
      "text/plain": [
       "interactive(children=(FloatText(value=0.1, description='bin_size'), Dropdown(description='log', options=(('Tru…"
      ]
     },
     "metadata": {},
     "output_type": "display_data"
    }
   ],
   "source": [
    "interact_manual(mc_plot.hist_plot, variables=fixed(variables), bin_size=widgets.FloatText(value=0.1), \n",
    "                log=widgets.Dropdown(options=[('True', True), ('False', False)]), mode=widgets.Dropdown(options=[('normal', 'normal'), ('normalized', 'normalized')]),\n",
    "                target=widgets.Dropdown(options=[('mc', 'mc')]), prominence=widgets.IntText(value=50), selector=fixed('None'), distance=widgets.IntText(value=100), \n",
    "                lim=widgets.IntText(value=400), percent=widgets.IntText(value=50), figname=widgets.Text(value='mc_shifted_hist_calibrated'),\n",
    "                peaks_find_plot=fixed(True), range_plot=fixed(False), selected_area=fixed(False), ranging_mode=fixed(False), save_fig=fixed(True), print_info=fixed(True));"
   ]
  },
  {
   "cell_type": "code",
   "execution_count": 222,
   "metadata": {
    "tags": []
   },
   "outputs": [
    {
     "data": {
      "text/html": [
       "<div>\n",
       "<style scoped>\n",
       "    .dataframe tbody tr th:only-of-type {\n",
       "        vertical-align: middle;\n",
       "    }\n",
       "\n",
       "    .dataframe tbody tr th {\n",
       "        vertical-align: top;\n",
       "    }\n",
       "\n",
       "    .dataframe thead th {\n",
       "        text-align: right;\n",
       "    }\n",
       "</style>\n",
       "<table border=\"1\" class=\"dataframe\">\n",
       "  <thead>\n",
       "    <tr style=\"text-align: right;\">\n",
       "      <th></th>\n",
       "      <th>x (nm)</th>\n",
       "      <th>y (nm)</th>\n",
       "      <th>z (nm)</th>\n",
       "      <th>mc_c (Da)</th>\n",
       "      <th>mc (Da)</th>\n",
       "      <th>high_voltage (V)</th>\n",
       "      <th>pulse</th>\n",
       "      <th>start_counter</th>\n",
       "      <th>t_c (ns)</th>\n",
       "      <th>t (ns)</th>\n",
       "      <th>x_det (cm)</th>\n",
       "      <th>y_det (cm)</th>\n",
       "      <th>pulse_pi</th>\n",
       "      <th>ion_pp</th>\n",
       "    </tr>\n",
       "  </thead>\n",
       "  <tbody>\n",
       "    <tr>\n",
       "      <th>0</th>\n",
       "      <td>0.0</td>\n",
       "      <td>0.0</td>\n",
       "      <td>0.0</td>\n",
       "      <td>28.019929</td>\n",
       "      <td>31.379771</td>\n",
       "      <td>4580.72</td>\n",
       "      <td>687.108</td>\n",
       "      <td>0</td>\n",
       "      <td>0.0</td>\n",
       "      <td>667.797750</td>\n",
       "      <td>0.218776</td>\n",
       "      <td>2.034286</td>\n",
       "      <td>0</td>\n",
       "      <td>0</td>\n",
       "    </tr>\n",
       "    <tr>\n",
       "      <th>1</th>\n",
       "      <td>0.0</td>\n",
       "      <td>0.0</td>\n",
       "      <td>0.0</td>\n",
       "      <td>25.997474</td>\n",
       "      <td>29.556835</td>\n",
       "      <td>4580.72</td>\n",
       "      <td>687.108</td>\n",
       "      <td>0</td>\n",
       "      <td>0.0</td>\n",
       "      <td>648.780516</td>\n",
       "      <td>-1.998367</td>\n",
       "      <td>-0.091429</td>\n",
       "      <td>0</td>\n",
       "      <td>0</td>\n",
       "    </tr>\n",
       "    <tr>\n",
       "      <th>2</th>\n",
       "      <td>0.0</td>\n",
       "      <td>0.0</td>\n",
       "      <td>0.0</td>\n",
       "      <td>26.588803</td>\n",
       "      <td>30.162143</td>\n",
       "      <td>4580.72</td>\n",
       "      <td>687.108</td>\n",
       "      <td>0</td>\n",
       "      <td>0.0</td>\n",
       "      <td>651.955770</td>\n",
       "      <td>-1.662041</td>\n",
       "      <td>-0.088163</td>\n",
       "      <td>0</td>\n",
       "      <td>0</td>\n",
       "    </tr>\n",
       "    <tr>\n",
       "      <th>3</th>\n",
       "      <td>0.0</td>\n",
       "      <td>0.0</td>\n",
       "      <td>0.0</td>\n",
       "      <td>27.039481</td>\n",
       "      <td>30.463507</td>\n",
       "      <td>4580.72</td>\n",
       "      <td>687.108</td>\n",
       "      <td>0</td>\n",
       "      <td>0.0</td>\n",
       "      <td>651.921480</td>\n",
       "      <td>-0.976327</td>\n",
       "      <td>-0.760816</td>\n",
       "      <td>0</td>\n",
       "      <td>0</td>\n",
       "    </tr>\n",
       "    <tr>\n",
       "      <th>4</th>\n",
       "      <td>0.0</td>\n",
       "      <td>0.0</td>\n",
       "      <td>0.0</td>\n",
       "      <td>28.108330</td>\n",
       "      <td>32.030306</td>\n",
       "      <td>4580.72</td>\n",
       "      <td>687.108</td>\n",
       "      <td>0</td>\n",
       "      <td>0.0</td>\n",
       "      <td>675.574722</td>\n",
       "      <td>-2.128980</td>\n",
       "      <td>0.398367</td>\n",
       "      <td>0</td>\n",
       "      <td>0</td>\n",
       "    </tr>\n",
       "    <tr>\n",
       "      <th>...</th>\n",
       "      <td>...</td>\n",
       "      <td>...</td>\n",
       "      <td>...</td>\n",
       "      <td>...</td>\n",
       "      <td>...</td>\n",
       "      <td>...</td>\n",
       "      <td>...</td>\n",
       "      <td>...</td>\n",
       "      <td>...</td>\n",
       "      <td>...</td>\n",
       "      <td>...</td>\n",
       "      <td>...</td>\n",
       "      <td>...</td>\n",
       "      <td>...</td>\n",
       "    </tr>\n",
       "    <tr>\n",
       "      <th>594715</th>\n",
       "      <td>0.0</td>\n",
       "      <td>0.0</td>\n",
       "      <td>0.0</td>\n",
       "      <td>28.354706</td>\n",
       "      <td>31.218738</td>\n",
       "      <td>5121.26</td>\n",
       "      <td>768.189</td>\n",
       "      <td>0</td>\n",
       "      <td>0.0</td>\n",
       "      <td>631.642374</td>\n",
       "      <td>1.857959</td>\n",
       "      <td>0.734694</td>\n",
       "      <td>0</td>\n",
       "      <td>0</td>\n",
       "    </tr>\n",
       "    <tr>\n",
       "      <th>594716</th>\n",
       "      <td>0.0</td>\n",
       "      <td>0.0</td>\n",
       "      <td>0.0</td>\n",
       "      <td>28.007555</td>\n",
       "      <td>30.473116</td>\n",
       "      <td>5121.26</td>\n",
       "      <td>768.189</td>\n",
       "      <td>0</td>\n",
       "      <td>0.0</td>\n",
       "      <td>640.242306</td>\n",
       "      <td>2.922449</td>\n",
       "      <td>1.498776</td>\n",
       "      <td>0</td>\n",
       "      <td>0</td>\n",
       "    </tr>\n",
       "    <tr>\n",
       "      <th>594717</th>\n",
       "      <td>0.0</td>\n",
       "      <td>0.0</td>\n",
       "      <td>0.0</td>\n",
       "      <td>28.169585</td>\n",
       "      <td>31.519006</td>\n",
       "      <td>5121.26</td>\n",
       "      <td>768.189</td>\n",
       "      <td>0</td>\n",
       "      <td>0.0</td>\n",
       "      <td>630.222768</td>\n",
       "      <td>0.313469</td>\n",
       "      <td>1.453061</td>\n",
       "      <td>0</td>\n",
       "      <td>0</td>\n",
       "    </tr>\n",
       "    <tr>\n",
       "      <th>594718</th>\n",
       "      <td>0.0</td>\n",
       "      <td>0.0</td>\n",
       "      <td>0.0</td>\n",
       "      <td>28.038052</td>\n",
       "      <td>31.656391</td>\n",
       "      <td>5121.26</td>\n",
       "      <td>768.189</td>\n",
       "      <td>0</td>\n",
       "      <td>0.0</td>\n",
       "      <td>628.309386</td>\n",
       "      <td>-0.927347</td>\n",
       "      <td>0.153469</td>\n",
       "      <td>0</td>\n",
       "      <td>0</td>\n",
       "    </tr>\n",
       "    <tr>\n",
       "      <th>594719</th>\n",
       "      <td>0.0</td>\n",
       "      <td>0.0</td>\n",
       "      <td>0.0</td>\n",
       "      <td>26.033765</td>\n",
       "      <td>29.354097</td>\n",
       "      <td>5121.26</td>\n",
       "      <td>768.189</td>\n",
       "      <td>0</td>\n",
       "      <td>0.0</td>\n",
       "      <td>605.945448</td>\n",
       "      <td>-0.800000</td>\n",
       "      <td>0.179592</td>\n",
       "      <td>0</td>\n",
       "      <td>0</td>\n",
       "    </tr>\n",
       "  </tbody>\n",
       "</table>\n",
       "<p>594720 rows × 14 columns</p>\n",
       "</div>"
      ],
      "text/plain": [
       "        x (nm)  y (nm)  z (nm)  mc_c (Da)    mc (Da)  high_voltage (V)  \\\n",
       "0          0.0     0.0     0.0  28.019929  31.379771           4580.72   \n",
       "1          0.0     0.0     0.0  25.997474  29.556835           4580.72   \n",
       "2          0.0     0.0     0.0  26.588803  30.162143           4580.72   \n",
       "3          0.0     0.0     0.0  27.039481  30.463507           4580.72   \n",
       "4          0.0     0.0     0.0  28.108330  32.030306           4580.72   \n",
       "...        ...     ...     ...        ...        ...               ...   \n",
       "594715     0.0     0.0     0.0  28.354706  31.218738           5121.26   \n",
       "594716     0.0     0.0     0.0  28.007555  30.473116           5121.26   \n",
       "594717     0.0     0.0     0.0  28.169585  31.519006           5121.26   \n",
       "594718     0.0     0.0     0.0  28.038052  31.656391           5121.26   \n",
       "594719     0.0     0.0     0.0  26.033765  29.354097           5121.26   \n",
       "\n",
       "          pulse  start_counter  t_c (ns)      t (ns)  x_det (cm)  y_det (cm)  \\\n",
       "0       687.108              0       0.0  667.797750    0.218776    2.034286   \n",
       "1       687.108              0       0.0  648.780516   -1.998367   -0.091429   \n",
       "2       687.108              0       0.0  651.955770   -1.662041   -0.088163   \n",
       "3       687.108              0       0.0  651.921480   -0.976327   -0.760816   \n",
       "4       687.108              0       0.0  675.574722   -2.128980    0.398367   \n",
       "...         ...            ...       ...         ...         ...         ...   \n",
       "594715  768.189              0       0.0  631.642374    1.857959    0.734694   \n",
       "594716  768.189              0       0.0  640.242306    2.922449    1.498776   \n",
       "594717  768.189              0       0.0  630.222768    0.313469    1.453061   \n",
       "594718  768.189              0       0.0  628.309386   -0.927347    0.153469   \n",
       "594719  768.189              0       0.0  605.945448   -0.800000    0.179592   \n",
       "\n",
       "        pulse_pi  ion_pp  \n",
       "0              0       0  \n",
       "1              0       0  \n",
       "2              0       0  \n",
       "3              0       0  \n",
       "4              0       0  \n",
       "...          ...     ...  \n",
       "594715         0       0  \n",
       "594716         0       0  \n",
       "594717         0       0  \n",
       "594718         0       0  \n",
       "594719         0       0  \n",
       "\n",
       "[594720 rows x 14 columns]"
      ]
     },
     "execution_count": 222,
     "metadata": {},
     "output_type": "execute_result"
    }
   ],
   "source": [
    "data['mc_c (Da)'] = variables.mc_calib\n",
    "data"
   ]
  },
  {
   "cell_type": "code",
   "execution_count": 223,
   "metadata": {
    "tags": []
   },
   "outputs": [],
   "source": [
    "data_c = data.copy(deep = True)"
   ]
  },
  {
   "cell_type": "code",
   "execution_count": 224,
   "metadata": {
    "tags": []
   },
   "outputs": [
    {
     "name": "stdout",
     "output_type": "stream",
     "text": [
      "The number of ions with negative mc are: 0\n"
     ]
    }
   ],
   "source": [
    "# Remove negative mc\n",
    "threshold = 0\n",
    "mc_t = data_c['mc_c (Da)'].to_numpy()\n",
    "mc_t_mask = (mc_t <= threshold)\n",
    "print('The number of ions with negative mc are:', len(mc_t_mask[mc_t_mask==True]))\n",
    "data_c.drop(np.where(mc_t_mask)[0], inplace=True)\n",
    "data_c.reset_index(inplace=True, drop=True)"
   ]
  },
  {
   "cell_type": "markdown",
   "metadata": {
    "tags": []
   },
   "source": [
    "<div style=\"margin: 0 auto; padding: 20px; font-family: 'Helvetica', sans-serif; font-size: 16px;\">\n",
    "\n",
    "Save the cropped dataset. You can specify te output format from list below. The output formats are HDF5, EPOS, POS, ATO, and CSV. The output file will be saved in the same directory as the original dataset file in a new directory nammed load_crop.\n",
    "</div>"
   ]
  },
  {
   "cell_type": "code",
   "execution_count": 225,
   "metadata": {
    "tags": []
   },
   "outputs": [
    {
     "data": {
      "application/vnd.jupyter.widget-view+json": {
       "model_id": "679c0021580a4e0dbad1666add89436b",
       "version_major": 2,
       "version_minor": 0
      },
      "text/plain": [
       "interactive(children=(Dropdown(description='hdf', options=(('True', True), ('False', False)), value=True), Dro…"
      ]
     },
     "metadata": {},
     "output_type": "display_data"
    }
   ],
   "source": [
    "interact_manual(data_tools.save_data, data=fixed(data_c), variables=fixed(variables),\n",
    "                hdf=widgets.Dropdown(options=[('True', True), ('False', False)]),\n",
    "                epos=widgets.Dropdown(options=[('False', False), ('True', True)]), \n",
    "                pos=widgets.Dropdown(options=[('False', False), ('True', True)]), \n",
    "                ato_6v=widgets.Dropdown(options=[('False', False), ('True', True)]), \n",
    "                csv=widgets.Dropdown(options=[('False', False), ('True', True)]));"
   ]
  },
  {
   "cell_type": "code",
   "execution_count": null,
   "metadata": {},
   "outputs": [],
   "source": []
  }
 ],
 "metadata": {
  "kernelspec": {
   "display_name": "Python 3 (ipykernel)",
   "language": "python",
   "name": "python3"
  },
  "language_info": {
   "codemirror_mode": {
    "name": "ipython",
    "version": 3
   },
   "file_extension": ".py",
   "mimetype": "text/x-python",
   "name": "python",
   "nbconvert_exporter": "python",
   "pygments_lexer": "ipython3",
   "version": "3.11.5"
  },
  "widgets": {
   "application/vnd.jupyter.widget-state+json": {
    "state": {
     "012e1e554613436eaa042a13d1b1e8bb": {
      "model_module": "@jupyter-widgets/base",
      "model_module_version": "2.0.0",
      "model_name": "LayoutModel",
      "state": {}
     },
     "0664a450973c4034b5da35ae88c0d2ab": {
      "model_module": "@jupyter-widgets/controls",
      "model_module_version": "2.0.0",
      "model_name": "FloatTextModel",
      "state": {
       "description": "Flight path length:",
       "layout": "IPY_MODEL_320b0cdccd9c4073b5b1520e73adbaac",
       "step": null,
       "style": "IPY_MODEL_fafe41d19740454bb3472d985fb6d8ea",
       "value": 110
      }
     },
     "099b7acce90e4e8bad045d18c90427a2": {
      "model_module": "@jupyter-widgets/controls",
      "model_module_version": "2.0.0",
      "model_name": "VBoxModel",
      "state": {
       "_dom_classes": [
        "widget-interact"
       ],
       "children": [
        "IPY_MODEL_547b15ddd63442b8846c6b5a9a82e8d1",
        "IPY_MODEL_84040d8318894e7fbe1a2c6b990c5bf3",
        "IPY_MODEL_626c30ac1a7749f59c95a5504d781b1c",
        "IPY_MODEL_5de9c33f6b0142d98f2f72288a1f9801",
        "IPY_MODEL_721e15f969f94026aaada14c62af7bbe",
        "IPY_MODEL_bf5d49f4dbf747bf8a10a14f9b116cca",
        "IPY_MODEL_66ba47186eff43c6b3d555298a35c017",
        "IPY_MODEL_3ffbf4dcd69d44dbb535081c4d9264e4",
        "IPY_MODEL_dce94f430f2141099de6755217ae5b14"
       ],
       "layout": "IPY_MODEL_6048a00bddbf4052a02dd6ef0f5b7e22"
      }
     },
     "0cbedab782b1421a952986ef3d7dfd8e": {
      "model_module": "@jupyter-widgets/controls",
      "model_module_version": "2.0.0",
      "model_name": "DropdownModel",
      "state": {
       "_options_labels": [
        "True",
        "Flase"
       ],
       "description": "peaks_find_plot",
       "index": 0,
       "layout": "IPY_MODEL_57dfea2c494141ab85c7a8875c2d60f6",
       "style": "IPY_MODEL_6322f9f948eb4f61a684a5b6bf364d55"
      }
     },
     "0e02621b736d41d9a210fcdbb4d9fc23": {
      "model_module": "@jupyter-widgets/controls",
      "model_module_version": "2.0.0",
      "model_name": "DropdownModel",
      "state": {
       "_options_labels": [
        "PyCCAPT",
        "leap_epos",
        "leap_pos",
        "ato_v6"
       ],
       "description": "Data mode:",
       "index": 0,
       "layout": "IPY_MODEL_5ee7e50d8774459fa26af8d17ea261b8",
       "style": "IPY_MODEL_30ad1281660b437582481ee7ceea39ca"
      }
     },
     "0e7cb37e597a4c079530968345fe2a69": {
      "model_module": "@jupyter-widgets/base",
      "model_module_version": "2.0.0",
      "model_name": "LayoutModel",
      "state": {}
     },
     "10e62314721243a099d80146d3e20064": {
      "model_module": "@jupyter-widgets/controls",
      "model_module_version": "2.0.0",
      "model_name": "ButtonStyleModel",
      "state": {
       "font_family": null,
       "font_size": null,
       "font_style": null,
       "font_variant": null,
       "font_weight": null,
       "text_color": null,
       "text_decoration": null
      }
     },
     "113863f5f997435ba5f015b7f43c5b7b": {
      "model_module": "@jupyter-widgets/base",
      "model_module_version": "2.0.0",
      "model_name": "LayoutModel",
      "state": {}
     },
     "1799ef94faf043f699b8074a37aaa9b8": {
      "model_module": "@jupyter-widgets/base",
      "model_module_version": "2.0.0",
      "model_name": "LayoutModel",
      "state": {}
     },
     "18b5fa2e78cd4a10bf4243e3274cefd1": {
      "model_module": "@jupyter-widgets/controls",
      "model_module_version": "2.0.0",
      "model_name": "DropdownModel",
      "state": {
       "_options_labels": [
        "voltage",
        "laser"
       ],
       "description": "Pulse mode:",
       "index": 0,
       "layout": "IPY_MODEL_113863f5f997435ba5f015b7f43c5b7b",
       "style": "IPY_MODEL_b0768c80a9ab417eab642ca9da874e27"
      }
     },
     "1919189feb4c4aac8c36ea965685605b": {
      "model_module": "@jupyter-widgets/controls",
      "model_module_version": "2.0.0",
      "model_name": "DescriptionStyleModel",
      "state": {
       "description_width": ""
      }
     },
     "1a2aaacc54254af487d2d4d73e051f63": {
      "model_module": "@jupyter-widgets/controls",
      "model_module_version": "2.0.0",
      "model_name": "ButtonModel",
      "state": {
       "description": "load dataset",
       "layout": "IPY_MODEL_a3c12ff4f7bd4abe8b9fd8b45d8697c8",
       "style": "IPY_MODEL_65ea6110820a41b1b0ac4c93ad665861",
       "tooltip": null
      }
     },
     "1a7c7a2e7e584d109102715a993bb9fb": {
      "model_module": "@jupyter-widgets/base",
      "model_module_version": "2.0.0",
      "model_name": "LayoutModel",
      "state": {}
     },
     "1ead8aff724c45eca22b7935e66f9da0": {
      "model_module": "@jupyter-widgets/controls",
      "model_module_version": "2.0.0",
      "model_name": "DescriptionStyleModel",
      "state": {
       "description_width": ""
      }
     },
     "1fd745a9a877464baf4632dadf2665af": {
      "model_module": "@jupyter-widgets/base",
      "model_module_version": "2.0.0",
      "model_name": "LayoutModel",
      "state": {}
     },
     "226a2081152046e2945d475b3bb41414": {
      "model_module": "@jupyter-widgets/controls",
      "model_module_version": "2.0.0",
      "model_name": "DescriptionStyleModel",
      "state": {
       "description_width": ""
      }
     },
     "23f18034734642ffb33806868e1f2581": {
      "model_module": "@jupyter-widgets/controls",
      "model_module_version": "2.0.0",
      "model_name": "ButtonModel",
      "state": {
       "description": "Run Interact",
       "layout": "IPY_MODEL_e43e4f50d082426daa6c3608bb016f90",
       "style": "IPY_MODEL_565ac3d5280e4963b160add86f94132b",
       "tooltip": null
      }
     },
     "249fbfed32eb42a2a7d77db6ad6127f9": {
      "model_module": "@jupyter-widgets/controls",
      "model_module_version": "2.0.0",
      "model_name": "DescriptionStyleModel",
      "state": {
       "description_width": ""
      }
     },
     "254307d9f3a14c85b971edb7b2882ccf": {
      "model_module": "@jupyter-widgets/controls",
      "model_module_version": "2.0.0",
      "model_name": "FloatTextModel",
      "state": {
       "description": "Max mc:",
       "layout": "IPY_MODEL_62342f36d09644ef93668b871592b1f8",
       "step": null,
       "style": "IPY_MODEL_d85a15fcc40941b19760ef74c7e0b415",
       "value": 400
      }
     },
     "293d648461f14e4baa71458547305f06": {
      "model_module": "@jupyter-widgets/controls",
      "model_module_version": "2.0.0",
      "model_name": "IntTextModel",
      "state": {
       "description": "distance",
       "layout": "IPY_MODEL_b92a5e0cc06744f2be80fb70f43818ec",
       "step": 1,
       "style": "IPY_MODEL_bbcb4202d5194e9890f6e66ebff25fa1",
       "value": 100
      }
     },
     "2ba5601def6445508ec0d784c1c8341b": {
      "model_module": "@jupyter-widgets/controls",
      "model_module_version": "2.0.0",
      "model_name": "DescriptionStyleModel",
      "state": {
       "description_width": ""
      }
     },
     "2d16de73963a4ee6bf1e3c4ce6a1870e": {
      "model_module": "@jupyter-widgets/controls",
      "model_module_version": "2.0.0",
      "model_name": "TextStyleModel",
      "state": {
       "description_width": "",
       "font_size": null,
       "text_color": null
      }
     },
     "30ad1281660b437582481ee7ceea39ca": {
      "model_module": "@jupyter-widgets/controls",
      "model_module_version": "2.0.0",
      "model_name": "DescriptionStyleModel",
      "state": {
       "description_width": ""
      }
     },
     "320b0cdccd9c4073b5b1520e73adbaac": {
      "model_module": "@jupyter-widgets/base",
      "model_module_version": "2.0.0",
      "model_name": "LayoutModel",
      "state": {}
     },
     "375dd984f2fa483284cd73a590395cdf": {
      "model_module": "@jupyter-widgets/base",
      "model_module_version": "2.0.0",
      "model_name": "LayoutModel",
      "state": {}
     },
     "3906f2a1c43a4584888cabe305c6052d": {
      "model_module": "@jupyter-widgets/controls",
      "model_module_version": "2.0.0",
      "model_name": "CheckboxModel",
      "state": {
       "description": "save_fig",
       "disabled": false,
       "layout": "IPY_MODEL_5a8158d3a81e467688feb0eacfedf0a4",
       "style": "IPY_MODEL_730f74c3eed74f37b04fbdef8cf3e434",
       "value": true
      }
     },
     "3babba31efb741e3b41c05e4716d1c8c": {
      "model_module": "@jupyter-widgets/base",
      "model_module_version": "2.0.0",
      "model_name": "LayoutModel",
      "state": {}
     },
     "3daa64a1bf704a9d8c81c560a5ec320e": {
      "model_module": "@jupyter-widgets/controls",
      "model_module_version": "2.0.0",
      "model_name": "FloatTextModel",
      "state": {
       "description": "Flight path length:",
       "layout": "IPY_MODEL_4979a69578534de39b151cfd20f9870b",
       "step": null,
       "style": "IPY_MODEL_cacc4ccf56ca42499de2e000623abbae",
       "value": 110
      }
     },
     "3ffbf4dcd69d44dbb535081c4d9264e4": {
      "model_module": "@jupyter-widgets/controls",
      "model_module_version": "2.0.0",
      "model_name": "ButtonModel",
      "state": {
       "description": "Run Interact",
       "layout": "IPY_MODEL_a82e091f8def4ef18b3f62c0a877816d",
       "style": "IPY_MODEL_10e62314721243a099d80146d3e20064",
       "tooltip": null
      }
     },
     "463be9afadc14b17bd514cafb1675afc": {
      "model_module": "@jupyter-widgets/base",
      "model_module_version": "2.0.0",
      "model_name": "LayoutModel",
      "state": {}
     },
     "470eae9f25e44bfeb94fb412b77a81ba": {
      "model_module": "@jupyter-widgets/controls",
      "model_module_version": "2.0.0",
      "model_name": "IntTextModel",
      "state": {
       "description": "prominence",
       "layout": "IPY_MODEL_463be9afadc14b17bd514cafb1675afc",
       "step": 1,
       "style": "IPY_MODEL_b8805d50e5bb4827a1ca0d92f7e07dea",
       "value": 100
      }
     },
     "489d08bb354c447da3d2ad5c9222d6ae": {
      "model_module": "@jupyter-widgets/controls",
      "model_module_version": "2.0.0",
      "model_name": "DescriptionStyleModel",
      "state": {
       "description_width": ""
      }
     },
     "4979a69578534de39b151cfd20f9870b": {
      "model_module": "@jupyter-widgets/base",
      "model_module_version": "2.0.0",
      "model_name": "LayoutModel",
      "state": {}
     },
     "49925311567540d390dc056de57fce67": {
      "model_module": "@jupyter-widgets/controls",
      "model_module_version": "2.0.0",
      "model_name": "CheckboxStyleModel",
      "state": {
       "description_width": ""
      }
     },
     "4a2a9b45c56a444ea9ca97ee213e5768": {
      "model_module": "@jupyter-widgets/controls",
      "model_module_version": "2.0.0",
      "model_name": "DescriptionStyleModel",
      "state": {
       "description_width": ""
      }
     },
     "4c18be6eeb4d43c0a9c3c1834618770f": {
      "model_module": "@jupyter-widgets/controls",
      "model_module_version": "2.0.0",
      "model_name": "DropdownModel",
      "state": {
       "_options_labels": [
        "PyCCAPT",
        "leap_epos",
        "leap_pos",
        "ato_v6"
       ],
       "description": "Data mode:",
       "index": 0,
       "layout": "IPY_MODEL_5d4b32bdcb664b388ea562404e312d18",
       "style": "IPY_MODEL_4de147673a8f49068865596a13dbdbc8"
      }
     },
     "4de147673a8f49068865596a13dbdbc8": {
      "model_module": "@jupyter-widgets/controls",
      "model_module_version": "2.0.0",
      "model_name": "DescriptionStyleModel",
      "state": {
       "description_width": ""
      }
     },
     "52e3d83adb8e4b31a768889d1cb4d2f8": {
      "model_module": "@jupyter-widgets/controls",
      "model_module_version": "2.0.0",
      "model_name": "DescriptionStyleModel",
      "state": {
       "description_width": ""
      }
     },
     "547b15ddd63442b8846c6b5a9a82e8d1": {
      "model_module": "@jupyter-widgets/controls",
      "model_module_version": "2.0.0",
      "model_name": "FloatTextModel",
      "state": {
       "description": "max_tof",
       "layout": "IPY_MODEL_f0637f8f15b44681915872a49aeb937a",
       "step": null,
       "style": "IPY_MODEL_1919189feb4c4aac8c36ea965685605b",
       "value": 5010
      }
     },
     "5647209deca84481b492ecbab93a04f9": {
      "model_module": "@jupyter-widgets/base",
      "model_module_version": "2.0.0",
      "model_name": "LayoutModel",
      "state": {}
     },
     "565ac3d5280e4963b160add86f94132b": {
      "model_module": "@jupyter-widgets/controls",
      "model_module_version": "2.0.0",
      "model_name": "ButtonStyleModel",
      "state": {
       "font_family": null,
       "font_size": null,
       "font_style": null,
       "font_variant": null,
       "font_weight": null,
       "text_color": null,
       "text_decoration": null
      }
     },
     "57dfea2c494141ab85c7a8875c2d60f6": {
      "model_module": "@jupyter-widgets/base",
      "model_module_version": "2.0.0",
      "model_name": "LayoutModel",
      "state": {}
     },
     "5a8158d3a81e467688feb0eacfedf0a4": {
      "model_module": "@jupyter-widgets/base",
      "model_module_version": "2.0.0",
      "model_name": "LayoutModel",
      "state": {}
     },
     "5d4b32bdcb664b388ea562404e312d18": {
      "model_module": "@jupyter-widgets/base",
      "model_module_version": "2.0.0",
      "model_name": "LayoutModel",
      "state": {}
     },
     "5de9c33f6b0142d98f2f72288a1f9801": {
      "model_module": "@jupyter-widgets/controls",
      "model_module_version": "2.0.0",
      "model_name": "DropdownModel",
      "state": {
       "_options_labels": [
        "True",
        "False"
       ],
       "description": "dc_plot",
       "index": 0,
       "layout": "IPY_MODEL_db4e1d56e36544fc8a0529ff5582d072",
       "style": "IPY_MODEL_226a2081152046e2945d475b3bb41414"
      }
     },
     "5e16e89f372c4b459f48811ce6af1120": {
      "model_module": "@jupyter-widgets/base",
      "model_module_version": "2.0.0",
      "model_name": "LayoutModel",
      "state": {}
     },
     "5ee7e50d8774459fa26af8d17ea261b8": {
      "model_module": "@jupyter-widgets/base",
      "model_module_version": "2.0.0",
      "model_name": "LayoutModel",
      "state": {}
     },
     "5fe57ea60c084a86a3db7130bc667cd0": {
      "model_module": "@jupyter-widgets/controls",
      "model_module_version": "2.0.0",
      "model_name": "DescriptionStyleModel",
      "state": {
       "description_width": ""
      }
     },
     "6048a00bddbf4052a02dd6ef0f5b7e22": {
      "model_module": "@jupyter-widgets/base",
      "model_module_version": "2.0.0",
      "model_name": "LayoutModel",
      "state": {}
     },
     "62342f36d09644ef93668b871592b1f8": {
      "model_module": "@jupyter-widgets/base",
      "model_module_version": "2.0.0",
      "model_name": "LayoutModel",
      "state": {}
     },
     "6268aee60f9f4d56af502ef5486823a8": {
      "model_module": "@jupyter-widgets/base",
      "model_module_version": "2.0.0",
      "model_name": "LayoutModel",
      "state": {}
     },
     "626c30ac1a7749f59c95a5504d781b1c": {
      "model_module": "@jupyter-widgets/controls",
      "model_module_version": "2.0.0",
      "model_name": "DropdownModel",
      "state": {
       "_options_labels": [
        "False",
        "True"
       ],
       "description": "pulse_plot",
       "index": 0,
       "layout": "IPY_MODEL_1799ef94faf043f699b8074a37aaa9b8",
       "style": "IPY_MODEL_52e3d83adb8e4b31a768889d1cb4d2f8"
      }
     },
     "6322f9f948eb4f61a684a5b6bf364d55": {
      "model_module": "@jupyter-widgets/controls",
      "model_module_version": "2.0.0",
      "model_name": "DescriptionStyleModel",
      "state": {
       "description_width": ""
      }
     },
     "655873798f374715b94cc20f0c310b4a": {
      "model_module": "@jupyter-widgets/controls",
      "model_module_version": "2.0.0",
      "model_name": "DescriptionStyleModel",
      "state": {
       "description_width": ""
      }
     },
     "65dbf14f87a94e4b8348e3910882f64d": {
      "model_module": "@jupyter-widgets/base",
      "model_module_version": "2.0.0",
      "model_name": "LayoutModel",
      "state": {}
     },
     "65ea6110820a41b1b0ac4c93ad665861": {
      "model_module": "@jupyter-widgets/controls",
      "model_module_version": "2.0.0",
      "model_name": "ButtonStyleModel",
      "state": {
       "font_family": null,
       "font_size": null,
       "font_style": null,
       "font_variant": null,
       "font_weight": null,
       "text_color": null,
       "text_decoration": null
      }
     },
     "66ba47186eff43c6b3d555298a35c017": {
      "model_module": "@jupyter-widgets/controls",
      "model_module_version": "2.0.0",
      "model_name": "TextModel",
      "state": {
       "description": "figname",
       "layout": "IPY_MODEL_cda222137e2a4601b48e8dab10cbb911",
       "style": "IPY_MODEL_a5f594994edb4e2c947343c620963270",
       "value": "exp_hist"
      }
     },
     "721e15f969f94026aaada14c62af7bbe": {
      "model_module": "@jupyter-widgets/controls",
      "model_module_version": "2.0.0",
      "model_name": "DropdownModel",
      "state": {
       "_options_labels": [
        "voltage",
        "laser"
       ],
       "description": "pulse_mode",
       "index": 0,
       "layout": "IPY_MODEL_b404f4f774774850ba95ef880e7ffc99",
       "style": "IPY_MODEL_249fbfed32eb42a2a7d77db6ad6127f9"
      }
     },
     "730f74c3eed74f37b04fbdef8cf3e434": {
      "model_module": "@jupyter-widgets/controls",
      "model_module_version": "2.0.0",
      "model_name": "CheckboxStyleModel",
      "state": {
       "description_width": ""
      }
     },
     "7af2434b76f141f3bb99348933c64d94": {
      "model_module": "@jupyter-widgets/base",
      "model_module_version": "2.0.0",
      "model_name": "LayoutModel",
      "state": {}
     },
     "7c49a73a43f8488f945e492d3ab7eb6c": {
      "model_module": "@jupyter-widgets/controls",
      "model_module_version": "2.0.0",
      "model_name": "DescriptionStyleModel",
      "state": {
       "description_width": ""
      }
     },
     "7dbbe6ea3a4647f4aabe221f8882e3f8": {
      "model_module": "@jupyter-widgets/controls",
      "model_module_version": "2.0.0",
      "model_name": "DescriptionStyleModel",
      "state": {
       "description_width": ""
      }
     },
     "7f507cf99e2a4b7f803c319aa0ee4cd7": {
      "model_module": "@jupyter-widgets/controls",
      "model_module_version": "2.0.0",
      "model_name": "DescriptionStyleModel",
      "state": {
       "description_width": ""
      }
     },
     "84040d8318894e7fbe1a2c6b990c5bf3": {
      "model_module": "@jupyter-widgets/controls",
      "model_module_version": "2.0.0",
      "model_name": "FloatTextModel",
      "state": {
       "description": "frac",
       "layout": "IPY_MODEL_65dbf14f87a94e4b8348e3910882f64d",
       "step": null,
       "style": "IPY_MODEL_f7befc4da19441fba1dc1a2d820ea3bc",
       "value": 1
      }
     },
     "8b7c2f74e2204c99b63ab4ec203b8557": {
      "model_module": "@jupyter-widgets/controls",
      "model_module_version": "2.0.0",
      "model_name": "DropdownModel",
      "state": {
       "_options_labels": [
        "mc",
        "tof"
       ],
       "description": "target",
       "index": 0,
       "layout": "IPY_MODEL_012e1e554613436eaa042a13d1b1e8bb",
       "style": "IPY_MODEL_97a2b4f909614eea9c9ca178865405c1"
      }
     },
     "8c0d335f6b5f4064a02ccc46047843df": {
      "model_module": "@jupyter-widgets/controls",
      "model_module_version": "2.0.0",
      "model_name": "DescriptionStyleModel",
      "state": {
       "description_width": ""
      }
     },
     "908c6c239ced4f87b7e4dfa62d9ebf6a": {
      "model_module": "@jupyter-widgets/controls",
      "model_module_version": "2.0.0",
      "model_name": "FloatTextModel",
      "state": {
       "description": "Detector diameter:",
       "layout": "IPY_MODEL_f1195641b2f442628acc1653964d75a3",
       "step": null,
       "style": "IPY_MODEL_c5e15e6cf5a0499d9ea62c293ed1f750",
       "value": 80
      }
     },
     "9365e718da21417b8df29081d579502b": {
      "model_module": "@jupyter-widgets/output",
      "model_module_version": "1.0.0",
      "model_name": "OutputModel",
      "state": {
       "layout": "IPY_MODEL_7af2434b76f141f3bb99348933c64d94"
      }
     },
     "93bb92e0bab94937b3a5cd60bd1a3cba": {
      "model_module": "@jupyter-widgets/controls",
      "model_module_version": "2.0.0",
      "model_name": "CheckboxModel",
      "state": {
       "description": "ranging_mode",
       "disabled": false,
       "layout": "IPY_MODEL_a82effc95f964571bae30e63929b565f",
       "style": "IPY_MODEL_49925311567540d390dc056de57fce67",
       "value": false
      }
     },
     "97a2b4f909614eea9c9ca178865405c1": {
      "model_module": "@jupyter-widgets/controls",
      "model_module_version": "2.0.0",
      "model_name": "DescriptionStyleModel",
      "state": {
       "description_width": ""
      }
     },
     "a3c12ff4f7bd4abe8b9fd8b45d8697c8": {
      "model_module": "@jupyter-widgets/base",
      "model_module_version": "2.0.0",
      "model_name": "LayoutModel",
      "state": {}
     },
     "a5afc00580b64502a57e950841eaf10a": {
      "model_module": "@jupyter-widgets/controls",
      "model_module_version": "2.0.0",
      "model_name": "FloatTextModel",
      "state": {
       "description": "Max mc:",
       "layout": "IPY_MODEL_ebc8c947f9b14b5aa8547622c170b60d",
       "step": null,
       "style": "IPY_MODEL_8c0d335f6b5f4064a02ccc46047843df",
       "value": 400
      }
     },
     "a5c90a38ebf64fb6aabc7896cab26725": {
      "model_module": "@jupyter-widgets/controls",
      "model_module_version": "2.0.0",
      "model_name": "DropdownModel",
      "state": {
       "_options_labels": [
        "normal",
        "normalized"
       ],
       "description": "mode",
       "index": 0,
       "layout": "IPY_MODEL_5647209deca84481b492ecbab93a04f9",
       "style": "IPY_MODEL_7dbbe6ea3a4647f4aabe221f8882e3f8"
      }
     },
     "a5f594994edb4e2c947343c620963270": {
      "model_module": "@jupyter-widgets/controls",
      "model_module_version": "2.0.0",
      "model_name": "TextStyleModel",
      "state": {
       "description_width": "",
       "font_size": null,
       "text_color": null
      }
     },
     "a82e091f8def4ef18b3f62c0a877816d": {
      "model_module": "@jupyter-widgets/base",
      "model_module_version": "2.0.0",
      "model_name": "LayoutModel",
      "state": {}
     },
     "a82effc95f964571bae30e63929b565f": {
      "model_module": "@jupyter-widgets/base",
      "model_module_version": "2.0.0",
      "model_name": "LayoutModel",
      "state": {}
     },
     "a969541cc1624d4ca787436c2658ac7e": {
      "model_module": "@jupyter-widgets/base",
      "model_module_version": "2.0.0",
      "model_name": "LayoutModel",
      "state": {}
     },
     "a9c6750985b94672a73ea95736c7125c": {
      "model_module": "@jupyter-widgets/base",
      "model_module_version": "2.0.0",
      "model_name": "LayoutModel",
      "state": {}
     },
     "b0768c80a9ab417eab642ca9da874e27": {
      "model_module": "@jupyter-widgets/controls",
      "model_module_version": "2.0.0",
      "model_name": "DescriptionStyleModel",
      "state": {
       "description_width": ""
      }
     },
     "b404f4f774774850ba95ef880e7ffc99": {
      "model_module": "@jupyter-widgets/base",
      "model_module_version": "2.0.0",
      "model_name": "LayoutModel",
      "state": {}
     },
     "b8805d50e5bb4827a1ca0d92f7e07dea": {
      "model_module": "@jupyter-widgets/controls",
      "model_module_version": "2.0.0",
      "model_name": "DescriptionStyleModel",
      "state": {
       "description_width": ""
      }
     },
     "b92a5e0cc06744f2be80fb70f43818ec": {
      "model_module": "@jupyter-widgets/base",
      "model_module_version": "2.0.0",
      "model_name": "LayoutModel",
      "state": {}
     },
     "bbcb4202d5194e9890f6e66ebff25fa1": {
      "model_module": "@jupyter-widgets/controls",
      "model_module_version": "2.0.0",
      "model_name": "DescriptionStyleModel",
      "state": {
       "description_width": ""
      }
     },
     "bce8edd584ed45df888fbc490c4a22db": {
      "model_module": "@jupyter-widgets/controls",
      "model_module_version": "2.0.0",
      "model_name": "VBoxModel",
      "state": {
       "_dom_classes": [
        "widget-interact"
       ],
       "children": [
        "IPY_MODEL_c34e444fe2da4c549c48f59de12b2078",
        "IPY_MODEL_eafa0b54ffb9418baa1336ae43a8aafd",
        "IPY_MODEL_8b7c2f74e2204c99b63ab4ec203b8557",
        "IPY_MODEL_a5c90a38ebf64fb6aabc7896cab26725",
        "IPY_MODEL_470eae9f25e44bfeb94fb412b77a81ba",
        "IPY_MODEL_293d648461f14e4baa71458547305f06",
        "IPY_MODEL_fd5928c968a34dd89e4b13e2ee38475b",
        "IPY_MODEL_d7c86e79055f477fb9af58f539716806",
        "IPY_MODEL_d6c600e3e56c409ab67acf093f92999a",
        "IPY_MODEL_0cbedab782b1421a952986ef3d7dfd8e",
        "IPY_MODEL_93bb92e0bab94937b3a5cd60bd1a3cba",
        "IPY_MODEL_3906f2a1c43a4584888cabe305c6052d",
        "IPY_MODEL_23f18034734642ffb33806868e1f2581",
        "IPY_MODEL_9365e718da21417b8df29081d579502b"
       ],
       "layout": "IPY_MODEL_e1cb6fb0330040b78f4aa46dd1ac63ec"
      }
     },
     "bf5d49f4dbf747bf8a10a14f9b116cca": {
      "model_module": "@jupyter-widgets/controls",
      "model_module_version": "2.0.0",
      "model_name": "DropdownModel",
      "state": {
       "_options_labels": [
        "True",
        "False"
       ],
       "description": "save",
       "index": 0,
       "layout": "IPY_MODEL_a969541cc1624d4ca787436c2658ac7e",
       "style": "IPY_MODEL_7c49a73a43f8488f945e492d3ab7eb6c"
      }
     },
     "c30c411ea7ea4ff4967627b1bd48d53f": {
      "model_module": "@jupyter-widgets/controls",
      "model_module_version": "2.0.0",
      "model_name": "FloatTextModel",
      "state": {
       "description": "Detector diameter:",
       "layout": "IPY_MODEL_5e16e89f372c4b459f48811ce6af1120",
       "step": null,
       "style": "IPY_MODEL_d8ff0eb2925f4c69a3a812072f493065",
       "value": 80
      }
     },
     "c34e444fe2da4c549c48f59de12b2078": {
      "model_module": "@jupyter-widgets/controls",
      "model_module_version": "2.0.0",
      "model_name": "FloatTextModel",
      "state": {
       "description": "bin_size",
       "layout": "IPY_MODEL_0e7cb37e597a4c079530968345fe2a69",
       "step": null,
       "style": "IPY_MODEL_655873798f374715b94cc20f0c310b4a",
       "value": 0.1
      }
     },
     "c4c85b67104c4c359d0b64bdc0b2ceda": {
      "model_module": "@jupyter-widgets/base",
      "model_module_version": "2.0.0",
      "model_name": "LayoutModel",
      "state": {}
     },
     "c5e15e6cf5a0499d9ea62c293ed1f750": {
      "model_module": "@jupyter-widgets/controls",
      "model_module_version": "2.0.0",
      "model_name": "DescriptionStyleModel",
      "state": {
       "description_width": ""
      }
     },
     "cacc4ccf56ca42499de2e000623abbae": {
      "model_module": "@jupyter-widgets/controls",
      "model_module_version": "2.0.0",
      "model_name": "DescriptionStyleModel",
      "state": {
       "description_width": ""
      }
     },
     "cda222137e2a4601b48e8dab10cbb911": {
      "model_module": "@jupyter-widgets/base",
      "model_module_version": "2.0.0",
      "model_name": "LayoutModel",
      "state": {}
     },
     "d0f0cb5a63ef4acfb910d4beaf4e4abc": {
      "model_module": "@jupyter-widgets/controls",
      "model_module_version": "2.0.0",
      "model_name": "FloatTextModel",
      "state": {
       "description": "t0:",
       "layout": "IPY_MODEL_1fd745a9a877464baf4632dadf2665af",
       "step": null,
       "style": "IPY_MODEL_5fe57ea60c084a86a3db7130bc667cd0",
       "value": 38
      }
     },
     "d6c600e3e56c409ab67acf093f92999a": {
      "model_module": "@jupyter-widgets/controls",
      "model_module_version": "2.0.0",
      "model_name": "IntTextModel",
      "state": {
       "description": "lim",
       "layout": "IPY_MODEL_6268aee60f9f4d56af502ef5486823a8",
       "step": 1,
       "style": "IPY_MODEL_1ead8aff724c45eca22b7935e66f9da0",
       "value": 5010
      }
     },
     "d7c86e79055f477fb9af58f539716806": {
      "model_module": "@jupyter-widgets/controls",
      "model_module_version": "2.0.0",
      "model_name": "TextModel",
      "state": {
       "description": "figname",
       "layout": "IPY_MODEL_375dd984f2fa483284cd73a590395cdf",
       "style": "IPY_MODEL_2d16de73963a4ee6bf1e3c4ce6a1870e",
       "value": "hist"
      }
     },
     "d85a15fcc40941b19760ef74c7e0b415": {
      "model_module": "@jupyter-widgets/controls",
      "model_module_version": "2.0.0",
      "model_name": "DescriptionStyleModel",
      "state": {
       "description_width": ""
      }
     },
     "d8ff0eb2925f4c69a3a812072f493065": {
      "model_module": "@jupyter-widgets/controls",
      "model_module_version": "2.0.0",
      "model_name": "DescriptionStyleModel",
      "state": {
       "description_width": ""
      }
     },
     "db4e1d56e36544fc8a0529ff5582d072": {
      "model_module": "@jupyter-widgets/base",
      "model_module_version": "2.0.0",
      "model_name": "LayoutModel",
      "state": {}
     },
     "db78b25950f84140b72fb4118ff506e7": {
      "model_module": "@jupyter-widgets/base",
      "model_module_version": "2.0.0",
      "model_name": "LayoutModel",
      "state": {}
     },
     "dce94f430f2141099de6755217ae5b14": {
      "model_module": "@jupyter-widgets/output",
      "model_module_version": "1.0.0",
      "model_name": "OutputModel",
      "state": {
       "layout": "IPY_MODEL_1a7c7a2e7e584d109102715a993bb9fb"
      }
     },
     "e1cb6fb0330040b78f4aa46dd1ac63ec": {
      "model_module": "@jupyter-widgets/base",
      "model_module_version": "2.0.0",
      "model_name": "LayoutModel",
      "state": {}
     },
     "e43e4f50d082426daa6c3608bb016f90": {
      "model_module": "@jupyter-widgets/base",
      "model_module_version": "2.0.0",
      "model_name": "LayoutModel",
      "state": {}
     },
     "eafa0b54ffb9418baa1336ae43a8aafd": {
      "model_module": "@jupyter-widgets/controls",
      "model_module_version": "2.0.0",
      "model_name": "DropdownModel",
      "state": {
       "_options_labels": [
        "True",
        "Flase"
       ],
       "description": "log",
       "index": 0,
       "layout": "IPY_MODEL_a9c6750985b94672a73ea95736c7125c",
       "style": "IPY_MODEL_2ba5601def6445508ec0d784c1c8341b"
      }
     },
     "ebc8c947f9b14b5aa8547622c170b60d": {
      "model_module": "@jupyter-widgets/base",
      "model_module_version": "2.0.0",
      "model_name": "LayoutModel",
      "state": {}
     },
     "f0637f8f15b44681915872a49aeb937a": {
      "model_module": "@jupyter-widgets/base",
      "model_module_version": "2.0.0",
      "model_name": "LayoutModel",
      "state": {}
     },
     "f1195641b2f442628acc1653964d75a3": {
      "model_module": "@jupyter-widgets/base",
      "model_module_version": "2.0.0",
      "model_name": "LayoutModel",
      "state": {}
     },
     "f59bec9cdacb4344a4973b08473ee495": {
      "model_module": "@jupyter-widgets/controls",
      "model_module_version": "2.0.0",
      "model_name": "DropdownModel",
      "state": {
       "_options_labels": [
        "voltage",
        "laser"
       ],
       "description": "Pulse mode:",
       "index": 0,
       "layout": "IPY_MODEL_c4c85b67104c4c359d0b64bdc0b2ceda",
       "style": "IPY_MODEL_7f507cf99e2a4b7f803c319aa0ee4cd7"
      }
     },
     "f79bde4b58bf4db598bb1cb3c33563c8": {
      "model_module": "@jupyter-widgets/controls",
      "model_module_version": "2.0.0",
      "model_name": "FloatTextModel",
      "state": {
       "description": "t0:",
       "layout": "IPY_MODEL_db78b25950f84140b72fb4118ff506e7",
       "step": null,
       "style": "IPY_MODEL_489d08bb354c447da3d2ad5c9222d6ae",
       "value": 38
      }
     },
     "f7befc4da19441fba1dc1a2d820ea3bc": {
      "model_module": "@jupyter-widgets/controls",
      "model_module_version": "2.0.0",
      "model_name": "DescriptionStyleModel",
      "state": {
       "description_width": ""
      }
     },
     "fafe41d19740454bb3472d985fb6d8ea": {
      "model_module": "@jupyter-widgets/controls",
      "model_module_version": "2.0.0",
      "model_name": "DescriptionStyleModel",
      "state": {
       "description_width": ""
      }
     },
     "fd5928c968a34dd89e4b13e2ee38475b": {
      "model_module": "@jupyter-widgets/controls",
      "model_module_version": "2.0.0",
      "model_name": "IntTextModel",
      "state": {
       "description": "percent",
       "layout": "IPY_MODEL_3babba31efb741e3b41c05e4716d1c8c",
       "step": 1,
       "style": "IPY_MODEL_4a2a9b45c56a444ea9ca97ee213e5768",
       "value": 50
      }
     }
    },
    "version_major": 2,
    "version_minor": 0
   }
  }
 },
 "nbformat": 4,
 "nbformat_minor": 4
}

{
 "cells": [
  {
   "cell_type": "markdown",
   "id": "93bd9e3c",
   "metadata": {
    "pycharm": {
     "name": "#%% md\n"
    }
   },
   "source": [
    "$\\textbf{Propagation Delay Calculation}$"
   ]
  },
  {
   "cell_type": "markdown",
   "id": "f66d9bea",
   "metadata": {
    "pycharm": {
     "name": "#%% md\n"
    }
   },
   "source": [
    "$\\text{In this tutorial we will see how to calculate the $t_0$ with the known sample}$"
   ]
  },
  {
   "cell_type": "code",
   "execution_count": 1,
   "id": "5473b2ca",
   "metadata": {
    "pycharm": {
     "name": "#%%\n"
    }
   },
   "outputs": [],
   "source": [
    "%matplotlib notebook\n",
    "import os\n",
    "import os.path as path\n",
    "import numpy as np\n",
    "from sklearn import linear_model\n",
    "import matplotlib.pyplot as plt\n",
    "\n",
    "# Local module and scripts\n",
    "from pyccapt.calibration.calibration_tools import variables, tools, data_tools, widgets\n",
    "from pyccapt.calibration.mc import mc_tools\n",
    "\n",
    "# The initial value for flight path length, which is the distance of local electrod to detector \n",
    "flightPathLength = 110 # mm\n",
    "# The initial value for t_0\n",
    "t0 = 1 # ns\n",
    "\n",
    "# if you want to save the picture the process takes too long\n",
    "# For faster run put save_figure to False\n",
    "save_figure = True"
   ]
  },
  {
   "cell_type": "code",
   "execution_count": null,
   "id": "19072ef3",
   "metadata": {},
   "outputs": [],
   "source": [
    "# dataset name\n",
    "# AL_data_b\n",
    "# OLO_AL_6_data\n",
    "# OLO_W_6_data\n",
    "# OLO_Ni_8_data\n",
    "# X6Cr17_2V30Min_5_data\n",
    "# data_1029_Jun-27-2022_15-53_Pd\n",
    "# data_115_Jul-27-2022_17-44_Powersweep3"
   ]
  },
  {
   "cell_type": "code",
   "execution_count": null,
   "id": "bcedd92a",
   "metadata": {},
   "outputs": [],
   "source": [
    "tdc, dataset = widgets.dataset_tdc_selection()\n",
    "display(tdc, dataset)"
   ]
  },
  {
   "cell_type": "code",
   "execution_count": 3,
   "id": "071ceb5e",
   "metadata": {
    "pycharm": {
     "name": "#%%\n"
    }
   },
   "outputs": [],
   "source": [
    "tdc_model = tdc.value\n",
    "\n",
    "dataset_name = dataset.value\n",
    "\n",
    "p = path.abspath(path.join(\"\", \"../../../..\"))\n",
    "\n",
    "variables.init()\n",
    "\n",
    "variables.path = os.path.join(p, 'tests//results//load_crop')\n",
    "variables.result_path = os.path.join(p, 'tests/results/t0_calibration/' + dataset_name)\n",
    "if not os.path.isdir(variables.result_path):\n",
    "        os.makedirs(variables.result_path, mode=0o777, exist_ok=True)\n",
    "        \n",
    "filename = variables.path + '//' + dataset_name + '//' + dataset_name + '_cropped' + '.h5'\n",
    "\n",
    "head, tail = os.path.split(filename)\n",
    "figname = os.path.splitext(tail)[0]\n",
    "\n",
    "\n",
    "data = data_tools.read_hdf5_through_pandas(filename)\n",
    "\n",
    "\n",
    "dld_highVoltage = data['dld/high_voltage'].to_numpy()\n",
    "dld_pulseVoltage = data['dld/pulse_voltage'].to_numpy()\n",
    "dld_startCounter = data['dld/start_counter'].to_numpy()\n",
    "dld_t = data['dld/t'].to_numpy()\n",
    "dld_x = data['dld/x'].to_numpy()\n",
    "dld_y = data['dld/y'].to_numpy()"
   ]
  },
  {
   "cell_type": "code",
   "execution_count": 4,
   "id": "f170d8ff",
   "metadata": {
    "pycharm": {
     "name": "#%%\n"
    }
   },
   "outputs": [
    {
     "data": {
      "text/html": [
       "<div>\n",
       "<style scoped>\n",
       "    .dataframe tbody tr th:only-of-type {\n",
       "        vertical-align: middle;\n",
       "    }\n",
       "\n",
       "    .dataframe tbody tr th {\n",
       "        vertical-align: top;\n",
       "    }\n",
       "\n",
       "    .dataframe thead th {\n",
       "        text-align: right;\n",
       "    }\n",
       "</style>\n",
       "<table border=\"1\" class=\"dataframe\">\n",
       "  <thead>\n",
       "    <tr style=\"text-align: right;\">\n",
       "      <th></th>\n",
       "      <th>dld/high_voltage</th>\n",
       "      <th>dld/pulse_voltage</th>\n",
       "      <th>dld/start_counter</th>\n",
       "      <th>dld/t</th>\n",
       "      <th>dld/x</th>\n",
       "      <th>dld/y</th>\n",
       "    </tr>\n",
       "  </thead>\n",
       "  <tbody>\n",
       "    <tr>\n",
       "      <th>0</th>\n",
       "      <td>5257.555176</td>\n",
       "      <td>5257.555176</td>\n",
       "      <td>44526.0</td>\n",
       "      <td>631.203462</td>\n",
       "      <td>-11.715918</td>\n",
       "      <td>-8.882449</td>\n",
       "    </tr>\n",
       "    <tr>\n",
       "      <th>1</th>\n",
       "      <td>5257.555176</td>\n",
       "      <td>5257.555176</td>\n",
       "      <td>44633.0</td>\n",
       "      <td>627.863616</td>\n",
       "      <td>2.706122</td>\n",
       "      <td>9.996735</td>\n",
       "    </tr>\n",
       "    <tr>\n",
       "      <th>2</th>\n",
       "      <td>5257.555176</td>\n",
       "      <td>5257.555176</td>\n",
       "      <td>44745.0</td>\n",
       "      <td>623.165886</td>\n",
       "      <td>-4.329796</td>\n",
       "      <td>-3.151837</td>\n",
       "    </tr>\n",
       "    <tr>\n",
       "      <th>3</th>\n",
       "      <td>5257.555176</td>\n",
       "      <td>5257.555176</td>\n",
       "      <td>45014.0</td>\n",
       "      <td>648.355320</td>\n",
       "      <td>-29.385306</td>\n",
       "      <td>-12.384490</td>\n",
       "    </tr>\n",
       "    <tr>\n",
       "      <th>4</th>\n",
       "      <td>5257.555176</td>\n",
       "      <td>5257.555176</td>\n",
       "      <td>45080.0</td>\n",
       "      <td>628.885458</td>\n",
       "      <td>-13.817143</td>\n",
       "      <td>-6.972245</td>\n",
       "    </tr>\n",
       "    <tr>\n",
       "      <th>...</th>\n",
       "      <td>...</td>\n",
       "      <td>...</td>\n",
       "      <td>...</td>\n",
       "      <td>...</td>\n",
       "      <td>...</td>\n",
       "      <td>...</td>\n",
       "    </tr>\n",
       "    <tr>\n",
       "      <th>1893322</th>\n",
       "      <td>5710.601562</td>\n",
       "      <td>5710.601562</td>\n",
       "      <td>7225.0</td>\n",
       "      <td>609.086412</td>\n",
       "      <td>17.319184</td>\n",
       "      <td>-1.942041</td>\n",
       "    </tr>\n",
       "    <tr>\n",
       "      <th>1893323</th>\n",
       "      <td>5710.601562</td>\n",
       "      <td>5710.601562</td>\n",
       "      <td>7330.0</td>\n",
       "      <td>613.317798</td>\n",
       "      <td>16.650612</td>\n",
       "      <td>13.976327</td>\n",
       "    </tr>\n",
       "    <tr>\n",
       "      <th>1893324</th>\n",
       "      <td>5710.601562</td>\n",
       "      <td>5710.601562</td>\n",
       "      <td>7377.0</td>\n",
       "      <td>601.137990</td>\n",
       "      <td>11.429388</td>\n",
       "      <td>-1.942041</td>\n",
       "    </tr>\n",
       "    <tr>\n",
       "      <th>1893325</th>\n",
       "      <td>5710.601562</td>\n",
       "      <td>5710.601562</td>\n",
       "      <td>7532.0</td>\n",
       "      <td>626.869206</td>\n",
       "      <td>23.336327</td>\n",
       "      <td>27.793469</td>\n",
       "    </tr>\n",
       "    <tr>\n",
       "      <th>1893326</th>\n",
       "      <td>5710.601562</td>\n",
       "      <td>5710.601562</td>\n",
       "      <td>7999.0</td>\n",
       "      <td>457.901802</td>\n",
       "      <td>11.588571</td>\n",
       "      <td>26.679184</td>\n",
       "    </tr>\n",
       "  </tbody>\n",
       "</table>\n",
       "<p>1893327 rows × 6 columns</p>\n",
       "</div>"
      ],
      "text/plain": [
       "         dld/high_voltage  dld/pulse_voltage  dld/start_counter       dld/t  \\\n",
       "0             5257.555176        5257.555176            44526.0  631.203462   \n",
       "1             5257.555176        5257.555176            44633.0  627.863616   \n",
       "2             5257.555176        5257.555176            44745.0  623.165886   \n",
       "3             5257.555176        5257.555176            45014.0  648.355320   \n",
       "4             5257.555176        5257.555176            45080.0  628.885458   \n",
       "...                   ...                ...                ...         ...   \n",
       "1893322       5710.601562        5710.601562             7225.0  609.086412   \n",
       "1893323       5710.601562        5710.601562             7330.0  613.317798   \n",
       "1893324       5710.601562        5710.601562             7377.0  601.137990   \n",
       "1893325       5710.601562        5710.601562             7532.0  626.869206   \n",
       "1893326       5710.601562        5710.601562             7999.0  457.901802   \n",
       "\n",
       "             dld/x      dld/y  \n",
       "0       -11.715918  -8.882449  \n",
       "1         2.706122   9.996735  \n",
       "2        -4.329796  -3.151837  \n",
       "3       -29.385306 -12.384490  \n",
       "4       -13.817143  -6.972245  \n",
       "...            ...        ...  \n",
       "1893322  17.319184  -1.942041  \n",
       "1893323  16.650612  13.976327  \n",
       "1893324  11.429388  -1.942041  \n",
       "1893325  23.336327  27.793469  \n",
       "1893326  11.588571  26.679184  \n",
       "\n",
       "[1893327 rows x 6 columns]"
      ]
     },
     "execution_count": 4,
     "metadata": {},
     "output_type": "execute_result"
    }
   ],
   "source": [
    "data"
   ]
  },
  {
   "cell_type": "markdown",
   "id": "1b07b48b",
   "metadata": {
    "pycharm": {
     "name": "#%% md\n"
    }
   },
   "source": [
    "$\\mathbf{\\text{calculate the mc in two mode for laser and voltage atom probe:}}$<br><br>\n",
    "$$\\frac{m}{n} = k V_{dc}(\\frac{t + t_{0}}{d})^{2} ,$$<br>\n",
    "$\\text{or:}$\n",
    "$$\\frac{m}{n} = k\\alpha (V_{dc} + \\beta V_{pulse})(\\frac{t + t_{0}}{d})^{2} $$<br>"
   ]
  },
  {
   "cell_type": "code",
   "execution_count": null,
   "id": "4a14a099",
   "metadata": {
    "pycharm": {
     "name": "#%%\n"
    }
   },
   "outputs": [],
   "source": [
    "mc_seb = mc_tools.tof2mc(dld_t, t0, dld_highVoltage, dld_pulseVoltage, dld_x, dld_y, flightPathLength, mode='voltage_pulse')\n",
    "max_hist, left_right_peaks, peaks_sides, max_paek_edges, index_max = tools.massSpecPlot(mc_seb[mc_seb < 100], 0.1, percent=50, plot=True, prominence=500, fig_name=figname)\n",
    "mrp = (max_hist / (left_right_peaks[1] - left_right_peaks[0]))\n",
    "print('Mass resolving power for the highest peak (MRP --> m/m_2-m_1):', mrp)\n",
    "for i in range(len(peaks_sides)):\n",
    "    print('Peaks ', i, 'is: {:.2f}'.format(peaks_sides[i,0]), 'peak window sides are: {:.2f} - {:.2f}'.format(peaks_sides[i,2], peaks_sides[i,3]))"
   ]
  },
  {
   "cell_type": "markdown",
   "id": "30d8fc77",
   "metadata": {
    "pycharm": {
     "name": "#%% md\n"
    }
   },
   "source": [
    "$\\text{In the cell below you should type the correct m/c for the detected peak above}$"
   ]
  },
  {
   "cell_type": "code",
   "execution_count": null,
   "id": "f6c67cbb",
   "metadata": {
    "pycharm": {
     "name": "#%%\n"
    }
   },
   "outputs": [],
   "source": [
    "peak_ideal = [1.01, 13.49, 26.98]"
   ]
  },
  {
   "cell_type": "markdown",
   "id": "9d120e01",
   "metadata": {
    "pycharm": {
     "name": "#%% md\n"
    }
   },
   "source": [
    "$\\text{Here for each peak a mask will be created}$"
   ]
  },
  {
   "cell_type": "code",
   "execution_count": null,
   "id": "e17c3d32",
   "metadata": {
    "pycharm": {
     "name": "#%%\n"
    }
   },
   "outputs": [],
   "source": [
    "pick_ions_plot = []\n",
    "\n",
    "# creat mask for each peak base on the peak loc. and window size\n",
    "for i in range(len(peaks_sides)):\n",
    "    mask_tmp = np.logical_and((peaks_sides[i, 2] < mc_seb), (mc_seb < peaks_sides[i, 3]))\n",
    "    if i == 0:\n",
    "        lenght = len(mask_tmp[mask_tmp==True])\n",
    "\n",
    "        indexes_mask_tmp_equal = np.where(mask_tmp==True)[0].tolist()\n",
    "    else:    \n",
    "        indexes_mask_tmp_equal = np.where(mask_tmp==True)[0].tolist()    \n",
    "        indexes_mask_tmp_equal = np.random.choice(indexes_mask_tmp_equal, size=lenght, replace=False)\n",
    "    \n",
    "    \n",
    "    bb = np.zeros(len(mc_seb))\n",
    "    \n",
    "    mc_seb_ideal_tmp = np.copy(bb)\n",
    "    # put the location (mc) of the peak for all selected mc\n",
    "    mc_seb_ideal_tmp[mask_tmp] = peak_ideal[i]\n",
    "    \n",
    "    pick_ions_plot.append(mask_tmp)\n",
    "    if i == 0:\n",
    "        mask = np.copy(mask_tmp)\n",
    "        mc_seb_ideal = np.copy(mc_seb_ideal_tmp)\n",
    "        mask_equal = indexes_mask_tmp_equal\n",
    "    else:\n",
    "        mask += mask_tmp\n",
    "        mc_seb_ideal += mc_seb_ideal_tmp \n",
    "        mask_equal.extend(indexes_mask_tmp_equal)"
   ]
  },
  {
   "cell_type": "markdown",
   "id": "2a8ff47b",
   "metadata": {
    "pycharm": {
     "name": "#%% md\n"
    }
   },
   "source": [
    "$\\text{The selcted peak ions in shown below}$"
   ]
  },
  {
   "cell_type": "code",
   "execution_count": null,
   "id": "ee33bf78",
   "metadata": {
    "pycharm": {
     "name": "#%%\n"
    }
   },
   "outputs": [],
   "source": [
    "mc_seb_masked = mc_seb[mask]\n",
    "tools.massSpecPlot(mc_seb_masked[mc_seb_masked < 100], 0.1, peaks_find=False, plot=True)"
   ]
  },
  {
   "cell_type": "markdown",
   "id": "32941cde",
   "metadata": {
    "pycharm": {
     "name": "#%% md\n"
    }
   },
   "source": [
    "$\\text{Plot ideal peak m/c:}$"
   ]
  },
  {
   "cell_type": "code",
   "execution_count": null,
   "id": "25c87e3f",
   "metadata": {
    "pycharm": {
     "name": "#%%\n"
    }
   },
   "outputs": [],
   "source": [
    "tools.massSpecPlot(mc_seb_ideal, 0.1, peaks_find=False, plot=True)"
   ]
  },
  {
   "cell_type": "markdown",
   "id": "8a8256ac",
   "metadata": {
    "pycharm": {
     "name": "#%% md\n"
    }
   },
   "source": [
    "$\\text{Here we plot ions in each peak base on the TOF and (x,y) position}$"
   ]
  },
  {
   "cell_type": "code",
   "execution_count": null,
   "id": "58160516",
   "metadata": {
    "pycharm": {
     "name": "#%%\n"
    }
   },
   "outputs": [],
   "source": [
    "for i in range(len(pick_ions_plot)):\n",
    "    fig1, ax1 = plt.subplots(figsize=(8, 4))\n",
    "    dld_x_masked = dld_x[pick_ions_plot[i]]\n",
    "    dld_y_masked = dld_y[pick_ions_plot[i]]\n",
    "    dld_t_masked = dld_t[pick_ions_plot[i]]\n",
    "    x = plt.scatter(dld_x_masked, dld_t_masked, color=\"blue\", label='X', alpha=0.1)\n",
    "    y = plt.scatter(dld_y_masked, dld_t_masked, color=\"red\", label='Y', alpha=0.1)\n",
    "    ax1.set_ylabel(\"Time of flight (ns)\", color=\"red\", fontsize=10)\n",
    "    ax1.set_xlabel(\"position (mm)\", color=\"red\", fontsize=10)\n",
    "    plt.grid(color='aqua', alpha=0.3, linestyle='-.', linewidth=2)\n",
    "    plt.legend(handles=[x, y], loc='upper right')\n",
    "#     if save_figure == True:\n",
    "#         plt.savefig(variables.result_path + '/position_peak_%s' %i + \"%s.png\" %figname, format=\"png\", dpi=600)\n",
    "    plt.show()"
   ]
  },
  {
   "cell_type": "markdown",
   "id": "178fcf61",
   "metadata": {
    "pycharm": {
     "name": "#%% md\n"
    }
   },
   "source": [
    "$\\text{As you saw the TOF changes base on the (x,y) of the events. Therefore we creat a mask to only select the ions in center (4mm*4mm) of detector. This helps to cansel out the variation in TOF due to hit position}$"
   ]
  },
  {
   "cell_type": "markdown",
   "id": "fed5f06c",
   "metadata": {
    "pycharm": {
     "name": "#%% md\n"
    }
   },
   "source": [
    "$\\text{Reformulate the equation for volatege atom probe:}$<br>\n",
    "$$t = d(\\sqrt{\\frac{\\frac{m}{n}}{k\\alpha (V_{dc}+\\beta V_{pulse})}})-t_{0} $$<br>"
   ]
  },
  {
   "cell_type": "code",
   "execution_count": null,
   "id": "b5fdf9d6",
   "metadata": {
    "pycharm": {
     "name": "#%%\n"
    }
   },
   "outputs": [],
   "source": [
    "# use mask_equal to have equal number of ions for each peak\n",
    "# only peak the value in the center of detector 2mm * 2mm\n",
    "detector_squre = 2\n",
    "fig1, ax1 = plt.subplots(figsize=(8, 4))\n",
    "dld_x_masked = dld_x[mask_equal]\n",
    "dld_y_masked = dld_y[mask_equal]\n",
    "dld_t_masked = dld_t[mask_equal]\n",
    "dld_highVoltage_masked = dld_highVoltage[mask_equal]\n",
    "\n",
    "mask_tmp_middle = np.logical_and((np.abs(dld_x_masked) < detector_squre), (np.abs(dld_y_masked) < detector_squre))\n",
    "dld_x_masked = dld_x_masked[mask_tmp_middle]\n",
    "dld_y_masked = dld_y_masked[mask_tmp_middle]\n",
    "dld_t_masked = dld_t_masked[mask_tmp_middle]\n",
    "dld_highVoltage_masked = dld_highVoltage_masked[mask_tmp_middle]\n",
    "\n",
    "mc_seb_reg_masked = mc_seb_ideal[mask_equal]\n",
    "mc_seb_reg_masked = mc_seb_reg_masked[mask_tmp_middle]\n",
    "\n",
    "print(dld_t_masked.shape)\n",
    "x = plt.scatter(dld_x_masked, dld_t_masked, color=\"blue\", label='X', alpha=0.1)\n",
    "y = plt.scatter(dld_y_masked, dld_t_masked, color=\"red\", label='Y', alpha=0.1)\n",
    "ax1.set_ylabel(\"Time of flight (ns)\", color=\"red\", fontsize=10)\n",
    "ax1.set_xlabel(\"position (mm)\", color=\"red\", fontsize=10)\n",
    "plt.grid(color='aqua', alpha=0.3, linestyle='-.', linewidth=2)\n",
    "plt.legend(handles=[x, y], loc='upper right')\n",
    "if save_figure == True:\n",
    "    plt.savefig(variables.result_path + '/center_' + \"%s.png\" %figname, format=\"png\", dpi=600)\n",
    "#     plt.savefig(variables.result_path + '/center_' + \"%s.svg\" %figname, format=\"svg\", dpi=600)\n",
    "plt.show()\n"
   ]
  },
  {
   "cell_type": "markdown",
   "id": "801076be",
   "metadata": {
    "pycharm": {
     "name": "#%% md\n"
    }
   },
   "source": [
    "$\\text{We calculate the t_0 base on:}$<br>\n",
    "$$t_{0} = \\frac{\\sum_{n=1}^n{\\left (t - L_{flight}  \\sqrt{\\frac{m/n}{2eV}} \\right )}}{n}$$<br>"
   ]
  },
  {
   "cell_type": "code",
   "execution_count": null,
   "id": "f2a86b5b",
   "metadata": {
    "pycharm": {
     "name": "#%%\n"
    }
   },
   "outputs": [],
   "source": [
    "seb_t = dld_t_masked * 1E-9  # tof in s\n",
    "# seb_factor = np.sqrt(mc_seb_reg_ideal[mask_middle] * 1.66E-27 / (2 * 1.6E-19 * 1.015 * (dld_highVoltage_masked + 0.7 * dld_pulseVoltage_masked)))\n",
    "seb_factor = np.sqrt(mc_seb_reg_masked * 1.66E-27 / (2 * 1.6E-19 * dld_highVoltage_masked))\n",
    "\n",
    "seb_factor = seb_factor * 1E6\n",
    "seb_t = seb_t * 1E9\n",
    "\n",
    "t0_seb_fixed = np.mean(np.array([seb_t]).squeeze(0) - (110 * np.array([seb_factor]).squeeze(0).reshape(-1, 1)))\n",
    "print('Linear fixed path lenght -- the flight path lenght(slop): {:.2f}'.format(110), '(mm)', '\\nthe corrected t_0(intercept): {:.2f}'.format(t0_seb_fixed), '(ns)')\n"
   ]
  },
  {
   "cell_type": "code",
   "execution_count": null,
   "id": "35738a15",
   "metadata": {
    "pycharm": {
     "name": "#%%\n"
    }
   },
   "outputs": [],
   "source": [
    "t0_new = t0_seb_fixed"
   ]
  },
  {
   "cell_type": "code",
   "execution_count": null,
   "id": "8d0d304f",
   "metadata": {
    "pycharm": {
     "name": "#%%\n"
    }
   },
   "outputs": [],
   "source": [
    "# Plot outputs\n",
    "fig1, ax1 = plt.subplots(figsize=(8, 6))\n",
    "peaks_data = plt.scatter(seb_factor, seb_t, color=\"black\", label='peaks Ions', alpha=0.1)\n",
    "axes = plt.gca()\n",
    "x_vals = np.array(axes.get_xlim())\n",
    "\n",
    "linear_fix, = plt.plot(x_vals, t0_seb_fixed + 110 * x_vals, '--', color='black', label='Fited line' )\n",
    "\n",
    "plt.grid(color='aqua', alpha=0.3, linestyle='-.', linewidth=2)\n",
    "plt.legend(handles=[linear_fix, peaks_data], loc='lower right')\n",
    "\n",
    "ax1.set_ylabel(\"Time of flight (ns)\", color=\"red\", fontsize=12)\n",
    "\n",
    "ax1.set_xlabel(r\"$\\sqrt{\\frac{\\frac{m}{n}}{2e \\alpha (V_{dc} + \\beta V_{pulse})}} (ns/mm)$\", color=\"red\", fontsize=12)\n",
    "if save_figure == True:\n",
    "    plt.savefig(variables.result_path + '/regression' + \"%s.svg\" %figname, format=\"svg\", dpi=600)\n",
    "    plt.savefig(variables.result_path + '/regression' + \"%s.png\" %figname, format=\"png\", dpi=600)\n",
    "plt.show()"
   ]
  },
  {
   "cell_type": "markdown",
   "id": "1b9cb786",
   "metadata": {
    "pycharm": {
     "name": "#%% md\n"
    }
   },
   "source": [
    "$\\text{Plot the m/c with new ${t_0}$ :}$<br>"
   ]
  },
  {
   "cell_type": "code",
   "execution_count": null,
   "id": "e05af2f5",
   "metadata": {
    "pycharm": {
     "name": "#%%\n"
    }
   },
   "outputs": [],
   "source": [
    "# calculate the mc with new flight path lenght and t_0\n",
    "mc_seb = mc_tools.tof2mc(dld_t, t0_new, dld_highVoltage, dld_pulseVoltage, dld_x, dld_y, flightPathLength)\n",
    "\n",
    "max_hist, left_right_peaks, peaks_sides, max_paek_edges, index_max = tools.massSpecPlot(mc_seb[mc_seb < 100], 0.1, percent=50, plot=True, prominence=500, distance=None, fig_name='corrected_'+figname)\n",
    "mrp = (max_hist / (left_right_peaks[1] - left_right_peaks[0]))\n",
    "print('Mass resolving power for the highest peak (MRP --> m/m_2-m_1):', mrp)\n",
    "for i in range(len(peaks_sides)):\n",
    "    print('Peaks ', i, 'is: {:.2f}'.format(peaks_sides[i,0]), 'peak window sides are: {:.2f} - {:.2f}'.format(peaks_sides[i,2], peaks_sides[i,3]))"
   ]
  }
 ],
 "metadata": {
  "kernelspec": {
   "display_name": "Python 3 (ipykernel)",
   "language": "python",
   "name": "python3"
  },
  "language_info": {
   "codemirror_mode": {
    "name": "ipython",
    "version": 3
   },
   "file_extension": ".py",
   "mimetype": "text/x-python",
   "name": "python",
   "nbconvert_exporter": "python",
   "pygments_lexer": "ipython3",
   "version": "3.9.12"
  }
 },
 "nbformat": 4,
 "nbformat_minor": 5
}

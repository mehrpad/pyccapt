{
 "cells": [
  {
   "cell_type": "code",
   "execution_count": 2,
   "metadata": {
    "pycharm": {
     "name": "#%%\n"
    }
   },
   "outputs": [],
   "source": [
    "%matplotlib ipympl\n",
    "import os\n",
    "import os.path as path\n",
    "import pandas as pd\n",
    "import numpy as np\n",
    "from scipy.optimize import curve_fit\n",
    "from faker import Factory\n",
    "from scipy import interpolate\n",
    "from sklearn.preprocessing import MinMaxScaler\n",
    "from mpl_toolkits.mplot3d import Axes3D\n",
    "import matplotlib.pyplot as plt\n",
    "import math \n",
    "import itertools \n",
    "from ipywidgets import interact, interactive, fixed, interact_manual, widgets\n",
    "from ipywidgets import HBox, VBox\n",
    "from ipywidgets import IntSlider, Output\n",
    "from IPython.display import clear_output\n",
    "import h5py\n",
    "import re\n",
    "import matplotlib\n",
    "import ipysheet\n",
    "\n",
    "# Local module and scripts\n",
    "from pyccapt.calibration.calibration_tools import tools, variables, calibration, ion_selection\n",
    "from pyccapt.calibration.calibration_tools import widgets as wd\n",
    "from pyccapt.calibration.data_tools import data_tools, data_loadcrop, dataset_path_qt\n",
    "from pyccapt.calibration.mc import mc_tools\n",
    "from pyccapt.calibration.leap_tools import ccapt_tools"
   ]
  },
  {
   "cell_type": "code",
   "execution_count": 3,
   "metadata": {},
   "outputs": [],
   "source": [
    "%load_ext autoreload\n",
    "%autoreload 2"
   ]
  },
  {
   "cell_type": "code",
   "execution_count": 4,
   "metadata": {},
   "outputs": [],
   "source": [
    "%reload_ext autoreload"
   ]
  },
  {
   "cell_type": "code",
   "execution_count": 5,
   "metadata": {},
   "outputs": [],
   "source": [
    "# Disable showing logging in Jupyter notebook\n",
    "import logging, sys\n",
    "logging.disable(sys.maxsize)"
   ]
  },
  {
   "cell_type": "code",
   "execution_count": 6,
   "metadata": {},
   "outputs": [
    {
     "data": {
      "application/vnd.jupyter.widget-view+json": {
       "model_id": "f284771c756e4538b21975862038dc86",
       "version_major": 2,
       "version_minor": 0
      },
      "text/plain": [
       "Button(description='load dataset', style=ButtonStyle())"
      ]
     },
     "execution_count": 6,
     "metadata": {},
     "output_type": "execute_result"
    }
   ],
   "source": [
    "button = widgets.Button(\n",
    "    description='load dataset',\n",
    ")\n",
    "\n",
    "@button.on_click\n",
    "def open_file_on_click(b):\n",
    "    global dataset_path\n",
    "    dataset_path = dataset_path_qt.gui_fname().decode('ASCII')\n",
    "button"
   ]
  },
  {
   "cell_type": "code",
   "execution_count": 7,
   "metadata": {},
   "outputs": [
    {
     "data": {
      "application/vnd.jupyter.widget-view+json": {
       "model_id": "454819d8c3d946cf9e1577fc882b4f56",
       "version_major": 2,
       "version_minor": 0
      },
      "text/plain": [
       "Dropdown(description='Data mode:', options=('surface_concept', 'roentdec', 'leap_epos', 'leap_pos'), value='su…"
      ]
     },
     "metadata": {},
     "output_type": "display_data"
    }
   ],
   "source": [
    "tdc, pulse_mode, flightPathLength_d, t0_d, max_mc, det_diam = wd.dataset_tdc_selection()\n",
    "display(tdc)"
   ]
  },
  {
   "cell_type": "markdown",
   "metadata": {
    "pycharm": {
     "name": "#%% md\n"
    }
   },
   "source": [
    "$$\\textbf{You can specify which dataset to use in below block}$$"
   ]
  },
  {
   "cell_type": "code",
   "execution_count": 8,
   "metadata": {},
   "outputs": [],
   "source": [
    "dataset_main_path = os.path.dirname(dataset_path)\n",
    "dataset_name_with_extention = os.path.basename(dataset_path)\n",
    "dataset_name = os.path.splitext(dataset_name_with_extention)[0]\n",
    "\n",
    "\n",
    "variables.init()\n",
    "# variables.path = os.path.join(p, 'tests//data')\n",
    "variables.result_path = os.path.dirname(dataset_main_path) + '/ion_selection_ranging/'\n",
    "if not os.path.isdir(variables.result_path):\n",
    "    os.makedirs(variables.result_path, mode=0o777, exist_ok=True)\n",
    "        \n",
    "filename = dataset_path\n",
    "\n",
    "head, tail = os.path.split(filename)\n",
    "figname = os.path.splitext(tail)[0]\n",
    "\n",
    "if tdc.value == 'leap_pos' or tdc.value == 'leap_epos':\n",
    "    if tdc.value == 'leap_epos':\n",
    "        data = ccapt_tools.epos_to_ccapt(filename)\n",
    "    else:\n",
    "        data = ccapt_tools.pos_to_ccapt(filename)\n",
    "else:\n",
    "    data = data_tools.read_hdf5_through_pandas(filename)"
   ]
  },
  {
   "cell_type": "code",
   "execution_count": 9,
   "metadata": {
    "pycharm": {
     "name": "#%%\n"
    }
   },
   "outputs": [
    {
     "data": {
      "text/html": [
       "<div>\n",
       "<style scoped>\n",
       "    .dataframe tbody tr th:only-of-type {\n",
       "        vertical-align: middle;\n",
       "    }\n",
       "\n",
       "    .dataframe tbody tr th {\n",
       "        vertical-align: top;\n",
       "    }\n",
       "\n",
       "    .dataframe thead th {\n",
       "        text-align: right;\n",
       "    }\n",
       "</style>\n",
       "<table border=\"1\" class=\"dataframe\">\n",
       "  <thead>\n",
       "    <tr style=\"text-align: right;\">\n",
       "      <th></th>\n",
       "      <th>x (nm)</th>\n",
       "      <th>y (nm)</th>\n",
       "      <th>z (nm)</th>\n",
       "      <th>mc_c (Da)</th>\n",
       "      <th>mc (Da)</th>\n",
       "      <th>high_voltage (V)</th>\n",
       "      <th>pulse (V)</th>\n",
       "      <th>start_counter</th>\n",
       "      <th>t (ns)</th>\n",
       "      <th>t_c (nm)</th>\n",
       "      <th>x_det (cm)</th>\n",
       "      <th>y_det (cm)</th>\n",
       "      <th>pulse_pi</th>\n",
       "      <th>ion_pp</th>\n",
       "      <th>tof_c (ns)</th>\n",
       "      <th>t_c (ns)</th>\n",
       "    </tr>\n",
       "  </thead>\n",
       "  <tbody>\n",
       "    <tr>\n",
       "      <th>0</th>\n",
       "      <td>0.0</td>\n",
       "      <td>0.0</td>\n",
       "      <td>0.0</td>\n",
       "      <td>27.370268</td>\n",
       "      <td>27.401002</td>\n",
       "      <td>5269.834473</td>\n",
       "      <td>5269.834473</td>\n",
       "      <td>54436.0</td>\n",
       "      <td>635.421132</td>\n",
       "      <td>0.0</td>\n",
       "      <td>-1.595020</td>\n",
       "      <td>-1.661878</td>\n",
       "      <td>0</td>\n",
       "      <td>1</td>\n",
       "      <td>632.329093</td>\n",
       "      <td>632.329093</td>\n",
       "    </tr>\n",
       "    <tr>\n",
       "      <th>1</th>\n",
       "      <td>0.0</td>\n",
       "      <td>0.0</td>\n",
       "      <td>0.0</td>\n",
       "      <td>27.255572</td>\n",
       "      <td>27.522766</td>\n",
       "      <td>5269.834473</td>\n",
       "      <td>5269.834473</td>\n",
       "      <td>54903.0</td>\n",
       "      <td>635.901192</td>\n",
       "      <td>0.0</td>\n",
       "      <td>0.646286</td>\n",
       "      <td>2.129878</td>\n",
       "      <td>467</td>\n",
       "      <td>1</td>\n",
       "      <td>631.150808</td>\n",
       "      <td>631.150808</td>\n",
       "    </tr>\n",
       "    <tr>\n",
       "      <th>2</th>\n",
       "      <td>0.0</td>\n",
       "      <td>0.0</td>\n",
       "      <td>0.0</td>\n",
       "      <td>27.125602</td>\n",
       "      <td>27.582728</td>\n",
       "      <td>5269.834473</td>\n",
       "      <td>5269.834473</td>\n",
       "      <td>55353.0</td>\n",
       "      <td>648.101574</td>\n",
       "      <td>0.0</td>\n",
       "      <td>-0.175102</td>\n",
       "      <td>3.155020</td>\n",
       "      <td>450</td>\n",
       "      <td>1</td>\n",
       "      <td>629.812492</td>\n",
       "      <td>629.812492</td>\n",
       "    </tr>\n",
       "    <tr>\n",
       "      <th>3</th>\n",
       "      <td>0.0</td>\n",
       "      <td>0.0</td>\n",
       "      <td>0.0</td>\n",
       "      <td>27.305339</td>\n",
       "      <td>26.913047</td>\n",
       "      <td>5269.834473</td>\n",
       "      <td>5269.834473</td>\n",
       "      <td>55831.0</td>\n",
       "      <td>636.010920</td>\n",
       "      <td>0.0</td>\n",
       "      <td>1.964327</td>\n",
       "      <td>-1.999347</td>\n",
       "      <td>478</td>\n",
       "      <td>1</td>\n",
       "      <td>631.662383</td>\n",
       "      <td>631.662383</td>\n",
       "    </tr>\n",
       "    <tr>\n",
       "      <th>4</th>\n",
       "      <td>0.0</td>\n",
       "      <td>0.0</td>\n",
       "      <td>0.0</td>\n",
       "      <td>27.156364</td>\n",
       "      <td>27.273478</td>\n",
       "      <td>5269.834473</td>\n",
       "      <td>5269.834473</td>\n",
       "      <td>56022.0</td>\n",
       "      <td>633.350016</td>\n",
       "      <td>0.0</td>\n",
       "      <td>1.381714</td>\n",
       "      <td>1.757388</td>\n",
       "      <td>191</td>\n",
       "      <td>1</td>\n",
       "      <td>630.129557</td>\n",
       "      <td>630.129557</td>\n",
       "    </tr>\n",
       "    <tr>\n",
       "      <th>...</th>\n",
       "      <td>...</td>\n",
       "      <td>...</td>\n",
       "      <td>...</td>\n",
       "      <td>...</td>\n",
       "      <td>...</td>\n",
       "      <td>...</td>\n",
       "      <td>...</td>\n",
       "      <td>...</td>\n",
       "      <td>...</td>\n",
       "      <td>...</td>\n",
       "      <td>...</td>\n",
       "      <td>...</td>\n",
       "      <td>...</td>\n",
       "      <td>...</td>\n",
       "      <td>...</td>\n",
       "      <td>...</td>\n",
       "    </tr>\n",
       "    <tr>\n",
       "      <th>1898626</th>\n",
       "      <td>0.0</td>\n",
       "      <td>0.0</td>\n",
       "      <td>0.0</td>\n",
       "      <td>261.370558</td>\n",
       "      <td>248.363850</td>\n",
       "      <td>5711.471680</td>\n",
       "      <td>5711.471680</td>\n",
       "      <td>37587.0</td>\n",
       "      <td>1716.831720</td>\n",
       "      <td>0.0</td>\n",
       "      <td>0.369306</td>\n",
       "      <td>-1.330776</td>\n",
       "      <td>83</td>\n",
       "      <td>1</td>\n",
       "      <td>1791.799564</td>\n",
       "      <td>1791.799564</td>\n",
       "    </tr>\n",
       "    <tr>\n",
       "      <th>1898627</th>\n",
       "      <td>0.0</td>\n",
       "      <td>0.0</td>\n",
       "      <td>0.0</td>\n",
       "      <td>26.897229</td>\n",
       "      <td>27.320343</td>\n",
       "      <td>5711.471680</td>\n",
       "      <td>5711.471680</td>\n",
       "      <td>38162.0</td>\n",
       "      <td>600.993972</td>\n",
       "      <td>0.0</td>\n",
       "      <td>0.423429</td>\n",
       "      <td>0.630367</td>\n",
       "      <td>575</td>\n",
       "      <td>1</td>\n",
       "      <td>627.452830</td>\n",
       "      <td>627.452830</td>\n",
       "    </tr>\n",
       "    <tr>\n",
       "      <th>1898628</th>\n",
       "      <td>0.0</td>\n",
       "      <td>0.0</td>\n",
       "      <td>0.0</td>\n",
       "      <td>27.537022</td>\n",
       "      <td>27.881308</td>\n",
       "      <td>5711.471680</td>\n",
       "      <td>5711.471680</td>\n",
       "      <td>38200.0</td>\n",
       "      <td>606.096324</td>\n",
       "      <td>0.0</td>\n",
       "      <td>0.560327</td>\n",
       "      <td>0.200571</td>\n",
       "      <td>38</td>\n",
       "      <td>1</td>\n",
       "      <td>634.037621</td>\n",
       "      <td>634.037621</td>\n",
       "    </tr>\n",
       "    <tr>\n",
       "      <th>1898629</th>\n",
       "      <td>0.0</td>\n",
       "      <td>0.0</td>\n",
       "      <td>0.0</td>\n",
       "      <td>26.882814</td>\n",
       "      <td>27.072135</td>\n",
       "      <td>5711.471680</td>\n",
       "      <td>5711.471680</td>\n",
       "      <td>38467.0</td>\n",
       "      <td>600.026994</td>\n",
       "      <td>0.0</td>\n",
       "      <td>0.926449</td>\n",
       "      <td>-0.633551</td>\n",
       "      <td>267</td>\n",
       "      <td>1</td>\n",
       "      <td>627.303543</td>\n",
       "      <td>627.303543</td>\n",
       "    </tr>\n",
       "    <tr>\n",
       "      <th>1898630</th>\n",
       "      <td>0.0</td>\n",
       "      <td>0.0</td>\n",
       "      <td>0.0</td>\n",
       "      <td>26.924726</td>\n",
       "      <td>26.879493</td>\n",
       "      <td>5711.471680</td>\n",
       "      <td>5711.471680</td>\n",
       "      <td>38469.0</td>\n",
       "      <td>609.497892</td>\n",
       "      <td>0.0</td>\n",
       "      <td>-0.066857</td>\n",
       "      <td>-2.534204</td>\n",
       "      <td>2</td>\n",
       "      <td>1</td>\n",
       "      <td>627.737498</td>\n",
       "      <td>627.737498</td>\n",
       "    </tr>\n",
       "  </tbody>\n",
       "</table>\n",
       "<p>1898631 rows × 16 columns</p>\n",
       "</div>"
      ],
      "text/plain": [
       "         x (nm)  y (nm)  z (nm)   mc_c (Da)     mc (Da)  high_voltage (V)  \\\n",
       "0           0.0     0.0     0.0   27.370268   27.401002       5269.834473   \n",
       "1           0.0     0.0     0.0   27.255572   27.522766       5269.834473   \n",
       "2           0.0     0.0     0.0   27.125602   27.582728       5269.834473   \n",
       "3           0.0     0.0     0.0   27.305339   26.913047       5269.834473   \n",
       "4           0.0     0.0     0.0   27.156364   27.273478       5269.834473   \n",
       "...         ...     ...     ...         ...         ...               ...   \n",
       "1898626     0.0     0.0     0.0  261.370558  248.363850       5711.471680   \n",
       "1898627     0.0     0.0     0.0   26.897229   27.320343       5711.471680   \n",
       "1898628     0.0     0.0     0.0   27.537022   27.881308       5711.471680   \n",
       "1898629     0.0     0.0     0.0   26.882814   27.072135       5711.471680   \n",
       "1898630     0.0     0.0     0.0   26.924726   26.879493       5711.471680   \n",
       "\n",
       "           pulse (V)  start_counter       t (ns)  t_c (nm)  x_det (cm)  \\\n",
       "0        5269.834473        54436.0   635.421132       0.0   -1.595020   \n",
       "1        5269.834473        54903.0   635.901192       0.0    0.646286   \n",
       "2        5269.834473        55353.0   648.101574       0.0   -0.175102   \n",
       "3        5269.834473        55831.0   636.010920       0.0    1.964327   \n",
       "4        5269.834473        56022.0   633.350016       0.0    1.381714   \n",
       "...              ...            ...          ...       ...         ...   \n",
       "1898626  5711.471680        37587.0  1716.831720       0.0    0.369306   \n",
       "1898627  5711.471680        38162.0   600.993972       0.0    0.423429   \n",
       "1898628  5711.471680        38200.0   606.096324       0.0    0.560327   \n",
       "1898629  5711.471680        38467.0   600.026994       0.0    0.926449   \n",
       "1898630  5711.471680        38469.0   609.497892       0.0   -0.066857   \n",
       "\n",
       "         y_det (cm)  pulse_pi  ion_pp   tof_c (ns)     t_c (ns)  \n",
       "0         -1.661878         0       1   632.329093   632.329093  \n",
       "1          2.129878       467       1   631.150808   631.150808  \n",
       "2          3.155020       450       1   629.812492   629.812492  \n",
       "3         -1.999347       478       1   631.662383   631.662383  \n",
       "4          1.757388       191       1   630.129557   630.129557  \n",
       "...             ...       ...     ...          ...          ...  \n",
       "1898626   -1.330776        83       1  1791.799564  1791.799564  \n",
       "1898627    0.630367       575       1   627.452830   627.452830  \n",
       "1898628    0.200571        38       1   634.037621   634.037621  \n",
       "1898629   -0.633551       267       1   627.303543   627.303543  \n",
       "1898630   -2.534204         2       1   627.737498   627.737498  \n",
       "\n",
       "[1898631 rows x 16 columns]"
      ]
     },
     "execution_count": 9,
     "metadata": {},
     "output_type": "execute_result"
    }
   ],
   "source": [
    "data"
   ]
  },
  {
   "cell_type": "code",
   "execution_count": 10,
   "metadata": {
    "pycharm": {
     "name": "#%%\n"
    }
   },
   "outputs": [],
   "source": [
    "variables.mc_calib = data['mc_c (Da)'].to_numpy()\n",
    "cc = data['mc_c (Da)'].to_numpy()"
   ]
  },
  {
   "cell_type": "code",
   "execution_count": 24,
   "metadata": {},
   "outputs": [
    {
     "data": {
      "application/vnd.jupyter.widget-view+json": {
       "model_id": "c6084abe480f4dd79857bb6d34cde1ca",
       "version_major": 2,
       "version_minor": 0
      },
      "image/png": "[encoded data removed]",
      "text/html": [
       "\n",
       "            <div style=\"display: inline-block;\">\n",
       "                <div class=\"jupyter-widgets widget-label\" style=\"text-align: center;\">\n",
       "                    Figure\n",
       "                </div>\n",
       "                <img src='data:image/png;base64,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' width=216.53543307086616/>\n",
       "            </div>\n",
       "        "
      ],
      "text/plain": [
       "Canvas(toolbar=Toolbar(toolitems=[('Home', 'Reset original view', 'home', 'home'), ('Back', 'Back to previous …"
      ]
     },
     "metadata": {},
     "output_type": "display_data"
    }
   ],
   "source": [
    "peaks_ini, peaks_y_ini, peak_widths_p_ini, mask = tools.hist_plot(cc[cc < 50], 0.1, distance=10, percent=50, prominence=50, selector='peak', plot=True, label='mc', peaks_find=True, fig_size=(5.5/2.54, 5.5/2.54), fig_name='mc')"
   ]
  },
  {
   "cell_type": "code",
   "execution_count": 15,
   "metadata": {},
   "outputs": [],
   "source": [
    "bin_size=widgets.FloatText(value=0.1, description='bin size:')\n",
    "prominence=widgets.IntText(value=60, description='peak prominance:')\n",
    "distance=widgets.IntText(value=50, description='peak distance:')\n",
    "lim_tof=widgets.IntText(value=150, description='lim tof/mc:')\n",
    "percent=widgets.IntText(value=90, description='percent MRP:')\n",
    "\n",
    "def hist_plot(figname, plot):\n",
    "    variables.peaks_idx = []\n",
    "    peaks_sides_p = np.zeros(0)\n",
    "    with out:\n",
    "        clear_output(True)\n",
    "\n",
    "        bin_size_p = bin_size.value\n",
    "        prominence_p = prominence.value\n",
    "        distance_p = distance.value\n",
    "        lim_tof_p = lim_tof.value\n",
    "        percent_p = percent.value\n",
    "        peaks_ini, peaks_y_ini, peak_widths_p_ini = tools.hist_plot(variables.mc_calib[variables.mc_calib < lim_tof_p], bin_size_p, distance=distance_p, percent=percent_p, prominence=prominence_p, selector='peak', plot=plot, label='mc', fig_name=figname)\n",
    "        index_max_ini = np.argmax(peaks_y_ini)\n",
    "        variables.max_peak = peaks_ini[index_max_ini]\n",
    "        variables.peak = peaks_ini\n",
    "        variables.peak_y\n",
    "        variables.peak_width = peak_widths_p_ini\n",
    "        mrp = (peaks_ini[index_max_ini] / (peak_widths_p_ini[index_max_ini][2] - peak_widths_p_ini[index_max_ini][1]))\n",
    "        print('Mass resolving power for the highest peak (MRP --> m/m_2-m_1):', mrp)\n",
    "        for i in range(len(peaks_ini)):\n",
    "            print('Peaks ', i, 'is at location and height: ({:.2f}, {:.2f})'.format(peaks_ini[i], peaks_y_ini[i]), 'peak window sides (half-maximum) are: ({:.2f}, {:.2f})'.format(peak_widths_p_ini[i][1], peak_widths_p_ini[i][2]))"
   ]
  },
  {
   "cell_type": "code",
   "execution_count": 16,
   "metadata": {},
   "outputs": [],
   "source": [
    "peak_val = widgets.FloatText(value=1.1, description='peak value:')\n",
    "charge = widgets.Dropdown(\n",
    "    options=[('1', 1), ('2', 2), ('3', 3), ('4', 4)],\n",
    "    value=3,\n",
    "    description='charge:'\n",
    ")\n",
    "aboundance_threshold = widgets.FloatText(value=1, description='aboundance threshold:')\n",
    "mode = widgets.Dropdown(\n",
    "    options=[('elements', 'elements'), ('molecules', 'molecules')],\n",
    "    value='elements',\n",
    "    description='mode:'\n",
    ")\n",
    "\n",
    "num_element = widgets.IntText(value=1, description='num element:')\n",
    "# element_threshold = widgets.FloatText(value=1.0, description='Aboundance threshold:')\n",
    "\n",
    "def element_finder():\n",
    "    with out:\n",
    "        peak_val_s = peak_val.value\n",
    "        charge_s = charge.value\n",
    "        num_element_s = num_element.value\n",
    "#         num_molecule_s = num_molecule.value\n",
    "        mode_s = mode.value\n",
    "#         element_threshold_s = element_threshold.value\n",
    "        aboundance_threshold_s = aboundance_threshold.value\n",
    "        clear_output(True)\n",
    "        if mode_s == 'elements':\n",
    "            df = ion_selection.find_close_element(peak_val_s, num_element_s, aboundance_threshold_s, charge=charge_s)\n",
    "        elif mode_s == 'molecules':\n",
    "            df = ion_selection.find_close_molecule(peak_val_s, num_element_s, aboundance_threshold_s, charge=charge_s)\n",
    "        display(df)"
   ]
  },
  {
   "cell_type": "code",
   "execution_count": 17,
   "metadata": {},
   "outputs": [],
   "source": [
    "isotope_formula = widgets.Text(\n",
    "    value='',\n",
    "    placeholder='Type a formula',\n",
    "    description='Isotope formula:',\n",
    "    disabled=False\n",
    ")\n",
    "\n",
    "def manual_formula_calculator():\n",
    "    isotopeTableFile = '../../../files/isotopeTable.h5'\n",
    "    dataframe = data_tools.read_hdf5_through_pandas(isotopeTableFile)\n",
    "    df = ion_selection.molecule_isotop_list(dataframe, isotope_formula.value)\n",
    "    with out:\n",
    "        df = ion_selection.molecule_isotop_list(dataframe, isotope_formula.value)\n",
    "        clear_output(True)\n",
    "        display(df)"
   ]
  },
  {
   "cell_type": "code",
   "execution_count": 18,
   "metadata": {},
   "outputs": [],
   "source": [
    "isotopeTableFile = '../../../files/isotopeTable.h5'\n",
    "dataframe = data_tools.read_hdf5_through_pandas(isotopeTableFile)\n",
    "elementsList = dataframe['element']\n",
    "elementIsotopeList = dataframe['isotope']\n",
    "elementMassList =  dataframe['weight']\n",
    "abundanceList = dataframe['abundance']\n",
    "dropdownDict = {'element': elementsList, 'isotope': elementIsotopeList}\n",
    "\n",
    "elements = list(zip(elementsList, elementIsotopeList, elementMassList, abundanceList))\n",
    "dropdownList = []\n",
    "for element in elements:\n",
    "    tupleElement = (\"{} ({}) ({:.2f})\".format(element[0],element[1],element[3]), \"{}({})\".format(element[0], element[1]))\n",
    "    dropdownList.append(tupleElement)\n",
    "\n",
    "dropdown = wd.dropdownWidget(dropdownList, \"Elements\")\n",
    "dropdown.observe(wd.on_change_ions_selection)\n",
    "\n",
    "chargeList = [(1,1,),(2,2,),(3,3,),(4,4,)]\n",
    "chargeDropdown = wd.dropdownWidget(chargeList, \"Charge\")\n",
    "chargeDropdown.observe(wd.on_change_charge_ions_selection)\n",
    "\n",
    "# wd.compute_element_isotope_values_according_to_selected_charge(mode='ions_selection')\n",
    "\n",
    "buttonAdd = wd.buttonWidget(\"ADD\")\n",
    "buttonDelete = wd.buttonWidget(\"DELETE\")\n",
    "buttonReset = wd.buttonWidget(\"RESET\")\n",
    "\n",
    "def buttonAdd_f(b,):\n",
    "    with out:\n",
    "        clear_output(True)\n",
    "        wd.onClickAdd(b,)\n",
    "        display()\n",
    "def buttonDelete_f(b,):\n",
    "    with out:\n",
    "        clear_output(True)\n",
    "        variables.listMaterial.pop()\n",
    "        variables.element.pop()\n",
    "        variables.isotope.pop()\n",
    "        variables.charge.pop()\n",
    "        print(\"Updated List : \", variables.listMaterial)\n",
    "        print(\"Updated element List : \", variables.element)\n",
    "        print(\"Updated isotope List : \",  variables.isotope)\n",
    "        print(\"Updated charge List : \", variables.charge)\n",
    "def buttonResett_f(b,):\n",
    "    with out:\n",
    "        clear_output(True)\n",
    "        wd.onClickReset(b,)\n",
    "        display()\n",
    "\n",
    "buttonAdd.on_click(buttonAdd_f)\n",
    "buttonDelete.on_click(buttonDelete_f)\n",
    "buttonReset.on_click(buttonResett_f)\n",
    "\n",
    "add_button = widgets.Button(\n",
    "    description='add molecule',\n",
    ")\n",
    "\n",
    "peak_molecule = widgets.Text(\n",
    "    value='',\n",
    "    placeholder='molecule: H(1)2O(16)(2+)',\n",
    "    description='molecule:',\n",
    "    disabled=False\n",
    ")\n",
    "peak_molecule_elements = widgets.Text(\n",
    "    value='',\n",
    "    placeholder='elements: H,O',\n",
    "    description='elements:',\n",
    "    disabled=False\n",
    ")\n",
    "peak_molecule_isotope = widgets.Text(\n",
    "    value='',\n",
    "    placeholder='isotope: 1,16',\n",
    "    description='isotope:',\n",
    "    disabled=False\n",
    ")\n",
    "peak_molecule_charge = widgets.IntText(\n",
    "    placeholder='charge: 3',\n",
    "    description='charge:',\n",
    "    disabled=False\n",
    ")\n",
    "\n",
    "@add_button.on_click\n",
    "def add_molucule_to(b,):\n",
    "    with out:\n",
    "        clear_output(True)\n",
    "        if peak_molecule.value == 'unranged':\n",
    "            variables.listMaterial.append(peak_molecule.value)\n",
    "            variables.element.append(peak_molecule.value)\n",
    "            variables.isotope.append(0)\n",
    "            variables.charge.append(0)\n",
    "        else:\n",
    "            variables.listMaterial.append(peak_molecule.value)\n",
    "            variables.element.append(peak_molecule_elements.value.split(','))\n",
    "            variables.isotope.append(peak_molecule_isotope.value.split(','))\n",
    "            variables.charge.append(peak_molecule_charge.value)\n",
    "        print(\"Updated List : \", variables.listMaterial)\n",
    "        print(\"Updated element List : \", variables.element)\n",
    "        print(\"Updated isotope List : \",  variables.isotope)\n",
    "        print(\"Updated charge List : \", variables.charge)"
   ]
  },
  {
   "cell_type": "code",
   "execution_count": 19,
   "metadata": {},
   "outputs": [
    {
     "data": {
      "application/vnd.jupyter.widget-view+json": {
       "model_id": "fa4ed16fce874ab58d45821b25f7f88c",
       "version_major": 2,
       "version_minor": 0
      },
      "text/plain": [
       "VBox(children=(Tab(children=(VBox(children=(FloatText(value=0.1, description='bin size:'), IntText(value=60, d…"
      ]
     },
     "metadata": {},
     "output_type": "display_data"
    },
    {
     "data": {
      "application/vnd.jupyter.widget-view+json": {
       "model_id": "dadbea193b1e4700b9a9765be6009c0a",
       "version_major": 2,
       "version_minor": 0
      },
      "text/plain": [
       "Output()"
      ]
     },
     "metadata": {},
     "output_type": "display_data"
    }
   ],
   "source": [
    "plot_button = widgets.Button(\n",
    "    description='plot hist',\n",
    ")\n",
    "\n",
    "find_button = widgets.Button(\n",
    "    description='find element',\n",
    ")\n",
    "\n",
    "formula_find_button = widgets.Button(\n",
    "    description='molecule calculate',\n",
    ")\n",
    "\n",
    "    \n",
    "@plot_button.on_click\n",
    "def plot_on_click(b, figname=figname, plot=True):\n",
    "    hist_plot(figname, plot)\n",
    "\n",
    "    \n",
    "@find_button.on_click\n",
    "def vol_on_click(b,):\n",
    "    element_finder()\n",
    "    \n",
    "@formula_find_button.on_click\n",
    "def manual_formula(b,):\n",
    "    manual_formula_calculator()\n",
    "    \n",
    "tab1 = VBox(children=[bin_size, prominence, distance, lim_tof, percent])\n",
    "tab2 = HBox(children=[VBox(children=[peak_val, num_element, charge, aboundance_threshold, mode, \n",
    "                      find_button]),HBox(children=[isotope_formula, formula_find_button])])\n",
    "tab3 = VBox(children=[dropdown, chargeDropdown, buttonAdd, buttonDelete, buttonReset])\n",
    "tab4 = VBox(children=[peak_molecule, peak_molecule_elements, peak_molecule_isotope, peak_molecule_charge, add_button])\n",
    "\n",
    "\n",
    "tab = widgets.Tab(children=[tab1, tab2, tab3, tab4])\n",
    "tab.set_title(0, 'mc plot')\n",
    "tab.set_title(1, 'element finder')\n",
    "tab.set_title(2, 'add ions')\n",
    "tab.set_title(3, 'add molecules')\n",
    "\n",
    "\n",
    "display(VBox(children=[tab,HBox(children=[plot_button])]))\n",
    "out = Output()\n",
    "display(out)\n",
    "# unranged\t"
   ]
  },
  {
   "cell_type": "code",
   "execution_count": 23,
   "metadata": {},
   "outputs": [],
   "source": [
    "fake = Factory.create()\n",
    "data_table = '../../../files/color_scheme.h5'\n",
    "dataframe = data_tools.read_hdf5_through_pandas(data_table)\n",
    "color_list = []\n",
    "for i in range(len(variables.listMaterial)):\n",
    "    element_selec = re.sub(\"[\\(\\[].*?[\\)\\]]\", \"\", variables.listMaterial[i])\n",
    "    if len(re.findall(r'[A-Z]', element_selec)) > 1:\n",
    "        try:\n",
    "            r = dataframe[dataframe['ion'] == re.sub(r'[0-9]', '', element_selec)]['r'].to_numpy()\n",
    "            g = dataframe[dataframe['ion'] == re.sub(r'[0-9]', '', element_selec)]['g'].to_numpy()\n",
    "            b = dataframe[dataframe['ion'] == re.sub(r'[0-9]', '', element_selec)]['b'].to_numpy()\n",
    "            cc = matplotlib.colors.to_hex([r[0], g[0], b[0]])\n",
    "            color_list.append(cc)\n",
    "        except:\n",
    "            print('The element is not clor list')\n",
    "            color_list.append(fake.hex_color())\n",
    "    else:\n",
    "        try:\n",
    "            r = dataframe[dataframe['ion'] == re.sub(r'[0-9]', '', element_selec)]['r'].to_numpy()\n",
    "            g = dataframe[dataframe['ion'] == re.sub(r'[0-9]', '', element_selec)]['g'].to_numpy()\n",
    "            b = dataframe[dataframe['ion'] == re.sub(r'[0-9]', '', element_selec)]['b'].to_numpy()\n",
    "            cc = matplotlib.colors.to_hex([r[0], g[0], b[0]])\n",
    "            color_list.append(cc)\n",
    "        except:\n",
    "            print('The element is not clor list')\n",
    "            color_list.append(fake.hex_color())"
   ]
  },
  {
   "cell_type": "code",
   "execution_count": 24,
   "metadata": {},
   "outputs": [],
   "source": [
    "peak_width_chos = []\n",
    "for i in range(len(variables.peaks_idx)):\n",
    "    peak_width_chos.append(variables.peak_width[variables.peaks_idx[i]])\n",
    "peak_width_chos = np.array(peak_width_chos)"
   ]
  },
  {
   "cell_type": "code",
   "execution_count": 25,
   "metadata": {},
   "outputs": [],
   "source": [
    "range_data = pd.DataFrame({\"element\": variables.element, \"isotope\": variables.isotope, \"charge\": variables.charge,\n",
    "        \"mc_low\": [item[1] for item in peak_width_chos],\n",
    "       \"mc_up\": [item[2] for item in peak_width_chos],\"color\": color_list})"
   ]
  },
  {
   "cell_type": "code",
   "execution_count": 43,
   "metadata": {},
   "outputs": [
    {
     "data": {
      "application/vnd.jupyter.widget-view+json": {
       "model_id": "1364e182cffc4a9e8dcca25fac8636a1",
       "version_major": 2,
       "version_minor": 0
      },
      "text/plain": [
       "Sheet(cells=(Cell(column_end=0, column_start=0, numeric_format=None, row_end=2, row_start=0, squeeze_row=False…"
      ]
     },
     "execution_count": 43,
     "metadata": {},
     "output_type": "execute_result"
    }
   ],
   "source": [
    "sheet7 = ipysheet.from_dataframe(range_data)\n",
    "sheet7"
   ]
  },
  {
   "cell_type": "code",
   "execution_count": 49,
   "metadata": {},
   "outputs": [
    {
     "data": {
      "text/html": [
       "<div>\n",
       "<style scoped>\n",
       "    .dataframe tbody tr th:only-of-type {\n",
       "        vertical-align: middle;\n",
       "    }\n",
       "\n",
       "    .dataframe tbody tr th {\n",
       "        vertical-align: top;\n",
       "    }\n",
       "\n",
       "    .dataframe thead th {\n",
       "        text-align: right;\n",
       "    }\n",
       "</style>\n",
       "<table border=\"1\" class=\"dataframe\">\n",
       "  <thead>\n",
       "    <tr style=\"text-align: right;\">\n",
       "      <th></th>\n",
       "      <th>element</th>\n",
       "      <th>isotope</th>\n",
       "      <th>charge</th>\n",
       "      <th>mc_low</th>\n",
       "      <th>mc_up</th>\n",
       "      <th>color</th>\n",
       "    </tr>\n",
       "  </thead>\n",
       "  <tbody>\n",
       "    <tr>\n",
       "      <th>0</th>\n",
       "      <td>H</td>\n",
       "      <td>1</td>\n",
       "      <td>1</td>\n",
       "      <td>1.191262</td>\n",
       "      <td>1.289001</td>\n",
       "      <td>#FF3500</td>\n",
       "    </tr>\n",
       "    <tr>\n",
       "      <th>1</th>\n",
       "      <td>Al</td>\n",
       "      <td>27</td>\n",
       "      <td>2</td>\n",
       "      <td>13.310880</td>\n",
       "      <td>13.604096</td>\n",
       "      <td>#39FF14</td>\n",
       "    </tr>\n",
       "    <tr>\n",
       "      <th>2</th>\n",
       "      <td>Al</td>\n",
       "      <td>27</td>\n",
       "      <td>3</td>\n",
       "      <td>26.798841</td>\n",
       "      <td>27.287536</td>\n",
       "      <td>#39FF14</td>\n",
       "    </tr>\n",
       "  </tbody>\n",
       "</table>\n",
       "</div>"
      ],
      "text/plain": [
       "  element  isotope  charge     mc_low      mc_up    color\n",
       "0       H        1       1   1.191262   1.289001  #FF3500\n",
       "1      Al       27       2  13.310880  13.604096  #39FF14\n",
       "2      Al       27       3  26.798841  27.287536  #39FF14"
      ]
     },
     "execution_count": 49,
     "metadata": {},
     "output_type": "execute_result"
    }
   ],
   "source": [
    "range_data = ipysheet.to_dataframe(sheet7)\n",
    "range_data"
   ]
  },
  {
   "cell_type": "code",
   "execution_count": 50,
   "metadata": {},
   "outputs": [
    {
     "data": {
      "application/vnd.jupyter.widget-view+json": {
       "model_id": "8bcf28ccae424542a4d60ad0cc3b9e0f",
       "version_major": 2,
       "version_minor": 0
      },
      "text/plain": [
       "interactive(children=(FloatText(value=0.1, description='bin_size'), IntText(value=50, description='prominence'…"
      ]
     },
     "metadata": {},
     "output_type": "display_data"
    }
   ],
   "source": [
    "def mc_hist_plot(data, range_data, bin_size, prominence, distance, percent, selector, plot, figname, lim_mc, mc_peak_label, ranging, adjust_label):\n",
    "    mc = data['mc_c (Da)'].to_numpy()\n",
    "    peaks_ini, peaks_y_ini, peak_widths_p_ini = tools.hist_plot(mc[mc < lim_mc], bin_size, range_data=range_data, mc_peak_label=mc_peak_label, ranging=ranging, adjust_label=adjust_label, distance=distance, percent=percent, prominence=prominence, selector=selector, plot=plot, label='mc', fig_name=figname+'_ini')\n",
    "    index_max_ini = np.argmax(peaks_y_ini)\n",
    "    variables.max_peak = peaks_ini[index_max_ini]\n",
    "    variables.peak = peaks_ini\n",
    "    mrp = (peaks_ini[index_max_ini] / (peak_widths_p_ini[index_max_ini][2] - peak_widths_p_ini[index_max_ini][1]))\n",
    "    print('Mass resolving power for the highest peak (MRP --> m/m_2-m_1):', mrp)\n",
    "    for i in range(len(peaks_ini)):\n",
    "        print('Peaks ', i, 'is at location and height: ({:.2f}, {:.2f})'.format(peaks_ini[i], peaks_y_ini[i]), 'peak window sides (half-maximum) are: ({:.2f}, {:.2f})'.format(peak_widths_p_ini[i][1], peak_widths_p_ini[i][2]))\n",
    "\n",
    "interact_manual(mc_hist_plot, data=fixed(data), range_data=fixed(range_data), bin_size=widgets.FloatText(value=0.1)\n",
    "               ,prominence=widgets.IntText(value=50), distance=widgets.IntText(value=100), lim_mc=widgets.IntText(value=150)\n",
    "               ,percent=widgets.IntText(value=50), selector=fixed('rect'), plot=fixed(True), figname=fixed(figname),\n",
    "               mc_peak_label=widgets.Dropdown(options=[('True', True), ('False', False)]),\n",
    "                ranging=widgets.Dropdown(options=[('True', True), ('False', False)]),\n",
    "                adjust_label=widgets.Dropdown(options=[('True', True), ('False', False)]));\n"
   ]
  },
  {
   "cell_type": "code",
   "execution_count": 51,
   "metadata": {},
   "outputs": [
    {
     "data": {
      "text/html": [
       "<div>\n",
       "<style scoped>\n",
       "    .dataframe tbody tr th:only-of-type {\n",
       "        vertical-align: middle;\n",
       "    }\n",
       "\n",
       "    .dataframe tbody tr th {\n",
       "        vertical-align: top;\n",
       "    }\n",
       "\n",
       "    .dataframe thead th {\n",
       "        text-align: right;\n",
       "    }\n",
       "</style>\n",
       "<table border=\"1\" class=\"dataframe\">\n",
       "  <thead>\n",
       "    <tr style=\"text-align: right;\">\n",
       "      <th></th>\n",
       "      <th>element</th>\n",
       "      <th>isotope</th>\n",
       "      <th>charge</th>\n",
       "      <th>mc_low</th>\n",
       "      <th>mc_up</th>\n",
       "      <th>color</th>\n",
       "    </tr>\n",
       "  </thead>\n",
       "  <tbody>\n",
       "    <tr>\n",
       "      <th>0</th>\n",
       "      <td>H</td>\n",
       "      <td>1</td>\n",
       "      <td>1</td>\n",
       "      <td>1.191262</td>\n",
       "      <td>1.289001</td>\n",
       "      <td>#FF3500</td>\n",
       "    </tr>\n",
       "    <tr>\n",
       "      <th>1</th>\n",
       "      <td>Al</td>\n",
       "      <td>27</td>\n",
       "      <td>2</td>\n",
       "      <td>13.310880</td>\n",
       "      <td>13.604096</td>\n",
       "      <td>#39FF14</td>\n",
       "    </tr>\n",
       "    <tr>\n",
       "      <th>2</th>\n",
       "      <td>Al</td>\n",
       "      <td>27</td>\n",
       "      <td>3</td>\n",
       "      <td>26.798841</td>\n",
       "      <td>27.287536</td>\n",
       "      <td>#39FF14</td>\n",
       "    </tr>\n",
       "  </tbody>\n",
       "</table>\n",
       "</div>"
      ],
      "text/plain": [
       "  element  isotope  charge     mc_low      mc_up    color\n",
       "0       H        1       1   1.191262   1.289001  #FF3500\n",
       "1      Al       27       2  13.310880  13.604096  #39FF14\n",
       "2      Al       27       3  26.798841  27.287536  #39FF14"
      ]
     },
     "execution_count": 51,
     "metadata": {},
     "output_type": "execute_result"
    }
   ],
   "source": [
    "range_data"
   ]
  },
  {
   "cell_type": "code",
   "execution_count": 52,
   "metadata": {},
   "outputs": [
    {
     "data": {
      "text/plain": [
       "element     object\n",
       "isotope      int32\n",
       "charge       int32\n",
       "mc_low     float64\n",
       "mc_up      float64\n",
       "color       object\n",
       "dtype: object"
      ]
     },
     "execution_count": 52,
     "metadata": {},
     "output_type": "execute_result"
    }
   ],
   "source": [
    "range_data.dtypes"
   ]
  },
  {
   "cell_type": "code",
   "execution_count": 53,
   "metadata": {
    "pycharm": {
     "name": "#%%\n"
    }
   },
   "outputs": [],
   "source": [
    "# save the new data\n",
    "name_save_file = variables.result_path + '//' + dataset_name + '.h5'\n",
    "data_tools.store_df_to_hdf(name_save_file, range_data, 'df')"
   ]
  },
  {
   "cell_type": "code",
   "execution_count": 54,
   "metadata": {},
   "outputs": [],
   "source": [
    "# save data in csv format\n",
    "data_tools.store_df_to_csv(range_data, variables.result_path + 'range_' + dataset_name + '.csv')"
   ]
  },
  {
   "cell_type": "code",
   "execution_count": null,
   "metadata": {},
   "outputs": [],
   "source": []
  },
  {
   "cell_type": "code",
   "execution_count": null,
   "metadata": {},
   "outputs": [],
   "source": []
  }
 ],
 "metadata": {
  "kernelspec": {
   "display_name": "Python 3 (ipykernel)",
   "language": "python",
   "name": "python3"
  },
  "language_info": {
   "codemirror_mode": {
    "name": "ipython",
    "version": 3
   },
   "file_extension": ".py",
   "mimetype": "text/x-python",
   "name": "python",
   "nbconvert_exporter": "python",
   "pygments_lexer": "ipython3",
   "version": "3.8.13"
  }
 },
 "nbformat": 4,
 "nbformat_minor": 4
}

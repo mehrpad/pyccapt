{
 "cells": [
  {
   "cell_type": "code",
   "execution_count": 1,
   "metadata": {
    "pycharm": {
     "name": "#%%\n"
    }
   },
   "outputs": [],
   "source": [
    "%matplotlib ipympl\n",
    "import os\n",
    "import os.path as path\n",
    "import pandas as pd\n",
    "import numpy as np\n",
    "from scipy.optimize import curve_fit\n",
    "from faker import Factory\n",
    "from scipy import interpolate\n",
    "from sklearn.preprocessing import MinMaxScaler\n",
    "from mpl_toolkits.mplot3d import Axes3D\n",
    "import matplotlib.pyplot as plt\n",
    "import math \n",
    "import itertools \n",
    "from ipywidgets import interact, interactive, fixed, interact_manual, widgets\n",
    "from ipywidgets import HBox, VBox\n",
    "from ipywidgets import IntSlider, Output\n",
    "from IPython.display import clear_output\n",
    "import h5py\n",
    "import re\n",
    "import matplotlib\n",
    "import ipysheet\n",
    "\n",
    "# Local module and scripts\n",
    "from pyccapt.calibration.calibration_tools import tools, data_tools, variables, calibration, data_loadcrop, ion_selection\n",
    "from pyccapt.calibration.calibration_tools import widgets as wd\n",
    "from pyccapt.calibration.calibration_tools import dataset_path_qt"
   ]
  },
  {
   "cell_type": "code",
   "execution_count": 2,
   "metadata": {},
   "outputs": [],
   "source": [
    "%load_ext autoreload\n",
    "%autoreload 2"
   ]
  },
  {
   "cell_type": "code",
   "execution_count": 3,
   "metadata": {},
   "outputs": [],
   "source": [
    "%reload_ext autoreload"
   ]
  },
  {
   "cell_type": "code",
   "execution_count": 4,
   "metadata": {},
   "outputs": [],
   "source": [
    "# Disable showing logging in Jupyter notebook\n",
    "import logging, sys\n",
    "logging.disable(sys.maxsize)"
   ]
  },
  {
   "cell_type": "code",
   "execution_count": 5,
   "metadata": {},
   "outputs": [
    {
     "data": {
      "application/vnd.jupyter.widget-view+json": {
       "model_id": "09b1ec96e801423ea01d8a6a55d169f2",
       "version_major": 2,
       "version_minor": 0
      },
      "text/plain": [
       "Button(description='load dataset', style=ButtonStyle())"
      ]
     },
     "execution_count": 5,
     "metadata": {},
     "output_type": "execute_result"
    }
   ],
   "source": [
    "button = widgets.Button(\n",
    "    description='load dataset',\n",
    ")\n",
    "\n",
    "@button.on_click\n",
    "def open_file_on_click(b):\n",
    "    global dataset_path\n",
    "    dataset_path = dataset_path_qt.gui_fname().decode('ASCII')\n",
    "button"
   ]
  },
  {
   "cell_type": "code",
   "execution_count": 6,
   "metadata": {},
   "outputs": [
    {
     "data": {
      "application/vnd.jupyter.widget-view+json": {
       "model_id": "cd5109d058964283832e38d8696370b9",
       "version_major": 2,
       "version_minor": 0
      },
      "text/plain": [
       "Dropdown(description='Data mode:', options=('surface_concept', 'roentdec', 'leap_epos', 'leap_pos'), value='su…"
      ]
     },
     "metadata": {},
     "output_type": "display_data"
    }
   ],
   "source": [
    "tdc, pulse_mode, flightPathLength_d, t0_d, max_mc, det_diam = wd.dataset_tdc_selection()\n",
    "display(tdc)"
   ]
  },
  {
   "cell_type": "markdown",
   "metadata": {
    "pycharm": {
     "name": "#%% md\n"
    }
   },
   "source": [
    "$$\\textbf{You can specify which dataset to use in below block}$$"
   ]
  },
  {
   "cell_type": "code",
   "execution_count": 7,
   "metadata": {},
   "outputs": [],
   "source": [
    "\n",
    "\n",
    "dataset_main_path = os.path.dirname(dataset_path)\n",
    "dataset_name_with_extention = os.path.basename(dataset_path)\n",
    "dataset_name = os.path.splitext(dataset_name_with_extention)[0]\n",
    "\n",
    "\n",
    "variables.init()\n",
    "# variables.path = os.path.join(p, 'tests//data')\n",
    "variables.result_path = os.path.dirname(dataset_main_path) + '/ion_selection_ranging/'\n",
    "if not os.path.isdir(variables.result_path):\n",
    "    os.makedirs(variables.result_path, mode=0o777, exist_ok=True)\n",
    "        \n",
    "filename = dataset_path\n",
    "\n",
    "head, tail = os.path.split(filename)\n",
    "figname = os.path.splitext(tail)[0]\n",
    "\n",
    "if tdc.value == 'leap_pos' or tdc.value == 'leap_epos':\n",
    "    if tdc.value == 'leap_epos':\n",
    "        data = ccapt_tools.epos_to_ccapt(filename)\n",
    "    else:\n",
    "        data = ccapt_tools.pos_to_ccapt(filename)\n",
    "else:\n",
    "    data = data_tools.read_hdf5_through_pandas(filename)"
   ]
  },
  {
   "cell_type": "code",
   "execution_count": 8,
   "metadata": {
    "pycharm": {
     "name": "#%%\n"
    }
   },
   "outputs": [
    {
     "data": {
      "text/html": [
       "<div>\n",
       "<style scoped>\n",
       "    .dataframe tbody tr th:only-of-type {\n",
       "        vertical-align: middle;\n",
       "    }\n",
       "\n",
       "    .dataframe tbody tr th {\n",
       "        vertical-align: top;\n",
       "    }\n",
       "\n",
       "    .dataframe thead th {\n",
       "        text-align: right;\n",
       "    }\n",
       "</style>\n",
       "<table border=\"1\" class=\"dataframe\">\n",
       "  <thead>\n",
       "    <tr style=\"text-align: right;\">\n",
       "      <th></th>\n",
       "      <th>x (nm)</th>\n",
       "      <th>y (nm)</th>\n",
       "      <th>z (nm)</th>\n",
       "      <th>mc_c (Da)</th>\n",
       "      <th>mc (Da)</th>\n",
       "      <th>high_voltage (V)</th>\n",
       "      <th>pulse (V)</th>\n",
       "      <th>start_counter</th>\n",
       "      <th>t (ns)</th>\n",
       "      <th>t_c (ns)</th>\n",
       "      <th>x_det (cm)</th>\n",
       "      <th>y_det (cm)</th>\n",
       "      <th>pulse_pi</th>\n",
       "      <th>ion_pp</th>\n",
       "    </tr>\n",
       "  </thead>\n",
       "  <tbody>\n",
       "    <tr>\n",
       "      <th>0</th>\n",
       "      <td>0.0</td>\n",
       "      <td>0.0</td>\n",
       "      <td>0.0</td>\n",
       "      <td>27.203929</td>\n",
       "      <td>26.858980</td>\n",
       "      <td>5308.779785</td>\n",
       "      <td>5308.779785</td>\n",
       "      <td>40011.0</td>\n",
       "      <td>627.664734</td>\n",
       "      <td>607.679956</td>\n",
       "      <td>0.261061</td>\n",
       "      <td>-2.078939</td>\n",
       "      <td>0</td>\n",
       "      <td>1</td>\n",
       "    </tr>\n",
       "    <tr>\n",
       "      <th>1</th>\n",
       "      <td>0.0</td>\n",
       "      <td>0.0</td>\n",
       "      <td>0.0</td>\n",
       "      <td>13.446890</td>\n",
       "      <td>13.932026</td>\n",
       "      <td>5308.779785</td>\n",
       "      <td>5308.779785</td>\n",
       "      <td>40109.0</td>\n",
       "      <td>468.627714</td>\n",
       "      <td>446.434677</td>\n",
       "      <td>-1.359429</td>\n",
       "      <td>1.852898</td>\n",
       "      <td>98</td>\n",
       "      <td>1</td>\n",
       "    </tr>\n",
       "    <tr>\n",
       "      <th>2</th>\n",
       "      <td>0.0</td>\n",
       "      <td>0.0</td>\n",
       "      <td>0.0</td>\n",
       "      <td>27.197266</td>\n",
       "      <td>26.868429</td>\n",
       "      <td>5308.779785</td>\n",
       "      <td>5308.779785</td>\n",
       "      <td>40584.0</td>\n",
       "      <td>626.190264</td>\n",
       "      <td>607.613990</td>\n",
       "      <td>0.518939</td>\n",
       "      <td>-1.852898</td>\n",
       "      <td>475</td>\n",
       "      <td>1</td>\n",
       "    </tr>\n",
       "    <tr>\n",
       "      <th>3</th>\n",
       "      <td>0.0</td>\n",
       "      <td>0.0</td>\n",
       "      <td>0.0</td>\n",
       "      <td>27.385571</td>\n",
       "      <td>26.906825</td>\n",
       "      <td>5308.779785</td>\n",
       "      <td>5308.779785</td>\n",
       "      <td>40660.0</td>\n",
       "      <td>634.721616</td>\n",
       "      <td>609.475084</td>\n",
       "      <td>2.394122</td>\n",
       "      <td>-1.238449</td>\n",
       "      <td>76</td>\n",
       "      <td>1</td>\n",
       "    </tr>\n",
       "    <tr>\n",
       "      <th>4</th>\n",
       "      <td>0.0</td>\n",
       "      <td>0.0</td>\n",
       "      <td>0.0</td>\n",
       "      <td>26.790673</td>\n",
       "      <td>26.701936</td>\n",
       "      <td>5308.779785</td>\n",
       "      <td>5308.779785</td>\n",
       "      <td>41070.0</td>\n",
       "      <td>618.817914</td>\n",
       "      <td>603.572521</td>\n",
       "      <td>-0.273796</td>\n",
       "      <td>-1.092000</td>\n",
       "      <td>410</td>\n",
       "      <td>1</td>\n",
       "    </tr>\n",
       "    <tr>\n",
       "      <th>...</th>\n",
       "      <td>...</td>\n",
       "      <td>...</td>\n",
       "      <td>...</td>\n",
       "      <td>...</td>\n",
       "      <td>...</td>\n",
       "      <td>...</td>\n",
       "      <td>...</td>\n",
       "      <td>...</td>\n",
       "      <td>...</td>\n",
       "      <td>...</td>\n",
       "      <td>...</td>\n",
       "      <td>...</td>\n",
       "      <td>...</td>\n",
       "      <td>...</td>\n",
       "    </tr>\n",
       "    <tr>\n",
       "      <th>1667046</th>\n",
       "      <td>0.0</td>\n",
       "      <td>0.0</td>\n",
       "      <td>0.0</td>\n",
       "      <td>27.094697</td>\n",
       "      <td>27.578625</td>\n",
       "      <td>5707.994141</td>\n",
       "      <td>5707.994141</td>\n",
       "      <td>7938.0</td>\n",
       "      <td>616.280454</td>\n",
       "      <td>606.597450</td>\n",
       "      <td>-1.251184</td>\n",
       "      <td>1.891102</td>\n",
       "      <td>46</td>\n",
       "      <td>1</td>\n",
       "    </tr>\n",
       "    <tr>\n",
       "      <th>1667047</th>\n",
       "      <td>0.0</td>\n",
       "      <td>0.0</td>\n",
       "      <td>0.0</td>\n",
       "      <td>27.170451</td>\n",
       "      <td>26.978424</td>\n",
       "      <td>5707.994141</td>\n",
       "      <td>5707.994141</td>\n",
       "      <td>8036.0</td>\n",
       "      <td>605.952306</td>\n",
       "      <td>607.348425</td>\n",
       "      <td>-0.085959</td>\n",
       "      <td>-1.801959</td>\n",
       "      <td>98</td>\n",
       "      <td>1</td>\n",
       "    </tr>\n",
       "    <tr>\n",
       "      <th>1667048</th>\n",
       "      <td>0.0</td>\n",
       "      <td>0.0</td>\n",
       "      <td>0.0</td>\n",
       "      <td>27.033607</td>\n",
       "      <td>27.485783</td>\n",
       "      <td>5707.994141</td>\n",
       "      <td>5707.994141</td>\n",
       "      <td>8793.0</td>\n",
       "      <td>614.840274</td>\n",
       "      <td>605.991048</td>\n",
       "      <td>-2.056653</td>\n",
       "      <td>0.830939</td>\n",
       "      <td>757</td>\n",
       "      <td>1</td>\n",
       "    </tr>\n",
       "    <tr>\n",
       "      <th>1667049</th>\n",
       "      <td>0.0</td>\n",
       "      <td>0.0</td>\n",
       "      <td>0.0</td>\n",
       "      <td>27.015597</td>\n",
       "      <td>26.978832</td>\n",
       "      <td>5707.994141</td>\n",
       "      <td>5707.994141</td>\n",
       "      <td>8923.0</td>\n",
       "      <td>602.166690</td>\n",
       "      <td>605.812130</td>\n",
       "      <td>1.216163</td>\n",
       "      <td>0.273796</td>\n",
       "      <td>130</td>\n",
       "      <td>1</td>\n",
       "    </tr>\n",
       "    <tr>\n",
       "      <th>1667050</th>\n",
       "      <td>0.0</td>\n",
       "      <td>0.0</td>\n",
       "      <td>0.0</td>\n",
       "      <td>27.017525</td>\n",
       "      <td>26.970837</td>\n",
       "      <td>5707.994141</td>\n",
       "      <td>5707.994141</td>\n",
       "      <td>9377.0</td>\n",
       "      <td>611.479854</td>\n",
       "      <td>605.831293</td>\n",
       "      <td>1.872000</td>\n",
       "      <td>1.512245</td>\n",
       "      <td>454</td>\n",
       "      <td>1</td>\n",
       "    </tr>\n",
       "  </tbody>\n",
       "</table>\n",
       "<p>1667051 rows × 14 columns</p>\n",
       "</div>"
      ],
      "text/plain": [
       "         x (nm)  y (nm)  z (nm)  mc_c (Da)    mc (Da)  high_voltage (V)  \\\n",
       "0           0.0     0.0     0.0  27.203929  26.858980       5308.779785   \n",
       "1           0.0     0.0     0.0  13.446890  13.932026       5308.779785   \n",
       "2           0.0     0.0     0.0  27.197266  26.868429       5308.779785   \n",
       "3           0.0     0.0     0.0  27.385571  26.906825       5308.779785   \n",
       "4           0.0     0.0     0.0  26.790673  26.701936       5308.779785   \n",
       "...         ...     ...     ...        ...        ...               ...   \n",
       "1667046     0.0     0.0     0.0  27.094697  27.578625       5707.994141   \n",
       "1667047     0.0     0.0     0.0  27.170451  26.978424       5707.994141   \n",
       "1667048     0.0     0.0     0.0  27.033607  27.485783       5707.994141   \n",
       "1667049     0.0     0.0     0.0  27.015597  26.978832       5707.994141   \n",
       "1667050     0.0     0.0     0.0  27.017525  26.970837       5707.994141   \n",
       "\n",
       "           pulse (V)  start_counter      t (ns)    t_c (ns)  x_det (cm)  \\\n",
       "0        5308.779785        40011.0  627.664734  607.679956    0.261061   \n",
       "1        5308.779785        40109.0  468.627714  446.434677   -1.359429   \n",
       "2        5308.779785        40584.0  626.190264  607.613990    0.518939   \n",
       "3        5308.779785        40660.0  634.721616  609.475084    2.394122   \n",
       "4        5308.779785        41070.0  618.817914  603.572521   -0.273796   \n",
       "...              ...            ...         ...         ...         ...   \n",
       "1667046  5707.994141         7938.0  616.280454  606.597450   -1.251184   \n",
       "1667047  5707.994141         8036.0  605.952306  607.348425   -0.085959   \n",
       "1667048  5707.994141         8793.0  614.840274  605.991048   -2.056653   \n",
       "1667049  5707.994141         8923.0  602.166690  605.812130    1.216163   \n",
       "1667050  5707.994141         9377.0  611.479854  605.831293    1.872000   \n",
       "\n",
       "         y_det (cm)  pulse_pi  ion_pp  \n",
       "0         -2.078939         0       1  \n",
       "1          1.852898        98       1  \n",
       "2         -1.852898       475       1  \n",
       "3         -1.238449        76       1  \n",
       "4         -1.092000       410       1  \n",
       "...             ...       ...     ...  \n",
       "1667046    1.891102        46       1  \n",
       "1667047   -1.801959        98       1  \n",
       "1667048    0.830939       757       1  \n",
       "1667049    0.273796       130       1  \n",
       "1667050    1.512245       454       1  \n",
       "\n",
       "[1667051 rows x 14 columns]"
      ]
     },
     "execution_count": 8,
     "metadata": {},
     "output_type": "execute_result"
    }
   ],
   "source": [
    "data"
   ]
  },
  {
   "cell_type": "code",
   "execution_count": 9,
   "metadata": {
    "pycharm": {
     "name": "#%%\n"
    }
   },
   "outputs": [],
   "source": [
    "variables.mc_calib = data['mc_c (Da)'].to_numpy()\n",
    "cc = data['mc_c (Da)'].to_numpy()"
   ]
  },
  {
   "cell_type": "code",
   "execution_count": 10,
   "metadata": {},
   "outputs": [
    {
     "name": "stdout",
     "output_type": "stream",
     "text": [
      "The peak index for MRP calculation is: 1\n"
     ]
    },
    {
     "data": {
      "application/vnd.jupyter.widget-view+json": {
       "model_id": "181fc92fe2cd4570b7190d7b1a21c9e3",
       "version_major": 2,
       "version_minor": 0
      },
      "image/png": "[encoded data removed]",
      "text/html": [
       "\n",
       "            <div style=\"display: inline-block;\">\n",
       "                <div class=\"jupyter-widgets widget-label\" style=\"text-align: center;\">\n",
       "                    Figure\n",
       "                </div>\n",
       "                <img src='data:image/png;base64,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' width=354.3307086614173/>\n",
       "            </div>\n",
       "        "
      ],
      "text/plain": [
       "Canvas(toolbar=Toolbar(toolitems=[('Home', 'Reset original view', 'home', 'home'), ('Back', 'Back to previous …"
      ]
     },
     "metadata": {},
     "output_type": "display_data"
    }
   ],
   "source": [
    "peaks_ini, peaks_y_ini, peak_widths_p_ini = tools.hist_plot(cc[cc < 100], 0.1, distance=10, percent=50, prominence=50, selector='peak', plot=True, label='mc')"
   ]
  },
  {
   "cell_type": "code",
   "execution_count": 11,
   "metadata": {},
   "outputs": [],
   "source": [
    "bin_size=widgets.FloatText(value=0.1, description='bin size:')\n",
    "prominence=widgets.IntText(value=60, description='peak prominance:')\n",
    "distance=widgets.IntText(value=50, description='peak distance:')\n",
    "lim_tof=widgets.IntText(value=150, description='lim tof/mc:')\n",
    "percent=widgets.IntText(value=90, description='percent MRP:')\n",
    "\n",
    "def hist_plot(figname, plot):\n",
    "    variables.peaks_idx = []\n",
    "    peaks_sides_p = np.zeros(0)\n",
    "    with out:\n",
    "        clear_output(True)\n",
    "\n",
    "        bin_size_p = bin_size.value\n",
    "        prominence_p = prominence.value\n",
    "        distance_p = distance.value\n",
    "        lim_tof_p = lim_tof.value\n",
    "        percent_p = percent.value\n",
    "        peaks_ini, peaks_y_ini, peak_widths_p_ini = tools.hist_plot(variables.mc_calib[variables.mc_calib < lim_tof_p], bin_size_p, distance=distance_p, percent=percent_p, prominence=prominence_p, selector='peak', plot=plot, label='mc', fig_name=figname)\n",
    "        index_max_ini = np.argmax(peaks_y_ini)\n",
    "        variables.max_peak = peaks_ini[index_max_ini]\n",
    "        variables.peak = peaks_ini\n",
    "        variables.peak_y\n",
    "        variables.peak_width = peak_widths_p_ini\n",
    "        mrp = (peaks_ini[index_max_ini] / (peak_widths_p_ini[index_max_ini][2] - peak_widths_p_ini[index_max_ini][1]))\n",
    "        print('Mass resolving power for the highest peak (MRP --> m/m_2-m_1):', mrp)\n",
    "        for i in range(len(peaks_ini)):\n",
    "            print('Peaks ', i, 'is at location and height: ({:.2f}, {:.2f})'.format(peaks_ini[i], peaks_y_ini[i]), 'peak window sides (half-maximum) are: ({:.2f}, {:.2f})'.format(peak_widths_p_ini[i][1], peak_widths_p_ini[i][2]))"
   ]
  },
  {
   "cell_type": "code",
   "execution_count": 12,
   "metadata": {},
   "outputs": [],
   "source": [
    "peak_val = widgets.FloatText(value=1.1, description='peak value:')\n",
    "charge = widgets.Dropdown(\n",
    "    options=[('1', 1), ('2', 2), ('3', 3), ('4', 4)],\n",
    "    value=3,\n",
    "    description='charge:'\n",
    ")\n",
    "aboundance_threshold = widgets.FloatText(value=1, description='aboundance threshold:')\n",
    "mode = widgets.Dropdown(\n",
    "    options=[('elements', 'elements'), ('molecules', 'molecules')],\n",
    "    value='elements',\n",
    "    description='mode:'\n",
    ")\n",
    "\n",
    "num_element = widgets.IntText(value=1, description='num element:')\n",
    "# element_threshold = widgets.FloatText(value=1.0, description='Aboundance threshold:')\n",
    "\n",
    "def element_finder():\n",
    "    with out:\n",
    "        peak_val_s = peak_val.value\n",
    "        charge_s = charge.value\n",
    "        num_element_s = num_element.value\n",
    "#         num_molecule_s = num_molecule.value\n",
    "        mode_s = mode.value\n",
    "#         element_threshold_s = element_threshold.value\n",
    "        aboundance_threshold_s = aboundance_threshold.value\n",
    "        clear_output(True)\n",
    "        if mode_s == 'elements':\n",
    "            df = ion_selection.find_close_element(peak_val_s, num_element_s, aboundance_threshold_s, charge=charge_s)\n",
    "        elif mode_s == 'molecules':\n",
    "            df = ion_selection.find_close_molecule(peak_val_s, num_element_s, aboundance_threshold_s, charge=charge_s)\n",
    "        display(df)"
   ]
  },
  {
   "cell_type": "code",
   "execution_count": 13,
   "metadata": {},
   "outputs": [],
   "source": [
    "isotope_formula = widgets.Text(\n",
    "    value='',\n",
    "    placeholder='Type a formula',\n",
    "    description='Isotope formula:',\n",
    "    disabled=False\n",
    ")\n",
    "\n",
    "def manual_formula_calculator():\n",
    "    isotopeTableFile = '../../../files/isotopeTable.h5'\n",
    "    dataframe = data_tools.read_hdf5_through_pandas(isotopeTableFile)\n",
    "    df = ion_selection.molecule_isotop_list(dataframe, isotope_formula.value)\n",
    "    with out:\n",
    "        df = ion_selection.molecule_isotop_list(dataframe, isotope_formula.value)\n",
    "        clear_output(True)\n",
    "        display(df)"
   ]
  },
  {
   "cell_type": "code",
   "execution_count": 14,
   "metadata": {},
   "outputs": [],
   "source": [
    "isotopeTableFile = '../../../files/isotopeTable.h5'\n",
    "dataframe = data_tools.read_hdf5_through_pandas(isotopeTableFile)\n",
    "elementsList = dataframe['element']\n",
    "elementIsotopeList = dataframe['isotope']\n",
    "elementMassList =  dataframe['weight']\n",
    "abundanceList = dataframe['abundance']\n",
    "dropdownDict = {'element': elementsList, 'isotope': elementIsotopeList}\n",
    "\n",
    "elements = list(zip(elementsList, elementIsotopeList, elementMassList, abundanceList))\n",
    "dropdownList = []\n",
    "for element in elements:\n",
    "    tupleElement = (\"{} ({}) ({:.2f})\".format(element[0],element[1],element[3]), \"{}({})\".format(element[0], element[1]))\n",
    "    dropdownList.append(tupleElement)\n",
    "\n",
    "dropdown = wd.dropdownWidget(dropdownList, \"Elements\")\n",
    "dropdown.observe(wd.on_change_ions_selection)\n",
    "\n",
    "chargeList = [(1,1,),(2,2,),(3,3,),(4,4,)]\n",
    "chargeDropdown = wd.dropdownWidget(chargeList, \"Charge\")\n",
    "chargeDropdown.observe(wd.on_change_charge_ions_selection)\n",
    "\n",
    "# wd.compute_element_isotope_values_according_to_selected_charge(mode='ions_selection')\n",
    "\n",
    "buttonAdd = wd.buttonWidget(\"ADD\")\n",
    "buttonDelete = wd.buttonWidget(\"DELETE\")\n",
    "buttonReset = wd.buttonWidget(\"RESET\")\n",
    "\n",
    "def buttonAdd_f(b,):\n",
    "    with out:\n",
    "        clear_output(True)\n",
    "        wd.onClickAdd(b,)\n",
    "        display()\n",
    "def buttonDelete_f(b,):\n",
    "    with out:\n",
    "        clear_output(True)\n",
    "        variables.listMaterial.pop()\n",
    "        variables.element.pop()\n",
    "        variables.isotope.pop()\n",
    "        variables.charge.pop()\n",
    "        print(\"Updated List : \", variables.listMaterial)\n",
    "        print(\"Updated element List : \", variables.element)\n",
    "        print(\"Updated isotope List : \",  variables.isotope)\n",
    "        print(\"Updated charge List : \", variables.charge)\n",
    "def buttonResett_f(b,):\n",
    "    with out:\n",
    "        clear_output(True)\n",
    "        wd.onClickReset(b,)\n",
    "        display()\n",
    "\n",
    "buttonAdd.on_click(buttonAdd_f)\n",
    "buttonDelete.on_click(buttonDelete_f)\n",
    "buttonReset.on_click(buttonResett_f)\n",
    "\n",
    "add_button = widgets.Button(\n",
    "    description='add molecule',\n",
    ")\n",
    "\n",
    "peak_molecule = widgets.Text(\n",
    "    value='',\n",
    "    placeholder='molecule: H(1)2O(16)(2+)',\n",
    "    description='molecule:',\n",
    "    disabled=False\n",
    ")\n",
    "peak_molecule_elements = widgets.Text(\n",
    "    value='',\n",
    "    placeholder='elements: H,O',\n",
    "    description='elements:',\n",
    "    disabled=False\n",
    ")\n",
    "peak_molecule_isotope = widgets.Text(\n",
    "    value='',\n",
    "    placeholder='isotope: 1,16',\n",
    "    description='isotope:',\n",
    "    disabled=False\n",
    ")\n",
    "peak_molecule_charge = widgets.IntText(\n",
    "    placeholder='charge: 3',\n",
    "    description='charge:',\n",
    "    disabled=False\n",
    ")\n",
    "\n",
    "@add_button.on_click\n",
    "def add_molucule_to(b,):\n",
    "    with out:\n",
    "        clear_output(True)\n",
    "        if peak_molecule.value == 'unranged':\n",
    "            variables.listMaterial.append(peak_molecule.value)\n",
    "            variables.element.append(peak_molecule.value)\n",
    "            variables.isotope.append(0)\n",
    "            variables.charge.append(0)\n",
    "        else:\n",
    "            variables.listMaterial.append(peak_molecule.value)\n",
    "            variables.element.append(peak_molecule_elements.value.split(','))\n",
    "            variables.isotope.append(peak_molecule_isotope.value.split(','))\n",
    "            variables.charge.append(peak_molecule_charge.value)\n",
    "        print(\"Updated List : \", variables.listMaterial)\n",
    "        print(\"Updated element List : \", variables.element)\n",
    "        print(\"Updated isotope List : \",  variables.isotope)\n",
    "        print(\"Updated charge List : \", variables.charge)"
   ]
  },
  {
   "cell_type": "code",
   "execution_count": 15,
   "metadata": {},
   "outputs": [
    {
     "data": {
      "application/vnd.jupyter.widget-view+json": {
       "model_id": "0f997fe5bdea428ca69e18e6f0000925",
       "version_major": 2,
       "version_minor": 0
      },
      "text/plain": [
       "VBox(children=(Tab(children=(VBox(children=(FloatText(value=0.1, description='bin size:'), IntText(value=60, d…"
      ]
     },
     "metadata": {},
     "output_type": "display_data"
    },
    {
     "data": {
      "application/vnd.jupyter.widget-view+json": {
       "model_id": "6588835062f2455ba522bd052b4fccc5",
       "version_major": 2,
       "version_minor": 0
      },
      "text/plain": [
       "Output()"
      ]
     },
     "metadata": {},
     "output_type": "display_data"
    }
   ],
   "source": [
    "plot_button = widgets.Button(\n",
    "    description='plot hist',\n",
    ")\n",
    "\n",
    "find_button = widgets.Button(\n",
    "    description='find element',\n",
    ")\n",
    "\n",
    "formula_find_button = widgets.Button(\n",
    "    description='molecule calculate',\n",
    ")\n",
    "\n",
    "    \n",
    "@plot_button.on_click\n",
    "def plot_on_click(b, figname=figname, plot=True):\n",
    "    hist_plot(figname, plot)\n",
    "\n",
    "    \n",
    "@find_button.on_click\n",
    "def vol_on_click(b,):\n",
    "    element_finder()\n",
    "    \n",
    "@formula_find_button.on_click\n",
    "def manual_formula(b,):\n",
    "    manual_formula_calculator()\n",
    "    \n",
    "tab1 = VBox(children=[bin_size, prominence, distance, lim_tof, percent])\n",
    "tab2 = HBox(children=[VBox(children=[peak_val, num_element, charge, aboundance_threshold, mode, \n",
    "                      find_button]),HBox(children=[isotope_formula, formula_find_button])])\n",
    "tab3 = VBox(children=[dropdown, chargeDropdown, buttonAdd, buttonDelete, buttonReset])\n",
    "tab4 = VBox(children=[peak_molecule, peak_molecule_elements, peak_molecule_isotope, peak_molecule_charge, add_button])\n",
    "\n",
    "\n",
    "tab = widgets.Tab(children=[tab1, tab2, tab3, tab4])\n",
    "tab.set_title(0, 'mc plot')\n",
    "tab.set_title(1, 'element finder')\n",
    "tab.set_title(2, 'add ions')\n",
    "tab.set_title(3, 'add molecules')\n",
    "\n",
    "\n",
    "display(VBox(children=[tab,HBox(children=[plot_button])]))\n",
    "out = Output()\n",
    "display(out)\n",
    "# unranged\t"
   ]
  },
  {
   "cell_type": "code",
   "execution_count": 23,
   "metadata": {},
   "outputs": [],
   "source": [
    "fake = Factory.create()\n",
    "data_table = '../../../files/color_scheme.h5'\n",
    "dataframe = data_tools.read_hdf5_through_pandas(data_table)\n",
    "color_list = []\n",
    "for i in range(len(variables.listMaterial)):\n",
    "    element_selec = re.sub(\"[\\(\\[].*?[\\)\\]]\", \"\", variables.listMaterial[i])\n",
    "    if len(re.findall(r'[A-Z]', element_selec)) > 1:\n",
    "        try:\n",
    "            r = dataframe[dataframe['ion'] == re.sub(r'[0-9]', '', element_selec)]['r'].to_numpy()\n",
    "            g = dataframe[dataframe['ion'] == re.sub(r'[0-9]', '', element_selec)]['g'].to_numpy()\n",
    "            b = dataframe[dataframe['ion'] == re.sub(r'[0-9]', '', element_selec)]['b'].to_numpy()\n",
    "            cc = matplotlib.colors.to_hex([r[0], g[0], b[0]])\n",
    "            color_list.append(cc)\n",
    "        except:\n",
    "            print('The element is not clor list')\n",
    "            color_list.append(fake.hex_color())\n",
    "    else:\n",
    "        try:\n",
    "            r = dataframe[dataframe['ion'] == re.sub(r'[0-9]', '', element_selec)]['r'].to_numpy()\n",
    "            g = dataframe[dataframe['ion'] == re.sub(r'[0-9]', '', element_selec)]['g'].to_numpy()\n",
    "            b = dataframe[dataframe['ion'] == re.sub(r'[0-9]', '', element_selec)]['b'].to_numpy()\n",
    "            cc = matplotlib.colors.to_hex([r[0], g[0], b[0]])\n",
    "            color_list.append(cc)\n",
    "        except:\n",
    "            print('The element is not clor list')\n",
    "            color_list.append(fake.hex_color())"
   ]
  },
  {
   "cell_type": "code",
   "execution_count": 24,
   "metadata": {},
   "outputs": [],
   "source": [
    "peak_width_chos = []\n",
    "for i in range(len(variables.peaks_idx)):\n",
    "    peak_width_chos.append(variables.peak_width[variables.peaks_idx[i]])\n",
    "peak_width_chos = np.array(peak_width_chos)"
   ]
  },
  {
   "cell_type": "code",
   "execution_count": 25,
   "metadata": {},
   "outputs": [],
   "source": [
    "range_data = pd.DataFrame({\"element\": variables.element, \"isotope\": variables.isotope, \"charge\": variables.charge,\n",
    "        \"mc_low\": [item[1] for item in peak_width_chos],\n",
    "       \"mc_up\": [item[2] for item in peak_width_chos],\"color\": color_list})"
   ]
  },
  {
   "cell_type": "code",
   "execution_count": 43,
   "metadata": {},
   "outputs": [
    {
     "data": {
      "application/vnd.jupyter.widget-view+json": {
       "model_id": "1364e182cffc4a9e8dcca25fac8636a1",
       "version_major": 2,
       "version_minor": 0
      },
      "text/plain": [
       "Sheet(cells=(Cell(column_end=0, column_start=0, numeric_format=None, row_end=2, row_start=0, squeeze_row=False…"
      ]
     },
     "execution_count": 43,
     "metadata": {},
     "output_type": "execute_result"
    }
   ],
   "source": [
    "sheet7 = ipysheet.from_dataframe(range_data)\n",
    "sheet7"
   ]
  },
  {
   "cell_type": "code",
   "execution_count": 49,
   "metadata": {},
   "outputs": [
    {
     "data": {
      "text/html": [
       "<div>\n",
       "<style scoped>\n",
       "    .dataframe tbody tr th:only-of-type {\n",
       "        vertical-align: middle;\n",
       "    }\n",
       "\n",
       "    .dataframe tbody tr th {\n",
       "        vertical-align: top;\n",
       "    }\n",
       "\n",
       "    .dataframe thead th {\n",
       "        text-align: right;\n",
       "    }\n",
       "</style>\n",
       "<table border=\"1\" class=\"dataframe\">\n",
       "  <thead>\n",
       "    <tr style=\"text-align: right;\">\n",
       "      <th></th>\n",
       "      <th>element</th>\n",
       "      <th>isotope</th>\n",
       "      <th>charge</th>\n",
       "      <th>mc_low</th>\n",
       "      <th>mc_up</th>\n",
       "      <th>color</th>\n",
       "    </tr>\n",
       "  </thead>\n",
       "  <tbody>\n",
       "    <tr>\n",
       "      <th>0</th>\n",
       "      <td>H</td>\n",
       "      <td>1</td>\n",
       "      <td>1</td>\n",
       "      <td>1.191262</td>\n",
       "      <td>1.289001</td>\n",
       "      <td>#FF3500</td>\n",
       "    </tr>\n",
       "    <tr>\n",
       "      <th>1</th>\n",
       "      <td>Al</td>\n",
       "      <td>27</td>\n",
       "      <td>2</td>\n",
       "      <td>13.310880</td>\n",
       "      <td>13.604096</td>\n",
       "      <td>#39FF14</td>\n",
       "    </tr>\n",
       "    <tr>\n",
       "      <th>2</th>\n",
       "      <td>Al</td>\n",
       "      <td>27</td>\n",
       "      <td>3</td>\n",
       "      <td>26.798841</td>\n",
       "      <td>27.287536</td>\n",
       "      <td>#39FF14</td>\n",
       "    </tr>\n",
       "  </tbody>\n",
       "</table>\n",
       "</div>"
      ],
      "text/plain": [
       "  element  isotope  charge     mc_low      mc_up    color\n",
       "0       H        1       1   1.191262   1.289001  #FF3500\n",
       "1      Al       27       2  13.310880  13.604096  #39FF14\n",
       "2      Al       27       3  26.798841  27.287536  #39FF14"
      ]
     },
     "execution_count": 49,
     "metadata": {},
     "output_type": "execute_result"
    }
   ],
   "source": [
    "range_data = ipysheet.to_dataframe(sheet7)\n",
    "range_data"
   ]
  },
  {
   "cell_type": "code",
   "execution_count": 50,
   "metadata": {},
   "outputs": [
    {
     "data": {
      "application/vnd.jupyter.widget-view+json": {
       "model_id": "8bcf28ccae424542a4d60ad0cc3b9e0f",
       "version_major": 2,
       "version_minor": 0
      },
      "text/plain": [
       "interactive(children=(FloatText(value=0.1, description='bin_size'), IntText(value=50, description='prominence'…"
      ]
     },
     "metadata": {},
     "output_type": "display_data"
    }
   ],
   "source": [
    "def mc_hist_plot(data, range_data, bin_size, prominence, distance, percent, selector, plot, figname, lim_mc, mc_peak_label, ranging, adjust_label):\n",
    "    mc = data['mc_c (Da)'].to_numpy()\n",
    "    peaks_ini, peaks_y_ini, peak_widths_p_ini = tools.hist_plot(mc[mc < lim_mc], bin_size, range_data=range_data, mc_peak_label=mc_peak_label, ranging=ranging, adjust_label=adjust_label, distance=distance, percent=percent, prominence=prominence, selector=selector, plot=plot, label='mc', fig_name=figname+'_ini')\n",
    "    index_max_ini = np.argmax(peaks_y_ini)\n",
    "    variables.max_peak = peaks_ini[index_max_ini]\n",
    "    variables.peak = peaks_ini\n",
    "    mrp = (peaks_ini[index_max_ini] / (peak_widths_p_ini[index_max_ini][2] - peak_widths_p_ini[index_max_ini][1]))\n",
    "    print('Mass resolving power for the highest peak (MRP --> m/m_2-m_1):', mrp)\n",
    "    for i in range(len(peaks_ini)):\n",
    "        print('Peaks ', i, 'is at location and height: ({:.2f}, {:.2f})'.format(peaks_ini[i], peaks_y_ini[i]), 'peak window sides (half-maximum) are: ({:.2f}, {:.2f})'.format(peak_widths_p_ini[i][1], peak_widths_p_ini[i][2]))\n",
    "\n",
    "interact_manual(mc_hist_plot, data=fixed(data), range_data=fixed(range_data), bin_size=widgets.FloatText(value=0.1)\n",
    "               ,prominence=widgets.IntText(value=50), distance=widgets.IntText(value=100), lim_mc=widgets.IntText(value=150)\n",
    "               ,percent=widgets.IntText(value=50), selector=fixed('rect'), plot=fixed(True), figname=fixed(figname),\n",
    "               mc_peak_label=widgets.Dropdown(options=[('True', True), ('False', False)]),\n",
    "                ranging=widgets.Dropdown(options=[('True', True), ('False', False)]),\n",
    "                adjust_label=widgets.Dropdown(options=[('True', True), ('False', False)]));\n"
   ]
  },
  {
   "cell_type": "code",
   "execution_count": 51,
   "metadata": {},
   "outputs": [
    {
     "data": {
      "text/html": [
       "<div>\n",
       "<style scoped>\n",
       "    .dataframe tbody tr th:only-of-type {\n",
       "        vertical-align: middle;\n",
       "    }\n",
       "\n",
       "    .dataframe tbody tr th {\n",
       "        vertical-align: top;\n",
       "    }\n",
       "\n",
       "    .dataframe thead th {\n",
       "        text-align: right;\n",
       "    }\n",
       "</style>\n",
       "<table border=\"1\" class=\"dataframe\">\n",
       "  <thead>\n",
       "    <tr style=\"text-align: right;\">\n",
       "      <th></th>\n",
       "      <th>element</th>\n",
       "      <th>isotope</th>\n",
       "      <th>charge</th>\n",
       "      <th>mc_low</th>\n",
       "      <th>mc_up</th>\n",
       "      <th>color</th>\n",
       "    </tr>\n",
       "  </thead>\n",
       "  <tbody>\n",
       "    <tr>\n",
       "      <th>0</th>\n",
       "      <td>H</td>\n",
       "      <td>1</td>\n",
       "      <td>1</td>\n",
       "      <td>1.191262</td>\n",
       "      <td>1.289001</td>\n",
       "      <td>#FF3500</td>\n",
       "    </tr>\n",
       "    <tr>\n",
       "      <th>1</th>\n",
       "      <td>Al</td>\n",
       "      <td>27</td>\n",
       "      <td>2</td>\n",
       "      <td>13.310880</td>\n",
       "      <td>13.604096</td>\n",
       "      <td>#39FF14</td>\n",
       "    </tr>\n",
       "    <tr>\n",
       "      <th>2</th>\n",
       "      <td>Al</td>\n",
       "      <td>27</td>\n",
       "      <td>3</td>\n",
       "      <td>26.798841</td>\n",
       "      <td>27.287536</td>\n",
       "      <td>#39FF14</td>\n",
       "    </tr>\n",
       "  </tbody>\n",
       "</table>\n",
       "</div>"
      ],
      "text/plain": [
       "  element  isotope  charge     mc_low      mc_up    color\n",
       "0       H        1       1   1.191262   1.289001  #FF3500\n",
       "1      Al       27       2  13.310880  13.604096  #39FF14\n",
       "2      Al       27       3  26.798841  27.287536  #39FF14"
      ]
     },
     "execution_count": 51,
     "metadata": {},
     "output_type": "execute_result"
    }
   ],
   "source": [
    "range_data"
   ]
  },
  {
   "cell_type": "code",
   "execution_count": 52,
   "metadata": {},
   "outputs": [
    {
     "data": {
      "text/plain": [
       "element     object\n",
       "isotope      int32\n",
       "charge       int32\n",
       "mc_low     float64\n",
       "mc_up      float64\n",
       "color       object\n",
       "dtype: object"
      ]
     },
     "execution_count": 52,
     "metadata": {},
     "output_type": "execute_result"
    }
   ],
   "source": [
    "range_data.dtypes"
   ]
  },
  {
   "cell_type": "code",
   "execution_count": 53,
   "metadata": {
    "pycharm": {
     "name": "#%%\n"
    }
   },
   "outputs": [],
   "source": [
    "# save the new data\n",
    "name_save_file = variables.result_path + '//' + dataset_name + '.h5'\n",
    "data_tools.store_df_to_hdf(name_save_file, range_data, 'df')"
   ]
  },
  {
   "cell_type": "code",
   "execution_count": 54,
   "metadata": {},
   "outputs": [],
   "source": [
    "# save data in csv format\n",
    "data_tools.store_df_to_csv(range_data, variables.result_path + 'range_' + dataset_name + '.csv')"
   ]
  },
  {
   "cell_type": "code",
   "execution_count": null,
   "metadata": {},
   "outputs": [],
   "source": []
  },
  {
   "cell_type": "code",
   "execution_count": null,
   "metadata": {},
   "outputs": [],
   "source": []
  }
 ],
 "metadata": {
  "kernelspec": {
   "display_name": "Python 3 (ipykernel)",
   "language": "python",
   "name": "python3"
  },
  "language_info": {
   "codemirror_mode": {
    "name": "ipython",
    "version": 3
   },
   "file_extension": ".py",
   "mimetype": "text/x-python",
   "name": "python",
   "nbconvert_exporter": "python",
   "pygments_lexer": "ipython3",
   "version": "3.8.16"
  }
 },
 "nbformat": 4,
 "nbformat_minor": 4
}

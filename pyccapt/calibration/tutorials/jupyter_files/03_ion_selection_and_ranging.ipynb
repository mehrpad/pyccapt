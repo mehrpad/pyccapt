{
 "cells": [
  {
   "cell_type": "code",
   "execution_count": 3,
   "metadata": {
    "pycharm": {
     "name": "#%%\n"
    },
    "tags": []
   },
   "outputs": [],
   "source": [
    "%matplotlib ipympl\n",
    "import os\n",
    "import os.path as path\n",
    "import pandas as pd\n",
    "import numpy as np\n",
    "from scipy.optimize import curve_fit\n",
    "from faker import Factory\n",
    "from scipy import interpolate\n",
    "from sklearn.preprocessing import MinMaxScaler\n",
    "from mpl_toolkits.mplot3d import Axes3D\n",
    "import matplotlib.pyplot as plt\n",
    "import math \n",
    "import itertools \n",
    "from ipywidgets import interact, interactive, fixed, interact_manual, widgets\n",
    "from ipywidgets import HBox, VBox\n",
    "from ipywidgets import IntSlider, Output\n",
    "from IPython.display import clear_output\n",
    "import h5py\n",
    "import re\n",
    "import matplotlib\n",
    "import ipysheet\n",
    "\n",
    "# Local module and scripts\n",
    "from pyccapt.calibration.calibration_tools import tools, variables, calibration, ion_selection\n",
    "from pyccapt.calibration.calibration_tools import widgets as wd\n",
    "from pyccapt.calibration.data_tools import data_tools, data_loadcrop, dataset_path_qt\n",
    "from pyccapt.calibration.mc import mc_tools\n",
    "from pyccapt.calibration.leap_tools import ccapt_tools"
   ]
  },
  {
   "cell_type": "code",
   "execution_count": 4,
   "metadata": {
    "tags": []
   },
   "outputs": [],
   "source": [
    "%load_ext autoreload\n",
    "%autoreload 2"
   ]
  },
  {
   "cell_type": "code",
   "execution_count": 5,
   "metadata": {
    "tags": []
   },
   "outputs": [],
   "source": [
    "%reload_ext autoreload"
   ]
  },
  {
   "cell_type": "code",
   "execution_count": 6,
   "metadata": {
    "tags": []
   },
   "outputs": [],
   "source": [
    "# Disable showing logging in Jupyter notebook\n",
    "import logging, sys\n",
    "logging.disable(sys.maxsize)"
   ]
  },
  {
   "cell_type": "code",
   "execution_count": 7,
   "metadata": {
    "tags": []
   },
   "outputs": [
    {
     "data": {
      "application/vnd.jupyter.widget-view+json": {
       "model_id": "f3821fcd6a5f4466b96d4b32d67e7c10",
       "version_major": 2,
       "version_minor": 0
      },
      "text/plain": [
       "Button(description='load dataset', style=ButtonStyle())"
      ]
     },
     "execution_count": 7,
     "metadata": {},
     "output_type": "execute_result"
    }
   ],
   "source": [
    "button = widgets.Button(\n",
    "    description='load dataset',\n",
    ")\n",
    "\n",
    "@button.on_click\n",
    "def open_file_on_click(b):\n",
    "    global dataset_path\n",
    "    dataset_path = dataset_path_qt.gui_fname().decode('ASCII')\n",
    "button"
   ]
  },
  {
   "cell_type": "code",
   "execution_count": 8,
   "metadata": {
    "tags": []
   },
   "outputs": [
    {
     "data": {
      "application/vnd.jupyter.widget-view+json": {
       "model_id": "e9cc0387c135462b90400378fdefc26a",
       "version_major": 2,
       "version_minor": 0
      },
      "text/plain": [
       "Dropdown(description='Data mode:', options=('surface_concept', 'roentdec', 'leap_epos', 'leap_pos'), value='su…"
      ]
     },
     "metadata": {},
     "output_type": "display_data"
    }
   ],
   "source": [
    "tdc, pulse_mode, flightPathLength_d, t0_d, max_mc, det_diam = wd.dataset_tdc_selection()\n",
    "display(tdc)"
   ]
  },
  {
   "cell_type": "markdown",
   "metadata": {
    "pycharm": {
     "name": "#%% md\n"
    }
   },
   "source": [
    "$$\\textbf{You can specify which dataset to use in below block}$$"
   ]
  },
  {
   "cell_type": "code",
   "execution_count": 9,
   "metadata": {
    "tags": []
   },
   "outputs": [],
   "source": [
    "dataset_main_path = os.path.dirname(dataset_path)\n",
    "dataset_name_with_extention = os.path.basename(dataset_path)\n",
    "dataset_name = os.path.splitext(dataset_name_with_extention)[0]\n",
    "\n",
    "\n",
    "variables.init()\n",
    "# variables.path = os.path.join(p, 'tests//data')\n",
    "variables.result_path = os.path.dirname(dataset_main_path) + '/ion_selection_ranging/'\n",
    "if not os.path.isdir(variables.result_path):\n",
    "    os.makedirs(variables.result_path, mode=0o777, exist_ok=True)\n",
    "        \n",
    "filename = dataset_path\n",
    "\n",
    "head, tail = os.path.split(filename)\n",
    "figname = os.path.splitext(tail)[0]\n",
    "\n",
    "if tdc.value == 'leap_pos' or tdc.value == 'leap_epos':\n",
    "    if tdc.value == 'leap_epos':\n",
    "        data = ccapt_tools.epos_to_ccapt(filename)\n",
    "    else:\n",
    "        data = ccapt_tools.pos_to_ccapt(filename)\n",
    "else:\n",
    "    data = data_tools.read_hdf5_through_pandas(filename)"
   ]
  },
  {
   "cell_type": "code",
   "execution_count": 10,
   "metadata": {
    "pycharm": {
     "name": "#%%\n"
    },
    "tags": []
   },
   "outputs": [
    {
     "data": {
      "text/html": [
       "<div>\n",
       "<style scoped>\n",
       "    .dataframe tbody tr th:only-of-type {\n",
       "        vertical-align: middle;\n",
       "    }\n",
       "\n",
       "    .dataframe tbody tr th {\n",
       "        vertical-align: top;\n",
       "    }\n",
       "\n",
       "    .dataframe thead th {\n",
       "        text-align: right;\n",
       "    }\n",
       "</style>\n",
       "<table border=\"1\" class=\"dataframe\">\n",
       "  <thead>\n",
       "    <tr style=\"text-align: right;\">\n",
       "      <th></th>\n",
       "      <th>x (nm)</th>\n",
       "      <th>y (nm)</th>\n",
       "      <th>z (nm)</th>\n",
       "      <th>mc_c (Da)</th>\n",
       "      <th>mc (Da)</th>\n",
       "      <th>high_voltage (V)</th>\n",
       "      <th>pulse (V)</th>\n",
       "      <th>start_counter</th>\n",
       "      <th>t (ns)</th>\n",
       "      <th>t_c (nm)</th>\n",
       "      <th>x_det (cm)</th>\n",
       "      <th>y_det (cm)</th>\n",
       "      <th>pulse_pi</th>\n",
       "      <th>ion_pp</th>\n",
       "      <th>t_c (ns)</th>\n",
       "    </tr>\n",
       "  </thead>\n",
       "  <tbody>\n",
       "    <tr>\n",
       "      <th>0</th>\n",
       "      <td>0.0</td>\n",
       "      <td>0.0</td>\n",
       "      <td>0.0</td>\n",
       "      <td>27.043036</td>\n",
       "      <td>27.175524</td>\n",
       "      <td>5300.393555</td>\n",
       "      <td>5300.393555</td>\n",
       "      <td>47896.0</td>\n",
       "      <td>640.406898</td>\n",
       "      <td>0.0</td>\n",
       "      <td>0.881878</td>\n",
       "      <td>2.741143</td>\n",
       "      <td>0</td>\n",
       "      <td>1</td>\n",
       "      <td>604.565336</td>\n",
       "    </tr>\n",
       "    <tr>\n",
       "      <th>1</th>\n",
       "      <td>0.0</td>\n",
       "      <td>0.0</td>\n",
       "      <td>0.0</td>\n",
       "      <td>26.954380</td>\n",
       "      <td>26.993029</td>\n",
       "      <td>5300.393555</td>\n",
       "      <td>5300.393555</td>\n",
       "      <td>48363.0</td>\n",
       "      <td>621.753138</td>\n",
       "      <td>0.0</td>\n",
       "      <td>-0.773633</td>\n",
       "      <td>-0.646286</td>\n",
       "      <td>467</td>\n",
       "      <td>1</td>\n",
       "      <td>603.678086</td>\n",
       "    </tr>\n",
       "    <tr>\n",
       "      <th>2</th>\n",
       "      <td>0.0</td>\n",
       "      <td>0.0</td>\n",
       "      <td>0.0</td>\n",
       "      <td>26.997497</td>\n",
       "      <td>26.600712</td>\n",
       "      <td>5300.393555</td>\n",
       "      <td>5300.393555</td>\n",
       "      <td>49690.0</td>\n",
       "      <td>628.864884</td>\n",
       "      <td>0.0</td>\n",
       "      <td>2.285878</td>\n",
       "      <td>-0.843673</td>\n",
       "      <td>1327</td>\n",
       "      <td>1</td>\n",
       "      <td>604.109772</td>\n",
       "    </tr>\n",
       "    <tr>\n",
       "      <th>3</th>\n",
       "      <td>0.0</td>\n",
       "      <td>0.0</td>\n",
       "      <td>0.0</td>\n",
       "      <td>26.969991</td>\n",
       "      <td>27.368893</td>\n",
       "      <td>5300.393555</td>\n",
       "      <td>5300.393555</td>\n",
       "      <td>50347.0</td>\n",
       "      <td>633.096270</td>\n",
       "      <td>0.0</td>\n",
       "      <td>-1.257551</td>\n",
       "      <td>1.617306</td>\n",
       "      <td>657</td>\n",
       "      <td>1</td>\n",
       "      <td>603.834425</td>\n",
       "    </tr>\n",
       "    <tr>\n",
       "      <th>4</th>\n",
       "      <td>0.0</td>\n",
       "      <td>0.0</td>\n",
       "      <td>0.0</td>\n",
       "      <td>27.154663</td>\n",
       "      <td>27.411449</td>\n",
       "      <td>5300.393555</td>\n",
       "      <td>5300.393555</td>\n",
       "      <td>50643.0</td>\n",
       "      <td>629.516394</td>\n",
       "      <td>0.0</td>\n",
       "      <td>-0.296082</td>\n",
       "      <td>1.540898</td>\n",
       "      <td>296</td>\n",
       "      <td>1</td>\n",
       "      <td>605.680428</td>\n",
       "    </tr>\n",
       "    <tr>\n",
       "      <th>...</th>\n",
       "      <td>...</td>\n",
       "      <td>...</td>\n",
       "      <td>...</td>\n",
       "      <td>...</td>\n",
       "      <td>...</td>\n",
       "      <td>...</td>\n",
       "      <td>...</td>\n",
       "      <td>...</td>\n",
       "      <td>...</td>\n",
       "      <td>...</td>\n",
       "      <td>...</td>\n",
       "      <td>...</td>\n",
       "      <td>...</td>\n",
       "      <td>...</td>\n",
       "      <td>...</td>\n",
       "    </tr>\n",
       "    <tr>\n",
       "      <th>1786779</th>\n",
       "      <td>0.0</td>\n",
       "      <td>0.0</td>\n",
       "      <td>0.0</td>\n",
       "      <td>27.072160</td>\n",
       "      <td>27.639377</td>\n",
       "      <td>5703.430176</td>\n",
       "      <td>5703.430176</td>\n",
       "      <td>52828.0</td>\n",
       "      <td>620.847882</td>\n",
       "      <td>0.0</td>\n",
       "      <td>-1.693714</td>\n",
       "      <td>1.986612</td>\n",
       "      <td>90</td>\n",
       "      <td>1</td>\n",
       "      <td>604.856496</td>\n",
       "    </tr>\n",
       "    <tr>\n",
       "      <th>1786780</th>\n",
       "      <td>0.0</td>\n",
       "      <td>0.0</td>\n",
       "      <td>0.0</td>\n",
       "      <td>27.013051</td>\n",
       "      <td>26.700668</td>\n",
       "      <td>5703.430176</td>\n",
       "      <td>5703.430176</td>\n",
       "      <td>53123.0</td>\n",
       "      <td>608.441760</td>\n",
       "      <td>0.0</td>\n",
       "      <td>2.225388</td>\n",
       "      <td>-0.792735</td>\n",
       "      <td>295</td>\n",
       "      <td>1</td>\n",
       "      <td>604.265420</td>\n",
       "    </tr>\n",
       "    <tr>\n",
       "      <th>1786781</th>\n",
       "      <td>0.0</td>\n",
       "      <td>0.0</td>\n",
       "      <td>0.0</td>\n",
       "      <td>27.106438</td>\n",
       "      <td>27.567948</td>\n",
       "      <td>5703.430176</td>\n",
       "      <td>5703.430176</td>\n",
       "      <td>53463.0</td>\n",
       "      <td>620.072928</td>\n",
       "      <td>0.0</td>\n",
       "      <td>-0.662204</td>\n",
       "      <td>2.521469</td>\n",
       "      <td>340</td>\n",
       "      <td>1</td>\n",
       "      <td>605.198970</td>\n",
       "    </tr>\n",
       "    <tr>\n",
       "      <th>1786782</th>\n",
       "      <td>0.0</td>\n",
       "      <td>0.0</td>\n",
       "      <td>0.0</td>\n",
       "      <td>26.976211</td>\n",
       "      <td>27.595504</td>\n",
       "      <td>5703.430176</td>\n",
       "      <td>5703.430176</td>\n",
       "      <td>53513.0</td>\n",
       "      <td>630.490230</td>\n",
       "      <td>0.0</td>\n",
       "      <td>-1.368980</td>\n",
       "      <td>3.088163</td>\n",
       "      <td>50</td>\n",
       "      <td>1</td>\n",
       "      <td>603.896704</td>\n",
       "    </tr>\n",
       "    <tr>\n",
       "      <th>1786783</th>\n",
       "      <td>0.0</td>\n",
       "      <td>0.0</td>\n",
       "      <td>0.0</td>\n",
       "      <td>26.985231</td>\n",
       "      <td>27.215947</td>\n",
       "      <td>5703.430176</td>\n",
       "      <td>5703.430176</td>\n",
       "      <td>53754.0</td>\n",
       "      <td>613.832148</td>\n",
       "      <td>0.0</td>\n",
       "      <td>0.620816</td>\n",
       "      <td>2.285878</td>\n",
       "      <td>241</td>\n",
       "      <td>1</td>\n",
       "      <td>603.986997</td>\n",
       "    </tr>\n",
       "  </tbody>\n",
       "</table>\n",
       "<p>1786784 rows × 15 columns</p>\n",
       "</div>"
      ],
      "text/plain": [
       "         x (nm)  y (nm)  z (nm)  mc_c (Da)    mc (Da)  high_voltage (V)  \\\n",
       "0           0.0     0.0     0.0  27.043036  27.175524       5300.393555   \n",
       "1           0.0     0.0     0.0  26.954380  26.993029       5300.393555   \n",
       "2           0.0     0.0     0.0  26.997497  26.600712       5300.393555   \n",
       "3           0.0     0.0     0.0  26.969991  27.368893       5300.393555   \n",
       "4           0.0     0.0     0.0  27.154663  27.411449       5300.393555   \n",
       "...         ...     ...     ...        ...        ...               ...   \n",
       "1786779     0.0     0.0     0.0  27.072160  27.639377       5703.430176   \n",
       "1786780     0.0     0.0     0.0  27.013051  26.700668       5703.430176   \n",
       "1786781     0.0     0.0     0.0  27.106438  27.567948       5703.430176   \n",
       "1786782     0.0     0.0     0.0  26.976211  27.595504       5703.430176   \n",
       "1786783     0.0     0.0     0.0  26.985231  27.215947       5703.430176   \n",
       "\n",
       "           pulse (V)  start_counter      t (ns)  t_c (nm)  x_det (cm)  \\\n",
       "0        5300.393555        47896.0  640.406898       0.0    0.881878   \n",
       "1        5300.393555        48363.0  621.753138       0.0   -0.773633   \n",
       "2        5300.393555        49690.0  628.864884       0.0    2.285878   \n",
       "3        5300.393555        50347.0  633.096270       0.0   -1.257551   \n",
       "4        5300.393555        50643.0  629.516394       0.0   -0.296082   \n",
       "...              ...            ...         ...       ...         ...   \n",
       "1786779  5703.430176        52828.0  620.847882       0.0   -1.693714   \n",
       "1786780  5703.430176        53123.0  608.441760       0.0    2.225388   \n",
       "1786781  5703.430176        53463.0  620.072928       0.0   -0.662204   \n",
       "1786782  5703.430176        53513.0  630.490230       0.0   -1.368980   \n",
       "1786783  5703.430176        53754.0  613.832148       0.0    0.620816   \n",
       "\n",
       "         y_det (cm)  pulse_pi  ion_pp    t_c (ns)  \n",
       "0          2.741143         0       1  604.565336  \n",
       "1         -0.646286       467       1  603.678086  \n",
       "2         -0.843673      1327       1  604.109772  \n",
       "3          1.617306       657       1  603.834425  \n",
       "4          1.540898       296       1  605.680428  \n",
       "...             ...       ...     ...         ...  \n",
       "1786779    1.986612        90       1  604.856496  \n",
       "1786780   -0.792735       295       1  604.265420  \n",
       "1786781    2.521469       340       1  605.198970  \n",
       "1786782    3.088163        50       1  603.896704  \n",
       "1786783    2.285878       241       1  603.986997  \n",
       "\n",
       "[1786784 rows x 15 columns]"
      ]
     },
     "execution_count": 10,
     "metadata": {},
     "output_type": "execute_result"
    }
   ],
   "source": [
    "data"
   ]
  },
  {
   "cell_type": "code",
   "execution_count": 11,
   "metadata": {
    "pycharm": {
     "name": "#%%\n"
    },
    "tags": []
   },
   "outputs": [],
   "source": [
    "variables.mc_calib = data['mc_c (Da)'].to_numpy()\n",
    "cc = data['mc_c (Da)'].to_numpy()"
   ]
  },
  {
   "cell_type": "code",
   "execution_count": 13,
   "metadata": {
    "tags": []
   },
   "outputs": [
    {
     "name": "stdout",
     "output_type": "stream",
     "text": [
      "The peak index for MRP calculation is: 2\n"
     ]
    },
    {
     "data": {
      "application/vnd.jupyter.widget-view+json": {
       "model_id": "f49178a1040c4406822d98a6e68aa52d",
       "version_major": 2,
       "version_minor": 0
      },
      "image/png": "[encoded data removed]",
      "text/html": [
       "\n",
       "            <div style=\"display: inline-block;\">\n",
       "                <div class=\"jupyter-widgets widget-label\" style=\"text-align: center;\">\n",
       "                    Figure\n",
       "                </div>\n",
       "                <img src='data:image/png;base64,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' width=216.53543307086616/>\n",
       "            </div>\n",
       "        "
      ],
      "text/plain": [
       "Canvas(toolbar=Toolbar(toolitems=[('Home', 'Reset original view', 'home', 'home'), ('Back', 'Back to previous …"
      ]
     },
     "metadata": {},
     "output_type": "display_data"
    }
   ],
   "source": [
    "peaks_ini, peaks_y_ini, peak_widths_p_ini, mask = tools.hist_plot(cc[cc < 50], 0.1, distance=10, percent=50, prominence=50, selector='peak', plot=True, label='mc', peaks_find=True, peaks_find_plot=True, fig_size=(5.5/2.54, 5.5/2.54), fig_name='mc')"
   ]
  },
  {
   "cell_type": "code",
   "execution_count": 24,
   "metadata": {
    "tags": []
   },
   "outputs": [],
   "source": [
    "bin_size=widgets.FloatText(value=0.1, description='bin size:')\n",
    "prominence=widgets.IntText(value=60, description='peak prominance:')\n",
    "distance=widgets.IntText(value=50, description='peak distance:')\n",
    "lim_tof=widgets.IntText(value=150, description='lim tof/mc:')\n",
    "percent=widgets.IntText(value=90, description='percent MRP:')\n",
    "\n",
    "def hist_plot(figname, plot):\n",
    "    variables.peaks_idx = []\n",
    "    peaks_sides_p = np.zeros(0)\n",
    "    with out:\n",
    "        clear_output(True)\n",
    "\n",
    "        bin_size_p = bin_size.value\n",
    "        prominence_p = prominence.value\n",
    "        distance_p = distance.value\n",
    "        lim_tof_p = lim_tof.value\n",
    "        percent_p = percent.value\n",
    "        peaks_ini, peaks_y_ini, peak_widths_p_ini, _ = tools.hist_plot(variables.mc_calib[variables.mc_calib < lim_tof_p], bin_size_p, distance=distance_p, percent=percent_p, prominence=prominence_p, selector='peak', plot=plot, label='mc', fig_name=figname)\n",
    "        index_max_ini = np.argmax(peaks_y_ini)\n",
    "        variables.max_peak = peaks_ini[index_max_ini]\n",
    "        variables.peak = peaks_ini\n",
    "        variables.peak_y\n",
    "        variables.peak_width = peak_widths_p_ini\n",
    "        mrp = (peaks_ini[index_max_ini] / (peak_widths_p_ini[index_max_ini][2] - peak_widths_p_ini[index_max_ini][1]))\n",
    "        print('Mass resolving power for the highest peak (MRP --> m/m_2-m_1):', mrp)\n",
    "        for i in range(len(peaks_ini)):\n",
    "            print('Peaks ', i, 'is at location and height: ({:.2f}, {:.2f})'.format(peaks_ini[i], peaks_y_ini[i]), 'peak window sides (half-maximum) are: ({:.2f}, {:.2f})'.format(peak_widths_p_ini[i][1], peak_widths_p_ini[i][2]))"
   ]
  },
  {
   "cell_type": "code",
   "execution_count": 25,
   "metadata": {
    "tags": []
   },
   "outputs": [],
   "source": [
    "peak_val = widgets.FloatText(value=1.1, description='peak value:')\n",
    "charge = widgets.Dropdown(\n",
    "    options=[('1', 1), ('2', 2), ('3', 3), ('4', 4)],\n",
    "    value=3,\n",
    "    description='charge:'\n",
    ")\n",
    "aboundance_threshold = widgets.FloatText(value=1, description='aboundance threshold:')\n",
    "mode = widgets.Dropdown(\n",
    "    options=[('elements', 'elements'), ('molecules', 'molecules')],\n",
    "    value='elements',\n",
    "    description='mode:'\n",
    ")\n",
    "\n",
    "num_element = widgets.IntText(value=1, description='num element:')\n",
    "# element_threshold = widgets.FloatText(value=1.0, description='Aboundance threshold:')\n",
    "\n",
    "def element_finder():\n",
    "    with out:\n",
    "        peak_val_s = peak_val.value\n",
    "        charge_s = charge.value\n",
    "        num_element_s = num_element.value\n",
    "#         num_molecule_s = num_molecule.value\n",
    "        mode_s = mode.value\n",
    "#         element_threshold_s = element_threshold.value\n",
    "        aboundance_threshold_s = aboundance_threshold.value\n",
    "        clear_output(True)\n",
    "        if mode_s == 'elements':\n",
    "            df = ion_selection.find_close_element(peak_val_s, num_element_s, aboundance_threshold_s, charge=charge_s)\n",
    "        elif mode_s == 'molecules':\n",
    "            df = ion_selection.find_close_molecule(peak_val_s, num_element_s, aboundance_threshold_s, charge=charge_s)\n",
    "        display(df)"
   ]
  },
  {
   "cell_type": "code",
   "execution_count": 26,
   "metadata": {
    "tags": []
   },
   "outputs": [],
   "source": [
    "isotope_formula = widgets.Text(\n",
    "    value='',\n",
    "    placeholder='Type a formula',\n",
    "    description='Isotope formula:',\n",
    "    disabled=False\n",
    ")\n",
    "\n",
    "def manual_formula_calculator():\n",
    "    isotopeTableFile = '../../../files/isotopeTable.h5'\n",
    "    dataframe = data_tools.read_hdf5_through_pandas(isotopeTableFile)\n",
    "    df = ion_selection.molecule_isotop_list(dataframe, isotope_formula.value)\n",
    "    with out:\n",
    "        df = ion_selection.molecule_isotop_list(dataframe, isotope_formula.value)\n",
    "        clear_output(True)\n",
    "        display(df)"
   ]
  },
  {
   "cell_type": "code",
   "execution_count": 27,
   "metadata": {
    "tags": []
   },
   "outputs": [],
   "source": [
    "isotopeTableFile = '../../../files/isotopeTable.h5'\n",
    "dataframe = data_tools.read_hdf5_through_pandas(isotopeTableFile)\n",
    "elementsList = dataframe['element']\n",
    "elementIsotopeList = dataframe['isotope']\n",
    "elementMassList =  dataframe['weight']\n",
    "abundanceList = dataframe['abundance']\n",
    "dropdownDict = {'element': elementsList, 'isotope': elementIsotopeList}\n",
    "\n",
    "elements = list(zip(elementsList, elementIsotopeList, elementMassList, abundanceList))\n",
    "dropdownList = []\n",
    "for element in elements:\n",
    "    tupleElement = (\"{} ({}) ({:.2f})\".format(element[0],element[1],element[3]), \"{}({})\".format(element[0], element[1]))\n",
    "    dropdownList.append(tupleElement)\n",
    "\n",
    "dropdown = wd.dropdownWidget(dropdownList, \"Elements\")\n",
    "dropdown.observe(wd.on_change_ions_selection)\n",
    "\n",
    "chargeList = [(1,1,),(2,2,),(3,3,),(4,4,)]\n",
    "chargeDropdown = wd.dropdownWidget(chargeList, \"Charge\")\n",
    "chargeDropdown.observe(wd.on_change_charge_ions_selection)\n",
    "\n",
    "# wd.compute_element_isotope_values_according_to_selected_charge(mode='ions_selection')\n",
    "\n",
    "buttonAdd = wd.buttonWidget(\"ADD\")\n",
    "buttonDelete = wd.buttonWidget(\"DELETE\")\n",
    "buttonReset = wd.buttonWidget(\"RESET\")\n",
    "\n",
    "def buttonAdd_f(b,):\n",
    "    with out:\n",
    "        clear_output(True)\n",
    "        wd.onClickAdd(b,)\n",
    "        display()\n",
    "def buttonDelete_f(b,):\n",
    "    with out:\n",
    "        clear_output(True)\n",
    "        variables.listMaterial.pop()\n",
    "        variables.element.pop()\n",
    "        variables.isotope.pop()\n",
    "        variables.charge.pop()\n",
    "        print(\"Updated List : \", variables.listMaterial)\n",
    "        print(\"Updated element List : \", variables.element)\n",
    "        print(\"Updated isotope List : \",  variables.isotope)\n",
    "        print(\"Updated charge List : \", variables.charge)\n",
    "def buttonResett_f(b,):\n",
    "    with out:\n",
    "        clear_output(True)\n",
    "        wd.onClickReset(b,)\n",
    "        display()\n",
    "\n",
    "buttonAdd.on_click(buttonAdd_f)\n",
    "buttonDelete.on_click(buttonDelete_f)\n",
    "buttonReset.on_click(buttonResett_f)\n",
    "\n",
    "add_button = widgets.Button(\n",
    "    description='add molecule',\n",
    ")\n",
    "\n",
    "peak_molecule = widgets.Text(\n",
    "    value='',\n",
    "    placeholder='molecule: H(1)2O(16)(2+)',\n",
    "    description='molecule:',\n",
    "    disabled=False\n",
    ")\n",
    "peak_molecule_elements = widgets.Text(\n",
    "    value='',\n",
    "    placeholder='elements: H,O',\n",
    "    description='elements:',\n",
    "    disabled=False\n",
    ")\n",
    "peak_molecule_isotope = widgets.Text(\n",
    "    value='',\n",
    "    placeholder='isotope: 1,16',\n",
    "    description='isotope:',\n",
    "    disabled=False\n",
    ")\n",
    "peak_molecule_charge = widgets.IntText(\n",
    "    placeholder='charge: 3',\n",
    "    description='charge:',\n",
    "    disabled=False\n",
    ")\n",
    "\n",
    "@add_button.on_click\n",
    "def add_molucule_to(b,):\n",
    "    with out:\n",
    "        clear_output(True)\n",
    "        if peak_molecule.value == 'unranged':\n",
    "            variables.listMaterial.append(peak_molecule.value)\n",
    "            variables.element.append(peak_molecule.value)\n",
    "            variables.isotope.append(0)\n",
    "            variables.charge.append(0)\n",
    "        else:\n",
    "            variables.listMaterial.append(peak_molecule.value)\n",
    "            variables.element.append(peak_molecule_elements.value.split(','))\n",
    "            variables.isotope.append(peak_molecule_isotope.value.split(','))\n",
    "            variables.charge.append(peak_molecule_charge.value)\n",
    "        print(\"Updated List : \", variables.listMaterial)\n",
    "        print(\"Updated element List : \", variables.element)\n",
    "        print(\"Updated isotope List : \",  variables.isotope)\n",
    "        print(\"Updated charge List : \", variables.charge)"
   ]
  },
  {
   "cell_type": "code",
   "execution_count": 28,
   "metadata": {
    "tags": []
   },
   "outputs": [
    {
     "data": {
      "application/vnd.jupyter.widget-view+json": {
       "model_id": "92ac5c5073824d6fa1f47a1f643b8e55",
       "version_major": 2,
       "version_minor": 0
      },
      "text/plain": [
       "VBox(children=(Tab(children=(VBox(children=(FloatText(value=0.1, description='bin size:'), IntText(value=60, d…"
      ]
     },
     "metadata": {},
     "output_type": "display_data"
    },
    {
     "data": {
      "application/vnd.jupyter.widget-view+json": {
       "model_id": "04b67ef37c4c4f4585cc280f06e75bc2",
       "version_major": 2,
       "version_minor": 0
      },
      "text/plain": [
       "Output()"
      ]
     },
     "metadata": {},
     "output_type": "display_data"
    }
   ],
   "source": [
    "plot_button = widgets.Button(\n",
    "    description='plot hist',\n",
    ")\n",
    "\n",
    "find_button = widgets.Button(\n",
    "    description='find element',\n",
    ")\n",
    "\n",
    "formula_find_button = widgets.Button(\n",
    "    description='molecule calculate',\n",
    ")\n",
    "\n",
    "    \n",
    "@plot_button.on_click\n",
    "def plot_on_click(b, figname=figname, plot=True):\n",
    "    hist_plot(figname, plot)\n",
    "\n",
    "    \n",
    "@find_button.on_click\n",
    "def vol_on_click(b,):\n",
    "    element_finder()\n",
    "    \n",
    "@formula_find_button.on_click\n",
    "def manual_formula(b,):\n",
    "    manual_formula_calculator()\n",
    "    \n",
    "tab1 = VBox(children=[bin_size, prominence, distance, lim_tof, percent])\n",
    "tab2 = HBox(children=[VBox(children=[peak_val, num_element, charge, aboundance_threshold, mode, \n",
    "                      find_button]),HBox(children=[isotope_formula, formula_find_button])])\n",
    "tab3 = VBox(children=[dropdown, chargeDropdown, buttonAdd, buttonDelete, buttonReset])\n",
    "tab4 = VBox(children=[peak_molecule, peak_molecule_elements, peak_molecule_isotope, peak_molecule_charge, add_button])\n",
    "\n",
    "\n",
    "tab = widgets.Tab(children=[tab1, tab2, tab3, tab4])\n",
    "tab.set_title(0, 'mc plot')\n",
    "tab.set_title(1, 'element finder')\n",
    "tab.set_title(2, 'add ions')\n",
    "tab.set_title(3, 'add molecules')\n",
    "\n",
    "\n",
    "display(VBox(children=[tab,HBox(children=[plot_button])]))\n",
    "out = Output()\n",
    "display(out)\n",
    "# unranged\t"
   ]
  },
  {
   "cell_type": "code",
   "execution_count": 32,
   "metadata": {
    "tags": []
   },
   "outputs": [],
   "source": [
    "fake = Factory.create()\n",
    "data_table = '../../../files/color_scheme.h5'\n",
    "dataframe = data_tools.read_hdf5_through_pandas(data_table)\n",
    "color_list = []\n",
    "for i in range(len(variables.listMaterial)):\n",
    "    element_selec = re.sub(\"[\\(\\[].*?[\\)\\]]\", \"\", variables.listMaterial[i])\n",
    "    if len(re.findall(r'[A-Z]', element_selec)) > 1:\n",
    "        try:\n",
    "            r = dataframe[dataframe['ion'] == re.sub(r'[0-9]', '', element_selec)]['r'].to_numpy()\n",
    "            g = dataframe[dataframe['ion'] == re.sub(r'[0-9]', '', element_selec)]['g'].to_numpy()\n",
    "            b = dataframe[dataframe['ion'] == re.sub(r'[0-9]', '', element_selec)]['b'].to_numpy()\n",
    "            cc = matplotlib.colors.to_hex([r[0], g[0], b[0]])\n",
    "            color_list.append(cc)\n",
    "        except:\n",
    "            print('The element is not clor list')\n",
    "            color_list.append(fake.hex_color())\n",
    "    else:\n",
    "        try:\n",
    "            r = dataframe[dataframe['ion'] == re.sub(r'[0-9]', '', element_selec)]['r'].to_numpy()\n",
    "            g = dataframe[dataframe['ion'] == re.sub(r'[0-9]', '', element_selec)]['g'].to_numpy()\n",
    "            b = dataframe[dataframe['ion'] == re.sub(r'[0-9]', '', element_selec)]['b'].to_numpy()\n",
    "            cc = matplotlib.colors.to_hex([r[0], g[0], b[0]])\n",
    "            color_list.append(cc)\n",
    "        except:\n",
    "            print('The element is not clor list')\n",
    "            color_list.append(fake.hex_color())"
   ]
  },
  {
   "cell_type": "code",
   "execution_count": 33,
   "metadata": {
    "tags": []
   },
   "outputs": [],
   "source": [
    "peak_width_chos = []\n",
    "for i in range(len(variables.peaks_idx)):\n",
    "    peak_width_chos.append(variables.peak_width[variables.peaks_idx[i]])\n",
    "peak_width_chos = np.array(peak_width_chos)"
   ]
  },
  {
   "cell_type": "code",
   "execution_count": 34,
   "metadata": {
    "tags": []
   },
   "outputs": [],
   "source": [
    "range_data = pd.DataFrame({\"element\": variables.element, \"isotope\": variables.isotope, \"charge\": variables.charge,\n",
    "        \"mc_low\": [item[1] for item in peak_width_chos],\n",
    "       \"mc_up\": [item[2] for item in peak_width_chos],\"color\": color_list})"
   ]
  },
  {
   "cell_type": "code",
   "execution_count": 35,
   "metadata": {
    "tags": []
   },
   "outputs": [
    {
     "data": {
      "application/vnd.jupyter.widget-view+json": {
       "model_id": "31c1882539fb4433aa1d945d9c2e9efd",
       "version_major": 2,
       "version_minor": 0
      },
      "text/plain": [
       "Sheet(cells=(Cell(column_end=0, column_start=0, numeric_format=None, row_end=2, row_start=0, squeeze_row=False…"
      ]
     },
     "execution_count": 35,
     "metadata": {},
     "output_type": "execute_result"
    }
   ],
   "source": [
    "sheet7 = ipysheet.from_dataframe(range_data)\n",
    "sheet7"
   ]
  },
  {
   "cell_type": "code",
   "execution_count": 38,
   "metadata": {
    "tags": []
   },
   "outputs": [
    {
     "data": {
      "text/html": [
       "<div>\n",
       "<style scoped>\n",
       "    .dataframe tbody tr th:only-of-type {\n",
       "        vertical-align: middle;\n",
       "    }\n",
       "\n",
       "    .dataframe tbody tr th {\n",
       "        vertical-align: top;\n",
       "    }\n",
       "\n",
       "    .dataframe thead th {\n",
       "        text-align: right;\n",
       "    }\n",
       "</style>\n",
       "<table border=\"1\" class=\"dataframe\">\n",
       "  <thead>\n",
       "    <tr style=\"text-align: right;\">\n",
       "      <th></th>\n",
       "      <th>element</th>\n",
       "      <th>isotope</th>\n",
       "      <th>charge</th>\n",
       "      <th>mc_low</th>\n",
       "      <th>mc_up</th>\n",
       "      <th>color</th>\n",
       "    </tr>\n",
       "  </thead>\n",
       "  <tbody>\n",
       "    <tr>\n",
       "      <th>0</th>\n",
       "      <td>H</td>\n",
       "      <td>1</td>\n",
       "      <td>1</td>\n",
       "      <td>0.802639</td>\n",
       "      <td>1.103087</td>\n",
       "      <td>#b2aa2d</td>\n",
       "    </tr>\n",
       "    <tr>\n",
       "      <th>1</th>\n",
       "      <td>Al</td>\n",
       "      <td>27</td>\n",
       "      <td>2</td>\n",
       "      <td>13.000000</td>\n",
       "      <td>13.950000</td>\n",
       "      <td>#e7e0d1</td>\n",
       "    </tr>\n",
       "    <tr>\n",
       "      <th>2</th>\n",
       "      <td>Al</td>\n",
       "      <td>27</td>\n",
       "      <td>1</td>\n",
       "      <td>26.000000</td>\n",
       "      <td>29.000000</td>\n",
       "      <td>#e7e0d1</td>\n",
       "    </tr>\n",
       "  </tbody>\n",
       "</table>\n",
       "</div>"
      ],
      "text/plain": [
       "  element  isotope  charge     mc_low      mc_up    color\n",
       "0       H        1       1   0.802639   1.103087  #b2aa2d\n",
       "1      Al       27       2  13.000000  13.950000  #e7e0d1\n",
       "2      Al       27       1  26.000000  29.000000  #e7e0d1"
      ]
     },
     "execution_count": 38,
     "metadata": {},
     "output_type": "execute_result"
    }
   ],
   "source": [
    "range_data = ipysheet.to_dataframe(sheet7)\n",
    "range_data"
   ]
  },
  {
   "cell_type": "code",
   "execution_count": 40,
   "metadata": {
    "tags": []
   },
   "outputs": [
    {
     "data": {
      "application/vnd.jupyter.widget-view+json": {
       "model_id": "5f17c2d0976c46ff859b46e213ffe27c",
       "version_major": 2,
       "version_minor": 0
      },
      "text/plain": [
       "interactive(children=(FloatText(value=0.1, description='bin_size'), IntText(value=50, description='prominence'…"
      ]
     },
     "metadata": {},
     "output_type": "display_data"
    }
   ],
   "source": [
    "def mc_hist_plot(data, range_data, bin_size, prominence, distance, percent, selector, plot, figname, lim_mc, mc_peak_label, ranging, adjust_label):\n",
    "    mc = data['mc_c (Da)'].to_numpy()\n",
    "    peaks_ini, peaks_y_ini, peak_widths_p_ini, _ = tools.hist_plot(mc[mc < lim_mc], bin_size, range_data=range_data, mc_peak_label=mc_peak_label, ranging=ranging, adjust_label=adjust_label, distance=distance, percent=percent, prominence=prominence, selector=selector, plot=plot, label='mc', fig_name=figname+'_ini')\n",
    "    index_max_ini = np.argmax(peaks_y_ini)\n",
    "    variables.max_peak = peaks_ini[index_max_ini]\n",
    "    variables.peak = peaks_ini\n",
    "    mrp = (peaks_ini[index_max_ini] / (peak_widths_p_ini[index_max_ini][2] - peak_widths_p_ini[index_max_ini][1]))\n",
    "    print('Mass resolving power for the highest peak (MRP --> m/m_2-m_1):', mrp)\n",
    "    for i in range(len(peaks_ini)):\n",
    "        print('Peaks ', i, 'is at location and height: ({:.2f}, {:.2f})'.format(peaks_ini[i], peaks_y_ini[i]), 'peak window sides (half-maximum) are: ({:.2f}, {:.2f})'.format(peak_widths_p_ini[i][1], peak_widths_p_ini[i][2]))\n",
    "\n",
    "interact_manual(mc_hist_plot, data=fixed(data), range_data=fixed(range_data), bin_size=widgets.FloatText(value=0.1)\n",
    "               ,prominence=widgets.IntText(value=50), distance=widgets.IntText(value=100), lim_mc=widgets.IntText(value=150)\n",
    "               ,percent=widgets.IntText(value=50), selector=fixed('rect'), plot=fixed(True), figname=fixed(figname),\n",
    "               mc_peak_label=widgets.Dropdown(options=[('True', True), ('False', False)]),\n",
    "                ranging=widgets.Dropdown(options=[('True', True), ('False', False)]),\n",
    "                adjust_label=widgets.Dropdown(options=[('True', True), ('False', False)]));\n"
   ]
  },
  {
   "cell_type": "code",
   "execution_count": 42,
   "metadata": {
    "tags": []
   },
   "outputs": [
    {
     "data": {
      "text/html": [
       "<div>\n",
       "<style scoped>\n",
       "    .dataframe tbody tr th:only-of-type {\n",
       "        vertical-align: middle;\n",
       "    }\n",
       "\n",
       "    .dataframe tbody tr th {\n",
       "        vertical-align: top;\n",
       "    }\n",
       "\n",
       "    .dataframe thead th {\n",
       "        text-align: right;\n",
       "    }\n",
       "</style>\n",
       "<table border=\"1\" class=\"dataframe\">\n",
       "  <thead>\n",
       "    <tr style=\"text-align: right;\">\n",
       "      <th></th>\n",
       "      <th>element</th>\n",
       "      <th>isotope</th>\n",
       "      <th>charge</th>\n",
       "      <th>mc_low</th>\n",
       "      <th>mc_up</th>\n",
       "      <th>color</th>\n",
       "    </tr>\n",
       "  </thead>\n",
       "  <tbody>\n",
       "    <tr>\n",
       "      <th>0</th>\n",
       "      <td>H</td>\n",
       "      <td>1</td>\n",
       "      <td>1</td>\n",
       "      <td>0.802639</td>\n",
       "      <td>1.103087</td>\n",
       "      <td>#b2aa2d</td>\n",
       "    </tr>\n",
       "    <tr>\n",
       "      <th>1</th>\n",
       "      <td>Al</td>\n",
       "      <td>27</td>\n",
       "      <td>2</td>\n",
       "      <td>13.000000</td>\n",
       "      <td>13.950000</td>\n",
       "      <td>#e7e0d1</td>\n",
       "    </tr>\n",
       "    <tr>\n",
       "      <th>2</th>\n",
       "      <td>Al</td>\n",
       "      <td>27</td>\n",
       "      <td>1</td>\n",
       "      <td>26.000000</td>\n",
       "      <td>29.000000</td>\n",
       "      <td>#e7e0d1</td>\n",
       "    </tr>\n",
       "  </tbody>\n",
       "</table>\n",
       "</div>"
      ],
      "text/plain": [
       "  element  isotope  charge     mc_low      mc_up    color\n",
       "0       H        1       1   0.802639   1.103087  #b2aa2d\n",
       "1      Al       27       2  13.000000  13.950000  #e7e0d1\n",
       "2      Al       27       1  26.000000  29.000000  #e7e0d1"
      ]
     },
     "execution_count": 42,
     "metadata": {},
     "output_type": "execute_result"
    }
   ],
   "source": [
    "range_data"
   ]
  },
  {
   "cell_type": "code",
   "execution_count": 43,
   "metadata": {
    "tags": []
   },
   "outputs": [
    {
     "data": {
      "text/plain": [
       "element     object\n",
       "isotope      int32\n",
       "charge       int32\n",
       "mc_low     float64\n",
       "mc_up      float64\n",
       "color       object\n",
       "dtype: object"
      ]
     },
     "execution_count": 43,
     "metadata": {},
     "output_type": "execute_result"
    }
   ],
   "source": [
    "range_data.dtypes"
   ]
  },
  {
   "cell_type": "code",
   "execution_count": 44,
   "metadata": {
    "pycharm": {
     "name": "#%%\n"
    },
    "tags": []
   },
   "outputs": [],
   "source": [
    "# save the new data\n",
    "name_save_file = variables.result_path + '//' + dataset_name + '.h5'\n",
    "data_tools.store_df_to_hdf(name_save_file, range_data, 'df')"
   ]
  },
  {
   "cell_type": "code",
   "execution_count": 45,
   "metadata": {
    "tags": []
   },
   "outputs": [],
   "source": [
    "# save data in csv format\n",
    "data_tools.store_df_to_csv(range_data, variables.result_path + 'range_' + dataset_name + '.csv')"
   ]
  },
  {
   "cell_type": "code",
   "execution_count": null,
   "metadata": {},
   "outputs": [],
   "source": []
  },
  {
   "cell_type": "code",
   "execution_count": null,
   "metadata": {},
   "outputs": [],
   "source": []
  }
 ],
 "metadata": {
  "kernelspec": {
   "display_name": "Python 3 (ipykernel)",
   "language": "python",
   "name": "python3"
  },
  "language_info": {
   "codemirror_mode": {
    "name": "ipython",
    "version": 3
   },
   "file_extension": ".py",
   "mimetype": "text/x-python",
   "name": "python",
   "nbconvert_exporter": "python",
   "pygments_lexer": "ipython3",
   "version": "3.8.16"
  }
 },
 "nbformat": 4,
 "nbformat_minor": 4
}

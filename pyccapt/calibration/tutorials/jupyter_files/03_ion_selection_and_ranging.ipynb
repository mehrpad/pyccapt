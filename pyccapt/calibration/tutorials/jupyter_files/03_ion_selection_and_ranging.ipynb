{
 "cells": [
  {
   "cell_type": "code",
   "execution_count": 1,
   "metadata": {
    "pycharm": {
     "name": "#%%\n"
    }
   },
   "outputs": [],
   "source": [
    "%matplotlib ipympl\n",
    "import os\n",
    "import os.path as path\n",
    "import pandas as pd\n",
    "import numpy as np\n",
    "from scipy.optimize import curve_fit\n",
    "from faker import Factory\n",
    "from scipy import interpolate\n",
    "from sklearn.preprocessing import MinMaxScaler\n",
    "from mpl_toolkits.mplot3d import Axes3D\n",
    "import matplotlib.pyplot as plt\n",
    "import math \n",
    "import itertools \n",
    "from ipywidgets import interact, interactive, fixed, interact_manual, widgets\n",
    "from ipywidgets import HBox, VBox\n",
    "from ipywidgets import IntSlider, Output\n",
    "from IPython.display import clear_output\n",
    "import h5py\n",
    "import re\n",
    "import matplotlib\n",
    "import ipysheet\n",
    "\n",
    "# Local module and scripts\n",
    "from pyccapt.calibration.calibration_tools import tools, data_tools, variables, calibration, data_loadcrop, ion_selection\n",
    "from pyccapt.calibration.calibration_tools import widgets as wd\n",
    "from pyccapt.calibration.calibration_tools import dataset_path_qt"
   ]
  },
  {
   "cell_type": "code",
   "execution_count": 2,
   "metadata": {},
   "outputs": [],
   "source": [
    "%load_ext autoreload\n",
    "%autoreload 2"
   ]
  },
  {
   "cell_type": "code",
   "execution_count": 3,
   "metadata": {},
   "outputs": [],
   "source": [
    "%reload_ext autoreload"
   ]
  },
  {
   "cell_type": "code",
   "execution_count": 4,
   "metadata": {},
   "outputs": [],
   "source": [
    "# Disable showing logging in Jupyter notebook\n",
    "import logging, sys\n",
    "logging.disable(sys.maxsize)"
   ]
  },
  {
   "cell_type": "code",
   "execution_count": 5,
   "metadata": {},
   "outputs": [
    {
     "data": {
      "application/vnd.jupyter.widget-view+json": {
       "model_id": "4dcd11e5f3fc458ba83096f63fe2c9b3",
       "version_major": 2,
       "version_minor": 0
      },
      "text/plain": [
       "Button(description='load dataset', style=ButtonStyle())"
      ]
     },
     "execution_count": 5,
     "metadata": {},
     "output_type": "execute_result"
    }
   ],
   "source": [
    "button = widgets.Button(\n",
    "    description='load dataset',\n",
    ")\n",
    "\n",
    "@button.on_click\n",
    "def open_file_on_click(b):\n",
    "    global dataset_path\n",
    "    dataset_path = dataset_path_qt.gui_fname().decode('ASCII')\n",
    "button"
   ]
  },
  {
   "cell_type": "code",
   "execution_count": 6,
   "metadata": {},
   "outputs": [
    {
     "data": {
      "application/vnd.jupyter.widget-view+json": {
       "model_id": "1c40e5a9a1824e8eaedffc52aff77354",
       "version_major": 2,
       "version_minor": 0
      },
      "text/plain": [
       "Dropdown(description='Data mode:', options=('surface_concept', 'roentdec', 'leap_epos', 'leap_pos'), value='su…"
      ]
     },
     "metadata": {},
     "output_type": "display_data"
    }
   ],
   "source": [
    "tdc, pulse_mode, flightPathLength_d, t0_d, max_mc, det_diam = wd.dataset_tdc_selection()\n",
    "display(tdc)"
   ]
  },
  {
   "cell_type": "markdown",
   "metadata": {
    "pycharm": {
     "name": "#%% md\n"
    }
   },
   "source": [
    "$$\\textbf{You can specify which dataset to use in below block}$$"
   ]
  },
  {
   "cell_type": "code",
   "execution_count": 7,
   "metadata": {},
   "outputs": [],
   "source": [
    "\n",
    "\n",
    "dataset_main_path = os.path.dirname(dataset_path)\n",
    "dataset_name_with_extention = os.path.basename(dataset_path)\n",
    "dataset_name = os.path.splitext(dataset_name_with_extention)[0]\n",
    "\n",
    "\n",
    "variables.init()\n",
    "# variables.path = os.path.join(p, 'tests//data')\n",
    "variables.result_path = os.path.dirname(dataset_main_path) + '/ion_selection_ranging/'\n",
    "if not os.path.isdir(variables.result_path):\n",
    "    os.makedirs(variables.result_path, mode=0o777, exist_ok=True)\n",
    "        \n",
    "filename = dataset_path\n",
    "\n",
    "head, tail = os.path.split(filename)\n",
    "figname = os.path.splitext(tail)[0]\n",
    "\n",
    "if tdc.value == 'leap_pos' or tdc.value == 'leap_epos':\n",
    "    if tdc.value == 'leap_epos':\n",
    "        data = ccapt_tools.epos_to_ccapt(filename)\n",
    "    else:\n",
    "        data = ccapt_tools.pos_to_ccapt(filename)\n",
    "else:\n",
    "    data = data_tools.read_hdf5_through_pandas(filename)"
   ]
  },
  {
   "cell_type": "code",
   "execution_count": 8,
   "metadata": {
    "pycharm": {
     "name": "#%%\n"
    }
   },
   "outputs": [
    {
     "data": {
      "text/html": [
       "<div>\n",
       "<style scoped>\n",
       "    .dataframe tbody tr th:only-of-type {\n",
       "        vertical-align: middle;\n",
       "    }\n",
       "\n",
       "    .dataframe tbody tr th {\n",
       "        vertical-align: top;\n",
       "    }\n",
       "\n",
       "    .dataframe thead th {\n",
       "        text-align: right;\n",
       "    }\n",
       "</style>\n",
       "<table border=\"1\" class=\"dataframe\">\n",
       "  <thead>\n",
       "    <tr style=\"text-align: right;\">\n",
       "      <th></th>\n",
       "      <th>x (nm)</th>\n",
       "      <th>y (nm)</th>\n",
       "      <th>z (nm)</th>\n",
       "      <th>mc_c (Da)</th>\n",
       "      <th>mc (Da)</th>\n",
       "      <th>high_voltage (V)</th>\n",
       "      <th>pulse (V)</th>\n",
       "      <th>start_counter</th>\n",
       "      <th>t (ns)</th>\n",
       "      <th>t_c (nm)</th>\n",
       "      <th>x_det (cm)</th>\n",
       "      <th>y_det (cm)</th>\n",
       "      <th>pulse_pi</th>\n",
       "      <th>ion_pp</th>\n",
       "      <th>t_c (ns)</th>\n",
       "    </tr>\n",
       "  </thead>\n",
       "  <tbody>\n",
       "    <tr>\n",
       "      <th>0</th>\n",
       "      <td>0.0</td>\n",
       "      <td>0.0</td>\n",
       "      <td>0.0</td>\n",
       "      <td>27.139704</td>\n",
       "      <td>26.784518</td>\n",
       "      <td>5260.239258</td>\n",
       "      <td>5260.239258</td>\n",
       "      <td>52493.0</td>\n",
       "      <td>631.738386</td>\n",
       "      <td>0.0</td>\n",
       "      <td>-0.257878</td>\n",
       "      <td>-2.301796</td>\n",
       "      <td>0</td>\n",
       "      <td>1</td>\n",
       "      <td>606.433107</td>\n",
       "    </tr>\n",
       "    <tr>\n",
       "      <th>1</th>\n",
       "      <td>0.0</td>\n",
       "      <td>0.0</td>\n",
       "      <td>0.0</td>\n",
       "      <td>27.009601</td>\n",
       "      <td>27.010308</td>\n",
       "      <td>5260.239258</td>\n",
       "      <td>5260.239258</td>\n",
       "      <td>52549.0</td>\n",
       "      <td>630.305064</td>\n",
       "      <td>0.0</td>\n",
       "      <td>1.187510</td>\n",
       "      <td>1.509061</td>\n",
       "      <td>56</td>\n",
       "      <td>1</td>\n",
       "      <td>605.131316</td>\n",
       "    </tr>\n",
       "    <tr>\n",
       "      <th>2</th>\n",
       "      <td>0.0</td>\n",
       "      <td>0.0</td>\n",
       "      <td>0.0</td>\n",
       "      <td>26.941824</td>\n",
       "      <td>26.866870</td>\n",
       "      <td>5260.239258</td>\n",
       "      <td>5260.239258</td>\n",
       "      <td>53132.0</td>\n",
       "      <td>621.499392</td>\n",
       "      <td>0.0</td>\n",
       "      <td>0.741796</td>\n",
       "      <td>-0.038204</td>\n",
       "      <td>583</td>\n",
       "      <td>1</td>\n",
       "      <td>604.451915</td>\n",
       "    </tr>\n",
       "    <tr>\n",
       "      <th>3</th>\n",
       "      <td>0.0</td>\n",
       "      <td>0.0</td>\n",
       "      <td>0.0</td>\n",
       "      <td>26.898614</td>\n",
       "      <td>26.774577</td>\n",
       "      <td>5260.239258</td>\n",
       "      <td>5260.239258</td>\n",
       "      <td>53523.0</td>\n",
       "      <td>620.751870</td>\n",
       "      <td>0.0</td>\n",
       "      <td>0.563510</td>\n",
       "      <td>-0.576245</td>\n",
       "      <td>391</td>\n",
       "      <td>1</td>\n",
       "      <td>604.018326</td>\n",
       "    </tr>\n",
       "    <tr>\n",
       "      <th>4</th>\n",
       "      <td>0.0</td>\n",
       "      <td>0.0</td>\n",
       "      <td>0.0</td>\n",
       "      <td>26.966205</td>\n",
       "      <td>26.613477</td>\n",
       "      <td>5260.239258</td>\n",
       "      <td>5260.239258</td>\n",
       "      <td>53592.0</td>\n",
       "      <td>628.789446</td>\n",
       "      <td>0.0</td>\n",
       "      <td>-0.012735</td>\n",
       "      <td>-2.209469</td>\n",
       "      <td>69</td>\n",
       "      <td>1</td>\n",
       "      <td>604.696414</td>\n",
       "    </tr>\n",
       "    <tr>\n",
       "      <th>...</th>\n",
       "      <td>...</td>\n",
       "      <td>...</td>\n",
       "      <td>...</td>\n",
       "      <td>...</td>\n",
       "      <td>...</td>\n",
       "      <td>...</td>\n",
       "      <td>...</td>\n",
       "      <td>...</td>\n",
       "      <td>...</td>\n",
       "      <td>...</td>\n",
       "      <td>...</td>\n",
       "      <td>...</td>\n",
       "      <td>...</td>\n",
       "      <td>...</td>\n",
       "      <td>...</td>\n",
       "    </tr>\n",
       "    <tr>\n",
       "      <th>1775962</th>\n",
       "      <td>0.0</td>\n",
       "      <td>0.0</td>\n",
       "      <td>0.0</td>\n",
       "      <td>27.127101</td>\n",
       "      <td>27.017762</td>\n",
       "      <td>5703.551758</td>\n",
       "      <td>5703.551758</td>\n",
       "      <td>4605.0</td>\n",
       "      <td>611.767890</td>\n",
       "      <td>0.0</td>\n",
       "      <td>2.069388</td>\n",
       "      <td>1.149306</td>\n",
       "      <td>196</td>\n",
       "      <td>1</td>\n",
       "      <td>606.307143</td>\n",
       "    </tr>\n",
       "    <tr>\n",
       "      <th>1775963</th>\n",
       "      <td>0.0</td>\n",
       "      <td>0.0</td>\n",
       "      <td>0.0</td>\n",
       "      <td>26.978958</td>\n",
       "      <td>27.234073</td>\n",
       "      <td>5703.551758</td>\n",
       "      <td>5703.551758</td>\n",
       "      <td>4668.0</td>\n",
       "      <td>625.607334</td>\n",
       "      <td>0.0</td>\n",
       "      <td>0.767265</td>\n",
       "      <td>3.212327</td>\n",
       "      <td>63</td>\n",
       "      <td>1</td>\n",
       "      <td>604.824252</td>\n",
       "    </tr>\n",
       "    <tr>\n",
       "      <th>1775964</th>\n",
       "      <td>0.0</td>\n",
       "      <td>0.0</td>\n",
       "      <td>0.0</td>\n",
       "      <td>27.584848</td>\n",
       "      <td>27.757134</td>\n",
       "      <td>5703.551758</td>\n",
       "      <td>5703.551758</td>\n",
       "      <td>6574.0</td>\n",
       "      <td>607.214178</td>\n",
       "      <td>0.0</td>\n",
       "      <td>-0.089143</td>\n",
       "      <td>0.468000</td>\n",
       "      <td>1906</td>\n",
       "      <td>1</td>\n",
       "      <td>610.863794</td>\n",
       "    </tr>\n",
       "    <tr>\n",
       "      <th>1775965</th>\n",
       "      <td>0.0</td>\n",
       "      <td>0.0</td>\n",
       "      <td>0.0</td>\n",
       "      <td>27.027022</td>\n",
       "      <td>27.444189</td>\n",
       "      <td>5703.551758</td>\n",
       "      <td>5703.551758</td>\n",
       "      <td>6834.0</td>\n",
       "      <td>620.477550</td>\n",
       "      <td>0.0</td>\n",
       "      <td>-0.312000</td>\n",
       "      <td>2.731592</td>\n",
       "      <td>260</td>\n",
       "      <td>1</td>\n",
       "      <td>605.305811</td>\n",
       "    </tr>\n",
       "    <tr>\n",
       "      <th>1775966</th>\n",
       "      <td>0.0</td>\n",
       "      <td>0.0</td>\n",
       "      <td>0.0</td>\n",
       "      <td>27.021852</td>\n",
       "      <td>27.679325</td>\n",
       "      <td>5703.551758</td>\n",
       "      <td>5703.551758</td>\n",
       "      <td>7198.0</td>\n",
       "      <td>628.960896</td>\n",
       "      <td>0.0</td>\n",
       "      <td>-1.887918</td>\n",
       "      <td>2.597878</td>\n",
       "      <td>364</td>\n",
       "      <td>1</td>\n",
       "      <td>605.254035</td>\n",
       "    </tr>\n",
       "  </tbody>\n",
       "</table>\n",
       "<p>1775967 rows × 15 columns</p>\n",
       "</div>"
      ],
      "text/plain": [
       "         x (nm)  y (nm)  z (nm)  mc_c (Da)    mc (Da)  high_voltage (V)  \\\n",
       "0           0.0     0.0     0.0  27.139704  26.784518       5260.239258   \n",
       "1           0.0     0.0     0.0  27.009601  27.010308       5260.239258   \n",
       "2           0.0     0.0     0.0  26.941824  26.866870       5260.239258   \n",
       "3           0.0     0.0     0.0  26.898614  26.774577       5260.239258   \n",
       "4           0.0     0.0     0.0  26.966205  26.613477       5260.239258   \n",
       "...         ...     ...     ...        ...        ...               ...   \n",
       "1775962     0.0     0.0     0.0  27.127101  27.017762       5703.551758   \n",
       "1775963     0.0     0.0     0.0  26.978958  27.234073       5703.551758   \n",
       "1775964     0.0     0.0     0.0  27.584848  27.757134       5703.551758   \n",
       "1775965     0.0     0.0     0.0  27.027022  27.444189       5703.551758   \n",
       "1775966     0.0     0.0     0.0  27.021852  27.679325       5703.551758   \n",
       "\n",
       "           pulse (V)  start_counter      t (ns)  t_c (nm)  x_det (cm)  \\\n",
       "0        5260.239258        52493.0  631.738386       0.0   -0.257878   \n",
       "1        5260.239258        52549.0  630.305064       0.0    1.187510   \n",
       "2        5260.239258        53132.0  621.499392       0.0    0.741796   \n",
       "3        5260.239258        53523.0  620.751870       0.0    0.563510   \n",
       "4        5260.239258        53592.0  628.789446       0.0   -0.012735   \n",
       "...              ...            ...         ...       ...         ...   \n",
       "1775962  5703.551758         4605.0  611.767890       0.0    2.069388   \n",
       "1775963  5703.551758         4668.0  625.607334       0.0    0.767265   \n",
       "1775964  5703.551758         6574.0  607.214178       0.0   -0.089143   \n",
       "1775965  5703.551758         6834.0  620.477550       0.0   -0.312000   \n",
       "1775966  5703.551758         7198.0  628.960896       0.0   -1.887918   \n",
       "\n",
       "         y_det (cm)  pulse_pi  ion_pp    t_c (ns)  \n",
       "0         -2.301796         0       1  606.433107  \n",
       "1          1.509061        56       1  605.131316  \n",
       "2         -0.038204       583       1  604.451915  \n",
       "3         -0.576245       391       1  604.018326  \n",
       "4         -2.209469        69       1  604.696414  \n",
       "...             ...       ...     ...         ...  \n",
       "1775962    1.149306       196       1  606.307143  \n",
       "1775963    3.212327        63       1  604.824252  \n",
       "1775964    0.468000      1906       1  610.863794  \n",
       "1775965    2.731592       260       1  605.305811  \n",
       "1775966    2.597878       364       1  605.254035  \n",
       "\n",
       "[1775967 rows x 15 columns]"
      ]
     },
     "execution_count": 8,
     "metadata": {},
     "output_type": "execute_result"
    }
   ],
   "source": [
    "data"
   ]
  },
  {
   "cell_type": "code",
   "execution_count": 9,
   "metadata": {
    "pycharm": {
     "name": "#%%\n"
    }
   },
   "outputs": [],
   "source": [
    "variables.mc_calib = data['mc_c (Da)'].to_numpy()\n",
    "cc = data['mc_c (Da)'].to_numpy()"
   ]
  },
  {
   "cell_type": "code",
   "execution_count": 10,
   "metadata": {},
   "outputs": [
    {
     "name": "stdout",
     "output_type": "stream",
     "text": [
      "The peak index for MRP calculation is: 2\n"
     ]
    },
    {
     "data": {
      "application/vnd.jupyter.widget-view+json": {
       "model_id": "ec057840fd494be5856b167103968d92",
       "version_major": 2,
       "version_minor": 0
      },
      "image/png": "[encoded data removed]",
      "text/html": [
       "\n",
       "            <div style=\"display: inline-block;\">\n",
       "                <div class=\"jupyter-widgets widget-label\" style=\"text-align: center;\">\n",
       "                    Figure\n",
       "                </div>\n",
       "                <img src='data:image/png;base64,iVBORw0KGgoAAAANSUhEUgAAAWIAAADsCAYAAABOkaxmAAAAOXRFWHRTb2Z0d2FyZQBNYXRwbG90bGliIHZlcnNpb24zLjcuMSwgaHR0cHM6Ly9tYXRwbG90bGliLm9yZy/bCgiHAAAACXBIWXMAAA9hAAAPYQGoP6dpAABZ6klEQVR4nO2dd3hURdfAf+kNEggBEnoJzUAINYIKYqGp+OoHNoooL4g0URQEQXhBugIqKgoIInYsiCIK0ruUID2U9Gx6stndbN/7/bHsJZtsCmmbwPyeZ5/szsydOffe7Nm5Z86c4yJJkoRAIBAInIarswUQCASCOx2hiAUCgcDJCEUsEAgETkYoYoFAIHAyQhELBAKBkxGKWCAQCJyMUMQCgUDgZIQiFggEAicjFLFAIBA4GaGIBQKBwMkIRSwQCARORihigUAgcDJCEQsEAoGTcXe2ANURi8VCcnIytWvXxsXFxdni1ChcMjPx/PBDXHJzwc0N45NPYu7VCwwGPNetwzU6GlxcMLz0Epb27e2PjYnBc906XHQ6LM2aYZg4Edzdcf/tN9z37UNycQF/f/STJkGdOs45QYHgBpIkoVKpaNSoEa6u5ZvTuogwmIVJTEykadOmzhajRlIXqAPE3Pi7CngJGAbogR8AN8ALyCtw7ErgEyD6Rvtc4E/AB9DeaPMoEAKsrbQzEAhujYSEBJo0aVKuPoQidoBSqaROnTokJCTg7+/vbHFqNN5vvIH+zTfxevttdCtXgqdnkW19/vtftOvWAeAaHY3Hli3oZ82ya+P+yy+45ORgHD26MsUWCEokNzeXpk2bkpOTQ0BAQLn6EqYJB9jMEf7+/kIRl4erV8HdHc8GDcDHB88tW+DiRWjZEl56CXx87Ns3a4bH1avQtSucPQtqNV62679lC2zfDt7esGQJPuK+CKoJFWG+FDNiB+Tm5hIQEIBSqRSKuKyoVDBjBkyeDI0bw/Dh8Pbb0KMHbNoELi4wcqT9MQkJ8OmnoNFAt25w/Dh88IF9m19+sdYPH15lpyJJEjqdDpPJVGVjCpyPl5cXnsU8wVWknhAzYkHFYzTCwoUwbBh06ACSBL6+ViUM0KsXfP114eOaNoV33rG+v3ABEhMLt+nXD2bNqjJFHBUVxcGD+0lPVSDmLHcWLi4uNGvemof796dZs2aVOpZQxIKKRZJg1SoID7cqTbDOfrt0gUuXoH17q9nB0WKoUgkBAWA2W00RQ4ZYy5OToVEj6/ujR6GcCyOl5dy5c/y05RvatQyh98BeeHp6Ci+aOwRJktBo8jh95gKbNn7OuPETaNCgQaWNJxSxoGK5eBEOHIAWLaxKE+C112D0aFixArRaqF8fXn3VWvfVVxAaCpGRsHs3/PmnVZn37w8REdY2W7bA5cvg6mo9dsKEKjmV48eP0aJxPYY+MVAo4DuUjne15cNPvyYqKor+/ftX2jhCEQsqjITkVJredRf8+qvjBsuWFS7Lb2J44gnrqyBTplSMgLdIcmICfSLbCyV8B+Ph4UGLpg1JSnJgJqtAxM46QYVhMN5ei1lmswkPD/u5Sq8H/g+VSu2w/aix08jL0zqsKw/pGVmMnzK7yPoB/xlNsiIVgG+3bCMzK1uuW7fxO1au/rxM4x48coKnR01m2MhJvPn2MjSagp7fVg4dPcnol96gT/+nSxyr1wP/x/AXX2XEmNd4atRk5ixYwfXYhDLJV1W4e3hgruSFWqGIBYIKYtPa9/D19Sm54S1SPyiQNR+8U6q23/34O5lZOeUeMy9Py6LlH7P0nRn88OVqgoIC+fzLLQ7bNm0Swqw3JvDc04+Xqu817y9g8/oVfLvxfbp2DmP8lLfkH5I7FaGIBYJb5Kvvf2XU2Gk8NWoyO3bul8vzz5afeHY8n234lrETZ/Lkcy+zoQgl9vY7K/lz1wEAfvxlB/c9/DRarQ6Aia/N5fSZ8yQrUnn4sZuufgcO/8Mzz09hxJjXWP3pJrl8/Rffk5GRzez5Kxg1dhrRV2MAyMzK5vVZi3l29CtMfG0uubmOZ/T5OXL8NG3btKRFM+vC6JNDBrBz90GHbZs1aUTb0Ja4u7mV2G9+XF1deWLIACJ7RPDj1j8B+HPXAcZMmMGosdMY+d/XOHD4n1vqs6YiFLGgwohJSHa2CFWCi4sLm9a+x8ols1m5en2RszmVSsPajxbz+SdL+eq7X0hLzyzUpke3zpw49S8Ax0+eoUO71pw+cwGdTs/Va7F0Cmtn1z4rO4d3lq5m0f/eYPP6FTRpFExurgqAMc8/RVBQXd55+zU2rX2PtqEtATh/8Qpz3pzENxvfJ7BuAD9vsyq99IwsRo2d5lD21LQMQhrWlz83Cm5AZlY2ZrP5Fq9WyYR1aMP12HgA7u4ZwbqPlrBp7XssXTCDxe9+gsFgqPAxqxtisU5QYVgsd4af7ZDBDwLQuFFDOnfqQNTZizQKaVio3YCH7gWgToA/jUIaokhJo0H9enZtenTtxPovvsNisRATl8j4Mc9x/OQZXF1duKtDG9zd7b+i5y9eoXWr5rRqYXX/G/LIQ6z4cH2x8t7dI4IA/9qA1Qvg2nWr0qsfFMimte+V4QpULPnds5OTU5m7YRVpaZm4u7uhUmlITkmTZ+a3K0IRCwTlpCivivy7stzc3BzOJoMb1sfT05Mdu/bTvm0runfpxMbNW3Bzc6N7l04VIp+dHK6O5ShIwwZBHD95Rv6cnJJGvcC6uN2i+aE0XLh0hdYtrRsm5ryzkgljR/BA314ADHj8eQwGY4WPWd0QpgmB4Bb5fcceAJIVqZw5e5HOHduXcETx9OjaibUbvqVHt874+9fC3d2d3fsO06NbeKG21hltHLHxVneqbX/sxphvRd/P17dI74ZboVfPLlyOjpHH+enXP3mo3z3l7jc/FouFrb/t5Ng/UTw5ZAAAKpWakGDrxok/du4jtwgPldsNMSMWCG4Rs8XCqLHT0OkNvDppjEOzxK3QvWs4P/36Jz26WmfAPbqFs/X3XbRp3aJQ27p1Anhr+kTenLMMDw93IntE4H/D7AAw7MnBLH5vDd5ensyeManYcdMzspg2c6FD84Svrw+z3niZGbOXYrZYaNWiKW+/OVmuHzV2Gu8tfov6QYH8c/JfFixdLf8A7Nl/lDemjuW+3j0cjjv+lTm4uLhgMBpp16Ylaz5YKF/DqZNe5K3/vUstP1+6delEwwZBxV+82wQR9McBIuhP2fhr/3H69+npbDEqjP/NnU3/vhF0qyATgaBm8uv2v8nJc+e/Y8fZlVeknhCmCYFAIHAyt60ivv/++/H29qZWrVrUqlWLQYMGOVuk255ERZqzRRAIaiS3tY143bp1jBgxwtli3DEYjLf/6rZAUBnctjNigUAgqClUC0WsVquZO3cuAwcOJDAwEBcXFzZu3OiwrV6vZ8aMGTRq1AgfHx8iIyPZuXOnw7avvvoq9evX5+GHH+bff/+txDMQCASCslMtFHFGRgbz58/n4sWLdO7cudi2o0ePZsWKFQwfPpz3338fNzc3Bg8ezMGD9vvgly1bRkxMDPHx8Tz88MMMGjQIlUpVmachEAhKyS/b/mLStHm8PHWOSEFFNbERh4SEoFAoCA4O5sSJE/To4dj/8Pjx43z77bcsX76c119/HYBRo0bRsWNHpk+fzuHDh+W2PXvedKOaPn06n3/+OUePHuXhhx+u3JMRCATFkpKaztWYeFa/N8/ZolQbqsWM2MvLi+Dg4BLbbdli3fo5btxNfz5vb2/GjBnDkSNHSEgoOq6pq6vrnZFzbOFCeOYZWLz4Ztmbb1qTeE6YAN9+W/zxixffzJ4B8NdfMG4cPPYY6HTFHipJEhnZynIIL7gTOHbiDDqtjomvzWXdxu+cLU61oFoo4tJy+vRp2rZtW8h52jb7jYqKAiAnJ4edO3ei1+sxGAysXLmSrKwsIiMjq1rkqmfIEGtqovy8/TZ8+KH1deIEXL/u+NioKGs6ovy0bQsLFkAp83XdKVtSqwvrNn5X5dHJZs17l7PnLwPw3gfreeLZ8fR64P/ksJs24hOTGTdpFk+NmsyLL8+QA8BnZytxcXHhoxX/I1mRKh83fsrsW4pLXNzYNpS5KkaNnSa/nho1mXseGiaHAjUYDLz7wTqGjZzE8BdfZd7C92/5elQENUoRKxQKQkJCCpXbypKTrWEYjUYjM2fOJCgoiODgYLZt28b27dsJCAhw2K9eryc3N9fuVWPp1Al8CgQn9/W1/jWboSh7nMkE338PTz9tX96iBTQs3xZeQeWxftP36PVVp4gvXLxCrkoth+d8oO/dfPrBQoLzhcy0sXTFpwx59CG+3/QhI575D+8sXQ1ALT9fIjrfBUBE5zDi4pMAePapx1i7ofQz5OLGthHgX5tNa9+TX48/8hC9enbF378WAB+v/QqA7zd9yFefr2Tyy6NKPX5FUi1sxKVFq9Xi5eVVqNzb21uuB6hfvz4nTpwodb+LFy/mf//7X8UIWV154w2IjYVHHoFWrQrX//ILPPjgTaUtKJJeD/wfL734HPsPHSdHmcsLI4fx2KAH5Lq/tn5B7drWL/qA/4xmwydLaRTSUD7uwOHjZGUrmTrxBWLjEtl74BhqTR4zp42na0THQuPNXbiK+IRkjEYTDerX463pE6gXWJelK9YA1tgNbm6urFo2h+grMXyy7ivMZgu1a/vxxtRxcsjM0o6v1xtYsPRDrl2Px93djbp16/DB8rcB+HnbX/R/8D5Zti6dwxxeo6zsHC5dviYf16/P3bz7/loSEhV0DGvHX39bg+Ffux5H/wes4ULvubsbi99bg1qtoVYtvxLvQ1FjF8e27X/z8lhrnkStVse27X/z6/efyRH06gXWveU+K4IaNSP28fFBr9cXKtfdsF36FJwJlpKZM2eiVCrlV3G25hrL8uWwaZPVLBEXZ1+XmQmnT8MDDzhHthqIp6cHn3+ylBVL3mLV6s9LHTDdx8eL9R8vZdbrE/jfog+oV68uG9YsY/yY51j96ZcOj5k68QU2rFnG5vUriAjvINtVZ7w2HrCmHrIF7pm7cBVz3pzM5vUrePyRh3lr3rt2ayOlGf/I8VOo1Bq+2fg+X65bwTtzbpq6Tp05T1iHNiWeZ2paJvXq3Qyb6eLiQnDD+qSmZdC+bSvMZjMvT52DXm8g7K62ALi7u9O6ZTOizl6U+1m0/OMKy9Jx9vxlclVq7u3VHYDE5BT8/Wux8asfeWH8dMZPmc0/J53j5lqjZsQhISEkJSUVKlcoFAA0atSoTP16eXk5nGnfdvj4QOfOcOoUNG9+s/z6dUhIgP/+12q+UCph3jzrS+CQAQ9ZZ4UtmjXBzc2VzKycQkHfHWELJdmhXWu0Op08G7yrfSgJiY4znPz19wF27NyPXm/AYDRSJ6C2w3bnL16hVctmhLay3tuBD/fhvQ/Wkp6RJctWmvHbtG5JbFwSy1d9RkT4Xdxzdzd5jPT0TALrOjbx3QqvTnrRYXm9wDqk58tkMuuNCeUey8avv+9i8ID75R8Hs9lCSmo6LVs0ZeK4kVy+cp0pb8znmw2rCKxbp8LGLQ01akYcERFBdHR0IRvusWPH5HpBATQaq2IFMBqtSrhJgWwHPXpYZ8vr11tT3rdoUWYlnKsqfyzcmoCnh4f83sXVVfaFdXV1xZJvBmosENTcdpzrjUVRW9B2a+B4S6Fxzpy9yPc/bee9xbP4esMqXpkwulyB0kszfuNGDflmwyru7tmFf89d5rkXp8qLW97eXqUav2GDemRm3kytJEkSKanpJYa1NBiMeHp5FtumLOTladm97wiPDrr51BfcMAhXV1cGPtQHgHZtWtE4pKGcwaQqqVGKeOjQoZjNZj777DO5TK/Xs2HDBiIjI2natKkTpXMuJtuj8ezZsGSJ1Tti9GiIibEq1cmTYepU62KezU/7gw/gypXiO96xw9pPRga89BKsW1ds8/R8qdzvRJo0Cub8Bes13bP/KNoSXP5KIlelxs/XhzoB/hiNRn7+9S+7el8fH9Q34gB3vKst12PiuRZjVSQ7dx+kflA96gcF3tKYaemZuLi4cF/vHkx5eRSSBKnpGQC0btWc+FLkJgysW4e2bVryx859gPVaNGwQRNMmhRfb8xMbl+gwDnN52bX3MKGtmtulXKoT4E+3Lp04ejwKsAb6T1Kk0rxZ4wofvySqjWli9erV5OTkyJ4P27ZtIzHRmh1g8uTJBAQEEBkZybBhw5g5cyZpaWmEhobyxRdfEBsby/r1xeftut2JS0yhdfPG8I6DtOsrVzo+aMqUwmUNGti3HzjQ+hKUiqkTX2DF6s/59POv6X13N7ug7WWhV88u/LlrP0+NmkyAfy16dOtMRmaWXP/ssMd4ZfoCvL08WbVsDvNmvcL8xR/Ii3XvzJ1WZCqnorh2PY5P1n2FJEmYzRYG9e8rK8cH+vTi6D9RcvaQpSvWcOjoKTKzspk6fQG+vj5s2fwRAG9OG887S1az6euf8fP14a3pE4sdN1mRikWS7BTxouUfc989PRwGmS9u7ILH/bb9bx575KFCfcx49SUWLv+Ijz77EldXF958bXypTEwVTbUJDN+iRQviCi4i3SAmJoYWLVoA1oW5OXPmsHnzZrKzswkPD2fBggUMGDCgwmSpiYHhT529TIc2LfDxdp6t+5MvfyK0RRMevu/2CA4vAsMXJi9Py7jJb7F29SJ8fLwrtO+PPvuSJo1DeNyBwnQmVREYvtrMiGNjY0vVztvbm+XLl7N8+fLKFaiGoTMYbponBIJKwtfXh1cmjCY5JU1O+FlR1K8XKLsB3mlUG0UsEAhqBo6SmlYET/3fI5XSb02gRi3WCWoA1cLQJRDULIQiFlQo1+NLXlEXCAT2CEUsqDB0uqoNPiMQ3C4IRSyoMJJSM5wtgkBQIxGLdQLBLfDEs+Px8PDA28sTg8FI2zYtmTntZdmV6/iJM2z4cgup6RkE+NfGxcWFIYMf5D+P9Zf7sFgs/LFzHzt27icrKwdPTw+6denIyGefIMCB3/GJU2d5Zfp8Jo8fxTNDHytRxkNHT7J2w7dcj4nniSED7LYTb/n5D37e9hdubq6YTGb+8+jD8iLZuo3fsWXrDhrc2ADSskVT/vfW1PJcrnLz7gfr6NyxPXqDgVWrP6dRSEMMBiMeHu70vTeSkc8+gVcl7MSrasqsiAMDS96tExwczIULF8o6hKAGYZEkqB4u6ZXOO2+/RtvQllgsFl6ftZjfd+xh6BODOPZPFAuWrmbx/96Qw0SmpWey9febORUNBgNvvr2c5s0aM+v1lwkJboDJZGLfweNMnb6A/82eSrMmN2OmqNUaPl67mV49u5ZavqZNQpj1xgR27zuCVmu/s2/gw30Y+sQgADSaPJ578VU6h3egXRtrRL4BD95XZByIqkaSJI4cO8WE/w5n9/4jdI3oyLJ33gSs0d0Wv/sJs+e/x/KFM50safkpsyIOCQlh+/btRdZLksSQIUPK2r2ghpGQlIrZUjhWwu2MyWRCp9fLIS8/3/QDY0YNk5UwQIP69Rg7+hn58yfrvqbPPT3sZsju7u48eH9v2oS2YPmqtXz47ly57r0P1vPCyKHs3X+01HLZFPn+g8cL1eUPL6nV6cuULy5Zkcrz417nscEPcfzEGSwWC69OepEe3cJLVTf0icEcPnqSPK2OOTMmsXvfEU5FncNkMrPg7ddk/+RLl6/RrGkjfH0LR1UMrFuHOTMmM+SpsVyPTaBVi6ZFhgutCZRZEc+dO5fm+SN4OWD27Nll7V5QQ8nMuf1TJc2evwJvL08UKWm0a9uah/r1BuDyleu8NmVMkcfpdHrOnb/MKxNGk5urZunKT0lKTiGyRwQXb8Tubd60EVeuxdKmdQt27zuCiwvc17tHIUX8869/kp6ZzbgXnilitKLZve8I6zZ+R2KSgvH/HS7Phm11p6LO4e9fmxdHDi1yV6Fak0eL5k2Y8vLznLtwmTfeWsqPX31Uqrr2bVvx0ovP8uv2v5k6fQHLF77J1IkvsPnbX1j/xfcsmmfNR7n34DH63lP0Lk1//1o0bRLC9Zh4WrVoytSJL1C3jjUy3Kavf2Ldxu/kUKHVnTIr4qeeeqpC2ghuL3KUt3+qJJtpwmw2s+S9Naz+9EtemTC6ULu5C1cRE5tARmY2P3y5mviEZDn27qZvfqJN6xYsnDuNP3cdkAOlt2zelIREBYF1A9i4eQsfrXCcsOCJIWXf0v9A31480LcXyYpU3nx7Gff06kbzpo15Ykh/Ro/4P9zd3fn33CVmzFnG558sISS4cJosN1c3Hh3YD4COd7WjflBdLl+5TsMGQcXWeXp40Pdea8qy9m1b4e3tJSv7sA5t5OsAcODQP6xeMa/Yc8lvDSttuNDqSLm9Jt5++21ycnKQJIlHHnmEoKAgfvzxx4qQTVCDyFLW4PRSZcTNzY1+fXpx7J8oANqGtuTipaty/f/emsqmte+RnaPEcsNsYws/eS0mnr73WRXS/ffdzKWYkZVNUL26XIq+TkZmNqPGvc4Tz45nz/6jbPhyC2vWf11h8jcKaUhYhzYcOnISsGancHe3zs3CO7anbZsWXIouIr+hA4oLLmSr8/S8GT7Uzc3NbqHN1dW6gAjWfHe1a/kVGxc4N1dNYpKCVi2bVXi40Kqm3Ip469at1KlTh127duHu7s6hQ4d4x1EEMEGlo8x13mw0O0fltLGdyYnTZ2nW1GqTfWHkUNZv+oFzFy7L9fkXy1o0b8L5C9EAtG7ZjENHrOm89h+y2nKvXIvl3IVowjq04Z67u7H9p8/5+Zs1/PzNGvr1uZsXRg5l/JjnyiWvLYEnQHaOkpNR5+VA8mn5ArLHJyZz5WosrVs5jidhtpjZ/tdewJrHLj0jm7ahLUusKy37Dhyjz71FmyWyc5QsXP4RPbqF06pF0xLDhVZ3yu2+ZvuF37dvH8OGDaNdu3a3HHZPUDFkZCtpElK6bMuCsmOzEZtMZoIb1mfGay8B0CuyK7Nef5nVa74kPTOLunX88XD3YNrk/+Ln54urqyttQlvwx859jHr2SZau/JTRL71Bz+6daRBUjy0//8G8WVPkDBLFUZyN+J+T/7Jg6Wo0N+IU79l/lDemjuW+3j344affifr3Ih4e7kiSxNNPPkLP7p0BWLPuKy5FX8fd3Q1XV1def2WsnQdHfmr5+XI9JoGR/30Ns9nC/NlT8fX1IUeZW2xdadl/8Dhvz7QP03oq6hyjxk5Drzfg6ekhu69ByeFCqzvlDoN577338thjj7F27VoOHTpEgwYN6NSpE+fOnasoGaucmhgG8/DJs/j6eBNxV8n5xCqD3YdOsm3XQTzc3Vn2VvFxZ2sKlREGU6fT88bsJXTtHMb/PT4Qf/9amEwmTp+5gN5gkPOpVWds3g87txXOsVdcXWnJyLTGF968fkV5xKwwakQYzI0bN7J69WqWLVtGw4YNuXr1KiNGjChvt4IaikWS0BsMeHnWfCf7ysDb24tVS2ezbfvfvDl3GWq1BoCuER157inh7gkQVK9utVHCVUW5FfH+/ftZtWqV/Dk0NJQGDcTj8Z2K2WwmNSObZo0aOluUaoubmxv/eay/nS9xTaJRSMMiZ7zF1QmKptyLdatXry5U9tFHH5W3W4FAILhjKPOM+Pjx4xw5coT09HQ++OADuVypVKLX6ytEOIGguvHEs+PR6Qxs++Ez2dXr5OmzTJo2j6eefIRXJ73IqahzvDrjHZo3a4zFIuHl5cGrk16k413WHXf5YzoYDEZCWzdn+tSX8Pe37tD74JMv6NCuNQ8/cC+/7dgtx1iwMXPay/y4dQeNGwXzwsihAPyxcx/zF3/Aj199LLedOmMBD/TtzZDBD9Lrgf/jr61fyLsAbeeydMEM2oa2ZMGSD9n+1142frpc3uCRl6fl0aH/pUnjYDatfQ+DwcC4yW+x+r15djv0iqKsMS9sZGXnMGLMa3S8q628tbkgL0+dQ2paBrX8fAEYPOB+OR5HVnYO85d8SFJyKh7u7rwxdSxdOoeVKLczKLMiVigUREVFkZeXx+nTp+Vyf39/Nm7cWBGyCQTVkuCGQRw4fIJ+fe4GYNv23XRoF2rXpnmzxmxa+x5gVToLl33MNxvfl+ttMR0sFguz5r3Lhs1beGXCaNLSMzly7BSTx4+S2+aPsSCXxXfkj7/2yYr41OlzhHVow6kz52kU0hCz2cy/Zy8xfar9AlNxtG/bmm1/7JYV8c49h2jRvIm8DdrT05OBD/fh6x+2lWpHX3liXgAsXfEp99zdDWVu8a6Rr0wYLW8Syc8na7+iY4e2rFo6h4uXrjLj7WX89PXH8g9odaLMponHH3+cDRs2sHnzZjZs2CC/3n//fbp3r/4rv4KKJSWfD+rtziMD+rFt+9+ANSjPuYvRRPaIKLJ9t66dSElNd1jn6upKj67hcor63/7Yzf197i7RBbRbREfOnb+M0WjdtHDm3CVGPfckp6POA3Dh0lUCAmrbzaRLou+9kRw+ehKDwRpX+vc/dss75Gw8/MC9bP1tJ6VxtmrWpBFtQ1vi7sAdr6SYF79u/5uQ4AZ0Du9QavkL8vfewzwxxGqH79A+lKB6dTl9pnoGISu3jfjo0aNkZt78EmZkZPC//znelim4fdEUmPHczoR3ak9KajrpGVns3H2QB/r2ws216K/Snn1HeKjfPQ7r9HoD+w4dp30760zw1JnzhHWwd0G0+c+OGjuNV6bPB6BhgyDq1avL+YtXSElNJ6B2LSK7R3D2xoaRk6fP0b2A2934V+bI/YwaO42MjGy7em9vT3p268y+g8eJjU8ErJtQ8lMvsC5eXp7yxpCff/2TzzZ8W+z1Kord+47w3AtTefLZ8Qx/+nF5NpysSOWXbX/x8n+Hl6qfjz/bzPAXX2X2/PdISk4FQJmrwmQy2QX9CQluQEpa9YyZXe45+tatW+0Ub1BQEFu3bmXu3LnFHCW4nYlNUNz2XhMDH+7D7zv2sP/Qcea99Qp/7TpgVx8Xn2RVdpnZmC0W1n+0xK7+z78PcPqMdfbapXMYo559ErDubqtXYFuvI9MEWGfFp6LOExxcn4jOd+Hl5UndAH+SFamcOnOeQf372rVf8/6CQjbigjw6qB+fbfiONq1b8EiB2bCNoMC6pKVl0LplswqPedGsSSPeWfYR0yaPKVWc4XmzXqFhgyAkSeLHX3bw+qxFdiagmkK5Z8QWB6EPbY82gjsTR/8TtxuD+t/P9z/9jpenp8PdZzYb8a/ff8b990Yyb9Equ8f5AQ/ex6a177Fp7Xu8OulFWel4e3miL+X3p2tER05GnePU6XN0vbEI1SUijOMnznD23CW6RXS85fPqeFc7Mm7M9B9+4F6HbfQGA97eXrfcd1Hkj3mh0eRx7Xocsxes4Ilnx/Phmk0cP3GGSdPmOTy2YYMgwBrLYugTg0hWpKLMVRHgXxs3Nzcys27O+hUpaQTfaF/dKLcibteuHcuWLcNsNmMymVi6dCnt27evCNkEgmpL/aBAXh47ggnjit+85O7uzquTXiQtPYt9B4+V2G9oq+bEJZQuAWu3Lh05fyGaU2fO07mT1ZbaJfwuvv5hG/Xr16NB/Xql6qcgr056kcnjRzmMA2yxWEhKTqF1y+JD4JZEUTEvatXy48+tX8gxNiaPH0XP7p1Z/d68Qn2YzWaysnPkz3v2H6Vu3QA5y8kDfXvJMScuXrpKekYWXTrfVS65K4tymybef/99RowYwezZs3FxcaFPnz58+aVw6Bbc/jw26IFStfP29uKlMc+y/ovvHa7u56df31788dc+Hn/koRL7DapXl4YNgqhd209Wmp3C2pGcnMpjg0snmyN6dAsvsu7M2Yt0aN9GdrWrjJgXxXHx0lU+2/gtK5fMxmAwMm3mIgwGI66uLgQE+NuZcCa+NJJ5iz5g2MhJeLi7M2/WlGrpMQEVEGvChkZj3arp51eyf2F1p6bGmnB3c6NnhHN+8dd+8ysXomMAeLz/fdzfq/SpfaorlRFroiQsFgtjJrzJ0gUzyjyjrUzmLFjBY4MeLJXSvF2oilgTZTZNZGTYrz76+fkVUsIF2wgql0RFmrNFAMBYhvQ71REXFxfM5qq1d7u6ujL91ZdQpFSPe5kfg8FAl/C77iglDGAxm3F1LTkiXnkosyLu37/kffKlaSO4/YhPSnW2CBVCUP2GsjtUVdKhXWvZ5lud8PT05MnHBzpbjCpFkiSSFOkE1a9fqeOU2WBy6dIlunYt/vEzv3+xQFDTiOjSlT+3/0y9Q8e5q30bvDw9RKztOwRJklCpNfxz8iw5KgPh4UXbzSuCMiviP/74o8Q2niIUoqAG06tXL5RKJYePHWb/kX+BCllOEdQYXPHxq83jTz5FixYtKnWkMivivn37ltxIIKjBuLi4MGjQIPr164dCoZC3EwvuDLy9vWncuHGpMqaUl+rpyyEQVCO8vb1p2fLWcq4JBLdCuTd0CAQFuZPiTggEFYFQxIIKJzVNLNIKBLdCuRXxs88+y+HDhytCFkENJjnFcZhHgUBQMuVWxP369WPChAl07dqV9evXo9NVj8fScePGERISgr+/P506dWLbtm3OFum2RqcXgZ4EgrJSbkU8btw4oqKi+OCDD/j7779p2bIl06dPJy4uriLkKzOvvfYasbGx5Obm8vnnnzNixAjh1ywQCKolFWYjbteuHR06dMDd3Z1Lly5x7733snTp0orq/pZp3749Xl7WUH0uLi4YDAaSkpKcJs+dhEWSMN8BoTAFgoqiQjJ0DB8+nIiICHQ6HUePHuXXX3/l0qVLpc7mrFarmTt3LgMHDiQwMBAXF5ci897p9XpmzJhBo0aN8PHxITIykp07dzpsO2HCBHx8fOjRowcPPPAAnTpVXfCWOxmd3kBaRpazxRAIagwVYpp44IEHuHbtGgsXLqRx48aANQjQW2+9Vao+MjIymD9/PhcvXqRz5+IDiowePZoVK1YwfPhw3n//fdzc3Bg8eDAHDx4s1Pbjjz9GrVaza9cu+vfvf9tvT83IynG2CAKBoAyUe0PHv//+W2TdSy+9VKo+QkJCUCgUBAcHc+LECXr06OGw3fHjx/n2229Zvnw5r7/+OgCjRo2iY8eOTJ8+3aH3hpubGw8++CCrVq2iTZs2DB48uFQy1USUKo2zRRAIBGWg3DPiwYMHF0oe+uijj95SH15eXgQHB5fYbsuWLbi5uTFu3M24oN7e3owZM4YjR46QkJBQ5LEmk4mrV6/eklwCgUBQFZRbEScnJ1Ov3s0A1kFBQSQnly7Vy61y+vRp2rZtWygIc8+ePQGIiooCQKlU8vXXX6NWqzGZTPzwww/s2bOHPn36OOxXr9eTm5tr9xIIBIKqotyK2JarzobBYKi05KEKhYKQkJBC5bYy2w+Ai4sLa9eupUmTJtSrV48lS5bw9ddfExER4bDfxYsXExAQIL+aNm1aKfLfSSjE7jqBoNSU20Y8aNAghg0bxiuvvAJYc9hVlh1Wq9XKLmn58fb2lusB/P392bNnT6n7nTlzJq+99pr8OTc3t0Yq4xylCoPRhKeH82M55Yl4EwJBqSn3N3bhwoUsWrSI6dOnAzBkyBBmzJhRbsEc4ePjg16vL1Ru283n41M462xp8PLycqjgaxp5Oj0WixkRVE8gqFmU+xvr4eHB3LlzmTt3bkXIUywhISEON2UoFAoAGjVqVOkyCAQCQUVTbkVsMpn48ccfuXbtmp2t+O233y5v14WIiIhgz5495Obm2i3YHTt2TK6/UzEaq1fCzrikVO517IUoEAgKUO7FumeeeYYPP/yQjIwMVCqV/KoMhg4ditls5rPPPpPL9Ho9GzZsIDIyskbadSuKBCckuSwOs8nsbBEEghpDuWfEZ8+e5dKlS+XetbZ69WpycnJkz4dt27aRmJgIwOTJkwkICCAyMpJhw4Yxc+ZM0tLSCA0N5YsvviA2Npb169eX91QEZSQ1Iwu9iL4mEJSZcivipk2bYjAYyr3Y9e6779pFbPvpp5/46aefABgxYgQBAQEAbNq0iTlz5vDll1+SnZ1NeHg4v/32W5E+woLKx2QyF0qrKYL+CASlp9yKODQ0lPvvv58nnnhCdiMDmDJlyi31ExsbW6p23t7eLF++nOXLl99S/4KqJTZB4WwRBIIaQ7kVsV6vp3379ly8eFEuu92D6wgEAkFFUm5FvGHDhoqQQyAQCO5Yyu01oVQqmTRpEo899hgAFy5c4Jtvvim3YIKyoTcYnS0CAFqdDpVaRIMTCEpDuRXxSy+9RHBwMDExMQC0bNnSqZk57nQSFWnOFgEAo8mMrpr8KAgE1Z1yK+Lo6Ghmz56Nh4cHYN1mLEkF19AFAoFAUBTlVsSenp52n7VarVDEAoFAcAuUWxH369ePhQsXotPp2LVrF0OHDuXJJ5+sCNkEAoHgjqDcinjBggW4urri7+/PrFmzuOeee5gzZ05FyCao4YgEogJB6Si3+5q7uzszZ85k5syZFSFPjUWr0+PjnW934T//wPr1YLHA0KHQv7/9AXv3wg8/gCTBQw+B7SlCoYBly0Cjgc6dYcIEqKF+2ZevJRDWtpWzxRAIqj3lVsTz5893WF4Z0deqM8mpGbRubs1gjdkM69bBokXg5wdTp0KvXlC7trU+Nxc2b4ZVq8DXF+bPh8hIaNwYNm6E556DHj1g8WI4ccL6vgaicxA7WiAQFKbcpon8EdfS09P54osviI6OrgjZai7R0dCsGdSrB97e0K0bnD59sz4lBZo2hVq1wNUVwsLgyBHr7PjSJeje3dquXz84ftw551ABxCaKbc4CQWko94y4YMyHefPmMXr06PJ2W7PJyrIqYRv16kG+TNeEhEBcnLWsdm04eRJatgSVyqqcbaaIgsfVMMxmC+lZOdQPrONsUQSCak2F59SpV68e169fr+huby9q14Zx42DhQnB3typh13I/nDiNuKQUh+U5ShWJijShiAWCEii3Iv7ggw/k92azmePHjxMcHFzebms2gYH2M9nMTGjb1r7N3XdbXwDffWedCdeuDWq11UTh4mI9LjCw6uQuI6YigsBbJIn0jGyycnIJrOPvsI1AIKgAG/Hp06fl14ULF4iIiGDLli0VIVvNpW3bm6YHnc5qeuja1b6NUmn9m50NBw5Anz5W5duunXWBDqyeFT17ljicxWLBUk030Vy4GktyaoazxRAIqjUi+loFocnTAmA0mfBwd4cxY2DWLOvs9sknrbPdefNgyhTrLPeTTyA+3mqSePHFmx4Vo0db3dc++8zqvlYKj4mcXDUx8dbMJpnZuZV0hmUjLjGFi1di6diuFQajkcvX4glt0YTYBAUd2rRwtngCQbWg3Ip406ZNxdaPGjWqvEPUCFLSswjvAPFJqVY3tshI6ys/8+bdfP/mm447atTI6tZ2i+Tkqu3+Vifik1NJy8wmJj4ZdZ6WgNp+pGZkCUUsENyg3Ir4q6++Yt++fdx77724uLhw8OBB+vbtS+3atXFxcbljFLGNhOTUm/7EAgAkSeL85RgSFKnU9vMlPjmVREUaak0emjwdDYLq4uLigkqtoXYtP2eLKxBUOeVWxL6+vpw4cYKOHTsCcP78ed5++21++OGHcgtXEzFUs7T21YGklHRyctUE1w/kSkwCAO1aNWPL9r00qFeHsHatyFVp8PXxlhVxoZ2KAsFtTLkV8dWrV2UlDBAWFsaVK1fK222NpDqaBaoLmjwt6Zk5qDVWW3p8ciomkxmVWkN2rhplrorGDevj6+OF0WTGaDSJJwvBHUO5vSb8/f3ZuHEjkiQhSRIbN26kVq1aFSFbjSMzW+lsEao1ufkydmg0WvQGI9fjk4lNSMZstnD+Sgx/7jvGP1EXANi28yDxyanOElcgqDLKPSP+/PPPGTlyJOPGjcPFxYUuXbrwxRdfVIRsNYpzl6+hydPi5+vjbFEAq0+3m5tblYxlsVhu+Zg83c04FBlZSvQGIyp1HhaLRMP6gZw6e5kjJ8/SpFEDguoG4OvjXUxvAkHNptyKuF27dhw/fhyVSgVAbZsb1h2GyWTmyMmz9Oh8l1PlUKRZfXZjE1NKfLSvqMWxiogpoVLnAdanCpPJzIVoa+qtIyfP4YILEWFtCrQXC3uC24dymyZMJhPvvfceM2bMoHbt2ly7do3du3dXhGw1DqPJjMFkwlyGGWJFodVaZ5omk4msnOJ9itMyc6pAoltHqbppa78Sk0CCIpUrMQnEJirQGwxA9ZVdICgL5VbEkyZN4tKlS+zZswewxpqYPn16uQWrqWRlK9FqdVU6ZsEtxgeOn8FikYi+Hl8l4yelpFf6GOejY0hNzyI2QUGiIq3EHxmBoCZRbkV89OhR1q5di7e31YZXp04djEaRvTe1CrNTFAy6k5qeRWpGFkqVhpxclcNjNHlaLl+rGEWt0xsqpJ/i2H8sijMXrxKXlEpqehbXYhPJyFZiMJrQ38gWrdXpq/S6CwQVRbltxDYFbMNsNpdp8eZ2IS0jm7ikVNzdXGkY5JyAPSnpmXh7eWKxWNDqDNji7ZhMJtzdrbd875HTpGdlk5OrIiNLSXD9QDRandNkLo6Dx/9FkiSMRhOZ2UquxCSQlZNLnYDadGjTAq1OT/vWzZEkCbP5zv3fE9Rcyj0jDg8PZ/PmzVgsFq5evcr48eO5//77K0C0mok6T8sfe44Ql2R1u8q7YaaoKjcsrV5PbIKC6Jh4Tp27bFd35sJVTGYzGq0O9Y3YGBaLhMlsJi4pVfbxdURGVk5lil0shhtPWBaLhYysHK7GJpKVk8ulq3FotXoys5TEJ6dy+ny002UVCMpCuRXxihUrOHDgACkpKdxzzz24urqydOnSipCtxpKn1VmfDCQJRVomOr2e9MzsEo+riAhqaRnZmC0WEpLTUKo0SJLEkZPnuB6fhEqTx9WYRBKSUrkel8SF6BjWfPkzuw78w/GoC8WmNlKqNEXWVSVSvmtkMBqJOh/Njn1HOfnvJWISFEiShFKlKXQt83/W6Q12OyBVmrzKF1wgKIZymSbMZjMLFizg008/5dNPP60omWo82UoVV2MT8Tt+hsbB9TGZLWRklbzZIyY+ucJ3k/28Yx9+vj5ISKg0efIMPe3GD0N6Vg7pWTm0ataoxL4UaZmENKhXYrvKJCbhpqucVqdHqdKg1mhRpGWQmZ2L0WiibcumALRu3pjUjCzqB9YhJkEhX1uVWoOnpyeeHtZ//7SMbGr7+Vb9yQgENyiXInZzc5O9JQSFydPqOH/5Oi4uLnJq+YtXYnF3d6PNDWUBVkXQIKhuqfq8lbYAitQM3NzcSE3PIigwADc3V4dKR6vTo9XZL7oVHCuvir1BCnL9RqhPGzm5ajngvCItE7VGi9FkIjk1nb53d6G2ny95Wh2pGTefRowmE0aTicycXDzc3fD18Uar02O2WDCZTHh5elbpOQkEUAGmicGDB7Nw4UKSk5PJzc2VXwKrN8OFq7EoVWpyctVYJInMbCVanZ5sZS6SJBGXlGL3aGyRJOuriAXPW32M1mh18tbi+KRUVOo8h4HaFWmZXIiOYdvOg3JZ/i3J+cn/mJ+RrUST5zwFbYvvUdC+nZyagUqTR1xiCiq1htSMLBRpGag1Ws5dtm4WiU9OxSJJJCSnkpGZw+lzN5PeWm5s2RcIqoJyK+L58+czZ84cmjRpQt26dalTpw5165Z+xna7kp6VgyZPS3aOir8PniAzO5d/oi5gNJmIiU/mxJlLpGflyD7ANhtyTHwy8YkpXI1NlPsyWyykpJcviahSpUaj1ZGelYPR5DhC3Onz0ew5fFK2n16+Fo9Of3O2aFNMtiD0ZrMZo9HoVIVV0J/YYrF6TqjUeegNBqKvx2ORJHbsPUr0dWvkN9ON8zeZzMTEJ3M1NpG0zGz0BiMmsxmD0URySrrsFicQVDZlNk2cP3+esLCwO9pVrThU6jxU6jw8PTzksisxCZgtFvR6A74+3mTn5JKakU3j4Prkqu1nunaLSWoN8UmpBNe/aZ81m82kpGcR3KBekTnj8qO9EdvBJldxxCel0KxxMPHJqXz505883v8+FGnWHwJ3dzeSUtIJCqxDVo6y2ikrTZ4WDdbr5+rqgu6GfCp1HqkZWfx78aosc0ZWDkE3Epue+PciDYMCyc7JJVedh5en9b7pDUb5vSZPi8ViEVurBRVOmWfEI0eOBODee++tMGEqkk8++YSuXbvi4eHBvPyZMaoY21Zji2SRH/XVeVrUeVpS0rM4cDyK1PQsuS1YN4Mk3HB30+r0mM0WLBYLRpOJlBsKUZIkLl+LJy9PW6G7zCSs6Y0SFWlWWdKz+CfqApJkNQNcvBLLpauxXItNRK83lupHwBlo8rT8e/EaMfHJ8vXV5GlJSkmXzy0mIZkjp84BN00bqRnZKHPVsj3a1tZisaDJ06EvEG/aVMTThUBwK5R5RqzT6fjuu+9ITk7m119/LVQ/ZMiQcglWXkJCQpg3bx5ff/21U+WwSJI8G/Xy9MDP14ccpRovT0/UGi3ZSjXJqRk0rB9IXFIqQXUDyMlVI0lw6WocR0+f4+6uHcnKyeXrX/4ioLY1xOiVmERSM7IKzaQrgoP/nMHN7eZv9PX4ZOoE1CY7J5fAugEo0jI5cPwM3Tu358SZSxU+fkVjyycIVrt9LV8fsrJziU9KJSdXTatmjeQNIoF1/LFYJM5cuEJoi8ZW//jYRIIb1OPEvxfp2SXMru+4pFSaNmpIUkoaLZtaPU8ys5XUqxtQSI6iygWCMiviJUuWsGbNGtLT01m5cqVdnYuLi9MV8X/+8x8Atm/f7lQ58pOZpSSgdi1Umjz8fH2ITVRgNpvlzRVgXYwzm83EJCjI02pRqfM4ceYiirRMklMz6Ht3F/YcPoVWpycjK6dSfGBtC2AqtYasbCUe7u7EJiioX68urq4qcnKti48Go7FGZGi2eXvEJCjw8fYiNkFBQnIqxhuz+dgEBRZJIjklAw83NznkZrZSjaeHO7GJCoIb1HPoNWLzGU9UpJOn1RHaogkZWTl4e3vhd6OfmIRkWjZtRE6uWihigUPKbJoYMmQI27dv58UXX2TPnj12r1uNvqZWq5k7dy4DBw4kMDAQFxcXNm7c6LCtXq9nxowZNGrUCB8fHyIjI9m5c2dZT6NKkbgZgyIlPVNegNPp9VyLS7Jrm5KeiSItk7TMbE6evWyn8PIvtqVlZJOeVfJmkbJgkSSkG7JYJInUjCy7hbmaoIQB2b5tsVhlt0iSrIRtn8F6nmZJknfoZWYrOXvpuryQeubi1UJ9/33whPw+KSWDnFw1Wr1BNiHlH7c8qDR58pOV4Paj3F4T77//frmFyMjIYP78+Vy8eJHOnTsX23b06NGsWLGC4cOH8/777+Pm5sbgwYM5ePBgscdVF/K7WdneG40m0jOziUtUYDKZMZrMqDVa4hJTCrllmUxm9h89jdFkwmQyk61Ulbj4VhbOXrpGekZhBV9dbcKlQbJYSoxFEXcjtrLt2sYlKuTrq9Zo0er0XI1N5GpsIlqdXo48F5OQjNlsxmQyYzaZ5W3ZsYkKOV5zZraSbKUKi8Uil1kkCZ1ej95gKDZ8avS1eLnPuKSUYndhFvSKMZpMFRIz2lHfNZXqdh7lDvpTEYSEhKBQKAgODubEiRP06NHDYbvjx4/z7bffsnz5cl5//XUARo0aRceOHZk+fTqHDx+uSrErFIPRhFKl4Xp8khzNzNEXU5GWgUarIz4phfjkVNzdKycLR8HNEzZqYuoizQ2TQp5Ob5cZxBE2RR2fnIreaCQ1PYsOoc3Ju+ErvW3nQVo0CcZoMvPvxWvW/vO0KHPVN469ikqTh4+XF80aNcRsvqn8JUkiJj6ZdqHN5TK93sA/Zy7i4+1FYB1/mjduKAdmspGemW3n0202m9Fo8nDLZ0bJT3ySfSbx+KSbC7+enh64uZZu/mU0mbBYJNlrxFHfxVHVGWtuZbyLV2IJ7xBayRKVnnLPiCsCLy8vgoODS2y3ZcsW3NzcGDdunFzm7e3NmDFjOHLkCAkJCZUpZqWSnJJOUko6Wr2B3FLEdcjfpjTt72RsXhOlQac3yO5ttuPMFgt7j5wCrC6I1+OTSUnLJCnF6lGRcqOdWpPHqbOXuXI9AaVaw+Ub8aCNRhNxSSno9AZS0jPJVanl4Pf5793la3F2uwBt/HXgH2ISFHbxPpJSM0jLzLYLop8fR+XX4pKKfKJR5/O+MZvNJKVYbd5FbeopzZgpJVx3rU4vz/KL68dWVnA9pSAljeeobVHXr6qpFoq4tJw+fZq2bdvi7+9vV96zZ08AoqKi5DKTyYROp7vxuHjzfXVEqdKQkS/xaEYpkpDa2hQ8VlA+8rS6QrZYk8ksu7mBVaEVVCA2JZmRrbS+snLIyFKivLGoef7yddl741psEhlZSuKSUrgal2jXT3qByHFXYxO5fDUOTZ7Wujir1tiZVwrGMLF63Ehci00qlFU8f1S6/HU5uWqUuWouXo0lLikFs8XCiTMXi7tMDilNPJX846o0eQ5jWTvqJyNLiclsJkepcih/WSmNzFVBjVLECoWCkJCQQuW2suTkm4/T77zzDj4+Pqxbt46FCxfi4+PDl19+6bBfvV5vtz27qrdolyf7s8gcXfkUZYNXqfOwSBLR1xMc3ofk1HS7H0mbq2FMgvX/9PK1eLsgRjbUmjxZsZ+9dE32jFGp84hPtrrc5ZcpKSVdnrkeOXkWpUpNZo5SlslWp1LnyX3ll9cmT0yCgsvX4slV5xX5417SDNlssciz1ly1plD7tIwsO3fCovrN/2RSEL3BaJcVJtPuGmtujJN9S/71tzLzrwxqlCLWarV4eXkVKrcFp9dqb97gefPmId2IF2B7jR492mG/ixcvJiAgQH41bdrUYbuqwFDNdqoJCs9S85dbLBYOHI8CsFMcBoORc5euk6tSYzCayFVpZO+LtMwc9DdMUPnDo+r0N3b8ZSuJT0pBqdLY9ZmemU16Zg7pmdkkJKdhsUjW2XZ0DLEJCpQqNXuPnCI1PQv9jb6UKg3pN/L7pWflcPFKLDq93u7/TJGagVZnDdWq1xsKhWy1/Sjo9AbSM3PQGwzyTDb/X0mS0Gp1ZGUr5bbpmVYXS4vFglKlwWgyy5lVbp63QZbRbLFgNJqs4QGUNxWpzYSjNxjJ0+oKKXOLJGEwGElJy0Sdp+V89HUSklNRqjTo9IYSFW16Zk6VZJopihqliH18fNA7iJmr0+nk+rIwc+ZMlEql/HKmrbkq8r8JKof8906RlonZYuHQibOkZmRxLOqCXdvElHSOnT5f4Pi0m/WKNI6dPl/k/0NSShoGg1FWYP9eusbB4//KCs52XMExfvpjL7GJKSSn3XQ9zFKq5PyGiQ7Gs/Vh6zNRkS6/L/g3scBngFNnL2M0meR+tDo92flmq/nb6vUG2YSSpLhZfvTGsbadjgWxbvnPRJOn49yla7Icx06fJyE5leMFrr8jnPndqxZeE6UlJCSEpKSkQuUKhfXxrlGjkmPqOsLLy8vhTFsgKApbBpZbPSa/x4HJbCZJkU79wDq0a90cgPjEFM6q1AQF1imUi9DaRwp5Wh1xSanEJaWQnplNgwLpreKSUkhIvqmwsnNyOZdvM8qBY1G0uiHHmQtXUOaqUckzRomEG307PocUPNzdqFc3gN2HTmIym7l8LZ7M7Bx6RNwln6fR6Ng9LD4phZbNGrH/WBR9e3W52W9iCkkp6dSvV8durG7h7a1R8iwW4hJT5PL8bfK/r+Nfu4hxrffr7KVrRboJxiWmVHg88NJSo2bEERERREdHF7LhHjt2TK6/3XG2LUtg5VYWfm1Kzmw2yzM1ucxikW2ZuWoNWcpc0jJzyFXnYTAY7R7Bc9V5mExmsnJyZZ9lrU5PTq4Kvd4gz6hNJjMGg5GE5FRyclXk6XSyeQSsSQFyVRoys5XWbCb5ZABrRDtzvqiAtn5sY2bl5JKTq+ZqXCImkwmtTicHVwLrBqWYhGRreNGsHDvPEJvXhs5gbwbIyslFpzfYeXWYTGZrwP8spfXa2Lw6TGb5e5BfbtuxNlu8Jk8ne4DoDQZyclUkJKfJM+6CWWecmRm8RinioUOHYjab+eyzz+QyvV7Phg0biIyMdKptt6qoLqu8gtKT/55dvBJ7oyxHLrPZoDOylLJdNSMrB5PZuqlEbpd5s50Nnd5AanoWeVodF6/GyeVmi4Wzl66Rmp4lbwrKP05GVg4JijR50S9/n/lt4rEJCs5dvk5KepbsrZGeZZXPdi4FMRpNnLt8nXOXr1tn7aXIIVhUm+jrCSjSMsjIzLFrk2G7FpmFj7O1y8lVYTKZuXAlBpPJGq3wWlzizWMLjFkaOSuLamOaWL16NTk5ObLnw7Zt20hMtLr2TJ48mYCAACIjIxk2bBgzZ84kLS2N0NBQvvjiC2JjY1m/fr0zxRcISk1mtrKQP69tu3tWTi5GoxGLxUKaA59iRz7RBctsn21/G9YvnJnb5kf778Wr1PLzsTvWFg8jJT1LbpeanlXkVu2U9CzZrawo/r14jZS0TPRGI/61/dDkWeOoeHsVzoiSkp5FhzYtSMnIQgKHXhb27TPtfrDy9yNJEhaLZHeNomMS6OztxZkLV2hYPxCVJq/EMSqbaqOI3333XeLibv6i//TTT/z0008AjBgxgoAA6z/Hpk2bmDNnDl9++SXZ2dmEh4fz22+/0adPH6fILRDcKo5iRtiynORfuXcUZMiRwtAUaGf7XLDc0Xhpmdl2ilidp5MVsSZPK49njcXsWBFrboR1LY70zGzUeXkYbnhEGI2mIu3IGu3NMfPLUNy5KB34Euc/Lv+1yFaqMJrMpGflUMvP16kZZmxUG0UcGxtbqnbe3t4sX76c5cuXV65AAkEVklbAZczRbLjwMVmla5eRbc1YUoR7VsE+iuszNT0TNzc3HIW6SMvIJi0jG18fxwvfKWlZWCwWObnructWH2m93oAiLQOtTidvvz53+brD/v1r+ZGakU3qjet14WosdfxrkZqeRS0/H3k3o6PzyX9eObkqeVNOSpp1Ru2Zbyt3VVOjbMQCwe2KukA405JmmAAqTckzUVtf6Vk5RXoLFOyjuD5z1Xlo8nSF5AXrOSjSio7Ip9Lk2c1MFWmZchwNlTrP6gN8o1+Fg8h+Nlu3WpMnt0tNzyJXpbG6C5othX7Q8p9PfpmtCRdsi3uacqciKy/VZkYsENyp2PLs3SpFPdqX9Xij0WQX5tRoNNltvLAhSRaHMSs0eVbvDLvNGjoD+gIeErZ2tvc2LBKyh4eLi4tcnr+//DJrdXo7c4nBaMLDwx2L2Sx7cTiS34bNu6Q6JIkVilggcDJ5Wp1De3BJFLW5obQkFIikp0jLLFTvaAyD0eRw5nn45FkAPD1uqhVbbOfmjYMLtQP7czCbzRyPukjtWr54eXrgesNMkahIw/WGYk5QpOJ3Y+PWyX8v2Sn5REUaLZtZA/Bfj0+mVbNGxV4jRVomPt7VY/+AME0IBAKBkxGKWCAQCJyMME0IBDWAmAQF3EhdVaF9FkGeTs/RU/ZxKvYePV3InhqToCAlLbNEuXYfPlVquVTqPGzOaLX9fAFrUJ+4pBQ6tW9FTIKCzCwl/166WuJ5FJS1qDJJkuzSW1U1QhELBDWAylhQshSTmgkKZ4hxtK3bYrGU6sfhVmOB2/rMf9629xbJOmb+zCelwdH5OurfGQjThEAgEDgZoYgFAoHAyQhFLBDcgZjN5luKr5A/rGZJVGYORWUJuRqLy+WYq9LIZdUtz6NQxALBHYjJbC4UBrI4Ll2LK7nRDSozh2L+KHGOxsksJvejLZ9gUcc6E6GIBQKBwMkIRSwQCARORihigUAgcDJCEQsEAoGTEYpYIBAInIxQxAKBQOBkxBZngUBQZlIc5NCrzP51On2JcZgrW6bKQChigUBQZsoSR7k8/ZstliIzjRR1TE1AmCYEAoHAyQhFLBAIBE5GKGKBQCBwMkIRCwQCgZMRilggEAicjPCacIAtUn9ubm6pj9Fpteh1NW+1ViAQWPF0c7ml77ytbUVk9nCRnJkfpJqSmJhI06ZNnS2GQCCoASQkJNCkSZNy9SEUsQMsFgvJycnUrl0bFxeXEtvn5ubStGlTEhIS8Pf3rwIJnc+dds7ifG9/bvWcJUlCpVLRqFEjXF3LZ+UVpgkHuLq6lukXzt/f/475p7Vxp52zON/bn1s554CAgAoZUyzWCQQCgZMRilggEAicjFDEFYCXlxdz587Fy8vL2aJUGXfaOYvzvf1x5jmLxTqBQCBwMmJGLBAIBE5GKGKBQCBwMkIRCwQCgZMRilggEAicjFDE5UCv1zNjxgwaNWqEj48PkZGR7Ny509lilZt//vmHSZMmERYWhp+fH82aNeOpp54iOjrart3o0aNxcXEp9Grfvr2TJC87e/fudXguLi4uHD161K7t4cOHuffee/H19SU4OJgpU6agVqudJHnZKOre2V5JSUkA3H///Q7rBw4c6OQzKB61Ws3cuXMZOHAggYGBuLi4sHHjRodtL168yMCBA6lVqxaBgYGMHDmS9PT0Qu0sFgvLli2jZcuWeHt7Ex4ezjfffFMh8oqddeVg9OjRbNmyhalTp9KmTRs2btzI4MGD2bNnD/fee6+zxSszS5cu5dChQwwbNozw8HBSUlJYvXo1Xbt25ejRo3Ts2FFu6+Xlxbp16+yOr6jdRs5gypQp9OjRw64sNDRUfh8VFcWDDz5Ihw4dWLFiBYmJibz77rtcuXKFP/74o6rFLTMvvfQSDz30kF2ZJEmMHz+eFi1a0LhxY7m8SZMmLF682K5to0aNqkTOspKRkcH8+fNp1qwZnTt3Zu/evQ7bJSYm0qdPHwICAli0aBFqtZp3332Xs2fPcvz4cTw9PeW2b731FkuWLGHs2LH06NGDrVu38txzz+Hi4sIzzzxTPoElQZk4duyYBEjLly+Xy7RardS6dWupV69eTpSs/Bw6dEjS6/V2ZdHR0ZKXl5c0fPhwuez555+X/Pz8qlq8SmHPnj0SIP3www/Fths0aJAUEhIiKZVKuWzt2rUSIP3555+VLWalcuDAAQmQFi5cKJf17dtXCgsLc6JUZUOn00kKhUKSJEn6559/JEDasGFDoXYvv/yy5OPjI8XFxcllO3fulADp008/lcsSExMlDw8PaeLEiXKZxWKR7rvvPqlJkyaSyWQql7zCNFFGtmzZgpubG+PGjZPLvL29GTNmDEeOHCEhIcGJ0pWP3r17280EANq0aUNYWBgXL14s1N5sNt9S+MDqjkqlwmQqnCk4NzeXnTt3MmLECLtYBKNGjaJWrVp8//33VSlmhfP111/j4uLCc889V6jOZDLVKPOLl5cXwcHBJbb78ccfefTRR2nWrJlc9tBDD9G2bVu7+7l161aMRiMTJkyQy1xcXHj55ZdJTEzkyJEj5ZJXKOIycvr0adq2bVsoOEjPnj0B6yPs7YQkSaSmphIUFGRXnpeXh7+/PwEBAQQGBjJx4sQa9YUtyAsvvIC/vz/e3t7069ePEydOyHVnz57FZDLRvXt3u2M8PT2JiIjg9OnTVS1uhWE0Gvn+++/p3bs3LVq0sKuLjo7Gz8+P2rVrExwczJw5czAajc4RtAJJSkoiLS2t0P0E6/c4//08ffo0fn5+dOjQoVA7W315EDbiMqJQKAgJCSlUbitLTk6uapEqla+++oqkpCTmz58vl4WEhDB9+nS6du2KxWJhx44dfPzxx5w5c4a9e/fi7l5z/r08PT35v//7PwYPHkxQUBAXLlzg3Xff5b777uPw4cN06dIFhUIBUOR9P3DgQFWLXWH8+eefZGZmMnz4cLvy1q1b069fPzp16oRGo2HLli288847REdH89133zlJ2oqhpPuZlZWFXq/Hy8sLhUJBw4YNC4XFrajve835plQztFqtwz3p3t7ecv3twqVLl5g4cSK9evXi+eefl8sLLuA888wztG3blrfeeostW7aUfwGjCunduze9e/eWPw8ZMoShQ4cSHh7OzJkz2bFjh3xPi7rvNfmef/3113h4ePDUU0/Zla9fv97u88iRIxk3bhxr167l1Vdf5e67765KMSuUku6nrY2Xl1elf9+FaaKM+Pj4oNfrC5XrbqRL8vHxqWqRKoWUlBQeeeQRAgICZLt4cbz66qu4urqya9euKpKw8ggNDeXxxx9nz549mM1m+Z4Wdd9r6j1Xq9Vs3bqVAQMGUK9evRLbT5s2DaDG3+OS7mf+NpX9fReKuIyEhITIjzb5sZVVd/ee0qBUKhk0aBA5OTns2LGjVOfk4+NDvXr1yMrKqgIJK5+mTZtiMBjQaDTyY2hR972m3vNffvmFvLy8QmaJorClEavp97ik+xkYGCjPgkNCQkhJSSmUn66ivu9CEZeRiIgIoqOjC3kLHDt2TK6vyeh0Oh577DGio6P57bffuOuuu0p1nEqlIiMjg/r161eyhFXD9evX8fb2platWnTs2BF3d3e7BTwAg8FAVFRUjb3nX331FbVq1WLIkCGlan/9+nWAGn+PGzduTP369QvdT4Djx4/b3c+IiAjy8vIKeQ1V2Pe9XM5vdzBHjx4t5Ees0+mk0NBQKTIy0omSlR+TySQNGTJEcnd3l37//XeHbbRarZSbm1uo/I033pAA6aeffqpsMSuUtLS0QmVRUVGSh4eHNGTIELls4MCBUkhIiN25r1u3TgKkP/74o0pkrUjS0tIkd3d3aeTIkYXqlEqlpNPp7MosFov09NNPS4B08uTJqhKzXBTnRzx+/HjJx8dHio+Pl8t27dolAdInn3wilyUkJBTpR9y4ceNy+xGLxboyEhkZybBhw5g5cyZpaWmEhobyxRdfEBsbW2iBo6Yxbdo0fv31Vx577DGysrLYvHmzXf2IESNISUmhS5cuPPvss/KW5j///JPt27czcOBAHn/8cWeIXmaefvppfHx86N27Nw0aNODChQt89tln+Pr6smTJErndwoUL6d27N3379mXcuHEkJiby3nvv0b9//2q/7dcR3333HSaTyaFZ4tSpUzz77LM8++yzhIaGotVq+fnnnzl06BDjxo2ja9euTpC49KxevZqcnBzZo2Hbtm0kJiYCMHnyZAICApg1axY//PAD/fr145VXXkGtVrN8+XI6derECy+8IPfVpEkTpk6dyvLlyzEajfTo0YNffvmFAwcO8NVXX5W4dlIi5VLjdzharVZ6/fXXpeDgYMnLy0vq0aOHtGPHDmeLVW769u0rAUW+JEmSsrOzpREjRkihoaGSr6+v5OXlJYWFhUmLFi2SDAaDk8/g1nn//felnj17SoGBgZK7u7sUEhIijRgxQrpy5UqhtgcOHJB69+4teXt7S/Xr15cmTpzo8OmgJnD33XdLDRo0cDiju379ujRs2DCpRYsWkre3t+Tr6yt169ZNWrNmjWSxWJwg7a3RvHnzIv+HY2Ji5Hbnzp2T+vfvL/n6+kp16tSRhg8fLqWkpBTqz2w2S4sWLZKaN28ueXp6SmFhYdLmzZsrRFaRoUMgEAicjFisEwgEAicjFLFAIBA4GaGIBQKBwMkIRSwQCARORihigUAgcDJCEQsEAoGTEYpYIBAInIxQxAKBQOBkhCIWVDgbN27k0qVLFdrn3r17a0RQnZycHLst0SWxatUqUlJSKlEiK7/88otdNuoTJ07w9NNP33I/LVq0oF27dnLC2L179+Lj40OXLl0ICwsjLCyM1157jezs7FL1169fPwIDA1m1atUty3I7IRSxoMKpDEVcUTjKRVeROEsRl3ReBRVx9+7dy5xh47vvvuO///2v/Lldu3acPn2a8+fPc/ToUVQqFQ8++CBms7nEvvbs2VPqqG+3M0IR32a4uLiwcOFCIiMjadGiBb/88guLFy+me/futGnTRk4rbjKZGDBgAN27dycsLIznnnsOjUYDwJUrV7jnnnvo3LkznTp1Yvbs2YA1aEp4eDgRERF07NiRrVu3Fhp/3bp1nDhxgldffZWIiAi2b9+O2WzmjTfeoGPHjnTs2JHJkydjMBiKPIelS5fSqVMnOnfuzN13301eXp4s84QJE+jcuTNhYWFy+MLizmXv3r2EhYUxZswYIiIi+Pnnnzl8+DARERF06tSJF1980S7dekpKCk899RQ9e/a0O/eCWCwWJk2aRIcOHejcuTPdunVDp9Mxfvx4VCoVERERci60FStW0KNHDyIiIujRo4ecaHL+/PkkJyfz9NNPExERQVRUFEajkTfffJOePXsSERHBU0895XB2GRsbS506dZgxYwZdu3Zl9erV/P333/Tq1UuendqCT23fvp1ff/2V5cuXExERwbp16wo9YXz55ZeEh4cTHh7OI488QlJSUpH3pzhq167Nxx9/TEZGBjt27ADg9ddfl8+/T58+XL58uUx939ZUSMQKQbUBkFatWiVJkjWcn5+fnxz+7/vvv5e6d+8uSZI1hF9GRob8fvz48dLixYslSZKkKVOmSIsWLZL7zMzMlCRJksLDw6XDhw9LkmQNgJKdne1Qhr59+0o///yz/Pnjjz+W+vbtK+l0OsloNEqDBg2SlixZ4vDYjRs3Sj169JBycnIkSZKkrKwsyWQySXv27JHc3Nyko0ePSpIkSZ988onUv3//Es9lz549kouLi7R3715JkiRJr9dLTZo0kXbv3i1JkiTt3r1bAqQ9e/ZIkiRJ/fv3l9sajUZpwIAB0vfff19IzlOnTknt27eXzGazJEmSlJOTI5nNZikmJkYKCAiwa5s/xOaRI0ekdu3ayZ+bN28unT59Wv68cOFCaf78+fLn+fPnSxMmTCg0fkxMjARIX3zxhVxmu1aSZL1nzZo1kxISEiRJkqTnn39eWrlypdx2z549UufOnSVJkqSzZ89KDRs2lBITEyVJkqR33nlHGjhwYKExHcmbv5/8DBkyRFq6dGmh8//mm2+kAQMG2LUtKNudiAiDeRtis/11794djUYj547r2bMnV65cAaxZmVeuXMnvv/+OyWRCqVTKOdv69OnDG2+8gVqtpm/fvjz00EMAPPjgg7zyyisMHTqU/v37l9pmu2vXLkaPHi1nOxg7diwfffQRM2bMKNT2t99+Y/z48QQEBABQt25duS40NJTIyEgAevXqxbvvvlviuQC0atWKvn37Atb8e+7u7vTr1w+w2ihbt24NgEaj4e+//yY1NVU+Vq1WO5zBtWrVCpPJxIsvvki/fv145JFHcHV1/IB5+vRpFi5cSGZmJu7u7ly+fBmtVuswvc4vv/yCUqnkxx9/BKxB5wtmVbbh4eHBiBEj5M+ZmZmMGTOG6Oho3N3dyczM5Ny5czRp0sTh8Tb27NnDwIEDady4MQATJkxg/vz5mM3mMod3lPLFEtu5cycffvghKpUKi8VS4zN7VAbCNHEbYktoaPsS5f9ssyV+/fXX7N69m3379nH27Flef/11Of/W//3f/3Ho0CHatWvH6tWrefTRRwHrI/aGDRvw9fXl+eefZ9myZVy4cIGIiAgiIiKYOHFiqeTLnwl36NCh8vGZmZmlOq9bOReAWrVqlUoem/I4evQoUVFRREVFcfXqVWbPns2uXbtkORcuXEhAQADnzp3jueee49KlS4SHh3P16tVCfRsMBp588kneffddzp07x/79+wHHedJsMnz44Yfy+BcuXGD79u0O2/r6+top//Hjx3Pvvfdy9uxZoqKiaNu2rd11KC0FMxXfKkajkaioKDp27Eh8fDyTJk1i8+bNnDt3jm+//bZMMt3uCEV8h5KdnU1QUBD+/v6oVCo2btwo1125coWGDRsyatQoli1bJi/yXLp0ibCwMCZNmsTLL7/M0aNHueuuu2Sl8dFHHwHg7++PUqmU+3vooYfYtGkTBoMBk8nEunXr6N+/PwBbtmyRj69Xrx5DhgxhzZo18vE5OTklLvoUdy4FadeuHUajkX379gGwb98+WYHWqlWLfv362S22JScnk5iYyEMPPSTL+dZbb5Geno5Go6F///4sWrSIFi1acOHCBfz9/dFqtbINXKfTYTAYaNasGQAffvihnTwFr9V//vMfVq5cKdvF8/LyOH/+fLHnn/86NG/eHBcXF/bv38+ZM2eKHCc//fr1Y8eOHXIA9TVr1vDggw+WaTasVquZPHkyQUFBDBgwAKVSiYeHByEhIUiSxOrVq2+5zzsBYZq4Qxk1ahRbt26lXbt21K9fn/vuu4+4uDjAqhw3b96Mp6cnFouFNWvWADBr1iwuX76Mp6cnvr6+fPLJJw77HjduHNOmTWPlypUsWrSIcePGce3aNTmjw/3338/UqVMdHjty5EiSk5Pp3bs37u7u+Pn5lZgtuLhzKYiXlxfffvstEydOxGKx0K1bN9q1a0edOnUAa/621157jY4dO+Li4oKfnx+ffvppocf7hIQExo4di9FoxGw2c8899zBo0CA8PDwYNWoU4eHh1KpVixMnTvDOO+/Qs2dPgoKCZDORjSlTpjB27Fh8fX3ZuHEjM2bMQK/XExkZKc9MZ8yYQVhYWLHXAGDJkiVMmDCBBQsWEBERIZtxbNd19OjR/PLLL0ycOJHQ0FC5rmPHjixfvlzOMNK0aVPWrl1b4ng2Ll++TEREBEajEUmSGDBgAH///Tdubm506tSJZ555hrCwMOrVq8d//vOfUvd7JyECwwvuOFQqFbVr1wbgn3/+YciQIVy7dg1fX18nS1b9sXniVKRP9+jRo4mIiCjyx/lOQJgmBHccP/74I507dyY8PJyXXnqJL7/8UijhUlK/fn1GjBghb+goL/369WPfvn34+flVSH81FTEjFggEAicjZsQCgUDgZIQiFggEAicjFLFAIBA4GaGIBQKBwMkIRSwQCARORihigUAgcDJCEQsEAoGTEYpYIBAInIxQxAKBQOBkhCIWCAQCJyMUsUAgEDgZoYgFAoHAyQhFLBAIBE5GKGKBQCBwMv8P5QTkwf7fEMYAAAAASUVORK5CYII=' width=354.3307086614173/>\n",
       "            </div>\n",
       "        "
      ],
      "text/plain": [
       "Canvas(toolbar=Toolbar(toolitems=[('Home', 'Reset original view', 'home', 'home'), ('Back', 'Back to previous …"
      ]
     },
     "metadata": {},
     "output_type": "display_data"
    }
   ],
   "source": [
    "peaks_ini, peaks_y_ini, peak_widths_p_ini = tools.hist_plot(cc[cc < 100], 0.1, distance=10, percent=50, prominence=50, selector='peak', plot=True, label='mc')"
   ]
  },
  {
   "cell_type": "code",
   "execution_count": 11,
   "metadata": {},
   "outputs": [],
   "source": [
    "bin_size=widgets.FloatText(value=0.1, description='bin size:')\n",
    "prominence=widgets.IntText(value=60, description='peak prominance:')\n",
    "distance=widgets.IntText(value=50, description='peak distance:')\n",
    "lim_tof=widgets.IntText(value=150, description='lim tof/mc:')\n",
    "percent=widgets.IntText(value=90, description='percent MRP:')\n",
    "\n",
    "def hist_plot(figname, plot):\n",
    "    variables.peaks_idx = []\n",
    "    peaks_sides_p = np.zeros(0)\n",
    "    with out:\n",
    "        clear_output(True)\n",
    "\n",
    "        bin_size_p = bin_size.value\n",
    "        prominence_p = prominence.value\n",
    "        distance_p = distance.value\n",
    "        lim_tof_p = lim_tof.value\n",
    "        percent_p = percent.value\n",
    "        peaks_ini, peaks_y_ini, peak_widths_p_ini = tools.hist_plot(variables.mc_calib[variables.mc_calib < lim_tof_p], bin_size_p, distance=distance_p, percent=percent_p, prominence=prominence_p, selector='peak', plot=plot, label='mc', fig_name=figname)\n",
    "        index_max_ini = np.argmax(peaks_y_ini)\n",
    "        variables.max_peak = peaks_ini[index_max_ini]\n",
    "        variables.peak = peaks_ini\n",
    "        variables.peak_y\n",
    "        variables.peak_width = peak_widths_p_ini\n",
    "        mrp = (peaks_ini[index_max_ini] / (peak_widths_p_ini[index_max_ini][2] - peak_widths_p_ini[index_max_ini][1]))\n",
    "        print('Mass resolving power for the highest peak (MRP --> m/m_2-m_1):', mrp)\n",
    "        for i in range(len(peaks_ini)):\n",
    "            print('Peaks ', i, 'is at location and height: ({:.2f}, {:.2f})'.format(peaks_ini[i], peaks_y_ini[i]), 'peak window sides (half-maximum) are: ({:.2f}, {:.2f})'.format(peak_widths_p_ini[i][1], peak_widths_p_ini[i][2]))"
   ]
  },
  {
   "cell_type": "code",
   "execution_count": 12,
   "metadata": {},
   "outputs": [],
   "source": [
    "peak_val = widgets.FloatText(value=1.1, description='peak value:')\n",
    "charge = widgets.Dropdown(\n",
    "    options=[('1', 1), ('2', 2), ('3', 3), ('4', 4)],\n",
    "    value=3,\n",
    "    description='charge:'\n",
    ")\n",
    "aboundance_threshold = widgets.FloatText(value=1, description='aboundance threshold:')\n",
    "mode = widgets.Dropdown(\n",
    "    options=[('elements', 'elements'), ('molecules', 'molecules')],\n",
    "    value='elements',\n",
    "    description='mode:'\n",
    ")\n",
    "\n",
    "num_element = widgets.IntText(value=1, description='num element:')\n",
    "# element_threshold = widgets.FloatText(value=1.0, description='Aboundance threshold:')\n",
    "\n",
    "def element_finder():\n",
    "    with out:\n",
    "        peak_val_s = peak_val.value\n",
    "        charge_s = charge.value\n",
    "        num_element_s = num_element.value\n",
    "#         num_molecule_s = num_molecule.value\n",
    "        mode_s = mode.value\n",
    "#         element_threshold_s = element_threshold.value\n",
    "        aboundance_threshold_s = aboundance_threshold.value\n",
    "        clear_output(True)\n",
    "        if mode_s == 'elements':\n",
    "            df = ion_selection.find_close_element(peak_val_s, num_element_s, aboundance_threshold_s, charge=charge_s)\n",
    "        elif mode_s == 'molecules':\n",
    "            df = ion_selection.find_close_molecule(peak_val_s, num_element_s, aboundance_threshold_s, charge=charge_s)\n",
    "        display(df)"
   ]
  },
  {
   "cell_type": "code",
   "execution_count": 13,
   "metadata": {},
   "outputs": [],
   "source": [
    "isotope_formula = widgets.Text(\n",
    "    value='',\n",
    "    placeholder='Type a formula',\n",
    "    description='Isotope formula:',\n",
    "    disabled=False\n",
    ")\n",
    "\n",
    "def manual_formula_calculator():\n",
    "    isotopeTableFile = '../../../files/isotopeTable.h5'\n",
    "    dataframe = data_tools.read_hdf5_through_pandas(isotopeTableFile)\n",
    "    df = ion_selection.molecule_isotop_list(dataframe, isotope_formula.value)\n",
    "    with out:\n",
    "        df = ion_selection.molecule_isotop_list(dataframe, isotope_formula.value)\n",
    "        clear_output(True)\n",
    "        display(df)"
   ]
  },
  {
   "cell_type": "code",
   "execution_count": 14,
   "metadata": {},
   "outputs": [],
   "source": [
    "isotopeTableFile = '../../../files/isotopeTable.h5'\n",
    "dataframe = data_tools.read_hdf5_through_pandas(isotopeTableFile)\n",
    "elementsList = dataframe['element']\n",
    "elementIsotopeList = dataframe['isotope']\n",
    "elementMassList =  dataframe['weight']\n",
    "abundanceList = dataframe['abundance']\n",
    "dropdownDict = {'element': elementsList, 'isotope': elementIsotopeList}\n",
    "\n",
    "elements = list(zip(elementsList, elementIsotopeList, elementMassList, abundanceList))\n",
    "dropdownList = []\n",
    "for element in elements:\n",
    "    tupleElement = (\"{} ({}) ({:.2f})\".format(element[0],element[1],element[3]), \"{}({})\".format(element[0], element[1]))\n",
    "    dropdownList.append(tupleElement)\n",
    "\n",
    "dropdown = wd.dropdownWidget(dropdownList, \"Elements\")\n",
    "dropdown.observe(wd.on_change_ions_selection)\n",
    "\n",
    "chargeList = [(1,1,),(2,2,),(3,3,),(4,4,)]\n",
    "chargeDropdown = wd.dropdownWidget(chargeList, \"Charge\")\n",
    "chargeDropdown.observe(wd.on_change_charge_ions_selection)\n",
    "\n",
    "# wd.compute_element_isotope_values_according_to_selected_charge(mode='ions_selection')\n",
    "\n",
    "buttonAdd = wd.buttonWidget(\"ADD\")\n",
    "buttonDelete = wd.buttonWidget(\"DELETE\")\n",
    "buttonReset = wd.buttonWidget(\"RESET\")\n",
    "\n",
    "def buttonAdd_f(b,):\n",
    "    with out:\n",
    "        clear_output(True)\n",
    "        wd.onClickAdd(b,)\n",
    "        display()\n",
    "def buttonDelete_f(b,):\n",
    "    with out:\n",
    "        clear_output(True)\n",
    "        variables.listMaterial.pop()\n",
    "        variables.element.pop()\n",
    "        variables.isotope.pop()\n",
    "        variables.charge.pop()\n",
    "        print(\"Updated List : \", variables.listMaterial)\n",
    "        print(\"Updated element List : \", variables.element)\n",
    "        print(\"Updated isotope List : \",  variables.isotope)\n",
    "        print(\"Updated charge List : \", variables.charge)\n",
    "def buttonResett_f(b,):\n",
    "    with out:\n",
    "        clear_output(True)\n",
    "        wd.onClickReset(b,)\n",
    "        display()\n",
    "\n",
    "buttonAdd.on_click(buttonAdd_f)\n",
    "buttonDelete.on_click(buttonDelete_f)\n",
    "buttonReset.on_click(buttonResett_f)\n",
    "\n",
    "add_button = widgets.Button(\n",
    "    description='add molecule',\n",
    ")\n",
    "\n",
    "peak_molecule = widgets.Text(\n",
    "    value='',\n",
    "    placeholder='molecule: H(1)2O(16)(2+)',\n",
    "    description='molecule:',\n",
    "    disabled=False\n",
    ")\n",
    "peak_molecule_elements = widgets.Text(\n",
    "    value='',\n",
    "    placeholder='elements: H,O',\n",
    "    description='elements:',\n",
    "    disabled=False\n",
    ")\n",
    "peak_molecule_isotope = widgets.Text(\n",
    "    value='',\n",
    "    placeholder='isotope: 1,16',\n",
    "    description='isotope:',\n",
    "    disabled=False\n",
    ")\n",
    "peak_molecule_charge = widgets.IntText(\n",
    "    placeholder='charge: 3',\n",
    "    description='charge:',\n",
    "    disabled=False\n",
    ")\n",
    "\n",
    "@add_button.on_click\n",
    "def add_molucule_to(b,):\n",
    "    with out:\n",
    "        clear_output(True)\n",
    "        if peak_molecule.value == 'unranged':\n",
    "            variables.listMaterial.append(peak_molecule.value)\n",
    "            variables.element.append(peak_molecule.value)\n",
    "            variables.isotope.append(0)\n",
    "            variables.charge.append(0)\n",
    "        else:\n",
    "            variables.listMaterial.append(peak_molecule.value)\n",
    "            variables.element.append(peak_molecule_elements.value.split(','))\n",
    "            variables.isotope.append(peak_molecule_isotope.value.split(','))\n",
    "            variables.charge.append(peak_molecule_charge.value)\n",
    "        print(\"Updated List : \", variables.listMaterial)\n",
    "        print(\"Updated element List : \", variables.element)\n",
    "        print(\"Updated isotope List : \",  variables.isotope)\n",
    "        print(\"Updated charge List : \", variables.charge)"
   ]
  },
  {
   "cell_type": "code",
   "execution_count": 15,
   "metadata": {},
   "outputs": [
    {
     "data": {
      "application/vnd.jupyter.widget-view+json": {
       "model_id": "e8e6491ce7b94c71b26a14d85bbdf377",
       "version_major": 2,
       "version_minor": 0
      },
      "text/plain": [
       "VBox(children=(Tab(children=(VBox(children=(FloatText(value=0.1, description='bin size:'), IntText(value=60, d…"
      ]
     },
     "metadata": {},
     "output_type": "display_data"
    },
    {
     "data": {
      "application/vnd.jupyter.widget-view+json": {
       "model_id": "7707217dd64a4b5ea7f329616c9a8cd0",
       "version_major": 2,
       "version_minor": 0
      },
      "text/plain": [
       "Output()"
      ]
     },
     "metadata": {},
     "output_type": "display_data"
    }
   ],
   "source": [
    "plot_button = widgets.Button(\n",
    "    description='plot hist',\n",
    ")\n",
    "\n",
    "find_button = widgets.Button(\n",
    "    description='find element',\n",
    ")\n",
    "\n",
    "formula_find_button = widgets.Button(\n",
    "    description='molecule calculate',\n",
    ")\n",
    "\n",
    "    \n",
    "@plot_button.on_click\n",
    "def plot_on_click(b, figname=figname, plot=True):\n",
    "    hist_plot(figname, plot)\n",
    "\n",
    "    \n",
    "@find_button.on_click\n",
    "def vol_on_click(b,):\n",
    "    element_finder()\n",
    "    \n",
    "@formula_find_button.on_click\n",
    "def manual_formula(b,):\n",
    "    manual_formula_calculator()\n",
    "    \n",
    "tab1 = VBox(children=[bin_size, prominence, distance, lim_tof, percent])\n",
    "tab2 = HBox(children=[VBox(children=[peak_val, num_element, charge, aboundance_threshold, mode, \n",
    "                      find_button]),HBox(children=[isotope_formula, formula_find_button])])\n",
    "tab3 = VBox(children=[dropdown, chargeDropdown, buttonAdd, buttonDelete, buttonReset])\n",
    "tab4 = VBox(children=[peak_molecule, peak_molecule_elements, peak_molecule_isotope, peak_molecule_charge, add_button])\n",
    "\n",
    "\n",
    "tab = widgets.Tab(children=[tab1, tab2, tab3, tab4])\n",
    "tab.set_title(0, 'mc plot')\n",
    "tab.set_title(1, 'element finder')\n",
    "tab.set_title(2, 'add ions')\n",
    "tab.set_title(3, 'add molecules')\n",
    "\n",
    "\n",
    "display(VBox(children=[tab,HBox(children=[plot_button])]))\n",
    "out = Output()\n",
    "display(out)\n",
    "# unranged\t"
   ]
  },
  {
   "cell_type": "code",
   "execution_count": 18,
   "metadata": {},
   "outputs": [],
   "source": [
    "fake = Factory.create()\n",
    "data_table = '../../../files/color_scheme.h5'\n",
    "dataframe = data_tools.read_hdf5_through_pandas(data_table)\n",
    "color_list = []\n",
    "for i in range(len(variables.listMaterial)):\n",
    "    element_selec = re.sub(\"[\\(\\[].*?[\\)\\]]\", \"\", variables.listMaterial[i])\n",
    "    if len(re.findall(r'[A-Z]', element_selec)) > 1:\n",
    "        try:\n",
    "            r = dataframe[dataframe['ion'] == re.sub(r'[0-9]', '', element_selec)]['r'].to_numpy()\n",
    "            g = dataframe[dataframe['ion'] == re.sub(r'[0-9]', '', element_selec)]['g'].to_numpy()\n",
    "            b = dataframe[dataframe['ion'] == re.sub(r'[0-9]', '', element_selec)]['b'].to_numpy()\n",
    "            cc = matplotlib.colors.to_hex([r[0], g[0], b[0]])\n",
    "            color_list.append(cc)\n",
    "        except:\n",
    "            print('The element is not clor list')\n",
    "            color_list.append(fake.hex_color())\n",
    "    else:\n",
    "        try:\n",
    "            r = dataframe[dataframe['ion'] == re.sub(r'[0-9]', '', element_selec)]['r'].to_numpy()\n",
    "            g = dataframe[dataframe['ion'] == re.sub(r'[0-9]', '', element_selec)]['g'].to_numpy()\n",
    "            b = dataframe[dataframe['ion'] == re.sub(r'[0-9]', '', element_selec)]['b'].to_numpy()\n",
    "            cc = matplotlib.colors.to_hex([r[0], g[0], b[0]])\n",
    "            color_list.append(cc)\n",
    "        except:\n",
    "            print('The element is not clor list')\n",
    "            color_list.append(fake.hex_color())"
   ]
  },
  {
   "cell_type": "code",
   "execution_count": 19,
   "metadata": {},
   "outputs": [],
   "source": [
    "peak_width_chos = []\n",
    "for i in range(len(variables.peaks_idx)):\n",
    "    peak_width_chos.append(variables.peak_width[variables.peaks_idx[i]])\n",
    "peak_width_chos = np.array(peak_width_chos)"
   ]
  },
  {
   "cell_type": "code",
   "execution_count": 20,
   "metadata": {},
   "outputs": [],
   "source": [
    "range_data = pd.DataFrame({\"element\": variables.element, \"isotope\": variables.isotope, \"charge\": variables.charge,\n",
    "        \"mc_low\": [item[1] for item in peak_width_chos],\n",
    "       \"mc_up\": [item[2] for item in peak_width_chos],\"color\": color_list})"
   ]
  },
  {
   "cell_type": "code",
   "execution_count": 21,
   "metadata": {},
   "outputs": [
    {
     "data": {
      "application/vnd.jupyter.widget-view+json": {
       "model_id": "46fd1be5e8b446c0940b946c2b89595a",
       "version_major": 2,
       "version_minor": 0
      },
      "text/plain": [
       "Sheet(cells=(Cell(column_end=0, column_start=0, numeric_format=None, row_end=2, row_start=0, squeeze_row=False…"
      ]
     },
     "execution_count": 21,
     "metadata": {},
     "output_type": "execute_result"
    }
   ],
   "source": [
    "sheet7 = ipysheet.from_dataframe(range_data)\n",
    "sheet7"
   ]
  },
  {
   "cell_type": "code",
   "execution_count": 24,
   "metadata": {},
   "outputs": [
    {
     "data": {
      "text/html": [
       "<div>\n",
       "<style scoped>\n",
       "    .dataframe tbody tr th:only-of-type {\n",
       "        vertical-align: middle;\n",
       "    }\n",
       "\n",
       "    .dataframe tbody tr th {\n",
       "        vertical-align: top;\n",
       "    }\n",
       "\n",
       "    .dataframe thead th {\n",
       "        text-align: right;\n",
       "    }\n",
       "</style>\n",
       "<table border=\"1\" class=\"dataframe\">\n",
       "  <thead>\n",
       "    <tr style=\"text-align: right;\">\n",
       "      <th></th>\n",
       "      <th>element</th>\n",
       "      <th>isotope</th>\n",
       "      <th>charge</th>\n",
       "      <th>mc_low</th>\n",
       "      <th>mc_up</th>\n",
       "      <th>color</th>\n",
       "    </tr>\n",
       "  </thead>\n",
       "  <tbody>\n",
       "    <tr>\n",
       "      <th>0</th>\n",
       "      <td>H</td>\n",
       "      <td>1</td>\n",
       "      <td>1</td>\n",
       "      <td>0.801603</td>\n",
       "      <td>1.102189</td>\n",
       "      <td>#b2aa2d</td>\n",
       "    </tr>\n",
       "    <tr>\n",
       "      <th>1</th>\n",
       "      <td>Al</td>\n",
       "      <td>27</td>\n",
       "      <td>2</td>\n",
       "      <td>13.326048</td>\n",
       "      <td>13.626634</td>\n",
       "      <td>#e7e0d1</td>\n",
       "    </tr>\n",
       "    <tr>\n",
       "      <th>2</th>\n",
       "      <td>Al</td>\n",
       "      <td>27</td>\n",
       "      <td>1</td>\n",
       "      <td>26.000000</td>\n",
       "      <td>28.000000</td>\n",
       "      <td>#e7e0d1</td>\n",
       "    </tr>\n",
       "  </tbody>\n",
       "</table>\n",
       "</div>"
      ],
      "text/plain": [
       "  element  isotope  charge     mc_low      mc_up    color\n",
       "0       H        1       1   0.801603   1.102189  #b2aa2d\n",
       "1      Al       27       2  13.326048  13.626634  #e7e0d1\n",
       "2      Al       27       1  26.000000  28.000000  #e7e0d1"
      ]
     },
     "execution_count": 24,
     "metadata": {},
     "output_type": "execute_result"
    }
   ],
   "source": [
    "range_data = ipysheet.to_dataframe(sheet7)\n",
    "range_data"
   ]
  },
  {
   "cell_type": "code",
   "execution_count": 25,
   "metadata": {},
   "outputs": [
    {
     "data": {
      "application/vnd.jupyter.widget-view+json": {
       "model_id": "0b52748837024f38bb099e2be2a1bf8f",
       "version_major": 2,
       "version_minor": 0
      },
      "text/plain": [
       "interactive(children=(FloatText(value=0.1, description='bin_size'), IntText(value=50, description='prominence'…"
      ]
     },
     "metadata": {},
     "output_type": "display_data"
    }
   ],
   "source": [
    "def mc_hist_plot(data, range_data, bin_size, prominence, distance, percent, selector, plot, figname, lim_mc, mc_peak_label, ranging, adjust_label):\n",
    "    mc = data['mc_c (Da)'].to_numpy()\n",
    "    peaks_ini, peaks_y_ini, peak_widths_p_ini = tools.hist_plot(mc[mc < lim_mc], bin_size, range_data=range_data, mc_peak_label=mc_peak_label, ranging=ranging, adjust_label=adjust_label, distance=distance, percent=percent, prominence=prominence, selector=selector, plot=plot, label='mc', fig_name=figname+'_ini')\n",
    "    index_max_ini = np.argmax(peaks_y_ini)\n",
    "    variables.max_peak = peaks_ini[index_max_ini]\n",
    "    variables.peak = peaks_ini\n",
    "    mrp = (peaks_ini[index_max_ini] / (peak_widths_p_ini[index_max_ini][2] - peak_widths_p_ini[index_max_ini][1]))\n",
    "    print('Mass resolving power for the highest peak (MRP --> m/m_2-m_1):', mrp)\n",
    "    for i in range(len(peaks_ini)):\n",
    "        print('Peaks ', i, 'is at location and height: ({:.2f}, {:.2f})'.format(peaks_ini[i], peaks_y_ini[i]), 'peak window sides (half-maximum) are: ({:.2f}, {:.2f})'.format(peak_widths_p_ini[i][1], peak_widths_p_ini[i][2]))\n",
    "\n",
    "interact_manual(mc_hist_plot, data=fixed(data), range_data=fixed(range_data), bin_size=widgets.FloatText(value=0.1)\n",
    "               ,prominence=widgets.IntText(value=50), distance=widgets.IntText(value=100), lim_mc=widgets.IntText(value=150)\n",
    "               ,percent=widgets.IntText(value=50), selector=fixed('rect'), plot=fixed(True), figname=fixed(figname),\n",
    "               mc_peak_label=widgets.Dropdown(options=[('True', True), ('False', False)]),\n",
    "                ranging=widgets.Dropdown(options=[('True', True), ('False', False)]),\n",
    "                adjust_label=widgets.Dropdown(options=[('True', True), ('False', False)]));\n"
   ]
  },
  {
   "cell_type": "code",
   "execution_count": 26,
   "metadata": {},
   "outputs": [
    {
     "data": {
      "text/html": [
       "<div>\n",
       "<style scoped>\n",
       "    .dataframe tbody tr th:only-of-type {\n",
       "        vertical-align: middle;\n",
       "    }\n",
       "\n",
       "    .dataframe tbody tr th {\n",
       "        vertical-align: top;\n",
       "    }\n",
       "\n",
       "    .dataframe thead th {\n",
       "        text-align: right;\n",
       "    }\n",
       "</style>\n",
       "<table border=\"1\" class=\"dataframe\">\n",
       "  <thead>\n",
       "    <tr style=\"text-align: right;\">\n",
       "      <th></th>\n",
       "      <th>element</th>\n",
       "      <th>isotope</th>\n",
       "      <th>charge</th>\n",
       "      <th>mc_low</th>\n",
       "      <th>mc_up</th>\n",
       "      <th>color</th>\n",
       "    </tr>\n",
       "  </thead>\n",
       "  <tbody>\n",
       "    <tr>\n",
       "      <th>0</th>\n",
       "      <td>H</td>\n",
       "      <td>1</td>\n",
       "      <td>1</td>\n",
       "      <td>0.801603</td>\n",
       "      <td>1.102189</td>\n",
       "      <td>#b2aa2d</td>\n",
       "    </tr>\n",
       "    <tr>\n",
       "      <th>1</th>\n",
       "      <td>Al</td>\n",
       "      <td>27</td>\n",
       "      <td>2</td>\n",
       "      <td>13.326048</td>\n",
       "      <td>13.626634</td>\n",
       "      <td>#e7e0d1</td>\n",
       "    </tr>\n",
       "    <tr>\n",
       "      <th>2</th>\n",
       "      <td>Al</td>\n",
       "      <td>27</td>\n",
       "      <td>1</td>\n",
       "      <td>26.000000</td>\n",
       "      <td>28.000000</td>\n",
       "      <td>#e7e0d1</td>\n",
       "    </tr>\n",
       "  </tbody>\n",
       "</table>\n",
       "</div>"
      ],
      "text/plain": [
       "  element  isotope  charge     mc_low      mc_up    color\n",
       "0       H        1       1   0.801603   1.102189  #b2aa2d\n",
       "1      Al       27       2  13.326048  13.626634  #e7e0d1\n",
       "2      Al       27       1  26.000000  28.000000  #e7e0d1"
      ]
     },
     "execution_count": 26,
     "metadata": {},
     "output_type": "execute_result"
    }
   ],
   "source": [
    "range_data"
   ]
  },
  {
   "cell_type": "code",
   "execution_count": 27,
   "metadata": {},
   "outputs": [
    {
     "data": {
      "text/plain": [
       "element     object\n",
       "isotope      int32\n",
       "charge       int32\n",
       "mc_low     float64\n",
       "mc_up      float64\n",
       "color       object\n",
       "dtype: object"
      ]
     },
     "execution_count": 27,
     "metadata": {},
     "output_type": "execute_result"
    }
   ],
   "source": [
    "range_data.dtypes"
   ]
  },
  {
   "cell_type": "code",
   "execution_count": 28,
   "metadata": {
    "pycharm": {
     "name": "#%%\n"
    }
   },
   "outputs": [],
   "source": [
    "# save the new data\n",
    "name_save_file = variables.result_path + '//' + dataset_name + '.h5'\n",
    "data_tools.store_df_to_hdf(name_save_file, range_data, 'df')"
   ]
  },
  {
   "cell_type": "code",
   "execution_count": 58,
   "metadata": {},
   "outputs": [],
   "source": [
    "# save data in csv format\n",
    "data_tools.store_df_to_csv(range_data, variables.result_path + 'range_' + dataset_name + '.csv')"
   ]
  },
  {
   "cell_type": "code",
   "execution_count": null,
   "metadata": {},
   "outputs": [],
   "source": []
  }
 ],
 "metadata": {
  "kernelspec": {
   "display_name": "Python 3 (ipykernel)",
   "language": "python",
   "name": "python3"
  },
  "language_info": {
   "codemirror_mode": {
    "name": "ipython",
    "version": 3
   },
   "file_extension": ".py",
   "mimetype": "text/x-python",
   "name": "python",
   "nbconvert_exporter": "python",
   "pygments_lexer": "ipython3",
   "version": "3.8.16"
  }
 },
 "nbformat": 4,
 "nbformat_minor": 4
}

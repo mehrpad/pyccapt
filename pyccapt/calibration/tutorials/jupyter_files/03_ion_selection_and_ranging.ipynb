{
 "cells": [
  {
   "cell_type": "code",
   "execution_count": 1,
   "metadata": {
    "pycharm": {
     "name": "#%%\n"
    },
    "tags": []
   },
   "outputs": [],
   "source": [
    "# Activate intractive functionality of matplotlib\n",
    "%matplotlib ipympl\n",
    "# Activate auto reload \n",
    "%load_ext autoreload\n",
    "%autoreload 2\n",
    "%reload_ext autoreload\n",
    "# import libraries\n",
    "import os\n",
    "import os.path as path\n",
    "import pandas as pd\n",
    "import numpy as np\n",
    "from scipy.optimize import curve_fit\n",
    "from faker import Factory\n",
    "from scipy import interpolate\n",
    "from sklearn.preprocessing import MinMaxScaler\n",
    "from mpl_toolkits.mplot3d import Axes3D\n",
    "import matplotlib.pyplot as plt\n",
    "import math \n",
    "import itertools \n",
    "from ipywidgets import interact, interactive, fixed, interact_manual, widgets\n",
    "from ipywidgets import HBox, VBox\n",
    "from ipywidgets import IntSlider, Output\n",
    "from IPython.display import clear_output\n",
    "import matplotlib.colors as mcolors\n",
    "import h5py\n",
    "import re\n",
    "import matplotlib\n",
    "import ipysheet\n",
    "\n",
    "# Local module and scripts\n",
    "from pyccapt.calibration.calibration_tools import tools, share_variables, calibration, ion_selection\n",
    "from pyccapt.calibration.calibration_tools import widgets as wd\n",
    "from pyccapt.calibration.data_tools import data_tools, data_loadcrop, dataset_path_qt\n",
    "from pyccapt.calibration.mc import mc_tools\n",
    "from pyccapt.calibration.leap_tools import ccapt_tools"
   ]
  },
  {
   "cell_type": "code",
   "execution_count": 2,
   "metadata": {
    "tags": []
   },
   "outputs": [
    {
     "data": {
      "application/vnd.jupyter.widget-view+json": {
       "model_id": "cf122f51c0c94edc90c7f71716a95c81",
       "version_major": 2,
       "version_minor": 0
      },
      "text/plain": [
       "Button(description='load dataset', style=ButtonStyle())"
      ]
     },
     "execution_count": 2,
     "metadata": {},
     "output_type": "execute_result"
    }
   ],
   "source": [
    "button = widgets.Button(\n",
    "    description='load dataset',\n",
    ")\n",
    "@button.on_click\n",
    "def open_file_on_click(b):\n",
    "    \"\"\"\n",
    "    Event handler for button click event.\n",
    "    Prompts the user to select a dataset file and stores the selected file path in the global variable dataset_path.\n",
    "    \"\"\"\n",
    "    global dataset_path\n",
    "    dataset_path = dataset_path_qt.gui_fname().decode('ASCII')\n",
    "button"
   ]
  },
  {
   "cell_type": "code",
   "execution_count": 3,
   "metadata": {
    "tags": []
   },
   "outputs": [
    {
     "data": {
      "application/vnd.jupyter.widget-view+json": {
       "model_id": "aad47e6daf6f47bcbb527e64668748fb",
       "version_major": 2,
       "version_minor": 0
      },
      "text/plain": [
       "Dropdown(description='Data mode:', options=('surface_concept', 'roentdec', 'leap_epos', 'leap_pos', 'ato_v6'),…"
      ]
     },
     "metadata": {},
     "output_type": "display_data"
    }
   ],
   "source": [
    "tdc, pulse_mode, flightPathLength_d, t0_d, max_mc, det_diam = wd.dataset_instrument_specification_selection()\n",
    "display(tdc)"
   ]
  },
  {
   "cell_type": "markdown",
   "metadata": {
    "pycharm": {
     "name": "#%% md\n"
    }
   },
   "source": [
    "$$\\textbf{You can specify which dataset to use in below block}$$"
   ]
  },
  {
   "cell_type": "code",
   "execution_count": 24,
   "metadata": {
    "tags": []
   },
   "outputs": [
    {
     "name": "stdout",
     "output_type": "stream",
     "text": [
      "The maximum time of flight: 5010\n"
     ]
    }
   ],
   "source": [
    "# exctract needed data from Pandas data frame as an numpy array\n",
    "# create an instance of the Variables opject\n",
    "variables = share_variables.Variables()\n",
    "variables.pulse_mode = pulse_mode\n",
    "dataset_main_path = os.path.dirname(dataset_path)\n",
    "dataset_name_with_extention = os.path.basename(dataset_path)\n",
    "variables.dataset_name = os.path.splitext(dataset_name_with_extention)[0]\n",
    "variables.result_data_path = dataset_main_path \n",
    "variables.result_data_name = 'range_data_' + variables.dataset_name\n",
    "variables.result_path = dataset_main_path + '/' + '/ions_selection/'\n",
    "\n",
    "if not os.path.isdir(variables.result_path):\n",
    "    os.makedirs(variables.result_path, mode=0o777, exist_ok=True)\n",
    "    \n",
    "# Create data farame out of hdf5 file dataset\n",
    "data = data_tools.load_data(dataset_path, tdc.value, mode='processed')\n",
    "# extract data from the path and create the Variable object\n",
    "data_tools.extract_data(data, variables, flightPathLength_d.value, max_mc.value)"
   ]
  },
  {
   "cell_type": "code",
   "execution_count": 25,
   "metadata": {
    "pycharm": {
     "name": "#%%\n"
    },
    "tags": []
   },
   "outputs": [
    {
     "name": "stdout",
     "output_type": "stream",
     "text": [
      "The data will be saved on the path: D:/pyccapt/tests/data/OLO_AL_6_data\n",
      "=============================\n",
      "The dataset name after saving is: range_data_tof_calibration_cropped_OLO_AL_6_data\n",
      "=============================\n",
      "The figures will be saved on the path: D:/pyccapt/tests/data/OLO_AL_6_data//ions_selection/\n",
      "=============================\n",
      "Total number of Ions: 1865061\n"
     ]
    },
    {
     "data": {
      "text/html": [
       "<div>\n",
       "<style scoped>\n",
       "    .dataframe tbody tr th:only-of-type {\n",
       "        vertical-align: middle;\n",
       "    }\n",
       "\n",
       "    .dataframe tbody tr th {\n",
       "        vertical-align: top;\n",
       "    }\n",
       "\n",
       "    .dataframe thead th {\n",
       "        text-align: right;\n",
       "    }\n",
       "</style>\n",
       "<table border=\"1\" class=\"dataframe\">\n",
       "  <thead>\n",
       "    <tr style=\"text-align: right;\">\n",
       "      <th></th>\n",
       "      <th>x (nm)</th>\n",
       "      <th>y (nm)</th>\n",
       "      <th>z (nm)</th>\n",
       "      <th>mc_c (Da)</th>\n",
       "      <th>mc (Da)</th>\n",
       "      <th>high_voltage (V)</th>\n",
       "      <th>pulse</th>\n",
       "      <th>start_counter</th>\n",
       "      <th>t_c (ns)</th>\n",
       "      <th>t (ns)</th>\n",
       "      <th>x_det (cm)</th>\n",
       "      <th>y_det (cm)</th>\n",
       "      <th>pulse_pi</th>\n",
       "      <th>ion_pp</th>\n",
       "    </tr>\n",
       "  </thead>\n",
       "  <tbody>\n",
       "    <tr>\n",
       "      <th>0</th>\n",
       "      <td>0.0</td>\n",
       "      <td>0.0</td>\n",
       "      <td>0.0</td>\n",
       "      <td>27.527876</td>\n",
       "      <td>27.400991</td>\n",
       "      <td>5263.160645</td>\n",
       "      <td>5263.160645</td>\n",
       "      <td>24501</td>\n",
       "      <td>615.666522</td>\n",
       "      <td>629.290080</td>\n",
       "      <td>-0.544408</td>\n",
       "      <td>-1.117469</td>\n",
       "      <td>0</td>\n",
       "      <td>0</td>\n",
       "    </tr>\n",
       "    <tr>\n",
       "      <th>1</th>\n",
       "      <td>0.0</td>\n",
       "      <td>0.0</td>\n",
       "      <td>0.0</td>\n",
       "      <td>27.048185</td>\n",
       "      <td>27.451994</td>\n",
       "      <td>5263.160645</td>\n",
       "      <td>5263.160645</td>\n",
       "      <td>25308</td>\n",
       "      <td>610.885941</td>\n",
       "      <td>642.745476</td>\n",
       "      <td>-0.977388</td>\n",
       "      <td>2.480082</td>\n",
       "      <td>807</td>\n",
       "      <td>2</td>\n",
       "    </tr>\n",
       "    <tr>\n",
       "      <th>2</th>\n",
       "      <td>0.0</td>\n",
       "      <td>0.0</td>\n",
       "      <td>0.0</td>\n",
       "      <td>27.001281</td>\n",
       "      <td>27.008272</td>\n",
       "      <td>5263.160645</td>\n",
       "      <td>5263.160645</td>\n",
       "      <td>25411</td>\n",
       "      <td>610.416149</td>\n",
       "      <td>625.195854</td>\n",
       "      <td>0.780000</td>\n",
       "      <td>0.977388</td>\n",
       "      <td>103</td>\n",
       "      <td>1</td>\n",
       "    </tr>\n",
       "    <tr>\n",
       "      <th>3</th>\n",
       "      <td>0.0</td>\n",
       "      <td>0.0</td>\n",
       "      <td>0.0</td>\n",
       "      <td>27.218993</td>\n",
       "      <td>27.270453</td>\n",
       "      <td>5263.160645</td>\n",
       "      <td>5263.160645</td>\n",
       "      <td>25674</td>\n",
       "      <td>612.593216</td>\n",
       "      <td>636.964182</td>\n",
       "      <td>0.971020</td>\n",
       "      <td>2.120327</td>\n",
       "      <td>263</td>\n",
       "      <td>1</td>\n",
       "    </tr>\n",
       "    <tr>\n",
       "      <th>4</th>\n",
       "      <td>0.0</td>\n",
       "      <td>0.0</td>\n",
       "      <td>0.0</td>\n",
       "      <td>27.592954</td>\n",
       "      <td>26.977407</td>\n",
       "      <td>5263.160645</td>\n",
       "      <td>5263.160645</td>\n",
       "      <td>26234</td>\n",
       "      <td>616.311750</td>\n",
       "      <td>642.718044</td>\n",
       "      <td>2.072571</td>\n",
       "      <td>-2.247673</td>\n",
       "      <td>560</td>\n",
       "      <td>1</td>\n",
       "    </tr>\n",
       "    <tr>\n",
       "      <th>...</th>\n",
       "      <td>...</td>\n",
       "      <td>...</td>\n",
       "      <td>...</td>\n",
       "      <td>...</td>\n",
       "      <td>...</td>\n",
       "      <td>...</td>\n",
       "      <td>...</td>\n",
       "      <td>...</td>\n",
       "      <td>...</td>\n",
       "      <td>...</td>\n",
       "      <td>...</td>\n",
       "      <td>...</td>\n",
       "      <td>...</td>\n",
       "      <td>...</td>\n",
       "    </tr>\n",
       "    <tr>\n",
       "      <th>1865056</th>\n",
       "      <td>0.0</td>\n",
       "      <td>0.0</td>\n",
       "      <td>0.0</td>\n",
       "      <td>27.130503</td>\n",
       "      <td>26.662453</td>\n",
       "      <td>5710.793945</td>\n",
       "      <td>5710.793945</td>\n",
       "      <td>24534</td>\n",
       "      <td>611.709426</td>\n",
       "      <td>613.146348</td>\n",
       "      <td>1.579102</td>\n",
       "      <td>-2.365469</td>\n",
       "      <td>2</td>\n",
       "      <td>1</td>\n",
       "    </tr>\n",
       "    <tr>\n",
       "      <th>1865057</th>\n",
       "      <td>0.0</td>\n",
       "      <td>0.0</td>\n",
       "      <td>0.0</td>\n",
       "      <td>27.280111</td>\n",
       "      <td>27.800477</td>\n",
       "      <td>5710.793945</td>\n",
       "      <td>5710.793945</td>\n",
       "      <td>24644</td>\n",
       "      <td>613.202760</td>\n",
       "      <td>620.381538</td>\n",
       "      <td>-2.091673</td>\n",
       "      <td>1.286204</td>\n",
       "      <td>110</td>\n",
       "      <td>1</td>\n",
       "    </tr>\n",
       "    <tr>\n",
       "      <th>1865058</th>\n",
       "      <td>0.0</td>\n",
       "      <td>0.0</td>\n",
       "      <td>0.0</td>\n",
       "      <td>27.031051</td>\n",
       "      <td>27.405944</td>\n",
       "      <td>5710.793945</td>\n",
       "      <td>5710.793945</td>\n",
       "      <td>24774</td>\n",
       "      <td>610.714381</td>\n",
       "      <td>609.010974</td>\n",
       "      <td>-1.505878</td>\n",
       "      <td>0.684490</td>\n",
       "      <td>130</td>\n",
       "      <td>1</td>\n",
       "    </tr>\n",
       "    <tr>\n",
       "      <th>1865059</th>\n",
       "      <td>0.0</td>\n",
       "      <td>0.0</td>\n",
       "      <td>0.0</td>\n",
       "      <td>26.971629</td>\n",
       "      <td>26.813825</td>\n",
       "      <td>5710.793945</td>\n",
       "      <td>5710.793945</td>\n",
       "      <td>25014</td>\n",
       "      <td>610.118935</td>\n",
       "      <td>623.460780</td>\n",
       "      <td>2.747510</td>\n",
       "      <td>2.142612</td>\n",
       "      <td>240</td>\n",
       "      <td>1</td>\n",
       "    </tr>\n",
       "    <tr>\n",
       "      <th>1865060</th>\n",
       "      <td>0.0</td>\n",
       "      <td>0.0</td>\n",
       "      <td>0.0</td>\n",
       "      <td>27.068720</td>\n",
       "      <td>27.367084</td>\n",
       "      <td>5710.793945</td>\n",
       "      <td>5710.793945</td>\n",
       "      <td>25851</td>\n",
       "      <td>611.091493</td>\n",
       "      <td>612.302814</td>\n",
       "      <td>-2.088490</td>\n",
       "      <td>-0.156000</td>\n",
       "      <td>837</td>\n",
       "      <td>1</td>\n",
       "    </tr>\n",
       "  </tbody>\n",
       "</table>\n",
       "<p>1865061 rows × 14 columns</p>\n",
       "</div>"
      ],
      "text/plain": [
       "         x (nm)  y (nm)  z (nm)  mc_c (Da)    mc (Da)  high_voltage (V)  \\\n",
       "0           0.0     0.0     0.0  27.527876  27.400991       5263.160645   \n",
       "1           0.0     0.0     0.0  27.048185  27.451994       5263.160645   \n",
       "2           0.0     0.0     0.0  27.001281  27.008272       5263.160645   \n",
       "3           0.0     0.0     0.0  27.218993  27.270453       5263.160645   \n",
       "4           0.0     0.0     0.0  27.592954  26.977407       5263.160645   \n",
       "...         ...     ...     ...        ...        ...               ...   \n",
       "1865056     0.0     0.0     0.0  27.130503  26.662453       5710.793945   \n",
       "1865057     0.0     0.0     0.0  27.280111  27.800477       5710.793945   \n",
       "1865058     0.0     0.0     0.0  27.031051  27.405944       5710.793945   \n",
       "1865059     0.0     0.0     0.0  26.971629  26.813825       5710.793945   \n",
       "1865060     0.0     0.0     0.0  27.068720  27.367084       5710.793945   \n",
       "\n",
       "               pulse  start_counter    t_c (ns)      t (ns)  x_det (cm)  \\\n",
       "0        5263.160645          24501  615.666522  629.290080   -0.544408   \n",
       "1        5263.160645          25308  610.885941  642.745476   -0.977388   \n",
       "2        5263.160645          25411  610.416149  625.195854    0.780000   \n",
       "3        5263.160645          25674  612.593216  636.964182    0.971020   \n",
       "4        5263.160645          26234  616.311750  642.718044    2.072571   \n",
       "...              ...            ...         ...         ...         ...   \n",
       "1865056  5710.793945          24534  611.709426  613.146348    1.579102   \n",
       "1865057  5710.793945          24644  613.202760  620.381538   -2.091673   \n",
       "1865058  5710.793945          24774  610.714381  609.010974   -1.505878   \n",
       "1865059  5710.793945          25014  610.118935  623.460780    2.747510   \n",
       "1865060  5710.793945          25851  611.091493  612.302814   -2.088490   \n",
       "\n",
       "         y_det (cm)  pulse_pi  ion_pp  \n",
       "0         -1.117469         0       0  \n",
       "1          2.480082       807       2  \n",
       "2          0.977388       103       1  \n",
       "3          2.120327       263       1  \n",
       "4         -2.247673       560       1  \n",
       "...             ...       ...     ...  \n",
       "1865056   -2.365469         2       1  \n",
       "1865057    1.286204       110       1  \n",
       "1865058    0.684490       130       1  \n",
       "1865059    2.142612       240       1  \n",
       "1865060   -0.156000       837       1  \n",
       "\n",
       "[1865061 rows x 14 columns]"
      ]
     },
     "execution_count": 25,
     "metadata": {},
     "output_type": "execute_result"
    }
   ],
   "source": [
    "print('The data will be saved on the path:', variables.result_data_path)\n",
    "print('=============================')\n",
    "print('The dataset name after saving is:', variables.result_data_name)\n",
    "print('=============================')\n",
    "print('The figures will be saved on the path:', variables.result_path)\n",
    "print('=============================')\n",
    "print('Total number of Ions:', len(data))\n",
    "data"
   ]
  },
  {
   "cell_type": "code",
   "execution_count": 26,
   "metadata": {
    "pycharm": {
     "name": "#%%\n"
    },
    "tags": []
   },
   "outputs": [
    {
     "name": "stderr",
     "output_type": "stream",
     "text": [
      "C:\\Users\\APTUser\\AppData\\Local\\Temp\\ipykernel_33476\\3981313127.py:1: DeprecationWarning: on_submit is deprecated. Instead, set the .continuous_update attribute to False and observe the value changing with: mywidget.observe(callback, 'value').\n",
      "  interact_manual(tools.mc_hist_plot, variables=fixed(variables), bin_size=widgets.FloatText(value=0.1),\n"
     ]
    },
    {
     "data": {
      "application/vnd.jupyter.widget-view+json": {
       "model_id": "9c260db68d0846528a938eadf679a486",
       "version_major": 2,
       "version_minor": 0
      },
      "text/plain": [
       "interactive(children=(FloatText(value=0.1, description='bin_size'), Dropdown(description='mode', options=(('mc…"
      ]
     },
     "metadata": {},
     "output_type": "display_data"
    }
   ],
   "source": [
    "interact_manual(tools.mc_hist_plot, variables=fixed(variables), bin_size=widgets.FloatText(value=0.1), \n",
    "                mode=widgets.Dropdown(options=[('mc_c', 'mc_c'), ('tof_c', 'tof_c')]), prominence=widgets.IntText(value=50), distance=widgets.IntText(value=1), \n",
    "                lim=widgets.IntText(value=400), percent=widgets.IntText(value=50), selector=fixed('None'), plot=fixed(True), figname=widgets.Text(value='hist'),\n",
    "                peaks_find_plot=fixed(True));"
   ]
  },
  {
   "cell_type": "code",
   "execution_count": 31,
   "metadata": {
    "tags": []
   },
   "outputs": [],
   "source": [
    "bin_size=widgets.FloatText(value=0.1, description='bin size:')\n",
    "prominence=widgets.IntText(value=50, description='peak prominance:')\n",
    "distance=widgets.IntText(value=1, description='peak distance:')\n",
    "lim_tof=widgets.IntText(value=400, description='lim tof/mc:')\n",
    "percent=widgets.IntText(value=50, description='percent MRP:')\n",
    "index_fig = widgets.IntText(value=1, description='fig index:')\n",
    "plot_peak = widgets.Dropdown(\n",
    "    options=[('True', True), ('False', False)],\n",
    "    description='plot peak:'\n",
    ")\n",
    "\n",
    "def hist_plot_p(variables, plot):\n",
    "    \n",
    "    with out:\n",
    "        clear_output(True)\n",
    "        # clear the peak_idx\n",
    "        variables.peaks_idx = []\n",
    "        bin_size_p = bin_size.value\n",
    "        prominence_p = prominence.value\n",
    "        distance_p = distance.value\n",
    "        lim_tof_p = lim_tof.value\n",
    "        percent_p = percent.value\n",
    "        index_fig_p = index_fig.value\n",
    "        plot_peak_p = plot_peak.value\n",
    "        tools.hist_plot(variables.mc_c[variables.mc_c < lim_tof_p], variables, bin_size_p, label='mc', range_data=None, adjust_label=False, ranging=False,\n",
    "              log=True, mode='count', percent=percent_p, peaks_find=True, peaks_find_plot=plot_peak_p, plot=True, prominence=prominence_p,\n",
    "              distance=None, h_line=False, selector='peak', fast_hist=True, fig_name=index_fig_p, text_loc='right',\n",
    "              fig_size=(9, 5), background={'calculation': False})\n",
    "def hist_plot_r(variables, plot):\n",
    "    \n",
    "    with out:\n",
    "        clear_output(True)\n",
    "        bin_size_r = bin_size.value\n",
    "        prominence_r = prominence.value\n",
    "        distance_r = distance.value\n",
    "        lim_tof_r = lim_tof.value\n",
    "        percent_r = percent.value\n",
    "        index_fig_r = index_fig.value\n",
    "        plot_peak_r = plot_peak.value\n",
    "        print('=============================')\n",
    "        print('Press left click to draw a line')\n",
    "        print('Press right click to remove a line')\n",
    "        print('Press r to remove all the line')\n",
    "        print('Press a to automatically draw lines')\n",
    "        print('Hold shift and use mouse scroll for zooming on x axis')\n",
    "        print('Hold ctrl and left mouse bottom to move a line')\n",
    "        print('=============================')\n",
    "        tools.hist_plot(variables.mc_c[variables.mc_c < lim_tof_r], variables, bin_size_r, label='mc', range_data=None, adjust_label=False, ranging=False,\n",
    "              log=True, mode='count', percent=percent_r, peaks_find=True, peaks_find_plot=plot_peak_r, plot=True, prominence=prominence_r,\n",
    "              distance=None, h_line=False, selector='range', fast_hist=True, fig_name=index_fig_r, text_loc='right',\n",
    "              fig_size=(9, 5), background={'calculation': False})\n",
    "        \n",
    "def hist_plot(variables, plot):\n",
    "    with out:\n",
    "        clear_output(True)\n",
    "        bin_size_r = bin_size.value\n",
    "        prominence_r = prominence.value\n",
    "        distance_r = distance.value\n",
    "        lim_tof_r = lim_tof.value\n",
    "        percent_r = percent.value\n",
    "        index_fig_r = index_fig.value\n",
    "        plot_peak_r = plot_peak.value\n",
    "        tools.hist_plot(variables.mc_c[variables.mc_c < lim_tof_r], variables, bin_size_r, label='mc', range_data=None, adjust_label=False, ranging=False,\n",
    "              log=True, mode='count', percent=percent_r, peaks_find=True, peaks_find_plot=plot_peak_r, plot=True, prominence=prominence_r,\n",
    "              distance=None, h_line=True, selector=None, fast_hist=True, fig_name=index_fig_r, text_loc='right',\n",
    "              fig_size=(9, 5), background={'calculation': False})"
   ]
  },
  {
   "cell_type": "code",
   "execution_count": 32,
   "metadata": {
    "tags": []
   },
   "outputs": [],
   "source": [
    "# element calculate\n",
    "peak_val = widgets.FloatText(value=1.1, description='peak value:')\n",
    "charge = widgets.Dropdown(\n",
    "    options=[('1', 1), ('2', 2), ('3', 3), ('4', 4),('5', 5), ('6', 6)],\n",
    "    value=3,\n",
    "    description='charge:'\n",
    ")\n",
    "aboundance_threshold = widgets.FloatText(value=0.0, description='threshold aboundance:', min=0, max=1, step=0.1)\n",
    "num_element = widgets.IntText(value=1, description='num element:')\n",
    "# formula calculate\n",
    "formula_m = widgets.Text(\n",
    "    value='',\n",
    "    placeholder='Type a formula',\n",
    "    description='Isotope formula:',\n",
    "    disabled=False\n",
    ")\n",
    "\n",
    "molecule_charge = widgets.Dropdown(\n",
    "    options=[('1', 1), ('2', 2), ('3', 3), ('4', 4),('5', 5), ('6', 6)],\n",
    "    value=3,\n",
    "    description='charge:'\n",
    ")\n",
    "\n",
    "aboundance_threshold_manual = widgets.FloatText(value=0.0, description='threshold aboundance:', min=0, max=1, step=0.1)\n",
    "\n",
    "# molecule create\n",
    "formula_com = widgets.Text(\n",
    "    value='',\n",
    "    placeholder=\"Elements ','\",\n",
    "    description='Elements:',\n",
    "    disabled=False\n",
    ")\n",
    "complexity = widgets.Dropdown(\n",
    "    options=[('1', 1), ('2', 2), ('3', 3), ('4', 4),('5', 5), ('6', 6)],\n",
    "    value=3,\n",
    "    description='complexity:'\n",
    ")\n",
    "\n",
    "charge_com = widgets.Dropdown(\n",
    "    options=[('1', 1), ('2', 2), ('3', 3), ('4', 4),('5', 5), ('6', 6)],\n",
    "    value=3,\n",
    "    description='charge:'\n",
    ")\n",
    "\n",
    "aboundance_threshold_com = widgets.FloatText(value=0.0, description='threshold aboundance:', min=0, max=1, step=0.1)\n",
    "\n"
   ]
  },
  {
   "cell_type": "code",
   "execution_count": 37,
   "metadata": {
    "tags": []
   },
   "outputs": [
    {
     "data": {
      "application/vnd.jupyter.widget-view+json": {
       "model_id": "046c08a91541490b9371030efe2f768b",
       "version_major": 2,
       "version_minor": 0
      },
      "text/plain": [
       "HBox(children=(Tab(children=(VBox(children=(FloatText(value=0.1, description='bin size:'), IntText(value=1, de…"
      ]
     },
     "metadata": {},
     "output_type": "display_data"
    },
    {
     "data": {
      "application/vnd.jupyter.widget-view+json": {
       "model_id": "2fdea1e6555349e0bd4f107393821e5a",
       "version_major": 2,
       "version_minor": 0
      },
      "text/plain": [
       "VBox(children=(HBox(children=(Output(), Output())), Output()))"
      ]
     },
     "metadata": {},
     "output_type": "display_data"
    }
   ],
   "source": [
    "plot_button_p = widgets.Button(\n",
    "    description='plot hist',\n",
    ")\n",
    "plot_button_r = widgets.Button(\n",
    "    description='plot hist',\n",
    ")\n",
    "plot_button = widgets.Button(\n",
    "    description='plot hist',\n",
    ")\n",
    "\n",
    "\n",
    "find_elem_button = widgets.Button(\n",
    "    description='find element',\n",
    ")\n",
    "find_mole_button = widgets.Button(\n",
    "    description='find molecule',\n",
    ")\n",
    "\n",
    "formula_find_button = widgets.Button(\n",
    "    description='molecule calculate',\n",
    ")\n",
    "\n",
    "add_ion_button = widgets.Button(\n",
    "    description='add ion',\n",
    ")\n",
    "romove_ion_button = widgets.Button(\n",
    "    description='remove ion',\n",
    ")\n",
    "show_color = widgets.Button(\n",
    "    description='show color',\n",
    ")\n",
    "change_color = widgets.Button(\n",
    "    description='change color',\n",
    ")\n",
    "\n",
    "color_picker = widgets.ColorPicker(description='Select a color:')\n",
    "row_index = widgets.IntText(value=0, description='index row:')\n",
    "mass_unknown = widgets.FloatText(value=0.0, description='unknown mass:')\n",
    "@plot_button_p.on_click\n",
    "def plot_on_click_p(b, plot=True):\n",
    "    hist_plot_p(variables, plot)\n",
    "@plot_button_r.on_click\n",
    "def plot_on_click_b(b, plot=True):\n",
    "    hist_plot_r(variables, plot)\n",
    "    \n",
    "@plot_button.on_click\n",
    "def plot_on_click_b(b, plot=True):\n",
    "    hist_plot(variables, plot)\n",
    "    \n",
    "@find_elem_button.on_click\n",
    "def vol_on_click(b,):\n",
    "    with output2:\n",
    "        peak_val_s = peak_val.value\n",
    "        charge_s = charge.value\n",
    "        num_element_s = num_element.value\n",
    "        aboundance_threshold_s = aboundance_threshold.value\n",
    "        clear_output(True)\n",
    "        df = ion_selection.find_close_element(peak_val_s, num_element_s, aboundance_threshold_s, charge=charge_s, variables=variables)\n",
    "        display(df)\n",
    "    \n",
    "@find_mole_button.on_click\n",
    "def mol_on_click(b,):\n",
    "    with output2:\n",
    "        if formula_com.value == '':\n",
    "            print(\"Input is empty. Type at least two elements.\")\n",
    "        else:\n",
    "            df = ion_selection.molecule_create(formula_com.value.split(','), complexity.value, molecule_charge.value, aboundance_threshold_manual.value)\n",
    "            clear_output(True)\n",
    "            display(df)\n",
    "    \n",
    "@formula_find_button.on_click\n",
    "def manual_formula(b,):\n",
    "    with output2:\n",
    "        if formula_m.value == '':\n",
    "            print(\"Input is empty. Type the formula.\")\n",
    "        else:\n",
    "            df = ion_selection.molecule_isotope_list(formula_m.value, molecule_charge.value, aboundance_threshold_manual.value, latex=True, variables=variables)\n",
    "            clear_output(True)\n",
    "            display(df)\n",
    "\n",
    "@add_ion_button.on_click\n",
    "def add_ion_to_range_dataset(b,):\n",
    "    ion_selection.rangging_dataset_create(variables, row_index.value, mass_unknown.value)\n",
    "    with output3:\n",
    "        clear_output(True)\n",
    "        display(variables.range_data)\n",
    "@romove_ion_button.on_click\n",
    "def remove_ion_to_range_dataset(b,):\n",
    "    if len(variables.range_data) >= 1:\n",
    "        variables.range_data = variables.range_data.drop(len(variables.range_data) - 1)\n",
    "        with output3:\n",
    "            clear_output(True)\n",
    "            display(variables.range_data)\n",
    "        \n",
    "@show_color.on_click\n",
    "def show_color_ions(b,):\n",
    "    with output3:\n",
    "        clear_output(True)\n",
    "        display(variables.range_data.style.applymap(ion_selection.display_color, subset=['color']))\n",
    "@change_color.on_click\n",
    "def change_color_m(b,):\n",
    "    with output3:\n",
    "        selected_color = mcolors.to_hex(color_picker.value)\n",
    "        variables.range_data.at[row_index.value, 'color'] = selected_color\n",
    "        clear_output(True)\n",
    "        display(variables.range_data.style.applymap(ion_selection.display_color, subset=['color']))\n",
    "        \n",
    "tab1 = VBox(children=[bin_size, index_fig, prominence, distance, lim_tof, percent, plot_peak, HBox(children=[plot_button_p])])\n",
    "tab2 = VBox(children=[bin_size, index_fig, prominence, distance, lim_tof, percent, plot_peak, HBox(children=[plot_button_r])])\n",
    "tab3 = VBox(children=[bin_size, index_fig, prominence, distance, lim_tof, percent, plot_peak, HBox(children=[plot_button])])\n",
    "tab4 = VBox(children=[HBox(children=[VBox(children=[peak_val, num_element, charge, aboundance_threshold, \n",
    "                      find_elem_button]),  VBox(children=[formula_com,complexity,charge_com, aboundance_threshold_com, find_mole_button]),\n",
    "                      VBox(children=[formula_m, molecule_charge, aboundance_threshold_manual, formula_find_button])]), VBox(children=[row_index, color_picker, mass_unknown, add_ion_button, romove_ion_button, \n",
    "                                                                                                                                      show_color, change_color])])\n",
    "\n",
    "\n",
    "\n",
    "tabs1 = widgets.Tab(children=[tab1, tab2, tab3])\n",
    "tabs2 = widgets.Tab(children=[tab4])\n",
    "tabs1.set_title(0, 'peak finder')\n",
    "tabs1.set_title(1, 'rangging')\n",
    "tabs1.set_title(2, 'rangged')\n",
    "tabs2.set_title(0, 'element finder')\n",
    "# Create two Output widgets to capture the output of each plot\n",
    "out = Output()\n",
    "output2 = Output()\n",
    "output3 = Output()\n",
    "\n",
    "# Create an HBox to display the buttons side by side\n",
    "buttons_layout = widgets.HBox([tabs1, tabs2])\n",
    "\n",
    "# Create a VBox to display the output widgets below the buttons\n",
    "output_layout_h = widgets.HBox([out, output3])\n",
    "output_layout = widgets.VBox([output_layout_h, output2])\n",
    "\n",
    "\n",
    "# Display the buttons and the output widgets\n",
    "display(buttons_layout, output_layout)\n",
    "\n",
    "\n",
    "with output3:\n",
    "    display(variables.range_data)"
   ]
  },
  {
   "cell_type": "raw",
   "metadata": {
    "tags": []
   },
   "source": [
    "aa = ion_selection.molecule_isotope_list('CO2', 4, abundance_threshold=0.0, variables=variables)\n",
    "display(aa)"
   ]
  },
  {
   "cell_type": "code",
   "execution_count": 14,
   "metadata": {},
   "outputs": [
    {
     "ename": "TypeError",
     "evalue": "molecule_create() got an unexpected keyword argument 'variables'",
     "output_type": "error",
     "traceback": [
      "\u001b[1;31m---------------------------------------------------------------------------\u001b[0m",
      "\u001b[1;31mTypeError\u001b[0m                                 Traceback (most recent call last)",
      "Cell \u001b[1;32mIn [14], line 1\u001b[0m\n\u001b[1;32m----> 1\u001b[0m aa \u001b[38;5;241m=\u001b[39m \u001b[43mion_selection\u001b[49m\u001b[38;5;241;43m.\u001b[39;49m\u001b[43mmolecule_create\u001b[49m\u001b[43m(\u001b[49m\u001b[38;5;124;43m'\u001b[39;49m\u001b[38;5;124;43mC,O\u001b[39;49m\u001b[38;5;124;43m'\u001b[39;49m\u001b[43m,\u001b[49m\u001b[43m \u001b[49m\u001b[38;5;241;43m4\u001b[39;49m\u001b[43m,\u001b[49m\u001b[43m \u001b[49m\u001b[43mcharge\u001b[49m\u001b[38;5;241;43m=\u001b[39;49m\u001b[38;5;241;43m4\u001b[39;49m\u001b[43m,\u001b[49m\u001b[43m \u001b[49m\u001b[43mabundance_threshold\u001b[49m\u001b[38;5;241;43m=\u001b[39;49m\u001b[38;5;241;43m0.0\u001b[39;49m\u001b[43m,\u001b[49m\u001b[43m \u001b[49m\u001b[43mvariables\u001b[49m\u001b[38;5;241;43m=\u001b[39;49m\u001b[43mvariables\u001b[49m\u001b[43m)\u001b[49m\n\u001b[0;32m      2\u001b[0m display(aa)\n",
      "\u001b[1;31mTypeError\u001b[0m: molecule_create() got an unexpected keyword argument 'variables'"
     ]
    }
   ],
   "source": [
    "aa = ion_selection.molecule_create('C,O', 4, charge=4, abundance_threshold=0.0, variables=variables)\n",
    "display(aa)"
   ]
  },
  {
   "cell_type": "code",
   "execution_count": 49,
   "metadata": {
    "tags": []
   },
   "outputs": [
    {
     "name": "stderr",
     "output_type": "stream",
     "text": [
      "C:\\Users\\APTUser\\AppData\\Local\\Temp\\ipykernel_33476\\116442335.py:4: DeprecationWarning: on_submit is deprecated. Instead, set the .continuous_update attribute to False and observe the value changing with: mywidget.observe(callback, 'value').\n",
      "  interact_manual(mc_hist_plot, bin_size=widgets.FloatText(value=0.1), lim_mc=widgets.IntText(value=400), hist_color_range=widgets.Dropdown(options=[('True', True), ('False', False)])\n"
     ]
    },
    {
     "data": {
      "application/vnd.jupyter.widget-view+json": {
       "model_id": "044bc37999b14e3d9bc580c50115c100",
       "version_major": 2,
       "version_minor": 0
      },
      "text/plain": [
       "interactive(children=(FloatText(value=0.1, description='bin_size'), IntText(value=400, description='lim_mc'), …"
      ]
     },
     "metadata": {},
     "output_type": "display_data"
    }
   ],
   "source": [
    "def mc_hist_plot(bin_size, lim_mc, hist_color_range, figname):\n",
    "    peaks_ini, peaks_y_ini, peak_widths_p_ini, _ = tools.hist_plot(variables.mc_c[variables.mc_c < lim_mc], variables, bin=bin_size, range_data=variables.range_data, ranging=True, hist_color_range=hist_color_range, adjust_label=False, peaks_find=True, peaks_find_plot=True, plot=True, label='mc', fig_name=figname)\n",
    "   \n",
    "interact_manual(mc_hist_plot, bin_size=widgets.FloatText(value=0.1), lim_mc=widgets.IntText(value=400), hist_color_range=widgets.Dropdown(options=[('True', True), ('False', False)])\n",
    "                , figname=widgets.Text(value='ranged'));"
   ]
  },
  {
   "cell_type": "code",
   "execution_count": 50,
   "metadata": {
    "tags": []
   },
   "outputs": [
    {
     "data": {
      "text/html": [
       "<style type=\"text/css\">\n",
       "#T_339c3_row0_col5 {\n",
       "  background-color: #b2aa2d;\n",
       "  width: 50px;\n",
       "  height: 20px;\n",
       "}\n",
       "#T_339c3_row1_col5, #T_339c3_row2_col5 {\n",
       "  background-color: #e7e0d1;\n",
       "  width: 50px;\n",
       "  height: 20px;\n",
       "}\n",
       "</style>\n",
       "<table id=\"T_339c3\">\n",
       "  <thead>\n",
       "    <tr>\n",
       "      <th class=\"blank level0\" >&nbsp;</th>\n",
       "      <th id=\"T_339c3_level0_col0\" class=\"col_heading level0 col0\" >ion</th>\n",
       "      <th id=\"T_339c3_level0_col1\" class=\"col_heading level0 col1\" >mass</th>\n",
       "      <th id=\"T_339c3_level0_col2\" class=\"col_heading level0 col2\" >mc</th>\n",
       "      <th id=\"T_339c3_level0_col3\" class=\"col_heading level0 col3\" >mc_low</th>\n",
       "      <th id=\"T_339c3_level0_col4\" class=\"col_heading level0 col4\" >mc_up</th>\n",
       "      <th id=\"T_339c3_level0_col5\" class=\"col_heading level0 col5\" >color</th>\n",
       "      <th id=\"T_339c3_level0_col6\" class=\"col_heading level0 col6\" >peak_count</th>\n",
       "      <th id=\"T_339c3_level0_col7\" class=\"col_heading level0 col7\" >element</th>\n",
       "      <th id=\"T_339c3_level0_col8\" class=\"col_heading level0 col8\" >complex</th>\n",
       "      <th id=\"T_339c3_level0_col9\" class=\"col_heading level0 col9\" >isotope</th>\n",
       "      <th id=\"T_339c3_level0_col10\" class=\"col_heading level0 col10\" >charge</th>\n",
       "    </tr>\n",
       "  </thead>\n",
       "  <tbody>\n",
       "    <tr>\n",
       "      <th id=\"T_339c3_level0_row0\" class=\"row_heading level0 row0\" >0</th>\n",
       "      <td id=\"T_339c3_row0_col0\" class=\"data row0 col0\" >${}^{1}H^{+}$</td>\n",
       "      <td id=\"T_339c3_row0_col1\" class=\"data row0 col1\" >1.010000</td>\n",
       "      <td id=\"T_339c3_row0_col2\" class=\"data row0 col2\" >1.581404</td>\n",
       "      <td id=\"T_339c3_row0_col3\" class=\"data row0 col3\" >1.357690</td>\n",
       "      <td id=\"T_339c3_row0_col4\" class=\"data row0 col4\" >1.886822</td>\n",
       "      <td id=\"T_339c3_row0_col5\" class=\"data row0 col5\" >#b2aa2d</td>\n",
       "      <td id=\"T_339c3_row0_col6\" class=\"data row0 col6\" >163.000000</td>\n",
       "      <td id=\"T_339c3_row0_col7\" class=\"data row0 col7\" >H</td>\n",
       "      <td id=\"T_339c3_row0_col8\" class=\"data row0 col8\" >1</td>\n",
       "      <td id=\"T_339c3_row0_col9\" class=\"data row0 col9\" >1</td>\n",
       "      <td id=\"T_339c3_row0_col10\" class=\"data row0 col10\" >+</td>\n",
       "    </tr>\n",
       "    <tr>\n",
       "      <th id=\"T_339c3_level0_row1\" class=\"row_heading level0 row1\" >1</th>\n",
       "      <td id=\"T_339c3_row1_col0\" class=\"data row1 col0\" >${}^{27}Al^{2+}$</td>\n",
       "      <td id=\"T_339c3_row1_col1\" class=\"data row1 col1\" >13.490000</td>\n",
       "      <td id=\"T_339c3_row1_col2\" class=\"data row1 col2\" >13.505377</td>\n",
       "      <td id=\"T_339c3_row1_col3\" class=\"data row1 col3\" >12.998589</td>\n",
       "      <td id=\"T_339c3_row1_col4\" class=\"data row1 col4\" >14.321418</td>\n",
       "      <td id=\"T_339c3_row1_col5\" class=\"data row1 col5\" >#e7e0d1</td>\n",
       "      <td id=\"T_339c3_row1_col6\" class=\"data row1 col6\" >64219.000000</td>\n",
       "      <td id=\"T_339c3_row1_col7\" class=\"data row1 col7\" >Al</td>\n",
       "      <td id=\"T_339c3_row1_col8\" class=\"data row1 col8\" >1</td>\n",
       "      <td id=\"T_339c3_row1_col9\" class=\"data row1 col9\" >27</td>\n",
       "      <td id=\"T_339c3_row1_col10\" class=\"data row1 col10\" >2+</td>\n",
       "    </tr>\n",
       "    <tr>\n",
       "      <th id=\"T_339c3_level0_row2\" class=\"row_heading level0 row2\" >2</th>\n",
       "      <td id=\"T_339c3_row2_col0\" class=\"data row2 col0\" >${}^{27}Al^{+}$</td>\n",
       "      <td id=\"T_339c3_row2_col1\" class=\"data row2 col1\" >26.980000</td>\n",
       "      <td id=\"T_339c3_row2_col2\" class=\"data row2 col2\" >26.993149</td>\n",
       "      <td id=\"T_339c3_row2_col3\" class=\"data row2 col3\" >25.856491</td>\n",
       "      <td id=\"T_339c3_row2_col4\" class=\"data row2 col4\" >28.660889</td>\n",
       "      <td id=\"T_339c3_row2_col5\" class=\"data row2 col5\" >#e7e0d1</td>\n",
       "      <td id=\"T_339c3_row2_col6\" class=\"data row2 col6\" >589415.000000</td>\n",
       "      <td id=\"T_339c3_row2_col7\" class=\"data row2 col7\" >Al</td>\n",
       "      <td id=\"T_339c3_row2_col8\" class=\"data row2 col8\" >1</td>\n",
       "      <td id=\"T_339c3_row2_col9\" class=\"data row2 col9\" >27</td>\n",
       "      <td id=\"T_339c3_row2_col10\" class=\"data row2 col10\" >+</td>\n",
       "    </tr>\n",
       "  </tbody>\n",
       "</table>\n"
      ],
      "text/plain": [
       "<pandas.io.formats.style.Styler at 0x125a2137790>"
      ]
     },
     "metadata": {},
     "output_type": "display_data"
    }
   ],
   "source": [
    "display(variables.range_data.style.applymap(ion_selection.display_color, subset=['color']))"
   ]
  },
  {
   "cell_type": "code",
   "execution_count": 51,
   "metadata": {
    "tags": []
   },
   "outputs": [
    {
     "data": {
      "text/plain": [
       "ion            object\n",
       "mass          float64\n",
       "mc            float64\n",
       "mc_low        float64\n",
       "mc_up         float64\n",
       "color          object\n",
       "peak_count    float64\n",
       "element        object\n",
       "complex         int64\n",
       "isotope         int64\n",
       "charge         object\n",
       "dtype: object"
      ]
     },
     "execution_count": 51,
     "metadata": {},
     "output_type": "execute_result"
    }
   ],
   "source": [
    "variables.range_data.dtypes"
   ]
  },
  {
   "cell_type": "code",
   "execution_count": 54,
   "metadata": {
    "pycharm": {
     "name": "#%%\n"
    },
    "tags": []
   },
   "outputs": [],
   "source": [
    "# save the new data\n",
    "name_save_file = variables.result_data_path + '/' + variables.result_data_name + '.h5'\n",
    "data_tools.store_df_to_hdf(variables.range_data,  'df', name_save_file)"
   ]
  },
  {
   "cell_type": "code",
   "execution_count": 55,
   "metadata": {
    "tags": []
   },
   "outputs": [],
   "source": [
    "# save data in csv format\n",
    "name_save_file = variables.result_data_path + '/' + variables.result_data_name + '.csv'\n",
    "data_tools.store_df_to_csv(variables.range_data, name_save_file)"
   ]
  },
  {
   "cell_type": "code",
   "execution_count": null,
   "metadata": {},
   "outputs": [],
   "source": []
  }
 ],
 "metadata": {
  "kernelspec": {
   "display_name": "Python 3 (ipykernel)",
   "language": "python",
   "name": "python3"
  },
  "language_info": {
   "codemirror_mode": {
    "name": "ipython",
    "version": 3
   },
   "file_extension": ".py",
   "mimetype": "text/x-python",
   "name": "python",
   "nbconvert_exporter": "python",
   "pygments_lexer": "ipython3",
   "version": "3.8.16"
  }
 },
 "nbformat": 4,
 "nbformat_minor": 4
}

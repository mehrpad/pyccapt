{
 "cells": [
  {
   "cell_type": "code",
   "execution_count": 20,
   "metadata": {
    "pycharm": {
     "name": "#%%\n"
    },
    "tags": []
   },
   "outputs": [
    {
     "name": "stdout",
     "output_type": "stream",
     "text": [
      "The autoreload extension is already loaded. To reload it, use:\n",
      "  %reload_ext autoreload\n"
     ]
    }
   ],
   "source": [
    "# Activate intractive functionality of matplotlib\n",
    "%matplotlib ipympl\n",
    "# Activate auto reload \n",
    "%load_ext autoreload\n",
    "%autoreload 2\n",
    "%reload_ext autoreload\n",
    "# import libraries\n",
    "import os\n",
    "import os.path as path\n",
    "import pandas as pd\n",
    "import numpy as np\n",
    "from scipy.optimize import curve_fit\n",
    "from faker import Factory\n",
    "from scipy import interpolate\n",
    "from sklearn.preprocessing import MinMaxScaler\n",
    "from mpl_toolkits.mplot3d import Axes3D\n",
    "import matplotlib.pyplot as plt\n",
    "import math \n",
    "import itertools \n",
    "from ipywidgets import interact, interactive, fixed, interact_manual, widgets\n",
    "from ipywidgets import HBox, VBox\n",
    "from ipywidgets import IntSlider, Output\n",
    "from IPython.display import clear_output\n",
    "import h5py\n",
    "import re\n",
    "import matplotlib\n",
    "import ipysheet\n",
    "\n",
    "# Local module and scripts\n",
    "from pyccapt.calibration.calibration_tools import tools, share_variables, calibration, ion_selection\n",
    "from pyccapt.calibration.calibration_tools import widgets as wd\n",
    "from pyccapt.calibration.data_tools import data_tools, data_loadcrop, dataset_path_qt\n",
    "from pyccapt.calibration.mc import mc_tools\n",
    "from pyccapt.calibration.leap_tools import ccapt_tools"
   ]
  },
  {
   "cell_type": "code",
   "execution_count": 21,
   "metadata": {
    "tags": []
   },
   "outputs": [
    {
     "data": {
      "application/vnd.jupyter.widget-view+json": {
       "model_id": "039f0af4fdec497db8ee96d28e1318c1",
       "version_major": 2,
       "version_minor": 0
      },
      "text/plain": [
       "Button(description='load dataset', style=ButtonStyle())"
      ]
     },
     "execution_count": 21,
     "metadata": {},
     "output_type": "execute_result"
    }
   ],
   "source": [
    "button = widgets.Button(\n",
    "    description='load dataset',\n",
    ")\n",
    "@button.on_click\n",
    "def open_file_on_click(b):\n",
    "    \"\"\"\n",
    "    Event handler for button click event.\n",
    "    Prompts the user to select a dataset file and stores the selected file path in the global variable dataset_path.\n",
    "    \"\"\"\n",
    "    global dataset_path\n",
    "    dataset_path = dataset_path_qt.gui_fname().decode('ASCII')\n",
    "button"
   ]
  },
  {
   "cell_type": "code",
   "execution_count": 22,
   "metadata": {
    "tags": []
   },
   "outputs": [
    {
     "data": {
      "application/vnd.jupyter.widget-view+json": {
       "model_id": "ba08ab328c53415483b2ce0fa7bae11a",
       "version_major": 2,
       "version_minor": 0
      },
      "text/plain": [
       "Dropdown(description='Data mode:', options=('surface_concept', 'roentdec', 'leap_epos', 'leap_pos', 'ato_v6'),…"
      ]
     },
     "metadata": {},
     "output_type": "display_data"
    }
   ],
   "source": [
    "tdc, pulse_mode, flightPathLength_d, t0_d, max_mc, det_diam = wd.dataset_instrument_specification_selection()\n",
    "display(tdc)"
   ]
  },
  {
   "cell_type": "markdown",
   "metadata": {
    "pycharm": {
     "name": "#%% md\n"
    }
   },
   "source": [
    "$$\\textbf{You can specify which dataset to use in below block}$$"
   ]
  },
  {
   "cell_type": "code",
   "execution_count": 23,
   "metadata": {
    "tags": []
   },
   "outputs": [],
   "source": [
    "# exctract needed data from Pandas data frame as an numpy array\n",
    "# create an instance of the Variables opject\n",
    "variables = share_variables.Variables()\n",
    "variables.pulse_mode = pulse_mode\n",
    "dataset_main_path = os.path.dirname(dataset_path)\n",
    "dataset_name_with_extention = os.path.basename(dataset_path)\n",
    "variables.dataset_name = os.path.splitext(dataset_name_with_extention)[0]\n",
    "variables.result_data_path = dataset_main_path \n",
    "variables.result_data_name = 'ions_selection_' + variables.dataset_name\n",
    "variables.result_path = dataset_main_path + '/' + '/ions_selection/'\n",
    "\n",
    "if not os.path.isdir(variables.result_path):\n",
    "    os.makedirs(variables.result_path, mode=0o777, exist_ok=True)\n",
    "    \n",
    "# Create data farame out of hdf5 file dataset\n",
    "data = data_tools.load_data(dataset_path, tdc.value, mode='processed')"
   ]
  },
  {
   "cell_type": "code",
   "execution_count": 25,
   "metadata": {
    "pycharm": {
     "name": "#%%\n"
    },
    "tags": []
   },
   "outputs": [
    {
     "name": "stdout",
     "output_type": "stream",
     "text": [
      "The data will be saved on the path: D:/pyccapt/tests/data/OLO_AL_6_data\n",
      "=============================\n",
      "The dataset name after saving is: ions_selection_tof_calibration_cropped_OLO_AL_6_data\n",
      "=============================\n",
      "The figures will be saved on the path: D:/pyccapt/tests/data/OLO_AL_6_data//ions_selection/\n",
      "=============================\n",
      "Total number of Ions: 1865061\n"
     ]
    },
    {
     "data": {
      "text/html": [
       "<div>\n",
       "<style scoped>\n",
       "    .dataframe tbody tr th:only-of-type {\n",
       "        vertical-align: middle;\n",
       "    }\n",
       "\n",
       "    .dataframe tbody tr th {\n",
       "        vertical-align: top;\n",
       "    }\n",
       "\n",
       "    .dataframe thead th {\n",
       "        text-align: right;\n",
       "    }\n",
       "</style>\n",
       "<table border=\"1\" class=\"dataframe\">\n",
       "  <thead>\n",
       "    <tr style=\"text-align: right;\">\n",
       "      <th></th>\n",
       "      <th>x (nm)</th>\n",
       "      <th>y (nm)</th>\n",
       "      <th>z (nm)</th>\n",
       "      <th>mc_c (Da)</th>\n",
       "      <th>mc (Da)</th>\n",
       "      <th>high_voltage (V)</th>\n",
       "      <th>pulse</th>\n",
       "      <th>start_counter</th>\n",
       "      <th>t_c (ns)</th>\n",
       "      <th>t (ns)</th>\n",
       "      <th>x_det (cm)</th>\n",
       "      <th>y_det (cm)</th>\n",
       "      <th>pulse_pi</th>\n",
       "      <th>ion_pp</th>\n",
       "    </tr>\n",
       "  </thead>\n",
       "  <tbody>\n",
       "    <tr>\n",
       "      <th>0</th>\n",
       "      <td>0.0</td>\n",
       "      <td>0.0</td>\n",
       "      <td>0.0</td>\n",
       "      <td>27.527876</td>\n",
       "      <td>27.400991</td>\n",
       "      <td>5263.160645</td>\n",
       "      <td>5263.160645</td>\n",
       "      <td>24501</td>\n",
       "      <td>615.666522</td>\n",
       "      <td>629.290080</td>\n",
       "      <td>-0.544408</td>\n",
       "      <td>-1.117469</td>\n",
       "      <td>0</td>\n",
       "      <td>0</td>\n",
       "    </tr>\n",
       "    <tr>\n",
       "      <th>1</th>\n",
       "      <td>0.0</td>\n",
       "      <td>0.0</td>\n",
       "      <td>0.0</td>\n",
       "      <td>27.048185</td>\n",
       "      <td>27.451994</td>\n",
       "      <td>5263.160645</td>\n",
       "      <td>5263.160645</td>\n",
       "      <td>25308</td>\n",
       "      <td>610.885941</td>\n",
       "      <td>642.745476</td>\n",
       "      <td>-0.977388</td>\n",
       "      <td>2.480082</td>\n",
       "      <td>807</td>\n",
       "      <td>2</td>\n",
       "    </tr>\n",
       "    <tr>\n",
       "      <th>2</th>\n",
       "      <td>0.0</td>\n",
       "      <td>0.0</td>\n",
       "      <td>0.0</td>\n",
       "      <td>27.001281</td>\n",
       "      <td>27.008272</td>\n",
       "      <td>5263.160645</td>\n",
       "      <td>5263.160645</td>\n",
       "      <td>25411</td>\n",
       "      <td>610.416149</td>\n",
       "      <td>625.195854</td>\n",
       "      <td>0.780000</td>\n",
       "      <td>0.977388</td>\n",
       "      <td>103</td>\n",
       "      <td>1</td>\n",
       "    </tr>\n",
       "    <tr>\n",
       "      <th>3</th>\n",
       "      <td>0.0</td>\n",
       "      <td>0.0</td>\n",
       "      <td>0.0</td>\n",
       "      <td>27.218993</td>\n",
       "      <td>27.270453</td>\n",
       "      <td>5263.160645</td>\n",
       "      <td>5263.160645</td>\n",
       "      <td>25674</td>\n",
       "      <td>612.593216</td>\n",
       "      <td>636.964182</td>\n",
       "      <td>0.971020</td>\n",
       "      <td>2.120327</td>\n",
       "      <td>263</td>\n",
       "      <td>1</td>\n",
       "    </tr>\n",
       "    <tr>\n",
       "      <th>4</th>\n",
       "      <td>0.0</td>\n",
       "      <td>0.0</td>\n",
       "      <td>0.0</td>\n",
       "      <td>27.592954</td>\n",
       "      <td>26.977407</td>\n",
       "      <td>5263.160645</td>\n",
       "      <td>5263.160645</td>\n",
       "      <td>26234</td>\n",
       "      <td>616.311750</td>\n",
       "      <td>642.718044</td>\n",
       "      <td>2.072571</td>\n",
       "      <td>-2.247673</td>\n",
       "      <td>560</td>\n",
       "      <td>1</td>\n",
       "    </tr>\n",
       "    <tr>\n",
       "      <th>...</th>\n",
       "      <td>...</td>\n",
       "      <td>...</td>\n",
       "      <td>...</td>\n",
       "      <td>...</td>\n",
       "      <td>...</td>\n",
       "      <td>...</td>\n",
       "      <td>...</td>\n",
       "      <td>...</td>\n",
       "      <td>...</td>\n",
       "      <td>...</td>\n",
       "      <td>...</td>\n",
       "      <td>...</td>\n",
       "      <td>...</td>\n",
       "      <td>...</td>\n",
       "    </tr>\n",
       "    <tr>\n",
       "      <th>1865056</th>\n",
       "      <td>0.0</td>\n",
       "      <td>0.0</td>\n",
       "      <td>0.0</td>\n",
       "      <td>27.130503</td>\n",
       "      <td>26.662453</td>\n",
       "      <td>5710.793945</td>\n",
       "      <td>5710.793945</td>\n",
       "      <td>24534</td>\n",
       "      <td>611.709426</td>\n",
       "      <td>613.146348</td>\n",
       "      <td>1.579102</td>\n",
       "      <td>-2.365469</td>\n",
       "      <td>2</td>\n",
       "      <td>1</td>\n",
       "    </tr>\n",
       "    <tr>\n",
       "      <th>1865057</th>\n",
       "      <td>0.0</td>\n",
       "      <td>0.0</td>\n",
       "      <td>0.0</td>\n",
       "      <td>27.280111</td>\n",
       "      <td>27.800477</td>\n",
       "      <td>5710.793945</td>\n",
       "      <td>5710.793945</td>\n",
       "      <td>24644</td>\n",
       "      <td>613.202760</td>\n",
       "      <td>620.381538</td>\n",
       "      <td>-2.091673</td>\n",
       "      <td>1.286204</td>\n",
       "      <td>110</td>\n",
       "      <td>1</td>\n",
       "    </tr>\n",
       "    <tr>\n",
       "      <th>1865058</th>\n",
       "      <td>0.0</td>\n",
       "      <td>0.0</td>\n",
       "      <td>0.0</td>\n",
       "      <td>27.031051</td>\n",
       "      <td>27.405944</td>\n",
       "      <td>5710.793945</td>\n",
       "      <td>5710.793945</td>\n",
       "      <td>24774</td>\n",
       "      <td>610.714381</td>\n",
       "      <td>609.010974</td>\n",
       "      <td>-1.505878</td>\n",
       "      <td>0.684490</td>\n",
       "      <td>130</td>\n",
       "      <td>1</td>\n",
       "    </tr>\n",
       "    <tr>\n",
       "      <th>1865059</th>\n",
       "      <td>0.0</td>\n",
       "      <td>0.0</td>\n",
       "      <td>0.0</td>\n",
       "      <td>26.971629</td>\n",
       "      <td>26.813825</td>\n",
       "      <td>5710.793945</td>\n",
       "      <td>5710.793945</td>\n",
       "      <td>25014</td>\n",
       "      <td>610.118935</td>\n",
       "      <td>623.460780</td>\n",
       "      <td>2.747510</td>\n",
       "      <td>2.142612</td>\n",
       "      <td>240</td>\n",
       "      <td>1</td>\n",
       "    </tr>\n",
       "    <tr>\n",
       "      <th>1865060</th>\n",
       "      <td>0.0</td>\n",
       "      <td>0.0</td>\n",
       "      <td>0.0</td>\n",
       "      <td>27.068720</td>\n",
       "      <td>27.367084</td>\n",
       "      <td>5710.793945</td>\n",
       "      <td>5710.793945</td>\n",
       "      <td>25851</td>\n",
       "      <td>611.091493</td>\n",
       "      <td>612.302814</td>\n",
       "      <td>-2.088490</td>\n",
       "      <td>-0.156000</td>\n",
       "      <td>837</td>\n",
       "      <td>1</td>\n",
       "    </tr>\n",
       "  </tbody>\n",
       "</table>\n",
       "<p>1865061 rows × 14 columns</p>\n",
       "</div>"
      ],
      "text/plain": [
       "         x (nm)  y (nm)  z (nm)  mc_c (Da)    mc (Da)  high_voltage (V)  \\\n",
       "0           0.0     0.0     0.0  27.527876  27.400991       5263.160645   \n",
       "1           0.0     0.0     0.0  27.048185  27.451994       5263.160645   \n",
       "2           0.0     0.0     0.0  27.001281  27.008272       5263.160645   \n",
       "3           0.0     0.0     0.0  27.218993  27.270453       5263.160645   \n",
       "4           0.0     0.0     0.0  27.592954  26.977407       5263.160645   \n",
       "...         ...     ...     ...        ...        ...               ...   \n",
       "1865056     0.0     0.0     0.0  27.130503  26.662453       5710.793945   \n",
       "1865057     0.0     0.0     0.0  27.280111  27.800477       5710.793945   \n",
       "1865058     0.0     0.0     0.0  27.031051  27.405944       5710.793945   \n",
       "1865059     0.0     0.0     0.0  26.971629  26.813825       5710.793945   \n",
       "1865060     0.0     0.0     0.0  27.068720  27.367084       5710.793945   \n",
       "\n",
       "               pulse  start_counter    t_c (ns)      t (ns)  x_det (cm)  \\\n",
       "0        5263.160645          24501  615.666522  629.290080   -0.544408   \n",
       "1        5263.160645          25308  610.885941  642.745476   -0.977388   \n",
       "2        5263.160645          25411  610.416149  625.195854    0.780000   \n",
       "3        5263.160645          25674  612.593216  636.964182    0.971020   \n",
       "4        5263.160645          26234  616.311750  642.718044    2.072571   \n",
       "...              ...            ...         ...         ...         ...   \n",
       "1865056  5710.793945          24534  611.709426  613.146348    1.579102   \n",
       "1865057  5710.793945          24644  613.202760  620.381538   -2.091673   \n",
       "1865058  5710.793945          24774  610.714381  609.010974   -1.505878   \n",
       "1865059  5710.793945          25014  610.118935  623.460780    2.747510   \n",
       "1865060  5710.793945          25851  611.091493  612.302814   -2.088490   \n",
       "\n",
       "         y_det (cm)  pulse_pi  ion_pp  \n",
       "0         -1.117469         0       0  \n",
       "1          2.480082       807       2  \n",
       "2          0.977388       103       1  \n",
       "3          2.120327       263       1  \n",
       "4         -2.247673       560       1  \n",
       "...             ...       ...     ...  \n",
       "1865056   -2.365469         2       1  \n",
       "1865057    1.286204       110       1  \n",
       "1865058    0.684490       130       1  \n",
       "1865059    2.142612       240       1  \n",
       "1865060   -0.156000       837       1  \n",
       "\n",
       "[1865061 rows x 14 columns]"
      ]
     },
     "execution_count": 25,
     "metadata": {},
     "output_type": "execute_result"
    }
   ],
   "source": [
    "print('The data will be saved on the path:', variables.result_data_path)\n",
    "print('=============================')\n",
    "print('The dataset name after saving is:', variables.result_data_name)\n",
    "print('=============================')\n",
    "print('The figures will be saved on the path:', variables.result_path)\n",
    "print('=============================')\n",
    "print('Total number of Ions:', len(data))\n",
    "data"
   ]
  },
  {
   "cell_type": "code",
   "execution_count": 42,
   "metadata": {
    "tags": []
   },
   "outputs": [
    {
     "name": "stdout",
     "output_type": "stream",
     "text": [
      "The maximum time of flight: 5010\n"
     ]
    }
   ],
   "source": [
    "# extract data from the path and create the Variable object\n",
    "data_tools.extract_data(data, variables, flightPathLength_d.value, max_mc.value)"
   ]
  },
  {
   "cell_type": "code",
   "execution_count": 43,
   "metadata": {
    "pycharm": {
     "name": "#%%\n"
    },
    "tags": []
   },
   "outputs": [
    {
     "name": "stderr",
     "output_type": "stream",
     "text": [
      "C:\\Users\\APTUser\\AppData\\Local\\Temp\\ipykernel_7828\\4163154723.py:1: DeprecationWarning: on_submit is deprecated. Instead, set the .continuous_update attribute to False and observe the value changing with: mywidget.observe(callback, 'value').\n",
      "  interact_manual(tools.mc_hist_plot, variables=fixed(variables), bin_size=widgets.FloatText(value=0.1),\n"
     ]
    },
    {
     "data": {
      "application/vnd.jupyter.widget-view+json": {
       "model_id": "6a5ede32eb534e87a549a49ede416130",
       "version_major": 2,
       "version_minor": 0
      },
      "text/plain": [
       "interactive(children=(FloatText(value=0.1, description='bin_size'), Dropdown(description='mode', options=(('mc…"
      ]
     },
     "metadata": {},
     "output_type": "display_data"
    }
   ],
   "source": [
    "interact_manual(tools.mc_hist_plot, variables=fixed(variables), bin_size=widgets.FloatText(value=0.1), \n",
    "                mode=widgets.Dropdown(options=[('mc_c', 'mc_c'), ('tof_c', 'tof_c')]), prominence=widgets.IntText(value=50), distance=widgets.IntText(value=100), \n",
    "                lim=widgets.IntText(value=400), percent=widgets.IntText(value=50), selector=fixed('None'), plot=fixed(True), figname=widgets.Text(value='hist'),\n",
    "                peaks_find_plot=fixed(True));"
   ]
  },
  {
   "cell_type": "code",
   "execution_count": 74,
   "metadata": {
    "tags": []
   },
   "outputs": [],
   "source": [
    "bin_size=widgets.FloatText(value=0.1, description='bin size:')\n",
    "prominence=widgets.IntText(value=100, description='peak prominance:')\n",
    "distance=widgets.IntText(value=500, description='peak distance:')\n",
    "lim_tof=widgets.IntText(value=400, description='lim tof/mc:')\n",
    "percent=widgets.IntText(value=50, description='percent MRP:')\n",
    "index_fig = widgets.IntText(value=1, description='fig index:')\n",
    "plot_peak = widgets.Dropdown(\n",
    "    options=[('True', True), ('False', False)],\n",
    "    description='plot peak:'\n",
    ")\n",
    "\n",
    "def hist_plot(variables, plot):\n",
    "    \n",
    "    with out:\n",
    "        clear_output(True)\n",
    "    \n",
    "        bin_size_p = bin_size.value\n",
    "        prominence_p = prominence.value\n",
    "        distance_p = distance.value\n",
    "        lim_tof_p = lim_tof.value\n",
    "        percent_p = percent.value\n",
    "        index_fig_p = index_fig.value\n",
    "        plot_peak_p = plot_peak.value\n",
    "        tools.mc_hist_plot(variables, bin_size_p, mode='mc_c', prominence=prominence_p, distance=distance_p, percent=percent_p, selector='range', plot=True, figname=index_fig_p, lim=lim_tof_p,\n",
    "                          peaks_find_plot=plot_peak_p)"
   ]
  },
  {
   "cell_type": "code",
   "execution_count": 75,
   "metadata": {
    "tags": []
   },
   "outputs": [],
   "source": [
    "peak_val = widgets.FloatText(value=1.1, description='peak value:')\n",
    "charge = widgets.Dropdown(\n",
    "    options=[('1', 1), ('2', 2), ('3', 3), ('4', 4)],\n",
    "    value=3,\n",
    "    description='charge:'\n",
    ")\n",
    "aboundance_threshold = widgets.FloatText(value=1, description='aboundance threshold:')\n",
    "mode = widgets.Dropdown(\n",
    "    options=[('elements', 'elements'), ('molecules', 'molecules')],\n",
    "    value='elements',\n",
    "    description='mode:'\n",
    ")\n",
    "\n",
    "num_element = widgets.IntText(value=1, description='num element:')\n",
    "# element_threshold = widgets.FloatText(value=1.0, description='Aboundance threshold:')\n",
    "\n",
    "def element_finder():\n",
    "    with out:\n",
    "        peak_val_s = peak_val.value\n",
    "        charge_s = charge.value\n",
    "        num_element_s = num_element.value\n",
    "#         num_molecule_s = num_molecule.value\n",
    "        mode_s = mode.value\n",
    "#         element_threshold_s = element_threshold.value\n",
    "        aboundance_threshold_s = aboundance_threshold.value\n",
    "        clear_output(True)\n",
    "        if mode_s == 'elements':\n",
    "            df = ion_selection.find_close_element(peak_val_s, num_element_s, aboundance_threshold_s, charge=charge_s)\n",
    "        elif mode_s == 'molecules':\n",
    "            df = ion_selection.find_close_molecule(peak_val_s, num_element_s, aboundance_threshold_s, charge=charge_s)\n",
    "        display(df)"
   ]
  },
  {
   "cell_type": "code",
   "execution_count": 76,
   "metadata": {
    "tags": []
   },
   "outputs": [],
   "source": [
    "isotope_formula = widgets.Text(\n",
    "    value='',\n",
    "    placeholder='Type a formula',\n",
    "    description='Isotope formula:',\n",
    "    disabled=False\n",
    ")\n",
    "\n",
    "def manual_formula_calculator():\n",
    "    isotopeTableFile = '../../../files/isotopeTable.h5'\n",
    "    dataframe = data_tools.read_hdf5_through_pandas(isotopeTableFile)\n",
    "    df = ion_selection.molecule_isotop_list(dataframe, isotope_formula.value)\n",
    "    with out:\n",
    "        df = ion_selection.molecule_isotop_list(dataframe, isotope_formula.value)\n",
    "        clear_output(True)\n",
    "        display(df)"
   ]
  },
  {
   "cell_type": "code",
   "execution_count": 77,
   "metadata": {
    "tags": []
   },
   "outputs": [],
   "source": [
    "isotopeTableFile = '../../../files/isotopeTable.h5'\n",
    "dataframe = data_tools.read_hdf5_through_pandas(isotopeTableFile)\n",
    "elementsList = dataframe['element']\n",
    "elementIsotopeList = dataframe['isotope']\n",
    "elementMassList =  dataframe['weight']\n",
    "abundanceList = dataframe['abundance']\n",
    "dropdownDict = {'element': elementsList, 'isotope': elementIsotopeList}\n",
    "\n",
    "elements = list(zip(elementsList, elementIsotopeList, elementMassList, abundanceList))\n",
    "dropdownList = []\n",
    "for element in elements:\n",
    "    tupleElement = (\"{} ({}) ({:.2f})\".format(element[0],element[1],element[3]), \"{}({})\".format(element[0], element[1]))\n",
    "    dropdownList.append(tupleElement)\n",
    "\n",
    "dropdown = wd.dropdownWidget(dropdownList, \"Elements\")\n",
    "dropdown.observe(wd.on_change_ions_selection)\n",
    "\n",
    "chargeList = [(1,1,),(2,2,),(3,3,),(4,4,)]\n",
    "chargeDropdown = wd.dropdownWidget(chargeList, \"Charge\")\n",
    "chargeDropdown.observe(wd.on_change_charge_ions_selection)\n",
    "\n",
    "# wd.compute_element_isotope_values_according_to_selected_charge(mode='ions_selection')\n",
    "\n",
    "buttonAdd = wd.buttonWidget(\"ADD\")\n",
    "buttonDelete = wd.buttonWidget(\"DELETE\")\n",
    "buttonReset = wd.buttonWidget(\"RESET\")\n",
    "\n",
    "def buttonAdd_f(b,):\n",
    "    with out:\n",
    "        clear_output(True)\n",
    "        wd.onClickAdd(b,)\n",
    "        display()\n",
    "def buttonDelete_f(b,):\n",
    "    with out:\n",
    "        clear_output(True)\n",
    "        variables.listMaterial.pop()\n",
    "        variables.element.pop()\n",
    "        variables.isotope.pop()\n",
    "        variables.charge.pop()\n",
    "        print(\"Updated List : \", variables.listMaterial)\n",
    "        print(\"Updated element List : \", variables.element)\n",
    "        print(\"Updated isotope List : \",  variables.isotope)\n",
    "        print(\"Updated charge List : \", variables.charge)\n",
    "def buttonResett_f(b,):\n",
    "    with out:\n",
    "        clear_output(True)\n",
    "        wd.onClickReset(b,)\n",
    "        display()\n",
    "\n",
    "buttonAdd.on_click(buttonAdd_f)\n",
    "buttonDelete.on_click(buttonDelete_f)\n",
    "buttonReset.on_click(buttonResett_f)\n",
    "\n",
    "add_button = widgets.Button(\n",
    "    description='add molecule',\n",
    ")\n",
    "\n",
    "peak_molecule = widgets.Text(\n",
    "    value='',\n",
    "    placeholder='molecule: H(1)2O(16)(2+)',\n",
    "    description='molecule:',\n",
    "    disabled=False\n",
    ")\n",
    "peak_molecule_elements = widgets.Text(\n",
    "    value='',\n",
    "    placeholder='elements: H,O',\n",
    "    description='elements:',\n",
    "    disabled=False\n",
    ")\n",
    "peak_molecule_isotope = widgets.Text(\n",
    "    value='',\n",
    "    placeholder='isotope: 1,16',\n",
    "    description='isotope:',\n",
    "    disabled=False\n",
    ")\n",
    "peak_molecule_charge = widgets.IntText(\n",
    "    placeholder='charge: 3',\n",
    "    description='charge:',\n",
    "    disabled=False\n",
    ")\n",
    "\n",
    "@add_button.on_click\n",
    "def add_molucule_to(b,):\n",
    "    with out:\n",
    "        clear_output(True)\n",
    "        if peak_molecule.value == 'unranged':\n",
    "            variables.listMaterial.append(peak_molecule.value)\n",
    "            variables.element.append(peak_molecule.value)\n",
    "            variables.isotope.append(0)\n",
    "            variables.charge.append(0)\n",
    "        else:\n",
    "            variables.listMaterial.append(peak_molecule.value)\n",
    "            variables.element.append(peak_molecule_elements.value.split(','))\n",
    "            variables.isotope.append(peak_molecule_isotope.value.split(','))\n",
    "            variables.charge.append(peak_molecule_charge.value)\n",
    "        print(\"Updated List : \", variables.listMaterial)\n",
    "        print(\"Updated element List : \", variables.element)\n",
    "        print(\"Updated isotope List : \",  variables.isotope)\n",
    "        print(\"Updated charge List : \", variables.charge)"
   ]
  },
  {
   "cell_type": "code",
   "execution_count": 91,
   "metadata": {
    "tags": []
   },
   "outputs": [
    {
     "data": {
      "application/vnd.jupyter.widget-view+json": {
       "model_id": "28a2a3fc8f9549349a96552dfb3e75ea",
       "version_major": 2,
       "version_minor": 0
      },
      "text/plain": [
       "VBox(children=(Tab(children=(VBox(children=(FloatText(value=0.1, description='bin size:'), IntText(value=1, de…"
      ]
     },
     "metadata": {},
     "output_type": "display_data"
    },
    {
     "data": {
      "application/vnd.jupyter.widget-view+json": {
       "model_id": "f53b6601ad2f4190875be1643ab62912",
       "version_major": 2,
       "version_minor": 0
      },
      "text/plain": [
       "Output()"
      ]
     },
     "metadata": {},
     "output_type": "display_data"
    }
   ],
   "source": [
    "plot_button = widgets.Button(\n",
    "    description='plot hist',\n",
    ")\n",
    "\n",
    "find_button = widgets.Button(\n",
    "    description='find element',\n",
    ")\n",
    "\n",
    "formula_find_button = widgets.Button(\n",
    "    description='molecule calculate',\n",
    ")\n",
    "\n",
    "plot_fdm_button = widgets.Button(\n",
    "    description='plot FDM',\n",
    ")\n",
    "bin_fdm = widgets.IntText(value=256, description='bin FDM:')\n",
    "\n",
    "@plot_fdm_button.on_click\n",
    "def plot_fdm_on_click(b, variables=variables, save=True):\n",
    "    with out:\n",
    "        clear_output(True)\n",
    "        if variables.selected_x1 == 0 or variables.selected_x2 == 0:\n",
    "            print('Please first select a peak')\n",
    "        else:\n",
    "            print('Selected tof are: (%s, %s)' %(variables.selected_x1, variables.selected_x2)) \n",
    "            mask_temporal = np.logical_and((variables.dld_t_calib > variables.selected_x1),\n",
    "                                           (variables.dld_t_calib < variables.selected_x2))\n",
    "            x = variables.dld_x_det[mask_temporal]\n",
    "            y = variables.dld_y_det[mask_temporal]\n",
    "            bin_fdm_p = bin_fdm.value\n",
    "            index_fig_p = index_fig.value\n",
    "            bins = [bin_fdm_p, bin_fdm_p]\n",
    "\n",
    "            calibration.plot_fdm(x, y, variables, save, bins, index_fig_p)\n",
    "            \n",
    "@plot_button.on_click\n",
    "def plot_on_click(b, figname='fff', plot=True):\n",
    "    hist_plot(variables, plot)\n",
    "\n",
    "    \n",
    "@find_button.on_click\n",
    "def vol_on_click(b,):\n",
    "    element_finder()\n",
    "    \n",
    "@formula_find_button.on_click\n",
    "def manual_formula(b,):\n",
    "    manual_formula_calculator()\n",
    "    \n",
    "tab1 = VBox(children=[bin_size, index_fig, prominence, distance, lim_tof, percent, bin_fdm, plot_peak])\n",
    "tab2 = HBox(children=[VBox(children=[peak_val, num_element, charge, aboundance_threshold, mode, \n",
    "                      find_button]),HBox(children=[isotope_formula, formula_find_button])])\n",
    "tab3 = VBox(children=[dropdown, chargeDropdown, buttonAdd, buttonDelete, buttonReset])\n",
    "tab4 = VBox(children=[peak_molecule, peak_molecule_elements, peak_molecule_isotope, peak_molecule_charge, add_button])\n",
    "\n",
    "\n",
    "tab = widgets.Tab(children=[tab1, tab2, tab3, tab4])\n",
    "tab.set_title(0, 'mc plot')\n",
    "tab.set_title(1, 'element finder')\n",
    "tab.set_title(2, 'add ions')\n",
    "tab.set_title(3, 'add molecules')\n",
    "\n",
    "\n",
    "display(VBox(children=[tab,HBox(children=[plot_button, plot_fdm_button])]))\n",
    "out = Output()\n",
    "display(out)\n",
    "# unranged\t"
   ]
  },
  {
   "cell_type": "code",
   "execution_count": 79,
   "metadata": {
    "tags": []
   },
   "outputs": [],
   "source": [
    "fake = Factory.create()\n",
    "data_table = '../../../files/color_scheme.h5'\n",
    "dataframe = data_tools.read_hdf5_through_pandas(data_table)\n",
    "color_list = []\n",
    "for i in range(len(variables.listMaterial)):\n",
    "    element_selec = re.sub(\"[\\(\\[].*?[\\)\\]]\", \"\", variables.listMaterial[i])\n",
    "    if len(re.findall(r'[A-Z]', element_selec)) > 1:\n",
    "        try:\n",
    "            r = dataframe[dataframe['ion'] == re.sub(r'[0-9]', '', element_selec)]['r'].to_numpy()\n",
    "            g = dataframe[dataframe['ion'] == re.sub(r'[0-9]', '', element_selec)]['g'].to_numpy()\n",
    "            b = dataframe[dataframe['ion'] == re.sub(r'[0-9]', '', element_selec)]['b'].to_numpy()\n",
    "            cc = matplotlib.colors.to_hex([r[0], g[0], b[0]])\n",
    "            color_list.append(cc)\n",
    "        except:\n",
    "            print('The element is not clor list')\n",
    "            color_list.append(fake.hex_color())\n",
    "    else:\n",
    "        try:\n",
    "            r = dataframe[dataframe['ion'] == re.sub(r'[0-9]', '', element_selec)]['r'].to_numpy()\n",
    "            g = dataframe[dataframe['ion'] == re.sub(r'[0-9]', '', element_selec)]['g'].to_numpy()\n",
    "            b = dataframe[dataframe['ion'] == re.sub(r'[0-9]', '', element_selec)]['b'].to_numpy()\n",
    "            cc = matplotlib.colors.to_hex([r[0], g[0], b[0]])\n",
    "            color_list.append(cc)\n",
    "        except:\n",
    "            print('The element is not clor list')\n",
    "            color_list.append(fake.hex_color())"
   ]
  },
  {
   "cell_type": "code",
   "execution_count": 33,
   "metadata": {
    "tags": []
   },
   "outputs": [],
   "source": [
    "peak_width_chos = []\n",
    "for i in range(len(variables.peaks_idx)):\n",
    "    peak_width_chos.append(variables.peak_width[variables.peaks_idx[i]])\n",
    "peak_width_chos = np.array(peak_width_chos)"
   ]
  },
  {
   "cell_type": "code",
   "execution_count": 34,
   "metadata": {
    "tags": []
   },
   "outputs": [],
   "source": [
    "range_data = pd.DataFrame({\"element\": variables.element, \"isotope\": variables.isotope, \"charge\": variables.charge,\n",
    "        \"mc_low\": [item[1] for item in peak_width_chos],\n",
    "       \"mc_up\": [item[2] for item in peak_width_chos],\"color\": color_list})"
   ]
  },
  {
   "cell_type": "code",
   "execution_count": 35,
   "metadata": {
    "tags": []
   },
   "outputs": [
    {
     "data": {
      "application/vnd.jupyter.widget-view+json": {
       "model_id": "31c1882539fb4433aa1d945d9c2e9efd",
       "version_major": 2,
       "version_minor": 0
      },
      "text/plain": [
       "Sheet(cells=(Cell(column_end=0, column_start=0, numeric_format=None, row_end=2, row_start=0, squeeze_row=False…"
      ]
     },
     "execution_count": 35,
     "metadata": {},
     "output_type": "execute_result"
    }
   ],
   "source": [
    "sheet7 = ipysheet.from_dataframe(range_data)\n",
    "sheet7"
   ]
  },
  {
   "cell_type": "code",
   "execution_count": 38,
   "metadata": {
    "tags": []
   },
   "outputs": [
    {
     "data": {
      "text/html": [
       "<div>\n",
       "<style scoped>\n",
       "    .dataframe tbody tr th:only-of-type {\n",
       "        vertical-align: middle;\n",
       "    }\n",
       "\n",
       "    .dataframe tbody tr th {\n",
       "        vertical-align: top;\n",
       "    }\n",
       "\n",
       "    .dataframe thead th {\n",
       "        text-align: right;\n",
       "    }\n",
       "</style>\n",
       "<table border=\"1\" class=\"dataframe\">\n",
       "  <thead>\n",
       "    <tr style=\"text-align: right;\">\n",
       "      <th></th>\n",
       "      <th>element</th>\n",
       "      <th>isotope</th>\n",
       "      <th>charge</th>\n",
       "      <th>mc_low</th>\n",
       "      <th>mc_up</th>\n",
       "      <th>color</th>\n",
       "    </tr>\n",
       "  </thead>\n",
       "  <tbody>\n",
       "    <tr>\n",
       "      <th>0</th>\n",
       "      <td>H</td>\n",
       "      <td>1</td>\n",
       "      <td>1</td>\n",
       "      <td>0.802639</td>\n",
       "      <td>1.103087</td>\n",
       "      <td>#b2aa2d</td>\n",
       "    </tr>\n",
       "    <tr>\n",
       "      <th>1</th>\n",
       "      <td>Al</td>\n",
       "      <td>27</td>\n",
       "      <td>2</td>\n",
       "      <td>13.000000</td>\n",
       "      <td>13.950000</td>\n",
       "      <td>#e7e0d1</td>\n",
       "    </tr>\n",
       "    <tr>\n",
       "      <th>2</th>\n",
       "      <td>Al</td>\n",
       "      <td>27</td>\n",
       "      <td>1</td>\n",
       "      <td>26.000000</td>\n",
       "      <td>29.000000</td>\n",
       "      <td>#e7e0d1</td>\n",
       "    </tr>\n",
       "  </tbody>\n",
       "</table>\n",
       "</div>"
      ],
      "text/plain": [
       "  element  isotope  charge     mc_low      mc_up    color\n",
       "0       H        1       1   0.802639   1.103087  #b2aa2d\n",
       "1      Al       27       2  13.000000  13.950000  #e7e0d1\n",
       "2      Al       27       1  26.000000  29.000000  #e7e0d1"
      ]
     },
     "execution_count": 38,
     "metadata": {},
     "output_type": "execute_result"
    }
   ],
   "source": [
    "range_data = ipysheet.to_dataframe(sheet7)\n",
    "range_data"
   ]
  },
  {
   "cell_type": "code",
   "execution_count": 40,
   "metadata": {
    "tags": []
   },
   "outputs": [
    {
     "data": {
      "application/vnd.jupyter.widget-view+json": {
       "model_id": "5f17c2d0976c46ff859b46e213ffe27c",
       "version_major": 2,
       "version_minor": 0
      },
      "text/plain": [
       "interactive(children=(FloatText(value=0.1, description='bin_size'), IntText(value=50, description='prominence'…"
      ]
     },
     "metadata": {},
     "output_type": "display_data"
    }
   ],
   "source": [
    "def mc_hist_plot(data, range_data, bin_size, prominence, distance, percent, selector, plot, figname, lim_mc, mc_peak_label, ranging, adjust_label):\n",
    "    mc = data['mc_c (Da)'].to_numpy()\n",
    "    peaks_ini, peaks_y_ini, peak_widths_p_ini, _ = tools.hist_plot(mc[mc < lim_mc], bin_size, range_data=range_data, mc_peak_label=mc_peak_label, ranging=ranging, adjust_label=adjust_label, distance=distance, percent=percent, prominence=prominence, selector=selector, plot=plot, label='mc', fig_name=figname+'_ini')\n",
    "    index_max_ini = np.argmax(peaks_y_ini)\n",
    "    variables.max_peak = peaks_ini[index_max_ini]\n",
    "    variables.peak = peaks_ini\n",
    "    mrp = (peaks_ini[index_max_ini] / (peak_widths_p_ini[index_max_ini][2] - peak_widths_p_ini[index_max_ini][1]))\n",
    "    print('Mass resolving power for the highest peak (MRP --> m/m_2-m_1):', mrp)\n",
    "    for i in range(len(peaks_ini)):\n",
    "        print('Peaks ', i, 'is at location and height: ({:.2f}, {:.2f})'.format(peaks_ini[i], peaks_y_ini[i]), 'peak window sides (half-maximum) are: ({:.2f}, {:.2f})'.format(peak_widths_p_ini[i][1], peak_widths_p_ini[i][2]))\n",
    "\n",
    "interact_manual(mc_hist_plot, data=fixed(data), range_data=fixed(range_data), bin_size=widgets.FloatText(value=0.1)\n",
    "               ,prominence=widgets.IntText(value=50), distance=widgets.IntText(value=100), lim_mc=widgets.IntText(value=150)\n",
    "               ,percent=widgets.IntText(value=50), selector=fixed('rect'), plot=fixed(True), figname=fixed(figname),\n",
    "               mc_peak_label=widgets.Dropdown(options=[('True', True), ('False', False)]),\n",
    "                ranging=widgets.Dropdown(options=[('True', True), ('False', False)]),\n",
    "                adjust_label=widgets.Dropdown(options=[('True', True), ('False', False)]));\n"
   ]
  },
  {
   "cell_type": "code",
   "execution_count": 42,
   "metadata": {
    "tags": []
   },
   "outputs": [
    {
     "data": {
      "text/html": [
       "<div>\n",
       "<style scoped>\n",
       "    .dataframe tbody tr th:only-of-type {\n",
       "        vertical-align: middle;\n",
       "    }\n",
       "\n",
       "    .dataframe tbody tr th {\n",
       "        vertical-align: top;\n",
       "    }\n",
       "\n",
       "    .dataframe thead th {\n",
       "        text-align: right;\n",
       "    }\n",
       "</style>\n",
       "<table border=\"1\" class=\"dataframe\">\n",
       "  <thead>\n",
       "    <tr style=\"text-align: right;\">\n",
       "      <th></th>\n",
       "      <th>element</th>\n",
       "      <th>isotope</th>\n",
       "      <th>charge</th>\n",
       "      <th>mc_low</th>\n",
       "      <th>mc_up</th>\n",
       "      <th>color</th>\n",
       "    </tr>\n",
       "  </thead>\n",
       "  <tbody>\n",
       "    <tr>\n",
       "      <th>0</th>\n",
       "      <td>H</td>\n",
       "      <td>1</td>\n",
       "      <td>1</td>\n",
       "      <td>0.802639</td>\n",
       "      <td>1.103087</td>\n",
       "      <td>#b2aa2d</td>\n",
       "    </tr>\n",
       "    <tr>\n",
       "      <th>1</th>\n",
       "      <td>Al</td>\n",
       "      <td>27</td>\n",
       "      <td>2</td>\n",
       "      <td>13.000000</td>\n",
       "      <td>13.950000</td>\n",
       "      <td>#e7e0d1</td>\n",
       "    </tr>\n",
       "    <tr>\n",
       "      <th>2</th>\n",
       "      <td>Al</td>\n",
       "      <td>27</td>\n",
       "      <td>1</td>\n",
       "      <td>26.000000</td>\n",
       "      <td>29.000000</td>\n",
       "      <td>#e7e0d1</td>\n",
       "    </tr>\n",
       "  </tbody>\n",
       "</table>\n",
       "</div>"
      ],
      "text/plain": [
       "  element  isotope  charge     mc_low      mc_up    color\n",
       "0       H        1       1   0.802639   1.103087  #b2aa2d\n",
       "1      Al       27       2  13.000000  13.950000  #e7e0d1\n",
       "2      Al       27       1  26.000000  29.000000  #e7e0d1"
      ]
     },
     "execution_count": 42,
     "metadata": {},
     "output_type": "execute_result"
    }
   ],
   "source": [
    "range_data"
   ]
  },
  {
   "cell_type": "code",
   "execution_count": 43,
   "metadata": {
    "tags": []
   },
   "outputs": [
    {
     "data": {
      "text/plain": [
       "element     object\n",
       "isotope      int32\n",
       "charge       int32\n",
       "mc_low     float64\n",
       "mc_up      float64\n",
       "color       object\n",
       "dtype: object"
      ]
     },
     "execution_count": 43,
     "metadata": {},
     "output_type": "execute_result"
    }
   ],
   "source": [
    "range_data.dtypes"
   ]
  },
  {
   "cell_type": "code",
   "execution_count": 44,
   "metadata": {
    "pycharm": {
     "name": "#%%\n"
    },
    "tags": []
   },
   "outputs": [],
   "source": [
    "# save the new data\n",
    "name_save_file = variables.result_path + '//' + dataset_name + '.h5'\n",
    "data_tools.store_df_to_hdf(name_save_file, range_data, 'df')"
   ]
  },
  {
   "cell_type": "code",
   "execution_count": 45,
   "metadata": {
    "tags": []
   },
   "outputs": [],
   "source": [
    "# save data in csv format\n",
    "data_tools.store_df_to_csv(range_data, variables.result_path + 'range_' + dataset_name + '.csv')"
   ]
  },
  {
   "cell_type": "code",
   "execution_count": null,
   "metadata": {},
   "outputs": [],
   "source": []
  },
  {
   "cell_type": "code",
   "execution_count": null,
   "metadata": {},
   "outputs": [],
   "source": []
  }
 ],
 "metadata": {
  "kernelspec": {
   "display_name": "Python 3 (ipykernel)",
   "language": "python",
   "name": "python3"
  },
  "language_info": {
   "codemirror_mode": {
    "name": "ipython",
    "version": 3
   },
   "file_extension": ".py",
   "mimetype": "text/x-python",
   "name": "python",
   "nbconvert_exporter": "python",
   "pygments_lexer": "ipython3",
   "version": "3.8.16"
  }
 },
 "nbformat": 4,
 "nbformat_minor": 4
}

{
 "cells": [
  {
   "cell_type": "code",
   "execution_count": 9,
   "metadata": {
    "pycharm": {
     "name": "#%%\n"
    }
   },
   "outputs": [],
   "source": [
    "%matplotlib ipympl\n",
    "import os\n",
    "import os.path as path\n",
    "import pandas as pd\n",
    "import numpy as np\n",
    "from scipy.optimize import curve_fit\n",
    "from faker import Factory\n",
    "from scipy import interpolate\n",
    "from sklearn.preprocessing import MinMaxScaler\n",
    "from mpl_toolkits.mplot3d import Axes3D\n",
    "import matplotlib.pyplot as plt\n",
    "import math \n",
    "import itertools \n",
    "from ipywidgets import interact, interactive, fixed, interact_manual, widgets\n",
    "from ipywidgets import HBox, VBox\n",
    "from ipywidgets import IntSlider, Output\n",
    "from IPython.display import clear_output\n",
    "import h5py\n",
    "import re\n",
    "import matplotlib\n",
    "import ipysheet\n",
    "\n",
    "# Local module and scripts\n",
    "from pyccapt.calibration.calibration_tools import tools, data_tools, variables, calibration, data_loadcrop, ion_selection\n",
    "from pyccapt.calibration.calibration_tools import widgets as wd\n",
    "from pyccapt.calibration.calibration_tools import dataset_path_qt\n",
    "from pyccapt.calibration.leap_tools import ccapt_tools"
   ]
  },
  {
   "cell_type": "code",
   "execution_count": 2,
   "metadata": {},
   "outputs": [],
   "source": [
    "%load_ext autoreload\n",
    "%autoreload 2"
   ]
  },
  {
   "cell_type": "code",
   "execution_count": 3,
   "metadata": {},
   "outputs": [],
   "source": [
    "%reload_ext autoreload"
   ]
  },
  {
   "cell_type": "code",
   "execution_count": 4,
   "metadata": {},
   "outputs": [],
   "source": [
    "# Disable showing logging in Jupyter notebook\n",
    "import logging, sys\n",
    "logging.disable(sys.maxsize)"
   ]
  },
  {
   "cell_type": "code",
   "execution_count": 5,
   "metadata": {},
   "outputs": [
    {
     "data": {
      "application/vnd.jupyter.widget-view+json": {
       "model_id": "7e527fa6050244ac9647c423ded7e133",
       "version_major": 2,
       "version_minor": 0
      },
      "text/plain": [
       "Button(description='load dataset', style=ButtonStyle())"
      ]
     },
     "execution_count": 5,
     "metadata": {},
     "output_type": "execute_result"
    }
   ],
   "source": [
    "button = widgets.Button(\n",
    "    description='load dataset',\n",
    ")\n",
    "\n",
    "@button.on_click\n",
    "def open_file_on_click(b):\n",
    "    global dataset_path\n",
    "    dataset_path = dataset_path_qt.gui_fname().decode('ASCII')\n",
    "button"
   ]
  },
  {
   "cell_type": "code",
   "execution_count": 6,
   "metadata": {},
   "outputs": [
    {
     "data": {
      "application/vnd.jupyter.widget-view+json": {
       "model_id": "5a98fcdfe1ff42299e90b5121b82c27b",
       "version_major": 2,
       "version_minor": 0
      },
      "text/plain": [
       "Dropdown(description='Data mode:', options=('surface_concept', 'roentdec', 'leap_epos', 'leap_pos'), value='su…"
      ]
     },
     "metadata": {},
     "output_type": "display_data"
    }
   ],
   "source": [
    "tdc, pulse_mode, flightPathLength_d, t0_d, max_mc, det_diam = wd.dataset_tdc_selection()\n",
    "display(tdc)"
   ]
  },
  {
   "cell_type": "markdown",
   "metadata": {
    "pycharm": {
     "name": "#%% md\n"
    }
   },
   "source": [
    "$$\\textbf{You can specify which dataset to use in below block}$$"
   ]
  },
  {
   "cell_type": "code",
   "execution_count": 10,
   "metadata": {},
   "outputs": [],
   "source": [
    "\n",
    "\n",
    "dataset_main_path = os.path.dirname(dataset_path)\n",
    "dataset_name_with_extention = os.path.basename(dataset_path)\n",
    "dataset_name = os.path.splitext(dataset_name_with_extention)[0]\n",
    "\n",
    "\n",
    "variables.init()\n",
    "# variables.path = os.path.join(p, 'tests//data')\n",
    "variables.result_path = os.path.dirname(dataset_main_path) + '/ion_selection_ranging/'\n",
    "if not os.path.isdir(variables.result_path):\n",
    "    os.makedirs(variables.result_path, mode=0o777, exist_ok=True)\n",
    "        \n",
    "filename = dataset_path\n",
    "\n",
    "head, tail = os.path.split(filename)\n",
    "figname = os.path.splitext(tail)[0]\n",
    "\n",
    "if tdc.value == 'leap_pos' or tdc.value == 'leap_epos':\n",
    "    if tdc.value == 'leap_epos':\n",
    "        data = ccapt_tools.epos_to_ccapt(filename)\n",
    "    else:\n",
    "        data = ccapt_tools.pos_to_ccapt(filename)\n",
    "else:\n",
    "    data = data_tools.read_hdf5_through_pandas(filename)"
   ]
  },
  {
   "cell_type": "code",
   "execution_count": 11,
   "metadata": {
    "pycharm": {
     "name": "#%%\n"
    }
   },
   "outputs": [
    {
     "data": {
      "text/html": [
       "<div>\n",
       "<style scoped>\n",
       "    .dataframe tbody tr th:only-of-type {\n",
       "        vertical-align: middle;\n",
       "    }\n",
       "\n",
       "    .dataframe tbody tr th {\n",
       "        vertical-align: top;\n",
       "    }\n",
       "\n",
       "    .dataframe thead th {\n",
       "        text-align: right;\n",
       "    }\n",
       "</style>\n",
       "<table border=\"1\" class=\"dataframe\">\n",
       "  <thead>\n",
       "    <tr style=\"text-align: right;\">\n",
       "      <th></th>\n",
       "      <th>x (nm)</th>\n",
       "      <th>y (nm)</th>\n",
       "      <th>z (nm)</th>\n",
       "      <th>mc_c (Da)</th>\n",
       "      <th>mc (Da)</th>\n",
       "      <th>high_voltage (V)</th>\n",
       "      <th>pulse (V)</th>\n",
       "      <th>start_counter</th>\n",
       "      <th>t (ns)</th>\n",
       "      <th>t_c (nm)</th>\n",
       "      <th>x_det (cm)</th>\n",
       "      <th>y_det (cm)</th>\n",
       "      <th>pulse_pi</th>\n",
       "      <th>ion_pp</th>\n",
       "    </tr>\n",
       "  </thead>\n",
       "  <tbody>\n",
       "    <tr>\n",
       "      <th>0</th>\n",
       "      <td>0.943917</td>\n",
       "      <td>-0.463124</td>\n",
       "      <td>0.019942</td>\n",
       "      <td>91.527626</td>\n",
       "      <td>0.0</td>\n",
       "      <td>3682.110107</td>\n",
       "      <td>0.0</td>\n",
       "      <td>0.0</td>\n",
       "      <td>3891.519531</td>\n",
       "      <td>0.0</td>\n",
       "      <td>1.015896</td>\n",
       "      <td>-0.479137</td>\n",
       "      <td>0</td>\n",
       "      <td>1</td>\n",
       "    </tr>\n",
       "    <tr>\n",
       "      <th>1</th>\n",
       "      <td>2.270334</td>\n",
       "      <td>-5.010604</td>\n",
       "      <td>0.551171</td>\n",
       "      <td>91.982094</td>\n",
       "      <td>0.0</td>\n",
       "      <td>3682.110107</td>\n",
       "      <td>0.0</td>\n",
       "      <td>0.0</td>\n",
       "      <td>3904.508789</td>\n",
       "      <td>0.0</td>\n",
       "      <td>2.646676</td>\n",
       "      <td>-5.243885</td>\n",
       "      <td>43</td>\n",
       "      <td>1</td>\n",
       "    </tr>\n",
       "    <tr>\n",
       "      <th>2</th>\n",
       "      <td>-5.462508</td>\n",
       "      <td>0.471533</td>\n",
       "      <td>0.547564</td>\n",
       "      <td>92.993858</td>\n",
       "      <td>0.0</td>\n",
       "      <td>3682.110107</td>\n",
       "      <td>0.0</td>\n",
       "      <td>0.0</td>\n",
       "      <td>3878.014160</td>\n",
       "      <td>0.0</td>\n",
       "      <td>-5.560694</td>\n",
       "      <td>0.505755</td>\n",
       "      <td>211</td>\n",
       "      <td>1</td>\n",
       "    </tr>\n",
       "    <tr>\n",
       "      <th>3</th>\n",
       "      <td>8.305490</td>\n",
       "      <td>4.298521</td>\n",
       "      <td>1.624813</td>\n",
       "      <td>60.973576</td>\n",
       "      <td>0.0</td>\n",
       "      <td>3682.110107</td>\n",
       "      <td>0.0</td>\n",
       "      <td>0.0</td>\n",
       "      <td>3204.297363</td>\n",
       "      <td>0.0</td>\n",
       "      <td>9.704479</td>\n",
       "      <td>4.738130</td>\n",
       "      <td>66</td>\n",
       "      <td>1</td>\n",
       "    </tr>\n",
       "    <tr>\n",
       "      <th>4</th>\n",
       "      <td>2.990205</td>\n",
       "      <td>0.078835</td>\n",
       "      <td>0.161882</td>\n",
       "      <td>61.330170</td>\n",
       "      <td>0.0</td>\n",
       "      <td>3682.110107</td>\n",
       "      <td>0.0</td>\n",
       "      <td>0.0</td>\n",
       "      <td>3195.071777</td>\n",
       "      <td>0.0</td>\n",
       "      <td>3.234827</td>\n",
       "      <td>0.079856</td>\n",
       "      <td>18</td>\n",
       "      <td>1</td>\n",
       "    </tr>\n",
       "    <tr>\n",
       "      <th>...</th>\n",
       "      <td>...</td>\n",
       "      <td>...</td>\n",
       "      <td>...</td>\n",
       "      <td>...</td>\n",
       "      <td>...</td>\n",
       "      <td>...</td>\n",
       "      <td>...</td>\n",
       "      <td>...</td>\n",
       "      <td>...</td>\n",
       "      <td>...</td>\n",
       "      <td>...</td>\n",
       "      <td>...</td>\n",
       "      <td>...</td>\n",
       "      <td>...</td>\n",
       "    </tr>\n",
       "    <tr>\n",
       "      <th>549698</th>\n",
       "      <td>-4.680508</td>\n",
       "      <td>-0.665500</td>\n",
       "      <td>8.134455</td>\n",
       "      <td>99.078377</td>\n",
       "      <td>0.0</td>\n",
       "      <td>1334.670044</td>\n",
       "      <td>0.0</td>\n",
       "      <td>0.0</td>\n",
       "      <td>6555.320312</td>\n",
       "      <td>0.0</td>\n",
       "      <td>-12.618497</td>\n",
       "      <td>-2.129496</td>\n",
       "      <td>1</td>\n",
       "      <td>1</td>\n",
       "    </tr>\n",
       "    <tr>\n",
       "      <th>549699</th>\n",
       "      <td>-3.787911</td>\n",
       "      <td>-3.385010</td>\n",
       "      <td>8.331511</td>\n",
       "      <td>216.163483</td>\n",
       "      <td>0.0</td>\n",
       "      <td>1334.670044</td>\n",
       "      <td>0.0</td>\n",
       "      <td>0.0</td>\n",
       "      <td>9699.115234</td>\n",
       "      <td>0.0</td>\n",
       "      <td>-9.998555</td>\n",
       "      <td>-10.620863</td>\n",
       "      <td>43</td>\n",
       "      <td>1</td>\n",
       "    </tr>\n",
       "    <tr>\n",
       "      <th>549700</th>\n",
       "      <td>-2.945118</td>\n",
       "      <td>-1.283401</td>\n",
       "      <td>7.480402</td>\n",
       "      <td>101.124908</td>\n",
       "      <td>0.0</td>\n",
       "      <td>1334.670044</td>\n",
       "      <td>0.0</td>\n",
       "      <td>0.0</td>\n",
       "      <td>6691.295410</td>\n",
       "      <td>0.0</td>\n",
       "      <td>-8.100433</td>\n",
       "      <td>-3.833094</td>\n",
       "      <td>114</td>\n",
       "      <td>1</td>\n",
       "    </tr>\n",
       "    <tr>\n",
       "      <th>549701</th>\n",
       "      <td>-4.043397</td>\n",
       "      <td>-0.999465</td>\n",
       "      <td>7.856801</td>\n",
       "      <td>100.075027</td>\n",
       "      <td>0.0</td>\n",
       "      <td>1334.670044</td>\n",
       "      <td>0.0</td>\n",
       "      <td>0.0</td>\n",
       "      <td>6614.916504</td>\n",
       "      <td>0.0</td>\n",
       "      <td>-10.960982</td>\n",
       "      <td>-3.114388</td>\n",
       "      <td>211</td>\n",
       "      <td>1</td>\n",
       "    </tr>\n",
       "    <tr>\n",
       "      <th>549702</th>\n",
       "      <td>-3.605551</td>\n",
       "      <td>-1.773034</td>\n",
       "      <td>7.791200</td>\n",
       "      <td>93.055229</td>\n",
       "      <td>0.0</td>\n",
       "      <td>1334.670044</td>\n",
       "      <td>0.0</td>\n",
       "      <td>0.0</td>\n",
       "      <td>6389.932617</td>\n",
       "      <td>0.0</td>\n",
       "      <td>-9.784682</td>\n",
       "      <td>-5.430216</td>\n",
       "      <td>531</td>\n",
       "      <td>1</td>\n",
       "    </tr>\n",
       "  </tbody>\n",
       "</table>\n",
       "<p>549703 rows × 14 columns</p>\n",
       "</div>"
      ],
      "text/plain": [
       "          x (nm)    y (nm)    z (nm)   mc_c (Da)  mc (Da)  high_voltage (V)  \\\n",
       "0       0.943917 -0.463124  0.019942   91.527626      0.0       3682.110107   \n",
       "1       2.270334 -5.010604  0.551171   91.982094      0.0       3682.110107   \n",
       "2      -5.462508  0.471533  0.547564   92.993858      0.0       3682.110107   \n",
       "3       8.305490  4.298521  1.624813   60.973576      0.0       3682.110107   \n",
       "4       2.990205  0.078835  0.161882   61.330170      0.0       3682.110107   \n",
       "...          ...       ...       ...         ...      ...               ...   \n",
       "549698 -4.680508 -0.665500  8.134455   99.078377      0.0       1334.670044   \n",
       "549699 -3.787911 -3.385010  8.331511  216.163483      0.0       1334.670044   \n",
       "549700 -2.945118 -1.283401  7.480402  101.124908      0.0       1334.670044   \n",
       "549701 -4.043397 -0.999465  7.856801  100.075027      0.0       1334.670044   \n",
       "549702 -3.605551 -1.773034  7.791200   93.055229      0.0       1334.670044   \n",
       "\n",
       "        pulse (V)  start_counter       t (ns)  t_c (nm)  x_det (cm)  \\\n",
       "0             0.0            0.0  3891.519531       0.0    1.015896   \n",
       "1             0.0            0.0  3904.508789       0.0    2.646676   \n",
       "2             0.0            0.0  3878.014160       0.0   -5.560694   \n",
       "3             0.0            0.0  3204.297363       0.0    9.704479   \n",
       "4             0.0            0.0  3195.071777       0.0    3.234827   \n",
       "...           ...            ...          ...       ...         ...   \n",
       "549698        0.0            0.0  6555.320312       0.0  -12.618497   \n",
       "549699        0.0            0.0  9699.115234       0.0   -9.998555   \n",
       "549700        0.0            0.0  6691.295410       0.0   -8.100433   \n",
       "549701        0.0            0.0  6614.916504       0.0  -10.960982   \n",
       "549702        0.0            0.0  6389.932617       0.0   -9.784682   \n",
       "\n",
       "        y_det (cm)  pulse_pi  ion_pp  \n",
       "0        -0.479137         0       1  \n",
       "1        -5.243885        43       1  \n",
       "2         0.505755       211       1  \n",
       "3         4.738130        66       1  \n",
       "4         0.079856        18       1  \n",
       "...            ...       ...     ...  \n",
       "549698   -2.129496         1       1  \n",
       "549699  -10.620863        43       1  \n",
       "549700   -3.833094       114       1  \n",
       "549701   -3.114388       211       1  \n",
       "549702   -5.430216       531       1  \n",
       "\n",
       "[549703 rows x 14 columns]"
      ]
     },
     "execution_count": 11,
     "metadata": {},
     "output_type": "execute_result"
    }
   ],
   "source": [
    "data"
   ]
  },
  {
   "cell_type": "code",
   "execution_count": 12,
   "metadata": {
    "pycharm": {
     "name": "#%%\n"
    }
   },
   "outputs": [],
   "source": [
    "variables.mc_calib = data['mc_c (Da)'].to_numpy()\n",
    "cc = data['mc_c (Da)'].to_numpy()"
   ]
  },
  {
   "cell_type": "code",
   "execution_count": 14,
   "metadata": {},
   "outputs": [
    {
     "name": "stdout",
     "output_type": "stream",
     "text": [
      "The peak index for MRP calculation is: 14\n"
     ]
    },
    {
     "data": {
      "application/vnd.jupyter.widget-view+json": {
       "model_id": "038431e46fc84d758eeeacbc358ddc4a",
       "version_major": 2,
       "version_minor": 0
      },
      "image/png": "[encoded data removed]",
      "text/html": [
       "\n",
       "            <div style=\"display: inline-block;\">\n",
       "                <div class=\"jupyter-widgets widget-label\" style=\"text-align: center;\">\n",
       "                    Figure\n",
       "                </div>\n",
       "                <img src='data:image/png;base64,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' width=354.3307086614173/>\n",
       "            </div>\n",
       "        "
      ],
      "text/plain": [
       "Canvas(toolbar=Toolbar(toolitems=[('Home', 'Reset original view', 'home', 'home'), ('Back', 'Back to previous …"
      ]
     },
     "metadata": {},
     "output_type": "display_data"
    }
   ],
   "source": [
    "peaks_ini, peaks_y_ini, peak_widths_p_ini = tools.hist_plot(cc[cc < 150], 0.1, distance=10, percent=50, prominence=50, selector='peak', plot=True, label='mc')"
   ]
  },
  {
   "cell_type": "code",
   "execution_count": 15,
   "metadata": {},
   "outputs": [],
   "source": [
    "bin_size=widgets.FloatText(value=0.1, description='bin size:')\n",
    "prominence=widgets.IntText(value=60, description='peak prominance:')\n",
    "distance=widgets.IntText(value=50, description='peak distance:')\n",
    "lim_tof=widgets.IntText(value=150, description='lim tof/mc:')\n",
    "percent=widgets.IntText(value=90, description='percent MRP:')\n",
    "\n",
    "def hist_plot(figname, plot):\n",
    "    variables.peaks_idx = []\n",
    "    peaks_sides_p = np.zeros(0)\n",
    "    with out:\n",
    "        clear_output(True)\n",
    "\n",
    "        bin_size_p = bin_size.value\n",
    "        prominence_p = prominence.value\n",
    "        distance_p = distance.value\n",
    "        lim_tof_p = lim_tof.value\n",
    "        percent_p = percent.value\n",
    "        peaks_ini, peaks_y_ini, peak_widths_p_ini = tools.hist_plot(variables.mc_calib[variables.mc_calib < lim_tof_p], bin_size_p, distance=distance_p, percent=percent_p, prominence=prominence_p, selector='peak', plot=plot, label='mc', fig_name=figname)\n",
    "        index_max_ini = np.argmax(peaks_y_ini)\n",
    "        variables.max_peak = peaks_ini[index_max_ini]\n",
    "        variables.peak = peaks_ini\n",
    "        variables.peak_y\n",
    "        variables.peak_width = peak_widths_p_ini\n",
    "        mrp = (peaks_ini[index_max_ini] / (peak_widths_p_ini[index_max_ini][2] - peak_widths_p_ini[index_max_ini][1]))\n",
    "        print('Mass resolving power for the highest peak (MRP --> m/m_2-m_1):', mrp)\n",
    "        for i in range(len(peaks_ini)):\n",
    "            print('Peaks ', i, 'is at location and height: ({:.2f}, {:.2f})'.format(peaks_ini[i], peaks_y_ini[i]), 'peak window sides (half-maximum) are: ({:.2f}, {:.2f})'.format(peak_widths_p_ini[i][1], peak_widths_p_ini[i][2]))"
   ]
  },
  {
   "cell_type": "code",
   "execution_count": 16,
   "metadata": {},
   "outputs": [],
   "source": [
    "peak_val = widgets.FloatText(value=1.1, description='peak value:')\n",
    "charge = widgets.Dropdown(\n",
    "    options=[('1', 1), ('2', 2), ('3', 3), ('4', 4)],\n",
    "    value=3,\n",
    "    description='charge:'\n",
    ")\n",
    "aboundance_threshold = widgets.FloatText(value=1, description='aboundance threshold:')\n",
    "mode = widgets.Dropdown(\n",
    "    options=[('elements', 'elements'), ('molecules', 'molecules')],\n",
    "    value='elements',\n",
    "    description='mode:'\n",
    ")\n",
    "\n",
    "num_element = widgets.IntText(value=1, description='num element:')\n",
    "# element_threshold = widgets.FloatText(value=1.0, description='Aboundance threshold:')\n",
    "\n",
    "def element_finder():\n",
    "    with out:\n",
    "        peak_val_s = peak_val.value\n",
    "        charge_s = charge.value\n",
    "        num_element_s = num_element.value\n",
    "#         num_molecule_s = num_molecule.value\n",
    "        mode_s = mode.value\n",
    "#         element_threshold_s = element_threshold.value\n",
    "        aboundance_threshold_s = aboundance_threshold.value\n",
    "        clear_output(True)\n",
    "        if mode_s == 'elements':\n",
    "            df = ion_selection.find_close_element(peak_val_s, num_element_s, aboundance_threshold_s, charge=charge_s)\n",
    "        elif mode_s == 'molecules':\n",
    "            df = ion_selection.find_close_molecule(peak_val_s, num_element_s, aboundance_threshold_s, charge=charge_s)\n",
    "        display(df)"
   ]
  },
  {
   "cell_type": "code",
   "execution_count": 17,
   "metadata": {},
   "outputs": [],
   "source": [
    "isotope_formula = widgets.Text(\n",
    "    value='',\n",
    "    placeholder='Type a formula',\n",
    "    description='Isotope formula:',\n",
    "    disabled=False\n",
    ")\n",
    "\n",
    "def manual_formula_calculator():\n",
    "    isotopeTableFile = '../../../files/isotopeTable.h5'\n",
    "    dataframe = data_tools.read_hdf5_through_pandas(isotopeTableFile)\n",
    "    df = ion_selection.molecule_isotop_list(dataframe, isotope_formula.value)\n",
    "    with out:\n",
    "        df = ion_selection.molecule_isotop_list(dataframe, isotope_formula.value)\n",
    "        clear_output(True)\n",
    "        display(df)"
   ]
  },
  {
   "cell_type": "code",
   "execution_count": 18,
   "metadata": {},
   "outputs": [],
   "source": [
    "isotopeTableFile = '../../../files/isotopeTable.h5'\n",
    "dataframe = data_tools.read_hdf5_through_pandas(isotopeTableFile)\n",
    "elementsList = dataframe['element']\n",
    "elementIsotopeList = dataframe['isotope']\n",
    "elementMassList =  dataframe['weight']\n",
    "abundanceList = dataframe['abundance']\n",
    "dropdownDict = {'element': elementsList, 'isotope': elementIsotopeList}\n",
    "\n",
    "elements = list(zip(elementsList, elementIsotopeList, elementMassList, abundanceList))\n",
    "dropdownList = []\n",
    "for element in elements:\n",
    "    tupleElement = (\"{} ({}) ({:.2f})\".format(element[0],element[1],element[3]), \"{}({})\".format(element[0], element[1]))\n",
    "    dropdownList.append(tupleElement)\n",
    "\n",
    "dropdown = wd.dropdownWidget(dropdownList, \"Elements\")\n",
    "dropdown.observe(wd.on_change_ions_selection)\n",
    "\n",
    "chargeList = [(1,1,),(2,2,),(3,3,),(4,4,)]\n",
    "chargeDropdown = wd.dropdownWidget(chargeList, \"Charge\")\n",
    "chargeDropdown.observe(wd.on_change_charge_ions_selection)\n",
    "\n",
    "# wd.compute_element_isotope_values_according_to_selected_charge(mode='ions_selection')\n",
    "\n",
    "buttonAdd = wd.buttonWidget(\"ADD\")\n",
    "buttonDelete = wd.buttonWidget(\"DELETE\")\n",
    "buttonReset = wd.buttonWidget(\"RESET\")\n",
    "\n",
    "def buttonAdd_f(b,):\n",
    "    with out:\n",
    "        clear_output(True)\n",
    "        wd.onClickAdd(b,)\n",
    "        display()\n",
    "def buttonDelete_f(b,):\n",
    "    with out:\n",
    "        clear_output(True)\n",
    "        variables.listMaterial.pop()\n",
    "        variables.element.pop()\n",
    "        variables.isotope.pop()\n",
    "        variables.charge.pop()\n",
    "        print(\"Updated List : \", variables.listMaterial)\n",
    "        print(\"Updated element List : \", variables.element)\n",
    "        print(\"Updated isotope List : \",  variables.isotope)\n",
    "        print(\"Updated charge List : \", variables.charge)\n",
    "def buttonResett_f(b,):\n",
    "    with out:\n",
    "        clear_output(True)\n",
    "        wd.onClickReset(b,)\n",
    "        display()\n",
    "\n",
    "buttonAdd.on_click(buttonAdd_f)\n",
    "buttonDelete.on_click(buttonDelete_f)\n",
    "buttonReset.on_click(buttonResett_f)\n",
    "\n",
    "add_button = widgets.Button(\n",
    "    description='add molecule',\n",
    ")\n",
    "\n",
    "peak_molecule = widgets.Text(\n",
    "    value='',\n",
    "    placeholder='molecule: H(1)2O(16)(2+)',\n",
    "    description='molecule:',\n",
    "    disabled=False\n",
    ")\n",
    "peak_molecule_elements = widgets.Text(\n",
    "    value='',\n",
    "    placeholder='elements: H,O',\n",
    "    description='elements:',\n",
    "    disabled=False\n",
    ")\n",
    "peak_molecule_isotope = widgets.Text(\n",
    "    value='',\n",
    "    placeholder='isotope: 1,16',\n",
    "    description='isotope:',\n",
    "    disabled=False\n",
    ")\n",
    "peak_molecule_charge = widgets.IntText(\n",
    "    placeholder='charge: 3',\n",
    "    description='charge:',\n",
    "    disabled=False\n",
    ")\n",
    "\n",
    "@add_button.on_click\n",
    "def add_molucule_to(b,):\n",
    "    with out:\n",
    "        clear_output(True)\n",
    "        if peak_molecule.value == 'unranged':\n",
    "            variables.listMaterial.append(peak_molecule.value)\n",
    "            variables.element.append(peak_molecule.value)\n",
    "            variables.isotope.append(0)\n",
    "            variables.charge.append(0)\n",
    "        else:\n",
    "            variables.listMaterial.append(peak_molecule.value)\n",
    "            variables.element.append(peak_molecule_elements.value.split(','))\n",
    "            variables.isotope.append(peak_molecule_isotope.value.split(','))\n",
    "            variables.charge.append(peak_molecule_charge.value)\n",
    "        print(\"Updated List : \", variables.listMaterial)\n",
    "        print(\"Updated element List : \", variables.element)\n",
    "        print(\"Updated isotope List : \",  variables.isotope)\n",
    "        print(\"Updated charge List : \", variables.charge)"
   ]
  },
  {
   "cell_type": "code",
   "execution_count": 19,
   "metadata": {},
   "outputs": [
    {
     "data": {
      "application/vnd.jupyter.widget-view+json": {
       "model_id": "fa4ed16fce874ab58d45821b25f7f88c",
       "version_major": 2,
       "version_minor": 0
      },
      "text/plain": [
       "VBox(children=(Tab(children=(VBox(children=(FloatText(value=0.1, description='bin size:'), IntText(value=60, d…"
      ]
     },
     "metadata": {},
     "output_type": "display_data"
    },
    {
     "data": {
      "application/vnd.jupyter.widget-view+json": {
       "model_id": "dadbea193b1e4700b9a9765be6009c0a",
       "version_major": 2,
       "version_minor": 0
      },
      "text/plain": [
       "Output()"
      ]
     },
     "metadata": {},
     "output_type": "display_data"
    }
   ],
   "source": [
    "plot_button = widgets.Button(\n",
    "    description='plot hist',\n",
    ")\n",
    "\n",
    "find_button = widgets.Button(\n",
    "    description='find element',\n",
    ")\n",
    "\n",
    "formula_find_button = widgets.Button(\n",
    "    description='molecule calculate',\n",
    ")\n",
    "\n",
    "    \n",
    "@plot_button.on_click\n",
    "def plot_on_click(b, figname=figname, plot=True):\n",
    "    hist_plot(figname, plot)\n",
    "\n",
    "    \n",
    "@find_button.on_click\n",
    "def vol_on_click(b,):\n",
    "    element_finder()\n",
    "    \n",
    "@formula_find_button.on_click\n",
    "def manual_formula(b,):\n",
    "    manual_formula_calculator()\n",
    "    \n",
    "tab1 = VBox(children=[bin_size, prominence, distance, lim_tof, percent])\n",
    "tab2 = HBox(children=[VBox(children=[peak_val, num_element, charge, aboundance_threshold, mode, \n",
    "                      find_button]),HBox(children=[isotope_formula, formula_find_button])])\n",
    "tab3 = VBox(children=[dropdown, chargeDropdown, buttonAdd, buttonDelete, buttonReset])\n",
    "tab4 = VBox(children=[peak_molecule, peak_molecule_elements, peak_molecule_isotope, peak_molecule_charge, add_button])\n",
    "\n",
    "\n",
    "tab = widgets.Tab(children=[tab1, tab2, tab3, tab4])\n",
    "tab.set_title(0, 'mc plot')\n",
    "tab.set_title(1, 'element finder')\n",
    "tab.set_title(2, 'add ions')\n",
    "tab.set_title(3, 'add molecules')\n",
    "\n",
    "\n",
    "display(VBox(children=[tab,HBox(children=[plot_button])]))\n",
    "out = Output()\n",
    "display(out)\n",
    "# unranged\t"
   ]
  },
  {
   "cell_type": "code",
   "execution_count": 23,
   "metadata": {},
   "outputs": [],
   "source": [
    "fake = Factory.create()\n",
    "data_table = '../../../files/color_scheme.h5'\n",
    "dataframe = data_tools.read_hdf5_through_pandas(data_table)\n",
    "color_list = []\n",
    "for i in range(len(variables.listMaterial)):\n",
    "    element_selec = re.sub(\"[\\(\\[].*?[\\)\\]]\", \"\", variables.listMaterial[i])\n",
    "    if len(re.findall(r'[A-Z]', element_selec)) > 1:\n",
    "        try:\n",
    "            r = dataframe[dataframe['ion'] == re.sub(r'[0-9]', '', element_selec)]['r'].to_numpy()\n",
    "            g = dataframe[dataframe['ion'] == re.sub(r'[0-9]', '', element_selec)]['g'].to_numpy()\n",
    "            b = dataframe[dataframe['ion'] == re.sub(r'[0-9]', '', element_selec)]['b'].to_numpy()\n",
    "            cc = matplotlib.colors.to_hex([r[0], g[0], b[0]])\n",
    "            color_list.append(cc)\n",
    "        except:\n",
    "            print('The element is not clor list')\n",
    "            color_list.append(fake.hex_color())\n",
    "    else:\n",
    "        try:\n",
    "            r = dataframe[dataframe['ion'] == re.sub(r'[0-9]', '', element_selec)]['r'].to_numpy()\n",
    "            g = dataframe[dataframe['ion'] == re.sub(r'[0-9]', '', element_selec)]['g'].to_numpy()\n",
    "            b = dataframe[dataframe['ion'] == re.sub(r'[0-9]', '', element_selec)]['b'].to_numpy()\n",
    "            cc = matplotlib.colors.to_hex([r[0], g[0], b[0]])\n",
    "            color_list.append(cc)\n",
    "        except:\n",
    "            print('The element is not clor list')\n",
    "            color_list.append(fake.hex_color())"
   ]
  },
  {
   "cell_type": "code",
   "execution_count": 24,
   "metadata": {},
   "outputs": [],
   "source": [
    "peak_width_chos = []\n",
    "for i in range(len(variables.peaks_idx)):\n",
    "    peak_width_chos.append(variables.peak_width[variables.peaks_idx[i]])\n",
    "peak_width_chos = np.array(peak_width_chos)"
   ]
  },
  {
   "cell_type": "code",
   "execution_count": 25,
   "metadata": {},
   "outputs": [],
   "source": [
    "range_data = pd.DataFrame({\"element\": variables.element, \"isotope\": variables.isotope, \"charge\": variables.charge,\n",
    "        \"mc_low\": [item[1] for item in peak_width_chos],\n",
    "       \"mc_up\": [item[2] for item in peak_width_chos],\"color\": color_list})"
   ]
  },
  {
   "cell_type": "code",
   "execution_count": 43,
   "metadata": {},
   "outputs": [
    {
     "data": {
      "application/vnd.jupyter.widget-view+json": {
       "model_id": "1364e182cffc4a9e8dcca25fac8636a1",
       "version_major": 2,
       "version_minor": 0
      },
      "text/plain": [
       "Sheet(cells=(Cell(column_end=0, column_start=0, numeric_format=None, row_end=2, row_start=0, squeeze_row=False…"
      ]
     },
     "execution_count": 43,
     "metadata": {},
     "output_type": "execute_result"
    }
   ],
   "source": [
    "sheet7 = ipysheet.from_dataframe(range_data)\n",
    "sheet7"
   ]
  },
  {
   "cell_type": "code",
   "execution_count": 49,
   "metadata": {},
   "outputs": [
    {
     "data": {
      "text/html": [
       "<div>\n",
       "<style scoped>\n",
       "    .dataframe tbody tr th:only-of-type {\n",
       "        vertical-align: middle;\n",
       "    }\n",
       "\n",
       "    .dataframe tbody tr th {\n",
       "        vertical-align: top;\n",
       "    }\n",
       "\n",
       "    .dataframe thead th {\n",
       "        text-align: right;\n",
       "    }\n",
       "</style>\n",
       "<table border=\"1\" class=\"dataframe\">\n",
       "  <thead>\n",
       "    <tr style=\"text-align: right;\">\n",
       "      <th></th>\n",
       "      <th>element</th>\n",
       "      <th>isotope</th>\n",
       "      <th>charge</th>\n",
       "      <th>mc_low</th>\n",
       "      <th>mc_up</th>\n",
       "      <th>color</th>\n",
       "    </tr>\n",
       "  </thead>\n",
       "  <tbody>\n",
       "    <tr>\n",
       "      <th>0</th>\n",
       "      <td>H</td>\n",
       "      <td>1</td>\n",
       "      <td>1</td>\n",
       "      <td>1.191262</td>\n",
       "      <td>1.289001</td>\n",
       "      <td>#FF3500</td>\n",
       "    </tr>\n",
       "    <tr>\n",
       "      <th>1</th>\n",
       "      <td>Al</td>\n",
       "      <td>27</td>\n",
       "      <td>2</td>\n",
       "      <td>13.310880</td>\n",
       "      <td>13.604096</td>\n",
       "      <td>#39FF14</td>\n",
       "    </tr>\n",
       "    <tr>\n",
       "      <th>2</th>\n",
       "      <td>Al</td>\n",
       "      <td>27</td>\n",
       "      <td>3</td>\n",
       "      <td>26.798841</td>\n",
       "      <td>27.287536</td>\n",
       "      <td>#39FF14</td>\n",
       "    </tr>\n",
       "  </tbody>\n",
       "</table>\n",
       "</div>"
      ],
      "text/plain": [
       "  element  isotope  charge     mc_low      mc_up    color\n",
       "0       H        1       1   1.191262   1.289001  #FF3500\n",
       "1      Al       27       2  13.310880  13.604096  #39FF14\n",
       "2      Al       27       3  26.798841  27.287536  #39FF14"
      ]
     },
     "execution_count": 49,
     "metadata": {},
     "output_type": "execute_result"
    }
   ],
   "source": [
    "range_data = ipysheet.to_dataframe(sheet7)\n",
    "range_data"
   ]
  },
  {
   "cell_type": "code",
   "execution_count": 50,
   "metadata": {},
   "outputs": [
    {
     "data": {
      "application/vnd.jupyter.widget-view+json": {
       "model_id": "8bcf28ccae424542a4d60ad0cc3b9e0f",
       "version_major": 2,
       "version_minor": 0
      },
      "text/plain": [
       "interactive(children=(FloatText(value=0.1, description='bin_size'), IntText(value=50, description='prominence'…"
      ]
     },
     "metadata": {},
     "output_type": "display_data"
    }
   ],
   "source": [
    "def mc_hist_plot(data, range_data, bin_size, prominence, distance, percent, selector, plot, figname, lim_mc, mc_peak_label, ranging, adjust_label):\n",
    "    mc = data['mc_c (Da)'].to_numpy()\n",
    "    peaks_ini, peaks_y_ini, peak_widths_p_ini = tools.hist_plot(mc[mc < lim_mc], bin_size, range_data=range_data, mc_peak_label=mc_peak_label, ranging=ranging, adjust_label=adjust_label, distance=distance, percent=percent, prominence=prominence, selector=selector, plot=plot, label='mc', fig_name=figname+'_ini')\n",
    "    index_max_ini = np.argmax(peaks_y_ini)\n",
    "    variables.max_peak = peaks_ini[index_max_ini]\n",
    "    variables.peak = peaks_ini\n",
    "    mrp = (peaks_ini[index_max_ini] / (peak_widths_p_ini[index_max_ini][2] - peak_widths_p_ini[index_max_ini][1]))\n",
    "    print('Mass resolving power for the highest peak (MRP --> m/m_2-m_1):', mrp)\n",
    "    for i in range(len(peaks_ini)):\n",
    "        print('Peaks ', i, 'is at location and height: ({:.2f}, {:.2f})'.format(peaks_ini[i], peaks_y_ini[i]), 'peak window sides (half-maximum) are: ({:.2f}, {:.2f})'.format(peak_widths_p_ini[i][1], peak_widths_p_ini[i][2]))\n",
    "\n",
    "interact_manual(mc_hist_plot, data=fixed(data), range_data=fixed(range_data), bin_size=widgets.FloatText(value=0.1)\n",
    "               ,prominence=widgets.IntText(value=50), distance=widgets.IntText(value=100), lim_mc=widgets.IntText(value=150)\n",
    "               ,percent=widgets.IntText(value=50), selector=fixed('rect'), plot=fixed(True), figname=fixed(figname),\n",
    "               mc_peak_label=widgets.Dropdown(options=[('True', True), ('False', False)]),\n",
    "                ranging=widgets.Dropdown(options=[('True', True), ('False', False)]),\n",
    "                adjust_label=widgets.Dropdown(options=[('True', True), ('False', False)]));\n"
   ]
  },
  {
   "cell_type": "code",
   "execution_count": 51,
   "metadata": {},
   "outputs": [
    {
     "data": {
      "text/html": [
       "<div>\n",
       "<style scoped>\n",
       "    .dataframe tbody tr th:only-of-type {\n",
       "        vertical-align: middle;\n",
       "    }\n",
       "\n",
       "    .dataframe tbody tr th {\n",
       "        vertical-align: top;\n",
       "    }\n",
       "\n",
       "    .dataframe thead th {\n",
       "        text-align: right;\n",
       "    }\n",
       "</style>\n",
       "<table border=\"1\" class=\"dataframe\">\n",
       "  <thead>\n",
       "    <tr style=\"text-align: right;\">\n",
       "      <th></th>\n",
       "      <th>element</th>\n",
       "      <th>isotope</th>\n",
       "      <th>charge</th>\n",
       "      <th>mc_low</th>\n",
       "      <th>mc_up</th>\n",
       "      <th>color</th>\n",
       "    </tr>\n",
       "  </thead>\n",
       "  <tbody>\n",
       "    <tr>\n",
       "      <th>0</th>\n",
       "      <td>H</td>\n",
       "      <td>1</td>\n",
       "      <td>1</td>\n",
       "      <td>1.191262</td>\n",
       "      <td>1.289001</td>\n",
       "      <td>#FF3500</td>\n",
       "    </tr>\n",
       "    <tr>\n",
       "      <th>1</th>\n",
       "      <td>Al</td>\n",
       "      <td>27</td>\n",
       "      <td>2</td>\n",
       "      <td>13.310880</td>\n",
       "      <td>13.604096</td>\n",
       "      <td>#39FF14</td>\n",
       "    </tr>\n",
       "    <tr>\n",
       "      <th>2</th>\n",
       "      <td>Al</td>\n",
       "      <td>27</td>\n",
       "      <td>3</td>\n",
       "      <td>26.798841</td>\n",
       "      <td>27.287536</td>\n",
       "      <td>#39FF14</td>\n",
       "    </tr>\n",
       "  </tbody>\n",
       "</table>\n",
       "</div>"
      ],
      "text/plain": [
       "  element  isotope  charge     mc_low      mc_up    color\n",
       "0       H        1       1   1.191262   1.289001  #FF3500\n",
       "1      Al       27       2  13.310880  13.604096  #39FF14\n",
       "2      Al       27       3  26.798841  27.287536  #39FF14"
      ]
     },
     "execution_count": 51,
     "metadata": {},
     "output_type": "execute_result"
    }
   ],
   "source": [
    "range_data"
   ]
  },
  {
   "cell_type": "code",
   "execution_count": 52,
   "metadata": {},
   "outputs": [
    {
     "data": {
      "text/plain": [
       "element     object\n",
       "isotope      int32\n",
       "charge       int32\n",
       "mc_low     float64\n",
       "mc_up      float64\n",
       "color       object\n",
       "dtype: object"
      ]
     },
     "execution_count": 52,
     "metadata": {},
     "output_type": "execute_result"
    }
   ],
   "source": [
    "range_data.dtypes"
   ]
  },
  {
   "cell_type": "code",
   "execution_count": 53,
   "metadata": {
    "pycharm": {
     "name": "#%%\n"
    }
   },
   "outputs": [],
   "source": [
    "# save the new data\n",
    "name_save_file = variables.result_path + '//' + dataset_name + '.h5'\n",
    "data_tools.store_df_to_hdf(name_save_file, range_data, 'df')"
   ]
  },
  {
   "cell_type": "code",
   "execution_count": 54,
   "metadata": {},
   "outputs": [],
   "source": [
    "# save data in csv format\n",
    "data_tools.store_df_to_csv(range_data, variables.result_path + 'range_' + dataset_name + '.csv')"
   ]
  },
  {
   "cell_type": "code",
   "execution_count": null,
   "metadata": {},
   "outputs": [],
   "source": []
  },
  {
   "cell_type": "code",
   "execution_count": null,
   "metadata": {},
   "outputs": [],
   "source": []
  }
 ],
 "metadata": {
  "kernelspec": {
   "display_name": "Python 3 (ipykernel)",
   "language": "python",
   "name": "python3"
  },
  "language_info": {
   "codemirror_mode": {
    "name": "ipython",
    "version": 3
   },
   "file_extension": ".py",
   "mimetype": "text/x-python",
   "name": "python",
   "nbconvert_exporter": "python",
   "pygments_lexer": "ipython3",
   "version": "3.9.12"
  }
 },
 "nbformat": 4,
 "nbformat_minor": 4
}

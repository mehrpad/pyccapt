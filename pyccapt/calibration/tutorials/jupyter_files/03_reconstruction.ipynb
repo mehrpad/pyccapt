{
 "cells": [
  {
   "cell_type": "code",
   "execution_count": 4,
   "metadata": {
    "tags": []
   },
   "outputs": [
    {
     "name": "stdout",
     "output_type": "stream",
     "text": [
      "The autoreload extension is already loaded. To reload it, use:\n",
      "  %reload_ext autoreload\n"
     ]
    }
   ],
   "source": [
    "# Activate intractive functionality of matplotlib\n",
    "%matplotlib ipympl\n",
    "# Activate auto reload \n",
    "%load_ext autoreload\n",
    "%autoreload 2\n",
    "%reload_ext autoreload\n",
    "# import libraries\n",
    "import os\n",
    "import pandas as pd\n",
    "from ipywidgets import fixed, interact_manual, widgets\n",
    "from ipywidgets import VBox\n",
    "from IPython.display import clear_output\n",
    "from IPython.display import display\n",
    "from ipywidgets import Output\n",
    "import matplotlib.colors as mcolors\n",
    "\n",
    "# Local module and scripts\n",
    "from pyccapt.calibration.calibration_tools import tools, share_variables, ion_selection\n",
    "from pyccapt.calibration.calibration_tools import widgets as wd\n",
    "from pyccapt.calibration.data_tools import data_tools, dataset_path_qt\n",
    "from pyccapt.calibration.reconstructions import reconstruction"
   ]
  },
  {
   "cell_type": "code",
   "execution_count": 5,
   "metadata": {
    "tags": []
   },
   "outputs": [
    {
     "data": {
      "application/vnd.jupyter.widget-view+json": {
       "model_id": "e6d6f90ba18341379f54db6fd1f9e9f4",
       "version_major": 2,
       "version_minor": 0
      },
      "text/plain": [
       "Button(description='load dataset', style=ButtonStyle())"
      ]
     },
     "execution_count": 5,
     "metadata": {},
     "output_type": "execute_result"
    }
   ],
   "source": [
    "button = widgets.Button(\n",
    "    description='load dataset',\n",
    ")\n",
    "@button.on_click\n",
    "def open_file_on_click(b):\n",
    "    \"\"\"\n",
    "    Event handler for button click event.\n",
    "    Prompts the user to select a dataset file and stores the selected file path in the global variable dataset_path.\n",
    "    \"\"\"\n",
    "    global dataset_path\n",
    "    dataset_path = dataset_path_qt.gui_fname().decode('ASCII')\n",
    "button"
   ]
  },
  {
   "cell_type": "code",
   "execution_count": 6,
   "metadata": {
    "tags": []
   },
   "outputs": [
    {
     "data": {
      "application/vnd.jupyter.widget-view+json": {
       "model_id": "e6d6f90ba18341379f54db6fd1f9e9f4",
       "version_major": 2,
       "version_minor": 0
      },
      "text/plain": [
       "Button(description='load dataset', style=ButtonStyle())"
      ]
     },
     "execution_count": 6,
     "metadata": {},
     "output_type": "execute_result"
    }
   ],
   "source": [
    "button_r = widgets.Button(\n",
    "    description='load range dataset',\n",
    ")\n",
    "@button_r.on_click\n",
    "def open_file_on_click_r(b):\n",
    "    \"\"\"\n",
    "    Event handler for button click event.\n",
    "    Prompts the user to select a dataset file and stores the selected file path in the global variable dataset_path.\n",
    "    \"\"\"\n",
    "    global range_path\n",
    "    range_path = dataset_path_qt.gui_fname().decode('ASCII')\n",
    "button"
   ]
  },
  {
   "cell_type": "code",
   "execution_count": 7,
   "metadata": {
    "tags": []
   },
   "outputs": [
    {
     "data": {
      "application/vnd.jupyter.widget-view+json": {
       "model_id": "63f5e6e268c54da78c07499fa5287b30",
       "version_major": 2,
       "version_minor": 0
      },
      "text/plain": [
       "Dropdown(description='Data mode:', options=('PyCCAPT', 'leap_epos', 'leap_pos', 'ato_v6'), value='PyCCAPT')"
      ]
     },
     "metadata": {},
     "output_type": "display_data"
    },
    {
     "data": {
      "application/vnd.jupyter.widget-view+json": {
       "model_id": "31a5f06ba34d40c8b5e6fae8ff391b9a",
       "version_major": 2,
       "version_minor": 0
      },
      "text/plain": [
       "FloatText(value=110.0, description='Flight path length:')"
      ]
     },
     "metadata": {},
     "output_type": "display_data"
    }
   ],
   "source": [
    "tdc, pulse_mode, flightPathLength, t0_d, max_mc, det_diam = wd.dataset_instrument_specification_selection()\n",
    "display(tdc, flightPathLength)"
   ]
  },
  {
   "cell_type": "code",
   "execution_count": 8,
   "metadata": {
    "tags": []
   },
   "outputs": [
    {
     "name": "stdout",
     "output_type": "stream",
     "text": [
      "The maximum time of flight: 5010\n"
     ]
    }
   ],
   "source": [
    "# exctract needed data from Pandas data frame as an numpy array\n",
    "# create an instance of the Variables opject\n",
    "variables = share_variables.Variables()\n",
    "variables.pulse_mode = pulse_mode\n",
    "dataset_main_path = os.path.dirname(dataset_path)\n",
    "dataset_main_path = os.path.dirname(dataset_main_path)\n",
    "dataset_name_with_extention = os.path.basename(dataset_path)\n",
    "variables.dataset_name = os.path.splitext(dataset_name_with_extention)[0]\n",
    "variables.result_data_path = dataset_main_path + '/reconstruction/'\n",
    "variables.result_data_name = variables.dataset_name\n",
    "variables.result_path = dataset_main_path + '/' + '/reconstruction/'\n",
    "\n",
    "if not os.path.isdir(variables.result_path):\n",
    "    os.makedirs(variables.result_path, mode=0o777, exist_ok=True)\n",
    "    \n",
    "# Create data farame out of hdf5 file dataset\n",
    "data = data_tools.load_data(dataset_path, tdc.value, mode='processed')\n",
    "# extract data from the path and create the Variable object\n",
    "data_tools.extract_data(data, variables, flightPathLength.value, max_mc.value)"
   ]
  },
  {
   "cell_type": "code",
   "execution_count": 9,
   "metadata": {
    "tags": []
   },
   "outputs": [
    {
     "data": {
      "text/html": [
       "<div>\n",
       "<style scoped>\n",
       "    .dataframe tbody tr th:only-of-type {\n",
       "        vertical-align: middle;\n",
       "    }\n",
       "\n",
       "    .dataframe tbody tr th {\n",
       "        vertical-align: top;\n",
       "    }\n",
       "\n",
       "    .dataframe thead th {\n",
       "        text-align: right;\n",
       "    }\n",
       "</style>\n",
       "<table border=\"1\" class=\"dataframe\">\n",
       "  <thead>\n",
       "    <tr style=\"text-align: right;\">\n",
       "      <th></th>\n",
       "      <th>x (nm)</th>\n",
       "      <th>y (nm)</th>\n",
       "      <th>z (nm)</th>\n",
       "      <th>mc_c (Da)</th>\n",
       "      <th>mc (Da)</th>\n",
       "      <th>high_voltage (V)</th>\n",
       "      <th>pulse</th>\n",
       "      <th>start_counter</th>\n",
       "      <th>t_c (ns)</th>\n",
       "      <th>t (ns)</th>\n",
       "      <th>x_det (cm)</th>\n",
       "      <th>y_det (cm)</th>\n",
       "      <th>pulse_pi</th>\n",
       "      <th>ion_pp</th>\n",
       "    </tr>\n",
       "  </thead>\n",
       "  <tbody>\n",
       "    <tr>\n",
       "      <th>0</th>\n",
       "      <td>0.0</td>\n",
       "      <td>0.0</td>\n",
       "      <td>0.0</td>\n",
       "      <td>28.078362</td>\n",
       "      <td>30.305182</td>\n",
       "      <td>3571.469971</td>\n",
       "      <td>535.720520</td>\n",
       "      <td>11865</td>\n",
       "      <td>0.0</td>\n",
       "      <td>748.879883</td>\n",
       "      <td>-0.571429</td>\n",
       "      <td>1.306122</td>\n",
       "      <td>0</td>\n",
       "      <td>0</td>\n",
       "    </tr>\n",
       "    <tr>\n",
       "      <th>1</th>\n",
       "      <td>0.0</td>\n",
       "      <td>0.0</td>\n",
       "      <td>0.0</td>\n",
       "      <td>14.058052</td>\n",
       "      <td>14.646017</td>\n",
       "      <td>3571.469971</td>\n",
       "      <td>535.720520</td>\n",
       "      <td>15750</td>\n",
       "      <td>0.0</td>\n",
       "      <td>534.903442</td>\n",
       "      <td>0.215510</td>\n",
       "      <td>-0.940408</td>\n",
       "      <td>3885</td>\n",
       "      <td>2</td>\n",
       "    </tr>\n",
       "    <tr>\n",
       "      <th>2</th>\n",
       "      <td>0.0</td>\n",
       "      <td>0.0</td>\n",
       "      <td>0.0</td>\n",
       "      <td>35.216328</td>\n",
       "      <td>37.908751</td>\n",
       "      <td>3571.469971</td>\n",
       "      <td>535.720520</td>\n",
       "      <td>15784</td>\n",
       "      <td>0.0</td>\n",
       "      <td>825.127136</td>\n",
       "      <td>0.160000</td>\n",
       "      <td>0.313469</td>\n",
       "      <td>34</td>\n",
       "      <td>1</td>\n",
       "    </tr>\n",
       "    <tr>\n",
       "      <th>3</th>\n",
       "      <td>0.0</td>\n",
       "      <td>0.0</td>\n",
       "      <td>0.0</td>\n",
       "      <td>28.208848</td>\n",
       "      <td>30.163656</td>\n",
       "      <td>3571.469971</td>\n",
       "      <td>535.720520</td>\n",
       "      <td>15785</td>\n",
       "      <td>0.0</td>\n",
       "      <td>744.634766</td>\n",
       "      <td>0.506122</td>\n",
       "      <td>0.920816</td>\n",
       "      <td>1</td>\n",
       "      <td>1</td>\n",
       "    </tr>\n",
       "    <tr>\n",
       "      <th>4</th>\n",
       "      <td>0.0</td>\n",
       "      <td>0.0</td>\n",
       "      <td>0.0</td>\n",
       "      <td>14.078092</td>\n",
       "      <td>14.556348</td>\n",
       "      <td>3571.469971</td>\n",
       "      <td>535.720520</td>\n",
       "      <td>16028</td>\n",
       "      <td>0.0</td>\n",
       "      <td>558.769287</td>\n",
       "      <td>-0.816327</td>\n",
       "      <td>-3.673469</td>\n",
       "      <td>243</td>\n",
       "      <td>1</td>\n",
       "    </tr>\n",
       "    <tr>\n",
       "      <th>...</th>\n",
       "      <td>...</td>\n",
       "      <td>...</td>\n",
       "      <td>...</td>\n",
       "      <td>...</td>\n",
       "      <td>...</td>\n",
       "      <td>...</td>\n",
       "      <td>...</td>\n",
       "      <td>...</td>\n",
       "      <td>...</td>\n",
       "      <td>...</td>\n",
       "      <td>...</td>\n",
       "      <td>...</td>\n",
       "      <td>...</td>\n",
       "      <td>...</td>\n",
       "    </tr>\n",
       "    <tr>\n",
       "      <th>198094</th>\n",
       "      <td>0.0</td>\n",
       "      <td>0.0</td>\n",
       "      <td>0.0</td>\n",
       "      <td>29.069861</td>\n",
       "      <td>30.857699</td>\n",
       "      <td>3643.600098</td>\n",
       "      <td>546.539978</td>\n",
       "      <td>17635</td>\n",
       "      <td>0.0</td>\n",
       "      <td>768.843506</td>\n",
       "      <td>1.815510</td>\n",
       "      <td>2.481633</td>\n",
       "      <td>684</td>\n",
       "      <td>2</td>\n",
       "    </tr>\n",
       "    <tr>\n",
       "      <th>198095</th>\n",
       "      <td>0.0</td>\n",
       "      <td>0.0</td>\n",
       "      <td>0.0</td>\n",
       "      <td>28.461749</td>\n",
       "      <td>30.216015</td>\n",
       "      <td>3643.600098</td>\n",
       "      <td>546.539978</td>\n",
       "      <td>17775</td>\n",
       "      <td>0.0</td>\n",
       "      <td>761.375183</td>\n",
       "      <td>1.746939</td>\n",
       "      <td>2.530612</td>\n",
       "      <td>140</td>\n",
       "      <td>1</td>\n",
       "    </tr>\n",
       "    <tr>\n",
       "      <th>198096</th>\n",
       "      <td>0.0</td>\n",
       "      <td>0.0</td>\n",
       "      <td>0.0</td>\n",
       "      <td>27.962802</td>\n",
       "      <td>29.291963</td>\n",
       "      <td>3643.600098</td>\n",
       "      <td>546.539978</td>\n",
       "      <td>2037</td>\n",
       "      <td>0.0</td>\n",
       "      <td>743.146606</td>\n",
       "      <td>2.592653</td>\n",
       "      <td>0.055510</td>\n",
       "      <td>4294951558</td>\n",
       "      <td>1</td>\n",
       "    </tr>\n",
       "    <tr>\n",
       "      <th>198097</th>\n",
       "      <td>0.0</td>\n",
       "      <td>0.0</td>\n",
       "      <td>0.0</td>\n",
       "      <td>27.891574</td>\n",
       "      <td>29.221504</td>\n",
       "      <td>3643.600098</td>\n",
       "      <td>546.539978</td>\n",
       "      <td>2038</td>\n",
       "      <td>0.0</td>\n",
       "      <td>741.857300</td>\n",
       "      <td>2.560000</td>\n",
       "      <td>0.026122</td>\n",
       "      <td>1</td>\n",
       "      <td>1</td>\n",
       "    </tr>\n",
       "    <tr>\n",
       "      <th>198098</th>\n",
       "      <td>0.0</td>\n",
       "      <td>0.0</td>\n",
       "      <td>0.0</td>\n",
       "      <td>25.994198</td>\n",
       "      <td>27.151139</td>\n",
       "      <td>3643.600098</td>\n",
       "      <td>546.539978</td>\n",
       "      <td>2128</td>\n",
       "      <td>0.0</td>\n",
       "      <td>717.531982</td>\n",
       "      <td>2.582857</td>\n",
       "      <td>-0.267755</td>\n",
       "      <td>90</td>\n",
       "      <td>1</td>\n",
       "    </tr>\n",
       "  </tbody>\n",
       "</table>\n",
       "<p>198099 rows × 14 columns</p>\n",
       "</div>"
      ],
      "text/plain": [
       "        x (nm)  y (nm)  z (nm)  mc_c (Da)    mc (Da)  high_voltage (V)  \\\n",
       "0          0.0     0.0     0.0  28.078362  30.305182       3571.469971   \n",
       "1          0.0     0.0     0.0  14.058052  14.646017       3571.469971   \n",
       "2          0.0     0.0     0.0  35.216328  37.908751       3571.469971   \n",
       "3          0.0     0.0     0.0  28.208848  30.163656       3571.469971   \n",
       "4          0.0     0.0     0.0  14.078092  14.556348       3571.469971   \n",
       "...        ...     ...     ...        ...        ...               ...   \n",
       "198094     0.0     0.0     0.0  29.069861  30.857699       3643.600098   \n",
       "198095     0.0     0.0     0.0  28.461749  30.216015       3643.600098   \n",
       "198096     0.0     0.0     0.0  27.962802  29.291963       3643.600098   \n",
       "198097     0.0     0.0     0.0  27.891574  29.221504       3643.600098   \n",
       "198098     0.0     0.0     0.0  25.994198  27.151139       3643.600098   \n",
       "\n",
       "             pulse  start_counter  t_c (ns)      t (ns)  x_det (cm)  \\\n",
       "0       535.720520          11865       0.0  748.879883   -0.571429   \n",
       "1       535.720520          15750       0.0  534.903442    0.215510   \n",
       "2       535.720520          15784       0.0  825.127136    0.160000   \n",
       "3       535.720520          15785       0.0  744.634766    0.506122   \n",
       "4       535.720520          16028       0.0  558.769287   -0.816327   \n",
       "...            ...            ...       ...         ...         ...   \n",
       "198094  546.539978          17635       0.0  768.843506    1.815510   \n",
       "198095  546.539978          17775       0.0  761.375183    1.746939   \n",
       "198096  546.539978           2037       0.0  743.146606    2.592653   \n",
       "198097  546.539978           2038       0.0  741.857300    2.560000   \n",
       "198098  546.539978           2128       0.0  717.531982    2.582857   \n",
       "\n",
       "        y_det (cm)    pulse_pi  ion_pp  \n",
       "0         1.306122           0       0  \n",
       "1        -0.940408        3885       2  \n",
       "2         0.313469          34       1  \n",
       "3         0.920816           1       1  \n",
       "4        -3.673469         243       1  \n",
       "...            ...         ...     ...  \n",
       "198094    2.481633         684       2  \n",
       "198095    2.530612         140       1  \n",
       "198096    0.055510  4294951558       1  \n",
       "198097    0.026122           1       1  \n",
       "198098   -0.267755          90       1  \n",
       "\n",
       "[198099 rows x 14 columns]"
      ]
     },
     "execution_count": 9,
     "metadata": {},
     "output_type": "execute_result"
    }
   ],
   "source": [
    "data"
   ]
  },
  {
   "cell_type": "code",
   "execution_count": 10,
   "metadata": {
    "tags": []
   },
   "outputs": [
    {
     "data": {
      "text/html": [
       "<style type=\"text/css\">\n",
       "#T_b5737_row0_col5 {\n",
       "  background-color: #000000;\n",
       "  width: 50px;\n",
       "  height: 20px;\n",
       "}\n",
       "</style>\n",
       "<table id=\"T_b5737\">\n",
       "  <thead>\n",
       "    <tr>\n",
       "      <th class=\"blank level0\" >&nbsp;</th>\n",
       "      <th id=\"T_b5737_level0_col0\" class=\"col_heading level0 col0\" >ion</th>\n",
       "      <th id=\"T_b5737_level0_col1\" class=\"col_heading level0 col1\" >mass</th>\n",
       "      <th id=\"T_b5737_level0_col2\" class=\"col_heading level0 col2\" >mc</th>\n",
       "      <th id=\"T_b5737_level0_col3\" class=\"col_heading level0 col3\" >mc_low</th>\n",
       "      <th id=\"T_b5737_level0_col4\" class=\"col_heading level0 col4\" >mc_up</th>\n",
       "      <th id=\"T_b5737_level0_col5\" class=\"col_heading level0 col5\" >color</th>\n",
       "      <th id=\"T_b5737_level0_col6\" class=\"col_heading level0 col6\" >element</th>\n",
       "      <th id=\"T_b5737_level0_col7\" class=\"col_heading level0 col7\" >complex</th>\n",
       "      <th id=\"T_b5737_level0_col8\" class=\"col_heading level0 col8\" >isotop</th>\n",
       "      <th id=\"T_b5737_level0_col9\" class=\"col_heading level0 col9\" >charge</th>\n",
       "    </tr>\n",
       "  </thead>\n",
       "  <tbody>\n",
       "    <tr>\n",
       "      <th id=\"T_b5737_level0_row0\" class=\"row_heading level0 row0\" >0</th>\n",
       "      <td id=\"T_b5737_row0_col0\" class=\"data row0 col0\" >unranged</td>\n",
       "      <td id=\"T_b5737_row0_col1\" class=\"data row0 col1\" >0</td>\n",
       "      <td id=\"T_b5737_row0_col2\" class=\"data row0 col2\" >0</td>\n",
       "      <td id=\"T_b5737_row0_col3\" class=\"data row0 col3\" >0.000004</td>\n",
       "      <td id=\"T_b5737_row0_col4\" class=\"data row0 col4\" >399.982028</td>\n",
       "      <td id=\"T_b5737_row0_col5\" class=\"data row0 col5\" >#000000</td>\n",
       "      <td id=\"T_b5737_row0_col6\" class=\"data row0 col6\" >unranged</td>\n",
       "      <td id=\"T_b5737_row0_col7\" class=\"data row0 col7\" >0</td>\n",
       "      <td id=\"T_b5737_row0_col8\" class=\"data row0 col8\" >0</td>\n",
       "      <td id=\"T_b5737_row0_col9\" class=\"data row0 col9\" >0</td>\n",
       "    </tr>\n",
       "  </tbody>\n",
       "</table>\n"
      ],
      "text/plain": [
       "<pandas.io.formats.style.Styler at 0x24f0bb39760>"
      ]
     },
     "metadata": {},
     "output_type": "display_data"
    }
   ],
   "source": [
    "if 'range_path' in locals():\n",
    "    variables.range_data = data_tools.read_hdf5_through_pandas(range_path)\n",
    "\n",
    "else:\n",
    "    variables.range_data = pd.DataFrame({\"ion\": ['unranged'], \"mass\": [0], \"mc\": [0], \"mass\": [0], \"mc_low\": min(variables.mc_calib), \"mc_up\": max(variables.mc_calib), \"color\": ['#000000'], \"element\": ['unranged'],\n",
    "                                        \"complex\": [0], \"isotop\": [0], \"charge\": [0]})\n",
    "display(variables.range_data.style.applymap(ion_selection.display_color, subset=['color']))"
   ]
  },
  {
   "cell_type": "code",
   "execution_count": 11,
   "metadata": {
    "tags": []
   },
   "outputs": [
    {
     "data": {
      "application/vnd.jupyter.widget-view+json": {
       "model_id": "6bdc7efd531343d6b596537c03c49b8a",
       "version_major": 2,
       "version_minor": 0
      },
      "text/plain": [
       "VBox(children=(ColorPicker(value='black', description='Select a color:'), IntText(value=0, description='index …"
      ]
     },
     "metadata": {},
     "output_type": "display_data"
    },
    {
     "data": {
      "application/vnd.jupyter.widget-view+json": {
       "model_id": "fea5f588ab5f40f2b6c04c71e7568a94",
       "version_major": 2,
       "version_minor": 0
      },
      "text/plain": [
       "Output()"
      ]
     },
     "metadata": {},
     "output_type": "display_data"
    }
   ],
   "source": [
    "change_color = widgets.Button(\n",
    "    description='change color',\n",
    ")\n",
    "color_picker = widgets.ColorPicker(description='Select a color:')\n",
    "row_index = widgets.IntText(value=0, description='index row:')\n",
    "@change_color.on_click\n",
    "def change_color_m(b,):\n",
    "    with out:\n",
    "        selected_color = mcolors.to_hex(color_picker.value)\n",
    "        variables.range_data.at[row_index.value, 'color'] = selected_color\n",
    "        clear_output(True)\n",
    "        display(variables.range_data.style.applymap(ion_selection.display_color, subset=['color']))\n",
    "        \n",
    "# Create a container for the widgets\n",
    "container = widgets.VBox([color_picker, row_index, change_color])\n",
    "out = Output()\n",
    "# Display the widgets\n",
    "display(container, out)"
   ]
  },
  {
   "cell_type": "markdown",
   "metadata": {},
   "source": [
    "$$\\textbf{You can specify which dataset to use in below block}$$"
   ]
  },
  {
   "cell_type": "code",
   "execution_count": 12,
   "metadata": {
    "tags": []
   },
   "outputs": [
    {
     "name": "stderr",
     "output_type": "stream",
     "text": [
      "C:\\Users\\APTUser\\AppData\\Local\\Temp\\ipykernel_33292\\3606387677.py:4: DeprecationWarning: on_submit is deprecated. Instead, set the .continuous_update attribute to False and observe the value changing with: mywidget.observe(callback, 'value').\n",
      "  interact_manual(mc_hist_plot, bin_size=widgets.FloatText(value=0.1), lim_mc=widgets.IntText(value=400), ranging=widgets.Dropdown(options=[('False', False),('True', True)]),\n"
     ]
    },
    {
     "data": {
      "application/vnd.jupyter.widget-view+json": {
       "model_id": "d9cb6efcd8e440a1af1b301f350c2fec",
       "version_major": 2,
       "version_minor": 0
      },
      "text/plain": [
       "interactive(children=(FloatText(value=0.1, description='bin_size'), IntText(value=400, description='lim_mc'), …"
      ]
     },
     "metadata": {},
     "output_type": "display_data"
    }
   ],
   "source": [
    "def mc_hist_plot(bin_size, lim_mc, peaks_find, ranging, hist_color_range, figname):\n",
    "    peaks_ini, peaks_y_ini, peak_widths_p_ini, _ = tools.hist_plot(variables.mc_c[variables.mc_c < lim_mc], variables, bin=bin_size, range_data=variables.range_data, ranging=ranging, hist_color_range=hist_color_range, adjust_label=False, peaks_find=peaks_find, peaks_find_plot=True, plot=True, label='mc', fig_name=figname)\n",
    "   \n",
    "interact_manual(mc_hist_plot, bin_size=widgets.FloatText(value=0.1), lim_mc=widgets.IntText(value=400), ranging=widgets.Dropdown(options=[('False', False),('True', True)]),\n",
    "                peaks_find=widgets.Dropdown(options=[('True', True), ('False', False)]),\n",
    "                hist_color_range=widgets.Dropdown(options=[('True', True), ('False', False)])\n",
    "                , figname=widgets.Text(value='mc'));"
   ]
  },
  {
   "cell_type": "code",
   "execution_count": 13,
   "metadata": {
    "tags": []
   },
   "outputs": [
    {
     "data": {
      "application/vnd.jupyter.widget-view+json": {
       "model_id": "c6ccf14f441448a2870c337d4def970b",
       "version_major": 2,
       "version_minor": 0
      },
      "text/plain": [
       "Dropdown(description='Element', options=((1, 'H', 52.7, 0.0), (2, 'He', 28.7, 0.0), (3, 'Li', 46.3, 14.0), (4,…"
      ]
     },
     "metadata": {},
     "output_type": "display_data"
    }
   ],
   "source": [
    "element_selected = wd.density_field_selection()\n",
    "display(element_selected)"
   ]
  },
  {
   "cell_type": "code",
   "execution_count": 15,
   "metadata": {
    "tags": []
   },
   "outputs": [],
   "source": [
    "avg_dens = element_selected.value[2]\n",
    "field_evap = element_selected.value[3]"
   ]
  },
  {
   "cell_type": "code",
   "execution_count": 16,
   "metadata": {
    "tags": []
   },
   "outputs": [
    {
     "name": "stderr",
     "output_type": "stream",
     "text": [
      "C:\\Users\\APTUser\\AppData\\Local\\Temp\\ipykernel_33292\\3364758392.py:8: DeprecationWarning: on_submit is deprecated. Instead, set the .continuous_update attribute to False and observe the value changing with: mywidget.observe(callback, 'value').\n",
      "  interact_manual(reconstruction.x_y_z_calculation_and_plot, kf=widgets.FloatText(value=4), det_eff=widgets.FloatText(value=0.7), icf=widgets.FloatText(value=1.4),\n"
     ]
    },
    {
     "data": {
      "application/vnd.jupyter.widget-view+json": {
       "model_id": "b82ff3ac64554aff9966d39527326d1b",
       "version_major": 2,
       "version_minor": 0
      },
      "text/plain": [
       "interactive(children=(Textarea(value='[0.01]', description='element_percentage'), FloatText(value=4.0, descrip…"
      ]
     },
     "metadata": {},
     "output_type": "display_data"
    }
   ],
   "source": [
    "if variables.range_data.empty:\n",
    "    element_percentage = str([0.01])\n",
    "else:\n",
    "    element_percentage = [0.01] * len(variables.range_data['element'].tolist())\n",
    "    element_percentage = str(element_percentage)\n",
    "    \n",
    "\n",
    "interact_manual(reconstruction.x_y_z_calculation_and_plot, kf=widgets.FloatText(value=4), det_eff=widgets.FloatText(value=0.7), icf=widgets.FloatText(value=1.4),\n",
    "                field_evap=widgets.FloatText(value=field_evap),\n",
    "               avg_dens=widgets.FloatText(value=avg_dens), element_percentage=widgets.Textarea(value=element_percentage),\n",
    "               rotary_fig_save=widgets.Dropdown(options=[('True', True), ('False', False)], value=False), variables=fixed(variables), \n",
    "                flight_path_length=fixed(flightPathLength.value), selected_are=fixed(False), figname=widgets.Text(value='3d'),\n",
    "               mode=widgets.Dropdown(options=[('Gault', 'Gault'), ('Bas', 'Bas')]));"
   ]
  },
  {
   "cell_type": "code",
   "execution_count": 17,
   "metadata": {
    "tags": []
   },
   "outputs": [
    {
     "data": {
      "text/html": [
       "<div>\n",
       "<style scoped>\n",
       "    .dataframe tbody tr th:only-of-type {\n",
       "        vertical-align: middle;\n",
       "    }\n",
       "\n",
       "    .dataframe tbody tr th {\n",
       "        vertical-align: top;\n",
       "    }\n",
       "\n",
       "    .dataframe thead th {\n",
       "        text-align: right;\n",
       "    }\n",
       "</style>\n",
       "<table border=\"1\" class=\"dataframe\">\n",
       "  <thead>\n",
       "    <tr style=\"text-align: right;\">\n",
       "      <th></th>\n",
       "      <th>x (nm)</th>\n",
       "      <th>y (nm)</th>\n",
       "      <th>z (nm)</th>\n",
       "      <th>mc_c (Da)</th>\n",
       "      <th>mc (Da)</th>\n",
       "      <th>high_voltage (V)</th>\n",
       "      <th>pulse</th>\n",
       "      <th>start_counter</th>\n",
       "      <th>t_c (ns)</th>\n",
       "      <th>t (ns)</th>\n",
       "      <th>x_det (cm)</th>\n",
       "      <th>y_det (cm)</th>\n",
       "      <th>pulse_pi</th>\n",
       "      <th>ion_pp</th>\n",
       "    </tr>\n",
       "  </thead>\n",
       "  <tbody>\n",
       "    <tr>\n",
       "      <th>0</th>\n",
       "      <td>-1.420208</td>\n",
       "      <td>3.246190</td>\n",
       "      <td>0.297421</td>\n",
       "      <td>28.078362</td>\n",
       "      <td>30.305182</td>\n",
       "      <td>3571.469971</td>\n",
       "      <td>535.720520</td>\n",
       "      <td>11865</td>\n",
       "      <td>0.0</td>\n",
       "      <td>748.879883</td>\n",
       "      <td>-0.571429</td>\n",
       "      <td>1.306122</td>\n",
       "      <td>0</td>\n",
       "      <td>0</td>\n",
       "    </tr>\n",
       "    <tr>\n",
       "      <th>1</th>\n",
       "      <td>0.538758</td>\n",
       "      <td>-2.350945</td>\n",
       "      <td>0.137377</td>\n",
       "      <td>14.058052</td>\n",
       "      <td>14.646017</td>\n",
       "      <td>3571.469971</td>\n",
       "      <td>535.720520</td>\n",
       "      <td>15750</td>\n",
       "      <td>0.0</td>\n",
       "      <td>534.903442</td>\n",
       "      <td>0.215510</td>\n",
       "      <td>-0.940408</td>\n",
       "      <td>3885</td>\n",
       "      <td>2</td>\n",
       "    </tr>\n",
       "    <tr>\n",
       "      <th>2</th>\n",
       "      <td>0.401716</td>\n",
       "      <td>0.787036</td>\n",
       "      <td>0.018544</td>\n",
       "      <td>35.216328</td>\n",
       "      <td>37.908751</td>\n",
       "      <td>3571.469971</td>\n",
       "      <td>535.720520</td>\n",
       "      <td>15784</td>\n",
       "      <td>0.0</td>\n",
       "      <td>825.127136</td>\n",
       "      <td>0.160000</td>\n",
       "      <td>0.313469</td>\n",
       "      <td>34</td>\n",
       "      <td>1</td>\n",
       "    </tr>\n",
       "    <tr>\n",
       "      <th>3</th>\n",
       "      <td>1.264099</td>\n",
       "      <td>2.299845</td>\n",
       "      <td>0.162837</td>\n",
       "      <td>28.208848</td>\n",
       "      <td>30.163656</td>\n",
       "      <td>3571.469971</td>\n",
       "      <td>535.720520</td>\n",
       "      <td>15785</td>\n",
       "      <td>0.0</td>\n",
       "      <td>744.634766</td>\n",
       "      <td>0.506122</td>\n",
       "      <td>0.920816</td>\n",
       "      <td>1</td>\n",
       "      <td>1</td>\n",
       "    </tr>\n",
       "    <tr>\n",
       "      <th>4</th>\n",
       "      <td>-1.909365</td>\n",
       "      <td>-8.592142</td>\n",
       "      <td>1.907968</td>\n",
       "      <td>14.078092</td>\n",
       "      <td>14.556348</td>\n",
       "      <td>3571.469971</td>\n",
       "      <td>535.720520</td>\n",
       "      <td>16028</td>\n",
       "      <td>0.0</td>\n",
       "      <td>558.769287</td>\n",
       "      <td>-0.816327</td>\n",
       "      <td>-3.673469</td>\n",
       "      <td>243</td>\n",
       "      <td>1</td>\n",
       "    </tr>\n",
       "    <tr>\n",
       "      <th>...</th>\n",
       "      <td>...</td>\n",
       "      <td>...</td>\n",
       "      <td>...</td>\n",
       "      <td>...</td>\n",
       "      <td>...</td>\n",
       "      <td>...</td>\n",
       "      <td>...</td>\n",
       "      <td>...</td>\n",
       "      <td>...</td>\n",
       "      <td>...</td>\n",
       "      <td>...</td>\n",
       "      <td>...</td>\n",
       "      <td>...</td>\n",
       "      <td>...</td>\n",
       "    </tr>\n",
       "    <tr>\n",
       "      <th>198094</th>\n",
       "      <td>4.432164</td>\n",
       "      <td>6.058354</td>\n",
       "      <td>12.641175</td>\n",
       "      <td>29.069861</td>\n",
       "      <td>30.857699</td>\n",
       "      <td>3643.600098</td>\n",
       "      <td>546.539978</td>\n",
       "      <td>17635</td>\n",
       "      <td>0.0</td>\n",
       "      <td>768.843506</td>\n",
       "      <td>1.815510</td>\n",
       "      <td>2.481633</td>\n",
       "      <td>684</td>\n",
       "      <td>2</td>\n",
       "    </tr>\n",
       "    <tr>\n",
       "      <th>198095</th>\n",
       "      <td>4.264737</td>\n",
       "      <td>6.177889</td>\n",
       "      <td>12.641391</td>\n",
       "      <td>28.461749</td>\n",
       "      <td>30.216015</td>\n",
       "      <td>3643.600098</td>\n",
       "      <td>546.539978</td>\n",
       "      <td>17775</td>\n",
       "      <td>0.0</td>\n",
       "      <td>761.375183</td>\n",
       "      <td>1.746939</td>\n",
       "      <td>2.530612</td>\n",
       "      <td>140</td>\n",
       "      <td>1</td>\n",
       "    </tr>\n",
       "    <tr>\n",
       "      <th>198096</th>\n",
       "      <td>6.416392</td>\n",
       "      <td>0.137379</td>\n",
       "      <td>12.272138</td>\n",
       "      <td>27.962802</td>\n",
       "      <td>29.291963</td>\n",
       "      <td>3643.600098</td>\n",
       "      <td>546.539978</td>\n",
       "      <td>2037</td>\n",
       "      <td>0.0</td>\n",
       "      <td>743.146606</td>\n",
       "      <td>2.592653</td>\n",
       "      <td>0.055510</td>\n",
       "      <td>4294951558</td>\n",
       "      <td>1</td>\n",
       "    </tr>\n",
       "    <tr>\n",
       "      <th>198097</th>\n",
       "      <td>6.341058</td>\n",
       "      <td>0.064705</td>\n",
       "      <td>12.248657</td>\n",
       "      <td>27.891574</td>\n",
       "      <td>29.221504</td>\n",
       "      <td>3643.600098</td>\n",
       "      <td>546.539978</td>\n",
       "      <td>2038</td>\n",
       "      <td>0.0</td>\n",
       "      <td>741.857300</td>\n",
       "      <td>2.560000</td>\n",
       "      <td>0.026122</td>\n",
       "      <td>1</td>\n",
       "      <td>1</td>\n",
       "    </tr>\n",
       "    <tr>\n",
       "      <th>198098</th>\n",
       "      <td>6.391569</td>\n",
       "      <td>-0.662590</td>\n",
       "      <td>12.274716</td>\n",
       "      <td>25.994198</td>\n",
       "      <td>27.151139</td>\n",
       "      <td>3643.600098</td>\n",
       "      <td>546.539978</td>\n",
       "      <td>2128</td>\n",
       "      <td>0.0</td>\n",
       "      <td>717.531982</td>\n",
       "      <td>2.582857</td>\n",
       "      <td>-0.267755</td>\n",
       "      <td>90</td>\n",
       "      <td>1</td>\n",
       "    </tr>\n",
       "  </tbody>\n",
       "</table>\n",
       "<p>198099 rows × 14 columns</p>\n",
       "</div>"
      ],
      "text/plain": [
       "          x (nm)    y (nm)     z (nm)  mc_c (Da)    mc (Da)  high_voltage (V)  \\\n",
       "0      -1.420208  3.246190   0.297421  28.078362  30.305182       3571.469971   \n",
       "1       0.538758 -2.350945   0.137377  14.058052  14.646017       3571.469971   \n",
       "2       0.401716  0.787036   0.018544  35.216328  37.908751       3571.469971   \n",
       "3       1.264099  2.299845   0.162837  28.208848  30.163656       3571.469971   \n",
       "4      -1.909365 -8.592142   1.907968  14.078092  14.556348       3571.469971   \n",
       "...          ...       ...        ...        ...        ...               ...   \n",
       "198094  4.432164  6.058354  12.641175  29.069861  30.857699       3643.600098   \n",
       "198095  4.264737  6.177889  12.641391  28.461749  30.216015       3643.600098   \n",
       "198096  6.416392  0.137379  12.272138  27.962802  29.291963       3643.600098   \n",
       "198097  6.341058  0.064705  12.248657  27.891574  29.221504       3643.600098   \n",
       "198098  6.391569 -0.662590  12.274716  25.994198  27.151139       3643.600098   \n",
       "\n",
       "             pulse  start_counter  t_c (ns)      t (ns)  x_det (cm)  \\\n",
       "0       535.720520          11865       0.0  748.879883   -0.571429   \n",
       "1       535.720520          15750       0.0  534.903442    0.215510   \n",
       "2       535.720520          15784       0.0  825.127136    0.160000   \n",
       "3       535.720520          15785       0.0  744.634766    0.506122   \n",
       "4       535.720520          16028       0.0  558.769287   -0.816327   \n",
       "...            ...            ...       ...         ...         ...   \n",
       "198094  546.539978          17635       0.0  768.843506    1.815510   \n",
       "198095  546.539978          17775       0.0  761.375183    1.746939   \n",
       "198096  546.539978           2037       0.0  743.146606    2.592653   \n",
       "198097  546.539978           2038       0.0  741.857300    2.560000   \n",
       "198098  546.539978           2128       0.0  717.531982    2.582857   \n",
       "\n",
       "        y_det (cm)    pulse_pi  ion_pp  \n",
       "0         1.306122           0       0  \n",
       "1        -0.940408        3885       2  \n",
       "2         0.313469          34       1  \n",
       "3         0.920816           1       1  \n",
       "4        -3.673469         243       1  \n",
       "...            ...         ...     ...  \n",
       "198094    2.481633         684       2  \n",
       "198095    2.530612         140       1  \n",
       "198096    0.055510  4294951558       1  \n",
       "198097    0.026122           1       1  \n",
       "198098   -0.267755          90       1  \n",
       "\n",
       "[198099 rows x 14 columns]"
      ]
     },
     "execution_count": 17,
     "metadata": {},
     "output_type": "execute_result"
    }
   ],
   "source": [
    "data['x (nm)'] = variables.x\n",
    "data['y (nm)'] = variables.y\n",
    "data['z (nm)'] = variables.z\n",
    "data"
   ]
  },
  {
   "cell_type": "code",
   "execution_count": 18,
   "metadata": {
    "tags": []
   },
   "outputs": [
    {
     "data": {
      "application/vnd.jupyter.widget-view+json": {
       "model_id": "3711f715331d496cb62553dede33853b",
       "version_major": 2,
       "version_minor": 0
      },
      "text/plain": [
       "VBox(children=(Tab(children=(VBox(children=(Dropdown(description='Selected area', options=(('False', False), (…"
      ]
     },
     "metadata": {},
     "output_type": "display_data"
    },
    {
     "data": {
      "application/vnd.jupyter.widget-view+json": {
       "model_id": "3bba2dab39a647b8a1f91a19775180d9",
       "version_major": 2,
       "version_minor": 0
      },
      "text/plain": [
       "Output()"
      ]
     },
     "metadata": {},
     "output_type": "display_data"
    }
   ],
   "source": [
    "plot_3d_button = widgets.Button(\n",
    "    description='plot 3D',\n",
    ")\n",
    "plot_heatmap_button = widgets.Button(\n",
    "    description='plot heatmap',\n",
    ")\n",
    "plot_mc_button = widgets.Button(\n",
    "    description='plot mc',\n",
    ")\n",
    "plot_projection_button = widgets.Button(\n",
    "    description='plot projection',\n",
    ")\n",
    "\n",
    "clear_button = widgets.Button(\n",
    "    description='Clear plots',\n",
    ")\n",
    "\n",
    "figname_3d=widgets.Text(value='3d_plot', description='fig name')\n",
    "selected_area_p3=widgets.Dropdown(options=[('False', False), ('True', True)], description='Selected area')\n",
    "rotary_fig_save_p3=widgets.Dropdown(options=[('True', True), ('False', False)], description='Rotary save')\n",
    "element_percentage_p3=widgets.Textarea(value=element_percentage, description='Element percentage')\n",
    "@plot_3d_button.on_click\n",
    "def plot_3d(b):\n",
    "    with out:\n",
    "        if selected_area_p3.value:\n",
    "            variables.selected_z1 = variables.selected_y1\n",
    "            variables.selected_z2 = variables.selected_y2\n",
    "            variables.selected_y1 = variables.selected_x1\n",
    "            variables.selected_y2 = variables.selected_x2\n",
    "            print('Min x (nm):', variables.selected_x1, 'Max x (nm):', variables.selected_x2)\n",
    "            print('Min y (nm):', variables.selected_y1, 'Max y (nm):', variables.selected_y2)\n",
    "            print('Min z (nm):', variables.selected_z1, 'Max z (nm):', variables.selected_z2)\n",
    "        reconstruction.reconstruction_plot(variables, element_percentage_p3.value, rotary_fig_save_p3.value, selected_area_p3.value, figname_3d.value)\n",
    "\n",
    "selected_area_ph=widgets.Dropdown(options=[('False', False), ('True', True)], description='Selected area')\n",
    "element_percentage_ph=widgets.Textarea(value=element_percentage, description='Element percentage')\n",
    "figname_heatmap=widgets.Text(value='heatmap', description='fig name')\n",
    "@plot_heatmap_button.on_click\n",
    "def plot_heatmap(b, variables=variables):\n",
    "    with out:\n",
    "        if selected_area_ph.value:\n",
    "            variables.selected_z1 = variables.selected_y1\n",
    "            variables.selected_z2 = variables.selected_y2\n",
    "            variables.selected_y1 = variables.selected_x1\n",
    "            variables.selected_y2 = variables.selected_x2\n",
    "            print('Min x (nm):', variables.selected_x1, 'Max x (nm):', variables.selected_x2)\n",
    "            print('Min y (nm):', variables.selected_y1, 'Max y (nm):', variables.selected_y2)\n",
    "            print('Min z (nm):', variables.selected_z1, 'Max z (nm):', variables.selected_z2)\n",
    "\n",
    "        reconstruction.heatmap(variables, selected_area_ph.value, element_percentage_ph.value, save=True)\n",
    "\n",
    "selected_area_pm=widgets.Dropdown(options=[('False', False), ('True', True)], description='Selected area')\n",
    "peak_find_plot=widgets.Dropdown(options=[('False', False), ('True', True)], description='peak find')\n",
    "rangging=widgets.Dropdown(options=[('False', False), ('True', True)], description='rangging')\n",
    "range_file_exist_pm=widgets.Dropdown(options=[('True', True), ('False', False)], description='Range exist')\n",
    "bin_size_pm = widgets.FloatText(value=0.1, description='Bins size')\n",
    "lim_mc_pm = widgets.IntText(value=150, description='Limit mc')\n",
    "hist_color_range=widgets.Dropdown(options=[('True', True), ('False', False)], description='hist color')\n",
    "figname_mc=widgets.Text(value='mc', description='fig name')\n",
    "@plot_mc_button.on_click\n",
    "def plot_mc(b,):\n",
    "    with out:\n",
    "        if selected_area_pm.value:\n",
    "            variables.selected_z1 = variables.selected_y1\n",
    "            variables.selected_z2 = variables.selected_y2\n",
    "            variables.selected_y1 = variables.selected_x1\n",
    "            variables.selected_y2 = variables.selected_x2\n",
    "            print('Min x (nm):', variables.selected_x1, 'Max x (nm):', variables.selected_x2)\n",
    "            print('Min y (nm):', variables.selected_y1, 'Max y (nm):', variables.selected_y2)\n",
    "            print('Min z (nm):', variables.selected_z1, 'Max z (nm):', variables.selected_z2)\n",
    "\n",
    "        peaks_ini, peaks_y_ini, peak_widths_p_ini, _ = tools.hist_plot(variables.mc_c[variables.mc_c < lim_mc_pm.value], variables, bin=bin_size_pm.value, range_data=variables.range_data, \n",
    "                                                               ranging=rangging.value, hist_color_range=hist_color_range.value, adjust_label=False, peaks_find=True, peaks_find_plot=peak_find_plot.value, plot=True, label='mc', fig_name=figname_mc.value)\n",
    "\n",
    "\n",
    "element_percentage_pp=widgets.Textarea(value=element_percentage, description='Element percentage')\n",
    "selected_area_pp=widgets.Dropdown(options=[('False', False), ('True', True)], description='Selected area')\n",
    "x_or_y_pp=widgets.Dropdown(options=['x', 'y'], value='x', description='X or Y')\n",
    "figname_p = widgets.Text(value='projection', description='fig name')\n",
    "@plot_projection_button.on_click\n",
    "def plot_projection(b,):\n",
    "    with out:\n",
    "        if selected_area_pp.value:\n",
    "            variables.selected_z1 = variables.selected_y1\n",
    "            variables.selected_z2 = variables.selected_y2\n",
    "            variables.selected_y1 = variables.selected_x1\n",
    "            variables.selected_y2 = variables.selected_x2\n",
    "            print('Min x (nm):', variables.selected_x1, 'Max x (nm):', variables.selected_x2)\n",
    "            print('Min y (nm):', variables.selected_y1, 'Max y (nm):', variables.selected_y2)\n",
    "            print('Min z (nm):', variables.selected_z1, 'Max z (nm):', variables.selected_z2)\n",
    "\n",
    "        reconstruction.projection(variables, element_percentage_pp.value, selected_area_pp.value, x_or_y_pp.value, figname_p.value)\n",
    "\n",
    "@clear_button.on_click\n",
    "def clear(b,):\n",
    "    with out:\n",
    "        clear_output(True)\n",
    "        print('')\n",
    "\n",
    "\n",
    "tab1 = VBox(children=[selected_area_pp, x_or_y_pp, element_percentage_pp, figname_p, plot_projection_button, clear_button])\n",
    "tab2 = VBox(children=[selected_area_p3, rotary_fig_save_p3, element_percentage_p3, figname_3d, plot_3d_button, clear_button])\n",
    "tab3 = VBox(children=[selected_area_pm, bin_size_pm, lim_mc_pm, peak_find_plot, rangging, hist_color_range, figname_mc, plot_mc_button, clear_button])\n",
    "tab4 = VBox(children=[selected_area_ph, element_percentage_ph, figname_heatmap, plot_heatmap_button, clear_button])\n",
    "# tab2 = VBox(children=[VBox(children=[HBox(children=[plot_3d_button, selected_area_p3, range_file_exist_p3, rotary_fig_save_p3, element_percentage_p3]),\n",
    "#                                      HBox(children=[plot_heatmap_button, selected_area_ph, element_percentage_ph]),\n",
    "#                                      HBox(children=[plot_mc_button, selected_area_pm, range_file_exist_pm, bin_size_pm, prominence_pm, distance_pm, lim_mc_pm, percent_pm]), \n",
    "#                                      HBox(children=[plot_projection_button, selected_area_pp, x_or_y_pp, element_percentage_pp])]), clear_button])\n",
    "\n",
    "\n",
    "tab = widgets.Tab(children=[tab1, tab2, tab3, tab4])\n",
    "tab.set_title(0, 'projection')\n",
    "tab.set_title(1, '3d plot')\n",
    "tab.set_title(2, 'mc plot')\n",
    "tab.set_title(3, 'heatmap plot')\n",
    "\n",
    "\n",
    "\n",
    "display(VBox(children=[tab]))\n",
    "out = Output()\n",
    "display(out)"
   ]
  },
  {
   "cell_type": "code",
   "execution_count": 19,
   "metadata": {
    "tags": []
   },
   "outputs": [
    {
     "data": {
      "application/vnd.jupyter.widget-view+json": {
       "model_id": "861200af743f4c0d80b4dbafd3aed33e",
       "version_major": 2,
       "version_minor": 0
      },
      "text/plain": [
       "interactive(children=(Dropdown(description='hdf', options=(('True', True), ('False', False)), value=True), Dro…"
      ]
     },
     "metadata": {},
     "output_type": "display_data"
    }
   ],
   "source": [
    "interact_manual(data_tools.save_data, data=fixed(data), variables=fixed(variables),\n",
    "                hdf=widgets.Dropdown(options=[('True', True), ('False', False)]),\n",
    "                epos=widgets.Dropdown(options=[('False', False), ('True', True)]), \n",
    "                pos=widgets.Dropdown(options=[('False', False), ('True', True)]), \n",
    "                ato_6v=widgets.Dropdown(options=[('False', False), ('True', True)]), \n",
    "                csv=widgets.Dropdown(options=[('False', False), ('True', True)]));"
   ]
  },
  {
   "cell_type": "code",
   "execution_count": null,
   "metadata": {},
   "outputs": [],
   "source": []
  }
 ],
 "metadata": {
  "kernelspec": {
   "display_name": "Python 3 (ipykernel)",
   "language": "python",
   "name": "python3"
  },
  "language_info": {
   "codemirror_mode": {
    "name": "ipython",
    "version": 3
   },
   "file_extension": ".py",
   "mimetype": "text/x-python",
   "name": "python",
   "nbconvert_exporter": "python",
   "pygments_lexer": "ipython3",
   "version": "3.8.13"
  }
 },
 "nbformat": 4,
 "nbformat_minor": 4
}

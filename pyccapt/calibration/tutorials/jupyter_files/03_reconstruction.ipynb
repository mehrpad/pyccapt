{
 "cells": [
  {
   "cell_type": "markdown",
   "metadata": {},
   "source": [
    "<div style=\"margin: 0 auto; padding: 20px; font-family: 'Helvetica', sans-serif; font-size: 16px;\">\n",
    "\n",
    "## 3D Reconstruction Workflow\n",
    "\n",
    "After bowl and voltage calibration we are ready to calculate the 3d reconstruction. In this workflow we calculate the reconstructed x,y,z and then plot the 3d, heatmap, projection plots and mass-to-charge histogram.\n",
    "\n",
    "</div>"
   ]
  },
  {
   "cell_type": "code",
   "execution_count": null,
   "metadata": {
    "collapsed": false,
    "jupyter": {
     "outputs_hidden": false
    }
   },
   "outputs": [],
   "source": [
    "# Activate intractive functionality of matplotlib\n",
    "%matplotlib ipympl\n",
    "# Activate auto reload\n",
    "%load_ext autoreload\n",
    "%autoreload 2\n",
    "%reload_ext autoreload\n",
    "# import libraries\n",
    "import os\n",
    "import pandas as pd\n",
    "from ipywidgets import fixed, interact_manual, widgets\n",
    "from ipywidgets import VBox\n",
    "from IPython.display import clear_output\n",
    "from IPython.display import display\n",
    "from ipywidgets import Output\n",
    "import matplotlib.colors as mcolors\n",
    "import warnings\n",
    "# Ignore all warnings\n",
    "warnings.filterwarnings(\"ignore\")\n",
    "\n",
    "# Local module and scripts\n",
    "from pyccapt.calibration.calibration_tools import share_variables, ion_selection\n",
    "from pyccapt.calibration.calibration_tools import widgets as wd\n",
    "from pyccapt.calibration.data_tools import data_tools, dataset_path_qt\n",
    "from pyccapt.calibration.reconstructions import reconstruction\n",
    "from pyccapt.calibration.calibration_tools import mc_plot"
   ]
  },
  {
   "cell_type": "markdown",
   "metadata": {},
   "source": [
    "<div style=\"margin: 0 auto; padding: 20px; font-family: 'Helvetica', sans-serif; font-size: 16px;\">\n",
    "\n",
    "By clicking on the button below, you can select the dataset file you want to use. The dataset file can be in various formats, including HDF5, EPOS, POS, ATO, and CSV.\n",
    "</div>"
   ]
  },
  {
   "cell_type": "code",
   "execution_count": 2,
   "metadata": {
    "tags": []
   },
   "outputs": [
    {
     "data": {
      "application/vnd.jupyter.widget-view+json": {
       "model_id": "8f10f1fc57f34f639beaee556fc6c823",
       "version_major": 2,
       "version_minor": 0
      },
      "text/plain": [
       "Button(description='load dataset', style=ButtonStyle())"
      ]
     },
     "execution_count": 2,
     "metadata": {},
     "output_type": "execute_result"
    }
   ],
   "source": [
    "button = widgets.Button(\n",
    "    description='load dataset',\n",
    ")\n",
    "@button.on_click\n",
    "def open_file_on_click(b):\n",
    "    \"\"\"\n",
    "    Event handler for button click event.\n",
    "    Prompts the user to select a dataset file and stores the selected file path in the global variable dataset_path.\n",
    "    \"\"\"\n",
    "    global dataset_path\n",
    "    dataset_path = dataset_path_qt.gui_fname().decode('ASCII')\n",
    "button"
   ]
  },
  {
   "cell_type": "markdown",
   "metadata": {},
   "source": [
    "<div style=\"margin: 0 auto; padding: 20px; font-family: 'Helvetica', sans-serif; font-size: 16px;\">\n",
    "If you ranged the dataset, you can select the range file by clicking on the button below. The range file can be created with \"ion selection and ranging\" workflow. If you do not have a range file, you can skip this step.\n",
    "</div>\n"
   ]
  },
  {
   "cell_type": "code",
   "execution_count": 3,
   "metadata": {
    "tags": []
   },
   "outputs": [
    {
     "data": {
      "application/vnd.jupyter.widget-view+json": {
       "model_id": "f38cd02b494d44c3b66b28d6b66ec566",
       "version_major": 2,
       "version_minor": 0
      },
      "text/plain": [
       "Button(description='load range dataset', style=ButtonStyle())"
      ]
     },
     "execution_count": 3,
     "metadata": {},
     "output_type": "execute_result"
    }
   ],
   "source": [
    "button_r = widgets.Button(\n",
    "    description='load range dataset',\n",
    ")\n",
    "@button_r.on_click\n",
    "def open_file_on_click_r(b):\n",
    "    \"\"\"\n",
    "    Event handler for button click event.\n",
    "    Prompts the user to select a range file and stores the selected file path in the global variable range_path.\n",
    "    \"\"\"\n",
    "    global range_path\n",
    "    range_path = dataset_path_qt.gui_fname().decode('ASCII')\n",
    "button_r"
   ]
  },
  {
   "cell_type": "markdown",
   "metadata": {},
   "source": [
    "<div style=\"margin: 0 auto; padding: 20px; font-family: 'Helvetica', sans-serif; font-size: 16px;\">\n",
    "From the dropdown lists below, you can select the instrument specifications of the dataset. The TDC model and flight path distance are required for the reconstruction.\n",
    "</div>\n"
   ]
  },
  {
   "cell_type": "code",
   "execution_count": 4,
   "metadata": {
    "tags": []
   },
   "outputs": [
    {
     "data": {
      "application/vnd.jupyter.widget-view+json": {
       "model_id": "24c2e430c02d4a5485d35449fb7bcbfa",
       "version_major": 2,
       "version_minor": 0
      },
      "text/plain": [
       "Dropdown(description='Data mode:', options=('PyCCAPT', 'leap_epos', 'leap_pos', 'ato_v6'), value='PyCCAPT')"
      ]
     },
     "metadata": {},
     "output_type": "display_data"
    },
    {
     "data": {
      "application/vnd.jupyter.widget-view+json": {
       "model_id": "62206259b09649499409abecb33b1e80",
       "version_major": 2,
       "version_minor": 0
      },
      "text/plain": [
       "FloatText(value=110.0, description='Flight path length:')"
      ]
     },
     "metadata": {},
     "output_type": "display_data"
    }
   ],
   "source": [
    "tdc, pulse_mode, flightPathLength, t0_d, max_mc, det_diam = wd.dataset_instrument_specification_selection()\n",
    "display(tdc, flightPathLength)"
   ]
  },
  {
   "cell_type": "code",
   "execution_count": 5,
   "metadata": {
    "tags": []
   },
   "outputs": [
    {
     "name": "stdout",
     "output_type": "stream",
     "text": [
      "The maximum time of flight: 5010\n"
     ]
    }
   ],
   "source": [
    "# exctract needed data from Pandas data frame as an numpy array\n",
    "# create an instance of the Variables opject\n",
    "variables = share_variables.Variables()\n",
    "variables.pulse_mode = pulse_mode\n",
    "dataset_main_path = os.path.dirname(dataset_path)\n",
    "dataset_main_path = os.path.dirname(dataset_main_path)\n",
    "dataset_name_with_extention = os.path.basename(dataset_path)\n",
    "variables.dataset_name = os.path.splitext(dataset_name_with_extention)[0]\n",
    "variables.result_data_path = dataset_main_path + '/reconstruction/'\n",
    "variables.result_data_name = variables.dataset_name\n",
    "variables.result_path = dataset_main_path + '/reconstruction/'\n",
    "\n",
    "if not os.path.isdir(variables.result_path):\n",
    "    os.makedirs(variables.result_path, mode=0o777, exist_ok=True)\n",
    "    \n",
    "# Create data farame out of hdf5 file dataset\n",
    "data = data_tools.load_data(dataset_path, tdc.value, mode='processed')\n",
    "# extract data from the path and create the Variable object\n",
    "data_tools.extract_data(data, variables, flightPathLength.value, max_mc.value)"
   ]
  },
  {
   "cell_type": "code",
   "execution_count": 6,
   "metadata": {
    "tags": []
   },
   "outputs": [
    {
     "data": {
      "text/html": [
       "<div>\n",
       "<style scoped>\n",
       "    .dataframe tbody tr th:only-of-type {\n",
       "        vertical-align: middle;\n",
       "    }\n",
       "\n",
       "    .dataframe tbody tr th {\n",
       "        vertical-align: top;\n",
       "    }\n",
       "\n",
       "    .dataframe thead th {\n",
       "        text-align: right;\n",
       "    }\n",
       "</style>\n",
       "<table border=\"1\" class=\"dataframe\">\n",
       "  <thead>\n",
       "    <tr style=\"text-align: right;\">\n",
       "      <th></th>\n",
       "      <th>x (nm)</th>\n",
       "      <th>y (nm)</th>\n",
       "      <th>z (nm)</th>\n",
       "      <th>mc_c (Da)</th>\n",
       "      <th>mc (Da)</th>\n",
       "      <th>high_voltage (V)</th>\n",
       "      <th>pulse</th>\n",
       "      <th>start_counter</th>\n",
       "      <th>t_c (ns)</th>\n",
       "      <th>t (ns)</th>\n",
       "      <th>x_det (cm)</th>\n",
       "      <th>y_det (cm)</th>\n",
       "      <th>pulse_pi</th>\n",
       "      <th>ion_pp</th>\n",
       "    </tr>\n",
       "  </thead>\n",
       "  <tbody>\n",
       "    <tr>\n",
       "      <th>0</th>\n",
       "      <td>0.0</td>\n",
       "      <td>0.0</td>\n",
       "      <td>0.0</td>\n",
       "      <td>27.362214</td>\n",
       "      <td>28.993453</td>\n",
       "      <td>5019.959961</td>\n",
       "      <td>1003.992004</td>\n",
       "      <td>7565</td>\n",
       "      <td>572.395831</td>\n",
       "      <td>618.564148</td>\n",
       "      <td>2.651428</td>\n",
       "      <td>0.594286</td>\n",
       "      <td>0</td>\n",
       "      <td>0</td>\n",
       "    </tr>\n",
       "    <tr>\n",
       "      <th>1</th>\n",
       "      <td>0.0</td>\n",
       "      <td>0.0</td>\n",
       "      <td>0.0</td>\n",
       "      <td>27.034338</td>\n",
       "      <td>29.360520</td>\n",
       "      <td>5019.959961</td>\n",
       "      <td>1003.992004</td>\n",
       "      <td>7664</td>\n",
       "      <td>569.176119</td>\n",
       "      <td>606.260925</td>\n",
       "      <td>-0.055510</td>\n",
       "      <td>0.649796</td>\n",
       "      <td>99</td>\n",
       "      <td>2</td>\n",
       "    </tr>\n",
       "    <tr>\n",
       "      <th>2</th>\n",
       "      <td>0.0</td>\n",
       "      <td>0.0</td>\n",
       "      <td>0.0</td>\n",
       "      <td>27.100974</td>\n",
       "      <td>29.441372</td>\n",
       "      <td>5019.959961</td>\n",
       "      <td>1003.992004</td>\n",
       "      <td>7682</td>\n",
       "      <td>569.832045</td>\n",
       "      <td>606.932983</td>\n",
       "      <td>-0.107755</td>\n",
       "      <td>0.607347</td>\n",
       "      <td>18</td>\n",
       "      <td>1</td>\n",
       "    </tr>\n",
       "    <tr>\n",
       "      <th>3</th>\n",
       "      <td>0.0</td>\n",
       "      <td>0.0</td>\n",
       "      <td>0.0</td>\n",
       "      <td>27.100149</td>\n",
       "      <td>28.725689</td>\n",
       "      <td>5019.959961</td>\n",
       "      <td>1003.992004</td>\n",
       "      <td>7690</td>\n",
       "      <td>569.823932</td>\n",
       "      <td>611.520996</td>\n",
       "      <td>2.285714</td>\n",
       "      <td>-0.457143</td>\n",
       "      <td>8</td>\n",
       "      <td>1</td>\n",
       "    </tr>\n",
       "    <tr>\n",
       "      <th>4</th>\n",
       "      <td>0.0</td>\n",
       "      <td>0.0</td>\n",
       "      <td>0.0</td>\n",
       "      <td>27.236032</td>\n",
       "      <td>29.512555</td>\n",
       "      <td>5019.959961</td>\n",
       "      <td>1003.992004</td>\n",
       "      <td>7794</td>\n",
       "      <td>571.159024</td>\n",
       "      <td>614.298462</td>\n",
       "      <td>0.486531</td>\n",
       "      <td>1.740408</td>\n",
       "      <td>104</td>\n",
       "      <td>1</td>\n",
       "    </tr>\n",
       "    <tr>\n",
       "      <th>...</th>\n",
       "      <td>...</td>\n",
       "      <td>...</td>\n",
       "      <td>...</td>\n",
       "      <td>...</td>\n",
       "      <td>...</td>\n",
       "      <td>...</td>\n",
       "      <td>...</td>\n",
       "      <td>...</td>\n",
       "      <td>...</td>\n",
       "      <td>...</td>\n",
       "      <td>...</td>\n",
       "      <td>...</td>\n",
       "      <td>...</td>\n",
       "      <td>...</td>\n",
       "    </tr>\n",
       "    <tr>\n",
       "      <th>10559761</th>\n",
       "      <td>0.0</td>\n",
       "      <td>0.0</td>\n",
       "      <td>0.0</td>\n",
       "      <td>27.244832</td>\n",
       "      <td>29.759238</td>\n",
       "      <td>6351.169922</td>\n",
       "      <td>1270.234009</td>\n",
       "      <td>19549</td>\n",
       "      <td>571.245368</td>\n",
       "      <td>550.999146</td>\n",
       "      <td>-0.460408</td>\n",
       "      <td>1.456326</td>\n",
       "      <td>105</td>\n",
       "      <td>1</td>\n",
       "    </tr>\n",
       "    <tr>\n",
       "      <th>10559762</th>\n",
       "      <td>0.0</td>\n",
       "      <td>0.0</td>\n",
       "      <td>0.0</td>\n",
       "      <td>27.414528</td>\n",
       "      <td>29.967560</td>\n",
       "      <td>6351.169922</td>\n",
       "      <td>1270.234009</td>\n",
       "      <td>19664</td>\n",
       "      <td>572.907770</td>\n",
       "      <td>551.705505</td>\n",
       "      <td>-1.342041</td>\n",
       "      <td>-0.120816</td>\n",
       "      <td>31</td>\n",
       "      <td>1</td>\n",
       "    </tr>\n",
       "    <tr>\n",
       "      <th>10559763</th>\n",
       "      <td>0.0</td>\n",
       "      <td>0.0</td>\n",
       "      <td>0.0</td>\n",
       "      <td>27.119032</td>\n",
       "      <td>29.029561</td>\n",
       "      <td>6351.169922</td>\n",
       "      <td>1270.234009</td>\n",
       "      <td>19762</td>\n",
       "      <td>570.009661</td>\n",
       "      <td>545.156128</td>\n",
       "      <td>1.567347</td>\n",
       "      <td>0.300408</td>\n",
       "      <td>98</td>\n",
       "      <td>1</td>\n",
       "    </tr>\n",
       "    <tr>\n",
       "      <th>10559764</th>\n",
       "      <td>0.0</td>\n",
       "      <td>0.0</td>\n",
       "      <td>0.0</td>\n",
       "      <td>26.980992</td>\n",
       "      <td>28.815053</td>\n",
       "      <td>6351.169922</td>\n",
       "      <td>1270.234009</td>\n",
       "      <td>19833</td>\n",
       "      <td>568.650437</td>\n",
       "      <td>543.187866</td>\n",
       "      <td>1.319184</td>\n",
       "      <td>-0.868571</td>\n",
       "      <td>71</td>\n",
       "      <td>1</td>\n",
       "    </tr>\n",
       "    <tr>\n",
       "      <th>10559765</th>\n",
       "      <td>0.0</td>\n",
       "      <td>0.0</td>\n",
       "      <td>0.0</td>\n",
       "      <td>27.017776</td>\n",
       "      <td>28.904500</td>\n",
       "      <td>6351.169922</td>\n",
       "      <td>1270.234009</td>\n",
       "      <td>317</td>\n",
       "      <td>569.012971</td>\n",
       "      <td>554.791626</td>\n",
       "      <td>-0.460408</td>\n",
       "      <td>-2.768980</td>\n",
       "      <td>4294947780</td>\n",
       "      <td>1</td>\n",
       "    </tr>\n",
       "  </tbody>\n",
       "</table>\n",
       "<p>10559766 rows × 14 columns</p>\n",
       "</div>"
      ],
      "text/plain": [
       "          x (nm)  y (nm)  z (nm)  mc_c (Da)    mc (Da)  high_voltage (V)  \\\n",
       "0            0.0     0.0     0.0  27.362214  28.993453       5019.959961   \n",
       "1            0.0     0.0     0.0  27.034338  29.360520       5019.959961   \n",
       "2            0.0     0.0     0.0  27.100974  29.441372       5019.959961   \n",
       "3            0.0     0.0     0.0  27.100149  28.725689       5019.959961   \n",
       "4            0.0     0.0     0.0  27.236032  29.512555       5019.959961   \n",
       "...          ...     ...     ...        ...        ...               ...   \n",
       "10559761     0.0     0.0     0.0  27.244832  29.759238       6351.169922   \n",
       "10559762     0.0     0.0     0.0  27.414528  29.967560       6351.169922   \n",
       "10559763     0.0     0.0     0.0  27.119032  29.029561       6351.169922   \n",
       "10559764     0.0     0.0     0.0  26.980992  28.815053       6351.169922   \n",
       "10559765     0.0     0.0     0.0  27.017776  28.904500       6351.169922   \n",
       "\n",
       "                pulse  start_counter    t_c (ns)      t (ns)  x_det (cm)  \\\n",
       "0         1003.992004           7565  572.395831  618.564148    2.651428   \n",
       "1         1003.992004           7664  569.176119  606.260925   -0.055510   \n",
       "2         1003.992004           7682  569.832045  606.932983   -0.107755   \n",
       "3         1003.992004           7690  569.823932  611.520996    2.285714   \n",
       "4         1003.992004           7794  571.159024  614.298462    0.486531   \n",
       "...               ...            ...         ...         ...         ...   \n",
       "10559761  1270.234009          19549  571.245368  550.999146   -0.460408   \n",
       "10559762  1270.234009          19664  572.907770  551.705505   -1.342041   \n",
       "10559763  1270.234009          19762  570.009661  545.156128    1.567347   \n",
       "10559764  1270.234009          19833  568.650437  543.187866    1.319184   \n",
       "10559765  1270.234009            317  569.012971  554.791626   -0.460408   \n",
       "\n",
       "          y_det (cm)    pulse_pi  ion_pp  \n",
       "0           0.594286           0       0  \n",
       "1           0.649796          99       2  \n",
       "2           0.607347          18       1  \n",
       "3          -0.457143           8       1  \n",
       "4           1.740408         104       1  \n",
       "...              ...         ...     ...  \n",
       "10559761    1.456326         105       1  \n",
       "10559762   -0.120816          31       1  \n",
       "10559763    0.300408          98       1  \n",
       "10559764   -0.868571          71       1  \n",
       "10559765   -2.768980  4294947780       1  \n",
       "\n",
       "[10559766 rows x 14 columns]"
      ]
     },
     "execution_count": 6,
     "metadata": {},
     "output_type": "execute_result"
    }
   ],
   "source": [
    "data"
   ]
  },
  {
   "cell_type": "markdown",
   "metadata": {},
   "source": [
    "<div style=\"margin: 0 auto; padding: 20px; font-family: 'Helvetica', sans-serif; font-size: 16px;\">\n",
    "\n",
    "Cell below shows apply the loaded range file and show the range dataset with related colors. If you do not have a range file, the code will create a range file with the name of \"unranged\" and color of black.\n",
    "</div>"
   ]
  },
  {
   "cell_type": "code",
   "execution_count": 7,
   "metadata": {
    "tags": []
   },
   "outputs": [
    {
     "data": {
      "text/html": [
       "<style type=\"text/css\">\n",
       "#T_13bc9_row0_col5 {\n",
       "  background-color: #000000;\n",
       "  width: 50px;\n",
       "  height: 20px;\n",
       "}\n",
       "</style>\n",
       "<table id=\"T_13bc9\">\n",
       "  <thead>\n",
       "    <tr>\n",
       "      <th class=\"blank level0\" >&nbsp;</th>\n",
       "      <th id=\"T_13bc9_level0_col0\" class=\"col_heading level0 col0\" >ion</th>\n",
       "      <th id=\"T_13bc9_level0_col1\" class=\"col_heading level0 col1\" >mass</th>\n",
       "      <th id=\"T_13bc9_level0_col2\" class=\"col_heading level0 col2\" >mc</th>\n",
       "      <th id=\"T_13bc9_level0_col3\" class=\"col_heading level0 col3\" >mc_low</th>\n",
       "      <th id=\"T_13bc9_level0_col4\" class=\"col_heading level0 col4\" >mc_up</th>\n",
       "      <th id=\"T_13bc9_level0_col5\" class=\"col_heading level0 col5\" >color</th>\n",
       "      <th id=\"T_13bc9_level0_col6\" class=\"col_heading level0 col6\" >element</th>\n",
       "      <th id=\"T_13bc9_level0_col7\" class=\"col_heading level0 col7\" >complex</th>\n",
       "      <th id=\"T_13bc9_level0_col8\" class=\"col_heading level0 col8\" >isotop</th>\n",
       "      <th id=\"T_13bc9_level0_col9\" class=\"col_heading level0 col9\" >charge</th>\n",
       "    </tr>\n",
       "  </thead>\n",
       "  <tbody>\n",
       "    <tr>\n",
       "      <th id=\"T_13bc9_level0_row0\" class=\"row_heading level0 row0\" >0</th>\n",
       "      <td id=\"T_13bc9_row0_col0\" class=\"data row0 col0\" >unranged</td>\n",
       "      <td id=\"T_13bc9_row0_col1\" class=\"data row0 col1\" >0</td>\n",
       "      <td id=\"T_13bc9_row0_col2\" class=\"data row0 col2\" >0</td>\n",
       "      <td id=\"T_13bc9_row0_col3\" class=\"data row0 col3\" >0.066648</td>\n",
       "      <td id=\"T_13bc9_row0_col4\" class=\"data row0 col4\" >399.999838</td>\n",
       "      <td id=\"T_13bc9_row0_col5\" class=\"data row0 col5\" >#000000</td>\n",
       "      <td id=\"T_13bc9_row0_col6\" class=\"data row0 col6\" >unranged</td>\n",
       "      <td id=\"T_13bc9_row0_col7\" class=\"data row0 col7\" >0</td>\n",
       "      <td id=\"T_13bc9_row0_col8\" class=\"data row0 col8\" >0</td>\n",
       "      <td id=\"T_13bc9_row0_col9\" class=\"data row0 col9\" >0</td>\n",
       "    </tr>\n",
       "  </tbody>\n",
       "</table>\n"
      ],
      "text/plain": [
       "<pandas.io.formats.style.Styler at 0x14cbde641f0>"
      ]
     },
     "metadata": {},
     "output_type": "display_data"
    }
   ],
   "source": [
    "if 'range_path' in locals():\n",
    "    variables.range_data = data_tools.read_hdf5_through_pandas(range_path)\n",
    "\n",
    "else:\n",
    "    variables.range_data = pd.DataFrame({\"ion\": ['unranged'], \"mass\": [0], \"mc\": [0], \"mass\": [0], \"mc_low\": min(variables.mc_calib), \"mc_up\": max(variables.mc_calib), \"color\": ['#000000'], \"element\": ['unranged'],\n",
    "                                        \"complex\": [0], \"isotop\": [0], \"charge\": [0]})\n",
    "display(variables.range_data.style.applymap(ion_selection.display_color, subset=['color']))"
   ]
  },
  {
   "cell_type": "markdown",
   "metadata": {},
   "source": [
    "<div style=\"margin: 0 auto; padding: 20px; font-family: 'Helvetica', sans-serif; font-size: 16px;\">\n",
    "You can change the color of the range by clicking on the \"change color\" button.\n",
    "</div>"
   ]
  },
  {
   "cell_type": "code",
   "execution_count": 8,
   "metadata": {
    "tags": []
   },
   "outputs": [
    {
     "data": {
      "application/vnd.jupyter.widget-view+json": {
       "model_id": "d43996909d354997b751577c40b90cd7",
       "version_major": 2,
       "version_minor": 0
      },
      "text/plain": [
       "VBox(children=(ColorPicker(value='black', description='Select a color:'), IntText(value=0, description='index …"
      ]
     },
     "metadata": {},
     "output_type": "display_data"
    },
    {
     "data": {
      "application/vnd.jupyter.widget-view+json": {
       "model_id": "9b861054cea345568e5ce7fca47199a1",
       "version_major": 2,
       "version_minor": 0
      },
      "text/plain": [
       "Output()"
      ]
     },
     "metadata": {},
     "output_type": "display_data"
    }
   ],
   "source": [
    "change_color = widgets.Button(\n",
    "    description='change color',\n",
    ")\n",
    "color_picker = widgets.ColorPicker(description='Select a color:')\n",
    "row_index = widgets.IntText(value=0, description='index row:')\n",
    "@change_color.on_click\n",
    "def change_color_m(b,):\n",
    "    with out:\n",
    "        selected_color = mcolors.to_hex(color_picker.value)\n",
    "        variables.range_data.at[row_index.value, 'color'] = selected_color\n",
    "        clear_output(True)\n",
    "        display(variables.range_data.style.applymap(ion_selection.display_color, subset=['color']))\n",
    "        \n",
    "# Create a container for the widgets\n",
    "container = widgets.VBox([color_picker, row_index, change_color])\n",
    "out = Output()\n",
    "# Display the widgets\n",
    "display(container, out)"
   ]
  },
  {
   "cell_type": "markdown",
   "metadata": {},
   "source": [
    "<div style=\"margin: 0 auto; padding: 20px; font-family: 'Helvetica', sans-serif; font-size: 16px;\">\n",
    "\n",
    "The calibrated mass-to-charge ratio that is calculated with previous workflow will be shown below. You can select the range of the data you want to plot. There is also possibility to activate the peak finding tool to show the peak values.\n",
    "</div>"
   ]
  },
  {
   "cell_type": "code",
   "execution_count": 9,
   "metadata": {
    "tags": []
   },
   "outputs": [
    {
     "data": {
      "application/vnd.jupyter.widget-view+json": {
       "model_id": "e21273720d9c47718b67e4ef5583c22c",
       "version_major": 2,
       "version_minor": 0
      },
      "text/plain": [
       "interactive(children=(FloatText(value=0.1, description='bin_size'), Dropdown(description='log', options=(('Tru…"
      ]
     },
     "metadata": {},
     "output_type": "display_data"
    }
   ],
   "source": [
    "interact_manual(mc_plot.hist_plot, variables=fixed(variables), bin_size=widgets.FloatText(value=0.1), log=widgets.Dropdown(options=[('True', True), ('Flase', False)]),\n",
    "                target=widgets.Dropdown(options=[('mc', 'mc'), ('tof', 'tof')]), mode=widgets.Dropdown(options=[('normal', 'normal'), ('normalized', 'normalized')]),\n",
    "                prominence=widgets.IntText(value=100), distance=widgets.IntText(value=100), \n",
    "                lim=widgets.IntText(value=400), percent=widgets.IntText(value=50), selector=fixed('None'), plot=fixed(True), figname=widgets.Text(value='hist'),\n",
    "                peaks_find_plot=widgets.Dropdown(options=[('True', True), ('Flase', False)]), range_plot=fixed(False), selected_area=fixed(False), ranging_mode=fixed(False), save_fig=fixed(True), print_info=fixed(True));"
   ]
  },
  {
   "cell_type": "markdown",
   "metadata": {},
   "source": [
    "<div style=\"margin: 0 auto; padding: 20px; font-family: 'Helvetica', sans-serif; font-size: 16px;\">\n",
    "\n",
    "You have to select the main element in your sample from the from dropdown below.\n",
    "</div>"
   ]
  },
  {
   "cell_type": "code",
   "execution_count": 10,
   "metadata": {
    "tags": []
   },
   "outputs": [
    {
     "data": {
      "application/vnd.jupyter.widget-view+json": {
       "model_id": "13a514bbe455438dbdddc49f6fd7c1f9",
       "version_major": 2,
       "version_minor": 0
      },
      "text/plain": [
       "Dropdown(description='Element', options=((1, 'H', 52.7, 0.0), (2, 'He', 28.7, 0.0), (3, 'Li', 46.3, 14.0), (4,…"
      ]
     },
     "metadata": {},
     "output_type": "display_data"
    }
   ],
   "source": [
    "element_selected = wd.density_field_selection()\n",
    "display(element_selected)"
   ]
  },
  {
   "cell_type": "code",
   "execution_count": 11,
   "metadata": {
    "tags": []
   },
   "outputs": [],
   "source": [
    "avg_dens = element_selected.value[2]\n",
    "field_evap = element_selected.value[3]"
   ]
  },
  {
   "cell_type": "markdown",
   "metadata": {},
   "source": [
    "<div style=\"margin: 0 auto; padding: 20px; font-family: 'Helvetica', sans-serif; font-size: 16px;\">\n",
    "\n",
    "By specifying the parameters such as kf, icf, and detector efficiency, you can reconstruct your sample and generate a final 3D visualization. The 'element_percentage' allows you to select a specific subset of ions to plot, helping to avoid system overload. Additionally, you have the option to enable 'rotary_fig_save' as a boolean to save the 3D plot in a rotary format.\n",
    "\n",
    "</div>"
   ]
  },
  {
   "cell_type": "code",
   "execution_count": 12,
   "metadata": {
    "tags": []
   },
   "outputs": [
    {
     "data": {
      "application/vnd.jupyter.widget-view+json": {
       "model_id": "5bba2054c3cc4ca695b1e9b1f60ba188",
       "version_major": 2,
       "version_minor": 0
      },
      "text/plain": [
       "interactive(children=(Textarea(value='[0.01]', description='element_percentage'), FloatText(value=4.0, descrip…"
      ]
     },
     "metadata": {},
     "output_type": "display_data"
    }
   ],
   "source": [
    "if variables.range_data.empty:\n",
    "    element_percentage = str([0.01])\n",
    "else:\n",
    "    element_percentage = [0.01] * len(variables.range_data['element'].tolist())\n",
    "    element_percentage = str(element_percentage)\n",
    "    \n",
    "\n",
    "interact_manual(reconstruction.x_y_z_calculation_and_plot, kf=widgets.FloatText(value=4), det_eff=widgets.FloatText(value=0.7), icf=widgets.FloatText(value=1.4),\n",
    "                field_evap=widgets.FloatText(value=field_evap),\n",
    "               avg_dens=widgets.FloatText(value=avg_dens), element_percentage=widgets.Textarea(value=element_percentage),\n",
    "               rotary_fig_save=widgets.Dropdown(options=[('True', True), ('False', False)], value=False), variables=fixed(variables), \n",
    "                flight_path_length=fixed(flightPathLength.value), selected_are=fixed(False), figname=widgets.Text(value='3d'),\n",
    "               mode=widgets.Dropdown(options=[('Gault', 'Gault'), ('Bas', 'Bas')]));"
   ]
  },
  {
   "cell_type": "code",
   "execution_count": 14,
   "metadata": {
    "tags": []
   },
   "outputs": [
    {
     "data": {
      "text/html": [
       "<div>\n",
       "<style scoped>\n",
       "    .dataframe tbody tr th:only-of-type {\n",
       "        vertical-align: middle;\n",
       "    }\n",
       "\n",
       "    .dataframe tbody tr th {\n",
       "        vertical-align: top;\n",
       "    }\n",
       "\n",
       "    .dataframe thead th {\n",
       "        text-align: right;\n",
       "    }\n",
       "</style>\n",
       "<table border=\"1\" class=\"dataframe\">\n",
       "  <thead>\n",
       "    <tr style=\"text-align: right;\">\n",
       "      <th></th>\n",
       "      <th>x (nm)</th>\n",
       "      <th>y (nm)</th>\n",
       "      <th>z (nm)</th>\n",
       "      <th>mc_c (Da)</th>\n",
       "      <th>mc (Da)</th>\n",
       "      <th>high_voltage (V)</th>\n",
       "      <th>pulse</th>\n",
       "      <th>start_counter</th>\n",
       "      <th>t_c (ns)</th>\n",
       "      <th>t (ns)</th>\n",
       "      <th>x_det (cm)</th>\n",
       "      <th>y_det (cm)</th>\n",
       "      <th>pulse_pi</th>\n",
       "      <th>ion_pp</th>\n",
       "    </tr>\n",
       "  </thead>\n",
       "  <tbody>\n",
       "    <tr>\n",
       "      <th>0</th>\n",
       "      <td>21.387474</td>\n",
       "      <td>4.793744</td>\n",
       "      <td>3.742590</td>\n",
       "      <td>27.362214</td>\n",
       "      <td>28.993453</td>\n",
       "      <td>5019.959961</td>\n",
       "      <td>1003.992004</td>\n",
       "      <td>7565</td>\n",
       "      <td>572.395831</td>\n",
       "      <td>618.564148</td>\n",
       "      <td>2.651428</td>\n",
       "      <td>0.594286</td>\n",
       "      <td>0</td>\n",
       "      <td>0</td>\n",
       "    </tr>\n",
       "    <tr>\n",
       "      <th>1</th>\n",
       "      <td>-0.465509</td>\n",
       "      <td>5.449197</td>\n",
       "      <td>0.226819</td>\n",
       "      <td>27.034338</td>\n",
       "      <td>29.360520</td>\n",
       "      <td>5019.959961</td>\n",
       "      <td>1003.992004</td>\n",
       "      <td>7664</td>\n",
       "      <td>569.176119</td>\n",
       "      <td>606.260925</td>\n",
       "      <td>-0.055510</td>\n",
       "      <td>0.649796</td>\n",
       "      <td>99</td>\n",
       "      <td>2</td>\n",
       "    </tr>\n",
       "    <tr>\n",
       "      <th>2</th>\n",
       "      <td>-0.903869</td>\n",
       "      <td>5.094536</td>\n",
       "      <td>0.202985</td>\n",
       "      <td>27.100974</td>\n",
       "      <td>29.441372</td>\n",
       "      <td>5019.959961</td>\n",
       "      <td>1003.992004</td>\n",
       "      <td>7682</td>\n",
       "      <td>569.832045</td>\n",
       "      <td>606.932983</td>\n",
       "      <td>-0.107755</td>\n",
       "      <td>0.607347</td>\n",
       "      <td>18</td>\n",
       "      <td>1</td>\n",
       "    </tr>\n",
       "    <tr>\n",
       "      <th>3</th>\n",
       "      <td>18.634826</td>\n",
       "      <td>-3.726965</td>\n",
       "      <td>2.792876</td>\n",
       "      <td>27.100149</td>\n",
       "      <td>28.725689</td>\n",
       "      <td>5019.959961</td>\n",
       "      <td>1003.992004</td>\n",
       "      <td>7690</td>\n",
       "      <td>569.823932</td>\n",
       "      <td>611.520996</td>\n",
       "      <td>2.285714</td>\n",
       "      <td>-0.457143</td>\n",
       "      <td>8</td>\n",
       "      <td>1</td>\n",
       "    </tr>\n",
       "    <tr>\n",
       "      <th>4</th>\n",
       "      <td>4.014661</td>\n",
       "      <td>14.361170</td>\n",
       "      <td>1.705268</td>\n",
       "      <td>27.236032</td>\n",
       "      <td>29.512555</td>\n",
       "      <td>5019.959961</td>\n",
       "      <td>1003.992004</td>\n",
       "      <td>7794</td>\n",
       "      <td>571.159024</td>\n",
       "      <td>614.298462</td>\n",
       "      <td>0.486531</td>\n",
       "      <td>1.740408</td>\n",
       "      <td>104</td>\n",
       "      <td>1</td>\n",
       "    </tr>\n",
       "    <tr>\n",
       "      <th>...</th>\n",
       "      <td>...</td>\n",
       "      <td>...</td>\n",
       "      <td>...</td>\n",
       "      <td>...</td>\n",
       "      <td>...</td>\n",
       "      <td>...</td>\n",
       "      <td>...</td>\n",
       "      <td>...</td>\n",
       "      <td>...</td>\n",
       "      <td>...</td>\n",
       "      <td>...</td>\n",
       "      <td>...</td>\n",
       "      <td>...</td>\n",
       "      <td>...</td>\n",
       "    </tr>\n",
       "    <tr>\n",
       "      <th>10559761</th>\n",
       "      <td>-4.831920</td>\n",
       "      <td>15.283945</td>\n",
       "      <td>57.205555</td>\n",
       "      <td>27.244832</td>\n",
       "      <td>29.759238</td>\n",
       "      <td>6351.169922</td>\n",
       "      <td>1270.234009</td>\n",
       "      <td>19549</td>\n",
       "      <td>571.245368</td>\n",
       "      <td>550.999146</td>\n",
       "      <td>-0.460408</td>\n",
       "      <td>1.456326</td>\n",
       "      <td>105</td>\n",
       "      <td>1</td>\n",
       "    </tr>\n",
       "    <tr>\n",
       "      <th>10559762</th>\n",
       "      <td>-14.125940</td>\n",
       "      <td>-1.271678</td>\n",
       "      <td>56.866164</td>\n",
       "      <td>27.414528</td>\n",
       "      <td>29.967560</td>\n",
       "      <td>6351.169922</td>\n",
       "      <td>1270.234009</td>\n",
       "      <td>19664</td>\n",
       "      <td>572.907770</td>\n",
       "      <td>551.705505</td>\n",
       "      <td>-1.342041</td>\n",
       "      <td>-0.120816</td>\n",
       "      <td>31</td>\n",
       "      <td>1</td>\n",
       "    </tr>\n",
       "    <tr>\n",
       "      <th>10559763</th>\n",
       "      <td>16.429191</td>\n",
       "      <td>3.148928</td>\n",
       "      <td>57.345214</td>\n",
       "      <td>27.119032</td>\n",
       "      <td>29.029561</td>\n",
       "      <td>6351.169922</td>\n",
       "      <td>1270.234009</td>\n",
       "      <td>19762</td>\n",
       "      <td>570.009661</td>\n",
       "      <td>545.156128</td>\n",
       "      <td>1.567347</td>\n",
       "      <td>0.300408</td>\n",
       "      <td>98</td>\n",
       "      <td>1</td>\n",
       "    </tr>\n",
       "    <tr>\n",
       "      <th>10559764</th>\n",
       "      <td>13.831981</td>\n",
       "      <td>-9.107195</td>\n",
       "      <td>57.311214</td>\n",
       "      <td>26.980992</td>\n",
       "      <td>28.815053</td>\n",
       "      <td>6351.169922</td>\n",
       "      <td>1270.234009</td>\n",
       "      <td>19833</td>\n",
       "      <td>568.650437</td>\n",
       "      <td>543.187866</td>\n",
       "      <td>1.319184</td>\n",
       "      <td>-0.868571</td>\n",
       "      <td>71</td>\n",
       "      <td>1</td>\n",
       "    </tr>\n",
       "    <tr>\n",
       "      <th>10559765</th>\n",
       "      <td>-4.686109</td>\n",
       "      <td>-28.183125</td>\n",
       "      <td>60.689258</td>\n",
       "      <td>27.017776</td>\n",
       "      <td>28.904500</td>\n",
       "      <td>6351.169922</td>\n",
       "      <td>1270.234009</td>\n",
       "      <td>317</td>\n",
       "      <td>569.012971</td>\n",
       "      <td>554.791626</td>\n",
       "      <td>-0.460408</td>\n",
       "      <td>-2.768980</td>\n",
       "      <td>4294947780</td>\n",
       "      <td>1</td>\n",
       "    </tr>\n",
       "  </tbody>\n",
       "</table>\n",
       "<p>10559766 rows × 14 columns</p>\n",
       "</div>"
      ],
      "text/plain": [
       "             x (nm)     y (nm)     z (nm)  mc_c (Da)    mc (Da)  \\\n",
       "0         21.387474   4.793744   3.742590  27.362214  28.993453   \n",
       "1         -0.465509   5.449197   0.226819  27.034338  29.360520   \n",
       "2         -0.903869   5.094536   0.202985  27.100974  29.441372   \n",
       "3         18.634826  -3.726965   2.792876  27.100149  28.725689   \n",
       "4          4.014661  14.361170   1.705268  27.236032  29.512555   \n",
       "...             ...        ...        ...        ...        ...   \n",
       "10559761  -4.831920  15.283945  57.205555  27.244832  29.759238   \n",
       "10559762 -14.125940  -1.271678  56.866164  27.414528  29.967560   \n",
       "10559763  16.429191   3.148928  57.345214  27.119032  29.029561   \n",
       "10559764  13.831981  -9.107195  57.311214  26.980992  28.815053   \n",
       "10559765  -4.686109 -28.183125  60.689258  27.017776  28.904500   \n",
       "\n",
       "          high_voltage (V)        pulse  start_counter    t_c (ns)  \\\n",
       "0              5019.959961  1003.992004           7565  572.395831   \n",
       "1              5019.959961  1003.992004           7664  569.176119   \n",
       "2              5019.959961  1003.992004           7682  569.832045   \n",
       "3              5019.959961  1003.992004           7690  569.823932   \n",
       "4              5019.959961  1003.992004           7794  571.159024   \n",
       "...                    ...          ...            ...         ...   \n",
       "10559761       6351.169922  1270.234009          19549  571.245368   \n",
       "10559762       6351.169922  1270.234009          19664  572.907770   \n",
       "10559763       6351.169922  1270.234009          19762  570.009661   \n",
       "10559764       6351.169922  1270.234009          19833  568.650437   \n",
       "10559765       6351.169922  1270.234009            317  569.012971   \n",
       "\n",
       "              t (ns)  x_det (cm)  y_det (cm)    pulse_pi  ion_pp  \n",
       "0         618.564148    2.651428    0.594286           0       0  \n",
       "1         606.260925   -0.055510    0.649796          99       2  \n",
       "2         606.932983   -0.107755    0.607347          18       1  \n",
       "3         611.520996    2.285714   -0.457143           8       1  \n",
       "4         614.298462    0.486531    1.740408         104       1  \n",
       "...              ...         ...         ...         ...     ...  \n",
       "10559761  550.999146   -0.460408    1.456326         105       1  \n",
       "10559762  551.705505   -1.342041   -0.120816          31       1  \n",
       "10559763  545.156128    1.567347    0.300408          98       1  \n",
       "10559764  543.187866    1.319184   -0.868571          71       1  \n",
       "10559765  554.791626   -0.460408   -2.768980  4294947780       1  \n",
       "\n",
       "[10559766 rows x 14 columns]"
      ]
     },
     "execution_count": 14,
     "metadata": {},
     "output_type": "execute_result"
    }
   ],
   "source": [
    "data['x (nm)'] = variables.x\n",
    "data['y (nm)'] = variables.y\n",
    "data['z (nm)'] = variables.z\n",
    "data"
   ]
  },
  {
   "cell_type": "code",
   "execution_count": 30,
   "metadata": {
    "tags": []
   },
   "outputs": [
    {
     "data": {
      "application/vnd.jupyter.widget-view+json": {
       "model_id": "c01b6d5a1b454a779f81e94528265f96",
       "version_major": 2,
       "version_minor": 0
      },
      "text/plain": [
       "VBox(children=(Tab(children=(VBox(children=(Dropdown(description='Selected area', options=(('False', False), (…"
      ]
     },
     "metadata": {},
     "output_type": "display_data"
    },
    {
     "data": {
      "application/vnd.jupyter.widget-view+json": {
       "model_id": "905be21508ed41debb1130b21a35538f",
       "version_major": 2,
       "version_minor": 0
      },
      "text/plain": [
       "Output()"
      ]
     },
     "metadata": {},
     "output_type": "display_data"
    }
   ],
   "source": [
    "plot_3d_button = widgets.Button(\n",
    "    description='plot 3D',\n",
    ")\n",
    "plot_heatmap_button = widgets.Button(\n",
    "    description='plot heatmap',\n",
    ")\n",
    "plot_mc_button = widgets.Button(\n",
    "    description='plot mc',\n",
    ")\n",
    "plot_projection_button = widgets.Button(\n",
    "    description='plot projection',\n",
    ")\n",
    "\n",
    "clear_button = widgets.Button(\n",
    "    description='Clear plots',\n",
    ")\n",
    "\n",
    "figname_3d=widgets.Text(value='3d_plot', description='fig name')\n",
    "selected_area_p3=widgets.Dropdown(options=[('False', False), ('True', True)], description='Selected area')\n",
    "rotary_fig_save_p3=widgets.Dropdown(options=[('True', True), ('False', False)], description='Rotary save')\n",
    "element_percentage_p3=widgets.Textarea(value=element_percentage, description='Element percentage')\n",
    "@plot_3d_button.on_click\n",
    "def plot_3d(b):\n",
    "    with out:\n",
    "        if selected_area_p3.value:\n",
    "            variables.selected_z1 = variables.selected_y1\n",
    "            variables.selected_z2 = variables.selected_y2\n",
    "            variables.selected_y1 = variables.selected_x1\n",
    "            variables.selected_y2 = variables.selected_x2\n",
    "            print('Min x (nm):', variables.selected_x1, 'Max x (nm):', variables.selected_x2)\n",
    "            print('Min y (nm):', variables.selected_y1, 'Max y (nm):', variables.selected_y2)\n",
    "            print('Min z (nm):', variables.selected_z1, 'Max z (nm):', variables.selected_z2)\n",
    "        reconstruction.reconstruction_plot(variables, element_percentage_p3.value, rotary_fig_save_p3.value, selected_area_p3.value, figname_3d.value)\n",
    "\n",
    "selected_area_ph=widgets.Dropdown(options=[('False', False), ('True', True)], description='Selected area')\n",
    "element_percentage_ph=widgets.Textarea(value=element_percentage, description='Element percentage')\n",
    "figname_heatmap=widgets.Text(value='heatmap', description='fig name')\n",
    "@plot_heatmap_button.on_click\n",
    "def plot_heatmap(b, variables=variables):\n",
    "    with out:\n",
    "        if selected_area_ph.value:\n",
    "            variables.selected_z1 = variables.selected_y1\n",
    "            variables.selected_z2 = variables.selected_y2\n",
    "            variables.selected_y1 = variables.selected_x1\n",
    "            variables.selected_y2 = variables.selected_x2\n",
    "            print('Min x (nm):', variables.selected_x1, 'Max x (nm):', variables.selected_x2)\n",
    "            print('Min y (nm):', variables.selected_y1, 'Max y (nm):', variables.selected_y2)\n",
    "            print('Min z (nm):', variables.selected_z1, 'Max z (nm):', variables.selected_z2)\n",
    "\n",
    "        reconstruction.heatmap(variables, selected_area_ph.value, element_percentage_ph.value, save=True)\n",
    "\n",
    "selected_area_pm=widgets.Dropdown(options=[('False', False), ('True', True)], description='Selected area')\n",
    "peak_find_plot=widgets.Dropdown(options=[('True', True), ('False', False)], description='peak find')\n",
    "rangging=widgets.Dropdown(options=[('False', False), ('True', True)], description='rangging')\n",
    "range_file_exist_pm=widgets.Dropdown(options=[('True', True), ('False', False)], description='Range exist')\n",
    "bin_size_pm = widgets.FloatText(value=0.1, description='Bins size')\n",
    "lim_mc_pm = widgets.IntText(value=150, description='Limit mc')\n",
    "prominence=widgets.IntText(value=50, description='peak prominance:')\n",
    "distance=widgets.IntText(value=50, description='peak distance:')\n",
    "hist_color_range=widgets.Dropdown(options=[('True', True), ('False', False)], description='hist color')\n",
    "figname_mc=widgets.Text(value='mc', description='fig name')\n",
    "@plot_mc_button.on_click\n",
    "def plot_mc(b,):\n",
    "    with out:\n",
    "        if selected_area_pm.value:\n",
    "            variables.selected_z1 = variables.selected_y1\n",
    "            variables.selected_z2 = variables.selected_y2\n",
    "            variables.selected_y1 = variables.selected_x1\n",
    "            variables.selected_y2 = variables.selected_x2\n",
    "            print('Min x (nm):', variables.selected_x1, 'Max x (nm):', variables.selected_x2)\n",
    "            print('Min y (nm):', variables.selected_y1, 'Max y (nm):', variables.selected_y2)\n",
    "            print('Min z (nm):', variables.selected_z1, 'Max z (nm):', variables.selected_z2)\n",
    "\n",
    "        mc_plot.hist_plot(variables, bin_size_pm.value, log=True, target='mc', mode='normal', prominence=prominence.value, distance=distance.value, percent=50, selector='None', figname=figname_mc.value, lim=lim_mc_pm.value,\n",
    "                          peaks_find_plot=peak_find_plot.value, range_plot=rangging.value, selected_area=selected_area_pm.value, print_info=False)\n",
    "\n",
    "element_percentage_pp=widgets.Textarea(value=element_percentage, description='Element percentage')\n",
    "selected_area_pp=widgets.Dropdown(options=[('False', False), ('True', True)], description='Selected area')\n",
    "x_or_y_pp=widgets.Dropdown(options=['x', 'y'], value='x', description='X or Y')\n",
    "figname_p = widgets.Text(value='projection', description='fig name')\n",
    "@plot_projection_button.on_click\n",
    "def plot_projection(b,):\n",
    "    with out:\n",
    "        if selected_area_pp.value:\n",
    "            variables.selected_z1 = variables.selected_y1\n",
    "            variables.selected_z2 = variables.selected_y2\n",
    "            variables.selected_y1 = variables.selected_x1\n",
    "            variables.selected_y2 = variables.selected_x2\n",
    "            print('Min x (nm):', variables.selected_x1, 'Max x (nm):', variables.selected_x2)\n",
    "            print('Min y (nm):', variables.selected_y1, 'Max y (nm):', variables.selected_y2)\n",
    "            print('Min z (nm):', variables.selected_z1, 'Max z (nm):', variables.selected_z2)\n",
    "\n",
    "        reconstruction.projection(variables, element_percentage_pp.value, selected_area_pp.value, x_or_y_pp.value, figname_p.value)\n",
    "\n",
    "@clear_button.on_click\n",
    "def clear(b,):\n",
    "    with out:\n",
    "        clear_output(True)\n",
    "        print('')\n",
    "\n",
    "\n",
    "tab1 = VBox(children=[selected_area_pp, x_or_y_pp, element_percentage_pp, figname_p, plot_projection_button, clear_button])\n",
    "tab2 = VBox(children=[selected_area_p3, rotary_fig_save_p3, element_percentage_p3, figname_3d, plot_3d_button, clear_button])\n",
    "tab3 = VBox(children=[selected_area_pm, bin_size_pm, prominence, distance, lim_mc_pm, peak_find_plot, rangging, figname_mc, plot_mc_button, clear_button])\n",
    "tab4 = VBox(children=[selected_area_ph, element_percentage_ph, figname_heatmap, plot_heatmap_button, clear_button])\n",
    "\n",
    "tab = widgets.Tab(children=[tab1, tab2, tab3, tab4])\n",
    "tab.set_title(0, 'projection')\n",
    "tab.set_title(1, '3d plot')\n",
    "tab.set_title(2, 'mc plot')\n",
    "tab.set_title(3, 'heatmap plot')\n",
    "\n",
    "out = Output()"
   ]
  },
  {
   "cell_type": "markdown",
   "metadata": {},
   "source": [
    "<div style=\"margin: 0 auto; padding: 20px; font-family: 'Helvetica', sans-serif; font-size: 16px;\">\n",
    "\n",
    "Here you can plot the 3d, heatmap, projection plots and mass-to-charge histogram. You can also save the plots by clicking on the \"save plots\" button. It is also possible to select a specific area of projection plot and then plot the 3d, heatmap, projection plots and mass-to-charge histogram of the selected area. You can also save the plots of the selected area by clicking on the \"save plots\" button.\n",
    "\n",
    "</div>"
   ]
  },
  {
   "cell_type": "code",
   "execution_count": null,
   "metadata": {
    "collapsed": false,
    "jupyter": {
     "outputs_hidden": false
    }
   },
   "outputs": [],
   "source": [
    "display(VBox(children=[tab]))\n",
    "display(out)"
   ]
  },
  {
   "cell_type": "markdown",
   "metadata": {},
   "source": [
    "<div style=\"margin: 0 auto; padding: 20px; font-family: 'Helvetica', sans-serif; font-size: 16px;\">\n",
    "\n",
    "Save the cropped dataset. You can specify te output format from list below. The output formats are HDF5, EPOS, POS, ATO, and CSV. The output file will be saved in the same directory as the original dataset file in a new directory nammed load_crop.\n",
    "</div>"
   ]
  },
  {
   "cell_type": "code",
   "execution_count": 31,
   "metadata": {
    "tags": []
   },
   "outputs": [
    {
     "data": {
      "application/vnd.jupyter.widget-view+json": {
       "model_id": "0ae46c3fb408407e991df69cc519a6de",
       "version_major": 2,
       "version_minor": 0
      },
      "text/plain": [
       "interactive(children=(Dropdown(description='hdf', options=(('True', True), ('False', False)), value=True), Dro…"
      ]
     },
     "metadata": {},
     "output_type": "display_data"
    }
   ],
   "source": [
    "interact_manual(data_tools.save_data, data=fixed(data), variables=fixed(variables),\n",
    "                hdf=widgets.Dropdown(options=[('True', True), ('False', False)]),\n",
    "                epos=widgets.Dropdown(options=[('False', False), ('True', True)]), \n",
    "                pos=widgets.Dropdown(options=[('False', False), ('True', True)]), \n",
    "                ato_6v=widgets.Dropdown(options=[('False', False), ('True', True)]), \n",
    "                csv=widgets.Dropdown(options=[('False', False), ('True', True)]));"
   ]
  },
  {
   "cell_type": "code",
   "execution_count": null,
   "metadata": {},
   "outputs": [],
   "source": []
  }
 ],
 "metadata": {
  "kernelspec": {
   "display_name": "Python 3 (ipykernel)",
   "language": "python",
   "name": "python3"
  },
  "language_info": {
   "codemirror_mode": {
    "name": "ipython",
    "version": 3
   },
   "file_extension": ".py",
   "mimetype": "text/x-python",
   "name": "python",
   "nbconvert_exporter": "python",
   "pygments_lexer": "ipython3",
   "version": "3.8.16"
  },
  "widgets": {
   "application/vnd.jupyter.widget-state+json": {
    "state": {},
    "version_major": 2,
    "version_minor": 0
   }
  }
 },
 "nbformat": 4,
 "nbformat_minor": 4
}

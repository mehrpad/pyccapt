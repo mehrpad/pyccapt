{
 "cells": [
  {
   "cell_type": "markdown",
   "metadata": {},
   "source": [
    "<div style=\"margin: 0 auto; padding: 20px; font-family: 'Helvetica', sans-serif; font-size: 16px;\">\n",
    "\n",
    "## Ion Selection and Rangging\n",
    "\n",
    "This tutorial outlines a comprehensive workflow for ion selection and organization. Users can choose ions using peak and element finders, manually add ions, customize ion colors, and create histograms. Histograms can be generated for selected ranges and areas, and figures can be saved. Additionally, users have the option to save both figures and data in CSV and HDF5 formats.\n",
    "\n",
    "</div>"
   ]
  },
  {
   "cell_type": "code",
   "execution_count": 1,
   "metadata": {
    "collapsed": false,
    "jupyter": {
     "outputs_hidden": false
    },
    "tags": []
   },
   "outputs": [],
   "source": [
    "# Activate intractive functionality of matplotlib\n",
    "%matplotlib ipympl\n",
    "# Activate auto reload\n",
    "%load_ext autoreload\n",
    "%autoreload 2\n",
    "%reload_ext autoreload\n",
    "# import libraries\n",
    "import os\n",
    "import pandas as pd\n",
    "from ipywidgets import fixed, interact_manual, widgets\n",
    "from ipywidgets import HBox, VBox\n",
    "from ipywidgets import Output\n",
    "from IPython.display import clear_output\n",
    "import matplotlib.colors as mcolors\n",
    "import warnings\n",
    "# Ignore all warnings\n",
    "warnings.filterwarnings(\"ignore\")\n",
    "\n",
    "# Local module and scripts\n",
    "from pyccapt.calibration.calibration_tools import share_variables, ion_selection\n",
    "from pyccapt.calibration.calibration_tools import widgets as wd\n",
    "from pyccapt.calibration.data_tools import data_tools, dataset_path_qt\n",
    "from pyccapt.calibration.calibration_tools import mc_plot"
   ]
  },
  {
   "cell_type": "markdown",
   "metadata": {},
   "source": [
    "<div style=\"margin: 0 auto; padding: 20px; font-family: 'Helvetica', sans-serif; font-size: 16px;\">\n",
    "\n",
    "By clicking on the button below, you can select the dataset file you want to use. The dataset file can be in various formats, including HDF5, EPOS, POS, ATO, and CSV.\n",
    "</div>"
   ]
  },
  {
   "cell_type": "code",
   "execution_count": 15,
   "metadata": {
    "tags": []
   },
   "outputs": [
    {
     "data": {
      "application/vnd.jupyter.widget-view+json": {
       "model_id": "b1d59b67942e493b99afc438025a7d54",
       "version_major": 2,
       "version_minor": 0
      },
      "text/plain": [
       "Button(description='load dataset', style=ButtonStyle())"
      ]
     },
     "execution_count": 15,
     "metadata": {},
     "output_type": "execute_result"
    }
   ],
   "source": [
    "button = widgets.Button(\n",
    "    description='load dataset',\n",
    ")\n",
    "@button.on_click\n",
    "def open_file_on_click(b):\n",
    "    \"\"\"\n",
    "    Event handler for button click event.\n",
    "    Prompts the user to select a dataset file and stores the selected file path in the global variable dataset_path.\n",
    "    \"\"\"\n",
    "    global dataset_path\n",
    "    dataset_path = dataset_path_qt.gui_fname().decode('ASCII')\n",
    "button"
   ]
  },
  {
   "cell_type": "markdown",
   "metadata": {},
   "source": [
    "<div style=\"margin: 0 auto; padding: 20px; font-family: 'Helvetica', sans-serif; font-size: 16px;\">\n",
    "From the dropdown lists below, you can select the instrument specifications of the dataset. The TDC model and flight path distance are required for the reconstruction.\n",
    "</div>\n"
   ]
  },
  {
   "cell_type": "code",
   "execution_count": 16,
   "metadata": {
    "tags": []
   },
   "outputs": [
    {
     "data": {
      "application/vnd.jupyter.widget-view+json": {
       "model_id": "800b56be09e848af843eee5abb60efd0",
       "version_major": 2,
       "version_minor": 0
      },
      "text/plain": [
       "Dropdown(description='Data mode:', options=('PyCCAPT', 'leap_epos', 'leap_pos', 'ato_v6'), value='PyCCAPT')"
      ]
     },
     "metadata": {},
     "output_type": "display_data"
    },
    {
     "data": {
      "application/vnd.jupyter.widget-view+json": {
       "model_id": "f692398cbb184bb29bae4137e1787123",
       "version_major": 2,
       "version_minor": 0
      },
      "text/plain": [
       "FloatText(value=110.0, description='Flight path length:')"
      ]
     },
     "metadata": {},
     "output_type": "display_data"
    }
   ],
   "source": [
    "tdc, pulse_mode, flightPathLength_d, t0_d, max_mc, det_diam = wd.dataset_instrument_specification_selection()\n",
    "display(tdc, flightPathLength_d)"
   ]
  },
  {
   "cell_type": "markdown",
   "metadata": {
    "pycharm": {
     "name": "#%% md\n"
    }
   },
   "source": [
    "$$\\textbf{You can specify which dataset to use in below block}$$"
   ]
  },
  {
   "cell_type": "code",
   "execution_count": 11,
   "metadata": {
    "tags": []
   },
   "outputs": [
    {
     "ename": "NameError",
     "evalue": "name 'dataset_path' is not defined",
     "output_type": "error",
     "traceback": [
      "\u001b[1;31m---------------------------------------------------------------------------\u001b[0m",
      "\u001b[1;31mNameError\u001b[0m                                 Traceback (most recent call last)",
      "Cell \u001b[1;32mIn[11], line 4\u001b[0m\n\u001b[0;32m      1\u001b[0m \u001b[38;5;66;03m# exctract needed data from Pandas data frame as an numpy array\u001b[39;00m\n\u001b[0;32m      2\u001b[0m \u001b[38;5;66;03m# create an instance of the Variables opject\u001b[39;00m\n\u001b[0;32m      3\u001b[0m variables \u001b[38;5;241m=\u001b[39m share_variables\u001b[38;5;241m.\u001b[39mVariables()\n\u001b[1;32m----> 4\u001b[0m dataset_main_path \u001b[38;5;241m=\u001b[39m os\u001b[38;5;241m.\u001b[39mpath\u001b[38;5;241m.\u001b[39mdirname(\u001b[43mdataset_path\u001b[49m)\n\u001b[0;32m      5\u001b[0m dataset_name_with_extention \u001b[38;5;241m=\u001b[39m os\u001b[38;5;241m.\u001b[39mpath\u001b[38;5;241m.\u001b[39mbasename(dataset_path)\n\u001b[0;32m      6\u001b[0m dataset_main_path \u001b[38;5;241m=\u001b[39m os\u001b[38;5;241m.\u001b[39mpath\u001b[38;5;241m.\u001b[39mdirname(dataset_main_path)\n",
      "\u001b[1;31mNameError\u001b[0m: name 'dataset_path' is not defined"
     ]
    }
   ],
   "source": [
    "# exctract needed data from Pandas data frame as an numpy array\n",
    "# create an instance of the Variables opject\n",
    "variables = share_variables.Variables()\n",
    "dataset_main_path = os.path.dirname(dataset_path)\n",
    "dataset_name_with_extention = os.path.basename(dataset_path)\n",
    "dataset_main_path = os.path.dirname(dataset_main_path)\n",
    "variables.dataset_name = os.path.splitext(dataset_name_with_extention)[0]\n",
    "variables.result_data_path = dataset_main_path + '/ions_selection/'\n",
    "variables.result_data_name = 'range_' + variables.dataset_name\n",
    "variables.result_path = dataset_main_path + '/' + '/ions_selection/'\n",
    "\n",
    "if not os.path.isdir(variables.result_path):\n",
    "    os.makedirs(variables.result_path, mode=0o777, exist_ok=True)\n",
    "    \n",
    "# Create data farame out of hdf5 file dataset\n",
    "data = data_tools.load_data(dataset_path, tdc.value, mode='processed')\n",
    "# extract data from the path and create the Variable object\n",
    "data_tools.extract_data(data, variables, flightPathLength_d.value, max_mc.value)"
   ]
  },
  {
   "cell_type": "code",
   "execution_count": 18,
   "metadata": {
    "pycharm": {
     "name": "#%%\n"
    },
    "tags": []
   },
   "outputs": [
    {
     "name": "stdout",
     "output_type": "stream",
     "text": [
      "The data will be saved on the path: D:/pyccapt/tests/data/data_1642_Aug-30-2023_16-05_Al_test4/ions_selection/\n",
      "=============================\n",
      "The dataset name after saving is: range_pyccapt_data_1642_Aug-30-2023_16-05_Al_test4\n",
      "=============================\n",
      "The figures will be saved on the path: D:/pyccapt/tests/data/data_1642_Aug-30-2023_16-05_Al_test4//ions_selection/\n",
      "=============================\n",
      "Total number of Ions: 10559766\n"
     ]
    },
    {
     "data": {
      "text/html": [
       "<div>\n",
       "<style scoped>\n",
       "    .dataframe tbody tr th:only-of-type {\n",
       "        vertical-align: middle;\n",
       "    }\n",
       "\n",
       "    .dataframe tbody tr th {\n",
       "        vertical-align: top;\n",
       "    }\n",
       "\n",
       "    .dataframe thead th {\n",
       "        text-align: right;\n",
       "    }\n",
       "</style>\n",
       "<table border=\"1\" class=\"dataframe\">\n",
       "  <thead>\n",
       "    <tr style=\"text-align: right;\">\n",
       "      <th></th>\n",
       "      <th>x (nm)</th>\n",
       "      <th>y (nm)</th>\n",
       "      <th>z (nm)</th>\n",
       "      <th>mc_c (Da)</th>\n",
       "      <th>mc (Da)</th>\n",
       "      <th>high_voltage (V)</th>\n",
       "      <th>pulse</th>\n",
       "      <th>start_counter</th>\n",
       "      <th>t_c (ns)</th>\n",
       "      <th>t (ns)</th>\n",
       "      <th>x_det (cm)</th>\n",
       "      <th>y_det (cm)</th>\n",
       "      <th>pulse_pi</th>\n",
       "      <th>ion_pp</th>\n",
       "    </tr>\n",
       "  </thead>\n",
       "  <tbody>\n",
       "    <tr>\n",
       "      <th>0</th>\n",
       "      <td>21.387474</td>\n",
       "      <td>4.793744</td>\n",
       "      <td>3.742590</td>\n",
       "      <td>27.362214</td>\n",
       "      <td>28.993453</td>\n",
       "      <td>5019.959961</td>\n",
       "      <td>1003.992004</td>\n",
       "      <td>7565</td>\n",
       "      <td>572.395831</td>\n",
       "      <td>618.564148</td>\n",
       "      <td>2.651428</td>\n",
       "      <td>0.594286</td>\n",
       "      <td>0</td>\n",
       "      <td>0</td>\n",
       "    </tr>\n",
       "    <tr>\n",
       "      <th>1</th>\n",
       "      <td>-0.465509</td>\n",
       "      <td>5.449197</td>\n",
       "      <td>0.226819</td>\n",
       "      <td>27.034338</td>\n",
       "      <td>29.360520</td>\n",
       "      <td>5019.959961</td>\n",
       "      <td>1003.992004</td>\n",
       "      <td>7664</td>\n",
       "      <td>569.176119</td>\n",
       "      <td>606.260925</td>\n",
       "      <td>-0.055510</td>\n",
       "      <td>0.649796</td>\n",
       "      <td>99</td>\n",
       "      <td>2</td>\n",
       "    </tr>\n",
       "    <tr>\n",
       "      <th>2</th>\n",
       "      <td>-0.903869</td>\n",
       "      <td>5.094536</td>\n",
       "      <td>0.202985</td>\n",
       "      <td>27.100974</td>\n",
       "      <td>29.441372</td>\n",
       "      <td>5019.959961</td>\n",
       "      <td>1003.992004</td>\n",
       "      <td>7682</td>\n",
       "      <td>569.832045</td>\n",
       "      <td>606.932983</td>\n",
       "      <td>-0.107755</td>\n",
       "      <td>0.607347</td>\n",
       "      <td>18</td>\n",
       "      <td>1</td>\n",
       "    </tr>\n",
       "    <tr>\n",
       "      <th>3</th>\n",
       "      <td>18.634826</td>\n",
       "      <td>-3.726965</td>\n",
       "      <td>2.792876</td>\n",
       "      <td>27.100149</td>\n",
       "      <td>28.725689</td>\n",
       "      <td>5019.959961</td>\n",
       "      <td>1003.992004</td>\n",
       "      <td>7690</td>\n",
       "      <td>569.823932</td>\n",
       "      <td>611.520996</td>\n",
       "      <td>2.285714</td>\n",
       "      <td>-0.457143</td>\n",
       "      <td>8</td>\n",
       "      <td>1</td>\n",
       "    </tr>\n",
       "    <tr>\n",
       "      <th>4</th>\n",
       "      <td>4.014661</td>\n",
       "      <td>14.361170</td>\n",
       "      <td>1.705268</td>\n",
       "      <td>27.236032</td>\n",
       "      <td>29.512555</td>\n",
       "      <td>5019.959961</td>\n",
       "      <td>1003.992004</td>\n",
       "      <td>7794</td>\n",
       "      <td>571.159024</td>\n",
       "      <td>614.298462</td>\n",
       "      <td>0.486531</td>\n",
       "      <td>1.740408</td>\n",
       "      <td>104</td>\n",
       "      <td>1</td>\n",
       "    </tr>\n",
       "    <tr>\n",
       "      <th>...</th>\n",
       "      <td>...</td>\n",
       "      <td>...</td>\n",
       "      <td>...</td>\n",
       "      <td>...</td>\n",
       "      <td>...</td>\n",
       "      <td>...</td>\n",
       "      <td>...</td>\n",
       "      <td>...</td>\n",
       "      <td>...</td>\n",
       "      <td>...</td>\n",
       "      <td>...</td>\n",
       "      <td>...</td>\n",
       "      <td>...</td>\n",
       "      <td>...</td>\n",
       "    </tr>\n",
       "    <tr>\n",
       "      <th>10559761</th>\n",
       "      <td>-4.831920</td>\n",
       "      <td>15.283945</td>\n",
       "      <td>57.205555</td>\n",
       "      <td>27.244832</td>\n",
       "      <td>29.759238</td>\n",
       "      <td>6351.169922</td>\n",
       "      <td>1270.234009</td>\n",
       "      <td>19549</td>\n",
       "      <td>571.245368</td>\n",
       "      <td>550.999146</td>\n",
       "      <td>-0.460408</td>\n",
       "      <td>1.456326</td>\n",
       "      <td>105</td>\n",
       "      <td>1</td>\n",
       "    </tr>\n",
       "    <tr>\n",
       "      <th>10559762</th>\n",
       "      <td>-14.125940</td>\n",
       "      <td>-1.271678</td>\n",
       "      <td>56.866164</td>\n",
       "      <td>27.414528</td>\n",
       "      <td>29.967560</td>\n",
       "      <td>6351.169922</td>\n",
       "      <td>1270.234009</td>\n",
       "      <td>19664</td>\n",
       "      <td>572.907770</td>\n",
       "      <td>551.705505</td>\n",
       "      <td>-1.342041</td>\n",
       "      <td>-0.120816</td>\n",
       "      <td>31</td>\n",
       "      <td>1</td>\n",
       "    </tr>\n",
       "    <tr>\n",
       "      <th>10559763</th>\n",
       "      <td>16.429191</td>\n",
       "      <td>3.148928</td>\n",
       "      <td>57.345214</td>\n",
       "      <td>27.119032</td>\n",
       "      <td>29.029561</td>\n",
       "      <td>6351.169922</td>\n",
       "      <td>1270.234009</td>\n",
       "      <td>19762</td>\n",
       "      <td>570.009661</td>\n",
       "      <td>545.156128</td>\n",
       "      <td>1.567347</td>\n",
       "      <td>0.300408</td>\n",
       "      <td>98</td>\n",
       "      <td>1</td>\n",
       "    </tr>\n",
       "    <tr>\n",
       "      <th>10559764</th>\n",
       "      <td>13.831981</td>\n",
       "      <td>-9.107195</td>\n",
       "      <td>57.311214</td>\n",
       "      <td>26.980992</td>\n",
       "      <td>28.815053</td>\n",
       "      <td>6351.169922</td>\n",
       "      <td>1270.234009</td>\n",
       "      <td>19833</td>\n",
       "      <td>568.650437</td>\n",
       "      <td>543.187866</td>\n",
       "      <td>1.319184</td>\n",
       "      <td>-0.868571</td>\n",
       "      <td>71</td>\n",
       "      <td>1</td>\n",
       "    </tr>\n",
       "    <tr>\n",
       "      <th>10559765</th>\n",
       "      <td>-4.686109</td>\n",
       "      <td>-28.183125</td>\n",
       "      <td>60.689258</td>\n",
       "      <td>27.017776</td>\n",
       "      <td>28.904500</td>\n",
       "      <td>6351.169922</td>\n",
       "      <td>1270.234009</td>\n",
       "      <td>317</td>\n",
       "      <td>569.012971</td>\n",
       "      <td>554.791626</td>\n",
       "      <td>-0.460408</td>\n",
       "      <td>-2.768980</td>\n",
       "      <td>4294947780</td>\n",
       "      <td>1</td>\n",
       "    </tr>\n",
       "  </tbody>\n",
       "</table>\n",
       "<p>10559766 rows × 14 columns</p>\n",
       "</div>"
      ],
      "text/plain": [
       "             x (nm)     y (nm)     z (nm)  mc_c (Da)    mc (Da)  \\\n",
       "0         21.387474   4.793744   3.742590  27.362214  28.993453   \n",
       "1         -0.465509   5.449197   0.226819  27.034338  29.360520   \n",
       "2         -0.903869   5.094536   0.202985  27.100974  29.441372   \n",
       "3         18.634826  -3.726965   2.792876  27.100149  28.725689   \n",
       "4          4.014661  14.361170   1.705268  27.236032  29.512555   \n",
       "...             ...        ...        ...        ...        ...   \n",
       "10559761  -4.831920  15.283945  57.205555  27.244832  29.759238   \n",
       "10559762 -14.125940  -1.271678  56.866164  27.414528  29.967560   \n",
       "10559763  16.429191   3.148928  57.345214  27.119032  29.029561   \n",
       "10559764  13.831981  -9.107195  57.311214  26.980992  28.815053   \n",
       "10559765  -4.686109 -28.183125  60.689258  27.017776  28.904500   \n",
       "\n",
       "          high_voltage (V)        pulse  start_counter    t_c (ns)  \\\n",
       "0              5019.959961  1003.992004           7565  572.395831   \n",
       "1              5019.959961  1003.992004           7664  569.176119   \n",
       "2              5019.959961  1003.992004           7682  569.832045   \n",
       "3              5019.959961  1003.992004           7690  569.823932   \n",
       "4              5019.959961  1003.992004           7794  571.159024   \n",
       "...                    ...          ...            ...         ...   \n",
       "10559761       6351.169922  1270.234009          19549  571.245368   \n",
       "10559762       6351.169922  1270.234009          19664  572.907770   \n",
       "10559763       6351.169922  1270.234009          19762  570.009661   \n",
       "10559764       6351.169922  1270.234009          19833  568.650437   \n",
       "10559765       6351.169922  1270.234009            317  569.012971   \n",
       "\n",
       "              t (ns)  x_det (cm)  y_det (cm)    pulse_pi  ion_pp  \n",
       "0         618.564148    2.651428    0.594286           0       0  \n",
       "1         606.260925   -0.055510    0.649796          99       2  \n",
       "2         606.932983   -0.107755    0.607347          18       1  \n",
       "3         611.520996    2.285714   -0.457143           8       1  \n",
       "4         614.298462    0.486531    1.740408         104       1  \n",
       "...              ...         ...         ...         ...     ...  \n",
       "10559761  550.999146   -0.460408    1.456326         105       1  \n",
       "10559762  551.705505   -1.342041   -0.120816          31       1  \n",
       "10559763  545.156128    1.567347    0.300408          98       1  \n",
       "10559764  543.187866    1.319184   -0.868571          71       1  \n",
       "10559765  554.791626   -0.460408   -2.768980  4294947780       1  \n",
       "\n",
       "[10559766 rows x 14 columns]"
      ]
     },
     "execution_count": 18,
     "metadata": {},
     "output_type": "execute_result"
    }
   ],
   "source": [
    "print('The data will be saved on the path:', variables.result_data_path)\n",
    "print('=============================')\n",
    "print('The dataset name after saving is:', variables.result_data_name)\n",
    "print('=============================')\n",
    "print('The figures will be saved on the path:', variables.result_path)\n",
    "print('=============================')\n",
    "print('Total number of Ions:', len(data))\n",
    "data"
   ]
  },
  {
   "cell_type": "markdown",
   "metadata": {},
   "source": [
    "<div style=\"margin: 0 auto; padding: 20px; font-family: 'Helvetica', sans-serif; font-size: 16px;\">\n",
    "\n",
    "The calibrated mass-to-charge ratio that is calculated with previous workflow will be shown below. You can select the range of the data you want to plot. There is also possibility to activate the peak finding tool to show the peak values.\n",
    "</div>"
   ]
  },
  {
   "cell_type": "code",
   "execution_count": 19,
   "metadata": {
    "pycharm": {
     "name": "#%%\n"
    },
    "tags": []
   },
   "outputs": [
    {
     "data": {
      "application/vnd.jupyter.widget-view+json": {
       "model_id": "31136982ae304322bfbb1538f2c39a47",
       "version_major": 2,
       "version_minor": 0
      },
      "text/plain": [
       "interactive(children=(FloatText(value=0.1, description='bin_size'), Dropdown(description='log', options=(('Tru…"
      ]
     },
     "metadata": {},
     "output_type": "display_data"
    }
   ],
   "source": [
    "interact_manual(mc_plot.hist_plot, variables=fixed(variables), bin_size=widgets.FloatText(value=0.1), log=widgets.Dropdown(options=[('True', True), ('Flase', False)]),\n",
    "                target=widgets.Dropdown(options=[('mc_c', 'mc_c'), ('tof_c', 'tof_c')]), mode=widgets.Dropdown(options=[('normal', 'normal'), ('normalized', 'normalized')]),\n",
    "                prominence=widgets.IntText(value=100), distance=widgets.IntText(value=100), \n",
    "                lim=widgets.IntText(value=variables.max_tof), percent=widgets.IntText(value=50), selector=fixed('None'), plot=fixed(True), figname=widgets.Text(value='hist'),\n",
    "                peaks_find_plot=widgets.Dropdown(options=[('True', True), ('False', False)]), range_plot=fixed(False), selected_area=fixed(False), print_info=fixed(True));"
   ]
  },
  {
   "cell_type": "code",
   "execution_count": 2,
   "metadata": {
    "tags": []
   },
   "outputs": [],
   "source": [
    "bin_size=widgets.FloatText(value=0.1, description='bin size:')\n",
    "prominence=widgets.IntText(value=50, description='peak prominance:')\n",
    "distance=widgets.IntText(value=1, description='peak distance:')\n",
    "lim_tof=widgets.IntText(value=400, description='lim tof/mc:')\n",
    "percent=widgets.IntText(value=50, description='percent MRP:')\n",
    "index_fig = widgets.IntText(value=1, description='fig index:')\n",
    "plot_peak = widgets.Dropdown(\n",
    "    options=[('True', True), ('False', False)],\n",
    "    description='plot peak:'\n",
    ")\n",
    "\n",
    "def hist_plot_p(variables):\n",
    "    \n",
    "    with out:\n",
    "        clear_output(True)\n",
    "        # clear the peak_idx\n",
    "        variables.peaks_idx = []\n",
    "        mc_plot.hist_plot(variables, bin_size.value, log=True, target='mc_c', mode='normal', prominence=prominence.value, distance=distance.value, percent=percent.value,\n",
    "                          selector='peak', figname=index_fig.value, lim=lim_tof.value, peaks_find_plot=plot_peak.value, print_info=False)\n",
    "\n",
    "def hist_plot_r(variables):\n",
    "    \n",
    "    with out:\n",
    "        clear_output(True)\n",
    "        print('=============================')\n",
    "        print('Press left click to draw a line')\n",
    "        print('Press right click to remove a line')\n",
    "        print('Press r to remove all the line')\n",
    "        print('Hold shift and use mouse scroll for zooming on x axis')\n",
    "        print('Hold ctrl and left mouse bottom to move a line')\n",
    "        print('=============================')\n",
    "        mc_plot.hist_plot(variables, bin_size.value, log=True, target='mc_c', mode='normal', prominence=prominence.value, distance=distance.value, percent=percent.value,\n",
    "                          selector='range', figname=index_fig.value, lim=lim_tof.value, peaks_find_plot=True, ranging_mode=True, save_fig=False, print_info=False)\n"
   ]
  },
  {
   "cell_type": "code",
   "execution_count": 7,
   "metadata": {
    "tags": []
   },
   "outputs": [],
   "source": [
    "# element calculate\n",
    "peak_val = widgets.FloatText(value=1.1, description='peak value:')\n",
    "\n",
    "mass_difference = widgets.FloatText(value=2, description='mass range:')\n",
    "charge = widgets.Dropdown(\n",
    "    options=[('1', 1), ('2', 2), ('3', 3), ('4', 4),('5', 5), ('6', 6)],\n",
    "    value=3,\n",
    "    description='charge:'\n",
    ")\n",
    "aboundance_threshold = widgets.FloatText(value=0.0, description='threshold aboundance:', min=0, max=1, step=0.1)\n",
    "num_element = widgets.IntText(value=5, description='num element:')\n",
    "# formula calculate\n",
    "formula_m = widgets.Text(\n",
    "    value='{12}C1{16}O2',\n",
    "    placeholder='Type a formula  {12}C1{16}O2',\n",
    "    description='Isotope formula:',\n",
    "    disabled=False\n",
    ")\n",
    "\n",
    "molecule_charge = widgets.Dropdown(\n",
    "    options=[('1', 1), ('2', 2), ('3', 3), ('4', 4),('5', 5), ('6', 6)],\n",
    "    value=3,\n",
    "    description='charge:'\n",
    ")\n",
    "\n",
    "# molecule create\n",
    "formula_com = widgets.Text(\n",
    "    value='',\n",
    "    placeholder=\"H, O\",\n",
    "    description='Elements:',\n",
    "    disabled=False\n",
    ")\n",
    "complexity = widgets.Dropdown(\n",
    "    options=[('1', 1), ('2', 2), ('3', 3), ('4', 4),('5', 5), ('6', 6)],\n",
    "    value=3,\n",
    "    description='complexity:'\n",
    ")\n",
    "\n",
    "charge_com = widgets.Dropdown(\n",
    "    options=[('1', 1), ('2', 2), ('3', 3), ('4', 4),('5', 5), ('6', 6)],\n",
    "    value=3,\n",
    "    description='charge:'\n",
    ")"
   ]
  },
  {
   "cell_type": "code",
   "execution_count": 25,
   "metadata": {
    "tags": []
   },
   "outputs": [],
   "source": [
    "plot_button_p = widgets.Button(\n",
    "    description='plot hist',\n",
    ")\n",
    "\n",
    "plot_button_r = widgets.Button(\n",
    "    description='plot hist',\n",
    ")\n",
    "\n",
    "plot_button = widgets.Button(\n",
    "    description='plot hist',\n",
    ")\n",
    "\n",
    "\n",
    "find_elem_button = widgets.Button(\n",
    "    description='find element',\n",
    ")\n",
    "\n",
    "plot_element = widgets.Button(\n",
    "    description='plot element',\n",
    ")\n",
    "\n",
    "formula_button = widgets.Button(\n",
    "    description='manual formula',\n",
    ")\n",
    "\n",
    "add_ion_button = widgets.Button(\n",
    "    description='add ion',\n",
    ")\n",
    "romove_ion_button = widgets.Button(\n",
    "    description='remove ion',\n",
    ")\n",
    "show_color = widgets.Button(\n",
    "    description='show color',\n",
    ")\n",
    "change_color = widgets.Button(\n",
    "    description='change color',\n",
    ")\n",
    "\n",
    "color_picker = widgets.ColorPicker(description='Select a color:')\n",
    "row_index = widgets.IntText(value=0, description='index row:')\n",
    "@plot_button_p.on_click\n",
    "def plot_on_click_p(b, plot=True):\n",
    "    hist_plot_p(variables)\n",
    "    \n",
    "@plot_button_r.on_click\n",
    "def plot_on_click_r(b, plot=True):\n",
    "    hist_plot_r(variables)\n",
    "    \n",
    "@plot_element.on_click  \n",
    "def plot_finded_elemnt(b,):\n",
    "    variables.AptHistPlotter.plot_founded_range_loc(variables.ions_list_data, remove_lines=False)\n",
    "@find_elem_button.on_click\n",
    "def vol_on_click(b,):\n",
    "    with output2:\n",
    "        clear_output(True)\n",
    "        df1 = ion_selection.load_elements(formula_com.value, aboundance_threshold.value, charge.value, variables=variables)\n",
    "        df2 = ion_selection.molecule_create(formula_com.value, complexity.value, charge.value, aboundance_threshold.value, variables)\n",
    "        df3 = ion_selection.find_closest_elements(peak_val.value, num_element.value, aboundance_threshold.value, charge.value, variables=variables)\n",
    "        df = pd.concat([df1, df2, df3], axis=0)\n",
    "        df = df[(df['abundance'] >= aboundance_threshold.value)]\n",
    "        df = df[abs(df['mass'] - peak_val.value) <= mass_difference.value]\n",
    "        df = df.iloc[(df['mass'] - peak_val.value).abs().argsort()]\n",
    "        # Reset the index to maintain a clean index order\n",
    "        df.reset_index(drop=True, inplace=True)\n",
    "        df = df[:num_element.value]\n",
    "        variables.range_data_backup = df.copy()\n",
    "        variables.ions_list_data = df.copy()\n",
    "        display(df)\n",
    "    \n",
    "@formula_button.on_click\n",
    "def manual_formula(b,):\n",
    "    with output2:\n",
    "        if formula_m.value == '':\n",
    "            print(\"Input is empty. Type the formula.\")\n",
    "        else:\n",
    "            df = ion_selection.molecule_manual(formula_m.value, molecule_charge.value, latex=True, variables=variables)\n",
    "            clear_output(True)\n",
    "            display(df)\n",
    "\n",
    "@add_ion_button.on_click\n",
    "def add_ion_to_range_dataset(b,):\n",
    "    ion_selection.ranging_dataset_create(variables, row_index.value, peak_val.value)\n",
    "    with output3:\n",
    "        clear_output(True)\n",
    "        display(variables.range_data)\n",
    "@romove_ion_button.on_click\n",
    "def remove_ion_to_range_dataset(b,):\n",
    "    if len(variables.range_data) >= 1:\n",
    "        variables.range_data = variables.range_data.drop(len(variables.range_data) - 1)\n",
    "        with output3:\n",
    "            clear_output(True)\n",
    "            display(variables.range_data)\n",
    "        \n",
    "@show_color.on_click\n",
    "def show_color_ions(b,):\n",
    "    with output3:\n",
    "        clear_output(True)\n",
    "        display(variables.range_data.style.applymap(ion_selection.display_color, subset=['color']))\n",
    "@change_color.on_click\n",
    "def change_color_m(b,):\n",
    "    with output3:\n",
    "        selected_color = mcolors.to_hex(color_picker.value)\n",
    "        variables.range_data.at[row_index.value, 'color'] = selected_color\n",
    "        clear_output(True)\n",
    "        display(variables.range_data.style.applymap(ion_selection.display_color, subset=['color']))\n",
    "\n",
    "        # Create \"Next\" and \"Previous\" buttons\n",
    "start_button = widgets.Button(description=\"start\")\n",
    "next_button = widgets.Button(description=\"next\")\n",
    "prev_button = widgets.Button(description=\"previous\")\n",
    "reset_zoom_button = widgets.Button(description=\"reset zoom\")\n",
    "all_peaks_button = widgets.Button(description=\"add all peaks\")\n",
    "\n",
    "\n",
    "# Define button click events\n",
    "@start_button.on_click\n",
    "def start_peak(_):\n",
    "    variables.h_line_pos = []\n",
    "    print('=============================')\n",
    "    print('Press left click to draw a line')\n",
    "    print('Press right click to remove a line')\n",
    "    print('Press r to remove all the line')\n",
    "    print('Press a to automatically draw lines')\n",
    "    print('Hold shift and use mouse scroll for zooming on x axis')\n",
    "    print('Hold ctrl and left mouse bottom to move a line')\n",
    "    print('=============================')\n",
    "    variables.peaks_index = 0\n",
    "    peak_val.value = variables.peaks_x_selected[variables.peaks_index]\n",
    "    print('peak idc:', variables.peaks_index, 'Peak location:', peak_val.value )\n",
    "    variables.AptHistPlotter.zoom_to_x_range(x_min=peak_val.value - 5, x_max=peak_val.value + 5, reset=False)\n",
    "@next_button.on_click\n",
    "def next_peak(_):\n",
    "    variables.peaks_index += 1\n",
    "    peak_val.value = variables.peaks_x_selected[variables.peaks_index]\n",
    "    print('peak idc:', variables.peaks_index, 'Peak location:', peak_val.value)\n",
    "    variables.AptHistPlotter.zoom_to_x_range(x_min=peak_val.value - 5, x_max=peak_val.value + 5, reset=False)\n",
    "@prev_button.on_click\n",
    "def prev_peak(_):\n",
    "    variables.peaks_index -= 1\n",
    "    peak_val.value = variables.peaks_x_selected[variables.peaks_index]\n",
    "    print('peak idc:', variables.peaks_index, 'Peak location:', peak_val.value )\n",
    "    variables.AptHistPlotter.zoom_to_x_range(x_min=peak_val.value - 5, x_max=peak_val.value + 5, reset=False)\n",
    "\n",
    "@reset_zoom_button.on_click\n",
    "def rest_h_line(_):\n",
    "    variables.AptHistPlotter.zoom_to_x_range(x_min=0, x_max=0, reset=True)\n",
    "@all_peaks_button.on_click\n",
    "def select_all_peaks(_):\n",
    "    variables.peaks_idx = variables.peak_x\n",
    "    \n",
    "tab1 = VBox(children=[bin_size, index_fig, prominence, distance, lim_tof, percent, plot_peak, HBox(children=[plot_button_p, all_peaks_button])])\n",
    "tab2 = VBox(children=[bin_size, index_fig, prominence, distance, lim_tof, percent, HBox(children=[VBox(children=[plot_button_r, start_button, next_button, prev_button, reset_zoom_button])])])\n",
    "tab4 = VBox(children=[HBox(children=[VBox(children=[peak_val, charge, aboundance_threshold, mass_difference, num_element, formula_com, complexity, find_elem_button, plot_element]),\n",
    "                                    VBox(children=[row_index, color_picker, add_ion_button, romove_ion_button, show_color, change_color]), \n",
    "                                    VBox(children=[formula_m, molecule_charge, formula_button])])])\n",
    "\n",
    "tabs1 = widgets.Tab(children=[tab1, tab2])\n",
    "tabs2 = widgets.Tab(children=[tab4])\n",
    "tabs1.set_title(0, 'peak finder')\n",
    "tabs1.set_title(1, 'ranging')\n",
    "tabs2.set_title(0, 'element finder')\n",
    "# Create two Output widgets to capture the output of each plot\n",
    "out = Output()\n",
    "output2 = Output()\n",
    "output3 = Output()\n",
    "\n",
    "# Create an HBox to display the buttons side by side\n",
    "buttons_layout = widgets.HBox([tabs1, tabs2])\n",
    "\n",
    "# Create a VBox to display the output widgets below the buttons\n",
    "output_layout_h = widgets.HBox([out, output3])\n",
    "output_layout = widgets.VBox([output_layout_h, output2])"
   ]
  },
  {
   "cell_type": "markdown",
   "metadata": {},
   "source": [
    "<div style=\"margin: 0 auto; padding: 20px; font-family: 'Helvetica', sans-serif; font-size: 16px;\">\n",
    "\n",
    "To do the ranging first we wave to find and select the peaks by using the peak finder tab. Then in the ranging tab we can zoom the selected peak and specify the range by drawing two vertical line around the peak. For each peak by pressing the element find bottom we see the possible ions and moleculse that have same mass. It is possible to plot these ions and molecules by pressing the plot element bottom. After finding the element we can add the ions and related range by setting the index of it from the dropdown ad pressing the add bottom. We have to repast this steps for all selected peaks.\n",
    "\n",
    "</div>"
   ]
  },
  {
   "cell_type": "code",
   "execution_count": 26,
   "metadata": {
    "collapsed": false,
    "jupyter": {
     "outputs_hidden": false
    },
    "tags": []
   },
   "outputs": [
    {
     "data": {
      "application/vnd.jupyter.widget-view+json": {
       "model_id": "d92b78e05caf42febd4f1a9b27434966",
       "version_major": 2,
       "version_minor": 0
      },
      "text/plain": [
       "HBox(children=(Tab(children=(VBox(children=(FloatText(value=0.1, description='bin size:'), IntText(value=1, de…"
      ]
     },
     "metadata": {},
     "output_type": "display_data"
    },
    {
     "data": {
      "application/vnd.jupyter.widget-view+json": {
       "model_id": "37b79442fb9745b78c92bb842113587e",
       "version_major": 2,
       "version_minor": 0
      },
      "text/plain": [
       "VBox(children=(HBox(children=(Output(), Output())), Output()))"
      ]
     },
     "metadata": {},
     "output_type": "display_data"
    }
   ],
   "source": [
    "# Display the buttons and the output widgets\n",
    "display(buttons_layout, output_layout)\n",
    "\n",
    "with output3:\n",
    "    display(variables.range_data)"
   ]
  },
  {
   "cell_type": "markdown",
   "metadata": {},
   "source": [
    "<div style=\"margin: 0 auto; padding: 20px; font-family: 'Helvetica', sans-serif; font-size: 16px;\">\n",
    "\n",
    "Here base on the rangged dataset we can plot the mass spectrum and see the selected ranges.\n",
    "\n",
    "</div>"
   ]
  },
  {
   "cell_type": "code",
   "execution_count": 47,
   "metadata": {
    "tags": []
   },
   "outputs": [
    {
     "data": {
      "application/vnd.jupyter.widget-view+json": {
       "model_id": "f3969349082047f9969b322e4d41e29d",
       "version_major": 2,
       "version_minor": 0
      },
      "text/plain": [
       "interactive(children=(FloatText(value=0.1, description='bin_size'), Dropdown(description='log', options=(('Tru…"
      ]
     },
     "metadata": {},
     "output_type": "display_data"
    }
   ],
   "source": [
    "interact_manual(mc_plot.hist_plot, variables=fixed(variables), bin_size=widgets.FloatText(value=0.1), log=widgets.Dropdown(options=[('True', True), ('False', False)]),\n",
    "                target=widgets.Dropdown(options=[('mc_c', 'mc_c')]), mode=widgets.Dropdown(options=[('normal', 'normal'), ('normalized', 'normalized')]),\n",
    "                prominence=widgets.IntText(value=100), distance=widgets.IntText(value=100), \n",
    "                lim=widgets.IntText(value=400), percent=widgets.IntText(value=50), selector=fixed('None'), plot=fixed(True), figname=widgets.Text(value='hist'),\n",
    "                peaks_find_plot=widgets.Dropdown(options=[('True', True), ('False', False)]), range_plot=widgets.Dropdown(options=[('True', True), ('False', False)]), selected_area=fixed(False), print_info=fixed(True)\n",
    "               , ranging_mode=fixed(False), save_fig=fixed(True));"
   ]
  },
  {
   "cell_type": "code",
   "execution_count": 48,
   "metadata": {
    "tags": []
   },
   "outputs": [
    {
     "data": {
      "text/html": [
       "<style type=\"text/css\">\n",
       "#T_d39ed_row0_col5 {\n",
       "  background-color: #b2aa2d;\n",
       "  width: 50px;\n",
       "  height: 20px;\n",
       "}\n",
       "#T_d39ed_row1_col5, #T_d39ed_row2_col5 {\n",
       "  background-color: #e7e0d1;\n",
       "  width: 50px;\n",
       "  height: 20px;\n",
       "}\n",
       "</style>\n",
       "<table id=\"T_d39ed\">\n",
       "  <thead>\n",
       "    <tr>\n",
       "      <th class=\"blank level0\" >&nbsp;</th>\n",
       "      <th id=\"T_d39ed_level0_col0\" class=\"col_heading level0 col0\" >ion</th>\n",
       "      <th id=\"T_d39ed_level0_col1\" class=\"col_heading level0 col1\" >mass</th>\n",
       "      <th id=\"T_d39ed_level0_col2\" class=\"col_heading level0 col2\" >mc</th>\n",
       "      <th id=\"T_d39ed_level0_col3\" class=\"col_heading level0 col3\" >mc_low</th>\n",
       "      <th id=\"T_d39ed_level0_col4\" class=\"col_heading level0 col4\" >mc_up</th>\n",
       "      <th id=\"T_d39ed_level0_col5\" class=\"col_heading level0 col5\" >color</th>\n",
       "      <th id=\"T_d39ed_level0_col6\" class=\"col_heading level0 col6\" >element</th>\n",
       "      <th id=\"T_d39ed_level0_col7\" class=\"col_heading level0 col7\" >complex</th>\n",
       "      <th id=\"T_d39ed_level0_col8\" class=\"col_heading level0 col8\" >isotope</th>\n",
       "      <th id=\"T_d39ed_level0_col9\" class=\"col_heading level0 col9\" >charge</th>\n",
       "    </tr>\n",
       "  </thead>\n",
       "  <tbody>\n",
       "    <tr>\n",
       "      <th id=\"T_d39ed_level0_row0\" class=\"row_heading level0 row0\" >0</th>\n",
       "      <td id=\"T_d39ed_row0_col0\" class=\"data row0 col0\" >${}^{1}H^{+}$</td>\n",
       "      <td id=\"T_d39ed_row0_col1\" class=\"data row0 col1\" >1.010000</td>\n",
       "      <td id=\"T_d39ed_row0_col2\" class=\"data row0 col2\" >1.067500</td>\n",
       "      <td id=\"T_d39ed_row0_col3\" class=\"data row0 col3\" >0.904119</td>\n",
       "      <td id=\"T_d39ed_row0_col4\" class=\"data row0 col4\" >1.308847</td>\n",
       "      <td id=\"T_d39ed_row0_col5\" class=\"data row0 col5\" >#b2aa2d</td>\n",
       "      <td id=\"T_d39ed_row0_col6\" class=\"data row0 col6\" >['H']</td>\n",
       "      <td id=\"T_d39ed_row0_col7\" class=\"data row0 col7\" >[1]</td>\n",
       "      <td id=\"T_d39ed_row0_col8\" class=\"data row0 col8\" >[1]</td>\n",
       "      <td id=\"T_d39ed_row0_col9\" class=\"data row0 col9\" >1</td>\n",
       "    </tr>\n",
       "    <tr>\n",
       "      <th id=\"T_d39ed_level0_row1\" class=\"row_heading level0 row1\" >1</th>\n",
       "      <td id=\"T_d39ed_row1_col0\" class=\"data row1 col0\" >${}^{27}Al^{2+}$</td>\n",
       "      <td id=\"T_d39ed_row1_col1\" class=\"data row1 col1\" >13.490000</td>\n",
       "      <td id=\"T_d39ed_row1_col2\" class=\"data row1 col2\" >14.478300</td>\n",
       "      <td id=\"T_d39ed_row1_col3\" class=\"data row1 col3\" >13.873421</td>\n",
       "      <td id=\"T_d39ed_row1_col4\" class=\"data row1 col4\" >15.381949</td>\n",
       "      <td id=\"T_d39ed_row1_col5\" class=\"data row1 col5\" >#e7e0d1</td>\n",
       "      <td id=\"T_d39ed_row1_col6\" class=\"data row1 col6\" >['Al']</td>\n",
       "      <td id=\"T_d39ed_row1_col7\" class=\"data row1 col7\" >[1]</td>\n",
       "      <td id=\"T_d39ed_row1_col8\" class=\"data row1 col8\" >[27]</td>\n",
       "      <td id=\"T_d39ed_row1_col9\" class=\"data row1 col9\" >2</td>\n",
       "    </tr>\n",
       "    <tr>\n",
       "      <th id=\"T_d39ed_level0_row2\" class=\"row_heading level0 row2\" >2</th>\n",
       "      <td id=\"T_d39ed_row2_col0\" class=\"data row2 col0\" >${}^{27}Al^{+}$</td>\n",
       "      <td id=\"T_d39ed_row2_col1\" class=\"data row2 col1\" >26.980000</td>\n",
       "      <td id=\"T_d39ed_row2_col2\" class=\"data row2 col2\" >29.290200</td>\n",
       "      <td id=\"T_d39ed_row2_col3\" class=\"data row2 col3\" >27.888184</td>\n",
       "      <td id=\"T_d39ed_row2_col4\" class=\"data row2 col4\" >31.812810</td>\n",
       "      <td id=\"T_d39ed_row2_col5\" class=\"data row2 col5\" >#e7e0d1</td>\n",
       "      <td id=\"T_d39ed_row2_col6\" class=\"data row2 col6\" >['Al']</td>\n",
       "      <td id=\"T_d39ed_row2_col7\" class=\"data row2 col7\" >[1]</td>\n",
       "      <td id=\"T_d39ed_row2_col8\" class=\"data row2 col8\" >[27]</td>\n",
       "      <td id=\"T_d39ed_row2_col9\" class=\"data row2 col9\" >1</td>\n",
       "    </tr>\n",
       "  </tbody>\n",
       "</table>\n"
      ],
      "text/plain": [
       "<pandas.io.formats.style.Styler at 0x25182c6a1c0>"
      ]
     },
     "metadata": {},
     "output_type": "display_data"
    }
   ],
   "source": [
    "display(variables.range_data.style.applymap(ion_selection.display_color, subset=['color']))"
   ]
  },
  {
   "cell_type": "code",
   "execution_count": 27,
   "metadata": {
    "tags": []
   },
   "outputs": [
    {
     "data": {
      "text/plain": [
       "ion         object\n",
       "mass       float64\n",
       "mc         float64\n",
       "mc_low     float64\n",
       "mc_up      float64\n",
       "color       object\n",
       "element     object\n",
       "complex     object\n",
       "isotope     object\n",
       "charge      uint32\n",
       "dtype: object"
      ]
     },
     "execution_count": 27,
     "metadata": {},
     "output_type": "execute_result"
    }
   ],
   "source": [
    "variables.range_data.dtypes"
   ]
  },
  {
   "cell_type": "markdown",
   "metadata": {},
   "source": [
    "<div style=\"margin: 0 auto; padding: 20px; font-family: 'Helvetica', sans-serif; font-size: 16px;\">\n",
    "\n",
    "Finaly we save the range in the hdf5 and csv format.\n",
    "\n",
    "</div>"
   ]
  },
  {
   "cell_type": "code",
   "execution_count": 50,
   "metadata": {
    "pycharm": {
     "name": "#%%\n"
    },
    "tags": []
   },
   "outputs": [],
   "source": [
    "# save the new data\n",
    "name_save_file = variables.result_data_path + '/' + variables.result_data_name + '.h5'\n",
    "data_tools.store_df_to_hdf(variables.range_data,  'df', name_save_file)"
   ]
  },
  {
   "cell_type": "code",
   "execution_count": 51,
   "metadata": {
    "tags": []
   },
   "outputs": [],
   "source": [
    "# save data in csv format\n",
    "name_save_file = variables.result_data_path + '/' + variables.result_data_name + '.csv'\n",
    "data_tools.store_df_to_csv(variables.range_data, name_save_file)"
   ]
  },
  {
   "cell_type": "code",
   "execution_count": null,
   "metadata": {},
   "outputs": [],
   "source": []
  }
 ],
 "metadata": {
  "kernelspec": {
   "display_name": "Python 3 (ipykernel)",
   "language": "python",
   "name": "python3"
  },
  "language_info": {
   "codemirror_mode": {
    "name": "ipython",
    "version": 3
   },
   "file_extension": ".py",
   "mimetype": "text/x-python",
   "name": "python",
   "nbconvert_exporter": "python",
   "pygments_lexer": "ipython3",
   "version": "3.8.16"
  },
  "widgets": {
   "application/vnd.jupyter.widget-state+json": {
    "state": {},
    "version_major": 2,
    "version_minor": 0
   }
  }
 },
 "nbformat": 4,
 "nbformat_minor": 4
}

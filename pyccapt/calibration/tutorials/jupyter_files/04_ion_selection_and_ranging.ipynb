{
 "cells": [
  {
   "cell_type": "markdown",
   "metadata": {},
   "source": [
    "<div style=\"margin: 0 auto; padding: 20px; font-family: 'Helvetica', sans-serif; font-size: 16px;\">\n",
    "\n",
    "## Ion Selection and Rangging\n",
    "\n",
    "This tutorial outlines a comprehensive workflow for ion selection and organization. Users can choose ions using peak and element finders, manually add ions, customize ion colors, and create histograms. Histograms can be generated for selected ranges and areas, and figures can be saved. Additionally, users have the option to save both figures and data in CSV and HDF5 formats.\n",
    "\n",
    "</div>"
   ]
  },
  {
   "cell_type": "code",
   "execution_count": 1,
   "metadata": {
    "collapsed": false,
    "jupyter": {
     "outputs_hidden": false
    },
    "tags": []
   },
   "outputs": [],
   "source": [
    "# Activate intractive functionality of matplotlib\n",
    "%matplotlib ipympl\n",
    "# Activate auto reload\n",
    "%load_ext autoreload\n",
    "%autoreload 2\n",
    "%reload_ext autoreload\n",
    "# import libraries\n",
    "import os\n",
    "import pandas as pd\n",
    "from ipywidgets import fixed, interact_manual, widgets\n",
    "from ipywidgets import HBox, VBox\n",
    "from ipywidgets import Output\n",
    "from IPython.display import clear_output\n",
    "import matplotlib.colors as mcolors\n",
    "import warnings\n",
    "# Ignore all warnings\n",
    "warnings.filterwarnings(\"ignore\")\n",
    "\n",
    "# Local module and scripts\n",
    "from pyccapt.calibration.calibration_tools import share_variables, ion_selection\n",
    "from pyccapt.calibration.calibration_tools import widgets as wd\n",
    "from pyccapt.calibration.data_tools import data_tools, dataset_path_qt\n",
    "from pyccapt.calibration.calibration_tools import mc_plot"
   ]
  },
  {
   "cell_type": "markdown",
   "metadata": {},
   "source": [
    "<div style=\"margin: 0 auto; padding: 20px; font-family: 'Helvetica', sans-serif; font-size: 16px;\">\n",
    "\n",
    "By clicking on the button below, you can select the dataset file you want to use. The dataset file can be in various formats, including HDF5, EPOS, POS, ATO, and CSV.\n",
    "</div>"
   ]
  },
  {
   "cell_type": "code",
   "execution_count": 15,
   "metadata": {
    "tags": []
   },
   "outputs": [
    {
     "data": {
      "application/vnd.jupyter.widget-view+json": {
       "model_id": "b1d59b67942e493b99afc438025a7d54",
       "version_major": 2,
       "version_minor": 0
      },
      "text/plain": [
       "Button(description='load dataset', style=ButtonStyle())"
      ]
     },
     "execution_count": 15,
     "metadata": {},
     "output_type": "execute_result"
    }
   ],
   "source": [
    "button = widgets.Button(\n",
    "    description='load dataset',\n",
    ")\n",
    "@button.on_click\n",
    "def open_file_on_click(b):\n",
    "    \"\"\"\n",
    "    Event handler for button click event.\n",
    "    Prompts the user to select a dataset file and stores the selected file path in the global variable dataset_path.\n",
    "    \"\"\"\n",
    "    global dataset_path\n",
    "    dataset_path = dataset_path_qt.gui_fname().decode('ASCII')\n",
    "button"
   ]
  },
  {
   "cell_type": "markdown",
   "metadata": {},
   "source": [
    "<div style=\"margin: 0 auto; padding: 20px; font-family: 'Helvetica', sans-serif; font-size: 16px;\">\n",
    "From the dropdown lists below, you can select the instrument specifications of the dataset. The TDC model and flight path distance are required for the reconstruction.\n",
    "</div>\n"
   ]
  },
  {
   "cell_type": "code",
   "execution_count": 16,
   "metadata": {
    "tags": []
   },
   "outputs": [
    {
     "data": {
      "application/vnd.jupyter.widget-view+json": {
       "model_id": "800b56be09e848af843eee5abb60efd0",
       "version_major": 2,
       "version_minor": 0
      },
      "text/plain": [
       "Dropdown(description='Data mode:', options=('PyCCAPT', 'leap_epos', 'leap_pos', 'ato_v6'), value='PyCCAPT')"
      ]
     },
     "metadata": {},
     "output_type": "display_data"
    },
    {
     "data": {
      "application/vnd.jupyter.widget-view+json": {
       "model_id": "f692398cbb184bb29bae4137e1787123",
       "version_major": 2,
       "version_minor": 0
      },
      "text/plain": [
       "FloatText(value=110.0, description='Flight path length:')"
      ]
     },
     "metadata": {},
     "output_type": "display_data"
    }
   ],
   "source": [
    "tdc, pulse_mode, flightPathLength_d, t0_d, max_mc, det_diam = wd.dataset_instrument_specification_selection()\n",
    "display(tdc, flightPathLength_d)"
   ]
  },
  {
   "cell_type": "markdown",
   "metadata": {
    "pycharm": {
     "name": "#%% md\n"
    }
   },
   "source": [
    "$$\\textbf{You can specify which dataset to use in below block}$$"
   ]
  },
  {
   "cell_type": "code",
   "execution_count": 11,
   "metadata": {
    "tags": []
   },
   "outputs": [
    {
     "ename": "NameError",
     "evalue": "name 'dataset_path' is not defined",
     "output_type": "error",
     "traceback": [
      "\u001b[1;31m---------------------------------------------------------------------------\u001b[0m",
      "\u001b[1;31mNameError\u001b[0m                                 Traceback (most recent call last)",
      "Cell \u001b[1;32mIn[11], line 4\u001b[0m\n\u001b[0;32m      1\u001b[0m \u001b[38;5;66;03m# exctract needed data from Pandas data frame as an numpy array\u001b[39;00m\n\u001b[0;32m      2\u001b[0m \u001b[38;5;66;03m# create an instance of the Variables opject\u001b[39;00m\n\u001b[0;32m      3\u001b[0m variables \u001b[38;5;241m=\u001b[39m share_variables\u001b[38;5;241m.\u001b[39mVariables()\n\u001b[1;32m----> 4\u001b[0m dataset_main_path \u001b[38;5;241m=\u001b[39m os\u001b[38;5;241m.\u001b[39mpath\u001b[38;5;241m.\u001b[39mdirname(\u001b[43mdataset_path\u001b[49m)\n\u001b[0;32m      5\u001b[0m dataset_name_with_extention \u001b[38;5;241m=\u001b[39m os\u001b[38;5;241m.\u001b[39mpath\u001b[38;5;241m.\u001b[39mbasename(dataset_path)\n\u001b[0;32m      6\u001b[0m dataset_main_path \u001b[38;5;241m=\u001b[39m os\u001b[38;5;241m.\u001b[39mpath\u001b[38;5;241m.\u001b[39mdirname(dataset_main_path)\n",
      "\u001b[1;31mNameError\u001b[0m: name 'dataset_path' is not defined"
     ]
    }
   ],
   "source": [
    "# exctract needed data from Pandas data frame as an numpy array\n",
    "# create an instance of the Variables opject\n",
    "variables = share_variables.Variables()\n",
    "dataset_main_path = os.path.dirname(dataset_path)\n",
    "dataset_name_with_extention = os.path.basename(dataset_path)\n",
    "dataset_main_path = os.path.dirname(dataset_main_path)\n",
    "variables.dataset_name = os.path.splitext(dataset_name_with_extention)[0]\n",
    "variables.result_data_path = dataset_main_path + '/ions_selection/'\n",
    "variables.result_data_name = 'range_' + variables.dataset_name\n",
    "variables.result_path = dataset_main_path + '/' + '/ions_selection/'\n",
    "\n",
    "if not os.path.isdir(variables.result_path):\n",
    "    os.makedirs(variables.result_path, mode=0o777, exist_ok=True)\n",
    "    \n",
    "# Create data farame out of hdf5 file dataset\n",
    "data = data_tools.load_data(dataset_path, tdc.value, mode='processed')\n",
    "# extract data from the path and create the Variable object\n",
    "data_tools.extract_data(data, variables, flightPathLength_d.value, max_mc.value)"
   ]
  },
  {
   "cell_type": "code",
   "execution_count": 18,
   "metadata": {
    "pycharm": {
     "name": "#%%\n"
    },
    "tags": []
   },
   "outputs": [
    {
     "name": "stdout",
     "output_type": "stream",
     "text": [
      "The data will be saved on the path: D:/pyccapt/tests/data/data_1642_Aug-30-2023_16-05_Al_test4/ions_selection/\n",
      "=============================\n",
      "The dataset name after saving is: range_pyccapt_data_1642_Aug-30-2023_16-05_Al_test4\n",
      "=============================\n",
      "The figures will be saved on the path: D:/pyccapt/tests/data/data_1642_Aug-30-2023_16-05_Al_test4//ions_selection/\n",
      "=============================\n",
      "Total number of Ions: 10559766\n"
     ]
    },
    {
     "data": {
      "text/html": [
       "<div>\n",
       "<style scoped>\n",
       "    .dataframe tbody tr th:only-of-type {\n",
       "        vertical-align: middle;\n",
       "    }\n",
       "\n",
       "    .dataframe tbody tr th {\n",
       "        vertical-align: top;\n",
       "    }\n",
       "\n",
       "    .dataframe thead th {\n",
       "        text-align: right;\n",
       "    }\n",
       "</style>\n",
       "<table border=\"1\" class=\"dataframe\">\n",
       "  <thead>\n",
       "    <tr style=\"text-align: right;\">\n",
       "      <th></th>\n",
       "      <th>x (nm)</th>\n",
       "      <th>y (nm)</th>\n",
       "      <th>z (nm)</th>\n",
       "      <th>mc_c (Da)</th>\n",
       "      <th>mc (Da)</th>\n",
       "      <th>high_voltage (V)</th>\n",
       "      <th>pulse</th>\n",
       "      <th>start_counter</th>\n",
       "      <th>t_c (ns)</th>\n",
       "      <th>t (ns)</th>\n",
       "      <th>x_det (cm)</th>\n",
       "      <th>y_det (cm)</th>\n",
       "      <th>pulse_pi</th>\n",
       "      <th>ion_pp</th>\n",
       "    </tr>\n",
       "  </thead>\n",
       "  <tbody>\n",
       "    <tr>\n",
       "      <th>0</th>\n",
       "      <td>21.387474</td>\n",
       "      <td>4.793744</td>\n",
       "      <td>3.742590</td>\n",
       "      <td>27.362214</td>\n",
       "      <td>28.993453</td>\n",
       "      <td>5019.959961</td>\n",
       "      <td>1003.992004</td>\n",
       "      <td>7565</td>\n",
       "      <td>572.395831</td>\n",
       "      <td>618.564148</td>\n",
       "      <td>2.651428</td>\n",
       "      <td>0.594286</td>\n",
       "      <td>0</td>\n",
       "      <td>0</td>\n",
       "    </tr>\n",
       "    <tr>\n",
       "      <th>1</th>\n",
       "      <td>-0.465509</td>\n",
       "      <td>5.449197</td>\n",
       "      <td>0.226819</td>\n",
       "      <td>27.034338</td>\n",
       "      <td>29.360520</td>\n",
       "      <td>5019.959961</td>\n",
       "      <td>1003.992004</td>\n",
       "      <td>7664</td>\n",
       "      <td>569.176119</td>\n",
       "      <td>606.260925</td>\n",
       "      <td>-0.055510</td>\n",
       "      <td>0.649796</td>\n",
       "      <td>99</td>\n",
       "      <td>2</td>\n",
       "    </tr>\n",
       "    <tr>\n",
       "      <th>2</th>\n",
       "      <td>-0.903869</td>\n",
       "      <td>5.094536</td>\n",
       "      <td>0.202985</td>\n",
       "      <td>27.100974</td>\n",
       "      <td>29.441372</td>\n",
       "      <td>5019.959961</td>\n",
       "      <td>1003.992004</td>\n",
       "      <td>7682</td>\n",
       "      <td>569.832045</td>\n",
       "      <td>606.932983</td>\n",
       "      <td>-0.107755</td>\n",
       "      <td>0.607347</td>\n",
       "      <td>18</td>\n",
       "      <td>1</td>\n",
       "    </tr>\n",
       "    <tr>\n",
       "      <th>3</th>\n",
       "      <td>18.634826</td>\n",
       "      <td>-3.726965</td>\n",
       "      <td>2.792876</td>\n",
       "      <td>27.100149</td>\n",
       "      <td>28.725689</td>\n",
       "      <td>5019.959961</td>\n",
       "      <td>1003.992004</td>\n",
       "      <td>7690</td>\n",
       "      <td>569.823932</td>\n",
       "      <td>611.520996</td>\n",
       "      <td>2.285714</td>\n",
       "      <td>-0.457143</td>\n",
       "      <td>8</td>\n",
       "      <td>1</td>\n",
       "    </tr>\n",
       "    <tr>\n",
       "      <th>4</th>\n",
       "      <td>4.014661</td>\n",
       "      <td>14.361170</td>\n",
       "      <td>1.705268</td>\n",
       "      <td>27.236032</td>\n",
       "      <td>29.512555</td>\n",
       "      <td>5019.959961</td>\n",
       "      <td>1003.992004</td>\n",
       "      <td>7794</td>\n",
       "      <td>571.159024</td>\n",
       "      <td>614.298462</td>\n",
       "      <td>0.486531</td>\n",
       "      <td>1.740408</td>\n",
       "      <td>104</td>\n",
       "      <td>1</td>\n",
       "    </tr>\n",
       "    <tr>\n",
       "      <th>...</th>\n",
       "      <td>...</td>\n",
       "      <td>...</td>\n",
       "      <td>...</td>\n",
       "      <td>...</td>\n",
       "      <td>...</td>\n",
       "      <td>...</td>\n",
       "      <td>...</td>\n",
       "      <td>...</td>\n",
       "      <td>...</td>\n",
       "      <td>...</td>\n",
       "      <td>...</td>\n",
       "      <td>...</td>\n",
       "      <td>...</td>\n",
       "      <td>...</td>\n",
       "    </tr>\n",
       "    <tr>\n",
       "      <th>10559761</th>\n",
       "      <td>-4.831920</td>\n",
       "      <td>15.283945</td>\n",
       "      <td>57.205555</td>\n",
       "      <td>27.244832</td>\n",
       "      <td>29.759238</td>\n",
       "      <td>6351.169922</td>\n",
       "      <td>1270.234009</td>\n",
       "      <td>19549</td>\n",
       "      <td>571.245368</td>\n",
       "      <td>550.999146</td>\n",
       "      <td>-0.460408</td>\n",
       "      <td>1.456326</td>\n",
       "      <td>105</td>\n",
       "      <td>1</td>\n",
       "    </tr>\n",
       "    <tr>\n",
       "      <th>10559762</th>\n",
       "      <td>-14.125940</td>\n",
       "      <td>-1.271678</td>\n",
       "      <td>56.866164</td>\n",
       "      <td>27.414528</td>\n",
       "      <td>29.967560</td>\n",
       "      <td>6351.169922</td>\n",
       "      <td>1270.234009</td>\n",
       "      <td>19664</td>\n",
       "      <td>572.907770</td>\n",
       "      <td>551.705505</td>\n",
       "      <td>-1.342041</td>\n",
       "      <td>-0.120816</td>\n",
       "      <td>31</td>\n",
       "      <td>1</td>\n",
       "    </tr>\n",
       "    <tr>\n",
       "      <th>10559763</th>\n",
       "      <td>16.429191</td>\n",
       "      <td>3.148928</td>\n",
       "      <td>57.345214</td>\n",
       "      <td>27.119032</td>\n",
       "      <td>29.029561</td>\n",
       "      <td>6351.169922</td>\n",
       "      <td>1270.234009</td>\n",
       "      <td>19762</td>\n",
       "      <td>570.009661</td>\n",
       "      <td>545.156128</td>\n",
       "      <td>1.567347</td>\n",
       "      <td>0.300408</td>\n",
       "      <td>98</td>\n",
       "      <td>1</td>\n",
       "    </tr>\n",
       "    <tr>\n",
       "      <th>10559764</th>\n",
       "      <td>13.831981</td>\n",
       "      <td>-9.107195</td>\n",
       "      <td>57.311214</td>\n",
       "      <td>26.980992</td>\n",
       "      <td>28.815053</td>\n",
       "      <td>6351.169922</td>\n",
       "      <td>1270.234009</td>\n",
       "      <td>19833</td>\n",
       "      <td>568.650437</td>\n",
       "      <td>543.187866</td>\n",
       "      <td>1.319184</td>\n",
       "      <td>-0.868571</td>\n",
       "      <td>71</td>\n",
       "      <td>1</td>\n",
       "    </tr>\n",
       "    <tr>\n",
       "      <th>10559765</th>\n",
       "      <td>-4.686109</td>\n",
       "      <td>-28.183125</td>\n",
       "      <td>60.689258</td>\n",
       "      <td>27.017776</td>\n",
       "      <td>28.904500</td>\n",
       "      <td>6351.169922</td>\n",
       "      <td>1270.234009</td>\n",
       "      <td>317</td>\n",
       "      <td>569.012971</td>\n",
       "      <td>554.791626</td>\n",
       "      <td>-0.460408</td>\n",
       "      <td>-2.768980</td>\n",
       "      <td>4294947780</td>\n",
       "      <td>1</td>\n",
       "    </tr>\n",
       "  </tbody>\n",
       "</table>\n",
       "<p>10559766 rows × 14 columns</p>\n",
       "</div>"
      ],
      "text/plain": [
       "             x (nm)     y (nm)     z (nm)  mc_c (Da)    mc (Da)  \\\n",
       "0         21.387474   4.793744   3.742590  27.362214  28.993453   \n",
       "1         -0.465509   5.449197   0.226819  27.034338  29.360520   \n",
       "2         -0.903869   5.094536   0.202985  27.100974  29.441372   \n",
       "3         18.634826  -3.726965   2.792876  27.100149  28.725689   \n",
       "4          4.014661  14.361170   1.705268  27.236032  29.512555   \n",
       "...             ...        ...        ...        ...        ...   \n",
       "10559761  -4.831920  15.283945  57.205555  27.244832  29.759238   \n",
       "10559762 -14.125940  -1.271678  56.866164  27.414528  29.967560   \n",
       "10559763  16.429191   3.148928  57.345214  27.119032  29.029561   \n",
       "10559764  13.831981  -9.107195  57.311214  26.980992  28.815053   \n",
       "10559765  -4.686109 -28.183125  60.689258  27.017776  28.904500   \n",
       "\n",
       "          high_voltage (V)        pulse  start_counter    t_c (ns)  \\\n",
       "0              5019.959961  1003.992004           7565  572.395831   \n",
       "1              5019.959961  1003.992004           7664  569.176119   \n",
       "2              5019.959961  1003.992004           7682  569.832045   \n",
       "3              5019.959961  1003.992004           7690  569.823932   \n",
       "4              5019.959961  1003.992004           7794  571.159024   \n",
       "...                    ...          ...            ...         ...   \n",
       "10559761       6351.169922  1270.234009          19549  571.245368   \n",
       "10559762       6351.169922  1270.234009          19664  572.907770   \n",
       "10559763       6351.169922  1270.234009          19762  570.009661   \n",
       "10559764       6351.169922  1270.234009          19833  568.650437   \n",
       "10559765       6351.169922  1270.234009            317  569.012971   \n",
       "\n",
       "              t (ns)  x_det (cm)  y_det (cm)    pulse_pi  ion_pp  \n",
       "0         618.564148    2.651428    0.594286           0       0  \n",
       "1         606.260925   -0.055510    0.649796          99       2  \n",
       "2         606.932983   -0.107755    0.607347          18       1  \n",
       "3         611.520996    2.285714   -0.457143           8       1  \n",
       "4         614.298462    0.486531    1.740408         104       1  \n",
       "...              ...         ...         ...         ...     ...  \n",
       "10559761  550.999146   -0.460408    1.456326         105       1  \n",
       "10559762  551.705505   -1.342041   -0.120816          31       1  \n",
       "10559763  545.156128    1.567347    0.300408          98       1  \n",
       "10559764  543.187866    1.319184   -0.868571          71       1  \n",
       "10559765  554.791626   -0.460408   -2.768980  4294947780       1  \n",
       "\n",
       "[10559766 rows x 14 columns]"
      ]
     },
     "execution_count": 18,
     "metadata": {},
     "output_type": "execute_result"
    }
   ],
   "source": [
    "print('The data will be saved on the path:', variables.result_data_path)\n",
    "print('=============================')\n",
    "print('The dataset name after saving is:', variables.result_data_name)\n",
    "print('=============================')\n",
    "print('The figures will be saved on the path:', variables.result_path)\n",
    "print('=============================')\n",
    "print('Total number of Ions:', len(data))\n",
    "data"
   ]
  },
  {
   "cell_type": "markdown",
   "metadata": {},
   "source": [
    "<div style=\"margin: 0 auto; padding: 20px; font-family: 'Helvetica', sans-serif; font-size: 16px;\">\n",
    "\n",
    "The calibrated mass-to-charge ratio that is calculated with previous workflow will be shown below. You can select the range of the data you want to plot. There is also possibility to activate the peak finding tool to show the peak values.\n",
    "</div>"
   ]
  },
  {
   "cell_type": "code",
   "execution_count": 19,
   "metadata": {
    "pycharm": {
     "name": "#%%\n"
    },
    "tags": []
   },
   "outputs": [
    {
     "data": {
      "application/vnd.jupyter.widget-view+json": {
       "model_id": "31136982ae304322bfbb1538f2c39a47",
       "version_major": 2,
       "version_minor": 0
      },
      "text/plain": [
       "interactive(children=(FloatText(value=0.1, description='bin_size'), Dropdown(description='log', options=(('Tru…"
      ]
     },
     "metadata": {},
     "output_type": "display_data"
    }
   ],
   "source": [
    "interact_manual(mc_plot.hist_plot, variables=fixed(variables), bin_size=widgets.FloatText(value=0.1), log=widgets.Dropdown(options=[('True', True), ('Flase', False)]),\n",
    "                target=widgets.Dropdown(options=[('mc_c', 'mc_c'), ('tof_c', 'tof_c')]), mode=widgets.Dropdown(options=[('normal', 'normal'), ('normalized', 'normalized')]),\n",
    "                prominence=widgets.IntText(value=100), distance=widgets.IntText(value=100), \n",
    "                lim=widgets.IntText(value=variables.max_tof), percent=widgets.IntText(value=50), selector=fixed('None'), plot=fixed(True), figname=widgets.Text(value='hist'),\n",
    "                peaks_find_plot=widgets.Dropdown(options=[('True', True), ('False', False)]), range_plot=fixed(False), selected_area=fixed(False), print_info=fixed(True));"
   ]
  },
  {
   "cell_type": "code",
   "execution_count": 2,
   "metadata": {
    "tags": []
   },
   "outputs": [],
   "source": [
    "bin_size=widgets.FloatText(value=0.1, description='bin size:')\n",
    "prominence=widgets.IntText(value=50, description='peak prominance:')\n",
    "distance=widgets.IntText(value=1, description='peak distance:')\n",
    "lim_tof=widgets.IntText(value=400, description='lim tof/mc:')\n",
    "percent=widgets.IntText(value=50, description='percent MRP:')\n",
    "index_fig = widgets.IntText(value=1, description='fig index:')\n",
    "plot_peak = widgets.Dropdown(\n",
    "    options=[('True', True), ('False', False)],\n",
    "    description='plot peak:'\n",
    ")\n",
    "\n",
    "def hist_plot_p(variables):\n",
    "    \n",
    "    with out:\n",
    "        clear_output(True)\n",
    "        # clear the peak_idx\n",
    "        variables.peaks_idx = []\n",
    "        mc_plot.hist_plot(variables, bin_size.value, log=True, target='mc_c', mode='normal', prominence=prominence.value, distance=distance.value, percent=percent.value,\n",
    "                          selector='peak', figname=index_fig.value, lim=lim_tof.value, peaks_find_plot=plot_peak.value, print_info=False)\n",
    "\n",
    "def hist_plot_r(variables):\n",
    "    \n",
    "    with out:\n",
    "        clear_output(True)\n",
    "        print('=============================')\n",
    "        print('Press left click to draw a line')\n",
    "        print('Press right click to remove a line')\n",
    "        print('Press r to remove all the line')\n",
    "        print('Hold shift and use mouse scroll for zooming on x axis')\n",
    "        print('Hold ctrl and left mouse bottom to move a line')\n",
    "        print('=============================')\n",
    "        mc_plot.hist_plot(variables, bin_size.value, log=True, target='mc_c', mode='normal', prominence=prominence.value, distance=distance.value, percent=percent.value,\n",
    "                          selector='range', figname=index_fig.value, lim=lim_tof.value, peaks_find_plot=True, ranging_mode=True, save_fig=False, print_info=False)\n"
   ]
  },
  {
   "cell_type": "code",
   "execution_count": 7,
   "metadata": {
    "tags": []
   },
   "outputs": [],
   "source": [
    "# element calculate\n",
    "peak_val = widgets.FloatText(value=1.1, description='peak value:')\n",
    "\n",
    "mass_difference = widgets.FloatText(value=2, description='mass range:')\n",
    "charge = widgets.Dropdown(\n",
    "    options=[('1', 1), ('2', 2), ('3', 3), ('4', 4),('5', 5), ('6', 6)],\n",
    "    value=3,\n",
    "    description='charge:'\n",
    ")\n",
    "aboundance_threshold = widgets.FloatText(value=0.0, description='threshold aboundance:', min=0, max=1, step=0.1)\n",
    "num_element = widgets.IntText(value=5, description='num element:')\n",
    "# formula calculate\n",
    "formula_m = widgets.Text(\n",
    "    value='{12}C1{16}O2',\n",
    "    placeholder='Type a formula  {12}C1{16}O2',\n",
    "    description='Isotope formula:',\n",
    "    disabled=False\n",
    ")\n",
    "\n",
    "molecule_charge = widgets.Dropdown(\n",
    "    options=[('1', 1), ('2', 2), ('3', 3), ('4', 4),('5', 5), ('6', 6)],\n",
    "    value=3,\n",
    "    description='charge:'\n",
    ")\n",
    "\n",
    "# molecule create\n",
    "formula_com = widgets.Text(\n",
    "    value='',\n",
    "    placeholder=\"H, O\",\n",
    "    description='Elements:',\n",
    "    disabled=False\n",
    ")\n",
    "complexity = widgets.Dropdown(\n",
    "    options=[('1', 1), ('2', 2), ('3', 3), ('4', 4),('5', 5), ('6', 6)],\n",
    "    value=3,\n",
    "    description='complexity:'\n",
    ")\n",
    "\n",
    "charge_com = widgets.Dropdown(\n",
    "    options=[('1', 1), ('2', 2), ('3', 3), ('4', 4),('5', 5), ('6', 6)],\n",
    "    value=3,\n",
    "    description='charge:'\n",
    ")"
   ]
  },
  {
   "cell_type": "code",
   "execution_count": 25,
   "metadata": {
    "tags": []
   },
   "outputs": [],
   "source": [
    "plot_button_p = widgets.Button(\n",
    "    description='plot hist',\n",
    ")\n",
    "\n",
    "plot_button_r = widgets.Button(\n",
    "    description='plot hist',\n",
    ")\n",
    "\n",
    "plot_button = widgets.Button(\n",
    "    description='plot hist',\n",
    ")\n",
    "\n",
    "\n",
    "find_elem_button = widgets.Button(\n",
    "    description='find element',\n",
    ")\n",
    "\n",
    "plot_element = widgets.Button(\n",
    "    description='plot element',\n",
    ")\n",
    "\n",
    "formula_button = widgets.Button(\n",
    "    description='manual formula',\n",
    ")\n",
    "\n",
    "add_ion_button = widgets.Button(\n",
    "    description='add ion',\n",
    ")\n",
    "romove_ion_button = widgets.Button(\n",
    "    description='remove ion',\n",
    ")\n",
    "show_color = widgets.Button(\n",
    "    description='show color',\n",
    ")\n",
    "change_color = widgets.Button(\n",
    "    description='change color',\n",
    ")\n",
    "\n",
    "color_picker = widgets.ColorPicker(description='Select a color:')\n",
    "row_index = widgets.IntText(value=0, description='index row:')\n",
    "@plot_button_p.on_click\n",
    "def plot_on_click_p(b, plot=True):\n",
    "    hist_plot_p(variables)\n",
    "    \n",
    "@plot_button_r.on_click\n",
    "def plot_on_click_r(b, plot=True):\n",
    "    hist_plot_r(variables)\n",
    "    \n",
    "@plot_element.on_click  \n",
    "def plot_finded_elemnt(b,):\n",
    "    variables.AptHistPlotter.plot_founded_range_loc(variables.ions_list_data, remove_lines=False)\n",
    "@find_elem_button.on_click\n",
    "def vol_on_click(b,):\n",
    "    with output2:\n",
    "        clear_output(True)\n",
    "        df1 = ion_selection.load_elements(formula_com.value, aboundance_threshold.value, charge.value, variables=variables)\n",
    "        df2 = ion_selection.molecule_create(formula_com.value, complexity.value, charge.value, aboundance_threshold.value, variables)\n",
    "        df3 = ion_selection.find_closest_elements(peak_val.value, num_element.value, aboundance_threshold.value, charge.value, variables=variables)\n",
    "        df = pd.concat([df1, df2, df3], axis=0)\n",
    "        df = df[(df['abundance'] >= aboundance_threshold.value)]\n",
    "        df = df[abs(df['mass'] - peak_val.value) <= mass_difference.value]\n",
    "        df = df.iloc[(df['mass'] - peak_val.value).abs().argsort()]\n",
    "        # Reset the index to maintain a clean index order\n",
    "        df.reset_index(drop=True, inplace=True)\n",
    "        df = df[:num_element.value]\n",
    "        variables.range_data_backup = df.copy()\n",
    "        variables.ions_list_data = df.copy()\n",
    "        display(df)\n",
    "    \n",
    "@formula_button.on_click\n",
    "def manual_formula(b,):\n",
    "    with output2:\n",
    "        if formula_m.value == '':\n",
    "            print(\"Input is empty. Type the formula.\")\n",
    "        else:\n",
    "            df = ion_selection.molecule_manual(formula_m.value, molecule_charge.value, latex=True, variables=variables)\n",
    "            clear_output(True)\n",
    "            display(df)\n",
    "\n",
    "@add_ion_button.on_click\n",
    "def add_ion_to_range_dataset(b,):\n",
    "    ion_selection.ranging_dataset_create(variables, row_index.value, peak_val.value)\n",
    "    with output3:\n",
    "        clear_output(True)\n",
    "        display(variables.range_data)\n",
    "@romove_ion_button.on_click\n",
    "def remove_ion_to_range_dataset(b,):\n",
    "    if len(variables.range_data) >= 1:\n",
    "        variables.range_data = variables.range_data.drop(len(variables.range_data) - 1)\n",
    "        with output3:\n",
    "            clear_output(True)\n",
    "            display(variables.range_data)\n",
    "        \n",
    "@show_color.on_click\n",
    "def show_color_ions(b,):\n",
    "    with output3:\n",
    "        clear_output(True)\n",
    "        display(variables.range_data.style.applymap(ion_selection.display_color, subset=['color']))\n",
    "@change_color.on_click\n",
    "def change_color_m(b,):\n",
    "    with output3:\n",
    "        selected_color = mcolors.to_hex(color_picker.value)\n",
    "        variables.range_data.at[row_index.value, 'color'] = selected_color\n",
    "        clear_output(True)\n",
    "        display(variables.range_data.style.applymap(ion_selection.display_color, subset=['color']))\n",
    "\n",
    "        # Create \"Next\" and \"Previous\" buttons\n",
    "start_button = widgets.Button(description=\"start\")\n",
    "next_button = widgets.Button(description=\"next\")\n",
    "prev_button = widgets.Button(description=\"previous\")\n",
    "reset_zoom_button = widgets.Button(description=\"reset zoom\")\n",
    "all_peaks_button = widgets.Button(description=\"add all peaks\")\n",
    "\n",
    "\n",
    "# Define button click events\n",
    "@start_button.on_click\n",
    "def start_peak(_):\n",
    "    variables.h_line_pos = []\n",
    "    print('=============================')\n",
    "    print('Press left click to draw a line')\n",
    "    print('Press right click to remove a line')\n",
    "    print('Press r to remove all the line')\n",
    "    print('Press a to automatically draw lines')\n",
    "    print('Hold shift and use mouse scroll for zooming on x axis')\n",
    "    print('Hold ctrl and left mouse bottom to move a line')\n",
    "    print('=============================')\n",
    "    variables.peaks_index = 0\n",
    "    peak_val.value = variables.peaks_x_selected[variables.peaks_index]\n",
    "    print('peak idc:', variables.peaks_index, 'Peak location:', peak_val.value )\n",
    "    variables.AptHistPlotter.zoom_to_x_range(x_min=peak_val.value - 5, x_max=peak_val.value + 5, reset=False)\n",
    "@next_button.on_click\n",
    "def next_peak(_):\n",
    "    variables.peaks_index += 1\n",
    "    peak_val.value = variables.peaks_x_selected[variables.peaks_index]\n",
    "    print('peak idc:', variables.peaks_index, 'Peak location:', peak_val.value)\n",
    "    variables.AptHistPlotter.zoom_to_x_range(x_min=peak_val.value - 5, x_max=peak_val.value + 5, reset=False)\n",
    "@prev_button.on_click\n",
    "def prev_peak(_):\n",
    "    variables.peaks_index -= 1\n",
    "    peak_val.value = variables.peaks_x_selected[variables.peaks_index]\n",
    "    print('peak idc:', variables.peaks_index, 'Peak location:', peak_val.value )\n",
    "    variables.AptHistPlotter.zoom_to_x_range(x_min=peak_val.value - 5, x_max=peak_val.value + 5, reset=False)\n",
    "\n",
    "@reset_zoom_button.on_click\n",
    "def rest_h_line(_):\n",
    "    variables.AptHistPlotter.zoom_to_x_range(x_min=0, x_max=0, reset=True)\n",
    "@all_peaks_button.on_click\n",
    "def select_all_peaks(_):\n",
    "    variables.peaks_idx = variables.peak_x\n",
    "    \n",
    "tab1 = VBox(children=[bin_size, index_fig, prominence, distance, lim_tof, percent, plot_peak, HBox(children=[plot_button_p, all_peaks_button])])\n",
    "tab2 = VBox(children=[bin_size, index_fig, prominence, distance, lim_tof, percent, HBox(children=[VBox(children=[plot_button_r, start_button, next_button, prev_button, reset_zoom_button])])])\n",
    "tab4 = VBox(children=[HBox(children=[VBox(children=[peak_val, charge, aboundance_threshold, mass_difference, num_element, formula_com, complexity, find_elem_button, plot_element]),\n",
    "                                    VBox(children=[row_index, color_picker, add_ion_button, romove_ion_button, show_color, change_color]), \n",
    "                                    VBox(children=[formula_m, molecule_charge, formula_button])])])\n",
    "\n",
    "tabs1 = widgets.Tab(children=[tab1, tab2])\n",
    "tabs2 = widgets.Tab(children=[tab4])\n",
    "tabs1.set_title(0, 'peak finder')\n",
    "tabs1.set_title(1, 'ranging')\n",
    "tabs2.set_title(0, 'element finder')\n",
    "# Create two Output widgets to capture the output of each plot\n",
    "out = Output()\n",
    "output2 = Output()\n",
    "output3 = Output()\n",
    "\n",
    "# Create an HBox to display the buttons side by side\n",
    "buttons_layout = widgets.HBox([tabs1, tabs2])\n",
    "\n",
    "# Create a VBox to display the output widgets below the buttons\n",
    "output_layout_h = widgets.HBox([out, output3])\n",
    "output_layout = widgets.VBox([output_layout_h, output2])"
   ]
  },
  {
   "cell_type": "markdown",
   "metadata": {},
   "source": [
    "<div style=\"margin: 0 auto; padding: 20px; font-family: 'Helvetica', sans-serif; font-size: 16px;\">\n",
    "\n",
    "To do the ranging first we wave to find and select the peaks by using the peak finder tab. Then in the ranging tab we can zoom the selected peak and specify the range by drawing two vertical line around the peak. For each peak by pressing the element find bottom we see the possible ions and moleculse that have same mass. It is possible to plot these ions and molecules by pressing the plot element bottom. After finding the element we can add the ions and related range by setting the index of it from the dropdown ad pressing the add bottom. We have to repast this steps for all selected peaks.\n",
    "\n",
    "</div>"
   ]
  },
  {
   "cell_type": "code",
   "execution_count": 26,
   "metadata": {
    "collapsed": false,
    "jupyter": {
     "outputs_hidden": false
    },
    "tags": []
   },
   "outputs": [
    {
     "data": {
      "application/vnd.jupyter.widget-view+json": {
       "model_id": "d92b78e05caf42febd4f1a9b27434966",
       "version_major": 2,
       "version_minor": 0
      },
      "text/plain": [
       "HBox(children=(Tab(children=(VBox(children=(FloatText(value=0.1, description='bin size:'), IntText(value=1, de…"
      ]
     },
     "metadata": {},
     "output_type": "display_data"
    },
    {
     "data": {
      "application/vnd.jupyter.widget-view+json": {
       "model_id": "37b79442fb9745b78c92bb842113587e",
       "version_major": 2,
       "version_minor": 0
      },
      "text/plain": [
       "VBox(children=(HBox(children=(Output(), Output())), Output()))"
      ]
     },
     "metadata": {},
     "output_type": "display_data"
    }
   ],
   "source": [
    "# Display the buttons and the output widgets\n",
    "display(buttons_layout, output_layout)\n",
    "\n",
    "with output3:\n",
    "    display(variables.range_data)"
   ]
  },
  {
   "cell_type": "markdown",
   "metadata": {},
   "source": [
    "<div style=\"margin: 0 auto; padding: 20px; font-family: 'Helvetica', sans-serif; font-size: 16px;\">\n",
    "\n",
    "Here base on the rangged dataset we can plot the mass spectrum and see the selected ranges.\n",
    "\n",
    "</div>"
   ]
  },
  {
   "cell_type": "code",
   "execution_count": 47,
   "metadata": {
    "tags": []
   },
   "outputs": [
    {
     "data": {
      "application/vnd.jupyter.widget-view+json": {
       "model_id": "f3969349082047f9969b322e4d41e29d",
       "version_major": 2,
       "version_minor": 0
      },
      "text/plain": [
       "interactive(children=(FloatText(value=0.1, description='bin_size'), Dropdown(description='log', options=(('Tru…"
      ]
     },
     "metadata": {},
     "output_type": "display_data"
    }
   ],
   "source": [
    "interact_manual(mc_plot.hist_plot, variables=fixed(variables), bin_size=widgets.FloatText(value=0.1), log=widgets.Dropdown(options=[('True', True), ('False', False)]),\n",
    "                target=widgets.Dropdown(options=[('mc_c', 'mc_c')]), mode=widgets.Dropdown(options=[('normal', 'normal'), ('normalized', 'normalized')]),\n",
    "                prominence=widgets.IntText(value=100), distance=widgets.IntText(value=100), \n",
    "                lim=widgets.IntText(value=400), percent=widgets.IntText(value=50), selector=fixed('None'), plot=fixed(True), figname=widgets.Text(value='hist'),\n",
    "                peaks_find_plot=widgets.Dropdown(options=[('True', True), ('False', False)]), range_plot=widgets.Dropdown(options=[('True', True), ('False', False)]), selected_area=fixed(False), print_info=fixed(True)\n",
    "               , ranging_mode=fixed(False), save_fig=fixed(True));"
   ]
  },
  {
   "cell_type": "code",
   "execution_count": 48,
   "metadata": {
    "tags": []
   },
   "outputs": [
    {
     "data": {
      "text/html": [
       "<style type=\"text/css\">\n",
       "#T_d39ed_row0_col5 {\n",
       "  background-color: #b2aa2d;\n",
       "  width: 50px;\n",
       "  height: 20px;\n",
       "}\n",
       "#T_d39ed_row1_col5, #T_d39ed_row2_col5 {\n",
       "  background-color: #e7e0d1;\n",
       "  width: 50px;\n",
       "  height: 20px;\n",
       "}\n",
       "</style>\n",
       "<table id=\"T_d39ed\">\n",
       "  <thead>\n",
       "    <tr>\n",
       "      <th class=\"blank level0\" >&nbsp;</th>\n",
       "      <th id=\"T_d39ed_level0_col0\" class=\"col_heading level0 col0\" >ion</th>\n",
       "      <th id=\"T_d39ed_level0_col1\" class=\"col_heading level0 col1\" >mass</th>\n",
       "      <th id=\"T_d39ed_level0_col2\" class=\"col_heading level0 col2\" >mc</th>\n",
       "      <th id=\"T_d39ed_level0_col3\" class=\"col_heading level0 col3\" >mc_low</th>\n",
       "      <th id=\"T_d39ed_level0_col4\" class=\"col_heading level0 col4\" >mc_up</th>\n",
       "      <th id=\"T_d39ed_level0_col5\" class=\"col_heading level0 col5\" >color</th>\n",
       "      <th id=\"T_d39ed_level0_col6\" class=\"col_heading level0 col6\" >element</th>\n",
       "      <th id=\"T_d39ed_level0_col7\" class=\"col_heading level0 col7\" >complex</th>\n",
       "      <th id=\"T_d39ed_level0_col8\" class=\"col_heading level0 col8\" >isotope</th>\n",
       "      <th id=\"T_d39ed_level0_col9\" class=\"col_heading level0 col9\" >charge</th>\n",
       "    </tr>\n",
       "  </thead>\n",
       "  <tbody>\n",
       "    <tr>\n",
       "      <th id=\"T_d39ed_level0_row0\" class=\"row_heading level0 row0\" >0</th>\n",
       "      <td id=\"T_d39ed_row0_col0\" class=\"data row0 col0\" >${}^{1}H^{+}$</td>\n",
       "      <td id=\"T_d39ed_row0_col1\" class=\"data row0 col1\" >1.010000</td>\n",
       "      <td id=\"T_d39ed_row0_col2\" class=\"data row0 col2\" >1.067500</td>\n",
       "      <td id=\"T_d39ed_row0_col3\" class=\"data row0 col3\" >0.904119</td>\n",
       "      <td id=\"T_d39ed_row0_col4\" class=\"data row0 col4\" >1.308847</td>\n",
       "      <td id=\"T_d39ed_row0_col5\" class=\"data row0 col5\" >#b2aa2d</td>\n",
       "      <td id=\"T_d39ed_row0_col6\" class=\"data row0 col6\" >['H']</td>\n",
       "      <td id=\"T_d39ed_row0_col7\" class=\"data row0 col7\" >[1]</td>\n",
       "      <td id=\"T_d39ed_row0_col8\" class=\"data row0 col8\" >[1]</td>\n",
       "      <td id=\"T_d39ed_row0_col9\" class=\"data row0 col9\" >1</td>\n",
       "    </tr>\n",
       "    <tr>\n",
       "      <th id=\"T_d39ed_level0_row1\" class=\"row_heading level0 row1\" >1</th>\n",
       "      <td id=\"T_d39ed_row1_col0\" class=\"data row1 col0\" >${}^{27}Al^{2+}$</td>\n",
       "      <td id=\"T_d39ed_row1_col1\" class=\"data row1 col1\" >13.490000</td>\n",
       "      <td id=\"T_d39ed_row1_col2\" class=\"data row1 col2\" >14.478300</td>\n",
       "      <td id=\"T_d39ed_row1_col3\" class=\"data row1 col3\" >13.873421</td>\n",
       "      <td id=\"T_d39ed_row1_col4\" class=\"data row1 col4\" >15.381949</td>\n",
       "      <td id=\"T_d39ed_row1_col5\" class=\"data row1 col5\" >#e7e0d1</td>\n",
       "      <td id=\"T_d39ed_row1_col6\" class=\"data row1 col6\" >['Al']</td>\n",
       "      <td id=\"T_d39ed_row1_col7\" class=\"data row1 col7\" >[1]</td>\n",
       "      <td id=\"T_d39ed_row1_col8\" class=\"data row1 col8\" >[27]</td>\n",
       "      <td id=\"T_d39ed_row1_col9\" class=\"data row1 col9\" >2</td>\n",
       "    </tr>\n",
       "    <tr>\n",
       "      <th id=\"T_d39ed_level0_row2\" class=\"row_heading level0 row2\" >2</th>\n",
       "      <td id=\"T_d39ed_row2_col0\" class=\"data row2 col0\" >${}^{27}Al^{+}$</td>\n",
       "      <td id=\"T_d39ed_row2_col1\" class=\"data row2 col1\" >26.980000</td>\n",
       "      <td id=\"T_d39ed_row2_col2\" class=\"data row2 col2\" >29.290200</td>\n",
       "      <td id=\"T_d39ed_row2_col3\" class=\"data row2 col3\" >27.888184</td>\n",
       "      <td id=\"T_d39ed_row2_col4\" class=\"data row2 col4\" >31.812810</td>\n",
       "      <td id=\"T_d39ed_row2_col5\" class=\"data row2 col5\" >#e7e0d1</td>\n",
       "      <td id=\"T_d39ed_row2_col6\" class=\"data row2 col6\" >['Al']</td>\n",
       "      <td id=\"T_d39ed_row2_col7\" class=\"data row2 col7\" >[1]</td>\n",
       "      <td id=\"T_d39ed_row2_col8\" class=\"data row2 col8\" >[27]</td>\n",
       "      <td id=\"T_d39ed_row2_col9\" class=\"data row2 col9\" >1</td>\n",
       "    </tr>\n",
       "  </tbody>\n",
       "</table>\n"
      ],
      "text/plain": [
       "<pandas.io.formats.style.Styler at 0x25182c6a1c0>"
      ]
     },
     "metadata": {},
     "output_type": "display_data"
    }
   ],
   "source": [
    "display(variables.range_data.style.applymap(ion_selection.display_color, subset=['color']))"
   ]
  },
  {
   "cell_type": "code",
   "execution_count": 27,
   "metadata": {
    "tags": []
   },
   "outputs": [
    {
     "data": {
      "text/plain": [
       "ion         object\n",
       "mass       float64\n",
       "mc         float64\n",
       "mc_low     float64\n",
       "mc_up      float64\n",
       "color       object\n",
       "element     object\n",
       "complex     object\n",
       "isotope     object\n",
       "charge      uint32\n",
       "dtype: object"
      ]
     },
     "execution_count": 27,
     "metadata": {},
     "output_type": "execute_result"
    }
   ],
   "source": [
    "variables.range_data.dtypes"
   ]
  },
  {
   "cell_type": "markdown",
   "metadata": {},
   "source": [
    "<div style=\"margin: 0 auto; padding: 20px; font-family: 'Helvetica', sans-serif; font-size: 16px;\">\n",
    "\n",
    "Finaly we save the range in the hdf5 and csv format.\n",
    "\n",
    "</div>"
   ]
  },
  {
   "cell_type": "code",
   "execution_count": 50,
   "metadata": {
    "pycharm": {
     "name": "#%%\n"
    },
    "tags": []
   },
   "outputs": [],
   "source": [
    "# save the new data\n",
    "name_save_file = variables.result_data_path + '/' + variables.result_data_name + '.h5'\n",
    "data_tools.store_df_to_hdf(variables.range_data,  'df', name_save_file)"
   ]
  },
  {
   "cell_type": "code",
   "execution_count": 51,
   "metadata": {
    "tags": []
   },
   "outputs": [],
   "source": [
    "# save data in csv format\n",
    "name_save_file = variables.result_data_path + '/' + variables.result_data_name + '.csv'\n",
    "data_tools.store_df_to_csv(variables.range_data, name_save_file)"
   ]
  },
  {
   "cell_type": "code",
   "execution_count": null,
   "metadata": {},
   "outputs": [],
   "source": []
  }
 ],
 "metadata": {
  "kernelspec": {
   "display_name": "Python 3 (ipykernel)",
   "language": "python",
   "name": "python3"
  },
  "language_info": {
   "codemirror_mode": {
    "name": "ipython",
    "version": 3
   },
   "file_extension": ".py",
   "mimetype": "text/x-python",
   "name": "python",
   "nbconvert_exporter": "python",
   "pygments_lexer": "ipython3",
   "version": "3.11.5"
  },
  "widgets": {
   "application/vnd.jupyter.widget-state+json": {
    "state": {
     "00120ca3f30f4e2eade57828853b0141": {
      "model_module": "@jupyter-widgets/base",
      "model_module_version": "2.0.0",
      "model_name": "LayoutModel",
      "state": {}
     },
     "00996ee925474d85ac1280a25357add3": {
      "model_module": "@jupyter-widgets/controls",
      "model_module_version": "2.0.0",
      "model_name": "ButtonStyleModel",
      "state": {
       "font_family": null,
       "font_size": null,
       "font_style": null,
       "font_variant": null,
       "font_weight": null,
       "text_color": null,
       "text_decoration": null
      }
     },
     "0107cb9312234de18780140dad0888ab": {
      "model_module": "@jupyter-widgets/base",
      "model_module_version": "2.0.0",
      "model_name": "LayoutModel",
      "state": {}
     },
     "01a0778ca83d4b5eb298f7da7c83f501": {
      "model_module": "@jupyter-widgets/controls",
      "model_module_version": "2.0.0",
      "model_name": "ButtonStyleModel",
      "state": {
       "font_family": null,
       "font_size": null,
       "font_style": null,
       "font_variant": null,
       "font_weight": null,
       "text_color": null,
       "text_decoration": null
      }
     },
     "01a4237b3f5046289603a7ff370bc47e": {
      "model_module": "@jupyter-widgets/base",
      "model_module_version": "2.0.0",
      "model_name": "LayoutModel",
      "state": {}
     },
     "025f35632e6b450681941575ffde680f": {
      "model_module": "@jupyter-widgets/base",
      "model_module_version": "2.0.0",
      "model_name": "LayoutModel",
      "state": {}
     },
     "028b09315cf1401bb0d4acdde7857d99": {
      "model_module": "@jupyter-widgets/controls",
      "model_module_version": "2.0.0",
      "model_name": "ButtonStyleModel",
      "state": {
       "font_family": null,
       "font_size": null,
       "font_style": null,
       "font_variant": null,
       "font_weight": null,
       "text_color": null,
       "text_decoration": null
      }
     },
     "029a09855e914f5f9570af65b05dbc92": {
      "model_module": "@jupyter-widgets/controls",
      "model_module_version": "2.0.0",
      "model_name": "ColorPickerModel",
      "state": {
       "description": "Select a color:",
       "disabled": false,
       "layout": "IPY_MODEL_e5478b6ee9da46b69c923b28042518fa",
       "style": "IPY_MODEL_04038042f2d44d2e954ab774f49fda0a"
      }
     },
     "02d29a6a9f6743b2adc3ae11070b76bc": {
      "model_module": "@jupyter-widgets/controls",
      "model_module_version": "2.0.0",
      "model_name": "ButtonStyleModel",
      "state": {
       "font_family": null,
       "font_size": null,
       "font_style": null,
       "font_variant": null,
       "font_weight": null,
       "text_color": null,
       "text_decoration": null
      }
     },
     "02df51c7e5c442a694c0965667aca172": {
      "model_module": "@jupyter-widgets/controls",
      "model_module_version": "2.0.0",
      "model_name": "ButtonModel",
      "state": {
       "description": "show color",
       "layout": "IPY_MODEL_bd1ea4e1d5f74f8c8f058a4f12522f63",
       "style": "IPY_MODEL_4dc4887f9022464981a76a5fc86a6254",
       "tooltip": null
      }
     },
     "03c2d9a57f4f4af7997c08c325897168": {
      "model_module": "@jupyter-widgets/base",
      "model_module_version": "2.0.0",
      "model_name": "LayoutModel",
      "state": {}
     },
     "03ccb8d0673a4d0ca14f3d2c97b3a2cc": {
      "model_module": "@jupyter-widgets/base",
      "model_module_version": "2.0.0",
      "model_name": "LayoutModel",
      "state": {}
     },
     "04038042f2d44d2e954ab774f49fda0a": {
      "model_module": "@jupyter-widgets/controls",
      "model_module_version": "2.0.0",
      "model_name": "DescriptionStyleModel",
      "state": {
       "description_width": ""
      }
     },
     "04694c30b0044d648d77620b6de46ddd": {
      "model_module": "@jupyter-widgets/base",
      "model_module_version": "2.0.0",
      "model_name": "LayoutModel",
      "state": {}
     },
     "048478c91f0e4aab831afa34d3d3d491": {
      "model_module": "@jupyter-widgets/base",
      "model_module_version": "2.0.0",
      "model_name": "LayoutModel",
      "state": {}
     },
     "052883bd96154218b282d86a561d7572": {
      "model_module": "@jupyter-widgets/base",
      "model_module_version": "2.0.0",
      "model_name": "LayoutModel",
      "state": {}
     },
     "05be6c185c054f1a9c528a444a5b55c4": {
      "model_module": "@jupyter-widgets/controls",
      "model_module_version": "2.0.0",
      "model_name": "ButtonStyleModel",
      "state": {
       "font_family": null,
       "font_size": null,
       "font_style": null,
       "font_variant": null,
       "font_weight": null,
       "text_color": null,
       "text_decoration": null
      }
     },
     "05e53709bce844dc8f646e5ec431c1da": {
      "model_module": "@jupyter-widgets/base",
      "model_module_version": "2.0.0",
      "model_name": "LayoutModel",
      "state": {}
     },
     "05e80843cba24bc78282b9d29907e0c9": {
      "model_module": "@jupyter-widgets/controls",
      "model_module_version": "2.0.0",
      "model_name": "DescriptionStyleModel",
      "state": {
       "description_width": ""
      }
     },
     "063e818f8680414fa376120b0b3a6479": {
      "model_module": "@jupyter-widgets/controls",
      "model_module_version": "2.0.0",
      "model_name": "VBoxModel",
      "state": {
       "children": [
        "IPY_MODEL_b6bc9e2aa57f45ca833c26fb3c40ad65",
        "IPY_MODEL_751dc97fada84320b0b761e7ac1f2c81",
        "IPY_MODEL_724e7468b9c04eac8edf35ffca582bbe",
        "IPY_MODEL_21ba367e9c3a46f99ec7835ac6590eff",
        "IPY_MODEL_b5579ea515884af2a34d2510efeefe73"
       ],
       "layout": "IPY_MODEL_5ecc95d4a9194a6ba32c1261bbc636ea"
      }
     },
     "0690781e65974f279402c3e690217bcd": {
      "model_module": "@jupyter-widgets/controls",
      "model_module_version": "2.0.0",
      "model_name": "ButtonModel",
      "state": {
       "description": "next",
       "layout": "IPY_MODEL_8ed18932abcd42d3a6e33c03f22d6caa",
       "style": "IPY_MODEL_e91a18855a0f4b8cbfd27d1c2f458847",
       "tooltip": null
      }
     },
     "072cf8a4aec74a0d9962770c6f429d15": {
      "model_module": "@jupyter-widgets/base",
      "model_module_version": "2.0.0",
      "model_name": "LayoutModel",
      "state": {}
     },
     "07cc15cbd31a413db941a4c8d4ae6ffd": {
      "model_module": "@jupyter-widgets/base",
      "model_module_version": "2.0.0",
      "model_name": "LayoutModel",
      "state": {}
     },
     "08277bfba70c4b19847d6f3f7b700f9b": {
      "model_module": "@jupyter-widgets/base",
      "model_module_version": "2.0.0",
      "model_name": "LayoutModel",
      "state": {}
     },
     "085638b122db44588ca172876c50bee9": {
      "model_module": "@jupyter-widgets/controls",
      "model_module_version": "2.0.0",
      "model_name": "TabModel",
      "state": {
       "children": [
        "IPY_MODEL_cc08e9f13a424586ac7a1afd9e3a397e",
        "IPY_MODEL_2a93e0879a644451b323ff444c40f0fe"
       ],
       "layout": "IPY_MODEL_08277bfba70c4b19847d6f3f7b700f9b",
       "selected_index": 0,
       "titles": [
        "peak finder",
        "rangging"
       ]
      }
     },
     "08a5c5f107934a8dba7e665a1eb4b060": {
      "model_module": "@jupyter-widgets/controls",
      "model_module_version": "2.0.0",
      "model_name": "ButtonModel",
      "state": {
       "description": "plot element",
       "layout": "IPY_MODEL_7fa134e6e5504fb1adda87975e377019",
       "style": "IPY_MODEL_1d1f2c68a0ae4491935df1cc2fb8cd23",
       "tooltip": null
      }
     },
     "08e48010cc1146a3a472bdf4dd4e9b32": {
      "model_module": "@jupyter-widgets/controls",
      "model_module_version": "2.0.0",
      "model_name": "VBoxModel",
      "state": {
       "children": [
        "IPY_MODEL_482d677652af4582b7d2bb7ac51c280a",
        "IPY_MODEL_e7d73f0b0dd8490487a49baa63cac6cc",
        "IPY_MODEL_935e0b80fff74af282cf41bc37f80eae",
        "IPY_MODEL_a8a2219a6106444a893e511cb95a5ecb",
        "IPY_MODEL_2192e1403fbe41da98859f133f3c9a74",
        "IPY_MODEL_1bb0fe7a1a4743069305d3250823390d"
       ],
       "layout": "IPY_MODEL_be50aeef4a0c4552a1de04af1cfa2475"
      }
     },
     "0916f69654eb4b5b9dd81f228ff8ced9": {
      "model_module": "@jupyter-widgets/controls",
      "model_module_version": "2.0.0",
      "model_name": "ButtonStyleModel",
      "state": {
       "font_family": null,
       "font_size": null,
       "font_style": null,
       "font_variant": null,
       "font_weight": null,
       "text_color": null,
       "text_decoration": null
      }
     },
     "098f09390a854706b118055341f9e8b3": {
      "model_module": "@jupyter-widgets/controls",
      "model_module_version": "2.0.0",
      "model_name": "ButtonStyleModel",
      "state": {
       "font_family": null,
       "font_size": null,
       "font_style": null,
       "font_variant": null,
       "font_weight": null,
       "text_color": null,
       "text_decoration": null
      }
     },
     "0a0a5c0e78ab48a68dee11bcd00dcb77": {
      "model_module": "@jupyter-widgets/controls",
      "model_module_version": "2.0.0",
      "model_name": "ButtonModel",
      "state": {
       "description": "manual formula",
       "layout": "IPY_MODEL_bedeebfba68d481e96f8f95f4648bd9d",
       "style": "IPY_MODEL_20f827af0bb548b4a42034e8ab786717",
       "tooltip": null
      }
     },
     "0a605ce6a34b472491f64cdff17761e4": {
      "model_module": "@jupyter-widgets/controls",
      "model_module_version": "2.0.0",
      "model_name": "ButtonStyleModel",
      "state": {
       "font_family": null,
       "font_size": null,
       "font_style": null,
       "font_variant": null,
       "font_weight": null,
       "text_color": null,
       "text_decoration": null
      }
     },
     "0a796b25c41b41c8af90cb6077f3433f": {
      "model_module": "@jupyter-widgets/controls",
      "model_module_version": "2.0.0",
      "model_name": "HBoxModel",
      "state": {
       "children": [
        "IPY_MODEL_fc0ff83308d94f778a716d4f05207918",
        "IPY_MODEL_b1b3fbf7a47f47d0b442b295c0a71f35"
       ],
       "layout": "IPY_MODEL_31b44e062f984536bc10812b44f48b58"
      }
     },
     "0ab03598545449989af782ae50f44f01": {
      "model_module": "@jupyter-widgets/controls",
      "model_module_version": "2.0.0",
      "model_name": "IntTextModel",
      "state": {
       "description": "index row:",
       "layout": "IPY_MODEL_7952123fccf9448481a8c0285d166bc8",
       "step": 1,
       "style": "IPY_MODEL_dbce74e286054e82818dec4959f02640"
      }
     },
     "0ba43ee050454e43920332939e837086": {
      "model_module": "@jupyter-widgets/controls",
      "model_module_version": "2.0.0",
      "model_name": "ButtonStyleModel",
      "state": {
       "font_family": null,
       "font_size": null,
       "font_style": null,
       "font_variant": null,
       "font_weight": null,
       "text_color": null,
       "text_decoration": null
      }
     },
     "0bd4a3285a814cb9a94bcded26d37c49": {
      "model_module": "@jupyter-widgets/base",
      "model_module_version": "2.0.0",
      "model_name": "LayoutModel",
      "state": {}
     },
     "0bd8ee7e1ae6459796f4c452d08ce8d5": {
      "model_module": "@jupyter-widgets/controls",
      "model_module_version": "2.0.0",
      "model_name": "ButtonModel",
      "state": {
       "description": "add all peaks",
       "layout": "IPY_MODEL_8e4b1c4a74284e0fa34bf4b60ad345eb",
       "style": "IPY_MODEL_4f9c51d3b7104df5ba76967a07d981fc",
       "tooltip": null
      }
     },
     "0c1b52dcd0b2479d9114fe13fbb97961": {
      "model_module": "@jupyter-widgets/controls",
      "model_module_version": "2.0.0",
      "model_name": "DropdownModel",
      "state": {
       "_options_labels": [
        "1",
        "2",
        "3",
        "4",
        "5",
        "6"
       ],
       "description": "charge:",
       "index": 2,
       "layout": "IPY_MODEL_2987e8dee9364cfbb3260f97238e3480",
       "style": "IPY_MODEL_fc6ed6d05af74c8caef08db375f1296e"
      }
     },
     "0ce3663969694bee861774e6173ca57d": {
      "model_module": "@jupyter-widgets/base",
      "model_module_version": "2.0.0",
      "model_name": "LayoutModel",
      "state": {}
     },
     "0d3f26361196461dbca156587bce2044": {
      "model_module": "@jupyter-widgets/controls",
      "model_module_version": "2.0.0",
      "model_name": "IntTextModel",
      "state": {
       "description": "index row:",
       "layout": "IPY_MODEL_e2839cc1126648ea9a3511491e64a86b",
       "step": 1,
       "style": "IPY_MODEL_c2deb7ecd17c40ff9ad5fb6453e78698"
      }
     },
     "0d42afecd094446abd92cb4194d16429": {
      "model_module": "@jupyter-widgets/base",
      "model_module_version": "2.0.0",
      "model_name": "LayoutModel",
      "state": {}
     },
     "0d4e17e0f8d343aba2aecad16b6defec": {
      "model_module": "@jupyter-widgets/controls",
      "model_module_version": "2.0.0",
      "model_name": "VBoxModel",
      "state": {
       "children": [
        "IPY_MODEL_e7621118ba9840d1aab24b93b09c4458",
        "IPY_MODEL_4cfc9fdded2a40be87b6668c3d1d136d",
        "IPY_MODEL_1a8281ae5a08437fa348c624cf213915",
        "IPY_MODEL_52327b6f50aa4376945c3d91659bddd2",
        "IPY_MODEL_1b956ba6c6414338bb01fe481a912ccb",
        "IPY_MODEL_89668e4b1dc545c8acf21a2d11636cf6",
        "IPY_MODEL_22c267eb22ca4ff880853f196b09a8af",
        "IPY_MODEL_adc1980e4c544aa4989f266510272e72"
       ],
       "layout": "IPY_MODEL_a7be5f85ef4b4255a049ac55b5d857e1"
      }
     },
     "0d72982a322d455c9d65fa3861dd3d2c": {
      "model_module": "@jupyter-widgets/base",
      "model_module_version": "2.0.0",
      "model_name": "LayoutModel",
      "state": {}
     },
     "0e364554914a4ebe8f7c362b9aa74d4d": {
      "model_module": "@jupyter-widgets/base",
      "model_module_version": "2.0.0",
      "model_name": "LayoutModel",
      "state": {}
     },
     "0e72e683a33040e88650049d5660e6eb": {
      "model_module": "@jupyter-widgets/base",
      "model_module_version": "2.0.0",
      "model_name": "LayoutModel",
      "state": {}
     },
     "0e8956acb8b24599a24204cf6b2cd4df": {
      "model_module": "@jupyter-widgets/base",
      "model_module_version": "2.0.0",
      "model_name": "LayoutModel",
      "state": {}
     },
     "0f0cea852b5a4ff69b9821a6e2c83eb2": {
      "model_module": "@jupyter-widgets/base",
      "model_module_version": "2.0.0",
      "model_name": "LayoutModel",
      "state": {}
     },
     "0f807d6d092744a1a24946e84d236301": {
      "model_module": "@jupyter-widgets/controls",
      "model_module_version": "2.0.0",
      "model_name": "ButtonStyleModel",
      "state": {
       "font_family": null,
       "font_size": null,
       "font_style": null,
       "font_variant": null,
       "font_weight": null,
       "text_color": null,
       "text_decoration": null
      }
     },
     "103ea1c1b8474b33a0624001e5fe3bbf": {
      "model_module": "@jupyter-widgets/controls",
      "model_module_version": "2.0.0",
      "model_name": "ButtonStyleModel",
      "state": {
       "font_family": null,
       "font_size": null,
       "font_style": null,
       "font_variant": null,
       "font_weight": null,
       "text_color": null,
       "text_decoration": null
      }
     },
     "10ee2d2802454372a13d1b38e1e452bb": {
      "model_module": "@jupyter-widgets/controls",
      "model_module_version": "2.0.0",
      "model_name": "VBoxModel",
      "state": {
       "children": [
        "IPY_MODEL_ec26c56fc70342a69982984da858bd80"
       ],
       "layout": "IPY_MODEL_f4a57a35985c4d57a296ddf0242d6934"
      }
     },
     "11575bed0f7f4e87ad1cdcae8f3a5036": {
      "model_module": "@jupyter-widgets/base",
      "model_module_version": "2.0.0",
      "model_name": "LayoutModel",
      "state": {}
     },
     "117343ec7c6a4b75b875164343389bb0": {
      "model_module": "@jupyter-widgets/base",
      "model_module_version": "2.0.0",
      "model_name": "LayoutModel",
      "state": {}
     },
     "11ba51ccf9b946be9becba07b236fdd7": {
      "model_module": "@jupyter-widgets/controls",
      "model_module_version": "2.0.0",
      "model_name": "ButtonStyleModel",
      "state": {
       "font_family": null,
       "font_size": null,
       "font_style": null,
       "font_variant": null,
       "font_weight": null,
       "text_color": null,
       "text_decoration": null
      }
     },
     "11c8f318d26543898d7aa18c564ce580": {
      "model_module": "@jupyter-widgets/base",
      "model_module_version": "2.0.0",
      "model_name": "LayoutModel",
      "state": {}
     },
     "120a516206af44ada5c9662d9172b161": {
      "model_module": "@jupyter-widgets/controls",
      "model_module_version": "2.0.0",
      "model_name": "ButtonModel",
      "state": {
       "description": "show color",
       "layout": "IPY_MODEL_8dc119bf22514d2eb8069b1381664ea5",
       "style": "IPY_MODEL_103ea1c1b8474b33a0624001e5fe3bbf",
       "tooltip": null
      }
     },
     "122d012b733244029d8c22c6a1d94fb8": {
      "model_module": "@jupyter-widgets/base",
      "model_module_version": "2.0.0",
      "model_name": "LayoutModel",
      "state": {}
     },
     "122d59bcf2224f5abdf864d861791641": {
      "model_module": "@jupyter-widgets/controls",
      "model_module_version": "2.0.0",
      "model_name": "ButtonModel",
      "state": {
       "description": "plot hist",
       "layout": "IPY_MODEL_8ba26e30f9034151a7232f4a2703c356",
       "style": "IPY_MODEL_d0b183fda09541e094efa52bedfb553a",
       "tooltip": null
      }
     },
     "129f54f6b5fb4a138c5c5302a4d22dcf": {
      "model_module": "@jupyter-widgets/controls",
      "model_module_version": "2.0.0",
      "model_name": "ButtonModel",
      "state": {
       "description": "plot hist",
       "layout": "IPY_MODEL_04694c30b0044d648d77620b6de46ddd",
       "style": "IPY_MODEL_f110f0e9ccee4785a23ca6b2eb4c0252",
       "tooltip": null
      }
     },
     "12a19deb2e5d45d48f691f39e90f4a36": {
      "model_module": "@jupyter-widgets/base",
      "model_module_version": "2.0.0",
      "model_name": "LayoutModel",
      "state": {}
     },
     "1314458b13df4301b4194f348ad15e5e": {
      "model_module": "@jupyter-widgets/controls",
      "model_module_version": "2.0.0",
      "model_name": "ButtonStyleModel",
      "state": {
       "font_family": null,
       "font_size": null,
       "font_style": null,
       "font_variant": null,
       "font_weight": null,
       "text_color": null,
       "text_decoration": null
      }
     },
     "134ce34055bd485eaf24a706b9f64091": {
      "model_module": "@jupyter-widgets/controls",
      "model_module_version": "2.0.0",
      "model_name": "ButtonModel",
      "state": {
       "description": "change color",
       "layout": "IPY_MODEL_e3e9b2e0c51843cda806f1a147590cd6",
       "style": "IPY_MODEL_fac31189160f4e358cef65a229bae41c",
       "tooltip": null
      }
     },
     "13a3517f1fa347e2b599db956ca3e72f": {
      "model_module": "@jupyter-widgets/controls",
      "model_module_version": "2.0.0",
      "model_name": "HBoxModel",
      "state": {
       "children": [
        "IPY_MODEL_958db826ebce498e87c0a9f55f7914b2",
        "IPY_MODEL_d9bd9de7e98d4f4e9799af25df00c566"
       ],
       "layout": "IPY_MODEL_b2a58b17e24e471880f6875c1b761b3e"
      }
     },
     "13c482a087d04656838e5d9158ec383e": {
      "model_module": "@jupyter-widgets/controls",
      "model_module_version": "2.0.0",
      "model_name": "ButtonStyleModel",
      "state": {
       "font_family": null,
       "font_size": null,
       "font_style": null,
       "font_variant": null,
       "font_weight": null,
       "text_color": null,
       "text_decoration": null
      }
     },
     "13d88b6945624858bf60053f2dbf32c9": {
      "model_module": "@jupyter-widgets/base",
      "model_module_version": "2.0.0",
      "model_name": "LayoutModel",
      "state": {}
     },
     "146254066b2e4c0db83ff61905c951d9": {
      "model_module": "@jupyter-widgets/controls",
      "model_module_version": "2.0.0",
      "model_name": "VBoxModel",
      "state": {
       "children": [
        "IPY_MODEL_2aab0e9889f1457cabe2fd92d3a0325d"
       ],
       "layout": "IPY_MODEL_e82c7d521f70477c9accf052a7ef1689"
      }
     },
     "146f586148714ef2b5ddf5078cc67a64": {
      "model_module": "@jupyter-widgets/base",
      "model_module_version": "2.0.0",
      "model_name": "LayoutModel",
      "state": {}
     },
     "152a33297f5e43b4a2d6353f0f00e9b9": {
      "model_module": "@jupyter-widgets/controls",
      "model_module_version": "2.0.0",
      "model_name": "IntTextModel",
      "state": {
       "description": "num element:",
       "layout": "IPY_MODEL_be0ac562480c49919d70bce991167e87",
       "step": 1,
       "style": "IPY_MODEL_05e80843cba24bc78282b9d29907e0c9",
       "value": 5
      }
     },
     "1637bc3d95c6486c975d69e9a1441e1a": {
      "model_module": "@jupyter-widgets/base",
      "model_module_version": "2.0.0",
      "model_name": "LayoutModel",
      "state": {}
     },
     "166e75f4ad954ce5855b59f0d7121e46": {
      "model_module": "@jupyter-widgets/base",
      "model_module_version": "2.0.0",
      "model_name": "LayoutModel",
      "state": {}
     },
     "167fab52555b4bffa1c99c196890354c": {
      "model_module": "@jupyter-widgets/controls",
      "model_module_version": "2.0.0",
      "model_name": "ButtonModel",
      "state": {
       "description": "manual formula",
       "layout": "IPY_MODEL_8eb4057eab804b4b95408735739337ce",
       "style": "IPY_MODEL_9cbd7f198bf74165bba44220660503fb",
       "tooltip": null
      }
     },
     "169a20077cfb415eb5e536fde4c9dec9": {
      "model_module": "@jupyter-widgets/controls",
      "model_module_version": "2.0.0",
      "model_name": "ButtonStyleModel",
      "state": {
       "font_family": null,
       "font_size": null,
       "font_style": null,
       "font_variant": null,
       "font_weight": null,
       "text_color": null,
       "text_decoration": null
      }
     },
     "170319887605453e8e7d0fe69eb2b8ea": {
      "model_module": "@jupyter-widgets/base",
      "model_module_version": "2.0.0",
      "model_name": "LayoutModel",
      "state": {}
     },
     "170843aee46e45bcba10e79ee0f84b4e": {
      "model_module": "@jupyter-widgets/base",
      "model_module_version": "2.0.0",
      "model_name": "LayoutModel",
      "state": {}
     },
     "171813b932e5471b9f322d84e1cbd9f0": {
      "model_module": "@jupyter-widgets/base",
      "model_module_version": "2.0.0",
      "model_name": "LayoutModel",
      "state": {}
     },
     "174aa214a99f4b8dbce542fc03336967": {
      "model_module": "@jupyter-widgets/controls",
      "model_module_version": "2.0.0",
      "model_name": "ButtonStyleModel",
      "state": {
       "font_family": null,
       "font_size": null,
       "font_style": null,
       "font_variant": null,
       "font_weight": null,
       "text_color": null,
       "text_decoration": null
      }
     },
     "174dd05a637f43d0b089f1606255850a": {
      "model_module": "@jupyter-widgets/base",
      "model_module_version": "2.0.0",
      "model_name": "LayoutModel",
      "state": {}
     },
     "176871cadae34dd5b3a27533c9146565": {
      "model_module": "@jupyter-widgets/controls",
      "model_module_version": "2.0.0",
      "model_name": "DropdownModel",
      "state": {
       "_options_labels": [
        "1",
        "2",
        "3",
        "4",
        "5",
        "6"
       ],
       "description": "charge:",
       "index": 2,
       "layout": "IPY_MODEL_b208515147cb48d3889e9d36e84f4af0",
       "style": "IPY_MODEL_5f23dad66be24b48afc35401910b882b"
      }
     },
     "1a2023b3a0024a61bd8edb690580329a": {
      "model_module": "@jupyter-widgets/controls",
      "model_module_version": "2.0.0",
      "model_name": "ButtonModel",
      "state": {
       "description": "plot hist",
       "layout": "IPY_MODEL_8040ea360916468e8245604fdadca582",
       "style": "IPY_MODEL_d59aeaa3ff8b4693b1914b9e80290723",
       "tooltip": null
      }
     },
     "1a5a827d1e9943bbb0403e7c509697ff": {
      "model_module": "@jupyter-widgets/base",
      "model_module_version": "2.0.0",
      "model_name": "LayoutModel",
      "state": {}
     },
     "1a73f91ffe614aaa846ae65aef957fc9": {
      "model_module": "@jupyter-widgets/base",
      "model_module_version": "2.0.0",
      "model_name": "LayoutModel",
      "state": {}
     },
     "1a7c151a3f594c2785c61f7dfbbb91ca": {
      "model_module": "@jupyter-widgets/base",
      "model_module_version": "2.0.0",
      "model_name": "LayoutModel",
      "state": {}
     },
     "1a8281ae5a08437fa348c624cf213915": {
      "model_module": "@jupyter-widgets/controls",
      "model_module_version": "2.0.0",
      "model_name": "IntTextModel",
      "state": {
       "description": "peak prominance:",
       "layout": "IPY_MODEL_f7edfe3b06914a19af2d0c14d9f4bf08",
       "step": 1,
       "style": "IPY_MODEL_7ee9fcb0389d4c27bb2c84823f36905d",
       "value": 50
      }
     },
     "1ab03b567e0d4c728cc74331a8eab7d9": {
      "model_module": "@jupyter-widgets/base",
      "model_module_version": "2.0.0",
      "model_name": "LayoutModel",
      "state": {}
     },
     "1b5c0e60918141a9b23bf310f028e1b9": {
      "model_module": "@jupyter-widgets/base",
      "model_module_version": "2.0.0",
      "model_name": "LayoutModel",
      "state": {}
     },
     "1b956ba6c6414338bb01fe481a912ccb": {
      "model_module": "@jupyter-widgets/controls",
      "model_module_version": "2.0.0",
      "model_name": "IntTextModel",
      "state": {
       "description": "lim tof/mc:",
       "layout": "IPY_MODEL_9da91445412e48d6aacbdb55464687d6",
       "step": 1,
       "style": "IPY_MODEL_bd3fb5a770d64d3286d6b38af80a6f84",
       "value": 400
      }
     },
     "1bb0fe7a1a4743069305d3250823390d": {
      "model_module": "@jupyter-widgets/controls",
      "model_module_version": "2.0.0",
      "model_name": "ButtonModel",
      "state": {
       "description": "change color",
       "layout": "IPY_MODEL_fb4d14b9dab14024a3190f559841b6b0",
       "style": "IPY_MODEL_bc512e57571a424a8da2d568d954f592",
       "tooltip": null
      }
     },
     "1bd74f2a7b564054a3c1494c681f1994": {
      "model_module": "@jupyter-widgets/base",
      "model_module_version": "2.0.0",
      "model_name": "LayoutModel",
      "state": {}
     },
     "1c12ce8b50f74b028b055bfc144a0e6d": {
      "model_module": "@jupyter-widgets/controls",
      "model_module_version": "2.0.0",
      "model_name": "IntTextModel",
      "state": {
       "description": "index row:",
       "layout": "IPY_MODEL_fd69424582e84c2880d270c01941c325",
       "step": 1,
       "style": "IPY_MODEL_d7bda0252fef4ab8a148251a0c1c6cb7"
      }
     },
     "1d1f2c68a0ae4491935df1cc2fb8cd23": {
      "model_module": "@jupyter-widgets/controls",
      "model_module_version": "2.0.0",
      "model_name": "ButtonStyleModel",
      "state": {
       "font_family": null,
       "font_size": null,
       "font_style": null,
       "font_variant": null,
       "font_weight": null,
       "text_color": null,
       "text_decoration": null
      }
     },
     "1d49fd073c1e459bb293914a8bd2d577": {
      "model_module": "@jupyter-widgets/controls",
      "model_module_version": "2.0.0",
      "model_name": "ButtonModel",
      "state": {
       "description": "change color",
       "layout": "IPY_MODEL_edbcf1cb28c0499f916ddc56407199ca",
       "style": "IPY_MODEL_8782a95207c04a11b96805d1d49fd62f",
       "tooltip": null
      }
     },
     "1de0f88faf6b48c1b612ae7bc0a82d23": {
      "model_module": "@jupyter-widgets/controls",
      "model_module_version": "2.0.0",
      "model_name": "HBoxModel",
      "state": {
       "children": [
        "IPY_MODEL_a878e6be371b4787adcc9d59bfe006f3",
        "IPY_MODEL_b93f2a1553484f3cb9d5e02b69bbbc6d",
        "IPY_MODEL_84119024cd0d4c49a7b53aa65729c134"
       ],
       "layout": "IPY_MODEL_c12a7a45f6a14f56a3f9759700887b30"
      }
     },
     "1ea49bf4e52d4d23b35aa12368c4d65f": {
      "model_module": "@jupyter-widgets/base",
      "model_module_version": "2.0.0",
      "model_name": "LayoutModel",
      "state": {}
     },
     "1ec9dbc5a0fa4cc497f85e5e116053ba": {
      "model_module": "@jupyter-widgets/base",
      "model_module_version": "2.0.0",
      "model_name": "LayoutModel",
      "state": {}
     },
     "1f33301eb9e1408e8cbb78481a5f135c": {
      "model_module": "@jupyter-widgets/base",
      "model_module_version": "2.0.0",
      "model_name": "LayoutModel",
      "state": {}
     },
     "1fe894078625453fb37755fb504c9a5c": {
      "model_module": "@jupyter-widgets/base",
      "model_module_version": "2.0.0",
      "model_name": "LayoutModel",
      "state": {}
     },
     "206d0e07f0794db3a1ab0d35c0af55a5": {
      "model_module": "@jupyter-widgets/controls",
      "model_module_version": "2.0.0",
      "model_name": "ButtonStyleModel",
      "state": {
       "font_family": null,
       "font_size": null,
       "font_style": null,
       "font_variant": null,
       "font_weight": null,
       "text_color": null,
       "text_decoration": null
      }
     },
     "20e44c6747394f9ab9d23b9cf732ea95": {
      "model_module": "@jupyter-widgets/controls",
      "model_module_version": "2.0.0",
      "model_name": "ButtonModel",
      "state": {
       "description": "plot hist",
       "layout": "IPY_MODEL_953d4b23b98f4b15873297d03bb9a798",
       "style": "IPY_MODEL_f774de318d06472583339757e414294c",
       "tooltip": null
      }
     },
     "20f827af0bb548b4a42034e8ab786717": {
      "model_module": "@jupyter-widgets/controls",
      "model_module_version": "2.0.0",
      "model_name": "ButtonStyleModel",
      "state": {
       "font_family": null,
       "font_size": null,
       "font_style": null,
       "font_variant": null,
       "font_weight": null,
       "text_color": null,
       "text_decoration": null
      }
     },
     "20fa9fbab7314093bea7019f4d0ed81f": {
      "model_module": "@jupyter-widgets/output",
      "model_module_version": "1.0.0",
      "model_name": "OutputModel",
      "state": {
       "layout": "IPY_MODEL_d80e581b343143b5a4bc102fe774180d"
      }
     },
     "2192e1403fbe41da98859f133f3c9a74": {
      "model_module": "@jupyter-widgets/controls",
      "model_module_version": "2.0.0",
      "model_name": "ButtonModel",
      "state": {
       "description": "show color",
       "layout": "IPY_MODEL_eefd7d898943485facdb2d3ce71fb0a2",
       "style": "IPY_MODEL_964098dd20d348cbb05d1cf6002454e1",
       "tooltip": null
      }
     },
     "21a1916686204bb397049b8dc4579004": {
      "model_module": "@jupyter-widgets/base",
      "model_module_version": "2.0.0",
      "model_name": "LayoutModel",
      "state": {}
     },
     "21ba367e9c3a46f99ec7835ac6590eff": {
      "model_module": "@jupyter-widgets/controls",
      "model_module_version": "2.0.0",
      "model_name": "ButtonModel",
      "state": {
       "description": "previous",
       "layout": "IPY_MODEL_dfbe7c0cf5e64d998f7985576ff69295",
       "style": "IPY_MODEL_d96b02c2e2b340c9b57380921909be56",
       "tooltip": null
      }
     },
     "21e62b053aa64f3b8890f4ccd23db855": {
      "model_module": "@jupyter-widgets/controls",
      "model_module_version": "2.0.0",
      "model_name": "ButtonStyleModel",
      "state": {
       "font_family": null,
       "font_size": null,
       "font_style": null,
       "font_variant": null,
       "font_weight": null,
       "text_color": null,
       "text_decoration": null
      }
     },
     "21fcc1d7e49845c59ec2b9072b58edc1": {
      "model_module": "@jupyter-widgets/base",
      "model_module_version": "2.0.0",
      "model_name": "LayoutModel",
      "state": {}
     },
     "2221d1df94fc407e8af2762232b110dd": {
      "model_module": "@jupyter-widgets/controls",
      "model_module_version": "2.0.0",
      "model_name": "VBoxModel",
      "state": {
       "children": [
        "IPY_MODEL_7f836931ecee465f8a47a36cad3216ab",
        "IPY_MODEL_dfdcd0d99d1e4caebac4de7b2484f6f8",
        "IPY_MODEL_6cf9f5135e2d45d68aa38a00fcb33526",
        "IPY_MODEL_fe35aa124dde4dddb85c1a1c2678f532",
        "IPY_MODEL_02df51c7e5c442a694c0965667aca172",
        "IPY_MODEL_134ce34055bd485eaf24a706b9f64091"
       ],
       "layout": "IPY_MODEL_af0e1031a4494c1b99678c778bd7ba75"
      }
     },
     "22c267eb22ca4ff880853f196b09a8af": {
      "model_module": "@jupyter-widgets/controls",
      "model_module_version": "2.0.0",
      "model_name": "DropdownModel",
      "state": {
       "_options_labels": [
        "True",
        "False"
       ],
       "description": "plot peak:",
       "index": 0,
       "layout": "IPY_MODEL_d2654208038740a080c570756d3a8c7f",
       "style": "IPY_MODEL_965958b78593415ba042bc576637d330"
      }
     },
     "22c891d15f1e47d4959fd2b7161c5f41": {
      "model_module": "@jupyter-widgets/controls",
      "model_module_version": "2.0.0",
      "model_name": "DropdownModel",
      "state": {
       "_options_labels": [
        "1",
        "2",
        "3",
        "4",
        "5",
        "6"
       ],
       "description": "charge:",
       "index": 2,
       "layout": "IPY_MODEL_2c2445d9e7714ac3993565af85a9cee8",
       "style": "IPY_MODEL_477d3be4b24a4c268c6cfaecfbae408f"
      }
     },
     "22ce0026493547bf929a7f4cf0683a1b": {
      "model_module": "@jupyter-widgets/controls",
      "model_module_version": "2.0.0",
      "model_name": "VBoxModel",
      "state": {
       "children": [
        "IPY_MODEL_eb7e5c70f87b4f1c84de9b8e0f2c854b",
        "IPY_MODEL_4728fd979f534c829a9d6a88fe518c2c",
        "IPY_MODEL_f5f4544aa16a4377880b02207bca636a",
        "IPY_MODEL_9be4dc4c74b8458097f8b540f3f6a769",
        "IPY_MODEL_fb3a621ae4ce45baba1fc3b5b782f494"
       ],
       "layout": "IPY_MODEL_caa555857f9c478f8926d256a3814b94"
      }
     },
     "22d262262a6b4cbdb937ef73b3489e73": {
      "model_module": "@jupyter-widgets/base",
      "model_module_version": "2.0.0",
      "model_name": "LayoutModel",
      "state": {}
     },
     "231d489d40a1463aaafae46e5d9d2dd6": {
      "model_module": "@jupyter-widgets/controls",
      "model_module_version": "2.0.0",
      "model_name": "HBoxModel",
      "state": {
       "children": [
        "IPY_MODEL_085638b122db44588ca172876c50bee9",
        "IPY_MODEL_6a8d1a8788064094a5add740b18073a0"
       ],
       "layout": "IPY_MODEL_abdad6a924654d808d165cd26aff294d"
      }
     },
     "2335afddaac547c9be9507fb584e0642": {
      "model_module": "@jupyter-widgets/base",
      "model_module_version": "2.0.0",
      "model_name": "LayoutModel",
      "state": {}
     },
     "23a435d065ed4312a205ce5711e02dad": {
      "model_module": "@jupyter-widgets/base",
      "model_module_version": "2.0.0",
      "model_name": "LayoutModel",
      "state": {}
     },
     "24525d83a7a540f9964798fa3164cb9d": {
      "model_module": "@jupyter-widgets/controls",
      "model_module_version": "2.0.0",
      "model_name": "ButtonModel",
      "state": {
       "description": "add ion",
       "layout": "IPY_MODEL_bd05da0054134fc7b304b7c3701d492c",
       "style": "IPY_MODEL_b686c4dd094545c2b87b3ac3ecedaa5c",
       "tooltip": null
      }
     },
     "245b8cb30501442dbf3be4c718566931": {
      "model_module": "@jupyter-widgets/controls",
      "model_module_version": "2.0.0",
      "model_name": "VBoxModel",
      "state": {
       "children": [
        "IPY_MODEL_93cc1dce759b4669bdc3e6d27e6c0cbe",
        "IPY_MODEL_e3cf6bee2d98446597d09f4642c2aa94"
       ],
       "layout": "IPY_MODEL_769b007836774137aeae8f2016451f17"
      }
     },
     "264d270a93744364b1d723f898f9618d": {
      "model_module": "@jupyter-widgets/controls",
      "model_module_version": "2.0.0",
      "model_name": "ButtonStyleModel",
      "state": {
       "font_family": null,
       "font_size": null,
       "font_style": null,
       "font_variant": null,
       "font_weight": null,
       "text_color": null,
       "text_decoration": null
      }
     },
     "267d3c44e5dc4f318bc373cdc34acca7": {
      "model_module": "@jupyter-widgets/controls",
      "model_module_version": "2.0.0",
      "model_name": "ButtonModel",
      "state": {
       "description": "plot element",
       "layout": "IPY_MODEL_c17c3d7002ec4bf2b2819ad149d7cba5",
       "style": "IPY_MODEL_de6a7d0cf31743249e58e38484c23e80",
       "tooltip": null
      }
     },
     "26ce7ff1fcf24593ac7b4d6e75429478": {
      "model_module": "@jupyter-widgets/controls",
      "model_module_version": "2.0.0",
      "model_name": "ButtonStyleModel",
      "state": {
       "font_family": null,
       "font_size": null,
       "font_style": null,
       "font_variant": null,
       "font_weight": null,
       "text_color": null,
       "text_decoration": null
      }
     },
     "273430a15a654b798a2fa39809255880": {
      "model_module": "@jupyter-widgets/base",
      "model_module_version": "2.0.0",
      "model_name": "LayoutModel",
      "state": {}
     },
     "278bc1b0eebd4f019ea432b81600369f": {
      "model_module": "@jupyter-widgets/controls",
      "model_module_version": "2.0.0",
      "model_name": "HBoxModel",
      "state": {
       "children": [
        "IPY_MODEL_32f139ff880340718b0172c4ee80dbf2",
        "IPY_MODEL_39b6afc4f54e49d8ba1b7d4188db0d53",
        "IPY_MODEL_93442862f0bc4e3f9fc15c03021dbf7c"
       ],
       "layout": "IPY_MODEL_bb69bdaf277741119064b695aaf307e8"
      }
     },
     "283d7794834a4638af88c1a54ca6935d": {
      "model_module": "@jupyter-widgets/controls",
      "model_module_version": "2.0.0",
      "model_name": "ButtonModel",
      "state": {
       "description": "plot hist",
       "layout": "IPY_MODEL_a184125c230d4e1d820b3889c50d61c2",
       "style": "IPY_MODEL_a49f1b0fa9cb41cdb3085c3e321443c2",
       "tooltip": null
      }
     },
     "288c659b95fe444196030abff1824c8d": {
      "model_module": "@jupyter-widgets/controls",
      "model_module_version": "2.0.0",
      "model_name": "ButtonStyleModel",
      "state": {
       "font_family": null,
       "font_size": null,
       "font_style": null,
       "font_variant": null,
       "font_weight": null,
       "text_color": null,
       "text_decoration": null
      }
     },
     "28ecede29be84019bf3bc6f35401bf8a": {
      "model_module": "@jupyter-widgets/controls",
      "model_module_version": "2.0.0",
      "model_name": "ButtonModel",
      "state": {
       "description": "add all peaks",
       "layout": "IPY_MODEL_bd443cc0e4a744ffb6348883ae374c1d",
       "style": "IPY_MODEL_ee29d057c7754b80abf4e63b4b96a6bc",
       "tooltip": null
      }
     },
     "293c6b0ffa514ec1b931db1e45f04219": {
      "model_module": "@jupyter-widgets/controls",
      "model_module_version": "2.0.0",
      "model_name": "ButtonModel",
      "state": {
       "description": "plot hist",
       "layout": "IPY_MODEL_12a19deb2e5d45d48f691f39e90f4a36",
       "style": "IPY_MODEL_80f570074b0c4086bbc652a2958d7666",
       "tooltip": null
      }
     },
     "2987e8dee9364cfbb3260f97238e3480": {
      "model_module": "@jupyter-widgets/base",
      "model_module_version": "2.0.0",
      "model_name": "LayoutModel",
      "state": {}
     },
     "2a03e6f9020f4d829228dd224209a261": {
      "model_module": "@jupyter-widgets/controls",
      "model_module_version": "2.0.0",
      "model_name": "ButtonModel",
      "state": {
       "description": "manual formula",
       "layout": "IPY_MODEL_0d42afecd094446abd92cb4194d16429",
       "style": "IPY_MODEL_169a20077cfb415eb5e536fde4c9dec9",
       "tooltip": null
      }
     },
     "2a93e0879a644451b323ff444c40f0fe": {
      "model_module": "@jupyter-widgets/controls",
      "model_module_version": "2.0.0",
      "model_name": "VBoxModel",
      "state": {
       "children": [
        "IPY_MODEL_e7621118ba9840d1aab24b93b09c4458",
        "IPY_MODEL_4cfc9fdded2a40be87b6668c3d1d136d",
        "IPY_MODEL_1a8281ae5a08437fa348c624cf213915",
        "IPY_MODEL_52327b6f50aa4376945c3d91659bddd2",
        "IPY_MODEL_1b956ba6c6414338bb01fe481a912ccb",
        "IPY_MODEL_89668e4b1dc545c8acf21a2d11636cf6",
        "IPY_MODEL_417dcc24f6144c9797ffd76cbe8a7863"
       ],
       "layout": "IPY_MODEL_c0b1656a81c14a578b35abf011ef44d1"
      }
     },
     "2aab0e9889f1457cabe2fd92d3a0325d": {
      "model_module": "@jupyter-widgets/controls",
      "model_module_version": "2.0.0",
      "model_name": "HBoxModel",
      "state": {
       "children": [
        "IPY_MODEL_8dcbf4247c034bc781d53d09386350d1",
        "IPY_MODEL_9cfc3b5bb1e0456f80425bcc8fde3fd4",
        "IPY_MODEL_d5ca53fdf35f46b89c801a0e0e04a1f8"
       ],
       "layout": "IPY_MODEL_b949a26ae95449beb4eac3320c50cda9"
      }
     },
     "2ac60a2a3bf046bea6c051213f947f6a": {
      "model_module": "@jupyter-widgets/base",
      "model_module_version": "2.0.0",
      "model_name": "LayoutModel",
      "state": {}
     },
     "2b37445e401a44ddb9278b49736d6f00": {
      "model_module": "@jupyter-widgets/controls",
      "model_module_version": "2.0.0",
      "model_name": "TextModel",
      "state": {
       "description": "Isotope formula:",
       "layout": "IPY_MODEL_6e27b53cf3aa44eebf76fd0ecdd7bfb0",
       "placeholder": "Type a formula  {12}C1{16}O2",
       "style": "IPY_MODEL_496ccc89b49742eab220cbe8760fed78",
       "value": "{12}C1{16}O2"
      }
     },
     "2bbf4c4a69374b1eac34be2803fdf370": {
      "model_module": "@jupyter-widgets/base",
      "model_module_version": "2.0.0",
      "model_name": "LayoutModel",
      "state": {}
     },
     "2bc20245fd4d4b0c80bea9bf99ed4740": {
      "model_module": "@jupyter-widgets/controls",
      "model_module_version": "2.0.0",
      "model_name": "ButtonModel",
      "state": {
       "description": "manual formula",
       "layout": "IPY_MODEL_b3e7536d49c942e3ac35b524441726ce",
       "style": "IPY_MODEL_83740b7ed2984bb2a9a25d88f4e54554",
       "tooltip": null
      }
     },
     "2c2445d9e7714ac3993565af85a9cee8": {
      "model_module": "@jupyter-widgets/base",
      "model_module_version": "2.0.0",
      "model_name": "LayoutModel",
      "state": {}
     },
     "2c2dca7746fd4406a6e8bf0922868990": {
      "model_module": "@jupyter-widgets/base",
      "model_module_version": "2.0.0",
      "model_name": "LayoutModel",
      "state": {}
     },
     "2ca08af4296549a7b5077191d547ce3e": {
      "model_module": "@jupyter-widgets/controls",
      "model_module_version": "2.0.0",
      "model_name": "DescriptionStyleModel",
      "state": {
       "description_width": ""
      }
     },
     "2cc05b727daf4c47ad71de6e04fa88ad": {
      "model_module": "@jupyter-widgets/base",
      "model_module_version": "2.0.0",
      "model_name": "LayoutModel",
      "state": {}
     },
     "2d14bf9c91804cb3bbb7426d116dad72": {
      "model_module": "@jupyter-widgets/base",
      "model_module_version": "2.0.0",
      "model_name": "LayoutModel",
      "state": {}
     },
     "2d6e870c8ba8449b9f3a427ed26f6fac": {
      "model_module": "@jupyter-widgets/controls",
      "model_module_version": "2.0.0",
      "model_name": "ButtonStyleModel",
      "state": {
       "font_family": null,
       "font_size": null,
       "font_style": null,
       "font_variant": null,
       "font_weight": null,
       "text_color": null,
       "text_decoration": null
      }
     },
     "2e013d99dc4f439baee6e9aaaf8d60f5": {
      "model_module": "@jupyter-widgets/base",
      "model_module_version": "2.0.0",
      "model_name": "LayoutModel",
      "state": {}
     },
     "2e60d3bd3143447eab0e7dbaad598eaa": {
      "model_module": "@jupyter-widgets/controls",
      "model_module_version": "2.0.0",
      "model_name": "ButtonModel",
      "state": {
       "description": "add all peaks",
       "layout": "IPY_MODEL_07cc15cbd31a413db941a4c8d4ae6ffd",
       "style": "IPY_MODEL_0a605ce6a34b472491f64cdff17761e4",
       "tooltip": null
      }
     },
     "2ec535b7abec4c79a30e682daa110a27": {
      "model_module": "@jupyter-widgets/base",
      "model_module_version": "2.0.0",
      "model_name": "LayoutModel",
      "state": {}
     },
     "2f2d6238dd0b415898e17371c0708ef6": {
      "model_module": "@jupyter-widgets/controls",
      "model_module_version": "2.0.0",
      "model_name": "HBoxModel",
      "state": {
       "children": [
        "IPY_MODEL_bd28d5a72b0d4ab09b00208eb509653d",
        "IPY_MODEL_6b81c1bbda4642c19f58adc323dba4c4"
       ],
       "layout": "IPY_MODEL_bd526eb43b084731aa96c0caa16e237e"
      }
     },
     "2f668c965a704679a99bfcf18e518dfe": {
      "model_module": "@jupyter-widgets/base",
      "model_module_version": "2.0.0",
      "model_name": "LayoutModel",
      "state": {}
     },
     "2ff139eaaefc4a49ae62cf15e0361242": {
      "model_module": "@jupyter-widgets/controls",
      "model_module_version": "2.0.0",
      "model_name": "TabModel",
      "state": {
       "children": [
        "IPY_MODEL_10ee2d2802454372a13d1b38e1e452bb"
       ],
       "layout": "IPY_MODEL_048478c91f0e4aab831afa34d3d3d491",
       "selected_index": 0,
       "titles": [
        "element finder"
       ]
      }
     },
     "3028513c8b0b4f148d55b7a7ef4bf7d5": {
      "model_module": "@jupyter-widgets/controls",
      "model_module_version": "2.0.0",
      "model_name": "HBoxModel",
      "state": {
       "children": [
        "IPY_MODEL_6f694d3c51ef4a99bb600ccbba399ce3"
       ],
       "layout": "IPY_MODEL_e8222f38f6c14bc5b58302d5eb8ed654"
      }
     },
     "30768d1b3a6e439f8a63963e420811f2": {
      "model_module": "@jupyter-widgets/base",
      "model_module_version": "2.0.0",
      "model_name": "LayoutModel",
      "state": {}
     },
     "30e0d79203df4cdcb1a07b13307ea7dc": {
      "model_module": "@jupyter-widgets/controls",
      "model_module_version": "2.0.0",
      "model_name": "ButtonStyleModel",
      "state": {
       "font_family": null,
       "font_size": null,
       "font_style": null,
       "font_variant": null,
       "font_weight": null,
       "text_color": null,
       "text_decoration": null
      }
     },
     "30fbbb0d710d423a8fc1c45b3c43d50d": {
      "model_module": "@jupyter-widgets/controls",
      "model_module_version": "2.0.0",
      "model_name": "ColorPickerModel",
      "state": {
       "description": "Select a color:",
       "disabled": false,
       "layout": "IPY_MODEL_3ac75d7db5b64c08b4057b04f4a14f45",
       "style": "IPY_MODEL_45bee3ebd5314a9f8024c5bec410893d"
      }
     },
     "317671f169634c81a74dd07b2e717b21": {
      "model_module": "@jupyter-widgets/controls",
      "model_module_version": "2.0.0",
      "model_name": "ButtonModel",
      "state": {
       "description": "show color",
       "layout": "IPY_MODEL_122d012b733244029d8c22c6a1d94fb8",
       "style": "IPY_MODEL_dcf3783ed16840ca84682ad04238535d",
       "tooltip": null
      }
     },
     "31b44e062f984536bc10812b44f48b58": {
      "model_module": "@jupyter-widgets/base",
      "model_module_version": "2.0.0",
      "model_name": "LayoutModel",
      "state": {}
     },
     "321c5b6bddfe42e686d0b5e27aee6fff": {
      "model_module": "@jupyter-widgets/controls",
      "model_module_version": "2.0.0",
      "model_name": "ButtonModel",
      "state": {
       "description": "start",
       "layout": "IPY_MODEL_b7909b25acee4ab38813547ecd3219fc",
       "style": "IPY_MODEL_f33af4f2c4f247b5bb85c077762497fd",
       "tooltip": null
      }
     },
     "322110b29c9145cf8cd0b11282599ea2": {
      "model_module": "@jupyter-widgets/base",
      "model_module_version": "2.0.0",
      "model_name": "LayoutModel",
      "state": {}
     },
     "32f139ff880340718b0172c4ee80dbf2": {
      "model_module": "@jupyter-widgets/controls",
      "model_module_version": "2.0.0",
      "model_name": "VBoxModel",
      "state": {
       "children": [
        "IPY_MODEL_c2f7f44d40ba4ad98aeaf8d205553461",
        "IPY_MODEL_22c891d15f1e47d4959fd2b7161c5f41",
        "IPY_MODEL_598200ef5f7e452caeab118e6ff3c34a",
        "IPY_MODEL_4eb500a9928343beb1f49bdfa6ac3338",
        "IPY_MODEL_78a8791e98494f578d67d7d467478167",
        "IPY_MODEL_484a7f6b8cdd4eddab411a00366278e6",
        "IPY_MODEL_50a9b0ea582040fab32b78bfe75ac3be",
        "IPY_MODEL_b79a0d9fa32e482f91af6827c96a158c",
        "IPY_MODEL_267d3c44e5dc4f318bc373cdc34acca7"
       ],
       "layout": "IPY_MODEL_b62dbf5517914eb49a7bac77c9f39411"
      }
     },
     "332dafd65c874095987116beac278dae": {
      "model_module": "@jupyter-widgets/controls",
      "model_module_version": "2.0.0",
      "model_name": "ButtonModel",
      "state": {
       "description": "reset zoom",
       "layout": "IPY_MODEL_338cb23341d247e39dc72d6642de11d0",
       "style": "IPY_MODEL_288c659b95fe444196030abff1824c8d",
       "tooltip": null
      }
     },
     "33559c83efc24aa696242d8a302c4570": {
      "model_module": "@jupyter-widgets/controls",
      "model_module_version": "2.0.0",
      "model_name": "ButtonStyleModel",
      "state": {
       "font_family": null,
       "font_size": null,
       "font_style": null,
       "font_variant": null,
       "font_weight": null,
       "text_color": null,
       "text_decoration": null
      }
     },
     "338cb23341d247e39dc72d6642de11d0": {
      "model_module": "@jupyter-widgets/base",
      "model_module_version": "2.0.0",
      "model_name": "LayoutModel",
      "state": {}
     },
     "339055f87fb7460b8c1580599ea869cf": {
      "model_module": "@jupyter-widgets/controls",
      "model_module_version": "2.0.0",
      "model_name": "VBoxModel",
      "state": {
       "children": [
        "IPY_MODEL_e7621118ba9840d1aab24b93b09c4458",
        "IPY_MODEL_4cfc9fdded2a40be87b6668c3d1d136d",
        "IPY_MODEL_1a8281ae5a08437fa348c624cf213915",
        "IPY_MODEL_52327b6f50aa4376945c3d91659bddd2",
        "IPY_MODEL_1b956ba6c6414338bb01fe481a912ccb",
        "IPY_MODEL_89668e4b1dc545c8acf21a2d11636cf6",
        "IPY_MODEL_22c267eb22ca4ff880853f196b09a8af",
        "IPY_MODEL_ea61f370e61e4bceb7e462d87810262d"
       ],
       "layout": "IPY_MODEL_a21a4c6a4f384007ab57da0c8c29b449"
      }
     },
     "33905646a7a2420da5c39a746c7223b2": {
      "model_module": "@jupyter-widgets/base",
      "model_module_version": "2.0.0",
      "model_name": "LayoutModel",
      "state": {}
     },
     "33ee715bde3c4b03b5a9203d5d414f48": {
      "model_module": "@jupyter-widgets/controls",
      "model_module_version": "2.0.0",
      "model_name": "ButtonModel",
      "state": {
       "description": "plot hist",
       "layout": "IPY_MODEL_c50cbe8641d4472aa9fd9865f0aba78d",
       "style": "IPY_MODEL_e940390ab48840ddbe6efe8994b01bc7",
       "tooltip": null
      }
     },
     "349d3a78acc644b99d898077897551d9": {
      "model_module": "@jupyter-widgets/controls",
      "model_module_version": "2.0.0",
      "model_name": "ButtonModel",
      "state": {
       "description": "reset zoom",
       "layout": "IPY_MODEL_65b72a935064409f99317af8524a5ac0",
       "style": "IPY_MODEL_74d7a261c9b449189ea4dad4a7eb43a3",
       "tooltip": null
      }
     },
     "34caf358a4fb4385af53288f73425a75": {
      "model_module": "@jupyter-widgets/base",
      "model_module_version": "2.0.0",
      "model_name": "LayoutModel",
      "state": {}
     },
     "353a56c5a43d47c88b9b229c4c78d9b1": {
      "model_module": "@jupyter-widgets/controls",
      "model_module_version": "2.0.0",
      "model_name": "ButtonModel",
      "state": {
       "description": "previous",
       "layout": "IPY_MODEL_d9f4f412afa744a59391583ca57ad118",
       "style": "IPY_MODEL_02d29a6a9f6743b2adc3ae11070b76bc",
       "tooltip": null
      }
     },
     "35ee3e6cf500414c82f712be32b5ecd7": {
      "model_module": "@jupyter-widgets/controls",
      "model_module_version": "2.0.0",
      "model_name": "ButtonStyleModel",
      "state": {
       "font_family": null,
       "font_size": null,
       "font_style": null,
       "font_variant": null,
       "font_weight": null,
       "text_color": null,
       "text_decoration": null
      }
     },
     "36166988480946aba8020ddd343b6ec0": {
      "model_module": "@jupyter-widgets/controls",
      "model_module_version": "2.0.0",
      "model_name": "TabModel",
      "state": {
       "children": [
        "IPY_MODEL_4070d5772d6a408dbecdb77ece40ab0b"
       ],
       "layout": "IPY_MODEL_90ec18ae2e1e4ba499d6b4ac5262e66c",
       "selected_index": 0,
       "titles": [
        "element finder"
       ]
      }
     },
     "36a1cb4b5e1244aab9645a4d45b4be57": {
      "model_module": "@jupyter-widgets/base",
      "model_module_version": "2.0.0",
      "model_name": "LayoutModel",
      "state": {}
     },
     "36a3d8c04e9e41eea39b7416c585e2a0": {
      "model_module": "@jupyter-widgets/controls",
      "model_module_version": "2.0.0",
      "model_name": "ButtonStyleModel",
      "state": {
       "font_family": null,
       "font_size": null,
       "font_style": null,
       "font_variant": null,
       "font_weight": null,
       "text_color": null,
       "text_decoration": null
      }
     },
     "36f0b4b63e07499ba049834113df353e": {
      "model_module": "@jupyter-widgets/base",
      "model_module_version": "2.0.0",
      "model_name": "LayoutModel",
      "state": {}
     },
     "37b79442fb9745b78c92bb842113587e": {
      "model_module": "@jupyter-widgets/controls",
      "model_module_version": "2.0.0",
      "model_name": "VBoxModel",
      "state": {
       "children": [
        "IPY_MODEL_5de31598e1564de3b7075497da0f0ed8",
        "IPY_MODEL_d3b06b5b37cf45d1bb2b0676828409e2"
       ],
       "layout": "IPY_MODEL_431dd7bda7ce4a54b98d002f4e45c7bc"
      }
     },
     "382010b6bfee40ffa489bfdfe2a84ecb": {
      "model_module": "@jupyter-widgets/base",
      "model_module_version": "2.0.0",
      "model_name": "LayoutModel",
      "state": {}
     },
     "387bf0c240074d2f8d6f972b250fa325": {
      "model_module": "@jupyter-widgets/base",
      "model_module_version": "2.0.0",
      "model_name": "LayoutModel",
      "state": {}
     },
     "393054a19dc043a69932b7d7c6e8e0c2": {
      "model_module": "@jupyter-widgets/controls",
      "model_module_version": "2.0.0",
      "model_name": "ButtonModel",
      "state": {
       "description": "plot hist",
       "layout": "IPY_MODEL_1a5a827d1e9943bbb0403e7c509697ff",
       "style": "IPY_MODEL_33559c83efc24aa696242d8a302c4570",
       "tooltip": null
      }
     },
     "398c6775bcd94e6f9765fc6e449a1b9c": {
      "model_module": "@jupyter-widgets/base",
      "model_module_version": "2.0.0",
      "model_name": "LayoutModel",
      "state": {}
     },
     "39b6afc4f54e49d8ba1b7d4188db0d53": {
      "model_module": "@jupyter-widgets/controls",
      "model_module_version": "2.0.0",
      "model_name": "VBoxModel",
      "state": {
       "children": [
        "IPY_MODEL_0ab03598545449989af782ae50f44f01",
        "IPY_MODEL_30fbbb0d710d423a8fc1c45b3c43d50d",
        "IPY_MODEL_4f882116aade4d5aacf4000127fe5484",
        "IPY_MODEL_7caf941b3cd1424f87314364dc2c4193",
        "IPY_MODEL_9483588943db43378e109c2b8c3d719a",
        "IPY_MODEL_e58bf5ac14954976ad3dec5c66fdafb2"
       ],
       "layout": "IPY_MODEL_675efe9d05084c04a890cee8d137859f"
      }
     },
     "39e77bbf30544ff7aa0164451989bcf1": {
      "model_module": "@jupyter-widgets/base",
      "model_module_version": "2.0.0",
      "model_name": "LayoutModel",
      "state": {}
     },
     "3a1b1eff980f41bf9c53a3789fb44d07": {
      "model_module": "@jupyter-widgets/controls",
      "model_module_version": "2.0.0",
      "model_name": "VBoxModel",
      "state": {
       "children": [
        "IPY_MODEL_a1639d586aa940dab6a6332fc1114afd",
        "IPY_MODEL_b65c45289d40419a9d6cc6a990126ced",
        "IPY_MODEL_2bc20245fd4d4b0c80bea9bf99ed4740"
       ],
       "layout": "IPY_MODEL_e6e3bf261e584967bfbe2ce9d4b8f1b9"
      }
     },
     "3ac75d7db5b64c08b4057b04f4a14f45": {
      "model_module": "@jupyter-widgets/base",
      "model_module_version": "2.0.0",
      "model_name": "LayoutModel",
      "state": {}
     },
     "3bfba64a656347dc9c9a587e14047a89": {
      "model_module": "@jupyter-widgets/controls",
      "model_module_version": "2.0.0",
      "model_name": "DropdownModel",
      "state": {
       "_options_labels": [
        "1",
        "2",
        "3",
        "4",
        "5",
        "6"
       ],
       "description": "complexity:",
       "index": 2,
       "layout": "IPY_MODEL_2ec535b7abec4c79a30e682daa110a27",
       "style": "IPY_MODEL_441ac8f49c564204961b503f6c15c31b"
      }
     },
     "3c3dc68da8204a8c8c299c13af3c325f": {
      "model_module": "@jupyter-widgets/controls",
      "model_module_version": "2.0.0",
      "model_name": "VBoxModel",
      "state": {
       "children": [
        "IPY_MODEL_9aa9626e54ed407d8de9c4eafad5d577",
        "IPY_MODEL_ab54fc708d064b36b758e4753a696f3f",
        "IPY_MODEL_dfeb8dc001384144aeae66115b3015b8",
        "IPY_MODEL_353a56c5a43d47c88b9b229c4c78d9b1",
        "IPY_MODEL_4db72e00e86844b4a3757ee096a556d7"
       ],
       "layout": "IPY_MODEL_f929d1bb30ad4aee90cfc26bcf6a4c34"
      }
     },
     "3cabe4ef8d84407198584f1ba2be070f": {
      "model_module": "@jupyter-widgets/controls",
      "model_module_version": "2.0.0",
      "model_name": "ButtonStyleModel",
      "state": {
       "font_family": null,
       "font_size": null,
       "font_style": null,
       "font_variant": null,
       "font_weight": null,
       "text_color": null,
       "text_decoration": null
      }
     },
     "3d6fd47880b649e98a24fa8d847b8865": {
      "model_module": "@jupyter-widgets/controls",
      "model_module_version": "2.0.0",
      "model_name": "ButtonStyleModel",
      "state": {
       "font_family": null,
       "font_size": null,
       "font_style": null,
       "font_variant": null,
       "font_weight": null,
       "text_color": null,
       "text_decoration": null
      }
     },
     "3d77bc8866af4b8c9f8d14172cd58677": {
      "model_module": "@jupyter-widgets/base",
      "model_module_version": "2.0.0",
      "model_name": "LayoutModel",
      "state": {}
     },
     "3d985a3d35464c7d94e23ff048b28579": {
      "model_module": "@jupyter-widgets/controls",
      "model_module_version": "2.0.0",
      "model_name": "ButtonModel",
      "state": {
       "description": "reset zoom",
       "layout": "IPY_MODEL_cf7759ad96cd42258e692066ead81510",
       "style": "IPY_MODEL_6a4fc96fc6084c2c976233533469321d",
       "tooltip": null
      }
     },
     "3df0feb1b4f245acbcd7be96b406b708": {
      "model_module": "@jupyter-widgets/controls",
      "model_module_version": "2.0.0",
      "model_name": "FloatTextModel",
      "state": {
       "description": "threshold aboundance:",
       "layout": "IPY_MODEL_f2472c5843dc4d0185036e0f62427019",
       "step": 0.1,
       "style": "IPY_MODEL_a4858b08dd81469eb5489e9dd1ce0301"
      }
     },
     "3e3eb9bc72064ce0af703cef90eb31d9": {
      "model_module": "@jupyter-widgets/controls",
      "model_module_version": "2.0.0",
      "model_name": "VBoxModel",
      "state": {
       "children": [
        "IPY_MODEL_293c6b0ffa514ec1b931db1e45f04219",
        "IPY_MODEL_321c5b6bddfe42e686d0b5e27aee6fff",
        "IPY_MODEL_e3ae00ecdef447449bb83246d2de40f8",
        "IPY_MODEL_b51a1881debf4b5cb4c92ee1e5529c26",
        "IPY_MODEL_349d3a78acc644b99d898077897551d9"
       ],
       "layout": "IPY_MODEL_ed35c044b5f2453c9b3e373533ae4489"
      }
     },
     "3e84043d87d04e89b50deacfb2094638": {
      "model_module": "@jupyter-widgets/controls",
      "model_module_version": "2.0.0",
      "model_name": "ButtonStyleModel",
      "state": {
       "font_family": null,
       "font_size": null,
       "font_style": null,
       "font_variant": null,
       "font_weight": null,
       "text_color": null,
       "text_decoration": null
      }
     },
     "3eb6dd181e65494f8c5d86367a2ccc5d": {
      "model_module": "@jupyter-widgets/base",
      "model_module_version": "2.0.0",
      "model_name": "LayoutModel",
      "state": {}
     },
     "3ed6a39c54874057a7c1cf27f6b07ecd": {
      "model_module": "@jupyter-widgets/controls",
      "model_module_version": "2.0.0",
      "model_name": "DescriptionStyleModel",
      "state": {
       "description_width": ""
      }
     },
     "3fd189f90b8a45bd809c9120c7ef8b77": {
      "model_module": "@jupyter-widgets/controls",
      "model_module_version": "2.0.0",
      "model_name": "ButtonModel",
      "state": {
       "description": "plot hist",
       "layout": "IPY_MODEL_ada27870ce954e6eaa4c96bac068d4bb",
       "style": "IPY_MODEL_fa8b43c4dc7c4a7b8614e5536f9e6caa",
       "tooltip": null
      }
     },
     "3fe3166179d041b19a9bdb6ebac8451a": {
      "model_module": "@jupyter-widgets/controls",
      "model_module_version": "2.0.0",
      "model_name": "ButtonModel",
      "state": {
       "description": "plot hist",
       "layout": "IPY_MODEL_84bda55ac1384e13be63318175054d8d",
       "style": "IPY_MODEL_e0b7d8e4c25e4f81ae66a2ff2a158eac",
       "tooltip": null
      }
     },
     "4044957e50a749ee9f0f8f778317fa4c": {
      "model_module": "@jupyter-widgets/controls",
      "model_module_version": "2.0.0",
      "model_name": "ButtonStyleModel",
      "state": {
       "font_family": null,
       "font_size": null,
       "font_style": null,
       "font_variant": null,
       "font_weight": null,
       "text_color": null,
       "text_decoration": null
      }
     },
     "4070d5772d6a408dbecdb77ece40ab0b": {
      "model_module": "@jupyter-widgets/controls",
      "model_module_version": "2.0.0",
      "model_name": "VBoxModel",
      "state": {
       "children": [
        "IPY_MODEL_278bc1b0eebd4f019ea432b81600369f"
       ],
       "layout": "IPY_MODEL_1637bc3d95c6486c975d69e9a1441e1a"
      }
     },
     "417dcc24f6144c9797ffd76cbe8a7863": {
      "model_module": "@jupyter-widgets/controls",
      "model_module_version": "2.0.0",
      "model_name": "HBoxModel",
      "state": {
       "children": [
        "IPY_MODEL_3e3eb9bc72064ce0af703cef90eb31d9"
       ],
       "layout": "IPY_MODEL_0f0cea852b5a4ff69b9821a6e2c83eb2"
      }
     },
     "41bd08cabda94442b4b417724b48e8dd": {
      "model_module": "@jupyter-widgets/base",
      "model_module_version": "2.0.0",
      "model_name": "LayoutModel",
      "state": {}
     },
     "42226269f24b4d9199192836066c4a7b": {
      "model_module": "@jupyter-widgets/controls",
      "model_module_version": "2.0.0",
      "model_name": "ButtonStyleModel",
      "state": {
       "font_family": null,
       "font_size": null,
       "font_style": null,
       "font_variant": null,
       "font_weight": null,
       "text_color": null,
       "text_decoration": null
      }
     },
     "425403134506493997eb583a1d97158b": {
      "model_module": "@jupyter-widgets/controls",
      "model_module_version": "2.0.0",
      "model_name": "HBoxModel",
      "state": {
       "children": [
        "IPY_MODEL_063e818f8680414fa376120b0b3a6479"
       ],
       "layout": "IPY_MODEL_41bd08cabda94442b4b417724b48e8dd"
      }
     },
     "42acc565f65f436eac22ceafe6eea053": {
      "model_module": "@jupyter-widgets/base",
      "model_module_version": "2.0.0",
      "model_name": "LayoutModel",
      "state": {}
     },
     "42e442f5855846b6aaa4c82afd698f76": {
      "model_module": "@jupyter-widgets/base",
      "model_module_version": "2.0.0",
      "model_name": "LayoutModel",
      "state": {}
     },
     "431dd7bda7ce4a54b98d002f4e45c7bc": {
      "model_module": "@jupyter-widgets/base",
      "model_module_version": "2.0.0",
      "model_name": "LayoutModel",
      "state": {}
     },
     "441ac8f49c564204961b503f6c15c31b": {
      "model_module": "@jupyter-widgets/controls",
      "model_module_version": "2.0.0",
      "model_name": "DescriptionStyleModel",
      "state": {
       "description_width": ""
      }
     },
     "445c2ec667c04052bc8f952b429aad87": {
      "model_module": "@jupyter-widgets/controls",
      "model_module_version": "2.0.0",
      "model_name": "VBoxModel",
      "state": {
       "children": [
        "IPY_MODEL_a1639d586aa940dab6a6332fc1114afd",
        "IPY_MODEL_b65c45289d40419a9d6cc6a990126ced",
        "IPY_MODEL_45e5c19a940a4494ab208ab49faa3d15"
       ],
       "layout": "IPY_MODEL_273430a15a654b798a2fa39809255880"
      }
     },
     "445f0f1ef2684938ab7d9bf23fef1427": {
      "model_module": "@jupyter-widgets/base",
      "model_module_version": "2.0.0",
      "model_name": "LayoutModel",
      "state": {}
     },
     "450efa0f576d4c39b252f9d733f26122": {
      "model_module": "@jupyter-widgets/controls",
      "model_module_version": "2.0.0",
      "model_name": "DropdownModel",
      "state": {
       "_options_labels": [
        "1",
        "2",
        "3",
        "4",
        "5",
        "6"
       ],
       "description": "charge:",
       "index": 2,
       "layout": "IPY_MODEL_7565af73450c4851a8fa1064671b8752",
       "style": "IPY_MODEL_f0b67204a82c4fa49783a9e0c9e999e8"
      }
     },
     "4577c330eba84f9582afee892570f028": {
      "model_module": "@jupyter-widgets/controls",
      "model_module_version": "2.0.0",
      "model_name": "DescriptionStyleModel",
      "state": {
       "description_width": ""
      }
     },
     "45936e24240748f884dce18fb05bddaf": {
      "model_module": "@jupyter-widgets/controls",
      "model_module_version": "2.0.0",
      "model_name": "DescriptionStyleModel",
      "state": {
       "description_width": ""
      }
     },
     "45bee3ebd5314a9f8024c5bec410893d": {
      "model_module": "@jupyter-widgets/controls",
      "model_module_version": "2.0.0",
      "model_name": "DescriptionStyleModel",
      "state": {
       "description_width": ""
      }
     },
     "45e5c19a940a4494ab208ab49faa3d15": {
      "model_module": "@jupyter-widgets/controls",
      "model_module_version": "2.0.0",
      "model_name": "ButtonModel",
      "state": {
       "description": "manual formula",
       "layout": "IPY_MODEL_b066c821f82242e1804dcdf8793ad26d",
       "style": "IPY_MODEL_8523fe099b91434bb5dbe94054293bd1",
       "tooltip": null
      }
     },
     "460d5aa1d2a74b17ac6f992237956ce6": {
      "model_module": "@jupyter-widgets/base",
      "model_module_version": "2.0.0",
      "model_name": "LayoutModel",
      "state": {}
     },
     "46320475b0804a0d968f65d9c1734472": {
      "model_module": "@jupyter-widgets/controls",
      "model_module_version": "2.0.0",
      "model_name": "ButtonStyleModel",
      "state": {
       "font_family": null,
       "font_size": null,
       "font_style": null,
       "font_variant": null,
       "font_weight": null,
       "text_color": null,
       "text_decoration": null
      }
     },
     "469009e32cb64c51bd314cfbb602a523": {
      "model_module": "@jupyter-widgets/output",
      "model_module_version": "1.0.0",
      "model_name": "OutputModel",
      "state": {
       "layout": "IPY_MODEL_db87873aaab9413fb2cf88b7bb699405"
      }
     },
     "470c79d513b740f3bb231cd94de87f32": {
      "model_module": "@jupyter-widgets/controls",
      "model_module_version": "2.0.0",
      "model_name": "ButtonStyleModel",
      "state": {
       "font_family": null,
       "font_size": null,
       "font_style": null,
       "font_variant": null,
       "font_weight": null,
       "text_color": null,
       "text_decoration": null
      }
     },
     "4728fd979f534c829a9d6a88fe518c2c": {
      "model_module": "@jupyter-widgets/controls",
      "model_module_version": "2.0.0",
      "model_name": "ButtonModel",
      "state": {
       "description": "start",
       "layout": "IPY_MODEL_ae4a618244524296b0d6c2b4f39ba0fd",
       "style": "IPY_MODEL_ab2fcc10d34643848b7c6d59b22d11eb",
       "tooltip": null
      }
     },
     "472c6b931fe5439ebf6ee677693078a2": {
      "model_module": "@jupyter-widgets/base",
      "model_module_version": "2.0.0",
      "model_name": "LayoutModel",
      "state": {}
     },
     "4734e60dc2e747faa442289c2f818c6a": {
      "model_module": "@jupyter-widgets/controls",
      "model_module_version": "2.0.0",
      "model_name": "TabModel",
      "state": {
       "children": [
        "IPY_MODEL_339055f87fb7460b8c1580599ea869cf",
        "IPY_MODEL_4b28deb80e98445bbc01dbc22718d8ea"
       ],
       "layout": "IPY_MODEL_170843aee46e45bcba10e79ee0f84b4e",
       "selected_index": 0,
       "titles": [
        "peak finder",
        "rangging"
       ]
      }
     },
     "477d3be4b24a4c268c6cfaecfbae408f": {
      "model_module": "@jupyter-widgets/controls",
      "model_module_version": "2.0.0",
      "model_name": "DescriptionStyleModel",
      "state": {
       "description_width": ""
      }
     },
     "47cc56ab4d6d46c8b5192580601328c3": {
      "model_module": "@jupyter-widgets/base",
      "model_module_version": "2.0.0",
      "model_name": "LayoutModel",
      "state": {}
     },
     "482859f328bd48d8b0af850208373e65": {
      "model_module": "@jupyter-widgets/controls",
      "model_module_version": "2.0.0",
      "model_name": "HBoxModel",
      "state": {
       "children": [
        "IPY_MODEL_92420ab9ce614ae4b9d9e10d59c1afb6",
        "IPY_MODEL_ef05ce65f2184e8b8ef590e3bef0d98e",
        "IPY_MODEL_be9bade0435e4e3f9c023956b4e79c78"
       ],
       "layout": "IPY_MODEL_4b383dc9e1d44d4d9ac0959c0c1094cd"
      }
     },
     "482d677652af4582b7d2bb7ac51c280a": {
      "model_module": "@jupyter-widgets/controls",
      "model_module_version": "2.0.0",
      "model_name": "IntTextModel",
      "state": {
       "description": "index row:",
       "layout": "IPY_MODEL_42e442f5855846b6aaa4c82afd698f76",
       "step": 1,
       "style": "IPY_MODEL_a9d8aaf11ff443bc9dbcd0882dab5674"
      }
     },
     "484828c512a840378bab658a1183cccc": {
      "model_module": "@jupyter-widgets/base",
      "model_module_version": "2.0.0",
      "model_name": "LayoutModel",
      "state": {}
     },
     "484a7f6b8cdd4eddab411a00366278e6": {
      "model_module": "@jupyter-widgets/controls",
      "model_module_version": "2.0.0",
      "model_name": "TextModel",
      "state": {
       "description": "Elements:",
       "layout": "IPY_MODEL_58e640ed94f242fd8ad7e93c838b8443",
       "placeholder": "H, O",
       "style": "IPY_MODEL_e15a993814db43538b58efe260a63707"
      }
     },
     "496ccc89b49742eab220cbe8760fed78": {
      "model_module": "@jupyter-widgets/controls",
      "model_module_version": "2.0.0",
      "model_name": "TextStyleModel",
      "state": {
       "description_width": "",
       "font_size": null,
       "text_color": null
      }
     },
     "49b7e1023cd94ba7a440a3aed23745c4": {
      "model_module": "@jupyter-widgets/controls",
      "model_module_version": "2.0.0",
      "model_name": "FloatTextModel",
      "state": {
       "description": "mass range:",
       "layout": "IPY_MODEL_5825d5ab939a401cb079a3bc656b4424",
       "step": null,
       "style": "IPY_MODEL_ebc07b614f934111bbf36bdfad9627ae",
       "value": 2
      }
     },
     "4ad437fd9e0246e6848ae26f25b1caae": {
      "model_module": "@jupyter-widgets/controls",
      "model_module_version": "2.0.0",
      "model_name": "TabModel",
      "state": {
       "children": [
        "IPY_MODEL_0d4e17e0f8d343aba2aecad16b6defec",
        "IPY_MODEL_4f6853cbedfb4ea6856012c422a8913f"
       ],
       "layout": "IPY_MODEL_22d262262a6b4cbdb937ef73b3489e73",
       "selected_index": 0,
       "titles": [
        "peak finder",
        "rangging"
       ]
      }
     },
     "4b211155006d43e8b22c84ebfa903789": {
      "model_module": "@jupyter-widgets/base",
      "model_module_version": "2.0.0",
      "model_name": "LayoutModel",
      "state": {}
     },
     "4b28deb80e98445bbc01dbc22718d8ea": {
      "model_module": "@jupyter-widgets/controls",
      "model_module_version": "2.0.0",
      "model_name": "VBoxModel",
      "state": {
       "children": [
        "IPY_MODEL_e7621118ba9840d1aab24b93b09c4458",
        "IPY_MODEL_4cfc9fdded2a40be87b6668c3d1d136d",
        "IPY_MODEL_1a8281ae5a08437fa348c624cf213915",
        "IPY_MODEL_52327b6f50aa4376945c3d91659bddd2",
        "IPY_MODEL_1b956ba6c6414338bb01fe481a912ccb",
        "IPY_MODEL_89668e4b1dc545c8acf21a2d11636cf6",
        "IPY_MODEL_425403134506493997eb583a1d97158b"
       ],
       "layout": "IPY_MODEL_598db32ca7af4b62a4dc84cedddd406f"
      }
     },
     "4b30cce138334d79839c22d3cd84f9de": {
      "model_module": "@jupyter-widgets/controls",
      "model_module_version": "2.0.0",
      "model_name": "ButtonStyleModel",
      "state": {
       "font_family": null,
       "font_size": null,
       "font_style": null,
       "font_variant": null,
       "font_weight": null,
       "text_color": null,
       "text_decoration": null
      }
     },
     "4b383dc9e1d44d4d9ac0959c0c1094cd": {
      "model_module": "@jupyter-widgets/base",
      "model_module_version": "2.0.0",
      "model_name": "LayoutModel",
      "state": {}
     },
     "4c19a24122ac4feebed83eb110ff4942": {
      "model_module": "@jupyter-widgets/base",
      "model_module_version": "2.0.0",
      "model_name": "LayoutModel",
      "state": {}
     },
     "4c462746dc0849658e04358026920034": {
      "model_module": "@jupyter-widgets/base",
      "model_module_version": "2.0.0",
      "model_name": "LayoutModel",
      "state": {}
     },
     "4cf535a491b14ada8a9f25bacecce16d": {
      "model_module": "@jupyter-widgets/controls",
      "model_module_version": "2.0.0",
      "model_name": "ButtonStyleModel",
      "state": {
       "font_family": null,
       "font_size": null,
       "font_style": null,
       "font_variant": null,
       "font_weight": null,
       "text_color": null,
       "text_decoration": null
      }
     },
     "4cfc9fdded2a40be87b6668c3d1d136d": {
      "model_module": "@jupyter-widgets/controls",
      "model_module_version": "2.0.0",
      "model_name": "IntTextModel",
      "state": {
       "description": "fig index:",
       "layout": "IPY_MODEL_4d6e4f0d6d4542c6bef814dddf06a9c9",
       "step": 1,
       "style": "IPY_MODEL_f0b49e80deba499591bedde5fa005f33",
       "value": 1
      }
     },
     "4d6e4f0d6d4542c6bef814dddf06a9c9": {
      "model_module": "@jupyter-widgets/base",
      "model_module_version": "2.0.0",
      "model_name": "LayoutModel",
      "state": {}
     },
     "4db72e00e86844b4a3757ee096a556d7": {
      "model_module": "@jupyter-widgets/controls",
      "model_module_version": "2.0.0",
      "model_name": "ButtonModel",
      "state": {
       "description": "reset zoom",
       "layout": "IPY_MODEL_146f586148714ef2b5ddf5078cc67a64",
       "style": "IPY_MODEL_a8036d9ebc35441f9e4183e21d126003",
       "tooltip": null
      }
     },
     "4dc4887f9022464981a76a5fc86a6254": {
      "model_module": "@jupyter-widgets/controls",
      "model_module_version": "2.0.0",
      "model_name": "ButtonStyleModel",
      "state": {
       "font_family": null,
       "font_size": null,
       "font_style": null,
       "font_variant": null,
       "font_weight": null,
       "text_color": null,
       "text_decoration": null
      }
     },
     "4dd8a7ac161d4b47bb5a4822f85a2e92": {
      "model_module": "@jupyter-widgets/controls",
      "model_module_version": "2.0.0",
      "model_name": "ButtonModel",
      "state": {
       "description": "plot hist",
       "layout": "IPY_MODEL_d8dd81d50daf4971a6a25656955fabb0",
       "style": "IPY_MODEL_8b95854f827a41429b0e269a85b8987c",
       "tooltip": null
      }
     },
     "4df9692171e14982b9a64f8af7613b7e": {
      "model_module": "@jupyter-widgets/controls",
      "model_module_version": "2.0.0",
      "model_name": "ButtonModel",
      "state": {
       "description": "plot element",
       "layout": "IPY_MODEL_dc0786ef274d492790d072ad41c8e128",
       "style": "IPY_MODEL_909d0c5902584541acb891c5da35a98b",
       "tooltip": null
      }
     },
     "4e6122d39f9e4a03a8d5e8bd320ca533": {
      "model_module": "@jupyter-widgets/controls",
      "model_module_version": "2.0.0",
      "model_name": "HBoxModel",
      "state": {
       "children": [
        "IPY_MODEL_9d90efe7eff44ba893816f7849be5eb5"
       ],
       "layout": "IPY_MODEL_0e72e683a33040e88650049d5660e6eb"
      }
     },
     "4e97035741d64f02b6d61b74ca6c5e89": {
      "model_module": "@jupyter-widgets/controls",
      "model_module_version": "2.0.0",
      "model_name": "ButtonModel",
      "state": {
       "description": "add ion",
       "layout": "IPY_MODEL_fc9f2bd40277470682bd7bb4b6707bb6",
       "style": "IPY_MODEL_bc76896a17ff4ce29b107200d3a05cc5",
       "tooltip": null
      }
     },
     "4eaa9cc82ee74736bbdd6d81999a7758": {
      "model_module": "@jupyter-widgets/base",
      "model_module_version": "2.0.0",
      "model_name": "LayoutModel",
      "state": {}
     },
     "4eb4103c31724919ba3ef981728bad47": {
      "model_module": "@jupyter-widgets/controls",
      "model_module_version": "2.0.0",
      "model_name": "ButtonStyleModel",
      "state": {
       "font_family": null,
       "font_size": null,
       "font_style": null,
       "font_variant": null,
       "font_weight": null,
       "text_color": null,
       "text_decoration": null
      }
     },
     "4eb500a9928343beb1f49bdfa6ac3338": {
      "model_module": "@jupyter-widgets/controls",
      "model_module_version": "2.0.0",
      "model_name": "FloatTextModel",
      "state": {
       "description": "mass range:",
       "layout": "IPY_MODEL_47cc56ab4d6d46c8b5192580601328c3",
       "step": null,
       "style": "IPY_MODEL_b0972baa316f4fbcb35f6cc644720c6a",
       "value": 2
      }
     },
     "4f53cb569fd8486a967eba8b42d797fe": {
      "model_module": "@jupyter-widgets/controls",
      "model_module_version": "2.0.0",
      "model_name": "VBoxModel",
      "state": {
       "children": [
        "IPY_MODEL_a1639d586aa940dab6a6332fc1114afd",
        "IPY_MODEL_b65c45289d40419a9d6cc6a990126ced",
        "IPY_MODEL_0a0a5c0e78ab48a68dee11bcd00dcb77"
       ],
       "layout": "IPY_MODEL_39e77bbf30544ff7aa0164451989bcf1"
      }
     },
     "4f6853cbedfb4ea6856012c422a8913f": {
      "model_module": "@jupyter-widgets/controls",
      "model_module_version": "2.0.0",
      "model_name": "VBoxModel",
      "state": {
       "children": [
        "IPY_MODEL_e7621118ba9840d1aab24b93b09c4458",
        "IPY_MODEL_4cfc9fdded2a40be87b6668c3d1d136d",
        "IPY_MODEL_1a8281ae5a08437fa348c624cf213915",
        "IPY_MODEL_52327b6f50aa4376945c3d91659bddd2",
        "IPY_MODEL_1b956ba6c6414338bb01fe481a912ccb",
        "IPY_MODEL_89668e4b1dc545c8acf21a2d11636cf6",
        "IPY_MODEL_3028513c8b0b4f148d55b7a7ef4bf7d5"
       ],
       "layout": "IPY_MODEL_97580b25607e447fa73e5579db84c714"
      }
     },
     "4f882116aade4d5aacf4000127fe5484": {
      "model_module": "@jupyter-widgets/controls",
      "model_module_version": "2.0.0",
      "model_name": "ButtonModel",
      "state": {
       "description": "add ion",
       "layout": "IPY_MODEL_651dd528a68241238be16358a0917ebc",
       "style": "IPY_MODEL_1314458b13df4301b4194f348ad15e5e",
       "tooltip": null
      }
     },
     "4f9c51d3b7104df5ba76967a07d981fc": {
      "model_module": "@jupyter-widgets/controls",
      "model_module_version": "2.0.0",
      "model_name": "ButtonStyleModel",
      "state": {
       "font_family": null,
       "font_size": null,
       "font_style": null,
       "font_variant": null,
       "font_weight": null,
       "text_color": null,
       "text_decoration": null
      }
     },
     "50a9b0ea582040fab32b78bfe75ac3be": {
      "model_module": "@jupyter-widgets/controls",
      "model_module_version": "2.0.0",
      "model_name": "DropdownModel",
      "state": {
       "_options_labels": [
        "1",
        "2",
        "3",
        "4",
        "5",
        "6"
       ],
       "description": "complexity:",
       "index": 2,
       "layout": "IPY_MODEL_9bcb9eb3669b451ea18afc40a348039b",
       "style": "IPY_MODEL_ce623d2e968a4fefa144d45c37701353"
      }
     },
     "50f1b8cee16f4b5795856d50af74a9de": {
      "model_module": "@jupyter-widgets/controls",
      "model_module_version": "2.0.0",
      "model_name": "ButtonStyleModel",
      "state": {
       "font_family": null,
       "font_size": null,
       "font_style": null,
       "font_variant": null,
       "font_weight": null,
       "text_color": null,
       "text_decoration": null
      }
     },
     "51b58696f4f04728b7b2d6ad5cdde9d4": {
      "model_module": "@jupyter-widgets/controls",
      "model_module_version": "2.0.0",
      "model_name": "HBoxModel",
      "state": {
       "children": [
        "IPY_MODEL_393054a19dc043a69932b7d7c6e8e0c2",
        "IPY_MODEL_6c9a3fabe3bc4223a17ce19c6fa02652"
       ],
       "layout": "IPY_MODEL_65993b9dac6443459f7611002fad5536"
      }
     },
     "5229323c6814427ea5d8f498ec15afe4": {
      "model_module": "@jupyter-widgets/controls",
      "model_module_version": "2.0.0",
      "model_name": "ButtonModel",
      "state": {
       "description": "find element",
       "layout": "IPY_MODEL_ceec38f146db439fb9e4fd723f93c0d7",
       "style": "IPY_MODEL_aa4d36c2ba334ab5bc2386922d17b579",
       "tooltip": null
      }
     },
     "52327b6f50aa4376945c3d91659bddd2": {
      "model_module": "@jupyter-widgets/controls",
      "model_module_version": "2.0.0",
      "model_name": "IntTextModel",
      "state": {
       "description": "peak distance:",
       "layout": "IPY_MODEL_da98623c65cf40cfb988a1c57c19529f",
       "step": 1,
       "style": "IPY_MODEL_d7a4f22dbd574f71841301ecf3921d99",
       "value": 1
      }
     },
     "527c40824c5944ba8f59a6b64a70ceb5": {
      "model_module": "@jupyter-widgets/base",
      "model_module_version": "2.0.0",
      "model_name": "LayoutModel",
      "state": {}
     },
     "5298867e7f154efcacdc2d80d266653a": {
      "model_module": "@jupyter-widgets/controls",
      "model_module_version": "2.0.0",
      "model_name": "DescriptionStyleModel",
      "state": {
       "description_width": ""
      }
     },
     "5372a9aca09a49bcb012f1e792a8b296": {
      "model_module": "@jupyter-widgets/controls",
      "model_module_version": "2.0.0",
      "model_name": "ButtonStyleModel",
      "state": {
       "font_family": null,
       "font_size": null,
       "font_style": null,
       "font_variant": null,
       "font_weight": null,
       "text_color": null,
       "text_decoration": null
      }
     },
     "53bdf82da3164eab9b6656ea725a73e7": {
      "model_module": "@jupyter-widgets/controls",
      "model_module_version": "2.0.0",
      "model_name": "VBoxModel",
      "state": {
       "children": [
        "IPY_MODEL_999305f00c484541a3d9ff3c056be9ae",
        "IPY_MODEL_ac3ed4fcdcc742b7a13d95705c525c49"
       ],
       "layout": "IPY_MODEL_4c462746dc0849658e04358026920034"
      }
     },
     "53ec60e63ad84bc7ba7ce4d80d3bae85": {
      "model_module": "@jupyter-widgets/controls",
      "model_module_version": "2.0.0",
      "model_name": "VBoxModel",
      "state": {
       "children": [
        "IPY_MODEL_2b37445e401a44ddb9278b49736d6f00",
        "IPY_MODEL_450efa0f576d4c39b252f9d733f26122",
        "IPY_MODEL_eb1b42a180b44e54983dd032977e3d1d"
       ],
       "layout": "IPY_MODEL_6afb75f14bab49f7a7b204ef54cdc9ac"
      }
     },
     "553ea7239fed40f2a0425b365cace040": {
      "model_module": "@jupyter-widgets/controls",
      "model_module_version": "2.0.0",
      "model_name": "DescriptionStyleModel",
      "state": {
       "description_width": ""
      }
     },
     "557bb8519c324a6590e1db113137c9a3": {
      "model_module": "@jupyter-widgets/controls",
      "model_module_version": "2.0.0",
      "model_name": "ButtonStyleModel",
      "state": {
       "font_family": null,
       "font_size": null,
       "font_style": null,
       "font_variant": null,
       "font_weight": null,
       "text_color": null,
       "text_decoration": null
      }
     },
     "55a0a3fde14c41a6840b70f26c18b617": {
      "model_module": "@jupyter-widgets/controls",
      "model_module_version": "2.0.0",
      "model_name": "TextStyleModel",
      "state": {
       "description_width": "",
       "font_size": null,
       "text_color": null
      }
     },
     "56abcd1233c944bf8abea29ccd6157b3": {
      "model_module": "@jupyter-widgets/controls",
      "model_module_version": "2.0.0",
      "model_name": "ButtonModel",
      "state": {
       "description": "plot hist",
       "layout": "IPY_MODEL_adacac4f35284646a289f4a624132c8f",
       "style": "IPY_MODEL_21e62b053aa64f3b8890f4ccd23db855",
       "tooltip": null
      }
     },
     "56e34bc4adc249eea99daa9166d91568": {
      "model_module": "@jupyter-widgets/controls",
      "model_module_version": "2.0.0",
      "model_name": "ButtonModel",
      "state": {
       "description": "reset zoom",
       "layout": "IPY_MODEL_21fcc1d7e49845c59ec2b9072b58edc1",
       "style": "IPY_MODEL_e45c545b484b46efbce02813c7a69c0f",
       "tooltip": null
      }
     },
     "5825d5ab939a401cb079a3bc656b4424": {
      "model_module": "@jupyter-widgets/base",
      "model_module_version": "2.0.0",
      "model_name": "LayoutModel",
      "state": {}
     },
     "583365d762804c7ca1c2e5996c8275ef": {
      "model_module": "@jupyter-widgets/base",
      "model_module_version": "2.0.0",
      "model_name": "LayoutModel",
      "state": {}
     },
     "58e640ed94f242fd8ad7e93c838b8443": {
      "model_module": "@jupyter-widgets/base",
      "model_module_version": "2.0.0",
      "model_name": "LayoutModel",
      "state": {}
     },
     "598200ef5f7e452caeab118e6ff3c34a": {
      "model_module": "@jupyter-widgets/controls",
      "model_module_version": "2.0.0",
      "model_name": "FloatTextModel",
      "state": {
       "description": "threshold aboundance:",
       "layout": "IPY_MODEL_5afb9bdbc5bf47fcb99f04296959d23a",
       "step": 0.1,
       "style": "IPY_MODEL_fde9192d444d4a1688c30320ccc74181"
      }
     },
     "598db32ca7af4b62a4dc84cedddd406f": {
      "model_module": "@jupyter-widgets/base",
      "model_module_version": "2.0.0",
      "model_name": "LayoutModel",
      "state": {}
     },
     "5a3abb430ed044fb8b38fc5d57951474": {
      "model_module": "@jupyter-widgets/controls",
      "model_module_version": "2.0.0",
      "model_name": "ButtonStyleModel",
      "state": {
       "font_family": null,
       "font_size": null,
       "font_style": null,
       "font_variant": null,
       "font_weight": null,
       "text_color": null,
       "text_decoration": null
      }
     },
     "5ad7982bb11d409d80e5a145a1f8b2bc": {
      "model_module": "@jupyter-widgets/base",
      "model_module_version": "2.0.0",
      "model_name": "LayoutModel",
      "state": {}
     },
     "5afb9bdbc5bf47fcb99f04296959d23a": {
      "model_module": "@jupyter-widgets/base",
      "model_module_version": "2.0.0",
      "model_name": "LayoutModel",
      "state": {}
     },
     "5b10d7aed82c4f3480a109990da5094a": {
      "model_module": "@jupyter-widgets/controls",
      "model_module_version": "2.0.0",
      "model_name": "VBoxModel",
      "state": {
       "children": [
        "IPY_MODEL_e7621118ba9840d1aab24b93b09c4458",
        "IPY_MODEL_4cfc9fdded2a40be87b6668c3d1d136d",
        "IPY_MODEL_1a8281ae5a08437fa348c624cf213915",
        "IPY_MODEL_52327b6f50aa4376945c3d91659bddd2",
        "IPY_MODEL_1b956ba6c6414338bb01fe481a912ccb",
        "IPY_MODEL_89668e4b1dc545c8acf21a2d11636cf6",
        "IPY_MODEL_aa4e1b3d4ef3463593cd485e20a0119c"
       ],
       "layout": "IPY_MODEL_c6c78a3e91ed4a85a86f0871c90ed02c"
      }
     },
     "5b3288b2aead44b3b3dc4725025673e0": {
      "model_module": "@jupyter-widgets/controls",
      "model_module_version": "2.0.0",
      "model_name": "ButtonStyleModel",
      "state": {
       "font_family": null,
       "font_size": null,
       "font_style": null,
       "font_variant": null,
       "font_weight": null,
       "text_color": null,
       "text_decoration": null
      }
     },
     "5d150a0333414b3bb64302681b631ed4": {
      "model_module": "@jupyter-widgets/controls",
      "model_module_version": "2.0.0",
      "model_name": "ButtonModel",
      "state": {
       "description": "plot hist",
       "layout": "IPY_MODEL_f6f80ad1c2f74f32a9fa6cde82667968",
       "style": "IPY_MODEL_aab09129787b40c8bbe6655f888a58a0",
       "tooltip": null
      }
     },
     "5d430125ebcf46a3883d74f9ce0f424b": {
      "model_module": "@jupyter-widgets/base",
      "model_module_version": "2.0.0",
      "model_name": "LayoutModel",
      "state": {}
     },
     "5d570a5997904128b088ca21b066716c": {
      "model_module": "@jupyter-widgets/output",
      "model_module_version": "1.0.0",
      "model_name": "OutputModel",
      "state": {
       "layout": "IPY_MODEL_84cfca3ed0834065a0cd26262384324c",
       "outputs": [
        {
         "data": {
          "text/html": "<div>\n<style scoped>\n    .dataframe tbody tr th:only-of-type {\n        vertical-align: middle;\n    }\n\n    .dataframe tbody tr th {\n        vertical-align: top;\n    }\n\n    .dataframe thead th {\n        text-align: right;\n    }\n</style>\n<table border=\"1\" class=\"dataframe\">\n  <thead>\n    <tr style=\"text-align: right;\">\n      <th></th>\n      <th>ion</th>\n      <th>mass</th>\n      <th>mc</th>\n      <th>mc_low</th>\n      <th>mc_up</th>\n      <th>color</th>\n      <th>element</th>\n      <th>complex</th>\n      <th>isotope</th>\n      <th>charge</th>\n    </tr>\n  </thead>\n  <tbody>\n    <tr>\n      <th>0</th>\n      <td>unranged</td>\n      <td>0.0</td>\n      <td>0.0</td>\n      <td>0.0</td>\n      <td>400.0</td>\n      <td>#000000</td>\n      <td>unranged</td>\n      <td>0</td>\n      <td>0</td>\n      <td>0</td>\n    </tr>\n  </tbody>\n</table>\n</div>",
          "text/plain": "        ion  mass   mc  mc_low  mc_up    color   element complex isotope  \\\n0  unranged   0.0  0.0     0.0  400.0  #000000  unranged       0       0   \n\n   charge  \n0       0  "
         },
         "metadata": {},
         "output_type": "display_data"
        },
        {
         "data": {
          "text/html": "<div>\n<style scoped>\n    .dataframe tbody tr th:only-of-type {\n        vertical-align: middle;\n    }\n\n    .dataframe tbody tr th {\n        vertical-align: top;\n    }\n\n    .dataframe thead th {\n        text-align: right;\n    }\n</style>\n<table border=\"1\" class=\"dataframe\">\n  <thead>\n    <tr style=\"text-align: right;\">\n      <th></th>\n      <th>ion</th>\n      <th>mass</th>\n      <th>mc</th>\n      <th>mc_low</th>\n      <th>mc_up</th>\n      <th>color</th>\n      <th>element</th>\n      <th>complex</th>\n      <th>isotope</th>\n      <th>charge</th>\n    </tr>\n  </thead>\n  <tbody>\n    <tr>\n      <th>0</th>\n      <td>unranged</td>\n      <td>0.0</td>\n      <td>0.0</td>\n      <td>0.0</td>\n      <td>400.0</td>\n      <td>#000000</td>\n      <td>unranged</td>\n      <td>0</td>\n      <td>0</td>\n      <td>0</td>\n    </tr>\n  </tbody>\n</table>\n</div>",
          "text/plain": "        ion  mass   mc  mc_low  mc_up    color   element complex isotope  \\\n0  unranged   0.0  0.0     0.0  400.0  #000000  unranged       0       0   \n\n   charge  \n0       0  "
         },
         "metadata": {},
         "output_type": "display_data"
        }
       ]
      }
     },
     "5de31598e1564de3b7075497da0f0ed8": {
      "model_module": "@jupyter-widgets/controls",
      "model_module_version": "2.0.0",
      "model_name": "HBoxModel",
      "state": {
       "children": [
        "IPY_MODEL_e360787dc01b489a877218497598f927",
        "IPY_MODEL_5e12113fa6ae4444856efb5d4357523a"
       ],
       "layout": "IPY_MODEL_8d0ff02078cf49bb8ce536ea3fa52aeb"
      }
     },
     "5e12113fa6ae4444856efb5d4357523a": {
      "model_module": "@jupyter-widgets/output",
      "model_module_version": "1.0.0",
      "model_name": "OutputModel",
      "state": {
       "layout": "IPY_MODEL_d2e5c15f4d1f41af8be0a6e859a60bad",
       "outputs": [
        {
         "data": {
          "text/html": "<div>\n<style scoped>\n    .dataframe tbody tr th:only-of-type {\n        vertical-align: middle;\n    }\n\n    .dataframe tbody tr th {\n        vertical-align: top;\n    }\n\n    .dataframe thead th {\n        text-align: right;\n    }\n</style>\n<table border=\"1\" class=\"dataframe\">\n  <thead>\n    <tr style=\"text-align: right;\">\n      <th></th>\n      <th>ion</th>\n      <th>mass</th>\n      <th>mc</th>\n      <th>mc_low</th>\n      <th>mc_up</th>\n      <th>color</th>\n      <th>element</th>\n      <th>complex</th>\n      <th>isotope</th>\n      <th>charge</th>\n    </tr>\n  </thead>\n  <tbody>\n    <tr>\n      <th>0</th>\n      <td>unranged</td>\n      <td>0.0</td>\n      <td>0.0</td>\n      <td>0.0</td>\n      <td>400.0</td>\n      <td>#000000</td>\n      <td>unranged</td>\n      <td>0</td>\n      <td>0</td>\n      <td>0</td>\n    </tr>\n  </tbody>\n</table>\n</div>",
          "text/plain": "        ion  mass   mc  mc_low  mc_up    color   element complex isotope  \\\n0  unranged   0.0  0.0     0.0  400.0  #000000  unranged       0       0   \n\n   charge  \n0       0  "
         },
         "metadata": {},
         "output_type": "display_data"
        }
       ]
      }
     },
     "5ecc95d4a9194a6ba32c1261bbc636ea": {
      "model_module": "@jupyter-widgets/base",
      "model_module_version": "2.0.0",
      "model_name": "LayoutModel",
      "state": {}
     },
     "5ee8aa7ddd804a589ebd1aa5bb42a4a5": {
      "model_module": "@jupyter-widgets/base",
      "model_module_version": "2.0.0",
      "model_name": "LayoutModel",
      "state": {}
     },
     "5f231c9974eb49d3b0069d9e54412f22": {
      "model_module": "@jupyter-widgets/base",
      "model_module_version": "2.0.0",
      "model_name": "LayoutModel",
      "state": {}
     },
     "5f23dad66be24b48afc35401910b882b": {
      "model_module": "@jupyter-widgets/controls",
      "model_module_version": "2.0.0",
      "model_name": "DescriptionStyleModel",
      "state": {
       "description_width": ""
      }
     },
     "5f23e977adbd4801b5b5c3ddbd51b54b": {
      "model_module": "@jupyter-widgets/base",
      "model_module_version": "2.0.0",
      "model_name": "LayoutModel",
      "state": {}
     },
     "5f73240ed5a24c3a9bf9985afe6953af": {
      "model_module": "@jupyter-widgets/base",
      "model_module_version": "2.0.0",
      "model_name": "LayoutModel",
      "state": {}
     },
     "5f999f25acd8490ebfe30e2c99a6ec10": {
      "model_module": "@jupyter-widgets/controls",
      "model_module_version": "2.0.0",
      "model_name": "ButtonStyleModel",
      "state": {
       "font_family": null,
       "font_size": null,
       "font_style": null,
       "font_variant": null,
       "font_weight": null,
       "text_color": null,
       "text_decoration": null
      }
     },
     "608cc95d2a174e04b189977558d5ff25": {
      "model_module": "@jupyter-widgets/controls",
      "model_module_version": "2.0.0",
      "model_name": "ButtonStyleModel",
      "state": {
       "font_family": null,
       "font_size": null,
       "font_style": null,
       "font_variant": null,
       "font_weight": null,
       "text_color": null,
       "text_decoration": null
      }
     },
     "609f0ece6e924a9ebeab3dd29f1a4958": {
      "model_module": "@jupyter-widgets/controls",
      "model_module_version": "2.0.0",
      "model_name": "DescriptionStyleModel",
      "state": {
       "description_width": ""
      }
     },
     "621852b4071741c680492d7463fef04f": {
      "model_module": "@jupyter-widgets/controls",
      "model_module_version": "2.0.0",
      "model_name": "ButtonStyleModel",
      "state": {
       "font_family": null,
       "font_size": null,
       "font_style": null,
       "font_variant": null,
       "font_weight": null,
       "text_color": null,
       "text_decoration": null
      }
     },
     "6234ee48d569435f88396110d2dfc725": {
      "model_module": "@jupyter-widgets/controls",
      "model_module_version": "2.0.0",
      "model_name": "ButtonStyleModel",
      "state": {
       "font_family": null,
       "font_size": null,
       "font_style": null,
       "font_variant": null,
       "font_weight": null,
       "text_color": null,
       "text_decoration": null
      }
     },
     "62c3c6b2c09048a98f8c28b007fc8818": {
      "model_module": "@jupyter-widgets/controls",
      "model_module_version": "2.0.0",
      "model_name": "ButtonModel",
      "state": {
       "description": "find element",
       "layout": "IPY_MODEL_398c6775bcd94e6f9765fc6e449a1b9c",
       "style": "IPY_MODEL_11ba51ccf9b946be9becba07b236fdd7",
       "tooltip": null
      }
     },
     "62d28f6f58fd4c628b09b91254561834": {
      "model_module": "@jupyter-widgets/base",
      "model_module_version": "2.0.0",
      "model_name": "LayoutModel",
      "state": {}
     },
     "637468e78bb4422f96eb509836c26cff": {
      "model_module": "@jupyter-widgets/controls",
      "model_module_version": "2.0.0",
      "model_name": "ButtonModel",
      "state": {
       "description": "change color",
       "layout": "IPY_MODEL_bbbc8d6fc4364bdabe24fa7c2f3e607c",
       "style": "IPY_MODEL_0ba43ee050454e43920332939e837086",
       "tooltip": null
      }
     },
     "63f4e74f0eb04b048ba427b3aec85881": {
      "model_module": "@jupyter-widgets/base",
      "model_module_version": "2.0.0",
      "model_name": "LayoutModel",
      "state": {}
     },
     "64b1780960aa435583c38500ea927c8d": {
      "model_module": "@jupyter-widgets/controls",
      "model_module_version": "2.0.0",
      "model_name": "DescriptionStyleModel",
      "state": {
       "description_width": ""
      }
     },
     "6514d66725a345938871694122308f59": {
      "model_module": "@jupyter-widgets/controls",
      "model_module_version": "2.0.0",
      "model_name": "ButtonModel",
      "state": {
       "description": "start",
       "layout": "IPY_MODEL_f0e0690b61b54e27902a2c102b3dc3de",
       "style": "IPY_MODEL_608cc95d2a174e04b189977558d5ff25",
       "tooltip": null
      }
     },
     "651dd528a68241238be16358a0917ebc": {
      "model_module": "@jupyter-widgets/base",
      "model_module_version": "2.0.0",
      "model_name": "LayoutModel",
      "state": {}
     },
     "65993b9dac6443459f7611002fad5536": {
      "model_module": "@jupyter-widgets/base",
      "model_module_version": "2.0.0",
      "model_name": "LayoutModel",
      "state": {}
     },
     "65b72a935064409f99317af8524a5ac0": {
      "model_module": "@jupyter-widgets/base",
      "model_module_version": "2.0.0",
      "model_name": "LayoutModel",
      "state": {}
     },
     "65c666070499474da9de23ce2c29b190": {
      "model_module": "@jupyter-widgets/base",
      "model_module_version": "2.0.0",
      "model_name": "LayoutModel",
      "state": {}
     },
     "661e16182d164c878c515e0a4d96a403": {
      "model_module": "@jupyter-widgets/base",
      "model_module_version": "2.0.0",
      "model_name": "LayoutModel",
      "state": {}
     },
     "6636a22972764220a8732d826dddaf2c": {
      "model_module": "@jupyter-widgets/base",
      "model_module_version": "2.0.0",
      "model_name": "LayoutModel",
      "state": {}
     },
     "66698bfafc2e4d2e940299f784c55900": {
      "model_module": "@jupyter-widgets/controls",
      "model_module_version": "2.0.0",
      "model_name": "ColorPickerModel",
      "state": {
       "description": "Select a color:",
       "disabled": false,
       "layout": "IPY_MODEL_a173134a18df43f68b99c7696aee455f",
       "style": "IPY_MODEL_843c8fe208a3416180718dd4e2d2f713"
      }
     },
     "670b88e2ae1b43c2adda7dcb9fa3eec6": {
      "model_module": "@jupyter-widgets/base",
      "model_module_version": "2.0.0",
      "model_name": "LayoutModel",
      "state": {}
     },
     "67391d281bba45478ccaafbd36b9df4b": {
      "model_module": "@jupyter-widgets/controls",
      "model_module_version": "2.0.0",
      "model_name": "HBoxModel",
      "state": {
       "children": [
        "IPY_MODEL_7479bd8333694ea490dd6104a76bb0b3",
        "IPY_MODEL_a3a04644e7384971b23d8296682a8c9f"
       ],
       "layout": "IPY_MODEL_a139770016094209a7f921a4f1ee6849"
      }
     },
     "6742bb9a10b24670badbf7a1beb02d18": {
      "model_module": "@jupyter-widgets/base",
      "model_module_version": "2.0.0",
      "model_name": "LayoutModel",
      "state": {}
     },
     "675efe9d05084c04a890cee8d137859f": {
      "model_module": "@jupyter-widgets/base",
      "model_module_version": "2.0.0",
      "model_name": "LayoutModel",
      "state": {}
     },
     "6780eb318e7d4fe8903d902755cdd3bf": {
      "model_module": "@jupyter-widgets/controls",
      "model_module_version": "2.0.0",
      "model_name": "TabModel",
      "state": {
       "children": [
        "IPY_MODEL_dfa954fd3b404a4992bdb6db51d4c5b3"
       ],
       "layout": "IPY_MODEL_fc2f14da329c4a22856dcb42f0156cd0",
       "selected_index": 0,
       "titles": [
        "element finder"
       ]
      }
     },
     "678d76d7a9094b65909ad1e121254980": {
      "model_module": "@jupyter-widgets/base",
      "model_module_version": "2.0.0",
      "model_name": "LayoutModel",
      "state": {}
     },
     "6808b793c47c44ffa86742896902c573": {
      "model_module": "@jupyter-widgets/controls",
      "model_module_version": "2.0.0",
      "model_name": "ButtonModel",
      "state": {
       "description": "add ion",
       "layout": "IPY_MODEL_11575bed0f7f4e87ad1cdcae8f3a5036",
       "style": "IPY_MODEL_c2b9b6cbebf54e4a878ea567b001c331",
       "tooltip": null
      }
     },
     "685dc675e84b49c3980bd6f189bccc23": {
      "model_module": "@jupyter-widgets/base",
      "model_module_version": "2.0.0",
      "model_name": "LayoutModel",
      "state": {}
     },
     "6945616eabc94a0ebb08cd3aadc17bba": {
      "model_module": "@jupyter-widgets/base",
      "model_module_version": "2.0.0",
      "model_name": "LayoutModel",
      "state": {}
     },
     "69e1cae6d88b4f77a0ff20c8d0c86ef1": {
      "model_module": "@jupyter-widgets/base",
      "model_module_version": "2.0.0",
      "model_name": "LayoutModel",
      "state": {}
     },
     "6a29f6034e2c40b9b1517f64c4b3fa40": {
      "model_module": "@jupyter-widgets/base",
      "model_module_version": "2.0.0",
      "model_name": "LayoutModel",
      "state": {}
     },
     "6a4e81f0b97d4b58a5591a03ca6dcf67": {
      "model_module": "@jupyter-widgets/controls",
      "model_module_version": "2.0.0",
      "model_name": "ButtonModel",
      "state": {
       "description": "manual formula",
       "layout": "IPY_MODEL_a6690b0ea9d24ac191ea3ab981f1b50d",
       "style": "IPY_MODEL_eafc13975cab43b49f6452926fa29ad1",
       "tooltip": null
      }
     },
     "6a4fc96fc6084c2c976233533469321d": {
      "model_module": "@jupyter-widgets/controls",
      "model_module_version": "2.0.0",
      "model_name": "ButtonStyleModel",
      "state": {
       "font_family": null,
       "font_size": null,
       "font_style": null,
       "font_variant": null,
       "font_weight": null,
       "text_color": null,
       "text_decoration": null
      }
     },
     "6a8d1a8788064094a5add740b18073a0": {
      "model_module": "@jupyter-widgets/controls",
      "model_module_version": "2.0.0",
      "model_name": "TabModel",
      "state": {
       "children": [
        "IPY_MODEL_6d83dfcd93a34c4391488054628c430d"
       ],
       "layout": "IPY_MODEL_0e8956acb8b24599a24204cf6b2cd4df",
       "selected_index": 0,
       "titles": [
        "element finder"
       ]
      }
     },
     "6aa0072783af42d99acbdd4d888d81c4": {
      "model_module": "@jupyter-widgets/base",
      "model_module_version": "2.0.0",
      "model_name": "LayoutModel",
      "state": {}
     },
     "6aa51a5813284df6b090eeb734254738": {
      "model_module": "@jupyter-widgets/controls",
      "model_module_version": "2.0.0",
      "model_name": "ButtonModel",
      "state": {
       "description": "remove ion",
       "layout": "IPY_MODEL_11c8f318d26543898d7aa18c564ce580",
       "style": "IPY_MODEL_b698c32f356b4180aecb1a94e30918e7",
       "tooltip": null
      }
     },
     "6afb75f14bab49f7a7b204ef54cdc9ac": {
      "model_module": "@jupyter-widgets/base",
      "model_module_version": "2.0.0",
      "model_name": "LayoutModel",
      "state": {}
     },
     "6b66cd694a7b4f77a9b7364c87eba3d1": {
      "model_module": "@jupyter-widgets/controls",
      "model_module_version": "2.0.0",
      "model_name": "VBoxModel",
      "state": {
       "children": [
        "IPY_MODEL_e7621118ba9840d1aab24b93b09c4458",
        "IPY_MODEL_4cfc9fdded2a40be87b6668c3d1d136d",
        "IPY_MODEL_1a8281ae5a08437fa348c624cf213915",
        "IPY_MODEL_52327b6f50aa4376945c3d91659bddd2",
        "IPY_MODEL_1b956ba6c6414338bb01fe481a912ccb",
        "IPY_MODEL_89668e4b1dc545c8acf21a2d11636cf6",
        "IPY_MODEL_22c267eb22ca4ff880853f196b09a8af",
        "IPY_MODEL_bcf295f2717f473d98524431266235c2"
       ],
       "layout": "IPY_MODEL_ee703c7f38844d7597c53564dc112201"
      }
     },
     "6b81c1bbda4642c19f58adc323dba4c4": {
      "model_module": "@jupyter-widgets/controls",
      "model_module_version": "2.0.0",
      "model_name": "ButtonModel",
      "state": {
       "description": "add all peaks",
       "layout": "IPY_MODEL_2c2dca7746fd4406a6e8bf0922868990",
       "style": "IPY_MODEL_3d6fd47880b649e98a24fa8d847b8865",
       "tooltip": null
      }
     },
     "6bd0758f45dd436eae8d48f9efc0ca4c": {
      "model_module": "@jupyter-widgets/controls",
      "model_module_version": "2.0.0",
      "model_name": "ButtonModel",
      "state": {
       "description": "previous",
       "layout": "IPY_MODEL_717356f6e84043ca9bbc6036d1465cb6",
       "style": "IPY_MODEL_206d0e07f0794db3a1ab0d35c0af55a5",
       "tooltip": null
      }
     },
     "6bf419a103164850874bdedafd276459": {
      "model_module": "@jupyter-widgets/controls",
      "model_module_version": "2.0.0",
      "model_name": "ButtonStyleModel",
      "state": {
       "font_family": null,
       "font_size": null,
       "font_style": null,
       "font_variant": null,
       "font_weight": null,
       "text_color": null,
       "text_decoration": null
      }
     },
     "6c3bc8145b7e481c9bce3de415464fee": {
      "model_module": "@jupyter-widgets/base",
      "model_module_version": "2.0.0",
      "model_name": "LayoutModel",
      "state": {}
     },
     "6c9a3fabe3bc4223a17ce19c6fa02652": {
      "model_module": "@jupyter-widgets/controls",
      "model_module_version": "2.0.0",
      "model_name": "ButtonModel",
      "state": {
       "description": "add all peaks",
       "layout": "IPY_MODEL_5ad7982bb11d409d80e5a145a1f8b2bc",
       "style": "IPY_MODEL_01a0778ca83d4b5eb298f7da7c83f501",
       "tooltip": null
      }
     },
     "6cf9f5135e2d45d68aa38a00fcb33526": {
      "model_module": "@jupyter-widgets/controls",
      "model_module_version": "2.0.0",
      "model_name": "ButtonModel",
      "state": {
       "description": "add ion",
       "layout": "IPY_MODEL_2bbf4c4a69374b1eac34be2803fdf370",
       "style": "IPY_MODEL_d199ca3fc2ec496696d943e52e8ee198",
       "tooltip": null
      }
     },
     "6d83dfcd93a34c4391488054628c430d": {
      "model_module": "@jupyter-widgets/controls",
      "model_module_version": "2.0.0",
      "model_name": "VBoxModel",
      "state": {
       "children": [
        "IPY_MODEL_86188fa8ecd340969e8afa2e1116d3bf"
       ],
       "layout": "IPY_MODEL_1ab03b567e0d4c728cc74331a8eab7d9"
      }
     },
     "6da4efbc18e34420891adcdd6fde7ae5": {
      "model_module": "@jupyter-widgets/controls",
      "model_module_version": "2.0.0",
      "model_name": "TabModel",
      "state": {
       "children": [
        "IPY_MODEL_6b66cd694a7b4f77a9b7364c87eba3d1",
        "IPY_MODEL_d49a6cf0f2054c6ca93f06779dbac493"
       ],
       "layout": "IPY_MODEL_03c2d9a57f4f4af7997c08c325897168",
       "selected_index": 0,
       "titles": [
        "peak finder",
        "rangging"
       ]
      }
     },
     "6e27b53cf3aa44eebf76fd0ecdd7bfb0": {
      "model_module": "@jupyter-widgets/base",
      "model_module_version": "2.0.0",
      "model_name": "LayoutModel",
      "state": {}
     },
     "6f3ae4c71a39470297c63c4578a9a162": {
      "model_module": "@jupyter-widgets/controls",
      "model_module_version": "2.0.0",
      "model_name": "ButtonModel",
      "state": {
       "description": "add all peaks",
       "layout": "IPY_MODEL_072cf8a4aec74a0d9962770c6f429d15",
       "style": "IPY_MODEL_50f1b8cee16f4b5795856d50af74a9de",
       "tooltip": null
      }
     },
     "6f694d3c51ef4a99bb600ccbba399ce3": {
      "model_module": "@jupyter-widgets/controls",
      "model_module_version": "2.0.0",
      "model_name": "VBoxModel",
      "state": {
       "children": [
        "IPY_MODEL_eead5c57bab2499688df6a3eff2b6f5c",
        "IPY_MODEL_bae245ae04fc46a3a7bea8238767711e",
        "IPY_MODEL_a2458f94cb8f482890770b3a64337b15",
        "IPY_MODEL_7c8e5c14fa6d43e5b0421d9c25d346e9",
        "IPY_MODEL_332dafd65c874095987116beac278dae"
       ],
       "layout": "IPY_MODEL_484828c512a840378bab658a1183cccc"
      }
     },
     "6fe131291335428aac88c13cefe58730": {
      "model_module": "@jupyter-widgets/controls",
      "model_module_version": "2.0.0",
      "model_name": "ButtonStyleModel",
      "state": {
       "font_family": null,
       "font_size": null,
       "font_style": null,
       "font_variant": null,
       "font_weight": null,
       "text_color": null,
       "text_decoration": null
      }
     },
     "7065b4c86c9b414c86bcb8e3f9f0df71": {
      "model_module": "@jupyter-widgets/controls",
      "model_module_version": "2.0.0",
      "model_name": "ColorPickerModel",
      "state": {
       "description": "Select a color:",
       "disabled": false,
       "layout": "IPY_MODEL_dc969b1c42ff490b8f811cb801f331fb",
       "style": "IPY_MODEL_80b63d842d684ee5b8ece63d8e6d5974"
      }
     },
     "70ca74f547ec4ed9a744bdd7067f901b": {
      "model_module": "@jupyter-widgets/base",
      "model_module_version": "2.0.0",
      "model_name": "LayoutModel",
      "state": {}
     },
     "70ffc554176c470284c9aff4bd6f0220": {
      "model_module": "@jupyter-widgets/base",
      "model_module_version": "2.0.0",
      "model_name": "LayoutModel",
      "state": {}
     },
     "7133f2051a764c99b7658dd8f8968765": {
      "model_module": "@jupyter-widgets/controls",
      "model_module_version": "2.0.0",
      "model_name": "ButtonModel",
      "state": {
       "description": "manual formula",
       "layout": "IPY_MODEL_a604d8ca24304e1fa37157b9e36ee428",
       "style": "IPY_MODEL_929541b38c0c4b4eb2d02dbefbdde6b3",
       "tooltip": null
      }
     },
     "717356f6e84043ca9bbc6036d1465cb6": {
      "model_module": "@jupyter-widgets/base",
      "model_module_version": "2.0.0",
      "model_name": "LayoutModel",
      "state": {}
     },
     "7183aaace3804e77be322709ec20a5ed": {
      "model_module": "@jupyter-widgets/controls",
      "model_module_version": "2.0.0",
      "model_name": "HBoxModel",
      "state": {
       "children": [
        "IPY_MODEL_20e44c6747394f9ab9d23b9cf732ea95",
        "IPY_MODEL_0bd8ee7e1ae6459796f4c452d08ce8d5"
       ],
       "layout": "IPY_MODEL_b542bcdbd3374f30abdc464f063974e2"
      }
     },
     "71d8b40ec9bc49a9902e500c7b5ae5fe": {
      "model_module": "@jupyter-widgets/controls",
      "model_module_version": "2.0.0",
      "model_name": "TabModel",
      "state": {
       "children": [
        "IPY_MODEL_afb4d3bdcf8b479aa055cbf364d39218"
       ],
       "layout": "IPY_MODEL_c01d83949b534ef98f85715413dbf1cd",
       "selected_index": 0,
       "titles": [
        "element finder"
       ]
      }
     },
     "724e7468b9c04eac8edf35ffca582bbe": {
      "model_module": "@jupyter-widgets/controls",
      "model_module_version": "2.0.0",
      "model_name": "ButtonModel",
      "state": {
       "description": "next",
       "layout": "IPY_MODEL_170319887605453e8e7d0fe69eb2b8ea",
       "style": "IPY_MODEL_46320475b0804a0d968f65d9c1734472",
       "tooltip": null
      }
     },
     "72bd990baf8e4249855a853937dd1c10": {
      "model_module": "@jupyter-widgets/base",
      "model_module_version": "2.0.0",
      "model_name": "LayoutModel",
      "state": {}
     },
     "72c5ba77c1a4453ea30aa2681436adaa": {
      "model_module": "@jupyter-widgets/output",
      "model_module_version": "1.0.0",
      "model_name": "OutputModel",
      "state": {
       "layout": "IPY_MODEL_0107cb9312234de18780140dad0888ab"
      }
     },
     "72fed5f03d28443584bb49fc3ad054fa": {
      "model_module": "@jupyter-widgets/base",
      "model_module_version": "2.0.0",
      "model_name": "LayoutModel",
      "state": {}
     },
     "739f48178de640d3b0ff2fb80177d9ed": {
      "model_module": "@jupyter-widgets/base",
      "model_module_version": "2.0.0",
      "model_name": "LayoutModel",
      "state": {}
     },
     "73dd3a9180cc4659962905b070426dc1": {
      "model_module": "@jupyter-widgets/controls",
      "model_module_version": "2.0.0",
      "model_name": "TabModel",
      "state": {
       "children": [
        "IPY_MODEL_b46280a1f0aa46e6897b70d7edc36228",
        "IPY_MODEL_9cabc3b14da34a5c86f3300c8719a199"
       ],
       "layout": "IPY_MODEL_823d610af28541b3a958e3775b86a650",
       "selected_index": 0,
       "titles": [
        "peak finder",
        "rangging"
       ]
      }
     },
     "743bc45191b0438aabe1a0a4e706f937": {
      "model_module": "@jupyter-widgets/controls",
      "model_module_version": "2.0.0",
      "model_name": "TextModel",
      "state": {
       "description": "Elements:",
       "layout": "IPY_MODEL_fde37b0d742e44f4acb921a11a4b3343",
       "placeholder": "H, O",
       "style": "IPY_MODEL_55a0a3fde14c41a6840b70f26c18b617"
      }
     },
     "744d613dc33a4931999b435dcbf780a0": {
      "model_module": "@jupyter-widgets/controls",
      "model_module_version": "2.0.0",
      "model_name": "ButtonModel",
      "state": {
       "description": "find element",
       "layout": "IPY_MODEL_f6007a42a09d45ecb5eb5e47c1062749",
       "style": "IPY_MODEL_c9a379e33783429c9e4e76f351519689",
       "tooltip": null
      }
     },
     "745631c189a149c686f4d50109e1edbe": {
      "model_module": "@jupyter-widgets/controls",
      "model_module_version": "2.0.0",
      "model_name": "ButtonModel",
      "state": {
       "description": "add all peaks",
       "layout": "IPY_MODEL_89f7ed0cf54d44eaa76260bedc23c246",
       "style": "IPY_MODEL_6fe131291335428aac88c13cefe58730",
       "tooltip": null
      }
     },
     "746a37d7cfc644a68111ffc5c6a07c51": {
      "model_module": "@jupyter-widgets/base",
      "model_module_version": "2.0.0",
      "model_name": "LayoutModel",
      "state": {}
     },
     "7479bd8333694ea490dd6104a76bb0b3": {
      "model_module": "@jupyter-widgets/output",
      "model_module_version": "1.0.0",
      "model_name": "OutputModel",
      "state": {
       "layout": "IPY_MODEL_fec0c2734f2a47d29a4ed887216cc489"
      }
     },
     "7486c2319eb642ab992e155420e7adcc": {
      "model_module": "@jupyter-widgets/base",
      "model_module_version": "2.0.0",
      "model_name": "LayoutModel",
      "state": {}
     },
     "74d7a261c9b449189ea4dad4a7eb43a3": {
      "model_module": "@jupyter-widgets/controls",
      "model_module_version": "2.0.0",
      "model_name": "ButtonStyleModel",
      "state": {
       "font_family": null,
       "font_size": null,
       "font_style": null,
       "font_variant": null,
       "font_weight": null,
       "text_color": null,
       "text_decoration": null
      }
     },
     "751dc97fada84320b0b761e7ac1f2c81": {
      "model_module": "@jupyter-widgets/controls",
      "model_module_version": "2.0.0",
      "model_name": "ButtonModel",
      "state": {
       "description": "start",
       "layout": "IPY_MODEL_8252e6645f46425786ab1fec869c38b7",
       "style": "IPY_MODEL_2d6e870c8ba8449b9f3a427ed26f6fac",
       "tooltip": null
      }
     },
     "7565af73450c4851a8fa1064671b8752": {
      "model_module": "@jupyter-widgets/base",
      "model_module_version": "2.0.0",
      "model_name": "LayoutModel",
      "state": {}
     },
     "75dc445db61d46ee8b4e6d604b7d62f2": {
      "model_module": "@jupyter-widgets/base",
      "model_module_version": "2.0.0",
      "model_name": "LayoutModel",
      "state": {}
     },
     "75e9391c34aa474abe4aa944730f74a5": {
      "model_module": "@jupyter-widgets/output",
      "model_module_version": "1.0.0",
      "model_name": "OutputModel",
      "state": {
       "layout": "IPY_MODEL_63f4e74f0eb04b048ba427b3aec85881"
      }
     },
     "769b007836774137aeae8f2016451f17": {
      "model_module": "@jupyter-widgets/base",
      "model_module_version": "2.0.0",
      "model_name": "LayoutModel",
      "state": {}
     },
     "76d13cfd666f43648d3bf1c358bbd99d": {
      "model_module": "@jupyter-widgets/base",
      "model_module_version": "2.0.0",
      "model_name": "LayoutModel",
      "state": {}
     },
     "776ae31c6e054380b819c5b62cb3a6a2": {
      "model_module": "@jupyter-widgets/controls",
      "model_module_version": "2.0.0",
      "model_name": "VBoxModel",
      "state": {
       "children": [
        "IPY_MODEL_fe4d9d3e1b9b4557b6fce60c7bde91c2",
        "IPY_MODEL_f11089a482c14c5f9926ceafa869427e"
       ],
       "layout": "IPY_MODEL_bc310a5c202343c78d8b9663317a5fa6"
      }
     },
     "77a97818d1fb40b5921ab0235751c9e4": {
      "model_module": "@jupyter-widgets/controls",
      "model_module_version": "2.0.0",
      "model_name": "ButtonStyleModel",
      "state": {
       "font_family": null,
       "font_size": null,
       "font_style": null,
       "font_variant": null,
       "font_weight": null,
       "text_color": null,
       "text_decoration": null
      }
     },
     "78a8791e98494f578d67d7d467478167": {
      "model_module": "@jupyter-widgets/controls",
      "model_module_version": "2.0.0",
      "model_name": "IntTextModel",
      "state": {
       "description": "num element:",
       "layout": "IPY_MODEL_fe049bbbcef44f3989f2c4dc37290890",
       "step": 1,
       "style": "IPY_MODEL_5298867e7f154efcacdc2d80d266653a",
       "value": 5
      }
     },
     "78d36a9808b54ff981c88ff6728c637d": {
      "model_module": "@jupyter-widgets/controls",
      "model_module_version": "2.0.0",
      "model_name": "VBoxModel",
      "state": {
       "children": [
        "IPY_MODEL_c2f7f44d40ba4ad98aeaf8d205553461",
        "IPY_MODEL_22c891d15f1e47d4959fd2b7161c5f41",
        "IPY_MODEL_598200ef5f7e452caeab118e6ff3c34a",
        "IPY_MODEL_4eb500a9928343beb1f49bdfa6ac3338",
        "IPY_MODEL_78a8791e98494f578d67d7d467478167",
        "IPY_MODEL_484a7f6b8cdd4eddab411a00366278e6",
        "IPY_MODEL_50a9b0ea582040fab32b78bfe75ac3be",
        "IPY_MODEL_86aec84b85b84d708ff6fd15d7691221",
        "IPY_MODEL_4df9692171e14982b9a64f8af7613b7e"
       ],
       "layout": "IPY_MODEL_cd3332eb221645cfa59867d4fbbcf0f4"
      }
     },
     "7952123fccf9448481a8c0285d166bc8": {
      "model_module": "@jupyter-widgets/base",
      "model_module_version": "2.0.0",
      "model_name": "LayoutModel",
      "state": {}
     },
     "7afd5df479414557b00e0c7a67f2dd17": {
      "model_module": "@jupyter-widgets/controls",
      "model_module_version": "2.0.0",
      "model_name": "ButtonStyleModel",
      "state": {
       "font_family": null,
       "font_size": null,
       "font_style": null,
       "font_variant": null,
       "font_weight": null,
       "text_color": null,
       "text_decoration": null
      }
     },
     "7b04ab430d9f46afaab1ce5d13e13dea": {
      "model_module": "@jupyter-widgets/controls",
      "model_module_version": "2.0.0",
      "model_name": "ButtonModel",
      "state": {
       "description": "plot element",
       "layout": "IPY_MODEL_d8419d6b9dbf4425bc3e5243d2c28eff",
       "style": "IPY_MODEL_3e84043d87d04e89b50deacfb2094638",
       "tooltip": null
      }
     },
     "7b3544fb62134c5b8659576047b0514d": {
      "model_module": "@jupyter-widgets/controls",
      "model_module_version": "2.0.0",
      "model_name": "FloatTextModel",
      "state": {
       "description": "peak value:",
       "layout": "IPY_MODEL_052883bd96154218b282d86a561d7572",
       "step": null,
       "style": "IPY_MODEL_64b1780960aa435583c38500ea927c8d",
       "value": 1.1
      }
     },
     "7b4b49a09b0343a6a6417352a7aa2aac": {
      "model_module": "@jupyter-widgets/controls",
      "model_module_version": "2.0.0",
      "model_name": "VBoxModel",
      "state": {
       "children": [
        "IPY_MODEL_56abcd1233c944bf8abea29ccd6157b3",
        "IPY_MODEL_6514d66725a345938871694122308f59",
        "IPY_MODEL_b97230328fa745ddbca463be56cd8dc3",
        "IPY_MODEL_c85775b6f5424ccaaa84ce7ff31086d8",
        "IPY_MODEL_cbd1b91c243344a18e02c98442353955"
       ],
       "layout": "IPY_MODEL_21a1916686204bb397049b8dc4579004"
      }
     },
     "7c8e5c14fa6d43e5b0421d9c25d346e9": {
      "model_module": "@jupyter-widgets/controls",
      "model_module_version": "2.0.0",
      "model_name": "ButtonModel",
      "state": {
       "description": "previous",
       "layout": "IPY_MODEL_de9036f36c5e45599494bbacd87734e8",
       "style": "IPY_MODEL_5a3abb430ed044fb8b38fc5d57951474",
       "tooltip": null
      }
     },
     "7caf941b3cd1424f87314364dc2c4193": {
      "model_module": "@jupyter-widgets/controls",
      "model_module_version": "2.0.0",
      "model_name": "ButtonModel",
      "state": {
       "description": "remove ion",
       "layout": "IPY_MODEL_859bfd4a71074f19b56233776211f36a",
       "style": "IPY_MODEL_264d270a93744364b1d723f898f9618d",
       "tooltip": null
      }
     },
     "7cdc34957afe4f608e703a1252c5bf62": {
      "model_module": "@jupyter-widgets/base",
      "model_module_version": "2.0.0",
      "model_name": "LayoutModel",
      "state": {}
     },
     "7e67e1ae1a2b45b7a905552825b0012c": {
      "model_module": "@jupyter-widgets/base",
      "model_module_version": "2.0.0",
      "model_name": "LayoutModel",
      "state": {}
     },
     "7ee9fcb0389d4c27bb2c84823f36905d": {
      "model_module": "@jupyter-widgets/controls",
      "model_module_version": "2.0.0",
      "model_name": "DescriptionStyleModel",
      "state": {
       "description_width": ""
      }
     },
     "7f836931ecee465f8a47a36cad3216ab": {
      "model_module": "@jupyter-widgets/controls",
      "model_module_version": "2.0.0",
      "model_name": "IntTextModel",
      "state": {
       "description": "index row:",
       "layout": "IPY_MODEL_6a29f6034e2c40b9b1517f64c4b3fa40",
       "step": 1,
       "style": "IPY_MODEL_45936e24240748f884dce18fb05bddaf"
      }
     },
     "7f836f166b0d4f8888cbc6ab39791382": {
      "model_module": "@jupyter-widgets/controls",
      "model_module_version": "2.0.0",
      "model_name": "ButtonStyleModel",
      "state": {
       "font_family": null,
       "font_size": null,
       "font_style": null,
       "font_variant": null,
       "font_weight": null,
       "text_color": null,
       "text_decoration": null
      }
     },
     "7fa134e6e5504fb1adda87975e377019": {
      "model_module": "@jupyter-widgets/base",
      "model_module_version": "2.0.0",
      "model_name": "LayoutModel",
      "state": {}
     },
     "8040ea360916468e8245604fdadca582": {
      "model_module": "@jupyter-widgets/base",
      "model_module_version": "2.0.0",
      "model_name": "LayoutModel",
      "state": {}
     },
     "80b63d842d684ee5b8ece63d8e6d5974": {
      "model_module": "@jupyter-widgets/controls",
      "model_module_version": "2.0.0",
      "model_name": "DescriptionStyleModel",
      "state": {
       "description_width": ""
      }
     },
     "80f570074b0c4086bbc652a2958d7666": {
      "model_module": "@jupyter-widgets/controls",
      "model_module_version": "2.0.0",
      "model_name": "ButtonStyleModel",
      "state": {
       "font_family": null,
       "font_size": null,
       "font_style": null,
       "font_variant": null,
       "font_weight": null,
       "text_color": null,
       "text_decoration": null
      }
     },
     "81779f7ac9784e378f4282bbee05489d": {
      "model_module": "@jupyter-widgets/base",
      "model_module_version": "2.0.0",
      "model_name": "LayoutModel",
      "state": {}
     },
     "823d610af28541b3a958e3775b86a650": {
      "model_module": "@jupyter-widgets/base",
      "model_module_version": "2.0.0",
      "model_name": "LayoutModel",
      "state": {}
     },
     "8252e6645f46425786ab1fec869c38b7": {
      "model_module": "@jupyter-widgets/base",
      "model_module_version": "2.0.0",
      "model_name": "LayoutModel",
      "state": {}
     },
     "82d979f931e440b08056ab6605028e53": {
      "model_module": "@jupyter-widgets/base",
      "model_module_version": "2.0.0",
      "model_name": "LayoutModel",
      "state": {}
     },
     "82e003a372be41828a4be839731fa745": {
      "model_module": "@jupyter-widgets/controls",
      "model_module_version": "2.0.0",
      "model_name": "DescriptionStyleModel",
      "state": {
       "description_width": ""
      }
     },
     "83740b7ed2984bb2a9a25d88f4e54554": {
      "model_module": "@jupyter-widgets/controls",
      "model_module_version": "2.0.0",
      "model_name": "ButtonStyleModel",
      "state": {
       "font_family": null,
       "font_size": null,
       "font_style": null,
       "font_variant": null,
       "font_weight": null,
       "text_color": null,
       "text_decoration": null
      }
     },
     "84119024cd0d4c49a7b53aa65729c134": {
      "model_module": "@jupyter-widgets/controls",
      "model_module_version": "2.0.0",
      "model_name": "VBoxModel",
      "state": {
       "children": [
        "IPY_MODEL_a1639d586aa940dab6a6332fc1114afd",
        "IPY_MODEL_b65c45289d40419a9d6cc6a990126ced",
        "IPY_MODEL_7133f2051a764c99b7658dd8f8968765"
       ],
       "layout": "IPY_MODEL_5d430125ebcf46a3883d74f9ce0f424b"
      }
     },
     "843c8fe208a3416180718dd4e2d2f713": {
      "model_module": "@jupyter-widgets/controls",
      "model_module_version": "2.0.0",
      "model_name": "DescriptionStyleModel",
      "state": {
       "description_width": ""
      }
     },
     "84a8b913d1004abe8f9275deca637824": {
      "model_module": "@jupyter-widgets/controls",
      "model_module_version": "2.0.0",
      "model_name": "DescriptionStyleModel",
      "state": {
       "description_width": ""
      }
     },
     "84b58520d48e4c9da645917c278abeb3": {
      "model_module": "@jupyter-widgets/base",
      "model_module_version": "2.0.0",
      "model_name": "LayoutModel",
      "state": {}
     },
     "84bda55ac1384e13be63318175054d8d": {
      "model_module": "@jupyter-widgets/base",
      "model_module_version": "2.0.0",
      "model_name": "LayoutModel",
      "state": {}
     },
     "84cfca3ed0834065a0cd26262384324c": {
      "model_module": "@jupyter-widgets/base",
      "model_module_version": "2.0.0",
      "model_name": "LayoutModel",
      "state": {}
     },
     "8523fe099b91434bb5dbe94054293bd1": {
      "model_module": "@jupyter-widgets/controls",
      "model_module_version": "2.0.0",
      "model_name": "ButtonStyleModel",
      "state": {
       "font_family": null,
       "font_size": null,
       "font_style": null,
       "font_variant": null,
       "font_weight": null,
       "text_color": null,
       "text_decoration": null
      }
     },
     "8550ff1a6cae4584b7b9e643b7eaaeff": {
      "model_module": "@jupyter-widgets/base",
      "model_module_version": "2.0.0",
      "model_name": "LayoutModel",
      "state": {}
     },
     "8586de9f180d4cca803edee7f1a9cf8f": {
      "model_module": "@jupyter-widgets/controls",
      "model_module_version": "2.0.0",
      "model_name": "ButtonStyleModel",
      "state": {
       "font_family": null,
       "font_size": null,
       "font_style": null,
       "font_variant": null,
       "font_weight": null,
       "text_color": null,
       "text_decoration": null
      }
     },
     "859bfd4a71074f19b56233776211f36a": {
      "model_module": "@jupyter-widgets/base",
      "model_module_version": "2.0.0",
      "model_name": "LayoutModel",
      "state": {}
     },
     "86188fa8ecd340969e8afa2e1116d3bf": {
      "model_module": "@jupyter-widgets/controls",
      "model_module_version": "2.0.0",
      "model_name": "HBoxModel",
      "state": {
       "children": [
        "IPY_MODEL_eeee69777b584eee9368beaab259866e",
        "IPY_MODEL_be772a0c68f44928b87f56e752b9d6f5",
        "IPY_MODEL_445c2ec667c04052bc8f952b429aad87"
       ],
       "layout": "IPY_MODEL_8ffcc00cc82c4f69a6c2bc43d5547cea"
      }
     },
     "86aec84b85b84d708ff6fd15d7691221": {
      "model_module": "@jupyter-widgets/controls",
      "model_module_version": "2.0.0",
      "model_name": "ButtonModel",
      "state": {
       "description": "find element",
       "layout": "IPY_MODEL_65c666070499474da9de23ce2c29b190",
       "style": "IPY_MODEL_a32f5c7a6c9b48ab8426a0958f5af78a",
       "tooltip": null
      }
     },
     "8708b24ea0d44d6daf9e696aa076c0ae": {
      "model_module": "@jupyter-widgets/controls",
      "model_module_version": "2.0.0",
      "model_name": "IntTextModel",
      "state": {
       "description": "index row:",
       "layout": "IPY_MODEL_2ac60a2a3bf046bea6c051213f947f6a",
       "step": 1,
       "style": "IPY_MODEL_ab24933be6db401b87606d378b893c71"
      }
     },
     "8778b643caab4896ae5a426771281e00": {
      "model_module": "@jupyter-widgets/controls",
      "model_module_version": "2.0.0",
      "model_name": "ButtonModel",
      "state": {
       "description": "plot element",
       "layout": "IPY_MODEL_e159de983bce4a2889faf4f3bd7511c8",
       "style": "IPY_MODEL_a5ba44b28fff40469a345795c3e2dd66",
       "tooltip": null
      }
     },
     "8782a95207c04a11b96805d1d49fd62f": {
      "model_module": "@jupyter-widgets/controls",
      "model_module_version": "2.0.0",
      "model_name": "ButtonStyleModel",
      "state": {
       "font_family": null,
       "font_size": null,
       "font_style": null,
       "font_variant": null,
       "font_weight": null,
       "text_color": null,
       "text_decoration": null
      }
     },
     "880050783f4c44c292b5a5ab4b78d5f0": {
      "model_module": "@jupyter-widgets/controls",
      "model_module_version": "2.0.0",
      "model_name": "VBoxModel",
      "state": {
       "children": [
        "IPY_MODEL_0d3f26361196461dbca156587bce2044",
        "IPY_MODEL_66698bfafc2e4d2e940299f784c55900",
        "IPY_MODEL_f2ebd90c21d143ec8e8e1047c71cb19e",
        "IPY_MODEL_95e58bd3048347efa817557a4f392c33",
        "IPY_MODEL_b2148a8d068541d1a32817a553c80c1b",
        "IPY_MODEL_dc5d0a95f0ff45d0afd1b19e542850bd"
       ],
       "layout": "IPY_MODEL_d93ecc7f99fe47268f7715d391787937"
      }
     },
     "8810ade6bb8349cebcb9ce8ffb5a6fba": {
      "model_module": "@jupyter-widgets/controls",
      "model_module_version": "2.0.0",
      "model_name": "DescriptionStyleModel",
      "state": {
       "description_width": ""
      }
     },
     "8844195bfe234991a969cfea5f5de454": {
      "model_module": "@jupyter-widgets/base",
      "model_module_version": "2.0.0",
      "model_name": "LayoutModel",
      "state": {}
     },
     "88f35baa72f14fad8072d14cfcea9224": {
      "model_module": "@jupyter-widgets/controls",
      "model_module_version": "2.0.0",
      "model_name": "HBoxModel",
      "state": {
       "children": [
        "IPY_MODEL_cf42ef8506164d1f9656daa7b45632df",
        "IPY_MODEL_745631c189a149c686f4d50109e1edbe"
       ],
       "layout": "IPY_MODEL_ae190ef9ca224dad8fcf56c4b8757254"
      }
     },
     "89668e4b1dc545c8acf21a2d11636cf6": {
      "model_module": "@jupyter-widgets/controls",
      "model_module_version": "2.0.0",
      "model_name": "IntTextModel",
      "state": {
       "description": "percent MRP:",
       "layout": "IPY_MODEL_8844195bfe234991a969cfea5f5de454",
       "step": 1,
       "style": "IPY_MODEL_ff5b2897ff4f4e079370078438711d8e",
       "value": 50
      }
     },
     "898afc130f8e4815bc3d0f6c4af8ddd7": {
      "model_module": "@jupyter-widgets/base",
      "model_module_version": "2.0.0",
      "model_name": "LayoutModel",
      "state": {}
     },
     "89f7ed0cf54d44eaa76260bedc23c246": {
      "model_module": "@jupyter-widgets/base",
      "model_module_version": "2.0.0",
      "model_name": "LayoutModel",
      "state": {}
     },
     "8a153e8f32a844af88633c6028991930": {
      "model_module": "@jupyter-widgets/controls",
      "model_module_version": "2.0.0",
      "model_name": "VBoxModel",
      "state": {
       "children": [
        "IPY_MODEL_e7621118ba9840d1aab24b93b09c4458",
        "IPY_MODEL_4cfc9fdded2a40be87b6668c3d1d136d",
        "IPY_MODEL_1a8281ae5a08437fa348c624cf213915",
        "IPY_MODEL_52327b6f50aa4376945c3d91659bddd2",
        "IPY_MODEL_1b956ba6c6414338bb01fe481a912ccb",
        "IPY_MODEL_89668e4b1dc545c8acf21a2d11636cf6",
        "IPY_MODEL_22c267eb22ca4ff880853f196b09a8af",
        "IPY_MODEL_2f2d6238dd0b415898e17371c0708ef6"
       ],
       "layout": "IPY_MODEL_e6665650cc274dfbab032b9069034896"
      }
     },
     "8a8aea9fba694288b4739af73d115a4e": {
      "model_module": "@jupyter-widgets/controls",
      "model_module_version": "2.0.0",
      "model_name": "ButtonStyleModel",
      "state": {
       "font_family": null,
       "font_size": null,
       "font_style": null,
       "font_variant": null,
       "font_weight": null,
       "text_color": null,
       "text_decoration": null
      }
     },
     "8b5c7eba40334cb7af762df68c05d83a": {
      "model_module": "@jupyter-widgets/controls",
      "model_module_version": "2.0.0",
      "model_name": "IntTextModel",
      "state": {
       "description": "index row:",
       "layout": "IPY_MODEL_b9a436082c7c429ea48fe2b4e3a6633a",
       "step": 1,
       "style": "IPY_MODEL_8810ade6bb8349cebcb9ce8ffb5a6fba"
      }
     },
     "8b888e8f8860430f98afe267a08c7e94": {
      "model_module": "@jupyter-widgets/base",
      "model_module_version": "2.0.0",
      "model_name": "LayoutModel",
      "state": {}
     },
     "8b95854f827a41429b0e269a85b8987c": {
      "model_module": "@jupyter-widgets/controls",
      "model_module_version": "2.0.0",
      "model_name": "ButtonStyleModel",
      "state": {
       "font_family": null,
       "font_size": null,
       "font_style": null,
       "font_variant": null,
       "font_weight": null,
       "text_color": null,
       "text_decoration": null
      }
     },
     "8ba26e30f9034151a7232f4a2703c356": {
      "model_module": "@jupyter-widgets/base",
      "model_module_version": "2.0.0",
      "model_name": "LayoutModel",
      "state": {}
     },
     "8be8ae90fd0b4d1894482a06b18ed096": {
      "model_module": "@jupyter-widgets/output",
      "model_module_version": "1.0.0",
      "model_name": "OutputModel",
      "state": {
       "layout": "IPY_MODEL_995ca4b920604b4cb09d431a45140b82",
       "outputs": [
        {
         "ename": "NameError",
         "evalue": "name 'variables' is not defined",
         "output_type": "error",
         "traceback": [
          "\u001b[1;31m---------------------------------------------------------------------------\u001b[0m",
          "\u001b[1;31mNameError\u001b[0m                                 Traceback (most recent call last)",
          "Cell \u001b[1;32mIn[4], line 75\u001b[0m, in \u001b[0;36mmanual_formula\u001b[1;34m(b)\u001b[0m\n\u001b[0;32m     73\u001b[0m     \u001b[38;5;28mprint\u001b[39m(\u001b[38;5;124m\"\u001b[39m\u001b[38;5;124mInput is empty. Type the formula.\u001b[39m\u001b[38;5;124m\"\u001b[39m)\n\u001b[0;32m     74\u001b[0m \u001b[38;5;28;01melse\u001b[39;00m:\n\u001b[1;32m---> 75\u001b[0m     df \u001b[38;5;241m=\u001b[39m ion_selection\u001b[38;5;241m.\u001b[39mmolecule_manual(formula_m\u001b[38;5;241m.\u001b[39mvalue, molecule_charge\u001b[38;5;241m.\u001b[39mvalue, latex\u001b[38;5;241m=\u001b[39m\u001b[38;5;28;01mTrue\u001b[39;00m, variables\u001b[38;5;241m=\u001b[39m\u001b[43mvariables\u001b[49m)\n\u001b[0;32m     76\u001b[0m     clear_output(\u001b[38;5;28;01mTrue\u001b[39;00m)\n\u001b[0;32m     77\u001b[0m     display(df)\n",
          "\u001b[1;31mNameError\u001b[0m: name 'variables' is not defined"
         ]
        }
       ]
      }
     },
     "8ccbe95d9af64b5588e4cb697580a172": {
      "model_module": "@jupyter-widgets/base",
      "model_module_version": "2.0.0",
      "model_name": "LayoutModel",
      "state": {}
     },
     "8d0ff02078cf49bb8ce536ea3fa52aeb": {
      "model_module": "@jupyter-widgets/base",
      "model_module_version": "2.0.0",
      "model_name": "LayoutModel",
      "state": {}
     },
     "8dc119bf22514d2eb8069b1381664ea5": {
      "model_module": "@jupyter-widgets/base",
      "model_module_version": "2.0.0",
      "model_name": "LayoutModel",
      "state": {}
     },
     "8dcbf4247c034bc781d53d09386350d1": {
      "model_module": "@jupyter-widgets/controls",
      "model_module_version": "2.0.0",
      "model_name": "VBoxModel",
      "state": {
       "children": [
        "IPY_MODEL_c2f7f44d40ba4ad98aeaf8d205553461",
        "IPY_MODEL_22c891d15f1e47d4959fd2b7161c5f41",
        "IPY_MODEL_598200ef5f7e452caeab118e6ff3c34a",
        "IPY_MODEL_4eb500a9928343beb1f49bdfa6ac3338",
        "IPY_MODEL_78a8791e98494f578d67d7d467478167",
        "IPY_MODEL_484a7f6b8cdd4eddab411a00366278e6",
        "IPY_MODEL_50a9b0ea582040fab32b78bfe75ac3be",
        "IPY_MODEL_744d613dc33a4931999b435dcbf780a0",
        "IPY_MODEL_a4aee7a4d1f14641bc6fc47640e26965"
       ],
       "layout": "IPY_MODEL_670b88e2ae1b43c2adda7dcb9fa3eec6"
      }
     },
     "8deaa5eca0204808adc592150e1077bb": {
      "model_module": "@jupyter-widgets/controls",
      "model_module_version": "2.0.0",
      "model_name": "HBoxModel",
      "state": {
       "children": [
        "IPY_MODEL_129f54f6b5fb4a138c5c5302a4d22dcf",
        "IPY_MODEL_2e60d3bd3143447eab0e7dbaad598eaa"
       ],
       "layout": "IPY_MODEL_aa567cc859084f11843f80f12f9055b9"
      }
     },
     "8e4b1c4a74284e0fa34bf4b60ad345eb": {
      "model_module": "@jupyter-widgets/base",
      "model_module_version": "2.0.0",
      "model_name": "LayoutModel",
      "state": {}
     },
     "8eb4057eab804b4b95408735739337ce": {
      "model_module": "@jupyter-widgets/base",
      "model_module_version": "2.0.0",
      "model_name": "LayoutModel",
      "state": {}
     },
     "8ed18932abcd42d3a6e33c03f22d6caa": {
      "model_module": "@jupyter-widgets/base",
      "model_module_version": "2.0.0",
      "model_name": "LayoutModel",
      "state": {}
     },
     "8ed7f4e0a8a34e119a73f476bcfc91c2": {
      "model_module": "@jupyter-widgets/controls",
      "model_module_version": "2.0.0",
      "model_name": "TextStyleModel",
      "state": {
       "description_width": "",
       "font_size": null,
       "text_color": null
      }
     },
     "8ffcc00cc82c4f69a6c2bc43d5547cea": {
      "model_module": "@jupyter-widgets/base",
      "model_module_version": "2.0.0",
      "model_name": "LayoutModel",
      "state": {}
     },
     "909d0c5902584541acb891c5da35a98b": {
      "model_module": "@jupyter-widgets/controls",
      "model_module_version": "2.0.0",
      "model_name": "ButtonStyleModel",
      "state": {
       "font_family": null,
       "font_size": null,
       "font_style": null,
       "font_variant": null,
       "font_weight": null,
       "text_color": null,
       "text_decoration": null
      }
     },
     "90ec18ae2e1e4ba499d6b4ac5262e66c": {
      "model_module": "@jupyter-widgets/base",
      "model_module_version": "2.0.0",
      "model_name": "LayoutModel",
      "state": {}
     },
     "910db4c81cc74758b811d8e4fcba0337": {
      "model_module": "@jupyter-widgets/base",
      "model_module_version": "2.0.0",
      "model_name": "LayoutModel",
      "state": {}
     },
     "91c7a1aa117549519abbed4809fc2ab7": {
      "model_module": "@jupyter-widgets/controls",
      "model_module_version": "2.0.0",
      "model_name": "ButtonModel",
      "state": {
       "description": "plot hist",
       "layout": "IPY_MODEL_2d14bf9c91804cb3bbb7426d116dad72",
       "style": "IPY_MODEL_7f836f166b0d4f8888cbc6ab39791382",
       "tooltip": null
      }
     },
     "92420ab9ce614ae4b9d9e10d59c1afb6": {
      "model_module": "@jupyter-widgets/controls",
      "model_module_version": "2.0.0",
      "model_name": "VBoxModel",
      "state": {
       "children": [
        "IPY_MODEL_c2f7f44d40ba4ad98aeaf8d205553461",
        "IPY_MODEL_22c891d15f1e47d4959fd2b7161c5f41",
        "IPY_MODEL_598200ef5f7e452caeab118e6ff3c34a",
        "IPY_MODEL_4eb500a9928343beb1f49bdfa6ac3338",
        "IPY_MODEL_78a8791e98494f578d67d7d467478167",
        "IPY_MODEL_484a7f6b8cdd4eddab411a00366278e6",
        "IPY_MODEL_50a9b0ea582040fab32b78bfe75ac3be",
        "IPY_MODEL_e9fc6f72adf743cb89e04e40b79b856d",
        "IPY_MODEL_f54ee6b9c9af4bf0a409873492d6109b"
       ],
       "layout": "IPY_MODEL_bc6e2fa0325e4fd78ad7ce10e7099372"
      }
     },
     "929541b38c0c4b4eb2d02dbefbdde6b3": {
      "model_module": "@jupyter-widgets/controls",
      "model_module_version": "2.0.0",
      "model_name": "ButtonStyleModel",
      "state": {
       "font_family": null,
       "font_size": null,
       "font_style": null,
       "font_variant": null,
       "font_weight": null,
       "text_color": null,
       "text_decoration": null
      }
     },
     "92c6072f8c894cbc893a797e258f2d51": {
      "model_module": "@jupyter-widgets/controls",
      "model_module_version": "2.0.0",
      "model_name": "ButtonModel",
      "state": {
       "description": "plot hist",
       "layout": "IPY_MODEL_171813b932e5471b9f322d84e1cbd9f0",
       "style": "IPY_MODEL_098f09390a854706b118055341f9e8b3",
       "tooltip": null
      }
     },
     "93442862f0bc4e3f9fc15c03021dbf7c": {
      "model_module": "@jupyter-widgets/controls",
      "model_module_version": "2.0.0",
      "model_name": "VBoxModel",
      "state": {
       "children": [
        "IPY_MODEL_a1639d586aa940dab6a6332fc1114afd",
        "IPY_MODEL_b65c45289d40419a9d6cc6a990126ced",
        "IPY_MODEL_6a4e81f0b97d4b58a5591a03ca6dcf67"
       ],
       "layout": "IPY_MODEL_661e16182d164c878c515e0a4d96a403"
      }
     },
     "935e0b80fff74af282cf41bc37f80eae": {
      "model_module": "@jupyter-widgets/controls",
      "model_module_version": "2.0.0",
      "model_name": "ButtonModel",
      "state": {
       "description": "add ion",
       "layout": "IPY_MODEL_678d76d7a9094b65909ad1e121254980",
       "style": "IPY_MODEL_fe10b35b7a33438d9dce25685aa65a19",
       "tooltip": null
      }
     },
     "93c31b6d948043dbb76a419141407bfe": {
      "model_module": "@jupyter-widgets/controls",
      "model_module_version": "2.0.0",
      "model_name": "VBoxModel",
      "state": {
       "children": [
        "IPY_MODEL_67391d281bba45478ccaafbd36b9df4b",
        "IPY_MODEL_eb589e5851fa433f9dcd18f5010497fd"
       ],
       "layout": "IPY_MODEL_72bd990baf8e4249855a853937dd1c10"
      }
     },
     "93cc1dce759b4669bdc3e6d27e6c0cbe": {
      "model_module": "@jupyter-widgets/controls",
      "model_module_version": "2.0.0",
      "model_name": "HBoxModel",
      "state": {
       "children": [
        "IPY_MODEL_20fa9fbab7314093bea7019f4d0ed81f",
        "IPY_MODEL_b0983d8f419742d587dbd7f3baf0cd0e"
       ],
       "layout": "IPY_MODEL_23a435d065ed4312a205ce5711e02dad"
      }
     },
     "9483588943db43378e109c2b8c3d719a": {
      "model_module": "@jupyter-widgets/controls",
      "model_module_version": "2.0.0",
      "model_name": "ButtonModel",
      "state": {
       "description": "show color",
       "layout": "IPY_MODEL_4eaa9cc82ee74736bbdd6d81999a7758",
       "style": "IPY_MODEL_b1d8615079ba417b945071e73a9af8f4",
       "tooltip": null
      }
     },
     "94c3f529e38c4dce9c59aed906ac29ae": {
      "model_module": "@jupyter-widgets/controls",
      "model_module_version": "2.0.0",
      "model_name": "ButtonStyleModel",
      "state": {
       "font_family": null,
       "font_size": null,
       "font_style": null,
       "font_variant": null,
       "font_weight": null,
       "text_color": null,
       "text_decoration": null
      }
     },
     "95021fba24764a55a89e68bfd9a9e462": {
      "model_module": "@jupyter-widgets/base",
      "model_module_version": "2.0.0",
      "model_name": "LayoutModel",
      "state": {}
     },
     "953d4b23b98f4b15873297d03bb9a798": {
      "model_module": "@jupyter-widgets/base",
      "model_module_version": "2.0.0",
      "model_name": "LayoutModel",
      "state": {}
     },
     "95524a73b0244608960f1ab0930dd9e3": {
      "model_module": "@jupyter-widgets/controls",
      "model_module_version": "2.0.0",
      "model_name": "ButtonStyleModel",
      "state": {
       "font_family": null,
       "font_size": null,
       "font_style": null,
       "font_variant": null,
       "font_weight": null,
       "text_color": null,
       "text_decoration": null
      }
     },
     "958db826ebce498e87c0a9f55f7914b2": {
      "model_module": "@jupyter-widgets/controls",
      "model_module_version": "2.0.0",
      "model_name": "TabModel",
      "state": {
       "children": [
        "IPY_MODEL_d4375ef994c848c98c828c775ccbd450",
        "IPY_MODEL_5b10d7aed82c4f3480a109990da5094a"
       ],
       "layout": "IPY_MODEL_5f231c9974eb49d3b0069d9e54412f22",
       "selected_index": 0,
       "titles": [
        "peak finder",
        "rangging"
       ]
      }
     },
     "95e58bd3048347efa817557a4f392c33": {
      "model_module": "@jupyter-widgets/controls",
      "model_module_version": "2.0.0",
      "model_name": "ButtonModel",
      "state": {
       "description": "remove ion",
       "layout": "IPY_MODEL_b9c96bf52f674a03bbdb76d9199f17ef",
       "style": "IPY_MODEL_4044957e50a749ee9f0f8f778317fa4c",
       "tooltip": null
      }
     },
     "964098dd20d348cbb05d1cf6002454e1": {
      "model_module": "@jupyter-widgets/controls",
      "model_module_version": "2.0.0",
      "model_name": "ButtonStyleModel",
      "state": {
       "font_family": null,
       "font_size": null,
       "font_style": null,
       "font_variant": null,
       "font_weight": null,
       "text_color": null,
       "text_decoration": null
      }
     },
     "965958b78593415ba042bc576637d330": {
      "model_module": "@jupyter-widgets/controls",
      "model_module_version": "2.0.0",
      "model_name": "DescriptionStyleModel",
      "state": {
       "description_width": ""
      }
     },
     "9727b879ed7b43389cb164068caba86e": {
      "model_module": "@jupyter-widgets/base",
      "model_module_version": "2.0.0",
      "model_name": "LayoutModel",
      "state": {}
     },
     "97580b25607e447fa73e5579db84c714": {
      "model_module": "@jupyter-widgets/base",
      "model_module_version": "2.0.0",
      "model_name": "LayoutModel",
      "state": {}
     },
     "99229315b4dd476ebec3316b96efce9a": {
      "model_module": "@jupyter-widgets/base",
      "model_module_version": "2.0.0",
      "model_name": "LayoutModel",
      "state": {}
     },
     "992c9d3db8af4e9bae4fa560031c0265": {
      "model_module": "@jupyter-widgets/controls",
      "model_module_version": "2.0.0",
      "model_name": "ButtonStyleModel",
      "state": {
       "font_family": null,
       "font_size": null,
       "font_style": null,
       "font_variant": null,
       "font_weight": null,
       "text_color": null,
       "text_decoration": null
      }
     },
     "995ca4b920604b4cb09d431a45140b82": {
      "model_module": "@jupyter-widgets/base",
      "model_module_version": "2.0.0",
      "model_name": "LayoutModel",
      "state": {}
     },
     "999305f00c484541a3d9ff3c056be9ae": {
      "model_module": "@jupyter-widgets/controls",
      "model_module_version": "2.0.0",
      "model_name": "HBoxModel",
      "state": {
       "children": [
        "IPY_MODEL_75e9391c34aa474abe4aa944730f74a5",
        "IPY_MODEL_d0a45bef17d448b7b1e498a1efbec953"
       ],
       "layout": "IPY_MODEL_1a7c151a3f594c2785c61f7dfbbb91ca"
      }
     },
     "99feceaa36904b2da8ba764f40b89d05": {
      "model_module": "@jupyter-widgets/base",
      "model_module_version": "2.0.0",
      "model_name": "LayoutModel",
      "state": {}
     },
     "9aa9626e54ed407d8de9c4eafad5d577": {
      "model_module": "@jupyter-widgets/controls",
      "model_module_version": "2.0.0",
      "model_name": "ButtonModel",
      "state": {
       "description": "plot hist",
       "layout": "IPY_MODEL_460d5aa1d2a74b17ac6f992237956ce6",
       "style": "IPY_MODEL_992c9d3db8af4e9bae4fa560031c0265",
       "tooltip": null
      }
     },
     "9b945792e5c947cabd673bd095412f5c": {
      "model_module": "@jupyter-widgets/controls",
      "model_module_version": "2.0.0",
      "model_name": "ButtonModel",
      "state": {
       "description": "remove ion",
       "layout": "IPY_MODEL_dd77f1009a6d47b887a12b9fc84064bd",
       "style": "IPY_MODEL_00996ee925474d85ac1280a25357add3",
       "tooltip": null
      }
     },
     "9bcb9eb3669b451ea18afc40a348039b": {
      "model_module": "@jupyter-widgets/base",
      "model_module_version": "2.0.0",
      "model_name": "LayoutModel",
      "state": {}
     },
     "9bd2d141573b4ebe8d4580c538c65956": {
      "model_module": "@jupyter-widgets/base",
      "model_module_version": "2.0.0",
      "model_name": "LayoutModel",
      "state": {}
     },
     "9be4dc4c74b8458097f8b540f3f6a769": {
      "model_module": "@jupyter-widgets/controls",
      "model_module_version": "2.0.0",
      "model_name": "ButtonModel",
      "state": {
       "description": "previous",
       "layout": "IPY_MODEL_2cc05b727daf4c47ad71de6e04fa88ad",
       "style": "IPY_MODEL_8586de9f180d4cca803edee7f1a9cf8f",
       "tooltip": null
      }
     },
     "9c703827c0fb42968a954cf2b8387513": {
      "model_module": "@jupyter-widgets/base",
      "model_module_version": "2.0.0",
      "model_name": "LayoutModel",
      "state": {}
     },
     "9ca5de94ddcc4e339dca707244b5c72c": {
      "model_module": "@jupyter-widgets/base",
      "model_module_version": "2.0.0",
      "model_name": "LayoutModel",
      "state": {}
     },
     "9cabc3b14da34a5c86f3300c8719a199": {
      "model_module": "@jupyter-widgets/controls",
      "model_module_version": "2.0.0",
      "model_name": "VBoxModel",
      "state": {
       "children": [
        "IPY_MODEL_e7621118ba9840d1aab24b93b09c4458",
        "IPY_MODEL_4cfc9fdded2a40be87b6668c3d1d136d",
        "IPY_MODEL_1a8281ae5a08437fa348c624cf213915",
        "IPY_MODEL_52327b6f50aa4376945c3d91659bddd2",
        "IPY_MODEL_1b956ba6c6414338bb01fe481a912ccb",
        "IPY_MODEL_89668e4b1dc545c8acf21a2d11636cf6",
        "IPY_MODEL_4e6122d39f9e4a03a8d5e8bd320ca533"
       ],
       "layout": "IPY_MODEL_a98efa2c1ebb4e23bf2efb3cd2ca0315"
      }
     },
     "9cbd7f198bf74165bba44220660503fb": {
      "model_module": "@jupyter-widgets/controls",
      "model_module_version": "2.0.0",
      "model_name": "ButtonStyleModel",
      "state": {
       "font_family": null,
       "font_size": null,
       "font_style": null,
       "font_variant": null,
       "font_weight": null,
       "text_color": null,
       "text_decoration": null
      }
     },
     "9cfc3b5bb1e0456f80425bcc8fde3fd4": {
      "model_module": "@jupyter-widgets/controls",
      "model_module_version": "2.0.0",
      "model_name": "VBoxModel",
      "state": {
       "children": [
        "IPY_MODEL_c16de1281604481c9149c95cd0d9dfe3",
        "IPY_MODEL_fc8fcdec390f481193471f9749fde264",
        "IPY_MODEL_6808b793c47c44ffa86742896902c573",
        "IPY_MODEL_9b945792e5c947cabd673bd095412f5c",
        "IPY_MODEL_317671f169634c81a74dd07b2e717b21",
        "IPY_MODEL_e9d06818580d459e838a5504682472ec"
       ],
       "layout": "IPY_MODEL_c8755e142b1a4819947e29074dde1bb5"
      }
     },
     "9d33d9b50a1c4895b6dc463e764603b4": {
      "model_module": "@jupyter-widgets/controls",
      "model_module_version": "2.0.0",
      "model_name": "ButtonStyleModel",
      "state": {
       "font_family": null,
       "font_size": null,
       "font_style": null,
       "font_variant": null,
       "font_weight": null,
       "text_color": null,
       "text_decoration": null
      }
     },
     "9d4b8ed50e0c4bf08e97b60718a8c1cb": {
      "model_module": "@jupyter-widgets/controls",
      "model_module_version": "2.0.0",
      "model_name": "ButtonStyleModel",
      "state": {
       "font_family": null,
       "font_size": null,
       "font_style": null,
       "font_variant": null,
       "font_weight": null,
       "text_color": null,
       "text_decoration": null
      }
     },
     "9d90efe7eff44ba893816f7849be5eb5": {
      "model_module": "@jupyter-widgets/controls",
      "model_module_version": "2.0.0",
      "model_name": "VBoxModel",
      "state": {
       "children": [
        "IPY_MODEL_5d150a0333414b3bb64302681b631ed4",
        "IPY_MODEL_c75ecb4a29ee4bf999beee275f95d75e",
        "IPY_MODEL_0690781e65974f279402c3e690217bcd",
        "IPY_MODEL_d8a0a9519e8046499f487f7d1ae29e08",
        "IPY_MODEL_56e34bc4adc249eea99daa9166d91568"
       ],
       "layout": "IPY_MODEL_81779f7ac9784e378f4282bbee05489d"
      }
     },
     "9da91445412e48d6aacbdb55464687d6": {
      "model_module": "@jupyter-widgets/base",
      "model_module_version": "2.0.0",
      "model_name": "LayoutModel",
      "state": {}
     },
     "9e3329ed5dc94f6e941ec744a0f7309f": {
      "model_module": "@jupyter-widgets/controls",
      "model_module_version": "2.0.0",
      "model_name": "ButtonModel",
      "state": {
       "description": "add all peaks",
       "layout": "IPY_MODEL_a351a7fe7c674f54bbb6d6475e961cd5",
       "style": "IPY_MODEL_174aa214a99f4b8dbce542fc03336967",
       "tooltip": null
      }
     },
     "9e5b3af51fbf4389a92aee7f911a0f58": {
      "model_module": "@jupyter-widgets/base",
      "model_module_version": "2.0.0",
      "model_name": "LayoutModel",
      "state": {}
     },
     "9ed96aebd85b4870abb9db92fd8ed8b0": {
      "model_module": "@jupyter-widgets/base",
      "model_module_version": "2.0.0",
      "model_name": "LayoutModel",
      "state": {}
     },
     "a01a8b0b20e64d2099ad3ae669107b38": {
      "model_module": "@jupyter-widgets/base",
      "model_module_version": "2.0.0",
      "model_name": "LayoutModel",
      "state": {}
     },
     "a0b8d15ad8864383ab4201abbc5309a9": {
      "model_module": "@jupyter-widgets/base",
      "model_module_version": "2.0.0",
      "model_name": "LayoutModel",
      "state": {}
     },
     "a0c34e113aa446968484ce5661172f07": {
      "model_module": "@jupyter-widgets/base",
      "model_module_version": "2.0.0",
      "model_name": "LayoutModel",
      "state": {}
     },
     "a10f6823cd0a4976865e830b31d63c5a": {
      "model_module": "@jupyter-widgets/base",
      "model_module_version": "2.0.0",
      "model_name": "LayoutModel",
      "state": {}
     },
     "a119e74457154b96b8d905e34d334991": {
      "model_module": "@jupyter-widgets/base",
      "model_module_version": "2.0.0",
      "model_name": "LayoutModel",
      "state": {}
     },
     "a139770016094209a7f921a4f1ee6849": {
      "model_module": "@jupyter-widgets/base",
      "model_module_version": "2.0.0",
      "model_name": "LayoutModel",
      "state": {}
     },
     "a1639d586aa940dab6a6332fc1114afd": {
      "model_module": "@jupyter-widgets/controls",
      "model_module_version": "2.0.0",
      "model_name": "TextModel",
      "state": {
       "description": "Isotope formula:",
       "layout": "IPY_MODEL_e33bc09e9d1d4bc9be404e75dc5cde00",
       "placeholder": "Type a formula  {12}C1{16}O2",
       "style": "IPY_MODEL_8ed7f4e0a8a34e119a73f476bcfc91c2",
       "value": "{12}C1{16}O2"
      }
     },
     "a173134a18df43f68b99c7696aee455f": {
      "model_module": "@jupyter-widgets/base",
      "model_module_version": "2.0.0",
      "model_name": "LayoutModel",
      "state": {}
     },
     "a184125c230d4e1d820b3889c50d61c2": {
      "model_module": "@jupyter-widgets/base",
      "model_module_version": "2.0.0",
      "model_name": "LayoutModel",
      "state": {}
     },
     "a1ad216c5c234e5f98c7aefabb487aec": {
      "model_module": "@jupyter-widgets/controls",
      "model_module_version": "2.0.0",
      "model_name": "VBoxModel",
      "state": {
       "children": [
        "IPY_MODEL_c2f7f44d40ba4ad98aeaf8d205553461",
        "IPY_MODEL_22c891d15f1e47d4959fd2b7161c5f41",
        "IPY_MODEL_598200ef5f7e452caeab118e6ff3c34a",
        "IPY_MODEL_4eb500a9928343beb1f49bdfa6ac3338",
        "IPY_MODEL_78a8791e98494f578d67d7d467478167",
        "IPY_MODEL_484a7f6b8cdd4eddab411a00366278e6",
        "IPY_MODEL_50a9b0ea582040fab32b78bfe75ac3be",
        "IPY_MODEL_e19827c19cff4af3a833be4b44cdc7bc",
        "IPY_MODEL_df36d5dc34d14c8d9cb619c35a46021e"
       ],
       "layout": "IPY_MODEL_42acc565f65f436eac22ceafe6eea053"
      }
     },
     "a1aeee90b9a34781a37aa2176c4f575a": {
      "model_module": "@jupyter-widgets/base",
      "model_module_version": "2.0.0",
      "model_name": "LayoutModel",
      "state": {}
     },
     "a1bdeaf54ae64d10bf63fe9dc95423fd": {
      "model_module": "@jupyter-widgets/controls",
      "model_module_version": "2.0.0",
      "model_name": "ButtonModel",
      "state": {
       "description": "start",
       "layout": "IPY_MODEL_f7d9749ed7d54c4bb77ae58348b044b8",
       "style": "IPY_MODEL_028b09315cf1401bb0d4acdde7857d99",
       "tooltip": null
      }
     },
     "a21a4c6a4f384007ab57da0c8c29b449": {
      "model_module": "@jupyter-widgets/base",
      "model_module_version": "2.0.0",
      "model_name": "LayoutModel",
      "state": {}
     },
     "a2458f94cb8f482890770b3a64337b15": {
      "model_module": "@jupyter-widgets/controls",
      "model_module_version": "2.0.0",
      "model_name": "ButtonModel",
      "state": {
       "description": "next",
       "layout": "IPY_MODEL_3eb6dd181e65494f8c5d86367a2ccc5d",
       "style": "IPY_MODEL_3cabe4ef8d84407198584f1ba2be070f",
       "tooltip": null
      }
     },
     "a32f5c7a6c9b48ab8426a0958f5af78a": {
      "model_module": "@jupyter-widgets/controls",
      "model_module_version": "2.0.0",
      "model_name": "ButtonStyleModel",
      "state": {
       "font_family": null,
       "font_size": null,
       "font_style": null,
       "font_variant": null,
       "font_weight": null,
       "text_color": null,
       "text_decoration": null
      }
     },
     "a351a7fe7c674f54bbb6d6475e961cd5": {
      "model_module": "@jupyter-widgets/base",
      "model_module_version": "2.0.0",
      "model_name": "LayoutModel",
      "state": {}
     },
     "a3a04644e7384971b23d8296682a8c9f": {
      "model_module": "@jupyter-widgets/output",
      "model_module_version": "1.0.0",
      "model_name": "OutputModel",
      "state": {
       "layout": "IPY_MODEL_ce57bab7e87546918e19e2e17b965eae",
       "outputs": [
        {
         "ename": "NameError",
         "evalue": "name 'variables' is not defined",
         "output_type": "error",
         "traceback": [
          "\u001b[1;31m---------------------------------------------------------------------------\u001b[0m",
          "\u001b[1;31mNameError\u001b[0m                                 Traceback (most recent call last)",
          "Cell \u001b[1;32mIn[9], line 5\u001b[0m\n\u001b[0;32m      2\u001b[0m display(buttons_layout, output_layout)\n\u001b[0;32m      4\u001b[0m \u001b[38;5;28;01mwith\u001b[39;00m output3:\n\u001b[1;32m----> 5\u001b[0m     display(\u001b[43mvariables\u001b[49m\u001b[38;5;241m.\u001b[39mrange_data)\n",
          "\u001b[1;31mNameError\u001b[0m: name 'variables' is not defined"
         ]
        },
        {
         "ename": "NameError",
         "evalue": "name 'variables' is not defined",
         "output_type": "error",
         "traceback": [
          "\u001b[1;31m---------------------------------------------------------------------------\u001b[0m",
          "\u001b[1;31mNameError\u001b[0m                                 Traceback (most recent call last)",
          "Cell \u001b[1;32mIn[10], line 5\u001b[0m\n\u001b[0;32m      2\u001b[0m display(buttons_layout, output_layout)\n\u001b[0;32m      4\u001b[0m \u001b[38;5;28;01mwith\u001b[39;00m output3:\n\u001b[1;32m----> 5\u001b[0m     display(\u001b[43mvariables\u001b[49m\u001b[38;5;241m.\u001b[39mrange_data)\n",
          "\u001b[1;31mNameError\u001b[0m: name 'variables' is not defined"
         ]
        }
       ]
      }
     },
     "a3c563049a6441eabd11d145b11a2c60": {
      "model_module": "@jupyter-widgets/base",
      "model_module_version": "2.0.0",
      "model_name": "LayoutModel",
      "state": {}
     },
     "a3cd3b49a85a4645b3c375c8f3940a8e": {
      "model_module": "@jupyter-widgets/controls",
      "model_module_version": "2.0.0",
      "model_name": "ButtonStyleModel",
      "state": {
       "font_family": null,
       "font_size": null,
       "font_style": null,
       "font_variant": null,
       "font_weight": null,
       "text_color": null,
       "text_decoration": null
      }
     },
     "a4095bc625424eadba58682f7a899cc8": {
      "model_module": "@jupyter-widgets/base",
      "model_module_version": "2.0.0",
      "model_name": "LayoutModel",
      "state": {}
     },
     "a4858b08dd81469eb5489e9dd1ce0301": {
      "model_module": "@jupyter-widgets/controls",
      "model_module_version": "2.0.0",
      "model_name": "DescriptionStyleModel",
      "state": {
       "description_width": ""
      }
     },
     "a49f1b0fa9cb41cdb3085c3e321443c2": {
      "model_module": "@jupyter-widgets/controls",
      "model_module_version": "2.0.0",
      "model_name": "ButtonStyleModel",
      "state": {
       "font_family": null,
       "font_size": null,
       "font_style": null,
       "font_variant": null,
       "font_weight": null,
       "text_color": null,
       "text_decoration": null
      }
     },
     "a4aee7a4d1f14641bc6fc47640e26965": {
      "model_module": "@jupyter-widgets/controls",
      "model_module_version": "2.0.0",
      "model_name": "ButtonModel",
      "state": {
       "description": "plot element",
       "layout": "IPY_MODEL_e2103fc16f094b468d9e121df84e9c7d",
       "style": "IPY_MODEL_a5b9c4a902a0457e99d1ea7feed84f9f",
       "tooltip": null
      }
     },
     "a57acc2fd92f45cfadfebd88f82a252a": {
      "model_module": "@jupyter-widgets/base",
      "model_module_version": "2.0.0",
      "model_name": "LayoutModel",
      "state": {}
     },
     "a5b9c4a902a0457e99d1ea7feed84f9f": {
      "model_module": "@jupyter-widgets/controls",
      "model_module_version": "2.0.0",
      "model_name": "ButtonStyleModel",
      "state": {
       "font_family": null,
       "font_size": null,
       "font_style": null,
       "font_variant": null,
       "font_weight": null,
       "text_color": null,
       "text_decoration": null
      }
     },
     "a5ba44b28fff40469a345795c3e2dd66": {
      "model_module": "@jupyter-widgets/controls",
      "model_module_version": "2.0.0",
      "model_name": "ButtonStyleModel",
      "state": {
       "font_family": null,
       "font_size": null,
       "font_style": null,
       "font_variant": null,
       "font_weight": null,
       "text_color": null,
       "text_decoration": null
      }
     },
     "a5c2335cd56f4de09f57977b253bc9f8": {
      "model_module": "@jupyter-widgets/controls",
      "model_module_version": "2.0.0",
      "model_name": "ButtonStyleModel",
      "state": {
       "font_family": null,
       "font_size": null,
       "font_style": null,
       "font_variant": null,
       "font_weight": null,
       "text_color": null,
       "text_decoration": null
      }
     },
     "a604d8ca24304e1fa37157b9e36ee428": {
      "model_module": "@jupyter-widgets/base",
      "model_module_version": "2.0.0",
      "model_name": "LayoutModel",
      "state": {}
     },
     "a6690b0ea9d24ac191ea3ab981f1b50d": {
      "model_module": "@jupyter-widgets/base",
      "model_module_version": "2.0.0",
      "model_name": "LayoutModel",
      "state": {}
     },
     "a67c6b9b51a4499eb7ffbad80fc0f66a": {
      "model_module": "@jupyter-widgets/base",
      "model_module_version": "2.0.0",
      "model_name": "LayoutModel",
      "state": {}
     },
     "a6d4b494b9a74327840deb1e5632fe91": {
      "model_module": "@jupyter-widgets/base",
      "model_module_version": "2.0.0",
      "model_name": "LayoutModel",
      "state": {}
     },
     "a7be5f85ef4b4255a049ac55b5d857e1": {
      "model_module": "@jupyter-widgets/base",
      "model_module_version": "2.0.0",
      "model_name": "LayoutModel",
      "state": {}
     },
     "a7f0a09e45fa41068a1912a910890ba6": {
      "model_module": "@jupyter-widgets/base",
      "model_module_version": "2.0.0",
      "model_name": "LayoutModel",
      "state": {}
     },
     "a8036d9ebc35441f9e4183e21d126003": {
      "model_module": "@jupyter-widgets/controls",
      "model_module_version": "2.0.0",
      "model_name": "ButtonStyleModel",
      "state": {
       "font_family": null,
       "font_size": null,
       "font_style": null,
       "font_variant": null,
       "font_weight": null,
       "text_color": null,
       "text_decoration": null
      }
     },
     "a878e6be371b4787adcc9d59bfe006f3": {
      "model_module": "@jupyter-widgets/controls",
      "model_module_version": "2.0.0",
      "model_name": "VBoxModel",
      "state": {
       "children": [
        "IPY_MODEL_c2f7f44d40ba4ad98aeaf8d205553461",
        "IPY_MODEL_22c891d15f1e47d4959fd2b7161c5f41",
        "IPY_MODEL_598200ef5f7e452caeab118e6ff3c34a",
        "IPY_MODEL_4eb500a9928343beb1f49bdfa6ac3338",
        "IPY_MODEL_78a8791e98494f578d67d7d467478167",
        "IPY_MODEL_484a7f6b8cdd4eddab411a00366278e6",
        "IPY_MODEL_50a9b0ea582040fab32b78bfe75ac3be",
        "IPY_MODEL_62c3c6b2c09048a98f8c28b007fc8818",
        "IPY_MODEL_8778b643caab4896ae5a426771281e00"
       ],
       "layout": "IPY_MODEL_99229315b4dd476ebec3316b96efce9a"
      }
     },
     "a893d2eb9336488694641ec8a6402d5f": {
      "model_module": "@jupyter-widgets/output",
      "model_module_version": "1.0.0",
      "model_name": "OutputModel",
      "state": {
       "layout": "IPY_MODEL_a119e74457154b96b8d905e34d334991",
       "outputs": [
        {
         "data": {
          "text/html": "<div>\n<style scoped>\n    .dataframe tbody tr th:only-of-type {\n        vertical-align: middle;\n    }\n\n    .dataframe tbody tr th {\n        vertical-align: top;\n    }\n\n    .dataframe thead th {\n        text-align: right;\n    }\n</style>\n<table border=\"1\" class=\"dataframe\">\n  <thead>\n    <tr style=\"text-align: right;\">\n      <th></th>\n      <th>ion</th>\n      <th>mass</th>\n      <th>mc</th>\n      <th>mc_low</th>\n      <th>mc_up</th>\n      <th>color</th>\n      <th>element</th>\n      <th>complex</th>\n      <th>isotope</th>\n      <th>charge</th>\n    </tr>\n  </thead>\n  <tbody>\n    <tr>\n      <th>0</th>\n      <td>unranged</td>\n      <td>0.0</td>\n      <td>0.0</td>\n      <td>0.0</td>\n      <td>400.0</td>\n      <td>#000000</td>\n      <td>unranged</td>\n      <td>0</td>\n      <td>0</td>\n      <td>0</td>\n    </tr>\n  </tbody>\n</table>\n</div>",
          "text/plain": "        ion  mass   mc  mc_low  mc_up    color   element complex isotope  \\\n0  unranged   0.0  0.0     0.0  400.0  #000000  unranged       0       0   \n\n   charge  \n0       0  "
         },
         "metadata": {},
         "output_type": "display_data"
        }
       ]
      }
     },
     "a8a2219a6106444a893e511cb95a5ecb": {
      "model_module": "@jupyter-widgets/controls",
      "model_module_version": "2.0.0",
      "model_name": "ButtonModel",
      "state": {
       "description": "remove ion",
       "layout": "IPY_MODEL_1a73f91ffe614aaa846ae65aef957fc9",
       "style": "IPY_MODEL_36a3d8c04e9e41eea39b7416c585e2a0",
       "tooltip": null
      }
     },
     "a92c312414454f9cb9d98584a1bfd750": {
      "model_module": "@jupyter-widgets/controls",
      "model_module_version": "2.0.0",
      "model_name": "ButtonModel",
      "state": {
       "description": "add ion",
       "layout": "IPY_MODEL_c7954065f2e84e6dafc4e327b4a0b3d2",
       "style": "IPY_MODEL_4eb4103c31724919ba3ef981728bad47",
       "tooltip": null
      }
     },
     "a98efa2c1ebb4e23bf2efb3cd2ca0315": {
      "model_module": "@jupyter-widgets/base",
      "model_module_version": "2.0.0",
      "model_name": "LayoutModel",
      "state": {}
     },
     "a9d8aaf11ff443bc9dbcd0882dab5674": {
      "model_module": "@jupyter-widgets/controls",
      "model_module_version": "2.0.0",
      "model_name": "DescriptionStyleModel",
      "state": {
       "description_width": ""
      }
     },
     "aa4d36c2ba334ab5bc2386922d17b579": {
      "model_module": "@jupyter-widgets/controls",
      "model_module_version": "2.0.0",
      "model_name": "ButtonStyleModel",
      "state": {
       "font_family": null,
       "font_size": null,
       "font_style": null,
       "font_variant": null,
       "font_weight": null,
       "text_color": null,
       "text_decoration": null
      }
     },
     "aa4e1b3d4ef3463593cd485e20a0119c": {
      "model_module": "@jupyter-widgets/controls",
      "model_module_version": "2.0.0",
      "model_name": "HBoxModel",
      "state": {
       "children": [
        "IPY_MODEL_7b4b49a09b0343a6a6417352a7aa2aac"
       ],
       "layout": "IPY_MODEL_a67c6b9b51a4499eb7ffbad80fc0f66a"
      }
     },
     "aa567cc859084f11843f80f12f9055b9": {
      "model_module": "@jupyter-widgets/base",
      "model_module_version": "2.0.0",
      "model_name": "LayoutModel",
      "state": {}
     },
     "aab09129787b40c8bbe6655f888a58a0": {
      "model_module": "@jupyter-widgets/controls",
      "model_module_version": "2.0.0",
      "model_name": "ButtonStyleModel",
      "state": {
       "font_family": null,
       "font_size": null,
       "font_style": null,
       "font_variant": null,
       "font_weight": null,
       "text_color": null,
       "text_decoration": null
      }
     },
     "aacb6e574c3d4a75bcd0389220c247dc": {
      "model_module": "@jupyter-widgets/base",
      "model_module_version": "2.0.0",
      "model_name": "LayoutModel",
      "state": {}
     },
     "ab24933be6db401b87606d378b893c71": {
      "model_module": "@jupyter-widgets/controls",
      "model_module_version": "2.0.0",
      "model_name": "DescriptionStyleModel",
      "state": {
       "description_width": ""
      }
     },
     "ab2fcc10d34643848b7c6d59b22d11eb": {
      "model_module": "@jupyter-widgets/controls",
      "model_module_version": "2.0.0",
      "model_name": "ButtonStyleModel",
      "state": {
       "font_family": null,
       "font_size": null,
       "font_style": null,
       "font_variant": null,
       "font_weight": null,
       "text_color": null,
       "text_decoration": null
      }
     },
     "ab54fc708d064b36b758e4753a696f3f": {
      "model_module": "@jupyter-widgets/controls",
      "model_module_version": "2.0.0",
      "model_name": "ButtonModel",
      "state": {
       "description": "start",
       "layout": "IPY_MODEL_03ccb8d0673a4d0ca14f3d2c97b3a2cc",
       "style": "IPY_MODEL_6bf419a103164850874bdedafd276459",
       "tooltip": null
      }
     },
     "ab8f933aa455489b9ab9a2605279ca6d": {
      "model_module": "@jupyter-widgets/base",
      "model_module_version": "2.0.0",
      "model_name": "LayoutModel",
      "state": {}
     },
     "ab9a0b3f99cf4375811c3bc52329c3be": {
      "model_module": "@jupyter-widgets/controls",
      "model_module_version": "2.0.0",
      "model_name": "ButtonStyleModel",
      "state": {
       "font_family": null,
       "font_size": null,
       "font_style": null,
       "font_variant": null,
       "font_weight": null,
       "text_color": null,
       "text_decoration": null
      }
     },
     "abdad6a924654d808d165cd26aff294d": {
      "model_module": "@jupyter-widgets/base",
      "model_module_version": "2.0.0",
      "model_name": "LayoutModel",
      "state": {}
     },
     "abf86bcb54024752a545a53c23cb1180": {
      "model_module": "@jupyter-widgets/controls",
      "model_module_version": "2.0.0",
      "model_name": "VBoxModel",
      "state": {
       "children": [
        "IPY_MODEL_d254bb0d05884f46acd5c024dda2b6e3",
        "IPY_MODEL_b489f232d7a74515a801f2230a53ea44"
       ],
       "layout": "IPY_MODEL_7486c2319eb642ab992e155420e7adcc"
      }
     },
     "ac03dc9d333a47b790f2a692fb1d58c6": {
      "model_module": "@jupyter-widgets/base",
      "model_module_version": "2.0.0",
      "model_name": "LayoutModel",
      "state": {}
     },
     "ac3ed4fcdcc742b7a13d95705c525c49": {
      "model_module": "@jupyter-widgets/output",
      "model_module_version": "1.0.0",
      "model_name": "OutputModel",
      "state": {
       "layout": "IPY_MODEL_3d77bc8866af4b8c9f8d14172cd58677",
       "outputs": [
        {
         "name": "stdout",
         "output_type": "stream",
         "text": "Empty DataFrame\nColumns: [ion, mass, element, complex, isotope, charge, abundance]\nIndex: []\n               ion      mass element  complex  isotope  charge  abundance\n0   ${}^{2}H^{2+}$  1.005000       H        1        2       2    0.01500\n1  ${}^{3}He^{3+}$  1.006667      He        1        3       3    0.00014\n2    ${}^{1}H^{+}$  1.010000       H        1        1       1   99.98500\n3  ${}^{4}He^{3+}$  1.333333      He        1        4       3   99.99990\n4  ${}^{3}He^{2+}$  1.510000      He        1        3       2    0.00014\n               ion    mass element  complex  isotope  charge  abundance\n0   ${}^{2}H^{2+}$  1.0050       H      1.0      2.0     2.0   0.000150\n1  ${}^{3}He^{3+}$  1.0067      He      1.0      3.0     3.0   0.000001\n2    ${}^{1}H^{+}$  1.0100       H      1.0      1.0     1.0   0.999850\n3  ${}^{4}He^{3+}$  1.3333      He      1.0      4.0     3.0   0.999999\n4  ${}^{3}He^{2+}$  1.5100      He      1.0      3.0     2.0   0.000001\n"
        },
        {
         "data": {
          "text/html": "<div>\n<style scoped>\n    .dataframe tbody tr th:only-of-type {\n        vertical-align: middle;\n    }\n\n    .dataframe tbody tr th {\n        vertical-align: top;\n    }\n\n    .dataframe thead th {\n        text-align: right;\n    }\n</style>\n<table border=\"1\" class=\"dataframe\">\n  <thead>\n    <tr style=\"text-align: right;\">\n      <th></th>\n      <th>ion</th>\n      <th>mass</th>\n      <th>element</th>\n      <th>complex</th>\n      <th>isotope</th>\n      <th>charge</th>\n      <th>abundance</th>\n    </tr>\n  </thead>\n  <tbody>\n    <tr>\n      <th>0</th>\n      <td>${}^{1}H^{+}$</td>\n      <td>1.0100</td>\n      <td>H</td>\n      <td>1.0</td>\n      <td>1.0</td>\n      <td>1.0</td>\n      <td>0.999850</td>\n    </tr>\n    <tr>\n      <th>1</th>\n      <td>${}^{3}He^{3+}$</td>\n      <td>1.0067</td>\n      <td>He</td>\n      <td>1.0</td>\n      <td>3.0</td>\n      <td>3.0</td>\n      <td>0.000001</td>\n    </tr>\n    <tr>\n      <th>2</th>\n      <td>${}^{2}H^{2+}$</td>\n      <td>1.0050</td>\n      <td>H</td>\n      <td>1.0</td>\n      <td>2.0</td>\n      <td>2.0</td>\n      <td>0.000150</td>\n    </tr>\n    <tr>\n      <th>3</th>\n      <td>${}^{4}He^{3+}$</td>\n      <td>1.3333</td>\n      <td>He</td>\n      <td>1.0</td>\n      <td>4.0</td>\n      <td>3.0</td>\n      <td>0.999999</td>\n    </tr>\n    <tr>\n      <th>4</th>\n      <td>${}^{3}He^{2+}$</td>\n      <td>1.5100</td>\n      <td>He</td>\n      <td>1.0</td>\n      <td>3.0</td>\n      <td>2.0</td>\n      <td>0.000001</td>\n    </tr>\n  </tbody>\n</table>\n</div>",
          "text/plain": "               ion    mass element  complex  isotope  charge  abundance\n0    ${}^{1}H^{+}$  1.0100       H      1.0      1.0     1.0   0.999850\n1  ${}^{3}He^{3+}$  1.0067      He      1.0      3.0     3.0   0.000001\n2   ${}^{2}H^{2+}$  1.0050       H      1.0      2.0     2.0   0.000150\n3  ${}^{4}He^{3+}$  1.3333      He      1.0      4.0     3.0   0.999999\n4  ${}^{3}He^{2+}$  1.5100      He      1.0      3.0     2.0   0.000001"
         },
         "metadata": {},
         "output_type": "display_data"
        }
       ]
      }
     },
     "ada27870ce954e6eaa4c96bac068d4bb": {
      "model_module": "@jupyter-widgets/base",
      "model_module_version": "2.0.0",
      "model_name": "LayoutModel",
      "state": {}
     },
     "adacac4f35284646a289f4a624132c8f": {
      "model_module": "@jupyter-widgets/base",
      "model_module_version": "2.0.0",
      "model_name": "LayoutModel",
      "state": {}
     },
     "adc1980e4c544aa4989f266510272e72": {
      "model_module": "@jupyter-widgets/controls",
      "model_module_version": "2.0.0",
      "model_name": "HBoxModel",
      "state": {
       "children": [
        "IPY_MODEL_4dd8a7ac161d4b47bb5a4822f85a2e92",
        "IPY_MODEL_9e3329ed5dc94f6e941ec744a0f7309f"
       ],
       "layout": "IPY_MODEL_a0c34e113aa446968484ce5661172f07"
      }
     },
     "ae190ef9ca224dad8fcf56c4b8757254": {
      "model_module": "@jupyter-widgets/base",
      "model_module_version": "2.0.0",
      "model_name": "LayoutModel",
      "state": {}
     },
     "ae4a618244524296b0d6c2b4f39ba0fd": {
      "model_module": "@jupyter-widgets/base",
      "model_module_version": "2.0.0",
      "model_name": "LayoutModel",
      "state": {}
     },
     "ae65825be3474e76ad39bbafef8f24e0": {
      "model_module": "@jupyter-widgets/base",
      "model_module_version": "2.0.0",
      "model_name": "LayoutModel",
      "state": {}
     },
     "af0e1031a4494c1b99678c778bd7ba75": {
      "model_module": "@jupyter-widgets/base",
      "model_module_version": "2.0.0",
      "model_name": "LayoutModel",
      "state": {}
     },
     "afb100481fdf4757b7e922d722ec51a0": {
      "model_module": "@jupyter-widgets/controls",
      "model_module_version": "2.0.0",
      "model_name": "VBoxModel",
      "state": {
       "children": [
        "IPY_MODEL_ee29ab96e43245f888bc873abe6cf2f4"
       ],
       "layout": "IPY_MODEL_ab8f933aa455489b9ab9a2605279ca6d"
      }
     },
     "afb4d3bdcf8b479aa055cbf364d39218": {
      "model_module": "@jupyter-widgets/controls",
      "model_module_version": "2.0.0",
      "model_name": "VBoxModel",
      "state": {
       "children": [
        "IPY_MODEL_1de0f88faf6b48c1b612ae7bc0a82d23"
       ],
       "layout": "IPY_MODEL_8b888e8f8860430f98afe267a08c7e94"
      }
     },
     "b066c821f82242e1804dcdf8793ad26d": {
      "model_module": "@jupyter-widgets/base",
      "model_module_version": "2.0.0",
      "model_name": "LayoutModel",
      "state": {}
     },
     "b0972baa316f4fbcb35f6cc644720c6a": {
      "model_module": "@jupyter-widgets/controls",
      "model_module_version": "2.0.0",
      "model_name": "DescriptionStyleModel",
      "state": {
       "description_width": ""
      }
     },
     "b0983d8f419742d587dbd7f3baf0cd0e": {
      "model_module": "@jupyter-widgets/output",
      "model_module_version": "1.0.0",
      "model_name": "OutputModel",
      "state": {
       "layout": "IPY_MODEL_c680d1f8b28d4bfe9743db4734fd3679",
       "outputs": [
        {
         "data": {
          "text/html": "<div>\n<style scoped>\n    .dataframe tbody tr th:only-of-type {\n        vertical-align: middle;\n    }\n\n    .dataframe tbody tr th {\n        vertical-align: top;\n    }\n\n    .dataframe thead th {\n        text-align: right;\n    }\n</style>\n<table border=\"1\" class=\"dataframe\">\n  <thead>\n    <tr style=\"text-align: right;\">\n      <th></th>\n      <th>ion</th>\n      <th>mass</th>\n      <th>mc</th>\n      <th>mc_low</th>\n      <th>mc_up</th>\n      <th>color</th>\n      <th>element</th>\n      <th>complex</th>\n      <th>isotope</th>\n      <th>charge</th>\n    </tr>\n  </thead>\n  <tbody>\n    <tr>\n      <th>0</th>\n      <td>unranged</td>\n      <td>0.0</td>\n      <td>0.0</td>\n      <td>0.0</td>\n      <td>400.0</td>\n      <td>#000000</td>\n      <td>unranged</td>\n      <td>0</td>\n      <td>0</td>\n      <td>0</td>\n    </tr>\n  </tbody>\n</table>\n</div>",
          "text/plain": "        ion  mass   mc  mc_low  mc_up    color   element complex isotope  \\\n0  unranged   0.0  0.0     0.0  400.0  #000000  unranged       0       0   \n\n   charge  \n0       0  "
         },
         "metadata": {},
         "output_type": "display_data"
        }
       ]
      }
     },
     "b0f47ec88a2842e6b5e3efbc23dd7036": {
      "model_module": "@jupyter-widgets/controls",
      "model_module_version": "2.0.0",
      "model_name": "ButtonModel",
      "state": {
       "description": "remove ion",
       "layout": "IPY_MODEL_d8ec1f3892c8427bbd7bb72092ca3202",
       "style": "IPY_MODEL_26ce7ff1fcf24593ac7b4d6e75429478",
       "tooltip": null
      }
     },
     "b1b3fbf7a47f47d0b442b295c0a71f35": {
      "model_module": "@jupyter-widgets/output",
      "model_module_version": "1.0.0",
      "model_name": "OutputModel",
      "state": {
       "layout": "IPY_MODEL_1ec9dbc5a0fa4cc497f85e5e116053ba",
       "outputs": [
        {
         "ename": "NameError",
         "evalue": "name 'variables' is not defined",
         "output_type": "error",
         "traceback": [
          "\u001b[1;31m---------------------------------------------------------------------------\u001b[0m",
          "\u001b[1;31mNameError\u001b[0m                                 Traceback (most recent call last)",
          "Cell \u001b[1;32mIn[5], line 5\u001b[0m\n\u001b[0;32m      2\u001b[0m display(buttons_layout, output_layout)\n\u001b[0;32m      4\u001b[0m \u001b[38;5;28;01mwith\u001b[39;00m output3:\n\u001b[1;32m----> 5\u001b[0m     display(\u001b[43mvariables\u001b[49m\u001b[38;5;241m.\u001b[39mrange_data)\n",
          "\u001b[1;31mNameError\u001b[0m: name 'variables' is not defined"
         ]
        }
       ]
      }
     },
     "b1d8615079ba417b945071e73a9af8f4": {
      "model_module": "@jupyter-widgets/controls",
      "model_module_version": "2.0.0",
      "model_name": "ButtonStyleModel",
      "state": {
       "font_family": null,
       "font_size": null,
       "font_style": null,
       "font_variant": null,
       "font_weight": null,
       "text_color": null,
       "text_decoration": null
      }
     },
     "b208515147cb48d3889e9d36e84f4af0": {
      "model_module": "@jupyter-widgets/base",
      "model_module_version": "2.0.0",
      "model_name": "LayoutModel",
      "state": {}
     },
     "b2148a8d068541d1a32817a553c80c1b": {
      "model_module": "@jupyter-widgets/controls",
      "model_module_version": "2.0.0",
      "model_name": "ButtonModel",
      "state": {
       "description": "show color",
       "layout": "IPY_MODEL_6742bb9a10b24670badbf7a1beb02d18",
       "style": "IPY_MODEL_0f807d6d092744a1a24946e84d236301",
       "tooltip": null
      }
     },
     "b2a58b17e24e471880f6875c1b761b3e": {
      "model_module": "@jupyter-widgets/base",
      "model_module_version": "2.0.0",
      "model_name": "LayoutModel",
      "state": {}
     },
     "b3dd52c3f7ec49cfa72f0ed0cc91ca17": {
      "model_module": "@jupyter-widgets/base",
      "model_module_version": "2.0.0",
      "model_name": "LayoutModel",
      "state": {}
     },
     "b3e7536d49c942e3ac35b524441726ce": {
      "model_module": "@jupyter-widgets/base",
      "model_module_version": "2.0.0",
      "model_name": "LayoutModel",
      "state": {}
     },
     "b4340395d77d48a894b6b28de605b402": {
      "model_module": "@jupyter-widgets/base",
      "model_module_version": "2.0.0",
      "model_name": "LayoutModel",
      "state": {}
     },
     "b46280a1f0aa46e6897b70d7edc36228": {
      "model_module": "@jupyter-widgets/controls",
      "model_module_version": "2.0.0",
      "model_name": "VBoxModel",
      "state": {
       "children": [
        "IPY_MODEL_e7621118ba9840d1aab24b93b09c4458",
        "IPY_MODEL_4cfc9fdded2a40be87b6668c3d1d136d",
        "IPY_MODEL_1a8281ae5a08437fa348c624cf213915",
        "IPY_MODEL_52327b6f50aa4376945c3d91659bddd2",
        "IPY_MODEL_1b956ba6c6414338bb01fe481a912ccb",
        "IPY_MODEL_89668e4b1dc545c8acf21a2d11636cf6",
        "IPY_MODEL_22c267eb22ca4ff880853f196b09a8af",
        "IPY_MODEL_7183aaace3804e77be322709ec20a5ed"
       ],
       "layout": "IPY_MODEL_445f0f1ef2684938ab7d9bf23fef1427"
      }
     },
     "b489f232d7a74515a801f2230a53ea44": {
      "model_module": "@jupyter-widgets/output",
      "model_module_version": "1.0.0",
      "model_name": "OutputModel",
      "state": {
       "layout": "IPY_MODEL_70ca74f547ec4ed9a744bdd7067f901b",
       "outputs": [
        {
         "name": "stdout",
         "output_type": "stream",
         "text": "                             ion                  mass element complex  \\\n0  $({}^{12}C{}^{16}O_{2})^{3+}$  [14.663333333333332]  [C, O]  [1, 2]   \n\n    isotope  charge  abundance  \n0  [12, 16]       3   0.984198  \n"
        },
        {
         "ename": "TypeError",
         "evalue": "loop of ufunc does not support argument 0 of type numpy.ndarray which has no callable rint method",
         "output_type": "error",
         "traceback": [
          "\u001b[1;31m---------------------------------------------------------------------------\u001b[0m",
          "\u001b[1;31mAttributeError\u001b[0m                            Traceback (most recent call last)",
          "\u001b[1;31mAttributeError\u001b[0m: 'numpy.ndarray' object has no attribute 'rint'",
          "\nThe above exception was the direct cause of the following exception:\n",
          "\u001b[1;31mTypeError\u001b[0m                                 Traceback (most recent call last)",
          "Cell \u001b[1;32mIn[23], line 76\u001b[0m, in \u001b[0;36mmanual_formula\u001b[1;34m(b)\u001b[0m\n\u001b[0;32m     74\u001b[0m     \u001b[38;5;28mprint\u001b[39m(\u001b[38;5;124m\"\u001b[39m\u001b[38;5;124mInput is empty. Type the formula.\u001b[39m\u001b[38;5;124m\"\u001b[39m)\n\u001b[0;32m     75\u001b[0m \u001b[38;5;28;01melse\u001b[39;00m:\n\u001b[1;32m---> 76\u001b[0m     df \u001b[38;5;241m=\u001b[39m \u001b[43mion_selection\u001b[49m\u001b[38;5;241;43m.\u001b[39;49m\u001b[43mmolecule_manual\u001b[49m\u001b[43m(\u001b[49m\u001b[43mformula_m\u001b[49m\u001b[38;5;241;43m.\u001b[39;49m\u001b[43mvalue\u001b[49m\u001b[43m,\u001b[49m\u001b[43m \u001b[49m\u001b[43mmolecule_charge\u001b[49m\u001b[38;5;241;43m.\u001b[39;49m\u001b[43mvalue\u001b[49m\u001b[43m,\u001b[49m\u001b[43m \u001b[49m\u001b[43mlatex\u001b[49m\u001b[38;5;241;43m=\u001b[39;49m\u001b[38;5;28;43;01mTrue\u001b[39;49;00m\u001b[43m,\u001b[49m\u001b[43m \u001b[49m\u001b[43mvariables\u001b[49m\u001b[38;5;241;43m=\u001b[39;49m\u001b[43mvariables\u001b[49m\u001b[43m)\u001b[49m\n\u001b[0;32m     77\u001b[0m     clear_output(\u001b[38;5;28;01mTrue\u001b[39;00m)\n\u001b[0;32m     78\u001b[0m     display(df)\n",
          "File \u001b[1;32md:\\pyccapt\\pyccapt\\calibration\\calibration_tools\\ion_selection.py:363\u001b[0m, in \u001b[0;36mmolecule_manual\u001b[1;34m(target_element, charge, latex, variables)\u001b[0m\n\u001b[0;32m    361\u001b[0m \u001b[38;5;66;03m# Round the abundance column to 4 decimal places\u001b[39;00m\n\u001b[0;32m    362\u001b[0m df[\u001b[38;5;124m'\u001b[39m\u001b[38;5;124mabundance\u001b[39m\u001b[38;5;124m'\u001b[39m] \u001b[38;5;241m=\u001b[39m df[\u001b[38;5;124m'\u001b[39m\u001b[38;5;124mabundance\u001b[39m\u001b[38;5;124m'\u001b[39m]\u001b[38;5;241m.\u001b[39mround(\u001b[38;5;241m4\u001b[39m)\n\u001b[1;32m--> 363\u001b[0m df[\u001b[38;5;124m'\u001b[39m\u001b[38;5;124mmass\u001b[39m\u001b[38;5;124m'\u001b[39m] \u001b[38;5;241m=\u001b[39m \u001b[43mdf\u001b[49m\u001b[43m[\u001b[49m\u001b[38;5;124;43m'\u001b[39;49m\u001b[38;5;124;43mmass\u001b[39;49m\u001b[38;5;124;43m'\u001b[39;49m\u001b[43m]\u001b[49m\u001b[38;5;241;43m.\u001b[39;49m\u001b[43mround\u001b[49m\u001b[43m(\u001b[49m\u001b[38;5;241;43m4\u001b[39;49m\u001b[43m)\u001b[49m\n\u001b[0;32m    365\u001b[0m \u001b[38;5;28;01mif\u001b[39;00m variables \u001b[38;5;129;01mis\u001b[39;00m \u001b[38;5;129;01mnot\u001b[39;00m \u001b[38;5;28;01mNone\u001b[39;00m:\n\u001b[0;32m    366\u001b[0m     variables\u001b[38;5;241m.\u001b[39mrange_data_backup \u001b[38;5;241m=\u001b[39m df\u001b[38;5;241m.\u001b[39mcopy()\n",
          "File \u001b[1;32m~\\.conda\\envs\\oxcart5\\lib\\site-packages\\pandas\\core\\series.py:2602\u001b[0m, in \u001b[0;36mSeries.round\u001b[1;34m(self, decimals, *args, **kwargs)\u001b[0m\n\u001b[0;32m   2570\u001b[0m \u001b[38;5;250m\u001b[39m\u001b[38;5;124;03m\"\"\"\u001b[39;00m\n\u001b[0;32m   2571\u001b[0m \u001b[38;5;124;03mRound each value in a Series to the given number of decimals.\u001b[39;00m\n\u001b[0;32m   2572\u001b[0m \n\u001b[1;32m   (...)\u001b[0m\n\u001b[0;32m   2599\u001b[0m \u001b[38;5;124;03mdtype: float64\u001b[39;00m\n\u001b[0;32m   2600\u001b[0m \u001b[38;5;124;03m\"\"\"\u001b[39;00m\n\u001b[0;32m   2601\u001b[0m nv\u001b[38;5;241m.\u001b[39mvalidate_round(args, kwargs)\n\u001b[1;32m-> 2602\u001b[0m result \u001b[38;5;241m=\u001b[39m \u001b[38;5;28;43mself\u001b[39;49m\u001b[38;5;241;43m.\u001b[39;49m\u001b[43m_values\u001b[49m\u001b[38;5;241;43m.\u001b[39;49m\u001b[43mround\u001b[49m\u001b[43m(\u001b[49m\u001b[43mdecimals\u001b[49m\u001b[43m)\u001b[49m\n\u001b[0;32m   2603\u001b[0m result \u001b[38;5;241m=\u001b[39m \u001b[38;5;28mself\u001b[39m\u001b[38;5;241m.\u001b[39m_constructor(result, index\u001b[38;5;241m=\u001b[39m\u001b[38;5;28mself\u001b[39m\u001b[38;5;241m.\u001b[39mindex)\u001b[38;5;241m.\u001b[39m__finalize__(\n\u001b[0;32m   2604\u001b[0m     \u001b[38;5;28mself\u001b[39m, method\u001b[38;5;241m=\u001b[39m\u001b[38;5;124m\"\u001b[39m\u001b[38;5;124mround\u001b[39m\u001b[38;5;124m\"\u001b[39m\n\u001b[0;32m   2605\u001b[0m )\n\u001b[0;32m   2607\u001b[0m \u001b[38;5;28;01mreturn\u001b[39;00m result\n",
          "\u001b[1;31mTypeError\u001b[0m: loop of ufunc does not support argument 0 of type numpy.ndarray which has no callable rint method"
         ]
        }
       ]
      }
     },
     "b49efc46ca50440594aa87aa090a908a": {
      "model_module": "@jupyter-widgets/controls",
      "model_module_version": "2.0.0",
      "model_name": "HBoxModel",
      "state": {
       "children": [
        "IPY_MODEL_de8449041e3d435898e7c12df3c9a3cd"
       ],
       "layout": "IPY_MODEL_739f48178de640d3b0ff2fb80177d9ed"
      }
     },
     "b51a1881debf4b5cb4c92ee1e5529c26": {
      "model_module": "@jupyter-widgets/controls",
      "model_module_version": "2.0.0",
      "model_name": "ButtonModel",
      "state": {
       "description": "previous",
       "layout": "IPY_MODEL_30768d1b3a6e439f8a63963e420811f2",
       "style": "IPY_MODEL_94c3f529e38c4dce9c59aed906ac29ae",
       "tooltip": null
      }
     },
     "b542bcdbd3374f30abdc464f063974e2": {
      "model_module": "@jupyter-widgets/base",
      "model_module_version": "2.0.0",
      "model_name": "LayoutModel",
      "state": {}
     },
     "b5579ea515884af2a34d2510efeefe73": {
      "model_module": "@jupyter-widgets/controls",
      "model_module_version": "2.0.0",
      "model_name": "ButtonModel",
      "state": {
       "description": "reset zoom",
       "layout": "IPY_MODEL_9ed96aebd85b4870abb9db92fd8ed8b0",
       "style": "IPY_MODEL_a5c2335cd56f4de09f57977b253bc9f8",
       "tooltip": null
      }
     },
     "b611c772c41e4fe1b4f0d7e20946b3c0": {
      "model_module": "@jupyter-widgets/controls",
      "model_module_version": "2.0.0",
      "model_name": "ButtonModel",
      "state": {
       "description": "plot hist",
       "layout": "IPY_MODEL_00120ca3f30f4e2eade57828853b0141",
       "style": "IPY_MODEL_d79ba1c440d14682930b87d116f30e14",
       "tooltip": null
      }
     },
     "b62dbf5517914eb49a7bac77c9f39411": {
      "model_module": "@jupyter-widgets/base",
      "model_module_version": "2.0.0",
      "model_name": "LayoutModel",
      "state": {}
     },
     "b65c45289d40419a9d6cc6a990126ced": {
      "model_module": "@jupyter-widgets/controls",
      "model_module_version": "2.0.0",
      "model_name": "DropdownModel",
      "state": {
       "_options_labels": [
        "1",
        "2",
        "3",
        "4",
        "5",
        "6"
       ],
       "description": "charge:",
       "index": 2,
       "layout": "IPY_MODEL_95021fba24764a55a89e68bfd9a9e462",
       "style": "IPY_MODEL_609f0ece6e924a9ebeab3dd29f1a4958"
      }
     },
     "b686c4dd094545c2b87b3ac3ecedaa5c": {
      "model_module": "@jupyter-widgets/controls",
      "model_module_version": "2.0.0",
      "model_name": "ButtonStyleModel",
      "state": {
       "font_family": null,
       "font_size": null,
       "font_style": null,
       "font_variant": null,
       "font_weight": null,
       "text_color": null,
       "text_decoration": null
      }
     },
     "b698c32f356b4180aecb1a94e30918e7": {
      "model_module": "@jupyter-widgets/controls",
      "model_module_version": "2.0.0",
      "model_name": "ButtonStyleModel",
      "state": {
       "font_family": null,
       "font_size": null,
       "font_style": null,
       "font_variant": null,
       "font_weight": null,
       "text_color": null,
       "text_decoration": null
      }
     },
     "b6bc9e2aa57f45ca833c26fb3c40ad65": {
      "model_module": "@jupyter-widgets/controls",
      "model_module_version": "2.0.0",
      "model_name": "ButtonModel",
      "state": {
       "description": "plot hist",
       "layout": "IPY_MODEL_685dc675e84b49c3980bd6f189bccc23",
       "style": "IPY_MODEL_cfd1a6da8c1f48329b180e41eddc279c",
       "tooltip": null
      }
     },
     "b710e21adfdf4fdf917445dd98a1e237": {
      "model_module": "@jupyter-widgets/controls",
      "model_module_version": "2.0.0",
      "model_name": "TabModel",
      "state": {
       "children": [
        "IPY_MODEL_146254066b2e4c0db83ff61905c951d9"
       ],
       "layout": "IPY_MODEL_8550ff1a6cae4584b7b9e643b7eaaeff",
       "selected_index": 0,
       "titles": [
        "element finder"
       ]
      }
     },
     "b7909b25acee4ab38813547ecd3219fc": {
      "model_module": "@jupyter-widgets/base",
      "model_module_version": "2.0.0",
      "model_name": "LayoutModel",
      "state": {}
     },
     "b79a0d9fa32e482f91af6827c96a158c": {
      "model_module": "@jupyter-widgets/controls",
      "model_module_version": "2.0.0",
      "model_name": "ButtonModel",
      "state": {
       "description": "find element",
       "layout": "IPY_MODEL_01a4237b3f5046289603a7ff370bc47e",
       "style": "IPY_MODEL_5b3288b2aead44b3b3dc4725025673e0",
       "tooltip": null
      }
     },
     "b7e864db99804b91967aedd0494cff1a": {
      "model_module": "@jupyter-widgets/controls",
      "model_module_version": "2.0.0",
      "model_name": "HBoxModel",
      "state": {
       "children": [
        "IPY_MODEL_73dd3a9180cc4659962905b070426dc1",
        "IPY_MODEL_2ff139eaaefc4a49ae62cf15e0361242"
       ],
       "layout": "IPY_MODEL_898afc130f8e4815bc3d0f6c4af8ddd7"
      }
     },
     "b88cea7fa7a2469591713a231eabe5e2": {
      "model_module": "@jupyter-widgets/controls",
      "model_module_version": "2.0.0",
      "model_name": "HBoxModel",
      "state": {
       "children": [
        "IPY_MODEL_22ce0026493547bf929a7f4cf0683a1b"
       ],
       "layout": "IPY_MODEL_1fe894078625453fb37755fb504c9a5c"
      }
     },
     "b92a0a30566a4225b2c5a2fdb4a50d17": {
      "model_module": "@jupyter-widgets/controls",
      "model_module_version": "2.0.0",
      "model_name": "ButtonModel",
      "state": {
       "description": "show color",
       "layout": "IPY_MODEL_9727b879ed7b43389cb164068caba86e",
       "style": "IPY_MODEL_ba603e7b821e4fdbbf434fa310751b1f",
       "tooltip": null
      }
     },
     "b93f2a1553484f3cb9d5e02b69bbbc6d": {
      "model_module": "@jupyter-widgets/controls",
      "model_module_version": "2.0.0",
      "model_name": "VBoxModel",
      "state": {
       "children": [
        "IPY_MODEL_8708b24ea0d44d6daf9e696aa076c0ae",
        "IPY_MODEL_7065b4c86c9b414c86bcb8e3f9f0df71",
        "IPY_MODEL_4e97035741d64f02b6d61b74ca6c5e89",
        "IPY_MODEL_b0f47ec88a2842e6b5e3efbc23dd7036",
        "IPY_MODEL_120a516206af44ada5c9662d9172b161",
        "IPY_MODEL_1d49fd073c1e459bb293914a8bd2d577"
       ],
       "layout": "IPY_MODEL_f21d29153b554a26b2bcea1f0bd59d5d"
      }
     },
     "b949a26ae95449beb4eac3320c50cda9": {
      "model_module": "@jupyter-widgets/base",
      "model_module_version": "2.0.0",
      "model_name": "LayoutModel",
      "state": {}
     },
     "b97230328fa745ddbca463be56cd8dc3": {
      "model_module": "@jupyter-widgets/controls",
      "model_module_version": "2.0.0",
      "model_name": "ButtonModel",
      "state": {
       "description": "next",
       "layout": "IPY_MODEL_b3dd52c3f7ec49cfa72f0ed0cc91ca17",
       "style": "IPY_MODEL_35ee3e6cf500414c82f712be32b5ecd7",
       "tooltip": null
      }
     },
     "b9a436082c7c429ea48fe2b4e3a6633a": {
      "model_module": "@jupyter-widgets/base",
      "model_module_version": "2.0.0",
      "model_name": "LayoutModel",
      "state": {}
     },
     "b9c96bf52f674a03bbdb76d9199f17ef": {
      "model_module": "@jupyter-widgets/base",
      "model_module_version": "2.0.0",
      "model_name": "LayoutModel",
      "state": {}
     },
     "ba1864e3798040078e34abd768516f07": {
      "model_module": "@jupyter-widgets/base",
      "model_module_version": "2.0.0",
      "model_name": "LayoutModel",
      "state": {}
     },
     "ba27e40ed6a84d85a1b1f39158d58812": {
      "model_module": "@jupyter-widgets/base",
      "model_module_version": "2.0.0",
      "model_name": "LayoutModel",
      "state": {}
     },
     "ba5bc0b60fd34c38b8c58534a93bf951": {
      "model_module": "@jupyter-widgets/controls",
      "model_module_version": "2.0.0",
      "model_name": "TabModel",
      "state": {
       "children": [
        "IPY_MODEL_8a153e8f32a844af88633c6028991930",
        "IPY_MODEL_dd50592c8e6a455689b4a4f5293aac77"
       ],
       "layout": "IPY_MODEL_a0b8d15ad8864383ab4201abbc5309a9",
       "selected_index": 0,
       "titles": [
        "peak finder",
        "rangging"
       ]
      }
     },
     "ba603e7b821e4fdbbf434fa310751b1f": {
      "model_module": "@jupyter-widgets/controls",
      "model_module_version": "2.0.0",
      "model_name": "ButtonStyleModel",
      "state": {
       "font_family": null,
       "font_size": null,
       "font_style": null,
       "font_variant": null,
       "font_weight": null,
       "text_color": null,
       "text_decoration": null
      }
     },
     "bacd506cc0dc465289c7ca77ad4164ef": {
      "model_module": "@jupyter-widgets/controls",
      "model_module_version": "2.0.0",
      "model_name": "VBoxModel",
      "state": {
       "children": [
        "IPY_MODEL_e7621118ba9840d1aab24b93b09c4458",
        "IPY_MODEL_4cfc9fdded2a40be87b6668c3d1d136d",
        "IPY_MODEL_1a8281ae5a08437fa348c624cf213915",
        "IPY_MODEL_52327b6f50aa4376945c3d91659bddd2",
        "IPY_MODEL_1b956ba6c6414338bb01fe481a912ccb",
        "IPY_MODEL_89668e4b1dc545c8acf21a2d11636cf6",
        "IPY_MODEL_cef3afe8282c4797857479465a0aaa59"
       ],
       "layout": "IPY_MODEL_0d72982a322d455c9d65fa3861dd3d2c"
      }
     },
     "bae245ae04fc46a3a7bea8238767711e": {
      "model_module": "@jupyter-widgets/controls",
      "model_module_version": "2.0.0",
      "model_name": "ButtonModel",
      "state": {
       "description": "start",
       "layout": "IPY_MODEL_a4095bc625424eadba58682f7a899cc8",
       "style": "IPY_MODEL_13c482a087d04656838e5d9158ec383e",
       "tooltip": null
      }
     },
     "bb13196bc59b470c8ecb926d034e8f9d": {
      "model_module": "@jupyter-widgets/controls",
      "model_module_version": "2.0.0",
      "model_name": "ButtonStyleModel",
      "state": {
       "font_family": null,
       "font_size": null,
       "font_style": null,
       "font_variant": null,
       "font_weight": null,
       "text_color": null,
       "text_decoration": null
      }
     },
     "bb69bdaf277741119064b695aaf307e8": {
      "model_module": "@jupyter-widgets/base",
      "model_module_version": "2.0.0",
      "model_name": "LayoutModel",
      "state": {}
     },
     "bb72cd6fdedb44e4832cbbab9d974c09": {
      "model_module": "@jupyter-widgets/base",
      "model_module_version": "2.0.0",
      "model_name": "LayoutModel",
      "state": {}
     },
     "bbbc8d6fc4364bdabe24fa7c2f3e607c": {
      "model_module": "@jupyter-widgets/base",
      "model_module_version": "2.0.0",
      "model_name": "LayoutModel",
      "state": {}
     },
     "bc310a5c202343c78d8b9663317a5fa6": {
      "model_module": "@jupyter-widgets/base",
      "model_module_version": "2.0.0",
      "model_name": "LayoutModel",
      "state": {}
     },
     "bc512e57571a424a8da2d568d954f592": {
      "model_module": "@jupyter-widgets/controls",
      "model_module_version": "2.0.0",
      "model_name": "ButtonStyleModel",
      "state": {
       "font_family": null,
       "font_size": null,
       "font_style": null,
       "font_variant": null,
       "font_weight": null,
       "text_color": null,
       "text_decoration": null
      }
     },
     "bc6e2fa0325e4fd78ad7ce10e7099372": {
      "model_module": "@jupyter-widgets/base",
      "model_module_version": "2.0.0",
      "model_name": "LayoutModel",
      "state": {}
     },
     "bc76896a17ff4ce29b107200d3a05cc5": {
      "model_module": "@jupyter-widgets/controls",
      "model_module_version": "2.0.0",
      "model_name": "ButtonStyleModel",
      "state": {
       "font_family": null,
       "font_size": null,
       "font_style": null,
       "font_variant": null,
       "font_weight": null,
       "text_color": null,
       "text_decoration": null
      }
     },
     "bca7f4b8ae5a4ef78608d515456e679e": {
      "model_module": "@jupyter-widgets/controls",
      "model_module_version": "2.0.0",
      "model_name": "ButtonStyleModel",
      "state": {
       "font_family": null,
       "font_size": null,
       "font_style": null,
       "font_variant": null,
       "font_weight": null,
       "text_color": null,
       "text_decoration": null
      }
     },
     "bcf295f2717f473d98524431266235c2": {
      "model_module": "@jupyter-widgets/controls",
      "model_module_version": "2.0.0",
      "model_name": "HBoxModel",
      "state": {
       "children": [
        "IPY_MODEL_1a2023b3a0024a61bd8edb690580329a",
        "IPY_MODEL_6f3ae4c71a39470297c63c4578a9a162"
       ],
       "layout": "IPY_MODEL_36a1cb4b5e1244aab9645a4d45b4be57"
      }
     },
     "bd05da0054134fc7b304b7c3701d492c": {
      "model_module": "@jupyter-widgets/base",
      "model_module_version": "2.0.0",
      "model_name": "LayoutModel",
      "state": {}
     },
     "bd1ea4e1d5f74f8c8f058a4f12522f63": {
      "model_module": "@jupyter-widgets/base",
      "model_module_version": "2.0.0",
      "model_name": "LayoutModel",
      "state": {}
     },
     "bd28d5a72b0d4ab09b00208eb509653d": {
      "model_module": "@jupyter-widgets/controls",
      "model_module_version": "2.0.0",
      "model_name": "ButtonModel",
      "state": {
       "description": "plot hist",
       "layout": "IPY_MODEL_a01a8b0b20e64d2099ad3ae669107b38",
       "style": "IPY_MODEL_30e0d79203df4cdcb1a07b13307ea7dc",
       "tooltip": null
      }
     },
     "bd3fb5a770d64d3286d6b38af80a6f84": {
      "model_module": "@jupyter-widgets/controls",
      "model_module_version": "2.0.0",
      "model_name": "DescriptionStyleModel",
      "state": {
       "description_width": ""
      }
     },
     "bd443cc0e4a744ffb6348883ae374c1d": {
      "model_module": "@jupyter-widgets/base",
      "model_module_version": "2.0.0",
      "model_name": "LayoutModel",
      "state": {}
     },
     "bd51d79b100647c18aea917e67c253d2": {
      "model_module": "@jupyter-widgets/base",
      "model_module_version": "2.0.0",
      "model_name": "LayoutModel",
      "state": {}
     },
     "bd526eb43b084731aa96c0caa16e237e": {
      "model_module": "@jupyter-widgets/base",
      "model_module_version": "2.0.0",
      "model_name": "LayoutModel",
      "state": {}
     },
     "bdc6947fe71046ac8b9a36de2c030a54": {
      "model_module": "@jupyter-widgets/base",
      "model_module_version": "2.0.0",
      "model_name": "LayoutModel",
      "state": {}
     },
     "be0ac562480c49919d70bce991167e87": {
      "model_module": "@jupyter-widgets/base",
      "model_module_version": "2.0.0",
      "model_name": "LayoutModel",
      "state": {}
     },
     "be50aeef4a0c4552a1de04af1cfa2475": {
      "model_module": "@jupyter-widgets/base",
      "model_module_version": "2.0.0",
      "model_name": "LayoutModel",
      "state": {}
     },
     "be522c4eed1f4ac280c09afdb9fba860": {
      "model_module": "@jupyter-widgets/output",
      "model_module_version": "1.0.0",
      "model_name": "OutputModel",
      "state": {
       "layout": "IPY_MODEL_7e67e1ae1a2b45b7a905552825b0012c",
       "outputs": [
        {
         "data": {
          "text/html": "<div>\n<style scoped>\n    .dataframe tbody tr th:only-of-type {\n        vertical-align: middle;\n    }\n\n    .dataframe tbody tr th {\n        vertical-align: top;\n    }\n\n    .dataframe thead th {\n        text-align: right;\n    }\n</style>\n<table border=\"1\" class=\"dataframe\">\n  <thead>\n    <tr style=\"text-align: right;\">\n      <th></th>\n      <th>ion</th>\n      <th>mass</th>\n      <th>mc</th>\n      <th>mc_low</th>\n      <th>mc_up</th>\n      <th>color</th>\n      <th>element</th>\n      <th>complex</th>\n      <th>isotope</th>\n      <th>charge</th>\n    </tr>\n  </thead>\n  <tbody>\n    <tr>\n      <th>0</th>\n      <td>unranged</td>\n      <td>0.0</td>\n      <td>0.0</td>\n      <td>0.0</td>\n      <td>400.0</td>\n      <td>#000000</td>\n      <td>unranged</td>\n      <td>0</td>\n      <td>0</td>\n      <td>0</td>\n    </tr>\n  </tbody>\n</table>\n</div>",
          "text/plain": "        ion  mass   mc  mc_low  mc_up    color   element complex isotope  \\\n0  unranged   0.0  0.0     0.0  400.0  #000000  unranged       0       0   \n\n   charge  \n0       0  "
         },
         "metadata": {},
         "output_type": "display_data"
        },
        {
         "data": {
          "text/html": "<div>\n<style scoped>\n    .dataframe tbody tr th:only-of-type {\n        vertical-align: middle;\n    }\n\n    .dataframe tbody tr th {\n        vertical-align: top;\n    }\n\n    .dataframe thead th {\n        text-align: right;\n    }\n</style>\n<table border=\"1\" class=\"dataframe\">\n  <thead>\n    <tr style=\"text-align: right;\">\n      <th></th>\n      <th>ion</th>\n      <th>mass</th>\n      <th>mc</th>\n      <th>mc_low</th>\n      <th>mc_up</th>\n      <th>color</th>\n      <th>element</th>\n      <th>complex</th>\n      <th>isotope</th>\n      <th>charge</th>\n    </tr>\n  </thead>\n  <tbody>\n    <tr>\n      <th>0</th>\n      <td>unranged</td>\n      <td>0.0</td>\n      <td>0.0</td>\n      <td>0.0</td>\n      <td>400.0</td>\n      <td>#000000</td>\n      <td>unranged</td>\n      <td>0</td>\n      <td>0</td>\n      <td>0</td>\n    </tr>\n  </tbody>\n</table>\n</div>",
          "text/plain": "        ion  mass   mc  mc_low  mc_up    color   element complex isotope  \\\n0  unranged   0.0  0.0     0.0  400.0  #000000  unranged       0       0   \n\n   charge  \n0       0  "
         },
         "metadata": {},
         "output_type": "display_data"
        }
       ]
      }
     },
     "be772a0c68f44928b87f56e752b9d6f5": {
      "model_module": "@jupyter-widgets/controls",
      "model_module_version": "2.0.0",
      "model_name": "VBoxModel",
      "state": {
       "children": [
        "IPY_MODEL_1c12ce8b50f74b028b055bfc144a0e6d",
        "IPY_MODEL_029a09855e914f5f9570af65b05dbc92",
        "IPY_MODEL_24525d83a7a540f9964798fa3164cb9d",
        "IPY_MODEL_6aa51a5813284df6b090eeb734254738",
        "IPY_MODEL_ec2e9caef23c425aaad9a678c47913e1",
        "IPY_MODEL_e15d60c1c23941349aa05afea20e62d3"
       ],
       "layout": "IPY_MODEL_99feceaa36904b2da8ba764f40b89d05"
      }
     },
     "be9bade0435e4e3f9c023956b4e79c78": {
      "model_module": "@jupyter-widgets/controls",
      "model_module_version": "2.0.0",
      "model_name": "VBoxModel",
      "state": {
       "children": [
        "IPY_MODEL_a1639d586aa940dab6a6332fc1114afd",
        "IPY_MODEL_b65c45289d40419a9d6cc6a990126ced",
        "IPY_MODEL_2a03e6f9020f4d829228dd224209a261"
       ],
       "layout": "IPY_MODEL_4c19a24122ac4feebed83eb110ff4942"
      }
     },
     "bedeebfba68d481e96f8f95f4648bd9d": {
      "model_module": "@jupyter-widgets/base",
      "model_module_version": "2.0.0",
      "model_name": "LayoutModel",
      "state": {}
     },
     "c01d83949b534ef98f85715413dbf1cd": {
      "model_module": "@jupyter-widgets/base",
      "model_module_version": "2.0.0",
      "model_name": "LayoutModel",
      "state": {}
     },
     "c0a04cb9275141eb8d0ee4fadd84c6d7": {
      "model_module": "@jupyter-widgets/base",
      "model_module_version": "2.0.0",
      "model_name": "LayoutModel",
      "state": {}
     },
     "c0a9846e212940e680afd149bff4f0fc": {
      "model_module": "@jupyter-widgets/controls",
      "model_module_version": "2.0.0",
      "model_name": "ButtonStyleModel",
      "state": {
       "font_family": null,
       "font_size": null,
       "font_style": null,
       "font_variant": null,
       "font_weight": null,
       "text_color": null,
       "text_decoration": null
      }
     },
     "c0b1656a81c14a578b35abf011ef44d1": {
      "model_module": "@jupyter-widgets/base",
      "model_module_version": "2.0.0",
      "model_name": "LayoutModel",
      "state": {}
     },
     "c12a7a45f6a14f56a3f9759700887b30": {
      "model_module": "@jupyter-widgets/base",
      "model_module_version": "2.0.0",
      "model_name": "LayoutModel",
      "state": {}
     },
     "c16de1281604481c9149c95cd0d9dfe3": {
      "model_module": "@jupyter-widgets/controls",
      "model_module_version": "2.0.0",
      "model_name": "IntTextModel",
      "state": {
       "description": "index row:",
       "layout": "IPY_MODEL_b4340395d77d48a894b6b28de605b402",
       "step": 1,
       "style": "IPY_MODEL_3ed6a39c54874057a7c1cf27f6b07ecd"
      }
     },
     "c17c3d7002ec4bf2b2819ad149d7cba5": {
      "model_module": "@jupyter-widgets/base",
      "model_module_version": "2.0.0",
      "model_name": "LayoutModel",
      "state": {}
     },
     "c2b9b6cbebf54e4a878ea567b001c331": {
      "model_module": "@jupyter-widgets/controls",
      "model_module_version": "2.0.0",
      "model_name": "ButtonStyleModel",
      "state": {
       "font_family": null,
       "font_size": null,
       "font_style": null,
       "font_variant": null,
       "font_weight": null,
       "text_color": null,
       "text_decoration": null
      }
     },
     "c2deb7ecd17c40ff9ad5fb6453e78698": {
      "model_module": "@jupyter-widgets/controls",
      "model_module_version": "2.0.0",
      "model_name": "DescriptionStyleModel",
      "state": {
       "description_width": ""
      }
     },
     "c2f7f44d40ba4ad98aeaf8d205553461": {
      "model_module": "@jupyter-widgets/controls",
      "model_module_version": "2.0.0",
      "model_name": "FloatTextModel",
      "state": {
       "description": "peak value:",
       "layout": "IPY_MODEL_33905646a7a2420da5c39a746c7223b2",
       "step": null,
       "style": "IPY_MODEL_84a8b913d1004abe8f9275deca637824",
       "value": 1.1
      }
     },
     "c50cbe8641d4472aa9fd9865f0aba78d": {
      "model_module": "@jupyter-widgets/base",
      "model_module_version": "2.0.0",
      "model_name": "LayoutModel",
      "state": {}
     },
     "c5a1434973b14896a9418ab65fe085b7": {
      "model_module": "@jupyter-widgets/controls",
      "model_module_version": "2.0.0",
      "model_name": "ButtonModel",
      "state": {
       "description": "find element",
       "layout": "IPY_MODEL_ee89a5cf2a5246fe9b46da913b9a7235",
       "style": "IPY_MODEL_ab9a0b3f99cf4375811c3bc52329c3be",
       "tooltip": null
      }
     },
     "c5c442a05618424cb1226adf8b584579": {
      "model_module": "@jupyter-widgets/controls",
      "model_module_version": "2.0.0",
      "model_name": "ButtonModel",
      "state": {
       "description": "plot hist",
       "layout": "IPY_MODEL_a57acc2fd92f45cfadfebd88f82a252a",
       "style": "IPY_MODEL_557bb8519c324a6590e1db113137c9a3",
       "tooltip": null
      }
     },
     "c680d1f8b28d4bfe9743db4734fd3679": {
      "model_module": "@jupyter-widgets/base",
      "model_module_version": "2.0.0",
      "model_name": "LayoutModel",
      "state": {}
     },
     "c6c78a3e91ed4a85a86f0871c90ed02c": {
      "model_module": "@jupyter-widgets/base",
      "model_module_version": "2.0.0",
      "model_name": "LayoutModel",
      "state": {}
     },
     "c75ecb4a29ee4bf999beee275f95d75e": {
      "model_module": "@jupyter-widgets/controls",
      "model_module_version": "2.0.0",
      "model_name": "ButtonModel",
      "state": {
       "description": "start",
       "layout": "IPY_MODEL_025f35632e6b450681941575ffde680f",
       "style": "IPY_MODEL_9d33d9b50a1c4895b6dc463e764603b4",
       "tooltip": null
      }
     },
     "c7954065f2e84e6dafc4e327b4a0b3d2": {
      "model_module": "@jupyter-widgets/base",
      "model_module_version": "2.0.0",
      "model_name": "LayoutModel",
      "state": {}
     },
     "c7cc0eca9d934b6c93cdbb7022602d62": {
      "model_module": "@jupyter-widgets/controls",
      "model_module_version": "2.0.0",
      "model_name": "ButtonStyleModel",
      "state": {
       "font_family": null,
       "font_size": null,
       "font_style": null,
       "font_variant": null,
       "font_weight": null,
       "text_color": null,
       "text_decoration": null
      }
     },
     "c85775b6f5424ccaaa84ce7ff31086d8": {
      "model_module": "@jupyter-widgets/controls",
      "model_module_version": "2.0.0",
      "model_name": "ButtonModel",
      "state": {
       "description": "previous",
       "layout": "IPY_MODEL_62d28f6f58fd4c628b09b91254561834",
       "style": "IPY_MODEL_fe00c1e860be4c069a29c897be1f87dc",
       "tooltip": null
      }
     },
     "c8755e142b1a4819947e29074dde1bb5": {
      "model_module": "@jupyter-widgets/base",
      "model_module_version": "2.0.0",
      "model_name": "LayoutModel",
      "state": {}
     },
     "c9a379e33783429c9e4e76f351519689": {
      "model_module": "@jupyter-widgets/controls",
      "model_module_version": "2.0.0",
      "model_name": "ButtonStyleModel",
      "state": {
       "font_family": null,
       "font_size": null,
       "font_style": null,
       "font_variant": null,
       "font_weight": null,
       "text_color": null,
       "text_decoration": null
      }
     },
     "c9ac0e37cdd24567b17cb810a6aef7b4": {
      "model_module": "@jupyter-widgets/controls",
      "model_module_version": "2.0.0",
      "model_name": "DropdownModel",
      "state": {
       "_options_labels": [
        "1",
        "2",
        "3",
        "4",
        "5",
        "6"
       ],
       "description": "charge:",
       "index": 2,
       "layout": "IPY_MODEL_527c40824c5944ba8f59a6b64a70ceb5",
       "style": "IPY_MODEL_82e003a372be41828a4be839731fa745"
      }
     },
     "ca1a73e1f9664fb6ba3cd1be8afa4294": {
      "model_module": "@jupyter-widgets/controls",
      "model_module_version": "2.0.0",
      "model_name": "VBoxModel",
      "state": {
       "children": [
        "IPY_MODEL_0a796b25c41b41c8af90cb6077f3433f",
        "IPY_MODEL_8be8ae90fd0b4d1894482a06b18ed096"
       ],
       "layout": "IPY_MODEL_72fed5f03d28443584bb49fc3ad054fa"
      }
     },
     "ca20412795904407b98ac548eba522d5": {
      "model_module": "@jupyter-widgets/controls",
      "model_module_version": "2.0.0",
      "model_name": "HBoxModel",
      "state": {
       "children": [
        "IPY_MODEL_a1ad216c5c234e5f98c7aefabb487aec",
        "IPY_MODEL_2221d1df94fc407e8af2762232b110dd",
        "IPY_MODEL_3a1b1eff980f41bf9c53a3789fb44d07"
       ],
       "layout": "IPY_MODEL_472c6b931fe5439ebf6ee677693078a2"
      }
     },
     "ca5c63dece3a4b8bbb1bc18a0812665f": {
      "model_module": "@jupyter-widgets/controls",
      "model_module_version": "2.0.0",
      "model_name": "HBoxModel",
      "state": {
       "children": [
        "IPY_MODEL_4734e60dc2e747faa442289c2f818c6a",
        "IPY_MODEL_71d8b40ec9bc49a9902e500c7b5ae5fe"
       ],
       "layout": "IPY_MODEL_76d13cfd666f43648d3bf1c358bbd99d"
      }
     },
     "caa555857f9c478f8926d256a3814b94": {
      "model_module": "@jupyter-widgets/base",
      "model_module_version": "2.0.0",
      "model_name": "LayoutModel",
      "state": {}
     },
     "cabd81a32d934320b5c5e3df16fab617": {
      "model_module": "@jupyter-widgets/controls",
      "model_module_version": "2.0.0",
      "model_name": "ButtonModel",
      "state": {
       "description": "next",
       "layout": "IPY_MODEL_f26cbc334f03489da2ce9006c1656f68",
       "style": "IPY_MODEL_621852b4071741c680492d7463fef04f",
       "tooltip": null
      }
     },
     "cb09743c19c04ba4836611420456f750": {
      "model_module": "@jupyter-widgets/controls",
      "model_module_version": "2.0.0",
      "model_name": "VBoxModel",
      "state": {
       "children": [
        "IPY_MODEL_d44910f9dcae4ba58a2ed2e4e926b682",
        "IPY_MODEL_d56835aef4df4c9ab3768789c4638231"
       ],
       "layout": "IPY_MODEL_1f33301eb9e1408e8cbb78481a5f135c"
      }
     },
     "cb4dd918c28b44b3866b70c3ab75963e": {
      "model_module": "@jupyter-widgets/controls",
      "model_module_version": "2.0.0",
      "model_name": "HBoxModel",
      "state": {
       "children": [
        "IPY_MODEL_6da4efbc18e34420891adcdd6fde7ae5",
        "IPY_MODEL_6780eb318e7d4fe8903d902755cdd3bf"
       ],
       "layout": "IPY_MODEL_0e364554914a4ebe8f7c362b9aa74d4d"
      }
     },
     "cb8fd190dd20440b8f45acd9aef32c6d": {
      "model_module": "@jupyter-widgets/controls",
      "model_module_version": "2.0.0",
      "model_name": "ButtonStyleModel",
      "state": {
       "font_family": null,
       "font_size": null,
       "font_style": null,
       "font_variant": null,
       "font_weight": null,
       "text_color": null,
       "text_decoration": null
      }
     },
     "cbd1b91c243344a18e02c98442353955": {
      "model_module": "@jupyter-widgets/controls",
      "model_module_version": "2.0.0",
      "model_name": "ButtonModel",
      "state": {
       "description": "reset zoom",
       "layout": "IPY_MODEL_9c703827c0fb42968a954cf2b8387513",
       "style": "IPY_MODEL_a3cd3b49a85a4645b3c375c8f3940a8e",
       "tooltip": null
      }
     },
     "cc08e9f13a424586ac7a1afd9e3a397e": {
      "model_module": "@jupyter-widgets/controls",
      "model_module_version": "2.0.0",
      "model_name": "VBoxModel",
      "state": {
       "children": [
        "IPY_MODEL_e7621118ba9840d1aab24b93b09c4458",
        "IPY_MODEL_4cfc9fdded2a40be87b6668c3d1d136d",
        "IPY_MODEL_1a8281ae5a08437fa348c624cf213915",
        "IPY_MODEL_52327b6f50aa4376945c3d91659bddd2",
        "IPY_MODEL_1b956ba6c6414338bb01fe481a912ccb",
        "IPY_MODEL_89668e4b1dc545c8acf21a2d11636cf6",
        "IPY_MODEL_22c267eb22ca4ff880853f196b09a8af",
        "IPY_MODEL_88f35baa72f14fad8072d14cfcea9224"
       ],
       "layout": "IPY_MODEL_ee8eb4cee56c44a781fe00879a3c493f"
      }
     },
     "cd3332eb221645cfa59867d4fbbcf0f4": {
      "model_module": "@jupyter-widgets/base",
      "model_module_version": "2.0.0",
      "model_name": "LayoutModel",
      "state": {}
     },
     "ce57bab7e87546918e19e2e17b965eae": {
      "model_module": "@jupyter-widgets/base",
      "model_module_version": "2.0.0",
      "model_name": "LayoutModel",
      "state": {}
     },
     "ce623d2e968a4fefa144d45c37701353": {
      "model_module": "@jupyter-widgets/controls",
      "model_module_version": "2.0.0",
      "model_name": "DescriptionStyleModel",
      "state": {
       "description_width": ""
      }
     },
     "ceec38f146db439fb9e4fd723f93c0d7": {
      "model_module": "@jupyter-widgets/base",
      "model_module_version": "2.0.0",
      "model_name": "LayoutModel",
      "state": {}
     },
     "cef3afe8282c4797857479465a0aaa59": {
      "model_module": "@jupyter-widgets/controls",
      "model_module_version": "2.0.0",
      "model_name": "HBoxModel",
      "state": {
       "children": [
        "IPY_MODEL_3c3dc68da8204a8c8c299c13af3c325f"
       ],
       "layout": "IPY_MODEL_de53c527c0594a3fbfff18823671d313"
      }
     },
     "cf42ef8506164d1f9656daa7b45632df": {
      "model_module": "@jupyter-widgets/controls",
      "model_module_version": "2.0.0",
      "model_name": "ButtonModel",
      "state": {
       "description": "plot hist",
       "layout": "IPY_MODEL_583365d762804c7ca1c2e5996c8275ef",
       "style": "IPY_MODEL_bca7f4b8ae5a4ef78608d515456e679e",
       "tooltip": null
      }
     },
     "cf7759ad96cd42258e692066ead81510": {
      "model_module": "@jupyter-widgets/base",
      "model_module_version": "2.0.0",
      "model_name": "LayoutModel",
      "state": {}
     },
     "cfd1a6da8c1f48329b180e41eddc279c": {
      "model_module": "@jupyter-widgets/controls",
      "model_module_version": "2.0.0",
      "model_name": "ButtonStyleModel",
      "state": {
       "font_family": null,
       "font_size": null,
       "font_style": null,
       "font_variant": null,
       "font_weight": null,
       "text_color": null,
       "text_decoration": null
      }
     },
     "d0a45bef17d448b7b1e498a1efbec953": {
      "model_module": "@jupyter-widgets/output",
      "model_module_version": "1.0.0",
      "model_name": "OutputModel",
      "state": {
       "layout": "IPY_MODEL_ba1864e3798040078e34abd768516f07",
       "outputs": [
        {
         "data": {
          "text/html": "<div>\n<style scoped>\n    .dataframe tbody tr th:only-of-type {\n        vertical-align: middle;\n    }\n\n    .dataframe tbody tr th {\n        vertical-align: top;\n    }\n\n    .dataframe thead th {\n        text-align: right;\n    }\n</style>\n<table border=\"1\" class=\"dataframe\">\n  <thead>\n    <tr style=\"text-align: right;\">\n      <th></th>\n      <th>ion</th>\n      <th>mass</th>\n      <th>mc</th>\n      <th>mc_low</th>\n      <th>mc_up</th>\n      <th>color</th>\n      <th>element</th>\n      <th>complex</th>\n      <th>isotope</th>\n      <th>charge</th>\n    </tr>\n  </thead>\n  <tbody>\n    <tr>\n      <th>0</th>\n      <td>unranged</td>\n      <td>0.0</td>\n      <td>0.0</td>\n      <td>0.0</td>\n      <td>400.0</td>\n      <td>#000000</td>\n      <td>unranged</td>\n      <td>0</td>\n      <td>0</td>\n      <td>0</td>\n    </tr>\n  </tbody>\n</table>\n</div>",
          "text/plain": "        ion  mass   mc  mc_low  mc_up    color   element complex isotope  \\\n0  unranged   0.0  0.0     0.0  400.0  #000000  unranged       0       0   \n\n   charge  \n0       0  "
         },
         "metadata": {},
         "output_type": "display_data"
        },
        {
         "data": {
          "text/html": "<div>\n<style scoped>\n    .dataframe tbody tr th:only-of-type {\n        vertical-align: middle;\n    }\n\n    .dataframe tbody tr th {\n        vertical-align: top;\n    }\n\n    .dataframe thead th {\n        text-align: right;\n    }\n</style>\n<table border=\"1\" class=\"dataframe\">\n  <thead>\n    <tr style=\"text-align: right;\">\n      <th></th>\n      <th>ion</th>\n      <th>mass</th>\n      <th>mc</th>\n      <th>mc_low</th>\n      <th>mc_up</th>\n      <th>color</th>\n      <th>element</th>\n      <th>complex</th>\n      <th>isotope</th>\n      <th>charge</th>\n    </tr>\n  </thead>\n  <tbody>\n    <tr>\n      <th>0</th>\n      <td>unranged</td>\n      <td>0.0</td>\n      <td>0.0</td>\n      <td>0.0</td>\n      <td>400.0</td>\n      <td>#000000</td>\n      <td>unranged</td>\n      <td>0</td>\n      <td>0</td>\n      <td>0</td>\n    </tr>\n  </tbody>\n</table>\n</div>",
          "text/plain": "        ion  mass   mc  mc_low  mc_up    color   element complex isotope  \\\n0  unranged   0.0  0.0     0.0  400.0  #000000  unranged       0       0   \n\n   charge  \n0       0  "
         },
         "metadata": {},
         "output_type": "display_data"
        }
       ]
      }
     },
     "d0b183fda09541e094efa52bedfb553a": {
      "model_module": "@jupyter-widgets/controls",
      "model_module_version": "2.0.0",
      "model_name": "ButtonStyleModel",
      "state": {
       "font_family": null,
       "font_size": null,
       "font_style": null,
       "font_variant": null,
       "font_weight": null,
       "text_color": null,
       "text_decoration": null
      }
     },
     "d199ca3fc2ec496696d943e52e8ee198": {
      "model_module": "@jupyter-widgets/controls",
      "model_module_version": "2.0.0",
      "model_name": "ButtonStyleModel",
      "state": {
       "font_family": null,
       "font_size": null,
       "font_style": null,
       "font_variant": null,
       "font_weight": null,
       "text_color": null,
       "text_decoration": null
      }
     },
     "d1f9cf0833a64a14956ccfa895878f94": {
      "model_module": "@jupyter-widgets/controls",
      "model_module_version": "2.0.0",
      "model_name": "ButtonStyleModel",
      "state": {
       "font_family": null,
       "font_size": null,
       "font_style": null,
       "font_variant": null,
       "font_weight": null,
       "text_color": null,
       "text_decoration": null
      }
     },
     "d254bb0d05884f46acd5c024dda2b6e3": {
      "model_module": "@jupyter-widgets/controls",
      "model_module_version": "2.0.0",
      "model_name": "HBoxModel",
      "state": {
       "children": [
        "IPY_MODEL_72c5ba77c1a4453ea30aa2681436adaa",
        "IPY_MODEL_a893d2eb9336488694641ec8a6402d5f"
       ],
       "layout": "IPY_MODEL_ff7497f67c334dcd96c59f6df9c66624"
      }
     },
     "d2654208038740a080c570756d3a8c7f": {
      "model_module": "@jupyter-widgets/base",
      "model_module_version": "2.0.0",
      "model_name": "LayoutModel",
      "state": {}
     },
     "d2e5c15f4d1f41af8be0a6e859a60bad": {
      "model_module": "@jupyter-widgets/base",
      "model_module_version": "2.0.0",
      "model_name": "LayoutModel",
      "state": {}
     },
     "d3b06b5b37cf45d1bb2b0676828409e2": {
      "model_module": "@jupyter-widgets/output",
      "model_module_version": "1.0.0",
      "model_name": "OutputModel",
      "state": {
       "layout": "IPY_MODEL_117343ec7c6a4b75b875164343389bb0",
       "outputs": [
        {
         "data": {
          "text/html": "<div>\n<style scoped>\n    .dataframe tbody tr th:only-of-type {\n        vertical-align: middle;\n    }\n\n    .dataframe tbody tr th {\n        vertical-align: top;\n    }\n\n    .dataframe thead th {\n        text-align: right;\n    }\n</style>\n<table border=\"1\" class=\"dataframe\">\n  <thead>\n    <tr style=\"text-align: right;\">\n      <th></th>\n      <th>ion</th>\n      <th>mass</th>\n      <th>element</th>\n      <th>complex</th>\n      <th>isotope</th>\n      <th>charge</th>\n      <th>abundance</th>\n    </tr>\n  </thead>\n  <tbody>\n    <tr>\n      <th>0</th>\n      <td>$({}^{12}C{}^{16}O_{2})^{3+}$</td>\n      <td>14.6633</td>\n      <td>[C, O]</td>\n      <td>[1, 2]</td>\n      <td>[12, 16]</td>\n      <td>3</td>\n      <td>0.9842</td>\n    </tr>\n  </tbody>\n</table>\n</div>",
          "text/plain": "                             ion     mass element complex   isotope  charge  \\\n0  $({}^{12}C{}^{16}O_{2})^{3+}$  14.6633  [C, O]  [1, 2]  [12, 16]       3   \n\n   abundance  \n0     0.9842  "
         },
         "metadata": {},
         "output_type": "display_data"
        }
       ]
      }
     },
     "d4375ef994c848c98c828c775ccbd450": {
      "model_module": "@jupyter-widgets/controls",
      "model_module_version": "2.0.0",
      "model_name": "VBoxModel",
      "state": {
       "children": [
        "IPY_MODEL_e7621118ba9840d1aab24b93b09c4458",
        "IPY_MODEL_4cfc9fdded2a40be87b6668c3d1d136d",
        "IPY_MODEL_1a8281ae5a08437fa348c624cf213915",
        "IPY_MODEL_52327b6f50aa4376945c3d91659bddd2",
        "IPY_MODEL_1b956ba6c6414338bb01fe481a912ccb",
        "IPY_MODEL_89668e4b1dc545c8acf21a2d11636cf6",
        "IPY_MODEL_22c267eb22ca4ff880853f196b09a8af",
        "IPY_MODEL_8deaa5eca0204808adc592150e1077bb"
       ],
       "layout": "IPY_MODEL_ac03dc9d333a47b790f2a692fb1d58c6"
      }
     },
     "d438218b8d1742859a1621d9e8d26149": {
      "model_module": "@jupyter-widgets/output",
      "model_module_version": "1.0.0",
      "model_name": "OutputModel",
      "state": {
       "layout": "IPY_MODEL_746a37d7cfc644a68111ffc5c6a07c51"
      }
     },
     "d44910f9dcae4ba58a2ed2e4e926b682": {
      "model_module": "@jupyter-widgets/controls",
      "model_module_version": "2.0.0",
      "model_name": "HBoxModel",
      "state": {
       "children": [
        "IPY_MODEL_469009e32cb64c51bd314cfbb602a523",
        "IPY_MODEL_be522c4eed1f4ac280c09afdb9fba860"
       ],
       "layout": "IPY_MODEL_a1aeee90b9a34781a37aa2176c4f575a"
      }
     },
     "d44d29da957b4c9eaa23fa4ae53ea1a6": {
      "model_module": "@jupyter-widgets/controls",
      "model_module_version": "2.0.0",
      "model_name": "ButtonModel",
      "state": {
       "description": "plot hist",
       "layout": "IPY_MODEL_382010b6bfee40ffa489bfdfe2a84ecb",
       "style": "IPY_MODEL_7afd5df479414557b00e0c7a67f2dd17",
       "tooltip": null
      }
     },
     "d49a6cf0f2054c6ca93f06779dbac493": {
      "model_module": "@jupyter-widgets/controls",
      "model_module_version": "2.0.0",
      "model_name": "VBoxModel",
      "state": {
       "children": [
        "IPY_MODEL_e7621118ba9840d1aab24b93b09c4458",
        "IPY_MODEL_4cfc9fdded2a40be87b6668c3d1d136d",
        "IPY_MODEL_1a8281ae5a08437fa348c624cf213915",
        "IPY_MODEL_52327b6f50aa4376945c3d91659bddd2",
        "IPY_MODEL_1b956ba6c6414338bb01fe481a912ccb",
        "IPY_MODEL_89668e4b1dc545c8acf21a2d11636cf6",
        "IPY_MODEL_b88cea7fa7a2469591713a231eabe5e2"
       ],
       "layout": "IPY_MODEL_4b211155006d43e8b22c84ebfa903789"
      }
     },
     "d56835aef4df4c9ab3768789c4638231": {
      "model_module": "@jupyter-widgets/output",
      "model_module_version": "1.0.0",
      "model_name": "OutputModel",
      "state": {
       "layout": "IPY_MODEL_174dd05a637f43d0b089f1606255850a",
       "outputs": [
        {
         "data": {
          "text/html": "<div>\n<style scoped>\n    .dataframe tbody tr th:only-of-type {\n        vertical-align: middle;\n    }\n\n    .dataframe tbody tr th {\n        vertical-align: top;\n    }\n\n    .dataframe thead th {\n        text-align: right;\n    }\n</style>\n<table border=\"1\" class=\"dataframe\">\n  <thead>\n    <tr style=\"text-align: right;\">\n      <th></th>\n      <th>ion</th>\n      <th>mass</th>\n      <th>element</th>\n      <th>complex</th>\n      <th>isotope</th>\n      <th>charge</th>\n      <th>abundance</th>\n    </tr>\n  </thead>\n  <tbody>\n  </tbody>\n</table>\n</div>",
          "text/plain": "Empty DataFrame\nColumns: [ion, mass, element, complex, isotope, charge, abundance]\nIndex: []"
         },
         "metadata": {},
         "output_type": "display_data"
        }
       ]
      }
     },
     "d59aeaa3ff8b4693b1914b9e80290723": {
      "model_module": "@jupyter-widgets/controls",
      "model_module_version": "2.0.0",
      "model_name": "ButtonStyleModel",
      "state": {
       "font_family": null,
       "font_size": null,
       "font_style": null,
       "font_variant": null,
       "font_weight": null,
       "text_color": null,
       "text_decoration": null
      }
     },
     "d5ca53fdf35f46b89c801a0e0e04a1f8": {
      "model_module": "@jupyter-widgets/controls",
      "model_module_version": "2.0.0",
      "model_name": "VBoxModel",
      "state": {
       "children": [
        "IPY_MODEL_a1639d586aa940dab6a6332fc1114afd",
        "IPY_MODEL_b65c45289d40419a9d6cc6a990126ced",
        "IPY_MODEL_167fab52555b4bffa1c99c196890354c"
       ],
       "layout": "IPY_MODEL_1bd74f2a7b564054a3c1494c681f1994"
      }
     },
     "d74df7222ad043c29c4cdce5cf725894": {
      "model_module": "@jupyter-widgets/controls",
      "model_module_version": "2.0.0",
      "model_name": "ButtonStyleModel",
      "state": {
       "font_family": null,
       "font_size": null,
       "font_style": null,
       "font_variant": null,
       "font_weight": null,
       "text_color": null,
       "text_decoration": null
      }
     },
     "d79ba1c440d14682930b87d116f30e14": {
      "model_module": "@jupyter-widgets/controls",
      "model_module_version": "2.0.0",
      "model_name": "ButtonStyleModel",
      "state": {
       "font_family": null,
       "font_size": null,
       "font_style": null,
       "font_variant": null,
       "font_weight": null,
       "text_color": null,
       "text_decoration": null
      }
     },
     "d7a4f22dbd574f71841301ecf3921d99": {
      "model_module": "@jupyter-widgets/controls",
      "model_module_version": "2.0.0",
      "model_name": "DescriptionStyleModel",
      "state": {
       "description_width": ""
      }
     },
     "d7bda0252fef4ab8a148251a0c1c6cb7": {
      "model_module": "@jupyter-widgets/controls",
      "model_module_version": "2.0.0",
      "model_name": "DescriptionStyleModel",
      "state": {
       "description_width": ""
      }
     },
     "d80e581b343143b5a4bc102fe774180d": {
      "model_module": "@jupyter-widgets/base",
      "model_module_version": "2.0.0",
      "model_name": "LayoutModel",
      "state": {}
     },
     "d8419d6b9dbf4425bc3e5243d2c28eff": {
      "model_module": "@jupyter-widgets/base",
      "model_module_version": "2.0.0",
      "model_name": "LayoutModel",
      "state": {}
     },
     "d8a0a9519e8046499f487f7d1ae29e08": {
      "model_module": "@jupyter-widgets/controls",
      "model_module_version": "2.0.0",
      "model_name": "ButtonModel",
      "state": {
       "description": "previous",
       "layout": "IPY_MODEL_7cdc34957afe4f608e703a1252c5bf62",
       "style": "IPY_MODEL_42226269f24b4d9199192836066c4a7b",
       "tooltip": null
      }
     },
     "d8dd81d50daf4971a6a25656955fabb0": {
      "model_module": "@jupyter-widgets/base",
      "model_module_version": "2.0.0",
      "model_name": "LayoutModel",
      "state": {}
     },
     "d8ec1f3892c8427bbd7bb72092ca3202": {
      "model_module": "@jupyter-widgets/base",
      "model_module_version": "2.0.0",
      "model_name": "LayoutModel",
      "state": {}
     },
     "d92b78e05caf42febd4f1a9b27434966": {
      "model_module": "@jupyter-widgets/controls",
      "model_module_version": "2.0.0",
      "model_name": "HBoxModel",
      "state": {
       "children": [
        "IPY_MODEL_fde07cfe02d440cebe702f6ebab12973",
        "IPY_MODEL_b710e21adfdf4fdf917445dd98a1e237"
       ],
       "layout": "IPY_MODEL_ae65825be3474e76ad39bbafef8f24e0"
      }
     },
     "d93ecc7f99fe47268f7715d391787937": {
      "model_module": "@jupyter-widgets/base",
      "model_module_version": "2.0.0",
      "model_name": "LayoutModel",
      "state": {}
     },
     "d96b02c2e2b340c9b57380921909be56": {
      "model_module": "@jupyter-widgets/controls",
      "model_module_version": "2.0.0",
      "model_name": "ButtonStyleModel",
      "state": {
       "font_family": null,
       "font_size": null,
       "font_style": null,
       "font_variant": null,
       "font_weight": null,
       "text_color": null,
       "text_decoration": null
      }
     },
     "d9bd9de7e98d4f4e9799af25df00c566": {
      "model_module": "@jupyter-widgets/controls",
      "model_module_version": "2.0.0",
      "model_name": "TabModel",
      "state": {
       "children": [
        "IPY_MODEL_ea91f88999dc4e1383d259c741e023f1"
       ],
       "layout": "IPY_MODEL_69e1cae6d88b4f77a0ff20c8d0c86ef1",
       "selected_index": 0,
       "titles": [
        "element finder"
       ]
      }
     },
     "d9f4f412afa744a59391583ca57ad118": {
      "model_module": "@jupyter-widgets/base",
      "model_module_version": "2.0.0",
      "model_name": "LayoutModel",
      "state": {}
     },
     "da98623c65cf40cfb988a1c57c19529f": {
      "model_module": "@jupyter-widgets/base",
      "model_module_version": "2.0.0",
      "model_name": "LayoutModel",
      "state": {}
     },
     "db87873aaab9413fb2cf88b7bb699405": {
      "model_module": "@jupyter-widgets/base",
      "model_module_version": "2.0.0",
      "model_name": "LayoutModel",
      "state": {}
     },
     "dbce74e286054e82818dec4959f02640": {
      "model_module": "@jupyter-widgets/controls",
      "model_module_version": "2.0.0",
      "model_name": "DescriptionStyleModel",
      "state": {
       "description_width": ""
      }
     },
     "dc0786ef274d492790d072ad41c8e128": {
      "model_module": "@jupyter-widgets/base",
      "model_module_version": "2.0.0",
      "model_name": "LayoutModel",
      "state": {}
     },
     "dc5d0a95f0ff45d0afd1b19e542850bd": {
      "model_module": "@jupyter-widgets/controls",
      "model_module_version": "2.0.0",
      "model_name": "ButtonModel",
      "state": {
       "description": "change color",
       "layout": "IPY_MODEL_6636a22972764220a8732d826dddaf2c",
       "style": "IPY_MODEL_d74df7222ad043c29c4cdce5cf725894",
       "tooltip": null
      }
     },
     "dc969b1c42ff490b8f811cb801f331fb": {
      "model_module": "@jupyter-widgets/base",
      "model_module_version": "2.0.0",
      "model_name": "LayoutModel",
      "state": {}
     },
     "dcf3783ed16840ca84682ad04238535d": {
      "model_module": "@jupyter-widgets/controls",
      "model_module_version": "2.0.0",
      "model_name": "ButtonStyleModel",
      "state": {
       "font_family": null,
       "font_size": null,
       "font_style": null,
       "font_variant": null,
       "font_weight": null,
       "text_color": null,
       "text_decoration": null
      }
     },
     "dd50592c8e6a455689b4a4f5293aac77": {
      "model_module": "@jupyter-widgets/controls",
      "model_module_version": "2.0.0",
      "model_name": "VBoxModel",
      "state": {
       "children": [
        "IPY_MODEL_e7621118ba9840d1aab24b93b09c4458",
        "IPY_MODEL_4cfc9fdded2a40be87b6668c3d1d136d",
        "IPY_MODEL_1a8281ae5a08437fa348c624cf213915",
        "IPY_MODEL_52327b6f50aa4376945c3d91659bddd2",
        "IPY_MODEL_1b956ba6c6414338bb01fe481a912ccb",
        "IPY_MODEL_89668e4b1dc545c8acf21a2d11636cf6",
        "IPY_MODEL_b49efc46ca50440594aa87aa090a908a"
       ],
       "layout": "IPY_MODEL_a10f6823cd0a4976865e830b31d63c5a"
      }
     },
     "dd77f1009a6d47b887a12b9fc84064bd": {
      "model_module": "@jupyter-widgets/base",
      "model_module_version": "2.0.0",
      "model_name": "LayoutModel",
      "state": {}
     },
     "de4c602a34424d40908b964d9ad91416": {
      "model_module": "@jupyter-widgets/controls",
      "model_module_version": "2.0.0",
      "model_name": "HBoxModel",
      "state": {
       "children": [
        "IPY_MODEL_4ad437fd9e0246e6848ae26f25b1caae",
        "IPY_MODEL_f20ed9ef5962413bbbafa55abf2be174"
       ],
       "layout": "IPY_MODEL_bd51d79b100647c18aea917e67c253d2"
      }
     },
     "de53c527c0594a3fbfff18823671d313": {
      "model_module": "@jupyter-widgets/base",
      "model_module_version": "2.0.0",
      "model_name": "LayoutModel",
      "state": {}
     },
     "de6a7d0cf31743249e58e38484c23e80": {
      "model_module": "@jupyter-widgets/controls",
      "model_module_version": "2.0.0",
      "model_name": "ButtonStyleModel",
      "state": {
       "font_family": null,
       "font_size": null,
       "font_style": null,
       "font_variant": null,
       "font_weight": null,
       "text_color": null,
       "text_decoration": null
      }
     },
     "de8449041e3d435898e7c12df3c9a3cd": {
      "model_module": "@jupyter-widgets/controls",
      "model_module_version": "2.0.0",
      "model_name": "VBoxModel",
      "state": {
       "children": [
        "IPY_MODEL_33ee715bde3c4b03b5a9203d5d414f48",
        "IPY_MODEL_a1bdeaf54ae64d10bf63fe9dc95423fd",
        "IPY_MODEL_cabd81a32d934320b5c5e3df16fab617",
        "IPY_MODEL_6bd0758f45dd436eae8d48f9efc0ca4c",
        "IPY_MODEL_3d985a3d35464c7d94e23ff048b28579"
       ],
       "layout": "IPY_MODEL_a6d4b494b9a74327840deb1e5632fe91"
      }
     },
     "de9036f36c5e45599494bbacd87734e8": {
      "model_module": "@jupyter-widgets/base",
      "model_module_version": "2.0.0",
      "model_name": "LayoutModel",
      "state": {}
     },
     "df36d5dc34d14c8d9cb619c35a46021e": {
      "model_module": "@jupyter-widgets/controls",
      "model_module_version": "2.0.0",
      "model_name": "ButtonModel",
      "state": {
       "description": "plot element",
       "layout": "IPY_MODEL_0ce3663969694bee861774e6173ca57d",
       "style": "IPY_MODEL_4b30cce138334d79839c22d3cd84f9de",
       "tooltip": null
      }
     },
     "dfa954fd3b404a4992bdb6db51d4c5b3": {
      "model_module": "@jupyter-widgets/controls",
      "model_module_version": "2.0.0",
      "model_name": "VBoxModel",
      "state": {
       "children": [
        "IPY_MODEL_ca20412795904407b98ac548eba522d5"
       ],
       "layout": "IPY_MODEL_bb72cd6fdedb44e4832cbbab9d974c09"
      }
     },
     "dfbe7c0cf5e64d998f7985576ff69295": {
      "model_module": "@jupyter-widgets/base",
      "model_module_version": "2.0.0",
      "model_name": "LayoutModel",
      "state": {}
     },
     "dfdcd0d99d1e4caebac4de7b2484f6f8": {
      "model_module": "@jupyter-widgets/controls",
      "model_module_version": "2.0.0",
      "model_name": "ColorPickerModel",
      "state": {
       "description": "Select a color:",
       "disabled": false,
       "layout": "IPY_MODEL_322110b29c9145cf8cd0b11282599ea2",
       "style": "IPY_MODEL_f1a870d8e95c483a8fff6ff93b8f5fb8"
      }
     },
     "dfeb8dc001384144aeae66115b3015b8": {
      "model_module": "@jupyter-widgets/controls",
      "model_module_version": "2.0.0",
      "model_name": "ButtonModel",
      "state": {
       "description": "next",
       "layout": "IPY_MODEL_2e013d99dc4f439baee6e9aaaf8d60f5",
       "style": "IPY_MODEL_c7cc0eca9d934b6c93cdbb7022602d62",
       "tooltip": null
      }
     },
     "e0b7d8e4c25e4f81ae66a2ff2a158eac": {
      "model_module": "@jupyter-widgets/controls",
      "model_module_version": "2.0.0",
      "model_name": "ButtonStyleModel",
      "state": {
       "font_family": null,
       "font_size": null,
       "font_style": null,
       "font_variant": null,
       "font_weight": null,
       "text_color": null,
       "text_decoration": null
      }
     },
     "e159de983bce4a2889faf4f3bd7511c8": {
      "model_module": "@jupyter-widgets/base",
      "model_module_version": "2.0.0",
      "model_name": "LayoutModel",
      "state": {}
     },
     "e15a993814db43538b58efe260a63707": {
      "model_module": "@jupyter-widgets/controls",
      "model_module_version": "2.0.0",
      "model_name": "TextStyleModel",
      "state": {
       "description_width": "",
       "font_size": null,
       "text_color": null
      }
     },
     "e15d60c1c23941349aa05afea20e62d3": {
      "model_module": "@jupyter-widgets/controls",
      "model_module_version": "2.0.0",
      "model_name": "ButtonModel",
      "state": {
       "description": "change color",
       "layout": "IPY_MODEL_f7d09aa25fce4ebab354d0c1c98fd598",
       "style": "IPY_MODEL_4cf535a491b14ada8a9f25bacecce16d",
       "tooltip": null
      }
     },
     "e19827c19cff4af3a833be4b44cdc7bc": {
      "model_module": "@jupyter-widgets/controls",
      "model_module_version": "2.0.0",
      "model_name": "ButtonModel",
      "state": {
       "description": "find element",
       "layout": "IPY_MODEL_84b58520d48e4c9da645917c278abeb3",
       "style": "IPY_MODEL_5f999f25acd8490ebfe30e2c99a6ec10",
       "tooltip": null
      }
     },
     "e2103fc16f094b468d9e121df84e9c7d": {
      "model_module": "@jupyter-widgets/base",
      "model_module_version": "2.0.0",
      "model_name": "LayoutModel",
      "state": {}
     },
     "e2839cc1126648ea9a3511491e64a86b": {
      "model_module": "@jupyter-widgets/base",
      "model_module_version": "2.0.0",
      "model_name": "LayoutModel",
      "state": {}
     },
     "e2f2e73df79f4b39a17b598ac7d522da": {
      "model_module": "@jupyter-widgets/controls",
      "model_module_version": "2.0.0",
      "model_name": "VBoxModel",
      "state": {
       "children": [
        "IPY_MODEL_e7621118ba9840d1aab24b93b09c4458",
        "IPY_MODEL_4cfc9fdded2a40be87b6668c3d1d136d",
        "IPY_MODEL_1a8281ae5a08437fa348c624cf213915",
        "IPY_MODEL_52327b6f50aa4376945c3d91659bddd2",
        "IPY_MODEL_1b956ba6c6414338bb01fe481a912ccb",
        "IPY_MODEL_89668e4b1dc545c8acf21a2d11636cf6",
        "IPY_MODEL_22c267eb22ca4ff880853f196b09a8af",
        "IPY_MODEL_51b58696f4f04728b7b2d6ad5cdde9d4"
       ],
       "layout": "IPY_MODEL_6945616eabc94a0ebb08cd3aadc17bba"
      }
     },
     "e33bc09e9d1d4bc9be404e75dc5cde00": {
      "model_module": "@jupyter-widgets/base",
      "model_module_version": "2.0.0",
      "model_name": "LayoutModel",
      "state": {}
     },
     "e360787dc01b489a877218497598f927": {
      "model_module": "@jupyter-widgets/output",
      "model_module_version": "1.0.0",
      "model_name": "OutputModel",
      "state": {
       "layout": "IPY_MODEL_387bf0c240074d2f8d6f972b250fa325"
      }
     },
     "e3ae00ecdef447449bb83246d2de40f8": {
      "model_module": "@jupyter-widgets/controls",
      "model_module_version": "2.0.0",
      "model_name": "ButtonModel",
      "state": {
       "description": "next",
       "layout": "IPY_MODEL_70ffc554176c470284c9aff4bd6f0220",
       "style": "IPY_MODEL_f634de1ddb2a4e3db9ca304d65ce33ff",
       "tooltip": null
      }
     },
     "e3cf6bee2d98446597d09f4642c2aa94": {
      "model_module": "@jupyter-widgets/output",
      "model_module_version": "1.0.0",
      "model_name": "OutputModel",
      "state": {
       "layout": "IPY_MODEL_910db4c81cc74758b811d8e4fcba0337",
       "outputs": [
        {
         "name": "stdout",
         "output_type": "stream",
         "text": "Empty DataFrame\nColumns: [ion, mass, element, complex, isotope, charge, abundance]\nIndex: []\nEmpty DataFrame\nColumns: [ion, mass, element, complex, isotope, charge, abundance]\nIndex: []\n"
        },
        {
         "data": {
          "text/html": "<div>\n<style scoped>\n    .dataframe tbody tr th:only-of-type {\n        vertical-align: middle;\n    }\n\n    .dataframe tbody tr th {\n        vertical-align: top;\n    }\n\n    .dataframe thead th {\n        text-align: right;\n    }\n</style>\n<table border=\"1\" class=\"dataframe\">\n  <thead>\n    <tr style=\"text-align: right;\">\n      <th></th>\n      <th>ion</th>\n      <th>mass</th>\n      <th>element</th>\n      <th>complex</th>\n      <th>isotope</th>\n      <th>charge</th>\n      <th>abundance</th>\n    </tr>\n  </thead>\n  <tbody>\n  </tbody>\n</table>\n</div>",
          "text/plain": "Empty DataFrame\nColumns: [ion, mass, element, complex, isotope, charge, abundance]\nIndex: []"
         },
         "metadata": {},
         "output_type": "display_data"
        }
       ]
      }
     },
     "e3e9b2e0c51843cda806f1a147590cd6": {
      "model_module": "@jupyter-widgets/base",
      "model_module_version": "2.0.0",
      "model_name": "LayoutModel",
      "state": {}
     },
     "e45c545b484b46efbce02813c7a69c0f": {
      "model_module": "@jupyter-widgets/controls",
      "model_module_version": "2.0.0",
      "model_name": "ButtonStyleModel",
      "state": {
       "font_family": null,
       "font_size": null,
       "font_style": null,
       "font_variant": null,
       "font_weight": null,
       "text_color": null,
       "text_decoration": null
      }
     },
     "e5478b6ee9da46b69c923b28042518fa": {
      "model_module": "@jupyter-widgets/base",
      "model_module_version": "2.0.0",
      "model_name": "LayoutModel",
      "state": {}
     },
     "e58bf5ac14954976ad3dec5c66fdafb2": {
      "model_module": "@jupyter-widgets/controls",
      "model_module_version": "2.0.0",
      "model_name": "ButtonModel",
      "state": {
       "description": "change color",
       "layout": "IPY_MODEL_5ee8aa7ddd804a589ebd1aa5bb42a4a5",
       "style": "IPY_MODEL_6234ee48d569435f88396110d2dfc725",
       "tooltip": null
      }
     },
     "e6665650cc274dfbab032b9069034896": {
      "model_module": "@jupyter-widgets/base",
      "model_module_version": "2.0.0",
      "model_name": "LayoutModel",
      "state": {}
     },
     "e6e3bf261e584967bfbe2ce9d4b8f1b9": {
      "model_module": "@jupyter-widgets/base",
      "model_module_version": "2.0.0",
      "model_name": "LayoutModel",
      "state": {}
     },
     "e7621118ba9840d1aab24b93b09c4458": {
      "model_module": "@jupyter-widgets/controls",
      "model_module_version": "2.0.0",
      "model_name": "FloatTextModel",
      "state": {
       "description": "bin size:",
       "layout": "IPY_MODEL_9bd2d141573b4ebe8d4580c538c65956",
       "step": null,
       "style": "IPY_MODEL_553ea7239fed40f2a0425b365cace040",
       "value": 0.1
      }
     },
     "e7d73f0b0dd8490487a49baa63cac6cc": {
      "model_module": "@jupyter-widgets/controls",
      "model_module_version": "2.0.0",
      "model_name": "ColorPickerModel",
      "state": {
       "description": "Select a color:",
       "disabled": false,
       "layout": "IPY_MODEL_8ccbe95d9af64b5588e4cb697580a172",
       "style": "IPY_MODEL_eba2f6b6bf104e358dd01e100885b465"
      }
     },
     "e8222f38f6c14bc5b58302d5eb8ed654": {
      "model_module": "@jupyter-widgets/base",
      "model_module_version": "2.0.0",
      "model_name": "LayoutModel",
      "state": {}
     },
     "e82c7d521f70477c9accf052a7ef1689": {
      "model_module": "@jupyter-widgets/base",
      "model_module_version": "2.0.0",
      "model_name": "LayoutModel",
      "state": {}
     },
     "e91a18855a0f4b8cbfd27d1c2f458847": {
      "model_module": "@jupyter-widgets/controls",
      "model_module_version": "2.0.0",
      "model_name": "ButtonStyleModel",
      "state": {
       "font_family": null,
       "font_size": null,
       "font_style": null,
       "font_variant": null,
       "font_weight": null,
       "text_color": null,
       "text_decoration": null
      }
     },
     "e940390ab48840ddbe6efe8994b01bc7": {
      "model_module": "@jupyter-widgets/controls",
      "model_module_version": "2.0.0",
      "model_name": "ButtonStyleModel",
      "state": {
       "font_family": null,
       "font_size": null,
       "font_style": null,
       "font_variant": null,
       "font_weight": null,
       "text_color": null,
       "text_decoration": null
      }
     },
     "e9d06818580d459e838a5504682472ec": {
      "model_module": "@jupyter-widgets/controls",
      "model_module_version": "2.0.0",
      "model_name": "ButtonModel",
      "state": {
       "description": "change color",
       "layout": "IPY_MODEL_ec3f6d493fed4b16af6ba81698eee6f4",
       "style": "IPY_MODEL_5372a9aca09a49bcb012f1e792a8b296",
       "tooltip": null
      }
     },
     "e9fc6f72adf743cb89e04e40b79b856d": {
      "model_module": "@jupyter-widgets/controls",
      "model_module_version": "2.0.0",
      "model_name": "ButtonModel",
      "state": {
       "description": "find element",
       "layout": "IPY_MODEL_ba27e40ed6a84d85a1b1f39158d58812",
       "style": "IPY_MODEL_8a8aea9fba694288b4739af73d115a4e",
       "tooltip": null
      }
     },
     "ea61f370e61e4bceb7e462d87810262d": {
      "model_module": "@jupyter-widgets/controls",
      "model_module_version": "2.0.0",
      "model_name": "HBoxModel",
      "state": {
       "children": [
        "IPY_MODEL_3fe3166179d041b19a9bdb6ebac8451a",
        "IPY_MODEL_28ecede29be84019bf3bc6f35401bf8a"
       ],
       "layout": "IPY_MODEL_5f73240ed5a24c3a9bf9985afe6953af"
      }
     },
     "ea91f88999dc4e1383d259c741e023f1": {
      "model_module": "@jupyter-widgets/controls",
      "model_module_version": "2.0.0",
      "model_name": "VBoxModel",
      "state": {
       "children": [
        "IPY_MODEL_482859f328bd48d8b0af850208373e65"
       ],
       "layout": "IPY_MODEL_1b5c0e60918141a9b23bf310f028e1b9"
      }
     },
     "eafc13975cab43b49f6452926fa29ad1": {
      "model_module": "@jupyter-widgets/controls",
      "model_module_version": "2.0.0",
      "model_name": "ButtonStyleModel",
      "state": {
       "font_family": null,
       "font_size": null,
       "font_style": null,
       "font_variant": null,
       "font_weight": null,
       "text_color": null,
       "text_decoration": null
      }
     },
     "eb1b42a180b44e54983dd032977e3d1d": {
      "model_module": "@jupyter-widgets/controls",
      "model_module_version": "2.0.0",
      "model_name": "ButtonModel",
      "state": {
       "description": "manual formula",
       "layout": "IPY_MODEL_6aa0072783af42d99acbdd4d888d81c4",
       "style": "IPY_MODEL_d1f9cf0833a64a14956ccfa895878f94",
       "tooltip": null
      }
     },
     "eb589e5851fa433f9dcd18f5010497fd": {
      "model_module": "@jupyter-widgets/output",
      "model_module_version": "1.0.0",
      "model_name": "OutputModel",
      "state": {
       "layout": "IPY_MODEL_05e53709bce844dc8f646e5ec431c1da"
      }
     },
     "eb7e5c70f87b4f1c84de9b8e0f2c854b": {
      "model_module": "@jupyter-widgets/controls",
      "model_module_version": "2.0.0",
      "model_name": "ButtonModel",
      "state": {
       "description": "plot hist",
       "layout": "IPY_MODEL_6c3bc8145b7e481c9bce3de415464fee",
       "style": "IPY_MODEL_0916f69654eb4b5b9dd81f228ff8ced9",
       "tooltip": null
      }
     },
     "eba104a392e645d0900d047e2b8352b4": {
      "model_module": "@jupyter-widgets/base",
      "model_module_version": "2.0.0",
      "model_name": "LayoutModel",
      "state": {}
     },
     "eba2f6b6bf104e358dd01e100885b465": {
      "model_module": "@jupyter-widgets/controls",
      "model_module_version": "2.0.0",
      "model_name": "DescriptionStyleModel",
      "state": {
       "description_width": ""
      }
     },
     "ebc07b614f934111bbf36bdfad9627ae": {
      "model_module": "@jupyter-widgets/controls",
      "model_module_version": "2.0.0",
      "model_name": "DescriptionStyleModel",
      "state": {
       "description_width": ""
      }
     },
     "ec26c56fc70342a69982984da858bd80": {
      "model_module": "@jupyter-widgets/controls",
      "model_module_version": "2.0.0",
      "model_name": "HBoxModel",
      "state": {
       "children": [
        "IPY_MODEL_78d36a9808b54ff981c88ff6728c637d",
        "IPY_MODEL_880050783f4c44c292b5a5ab4b78d5f0",
        "IPY_MODEL_4f53cb569fd8486a967eba8b42d797fe"
       ],
       "layout": "IPY_MODEL_13d88b6945624858bf60053f2dbf32c9"
      }
     },
     "ec2e9caef23c425aaad9a678c47913e1": {
      "model_module": "@jupyter-widgets/controls",
      "model_module_version": "2.0.0",
      "model_name": "ButtonModel",
      "state": {
       "description": "show color",
       "layout": "IPY_MODEL_5f23e977adbd4801b5b5c3ddbd51b54b",
       "style": "IPY_MODEL_9d4b8ed50e0c4bf08e97b60718a8c1cb",
       "tooltip": null
      }
     },
     "ec3f6d493fed4b16af6ba81698eee6f4": {
      "model_module": "@jupyter-widgets/base",
      "model_module_version": "2.0.0",
      "model_name": "LayoutModel",
      "state": {}
     },
     "ed35c044b5f2453c9b3e373533ae4489": {
      "model_module": "@jupyter-widgets/base",
      "model_module_version": "2.0.0",
      "model_name": "LayoutModel",
      "state": {}
     },
     "edbcf1cb28c0499f916ddc56407199ca": {
      "model_module": "@jupyter-widgets/base",
      "model_module_version": "2.0.0",
      "model_name": "LayoutModel",
      "state": {}
     },
     "edbf6bedc3dc4ff6b48183d553ef5e09": {
      "model_module": "@jupyter-widgets/controls",
      "model_module_version": "2.0.0",
      "model_name": "ColorPickerModel",
      "state": {
       "description": "Select a color:",
       "disabled": false,
       "layout": "IPY_MODEL_aacb6e574c3d4a75bcd0389220c247dc",
       "style": "IPY_MODEL_2ca08af4296549a7b5077191d547ce3e"
      }
     },
     "ede3c96d3d744ecc8cfc7ee953a2d45b": {
      "model_module": "@jupyter-widgets/controls",
      "model_module_version": "2.0.0",
      "model_name": "ButtonModel",
      "state": {
       "description": "remove ion",
       "layout": "IPY_MODEL_9e5b3af51fbf4389a92aee7f911a0f58",
       "style": "IPY_MODEL_77a97818d1fb40b5921ab0235751c9e4",
       "tooltip": null
      }
     },
     "ee29ab96e43245f888bc873abe6cf2f4": {
      "model_module": "@jupyter-widgets/controls",
      "model_module_version": "2.0.0",
      "model_name": "HBoxModel",
      "state": {
       "children": [
        "IPY_MODEL_f12659857815460380046460b0a388ec",
        "IPY_MODEL_08e48010cc1146a3a472bdf4dd4e9b32",
        "IPY_MODEL_53ec60e63ad84bc7ba7ce4d80d3bae85"
       ],
       "layout": "IPY_MODEL_36f0b4b63e07499ba049834113df353e"
      }
     },
     "ee29d057c7754b80abf4e63b4b96a6bc": {
      "model_module": "@jupyter-widgets/controls",
      "model_module_version": "2.0.0",
      "model_name": "ButtonStyleModel",
      "state": {
       "font_family": null,
       "font_size": null,
       "font_style": null,
       "font_variant": null,
       "font_weight": null,
       "text_color": null,
       "text_decoration": null
      }
     },
     "ee703c7f38844d7597c53564dc112201": {
      "model_module": "@jupyter-widgets/base",
      "model_module_version": "2.0.0",
      "model_name": "LayoutModel",
      "state": {}
     },
     "ee89a5cf2a5246fe9b46da913b9a7235": {
      "model_module": "@jupyter-widgets/base",
      "model_module_version": "2.0.0",
      "model_name": "LayoutModel",
      "state": {}
     },
     "ee8eb4cee56c44a781fe00879a3c493f": {
      "model_module": "@jupyter-widgets/base",
      "model_module_version": "2.0.0",
      "model_name": "LayoutModel",
      "state": {}
     },
     "eead5c57bab2499688df6a3eff2b6f5c": {
      "model_module": "@jupyter-widgets/controls",
      "model_module_version": "2.0.0",
      "model_name": "ButtonModel",
      "state": {
       "description": "plot hist",
       "layout": "IPY_MODEL_75dc445db61d46ee8b4e6d604b7d62f2",
       "style": "IPY_MODEL_95524a73b0244608960f1ab0930dd9e3",
       "tooltip": null
      }
     },
     "eeee69777b584eee9368beaab259866e": {
      "model_module": "@jupyter-widgets/controls",
      "model_module_version": "2.0.0",
      "model_name": "VBoxModel",
      "state": {
       "children": [
        "IPY_MODEL_c2f7f44d40ba4ad98aeaf8d205553461",
        "IPY_MODEL_22c891d15f1e47d4959fd2b7161c5f41",
        "IPY_MODEL_598200ef5f7e452caeab118e6ff3c34a",
        "IPY_MODEL_4eb500a9928343beb1f49bdfa6ac3338",
        "IPY_MODEL_78a8791e98494f578d67d7d467478167",
        "IPY_MODEL_484a7f6b8cdd4eddab411a00366278e6",
        "IPY_MODEL_50a9b0ea582040fab32b78bfe75ac3be",
        "IPY_MODEL_c5a1434973b14896a9418ab65fe085b7",
        "IPY_MODEL_08a5c5f107934a8dba7e665a1eb4b060"
       ],
       "layout": "IPY_MODEL_82d979f931e440b08056ab6605028e53"
      }
     },
     "eefd7d898943485facdb2d3ce71fb0a2": {
      "model_module": "@jupyter-widgets/base",
      "model_module_version": "2.0.0",
      "model_name": "LayoutModel",
      "state": {}
     },
     "ef05ce65f2184e8b8ef590e3bef0d98e": {
      "model_module": "@jupyter-widgets/controls",
      "model_module_version": "2.0.0",
      "model_name": "VBoxModel",
      "state": {
       "children": [
        "IPY_MODEL_8b5c7eba40334cb7af762df68c05d83a",
        "IPY_MODEL_edbf6bedc3dc4ff6b48183d553ef5e09",
        "IPY_MODEL_a92c312414454f9cb9d98584a1bfd750",
        "IPY_MODEL_ede3c96d3d744ecc8cfc7ee953a2d45b",
        "IPY_MODEL_b92a0a30566a4225b2c5a2fdb4a50d17",
        "IPY_MODEL_637468e78bb4422f96eb509836c26cff"
       ],
       "layout": "IPY_MODEL_2335afddaac547c9be9507fb584e0642"
      }
     },
     "f0b49e80deba499591bedde5fa005f33": {
      "model_module": "@jupyter-widgets/controls",
      "model_module_version": "2.0.0",
      "model_name": "DescriptionStyleModel",
      "state": {
       "description_width": ""
      }
     },
     "f0b67204a82c4fa49783a9e0c9e999e8": {
      "model_module": "@jupyter-widgets/controls",
      "model_module_version": "2.0.0",
      "model_name": "DescriptionStyleModel",
      "state": {
       "description_width": ""
      }
     },
     "f0e0690b61b54e27902a2c102b3dc3de": {
      "model_module": "@jupyter-widgets/base",
      "model_module_version": "2.0.0",
      "model_name": "LayoutModel",
      "state": {}
     },
     "f11089a482c14c5f9926ceafa869427e": {
      "model_module": "@jupyter-widgets/output",
      "model_module_version": "1.0.0",
      "model_name": "OutputModel",
      "state": {
       "layout": "IPY_MODEL_c0a04cb9275141eb8d0ee4fadd84c6d7",
       "outputs": [
        {
         "name": "stdout",
         "output_type": "stream",
         "text": "               ion      mass element  complex  isotope  charge  abundance\n0   ${}^{2}H^{2+}$  1.005000       H        1        2       2    0.01500\n1  ${}^{3}He^{3+}$  1.006667      He        1        3       3    0.00014\n2    ${}^{1}H^{+}$  1.010000       H        1        1       1   99.98500\n3  ${}^{4}He^{3+}$  1.333333      He        1        4       3   99.99990\n4  ${}^{3}He^{2+}$  1.510000      He        1        3       2    0.00014\n"
        },
        {
         "data": {
          "text/html": "<div>\n<style scoped>\n    .dataframe tbody tr th:only-of-type {\n        vertical-align: middle;\n    }\n\n    .dataframe tbody tr th {\n        vertical-align: top;\n    }\n\n    .dataframe thead th {\n        text-align: right;\n    }\n</style>\n<table border=\"1\" class=\"dataframe\">\n  <thead>\n    <tr style=\"text-align: right;\">\n      <th></th>\n      <th>ion</th>\n      <th>mass</th>\n      <th>element</th>\n      <th>complex</th>\n      <th>isotope</th>\n      <th>charge</th>\n      <th>abundance</th>\n    </tr>\n  </thead>\n  <tbody>\n    <tr>\n      <th>0</th>\n      <td>${}^{1}H^{+}$</td>\n      <td>1.0100</td>\n      <td>H</td>\n      <td>1.0</td>\n      <td>1.0</td>\n      <td>1.0</td>\n      <td>0.999850</td>\n    </tr>\n    <tr>\n      <th>1</th>\n      <td>${}^{3}He^{3+}$</td>\n      <td>1.0067</td>\n      <td>He</td>\n      <td>1.0</td>\n      <td>3.0</td>\n      <td>3.0</td>\n      <td>0.000001</td>\n    </tr>\n    <tr>\n      <th>2</th>\n      <td>${}^{2}H^{2+}$</td>\n      <td>1.0050</td>\n      <td>H</td>\n      <td>1.0</td>\n      <td>2.0</td>\n      <td>2.0</td>\n      <td>0.000150</td>\n    </tr>\n    <tr>\n      <th>3</th>\n      <td>${}^{4}He^{3+}$</td>\n      <td>1.3333</td>\n      <td>He</td>\n      <td>1.0</td>\n      <td>4.0</td>\n      <td>3.0</td>\n      <td>0.999999</td>\n    </tr>\n    <tr>\n      <th>4</th>\n      <td>${}^{3}He^{2+}$</td>\n      <td>1.5100</td>\n      <td>He</td>\n      <td>1.0</td>\n      <td>3.0</td>\n      <td>2.0</td>\n      <td>0.000001</td>\n    </tr>\n  </tbody>\n</table>\n</div>",
          "text/plain": "               ion    mass element  complex  isotope  charge  abundance\n0    ${}^{1}H^{+}$  1.0100       H      1.0      1.0     1.0   0.999850\n1  ${}^{3}He^{3+}$  1.0067      He      1.0      3.0     3.0   0.000001\n2   ${}^{2}H^{2+}$  1.0050       H      1.0      2.0     2.0   0.000150\n3  ${}^{4}He^{3+}$  1.3333      He      1.0      4.0     3.0   0.999999\n4  ${}^{3}He^{2+}$  1.5100      He      1.0      3.0     2.0   0.000001"
         },
         "metadata": {},
         "output_type": "display_data"
        }
       ]
      }
     },
     "f110f0e9ccee4785a23ca6b2eb4c0252": {
      "model_module": "@jupyter-widgets/controls",
      "model_module_version": "2.0.0",
      "model_name": "ButtonStyleModel",
      "state": {
       "font_family": null,
       "font_size": null,
       "font_style": null,
       "font_variant": null,
       "font_weight": null,
       "text_color": null,
       "text_decoration": null
      }
     },
     "f12659857815460380046460b0a388ec": {
      "model_module": "@jupyter-widgets/controls",
      "model_module_version": "2.0.0",
      "model_name": "VBoxModel",
      "state": {
       "children": [
        "IPY_MODEL_7b3544fb62134c5b8659576047b0514d",
        "IPY_MODEL_176871cadae34dd5b3a27533c9146565",
        "IPY_MODEL_3df0feb1b4f245acbcd7be96b406b708",
        "IPY_MODEL_49b7e1023cd94ba7a440a3aed23745c4",
        "IPY_MODEL_152a33297f5e43b4a2d6353f0f00e9b9",
        "IPY_MODEL_743bc45191b0438aabe1a0a4e706f937",
        "IPY_MODEL_3bfba64a656347dc9c9a587e14047a89",
        "IPY_MODEL_5229323c6814427ea5d8f498ec15afe4",
        "IPY_MODEL_7b04ab430d9f46afaab1ce5d13e13dea"
       ],
       "layout": "IPY_MODEL_eba104a392e645d0900d047e2b8352b4"
      }
     },
     "f1a870d8e95c483a8fff6ff93b8f5fb8": {
      "model_module": "@jupyter-widgets/controls",
      "model_module_version": "2.0.0",
      "model_name": "DescriptionStyleModel",
      "state": {
       "description_width": ""
      }
     },
     "f1b04a2d6aee492494bafb2aa589baaf": {
      "model_module": "@jupyter-widgets/base",
      "model_module_version": "2.0.0",
      "model_name": "LayoutModel",
      "state": {}
     },
     "f20ed9ef5962413bbbafa55abf2be174": {
      "model_module": "@jupyter-widgets/controls",
      "model_module_version": "2.0.0",
      "model_name": "TabModel",
      "state": {
       "children": [
        "IPY_MODEL_afb100481fdf4757b7e922d722ec51a0"
       ],
       "layout": "IPY_MODEL_bdc6947fe71046ac8b9a36de2c030a54",
       "selected_index": 0,
       "titles": [
        "element finder"
       ]
      }
     },
     "f21d29153b554a26b2bcea1f0bd59d5d": {
      "model_module": "@jupyter-widgets/base",
      "model_module_version": "2.0.0",
      "model_name": "LayoutModel",
      "state": {}
     },
     "f2472c5843dc4d0185036e0f62427019": {
      "model_module": "@jupyter-widgets/base",
      "model_module_version": "2.0.0",
      "model_name": "LayoutModel",
      "state": {}
     },
     "f26cbc334f03489da2ce9006c1656f68": {
      "model_module": "@jupyter-widgets/base",
      "model_module_version": "2.0.0",
      "model_name": "LayoutModel",
      "state": {}
     },
     "f2ebd90c21d143ec8e8e1047c71cb19e": {
      "model_module": "@jupyter-widgets/controls",
      "model_module_version": "2.0.0",
      "model_name": "ButtonModel",
      "state": {
       "description": "add ion",
       "layout": "IPY_MODEL_9ca5de94ddcc4e339dca707244b5c72c",
       "style": "IPY_MODEL_c0a9846e212940e680afd149bff4f0fc",
       "tooltip": null
      }
     },
     "f33af4f2c4f247b5bb85c077762497fd": {
      "model_module": "@jupyter-widgets/controls",
      "model_module_version": "2.0.0",
      "model_name": "ButtonStyleModel",
      "state": {
       "font_family": null,
       "font_size": null,
       "font_style": null,
       "font_variant": null,
       "font_weight": null,
       "text_color": null,
       "text_decoration": null
      }
     },
     "f4a57a35985c4d57a296ddf0242d6934": {
      "model_module": "@jupyter-widgets/base",
      "model_module_version": "2.0.0",
      "model_name": "LayoutModel",
      "state": {}
     },
     "f54ee6b9c9af4bf0a409873492d6109b": {
      "model_module": "@jupyter-widgets/controls",
      "model_module_version": "2.0.0",
      "model_name": "ButtonModel",
      "state": {
       "description": "plot element",
       "layout": "IPY_MODEL_166e75f4ad954ce5855b59f0d7121e46",
       "style": "IPY_MODEL_05be6c185c054f1a9c528a444a5b55c4",
       "tooltip": null
      }
     },
     "f5dd0e2fa19b431db5c4427ee3ab3bfe": {
      "model_module": "@jupyter-widgets/controls",
      "model_module_version": "2.0.0",
      "model_name": "HBoxModel",
      "state": {
       "children": [
        "IPY_MODEL_ba5bc0b60fd34c38b8c58534a93bf951",
        "IPY_MODEL_36166988480946aba8020ddd343b6ec0"
       ],
       "layout": "IPY_MODEL_ffa3292923104a46816028eda78b4eef"
      }
     },
     "f5f4544aa16a4377880b02207bca636a": {
      "model_module": "@jupyter-widgets/controls",
      "model_module_version": "2.0.0",
      "model_name": "ButtonModel",
      "state": {
       "description": "next",
       "layout": "IPY_MODEL_2f668c965a704679a99bfcf18e518dfe",
       "style": "IPY_MODEL_bb13196bc59b470c8ecb926d034e8f9d",
       "tooltip": null
      }
     },
     "f6007a42a09d45ecb5eb5e47c1062749": {
      "model_module": "@jupyter-widgets/base",
      "model_module_version": "2.0.0",
      "model_name": "LayoutModel",
      "state": {}
     },
     "f634de1ddb2a4e3db9ca304d65ce33ff": {
      "model_module": "@jupyter-widgets/controls",
      "model_module_version": "2.0.0",
      "model_name": "ButtonStyleModel",
      "state": {
       "font_family": null,
       "font_size": null,
       "font_style": null,
       "font_variant": null,
       "font_weight": null,
       "text_color": null,
       "text_decoration": null
      }
     },
     "f6f80ad1c2f74f32a9fa6cde82667968": {
      "model_module": "@jupyter-widgets/base",
      "model_module_version": "2.0.0",
      "model_name": "LayoutModel",
      "state": {}
     },
     "f774de318d06472583339757e414294c": {
      "model_module": "@jupyter-widgets/controls",
      "model_module_version": "2.0.0",
      "model_name": "ButtonStyleModel",
      "state": {
       "font_family": null,
       "font_size": null,
       "font_style": null,
       "font_variant": null,
       "font_weight": null,
       "text_color": null,
       "text_decoration": null
      }
     },
     "f7d09aa25fce4ebab354d0c1c98fd598": {
      "model_module": "@jupyter-widgets/base",
      "model_module_version": "2.0.0",
      "model_name": "LayoutModel",
      "state": {}
     },
     "f7d9749ed7d54c4bb77ae58348b044b8": {
      "model_module": "@jupyter-widgets/base",
      "model_module_version": "2.0.0",
      "model_name": "LayoutModel",
      "state": {}
     },
     "f7edfe3b06914a19af2d0c14d9f4bf08": {
      "model_module": "@jupyter-widgets/base",
      "model_module_version": "2.0.0",
      "model_name": "LayoutModel",
      "state": {}
     },
     "f929d1bb30ad4aee90cfc26bcf6a4c34": {
      "model_module": "@jupyter-widgets/base",
      "model_module_version": "2.0.0",
      "model_name": "LayoutModel",
      "state": {}
     },
     "fa8b43c4dc7c4a7b8614e5536f9e6caa": {
      "model_module": "@jupyter-widgets/controls",
      "model_module_version": "2.0.0",
      "model_name": "ButtonStyleModel",
      "state": {
       "font_family": null,
       "font_size": null,
       "font_style": null,
       "font_variant": null,
       "font_weight": null,
       "text_color": null,
       "text_decoration": null
      }
     },
     "fac31189160f4e358cef65a229bae41c": {
      "model_module": "@jupyter-widgets/controls",
      "model_module_version": "2.0.0",
      "model_name": "ButtonStyleModel",
      "state": {
       "font_family": null,
       "font_size": null,
       "font_style": null,
       "font_variant": null,
       "font_weight": null,
       "text_color": null,
       "text_decoration": null
      }
     },
     "fb3a621ae4ce45baba1fc3b5b782f494": {
      "model_module": "@jupyter-widgets/controls",
      "model_module_version": "2.0.0",
      "model_name": "ButtonModel",
      "state": {
       "description": "reset zoom",
       "layout": "IPY_MODEL_34caf358a4fb4385af53288f73425a75",
       "style": "IPY_MODEL_470c79d513b740f3bb231cd94de87f32",
       "tooltip": null
      }
     },
     "fb4d14b9dab14024a3190f559841b6b0": {
      "model_module": "@jupyter-widgets/base",
      "model_module_version": "2.0.0",
      "model_name": "LayoutModel",
      "state": {}
     },
     "fc0ff83308d94f778a716d4f05207918": {
      "model_module": "@jupyter-widgets/output",
      "model_module_version": "1.0.0",
      "model_name": "OutputModel",
      "state": {
       "layout": "IPY_MODEL_a7f0a09e45fa41068a1912a910890ba6"
      }
     },
     "fc2f14da329c4a22856dcb42f0156cd0": {
      "model_module": "@jupyter-widgets/base",
      "model_module_version": "2.0.0",
      "model_name": "LayoutModel",
      "state": {}
     },
     "fc6ed6d05af74c8caef08db375f1296e": {
      "model_module": "@jupyter-widgets/controls",
      "model_module_version": "2.0.0",
      "model_name": "DescriptionStyleModel",
      "state": {
       "description_width": ""
      }
     },
     "fc8fcdec390f481193471f9749fde264": {
      "model_module": "@jupyter-widgets/controls",
      "model_module_version": "2.0.0",
      "model_name": "ColorPickerModel",
      "state": {
       "description": "Select a color:",
       "disabled": false,
       "layout": "IPY_MODEL_f1b04a2d6aee492494bafb2aa589baaf",
       "style": "IPY_MODEL_4577c330eba84f9582afee892570f028"
      }
     },
     "fc9f2bd40277470682bd7bb4b6707bb6": {
      "model_module": "@jupyter-widgets/base",
      "model_module_version": "2.0.0",
      "model_name": "LayoutModel",
      "state": {}
     },
     "fd69424582e84c2880d270c01941c325": {
      "model_module": "@jupyter-widgets/base",
      "model_module_version": "2.0.0",
      "model_name": "LayoutModel",
      "state": {}
     },
     "fde07cfe02d440cebe702f6ebab12973": {
      "model_module": "@jupyter-widgets/controls",
      "model_module_version": "2.0.0",
      "model_name": "TabModel",
      "state": {
       "children": [
        "IPY_MODEL_e2f2e73df79f4b39a17b598ac7d522da",
        "IPY_MODEL_bacd506cc0dc465289c7ca77ad4164ef"
       ],
       "layout": "IPY_MODEL_0bd4a3285a814cb9a94bcded26d37c49",
       "selected_index": 0,
       "titles": [
        "peak finder",
        "rangging"
       ]
      }
     },
     "fde37b0d742e44f4acb921a11a4b3343": {
      "model_module": "@jupyter-widgets/base",
      "model_module_version": "2.0.0",
      "model_name": "LayoutModel",
      "state": {}
     },
     "fde9192d444d4a1688c30320ccc74181": {
      "model_module": "@jupyter-widgets/controls",
      "model_module_version": "2.0.0",
      "model_name": "DescriptionStyleModel",
      "state": {
       "description_width": ""
      }
     },
     "fe00c1e860be4c069a29c897be1f87dc": {
      "model_module": "@jupyter-widgets/controls",
      "model_module_version": "2.0.0",
      "model_name": "ButtonStyleModel",
      "state": {
       "font_family": null,
       "font_size": null,
       "font_style": null,
       "font_variant": null,
       "font_weight": null,
       "text_color": null,
       "text_decoration": null
      }
     },
     "fe049bbbcef44f3989f2c4dc37290890": {
      "model_module": "@jupyter-widgets/base",
      "model_module_version": "2.0.0",
      "model_name": "LayoutModel",
      "state": {}
     },
     "fe10b35b7a33438d9dce25685aa65a19": {
      "model_module": "@jupyter-widgets/controls",
      "model_module_version": "2.0.0",
      "model_name": "ButtonStyleModel",
      "state": {
       "font_family": null,
       "font_size": null,
       "font_style": null,
       "font_variant": null,
       "font_weight": null,
       "text_color": null,
       "text_decoration": null
      }
     },
     "fe35aa124dde4dddb85c1a1c2678f532": {
      "model_module": "@jupyter-widgets/controls",
      "model_module_version": "2.0.0",
      "model_name": "ButtonModel",
      "state": {
       "description": "remove ion",
       "layout": "IPY_MODEL_1ea49bf4e52d4d23b35aa12368c4d65f",
       "style": "IPY_MODEL_cb8fd190dd20440b8f45acd9aef32c6d",
       "tooltip": null
      }
     },
     "fe4d9d3e1b9b4557b6fce60c7bde91c2": {
      "model_module": "@jupyter-widgets/controls",
      "model_module_version": "2.0.0",
      "model_name": "HBoxModel",
      "state": {
       "children": [
        "IPY_MODEL_d438218b8d1742859a1621d9e8d26149",
        "IPY_MODEL_5d570a5997904128b088ca21b066716c"
       ],
       "layout": "IPY_MODEL_a3c563049a6441eabd11d145b11a2c60"
      }
     },
     "fec0c2734f2a47d29a4ed887216cc489": {
      "model_module": "@jupyter-widgets/base",
      "model_module_version": "2.0.0",
      "model_name": "LayoutModel",
      "state": {}
     },
     "ff5b2897ff4f4e079370078438711d8e": {
      "model_module": "@jupyter-widgets/controls",
      "model_module_version": "2.0.0",
      "model_name": "DescriptionStyleModel",
      "state": {
       "description_width": ""
      }
     },
     "ff7497f67c334dcd96c59f6df9c66624": {
      "model_module": "@jupyter-widgets/base",
      "model_module_version": "2.0.0",
      "model_name": "LayoutModel",
      "state": {}
     },
     "ffa3292923104a46816028eda78b4eef": {
      "model_module": "@jupyter-widgets/base",
      "model_module_version": "2.0.0",
      "model_name": "LayoutModel",
      "state": {}
     }
    },
    "version_major": 2,
    "version_minor": 0
   }
  }
 },
 "nbformat": 4,
 "nbformat_minor": 4
}

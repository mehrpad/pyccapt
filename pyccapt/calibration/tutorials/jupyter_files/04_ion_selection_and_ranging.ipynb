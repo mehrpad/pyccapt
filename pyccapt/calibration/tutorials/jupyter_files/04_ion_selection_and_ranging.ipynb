{
 "cells": [
  {
   "cell_type": "code",
   "execution_count": 1,
   "metadata": {
    "pycharm": {
     "name": "#%%\n"
    },
    "tags": []
   },
   "outputs": [],
   "source": [
    "# Activate intractive functionality of matplotlib\n",
    "%matplotlib ipympl\n",
    "# Activate auto reload \n",
    "%load_ext autoreload\n",
    "%autoreload 2\n",
    "%reload_ext autoreload\n",
    "# import libraries\n",
    "import os\n",
    "import os.path as path\n",
    "import pandas as pd\n",
    "import numpy as np\n",
    "from scipy.optimize import curve_fit\n",
    "from faker import Factory\n",
    "from scipy import interpolate\n",
    "from mpl_toolkits.mplot3d import Axes3D\n",
    "import matplotlib.pyplot as plt\n",
    "import math \n",
    "import itertools \n",
    "from ipywidgets import interact, interactive, fixed, interact_manual, widgets\n",
    "from ipywidgets import HBox, VBox\n",
    "from ipywidgets import IntSlider, Output\n",
    "from IPython.display import clear_output\n",
    "import matplotlib.colors as mcolors\n",
    "import h5py\n",
    "import re\n",
    "import matplotlib\n",
    "import warnings\n",
    "# Ignore all warnings\n",
    "warnings.filterwarnings(\"ignore\")\n",
    "\n",
    "# Local module and scripts\n",
    "from pyccapt.calibration.calibration_tools import tools, share_variables, calibration, ion_selection\n",
    "from pyccapt.calibration.calibration_tools import widgets as wd\n",
    "from pyccapt.calibration.data_tools import data_tools, data_loadcrop, dataset_path_qt\n",
    "from pyccapt.calibration.mc import mc_tools\n",
    "from pyccapt.calibration.leap_tools import ccapt_tools\n",
    "from pyccapt.calibration.calibration_tools import mc_plot, gui_ion_select"
   ]
  },
  {
   "cell_type": "code",
   "execution_count": 2,
   "metadata": {
    "tags": []
   },
   "outputs": [
    {
     "data": {
      "application/vnd.jupyter.widget-view+json": {
       "model_id": "0f3ad5032fe04fd69063908ddbdb62bb",
       "version_major": 2,
       "version_minor": 0
      },
      "text/plain": [
       "Button(description='load dataset', style=ButtonStyle())"
      ]
     },
     "execution_count": 2,
     "metadata": {},
     "output_type": "execute_result"
    }
   ],
   "source": [
    "button = widgets.Button(\n",
    "    description='load dataset',\n",
    ")\n",
    "@button.on_click\n",
    "def open_file_on_click(b):\n",
    "    \"\"\"\n",
    "    Event handler for button click event.\n",
    "    Prompts the user to select a dataset file and stores the selected file path in the global variable dataset_path.\n",
    "    \"\"\"\n",
    "    global dataset_path\n",
    "    dataset_path = dataset_path_qt.gui_fname().decode('ASCII')\n",
    "button"
   ]
  },
  {
   "cell_type": "code",
   "execution_count": 3,
   "metadata": {
    "tags": []
   },
   "outputs": [
    {
     "data": {
      "application/vnd.jupyter.widget-view+json": {
       "model_id": "8fec1008b4314a3fa10cd4aae7ccb361",
       "version_major": 2,
       "version_minor": 0
      },
      "text/plain": [
       "Dropdown(description='Data mode:', options=('PyCCAPT', 'leap_epos', 'leap_pos', 'ato_v6'), value='PyCCAPT')"
      ]
     },
     "metadata": {},
     "output_type": "display_data"
    },
    {
     "data": {
      "application/vnd.jupyter.widget-view+json": {
       "model_id": "a432dadafe194a3fbdee154e5e33bb1b",
       "version_major": 2,
       "version_minor": 0
      },
      "text/plain": [
       "FloatText(value=110.0, description='Flight path length:')"
      ]
     },
     "metadata": {},
     "output_type": "display_data"
    }
   ],
   "source": [
    "tdc, pulse_mode, flightPathLength_d, t0_d, max_mc, det_diam = wd.dataset_instrument_specification_selection()\n",
    "display(tdc, flightPathLength_d)"
   ]
  },
  {
   "cell_type": "markdown",
   "metadata": {
    "pycharm": {
     "name": "#%% md\n"
    }
   },
   "source": [
    "$$\\textbf{You can specify which dataset to use in below block}$$"
   ]
  },
  {
   "cell_type": "code",
   "execution_count": 4,
   "metadata": {
    "tags": []
   },
   "outputs": [
    {
     "ename": "NameError",
     "evalue": "name 'dataset_path' is not defined",
     "output_type": "error",
     "traceback": [
      "\u001b[1;31m---------------------------------------------------------------------------\u001b[0m",
      "\u001b[1;31mNameError\u001b[0m                                 Traceback (most recent call last)",
      "Cell \u001b[1;32mIn[4], line 4\u001b[0m\n\u001b[0;32m      1\u001b[0m \u001b[38;5;66;03m# exctract needed data from Pandas data frame as an numpy array\u001b[39;00m\n\u001b[0;32m      2\u001b[0m \u001b[38;5;66;03m# create an instance of the Variables opject\u001b[39;00m\n\u001b[0;32m      3\u001b[0m variables \u001b[38;5;241m=\u001b[39m share_variables\u001b[38;5;241m.\u001b[39mVariables()\n\u001b[1;32m----> 4\u001b[0m dataset_main_path \u001b[38;5;241m=\u001b[39m os\u001b[38;5;241m.\u001b[39mpath\u001b[38;5;241m.\u001b[39mdirname(\u001b[43mdataset_path\u001b[49m)\n\u001b[0;32m      5\u001b[0m dataset_name_with_extention \u001b[38;5;241m=\u001b[39m os\u001b[38;5;241m.\u001b[39mpath\u001b[38;5;241m.\u001b[39mbasename(dataset_path)\n\u001b[0;32m      6\u001b[0m dataset_main_path \u001b[38;5;241m=\u001b[39m os\u001b[38;5;241m.\u001b[39mpath\u001b[38;5;241m.\u001b[39mdirname(dataset_main_path)\n",
      "\u001b[1;31mNameError\u001b[0m: name 'dataset_path' is not defined"
     ]
    }
   ],
   "source": [
    "# exctract needed data from Pandas data frame as an numpy array\n",
    "# create an instance of the Variables opject\n",
    "variables = share_variables.Variables()\n",
    "dataset_main_path = os.path.dirname(dataset_path)\n",
    "dataset_name_with_extention = os.path.basename(dataset_path)\n",
    "dataset_main_path = os.path.dirname(dataset_main_path)\n",
    "variables.dataset_name = os.path.splitext(dataset_name_with_extention)[0]\n",
    "variables.result_data_path = dataset_main_path + '/ions_selection/'\n",
    "variables.result_data_name = 'range_' + variables.dataset_name\n",
    "variables.result_path = dataset_main_path + '/' + '/ions_selection/'\n",
    "\n",
    "if not os.path.isdir(variables.result_path):\n",
    "    os.makedirs(variables.result_path, mode=0o777, exist_ok=True)\n",
    "    \n",
    "# Create data farame out of hdf5 file dataset\n",
    "data = data_tools.load_data(dataset_path, tdc.value, mode='processed')\n",
    "# extract data from the path and create the Variable object\n",
    "data_tools.extract_data(data, variables, flightPathLength_d.value, max_mc.value)"
   ]
  },
  {
   "cell_type": "code",
   "execution_count": 5,
   "metadata": {
    "pycharm": {
     "name": "#%%\n"
    },
    "tags": []
   },
   "outputs": [
    {
     "name": "stdout",
     "output_type": "stream",
     "text": [
      "The data will be saved on the path: \n",
      "=============================\n",
      "The dataset name after saving is: \n",
      "=============================\n",
      "The figures will be saved on the path: \n",
      "=============================\n"
     ]
    },
    {
     "ename": "NameError",
     "evalue": "name 'data' is not defined",
     "output_type": "error",
     "traceback": [
      "\u001b[1;31m---------------------------------------------------------------------------\u001b[0m",
      "\u001b[1;31mNameError\u001b[0m                                 Traceback (most recent call last)",
      "Cell \u001b[1;32mIn[5], line 7\u001b[0m\n\u001b[0;32m      5\u001b[0m \u001b[38;5;28mprint\u001b[39m(\u001b[38;5;124m'\u001b[39m\u001b[38;5;124mThe figures will be saved on the path:\u001b[39m\u001b[38;5;124m'\u001b[39m, variables\u001b[38;5;241m.\u001b[39mresult_path)\n\u001b[0;32m      6\u001b[0m \u001b[38;5;28mprint\u001b[39m(\u001b[38;5;124m'\u001b[39m\u001b[38;5;124m=============================\u001b[39m\u001b[38;5;124m'\u001b[39m)\n\u001b[1;32m----> 7\u001b[0m \u001b[38;5;28mprint\u001b[39m(\u001b[38;5;124m'\u001b[39m\u001b[38;5;124mTotal number of Ions:\u001b[39m\u001b[38;5;124m'\u001b[39m, \u001b[38;5;28mlen\u001b[39m(\u001b[43mdata\u001b[49m))\n\u001b[0;32m      8\u001b[0m data\n",
      "\u001b[1;31mNameError\u001b[0m: name 'data' is not defined"
     ]
    }
   ],
   "source": [
    "print('The data will be saved on the path:', variables.result_data_path)\n",
    "print('=============================')\n",
    "print('The dataset name after saving is:', variables.result_data_name)\n",
    "print('=============================')\n",
    "print('The figures will be saved on the path:', variables.result_path)\n",
    "print('=============================')\n",
    "print('Total number of Ions:', len(data))\n",
    "data"
   ]
  },
  {
   "cell_type": "code",
   "execution_count": 6,
   "metadata": {
    "pycharm": {
     "name": "#%%\n"
    },
    "tags": []
   },
   "outputs": [
    {
     "data": {
      "application/vnd.jupyter.widget-view+json": {
       "model_id": "536cc5e960a24c2687a98717a1b3478c",
       "version_major": 2,
       "version_minor": 0
      },
      "text/plain": [
       "interactive(children=(FloatText(value=0.1, description='bin_size'), Dropdown(description='log', options=(('Tru…"
      ]
     },
     "metadata": {},
     "output_type": "display_data"
    }
   ],
   "source": [
    "interact_manual(mc_plot.hist_plot, variables=fixed(variables), bin_size=widgets.FloatText(value=0.1), log=widgets.Dropdown(options=[('True', True), ('Flase', False)]),\n",
    "                target=widgets.Dropdown(options=[('mc_c', 'mc_c'), ('tof_c', 'tof_c')]), mode=widgets.Dropdown(options=[('normal', 'normal'), ('normalized', 'normalized')]),\n",
    "                prominence=widgets.IntText(value=100), distance=widgets.IntText(value=100), \n",
    "                lim=widgets.IntText(value=variables.max_tof), percent=widgets.IntText(value=50), selector=fixed('None'), plot=fixed(True), figname=widgets.Text(value='hist'),\n",
    "                peaks_find_plot=widgets.Dropdown(options=[('True', True), ('Flase', False)]), range_plot=fixed(False), selected_area=fixed(False), print_info=fixed(True));"
   ]
  },
  {
   "cell_type": "code",
   "execution_count": 7,
   "metadata": {
    "tags": []
   },
   "outputs": [],
   "source": [
    "bin_size=widgets.FloatText(value=0.1, description='bin size:')\n",
    "prominence=widgets.IntText(value=50, description='peak prominance:')\n",
    "distance=widgets.IntText(value=1, description='peak distance:')\n",
    "lim_tof=widgets.IntText(value=400, description='lim tof/mc:')\n",
    "percent=widgets.IntText(value=50, description='percent MRP:')\n",
    "index_fig = widgets.IntText(value=1, description='fig index:')\n",
    "plot_peak = widgets.Dropdown(\n",
    "    options=[('True', True), ('False', False)],\n",
    "    description='plot peak:'\n",
    ")\n",
    "\n",
    "def hist_plot_p(variables, plot):\n",
    "    \n",
    "    with out:\n",
    "        clear_output(True)\n",
    "        # clear the peak_idx\n",
    "        variables.peaks_idx = []\n",
    "        mc_plot.hist_plot(variables, bin_size.value, log=True, target='mc_c', mode='normal', prominence=prominence.value, distance=distance.value, percent=percent.value,\n",
    "                          selector='peak', figname=index_fig.value, lim=lim_tof.value, peaks_find_plot=plot_peak.value, print_info=False)\n",
    "\n",
    "def hist_plot_r(variables, plot):\n",
    "    \n",
    "    with out:\n",
    "        clear_output(True)\n",
    "        print('=============================')\n",
    "        print('Press left click to draw a line')\n",
    "        print('Press right click to remove a line')\n",
    "        print('Press r to remove all the line')\n",
    "        print('Hold shift and use mouse scroll for zooming on x axis')\n",
    "        print('Hold ctrl and left mouse bottom to move a line')\n",
    "        print('=============================')\n",
    "        mc_plot.hist_plot(variables, bin_size.value, log=True, target='mc_c', mode='normal', prominence=prominence.value, distance=distance.value, percent=percent.value,\n",
    "                          selector='range', figname=index_fig.value, lim=lim_tof.value, peaks_find_plot=True, ranging_mode=True, save_fig=False, print_info=False)\n"
   ]
  },
  {
   "cell_type": "code",
   "execution_count": 8,
   "metadata": {
    "tags": []
   },
   "outputs": [],
   "source": [
    "# element calculate\n",
    "peak_val = widgets.FloatText(value=1.1, description='peak value:')\n",
    "charge = widgets.Dropdown(\n",
    "    options=[('1', 1), ('2', 2), ('3', 3), ('4', 4),('5', 5), ('6', 6)],\n",
    "    value=3,\n",
    "    description='charge:'\n",
    ")\n",
    "aboundance_threshold = widgets.FloatText(value=0.0, description='threshold aboundance:', min=0, max=1, step=0.1)\n",
    "num_element = widgets.IntText(value=5, description='num element:')\n",
    "# formula calculate\n",
    "formula_m = widgets.Text(\n",
    "    value='{12}C1{16}O2',\n",
    "    placeholder='Type a formula  {12}C1{16}O2',\n",
    "    description='Isotope formula:',\n",
    "    disabled=False\n",
    ")\n",
    "\n",
    "molecule_charge = widgets.Dropdown(\n",
    "    options=[('1', 1), ('2', 2), ('3', 3), ('4', 4),('5', 5), ('6', 6)],\n",
    "    value=3,\n",
    "    description='charge:'\n",
    ")\n",
    "\n",
    "aboundance_threshold_molecule = widgets.FloatText(value=0.0, description='threshold aboundance:', min=0, max=1, step=0.1)\n",
    "\n",
    "# molecule create\n",
    "formula_com = widgets.Text(\n",
    "    value='',\n",
    "    placeholder=\"H, O\",\n",
    "    description='Elements:',\n",
    "    disabled=False\n",
    ")\n",
    "complexity = widgets.Dropdown(\n",
    "    options=[('1', 1), ('2', 2), ('3', 3), ('4', 4),('5', 5), ('6', 6)],\n",
    "    value=3,\n",
    "    description='complexity:'\n",
    ")\n",
    "\n",
    "charge_com = widgets.Dropdown(\n",
    "    options=[('1', 1), ('2', 2), ('3', 3), ('4', 4),('5', 5), ('6', 6)],\n",
    "    value=3,\n",
    "    description='charge:'\n",
    ")"
   ]
  },
  {
   "cell_type": "code",
   "execution_count": 16,
   "metadata": {
    "tags": []
   },
   "outputs": [
    {
     "data": {
      "application/vnd.jupyter.widget-view+json": {
       "model_id": "8eb32b052a004bb581bf0c81c6b9f57a",
       "version_major": 2,
       "version_minor": 0
      },
      "text/plain": [
       "HBox(children=(Tab(children=(VBox(children=(FloatText(value=0.1, description='bin size:'), IntText(value=1, de…"
      ]
     },
     "metadata": {},
     "output_type": "display_data"
    },
    {
     "data": {
      "application/vnd.jupyter.widget-view+json": {
       "model_id": "217196769d274643be7f60486d914921",
       "version_major": 2,
       "version_minor": 0
      },
      "text/plain": [
       "VBox(children=(HBox(children=(Output(), Output())), Output()))"
      ]
     },
     "metadata": {},
     "output_type": "display_data"
    }
   ],
   "source": [
    "plot_button_p = widgets.Button(\n",
    "    description='plot hist',\n",
    ")\n",
    "\n",
    "plot_button_r = widgets.Button(\n",
    "    description='plot hist',\n",
    ")\n",
    "\n",
    "plot_button = widgets.Button(\n",
    "    description='plot hist',\n",
    ")\n",
    "\n",
    "\n",
    "find_elem_button = widgets.Button(\n",
    "    description='find element',\n",
    ")\n",
    "\n",
    "formula_button = widgets.Button(\n",
    "    description='manual formula',\n",
    ")\n",
    "\n",
    "add_ion_button = widgets.Button(\n",
    "    description='add ion',\n",
    ")\n",
    "romove_ion_button = widgets.Button(\n",
    "    description='remove ion',\n",
    ")\n",
    "show_color = widgets.Button(\n",
    "    description='show color',\n",
    ")\n",
    "change_color = widgets.Button(\n",
    "    description='change color',\n",
    ")\n",
    "\n",
    "color_picker = widgets.ColorPicker(description='Select a color:')\n",
    "row_index = widgets.IntText(value=0, description='index row:')\n",
    "mass_unknown = widgets.FloatText(value=0.0, description='unknown mass:')\n",
    "@plot_button_p.on_click\n",
    "def plot_on_click_p(b, plot=True):\n",
    "    hist_plot_p(variables, plot)\n",
    "    \n",
    "@plot_button_r.on_click\n",
    "def plot_on_click_r(b, plot=True):\n",
    "    hist_plot_r(variables, plot)\n",
    "    \n",
    "    \n",
    "@find_elem_button.on_click\n",
    "def vol_on_click(b,):\n",
    "    with output2:\n",
    "        clear_output(True)\n",
    "        df1 = ion_selection.load_elements(formula_com.value, aboundance_threshold.value, charge.value, variables=variables)\n",
    "        df2 = ion_selection.molecule_create(formula_com.value, complexity.value, charge.value, aboundance_threshold.value, variables)\n",
    "        df = pd.concat([df1, df2], axis=0)\n",
    "        df = df.iloc[(df['mass'] - peak_val.value).abs().argsort()]\n",
    "        # Reset the index to maintain a clean index order\n",
    "        df.reset_index(drop=True, inplace=True)\n",
    "        # Save to a pickle file\n",
    "        import pickle\n",
    "        with open('data.pkl', 'wb') as file:\n",
    "            pickle.dump(df, file)\n",
    "        # gui_ion_select.open_gui(df, variables)\n",
    "        display(df)\n",
    "    \n",
    "@formula_button.on_click\n",
    "def manual_formula(b,):\n",
    "    with output2:\n",
    "        if formula_m.value == '':\n",
    "            print(\"Input is empty. Type the formula.\")\n",
    "        else:\n",
    "            df = ion_selection.molecule_manual(formula_m.value, molecule_charge.value, latex=True, variables=variables)\n",
    "            clear_output(True)\n",
    "            display(df)\n",
    "\n",
    "@add_ion_button.on_click\n",
    "def add_ion_to_range_dataset(b,):\n",
    "    ion_selection.ranging_dataset_create(variables, row_index.value, mass_unknown.value)\n",
    "    with output3:\n",
    "        clear_output(True)\n",
    "        display(variables.range_data)\n",
    "@romove_ion_button.on_click\n",
    "def remove_ion_to_range_dataset(b,):\n",
    "    if len(variables.range_data) >= 1:\n",
    "        variables.range_data = variables.range_data.drop(len(variables.range_data) - 1)\n",
    "        with output3:\n",
    "            clear_output(True)\n",
    "            display(variables.range_data)\n",
    "        \n",
    "@show_color.on_click\n",
    "def show_color_ions(b,):\n",
    "    with output3:\n",
    "        clear_output(True)\n",
    "        display(variables.range_data.style.applymap(ion_selection.display_color, subset=['color']))\n",
    "@change_color.on_click\n",
    "def change_color_m(b,):\n",
    "    with output3:\n",
    "        selected_color = mcolors.to_hex(color_picker.value)\n",
    "        variables.range_data.at[row_index.value, 'color'] = selected_color\n",
    "        clear_output(True)\n",
    "        display(variables.range_data.style.applymap(ion_selection.display_color, subset=['color']))\n",
    "\n",
    "        # Create \"Next\" and \"Previous\" buttons\n",
    "start_button = widgets.Button(description=\"Start\")\n",
    "next_button = widgets.Button(description=\"Next\")\n",
    "prev_button = widgets.Button(description=\"Previous\")\n",
    "reset_h_line_button = widgets.Button(description=\"Reset\")\n",
    "all_peaks_button = widgets.Button(description=\"Add all peaks\")\n",
    "\n",
    "\n",
    "# Define button click events\n",
    "@start_button.on_click\n",
    "def start_peak(_):\n",
    "    variables.h_line_pos = []\n",
    "    print('=============================')\n",
    "    print('Press left click to draw a line')\n",
    "    print('Press right click to remove a line')\n",
    "    print('Press r to remove all the line')\n",
    "    print('Press a to automatically draw lines')\n",
    "    print('Hold shift and use mouse scroll for zooming on x axis')\n",
    "    print('Hold ctrl and left mouse bottom to move a line')\n",
    "    print('=============================')\n",
    "    variables.peaks_index = 0\n",
    "    peak_val.value = variables.peaks_x_selected[variables.peaks_index]\n",
    "    peaks_x_selected = variables.peaks_x_selected[:]\n",
    "    variables.peaks_x_selected = [variables.peaks_x_selected[variables.peaks_index]]\n",
    "    print('peak idc:', variables.peaks_index, 'Peak location:', peak_val.value )\n",
    "    mask = (variables.mc_c < peak_val.value  + 5) & (variables.mc_c > peak_val.value  - 5)\n",
    "    mc = np.copy(variables.mc_calib)\n",
    "    peaks_x = np.copy(variables.peak_x)\n",
    "    variables.mc_c = variables.mc_c[mask]\n",
    "    hist_plot_r(variables, plot=True)\n",
    "    variables.mc_c = mc\n",
    "    variables.peak_x = peaks_x\n",
    "    variables.peaks_x_selected = peaks_x_selected[:]\n",
    "@next_button.on_click\n",
    "def next_peak(_):\n",
    "    variables.h_line_pos = []\n",
    "    variables.peaks_index = variables.peaks_index + 1\n",
    "    peak_val.value = variables.peaks_x_selected[variables.peaks_index]\n",
    "    peaks_x_selected = variables.peaks_x_selected[:]\n",
    "    variables.peaks_x_selected = [variables.peaks_x_selected[variables.peaks_index]]\n",
    "    print('peak idc:', variables.peaks_index, 'Peak location:', peak_val.value )\n",
    "    mask = (variables.mc_c < peak_val.value  + 5) & (variables.mc_c > peak_val.value  - 5)\n",
    "    mc = np.copy(variables.mc_calib)\n",
    "    peaks_x = np.copy(variables.peak_x)\n",
    "    variables.mc_c = variables.mc_c[mask]\n",
    "    hist_plot_r(variables, plot=True)\n",
    "    variables.mc_c = mc\n",
    "    variables.peak_x = peaks_x\n",
    "    variables.peaks_x_selected = peaks_x_selected[:]\n",
    "@prev_button.on_click\n",
    "def prev_peak(_):\n",
    "    variables.h_line_pos = []\n",
    "    variables.peaks_index = variables.peaks_index - 1\n",
    "    peak_val.value = variables.peaks_x_selected[variables.peaks_index]\n",
    "    peaks_x_selected = variables.peaks_x_selected[:]\n",
    "    variables.peaks_x_selected = [variables.peaks_x_selected[variables.peaks_index]]\n",
    "    print('peak idc:', variables.peaks_index, 'Peak location:', peak_val.value )\n",
    "    mask = (variables.mc_c < peak_val.value  + 5) & (variables.mc_c > peak_val.value  - 5)\n",
    "    mc = np.copy(variables.mc_calib)\n",
    "    peaks_x = np.copy(variables.peak_x)\n",
    "    variables.mc_c = variables.mc_c[mask] \n",
    "    hist_plot_r(variables, plot=True)\n",
    "    variables.mc_c = mc\n",
    "    variables.peak_x = peaks_x\n",
    "    variables.peaks_x_selected = peaks_x_selected[:]\n",
    "\n",
    "@reset_h_line_button.on_click\n",
    "def rest_h_line(_):\n",
    "    variables.h_line_pos = []\n",
    "@all_peaks_button.on_click\n",
    "def select_all_peaks(_):\n",
    "    variables.peaks_idx = variables.peak_x\n",
    "    \n",
    "tab1 = VBox(children=[bin_size, index_fig, prominence, distance, lim_tof, percent, plot_peak, HBox(children=[plot_button_p, all_peaks_button])])\n",
    "tab2 = VBox(children=[bin_size, index_fig, prominence, distance, lim_tof, percent, HBox(children=[VBox(children=[plot_button_r, start_button, next_button, prev_button, reset_h_line_button])])])\n",
    "tab4 = VBox(children=[HBox(children=[VBox(children=[peak_val, charge, aboundance_threshold, formula_com, complexity, find_elem_button]),\n",
    "                                    VBox(children=[row_index, color_picker, mass_unknown, add_ion_button, romove_ion_button, show_color, change_color]), \n",
    "                                    VBox(children=[formula_m, molecule_charge, formula_button])])])\n",
    "\n",
    "tabs1 = widgets.Tab(children=[tab1, tab2])\n",
    "tabs2 = widgets.Tab(children=[tab4])\n",
    "tabs1.set_title(0, 'peak finder')\n",
    "tabs1.set_title(1, 'rangging')\n",
    "tabs2.set_title(0, 'element finder')\n",
    "# Create two Output widgets to capture the output of each plot\n",
    "out = Output()\n",
    "output2 = Output()\n",
    "output3 = Output()\n",
    "\n",
    "# Create an HBox to display the buttons side by side\n",
    "buttons_layout = widgets.HBox([tabs1, tabs2])\n",
    "\n",
    "# Create a VBox to display the output widgets below the buttons\n",
    "output_layout_h = widgets.HBox([out, output3])\n",
    "output_layout = widgets.VBox([output_layout_h, output2])\n",
    "\n",
    "\n",
    "# Display the buttons and the output widgets\n",
    "display(buttons_layout, output_layout)\n",
    "\n",
    "\n",
    "with output3:\n",
    "    display(variables.range_data)"
   ]
  },
  {
   "cell_type": "code",
   "execution_count": 10,
   "metadata": {
    "tags": []
   },
   "outputs": [
    {
     "data": {
      "application/vnd.jupyter.widget-view+json": {
       "model_id": "c814bdb3ccbb45d39c36147b41332fcc",
       "version_major": 2,
       "version_minor": 0
      },
      "text/plain": [
       "interactive(children=(FloatText(value=0.1, description='bin_size'), Dropdown(description='log', options=(('Tru…"
      ]
     },
     "metadata": {},
     "output_type": "display_data"
    }
   ],
   "source": [
    "interact_manual(mc_plot.hist_plot, variables=fixed(variables), bin_size=widgets.FloatText(value=0.1), log=widgets.Dropdown(options=[('True', True), ('Flase', False)]),\n",
    "                target=widgets.Dropdown(options=[('mc_c', 'mc_c')]), mode=widgets.Dropdown(options=[('normal', 'normal'), ('normalized', 'normalized')]),\n",
    "                prominence=widgets.IntText(value=100), distance=widgets.IntText(value=100), \n",
    "                lim=widgets.IntText(value=400), percent=widgets.IntText(value=50), selector=fixed('None'), plot=fixed(True), figname=widgets.Text(value='hist'),\n",
    "                peaks_find_plot=widgets.Dropdown(options=[('True', True), ('Flase', False)]), range_plot=widgets.Dropdown(options=[('True', True), ('Flase', False)]), selected_area=fixed(False), print_info=fixed(True));"
   ]
  },
  {
   "cell_type": "code",
   "execution_count": 20,
   "metadata": {
    "tags": []
   },
   "outputs": [
    {
     "data": {
      "text/html": [
       "<style type=\"text/css\">\n",
       "#T_69ad6_row0_col5 {\n",
       "  background-color: #b2aa2d;\n",
       "  width: 50px;\n",
       "  height: 20px;\n",
       "}\n",
       "#T_69ad6_row1_col5, #T_69ad6_row2_col5 {\n",
       "  background-color: #e7e0d1;\n",
       "  width: 50px;\n",
       "  height: 20px;\n",
       "}\n",
       "</style>\n",
       "<table id=\"T_69ad6\">\n",
       "  <thead>\n",
       "    <tr>\n",
       "      <th class=\"blank level0\" >&nbsp;</th>\n",
       "      <th id=\"T_69ad6_level0_col0\" class=\"col_heading level0 col0\" >ion</th>\n",
       "      <th id=\"T_69ad6_level0_col1\" class=\"col_heading level0 col1\" >mass</th>\n",
       "      <th id=\"T_69ad6_level0_col2\" class=\"col_heading level0 col2\" >mc</th>\n",
       "      <th id=\"T_69ad6_level0_col3\" class=\"col_heading level0 col3\" >mc_low</th>\n",
       "      <th id=\"T_69ad6_level0_col4\" class=\"col_heading level0 col4\" >mc_up</th>\n",
       "      <th id=\"T_69ad6_level0_col5\" class=\"col_heading level0 col5\" >color</th>\n",
       "      <th id=\"T_69ad6_level0_col6\" class=\"col_heading level0 col6\" >element</th>\n",
       "      <th id=\"T_69ad6_level0_col7\" class=\"col_heading level0 col7\" >complex</th>\n",
       "      <th id=\"T_69ad6_level0_col8\" class=\"col_heading level0 col8\" >isotope</th>\n",
       "      <th id=\"T_69ad6_level0_col9\" class=\"col_heading level0 col9\" >charge</th>\n",
       "    </tr>\n",
       "  </thead>\n",
       "  <tbody>\n",
       "    <tr>\n",
       "      <th id=\"T_69ad6_level0_row0\" class=\"row_heading level0 row0\" >0</th>\n",
       "      <td id=\"T_69ad6_row0_col0\" class=\"data row0 col0\" >${}^{1}H^{+}$</td>\n",
       "      <td id=\"T_69ad6_row0_col1\" class=\"data row0 col1\" >1.010000</td>\n",
       "      <td id=\"T_69ad6_row0_col2\" class=\"data row0 col2\" >1.067455</td>\n",
       "      <td id=\"T_69ad6_row0_col3\" class=\"data row0 col3\" >0.924459</td>\n",
       "      <td id=\"T_69ad6_row0_col4\" class=\"data row0 col4\" >1.216181</td>\n",
       "      <td id=\"T_69ad6_row0_col5\" class=\"data row0 col5\" >#b2aa2d</td>\n",
       "      <td id=\"T_69ad6_row0_col6\" class=\"data row0 col6\" >H</td>\n",
       "      <td id=\"T_69ad6_row0_col7\" class=\"data row0 col7\" >1</td>\n",
       "      <td id=\"T_69ad6_row0_col8\" class=\"data row0 col8\" >1</td>\n",
       "      <td id=\"T_69ad6_row0_col9\" class=\"data row0 col9\" >1</td>\n",
       "    </tr>\n",
       "    <tr>\n",
       "      <th id=\"T_69ad6_level0_row1\" class=\"row_heading level0 row1\" >1</th>\n",
       "      <td id=\"T_69ad6_row1_col0\" class=\"data row1 col0\" >${}^{27}Al^{2+}$</td>\n",
       "      <td id=\"T_69ad6_row1_col1\" class=\"data row1 col1\" >13.490000</td>\n",
       "      <td id=\"T_69ad6_row1_col2\" class=\"data row1 col2\" >14.478278</td>\n",
       "      <td id=\"T_69ad6_row1_col3\" class=\"data row1 col3\" >13.812979</td>\n",
       "      <td id=\"T_69ad6_row1_col4\" class=\"data row1 col4\" >15.404862</td>\n",
       "      <td id=\"T_69ad6_row1_col5\" class=\"data row1 col5\" >#e7e0d1</td>\n",
       "      <td id=\"T_69ad6_row1_col6\" class=\"data row1 col6\" >Al</td>\n",
       "      <td id=\"T_69ad6_row1_col7\" class=\"data row1 col7\" >1</td>\n",
       "      <td id=\"T_69ad6_row1_col8\" class=\"data row1 col8\" >27</td>\n",
       "      <td id=\"T_69ad6_row1_col9\" class=\"data row1 col9\" >2</td>\n",
       "    </tr>\n",
       "    <tr>\n",
       "      <th id=\"T_69ad6_level0_row2\" class=\"row_heading level0 row2\" >2</th>\n",
       "      <td id=\"T_69ad6_row2_col0\" class=\"data row2 col0\" >${}^{27}Al^{+}$</td>\n",
       "      <td id=\"T_69ad6_row2_col1\" class=\"data row2 col1\" >26.980000</td>\n",
       "      <td id=\"T_69ad6_row2_col2\" class=\"data row2 col2\" >29.290230</td>\n",
       "      <td id=\"T_69ad6_row2_col3\" class=\"data row2 col3\" >27.923454</td>\n",
       "      <td id=\"T_69ad6_row2_col4\" class=\"data row2 col4\" >31.444492</td>\n",
       "      <td id=\"T_69ad6_row2_col5\" class=\"data row2 col5\" >#e7e0d1</td>\n",
       "      <td id=\"T_69ad6_row2_col6\" class=\"data row2 col6\" >Al</td>\n",
       "      <td id=\"T_69ad6_row2_col7\" class=\"data row2 col7\" >1</td>\n",
       "      <td id=\"T_69ad6_row2_col8\" class=\"data row2 col8\" >27</td>\n",
       "      <td id=\"T_69ad6_row2_col9\" class=\"data row2 col9\" >1</td>\n",
       "    </tr>\n",
       "  </tbody>\n",
       "</table>\n"
      ],
      "text/plain": [
       "<pandas.io.formats.style.Styler at 0x2b0b9223790>"
      ]
     },
     "metadata": {},
     "output_type": "display_data"
    }
   ],
   "source": [
    "display(variables.range_data.style.applymap(ion_selection.display_color, subset=['color']))"
   ]
  },
  {
   "cell_type": "code",
   "execution_count": 21,
   "metadata": {
    "tags": []
   },
   "outputs": [
    {
     "data": {
      "text/plain": [
       "ion         object\n",
       "mass       float64\n",
       "mc         float64\n",
       "mc_low     float64\n",
       "mc_up      float64\n",
       "color       object\n",
       "element     object\n",
       "complex      int32\n",
       "isotope      int64\n",
       "charge       int32\n",
       "dtype: object"
      ]
     },
     "execution_count": 21,
     "metadata": {},
     "output_type": "execute_result"
    }
   ],
   "source": [
    "variables.range_data.dtypes"
   ]
  },
  {
   "cell_type": "code",
   "execution_count": 22,
   "metadata": {
    "pycharm": {
     "name": "#%%\n"
    },
    "tags": []
   },
   "outputs": [],
   "source": [
    "# save the new data\n",
    "name_save_file = variables.result_data_path + '/' + variables.result_data_name + '.h5'\n",
    "data_tools.store_df_to_hdf(variables.range_data,  'df', name_save_file)"
   ]
  },
  {
   "cell_type": "code",
   "execution_count": 23,
   "metadata": {
    "tags": []
   },
   "outputs": [],
   "source": [
    "# save data in csv format\n",
    "name_save_file = variables.result_data_path + '/' + variables.result_data_name + '.csv'\n",
    "data_tools.store_df_to_csv(variables.range_data, name_save_file)"
   ]
  },
  {
   "cell_type": "code",
   "execution_count": null,
   "metadata": {},
   "outputs": [],
   "source": []
  }
 ],
 "metadata": {
  "kernelspec": {
   "display_name": "Python 3 (ipykernel)",
   "language": "python",
   "name": "python3"
  },
  "language_info": {
   "codemirror_mode": {
    "name": "ipython",
    "version": 3
   },
   "file_extension": ".py",
   "mimetype": "text/x-python",
   "name": "python",
   "nbconvert_exporter": "python",
   "pygments_lexer": "ipython3",
   "version": "3.8.16"
  },
  "widgets": {
   "application/vnd.jupyter.widget-state+json": {
    "state": {
     "000c72e542fc4bdda2414822b22c15e2": {
      "model_module": "@jupyter-widgets/base",
      "model_module_version": "2.0.0",
      "model_name": "LayoutModel",
      "state": {}
     },
     "00114348bad44445a82f16524b4e8e2a": {
      "model_module": "@jupyter-widgets/controls",
      "model_module_version": "2.0.0",
      "model_name": "DescriptionStyleModel",
      "state": {
       "description_width": ""
      }
     },
     "00291d03d0d64a4eab6b2534b73e6d07": {
      "model_module": "@jupyter-widgets/controls",
      "model_module_version": "2.0.0",
      "model_name": "VBoxModel",
      "state": {
       "children": [
        "IPY_MODEL_0980a2a93ceb4e46bc036161ff700f2c",
        "IPY_MODEL_687ea5cc49ca4bd8b22bb27073b2a3f2",
        "IPY_MODEL_ca052d9e54e94adcb6c407aa78e3c759",
        "IPY_MODEL_56298ce13552415a8301e7934bae3456",
        "IPY_MODEL_abc75fdfe4b44b799607948108a7dfbc",
        "IPY_MODEL_eda9c737d29d4964939b92123cb5e558",
        "IPY_MODEL_8709d187402d4b71965bc9d61ba77693"
       ],
       "layout": "IPY_MODEL_6b0372da7f0f416cbd758db6f6777c8f"
      }
     },
     "00e190b72f0e40699fd3420be202637e": {
      "model_module": "@jupyter-widgets/controls",
      "model_module_version": "2.0.0",
      "model_name": "ButtonStyleModel",
      "state": {
       "font_family": null,
       "font_size": null,
       "font_style": null,
       "font_variant": null,
       "font_weight": null,
       "text_color": null,
       "text_decoration": null
      }
     },
     "01452bfefcd84f62a875bc6f1ced2c0a": {
      "model_module": "@jupyter-widgets/controls",
      "model_module_version": "2.0.0",
      "model_name": "HBoxModel",
      "state": {
       "children": [
        "IPY_MODEL_54ef876fcba4437e8145801fa9035a97",
        "IPY_MODEL_b4f7f86ca90f436eb75bfef08cdcf088"
       ],
       "layout": "IPY_MODEL_61eacbc05f81491da774c477687ea728"
      }
     },
     "01a3629982664671b3261e034aceb08c": {
      "model_module": "@jupyter-widgets/base",
      "model_module_version": "2.0.0",
      "model_name": "LayoutModel",
      "state": {}
     },
     "0270d942a6b9497ab68337edd4005aad": {
      "model_module": "@jupyter-widgets/base",
      "model_module_version": "2.0.0",
      "model_name": "LayoutModel",
      "state": {}
     },
     "02ec4e8ea6134b4d92dd4c394793cefe": {
      "model_module": "@jupyter-widgets/base",
      "model_module_version": "2.0.0",
      "model_name": "LayoutModel",
      "state": {}
     },
     "030f926cf372457a9adca6a76c6bb39f": {
      "model_module": "@jupyter-widgets/base",
      "model_module_version": "2.0.0",
      "model_name": "LayoutModel",
      "state": {}
     },
     "03811e5d251f443e86ec571c3e92f93d": {
      "model_module": "@jupyter-widgets/controls",
      "model_module_version": "2.0.0",
      "model_name": "ButtonStyleModel",
      "state": {
       "font_family": null,
       "font_size": null,
       "font_style": null,
       "font_variant": null,
       "font_weight": null,
       "text_color": null,
       "text_decoration": null
      }
     },
     "0484322d61f341d39090985d0ff2c410": {
      "model_module": "@jupyter-widgets/base",
      "model_module_version": "2.0.0",
      "model_name": "LayoutModel",
      "state": {}
     },
     "04b7df59485f4f1eaf992052ee0d9e30": {
      "model_module": "@jupyter-widgets/base",
      "model_module_version": "2.0.0",
      "model_name": "LayoutModel",
      "state": {}
     },
     "04f098ce4670407ca920bfe9b161c469": {
      "model_module": "@jupyter-widgets/controls",
      "model_module_version": "2.0.0",
      "model_name": "ButtonStyleModel",
      "state": {
       "font_family": null,
       "font_size": null,
       "font_style": null,
       "font_variant": null,
       "font_weight": null,
       "text_color": null,
       "text_decoration": null
      }
     },
     "059c8e206ffb4104a3a8ce9d8544f9c1": {
      "model_module": "@jupyter-widgets/controls",
      "model_module_version": "2.0.0",
      "model_name": "ButtonStyleModel",
      "state": {
       "font_family": null,
       "font_size": null,
       "font_style": null,
       "font_variant": null,
       "font_weight": null,
       "text_color": null,
       "text_decoration": null
      }
     },
     "05a667d1a7cf4c6793b367452a004ae7": {
      "model_module": "@jupyter-widgets/controls",
      "model_module_version": "2.0.0",
      "model_name": "TextModel",
      "state": {
       "description": "figname",
       "layout": "IPY_MODEL_4166f19326fb40769edb77e50c91a83e",
       "style": "IPY_MODEL_59718802240844b4a7ba50b9c0287b93",
       "value": "hist"
      }
     },
     "0620732b49d945168d5b5faf55ec577a": {
      "model_module": "@jupyter-widgets/controls",
      "model_module_version": "2.0.0",
      "model_name": "CheckboxModel",
      "state": {
       "description": "save_fig",
       "disabled": false,
       "layout": "IPY_MODEL_84c728d4a33a446fa4c5cd18a3229be6",
       "style": "IPY_MODEL_3e8671241577427eab9043d2d71555f8",
       "value": true
      }
     },
     "064424e034e74561ae19038a8d42289e": {
      "model_module": "@jupyter-widgets/base",
      "model_module_version": "2.0.0",
      "model_name": "LayoutModel",
      "state": {}
     },
     "0680caf3924c488c8834808553e6b458": {
      "model_module": "@jupyter-widgets/controls",
      "model_module_version": "2.0.0",
      "model_name": "ButtonStyleModel",
      "state": {
       "font_family": null,
       "font_size": null,
       "font_style": null,
       "font_variant": null,
       "font_weight": null,
       "text_color": null,
       "text_decoration": null
      }
     },
     "07a56e4f217a489b958ef9478877a55c": {
      "model_module": "@jupyter-widgets/base",
      "model_module_version": "2.0.0",
      "model_name": "LayoutModel",
      "state": {}
     },
     "080594882b8c4a21b83215a9faf40599": {
      "model_module": "@jupyter-widgets/base",
      "model_module_version": "2.0.0",
      "model_name": "LayoutModel",
      "state": {}
     },
     "081968c0473641bd800a2ce7be2c4b8a": {
      "model_module": "@jupyter-widgets/base",
      "model_module_version": "2.0.0",
      "model_name": "LayoutModel",
      "state": {}
     },
     "08d7b2e19259416fae4869fdb5851e8b": {
      "model_module": "@jupyter-widgets/controls",
      "model_module_version": "2.0.0",
      "model_name": "ButtonModel",
      "state": {
       "description": "change color",
       "layout": "IPY_MODEL_70b80cf79365405e878618e1bc5fbf96",
       "style": "IPY_MODEL_408e66dabd9d4f7cbebe5f051b1e26ab",
       "tooltip": null
      }
     },
     "0969f71deb9745c7b238f3ec88e355d2": {
      "model_module": "@jupyter-widgets/controls",
      "model_module_version": "2.0.0",
      "model_name": "DropdownModel",
      "state": {
       "_options_labels": [
        "mc_c",
        "tof_c"
       ],
       "description": "target",
       "index": 0,
       "layout": "IPY_MODEL_ea848b3dc19c4f3e9d26a936ac3619f0",
       "style": "IPY_MODEL_baaee5eee59a45af8d828da1d30c5db2"
      }
     },
     "0980a2a93ceb4e46bc036161ff700f2c": {
      "model_module": "@jupyter-widgets/controls",
      "model_module_version": "2.0.0",
      "model_name": "FloatTextModel",
      "state": {
       "description": "bin size:",
       "layout": "IPY_MODEL_601a1c2e2e1f4ac5899c773b2b1db7fd",
       "step": null,
       "style": "IPY_MODEL_c902930e1f1d456d95f2d022fd97a664",
       "value": 0.1
      }
     },
     "099c3fb573a94888a083c3c4275e7d6f": {
      "model_module": "@jupyter-widgets/controls",
      "model_module_version": "2.0.0",
      "model_name": "ButtonStyleModel",
      "state": {
       "font_family": null,
       "font_size": null,
       "font_style": null,
       "font_variant": null,
       "font_weight": null,
       "text_color": null,
       "text_decoration": null
      }
     },
     "09ef16dad5264c43976147cf8aec9796": {
      "model_module": "@jupyter-widgets/controls",
      "model_module_version": "2.0.0",
      "model_name": "TextModel",
      "state": {
       "description": "Isotope formula:",
       "layout": "IPY_MODEL_1d17233a206f46c98ecfcf20ce83a456",
       "placeholder": "Type a formula  {12}C1{16}O2",
       "style": "IPY_MODEL_773b140b3af246c88b61a50f8fc9f358",
       "value": "{12}C1{16}O2"
      }
     },
     "0a6406b2d8c1449d803e1f230127d904": {
      "model_module": "@jupyter-widgets/controls",
      "model_module_version": "2.0.0",
      "model_name": "ButtonStyleModel",
      "state": {
       "font_family": null,
       "font_size": null,
       "font_style": null,
       "font_variant": null,
       "font_weight": null,
       "text_color": null,
       "text_decoration": null
      }
     },
     "0b1142ce7e4144c5a55c261808521e28": {
      "model_module": "@jupyter-widgets/base",
      "model_module_version": "2.0.0",
      "model_name": "LayoutModel",
      "state": {}
     },
     "0b23f489b6f14f8cbb31f6253dc839a1": {
      "model_module": "@jupyter-widgets/output",
      "model_module_version": "1.0.0",
      "model_name": "OutputModel",
      "state": {
       "layout": "IPY_MODEL_e6197e9e19a843e9b9f25a7243cbca77",
       "outputs": [
        {
         "data": {
          "text/html": "<div>\n<style scoped>\n    .dataframe tbody tr th:only-of-type {\n        vertical-align: middle;\n    }\n\n    .dataframe tbody tr th {\n        vertical-align: top;\n    }\n\n    .dataframe thead th {\n        text-align: right;\n    }\n</style>\n<table border=\"1\" class=\"dataframe\">\n  <thead>\n    <tr style=\"text-align: right;\">\n      <th></th>\n      <th>ion</th>\n      <th>mass</th>\n      <th>mc</th>\n      <th>mc_low</th>\n      <th>mc_up</th>\n      <th>color</th>\n      <th>element</th>\n      <th>complex</th>\n      <th>isotope</th>\n      <th>charge</th>\n    </tr>\n  </thead>\n  <tbody>\n  </tbody>\n</table>\n</div>",
          "text/plain": "Empty DataFrame\nColumns: [ion, mass, mc, mc_low, mc_up, color, element, complex, isotope, charge]\nIndex: []"
         },
         "metadata": {},
         "output_type": "display_data"
        }
       ]
      }
     },
     "0b2c5be0c7c44b4186ae42f2a340f63b": {
      "model_module": "@jupyter-widgets/controls",
      "model_module_version": "2.0.0",
      "model_name": "ButtonStyleModel",
      "state": {
       "font_family": null,
       "font_size": null,
       "font_style": null,
       "font_variant": null,
       "font_weight": null,
       "text_color": null,
       "text_decoration": null
      }
     },
     "0b4f744cfb124096a95902b3d454b2b8": {
      "model_module": "@jupyter-widgets/base",
      "model_module_version": "2.0.0",
      "model_name": "LayoutModel",
      "state": {}
     },
     "0bc4e572aa4546daa7fb27bf62dea724": {
      "model_module": "@jupyter-widgets/base",
      "model_module_version": "2.0.0",
      "model_name": "LayoutModel",
      "state": {}
     },
     "0be8eca61ded44ce9b60fdc31d83dad6": {
      "model_module": "@jupyter-widgets/controls",
      "model_module_version": "2.0.0",
      "model_name": "ButtonStyleModel",
      "state": {
       "font_family": null,
       "font_size": null,
       "font_style": null,
       "font_variant": null,
       "font_weight": null,
       "text_color": null,
       "text_decoration": null
      }
     },
     "0c4ea0c29b414f6f96624058af505842": {
      "model_module": "@jupyter-widgets/base",
      "model_module_version": "2.0.0",
      "model_name": "LayoutModel",
      "state": {}
     },
     "0c958783312c4bea8b90b29836464c7c": {
      "model_module": "@jupyter-widgets/controls",
      "model_module_version": "2.0.0",
      "model_name": "DescriptionStyleModel",
      "state": {
       "description_width": ""
      }
     },
     "0d0a2b2804fc42fa93269fb140d96d7c": {
      "model_module": "@jupyter-widgets/controls",
      "model_module_version": "2.0.0",
      "model_name": "HBoxModel",
      "state": {
       "children": [
        "IPY_MODEL_4825c359c14b43e48d14649854bcb659",
        "IPY_MODEL_c5c8782f8c3248f882860cc1a27a7cd4"
       ],
       "layout": "IPY_MODEL_7b455cf7d4f9426fb7b3e00cbfa80a14"
      }
     },
     "0f3ad5032fe04fd69063908ddbdb62bb": {
      "model_module": "@jupyter-widgets/controls",
      "model_module_version": "2.0.0",
      "model_name": "ButtonModel",
      "state": {
       "description": "load dataset",
       "layout": "IPY_MODEL_d355795b46a746f982994465b8d2eddd",
       "style": "IPY_MODEL_edfad843a0c34ef0983eda04dce5db8f",
       "tooltip": null
      }
     },
     "0f935466aeb844abac34a7c0b4409ed7": {
      "model_module": "@jupyter-widgets/controls",
      "model_module_version": "2.0.0",
      "model_name": "IntTextModel",
      "state": {
       "description": "percent",
       "layout": "IPY_MODEL_7e7de9d49a84471b82b020728f9b493c",
       "step": 1,
       "style": "IPY_MODEL_e2fdba631d724ab2bfc409a4536f0195",
       "value": 50
      }
     },
     "0fce44716cca4476bc4536ec624a7fac": {
      "model_module": "@jupyter-widgets/controls",
      "model_module_version": "2.0.0",
      "model_name": "VBoxModel",
      "state": {
       "children": [
        "IPY_MODEL_89c49a7c69f7493c8ba6a6e2acb3ff6c",
        "IPY_MODEL_7bd65bfe511d44fbb4a6d5843dd4b1fb"
       ],
       "layout": "IPY_MODEL_10f6264c35e84686ac5c84763ada941a"
      }
     },
     "0fd3c08a31b64d878c0a5bdb2634bbbb": {
      "model_module": "@jupyter-widgets/controls",
      "model_module_version": "2.0.0",
      "model_name": "ButtonStyleModel",
      "state": {
       "font_family": null,
       "font_size": null,
       "font_style": null,
       "font_variant": null,
       "font_weight": null,
       "text_color": null,
       "text_decoration": null
      }
     },
     "10bf122b77df40c195ec12bd937f1489": {
      "model_module": "@jupyter-widgets/base",
      "model_module_version": "2.0.0",
      "model_name": "LayoutModel",
      "state": {}
     },
     "10d84246c5ca466894108744ea36ca70": {
      "model_module": "@jupyter-widgets/base",
      "model_module_version": "2.0.0",
      "model_name": "LayoutModel",
      "state": {}
     },
     "10f6264c35e84686ac5c84763ada941a": {
      "model_module": "@jupyter-widgets/base",
      "model_module_version": "2.0.0",
      "model_name": "LayoutModel",
      "state": {}
     },
     "1106a347c3584e5da2a5fc520917a387": {
      "model_module": "@jupyter-widgets/controls",
      "model_module_version": "2.0.0",
      "model_name": "ButtonModel",
      "state": {
       "description": "change color",
       "layout": "IPY_MODEL_40341a25049c4652a56d58ab7066b708",
       "style": "IPY_MODEL_ddcff9349d704361a71fbde9a13b9056",
       "tooltip": null
      }
     },
     "11a012abfc734fc9a7a5e02b35120f9b": {
      "model_module": "@jupyter-widgets/base",
      "model_module_version": "2.0.0",
      "model_name": "LayoutModel",
      "state": {}
     },
     "1249abce7c9a4fe787c149bd13fc4e37": {
      "model_module": "@jupyter-widgets/base",
      "model_module_version": "2.0.0",
      "model_name": "LayoutModel",
      "state": {}
     },
     "127033ae395040c595b592402dd72189": {
      "model_module": "@jupyter-widgets/controls",
      "model_module_version": "2.0.0",
      "model_name": "ButtonStyleModel",
      "state": {
       "font_family": null,
       "font_size": null,
       "font_style": null,
       "font_variant": null,
       "font_weight": null,
       "text_color": null,
       "text_decoration": null
      }
     },
     "128f7667f0844150a139449b8ced7ab6": {
      "model_module": "@jupyter-widgets/controls",
      "model_module_version": "2.0.0",
      "model_name": "ButtonStyleModel",
      "state": {
       "font_family": null,
       "font_size": null,
       "font_style": null,
       "font_variant": null,
       "font_weight": null,
       "text_color": null,
       "text_decoration": null
      }
     },
     "13b44a1a954d4c608ba8a16138aebc8f": {
      "model_module": "@jupyter-widgets/controls",
      "model_module_version": "2.0.0",
      "model_name": "ButtonStyleModel",
      "state": {
       "font_family": null,
       "font_size": null,
       "font_style": null,
       "font_variant": null,
       "font_weight": null,
       "text_color": null,
       "text_decoration": null
      }
     },
     "14068a285acc49c496f923d169ff67a6": {
      "model_module": "@jupyter-widgets/controls",
      "model_module_version": "2.0.0",
      "model_name": "DescriptionStyleModel",
      "state": {
       "description_width": ""
      }
     },
     "140a857838fa4a65a71fc7c2dc0440fa": {
      "model_module": "@jupyter-widgets/base",
      "model_module_version": "2.0.0",
      "model_name": "LayoutModel",
      "state": {}
     },
     "1420f594e4924600bb34daac0e4fb209": {
      "model_module": "@jupyter-widgets/controls",
      "model_module_version": "2.0.0",
      "model_name": "DescriptionStyleModel",
      "state": {
       "description_width": ""
      }
     },
     "14d9ba36775b49bd946cd363547749e2": {
      "model_module": "@jupyter-widgets/base",
      "model_module_version": "2.0.0",
      "model_name": "LayoutModel",
      "state": {}
     },
     "157e16431a564e4388dfeed19d5a39f0": {
      "model_module": "@jupyter-widgets/base",
      "model_module_version": "2.0.0",
      "model_name": "LayoutModel",
      "state": {}
     },
     "15a7e89ce72c482c9dddf29a88d48c5b": {
      "model_module": "@jupyter-widgets/controls",
      "model_module_version": "2.0.0",
      "model_name": "ColorPickerModel",
      "state": {
       "description": "Select a color:",
       "disabled": false,
       "layout": "IPY_MODEL_397aa338c7cd4842b27f96e0e3541b55",
       "style": "IPY_MODEL_ffe0c83b17b94138982076074794e08d"
      }
     },
     "15d58574f1ed4c52b83cc9c25e034a82": {
      "model_module": "@jupyter-widgets/base",
      "model_module_version": "2.0.0",
      "model_name": "LayoutModel",
      "state": {}
     },
     "15f5921bbc4449aca5acfbf490ef0c65": {
      "model_module": "@jupyter-widgets/controls",
      "model_module_version": "2.0.0",
      "model_name": "DescriptionStyleModel",
      "state": {
       "description_width": ""
      }
     },
     "16286700e5574b038c56962c04fbbf91": {
      "model_module": "@jupyter-widgets/controls",
      "model_module_version": "2.0.0",
      "model_name": "VBoxModel",
      "state": {
       "children": [
        "IPY_MODEL_0980a2a93ceb4e46bc036161ff700f2c",
        "IPY_MODEL_687ea5cc49ca4bd8b22bb27073b2a3f2",
        "IPY_MODEL_ca052d9e54e94adcb6c407aa78e3c759",
        "IPY_MODEL_56298ce13552415a8301e7934bae3456",
        "IPY_MODEL_abc75fdfe4b44b799607948108a7dfbc",
        "IPY_MODEL_eda9c737d29d4964939b92123cb5e558",
        "IPY_MODEL_b58b6dff853b4cbc9d4ecd44e023a6e0",
        "IPY_MODEL_7f03135b3b5c42758d24e86b8fc7b35f"
       ],
       "layout": "IPY_MODEL_43793bd3c6ed4e33b7154383fea4095a"
      }
     },
     "16573d81b10c48da90e3684649a38620": {
      "model_module": "@jupyter-widgets/base",
      "model_module_version": "2.0.0",
      "model_name": "LayoutModel",
      "state": {}
     },
     "1678a2b46aa3409393c8a01dc09c9491": {
      "model_module": "@jupyter-widgets/controls",
      "model_module_version": "2.0.0",
      "model_name": "DropdownModel",
      "state": {
       "_options_labels": [
        "voltage",
        "laser"
       ],
       "description": "Pulse mode:",
       "index": 0,
       "layout": "IPY_MODEL_3f9f1f9ec1434ad49a349ad0c185285a",
       "style": "IPY_MODEL_1d2986db13ba4d7dbc4935cb02b4ff80"
      }
     },
     "16cfbefdb4ac4193b663393c7c825291": {
      "model_module": "@jupyter-widgets/base",
      "model_module_version": "2.0.0",
      "model_name": "LayoutModel",
      "state": {}
     },
     "17216ec1921a4c9582acf036289b8f3f": {
      "model_module": "@jupyter-widgets/base",
      "model_module_version": "2.0.0",
      "model_name": "LayoutModel",
      "state": {}
     },
     "179f5d095dc54606a930cf7f89a6d165": {
      "model_module": "@jupyter-widgets/controls",
      "model_module_version": "2.0.0",
      "model_name": "HBoxModel",
      "state": {
       "children": [
        "IPY_MODEL_2b54a34ba7484d7b968b9f32fdf4e856",
        "IPY_MODEL_784ab61cb9584878aea00732a7387045",
        "IPY_MODEL_b7e1efbdbc0c4462a698415eb7dc8084"
       ],
       "layout": "IPY_MODEL_d41ae15435e747039c6af1135af40dd7"
      }
     },
     "18a24399ee734597a76be4bbdba1c411": {
      "model_module": "@jupyter-widgets/controls",
      "model_module_version": "2.0.0",
      "model_name": "ButtonStyleModel",
      "state": {
       "font_family": null,
       "font_size": null,
       "font_style": null,
       "font_variant": null,
       "font_weight": null,
       "text_color": null,
       "text_decoration": null
      }
     },
     "199d95570ca947dd8ea922ea585d64d5": {
      "model_module": "@jupyter-widgets/controls",
      "model_module_version": "2.0.0",
      "model_name": "ButtonStyleModel",
      "state": {
       "font_family": null,
       "font_size": null,
       "font_style": null,
       "font_variant": null,
       "font_weight": null,
       "text_color": null,
       "text_decoration": null
      }
     },
     "19d60e38601f4412a4d240fe9a2f83a8": {
      "model_module": "@jupyter-widgets/controls",
      "model_module_version": "2.0.0",
      "model_name": "ButtonModel",
      "state": {
       "description": "change color",
       "layout": "IPY_MODEL_d8d0a77c0cd1436aa7827704b462e684",
       "style": "IPY_MODEL_cf373d7bc7db41c496873dbd459d0c08",
       "tooltip": null
      }
     },
     "1a1fa306e08049008fc80f8d2650af87": {
      "model_module": "@jupyter-widgets/controls",
      "model_module_version": "2.0.0",
      "model_name": "DropdownModel",
      "state": {
       "_options_labels": [
        "normal",
        "normalized"
       ],
       "description": "mode",
       "index": 0,
       "layout": "IPY_MODEL_f9fa741c2d4c460a8c6c669f44b5ec73",
       "style": "IPY_MODEL_b0631389072546ea803448efe8071a4d"
      }
     },
     "1a46aa6fa6484c50a61badc6ba94dc5d": {
      "model_module": "@jupyter-widgets/controls",
      "model_module_version": "2.0.0",
      "model_name": "HBoxModel",
      "state": {
       "children": [
        "IPY_MODEL_b5a696006bc7447b9847916b3bef1103",
        "IPY_MODEL_fc87c45438af432392a4bf8afd30332f"
       ],
       "layout": "IPY_MODEL_4b3e03c705d54c07a0fd083b5e453000"
      }
     },
     "1a717de76dec45b7a9915c0784dedd8e": {
      "model_module": "@jupyter-widgets/base",
      "model_module_version": "2.0.0",
      "model_name": "LayoutModel",
      "state": {}
     },
     "1aa0374d23744577809b3ed5ea0fe0ae": {
      "model_module": "@jupyter-widgets/controls",
      "model_module_version": "2.0.0",
      "model_name": "ButtonModel",
      "state": {
       "description": "Start",
       "layout": "IPY_MODEL_835b1e9702fc4e24bc6eab4d449e6bea",
       "style": "IPY_MODEL_f6bdd783b5c145a1aa459e680ee27c14",
       "tooltip": null
      }
     },
     "1afd7c22f3464e7685c1b81965b8f19c": {
      "model_module": "@jupyter-widgets/controls",
      "model_module_version": "2.0.0",
      "model_name": "IntTextModel",
      "state": {
       "description": "index row:",
       "layout": "IPY_MODEL_7f849b36154a4817863ba32b874845c9",
       "step": 1,
       "style": "IPY_MODEL_00114348bad44445a82f16524b4e8e2a"
      }
     },
     "1b7847b1253a43a6ba3c72482b315820": {
      "model_module": "@jupyter-widgets/controls",
      "model_module_version": "2.0.0",
      "model_name": "DescriptionStyleModel",
      "state": {
       "description_width": ""
      }
     },
     "1ba4e1601e8b4aceadcd122cf3e348c3": {
      "model_module": "@jupyter-widgets/controls",
      "model_module_version": "2.0.0",
      "model_name": "ButtonStyleModel",
      "state": {
       "font_family": null,
       "font_size": null,
       "font_style": null,
       "font_variant": null,
       "font_weight": null,
       "text_color": null,
       "text_decoration": null
      }
     },
     "1bd1215398044dceb0dfe2c782800895": {
      "model_module": "@jupyter-widgets/controls",
      "model_module_version": "2.0.0",
      "model_name": "ButtonStyleModel",
      "state": {
       "font_family": null,
       "font_size": null,
       "font_style": null,
       "font_variant": null,
       "font_weight": null,
       "text_color": null,
       "text_decoration": null
      }
     },
     "1c403b796de0409f9ac0862adcd799c2": {
      "model_module": "@jupyter-widgets/base",
      "model_module_version": "2.0.0",
      "model_name": "LayoutModel",
      "state": {}
     },
     "1d17233a206f46c98ecfcf20ce83a456": {
      "model_module": "@jupyter-widgets/base",
      "model_module_version": "2.0.0",
      "model_name": "LayoutModel",
      "state": {}
     },
     "1d23bdb5a6e24bb49ba496b6d4b27dd3": {
      "model_module": "@jupyter-widgets/controls",
      "model_module_version": "2.0.0",
      "model_name": "ButtonModel",
      "state": {
       "description": "Reset",
       "layout": "IPY_MODEL_fd5513b6b21e48559b73e62029878a15",
       "style": "IPY_MODEL_3a9861b8cfe34f6e80ef6b9af950f07c",
       "tooltip": null
      }
     },
     "1d2986db13ba4d7dbc4935cb02b4ff80": {
      "model_module": "@jupyter-widgets/controls",
      "model_module_version": "2.0.0",
      "model_name": "DescriptionStyleModel",
      "state": {
       "description_width": ""
      }
     },
     "1d3b11d4d03944b29c42d7d683b1fe14": {
      "model_module": "@jupyter-widgets/base",
      "model_module_version": "2.0.0",
      "model_name": "LayoutModel",
      "state": {}
     },
     "1d8527d0cecb40578853cd397e2a1751": {
      "model_module": "@jupyter-widgets/base",
      "model_module_version": "2.0.0",
      "model_name": "LayoutModel",
      "state": {}
     },
     "1d9eb64a637e41c6ab961a4f3ab21e5a": {
      "model_module": "@jupyter-widgets/base",
      "model_module_version": "2.0.0",
      "model_name": "LayoutModel",
      "state": {}
     },
     "1e0f2154d89748ab96867fd8d98e8fa7": {
      "model_module": "@jupyter-widgets/controls",
      "model_module_version": "2.0.0",
      "model_name": "VBoxModel",
      "state": {
       "children": [
        "IPY_MODEL_f4cde27830354ed59b3e0eef08c70c15",
        "IPY_MODEL_59c2feb339ee40e4b49068832136ef2d",
        "IPY_MODEL_89678dc094714546829f4300c3c787ff",
        "IPY_MODEL_ef018ac647c04897a75aa8e27392c808",
        "IPY_MODEL_fe55de11db1341a39a9779597dafd408"
       ],
       "layout": "IPY_MODEL_441c0e7605f941b99f06ae3979f3fe8b"
      }
     },
     "1e5c2697b39a4717a2fcc98d90510114": {
      "model_module": "@jupyter-widgets/base",
      "model_module_version": "2.0.0",
      "model_name": "LayoutModel",
      "state": {}
     },
     "1e5fe743c9c4472b8bafe068d3a721e3": {
      "model_module": "@jupyter-widgets/base",
      "model_module_version": "2.0.0",
      "model_name": "LayoutModel",
      "state": {}
     },
     "1ec71a4ecfaf4fdea0457fcf6e8d4899": {
      "model_module": "@jupyter-widgets/base",
      "model_module_version": "2.0.0",
      "model_name": "LayoutModel",
      "state": {}
     },
     "1f1a5bdef69e46b1a1ab1c552a4b73ba": {
      "model_module": "@jupyter-widgets/base",
      "model_module_version": "2.0.0",
      "model_name": "LayoutModel",
      "state": {}
     },
     "1f2b4f03a8464cba9545a65b5af153a6": {
      "model_module": "@jupyter-widgets/controls",
      "model_module_version": "2.0.0",
      "model_name": "CheckboxStyleModel",
      "state": {
       "description_width": ""
      }
     },
     "1f4217fd3f4e415f8cc380f59388f7d3": {
      "model_module": "@jupyter-widgets/controls",
      "model_module_version": "2.0.0",
      "model_name": "VBoxModel",
      "state": {
       "children": [
        "IPY_MODEL_0980a2a93ceb4e46bc036161ff700f2c",
        "IPY_MODEL_687ea5cc49ca4bd8b22bb27073b2a3f2",
        "IPY_MODEL_ca052d9e54e94adcb6c407aa78e3c759",
        "IPY_MODEL_56298ce13552415a8301e7934bae3456",
        "IPY_MODEL_abc75fdfe4b44b799607948108a7dfbc",
        "IPY_MODEL_eda9c737d29d4964939b92123cb5e558",
        "IPY_MODEL_b58b6dff853b4cbc9d4ecd44e023a6e0",
        "IPY_MODEL_1a46aa6fa6484c50a61badc6ba94dc5d"
       ],
       "layout": "IPY_MODEL_0484322d61f341d39090985d0ff2c410"
      }
     },
     "1f653ad4439945c3bf6b92c433da8ee8": {
      "model_module": "@jupyter-widgets/controls",
      "model_module_version": "2.0.0",
      "model_name": "VBoxModel",
      "state": {
       "children": [
        "IPY_MODEL_0980a2a93ceb4e46bc036161ff700f2c",
        "IPY_MODEL_687ea5cc49ca4bd8b22bb27073b2a3f2",
        "IPY_MODEL_ca052d9e54e94adcb6c407aa78e3c759",
        "IPY_MODEL_56298ce13552415a8301e7934bae3456",
        "IPY_MODEL_abc75fdfe4b44b799607948108a7dfbc",
        "IPY_MODEL_eda9c737d29d4964939b92123cb5e558",
        "IPY_MODEL_7db984d0bcd843c3a94b4025459ec836"
       ],
       "layout": "IPY_MODEL_7329736bdf324046956b9bae93c1ba7f"
      }
     },
     "1fd353714fa74953966c31b214e6e1f7": {
      "model_module": "@jupyter-widgets/base",
      "model_module_version": "2.0.0",
      "model_name": "LayoutModel",
      "state": {}
     },
     "1ffb2e666da14f16bbcf1f0e88db5ff8": {
      "model_module": "@jupyter-widgets/controls",
      "model_module_version": "2.0.0",
      "model_name": "ButtonStyleModel",
      "state": {
       "font_family": null,
       "font_size": null,
       "font_style": null,
       "font_variant": null,
       "font_weight": null,
       "text_color": null,
       "text_decoration": null
      }
     },
     "203d335e8214424791e80f836e05b5af": {
      "model_module": "@jupyter-widgets/base",
      "model_module_version": "2.0.0",
      "model_name": "LayoutModel",
      "state": {}
     },
     "2054726045aa48bca6158b5777b9a3bd": {
      "model_module": "@jupyter-widgets/controls",
      "model_module_version": "2.0.0",
      "model_name": "DropdownModel",
      "state": {
       "_options_labels": [
        "1",
        "2",
        "3",
        "4",
        "5",
        "6"
       ],
       "description": "charge:",
       "index": 2,
       "layout": "IPY_MODEL_52efcbeffcd94b5c86d25668ae93e5c7",
       "style": "IPY_MODEL_603efca17a07499a90a85e83e146b642"
      }
     },
     "209c2d068df04371961fcec05ed72f20": {
      "model_module": "@jupyter-widgets/controls",
      "model_module_version": "2.0.0",
      "model_name": "IntTextModel",
      "state": {
       "description": "index row:",
       "layout": "IPY_MODEL_1f1a5bdef69e46b1a1ab1c552a4b73ba",
       "step": 1,
       "style": "IPY_MODEL_e6068cfbf8bc4d16805612479149d52b"
      }
     },
     "20c807523865410cb7a0e92cbd67e28a": {
      "model_module": "@jupyter-widgets/base",
      "model_module_version": "2.0.0",
      "model_name": "LayoutModel",
      "state": {}
     },
     "20e92a69896d4512a18aa60c3a2ecc16": {
      "model_module": "@jupyter-widgets/controls",
      "model_module_version": "2.0.0",
      "model_name": "ButtonStyleModel",
      "state": {
       "font_family": null,
       "font_size": null,
       "font_style": null,
       "font_variant": null,
       "font_weight": null,
       "text_color": null,
       "text_decoration": null
      }
     },
     "2100ef98630448ee895f1766db6e3851": {
      "model_module": "@jupyter-widgets/controls",
      "model_module_version": "2.0.0",
      "model_name": "ButtonStyleModel",
      "state": {
       "font_family": null,
       "font_size": null,
       "font_style": null,
       "font_variant": null,
       "font_weight": null,
       "text_color": null,
       "text_decoration": null
      }
     },
     "21392c0a918c4ecf8ddd55c8d42a8daa": {
      "model_module": "@jupyter-widgets/controls",
      "model_module_version": "2.0.0",
      "model_name": "DescriptionStyleModel",
      "state": {
       "description_width": ""
      }
     },
     "217196769d274643be7f60486d914921": {
      "model_module": "@jupyter-widgets/controls",
      "model_module_version": "2.0.0",
      "model_name": "VBoxModel",
      "state": {
       "children": [
        "IPY_MODEL_f8024e7caa14496a9ac30829617ba5a3",
        "IPY_MODEL_f3218e8549c448689c9cb777103f42f3"
       ],
       "layout": "IPY_MODEL_11a012abfc734fc9a7a5e02b35120f9b"
      }
     },
     "21753f7a8fd745bd961b26e8bb75cb9a": {
      "model_module": "@jupyter-widgets/controls",
      "model_module_version": "2.0.0",
      "model_name": "ButtonStyleModel",
      "state": {
       "font_family": null,
       "font_size": null,
       "font_style": null,
       "font_variant": null,
       "font_weight": null,
       "text_color": null,
       "text_decoration": null
      }
     },
     "21a16b76a58c494a913a4e2f7cb6bbe0": {
      "model_module": "@jupyter-widgets/base",
      "model_module_version": "2.0.0",
      "model_name": "LayoutModel",
      "state": {}
     },
     "2214a621d30d422d86bcb237f950b161": {
      "model_module": "@jupyter-widgets/controls",
      "model_module_version": "2.0.0",
      "model_name": "DropdownModel",
      "state": {
       "_options_labels": [
        "mc_c"
       ],
       "description": "target",
       "index": 0,
       "layout": "IPY_MODEL_9e926225759d45aa809afd3a16473408",
       "style": "IPY_MODEL_6298741d040e4f378205d218514cacfb"
      }
     },
     "228ac3486ec4458dae5bd3e894f9b726": {
      "model_module": "@jupyter-widgets/controls",
      "model_module_version": "2.0.0",
      "model_name": "ButtonModel",
      "state": {
       "description": "Start",
       "layout": "IPY_MODEL_d7430690392543b3a2152519fc506623",
       "style": "IPY_MODEL_3477058e91b04ac0acb031f6c4ca3e08",
       "tooltip": null
      }
     },
     "2367bc89d35e4552a5efeb43e8fdecf6": {
      "model_module": "@jupyter-widgets/base",
      "model_module_version": "2.0.0",
      "model_name": "LayoutModel",
      "state": {}
     },
     "23876aae676846c3867a8b27395af191": {
      "model_module": "@jupyter-widgets/controls",
      "model_module_version": "2.0.0",
      "model_name": "FloatTextModel",
      "state": {
       "description": "unknown mass:",
       "layout": "IPY_MODEL_fbd55e8f725744dd97a9ae1ca593f068",
       "step": null,
       "style": "IPY_MODEL_3900319286214c2b9307c6fdd1757650"
      }
     },
     "241a02be82b047e6b8017095b6492f36": {
      "model_module": "@jupyter-widgets/controls",
      "model_module_version": "2.0.0",
      "model_name": "VBoxModel",
      "state": {
       "children": [
        "IPY_MODEL_0980a2a93ceb4e46bc036161ff700f2c",
        "IPY_MODEL_687ea5cc49ca4bd8b22bb27073b2a3f2",
        "IPY_MODEL_ca052d9e54e94adcb6c407aa78e3c759",
        "IPY_MODEL_56298ce13552415a8301e7934bae3456",
        "IPY_MODEL_abc75fdfe4b44b799607948108a7dfbc",
        "IPY_MODEL_eda9c737d29d4964939b92123cb5e558",
        "IPY_MODEL_b58b6dff853b4cbc9d4ecd44e023a6e0",
        "IPY_MODEL_7a5a7f014add48cfa467d4e0f218272e"
       ],
       "layout": "IPY_MODEL_b501ab1a9e6a40b6b8b71b5f56007e45"
      }
     },
     "249c650aa6f24d008abb08995a4b647f": {
      "model_module": "@jupyter-widgets/base",
      "model_module_version": "2.0.0",
      "model_name": "LayoutModel",
      "state": {}
     },
     "24df0544714d424e9d522415a58f0781": {
      "model_module": "@jupyter-widgets/base",
      "model_module_version": "2.0.0",
      "model_name": "LayoutModel",
      "state": {}
     },
     "24e4a28b9c024f1b8b65d5bd13c72a76": {
      "model_module": "@jupyter-widgets/controls",
      "model_module_version": "2.0.0",
      "model_name": "ButtonModel",
      "state": {
       "description": "Start",
       "layout": "IPY_MODEL_d22b0f764a1a468fbf3afcc9ef119a52",
       "style": "IPY_MODEL_66a9ae876ac849cda94dd7561611d99b",
       "tooltip": null
      }
     },
     "25a7fa3e0466468aa35c0debfa95394c": {
      "model_module": "@jupyter-widgets/base",
      "model_module_version": "2.0.0",
      "model_name": "LayoutModel",
      "state": {}
     },
     "25e27a44748f4012b3ad90b6f10b3c0a": {
      "model_module": "@jupyter-widgets/base",
      "model_module_version": "2.0.0",
      "model_name": "LayoutModel",
      "state": {}
     },
     "2642d4c845ff48a0b6f4a3b90bd5e15c": {
      "model_module": "@jupyter-widgets/base",
      "model_module_version": "2.0.0",
      "model_name": "LayoutModel",
      "state": {}
     },
     "27017d25ca804d3cb513eebf9f8bb714": {
      "model_module": "@jupyter-widgets/controls",
      "model_module_version": "2.0.0",
      "model_name": "DescriptionStyleModel",
      "state": {
       "description_width": ""
      }
     },
     "2791d697a6ca4bfdb8df7110f4f053a7": {
      "model_module": "@jupyter-widgets/base",
      "model_module_version": "2.0.0",
      "model_name": "LayoutModel",
      "state": {}
     },
     "27ed90de0de446a393763b8cffa8054c": {
      "model_module": "@jupyter-widgets/controls",
      "model_module_version": "2.0.0",
      "model_name": "DescriptionStyleModel",
      "state": {
       "description_width": ""
      }
     },
     "28680ecd0e514b0ba05b3b82459424a4": {
      "model_module": "@jupyter-widgets/controls",
      "model_module_version": "2.0.0",
      "model_name": "ButtonStyleModel",
      "state": {
       "font_family": null,
       "font_size": null,
       "font_style": null,
       "font_variant": null,
       "font_weight": null,
       "text_color": null,
       "text_decoration": null
      }
     },
     "286e83389641416dae9ec29ed2bfcf77": {
      "model_module": "@jupyter-widgets/controls",
      "model_module_version": "2.0.0",
      "model_name": "CheckboxModel",
      "state": {
       "description": "save_fig",
       "disabled": false,
       "layout": "IPY_MODEL_dccb4283030e4536a7c156257b4f4504",
       "style": "IPY_MODEL_4bab52bb81cf405ea802df2d8f5261f6",
       "value": true
      }
     },
     "28d293defe264af0ac48db20fc563101": {
      "model_module": "@jupyter-widgets/base",
      "model_module_version": "2.0.0",
      "model_name": "LayoutModel",
      "state": {}
     },
     "29067dbe63364ff6b312edac7f1e4abf": {
      "model_module": "@jupyter-widgets/controls",
      "model_module_version": "2.0.0",
      "model_name": "ButtonModel",
      "state": {
       "description": "show color",
       "layout": "IPY_MODEL_4a88f52e81284c5dbac3b7f6d7f54825",
       "style": "IPY_MODEL_ccd354a4f203422995525b1a76fd946b",
       "tooltip": null
      }
     },
     "29273a33b0144a7fac5a17a4e1410316": {
      "model_module": "@jupyter-widgets/controls",
      "model_module_version": "2.0.0",
      "model_name": "ButtonStyleModel",
      "state": {
       "font_family": null,
       "font_size": null,
       "font_style": null,
       "font_variant": null,
       "font_weight": null,
       "text_color": null,
       "text_decoration": null
      }
     },
     "29818b624b794116bb8ec1099d087b1f": {
      "model_module": "@jupyter-widgets/controls",
      "model_module_version": "2.0.0",
      "model_name": "IntTextModel",
      "state": {
       "description": "index row:",
       "layout": "IPY_MODEL_d26285c7cb1a4b15b894eb936a8411d6",
       "step": 1,
       "style": "IPY_MODEL_d8bf28ece5bf43c3b4b3d593b35523bc"
      }
     },
     "298a29a273924178b7716168a41f75ee": {
      "model_module": "@jupyter-widgets/base",
      "model_module_version": "2.0.0",
      "model_name": "LayoutModel",
      "state": {}
     },
     "29980c3142cd4a658959011dde419b78": {
      "model_module": "@jupyter-widgets/controls",
      "model_module_version": "2.0.0",
      "model_name": "HBoxModel",
      "state": {
       "children": [
        "IPY_MODEL_b7964a5ed42e4bbb8a0acd944e809e02",
        "IPY_MODEL_980fcaa276c94e5c8b7f9f879d5b2c0b",
        "IPY_MODEL_e582a387ca184c2a9ddee37429480ad6"
       ],
       "layout": "IPY_MODEL_e46ae88dc2ae4470b0c1d8b1380671ab"
      }
     },
     "2b13ad8dac5b426cb64686332e9a0f33": {
      "model_module": "@jupyter-widgets/controls",
      "model_module_version": "2.0.0",
      "model_name": "ButtonStyleModel",
      "state": {
       "font_family": null,
       "font_size": null,
       "font_style": null,
       "font_variant": null,
       "font_weight": null,
       "text_color": null,
       "text_decoration": null
      }
     },
     "2b54a34ba7484d7b968b9f32fdf4e856": {
      "model_module": "@jupyter-widgets/controls",
      "model_module_version": "2.0.0",
      "model_name": "VBoxModel",
      "state": {
       "children": [
        "IPY_MODEL_2b55fe5f010c464891f993032eccdaba",
        "IPY_MODEL_2054726045aa48bca6158b5777b9a3bd",
        "IPY_MODEL_9f5575e61d694bb19710c25de515d74b",
        "IPY_MODEL_6c7622172d614e599d15d8a77f48b3c3",
        "IPY_MODEL_d22ac604b4f640b0a91861a2d3d77b3a",
        "IPY_MODEL_a9c5d18570644551bb8d209b9ebbff1b"
       ],
       "layout": "IPY_MODEL_bb72a7fb99e94072a3c40198d2cf76f3"
      }
     },
     "2b55fe5f010c464891f993032eccdaba": {
      "model_module": "@jupyter-widgets/controls",
      "model_module_version": "2.0.0",
      "model_name": "FloatTextModel",
      "state": {
       "description": "peak value:",
       "layout": "IPY_MODEL_94d377dfc1964cab83ece6b14cd6c83d",
       "step": null,
       "style": "IPY_MODEL_a1b2d94301e343119aa75b6e826be0ea",
       "value": 1.1
      }
     },
     "2b630eff696f4adc914669b37e337527": {
      "model_module": "@jupyter-widgets/base",
      "model_module_version": "2.0.0",
      "model_name": "LayoutModel",
      "state": {}
     },
     "2b74cee44739400f95211e7c1858a9ff": {
      "model_module": "@jupyter-widgets/controls",
      "model_module_version": "2.0.0",
      "model_name": "HBoxModel",
      "state": {
       "children": [
        "IPY_MODEL_90f3c369d16d40eca97ca7819105ed42",
        "IPY_MODEL_ba96fba1d20041e089ef27ce0e328853"
       ],
       "layout": "IPY_MODEL_a66e2453e837436fbd6f2f2f64c88126"
      }
     },
     "2b9d24bf8e37411fbd616699c367244a": {
      "model_module": "@jupyter-widgets/controls",
      "model_module_version": "2.0.0",
      "model_name": "TabModel",
      "state": {
       "children": [
        "IPY_MODEL_241a02be82b047e6b8017095b6492f36",
        "IPY_MODEL_1f653ad4439945c3bf6b92c433da8ee8"
       ],
       "layout": "IPY_MODEL_c4c220fcb1d84233bc8b614fdc68787f",
       "selected_index": 0,
       "titles": [
        "peak finder",
        "rangging"
       ]
      }
     },
     "2bf5451fbff44b3498bcc692a390c90f": {
      "model_module": "@jupyter-widgets/controls",
      "model_module_version": "2.0.0",
      "model_name": "VBoxModel",
      "state": {
       "children": [
        "IPY_MODEL_29818b624b794116bb8ec1099d087b1f",
        "IPY_MODEL_e4e4d50e1cea44a2b59fea6bd470c51c",
        "IPY_MODEL_60c053fbd58e4155a93fc66628038444",
        "IPY_MODEL_fb1d65661e4b46669f333a94ba1f3664",
        "IPY_MODEL_ae3de8aac0bb478b8ca6dea4c6ecbcb4",
        "IPY_MODEL_29067dbe63364ff6b312edac7f1e4abf",
        "IPY_MODEL_92cd6472fd9447caa07150a215d6ebfc"
       ],
       "layout": "IPY_MODEL_9979dba803f1473c85b70024471d0093"
      }
     },
     "2cb38f3406564765bcd4dfa309cd833a": {
      "model_module": "@jupyter-widgets/controls",
      "model_module_version": "2.0.0",
      "model_name": "IntTextModel",
      "state": {
       "description": "lim",
       "layout": "IPY_MODEL_ed6c69f8673448cab04bf64afe2e1f95",
       "step": 1,
       "style": "IPY_MODEL_6a0b42e224734ee6bf662d6db78d7258",
       "value": 400
      }
     },
     "2cee086ed0a44849a0295410e97fe837": {
      "model_module": "@jupyter-widgets/controls",
      "model_module_version": "2.0.0",
      "model_name": "TabModel",
      "state": {
       "children": [
        "IPY_MODEL_d18da769c95b45c3a83f2377ca77fbfa"
       ],
       "layout": "IPY_MODEL_f81a7d303bcf44aba007c4d2a0adc9b4",
       "selected_index": 0,
       "titles": [
        "element finder"
       ]
      }
     },
     "2d27fc08740444ffa9d1fc496ea9fd6a": {
      "model_module": "@jupyter-widgets/base",
      "model_module_version": "2.0.0",
      "model_name": "LayoutModel",
      "state": {}
     },
     "2dfa090bdb1644e1b70137fa6a181804": {
      "model_module": "@jupyter-widgets/output",
      "model_module_version": "1.0.0",
      "model_name": "OutputModel",
      "state": {
       "layout": "IPY_MODEL_d5929712b45a48cfab2899d05639b725",
       "outputs": [
        {
         "data": {
          "text/html": "<div>\n<style scoped>\n    .dataframe tbody tr th:only-of-type {\n        vertical-align: middle;\n    }\n\n    .dataframe tbody tr th {\n        vertical-align: top;\n    }\n\n    .dataframe thead th {\n        text-align: right;\n    }\n</style>\n<table border=\"1\" class=\"dataframe\">\n  <thead>\n    <tr style=\"text-align: right;\">\n      <th></th>\n      <th>ion</th>\n      <th>mass</th>\n      <th>mc</th>\n      <th>mc_low</th>\n      <th>mc_up</th>\n      <th>color</th>\n      <th>element</th>\n      <th>complex</th>\n      <th>isotope</th>\n      <th>charge</th>\n    </tr>\n  </thead>\n  <tbody>\n  </tbody>\n</table>\n</div>",
          "text/plain": "Empty DataFrame\nColumns: [ion, mass, mc, mc_low, mc_up, color, element, complex, isotope, charge]\nIndex: []"
         },
         "metadata": {},
         "output_type": "display_data"
        }
       ]
      }
     },
     "2e4c62a6908b4b15a2fdf022659e5661": {
      "model_module": "@jupyter-widgets/controls",
      "model_module_version": "2.0.0",
      "model_name": "VBoxModel",
      "state": {
       "children": [
        "IPY_MODEL_0980a2a93ceb4e46bc036161ff700f2c",
        "IPY_MODEL_687ea5cc49ca4bd8b22bb27073b2a3f2",
        "IPY_MODEL_ca052d9e54e94adcb6c407aa78e3c759",
        "IPY_MODEL_56298ce13552415a8301e7934bae3456",
        "IPY_MODEL_abc75fdfe4b44b799607948108a7dfbc",
        "IPY_MODEL_eda9c737d29d4964939b92123cb5e558",
        "IPY_MODEL_a7cd1868754b4abeb65e76d74f9995b7"
       ],
       "layout": "IPY_MODEL_aeb4db7cdcf64099b2e56b272ba31da4"
      }
     },
     "2ea272c507c2411bb0fa175d2a8ac230": {
      "model_module": "@jupyter-widgets/base",
      "model_module_version": "2.0.0",
      "model_name": "LayoutModel",
      "state": {}
     },
     "2eba7143fce041ec9900454016ec00be": {
      "model_module": "@jupyter-widgets/controls",
      "model_module_version": "2.0.0",
      "model_name": "ButtonStyleModel",
      "state": {
       "font_family": null,
       "font_size": null,
       "font_style": null,
       "font_variant": null,
       "font_weight": null,
       "text_color": null,
       "text_decoration": null
      }
     },
     "2fd6eed8d7034eb2bd4679eb705228b7": {
      "model_module": "@jupyter-widgets/base",
      "model_module_version": "2.0.0",
      "model_name": "LayoutModel",
      "state": {}
     },
     "30ebe58f763942af8331b82d355d98a5": {
      "model_module": "@jupyter-widgets/base",
      "model_module_version": "2.0.0",
      "model_name": "LayoutModel",
      "state": {}
     },
     "3135c6da13a9475889aef13a2cdab998": {
      "model_module": "@jupyter-widgets/base",
      "model_module_version": "2.0.0",
      "model_name": "LayoutModel",
      "state": {}
     },
     "31bc9b59d1264da290ef2050f7e64e9f": {
      "model_module": "@jupyter-widgets/controls",
      "model_module_version": "2.0.0",
      "model_name": "ButtonModel",
      "state": {
       "description": "add ion",
       "layout": "IPY_MODEL_9e88a723f428477f949f0760c54775de",
       "style": "IPY_MODEL_d017f2d8f8464d8282a11140340d550b",
       "tooltip": null
      }
     },
     "31f2fef559ea4fba90f2a9619355d6da": {
      "model_module": "@jupyter-widgets/controls",
      "model_module_version": "2.0.0",
      "model_name": "ButtonModel",
      "state": {
       "description": "plot hist",
       "layout": "IPY_MODEL_624ed56ea052450b9a91975fb000fb13",
       "style": "IPY_MODEL_fa0ea6dad5d44353af7dd9d41c8065aa",
       "tooltip": null
      }
     },
     "31ff9157f96e4e88975f36e11e787608": {
      "model_module": "@jupyter-widgets/controls",
      "model_module_version": "2.0.0",
      "model_name": "ButtonModel",
      "state": {
       "description": "add ion",
       "layout": "IPY_MODEL_b2e3a7d7c2af42059160b846a7f06b33",
       "style": "IPY_MODEL_f6462cda005d4285830b67fafe6185d7",
       "tooltip": null
      }
     },
     "323d8e66ccc645e4a293935e0d174f54": {
      "model_module": "@jupyter-widgets/controls",
      "model_module_version": "2.0.0",
      "model_name": "ButtonStyleModel",
      "state": {
       "font_family": null,
       "font_size": null,
       "font_style": null,
       "font_variant": null,
       "font_weight": null,
       "text_color": null,
       "text_decoration": null
      }
     },
     "327b9cf867f2460c954f613731ca409a": {
      "model_module": "@jupyter-widgets/controls",
      "model_module_version": "2.0.0",
      "model_name": "DescriptionStyleModel",
      "state": {
       "description_width": ""
      }
     },
     "334476b3b30a4e33a33583eb6c8ef886": {
      "model_module": "@jupyter-widgets/controls",
      "model_module_version": "2.0.0",
      "model_name": "ButtonModel",
      "state": {
       "description": "show color",
       "layout": "IPY_MODEL_59d5106ddfb34105b18cd58069d8be6c",
       "style": "IPY_MODEL_20e92a69896d4512a18aa60c3a2ecc16",
       "tooltip": null
      }
     },
     "33f3e95dfc9c4d24b8b114528fc8496a": {
      "model_module": "@jupyter-widgets/controls",
      "model_module_version": "2.0.0",
      "model_name": "ButtonStyleModel",
      "state": {
       "font_family": null,
       "font_size": null,
       "font_style": null,
       "font_variant": null,
       "font_weight": null,
       "text_color": null,
       "text_decoration": null
      }
     },
     "345091002033468da89102af295c5573": {
      "model_module": "@jupyter-widgets/controls",
      "model_module_version": "2.0.0",
      "model_name": "ButtonModel",
      "state": {
       "description": "Previous",
       "layout": "IPY_MODEL_68661666ea7b4964aa10fd05075e92f1",
       "style": "IPY_MODEL_18a24399ee734597a76be4bbdba1c411",
       "tooltip": null
      }
     },
     "34616b0e326e441d9778e89a2cc7f839": {
      "model_module": "@jupyter-widgets/base",
      "model_module_version": "2.0.0",
      "model_name": "LayoutModel",
      "state": {}
     },
     "3477058e91b04ac0acb031f6c4ca3e08": {
      "model_module": "@jupyter-widgets/controls",
      "model_module_version": "2.0.0",
      "model_name": "ButtonStyleModel",
      "state": {
       "font_family": null,
       "font_size": null,
       "font_style": null,
       "font_variant": null,
       "font_weight": null,
       "text_color": null,
       "text_decoration": null
      }
     },
     "34a7045e9d2d4fbe9e0473d10690e0a3": {
      "model_module": "@jupyter-widgets/base",
      "model_module_version": "2.0.0",
      "model_name": "LayoutModel",
      "state": {}
     },
     "34d47a0156ff4b449d015d943ae82710": {
      "model_module": "@jupyter-widgets/base",
      "model_module_version": "2.0.0",
      "model_name": "LayoutModel",
      "state": {}
     },
     "3562988bae6e46428df082d58ad832e7": {
      "model_module": "@jupyter-widgets/controls",
      "model_module_version": "2.0.0",
      "model_name": "ButtonModel",
      "state": {
       "description": "find element",
       "layout": "IPY_MODEL_140a857838fa4a65a71fc7c2dc0440fa",
       "style": "IPY_MODEL_5e89277aebc246569b95717c358ac36d",
       "tooltip": null
      }
     },
     "3587c6be2a3742988b883f7dae5890d0": {
      "model_module": "@jupyter-widgets/base",
      "model_module_version": "2.0.0",
      "model_name": "LayoutModel",
      "state": {}
     },
     "35b700a2a3634487adade1acb942e04d": {
      "model_module": "@jupyter-widgets/base",
      "model_module_version": "2.0.0",
      "model_name": "LayoutModel",
      "state": {}
     },
     "363c4098a722426988d86466dedad132": {
      "model_module": "@jupyter-widgets/base",
      "model_module_version": "2.0.0",
      "model_name": "LayoutModel",
      "state": {}
     },
     "36484ce0db3a49ca9389e5e822ea5014": {
      "model_module": "@jupyter-widgets/controls",
      "model_module_version": "2.0.0",
      "model_name": "DescriptionStyleModel",
      "state": {
       "description_width": ""
      }
     },
     "36842f4b558f4adea44d03f4d6b4848a": {
      "model_module": "@jupyter-widgets/controls",
      "model_module_version": "2.0.0",
      "model_name": "ButtonStyleModel",
      "state": {
       "font_family": null,
       "font_size": null,
       "font_style": null,
       "font_variant": null,
       "font_weight": null,
       "text_color": null,
       "text_decoration": null
      }
     },
     "36fc03cc6f8647b9a626aa9500533113": {
      "model_module": "@jupyter-widgets/base",
      "model_module_version": "2.0.0",
      "model_name": "LayoutModel",
      "state": {}
     },
     "372ca5ca68054ab188c69bc8057b4a32": {
      "model_module": "@jupyter-widgets/controls",
      "model_module_version": "2.0.0",
      "model_name": "ButtonStyleModel",
      "state": {
       "font_family": null,
       "font_size": null,
       "font_style": null,
       "font_variant": null,
       "font_weight": null,
       "text_color": null,
       "text_decoration": null
      }
     },
     "3737ee18c59f478caf0b6df515e1144c": {
      "model_module": "@jupyter-widgets/base",
      "model_module_version": "2.0.0",
      "model_name": "LayoutModel",
      "state": {}
     },
     "37486623486748b69339c87112b2bfa5": {
      "model_module": "@jupyter-widgets/base",
      "model_module_version": "2.0.0",
      "model_name": "LayoutModel",
      "state": {}
     },
     "37825e919374408e8e0a3b5b1e2a1171": {
      "model_module": "@jupyter-widgets/controls",
      "model_module_version": "2.0.0",
      "model_name": "ButtonStyleModel",
      "state": {
       "font_family": null,
       "font_size": null,
       "font_style": null,
       "font_variant": null,
       "font_weight": null,
       "text_color": null,
       "text_decoration": null
      }
     },
     "3791820cf13841bb85af4be077c10b1c": {
      "model_module": "@jupyter-widgets/base",
      "model_module_version": "2.0.0",
      "model_name": "LayoutModel",
      "state": {}
     },
     "37d26b9be0f247599c5d0d382733be4d": {
      "model_module": "@jupyter-widgets/controls",
      "model_module_version": "2.0.0",
      "model_name": "ButtonModel",
      "state": {
       "description": "Previous",
       "layout": "IPY_MODEL_363c4098a722426988d86466dedad132",
       "style": "IPY_MODEL_9936743013e443348898a16f0f88c451",
       "tooltip": null
      }
     },
     "38146af3caf640c6971ec1c3112c41a3": {
      "model_module": "@jupyter-widgets/controls",
      "model_module_version": "2.0.0",
      "model_name": "ColorPickerModel",
      "state": {
       "description": "Select a color:",
       "disabled": false,
       "layout": "IPY_MODEL_def52d2e6b2c42fcbcc0f0ac6d4b23b4",
       "style": "IPY_MODEL_f025471db8814e35bffeeef4540cf995"
      }
     },
     "386405eb0939486a9fc306dfb62a7555": {
      "model_module": "@jupyter-widgets/base",
      "model_module_version": "2.0.0",
      "model_name": "LayoutModel",
      "state": {}
     },
     "38a6c2065c17485ca960b880752e020b": {
      "model_module": "@jupyter-widgets/base",
      "model_module_version": "2.0.0",
      "model_name": "LayoutModel",
      "state": {}
     },
     "38b0dd87325e4a9c94d4b2fc205d5fb4": {
      "model_module": "@jupyter-widgets/base",
      "model_module_version": "2.0.0",
      "model_name": "LayoutModel",
      "state": {}
     },
     "3900319286214c2b9307c6fdd1757650": {
      "model_module": "@jupyter-widgets/controls",
      "model_module_version": "2.0.0",
      "model_name": "DescriptionStyleModel",
      "state": {
       "description_width": ""
      }
     },
     "3931955ea82d4342a653e6a3c5f37ebd": {
      "model_module": "@jupyter-widgets/base",
      "model_module_version": "2.0.0",
      "model_name": "LayoutModel",
      "state": {}
     },
     "397aa338c7cd4842b27f96e0e3541b55": {
      "model_module": "@jupyter-widgets/base",
      "model_module_version": "2.0.0",
      "model_name": "LayoutModel",
      "state": {}
     },
     "397c88c8905f4751be71a2b417d96d6d": {
      "model_module": "@jupyter-widgets/controls",
      "model_module_version": "2.0.0",
      "model_name": "DropdownModel",
      "state": {
       "_options_labels": [
        "1",
        "2",
        "3",
        "4",
        "5",
        "6"
       ],
       "description": "charge:",
       "index": 2,
       "layout": "IPY_MODEL_e87cc556bd7a4a509fd40e17ec3974bc",
       "style": "IPY_MODEL_dd8d0bd5d5704dab9efe103fefde284b"
      }
     },
     "3a50205b1171408d9843ad9fbbcb684b": {
      "model_module": "@jupyter-widgets/base",
      "model_module_version": "2.0.0",
      "model_name": "LayoutModel",
      "state": {}
     },
     "3a619a2bb0e247c490e8d1cb6e11efbb": {
      "model_module": "@jupyter-widgets/controls",
      "model_module_version": "2.0.0",
      "model_name": "ColorPickerModel",
      "state": {
       "description": "Select a color:",
       "disabled": false,
       "layout": "IPY_MODEL_25a7fa3e0466468aa35c0debfa95394c",
       "style": "IPY_MODEL_a127609c0fc5467daa161be38a1746e2"
      }
     },
     "3a9861b8cfe34f6e80ef6b9af950f07c": {
      "model_module": "@jupyter-widgets/controls",
      "model_module_version": "2.0.0",
      "model_name": "ButtonStyleModel",
      "state": {
       "font_family": null,
       "font_size": null,
       "font_style": null,
       "font_variant": null,
       "font_weight": null,
       "text_color": null,
       "text_decoration": null
      }
     },
     "3ad0dd8a4d50447d84813e3d17ecb6cd": {
      "model_module": "@jupyter-widgets/base",
      "model_module_version": "2.0.0",
      "model_name": "LayoutModel",
      "state": {}
     },
     "3af0100a16644ac6a807ea54b65219e9": {
      "model_module": "@jupyter-widgets/base",
      "model_module_version": "2.0.0",
      "model_name": "LayoutModel",
      "state": {}
     },
     "3af0e75d3ec34e289cad9ac9fb0a37d2": {
      "model_module": "@jupyter-widgets/controls",
      "model_module_version": "2.0.0",
      "model_name": "ButtonStyleModel",
      "state": {
       "font_family": null,
       "font_size": null,
       "font_style": null,
       "font_variant": null,
       "font_weight": null,
       "text_color": null,
       "text_decoration": null
      }
     },
     "3b2b77b00b02444886aec62de69c0c03": {
      "model_module": "@jupyter-widgets/output",
      "model_module_version": "1.0.0",
      "model_name": "OutputModel",
      "state": {
       "layout": "IPY_MODEL_2642d4c845ff48a0b6f4a3b90bd5e15c",
       "outputs": [
        {
         "data": {
          "text/html": "<div>\n<style scoped>\n    .dataframe tbody tr th:only-of-type {\n        vertical-align: middle;\n    }\n\n    .dataframe tbody tr th {\n        vertical-align: top;\n    }\n\n    .dataframe thead th {\n        text-align: right;\n    }\n</style>\n<table border=\"1\" class=\"dataframe\">\n  <thead>\n    <tr style=\"text-align: right;\">\n      <th></th>\n      <th>ion</th>\n      <th>mass</th>\n      <th>mc</th>\n      <th>mc_low</th>\n      <th>mc_up</th>\n      <th>color</th>\n      <th>element</th>\n      <th>complex</th>\n      <th>isotope</th>\n      <th>charge</th>\n    </tr>\n  </thead>\n  <tbody>\n  </tbody>\n</table>\n</div>",
          "text/plain": "Empty DataFrame\nColumns: [ion, mass, mc, mc_low, mc_up, color, element, complex, isotope, charge]\nIndex: []"
         },
         "metadata": {},
         "output_type": "display_data"
        }
       ]
      }
     },
     "3b38c07be2994d418f5fb56946325f0f": {
      "model_module": "@jupyter-widgets/controls",
      "model_module_version": "2.0.0",
      "model_name": "VBoxModel",
      "state": {
       "children": [
        "IPY_MODEL_0980a2a93ceb4e46bc036161ff700f2c",
        "IPY_MODEL_687ea5cc49ca4bd8b22bb27073b2a3f2",
        "IPY_MODEL_ca052d9e54e94adcb6c407aa78e3c759",
        "IPY_MODEL_56298ce13552415a8301e7934bae3456",
        "IPY_MODEL_abc75fdfe4b44b799607948108a7dfbc",
        "IPY_MODEL_eda9c737d29d4964939b92123cb5e558",
        "IPY_MODEL_7167d975296a4d08b08ea7b03d03fbc7"
       ],
       "layout": "IPY_MODEL_d57f7a9a9ebc4ea3ac87348d630ce6c4"
      }
     },
     "3bb41ad00f704bbbac1e2039b2a9aadb": {
      "model_module": "@jupyter-widgets/base",
      "model_module_version": "2.0.0",
      "model_name": "LayoutModel",
      "state": {}
     },
     "3bd37e7ee20040f4accb670db031642f": {
      "model_module": "@jupyter-widgets/base",
      "model_module_version": "2.0.0",
      "model_name": "LayoutModel",
      "state": {}
     },
     "3be3e98e422247ea8f64488040498ead": {
      "model_module": "@jupyter-widgets/base",
      "model_module_version": "2.0.0",
      "model_name": "LayoutModel",
      "state": {}
     },
     "3c126b7fc08b4044af238d8dcce4f46b": {
      "model_module": "@jupyter-widgets/controls",
      "model_module_version": "2.0.0",
      "model_name": "HBoxModel",
      "state": {
       "children": [
        "IPY_MODEL_df25839db4b74fa49d914112eac53443",
        "IPY_MODEL_2bf5451fbff44b3498bcc692a390c90f",
        "IPY_MODEL_9d12727dc60b4211aab69d6f45c5d29e"
       ],
       "layout": "IPY_MODEL_af904a1ec5204290a5bcbdaea8b735c9"
      }
     },
     "3c5257c618954356a7eb078c568b7d50": {
      "model_module": "@jupyter-widgets/controls",
      "model_module_version": "2.0.0",
      "model_name": "ButtonModel",
      "state": {
       "description": "manual formula",
       "layout": "IPY_MODEL_3931955ea82d4342a653e6a3c5f37ebd",
       "style": "IPY_MODEL_b1b5ba0d657442d7896328db2aeb1abb",
       "tooltip": null
      }
     },
     "3c84ab79d32b46779cf5e745259945ef": {
      "model_module": "@jupyter-widgets/base",
      "model_module_version": "2.0.0",
      "model_name": "LayoutModel",
      "state": {}
     },
     "3cba3f6fd6b04649ae06f55a2c29b282": {
      "model_module": "@jupyter-widgets/base",
      "model_module_version": "2.0.0",
      "model_name": "LayoutModel",
      "state": {}
     },
     "3ccdbac0772b41da903becf8342e1c9e": {
      "model_module": "@jupyter-widgets/controls",
      "model_module_version": "2.0.0",
      "model_name": "FloatTextModel",
      "state": {
       "description": "unknown mass:",
       "layout": "IPY_MODEL_10d84246c5ca466894108744ea36ca70",
       "step": null,
       "style": "IPY_MODEL_de973fcd5fb24179bc08ea4e7d07037b"
      }
     },
     "3ce2262fca2745f3b918d2b142228b98": {
      "model_module": "@jupyter-widgets/controls",
      "model_module_version": "2.0.0",
      "model_name": "ButtonModel",
      "state": {
       "description": "manual formula",
       "layout": "IPY_MODEL_030f926cf372457a9adca6a76c6bb39f",
       "style": "IPY_MODEL_a38a514c230e4adbb98639edda2ca9a4",
       "tooltip": null
      }
     },
     "3db48ea9bff4418abba82b67ef1152a9": {
      "model_module": "@jupyter-widgets/controls",
      "model_module_version": "2.0.0",
      "model_name": "ButtonStyleModel",
      "state": {
       "font_family": null,
       "font_size": null,
       "font_style": null,
       "font_variant": null,
       "font_weight": null,
       "text_color": null,
       "text_decoration": null
      }
     },
     "3dc11a84f539463cbc369b768e98628d": {
      "model_module": "@jupyter-widgets/base",
      "model_module_version": "2.0.0",
      "model_name": "LayoutModel",
      "state": {}
     },
     "3e7e5cdfbe5b4b3a82af30e3dfa47386": {
      "model_module": "@jupyter-widgets/controls",
      "model_module_version": "2.0.0",
      "model_name": "ButtonStyleModel",
      "state": {
       "font_family": null,
       "font_size": null,
       "font_style": null,
       "font_variant": null,
       "font_weight": null,
       "text_color": null,
       "text_decoration": null
      }
     },
     "3e8080151ffb4ebb8f48db2e8ca78cc7": {
      "model_module": "@jupyter-widgets/base",
      "model_module_version": "2.0.0",
      "model_name": "LayoutModel",
      "state": {}
     },
     "3e8671241577427eab9043d2d71555f8": {
      "model_module": "@jupyter-widgets/controls",
      "model_module_version": "2.0.0",
      "model_name": "CheckboxStyleModel",
      "state": {
       "description_width": ""
      }
     },
     "3f1bb3f728a24550a914b63a19fe0c06": {
      "model_module": "@jupyter-widgets/controls",
      "model_module_version": "2.0.0",
      "model_name": "ButtonModel",
      "state": {
       "description": "plot hist",
       "layout": "IPY_MODEL_081968c0473641bd800a2ce7be2c4b8a",
       "style": "IPY_MODEL_128f7667f0844150a139449b8ced7ab6",
       "tooltip": null
      }
     },
     "3f3e051d8a7845df8e74e29f9e0a5a7d": {
      "model_module": "@jupyter-widgets/base",
      "model_module_version": "2.0.0",
      "model_name": "LayoutModel",
      "state": {}
     },
     "3f9f1f9ec1434ad49a349ad0c185285a": {
      "model_module": "@jupyter-widgets/base",
      "model_module_version": "2.0.0",
      "model_name": "LayoutModel",
      "state": {}
     },
     "3ff03cff15ca42cfafa642b0bfaf3315": {
      "model_module": "@jupyter-widgets/controls",
      "model_module_version": "2.0.0",
      "model_name": "ButtonModel",
      "state": {
       "description": "plot hist",
       "layout": "IPY_MODEL_b47b1514ecf04655a175efa74cdeb88b",
       "style": "IPY_MODEL_7eee417c6c3e4ba1a2509291998492dd",
       "tooltip": null
      }
     },
     "4010e8f50b9c406a81d37c243efd06ef": {
      "model_module": "@jupyter-widgets/controls",
      "model_module_version": "2.0.0",
      "model_name": "FloatTextModel",
      "state": {
       "description": "Max mc:",
       "layout": "IPY_MODEL_963c33f7e5d94005a923c33a38c659f2",
       "step": null,
       "style": "IPY_MODEL_9b3e2aea1bb649dc9146790e8ac6f66b",
       "value": 400
      }
     },
     "40341a25049c4652a56d58ab7066b708": {
      "model_module": "@jupyter-widgets/base",
      "model_module_version": "2.0.0",
      "model_name": "LayoutModel",
      "state": {}
     },
     "404f803cf22d4ef0bf06d6fb40a7b685": {
      "model_module": "@jupyter-widgets/base",
      "model_module_version": "2.0.0",
      "model_name": "LayoutModel",
      "state": {}
     },
     "408e66dabd9d4f7cbebe5f051b1e26ab": {
      "model_module": "@jupyter-widgets/controls",
      "model_module_version": "2.0.0",
      "model_name": "ButtonStyleModel",
      "state": {
       "font_family": null,
       "font_size": null,
       "font_style": null,
       "font_variant": null,
       "font_weight": null,
       "text_color": null,
       "text_decoration": null
      }
     },
     "40ee1f02690e4ad2af6d8d5a38e517c1": {
      "model_module": "@jupyter-widgets/base",
      "model_module_version": "2.0.0",
      "model_name": "LayoutModel",
      "state": {}
     },
     "4166f19326fb40769edb77e50c91a83e": {
      "model_module": "@jupyter-widgets/base",
      "model_module_version": "2.0.0",
      "model_name": "LayoutModel",
      "state": {}
     },
     "4243b816f8884e708e11673f8ebc856e": {
      "model_module": "@jupyter-widgets/base",
      "model_module_version": "2.0.0",
      "model_name": "LayoutModel",
      "state": {}
     },
     "424b824581e34cc68b153e43fb9caf3f": {
      "model_module": "@jupyter-widgets/base",
      "model_module_version": "2.0.0",
      "model_name": "LayoutModel",
      "state": {}
     },
     "428d586e310c41129eb792d3f6a49ebf": {
      "model_module": "@jupyter-widgets/controls",
      "model_module_version": "2.0.0",
      "model_name": "VBoxModel",
      "state": {
       "children": [
        "IPY_MODEL_ac57d4cf01904265abcc3d17e9bd197a"
       ],
       "layout": "IPY_MODEL_772a48d819f44eed903ca6d642afe852"
      }
     },
     "428f1f47cad248b187cd3a6db569e4fd": {
      "model_module": "@jupyter-widgets/controls",
      "model_module_version": "2.0.0",
      "model_name": "ButtonModel",
      "state": {
       "description": "plot hist",
       "layout": "IPY_MODEL_d3eda613f25e469f8857f65ec1283682",
       "style": "IPY_MODEL_b14415258c7b4697ada2092861bb8228",
       "tooltip": null
      }
     },
     "42e147bbdb5b4a5aaaec1a207ef27ec5": {
      "model_module": "@jupyter-widgets/controls",
      "model_module_version": "2.0.0",
      "model_name": "HBoxModel",
      "state": {
       "children": [
        "IPY_MODEL_76699162916d4fad97a28bfcefaf997a"
       ],
       "layout": "IPY_MODEL_ac5510d6f1b347ff9df4f45e81ce155a"
      }
     },
     "4300711452554d43a45b8f9ca155a827": {
      "model_module": "@jupyter-widgets/controls",
      "model_module_version": "2.0.0",
      "model_name": "ButtonModel",
      "state": {
       "description": "find element",
       "layout": "IPY_MODEL_eec6578f4af0495d934b37c79f1e0005",
       "style": "IPY_MODEL_2100ef98630448ee895f1766db6e3851",
       "tooltip": null
      }
     },
     "430f29a58554493db3fa965ca4fa4b3b": {
      "model_module": "@jupyter-widgets/controls",
      "model_module_version": "2.0.0",
      "model_name": "ButtonModel",
      "state": {
       "description": "remove ion",
       "layout": "IPY_MODEL_6b36ff83ed8b4786b585503dbc769ea8",
       "style": "IPY_MODEL_79232cfd0a724fa7b29f2e684829f6c0",
       "tooltip": null
      }
     },
     "431af3962e7240f28932e53b7aeb2a17": {
      "model_module": "@jupyter-widgets/controls",
      "model_module_version": "2.0.0",
      "model_name": "ButtonStyleModel",
      "state": {
       "font_family": null,
       "font_size": null,
       "font_style": null,
       "font_variant": null,
       "font_weight": null,
       "text_color": null,
       "text_decoration": null
      }
     },
     "4342a17795c84e20b1a857437cb2a826": {
      "model_module": "@jupyter-widgets/controls",
      "model_module_version": "2.0.0",
      "model_name": "DescriptionStyleModel",
      "state": {
       "description_width": ""
      }
     },
     "43793bd3c6ed4e33b7154383fea4095a": {
      "model_module": "@jupyter-widgets/base",
      "model_module_version": "2.0.0",
      "model_name": "LayoutModel",
      "state": {}
     },
     "439109dc5b6847ccb4298ad8beb0308d": {
      "model_module": "@jupyter-widgets/base",
      "model_module_version": "2.0.0",
      "model_name": "LayoutModel",
      "state": {}
     },
     "441c0e7605f941b99f06ae3979f3fe8b": {
      "model_module": "@jupyter-widgets/base",
      "model_module_version": "2.0.0",
      "model_name": "LayoutModel",
      "state": {}
     },
     "44264a4d88be4b2186895989eefc64e0": {
      "model_module": "@jupyter-widgets/controls",
      "model_module_version": "2.0.0",
      "model_name": "DropdownModel",
      "state": {
       "_options_labels": [
        "1",
        "2",
        "3",
        "4",
        "5",
        "6"
       ],
       "description": "charge:",
       "index": 2,
       "layout": "IPY_MODEL_5b22e4d0c68b4b77919d7a5f982a1d21",
       "style": "IPY_MODEL_6896f7eae704477baa6825b40ced60c8"
      }
     },
     "4429cba8f03f4d9a9c705b7909c68d41": {
      "model_module": "@jupyter-widgets/base",
      "model_module_version": "2.0.0",
      "model_name": "LayoutModel",
      "state": {}
     },
     "4434e2c89cbf4c2abd7ba6ef8da20978": {
      "model_module": "@jupyter-widgets/controls",
      "model_module_version": "2.0.0",
      "model_name": "FloatTextModel",
      "state": {
       "description": "unknown mass:",
       "layout": "IPY_MODEL_38a6c2065c17485ca960b880752e020b",
       "step": null,
       "style": "IPY_MODEL_4f6fee410e5b471b9564eb0fb099b4f9"
      }
     },
     "4444ba949303478e90ec86a3f7a94313": {
      "model_module": "@jupyter-widgets/base",
      "model_module_version": "2.0.0",
      "model_name": "LayoutModel",
      "state": {}
     },
     "44838c5f9fd442d8904aacb6cda77a00": {
      "model_module": "@jupyter-widgets/controls",
      "model_module_version": "2.0.0",
      "model_name": "DescriptionStyleModel",
      "state": {
       "description_width": ""
      }
     },
     "44b29c01f8374ffd9ac30a34dd8a0e24": {
      "model_module": "@jupyter-widgets/controls",
      "model_module_version": "2.0.0",
      "model_name": "ButtonModel",
      "state": {
       "description": "Run Interact",
       "layout": "IPY_MODEL_a8691217935c4aee9fb314b798b1e11f",
       "style": "IPY_MODEL_059c8e206ffb4104a3a8ce9d8544f9c1",
       "tooltip": null
      }
     },
     "4509ee3d8f914d91a5db1e6f2a368bcb": {
      "model_module": "@jupyter-widgets/base",
      "model_module_version": "2.0.0",
      "model_name": "LayoutModel",
      "state": {}
     },
     "454a153b9e074402bc112f66edfe00ef": {
      "model_module": "@jupyter-widgets/controls",
      "model_module_version": "2.0.0",
      "model_name": "ButtonStyleModel",
      "state": {
       "font_family": null,
       "font_size": null,
       "font_style": null,
       "font_variant": null,
       "font_weight": null,
       "text_color": null,
       "text_decoration": null
      }
     },
     "45d6d9b907c943be9e9da576315ca1b9": {
      "model_module": "@jupyter-widgets/controls",
      "model_module_version": "2.0.0",
      "model_name": "IntTextModel",
      "state": {
       "description": "prominence",
       "layout": "IPY_MODEL_a81ba0ed0a2c460bb1df6ff2220b26cf",
       "step": 1,
       "style": "IPY_MODEL_c4a6ffb79ac54a47beeaab06ea0950de",
       "value": 100
      }
     },
     "45e4df2df85944ffa884418251f77fad": {
      "model_module": "@jupyter-widgets/controls",
      "model_module_version": "2.0.0",
      "model_name": "ButtonStyleModel",
      "state": {
       "font_family": null,
       "font_size": null,
       "font_style": null,
       "font_variant": null,
       "font_weight": null,
       "text_color": null,
       "text_decoration": null
      }
     },
     "46bd91bd2e8d4c1c8ed6d0416f1966c3": {
      "model_module": "@jupyter-widgets/base",
      "model_module_version": "2.0.0",
      "model_name": "LayoutModel",
      "state": {}
     },
     "46befce5792f4a75b29c94c2931c4adb": {
      "model_module": "@jupyter-widgets/controls",
      "model_module_version": "2.0.0",
      "model_name": "ButtonStyleModel",
      "state": {
       "font_family": null,
       "font_size": null,
       "font_style": null,
       "font_variant": null,
       "font_weight": null,
       "text_color": null,
       "text_decoration": null
      }
     },
     "46c43f3d90604b98a436292a8187a281": {
      "model_module": "@jupyter-widgets/controls",
      "model_module_version": "2.0.0",
      "model_name": "VBoxModel",
      "state": {
       "children": [
        "IPY_MODEL_a10fdf387d784157b096ae4aaa8bb91d",
        "IPY_MODEL_ee9747adb96343a3b74c1a6d4780c5ac",
        "IPY_MODEL_90026a16ebbf4a5db71b69d9d6960c74",
        "IPY_MODEL_7b73a1e93f6047e29a9025b235833e74",
        "IPY_MODEL_430f29a58554493db3fa965ca4fa4b3b",
        "IPY_MODEL_334476b3b30a4e33a33583eb6c8ef886",
        "IPY_MODEL_b6c309daff0e40d4bdd8f0c388baec07"
       ],
       "layout": "IPY_MODEL_7b86298c0ec245739cfc9515da84b5e5"
      }
     },
     "46c743551f1f4e578daab7c961223239": {
      "model_module": "@jupyter-widgets/controls",
      "model_module_version": "2.0.0",
      "model_name": "ButtonModel",
      "state": {
       "description": "Start",
       "layout": "IPY_MODEL_3737ee18c59f478caf0b6df515e1144c",
       "style": "IPY_MODEL_88e4c2a5b6084c84997f6428b6a392dc",
       "tooltip": null
      }
     },
     "46e0d68ac3884f9892cb3998fe545e41": {
      "model_module": "@jupyter-widgets/controls",
      "model_module_version": "2.0.0",
      "model_name": "VBoxModel",
      "state": {
       "children": [
        "IPY_MODEL_3c126b7fc08b4044af238d8dcce4f46b"
       ],
       "layout": "IPY_MODEL_064424e034e74561ae19038a8d42289e"
      }
     },
     "474dea6156d14e4882c4b5e5dbf5da99": {
      "model_module": "@jupyter-widgets/base",
      "model_module_version": "2.0.0",
      "model_name": "LayoutModel",
      "state": {}
     },
     "47970053b23d4c14ac17af44c94a2498": {
      "model_module": "@jupyter-widgets/base",
      "model_module_version": "2.0.0",
      "model_name": "LayoutModel",
      "state": {}
     },
     "47a9b0657ac24096837cddc167f5cc05": {
      "model_module": "@jupyter-widgets/controls",
      "model_module_version": "2.0.0",
      "model_name": "DescriptionStyleModel",
      "state": {
       "description_width": ""
      }
     },
     "47c649297c874db59a61a6231c9da5e0": {
      "model_module": "@jupyter-widgets/base",
      "model_module_version": "2.0.0",
      "model_name": "LayoutModel",
      "state": {}
     },
     "47ee2f66713842e6b73f4465e991d212": {
      "model_module": "@jupyter-widgets/controls",
      "model_module_version": "2.0.0",
      "model_name": "IntTextModel",
      "state": {
       "description": "index row:",
       "layout": "IPY_MODEL_34616b0e326e441d9778e89a2cc7f839",
       "step": 1,
       "style": "IPY_MODEL_64bd0066b9124cb9970d47e12c61aae1"
      }
     },
     "480d90b0fedf43c590a1cf19645c9095": {
      "model_module": "@jupyter-widgets/base",
      "model_module_version": "2.0.0",
      "model_name": "LayoutModel",
      "state": {}
     },
     "4825c359c14b43e48d14649854bcb659": {
      "model_module": "@jupyter-widgets/controls",
      "model_module_version": "2.0.0",
      "model_name": "TabModel",
      "state": {
       "children": [
        "IPY_MODEL_d54ac3c4a0e641219540bc3f60e22a5f",
        "IPY_MODEL_00291d03d0d64a4eab6b2534b73e6d07"
       ],
       "layout": "IPY_MODEL_ea3b98636d7b46d2a21a636742025e5f",
       "selected_index": 0,
       "titles": [
        "peak finder",
        "rangging"
       ]
      }
     },
     "490382f4474d43a5aef37ff397561266": {
      "model_module": "@jupyter-widgets/base",
      "model_module_version": "2.0.0",
      "model_name": "LayoutModel",
      "state": {}
     },
     "4a1d3dcd06e74a5c830f1d69709eb6e3": {
      "model_module": "@jupyter-widgets/controls",
      "model_module_version": "2.0.0",
      "model_name": "ButtonModel",
      "state": {
       "description": "Reset",
       "layout": "IPY_MODEL_c1cadbfb353445dc843174645dcff304",
       "style": "IPY_MODEL_00e190b72f0e40699fd3420be202637e",
       "tooltip": null
      }
     },
     "4a85dba6e2524859ae2db1bb85704ef1": {
      "model_module": "@jupyter-widgets/controls",
      "model_module_version": "2.0.0",
      "model_name": "IntTextModel",
      "state": {
       "description": "distance",
       "layout": "IPY_MODEL_ba520168a1214bd58cd9ad864e7a8baf",
       "step": 1,
       "style": "IPY_MODEL_27ed90de0de446a393763b8cffa8054c",
       "value": 100
      }
     },
     "4a88f52e81284c5dbac3b7f6d7f54825": {
      "model_module": "@jupyter-widgets/base",
      "model_module_version": "2.0.0",
      "model_name": "LayoutModel",
      "state": {}
     },
     "4a8c05e880eb4cc98636a01625f0cfe8": {
      "model_module": "@jupyter-widgets/controls",
      "model_module_version": "2.0.0",
      "model_name": "DescriptionStyleModel",
      "state": {
       "description_width": ""
      }
     },
     "4abe7fe4d3c3455ba5fe4993cbd00b55": {
      "model_module": "@jupyter-widgets/base",
      "model_module_version": "2.0.0",
      "model_name": "LayoutModel",
      "state": {}
     },
     "4b167923fef34dd59f3c5c9353b0dddd": {
      "model_module": "@jupyter-widgets/base",
      "model_module_version": "2.0.0",
      "model_name": "LayoutModel",
      "state": {}
     },
     "4b262848640145e1a699b80cba87c895": {
      "model_module": "@jupyter-widgets/controls",
      "model_module_version": "2.0.0",
      "model_name": "ButtonModel",
      "state": {
       "description": "Start",
       "layout": "IPY_MODEL_37486623486748b69339c87112b2bfa5",
       "style": "IPY_MODEL_826382a90ead499a924a4fbd8d12447e",
       "tooltip": null
      }
     },
     "4b3e03c705d54c07a0fd083b5e453000": {
      "model_module": "@jupyter-widgets/base",
      "model_module_version": "2.0.0",
      "model_name": "LayoutModel",
      "state": {}
     },
     "4b5e1f92b66b4c32a058904465592f3c": {
      "model_module": "@jupyter-widgets/base",
      "model_module_version": "2.0.0",
      "model_name": "LayoutModel",
      "state": {}
     },
     "4b90d8443f644b40be60a659b5ca8161": {
      "model_module": "@jupyter-widgets/base",
      "model_module_version": "2.0.0",
      "model_name": "LayoutModel",
      "state": {}
     },
     "4bab52bb81cf405ea802df2d8f5261f6": {
      "model_module": "@jupyter-widgets/controls",
      "model_module_version": "2.0.0",
      "model_name": "CheckboxStyleModel",
      "state": {
       "description_width": ""
      }
     },
     "4baec28bf8784e948135d50a45b2e8dd": {
      "model_module": "@jupyter-widgets/controls",
      "model_module_version": "2.0.0",
      "model_name": "IntTextModel",
      "state": {
       "description": "distance",
       "layout": "IPY_MODEL_3791820cf13841bb85af4be077c10b1c",
       "step": 1,
       "style": "IPY_MODEL_1b7847b1253a43a6ba3c72482b315820",
       "value": 100
      }
     },
     "4bdd61a632a742eca968a15f8afeb1ec": {
      "model_module": "@jupyter-widgets/controls",
      "model_module_version": "2.0.0",
      "model_name": "VBoxModel",
      "state": {
       "children": [
        "IPY_MODEL_0980a2a93ceb4e46bc036161ff700f2c",
        "IPY_MODEL_687ea5cc49ca4bd8b22bb27073b2a3f2",
        "IPY_MODEL_ca052d9e54e94adcb6c407aa78e3c759",
        "IPY_MODEL_56298ce13552415a8301e7934bae3456",
        "IPY_MODEL_abc75fdfe4b44b799607948108a7dfbc",
        "IPY_MODEL_eda9c737d29d4964939b92123cb5e558",
        "IPY_MODEL_a11baedb1ce747e7990388188a211c53"
       ],
       "layout": "IPY_MODEL_6259e371fc9e4d48ad39739a01dc861c"
      }
     },
     "4c251b24b3ca46e795c9255b10c73a58": {
      "model_module": "@jupyter-widgets/controls",
      "model_module_version": "2.0.0",
      "model_name": "ButtonModel",
      "state": {
       "description": "change color",
       "layout": "IPY_MODEL_3af0100a16644ac6a807ea54b65219e9",
       "style": "IPY_MODEL_95be032ac6714bcfaa6154140864ce76",
       "tooltip": null
      }
     },
     "4c4c05de2bf64393a30489b92ef13f1c": {
      "model_module": "@jupyter-widgets/base",
      "model_module_version": "2.0.0",
      "model_name": "LayoutModel",
      "state": {}
     },
     "4c54fffb21c346cc8937267d735cb3a4": {
      "model_module": "@jupyter-widgets/base",
      "model_module_version": "2.0.0",
      "model_name": "LayoutModel",
      "state": {}
     },
     "4d49e000c0b341948cf4ff61d5a81fa2": {
      "model_module": "@jupyter-widgets/base",
      "model_module_version": "2.0.0",
      "model_name": "LayoutModel",
      "state": {}
     },
     "4d66e62de60b42e59dcbe70189defad3": {
      "model_module": "@jupyter-widgets/controls",
      "model_module_version": "2.0.0",
      "model_name": "ButtonModel",
      "state": {
       "description": "Reset",
       "layout": "IPY_MODEL_6d84852eeef647d28be6180998011d47",
       "style": "IPY_MODEL_b15ebe68febf42c496b3651dddbb8bb6",
       "tooltip": null
      }
     },
     "4d70149795a54a148a6e610ee678b02a": {
      "model_module": "@jupyter-widgets/output",
      "model_module_version": "1.0.0",
      "model_name": "OutputModel",
      "state": {
       "layout": "IPY_MODEL_30ebe58f763942af8331b82d355d98a5"
      }
     },
     "4d922db2c40b498788770787b6f10a4a": {
      "model_module": "@jupyter-widgets/controls",
      "model_module_version": "2.0.0",
      "model_name": "DescriptionStyleModel",
      "state": {
       "description_width": ""
      }
     },
     "4efca7c0409e4e189b33df95a33496cc": {
      "model_module": "@jupyter-widgets/controls",
      "model_module_version": "2.0.0",
      "model_name": "ButtonModel",
      "state": {
       "description": "plot hist",
       "layout": "IPY_MODEL_93cd13a4dc9848f8a762d42649e7904b",
       "style": "IPY_MODEL_c150f404ea334488bdee3c3140fd4d2f",
       "tooltip": null
      }
     },
     "4f2e1044eeee4b849e5a580aa7218de2": {
      "model_module": "@jupyter-widgets/controls",
      "model_module_version": "2.0.0",
      "model_name": "DescriptionStyleModel",
      "state": {
       "description_width": ""
      }
     },
     "4f6fee410e5b471b9564eb0fb099b4f9": {
      "model_module": "@jupyter-widgets/controls",
      "model_module_version": "2.0.0",
      "model_name": "DescriptionStyleModel",
      "state": {
       "description_width": ""
      }
     },
     "4f882fda55874975b107b3eb23252742": {
      "model_module": "@jupyter-widgets/controls",
      "model_module_version": "2.0.0",
      "model_name": "ButtonModel",
      "state": {
       "description": "Next",
       "layout": "IPY_MODEL_3ad0dd8a4d50447d84813e3d17ecb6cd",
       "style": "IPY_MODEL_76490bbc5dcf4165bcb2e4d0e8837f71",
       "tooltip": null
      }
     },
     "50514defe77a462b81c47ec0f4c3e918": {
      "model_module": "@jupyter-widgets/base",
      "model_module_version": "2.0.0",
      "model_name": "LayoutModel",
      "state": {}
     },
     "51154f845401456092f6f6b4dc207b18": {
      "model_module": "@jupyter-widgets/base",
      "model_module_version": "2.0.0",
      "model_name": "LayoutModel",
      "state": {}
     },
     "5154b841fd4c495ab1087617879f8824": {
      "model_module": "@jupyter-widgets/controls",
      "model_module_version": "2.0.0",
      "model_name": "ButtonStyleModel",
      "state": {
       "font_family": null,
       "font_size": null,
       "font_style": null,
       "font_variant": null,
       "font_weight": null,
       "text_color": null,
       "text_decoration": null
      }
     },
     "5178fef7344a41c897db99cd6767571a": {
      "model_module": "@jupyter-widgets/controls",
      "model_module_version": "2.0.0",
      "model_name": "ButtonStyleModel",
      "state": {
       "font_family": null,
       "font_size": null,
       "font_style": null,
       "font_variant": null,
       "font_weight": null,
       "text_color": null,
       "text_decoration": null
      }
     },
     "51c1066228094cc3b403523d596412dd": {
      "model_module": "@jupyter-widgets/base",
      "model_module_version": "2.0.0",
      "model_name": "LayoutModel",
      "state": {}
     },
     "52efcbeffcd94b5c86d25668ae93e5c7": {
      "model_module": "@jupyter-widgets/base",
      "model_module_version": "2.0.0",
      "model_name": "LayoutModel",
      "state": {}
     },
     "536cc5e960a24c2687a98717a1b3478c": {
      "model_module": "@jupyter-widgets/controls",
      "model_module_version": "2.0.0",
      "model_name": "VBoxModel",
      "state": {
       "_dom_classes": [
        "widget-interact"
       ],
       "children": [
        "IPY_MODEL_f0b07764666b48819f57beb1aca38325",
        "IPY_MODEL_7ce82db32ac5453193b6e7dfdf60ec87",
        "IPY_MODEL_0969f71deb9745c7b238f3ec88e355d2",
        "IPY_MODEL_677edbba47354f7eb88eda9b7fbbdb7c",
        "IPY_MODEL_ef72be2d5b644e519d5de2343fc00d7a",
        "IPY_MODEL_4baec28bf8784e948135d50a45b2e8dd",
        "IPY_MODEL_77aace8f94bd4eb99cbba7fc6a221811",
        "IPY_MODEL_58509a2f8f9146299c01253392df2ea7",
        "IPY_MODEL_63c7f35fed1c4d1195f9774ba67774e8",
        "IPY_MODEL_634e2c64956f4c38a8b3a2f4035cb055",
        "IPY_MODEL_91a318a47cfd4cd6a9b23a4b7774f1e0",
        "IPY_MODEL_286e83389641416dae9ec29ed2bfcf77",
        "IPY_MODEL_8c2132625c83452aac7f6776940a67d3",
        "IPY_MODEL_4d70149795a54a148a6e610ee678b02a"
       ],
       "layout": "IPY_MODEL_203d335e8214424791e80f836e05b5af"
      }
     },
     "540ba5fae3284306a56e7cee5a37aa1d": {
      "model_module": "@jupyter-widgets/base",
      "model_module_version": "2.0.0",
      "model_name": "LayoutModel",
      "state": {}
     },
     "54ef876fcba4437e8145801fa9035a97": {
      "model_module": "@jupyter-widgets/output",
      "model_module_version": "1.0.0",
      "model_name": "OutputModel",
      "state": {
       "layout": "IPY_MODEL_20c807523865410cb7a0e92cbd67e28a"
      }
     },
     "54f7772784254de59390e56ed85983ad": {
      "model_module": "@jupyter-widgets/controls",
      "model_module_version": "2.0.0",
      "model_name": "FloatTextModel",
      "state": {
       "description": "Detector diameter:",
       "layout": "IPY_MODEL_0b1142ce7e4144c5a55c261808521e28",
       "step": null,
       "style": "IPY_MODEL_4342a17795c84e20b1a857437cb2a826",
       "value": 80
      }
     },
     "55010d12405e406598d2ff51d48d5fe3": {
      "model_module": "@jupyter-widgets/controls",
      "model_module_version": "2.0.0",
      "model_name": "ButtonModel",
      "state": {
       "description": "Previous",
       "layout": "IPY_MODEL_a0f4e59e87b04782a2c0a8f642c3efa9",
       "style": "IPY_MODEL_f84fbbe45b4c47c4b7d89701f0f64b97",
       "tooltip": null
      }
     },
     "555ce233940e4e228992e15591a7c5cd": {
      "model_module": "@jupyter-widgets/controls",
      "model_module_version": "2.0.0",
      "model_name": "ButtonStyleModel",
      "state": {
       "font_family": null,
       "font_size": null,
       "font_style": null,
       "font_variant": null,
       "font_weight": null,
       "text_color": null,
       "text_decoration": null
      }
     },
     "55a6caafea134e3582693f78b1a1fcb3": {
      "model_module": "@jupyter-widgets/controls",
      "model_module_version": "2.0.0",
      "model_name": "VBoxModel",
      "state": {
       "children": [
        "IPY_MODEL_0980a2a93ceb4e46bc036161ff700f2c",
        "IPY_MODEL_687ea5cc49ca4bd8b22bb27073b2a3f2",
        "IPY_MODEL_ca052d9e54e94adcb6c407aa78e3c759",
        "IPY_MODEL_56298ce13552415a8301e7934bae3456",
        "IPY_MODEL_abc75fdfe4b44b799607948108a7dfbc",
        "IPY_MODEL_eda9c737d29d4964939b92123cb5e558",
        "IPY_MODEL_de1394684015458491ccd587bd5befff"
       ],
       "layout": "IPY_MODEL_04b7df59485f4f1eaf992052ee0d9e30"
      }
     },
     "55f1992e5aae436987c1b5939a3e8f92": {
      "model_module": "@jupyter-widgets/controls",
      "model_module_version": "2.0.0",
      "model_name": "HBoxModel",
      "state": {
       "children": [
        "IPY_MODEL_b60dbc32e1ec4dcfbaf6240b60a6b373",
        "IPY_MODEL_0b23f489b6f14f8cbb31f6253dc839a1"
       ],
       "layout": "IPY_MODEL_36fc03cc6f8647b9a626aa9500533113"
      }
     },
     "55f76267a3ac435c978336e319b98ba3": {
      "model_module": "@jupyter-widgets/output",
      "model_module_version": "1.0.0",
      "model_name": "OutputModel",
      "state": {
       "layout": "IPY_MODEL_9e43d6b69aab4deaa475b5a6374e4391"
      }
     },
     "56298ce13552415a8301e7934bae3456": {
      "model_module": "@jupyter-widgets/controls",
      "model_module_version": "2.0.0",
      "model_name": "IntTextModel",
      "state": {
       "description": "peak distance:",
       "layout": "IPY_MODEL_3e8080151ffb4ebb8f48db2e8ca78cc7",
       "step": 1,
       "style": "IPY_MODEL_68f4bddfaf0c4e58aec481156ec10b22",
       "value": 1
      }
     },
     "57430db1abab4d1cb46bb5a550d6433d": {
      "model_module": "@jupyter-widgets/controls",
      "model_module_version": "2.0.0",
      "model_name": "ButtonStyleModel",
      "state": {
       "font_family": null,
       "font_size": null,
       "font_style": null,
       "font_variant": null,
       "font_weight": null,
       "text_color": null,
       "text_decoration": null
      }
     },
     "58026a833fcb4a1e80955c68b36ab36e": {
      "model_module": "@jupyter-widgets/controls",
      "model_module_version": "2.0.0",
      "model_name": "TabModel",
      "state": {
       "children": [
        "IPY_MODEL_5973a03e05be4b7a960c0fdd53428315",
        "IPY_MODEL_f9fe4a7cafd14db595c01712df257cab"
       ],
       "layout": "IPY_MODEL_4b5e1f92b66b4c32a058904465592f3c",
       "selected_index": 0,
       "titles": [
        "peak finder",
        "rangging"
       ]
      }
     },
     "582bc545d56349dcb064afd3a7f4fa4c": {
      "model_module": "@jupyter-widgets/controls",
      "model_module_version": "2.0.0",
      "model_name": "HBoxModel",
      "state": {
       "children": [
        "IPY_MODEL_964ad88f81ae40d2acc3c48d409b1671",
        "IPY_MODEL_9dc720453d0c492b8ff3c28fa6066996"
       ],
       "layout": "IPY_MODEL_0c4ea0c29b414f6f96624058af505842"
      }
     },
     "58509a2f8f9146299c01253392df2ea7": {
      "model_module": "@jupyter-widgets/controls",
      "model_module_version": "2.0.0",
      "model_name": "TextModel",
      "state": {
       "description": "figname",
       "layout": "IPY_MODEL_e6f54a78bc784425b67ab61ff302e386",
       "style": "IPY_MODEL_f3530f66d6ee4b72883b992cbd4ff95c",
       "value": "hist"
      }
     },
     "585b56a5fa114890b02c7cf63803559d": {
      "model_module": "@jupyter-widgets/controls",
      "model_module_version": "2.0.0",
      "model_name": "HBoxModel",
      "state": {
       "children": [
        "IPY_MODEL_ca0079ada0b24c178293525f4fa365b9",
        "IPY_MODEL_3b2b77b00b02444886aec62de69c0c03"
       ],
       "layout": "IPY_MODEL_e7d76c6ed55a48e4bc99d6d0cbbc4306"
      }
     },
     "586b1595a49a40988f03cf31096628c5": {
      "model_module": "@jupyter-widgets/base",
      "model_module_version": "2.0.0",
      "model_name": "LayoutModel",
      "state": {}
     },
     "58c92b6d86d646068cf3ecc7021d98d1": {
      "model_module": "@jupyter-widgets/controls",
      "model_module_version": "2.0.0",
      "model_name": "ButtonModel",
      "state": {
       "description": "find element",
       "layout": "IPY_MODEL_b234e0c20f6f4ee8b9fa6fc2d2c3524f",
       "style": "IPY_MODEL_c3d75155d3944f7682a8e5dc275900b2",
       "tooltip": null
      }
     },
     "58d8d7de74774907b610e21609bee5d9": {
      "model_module": "@jupyter-widgets/output",
      "model_module_version": "1.0.0",
      "model_name": "OutputModel",
      "state": {
       "layout": "IPY_MODEL_a8a8eb006df6498db4292408ba24d1eb"
      }
     },
     "59482e9eb2604106ad1821887273f019": {
      "model_module": "@jupyter-widgets/base",
      "model_module_version": "2.0.0",
      "model_name": "LayoutModel",
      "state": {}
     },
     "595f88abceff4936b088f960fae64742": {
      "model_module": "@jupyter-widgets/base",
      "model_module_version": "2.0.0",
      "model_name": "LayoutModel",
      "state": {}
     },
     "59718802240844b4a7ba50b9c0287b93": {
      "model_module": "@jupyter-widgets/controls",
      "model_module_version": "2.0.0",
      "model_name": "TextStyleModel",
      "state": {
       "description_width": "",
       "font_size": null,
       "text_color": null
      }
     },
     "5973a03e05be4b7a960c0fdd53428315": {
      "model_module": "@jupyter-widgets/controls",
      "model_module_version": "2.0.0",
      "model_name": "VBoxModel",
      "state": {
       "children": [
        "IPY_MODEL_0980a2a93ceb4e46bc036161ff700f2c",
        "IPY_MODEL_687ea5cc49ca4bd8b22bb27073b2a3f2",
        "IPY_MODEL_ca052d9e54e94adcb6c407aa78e3c759",
        "IPY_MODEL_56298ce13552415a8301e7934bae3456",
        "IPY_MODEL_abc75fdfe4b44b799607948108a7dfbc",
        "IPY_MODEL_eda9c737d29d4964939b92123cb5e558",
        "IPY_MODEL_b58b6dff853b4cbc9d4ecd44e023a6e0",
        "IPY_MODEL_f54d926e6cd2428eb3612b6cd4e6b982"
       ],
       "layout": "IPY_MODEL_dbf83cdcfc64413e9e856f757fd18fa2"
      }
     },
     "59c2feb339ee40e4b49068832136ef2d": {
      "model_module": "@jupyter-widgets/controls",
      "model_module_version": "2.0.0",
      "model_name": "ButtonModel",
      "state": {
       "description": "Start",
       "layout": "IPY_MODEL_c0d43a225bf74fabad5420037d60404d",
       "style": "IPY_MODEL_2eba7143fce041ec9900454016ec00be",
       "tooltip": null
      }
     },
     "59d5106ddfb34105b18cd58069d8be6c": {
      "model_module": "@jupyter-widgets/base",
      "model_module_version": "2.0.0",
      "model_name": "LayoutModel",
      "state": {}
     },
     "5ac87772354b431eb074bc7e93ed78e3": {
      "model_module": "@jupyter-widgets/controls",
      "model_module_version": "2.0.0",
      "model_name": "ButtonModel",
      "state": {
       "description": "add ion",
       "layout": "IPY_MODEL_a2a3d2f8b364464e89e0105b6e1141a6",
       "style": "IPY_MODEL_127033ae395040c595b592402dd72189",
       "tooltip": null
      }
     },
     "5b22e4d0c68b4b77919d7a5f982a1d21": {
      "model_module": "@jupyter-widgets/base",
      "model_module_version": "2.0.0",
      "model_name": "LayoutModel",
      "state": {}
     },
     "5b8e16cd18754de2a82f51fe3678e035": {
      "model_module": "@jupyter-widgets/controls",
      "model_module_version": "2.0.0",
      "model_name": "ButtonStyleModel",
      "state": {
       "font_family": null,
       "font_size": null,
       "font_style": null,
       "font_variant": null,
       "font_weight": null,
       "text_color": null,
       "text_decoration": null
      }
     },
     "5d710bab85f5433eb094603adac25acb": {
      "model_module": "@jupyter-widgets/controls",
      "model_module_version": "2.0.0",
      "model_name": "ButtonModel",
      "state": {
       "description": "Next",
       "layout": "IPY_MODEL_b472490ebfa94b6b8d8c33ca70d3ce91",
       "style": "IPY_MODEL_454a153b9e074402bc112f66edfe00ef",
       "tooltip": null
      }
     },
     "5e89277aebc246569b95717c358ac36d": {
      "model_module": "@jupyter-widgets/controls",
      "model_module_version": "2.0.0",
      "model_name": "ButtonStyleModel",
      "state": {
       "font_family": null,
       "font_size": null,
       "font_style": null,
       "font_variant": null,
       "font_weight": null,
       "text_color": null,
       "text_decoration": null
      }
     },
     "5f2f7ca773ef41ed84e16326b585dc1c": {
      "model_module": "@jupyter-widgets/controls",
      "model_module_version": "2.0.0",
      "model_name": "VBoxModel",
      "state": {
       "children": [
        "IPY_MODEL_585b56a5fa114890b02c7cf63803559d",
        "IPY_MODEL_b2bde0d149d04569b2f9891ce20b2bc0"
       ],
       "layout": "IPY_MODEL_4abe7fe4d3c3455ba5fe4993cbd00b55"
      }
     },
     "601a1c2e2e1f4ac5899c773b2b1db7fd": {
      "model_module": "@jupyter-widgets/base",
      "model_module_version": "2.0.0",
      "model_name": "LayoutModel",
      "state": {}
     },
     "603efca17a07499a90a85e83e146b642": {
      "model_module": "@jupyter-widgets/controls",
      "model_module_version": "2.0.0",
      "model_name": "DescriptionStyleModel",
      "state": {
       "description_width": ""
      }
     },
     "608c579ff9c7436ab9a0922d0bffb24b": {
      "model_module": "@jupyter-widgets/controls",
      "model_module_version": "2.0.0",
      "model_name": "CheckboxStyleModel",
      "state": {
       "description_width": ""
      }
     },
     "60c053fbd58e4155a93fc66628038444": {
      "model_module": "@jupyter-widgets/controls",
      "model_module_version": "2.0.0",
      "model_name": "FloatTextModel",
      "state": {
       "description": "unknown mass:",
       "layout": "IPY_MODEL_17216ec1921a4c9582acf036289b8f3f",
       "step": null,
       "style": "IPY_MODEL_ae58b5efa4f14718b970f8a7dc8b4c77"
      }
     },
     "60f8459b8a25457192c46229a967ace8": {
      "model_module": "@jupyter-widgets/base",
      "model_module_version": "2.0.0",
      "model_name": "LayoutModel",
      "state": {}
     },
     "616d48b5fced4d1fbc58180bf53ac7da": {
      "model_module": "@jupyter-widgets/base",
      "model_module_version": "2.0.0",
      "model_name": "LayoutModel",
      "state": {}
     },
     "61eacbc05f81491da774c477687ea728": {
      "model_module": "@jupyter-widgets/base",
      "model_module_version": "2.0.0",
      "model_name": "LayoutModel",
      "state": {}
     },
     "61fbb017816340cca7dc76e234f933d8": {
      "model_module": "@jupyter-widgets/base",
      "model_module_version": "2.0.0",
      "model_name": "LayoutModel",
      "state": {}
     },
     "624ed56ea052450b9a91975fb000fb13": {
      "model_module": "@jupyter-widgets/base",
      "model_module_version": "2.0.0",
      "model_name": "LayoutModel",
      "state": {}
     },
     "6259e371fc9e4d48ad39739a01dc861c": {
      "model_module": "@jupyter-widgets/base",
      "model_module_version": "2.0.0",
      "model_name": "LayoutModel",
      "state": {}
     },
     "6296d249192042f6a3ebe15facf2265f": {
      "model_module": "@jupyter-widgets/controls",
      "model_module_version": "2.0.0",
      "model_name": "DropdownModel",
      "state": {
       "_options_labels": [
        "True",
        "Flase"
       ],
       "description": "log",
       "index": 0,
       "layout": "IPY_MODEL_f883cbd28ca649689db7464b3904ad0c",
       "style": "IPY_MODEL_93565a688ec044edbee3de08dbad56dc"
      }
     },
     "6298741d040e4f378205d218514cacfb": {
      "model_module": "@jupyter-widgets/controls",
      "model_module_version": "2.0.0",
      "model_name": "DescriptionStyleModel",
      "state": {
       "description_width": ""
      }
     },
     "631b4ad6ea1c438f98ffd47ee26df88a": {
      "model_module": "@jupyter-widgets/controls",
      "model_module_version": "2.0.0",
      "model_name": "CheckboxModel",
      "state": {
       "description": "ranging_mode",
       "disabled": false,
       "layout": "IPY_MODEL_2791d697a6ca4bfdb8df7110f4f053a7",
       "style": "IPY_MODEL_1f2b4f03a8464cba9545a65b5af153a6",
       "value": false
      }
     },
     "634e2c64956f4c38a8b3a2f4035cb055": {
      "model_module": "@jupyter-widgets/controls",
      "model_module_version": "2.0.0",
      "model_name": "DropdownModel",
      "state": {
       "_options_labels": [
        "True",
        "Flase"
       ],
       "description": "peaks_find_plot",
       "index": 0,
       "layout": "IPY_MODEL_080594882b8c4a21b83215a9faf40599",
       "style": "IPY_MODEL_b66eb504687244998ef0b917c673ded9"
      }
     },
     "6350a1752ced4519b3c50576d768e423": {
      "model_module": "@jupyter-widgets/base",
      "model_module_version": "2.0.0",
      "model_name": "LayoutModel",
      "state": {}
     },
     "63c7f35fed1c4d1195f9774ba67774e8": {
      "model_module": "@jupyter-widgets/controls",
      "model_module_version": "2.0.0",
      "model_name": "IntTextModel",
      "state": {
       "description": "lim",
       "layout": "IPY_MODEL_01a3629982664671b3261e034aceb08c",
       "step": 1,
       "style": "IPY_MODEL_4f2e1044eeee4b849e5a580aa7218de2"
      }
     },
     "6420893781d74747afe8cbdd542ac5f8": {
      "model_module": "@jupyter-widgets/base",
      "model_module_version": "2.0.0",
      "model_name": "LayoutModel",
      "state": {}
     },
     "64bd0066b9124cb9970d47e12c61aae1": {
      "model_module": "@jupyter-widgets/controls",
      "model_module_version": "2.0.0",
      "model_name": "DescriptionStyleModel",
      "state": {
       "description_width": ""
      }
     },
     "6589727b1ebd4e0eabcbadd318eef168": {
      "model_module": "@jupyter-widgets/controls",
      "model_module_version": "2.0.0",
      "model_name": "DescriptionStyleModel",
      "state": {
       "description_width": ""
      }
     },
     "66986769313247cf9c7ebbbd32742a43": {
      "model_module": "@jupyter-widgets/base",
      "model_module_version": "2.0.0",
      "model_name": "LayoutModel",
      "state": {}
     },
     "66a9ae876ac849cda94dd7561611d99b": {
      "model_module": "@jupyter-widgets/controls",
      "model_module_version": "2.0.0",
      "model_name": "ButtonStyleModel",
      "state": {
       "font_family": null,
       "font_size": null,
       "font_style": null,
       "font_variant": null,
       "font_weight": null,
       "text_color": null,
       "text_decoration": null
      }
     },
     "66fb96397f4c40549110deb880d3c77c": {
      "model_module": "@jupyter-widgets/base",
      "model_module_version": "2.0.0",
      "model_name": "LayoutModel",
      "state": {}
     },
     "677edbba47354f7eb88eda9b7fbbdb7c": {
      "model_module": "@jupyter-widgets/controls",
      "model_module_version": "2.0.0",
      "model_name": "DropdownModel",
      "state": {
       "_options_labels": [
        "normal",
        "normalized"
       ],
       "description": "mode",
       "index": 0,
       "layout": "IPY_MODEL_51c1066228094cc3b403523d596412dd",
       "style": "IPY_MODEL_1420f594e4924600bb34daac0e4fb209"
      }
     },
     "67d895f9285542f0a288668ea5f75b63": {
      "model_module": "@jupyter-widgets/base",
      "model_module_version": "2.0.0",
      "model_name": "LayoutModel",
      "state": {}
     },
     "6811f67afdba48fe82f636dddc542f44": {
      "model_module": "@jupyter-widgets/controls",
      "model_module_version": "2.0.0",
      "model_name": "DropdownModel",
      "state": {
       "_options_labels": [
        "True",
        "Flase"
       ],
       "description": "peaks_find_plot",
       "index": 0,
       "layout": "IPY_MODEL_e4d922267dba434987cafc1197b35a87",
       "style": "IPY_MODEL_81d08b5c4ac4408499007a1b33e18f5b"
      }
     },
     "68661666ea7b4964aa10fd05075e92f1": {
      "model_module": "@jupyter-widgets/base",
      "model_module_version": "2.0.0",
      "model_name": "LayoutModel",
      "state": {}
     },
     "687ea5cc49ca4bd8b22bb27073b2a3f2": {
      "model_module": "@jupyter-widgets/controls",
      "model_module_version": "2.0.0",
      "model_name": "IntTextModel",
      "state": {
       "description": "fig index:",
       "layout": "IPY_MODEL_474dea6156d14e4882c4b5e5dbf5da99",
       "step": 1,
       "style": "IPY_MODEL_327b9cf867f2460c954f613731ca409a",
       "value": 1
      }
     },
     "6896f7eae704477baa6825b40ced60c8": {
      "model_module": "@jupyter-widgets/controls",
      "model_module_version": "2.0.0",
      "model_name": "DescriptionStyleModel",
      "state": {
       "description_width": ""
      }
     },
     "68bc652df9604893a3151a8f07709060": {
      "model_module": "@jupyter-widgets/base",
      "model_module_version": "2.0.0",
      "model_name": "LayoutModel",
      "state": {}
     },
     "68f4bddfaf0c4e58aec481156ec10b22": {
      "model_module": "@jupyter-widgets/controls",
      "model_module_version": "2.0.0",
      "model_name": "DescriptionStyleModel",
      "state": {
       "description_width": ""
      }
     },
     "69e12deadd634bb5a9c746851a1543b1": {
      "model_module": "@jupyter-widgets/controls",
      "model_module_version": "2.0.0",
      "model_name": "HBoxModel",
      "state": {
       "children": [
        "IPY_MODEL_58d8d7de74774907b610e21609bee5d9",
        "IPY_MODEL_fb0995b8e2db42da8b713923b0a55187"
       ],
       "layout": "IPY_MODEL_71a47b9ff64e41cead412e4496c06e22"
      }
     },
     "69e9db814933446f8b540c655287e94a": {
      "model_module": "@jupyter-widgets/base",
      "model_module_version": "2.0.0",
      "model_name": "LayoutModel",
      "state": {}
     },
     "6a0b42e224734ee6bf662d6db78d7258": {
      "model_module": "@jupyter-widgets/controls",
      "model_module_version": "2.0.0",
      "model_name": "DescriptionStyleModel",
      "state": {
       "description_width": ""
      }
     },
     "6a4cbbc0f2b846f590f7b906a665125d": {
      "model_module": "@jupyter-widgets/base",
      "model_module_version": "2.0.0",
      "model_name": "LayoutModel",
      "state": {}
     },
     "6a4e319e0d9a40d08b21c14d66df15f3": {
      "model_module": "@jupyter-widgets/controls",
      "model_module_version": "2.0.0",
      "model_name": "ButtonModel",
      "state": {
       "description": "plot hist",
       "layout": "IPY_MODEL_75c3f446ce69490ba5905c887f3691f5",
       "style": "IPY_MODEL_28680ecd0e514b0ba05b3b82459424a4",
       "tooltip": null
      }
     },
     "6a92dabdd4b84d6f812614ecbedb7a18": {
      "model_module": "@jupyter-widgets/controls",
      "model_module_version": "2.0.0",
      "model_name": "VBoxModel",
      "state": {
       "children": [
        "IPY_MODEL_69e12deadd634bb5a9c746851a1543b1",
        "IPY_MODEL_c626e302ee5a4039bab929ec16b89f7f"
       ],
       "layout": "IPY_MODEL_61fbb017816340cca7dc76e234f933d8"
      }
     },
     "6aec4ebe889a41caacca44b806e859e0": {
      "model_module": "@jupyter-widgets/base",
      "model_module_version": "2.0.0",
      "model_name": "LayoutModel",
      "state": {}
     },
     "6af794d342034dbaac4e2bd9fac79250": {
      "model_module": "@jupyter-widgets/controls",
      "model_module_version": "2.0.0",
      "model_name": "VBoxModel",
      "state": {
       "children": [
        "IPY_MODEL_3f1bb3f728a24550a914b63a19fe0c06",
        "IPY_MODEL_d63287338c544442b8eed6731a5fcb7f",
        "IPY_MODEL_de12f519b6eb43d794a986752e58ed22",
        "IPY_MODEL_345091002033468da89102af295c5573",
        "IPY_MODEL_c4539b31629c4626bd81ddde38a03f2a"
       ],
       "layout": "IPY_MODEL_92466cea90b44da2bf114c8f679bcb31"
      }
     },
     "6b0372da7f0f416cbd758db6f6777c8f": {
      "model_module": "@jupyter-widgets/base",
      "model_module_version": "2.0.0",
      "model_name": "LayoutModel",
      "state": {}
     },
     "6b36ff83ed8b4786b585503dbc769ea8": {
      "model_module": "@jupyter-widgets/base",
      "model_module_version": "2.0.0",
      "model_name": "LayoutModel",
      "state": {}
     },
     "6b3750f3bf764091ad8b4d227d29ab43": {
      "model_module": "@jupyter-widgets/controls",
      "model_module_version": "2.0.0",
      "model_name": "ButtonStyleModel",
      "state": {
       "font_family": null,
       "font_size": null,
       "font_style": null,
       "font_variant": null,
       "font_weight": null,
       "text_color": null,
       "text_decoration": null
      }
     },
     "6b5e7094d47a41f4889c383d1dc98987": {
      "model_module": "@jupyter-widgets/base",
      "model_module_version": "2.0.0",
      "model_name": "LayoutModel",
      "state": {}
     },
     "6b6918d5658b48cd879637b933c702ed": {
      "model_module": "@jupyter-widgets/controls",
      "model_module_version": "2.0.0",
      "model_name": "FloatTextModel",
      "state": {
       "description": "t0:",
       "layout": "IPY_MODEL_86c7e2355cc44c929108d3774a642fd9",
       "step": null,
       "style": "IPY_MODEL_44838c5f9fd442d8904aacb6cda77a00",
       "value": 38
      }
     },
     "6c22f742c8614dce9e7c3c0916249863": {
      "model_module": "@jupyter-widgets/controls",
      "model_module_version": "2.0.0",
      "model_name": "DescriptionStyleModel",
      "state": {
       "description_width": ""
      }
     },
     "6c498fecb195447a8dc595a97aa7eb91": {
      "model_module": "@jupyter-widgets/controls",
      "model_module_version": "2.0.0",
      "model_name": "DescriptionStyleModel",
      "state": {
       "description_width": ""
      }
     },
     "6c7622172d614e599d15d8a77f48b3c3": {
      "model_module": "@jupyter-widgets/controls",
      "model_module_version": "2.0.0",
      "model_name": "TextModel",
      "state": {
       "description": "Elements:",
       "layout": "IPY_MODEL_ec7ec6327307429aa58f8c008f9b320a",
       "placeholder": "H, O",
       "style": "IPY_MODEL_f4032e1d771148c784dff44fd30f35e3",
       "value": "H, O, Al"
      }
     },
     "6c96b122680b419ba843e72955229797": {
      "model_module": "@jupyter-widgets/controls",
      "model_module_version": "2.0.0",
      "model_name": "ButtonStyleModel",
      "state": {
       "font_family": null,
       "font_size": null,
       "font_style": null,
       "font_variant": null,
       "font_weight": null,
       "text_color": null,
       "text_decoration": null
      }
     },
     "6d84852eeef647d28be6180998011d47": {
      "model_module": "@jupyter-widgets/base",
      "model_module_version": "2.0.0",
      "model_name": "LayoutModel",
      "state": {}
     },
     "6defbfcbd42741929ed5db1c08258f24": {
      "model_module": "@jupyter-widgets/controls",
      "model_module_version": "2.0.0",
      "model_name": "IntTextModel",
      "state": {
       "description": "index row:",
       "layout": "IPY_MODEL_df38c29dd2f24bd09eecef4cd2d8c977",
       "step": 1,
       "style": "IPY_MODEL_997dd471dd6b465bb162f5bbfc93dfc7"
      }
     },
     "6e3ba3e41c7c4d19bef28f66b15dd0a4": {
      "model_module": "@jupyter-widgets/base",
      "model_module_version": "2.0.0",
      "model_name": "LayoutModel",
      "state": {}
     },
     "6ed1c0670e534afdaa2502c440504d21": {
      "model_module": "@jupyter-widgets/controls",
      "model_module_version": "2.0.0",
      "model_name": "ButtonStyleModel",
      "state": {
       "font_family": null,
       "font_size": null,
       "font_style": null,
       "font_variant": null,
       "font_weight": null,
       "text_color": null,
       "text_decoration": null
      }
     },
     "6eef3962dea34956ab1daf722237ce16": {
      "model_module": "@jupyter-widgets/base",
      "model_module_version": "2.0.0",
      "model_name": "LayoutModel",
      "state": {}
     },
     "70192b0c0a36440d9e1f4e0480b4b75c": {
      "model_module": "@jupyter-widgets/controls",
      "model_module_version": "2.0.0",
      "model_name": "ButtonStyleModel",
      "state": {
       "font_family": null,
       "font_size": null,
       "font_style": null,
       "font_variant": null,
       "font_weight": null,
       "text_color": null,
       "text_decoration": null
      }
     },
     "7023b2b1803245bf94427153d709a3dc": {
      "model_module": "@jupyter-widgets/controls",
      "model_module_version": "2.0.0",
      "model_name": "VBoxModel",
      "state": {
       "children": [
        "IPY_MODEL_1afd7c22f3464e7685c1b81965b8f19c",
        "IPY_MODEL_f33103866c0549d5800f3507b1491f2b",
        "IPY_MODEL_3ccdbac0772b41da903becf8342e1c9e",
        "IPY_MODEL_31ff9157f96e4e88975f36e11e787608",
        "IPY_MODEL_b051e5dc0ed0438b91104712d468129d",
        "IPY_MODEL_cf0cb69190c34fe98718d8b0db4380fd",
        "IPY_MODEL_1106a347c3584e5da2a5fc520917a387"
       ],
       "layout": "IPY_MODEL_16573d81b10c48da90e3684649a38620"
      }
     },
     "70b80cf79365405e878618e1bc5fbf96": {
      "model_module": "@jupyter-widgets/base",
      "model_module_version": "2.0.0",
      "model_name": "LayoutModel",
      "state": {}
     },
     "7127640ddb6e4b20910cdffd1b1ae76f": {
      "model_module": "@jupyter-widgets/base",
      "model_module_version": "2.0.0",
      "model_name": "LayoutModel",
      "state": {}
     },
     "7167d975296a4d08b08ea7b03d03fbc7": {
      "model_module": "@jupyter-widgets/controls",
      "model_module_version": "2.0.0",
      "model_name": "HBoxModel",
      "state": {
       "children": [
        "IPY_MODEL_8f877861b73d4d3f89758293d6452ca6"
       ],
       "layout": "IPY_MODEL_8611f91dffd243efa1ff34622485d965"
      }
     },
     "71a47b9ff64e41cead412e4496c06e22": {
      "model_module": "@jupyter-widgets/base",
      "model_module_version": "2.0.0",
      "model_name": "LayoutModel",
      "state": {}
     },
     "71df556d24e14af189d58f51d05b26e1": {
      "model_module": "@jupyter-widgets/base",
      "model_module_version": "2.0.0",
      "model_name": "LayoutModel",
      "state": {}
     },
     "71f8937ce39e45b1a2d9301b012d185d": {
      "model_module": "@jupyter-widgets/base",
      "model_module_version": "2.0.0",
      "model_name": "LayoutModel",
      "state": {}
     },
     "7329736bdf324046956b9bae93c1ba7f": {
      "model_module": "@jupyter-widgets/base",
      "model_module_version": "2.0.0",
      "model_name": "LayoutModel",
      "state": {}
     },
     "74b428e87e7741c7bf632403c65d4da0": {
      "model_module": "@jupyter-widgets/controls",
      "model_module_version": "2.0.0",
      "model_name": "VBoxModel",
      "state": {
       "children": [
        "IPY_MODEL_d11f6de5b36f4b9395beaa7c1d1171bc",
        "IPY_MODEL_1aa0374d23744577809b3ed5ea0fe0ae",
        "IPY_MODEL_7828c9ef05eb4cf09b7600a4052de1da",
        "IPY_MODEL_55010d12405e406598d2ff51d48d5fe3",
        "IPY_MODEL_7c90cc9cb8f840f8b1718595d5cb580d"
       ],
       "layout": "IPY_MODEL_7cf5207e0f61443cb82e7d2a0a75b506"
      }
     },
     "75c3f446ce69490ba5905c887f3691f5": {
      "model_module": "@jupyter-widgets/base",
      "model_module_version": "2.0.0",
      "model_name": "LayoutModel",
      "state": {}
     },
     "75c72c3fb6d94c05819dda685e5013a5": {
      "model_module": "@jupyter-widgets/base",
      "model_module_version": "2.0.0",
      "model_name": "LayoutModel",
      "state": {}
     },
     "75c7d31de762458b88ffb507373aa707": {
      "model_module": "@jupyter-widgets/controls",
      "model_module_version": "2.0.0",
      "model_name": "ButtonStyleModel",
      "state": {
       "font_family": null,
       "font_size": null,
       "font_style": null,
       "font_variant": null,
       "font_weight": null,
       "text_color": null,
       "text_decoration": null
      }
     },
     "76490bbc5dcf4165bcb2e4d0e8837f71": {
      "model_module": "@jupyter-widgets/controls",
      "model_module_version": "2.0.0",
      "model_name": "ButtonStyleModel",
      "state": {
       "font_family": null,
       "font_size": null,
       "font_style": null,
       "font_variant": null,
       "font_weight": null,
       "text_color": null,
       "text_decoration": null
      }
     },
     "76699162916d4fad97a28bfcefaf997a": {
      "model_module": "@jupyter-widgets/controls",
      "model_module_version": "2.0.0",
      "model_name": "VBoxModel",
      "state": {
       "children": [
        "IPY_MODEL_b72f6bd22e884b94a9e9cb6fca8732e0",
        "IPY_MODEL_4b262848640145e1a699b80cba87c895",
        "IPY_MODEL_5d710bab85f5433eb094603adac25acb",
        "IPY_MODEL_37d26b9be0f247599c5d0d382733be4d",
        "IPY_MODEL_4d66e62de60b42e59dcbe70189defad3"
       ],
       "layout": "IPY_MODEL_853ed496ede84506a24fedda263b80f3"
      }
     },
     "772a48d819f44eed903ca6d642afe852": {
      "model_module": "@jupyter-widgets/base",
      "model_module_version": "2.0.0",
      "model_name": "LayoutModel",
      "state": {}
     },
     "773b140b3af246c88b61a50f8fc9f358": {
      "model_module": "@jupyter-widgets/controls",
      "model_module_version": "2.0.0",
      "model_name": "TextStyleModel",
      "state": {
       "description_width": "",
       "font_size": null,
       "text_color": null
      }
     },
     "77aace8f94bd4eb99cbba7fc6a221811": {
      "model_module": "@jupyter-widgets/controls",
      "model_module_version": "2.0.0",
      "model_name": "IntTextModel",
      "state": {
       "description": "percent",
       "layout": "IPY_MODEL_1d9eb64a637e41c6ab961a4f3ab21e5a",
       "step": 1,
       "style": "IPY_MODEL_d9dda0a37ea94d64bd9bddf7b07661f4",
       "value": 50
      }
     },
     "7828c9ef05eb4cf09b7600a4052de1da": {
      "model_module": "@jupyter-widgets/controls",
      "model_module_version": "2.0.0",
      "model_name": "ButtonModel",
      "state": {
       "description": "Next",
       "layout": "IPY_MODEL_7fd46e671d6248e0994e787958fa36bb",
       "style": "IPY_MODEL_04f098ce4670407ca920bfe9b161c469",
       "tooltip": null
      }
     },
     "784ab61cb9584878aea00732a7387045": {
      "model_module": "@jupyter-widgets/controls",
      "model_module_version": "2.0.0",
      "model_name": "VBoxModel",
      "state": {
       "children": [
        "IPY_MODEL_209c2d068df04371961fcec05ed72f20",
        "IPY_MODEL_38146af3caf640c6971ec1c3112c41a3",
        "IPY_MODEL_b675772f20ac457191ef25f3443247bc",
        "IPY_MODEL_31bc9b59d1264da290ef2050f7e64e9f",
        "IPY_MODEL_b10409e9b9204c988addb931a90452cd",
        "IPY_MODEL_ee4ff91796c243e2975e69c068f342ed",
        "IPY_MODEL_a1d51e9815e043fabf37b678a286819f"
       ],
       "layout": "IPY_MODEL_f9c159472e434c6cb23f8eae29cef050"
      }
     },
     "787dcca057ef42d89bddffaa8307722d": {
      "model_module": "@jupyter-widgets/controls",
      "model_module_version": "2.0.0",
      "model_name": "ButtonStyleModel",
      "state": {
       "font_family": null,
       "font_size": null,
       "font_style": null,
       "font_variant": null,
       "font_weight": null,
       "text_color": null,
       "text_decoration": null
      }
     },
     "79232cfd0a724fa7b29f2e684829f6c0": {
      "model_module": "@jupyter-widgets/controls",
      "model_module_version": "2.0.0",
      "model_name": "ButtonStyleModel",
      "state": {
       "font_family": null,
       "font_size": null,
       "font_style": null,
       "font_variant": null,
       "font_weight": null,
       "text_color": null,
       "text_decoration": null
      }
     },
     "7950705c1ded4964a736b08f05d37180": {
      "model_module": "@jupyter-widgets/base",
      "model_module_version": "2.0.0",
      "model_name": "LayoutModel",
      "state": {}
     },
     "79c2500359ca46bcbe65a264ceb4dc1a": {
      "model_module": "@jupyter-widgets/controls",
      "model_module_version": "2.0.0",
      "model_name": "VBoxModel",
      "state": {
       "children": [
        "IPY_MODEL_09ef16dad5264c43976147cf8aec9796",
        "IPY_MODEL_44264a4d88be4b2186895989eefc64e0",
        "IPY_MODEL_3c5257c618954356a7eb078c568b7d50"
       ],
       "layout": "IPY_MODEL_59482e9eb2604106ad1821887273f019"
      }
     },
     "7a5a7f014add48cfa467d4e0f218272e": {
      "model_module": "@jupyter-widgets/controls",
      "model_module_version": "2.0.0",
      "model_name": "HBoxModel",
      "state": {
       "children": [
        "IPY_MODEL_6a4e319e0d9a40d08b21c14d66df15f3",
        "IPY_MODEL_a5218cf4ed464ccf91a4b1b2d370f429"
       ],
       "layout": "IPY_MODEL_4509ee3d8f914d91a5db1e6f2a368bcb"
      }
     },
     "7ad2a536f5e146518d09304a2b754fb5": {
      "model_module": "@jupyter-widgets/base",
      "model_module_version": "2.0.0",
      "model_name": "LayoutModel",
      "state": {}
     },
     "7b455cf7d4f9426fb7b3e00cbfa80a14": {
      "model_module": "@jupyter-widgets/base",
      "model_module_version": "2.0.0",
      "model_name": "LayoutModel",
      "state": {}
     },
     "7b73a1e93f6047e29a9025b235833e74": {
      "model_module": "@jupyter-widgets/controls",
      "model_module_version": "2.0.0",
      "model_name": "ButtonModel",
      "state": {
       "description": "add ion",
       "layout": "IPY_MODEL_f40d2d35656a414e8962b14716fca2db",
       "style": "IPY_MODEL_e327b6d3819543b6b4bbc87c42139353",
       "tooltip": null
      }
     },
     "7b86298c0ec245739cfc9515da84b5e5": {
      "model_module": "@jupyter-widgets/base",
      "model_module_version": "2.0.0",
      "model_name": "LayoutModel",
      "state": {}
     },
     "7bd65bfe511d44fbb4a6d5843dd4b1fb": {
      "model_module": "@jupyter-widgets/output",
      "model_module_version": "1.0.0",
      "model_name": "OutputModel",
      "state": {
       "layout": "IPY_MODEL_24df0544714d424e9d522415a58f0781",
       "outputs": [
        {
         "name": "stdout",
         "output_type": "stream",
         "text": "                           ion    mass element complex isotope  charge  \\\n5  $({}^{1}H_{2}{}^{2}H)^{3+}$  1.3433  [H, H]  [2, 1]  [1, 2]       3   \n\n   abundance  \n5     0.0001  \n"
        },
        {
         "data": {
          "text/html": "<div>\n<style scoped>\n    .dataframe tbody tr th:only-of-type {\n        vertical-align: middle;\n    }\n\n    .dataframe tbody tr th {\n        vertical-align: top;\n    }\n\n    .dataframe thead th {\n        text-align: right;\n    }\n</style>\n<table border=\"1\" class=\"dataframe\">\n  <thead>\n    <tr style=\"text-align: right;\">\n      <th></th>\n      <th>ion</th>\n      <th>mass</th>\n      <th>element</th>\n      <th>complex</th>\n      <th>isotope</th>\n      <th>charge</th>\n      <th>abundance</th>\n    </tr>\n  </thead>\n  <tbody>\n    <tr>\n      <th>0</th>\n      <td>${}^{1}H^{+}$</td>\n      <td>1.0100</td>\n      <td>H</td>\n      <td>1</td>\n      <td>1</td>\n      <td>1</td>\n      <td>99.9850</td>\n    </tr>\n    <tr>\n      <th>1</th>\n      <td>${}^{1}H_{3}^{3+}$</td>\n      <td>1.0100</td>\n      <td>[H]</td>\n      <td>[3]</td>\n      <td>[1]</td>\n      <td>3</td>\n      <td>0.9996</td>\n    </tr>\n    <tr>\n      <th>2</th>\n      <td>${}^{2}H^{2+}$</td>\n      <td>1.0050</td>\n      <td>H</td>\n      <td>1</td>\n      <td>2</td>\n      <td>2</td>\n      <td>0.0150</td>\n    </tr>\n    <tr>\n      <th>3</th>\n      <td>$({}^{1}H_{2}{}^{2}H)^{3+}$</td>\n      <td>1.3433</td>\n      <td>[H, H]</td>\n      <td>[2, 1]</td>\n      <td>[1, 2]</td>\n      <td>3</td>\n      <td>0.0001</td>\n    </tr>\n    <tr>\n      <th>4</th>\n      <td>$({}^{2}H{}^{1}H{}^{1}H)^{3+}$</td>\n      <td>1.3433</td>\n      <td>[H, H, H]</td>\n      <td>[1, 1, 1]</td>\n      <td>[2, 1, 1]</td>\n      <td>3</td>\n      <td>0.0001</td>\n    </tr>\n    <tr>\n      <th>...</th>\n      <td>...</td>\n      <td>...</td>\n      <td>...</td>\n      <td>...</td>\n      <td>...</td>\n      <td>...</td>\n      <td>...</td>\n    </tr>\n    <tr>\n      <th>385</th>\n      <td>${}^{17}O_{2}{}^{18}O$</td>\n      <td>52.0000</td>\n      <td>[O, O]</td>\n      <td>[2, 1]</td>\n      <td>[17, 18]</td>\n      <td>1</td>\n      <td>0.0000</td>\n    </tr>\n    <tr>\n      <th>386</th>\n      <td>${}^{17}O{}^{18}O{}^{18}O$</td>\n      <td>53.0000</td>\n      <td>[O, O, O]</td>\n      <td>[1, 1, 1]</td>\n      <td>[17, 18, 18]</td>\n      <td>1</td>\n      <td>0.0000</td>\n    </tr>\n    <tr>\n      <th>387</th>\n      <td>${}^{18}O_{2}{}^{17}O$</td>\n      <td>53.0000</td>\n      <td>[O, O]</td>\n      <td>[2, 1]</td>\n      <td>[18, 17]</td>\n      <td>1</td>\n      <td>0.0000</td>\n    </tr>\n    <tr>\n      <th>388</th>\n      <td>${}^{18}O_{2}{}^{17}O$</td>\n      <td>53.0000</td>\n      <td>[O, O]</td>\n      <td>[2, 1]</td>\n      <td>[18, 17]</td>\n      <td>1</td>\n      <td>0.0000</td>\n    </tr>\n    <tr>\n      <th>389</th>\n      <td>${}^{18}O_{3}$</td>\n      <td>54.0000</td>\n      <td>[O]</td>\n      <td>[3]</td>\n      <td>[18]</td>\n      <td>1</td>\n      <td>0.0000</td>\n    </tr>\n  </tbody>\n</table>\n<p>390 rows × 7 columns</p>\n</div>",
          "text/plain": "                                ion     mass    element    complex  \\\n0                     ${}^{1}H^{+}$   1.0100          H          1   \n1                ${}^{1}H_{3}^{3+}$   1.0100        [H]        [3]   \n2                    ${}^{2}H^{2+}$   1.0050          H          1   \n3       $({}^{1}H_{2}{}^{2}H)^{3+}$   1.3433     [H, H]     [2, 1]   \n4    $({}^{2}H{}^{1}H{}^{1}H)^{3+}$   1.3433  [H, H, H]  [1, 1, 1]   \n..                              ...      ...        ...        ...   \n385          ${}^{17}O_{2}{}^{18}O$  52.0000     [O, O]     [2, 1]   \n386      ${}^{17}O{}^{18}O{}^{18}O$  53.0000  [O, O, O]  [1, 1, 1]   \n387          ${}^{18}O_{2}{}^{17}O$  53.0000     [O, O]     [2, 1]   \n388          ${}^{18}O_{2}{}^{17}O$  53.0000     [O, O]     [2, 1]   \n389                  ${}^{18}O_{3}$  54.0000        [O]        [3]   \n\n          isotope  charge  abundance  \n0               1       1    99.9850  \n1             [1]       3     0.9996  \n2               2       2     0.0150  \n3          [1, 2]       3     0.0001  \n4       [2, 1, 1]       3     0.0001  \n..            ...     ...        ...  \n385      [17, 18]       1     0.0000  \n386  [17, 18, 18]       1     0.0000  \n387      [18, 17]       1     0.0000  \n388      [18, 17]       1     0.0000  \n389          [18]       1     0.0000  \n\n[390 rows x 7 columns]"
         },
         "metadata": {},
         "output_type": "display_data"
        }
       ]
      }
     },
     "7c0c84aea60740779cb08a4a4cc65778": {
      "model_module": "@jupyter-widgets/controls",
      "model_module_version": "2.0.0",
      "model_name": "ButtonStyleModel",
      "state": {
       "font_family": null,
       "font_size": null,
       "font_style": null,
       "font_variant": null,
       "font_weight": null,
       "text_color": null,
       "text_decoration": null
      }
     },
     "7c5359059ca7435fb8df0ceac744fd0c": {
      "model_module": "@jupyter-widgets/base",
      "model_module_version": "2.0.0",
      "model_name": "LayoutModel",
      "state": {}
     },
     "7c90cc9cb8f840f8b1718595d5cb580d": {
      "model_module": "@jupyter-widgets/controls",
      "model_module_version": "2.0.0",
      "model_name": "ButtonModel",
      "state": {
       "description": "Reset",
       "layout": "IPY_MODEL_d697d1147cb043f6b1b9095cbca3e30e",
       "style": "IPY_MODEL_0680caf3924c488c8834808553e6b458",
       "tooltip": null
      }
     },
     "7ce82db32ac5453193b6e7dfdf60ec87": {
      "model_module": "@jupyter-widgets/controls",
      "model_module_version": "2.0.0",
      "model_name": "DropdownModel",
      "state": {
       "_options_labels": [
        "True",
        "Flase"
       ],
       "description": "log",
       "index": 0,
       "layout": "IPY_MODEL_ce2c198ab86f4d079b973d2394c6cfab",
       "style": "IPY_MODEL_0c958783312c4bea8b90b29836464c7c"
      }
     },
     "7cf5207e0f61443cb82e7d2a0a75b506": {
      "model_module": "@jupyter-widgets/base",
      "model_module_version": "2.0.0",
      "model_name": "LayoutModel",
      "state": {}
     },
     "7d2b4f8c04884239b14ff7ac6292c49c": {
      "model_module": "@jupyter-widgets/controls",
      "model_module_version": "2.0.0",
      "model_name": "ButtonModel",
      "state": {
       "description": "show color",
       "layout": "IPY_MODEL_3587c6be2a3742988b883f7dae5890d0",
       "style": "IPY_MODEL_f790615950e343a4a82c4a0df48d8bd8",
       "tooltip": null
      }
     },
     "7d90af3bf6b2473080d5f3291c53f2cd": {
      "model_module": "@jupyter-widgets/controls",
      "model_module_version": "2.0.0",
      "model_name": "ButtonStyleModel",
      "state": {
       "font_family": null,
       "font_size": null,
       "font_style": null,
       "font_variant": null,
       "font_weight": null,
       "text_color": null,
       "text_decoration": null
      }
     },
     "7da1e4a6c8d649d9aa340cc2acfe90ee": {
      "model_module": "@jupyter-widgets/controls",
      "model_module_version": "2.0.0",
      "model_name": "HBoxModel",
      "state": {
       "children": [
        "IPY_MODEL_ae588cccb45a48188b25c90713d02713",
        "IPY_MODEL_9dc0d2954ace4c02871183529780f0be",
        "IPY_MODEL_95fa9f39dbcb4e848ee7fd5ec3f3243e"
       ],
       "layout": "IPY_MODEL_b6f6800e8938406e88f07a529580e303"
      }
     },
     "7db984d0bcd843c3a94b4025459ec836": {
      "model_module": "@jupyter-widgets/controls",
      "model_module_version": "2.0.0",
      "model_name": "HBoxModel",
      "state": {
       "children": [
        "IPY_MODEL_6af794d342034dbaac4e2bd9fac79250"
       ],
       "layout": "IPY_MODEL_d504c00ac5fd4f3592dd8bba1f2742b7"
      }
     },
     "7e2691f789ad45a49be308bd0d19cff5": {
      "model_module": "@jupyter-widgets/controls",
      "model_module_version": "2.0.0",
      "model_name": "ButtonModel",
      "state": {
       "description": "Add all peaks",
       "layout": "IPY_MODEL_7ad2a536f5e146518d09304a2b754fb5",
       "style": "IPY_MODEL_df0e100a884d40719b03b19eee963587",
       "tooltip": null
      }
     },
     "7e7de9d49a84471b82b020728f9b493c": {
      "model_module": "@jupyter-widgets/base",
      "model_module_version": "2.0.0",
      "model_name": "LayoutModel",
      "state": {}
     },
     "7eee417c6c3e4ba1a2509291998492dd": {
      "model_module": "@jupyter-widgets/controls",
      "model_module_version": "2.0.0",
      "model_name": "ButtonStyleModel",
      "state": {
       "font_family": null,
       "font_size": null,
       "font_style": null,
       "font_variant": null,
       "font_weight": null,
       "text_color": null,
       "text_decoration": null
      }
     },
     "7f03135b3b5c42758d24e86b8fc7b35f": {
      "model_module": "@jupyter-widgets/controls",
      "model_module_version": "2.0.0",
      "model_name": "HBoxModel",
      "state": {
       "children": [
        "IPY_MODEL_4efca7c0409e4e189b33df95a33496cc",
        "IPY_MODEL_fd5c1b861ebf4434ae01c57717e688fe"
       ],
       "layout": "IPY_MODEL_15d58574f1ed4c52b83cc9c25e034a82"
      }
     },
     "7f32d0bdc218462e8c34417d3bb0068b": {
      "model_module": "@jupyter-widgets/controls",
      "model_module_version": "2.0.0",
      "model_name": "VBoxModel",
      "state": {
       "children": [
        "IPY_MODEL_abadc58f09fb4d87a031e0bb11e72e5f"
       ],
       "layout": "IPY_MODEL_fe24821a590440589e98e0e90ec4ec1a"
      }
     },
     "7f7a383f07684a4e8cf8c30f8bff4687": {
      "model_module": "@jupyter-widgets/base",
      "model_module_version": "2.0.0",
      "model_name": "LayoutModel",
      "state": {}
     },
     "7f849b36154a4817863ba32b874845c9": {
      "model_module": "@jupyter-widgets/base",
      "model_module_version": "2.0.0",
      "model_name": "LayoutModel",
      "state": {}
     },
     "7fd46e671d6248e0994e787958fa36bb": {
      "model_module": "@jupyter-widgets/base",
      "model_module_version": "2.0.0",
      "model_name": "LayoutModel",
      "state": {}
     },
     "81d08b5c4ac4408499007a1b33e18f5b": {
      "model_module": "@jupyter-widgets/controls",
      "model_module_version": "2.0.0",
      "model_name": "DescriptionStyleModel",
      "state": {
       "description_width": ""
      }
     },
     "826382a90ead499a924a4fbd8d12447e": {
      "model_module": "@jupyter-widgets/controls",
      "model_module_version": "2.0.0",
      "model_name": "ButtonStyleModel",
      "state": {
       "font_family": null,
       "font_size": null,
       "font_style": null,
       "font_variant": null,
       "font_weight": null,
       "text_color": null,
       "text_decoration": null
      }
     },
     "82fe4e74d6fc4335b0c19cd21f2b4a8a": {
      "model_module": "@jupyter-widgets/controls",
      "model_module_version": "2.0.0",
      "model_name": "ButtonModel",
      "state": {
       "description": "manual formula",
       "layout": "IPY_MODEL_ad7d59313fce4d56b88f275594aec62d",
       "style": "IPY_MODEL_98dc1d32ad98407ebb102c7eb4c0178c",
       "tooltip": null
      }
     },
     "834512f17a66424891541aac08347f61": {
      "model_module": "@jupyter-widgets/controls",
      "model_module_version": "2.0.0",
      "model_name": "ButtonStyleModel",
      "state": {
       "font_family": null,
       "font_size": null,
       "font_style": null,
       "font_variant": null,
       "font_weight": null,
       "text_color": null,
       "text_decoration": null
      }
     },
     "835b1e9702fc4e24bc6eab4d449e6bea": {
      "model_module": "@jupyter-widgets/base",
      "model_module_version": "2.0.0",
      "model_name": "LayoutModel",
      "state": {}
     },
     "837b09084f5e439dba5061fb6b421e86": {
      "model_module": "@jupyter-widgets/controls",
      "model_module_version": "2.0.0",
      "model_name": "ButtonStyleModel",
      "state": {
       "font_family": null,
       "font_size": null,
       "font_style": null,
       "font_variant": null,
       "font_weight": null,
       "text_color": null,
       "text_decoration": null
      }
     },
     "83e5d3c735ab4c41aae1877ac7e88644": {
      "model_module": "@jupyter-widgets/base",
      "model_module_version": "2.0.0",
      "model_name": "LayoutModel",
      "state": {}
     },
     "841f0bd76bae404f9c3083591ccefeda": {
      "model_module": "@jupyter-widgets/controls",
      "model_module_version": "2.0.0",
      "model_name": "VBoxModel",
      "state": {
       "children": [
        "IPY_MODEL_d9f44929df9f4569aa48a11ef628397e",
        "IPY_MODEL_e95fded656604d5299596855f8556c82",
        "IPY_MODEL_23876aae676846c3867a8b27395af191",
        "IPY_MODEL_bd34c9d57faa4d82b4529fa3e8c614da",
        "IPY_MODEL_dd8859d700f74d32a0cf762e36406910",
        "IPY_MODEL_f068b54c092b4412bb1589d78d53111a",
        "IPY_MODEL_4c251b24b3ca46e795c9255b10c73a58"
       ],
       "layout": "IPY_MODEL_16cfbefdb4ac4193b663393c7c825291"
      }
     },
     "84702ff6c8f245b6889130d319e4975e": {
      "model_module": "@jupyter-widgets/base",
      "model_module_version": "2.0.0",
      "model_name": "LayoutModel",
      "state": {}
     },
     "848c5e2a42174152ad74b5a9df5d35af": {
      "model_module": "@jupyter-widgets/controls",
      "model_module_version": "2.0.0",
      "model_name": "ButtonModel",
      "state": {
       "description": "plot hist",
       "layout": "IPY_MODEL_67d895f9285542f0a288668ea5f75b63",
       "style": "IPY_MODEL_431af3962e7240f28932e53b7aeb2a17",
       "tooltip": null
      }
     },
     "84c728d4a33a446fa4c5cd18a3229be6": {
      "model_module": "@jupyter-widgets/base",
      "model_module_version": "2.0.0",
      "model_name": "LayoutModel",
      "state": {}
     },
     "853ed496ede84506a24fedda263b80f3": {
      "model_module": "@jupyter-widgets/base",
      "model_module_version": "2.0.0",
      "model_name": "LayoutModel",
      "state": {}
     },
     "8611f91dffd243efa1ff34622485d965": {
      "model_module": "@jupyter-widgets/base",
      "model_module_version": "2.0.0",
      "model_name": "LayoutModel",
      "state": {}
     },
     "867f80a8931e40098832fbbed3c2ba34": {
      "model_module": "@jupyter-widgets/controls",
      "model_module_version": "2.0.0",
      "model_name": "DescriptionStyleModel",
      "state": {
       "description_width": ""
      }
     },
     "86c7e2355cc44c929108d3774a642fd9": {
      "model_module": "@jupyter-widgets/base",
      "model_module_version": "2.0.0",
      "model_name": "LayoutModel",
      "state": {}
     },
     "8709d187402d4b71965bc9d61ba77693": {
      "model_module": "@jupyter-widgets/controls",
      "model_module_version": "2.0.0",
      "model_name": "HBoxModel",
      "state": {
       "children": [
        "IPY_MODEL_74b428e87e7741c7bf632403c65d4da0"
       ],
       "layout": "IPY_MODEL_4d49e000c0b341948cf4ff61d5a81fa2"
      }
     },
     "87518a5bae9f4c7b9ca41493e930470f": {
      "model_module": "@jupyter-widgets/base",
      "model_module_version": "2.0.0",
      "model_name": "LayoutModel",
      "state": {}
     },
     "87eb835300a94fb78738a9a2e32ceab2": {
      "model_module": "@jupyter-widgets/controls",
      "model_module_version": "2.0.0",
      "model_name": "ButtonModel",
      "state": {
       "description": "Next",
       "layout": "IPY_MODEL_50514defe77a462b81c47ec0f4c3e918",
       "style": "IPY_MODEL_df2ecdd308f14b1d8834a0e3b498ff16",
       "tooltip": null
      }
     },
     "887cc3d70d4a4dbcb79ae366939f2687": {
      "model_module": "@jupyter-widgets/base",
      "model_module_version": "2.0.0",
      "model_name": "LayoutModel",
      "state": {}
     },
     "887d4022b60b4e09bb3c7b8e2a4d6419": {
      "model_module": "@jupyter-widgets/controls",
      "model_module_version": "2.0.0",
      "model_name": "TabModel",
      "state": {
       "children": [
        "IPY_MODEL_428d586e310c41129eb792d3f6a49ebf"
       ],
       "layout": "IPY_MODEL_3bb41ad00f704bbbac1e2039b2a9aadb",
       "selected_index": 0,
       "titles": [
        "element finder"
       ]
      }
     },
     "88e4c2a5b6084c84997f6428b6a392dc": {
      "model_module": "@jupyter-widgets/controls",
      "model_module_version": "2.0.0",
      "model_name": "ButtonStyleModel",
      "state": {
       "font_family": null,
       "font_size": null,
       "font_style": null,
       "font_variant": null,
       "font_weight": null,
       "text_color": null,
       "text_decoration": null
      }
     },
     "8928bb375c1b4bc1989624ea7be9ddbd": {
      "model_module": "@jupyter-widgets/controls",
      "model_module_version": "2.0.0",
      "model_name": "ButtonModel",
      "state": {
       "description": "plot hist",
       "layout": "IPY_MODEL_249c650aa6f24d008abb08995a4b647f",
       "style": "IPY_MODEL_8af56a42384b45598ad65cc713509153",
       "tooltip": null
      }
     },
     "892f0235090e476c9d006e98d93af2f3": {
      "model_module": "@jupyter-widgets/base",
      "model_module_version": "2.0.0",
      "model_name": "LayoutModel",
      "state": {}
     },
     "89678dc094714546829f4300c3c787ff": {
      "model_module": "@jupyter-widgets/controls",
      "model_module_version": "2.0.0",
      "model_name": "ButtonModel",
      "state": {
       "description": "Next",
       "layout": "IPY_MODEL_69e9db814933446f8b540c655287e94a",
       "style": "IPY_MODEL_45e4df2df85944ffa884418251f77fad",
       "tooltip": null
      }
     },
     "89956c0505de4e60836b367fae58d3ac": {
      "model_module": "@jupyter-widgets/base",
      "model_module_version": "2.0.0",
      "model_name": "LayoutModel",
      "state": {}
     },
     "89c49a7c69f7493c8ba6a6e2acb3ff6c": {
      "model_module": "@jupyter-widgets/controls",
      "model_module_version": "2.0.0",
      "model_name": "HBoxModel",
      "state": {
       "children": [
        "IPY_MODEL_b58e1efb1abc476e9fd21a78127ffe49",
        "IPY_MODEL_cd0b105e53104a26be2fc22bddeb28a1"
       ],
       "layout": "IPY_MODEL_d174dba7163a4ab7bc7fceb5cfb868eb"
      }
     },
     "8af56a42384b45598ad65cc713509153": {
      "model_module": "@jupyter-widgets/controls",
      "model_module_version": "2.0.0",
      "model_name": "ButtonStyleModel",
      "state": {
       "font_family": null,
       "font_size": null,
       "font_style": null,
       "font_variant": null,
       "font_weight": null,
       "text_color": null,
       "text_decoration": null
      }
     },
     "8c2132625c83452aac7f6776940a67d3": {
      "model_module": "@jupyter-widgets/controls",
      "model_module_version": "2.0.0",
      "model_name": "ButtonModel",
      "state": {
       "description": "Run Interact",
       "layout": "IPY_MODEL_60f8459b8a25457192c46229a967ace8",
       "style": "IPY_MODEL_3e7e5cdfbe5b4b3a82af30e3dfa47386",
       "tooltip": null
      }
     },
     "8d1ccf79eb44446e85ea19744f5d0f6c": {
      "model_module": "@jupyter-widgets/controls",
      "model_module_version": "2.0.0",
      "model_name": "ButtonStyleModel",
      "state": {
       "font_family": null,
       "font_size": null,
       "font_style": null,
       "font_variant": null,
       "font_weight": null,
       "text_color": null,
       "text_decoration": null
      }
     },
     "8dc97699ff004d20b5a3cff3aaa2505f": {
      "model_module": "@jupyter-widgets/base",
      "model_module_version": "2.0.0",
      "model_name": "LayoutModel",
      "state": {}
     },
     "8eb32b052a004bb581bf0c81c6b9f57a": {
      "model_module": "@jupyter-widgets/controls",
      "model_module_version": "2.0.0",
      "model_name": "HBoxModel",
      "state": {
       "children": [
        "IPY_MODEL_ef38182d5db9410a9970464459c77e6a",
        "IPY_MODEL_887d4022b60b4e09bb3c7b8e2a4d6419"
       ],
       "layout": "IPY_MODEL_a378efc630534797a3dce0a7ce1f755a"
      }
     },
     "8ef2b133e5f1485d9c3f9529e714e64b": {
      "model_module": "@jupyter-widgets/controls",
      "model_module_version": "2.0.0",
      "model_name": "DescriptionStyleModel",
      "state": {
       "description_width": ""
      }
     },
     "8f7d13ac27ea47e8a6c19ef5f9971c19": {
      "model_module": "@jupyter-widgets/controls",
      "model_module_version": "2.0.0",
      "model_name": "ButtonModel",
      "state": {
       "description": "plot hist",
       "layout": "IPY_MODEL_4243b816f8884e708e11673f8ebc856e",
       "style": "IPY_MODEL_33f3e95dfc9c4d24b8b114528fc8496a",
       "tooltip": null
      }
     },
     "8f877861b73d4d3f89758293d6452ca6": {
      "model_module": "@jupyter-widgets/controls",
      "model_module_version": "2.0.0",
      "model_name": "VBoxModel",
      "state": {
       "children": [
        "IPY_MODEL_f5b9c49a1dea42c8859193af3eb28828",
        "IPY_MODEL_24e4a28b9c024f1b8b65d5bd13c72a76",
        "IPY_MODEL_87eb835300a94fb78738a9a2e32ceab2",
        "IPY_MODEL_9a32cbf12e6c49ab837fb58970020e1b",
        "IPY_MODEL_4a1d3dcd06e74a5c830f1d69709eb6e3"
       ],
       "layout": "IPY_MODEL_7f7a383f07684a4e8cf8c30f8bff4687"
      }
     },
     "8fec1008b4314a3fa10cd4aae7ccb361": {
      "model_module": "@jupyter-widgets/controls",
      "model_module_version": "2.0.0",
      "model_name": "DropdownModel",
      "state": {
       "_options_labels": [
        "PyCCAPT",
        "leap_epos",
        "leap_pos",
        "ato_v6"
       ],
       "description": "Data mode:",
       "index": 0,
       "layout": "IPY_MODEL_51154f845401456092f6f6b4dc207b18",
       "style": "IPY_MODEL_867f80a8931e40098832fbbed3c2ba34"
      }
     },
     "90026a16ebbf4a5db71b69d9d6960c74": {
      "model_module": "@jupyter-widgets/controls",
      "model_module_version": "2.0.0",
      "model_name": "FloatTextModel",
      "state": {
       "description": "unknown mass:",
       "layout": "IPY_MODEL_d490ad4695304a13929a02237dfa107b",
       "step": null,
       "style": "IPY_MODEL_a22f05b70bd24012a268ad2adde41c77"
      }
     },
     "90bf350f7ca242b8a3d6c2832638ece2": {
      "model_module": "@jupyter-widgets/base",
      "model_module_version": "2.0.0",
      "model_name": "LayoutModel",
      "state": {}
     },
     "90f3c369d16d40eca97ca7819105ed42": {
      "model_module": "@jupyter-widgets/controls",
      "model_module_version": "2.0.0",
      "model_name": "TabModel",
      "state": {
       "children": [
        "IPY_MODEL_1f4217fd3f4e415f8cc380f59388f7d3",
        "IPY_MODEL_2e4c62a6908b4b15a2fdf022659e5661"
       ],
       "layout": "IPY_MODEL_0b4f744cfb124096a95902b3d454b2b8",
       "selected_index": 0,
       "titles": [
        "peak finder",
        "rangging"
       ]
      }
     },
     "91a318a47cfd4cd6a9b23a4b7774f1e0": {
      "model_module": "@jupyter-widgets/controls",
      "model_module_version": "2.0.0",
      "model_name": "CheckboxModel",
      "state": {
       "description": "ranging_mode",
       "disabled": false,
       "layout": "IPY_MODEL_fd43b7a8cee641a5a4c949114574b45a",
       "style": "IPY_MODEL_608c579ff9c7436ab9a0922d0bffb24b",
       "value": false
      }
     },
     "91d923bd2c4f4454bfea2bc1b46b908a": {
      "model_module": "@jupyter-widgets/controls",
      "model_module_version": "2.0.0",
      "model_name": "ButtonStyleModel",
      "state": {
       "font_family": null,
       "font_size": null,
       "font_style": null,
       "font_variant": null,
       "font_weight": null,
       "text_color": null,
       "text_decoration": null
      }
     },
     "921b08667874480b8b26f57ecae9b96f": {
      "model_module": "@jupyter-widgets/base",
      "model_module_version": "2.0.0",
      "model_name": "LayoutModel",
      "state": {}
     },
     "92466cea90b44da2bf114c8f679bcb31": {
      "model_module": "@jupyter-widgets/base",
      "model_module_version": "2.0.0",
      "model_name": "LayoutModel",
      "state": {}
     },
     "9255ff456bbd4035aa8f3935e06ad425": {
      "model_module": "@jupyter-widgets/controls",
      "model_module_version": "2.0.0",
      "model_name": "VBoxModel",
      "state": {
       "children": [
        "IPY_MODEL_01452bfefcd84f62a875bc6f1ced2c0a",
        "IPY_MODEL_ef08a316c3674be193bd3253e67bb371"
       ],
       "layout": "IPY_MODEL_2fd6eed8d7034eb2bd4679eb705228b7"
      }
     },
     "92cd6472fd9447caa07150a215d6ebfc": {
      "model_module": "@jupyter-widgets/controls",
      "model_module_version": "2.0.0",
      "model_name": "ButtonModel",
      "state": {
       "description": "change color",
       "layout": "IPY_MODEL_616d48b5fced4d1fbc58180bf53ac7da",
       "style": "IPY_MODEL_8d1ccf79eb44446e85ea19744f5d0f6c",
       "tooltip": null
      }
     },
     "93565a688ec044edbee3de08dbad56dc": {
      "model_module": "@jupyter-widgets/controls",
      "model_module_version": "2.0.0",
      "model_name": "DescriptionStyleModel",
      "state": {
       "description_width": ""
      }
     },
     "93cd13a4dc9848f8a762d42649e7904b": {
      "model_module": "@jupyter-widgets/base",
      "model_module_version": "2.0.0",
      "model_name": "LayoutModel",
      "state": {}
     },
     "948ab235f4e5463d98b2f6ca8843d740": {
      "model_module": "@jupyter-widgets/controls",
      "model_module_version": "2.0.0",
      "model_name": "ButtonModel",
      "state": {
       "description": "manual formula",
       "layout": "IPY_MODEL_3f3e051d8a7845df8e74e29f9e0a5a7d",
       "style": "IPY_MODEL_70192b0c0a36440d9e1f4e0480b4b75c",
       "tooltip": null
      }
     },
     "94d377dfc1964cab83ece6b14cd6c83d": {
      "model_module": "@jupyter-widgets/base",
      "model_module_version": "2.0.0",
      "model_name": "LayoutModel",
      "state": {}
     },
     "952e527f29d3463ba20ce5b53dd5402c": {
      "model_module": "@jupyter-widgets/controls",
      "model_module_version": "2.0.0",
      "model_name": "ButtonModel",
      "state": {
       "description": "show color",
       "layout": "IPY_MODEL_fc9e9b596fab4f8e9770158d432102ed",
       "style": "IPY_MODEL_1ba4e1601e8b4aceadcd122cf3e348c3",
       "tooltip": null
      }
     },
     "95be032ac6714bcfaa6154140864ce76": {
      "model_module": "@jupyter-widgets/controls",
      "model_module_version": "2.0.0",
      "model_name": "ButtonStyleModel",
      "state": {
       "font_family": null,
       "font_size": null,
       "font_style": null,
       "font_variant": null,
       "font_weight": null,
       "text_color": null,
       "text_decoration": null
      }
     },
     "95fa9f39dbcb4e848ee7fd5ec3f3243e": {
      "model_module": "@jupyter-widgets/controls",
      "model_module_version": "2.0.0",
      "model_name": "VBoxModel",
      "state": {
       "children": [
        "IPY_MODEL_09ef16dad5264c43976147cf8aec9796",
        "IPY_MODEL_44264a4d88be4b2186895989eefc64e0",
        "IPY_MODEL_c990aa0c9071426696f5fd880f4d4a06"
       ],
       "layout": "IPY_MODEL_a14bcb22721e4fcc80ba10baea3b677e"
      }
     },
     "963c33f7e5d94005a923c33a38c659f2": {
      "model_module": "@jupyter-widgets/base",
      "model_module_version": "2.0.0",
      "model_name": "LayoutModel",
      "state": {}
     },
     "964ad88f81ae40d2acc3c48d409b1671": {
      "model_module": "@jupyter-widgets/controls",
      "model_module_version": "2.0.0",
      "model_name": "TabModel",
      "state": {
       "children": [
        "IPY_MODEL_c453d01b3d0545438ca972953365d0ae",
        "IPY_MODEL_4bdd61a632a742eca968a15f8afeb1ec"
       ],
       "layout": "IPY_MODEL_2d27fc08740444ffa9d1fc496ea9fd6a",
       "selected_index": 0,
       "titles": [
        "peak finder",
        "rangging"
       ]
      }
     },
     "96837d78cbad4490ae2653fcc0c195ea": {
      "model_module": "@jupyter-widgets/controls",
      "model_module_version": "2.0.0",
      "model_name": "ButtonStyleModel",
      "state": {
       "font_family": null,
       "font_size": null,
       "font_style": null,
       "font_variant": null,
       "font_weight": null,
       "text_color": null,
       "text_decoration": null
      }
     },
     "977b0638db1d46c6addad47a8cd1cd95": {
      "model_module": "@jupyter-widgets/controls",
      "model_module_version": "2.0.0",
      "model_name": "ButtonModel",
      "state": {
       "description": "plot hist",
       "layout": "IPY_MODEL_f06db3cad5fa4551831b933b3f4007e3",
       "style": "IPY_MODEL_96837d78cbad4490ae2653fcc0c195ea",
       "tooltip": null
      }
     },
     "980fcaa276c94e5c8b7f9f879d5b2c0b": {
      "model_module": "@jupyter-widgets/controls",
      "model_module_version": "2.0.0",
      "model_name": "VBoxModel",
      "state": {
       "children": [
        "IPY_MODEL_6defbfcbd42741929ed5db1c08258f24",
        "IPY_MODEL_3a619a2bb0e247c490e8d1cb6e11efbb",
        "IPY_MODEL_eabc146310924c3b967dbfe7fc6afa07",
        "IPY_MODEL_cabf0b37347d48acb9d94156ca4440a2",
        "IPY_MODEL_cb19dcd64c0e468ca19188a0b16f8054",
        "IPY_MODEL_952e527f29d3463ba20ce5b53dd5402c",
        "IPY_MODEL_19d60e38601f4412a4d240fe9a2f83a8"
       ],
       "layout": "IPY_MODEL_3be3e98e422247ea8f64488040498ead"
      }
     },
     "98dc1d32ad98407ebb102c7eb4c0178c": {
      "model_module": "@jupyter-widgets/controls",
      "model_module_version": "2.0.0",
      "model_name": "ButtonStyleModel",
      "state": {
       "font_family": null,
       "font_size": null,
       "font_style": null,
       "font_variant": null,
       "font_weight": null,
       "text_color": null,
       "text_decoration": null
      }
     },
     "9936743013e443348898a16f0f88c451": {
      "model_module": "@jupyter-widgets/controls",
      "model_module_version": "2.0.0",
      "model_name": "ButtonStyleModel",
      "state": {
       "font_family": null,
       "font_size": null,
       "font_style": null,
       "font_variant": null,
       "font_weight": null,
       "text_color": null,
       "text_decoration": null
      }
     },
     "9979dba803f1473c85b70024471d0093": {
      "model_module": "@jupyter-widgets/base",
      "model_module_version": "2.0.0",
      "model_name": "LayoutModel",
      "state": {}
     },
     "997dd471dd6b465bb162f5bbfc93dfc7": {
      "model_module": "@jupyter-widgets/controls",
      "model_module_version": "2.0.0",
      "model_name": "DescriptionStyleModel",
      "state": {
       "description_width": ""
      }
     },
     "9984a0dbf0c3447688a844cc5cc847ff": {
      "model_module": "@jupyter-widgets/base",
      "model_module_version": "2.0.0",
      "model_name": "LayoutModel",
      "state": {}
     },
     "99e88c9300754f7093fafae6a724afa8": {
      "model_module": "@jupyter-widgets/controls",
      "model_module_version": "2.0.0",
      "model_name": "VBoxModel",
      "state": {
       "children": [
        "IPY_MODEL_ef09c4d67c274edb8a7fafecbf7d257a"
       ],
       "layout": "IPY_MODEL_ae27b98679684749aeec2af0ca2930bc"
      }
     },
     "9a23859b07c74a6ea9d95ef42ff66ade": {
      "model_module": "@jupyter-widgets/base",
      "model_module_version": "2.0.0",
      "model_name": "LayoutModel",
      "state": {}
     },
     "9a32cbf12e6c49ab837fb58970020e1b": {
      "model_module": "@jupyter-widgets/controls",
      "model_module_version": "2.0.0",
      "model_name": "ButtonModel",
      "state": {
       "description": "Previous",
       "layout": "IPY_MODEL_a4e722aaaeeb4c2e85f93f110c25ee73",
       "style": "IPY_MODEL_555ce233940e4e228992e15591a7c5cd",
       "tooltip": null
      }
     },
     "9a3b1e41f5184b9795f6e98bcabb2019": {
      "model_module": "@jupyter-widgets/base",
      "model_module_version": "2.0.0",
      "model_name": "LayoutModel",
      "state": {}
     },
     "9b3e2aea1bb649dc9146790e8ac6f66b": {
      "model_module": "@jupyter-widgets/controls",
      "model_module_version": "2.0.0",
      "model_name": "DescriptionStyleModel",
      "state": {
       "description_width": ""
      }
     },
     "9b4b010980d8456199dbd81d524aa466": {
      "model_module": "@jupyter-widgets/controls",
      "model_module_version": "2.0.0",
      "model_name": "ButtonModel",
      "state": {
       "description": "plot hist",
       "layout": "IPY_MODEL_6eef3962dea34956ab1daf722237ce16",
       "style": "IPY_MODEL_372ca5ca68054ab188c69bc8057b4a32",
       "tooltip": null
      }
     },
     "9b890a88e57348bc859bd605f04e6915": {
      "model_module": "@jupyter-widgets/base",
      "model_module_version": "2.0.0",
      "model_name": "LayoutModel",
      "state": {}
     },
     "9cfef0dbeedf4fc0a9cbdd5430cea023": {
      "model_module": "@jupyter-widgets/base",
      "model_module_version": "2.0.0",
      "model_name": "LayoutModel",
      "state": {}
     },
     "9d12727dc60b4211aab69d6f45c5d29e": {
      "model_module": "@jupyter-widgets/controls",
      "model_module_version": "2.0.0",
      "model_name": "VBoxModel",
      "state": {
       "children": [
        "IPY_MODEL_09ef16dad5264c43976147cf8aec9796",
        "IPY_MODEL_44264a4d88be4b2186895989eefc64e0",
        "IPY_MODEL_bd27e5482ca846e39361fe7f82d34a8d"
       ],
       "layout": "IPY_MODEL_9cfef0dbeedf4fc0a9cbdd5430cea023"
      }
     },
     "9dc0d2954ace4c02871183529780f0be": {
      "model_module": "@jupyter-widgets/controls",
      "model_module_version": "2.0.0",
      "model_name": "VBoxModel",
      "state": {
       "children": [
        "IPY_MODEL_47ee2f66713842e6b73f4465e991d212",
        "IPY_MODEL_15a7e89ce72c482c9dddf29a88d48c5b",
        "IPY_MODEL_4434e2c89cbf4c2abd7ba6ef8da20978",
        "IPY_MODEL_5ac87772354b431eb074bc7e93ed78e3",
        "IPY_MODEL_d19b118a32734f23bc6661e83fa63396",
        "IPY_MODEL_7d2b4f8c04884239b14ff7ac6292c49c",
        "IPY_MODEL_08d7b2e19259416fae4869fdb5851e8b"
       ],
       "layout": "IPY_MODEL_f646e9cefaf44d518669f78381d79493"
      }
     },
     "9dc720453d0c492b8ff3c28fa6066996": {
      "model_module": "@jupyter-widgets/controls",
      "model_module_version": "2.0.0",
      "model_name": "TabModel",
      "state": {
       "children": [
        "IPY_MODEL_7f32d0bdc218462e8c34417d3bb0068b"
       ],
       "layout": "IPY_MODEL_90bf350f7ca242b8a3d6c2832638ece2",
       "selected_index": 0,
       "titles": [
        "element finder"
       ]
      }
     },
     "9e43d6b69aab4deaa475b5a6374e4391": {
      "model_module": "@jupyter-widgets/base",
      "model_module_version": "2.0.0",
      "model_name": "LayoutModel",
      "state": {}
     },
     "9e88a723f428477f949f0760c54775de": {
      "model_module": "@jupyter-widgets/base",
      "model_module_version": "2.0.0",
      "model_name": "LayoutModel",
      "state": {}
     },
     "9e926225759d45aa809afd3a16473408": {
      "model_module": "@jupyter-widgets/base",
      "model_module_version": "2.0.0",
      "model_name": "LayoutModel",
      "state": {}
     },
     "9e94a881478446c4ba910808d80dbf88": {
      "model_module": "@jupyter-widgets/base",
      "model_module_version": "2.0.0",
      "model_name": "LayoutModel",
      "state": {}
     },
     "9f4e049bb6504344853b9042ab8e61b0": {
      "model_module": "@jupyter-widgets/base",
      "model_module_version": "2.0.0",
      "model_name": "LayoutModel",
      "state": {}
     },
     "9f5575e61d694bb19710c25de515d74b": {
      "model_module": "@jupyter-widgets/controls",
      "model_module_version": "2.0.0",
      "model_name": "FloatTextModel",
      "state": {
       "description": "threshold aboundance:",
       "layout": "IPY_MODEL_1e5c2697b39a4717a2fcc98d90510114",
       "step": 0.1,
       "style": "IPY_MODEL_a72bfab5a80941489891655cdb4dbe13"
      }
     },
     "9ff5eb74add74ed58590a172b55b6a33": {
      "model_module": "@jupyter-widgets/controls",
      "model_module_version": "2.0.0",
      "model_name": "ButtonModel",
      "state": {
       "description": "Add all peaks",
       "layout": "IPY_MODEL_e26c47e4de6d4e66bc15dcbf5622f312",
       "style": "IPY_MODEL_1bd1215398044dceb0dfe2c782800895",
       "tooltip": null
      }
     },
     "a0f4e59e87b04782a2c0a8f642c3efa9": {
      "model_module": "@jupyter-widgets/base",
      "model_module_version": "2.0.0",
      "model_name": "LayoutModel",
      "state": {}
     },
     "a10fdf387d784157b096ae4aaa8bb91d": {
      "model_module": "@jupyter-widgets/controls",
      "model_module_version": "2.0.0",
      "model_name": "IntTextModel",
      "state": {
       "description": "index row:",
       "layout": "IPY_MODEL_cab9b54414bb4cc29bfe95bedcb78680",
       "step": 1,
       "style": "IPY_MODEL_36484ce0db3a49ca9389e5e822ea5014"
      }
     },
     "a11baedb1ce747e7990388188a211c53": {
      "model_module": "@jupyter-widgets/controls",
      "model_module_version": "2.0.0",
      "model_name": "HBoxModel",
      "state": {
       "children": [
        "IPY_MODEL_ade0031732c34871ac5fe4fc2257a2c7"
       ],
       "layout": "IPY_MODEL_892f0235090e476c9d006e98d93af2f3"
      }
     },
     "a127609c0fc5467daa161be38a1746e2": {
      "model_module": "@jupyter-widgets/controls",
      "model_module_version": "2.0.0",
      "model_name": "DescriptionStyleModel",
      "state": {
       "description_width": ""
      }
     },
     "a14bcb22721e4fcc80ba10baea3b677e": {
      "model_module": "@jupyter-widgets/base",
      "model_module_version": "2.0.0",
      "model_name": "LayoutModel",
      "state": {}
     },
     "a1516819fb294495a3e331bfcadff230": {
      "model_module": "@jupyter-widgets/base",
      "model_module_version": "2.0.0",
      "model_name": "LayoutModel",
      "state": {}
     },
     "a1b2d94301e343119aa75b6e826be0ea": {
      "model_module": "@jupyter-widgets/controls",
      "model_module_version": "2.0.0",
      "model_name": "DescriptionStyleModel",
      "state": {
       "description_width": ""
      }
     },
     "a1d51e9815e043fabf37b678a286819f": {
      "model_module": "@jupyter-widgets/controls",
      "model_module_version": "2.0.0",
      "model_name": "ButtonModel",
      "state": {
       "description": "change color",
       "layout": "IPY_MODEL_6a4cbbc0f2b846f590f7b906a665125d",
       "style": "IPY_MODEL_fb7eadc3287947dc8a93c313f876aea2",
       "tooltip": null
      }
     },
     "a22f05b70bd24012a268ad2adde41c77": {
      "model_module": "@jupyter-widgets/controls",
      "model_module_version": "2.0.0",
      "model_name": "DescriptionStyleModel",
      "state": {
       "description_width": ""
      }
     },
     "a2a3d2f8b364464e89e0105b6e1141a6": {
      "model_module": "@jupyter-widgets/base",
      "model_module_version": "2.0.0",
      "model_name": "LayoutModel",
      "state": {}
     },
     "a378efc630534797a3dce0a7ce1f755a": {
      "model_module": "@jupyter-widgets/base",
      "model_module_version": "2.0.0",
      "model_name": "LayoutModel",
      "state": {}
     },
     "a38a514c230e4adbb98639edda2ca9a4": {
      "model_module": "@jupyter-widgets/controls",
      "model_module_version": "2.0.0",
      "model_name": "ButtonStyleModel",
      "state": {
       "font_family": null,
       "font_size": null,
       "font_style": null,
       "font_variant": null,
       "font_weight": null,
       "text_color": null,
       "text_decoration": null
      }
     },
     "a432dadafe194a3fbdee154e5e33bb1b": {
      "model_module": "@jupyter-widgets/controls",
      "model_module_version": "2.0.0",
      "model_name": "FloatTextModel",
      "state": {
       "description": "Flight path length:",
       "layout": "IPY_MODEL_6e3ba3e41c7c4d19bef28f66b15dd0a4",
       "step": null,
       "style": "IPY_MODEL_c2a57e0efe7043f7885f5055f334cbf6",
       "value": 110
      }
     },
     "a4dc99cf93894287835171f072753c74": {
      "model_module": "@jupyter-widgets/controls",
      "model_module_version": "2.0.0",
      "model_name": "ButtonStyleModel",
      "state": {
       "font_family": null,
       "font_size": null,
       "font_style": null,
       "font_variant": null,
       "font_weight": null,
       "text_color": null,
       "text_decoration": null
      }
     },
     "a4e722aaaeeb4c2e85f93f110c25ee73": {
      "model_module": "@jupyter-widgets/base",
      "model_module_version": "2.0.0",
      "model_name": "LayoutModel",
      "state": {}
     },
     "a5218cf4ed464ccf91a4b1b2d370f429": {
      "model_module": "@jupyter-widgets/controls",
      "model_module_version": "2.0.0",
      "model_name": "ButtonModel",
      "state": {
       "description": "Add all peaks",
       "layout": "IPY_MODEL_ee445623309f4aa3867b62d1d2b987ff",
       "style": "IPY_MODEL_a4dc99cf93894287835171f072753c74",
       "tooltip": null
      }
     },
     "a59d2702a2714e42ab565927ed263aba": {
      "model_module": "@jupyter-widgets/base",
      "model_module_version": "2.0.0",
      "model_name": "LayoutModel",
      "state": {}
     },
     "a5a2040e44d7426aa66921baabfaba9c": {
      "model_module": "@jupyter-widgets/controls",
      "model_module_version": "2.0.0",
      "model_name": "DescriptionStyleModel",
      "state": {
       "description_width": ""
      }
     },
     "a5d05958e36247358a1d50db9b1a8fa3": {
      "model_module": "@jupyter-widgets/controls",
      "model_module_version": "2.0.0",
      "model_name": "ButtonModel",
      "state": {
       "description": "plot hist",
       "layout": "IPY_MODEL_a79de826b7c546068dd68ea37176c97f",
       "style": "IPY_MODEL_b1f084fd02f64a39ad23c089bc5e06e3",
       "tooltip": null
      }
     },
     "a5e0d3a663e04401aa112a7048b85066": {
      "model_module": "@jupyter-widgets/controls",
      "model_module_version": "2.0.0",
      "model_name": "DropdownModel",
      "state": {
       "_options_labels": [
        "True",
        "Flase"
       ],
       "description": "range_plot",
       "index": 0,
       "layout": "IPY_MODEL_6350a1752ced4519b3c50576d768e423",
       "style": "IPY_MODEL_6c498fecb195447a8dc595a97aa7eb91"
      }
     },
     "a5fb810d4fdb4835a2bfe5ecd8c1803d": {
      "model_module": "@jupyter-widgets/controls",
      "model_module_version": "2.0.0",
      "model_name": "HBoxModel",
      "state": {
       "children": [
        "IPY_MODEL_9b4b010980d8456199dbd81d524aa466",
        "IPY_MODEL_e0163e1fa7d448ab85404939882509d9"
       ],
       "layout": "IPY_MODEL_9a23859b07c74a6ea9d95ef42ff66ade"
      }
     },
     "a66e2453e837436fbd6f2f2f64c88126": {
      "model_module": "@jupyter-widgets/base",
      "model_module_version": "2.0.0",
      "model_name": "LayoutModel",
      "state": {}
     },
     "a72bfab5a80941489891655cdb4dbe13": {
      "model_module": "@jupyter-widgets/controls",
      "model_module_version": "2.0.0",
      "model_name": "DescriptionStyleModel",
      "state": {
       "description_width": ""
      }
     },
     "a79b4e02327d4e41b7ad53b5e50b0555": {
      "model_module": "@jupyter-widgets/controls",
      "model_module_version": "2.0.0",
      "model_name": "IntTextModel",
      "state": {
       "description": "num element:",
       "layout": "IPY_MODEL_9a3b1e41f5184b9795f6e98bcabb2019",
       "step": 1,
       "style": "IPY_MODEL_b89d261b59e44b3c801d6015a7685560",
       "value": 5
      }
     },
     "a79de826b7c546068dd68ea37176c97f": {
      "model_module": "@jupyter-widgets/base",
      "model_module_version": "2.0.0",
      "model_name": "LayoutModel",
      "state": {}
     },
     "a7cd1868754b4abeb65e76d74f9995b7": {
      "model_module": "@jupyter-widgets/controls",
      "model_module_version": "2.0.0",
      "model_name": "HBoxModel",
      "state": {
       "children": [
        "IPY_MODEL_1e0f2154d89748ab96867fd8d98e8fa7"
       ],
       "layout": "IPY_MODEL_540ba5fae3284306a56e7cee5a37aa1d"
      }
     },
     "a7d7fd0fca504167bf50a8c83c907daf": {
      "model_module": "@jupyter-widgets/base",
      "model_module_version": "2.0.0",
      "model_name": "LayoutModel",
      "state": {}
     },
     "a81ba0ed0a2c460bb1df6ff2220b26cf": {
      "model_module": "@jupyter-widgets/base",
      "model_module_version": "2.0.0",
      "model_name": "LayoutModel",
      "state": {}
     },
     "a8691217935c4aee9fb314b798b1e11f": {
      "model_module": "@jupyter-widgets/base",
      "model_module_version": "2.0.0",
      "model_name": "LayoutModel",
      "state": {}
     },
     "a8a8eb006df6498db4292408ba24d1eb": {
      "model_module": "@jupyter-widgets/base",
      "model_module_version": "2.0.0",
      "model_name": "LayoutModel",
      "state": {}
     },
     "a9c5d18570644551bb8d209b9ebbff1b": {
      "model_module": "@jupyter-widgets/controls",
      "model_module_version": "2.0.0",
      "model_name": "ButtonModel",
      "state": {
       "description": "find element",
       "layout": "IPY_MODEL_10bf122b77df40c195ec12bd937f1489",
       "style": "IPY_MODEL_29273a33b0144a7fac5a17a4e1410316",
       "tooltip": null
      }
     },
     "aa4c4dde5f764930bf6477118a1b0097": {
      "model_module": "@jupyter-widgets/controls",
      "model_module_version": "2.0.0",
      "model_name": "ButtonModel",
      "state": {
       "description": "Previous",
       "layout": "IPY_MODEL_e3d8bb6eabb04c248abf711f80cc4b4a",
       "style": "IPY_MODEL_3db48ea9bff4418abba82b67ef1152a9",
       "tooltip": null
      }
     },
     "ab5eac108e8e4ba5b32d5bb672f5f6c6": {
      "model_module": "@jupyter-widgets/base",
      "model_module_version": "2.0.0",
      "model_name": "LayoutModel",
      "state": {}
     },
     "abadc58f09fb4d87a031e0bb11e72e5f": {
      "model_module": "@jupyter-widgets/controls",
      "model_module_version": "2.0.0",
      "model_name": "HBoxModel",
      "state": {
       "children": [
        "IPY_MODEL_f602ec26557c455c9ecc769d1f676d48",
        "IPY_MODEL_7023b2b1803245bf94427153d709a3dc",
        "IPY_MODEL_c855f295309b47a9899936f4c1f32ee2"
       ],
       "layout": "IPY_MODEL_a7d7fd0fca504167bf50a8c83c907daf"
      }
     },
     "abc75fdfe4b44b799607948108a7dfbc": {
      "model_module": "@jupyter-widgets/controls",
      "model_module_version": "2.0.0",
      "model_name": "IntTextModel",
      "state": {
       "description": "lim tof/mc:",
       "layout": "IPY_MODEL_34a7045e9d2d4fbe9e0473d10690e0a3",
       "step": 1,
       "style": "IPY_MODEL_21392c0a918c4ecf8ddd55c8d42a8daa",
       "value": 400
      }
     },
     "ac5510d6f1b347ff9df4f45e81ce155a": {
      "model_module": "@jupyter-widgets/base",
      "model_module_version": "2.0.0",
      "model_name": "LayoutModel",
      "state": {}
     },
     "ac57d4cf01904265abcc3d17e9bd197a": {
      "model_module": "@jupyter-widgets/controls",
      "model_module_version": "2.0.0",
      "model_name": "HBoxModel",
      "state": {
       "children": [
        "IPY_MODEL_ff2e6248cc6d473694e3eb49ad2acc40",
        "IPY_MODEL_841f0bd76bae404f9c3083591ccefeda",
        "IPY_MODEL_79c2500359ca46bcbe65a264ceb4dc1a"
       ],
       "layout": "IPY_MODEL_02ec4e8ea6134b4d92dd4c394793cefe"
      }
     },
     "ad1697b98f6644b0ae328ffe0cf72e96": {
      "model_module": "@jupyter-widgets/controls",
      "model_module_version": "2.0.0",
      "model_name": "ButtonStyleModel",
      "state": {
       "font_family": null,
       "font_size": null,
       "font_style": null,
       "font_variant": null,
       "font_weight": null,
       "text_color": null,
       "text_decoration": null
      }
     },
     "ad2ce88d6bc943ddb7576aa78e007abc": {
      "model_module": "@jupyter-widgets/controls",
      "model_module_version": "2.0.0",
      "model_name": "VBoxModel",
      "state": {
       "children": [
        "IPY_MODEL_3ff03cff15ca42cfafa642b0bfaf3315",
        "IPY_MODEL_228ac3486ec4458dae5bd3e894f9b726",
        "IPY_MODEL_de7b0c0796684813aced7f60c8f65c7b",
        "IPY_MODEL_cff0e55544114715ac7b781bf469a259",
        "IPY_MODEL_fd23d3fd7acd4fc18a32315c21414673"
       ],
       "layout": "IPY_MODEL_1e5fe743c9c4472b8bafe068d3a721e3"
      }
     },
     "ad7d59313fce4d56b88f275594aec62d": {
      "model_module": "@jupyter-widgets/base",
      "model_module_version": "2.0.0",
      "model_name": "LayoutModel",
      "state": {}
     },
     "ade0031732c34871ac5fe4fc2257a2c7": {
      "model_module": "@jupyter-widgets/controls",
      "model_module_version": "2.0.0",
      "model_name": "VBoxModel",
      "state": {
       "children": [
        "IPY_MODEL_428f1f47cad248b187cd3a6db569e4fd",
        "IPY_MODEL_46c743551f1f4e578daab7c961223239",
        "IPY_MODEL_4f882fda55874975b107b3eb23252742",
        "IPY_MODEL_aa4c4dde5f764930bf6477118a1b0097",
        "IPY_MODEL_1d23bdb5a6e24bb49ba496b6d4b27dd3"
       ],
       "layout": "IPY_MODEL_bf614518d01b47f581961e2c40b47766"
      }
     },
     "adfa934fb9214f9a82112fdaf7a5b27f": {
      "model_module": "@jupyter-widgets/base",
      "model_module_version": "2.0.0",
      "model_name": "LayoutModel",
      "state": {}
     },
     "ae27b98679684749aeec2af0ca2930bc": {
      "model_module": "@jupyter-widgets/base",
      "model_module_version": "2.0.0",
      "model_name": "LayoutModel",
      "state": {}
     },
     "ae3de8aac0bb478b8ca6dea4c6ecbcb4": {
      "model_module": "@jupyter-widgets/controls",
      "model_module_version": "2.0.0",
      "model_name": "ButtonModel",
      "state": {
       "description": "remove ion",
       "layout": "IPY_MODEL_14d9ba36775b49bd946cd363547749e2",
       "style": "IPY_MODEL_d91e13bd46114a10a36507cf367615ab",
       "tooltip": null
      }
     },
     "ae47e7bef849424eab09453c3b98c405": {
      "model_module": "@jupyter-widgets/base",
      "model_module_version": "2.0.0",
      "model_name": "LayoutModel",
      "state": {}
     },
     "ae588cccb45a48188b25c90713d02713": {
      "model_module": "@jupyter-widgets/controls",
      "model_module_version": "2.0.0",
      "model_name": "VBoxModel",
      "state": {
       "children": [
        "IPY_MODEL_2b55fe5f010c464891f993032eccdaba",
        "IPY_MODEL_2054726045aa48bca6158b5777b9a3bd",
        "IPY_MODEL_9f5575e61d694bb19710c25de515d74b",
        "IPY_MODEL_6c7622172d614e599d15d8a77f48b3c3",
        "IPY_MODEL_d22ac604b4f640b0a91861a2d3d77b3a",
        "IPY_MODEL_ce4106808b434a80ae7ad7172453be93"
       ],
       "layout": "IPY_MODEL_b732980709dd491eae03d8e50b4aed13"
      }
     },
     "ae58b5efa4f14718b970f8a7dc8b4c77": {
      "model_module": "@jupyter-widgets/controls",
      "model_module_version": "2.0.0",
      "model_name": "DescriptionStyleModel",
      "state": {
       "description_width": ""
      }
     },
     "aeb4db7cdcf64099b2e56b272ba31da4": {
      "model_module": "@jupyter-widgets/base",
      "model_module_version": "2.0.0",
      "model_name": "LayoutModel",
      "state": {}
     },
     "aed228dbc48e4616ad66ab489383228e": {
      "model_module": "@jupyter-widgets/controls",
      "model_module_version": "2.0.0",
      "model_name": "VBoxModel",
      "state": {
       "children": [
        "IPY_MODEL_55f1992e5aae436987c1b5939a3e8f92",
        "IPY_MODEL_da379e763d484708aa887acab56f56f9"
       ],
       "layout": "IPY_MODEL_1d8527d0cecb40578853cd397e2a1751"
      }
     },
     "af02f058943c45a3bbba61f93ff4995c": {
      "model_module": "@jupyter-widgets/controls",
      "model_module_version": "2.0.0",
      "model_name": "ButtonStyleModel",
      "state": {
       "font_family": null,
       "font_size": null,
       "font_style": null,
       "font_variant": null,
       "font_weight": null,
       "text_color": null,
       "text_decoration": null
      }
     },
     "af904a1ec5204290a5bcbdaea8b735c9": {
      "model_module": "@jupyter-widgets/base",
      "model_module_version": "2.0.0",
      "model_name": "LayoutModel",
      "state": {}
     },
     "b051e5dc0ed0438b91104712d468129d": {
      "model_module": "@jupyter-widgets/controls",
      "model_module_version": "2.0.0",
      "model_name": "ButtonModel",
      "state": {
       "description": "remove ion",
       "layout": "IPY_MODEL_40ee1f02690e4ad2af6d8d5a38e517c1",
       "style": "IPY_MODEL_0fd3c08a31b64d878c0a5bdb2634bbbb",
       "tooltip": null
      }
     },
     "b0631389072546ea803448efe8071a4d": {
      "model_module": "@jupyter-widgets/controls",
      "model_module_version": "2.0.0",
      "model_name": "DescriptionStyleModel",
      "state": {
       "description_width": ""
      }
     },
     "b10409e9b9204c988addb931a90452cd": {
      "model_module": "@jupyter-widgets/controls",
      "model_module_version": "2.0.0",
      "model_name": "ButtonModel",
      "state": {
       "description": "remove ion",
       "layout": "IPY_MODEL_a1516819fb294495a3e331bfcadff230",
       "style": "IPY_MODEL_c58d17fa2039453f8782148596083a10",
       "tooltip": null
      }
     },
     "b137e4e86e384d128980b506c4a1e027": {
      "model_module": "@jupyter-widgets/base",
      "model_module_version": "2.0.0",
      "model_name": "LayoutModel",
      "state": {}
     },
     "b14415258c7b4697ada2092861bb8228": {
      "model_module": "@jupyter-widgets/controls",
      "model_module_version": "2.0.0",
      "model_name": "ButtonStyleModel",
      "state": {
       "font_family": null,
       "font_size": null,
       "font_style": null,
       "font_variant": null,
       "font_weight": null,
       "text_color": null,
       "text_decoration": null
      }
     },
     "b15ebe68febf42c496b3651dddbb8bb6": {
      "model_module": "@jupyter-widgets/controls",
      "model_module_version": "2.0.0",
      "model_name": "ButtonStyleModel",
      "state": {
       "font_family": null,
       "font_size": null,
       "font_style": null,
       "font_variant": null,
       "font_weight": null,
       "text_color": null,
       "text_decoration": null
      }
     },
     "b18faa1113ec4bba875c6ecdeb220622": {
      "model_module": "@jupyter-widgets/controls",
      "model_module_version": "2.0.0",
      "model_name": "HBoxModel",
      "state": {
       "children": [
        "IPY_MODEL_55f76267a3ac435c978336e319b98ba3",
        "IPY_MODEL_2dfa090bdb1644e1b70137fa6a181804"
       ],
       "layout": "IPY_MODEL_3cba3f6fd6b04649ae06f55a2c29b282"
      }
     },
     "b1b5ba0d657442d7896328db2aeb1abb": {
      "model_module": "@jupyter-widgets/controls",
      "model_module_version": "2.0.0",
      "model_name": "ButtonStyleModel",
      "state": {
       "font_family": null,
       "font_size": null,
       "font_style": null,
       "font_variant": null,
       "font_weight": null,
       "text_color": null,
       "text_decoration": null
      }
     },
     "b1f084fd02f64a39ad23c089bc5e06e3": {
      "model_module": "@jupyter-widgets/controls",
      "model_module_version": "2.0.0",
      "model_name": "ButtonStyleModel",
      "state": {
       "font_family": null,
       "font_size": null,
       "font_style": null,
       "font_variant": null,
       "font_weight": null,
       "text_color": null,
       "text_decoration": null
      }
     },
     "b234e0c20f6f4ee8b9fa6fc2d2c3524f": {
      "model_module": "@jupyter-widgets/base",
      "model_module_version": "2.0.0",
      "model_name": "LayoutModel",
      "state": {}
     },
     "b263b87ad39a4e58838fcc69285b65a2": {
      "model_module": "@jupyter-widgets/base",
      "model_module_version": "2.0.0",
      "model_name": "LayoutModel",
      "state": {}
     },
     "b2bde0d149d04569b2f9891ce20b2bc0": {
      "model_module": "@jupyter-widgets/output",
      "model_module_version": "1.0.0",
      "model_name": "OutputModel",
      "state": {
       "layout": "IPY_MODEL_2367bc89d35e4552a5efeb43e8fdecf6"
      }
     },
     "b2e3a7d7c2af42059160b846a7f06b33": {
      "model_module": "@jupyter-widgets/base",
      "model_module_version": "2.0.0",
      "model_name": "LayoutModel",
      "state": {}
     },
     "b30d920602cf426faf11c0baf558f638": {
      "model_module": "@jupyter-widgets/base",
      "model_module_version": "2.0.0",
      "model_name": "LayoutModel",
      "state": {}
     },
     "b472490ebfa94b6b8d8c33ca70d3ce91": {
      "model_module": "@jupyter-widgets/base",
      "model_module_version": "2.0.0",
      "model_name": "LayoutModel",
      "state": {}
     },
     "b47b1514ecf04655a175efa74cdeb88b": {
      "model_module": "@jupyter-widgets/base",
      "model_module_version": "2.0.0",
      "model_name": "LayoutModel",
      "state": {}
     },
     "b4f7f86ca90f436eb75bfef08cdcf088": {
      "model_module": "@jupyter-widgets/output",
      "model_module_version": "1.0.0",
      "model_name": "OutputModel",
      "state": {
       "layout": "IPY_MODEL_66986769313247cf9c7ebbbd32742a43",
       "outputs": [
        {
         "data": {
          "text/html": "<div>\n<style scoped>\n    .dataframe tbody tr th:only-of-type {\n        vertical-align: middle;\n    }\n\n    .dataframe tbody tr th {\n        vertical-align: top;\n    }\n\n    .dataframe thead th {\n        text-align: right;\n    }\n</style>\n<table border=\"1\" class=\"dataframe\">\n  <thead>\n    <tr style=\"text-align: right;\">\n      <th></th>\n      <th>ion</th>\n      <th>mass</th>\n      <th>mc</th>\n      <th>mc_low</th>\n      <th>mc_up</th>\n      <th>color</th>\n      <th>element</th>\n      <th>complex</th>\n      <th>isotope</th>\n      <th>charge</th>\n    </tr>\n  </thead>\n  <tbody>\n  </tbody>\n</table>\n</div>",
          "text/plain": "Empty DataFrame\nColumns: [ion, mass, mc, mc_low, mc_up, color, element, complex, isotope, charge]\nIndex: []"
         },
         "metadata": {},
         "output_type": "display_data"
        }
       ]
      }
     },
     "b501ab1a9e6a40b6b8b71b5f56007e45": {
      "model_module": "@jupyter-widgets/base",
      "model_module_version": "2.0.0",
      "model_name": "LayoutModel",
      "state": {}
     },
     "b58b6dff853b4cbc9d4ecd44e023a6e0": {
      "model_module": "@jupyter-widgets/controls",
      "model_module_version": "2.0.0",
      "model_name": "DropdownModel",
      "state": {
       "_options_labels": [
        "True",
        "False"
       ],
       "description": "plot peak:",
       "index": 0,
       "layout": "IPY_MODEL_9e94a881478446c4ba910808d80dbf88",
       "style": "IPY_MODEL_a5a2040e44d7426aa66921baabfaba9c"
      }
     },
     "b58e1efb1abc476e9fd21a78127ffe49": {
      "model_module": "@jupyter-widgets/output",
      "model_module_version": "1.0.0",
      "model_name": "OutputModel",
      "state": {
       "layout": "IPY_MODEL_ed054bb138b5434580cca23e7cfdabff"
      }
     },
     "b5a696006bc7447b9847916b3bef1103": {
      "model_module": "@jupyter-widgets/controls",
      "model_module_version": "2.0.0",
      "model_name": "ButtonModel",
      "state": {
       "description": "plot hist",
       "layout": "IPY_MODEL_6b5e7094d47a41f4889c383d1dc98987",
       "style": "IPY_MODEL_af02f058943c45a3bbba61f93ff4995c",
       "tooltip": null
      }
     },
     "b60dbc32e1ec4dcfbaf6240b60a6b373": {
      "model_module": "@jupyter-widgets/output",
      "model_module_version": "1.0.0",
      "model_name": "OutputModel",
      "state": {
       "layout": "IPY_MODEL_6aec4ebe889a41caacca44b806e859e0"
      }
     },
     "b66eb504687244998ef0b917c673ded9": {
      "model_module": "@jupyter-widgets/controls",
      "model_module_version": "2.0.0",
      "model_name": "DescriptionStyleModel",
      "state": {
       "description_width": ""
      }
     },
     "b675772f20ac457191ef25f3443247bc": {
      "model_module": "@jupyter-widgets/controls",
      "model_module_version": "2.0.0",
      "model_name": "FloatTextModel",
      "state": {
       "description": "unknown mass:",
       "layout": "IPY_MODEL_68bc652df9604893a3151a8f07709060",
       "step": null,
       "style": "IPY_MODEL_dddee575658341208cf57a72a5e9bc6c"
      }
     },
     "b6c309daff0e40d4bdd8f0c388baec07": {
      "model_module": "@jupyter-widgets/controls",
      "model_module_version": "2.0.0",
      "model_name": "ButtonModel",
      "state": {
       "description": "change color",
       "layout": "IPY_MODEL_be44961cd6ac4fa2a9ab647b458d51f3",
       "style": "IPY_MODEL_5b8e16cd18754de2a82f51fe3678e035",
       "tooltip": null
      }
     },
     "b6f6800e8938406e88f07a529580e303": {
      "model_module": "@jupyter-widgets/base",
      "model_module_version": "2.0.0",
      "model_name": "LayoutModel",
      "state": {}
     },
     "b72f6bd22e884b94a9e9cb6fca8732e0": {
      "model_module": "@jupyter-widgets/controls",
      "model_module_version": "2.0.0",
      "model_name": "ButtonModel",
      "state": {
       "description": "plot hist",
       "layout": "IPY_MODEL_586b1595a49a40988f03cf31096628c5",
       "style": "IPY_MODEL_199d95570ca947dd8ea922ea585d64d5",
       "tooltip": null
      }
     },
     "b732980709dd491eae03d8e50b4aed13": {
      "model_module": "@jupyter-widgets/base",
      "model_module_version": "2.0.0",
      "model_name": "LayoutModel",
      "state": {}
     },
     "b7964a5ed42e4bbb8a0acd944e809e02": {
      "model_module": "@jupyter-widgets/controls",
      "model_module_version": "2.0.0",
      "model_name": "VBoxModel",
      "state": {
       "children": [
        "IPY_MODEL_2b55fe5f010c464891f993032eccdaba",
        "IPY_MODEL_2054726045aa48bca6158b5777b9a3bd",
        "IPY_MODEL_9f5575e61d694bb19710c25de515d74b",
        "IPY_MODEL_6c7622172d614e599d15d8a77f48b3c3",
        "IPY_MODEL_d22ac604b4f640b0a91861a2d3d77b3a",
        "IPY_MODEL_4300711452554d43a45b8f9ca155a827"
       ],
       "layout": "IPY_MODEL_e30d749677ce48efbb27f5f45369bf08"
      }
     },
     "b7e1efbdbc0c4462a698415eb7dc8084": {
      "model_module": "@jupyter-widgets/controls",
      "model_module_version": "2.0.0",
      "model_name": "VBoxModel",
      "state": {
       "children": [
        "IPY_MODEL_09ef16dad5264c43976147cf8aec9796",
        "IPY_MODEL_44264a4d88be4b2186895989eefc64e0",
        "IPY_MODEL_948ab235f4e5463d98b2f6ca8843d740"
       ],
       "layout": "IPY_MODEL_71f8937ce39e45b1a2d9301b012d185d"
      }
     },
     "b8059b17900642bfb5fa5a7ab1b0c351": {
      "model_module": "@jupyter-widgets/controls",
      "model_module_version": "2.0.0",
      "model_name": "ButtonModel",
      "state": {
       "description": "manual formula",
       "layout": "IPY_MODEL_0270d942a6b9497ab68337edd4005aad",
       "style": "IPY_MODEL_ad1697b98f6644b0ae328ffe0cf72e96",
       "tooltip": null
      }
     },
     "b89d261b59e44b3c801d6015a7685560": {
      "model_module": "@jupyter-widgets/controls",
      "model_module_version": "2.0.0",
      "model_name": "DescriptionStyleModel",
      "state": {
       "description_width": ""
      }
     },
     "ba520168a1214bd58cd9ad864e7a8baf": {
      "model_module": "@jupyter-widgets/base",
      "model_module_version": "2.0.0",
      "model_name": "LayoutModel",
      "state": {}
     },
     "ba96fba1d20041e089ef27ce0e328853": {
      "model_module": "@jupyter-widgets/controls",
      "model_module_version": "2.0.0",
      "model_name": "TabModel",
      "state": {
       "children": [
        "IPY_MODEL_99e88c9300754f7093fafae6a724afa8"
       ],
       "layout": "IPY_MODEL_c665c42dc0c64e86b7cddd21be944395",
       "selected_index": 0,
       "titles": [
        "element finder"
       ]
      }
     },
     "ba9b18df38bf4904a69f99a0660dd51d": {
      "model_module": "@jupyter-widgets/controls",
      "model_module_version": "2.0.0",
      "model_name": "VBoxModel",
      "state": {
       "children": [
        "IPY_MODEL_7da1e4a6c8d649d9aa340cc2acfe90ee"
       ],
       "layout": "IPY_MODEL_ab5eac108e8e4ba5b32d5bb672f5f6c6"
      }
     },
     "baaee5eee59a45af8d828da1d30c5db2": {
      "model_module": "@jupyter-widgets/controls",
      "model_module_version": "2.0.0",
      "model_name": "DescriptionStyleModel",
      "state": {
       "description_width": ""
      }
     },
     "bb72a7fb99e94072a3c40198d2cf76f3": {
      "model_module": "@jupyter-widgets/base",
      "model_module_version": "2.0.0",
      "model_name": "LayoutModel",
      "state": {}
     },
     "bca9b676474b4907b09bc24a6b42e521": {
      "model_module": "@jupyter-widgets/base",
      "model_module_version": "2.0.0",
      "model_name": "LayoutModel",
      "state": {}
     },
     "bd27e5482ca846e39361fe7f82d34a8d": {
      "model_module": "@jupyter-widgets/controls",
      "model_module_version": "2.0.0",
      "model_name": "ButtonModel",
      "state": {
       "description": "manual formula",
       "layout": "IPY_MODEL_47970053b23d4c14ac17af44c94a2498",
       "style": "IPY_MODEL_03811e5d251f443e86ec571c3e92f93d",
       "tooltip": null
      }
     },
     "bd34c9d57faa4d82b4529fa3e8c614da": {
      "model_module": "@jupyter-widgets/controls",
      "model_module_version": "2.0.0",
      "model_name": "ButtonModel",
      "state": {
       "description": "add ion",
       "layout": "IPY_MODEL_1a717de76dec45b7a9915c0784dedd8e",
       "style": "IPY_MODEL_36842f4b558f4adea44d03f4d6b4848a",
       "tooltip": null
      }
     },
     "bd803e6b727f42f2bc60d1e568abb016": {
      "model_module": "@jupyter-widgets/base",
      "model_module_version": "2.0.0",
      "model_name": "LayoutModel",
      "state": {}
     },
     "be44961cd6ac4fa2a9ab647b458d51f3": {
      "model_module": "@jupyter-widgets/base",
      "model_module_version": "2.0.0",
      "model_name": "LayoutModel",
      "state": {}
     },
     "bf614518d01b47f581961e2c40b47766": {
      "model_module": "@jupyter-widgets/base",
      "model_module_version": "2.0.0",
      "model_name": "LayoutModel",
      "state": {}
     },
     "c011368b561448b8ae22202cb796741c": {
      "model_module": "@jupyter-widgets/base",
      "model_module_version": "2.0.0",
      "model_name": "LayoutModel",
      "state": {}
     },
     "c05e0b94088b466eaa1510d7bd62b4dc": {
      "model_module": "@jupyter-widgets/controls",
      "model_module_version": "2.0.0",
      "model_name": "HBoxModel",
      "state": {
       "children": [
        "IPY_MODEL_e19df913cfa2477989f050480115f179",
        "IPY_MODEL_fee4039389a04ad4b323b3b606dbc3bf"
       ],
       "layout": "IPY_MODEL_1c403b796de0409f9ac0862adcd799c2"
      }
     },
     "c0d43a225bf74fabad5420037d60404d": {
      "model_module": "@jupyter-widgets/base",
      "model_module_version": "2.0.0",
      "model_name": "LayoutModel",
      "state": {}
     },
     "c150f404ea334488bdee3c3140fd4d2f": {
      "model_module": "@jupyter-widgets/controls",
      "model_module_version": "2.0.0",
      "model_name": "ButtonStyleModel",
      "state": {
       "font_family": null,
       "font_size": null,
       "font_style": null,
       "font_variant": null,
       "font_weight": null,
       "text_color": null,
       "text_decoration": null
      }
     },
     "c1b9dd77f72042a992ac48bb319dc11d": {
      "model_module": "@jupyter-widgets/controls",
      "model_module_version": "2.0.0",
      "model_name": "ButtonModel",
      "state": {
       "description": "plot hist",
       "layout": "IPY_MODEL_404f803cf22d4ef0bf06d6fb40a7b685",
       "style": "IPY_MODEL_323d8e66ccc645e4a293935e0d174f54",
       "tooltip": null
      }
     },
     "c1cadbfb353445dc843174645dcff304": {
      "model_module": "@jupyter-widgets/base",
      "model_module_version": "2.0.0",
      "model_name": "LayoutModel",
      "state": {}
     },
     "c213cee6e6f747198254f600a3c0a8b0": {
      "model_module": "@jupyter-widgets/output",
      "model_module_version": "1.0.0",
      "model_name": "OutputModel",
      "state": {
       "layout": "IPY_MODEL_e082a5ea4db842189358aa92dc67ecb1",
       "outputs": [
        {
         "data": {
          "text/html": "<div>\n<style scoped>\n    .dataframe tbody tr th:only-of-type {\n        vertical-align: middle;\n    }\n\n    .dataframe tbody tr th {\n        vertical-align: top;\n    }\n\n    .dataframe thead th {\n        text-align: right;\n    }\n</style>\n<table border=\"1\" class=\"dataframe\">\n  <thead>\n    <tr style=\"text-align: right;\">\n      <th></th>\n      <th>ion</th>\n      <th>mass</th>\n      <th>element</th>\n      <th>complex</th>\n      <th>isotope</th>\n      <th>charge</th>\n      <th>abundance</th>\n    </tr>\n  </thead>\n  <tbody>\n    <tr>\n      <th>0</th>\n      <td>${}^{1}H^{+}$</td>\n      <td>1.0100</td>\n      <td>[H]</td>\n      <td>1</td>\n      <td>[1]</td>\n      <td>1</td>\n      <td>99.9850</td>\n    </tr>\n    <tr>\n      <th>1</th>\n      <td>${}^{1}H_{3}^{3+}$</td>\n      <td>1.0100</td>\n      <td>[H]</td>\n      <td>[3]</td>\n      <td>[1]</td>\n      <td>3</td>\n      <td>0.9996</td>\n    </tr>\n    <tr>\n      <th>2</th>\n      <td>${}^{2}H^{2+}$</td>\n      <td>1.0050</td>\n      <td>[H]</td>\n      <td>1</td>\n      <td>[2]</td>\n      <td>2</td>\n      <td>0.0150</td>\n    </tr>\n    <tr>\n      <th>3</th>\n      <td>$({}^{2}H{}^{1}H{}^{1}H)^{3+}$</td>\n      <td>1.3433</td>\n      <td>[H, H, H]</td>\n      <td>[1, 1, 1]</td>\n      <td>[2, 1, 1]</td>\n      <td>3</td>\n      <td>0.0001</td>\n    </tr>\n    <tr>\n      <th>4</th>\n      <td>$({}^{1}H_{2}{}^{2}H)^{3+}$</td>\n      <td>1.3433</td>\n      <td>[H, H]</td>\n      <td>[2, 1]</td>\n      <td>[1, 2]</td>\n      <td>3</td>\n      <td>0.0001</td>\n    </tr>\n    <tr>\n      <th>...</th>\n      <td>...</td>\n      <td>...</td>\n      <td>...</td>\n      <td>...</td>\n      <td>...</td>\n      <td>...</td>\n      <td>...</td>\n    </tr>\n    <tr>\n      <th>661</th>\n      <td>${}^{27}Al_{2}{}^{17}O$</td>\n      <td>70.9600</td>\n      <td>[Al, O]</td>\n      <td>[2, 1]</td>\n      <td>[27, 17]</td>\n      <td>1</td>\n      <td>0.0004</td>\n    </tr>\n    <tr>\n      <th>662</th>\n      <td>${}^{27}Al_{2}{}^{18}O$</td>\n      <td>71.9600</td>\n      <td>[Al, O]</td>\n      <td>[2, 1]</td>\n      <td>[27, 18]</td>\n      <td>1</td>\n      <td>0.0020</td>\n    </tr>\n    <tr>\n      <th>663</th>\n      <td>${}^{18}O{}^{27}Al_{2}$</td>\n      <td>71.9600</td>\n      <td>[O, Al]</td>\n      <td>[1, 2]</td>\n      <td>[18, 27]</td>\n      <td>1</td>\n      <td>0.0020</td>\n    </tr>\n    <tr>\n      <th>664</th>\n      <td>${}^{27}Al_{2}{}^{18}O$</td>\n      <td>71.9600</td>\n      <td>[Al, O]</td>\n      <td>[2, 1]</td>\n      <td>[27, 18]</td>\n      <td>1</td>\n      <td>0.0020</td>\n    </tr>\n    <tr>\n      <th>665</th>\n      <td>${}^{27}Al_{3}$</td>\n      <td>80.9400</td>\n      <td>[Al]</td>\n      <td>[3]</td>\n      <td>[27]</td>\n      <td>1</td>\n      <td>1.0000</td>\n    </tr>\n  </tbody>\n</table>\n<p>666 rows × 7 columns</p>\n</div>",
          "text/plain": "                                ion     mass    element    complex    isotope  \\\n0                     ${}^{1}H^{+}$   1.0100        [H]          1        [1]   \n1                ${}^{1}H_{3}^{3+}$   1.0100        [H]        [3]        [1]   \n2                    ${}^{2}H^{2+}$   1.0050        [H]          1        [2]   \n3    $({}^{2}H{}^{1}H{}^{1}H)^{3+}$   1.3433  [H, H, H]  [1, 1, 1]  [2, 1, 1]   \n4       $({}^{1}H_{2}{}^{2}H)^{3+}$   1.3433     [H, H]     [2, 1]     [1, 2]   \n..                              ...      ...        ...        ...        ...   \n661         ${}^{27}Al_{2}{}^{17}O$  70.9600    [Al, O]     [2, 1]   [27, 17]   \n662         ${}^{27}Al_{2}{}^{18}O$  71.9600    [Al, O]     [2, 1]   [27, 18]   \n663         ${}^{18}O{}^{27}Al_{2}$  71.9600    [O, Al]     [1, 2]   [18, 27]   \n664         ${}^{27}Al_{2}{}^{18}O$  71.9600    [Al, O]     [2, 1]   [27, 18]   \n665                 ${}^{27}Al_{3}$  80.9400       [Al]        [3]       [27]   \n\n     charge  abundance  \n0         1    99.9850  \n1         3     0.9996  \n2         2     0.0150  \n3         3     0.0001  \n4         3     0.0001  \n..      ...        ...  \n661       1     0.0004  \n662       1     0.0020  \n663       1     0.0020  \n664       1     0.0020  \n665       1     1.0000  \n\n[666 rows x 7 columns]"
         },
         "metadata": {},
         "output_type": "display_data"
        }
       ]
      }
     },
     "c2a57e0efe7043f7885f5055f334cbf6": {
      "model_module": "@jupyter-widgets/controls",
      "model_module_version": "2.0.0",
      "model_name": "DescriptionStyleModel",
      "state": {
       "description_width": ""
      }
     },
     "c3d75155d3944f7682a8e5dc275900b2": {
      "model_module": "@jupyter-widgets/controls",
      "model_module_version": "2.0.0",
      "model_name": "ButtonStyleModel",
      "state": {
       "font_family": null,
       "font_size": null,
       "font_style": null,
       "font_variant": null,
       "font_weight": null,
       "text_color": null,
       "text_decoration": null
      }
     },
     "c4539b31629c4626bd81ddde38a03f2a": {
      "model_module": "@jupyter-widgets/controls",
      "model_module_version": "2.0.0",
      "model_name": "ButtonModel",
      "state": {
       "description": "Reset",
       "layout": "IPY_MODEL_07a56e4f217a489b958ef9478877a55c",
       "style": "IPY_MODEL_21753f7a8fd745bd961b26e8bb75cb9a",
       "tooltip": null
      }
     },
     "c453d01b3d0545438ca972953365d0ae": {
      "model_module": "@jupyter-widgets/controls",
      "model_module_version": "2.0.0",
      "model_name": "VBoxModel",
      "state": {
       "children": [
        "IPY_MODEL_0980a2a93ceb4e46bc036161ff700f2c",
        "IPY_MODEL_687ea5cc49ca4bd8b22bb27073b2a3f2",
        "IPY_MODEL_ca052d9e54e94adcb6c407aa78e3c759",
        "IPY_MODEL_56298ce13552415a8301e7934bae3456",
        "IPY_MODEL_abc75fdfe4b44b799607948108a7dfbc",
        "IPY_MODEL_eda9c737d29d4964939b92123cb5e558",
        "IPY_MODEL_b58b6dff853b4cbc9d4ecd44e023a6e0",
        "IPY_MODEL_d5a27601f7ad46aba214a0411de01689"
       ],
       "layout": "IPY_MODEL_3c84ab79d32b46779cf5e745259945ef"
      }
     },
     "c4a6ffb79ac54a47beeaab06ea0950de": {
      "model_module": "@jupyter-widgets/controls",
      "model_module_version": "2.0.0",
      "model_name": "DescriptionStyleModel",
      "state": {
       "description_width": ""
      }
     },
     "c4c220fcb1d84233bc8b614fdc68787f": {
      "model_module": "@jupyter-widgets/base",
      "model_module_version": "2.0.0",
      "model_name": "LayoutModel",
      "state": {}
     },
     "c58d17fa2039453f8782148596083a10": {
      "model_module": "@jupyter-widgets/controls",
      "model_module_version": "2.0.0",
      "model_name": "ButtonStyleModel",
      "state": {
       "font_family": null,
       "font_size": null,
       "font_style": null,
       "font_variant": null,
       "font_weight": null,
       "text_color": null,
       "text_decoration": null
      }
     },
     "c5c8782f8c3248f882860cc1a27a7cd4": {
      "model_module": "@jupyter-widgets/controls",
      "model_module_version": "2.0.0",
      "model_name": "TabModel",
      "state": {
       "children": [
        "IPY_MODEL_46e0d68ac3884f9892cb3998fe545e41"
       ],
       "layout": "IPY_MODEL_298a29a273924178b7716168a41f75ee",
       "selected_index": 0,
       "titles": [
        "element finder"
       ]
      }
     },
     "c626e302ee5a4039bab929ec16b89f7f": {
      "model_module": "@jupyter-widgets/output",
      "model_module_version": "1.0.0",
      "model_name": "OutputModel",
      "state": {
       "layout": "IPY_MODEL_4444ba949303478e90ec86a3f7a94313"
      }
     },
     "c665c42dc0c64e86b7cddd21be944395": {
      "model_module": "@jupyter-widgets/base",
      "model_module_version": "2.0.0",
      "model_name": "LayoutModel",
      "state": {}
     },
     "c6f817e2370a443abe7e9f6642e6a04f": {
      "model_module": "@jupyter-widgets/base",
      "model_module_version": "2.0.0",
      "model_name": "LayoutModel",
      "state": {}
     },
     "c75f9dc38d86472180ad3f36c0f555dd": {
      "model_module": "@jupyter-widgets/controls",
      "model_module_version": "2.0.0",
      "model_name": "VBoxModel",
      "state": {
       "children": [
        "IPY_MODEL_09ef16dad5264c43976147cf8aec9796",
        "IPY_MODEL_44264a4d88be4b2186895989eefc64e0",
        "IPY_MODEL_3ce2262fca2745f3b918d2b142228b98"
       ],
       "layout": "IPY_MODEL_ae47e7bef849424eab09453c3b98c405"
      }
     },
     "c814bdb3ccbb45d39c36147b41332fcc": {
      "model_module": "@jupyter-widgets/controls",
      "model_module_version": "2.0.0",
      "model_name": "VBoxModel",
      "state": {
       "_dom_classes": [
        "widget-interact"
       ],
       "children": [
        "IPY_MODEL_eb9d13fd35ba4a23b2aa77b4492a6894",
        "IPY_MODEL_6296d249192042f6a3ebe15facf2265f",
        "IPY_MODEL_2214a621d30d422d86bcb237f950b161",
        "IPY_MODEL_1a1fa306e08049008fc80f8d2650af87",
        "IPY_MODEL_45d6d9b907c943be9e9da576315ca1b9",
        "IPY_MODEL_4a85dba6e2524859ae2db1bb85704ef1",
        "IPY_MODEL_0f935466aeb844abac34a7c0b4409ed7",
        "IPY_MODEL_05a667d1a7cf4c6793b367452a004ae7",
        "IPY_MODEL_2cb38f3406564765bcd4dfa309cd833a",
        "IPY_MODEL_6811f67afdba48fe82f636dddc542f44",
        "IPY_MODEL_a5e0d3a663e04401aa112a7048b85066",
        "IPY_MODEL_631b4ad6ea1c438f98ffd47ee26df88a",
        "IPY_MODEL_0620732b49d945168d5b5faf55ec577a",
        "IPY_MODEL_44b29c01f8374ffd9ac30a34dd8a0e24",
        "IPY_MODEL_df79d386213d4f4c90c1e47a34d192bc"
       ],
       "layout": "IPY_MODEL_bca9b676474b4907b09bc24a6b42e521"
      }
     },
     "c855f295309b47a9899936f4c1f32ee2": {
      "model_module": "@jupyter-widgets/controls",
      "model_module_version": "2.0.0",
      "model_name": "VBoxModel",
      "state": {
       "children": [
        "IPY_MODEL_09ef16dad5264c43976147cf8aec9796",
        "IPY_MODEL_44264a4d88be4b2186895989eefc64e0",
        "IPY_MODEL_b8059b17900642bfb5fa5a7ab1b0c351"
       ],
       "layout": "IPY_MODEL_f9112561aa164aa1a08ab06799d9343b"
      }
     },
     "c902930e1f1d456d95f2d022fd97a664": {
      "model_module": "@jupyter-widgets/controls",
      "model_module_version": "2.0.0",
      "model_name": "DescriptionStyleModel",
      "state": {
       "description_width": ""
      }
     },
     "c990aa0c9071426696f5fd880f4d4a06": {
      "model_module": "@jupyter-widgets/controls",
      "model_module_version": "2.0.0",
      "model_name": "ButtonModel",
      "state": {
       "description": "manual formula",
       "layout": "IPY_MODEL_28d293defe264af0ac48db20fc563101",
       "style": "IPY_MODEL_46befce5792f4a75b29c94c2931c4adb",
       "tooltip": null
      }
     },
     "ca0079ada0b24c178293525f4fa365b9": {
      "model_module": "@jupyter-widgets/output",
      "model_module_version": "1.0.0",
      "model_name": "OutputModel",
      "state": {
       "layout": "IPY_MODEL_25e27a44748f4012b3ad90b6f10b3c0a"
      }
     },
     "ca052d9e54e94adcb6c407aa78e3c759": {
      "model_module": "@jupyter-widgets/controls",
      "model_module_version": "2.0.0",
      "model_name": "IntTextModel",
      "state": {
       "description": "peak prominance:",
       "layout": "IPY_MODEL_ef5700973d694b61bf426aa5a2dae5e5",
       "step": 1,
       "style": "IPY_MODEL_6c22f742c8614dce9e7c3c0916249863",
       "value": 50
      }
     },
     "ca7669809525415fa1e22055d2326102": {
      "model_module": "@jupyter-widgets/controls",
      "model_module_version": "2.0.0",
      "model_name": "ButtonModel",
      "state": {
       "description": "plot hist",
       "layout": "IPY_MODEL_fccbb18cdd484c0c80db9c308c2aed09",
       "style": "IPY_MODEL_834512f17a66424891541aac08347f61",
       "tooltip": null
      }
     },
     "cab9b54414bb4cc29bfe95bedcb78680": {
      "model_module": "@jupyter-widgets/base",
      "model_module_version": "2.0.0",
      "model_name": "LayoutModel",
      "state": {}
     },
     "cabf0b37347d48acb9d94156ca4440a2": {
      "model_module": "@jupyter-widgets/controls",
      "model_module_version": "2.0.0",
      "model_name": "ButtonModel",
      "state": {
       "description": "add ion",
       "layout": "IPY_MODEL_e6b6142804b347059d1fc51dbb7ed385",
       "style": "IPY_MODEL_37825e919374408e8e0a3b5b1e2a1171",
       "tooltip": null
      }
     },
     "cb19dcd64c0e468ca19188a0b16f8054": {
      "model_module": "@jupyter-widgets/controls",
      "model_module_version": "2.0.0",
      "model_name": "ButtonModel",
      "state": {
       "description": "remove ion",
       "layout": "IPY_MODEL_1ec71a4ecfaf4fdea0457fcf6e8d4899",
       "style": "IPY_MODEL_099c3fb573a94888a083c3c4275e7d6f",
       "tooltip": null
      }
     },
     "cc8e96c7a1de452ba76c11de33467724": {
      "model_module": "@jupyter-widgets/controls",
      "model_module_version": "2.0.0",
      "model_name": "ButtonStyleModel",
      "state": {
       "font_family": null,
       "font_size": null,
       "font_style": null,
       "font_variant": null,
       "font_weight": null,
       "text_color": null,
       "text_decoration": null
      }
     },
     "ccd354a4f203422995525b1a76fd946b": {
      "model_module": "@jupyter-widgets/controls",
      "model_module_version": "2.0.0",
      "model_name": "ButtonStyleModel",
      "state": {
       "font_family": null,
       "font_size": null,
       "font_style": null,
       "font_variant": null,
       "font_weight": null,
       "text_color": null,
       "text_decoration": null
      }
     },
     "cd0b105e53104a26be2fc22bddeb28a1": {
      "model_module": "@jupyter-widgets/output",
      "model_module_version": "1.0.0",
      "model_name": "OutputModel",
      "state": {
       "layout": "IPY_MODEL_7127640ddb6e4b20910cdffd1b1ae76f",
       "outputs": [
        {
         "data": {
          "text/html": "<div>\n<style scoped>\n    .dataframe tbody tr th:only-of-type {\n        vertical-align: middle;\n    }\n\n    .dataframe tbody tr th {\n        vertical-align: top;\n    }\n\n    .dataframe thead th {\n        text-align: right;\n    }\n</style>\n<table border=\"1\" class=\"dataframe\">\n  <thead>\n    <tr style=\"text-align: right;\">\n      <th></th>\n      <th>ion</th>\n      <th>mass</th>\n      <th>mc</th>\n      <th>mc_low</th>\n      <th>mc_up</th>\n      <th>color</th>\n      <th>element</th>\n      <th>complex</th>\n      <th>isotope</th>\n      <th>charge</th>\n    </tr>\n  </thead>\n  <tbody>\n  </tbody>\n</table>\n</div>",
          "text/plain": "Empty DataFrame\nColumns: [ion, mass, mc, mc_low, mc_up, color, element, complex, isotope, charge]\nIndex: []"
         },
         "metadata": {},
         "output_type": "display_data"
        }
       ]
      }
     },
     "cdf035b563bf437e814f335cb8a1c3d7": {
      "model_module": "@jupyter-widgets/base",
      "model_module_version": "2.0.0",
      "model_name": "LayoutModel",
      "state": {}
     },
     "ce2c198ab86f4d079b973d2394c6cfab": {
      "model_module": "@jupyter-widgets/base",
      "model_module_version": "2.0.0",
      "model_name": "LayoutModel",
      "state": {}
     },
     "ce4106808b434a80ae7ad7172453be93": {
      "model_module": "@jupyter-widgets/controls",
      "model_module_version": "2.0.0",
      "model_name": "ButtonModel",
      "state": {
       "description": "find element",
       "layout": "IPY_MODEL_e8186543dfc848c0a100d3e0b8aae8cf",
       "style": "IPY_MODEL_3af0e75d3ec34e289cad9ac9fb0a37d2",
       "tooltip": null
      }
     },
     "cf0cb69190c34fe98718d8b0db4380fd": {
      "model_module": "@jupyter-widgets/controls",
      "model_module_version": "2.0.0",
      "model_name": "ButtonModel",
      "state": {
       "description": "show color",
       "layout": "IPY_MODEL_a59d2702a2714e42ab565927ed263aba",
       "style": "IPY_MODEL_787dcca057ef42d89bddffaa8307722d",
       "tooltip": null
      }
     },
     "cf373d7bc7db41c496873dbd459d0c08": {
      "model_module": "@jupyter-widgets/controls",
      "model_module_version": "2.0.0",
      "model_name": "ButtonStyleModel",
      "state": {
       "font_family": null,
       "font_size": null,
       "font_style": null,
       "font_variant": null,
       "font_weight": null,
       "text_color": null,
       "text_decoration": null
      }
     },
     "cff0e55544114715ac7b781bf469a259": {
      "model_module": "@jupyter-widgets/controls",
      "model_module_version": "2.0.0",
      "model_name": "ButtonModel",
      "state": {
       "description": "Previous",
       "layout": "IPY_MODEL_83e5d3c735ab4c41aae1877ac7e88644",
       "style": "IPY_MODEL_0be8eca61ded44ce9b60fdc31d83dad6",
       "tooltip": null
      }
     },
     "d017f2d8f8464d8282a11140340d550b": {
      "model_module": "@jupyter-widgets/controls",
      "model_module_version": "2.0.0",
      "model_name": "ButtonStyleModel",
      "state": {
       "font_family": null,
       "font_size": null,
       "font_style": null,
       "font_variant": null,
       "font_weight": null,
       "text_color": null,
       "text_decoration": null
      }
     },
     "d0494c52f3e6473e91c6c0e8175ac9fa": {
      "model_module": "@jupyter-widgets/controls",
      "model_module_version": "2.0.0",
      "model_name": "TabModel",
      "state": {
       "children": [
        "IPY_MODEL_ba9b18df38bf4904a69f99a0660dd51d"
       ],
       "layout": "IPY_MODEL_7c5359059ca7435fb8df0ceac744fd0c",
       "selected_index": 0,
       "titles": [
        "element finder"
       ]
      }
     },
     "d11f6de5b36f4b9395beaa7c1d1171bc": {
      "model_module": "@jupyter-widgets/controls",
      "model_module_version": "2.0.0",
      "model_name": "ButtonModel",
      "state": {
       "description": "plot hist",
       "layout": "IPY_MODEL_439109dc5b6847ccb4298ad8beb0308d",
       "style": "IPY_MODEL_cc8e96c7a1de452ba76c11de33467724",
       "tooltip": null
      }
     },
     "d145b4987c224df2a5b4f41419909bea": {
      "model_module": "@jupyter-widgets/controls",
      "model_module_version": "2.0.0",
      "model_name": "ButtonStyleModel",
      "state": {
       "font_family": null,
       "font_size": null,
       "font_style": null,
       "font_variant": null,
       "font_weight": null,
       "text_color": null,
       "text_decoration": null
      }
     },
     "d174dba7163a4ab7bc7fceb5cfb868eb": {
      "model_module": "@jupyter-widgets/base",
      "model_module_version": "2.0.0",
      "model_name": "LayoutModel",
      "state": {}
     },
     "d18da769c95b45c3a83f2377ca77fbfa": {
      "model_module": "@jupyter-widgets/controls",
      "model_module_version": "2.0.0",
      "model_name": "VBoxModel",
      "state": {
       "children": [
        "IPY_MODEL_29980c3142cd4a658959011dde419b78"
       ],
       "layout": "IPY_MODEL_38b0dd87325e4a9c94d4b2fc205d5fb4"
      }
     },
     "d19b118a32734f23bc6661e83fa63396": {
      "model_module": "@jupyter-widgets/controls",
      "model_module_version": "2.0.0",
      "model_name": "ButtonModel",
      "state": {
       "description": "remove ion",
       "layout": "IPY_MODEL_424b824581e34cc68b153e43fb9caf3f",
       "style": "IPY_MODEL_1ffb2e666da14f16bbcf1f0e88db5ff8",
       "tooltip": null
      }
     },
     "d22ac604b4f640b0a91861a2d3d77b3a": {
      "model_module": "@jupyter-widgets/controls",
      "model_module_version": "2.0.0",
      "model_name": "DropdownModel",
      "state": {
       "_options_labels": [
        "1",
        "2",
        "3",
        "4",
        "5",
        "6"
       ],
       "description": "complexity:",
       "index": 2,
       "layout": "IPY_MODEL_0bc4e572aa4546daa7fb27bf62dea724",
       "style": "IPY_MODEL_14068a285acc49c496f923d169ff67a6"
      }
     },
     "d22b0f764a1a468fbf3afcc9ef119a52": {
      "model_module": "@jupyter-widgets/base",
      "model_module_version": "2.0.0",
      "model_name": "LayoutModel",
      "state": {}
     },
     "d26285c7cb1a4b15b894eb936a8411d6": {
      "model_module": "@jupyter-widgets/base",
      "model_module_version": "2.0.0",
      "model_name": "LayoutModel",
      "state": {}
     },
     "d2cd2a6c9e95408892787dc08e6c5384": {
      "model_module": "@jupyter-widgets/controls",
      "model_module_version": "2.0.0",
      "model_name": "DescriptionStyleModel",
      "state": {
       "description_width": ""
      }
     },
     "d31023ce7aaf44dd983a8305e535c16e": {
      "model_module": "@jupyter-widgets/controls",
      "model_module_version": "2.0.0",
      "model_name": "VBoxModel",
      "state": {
       "children": [
        "IPY_MODEL_0980a2a93ceb4e46bc036161ff700f2c",
        "IPY_MODEL_687ea5cc49ca4bd8b22bb27073b2a3f2",
        "IPY_MODEL_ca052d9e54e94adcb6c407aa78e3c759",
        "IPY_MODEL_56298ce13552415a8301e7934bae3456",
        "IPY_MODEL_abc75fdfe4b44b799607948108a7dfbc",
        "IPY_MODEL_eda9c737d29d4964939b92123cb5e558",
        "IPY_MODEL_b58b6dff853b4cbc9d4ecd44e023a6e0",
        "IPY_MODEL_a5fb810d4fdb4835a2bfe5ecd8c1803d"
       ],
       "layout": "IPY_MODEL_b30d920602cf426faf11c0baf558f638"
      }
     },
     "d355795b46a746f982994465b8d2eddd": {
      "model_module": "@jupyter-widgets/base",
      "model_module_version": "2.0.0",
      "model_name": "LayoutModel",
      "state": {}
     },
     "d3eda613f25e469f8857f65ec1283682": {
      "model_module": "@jupyter-widgets/base",
      "model_module_version": "2.0.0",
      "model_name": "LayoutModel",
      "state": {}
     },
     "d41ae15435e747039c6af1135af40dd7": {
      "model_module": "@jupyter-widgets/base",
      "model_module_version": "2.0.0",
      "model_name": "LayoutModel",
      "state": {}
     },
     "d490ad4695304a13929a02237dfa107b": {
      "model_module": "@jupyter-widgets/base",
      "model_module_version": "2.0.0",
      "model_name": "LayoutModel",
      "state": {}
     },
     "d504c00ac5fd4f3592dd8bba1f2742b7": {
      "model_module": "@jupyter-widgets/base",
      "model_module_version": "2.0.0",
      "model_name": "LayoutModel",
      "state": {}
     },
     "d5152028926e4038bb4b378ef425aa18": {
      "model_module": "@jupyter-widgets/base",
      "model_module_version": "2.0.0",
      "model_name": "LayoutModel",
      "state": {}
     },
     "d54ac3c4a0e641219540bc3f60e22a5f": {
      "model_module": "@jupyter-widgets/controls",
      "model_module_version": "2.0.0",
      "model_name": "VBoxModel",
      "state": {
       "children": [
        "IPY_MODEL_0980a2a93ceb4e46bc036161ff700f2c",
        "IPY_MODEL_687ea5cc49ca4bd8b22bb27073b2a3f2",
        "IPY_MODEL_ca052d9e54e94adcb6c407aa78e3c759",
        "IPY_MODEL_56298ce13552415a8301e7934bae3456",
        "IPY_MODEL_abc75fdfe4b44b799607948108a7dfbc",
        "IPY_MODEL_eda9c737d29d4964939b92123cb5e558",
        "IPY_MODEL_b58b6dff853b4cbc9d4ecd44e023a6e0",
        "IPY_MODEL_dd8777d75a55439bb4b0638a609b74e1"
       ],
       "layout": "IPY_MODEL_e7c29334756447eb87ee1ba6453b73b4"
      }
     },
     "d57f7a9a9ebc4ea3ac87348d630ce6c4": {
      "model_module": "@jupyter-widgets/base",
      "model_module_version": "2.0.0",
      "model_name": "LayoutModel",
      "state": {}
     },
     "d5929712b45a48cfab2899d05639b725": {
      "model_module": "@jupyter-widgets/base",
      "model_module_version": "2.0.0",
      "model_name": "LayoutModel",
      "state": {}
     },
     "d5a27601f7ad46aba214a0411de01689": {
      "model_module": "@jupyter-widgets/controls",
      "model_module_version": "2.0.0",
      "model_name": "HBoxModel",
      "state": {
       "children": [
        "IPY_MODEL_8928bb375c1b4bc1989624ea7be9ddbd",
        "IPY_MODEL_fed66f1479aa41e3959a5217b01af305"
       ],
       "layout": "IPY_MODEL_db8edb3c19584a46aed19d2be3ab70d0"
      }
     },
     "d5e530a64a1042d6b400f3207de37b2e": {
      "model_module": "@jupyter-widgets/base",
      "model_module_version": "2.0.0",
      "model_name": "LayoutModel",
      "state": {}
     },
     "d63287338c544442b8eed6731a5fcb7f": {
      "model_module": "@jupyter-widgets/controls",
      "model_module_version": "2.0.0",
      "model_name": "ButtonModel",
      "state": {
       "description": "Start",
       "layout": "IPY_MODEL_4c4c05de2bf64393a30489b92ef13f1c",
       "style": "IPY_MODEL_837b09084f5e439dba5061fb6b421e86",
       "tooltip": null
      }
     },
     "d697d1147cb043f6b1b9095cbca3e30e": {
      "model_module": "@jupyter-widgets/base",
      "model_module_version": "2.0.0",
      "model_name": "LayoutModel",
      "state": {}
     },
     "d6ace900fa154e8cbbce8c1c155943cd": {
      "model_module": "@jupyter-widgets/controls",
      "model_module_version": "2.0.0",
      "model_name": "ButtonStyleModel",
      "state": {
       "font_family": null,
       "font_size": null,
       "font_style": null,
       "font_variant": null,
       "font_weight": null,
       "text_color": null,
       "text_decoration": null
      }
     },
     "d7430690392543b3a2152519fc506623": {
      "model_module": "@jupyter-widgets/base",
      "model_module_version": "2.0.0",
      "model_name": "LayoutModel",
      "state": {}
     },
     "d8334bb76ec444dfb2772f3356fc3531": {
      "model_module": "@jupyter-widgets/controls",
      "model_module_version": "2.0.0",
      "model_name": "ButtonStyleModel",
      "state": {
       "font_family": null,
       "font_size": null,
       "font_style": null,
       "font_variant": null,
       "font_weight": null,
       "text_color": null,
       "text_decoration": null
      }
     },
     "d8bf28ece5bf43c3b4b3d593b35523bc": {
      "model_module": "@jupyter-widgets/controls",
      "model_module_version": "2.0.0",
      "model_name": "DescriptionStyleModel",
      "state": {
       "description_width": ""
      }
     },
     "d8d0a77c0cd1436aa7827704b462e684": {
      "model_module": "@jupyter-widgets/base",
      "model_module_version": "2.0.0",
      "model_name": "LayoutModel",
      "state": {}
     },
     "d91e13bd46114a10a36507cf367615ab": {
      "model_module": "@jupyter-widgets/controls",
      "model_module_version": "2.0.0",
      "model_name": "ButtonStyleModel",
      "state": {
       "font_family": null,
       "font_size": null,
       "font_style": null,
       "font_variant": null,
       "font_weight": null,
       "text_color": null,
       "text_decoration": null
      }
     },
     "d9dda0a37ea94d64bd9bddf7b07661f4": {
      "model_module": "@jupyter-widgets/controls",
      "model_module_version": "2.0.0",
      "model_name": "DescriptionStyleModel",
      "state": {
       "description_width": ""
      }
     },
     "d9eb48c5a95c4607818eeadd57b11448": {
      "model_module": "@jupyter-widgets/controls",
      "model_module_version": "2.0.0",
      "model_name": "ButtonModel",
      "state": {
       "description": "find element",
       "layout": "IPY_MODEL_f2b99e70d24348548d6eb0f36e5fe055",
       "style": "IPY_MODEL_6ed1c0670e534afdaa2502c440504d21",
       "tooltip": null
      }
     },
     "d9f44929df9f4569aa48a11ef628397e": {
      "model_module": "@jupyter-widgets/controls",
      "model_module_version": "2.0.0",
      "model_name": "IntTextModel",
      "state": {
       "description": "index row:",
       "layout": "IPY_MODEL_480d90b0fedf43c590a1cf19645c9095",
       "step": 1,
       "style": "IPY_MODEL_47a9b0657ac24096837cddc167f5cc05"
      }
     },
     "da07a08613e4443092f47fa663b3995e": {
      "model_module": "@jupyter-widgets/output",
      "model_module_version": "1.0.0",
      "model_name": "OutputModel",
      "state": {
       "layout": "IPY_MODEL_c6f817e2370a443abe7e9f6642e6a04f",
       "outputs": [
        {
         "data": {
          "text/html": "<div>\n<style scoped>\n    .dataframe tbody tr th:only-of-type {\n        vertical-align: middle;\n    }\n\n    .dataframe tbody tr th {\n        vertical-align: top;\n    }\n\n    .dataframe thead th {\n        text-align: right;\n    }\n</style>\n<table border=\"1\" class=\"dataframe\">\n  <thead>\n    <tr style=\"text-align: right;\">\n      <th></th>\n      <th>ion</th>\n      <th>mass</th>\n      <th>mc</th>\n      <th>mc_low</th>\n      <th>mc_up</th>\n      <th>color</th>\n      <th>element</th>\n      <th>complex</th>\n      <th>isotope</th>\n      <th>charge</th>\n    </tr>\n  </thead>\n  <tbody>\n  </tbody>\n</table>\n</div>",
          "text/plain": "Empty DataFrame\nColumns: [ion, mass, mc, mc_low, mc_up, color, element, complex, isotope, charge]\nIndex: []"
         },
         "metadata": {},
         "output_type": "display_data"
        }
       ]
      }
     },
     "da379e763d484708aa887acab56f56f9": {
      "model_module": "@jupyter-widgets/output",
      "model_module_version": "1.0.0",
      "model_name": "OutputModel",
      "state": {
       "layout": "IPY_MODEL_4429cba8f03f4d9a9c705b7909c68d41",
       "outputs": [
        {
         "data": {
          "text/html": "<div>\n<style scoped>\n    .dataframe tbody tr th:only-of-type {\n        vertical-align: middle;\n    }\n\n    .dataframe tbody tr th {\n        vertical-align: top;\n    }\n\n    .dataframe thead th {\n        text-align: right;\n    }\n</style>\n<table border=\"1\" class=\"dataframe\">\n  <thead>\n    <tr style=\"text-align: right;\">\n      <th></th>\n      <th>ion</th>\n      <th>mass</th>\n      <th>element</th>\n      <th>complex</th>\n      <th>isotope</th>\n      <th>charge</th>\n      <th>abundance</th>\n    </tr>\n  </thead>\n  <tbody>\n    <tr>\n      <th>0</th>\n      <td>${}^{1}H^{+}$</td>\n      <td>1.0100</td>\n      <td>H</td>\n      <td>1</td>\n      <td>1</td>\n      <td>1</td>\n      <td>99.9850</td>\n    </tr>\n    <tr>\n      <th>1</th>\n      <td>${}^{1}H_{3}^{3+}$</td>\n      <td>1.0100</td>\n      <td>[H]</td>\n      <td>[3]</td>\n      <td>[1]</td>\n      <td>3</td>\n      <td>0.9996</td>\n    </tr>\n    <tr>\n      <th>2</th>\n      <td>${}^{2}H^{2+}$</td>\n      <td>1.0050</td>\n      <td>H</td>\n      <td>1</td>\n      <td>2</td>\n      <td>2</td>\n      <td>0.0150</td>\n    </tr>\n    <tr>\n      <th>3</th>\n      <td>$({}^{2}H{}^{1}H{}^{1}H)^{3+}$</td>\n      <td>1.3433</td>\n      <td>[H, H, H]</td>\n      <td>[1, 1, 1]</td>\n      <td>[2, 1, 1]</td>\n      <td>3</td>\n      <td>0.0001</td>\n    </tr>\n    <tr>\n      <th>4</th>\n      <td>$({}^{1}H_{2}{}^{2}H)^{3+}$</td>\n      <td>1.3433</td>\n      <td>[H, H]</td>\n      <td>[2, 1]</td>\n      <td>[1, 2]</td>\n      <td>3</td>\n      <td>0.0001</td>\n    </tr>\n    <tr>\n      <th>...</th>\n      <td>...</td>\n      <td>...</td>\n      <td>...</td>\n      <td>...</td>\n      <td>...</td>\n      <td>...</td>\n      <td>...</td>\n    </tr>\n    <tr>\n      <th>661</th>\n      <td>${}^{27}Al_{2}{}^{17}O$</td>\n      <td>70.9600</td>\n      <td>[Al, O]</td>\n      <td>[2, 1]</td>\n      <td>[27, 17]</td>\n      <td>1</td>\n      <td>0.0004</td>\n    </tr>\n    <tr>\n      <th>662</th>\n      <td>${}^{27}Al_{2}{}^{18}O$</td>\n      <td>71.9600</td>\n      <td>[Al, O]</td>\n      <td>[2, 1]</td>\n      <td>[27, 18]</td>\n      <td>1</td>\n      <td>0.0020</td>\n    </tr>\n    <tr>\n      <th>663</th>\n      <td>${}^{18}O{}^{27}Al_{2}$</td>\n      <td>71.9600</td>\n      <td>[O, Al]</td>\n      <td>[1, 2]</td>\n      <td>[18, 27]</td>\n      <td>1</td>\n      <td>0.0020</td>\n    </tr>\n    <tr>\n      <th>664</th>\n      <td>${}^{27}Al_{2}{}^{18}O$</td>\n      <td>71.9600</td>\n      <td>[Al, O]</td>\n      <td>[2, 1]</td>\n      <td>[27, 18]</td>\n      <td>1</td>\n      <td>0.0020</td>\n    </tr>\n    <tr>\n      <th>665</th>\n      <td>${}^{27}Al_{3}$</td>\n      <td>80.9400</td>\n      <td>[Al]</td>\n      <td>[3]</td>\n      <td>[27]</td>\n      <td>1</td>\n      <td>1.0000</td>\n    </tr>\n  </tbody>\n</table>\n<p>666 rows × 7 columns</p>\n</div>",
          "text/plain": "                                ion     mass    element    complex    isotope  \\\n0                     ${}^{1}H^{+}$   1.0100          H          1          1   \n1                ${}^{1}H_{3}^{3+}$   1.0100        [H]        [3]        [1]   \n2                    ${}^{2}H^{2+}$   1.0050          H          1          2   \n3    $({}^{2}H{}^{1}H{}^{1}H)^{3+}$   1.3433  [H, H, H]  [1, 1, 1]  [2, 1, 1]   \n4       $({}^{1}H_{2}{}^{2}H)^{3+}$   1.3433     [H, H]     [2, 1]     [1, 2]   \n..                              ...      ...        ...        ...        ...   \n661         ${}^{27}Al_{2}{}^{17}O$  70.9600    [Al, O]     [2, 1]   [27, 17]   \n662         ${}^{27}Al_{2}{}^{18}O$  71.9600    [Al, O]     [2, 1]   [27, 18]   \n663         ${}^{18}O{}^{27}Al_{2}$  71.9600    [O, Al]     [1, 2]   [18, 27]   \n664         ${}^{27}Al_{2}{}^{18}O$  71.9600    [Al, O]     [2, 1]   [27, 18]   \n665                 ${}^{27}Al_{3}$  80.9400       [Al]        [3]       [27]   \n\n     charge  abundance  \n0         1    99.9850  \n1         3     0.9996  \n2         2     0.0150  \n3         3     0.0001  \n4         3     0.0001  \n..      ...        ...  \n661       1     0.0004  \n662       1     0.0020  \n663       1     0.0020  \n664       1     0.0020  \n665       1     1.0000  \n\n[666 rows x 7 columns]"
         },
         "metadata": {},
         "output_type": "display_data"
        }
       ]
      }
     },
     "db8edb3c19584a46aed19d2be3ab70d0": {
      "model_module": "@jupyter-widgets/base",
      "model_module_version": "2.0.0",
      "model_name": "LayoutModel",
      "state": {}
     },
     "dbf83cdcfc64413e9e856f757fd18fa2": {
      "model_module": "@jupyter-widgets/base",
      "model_module_version": "2.0.0",
      "model_name": "LayoutModel",
      "state": {}
     },
     "dccb4283030e4536a7c156257b4f4504": {
      "model_module": "@jupyter-widgets/base",
      "model_module_version": "2.0.0",
      "model_name": "LayoutModel",
      "state": {}
     },
     "dd8777d75a55439bb4b0638a609b74e1": {
      "model_module": "@jupyter-widgets/controls",
      "model_module_version": "2.0.0",
      "model_name": "HBoxModel",
      "state": {
       "children": [
        "IPY_MODEL_848c5e2a42174152ad74b5a9df5d35af",
        "IPY_MODEL_9ff5eb74add74ed58590a172b55b6a33"
       ],
       "layout": "IPY_MODEL_490382f4474d43a5aef37ff397561266"
      }
     },
     "dd8859d700f74d32a0cf762e36406910": {
      "model_module": "@jupyter-widgets/controls",
      "model_module_version": "2.0.0",
      "model_name": "ButtonModel",
      "state": {
       "description": "remove ion",
       "layout": "IPY_MODEL_7950705c1ded4964a736b08f05d37180",
       "style": "IPY_MODEL_e8a3bb29e7ca41568c71fbb3a62d3e49",
       "tooltip": null
      }
     },
     "dd8d0bd5d5704dab9efe103fefde284b": {
      "model_module": "@jupyter-widgets/controls",
      "model_module_version": "2.0.0",
      "model_name": "DescriptionStyleModel",
      "state": {
       "description_width": ""
      }
     },
     "ddcff9349d704361a71fbde9a13b9056": {
      "model_module": "@jupyter-widgets/controls",
      "model_module_version": "2.0.0",
      "model_name": "ButtonStyleModel",
      "state": {
       "font_family": null,
       "font_size": null,
       "font_style": null,
       "font_variant": null,
       "font_weight": null,
       "text_color": null,
       "text_decoration": null
      }
     },
     "dddee575658341208cf57a72a5e9bc6c": {
      "model_module": "@jupyter-widgets/controls",
      "model_module_version": "2.0.0",
      "model_name": "DescriptionStyleModel",
      "state": {
       "description_width": ""
      }
     },
     "de12f519b6eb43d794a986752e58ed22": {
      "model_module": "@jupyter-widgets/controls",
      "model_module_version": "2.0.0",
      "model_name": "ButtonModel",
      "state": {
       "description": "Next",
       "layout": "IPY_MODEL_3dc11a84f539463cbc369b768e98628d",
       "style": "IPY_MODEL_13b44a1a954d4c608ba8a16138aebc8f",
       "tooltip": null
      }
     },
     "de1394684015458491ccd587bd5befff": {
      "model_module": "@jupyter-widgets/controls",
      "model_module_version": "2.0.0",
      "model_name": "HBoxModel",
      "state": {
       "children": [
        "IPY_MODEL_ad2ce88d6bc943ddb7576aa78e007abc"
       ],
       "layout": "IPY_MODEL_595f88abceff4936b088f960fae64742"
      }
     },
     "de7b0c0796684813aced7f60c8f65c7b": {
      "model_module": "@jupyter-widgets/controls",
      "model_module_version": "2.0.0",
      "model_name": "ButtonModel",
      "state": {
       "description": "Next",
       "layout": "IPY_MODEL_3bd37e7ee20040f4accb670db031642f",
       "style": "IPY_MODEL_5178fef7344a41c897db99cd6767571a",
       "tooltip": null
      }
     },
     "de973fcd5fb24179bc08ea4e7d07037b": {
      "model_module": "@jupyter-widgets/controls",
      "model_module_version": "2.0.0",
      "model_name": "DescriptionStyleModel",
      "state": {
       "description_width": ""
      }
     },
     "def52d2e6b2c42fcbcc0f0ac6d4b23b4": {
      "model_module": "@jupyter-widgets/base",
      "model_module_version": "2.0.0",
      "model_name": "LayoutModel",
      "state": {}
     },
     "df0e100a884d40719b03b19eee963587": {
      "model_module": "@jupyter-widgets/controls",
      "model_module_version": "2.0.0",
      "model_name": "ButtonStyleModel",
      "state": {
       "font_family": null,
       "font_size": null,
       "font_style": null,
       "font_variant": null,
       "font_weight": null,
       "text_color": null,
       "text_decoration": null
      }
     },
     "df25839db4b74fa49d914112eac53443": {
      "model_module": "@jupyter-widgets/controls",
      "model_module_version": "2.0.0",
      "model_name": "VBoxModel",
      "state": {
       "children": [
        "IPY_MODEL_2b55fe5f010c464891f993032eccdaba",
        "IPY_MODEL_2054726045aa48bca6158b5777b9a3bd",
        "IPY_MODEL_9f5575e61d694bb19710c25de515d74b",
        "IPY_MODEL_6c7622172d614e599d15d8a77f48b3c3",
        "IPY_MODEL_d22ac604b4f640b0a91861a2d3d77b3a",
        "IPY_MODEL_3562988bae6e46428df082d58ad832e7"
       ],
       "layout": "IPY_MODEL_887cc3d70d4a4dbcb79ae366939f2687"
      }
     },
     "df2ecdd308f14b1d8834a0e3b498ff16": {
      "model_module": "@jupyter-widgets/controls",
      "model_module_version": "2.0.0",
      "model_name": "ButtonStyleModel",
      "state": {
       "font_family": null,
       "font_size": null,
       "font_style": null,
       "font_variant": null,
       "font_weight": null,
       "text_color": null,
       "text_decoration": null
      }
     },
     "df38c29dd2f24bd09eecef4cd2d8c977": {
      "model_module": "@jupyter-widgets/base",
      "model_module_version": "2.0.0",
      "model_name": "LayoutModel",
      "state": {}
     },
     "df79d386213d4f4c90c1e47a34d192bc": {
      "model_module": "@jupyter-widgets/output",
      "model_module_version": "1.0.0",
      "model_name": "OutputModel",
      "state": {
       "layout": "IPY_MODEL_9984a0dbf0c3447688a844cc5cc847ff"
      }
     },
     "e0163e1fa7d448ab85404939882509d9": {
      "model_module": "@jupyter-widgets/controls",
      "model_module_version": "2.0.0",
      "model_name": "ButtonModel",
      "state": {
       "description": "Add all peaks",
       "layout": "IPY_MODEL_e5a8d9e9b69e4cfe9d5f0ac856c4d0e2",
       "style": "IPY_MODEL_91d923bd2c4f4454bfea2bc1b46b908a",
       "tooltip": null
      }
     },
     "e082a5ea4db842189358aa92dc67ecb1": {
      "model_module": "@jupyter-widgets/base",
      "model_module_version": "2.0.0",
      "model_name": "LayoutModel",
      "state": {}
     },
     "e08bb559e2de4f4f81cb8fdec4c02d6d": {
      "model_module": "@jupyter-widgets/controls",
      "model_module_version": "2.0.0",
      "model_name": "ButtonModel",
      "state": {
       "description": "plot hist",
       "layout": "IPY_MODEL_cdf035b563bf437e814f335cb8a1c3d7",
       "style": "IPY_MODEL_d145b4987c224df2a5b4f41419909bea",
       "tooltip": null
      }
     },
     "e0c1353a6cd24a278aa30bc14a61bf62": {
      "model_module": "@jupyter-widgets/base",
      "model_module_version": "2.0.0",
      "model_name": "LayoutModel",
      "state": {}
     },
     "e19df913cfa2477989f050480115f179": {
      "model_module": "@jupyter-widgets/controls",
      "model_module_version": "2.0.0",
      "model_name": "TabModel",
      "state": {
       "children": [
        "IPY_MODEL_d31023ce7aaf44dd983a8305e535c16e",
        "IPY_MODEL_55a6caafea134e3582693f78b1a1fcb3"
       ],
       "layout": "IPY_MODEL_1fd353714fa74953966c31b214e6e1f7",
       "selected_index": 0,
       "titles": [
        "peak finder",
        "rangging"
       ]
      }
     },
     "e26c47e4de6d4e66bc15dcbf5622f312": {
      "model_module": "@jupyter-widgets/base",
      "model_module_version": "2.0.0",
      "model_name": "LayoutModel",
      "state": {}
     },
     "e2fdba631d724ab2bfc409a4536f0195": {
      "model_module": "@jupyter-widgets/controls",
      "model_module_version": "2.0.0",
      "model_name": "DescriptionStyleModel",
      "state": {
       "description_width": ""
      }
     },
     "e30d749677ce48efbb27f5f45369bf08": {
      "model_module": "@jupyter-widgets/base",
      "model_module_version": "2.0.0",
      "model_name": "LayoutModel",
      "state": {}
     },
     "e327b6d3819543b6b4bbc87c42139353": {
      "model_module": "@jupyter-widgets/controls",
      "model_module_version": "2.0.0",
      "model_name": "ButtonStyleModel",
      "state": {
       "font_family": null,
       "font_size": null,
       "font_style": null,
       "font_variant": null,
       "font_weight": null,
       "text_color": null,
       "text_decoration": null
      }
     },
     "e3d8bb6eabb04c248abf711f80cc4b4a": {
      "model_module": "@jupyter-widgets/base",
      "model_module_version": "2.0.0",
      "model_name": "LayoutModel",
      "state": {}
     },
     "e46ae88dc2ae4470b0c1d8b1380671ab": {
      "model_module": "@jupyter-widgets/base",
      "model_module_version": "2.0.0",
      "model_name": "LayoutModel",
      "state": {}
     },
     "e4d922267dba434987cafc1197b35a87": {
      "model_module": "@jupyter-widgets/base",
      "model_module_version": "2.0.0",
      "model_name": "LayoutModel",
      "state": {}
     },
     "e4e4d50e1cea44a2b59fea6bd470c51c": {
      "model_module": "@jupyter-widgets/controls",
      "model_module_version": "2.0.0",
      "model_name": "ColorPickerModel",
      "state": {
       "description": "Select a color:",
       "disabled": false,
       "layout": "IPY_MODEL_157e16431a564e4388dfeed19d5a39f0",
       "style": "IPY_MODEL_d2cd2a6c9e95408892787dc08e6c5384"
      }
     },
     "e582a387ca184c2a9ddee37429480ad6": {
      "model_module": "@jupyter-widgets/controls",
      "model_module_version": "2.0.0",
      "model_name": "VBoxModel",
      "state": {
       "children": [
        "IPY_MODEL_09ef16dad5264c43976147cf8aec9796",
        "IPY_MODEL_44264a4d88be4b2186895989eefc64e0",
        "IPY_MODEL_82fe4e74d6fc4335b0c19cd21f2b4a8a"
       ],
       "layout": "IPY_MODEL_34d47a0156ff4b449d015d943ae82710"
      }
     },
     "e5a8d9e9b69e4cfe9d5f0ac856c4d0e2": {
      "model_module": "@jupyter-widgets/base",
      "model_module_version": "2.0.0",
      "model_name": "LayoutModel",
      "state": {}
     },
     "e5b4387eb5024e84abbf56f43cee4b5c": {
      "model_module": "@jupyter-widgets/controls",
      "model_module_version": "2.0.0",
      "model_name": "DescriptionStyleModel",
      "state": {
       "description_width": ""
      }
     },
     "e6068cfbf8bc4d16805612479149d52b": {
      "model_module": "@jupyter-widgets/controls",
      "model_module_version": "2.0.0",
      "model_name": "DescriptionStyleModel",
      "state": {
       "description_width": ""
      }
     },
     "e6197e9e19a843e9b9f25a7243cbca77": {
      "model_module": "@jupyter-widgets/base",
      "model_module_version": "2.0.0",
      "model_name": "LayoutModel",
      "state": {}
     },
     "e61f5fe51b1f479396fc6d070c2f86cb": {
      "model_module": "@jupyter-widgets/controls",
      "model_module_version": "2.0.0",
      "model_name": "ButtonStyleModel",
      "state": {
       "font_family": null,
       "font_size": null,
       "font_style": null,
       "font_variant": null,
       "font_weight": null,
       "text_color": null,
       "text_decoration": null
      }
     },
     "e6b6142804b347059d1fc51dbb7ed385": {
      "model_module": "@jupyter-widgets/base",
      "model_module_version": "2.0.0",
      "model_name": "LayoutModel",
      "state": {}
     },
     "e6cfd099b525415185a5bf5bbfc51bdd": {
      "model_module": "@jupyter-widgets/controls",
      "model_module_version": "2.0.0",
      "model_name": "HBoxModel",
      "state": {
       "children": [
        "IPY_MODEL_58026a833fcb4a1e80955c68b36ab36e",
        "IPY_MODEL_d0494c52f3e6473e91c6c0e8175ac9fa"
       ],
       "layout": "IPY_MODEL_21a16b76a58c494a913a4e2f7cb6bbe0"
      }
     },
     "e6f54a78bc784425b67ab61ff302e386": {
      "model_module": "@jupyter-widgets/base",
      "model_module_version": "2.0.0",
      "model_name": "LayoutModel",
      "state": {}
     },
     "e700d17b73374799abc6ef0e3770403f": {
      "model_module": "@jupyter-widgets/controls",
      "model_module_version": "2.0.0",
      "model_name": "HBoxModel",
      "state": {
       "children": [
        "IPY_MODEL_2b9d24bf8e37411fbd616699c367244a",
        "IPY_MODEL_2cee086ed0a44849a0295410e97fe837"
       ],
       "layout": "IPY_MODEL_3135c6da13a9475889aef13a2cdab998"
      }
     },
     "e7c29334756447eb87ee1ba6453b73b4": {
      "model_module": "@jupyter-widgets/base",
      "model_module_version": "2.0.0",
      "model_name": "LayoutModel",
      "state": {}
     },
     "e7d76c6ed55a48e4bc99d6d0cbbc4306": {
      "model_module": "@jupyter-widgets/base",
      "model_module_version": "2.0.0",
      "model_name": "LayoutModel",
      "state": {}
     },
     "e8186543dfc848c0a100d3e0b8aae8cf": {
      "model_module": "@jupyter-widgets/base",
      "model_module_version": "2.0.0",
      "model_name": "LayoutModel",
      "state": {}
     },
     "e87cc556bd7a4a509fd40e17ec3974bc": {
      "model_module": "@jupyter-widgets/base",
      "model_module_version": "2.0.0",
      "model_name": "LayoutModel",
      "state": {}
     },
     "e8a3bb29e7ca41568c71fbb3a62d3e49": {
      "model_module": "@jupyter-widgets/controls",
      "model_module_version": "2.0.0",
      "model_name": "ButtonStyleModel",
      "state": {
       "font_family": null,
       "font_size": null,
       "font_style": null,
       "font_variant": null,
       "font_weight": null,
       "text_color": null,
       "text_decoration": null
      }
     },
     "e95fded656604d5299596855f8556c82": {
      "model_module": "@jupyter-widgets/controls",
      "model_module_version": "2.0.0",
      "model_name": "ColorPickerModel",
      "state": {
       "description": "Select a color:",
       "disabled": false,
       "layout": "IPY_MODEL_c011368b561448b8ae22202cb796741c",
       "style": "IPY_MODEL_f0a8470d19f8422394503a606f40fbfb"
      }
     },
     "ea3b98636d7b46d2a21a636742025e5f": {
      "model_module": "@jupyter-widgets/base",
      "model_module_version": "2.0.0",
      "model_name": "LayoutModel",
      "state": {}
     },
     "ea848b3dc19c4f3e9d26a936ac3619f0": {
      "model_module": "@jupyter-widgets/base",
      "model_module_version": "2.0.0",
      "model_name": "LayoutModel",
      "state": {}
     },
     "eaa2f019e2e84dd1b3a23786efa98c98": {
      "model_module": "@jupyter-widgets/controls",
      "model_module_version": "2.0.0",
      "model_name": "VBoxModel",
      "state": {
       "children": [
        "IPY_MODEL_b18faa1113ec4bba875c6ecdeb220622",
        "IPY_MODEL_c213cee6e6f747198254f600a3c0a8b0"
       ],
       "layout": "IPY_MODEL_3a50205b1171408d9843ad9fbbcb684b"
      }
     },
     "eabc146310924c3b967dbfe7fc6afa07": {
      "model_module": "@jupyter-widgets/controls",
      "model_module_version": "2.0.0",
      "model_name": "FloatTextModel",
      "state": {
       "description": "unknown mass:",
       "layout": "IPY_MODEL_f2b6a8afd1824ad8b46287656965a4e2",
       "step": null,
       "style": "IPY_MODEL_27017d25ca804d3cb513eebf9f8bb714"
      }
     },
     "eb9d13fd35ba4a23b2aa77b4492a6894": {
      "model_module": "@jupyter-widgets/controls",
      "model_module_version": "2.0.0",
      "model_name": "FloatTextModel",
      "state": {
       "description": "bin_size",
       "layout": "IPY_MODEL_46bd91bd2e8d4c1c8ed6d0416f1966c3",
       "step": null,
       "style": "IPY_MODEL_4d922db2c40b498788770787b6f10a4a",
       "value": 0.1
      }
     },
     "ec364a47fa4144af890cb10a599e4e07": {
      "model_module": "@jupyter-widgets/controls",
      "model_module_version": "2.0.0",
      "model_name": "VBoxModel",
      "state": {
       "children": [
        "IPY_MODEL_179f5d095dc54606a930cf7f89a6d165"
       ],
       "layout": "IPY_MODEL_d5e530a64a1042d6b400f3207de37b2e"
      }
     },
     "ec50b0ce83ba457da4f74ee8323722cd": {
      "model_module": "@jupyter-widgets/controls",
      "model_module_version": "2.0.0",
      "model_name": "ButtonModel",
      "state": {
       "description": "plot hist",
       "layout": "IPY_MODEL_4b167923fef34dd59f3c5c9353b0dddd",
       "style": "IPY_MODEL_d6ace900fa154e8cbbce8c1c155943cd",
       "tooltip": null
      }
     },
     "ec7ec6327307429aa58f8c008f9b320a": {
      "model_module": "@jupyter-widgets/base",
      "model_module_version": "2.0.0",
      "model_name": "LayoutModel",
      "state": {}
     },
     "ed054bb138b5434580cca23e7cfdabff": {
      "model_module": "@jupyter-widgets/base",
      "model_module_version": "2.0.0",
      "model_name": "LayoutModel",
      "state": {}
     },
     "ed6c69f8673448cab04bf64afe2e1f95": {
      "model_module": "@jupyter-widgets/base",
      "model_module_version": "2.0.0",
      "model_name": "LayoutModel",
      "state": {}
     },
     "eda9c737d29d4964939b92123cb5e558": {
      "model_module": "@jupyter-widgets/controls",
      "model_module_version": "2.0.0",
      "model_name": "IntTextModel",
      "state": {
       "description": "percent MRP:",
       "layout": "IPY_MODEL_1249abce7c9a4fe787c149bd13fc4e37",
       "step": 1,
       "style": "IPY_MODEL_15f5921bbc4449aca5acfbf490ef0c65",
       "value": 50
      }
     },
     "edfad843a0c34ef0983eda04dce5db8f": {
      "model_module": "@jupyter-widgets/controls",
      "model_module_version": "2.0.0",
      "model_name": "ButtonStyleModel",
      "state": {
       "font_family": null,
       "font_size": null,
       "font_style": null,
       "font_variant": null,
       "font_weight": null,
       "text_color": null,
       "text_decoration": null
      }
     },
     "ee445623309f4aa3867b62d1d2b987ff": {
      "model_module": "@jupyter-widgets/base",
      "model_module_version": "2.0.0",
      "model_name": "LayoutModel",
      "state": {}
     },
     "ee4ff91796c243e2975e69c068f342ed": {
      "model_module": "@jupyter-widgets/controls",
      "model_module_version": "2.0.0",
      "model_name": "ButtonModel",
      "state": {
       "description": "show color",
       "layout": "IPY_MODEL_4c54fffb21c346cc8937267d735cb3a4",
       "style": "IPY_MODEL_2b13ad8dac5b426cb64686332e9a0f33",
       "tooltip": null
      }
     },
     "ee9747adb96343a3b74c1a6d4780c5ac": {
      "model_module": "@jupyter-widgets/controls",
      "model_module_version": "2.0.0",
      "model_name": "ColorPickerModel",
      "state": {
       "description": "Select a color:",
       "disabled": false,
       "layout": "IPY_MODEL_fd7c98ff1cc446ba83299534244f52b0",
       "style": "IPY_MODEL_f92776c17a604b399998573e9e6510f9"
      }
     },
     "eec6578f4af0495d934b37c79f1e0005": {
      "model_module": "@jupyter-widgets/base",
      "model_module_version": "2.0.0",
      "model_name": "LayoutModel",
      "state": {}
     },
     "ef018ac647c04897a75aa8e27392c808": {
      "model_module": "@jupyter-widgets/controls",
      "model_module_version": "2.0.0",
      "model_name": "ButtonModel",
      "state": {
       "description": "Previous",
       "layout": "IPY_MODEL_d5152028926e4038bb4b378ef425aa18",
       "style": "IPY_MODEL_6c96b122680b419ba843e72955229797",
       "tooltip": null
      }
     },
     "ef08a316c3674be193bd3253e67bb371": {
      "model_module": "@jupyter-widgets/output",
      "model_module_version": "1.0.0",
      "model_name": "OutputModel",
      "state": {
       "layout": "IPY_MODEL_f4fd3d6bb56a45969ba39b4974957e0b",
       "outputs": [
        {
         "ename": "ValueError",
         "evalue": "All arrays must be of the same length",
         "output_type": "error",
         "traceback": [
          "\u001b[1;31m---------------------------------------------------------------------------\u001b[0m",
          "\u001b[1;31mValueError\u001b[0m                                Traceback (most recent call last)",
          "Cell \u001b[1;32mIn[14], line 51\u001b[0m, in \u001b[0;36mvol_on_click\u001b[1;34m(b)\u001b[0m\n\u001b[0;32m     49\u001b[0m \u001b[38;5;28;01mwith\u001b[39;00m output2:\n\u001b[0;32m     50\u001b[0m     clear_output(\u001b[38;5;28;01mTrue\u001b[39;00m)\n\u001b[1;32m---> 51\u001b[0m     df1 \u001b[38;5;241m=\u001b[39m \u001b[43mion_selection\u001b[49m\u001b[38;5;241;43m.\u001b[39;49m\u001b[43mload_elements\u001b[49m\u001b[43m(\u001b[49m\u001b[43mformula_com\u001b[49m\u001b[38;5;241;43m.\u001b[39;49m\u001b[43mvalue\u001b[49m\u001b[43m,\u001b[49m\u001b[43m \u001b[49m\u001b[43maboundance_threshold\u001b[49m\u001b[38;5;241;43m.\u001b[39;49m\u001b[43mvalue\u001b[49m\u001b[43m,\u001b[49m\u001b[43m \u001b[49m\u001b[43mcharge\u001b[49m\u001b[38;5;241;43m.\u001b[39;49m\u001b[43mvalue\u001b[49m\u001b[43m,\u001b[49m\u001b[43m \u001b[49m\u001b[43mvariables\u001b[49m\u001b[38;5;241;43m=\u001b[39;49m\u001b[43mvariables\u001b[49m\u001b[43m)\u001b[49m\n\u001b[0;32m     52\u001b[0m     df2 \u001b[38;5;241m=\u001b[39m ion_selection\u001b[38;5;241m.\u001b[39mmolecule_create(formula_com\u001b[38;5;241m.\u001b[39mvalue, complexity\u001b[38;5;241m.\u001b[39mvalue, charge\u001b[38;5;241m.\u001b[39mvalue, aboundance_threshold\u001b[38;5;241m.\u001b[39mvalue, variables)\n\u001b[0;32m     53\u001b[0m     df \u001b[38;5;241m=\u001b[39m pd\u001b[38;5;241m.\u001b[39mconcat([df1, df2], axis\u001b[38;5;241m=\u001b[39m\u001b[38;5;241m0\u001b[39m)\n",
          "File \u001b[1;32md:\\pyccapt\\pyccapt\\calibration\\calibration_tools\\ion_selection.py:262\u001b[0m, in \u001b[0;36mload_elements\u001b[1;34m(target_elements, abundance_threshold, charge, data_table, variables)\u001b[0m\n\u001b[0;32m    259\u001b[0m     element_symbols\u001b[38;5;241m.\u001b[39mappend(formula)\n\u001b[0;32m    261\u001b[0m \u001b[38;5;66;03m# Create DataFrame\u001b[39;00m\n\u001b[1;32m--> 262\u001b[0m df \u001b[38;5;241m=\u001b[39m \u001b[43mpd\u001b[49m\u001b[38;5;241;43m.\u001b[39;49m\u001b[43mDataFrame\u001b[49m\u001b[43m(\u001b[49m\u001b[43m{\u001b[49m\n\u001b[0;32m    263\u001b[0m \u001b[43m    \u001b[49m\u001b[38;5;124;43m'\u001b[39;49m\u001b[38;5;124;43mion\u001b[39;49m\u001b[38;5;124;43m'\u001b[39;49m\u001b[43m:\u001b[49m\u001b[43m \u001b[49m\u001b[43melement_symbols\u001b[49m\u001b[43m,\u001b[49m\n\u001b[0;32m    264\u001b[0m \u001b[43m    \u001b[49m\u001b[38;5;124;43m'\u001b[39;49m\u001b[38;5;124;43mmass\u001b[39;49m\u001b[38;5;124;43m'\u001b[39;49m\u001b[43m:\u001b[49m\u001b[43m \u001b[49m\u001b[43mselected_weights\u001b[49m\u001b[43m,\u001b[49m\n\u001b[0;32m    265\u001b[0m \u001b[43m    \u001b[49m\u001b[38;5;124;43m'\u001b[39;49m\u001b[38;5;124;43melement\u001b[39;49m\u001b[38;5;124;43m'\u001b[39;49m\u001b[43m:\u001b[49m\u001b[43m \u001b[49m\u001b[43m[\u001b[49m\u001b[43mselected_elements\u001b[49m\u001b[43m]\u001b[49m\u001b[43m,\u001b[49m\n\u001b[0;32m    266\u001b[0m \u001b[43m    \u001b[49m\u001b[38;5;124;43m'\u001b[39;49m\u001b[38;5;124;43mcomplex\u001b[39;49m\u001b[38;5;124;43m'\u001b[39;49m\u001b[43m:\u001b[49m\u001b[43m \u001b[49m\u001b[43m[\u001b[49m\u001b[43mnp\u001b[49m\u001b[38;5;241;43m.\u001b[39;49m\u001b[43mones\u001b[49m\u001b[43m(\u001b[49m\u001b[38;5;28;43mlen\u001b[39;49m\u001b[43m(\u001b[49m\u001b[43midxs\u001b[49m\u001b[43m)\u001b[49m\u001b[43m,\u001b[49m\u001b[43m \u001b[49m\u001b[43mdtype\u001b[49m\u001b[38;5;241;43m=\u001b[39;49m\u001b[38;5;28;43mint\u001b[39;49m\u001b[43m)\u001b[49m\u001b[43m]\u001b[49m\u001b[43m,\u001b[49m\n\u001b[0;32m    267\u001b[0m \u001b[43m    \u001b[49m\u001b[38;5;124;43m'\u001b[39;49m\u001b[38;5;124;43misotope\u001b[39;49m\u001b[38;5;124;43m'\u001b[39;49m\u001b[43m:\u001b[49m\u001b[43m \u001b[49m\u001b[43m[\u001b[49m\u001b[43mselected_isotope_number\u001b[49m\u001b[43m]\u001b[49m\u001b[43m,\u001b[49m\n\u001b[0;32m    268\u001b[0m \u001b[43m    \u001b[49m\u001b[38;5;124;43m'\u001b[39;49m\u001b[38;5;124;43mcharge\u001b[39;49m\u001b[38;5;124;43m'\u001b[39;49m\u001b[43m:\u001b[49m\u001b[43m \u001b[49m\u001b[43mselected_charge_list\u001b[49m\u001b[43m,\u001b[49m\n\u001b[0;32m    269\u001b[0m \u001b[43m    \u001b[49m\u001b[38;5;124;43m'\u001b[39;49m\u001b[38;5;124;43mabundance\u001b[39;49m\u001b[38;5;124;43m'\u001b[39;49m\u001b[43m:\u001b[49m\u001b[43m \u001b[49m\u001b[43mselected_abundance\u001b[49m\u001b[43m,\u001b[49m\n\u001b[0;32m    270\u001b[0m \u001b[43m\u001b[49m\u001b[43m}\u001b[49m\u001b[43m)\u001b[49m\n\u001b[0;32m    272\u001b[0m \u001b[38;5;66;03m# Sort DataFrame\u001b[39;00m\n\u001b[0;32m    273\u001b[0m df \u001b[38;5;241m=\u001b[39m df\u001b[38;5;241m.\u001b[39msort_values(by\u001b[38;5;241m=\u001b[39m[\u001b[38;5;124m'\u001b[39m\u001b[38;5;124mmass\u001b[39m\u001b[38;5;124m'\u001b[39m], ascending\u001b[38;5;241m=\u001b[39m[\u001b[38;5;28;01mTrue\u001b[39;00m])\n",
          "File \u001b[1;32m~\\.conda\\envs\\oxcart5\\lib\\site-packages\\pandas\\core\\frame.py:664\u001b[0m, in \u001b[0;36mDataFrame.__init__\u001b[1;34m(self, data, index, columns, dtype, copy)\u001b[0m\n\u001b[0;32m    658\u001b[0m     mgr \u001b[38;5;241m=\u001b[39m \u001b[38;5;28mself\u001b[39m\u001b[38;5;241m.\u001b[39m_init_mgr(\n\u001b[0;32m    659\u001b[0m         data, axes\u001b[38;5;241m=\u001b[39m{\u001b[38;5;124m\"\u001b[39m\u001b[38;5;124mindex\u001b[39m\u001b[38;5;124m\"\u001b[39m: index, \u001b[38;5;124m\"\u001b[39m\u001b[38;5;124mcolumns\u001b[39m\u001b[38;5;124m\"\u001b[39m: columns}, dtype\u001b[38;5;241m=\u001b[39mdtype, copy\u001b[38;5;241m=\u001b[39mcopy\n\u001b[0;32m    660\u001b[0m     )\n\u001b[0;32m    662\u001b[0m \u001b[38;5;28;01melif\u001b[39;00m \u001b[38;5;28misinstance\u001b[39m(data, \u001b[38;5;28mdict\u001b[39m):\n\u001b[0;32m    663\u001b[0m     \u001b[38;5;66;03m# GH#38939 de facto copy defaults to False only in non-dict cases\u001b[39;00m\n\u001b[1;32m--> 664\u001b[0m     mgr \u001b[38;5;241m=\u001b[39m \u001b[43mdict_to_mgr\u001b[49m\u001b[43m(\u001b[49m\u001b[43mdata\u001b[49m\u001b[43m,\u001b[49m\u001b[43m \u001b[49m\u001b[43mindex\u001b[49m\u001b[43m,\u001b[49m\u001b[43m \u001b[49m\u001b[43mcolumns\u001b[49m\u001b[43m,\u001b[49m\u001b[43m \u001b[49m\u001b[43mdtype\u001b[49m\u001b[38;5;241;43m=\u001b[39;49m\u001b[43mdtype\u001b[49m\u001b[43m,\u001b[49m\u001b[43m \u001b[49m\u001b[43mcopy\u001b[49m\u001b[38;5;241;43m=\u001b[39;49m\u001b[43mcopy\u001b[49m\u001b[43m,\u001b[49m\u001b[43m \u001b[49m\u001b[43mtyp\u001b[49m\u001b[38;5;241;43m=\u001b[39;49m\u001b[43mmanager\u001b[49m\u001b[43m)\u001b[49m\n\u001b[0;32m    665\u001b[0m \u001b[38;5;28;01melif\u001b[39;00m \u001b[38;5;28misinstance\u001b[39m(data, ma\u001b[38;5;241m.\u001b[39mMaskedArray):\n\u001b[0;32m    666\u001b[0m     \u001b[38;5;28;01mimport\u001b[39;00m \u001b[38;5;21;01mnumpy\u001b[39;00m\u001b[38;5;21;01m.\u001b[39;00m\u001b[38;5;21;01mma\u001b[39;00m\u001b[38;5;21;01m.\u001b[39;00m\u001b[38;5;21;01mmrecords\u001b[39;00m \u001b[38;5;28;01mas\u001b[39;00m \u001b[38;5;21;01mmrecords\u001b[39;00m\n",
          "File \u001b[1;32m~\\.conda\\envs\\oxcart5\\lib\\site-packages\\pandas\\core\\internals\\construction.py:493\u001b[0m, in \u001b[0;36mdict_to_mgr\u001b[1;34m(data, index, columns, dtype, typ, copy)\u001b[0m\n\u001b[0;32m    489\u001b[0m     \u001b[38;5;28;01melse\u001b[39;00m:\n\u001b[0;32m    490\u001b[0m         \u001b[38;5;66;03m# dtype check to exclude e.g. range objects, scalars\u001b[39;00m\n\u001b[0;32m    491\u001b[0m         arrays \u001b[38;5;241m=\u001b[39m [x\u001b[38;5;241m.\u001b[39mcopy() \u001b[38;5;28;01mif\u001b[39;00m \u001b[38;5;28mhasattr\u001b[39m(x, \u001b[38;5;124m\"\u001b[39m\u001b[38;5;124mdtype\u001b[39m\u001b[38;5;124m\"\u001b[39m) \u001b[38;5;28;01melse\u001b[39;00m x \u001b[38;5;28;01mfor\u001b[39;00m x \u001b[38;5;129;01min\u001b[39;00m arrays]\n\u001b[1;32m--> 493\u001b[0m \u001b[38;5;28;01mreturn\u001b[39;00m \u001b[43marrays_to_mgr\u001b[49m\u001b[43m(\u001b[49m\u001b[43marrays\u001b[49m\u001b[43m,\u001b[49m\u001b[43m \u001b[49m\u001b[43mcolumns\u001b[49m\u001b[43m,\u001b[49m\u001b[43m \u001b[49m\u001b[43mindex\u001b[49m\u001b[43m,\u001b[49m\u001b[43m \u001b[49m\u001b[43mdtype\u001b[49m\u001b[38;5;241;43m=\u001b[39;49m\u001b[43mdtype\u001b[49m\u001b[43m,\u001b[49m\u001b[43m \u001b[49m\u001b[43mtyp\u001b[49m\u001b[38;5;241;43m=\u001b[39;49m\u001b[43mtyp\u001b[49m\u001b[43m,\u001b[49m\u001b[43m \u001b[49m\u001b[43mconsolidate\u001b[49m\u001b[38;5;241;43m=\u001b[39;49m\u001b[43mcopy\u001b[49m\u001b[43m)\u001b[49m\n",
          "File \u001b[1;32m~\\.conda\\envs\\oxcart5\\lib\\site-packages\\pandas\\core\\internals\\construction.py:118\u001b[0m, in \u001b[0;36marrays_to_mgr\u001b[1;34m(arrays, columns, index, dtype, verify_integrity, typ, consolidate)\u001b[0m\n\u001b[0;32m    115\u001b[0m \u001b[38;5;28;01mif\u001b[39;00m verify_integrity:\n\u001b[0;32m    116\u001b[0m     \u001b[38;5;66;03m# figure out the index, if necessary\u001b[39;00m\n\u001b[0;32m    117\u001b[0m     \u001b[38;5;28;01mif\u001b[39;00m index \u001b[38;5;129;01mis\u001b[39;00m \u001b[38;5;28;01mNone\u001b[39;00m:\n\u001b[1;32m--> 118\u001b[0m         index \u001b[38;5;241m=\u001b[39m \u001b[43m_extract_index\u001b[49m\u001b[43m(\u001b[49m\u001b[43marrays\u001b[49m\u001b[43m)\u001b[49m\n\u001b[0;32m    119\u001b[0m     \u001b[38;5;28;01melse\u001b[39;00m:\n\u001b[0;32m    120\u001b[0m         index \u001b[38;5;241m=\u001b[39m ensure_index(index)\n",
          "File \u001b[1;32m~\\.conda\\envs\\oxcart5\\lib\\site-packages\\pandas\\core\\internals\\construction.py:666\u001b[0m, in \u001b[0;36m_extract_index\u001b[1;34m(data)\u001b[0m\n\u001b[0;32m    664\u001b[0m lengths \u001b[38;5;241m=\u001b[39m \u001b[38;5;28mlist\u001b[39m(\u001b[38;5;28mset\u001b[39m(raw_lengths))\n\u001b[0;32m    665\u001b[0m \u001b[38;5;28;01mif\u001b[39;00m \u001b[38;5;28mlen\u001b[39m(lengths) \u001b[38;5;241m>\u001b[39m \u001b[38;5;241m1\u001b[39m:\n\u001b[1;32m--> 666\u001b[0m     \u001b[38;5;28;01mraise\u001b[39;00m \u001b[38;5;167;01mValueError\u001b[39;00m(\u001b[38;5;124m\"\u001b[39m\u001b[38;5;124mAll arrays must be of the same length\u001b[39m\u001b[38;5;124m\"\u001b[39m)\n\u001b[0;32m    668\u001b[0m \u001b[38;5;28;01mif\u001b[39;00m have_dicts:\n\u001b[0;32m    669\u001b[0m     \u001b[38;5;28;01mraise\u001b[39;00m \u001b[38;5;167;01mValueError\u001b[39;00m(\n\u001b[0;32m    670\u001b[0m         \u001b[38;5;124m\"\u001b[39m\u001b[38;5;124mMixing dicts with non-Series may lead to ambiguous ordering.\u001b[39m\u001b[38;5;124m\"\u001b[39m\n\u001b[0;32m    671\u001b[0m     )\n",
          "\u001b[1;31mValueError\u001b[0m: All arrays must be of the same length"
         ]
        }
       ]
      }
     },
     "ef09c4d67c274edb8a7fafecbf7d257a": {
      "model_module": "@jupyter-widgets/controls",
      "model_module_version": "2.0.0",
      "model_name": "HBoxModel",
      "state": {
       "children": [
        "IPY_MODEL_fb32129328174c15bc5e4f9d04936a8b",
        "IPY_MODEL_46c43f3d90604b98a436292a8187a281",
        "IPY_MODEL_c75f9dc38d86472180ad3f36c0f555dd"
       ],
       "layout": "IPY_MODEL_6420893781d74747afe8cbdd542ac5f8"
      }
     },
     "ef38182d5db9410a9970464459c77e6a": {
      "model_module": "@jupyter-widgets/controls",
      "model_module_version": "2.0.0",
      "model_name": "TabModel",
      "state": {
       "children": [
        "IPY_MODEL_16286700e5574b038c56962c04fbbf91",
        "IPY_MODEL_3b38c07be2994d418f5fb56946325f0f"
       ],
       "layout": "IPY_MODEL_2b630eff696f4adc914669b37e337527",
       "selected_index": 0,
       "titles": [
        "peak finder",
        "rangging"
       ]
      }
     },
     "ef5700973d694b61bf426aa5a2dae5e5": {
      "model_module": "@jupyter-widgets/base",
      "model_module_version": "2.0.0",
      "model_name": "LayoutModel",
      "state": {}
     },
     "ef72be2d5b644e519d5de2343fc00d7a": {
      "model_module": "@jupyter-widgets/controls",
      "model_module_version": "2.0.0",
      "model_name": "IntTextModel",
      "state": {
       "description": "prominence",
       "layout": "IPY_MODEL_f5597653f32b41cdab49920309e1e8a1",
       "step": 1,
       "style": "IPY_MODEL_8ef2b133e5f1485d9c3f9529e714e64b",
       "value": 100
      }
     },
     "f025471db8814e35bffeeef4540cf995": {
      "model_module": "@jupyter-widgets/controls",
      "model_module_version": "2.0.0",
      "model_name": "DescriptionStyleModel",
      "state": {
       "description_width": ""
      }
     },
     "f068b54c092b4412bb1589d78d53111a": {
      "model_module": "@jupyter-widgets/controls",
      "model_module_version": "2.0.0",
      "model_name": "ButtonModel",
      "state": {
       "description": "show color",
       "layout": "IPY_MODEL_f173ed52352f4329a50defc74f1252e9",
       "style": "IPY_MODEL_75c7d31de762458b88ffb507373aa707",
       "tooltip": null
      }
     },
     "f06db3cad5fa4551831b933b3f4007e3": {
      "model_module": "@jupyter-widgets/base",
      "model_module_version": "2.0.0",
      "model_name": "LayoutModel",
      "state": {}
     },
     "f0a8470d19f8422394503a606f40fbfb": {
      "model_module": "@jupyter-widgets/controls",
      "model_module_version": "2.0.0",
      "model_name": "DescriptionStyleModel",
      "state": {
       "description_width": ""
      }
     },
     "f0b07764666b48819f57beb1aca38325": {
      "model_module": "@jupyter-widgets/controls",
      "model_module_version": "2.0.0",
      "model_name": "FloatTextModel",
      "state": {
       "description": "bin_size",
       "layout": "IPY_MODEL_4b90d8443f644b40be60a659b5ca8161",
       "step": null,
       "style": "IPY_MODEL_6589727b1ebd4e0eabcbadd318eef168",
       "value": 0.1
      }
     },
     "f173ed52352f4329a50defc74f1252e9": {
      "model_module": "@jupyter-widgets/base",
      "model_module_version": "2.0.0",
      "model_name": "LayoutModel",
      "state": {}
     },
     "f2b6a8afd1824ad8b46287656965a4e2": {
      "model_module": "@jupyter-widgets/base",
      "model_module_version": "2.0.0",
      "model_name": "LayoutModel",
      "state": {}
     },
     "f2b99e70d24348548d6eb0f36e5fe055": {
      "model_module": "@jupyter-widgets/base",
      "model_module_version": "2.0.0",
      "model_name": "LayoutModel",
      "state": {}
     },
     "f3218e8549c448689c9cb777103f42f3": {
      "model_module": "@jupyter-widgets/output",
      "model_module_version": "1.0.0",
      "model_name": "OutputModel",
      "state": {
       "layout": "IPY_MODEL_9b890a88e57348bc859bd605f04e6915",
       "outputs": [
        {
         "data": {
          "text/html": "<div>\n<style scoped>\n    .dataframe tbody tr th:only-of-type {\n        vertical-align: middle;\n    }\n\n    .dataframe tbody tr th {\n        vertical-align: top;\n    }\n\n    .dataframe thead th {\n        text-align: right;\n    }\n</style>\n<table border=\"1\" class=\"dataframe\">\n  <thead>\n    <tr style=\"text-align: right;\">\n      <th></th>\n      <th>ion</th>\n      <th>mass</th>\n      <th>element</th>\n      <th>complex</th>\n      <th>isotope</th>\n      <th>charge</th>\n      <th>abundance</th>\n    </tr>\n  </thead>\n  <tbody>\n    <tr>\n      <th>0</th>\n      <td>${}^{1}H^{+}$</td>\n      <td>1.0100</td>\n      <td>[H]</td>\n      <td>[1]</td>\n      <td>[1]</td>\n      <td>1</td>\n      <td>99.9850</td>\n    </tr>\n    <tr>\n      <th>1</th>\n      <td>${}^{1}H_{3}^{3+}$</td>\n      <td>1.0100</td>\n      <td>[H]</td>\n      <td>[3]</td>\n      <td>[1]</td>\n      <td>3</td>\n      <td>0.9996</td>\n    </tr>\n    <tr>\n      <th>2</th>\n      <td>${}^{2}H^{2+}$</td>\n      <td>1.0050</td>\n      <td>[H]</td>\n      <td>[1]</td>\n      <td>[2]</td>\n      <td>2</td>\n      <td>0.0150</td>\n    </tr>\n    <tr>\n      <th>3</th>\n      <td>$({}^{2}H{}^{1}H{}^{1}H)^{3+}$</td>\n      <td>1.3433</td>\n      <td>[H, H, H]</td>\n      <td>[1, 1, 1]</td>\n      <td>[2, 1, 1]</td>\n      <td>3</td>\n      <td>0.0001</td>\n    </tr>\n    <tr>\n      <th>4</th>\n      <td>$({}^{1}H_{2}{}^{2}H)^{3+}$</td>\n      <td>1.3433</td>\n      <td>[H, H]</td>\n      <td>[2, 1]</td>\n      <td>[1, 2]</td>\n      <td>3</td>\n      <td>0.0001</td>\n    </tr>\n    <tr>\n      <th>...</th>\n      <td>...</td>\n      <td>...</td>\n      <td>...</td>\n      <td>...</td>\n      <td>...</td>\n      <td>...</td>\n      <td>...</td>\n    </tr>\n    <tr>\n      <th>661</th>\n      <td>${}^{27}Al_{2}{}^{17}O$</td>\n      <td>70.9600</td>\n      <td>[Al, O]</td>\n      <td>[2, 1]</td>\n      <td>[27, 17]</td>\n      <td>1</td>\n      <td>0.0004</td>\n    </tr>\n    <tr>\n      <th>662</th>\n      <td>${}^{27}Al_{2}{}^{18}O$</td>\n      <td>71.9600</td>\n      <td>[Al, O]</td>\n      <td>[2, 1]</td>\n      <td>[27, 18]</td>\n      <td>1</td>\n      <td>0.0020</td>\n    </tr>\n    <tr>\n      <th>663</th>\n      <td>${}^{18}O{}^{27}Al_{2}$</td>\n      <td>71.9600</td>\n      <td>[O, Al]</td>\n      <td>[1, 2]</td>\n      <td>[18, 27]</td>\n      <td>1</td>\n      <td>0.0020</td>\n    </tr>\n    <tr>\n      <th>664</th>\n      <td>${}^{27}Al_{2}{}^{18}O$</td>\n      <td>71.9600</td>\n      <td>[Al, O]</td>\n      <td>[2, 1]</td>\n      <td>[27, 18]</td>\n      <td>1</td>\n      <td>0.0020</td>\n    </tr>\n    <tr>\n      <th>665</th>\n      <td>${}^{27}Al_{3}$</td>\n      <td>80.9400</td>\n      <td>[Al]</td>\n      <td>[3]</td>\n      <td>[27]</td>\n      <td>1</td>\n      <td>1.0000</td>\n    </tr>\n  </tbody>\n</table>\n<p>666 rows × 7 columns</p>\n</div>",
          "text/plain": "                                ion     mass    element    complex    isotope  \\\n0                     ${}^{1}H^{+}$   1.0100        [H]        [1]        [1]   \n1                ${}^{1}H_{3}^{3+}$   1.0100        [H]        [3]        [1]   \n2                    ${}^{2}H^{2+}$   1.0050        [H]        [1]        [2]   \n3    $({}^{2}H{}^{1}H{}^{1}H)^{3+}$   1.3433  [H, H, H]  [1, 1, 1]  [2, 1, 1]   \n4       $({}^{1}H_{2}{}^{2}H)^{3+}$   1.3433     [H, H]     [2, 1]     [1, 2]   \n..                              ...      ...        ...        ...        ...   \n661         ${}^{27}Al_{2}{}^{17}O$  70.9600    [Al, O]     [2, 1]   [27, 17]   \n662         ${}^{27}Al_{2}{}^{18}O$  71.9600    [Al, O]     [2, 1]   [27, 18]   \n663         ${}^{18}O{}^{27}Al_{2}$  71.9600    [O, Al]     [1, 2]   [18, 27]   \n664         ${}^{27}Al_{2}{}^{18}O$  71.9600    [Al, O]     [2, 1]   [27, 18]   \n665                 ${}^{27}Al_{3}$  80.9400       [Al]        [3]       [27]   \n\n     charge  abundance  \n0         1    99.9850  \n1         3     0.9996  \n2         2     0.0150  \n3         3     0.0001  \n4         3     0.0001  \n..      ...        ...  \n661       1     0.0004  \n662       1     0.0020  \n663       1     0.0020  \n664       1     0.0020  \n665       1     1.0000  \n\n[666 rows x 7 columns]"
         },
         "metadata": {},
         "output_type": "display_data"
        }
       ]
      }
     },
     "f33103866c0549d5800f3507b1491f2b": {
      "model_module": "@jupyter-widgets/controls",
      "model_module_version": "2.0.0",
      "model_name": "ColorPickerModel",
      "state": {
       "description": "Select a color:",
       "disabled": false,
       "layout": "IPY_MODEL_000c72e542fc4bdda2414822b22c15e2",
       "style": "IPY_MODEL_e5b4387eb5024e84abbf56f43cee4b5c"
      }
     },
     "f3530f66d6ee4b72883b992cbd4ff95c": {
      "model_module": "@jupyter-widgets/controls",
      "model_module_version": "2.0.0",
      "model_name": "TextStyleModel",
      "state": {
       "description_width": "",
       "font_size": null,
       "text_color": null
      }
     },
     "f4032e1d771148c784dff44fd30f35e3": {
      "model_module": "@jupyter-widgets/controls",
      "model_module_version": "2.0.0",
      "model_name": "TextStyleModel",
      "state": {
       "description_width": "",
       "font_size": null,
       "text_color": null
      }
     },
     "f40d2d35656a414e8962b14716fca2db": {
      "model_module": "@jupyter-widgets/base",
      "model_module_version": "2.0.0",
      "model_name": "LayoutModel",
      "state": {}
     },
     "f4cde27830354ed59b3e0eef08c70c15": {
      "model_module": "@jupyter-widgets/controls",
      "model_module_version": "2.0.0",
      "model_name": "ButtonModel",
      "state": {
       "description": "plot hist",
       "layout": "IPY_MODEL_9f4e049bb6504344853b9042ab8e61b0",
       "style": "IPY_MODEL_d8334bb76ec444dfb2772f3356fc3531",
       "tooltip": null
      }
     },
     "f4fd3d6bb56a45969ba39b4974957e0b": {
      "model_module": "@jupyter-widgets/base",
      "model_module_version": "2.0.0",
      "model_name": "LayoutModel",
      "state": {}
     },
     "f54d926e6cd2428eb3612b6cd4e6b982": {
      "model_module": "@jupyter-widgets/controls",
      "model_module_version": "2.0.0",
      "model_name": "HBoxModel",
      "state": {
       "children": [
        "IPY_MODEL_a5d05958e36247358a1d50db9b1a8fa3",
        "IPY_MODEL_7e2691f789ad45a49be308bd0d19cff5"
       ],
       "layout": "IPY_MODEL_8dc97699ff004d20b5a3cff3aaa2505f"
      }
     },
     "f5597653f32b41cdab49920309e1e8a1": {
      "model_module": "@jupyter-widgets/base",
      "model_module_version": "2.0.0",
      "model_name": "LayoutModel",
      "state": {}
     },
     "f5b9c49a1dea42c8859193af3eb28828": {
      "model_module": "@jupyter-widgets/controls",
      "model_module_version": "2.0.0",
      "model_name": "ButtonModel",
      "state": {
       "description": "plot hist",
       "layout": "IPY_MODEL_2ea272c507c2411bb0fa175d2a8ac230",
       "style": "IPY_MODEL_0a6406b2d8c1449d803e1f230127d904",
       "tooltip": null
      }
     },
     "f602ec26557c455c9ecc769d1f676d48": {
      "model_module": "@jupyter-widgets/controls",
      "model_module_version": "2.0.0",
      "model_name": "VBoxModel",
      "state": {
       "children": [
        "IPY_MODEL_2b55fe5f010c464891f993032eccdaba",
        "IPY_MODEL_2054726045aa48bca6158b5777b9a3bd",
        "IPY_MODEL_9f5575e61d694bb19710c25de515d74b",
        "IPY_MODEL_6c7622172d614e599d15d8a77f48b3c3",
        "IPY_MODEL_d22ac604b4f640b0a91861a2d3d77b3a",
        "IPY_MODEL_58c92b6d86d646068cf3ecc7021d98d1"
       ],
       "layout": "IPY_MODEL_89956c0505de4e60836b367fae58d3ac"
      }
     },
     "f6462cda005d4285830b67fafe6185d7": {
      "model_module": "@jupyter-widgets/controls",
      "model_module_version": "2.0.0",
      "model_name": "ButtonStyleModel",
      "state": {
       "font_family": null,
       "font_size": null,
       "font_style": null,
       "font_variant": null,
       "font_weight": null,
       "text_color": null,
       "text_decoration": null
      }
     },
     "f646e9cefaf44d518669f78381d79493": {
      "model_module": "@jupyter-widgets/base",
      "model_module_version": "2.0.0",
      "model_name": "LayoutModel",
      "state": {}
     },
     "f6bdd783b5c145a1aa459e680ee27c14": {
      "model_module": "@jupyter-widgets/controls",
      "model_module_version": "2.0.0",
      "model_name": "ButtonStyleModel",
      "state": {
       "font_family": null,
       "font_size": null,
       "font_style": null,
       "font_variant": null,
       "font_weight": null,
       "text_color": null,
       "text_decoration": null
      }
     },
     "f790615950e343a4a82c4a0df48d8bd8": {
      "model_module": "@jupyter-widgets/controls",
      "model_module_version": "2.0.0",
      "model_name": "ButtonStyleModel",
      "state": {
       "font_family": null,
       "font_size": null,
       "font_style": null,
       "font_variant": null,
       "font_weight": null,
       "text_color": null,
       "text_decoration": null
      }
     },
     "f8024e7caa14496a9ac30829617ba5a3": {
      "model_module": "@jupyter-widgets/controls",
      "model_module_version": "2.0.0",
      "model_name": "HBoxModel",
      "state": {
       "children": [
        "IPY_MODEL_ff8227b11d2e450c9a7bd103e1dbed23",
        "IPY_MODEL_da07a08613e4443092f47fa663b3995e"
       ],
       "layout": "IPY_MODEL_71df556d24e14af189d58f51d05b26e1"
      }
     },
     "f81a7d303bcf44aba007c4d2a0adc9b4": {
      "model_module": "@jupyter-widgets/base",
      "model_module_version": "2.0.0",
      "model_name": "LayoutModel",
      "state": {}
     },
     "f84fbbe45b4c47c4b7d89701f0f64b97": {
      "model_module": "@jupyter-widgets/controls",
      "model_module_version": "2.0.0",
      "model_name": "ButtonStyleModel",
      "state": {
       "font_family": null,
       "font_size": null,
       "font_style": null,
       "font_variant": null,
       "font_weight": null,
       "text_color": null,
       "text_decoration": null
      }
     },
     "f883cbd28ca649689db7464b3904ad0c": {
      "model_module": "@jupyter-widgets/base",
      "model_module_version": "2.0.0",
      "model_name": "LayoutModel",
      "state": {}
     },
     "f9112561aa164aa1a08ab06799d9343b": {
      "model_module": "@jupyter-widgets/base",
      "model_module_version": "2.0.0",
      "model_name": "LayoutModel",
      "state": {}
     },
     "f92776c17a604b399998573e9e6510f9": {
      "model_module": "@jupyter-widgets/controls",
      "model_module_version": "2.0.0",
      "model_name": "DescriptionStyleModel",
      "state": {
       "description_width": ""
      }
     },
     "f9c159472e434c6cb23f8eae29cef050": {
      "model_module": "@jupyter-widgets/base",
      "model_module_version": "2.0.0",
      "model_name": "LayoutModel",
      "state": {}
     },
     "f9fa741c2d4c460a8c6c669f44b5ec73": {
      "model_module": "@jupyter-widgets/base",
      "model_module_version": "2.0.0",
      "model_name": "LayoutModel",
      "state": {}
     },
     "f9fe4a7cafd14db595c01712df257cab": {
      "model_module": "@jupyter-widgets/controls",
      "model_module_version": "2.0.0",
      "model_name": "VBoxModel",
      "state": {
       "children": [
        "IPY_MODEL_0980a2a93ceb4e46bc036161ff700f2c",
        "IPY_MODEL_687ea5cc49ca4bd8b22bb27073b2a3f2",
        "IPY_MODEL_ca052d9e54e94adcb6c407aa78e3c759",
        "IPY_MODEL_56298ce13552415a8301e7934bae3456",
        "IPY_MODEL_abc75fdfe4b44b799607948108a7dfbc",
        "IPY_MODEL_eda9c737d29d4964939b92123cb5e558",
        "IPY_MODEL_42e147bbdb5b4a5aaaec1a207ef27ec5"
       ],
       "layout": "IPY_MODEL_e0c1353a6cd24a278aa30bc14a61bf62"
      }
     },
     "fa0ea6dad5d44353af7dd9d41c8065aa": {
      "model_module": "@jupyter-widgets/controls",
      "model_module_version": "2.0.0",
      "model_name": "ButtonStyleModel",
      "state": {
       "font_family": null,
       "font_size": null,
       "font_style": null,
       "font_variant": null,
       "font_weight": null,
       "text_color": null,
       "text_decoration": null
      }
     },
     "fb0995b8e2db42da8b713923b0a55187": {
      "model_module": "@jupyter-widgets/output",
      "model_module_version": "1.0.0",
      "model_name": "OutputModel",
      "state": {
       "layout": "IPY_MODEL_84702ff6c8f245b6889130d319e4975e",
       "outputs": [
        {
         "data": {
          "text/html": "<div>\n<style scoped>\n    .dataframe tbody tr th:only-of-type {\n        vertical-align: middle;\n    }\n\n    .dataframe tbody tr th {\n        vertical-align: top;\n    }\n\n    .dataframe thead th {\n        text-align: right;\n    }\n</style>\n<table border=\"1\" class=\"dataframe\">\n  <thead>\n    <tr style=\"text-align: right;\">\n      <th></th>\n      <th>ion</th>\n      <th>mass</th>\n      <th>mc</th>\n      <th>mc_low</th>\n      <th>mc_up</th>\n      <th>color</th>\n      <th>element</th>\n      <th>complex</th>\n      <th>isotope</th>\n      <th>charge</th>\n    </tr>\n  </thead>\n  <tbody>\n  </tbody>\n</table>\n</div>",
          "text/plain": "Empty DataFrame\nColumns: [ion, mass, mc, mc_low, mc_up, color, element, complex, isotope, charge]\nIndex: []"
         },
         "metadata": {},
         "output_type": "display_data"
        }
       ]
      }
     },
     "fb1d65661e4b46669f333a94ba1f3664": {
      "model_module": "@jupyter-widgets/controls",
      "model_module_version": "2.0.0",
      "model_name": "ButtonModel",
      "state": {
       "description": "add ion",
       "layout": "IPY_MODEL_75c72c3fb6d94c05819dda685e5013a5",
       "style": "IPY_MODEL_57430db1abab4d1cb46bb5a550d6433d",
       "tooltip": null
      }
     },
     "fb32129328174c15bc5e4f9d04936a8b": {
      "model_module": "@jupyter-widgets/controls",
      "model_module_version": "2.0.0",
      "model_name": "VBoxModel",
      "state": {
       "children": [
        "IPY_MODEL_2b55fe5f010c464891f993032eccdaba",
        "IPY_MODEL_2054726045aa48bca6158b5777b9a3bd",
        "IPY_MODEL_9f5575e61d694bb19710c25de515d74b",
        "IPY_MODEL_6c7622172d614e599d15d8a77f48b3c3",
        "IPY_MODEL_d22ac604b4f640b0a91861a2d3d77b3a",
        "IPY_MODEL_d9eb48c5a95c4607818eeadd57b11448"
       ],
       "layout": "IPY_MODEL_1d3b11d4d03944b29c42d7d683b1fe14"
      }
     },
     "fb7eadc3287947dc8a93c313f876aea2": {
      "model_module": "@jupyter-widgets/controls",
      "model_module_version": "2.0.0",
      "model_name": "ButtonStyleModel",
      "state": {
       "font_family": null,
       "font_size": null,
       "font_style": null,
       "font_variant": null,
       "font_weight": null,
       "text_color": null,
       "text_decoration": null
      }
     },
     "fba524e51c604076ac5995f408522f1d": {
      "model_module": "@jupyter-widgets/controls",
      "model_module_version": "2.0.0",
      "model_name": "ButtonModel",
      "state": {
       "description": "find element",
       "layout": "IPY_MODEL_386405eb0939486a9fc306dfb62a7555",
       "style": "IPY_MODEL_6b3750f3bf764091ad8b4d227d29ab43",
       "tooltip": null
      }
     },
     "fbd55e8f725744dd97a9ae1ca593f068": {
      "model_module": "@jupyter-widgets/base",
      "model_module_version": "2.0.0",
      "model_name": "LayoutModel",
      "state": {}
     },
     "fc371000b7fa40b99d0445f177abf543": {
      "model_module": "@jupyter-widgets/controls",
      "model_module_version": "2.0.0",
      "model_name": "FloatTextModel",
      "state": {
       "description": "threshold aboundance:",
       "layout": "IPY_MODEL_47c649297c874db59a61a6231c9da5e0",
       "step": 0.1,
       "style": "IPY_MODEL_4a8c05e880eb4cc98636a01625f0cfe8"
      }
     },
     "fc87c45438af432392a4bf8afd30332f": {
      "model_module": "@jupyter-widgets/controls",
      "model_module_version": "2.0.0",
      "model_name": "ButtonModel",
      "state": {
       "description": "Add all peaks",
       "layout": "IPY_MODEL_b137e4e86e384d128980b506c4a1e027",
       "style": "IPY_MODEL_0b2c5be0c7c44b4186ae42f2a340f63b",
       "tooltip": null
      }
     },
     "fc9e9b596fab4f8e9770158d432102ed": {
      "model_module": "@jupyter-widgets/base",
      "model_module_version": "2.0.0",
      "model_name": "LayoutModel",
      "state": {}
     },
     "fccbb18cdd484c0c80db9c308c2aed09": {
      "model_module": "@jupyter-widgets/base",
      "model_module_version": "2.0.0",
      "model_name": "LayoutModel",
      "state": {}
     },
     "fd23d3fd7acd4fc18a32315c21414673": {
      "model_module": "@jupyter-widgets/controls",
      "model_module_version": "2.0.0",
      "model_name": "ButtonModel",
      "state": {
       "description": "Reset",
       "layout": "IPY_MODEL_bd803e6b727f42f2bc60d1e568abb016",
       "style": "IPY_MODEL_5154b841fd4c495ab1087617879f8824",
       "tooltip": null
      }
     },
     "fd43b7a8cee641a5a4c949114574b45a": {
      "model_module": "@jupyter-widgets/base",
      "model_module_version": "2.0.0",
      "model_name": "LayoutModel",
      "state": {}
     },
     "fd5513b6b21e48559b73e62029878a15": {
      "model_module": "@jupyter-widgets/base",
      "model_module_version": "2.0.0",
      "model_name": "LayoutModel",
      "state": {}
     },
     "fd5c1b861ebf4434ae01c57717e688fe": {
      "model_module": "@jupyter-widgets/controls",
      "model_module_version": "2.0.0",
      "model_name": "ButtonModel",
      "state": {
       "description": "Add all peaks",
       "layout": "IPY_MODEL_66fb96397f4c40549110deb880d3c77c",
       "style": "IPY_MODEL_7d90af3bf6b2473080d5f3291c53f2cd",
       "tooltip": null
      }
     },
     "fd7c98ff1cc446ba83299534244f52b0": {
      "model_module": "@jupyter-widgets/base",
      "model_module_version": "2.0.0",
      "model_name": "LayoutModel",
      "state": {}
     },
     "fe24821a590440589e98e0e90ec4ec1a": {
      "model_module": "@jupyter-widgets/base",
      "model_module_version": "2.0.0",
      "model_name": "LayoutModel",
      "state": {}
     },
     "fe55de11db1341a39a9779597dafd408": {
      "model_module": "@jupyter-widgets/controls",
      "model_module_version": "2.0.0",
      "model_name": "ButtonModel",
      "state": {
       "description": "Reset",
       "layout": "IPY_MODEL_b263b87ad39a4e58838fcc69285b65a2",
       "style": "IPY_MODEL_7c0c84aea60740779cb08a4a4cc65778",
       "tooltip": null
      }
     },
     "fed66f1479aa41e3959a5217b01af305": {
      "model_module": "@jupyter-widgets/controls",
      "model_module_version": "2.0.0",
      "model_name": "ButtonModel",
      "state": {
       "description": "Add all peaks",
       "layout": "IPY_MODEL_87518a5bae9f4c7b9ca41493e930470f",
       "style": "IPY_MODEL_e61f5fe51b1f479396fc6d070c2f86cb",
       "tooltip": null
      }
     },
     "fee4039389a04ad4b323b3b606dbc3bf": {
      "model_module": "@jupyter-widgets/controls",
      "model_module_version": "2.0.0",
      "model_name": "TabModel",
      "state": {
       "children": [
        "IPY_MODEL_ec364a47fa4144af890cb10a599e4e07"
       ],
       "layout": "IPY_MODEL_adfa934fb9214f9a82112fdaf7a5b27f",
       "selected_index": 0,
       "titles": [
        "element finder"
       ]
      }
     },
     "ff2e6248cc6d473694e3eb49ad2acc40": {
      "model_module": "@jupyter-widgets/controls",
      "model_module_version": "2.0.0",
      "model_name": "VBoxModel",
      "state": {
       "children": [
        "IPY_MODEL_2b55fe5f010c464891f993032eccdaba",
        "IPY_MODEL_2054726045aa48bca6158b5777b9a3bd",
        "IPY_MODEL_9f5575e61d694bb19710c25de515d74b",
        "IPY_MODEL_6c7622172d614e599d15d8a77f48b3c3",
        "IPY_MODEL_d22ac604b4f640b0a91861a2d3d77b3a",
        "IPY_MODEL_fba524e51c604076ac5995f408522f1d"
       ],
       "layout": "IPY_MODEL_35b700a2a3634487adade1acb942e04d"
      }
     },
     "ff8227b11d2e450c9a7bd103e1dbed23": {
      "model_module": "@jupyter-widgets/output",
      "model_module_version": "1.0.0",
      "model_name": "OutputModel",
      "state": {
       "layout": "IPY_MODEL_921b08667874480b8b26f57ecae9b96f"
      }
     },
     "ffe0c83b17b94138982076074794e08d": {
      "model_module": "@jupyter-widgets/controls",
      "model_module_version": "2.0.0",
      "model_name": "DescriptionStyleModel",
      "state": {
       "description_width": ""
      }
     }
    },
    "version_major": 2,
    "version_minor": 0
   }
  }
 },
 "nbformat": 4,
 "nbformat_minor": 4
}

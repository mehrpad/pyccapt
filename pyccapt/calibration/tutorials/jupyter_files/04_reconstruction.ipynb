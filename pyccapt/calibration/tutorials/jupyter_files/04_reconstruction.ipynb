{
 "cells": [
  {
   "cell_type": "code",
   "execution_count": 1,
   "metadata": {
    "tags": []
   },
   "outputs": [],
   "source": [
    "# Activate intractive functionality of matplotlib\n",
    "%matplotlib ipympl\n",
    "# Activate auto reload \n",
    "%load_ext autoreload\n",
    "%autoreload 2\n",
    "%reload_ext autoreload\n",
    "# import libraries\n",
    "import os\n",
    "import os.path as path\n",
    "import pandas as pd\n",
    "import h5py\n",
    "import numpy as np\n",
    "from faker import Factory\n",
    "import matplotlib.pyplot as plt\n",
    "from plotly.offline import init_notebook_mode, iplot\n",
    "from plotly.graph_objs import *\n",
    "import plotly\n",
    "from ipywidgets import fixed, interact_manual, widgets\n",
    "from ipywidgets import HBox, VBox\n",
    "from IPython.display import clear_output\n",
    "from IPython.display import display\n",
    "from ipywidgets import IntSlider, Output\n",
    "import plotly.graph_objects as go\n",
    "import plotly.express as plot_x\n",
    "import matplotlib.colors as mcolors\n",
    "\n",
    "# Local module and scripts\n",
    "from pyccapt.calibration.calibration_tools import tools, share_variables, calibration, ion_selection\n",
    "from pyccapt.calibration.calibration_tools import widgets as wd\n",
    "from pyccapt.calibration.data_tools import data_tools, data_loadcrop, dataset_path_qt\n",
    "from pyccapt.calibration.mc import mc_tools\n",
    "from pyccapt.calibration.reconstructions import reconstruction\n",
    "from pyccapt.calibration.leap_tools import ccapt_tools"
   ]
  },
  {
   "cell_type": "code",
   "execution_count": 2,
   "metadata": {
    "tags": []
   },
   "outputs": [
    {
     "data": {
      "application/vnd.jupyter.widget-view+json": {
       "model_id": "2fc5219423ea43979467827d0acba218",
       "version_major": 2,
       "version_minor": 0
      },
      "text/plain": [
       "Button(description='load dataset', style=ButtonStyle())"
      ]
     },
     "execution_count": 2,
     "metadata": {},
     "output_type": "execute_result"
    }
   ],
   "source": [
    "button = widgets.Button(\n",
    "    description='load dataset',\n",
    ")\n",
    "@button.on_click\n",
    "def open_file_on_click(b):\n",
    "    \"\"\"\n",
    "    Event handler for button click event.\n",
    "    Prompts the user to select a dataset file and stores the selected file path in the global variable dataset_path.\n",
    "    \"\"\"\n",
    "    global dataset_path\n",
    "    dataset_path = dataset_path_qt.gui_fname().decode('ASCII')\n",
    "button"
   ]
  },
  {
   "cell_type": "code",
   "execution_count": 4,
   "metadata": {
    "tags": []
   },
   "outputs": [
    {
     "data": {
      "application/vnd.jupyter.widget-view+json": {
       "model_id": "2ae7c8c2f1a341a39de69b60e4a75624",
       "version_major": 2,
       "version_minor": 0
      },
      "text/plain": [
       "Button(description='load range dataset', style=ButtonStyle())"
      ]
     },
     "execution_count": 4,
     "metadata": {},
     "output_type": "execute_result"
    }
   ],
   "source": [
    "button_r = widgets.Button(\n",
    "    description='load range dataset',\n",
    ")\n",
    "@button_r.on_click\n",
    "def open_file_on_click_r(b):\n",
    "    \"\"\"\n",
    "    Event handler for button click event.\n",
    "    Prompts the user to select a dataset file and stores the selected file path in the global variable dataset_path.\n",
    "    \"\"\"\n",
    "    global range_path\n",
    "    range_path = dataset_path_qt.gui_fname().decode('ASCII')\n",
    "button"
   ]
  },
  {
   "cell_type": "code",
   "execution_count": 5,
   "metadata": {
    "tags": []
   },
   "outputs": [
    {
     "data": {
      "application/vnd.jupyter.widget-view+json": {
       "model_id": "18ab5cde2dfd4e82ab8ad96ec1b4c531",
       "version_major": 2,
       "version_minor": 0
      },
      "text/plain": [
       "Dropdown(description='Data mode:', options=('surface_concept', 'roentdec', 'leap_epos', 'leap_pos', 'ato_v6'),…"
      ]
     },
     "metadata": {},
     "output_type": "display_data"
    },
    {
     "data": {
      "application/vnd.jupyter.widget-view+json": {
       "model_id": "1510f2ca4b804b7b92a57b69c3dd5c70",
       "version_major": 2,
       "version_minor": 0
      },
      "text/plain": [
       "FloatText(value=110.0, description='Flight path length:')"
      ]
     },
     "metadata": {},
     "output_type": "display_data"
    }
   ],
   "source": [
    "tdc, pulse_mode, flightPathLength, t0_d, max_mc, det_diam = wd.dataset_instrument_specification_selection()\n",
    "display(tdc, flightPathLength)"
   ]
  },
  {
   "cell_type": "code",
   "execution_count": 7,
   "metadata": {
    "tags": []
   },
   "outputs": [
    {
     "name": "stdout",
     "output_type": "stream",
     "text": [
      "The maximum time of flight: 5010\n"
     ]
    }
   ],
   "source": [
    "# exctract needed data from Pandas data frame as an numpy array\n",
    "# create an instance of the Variables opject\n",
    "variables = share_variables.Variables()\n",
    "variables.pulse_mode = pulse_mode\n",
    "dataset_main_path = os.path.dirname(dataset_path)\n",
    "dataset_name_with_extention = os.path.basename(dataset_path)\n",
    "variables.dataset_name = os.path.splitext(dataset_name_with_extention)[0]\n",
    "variables.result_data_path = dataset_main_path \n",
    "variables.result_data_name = 'reconstruction_' + variables.dataset_name\n",
    "variables.result_path = dataset_main_path + '/' + '/reconstruction/'\n",
    "\n",
    "if not os.path.isdir(variables.result_path):\n",
    "    os.makedirs(variables.result_path, mode=0o777, exist_ok=True)\n",
    "    \n",
    "# Create data farame out of hdf5 file dataset\n",
    "data = data_tools.load_data(dataset_path, tdc.value, mode='processed')\n",
    "# extract data from the path and create the Variable object\n",
    "data_tools.extract_data(data, variables, flightPathLength.value, max_mc.value)"
   ]
  },
  {
   "cell_type": "code",
   "execution_count": 8,
   "metadata": {
    "tags": []
   },
   "outputs": [
    {
     "data": {
      "text/html": [
       "<div>\n",
       "<style scoped>\n",
       "    .dataframe tbody tr th:only-of-type {\n",
       "        vertical-align: middle;\n",
       "    }\n",
       "\n",
       "    .dataframe tbody tr th {\n",
       "        vertical-align: top;\n",
       "    }\n",
       "\n",
       "    .dataframe thead th {\n",
       "        text-align: right;\n",
       "    }\n",
       "</style>\n",
       "<table border=\"1\" class=\"dataframe\">\n",
       "  <thead>\n",
       "    <tr style=\"text-align: right;\">\n",
       "      <th></th>\n",
       "      <th>x (nm)</th>\n",
       "      <th>y (nm)</th>\n",
       "      <th>z (nm)</th>\n",
       "      <th>mc_c (Da)</th>\n",
       "      <th>mc (Da)</th>\n",
       "      <th>high_voltage (V)</th>\n",
       "      <th>pulse</th>\n",
       "      <th>start_counter</th>\n",
       "      <th>t_c (ns)</th>\n",
       "      <th>t (ns)</th>\n",
       "      <th>x_det (cm)</th>\n",
       "      <th>y_det (cm)</th>\n",
       "      <th>pulse_pi</th>\n",
       "      <th>ion_pp</th>\n",
       "    </tr>\n",
       "  </thead>\n",
       "  <tbody>\n",
       "    <tr>\n",
       "      <th>0</th>\n",
       "      <td>0.0</td>\n",
       "      <td>0.0</td>\n",
       "      <td>0.0</td>\n",
       "      <td>27.507521</td>\n",
       "      <td>27.400991</td>\n",
       "      <td>5263.160645</td>\n",
       "      <td>5263.160645</td>\n",
       "      <td>24501</td>\n",
       "      <td>607.555190</td>\n",
       "      <td>629.290080</td>\n",
       "      <td>-0.544408</td>\n",
       "      <td>-1.117469</td>\n",
       "      <td>0</td>\n",
       "      <td>0</td>\n",
       "    </tr>\n",
       "    <tr>\n",
       "      <th>1</th>\n",
       "      <td>0.0</td>\n",
       "      <td>0.0</td>\n",
       "      <td>0.0</td>\n",
       "      <td>27.031778</td>\n",
       "      <td>27.451994</td>\n",
       "      <td>5263.160645</td>\n",
       "      <td>5263.160645</td>\n",
       "      <td>25308</td>\n",
       "      <td>602.832214</td>\n",
       "      <td>642.745476</td>\n",
       "      <td>-0.977388</td>\n",
       "      <td>2.480082</td>\n",
       "      <td>807</td>\n",
       "      <td>2</td>\n",
       "    </tr>\n",
       "    <tr>\n",
       "      <th>2</th>\n",
       "      <td>0.0</td>\n",
       "      <td>0.0</td>\n",
       "      <td>0.0</td>\n",
       "      <td>26.986040</td>\n",
       "      <td>27.008272</td>\n",
       "      <td>5263.160645</td>\n",
       "      <td>5263.160645</td>\n",
       "      <td>25411</td>\n",
       "      <td>602.375972</td>\n",
       "      <td>625.195854</td>\n",
       "      <td>0.780000</td>\n",
       "      <td>0.977388</td>\n",
       "      <td>103</td>\n",
       "      <td>1</td>\n",
       "    </tr>\n",
       "    <tr>\n",
       "      <th>3</th>\n",
       "      <td>0.0</td>\n",
       "      <td>0.0</td>\n",
       "      <td>0.0</td>\n",
       "      <td>27.201569</td>\n",
       "      <td>27.270453</td>\n",
       "      <td>5263.160645</td>\n",
       "      <td>5263.160645</td>\n",
       "      <td>25674</td>\n",
       "      <td>604.522539</td>\n",
       "      <td>636.964182</td>\n",
       "      <td>0.971020</td>\n",
       "      <td>2.120327</td>\n",
       "      <td>263</td>\n",
       "      <td>1</td>\n",
       "    </tr>\n",
       "    <tr>\n",
       "      <th>4</th>\n",
       "      <td>0.0</td>\n",
       "      <td>0.0</td>\n",
       "      <td>0.0</td>\n",
       "      <td>27.571166</td>\n",
       "      <td>26.977407</td>\n",
       "      <td>5263.160645</td>\n",
       "      <td>5263.160645</td>\n",
       "      <td>26234</td>\n",
       "      <td>608.183934</td>\n",
       "      <td>642.718044</td>\n",
       "      <td>2.072571</td>\n",
       "      <td>-2.247673</td>\n",
       "      <td>560</td>\n",
       "      <td>1</td>\n",
       "    </tr>\n",
       "    <tr>\n",
       "      <th>...</th>\n",
       "      <td>...</td>\n",
       "      <td>...</td>\n",
       "      <td>...</td>\n",
       "      <td>...</td>\n",
       "      <td>...</td>\n",
       "      <td>...</td>\n",
       "      <td>...</td>\n",
       "      <td>...</td>\n",
       "      <td>...</td>\n",
       "      <td>...</td>\n",
       "      <td>...</td>\n",
       "      <td>...</td>\n",
       "      <td>...</td>\n",
       "      <td>...</td>\n",
       "    </tr>\n",
       "    <tr>\n",
       "      <th>1864263</th>\n",
       "      <td>0.0</td>\n",
       "      <td>0.0</td>\n",
       "      <td>0.0</td>\n",
       "      <td>27.122047</td>\n",
       "      <td>26.662453</td>\n",
       "      <td>5710.793945</td>\n",
       "      <td>5710.793945</td>\n",
       "      <td>24534</td>\n",
       "      <td>603.731533</td>\n",
       "      <td>613.146348</td>\n",
       "      <td>1.579102</td>\n",
       "      <td>-2.365469</td>\n",
       "      <td>2</td>\n",
       "      <td>1</td>\n",
       "    </tr>\n",
       "    <tr>\n",
       "      <th>1864264</th>\n",
       "      <td>0.0</td>\n",
       "      <td>0.0</td>\n",
       "      <td>0.0</td>\n",
       "      <td>27.270382</td>\n",
       "      <td>27.800477</td>\n",
       "      <td>5710.793945</td>\n",
       "      <td>5710.793945</td>\n",
       "      <td>24644</td>\n",
       "      <td>605.206103</td>\n",
       "      <td>620.381538</td>\n",
       "      <td>-2.091673</td>\n",
       "      <td>1.286204</td>\n",
       "      <td>110</td>\n",
       "      <td>1</td>\n",
       "    </tr>\n",
       "    <tr>\n",
       "      <th>1864265</th>\n",
       "      <td>0.0</td>\n",
       "      <td>0.0</td>\n",
       "      <td>0.0</td>\n",
       "      <td>27.024030</td>\n",
       "      <td>27.405944</td>\n",
       "      <td>5710.793945</td>\n",
       "      <td>5710.793945</td>\n",
       "      <td>24774</td>\n",
       "      <td>602.754954</td>\n",
       "      <td>609.010974</td>\n",
       "      <td>-1.505878</td>\n",
       "      <td>0.684490</td>\n",
       "      <td>130</td>\n",
       "      <td>1</td>\n",
       "    </tr>\n",
       "    <tr>\n",
       "      <th>1864266</th>\n",
       "      <td>0.0</td>\n",
       "      <td>0.0</td>\n",
       "      <td>0.0</td>\n",
       "      <td>26.964472</td>\n",
       "      <td>26.813825</td>\n",
       "      <td>5710.793945</td>\n",
       "      <td>5710.793945</td>\n",
       "      <td>25014</td>\n",
       "      <td>602.160690</td>\n",
       "      <td>623.460780</td>\n",
       "      <td>2.747510</td>\n",
       "      <td>2.142612</td>\n",
       "      <td>240</td>\n",
       "      <td>1</td>\n",
       "    </tr>\n",
       "    <tr>\n",
       "      <th>1864267</th>\n",
       "      <td>0.0</td>\n",
       "      <td>0.0</td>\n",
       "      <td>0.0</td>\n",
       "      <td>27.061174</td>\n",
       "      <td>27.367084</td>\n",
       "      <td>5710.793945</td>\n",
       "      <td>5710.793945</td>\n",
       "      <td>25851</td>\n",
       "      <td>603.125237</td>\n",
       "      <td>612.302814</td>\n",
       "      <td>-2.088490</td>\n",
       "      <td>-0.156000</td>\n",
       "      <td>837</td>\n",
       "      <td>1</td>\n",
       "    </tr>\n",
       "  </tbody>\n",
       "</table>\n",
       "<p>1864268 rows × 14 columns</p>\n",
       "</div>"
      ],
      "text/plain": [
       "         x (nm)  y (nm)  z (nm)  mc_c (Da)    mc (Da)  high_voltage (V)  \\\n",
       "0           0.0     0.0     0.0  27.507521  27.400991       5263.160645   \n",
       "1           0.0     0.0     0.0  27.031778  27.451994       5263.160645   \n",
       "2           0.0     0.0     0.0  26.986040  27.008272       5263.160645   \n",
       "3           0.0     0.0     0.0  27.201569  27.270453       5263.160645   \n",
       "4           0.0     0.0     0.0  27.571166  26.977407       5263.160645   \n",
       "...         ...     ...     ...        ...        ...               ...   \n",
       "1864263     0.0     0.0     0.0  27.122047  26.662453       5710.793945   \n",
       "1864264     0.0     0.0     0.0  27.270382  27.800477       5710.793945   \n",
       "1864265     0.0     0.0     0.0  27.024030  27.405944       5710.793945   \n",
       "1864266     0.0     0.0     0.0  26.964472  26.813825       5710.793945   \n",
       "1864267     0.0     0.0     0.0  27.061174  27.367084       5710.793945   \n",
       "\n",
       "               pulse  start_counter    t_c (ns)      t (ns)  x_det (cm)  \\\n",
       "0        5263.160645          24501  607.555190  629.290080   -0.544408   \n",
       "1        5263.160645          25308  602.832214  642.745476   -0.977388   \n",
       "2        5263.160645          25411  602.375972  625.195854    0.780000   \n",
       "3        5263.160645          25674  604.522539  636.964182    0.971020   \n",
       "4        5263.160645          26234  608.183934  642.718044    2.072571   \n",
       "...              ...            ...         ...         ...         ...   \n",
       "1864263  5710.793945          24534  603.731533  613.146348    1.579102   \n",
       "1864264  5710.793945          24644  605.206103  620.381538   -2.091673   \n",
       "1864265  5710.793945          24774  602.754954  609.010974   -1.505878   \n",
       "1864266  5710.793945          25014  602.160690  623.460780    2.747510   \n",
       "1864267  5710.793945          25851  603.125237  612.302814   -2.088490   \n",
       "\n",
       "         y_det (cm)  pulse_pi  ion_pp  \n",
       "0         -1.117469         0       0  \n",
       "1          2.480082       807       2  \n",
       "2          0.977388       103       1  \n",
       "3          2.120327       263       1  \n",
       "4         -2.247673       560       1  \n",
       "...             ...       ...     ...  \n",
       "1864263   -2.365469         2       1  \n",
       "1864264    1.286204       110       1  \n",
       "1864265    0.684490       130       1  \n",
       "1864266    2.142612       240       1  \n",
       "1864267   -0.156000       837       1  \n",
       "\n",
       "[1864268 rows x 14 columns]"
      ]
     },
     "execution_count": 8,
     "metadata": {},
     "output_type": "execute_result"
    }
   ],
   "source": [
    "data"
   ]
  },
  {
   "cell_type": "code",
   "execution_count": 27,
   "metadata": {
    "tags": []
   },
   "outputs": [
    {
     "data": {
      "text/html": [
       "<style type=\"text/css\">\n",
       "#T_90a34_row0_col5 {\n",
       "  background-color: #b2aa2d;\n",
       "  width: 50px;\n",
       "  height: 20px;\n",
       "}\n",
       "#T_90a34_row1_col5, #T_90a34_row2_col5 {\n",
       "  background-color: #e7e0d1;\n",
       "  width: 50px;\n",
       "  height: 20px;\n",
       "}\n",
       "</style>\n",
       "<table id=\"T_90a34\">\n",
       "  <thead>\n",
       "    <tr>\n",
       "      <th class=\"blank level0\" >&nbsp;</th>\n",
       "      <th id=\"T_90a34_level0_col0\" class=\"col_heading level0 col0\" >ion</th>\n",
       "      <th id=\"T_90a34_level0_col1\" class=\"col_heading level0 col1\" >mass</th>\n",
       "      <th id=\"T_90a34_level0_col2\" class=\"col_heading level0 col2\" >mc</th>\n",
       "      <th id=\"T_90a34_level0_col3\" class=\"col_heading level0 col3\" >mc_low</th>\n",
       "      <th id=\"T_90a34_level0_col4\" class=\"col_heading level0 col4\" >mc_up</th>\n",
       "      <th id=\"T_90a34_level0_col5\" class=\"col_heading level0 col5\" >color</th>\n",
       "      <th id=\"T_90a34_level0_col6\" class=\"col_heading level0 col6\" >peak_count</th>\n",
       "      <th id=\"T_90a34_level0_col7\" class=\"col_heading level0 col7\" >element</th>\n",
       "      <th id=\"T_90a34_level0_col8\" class=\"col_heading level0 col8\" >complex</th>\n",
       "      <th id=\"T_90a34_level0_col9\" class=\"col_heading level0 col9\" >isotope</th>\n",
       "      <th id=\"T_90a34_level0_col10\" class=\"col_heading level0 col10\" >charge</th>\n",
       "    </tr>\n",
       "  </thead>\n",
       "  <tbody>\n",
       "    <tr>\n",
       "      <th id=\"T_90a34_level0_row0\" class=\"row_heading level0 row0\" >0</th>\n",
       "      <td id=\"T_90a34_row0_col0\" class=\"data row0 col0\" >${}^{1}H^{+}$</td>\n",
       "      <td id=\"T_90a34_row0_col1\" class=\"data row0 col1\" >1.010000</td>\n",
       "      <td id=\"T_90a34_row0_col2\" class=\"data row0 col2\" >1.581404</td>\n",
       "      <td id=\"T_90a34_row0_col3\" class=\"data row0 col3\" >1.357690</td>\n",
       "      <td id=\"T_90a34_row0_col4\" class=\"data row0 col4\" >1.886822</td>\n",
       "      <td id=\"T_90a34_row0_col5\" class=\"data row0 col5\" >#b2aa2d</td>\n",
       "      <td id=\"T_90a34_row0_col6\" class=\"data row0 col6\" >163.000000</td>\n",
       "      <td id=\"T_90a34_row0_col7\" class=\"data row0 col7\" >H</td>\n",
       "      <td id=\"T_90a34_row0_col8\" class=\"data row0 col8\" >1</td>\n",
       "      <td id=\"T_90a34_row0_col9\" class=\"data row0 col9\" >1</td>\n",
       "      <td id=\"T_90a34_row0_col10\" class=\"data row0 col10\" >+</td>\n",
       "    </tr>\n",
       "    <tr>\n",
       "      <th id=\"T_90a34_level0_row1\" class=\"row_heading level0 row1\" >1</th>\n",
       "      <td id=\"T_90a34_row1_col0\" class=\"data row1 col0\" >${}^{27}Al^{2+}$</td>\n",
       "      <td id=\"T_90a34_row1_col1\" class=\"data row1 col1\" >13.490000</td>\n",
       "      <td id=\"T_90a34_row1_col2\" class=\"data row1 col2\" >13.505377</td>\n",
       "      <td id=\"T_90a34_row1_col3\" class=\"data row1 col3\" >12.998589</td>\n",
       "      <td id=\"T_90a34_row1_col4\" class=\"data row1 col4\" >14.321418</td>\n",
       "      <td id=\"T_90a34_row1_col5\" class=\"data row1 col5\" >#e7e0d1</td>\n",
       "      <td id=\"T_90a34_row1_col6\" class=\"data row1 col6\" >64219.000000</td>\n",
       "      <td id=\"T_90a34_row1_col7\" class=\"data row1 col7\" >Al</td>\n",
       "      <td id=\"T_90a34_row1_col8\" class=\"data row1 col8\" >1</td>\n",
       "      <td id=\"T_90a34_row1_col9\" class=\"data row1 col9\" >27</td>\n",
       "      <td id=\"T_90a34_row1_col10\" class=\"data row1 col10\" >2+</td>\n",
       "    </tr>\n",
       "    <tr>\n",
       "      <th id=\"T_90a34_level0_row2\" class=\"row_heading level0 row2\" >2</th>\n",
       "      <td id=\"T_90a34_row2_col0\" class=\"data row2 col0\" >${}^{27}Al^{+}$</td>\n",
       "      <td id=\"T_90a34_row2_col1\" class=\"data row2 col1\" >26.980000</td>\n",
       "      <td id=\"T_90a34_row2_col2\" class=\"data row2 col2\" >26.993149</td>\n",
       "      <td id=\"T_90a34_row2_col3\" class=\"data row2 col3\" >25.856491</td>\n",
       "      <td id=\"T_90a34_row2_col4\" class=\"data row2 col4\" >28.660889</td>\n",
       "      <td id=\"T_90a34_row2_col5\" class=\"data row2 col5\" >#e7e0d1</td>\n",
       "      <td id=\"T_90a34_row2_col6\" class=\"data row2 col6\" >589415.000000</td>\n",
       "      <td id=\"T_90a34_row2_col7\" class=\"data row2 col7\" >Al</td>\n",
       "      <td id=\"T_90a34_row2_col8\" class=\"data row2 col8\" >1</td>\n",
       "      <td id=\"T_90a34_row2_col9\" class=\"data row2 col9\" >27</td>\n",
       "      <td id=\"T_90a34_row2_col10\" class=\"data row2 col10\" >+</td>\n",
       "    </tr>\n",
       "  </tbody>\n",
       "</table>\n"
      ],
      "text/plain": [
       "<pandas.io.formats.style.Styler at 0x23b4bfe4070>"
      ]
     },
     "metadata": {},
     "output_type": "display_data"
    }
   ],
   "source": [
    "if 'range_path' in locals():\n",
    "    variables.range_data = data_tools.read_hdf5_through_pandas(range_path)\n",
    "\n",
    "else:\n",
    "    variables.range_data = pd.DataFrame({\"ion\": ['unranged'], \"mass\": [0], \"mc\": [0], \"mass\": [0], \"mc_low\": [0], \"mc_up\": [0], \"color\": ['#000000'], \"element\": ['unranged'],\n",
    "                                        \"complex\": [0], \"isotop\": [0], \"charge\": [0]})\n",
    "display(variables.range_data.style.applymap(ion_selection.display_color, subset=['color']))"
   ]
  },
  {
   "cell_type": "code",
   "execution_count": 11,
   "metadata": {
    "tags": []
   },
   "outputs": [
    {
     "data": {
      "application/vnd.jupyter.widget-view+json": {
       "model_id": "3784d7e6b04b4a329713e2a3ed1d47fe",
       "version_major": 2,
       "version_minor": 0
      },
      "text/plain": [
       "VBox(children=(ColorPicker(value='black', description='Select a color:'), IntText(value=0, description='index …"
      ]
     },
     "metadata": {},
     "output_type": "display_data"
    },
    {
     "data": {
      "application/vnd.jupyter.widget-view+json": {
       "model_id": "f2a1d73cdec540388204a79af3c08846",
       "version_major": 2,
       "version_minor": 0
      },
      "text/plain": [
       "Output()"
      ]
     },
     "metadata": {},
     "output_type": "display_data"
    }
   ],
   "source": [
    "change_color = widgets.Button(\n",
    "    description='change color',\n",
    ")\n",
    "color_picker = widgets.ColorPicker(description='Select a color:')\n",
    "row_index = widgets.IntText(value=0, description='index row:')\n",
    "@change_color.on_click\n",
    "def change_color_m(b,):\n",
    "    with out:\n",
    "        selected_color = mcolors.to_hex(color_picker.value)\n",
    "        variables.range_data.at[row_index.value, 'color'] = selected_color\n",
    "        clear_output(True)\n",
    "        display(variables.range_data.style.applymap(ion_selection.display_color, subset=['color']))\n",
    "        \n",
    "# Create a container for the widgets\n",
    "container = widgets.VBox([color_picker, row_index, change_color])\n",
    "out = Output()\n",
    "# Display the widgets\n",
    "display(container, out)"
   ]
  },
  {
   "cell_type": "markdown",
   "metadata": {},
   "source": [
    "$$\\textbf{You can specify which dataset to use in below block}$$"
   ]
  },
  {
   "cell_type": "code",
   "execution_count": 29,
   "metadata": {},
   "outputs": [
    {
     "name": "stdout",
     "output_type": "stream",
     "text": [
      "The number of data with x=0 and y=0 in dataset is: 1\n"
     ]
    }
   ],
   "source": [
    "# romove data that has x_det and y_det equal to zero at same time\n",
    "# these points resulted in nan in the reconstruction becuse of dviding 0/0\n",
    "# mask = np.logical_and((data['x_det (cm)'].to_numpy()==0), (data['y_det (cm)'].to_numpy()==0))\n",
    "# print('The number of data with x=0 and y=0 in dataset is:', len(mask[mask==True]))\n",
    "# data.drop(np.where(mask)[0], inplace=True)\n",
    "# data.reset_index(inplace=True, drop=True)"
   ]
  },
  {
   "cell_type": "code",
   "execution_count": 30,
   "metadata": {},
   "outputs": [],
   "source": [
    "# exctract needed data from Pandas data frame as an numpy array\n",
    "# dld_highVoltage = data['high_voltage (V)'].to_numpy()\n",
    "# dld_x = data['x_det (cm)'].to_numpy()\n",
    "# dld_y = data['y_det (cm)'].to_numpy()\n",
    "# mc = data['mc_c (Da)'].to_numpy()"
   ]
  },
  {
   "cell_type": "code",
   "execution_count": 28,
   "metadata": {
    "tags": []
   },
   "outputs": [
    {
     "name": "stderr",
     "output_type": "stream",
     "text": [
      "C:\\Users\\APTUser\\AppData\\Local\\Temp\\ipykernel_38724\\4082651408.py:4: DeprecationWarning:\n",
      "\n",
      "on_submit is deprecated. Instead, set the .continuous_update attribute to False and observe the value changing with: mywidget.observe(callback, 'value').\n",
      "\n"
     ]
    },
    {
     "data": {
      "application/vnd.jupyter.widget-view+json": {
       "model_id": "0a5da0abce94469db7302596cd79d4d6",
       "version_major": 2,
       "version_minor": 0
      },
      "text/plain": [
       "interactive(children=(FloatText(value=0.1, description='bin_size'), IntText(value=400, description='lim_mc'), …"
      ]
     },
     "metadata": {},
     "output_type": "display_data"
    }
   ],
   "source": [
    "def mc_hist_plot(bin_size, lim_mc, hist_color_range, figname):\n",
    "    peaks_ini, peaks_y_ini, peak_widths_p_ini, _ = tools.hist_plot(variables.mc_c[variables.mc_c < lim_mc], variables, bin=bin_size, range_data=variables.range_data, ranging=True, hist_color_range=hist_color_range, adjust_label=False, peaks_find=True, peaks_find_plot=True, plot=True, label='mc', fig_name=figname)\n",
    "   \n",
    "interact_manual(mc_hist_plot, bin_size=widgets.FloatText(value=0.1), lim_mc=widgets.IntText(value=400), hist_color_range=widgets.Dropdown(options=[('True', True), ('False', False)])\n",
    "                , figname=widgets.Text(value='mc'));"
   ]
  },
  {
   "cell_type": "code",
   "execution_count": 16,
   "metadata": {
    "tags": []
   },
   "outputs": [
    {
     "data": {
      "application/vnd.jupyter.widget-view+json": {
       "model_id": "584d465d542e4658ae73138f5a79db4b",
       "version_major": 2,
       "version_minor": 0
      },
      "text/plain": [
       "Dropdown(description='Element', options=((1, 'H', 52.7, 0.0), (2, 'He', 28.7, 0.0), (3, 'Li', 46.3, 14.0), (4,…"
      ]
     },
     "metadata": {},
     "output_type": "display_data"
    }
   ],
   "source": [
    "element_selected = wd.density_field_selection()\n",
    "display(element_selected)"
   ]
  },
  {
   "cell_type": "code",
   "execution_count": 29,
   "metadata": {
    "tags": []
   },
   "outputs": [],
   "source": [
    "avg_dens = element_selected.value[2]\n",
    "field_evap = element_selected.value[3]"
   ]
  },
  {
   "cell_type": "code",
   "execution_count": 48,
   "metadata": {
    "tags": []
   },
   "outputs": [
    {
     "name": "stderr",
     "output_type": "stream",
     "text": [
      "C:\\Users\\APTUser\\AppData\\Local\\Temp\\ipykernel_38724\\3364758392.py:8: DeprecationWarning:\n",
      "\n",
      "on_submit is deprecated. Instead, set the .continuous_update attribute to False and observe the value changing with: mywidget.observe(callback, 'value').\n",
      "\n"
     ]
    },
    {
     "data": {
      "application/vnd.jupyter.widget-view+json": {
       "model_id": "0ad5f75b3c4b4c86997ed54d0910ab04",
       "version_major": 2,
       "version_minor": 0
      },
      "text/plain": [
       "interactive(children=(Textarea(value='[0.01, 0.01, 0.01]', description='element_percentage'), FloatText(value=…"
      ]
     },
     "metadata": {},
     "output_type": "display_data"
    }
   ],
   "source": [
    "if variables.range_data.empty:\n",
    "    element_percentage = str([0.01])\n",
    "else:\n",
    "    element_percentage = [0.01] * len(variables.range_data['element'].tolist())\n",
    "    element_percentage = str(element_percentage)\n",
    "    \n",
    "\n",
    "interact_manual(reconstruction.x_y_z_calculation_and_plot, kf=widgets.FloatText(value=4), det_eff=widgets.FloatText(value=0.7), icf=widgets.FloatText(value=1.4),\n",
    "                field_evap=widgets.FloatText(value=field_evap),\n",
    "               avg_dens=widgets.FloatText(value=avg_dens), element_percentage=widgets.Textarea(value=element_percentage),\n",
    "               rotary_fig_save=widgets.Dropdown(options=[('True', True), ('False', False)], value=False), variables=fixed(variables), \n",
    "                flight_path_length=fixed(flightPathLength.value), selected_are=fixed(False), figname=widgets.Text(value='3d'),\n",
    "               mode=widgets.Dropdown(options=[('Gault', 'Gault'), ('Bas', 'Bas')]));"
   ]
  },
  {
   "cell_type": "code",
   "execution_count": 49,
   "metadata": {
    "tags": []
   },
   "outputs": [
    {
     "data": {
      "text/html": [
       "<div>\n",
       "<style scoped>\n",
       "    .dataframe tbody tr th:only-of-type {\n",
       "        vertical-align: middle;\n",
       "    }\n",
       "\n",
       "    .dataframe tbody tr th {\n",
       "        vertical-align: top;\n",
       "    }\n",
       "\n",
       "    .dataframe thead th {\n",
       "        text-align: right;\n",
       "    }\n",
       "</style>\n",
       "<table border=\"1\" class=\"dataframe\">\n",
       "  <thead>\n",
       "    <tr style=\"text-align: right;\">\n",
       "      <th></th>\n",
       "      <th>x (nm)</th>\n",
       "      <th>y (nm)</th>\n",
       "      <th>z (nm)</th>\n",
       "      <th>mc_c (Da)</th>\n",
       "      <th>mc (Da)</th>\n",
       "      <th>high_voltage (V)</th>\n",
       "      <th>pulse</th>\n",
       "      <th>start_counter</th>\n",
       "      <th>t_c (ns)</th>\n",
       "      <th>t (ns)</th>\n",
       "      <th>x_det (cm)</th>\n",
       "      <th>y_det (cm)</th>\n",
       "      <th>pulse_pi</th>\n",
       "      <th>ion_pp</th>\n",
       "    </tr>\n",
       "  </thead>\n",
       "  <tbody>\n",
       "    <tr>\n",
       "      <th>0</th>\n",
       "      <td>-4.755963</td>\n",
       "      <td>-9.762240</td>\n",
       "      <td>0.856692</td>\n",
       "      <td>27.507521</td>\n",
       "      <td>27.400991</td>\n",
       "      <td>5263.160645</td>\n",
       "      <td>5263.160645</td>\n",
       "      <td>24501</td>\n",
       "      <td>607.555190</td>\n",
       "      <td>629.290080</td>\n",
       "      <td>-0.544408</td>\n",
       "      <td>-1.117469</td>\n",
       "      <td>0</td>\n",
       "      <td>0</td>\n",
       "    </tr>\n",
       "    <tr>\n",
       "      <th>1</th>\n",
       "      <td>-8.278379</td>\n",
       "      <td>21.006049</td>\n",
       "      <td>3.784047</td>\n",
       "      <td>27.031778</td>\n",
       "      <td>27.451994</td>\n",
       "      <td>5263.160645</td>\n",
       "      <td>5263.160645</td>\n",
       "      <td>25308</td>\n",
       "      <td>602.832214</td>\n",
       "      <td>642.745476</td>\n",
       "      <td>-0.977388</td>\n",
       "      <td>2.480082</td>\n",
       "      <td>807</td>\n",
       "      <td>2</td>\n",
       "    </tr>\n",
       "    <tr>\n",
       "      <th>2</th>\n",
       "      <td>6.813378</td>\n",
       "      <td>8.537580</td>\n",
       "      <td>0.866882</td>\n",
       "      <td>26.986040</td>\n",
       "      <td>27.008272</td>\n",
       "      <td>5263.160645</td>\n",
       "      <td>5263.160645</td>\n",
       "      <td>25411</td>\n",
       "      <td>602.375972</td>\n",
       "      <td>625.195854</td>\n",
       "      <td>0.780000</td>\n",
       "      <td>0.977388</td>\n",
       "      <td>103</td>\n",
       "      <td>1</td>\n",
       "    </tr>\n",
       "    <tr>\n",
       "      <th>3</th>\n",
       "      <td>8.299763</td>\n",
       "      <td>18.123417</td>\n",
       "      <td>2.930872</td>\n",
       "      <td>27.201569</td>\n",
       "      <td>27.270453</td>\n",
       "      <td>5263.160645</td>\n",
       "      <td>5263.160645</td>\n",
       "      <td>25674</td>\n",
       "      <td>604.522539</td>\n",
       "      <td>636.964182</td>\n",
       "      <td>0.971020</td>\n",
       "      <td>2.120327</td>\n",
       "      <td>263</td>\n",
       "      <td>1</td>\n",
       "    </tr>\n",
       "    <tr>\n",
       "      <th>4</th>\n",
       "      <td>17.344265</td>\n",
       "      <td>-18.809602</td>\n",
       "      <td>4.899756</td>\n",
       "      <td>27.571166</td>\n",
       "      <td>26.977407</td>\n",
       "      <td>5263.160645</td>\n",
       "      <td>5263.160645</td>\n",
       "      <td>26234</td>\n",
       "      <td>608.183934</td>\n",
       "      <td>642.718044</td>\n",
       "      <td>2.072571</td>\n",
       "      <td>-2.247673</td>\n",
       "      <td>560</td>\n",
       "      <td>1</td>\n",
       "    </tr>\n",
       "    <tr>\n",
       "      <th>...</th>\n",
       "      <td>...</td>\n",
       "      <td>...</td>\n",
       "      <td>...</td>\n",
       "      <td>...</td>\n",
       "      <td>...</td>\n",
       "      <td>...</td>\n",
       "      <td>...</td>\n",
       "      <td>...</td>\n",
       "      <td>...</td>\n",
       "      <td>...</td>\n",
       "      <td>...</td>\n",
       "      <td>...</td>\n",
       "      <td>...</td>\n",
       "      <td>...</td>\n",
       "    </tr>\n",
       "    <tr>\n",
       "      <th>1864263</th>\n",
       "      <td>14.435495</td>\n",
       "      <td>-21.624138</td>\n",
       "      <td>16.808484</td>\n",
       "      <td>27.122047</td>\n",
       "      <td>26.662453</td>\n",
       "      <td>5710.793945</td>\n",
       "      <td>5710.793945</td>\n",
       "      <td>24534</td>\n",
       "      <td>603.731533</td>\n",
       "      <td>613.146348</td>\n",
       "      <td>1.579102</td>\n",
       "      <td>-2.365469</td>\n",
       "      <td>2</td>\n",
       "      <td>1</td>\n",
       "    </tr>\n",
       "    <tr>\n",
       "      <th>1864264</th>\n",
       "      <td>-19.336231</td>\n",
       "      <td>11.890163</td>\n",
       "      <td>15.677703</td>\n",
       "      <td>27.270382</td>\n",
       "      <td>27.800477</td>\n",
       "      <td>5710.793945</td>\n",
       "      <td>5710.793945</td>\n",
       "      <td>24644</td>\n",
       "      <td>605.206103</td>\n",
       "      <td>620.381538</td>\n",
       "      <td>-2.091673</td>\n",
       "      <td>1.286204</td>\n",
       "      <td>110</td>\n",
       "      <td>1</td>\n",
       "    </tr>\n",
       "    <tr>\n",
       "      <th>1864265</th>\n",
       "      <td>-14.178133</td>\n",
       "      <td>6.444606</td>\n",
       "      <td>13.798764</td>\n",
       "      <td>27.024030</td>\n",
       "      <td>27.405944</td>\n",
       "      <td>5710.793945</td>\n",
       "      <td>5710.793945</td>\n",
       "      <td>24774</td>\n",
       "      <td>602.754954</td>\n",
       "      <td>609.010974</td>\n",
       "      <td>-1.505878</td>\n",
       "      <td>0.684490</td>\n",
       "      <td>130</td>\n",
       "      <td>1</td>\n",
       "    </tr>\n",
       "    <tr>\n",
       "      <th>1864266</th>\n",
       "      <td>24.584285</td>\n",
       "      <td>19.171754</td>\n",
       "      <td>18.939677</td>\n",
       "      <td>26.964472</td>\n",
       "      <td>26.813825</td>\n",
       "      <td>5710.793945</td>\n",
       "      <td>5710.793945</td>\n",
       "      <td>25014</td>\n",
       "      <td>602.160690</td>\n",
       "      <td>623.460780</td>\n",
       "      <td>2.747510</td>\n",
       "      <td>2.142612</td>\n",
       "      <td>240</td>\n",
       "      <td>1</td>\n",
       "    </tr>\n",
       "    <tr>\n",
       "      <th>1864267</th>\n",
       "      <td>-19.482684</td>\n",
       "      <td>-1.455261</td>\n",
       "      <td>14.751348</td>\n",
       "      <td>27.061174</td>\n",
       "      <td>27.367084</td>\n",
       "      <td>5710.793945</td>\n",
       "      <td>5710.793945</td>\n",
       "      <td>25851</td>\n",
       "      <td>603.125237</td>\n",
       "      <td>612.302814</td>\n",
       "      <td>-2.088490</td>\n",
       "      <td>-0.156000</td>\n",
       "      <td>837</td>\n",
       "      <td>1</td>\n",
       "    </tr>\n",
       "  </tbody>\n",
       "</table>\n",
       "<p>1864268 rows × 14 columns</p>\n",
       "</div>"
      ],
      "text/plain": [
       "            x (nm)     y (nm)     z (nm)  mc_c (Da)    mc (Da)  \\\n",
       "0        -4.755963  -9.762240   0.856692  27.507521  27.400991   \n",
       "1        -8.278379  21.006049   3.784047  27.031778  27.451994   \n",
       "2         6.813378   8.537580   0.866882  26.986040  27.008272   \n",
       "3         8.299763  18.123417   2.930872  27.201569  27.270453   \n",
       "4        17.344265 -18.809602   4.899756  27.571166  26.977407   \n",
       "...            ...        ...        ...        ...        ...   \n",
       "1864263  14.435495 -21.624138  16.808484  27.122047  26.662453   \n",
       "1864264 -19.336231  11.890163  15.677703  27.270382  27.800477   \n",
       "1864265 -14.178133   6.444606  13.798764  27.024030  27.405944   \n",
       "1864266  24.584285  19.171754  18.939677  26.964472  26.813825   \n",
       "1864267 -19.482684  -1.455261  14.751348  27.061174  27.367084   \n",
       "\n",
       "         high_voltage (V)        pulse  start_counter    t_c (ns)      t (ns)  \\\n",
       "0             5263.160645  5263.160645          24501  607.555190  629.290080   \n",
       "1             5263.160645  5263.160645          25308  602.832214  642.745476   \n",
       "2             5263.160645  5263.160645          25411  602.375972  625.195854   \n",
       "3             5263.160645  5263.160645          25674  604.522539  636.964182   \n",
       "4             5263.160645  5263.160645          26234  608.183934  642.718044   \n",
       "...                   ...          ...            ...         ...         ...   \n",
       "1864263       5710.793945  5710.793945          24534  603.731533  613.146348   \n",
       "1864264       5710.793945  5710.793945          24644  605.206103  620.381538   \n",
       "1864265       5710.793945  5710.793945          24774  602.754954  609.010974   \n",
       "1864266       5710.793945  5710.793945          25014  602.160690  623.460780   \n",
       "1864267       5710.793945  5710.793945          25851  603.125237  612.302814   \n",
       "\n",
       "         x_det (cm)  y_det (cm)  pulse_pi  ion_pp  \n",
       "0         -0.544408   -1.117469         0       0  \n",
       "1         -0.977388    2.480082       807       2  \n",
       "2          0.780000    0.977388       103       1  \n",
       "3          0.971020    2.120327       263       1  \n",
       "4          2.072571   -2.247673       560       1  \n",
       "...             ...         ...       ...     ...  \n",
       "1864263    1.579102   -2.365469         2       1  \n",
       "1864264   -2.091673    1.286204       110       1  \n",
       "1864265   -1.505878    0.684490       130       1  \n",
       "1864266    2.747510    2.142612       240       1  \n",
       "1864267   -2.088490   -0.156000       837       1  \n",
       "\n",
       "[1864268 rows x 14 columns]"
      ]
     },
     "execution_count": 49,
     "metadata": {},
     "output_type": "execute_result"
    }
   ],
   "source": [
    "data['x (nm)'] = variables.x\n",
    "data['y (nm)'] = variables.y\n",
    "data['z (nm)'] = variables.z\n",
    "data"
   ]
  },
  {
   "cell_type": "code",
   "execution_count": 70,
   "metadata": {
    "tags": []
   },
   "outputs": [
    {
     "data": {
      "application/vnd.jupyter.widget-view+json": {
       "model_id": "abe309b0ab12484ba1d0d8ab4952de38",
       "version_major": 2,
       "version_minor": 0
      },
      "text/plain": [
       "VBox(children=(Tab(children=(VBox(children=(Dropdown(description='Selected area', options=(('False', False), (…"
      ]
     },
     "metadata": {},
     "output_type": "display_data"
    },
    {
     "data": {
      "application/vnd.jupyter.widget-view+json": {
       "model_id": "be59c2410e474a09b9a53e8b8ba2dfd4",
       "version_major": 2,
       "version_minor": 0
      },
      "text/plain": [
       "Output()"
      ]
     },
     "metadata": {},
     "output_type": "display_data"
    }
   ],
   "source": [
    "plot_3d_button = widgets.Button(\n",
    "    description='plot 3D',\n",
    ")\n",
    "plot_heatmap_button = widgets.Button(\n",
    "    description='plot heatmap',\n",
    ")\n",
    "plot_mc_button = widgets.Button(\n",
    "    description='plot mc',\n",
    ")\n",
    "plot_projection_button = widgets.Button(\n",
    "    description='plot projection',\n",
    ")\n",
    "\n",
    "clear_button = widgets.Button(\n",
    "    description='Clear plots',\n",
    ")\n",
    "\n",
    "figname_3d=widgets.Text(value='3d_plot', description='fig name')\n",
    "selected_area_p3=widgets.Dropdown(options=[('False', False), ('True', True)], description='Selected area')\n",
    "rotary_fig_save_p3=widgets.Dropdown(options=[('True', True), ('False', False)], description='Rotary save')\n",
    "element_percentage_p3=widgets.Textarea(value=element_percentage, description='Element percentage')\n",
    "@plot_3d_button.on_click\n",
    "def plot_3d(b, figname=figname):\n",
    "    with out:\n",
    "        if variables.selected_calculated:\n",
    "            variables.selected_z1 = variables.selected_y1\n",
    "            variables.selected_z2 = variables.selected_y2\n",
    "            variables.selected_y1 = variables.selected_x1\n",
    "            variables.selected_y2 = variables.selected_x2\n",
    "            print('Min x (nm):', variables.selected_x1, 'Max x (nm):', variables.selected_x2)\n",
    "            print('Min y (nm):', variables.selected_y1, 'Max y (nm):', variables.selected_y2)\n",
    "            print('Min z (nm):', variables.selected_z1, 'Max z (nm):', variables.selected_z2)\n",
    "        reconstruction.reconstruction_plot(variables, element_percentage_p3.value, rotary_fig_save_p3.value, selected_area_p3.value, figname_3d.value)\n",
    "\n",
    "selected_area_ph=widgets.Dropdown(options=[('False', False), ('True', True)], description='Selected area')\n",
    "element_percentage_ph=widgets.Textarea(value=element_percentage, description='Element percentage')\n",
    "figname_heatmap=widgets.Text(value='heatmap', description='fig name')\n",
    "@plot_heatmap_button.on_click\n",
    "def plot_heatmap(b, variables=variables):\n",
    "    with out:\n",
    "        if variables.selected_calculated:\n",
    "            variables.selected_z1 = variables.selected_y1\n",
    "            variables.selected_z2 = variables.selected_y2\n",
    "            variables.selected_y1 = variables.selected_x1\n",
    "            variables.selected_y2 = variables.selected_x2\n",
    "            print('Min x (nm):', variables.selected_x1, 'Max x (nm):', variables.selected_x2)\n",
    "            print('Min y (nm):', variables.selected_y1, 'Max y (nm):', variables.selected_y2)\n",
    "            print('Min z (nm):', variables.selected_z1, 'Max z (nm):', variables.selected_z2)\n",
    "\n",
    "        reconstruction.heatmap(variables, selected_area_ph.value, element_percentage_ph.value, save=True)\n",
    "\n",
    "selected_area_pm=widgets.Dropdown(options=[('False', False), ('True', True)], description='Selected area')\n",
    "range_file_exist_pm=widgets.Dropdown(options=[('True', True), ('False', False)], description='Range exist')\n",
    "bin_size_pm = widgets.FloatText(value=0.1, description='Bins size')\n",
    "lim_mc_pm = widgets.IntText(value=150, description='Limit mc')\n",
    "hist_color_range=widgets.Dropdown(options=[('True', True), ('False', False)], description='hist color')\n",
    "figname_mc=widgets.Text(value='mc', description='fig name')\n",
    "@plot_mc_button.on_click\n",
    "def plot_mc(b,):\n",
    "    with out:\n",
    "        if variables.selected_calculated:\n",
    "            variables.selected_z1 = variables.selected_y1\n",
    "            variables.selected_z2 = variables.selected_y2\n",
    "            variables.selected_y1 = variables.selected_x1\n",
    "            variables.selected_y2 = variables.selected_x2\n",
    "            print('Min x (nm):', variables.selected_x1, 'Max x (nm):', variables.selected_x2)\n",
    "            print('Min y (nm):', variables.selected_y1, 'Max y (nm):', variables.selected_y2)\n",
    "            print('Min z (nm):', variables.selected_z1, 'Max z (nm):', variables.selected_z2)\n",
    "\n",
    "        peaks_ini, peaks_y_ini, peak_widths_p_ini, _ = tools.hist_plot(variables.mc_c[variables.mc_c < lim_mc_pm.value], variables, bin=bin_size_pm.value, range_data=variables.range_data, \n",
    "                                                               ranging=True, hist_color_range=hist_color_range.value, adjust_label=False, peaks_find=True, peaks_find_plot=True, plot=True, label='mc', fig_name=figname_mc.value)\n",
    "\n",
    "\n",
    "element_percentage_pp=widgets.Textarea(value=element_percentage, description='Element percentage')\n",
    "selected_area_pp=widgets.Dropdown(options=[('False', False), ('True', True)], description='Selected area')\n",
    "x_or_y_pp=widgets.Dropdown(options=['x', 'y'], value='x', description='X or Y')\n",
    "figname_p = widgets.Text(value='projection', description='fig name')\n",
    "@plot_projection_button.on_click\n",
    "def plot_projection(b,):\n",
    "    with out:\n",
    "        if selected_area_pp.value:\n",
    "            variables.selected_z1 = variables.selected_y1\n",
    "            variables.selected_z2 = variables.selected_y2\n",
    "            variables.selected_y1 = variables.selected_x1\n",
    "            variables.selected_y2 = variables.selected_x2\n",
    "            print('Min x (nm):', variables.selected_x1, 'Max x (nm):', variables.selected_x2)\n",
    "            print('Min y (nm):', variables.selected_y1, 'Max y (nm):', variables.selected_y2)\n",
    "            print('Min z (nm):', variables.selected_z1, 'Max z (nm):', variables.selected_z2)\n",
    "\n",
    "        reconstruction.projection(variables, element_percentage_pp.value, selected_area_pp.value, x_or_y_pp.value, figname_p.value)\n",
    "\n",
    "@clear_button.on_click\n",
    "def clear(b,):\n",
    "    with out:\n",
    "        clear_output(True)\n",
    "        print('')\n",
    "\n",
    "\n",
    "tab1 = VBox(children=[selected_area_pp, x_or_y_pp, element_percentage_pp, figname_p, plot_projection_button, clear_button])\n",
    "tab2 = VBox(children=[selected_area_p3, rotary_fig_save_p3, element_percentage_p3, figname_3d, plot_3d_button, clear_button])\n",
    "tab3 = VBox(children=[selected_area_pm, bin_size_pm, lim_mc_pm, hist_color_range, figname_mc, plot_mc_button, clear_button])\n",
    "tab4 = VBox(children=[selected_area_ph, element_percentage_ph, figname_heatmap, plot_heatmap_button, clear_button])\n",
    "# tab2 = VBox(children=[VBox(children=[HBox(children=[plot_3d_button, selected_area_p3, range_file_exist_p3, rotary_fig_save_p3, element_percentage_p3]),\n",
    "#                                      HBox(children=[plot_heatmap_button, selected_area_ph, element_percentage_ph]),\n",
    "#                                      HBox(children=[plot_mc_button, selected_area_pm, range_file_exist_pm, bin_size_pm, prominence_pm, distance_pm, lim_mc_pm, percent_pm]), \n",
    "#                                      HBox(children=[plot_projection_button, selected_area_pp, x_or_y_pp, element_percentage_pp])]), clear_button])\n",
    "\n",
    "\n",
    "tab = widgets.Tab(children=[tab1, tab2, tab3, tab4])\n",
    "tab.set_title(0, 'projection')\n",
    "tab.set_title(1, '3d plot')\n",
    "tab.set_title(2, 'mc plot')\n",
    "tab.set_title(3, 'heatmap plot')\n",
    "\n",
    "\n",
    "\n",
    "display(VBox(children=[tab]))\n",
    "out = Output()\n",
    "display(out)"
   ]
  },
  {
   "cell_type": "code",
   "execution_count": 71,
   "metadata": {
    "tags": []
   },
   "outputs": [
    {
     "data": {
      "application/vnd.jupyter.widget-view+json": {
       "model_id": "75671734d5b143f3a6f7b97f218c34b3",
       "version_major": 2,
       "version_minor": 0
      },
      "text/plain": [
       "interactive(children=(Dropdown(description='hdf', options=(('True', True), ('False', False)), value=True), Dro…"
      ]
     },
     "metadata": {},
     "output_type": "display_data"
    }
   ],
   "source": [
    "interact_manual(data_tools.save_data, data=fixed(data), variables=fixed(variables),\n",
    "                hdf=widgets.Dropdown(options=[('True', True), ('False', False)]),\n",
    "                epos=widgets.Dropdown(options=[('False', False), ('True', True)]), \n",
    "                pos=widgets.Dropdown(options=[('False', False), ('True', True)]), \n",
    "                ato_6v=widgets.Dropdown(options=[('False', False), ('True', True)]), \n",
    "                csv=widgets.Dropdown(options=[('False', False), ('True', True)]));"
   ]
  }
 ],
 "metadata": {
  "kernelspec": {
   "display_name": "Python 3 (ipykernel)",
   "language": "python",
   "name": "python3"
  },
  "language_info": {
   "codemirror_mode": {
    "name": "ipython",
    "version": 3
   },
   "file_extension": ".py",
   "mimetype": "text/x-python",
   "name": "python",
   "nbconvert_exporter": "python",
   "pygments_lexer": "ipython3",
   "version": "3.8.16"
  }
 },
 "nbformat": 4,
 "nbformat_minor": 4
}

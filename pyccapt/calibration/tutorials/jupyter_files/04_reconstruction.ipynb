{
 "cells": [
  {
   "cell_type": "code",
   "execution_count": 19,
   "metadata": {},
   "outputs": [
    {
     "name": "stdout",
     "output_type": "stream",
     "text": [
      "The autoreload extension is already loaded. To reload it, use:\n",
      "  %reload_ext autoreload\n"
     ]
    }
   ],
   "source": [
    "# Activate intractive functionality of matplotlib\n",
    "%matplotlib ipympl\n",
    "# Activate auto reload \n",
    "%load_ext autoreload\n",
    "%autoreload 2\n",
    "%reload_ext autoreload\n",
    "# import libraries\n",
    "import os\n",
    "import os.path as path\n",
    "import pandas as pd\n",
    "import h5py\n",
    "import numpy as np\n",
    "from faker import Factory\n",
    "import matplotlib.pyplot as plt\n",
    "from plotly.offline import init_notebook_mode, iplot\n",
    "from plotly.graph_objs import *\n",
    "import plotly\n",
    "from ipywidgets import fixed, interact_manual, widgets\n",
    "from ipywidgets import HBox, VBox\n",
    "from IPython.display import clear_output\n",
    "from IPython.display import display\n",
    "from ipywidgets import IntSlider, Output\n",
    "import plotly.graph_objects as go\n",
    "import plotly.express as plot_x\n",
    "import matplotlib.colors as mcolors\n",
    "\n",
    "# Local module and scripts\n",
    "from pyccapt.calibration.calibration_tools import tools, share_variables, calibration, ion_selection\n",
    "from pyccapt.calibration.calibration_tools import widgets as wd\n",
    "from pyccapt.calibration.data_tools import data_tools, data_loadcrop, dataset_path_qt\n",
    "from pyccapt.calibration.mc import mc_tools\n",
    "from pyccapt.calibration.reconstructions import reconstruction\n",
    "from pyccapt.calibration.leap_tools import ccapt_tools"
   ]
  },
  {
   "cell_type": "code",
   "execution_count": 3,
   "metadata": {
    "tags": []
   },
   "outputs": [
    {
     "data": {
      "application/vnd.jupyter.widget-view+json": {
       "model_id": "7256ead3da97423e879fa8758742346f",
       "version_major": 2,
       "version_minor": 0
      },
      "text/plain": [
       "Button(description='load dataset', style=ButtonStyle())"
      ]
     },
     "execution_count": 3,
     "metadata": {},
     "output_type": "execute_result"
    }
   ],
   "source": [
    "button = widgets.Button(\n",
    "    description='load dataset',\n",
    ")\n",
    "@button.on_click\n",
    "def open_file_on_click(b):\n",
    "    \"\"\"\n",
    "    Event handler for button click event.\n",
    "    Prompts the user to select a dataset file and stores the selected file path in the global variable dataset_path.\n",
    "    \"\"\"\n",
    "    global dataset_path\n",
    "    dataset_path = dataset_path_qt.gui_fname().decode('ASCII')\n",
    "button"
   ]
  },
  {
   "cell_type": "code",
   "execution_count": 5,
   "metadata": {},
   "outputs": [
    {
     "data": {
      "application/vnd.jupyter.widget-view+json": {
       "model_id": "ffecc19c7ce9419d9cb2c499d55fd23a",
       "version_major": 2,
       "version_minor": 0
      },
      "text/plain": [
       "Button(description='load range dataset', style=ButtonStyle())"
      ]
     },
     "execution_count": 5,
     "metadata": {},
     "output_type": "execute_result"
    }
   ],
   "source": [
    "button = widgets.Button(\n",
    "    description='load range dataset',\n",
    ")\n",
    "@button.on_click\n",
    "def open_file_on_click(b):\n",
    "    \"\"\"\n",
    "    Event handler for button click event.\n",
    "    Prompts the user to select a dataset file and stores the selected file path in the global variable dataset_path.\n",
    "    \"\"\"\n",
    "    global range_path\n",
    "    range_path = dataset_path_qt.gui_fname().decode('ASCII')\n",
    "button"
   ]
  },
  {
   "cell_type": "code",
   "execution_count": 8,
   "metadata": {},
   "outputs": [
    {
     "data": {
      "application/vnd.jupyter.widget-view+json": {
       "model_id": "fed33123378942d0b455345cdb239a4a",
       "version_major": 2,
       "version_minor": 0
      },
      "text/plain": [
       "Dropdown(description='Data mode:', options=('surface_concept', 'roentdec', 'leap_epos', 'leap_pos', 'ato_v6'),…"
      ]
     },
     "metadata": {},
     "output_type": "display_data"
    },
    {
     "data": {
      "application/vnd.jupyter.widget-view+json": {
       "model_id": "20dffa75a0a34169a6f3bbaf15e309a2",
       "version_major": 2,
       "version_minor": 0
      },
      "text/plain": [
       "FloatText(value=110.0, description='Flight path length:')"
      ]
     },
     "metadata": {},
     "output_type": "display_data"
    }
   ],
   "source": [
    "tdc, pulse_mode, flightPathLength, t0_d, max_mc, det_diam = wd.dataset_instrument_specification_selection()\n",
    "display(tdc, flightPathLength)"
   ]
  },
  {
   "cell_type": "code",
   "execution_count": 13,
   "metadata": {},
   "outputs": [
    {
     "name": "stdout",
     "output_type": "stream",
     "text": [
      "The maximum time of flight: 5010\n"
     ]
    }
   ],
   "source": [
    "# exctract needed data from Pandas data frame as an numpy array\n",
    "# create an instance of the Variables opject\n",
    "variables = share_variables.Variables()\n",
    "variables.pulse_mode = pulse_mode\n",
    "dataset_main_path = os.path.dirname(dataset_path)\n",
    "dataset_name_with_extention = os.path.basename(dataset_path)\n",
    "variables.dataset_name = os.path.splitext(dataset_name_with_extention)[0]\n",
    "variables.result_data_path = dataset_main_path \n",
    "variables.result_data_name = 'reconstruction_' + variables.dataset_name\n",
    "variables.result_path = dataset_main_path + '/' + '/reconstruction/'\n",
    "\n",
    "if not os.path.isdir(variables.result_path):\n",
    "    os.makedirs(variables.result_path, mode=0o777, exist_ok=True)\n",
    "    \n",
    "# Create data farame out of hdf5 file dataset\n",
    "data = data_tools.load_data(dataset_path, tdc.value, mode='processed')\n",
    "# extract data from the path and create the Variable object\n",
    "data_tools.extract_data(data, variables, flightPathLength_d.value, max_mc.value)"
   ]
  },
  {
   "cell_type": "code",
   "execution_count": 25,
   "metadata": {},
   "outputs": [
    {
     "data": {
      "text/html": [
       "<div>\n",
       "<style scoped>\n",
       "    .dataframe tbody tr th:only-of-type {\n",
       "        vertical-align: middle;\n",
       "    }\n",
       "\n",
       "    .dataframe tbody tr th {\n",
       "        vertical-align: top;\n",
       "    }\n",
       "\n",
       "    .dataframe thead th {\n",
       "        text-align: right;\n",
       "    }\n",
       "</style>\n",
       "<table border=\"1\" class=\"dataframe\">\n",
       "  <thead>\n",
       "    <tr style=\"text-align: right;\">\n",
       "      <th></th>\n",
       "      <th>x (nm)</th>\n",
       "      <th>y (nm)</th>\n",
       "      <th>z (nm)</th>\n",
       "      <th>mc_c (Da)</th>\n",
       "      <th>mc (Da)</th>\n",
       "      <th>high_voltage (V)</th>\n",
       "      <th>pulse</th>\n",
       "      <th>start_counter</th>\n",
       "      <th>t_c (ns)</th>\n",
       "      <th>t (ns)</th>\n",
       "      <th>x_det (cm)</th>\n",
       "      <th>y_det (cm)</th>\n",
       "      <th>pulse_pi</th>\n",
       "      <th>ion_pp</th>\n",
       "    </tr>\n",
       "  </thead>\n",
       "  <tbody>\n",
       "    <tr>\n",
       "      <th>0</th>\n",
       "      <td>0.0</td>\n",
       "      <td>0.0</td>\n",
       "      <td>0.0</td>\n",
       "      <td>26.987074</td>\n",
       "      <td>0.000122</td>\n",
       "      <td>5263.975586</td>\n",
       "      <td>5263.975586</td>\n",
       "      <td>32552</td>\n",
       "      <td>611.794680</td>\n",
       "      <td>632.252736</td>\n",
       "      <td>-1.572735</td>\n",
       "      <td>-1.661878</td>\n",
       "      <td>0</td>\n",
       "      <td>0</td>\n",
       "    </tr>\n",
       "    <tr>\n",
       "      <th>1</th>\n",
       "      <td>0.0</td>\n",
       "      <td>0.0</td>\n",
       "      <td>0.0</td>\n",
       "      <td>26.848762</td>\n",
       "      <td>0.000117</td>\n",
       "      <td>5263.975586</td>\n",
       "      <td>5263.975586</td>\n",
       "      <td>32781</td>\n",
       "      <td>610.402608</td>\n",
       "      <td>619.853472</td>\n",
       "      <td>0.394776</td>\n",
       "      <td>-0.522122</td>\n",
       "      <td>229</td>\n",
       "      <td>2</td>\n",
       "    </tr>\n",
       "    <tr>\n",
       "      <th>2</th>\n",
       "      <td>0.0</td>\n",
       "      <td>0.0</td>\n",
       "      <td>0.0</td>\n",
       "      <td>27.716827</td>\n",
       "      <td>0.000122</td>\n",
       "      <td>5263.975586</td>\n",
       "      <td>5263.975586</td>\n",
       "      <td>33039</td>\n",
       "      <td>619.078868</td>\n",
       "      <td>631.765818</td>\n",
       "      <td>1.442204</td>\n",
       "      <td>-0.646286</td>\n",
       "      <td>258</td>\n",
       "      <td>1</td>\n",
       "    </tr>\n",
       "    <tr>\n",
       "      <th>3</th>\n",
       "      <td>0.0</td>\n",
       "      <td>0.0</td>\n",
       "      <td>0.0</td>\n",
       "      <td>26.959129</td>\n",
       "      <td>0.000120</td>\n",
       "      <td>5263.975586</td>\n",
       "      <td>5263.975586</td>\n",
       "      <td>33680</td>\n",
       "      <td>611.513719</td>\n",
       "      <td>626.361714</td>\n",
       "      <td>-0.865959</td>\n",
       "      <td>-1.458122</td>\n",
       "      <td>641</td>\n",
       "      <td>1</td>\n",
       "    </tr>\n",
       "    <tr>\n",
       "      <th>4</th>\n",
       "      <td>0.0</td>\n",
       "      <td>0.0</td>\n",
       "      <td>0.0</td>\n",
       "      <td>27.008878</td>\n",
       "      <td>0.000120</td>\n",
       "      <td>5263.975586</td>\n",
       "      <td>5263.975586</td>\n",
       "      <td>33732</td>\n",
       "      <td>612.013785</td>\n",
       "      <td>626.828058</td>\n",
       "      <td>1.840163</td>\n",
       "      <td>-0.569878</td>\n",
       "      <td>52</td>\n",
       "      <td>1</td>\n",
       "    </tr>\n",
       "    <tr>\n",
       "      <th>...</th>\n",
       "      <td>...</td>\n",
       "      <td>...</td>\n",
       "      <td>...</td>\n",
       "      <td>...</td>\n",
       "      <td>...</td>\n",
       "      <td>...</td>\n",
       "      <td>...</td>\n",
       "      <td>...</td>\n",
       "      <td>...</td>\n",
       "      <td>...</td>\n",
       "      <td>...</td>\n",
       "      <td>...</td>\n",
       "      <td>...</td>\n",
       "      <td>...</td>\n",
       "    </tr>\n",
       "    <tr>\n",
       "      <th>1888681</th>\n",
       "      <td>0.0</td>\n",
       "      <td>0.0</td>\n",
       "      <td>0.0</td>\n",
       "      <td>27.196443</td>\n",
       "      <td>0.000108</td>\n",
       "      <td>5710.897949</td>\n",
       "      <td>5710.897949</td>\n",
       "      <td>27153</td>\n",
       "      <td>613.894888</td>\n",
       "      <td>619.195104</td>\n",
       "      <td>3.158204</td>\n",
       "      <td>0.105061</td>\n",
       "      <td>420</td>\n",
       "      <td>1</td>\n",
       "    </tr>\n",
       "    <tr>\n",
       "      <th>1888682</th>\n",
       "      <td>0.0</td>\n",
       "      <td>0.0</td>\n",
       "      <td>0.0</td>\n",
       "      <td>26.996092</td>\n",
       "      <td>0.000107</td>\n",
       "      <td>5710.897949</td>\n",
       "      <td>5710.897949</td>\n",
       "      <td>27190</td>\n",
       "      <td>611.885311</td>\n",
       "      <td>616.959396</td>\n",
       "      <td>3.145469</td>\n",
       "      <td>0.060490</td>\n",
       "      <td>37</td>\n",
       "      <td>1</td>\n",
       "    </tr>\n",
       "    <tr>\n",
       "      <th>1888683</th>\n",
       "      <td>0.0</td>\n",
       "      <td>0.0</td>\n",
       "      <td>0.0</td>\n",
       "      <td>26.998240</td>\n",
       "      <td>0.000104</td>\n",
       "      <td>5710.897949</td>\n",
       "      <td>5710.897949</td>\n",
       "      <td>27456</td>\n",
       "      <td>611.906897</td>\n",
       "      <td>608.530914</td>\n",
       "      <td>-1.728735</td>\n",
       "      <td>-0.079592</td>\n",
       "      <td>266</td>\n",
       "      <td>1</td>\n",
       "    </tr>\n",
       "    <tr>\n",
       "      <th>1888684</th>\n",
       "      <td>0.0</td>\n",
       "      <td>0.0</td>\n",
       "      <td>0.0</td>\n",
       "      <td>26.800806</td>\n",
       "      <td>0.000101</td>\n",
       "      <td>5710.897949</td>\n",
       "      <td>5710.897949</td>\n",
       "      <td>28120</td>\n",
       "      <td>609.919070</td>\n",
       "      <td>600.321888</td>\n",
       "      <td>1.152490</td>\n",
       "      <td>-1.044245</td>\n",
       "      <td>664</td>\n",
       "      <td>1</td>\n",
       "    </tr>\n",
       "    <tr>\n",
       "      <th>1888685</th>\n",
       "      <td>0.0</td>\n",
       "      <td>0.0</td>\n",
       "      <td>0.0</td>\n",
       "      <td>27.193038</td>\n",
       "      <td>0.000107</td>\n",
       "      <td>5710.897949</td>\n",
       "      <td>5710.897949</td>\n",
       "      <td>28446</td>\n",
       "      <td>613.860801</td>\n",
       "      <td>616.445046</td>\n",
       "      <td>-0.136898</td>\n",
       "      <td>-2.999020</td>\n",
       "      <td>326</td>\n",
       "      <td>1</td>\n",
       "    </tr>\n",
       "  </tbody>\n",
       "</table>\n",
       "<p>1888686 rows × 14 columns</p>\n",
       "</div>"
      ],
      "text/plain": [
       "         x (nm)  y (nm)  z (nm)  mc_c (Da)   mc (Da)  high_voltage (V)  \\\n",
       "0           0.0     0.0     0.0  26.987074  0.000122       5263.975586   \n",
       "1           0.0     0.0     0.0  26.848762  0.000117       5263.975586   \n",
       "2           0.0     0.0     0.0  27.716827  0.000122       5263.975586   \n",
       "3           0.0     0.0     0.0  26.959129  0.000120       5263.975586   \n",
       "4           0.0     0.0     0.0  27.008878  0.000120       5263.975586   \n",
       "...         ...     ...     ...        ...       ...               ...   \n",
       "1888681     0.0     0.0     0.0  27.196443  0.000108       5710.897949   \n",
       "1888682     0.0     0.0     0.0  26.996092  0.000107       5710.897949   \n",
       "1888683     0.0     0.0     0.0  26.998240  0.000104       5710.897949   \n",
       "1888684     0.0     0.0     0.0  26.800806  0.000101       5710.897949   \n",
       "1888685     0.0     0.0     0.0  27.193038  0.000107       5710.897949   \n",
       "\n",
       "               pulse  start_counter    t_c (ns)      t (ns)  x_det (cm)  \\\n",
       "0        5263.975586          32552  611.794680  632.252736   -1.572735   \n",
       "1        5263.975586          32781  610.402608  619.853472    0.394776   \n",
       "2        5263.975586          33039  619.078868  631.765818    1.442204   \n",
       "3        5263.975586          33680  611.513719  626.361714   -0.865959   \n",
       "4        5263.975586          33732  612.013785  626.828058    1.840163   \n",
       "...              ...            ...         ...         ...         ...   \n",
       "1888681  5710.897949          27153  613.894888  619.195104    3.158204   \n",
       "1888682  5710.897949          27190  611.885311  616.959396    3.145469   \n",
       "1888683  5710.897949          27456  611.906897  608.530914   -1.728735   \n",
       "1888684  5710.897949          28120  609.919070  600.321888    1.152490   \n",
       "1888685  5710.897949          28446  613.860801  616.445046   -0.136898   \n",
       "\n",
       "         y_det (cm)  pulse_pi  ion_pp  \n",
       "0         -1.661878         0       0  \n",
       "1         -0.522122       229       2  \n",
       "2         -0.646286       258       1  \n",
       "3         -1.458122       641       1  \n",
       "4         -0.569878        52       1  \n",
       "...             ...       ...     ...  \n",
       "1888681    0.105061       420       1  \n",
       "1888682    0.060490        37       1  \n",
       "1888683   -0.079592       266       1  \n",
       "1888684   -1.044245       664       1  \n",
       "1888685   -2.999020       326       1  \n",
       "\n",
       "[1888686 rows x 14 columns]"
      ]
     },
     "execution_count": 25,
     "metadata": {},
     "output_type": "execute_result"
    }
   ],
   "source": [
    "data"
   ]
  },
  {
   "cell_type": "code",
   "execution_count": 23,
   "metadata": {},
   "outputs": [
    {
     "data": {
      "text/html": [
       "<style type=\"text/css\">\n",
       "#T_7f509_row0_col5 {\n",
       "  background-color: #b2aa2d;\n",
       "  width: 50px;\n",
       "  height: 20px;\n",
       "}\n",
       "#T_7f509_row1_col5, #T_7f509_row2_col5 {\n",
       "  background-color: #e7e0d1;\n",
       "  width: 50px;\n",
       "  height: 20px;\n",
       "}\n",
       "</style>\n",
       "<table id=\"T_7f509\">\n",
       "  <thead>\n",
       "    <tr>\n",
       "      <th class=\"blank level0\" >&nbsp;</th>\n",
       "      <th id=\"T_7f509_level0_col0\" class=\"col_heading level0 col0\" >ion</th>\n",
       "      <th id=\"T_7f509_level0_col1\" class=\"col_heading level0 col1\" >mass</th>\n",
       "      <th id=\"T_7f509_level0_col2\" class=\"col_heading level0 col2\" >mc</th>\n",
       "      <th id=\"T_7f509_level0_col3\" class=\"col_heading level0 col3\" >mc_low</th>\n",
       "      <th id=\"T_7f509_level0_col4\" class=\"col_heading level0 col4\" >mc_up</th>\n",
       "      <th id=\"T_7f509_level0_col5\" class=\"col_heading level0 col5\" >color</th>\n",
       "      <th id=\"T_7f509_level0_col6\" class=\"col_heading level0 col6\" >element</th>\n",
       "      <th id=\"T_7f509_level0_col7\" class=\"col_heading level0 col7\" >complex</th>\n",
       "      <th id=\"T_7f509_level0_col8\" class=\"col_heading level0 col8\" >isotope</th>\n",
       "      <th id=\"T_7f509_level0_col9\" class=\"col_heading level0 col9\" >charge</th>\n",
       "    </tr>\n",
       "  </thead>\n",
       "  <tbody>\n",
       "    <tr>\n",
       "      <th id=\"T_7f509_level0_row0\" class=\"row_heading level0 row0\" >0</th>\n",
       "      <td id=\"T_7f509_row0_col0\" class=\"data row0 col0\" >${}^{1}H^{+}$</td>\n",
       "      <td id=\"T_7f509_row0_col1\" class=\"data row0 col1\" >1.010000</td>\n",
       "      <td id=\"T_7f509_row0_col2\" class=\"data row0 col2\" >1.583612</td>\n",
       "      <td id=\"T_7f509_row0_col3\" class=\"data row0 col3\" >1.503650</td>\n",
       "      <td id=\"T_7f509_row0_col4\" class=\"data row0 col4\" >1.768199</td>\n",
       "      <td id=\"T_7f509_row0_col5\" class=\"data row0 col5\" >#b2aa2d</td>\n",
       "      <td id=\"T_7f509_row0_col6\" class=\"data row0 col6\" >H</td>\n",
       "      <td id=\"T_7f509_row0_col7\" class=\"data row0 col7\" >1</td>\n",
       "      <td id=\"T_7f509_row0_col8\" class=\"data row0 col8\" >1</td>\n",
       "      <td id=\"T_7f509_row0_col9\" class=\"data row0 col9\" >+</td>\n",
       "    </tr>\n",
       "    <tr>\n",
       "      <th id=\"T_7f509_level0_row1\" class=\"row_heading level0 row1\" >1</th>\n",
       "      <td id=\"T_7f509_row1_col0\" class=\"data row1 col0\" >${}^{27}Al^{2+}$</td>\n",
       "      <td id=\"T_7f509_row1_col1\" class=\"data row1 col1\" >13.490000</td>\n",
       "      <td id=\"T_7f509_row1_col2\" class=\"data row1 col2\" >13.409105</td>\n",
       "      <td id=\"T_7f509_row1_col3\" class=\"data row1 col3\" >12.985088</td>\n",
       "      <td id=\"T_7f509_row1_col4\" class=\"data row1 col4\" >14.254925</td>\n",
       "      <td id=\"T_7f509_row1_col5\" class=\"data row1 col5\" >#e7e0d1</td>\n",
       "      <td id=\"T_7f509_row1_col6\" class=\"data row1 col6\" >Al</td>\n",
       "      <td id=\"T_7f509_row1_col7\" class=\"data row1 col7\" >1</td>\n",
       "      <td id=\"T_7f509_row1_col8\" class=\"data row1 col8\" >27</td>\n",
       "      <td id=\"T_7f509_row1_col9\" class=\"data row1 col9\" >2+</td>\n",
       "    </tr>\n",
       "    <tr>\n",
       "      <th id=\"T_7f509_level0_row2\" class=\"row_heading level0 row2\" >2</th>\n",
       "      <td id=\"T_7f509_row2_col0\" class=\"data row2 col0\" >${}^{27}Al^{+}$</td>\n",
       "      <td id=\"T_7f509_row2_col1\" class=\"data row2 col1\" >26.980000</td>\n",
       "      <td id=\"T_7f509_row2_col2\" class=\"data row2 col2\" >26.993763</td>\n",
       "      <td id=\"T_7f509_row2_col3\" class=\"data row2 col3\" >25.948003</td>\n",
       "      <td id=\"T_7f509_row2_col4\" class=\"data row2 col4\" >28.963865</td>\n",
       "      <td id=\"T_7f509_row2_col5\" class=\"data row2 col5\" >#e7e0d1</td>\n",
       "      <td id=\"T_7f509_row2_col6\" class=\"data row2 col6\" >Al</td>\n",
       "      <td id=\"T_7f509_row2_col7\" class=\"data row2 col7\" >1</td>\n",
       "      <td id=\"T_7f509_row2_col8\" class=\"data row2 col8\" >27</td>\n",
       "      <td id=\"T_7f509_row2_col9\" class=\"data row2 col9\" >+</td>\n",
       "    </tr>\n",
       "  </tbody>\n",
       "</table>\n"
      ],
      "text/plain": [
       "<pandas.io.formats.style.Styler at 0x2a4c41001c0>"
      ]
     },
     "metadata": {},
     "output_type": "display_data"
    }
   ],
   "source": [
    "if 'range_path' in locals():\n",
    "    variables.range_data = data_tools.read_hdf5_through_pandas(range_path)\n",
    "\n",
    "else:\n",
    "    variables.range_data = pd.DataFrame({\"ion\": ['unranged'], \"mass\": [0], \"mc\": [0], \"mass\": [0], \"mc_low\": [0], \"mc_up\": [0], \"color\": ['#000000'], \"element\": ['unranged'],\n",
    "                                        \"complex\": [0], \"isotop\": [0], \"charge\": [0]})\n",
    "display(range_data.style.applymap(ion_selection.display_color, subset=['color']))"
   ]
  },
  {
   "cell_type": "code",
   "execution_count": 24,
   "metadata": {},
   "outputs": [
    {
     "data": {
      "application/vnd.jupyter.widget-view+json": {
       "model_id": "0d4cc6e145a54afd9b24daa4031f6231",
       "version_major": 2,
       "version_minor": 0
      },
      "text/plain": [
       "VBox(children=(ColorPicker(value='black', description='Select a color:'), IntText(value=0, description='index …"
      ]
     },
     "metadata": {},
     "output_type": "display_data"
    },
    {
     "data": {
      "application/vnd.jupyter.widget-view+json": {
       "model_id": "fe9ab39a484b45bc84dd54a7bc3794fd",
       "version_major": 2,
       "version_minor": 0
      },
      "text/plain": [
       "Output()"
      ]
     },
     "metadata": {},
     "output_type": "display_data"
    }
   ],
   "source": [
    "change_color = widgets.Button(\n",
    "    description='change color',\n",
    ")\n",
    "color_picker = widgets.ColorPicker(description='Select a color:')\n",
    "row_index = widgets.IntText(value=0, description='index row:')\n",
    "@change_color.on_click\n",
    "def change_color_m(b,):\n",
    "    with out:\n",
    "        selected_color = mcolors.to_hex(color_picker.value)\n",
    "        variables.range_data.at[row_index.value, 'color'] = selected_color\n",
    "        clear_output(True)\n",
    "        display(variables.range_data.style.applymap(ion_selection.display_color, subset=['color']))\n",
    "        \n",
    "# Create a container for the widgets\n",
    "container = widgets.VBox([color_picker, row_index, change_color])\n",
    "out = Output()\n",
    "# Display the widgets\n",
    "display(container, out)"
   ]
  },
  {
   "cell_type": "markdown",
   "metadata": {},
   "source": [
    "$$\\textbf{You can specify which dataset to use in below block}$$"
   ]
  },
  {
   "cell_type": "code",
   "execution_count": 29,
   "metadata": {},
   "outputs": [
    {
     "name": "stdout",
     "output_type": "stream",
     "text": [
      "The number of data with x=0 and y=0 in dataset is: 1\n"
     ]
    }
   ],
   "source": [
    "# romove data that has x_det and y_det equal to zero at same time\n",
    "# these points resulted in nan in the reconstruction becuse of dviding 0/0\n",
    "# mask = np.logical_and((data['x_det (cm)'].to_numpy()==0), (data['y_det (cm)'].to_numpy()==0))\n",
    "# print('The number of data with x=0 and y=0 in dataset is:', len(mask[mask==True]))\n",
    "# data.drop(np.where(mask)[0], inplace=True)\n",
    "# data.reset_index(inplace=True, drop=True)"
   ]
  },
  {
   "cell_type": "code",
   "execution_count": 30,
   "metadata": {},
   "outputs": [],
   "source": [
    "# exctract needed data from Pandas data frame as an numpy array\n",
    "# dld_highVoltage = data['high_voltage (V)'].to_numpy()\n",
    "# dld_x = data['x_det (cm)'].to_numpy()\n",
    "# dld_y = data['y_det (cm)'].to_numpy()\n",
    "# mc = data['mc_c (Da)'].to_numpy()"
   ]
  },
  {
   "cell_type": "code",
   "execution_count": 28,
   "metadata": {},
   "outputs": [
    {
     "name": "stderr",
     "output_type": "stream",
     "text": [
      "C:\\Users\\mehrp\\AppData\\Local\\Temp\\ipykernel_51244\\2211174180.py:5: DeprecationWarning:\n",
      "\n",
      "on_submit is deprecated. Instead, set the .continuous_update attribute to False and observe the value changing with: mywidget.observe(callback, 'value').\n",
      "\n"
     ]
    },
    {
     "data": {
      "application/vnd.jupyter.widget-view+json": {
       "model_id": "bbac37abf170417d939a8554fa8cc2a4",
       "version_major": 2,
       "version_minor": 0
      },
      "text/plain": [
       "interactive(children=(FloatText(value=0.1, description='bin_size'), IntText(value=400, description='lim_mc'), …"
      ]
     },
     "metadata": {},
     "output_type": "display_data"
    }
   ],
   "source": [
    "def mc_hist_plot(bin_size, lim_mc, ranging, figname):\n",
    "    \n",
    "    peaks_ini, peaks_y_ini, peak_widths_p_ini, _ = tools.hist_plot(variables.mc_c[variables.mc_c < lim_mc], variables, bin=bin_size, range_data=variables.range_data, ranging=ranging, adjust_label=False, plot=True, label='mc', fig_name=figname)\n",
    "   \n",
    "interact_manual(mc_hist_plot, bin_size=widgets.FloatText(value=0.1), lim_mc=widgets.IntText(value=400), figname=widgets.Text(value='hist'), ranging=widgets.Dropdown(options=[('True', True), ('False', False)]));"
   ]
  },
  {
   "cell_type": "code",
   "execution_count": 29,
   "metadata": {},
   "outputs": [
    {
     "data": {
      "application/vnd.jupyter.widget-view+json": {
       "model_id": "3596dd10b41f482c88be3bd0eb3d3f9b",
       "version_major": 2,
       "version_minor": 0
      },
      "text/plain": [
       "Dropdown(description='Element', options=((1, 'H', 52.7, 0.0), (2, 'He', 28.7, 0.0), (3, 'Li', 46.3, 14.0), (4,…"
      ]
     },
     "metadata": {},
     "output_type": "display_data"
    }
   ],
   "source": [
    "element_selected = wd.density_field_selection()\n",
    "display(element_selected)"
   ]
  },
  {
   "cell_type": "code",
   "execution_count": 33,
   "metadata": {},
   "outputs": [],
   "source": [
    "avg_dens = element_selected.value[2]\n",
    "field_evap = element_selected.value[3]"
   ]
  },
  {
   "cell_type": "code",
   "execution_count": 41,
   "metadata": {},
   "outputs": [],
   "source": [
    "def x_y_z_calculation_and_plot(data, range_data, variables, element_percentage, kf, det_eff, icf, field_evap, avg_dens, rotary_fig_save, selected_are, figname):\n",
    "    dld_highVoltage = data['high_voltage (V)'].to_numpy()\n",
    "    dld_x = data['x_det (cm)'].to_numpy()\n",
    "    dld_y = data['y_det (cm)'].to_numpy()\n",
    "    mc = data['mc_c (Da)'].to_numpy()\n",
    "    flight_path_length = flightPathLength.value\n",
    "    px, py, pz = reconstruction.atom_probe_recons_from_detector_Gault_et_al(dld_x, dld_y, dld_highVoltage,\n",
    "                                                                            flight_path_length, kf, det_eff, icf,\n",
    "                                                                            field_evap, avg_dens)\n",
    "    #     px, py, pz = reconstruction.atom_probe_recons_Bas_et_al(dld_x, dld_y, dld_highVoltage, flight_path_length, kf, det_eff, icfe, field_evap, avg_dens)\n",
    "    data['x (nm)'] = px\n",
    "    data['y (nm)'] = py\n",
    "    data['z (nm)'] = pz\n",
    "    reconstruction.reconstruction_plot(data, range_data, variables, element_percentage, rotary_fig_save, selected_are, figname)"
   ]
  },
  {
   "cell_type": "code",
   "execution_count": null,
   "metadata": {},
   "outputs": [],
   "source": [
    "if range_data is not None:\n",
    "    element_percentage = [0.01] * len(range_data['element'].tolist())\n",
    "    element_percentage = str(element_percentage)\n",
    "else:\n",
    "    element_percentage = str([0.01])\n",
    "\n",
    "interact_manual(x_y_z_calculation_and_plot, kf=widgets.FloatText(value=4), det_eff=widgets.FloatText(value=0.7), icf=widgets.FloatText(value=1.4),\n",
    "                field_evap=widgets.FloatText(value=field_evap),\n",
    "               avg_dens=widgets.FloatText(value=avg_dens), element_percentage=widgets.Textarea(value=element_percentage),\n",
    "               rotary_fig_save=widgets.Dropdown(options=[('True', True), ('False', False)], value=False), data=fixed(data), range_data=fixed(range_data), variables=fixed(variables), selected_are=fixed(False), figname=widgets.Text(value='3d'));"
   ]
  },
  {
   "cell_type": "code",
   "execution_count": null,
   "metadata": {},
   "outputs": [],
   "source": [
    "data"
   ]
  },
  {
   "cell_type": "code",
   "execution_count": 29,
   "metadata": {},
   "outputs": [
    {
     "data": {
      "application/vnd.jupyter.widget-view+json": {
       "model_id": "5420c2dd1451471786bda25fb6aae7ea",
       "version_major": 2,
       "version_minor": 0
      },
      "text/plain": [
       "VBox(children=(Tab(children=(VBox(children=(Dropdown(description='Selected area', options=(('False', False), (…"
      ]
     },
     "metadata": {},
     "output_type": "display_data"
    },
    {
     "data": {
      "application/vnd.jupyter.widget-view+json": {
       "model_id": "2a690597ab3a48d3a6ba5e89f069a605",
       "version_major": 2,
       "version_minor": 0
      },
      "text/plain": [
       "Output()"
      ]
     },
     "metadata": {},
     "output_type": "display_data"
    }
   ],
   "source": [
    "\n",
    "plot_3d_button = widgets.Button(\n",
    "    description='plot 3D',\n",
    ")\n",
    "plot_heatmap_button = widgets.Button(\n",
    "    description='plot heatmap',\n",
    ")\n",
    "plot_mc_button = widgets.Button(\n",
    "    description='plot mc',\n",
    ")\n",
    "plot_projection_button = widgets.Button(\n",
    "    description='plot projection',\n",
    ")\n",
    "\n",
    "clear_button = widgets.Button(\n",
    "    description='Clear plots',\n",
    ")\n",
    "\n",
    "selected_area_p3=widgets.Dropdown(options=[('False', False), ('True', True)], description='Selected area')\n",
    "rotary_fig_save_p3=widgets.Dropdown(options=[('True', True), ('False', False)], description='Rotary save')\n",
    "element_percentage_p3=widgets.Textarea(value=element_percentage, description='Element percentage')\n",
    "@plot_3d_button.on_click\n",
    "def plot_3d(b, data=data, range_data=range_data, figname=figname):\n",
    "    with out:\n",
    "        if not variables.selected_calculated:\n",
    "            variables.selected_z1 = variables.selected_y1\n",
    "            variables.selected_z2 = variables.selected_y2\n",
    "            variables.selected_y1 = variables.selected_x1\n",
    "            variables.selected_y2 = variables.selected_x2\n",
    "            print('Min x (nm):', variables.selected_x1, 'Max x (nm):', variables.selected_x2)\n",
    "            print('Min y (nm):', variables.selected_y1, 'Max y (nm):', variables.selected_y2)\n",
    "            print('Min z (nm):', variables.selected_z1, 'Max z (nm):', variables.selected_z2)\n",
    "            variables.selected_calculated = True\n",
    "        reconstruction.reconstruction_plot(data, range_data, element_percentage_p3.value, rotary_fig_save_p3.value, selected_area_p3.value, figname)\n",
    "\n",
    "selected_area_ph=widgets.Dropdown(options=[('False', False), ('True', True)], description='Selected area')\n",
    "element_percentage_ph=widgets.Textarea(value=element_percentage, description='Element percentage')\n",
    "@plot_heatmap_button.on_click\n",
    "def plot_heatmap(b, data=data, range_data=range_data):\n",
    "    with out:\n",
    "        if not variables.selected_calculated:\n",
    "            variables.selected_z1 = variables.selected_y1\n",
    "            variables.selected_z2 = variables.selected_y2\n",
    "            variables.selected_y1 = variables.selected_x1\n",
    "            variables.selected_y2 = variables.selected_x2\n",
    "            print('Min x (nm):', variables.selected_x1, 'Max x (nm):', variables.selected_x2)\n",
    "            print('Min y (nm):', variables.selected_y1, 'Max y (nm):', variables.selected_y2)\n",
    "            print('Min z (nm):', variables.selected_z1, 'Max z (nm):', variables.selected_z2)\n",
    "            variables.selected_calculated = True\n",
    "        data_f = data.copy(deep=True)\n",
    "        if selected_area_ph.value:\n",
    "            data_f = data_f[(data_f['x (nm)'] >  variables.selected_x1) & (data_f['x (nm)'] <  variables.selected_x2) & \n",
    "                            (data_f['y (nm)'] >  variables.selected_y1) & (data_f['y (nm)'] <  variables.selected_y2) & \n",
    "                            (data_f['z (nm)'] >  variables.selected_z1) & (data_f['z (nm)'] <  variables.selected_z2)]\n",
    "\n",
    "            data_f.reset_index(inplace=True, drop=True)\n",
    "        reconstruction.heatmap(data_f, range_data, selected_area_ph.value, element_percentage_ph.value, save=True)\n",
    "\n",
    "selected_area_pm=widgets.Dropdown(options=[('False', False), ('True', True)], description='Selected area')\n",
    "range_file_exist_pm=widgets.Dropdown(options=[('True', True), ('False', False)], description='Range exist')\n",
    "bin_size_pm = widgets.FloatText(value=0.1, description='Bins size')\n",
    "prominence_pm = widgets.IntText(value=50, description='Prominance')\n",
    "distance_pm = widgets.IntText(value=100, description='Distance')\n",
    "lim_mc_pm = widgets.IntText(value=150, description='Limit mc')\n",
    "percent_pm = widgets.IntText(value=50, description='Percent MRP')\n",
    "@plot_mc_button.on_click\n",
    "def plot_mc(b, data=data, range_data=range_data):\n",
    "    with out:\n",
    "        if not variables.selected_calculated:\n",
    "            variables.selected_z1 = variables.selected_y1\n",
    "            variables.selected_z2 = variables.selected_y2\n",
    "            variables.selected_y1 = variables.selected_x1\n",
    "            variables.selected_y2 = variables.selected_x2\n",
    "            print('Min x (nm):', variables.selected_x1, 'Max x (nm):', variables.selected_x2)\n",
    "            print('Min y (nm):', variables.selected_y1, 'Max y (nm):', variables.selected_y2)\n",
    "            print('Min z (nm):', variables.selected_z1, 'Max z (nm):', variables.selected_z2)\n",
    "            variables.selected_calculated = True\n",
    "        data_f = data.copy(deep=True)\n",
    "        if selected_area_pm.value:\n",
    "            data_f = data_f[(data_f['x (nm)'] >  variables.selected_x1) & (data_f['x (nm)'] <  variables.selected_x2) & \n",
    "                            (data_f['y (nm)'] >  variables.selected_y1) & (data_f['y (nm)'] <  variables.selected_y2) & \n",
    "                            (data_f['z (nm)'] >  variables.selected_z1) & (data_f['z (nm)'] <  variables.selected_z2)]\n",
    "\n",
    "            data_f.reset_index(inplace=True, drop=True)\n",
    "        mc = data_f['mc_c (Da)'].to_numpy()\n",
    "\n",
    "        peaks_ini, peaks_y_ini, peak_widths_p_ini = tools.hist_plot(mc[mc < lim_mc_pm.value], range_data=range_data, ranging=range_file_exist_pm.value, bin=bin_size_pm.value, distance=distance_pm.value, percent=percent_pm.value,\n",
    "                                                                    prominence=prominence_pm.value, selector=None, plot=True, label='mc', fig_name=figname+'_ini', fast_hist=False)\n",
    "        index_max_ini = np.argmax(peaks_y_ini)\n",
    "        mrp = (peaks_ini[index_max_ini] / (peak_widths_p_ini[index_max_ini][2] - peak_widths_p_ini[index_max_ini][1]))\n",
    "        print('Mass resolving power for the highest peak (MRP --> m/m_2-m_1):', mrp)\n",
    "        for i in range(len(peaks_ini)):\n",
    "            print('Peaks ', i, 'is at location and height: ({:.2f}, {:.2f})'.format(peaks_ini[i], peaks_y_ini[i]), 'peak window sides (half-maximum) are: ({:.2f}, {:.2f})'.format(peak_widths_p_ini[i][1], peak_widths_p_ini[i][2]))\n",
    "\n",
    "element_percentage_pp=widgets.Textarea(value=element_percentage, description='Element percentage')\n",
    "selected_area_pp=widgets.Dropdown(options=[('False', False), ('True', True)], description='Selected area')\n",
    "x_or_y_pp=widgets.Dropdown(options=['x', 'y'], value='x', description='X or Y')\n",
    "\n",
    "@plot_projection_button.on_click\n",
    "def plot_projection(b, data=data, range_data=range_data, figname=figname):\n",
    "    with out:\n",
    "        if not variables.selected_calculated:\n",
    "            variables.selected_z1 = variables.selected_y1\n",
    "            variables.selected_z2 = variables.selected_y2\n",
    "            variables.selected_y1 = variables.selected_x1\n",
    "            variables.selected_y2 = variables.selected_x2\n",
    "            print('Min x (nm):', variables.selected_x1, 'Max x (nm):', variables.selected_x2)\n",
    "            print('Min y (nm):', variables.selected_y1, 'Max y (nm):', variables.selected_y2)\n",
    "            print('Min z (nm):', variables.selected_z1, 'Max z (nm):', variables.selected_z2)\n",
    "            variables.selected_calculated = True\n",
    "        data_f = data.copy(deep=True)\n",
    "        if selected_area_pp.value:\n",
    "            data_f = data_f[(data_f['x (nm)'] >  variables.selected_x1) & (data_f['x (nm)'] <  variables.selected_x2) & \n",
    "                            (data_f['y (nm)'] >  variables.selected_y1) & (data_f['y (nm)'] <  variables.selected_y2) & \n",
    "                            (data_f['z (nm)'] >  variables.selected_z1) & (data_f['z (nm)'] <  variables.selected_z2)]\n",
    "        \n",
    "            data_f.reset_index(inplace=True, drop=True)\n",
    "        reconstruction.projection(data_f, range_data, element_percentage_pp.value, selected_area_pp.value, x_or_y_pp.value, figname)\n",
    "\n",
    "@clear_button.on_click\n",
    "def clear(b,):\n",
    "    with out:\n",
    "        clear_output(True)\n",
    "        print('')\n",
    "\n",
    "\n",
    "tab1 = VBox(children=[selected_area_pp, x_or_y_pp, element_percentage_pp, plot_projection_button, clear_button])\n",
    "tab2 = VBox(children=[selected_area_p3, rotary_fig_save_p3, element_percentage_p3, plot_3d_button, clear_button])\n",
    "tab3 = VBox(children=[selected_area_pm, bin_size_pm, prominence_pm, distance_pm, lim_mc_pm, percent_pm, plot_mc_button, clear_button])\n",
    "tab4 = VBox(children=[selected_area_ph, element_percentage_ph, plot_heatmap_button, clear_button])\n",
    "# tab2 = VBox(children=[VBox(children=[HBox(children=[plot_3d_button, selected_area_p3, range_file_exist_p3, rotary_fig_save_p3, element_percentage_p3]),\n",
    "#                                      HBox(children=[plot_heatmap_button, selected_area_ph, element_percentage_ph]),\n",
    "#                                      HBox(children=[plot_mc_button, selected_area_pm, range_file_exist_pm, bin_size_pm, prominence_pm, distance_pm, lim_mc_pm, percent_pm]), \n",
    "#                                      HBox(children=[plot_projection_button, selected_area_pp, x_or_y_pp, element_percentage_pp])]), clear_button])\n",
    "\n",
    "\n",
    "tab = widgets.Tab(children=[tab1, tab2, tab3, tab4])\n",
    "tab.set_title(0, 'projection')\n",
    "tab.set_title(1, '3d plot')\n",
    "tab.set_title(2, 'mc plot')\n",
    "tab.set_title(3, 'heatmap plot')\n",
    "\n",
    "\n",
    "\n",
    "display(VBox(children=[tab]))\n",
    "out = Output()\n",
    "display(out)"
   ]
  },
  {
   "cell_type": "code",
   "execution_count": 30,
   "metadata": {},
   "outputs": [],
   "source": [
    "# save the new data\n",
    "name_save_file = variables.result_path + '//' + dataset_name + '.h5'\n",
    "data_tools.store_df_to_hdf(name_save_file, data, 'df')"
   ]
  },
  {
   "cell_type": "code",
   "execution_count": 31,
   "metadata": {},
   "outputs": [],
   "source": [
    "# save data as epos file\n",
    "epos = ccapt_tools.ccapt_to_epos(data, pulse_mode=pulse_mode.value, path=variables.result_path, name=dataset_name + '.epos')\n",
    "pos = ccapt_tools.ccapt_to_pos(data, path=variables.result_path, name=dataset_name + '.pos')"
   ]
  },
  {
   "cell_type": "code",
   "execution_count": 32,
   "metadata": {},
   "outputs": [],
   "source": [
    "# save data in csv format\n",
    "data_tools.store_df_to_csv(data, variables.result_path + dataset_name + '.csv')"
   ]
  },
  {
   "cell_type": "code",
   "execution_count": null,
   "metadata": {},
   "outputs": [],
   "source": []
  }
 ],
 "metadata": {
  "kernelspec": {
   "display_name": "Python 3 (ipykernel)",
   "language": "python",
   "name": "python3"
  },
  "language_info": {
   "codemirror_mode": {
    "name": "ipython",
    "version": 3
   },
   "file_extension": ".py",
   "mimetype": "text/x-python",
   "name": "python",
   "nbconvert_exporter": "python",
   "pygments_lexer": "ipython3",
   "version": "3.8.13"
  }
 },
 "nbformat": 4,
 "nbformat_minor": 4
}

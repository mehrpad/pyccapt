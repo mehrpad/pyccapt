{
 "cells": [
  {
   "cell_type": "code",
   "execution_count": 1,
   "metadata": {
    "pycharm": {
     "name": "#%%\n"
    }
   },
   "outputs": [],
   "source": [
    "%matplotlib notebook\n",
    "import os\n",
    "import os.path as path\n",
    "import numpy as np\n",
    "from scipy.optimize import curve_fit\n",
    "from scipy import interpolate\n",
    "from sklearn.preprocessing import MinMaxScaler\n",
    "from mpl_toolkits.mplot3d import Axes3D\n",
    "import matplotlib.pyplot as plt\n",
    "import math \n",
    "from ipywidgets import interact, interactive, fixed, interact_manual, widgets\n",
    "import h5py\n",
    "\n",
    "from pyccapt.calibration.calibration_tools import tools, data_tools, variables, tof_calibration, data_loadcrop\n",
    "from pyccapt.calibration.calibration_tools import widgets as wd\n"
   ]
  },
  {
   "cell_type": "code",
   "execution_count": 2,
   "metadata": {
    "pycharm": {
     "name": "#%%\n"
    }
   },
   "outputs": [],
   "source": [
    "number_sample = 300\n",
    "save_fig=False\n",
    "plot_fig=True "
   ]
  },
  {
   "cell_type": "code",
   "execution_count": 3,
   "metadata": {},
   "outputs": [],
   "source": [
    "# flightPathLength = 110 # mm \n",
    "# # The initial value for t_0\n",
    "# t0 = 51.74 # ns\n",
    "\n",
    "# dataset name\n",
    "# AL_data_b\n",
    "# OLO_AL_6_data\n",
    "# OLO_W_6_data\n",
    "# OLO_Ni_8_data\n",
    "# X6Cr17_2V30Min_5_data\n",
    "# data_1029_Jun-27-2022_15-53_Pd\n",
    "# data_115_Jul-27-2022_17-44_Powersweep3"
   ]
  },
  {
   "cell_type": "code",
   "execution_count": 4,
   "metadata": {},
   "outputs": [
    {
     "data": {
      "application/vnd.jupyter.widget-view+json": {
       "model_id": "adcfa0c9c0b848d6a0ca7f1083c0935d",
       "version_major": 2,
       "version_minor": 0
      },
      "text/plain": [
       "Dropdown(description='TDC model:', options=('surface_concept', 'roentdec'), value='surface_concept')"
      ]
     },
     "metadata": {},
     "output_type": "display_data"
    },
    {
     "data": {
      "application/vnd.jupyter.widget-view+json": {
       "model_id": "16d02ddd022040828f05f44cf31fb337",
       "version_major": 2,
       "version_minor": 0
      },
      "text/plain": [
       "Dropdown(description='Pulse mode:', options=('voltage', 'laser'), value='voltage')"
      ]
     },
     "metadata": {},
     "output_type": "display_data"
    },
    {
     "data": {
      "application/vnd.jupyter.widget-view+json": {
       "model_id": "6737121d15dd4c92b5768f89846f8c7d",
       "version_major": 2,
       "version_minor": 0
      },
      "text/plain": [
       "Text(value='OLO_AL_6_data', description='Dataset:', placeholder='Paste ticket description here!')"
      ]
     },
     "metadata": {},
     "output_type": "display_data"
    },
    {
     "data": {
      "application/vnd.jupyter.widget-view+json": {
       "model_id": "eefe629790df4036b7549c8c8cc1b95f",
       "version_major": 2,
       "version_minor": 0
      },
      "text/plain": [
       "Text(value='110', description='Flight path length:', placeholder='Flight path length')"
      ]
     },
     "metadata": {},
     "output_type": "display_data"
    },
    {
     "data": {
      "application/vnd.jupyter.widget-view+json": {
       "model_id": "a3872e8afd0342a5a8005bac46d6c969",
       "version_major": 2,
       "version_minor": 0
      },
      "text/plain": [
       "Text(value='51.74', description='t0:', placeholder='T_0 of the instrument')"
      ]
     },
     "metadata": {},
     "output_type": "display_data"
    }
   ],
   "source": [
    "tdc, pulse_mode, dataset, flightPathLength_d, t0_d = wd.dataset_tdc_selection()\n",
    "display(tdc, pulse_mode, dataset, flightPathLength_d, t0_d)"
   ]
  },
  {
   "cell_type": "markdown",
   "metadata": {
    "pycharm": {
     "name": "#%% md\n"
    }
   },
   "source": [
    "$$\\textbf{You can specify which dataset to use in below block}$$"
   ]
  },
  {
   "cell_type": "code",
   "execution_count": 5,
   "metadata": {
    "pycharm": {
     "name": "#%%\n"
    }
   },
   "outputs": [],
   "source": [
    "tdc_model = tdc.value\n",
    "pulse_mode_ini = pulse_mode.value\n",
    "\n",
    "dataset_name = dataset.value\n",
    "\n",
    "flightPathLength = float(flightPathLength_d.value) # mm \n",
    "# The initial value for t_0\n",
    "t0 = float(t0_d.value) # ns\n",
    "\n",
    "p = path.abspath(path.join(\"\", \"../../../..\"))\n",
    "\n",
    "variables.init()\n",
    "\n",
    "path_main = os.path.join(p, 'tests//data')\n",
    "filename_main = path_main + '//' + dataset_name + '.h5'\n",
    "\n",
    "# variables.path = os.path.join(p, 'tests//results//mc_vol_bowl_calibratin')\n",
    "variables.path = os.path.join(p, 'tests//results//tof_calibration')\n",
    "variables.result_path = os.path.join(p, 'tests/results/ion_type_selection/' + dataset_name)\n",
    "if not os.path.isdir(variables.result_path):\n",
    "        os.makedirs(variables.result_path, mode=0o777, exist_ok=True)\n",
    "        \n",
    "filename = variables.path + '//' + dataset_name + '//' + dataset_name + '.h5'\n",
    "\n",
    "\n",
    "\n",
    "head, tail = os.path.split(filename)\n",
    "figname = os.path.splitext(tail)[0]\n",
    "\n",
    "data = data_tools.read_hdf5_through_pandas(filename)\n"
   ]
  },
  {
   "cell_type": "code",
   "execution_count": null,
   "metadata": {
    "pycharm": {
     "name": "#%%\n"
    }
   },
   "outputs": [],
   "source": [
    "data"
   ]
  },
  {
   "cell_type": "code",
   "execution_count": null,
   "metadata": {
    "pycharm": {
     "name": "#%%\n"
    }
   },
   "outputs": [],
   "source": [
    "mc = data['mc (Da)'].to_numpy()"
   ]
  },
  {
   "cell_type": "code",
   "execution_count": null,
   "metadata": {
    "pycharm": {
     "name": "#%%\n"
    }
   },
   "outputs": [],
   "source": [
    "def mc_his(bin_size, prominence, distance, percent, plot, figname, mc, mc_ideal):\n",
    "\n",
    "    bin_size = float(bin_size)\n",
    "    prominence = int(prominence)\n",
    "    distance = int(distance)\n",
    "    percent = int(percent)\n",
    "    if mc_ideal == True:\n",
    "        mc_ideal = np.array(variables.listMaterial)\n",
    "        print('List of mc are:', mc_ideal)\n",
    "    else:\n",
    "        mc_ideal = np.zeros(0)\n",
    "    max_hist, left_right_peaks, peaks_sides, max_paek_edges, index_max = tools.massSpecPlot(mc[mc < 100], bin_size, mc_ideal, distance=distance, percent=percent, prominence=prominence, plot=plot, label='tof', fig_name=figname)\n",
    "    mrp = (max_hist / (left_right_peaks[1] - left_right_peaks[0]))\n",
    "    print('Mass resolving power for the highest peak (MRP --> m/m_2-m_1):', mrp)\n",
    "    for i in range(len(peaks_sides)):\n",
    "        print('Peaks ', i, 'is: {:.2f}'.format(peaks_sides[i,0]), 'peak window sides are: {:.2f} - {:.2f}'.format(peaks_sides[i,2], peaks_sides[i,3]))\n",
    "    return peaks_sides"
   ]
  },
  {
   "cell_type": "code",
   "execution_count": null,
   "metadata": {
    "pycharm": {
     "name": "#%%\n"
    },
    "scrolled": false
   },
   "outputs": [],
   "source": [
    "peaks_sides = interact_manual(mc_his, bin_size=widgets.Textarea(value=\"0.1\")\n",
    "               ,prominence=widgets.Textarea(value=\"60\"), distance=widgets.Textarea(value=\"100\")\n",
    "               ,percent=widgets.Textarea(value=\"20\"), plot=fixed(True), mc=fixed(mc),  figname=fixed(figname)\n",
    "                , mc_ideal=[('False',False),('True',True)]);\n",
    "\n"
   ]
  },
  {
   "cell_type": "code",
   "execution_count": 8,
   "metadata": {
    "pycharm": {
     "name": "#%%\n"
    }
   },
   "outputs": [
    {
     "data": {
      "application/vnd.jupyter.widget-view+json": {
       "model_id": "6d048a519e724a2eb25205b685f767b8",
       "version_major": 2,
       "version_minor": 0
      },
      "text/plain": [
       "Dropdown(description='Elements', options=(('H (1) (99.98)', 'H1'), ('H (2) (0.01)', 'H2'), ('He (3) (0.00)', '…"
      ]
     },
     "metadata": {},
     "output_type": "display_data"
    },
    {
     "data": {
      "application/vnd.jupyter.widget-view+json": {
       "model_id": "c8410b1ff29f475ca317ba71e5d3e149",
       "version_major": 2,
       "version_minor": 0
      },
      "text/plain": [
       "Dropdown(description='Charge', options=((1, 1), (2, 2), (3, 3), (4, 4)), value=1)"
      ]
     },
     "metadata": {},
     "output_type": "display_data"
    },
    {
     "data": {
      "application/vnd.jupyter.widget-view+json": {
       "model_id": "4b769a80d4e8487e995b2b1f99322d00",
       "version_major": 2,
       "version_minor": 0
      },
      "text/plain": [
       "Button(description='ADD', icon='check', style=ButtonStyle(), tooltip='ADD')"
      ]
     },
     "metadata": {},
     "output_type": "display_data"
    },
    {
     "data": {
      "application/vnd.jupyter.widget-view+json": {
       "model_id": "2e1caaff8f7d4e12beed374c92b5cfe5",
       "version_major": 2,
       "version_minor": 0
      },
      "text/plain": [
       "Button(description='DELETE', icon='check', style=ButtonStyle(), tooltip='DELETE')"
      ]
     },
     "metadata": {},
     "output_type": "display_data"
    },
    {
     "data": {
      "application/vnd.jupyter.widget-view+json": {
       "model_id": "b37dc2b270a34772978e1bb27a7ef759",
       "version_major": 2,
       "version_minor": 0
      },
      "text/plain": [
       "Button(description='RESET', icon='check', style=ButtonStyle(), tooltip='RESET')"
      ]
     },
     "metadata": {},
     "output_type": "display_data"
    },
    {
     "name": "stdout",
     "output_type": "stream",
     "text": [
      "Updated List :  ['H1(1+)', 'H1(2+)']                                         \r"
     ]
    }
   ],
   "source": [
    "isotopeTableFile = '../../../files/isotopeTable.h5'\n",
    "dataframe = data_tools.read_hdf5_through_pandas(isotopeTableFile)\n",
    "elementsList = dataframe['element']\n",
    "elementIsotopeList = dataframe['isotope']\n",
    "elementMassList =  dataframe['weight']\n",
    "abundanceList = dataframe['abundance']\n",
    "\n",
    "elements = list(zip(elementsList, elementIsotopeList, elementMassList, abundanceList))\n",
    "dropdownList = []\n",
    "for element in elements:\n",
    "    tupleElement = (\"{} ({}) ({:.2f})\".format(element[0],element[1],element[3]), \"{}{}\".format(element[0],element[1]))\n",
    "    dropdownList.append(tupleElement)\n",
    "\n",
    "chargeList = [(1,1,),(2,2,),(3,3,),(4,4,)]\n",
    "dropdown = wd.dropdownWidget(dropdownList, \"Elements\")\n",
    "dropdown.observe(wd.on_change_ions_selection)\n",
    "\n",
    "\n",
    "chargeDropdown = wd.dropdownWidget(chargeList, \"Charge\")\n",
    "chargeDropdown.observe(wd.on_change_charge_ions_selection)\n",
    "\n",
    "wd.compute_element_isotope_values_according_to_selected_charge(mode='ions_selection')\n",
    "\n",
    "buttonAdd = wd.buttonWidget(\"ADD\")\n",
    "buttonDelete = wd.buttonWidget(\"DELETE\")\n",
    "buttonReset = wd.buttonWidget(\"RESET\")\n",
    "\n",
    "display(dropdown)\n",
    "display(chargeDropdown)\n",
    "display(buttonAdd)\n",
    "display(buttonDelete)\n",
    "display(buttonReset)\n",
    "listMaterial = buttonAdd.on_click(wd.onClickAdd)\n",
    "buttonDelete.on_click(wd.onClickDelete)\n",
    "buttonReset.on_click(wd.onClickReset)"
   ]
  },
  {
   "cell_type": "code",
   "execution_count": null,
   "metadata": {
    "pycharm": {
     "name": "#%%\n"
    }
   },
   "outputs": [],
   "source": [
    "df = pd.DataFrame()\n",
    "\n",
    "dld_highVoltage_s = np.zeros(len(px), dtype='object' )\n",
    "dld_pulseVoltage_s = np.zeros(len(px), dtype='object')\n",
    "dld_x_s = np.zeros(len(px), dtype='object' )\n",
    "dld_y_s = np.zeros(len(px), dtype='object')\n",
    "dld_t_s = np.zeros(len(px), dtype='object' )\n",
    "px_s = np.zeros(len(px), dtype='object')\n",
    "py_s = np.zeros(len(px), dtype='object')\n",
    "pz_s = np.zeros(len(px), dtype='object')\n",
    "color = np.zeros(len(px), dtype='object' )\n",
    "element = np.zeros(len(px), dtype='object')\n",
    "\n",
    "\n",
    "for index, elemen in enumerate(listMaterial):\n",
    "    mask = np.logical_and((peaks_sides_p[index,2] < mc_oxcart), (mc_oxcart < peaks_sides_p[index,3])).squeeze()\n",
    "    print(mask[mask==True].shape)\n",
    "\n",
    "    if index==12 or index==13:\n",
    "        max_plot = 0.02\n",
    "    index_true = np.where(mask==True)\n",
    "    index_get_to_false = np.random.choice(index_true[0], size=int(index_true[0].shape[0] - index_true[0].shape[0]*max_plot), replace=False)\n",
    "    mask[index_get_to_false] = False\n",
    "    print('ploted ions', mask[mask==True].shape)\n",
    "    \n",
    "    dld_highVoltage_s[mask] = dld_highVoltage[mask]\n",
    "    dld_pulseVoltage_s[mask] = dld_pulseVoltage[mask]\n",
    "    dld_x_s[mask] = dld_x[mask]\n",
    "    dld_y_s[mask] = dld_y[mask]\n",
    "    dld_t_s[mask] = dld_t[mask]\n",
    "    px_s[mask] = px[mask]\n",
    "    py_s[mask] = py[mask]\n",
    "    pz_s[mask] = pz[mask]\n",
    "    color[mask] = colors[index]\n",
    "    element[mask] = elemen\n",
    "\n",
    "    \n",
    "\n",
    "df['highVoltage'] = dld_highVoltage_s\n",
    "df['pulseVoltage'] = dld_pulseVoltage_s\n",
    "df['dld_x'] = dld_x_s\n",
    "df['dld_y'] = dld_y_s\n",
    "df['dld_y'] = dld_t_s\n",
    "df['x'] = px_s\n",
    "df['y'] = py_s\n",
    "df['z'] = pz_s\n",
    "df['color'] = color\n",
    "df['element'] = element\n"
   ]
  },
  {
   "cell_type": "code",
   "execution_count": null,
   "metadata": {
    "pycharm": {
     "name": "#%%\n"
    }
   },
   "outputs": [],
   "source": [
    "# save the new data\n",
    "name_save_file = variables.result_path + '//' + dataset_name + '.h5'\n",
    "data_tools.store_df_to_hdf(name_save_file, data, 'df')"
   ]
  }
 ],
 "metadata": {
  "kernelspec": {
   "display_name": "Python 3 (ipykernel)",
   "language": "python",
   "name": "python3"
  },
  "language_info": {
   "codemirror_mode": {
    "name": "ipython",
    "version": 3
   },
   "file_extension": ".py",
   "mimetype": "text/x-python",
   "name": "python",
   "nbconvert_exporter": "python",
   "pygments_lexer": "ipython3",
   "version": "3.9.12"
  }
 },
 "nbformat": 4,
 "nbformat_minor": 1
}

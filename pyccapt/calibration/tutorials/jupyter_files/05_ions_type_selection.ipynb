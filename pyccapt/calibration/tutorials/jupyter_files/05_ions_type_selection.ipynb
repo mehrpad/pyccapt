{
 "cells": [
  {
   "cell_type": "code",
   "execution_count": 1,
   "metadata": {
    "pycharm": {
     "name": "#%%\n"
    }
   },
   "outputs": [],
   "source": [
    "%matplotlib notebook\n",
    "import os\n",
    "import os.path as path\n",
    "import numpy as np\n",
    "from scipy.optimize import curve_fit\n",
    "from scipy import interpolate\n",
    "from sklearn.preprocessing import MinMaxScaler\n",
    "from mpl_toolkits.mplot3d import Axes3D\n",
    "import matplotlib.pyplot as plt\n",
    "import math \n",
    "from ipywidgets import interact, interactive, fixed, interact_manual, widgets\n",
    "import h5py\n",
    "\n",
    "from pyccapt.calibration.calibration_tools import tools, data_tools, variables, tof_calibration, data_loadcrop\n",
    "from pyccapt.calibration.calibration_tools import widgets as wd\n"
   ]
  },
  {
   "cell_type": "code",
   "execution_count": 2,
   "metadata": {
    "pycharm": {
     "name": "#%%\n"
    }
   },
   "outputs": [],
   "source": [
    "number_sample = 300\n",
    "save_fig=False\n",
    "plot_fig=True "
   ]
  },
  {
   "cell_type": "code",
   "execution_count": 3,
   "metadata": {},
   "outputs": [],
   "source": [
    "# flightPathLength = 110 # mm \n",
    "# # The initial value for t_0\n",
    "# t0 = 51.74 # ns\n",
    "\n",
    "# dataset name\n",
    "# AL_data_b\n",
    "# OLO_AL_6_data\n",
    "# OLO_W_6_data\n",
    "# OLO_Ni_8_data\n",
    "# X6Cr17_2V30Min_5_data\n",
    "# data_1029_Jun-27-2022_15-53_Pd\n",
    "# data_115_Jul-27-2022_17-44_Powersweep3"
   ]
  },
  {
   "cell_type": "code",
   "execution_count": 4,
   "metadata": {},
   "outputs": [
    {
     "data": {
      "application/vnd.jupyter.widget-view+json": {
       "model_id": "68dfd4cc84cd47f788ccb87350fa2f14",
       "version_major": 2,
       "version_minor": 0
      },
      "text/plain": [
       "Dropdown(description='TDC model:', options=('surface_concept', 'roentdec'), value='surface_concept')"
      ]
     },
     "metadata": {},
     "output_type": "display_data"
    },
    {
     "data": {
      "application/vnd.jupyter.widget-view+json": {
       "model_id": "f43e653c87ed42eeac335a69e2af0e2f",
       "version_major": 2,
       "version_minor": 0
      },
      "text/plain": [
       "Dropdown(description='Pulse mode:', options=('voltage', 'laser'), value='voltage')"
      ]
     },
     "metadata": {},
     "output_type": "display_data"
    },
    {
     "data": {
      "application/vnd.jupyter.widget-view+json": {
       "model_id": "cffde43fd26648f492c52d656d892f6f",
       "version_major": 2,
       "version_minor": 0
      },
      "text/plain": [
       "Text(value='OLO_AL_6_data', description='Dataset:', placeholder='Paste ticket description here!')"
      ]
     },
     "metadata": {},
     "output_type": "display_data"
    },
    {
     "data": {
      "application/vnd.jupyter.widget-view+json": {
       "model_id": "0e1c87760262453e8b56ceb493d53edc",
       "version_major": 2,
       "version_minor": 0
      },
      "text/plain": [
       "Text(value='110', description='Flight path length:', placeholder='Flight path length')"
      ]
     },
     "metadata": {},
     "output_type": "display_data"
    },
    {
     "data": {
      "application/vnd.jupyter.widget-view+json": {
       "model_id": "f2b08873c7ab4e4f88020879b3156a3b",
       "version_major": 2,
       "version_minor": 0
      },
      "text/plain": [
       "Text(value='51.74', description='t0:', placeholder='T_0 of the instrument')"
      ]
     },
     "metadata": {},
     "output_type": "display_data"
    }
   ],
   "source": [
    "tdc, pulse_mode, dataset, flightPathLength_d, t0_d = wd.dataset_tdc_selection()\n",
    "display(tdc, pulse_mode, dataset, flightPathLength_d, t0_d)"
   ]
  },
  {
   "cell_type": "markdown",
   "metadata": {
    "pycharm": {
     "name": "#%% md\n"
    }
   },
   "source": [
    "$$\\textbf{You can specify which dataset to use in below block}$$"
   ]
  },
  {
   "cell_type": "code",
   "execution_count": 5,
   "metadata": {
    "pycharm": {
     "name": "#%%\n"
    }
   },
   "outputs": [],
   "source": [
    "tdc_model = tdc.value\n",
    "pulse_mode_ini = pulse_mode.value\n",
    "\n",
    "dataset_name = dataset.value\n",
    "\n",
    "flightPathLength = float(flightPathLength_d.value) # mm \n",
    "# The initial value for t_0\n",
    "t0 = float(t0_d.value) # ns\n",
    "\n",
    "p = path.abspath(path.join(\"\", \"../../../..\"))\n",
    "\n",
    "variables.init()\n",
    "\n",
    "path_main = os.path.join(p, 'tests//data')\n",
    "filename_main = path_main + '//' + dataset_name + '.h5'\n",
    "\n",
    "variables.path = os.path.join(p, 'tests//results//load_crop')\n",
    "variables.result_path = os.path.join(p, 'tests/results/ion_type_selection/' + dataset_name)\n",
    "if not os.path.isdir(variables.result_path):\n",
    "        os.makedirs(variables.result_path, mode=0o777, exist_ok=True)\n",
    "        \n",
    "filename = variables.path + '//' + dataset_name + '//' + dataset_name + '_cropped' + '.h5'\n",
    "\n",
    "\n",
    "\n",
    "head, tail = os.path.split(filename)\n",
    "figname = os.path.splitext(tail)[0]\n",
    "\n",
    "data = data_tools.read_hdf5_through_pandas(filename)\n"
   ]
  },
  {
   "cell_type": "code",
   "execution_count": 6,
   "metadata": {
    "pycharm": {
     "name": "#%%\n"
    }
   },
   "outputs": [
    {
     "data": {
      "text/html": [
       "<div>\n",
       "<style scoped>\n",
       "    .dataframe tbody tr th:only-of-type {\n",
       "        vertical-align: middle;\n",
       "    }\n",
       "\n",
       "    .dataframe tbody tr th {\n",
       "        vertical-align: top;\n",
       "    }\n",
       "\n",
       "    .dataframe thead th {\n",
       "        text-align: right;\n",
       "    }\n",
       "</style>\n",
       "<table border=\"1\" class=\"dataframe\">\n",
       "  <thead>\n",
       "    <tr style=\"text-align: right;\">\n",
       "      <th></th>\n",
       "      <th>high_voltage (V)</th>\n",
       "      <th>pulse (V)</th>\n",
       "      <th>start_counter</th>\n",
       "      <th>t (ns)</th>\n",
       "      <th>x (mm)</th>\n",
       "      <th>y (mm)</th>\n",
       "      <th>pulse_pi</th>\n",
       "      <th>ion_pp</th>\n",
       "    </tr>\n",
       "  </thead>\n",
       "  <tbody>\n",
       "    <tr>\n",
       "      <th>0</th>\n",
       "      <td>5239.389648</td>\n",
       "      <td>5239.389648</td>\n",
       "      <td>20476.0</td>\n",
       "      <td>626.265702</td>\n",
       "      <td>5.762449</td>\n",
       "      <td>4.329796</td>\n",
       "      <td>0.0</td>\n",
       "      <td>1.0</td>\n",
       "    </tr>\n",
       "    <tr>\n",
       "      <th>1</th>\n",
       "      <td>5239.389648</td>\n",
       "      <td>5239.389648</td>\n",
       "      <td>21274.0</td>\n",
       "      <td>648.087858</td>\n",
       "      <td>-11.206531</td>\n",
       "      <td>26.902041</td>\n",
       "      <td>798.0</td>\n",
       "      <td>1.0</td>\n",
       "    </tr>\n",
       "    <tr>\n",
       "      <th>2</th>\n",
       "      <td>5239.389648</td>\n",
       "      <td>5239.389648</td>\n",
       "      <td>22584.0</td>\n",
       "      <td>639.583938</td>\n",
       "      <td>24.259592</td>\n",
       "      <td>15.504490</td>\n",
       "      <td>1310.0</td>\n",
       "      <td>1.0</td>\n",
       "    </tr>\n",
       "    <tr>\n",
       "      <th>3</th>\n",
       "      <td>5239.389648</td>\n",
       "      <td>5239.389648</td>\n",
       "      <td>22746.0</td>\n",
       "      <td>627.959628</td>\n",
       "      <td>18.083265</td>\n",
       "      <td>-7.545306</td>\n",
       "      <td>162.0</td>\n",
       "      <td>1.0</td>\n",
       "    </tr>\n",
       "    <tr>\n",
       "      <th>4</th>\n",
       "      <td>5239.389648</td>\n",
       "      <td>5239.389648</td>\n",
       "      <td>23789.0</td>\n",
       "      <td>623.357910</td>\n",
       "      <td>-1.942041</td>\n",
       "      <td>-2.706122</td>\n",
       "      <td>1043.0</td>\n",
       "      <td>1.0</td>\n",
       "    </tr>\n",
       "    <tr>\n",
       "      <th>...</th>\n",
       "      <td>...</td>\n",
       "      <td>...</td>\n",
       "      <td>...</td>\n",
       "      <td>...</td>\n",
       "      <td>...</td>\n",
       "      <td>...</td>\n",
       "      <td>...</td>\n",
       "      <td>...</td>\n",
       "    </tr>\n",
       "    <tr>\n",
       "      <th>1927581</th>\n",
       "      <td>5710.397949</td>\n",
       "      <td>5710.397949</td>\n",
       "      <td>19724.0</td>\n",
       "      <td>609.401880</td>\n",
       "      <td>-15.886531</td>\n",
       "      <td>-9.742041</td>\n",
       "      <td>77.0</td>\n",
       "      <td>1.0</td>\n",
       "    </tr>\n",
       "    <tr>\n",
       "      <th>1927582</th>\n",
       "      <td>5710.397949</td>\n",
       "      <td>5710.397949</td>\n",
       "      <td>19742.0</td>\n",
       "      <td>601.796358</td>\n",
       "      <td>11.397551</td>\n",
       "      <td>-5.475918</td>\n",
       "      <td>18.0</td>\n",
       "      <td>1.0</td>\n",
       "    </tr>\n",
       "    <tr>\n",
       "      <th>1927583</th>\n",
       "      <td>5710.397949</td>\n",
       "      <td>5710.397949</td>\n",
       "      <td>19969.0</td>\n",
       "      <td>455.220324</td>\n",
       "      <td>31.008980</td>\n",
       "      <td>-1.719184</td>\n",
       "      <td>227.0</td>\n",
       "      <td>1.0</td>\n",
       "    </tr>\n",
       "    <tr>\n",
       "      <th>1927584</th>\n",
       "      <td>5710.397949</td>\n",
       "      <td>5710.397949</td>\n",
       "      <td>20649.0</td>\n",
       "      <td>611.857044</td>\n",
       "      <td>2.483265</td>\n",
       "      <td>-27.284082</td>\n",
       "      <td>680.0</td>\n",
       "      <td>1.0</td>\n",
       "    </tr>\n",
       "    <tr>\n",
       "      <th>1927585</th>\n",
       "      <td>5710.397949</td>\n",
       "      <td>5710.397949</td>\n",
       "      <td>20774.0</td>\n",
       "      <td>625.435884</td>\n",
       "      <td>34.924898</td>\n",
       "      <td>11.620408</td>\n",
       "      <td>125.0</td>\n",
       "      <td>1.0</td>\n",
       "    </tr>\n",
       "  </tbody>\n",
       "</table>\n",
       "<p>1927586 rows × 8 columns</p>\n",
       "</div>"
      ],
      "text/plain": [
       "         high_voltage (V)    pulse (V)  start_counter      t (ns)     x (mm)  \\\n",
       "0             5239.389648  5239.389648        20476.0  626.265702   5.762449   \n",
       "1             5239.389648  5239.389648        21274.0  648.087858 -11.206531   \n",
       "2             5239.389648  5239.389648        22584.0  639.583938  24.259592   \n",
       "3             5239.389648  5239.389648        22746.0  627.959628  18.083265   \n",
       "4             5239.389648  5239.389648        23789.0  623.357910  -1.942041   \n",
       "...                   ...          ...            ...         ...        ...   \n",
       "1927581       5710.397949  5710.397949        19724.0  609.401880 -15.886531   \n",
       "1927582       5710.397949  5710.397949        19742.0  601.796358  11.397551   \n",
       "1927583       5710.397949  5710.397949        19969.0  455.220324  31.008980   \n",
       "1927584       5710.397949  5710.397949        20649.0  611.857044   2.483265   \n",
       "1927585       5710.397949  5710.397949        20774.0  625.435884  34.924898   \n",
       "\n",
       "            y (mm)  pulse_pi  ion_pp  \n",
       "0         4.329796       0.0     1.0  \n",
       "1        26.902041     798.0     1.0  \n",
       "2        15.504490    1310.0     1.0  \n",
       "3        -7.545306     162.0     1.0  \n",
       "4        -2.706122    1043.0     1.0  \n",
       "...            ...       ...     ...  \n",
       "1927581  -9.742041      77.0     1.0  \n",
       "1927582  -5.475918      18.0     1.0  \n",
       "1927583  -1.719184     227.0     1.0  \n",
       "1927584 -27.284082     680.0     1.0  \n",
       "1927585  11.620408     125.0     1.0  \n",
       "\n",
       "[1927586 rows x 8 columns]"
      ]
     },
     "execution_count": 6,
     "metadata": {},
     "output_type": "execute_result"
    }
   ],
   "source": [
    "data"
   ]
  },
  {
   "cell_type": "code",
   "execution_count": 20,
   "metadata": {
    "pycharm": {
     "name": "#%%\n"
    }
   },
   "outputs": [],
   "source": [
    "# exctract needed data from Pandas data frame as an numpy array\n",
    "dld_highVoltage = data['high_voltage (V)'].to_numpy()\n",
    "if pulse_mode_ini == 'voltage':\n",
    "    dld_pulseVoltage = data['pulse (V)'].to_numpy()\n",
    "elif pulse_mode_ini == 'laser':\n",
    "    dld_pulseVoltage = data['pulse (deg)'].to_numpy()\n",
    "dld_t = data['t (ns)'].to_numpy()\n",
    "dld_x = data['x (mm)'].to_numpy()\n",
    "dld_y = data['y (mm)'].to_numpy()\n",
    "#mc = np.array(hdf[\"cropped_dld/mc\"])"
   ]
  },
  {
   "cell_type": "code",
   "execution_count": 21,
   "metadata": {
    "pycharm": {
     "name": "#%%\n"
    }
   },
   "outputs": [],
   "source": [
    "def mc_his(bin_size, prominence, distance, percent, plot, figname, mc, mc_ideal):\n",
    "\n",
    "    bin_size = float(bin_size)\n",
    "    prominence = int(prominence)\n",
    "    distance = int(distance)\n",
    "    percent = int(percent)\n",
    "    if mc_ideal == True:\n",
    "        mc_ideal = np.array(variables.listMaterial)\n",
    "        print('List of mc are:', mc_ideal)\n",
    "    else:\n",
    "        mc_ideal = np.zeros(0)\n",
    "    max_hist, left_right_peaks, peaks_sides, max_paek_edges, index_max = tools.massSpecPlot(mc[mc < 100], bin_size, mc_ideal, distance=distance, percent=percent, prominence=prominence, plot=plot, label='tof', fig_name=figname)\n",
    "    mrp = (max_hist / (left_right_peaks[1] - left_right_peaks[0]))\n",
    "    print('Mass resolving power for the highest peak (MRP --> m/m_2-m_1):', mrp)\n",
    "    for i in range(len(peaks_sides)):\n",
    "        print('Peaks ', i, 'is: {:.2f}'.format(peaks_sides[i,0]), 'peak window sides are: {:.2f} - {:.2f}'.format(peaks_sides[i,2], peaks_sides[i,3]))\n",
    "    return peaks_sides"
   ]
  },
  {
   "cell_type": "code",
   "execution_count": 22,
   "metadata": {
    "pycharm": {
     "name": "#%%\n"
    },
    "scrolled": false
   },
   "outputs": [
    {
     "data": {
      "application/vnd.jupyter.widget-view+json": {
       "model_id": "4e68d310e74d4aadae64f6e4dd8a5334",
       "version_major": 2,
       "version_minor": 0
      },
      "text/plain": [
       "interactive(children=(Textarea(value='0.1', description='bin_size'), Textarea(value='60', description='promine…"
      ]
     },
     "metadata": {},
     "output_type": "display_data"
    }
   ],
   "source": [
    "peaks_sides = interact_manual(mc_his, bin_size=widgets.Textarea(value=\"0.1\")\n",
    "               ,prominence=widgets.Textarea(value=\"60\"), distance=widgets.Textarea(value=\"100\")\n",
    "               ,percent=widgets.Textarea(value=\"20\"), plot=fixed(True), mc=fixed(mc),  figname=fixed(figname)\n",
    "                , mc_ideal=[('False',False),('True',True)]);\n",
    "\n"
   ]
  },
  {
   "cell_type": "code",
   "execution_count": null,
   "metadata": {
    "pycharm": {
     "name": "#%%\n"
    }
   },
   "outputs": [],
   "source": []
  },
  {
   "cell_type": "code",
   "execution_count": 7,
   "metadata": {
    "pycharm": {
     "name": "#%%\n"
    }
   },
   "outputs": [
    {
     "data": {
      "application/vnd.jupyter.widget-view+json": {
       "model_id": "5f00ad69364c4887addf43e87b6de004",
       "version_major": 2,
       "version_minor": 0
      },
      "text/plain": [
       "Dropdown(description='Elements', options=(('H (1) (99.98)', 1.01), ('H (2) (0.01)', 2.01), ('He (3) (0.00)', 3…"
      ]
     },
     "metadata": {},
     "output_type": "display_data"
    },
    {
     "data": {
      "application/vnd.jupyter.widget-view+json": {
       "model_id": "00af6f4e82f149de82f63f5971c17452",
       "version_major": 2,
       "version_minor": 0
      },
      "text/plain": [
       "Dropdown(description='Charge', options=((1, 1), (2, 2), (3, 3), (4, 4)), value=1)"
      ]
     },
     "metadata": {},
     "output_type": "display_data"
    },
    {
     "data": {
      "application/vnd.jupyter.widget-view+json": {
       "model_id": "1f425cc115a6443482c2729a03c3c667",
       "version_major": 2,
       "version_minor": 0
      },
      "text/plain": [
       "Button(description='ADD', icon='check', style=ButtonStyle(), tooltip='ADD')"
      ]
     },
     "metadata": {},
     "output_type": "display_data"
    },
    {
     "data": {
      "application/vnd.jupyter.widget-view+json": {
       "model_id": "47e69f5c2857467b86dcb67d57e87138",
       "version_major": 2,
       "version_minor": 0
      },
      "text/plain": [
       "Button(description='DELETE', icon='check', style=ButtonStyle(), tooltip='DELETE')"
      ]
     },
     "metadata": {},
     "output_type": "display_data"
    },
    {
     "data": {
      "application/vnd.jupyter.widget-view+json": {
       "model_id": "e4b0a4ce9c54431c84a7fc8a34bcf21a",
       "version_major": 2,
       "version_minor": 0
      },
      "text/plain": [
       "Button(description='RESET', icon='check', style=ButtonStyle(), tooltip='RESET')"
      ]
     },
     "metadata": {},
     "output_type": "display_data"
    }
   ],
   "source": [
    "isotopeTableFile = '../../../files/isotopeTable.h5'\n",
    "dataframe = data_tools.read_hdf5_through_pandas(isotopeTableFile)\n",
    "elementsList = dataframe['element']\n",
    "elementIsotopeList = dataframe['isotope']\n",
    "elementMassList =  dataframe['weight']\n",
    "abundanceList = dataframe['abundance']\n",
    "\n",
    "elements = list(zip(elementsList,elementIsotopeList,elementMassList,abundanceList))\n",
    "dropdownList = []\n",
    "for element in elements:\n",
    "    tupleElement = (\"{} ({}) ({:.2f})\".format(element[0],element[1],element[3]),element[2],)\n",
    "    dropdownList.append(tupleElement)\n",
    "\n",
    "chargeList = [(1,1,),(2,2,),(3,3,),(4,4,)]\n",
    "dropdown = wd.dropdownWidget(dropdownList,\"Elements\")\n",
    "dropdown.observe(wd.on_change)\n",
    "\n",
    "\n",
    "chargeDropdown = wd.dropdownWidget(chargeList,\"Charge\")\n",
    "chargeDropdown.observe(wd.on_change_charge)\n",
    "\n",
    "wd.compute_element_isotope_values_according_to_selected_charge()\n",
    "\n",
    "buttonAdd = wd.buttonWidget(\"ADD\")\n",
    "buttonDelete = wd.buttonWidget(\"DELETE\")\n",
    "buttonReset = wd.buttonWidget(\"RESET\")\n",
    "\n",
    "display(dropdown)\n",
    "display(chargeDropdown)\n",
    "display(buttonAdd)\n",
    "display(buttonDelete)\n",
    "display(buttonReset)\n",
    "listMaterial = buttonAdd.on_click(wd.onClickAdd)\n",
    "buttonDelete.on_click(wd.onClickDelete)\n",
    "buttonReset.on_click(wd.onClickReset)"
   ]
  },
  {
   "cell_type": "code",
   "execution_count": null,
   "metadata": {
    "pycharm": {
     "name": "#%%\n"
    }
   },
   "outputs": [],
   "source": [
    "# add label to to hdf file\n",
    "data_loadcrop.add_tof_mc_data_to_hdf5(filename_main, dld_t_calib_final, mc_p_1)\n",
    "data_loadcrop.add_tof_mc_data_to_hdf5(filename, dld_t_calib_final, mc_p_1)\n"
   ]
  },
  {
   "cell_type": "code",
   "execution_count": null,
   "metadata": {
    "pycharm": {
     "name": "#%%\n"
    }
   },
   "outputs": [],
   "source": []
  }
 ],
 "metadata": {
  "kernelspec": {
   "display_name": "Python 3 (ipykernel)",
   "language": "python",
   "name": "python3"
  },
  "language_info": {
   "codemirror_mode": {
    "name": "ipython",
    "version": 3
   },
   "file_extension": ".py",
   "mimetype": "text/x-python",
   "name": "python",
   "nbconvert_exporter": "python",
   "pygments_lexer": "ipython3",
   "version": "3.9.12"
  }
 },
 "nbformat": 4,
 "nbformat_minor": 1
}

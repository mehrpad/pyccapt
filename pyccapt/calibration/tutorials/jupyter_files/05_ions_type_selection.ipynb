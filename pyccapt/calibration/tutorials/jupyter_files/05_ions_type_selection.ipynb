{
 "cells": [
  {
   "cell_type": "code",
   "execution_count": 1,
   "metadata": {
    "pycharm": {
     "name": "#%%\n"
    }
   },
   "outputs": [],
   "source": [
    "%matplotlib notebook\n",
    "import os\n",
    "import os.path as path\n",
    "import numpy as np\n",
    "from scipy.optimize import curve_fit\n",
    "from faker import Factory\n",
    "from scipy import interpolate\n",
    "from sklearn.preprocessing import MinMaxScaler\n",
    "from mpl_toolkits.mplot3d import Axes3D\n",
    "import matplotlib.pyplot as plt\n",
    "import math \n",
    "from ipywidgets import interact, interactive, fixed, interact_manual, widgets\n",
    "import h5py\n",
    "\n",
    "from pyccapt.calibration.calibration_tools import tools, data_tools, variables, tof_calibration, data_loadcrop\n",
    "from pyccapt.calibration.calibration_tools import widgets as wd\n"
   ]
  },
  {
   "cell_type": "code",
   "execution_count": 2,
   "metadata": {
    "pycharm": {
     "name": "#%%\n"
    }
   },
   "outputs": [],
   "source": [
    "number_sample = 300\n",
    "save_fig=False\n",
    "plot_fig=True "
   ]
  },
  {
   "cell_type": "code",
   "execution_count": 3,
   "metadata": {},
   "outputs": [],
   "source": [
    "# flightPathLength = 110 # mm \n",
    "# # The initial value for t_0\n",
    "# t0 = 51.74 # ns\n",
    "\n",
    "# dataset name\n",
    "# AL_data_b\n",
    "# OLO_AL_6_data\n",
    "# OLO_W_6_data\n",
    "# OLO_Ni_8_data\n",
    "# X6Cr17_2V30Min_5_data\n",
    "# data_1029_Jun-27-2022_15-53_Pd\n",
    "# data_115_Jul-27-2022_17-44_Powersweep3"
   ]
  },
  {
   "cell_type": "code",
   "execution_count": 4,
   "metadata": {},
   "outputs": [
    {
     "data": {
      "application/vnd.jupyter.widget-view+json": {
       "model_id": "0231dec6d801419c8c57efed0dcf8765",
       "version_major": 2,
       "version_minor": 0
      },
      "text/plain": [
       "Dropdown(description='TDC model:', options=('surface_concept', 'roentdec'), value='surface_concept')"
      ]
     },
     "metadata": {},
     "output_type": "display_data"
    },
    {
     "data": {
      "application/vnd.jupyter.widget-view+json": {
       "model_id": "f62a9c4e2650415391c2fdb154a99444",
       "version_major": 2,
       "version_minor": 0
      },
      "text/plain": [
       "Dropdown(description='Pulse mode:', options=('voltage', 'laser'), value='voltage')"
      ]
     },
     "metadata": {},
     "output_type": "display_data"
    },
    {
     "data": {
      "application/vnd.jupyter.widget-view+json": {
       "model_id": "35f91d1a8a4742ae8d5194c136c2f5b8",
       "version_major": 2,
       "version_minor": 0
      },
      "text/plain": [
       "Text(value='OLO_AL_6_data', description='Dataset:', placeholder='Paste ticket description here!')"
      ]
     },
     "metadata": {},
     "output_type": "display_data"
    },
    {
     "data": {
      "application/vnd.jupyter.widget-view+json": {
       "model_id": "c268dc0ef72c46399879f0b163579030",
       "version_major": 2,
       "version_minor": 0
      },
      "text/plain": [
       "Text(value='110', description='Flight path length:', placeholder='Flight path length')"
      ]
     },
     "metadata": {},
     "output_type": "display_data"
    },
    {
     "data": {
      "application/vnd.jupyter.widget-view+json": {
       "model_id": "9dff610089e5455bad7a19663d409e85",
       "version_major": 2,
       "version_minor": 0
      },
      "text/plain": [
       "Text(value='51.74', description='t0:', placeholder='T_0 of the instrument')"
      ]
     },
     "metadata": {},
     "output_type": "display_data"
    }
   ],
   "source": [
    "tdc, pulse_mode, dataset, flightPathLength_d, t0_d = wd.dataset_tdc_selection()\n",
    "display(tdc, pulse_mode, dataset, flightPathLength_d, t0_d)"
   ]
  },
  {
   "cell_type": "markdown",
   "metadata": {
    "pycharm": {
     "name": "#%% md\n"
    }
   },
   "source": [
    "$$\\textbf{You can specify which dataset to use in below block}$$"
   ]
  },
  {
   "cell_type": "code",
   "execution_count": 5,
   "metadata": {
    "pycharm": {
     "name": "#%%\n"
    }
   },
   "outputs": [],
   "source": [
    "tdc_model = tdc.value\n",
    "pulse_mode_ini = pulse_mode.value\n",
    "\n",
    "dataset_name = dataset.value\n",
    "\n",
    "flightPathLength = float(flightPathLength_d.value) # mm \n",
    "# The initial value for t_0\n",
    "t0 = float(t0_d.value) # ns\n",
    "\n",
    "p = path.abspath(path.join(\"\", \"../../../..\"))\n",
    "\n",
    "variables.init()\n",
    "\n",
    "path_main = os.path.join(p, 'tests//data')\n",
    "filename_main = path_main + '//' + dataset_name + '.h5'\n",
    "\n",
    "# variables.path = os.path.join(p, 'tests//results//mc_vol_bowl_calibratin')\n",
    "variables.path = os.path.join(p, 'tests//results//tof_calibration')\n",
    "variables.result_path = os.path.join(p, 'tests/results/ion_type_selection/' + dataset_name)\n",
    "if not os.path.isdir(variables.result_path):\n",
    "        os.makedirs(variables.result_path, mode=0o777, exist_ok=True)\n",
    "        \n",
    "filename = variables.path + '//' + dataset_name + '//' + dataset_name + '.h5'\n",
    "\n",
    "\n",
    "\n",
    "head, tail = os.path.split(filename)\n",
    "figname = os.path.splitext(tail)[0]\n",
    "\n",
    "data = data_tools.read_hdf5_through_pandas(filename)\n"
   ]
  },
  {
   "cell_type": "code",
   "execution_count": 6,
   "metadata": {
    "pycharm": {
     "name": "#%%\n"
    }
   },
   "outputs": [
    {
     "data": {
      "text/html": [
       "<div>\n",
       "<style scoped>\n",
       "    .dataframe tbody tr th:only-of-type {\n",
       "        vertical-align: middle;\n",
       "    }\n",
       "\n",
       "    .dataframe tbody tr th {\n",
       "        vertical-align: top;\n",
       "    }\n",
       "\n",
       "    .dataframe thead th {\n",
       "        text-align: right;\n",
       "    }\n",
       "</style>\n",
       "<table border=\"1\" class=\"dataframe\">\n",
       "  <thead>\n",
       "    <tr style=\"text-align: right;\">\n",
       "      <th></th>\n",
       "      <th>high_voltage (V)</th>\n",
       "      <th>pulse (V)</th>\n",
       "      <th>start_counter</th>\n",
       "      <th>t (ns)</th>\n",
       "      <th>x (mm)</th>\n",
       "      <th>y (mm)</th>\n",
       "      <th>pulse_pi</th>\n",
       "      <th>ion_pp</th>\n",
       "      <th>mc (Da)</th>\n",
       "    </tr>\n",
       "  </thead>\n",
       "  <tbody>\n",
       "    <tr>\n",
       "      <th>0</th>\n",
       "      <td>5216.226562</td>\n",
       "      <td>5216.226562</td>\n",
       "      <td>1572.0</td>\n",
       "      <td>633.384306</td>\n",
       "      <td>-0.031837</td>\n",
       "      <td>0.859592</td>\n",
       "      <td>0.0</td>\n",
       "      <td>1.0</td>\n",
       "      <td>27.713360</td>\n",
       "    </tr>\n",
       "    <tr>\n",
       "      <th>1</th>\n",
       "      <td>5216.226562</td>\n",
       "      <td>5216.226562</td>\n",
       "      <td>1791.0</td>\n",
       "      <td>628.981470</td>\n",
       "      <td>-0.350204</td>\n",
       "      <td>-18.720000</td>\n",
       "      <td>219.0</td>\n",
       "      <td>1.0</td>\n",
       "      <td>27.003132</td>\n",
       "    </tr>\n",
       "    <tr>\n",
       "      <th>2</th>\n",
       "      <td>5216.226562</td>\n",
       "      <td>5216.226562</td>\n",
       "      <td>1992.0</td>\n",
       "      <td>635.510286</td>\n",
       "      <td>-11.906939</td>\n",
       "      <td>2.610612</td>\n",
       "      <td>201.0</td>\n",
       "      <td>1.0</td>\n",
       "      <td>27.493455</td>\n",
       "    </tr>\n",
       "    <tr>\n",
       "      <th>3</th>\n",
       "      <td>5216.226562</td>\n",
       "      <td>5216.226562</td>\n",
       "      <td>2429.0</td>\n",
       "      <td>624.222018</td>\n",
       "      <td>7.195102</td>\n",
       "      <td>-0.827755</td>\n",
       "      <td>437.0</td>\n",
       "      <td>1.0</td>\n",
       "      <td>26.965459</td>\n",
       "    </tr>\n",
       "    <tr>\n",
       "      <th>4</th>\n",
       "      <td>5216.226562</td>\n",
       "      <td>5216.226562</td>\n",
       "      <td>3220.0</td>\n",
       "      <td>629.276364</td>\n",
       "      <td>14.644898</td>\n",
       "      <td>7.449796</td>\n",
       "      <td>791.0</td>\n",
       "      <td>1.0</td>\n",
       "      <td>27.027015</td>\n",
       "    </tr>\n",
       "    <tr>\n",
       "      <th>...</th>\n",
       "      <td>...</td>\n",
       "      <td>...</td>\n",
       "      <td>...</td>\n",
       "      <td>...</td>\n",
       "      <td>...</td>\n",
       "      <td>...</td>\n",
       "      <td>...</td>\n",
       "      <td>...</td>\n",
       "      <td>...</td>\n",
       "    </tr>\n",
       "    <tr>\n",
       "      <th>1858635</th>\n",
       "      <td>5711.025879</td>\n",
       "      <td>5711.025879</td>\n",
       "      <td>3626.0</td>\n",
       "      <td>601.419168</td>\n",
       "      <td>-4.998367</td>\n",
       "      <td>-1.846531</td>\n",
       "      <td>152.0</td>\n",
       "      <td>1.0</td>\n",
       "      <td>26.985305</td>\n",
       "    </tr>\n",
       "    <tr>\n",
       "      <th>1858636</th>\n",
       "      <td>5711.025879</td>\n",
       "      <td>5711.025879</td>\n",
       "      <td>3641.0</td>\n",
       "      <td>602.674182</td>\n",
       "      <td>-0.827755</td>\n",
       "      <td>-14.867755</td>\n",
       "      <td>15.0</td>\n",
       "      <td>1.0</td>\n",
       "      <td>26.971058</td>\n",
       "    </tr>\n",
       "    <tr>\n",
       "      <th>1858637</th>\n",
       "      <td>5711.025879</td>\n",
       "      <td>5711.025879</td>\n",
       "      <td>4538.0</td>\n",
       "      <td>600.644214</td>\n",
       "      <td>-6.271837</td>\n",
       "      <td>3.565714</td>\n",
       "      <td>897.0</td>\n",
       "      <td>1.0</td>\n",
       "      <td>26.801420</td>\n",
       "    </tr>\n",
       "    <tr>\n",
       "      <th>1858638</th>\n",
       "      <td>5711.025879</td>\n",
       "      <td>5711.025879</td>\n",
       "      <td>5881.0</td>\n",
       "      <td>459.993492</td>\n",
       "      <td>34.097143</td>\n",
       "      <td>5.380408</td>\n",
       "      <td>1343.0</td>\n",
       "      <td>1.0</td>\n",
       "      <td>13.680422</td>\n",
       "    </tr>\n",
       "    <tr>\n",
       "      <th>1858639</th>\n",
       "      <td>5711.025879</td>\n",
       "      <td>5711.025879</td>\n",
       "      <td>6064.0</td>\n",
       "      <td>604.690434</td>\n",
       "      <td>-11.397551</td>\n",
       "      <td>-1.782857</td>\n",
       "      <td>183.0</td>\n",
       "      <td>1.0</td>\n",
       "      <td>27.027190</td>\n",
       "    </tr>\n",
       "  </tbody>\n",
       "</table>\n",
       "<p>1858640 rows × 9 columns</p>\n",
       "</div>"
      ],
      "text/plain": [
       "         high_voltage (V)    pulse (V)  start_counter      t (ns)     x (mm)  \\\n",
       "0             5216.226562  5216.226562         1572.0  633.384306  -0.031837   \n",
       "1             5216.226562  5216.226562         1791.0  628.981470  -0.350204   \n",
       "2             5216.226562  5216.226562         1992.0  635.510286 -11.906939   \n",
       "3             5216.226562  5216.226562         2429.0  624.222018   7.195102   \n",
       "4             5216.226562  5216.226562         3220.0  629.276364  14.644898   \n",
       "...                   ...          ...            ...         ...        ...   \n",
       "1858635       5711.025879  5711.025879         3626.0  601.419168  -4.998367   \n",
       "1858636       5711.025879  5711.025879         3641.0  602.674182  -0.827755   \n",
       "1858637       5711.025879  5711.025879         4538.0  600.644214  -6.271837   \n",
       "1858638       5711.025879  5711.025879         5881.0  459.993492  34.097143   \n",
       "1858639       5711.025879  5711.025879         6064.0  604.690434 -11.397551   \n",
       "\n",
       "            y (mm)  pulse_pi  ion_pp    mc (Da)  \n",
       "0         0.859592       0.0     1.0  27.713360  \n",
       "1       -18.720000     219.0     1.0  27.003132  \n",
       "2         2.610612     201.0     1.0  27.493455  \n",
       "3        -0.827755     437.0     1.0  26.965459  \n",
       "4         7.449796     791.0     1.0  27.027015  \n",
       "...            ...       ...     ...        ...  \n",
       "1858635  -1.846531     152.0     1.0  26.985305  \n",
       "1858636 -14.867755      15.0     1.0  26.971058  \n",
       "1858637   3.565714     897.0     1.0  26.801420  \n",
       "1858638   5.380408    1343.0     1.0  13.680422  \n",
       "1858639  -1.782857     183.0     1.0  27.027190  \n",
       "\n",
       "[1858640 rows x 9 columns]"
      ]
     },
     "execution_count": 6,
     "metadata": {},
     "output_type": "execute_result"
    }
   ],
   "source": [
    "data"
   ]
  },
  {
   "cell_type": "code",
   "execution_count": 7,
   "metadata": {
    "pycharm": {
     "name": "#%%\n"
    }
   },
   "outputs": [],
   "source": [
    "mc = data['mc (Da)'].to_numpy()"
   ]
  },
  {
   "cell_type": "code",
   "execution_count": 8,
   "metadata": {
    "pycharm": {
     "name": "#%%\n"
    }
   },
   "outputs": [],
   "source": [
    "peaks_sides_p = np.zeros(0)\n",
    "def mc_his(bin_size, prominence, distance, percent, plot, figname, mc, mc_ideal):\n",
    "\n",
    "    bin_size = float(bin_size)\n",
    "    prominence = int(prominence)\n",
    "    distance = int(distance)\n",
    "    percent = int(percent)\n",
    "    if mc_ideal == True:\n",
    "        mc_ideal = np.array(variables.listMaterial)\n",
    "        print('List of mc are:', mc_ideal)\n",
    "    else:\n",
    "        mc_ideal = np.zeros(0)\n",
    "    max_hist, left_right_peaks, peaks_sides, max_paek_edges, index_max = tools.massSpecPlot(mc[mc < 100], bin_size, mc_ideal, distance=distance, percent=percent, prominence=prominence, plot=plot, label='tof', fig_name=figname)\n",
    "    mrp = (max_hist / (left_right_peaks[1] - left_right_peaks[0]))\n",
    "    print('Mass resolving power for the highest peak (MRP --> m/m_2-m_1):', mrp)\n",
    "    for i in range(len(peaks_sides)):\n",
    "        print('Peaks ', i, 'is: {:.2f}'.format(peaks_sides[i,0]), 'peak window sides are: {:.2f} - {:.2f}'.format(peaks_sides[i,2], peaks_sides[i,3]))\n",
    "    global peaks_sides_p\n",
    "    peaks_sides_p = peaks_sides"
   ]
  },
  {
   "cell_type": "code",
   "execution_count": 9,
   "metadata": {
    "pycharm": {
     "name": "#%%\n"
    },
    "scrolled": false
   },
   "outputs": [
    {
     "data": {
      "application/vnd.jupyter.widget-view+json": {
       "model_id": "57962eeb7f8e4c358cbafbac57eca8d4",
       "version_major": 2,
       "version_minor": 0
      },
      "text/plain": [
       "interactive(children=(Textarea(value='0.1', description='bin_size'), Textarea(value='60', description='promine…"
      ]
     },
     "metadata": {},
     "output_type": "display_data"
    }
   ],
   "source": [
    "peaks_sides = interact_manual(mc_his, bin_size=widgets.Textarea(value=\"0.1\")\n",
    "               ,prominence=widgets.Textarea(value=\"60\"), distance=widgets.Textarea(value=\"100\")\n",
    "               ,percent=widgets.Textarea(value=\"20\"), plot=fixed(True), mc=fixed(mc),  figname=fixed(figname)\n",
    "                , mc_ideal=[('False',False),('True',True)]);\n",
    "\n"
   ]
  },
  {
   "cell_type": "code",
   "execution_count": 10,
   "metadata": {
    "pycharm": {
     "name": "#%%\n"
    }
   },
   "outputs": [
    {
     "data": {
      "application/vnd.jupyter.widget-view+json": {
       "model_id": "e7e4d02865ad453caa40b260709f4712",
       "version_major": 2,
       "version_minor": 0
      },
      "text/plain": [
       "Dropdown(description='Elements', options=(('H (1) (99.98)', 'H1'), ('H (2) (0.01)', 'H2'), ('He (3) (0.00)', '…"
      ]
     },
     "metadata": {},
     "output_type": "display_data"
    },
    {
     "data": {
      "application/vnd.jupyter.widget-view+json": {
       "model_id": "cc6ba2a42bbc4370940c9c562f7b382b",
       "version_major": 2,
       "version_minor": 0
      },
      "text/plain": [
       "Dropdown(description='Charge', options=((1, 1), (2, 2), (3, 3), (4, 4)), value=1)"
      ]
     },
     "metadata": {},
     "output_type": "display_data"
    },
    {
     "data": {
      "application/vnd.jupyter.widget-view+json": {
       "model_id": "94650e93ad3f401e9eb70edf0efe697d",
       "version_major": 2,
       "version_minor": 0
      },
      "text/plain": [
       "Button(description='ADD', icon='check', style=ButtonStyle(), tooltip='ADD')"
      ]
     },
     "metadata": {},
     "output_type": "display_data"
    },
    {
     "data": {
      "application/vnd.jupyter.widget-view+json": {
       "model_id": "429ed5cae62944c6be357bcb9b19c5da",
       "version_major": 2,
       "version_minor": 0
      },
      "text/plain": [
       "Button(description='DELETE', icon='check', style=ButtonStyle(), tooltip='DELETE')"
      ]
     },
     "metadata": {},
     "output_type": "display_data"
    },
    {
     "data": {
      "application/vnd.jupyter.widget-view+json": {
       "model_id": "c59353817da14a49978258c39020df38",
       "version_major": 2,
       "version_minor": 0
      },
      "text/plain": [
       "Button(description='RESET', icon='check', style=ButtonStyle(), tooltip='RESET')"
      ]
     },
     "metadata": {},
     "output_type": "display_data"
    },
    {
     "name": "stdout",
     "output_type": "stream",
     "text": [
      "Updated List :  ['H1(1+)', 'Al27(2+)', 'Al27(1+)']                                         \r"
     ]
    }
   ],
   "source": [
    "isotopeTableFile = '../../../files/isotopeTable.h5'\n",
    "dataframe = data_tools.read_hdf5_through_pandas(isotopeTableFile)\n",
    "elementsList = dataframe['element']\n",
    "elementIsotopeList = dataframe['isotope']\n",
    "elementMassList =  dataframe['weight']\n",
    "abundanceList = dataframe['abundance']\n",
    "\n",
    "elements = list(zip(elementsList, elementIsotopeList, elementMassList, abundanceList))\n",
    "dropdownList = []\n",
    "for element in elements:\n",
    "    tupleElement = (\"{} ({}) ({:.2f})\".format(element[0],element[1],element[3]), \"{}{}\".format(element[0],element[1]))\n",
    "    dropdownList.append(tupleElement)\n",
    "\n",
    "chargeList = [(1,1,),(2,2,),(3,3,),(4,4,)]\n",
    "dropdown = wd.dropdownWidget(dropdownList, \"Elements\")\n",
    "dropdown.observe(wd.on_change_ions_selection)\n",
    "\n",
    "\n",
    "chargeDropdown = wd.dropdownWidget(chargeList, \"Charge\")\n",
    "chargeDropdown.observe(wd.on_change_charge_ions_selection)\n",
    "\n",
    "wd.compute_element_isotope_values_according_to_selected_charge(mode='ions_selection')\n",
    "\n",
    "buttonAdd = wd.buttonWidget(\"ADD\")\n",
    "buttonDelete = wd.buttonWidget(\"DELETE\")\n",
    "buttonReset = wd.buttonWidget(\"RESET\")\n",
    "\n",
    "display(dropdown)\n",
    "display(chargeDropdown)\n",
    "display(buttonAdd)\n",
    "display(buttonDelete)\n",
    "display(buttonReset)\n",
    "listMaterial = buttonAdd.on_click(wd.onClickAdd)\n",
    "buttonDelete.on_click(wd.onClickDelete)\n",
    "buttonReset.on_click(wd.onClickReset)"
   ]
  },
  {
   "cell_type": "code",
   "execution_count": 11,
   "metadata": {
    "pycharm": {
     "name": "#%%\n"
    }
   },
   "outputs": [
    {
     "name": "stdout",
     "output_type": "stream",
     "text": [
      "(1047,)\n",
      "ploted ions (1047,)\n",
      "(128473,)\n",
      "ploted ions (128473,)\n",
      "(1441888,)\n",
      "ploted ions (1441888,)\n"
     ]
    }
   ],
   "source": [
    "fake = Factory.create()\n",
    "color = np.zeros(len(mc), dtype='object' )\n",
    "element = np.zeros(len(mc), dtype='object')\n",
    "\n",
    "for index, elemen in enumerate(variables.listMaterial):\n",
    "    mask = np.logical_and((peaks_sides_p[index,2] < mc), (mc < peaks_sides_p[index,3])).squeeze()\n",
    "    print(mask[mask==True].shape)\n",
    "\n",
    "    index_true = np.where(mask==True)\n",
    "    index_get_to_false = np.random.choice(index_true[0], size=int(index_true[0].shape[0] - index_true[0].shape[0]), replace=False)\n",
    "    mask[index_get_to_false] = False\n",
    "    print('ploted ions', mask[mask==True].shape)\n",
    "    \n",
    "    color[mask] = fake.hex_color()\n",
    "    element[mask] = elemen\n",
    "\n"
   ]
  },
  {
   "cell_type": "code",
   "execution_count": 12,
   "metadata": {},
   "outputs": [],
   "source": [
    "data['element'] = element\n",
    "data['color'] = color"
   ]
  },
  {
   "cell_type": "code",
   "execution_count": 13,
   "metadata": {},
   "outputs": [
    {
     "data": {
      "text/html": [
       "<div>\n",
       "<style scoped>\n",
       "    .dataframe tbody tr th:only-of-type {\n",
       "        vertical-align: middle;\n",
       "    }\n",
       "\n",
       "    .dataframe tbody tr th {\n",
       "        vertical-align: top;\n",
       "    }\n",
       "\n",
       "    .dataframe thead th {\n",
       "        text-align: right;\n",
       "    }\n",
       "</style>\n",
       "<table border=\"1\" class=\"dataframe\">\n",
       "  <thead>\n",
       "    <tr style=\"text-align: right;\">\n",
       "      <th></th>\n",
       "      <th>high_voltage (V)</th>\n",
       "      <th>pulse (V)</th>\n",
       "      <th>start_counter</th>\n",
       "      <th>t (ns)</th>\n",
       "      <th>x (mm)</th>\n",
       "      <th>y (mm)</th>\n",
       "      <th>pulse_pi</th>\n",
       "      <th>ion_pp</th>\n",
       "      <th>mc (Da)</th>\n",
       "      <th>element</th>\n",
       "      <th>color</th>\n",
       "    </tr>\n",
       "  </thead>\n",
       "  <tbody>\n",
       "    <tr>\n",
       "      <th>0</th>\n",
       "      <td>5216.226562</td>\n",
       "      <td>5216.226562</td>\n",
       "      <td>1572.0</td>\n",
       "      <td>633.384306</td>\n",
       "      <td>-0.031837</td>\n",
       "      <td>0.859592</td>\n",
       "      <td>0.0</td>\n",
       "      <td>1.0</td>\n",
       "      <td>27.713360</td>\n",
       "      <td>0</td>\n",
       "      <td>0</td>\n",
       "    </tr>\n",
       "    <tr>\n",
       "      <th>1</th>\n",
       "      <td>5216.226562</td>\n",
       "      <td>5216.226562</td>\n",
       "      <td>1791.0</td>\n",
       "      <td>628.981470</td>\n",
       "      <td>-0.350204</td>\n",
       "      <td>-18.720000</td>\n",
       "      <td>219.0</td>\n",
       "      <td>1.0</td>\n",
       "      <td>27.003132</td>\n",
       "      <td>Al27(1+)</td>\n",
       "      <td>#2c0359</td>\n",
       "    </tr>\n",
       "    <tr>\n",
       "      <th>2</th>\n",
       "      <td>5216.226562</td>\n",
       "      <td>5216.226562</td>\n",
       "      <td>1992.0</td>\n",
       "      <td>635.510286</td>\n",
       "      <td>-11.906939</td>\n",
       "      <td>2.610612</td>\n",
       "      <td>201.0</td>\n",
       "      <td>1.0</td>\n",
       "      <td>27.493455</td>\n",
       "      <td>0</td>\n",
       "      <td>0</td>\n",
       "    </tr>\n",
       "    <tr>\n",
       "      <th>3</th>\n",
       "      <td>5216.226562</td>\n",
       "      <td>5216.226562</td>\n",
       "      <td>2429.0</td>\n",
       "      <td>624.222018</td>\n",
       "      <td>7.195102</td>\n",
       "      <td>-0.827755</td>\n",
       "      <td>437.0</td>\n",
       "      <td>1.0</td>\n",
       "      <td>26.965459</td>\n",
       "      <td>Al27(1+)</td>\n",
       "      <td>#2c0359</td>\n",
       "    </tr>\n",
       "    <tr>\n",
       "      <th>4</th>\n",
       "      <td>5216.226562</td>\n",
       "      <td>5216.226562</td>\n",
       "      <td>3220.0</td>\n",
       "      <td>629.276364</td>\n",
       "      <td>14.644898</td>\n",
       "      <td>7.449796</td>\n",
       "      <td>791.0</td>\n",
       "      <td>1.0</td>\n",
       "      <td>27.027015</td>\n",
       "      <td>Al27(1+)</td>\n",
       "      <td>#2c0359</td>\n",
       "    </tr>\n",
       "    <tr>\n",
       "      <th>...</th>\n",
       "      <td>...</td>\n",
       "      <td>...</td>\n",
       "      <td>...</td>\n",
       "      <td>...</td>\n",
       "      <td>...</td>\n",
       "      <td>...</td>\n",
       "      <td>...</td>\n",
       "      <td>...</td>\n",
       "      <td>...</td>\n",
       "      <td>...</td>\n",
       "      <td>...</td>\n",
       "    </tr>\n",
       "    <tr>\n",
       "      <th>1858635</th>\n",
       "      <td>5711.025879</td>\n",
       "      <td>5711.025879</td>\n",
       "      <td>3626.0</td>\n",
       "      <td>601.419168</td>\n",
       "      <td>-4.998367</td>\n",
       "      <td>-1.846531</td>\n",
       "      <td>152.0</td>\n",
       "      <td>1.0</td>\n",
       "      <td>26.985305</td>\n",
       "      <td>Al27(1+)</td>\n",
       "      <td>#2c0359</td>\n",
       "    </tr>\n",
       "    <tr>\n",
       "      <th>1858636</th>\n",
       "      <td>5711.025879</td>\n",
       "      <td>5711.025879</td>\n",
       "      <td>3641.0</td>\n",
       "      <td>602.674182</td>\n",
       "      <td>-0.827755</td>\n",
       "      <td>-14.867755</td>\n",
       "      <td>15.0</td>\n",
       "      <td>1.0</td>\n",
       "      <td>26.971058</td>\n",
       "      <td>Al27(1+)</td>\n",
       "      <td>#2c0359</td>\n",
       "    </tr>\n",
       "    <tr>\n",
       "      <th>1858637</th>\n",
       "      <td>5711.025879</td>\n",
       "      <td>5711.025879</td>\n",
       "      <td>4538.0</td>\n",
       "      <td>600.644214</td>\n",
       "      <td>-6.271837</td>\n",
       "      <td>3.565714</td>\n",
       "      <td>897.0</td>\n",
       "      <td>1.0</td>\n",
       "      <td>26.801420</td>\n",
       "      <td>Al27(1+)</td>\n",
       "      <td>#2c0359</td>\n",
       "    </tr>\n",
       "    <tr>\n",
       "      <th>1858638</th>\n",
       "      <td>5711.025879</td>\n",
       "      <td>5711.025879</td>\n",
       "      <td>5881.0</td>\n",
       "      <td>459.993492</td>\n",
       "      <td>34.097143</td>\n",
       "      <td>5.380408</td>\n",
       "      <td>1343.0</td>\n",
       "      <td>1.0</td>\n",
       "      <td>13.680422</td>\n",
       "      <td>0</td>\n",
       "      <td>0</td>\n",
       "    </tr>\n",
       "    <tr>\n",
       "      <th>1858639</th>\n",
       "      <td>5711.025879</td>\n",
       "      <td>5711.025879</td>\n",
       "      <td>6064.0</td>\n",
       "      <td>604.690434</td>\n",
       "      <td>-11.397551</td>\n",
       "      <td>-1.782857</td>\n",
       "      <td>183.0</td>\n",
       "      <td>1.0</td>\n",
       "      <td>27.027190</td>\n",
       "      <td>Al27(1+)</td>\n",
       "      <td>#2c0359</td>\n",
       "    </tr>\n",
       "  </tbody>\n",
       "</table>\n",
       "<p>1858640 rows × 11 columns</p>\n",
       "</div>"
      ],
      "text/plain": [
       "         high_voltage (V)    pulse (V)  start_counter      t (ns)     x (mm)  \\\n",
       "0             5216.226562  5216.226562         1572.0  633.384306  -0.031837   \n",
       "1             5216.226562  5216.226562         1791.0  628.981470  -0.350204   \n",
       "2             5216.226562  5216.226562         1992.0  635.510286 -11.906939   \n",
       "3             5216.226562  5216.226562         2429.0  624.222018   7.195102   \n",
       "4             5216.226562  5216.226562         3220.0  629.276364  14.644898   \n",
       "...                   ...          ...            ...         ...        ...   \n",
       "1858635       5711.025879  5711.025879         3626.0  601.419168  -4.998367   \n",
       "1858636       5711.025879  5711.025879         3641.0  602.674182  -0.827755   \n",
       "1858637       5711.025879  5711.025879         4538.0  600.644214  -6.271837   \n",
       "1858638       5711.025879  5711.025879         5881.0  459.993492  34.097143   \n",
       "1858639       5711.025879  5711.025879         6064.0  604.690434 -11.397551   \n",
       "\n",
       "            y (mm)  pulse_pi  ion_pp    mc (Da)   element    color  \n",
       "0         0.859592       0.0     1.0  27.713360         0        0  \n",
       "1       -18.720000     219.0     1.0  27.003132  Al27(1+)  #2c0359  \n",
       "2         2.610612     201.0     1.0  27.493455         0        0  \n",
       "3        -0.827755     437.0     1.0  26.965459  Al27(1+)  #2c0359  \n",
       "4         7.449796     791.0     1.0  27.027015  Al27(1+)  #2c0359  \n",
       "...            ...       ...     ...        ...       ...      ...  \n",
       "1858635  -1.846531     152.0     1.0  26.985305  Al27(1+)  #2c0359  \n",
       "1858636 -14.867755      15.0     1.0  26.971058  Al27(1+)  #2c0359  \n",
       "1858637   3.565714     897.0     1.0  26.801420  Al27(1+)  #2c0359  \n",
       "1858638   5.380408    1343.0     1.0  13.680422         0        0  \n",
       "1858639  -1.782857     183.0     1.0  27.027190  Al27(1+)  #2c0359  \n",
       "\n",
       "[1858640 rows x 11 columns]"
      ]
     },
     "execution_count": 13,
     "metadata": {},
     "output_type": "execute_result"
    }
   ],
   "source": [
    "data"
   ]
  },
  {
   "cell_type": "code",
   "execution_count": 14,
   "metadata": {
    "pycharm": {
     "name": "#%%\n"
    }
   },
   "outputs": [
    {
     "name": "stderr",
     "output_type": "stream",
     "text": [
      "d:\\pyccapt\\pyccapt\\calibration\\calibration_tools\\data_tools.py:91: PerformanceWarning: \n",
      "your performance may suffer as PyTables will pickle object types that it cannot\n",
      "map directly to c-types [inferred_type->mixed-integer,key->block1_values] [items->Index(['element', 'color'], dtype='object')]\n",
      "\n",
      "  dataframe.to_hdf(filename, key, mode='w')\n"
     ]
    }
   ],
   "source": [
    "# save the new data\n",
    "name_save_file = variables.result_path + '//' + dataset_name + '.h5'\n",
    "data_tools.store_df_to_hdf(name_save_file, data, 'df')"
   ]
  },
  {
   "cell_type": "code",
   "execution_count": 15,
   "metadata": {},
   "outputs": [
    {
     "data": {
      "text/plain": [
       "high_voltage (V)    float64\n",
       "pulse (V)           float64\n",
       "start_counter       float64\n",
       "t (ns)              float64\n",
       "x (mm)              float64\n",
       "y (mm)              float64\n",
       "pulse_pi            float64\n",
       "ion_pp              float64\n",
       "mc (Da)             float64\n",
       "element              object\n",
       "color                object\n",
       "dtype: object"
      ]
     },
     "execution_count": 15,
     "metadata": {},
     "output_type": "execute_result"
    }
   ],
   "source": [
    "data.dtypes"
   ]
  },
  {
   "cell_type": "code",
   "execution_count": null,
   "metadata": {},
   "outputs": [],
   "source": []
  }
 ],
 "metadata": {
  "kernelspec": {
   "display_name": "Python 3 (ipykernel)",
   "language": "python",
   "name": "python3"
  },
  "language_info": {
   "codemirror_mode": {
    "name": "ipython",
    "version": 3
   },
   "file_extension": ".py",
   "mimetype": "text/x-python",
   "name": "python",
   "nbconvert_exporter": "python",
   "pygments_lexer": "ipython3",
   "version": "3.9.12"
  }
 },
 "nbformat": 4,
 "nbformat_minor": 1
}

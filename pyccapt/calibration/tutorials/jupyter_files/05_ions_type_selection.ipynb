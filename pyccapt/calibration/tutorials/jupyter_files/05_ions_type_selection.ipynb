{
 "cells": [
  {
   "cell_type": "code",
   "execution_count": 1,
   "metadata": {
    "pycharm": {
     "name": "#%%\n"
    }
   },
   "outputs": [],
   "source": [
    "%matplotlib notebook\n",
    "import os\n",
    "import os.path as path\n",
    "import numpy as np\n",
    "from scipy.optimize import curve_fit\n",
    "from faker import Factory\n",
    "from scipy import interpolate\n",
    "from sklearn.preprocessing import MinMaxScaler\n",
    "from mpl_toolkits.mplot3d import Axes3D\n",
    "import matplotlib.pyplot as plt\n",
    "import math \n",
    "from ipywidgets import interact, interactive, fixed, interact_manual, widgets\n",
    "import h5py\n",
    "\n",
    "from pyccapt.calibration.calibration_tools import tools, data_tools, variables, tof_calibration, data_loadcrop\n",
    "from pyccapt.calibration.calibration_tools import widgets as wd\n"
   ]
  },
  {
   "cell_type": "code",
   "execution_count": 2,
   "metadata": {
    "pycharm": {
     "name": "#%%\n"
    }
   },
   "outputs": [],
   "source": [
    "number_sample = 300\n",
    "save_fig=False\n",
    "plot_fig=True "
   ]
  },
  {
   "cell_type": "code",
   "execution_count": 3,
   "metadata": {},
   "outputs": [],
   "source": [
    "# flightPathLength = 110 # mm \n",
    "# # The initial value for t_0\n",
    "# t0 = 51.74 # ns\n",
    "\n",
    "# dataset name\n",
    "# AL_data_b\n",
    "# OLO_AL_6_data\n",
    "# OLO_W_6_data\n",
    "# OLO_Ni_8_data\n",
    "# X6Cr17_2V30Min_5_data\n",
    "# data_1029_Jun-27-2022_15-53_Pd\n",
    "# data_115_Jul-27-2022_17-44_Powersweep3"
   ]
  },
  {
   "cell_type": "code",
   "execution_count": 4,
   "metadata": {},
   "outputs": [
    {
     "data": {
      "application/vnd.jupyter.widget-view+json": {
       "model_id": "36ef1be4b53a4d1786de15bddf00ceb7",
       "version_major": 2,
       "version_minor": 0
      },
      "text/plain": [
       "Dropdown(description='TDC model:', options=('surface_concept', 'roentdec'), value='surface_concept')"
      ]
     },
     "metadata": {},
     "output_type": "display_data"
    },
    {
     "data": {
      "application/vnd.jupyter.widget-view+json": {
       "model_id": "de475e4c993846588dad764b7f4d14db",
       "version_major": 2,
       "version_minor": 0
      },
      "text/plain": [
       "Dropdown(description='Pulse mode:', options=('voltage', 'laser'), value='voltage')"
      ]
     },
     "metadata": {},
     "output_type": "display_data"
    },
    {
     "data": {
      "application/vnd.jupyter.widget-view+json": {
       "model_id": "52be020180114e66a2fedebb54291c8c",
       "version_major": 2,
       "version_minor": 0
      },
      "text/plain": [
       "Text(value='OLO_AL_6_data', description='Dataset:', placeholder='Paste ticket description here!')"
      ]
     },
     "metadata": {},
     "output_type": "display_data"
    },
    {
     "data": {
      "application/vnd.jupyter.widget-view+json": {
       "model_id": "08c6e06c0914403cb8f6ac729368c131",
       "version_major": 2,
       "version_minor": 0
      },
      "text/plain": [
       "Text(value='110', description='Flight path length:', placeholder='Flight path length')"
      ]
     },
     "metadata": {},
     "output_type": "display_data"
    },
    {
     "data": {
      "application/vnd.jupyter.widget-view+json": {
       "model_id": "7210cddc76714f119bca3a4ef57b83ee",
       "version_major": 2,
       "version_minor": 0
      },
      "text/plain": [
       "Text(value='51.74', description='t0:', placeholder='T_0 of the instrument')"
      ]
     },
     "metadata": {},
     "output_type": "display_data"
    }
   ],
   "source": [
    "tdc, pulse_mode, dataset, flightPathLength_d, t0_d = wd.dataset_tdc_selection()\n",
    "display(tdc, pulse_mode, dataset, flightPathLength_d, t0_d)"
   ]
  },
  {
   "cell_type": "markdown",
   "metadata": {
    "pycharm": {
     "name": "#%% md\n"
    }
   },
   "source": [
    "$$\\textbf{You can specify which dataset to use in below block}$$"
   ]
  },
  {
   "cell_type": "code",
   "execution_count": 5,
   "metadata": {
    "pycharm": {
     "name": "#%%\n"
    }
   },
   "outputs": [],
   "source": [
    "tdc_model = tdc.value\n",
    "pulse_mode_ini = pulse_mode.value\n",
    "\n",
    "dataset_name = dataset.value\n",
    "\n",
    "flightPathLength = float(flightPathLength_d.value) # mm \n",
    "# The initial value for t_0\n",
    "t0 = float(t0_d.value) # ns\n",
    "\n",
    "p = path.abspath(path.join(\"\", \"../../../..\"))\n",
    "\n",
    "variables.init()\n",
    "\n",
    "path_main = os.path.join(p, 'tests//data')\n",
    "filename_main = path_main + '//' + dataset_name + '.h5'\n",
    "\n",
    "# variables.path = os.path.join(p, 'tests//results//mc_vol_bowl_calibratin')\n",
    "variables.path = os.path.join(p, 'tests//results//tof_calibration')\n",
    "variables.result_path = os.path.join(p, 'tests/results/ion_type_selection/' + dataset_name)\n",
    "if not os.path.isdir(variables.result_path):\n",
    "        os.makedirs(variables.result_path, mode=0o777, exist_ok=True)\n",
    "        \n",
    "filename = variables.path + '//' + dataset_name + '//' + dataset_name + '.h5'\n",
    "\n",
    "\n",
    "\n",
    "head, tail = os.path.split(filename)\n",
    "figname = os.path.splitext(tail)[0]\n",
    "\n",
    "data = data_tools.read_hdf5_through_pandas(filename)\n"
   ]
  },
  {
   "cell_type": "code",
   "execution_count": 6,
   "metadata": {
    "pycharm": {
     "name": "#%%\n"
    }
   },
   "outputs": [
    {
     "data": {
      "text/html": [
       "<div>\n",
       "<style scoped>\n",
       "    .dataframe tbody tr th:only-of-type {\n",
       "        vertical-align: middle;\n",
       "    }\n",
       "\n",
       "    .dataframe tbody tr th {\n",
       "        vertical-align: top;\n",
       "    }\n",
       "\n",
       "    .dataframe thead th {\n",
       "        text-align: right;\n",
       "    }\n",
       "</style>\n",
       "<table border=\"1\" class=\"dataframe\">\n",
       "  <thead>\n",
       "    <tr style=\"text-align: right;\">\n",
       "      <th></th>\n",
       "      <th>high_voltage (V)</th>\n",
       "      <th>pulse (V)</th>\n",
       "      <th>start_counter</th>\n",
       "      <th>t (ns)</th>\n",
       "      <th>x (mm)</th>\n",
       "      <th>y (mm)</th>\n",
       "      <th>pulse_pi</th>\n",
       "      <th>ion_pp</th>\n",
       "      <th>mc (Da)</th>\n",
       "    </tr>\n",
       "  </thead>\n",
       "  <tbody>\n",
       "    <tr>\n",
       "      <th>0</th>\n",
       "      <td>5267.498047</td>\n",
       "      <td>5267.498047</td>\n",
       "      <td>54217.0</td>\n",
       "      <td>642.333996</td>\n",
       "      <td>19.515918</td>\n",
       "      <td>-28.812245</td>\n",
       "      <td>0.0</td>\n",
       "      <td>1.0</td>\n",
       "      <td>27.045662</td>\n",
       "    </tr>\n",
       "    <tr>\n",
       "      <th>1</th>\n",
       "      <td>5267.498047</td>\n",
       "      <td>5267.498047</td>\n",
       "      <td>55251.0</td>\n",
       "      <td>622.754406</td>\n",
       "      <td>3.279184</td>\n",
       "      <td>4.170612</td>\n",
       "      <td>1034.0</td>\n",
       "      <td>1.0</td>\n",
       "      <td>26.936527</td>\n",
       "    </tr>\n",
       "    <tr>\n",
       "      <th>2</th>\n",
       "      <td>5267.498047</td>\n",
       "      <td>5267.498047</td>\n",
       "      <td>55287.0</td>\n",
       "      <td>638.987292</td>\n",
       "      <td>21.203265</td>\n",
       "      <td>-21.457959</td>\n",
       "      <td>36.0</td>\n",
       "      <td>1.0</td>\n",
       "      <td>27.215287</td>\n",
       "    </tr>\n",
       "    <tr>\n",
       "      <th>3</th>\n",
       "      <td>5267.498047</td>\n",
       "      <td>5267.498047</td>\n",
       "      <td>55309.0</td>\n",
       "      <td>623.385342</td>\n",
       "      <td>5.953469</td>\n",
       "      <td>6.813061</td>\n",
       "      <td>22.0</td>\n",
       "      <td>1.0</td>\n",
       "      <td>26.903841</td>\n",
       "    </tr>\n",
       "    <tr>\n",
       "      <th>4</th>\n",
       "      <td>5267.498047</td>\n",
       "      <td>5267.498047</td>\n",
       "      <td>56063.0</td>\n",
       "      <td>628.576848</td>\n",
       "      <td>17.955918</td>\n",
       "      <td>-11.620408</td>\n",
       "      <td>754.0</td>\n",
       "      <td>1.0</td>\n",
       "      <td>27.002715</td>\n",
       "    </tr>\n",
       "    <tr>\n",
       "      <th>...</th>\n",
       "      <td>...</td>\n",
       "      <td>...</td>\n",
       "      <td>...</td>\n",
       "      <td>...</td>\n",
       "      <td>...</td>\n",
       "      <td>...</td>\n",
       "      <td>...</td>\n",
       "      <td>...</td>\n",
       "      <td>...</td>\n",
       "    </tr>\n",
       "    <tr>\n",
       "      <th>1891028</th>\n",
       "      <td>5710.761719</td>\n",
       "      <td>5710.761719</td>\n",
       "      <td>39864.0</td>\n",
       "      <td>603.901764</td>\n",
       "      <td>-11.811429</td>\n",
       "      <td>-3.533878</td>\n",
       "      <td>40.0</td>\n",
       "      <td>1.0</td>\n",
       "      <td>26.901347</td>\n",
       "    </tr>\n",
       "    <tr>\n",
       "      <th>1891029</th>\n",
       "      <td>5710.761719</td>\n",
       "      <td>5710.761719</td>\n",
       "      <td>40013.0</td>\n",
       "      <td>604.951038</td>\n",
       "      <td>-12.989388</td>\n",
       "      <td>-2.451429</td>\n",
       "      <td>149.0</td>\n",
       "      <td>1.0</td>\n",
       "      <td>26.926814</td>\n",
       "    </tr>\n",
       "    <tr>\n",
       "      <th>1891030</th>\n",
       "      <td>5710.761719</td>\n",
       "      <td>5710.761719</td>\n",
       "      <td>40267.0</td>\n",
       "      <td>619.167672</td>\n",
       "      <td>29.894694</td>\n",
       "      <td>10.442449</td>\n",
       "      <td>254.0</td>\n",
       "      <td>1.0</td>\n",
       "      <td>27.078288</td>\n",
       "    </tr>\n",
       "    <tr>\n",
       "      <th>1891031</th>\n",
       "      <td>5710.761719</td>\n",
       "      <td>5710.761719</td>\n",
       "      <td>40371.0</td>\n",
       "      <td>605.712276</td>\n",
       "      <td>-12.798367</td>\n",
       "      <td>-0.986939</td>\n",
       "      <td>104.0</td>\n",
       "      <td>1.0</td>\n",
       "      <td>26.990346</td>\n",
       "    </tr>\n",
       "    <tr>\n",
       "      <th>1891032</th>\n",
       "      <td>5710.761719</td>\n",
       "      <td>5710.761719</td>\n",
       "      <td>40388.0</td>\n",
       "      <td>605.293938</td>\n",
       "      <td>-13.116735</td>\n",
       "      <td>-0.382041</td>\n",
       "      <td>17.0</td>\n",
       "      <td>1.0</td>\n",
       "      <td>26.931278</td>\n",
       "    </tr>\n",
       "  </tbody>\n",
       "</table>\n",
       "<p>1891033 rows × 9 columns</p>\n",
       "</div>"
      ],
      "text/plain": [
       "         high_voltage (V)    pulse (V)  start_counter      t (ns)     x (mm)  \\\n",
       "0             5267.498047  5267.498047        54217.0  642.333996  19.515918   \n",
       "1             5267.498047  5267.498047        55251.0  622.754406   3.279184   \n",
       "2             5267.498047  5267.498047        55287.0  638.987292  21.203265   \n",
       "3             5267.498047  5267.498047        55309.0  623.385342   5.953469   \n",
       "4             5267.498047  5267.498047        56063.0  628.576848  17.955918   \n",
       "...                   ...          ...            ...         ...        ...   \n",
       "1891028       5710.761719  5710.761719        39864.0  603.901764 -11.811429   \n",
       "1891029       5710.761719  5710.761719        40013.0  604.951038 -12.989388   \n",
       "1891030       5710.761719  5710.761719        40267.0  619.167672  29.894694   \n",
       "1891031       5710.761719  5710.761719        40371.0  605.712276 -12.798367   \n",
       "1891032       5710.761719  5710.761719        40388.0  605.293938 -13.116735   \n",
       "\n",
       "            y (mm)  pulse_pi  ion_pp    mc (Da)  \n",
       "0       -28.812245       0.0     1.0  27.045662  \n",
       "1         4.170612    1034.0     1.0  26.936527  \n",
       "2       -21.457959      36.0     1.0  27.215287  \n",
       "3         6.813061      22.0     1.0  26.903841  \n",
       "4       -11.620408     754.0     1.0  27.002715  \n",
       "...            ...       ...     ...        ...  \n",
       "1891028  -3.533878      40.0     1.0  26.901347  \n",
       "1891029  -2.451429     149.0     1.0  26.926814  \n",
       "1891030  10.442449     254.0     1.0  27.078288  \n",
       "1891031  -0.986939     104.0     1.0  26.990346  \n",
       "1891032  -0.382041      17.0     1.0  26.931278  \n",
       "\n",
       "[1891033 rows x 9 columns]"
      ]
     },
     "execution_count": 6,
     "metadata": {},
     "output_type": "execute_result"
    }
   ],
   "source": [
    "data"
   ]
  },
  {
   "cell_type": "code",
   "execution_count": 7,
   "metadata": {
    "pycharm": {
     "name": "#%%\n"
    }
   },
   "outputs": [],
   "source": [
    "mc = data['mc (Da)'].to_numpy()"
   ]
  },
  {
   "cell_type": "code",
   "execution_count": 8,
   "metadata": {
    "pycharm": {
     "name": "#%%\n"
    }
   },
   "outputs": [],
   "source": [
    "peaks_sides_p = np.zeros(0)\n",
    "def mc_his(bin_size, prominence, distance, percent, plot, figname, mc, mc_ideal):\n",
    "\n",
    "    bin_size = float(bin_size)\n",
    "    prominence = int(prominence)\n",
    "    distance = int(distance)\n",
    "    percent = int(percent)\n",
    "    if mc_ideal == True:\n",
    "        mc_ideal = np.array(variables.listMaterial)\n",
    "        print('List of mc are:', mc_ideal)\n",
    "    else:\n",
    "        mc_ideal = np.zeros(0)\n",
    "    max_hist, left_right_peaks, peaks_sides, max_paek_edges, index_max = tools.massSpecPlot(mc[mc < 100], bin_size, mc_ideal, distance=distance, percent=percent, prominence=prominence, plot=plot, label='tof', fig_name=figname)\n",
    "    mrp = (max_hist / (left_right_peaks[1] - left_right_peaks[0]))\n",
    "    print('Mass resolving power for the highest peak (MRP --> m/m_2-m_1):', mrp)\n",
    "    for i in range(len(peaks_sides)):\n",
    "        print('Peaks ', i, 'is: {:.2f}'.format(peaks_sides[i,0]), 'peak window sides are: {:.2f} - {:.2f}'.format(peaks_sides[i,2], peaks_sides[i,3]))\n",
    "    global peaks_sides_p\n",
    "    peaks_sides_p = peaks_sides"
   ]
  },
  {
   "cell_type": "code",
   "execution_count": 9,
   "metadata": {
    "pycharm": {
     "name": "#%%\n"
    },
    "scrolled": false
   },
   "outputs": [
    {
     "data": {
      "application/vnd.jupyter.widget-view+json": {
       "model_id": "9686513bd5e64da8aa82fef09523ae32",
       "version_major": 2,
       "version_minor": 0
      },
      "text/plain": [
       "interactive(children=(Textarea(value='0.1', description='bin_size'), Textarea(value='60', description='promine…"
      ]
     },
     "metadata": {},
     "output_type": "display_data"
    }
   ],
   "source": [
    "peaks_sides = interact_manual(mc_his, bin_size=widgets.Textarea(value=\"0.1\")\n",
    "               ,prominence=widgets.Textarea(value=\"60\"), distance=widgets.Textarea(value=\"100\")\n",
    "               ,percent=widgets.Textarea(value=\"20\"), plot=fixed(True), mc=fixed(mc),  figname=fixed(figname)\n",
    "                , mc_ideal=[('False',False),('True',True)]);\n",
    "\n"
   ]
  },
  {
   "cell_type": "code",
   "execution_count": 10,
   "metadata": {
    "pycharm": {
     "name": "#%%\n"
    }
   },
   "outputs": [
    {
     "data": {
      "application/vnd.jupyter.widget-view+json": {
       "model_id": "6c7872046b5a4c7c81aa73eb56c61d9c",
       "version_major": 2,
       "version_minor": 0
      },
      "text/plain": [
       "Dropdown(description='Elements', options=(('H (1) (99.98)', 'H1'), ('H (2) (0.01)', 'H2'), ('He (3) (0.00)', '…"
      ]
     },
     "metadata": {},
     "output_type": "display_data"
    },
    {
     "data": {
      "application/vnd.jupyter.widget-view+json": {
       "model_id": "1f63f654e2b84da1b39dc4f584cc2f6c",
       "version_major": 2,
       "version_minor": 0
      },
      "text/plain": [
       "Dropdown(description='Charge', options=((1, 1), (2, 2), (3, 3), (4, 4)), value=1)"
      ]
     },
     "metadata": {},
     "output_type": "display_data"
    },
    {
     "data": {
      "application/vnd.jupyter.widget-view+json": {
       "model_id": "62b73f91358d4525aa99da799379acfe",
       "version_major": 2,
       "version_minor": 0
      },
      "text/plain": [
       "Button(description='ADD', icon='check', style=ButtonStyle(), tooltip='ADD')"
      ]
     },
     "metadata": {},
     "output_type": "display_data"
    },
    {
     "data": {
      "application/vnd.jupyter.widget-view+json": {
       "model_id": "bf8bf8b185034125ab462a508855cfdc",
       "version_major": 2,
       "version_minor": 0
      },
      "text/plain": [
       "Button(description='DELETE', icon='check', style=ButtonStyle(), tooltip='DELETE')"
      ]
     },
     "metadata": {},
     "output_type": "display_data"
    },
    {
     "data": {
      "application/vnd.jupyter.widget-view+json": {
       "model_id": "eb0ec358013e467aa4eb67ce7a77c95c",
       "version_major": 2,
       "version_minor": 0
      },
      "text/plain": [
       "Button(description='RESET', icon='check', style=ButtonStyle(), tooltip='RESET')"
      ]
     },
     "metadata": {},
     "output_type": "display_data"
    },
    {
     "name": "stdout",
     "output_type": "stream",
     "text": [
      "Updated List :  ['H1(1+)', 'Al27(2+)', 'Al27(1+)']                                         \r"
     ]
    }
   ],
   "source": [
    "isotopeTableFile = '../../../files/isotopeTable.h5'\n",
    "dataframe = data_tools.read_hdf5_through_pandas(isotopeTableFile)\n",
    "elementsList = dataframe['element']\n",
    "elementIsotopeList = dataframe['isotope']\n",
    "elementMassList =  dataframe['weight']\n",
    "abundanceList = dataframe['abundance']\n",
    "\n",
    "elements = list(zip(elementsList, elementIsotopeList, elementMassList, abundanceList))\n",
    "dropdownList = []\n",
    "for element in elements:\n",
    "    tupleElement = (\"{} ({}) ({:.2f})\".format(element[0],element[1],element[3]), \"{}{}\".format(element[0],element[1]))\n",
    "    dropdownList.append(tupleElement)\n",
    "\n",
    "chargeList = [(1,1,),(2,2,),(3,3,),(4,4,)]\n",
    "dropdown = wd.dropdownWidget(dropdownList, \"Elements\")\n",
    "dropdown.observe(wd.on_change_ions_selection)\n",
    "\n",
    "\n",
    "chargeDropdown = wd.dropdownWidget(chargeList, \"Charge\")\n",
    "chargeDropdown.observe(wd.on_change_charge_ions_selection)\n",
    "\n",
    "wd.compute_element_isotope_values_according_to_selected_charge(mode='ions_selection')\n",
    "\n",
    "buttonAdd = wd.buttonWidget(\"ADD\")\n",
    "buttonDelete = wd.buttonWidget(\"DELETE\")\n",
    "buttonReset = wd.buttonWidget(\"RESET\")\n",
    "\n",
    "display(dropdown)\n",
    "display(chargeDropdown)\n",
    "display(buttonAdd)\n",
    "display(buttonDelete)\n",
    "display(buttonReset)\n",
    "listMaterial = buttonAdd.on_click(wd.onClickAdd)\n",
    "buttonDelete.on_click(wd.onClickDelete)\n",
    "buttonReset.on_click(wd.onClickReset)"
   ]
  },
  {
   "cell_type": "code",
   "execution_count": 11,
   "metadata": {
    "pycharm": {
     "name": "#%%\n"
    }
   },
   "outputs": [
    {
     "name": "stdout",
     "output_type": "stream",
     "text": [
      "(965,)\n",
      "ploted ions (965,)\n",
      "(140033,)\n",
      "ploted ions (140033,)\n",
      "(1492747,)\n",
      "ploted ions (1492747,)\n"
     ]
    }
   ],
   "source": [
    "fake = Factory.create()\n",
    "color = np.zeros(len(mc), dtype='object' )\n",
    "element = np.zeros(len(mc), dtype='object')\n",
    "\n",
    "for index, elemen in enumerate(variables.listMaterial):\n",
    "    mask = np.logical_and((peaks_sides_p[index,2] < mc), (mc < peaks_sides_p[index,3])).squeeze()\n",
    "    print(mask[mask==True].shape)\n",
    "\n",
    "    index_true = np.where(mask==True)\n",
    "    index_get_to_false = np.random.choice(index_true[0], size=int(index_true[0].shape[0] - index_true[0].shape[0]), replace=False)\n",
    "    mask[index_get_to_false] = False\n",
    "    print('ploted ions', mask[mask==True].shape)\n",
    "    \n",
    "    color[mask] = fake.hex_color()\n",
    "    element[mask] = elemen\n",
    "\n"
   ]
  },
  {
   "cell_type": "code",
   "execution_count": 12,
   "metadata": {},
   "outputs": [],
   "source": [
    "data['element'] = element\n",
    "data['color'] = color"
   ]
  },
  {
   "cell_type": "code",
   "execution_count": 13,
   "metadata": {},
   "outputs": [
    {
     "data": {
      "text/html": [
       "<div>\n",
       "<style scoped>\n",
       "    .dataframe tbody tr th:only-of-type {\n",
       "        vertical-align: middle;\n",
       "    }\n",
       "\n",
       "    .dataframe tbody tr th {\n",
       "        vertical-align: top;\n",
       "    }\n",
       "\n",
       "    .dataframe thead th {\n",
       "        text-align: right;\n",
       "    }\n",
       "</style>\n",
       "<table border=\"1\" class=\"dataframe\">\n",
       "  <thead>\n",
       "    <tr style=\"text-align: right;\">\n",
       "      <th></th>\n",
       "      <th>high_voltage (V)</th>\n",
       "      <th>pulse (V)</th>\n",
       "      <th>start_counter</th>\n",
       "      <th>t (ns)</th>\n",
       "      <th>x (mm)</th>\n",
       "      <th>y (mm)</th>\n",
       "      <th>pulse_pi</th>\n",
       "      <th>ion_pp</th>\n",
       "      <th>mc (Da)</th>\n",
       "      <th>element</th>\n",
       "      <th>color</th>\n",
       "    </tr>\n",
       "  </thead>\n",
       "  <tbody>\n",
       "    <tr>\n",
       "      <th>0</th>\n",
       "      <td>5267.498047</td>\n",
       "      <td>5267.498047</td>\n",
       "      <td>54217.0</td>\n",
       "      <td>642.333996</td>\n",
       "      <td>19.515918</td>\n",
       "      <td>-28.812245</td>\n",
       "      <td>0.0</td>\n",
       "      <td>1.0</td>\n",
       "      <td>27.045662</td>\n",
       "      <td>Al27(1+)</td>\n",
       "      <td>#43bd1b</td>\n",
       "    </tr>\n",
       "    <tr>\n",
       "      <th>1</th>\n",
       "      <td>5267.498047</td>\n",
       "      <td>5267.498047</td>\n",
       "      <td>55251.0</td>\n",
       "      <td>622.754406</td>\n",
       "      <td>3.279184</td>\n",
       "      <td>4.170612</td>\n",
       "      <td>1034.0</td>\n",
       "      <td>1.0</td>\n",
       "      <td>26.936527</td>\n",
       "      <td>Al27(1+)</td>\n",
       "      <td>#43bd1b</td>\n",
       "    </tr>\n",
       "    <tr>\n",
       "      <th>2</th>\n",
       "      <td>5267.498047</td>\n",
       "      <td>5267.498047</td>\n",
       "      <td>55287.0</td>\n",
       "      <td>638.987292</td>\n",
       "      <td>21.203265</td>\n",
       "      <td>-21.457959</td>\n",
       "      <td>36.0</td>\n",
       "      <td>1.0</td>\n",
       "      <td>27.215287</td>\n",
       "      <td>Al27(1+)</td>\n",
       "      <td>#43bd1b</td>\n",
       "    </tr>\n",
       "    <tr>\n",
       "      <th>3</th>\n",
       "      <td>5267.498047</td>\n",
       "      <td>5267.498047</td>\n",
       "      <td>55309.0</td>\n",
       "      <td>623.385342</td>\n",
       "      <td>5.953469</td>\n",
       "      <td>6.813061</td>\n",
       "      <td>22.0</td>\n",
       "      <td>1.0</td>\n",
       "      <td>26.903841</td>\n",
       "      <td>Al27(1+)</td>\n",
       "      <td>#43bd1b</td>\n",
       "    </tr>\n",
       "    <tr>\n",
       "      <th>4</th>\n",
       "      <td>5267.498047</td>\n",
       "      <td>5267.498047</td>\n",
       "      <td>56063.0</td>\n",
       "      <td>628.576848</td>\n",
       "      <td>17.955918</td>\n",
       "      <td>-11.620408</td>\n",
       "      <td>754.0</td>\n",
       "      <td>1.0</td>\n",
       "      <td>27.002715</td>\n",
       "      <td>Al27(1+)</td>\n",
       "      <td>#43bd1b</td>\n",
       "    </tr>\n",
       "    <tr>\n",
       "      <th>...</th>\n",
       "      <td>...</td>\n",
       "      <td>...</td>\n",
       "      <td>...</td>\n",
       "      <td>...</td>\n",
       "      <td>...</td>\n",
       "      <td>...</td>\n",
       "      <td>...</td>\n",
       "      <td>...</td>\n",
       "      <td>...</td>\n",
       "      <td>...</td>\n",
       "      <td>...</td>\n",
       "    </tr>\n",
       "    <tr>\n",
       "      <th>1891028</th>\n",
       "      <td>5710.761719</td>\n",
       "      <td>5710.761719</td>\n",
       "      <td>39864.0</td>\n",
       "      <td>603.901764</td>\n",
       "      <td>-11.811429</td>\n",
       "      <td>-3.533878</td>\n",
       "      <td>40.0</td>\n",
       "      <td>1.0</td>\n",
       "      <td>26.901347</td>\n",
       "      <td>Al27(1+)</td>\n",
       "      <td>#43bd1b</td>\n",
       "    </tr>\n",
       "    <tr>\n",
       "      <th>1891029</th>\n",
       "      <td>5710.761719</td>\n",
       "      <td>5710.761719</td>\n",
       "      <td>40013.0</td>\n",
       "      <td>604.951038</td>\n",
       "      <td>-12.989388</td>\n",
       "      <td>-2.451429</td>\n",
       "      <td>149.0</td>\n",
       "      <td>1.0</td>\n",
       "      <td>26.926814</td>\n",
       "      <td>Al27(1+)</td>\n",
       "      <td>#43bd1b</td>\n",
       "    </tr>\n",
       "    <tr>\n",
       "      <th>1891030</th>\n",
       "      <td>5710.761719</td>\n",
       "      <td>5710.761719</td>\n",
       "      <td>40267.0</td>\n",
       "      <td>619.167672</td>\n",
       "      <td>29.894694</td>\n",
       "      <td>10.442449</td>\n",
       "      <td>254.0</td>\n",
       "      <td>1.0</td>\n",
       "      <td>27.078288</td>\n",
       "      <td>Al27(1+)</td>\n",
       "      <td>#43bd1b</td>\n",
       "    </tr>\n",
       "    <tr>\n",
       "      <th>1891031</th>\n",
       "      <td>5710.761719</td>\n",
       "      <td>5710.761719</td>\n",
       "      <td>40371.0</td>\n",
       "      <td>605.712276</td>\n",
       "      <td>-12.798367</td>\n",
       "      <td>-0.986939</td>\n",
       "      <td>104.0</td>\n",
       "      <td>1.0</td>\n",
       "      <td>26.990346</td>\n",
       "      <td>Al27(1+)</td>\n",
       "      <td>#43bd1b</td>\n",
       "    </tr>\n",
       "    <tr>\n",
       "      <th>1891032</th>\n",
       "      <td>5710.761719</td>\n",
       "      <td>5710.761719</td>\n",
       "      <td>40388.0</td>\n",
       "      <td>605.293938</td>\n",
       "      <td>-13.116735</td>\n",
       "      <td>-0.382041</td>\n",
       "      <td>17.0</td>\n",
       "      <td>1.0</td>\n",
       "      <td>26.931278</td>\n",
       "      <td>Al27(1+)</td>\n",
       "      <td>#43bd1b</td>\n",
       "    </tr>\n",
       "  </tbody>\n",
       "</table>\n",
       "<p>1891033 rows × 11 columns</p>\n",
       "</div>"
      ],
      "text/plain": [
       "         high_voltage (V)    pulse (V)  start_counter      t (ns)     x (mm)  \\\n",
       "0             5267.498047  5267.498047        54217.0  642.333996  19.515918   \n",
       "1             5267.498047  5267.498047        55251.0  622.754406   3.279184   \n",
       "2             5267.498047  5267.498047        55287.0  638.987292  21.203265   \n",
       "3             5267.498047  5267.498047        55309.0  623.385342   5.953469   \n",
       "4             5267.498047  5267.498047        56063.0  628.576848  17.955918   \n",
       "...                   ...          ...            ...         ...        ...   \n",
       "1891028       5710.761719  5710.761719        39864.0  603.901764 -11.811429   \n",
       "1891029       5710.761719  5710.761719        40013.0  604.951038 -12.989388   \n",
       "1891030       5710.761719  5710.761719        40267.0  619.167672  29.894694   \n",
       "1891031       5710.761719  5710.761719        40371.0  605.712276 -12.798367   \n",
       "1891032       5710.761719  5710.761719        40388.0  605.293938 -13.116735   \n",
       "\n",
       "            y (mm)  pulse_pi  ion_pp    mc (Da)   element    color  \n",
       "0       -28.812245       0.0     1.0  27.045662  Al27(1+)  #43bd1b  \n",
       "1         4.170612    1034.0     1.0  26.936527  Al27(1+)  #43bd1b  \n",
       "2       -21.457959      36.0     1.0  27.215287  Al27(1+)  #43bd1b  \n",
       "3         6.813061      22.0     1.0  26.903841  Al27(1+)  #43bd1b  \n",
       "4       -11.620408     754.0     1.0  27.002715  Al27(1+)  #43bd1b  \n",
       "...            ...       ...     ...        ...       ...      ...  \n",
       "1891028  -3.533878      40.0     1.0  26.901347  Al27(1+)  #43bd1b  \n",
       "1891029  -2.451429     149.0     1.0  26.926814  Al27(1+)  #43bd1b  \n",
       "1891030  10.442449     254.0     1.0  27.078288  Al27(1+)  #43bd1b  \n",
       "1891031  -0.986939     104.0     1.0  26.990346  Al27(1+)  #43bd1b  \n",
       "1891032  -0.382041      17.0     1.0  26.931278  Al27(1+)  #43bd1b  \n",
       "\n",
       "[1891033 rows x 11 columns]"
      ]
     },
     "execution_count": 13,
     "metadata": {},
     "output_type": "execute_result"
    }
   ],
   "source": [
    "data"
   ]
  },
  {
   "cell_type": "code",
   "execution_count": 14,
   "metadata": {
    "pycharm": {
     "name": "#%%\n"
    }
   },
   "outputs": [
    {
     "name": "stderr",
     "output_type": "stream",
     "text": [
      "c:\\users\\mehrp\\pycharmprojects\\pyccapt\\pyccapt\\calibration\\calibration_tools\\data_tools.py:91: PerformanceWarning: \n",
      "your performance may suffer as PyTables will pickle object types that it cannot\n",
      "map directly to c-types [inferred_type->mixed-integer,key->block1_values] [items->Index(['element', 'color'], dtype='object')]\n",
      "\n",
      "  dataframe.to_hdf(filename, key, mode='w')\n"
     ]
    }
   ],
   "source": [
    "# save the new data\n",
    "name_save_file = variables.result_path + '//' + dataset_name + '.h5'\n",
    "data_tools.store_df_to_hdf(name_save_file, data, 'df')"
   ]
  },
  {
   "cell_type": "code",
   "execution_count": 15,
   "metadata": {},
   "outputs": [
    {
     "data": {
      "text/plain": [
       "high_voltage (V)    float64\n",
       "pulse (V)           float64\n",
       "start_counter       float64\n",
       "t (ns)              float64\n",
       "x (mm)              float64\n",
       "y (mm)              float64\n",
       "pulse_pi            float64\n",
       "ion_pp              float64\n",
       "mc (Da)             float64\n",
       "element              object\n",
       "color                object\n",
       "dtype: object"
      ]
     },
     "execution_count": 15,
     "metadata": {},
     "output_type": "execute_result"
    }
   ],
   "source": [
    "data.dtypes"
   ]
  },
  {
   "cell_type": "code",
   "execution_count": null,
   "metadata": {},
   "outputs": [],
   "source": []
  }
 ],
 "metadata": {
  "kernelspec": {
   "display_name": "Python 3 (ipykernel)",
   "language": "python",
   "name": "python3"
  },
  "language_info": {
   "codemirror_mode": {
    "name": "ipython",
    "version": 3
   },
   "file_extension": ".py",
   "mimetype": "text/x-python",
   "name": "python",
   "nbconvert_exporter": "python",
   "pygments_lexer": "ipython3",
   "version": "3.8.13"
  }
 },
 "nbformat": 4,
 "nbformat_minor": 1
}

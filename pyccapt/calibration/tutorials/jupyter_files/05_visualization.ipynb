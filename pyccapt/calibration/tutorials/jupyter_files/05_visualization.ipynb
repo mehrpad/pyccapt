{
 "cells": [
  {
   "cell_type": "code",
   "execution_count": 1,
   "metadata": {
    "tags": []
   },
   "outputs": [],
   "source": [
    "# Activate intractive functionality of matplotlib\n",
    "%matplotlib ipympl\n",
    "# Activate auto reload \n",
    "%load_ext autoreload\n",
    "%autoreload 2\n",
    "%reload_ext autoreload\n",
    "# import libraries\n",
    "import os\n",
    "import pandas as pd\n",
    "from ipywidgets import fixed, interact_manual, widgets\n",
    "from ipywidgets import VBox\n",
    "from IPython.display import clear_output\n",
    "from IPython.display import display\n",
    "from ipywidgets import Output\n",
    "import matplotlib.colors as mcolors\n",
    "import warnings\n",
    "# Ignore all warnings\n",
    "warnings.filterwarnings(\"ignore\")\n",
    "\n",
    "# Local module and scripts\n",
    "from pyccapt.calibration.calibration_tools import tools, share_variables, ion_selection\n",
    "from pyccapt.calibration.calibration_tools import widgets as wd\n",
    "from pyccapt.calibration.data_tools import data_tools, dataset_path_qt\n",
    "from pyccapt.calibration.reconstructions import reconstruction"
   ]
  },
  {
   "cell_type": "code",
   "execution_count": 2,
   "metadata": {
    "tags": []
   },
   "outputs": [
    {
     "data": {
      "application/vnd.jupyter.widget-view+json": {
       "model_id": "fa9b191b926d442db26236547e57f451",
       "version_major": 2,
       "version_minor": 0
      },
      "text/plain": [
       "Button(description='load dataset', style=ButtonStyle())"
      ]
     },
     "execution_count": 2,
     "metadata": {},
     "output_type": "execute_result"
    }
   ],
   "source": [
    "button = widgets.Button(\n",
    "    description='load dataset',\n",
    ")\n",
    "@button.on_click\n",
    "def open_file_on_click(b):\n",
    "    \"\"\"\n",
    "    Event handler for button click event.\n",
    "    Prompts the user to select a dataset file and stores the selected file path in the global variable dataset_path.\n",
    "    \"\"\"\n",
    "    global dataset_path\n",
    "    dataset_path = dataset_path_qt.gui_fname().decode('ASCII')\n",
    "button"
   ]
  },
  {
   "cell_type": "code",
   "execution_count": 22,
   "metadata": {
    "tags": []
   },
   "outputs": [
    {
     "data": {
      "application/vnd.jupyter.widget-view+json": {
       "model_id": "8a01c896c61c4590be2fd38da96ee77c",
       "version_major": 2,
       "version_minor": 0
      },
      "text/plain": [
       "Button(description='load range dataset', style=ButtonStyle())"
      ]
     },
     "execution_count": 22,
     "metadata": {},
     "output_type": "execute_result"
    }
   ],
   "source": [
    "button_r = widgets.Button(\n",
    "    description='load range dataset',\n",
    ")\n",
    "@button_r.on_click\n",
    "def open_file_on_click_r(b):\n",
    "    \"\"\"\n",
    "    Event handler for button click event.\n",
    "    Prompts the user to select a range file and stores the selected file path in the global variable range_path.\n",
    "    \"\"\"\n",
    "    global range_path\n",
    "    range_path = dataset_path_qt.gui_fname().decode('ASCII')\n",
    "button_r"
   ]
  },
  {
   "cell_type": "code",
   "execution_count": 13,
   "metadata": {
    "tags": []
   },
   "outputs": [
    {
     "data": {
      "application/vnd.jupyter.widget-view+json": {
       "model_id": "5c60b4ab23634f448c2c68ce301c6204",
       "version_major": 2,
       "version_minor": 0
      },
      "text/plain": [
       "Dropdown(description='Data mode:', options=('PyCCAPT', 'leap_epos', 'leap_pos', 'ato_v6'), value='PyCCAPT')"
      ]
     },
     "metadata": {},
     "output_type": "display_data"
    },
    {
     "data": {
      "application/vnd.jupyter.widget-view+json": {
       "model_id": "2f415ed77b514f8fa77ee29683efe259",
       "version_major": 2,
       "version_minor": 0
      },
      "text/plain": [
       "FloatText(value=110.0, description='Flight path length:')"
      ]
     },
     "metadata": {},
     "output_type": "display_data"
    }
   ],
   "source": [
    "tdc, pulse_mode, flightPathLength, t0_d, max_mc, det_diam = wd.dataset_instrument_specification_selection()\n",
    "display(tdc, flightPathLength)"
   ]
  },
  {
   "cell_type": "code",
   "execution_count": 11,
   "metadata": {
    "tags": []
   },
   "outputs": [
    {
     "name": "stdout",
     "output_type": "stream",
     "text": [
      "The maximum time of flight: 5010\n"
     ]
    }
   ],
   "source": [
    "# exctract needed data from Pandas data frame as an numpy array\n",
    "# create an instance of the Variables opject\n",
    "variables = share_variables.Variables()\n",
    "variables.pulse_mode = pulse_mode\n",
    "dataset_main_path = os.path.dirname(dataset_path)\n",
    "dataset_main_path = os.path.dirname(dataset_main_path)\n",
    "dataset_name_with_extention = os.path.basename(dataset_path)\n",
    "variables.dataset_name = os.path.splitext(dataset_name_with_extention)[0]\n",
    "variables.result_data_path = dataset_main_path \n",
    "variables.result_data_name = variables.dataset_name\n",
    "variables.result_path = dataset_main_path + '/visualization/'\n",
    "\n",
    "if not os.path.isdir(variables.result_path):\n",
    "    os.makedirs(variables.result_path, mode=0o777, exist_ok=True)\n",
    "    \n",
    "# Create data farame out of hdf5 file dataset\n",
    "data = data_tools.load_data(dataset_path, tdc.value, mode='processed')\n",
    "# extract data from the path and create the Variable object\n",
    "data_tools.extract_data(data, variables, flightPathLength.value, max_mc.value)"
   ]
  },
  {
   "cell_type": "code",
   "execution_count": 12,
   "metadata": {
    "tags": []
   },
   "outputs": [
    {
     "data": {
      "text/html": [
       "<div>\n",
       "<style scoped>\n",
       "    .dataframe tbody tr th:only-of-type {\n",
       "        vertical-align: middle;\n",
       "    }\n",
       "\n",
       "    .dataframe tbody tr th {\n",
       "        vertical-align: top;\n",
       "    }\n",
       "\n",
       "    .dataframe thead th {\n",
       "        text-align: right;\n",
       "    }\n",
       "</style>\n",
       "<table border=\"1\" class=\"dataframe\">\n",
       "  <thead>\n",
       "    <tr style=\"text-align: right;\">\n",
       "      <th></th>\n",
       "      <th>x (nm)</th>\n",
       "      <th>y (nm)</th>\n",
       "      <th>z (nm)</th>\n",
       "      <th>mc_c (Da)</th>\n",
       "      <th>mc (Da)</th>\n",
       "      <th>high_voltage (V)</th>\n",
       "      <th>pulse</th>\n",
       "      <th>start_counter</th>\n",
       "      <th>t_c (ns)</th>\n",
       "      <th>t (ns)</th>\n",
       "      <th>x_det (cm)</th>\n",
       "      <th>y_det (cm)</th>\n",
       "      <th>pulse_pi</th>\n",
       "      <th>ion_pp</th>\n",
       "    </tr>\n",
       "  </thead>\n",
       "  <tbody>\n",
       "    <tr>\n",
       "      <th>0</th>\n",
       "      <td>8.639271</td>\n",
       "      <td>-22.420346</td>\n",
       "      <td>4.526197</td>\n",
       "      <td>26.999754</td>\n",
       "      <td>28.556046</td>\n",
       "      <td>5018.839844</td>\n",
       "      <td>1003.768005</td>\n",
       "      <td>6860</td>\n",
       "      <td>0.0</td>\n",
       "      <td>617.933228</td>\n",
       "      <td>1.080816</td>\n",
       "      <td>-2.804898</td>\n",
       "      <td>0</td>\n",
       "      <td>0</td>\n",
       "    </tr>\n",
       "    <tr>\n",
       "      <th>1</th>\n",
       "      <td>-13.315262</td>\n",
       "      <td>3.781210</td>\n",
       "      <td>1.466954</td>\n",
       "      <td>27.403896</td>\n",
       "      <td>30.019277</td>\n",
       "      <td>5018.839844</td>\n",
       "      <td>1003.768005</td>\n",
       "      <td>6949</td>\n",
       "      <td>0.0</td>\n",
       "      <td>618.173279</td>\n",
       "      <td>-1.609796</td>\n",
       "      <td>0.457143</td>\n",
       "      <td>89</td>\n",
       "      <td>2</td>\n",
       "    </tr>\n",
       "    <tr>\n",
       "      <th>2</th>\n",
       "      <td>-10.068775</td>\n",
       "      <td>21.963494</td>\n",
       "      <td>4.578796</td>\n",
       "      <td>113.503393</td>\n",
       "      <td>126.272476</td>\n",
       "      <td>5018.839844</td>\n",
       "      <td>1003.768005</td>\n",
       "      <td>7911</td>\n",
       "      <td>0.0</td>\n",
       "      <td>1253.614990</td>\n",
       "      <td>-1.260408</td>\n",
       "      <td>2.749388</td>\n",
       "      <td>962</td>\n",
       "      <td>1</td>\n",
       "    </tr>\n",
       "    <tr>\n",
       "      <th>3</th>\n",
       "      <td>-13.534804</td>\n",
       "      <td>7.211387</td>\n",
       "      <td>1.805480</td>\n",
       "      <td>27.022691</td>\n",
       "      <td>29.652876</td>\n",
       "      <td>5018.839844</td>\n",
       "      <td>1003.768005</td>\n",
       "      <td>8223</td>\n",
       "      <td>0.0</td>\n",
       "      <td>616.177612</td>\n",
       "      <td>-1.642449</td>\n",
       "      <td>0.875102</td>\n",
       "      <td>312</td>\n",
       "      <td>1</td>\n",
       "    </tr>\n",
       "    <tr>\n",
       "      <th>4</th>\n",
       "      <td>12.235849</td>\n",
       "      <td>19.036460</td>\n",
       "      <td>3.998454</td>\n",
       "      <td>27.067992</td>\n",
       "      <td>29.081018</td>\n",
       "      <td>5018.839844</td>\n",
       "      <td>1003.768005</td>\n",
       "      <td>8328</td>\n",
       "      <td>0.0</td>\n",
       "      <td>620.703857</td>\n",
       "      <td>1.521633</td>\n",
       "      <td>2.367347</td>\n",
       "      <td>105</td>\n",
       "      <td>1</td>\n",
       "    </tr>\n",
       "    <tr>\n",
       "      <th>...</th>\n",
       "      <td>...</td>\n",
       "      <td>...</td>\n",
       "      <td>...</td>\n",
       "      <td>...</td>\n",
       "      <td>...</td>\n",
       "      <td>...</td>\n",
       "      <td>...</td>\n",
       "      <td>...</td>\n",
       "      <td>...</td>\n",
       "      <td>...</td>\n",
       "      <td>...</td>\n",
       "      <td>...</td>\n",
       "      <td>...</td>\n",
       "      <td>...</td>\n",
       "    </tr>\n",
       "    <tr>\n",
       "      <th>10657311</th>\n",
       "      <td>2.533200</td>\n",
       "      <td>-2.602603</td>\n",
       "      <td>56.004683</td>\n",
       "      <td>26.701804</td>\n",
       "      <td>28.812703</td>\n",
       "      <td>6350.299805</td>\n",
       "      <td>1270.060059</td>\n",
       "      <td>4967</td>\n",
       "      <td>0.0</td>\n",
       "      <td>538.353027</td>\n",
       "      <td>0.238367</td>\n",
       "      <td>-0.244898</td>\n",
       "      <td>15</td>\n",
       "      <td>2</td>\n",
       "    </tr>\n",
       "    <tr>\n",
       "      <th>10657312</th>\n",
       "      <td>-8.158685</td>\n",
       "      <td>-13.472115</td>\n",
       "      <td>57.423538</td>\n",
       "      <td>14.057703</td>\n",
       "      <td>15.092135</td>\n",
       "      <td>6350.299805</td>\n",
       "      <td>1270.060059</td>\n",
       "      <td>4987</td>\n",
       "      <td>0.0</td>\n",
       "      <td>404.381958</td>\n",
       "      <td>-0.777143</td>\n",
       "      <td>-1.283265</td>\n",
       "      <td>20</td>\n",
       "      <td>1</td>\n",
       "    </tr>\n",
       "    <tr>\n",
       "      <th>10657313</th>\n",
       "      <td>-7.322665</td>\n",
       "      <td>-15.124382</td>\n",
       "      <td>57.632844</td>\n",
       "      <td>27.075017</td>\n",
       "      <td>29.215558</td>\n",
       "      <td>6350.299805</td>\n",
       "      <td>1270.060059</td>\n",
       "      <td>5041</td>\n",
       "      <td>0.0</td>\n",
       "      <td>546.850037</td>\n",
       "      <td>-0.698776</td>\n",
       "      <td>-1.443265</td>\n",
       "      <td>54</td>\n",
       "      <td>1</td>\n",
       "    </tr>\n",
       "    <tr>\n",
       "      <th>10657314</th>\n",
       "      <td>24.559840</td>\n",
       "      <td>14.523208</td>\n",
       "      <td>60.948283</td>\n",
       "      <td>27.203200</td>\n",
       "      <td>28.946840</td>\n",
       "      <td>6350.299805</td>\n",
       "      <td>1270.060059</td>\n",
       "      <td>5094</td>\n",
       "      <td>0.0</td>\n",
       "      <td>555.161987</td>\n",
       "      <td>2.413061</td>\n",
       "      <td>1.426939</td>\n",
       "      <td>53</td>\n",
       "      <td>1</td>\n",
       "    </tr>\n",
       "    <tr>\n",
       "      <th>10657315</th>\n",
       "      <td>-7.289795</td>\n",
       "      <td>-15.024507</td>\n",
       "      <td>57.611527</td>\n",
       "      <td>13.598842</td>\n",
       "      <td>14.574209</td>\n",
       "      <td>6350.299805</td>\n",
       "      <td>1270.060059</td>\n",
       "      <td>5148</td>\n",
       "      <td>0.0</td>\n",
       "      <td>398.525238</td>\n",
       "      <td>-0.695510</td>\n",
       "      <td>-1.433469</td>\n",
       "      <td>54</td>\n",
       "      <td>1</td>\n",
       "    </tr>\n",
       "  </tbody>\n",
       "</table>\n",
       "<p>10657316 rows × 14 columns</p>\n",
       "</div>"
      ],
      "text/plain": [
       "             x (nm)     y (nm)     z (nm)   mc_c (Da)     mc (Da)  \\\n",
       "0          8.639271 -22.420346   4.526197   26.999754   28.556046   \n",
       "1        -13.315262   3.781210   1.466954   27.403896   30.019277   \n",
       "2        -10.068775  21.963494   4.578796  113.503393  126.272476   \n",
       "3        -13.534804   7.211387   1.805480   27.022691   29.652876   \n",
       "4         12.235849  19.036460   3.998454   27.067992   29.081018   \n",
       "...             ...        ...        ...         ...         ...   \n",
       "10657311   2.533200  -2.602603  56.004683   26.701804   28.812703   \n",
       "10657312  -8.158685 -13.472115  57.423538   14.057703   15.092135   \n",
       "10657313  -7.322665 -15.124382  57.632844   27.075017   29.215558   \n",
       "10657314  24.559840  14.523208  60.948283   27.203200   28.946840   \n",
       "10657315  -7.289795 -15.024507  57.611527   13.598842   14.574209   \n",
       "\n",
       "          high_voltage (V)        pulse  start_counter  t_c (ns)       t (ns)  \\\n",
       "0              5018.839844  1003.768005           6860       0.0   617.933228   \n",
       "1              5018.839844  1003.768005           6949       0.0   618.173279   \n",
       "2              5018.839844  1003.768005           7911       0.0  1253.614990   \n",
       "3              5018.839844  1003.768005           8223       0.0   616.177612   \n",
       "4              5018.839844  1003.768005           8328       0.0   620.703857   \n",
       "...                    ...          ...            ...       ...          ...   \n",
       "10657311       6350.299805  1270.060059           4967       0.0   538.353027   \n",
       "10657312       6350.299805  1270.060059           4987       0.0   404.381958   \n",
       "10657313       6350.299805  1270.060059           5041       0.0   546.850037   \n",
       "10657314       6350.299805  1270.060059           5094       0.0   555.161987   \n",
       "10657315       6350.299805  1270.060059           5148       0.0   398.525238   \n",
       "\n",
       "          x_det (cm)  y_det (cm)  pulse_pi  ion_pp  \n",
       "0           1.080816   -2.804898         0       0  \n",
       "1          -1.609796    0.457143        89       2  \n",
       "2          -1.260408    2.749388       962       1  \n",
       "3          -1.642449    0.875102       312       1  \n",
       "4           1.521633    2.367347       105       1  \n",
       "...              ...         ...       ...     ...  \n",
       "10657311    0.238367   -0.244898        15       2  \n",
       "10657312   -0.777143   -1.283265        20       1  \n",
       "10657313   -0.698776   -1.443265        54       1  \n",
       "10657314    2.413061    1.426939        53       1  \n",
       "10657315   -0.695510   -1.433469        54       1  \n",
       "\n",
       "[10657316 rows x 14 columns]"
      ]
     },
     "execution_count": 12,
     "metadata": {},
     "output_type": "execute_result"
    }
   ],
   "source": [
    "data"
   ]
  },
  {
   "cell_type": "code",
   "execution_count": 24,
   "metadata": {
    "tags": []
   },
   "outputs": [
    {
     "data": {
      "text/html": [
       "<style type=\"text/css\">\n",
       "#T_a2121_row0_col5 {\n",
       "  background-color: #b2aa2d;\n",
       "  width: 50px;\n",
       "  height: 20px;\n",
       "}\n",
       "#T_a2121_row1_col5, #T_a2121_row2_col5 {\n",
       "  background-color: #e7e0d1;\n",
       "  width: 50px;\n",
       "  height: 20px;\n",
       "}\n",
       "</style>\n",
       "<table id=\"T_a2121\">\n",
       "  <thead>\n",
       "    <tr>\n",
       "      <th class=\"blank level0\" >&nbsp;</th>\n",
       "      <th id=\"T_a2121_level0_col0\" class=\"col_heading level0 col0\" >ion</th>\n",
       "      <th id=\"T_a2121_level0_col1\" class=\"col_heading level0 col1\" >mass</th>\n",
       "      <th id=\"T_a2121_level0_col2\" class=\"col_heading level0 col2\" >mc</th>\n",
       "      <th id=\"T_a2121_level0_col3\" class=\"col_heading level0 col3\" >mc_low</th>\n",
       "      <th id=\"T_a2121_level0_col4\" class=\"col_heading level0 col4\" >mc_up</th>\n",
       "      <th id=\"T_a2121_level0_col5\" class=\"col_heading level0 col5\" >color</th>\n",
       "      <th id=\"T_a2121_level0_col6\" class=\"col_heading level0 col6\" >peak_count</th>\n",
       "      <th id=\"T_a2121_level0_col7\" class=\"col_heading level0 col7\" >element</th>\n",
       "      <th id=\"T_a2121_level0_col8\" class=\"col_heading level0 col8\" >complex</th>\n",
       "      <th id=\"T_a2121_level0_col9\" class=\"col_heading level0 col9\" >isotope</th>\n",
       "      <th id=\"T_a2121_level0_col10\" class=\"col_heading level0 col10\" >charge</th>\n",
       "    </tr>\n",
       "  </thead>\n",
       "  <tbody>\n",
       "    <tr>\n",
       "      <th id=\"T_a2121_level0_row0\" class=\"row_heading level0 row0\" >0</th>\n",
       "      <td id=\"T_a2121_row0_col0\" class=\"data row0 col0\" >${}^{1}H^{+}$</td>\n",
       "      <td id=\"T_a2121_row0_col1\" class=\"data row0 col1\" >1.010000</td>\n",
       "      <td id=\"T_a2121_row0_col2\" class=\"data row0 col2\" >1.061654</td>\n",
       "      <td id=\"T_a2121_row0_col3\" class=\"data row0 col3\" >0.919950</td>\n",
       "      <td id=\"T_a2121_row0_col4\" class=\"data row0 col4\" >1.184933</td>\n",
       "      <td id=\"T_a2121_row0_col5\" class=\"data row0 col5\" >#b2aa2d</td>\n",
       "      <td id=\"T_a2121_row0_col6\" class=\"data row0 col6\" >3012</td>\n",
       "      <td id=\"T_a2121_row0_col7\" class=\"data row0 col7\" >H</td>\n",
       "      <td id=\"T_a2121_row0_col8\" class=\"data row0 col8\" >1</td>\n",
       "      <td id=\"T_a2121_row0_col9\" class=\"data row0 col9\" >1</td>\n",
       "      <td id=\"T_a2121_row0_col10\" class=\"data row0 col10\" >1</td>\n",
       "    </tr>\n",
       "    <tr>\n",
       "      <th id=\"T_a2121_level0_row1\" class=\"row_heading level0 row1\" >1</th>\n",
       "      <td id=\"T_a2121_row1_col0\" class=\"data row1 col0\" >${}^{27}Al^{2+}$</td>\n",
       "      <td id=\"T_a2121_row1_col1\" class=\"data row1 col1\" >13.490000</td>\n",
       "      <td id=\"T_a2121_row1_col2\" class=\"data row1 col2\" >13.473593</td>\n",
       "      <td id=\"T_a2121_row1_col3\" class=\"data row1 col3\" >13.911091</td>\n",
       "      <td id=\"T_a2121_row1_col4\" class=\"data row1 col4\" >15.661570</td>\n",
       "      <td id=\"T_a2121_row1_col5\" class=\"data row1 col5\" >#e7e0d1</td>\n",
       "      <td id=\"T_a2121_row1_col6\" class=\"data row1 col6\" >308876</td>\n",
       "      <td id=\"T_a2121_row1_col7\" class=\"data row1 col7\" >Al</td>\n",
       "      <td id=\"T_a2121_row1_col8\" class=\"data row1 col8\" >1</td>\n",
       "      <td id=\"T_a2121_row1_col9\" class=\"data row1 col9\" >27</td>\n",
       "      <td id=\"T_a2121_row1_col10\" class=\"data row1 col10\" >2</td>\n",
       "    </tr>\n",
       "    <tr>\n",
       "      <th id=\"T_a2121_level0_row2\" class=\"row_heading level0 row2\" >2</th>\n",
       "      <td id=\"T_a2121_row2_col0\" class=\"data row2 col0\" >${}^{27}Al^{+}$</td>\n",
       "      <td id=\"T_a2121_row2_col1\" class=\"data row2 col1\" >26.980000</td>\n",
       "      <td id=\"T_a2121_row2_col2\" class=\"data row2 col2\" >26.986591</td>\n",
       "      <td id=\"T_a2121_row2_col3\" class=\"data row2 col3\" >27.991873</td>\n",
       "      <td id=\"T_a2121_row2_col4\" class=\"data row2 col4\" >31.524390</td>\n",
       "      <td id=\"T_a2121_row2_col5\" class=\"data row2 col5\" >#e7e0d1</td>\n",
       "      <td id=\"T_a2121_row2_col6\" class=\"data row2 col6\" >3471638</td>\n",
       "      <td id=\"T_a2121_row2_col7\" class=\"data row2 col7\" >Al</td>\n",
       "      <td id=\"T_a2121_row2_col8\" class=\"data row2 col8\" >1</td>\n",
       "      <td id=\"T_a2121_row2_col9\" class=\"data row2 col9\" >27</td>\n",
       "      <td id=\"T_a2121_row2_col10\" class=\"data row2 col10\" >1</td>\n",
       "    </tr>\n",
       "  </tbody>\n",
       "</table>\n"
      ],
      "text/plain": [
       "<pandas.io.formats.style.Styler at 0x1e92f2580a0>"
      ]
     },
     "metadata": {},
     "output_type": "display_data"
    }
   ],
   "source": [
    "if 'range_path' in locals():\n",
    "    variables.range_data = data_tools.read_hdf5_through_pandas(range_path)\n",
    "\n",
    "else:\n",
    "    variables.range_data = pd.DataFrame({\"ion\": ['unranged'], \"mass\": [0], \"mc\": [0], \"mass\": [0], \"mc_low\": min(variables.mc_calib), \"mc_up\": max(variables.mc_calib), \"color\": ['#000000'], \"element\": ['unranged'],\n",
    "                                        \"complex\": [0], \"isotop\": [0], \"charge\": [0]})\n",
    "\n",
    "if variables.range_data.empty:\n",
    "    element_percentage = str([0.01])\n",
    "else:\n",
    "    element_percentage = [0.01] * len(variables.range_data['element'].tolist())\n",
    "    element_percentage = str(element_percentage)\n",
    "    \n",
    "display(variables.range_data.style.applymap(ion_selection.display_color, subset=['color']))\n"
   ]
  },
  {
   "cell_type": "code",
   "execution_count": 25,
   "metadata": {
    "tags": []
   },
   "outputs": [
    {
     "data": {
      "application/vnd.jupyter.widget-view+json": {
       "model_id": "b0b5a2ad543449e9965a6d9077359f2c",
       "version_major": 2,
       "version_minor": 0
      },
      "text/plain": [
       "VBox(children=(ColorPicker(value='black', description='Select a color:'), IntText(value=0, description='index …"
      ]
     },
     "metadata": {},
     "output_type": "display_data"
    },
    {
     "data": {
      "application/vnd.jupyter.widget-view+json": {
       "model_id": "e30a9a3215794c32ba06cd9d8ed5f559",
       "version_major": 2,
       "version_minor": 0
      },
      "text/plain": [
       "Output()"
      ]
     },
     "metadata": {},
     "output_type": "display_data"
    }
   ],
   "source": [
    "change_color = widgets.Button(\n",
    "    description='change color',\n",
    ")\n",
    "color_picker = widgets.ColorPicker(description='Select a color:')\n",
    "row_index = widgets.IntText(value=0, description='index row:')\n",
    "@change_color.on_click\n",
    "def change_color_m(b,):\n",
    "    with out:\n",
    "        selected_color = mcolors.to_hex(color_picker.value)\n",
    "        variables.range_data.at[row_index.value, 'color'] = selected_color\n",
    "        clear_output(True)\n",
    "        display(variables.range_data.style.applymap(ion_selection.display_color, subset=['color']))\n",
    "        \n",
    "# Create a container for the widgets\n",
    "container = widgets.VBox([color_picker, row_index, change_color])\n",
    "out = Output()\n",
    "# Display the widgets\n",
    "display(container, out)"
   ]
  },
  {
   "cell_type": "code",
   "execution_count": 47,
   "metadata": {},
   "outputs": [
    {
     "data": {
      "application/vnd.jupyter.widget-view+json": {
       "model_id": "de82f50f77b44a299f6b1be32443a67d",
       "version_major": 2,
       "version_minor": 0
      },
      "image/png": "[encoded data removed]",
      "text/html": [
       "\n",
       "            <div style=\"display: inline-block;\">\n",
       "                <div class=\"jupyter-widgets widget-label\" style=\"text-align: center;\">\n",
       "                    Figure\n",
       "                </div>\n",
       "                <img src='data:image/png;base64,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' width=900.0/>\n",
       "            </div>\n",
       "        "
      ],
      "text/plain": [
       "Canvas(toolbar=Toolbar(toolitems=[('Home', 'Reset original view', 'home', 'home'), ('Back', 'Back to previous …"
      ]
     },
     "metadata": {},
     "output_type": "display_data"
    },
    {
     "name": "stdout",
     "output_type": "stream",
     "text": [
      "The peak index for MRP calculation is: 4\n"
     ]
    }
   ],
   "source": [
    "from pyccapt.calibration.calibration_tools import mc_plot\n",
    "\n",
    "mc_hist = mc_plot.AptHistPlotter(variables.mc_calib[variables.mc_calib < 40], variables)\n",
    "mc_hist.plot_histogram(bin_width=0.1, label='mc', log=True, fig_size=(9, 5))\n",
    "mc_hist.find_peaks_and_widths(prominence=100, distance=10, percent=50)\n",
    "mc_hist.plot_peaks()\n",
    "mc_hist.plot_hist_info_legend(label='mc', bin=0.1, background=None, loc='right')\n",
    "mc_hist.adjust_labels()\n",
    "mc_hist.selector(selector='peak') # rect, peak, range\n",
    "mc_hist.save_fig(label='mc', fig_name='mc')\n",
    "# mc_hist.plot_range(range_data=variables.range_data, legend=True)\n",
    "# plot_color_legend(loc='upper right')\n",
    "\n",
    "# mc_hist.plot_background(mode, non_peaks=None, lam=5e10, tol=1e-1, max_iter=100, num_std=3, poly_order=5, plot_no_back=True, plot=True, patch=True) #mode = aspls, fabc, dietrich, cwt_br, selective_mask_t, "
   ]
  },
  {
   "cell_type": "markdown",
   "metadata": {},
   "source": [
    "$$\\textbf{You can specify which dataset to use in below block}$$"
   ]
  },
  {
   "cell_type": "code",
   "execution_count": 26,
   "metadata": {
    "tags": []
   },
   "outputs": [
    {
     "data": {
      "application/vnd.jupyter.widget-view+json": {
       "model_id": "94f81a9e100c4b4ca7cf037ceaa34b14",
       "version_major": 2,
       "version_minor": 0
      },
      "text/plain": [
       "interactive(children=(FloatText(value=0.1, description='bin_size'), IntText(value=400, description='lim_mc'), …"
      ]
     },
     "metadata": {},
     "output_type": "display_data"
    }
   ],
   "source": [
    "def mc_hist_plot(bin_size, lim_mc, peaks_find, ranging, hist_color_range, figname):\n",
    "    peaks_ini, peaks_y_ini, peak_widths_p_ini, _ = tools.hist_plot(variables.mc_c[variables.mc_c < lim_mc], variables, bin=bin_size, range_data=variables.range_data, ranging=ranging, hist_color_range=hist_color_range, adjust_label=False, peaks_find=peaks_find, peaks_find_plot=True, plot=True, label='mc', fig_name=figname)\n",
    "   \n",
    "interact_manual(mc_hist_plot, bin_size=widgets.FloatText(value=0.1), lim_mc=widgets.IntText(value=400), ranging=widgets.Dropdown(options=[('False', False),('True', True)]),\n",
    "                peaks_find=widgets.Dropdown(options=[('True', True), ('False', False)]),\n",
    "                hist_color_range=widgets.Dropdown(options=[('True', True), ('False', False)])\n",
    "                , figname=widgets.Text(value='mc'));"
   ]
  },
  {
   "cell_type": "code",
   "execution_count": 12,
   "metadata": {
    "tags": []
   },
   "outputs": [
    {
     "ename": "NameError",
     "evalue": "name 'element_percentage' is not defined",
     "output_type": "error",
     "traceback": [
      "\u001b[1;31m---------------------------------------------------------------------------\u001b[0m",
      "\u001b[1;31mNameError\u001b[0m                                 Traceback (most recent call last)",
      "Cell \u001b[1;32mIn[12], line 21\u001b[0m\n\u001b[0;32m     19\u001b[0m selected_area_p3\u001b[38;5;241m=\u001b[39mwidgets\u001b[38;5;241m.\u001b[39mDropdown(options\u001b[38;5;241m=\u001b[39m[(\u001b[38;5;124m'\u001b[39m\u001b[38;5;124mFalse\u001b[39m\u001b[38;5;124m'\u001b[39m, \u001b[38;5;28;01mFalse\u001b[39;00m), (\u001b[38;5;124m'\u001b[39m\u001b[38;5;124mTrue\u001b[39m\u001b[38;5;124m'\u001b[39m, \u001b[38;5;28;01mTrue\u001b[39;00m)], description\u001b[38;5;241m=\u001b[39m\u001b[38;5;124m'\u001b[39m\u001b[38;5;124mSelected area\u001b[39m\u001b[38;5;124m'\u001b[39m)\n\u001b[0;32m     20\u001b[0m rotary_fig_save_p3\u001b[38;5;241m=\u001b[39mwidgets\u001b[38;5;241m.\u001b[39mDropdown(options\u001b[38;5;241m=\u001b[39m[(\u001b[38;5;124m'\u001b[39m\u001b[38;5;124mTrue\u001b[39m\u001b[38;5;124m'\u001b[39m, \u001b[38;5;28;01mTrue\u001b[39;00m), (\u001b[38;5;124m'\u001b[39m\u001b[38;5;124mFalse\u001b[39m\u001b[38;5;124m'\u001b[39m, \u001b[38;5;28;01mFalse\u001b[39;00m)], description\u001b[38;5;241m=\u001b[39m\u001b[38;5;124m'\u001b[39m\u001b[38;5;124mRotary save\u001b[39m\u001b[38;5;124m'\u001b[39m)\n\u001b[1;32m---> 21\u001b[0m element_percentage_p3\u001b[38;5;241m=\u001b[39mwidgets\u001b[38;5;241m.\u001b[39mTextarea(value\u001b[38;5;241m=\u001b[39m\u001b[43melement_percentage\u001b[49m, description\u001b[38;5;241m=\u001b[39m\u001b[38;5;124m'\u001b[39m\u001b[38;5;124mElement percentage\u001b[39m\u001b[38;5;124m'\u001b[39m)\n\u001b[0;32m     22\u001b[0m \u001b[38;5;129m@plot_3d_button\u001b[39m\u001b[38;5;241m.\u001b[39mon_click\n\u001b[0;32m     23\u001b[0m \u001b[38;5;28;01mdef\u001b[39;00m \u001b[38;5;21mplot_3d\u001b[39m(b):\n\u001b[0;32m     24\u001b[0m     \u001b[38;5;28;01mwith\u001b[39;00m out:\n",
      "\u001b[1;31mNameError\u001b[0m: name 'element_percentage' is not defined"
     ]
    }
   ],
   "source": [
    "plot_3d_button = widgets.Button(\n",
    "    description='plot 3D',\n",
    ")\n",
    "plot_heatmap_button = widgets.Button(\n",
    "    description='plot heatmap',\n",
    ")\n",
    "plot_mc_button = widgets.Button(\n",
    "    description='plot mc',\n",
    ")\n",
    "plot_projection_button = widgets.Button(\n",
    "    description='plot projection',\n",
    ")\n",
    "\n",
    "clear_button = widgets.Button(\n",
    "    description='Clear plots',\n",
    ")\n",
    "\n",
    "figname_3d=widgets.Text(value='3d_plot', description='fig name')\n",
    "selected_area_p3=widgets.Dropdown(options=[('False', False), ('True', True)], description='Selected area')\n",
    "rotary_fig_save_p3=widgets.Dropdown(options=[('True', True), ('False', False)], description='Rotary save')\n",
    "element_percentage_p3=widgets.Textarea(value=element_percentage, description='Element percentage')\n",
    "@plot_3d_button.on_click\n",
    "def plot_3d(b):\n",
    "    with out:\n",
    "        if selected_area_p3.value:\n",
    "            variables.selected_z1 = variables.selected_y1\n",
    "            variables.selected_z2 = variables.selected_y2\n",
    "            variables.selected_y1 = variables.selected_x1\n",
    "            variables.selected_y2 = variables.selected_x2\n",
    "            print('Min x (nm):', variables.selected_x1, 'Max x (nm):', variables.selected_x2)\n",
    "            print('Min y (nm):', variables.selected_y1, 'Max y (nm):', variables.selected_y2)\n",
    "            print('Min z (nm):', variables.selected_z1, 'Max z (nm):', variables.selected_z2)\n",
    "        reconstruction.reconstruction_plot(variables, element_percentage_p3.value, rotary_fig_save_p3.value, selected_area_p3.value, figname_3d.value)\n",
    "\n",
    "selected_area_ph=widgets.Dropdown(options=[('False', False), ('True', True)], description='Selected area')\n",
    "element_percentage_ph=widgets.Textarea(value=element_percentage, description='Element percentage')\n",
    "figname_heatmap=widgets.Text(value='heatmap', description='fig name')\n",
    "@plot_heatmap_button.on_click\n",
    "def plot_heatmap(b, variables=variables):\n",
    "    with out:\n",
    "        if selected_area_ph.value:\n",
    "            variables.selected_z1 = variables.selected_y1\n",
    "            variables.selected_z2 = variables.selected_y2\n",
    "            variables.selected_y1 = variables.selected_x1\n",
    "            variables.selected_y2 = variables.selected_x2\n",
    "            print('Min x (nm):', variables.selected_x1, 'Max x (nm):', variables.selected_x2)\n",
    "            print('Min y (nm):', variables.selected_y1, 'Max y (nm):', variables.selected_y2)\n",
    "            print('Min z (nm):', variables.selected_z1, 'Max z (nm):', variables.selected_z2)\n",
    "\n",
    "        reconstruction.heatmap(variables, selected_area_ph.value, element_percentage_ph.value, save=True)\n",
    "\n",
    "selected_area_pm=widgets.Dropdown(options=[('False', False), ('True', True)], description='Selected area')\n",
    "peak_find_plot=widgets.Dropdown(options=[('False', False), ('True', True)], description='peak find')\n",
    "rangging=widgets.Dropdown(options=[('False', False), ('True', True)], description='rangging')\n",
    "range_file_exist_pm=widgets.Dropdown(options=[('True', True), ('False', False)], description='Range exist')\n",
    "bin_size_pm = widgets.FloatText(value=0.1, description='Bins size')\n",
    "lim_mc_pm = widgets.IntText(value=150, description='Limit mc')\n",
    "hist_color_range=widgets.Dropdown(options=[('True', True), ('False', False)], description='hist color')\n",
    "figname_mc=widgets.Text(value='mc', description='fig name')\n",
    "@plot_mc_button.on_click\n",
    "def plot_mc(b,):\n",
    "    with out:\n",
    "        if selected_area_pm.value:\n",
    "            variables.selected_z1 = variables.selected_y1\n",
    "            variables.selected_z2 = variables.selected_y2\n",
    "            variables.selected_y1 = variables.selected_x1\n",
    "            variables.selected_y2 = variables.selected_x2\n",
    "            print('Min x (nm):', variables.selected_x1, 'Max x (nm):', variables.selected_x2)\n",
    "            print('Min y (nm):', variables.selected_y1, 'Max y (nm):', variables.selected_y2)\n",
    "            print('Min z (nm):', variables.selected_z1, 'Max z (nm):', variables.selected_z2)\n",
    "\n",
    "        peaks_ini, peaks_y_ini, peak_widths_p_ini, _ = tools.hist_plot(variables.mc_c[variables.mc_c < lim_mc_pm.value], variables, bin=bin_size_pm.value, range_data=variables.range_data, \n",
    "                                                               ranging=rangging.value, hist_color_range=hist_color_range.value, adjust_label=False, peaks_find=True, peaks_find_plot=peak_find_plot.value, plot=True, label='mc', fig_name=figname_mc.value)\n",
    "\n",
    "\n",
    "element_percentage_pp=widgets.Textarea(value=element_percentage, description='Element percentage')\n",
    "selected_area_pp=widgets.Dropdown(options=[('False', False), ('True', True)], description='Selected area')\n",
    "x_or_y_pp=widgets.Dropdown(options=['x', 'y'], value='x', description='X or Y')\n",
    "figname_p = widgets.Text(value='projection', description='fig name')\n",
    "@plot_projection_button.on_click\n",
    "def plot_projection(b,):\n",
    "    with out:\n",
    "        if selected_area_pp.value:\n",
    "            variables.selected_z1 = variables.selected_y1\n",
    "            variables.selected_z2 = variables.selected_y2\n",
    "            variables.selected_y1 = variables.selected_x1\n",
    "            variables.selected_y2 = variables.selected_x2\n",
    "            print('Min x (nm):', variables.selected_x1, 'Max x (nm):', variables.selected_x2)\n",
    "            print('Min y (nm):', variables.selected_y1, 'Max y (nm):', variables.selected_y2)\n",
    "            print('Min z (nm):', variables.selected_z1, 'Max z (nm):', variables.selected_z2)\n",
    "\n",
    "        reconstruction.projection(variables, element_percentage_pp.value, selected_area_pp.value, x_or_y_pp.value, figname_p.value)\n",
    "\n",
    "@clear_button.on_click\n",
    "def clear(b,):\n",
    "    with out:\n",
    "        clear_output(True)\n",
    "        print('')\n",
    "\n",
    "\n",
    "tab1 = VBox(children=[selected_area_pp, x_or_y_pp, element_percentage_pp, figname_p, plot_projection_button, clear_button])\n",
    "tab2 = VBox(children=[selected_area_p3, rotary_fig_save_p3, element_percentage_p3, figname_3d, plot_3d_button, clear_button])\n",
    "tab3 = VBox(children=[selected_area_pm, bin_size_pm, lim_mc_pm, peak_find_plot, rangging, hist_color_range, figname_mc, plot_mc_button, clear_button])\n",
    "tab4 = VBox(children=[selected_area_ph, element_percentage_ph, figname_heatmap, plot_heatmap_button, clear_button])\n",
    "# tab2 = VBox(children=[VBox(children=[HBox(children=[plot_3d_button, selected_area_p3, range_file_exist_p3, rotary_fig_save_p3, element_percentage_p3]),\n",
    "#                                      HBox(children=[plot_heatmap_button, selected_area_ph, element_percentage_ph]),\n",
    "#                                      HBox(children=[plot_mc_button, selected_area_pm, range_file_exist_pm, bin_size_pm, prominence_pm, distance_pm, lim_mc_pm, percent_pm]), \n",
    "#                                      HBox(children=[plot_projection_button, selected_area_pp, x_or_y_pp, element_percentage_pp])]), clear_button])\n",
    "\n",
    "\n",
    "tab = widgets.Tab(children=[tab1, tab2, tab3, tab4])\n",
    "tab.set_title(0, 'projection')\n",
    "tab.set_title(1, '3d plot')\n",
    "tab.set_title(2, 'mc plot')\n",
    "tab.set_title(3, 'heatmap plot')\n",
    "\n",
    "\n",
    "\n",
    "display(VBox(children=[tab]))\n",
    "out = Output()\n",
    "display(out)"
   ]
  }
 ],
 "metadata": {
  "kernelspec": {
   "display_name": "Python 3 (ipykernel)",
   "language": "python",
   "name": "python3"
  },
  "language_info": {
   "codemirror_mode": {
    "name": "ipython",
    "version": 3
   },
   "file_extension": ".py",
   "mimetype": "text/x-python",
   "name": "python",
   "nbconvert_exporter": "python",
   "pygments_lexer": "ipython3",
   "version": "3.8.13"
  },
  "widgets": {
   "application/vnd.jupyter.widget-state+json": {
    "state": {},
    "version_major": 2,
    "version_minor": 0
   }
  }
 },
 "nbformat": 4,
 "nbformat_minor": 4
}

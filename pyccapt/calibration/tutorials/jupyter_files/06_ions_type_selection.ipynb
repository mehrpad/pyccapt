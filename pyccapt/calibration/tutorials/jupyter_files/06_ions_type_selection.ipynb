{
 "cells": [
  {
   "cell_type": "code",
   "execution_count": 1,
   "metadata": {
    "pycharm": {
     "name": "#%%\n"
    }
   },
   "outputs": [],
   "source": [
    "%matplotlib notebook\n",
    "import os\n",
    "import os.path as path\n",
    "import numpy as np\n",
    "from scipy.optimize import curve_fit\n",
    "from scipy import interpolate\n",
    "from sklearn.preprocessing import MinMaxScaler\n",
    "from mpl_toolkits.mplot3d import Axes3D\n",
    "import matplotlib.pyplot as plt\n",
    "import math \n",
    "from ipywidgets import interact, interactive, fixed, interact_manual, widgets\n",
    "import h5py\n",
    "\n",
    "from pyccapt.calibration.calibration_tools import tools, data_tools, variables, tof_calibration, data_loadcrop\n",
    "from pyccapt.calibration.calibration_tools import widgets as wd\n",
    "\n",
    "\n",
    "# The initial value for flight path length, which is the distance of local electrod to detector \n",
    "flightPathLength = 110 # mm \n",
    "# The initial value for t_0\n",
    "t0 = 51.74 # ns\n",
    "variables.init()\n",
    "\n"
   ]
  },
  {
   "cell_type": "code",
   "execution_count": 2,
   "metadata": {
    "pycharm": {
     "name": "#%%\n"
    }
   },
   "outputs": [],
   "source": [
    "number_sample = 300\n",
    "save_fig=False\n",
    "plot_fig=True "
   ]
  },
  {
   "cell_type": "code",
   "execution_count": null,
   "metadata": {},
   "outputs": [],
   "source": [
    "# dataset name\n",
    "# AL_data_b\n",
    "# OLO_AL_6_data\n",
    "# OLO_W_6_data\n",
    "# OLO_Ni_8_data\n",
    "# X6Cr17_2V30Min_5_data\n",
    "# data_1029_Jun-27-2022_15-53_Pd\n",
    "# data_115_Jul-27-2022_17-44_Powersweep3"
   ]
  },
  {
   "cell_type": "code",
   "execution_count": null,
   "metadata": {},
   "outputs": [],
   "source": [
    "tdc, dataset = widgets.dataset_tdc_selection()\n",
    "display(tdc, dataset)"
   ]
  },
  {
   "cell_type": "markdown",
   "metadata": {
    "pycharm": {
     "name": "#%% md\n"
    }
   },
   "source": [
    "$$\\textbf{You can specify which dataset to use in below block}$$"
   ]
  },
  {
   "cell_type": "code",
   "execution_count": 3,
   "metadata": {
    "pycharm": {
     "name": "#%%\n"
    }
   },
   "outputs": [],
   "source": [
    "tdc_model = tdc.value\n",
    "\n",
    "dataset_name = dataset.value\n",
    "\n",
    "p = path.abspath(path.join(\"\", \"../../../..\"))\n",
    "\n",
    "variables.init()\n",
    "\n",
    "path_main = os.path.join(p, 'tests//data')\n",
    "filename_main = path_main + '//' + dataset_name + '.h5'\n",
    "\n",
    "variables.path = os.path.join(p, 'tests//results//load_crop')\n",
    "variables.result_path = os.path.join(p, 'tests/results/ion_type_selection/' + dataset_name)\n",
    "if not os.path.isdir(variables.result_path):\n",
    "        os.makedirs(variables.result_path, mode=0o777, exist_ok=True)\n",
    "        \n",
    "filename = variables.path + '//' + dataset_name + '//' + dataset_name + '_cropped' + '.h5'\n",
    "\n",
    "\n",
    "\n",
    "head, tail = os.path.split(filename)\n",
    "figname = os.path.splitext(tail)[0]\n",
    "\n",
    "data = data_tools.read_hdf5_through_pandas(filename)\n",
    "\n",
    "\n",
    "dld_highVoltage = data['dld/high_voltage'].to_numpy()\n",
    "dld_pulseVoltage = data['dld/pulse_voltage'].to_numpy()\n",
    "dld_t = data['dld/t'].to_numpy()\n",
    "dld_x = data['dld/x'].to_numpy()\n",
    "dld_y = data['dld/y'].to_numpy()"
   ]
  },
  {
   "cell_type": "code",
   "execution_count": 4,
   "metadata": {
    "pycharm": {
     "name": "#%%\n"
    }
   },
   "outputs": [
    {
     "data": {
      "text/html": [
       "<div>\n",
       "<style scoped>\n",
       "    .dataframe tbody tr th:only-of-type {\n",
       "        vertical-align: middle;\n",
       "    }\n",
       "\n",
       "    .dataframe tbody tr th {\n",
       "        vertical-align: top;\n",
       "    }\n",
       "\n",
       "    .dataframe thead th {\n",
       "        text-align: right;\n",
       "    }\n",
       "</style>\n",
       "<table border=\"1\" class=\"dataframe\">\n",
       "  <thead>\n",
       "    <tr style=\"text-align: right;\">\n",
       "      <th></th>\n",
       "      <th>dld/high_voltage</th>\n",
       "      <th>dld/pulse_voltage</th>\n",
       "      <th>dld/start_counter</th>\n",
       "      <th>dld/t</th>\n",
       "      <th>dld/x</th>\n",
       "      <th>dld/y</th>\n",
       "    </tr>\n",
       "  </thead>\n",
       "  <tbody>\n",
       "    <tr>\n",
       "      <th>0</th>\n",
       "      <td>5267.498047</td>\n",
       "      <td>5267.498047</td>\n",
       "      <td>55251.0</td>\n",
       "      <td>622.754406</td>\n",
       "      <td>3.279184</td>\n",
       "      <td>4.170612</td>\n",
       "    </tr>\n",
       "    <tr>\n",
       "      <th>1</th>\n",
       "      <td>5267.498047</td>\n",
       "      <td>5267.498047</td>\n",
       "      <td>55287.0</td>\n",
       "      <td>638.987292</td>\n",
       "      <td>21.203265</td>\n",
       "      <td>-21.457959</td>\n",
       "    </tr>\n",
       "    <tr>\n",
       "      <th>2</th>\n",
       "      <td>5267.498047</td>\n",
       "      <td>5267.498047</td>\n",
       "      <td>55309.0</td>\n",
       "      <td>623.385342</td>\n",
       "      <td>5.953469</td>\n",
       "      <td>6.813061</td>\n",
       "    </tr>\n",
       "    <tr>\n",
       "      <th>3</th>\n",
       "      <td>5267.498047</td>\n",
       "      <td>5267.498047</td>\n",
       "      <td>56063.0</td>\n",
       "      <td>628.576848</td>\n",
       "      <td>17.955918</td>\n",
       "      <td>-11.620408</td>\n",
       "    </tr>\n",
       "    <tr>\n",
       "      <th>4</th>\n",
       "      <td>5267.498047</td>\n",
       "      <td>5267.498047</td>\n",
       "      <td>56440.0</td>\n",
       "      <td>634.749048</td>\n",
       "      <td>-21.903673</td>\n",
       "      <td>0.159184</td>\n",
       "    </tr>\n",
       "    <tr>\n",
       "      <th>...</th>\n",
       "      <td>...</td>\n",
       "      <td>...</td>\n",
       "      <td>...</td>\n",
       "      <td>...</td>\n",
       "      <td>...</td>\n",
       "      <td>...</td>\n",
       "    </tr>\n",
       "    <tr>\n",
       "      <th>1882844</th>\n",
       "      <td>5712.204590</td>\n",
       "      <td>5712.204590</td>\n",
       "      <td>43305.0</td>\n",
       "      <td>601.762068</td>\n",
       "      <td>2.069388</td>\n",
       "      <td>-6.335510</td>\n",
       "    </tr>\n",
       "    <tr>\n",
       "      <th>1882845</th>\n",
       "      <td>5712.204590</td>\n",
       "      <td>5712.204590</td>\n",
       "      <td>43628.0</td>\n",
       "      <td>621.602262</td>\n",
       "      <td>29.130612</td>\n",
       "      <td>16.937143</td>\n",
       "    </tr>\n",
       "    <tr>\n",
       "      <th>1882846</th>\n",
       "      <td>5712.204590</td>\n",
       "      <td>5712.204590</td>\n",
       "      <td>44204.0</td>\n",
       "      <td>604.141794</td>\n",
       "      <td>6.240000</td>\n",
       "      <td>-5.762449</td>\n",
       "    </tr>\n",
       "    <tr>\n",
       "      <th>1882847</th>\n",
       "      <td>5712.204590</td>\n",
       "      <td>5712.204590</td>\n",
       "      <td>44353.0</td>\n",
       "      <td>602.152974</td>\n",
       "      <td>1.146122</td>\n",
       "      <td>6.685714</td>\n",
       "    </tr>\n",
       "    <tr>\n",
       "      <th>1882848</th>\n",
       "      <td>5712.204590</td>\n",
       "      <td>5712.204590</td>\n",
       "      <td>44748.0</td>\n",
       "      <td>601.624908</td>\n",
       "      <td>10.951837</td>\n",
       "      <td>2.164898</td>\n",
       "    </tr>\n",
       "  </tbody>\n",
       "</table>\n",
       "<p>1882849 rows × 6 columns</p>\n",
       "</div>"
      ],
      "text/plain": [
       "         dld/high_voltage  dld/pulse_voltage  dld/start_counter       dld/t  \\\n",
       "0             5267.498047        5267.498047            55251.0  622.754406   \n",
       "1             5267.498047        5267.498047            55287.0  638.987292   \n",
       "2             5267.498047        5267.498047            55309.0  623.385342   \n",
       "3             5267.498047        5267.498047            56063.0  628.576848   \n",
       "4             5267.498047        5267.498047            56440.0  634.749048   \n",
       "...                   ...                ...                ...         ...   \n",
       "1882844       5712.204590        5712.204590            43305.0  601.762068   \n",
       "1882845       5712.204590        5712.204590            43628.0  621.602262   \n",
       "1882846       5712.204590        5712.204590            44204.0  604.141794   \n",
       "1882847       5712.204590        5712.204590            44353.0  602.152974   \n",
       "1882848       5712.204590        5712.204590            44748.0  601.624908   \n",
       "\n",
       "             dld/x      dld/y  \n",
       "0         3.279184   4.170612  \n",
       "1        21.203265 -21.457959  \n",
       "2         5.953469   6.813061  \n",
       "3        17.955918 -11.620408  \n",
       "4       -21.903673   0.159184  \n",
       "...            ...        ...  \n",
       "1882844   2.069388  -6.335510  \n",
       "1882845  29.130612  16.937143  \n",
       "1882846   6.240000  -5.762449  \n",
       "1882847   1.146122   6.685714  \n",
       "1882848  10.951837   2.164898  \n",
       "\n",
       "[1882849 rows x 6 columns]"
      ]
     },
     "execution_count": 4,
     "metadata": {},
     "output_type": "execute_result"
    }
   ],
   "source": [
    "data"
   ]
  },
  {
   "cell_type": "code",
   "execution_count": 20,
   "metadata": {
    "pycharm": {
     "name": "#%%\n"
    }
   },
   "outputs": [],
   "source": [
    "with h5py.File(filename_main, 'r') as hdf:\n",
    "    mc = np.array(hdf[\"cropped_dld/mc\"])"
   ]
  },
  {
   "cell_type": "code",
   "execution_count": 21,
   "metadata": {
    "pycharm": {
     "name": "#%%\n"
    }
   },
   "outputs": [],
   "source": [
    "def mc_his(bin_size, prominence, distance, percent, plot, figname, mc, mc_ideal):\n",
    "\n",
    "    bin_size = float(bin_size)\n",
    "    prominence = int(prominence)\n",
    "    distance = int(distance)\n",
    "    percent = int(percent)\n",
    "    if mc_ideal == True:\n",
    "        mc_ideal = np.array(variables.listMaterial)\n",
    "        print('List of mc are:', mc_ideal)\n",
    "    else:\n",
    "        mc_ideal = np.zeros(0)\n",
    "    max_hist, left_right_peaks, peaks_sides, max_paek_edges, index_max = tools.massSpecPlot(mc[mc < 100], bin_size, mc_ideal, distance=distance, percent=percent, prominence=prominence, plot=plot, label='tof', fig_name=figname)\n",
    "    mrp = (max_hist / (left_right_peaks[1] - left_right_peaks[0]))\n",
    "    print('Mass resolving power for the highest peak (MRP --> m/m_2-m_1):', mrp)\n",
    "    for i in range(len(peaks_sides)):\n",
    "        print('Peaks ', i, 'is: {:.2f}'.format(peaks_sides[i,0]), 'peak window sides are: {:.2f} - {:.2f}'.format(peaks_sides[i,2], peaks_sides[i,3]))\n",
    "    return peaks_sides"
   ]
  },
  {
   "cell_type": "code",
   "execution_count": 22,
   "metadata": {
    "pycharm": {
     "name": "#%%\n"
    },
    "scrolled": false
   },
   "outputs": [
    {
     "data": {
      "application/vnd.jupyter.widget-view+json": {
       "model_id": "4e68d310e74d4aadae64f6e4dd8a5334",
       "version_major": 2,
       "version_minor": 0
      },
      "text/plain": [
       "interactive(children=(Textarea(value='0.1', description='bin_size'), Textarea(value='60', description='promine…"
      ]
     },
     "metadata": {},
     "output_type": "display_data"
    }
   ],
   "source": [
    "peaks_sides = interact_manual(mc_his, bin_size=widgets.Textarea(value=\"0.1\")\n",
    "               ,prominence=widgets.Textarea(value=\"60\"), distance=widgets.Textarea(value=\"100\")\n",
    "               ,percent=widgets.Textarea(value=\"20\"), plot=fixed(True), mc=fixed(mc),  figname=fixed(figname)\n",
    "                , mc_ideal=[('False',False),('True',True)]);\n",
    "\n"
   ]
  },
  {
   "cell_type": "code",
   "execution_count": null,
   "metadata": {
    "pycharm": {
     "name": "#%%\n"
    }
   },
   "outputs": [],
   "source": []
  },
  {
   "cell_type": "code",
   "execution_count": 8,
   "metadata": {
    "pycharm": {
     "name": "#%%\n"
    }
   },
   "outputs": [
    {
     "data": {
      "application/vnd.jupyter.widget-view+json": {
       "model_id": "632ec799b58241208adf0164c2ec2974",
       "version_major": 2,
       "version_minor": 0
      },
      "text/plain": [
       "Dropdown(description='Elements', options=(('H (1) (99.98)', 1.01), ('H (2) (0.01)', 2.01), ('He (3) (0.00)', 3…"
      ]
     },
     "metadata": {},
     "output_type": "display_data"
    },
    {
     "data": {
      "application/vnd.jupyter.widget-view+json": {
       "model_id": "83e7818e7f124a0f9d3b4ae5b9a55c77",
       "version_major": 2,
       "version_minor": 0
      },
      "text/plain": [
       "Dropdown(description='Charge', options=((1, 1), (2, 2), (3, 3), (4, 4)), value=1)"
      ]
     },
     "metadata": {},
     "output_type": "display_data"
    },
    {
     "data": {
      "application/vnd.jupyter.widget-view+json": {
       "model_id": "1f30defd5f68492faa53ac89db8c5d0b",
       "version_major": 2,
       "version_minor": 0
      },
      "text/plain": [
       "Button(description='ADD', icon='check', style=ButtonStyle(), tooltip='ADD')"
      ]
     },
     "metadata": {},
     "output_type": "display_data"
    },
    {
     "data": {
      "application/vnd.jupyter.widget-view+json": {
       "model_id": "44b2a75dca1947608b588a1157abe20c",
       "version_major": 2,
       "version_minor": 0
      },
      "text/plain": [
       "Button(description='DELETE', icon='check', style=ButtonStyle(), tooltip='DELETE')"
      ]
     },
     "metadata": {},
     "output_type": "display_data"
    },
    {
     "data": {
      "application/vnd.jupyter.widget-view+json": {
       "model_id": "69b74dc0c57e4327a999f41208a6d566",
       "version_major": 2,
       "version_minor": 0
      },
      "text/plain": [
       "Button(description='RESET', icon='check', style=ButtonStyle(), tooltip='RESET')"
      ]
     },
     "metadata": {},
     "output_type": "display_data"
    },
    {
     "name": "stdout",
     "output_type": "stream",
     "text": [
      "Updated List :  [1.01, 13.49, 26.98]                                             \r"
     ]
    }
   ],
   "source": [
    "isotopeTableFile = '../../../../files/isotopeTable.h5'\n",
    "dataframe = data_tools.read_hdf5_through_pandas(isotopeTableFile)\n",
    "elementsList = dataframe['element']\n",
    "elementIsotopeList = dataframe['isotope']\n",
    "elementMassList =  dataframe['weight']\n",
    "abundanceList = dataframe['abundance']\n",
    "\n",
    "elements = list(zip(elementsList,elementIsotopeList,elementMassList,abundanceList))\n",
    "dropdownList = []\n",
    "for element in elements:\n",
    "    tupleElement = (\"{} ({}) ({:.2f})\".format(element[0],element[1],element[3]),element[2],)\n",
    "    dropdownList.append(tupleElement)\n",
    "\n",
    "chargeList = [(1,1,),(2,2,),(3,3,),(4,4,)]\n",
    "dropdown = wd.dropdownWidget(dropdownList,\"Elements\")\n",
    "dropdown.observe(wd.on_change)\n",
    "\n",
    "\n",
    "chargeDropdown = wd.dropdownWidget(chargeList,\"Charge\")\n",
    "chargeDropdown.observe(wd.on_change_charge)\n",
    "\n",
    "wd.compute_element_isotope_values_according_to_selected_charge()\n",
    "\n",
    "buttonAdd = wd.buttonWidget(\"ADD\")\n",
    "buttonDelete = wd.buttonWidget(\"DELETE\")\n",
    "buttonReset = wd.buttonWidget(\"RESET\")\n",
    "\n",
    "display(dropdown)\n",
    "display(chargeDropdown)\n",
    "display(buttonAdd)\n",
    "display(buttonDelete)\n",
    "display(buttonReset)\n",
    "listMaterial = buttonAdd.on_click(wd.onClickAdd)\n",
    "buttonDelete.on_click(wd.onClickDelete)\n",
    "buttonReset.on_click(wd.onClickReset)"
   ]
  },
  {
   "cell_type": "code",
   "execution_count": null,
   "metadata": {
    "pycharm": {
     "name": "#%%\n"
    }
   },
   "outputs": [],
   "source": [
    "# add label to to hdf file\n",
    "data_loadcrop.add_tof_mc_data_to_hdf5(filename_main, dld_t_calib_final, mc_p_1)\n",
    "data_loadcrop.add_tof_mc_data_to_hdf5(filename, dld_t_calib_final, mc_p_1)\n"
   ]
  },
  {
   "cell_type": "code",
   "execution_count": null,
   "metadata": {
    "pycharm": {
     "name": "#%%\n"
    }
   },
   "outputs": [],
   "source": []
  }
 ],
 "metadata": {
  "kernelspec": {
   "display_name": "Python 3 (ipykernel)",
   "language": "python",
   "name": "python3"
  },
  "language_info": {
   "codemirror_mode": {
    "name": "ipython",
    "version": 3
   },
   "file_extension": ".py",
   "mimetype": "text/x-python",
   "name": "python",
   "nbconvert_exporter": "python",
   "pygments_lexer": "ipython3",
   "version": "3.9.12"
  }
 },
 "nbformat": 4,
 "nbformat_minor": 1
}

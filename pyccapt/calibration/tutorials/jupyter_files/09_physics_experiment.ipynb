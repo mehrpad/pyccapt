{
 "cells": [
  {
   "cell_type": "code",
   "execution_count": 2,
   "metadata": {
    "pycharm": {
     "name": "#%%\n"
    }
   },
   "outputs": [],
   "source": [
    "%matplotlib notebook\n",
    "import os\n",
    "import os.path as path\n",
    "import numpy as np\n",
    "import matplotlib.pyplot as plt\n",
    "from ipywidgets import Combobox, interact\n",
    "import ipywidgets as widgets\n",
    "from IPython.display import display\n",
    "\n",
    "# Local module and scripts\n",
    "from pyccapt.calibration.calibration_tools import tools, data_tools, variables, widgets\n",
    "from pyccapt.calibration.mc import mc_tools\n",
    "# The initial value for flight path length, which is the distance of local electrod to detector \n",
    "# flightPathLength = 110 # mm \n",
    "# # The initial value for t_0\n",
    "# t0 = 51.74 # ns\n",
    "\n",
    "flightPathLength = 243 # 105.35 # mm \n",
    "# The initial value for t_0\n",
    "t0 = 33 #68.48 # ns\n",
    "\n",
    "analysis = False\n",
    "save = True"
   ]
  },
  {
   "cell_type": "code",
   "execution_count": null,
   "metadata": {},
   "outputs": [],
   "source": [
    "# dataset name\n",
    "# AL_data_b\n",
    "# OLO_AL_6_data\n",
    "# OLO_W_6_data\n",
    "# OLO_Ni_8_data\n",
    "# X6Cr17_2V30Min_5_data\n",
    "# data_1029_Jun-27-2022_15-53_Pd\n",
    "# data_115_Jul-27-2022_17-44_Powersweep3"
   ]
  },
  {
   "cell_type": "code",
   "execution_count": 3,
   "metadata": {},
   "outputs": [
    {
     "data": {
      "application/vnd.jupyter.widget-view+json": {
       "model_id": "6fab550b8cde4c65a86d6093d17b6447",
       "version_major": 2,
       "version_minor": 0
      },
      "text/plain": [
       "Dropdown(description='TDC model:', options=('surface_concept', 'roentdec'), value='surface_concept')"
      ]
     },
     "metadata": {},
     "output_type": "display_data"
    },
    {
     "data": {
      "application/vnd.jupyter.widget-view+json": {
       "model_id": "1dc9f762362f46908de03619f2d75623",
       "version_major": 2,
       "version_minor": 0
      },
      "text/plain": [
       "Text(value='OLO_AL_6_data', description='Dataset:', placeholder='Paste ticket description here!')"
      ]
     },
     "metadata": {},
     "output_type": "display_data"
    }
   ],
   "source": [
    "tdc, dataset = widgets.dataset_tdc_selection()\n",
    "display(tdc, dataset)"
   ]
  },
  {
   "cell_type": "markdown",
   "metadata": {
    "pycharm": {
     "name": "#%% md\n"
    }
   },
   "source": [
    "$$\\textbf{You can specify which dataset to use in below block}$$"
   ]
  },
  {
   "cell_type": "code",
   "execution_count": 7,
   "metadata": {
    "pycharm": {
     "name": "#%%\n"
    }
   },
   "outputs": [],
   "source": [
    "tdc_model = tdc.value\n",
    "\n",
    "dataset_name = dataset.value\n",
    "\n",
    "p = path.abspath(path.join(\"\", \"../../../..\"))\n",
    "\n",
    "variables.init()\n",
    "variables.path = os.path.join(p, 'tests//results//load_crop')\n",
    "variables.result_path = os.path.join(p, 'tests/results/physics_experiment/' + dataset_name)\n",
    "if not os.path.isdir(variables.result_path):\n",
    "        os.makedirs(variables.result_path, mode=0o777, exist_ok=True)\n",
    "        \n",
    "filename = variables.path + '//' + dataset_name + '//' + dataset_name + '_cropped' + '.h5'\n",
    "\n",
    "\n",
    "\n",
    "head, tail = os.path.split(filename)\n",
    "figname = os.path.splitext(tail)[0]\n",
    "\n",
    "data = data_tools.read_hdf5_through_pandas(filename)\n",
    "\n",
    "\n",
    "dld_highVoltage = data['dld/high_voltage'].to_numpy()\n",
    "dld_laserIntensity = data['dld/laser_intensity'].to_numpy()\n",
    "dld_t = data['dld/t'].to_numpy()\n",
    "dld_x = data['dld/x'].to_numpy()\n",
    "dld_y = data['dld/y'].to_numpy()"
   ]
  },
  {
   "cell_type": "code",
   "execution_count": null,
   "metadata": {},
   "outputs": [],
   "source": [
    "dataset_name_base = 'data_101_Jul-27-2022_16-45_test.h5'\n",
    "\n",
    "filename = variables.path + '//' + dataset_name + '//' + dataset_name + '_cropped' + '.h5'\n",
    "\n",
    "\n",
    "\n",
    "head, tail = os.path.split(filename)\n",
    "figname = os.path.splitext(tail)[0]\n",
    "\n",
    "data_b = data_tools.read_hdf5_through_pandas(filename)\n",
    "\n",
    "\n",
    "dld_highVoltage_b = data['dld/high_voltage'].to_numpy()\n",
    "dld_laserIntensity_b = data['dld/laser_intensity'].to_numpy()\n",
    "dld_t_b = data['dld/t'].to_numpy()\n",
    "dld_x_b = data['dld/x'].to_numpy()\n",
    "dld_y_b = data['dld/y'].to_numpy()"
   ]
  },
  {
   "cell_type": "code",
   "execution_count": null,
   "metadata": {
    "pycharm": {
     "name": "#%%\n"
    }
   },
   "outputs": [],
   "source": [
    "data"
   ]
  },
  {
   "cell_type": "code",
   "execution_count": null,
   "metadata": {
    "pycharm": {
     "name": "#%%\n"
    }
   },
   "outputs": [],
   "source": [
    "# t0\n",
    "dld_t = dld_t - t0"
   ]
  },
  {
   "cell_type": "code",
   "execution_count": null,
   "metadata": {
    "pycharm": {
     "name": "#%%\n"
    }
   },
   "outputs": [],
   "source": [
    "# Remove negative and zero TOF\n",
    "threshold = 70\n",
    "dld_highVoltage = dld_highVoltage[dld_t>threshold]\n",
    "dld_laserIntensity = dld_laserIntensity[dld_t>threshold]\n",
    "dld_x = dld_x[dld_t>threshold]\n",
    "dld_y = dld_y[dld_t>threshold]\n",
    "dld_t = dld_t[dld_t>threshold]"
   ]
  },
  {
   "cell_type": "code",
   "execution_count": null,
   "metadata": {
    "pycharm": {
     "name": "#%%\n"
    }
   },
   "outputs": [],
   "source": [
    "fig1, ax1 = plt.subplots(figsize=(8, 4))\n",
    "\n",
    "yaxis = dld_t[dld_t < 5000]  # dld_t\n",
    "# y[y>5000] = 0\n",
    "xaxis = np.arange(len(yaxis))\n",
    "heatmap, xedges, yedges = np.histogram2d(xaxis, yaxis, bins=(1200, 800))\n",
    "heatmap[heatmap == 0] = 1  # to have zero after apply log\n",
    "heatmap = np.log(heatmap)\n",
    "extent = [xedges[0], xedges[-1], yedges[0], yedges[-1]]\n",
    "# set x-axis label\n",
    "ax1.set_xlabel(\"hit sequence number\", color=\"red\", fontsize=14)\n",
    "# set y-axis label\n",
    "ax1.set_ylabel(\"time of flight [ns]\", color=\"red\", fontsize=14)\n",
    "plt.title(\"Experiment history\")\n",
    "plt.imshow(heatmap.T, extent=extent, origin='lower', aspect=\"auto\")\n",
    "\n",
    "# plot high voltage curve\n",
    "ax2 = ax1.twinx()\n",
    "\n",
    "# dldGroupStorage[0] --> dld/high_voltage\n",
    "high_voltage = dld_highVoltage[dld_t < 5000]\n",
    "xaxis = np.arange(len(high_voltage))\n",
    "ax2.plot(xaxis, high_voltage, color='r', linewidth=2)\n",
    "ax2.set_ylabel(\"DC voltage [V]\", color=\"blue\", fontsize=14)\n",
    "plt.show()"
   ]
  },
  {
   "cell_type": "markdown",
   "metadata": {
    "pycharm": {
     "name": "#%% md\n"
    }
   },
   "source": [
    "$$\\textbf{Below plotted graph offers peak selection. You can select relevant peaks you want for computation.}$$"
   ]
  },
  {
   "cell_type": "code",
   "execution_count": null,
   "metadata": {
    "pycharm": {
     "name": "#%%\n"
    },
    "scrolled": false
   },
   "outputs": [],
   "source": [
    "mc_seb_ini = mc_tools.tof2mc(dld_t, 0, dld_highVoltage, dld_highVoltage, dld_x, dld_y, flightPathLength, mode='laser_pulse')\n",
    "max_hist_ini, left_right_peaks_ini, peaks_sides_ini, max_paek_edges_ini, index_max_ini = tools.massSpecPlot(mc_seb_ini[mc_seb_ini < 300], 0.1, prominence=50, distance=100, text_loc='right', percent=50, plot=True, fig_name=figname)\n",
    "mrp = (max_hist_ini / (left_right_peaks_ini[1] - left_right_peaks_ini[0]))\n",
    "print('Mass resolving power for the highest peak (MRP --> m/m_2-m_1):', mrp)\n",
    "for i in range(len(peaks_sides_ini)):\n",
    "    print('Peaks ', i, 'is: {:.2f}'.format(peaks_sides_ini[i,0]), 'peak window sides are: {:.2f} - {:.2f}'.format(peaks_sides_ini[i,2], peaks_sides_ini[i,3]))"
   ]
  },
  {
   "cell_type": "code",
   "execution_count": null,
   "metadata": {
    "pycharm": {
     "name": "#%%\n"
    }
   },
   "outputs": [],
   "source": [
    "# OD = (dld_laserIntensity - 265) / (270*2)\n",
    "# dld_laserIntensity_p = 10.0**OD\n",
    "\n",
    "dld_laserIntensity_p = dld_laserIntensity / np.max(dld_laserIntensity)\n",
    "\n",
    "high_voltage = (dld_highVoltage - 6720) / 6720\n",
    "\n",
    "fig1, ax1 = plt.subplots(figsize=(8, 4))\n",
    "x = plt.scatter(dld_laserIntensity_p, high_voltage, color=\"blue\", label='points', alpha=0.1)\n",
    "ax1.set_ylabel(\"HV (Laser enhancement)\", color=\"red\", fontsize=10)\n",
    "ax1.set_xlabel(\"Laser intensity (Fraction of laser power)\", color=\"red\", fontsize=10)\n",
    "\n",
    "p = np.polyfit(dld_laserIntensity_p, high_voltage, 2)\n",
    "\n",
    "y = plt.plot(dld_laserIntensity_p, np.polyval(p, dld_laserIntensity_p), color='red',label='Best Fit-2')\n",
    "\n",
    "\n",
    "plt.legend(handles=[x, y[0]], loc='upper left')\n",
    "if save==True:\n",
    "    plt.savefig(variables.result_path + \"//graph_%s.svg\" % figname, format=\"svg\", dpi=600)\n",
    "    plt.savefig(variables.result_path + \"//graph_%s.png\" % figname, format=\"png\", dpi=600)\n",
    "plt.show()"
   ]
  },
  {
   "cell_type": "code",
   "execution_count": null,
   "metadata": {},
   "outputs": [],
   "source": []
  }
 ],
 "metadata": {
  "kernelspec": {
   "display_name": "Python 3 (ipykernel)",
   "language": "python",
   "name": "python3"
  },
  "language_info": {
   "codemirror_mode": {
    "name": "ipython",
    "version": 3
   },
   "file_extension": ".py",
   "mimetype": "text/x-python",
   "name": "python",
   "nbconvert_exporter": "python",
   "pygments_lexer": "ipython3",
   "version": "3.9.12"
  }
 },
 "nbformat": 4,
 "nbformat_minor": 1
}

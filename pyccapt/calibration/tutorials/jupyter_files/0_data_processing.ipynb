{
 "cells": [
  {
   "cell_type": "markdown",
   "metadata": {
    "pycharm": {
     "name": "#%% md\n"
    }
   },
   "source": [
    "<div style=\"margin: 0 auto; padding: 20px; font-family: 'Helvetica', sans-serif; font-size: 16px;\">\n",
    "\n",
    "## Data Processing Workflow\n",
    "\n",
    "In this workflow within PyCCAPT, we can crope the data, do the voltage and bowl calibration, calculate the 3d reconstruction, and do the ranging.\n",
    "</div>"
   ]
  },
  {
   "cell_type": "code",
   "execution_count": null,
   "metadata": {
    "pycharm": {
     "name": "#%%\n"
    },
    "tags": []
   },
   "outputs": [],
   "source": [
    "# Activate intractive functionality of matplotlib\n",
    "%matplotlib ipympl\n",
    "# Activate auto reload \n",
    "%load_ext autoreload\n",
    "%autoreload 2\n",
    "%reload_ext autoreload\n",
    "# import libraries\n",
    "import os\n",
    "import numpy as np\n",
    "from ipywidgets import widgets\n",
    "from IPython.display import display\n",
    "from ipywidgets import fixed, interact_manual\n",
    "import warnings\n",
    "# Ignore all warnings\n",
    "warnings.filterwarnings(\"ignore\")\n",
    "\n",
    "# Local module and scripts\n",
    "from pyccapt.calibration.calibration_tools import widgets as wd\n",
    "from pyccapt.calibration.data_tools import data_tools, data_loadcrop, dataset_path_qt\n",
    "from pyccapt.calibration.tutorials.tutorials_helpers import helper_calibration\n",
    "from pyccapt.calibration.tutorials.tutorials_helpers import helper_data_loader\n",
    "from pyccapt.calibration.tutorials.tutorials_helpers import helper_temporal_crop\n",
    "from pyccapt.calibration.tutorials.tutorials_helpers import helper_special_crop\n",
    "from pyccapt.calibration.tutorials.tutorials_helpers import helper_t_0_tune\n",
    "from pyccapt.calibration.tutorials.tutorials_helpers import helper_mc_plot\n",
    "from pyccapt.calibration.tutorials.tutorials_helpers import helper_3d_reconstruction\n",
    "from pyccapt.calibration.tutorials.tutorials_helpers import helper_ion_selection\n",
    "from pyccapt.calibration.tutorials.tutorials_helpers import helper_visualization\n",
    "from pyccapt.calibration.tutorials.tutorials_helpers import helper_ion_list"
   ]
  },
  {
   "cell_type": "markdown",
   "metadata": {},
   "source": [
    "<div style=\"margin: 0 auto; padding: 20px; font-family: 'Helvetica', sans-serif; font-size: 16px;\">\n",
    "In case of recieving the error about pytable library, you have to install the pytables library with conda command. to do that you can open a new cell and copy the line below in it. Then just run it like other cells. The pytables library will be innstalled.\n",
    "    \n",
    "`!conda install --yes --prefix {sys.prefix} pytables`\n",
    "</div>\n"
   ]
  },
  {
   "cell_type": "markdown",
   "metadata": {},
   "source": [
    "<div style=\"margin: 0 auto; padding: 20px; font-family: 'Helvetica', sans-serif; font-size: 16px;\">\n",
    "    \n",
    "By clicking on the button below, you can select the dataset file you want to crop. The dataset file can be in various formats, including HDF5, EPOS, POS, ATO, and CSV. The cropped data will be saved in the same directory as the original dataset file in a new directory nammed load_crop. The name of the cropped dataset file will be the same as the original dataset file. The figures will be saved in the same directory as the dataset file.\n",
    "</div>"
   ]
  },
  {
   "cell_type": "code",
   "execution_count": null,
   "metadata": {
    "tags": []
   },
   "outputs": [],
   "source": [
    "button = widgets.Button(\n",
    "    description='load dataset',\n",
    ")\n",
    "@button.on_click\n",
    "def open_file_on_click(b):\n",
    "    \"\"\"\n",
    "    Event handler for button click event.\n",
    "    Prompts the user to select a dataset file and stores the selected file path in the global variable dataset_path.\n",
    "    \"\"\"\n",
    "    global dataset_path\n",
    "    dataset_path = dataset_path_qt.gui_fname().decode('ASCII')\n",
    "button"
   ]
  },
  {
   "cell_type": "markdown",
   "metadata": {
    "tags": []
   },
   "source": [
    "<div style=\"margin: 0 auto; padding: 20px; font-family: 'Helvetica', sans-serif; font-size: 16px;\">\n",
    "\n",
    "## ROI Selection and Data Cropping\n",
    "    \n",
    "\n",
    "</div>\n",
    "\n"
   ]
  },
  {
   "cell_type": "markdown",
   "metadata": {},
   "source": [
    "<div style=\"margin: 0 auto; padding: 20px; font-family: 'Helvetica', sans-serif; font-size: 16px;\">\n",
    "\n",
    "    \n",
    "From the dropdown lists below, you can select the instrument specifications of the dataset. The instrument specifications are the same as the ones used for the calibration process. Data mode is specify the dataset structure. The dataset can be in raw or calibrated mode. The flight path length is the distance between the sample and the detector. The t0 is the time of flight of the ions with the lowest mass-to-charge ratio. The maximum mass-to-charge ratio is the maximum mass-to-charge ratio of tat you want to plot. You can also change it in te related cells. The detector diameter is the diameter of the detector.\n",
    "</div>\n"
   ]
  },
  {
   "cell_type": "code",
   "execution_count": null,
   "metadata": {
    "tags": []
   },
   "outputs": [],
   "source": [
    "# create an object for selection of instrument specifications of the dataset\n",
    "tdc, pulse_mode, flight_path_length, t0, max_mc, det_diam = wd.dataset_instrument_specification_selection()\n",
    "\n",
    "# Display lists and comboboxes to selected instrument specifications\n",
    "display(tdc, pulse_mode, flight_path_length, t0, max_mc)"
   ]
  },
  {
   "cell_type": "code",
   "execution_count": null,
   "metadata": {
    "tags": []
   },
   "outputs": [],
   "source": [
    "variables = helper_data_loader.load_data(dataset_path, max_mc.value, flight_path_length.value, pulse_mode.value, tdc.value)\n",
    "display(variables.data)\n",
    "display(variables.range_data)"
   ]
  },
  {
   "cell_type": "code",
   "execution_count": null,
   "metadata": {
    "tags": []
   },
   "outputs": [],
   "source": [
    "#load data, if it exists,\n",
    "try:\n",
    "    if os.path.exists(variables.result_data_path + '//' + variables.result_data_name + '.h5'):\n",
    "        variables.data = data_tools.load_data(variables.result_data_path + '//' + variables.result_data_name + '.h5', tdc='pyccapt', mode='processed')\n",
    "        # exctract needed data from Pandas data frame as an numpy array\n",
    "        data_tools.extract_data(variables.data, variables, flight_path_length.value, max_mc.value)\n",
    "        print('Load data successfully')\n",
    "    elif os.path.exists(variables.result_data_path + '//' + variables.result_data_name + 'temp' + '.h5'):\n",
    "        variables.data = data_tools.load_data(variables.result_data_path + '//' + variables.result_data_name + '.h5', tdc='pyccapt', mode='processed')\n",
    "        # exctract needed data from Pandas data frame as an numpy array\n",
    "        data_tools.extract_data(variables.data, variables, flight_path_length.value, max_mc.value)\n",
    "        print('Continue from the point based on the loaded data')\n",
    "        \n",
    "    else:\n",
    "        print('No data avaliable')\n",
    "    if os.path.exists(variables.result_data_path + '/' + 'range_' + variables.dataset_name+ '.h5'):\n",
    "        variables.range_data = data_tools.read_hdf5_through_pandas(variables.result_data_path + '/' + 'range_' + variables.dataset_name+ '.h5')\n",
    "        # exctract needed data from Pandas data frame as an numpy array\n",
    "        data_tools.extract_data(variables.data, variables, flight_path_length.value, max_mc.value)\n",
    "        print('Load range file')\n",
    "    else:\n",
    "        print('No range data avaliable')\n",
    "    # exctract needed data from Pandas data frame as a numpy array\n",
    "    data_tools.extract_data(variables.data, variables, flight_path_length.value, max_mc.value)\n",
    "    display(variables.data)\n",
    "    display(variables.range_data)\n",
    "except Exception as e:\n",
    "    pass\n",
    "    # print(e)"
   ]
  },
  {
   "cell_type": "markdown",
   "metadata": {},
   "source": [
    "<div style=\"margin: 0 auto; padding: 20px;\">\n",
    "\n",
    "Load a pre saved range file if you want from cell below\n",
    "</div>\n"
   ]
  },
  {
   "cell_type": "code",
   "execution_count": null,
   "metadata": {
    "tags": []
   },
   "outputs": [],
   "source": [
    "button_r = widgets.Button(\n",
    "    description='load range dataset',\n",
    ")\n",
    "@button_r.on_click\n",
    "def open_file_on_click_r(b):\n",
    "    \"\"\"\n",
    "    Event handler for button click event.\n",
    "    Prompts the user to select a range file and stores the selected file path in the global variable range_path.\n",
    "    \"\"\"\n",
    "    global range_path\n",
    "    range_path = dataset_path_qt.gui_fname().decode('ASCII')\n",
    "button_r"
   ]
  },
  {
   "cell_type": "code",
   "execution_count": null,
   "metadata": {
    "tags": []
   },
   "outputs": [],
   "source": [
    "if 'range_path' in globals():\n",
    "    variables.range_data = data_tools.read_hdf5_through_pandas(range_path)\n",
    "display(variables.range_data)"
   ]
  },
  {
   "cell_type": "markdown",
   "metadata": {
    "tags": []
   },
   "source": [
    "<div style=\"margin: 0 auto; padding: 20px;\">\n",
    "\n",
    "# Temporal crop\n",
    "\n",
    "Select the data by drawing a rectangle over the experiment history. Experiment history is a 2D histogram of the time of flight of the ions versus sequence of evaporation. The experiment history is plotted by clicking on the button below te cell.\n",
    "</div>\n"
   ]
  },
  {
   "cell_type": "code",
   "execution_count": null,
   "metadata": {
    "tags": []
   },
   "outputs": [],
   "source": [
    "helper_temporal_crop.call_plot_crop_experiment(variables, pulse_mode.value)"
   ]
  },
  {
   "cell_type": "markdown",
   "metadata": {
    "pycharm": {
     "name": "#%% md\n"
    }
   },
   "source": [
    "<div style=\"margin: 0 auto; padding: 20px; font-family: 'Helvetica', sans-serif; font-size: 16px;\">\n",
    "\n",
    "# Spacial crop\n",
    "\n",
    "Select the region of maximum concentration of Ions in the below plotted graph to utilize relevant data. To crop you can draw a circle over the filed desorption map. The field desorption map is a 2D histogram of the time of flight of the ions versus the position of the ions on the detector. The field desorption map is plotted by clicking on the button below the cell.\n",
    "</div>"
   ]
  },
  {
   "cell_type": "code",
   "execution_count": null,
   "metadata": {
    "tags": []
   },
   "outputs": [],
   "source": [
    "helper_special_crop.call_plot_crop_fdm(variables)"
   ]
  },
  {
   "cell_type": "markdown",
   "metadata": {},
   "source": [
    "<div style=\"margin: 0 auto; padding: 20px; font-family: 'Helvetica', sans-serif; font-size: 16px;\">\n",
    "\n",
    "Calculate pulses since the last event pulse and ions per pulse. The percentage of loss in ROI selection process will be printed.\n",
    "</div>"
   ]
  },
  {
   "cell_type": "code",
   "execution_count": null,
   "metadata": {
    "tags": []
   },
   "outputs": [],
   "source": [
    "pulse_pi, ion_pp = data_loadcrop.calculate_ppi_and_ipp(variables.data)\n",
    "\n",
    "# add two calculated array to the croped dataset\n",
    "variables.data['pulse_pi'] = pulse_pi.astype(np.uintc)\n",
    "variables.data['ion_pp'] = ion_pp.astype(np.uintc)\n",
    "\n",
    "# exctract needed data from Pandas data frame as an numpy array\n",
    "variables.dld_high_voltage = variables.data['high_voltage (V)'].to_numpy()\n",
    "variables.dld_pulse = variables.data['pulse'].to_numpy()\n",
    "variables.dld_t = variables.data['t (ns)'].to_numpy()\n",
    "variables.dld_x_det = variables.data['x_det (cm)'].to_numpy()\n",
    "variables.dld_y_det = variables.data['y_det (cm)'].to_numpy()\n",
    "\n",
    "# save the cropped data\n",
    "print('tof Crop Loss {:.2f} %'.format((100 - (len(variables.data) / len(variables.data)) * 100)))\n",
    "#percentage of double event per pulse\n",
    "print('percentage of double event per pulse', len(ion_pp[ion_pp != 1]) / float(len(ion_pp)))"
   ]
  },
  {
   "cell_type": "markdown",
   "metadata": {},
   "source": [
    "<div style=\"margin: 0 auto; padding: 20px; font-family: 'Helvetica', sans-serif; font-size: 16px;\">\n",
    "\n",
    "In the next cell by changing the t<sub>0</sub> value you can correct the position of H<sub>1</sub> or any other known peak. this correction would be helpful for the position of the peaks in the m/c calibration process.\n",
    "</div>"
   ]
  },
  {
   "cell_type": "code",
   "execution_count": null,
   "metadata": {
    "tags": []
   },
   "outputs": [],
   "source": [
    "helper_t_0_tune.call_fine_tune_t_0(variables, flight_path_length, pulse_mode, t0)"
   ]
  },
  {
   "cell_type": "markdown",
   "metadata": {},
   "source": [
    "<div style=\"margin: 0 auto; padding: 20px; font-family: 'Helvetica', sans-serif; font-size: 16px;\">\n",
    "\n",
    "Remove the data with m/c greater than max m/c and x, y, t = 0. Also add the needed colums for calibration. The data types of the final cropped dataset is displayed below.\n",
    "\n",
    "</div>"
   ]
  },
  {
   "cell_type": "code",
   "execution_count": null,
   "metadata": {
    "tags": []
   },
   "outputs": [],
   "source": [
    "# add the columns in the dataset for x, y, z, mc, mc calibrated, and t calibrated\n",
    "helper_data_loader.add_columns(variables, max_mc)\n",
    "# save data temporarily\n",
    "data_tools.save_data(variables.data, variables, hdf=True, epos=False, pos=False, ato_6v=False, csv=False, temp=True)\n",
    "display(variables.data)\n",
    "display(variables.data.dtypes)"
   ]
  },
  {
   "cell_type": "markdown",
   "metadata": {},
   "source": [
    "-------------------------------------------------------\n",
    "-------------------------------------------------------"
   ]
  },
  {
   "cell_type": "markdown",
   "metadata": {
    "tags": []
   },
   "source": [
    "<div style=\"margin: 0 auto; padding: 20px; font-family: 'Helvetica', sans-serif; font-size: 16px;\">\n",
    "\n",
    "## Time-of-Flight/Mass-to-charge Calibration\n",
    "</div>"
   ]
  },
  {
   "cell_type": "markdown",
   "metadata": {},
   "source": [
    "<div style=\"margin: 0 auto; padding: 20px; font-family: 'Helvetica', sans-serif; font-size: 16px;\">\n",
    "    \n",
    "Below you can plot the ToF histogram of the dataset. You can select the peak range of the data you want to plot by drawing a rectangle over peak with holding left click. After that you should apply the voltage and bowl calibration. These three steps should be repeated until you see no improvement in the peak resolution. You can also save the calibration by clicking on the save button. The saved calibration will be used for the next steps.\n",
    "\n",
    "</div>"
   ]
  },
  {
   "cell_type": "code",
   "execution_count": null,
   "metadata": {
    "tags": []
   },
   "outputs": [],
   "source": [
    "# exctract needed data from Pandas data frame as an numpy array\n",
    "data_tools.extract_data(variables.data, variables, flight_path_length.value, max_mc.value)\n",
    "calibration_mode = widgets.Dropdown(\n",
    "    options=[('time_of_flight', 'tof'), ('mass_to_charge', 'mc')],\n",
    "    description='calibration mode:')\n",
    "display(calibration_mode)"
   ]
  },
  {
   "cell_type": "code",
   "execution_count": null,
   "metadata": {
    "tags": []
   },
   "outputs": [],
   "source": [
    "helper_calibration.call_voltage_bowl_calibration(variables, det_diam, calibration_mode)"
   ]
  },
  {
   "cell_type": "code",
   "execution_count": null,
   "metadata": {
    "tags": []
   },
   "outputs": [],
   "source": [
    "variables.dld_t_calib_backup = np.copy(variables.dld_t_calib)\n",
    "variables.mc_calib_backup = np.copy(variables.mc_calib)"
   ]
  },
  {
   "cell_type": "code",
   "execution_count": null,
   "metadata": {
    "tags": []
   },
   "outputs": [],
   "source": [
    "helper_ion_list.call_ion_list(variables, selector='peak', calibration_mode=calibration_mode)"
   ]
  },
  {
   "cell_type": "code",
   "execution_count": null,
   "metadata": {
    "tags": []
   },
   "outputs": [],
   "source": [
    "# from pyccapt.calibration.mc.tof_tools import mc2tof\n",
    "# mc2tof(1, 4000, 0, 0, 110)"
   ]
  },
  {
   "cell_type": "code",
   "execution_count": null,
   "metadata": {
    "tags": []
   },
   "outputs": [],
   "source": [
    "helper_mc_plot.call_mc_plot(variables, selector='None')"
   ]
  },
  {
   "cell_type": "code",
   "execution_count": null,
   "metadata": {
    "tags": []
   },
   "outputs": [],
   "source": [
    "variables.data['mc_c (Da)'] = variables.mc_calib\n",
    "variables.data['t_c (ns)'] = variables.dld_t_calib\n",
    "# Remove negative mc\n",
    "threshold = 0\n",
    "mc_t = variables.data['mc_c (Da)'].to_numpy()\n",
    "mc_t_mask = (mc_t <= threshold)\n",
    "print('The number of ions with negative mc are:', len(mc_t_mask[mc_t_mask==True]))\n",
    "variables.data.drop(np.where(mc_t_mask)[0], inplace=True)\n",
    "variables.data.reset_index(inplace=True, drop=True)\n",
    "# save data temporarily\n",
    "data_tools.save_data(variables.data, variables, hdf=True, epos=False, pos=False, ato_6v=False, csv=False, temp=True)"
   ]
  },
  {
   "cell_type": "markdown",
   "metadata": {},
   "source": [
    "-------------------------------------------------------\n",
    "-------------------------------------------------------"
   ]
  },
  {
   "cell_type": "markdown",
   "metadata": {
    "tags": []
   },
   "source": [
    "<div style=\"margin: 0 auto; padding: 20px; font-family: 'Helvetica', sans-serif; font-size: 16px;\">\n",
    "\n",
    "## 3D Reconstruction\n",
    "After bowl and voltage calibration we are ready to calculate the 3d reconstruction. In this workflow we calculate the reconstructed x,y,z and then plot the 3d, heatmap, projection plots and mass-to-charge histogram.\n",
    "\n",
    "</div>"
   ]
  },
  {
   "cell_type": "code",
   "execution_count": null,
   "metadata": {
    "tags": []
   },
   "outputs": [],
   "source": [
    "# exctract needed data from Pandas data frame as an numpy array\n",
    "data_tools.extract_data(variables.data, variables, flight_path_length.value, max_mc.value)\n",
    "\n",
    "display(variables.data)"
   ]
  },
  {
   "cell_type": "markdown",
   "metadata": {},
   "source": [
    "<div style=\"margin: 0 auto; padding: 20px; font-family: 'Helvetica', sans-serif; font-size: 16px;\">\n",
    "\n",
    "You have to select the main element in your sample from the from dropdown below.\n",
    "</div>"
   ]
  },
  {
   "cell_type": "code",
   "execution_count": null,
   "metadata": {
    "tags": []
   },
   "outputs": [],
   "source": [
    "element_selected = wd.density_field_selection()\n",
    "display(element_selected)"
   ]
  },
  {
   "cell_type": "markdown",
   "metadata": {},
   "source": [
    "<div style=\"margin: 0 auto; padding: 20px; font-family: 'Helvetica', sans-serif; font-size: 16px;\">\n",
    "\n",
    "In case that yopu face error about plotly library, like javascripts error. You have check your jupyter lab version is compatibale with the plotly extenstion. Sometimes running `jupyter lab build` command fix the proble.\n",
    "</div>"
   ]
  },
  {
   "cell_type": "code",
   "execution_count": null,
   "metadata": {
    "tags": []
   },
   "outputs": [],
   "source": [
    "helper_3d_reconstruction.call_x_y_z_calculation(variables, flight_path_length, element_selected)"
   ]
  },
  {
   "cell_type": "code",
   "execution_count": null,
   "metadata": {
    "tags": []
   },
   "outputs": [],
   "source": [
    "variables.plotly_3d_reconstruction"
   ]
  },
  {
   "cell_type": "code",
   "execution_count": null,
   "metadata": {
    "tags": []
   },
   "outputs": [],
   "source": [
    "variables.data['x (nm)'] = variables.x\n",
    "variables.data['y (nm)'] = variables.y\n",
    "variables.data['z (nm)'] = variables.z\n",
    "# save data temporarily\n",
    "data_tools.save_data(variables.data, variables, hdf=True, epos=False, pos=False, ato_6v=False, csv=False, temp=True)"
   ]
  },
  {
   "cell_type": "markdown",
   "metadata": {},
   "source": [
    "-------------------------------------------------------\n",
    "-------------------------------------------------------"
   ]
  },
  {
   "cell_type": "markdown",
   "metadata": {},
   "source": [
    "<div style=\"margin: 0 auto; padding: 20px; font-family: 'Helvetica', sans-serif; font-size: 16px;\">\n",
    "\n",
    "## Ion Selection and Rangging\n",
    "\n",
    "This tutorial outlines a comprehensive workflow for ion selection and organization. Users can choose ions using peak and element finders, manually add ions, customize ion colors, and create histograms. Histograms can be generated for selected ranges and areas, and figures can be saved. Additionally, users have the option to save both figures and data in CSV and HDF5 formats.\n",
    "\n",
    "</div>"
   ]
  },
  {
   "cell_type": "code",
   "execution_count": null,
   "metadata": {
    "tags": []
   },
   "outputs": [],
   "source": [
    "# exctract needed data from Pandas data frame as an numpy array\n",
    "data_tools.extract_data(variables.data, variables, flight_path_length.value, max_mc.value)\n",
    "\n",
    "display(variables.data)"
   ]
  },
  {
   "cell_type": "code",
   "execution_count": null,
   "metadata": {
    "tags": []
   },
   "outputs": [],
   "source": [
    "helper_ion_selection.call_ion_selection(variables)"
   ]
  },
  {
   "cell_type": "code",
   "execution_count": null,
   "metadata": {
    "tags": []
   },
   "outputs": [],
   "source": [
    "variables.range_data"
   ]
  },
  {
   "cell_type": "code",
   "execution_count": null,
   "metadata": {
    "tags": []
   },
   "outputs": [],
   "source": [
    "variables.range_data.dtypes"
   ]
  },
  {
   "cell_type": "markdown",
   "metadata": {},
   "source": [
    "<div style=\"margin: 0 auto; padding: 20px; font-family: 'Helvetica', sans-serif; font-size: 16px;\">\n",
    "\n",
    "Save the range in the hdf5 and csv format.\n",
    "\n",
    "</div>"
   ]
  },
  {
   "cell_type": "code",
   "execution_count": null,
   "metadata": {
    "tags": []
   },
   "outputs": [],
   "source": [
    "# save the new data\n",
    "name_save_file = variables.result_data_path + '/' + 'range_' + variables.dataset_name + '.h5'\n",
    "data_tools.store_df_to_hdf(variables.range_data,  'df', name_save_file)\n",
    "# save data in csv format\n",
    "name_save_file = variables.result_data_path + '/' + 'range_' + variables.dataset_name + '.csv'\n",
    "data_tools.store_df_to_csv(variables.range_data, name_save_file)"
   ]
  },
  {
   "cell_type": "markdown",
   "metadata": {},
   "source": [
    "<div style=\"margin: 0 auto; padding: 20px; font-family: 'Helvetica', sans-serif; font-size: 16px;\">\n",
    "\n",
    "Save the cropped dataset. You can specify te output format from list below. The output formats are HDF5, EPOS, POS, ATO, and CSV. The output file will be saved in the same directory as the original dataset file in a new directory nammed load_crop.\n",
    "</div>"
   ]
  },
  {
   "cell_type": "code",
   "execution_count": null,
   "metadata": {
    "tags": []
   },
   "outputs": [],
   "source": [
    "interact_manual(data_tools.save_data, data=fixed(variables.data), variables=fixed(variables),\n",
    "                hdf=widgets.Dropdown(options=[('True', True), ('False', False)]),\n",
    "                epos=widgets.Dropdown(options=[('False', False), ('True', True)]),\n",
    "                pos=widgets.Dropdown(options=[('False', False), ('True', True)]),\n",
    "                ato_6v=widgets.Dropdown(options=[('False', False), ('True', True)]),\n",
    "                csv=widgets.Dropdown(options=[('False', False), ('True', True)]),\n",
    "               temp=fixed(False));"
   ]
  },
  {
   "cell_type": "markdown",
   "metadata": {},
   "source": [
    "-------------------------------------------------------\n",
    "-------------------------------------------------------"
   ]
  },
  {
   "cell_type": "markdown",
   "metadata": {},
   "source": [
    "<div style=\"margin: 0 auto; padding: 20px; font-family: 'Helvetica', sans-serif; font-size: 16px;\">\n",
    "    \n",
    "# Visualization\n",
    "    \n",
    "</div>"
   ]
  },
  {
   "cell_type": "code",
   "execution_count": null,
   "metadata": {
    "tags": []
   },
   "outputs": [],
   "source": [
    "variables.data"
   ]
  },
  {
   "cell_type": "code",
   "execution_count": null,
   "metadata": {
    "tags": []
   },
   "outputs": [],
   "source": [
    "helper_visualization.call_visualization(variables)"
   ]
  },
  {
   "cell_type": "code",
   "execution_count": null,
   "metadata": {
    "tags": []
   },
   "outputs": [],
   "source": [
    "variables.plotly_3d_reconstruction"
   ]
  },
  {
   "cell_type": "code",
   "execution_count": null,
   "metadata": {
    "tags": []
   },
   "outputs": [],
   "source": [
    "from IPython.display import display, HTML\n",
    "display(HTML(variables.animation_detector_html))"
   ]
  },
  {
   "cell_type": "code",
   "execution_count": null,
   "metadata": {
    "tags": []
   },
   "outputs": [],
   "source": [
    "np.subtract.outer([1,2,3], [1,2,3])"
   ]
  },
  {
   "cell_type": "code",
   "execution_count": null,
   "metadata": {
    "tags": []
   },
   "outputs": [],
   "source": [
    "import matplotlib.pyplot as plt\n",
    "def calculate_sdm(xx, yy, zz, reference_point=(5,5,5), deltax=1, deltay=1, deltaz=1):\n",
    "\n",
    "    xx = xx.astype(np.float32)\n",
    "    yy = yy.astype(np.float32)\n",
    "    zz = zz.astype(np.float32)\n",
    "    # Clip relative positions to the cell dimensions\n",
    "    mask_xx = (xx >= reference_point[0] - deltax) & (xx <=  reference_point[0] + deltax)\n",
    "    mask_yy = (yy >= reference_point[1] - deltay) & (yy <=  reference_point[1] + deltay)\n",
    "    mask_zz = (zz >= reference_point[2] - deltaz) & (zz <=  reference_point[2] + deltaz)\n",
    "    mask = mask_xx & mask_yy & mask_zz\n",
    "    xx = xx[mask]\n",
    "    yy = yy[mask]\n",
    "    zz = zz[mask]\n",
    "\n",
    "    # Calculate relative positions\n",
    "    dx = np.subtract.outer(xx, xx)\n",
    "    dy = np.subtract.outer(yy, yy)\n",
    "    dz = np.subtract.outer(zz, zz)\n",
    "    \n",
    "    # Shift to the reference point\n",
    "    dx = dx + reference_point[0]\n",
    "    dy = dy + reference_point[1]\n",
    "    dz = dz + reference_point[2]\n",
    "    \n",
    "    return dx, dy, dz\n",
    "\n",
    "\n",
    "dx, dy, dz = calculate_sdm(variables.x, variables.y, variables.z)\n",
    "\n",
    "print(dx.shape)\n",
    "# Create 1D histograms for each axis\n",
    "histo_dx, bins_dx = np.histogram(dx.flatten(), bins=512)\n",
    "histo_dy, bins_dy = np.histogram(dy.flatten(), bins=512)\n",
    "histo_dz, bins_dz = np.histogram(dz.flatten(), bins=512)\n",
    "\n",
    "\n",
    "# Plot histograms\n",
    "fig, ax = plt.subplots()\n",
    "# Plot the histogram\n",
    "plt.hist(dx.flatten(), bins=250)\n",
    "ax.set_xlabel('x (nm)')\n",
    "ax.set_ylabel('Frequency')\n",
    "# plt.plot(bins_dx[:-1], histo_dx, label='dx')\n",
    "plt.show()\n",
    "fig, ax = plt.subplots()\n",
    "ax.set_xlabel('y (nm)')\n",
    "ax.set_ylabel('Frequency')\n",
    "plt.plot(bins_dy[:-1], histo_dy, label='dy')\n",
    "plt.show()\n",
    "fig, ax = plt.subplots()\n",
    "ax.set_xlabel('z (nm)')\n",
    "ax.set_ylabel('Frequency')\n",
    "plt.plot(bins_dz[:-1], histo_dz, label='dz')\n",
    "plt.show()\n",
    "\n",
    "# 2D histogram for dx and dz\n",
    "fig, ax = plt.subplots()\n",
    "ax.set_xlabel('x (nm)')\n",
    "ax.set_ylabel('z (nm)')\n",
    "bins = 0.5\n",
    "# Check if the bin is a tuple\n",
    "if isinstance(bins, tuple):\n",
    "    pass\n",
    "else:\n",
    "    x_edges = np.arange(dx.min(), dx.max(), bins)\n",
    "    z_edges = np.arange(dz.min(), dz.max(), bins)\n",
    "    bins = [x_edges, z_edges]\n",
    "h = ax.hist2d(dx.flatten(), dz.flatten(), bins=(250,250), cmap='viridis')\n",
    "plt.colorbar(h[3], ax=ax, label='Frequency')\n",
    "\n",
    "# plt.legend()\n",
    "plt.show()"
   ]
  },
  {
   "cell_type": "code",
   "execution_count": null,
   "metadata": {
    "tags": []
   },
   "outputs": [],
   "source": [
    "import numpy as np\n",
    "import matplotlib.pyplot as plt\n",
    "from scipy.spatial import cKDTree\n",
    "\n",
    "def radial_distribution_function(x, y, z, reference_point, dr=0.1, r_max=None):\n",
    "    # Create a cKDTree for efficient neighbor search\n",
    "    coordinates = np.column_stack([x, y, z])\n",
    "    tree = cKDTree(coordinates)\n",
    "\n",
    "    # Determine the maximum distance for RDF calculation\n",
    "    if r_max is None:\n",
    "        r_max = min(np.max(x) - np.min(x), np.max(y) - np.min(y), np.max(z) - np.min(z)) / 2.0\n",
    "\n",
    "    # Initialize variables for RDF calculation\n",
    "    bins = np.arange(0, r_max, dr)\n",
    "    rdf_values = np.zeros(len(bins) - 1)\n",
    "\n",
    "    # Query neighbors within the distance range of the reference point\n",
    "    neighbors = tree.query_ball_point(reference_point, r_max)\n",
    "\n",
    "    # Calculate distances to neighbors\n",
    "    distances = np.linalg.norm(coordinates[neighbors] - reference_point, axis=1)\n",
    "\n",
    "    # Update RDF values\n",
    "    rdf_values += np.histogram(distances, bins=bins)[0]\n",
    "\n",
    "    # Normalize RDF values\n",
    "    r = (bins[:-1] + bins[1:]) / 2.0\n",
    "    volume_shell = 4/3 * np.pi * (bins[1:]**3 - bins[:-1]**3)\n",
    "    rdf_values /= len(coordinates) * volume_shell\n",
    "\n",
    "    return r, rdf_values\n",
    "\n",
    "\n",
    "reference_point = np.array([0, 0, 0])\n",
    "dr = 1.0  # 1nm\n",
    "\n",
    "r, rdf = radial_distribution_function(variables.x, variables.y, variables.z, reference_point, dr=dr)\n",
    "\n",
    "# Plot RDF\n",
    "fig, ax = plt.subplots()\n",
    "plt.plot(r, rdf)\n",
    "plt.xlabel('Distance (nm)')\n",
    "plt.ylabel('Radial Distribution Function (RDF)')\n",
    "plt.title(f'RDF for Cell Center at {reference_point}')\n",
    "plt.show()"
   ]
  },
  {
   "cell_type": "code",
   "execution_count": null,
   "metadata": {
    "tags": []
   },
   "outputs": [],
   "source": [
    "from numba import jit\n",
    "\n",
    "x = variables.x[0:10000]\n",
    "y = variables.y[0:10000]\n",
    "z = variables.z[0:10000]\n",
    "\n",
    "def calculate_sdm_numba(xx, yy, zz, cell_center=None, deltax=6, deltay=6, deltaz=6):\n",
    "\n",
    "    if cell_center is not None:\n",
    "    # Clip relative positions to the cell dimensions\n",
    "        mask_xx = (xx >= cell_center[0] - deltax) & (xx <=  cell_center[0] + deltax)\n",
    "        mask_yy = (yy >= cell_center[1] - deltay) & (yy <=  cell_center[1] + deltay)\n",
    "        mask_zz = (zz >= cell_center[2] - deltaz) & (zz <=  cell_center[2] + deltaz)\n",
    "        mask = mask_xx & mask_yy & mask_zz\n",
    "        xx = xx[mask]\n",
    "        yy = yy[mask]\n",
    "        zz = zz[mask]\n",
    "        \n",
    "    @jit(nopython=True)\n",
    "    def calculate_sdm(xx, yy, zz):\n",
    "        xx = xx.astype(np.float32)\n",
    "        yy = yy.astype(np.float32)\n",
    "        zz = zz.astype(np.float32)\n",
    "\n",
    "        n = len(xx)\n",
    "        dx = np.zeros((n, n), dtype=np.float32)\n",
    "        dy = np.zeros((n, n), dtype=np.float32)\n",
    "        dz = np.zeros((n, n), dtype=np.float32)\n",
    "\n",
    "        for i in range(n):\n",
    "            for j in range(n):\n",
    "                dx[i, j] = xx[i] - xx[j]\n",
    "                dy[i, j] = yy[i] - yy[j]\n",
    "                dz[i, j] = zz[i] - zz[j]\n",
    "\n",
    "        return dx, dy, dz\n",
    "    \n",
    "    dx, dy, dz = calculate_sdm(xx, yy, zz)\n",
    "    return dx, dy, dz\n",
    "\n",
    "\n",
    "\n",
    "def calculate_sdm(xx, yy, zz, cell_center=None, deltax=6, deltay=6, deltaz=6):\n",
    "\n",
    "    xx = xx.astype(np.float32)\n",
    "    yy = yy.astype(np.float32)\n",
    "    zz = zz.astype(np.float32)\n",
    "    if cell_center is not None:\n",
    "    # Clip relative positions to the cell dimensions\n",
    "        mask_xx = (xx >= cell_center[0] - deltax) & (xx <=  cell_center[0] + deltax)\n",
    "        mask_yy = (yy >= cell_center[1] - deltay) & (yy <=  cell_center[1] + deltay)\n",
    "        mask_zz = (zz >= cell_center[2] - deltaz) & (zz <=  cell_center[2] + deltaz)\n",
    "        mask = mask_xx & mask_yy & mask_zz\n",
    "        xx = xx[mask]\n",
    "        yy = yy[mask]\n",
    "        zz = zz[mask]\n",
    "\n",
    "    # Calculate relative positions\n",
    "    dx = np.subtract.outer(xx, xx)\n",
    "    dy = np.subtract.outer(yy, yy)\n",
    "    dz = np.subtract.outer(zz, zz)\n",
    "    \n",
    "    return dx, dy, dz\n",
    "\n",
    "# Example usage:\n",
    "cell_center = (5.0, 5.0, 5.0) \n",
    "\n",
    "\n",
    "dx, dy, dz = calculate_sdm_numba(x, y, z, cell_center=None)\n",
    "\n",
    "\n",
    "\n",
    "# Create 1D histograms for each axis\n",
    "histo_dx, bins_dx = np.histogram(dx.flatten(), bins=124)\n",
    "histo_dy, bins_dy = np.histogram(dy.flatten(), bins=124)\n",
    "histo_dz, bins_dz = np.histogram(dz.flatten(), bins=124)\n",
    "\n",
    "# Plot histograms\n",
    "fig, ax = plt.subplots()\n",
    "ax.set_xlabel('dx (Å)')\n",
    "ax.set_ylabel('Intensity')\n",
    "plt.plot(bins_dx[:-1], histo_dx, label='dx')\n",
    "plt.show()\n",
    "fig, ax = plt.subplots()\n",
    "ax.set_xlabel('dy (Å)')\n",
    "ax.set_ylabel('Intensity')\n",
    "plt.plot(bins_dy[:-1], histo_dy, label='dy')\n",
    "plt.show()\n",
    "fig, ax = plt.subplots()\n",
    "ax.set_xlabel('dz (Å)')\n",
    "ax.set_ylabel('Intensity')\n",
    "plt.plot(bins_dz[:-1], histo_dz, label='dz')\n",
    "plt.show()\n",
    "\n",
    "# 2D histogram for dx and dz\n",
    "fig, ax = plt.subplots()\n",
    "ax.set_xlabel('dx (Å)')\n",
    "ax.set_ylabel('dz (Å)')\n",
    "bins = 0.5\n",
    "# Check if the bin is a tuple\n",
    "if isinstance(bins, tuple):\n",
    "    pass\n",
    "else:\n",
    "    x_edges = np.arange(dx.min(), dx.max(), bins)\n",
    "    z_edges = np.arange(dz.min(), dz.max(), bins)\n",
    "    bins = [x_edges, z_edges]\n",
    "h = ax.hist2d(dx.flatten(), dz.flatten(), bins=bins, cmap='viridis')\n",
    "plt.colorbar(h[3], ax=ax, label='Frequency')\n",
    "\n",
    "# plt.legend()\n",
    "plt.show()"
   ]
  },
  {
   "cell_type": "code",
   "execution_count": null,
   "metadata": {
    "tags": []
   },
   "outputs": [],
   "source": [
    "from pymatgen.io.cif import CifParser\n",
    "from pymatgen.core.structure import Structure\n",
    "\n",
    "# Replace 'your_file.cif' with the actual path to your CIF file\n",
    "cif_file_path = 'Al.cif'\n",
    "\n",
    "# Parse the CIF file\n",
    "parser = CifParser(cif_file_path)\n",
    "structure = parser.get_structures()[0]\n",
    "\n",
    "print(structure)\n",
    "# Make a supercell\n",
    "structure.make_supercell([6, 6, 6])\n",
    "\n",
    "# Get atomic positions\n",
    "positions = structure.as_dataframe()\n",
    "\n",
    "x_positions = positions['x']\n",
    "y_positions = positions['y']\n",
    "z_positions = positions['z']\n",
    "# Plot the expanded structure using Matplotlib\n",
    "fig = plt.figure()\n",
    "ax = fig.add_subplot(111, projection='3d')\n",
    "\n",
    "\n",
    "\n",
    "# Plot atomic positions\n",
    "ax.scatter(x_positions, y_positions, z_positions, c='b', marker='o', s=100)\n",
    "\n",
    "# Set axis labels\n",
    "ax.set_xlabel('X')\n",
    "ax.set_ylabel('Y')\n",
    "ax.set_zlabel('Z')\n",
    "\n",
    "# Show the plot\n",
    "plt.show()\n"
   ]
  },
  {
   "cell_type": "code",
   "execution_count": null,
   "metadata": {
    "tags": []
   },
   "outputs": [],
   "source": [
    "# Replace 'your_file.xyz' with the actual path to your XYZ file\n",
    "file_path = 'Al_big.xyz'\n",
    "\n",
    "# Read the XYZ file\n",
    "with open(file_path, 'r') as file:\n",
    "    lines = file.readlines()\n",
    "\n",
    "# Extract the number of atoms\n",
    "num_atoms = int(lines[0])\n",
    "\n",
    "# Initialize arrays to store x, y, and z coordinates\n",
    "x_positions = np.zeros(num_atoms)\n",
    "y_positions = np.zeros(num_atoms)\n",
    "z_positions = np.zeros(num_atoms)\n",
    "\n",
    "# Loop through lines starting from the second line (skipping the number of atoms line)\n",
    "for i, line in enumerate(lines[2:]):\n",
    "    parts = line.split()\n",
    "    x_positions[i] = float(parts[1])\n",
    "    y_positions[i] = float(parts[2])\n",
    "    z_positions[i] = float(parts[3])\n",
    "\n",
    "fig = plt.figure()\n",
    "ax = fig.add_subplot(111, projection='3d')\n",
    "\n",
    "ax.scatter(x_positions, y_positions, z_positions, s=50, c='b', marker='o', edgecolors='k')\n",
    "\n",
    "ax.set_xlabel('X (Å)')\n",
    "ax.set_ylabel('Y (Å)')\n",
    "ax.set_zlabel('Z (Å)')\n",
    "ax.set_title('Atomic Structure')\n",
    "\n",
    "plt.show()\n",
    "\n",
    "# Define the center and radius of the half sphere\n",
    "sphere_center = np.array([x_positions.mean(), y_positions.mean(), z_positions.mean()])\n",
    "sphere_radius = 10.0  # Adjust the radius as needed\n",
    "\n",
    "# Create a boolean mask to filter atoms outside the half sphere\n",
    "distance_from_center = np.linalg.norm(np.column_stack((x_positions, y_positions, z_positions)) - sphere_center, axis=1)\n",
    "atoms_in_half_sphere = distance_from_center <= sphere_radius\n",
    "\n",
    "# Apply the mask to filter out atoms outside the half sphere\n",
    "x_positions_half_sphere = x_positions[atoms_in_half_sphere]\n",
    "y_positions_half_sphere = y_positions[atoms_in_half_sphere]\n",
    "z_positions_half_sphere = z_positions[atoms_in_half_sphere]\n",
    "\n",
    "# Plot the remaining atoms in the half sphere\n",
    "fig = plt.figure()\n",
    "ax = fig.add_subplot(111, projection='3d')\n",
    "\n",
    "ax.scatter(x_positions_half_sphere, y_positions_half_sphere, z_positions_half_sphere, s=50, c='b', marker='o', edgecolors='k')\n",
    "\n",
    "ax.set_xlabel('X (Å)')\n",
    "ax.set_ylabel('Y (Å)')\n",
    "ax.set_zlabel('Z (Å)')\n",
    "ax.set_title('Atomic Structure - Half Sphere')\n",
    "\n",
    "plt.show()\n",
    "\n",
    "sample_2d_histogram(x_positions_half_sphere, z_positions_half_sphere, bins=(512, 512), xlabel='x (nm)', ylabel='z (nm)')"
   ]
  },
  {
   "cell_type": "code",
   "execution_count": null,
   "metadata": {
    "tags": []
   },
   "outputs": [],
   "source": [
    "from ase.build import bulk\n",
    "import numpy as np\n",
    "import matplotlib.pyplot as plt\n",
    "from mpl_toolkits.mplot3d import Axes3D\n",
    "from matplotlib.colors import Normalize\n",
    "\n",
    "####################\n",
    "# # Create the aluminum bulk crystal structure\n",
    "# aluminum = bulk('Al', 'fcc', a=4.49580, b=4.49580, c=8.99160, alpha=90.0,  cubic=True)\n",
    "\n",
    "# # Replicate the unit cell in x, y, and z directions to create a larger volume\n",
    "# aluminum = aluminum.repeat((10, 10, 20))\n",
    "\n",
    "# # Get the atomic positions\n",
    "# positions = aluminum.get_positions()\n",
    "\n",
    "# # Extract x, y, z coordinates from the positions\n",
    "# x, y, z = positions[:, 0], positions[:, 1], positions[:, 2]\n",
    "\n",
    "#################\n",
    "# Create a small unit cell of aluminum\n",
    "aluminum_unit_cell = bulk('Al', 'fcc', a=4.49580, b=4.49580, c=8.99160, alpha=90.0,  cubic=True)\n",
    "view(aluminum_unit_cell, viewer='x3d', show_unit_cell=True)\n",
    "\n",
    "# Calculate the dimensions of the supercell\n",
    "supercell_dimensions = (5, 5, 10)\n",
    "cell_parameters = cell_to_cellpar(aluminum_unit_cell.cell)\n",
    "supercell_parameters = [dim * param for dim, param in zip(supercell_dimensions, cell_parameters)]\n",
    "\n",
    "# Create a supercell\n",
    "aluminum = Atoms(cell=supercell_parameters)\n",
    "aluminum.extend(aluminum_unit_cell.repeat(supercell_dimensions))\n",
    "\n",
    "\n",
    "# Get atomic positions\n",
    "positions = aluminum.get_positions()\n",
    "\n",
    "# Separate x, y, and z coordinates into arrays\n",
    "x = positions[:, 0]\n",
    "y = positions[:, 1]\n",
    "z = positions[:, 2]\n",
    "######################\n",
    "\n",
    "\n",
    "# Create a 3D scatter plot\n",
    "fig = plt.figure()\n",
    "ax = fig.add_subplot(111, projection='3d')\n",
    "ax.scatter(x, y, z, c='b', marker='o', s=20, label='Aluminum Atoms')\n",
    "\n",
    "# Set labels\n",
    "ax.set_xlabel('X (Å)')\n",
    "ax.set_ylabel('Y (Å)')\n",
    "ax.set_zlabel('Z (Å)')\n",
    "ax.set_title('3D Crystal Structure of Aluminum')\n",
    "\n",
    "# Show the plot\n",
    "plt.show()\n",
    "\n"
   ]
  },
  {
   "cell_type": "code",
   "execution_count": null,
   "metadata": {
    "tags": []
   },
   "outputs": [],
   "source": [
    "# Function to calculate 3D FFT and plot the result\n",
    "def calculate_3d_fft_and_plot(x, y, z):\n",
    "    # Combine x, y, z coordinates into a complex 3D array\n",
    "    data = x + 1j * y + 1j**2 * z\n",
    "\n",
    "    # Perform 3D FFT\n",
    "    fft_result = np.fft.fftn(data)\n",
    "\n",
    "    # Get the magnitudes of the FFT result\n",
    "    fft_magnitude = np.abs(fft_result)\n",
    "\n",
    "    # Plot the 3D FFT magnitudes\n",
    "    fig_fft = plt.figure()\n",
    "    ax_fft = fig_fft.add_subplot(111, projection='3d')\n",
    "    \n",
    "    # Get the coordinates of non-zero values in fft_magnitude\n",
    "    nonzero_coords = np.where(fft_magnitude > 1e-3)\n",
    "    \n",
    "    # Scatter plot with x, y, z coordinates\n",
    "    ax_fft.scatter(nonzero_coords[0], nonzero_coords[1], nonzero_coords[2], c='r', marker='o', s=20, label='FFT Peaks')\n",
    "    ax_fft.set_xlabel('Frequency X (1/Å)')\n",
    "    ax_fft.set_ylabel('Frequency Y (1/Å)')\n",
    "    ax_fft.set_zlabel('Frequency Z (1/Å)')\n",
    "    ax_fft.set_title('3D FFT of Crystal Structure')\n",
    "\n",
    "    plt.show()\n",
    "\n",
    "# Calculate 3D FFT for x, y, and z coordinates\n",
    "calculate_3d_fft_and_plot(x, y, z)"
   ]
  }
 ],
 "metadata": {
  "kernelspec": {
   "display_name": "Python 3 (ipykernel)",
   "language": "python",
   "name": "python3"
  },
  "language_info": {
   "codemirror_mode": {
    "name": "ipython",
    "version": 3
   },
   "file_extension": ".py",
   "mimetype": "text/x-python",
   "name": "python",
   "nbconvert_exporter": "python",
   "pygments_lexer": "ipython3",
   "version": "3.11.5"
  },
  "widgets": {
   "application/vnd.jupyter.widget-state+json": {
    "state": {},
    "version_major": 2,
    "version_minor": 0
   }
  }
 },
 "nbformat": 4,
 "nbformat_minor": 4
}

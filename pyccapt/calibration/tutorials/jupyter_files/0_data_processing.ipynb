{
 "cells": [
  {
   "cell_type": "markdown",
   "metadata": {
    "pycharm": {
     "name": "#%% md\n"
    }
   },
   "source": [
    "<div style=\"margin: 0 auto; padding: 20px; font-family: 'Helvetica', sans-serif; font-size: 16px;\">\n",
    "\n",
    "## Data Processing Workflow\n",
    "\n",
    "In this workflow within PyCCAPT, we can crope the data, do the voltage and bowl calibration, calculate the 3d reconstruction, and do the ranging.\n",
    "</div>"
   ]
  },
  {
   "cell_type": "code",
   "execution_count": 1,
   "metadata": {
    "pycharm": {
     "name": "#%%\n"
    },
    "tags": []
   },
   "outputs": [],
   "source": [
    "# Activate intractive functionality of matplotlib\n",
    "%matplotlib ipympl\n",
    "# Activate auto reload \n",
    "%load_ext autoreload\n",
    "%autoreload 2\n",
    "%reload_ext autoreload\n",
    "# import libraries\n",
    "import os\n",
    "import numpy as np\n",
    "from ipywidgets import widgets\n",
    "from IPython.display import display\n",
    "from ipywidgets import fixed, interact_manual\n",
    "import warnings\n",
    "# Ignore all warnings\n",
    "warnings.filterwarnings(\"ignore\")\n",
    "\n",
    "# Local module and scripts\n",
    "from pyccapt.calibration.calibration_tools import widgets as wd\n",
    "from pyccapt.calibration.data_tools import data_tools, data_loadcrop, dataset_path_qt\n",
    "from pyccapt.calibration.tutorials.tutorials_helpers import helper_calibration\n",
    "from pyccapt.calibration.tutorials.tutorials_helpers import helper_data_loader\n",
    "from pyccapt.calibration.tutorials.tutorials_helpers import helper_temporal_crop\n",
    "from pyccapt.calibration.tutorials.tutorials_helpers import helper_special_crop\n",
    "from pyccapt.calibration.tutorials.tutorials_helpers import helper_t_0_tune\n",
    "from pyccapt.calibration.tutorials.tutorials_helpers import helper_mc_plot\n",
    "from pyccapt.calibration.tutorials.tutorials_helpers import helper_3d_reconstruction\n",
    "from pyccapt.calibration.tutorials.tutorials_helpers import helper_ion_selection\n",
    "from pyccapt.calibration.tutorials.tutorials_helpers import helper_visualization\n",
    "from pyccapt.calibration.tutorials.tutorials_helpers import helper_ion_list"
   ]
  },
  {
   "cell_type": "markdown",
   "metadata": {},
   "source": [
    "<div style=\"margin: 0 auto; padding: 20px; font-family: 'Helvetica', sans-serif; font-size: 16px;\">\n",
    "In case of recieving the error about pytable library, you have to install the pytables library with conda command. to do that you can open a new cell and copy the line below in it. Then just run it like other cells. The pytables library will be innstalled.\n",
    "    \n",
    "`!conda install --yes --prefix {sys.prefix} pytables`\n",
    "</div>\n"
   ]
  },
  {
   "cell_type": "markdown",
   "metadata": {},
   "source": [
    "<div style=\"margin: 0 auto; padding: 20px; font-family: 'Helvetica', sans-serif; font-size: 16px;\">\n",
    "    \n",
    "By clicking on the button below, you can select the dataset file you want to crop. The dataset file can be in various formats, including HDF5, EPOS, POS, ATO, and CSV. The cropped data will be saved in the same directory as the original dataset file in a new directory nammed load_crop. The name of the cropped dataset file will be the same as the original dataset file. The figures will be saved in the same directory as the dataset file.\n",
    "</div>"
   ]
  },
  {
   "cell_type": "code",
   "execution_count": 9,
   "metadata": {
    "tags": []
   },
   "outputs": [
    {
     "data": {
      "application/vnd.jupyter.widget-view+json": {
       "model_id": "6f5b7fcd083b4d449217669754498012",
       "version_major": 2,
       "version_minor": 0
      },
      "text/plain": [
       "Button(description='load dataset', style=ButtonStyle())"
      ]
     },
     "execution_count": 9,
     "metadata": {},
     "output_type": "execute_result"
    }
   ],
   "source": [
    "button = widgets.Button(\n",
    "    description='load dataset',\n",
    ")\n",
    "@button.on_click\n",
    "def open_file_on_click(b):\n",
    "    \"\"\"\n",
    "    Event handler for button click event.\n",
    "    Prompts the user to select a dataset file and stores the selected file path in the global variable dataset_path.\n",
    "    \"\"\"\n",
    "    global dataset_path\n",
    "    dataset_path = dataset_path_qt.gui_fname().decode('ASCII')\n",
    "button"
   ]
  },
  {
   "cell_type": "markdown",
   "metadata": {
    "tags": []
   },
   "source": [
    "<div style=\"margin: 0 auto; padding: 20px; font-family: 'Helvetica', sans-serif; font-size: 16px;\">\n",
    "\n",
    "## ROI Selection and Data Cropping\n",
    "    \n",
    "\n",
    "</div>\n",
    "\n"
   ]
  },
  {
   "cell_type": "markdown",
   "metadata": {},
   "source": [
    "<div style=\"margin: 0 auto; padding: 20px; font-family: 'Helvetica', sans-serif; font-size: 16px;\">\n",
    "\n",
    "    \n",
    "From the dropdown lists below, you can select the instrument specifications of the dataset. The instrument specifications are the same as the ones used for the calibration process. Data mode is specify the dataset structure. The dataset can be in raw or calibrated mode. The flight path length is the distance between the sample and the detector. The t0 is the time of flight of the ions with the lowest mass-to-charge ratio. The maximum mass-to-charge ratio is the maximum mass-to-charge ratio of tat you want to plot. You can also change it in te related cells. The detector diameter is the diameter of the detector.\n",
    "</div>\n"
   ]
  },
  {
   "cell_type": "code",
   "execution_count": 16,
   "metadata": {
    "tags": []
   },
   "outputs": [
    {
     "data": {
      "application/vnd.jupyter.widget-view+json": {
       "model_id": "11b7333f572c4024985fd37b72bbfe99",
       "version_major": 2,
       "version_minor": 0
      },
      "text/plain": [
       "Dropdown(description='Data mode:', options=('pyccapt', 'leap_epos', 'leap_pos', 'ato_v6'), value='pyccapt')"
      ]
     },
     "metadata": {},
     "output_type": "display_data"
    },
    {
     "data": {
      "application/vnd.jupyter.widget-view+json": {
       "model_id": "84fb6038e3854291ab0b15fc5160e7f5",
       "version_major": 2,
       "version_minor": 0
      },
      "text/plain": [
       "Dropdown(description='Pulse mode:', options=('voltage', 'laser'), value='voltage')"
      ]
     },
     "metadata": {},
     "output_type": "display_data"
    },
    {
     "data": {
      "application/vnd.jupyter.widget-view+json": {
       "model_id": "c02d9827b2044181b03fe34372180a18",
       "version_major": 2,
       "version_minor": 0
      },
      "text/plain": [
       "FloatText(value=110.0, description='Flight path length:')"
      ]
     },
     "metadata": {},
     "output_type": "display_data"
    },
    {
     "data": {
      "application/vnd.jupyter.widget-view+json": {
       "model_id": "4ef522decf1d4195a493b5fd1a8c59b3",
       "version_major": 2,
       "version_minor": 0
      },
      "text/plain": [
       "FloatText(value=38.0, description='t0:')"
      ]
     },
     "metadata": {},
     "output_type": "display_data"
    },
    {
     "data": {
      "application/vnd.jupyter.widget-view+json": {
       "model_id": "5aa5fcd556934635b7b192eacfdc5e49",
       "version_major": 2,
       "version_minor": 0
      },
      "text/plain": [
       "FloatText(value=400.0, description='Max mc:')"
      ]
     },
     "metadata": {},
     "output_type": "display_data"
    }
   ],
   "source": [
    "# create an object for selection of instrument specifications of the dataset\n",
    "tdc, pulse_mode, flight_path_length, t0, max_mc, det_diam = wd.dataset_instrument_specification_selection()\n",
    "\n",
    "# Display lists and comboboxes to selected instrument specifications\n",
    "display(tdc, pulse_mode, flight_path_length, t0, max_mc)"
   ]
  },
  {
   "cell_type": "code",
   "execution_count": 17,
   "metadata": {
    "tags": []
   },
   "outputs": [
    {
     "name": "stdout",
     "output_type": "stream",
     "text": [
      "The maximum possible TOF is: 5010 ns\n",
      "=============================\n",
      "The data will be saved on the path: T:/Monajem/Ortner/Epos_Crystal_recon/R56_05538-v03/data_processing/\n",
      "=============================\n",
      "The dataset name after saving is: R56_05538-v03\n",
      "=============================\n",
      "The figures will be saved on the path: T:/Monajem/Ortner/Epos_Crystal_recon/R56_05538-v03/data_processing/\n",
      "=============================\n",
      "Total number of Ions: 29500316\n"
     ]
    },
    {
     "data": {
      "text/html": [
       "<div>\n",
       "<style scoped>\n",
       "    .dataframe tbody tr th:only-of-type {\n",
       "        vertical-align: middle;\n",
       "    }\n",
       "\n",
       "    .dataframe tbody tr th {\n",
       "        vertical-align: top;\n",
       "    }\n",
       "\n",
       "    .dataframe thead th {\n",
       "        text-align: right;\n",
       "    }\n",
       "</style>\n",
       "<table border=\"1\" class=\"dataframe\">\n",
       "  <thead>\n",
       "    <tr style=\"text-align: right;\">\n",
       "      <th></th>\n",
       "      <th>x (nm)</th>\n",
       "      <th>y (nm)</th>\n",
       "      <th>z (nm)</th>\n",
       "      <th>mc_c (Da)</th>\n",
       "      <th>mc (Da)</th>\n",
       "      <th>high_voltage (V)</th>\n",
       "      <th>pulse</th>\n",
       "      <th>start_counter</th>\n",
       "      <th>t_c (ns)</th>\n",
       "      <th>t (ns)</th>\n",
       "      <th>x_det (cm)</th>\n",
       "      <th>y_det (cm)</th>\n",
       "      <th>pulse_pi</th>\n",
       "      <th>ion_pp</th>\n",
       "    </tr>\n",
       "  </thead>\n",
       "  <tbody>\n",
       "    <tr>\n",
       "      <th>0</th>\n",
       "      <td>-0.797289</td>\n",
       "      <td>0.189189</td>\n",
       "      <td>0.005577</td>\n",
       "      <td>26.970173</td>\n",
       "      <td>0.0</td>\n",
       "      <td>4079.629883</td>\n",
       "      <td>815.925964</td>\n",
       "      <td>0</td>\n",
       "      <td>0.0</td>\n",
       "      <td>1873.781982</td>\n",
       "      <td>-1.096098</td>\n",
       "      <td>0.266187</td>\n",
       "      <td>0</td>\n",
       "      <td>1</td>\n",
       "    </tr>\n",
       "    <tr>\n",
       "      <th>1</th>\n",
       "      <td>1.616762</td>\n",
       "      <td>8.717011</td>\n",
       "      <td>0.656416</td>\n",
       "      <td>26.966919</td>\n",
       "      <td>0.0</td>\n",
       "      <td>4079.629883</td>\n",
       "      <td>815.925964</td>\n",
       "      <td>0</td>\n",
       "      <td>0.0</td>\n",
       "      <td>1875.974365</td>\n",
       "      <td>0.855491</td>\n",
       "      <td>6.228777</td>\n",
       "      <td>314</td>\n",
       "      <td>1</td>\n",
       "    </tr>\n",
       "    <tr>\n",
       "      <th>2</th>\n",
       "      <td>-10.108647</td>\n",
       "      <td>-0.503136</td>\n",
       "      <td>0.856949</td>\n",
       "      <td>26.979609</td>\n",
       "      <td>0.0</td>\n",
       "      <td>4079.629883</td>\n",
       "      <td>815.925964</td>\n",
       "      <td>0</td>\n",
       "      <td>0.0</td>\n",
       "      <td>1853.190918</td>\n",
       "      <td>-7.298410</td>\n",
       "      <td>-0.212950</td>\n",
       "      <td>5</td>\n",
       "      <td>1</td>\n",
       "    </tr>\n",
       "    <tr>\n",
       "      <th>3</th>\n",
       "      <td>2.763345</td>\n",
       "      <td>16.409430</td>\n",
       "      <td>2.345595</td>\n",
       "      <td>13.495921</td>\n",
       "      <td>0.0</td>\n",
       "      <td>4079.629883</td>\n",
       "      <td>815.925964</td>\n",
       "      <td>0</td>\n",
       "      <td>0.0</td>\n",
       "      <td>1324.285645</td>\n",
       "      <td>2.352601</td>\n",
       "      <td>11.685612</td>\n",
       "      <td>58</td>\n",
       "      <td>1</td>\n",
       "    </tr>\n",
       "    <tr>\n",
       "      <th>4</th>\n",
       "      <td>-15.475331</td>\n",
       "      <td>-1.666233</td>\n",
       "      <td>2.047008</td>\n",
       "      <td>27.018654</td>\n",
       "      <td>0.0</td>\n",
       "      <td>4079.629883</td>\n",
       "      <td>815.925964</td>\n",
       "      <td>0</td>\n",
       "      <td>0.0</td>\n",
       "      <td>1841.099609</td>\n",
       "      <td>-10.613440</td>\n",
       "      <td>-1.064748</td>\n",
       "      <td>110</td>\n",
       "      <td>1</td>\n",
       "    </tr>\n",
       "    <tr>\n",
       "      <th>...</th>\n",
       "      <td>...</td>\n",
       "      <td>...</td>\n",
       "      <td>...</td>\n",
       "      <td>...</td>\n",
       "      <td>...</td>\n",
       "      <td>...</td>\n",
       "      <td>...</td>\n",
       "      <td>...</td>\n",
       "      <td>...</td>\n",
       "      <td>...</td>\n",
       "      <td>...</td>\n",
       "      <td>...</td>\n",
       "      <td>...</td>\n",
       "      <td>...</td>\n",
       "    </tr>\n",
       "    <tr>\n",
       "      <th>29500311</th>\n",
       "      <td>-15.779431</td>\n",
       "      <td>-8.005019</td>\n",
       "      <td>335.378479</td>\n",
       "      <td>27.319469</td>\n",
       "      <td>0.0</td>\n",
       "      <td>8289.629883</td>\n",
       "      <td>1657.926025</td>\n",
       "      <td>0</td>\n",
       "      <td>0.0</td>\n",
       "      <td>1310.368652</td>\n",
       "      <td>-5.774566</td>\n",
       "      <td>-2.635252</td>\n",
       "      <td>0</td>\n",
       "      <td>0</td>\n",
       "    </tr>\n",
       "    <tr>\n",
       "      <th>29500312</th>\n",
       "      <td>0.565685</td>\n",
       "      <td>32.896160</td>\n",
       "      <td>338.599609</td>\n",
       "      <td>26.989311</td>\n",
       "      <td>0.0</td>\n",
       "      <td>8289.629883</td>\n",
       "      <td>1657.926025</td>\n",
       "      <td>0</td>\n",
       "      <td>0.0</td>\n",
       "      <td>1309.762573</td>\n",
       "      <td>0.534682</td>\n",
       "      <td>11.499281</td>\n",
       "      <td>135</td>\n",
       "      <td>1</td>\n",
       "    </tr>\n",
       "    <tr>\n",
       "      <th>29500313</th>\n",
       "      <td>15.861534</td>\n",
       "      <td>18.763754</td>\n",
       "      <td>336.584900</td>\n",
       "      <td>26.983139</td>\n",
       "      <td>0.0</td>\n",
       "      <td>8289.629883</td>\n",
       "      <td>1657.926025</td>\n",
       "      <td>0</td>\n",
       "      <td>0.0</td>\n",
       "      <td>1321.584473</td>\n",
       "      <td>5.507226</td>\n",
       "      <td>6.654676</td>\n",
       "      <td>19</td>\n",
       "      <td>1</td>\n",
       "    </tr>\n",
       "    <tr>\n",
       "      <th>29500314</th>\n",
       "      <td>-21.867247</td>\n",
       "      <td>-26.479500</td>\n",
       "      <td>339.011414</td>\n",
       "      <td>13.547936</td>\n",
       "      <td>0.0</td>\n",
       "      <td>8289.629883</td>\n",
       "      <td>1657.926025</td>\n",
       "      <td>0</td>\n",
       "      <td>0.0</td>\n",
       "      <td>917.004272</td>\n",
       "      <td>-7.218208</td>\n",
       "      <td>-9.103598</td>\n",
       "      <td>138</td>\n",
       "      <td>1</td>\n",
       "    </tr>\n",
       "    <tr>\n",
       "      <th>29500315</th>\n",
       "      <td>30.990301</td>\n",
       "      <td>0.745166</td>\n",
       "      <td>338.085052</td>\n",
       "      <td>26.975090</td>\n",
       "      <td>0.0</td>\n",
       "      <td>8289.629883</td>\n",
       "      <td>1657.926025</td>\n",
       "      <td>0</td>\n",
       "      <td>0.0</td>\n",
       "      <td>1330.742798</td>\n",
       "      <td>11.148121</td>\n",
       "      <td>0.399281</td>\n",
       "      <td>206</td>\n",
       "      <td>1</td>\n",
       "    </tr>\n",
       "  </tbody>\n",
       "</table>\n",
       "<p>29500316 rows × 14 columns</p>\n",
       "</div>"
      ],
      "text/plain": [
       "             x (nm)     y (nm)      z (nm)  mc_c (Da)  mc (Da)  \\\n",
       "0         -0.797289   0.189189    0.005577  26.970173      0.0   \n",
       "1          1.616762   8.717011    0.656416  26.966919      0.0   \n",
       "2        -10.108647  -0.503136    0.856949  26.979609      0.0   \n",
       "3          2.763345  16.409430    2.345595  13.495921      0.0   \n",
       "4        -15.475331  -1.666233    2.047008  27.018654      0.0   \n",
       "...             ...        ...         ...        ...      ...   \n",
       "29500311 -15.779431  -8.005019  335.378479  27.319469      0.0   \n",
       "29500312   0.565685  32.896160  338.599609  26.989311      0.0   \n",
       "29500313  15.861534  18.763754  336.584900  26.983139      0.0   \n",
       "29500314 -21.867247 -26.479500  339.011414  13.547936      0.0   \n",
       "29500315  30.990301   0.745166  338.085052  26.975090      0.0   \n",
       "\n",
       "          high_voltage (V)        pulse  start_counter  t_c (ns)       t (ns)  \\\n",
       "0              4079.629883   815.925964              0       0.0  1873.781982   \n",
       "1              4079.629883   815.925964              0       0.0  1875.974365   \n",
       "2              4079.629883   815.925964              0       0.0  1853.190918   \n",
       "3              4079.629883   815.925964              0       0.0  1324.285645   \n",
       "4              4079.629883   815.925964              0       0.0  1841.099609   \n",
       "...                    ...          ...            ...       ...          ...   \n",
       "29500311       8289.629883  1657.926025              0       0.0  1310.368652   \n",
       "29500312       8289.629883  1657.926025              0       0.0  1309.762573   \n",
       "29500313       8289.629883  1657.926025              0       0.0  1321.584473   \n",
       "29500314       8289.629883  1657.926025              0       0.0   917.004272   \n",
       "29500315       8289.629883  1657.926025              0       0.0  1330.742798   \n",
       "\n",
       "          x_det (cm)  y_det (cm)  pulse_pi  ion_pp  \n",
       "0          -1.096098    0.266187         0       1  \n",
       "1           0.855491    6.228777       314       1  \n",
       "2          -7.298410   -0.212950         5       1  \n",
       "3           2.352601   11.685612        58       1  \n",
       "4         -10.613440   -1.064748       110       1  \n",
       "...              ...         ...       ...     ...  \n",
       "29500311   -5.774566   -2.635252         0       0  \n",
       "29500312    0.534682   11.499281       135       1  \n",
       "29500313    5.507226    6.654676        19       1  \n",
       "29500314   -7.218208   -9.103598       138       1  \n",
       "29500315   11.148121    0.399281       206       1  \n",
       "\n",
       "[29500316 rows x 14 columns]"
      ]
     },
     "metadata": {},
     "output_type": "display_data"
    },
    {
     "data": {
      "text/html": [
       "<div>\n",
       "<style scoped>\n",
       "    .dataframe tbody tr th:only-of-type {\n",
       "        vertical-align: middle;\n",
       "    }\n",
       "\n",
       "    .dataframe tbody tr th {\n",
       "        vertical-align: top;\n",
       "    }\n",
       "\n",
       "    .dataframe thead th {\n",
       "        text-align: right;\n",
       "    }\n",
       "</style>\n",
       "<table border=\"1\" class=\"dataframe\">\n",
       "  <thead>\n",
       "    <tr style=\"text-align: right;\">\n",
       "      <th></th>\n",
       "      <th>ion</th>\n",
       "      <th>mass</th>\n",
       "      <th>mc</th>\n",
       "      <th>mc_low</th>\n",
       "      <th>mc_up</th>\n",
       "      <th>color</th>\n",
       "      <th>element</th>\n",
       "      <th>complex</th>\n",
       "      <th>isotope</th>\n",
       "      <th>charge</th>\n",
       "    </tr>\n",
       "  </thead>\n",
       "  <tbody>\n",
       "    <tr>\n",
       "      <th>0</th>\n",
       "      <td>unranged</td>\n",
       "      <td>0.0</td>\n",
       "      <td>0.0</td>\n",
       "      <td>0.0</td>\n",
       "      <td>400.0</td>\n",
       "      <td>#000000</td>\n",
       "      <td>unranged</td>\n",
       "      <td>0</td>\n",
       "      <td>0</td>\n",
       "      <td>0</td>\n",
       "    </tr>\n",
       "  </tbody>\n",
       "</table>\n",
       "</div>"
      ],
      "text/plain": [
       "        ion  mass   mc  mc_low  mc_up    color   element complex isotope  \\\n",
       "0  unranged   0.0  0.0     0.0  400.0  #000000  unranged       0       0   \n",
       "\n",
       "   charge  \n",
       "0       0  "
      ]
     },
     "metadata": {},
     "output_type": "display_data"
    }
   ],
   "source": [
    "variables = helper_data_loader.load_data(dataset_path, max_mc.value, flight_path_length.value, pulse_mode.value, tdc.value)\n",
    "display(variables.data)\n",
    "display(variables.range_data)"
   ]
  },
  {
   "cell_type": "code",
   "execution_count": 5,
   "metadata": {
    "tags": []
   },
   "outputs": [
    {
     "name": "stdout",
     "output_type": "stream",
     "text": [
      "The maximum time of flight: 5010\n",
      "Load data successfully\n",
      "The maximum time of flight: 5010\n",
      "Load range file\n",
      "The maximum time of flight: 5010\n"
     ]
    },
    {
     "data": {
      "text/html": [
       "<div>\n",
       "<style scoped>\n",
       "    .dataframe tbody tr th:only-of-type {\n",
       "        vertical-align: middle;\n",
       "    }\n",
       "\n",
       "    .dataframe tbody tr th {\n",
       "        vertical-align: top;\n",
       "    }\n",
       "\n",
       "    .dataframe thead th {\n",
       "        text-align: right;\n",
       "    }\n",
       "</style>\n",
       "<table border=\"1\" class=\"dataframe\">\n",
       "  <thead>\n",
       "    <tr style=\"text-align: right;\">\n",
       "      <th></th>\n",
       "      <th>x (nm)</th>\n",
       "      <th>y (nm)</th>\n",
       "      <th>z (nm)</th>\n",
       "      <th>mc_c (Da)</th>\n",
       "      <th>mc (Da)</th>\n",
       "      <th>high_voltage (V)</th>\n",
       "      <th>pulse</th>\n",
       "      <th>start_counter</th>\n",
       "      <th>t_c (ns)</th>\n",
       "      <th>t (ns)</th>\n",
       "      <th>x_det (cm)</th>\n",
       "      <th>y_det (cm)</th>\n",
       "      <th>pulse_pi</th>\n",
       "      <th>ion_pp</th>\n",
       "    </tr>\n",
       "  </thead>\n",
       "  <tbody>\n",
       "    <tr>\n",
       "      <th>0</th>\n",
       "      <td>0.0</td>\n",
       "      <td>0.0</td>\n",
       "      <td>0.0</td>\n",
       "      <td>0.0</td>\n",
       "      <td>29.662619</td>\n",
       "      <td>4994.750000</td>\n",
       "      <td>998.950012</td>\n",
       "      <td>4583</td>\n",
       "      <td>0.0</td>\n",
       "      <td>618.200684</td>\n",
       "      <td>-1.479184</td>\n",
       "      <td>-1.802449</td>\n",
       "      <td>0</td>\n",
       "      <td>0</td>\n",
       "    </tr>\n",
       "    <tr>\n",
       "      <th>1</th>\n",
       "      <td>0.0</td>\n",
       "      <td>0.0</td>\n",
       "      <td>0.0</td>\n",
       "      <td>0.0</td>\n",
       "      <td>29.079235</td>\n",
       "      <td>4994.750000</td>\n",
       "      <td>998.950012</td>\n",
       "      <td>4641</td>\n",
       "      <td>0.0</td>\n",
       "      <td>611.109497</td>\n",
       "      <td>1.456326</td>\n",
       "      <td>-1.648980</td>\n",
       "      <td>58</td>\n",
       "      <td>2</td>\n",
       "    </tr>\n",
       "    <tr>\n",
       "      <th>2</th>\n",
       "      <td>0.0</td>\n",
       "      <td>0.0</td>\n",
       "      <td>0.0</td>\n",
       "      <td>0.0</td>\n",
       "      <td>14.561744</td>\n",
       "      <td>4994.750000</td>\n",
       "      <td>998.950012</td>\n",
       "      <td>4897</td>\n",
       "      <td>0.0</td>\n",
       "      <td>440.791107</td>\n",
       "      <td>1.031837</td>\n",
       "      <td>-1.436735</td>\n",
       "      <td>256</td>\n",
       "      <td>1</td>\n",
       "    </tr>\n",
       "    <tr>\n",
       "      <th>3</th>\n",
       "      <td>0.0</td>\n",
       "      <td>0.0</td>\n",
       "      <td>0.0</td>\n",
       "      <td>0.0</td>\n",
       "      <td>29.420926</td>\n",
       "      <td>4994.750000</td>\n",
       "      <td>998.950012</td>\n",
       "      <td>5312</td>\n",
       "      <td>0.0</td>\n",
       "      <td>608.311462</td>\n",
       "      <td>1.204898</td>\n",
       "      <td>-0.845714</td>\n",
       "      <td>415</td>\n",
       "      <td>1</td>\n",
       "    </tr>\n",
       "    <tr>\n",
       "      <th>4</th>\n",
       "      <td>0.0</td>\n",
       "      <td>0.0</td>\n",
       "      <td>0.0</td>\n",
       "      <td>0.0</td>\n",
       "      <td>29.190067</td>\n",
       "      <td>4994.750000</td>\n",
       "      <td>998.950012</td>\n",
       "      <td>5386</td>\n",
       "      <td>0.0</td>\n",
       "      <td>608.023438</td>\n",
       "      <td>1.482449</td>\n",
       "      <td>-0.904490</td>\n",
       "      <td>74</td>\n",
       "      <td>1</td>\n",
       "    </tr>\n",
       "    <tr>\n",
       "      <th>...</th>\n",
       "      <td>...</td>\n",
       "      <td>...</td>\n",
       "      <td>...</td>\n",
       "      <td>...</td>\n",
       "      <td>...</td>\n",
       "      <td>...</td>\n",
       "      <td>...</td>\n",
       "      <td>...</td>\n",
       "      <td>...</td>\n",
       "      <td>...</td>\n",
       "      <td>...</td>\n",
       "      <td>...</td>\n",
       "      <td>...</td>\n",
       "      <td>...</td>\n",
       "    </tr>\n",
       "    <tr>\n",
       "      <th>10343681</th>\n",
       "      <td>0.0</td>\n",
       "      <td>0.0</td>\n",
       "      <td>0.0</td>\n",
       "      <td>0.0</td>\n",
       "      <td>30.230337</td>\n",
       "      <td>6353.089844</td>\n",
       "      <td>1270.618042</td>\n",
       "      <td>9874</td>\n",
       "      <td>0.0</td>\n",
       "      <td>560.504333</td>\n",
       "      <td>-2.618776</td>\n",
       "      <td>-0.346122</td>\n",
       "      <td>43</td>\n",
       "      <td>1</td>\n",
       "    </tr>\n",
       "    <tr>\n",
       "      <th>10343682</th>\n",
       "      <td>0.0</td>\n",
       "      <td>0.0</td>\n",
       "      <td>0.0</td>\n",
       "      <td>0.0</td>\n",
       "      <td>30.793319</td>\n",
       "      <td>6353.089844</td>\n",
       "      <td>1270.618042</td>\n",
       "      <td>9876</td>\n",
       "      <td>0.0</td>\n",
       "      <td>557.301636</td>\n",
       "      <td>-1.560816</td>\n",
       "      <td>0.816327</td>\n",
       "      <td>2</td>\n",
       "      <td>1</td>\n",
       "    </tr>\n",
       "    <tr>\n",
       "      <th>10343683</th>\n",
       "      <td>0.0</td>\n",
       "      <td>0.0</td>\n",
       "      <td>0.0</td>\n",
       "      <td>0.0</td>\n",
       "      <td>30.173875</td>\n",
       "      <td>6353.089844</td>\n",
       "      <td>1270.618042</td>\n",
       "      <td>9998</td>\n",
       "      <td>0.0</td>\n",
       "      <td>558.522400</td>\n",
       "      <td>-1.492245</td>\n",
       "      <td>2.004898</td>\n",
       "      <td>122</td>\n",
       "      <td>1</td>\n",
       "    </tr>\n",
       "    <tr>\n",
       "      <th>10343684</th>\n",
       "      <td>0.0</td>\n",
       "      <td>0.0</td>\n",
       "      <td>0.0</td>\n",
       "      <td>0.0</td>\n",
       "      <td>15.065464</td>\n",
       "      <td>6353.089844</td>\n",
       "      <td>1270.618042</td>\n",
       "      <td>10068</td>\n",
       "      <td>0.0</td>\n",
       "      <td>405.403809</td>\n",
       "      <td>-2.024490</td>\n",
       "      <td>-1.368163</td>\n",
       "      <td>70</td>\n",
       "      <td>1</td>\n",
       "    </tr>\n",
       "    <tr>\n",
       "      <th>10343685</th>\n",
       "      <td>0.0</td>\n",
       "      <td>0.0</td>\n",
       "      <td>0.0</td>\n",
       "      <td>0.0</td>\n",
       "      <td>14.923889</td>\n",
       "      <td>6353.089844</td>\n",
       "      <td>1270.618042</td>\n",
       "      <td>10117</td>\n",
       "      <td>0.0</td>\n",
       "      <td>395.391144</td>\n",
       "      <td>-0.502857</td>\n",
       "      <td>-0.176327</td>\n",
       "      <td>49</td>\n",
       "      <td>1</td>\n",
       "    </tr>\n",
       "  </tbody>\n",
       "</table>\n",
       "<p>10343686 rows × 14 columns</p>\n",
       "</div>"
      ],
      "text/plain": [
       "          x (nm)  y (nm)  z (nm)  mc_c (Da)    mc (Da)  high_voltage (V)  \\\n",
       "0            0.0     0.0     0.0        0.0  29.662619       4994.750000   \n",
       "1            0.0     0.0     0.0        0.0  29.079235       4994.750000   \n",
       "2            0.0     0.0     0.0        0.0  14.561744       4994.750000   \n",
       "3            0.0     0.0     0.0        0.0  29.420926       4994.750000   \n",
       "4            0.0     0.0     0.0        0.0  29.190067       4994.750000   \n",
       "...          ...     ...     ...        ...        ...               ...   \n",
       "10343681     0.0     0.0     0.0        0.0  30.230337       6353.089844   \n",
       "10343682     0.0     0.0     0.0        0.0  30.793319       6353.089844   \n",
       "10343683     0.0     0.0     0.0        0.0  30.173875       6353.089844   \n",
       "10343684     0.0     0.0     0.0        0.0  15.065464       6353.089844   \n",
       "10343685     0.0     0.0     0.0        0.0  14.923889       6353.089844   \n",
       "\n",
       "                pulse  start_counter  t_c (ns)      t (ns)  x_det (cm)  \\\n",
       "0          998.950012           4583       0.0  618.200684   -1.479184   \n",
       "1          998.950012           4641       0.0  611.109497    1.456326   \n",
       "2          998.950012           4897       0.0  440.791107    1.031837   \n",
       "3          998.950012           5312       0.0  608.311462    1.204898   \n",
       "4          998.950012           5386       0.0  608.023438    1.482449   \n",
       "...               ...            ...       ...         ...         ...   \n",
       "10343681  1270.618042           9874       0.0  560.504333   -2.618776   \n",
       "10343682  1270.618042           9876       0.0  557.301636   -1.560816   \n",
       "10343683  1270.618042           9998       0.0  558.522400   -1.492245   \n",
       "10343684  1270.618042          10068       0.0  405.403809   -2.024490   \n",
       "10343685  1270.618042          10117       0.0  395.391144   -0.502857   \n",
       "\n",
       "          y_det (cm)  pulse_pi  ion_pp  \n",
       "0          -1.802449         0       0  \n",
       "1          -1.648980        58       2  \n",
       "2          -1.436735       256       1  \n",
       "3          -0.845714       415       1  \n",
       "4          -0.904490        74       1  \n",
       "...              ...       ...     ...  \n",
       "10343681   -0.346122        43       1  \n",
       "10343682    0.816327         2       1  \n",
       "10343683    2.004898       122       1  \n",
       "10343684   -1.368163        70       1  \n",
       "10343685   -0.176327        49       1  \n",
       "\n",
       "[10343686 rows x 14 columns]"
      ]
     },
     "metadata": {},
     "output_type": "display_data"
    },
    {
     "data": {
      "text/html": [
       "<div>\n",
       "<style scoped>\n",
       "    .dataframe tbody tr th:only-of-type {\n",
       "        vertical-align: middle;\n",
       "    }\n",
       "\n",
       "    .dataframe tbody tr th {\n",
       "        vertical-align: top;\n",
       "    }\n",
       "\n",
       "    .dataframe thead th {\n",
       "        text-align: right;\n",
       "    }\n",
       "</style>\n",
       "<table border=\"1\" class=\"dataframe\">\n",
       "  <thead>\n",
       "    <tr style=\"text-align: right;\">\n",
       "      <th></th>\n",
       "      <th>ion</th>\n",
       "      <th>mass</th>\n",
       "      <th>mc</th>\n",
       "      <th>mc_low</th>\n",
       "      <th>mc_up</th>\n",
       "      <th>color</th>\n",
       "      <th>element</th>\n",
       "      <th>complex</th>\n",
       "      <th>isotope</th>\n",
       "      <th>charge</th>\n",
       "    </tr>\n",
       "  </thead>\n",
       "  <tbody>\n",
       "    <tr>\n",
       "      <th>0</th>\n",
       "      <td>${}^{1}H^{+}$</td>\n",
       "      <td>1.01</td>\n",
       "      <td>1.002565</td>\n",
       "      <td>0.837600</td>\n",
       "      <td>1.144211</td>\n",
       "      <td>#6bd912</td>\n",
       "      <td>[H]</td>\n",
       "      <td>[1]</td>\n",
       "      <td>[1]</td>\n",
       "      <td>1</td>\n",
       "    </tr>\n",
       "    <tr>\n",
       "      <th>1</th>\n",
       "      <td>${}^{27}Al^{2+}$</td>\n",
       "      <td>13.49</td>\n",
       "      <td>13.433510</td>\n",
       "      <td>13.293074</td>\n",
       "      <td>14.274230</td>\n",
       "      <td>#f25f75</td>\n",
       "      <td>[Al]</td>\n",
       "      <td>[1]</td>\n",
       "      <td>[27]</td>\n",
       "      <td>2</td>\n",
       "    </tr>\n",
       "    <tr>\n",
       "      <th>2</th>\n",
       "      <td>${}^{27}Al^{+}$</td>\n",
       "      <td>26.98</td>\n",
       "      <td>26.967200</td>\n",
       "      <td>26.225805</td>\n",
       "      <td>28.703226</td>\n",
       "      <td>#f80d30</td>\n",
       "      <td>[Al]</td>\n",
       "      <td>[1]</td>\n",
       "      <td>[27]</td>\n",
       "      <td>1</td>\n",
       "    </tr>\n",
       "  </tbody>\n",
       "</table>\n",
       "</div>"
      ],
      "text/plain": [
       "                ion   mass         mc     mc_low      mc_up    color element  \\\n",
       "0     ${}^{1}H^{+}$   1.01   1.002565   0.837600   1.144211  #6bd912     [H]   \n",
       "1  ${}^{27}Al^{2+}$  13.49  13.433510  13.293074  14.274230  #f25f75    [Al]   \n",
       "2   ${}^{27}Al^{+}$  26.98  26.967200  26.225805  28.703226  #f80d30    [Al]   \n",
       "\n",
       "  complex isotope  charge  \n",
       "0     [1]     [1]       1  \n",
       "1     [1]    [27]       2  \n",
       "2     [1]    [27]       1  "
      ]
     },
     "metadata": {},
     "output_type": "display_data"
    }
   ],
   "source": [
    "#load data, if it exists,\n",
    "try:\n",
    "    if os.path.exists(variables.result_data_path + '//' + variables.result_data_name + '.h5'):\n",
    "        variables.data = data_tools.load_data(variables.result_data_path + '//' + variables.result_data_name + '.h5', tdc='pyccapt', mode='processed')\n",
    "        # exctract needed data from Pandas data frame as an numpy array\n",
    "        data_tools.extract_data(variables.data, variables, flight_path_length.value, max_mc.value)\n",
    "        print('Load data successfully')\n",
    "    elif os.path.exists(variables.result_data_path + '//' + variables.result_data_name + 'temp' + '.h5'):\n",
    "        variables.data = data_tools.load_data(variables.result_data_path + '//' + variables.result_data_name + '.h5', tdc='pyccapt', mode='processed')\n",
    "        # exctract needed data from Pandas data frame as an numpy array\n",
    "        data_tools.extract_data(variables.data, variables, flight_path_length.value, max_mc.value)\n",
    "        print('Continue from the point based on the loaded data')\n",
    "        \n",
    "    else:\n",
    "        print('No data avaliable')\n",
    "    if os.path.exists(variables.result_data_path + '/' + 'range_' + variables.dataset_name+ '.h5'):\n",
    "        variables.range_data = data_tools.read_hdf5_through_pandas(variables.result_data_path + '/' + 'range_' + variables.dataset_name+ '.h5')\n",
    "        # exctract needed data from Pandas data frame as an numpy array\n",
    "        data_tools.extract_data(variables.data, variables, flight_path_length.value, max_mc.value)\n",
    "        print('Load range file')\n",
    "    else:\n",
    "        print('No range data avaliable')\n",
    "    # exctract needed data from Pandas data frame as a numpy array\n",
    "    data_tools.extract_data(variables.data, variables, flight_path_length.value, max_mc.value)\n",
    "    display(variables.data)\n",
    "    display(variables.range_data)\n",
    "except Exception as e:\n",
    "    pass\n",
    "    # print(e)"
   ]
  },
  {
   "cell_type": "markdown",
   "metadata": {
    "tags": []
   },
   "source": [
    "<div style=\"margin: 0 auto; padding: 20px;\">\n",
    "\n",
    "# Temporal crop\n",
    "\n",
    "Select the data by drawing a rectangle over the experiment history. Experiment history is a 2D histogram of the time of flight of the ions versus sequence of evaporation. The experiment history is plotted by clicking on the button below te cell.\n",
    "</div>\n"
   ]
  },
  {
   "cell_type": "code",
   "execution_count": null,
   "metadata": {
    "tags": []
   },
   "outputs": [],
   "source": [
    "helper_temporal_crop.call_plot_crop_experiment(variables, pulse_mode.value)"
   ]
  },
  {
   "cell_type": "markdown",
   "metadata": {
    "pycharm": {
     "name": "#%% md\n"
    }
   },
   "source": [
    "<div style=\"margin: 0 auto; padding: 20px; font-family: 'Helvetica', sans-serif; font-size: 16px;\">\n",
    "\n",
    "# Spacial crop\n",
    "\n",
    "Select the region of maximum concentration of Ions in the below plotted graph to utilize relevant data. To crop you can draw a circle over the filed desorption map. The field desorption map is a 2D histogram of the time of flight of the ions versus the position of the ions on the detector. The field desorption map is plotted by clicking on the button below the cell.\n",
    "</div>"
   ]
  },
  {
   "cell_type": "code",
   "execution_count": null,
   "metadata": {
    "tags": []
   },
   "outputs": [],
   "source": [
    "helper_special_crop.call_plot_crop_fdm(variables)"
   ]
  },
  {
   "cell_type": "markdown",
   "metadata": {},
   "source": [
    "<div style=\"margin: 0 auto; padding: 20px; font-family: 'Helvetica', sans-serif; font-size: 16px;\">\n",
    "\n",
    "Calculate pulses since the last event pulse and ions per pulse. The percentage of loss in ROI selection process will be printed.\n",
    "</div>"
   ]
  },
  {
   "cell_type": "code",
   "execution_count": null,
   "metadata": {
    "tags": []
   },
   "outputs": [],
   "source": [
    "pulse_pi, ion_pp = data_loadcrop.calculate_ppi_and_ipp(variables.data)\n",
    "\n",
    "# add two calculated array to the croped dataset\n",
    "variables.data['pulse_pi'] = pulse_pi.astype(np.uintc)\n",
    "variables.data['ion_pp'] = ion_pp.astype(np.uintc)\n",
    "\n",
    "# exctract needed data from Pandas data frame as an numpy array\n",
    "variables.dld_high_voltage = variables.data['high_voltage (V)'].to_numpy()\n",
    "variables.dld_pulse = variables.data['pulse'].to_numpy()\n",
    "variables.dld_t = variables.data['t (ns)'].to_numpy()\n",
    "variables.dld_x_det = variables.data['x_det (cm)'].to_numpy()\n",
    "variables.dld_y_det = variables.data['y_det (cm)'].to_numpy()\n",
    "\n",
    "# save the cropped data\n",
    "print('tof Crop Loss {:.2f} %'.format((100 - (len(variables.data) / len(variables.data)) * 100)))\n",
    "#percentage of double event per pulse\n",
    "print('percentage of double event per pulse', len(ion_pp[ion_pp != 1]) / float(len(ion_pp)))"
   ]
  },
  {
   "cell_type": "markdown",
   "metadata": {},
   "source": [
    "<div style=\"margin: 0 auto; padding: 20px; font-family: 'Helvetica', sans-serif; font-size: 16px;\">\n",
    "\n",
    "In the next cell by changing the t<sub>0</sub> value you can correct the position of H<sub>1</sub> or any other known peak. this correction would be helpful for the position of the peaks in the m/c calibration process.\n",
    "</div>"
   ]
  },
  {
   "cell_type": "code",
   "execution_count": null,
   "metadata": {
    "tags": []
   },
   "outputs": [],
   "source": [
    "helper_t_0_tune.call_fine_tune_t_0(variables, flight_path_length, pulse_mode, t0)"
   ]
  },
  {
   "cell_type": "markdown",
   "metadata": {},
   "source": [
    "<div style=\"margin: 0 auto; padding: 20px; font-family: 'Helvetica', sans-serif; font-size: 16px;\">\n",
    "\n",
    "Remove the data with m/c greater than max m/c and x, y, t = 0. Also add the needed colums for calibration. The data types of the final cropped dataset is displayed below.\n",
    "\n",
    "</div>"
   ]
  },
  {
   "cell_type": "code",
   "execution_count": null,
   "metadata": {
    "tags": []
   },
   "outputs": [],
   "source": [
    "# add the columns in the dataset for x, y, z, mc, mc calibrated, and t calibrated\n",
    "helper_data_loader.add_columns(variables, max_mc)\n",
    "# save data temporarily\n",
    "data_tools.save_data(variables.data, variables, hdf=True, epos=False, pos=False, ato_6v=False, csv=False, temp=True)\n",
    "display(variables.data)\n",
    "display(variables.data.dtypes)"
   ]
  },
  {
   "cell_type": "markdown",
   "metadata": {},
   "source": [
    "-------------------------------------------------------\n",
    "-------------------------------------------------------"
   ]
  },
  {
   "cell_type": "markdown",
   "metadata": {
    "tags": []
   },
   "source": [
    "<div style=\"margin: 0 auto; padding: 20px; font-family: 'Helvetica', sans-serif; font-size: 16px;\">\n",
    "\n",
    "## Time-of-Flight/Mass-to-charge Calibration\n",
    "</div>"
   ]
  },
  {
   "cell_type": "markdown",
   "metadata": {},
   "source": [
    "<div style=\"margin: 0 auto; padding: 20px; font-family: 'Helvetica', sans-serif; font-size: 16px;\">\n",
    "    \n",
    "Below you can plot the ToF histogram of the dataset. You can select the peak range of the data you want to plot by drawing a rectangle over peak with holding left click. After that you should apply the voltage and bowl calibration. These three steps should be repeated until you see no improvement in the peak resolution. You can also save the calibration by clicking on the save button. The saved calibration will be used for the next steps.\n",
    "\n",
    "</div>"
   ]
  },
  {
   "cell_type": "code",
   "execution_count": 6,
   "metadata": {
    "tags": []
   },
   "outputs": [
    {
     "name": "stdout",
     "output_type": "stream",
     "text": [
      "The maximum time of flight: 5010\n"
     ]
    },
    {
     "data": {
      "application/vnd.jupyter.widget-view+json": {
       "model_id": "6e6283e0903e48649e77459f0f7128e3",
       "version_major": 2,
       "version_minor": 0
      },
      "text/plain": [
       "Dropdown(description='calibration mode:', options=(('time_of_flight', 'tof'), ('mass_to_charge', 'mc')), value…"
      ]
     },
     "metadata": {},
     "output_type": "display_data"
    }
   ],
   "source": [
    "# exctract needed data from Pandas data frame as an numpy array\n",
    "data_tools.extract_data(variables.data, variables, flight_path_length.value, max_mc.value)\n",
    "calibration_mode = widgets.Dropdown(\n",
    "    options=[('time_of_flight', 'tof'), ('mass_to_charge', 'mc')],\n",
    "    description='calibration mode:')\n",
    "display(calibration_mode)"
   ]
  },
  {
   "cell_type": "code",
   "execution_count": 27,
   "metadata": {
    "tags": []
   },
   "outputs": [
    {
     "data": {
      "application/vnd.jupyter.widget-view+json": {
       "model_id": "21da9bec35574d49a3c08c9bcb0b1054",
       "version_major": 2,
       "version_minor": 0
      },
      "text/plain": [
       "VBox(children=(HBox(children=(VBox(children=(FloatText(value=0.1, description='bin size:', layout=Layout(width…"
      ]
     },
     "metadata": {},
     "output_type": "display_data"
    },
    {
     "data": {
      "application/vnd.jupyter.widget-view+json": {
       "model_id": "585a0efeb5b04faa8971c5f6435de59e",
       "version_major": 2,
       "version_minor": 0
      },
      "text/plain": [
       "Output()"
      ]
     },
     "metadata": {},
     "output_type": "display_data"
    }
   ],
   "source": [
    "helper_calibration.call_voltage_bowl_calibration(variables, det_diam, calibration_mode)"
   ]
  },
  {
   "cell_type": "code",
   "execution_count": null,
   "metadata": {
    "tags": []
   },
   "outputs": [],
   "source": [
    "variables.dld_t_calib_backup = np.copy(variables.dld_t_calib)\n",
    "variables.mc_calib_backup = np.copy(variables.mc_calib)"
   ]
  },
  {
   "cell_type": "code",
   "execution_count": null,
   "metadata": {
    "tags": []
   },
   "outputs": [],
   "source": [
    "helper_ion_list.call_ion_list(variables, selector='peak', calibration_mode=calibration_mode)"
   ]
  },
  {
   "cell_type": "code",
   "execution_count": null,
   "metadata": {
    "tags": []
   },
   "outputs": [],
   "source": [
    "from pyccapt.calibration.mc.tof_tools import mc2tof\n",
    "mc2tof(1, 4000, 0, 0, 110)"
   ]
  },
  {
   "cell_type": "code",
   "execution_count": null,
   "metadata": {
    "tags": []
   },
   "outputs": [],
   "source": [
    "helper_mc_plot.call_mc_plot(variables, selector='None')"
   ]
  },
  {
   "cell_type": "code",
   "execution_count": null,
   "metadata": {
    "tags": []
   },
   "outputs": [],
   "source": [
    "variables.data['mc_c (Da)'] = variables.mc_calib\n",
    "variables.data['t_c (ns)'] = variables.dld_t_calib\n",
    "# Remove negative mc\n",
    "threshold = 0\n",
    "mc_t = variables.data['mc_c (Da)'].to_numpy()\n",
    "mc_t_mask = (mc_t <= threshold)\n",
    "print('The number of ions with negative mc are:', len(mc_t_mask[mc_t_mask==True]))\n",
    "variables.data.drop(np.where(mc_t_mask)[0], inplace=True)\n",
    "variables.data.reset_index(inplace=True, drop=True)\n",
    "# save data temporarily\n",
    "data_tools.save_data(variables.data, variables, hdf=True, epos=False, pos=False, ato_6v=False, csv=False, temp=True)"
   ]
  },
  {
   "cell_type": "markdown",
   "metadata": {},
   "source": [
    "-------------------------------------------------------\n",
    "-------------------------------------------------------"
   ]
  },
  {
   "cell_type": "markdown",
   "metadata": {
    "tags": []
   },
   "source": [
    "<div style=\"margin: 0 auto; padding: 20px; font-family: 'Helvetica', sans-serif; font-size: 16px;\">\n",
    "\n",
    "## 3D Reconstruction\n",
    "After bowl and voltage calibration we are ready to calculate the 3d reconstruction. In this workflow we calculate the reconstructed x,y,z and then plot the 3d, heatmap, projection plots and mass-to-charge histogram.\n",
    "\n",
    "</div>"
   ]
  },
  {
   "cell_type": "code",
   "execution_count": null,
   "metadata": {
    "tags": []
   },
   "outputs": [],
   "source": [
    "# exctract needed data from Pandas data frame as an numpy array\n",
    "data_tools.extract_data(variables.data, variables, flight_path_length.value, max_mc.value)\n",
    "\n",
    "display(variables.data)"
   ]
  },
  {
   "cell_type": "markdown",
   "metadata": {},
   "source": [
    "<div style=\"margin: 0 auto; padding: 20px; font-family: 'Helvetica', sans-serif; font-size: 16px;\">\n",
    "\n",
    "You have to select the main element in your sample from the from dropdown below.\n",
    "</div>"
   ]
  },
  {
   "cell_type": "code",
   "execution_count": null,
   "metadata": {
    "tags": []
   },
   "outputs": [],
   "source": [
    "element_selected = wd.density_field_selection()\n",
    "display(element_selected)"
   ]
  },
  {
   "cell_type": "markdown",
   "metadata": {},
   "source": [
    "<div style=\"margin: 0 auto; padding: 20px; font-family: 'Helvetica', sans-serif; font-size: 16px;\">\n",
    "\n",
    "In case that yopu face error about plotly library, like javascripts error. You have check your jupyter lab version is compatibale with the plotly extenstion. Sometimes running `jupyter lab build` command fix the proble.\n",
    "</div>"
   ]
  },
  {
   "cell_type": "code",
   "execution_count": null,
   "metadata": {
    "tags": []
   },
   "outputs": [],
   "source": [
    "helper_3d_reconstruction.call_x_y_z_calculation(variables, flight_path_length, element_selected)"
   ]
  },
  {
   "cell_type": "code",
   "execution_count": null,
   "metadata": {
    "tags": []
   },
   "outputs": [],
   "source": [
    "variables.plotly_3d_reconstruction"
   ]
  },
  {
   "cell_type": "code",
   "execution_count": null,
   "metadata": {
    "tags": []
   },
   "outputs": [],
   "source": [
    "variables.data['x (nm)'] = variables.x\n",
    "variables.data['y (nm)'] = variables.y\n",
    "variables.data['z (nm)'] = variables.z\n",
    "# save data temporarily\n",
    "data_tools.save_data(variables.data, variables, hdf=True, epos=False, pos=False, ato_6v=False, csv=False, temp=True)"
   ]
  },
  {
   "cell_type": "markdown",
   "metadata": {},
   "source": [
    "-------------------------------------------------------\n",
    "-------------------------------------------------------"
   ]
  },
  {
   "cell_type": "markdown",
   "metadata": {},
   "source": [
    "<div style=\"margin: 0 auto; padding: 20px; font-family: 'Helvetica', sans-serif; font-size: 16px;\">\n",
    "\n",
    "## Ion Selection and Rangging\n",
    "\n",
    "This tutorial outlines a comprehensive workflow for ion selection and organization. Users can choose ions using peak and element finders, manually add ions, customize ion colors, and create histograms. Histograms can be generated for selected ranges and areas, and figures can be saved. Additionally, users have the option to save both figures and data in CSV and HDF5 formats.\n",
    "\n",
    "</div>"
   ]
  },
  {
   "cell_type": "code",
   "execution_count": null,
   "metadata": {
    "tags": []
   },
   "outputs": [],
   "source": [
    "# exctract needed data from Pandas data frame as an numpy array\n",
    "data_tools.extract_data(variables.data, variables, flight_path_length.value, max_mc.value)\n",
    "\n",
    "display(variables.data)"
   ]
  },
  {
   "cell_type": "code",
   "execution_count": null,
   "metadata": {
    "tags": []
   },
   "outputs": [],
   "source": [
    "helper_ion_selection.call_ion_selection(variables)"
   ]
  },
  {
   "cell_type": "code",
   "execution_count": null,
   "metadata": {
    "tags": []
   },
   "outputs": [],
   "source": [
    "variables.range_data"
   ]
  },
  {
   "cell_type": "code",
   "execution_count": null,
   "metadata": {
    "tags": []
   },
   "outputs": [],
   "source": [
    "variables.range_data.dtypes"
   ]
  },
  {
   "cell_type": "markdown",
   "metadata": {},
   "source": [
    "<div style=\"margin: 0 auto; padding: 20px; font-family: 'Helvetica', sans-serif; font-size: 16px;\">\n",
    "\n",
    "Save the range in the hdf5 and csv format.\n",
    "\n",
    "</div>"
   ]
  },
  {
   "cell_type": "code",
   "execution_count": null,
   "metadata": {
    "tags": []
   },
   "outputs": [],
   "source": [
    "# save the new data\n",
    "name_save_file = variables.result_data_path + '/' + 'range_' + variables.dataset_name + '.h5'\n",
    "data_tools.store_df_to_hdf(variables.range_data,  'df', name_save_file)\n",
    "# save data in csv format\n",
    "name_save_file = variables.result_data_path + '/' + 'range_' + variables.dataset_name + '.csv'\n",
    "data_tools.store_df_to_csv(variables.range_data, name_save_file)"
   ]
  },
  {
   "cell_type": "markdown",
   "metadata": {},
   "source": [
    "<div style=\"margin: 0 auto; padding: 20px; font-family: 'Helvetica', sans-serif; font-size: 16px;\">\n",
    "\n",
    "Save the cropped dataset. You can specify te output format from list below. The output formats are HDF5, EPOS, POS, ATO, and CSV. The output file will be saved in the same directory as the original dataset file in a new directory nammed load_crop.\n",
    "</div>"
   ]
  },
  {
   "cell_type": "code",
   "execution_count": 18,
   "metadata": {
    "tags": []
   },
   "outputs": [
    {
     "data": {
      "application/vnd.jupyter.widget-view+json": {
       "model_id": "5efd0222ea67415282d5bcfe7118af4d",
       "version_major": 2,
       "version_minor": 0
      },
      "text/plain": [
       "interactive(children=(Dropdown(description='hdf', options=(('True', True), ('False', False)), value=True), Dro…"
      ]
     },
     "metadata": {},
     "output_type": "display_data"
    }
   ],
   "source": [
    "interact_manual(data_tools.save_data, data=fixed(variables.data), variables=fixed(variables),\n",
    "                hdf=widgets.Dropdown(options=[('True', True), ('False', False)]),\n",
    "                epos=widgets.Dropdown(options=[('False', False), ('True', True)]),\n",
    "                pos=widgets.Dropdown(options=[('False', False), ('True', True)]),\n",
    "                ato_6v=widgets.Dropdown(options=[('False', False), ('True', True)]),\n",
    "                csv=widgets.Dropdown(options=[('False', False), ('True', True)]));"
   ]
  },
  {
   "cell_type": "markdown",
   "metadata": {},
   "source": [
    "-------------------------------------------------------\n",
    "-------------------------------------------------------"
   ]
  },
  {
   "cell_type": "markdown",
   "metadata": {},
   "source": [
    "<div style=\"margin: 0 auto; padding: 20px; font-family: 'Helvetica', sans-serif; font-size: 16px;\">\n",
    "    \n",
    "# Visualization\n",
    "    \n",
    "</div>"
   ]
  },
  {
   "cell_type": "code",
   "execution_count": null,
   "metadata": {
    "tags": []
   },
   "outputs": [],
   "source": [
    "variables.data"
   ]
  },
  {
   "cell_type": "code",
   "execution_count": null,
   "metadata": {
    "tags": []
   },
   "outputs": [],
   "source": [
    "helper_visualization.call_visualization(variables)"
   ]
  },
  {
   "cell_type": "code",
   "execution_count": null,
   "metadata": {
    "tags": []
   },
   "outputs": [],
   "source": [
    "variables.plotly_3d_reconstruction"
   ]
  },
  {
   "cell_type": "code",
   "execution_count": null,
   "metadata": {
    "tags": []
   },
   "outputs": [],
   "source": [
    "from IPython.display import display, HTML\n",
    "display(HTML(variables.animation_detector_html))"
   ]
  },
  {
   "cell_type": "code",
   "execution_count": null,
   "metadata": {
    "tags": []
   },
   "outputs": [],
   "source": [
    "from numba import jit\n",
    "\n",
    "x = variables.x[0:10000]\n",
    "y = variables.y[0:10000]\n",
    "z = variables.z[0:10000]\n",
    "\n",
    "def calculate_sdm_numba(xx, yy, zz, cell_center=None, deltax=6, deltay=6, deltaz=6):\n",
    "\n",
    "    if cell_center is not None:\n",
    "    # Clip relative positions to the cell dimensions\n",
    "        mask_xx = (xx >= cell_center[0] - deltax) & (xx <=  cell_center[0] + deltax)\n",
    "        mask_yy = (yy >= cell_center[1] - deltay) & (yy <=  cell_center[1] + deltay)\n",
    "        mask_zz = (zz >= cell_center[2] - deltaz) & (zz <=  cell_center[2] + deltaz)\n",
    "        mask = mask_xx & mask_yy & mask_zz\n",
    "        xx = xx[mask]\n",
    "        yy = yy[mask]\n",
    "        zz = zz[mask]\n",
    "        \n",
    "    @jit(nopython=True)\n",
    "    def calculate_sdm(xx, yy, zz):\n",
    "        xx = xx.astype(np.float32)\n",
    "        yy = yy.astype(np.float32)\n",
    "        zz = zz.astype(np.float32)\n",
    "\n",
    "        n = len(xx)\n",
    "        dx = np.zeros((n, n), dtype=np.float32)\n",
    "        dy = np.zeros((n, n), dtype=np.float32)\n",
    "        dz = np.zeros((n, n), dtype=np.float32)\n",
    "\n",
    "        for i in range(n):\n",
    "            for j in range(n):\n",
    "                dx[i, j] = xx[i] - xx[j]\n",
    "                dy[i, j] = yy[i] - yy[j]\n",
    "                dz[i, j] = zz[i] - zz[j]\n",
    "\n",
    "        return dx, dy, dz\n",
    "    \n",
    "    dx, dy, dz = calculate_sdm(xx, yy, zz)\n",
    "    return dx, dy, dz\n",
    "\n",
    "\n",
    "\n",
    "def calculate_sdm(xx, yy, zz, cell_center=None, deltax=6, deltay=6, deltaz=6):\n",
    "\n",
    "    xx = xx.astype(np.float32)\n",
    "    yy = yy.astype(np.float32)\n",
    "    zz = zz.astype(np.float32)\n",
    "    if cell_center is not None:\n",
    "    # Clip relative positions to the cell dimensions\n",
    "        mask_xx = (xx >= cell_center[0] - deltax) & (xx <=  cell_center[0] + deltax)\n",
    "        mask_yy = (yy >= cell_center[1] - deltay) & (yy <=  cell_center[1] + deltay)\n",
    "        mask_zz = (zz >= cell_center[2] - deltaz) & (zz <=  cell_center[2] + deltaz)\n",
    "        mask = mask_xx & mask_yy & mask_zz\n",
    "        xx = xx[mask]\n",
    "        yy = yy[mask]\n",
    "        zz = zz[mask]\n",
    "\n",
    "    # Calculate relative positions\n",
    "    dx = np.subtract.outer(xx, xx)\n",
    "    dy = np.subtract.outer(yy, yy)\n",
    "    dz = np.subtract.outer(zz, zz)\n",
    "    \n",
    "    return dx, dy, dz\n",
    "\n",
    "# Example usage:\n",
    "cell_center = (5.0, 5.0, 5.0) \n",
    "\n",
    "\n",
    "dx, dy, dz = calculate_sdm_numba(x, y, z, cell_center=None)\n",
    "\n",
    "\n",
    "\n",
    "# Create 1D histograms for each axis\n",
    "histo_dx, bins_dx = np.histogram(dx.flatten(), bins=124)\n",
    "histo_dy, bins_dy = np.histogram(dy.flatten(), bins=124)\n",
    "histo_dz, bins_dz = np.histogram(dz.flatten(), bins=124)\n",
    "\n",
    "# Plot histograms\n",
    "fig, ax = plt.subplots()\n",
    "ax.set_xlabel('dx (Å)')\n",
    "ax.set_ylabel('Intensity')\n",
    "plt.plot(bins_dx[:-1], histo_dx, label='dx')\n",
    "plt.show()\n",
    "fig, ax = plt.subplots()\n",
    "ax.set_xlabel('dy (Å)')\n",
    "ax.set_ylabel('Intensity')\n",
    "plt.plot(bins_dy[:-1], histo_dy, label='dy')\n",
    "plt.show()\n",
    "fig, ax = plt.subplots()\n",
    "ax.set_xlabel('dz (Å)')\n",
    "ax.set_ylabel('Intensity')\n",
    "plt.plot(bins_dz[:-1], histo_dz, label='dz')\n",
    "plt.show()\n",
    "\n",
    "# 2D histogram for dx and dz\n",
    "fig, ax = plt.subplots()\n",
    "ax.set_xlabel('dx (Å)')\n",
    "ax.set_ylabel('dz (Å)')\n",
    "bins = 0.5\n",
    "# Check if the bin is a tuple\n",
    "if isinstance(bins, tuple):\n",
    "    pass\n",
    "else:\n",
    "    x_edges = np.arange(dx.min(), dx.max(), bins)\n",
    "    z_edges = np.arange(dz.min(), dz.max(), bins)\n",
    "    bins = [x_edges, z_edges]\n",
    "h = ax.hist2d(dx.flatten(), dz.flatten(), bins=bins, cmap='viridis')\n",
    "plt.colorbar(h[3], ax=ax, label='Frequency')\n",
    "\n",
    "# plt.legend()\n",
    "plt.show()"
   ]
  },
  {
   "cell_type": "code",
   "execution_count": null,
   "metadata": {},
   "outputs": [],
   "source": [
    "import numpy as np\n",
    "import matplotlib.pyplot as plt\n",
    "from mpl_toolkits.mplot3d import Axes3D\n",
    "from ipywidgets import interactive, FloatSlider\n",
    "from IPython.display import display\n",
    "\n",
    "def bowl_corr_fit(data_xy, a, b, c, d, e, f):\n",
    "    x = data_xy[0]\n",
    "    y = data_xy[1]\n",
    "    result = a + b * x + c * y + d * (x ** 2) + e * x * y + f * (y ** 2)\n",
    "    return result\n",
    "\n",
    "def hemisphere_surface(a, b, c, d, e, f):\n",
    "    # Hemisphere parameters\n",
    "    radius = 1.0\n",
    "    phi = np.linspace(0, np.pi / 2, 100)  # Restricting phi to 0 to pi/2 for hemisphere\n",
    "    theta = np.linspace(0, 2 * np.pi, 100)\n",
    "    phi, theta = np.meshgrid(phi, theta)\n",
    "\n",
    "    # Parametric equations for a hemisphere with additional correction\n",
    "    x = radius * np.sin(phi) * np.cos(theta)\n",
    "    y = radius * np.sin(phi) * np.sin(theta)\n",
    "    z = radius * np.cos(phi) + bowl_corr_fit((x, y), a, b, c, d, e, f)\n",
    "\n",
    "    return x, y, z\n",
    "\n",
    "def calculate_hemisphere_center(a, b, c, d, e, f):\n",
    "    # Check for division by zero\n",
    "    if d == 0:\n",
    "        print(\"Cannot calculate center: Division by zero (d=0)\")\n",
    "        return None\n",
    "\n",
    "    if f == 0:\n",
    "        print(\"Cannot calculate center: Division by zero (f=0)\")\n",
    "        return None\n",
    "\n",
    "    # Calculate the center of the hemisphere\n",
    "    center_x = -b / (2 * d)\n",
    "    center_y = -e / (2 * f)\n",
    "    center_z = c / (2 * d)\n",
    "\n",
    "    print(f\"Center of the Hemisphere: ({center_x}, {center_y}, {center_z})\")\n",
    "\n",
    "    return center_x, center_y, center_z\n",
    "\n",
    "def plot_hemisphere(a, b, c, d, e, f):\n",
    "    # Create a figure and 3D axis\n",
    "    fig = plt.figure(figsize=(8, 8))\n",
    "    ax = fig.add_subplot(111, projection='3d')\n",
    "\n",
    "    x, y, z = hemisphere_surface(a, b, c, d, e, f)\n",
    "\n",
    "    # Plot the hemisphere with correction\n",
    "    ax.plot_surface(x, y, z, color='b', alpha=0.8, edgecolors='k')\n",
    "\n",
    "    # Set axis labels\n",
    "    ax.set_xlabel('X')\n",
    "    ax.set_ylabel('Y')\n",
    "    ax.set_zlabel('Z')\n",
    "    ax.set_title('Hemisphere Plot with Correction')\n",
    "\n",
    "    # Calculate and print the center of the hemisphere\n",
    "    center = calculate_hemisphere_center(a, b, c, d, e, f)\n",
    "\n",
    "    # Show the plot\n",
    "    plt.show()\n",
    "\n",
    "    return center\n",
    "\n",
    "# Define sliders for coefficients\n",
    "a_slider = FloatSlider(min=-1.0, max=1.0, step=0.01, value=0.0, description='a')\n",
    "b_slider = FloatSlider(min=-1.0, max=1.0, step=0.01, value=0.0, description='b')\n",
    "c_slider = FloatSlider(min=-1.0, max=1.0, step=0.01, value=0.0, description='c')\n",
    "d_slider = FloatSlider(min=-1.0, max=1.0, step=0.01, value=0.0, description='d')\n",
    "e_slider = FloatSlider(min=-1.0, max=1.0, step=0.01, value=0.0, description='e')\n",
    "f_slider = FloatSlider(min=-1.0, max=1.0, step=0.01, value=0.0, description='f')\n",
    "\n",
    "# Create interactive plot\n",
    "interactive_plot = interactive(plot_hemisphere, a=a_slider, b=b_slider, c=c_slider, d=d_slider, e=e_slider, f=f_slider)\n",
    "display(interactive_plot)\n"
   ]
  },
  {
   "cell_type": "code",
   "execution_count": 17,
   "metadata": {},
   "outputs": [
    {
     "name": "stdout",
     "output_type": "stream",
     "text": [
      "0.0 0.0 1.0 0.1\n"
     ]
    },
    {
     "data": {
      "application/vnd.jupyter.widget-view+json": {
       "model_id": "0f2d3a571b50427e882fdb8b8256badc",
       "version_major": 2,
       "version_minor": 0
      },
      "image/png": "[encoded data removed]",
      "text/html": [
       "\n",
       "            <div style=\"display: inline-block;\">\n",
       "                <div class=\"jupyter-widgets widget-label\" style=\"text-align: center;\">\n",
       "                    Figure\n",
       "                </div>\n",
       "                <img src='data:image/png;base64,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' width=640.0/>\n",
       "            </div>\n",
       "        "
      ],
      "text/plain": [
       "Canvas(toolbar=Toolbar(toolitems=[('Home', 'Reset original view', 'home', 'home'), ('Back', 'Back to previous …"
      ]
     },
     "metadata": {},
     "output_type": "display_data"
    }
   ],
   "source": [
    "import numpy as np\n",
    "import matplotlib.pyplot as plt\n",
    "from scipy.optimize import curve_fit\n",
    "\n",
    "# Given data\n",
    "x = np.array([-18.122448921203613, -10.285714864730835, -0.4571428522467613, 10.644898414611816, 19.918367862701416, 27.885713577270508, -20.342857837677002, -11.167347431182861, -0.48979591578245163, 10.089795589447021, 20.865306854248047, 30.432653427124023, -21.910204887390137, -11.23265266418457, -0.3591836616396904, 10.351020097732544, 20.865306854248047, 31.80408239364624, -21.844897270202637, -11.004081964492798, -0.09795918129384518, 10.122449398040771, 21.028571128845215, 31.379592418670654, -20.897958278656006, -11.26530647277832, -0.19591836258769035, 10.31836748123169, 21.812245845794678, 30.138776302337646, -17.828571796417236, -10.710203647613525, -0.5877551063895226, 10.840816497802734, 19.199999570846558, 27.85306215286255])\n",
    "y = np.array([-20.114285945892334, -22.302041053771973, -24.130611419677734, -23.51020336151123, -22.43265390396118, -19.95102047920227, -12.506122589111328, -13.942856788635254, -14.171428680419922, -13.257142305374146, -13.551020622253418, -11.983673572540283, -2.6775509119033813, -2.8081631660461426, -2.220408171415329, -2.742857038974762, -2.35102042555809, -2.3836734890937805, 8.359183669090271, 8.13061237335205, 7.967346906661987, 8.261224627494812, 8.326530456542969, 8.293877840042114, 17.27346897125244, 18.971428871154785, 18.677550554275513, 19.00408148765564, 19.13469433784485, 18.253061771392822, 26.253061294555664, 28.048980236053467, 29.159183502197266, 29.159183502197266, 27.75510311126709, 25.73061227798462])\n",
    "dld_t = np.array([1.011774301065406, 1.0053236457982464, 1.000903707710839, 1.0008608589381898, 1.0065498165730615, 1.0131405556076538, 1.0097022103429871, 0.9970961238956674, 0.9893884133044435, 0.9889955482221412, 0.9974707118164278, 1.0106836966849873, 1.0094256130697952, 0.993324673078915, 0.984746337701787, 0.9847964475123426, 0.9932437898421668, 1.0094017665789154, 1.013966824746841, 0.9973463136347074, 0.9889244843577426, 0.9890051005499628, 0.9970482980825784, 1.0125722834217321, 1.0218259384395652, 1.0099513962565199, 1.0012092766530518, 1.00102513238016, 1.0093261279227062, 1.0204655955468225, 1.0307618632576618, 1.0257911385699645, 1.0202179770154478, 1.0198319387163561, 1.0227124863326351, 1.0277846318133985])\n",
    "\n",
    "# Define the hemisphere function\n",
    "def hemisphere(coords, cx, cy, r, c0):\n",
    "    x, y = coords\n",
    "    return c0 * np.sqrt(np.maximum(0, r**2 - (x - cx)**2 - (y - cy)**2))\n",
    "\n",
    "bounds = ([-np.inf, -np.inf, 0, -np.inf], [np.inf, np.inf, np.inf, np.inf])\n",
    "\n",
    "# Fit the hemisphere function to the data\n",
    "popt, pcov = curve_fit(hemisphere, [np.array(x), np.array(y)],\n",
    "                                    np.array(dld_t), p0=(0, 0, 1, 0.1), bounds=bounds)\n",
    "\n",
    "# Extract the optimized parameters\n",
    "cx, cy, r, c0 = popt\n",
    "print(cx, cy, r, c0)\n",
    "\n",
    "model_x_data = np.linspace(-35, 35, 30)\n",
    "model_y_data = np.linspace(-35, 35, 30)\n",
    "X, Y = np.meshgrid(model_x_data, model_y_data)\n",
    "Z = hemisphere(np.array([X, Y]), *popt)\n",
    "\n",
    "fig, ax = plt.subplots(subplot_kw=dict(projection=\"3d\"))\n",
    "fig.add_axes(ax)\n",
    "ax.plot_surface(X, Y, 1 / Z)\n",
    "ax.set_xlabel(r'$X_{det}$ (mm)', fontsize=10, labelpad=10)\n",
    "ax.set_ylabel(r'$Y_{det}$ (mm)', fontsize=10, labelpad=10)\n",
    "ax.set_zlabel(r\"${C_B}^{-1}$\", fontsize=10, labelpad=5)\n",
    "ax.zaxis.set_major_formatter(plt.FormatStrFormatter('%.2f'))\n",
    "ax.view_init(elev=7, azim=-41)\n",
    "plt.show()\n",
    "\n"
   ]
  },
  {
   "cell_type": "code",
   "execution_count": 32,
   "metadata": {},
   "outputs": [
    {
     "data": {
      "application/vnd.jupyter.widget-view+json": {
       "model_id": "27c3e8e7f4b84c99b442974801db6dfc",
       "version_major": 2,
       "version_minor": 0
      },
      "image/png": "[encoded data removed]",
      "text/html": [
       "\n",
       "            <div style=\"display: inline-block;\">\n",
       "                <div class=\"jupyter-widgets widget-label\" style=\"text-align: center;\">\n",
       "                    Figure\n",
       "                </div>\n",
       "                <img src='data:image/png;base64,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' width=640.0/>\n",
       "            </div>\n",
       "        "
      ],
      "text/plain": [
       "Canvas(toolbar=Toolbar(toolitems=[('Home', 'Reset original view', 'home', 'home'), ('Back', 'Back to previous …"
      ]
     },
     "metadata": {},
     "output_type": "display_data"
    }
   ],
   "source": [
    "import numpy as np\n",
    "import matplotlib.pyplot as plt\n",
    "from scipy.optimize import curve_fit\n",
    "\n",
    "# Function for a hemisphere without square root\n",
    "def hemisphere_fit(xy, a, b, c, r):\n",
    "    x, y = xy\n",
    "    z = a * (x - b)**2 + c * (y - b)**2 + r**2\n",
    "    return z\n",
    "\n",
    "# Generate some sample data for a hemisphere\n",
    "np.random.seed(0)\n",
    "theta = np.linspace(0, 2 * np.pi, 100)\n",
    "phi = np.linspace(0, np.pi / 2, 50)\n",
    "theta, phi = np.meshgrid(theta, phi)\n",
    "x = np.sin(phi) * np.cos(theta)\n",
    "y = np.sin(phi) * np.sin(theta)\n",
    "z = np.cos(phi)\n",
    "noise = 0.1 * np.random.normal(size=x.shape)\n",
    "x += noise\n",
    "y += noise\n",
    "z += noise\n",
    "\n",
    "# Flatten the data\n",
    "x_data = x.flatten()\n",
    "y_data = y.flatten()\n",
    "z_data = z.flatten()\n",
    "\n",
    "# Initial guess for the parameters (a, b, c, r)\n",
    "initial_guess = [1.0, 0.0, 1.0, 1.0]\n",
    "\n",
    "# Fit the data to the hemisphere function without square root\n",
    "params, covariance = curve_fit(hemisphere_fit, (x_data, y_data), z_data, bounds=(-np.inf, np.inf), p0=initial_guess, maxfev=2000)\n",
    "\n",
    "# Plot the original data and the fitted hemisphere\n",
    "fig = plt.figure()\n",
    "ax = fig.add_subplot(111, projection='3d')\n",
    "ax.scatter(x_data, y_data, z_data, label='Data')\n",
    "ax.set_xlabel('X')\n",
    "ax.set_ylabel('Y')\n",
    "ax.set_zlabel('Z')\n",
    "\n",
    "# Create a meshgrid for the fitted hemisphere\n",
    "fit_x, fit_y = np.meshgrid(np.linspace(-1, 1, 100), np.linspace(-1, 1, 100))\n",
    "fit_z = hemisphere_fit((fit_x, fit_y), *params)\n",
    "\n",
    "# Plot the fitted hemisphere without square root\n",
    "ax.plot_surface(fit_x, fit_y, fit_z, alpha=0.5, color='r', label='Fitted Hemisphere (No sqrt)')\n",
    "\n",
    "plt.legend()\n",
    "plt.show()\n"
   ]
  },
  {
   "cell_type": "code",
   "execution_count": null,
   "metadata": {
    "tags": []
   },
   "outputs": [],
   "source": [
    "import matplotlib.pyplot as plt\n",
    "from mpl_toolkits.mplot3d import Axes3D\n",
    "import numpy as np\n",
    "from scipy.optimize import minimize\n",
    "\n",
    "# Generate synthetic 2D data on a hemisphere\n",
    "# theta = np.linspace(0, np.pi, 100)\n",
    "# phi = np.linspace(0, 2 * np.pi, 100)\n",
    "# theta, phi = np.meshgrid(theta, phi)\n",
    "# r = 1  # Radius of the hemisphere\n",
    "# x_true = r * np.sin(theta) * np.cos(phi)\n",
    "# y_true = r * np.sin(theta) * np.sin(phi)\n",
    "# z_true = r * np.cos(theta)\n",
    "\n",
    "x = np.array([-18.122448921203613, -10.285714864730835, -0.4571428522467613, 10.644898414611816, 19.918367862701416, 27.885713577270508, -20.342857837677002, -11.167347431182861, -0.48979591578245163, 10.089795589447021, 20.865306854248047, 30.432653427124023, -21.910204887390137, -11.23265266418457, -0.3591836616396904, 10.351020097732544, 20.865306854248047, 31.80408239364624, -21.844897270202637, -11.004081964492798, -0.09795918129384518, 10.122449398040771, 21.028571128845215, 31.379592418670654, -20.897958278656006, -11.26530647277832, -0.19591836258769035, 10.31836748123169, 21.812245845794678, 30.138776302337646, -17.828571796417236, -10.710203647613525, -0.5877551063895226, 10.840816497802734, 19.199999570846558, 27.85306215286255])\n",
    "y = np.array([-20.114285945892334, -22.302041053771973, -24.130611419677734, -23.51020336151123, -22.43265390396118, -19.95102047920227, -12.506122589111328, -13.942856788635254, -14.171428680419922, -13.257142305374146, -13.551020622253418, -11.983673572540283, -2.6775509119033813, -2.8081631660461426, -2.220408171415329, -2.742857038974762, -2.35102042555809, -2.3836734890937805, 8.359183669090271, 8.13061237335205, 7.967346906661987, 8.261224627494812, 8.326530456542969, 8.293877840042114, 17.27346897125244, 18.971428871154785, 18.677550554275513, 19.00408148765564, 19.13469433784485, 18.253061771392822, 26.253061294555664, 28.048980236053467, 29.159183502197266, 29.159183502197266, 27.75510311126709, 25.73061227798462])\n",
    "dld_t = np.array([1.011774301065406, 1.0053236457982464, 1.000903707710839, 1.0008608589381898, 1.0065498165730615, 1.0131405556076538, 1.0097022103429871, 0.9970961238956674, 0.9893884133044435, 0.9889955482221412, 0.9974707118164278, 1.0106836966849873, 1.0094256130697952, 0.993324673078915, 0.984746337701787, 0.9847964475123426, 0.9932437898421668, 1.0094017665789154, 1.013966824746841, 0.9973463136347074, 0.9889244843577426, 0.9890051005499628, 0.9970482980825784, 1.0125722834217321, 1.0218259384395652, 1.0099513962565199, 1.0012092766530518, 1.00102513238016, 1.0093261279227062, 1.0204655955468225, 1.0307618632576618, 1.0257911385699645, 1.0202179770154478, 1.0198319387163561, 1.0227124863326351, 1.0277846318133985])\n",
    "\n",
    "# Add some noise to the data\n",
    "# noise = 0.1 * np.random.normal(size=x_true.shape)\n",
    "# x_data = x_true + noise\n",
    "# y_data = y_true + noise\n",
    "\n",
    "# Define the objective function\n",
    "def objective(params, x, y):\n",
    "    cx, cy, r = params\n",
    "    distance = np.sqrt((x - cx)**2 + (y - cy)**2)\n",
    "    residuals = distance - np.sqrt(r**2 - distance**2)\n",
    "    return np.sum(residuals**2)\n",
    "\n",
    "# Define the calibration factor function\n",
    "def f_bowl(x, y, params):\n",
    "    cx, cy, r = params\n",
    "    distance = np.sqrt((x - cx)**2 + (y - cy)**2)\n",
    "    f_bowl = np.sqrt(r**2 - distance**2) / r\n",
    "    return f_bowl\n",
    "\n",
    "# Initial guess and optimization\n",
    "initial_guess = [0.1, 0.1, 1]  # Initial guess for center (cx, cy) and radius r\n",
    "result = minimize(objective, initial_guess, args=(x_data.flatten(), y_data.flatten()), method='Powell')\n",
    "cx, cy, r = result.x\n",
    "print(cx, cy, r)\n",
    "\n",
    "# Calculate the calibration factor for each point on the surface\n",
    "f_bowl_values = f_bowl(x_data, y_data, result.x)\n",
    "\n",
    "print(f_bowl_values)\n",
    "# Plot the fitted hemisphere\n",
    "fig = plt.figure(figsize=(10, 6))\n",
    "\n",
    "# Plot the fitted hemisphere surface\n",
    "# ax1 = fig.add_subplot(121, projection='3d')\n",
    "# ax1.plot_surface(x_data, y_data, np.sqrt(r**2 - x_data**2 - y_data**2), alpha=0.5, color='blue')\n",
    "# ax1.set_title('Fitted Hemisphere')\n",
    "\n",
    "# Plot the calibration factor as a function of x and y\n",
    "ax2 = fig.add_subplot(122, projection='3d')\n",
    "ax2.plot_surface(x_data.reshape(x_data.shape[0], -1), y_data.reshape(y_data.shape[0], -1), f_bowl_values.reshape(f_bowl_values.shape[0], -1), cmap='viridis', alpha=0.8)\n",
    "ax2.set_title('Calibration Factor (f_bowl)')\n",
    "\n",
    "plt.show()\n"
   ]
  },
  {
   "cell_type": "code",
   "execution_count": null,
   "metadata": {
    "tags": []
   },
   "outputs": [],
   "source": [
    "from pymatgen.io.cif import CifParser\n",
    "from pymatgen.core.structure import Structure\n",
    "\n",
    "# Replace 'your_file.cif' with the actual path to your CIF file\n",
    "cif_file_path = 'Al.cif'\n",
    "\n",
    "# Parse the CIF file\n",
    "parser = CifParser(cif_file_path)\n",
    "structure = parser.get_structures()[0]\n",
    "\n",
    "print(structure)\n",
    "# Make a supercell\n",
    "structure.make_supercell([6, 6, 6])\n",
    "\n",
    "# Get atomic positions\n",
    "positions = structure.as_dataframe()\n",
    "\n",
    "x_positions = positions['x']\n",
    "y_positions = positions['y']\n",
    "z_positions = positions['z']\n",
    "# Plot the expanded structure using Matplotlib\n",
    "fig = plt.figure()\n",
    "ax = fig.add_subplot(111, projection='3d')\n",
    "\n",
    "\n",
    "\n",
    "# Plot atomic positions\n",
    "ax.scatter(x_positions, y_positions, z_positions, c='b', marker='o', s=100)\n",
    "\n",
    "# Set axis labels\n",
    "ax.set_xlabel('X')\n",
    "ax.set_ylabel('Y')\n",
    "ax.set_zlabel('Z')\n",
    "\n",
    "# Show the plot\n",
    "plt.show()\n"
   ]
  },
  {
   "cell_type": "code",
   "execution_count": null,
   "metadata": {
    "tags": []
   },
   "outputs": [],
   "source": [
    "# Replace 'your_file.xyz' with the actual path to your XYZ file\n",
    "file_path = 'Al_big.xyz'\n",
    "\n",
    "# Read the XYZ file\n",
    "with open(file_path, 'r') as file:\n",
    "    lines = file.readlines()\n",
    "\n",
    "# Extract the number of atoms\n",
    "num_atoms = int(lines[0])\n",
    "\n",
    "# Initialize arrays to store x, y, and z coordinates\n",
    "x_positions = np.zeros(num_atoms)\n",
    "y_positions = np.zeros(num_atoms)\n",
    "z_positions = np.zeros(num_atoms)\n",
    "\n",
    "# Loop through lines starting from the second line (skipping the number of atoms line)\n",
    "for i, line in enumerate(lines[2:]):\n",
    "    parts = line.split()\n",
    "    x_positions[i] = float(parts[1])\n",
    "    y_positions[i] = float(parts[2])\n",
    "    z_positions[i] = float(parts[3])\n",
    "\n",
    "fig = plt.figure()\n",
    "ax = fig.add_subplot(111, projection='3d')\n",
    "\n",
    "ax.scatter(x_positions, y_positions, z_positions, s=50, c='b', marker='o', edgecolors='k')\n",
    "\n",
    "ax.set_xlabel('X (Å)')\n",
    "ax.set_ylabel('Y (Å)')\n",
    "ax.set_zlabel('Z (Å)')\n",
    "ax.set_title('Atomic Structure')\n",
    "\n",
    "plt.show()\n",
    "\n",
    "# Define the center and radius of the half sphere\n",
    "sphere_center = np.array([x_positions.mean(), y_positions.mean(), z_positions.mean()])\n",
    "sphere_radius = 10.0  # Adjust the radius as needed\n",
    "\n",
    "# Create a boolean mask to filter atoms outside the half sphere\n",
    "distance_from_center = np.linalg.norm(np.column_stack((x_positions, y_positions, z_positions)) - sphere_center, axis=1)\n",
    "atoms_in_half_sphere = distance_from_center <= sphere_radius\n",
    "\n",
    "# Apply the mask to filter out atoms outside the half sphere\n",
    "x_positions_half_sphere = x_positions[atoms_in_half_sphere]\n",
    "y_positions_half_sphere = y_positions[atoms_in_half_sphere]\n",
    "z_positions_half_sphere = z_positions[atoms_in_half_sphere]\n",
    "\n",
    "# Plot the remaining atoms in the half sphere\n",
    "fig = plt.figure()\n",
    "ax = fig.add_subplot(111, projection='3d')\n",
    "\n",
    "ax.scatter(x_positions_half_sphere, y_positions_half_sphere, z_positions_half_sphere, s=50, c='b', marker='o', edgecolors='k')\n",
    "\n",
    "ax.set_xlabel('X (Å)')\n",
    "ax.set_ylabel('Y (Å)')\n",
    "ax.set_zlabel('Z (Å)')\n",
    "ax.set_title('Atomic Structure - Half Sphere')\n",
    "\n",
    "plt.show()\n",
    "\n",
    "sample_2d_histogram(x_positions_half_sphere, z_positions_half_sphere, bins=(512, 512), xlabel='x (nm)', ylabel='z (nm)')"
   ]
  },
  {
   "cell_type": "code",
   "execution_count": null,
   "metadata": {
    "tags": []
   },
   "outputs": [],
   "source": [
    "from ase.build import bulk\n",
    "import numpy as np\n",
    "import matplotlib.pyplot as plt\n",
    "from mpl_toolkits.mplot3d import Axes3D\n",
    "from matplotlib.colors import Normalize\n",
    "\n",
    "####################\n",
    "# # Create the aluminum bulk crystal structure\n",
    "# aluminum = bulk('Al', 'fcc', a=4.49580, b=4.49580, c=8.99160, alpha=90.0,  cubic=True)\n",
    "\n",
    "# # Replicate the unit cell in x, y, and z directions to create a larger volume\n",
    "# aluminum = aluminum.repeat((10, 10, 20))\n",
    "\n",
    "# # Get the atomic positions\n",
    "# positions = aluminum.get_positions()\n",
    "\n",
    "# # Extract x, y, z coordinates from the positions\n",
    "# x, y, z = positions[:, 0], positions[:, 1], positions[:, 2]\n",
    "\n",
    "#################\n",
    "# Create a small unit cell of aluminum\n",
    "aluminum_unit_cell = bulk('Al', 'fcc', a=4.49580, b=4.49580, c=8.99160, alpha=90.0,  cubic=True)\n",
    "view(aluminum_unit_cell, viewer='x3d', show_unit_cell=True)\n",
    "\n",
    "# Calculate the dimensions of the supercell\n",
    "supercell_dimensions = (5, 5, 10)\n",
    "cell_parameters = cell_to_cellpar(aluminum_unit_cell.cell)\n",
    "supercell_parameters = [dim * param for dim, param in zip(supercell_dimensions, cell_parameters)]\n",
    "\n",
    "# Create a supercell\n",
    "aluminum = Atoms(cell=supercell_parameters)\n",
    "aluminum.extend(aluminum_unit_cell.repeat(supercell_dimensions))\n",
    "\n",
    "\n",
    "# Get atomic positions\n",
    "positions = aluminum.get_positions()\n",
    "\n",
    "# Separate x, y, and z coordinates into arrays\n",
    "x = positions[:, 0]\n",
    "y = positions[:, 1]\n",
    "z = positions[:, 2]\n",
    "######################\n",
    "\n",
    "\n",
    "# Create a 3D scatter plot\n",
    "fig = plt.figure()\n",
    "ax = fig.add_subplot(111, projection='3d')\n",
    "ax.scatter(x, y, z, c='b', marker='o', s=20, label='Aluminum Atoms')\n",
    "\n",
    "# Set labels\n",
    "ax.set_xlabel('X (Å)')\n",
    "ax.set_ylabel('Y (Å)')\n",
    "ax.set_zlabel('Z (Å)')\n",
    "ax.set_title('3D Crystal Structure of Aluminum')\n",
    "\n",
    "# Show the plot\n",
    "plt.show()\n",
    "\n"
   ]
  },
  {
   "cell_type": "code",
   "execution_count": null,
   "metadata": {
    "tags": []
   },
   "outputs": [],
   "source": [
    "# Function to calculate 3D FFT and plot the result\n",
    "def calculate_3d_fft_and_plot(x, y, z):\n",
    "    # Combine x, y, z coordinates into a complex 3D array\n",
    "    data = x + 1j * y + 1j**2 * z\n",
    "\n",
    "    # Perform 3D FFT\n",
    "    fft_result = np.fft.fftn(data)\n",
    "\n",
    "    # Get the magnitudes of the FFT result\n",
    "    fft_magnitude = np.abs(fft_result)\n",
    "\n",
    "    # Plot the 3D FFT magnitudes\n",
    "    fig_fft = plt.figure()\n",
    "    ax_fft = fig_fft.add_subplot(111, projection='3d')\n",
    "    \n",
    "    # Get the coordinates of non-zero values in fft_magnitude\n",
    "    nonzero_coords = np.where(fft_magnitude > 1e-3)\n",
    "    \n",
    "    # Scatter plot with x, y, z coordinates\n",
    "    ax_fft.scatter(nonzero_coords[0], nonzero_coords[1], nonzero_coords[2], c='r', marker='o', s=20, label='FFT Peaks')\n",
    "    ax_fft.set_xlabel('Frequency X (1/Å)')\n",
    "    ax_fft.set_ylabel('Frequency Y (1/Å)')\n",
    "    ax_fft.set_zlabel('Frequency Z (1/Å)')\n",
    "    ax_fft.set_title('3D FFT of Crystal Structure')\n",
    "\n",
    "    plt.show()\n",
    "\n",
    "# Calculate 3D FFT for x, y, and z coordinates\n",
    "calculate_3d_fft_and_plot(x, y, z)"
   ]
  },
  {
   "cell_type": "code",
   "execution_count": null,
   "metadata": {},
   "outputs": [],
   "source": []
  }
 ],
 "metadata": {
  "kernelspec": {
   "display_name": "Python 3 (ipykernel)",
   "language": "python",
   "name": "python3"
  },
  "language_info": {
   "codemirror_mode": {
    "name": "ipython",
    "version": 3
   },
   "file_extension": ".py",
   "mimetype": "text/x-python",
   "name": "python",
   "nbconvert_exporter": "python",
   "pygments_lexer": "ipython3",
   "version": "3.8.16"
  },
  "widgets": {
   "application/vnd.jupyter.widget-state+json": {
    "state": {
     "000a2999cc7e4f2383afdb1aef398792": {
      "model_module": "@jupyter-widgets/controls",
      "model_module_version": "2.0.0",
      "model_name": "ButtonStyleModel",
      "state": {
       "font_family": null,
       "font_size": null,
       "font_style": null,
       "font_variant": null,
       "font_weight": null,
       "text_color": null,
       "text_decoration": null
      }
     },
     "0116c5f172b646dc8392e4b4ee6262f0": {
      "model_module": "@jupyter-widgets/base",
      "model_module_version": "2.0.0",
      "model_name": "LayoutModel",
      "state": {}
     },
     "04b95c3c923a41f58ff166a402aa738b": {
      "model_module": "@jupyter-widgets/base",
      "model_module_version": "2.0.0",
      "model_name": "LayoutModel",
      "state": {}
     },
     "094762dd393a4159adb45ee68d7349b6": {
      "model_module": "@jupyter-widgets/controls",
      "model_module_version": "2.0.0",
      "model_name": "DescriptionStyleModel",
      "state": {
       "description_width": ""
      }
     },
     "0a1258ca61d04319ad13dcd6e6614ed7": {
      "model_module": "@jupyter-widgets/controls",
      "model_module_version": "2.0.0",
      "model_name": "DropdownModel",
      "state": {
       "_options_labels": [
        "True",
        "False"
       ],
       "description": "hdf",
       "index": 0,
       "layout": "IPY_MODEL_ce4ad336b5274880afe050377df907a4",
       "style": "IPY_MODEL_e95b1733bb1e499ca682ad12c3237eb8"
      }
     },
     "0d0cf5d78f5c4beaa881164c2c15d973": {
      "model_module": "@jupyter-widgets/base",
      "model_module_version": "2.0.0",
      "model_name": "LayoutModel",
      "state": {}
     },
     "0e57ef73521845ed9b8d7c793746fbc6": {
      "model_module": "@jupyter-widgets/controls",
      "model_module_version": "2.0.0",
      "model_name": "CheckboxModel",
      "state": {
       "description": "temp",
       "disabled": false,
       "layout": "IPY_MODEL_9f1307a9a1d44ffe81044695a03bc40d",
       "style": "IPY_MODEL_fd4afe5121484f5d9db5c0214f4cfa04",
       "value": false
      }
     },
     "0eb326aba1c64cd4b5b9b80dd0d6523f": {
      "model_module": "@jupyter-widgets/controls",
      "model_module_version": "2.0.0",
      "model_name": "CheckboxStyleModel",
      "state": {
       "description_width": ""
      }
     },
     "10635fb9019244b4b31e3dcab378e0cd": {
      "model_module": "@jupyter-widgets/base",
      "model_module_version": "2.0.0",
      "model_name": "LayoutModel",
      "state": {}
     },
     "10d294ef8b1849d6aff227948043bb3b": {
      "model_module": "@jupyter-widgets/base",
      "model_module_version": "2.0.0",
      "model_name": "LayoutModel",
      "state": {
       "width": "200px"
      }
     },
     "11b7333f572c4024985fd37b72bbfe99": {
      "model_module": "@jupyter-widgets/controls",
      "model_module_version": "2.0.0",
      "model_name": "DropdownModel",
      "state": {
       "_options_labels": [
        "pyccapt",
        "leap_epos",
        "leap_pos",
        "ato_v6"
       ],
       "description": "Data mode:",
       "index": 1,
       "layout": "IPY_MODEL_21597f1f411e40ed851e1ee8f7c83058",
       "style": "IPY_MODEL_7c2ba993150e4de882399bdb12dbea06"
      }
     },
     "11bf63890c0d4b08867d0bd883df1dc2": {
      "model_module": "@jupyter-widgets/base",
      "model_module_version": "2.0.0",
      "model_name": "LayoutModel",
      "state": {}
     },
     "11e836e9e12248e6aa448c8fd0ae2d32": {
      "model_module": "@jupyter-widgets/base",
      "model_module_version": "2.0.0",
      "model_name": "LayoutModel",
      "state": {}
     },
     "13f03d9355774d45b036d614885c351e": {
      "model_module": "@jupyter-widgets/base",
      "model_module_version": "2.0.0",
      "model_name": "LayoutModel",
      "state": {}
     },
     "16ea4186b6b64ac7bc19e531270af2e6": {
      "model_module": "@jupyter-widgets/controls",
      "model_module_version": "2.0.0",
      "model_name": "DescriptionStyleModel",
      "state": {
       "description_width": ""
      }
     },
     "1cd3e05e079c4af9b2d1758dbc7d597d": {
      "model_module": "@jupyter-widgets/controls",
      "model_module_version": "2.0.0",
      "model_name": "DropdownModel",
      "state": {
       "_options_labels": [
        "pyccapt",
        "leap_epos",
        "leap_pos",
        "ato_v6"
       ],
       "description": "Data mode:",
       "index": 1,
       "layout": "IPY_MODEL_9a0bfdbff96d4f14bfb8b43dd20cee94",
       "style": "IPY_MODEL_ce35ff41d4dc431eb8d5265c4e333633"
      }
     },
     "1ea76100276144cb9929f4520b5cd4f4": {
      "model_module": "@jupyter-widgets/base",
      "model_module_version": "2.0.0",
      "model_name": "LayoutModel",
      "state": {}
     },
     "1eacfa415ab640e8a24f885796243707": {
      "model_module": "@jupyter-widgets/base",
      "model_module_version": "2.0.0",
      "model_name": "LayoutModel",
      "state": {}
     },
     "20b91fc5f358426f92416d7f9651efad": {
      "model_module": "@jupyter-widgets/controls",
      "model_module_version": "2.0.0",
      "model_name": "DescriptionStyleModel",
      "state": {
       "description_width": ""
      }
     },
     "20eacc9516794bbba78d74936de0597e": {
      "model_module": "@jupyter-widgets/controls",
      "model_module_version": "2.0.0",
      "model_name": "FloatTextModel",
      "state": {
       "description": "Detector diameter:",
       "layout": "IPY_MODEL_acc97757442b4d178b8504008f90ff83",
       "step": null,
       "style": "IPY_MODEL_f1d3981a4de747c3b71f338f4116c6f0",
       "value": 80
      }
     },
     "21597f1f411e40ed851e1ee8f7c83058": {
      "model_module": "@jupyter-widgets/base",
      "model_module_version": "2.0.0",
      "model_name": "LayoutModel",
      "state": {}
     },
     "2290b9d5eb224af5b213ab6dbb5f5d8e": {
      "model_module": "@jupyter-widgets/controls",
      "model_module_version": "2.0.0",
      "model_name": "VBoxModel",
      "state": {
       "_dom_classes": [
        "widget-interact"
       ],
       "children": [
        "IPY_MODEL_0a1258ca61d04319ad13dcd6e6614ed7",
        "IPY_MODEL_abcf310244af46f3af32dee1d335f4c7",
        "IPY_MODEL_40c1a6c24a8843f8adaf94684f69b013",
        "IPY_MODEL_ab2c2ca6da974b0ab5d65b0eb02732d7",
        "IPY_MODEL_d685356eb27a4cd5b2671b0a4b637c62",
        "IPY_MODEL_3f49b6ef7f7a4c5d81a6ceefa48b1948",
        "IPY_MODEL_9001a5c3e208490f9da4c53fa57adc52",
        "IPY_MODEL_5183ca7fa1ef4717a27370c0f704ffeb"
       ],
       "layout": "IPY_MODEL_10635fb9019244b4b31e3dcab378e0cd"
      }
     },
     "232415a1fa9e49ed8f14d11fb026d7a9": {
      "model_module": "@jupyter-widgets/controls",
      "model_module_version": "2.0.0",
      "model_name": "DescriptionStyleModel",
      "state": {
       "description_width": ""
      }
     },
     "23eaa4d2838d45c1a91e99c3ac2f6f8a": {
      "model_module": "@jupyter-widgets/base",
      "model_module_version": "2.0.0",
      "model_name": "LayoutModel",
      "state": {}
     },
     "2646ada63a364d1cbad98271af8e4b98": {
      "model_module": "@jupyter-widgets/controls",
      "model_module_version": "2.0.0",
      "model_name": "FloatTextModel",
      "state": {
       "description": "Max mc:",
       "layout": "IPY_MODEL_ec213ed508c1490fb1a7ebdd905dc796",
       "step": null,
       "style": "IPY_MODEL_d694b8065c1942608f497b4cae0bd09f",
       "value": 400
      }
     },
     "265fcf09b8b0456e8a41f0669a729a9e": {
      "model_module": "@jupyter-widgets/base",
      "model_module_version": "2.0.0",
      "model_name": "LayoutModel",
      "state": {}
     },
     "29cb1223c91d4aba976a4bbfb6cc8ab5": {
      "model_module": "@jupyter-widgets/controls",
      "model_module_version": "2.0.0",
      "model_name": "DescriptionStyleModel",
      "state": {
       "description_width": ""
      }
     },
     "2a8af3b4b21645938b17bb31cf253815": {
      "model_module": "@jupyter-widgets/base",
      "model_module_version": "2.0.0",
      "model_name": "LayoutModel",
      "state": {}
     },
     "2aeb9a0b10c041c7a7864525b906a3af": {
      "model_module": "@jupyter-widgets/controls",
      "model_module_version": "2.0.0",
      "model_name": "DropdownModel",
      "state": {
       "_options_labels": [
        "False",
        "True"
       ],
       "description": "pos",
       "index": 0,
       "layout": "IPY_MODEL_ec5dca75eea6461497782adb84a705e8",
       "style": "IPY_MODEL_7168b7ecc7db4037b564065516bab482"
      }
     },
     "2b2325a747a84fc0aadd2ff5e15303fd": {
      "model_module": "@jupyter-widgets/controls",
      "model_module_version": "2.0.0",
      "model_name": "DescriptionStyleModel",
      "state": {
       "description_width": ""
      }
     },
     "2de331befe6e475bbd5178b9a2fe0bc6": {
      "model_module": "@jupyter-widgets/controls",
      "model_module_version": "2.0.0",
      "model_name": "DescriptionStyleModel",
      "state": {
       "description_width": ""
      }
     },
     "2eb998e75dff4fc4879c1cd932ff6298": {
      "model_module": "@jupyter-widgets/controls",
      "model_module_version": "2.0.0",
      "model_name": "DescriptionStyleModel",
      "state": {
       "description_width": ""
      }
     },
     "2eec36a48cff46b6bf7b53d23fc5806b": {
      "model_module": "@jupyter-widgets/base",
      "model_module_version": "2.0.0",
      "model_name": "LayoutModel",
      "state": {}
     },
     "33611d36b8464be5b32529ce3bb33d9e": {
      "model_module": "@jupyter-widgets/base",
      "model_module_version": "2.0.0",
      "model_name": "LayoutModel",
      "state": {}
     },
     "33c37a299ee441128ecebdaf5ad18da2": {
      "model_module": "@jupyter-widgets/base",
      "model_module_version": "2.0.0",
      "model_name": "LayoutModel",
      "state": {}
     },
     "34634a0e5a474b43ac44a31e566f39de": {
      "model_module": "@jupyter-widgets/controls",
      "model_module_version": "2.0.0",
      "model_name": "DescriptionStyleModel",
      "state": {
       "description_width": ""
      }
     },
     "355f93e1ba6b46ba8975f27b540b8206": {
      "model_module": "@jupyter-widgets/base",
      "model_module_version": "2.0.0",
      "model_name": "LayoutModel",
      "state": {}
     },
     "35b870f84b0a4df4882740eb54bb41d6": {
      "model_module": "@jupyter-widgets/base",
      "model_module_version": "2.0.0",
      "model_name": "LayoutModel",
      "state": {}
     },
     "3686076dc83a4f09aba5a0ea041c7534": {
      "model_module": "@jupyter-widgets/controls",
      "model_module_version": "2.0.0",
      "model_name": "DropdownModel",
      "state": {
       "_options_labels": [
        "False",
        "True"
       ],
       "description": "epos",
       "index": 0,
       "layout": "IPY_MODEL_420cb179410c49c1ae1289053af9e9df",
       "style": "IPY_MODEL_994142fb50ac43e491e8371c8bf67acd"
      }
     },
     "369d30a9b28b439ea9b3fe55b27ec6b7": {
      "model_module": "@jupyter-widgets/controls",
      "model_module_version": "2.0.0",
      "model_name": "DropdownModel",
      "state": {
       "_options_labels": [
        "False",
        "True"
       ],
       "description": "pos",
       "index": 0,
       "layout": "IPY_MODEL_4a316756ca994614b63ff1b4f9b6e1e1",
       "style": "IPY_MODEL_36b777baeae041879be4e78ff9314071"
      }
     },
     "36b777baeae041879be4e78ff9314071": {
      "model_module": "@jupyter-widgets/controls",
      "model_module_version": "2.0.0",
      "model_name": "DescriptionStyleModel",
      "state": {
       "description_width": ""
      }
     },
     "3762fdb67dfd46f3ace3d5adc0d2622d": {
      "model_module": "@jupyter-widgets/controls",
      "model_module_version": "2.0.0",
      "model_name": "FloatTextModel",
      "state": {
       "description": "t0:",
       "layout": "IPY_MODEL_6b069a5d220d43ada804839009ade33b",
       "step": null,
       "style": "IPY_MODEL_2b2325a747a84fc0aadd2ff5e15303fd",
       "value": 38
      }
     },
     "3940b8adcdc54d6796269ee4c6a2bda1": {
      "model_module": "@jupyter-widgets/controls",
      "model_module_version": "2.0.0",
      "model_name": "DescriptionStyleModel",
      "state": {
       "description_width": ""
      }
     },
     "3a79ed9509bc4a32b2a73fc4f7b4f327": {
      "model_module": "@jupyter-widgets/base",
      "model_module_version": "2.0.0",
      "model_name": "LayoutModel",
      "state": {}
     },
     "3cced322423a42e6999301f38dcf6a17": {
      "model_module": "@jupyter-widgets/base",
      "model_module_version": "2.0.0",
      "model_name": "LayoutModel",
      "state": {}
     },
     "3f49b6ef7f7a4c5d81a6ceefa48b1948": {
      "model_module": "@jupyter-widgets/controls",
      "model_module_version": "2.0.0",
      "model_name": "CheckboxModel",
      "state": {
       "description": "temp",
       "disabled": false,
       "layout": "IPY_MODEL_7ca287b9ec1b4a11b534c26371529e62",
       "style": "IPY_MODEL_d113c9b8c2d1423883e41e6c71fb1afd",
       "value": false
      }
     },
     "3fb36b4f78324c70943f4554b85120a7": {
      "model_module": "@jupyter-widgets/controls",
      "model_module_version": "2.0.0",
      "model_name": "DescriptionStyleModel",
      "state": {
       "description_width": ""
      }
     },
     "40345a8d96b04b21adb49ce822ce904c": {
      "model_module": "@jupyter-widgets/base",
      "model_module_version": "2.0.0",
      "model_name": "LayoutModel",
      "state": {
       "width": "200px"
      }
     },
     "40784ff149664178af08a04b0d714a25": {
      "model_module": "@jupyter-widgets/base",
      "model_module_version": "2.0.0",
      "model_name": "LayoutModel",
      "state": {}
     },
     "40b330e3fdfd4e7b99acd6980b9e505d": {
      "model_module": "@jupyter-widgets/base",
      "model_module_version": "2.0.0",
      "model_name": "LayoutModel",
      "state": {}
     },
     "40c1a6c24a8843f8adaf94684f69b013": {
      "model_module": "@jupyter-widgets/controls",
      "model_module_version": "2.0.0",
      "model_name": "DropdownModel",
      "state": {
       "_options_labels": [
        "False",
        "True"
       ],
       "description": "pos",
       "index": 0,
       "layout": "IPY_MODEL_3a79ed9509bc4a32b2a73fc4f7b4f327",
       "style": "IPY_MODEL_a7132163a2a94111a615f8e4efb2b762"
      }
     },
     "41627f12468d43288343c4cb089db1bf": {
      "model_module": "@jupyter-widgets/base",
      "model_module_version": "2.0.0",
      "model_name": "LayoutModel",
      "state": {
       "width": "200px"
      }
     },
     "420cb179410c49c1ae1289053af9e9df": {
      "model_module": "@jupyter-widgets/base",
      "model_module_version": "2.0.0",
      "model_name": "LayoutModel",
      "state": {}
     },
     "430c06d4c3904d15ba47c0291273b6ba": {
      "model_module": "@jupyter-widgets/controls",
      "model_module_version": "2.0.0",
      "model_name": "DescriptionStyleModel",
      "state": {
       "description_width": ""
      }
     },
     "45280293469441d2ae41682d37f26e54": {
      "model_module": "@jupyter-widgets/base",
      "model_module_version": "2.0.0",
      "model_name": "LayoutModel",
      "state": {}
     },
     "4a316756ca994614b63ff1b4f9b6e1e1": {
      "model_module": "@jupyter-widgets/base",
      "model_module_version": "2.0.0",
      "model_name": "LayoutModel",
      "state": {}
     },
     "4a72470806794f95ba2c4da425830fd5": {
      "model_module": "@jupyter-widgets/controls",
      "model_module_version": "2.0.0",
      "model_name": "DescriptionStyleModel",
      "state": {
       "description_width": ""
      }
     },
     "4c0ae7ae823b46f998ab0a679e5fc73d": {
      "model_module": "@jupyter-widgets/base",
      "model_module_version": "2.0.0",
      "model_name": "LayoutModel",
      "state": {}
     },
     "4e19cef4767b46f4ab6d2bd37f0cbb14": {
      "model_module": "@jupyter-widgets/output",
      "model_module_version": "1.0.0",
      "model_name": "OutputModel",
      "state": {
       "layout": "IPY_MODEL_265fcf09b8b0456e8a41f0669a729a9e"
      }
     },
     "4ef522decf1d4195a493b5fd1a8c59b3": {
      "model_module": "@jupyter-widgets/controls",
      "model_module_version": "2.0.0",
      "model_name": "FloatTextModel",
      "state": {
       "description": "t0:",
       "layout": "IPY_MODEL_bd0c8f62fbd74cb78aac4cd92db5095f",
       "step": null,
       "style": "IPY_MODEL_430c06d4c3904d15ba47c0291273b6ba",
       "value": 38
      }
     },
     "4fb156ee8a0b4a5f9ba91e73c5a7f293": {
      "model_module": "@jupyter-widgets/base",
      "model_module_version": "2.0.0",
      "model_name": "LayoutModel",
      "state": {}
     },
     "5183ca7fa1ef4717a27370c0f704ffeb": {
      "model_module": "@jupyter-widgets/output",
      "model_module_version": "1.0.0",
      "model_name": "OutputModel",
      "state": {
       "layout": "IPY_MODEL_4c0ae7ae823b46f998ab0a679e5fc73d"
      }
     },
     "54c663a6e89748189091c73c7efd7847": {
      "model_module": "@jupyter-widgets/controls",
      "model_module_version": "2.0.0",
      "model_name": "DropdownModel",
      "state": {
       "_options_labels": [
        "pyccapt",
        "leap_epos",
        "leap_pos",
        "ato_v6"
       ],
       "description": "Data mode:",
       "index": 1,
       "layout": "IPY_MODEL_2a8af3b4b21645938b17bb31cf253815",
       "style": "IPY_MODEL_7a4c69e5489644dca7ce55de0141e4a6"
      }
     },
     "56d4a579de52465990f92dc5d8514d05": {
      "model_module": "@jupyter-widgets/controls",
      "model_module_version": "2.0.0",
      "model_name": "ButtonModel",
      "state": {
       "description": "Run Interact",
       "layout": "IPY_MODEL_35b870f84b0a4df4882740eb54bb41d6",
       "style": "IPY_MODEL_b16a0adb41d146b2851ca6c93af6cba4",
       "tooltip": null
      }
     },
     "5aa5fcd556934635b7b192eacfdc5e49": {
      "model_module": "@jupyter-widgets/controls",
      "model_module_version": "2.0.0",
      "model_name": "FloatTextModel",
      "state": {
       "description": "Max mc:",
       "layout": "IPY_MODEL_355f93e1ba6b46ba8975f27b540b8206",
       "step": null,
       "style": "IPY_MODEL_3940b8adcdc54d6796269ee4c6a2bda1",
       "value": 400
      }
     },
     "5efd0222ea67415282d5bcfe7118af4d": {
      "model_module": "@jupyter-widgets/controls",
      "model_module_version": "2.0.0",
      "model_name": "VBoxModel",
      "state": {
       "_dom_classes": [
        "widget-interact"
       ],
       "children": [
        "IPY_MODEL_71da4680a5ae47659bb9f757d9c6e894",
        "IPY_MODEL_b73a86f957db4c7ab91fdb7e2ab54ef2",
        "IPY_MODEL_806d165ce76c4ac39044132f65c884bc",
        "IPY_MODEL_79d6d8d141a347cc8db49689774220ed",
        "IPY_MODEL_8b9114b57a194cbd8da2f3161d5cfb18",
        "IPY_MODEL_0e57ef73521845ed9b8d7c793746fbc6",
        "IPY_MODEL_ae4a9338311944d6a5200a0fb052abaf",
        "IPY_MODEL_4e19cef4767b46f4ab6d2bd37f0cbb14"
       ],
       "layout": "IPY_MODEL_23eaa4d2838d45c1a91e99c3ac2f6f8a"
      }
     },
     "6398ba9b1eb8403781481a74cac329e6": {
      "model_module": "@jupyter-widgets/base",
      "model_module_version": "2.0.0",
      "model_name": "LayoutModel",
      "state": {
       "width": "200px"
      }
     },
     "66a613659cd94d05909014a25513fc22": {
      "model_module": "@jupyter-widgets/base",
      "model_module_version": "2.0.0",
      "model_name": "LayoutModel",
      "state": {}
     },
     "681f7bb9a9e246c787f1afc2b2c51a83": {
      "model_module": "@jupyter-widgets/controls",
      "model_module_version": "2.0.0",
      "model_name": "CheckboxModel",
      "state": {
       "description": "temp",
       "disabled": false,
       "layout": "IPY_MODEL_2eec36a48cff46b6bf7b53d23fc5806b",
       "style": "IPY_MODEL_0eb326aba1c64cd4b5b9b80dd0d6523f",
       "value": false
      }
     },
     "687627793c6a4d1b80f9ee5b65a1ba9d": {
      "model_module": "@jupyter-widgets/controls",
      "model_module_version": "2.0.0",
      "model_name": "FloatTextModel",
      "state": {
       "description": "Flight path length:",
       "layout": "IPY_MODEL_0d0cf5d78f5c4beaa881164c2c15d973",
       "step": null,
       "style": "IPY_MODEL_c78072fad42c439f884ec8df3e3e9122",
       "value": 110
      }
     },
     "687b07e1df8a4865a9245e1db20d4135": {
      "model_module": "@jupyter-widgets/controls",
      "model_module_version": "2.0.0",
      "model_name": "CheckboxModel",
      "state": {
       "description": "temp",
       "disabled": false,
       "layout": "IPY_MODEL_709c40af38b645ecb7fe8ecaf582b05b",
       "style": "IPY_MODEL_9ae585f776b1450fb796ef20aa6104fd",
       "value": false
      }
     },
     "6b069a5d220d43ada804839009ade33b": {
      "model_module": "@jupyter-widgets/base",
      "model_module_version": "2.0.0",
      "model_name": "LayoutModel",
      "state": {}
     },
     "6c2124324fb5400d81a5e413400223c4": {
      "model_module": "@jupyter-widgets/base",
      "model_module_version": "2.0.0",
      "model_name": "LayoutModel",
      "state": {}
     },
     "6e4ab4a3a34d4ca8b350743f9117e1b1": {
      "model_module": "@jupyter-widgets/base",
      "model_module_version": "2.0.0",
      "model_name": "LayoutModel",
      "state": {}
     },
     "6f5b7fcd083b4d449217669754498012": {
      "model_module": "@jupyter-widgets/controls",
      "model_module_version": "2.0.0",
      "model_name": "ButtonModel",
      "state": {
       "description": "load dataset",
       "layout": "IPY_MODEL_1eacfa415ab640e8a24f885796243707",
       "style": "IPY_MODEL_b05d2bc2666c4022be5fdfc9fdce48bc",
       "tooltip": null
      }
     },
     "6fbbe5cb6290491fba967afd6116ad2f": {
      "model_module": "@jupyter-widgets/base",
      "model_module_version": "2.0.0",
      "model_name": "LayoutModel",
      "state": {}
     },
     "7099f13e2d264350b8fbd86680171e2e": {
      "model_module": "@jupyter-widgets/controls",
      "model_module_version": "2.0.0",
      "model_name": "DropdownModel",
      "state": {
       "_options_labels": [
        "False",
        "True"
       ],
       "description": "ato_6v",
       "index": 0,
       "layout": "IPY_MODEL_13f03d9355774d45b036d614885c351e",
       "style": "IPY_MODEL_718e35d06d05419a961138f7ff2c01dc"
      }
     },
     "709c40af38b645ecb7fe8ecaf582b05b": {
      "model_module": "@jupyter-widgets/base",
      "model_module_version": "2.0.0",
      "model_name": "LayoutModel",
      "state": {}
     },
     "7168b7ecc7db4037b564065516bab482": {
      "model_module": "@jupyter-widgets/controls",
      "model_module_version": "2.0.0",
      "model_name": "DescriptionStyleModel",
      "state": {
       "description_width": ""
      }
     },
     "718e35d06d05419a961138f7ff2c01dc": {
      "model_module": "@jupyter-widgets/controls",
      "model_module_version": "2.0.0",
      "model_name": "DescriptionStyleModel",
      "state": {
       "description_width": ""
      }
     },
     "71da4680a5ae47659bb9f757d9c6e894": {
      "model_module": "@jupyter-widgets/controls",
      "model_module_version": "2.0.0",
      "model_name": "DropdownModel",
      "state": {
       "_options_labels": [
        "True",
        "False"
       ],
       "description": "hdf",
       "index": 0,
       "layout": "IPY_MODEL_8eefad0a84554d8ea71acc11c51b5c0a",
       "style": "IPY_MODEL_808cc011430542f1a3ebd4b382ccc8bc"
      }
     },
     "724a2040558b4cd5ab17ad59a14e389b": {
      "model_module": "@jupyter-widgets/base",
      "model_module_version": "2.0.0",
      "model_name": "LayoutModel",
      "state": {}
     },
     "734395760a424bd5a01dc1c421c7f013": {
      "model_module": "@jupyter-widgets/controls",
      "model_module_version": "2.0.0",
      "model_name": "DescriptionStyleModel",
      "state": {
       "description_width": ""
      }
     },
     "79d6d8d141a347cc8db49689774220ed": {
      "model_module": "@jupyter-widgets/controls",
      "model_module_version": "2.0.0",
      "model_name": "DropdownModel",
      "state": {
       "_options_labels": [
        "False",
        "True"
       ],
       "description": "ato_6v",
       "index": 0,
       "layout": "IPY_MODEL_6fbbe5cb6290491fba967afd6116ad2f",
       "style": "IPY_MODEL_4a72470806794f95ba2c4da425830fd5"
      }
     },
     "7a4c69e5489644dca7ce55de0141e4a6": {
      "model_module": "@jupyter-widgets/controls",
      "model_module_version": "2.0.0",
      "model_name": "DescriptionStyleModel",
      "state": {
       "description_width": ""
      }
     },
     "7ba1f4a0f7644c2d86e53dfa2d0f3f79": {
      "model_module": "@jupyter-widgets/controls",
      "model_module_version": "2.0.0",
      "model_name": "DropdownModel",
      "state": {
       "_options_labels": [
        "False",
        "True"
       ],
       "description": "ato_6v",
       "index": 0,
       "layout": "IPY_MODEL_11e836e9e12248e6aa448c8fd0ae2d32",
       "style": "IPY_MODEL_8f0a5452386e43c2908f5411278e5fe8"
      }
     },
     "7c2ba993150e4de882399bdb12dbea06": {
      "model_module": "@jupyter-widgets/controls",
      "model_module_version": "2.0.0",
      "model_name": "DescriptionStyleModel",
      "state": {
       "description_width": ""
      }
     },
     "7ca287b9ec1b4a11b534c26371529e62": {
      "model_module": "@jupyter-widgets/base",
      "model_module_version": "2.0.0",
      "model_name": "LayoutModel",
      "state": {}
     },
     "806d165ce76c4ac39044132f65c884bc": {
      "model_module": "@jupyter-widgets/controls",
      "model_module_version": "2.0.0",
      "model_name": "DropdownModel",
      "state": {
       "_options_labels": [
        "False",
        "True"
       ],
       "description": "pos",
       "index": 0,
       "layout": "IPY_MODEL_11bf63890c0d4b08867d0bd883df1dc2",
       "style": "IPY_MODEL_232415a1fa9e49ed8f14d11fb026d7a9"
      }
     },
     "808cc011430542f1a3ebd4b382ccc8bc": {
      "model_module": "@jupyter-widgets/controls",
      "model_module_version": "2.0.0",
      "model_name": "DescriptionStyleModel",
      "state": {
       "description_width": ""
      }
     },
     "82b0ff41820c4d2f90ee7334b1dd0213": {
      "model_module": "@jupyter-widgets/controls",
      "model_module_version": "2.0.0",
      "model_name": "DescriptionStyleModel",
      "state": {
       "description_width": ""
      }
     },
     "84fb6038e3854291ab0b15fc5160e7f5": {
      "model_module": "@jupyter-widgets/controls",
      "model_module_version": "2.0.0",
      "model_name": "DropdownModel",
      "state": {
       "_options_labels": [
        "voltage",
        "laser"
       ],
       "description": "Pulse mode:",
       "index": 0,
       "layout": "IPY_MODEL_f4d4721a08a14728aa6488af299c0ca8",
       "style": "IPY_MODEL_e79a6b8245a64aa68f8d843a8a1ef9ea"
      }
     },
     "86029bb6caa94cf28efcea19e032a336": {
      "model_module": "@jupyter-widgets/controls",
      "model_module_version": "2.0.0",
      "model_name": "ButtonModel",
      "state": {
       "description": "Run Interact",
       "layout": "IPY_MODEL_ae54626b940d4cf4a674a1900a471866",
       "style": "IPY_MODEL_e281f83935c34ef8b7ef28bf24d1b43a",
       "tooltip": null
      }
     },
     "870d4c1fed444e96aa0a8745b5b137bb": {
      "model_module": "@jupyter-widgets/base",
      "model_module_version": "2.0.0",
      "model_name": "LayoutModel",
      "state": {
       "width": "200px"
      }
     },
     "8b9114b57a194cbd8da2f3161d5cfb18": {
      "model_module": "@jupyter-widgets/controls",
      "model_module_version": "2.0.0",
      "model_name": "DropdownModel",
      "state": {
       "_options_labels": [
        "False",
        "True"
       ],
       "description": "csv",
       "index": 0,
       "layout": "IPY_MODEL_9022595362534a5eb763ad8eb645ade4",
       "style": "IPY_MODEL_29cb1223c91d4aba976a4bbfb6cc8ab5"
      }
     },
     "8eefad0a84554d8ea71acc11c51b5c0a": {
      "model_module": "@jupyter-widgets/base",
      "model_module_version": "2.0.0",
      "model_name": "LayoutModel",
      "state": {}
     },
     "8f0a5452386e43c2908f5411278e5fe8": {
      "model_module": "@jupyter-widgets/controls",
      "model_module_version": "2.0.0",
      "model_name": "DescriptionStyleModel",
      "state": {
       "description_width": ""
      }
     },
     "9001a5c3e208490f9da4c53fa57adc52": {
      "model_module": "@jupyter-widgets/controls",
      "model_module_version": "2.0.0",
      "model_name": "ButtonModel",
      "state": {
       "description": "Run Interact",
       "layout": "IPY_MODEL_d01982d1d0b34cd094d9e974b2de898a",
       "style": "IPY_MODEL_000a2999cc7e4f2383afdb1aef398792",
       "tooltip": null
      }
     },
     "9022595362534a5eb763ad8eb645ade4": {
      "model_module": "@jupyter-widgets/base",
      "model_module_version": "2.0.0",
      "model_name": "LayoutModel",
      "state": {}
     },
     "9143dc87b1e044faa49f9d29dee35747": {
      "model_module": "@jupyter-widgets/controls",
      "model_module_version": "2.0.0",
      "model_name": "ButtonStyleModel",
      "state": {
       "font_family": null,
       "font_size": null,
       "font_style": null,
       "font_variant": null,
       "font_weight": null,
       "text_color": null,
       "text_decoration": null
      }
     },
     "994142fb50ac43e491e8371c8bf67acd": {
      "model_module": "@jupyter-widgets/controls",
      "model_module_version": "2.0.0",
      "model_name": "DescriptionStyleModel",
      "state": {
       "description_width": ""
      }
     },
     "9945c3ebbb4e41bc92031c67635932e5": {
      "model_module": "@jupyter-widgets/controls",
      "model_module_version": "2.0.0",
      "model_name": "DropdownModel",
      "state": {
       "_options_labels": [
        "voltage",
        "laser"
       ],
       "description": "Pulse mode:",
       "index": 0,
       "layout": "IPY_MODEL_724a2040558b4cd5ab17ad59a14e389b",
       "style": "IPY_MODEL_d68dcfd79afe465baffaf1777164487e"
      }
     },
     "9a0bfdbff96d4f14bfb8b43dd20cee94": {
      "model_module": "@jupyter-widgets/base",
      "model_module_version": "2.0.0",
      "model_name": "LayoutModel",
      "state": {}
     },
     "9ae585f776b1450fb796ef20aa6104fd": {
      "model_module": "@jupyter-widgets/controls",
      "model_module_version": "2.0.0",
      "model_name": "CheckboxStyleModel",
      "state": {
       "description_width": ""
      }
     },
     "9b14657f17be4a1081a0374c5c459721": {
      "model_module": "@jupyter-widgets/controls",
      "model_module_version": "2.0.0",
      "model_name": "VBoxModel",
      "state": {
       "_dom_classes": [
        "widget-interact"
       ],
       "children": [
        "IPY_MODEL_e4a8509331754f72b3b5cc268f34c226",
        "IPY_MODEL_3686076dc83a4f09aba5a0ea041c7534",
        "IPY_MODEL_2aeb9a0b10c041c7a7864525b906a3af",
        "IPY_MODEL_7099f13e2d264350b8fbd86680171e2e",
        "IPY_MODEL_fdbfed9d45674422a37eaaef7583c6bd",
        "IPY_MODEL_681f7bb9a9e246c787f1afc2b2c51a83",
        "IPY_MODEL_86029bb6caa94cf28efcea19e032a336",
        "IPY_MODEL_e020aa47c87441a69b886decceb4b5f9"
       ],
       "layout": "IPY_MODEL_3cced322423a42e6999301f38dcf6a17"
      }
     },
     "9f1307a9a1d44ffe81044695a03bc40d": {
      "model_module": "@jupyter-widgets/base",
      "model_module_version": "2.0.0",
      "model_name": "LayoutModel",
      "state": {}
     },
     "a2a78efccd374796a8da2a5195d2951f": {
      "model_module": "@jupyter-widgets/controls",
      "model_module_version": "2.0.0",
      "model_name": "DescriptionStyleModel",
      "state": {
       "description_width": ""
      }
     },
     "a2d358dcfb3e4231bac51eb42e58d2a3": {
      "model_module": "@jupyter-widgets/base",
      "model_module_version": "2.0.0",
      "model_name": "LayoutModel",
      "state": {}
     },
     "a42527c8418945ca9364f7a6c6bf7534": {
      "model_module": "@jupyter-widgets/controls",
      "model_module_version": "2.0.0",
      "model_name": "DescriptionStyleModel",
      "state": {
       "description_width": ""
      }
     },
     "a7132163a2a94111a615f8e4efb2b762": {
      "model_module": "@jupyter-widgets/controls",
      "model_module_version": "2.0.0",
      "model_name": "DescriptionStyleModel",
      "state": {
       "description_width": ""
      }
     },
     "a8abb1e5749444b8934c4dbf827ed234": {
      "model_module": "@jupyter-widgets/controls",
      "model_module_version": "2.0.0",
      "model_name": "FloatTextModel",
      "state": {
       "description": "Detector diameter:",
       "layout": "IPY_MODEL_db1215e8836147c5bc00a80bb18bc0b4",
       "step": null,
       "style": "IPY_MODEL_82b0ff41820c4d2f90ee7334b1dd0213",
       "value": 80
      }
     },
     "a9ce0d194f604f2e8b5f121aebe5a669": {
      "model_module": "@jupyter-widgets/controls",
      "model_module_version": "2.0.0",
      "model_name": "FloatTextModel",
      "state": {
       "description": "Detector diameter:",
       "layout": "IPY_MODEL_b07c8ac1b2be4785805c70b8953dfcbf",
       "step": null,
       "style": "IPY_MODEL_f7b91f7a00dd40378d56d23d989893b7",
       "value": 80
      }
     },
     "ab2c2ca6da974b0ab5d65b0eb02732d7": {
      "model_module": "@jupyter-widgets/controls",
      "model_module_version": "2.0.0",
      "model_name": "DropdownModel",
      "state": {
       "_options_labels": [
        "False",
        "True"
       ],
       "description": "ato_6v",
       "index": 0,
       "layout": "IPY_MODEL_40b330e3fdfd4e7b99acd6980b9e505d",
       "style": "IPY_MODEL_2eb998e75dff4fc4879c1cd932ff6298"
      }
     },
     "abcf310244af46f3af32dee1d335f4c7": {
      "model_module": "@jupyter-widgets/controls",
      "model_module_version": "2.0.0",
      "model_name": "DropdownModel",
      "state": {
       "_options_labels": [
        "False",
        "True"
       ],
       "description": "epos",
       "index": 0,
       "layout": "IPY_MODEL_04b95c3c923a41f58ff166a402aa738b",
       "style": "IPY_MODEL_16ea4186b6b64ac7bc19e531270af2e6"
      }
     },
     "acc97757442b4d178b8504008f90ff83": {
      "model_module": "@jupyter-widgets/base",
      "model_module_version": "2.0.0",
      "model_name": "LayoutModel",
      "state": {}
     },
     "ae4a9338311944d6a5200a0fb052abaf": {
      "model_module": "@jupyter-widgets/controls",
      "model_module_version": "2.0.0",
      "model_name": "ButtonModel",
      "state": {
       "description": "Run Interact",
       "layout": "IPY_MODEL_4fb156ee8a0b4a5f9ba91e73c5a7f293",
       "style": "IPY_MODEL_c3e262da0f1b4108b4a08aaf81cfe00c",
       "tooltip": null
      }
     },
     "ae54626b940d4cf4a674a1900a471866": {
      "model_module": "@jupyter-widgets/base",
      "model_module_version": "2.0.0",
      "model_name": "LayoutModel",
      "state": {}
     },
     "b05d2bc2666c4022be5fdfc9fdce48bc": {
      "model_module": "@jupyter-widgets/controls",
      "model_module_version": "2.0.0",
      "model_name": "ButtonStyleModel",
      "state": {
       "font_family": null,
       "font_size": null,
       "font_style": null,
       "font_variant": null,
       "font_weight": null,
       "text_color": null,
       "text_decoration": null
      }
     },
     "b07c8ac1b2be4785805c70b8953dfcbf": {
      "model_module": "@jupyter-widgets/base",
      "model_module_version": "2.0.0",
      "model_name": "LayoutModel",
      "state": {}
     },
     "b086466c798e448d91a5a2018b114b7d": {
      "model_module": "@jupyter-widgets/base",
      "model_module_version": "2.0.0",
      "model_name": "LayoutModel",
      "state": {
       "width": "300px"
      }
     },
     "b16a0adb41d146b2851ca6c93af6cba4": {
      "model_module": "@jupyter-widgets/controls",
      "model_module_version": "2.0.0",
      "model_name": "ButtonStyleModel",
      "state": {
       "font_family": null,
       "font_size": null,
       "font_style": null,
       "font_variant": null,
       "font_weight": null,
       "text_color": null,
       "text_decoration": null
      }
     },
     "b6a8ee212fe145a1a5194ea69f78d117": {
      "model_module": "@jupyter-widgets/controls",
      "model_module_version": "2.0.0",
      "model_name": "DescriptionStyleModel",
      "state": {
       "description_width": ""
      }
     },
     "b73a86f957db4c7ab91fdb7e2ab54ef2": {
      "model_module": "@jupyter-widgets/controls",
      "model_module_version": "2.0.0",
      "model_name": "DropdownModel",
      "state": {
       "_options_labels": [
        "False",
        "True"
       ],
       "description": "epos",
       "index": 0,
       "layout": "IPY_MODEL_33c37a299ee441128ecebdaf5ad18da2",
       "style": "IPY_MODEL_bb08fab5589b4371afc801573e805e64"
      }
     },
     "bb08fab5589b4371afc801573e805e64": {
      "model_module": "@jupyter-widgets/controls",
      "model_module_version": "2.0.0",
      "model_name": "DescriptionStyleModel",
      "state": {
       "description_width": ""
      }
     },
     "bd0c8f62fbd74cb78aac4cd92db5095f": {
      "model_module": "@jupyter-widgets/base",
      "model_module_version": "2.0.0",
      "model_name": "LayoutModel",
      "state": {}
     },
     "bd7f8f831b9d4976b7c4826db51ca0f6": {
      "model_module": "@jupyter-widgets/base",
      "model_module_version": "2.0.0",
      "model_name": "LayoutModel",
      "state": {}
     },
     "bf4c6fc106e94fffad77dbfe1cd14f51": {
      "model_module": "@jupyter-widgets/controls",
      "model_module_version": "2.0.0",
      "model_name": "FloatTextModel",
      "state": {
       "description": "Max mc:",
       "layout": "IPY_MODEL_bd7f8f831b9d4976b7c4826db51ca0f6",
       "step": null,
       "style": "IPY_MODEL_734395760a424bd5a01dc1c421c7f013",
       "value": 400
      }
     },
     "c02d9827b2044181b03fe34372180a18": {
      "model_module": "@jupyter-widgets/controls",
      "model_module_version": "2.0.0",
      "model_name": "FloatTextModel",
      "state": {
       "description": "Flight path length:",
       "layout": "IPY_MODEL_6e4ab4a3a34d4ca8b350743f9117e1b1",
       "step": null,
       "style": "IPY_MODEL_2de331befe6e475bbd5178b9a2fe0bc6",
       "value": 110
      }
     },
     "c0e859835b854c27b45d34fb832eee9a": {
      "model_module": "@jupyter-widgets/base",
      "model_module_version": "2.0.0",
      "model_name": "LayoutModel",
      "state": {}
     },
     "c3e262da0f1b4108b4a08aaf81cfe00c": {
      "model_module": "@jupyter-widgets/controls",
      "model_module_version": "2.0.0",
      "model_name": "ButtonStyleModel",
      "state": {
       "font_family": null,
       "font_size": null,
       "font_style": null,
       "font_variant": null,
       "font_weight": null,
       "text_color": null,
       "text_decoration": null
      }
     },
     "c657aa0cc3b544809da5fbb7e72d1660": {
      "model_module": "@jupyter-widgets/base",
      "model_module_version": "2.0.0",
      "model_name": "LayoutModel",
      "state": {}
     },
     "c78072fad42c439f884ec8df3e3e9122": {
      "model_module": "@jupyter-widgets/controls",
      "model_module_version": "2.0.0",
      "model_name": "DescriptionStyleModel",
      "state": {
       "description_width": ""
      }
     },
     "c99a6457ef8444babb4f8fe14646ad5d": {
      "model_module": "@jupyter-widgets/controls",
      "model_module_version": "2.0.0",
      "model_name": "VBoxModel",
      "state": {
       "_dom_classes": [
        "widget-interact"
       ],
       "children": [
        "IPY_MODEL_e0537334ff8d4de2aa10cf1c7a29be43",
        "IPY_MODEL_fdff0a3de91c4a23a13f443bd1e1c179",
        "IPY_MODEL_369d30a9b28b439ea9b3fe55b27ec6b7",
        "IPY_MODEL_7ba1f4a0f7644c2d86e53dfa2d0f3f79",
        "IPY_MODEL_cc5247531c6b4ff2848abfbdcefcabc6",
        "IPY_MODEL_687b07e1df8a4865a9245e1db20d4135",
        "IPY_MODEL_56d4a579de52465990f92dc5d8514d05",
        "IPY_MODEL_f424b92e48654e49a0195ab5703a0169"
       ],
       "layout": "IPY_MODEL_0116c5f172b646dc8392e4b4ee6262f0"
      }
     },
     "cc5247531c6b4ff2848abfbdcefcabc6": {
      "model_module": "@jupyter-widgets/controls",
      "model_module_version": "2.0.0",
      "model_name": "DropdownModel",
      "state": {
       "_options_labels": [
        "False",
        "True"
       ],
       "description": "csv",
       "index": 0,
       "layout": "IPY_MODEL_66a613659cd94d05909014a25513fc22",
       "style": "IPY_MODEL_a42527c8418945ca9364f7a6c6bf7534"
      }
     },
     "ce35ff41d4dc431eb8d5265c4e333633": {
      "model_module": "@jupyter-widgets/controls",
      "model_module_version": "2.0.0",
      "model_name": "DescriptionStyleModel",
      "state": {
       "description_width": ""
      }
     },
     "ce4ad336b5274880afe050377df907a4": {
      "model_module": "@jupyter-widgets/base",
      "model_module_version": "2.0.0",
      "model_name": "LayoutModel",
      "state": {}
     },
     "d01982d1d0b34cd094d9e974b2de898a": {
      "model_module": "@jupyter-widgets/base",
      "model_module_version": "2.0.0",
      "model_name": "LayoutModel",
      "state": {}
     },
     "d113c9b8c2d1423883e41e6c71fb1afd": {
      "model_module": "@jupyter-widgets/controls",
      "model_module_version": "2.0.0",
      "model_name": "CheckboxStyleModel",
      "state": {
       "description_width": ""
      }
     },
     "d5ef00f1c98a4ebdb694ee92c0b7bfaa": {
      "model_module": "@jupyter-widgets/controls",
      "model_module_version": "2.0.0",
      "model_name": "DescriptionStyleModel",
      "state": {
       "description_width": ""
      }
     },
     "d685356eb27a4cd5b2671b0a4b637c62": {
      "model_module": "@jupyter-widgets/controls",
      "model_module_version": "2.0.0",
      "model_name": "DropdownModel",
      "state": {
       "_options_labels": [
        "False",
        "True"
       ],
       "description": "csv",
       "index": 0,
       "layout": "IPY_MODEL_ebc1b0d37dda4ee6910b631a2a776982",
       "style": "IPY_MODEL_20b91fc5f358426f92416d7f9651efad"
      }
     },
     "d68dcfd79afe465baffaf1777164487e": {
      "model_module": "@jupyter-widgets/controls",
      "model_module_version": "2.0.0",
      "model_name": "DescriptionStyleModel",
      "state": {
       "description_width": ""
      }
     },
     "d694b8065c1942608f497b4cae0bd09f": {
      "model_module": "@jupyter-widgets/controls",
      "model_module_version": "2.0.0",
      "model_name": "DescriptionStyleModel",
      "state": {
       "description_width": ""
      }
     },
     "d809448e30b54a20929a9a03ace01d9e": {
      "model_module": "@jupyter-widgets/controls",
      "model_module_version": "2.0.0",
      "model_name": "FloatTextModel",
      "state": {
       "description": "t0:",
       "layout": "IPY_MODEL_33611d36b8464be5b32529ce3bb33d9e",
       "step": null,
       "style": "IPY_MODEL_3fb36b4f78324c70943f4554b85120a7",
       "value": 38
      }
     },
     "db1215e8836147c5bc00a80bb18bc0b4": {
      "model_module": "@jupyter-widgets/base",
      "model_module_version": "2.0.0",
      "model_name": "LayoutModel",
      "state": {}
     },
     "dd626f05eec14e8fbe761bdd3a916e28": {
      "model_module": "@jupyter-widgets/base",
      "model_module_version": "2.0.0",
      "model_name": "LayoutModel",
      "state": {
       "width": "200px"
      }
     },
     "e020aa47c87441a69b886decceb4b5f9": {
      "model_module": "@jupyter-widgets/output",
      "model_module_version": "1.0.0",
      "model_name": "OutputModel",
      "state": {
       "layout": "IPY_MODEL_40784ff149664178af08a04b0d714a25"
      }
     },
     "e0537334ff8d4de2aa10cf1c7a29be43": {
      "model_module": "@jupyter-widgets/controls",
      "model_module_version": "2.0.0",
      "model_name": "DropdownModel",
      "state": {
       "_options_labels": [
        "True",
        "False"
       ],
       "description": "hdf",
       "index": 0,
       "layout": "IPY_MODEL_45280293469441d2ae41682d37f26e54",
       "style": "IPY_MODEL_d5ef00f1c98a4ebdb694ee92c0b7bfaa"
      }
     },
     "e281f83935c34ef8b7ef28bf24d1b43a": {
      "model_module": "@jupyter-widgets/controls",
      "model_module_version": "2.0.0",
      "model_name": "ButtonStyleModel",
      "state": {
       "font_family": null,
       "font_size": null,
       "font_style": null,
       "font_variant": null,
       "font_weight": null,
       "text_color": null,
       "text_decoration": null
      }
     },
     "e4a8509331754f72b3b5cc268f34c226": {
      "model_module": "@jupyter-widgets/controls",
      "model_module_version": "2.0.0",
      "model_name": "DropdownModel",
      "state": {
       "_options_labels": [
        "True",
        "False"
       ],
       "description": "hdf",
       "index": 0,
       "layout": "IPY_MODEL_1ea76100276144cb9929f4520b5cd4f4",
       "style": "IPY_MODEL_094762dd393a4159adb45ee68d7349b6"
      }
     },
     "e79a6b8245a64aa68f8d843a8a1ef9ea": {
      "model_module": "@jupyter-widgets/controls",
      "model_module_version": "2.0.0",
      "model_name": "DescriptionStyleModel",
      "state": {
       "description_width": ""
      }
     },
     "e82ecc7c68c74d64acff0161a3d4d970": {
      "model_module": "@jupyter-widgets/base",
      "model_module_version": "2.0.0",
      "model_name": "LayoutModel",
      "state": {
       "width": "200px"
      }
     },
     "e95b1733bb1e499ca682ad12c3237eb8": {
      "model_module": "@jupyter-widgets/controls",
      "model_module_version": "2.0.0",
      "model_name": "DescriptionStyleModel",
      "state": {
       "description_width": ""
      }
     },
     "ea371f05585e4a7686b90d2ba6bdfa2c": {
      "model_module": "@jupyter-widgets/base",
      "model_module_version": "2.0.0",
      "model_name": "LayoutModel",
      "state": {}
     },
     "ebc1b0d37dda4ee6910b631a2a776982": {
      "model_module": "@jupyter-widgets/base",
      "model_module_version": "2.0.0",
      "model_name": "LayoutModel",
      "state": {}
     },
     "ec213ed508c1490fb1a7ebdd905dc796": {
      "model_module": "@jupyter-widgets/base",
      "model_module_version": "2.0.0",
      "model_name": "LayoutModel",
      "state": {}
     },
     "ec5dca75eea6461497782adb84a705e8": {
      "model_module": "@jupyter-widgets/base",
      "model_module_version": "2.0.0",
      "model_name": "LayoutModel",
      "state": {}
     },
     "ecc6324d3ba843b4824846e4a9531cfa": {
      "model_module": "@jupyter-widgets/controls",
      "model_module_version": "2.0.0",
      "model_name": "FloatTextModel",
      "state": {
       "description": "Flight path length:",
       "layout": "IPY_MODEL_c0e859835b854c27b45d34fb832eee9a",
       "step": null,
       "style": "IPY_MODEL_fc703058c56f441cb408bce587487dc5",
       "value": 110
      }
     },
     "edb456b7b36343a292e2d9b034868413": {
      "model_module": "@jupyter-widgets/controls",
      "model_module_version": "2.0.0",
      "model_name": "DropdownModel",
      "state": {
       "_options_labels": [
        "voltage",
        "laser"
       ],
       "description": "Pulse mode:",
       "index": 0,
       "layout": "IPY_MODEL_ffea3afcd1d4411abed2b8269af8f5f6",
       "style": "IPY_MODEL_b6a8ee212fe145a1a5194ea69f78d117"
      }
     },
     "f1d3981a4de747c3b71f338f4116c6f0": {
      "model_module": "@jupyter-widgets/controls",
      "model_module_version": "2.0.0",
      "model_name": "DescriptionStyleModel",
      "state": {
       "description_width": ""
      }
     },
     "f424b92e48654e49a0195ab5703a0169": {
      "model_module": "@jupyter-widgets/output",
      "model_module_version": "1.0.0",
      "model_name": "OutputModel",
      "state": {
       "layout": "IPY_MODEL_6c2124324fb5400d81a5e413400223c4"
      }
     },
     "f4d4721a08a14728aa6488af299c0ca8": {
      "model_module": "@jupyter-widgets/base",
      "model_module_version": "2.0.0",
      "model_name": "LayoutModel",
      "state": {}
     },
     "f7b91f7a00dd40378d56d23d989893b7": {
      "model_module": "@jupyter-widgets/controls",
      "model_module_version": "2.0.0",
      "model_name": "DescriptionStyleModel",
      "state": {
       "description_width": ""
      }
     },
     "fc51b9de3fd24d24adf6f231c06ccfd4": {
      "model_module": "@jupyter-widgets/controls",
      "model_module_version": "2.0.0",
      "model_name": "ButtonModel",
      "state": {
       "description": "load dataset",
       "layout": "IPY_MODEL_c657aa0cc3b544809da5fbb7e72d1660",
       "style": "IPY_MODEL_9143dc87b1e044faa49f9d29dee35747",
       "tooltip": null
      }
     },
     "fc703058c56f441cb408bce587487dc5": {
      "model_module": "@jupyter-widgets/controls",
      "model_module_version": "2.0.0",
      "model_name": "DescriptionStyleModel",
      "state": {
       "description_width": ""
      }
     },
     "fd4afe5121484f5d9db5c0214f4cfa04": {
      "model_module": "@jupyter-widgets/controls",
      "model_module_version": "2.0.0",
      "model_name": "CheckboxStyleModel",
      "state": {
       "description_width": ""
      }
     },
     "fdbfed9d45674422a37eaaef7583c6bd": {
      "model_module": "@jupyter-widgets/controls",
      "model_module_version": "2.0.0",
      "model_name": "DropdownModel",
      "state": {
       "_options_labels": [
        "False",
        "True"
       ],
       "description": "csv",
       "index": 0,
       "layout": "IPY_MODEL_ea371f05585e4a7686b90d2ba6bdfa2c",
       "style": "IPY_MODEL_34634a0e5a474b43ac44a31e566f39de"
      }
     },
     "fdff0a3de91c4a23a13f443bd1e1c179": {
      "model_module": "@jupyter-widgets/controls",
      "model_module_version": "2.0.0",
      "model_name": "DropdownModel",
      "state": {
       "_options_labels": [
        "False",
        "True"
       ],
       "description": "epos",
       "index": 0,
       "layout": "IPY_MODEL_a2d358dcfb3e4231bac51eb42e58d2a3",
       "style": "IPY_MODEL_a2a78efccd374796a8da2a5195d2951f"
      }
     },
     "ffea3afcd1d4411abed2b8269af8f5f6": {
      "model_module": "@jupyter-widgets/base",
      "model_module_version": "2.0.0",
      "model_name": "LayoutModel",
      "state": {}
     }
    },
    "version_major": 2,
    "version_minor": 0
   }
  }
 },
 "nbformat": 4,
 "nbformat_minor": 4
}

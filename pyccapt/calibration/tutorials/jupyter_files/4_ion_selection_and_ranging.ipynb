{
 "cells": [
  {
   "cell_type": "markdown",
   "metadata": {},
   "source": [
    "<div style=\"margin: 0 auto; padding: 20px; font-family: 'Helvetica', sans-serif; font-size: 16px;\">\n",
    "\n",
    "## Ion Selection and Rangging\n",
    "\n",
    "This tutorial outlines a comprehensive workflow for ion selection and organization. Users can choose ions using peak and element finders, manually add ions, customize ion colors, and create histograms. Histograms can be generated for selected ranges and areas, and figures can be saved. Additionally, users have the option to save both figures and data in CSV and HDF5 formats.\n",
    "\n",
    "</div>"
   ]
  },
  {
   "cell_type": "code",
   "execution_count": null,
   "metadata": {
    "collapsed": false,
    "jupyter": {
     "outputs_hidden": false
    },
    "tags": []
   },
   "outputs": [],
   "source": [
    "# Activate intractive functionality of matplotlib\n",
    "%matplotlib ipympl\n",
    "# Activate auto reload\n",
    "%load_ext autoreload\n",
    "%autoreload 2\n",
    "%reload_ext autoreload\n",
    "# import libraries\n",
    "import os\n",
    "import pandas as pd\n",
    "from ipywidgets import fixed, interact_manual, widgets\n",
    "from ipywidgets import HBox, VBox\n",
    "from ipywidgets import Output\n",
    "from IPython.display import clear_output\n",
    "import matplotlib.colors as mcolors\n",
    "import warnings\n",
    "# Ignore all warnings\n",
    "warnings.filterwarnings(\"ignore\")\n",
    "\n",
    "# Local module and scripts\n",
    "from pyccapt.calibration.calibration_tools import share_variables, ion_selection\n",
    "from pyccapt.calibration.calibration_tools import widgets as wd\n",
    "from pyccapt.calibration.data_tools import data_tools, dataset_path_qt\n",
    "from pyccapt.calibration.calibration_tools import mc_plot"
   ]
  },
  {
   "cell_type": "markdown",
   "metadata": {},
   "source": [
    "<div style=\"margin: 0 auto; padding: 20px; font-family: 'Helvetica', sans-serif; font-size: 16px;\">\n",
    "\n",
    "By clicking on the button below, you can select the dataset file you want to use. The dataset file can be in various formats, including HDF5, EPOS, POS, ATO, and CSV.\n",
    "</div>"
   ]
  },
  {
   "cell_type": "code",
   "execution_count": null,
   "metadata": {
    "tags": []
   },
   "outputs": [],
   "source": [
    "button = widgets.Button(\n",
    "    description='load dataset',\n",
    ")\n",
    "@button.on_click\n",
    "def open_file_on_click(b):\n",
    "    \"\"\"\n",
    "    Event handler for button click event.\n",
    "    Prompts the user to select a dataset file and stores the selected file path in the global variable dataset_path.\n",
    "    \"\"\"\n",
    "    global dataset_path\n",
    "    dataset_path = dataset_path_qt.gui_fname().decode('ASCII')\n",
    "button"
   ]
  },
  {
   "cell_type": "markdown",
   "metadata": {},
   "source": [
    "<div style=\"margin: 0 auto; padding: 20px; font-family: 'Helvetica', sans-serif; font-size: 16px;\">\n",
    "In case of recieving the error about pytable library, you have to install the pytables library with conda command. to do that you can open a new cell and copy the line below in it. Then just run it like other cells. The pytables library will be innstalled.\n",
    "    \n",
    "`!conda install --yes --prefix {sys.prefix} pytables`\n",
    "</div>\n"
   ]
  },
  {
   "cell_type": "markdown",
   "metadata": {},
   "source": [
    "<div style=\"margin: 0 auto; padding: 20px; font-family: 'Helvetica', sans-serif; font-size: 16px;\">\n",
    "From the dropdown lists below, you can select the instrument specifications of the dataset. The TDC model and flight path distance are required for the reconstruction.\n",
    "</div>\n"
   ]
  },
  {
   "cell_type": "code",
   "execution_count": null,
   "metadata": {
    "tags": []
   },
   "outputs": [],
   "source": [
    "tdc, pulse_mode, flightPathLength_d, t0_d, max_mc, det_diam = wd.dataset_instrument_specification_selection()\n",
    "display(tdc, flightPathLength_d)"
   ]
  },
  {
   "cell_type": "markdown",
   "metadata": {
    "pycharm": {
     "name": "#%% md\n"
    }
   },
   "source": [
    "$$\\textbf{You can specify which dataset to use in below block}$$"
   ]
  },
  {
   "cell_type": "code",
   "execution_count": null,
   "metadata": {
    "tags": []
   },
   "outputs": [],
   "source": [
    "# exctract needed data from Pandas data frame as an numpy array\n",
    "# create an instance of the Variables opject\n",
    "variables = share_variables.Variables()\n",
    "dataset_main_path = os.path.dirname(dataset_path)\n",
    "dataset_name_with_extention = os.path.basename(dataset_path)\n",
    "dataset_main_path = os.path.dirname(dataset_main_path)\n",
    "variables.dataset_name = os.path.splitext(dataset_name_with_extention)[0]\n",
    "variables.result_data_path = dataset_main_path + '/ions_selection/'\n",
    "variables.result_data_name = 'range_' + variables.dataset_name\n",
    "variables.result_path = dataset_main_path + '/' + '/ions_selection/'\n",
    "\n",
    "if not os.path.isdir(variables.result_path):\n",
    "    os.makedirs(variables.result_path, mode=0o777, exist_ok=True)\n",
    "    \n",
    "# Create data farame out of hdf5 file dataset\n",
    "data = data_tools.load_data(dataset_path, tdc.value, mode='processed')\n",
    "# extract data from the path and create the Variable object\n",
    "data_tools.extract_data(data, variables, flightPathLength_d.value, max_mc.value)"
   ]
  },
  {
   "cell_type": "code",
   "execution_count": null,
   "metadata": {
    "pycharm": {
     "name": "#%%\n"
    },
    "tags": []
   },
   "outputs": [],
   "source": [
    "print('The data will be saved on the path:', variables.result_data_path)\n",
    "print('=============================')\n",
    "print('The dataset name after saving is:', variables.result_data_name)\n",
    "print('=============================')\n",
    "print('The figures will be saved on the path:', variables.result_path)\n",
    "print('=============================')\n",
    "print('Total number of Ions:', len(data))\n",
    "data"
   ]
  },
  {
   "cell_type": "markdown",
   "metadata": {},
   "source": [
    "<div style=\"margin: 0 auto; padding: 20px; font-family: 'Helvetica', sans-serif; font-size: 16px;\">\n",
    "\n",
    "The calibrated mass-to-charge ratio that is calculated with previous workflow will be shown below. You can select the range of the data you want to plot. There is also possibility to activate the peak finding tool to show the peak values.\n",
    "</div>"
   ]
  },
  {
   "cell_type": "code",
   "execution_count": null,
   "metadata": {
    "pycharm": {
     "name": "#%%\n"
    },
    "tags": []
   },
   "outputs": [],
   "source": [
    "interact_manual(\n",
    "        mc_plot.hist_plot,\n",
    "        variables=fixed(variables),\n",
    "        bin_size=widgets.FloatText(value=0.1),\n",
    "        log=widgets.Dropdown(options=[('True', True), ('False', False)]),\n",
    "        target=widgets.Dropdown(options=[('mc_c', 'mc_c'), ('tof_c', 'tof_c'), ('mc', 'mc'), ('tof', 'tof')]),\n",
    "        mode=widgets.Dropdown(options=[('normal', 'normal'), ('normalized', 'normalized')]),\n",
    "        prominence=widgets.IntText(value=100),\n",
    "        distance=widgets.IntText(value=100),\n",
    "        percent=widgets.IntText(value=50),\n",
    "        selector=fixed('None'),\n",
    "        figname=widgets.Text(value='hist'),\n",
    "        lim=widgets.IntText(value=variables.max_mc),\n",
    "        peaks_find_plot=widgets.Dropdown(options=[('True', True), ('False', False)]),\n",
    "        peaks_find=fixed(True),\n",
    "        range_plot=fixed(False),\n",
    "        plot_ranged_ions=fixed(False),\n",
    "        ranging_mode=fixed(False),\n",
    "        selected_area_specially=fixed(False),\n",
    "        selected_area_temporally=fixed(False),\n",
    "        save_fig=widgets.Dropdown(options=[('True', True), ('False', False)]),\n",
    "        print_info=fixed(True),\n",
    "        figure_size=fixed((9, 5)));"
   ]
  },
  {
   "cell_type": "code",
   "execution_count": null,
   "metadata": {
    "tags": []
   },
   "outputs": [],
   "source": [
    "bin_size=widgets.FloatText(value=0.1, description='bin size:')\n",
    "prominence=widgets.IntText(value=50, description='peak prominance:')\n",
    "distance=widgets.IntText(value=1, description='peak distance:')\n",
    "lim_tof=widgets.IntText(value=400, description='lim tof/mc:')\n",
    "percent=widgets.IntText(value=50, description='percent MRP:')\n",
    "index_fig = widgets.IntText(value=1, description='fig index:')\n",
    "plot_peak = widgets.Dropdown(\n",
    "    options=[('True', True), ('False', False)],\n",
    "    description='plot peak:'\n",
    ")\n",
    "\n",
    "def hist_plot_p(variables):\n",
    "    \n",
    "    with out:\n",
    "        clear_output(True)\n",
    "        # clear the peak_idx\n",
    "        variables.peaks_idx = []\n",
    "        mc_plot.hist_plot(variables, bin_size.value, log=True, target='mc_c', mode='normal', prominence=prominence.value, distance=distance.value, percent=percent.value,\n",
    "                          selector='peak', figname=index_fig.value, lim=lim_tof.value, peaks_find_plot=plot_peak.value, print_info=False)\n",
    "\n",
    "def hist_plot_r(variables):\n",
    "    \n",
    "    with out:\n",
    "        clear_output(True)\n",
    "        print('=============================')\n",
    "        print('Press left click to draw a line')\n",
    "        print('Press right click to remove a line')\n",
    "        print('Press r to remove all the line')\n",
    "        print('Hold shift and use mouse scroll for zooming on x axis')\n",
    "        print('Hold ctrl and left mouse bottom to move a line')\n",
    "        print('=============================')\n",
    "        mc_plot.hist_plot(variables, bin_size.value, log=True, target='mc_c', mode='normal', prominence=prominence.value, distance=distance.value, percent=percent.value,\n",
    "                          selector='range', figname=index_fig.value, lim=lim_tof.value, peaks_find_plot=True, ranging_mode=True, save_fig=False, print_info=False)\n"
   ]
  },
  {
   "cell_type": "code",
   "execution_count": null,
   "metadata": {
    "tags": []
   },
   "outputs": [],
   "source": [
    "# element calculate\n",
    "peak_val = widgets.FloatText(value=1.1, description='peak value:')\n",
    "\n",
    "mass_difference = widgets.FloatText(value=2, description='mass range:')\n",
    "charge = widgets.Dropdown(\n",
    "    options=[('1', 1), ('2', 2), ('3', 3), ('4', 4),('5', 5), ('6', 6)],\n",
    "    value=3,\n",
    "    description='charge:'\n",
    ")\n",
    "aboundance_threshold = widgets.FloatText(value=0.0, description='threshold aboundance:', min=0, max=1, step=0.1)\n",
    "num_element = widgets.IntText(value=5, description='num element:')\n",
    "# formula calculate\n",
    "formula_m = widgets.Text(\n",
    "    value='{12}C1{16}O2',\n",
    "    placeholder='Type a formula  {12}C1{16}O2',\n",
    "    description='Isotope formula:',\n",
    "    disabled=False\n",
    ")\n",
    "\n",
    "molecule_charge = widgets.Dropdown(\n",
    "    options=[('1', 1), ('2', 2), ('3', 3), ('4', 4),('5', 5), ('6', 6)],\n",
    "    value=3,\n",
    "    description='charge:'\n",
    ")\n",
    "\n",
    "# molecule create\n",
    "formula_com = widgets.Text(\n",
    "    value='',\n",
    "    placeholder=\"H, O\",\n",
    "    description='Elements:',\n",
    "    disabled=False\n",
    ")\n",
    "complexity = widgets.Dropdown(\n",
    "    options=[('1', 1), ('2', 2), ('3', 3), ('4', 4),('5', 5), ('6', 6)],\n",
    "    value=3,\n",
    "    description='complexity:'\n",
    ")\n",
    "\n",
    "charge_com = widgets.Dropdown(\n",
    "    options=[('1', 1), ('2', 2), ('3', 3), ('4', 4),('5', 5), ('6', 6)],\n",
    "    value=3,\n",
    "    description='charge:'\n",
    ")"
   ]
  },
  {
   "cell_type": "code",
   "execution_count": null,
   "metadata": {
    "tags": []
   },
   "outputs": [],
   "source": [
    "plot_button_p = widgets.Button(\n",
    "    description='plot hist',\n",
    ")\n",
    "\n",
    "plot_button_r = widgets.Button(\n",
    "    description='plot hist',\n",
    ")\n",
    "\n",
    "plot_button = widgets.Button(\n",
    "    description='plot hist',\n",
    ")\n",
    "\n",
    "\n",
    "find_elem_button = widgets.Button(\n",
    "    description='find element',\n",
    ")\n",
    "\n",
    "plot_element = widgets.Button(\n",
    "    description='plot element',\n",
    ")\n",
    "\n",
    "formula_button = widgets.Button(\n",
    "    description='manual formula',\n",
    ")\n",
    "\n",
    "add_ion_button = widgets.Button(\n",
    "    description='add ion',\n",
    ")\n",
    "romove_ion_button = widgets.Button(\n",
    "    description='remove ion',\n",
    ")\n",
    "show_color = widgets.Button(\n",
    "    description='show color',\n",
    ")\n",
    "change_color = widgets.Button(\n",
    "    description='change color',\n",
    ")\n",
    "\n",
    "color_picker = widgets.ColorPicker(description='Select a color:')\n",
    "row_index = widgets.IntText(value=0, description='index row:')\n",
    "@plot_button_p.on_click\n",
    "def plot_on_click_p(b, plot=True):\n",
    "    hist_plot_p(variables)\n",
    "    \n",
    "@plot_button_r.on_click\n",
    "def plot_on_click_r(b, plot=True):\n",
    "    hist_plot_r(variables)\n",
    "    \n",
    "@plot_element.on_click  \n",
    "def plot_finded_elemnt(b,):\n",
    "    variables.AptHistPlotter.plot_founded_range_loc(variables.ions_list_data, remove_lines=False)\n",
    "@find_elem_button.on_click\n",
    "def vol_on_click(b,):\n",
    "    with output2:\n",
    "        clear_output(True)\n",
    "        df1 = ion_selection.load_elements(formula_com.value, aboundance_threshold.value, charge.value, variables=variables)\n",
    "        df2 = ion_selection.molecule_create(formula_com.value, complexity.value, charge.value, aboundance_threshold.value, variables)\n",
    "        df3 = ion_selection.find_closest_elements(peak_val.value, num_element.value, aboundance_threshold.value, charge.value, variables=variables)\n",
    "        df = pd.concat([df1, df2, df3], axis=0)\n",
    "        df = df[(df['abundance'] >= aboundance_threshold.value)]\n",
    "        df = df[abs(df['mass'] - peak_val.value) <= mass_difference.value]\n",
    "        df = df.iloc[(df['mass'] - peak_val.value).abs().argsort()]\n",
    "        # Reset the index to maintain a clean index order\n",
    "        df.reset_index(drop=True, inplace=True)\n",
    "        df = df[:num_element.value]\n",
    "        variables.range_data_backup = df.copy()\n",
    "        variables.ions_list_data = df.copy()\n",
    "        display(df)\n",
    "    \n",
    "@formula_button.on_click\n",
    "def manual_formula(b,):\n",
    "    with output2:\n",
    "        if formula_m.value == '':\n",
    "            print(\"Input is empty. Type the formula.\")\n",
    "        else:\n",
    "            df = ion_selection.molecule_manual(formula_m.value, molecule_charge.value, latex=True, variables=variables)\n",
    "            clear_output(True)\n",
    "            display(df)\n",
    "\n",
    "@add_ion_button.on_click\n",
    "def add_ion_to_range_dataset(b,):\n",
    "    ion_selection.ranging_dataset_create(variables, row_index.value, peak_val.value)\n",
    "    with output3:\n",
    "        clear_output(True)\n",
    "        display(variables.range_data)\n",
    "@romove_ion_button.on_click\n",
    "def remove_ion_to_range_dataset(b,):\n",
    "    if len(variables.range_data) >= 1:\n",
    "        variables.range_data = variables.range_data.drop(len(variables.range_data) - 1)\n",
    "        with output3:\n",
    "            clear_output(True)\n",
    "            display(variables.range_data)\n",
    "        \n",
    "@show_color.on_click\n",
    "def show_color_ions(b,):\n",
    "    with output3:\n",
    "        clear_output(True)\n",
    "        display(variables.range_data.style.applymap(ion_selection.display_color, subset=['color']))\n",
    "@change_color.on_click\n",
    "def change_color_m(b,):\n",
    "    with output3:\n",
    "        selected_color = mcolors.to_hex(color_picker.value)\n",
    "        variables.range_data.at[row_index.value, 'color'] = selected_color\n",
    "        clear_output(True)\n",
    "        display(variables.range_data.style.applymap(ion_selection.display_color, subset=['color']))\n",
    "\n",
    "        # Create \"Next\" and \"Previous\" buttons\n",
    "start_button = widgets.Button(description=\"start\")\n",
    "next_button = widgets.Button(description=\"next\")\n",
    "prev_button = widgets.Button(description=\"previous\")\n",
    "reset_zoom_button = widgets.Button(description=\"reset zoom\")\n",
    "all_peaks_button = widgets.Button(description=\"add all peaks\")\n",
    "\n",
    "\n",
    "# Define button click events\n",
    "@start_button.on_click\n",
    "def start_peak(_):\n",
    "    variables.h_line_pos = []\n",
    "    print('=============================')\n",
    "    print('Press left click to draw a line')\n",
    "    print('Press right click to remove a line')\n",
    "    print('Press r to remove all the line')\n",
    "    print('Press a to automatically draw lines')\n",
    "    print('Hold shift and use mouse scroll for zooming on x axis')\n",
    "    print('Hold ctrl and left mouse bottom to move a line')\n",
    "    print('=============================')\n",
    "    variables.peaks_index = 0\n",
    "    peak_val.value = variables.peaks_x_selected[variables.peaks_index]\n",
    "    print('peak idc:', variables.peaks_index, 'Peak location:', peak_val.value )\n",
    "    variables.AptHistPlotter.zoom_to_x_range(x_min=peak_val.value - 5, x_max=peak_val.value + 5, reset=False)\n",
    "@next_button.on_click\n",
    "def next_peak(_):\n",
    "    variables.peaks_index += 1\n",
    "    peak_val.value = variables.peaks_x_selected[variables.peaks_index]\n",
    "    print('peak idc:', variables.peaks_index, 'Peak location:', peak_val.value)\n",
    "    variables.AptHistPlotter.zoom_to_x_range(x_min=peak_val.value - 5, x_max=peak_val.value + 5, reset=False)\n",
    "@prev_button.on_click\n",
    "def prev_peak(_):\n",
    "    variables.peaks_index -= 1\n",
    "    peak_val.value = variables.peaks_x_selected[variables.peaks_index]\n",
    "    print('peak idc:', variables.peaks_index, 'Peak location:', peak_val.value )\n",
    "    variables.AptHistPlotter.zoom_to_x_range(x_min=peak_val.value - 5, x_max=peak_val.value + 5, reset=False)\n",
    "\n",
    "@reset_zoom_button.on_click\n",
    "def rest_h_line(_):\n",
    "    variables.AptHistPlotter.zoom_to_x_range(x_min=0, x_max=0, reset=True)\n",
    "@all_peaks_button.on_click\n",
    "def select_all_peaks(_):\n",
    "    variables.peaks_idx = variables.peak_x\n",
    "    \n",
    "tab1 = VBox(children=[bin_size, index_fig, prominence, distance, lim_tof, percent, plot_peak, HBox(children=[plot_button_p, all_peaks_button])])\n",
    "tab2 = VBox(children=[bin_size, index_fig, prominence, distance, lim_tof, percent, HBox(children=[VBox(children=[plot_button_r, start_button, next_button, prev_button, reset_zoom_button])])])\n",
    "tab4 = VBox(children=[HBox(children=[VBox(children=[peak_val, charge, aboundance_threshold, mass_difference, num_element, formula_com, complexity, find_elem_button, plot_element]),\n",
    "                                    VBox(children=[row_index, color_picker, add_ion_button, romove_ion_button, show_color, change_color]), \n",
    "                                    VBox(children=[formula_m, molecule_charge, formula_button])])])\n",
    "\n",
    "tabs1 = widgets.Tab(children=[tab1, tab2])\n",
    "tabs2 = widgets.Tab(children=[tab4])\n",
    "tabs1.set_title(0, 'peak finder')\n",
    "tabs1.set_title(1, 'ranging')\n",
    "tabs2.set_title(0, 'element finder')\n",
    "# Create two Output widgets to capture the output of each plot\n",
    "out = Output()\n",
    "output2 = Output()\n",
    "output3 = Output()\n",
    "\n",
    "# Create an HBox to display the buttons side by side\n",
    "buttons_layout = widgets.HBox([tabs1, tabs2])\n",
    "\n",
    "# Create a VBox to display the output widgets below the buttons\n",
    "output_layout_h = widgets.HBox([out, output3])\n",
    "output_layout = widgets.VBox([output_layout_h, output2])"
   ]
  },
  {
   "cell_type": "markdown",
   "metadata": {},
   "source": [
    "<div style=\"margin: 0 auto; padding: 20px; font-family: 'Helvetica', sans-serif; font-size: 16px;\">\n",
    "\n",
    "To do the ranging first we wave to find and select the peaks by using the peak finder tab. Then in the ranging tab we can zoom the selected peak and specify the range by drawing two vertical line around the peak. For each peak by pressing the element find bottom we see the possible ions and moleculse that have same mass. It is possible to plot these ions and molecules by pressing the plot element bottom. After finding the element we can add the ions and related range by setting the index of it from the dropdown ad pressing the add bottom. We have to repast this steps for all selected peaks.\n",
    "\n",
    "</div>"
   ]
  },
  {
   "cell_type": "code",
   "execution_count": null,
   "metadata": {
    "collapsed": false,
    "jupyter": {
     "outputs_hidden": false
    },
    "tags": []
   },
   "outputs": [],
   "source": [
    "# Display the buttons and the output widgets\n",
    "display(buttons_layout, output_layout)\n",
    "\n",
    "with output3:\n",
    "    display(variables.range_data)"
   ]
  },
  {
   "cell_type": "markdown",
   "metadata": {},
   "source": [
    "<div style=\"margin: 0 auto; padding: 20px; font-family: 'Helvetica', sans-serif; font-size: 16px;\">\n",
    "\n",
    "Here base on the rangged dataset we can plot the mass spectrum and see the selected ranges.\n",
    "\n",
    "</div>"
   ]
  },
  {
   "cell_type": "code",
   "execution_count": null,
   "metadata": {
    "tags": []
   },
   "outputs": [],
   "source": [
    "interact_manual(\n",
    "        mc_plot.hist_plot,\n",
    "        variables=fixed(variables),\n",
    "        bin_size=widgets.FloatText(value=0.1),\n",
    "        log=widgets.Dropdown(options=[('True', True), ('False', False)]),\n",
    "        target=widgets.Dropdown(options=[('mc_c', 'mc_c')]),\n",
    "        mode=widgets.Dropdown(options=[('normal', 'normal'), ('normalized', 'normalized')]),\n",
    "        prominence=widgets.IntText(value=100),\n",
    "        distance=widgets.IntText(value=100),\n",
    "        percent=widgets.IntText(value=50),\n",
    "        selector=fixed('None'),\n",
    "        figname=widgets.Text(value='hist'),\n",
    "        lim=widgets.IntText(value=variables.max_mc),\n",
    "        peaks_find_plot=widgets.Dropdown(options=[('True', True), ('False', False)]),\n",
    "        peaks_find=fixed(True),\n",
    "        range_plot=fixed(True),\n",
    "        plot_ranged_ions=fixed(False),\n",
    "        ranging_mode=fixed(False),\n",
    "        selected_area_specially=fixed(False),\n",
    "        selected_area_temporally=fixed(False),\n",
    "        save_fig=widgets.Dropdown(options=[('True', True), ('False', False)]),\n",
    "        print_info=fixed(True),\n",
    "        figure_size=fixed((9, 5)));"
   ]
  },
  {
   "cell_type": "code",
   "execution_count": null,
   "metadata": {
    "tags": []
   },
   "outputs": [],
   "source": [
    "display(variables.range_data.style.applymap(ion_selection.display_color, subset=['color']))"
   ]
  },
  {
   "cell_type": "code",
   "execution_count": null,
   "metadata": {
    "tags": []
   },
   "outputs": [],
   "source": [
    "variables.range_data.dtypes"
   ]
  },
  {
   "cell_type": "markdown",
   "metadata": {},
   "source": [
    "<div style=\"margin: 0 auto; padding: 20px; font-family: 'Helvetica', sans-serif; font-size: 16px;\">\n",
    "\n",
    "Finaly we save the range in the hdf5 and csv format.\n",
    "\n",
    "</div>"
   ]
  },
  {
   "cell_type": "code",
   "execution_count": null,
   "metadata": {
    "pycharm": {
     "name": "#%%\n"
    },
    "tags": []
   },
   "outputs": [],
   "source": [
    "# save the new data\n",
    "name_save_file = variables.result_data_path + '/' + variables.result_data_name + '.h5'\n",
    "data_tools.store_df_to_hdf(variables.range_data,  'df', name_save_file)"
   ]
  },
  {
   "cell_type": "code",
   "execution_count": null,
   "metadata": {
    "tags": []
   },
   "outputs": [],
   "source": [
    "# save data in csv format\n",
    "name_save_file = variables.result_data_path + '/' + variables.result_data_name + '.csv'\n",
    "data_tools.store_df_to_csv(variables.range_data, name_save_file)"
   ]
  }
 ],
 "metadata": {
  "kernelspec": {
   "display_name": "Python 3 (ipykernel)",
   "language": "python",
   "name": "python3"
  },
  "language_info": {
   "codemirror_mode": {
    "name": "ipython",
    "version": 3
   },
   "file_extension": ".py",
   "mimetype": "text/x-python",
   "name": "python",
   "nbconvert_exporter": "python",
   "pygments_lexer": "ipython3",
   "version": "3.8.16"
  },
  "widgets": {
   "application/vnd.jupyter.widget-state+json": {
    "state": {},
    "version_major": 2,
    "version_minor": 0
   }
  }
 },
 "nbformat": 4,
 "nbformat_minor": 4
}

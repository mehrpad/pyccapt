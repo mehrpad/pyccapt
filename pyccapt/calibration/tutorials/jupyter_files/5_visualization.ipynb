{
 "cells": [
  {
   "cell_type": "markdown",
   "metadata": {},
   "source": [
    "<div style=\"margin: 0 auto; padding: 20px; font-family: 'Helvetica', sans-serif; font-size: 16px;\">\n",
    "    \n",
    "# Visualization\n",
    "    \n",
    "</div>"
   ]
  },
  {
   "cell_type": "code",
   "execution_count": null,
   "metadata": {
    "tags": []
   },
   "outputs": [],
   "source": [
    "# Activate intractive functionality of matplotlib\n",
    "%matplotlib ipympl\n",
    "# Activate auto reload \n",
    "%load_ext autoreload\n",
    "%autoreload 2\n",
    "%reload_ext autoreload\n",
    "# import libraries\n",
    "import os\n",
    "import pandas as pd\n",
    "from ipywidgets import fixed, interact_manual, widgets\n",
    "from ipywidgets import VBox\n",
    "from IPython.display import clear_output\n",
    "from IPython.display import display\n",
    "from ipywidgets import Output\n",
    "import matplotlib.colors as mcolors\n",
    "import warnings\n",
    "# Ignore all warnings\n",
    "warnings.filterwarnings(\"ignore\")\n",
    "\n",
    "# Local module and scripts\n",
    "from pyccapt.calibration.calibration_tools import share_variables, ion_selection\n",
    "from pyccapt.calibration.calibration_tools import widgets as wd\n",
    "from pyccapt.calibration.data_tools import data_tools, dataset_path_qt\n",
    "from pyccapt.calibration.reconstructions import reconstruction\n",
    "from pyccapt.calibration.calibration_tools import mc_plot"
   ]
  },
  {
   "cell_type": "markdown",
   "metadata": {},
   "source": [
    "<div style=\"margin: 0 auto; padding: 20px; font-family: 'Helvetica', sans-serif; font-size: 16px;\">\n",
    "\n",
    "By clicking on the button below, you can select the dataset file you want to use. The dataset file can be in various formats, including HDF5, EPOS, POS, ATO, and CSV.\n",
    "</div>"
   ]
  },
  {
   "cell_type": "code",
   "execution_count": null,
   "metadata": {
    "tags": []
   },
   "outputs": [],
   "source": [
    "button = widgets.Button(\n",
    "    description='load dataset',\n",
    ")\n",
    "@button.on_click\n",
    "def open_file_on_click(b):\n",
    "    \"\"\"\n",
    "    Event handler for button click event.\n",
    "    Prompts the user to select a dataset file and stores the selected file path in the global variable dataset_path.\n",
    "    \"\"\"\n",
    "    global dataset_path\n",
    "    dataset_path = dataset_path_qt.gui_fname().decode('ASCII')\n",
    "button"
   ]
  },
  {
   "cell_type": "markdown",
   "metadata": {
    "jupyter": {
     "outputs_hidden": false
    }
   },
   "source": [
    "<div style=\"margin: 0 auto; padding: 20px; font-family: 'Helvetica', sans-serif; font-size: 16px;\">\n",
    "If you ranged the dataset, you can select the range file by clicking on the button below. The range file can be created with \"ion selection and ranging\" workflow. If you do not have a range file, you can skip this step.\n",
    "</div>"
   ]
  },
  {
   "cell_type": "code",
   "execution_count": null,
   "metadata": {
    "tags": []
   },
   "outputs": [],
   "source": [
    "button_r = widgets.Button(\n",
    "    description='load range dataset',\n",
    ")\n",
    "@button_r.on_click\n",
    "def open_file_on_click_r(b):\n",
    "    \"\"\"\n",
    "    Event handler for button click event.\n",
    "    Prompts the user to select a range file and stores the selected file path in the global variable range_path.\n",
    "    \"\"\"\n",
    "    global range_path\n",
    "    range_path = dataset_path_qt.gui_fname().decode('ASCII')\n",
    "button_r"
   ]
  },
  {
   "cell_type": "markdown",
   "metadata": {
    "tags": []
   },
   "source": [
    "<div style=\"margin: 0 auto; padding: 20px; font-family: 'Helvetica', sans-serif; font-size: 16px;\">\n",
    "From the dropdown lists below, you can select the instrument specifications of the dataset. The TDC model and flight path distance are required for the reconstruction.\n",
    "</div>\n"
   ]
  },
  {
   "cell_type": "code",
   "execution_count": null,
   "metadata": {
    "tags": []
   },
   "outputs": [],
   "source": [
    "tdc, pulse_mode, flightPathLength, t0_d, max_mc, det_diam = wd.dataset_instrument_specification_selection()\n",
    "display(tdc, flightPathLength)"
   ]
  },
  {
   "cell_type": "code",
   "execution_count": null,
   "metadata": {
    "tags": []
   },
   "outputs": [],
   "source": [
    "# exctract needed data from Pandas data frame as an numpy array\n",
    "# create an instance of the Variables opject\n",
    "variables = share_variables.Variables()\n",
    "variables.pulse_mode = pulse_mode\n",
    "dataset_main_path = os.path.dirname(dataset_path)\n",
    "dataset_main_path = os.path.dirname(dataset_main_path)\n",
    "dataset_name_with_extension = os.path.basename(dataset_path)\n",
    "variables.dataset_name = os.path.splitext(dataset_name_with_extension)[0]\n",
    "variables.result_data_path = dataset_main_path \n",
    "variables.result_data_name = variables.dataset_name\n",
    "variables.result_path = dataset_main_path + '/visualization/'\n",
    "\n",
    "if not os.path.isdir(variables.result_path):\n",
    "    os.makedirs(variables.result_path, mode=0o777, exist_ok=True)\n",
    "    \n",
    "# Create data farame out of hdf5 file dataset\n",
    "data = data_tools.load_data(dataset_path, tdc.value, mode='processed')\n",
    "# extract data from the path and create the Variable object\n",
    "data_tools.extract_data(data, variables, flightPathLength.value, max_mc.value)"
   ]
  },
  {
   "cell_type": "code",
   "execution_count": null,
   "metadata": {
    "tags": []
   },
   "outputs": [],
   "source": [
    "data"
   ]
  },
  {
   "cell_type": "code",
   "execution_count": null,
   "metadata": {
    "tags": []
   },
   "outputs": [],
   "source": [
    "if 'range_path' in locals():\n",
    "    variables.range_data = data_tools.read_hdf5_through_pandas(range_path)\n",
    "\n",
    "else:\n",
    "    variables.range_data = pd.DataFrame({\"ion\": ['unranged'], \"mass\": [0], \"mc\": [0], \"mc_low\": 0,\n",
    "                                        \"mc_up\": 400, \"color\": '#000000', \"element\": ['unranged'],\n",
    "                                        \"complex\": [0], \"isotope\": [0], \"charge\": [0]})\n",
    "\n",
    "if variables.range_data.empty:\n",
    "    element_percentage = str([0.01])\n",
    "else:\n",
    "    element_percentage = [0.01] * len(variables.range_data['element'].tolist())\n",
    "    element_percentage = str(element_percentage)\n",
    "    \n",
    "display(variables.range_data.style.applymap(ion_selection.display_color, subset=['color']))\n"
   ]
  },
  {
   "cell_type": "code",
   "execution_count": null,
   "metadata": {
    "tags": []
   },
   "outputs": [],
   "source": [
    "change_color = widgets.Button(\n",
    "    description='change color',\n",
    ")\n",
    "color_picker = widgets.ColorPicker(description='Select a color:')\n",
    "row_index = widgets.IntText(value=0, description='index row:')\n",
    "@change_color.on_click\n",
    "def change_color_m(b,):\n",
    "    with out:\n",
    "        selected_color = mcolors.to_hex(color_picker.value)\n",
    "        variables.range_data.at[row_index.value, 'color'] = selected_color\n",
    "        clear_output(True)\n",
    "        display(variables.range_data.style.applymap(ion_selection.display_color, subset=['color']))\n",
    "        \n",
    "# Create a container for the widgets\n",
    "container = widgets.VBox([color_picker, row_index, change_color])\n",
    "out = Output()\n",
    "# Display the widgets\n",
    "display(container, out)"
   ]
  },
  {
   "cell_type": "code",
   "execution_count": null,
   "metadata": {
    "tags": []
   },
   "outputs": [],
   "source": [
    "plot_3d_button = widgets.Button(\n",
    "    description='plot 3D',\n",
    ")\n",
    "plot_heatmap_button = widgets.Button(\n",
    "    description='plot heatmap',\n",
    ")\n",
    "plot_mc_button = widgets.Button(\n",
    "    description='plot mc',\n",
    ")\n",
    "plot_projection_button = widgets.Button(\n",
    "    description='plot projection',\n",
    ")\n",
    "\n",
    "clear_button = widgets.Button(\n",
    "    description='Clear plots',\n",
    ")\n",
    "\n",
    "figname_3d=widgets.Text(value='3d_plot', description='fig name')\n",
    "selected_area_p3=widgets.Dropdown(options=[('False', False), ('True', True)], description='Selected area')\n",
    "rotary_fig_save_p3=widgets.Dropdown(options=[('True', True), ('False', False)], description='Rotary save')\n",
    "element_percentage_p3=widgets.Textarea(value=element_percentage, description='Element percentage')\n",
    "@plot_3d_button.on_click\n",
    "def plot_3d(b):\n",
    "    with out:\n",
    "        if selected_area_p3.value:\n",
    "            variables.selected_z1 = variables.selected_y1\n",
    "            variables.selected_z2 = variables.selected_y2\n",
    "            variables.selected_y1 = variables.selected_x1\n",
    "            variables.selected_y2 = variables.selected_x2\n",
    "            print('Min x (nm):', variables.selected_x1, 'Max x (nm):', variables.selected_x2)\n",
    "            print('Min y (nm):', variables.selected_y1, 'Max y (nm):', variables.selected_y2)\n",
    "            print('Min z (nm):', variables.selected_z1, 'Max z (nm):', variables.selected_z2)\n",
    "        opacity = 1\n",
    "        reconstruction.reconstruction_plot(variables, element_percentage_p3.value, opacity, rotary_fig_save_p3.value,  figname_3d.value, save=True,\n",
    "                                           selected_area_specially=selected_area_p3.value, selected_area_temporally=selected_area_p3.value, ions_individually_plots=False)\n",
    "\n",
    "selected_area_ph=widgets.Dropdown(options=[('False', False), ('True', True)], description='Selected area')\n",
    "element_percentage_ph=widgets.Textarea(value=element_percentage, description='Element percentage')\n",
    "figname_heatmap=widgets.Text(value='heatmap', description='fig name')\n",
    "@plot_heatmap_button.on_click\n",
    "def plot_heatmap(b, variables=variables):\n",
    "    with out:\n",
    "        if selected_area_ph.value:\n",
    "            variables.selected_z1 = variables.selected_y1\n",
    "            variables.selected_z2 = variables.selected_y2\n",
    "            variables.selected_y1 = variables.selected_x1\n",
    "            variables.selected_y2 = variables.selected_x2\n",
    "            print('Min x (nm):', variables.selected_x1, 'Max x (nm):', variables.selected_x2)\n",
    "            print('Min y (nm):', variables.selected_y1, 'Max y (nm):', variables.selected_y2)\n",
    "            print('Min z (nm):', variables.selected_z1, 'Max z (nm):', variables.selected_z2)\n",
    "\n",
    "        reconstruction.heatmap(variables, selected_area_ph.value, selected_area_ph.value, element_percentage_ph.value, figure_name='heat_map', figure_sie=(5,5), save=True)\n",
    "\n",
    "selected_area_pm=widgets.Dropdown(options=[('False', False), ('True', True)], description='Selected area')\n",
    "peak_find_plot=widgets.Dropdown(options=[('True', True), ('False', False)], description='peak find')\n",
    "rangging=widgets.Dropdown(options=[('False', False), ('True', True)], description='rangging')\n",
    "range_file_exist_pm=widgets.Dropdown(options=[('True', True), ('False', False)], description='Range exist')\n",
    "bin_size_pm = widgets.FloatText(value=0.1, description='Bins size')\n",
    "lim_mc_pm = widgets.IntText(value=150, description='Limit mc')\n",
    "prominence=widgets.IntText(value=50, description='peak prominance:')\n",
    "distance=widgets.IntText(value=50, description='peak distance:')\n",
    "hist_color_range=widgets.Dropdown(options=[('True', True), ('False', False)], description='hist color')\n",
    "figname_mc=widgets.Text(value='mc', description='fig name')\n",
    "@plot_mc_button.on_click\n",
    "def plot_mc(b,):\n",
    "    with out:\n",
    "        if selected_area_pm.value:\n",
    "            variables.selected_z1 = variables.selected_y1\n",
    "            variables.selected_z2 = variables.selected_y2\n",
    "            variables.selected_y1 = variables.selected_x1\n",
    "            variables.selected_y2 = variables.selected_x2\n",
    "            print('Min x (nm):', variables.selected_x1, 'Max x (nm):', variables.selected_x2)\n",
    "            print('Min y (nm):', variables.selected_y1, 'Max y (nm):', variables.selected_y2)\n",
    "            print('Min z (nm):', variables.selected_z1, 'Max z (nm):', variables.selected_z2)\n",
    "\n",
    "        mc_plot.hist_plot(variables, bin_size_pm.value, log=True, target='mc_c', mode='normal', prominence=prominence.value, distance=distance.value, percent=50, selector='None', figname=figname_mc.value, lim=lim_mc_pm.value,\n",
    "                          peaks_find_plot=peak_find_plot.value, peaks_find=True, range_plot=rangging.value, plot_ranged_ions=False, ranging_mode=False, selected_area_specially=selected_area_pm.value,\n",
    "                          selected_area_temporally=False, save_fig=True, print_info=True, figure_size=(9, 5))\n",
    "element_percentage_pp=widgets.Textarea(value=element_percentage, description='Element percentage')\n",
    "selected_area_pp=widgets.Dropdown(options=[('False', False), ('True', True)], description='Selected area')\n",
    "x_or_y_pp=widgets.Dropdown(options=['x', 'y'], value='x', description='X or Y')\n",
    "figname_p = widgets.Text(value='projection', description='fig name')\n",
    "@plot_projection_button.on_click\n",
    "def plot_projection(b,):\n",
    "    with out:\n",
    "        if selected_area_pp.value:\n",
    "            variables.selected_z1 = variables.selected_y1\n",
    "            variables.selected_z2 = variables.selected_y2\n",
    "            variables.selected_y1 = variables.selected_x1\n",
    "            variables.selected_y2 = variables.selected_x2\n",
    "            print('Min x (nm):', variables.selected_x1, 'Max x (nm):', variables.selected_x2)\n",
    "            print('Min y (nm):', variables.selected_y1, 'Max y (nm):', variables.selected_y2)\n",
    "            print('Min z (nm):', variables.selected_z1, 'Max z (nm):', variables.selected_z2)\n",
    "\n",
    "        reconstruction.projection(variables, element_percentage_pp.value, selected_area_pp.value, selected_area_pp.value, x_or_y_pp.value, figname_p.value,\n",
    "                                 figure_size=(5,5), save=True)\n",
    "\n",
    "@clear_button.on_click\n",
    "def clear(b,):\n",
    "    with out:\n",
    "        clear_output(True)\n",
    "        print('')\n",
    "\n",
    "\n",
    "tab1 = VBox(children=[selected_area_pp, x_or_y_pp, element_percentage_pp, figname_p, plot_projection_button, clear_button])\n",
    "tab2 = VBox(children=[selected_area_p3, rotary_fig_save_p3, element_percentage_p3, figname_3d, plot_3d_button, clear_button])\n",
    "tab3 = VBox(children=[selected_area_pm, bin_size_pm, prominence, distance, lim_mc_pm, peak_find_plot, rangging, figname_mc, plot_mc_button, clear_button])\n",
    "tab4 = VBox(children=[selected_area_ph, element_percentage_ph, figname_heatmap, plot_heatmap_button, clear_button])\n",
    "\n",
    "tab = widgets.Tab(children=[tab1, tab2, tab3, tab4])\n",
    "tab.set_title(0, 'projection')\n",
    "tab.set_title(1, '3d plot')\n",
    "tab.set_title(2, 'mc plot')\n",
    "tab.set_title(3, 'heatmap plot')\n",
    "\n",
    "out = Output()"
   ]
  },
  {
   "cell_type": "code",
   "execution_count": null,
   "metadata": {
    "tags": []
   },
   "outputs": [],
   "source": [
    "display(VBox(children=[tab]))\n",
    "display(out)"
   ]
  },
  {
   "cell_type": "code",
   "execution_count": null,
   "metadata": {
    "tags": []
   },
   "outputs": [],
   "source": []
  },
  {
   "cell_type": "code",
   "execution_count": null,
   "metadata": {},
   "outputs": [],
   "source": []
  }
 ],
 "metadata": {
  "kernelspec": {
   "display_name": "Python 3 (ipykernel)",
   "language": "python",
   "name": "python3"
  },
  "language_info": {
   "codemirror_mode": {
    "name": "ipython",
    "version": 3
   },
   "file_extension": ".py",
   "mimetype": "text/x-python",
   "name": "python",
   "nbconvert_exporter": "python",
   "pygments_lexer": "ipython3",
   "version": "3.8.16"
  },
  "widgets": {
   "application/vnd.jupyter.widget-state+json": {
    "state": {},
    "version_major": 2,
    "version_minor": 0
   }
  }
 },
 "nbformat": 4,
 "nbformat_minor": 4
}

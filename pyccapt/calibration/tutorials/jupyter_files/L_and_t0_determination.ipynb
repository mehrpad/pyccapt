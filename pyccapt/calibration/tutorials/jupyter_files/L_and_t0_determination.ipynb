{
 "cells": [
  {
   "cell_type": "markdown",
   "id": "f66d9bea",
   "metadata": {
    "pycharm": {
     "name": "#%% md\n"
    }
   },
   "source": [
    "<div style=\"margin: 0 auto; padding: 20px; font-family: 'Helvetica', sans-serif; font-size: 16px;\">\n",
    "\n",
    "## Propagation Delay Calculation and flight path distance estimation\n",
    "\n",
    "In this tutorial we will see how to calculate the $t_0$ with the known sample. To ensure accurate estimation you should select your peak within the big mc range. You should also make your calculation for a small volume specially and for a small variation of voltage. Another pont is that you should choose a narrow window around your peaks.\n",
    "\n",
    "</div>"
   ]
  },
  {
   "cell_type": "code",
   "execution_count": null,
   "id": "5473b2ca",
   "metadata": {
    "pycharm": {
     "name": "#%%\n"
    },
    "tags": []
   },
   "outputs": [],
   "source": [
    "# Activate intractive functionality of matplotlib\n",
    "%matplotlib ipympl\n",
    "# Activate auto reload \n",
    "%load_ext autoreload\n",
    "%autoreload 2\n",
    "%reload_ext autoreload\n",
    "# import libraries\n",
    "import os\n",
    "import numpy as np\n",
    "from sklearn import linear_model\n",
    "import matplotlib.pyplot as plt\n",
    "from ipywidgets import fixed, interact_manual, widgets\n",
    "from ipywidgets import Output\n",
    "from IPython.display import clear_output\n",
    "\n",
    "# Local module and scripts\n",
    "from pyccapt.calibration.calibration_tools import share_variables\n",
    "from pyccapt.calibration.data_tools import data_tools, data_loadcrop, dataset_path_qt\n",
    "from pyccapt.calibration.mc import mc_tools\n",
    "from pyccapt.calibration.calibration_tools import widgets as wd\n",
    "from pyccapt.calibration.calibration_tools import mc_plot"
   ]
  },
  {
   "cell_type": "markdown",
   "id": "6d1f7882",
   "metadata": {},
   "source": [
    "<div style=\"margin: 0 auto; padding: 20px; font-family: 'Helvetica', sans-serif; font-size: 16px;\">\n",
    "\n",
    "By clicking on the button below, you can select the dataset file you want to use. The dataset file can be in various formats, including HDF5, EPOS, POS, ATO, and CSV.\n",
    "</div>"
   ]
  },
  {
   "cell_type": "code",
   "execution_count": null,
   "id": "557b1bac",
   "metadata": {
    "tags": []
   },
   "outputs": [],
   "source": [
    "button = widgets.Button(\n",
    "    description='load dataset',\n",
    ")\n",
    "@button.on_click\n",
    "def open_file_on_click(b):\n",
    "    \"\"\"\n",
    "    Event handler for button click event.\n",
    "    Prompts the user to select a dataset file and stores the selected file path in the global variable dataset_path.\n",
    "    \"\"\"\n",
    "    global dataset_path\n",
    "    dataset_path = dataset_path_qt.gui_fname().decode('ASCII')\n",
    "button"
   ]
  },
  {
   "cell_type": "markdown",
   "id": "f2549ddc-e161-4e0b-85b9-6414c8ae8122",
   "metadata": {},
   "source": [
    "<div style=\"margin: 0 auto; padding: 20px; font-family: 'Helvetica', sans-serif; font-size: 16px;\">\n",
    "In case of recieving the error about pytable library, you have to install the pytables library with conda command. to do that you can open a new cell and copy the line below in it. Then just run it like other cells. The pytables library will be innstalled.\n",
    "    \n",
    "`!conda install --yes --prefix {sys.prefix} pytables`\n",
    "</div>\n"
   ]
  },
  {
   "cell_type": "markdown",
   "id": "18dcbeba",
   "metadata": {},
   "source": [
    "<div style=\"margin: 0 auto; padding: 20px; font-family: 'Helvetica', sans-serif; font-size: 16px;\">\n",
    "From the dropdown lists below, you can select the instrument specifications of the dataset. The instrument specifications are the same as the ones used for the calibration process. Data mode is specify the dataset structure. The flight path length is the distance between the sample and the detector. The t0 is the time of flight of the ions with the lowest mass-to-charge ratio. The maximum mass-to-charge ratio is the maximum mass-to-charge ratio of tat you want to plot. You can also change it in te related cells. The detector diameter is the diameter of the detector.\n",
    "</div>\n"
   ]
  },
  {
   "cell_type": "code",
   "execution_count": null,
   "id": "bcedd92a",
   "metadata": {
    "tags": []
   },
   "outputs": [],
   "source": [
    "tdc, pulse_mode, flightPathLength_d, t0_d, max_mc, det_diam = wd.dataset_instrument_specification_selection()\n",
    "display(tdc, flightPathLength_d, max_mc)"
   ]
  },
  {
   "cell_type": "code",
   "execution_count": null,
   "id": "071ceb5e",
   "metadata": {
    "pycharm": {
     "name": "#%%\n"
    },
    "tags": []
   },
   "outputs": [],
   "source": [
    "# exctract needed data from Pandas data frame as an numpy array\n",
    "# create an instance of the Variables opject\n",
    "variables = share_variables.Variables()\n",
    "variables.pulse_mode = pulse_mode\n",
    "\n",
    "dataset_main_path = os.path.dirname(dataset_path)\n",
    "dataset_main_path = os.path.dirname(dataset_main_path)\n",
    "dataset_name_with_extention = os.path.basename(dataset_path)\n",
    "variables.dataset_name = os.path.splitext(dataset_name_with_extention)[0]\n",
    "variables.result_data_path = dataset_main_path + '/t_0_flight_path_distance/'\n",
    "variables.result_data_name = variables.dataset_name\n",
    "variables.result_path = dataset_main_path + '/t_0_flight_path_distance/'\n",
    "\n",
    "if not os.path.isdir(variables.result_path):\n",
    "    os.makedirs(variables.result_path, mode=0o777, exist_ok=True)\n",
    "    \n",
    "# Create data farame out of hdf5 file dataset\n",
    "data = data_tools.load_data(dataset_path, tdc.value, mode='processed')\n",
    "# extract data from the path and create the Variable object\n",
    "data_tools.extract_data(data, variables, flightPathLength_d.value, max_mc.value)"
   ]
  },
  {
   "cell_type": "code",
   "execution_count": null,
   "id": "f170d8ff",
   "metadata": {
    "pycharm": {
     "name": "#%%\n"
    },
    "tags": []
   },
   "outputs": [],
   "source": [
    "data"
   ]
  },
  {
   "cell_type": "markdown",
   "id": "5ffdd7f5",
   "metadata": {},
   "source": [
    "<div style=\"margin: 0 auto; padding: 20px; font-family: 'Helvetica', sans-serif; font-size: 16px;\">\n",
    "\n",
    "Extract the data from the dataset file in numpy array format.\n",
    "</div>"
   ]
  },
  {
   "cell_type": "code",
   "execution_count": null,
   "id": "9745aa63",
   "metadata": {
    "tags": []
   },
   "outputs": [],
   "source": [
    "# exctract needed data from Pandas data frame as an numpy array\n",
    "\n",
    "# exctract needed data from Pandas data frame as an numpy array\n",
    "pulse_mode.value = 'voltage'\n",
    "variables.dld_high_voltage = data['high_voltage (V)'].to_numpy()\n",
    "variables.dld_pulse = data['pulse'].to_numpy()\n",
    "variables.dld_t = data['t (ns)'].to_numpy()\n",
    "variables.dld_x_det = data['x_det (cm)'].to_numpy()\n",
    "variables.dld_y_det = data['y_det (cm)'].to_numpy()\n",
    "# calculate the mc based on t_0 = 0\n",
    "variables.mc = mc_tools.tof2mc(variables.dld_t, 0, variables.dld_high_voltage, variables.dld_x_det, variables.dld_y_det, flightPathLength_d.value, \n",
    "                                         variables.dld_pulse, mode=pulse_mode.value)"
   ]
  },
  {
   "cell_type": "code",
   "execution_count": null,
   "id": "f26ece5a-6b3a-418b-a673-7c0281d3321b",
   "metadata": {
    "tags": []
   },
   "outputs": [],
   "source": [
    "interact_manual(data_loadcrop.plot_crop_experiment_history, data=fixed(data), variables=fixed(variables), max_tof=widgets.FloatText(value=variables.max_tof), frac=widgets.FloatText(value=1.0),\n",
    "                bins=fixed((1200,800)), figure_size=fixed((7,3)),\n",
    "               draw_rect=fixed(False), data_crop=fixed(False), pulse_plot=widgets.Dropdown(options=[('False', False), ('True', True)]), dc_plot=widgets.Dropdown(options=[('True', True), ('False', False)]),\n",
    "                pulse_mode=widgets.Dropdown(options=[('voltage', 'voltage'), ('laser', 'laser')]), save=widgets.Dropdown(options=[('True', True), ('False', False)]),\n",
    "               figname=widgets.Text(value='exp_hist'));"
   ]
  },
  {
   "cell_type": "markdown",
   "id": "43bed8d4",
   "metadata": {},
   "source": [
    "<div style=\"margin: 0 auto; padding: 20px; font-family: 'Helvetica', sans-serif; font-size: 16px;\">\n",
    "\n",
    "plot the histogram of the mass spectrum.\n",
    "</div>"
   ]
  },
  {
   "cell_type": "code",
   "execution_count": null,
   "id": "e12ef0fd",
   "metadata": {
    "tags": []
   },
   "outputs": [],
   "source": [
    "interact_manual(\n",
    "        mc_plot.hist_plot,\n",
    "        variables=fixed(variables),\n",
    "        bin_size=widgets.FloatText(value=0.1),\n",
    "        log=widgets.Dropdown(options=[('True', True), ('False', False)]),\n",
    "        target=widgets.Dropdown(options=[('mc', 'mc'), ('tof', 'tof')]),\n",
    "        mode=widgets.Dropdown(options=[('normal', 'normal'), ('normalized', 'normalized')]),\n",
    "        prominence=widgets.IntText(value=100),\n",
    "        distance=widgets.IntText(value=100),\n",
    "        percent=widgets.IntText(value=50),\n",
    "        selector=fixed('peak'),\n",
    "        figname=widgets.Text(value='hist'),\n",
    "        lim=widgets.IntText(value=variables.max_mc),\n",
    "        peaks_find_plot=widgets.Dropdown(options=[('True', True), ('False', False)]),\n",
    "        peaks_find=fixed(True),\n",
    "        range_plot=fixed(False),\n",
    "        plot_ranged_ions=fixed(False),\n",
    "        ranging_mode=fixed(False),\n",
    "        selected_area_specially=fixed(False),\n",
    "        selected_area_temporally=fixed(False),\n",
    "        save_fig=widgets.Dropdown(options=[('True', True), ('False', False)]),\n",
    "        print_info=fixed(True),\n",
    "        figure_size=fixed((9, 5)));"
   ]
  },
  {
   "cell_type": "markdown",
   "id": "30d8fc77",
   "metadata": {
    "pycharm": {
     "name": "#%% md\n"
    }
   },
   "source": [
    "<div style=\"margin: 0 auto; padding: 20px; font-family: 'Helvetica', sans-serif; font-size: 16px;\">\n",
    "\n",
    "For the selected peak you have to select the mass-to-charge ratio of the peak. You can select the mass-to-charge ratio from the dropdown list below. You can also select the charge of the peak. After that you can add the peak to the list by clicking on the add button. You can also delete the selected peak from the list by clicking on the delete button. You can reset the list by clicking on the reset button.\n",
    "\n",
    "</div>\n"
   ]
  },
  {
   "cell_type": "code",
   "execution_count": null,
   "id": "07650710-232f-4af6-bda3-554be0440c5f",
   "metadata": {
    "tags": []
   },
   "outputs": [],
   "source": [
    "isotopeTableFile = '../../../files/isotopeTable.h5'\n",
    "dataframe = data_tools.read_hdf5_through_pandas(isotopeTableFile)\n",
    "elementsList = dataframe['element']\n",
    "elementIsotopeList = dataframe['isotope']\n",
    "elementMassList =  dataframe['weight']\n",
    "abundanceList = dataframe['abundance']\n",
    "\n",
    "elements = list(zip(elementsList, elementIsotopeList, elementMassList, abundanceList))\n",
    "dropdownList = []\n",
    "for element in elements:\n",
    "    tupleElement = (\"{} ({}) ({:.2f})\".format(element[0], element[1], element[3]), \"{}({})[{}]\".format(element[0], element[1], element[2]))\n",
    "    dropdownList.append(tupleElement)\n",
    "\n",
    "chargeList = [(1,1,),(2,2,),(3,3,),(4,4,)]\n",
    "dropdown = wd.dropdownWidget(dropdownList,\"Elements\")\n",
    "dropdown.observe(wd.on_change)\n",
    "\n",
    "\n",
    "chargeDropdown = wd.dropdownWidget(chargeList,\"Charge\")\n",
    "chargeDropdown.observe(wd.on_change_charge)\n",
    "\n",
    "wd.compute_element_isotope_values_according_to_selected_charge()\n",
    "\n",
    "buttonAdd = wd.buttonWidget(\"ADD\")\n",
    "buttonDelete = wd.buttonWidget(\"DELETE\")\n",
    "buttonReset = wd.buttonWidget(\"RESET\")\n",
    "\n",
    "display(dropdown, chargeDropdown, buttonAdd, buttonDelete, buttonReset)\n",
    "\n",
    "def buttonAdd_f(b,):\n",
    "    with out:\n",
    "        clear_output(True)\n",
    "        wd.onClickAdd(b, variables)\n",
    "        display()\n",
    "def buttonDelete_f(b,):\n",
    "    with out:\n",
    "        clear_output(True)\n",
    "        wd.onClickDelete(b, variables)\n",
    "        display()\n",
    "def buttonResett_f(b,):\n",
    "    with out:\n",
    "        clear_output(True)\n",
    "        wd.onClickReset(b, variables)\n",
    "        display()\n",
    "\n",
    "listMaterial = buttonAdd.on_click(buttonAdd_f)\n",
    "buttonDelete.on_click(buttonDelete_f)\n",
    "buttonReset.on_click(buttonResett_f)\n",
    "# listMaterial = buttonAdd.on_click(wd.onClickAdd)\n",
    "# buttonDelete.on_click(wd.onClickDelete)\n",
    "# buttonReset.on_click(wd.onClickReset)\n",
    "out = Output()\n",
    "display(out)"
   ]
  },
  {
   "cell_type": "code",
   "execution_count": null,
   "id": "f6c67cbb",
   "metadata": {
    "pycharm": {
     "name": "#%%\n"
    },
    "tags": []
   },
   "outputs": [],
   "source": [
    "# The correct peak location based on your sample\n",
    "peaks_ideal = variables.list_material\n",
    "print('peak ideal mass:', peaks_ideal)\n",
    "peak_x = variables.peaks_x_selected\n",
    "print('peak actual mass:', peak_x)\n",
    "print('The peak index are:', variables.peaks_index_list)"
   ]
  },
  {
   "cell_type": "markdown",
   "id": "9d120e01",
   "metadata": {
    "pycharm": {
     "name": "#%% md\n"
    }
   },
   "source": [
    "<div style=\"margin: 0 auto; padding: 20px; font-family: 'Helvetica', sans-serif; font-size: 16px;\">\n",
    "\n",
    "Here for each peak a mask will be created.\n",
    "</div>\n"
   ]
  },
  {
   "cell_type": "code",
   "execution_count": null,
   "id": "c19716d1",
   "metadata": {
    "tags": []
   },
   "outputs": [],
   "source": [
    "pick_ions_plot = []\n",
    "mask = np.zeros(len(variables.mc), dtype=bool)\n",
    "mc_seb_ideal = np.zeros(len(variables.mc))\n",
    "# creat mask for each peak base on the peak loc. and window size\n",
    "index = 0\n",
    "for i in variables.peaks_index_list:\n",
    "    mask_tmp = np.logical_and((variables.x_hist[round(variables.peak_widths[2][i])] < variables.mc), (variables.mc < variables.x_hist[round(variables.peak_widths[3][i])]))\n",
    "    # Count the number of True values in the original mask_tmp\n",
    "    true_indices = np.where(mask_tmp)[0]\n",
    "    num_true_values = len(true_indices)\n",
    "\n",
    "    # If there are more than 5000 True values, randomly choose 5000 of them\n",
    "    if num_true_values > 5000:\n",
    "        selected_indices = np.random.choice(true_indices, size=5000, replace=False)\n",
    "\n",
    "        # Create a new mask with the same length as the original, initialized with False\n",
    "        new_mask = np.full_like(mask_tmp, False)\n",
    "\n",
    "        # Set the selected indices to True in the new mask\n",
    "        new_mask[selected_indices] = True\n",
    "\n",
    "        # Update the original mask_tmp with the new mask\n",
    "        mask_tmp = new_mask\n",
    "    \n",
    "    print('peak left and right sides are:', variables.x_hist[round(variables.peak_widths[2][i])], variables.x_hist[round(variables.peak_widths[3][i])])\n",
    "    mask = np.logical_or(mask, mask_tmp)\n",
    "    mc_seb_ideal[mask_tmp==True] = peaks_ideal[index]\n",
    "    index += 1\n",
    "    bb = np.zeros(len(variables.mc))\n",
    "    \n",
    "    pick_ions_plot.append(mask_tmp)\n"
   ]
  },
  {
   "cell_type": "markdown",
   "id": "8a8256ac",
   "metadata": {
    "pycharm": {
     "name": "#%% md\n"
    }
   },
   "source": [
    "<div style=\"margin: 0 auto; padding: 20px; font-family: 'Helvetica', sans-serif; font-size: 16px;\">\n",
    "\n",
    "Here we plot ions in each peak base on the TOF and (x,y) position\n",
    "</div>\n"
   ]
  },
  {
   "cell_type": "code",
   "execution_count": null,
   "id": "58160516",
   "metadata": {
    "pycharm": {
     "name": "#%%\n"
    },
    "tags": []
   },
   "outputs": [],
   "source": [
    "for i in range(len(pick_ions_plot)):\n",
    "    fig1, ax1 = plt.subplots(figsize=(6, 6))\n",
    "    dld_x_masked = variables.dld_x_det[pick_ions_plot[i]]\n",
    "    dld_y_masked = variables.dld_y_det[pick_ions_plot[i]]\n",
    "    dld_t_masked = variables.dld_t[pick_ions_plot[i]]\n",
    "    if len(dld_x_masked) > 1000:\n",
    "        mask_plot = np.random.randint(0, len(dld_x_masked), 1000)\n",
    "        x = plt.scatter(dld_x_masked[mask_plot], dld_t_masked[mask_plot], color=\"blue\", label='X', alpha=0.1)\n",
    "        y = plt.scatter(dld_y_masked[mask_plot], dld_t_masked[mask_plot], color=\"red\", label='Y', alpha=0.1)\n",
    "    else:\n",
    "        x = plt.scatter(dld_x_masked, dld_t_masked, color=\"blue\", label='X', alpha=0.1)\n",
    "        y = plt.scatter(dld_y_masked, dld_t_masked, color=\"red\", label='Y', alpha=0.1)\n",
    "    ax1.set_ylabel(\"Time of flight (ns)\", color=\"red\", fontsize=10)\n",
    "    ax1.set_xlabel(\"position (cm)\", color=\"red\", fontsize=10)\n",
    "    plt.grid(color='aqua', alpha=0.3, linestyle='-.', linewidth=2)\n",
    "    plt.legend(handles=[x, y], loc='upper right')\n",
    "    plt.ylim(bottom=plt.yticks()[0][0], top=plt.yticks()[0][-1])\n",
    "    plt.xlim(left=plt.xticks()[0][0], right=plt.xticks()[0][-1])\n",
    "    plt.savefig(variables.result_path + 'position_peak.png', format=\"png\", dpi=600)\n",
    "    plt.savefig(variables.result_path + 'position_peak.svg', format=\"svg\", dpi=600)\n",
    "    plt.show()"
   ]
  },
  {
   "cell_type": "markdown",
   "id": "178fcf61",
   "metadata": {
    "pycharm": {
     "name": "#%% md\n"
    }
   },
   "source": [
    "<div style=\"margin: 0 auto; padding: 20px; font-family: 'Helvetica', sans-serif; font-size: 16px;\">\n",
    "\n",
    "As you saw the TOF changes base on the (x,y) of the events. Therefore we creat a mask to only select the ions in center (8m\n",
    "m*8mm) of detector. This helps to cansel out the variation in TOF due to hit position.\n",
    "    \n",
    "<br>Reformulate the equation:<br>\n",
    "</div>\n",
    "$$t = d(\\sqrt{\\frac{\\frac{m}{n}}{2eV}})-t_{0} $$<br>"
   ]
  },
  {
   "cell_type": "code",
   "execution_count": null,
   "id": "b5fdf9d6",
   "metadata": {
    "pycharm": {
     "name": "#%%\n"
    },
    "tags": []
   },
   "outputs": [],
   "source": [
    "# use mask_equal to have equal number of ions for each peak\n",
    "# only peak the value in the center of detector 10mm * 10mm\n",
    "detector_squre = 0.5\n",
    "vol_variation = 5500 # peak only for 200 voltage variation for vol_variation +/- 100 \n",
    "\n",
    "fig1, ax1 = plt.subplots(figsize=(6, 6))\n",
    "dld_x_masked = variables.dld_x_det[mask]\n",
    "dld_y_masked = variables.dld_y_det[mask]\n",
    "dld_t_masked = variables.dld_t[mask]\n",
    "dld_highVoltage_masked = variables.dld_high_voltage[mask]\n",
    "dld_pulse_masked = variables.dld_pulse[mask]\n",
    "\n",
    "mask_tmp_middle = np.logical_and((np.abs(dld_x_masked) < detector_squre), (np.abs(dld_y_masked) < detector_squre))\n",
    "mask_tmp_mvoltage = mask_tmp_mvoltage = np.logical_and((dld_highVoltage_masked < (np.mean(dld_highVoltage_masked)+200)), (dld_highVoltage_masked > (np.mean(dld_highVoltage_masked)-200)))\n",
    "mask_tmp_mvoltage = np.ones(len(mask_tmp_middle), dtype=bool)\n",
    "mask_f = np.logical_and(mask_tmp_mvoltage, mask_tmp_middle)\n",
    "\n",
    "dld_x_masked = dld_x_masked[mask_f]\n",
    "dld_y_masked = dld_y_masked[mask_f]\n",
    "dld_t_masked = dld_t_masked[mask_f]\n",
    "dld_highVoltage_masked = dld_highVoltage_masked[mask_f]\n",
    "dld_pulse_masked = dld_pulse_masked[mask_f]\n",
    "\n",
    "mc_seb_reg_masked = mc_seb_ideal[mask]\n",
    "mc_seb_reg_masked = mc_seb_reg_masked[mask_f]\n",
    "\n",
    "x = plt.scatter(dld_x_masked, dld_t_masked, color=\"blue\", label='X', alpha=0.1)\n",
    "y = plt.scatter(dld_y_masked, dld_t_masked, color=\"red\", label='Y', alpha=0.1)\n",
    "ax1.set_ylabel(\"Time of flight (ns)\", color=\"red\", fontsize=10)\n",
    "ax1.set_xlabel(\"position (cm)\", color=\"red\", fontsize=10)\n",
    "plt.grid(color='aqua', alpha=0.3, linestyle='-.', linewidth=2)\n",
    "plt.legend(handles=[x, y], loc='upper right')\n",
    "plt.ylim(bottom=plt.yticks()[0][0], top=plt.yticks()[0][-1])\n",
    "plt.xlim(left=plt.xticks()[0][0], right=plt.xticks()[0][-1])\n",
    "plt.savefig(variables.result_path + 'center.png' , format=\"png\", dpi=600)\n",
    "plt.savefig(variables.result_path + 'center.svg' , format=\"svg\", dpi=600)\n",
    "\n",
    "plt.show()\n"
   ]
  },
  {
   "cell_type": "markdown",
   "id": "801076be",
   "metadata": {
    "pycharm": {
     "name": "#%% md\n"
    }
   },
   "source": [
    "<div style=\"margin: 0 auto; padding: 20px; font-family: 'Helvetica', sans-serif; font-size: 16px;\">\n",
    "\n",
    "We calculate the ${t_0}$ base on:\n",
    "</div>\n",
    "$$t_{0} = \\frac{\\sum_{n=1}^n{\\left (t - L_{flight}  \\sqrt{\\frac{m/n}{2eV}} \\right )}}{n}$$<br>"
   ]
  },
  {
   "cell_type": "code",
   "execution_count": null,
   "id": "f2a86b5b",
   "metadata": {
    "pycharm": {
     "name": "#%%\n"
    },
    "tags": []
   },
   "outputs": [],
   "source": [
    "seb_t = dld_t_masked * 1E-9  # tof in s\n",
    "                                                               \n",
    "seb_factor = np.sqrt(mc_seb_reg_masked * 1.66E-27 / (2 * 1.6E-19 * dld_highVoltage_masked))\n",
    "\n",
    "seb_factor = seb_factor * 1E6\n",
    "seb_t = seb_t * 1E9\n",
    "\n",
    "t0_seb_fixed = np.mean(np.array([seb_t]).squeeze(0) - (flightPathLength_d.value * np.array([seb_factor]).squeeze(0).reshape(-1, 1)))\n",
    "print('Linear fixed path lenght -- the flight path lenght(slop): {:.2f}'.format(flightPathLength_d.value), '(mm)', '\\nthe corrected t_0(intercept): {:.2f}'.format(t0_seb_fixed), '(ns)')\n"
   ]
  },
  {
   "cell_type": "code",
   "execution_count": null,
   "id": "1924ba7d-ef11-4250-9144-23ddedfca70e",
   "metadata": {
    "tags": []
   },
   "outputs": [],
   "source": [
    "# Plot outputs\n",
    "# fig1, ax1 = plt.subplots(figsize=(5.5/2.54, 5.5/2.54))\n",
    "fig1, ax1 = plt.subplots(figsize=(5.5, 5.5))\n",
    "peaks_data = plt.scatter(seb_factor, seb_t, label='Ions', alpha=1, color='slategray')\n",
    "axes = plt.gca()\n",
    "x_vals = np.array(axes.get_xlim())\n",
    "\n",
    "linear_fix, = plt.plot(x_vals, t0_seb_fixed + flightPathLength_d.value * x_vals, '--', color='red', label='line' )\n",
    "\n",
    "plt.grid(color='aqua', alpha=0.3, linestyle='-.', linewidth=2)\n",
    "# plt.legend(handles=[linear_fix, peaks_data], loc='lower right')\n",
    "\n",
    "ax1.set_ylabel(\"Time of Flight (ns)\", fontsize=8)\n",
    "\n",
    "ax1.set_xlabel(r\"$\\sqrt{\\frac{\\frac{m}{n}}{2e \\alpha V}} (ns/mm)$\", fontsize=8)\n",
    "plt.tight_layout()\n",
    "plt.ylim(bottom=plt.yticks()[0][0], top=plt.yticks()[0][-1])\n",
    "plt.xlim(left=plt.xticks()[0][0], right=plt.xticks()[0][-1])\n",
    "plt.savefig(variables.result_path + 'fixed_flight_path.svg', format=\"svg\", dpi=600)\n",
    "plt.savefig(variables.result_path + 'fixed_flight_path.png', format=\"png\", dpi=600)\n",
    "\n",
    "plt.show()"
   ]
  },
  {
   "cell_type": "code",
   "execution_count": null,
   "id": "d4e745d0-b228-4748-90ad-3a160f2b2767",
   "metadata": {
    "tags": []
   },
   "outputs": [],
   "source": [
    "linear = linear_model.LinearRegression()\n",
    "linear.fit(np.array([seb_factor]).squeeze(0).reshape(-1, 1), np.array([seb_t]).squeeze(0))\n",
    "d_seb = linear.coef_.item()\n",
    "t0_seb = linear.intercept_.item()\n",
    "\n",
    "print('Linear -- the corrected flight path lenght(slop): {:.2f}'.format(d_seb), '(mm)', '\\nthe corrected t_0(intercept): {:.2f}'.format(t0_seb), '(ns)')"
   ]
  },
  {
   "cell_type": "code",
   "execution_count": null,
   "id": "d9123bcf-2339-44e8-a394-954c61cb8da2",
   "metadata": {
    "tags": []
   },
   "outputs": [],
   "source": [
    "# Plot outputs\n",
    "\n",
    "# fig1, ax1 = plt.subplots(figsize=(5.5/2.54, 5.5/2.54))\n",
    "fig1, ax1 = plt.subplots(figsize=(5.5, 5.5))\n",
    "peaks_data = plt.scatter(seb_factor, seb_t, color=\"slategray\", label='Ion', alpha=0.1)\n",
    "axes = plt.gca()\n",
    "x_vals = np.array(axes.get_xlim())\n",
    "\n",
    "\n",
    "linear, = plt.plot(x_vals, t0_seb + d_seb * x_vals, '--', color='r', label='fit' )\n",
    "\n",
    "\n",
    "plt.grid(color='aqua', alpha=0.3, linestyle='-.', linewidth=2)\n",
    "\n",
    "# plt.legend(handles=[peaks_data, linear, rigid, huber,lasso], loc='lower right')\n",
    "ax1.set_ylabel(\"Time of flight (ns)\", fontsize=8)\n",
    "ax1.set_xlabel(r\"$\\sqrt{\\frac{\\frac{m}{n}}{2e \\alpha V}} (ns/mm)$\", fontsize=8)\n",
    "plt.legend(handles=[linear, peaks_data], loc='lower right')\n",
    "plt.tight_layout()\n",
    "plt.ylim(bottom=plt.yticks()[0][0], top=plt.yticks()[0][-1])\n",
    "plt.xlim(left=plt.xticks()[0][0], right=plt.xticks()[0][-1])\n",
    "\n",
    "plt.savefig(variables.result_path + 'regression.svg', format=\"svg\", dpi=600)\n",
    "plt.savefig(variables.result_path + 'regression.png', format=\"png\", dpi=600)\n",
    "    \n",
    "\n",
    "plt.show()"
   ]
  },
  {
   "cell_type": "markdown",
   "id": "1b9cb786",
   "metadata": {
    "pycharm": {
     "name": "#%% md\n"
    }
   },
   "source": [
    "<div style=\"margin: 0 auto; padding: 20px; font-family: 'Helvetica', sans-serif; font-size: 16px;\">\n",
    "\n",
    "Plot the m/c with new ${t_0}$:\n",
    "</div>"
   ]
  },
  {
   "cell_type": "code",
   "execution_count": null,
   "id": "073d17a6-8c33-43fe-b9cb-f0edab95b88b",
   "metadata": {
    "tags": []
   },
   "outputs": [],
   "source": [
    "# recalulate the mc based on the new t_0\n",
    "mc = mc_tools.tof2mc(variables.dld_t, 14, variables.dld_high_voltage, variables.dld_x_det, variables.dld_y_det, flightPathLength_d.value, \n",
    "                                         variables.dld_pulse, mode=pulse_mode.value)\n",
    "\n",
    "mc_hist = mc_plot.AptHistPlotter(mc[mc < 40], variables)\n",
    "y, x = mc_hist.plot_histogram(bin_width=0.1, label='mc', steps='stepfilled', log=True, grid=True, fig_size=(9, 5))\n",
    "peaks, properties, peak_widths, prominences = mc_hist.find_peaks_and_widths(prominence=100, distance=10, percent=50)\n",
    "mc_hist.plot_peaks()\n",
    "mc_hist.plot_hist_info_legend(label='mc', bin=0.1, background=None, loc='right') "
   ]
  }
 ],
 "metadata": {
  "kernelspec": {
   "display_name": "Python 3 (ipykernel)",
   "language": "python",
   "name": "python3"
  },
  "language_info": {
   "codemirror_mode": {
    "name": "ipython",
    "version": 3
   },
   "file_extension": ".py",
   "mimetype": "text/x-python",
   "name": "python",
   "nbconvert_exporter": "python",
   "pygments_lexer": "ipython3",
   "version": "3.8.16"
  },
  "widgets": {
   "application/vnd.jupyter.widget-state+json": {
    "state": {},
    "version_major": 2,
    "version_minor": 0
   }
  }
 },
 "nbformat": 4,
 "nbformat_minor": 5
}

{
 "cells": [
  {
   "cell_type": "markdown",
   "metadata": {
    "pycharm": {
     "name": "#%% md\n"
    }
   },
   "source": [
    "<div style=\"margin: 0 auto; padding: 20px; font-family: 'Helvetica', sans-serif; font-size: 16px;\">\n",
    "\n",
    "## Data Processing Workflow\n",
    "\n",
    "In this workflow within PyCCAPT, we can crop the data, do the voltage and bowl calibration, calculate the 3d reconstruction, and do the ranging.\n",
    "</div>"
   ]
  },
  {
   "cell_type": "code",
   "execution_count": 1,
   "metadata": {},
   "outputs": [],
   "source": [
    "# Activate intractive functionality of matplotlib\n",
    "%matplotlib ipympl\n",
    "# Activate auto reload \n",
    "%load_ext autoreload\n",
    "%autoreload 2\n",
    "%reload_ext autoreload\n",
    "# import libraries\n",
    "import os\n",
    "import numpy as np\n",
    "import pandas as pd\n",
    "import subprocess\n",
    "from ipywidgets import widgets\n",
    "from IPython.display import display\n",
    "from ipywidgets import fixed, interact_manual\n",
    "import warnings\n",
    "# Ignore all warnings\n",
    "warnings.filterwarnings(\"ignore\")\n",
    "\n",
    "# Local module and scripts\n",
    "from pyccapt.calibration.calibration import widgets as wd\n",
    "from pyccapt.calibration.data_tools import data_tools, data_loadcrop\n",
    "from pyccapt.calibration.tutorials.tutorials_helpers import helper_calibration\n",
    "from pyccapt.calibration.tutorials.tutorials_helpers import helper_data_loader\n",
    "from pyccapt.calibration.tutorials.tutorials_helpers import helper_temporal_crop\n",
    "from pyccapt.calibration.tutorials.tutorials_helpers import helper_special_crop\n",
    "from pyccapt.calibration.tutorials.tutorials_helpers import helper_t_0_tune\n",
    "from pyccapt.calibration.tutorials.tutorials_helpers import helper_mc_plot\n",
    "from pyccapt.calibration.tutorials.tutorials_helpers import helper_3d_reconstruction\n",
    "from pyccapt.calibration.tutorials.tutorials_helpers import helper_ion_selection\n",
    "from pyccapt.calibration.tutorials.tutorials_helpers import helper_visualization\n",
    "from pyccapt.calibration.tutorials.tutorials_helpers import helper_ion_list\n",
    "from pyccapt.calibration.calibration import ion_selection\n",
    "from pyccapt.calibration.calibration import share_variables\n",
    "from pyccapt.calibration.leap_tools.leap_tools import read_rrng"
   ]
  },
  {
   "cell_type": "markdown",
   "metadata": {},
   "source": [
    "<div style=\"margin: 0 auto; padding: 20px; font-family: 'Helvetica', sans-serif; font-size: 16px;\">\n",
    "In case of recieving the error about pytable library, you have to install the pytables library with conda command. to do that you can open a new cell and copy the line below in it. Then just run it like other cells. The pytables library will be innstalled.\n",
    "    \n",
    "`!conda install --yes --prefix {sys.prefix} pytables`\n",
    "</div>\n"
   ]
  },
  {
   "cell_type": "markdown",
   "metadata": {},
   "source": [
    "<div style=\"margin: 0 auto; padding: 20px; font-family: 'Helvetica', sans-serif; font-size: 16px;\">\n",
    "In the cell below we create variable object. This object is used in many of the functions to share the data between functions in as easy way. \n",
    "</div>\n"
   ]
  },
  {
   "cell_type": "code",
   "execution_count": 2,
   "metadata": {},
   "outputs": [],
   "source": [
    "variables = share_variables.Variables()"
   ]
  },
  {
   "cell_type": "markdown",
   "metadata": {},
   "source": [
    "<div style=\"margin: 0 auto; padding: 20px; font-family: 'Helvetica', sans-serif; font-size: 16px;\">\n",
    "    \n",
    "By clicking on the button below, you can select the dataset file you want to work with. The dataset file can be in various formats, including HDF5, EPOS, POS, ATO, and CSV. The cropped data will be saved in the same directory as the original dataset file in a new directory nammed load_crop. The name of the cropped dataset file will be the same as the original dataset file. The figures will be saved in the same directory as the dataset file.\n",
    "</div>"
   ]
  },
  {
   "cell_type": "code",
   "execution_count": 3,
   "metadata": {
    "tags": []
   },
   "outputs": [
    {
     "data": {
      "application/vnd.jupyter.widget-view+json": {
       "model_id": "de11aeb5771b4717b7e49ebbfbea5a67",
       "version_major": 2,
       "version_minor": 0
      },
      "text/plain": [
       "Button(description='load dataset', style=ButtonStyle())"
      ]
     },
     "execution_count": 3,
     "metadata": {},
     "output_type": "execute_result"
    }
   ],
   "source": [
    "button = widgets.Button(description='load dataset')\n",
    "\n",
    "@button.on_click\n",
    "def open_file_on_click_r(b):\n",
    "    global dataset_path\n",
    "    folder_path = variables.last_directory\n",
    "    script = '..//..//data_tools//run_dataset_path_qt.py'\n",
    "    cmd = f\"python {script} {folder_path}\"\n",
    "    result = subprocess.run(cmd, capture_output=True, text=True, shell=True)\n",
    "    dataset_path = result.stdout.strip()\n",
    "    variables.last_directory = dataset_path\n",
    "\n",
    "button"
   ]
  },
  {
   "cell_type": "markdown",
   "metadata": {
    "tags": []
   },
   "source": [
    "<div style=\"margin: 0 auto; padding: 20px; font-family: 'Helvetica', sans-serif; font-size: 16px;\">\n",
    "\n",
    "## ROI Selection and Data Cropping\n",
    "    \n",
    "\n",
    "</div>\n",
    "\n"
   ]
  },
  {
   "cell_type": "markdown",
   "metadata": {},
   "source": [
    "<div style=\"margin: 0 auto; padding: 20px; font-family: 'Helvetica', sans-serif; font-size: 16px;\">\n",
    "\n",
    "    \n",
    "From the dropdown lists below, you can select the instrument specifications of the dataset. The instrument specifications are the same as the ones used for the calibration process. Data mode is specify the dataset structure. The dataset can be in raw or calibrated mode. The flight path length is the distance between the sample and the detector. The t0 is the time of flight of the ions with the lowest mass-to-charge ratio. The maximum mass-to-charge ratio is the maximum mass-to-charge ratio of tat you want to plot. You can also change it in te related cells. The detector diameter is the diameter of the detector.\n",
    "</div>\n"
   ]
  },
  {
   "cell_type": "code",
   "execution_count": 4,
   "metadata": {
    "tags": []
   },
   "outputs": [
    {
     "data": {
      "application/vnd.jupyter.widget-view+json": {
       "model_id": "36c3e683f3ab414f9e91ac3809b720be",
       "version_major": 2,
       "version_minor": 0
      },
      "text/plain": [
       "Dropdown(description='Data mode:', options=('pyccapt', 'leap_epos', 'leap_pos', 'leap_apt', 'ato_v6'), value='…"
      ]
     },
     "metadata": {},
     "output_type": "display_data"
    },
    {
     "data": {
      "application/vnd.jupyter.widget-view+json": {
       "model_id": "fe9d5a8545f144e89273f8f64004b32a",
       "version_major": 2,
       "version_minor": 0
      },
      "text/plain": [
       "Dropdown(description='Pulse mode:', options=('voltage', 'laser'), value='voltage')"
      ]
     },
     "metadata": {},
     "output_type": "display_data"
    },
    {
     "data": {
      "application/vnd.jupyter.widget-view+json": {
       "model_id": "47749b3e3e684eba9622f14beaa03883",
       "version_major": 2,
       "version_minor": 0
      },
      "text/plain": [
       "FloatText(value=110.0, description='Flight path length:')"
      ]
     },
     "metadata": {},
     "output_type": "display_data"
    },
    {
     "data": {
      "application/vnd.jupyter.widget-view+json": {
       "model_id": "7e0479a4caa0445e9682c2f91a55d840",
       "version_major": 2,
       "version_minor": 0
      },
      "text/plain": [
       "FloatText(value=38.0, description='t0:')"
      ]
     },
     "metadata": {},
     "output_type": "display_data"
    },
    {
     "data": {
      "application/vnd.jupyter.widget-view+json": {
       "model_id": "9cb425c227cd45cc9dbcc59284e631c5",
       "version_major": 2,
       "version_minor": 0
      },
      "text/plain": [
       "FloatText(value=80.0, description='Detector diameter:')"
      ]
     },
     "metadata": {},
     "output_type": "display_data"
    },
    {
     "data": {
      "application/vnd.jupyter.widget-view+json": {
       "model_id": "1e305e9566a6495fa864b68bbe984c0b",
       "version_major": 2,
       "version_minor": 0
      },
      "text/plain": [
       "FloatText(value=400.0, description='Max mc:')"
      ]
     },
     "metadata": {},
     "output_type": "display_data"
    }
   ],
   "source": [
    "# create an object for selection of instrument specifications of the dataset\n",
    "tdc, pulse_mode, flight_path_length, t0, max_mc, det_diam = wd.dataset_instrument_specification_selection()\n",
    "\n",
    "# Display lists and comboboxes to selected instrument specifications\n",
    "display(tdc, pulse_mode, flight_path_length, t0, det_diam, max_mc)"
   ]
  },
  {
   "cell_type": "code",
   "execution_count": 5,
   "metadata": {
    "tags": []
   },
   "outputs": [
    {
     "name": "stdout",
     "output_type": "stream",
     "text": [
      "The maximum possible TOF is: 5010 ns\n",
      "=============================\n",
      "The data will be saved on the path: T:/Ott/APT_Measurements/Oxcart/2409_Feb-14-2025_15-08_NiC6_Pd139Charged2bar/2409_Feb-14-2025_15-08_NiC6_Pd139Charged2bar/data_processing/\n",
      "=============================\n",
      "The dataset name after saving is: 2409_Feb-14-2025_15-08_NiC6_Pd139Charged2bar\n",
      "=============================\n",
      "The figures will be saved on the path: T:/Ott/APT_Measurements/Oxcart/2409_Feb-14-2025_15-08_NiC6_Pd139Charged2bar/2409_Feb-14-2025_15-08_NiC6_Pd139Charged2bar/data_processing/\n",
      "=============================\n",
      "{'apt': ['experiment_chamber_vacuum', 'id', 'num_events', 'num_raw_signals', 'temperature', 'timestamps'], 'dld': ['high_voltage', 'laser_pulse', 'start_counter', 't', 'voltage_pulse', 'x', 'y'], 'tdc': ['channel', 'high_voltage', 'laser_pulse', 'start_counter', 'time_data', 'voltage_pulse']}\n",
      "The data is loaded in raw mode\n",
      "The number of data that is removed: 57285\n",
      "Total number of Ions: 627777\n",
      "The maximum possible time of flight is: 5010\n"
     ]
    },
    {
     "data": {
      "text/html": [
       "<div>\n",
       "<style scoped>\n",
       "    .dataframe tbody tr th:only-of-type {\n",
       "        vertical-align: middle;\n",
       "    }\n",
       "\n",
       "    .dataframe tbody tr th {\n",
       "        vertical-align: top;\n",
       "    }\n",
       "\n",
       "    .dataframe thead th {\n",
       "        text-align: right;\n",
       "    }\n",
       "</style>\n",
       "<table border=\"1\" class=\"dataframe\">\n",
       "  <thead>\n",
       "    <tr style=\"text-align: right;\">\n",
       "      <th></th>\n",
       "      <th>x (nm)</th>\n",
       "      <th>y (nm)</th>\n",
       "      <th>z (nm)</th>\n",
       "      <th>mc (Da)</th>\n",
       "      <th>mc_uc (Da)</th>\n",
       "      <th>high_voltage (V)</th>\n",
       "      <th>pulse</th>\n",
       "      <th>t (ns)</th>\n",
       "      <th>t_c (ns)</th>\n",
       "      <th>x_det (cm)</th>\n",
       "      <th>y_det (cm)</th>\n",
       "      <th>delta_p</th>\n",
       "      <th>multi</th>\n",
       "      <th>start_counter</th>\n",
       "    </tr>\n",
       "  </thead>\n",
       "  <tbody>\n",
       "    <tr>\n",
       "      <th>0</th>\n",
       "      <td>0.0</td>\n",
       "      <td>0.0</td>\n",
       "      <td>0.0</td>\n",
       "      <td>0.0</td>\n",
       "      <td>0.0</td>\n",
       "      <td>500.000</td>\n",
       "      <td>328.0000</td>\n",
       "      <td>4661.128854</td>\n",
       "      <td>0.0</td>\n",
       "      <td>-2.429388</td>\n",
       "      <td>-0.646531</td>\n",
       "      <td>0.0</td>\n",
       "      <td>0.0</td>\n",
       "      <td>4270</td>\n",
       "    </tr>\n",
       "    <tr>\n",
       "      <th>1</th>\n",
       "      <td>0.0</td>\n",
       "      <td>0.0</td>\n",
       "      <td>0.0</td>\n",
       "      <td>0.0</td>\n",
       "      <td>0.0</td>\n",
       "      <td>500.000</td>\n",
       "      <td>328.0000</td>\n",
       "      <td>638.376930</td>\n",
       "      <td>0.0</td>\n",
       "      <td>0.235102</td>\n",
       "      <td>-3.353469</td>\n",
       "      <td>0.0</td>\n",
       "      <td>0.0</td>\n",
       "      <td>4466</td>\n",
       "    </tr>\n",
       "    <tr>\n",
       "      <th>2</th>\n",
       "      <td>0.0</td>\n",
       "      <td>0.0</td>\n",
       "      <td>0.0</td>\n",
       "      <td>0.0</td>\n",
       "      <td>0.0</td>\n",
       "      <td>500.000</td>\n",
       "      <td>328.0000</td>\n",
       "      <td>4558.793778</td>\n",
       "      <td>0.0</td>\n",
       "      <td>-1.766531</td>\n",
       "      <td>1.933061</td>\n",
       "      <td>0.0</td>\n",
       "      <td>0.0</td>\n",
       "      <td>7159</td>\n",
       "    </tr>\n",
       "    <tr>\n",
       "      <th>3</th>\n",
       "      <td>0.0</td>\n",
       "      <td>0.0</td>\n",
       "      <td>0.0</td>\n",
       "      <td>0.0</td>\n",
       "      <td>0.0</td>\n",
       "      <td>500.000</td>\n",
       "      <td>328.0000</td>\n",
       "      <td>4717.302732</td>\n",
       "      <td>0.0</td>\n",
       "      <td>3.141224</td>\n",
       "      <td>0.365714</td>\n",
       "      <td>0.0</td>\n",
       "      <td>0.0</td>\n",
       "      <td>109</td>\n",
       "    </tr>\n",
       "    <tr>\n",
       "      <th>4</th>\n",
       "      <td>0.0</td>\n",
       "      <td>0.0</td>\n",
       "      <td>0.0</td>\n",
       "      <td>0.0</td>\n",
       "      <td>0.0</td>\n",
       "      <td>500.000</td>\n",
       "      <td>328.0000</td>\n",
       "      <td>1018.824480</td>\n",
       "      <td>0.0</td>\n",
       "      <td>-1.564082</td>\n",
       "      <td>-3.340408</td>\n",
       "      <td>0.0</td>\n",
       "      <td>0.0</td>\n",
       "      <td>2883</td>\n",
       "    </tr>\n",
       "    <tr>\n",
       "      <th>...</th>\n",
       "      <td>...</td>\n",
       "      <td>...</td>\n",
       "      <td>...</td>\n",
       "      <td>...</td>\n",
       "      <td>...</td>\n",
       "      <td>...</td>\n",
       "      <td>...</td>\n",
       "      <td>...</td>\n",
       "      <td>...</td>\n",
       "      <td>...</td>\n",
       "      <td>...</td>\n",
       "      <td>...</td>\n",
       "      <td>...</td>\n",
       "      <td>...</td>\n",
       "    </tr>\n",
       "    <tr>\n",
       "      <th>627772</th>\n",
       "      <td>0.0</td>\n",
       "      <td>0.0</td>\n",
       "      <td>0.0</td>\n",
       "      <td>0.0</td>\n",
       "      <td>0.0</td>\n",
       "      <td>7178.760</td>\n",
       "      <td>1076.8140</td>\n",
       "      <td>3453.558498</td>\n",
       "      <td>0.0</td>\n",
       "      <td>-2.213878</td>\n",
       "      <td>-2.099592</td>\n",
       "      <td>0.0</td>\n",
       "      <td>0.0</td>\n",
       "      <td>10309</td>\n",
       "    </tr>\n",
       "    <tr>\n",
       "      <th>627773</th>\n",
       "      <td>0.0</td>\n",
       "      <td>0.0</td>\n",
       "      <td>0.0</td>\n",
       "      <td>0.0</td>\n",
       "      <td>0.0</td>\n",
       "      <td>7178.760</td>\n",
       "      <td>1076.8140</td>\n",
       "      <td>3892.477356</td>\n",
       "      <td>0.0</td>\n",
       "      <td>-0.143673</td>\n",
       "      <td>1.975510</td>\n",
       "      <td>0.0</td>\n",
       "      <td>0.0</td>\n",
       "      <td>11407</td>\n",
       "    </tr>\n",
       "    <tr>\n",
       "      <th>627774</th>\n",
       "      <td>0.0</td>\n",
       "      <td>0.0</td>\n",
       "      <td>0.0</td>\n",
       "      <td>0.0</td>\n",
       "      <td>0.0</td>\n",
       "      <td>7178.760</td>\n",
       "      <td>1076.8140</td>\n",
       "      <td>1073.709054</td>\n",
       "      <td>0.0</td>\n",
       "      <td>-3.585306</td>\n",
       "      <td>-1.071020</td>\n",
       "      <td>0.0</td>\n",
       "      <td>0.0</td>\n",
       "      <td>10644</td>\n",
       "    </tr>\n",
       "    <tr>\n",
       "      <th>627775</th>\n",
       "      <td>0.0</td>\n",
       "      <td>0.0</td>\n",
       "      <td>0.0</td>\n",
       "      <td>0.0</td>\n",
       "      <td>0.0</td>\n",
       "      <td>7183.688</td>\n",
       "      <td>1077.5532</td>\n",
       "      <td>1091.313540</td>\n",
       "      <td>0.0</td>\n",
       "      <td>-1.658776</td>\n",
       "      <td>1.498776</td>\n",
       "      <td>0.0</td>\n",
       "      <td>0.0</td>\n",
       "      <td>90</td>\n",
       "    </tr>\n",
       "    <tr>\n",
       "      <th>627776</th>\n",
       "      <td>0.0</td>\n",
       "      <td>0.0</td>\n",
       "      <td>0.0</td>\n",
       "      <td>0.0</td>\n",
       "      <td>0.0</td>\n",
       "      <td>7183.688</td>\n",
       "      <td>1077.5532</td>\n",
       "      <td>3714.196788</td>\n",
       "      <td>0.0</td>\n",
       "      <td>-3.395918</td>\n",
       "      <td>-0.453878</td>\n",
       "      <td>0.0</td>\n",
       "      <td>0.0</td>\n",
       "      <td>8581</td>\n",
       "    </tr>\n",
       "  </tbody>\n",
       "</table>\n",
       "<p>627777 rows × 14 columns</p>\n",
       "</div>"
      ],
      "text/plain": [
       "        x (nm)  y (nm)  z (nm)  mc (Da)  mc_uc (Da)  high_voltage (V)  \\\n",
       "0          0.0     0.0     0.0      0.0         0.0           500.000   \n",
       "1          0.0     0.0     0.0      0.0         0.0           500.000   \n",
       "2          0.0     0.0     0.0      0.0         0.0           500.000   \n",
       "3          0.0     0.0     0.0      0.0         0.0           500.000   \n",
       "4          0.0     0.0     0.0      0.0         0.0           500.000   \n",
       "...        ...     ...     ...      ...         ...               ...   \n",
       "627772     0.0     0.0     0.0      0.0         0.0          7178.760   \n",
       "627773     0.0     0.0     0.0      0.0         0.0          7178.760   \n",
       "627774     0.0     0.0     0.0      0.0         0.0          7178.760   \n",
       "627775     0.0     0.0     0.0      0.0         0.0          7183.688   \n",
       "627776     0.0     0.0     0.0      0.0         0.0          7183.688   \n",
       "\n",
       "            pulse       t (ns)  t_c (ns)  x_det (cm)  y_det (cm)  delta_p  \\\n",
       "0        328.0000  4661.128854       0.0   -2.429388   -0.646531      0.0   \n",
       "1        328.0000   638.376930       0.0    0.235102   -3.353469      0.0   \n",
       "2        328.0000  4558.793778       0.0   -1.766531    1.933061      0.0   \n",
       "3        328.0000  4717.302732       0.0    3.141224    0.365714      0.0   \n",
       "4        328.0000  1018.824480       0.0   -1.564082   -3.340408      0.0   \n",
       "...           ...          ...       ...         ...         ...      ...   \n",
       "627772  1076.8140  3453.558498       0.0   -2.213878   -2.099592      0.0   \n",
       "627773  1076.8140  3892.477356       0.0   -0.143673    1.975510      0.0   \n",
       "627774  1076.8140  1073.709054       0.0   -3.585306   -1.071020      0.0   \n",
       "627775  1077.5532  1091.313540       0.0   -1.658776    1.498776      0.0   \n",
       "627776  1077.5532  3714.196788       0.0   -3.395918   -0.453878      0.0   \n",
       "\n",
       "        multi  start_counter  \n",
       "0         0.0           4270  \n",
       "1         0.0           4466  \n",
       "2         0.0           7159  \n",
       "3         0.0            109  \n",
       "4         0.0           2883  \n",
       "...       ...            ...  \n",
       "627772    0.0          10309  \n",
       "627773    0.0          11407  \n",
       "627774    0.0          10644  \n",
       "627775    0.0             90  \n",
       "627776    0.0           8581  \n",
       "\n",
       "[627777 rows x 14 columns]"
      ]
     },
     "metadata": {},
     "output_type": "display_data"
    },
    {
     "data": {
      "text/html": [
       "<div>\n",
       "<style scoped>\n",
       "    .dataframe tbody tr th:only-of-type {\n",
       "        vertical-align: middle;\n",
       "    }\n",
       "\n",
       "    .dataframe tbody tr th {\n",
       "        vertical-align: top;\n",
       "    }\n",
       "\n",
       "    .dataframe thead th {\n",
       "        text-align: right;\n",
       "    }\n",
       "</style>\n",
       "<table border=\"1\" class=\"dataframe\">\n",
       "  <thead>\n",
       "    <tr style=\"text-align: right;\">\n",
       "      <th></th>\n",
       "      <th>name</th>\n",
       "      <th>ion</th>\n",
       "      <th>mass</th>\n",
       "      <th>mc</th>\n",
       "      <th>mc_low</th>\n",
       "      <th>mc_up</th>\n",
       "      <th>color</th>\n",
       "      <th>element</th>\n",
       "      <th>complex</th>\n",
       "      <th>isotope</th>\n",
       "      <th>charge</th>\n",
       "    </tr>\n",
       "  </thead>\n",
       "  <tbody>\n",
       "    <tr>\n",
       "      <th>0</th>\n",
       "      <td>unranged0</td>\n",
       "      <td>un</td>\n",
       "      <td>0.0</td>\n",
       "      <td>0.0</td>\n",
       "      <td>0.0</td>\n",
       "      <td>400.0</td>\n",
       "      <td>#000000</td>\n",
       "      <td>[unranged]</td>\n",
       "      <td>[0]</td>\n",
       "      <td>[0]</td>\n",
       "      <td>0</td>\n",
       "    </tr>\n",
       "  </tbody>\n",
       "</table>\n",
       "</div>"
      ],
      "text/plain": [
       "        name ion  mass   mc  mc_low  mc_up    color     element complex  \\\n",
       "0  unranged0  un   0.0  0.0     0.0  400.0  #000000  [unranged]     [0]   \n",
       "\n",
       "  isotope  charge  \n",
       "0     [0]       0  "
      ]
     },
     "metadata": {},
     "output_type": "display_data"
    }
   ],
   "source": [
    "helper_data_loader.load_data(dataset_path, max_mc.value, flight_path_length.value, pulse_mode.value, tdc.value, variables)\n",
    "data_tools.extract_data(variables.data, variables, flight_path_length.value, max_mc.value)\n",
    "display(variables.data)\n",
    "display(variables.range_data)"
   ]
  },
  {
   "cell_type": "markdown",
   "metadata": {},
   "source": [
    "<div style=\"margin: 0 auto; padding: 20px;\">\n",
    "\n",
    "Load a pre saved range file if you want from cell below\n",
    "</div>\n"
   ]
  },
  {
   "cell_type": "code",
   "execution_count": 6,
   "metadata": {
    "tags": []
   },
   "outputs": [
    {
     "data": {
      "application/vnd.jupyter.widget-view+json": {
       "model_id": "cd9b6dc71e524f6a9154ffa3bccb1763",
       "version_major": 2,
       "version_minor": 0
      },
      "text/plain": [
       "Button(description='load range dataset', style=ButtonStyle())"
      ]
     },
     "execution_count": 6,
     "metadata": {},
     "output_type": "execute_result"
    }
   ],
   "source": [
    "button_r = widgets.Button(description='load range dataset')\n",
    "\n",
    "@button_r.on_click\n",
    "def open_file_on_click_r(b):\n",
    "    global range_path\n",
    "    folder_path = variables.last_directory\n",
    "    script = '..//..//data_tools//run_dataset_path_qt.py'\n",
    "    cmd = f\"python {script} {folder_path}\"\n",
    "    result = subprocess.run(cmd, capture_output=True, text=True, shell=True)\n",
    "    range_path = result.stdout.strip()\n",
    "    variables.last_directory = range_path\n",
    "\n",
    "button_r"
   ]
  },
  {
   "cell_type": "code",
   "execution_count": 7,
   "metadata": {
    "tags": []
   },
   "outputs": [
    {
     "data": {
      "text/html": [
       "<div>\n",
       "<style scoped>\n",
       "    .dataframe tbody tr th:only-of-type {\n",
       "        vertical-align: middle;\n",
       "    }\n",
       "\n",
       "    .dataframe tbody tr th {\n",
       "        vertical-align: top;\n",
       "    }\n",
       "\n",
       "    .dataframe thead th {\n",
       "        text-align: right;\n",
       "    }\n",
       "</style>\n",
       "<table border=\"1\" class=\"dataframe\">\n",
       "  <thead>\n",
       "    <tr style=\"text-align: right;\">\n",
       "      <th></th>\n",
       "      <th>name</th>\n",
       "      <th>ion</th>\n",
       "      <th>mass</th>\n",
       "      <th>mc</th>\n",
       "      <th>mc_low</th>\n",
       "      <th>mc_up</th>\n",
       "      <th>color</th>\n",
       "      <th>element</th>\n",
       "      <th>complex</th>\n",
       "      <th>isotope</th>\n",
       "      <th>charge</th>\n",
       "    </tr>\n",
       "  </thead>\n",
       "  <tbody>\n",
       "    <tr>\n",
       "      <th>0</th>\n",
       "      <td>unranged0</td>\n",
       "      <td>un</td>\n",
       "      <td>0.0</td>\n",
       "      <td>0.0</td>\n",
       "      <td>0.0</td>\n",
       "      <td>400.0</td>\n",
       "      <td>#000000</td>\n",
       "      <td>[unranged]</td>\n",
       "      <td>[0]</td>\n",
       "      <td>[0]</td>\n",
       "      <td>0</td>\n",
       "    </tr>\n",
       "  </tbody>\n",
       "</table>\n",
       "</div>"
      ],
      "text/plain": [
       "        name ion  mass   mc  mc_low  mc_up    color     element complex  \\\n",
       "0  unranged0  un   0.0  0.0     0.0  400.0  #000000  [unranged]     [0]   \n",
       "\n",
       "  isotope  charge  \n",
       "0     [0]       0  "
      ]
     },
     "metadata": {},
     "output_type": "display_data"
    }
   ],
   "source": [
    "if 'range_path' in globals():\n",
    "    _, file_extension = os.path.splitext(range_path)\n",
    "    if file_extension == '.rrng':\n",
    "        variables.range_data = read_rrng(range_path)\n",
    "    else:\n",
    "        variables.range_data = pd.read_hdf(range_path, mode='r')\n",
    "display(variables.range_data)"
   ]
  },
  {
   "cell_type": "markdown",
   "metadata": {
    "tags": []
   },
   "source": [
    "<div style=\"margin: 0 auto; padding: 20px;\">\n",
    "\n",
    "# Temporal crop\n",
    "\n",
    "Select the data by drawing a rectangle over the experiment history. Experiment history is a 2D histogram of the time of flight of the ions versus sequence of evaporation. The experiment history is plotted by clicking on the button below te cell.\n",
    "</div>\n"
   ]
  },
  {
   "cell_type": "code",
   "execution_count": 8,
   "metadata": {
    "tags": []
   },
   "outputs": [
    {
     "data": {
      "application/vnd.jupyter.widget-view+json": {
       "model_id": "1862335695f54bdba6bad769e8ee915d",
       "version_major": 2,
       "version_minor": 0
      },
      "text/plain": [
       "VBox(children=(HBox(children=(Label(value='Max TOF:', layout=Layout(width='200px')), FloatText(value=5010.0)))…"
      ]
     },
     "metadata": {},
     "output_type": "display_data"
    },
    {
     "data": {
      "application/vnd.jupyter.widget-view+json": {
       "model_id": "af7e3dddfb974587bd4fa8eb9fb7bcd3",
       "version_major": 2,
       "version_minor": 0
      },
      "text/plain": [
       "Output()"
      ]
     },
     "metadata": {},
     "output_type": "display_data"
    }
   ],
   "source": [
    "helper_temporal_crop.call_plot_crop_experiment(variables, pulse_mode.value)"
   ]
  },
  {
   "cell_type": "markdown",
   "metadata": {
    "pycharm": {
     "name": "#%% md\n"
    }
   },
   "source": [
    "<div style=\"margin: 0 auto; padding: 20px; font-family: 'Helvetica', sans-serif; font-size: 16px;\">\n",
    "\n",
    "# Spatial crop\n",
    "\n",
    "Select the region of maximum concentration of Ions in the below plotted graph to utilize relevant data. To crop you can draw a circle over the filed desorption map. The field desorption map is a 2D histogram of the time of flight of the ions versus the position of the ions on the detector. The field desorption map is plotted by clicking on the button below the cell.\n",
    "</div>"
   ]
  },
  {
   "cell_type": "code",
   "execution_count": 9,
   "metadata": {
    "tags": []
   },
   "outputs": [
    {
     "data": {
      "application/vnd.jupyter.widget-view+json": {
       "model_id": "f63bd143a8834f0a84c76b8c2e214ff5",
       "version_major": 2,
       "version_minor": 0
      },
      "text/plain": [
       "VBox(children=(HBox(children=(Label(value='Fraction:', layout=Layout(width='200px')), FloatText(value=1.0))), …"
      ]
     },
     "metadata": {},
     "output_type": "display_data"
    },
    {
     "data": {
      "application/vnd.jupyter.widget-view+json": {
       "model_id": "e5a986d56980461493045ba2ce02b470",
       "version_major": 2,
       "version_minor": 0
      },
      "text/plain": [
       "Output()"
      ]
     },
     "metadata": {},
     "output_type": "display_data"
    }
   ],
   "source": [
    "helper_special_crop.call_plot_crop_fdm(variables)"
   ]
  },
  {
   "cell_type": "markdown",
   "metadata": {},
   "source": [
    "<div style=\"margin: 0 auto; padding: 20px; font-family: 'Helvetica', sans-serif; font-size: 16px;\">\n",
    "\n",
    "Calculate pulses since the last event pulse and ions per pulse. The percentage of loss in ROI selection process will be printed.\n",
    "</div>"
   ]
  },
  {
   "cell_type": "code",
   "execution_count": 10,
   "metadata": {
    "tags": []
   },
   "outputs": [
    {
     "name": "stdout",
     "output_type": "stream",
     "text": [
      "Progress: 0% complete\n",
      "Progress: 19% complete\n",
      "Progress: 39% complete\n",
      "Progress: 59% complete\n",
      "Progress: 79% complete\n",
      "Progress: 99% complete\n",
      "tof Crop Loss 28.47 %\n",
      "percentage of multihit event per pulse 10.333186359000395\n"
     ]
    }
   ],
   "source": [
    "# maximum value of the tdc counter\n",
    "if tdc.value == 'pyccapt':\n",
    "    if not (variables.data['delta_p'] != 0).any() or not (variables.data['multi'] != 0).any():\n",
    "        if (variables.data['start_counter'] != 0).any():\n",
    "            max_start_counter = max(variables.data['start_counter'])\n",
    "            # if (variables.data['pulse_pi'] == 0).all() or (variables.data['ion_pp'] == 0).all():\n",
    "            pulse_pi, ion_pp = data_loadcrop.calculate_ppi_and_ipp(variables.data, max_start_counter)\n",
    "            # add two calculated array to the croped dataset\n",
    "            variables.data['delta_p'] = pulse_pi.astype(np.uintc)\n",
    "            variables.data['multi'] = ion_pp.astype(np.uintc)\n",
    "    \n",
    "    # save the cropped data\n",
    "    print('tof Crop Loss {:.2f} %'.format((100 - (len(variables.data) / len(variables.data_backup)) * 100)))\n",
    "#percentage of double event per pulse\n",
    "ion_pp = variables.data['multi'].to_numpy()\n",
    "print('percentage of multihit event per pulse', len(ion_pp[ion_pp != 1]) / float(len(ion_pp)) * 100)"
   ]
  },
  {
   "cell_type": "markdown",
   "metadata": {},
   "source": [
    "<div style=\"margin: 0 auto; padding: 20px; font-family: 'Helvetica', sans-serif; font-size: 16px;\">\n",
    "\n",
    "In the next cell by changing the t<sub>0</sub> value you can correct the position of H<sub>1</sub> or any other known peak. this correction would be helpful for the position of the peaks in the m/c calibration process.\n",
    "</div>"
   ]
  },
  {
   "cell_type": "code",
   "execution_count": 11,
   "metadata": {},
   "outputs": [
    {
     "name": "stdout",
     "output_type": "stream",
     "text": [
      "The maximum possible time of flight is: 5010\n"
     ]
    },
    {
     "data": {
      "text/html": [
       "<div>\n",
       "<style scoped>\n",
       "    .dataframe tbody tr th:only-of-type {\n",
       "        vertical-align: middle;\n",
       "    }\n",
       "\n",
       "    .dataframe tbody tr th {\n",
       "        vertical-align: top;\n",
       "    }\n",
       "\n",
       "    .dataframe thead th {\n",
       "        text-align: right;\n",
       "    }\n",
       "</style>\n",
       "<table border=\"1\" class=\"dataframe\">\n",
       "  <thead>\n",
       "    <tr style=\"text-align: right;\">\n",
       "      <th></th>\n",
       "      <th>x (nm)</th>\n",
       "      <th>y (nm)</th>\n",
       "      <th>z (nm)</th>\n",
       "      <th>mc (Da)</th>\n",
       "      <th>mc_uc (Da)</th>\n",
       "      <th>high_voltage (V)</th>\n",
       "      <th>pulse</th>\n",
       "      <th>t (ns)</th>\n",
       "      <th>t_c (ns)</th>\n",
       "      <th>x_det (cm)</th>\n",
       "      <th>y_det (cm)</th>\n",
       "      <th>delta_p</th>\n",
       "      <th>multi</th>\n",
       "      <th>start_counter</th>\n",
       "    </tr>\n",
       "  </thead>\n",
       "  <tbody>\n",
       "    <tr>\n",
       "      <th>0</th>\n",
       "      <td>0.0</td>\n",
       "      <td>0.0</td>\n",
       "      <td>0.0</td>\n",
       "      <td>0.0</td>\n",
       "      <td>0.0</td>\n",
       "      <td>3263.544</td>\n",
       "      <td>489.5316</td>\n",
       "      <td>1122.414570</td>\n",
       "      <td>0.0</td>\n",
       "      <td>-2.494694</td>\n",
       "      <td>-0.355918</td>\n",
       "      <td>0</td>\n",
       "      <td>1</td>\n",
       "      <td>3240</td>\n",
       "    </tr>\n",
       "    <tr>\n",
       "      <th>1</th>\n",
       "      <td>0.0</td>\n",
       "      <td>0.0</td>\n",
       "      <td>0.0</td>\n",
       "      <td>0.0</td>\n",
       "      <td>0.0</td>\n",
       "      <td>3263.544</td>\n",
       "      <td>489.5316</td>\n",
       "      <td>1120.268016</td>\n",
       "      <td>0.0</td>\n",
       "      <td>-2.524082</td>\n",
       "      <td>-0.202449</td>\n",
       "      <td>8</td>\n",
       "      <td>3</td>\n",
       "      <td>3248</td>\n",
       "    </tr>\n",
       "    <tr>\n",
       "      <th>2</th>\n",
       "      <td>0.0</td>\n",
       "      <td>0.0</td>\n",
       "      <td>0.0</td>\n",
       "      <td>0.0</td>\n",
       "      <td>0.0</td>\n",
       "      <td>3263.544</td>\n",
       "      <td>489.5316</td>\n",
       "      <td>1576.832508</td>\n",
       "      <td>0.0</td>\n",
       "      <td>-2.452245</td>\n",
       "      <td>-0.039184</td>\n",
       "      <td>0</td>\n",
       "      <td>3</td>\n",
       "      <td>3248</td>\n",
       "    </tr>\n",
       "    <tr>\n",
       "      <th>3</th>\n",
       "      <td>0.0</td>\n",
       "      <td>0.0</td>\n",
       "      <td>0.0</td>\n",
       "      <td>0.0</td>\n",
       "      <td>0.0</td>\n",
       "      <td>3263.544</td>\n",
       "      <td>489.5316</td>\n",
       "      <td>1936.630620</td>\n",
       "      <td>0.0</td>\n",
       "      <td>-2.217143</td>\n",
       "      <td>-0.466939</td>\n",
       "      <td>0</td>\n",
       "      <td>3</td>\n",
       "      <td>3248</td>\n",
       "    </tr>\n",
       "    <tr>\n",
       "      <th>4</th>\n",
       "      <td>0.0</td>\n",
       "      <td>0.0</td>\n",
       "      <td>0.0</td>\n",
       "      <td>0.0</td>\n",
       "      <td>0.0</td>\n",
       "      <td>3263.544</td>\n",
       "      <td>489.5316</td>\n",
       "      <td>541.253934</td>\n",
       "      <td>0.0</td>\n",
       "      <td>2.448980</td>\n",
       "      <td>-1.064490</td>\n",
       "      <td>24</td>\n",
       "      <td>2</td>\n",
       "      <td>3272</td>\n",
       "    </tr>\n",
       "    <tr>\n",
       "      <th>...</th>\n",
       "      <td>...</td>\n",
       "      <td>...</td>\n",
       "      <td>...</td>\n",
       "      <td>...</td>\n",
       "      <td>...</td>\n",
       "      <td>...</td>\n",
       "      <td>...</td>\n",
       "      <td>...</td>\n",
       "      <td>...</td>\n",
       "      <td>...</td>\n",
       "      <td>...</td>\n",
       "      <td>...</td>\n",
       "      <td>...</td>\n",
       "      <td>...</td>\n",
       "    </tr>\n",
       "    <tr>\n",
       "      <th>449053</th>\n",
       "      <td>0.0</td>\n",
       "      <td>0.0</td>\n",
       "      <td>0.0</td>\n",
       "      <td>0.0</td>\n",
       "      <td>0.0</td>\n",
       "      <td>6035.768</td>\n",
       "      <td>905.3652</td>\n",
       "      <td>813.543966</td>\n",
       "      <td>0.0</td>\n",
       "      <td>1.440000</td>\n",
       "      <td>0.568163</td>\n",
       "      <td>5</td>\n",
       "      <td>1</td>\n",
       "      <td>2881</td>\n",
       "    </tr>\n",
       "    <tr>\n",
       "      <th>449054</th>\n",
       "      <td>0.0</td>\n",
       "      <td>0.0</td>\n",
       "      <td>0.0</td>\n",
       "      <td>0.0</td>\n",
       "      <td>0.0</td>\n",
       "      <td>6035.768</td>\n",
       "      <td>905.3652</td>\n",
       "      <td>1347.789024</td>\n",
       "      <td>0.0</td>\n",
       "      <td>-0.597551</td>\n",
       "      <td>0.963265</td>\n",
       "      <td>75</td>\n",
       "      <td>1</td>\n",
       "      <td>2956</td>\n",
       "    </tr>\n",
       "    <tr>\n",
       "      <th>449055</th>\n",
       "      <td>0.0</td>\n",
       "      <td>0.0</td>\n",
       "      <td>0.0</td>\n",
       "      <td>0.0</td>\n",
       "      <td>0.0</td>\n",
       "      <td>6035.768</td>\n",
       "      <td>905.3652</td>\n",
       "      <td>793.642050</td>\n",
       "      <td>0.0</td>\n",
       "      <td>-0.555102</td>\n",
       "      <td>-1.975510</td>\n",
       "      <td>53</td>\n",
       "      <td>1</td>\n",
       "      <td>3009</td>\n",
       "    </tr>\n",
       "    <tr>\n",
       "      <th>449056</th>\n",
       "      <td>0.0</td>\n",
       "      <td>0.0</td>\n",
       "      <td>0.0</td>\n",
       "      <td>0.0</td>\n",
       "      <td>0.0</td>\n",
       "      <td>6035.768</td>\n",
       "      <td>905.3652</td>\n",
       "      <td>1138.174254</td>\n",
       "      <td>0.0</td>\n",
       "      <td>2.697143</td>\n",
       "      <td>0.682449</td>\n",
       "      <td>96</td>\n",
       "      <td>1</td>\n",
       "      <td>3105</td>\n",
       "    </tr>\n",
       "    <tr>\n",
       "      <th>449057</th>\n",
       "      <td>0.0</td>\n",
       "      <td>0.0</td>\n",
       "      <td>0.0</td>\n",
       "      <td>0.0</td>\n",
       "      <td>0.0</td>\n",
       "      <td>6035.768</td>\n",
       "      <td>905.3652</td>\n",
       "      <td>794.368998</td>\n",
       "      <td>0.0</td>\n",
       "      <td>0.832653</td>\n",
       "      <td>0.336327</td>\n",
       "      <td>118</td>\n",
       "      <td>1</td>\n",
       "      <td>3223</td>\n",
       "    </tr>\n",
       "  </tbody>\n",
       "</table>\n",
       "<p>449058 rows × 14 columns</p>\n",
       "</div>"
      ],
      "text/plain": [
       "        x (nm)  y (nm)  z (nm)  mc (Da)  mc_uc (Da)  high_voltage (V)  \\\n",
       "0          0.0     0.0     0.0      0.0         0.0          3263.544   \n",
       "1          0.0     0.0     0.0      0.0         0.0          3263.544   \n",
       "2          0.0     0.0     0.0      0.0         0.0          3263.544   \n",
       "3          0.0     0.0     0.0      0.0         0.0          3263.544   \n",
       "4          0.0     0.0     0.0      0.0         0.0          3263.544   \n",
       "...        ...     ...     ...      ...         ...               ...   \n",
       "449053     0.0     0.0     0.0      0.0         0.0          6035.768   \n",
       "449054     0.0     0.0     0.0      0.0         0.0          6035.768   \n",
       "449055     0.0     0.0     0.0      0.0         0.0          6035.768   \n",
       "449056     0.0     0.0     0.0      0.0         0.0          6035.768   \n",
       "449057     0.0     0.0     0.0      0.0         0.0          6035.768   \n",
       "\n",
       "           pulse       t (ns)  t_c (ns)  x_det (cm)  y_det (cm)  delta_p  \\\n",
       "0       489.5316  1122.414570       0.0   -2.494694   -0.355918        0   \n",
       "1       489.5316  1120.268016       0.0   -2.524082   -0.202449        8   \n",
       "2       489.5316  1576.832508       0.0   -2.452245   -0.039184        0   \n",
       "3       489.5316  1936.630620       0.0   -2.217143   -0.466939        0   \n",
       "4       489.5316   541.253934       0.0    2.448980   -1.064490       24   \n",
       "...          ...          ...       ...         ...         ...      ...   \n",
       "449053  905.3652   813.543966       0.0    1.440000    0.568163        5   \n",
       "449054  905.3652  1347.789024       0.0   -0.597551    0.963265       75   \n",
       "449055  905.3652   793.642050       0.0   -0.555102   -1.975510       53   \n",
       "449056  905.3652  1138.174254       0.0    2.697143    0.682449       96   \n",
       "449057  905.3652   794.368998       0.0    0.832653    0.336327      118   \n",
       "\n",
       "        multi  start_counter  \n",
       "0           1           3240  \n",
       "1           3           3248  \n",
       "2           3           3248  \n",
       "3           3           3248  \n",
       "4           2           3272  \n",
       "...       ...            ...  \n",
       "449053      1           2881  \n",
       "449054      1           2956  \n",
       "449055      1           3009  \n",
       "449056      1           3105  \n",
       "449057      1           3223  \n",
       "\n",
       "[449058 rows x 14 columns]"
      ]
     },
     "execution_count": 11,
     "metadata": {},
     "output_type": "execute_result"
    }
   ],
   "source": [
    "data_tools.extract_data(variables.data, variables, flight_path_length.value, max_mc.value)\n",
    "variables.data"
   ]
  },
  {
   "cell_type": "code",
   "execution_count": 12,
   "metadata": {
    "tags": []
   },
   "outputs": [
    {
     "data": {
      "application/vnd.jupyter.widget-view+json": {
       "model_id": "dcf2ba6bd22441f79f5958964ed509ac",
       "version_major": 2,
       "version_minor": 0
      },
      "text/plain": [
       "VBox(children=(HBox(children=(Label(value='t0:', layout=Layout(width='200px')), FloatText(value=38.0))), HBox(…"
      ]
     },
     "metadata": {},
     "output_type": "display_data"
    },
    {
     "data": {
      "application/vnd.jupyter.widget-view+json": {
       "model_id": "621b1dc720f54256b56a4952a140d0d2",
       "version_major": 2,
       "version_minor": 0
      },
      "text/plain": [
       "Output()"
      ]
     },
     "metadata": {},
     "output_type": "display_data"
    }
   ],
   "source": [
    "helper_t_0_tune.call_fine_tune_t_0(variables, flight_path_length, pulse_mode, t0)"
   ]
  },
  {
   "cell_type": "markdown",
   "metadata": {},
   "source": [
    "<div style=\"margin: 0 auto; padding: 20px; font-family: 'Helvetica', sans-serif; font-size: 16px;\">\n",
    "\n",
    "Remove the data with m/c greater than max m/c and x, y, t = 0. Also add the needed colums for calibration. The data types of the final cropped dataset is displayed below.\n",
    "\n",
    "</div>"
   ]
  },
  {
   "cell_type": "code",
   "execution_count": 13,
   "metadata": {
    "tags": []
   },
   "outputs": [
    {
     "name": "stdout",
     "output_type": "stream",
     "text": [
      "The number of data over max_mc: 0\n",
      "The number of data with having t, x, and y equal to zero is: 0\n"
     ]
    },
    {
     "data": {
      "text/html": [
       "<div>\n",
       "<style scoped>\n",
       "    .dataframe tbody tr th:only-of-type {\n",
       "        vertical-align: middle;\n",
       "    }\n",
       "\n",
       "    .dataframe tbody tr th {\n",
       "        vertical-align: top;\n",
       "    }\n",
       "\n",
       "    .dataframe thead th {\n",
       "        text-align: right;\n",
       "    }\n",
       "</style>\n",
       "<table border=\"1\" class=\"dataframe\">\n",
       "  <thead>\n",
       "    <tr style=\"text-align: right;\">\n",
       "      <th></th>\n",
       "      <th>x (nm)</th>\n",
       "      <th>y (nm)</th>\n",
       "      <th>z (nm)</th>\n",
       "      <th>mc (Da)</th>\n",
       "      <th>mc_uc (Da)</th>\n",
       "      <th>high_voltage (V)</th>\n",
       "      <th>pulse</th>\n",
       "      <th>t (ns)</th>\n",
       "      <th>t_c (ns)</th>\n",
       "      <th>x_det (cm)</th>\n",
       "      <th>y_det (cm)</th>\n",
       "      <th>delta_p</th>\n",
       "      <th>multi</th>\n",
       "      <th>start_counter</th>\n",
       "    </tr>\n",
       "  </thead>\n",
       "  <tbody>\n",
       "    <tr>\n",
       "      <th>0</th>\n",
       "      <td>0.0</td>\n",
       "      <td>0.0</td>\n",
       "      <td>0.0</td>\n",
       "      <td>0.0</td>\n",
       "      <td>64.675679</td>\n",
       "      <td>3263.544</td>\n",
       "      <td>489.5316</td>\n",
       "      <td>1122.414570</td>\n",
       "      <td>0.0</td>\n",
       "      <td>-2.494694</td>\n",
       "      <td>-0.355918</td>\n",
       "      <td>0</td>\n",
       "      <td>1</td>\n",
       "      <td>3240</td>\n",
       "    </tr>\n",
       "    <tr>\n",
       "      <th>1</th>\n",
       "      <td>0.0</td>\n",
       "      <td>0.0</td>\n",
       "      <td>0.0</td>\n",
       "      <td>0.0</td>\n",
       "      <td>64.387696</td>\n",
       "      <td>3263.544</td>\n",
       "      <td>489.5316</td>\n",
       "      <td>1120.268016</td>\n",
       "      <td>0.0</td>\n",
       "      <td>-2.524082</td>\n",
       "      <td>-0.202449</td>\n",
       "      <td>8</td>\n",
       "      <td>3</td>\n",
       "      <td>3248</td>\n",
       "    </tr>\n",
       "    <tr>\n",
       "      <th>2</th>\n",
       "      <td>0.0</td>\n",
       "      <td>0.0</td>\n",
       "      <td>0.0</td>\n",
       "      <td>0.0</td>\n",
       "      <td>130.865904</td>\n",
       "      <td>3263.544</td>\n",
       "      <td>489.5316</td>\n",
       "      <td>1576.832508</td>\n",
       "      <td>0.0</td>\n",
       "      <td>-2.452245</td>\n",
       "      <td>-0.039184</td>\n",
       "      <td>0</td>\n",
       "      <td>3</td>\n",
       "      <td>3248</td>\n",
       "    </tr>\n",
       "    <tr>\n",
       "      <th>3</th>\n",
       "      <td>0.0</td>\n",
       "      <td>0.0</td>\n",
       "      <td>0.0</td>\n",
       "      <td>0.0</td>\n",
       "      <td>200.806360</td>\n",
       "      <td>3263.544</td>\n",
       "      <td>489.5316</td>\n",
       "      <td>1936.630620</td>\n",
       "      <td>0.0</td>\n",
       "      <td>-2.217143</td>\n",
       "      <td>-0.466939</td>\n",
       "      <td>0</td>\n",
       "      <td>3</td>\n",
       "      <td>3248</td>\n",
       "    </tr>\n",
       "    <tr>\n",
       "      <th>4</th>\n",
       "      <td>0.0</td>\n",
       "      <td>0.0</td>\n",
       "      <td>0.0</td>\n",
       "      <td>0.0</td>\n",
       "      <td>13.726180</td>\n",
       "      <td>3263.544</td>\n",
       "      <td>489.5316</td>\n",
       "      <td>541.253934</td>\n",
       "      <td>0.0</td>\n",
       "      <td>2.448980</td>\n",
       "      <td>-1.064490</td>\n",
       "      <td>24</td>\n",
       "      <td>2</td>\n",
       "      <td>3272</td>\n",
       "    </tr>\n",
       "    <tr>\n",
       "      <th>...</th>\n",
       "      <td>...</td>\n",
       "      <td>...</td>\n",
       "      <td>...</td>\n",
       "      <td>...</td>\n",
       "      <td>...</td>\n",
       "      <td>...</td>\n",
       "      <td>...</td>\n",
       "      <td>...</td>\n",
       "      <td>...</td>\n",
       "      <td>...</td>\n",
       "      <td>...</td>\n",
       "      <td>...</td>\n",
       "      <td>...</td>\n",
       "      <td>...</td>\n",
       "    </tr>\n",
       "    <tr>\n",
       "      <th>449053</th>\n",
       "      <td>0.0</td>\n",
       "      <td>0.0</td>\n",
       "      <td>0.0</td>\n",
       "      <td>0.0</td>\n",
       "      <td>62.953747</td>\n",
       "      <td>6035.768</td>\n",
       "      <td>905.3652</td>\n",
       "      <td>813.543966</td>\n",
       "      <td>0.0</td>\n",
       "      <td>1.440000</td>\n",
       "      <td>0.568163</td>\n",
       "      <td>5</td>\n",
       "      <td>1</td>\n",
       "      <td>2881</td>\n",
       "    </tr>\n",
       "    <tr>\n",
       "      <th>449054</th>\n",
       "      <td>0.0</td>\n",
       "      <td>0.0</td>\n",
       "      <td>0.0</td>\n",
       "      <td>0.0</td>\n",
       "      <td>181.959936</td>\n",
       "      <td>6035.768</td>\n",
       "      <td>905.3652</td>\n",
       "      <td>1347.789024</td>\n",
       "      <td>0.0</td>\n",
       "      <td>-0.597551</td>\n",
       "      <td>0.963265</td>\n",
       "      <td>75</td>\n",
       "      <td>1</td>\n",
       "      <td>2956</td>\n",
       "    </tr>\n",
       "    <tr>\n",
       "      <th>449055</th>\n",
       "      <td>0.0</td>\n",
       "      <td>0.0</td>\n",
       "      <td>0.0</td>\n",
       "      <td>0.0</td>\n",
       "      <td>58.882083</td>\n",
       "      <td>6035.768</td>\n",
       "      <td>905.3652</td>\n",
       "      <td>793.642050</td>\n",
       "      <td>0.0</td>\n",
       "      <td>-0.555102</td>\n",
       "      <td>-1.975510</td>\n",
       "      <td>53</td>\n",
       "      <td>1</td>\n",
       "      <td>3009</td>\n",
       "    </tr>\n",
       "    <tr>\n",
       "      <th>449056</th>\n",
       "      <td>0.0</td>\n",
       "      <td>0.0</td>\n",
       "      <td>0.0</td>\n",
       "      <td>0.0</td>\n",
       "      <td>121.800024</td>\n",
       "      <td>6035.768</td>\n",
       "      <td>905.3652</td>\n",
       "      <td>1138.174254</td>\n",
       "      <td>0.0</td>\n",
       "      <td>2.697143</td>\n",
       "      <td>0.682449</td>\n",
       "      <td>96</td>\n",
       "      <td>1</td>\n",
       "      <td>3105</td>\n",
       "    </tr>\n",
       "    <tr>\n",
       "      <th>449057</th>\n",
       "      <td>0.0</td>\n",
       "      <td>0.0</td>\n",
       "      <td>0.0</td>\n",
       "      <td>0.0</td>\n",
       "      <td>60.644906</td>\n",
       "      <td>6035.768</td>\n",
       "      <td>905.3652</td>\n",
       "      <td>794.368998</td>\n",
       "      <td>0.0</td>\n",
       "      <td>0.832653</td>\n",
       "      <td>0.336327</td>\n",
       "      <td>118</td>\n",
       "      <td>1</td>\n",
       "      <td>3223</td>\n",
       "    </tr>\n",
       "  </tbody>\n",
       "</table>\n",
       "<p>449058 rows × 14 columns</p>\n",
       "</div>"
      ],
      "text/plain": [
       "        x (nm)  y (nm)  z (nm)  mc (Da)  mc_uc (Da)  high_voltage (V)  \\\n",
       "0          0.0     0.0     0.0      0.0   64.675679          3263.544   \n",
       "1          0.0     0.0     0.0      0.0   64.387696          3263.544   \n",
       "2          0.0     0.0     0.0      0.0  130.865904          3263.544   \n",
       "3          0.0     0.0     0.0      0.0  200.806360          3263.544   \n",
       "4          0.0     0.0     0.0      0.0   13.726180          3263.544   \n",
       "...        ...     ...     ...      ...         ...               ...   \n",
       "449053     0.0     0.0     0.0      0.0   62.953747          6035.768   \n",
       "449054     0.0     0.0     0.0      0.0  181.959936          6035.768   \n",
       "449055     0.0     0.0     0.0      0.0   58.882083          6035.768   \n",
       "449056     0.0     0.0     0.0      0.0  121.800024          6035.768   \n",
       "449057     0.0     0.0     0.0      0.0   60.644906          6035.768   \n",
       "\n",
       "           pulse       t (ns)  t_c (ns)  x_det (cm)  y_det (cm)  delta_p  \\\n",
       "0       489.5316  1122.414570       0.0   -2.494694   -0.355918        0   \n",
       "1       489.5316  1120.268016       0.0   -2.524082   -0.202449        8   \n",
       "2       489.5316  1576.832508       0.0   -2.452245   -0.039184        0   \n",
       "3       489.5316  1936.630620       0.0   -2.217143   -0.466939        0   \n",
       "4       489.5316   541.253934       0.0    2.448980   -1.064490       24   \n",
       "...          ...          ...       ...         ...         ...      ...   \n",
       "449053  905.3652   813.543966       0.0    1.440000    0.568163        5   \n",
       "449054  905.3652  1347.789024       0.0   -0.597551    0.963265       75   \n",
       "449055  905.3652   793.642050       0.0   -0.555102   -1.975510       53   \n",
       "449056  905.3652  1138.174254       0.0    2.697143    0.682449       96   \n",
       "449057  905.3652   794.368998       0.0    0.832653    0.336327      118   \n",
       "\n",
       "        multi  start_counter  \n",
       "0           1           3240  \n",
       "1           3           3248  \n",
       "2           3           3248  \n",
       "3           3           3248  \n",
       "4           2           3272  \n",
       "...       ...            ...  \n",
       "449053      1           2881  \n",
       "449054      1           2956  \n",
       "449055      1           3009  \n",
       "449056      1           3105  \n",
       "449057      1           3223  \n",
       "\n",
       "[449058 rows x 14 columns]"
      ]
     },
     "metadata": {},
     "output_type": "display_data"
    },
    {
     "data": {
      "text/plain": [
       "x (nm)              float64\n",
       "y (nm)              float64\n",
       "z (nm)              float64\n",
       "mc (Da)             float64\n",
       "mc_uc (Da)          float64\n",
       "high_voltage (V)    float64\n",
       "pulse               float64\n",
       "t (ns)              float64\n",
       "t_c (ns)            float64\n",
       "x_det (cm)          float64\n",
       "y_det (cm)          float64\n",
       "delta_p              uint32\n",
       "multi                uint32\n",
       "start_counter        uint32\n",
       "dtype: object"
      ]
     },
     "metadata": {},
     "output_type": "display_data"
    }
   ],
   "source": [
    "# add the columns in the dataset for x, y, z, mc, mc calibrated, and t calibrated\n",
    "helper_data_loader.add_columns(variables, max_mc)\n",
    "# save data temporarily\n",
    "data_tools.save_data(variables.data, variables, hdf=True, epos=False, pos=False, csv=False, temp=True)\n",
    "display(variables.data)\n",
    "display(variables.data.dtypes)"
   ]
  },
  {
   "cell_type": "markdown",
   "metadata": {
    "jp-MarkdownHeadingCollapsed": true
   },
   "source": [
    "-------------------------------------------------------\n",
    "-------------------------------------------------------"
   ]
  },
  {
   "cell_type": "markdown",
   "metadata": {
    "tags": []
   },
   "source": [
    "<div style=\"margin: 0 auto; padding: 20px; font-family: 'Helvetica', sans-serif; font-size: 16px;\">\n",
    "\n",
    "## Time-of-Flight/Mass-to-charge Calibration\n",
    "</div>"
   ]
  },
  {
   "cell_type": "markdown",
   "metadata": {},
   "source": [
    "<div style=\"margin: 0 auto; padding: 20px; font-family: 'Helvetica', sans-serif; font-size: 16px;\">\n",
    "    \n",
    "Below you can plot the ToF histogram of the dataset. You can select the peak range of the data you want to plot by drawing a rectangle over peak with holding left click. After that you should apply the voltage and bowl calibration. These three steps should be repeated until you see no improvement in the peak resolution. You can also save the calibration by clicking on the save button. The saved calibration will be used for the next steps.\n",
    "\n",
    "</div>"
   ]
  },
  {
   "cell_type": "code",
   "execution_count": 14,
   "metadata": {
    "tags": []
   },
   "outputs": [
    {
     "name": "stdout",
     "output_type": "stream",
     "text": [
      "The maximum possible time of flight is: 5010\n"
     ]
    }
   ],
   "source": [
    "# exctract needed data from Pandas data frame as an numpy array\n",
    "data_tools.extract_data(variables.data, variables, flight_path_length.value, max_mc.value)"
   ]
  },
  {
   "cell_type": "code",
   "execution_count": 15,
   "metadata": {
    "tags": []
   },
   "outputs": [
    {
     "data": {
      "application/vnd.jupyter.widget-view+json": {
       "model_id": "772e0d1b72df45bb966efc0578e38293",
       "version_major": 2,
       "version_minor": 0
      },
      "text/plain": [
       "VBox(children=(HBox(children=(VBox(children=(FloatText(value=0.1, description='bin size:', layout=Layout(width…"
      ]
     },
     "metadata": {},
     "output_type": "display_data"
    },
    {
     "data": {
      "application/vnd.jupyter.widget-view+json": {
       "model_id": "3206a21367a5458dbe7a0a41f0bb0977",
       "version_major": 2,
       "version_minor": 0
      },
      "text/plain": [
       "VBox(children=(Output(), Output()))"
      ]
     },
     "metadata": {},
     "output_type": "display_data"
    },
    {
     "name": "stdout",
     "output_type": "stream",
     "text": [
      "cannot find the maximum for i, j: 23 -20\n",
      "cannot find the maximum for i, j: 13 -30\n",
      "cannot find the maximum for i, j: 13 -30\n",
      "cannot find the maximum for i, j: 23 -20\n",
      "cannot find the maximum for i, j: 23 -20\n",
      "cannot find the maximum for i, j: 13 -30\n",
      "cannot find the maximum for i, j: 13 -30\n",
      "cannot find the maximum for i, j: 23 -20\n",
      "cannot find the maximum for i, j: 23 -20\n",
      "cannot find the maximum for i, j: 23 -20\n",
      "cannot find the maximum for i, j: 13 -30\n",
      "cannot find the maximum for i, j: 23 -20\n",
      "cannot find the maximum for i, j: -32 -20\n",
      "cannot find the maximum for i, j: 13 -30\n"
     ]
    }
   ],
   "source": [
    "helper_calibration.call_voltage_bowl_calibration(variables, det_diam.value, flight_path_length.value, pulse_mode.value)"
   ]
  },
  {
   "cell_type": "code",
   "execution_count": 16,
   "metadata": {
    "tags": []
   },
   "outputs": [],
   "source": [
    "variables.dld_t_calib_backup = np.copy(variables.dld_t_calib)\n",
    "variables.mc_calib_backup = np.copy(variables.mc_calib)"
   ]
  },
  {
   "cell_type": "code",
   "execution_count": 17,
   "metadata": {
    "tags": []
   },
   "outputs": [
    {
     "data": {
      "application/vnd.jupyter.widget-view+json": {
       "model_id": "98ab6b4ab64e4cdfa15957c75761fcbc",
       "version_major": 2,
       "version_minor": 0
      },
      "text/plain": [
       "HBox(children=(VBox(children=(HBox(children=(Label(value='Calibration mde:', layout=Layout(width='200px')), Dr…"
      ]
     },
     "metadata": {},
     "output_type": "display_data"
    },
    {
     "data": {
      "application/vnd.jupyter.widget-view+json": {
       "model_id": "4a8ff6a054ad4bbca1789d076de7e28d",
       "version_major": 2,
       "version_minor": 0
      },
      "text/plain": [
       "HBox(children=(Output(), Output()))"
      ]
     },
     "metadata": {},
     "output_type": "display_data"
    }
   ],
   "source": [
    "helper_ion_list.call_ion_list(variables, selector='peak')"
   ]
  },
  {
   "cell_type": "code",
   "execution_count": 19,
   "metadata": {},
   "outputs": [
    {
     "name": "stdout",
     "output_type": "stream",
     "text": [
      "The number of ions with negative mc are: 0\n"
     ]
    }
   ],
   "source": [
    "variables.data['mc (Da)'] = variables.mc_calib\n",
    "variables.data['t_c (ns)'] = variables.dld_t_calib\n",
    "# Remove negative mc\n",
    "threshold = 0\n",
    "mc_t = variables.data['mc (Da)'].to_numpy()\n",
    "mc_t_mask = (mc_t <= threshold)\n",
    "print('The number of ions with negative mc are:', len(mc_t_mask[mc_t_mask==True]))\n",
    "variables.data.drop(np.where(mc_t_mask)[0], inplace=True)\n",
    "variables.data.reset_index(inplace=True, drop=True)\n",
    "# save data temporarily\n",
    "data_tools.save_data(variables.data, variables, hdf=True, epos=False, pos=False, csv=False, temp=True)"
   ]
  },
  {
   "cell_type": "code",
   "execution_count": 20,
   "metadata": {
    "tags": []
   },
   "outputs": [
    {
     "data": {
      "application/vnd.jupyter.widget-view+json": {
       "model_id": "045636268dcb4a17a6cdbb2fd0779e1c",
       "version_major": 2,
       "version_minor": 0
      },
      "text/plain": [
       "VBox(children=(HBox(children=(Label(value='target:', layout=Layout(width='200px')), Dropdown(options=(('mc', '…"
      ]
     },
     "metadata": {},
     "output_type": "display_data"
    },
    {
     "data": {
      "application/vnd.jupyter.widget-view+json": {
       "model_id": "12378a19c3f04d45abf502dd3e7d4092",
       "version_major": 2,
       "version_minor": 0
      },
      "text/plain": [
       "Output()"
      ]
     },
     "metadata": {},
     "output_type": "display_data"
    }
   ],
   "source": [
    "helper_mc_plot.call_mc_plot(variables, selector='None')"
   ]
  },
  {
   "cell_type": "markdown",
   "metadata": {},
   "source": [
    "-------------------------------------------------------\n",
    "-------------------------------------------------------"
   ]
  },
  {
   "cell_type": "markdown",
   "metadata": {
    "tags": []
   },
   "source": [
    "<div style=\"margin: 0 auto; padding: 20px; font-family: 'Helvetica', sans-serif; font-size: 16px;\">\n",
    "\n",
    "## 3D Reconstruction\n",
    "After bowl and voltage calibration we are ready to calculate the 3d reconstruction. In this workflow we calculate the reconstructed x,y,z and then plot the 3d, heatmap, projection plots and mass-to-charge histogram.\n",
    "\n",
    "</div>"
   ]
  },
  {
   "cell_type": "code",
   "execution_count": 21,
   "metadata": {
    "tags": []
   },
   "outputs": [
    {
     "name": "stdout",
     "output_type": "stream",
     "text": [
      "The maximum possible time of flight is: 5010\n"
     ]
    },
    {
     "data": {
      "text/html": [
       "<div>\n",
       "<style scoped>\n",
       "    .dataframe tbody tr th:only-of-type {\n",
       "        vertical-align: middle;\n",
       "    }\n",
       "\n",
       "    .dataframe tbody tr th {\n",
       "        vertical-align: top;\n",
       "    }\n",
       "\n",
       "    .dataframe thead th {\n",
       "        text-align: right;\n",
       "    }\n",
       "</style>\n",
       "<table border=\"1\" class=\"dataframe\">\n",
       "  <thead>\n",
       "    <tr style=\"text-align: right;\">\n",
       "      <th></th>\n",
       "      <th>x (nm)</th>\n",
       "      <th>y (nm)</th>\n",
       "      <th>z (nm)</th>\n",
       "      <th>mc (Da)</th>\n",
       "      <th>mc_uc (Da)</th>\n",
       "      <th>high_voltage (V)</th>\n",
       "      <th>pulse</th>\n",
       "      <th>t (ns)</th>\n",
       "      <th>t_c (ns)</th>\n",
       "      <th>x_det (cm)</th>\n",
       "      <th>y_det (cm)</th>\n",
       "      <th>delta_p</th>\n",
       "      <th>multi</th>\n",
       "      <th>start_counter</th>\n",
       "    </tr>\n",
       "  </thead>\n",
       "  <tbody>\n",
       "    <tr>\n",
       "      <th>0</th>\n",
       "      <td>0.0</td>\n",
       "      <td>0.0</td>\n",
       "      <td>0.0</td>\n",
       "      <td>55.261593</td>\n",
       "      <td>64.675679</td>\n",
       "      <td>3263.544</td>\n",
       "      <td>489.5316</td>\n",
       "      <td>1122.414570</td>\n",
       "      <td>1122.414570</td>\n",
       "      <td>-2.494694</td>\n",
       "      <td>-0.355918</td>\n",
       "      <td>0</td>\n",
       "      <td>1</td>\n",
       "      <td>3240</td>\n",
       "    </tr>\n",
       "    <tr>\n",
       "      <th>1</th>\n",
       "      <td>0.0</td>\n",
       "      <td>0.0</td>\n",
       "      <td>0.0</td>\n",
       "      <td>54.846865</td>\n",
       "      <td>64.387696</td>\n",
       "      <td>3263.544</td>\n",
       "      <td>489.5316</td>\n",
       "      <td>1120.268016</td>\n",
       "      <td>1120.268016</td>\n",
       "      <td>-2.524082</td>\n",
       "      <td>-0.202449</td>\n",
       "      <td>8</td>\n",
       "      <td>3</td>\n",
       "      <td>3248</td>\n",
       "    </tr>\n",
       "    <tr>\n",
       "      <th>2</th>\n",
       "      <td>0.0</td>\n",
       "      <td>0.0</td>\n",
       "      <td>0.0</td>\n",
       "      <td>110.505651</td>\n",
       "      <td>130.865904</td>\n",
       "      <td>3263.544</td>\n",
       "      <td>489.5316</td>\n",
       "      <td>1576.832508</td>\n",
       "      <td>1576.832508</td>\n",
       "      <td>-2.452245</td>\n",
       "      <td>-0.039184</td>\n",
       "      <td>0</td>\n",
       "      <td>3</td>\n",
       "      <td>3248</td>\n",
       "    </tr>\n",
       "    <tr>\n",
       "      <th>3</th>\n",
       "      <td>0.0</td>\n",
       "      <td>0.0</td>\n",
       "      <td>0.0</td>\n",
       "      <td>170.540124</td>\n",
       "      <td>200.806360</td>\n",
       "      <td>3263.544</td>\n",
       "      <td>489.5316</td>\n",
       "      <td>1936.630620</td>\n",
       "      <td>1936.630620</td>\n",
       "      <td>-2.217143</td>\n",
       "      <td>-0.466939</td>\n",
       "      <td>0</td>\n",
       "      <td>3</td>\n",
       "      <td>3248</td>\n",
       "    </tr>\n",
       "    <tr>\n",
       "      <th>4</th>\n",
       "      <td>0.0</td>\n",
       "      <td>0.0</td>\n",
       "      <td>0.0</td>\n",
       "      <td>12.158339</td>\n",
       "      <td>13.726180</td>\n",
       "      <td>3263.544</td>\n",
       "      <td>489.5316</td>\n",
       "      <td>541.253934</td>\n",
       "      <td>541.253934</td>\n",
       "      <td>2.448980</td>\n",
       "      <td>-1.064490</td>\n",
       "      <td>24</td>\n",
       "      <td>2</td>\n",
       "      <td>3272</td>\n",
       "    </tr>\n",
       "    <tr>\n",
       "      <th>...</th>\n",
       "      <td>...</td>\n",
       "      <td>...</td>\n",
       "      <td>...</td>\n",
       "      <td>...</td>\n",
       "      <td>...</td>\n",
       "      <td>...</td>\n",
       "      <td>...</td>\n",
       "      <td>...</td>\n",
       "      <td>...</td>\n",
       "      <td>...</td>\n",
       "      <td>...</td>\n",
       "      <td>...</td>\n",
       "      <td>...</td>\n",
       "      <td>...</td>\n",
       "    </tr>\n",
       "    <tr>\n",
       "      <th>449053</th>\n",
       "      <td>0.0</td>\n",
       "      <td>0.0</td>\n",
       "      <td>0.0</td>\n",
       "      <td>55.016520</td>\n",
       "      <td>62.953747</td>\n",
       "      <td>6035.768</td>\n",
       "      <td>905.3652</td>\n",
       "      <td>813.543966</td>\n",
       "      <td>813.543966</td>\n",
       "      <td>1.440000</td>\n",
       "      <td>0.568163</td>\n",
       "      <td>5</td>\n",
       "      <td>1</td>\n",
       "      <td>2881</td>\n",
       "    </tr>\n",
       "    <tr>\n",
       "      <th>449054</th>\n",
       "      <td>0.0</td>\n",
       "      <td>0.0</td>\n",
       "      <td>0.0</td>\n",
       "      <td>155.519648</td>\n",
       "      <td>181.959936</td>\n",
       "      <td>6035.768</td>\n",
       "      <td>905.3652</td>\n",
       "      <td>1347.789024</td>\n",
       "      <td>1347.789024</td>\n",
       "      <td>-0.597551</td>\n",
       "      <td>0.963265</td>\n",
       "      <td>75</td>\n",
       "      <td>1</td>\n",
       "      <td>2956</td>\n",
       "    </tr>\n",
       "    <tr>\n",
       "      <th>449055</th>\n",
       "      <td>0.0</td>\n",
       "      <td>0.0</td>\n",
       "      <td>0.0</td>\n",
       "      <td>53.299428</td>\n",
       "      <td>58.882083</td>\n",
       "      <td>6035.768</td>\n",
       "      <td>905.3652</td>\n",
       "      <td>793.642050</td>\n",
       "      <td>793.642050</td>\n",
       "      <td>-0.555102</td>\n",
       "      <td>-1.975510</td>\n",
       "      <td>53</td>\n",
       "      <td>1</td>\n",
       "      <td>3009</td>\n",
       "    </tr>\n",
       "    <tr>\n",
       "      <th>449056</th>\n",
       "      <td>0.0</td>\n",
       "      <td>0.0</td>\n",
       "      <td>0.0</td>\n",
       "      <td>106.296385</td>\n",
       "      <td>121.800024</td>\n",
       "      <td>6035.768</td>\n",
       "      <td>905.3652</td>\n",
       "      <td>1138.174254</td>\n",
       "      <td>1138.174254</td>\n",
       "      <td>2.697143</td>\n",
       "      <td>0.682449</td>\n",
       "      <td>96</td>\n",
       "      <td>1</td>\n",
       "      <td>3105</td>\n",
       "    </tr>\n",
       "    <tr>\n",
       "      <th>449057</th>\n",
       "      <td>0.0</td>\n",
       "      <td>0.0</td>\n",
       "      <td>0.0</td>\n",
       "      <td>53.060298</td>\n",
       "      <td>60.644906</td>\n",
       "      <td>6035.768</td>\n",
       "      <td>905.3652</td>\n",
       "      <td>794.368998</td>\n",
       "      <td>794.368998</td>\n",
       "      <td>0.832653</td>\n",
       "      <td>0.336327</td>\n",
       "      <td>118</td>\n",
       "      <td>1</td>\n",
       "      <td>3223</td>\n",
       "    </tr>\n",
       "  </tbody>\n",
       "</table>\n",
       "<p>449058 rows × 14 columns</p>\n",
       "</div>"
      ],
      "text/plain": [
       "        x (nm)  y (nm)  z (nm)     mc (Da)  mc_uc (Da)  high_voltage (V)  \\\n",
       "0          0.0     0.0     0.0   55.261593   64.675679          3263.544   \n",
       "1          0.0     0.0     0.0   54.846865   64.387696          3263.544   \n",
       "2          0.0     0.0     0.0  110.505651  130.865904          3263.544   \n",
       "3          0.0     0.0     0.0  170.540124  200.806360          3263.544   \n",
       "4          0.0     0.0     0.0   12.158339   13.726180          3263.544   \n",
       "...        ...     ...     ...         ...         ...               ...   \n",
       "449053     0.0     0.0     0.0   55.016520   62.953747          6035.768   \n",
       "449054     0.0     0.0     0.0  155.519648  181.959936          6035.768   \n",
       "449055     0.0     0.0     0.0   53.299428   58.882083          6035.768   \n",
       "449056     0.0     0.0     0.0  106.296385  121.800024          6035.768   \n",
       "449057     0.0     0.0     0.0   53.060298   60.644906          6035.768   \n",
       "\n",
       "           pulse       t (ns)     t_c (ns)  x_det (cm)  y_det (cm)  delta_p  \\\n",
       "0       489.5316  1122.414570  1122.414570   -2.494694   -0.355918        0   \n",
       "1       489.5316  1120.268016  1120.268016   -2.524082   -0.202449        8   \n",
       "2       489.5316  1576.832508  1576.832508   -2.452245   -0.039184        0   \n",
       "3       489.5316  1936.630620  1936.630620   -2.217143   -0.466939        0   \n",
       "4       489.5316   541.253934   541.253934    2.448980   -1.064490       24   \n",
       "...          ...          ...          ...         ...         ...      ...   \n",
       "449053  905.3652   813.543966   813.543966    1.440000    0.568163        5   \n",
       "449054  905.3652  1347.789024  1347.789024   -0.597551    0.963265       75   \n",
       "449055  905.3652   793.642050   793.642050   -0.555102   -1.975510       53   \n",
       "449056  905.3652  1138.174254  1138.174254    2.697143    0.682449       96   \n",
       "449057  905.3652   794.368998   794.368998    0.832653    0.336327      118   \n",
       "\n",
       "        multi  start_counter  \n",
       "0           1           3240  \n",
       "1           3           3248  \n",
       "2           3           3248  \n",
       "3           3           3248  \n",
       "4           2           3272  \n",
       "...       ...            ...  \n",
       "449053      1           2881  \n",
       "449054      1           2956  \n",
       "449055      1           3009  \n",
       "449056      1           3105  \n",
       "449057      1           3223  \n",
       "\n",
       "[449058 rows x 14 columns]"
      ]
     },
     "metadata": {},
     "output_type": "display_data"
    }
   ],
   "source": [
    "# exctract needed data from Pandas data frame as a numpy array\n",
    "data_tools.extract_data(variables.data, variables, flight_path_length.value, max_mc.value)\n",
    "\n",
    "display(variables.data)"
   ]
  },
  {
   "cell_type": "markdown",
   "metadata": {},
   "source": [
    "<div style=\"margin: 0 auto; padding: 20px; font-family: 'Helvetica', sans-serif; font-size: 16px;\">\n",
    "\n",
    "You have to select the main element in your sample from the from dropdown below.\n",
    "</div>"
   ]
  },
  {
   "cell_type": "code",
   "execution_count": 6,
   "metadata": {
    "tags": []
   },
   "outputs": [
    {
     "data": {
      "application/vnd.jupyter.widget-view+json": {
       "model_id": "aa8f87f259c9441db33cfd856f1e0211",
       "version_major": 2,
       "version_minor": 0
      },
      "text/plain": [
       "Dropdown(description='Element', options=((1, 'H', 52.7, 0.0), (2, 'He', 28.7, 0.0), (3, 'Li', 46.3, 14.0), (4,…"
      ]
     },
     "metadata": {},
     "output_type": "display_data"
    }
   ],
   "source": [
    "element_selected = wd.density_field_selection()\n",
    "display(element_selected)"
   ]
  },
  {
   "cell_type": "markdown",
   "metadata": {},
   "source": [
    "<div style=\"margin: 0 auto; padding: 20px; font-family: 'Helvetica', sans-serif; font-size: 16px;\">\n",
    "\n",
    "In case that yopu face error about plotly library, like javascripts error. You have check your jupyter lab version is compatibale with the plotly extenstion. Sometimes running `jupyter lab build` command fix the proble.\n",
    "</div>"
   ]
  },
  {
   "cell_type": "code",
   "execution_count": 22,
   "metadata": {
    "tags": []
   },
   "outputs": [
    {
     "data": {
      "application/vnd.jupyter.widget-view+json": {
       "model_id": "7359f75f27b341069bc3503020258b17",
       "version_major": 2,
       "version_minor": 0
      },
      "text/plain": [
       "VBox(children=(HBox(children=(Label(value='KF:', layout=Layout(width='200px')), FloatText(value=4.0, step=0.1)…"
      ]
     },
     "metadata": {},
     "output_type": "display_data"
    },
    {
     "data": {
      "application/vnd.jupyter.widget-view+json": {
       "model_id": "0a77b2d8db49466eb126d2e4f1ceedac",
       "version_major": 2,
       "version_minor": 0
      },
      "text/plain": [
       "Output()"
      ]
     },
     "metadata": {},
     "output_type": "display_data"
    }
   ],
   "source": [
    "helper_3d_reconstruction.call_x_y_z_calculation(variables, flight_path_length, element_selected=element_selected)"
   ]
  },
  {
   "cell_type": "code",
   "execution_count": 23,
   "metadata": {
    "tags": []
   },
   "outputs": [],
   "source": [
    "variables.data['x (nm)'] = variables.x\n",
    "variables.data['y (nm)'] = variables.y\n",
    "variables.data['z (nm)'] = variables.z\n",
    "# save data temporarily\n",
    "data_tools.save_data(variables.data, variables, hdf=True, epos=False, pos=False, csv=False, temp=True)"
   ]
  },
  {
   "cell_type": "markdown",
   "metadata": {},
   "source": [
    "-------------------------------------------------------\n",
    "-------------------------------------------------------"
   ]
  },
  {
   "cell_type": "markdown",
   "metadata": {},
   "source": [
    "<div style=\"margin: 0 auto; padding: 20px; font-family: 'Helvetica', sans-serif; font-size: 16px;\">\n",
    "\n",
    "## Ion Selection and Rangging\n",
    "\n",
    "Users can choose ions using peak and element finders, manually add ions, customize ion colors, and create histograms. Histograms can be generated for selected ranges and areas, and figures can be saved. Additionally, users have the option to save both statistics and  range data.\n",
    "\n",
    "</div>"
   ]
  },
  {
   "cell_type": "code",
   "execution_count": 24,
   "metadata": {
    "tags": []
   },
   "outputs": [
    {
     "name": "stdout",
     "output_type": "stream",
     "text": [
      "The maximum possible time of flight is: 12435\n"
     ]
    },
    {
     "data": {
      "text/html": [
       "<div>\n",
       "<style scoped>\n",
       "    .dataframe tbody tr th:only-of-type {\n",
       "        vertical-align: middle;\n",
       "    }\n",
       "\n",
       "    .dataframe tbody tr th {\n",
       "        vertical-align: top;\n",
       "    }\n",
       "\n",
       "    .dataframe thead th {\n",
       "        text-align: right;\n",
       "    }\n",
       "</style>\n",
       "<table border=\"1\" class=\"dataframe\">\n",
       "  <thead>\n",
       "    <tr style=\"text-align: right;\">\n",
       "      <th></th>\n",
       "      <th>x (nm)</th>\n",
       "      <th>y (nm)</th>\n",
       "      <th>z (nm)</th>\n",
       "      <th>mc (Da)</th>\n",
       "      <th>mc_uc (Da)</th>\n",
       "      <th>high_voltage (V)</th>\n",
       "      <th>pulse</th>\n",
       "      <th>t (ns)</th>\n",
       "      <th>t_c (ns)</th>\n",
       "      <th>x_det (cm)</th>\n",
       "      <th>y_det (cm)</th>\n",
       "      <th>delta_p</th>\n",
       "      <th>multi</th>\n",
       "      <th>start_counter</th>\n",
       "    </tr>\n",
       "  </thead>\n",
       "  <tbody>\n",
       "    <tr>\n",
       "      <th>0</th>\n",
       "      <td>-0.737250</td>\n",
       "      <td>1.182940</td>\n",
       "      <td>0.051610</td>\n",
       "      <td>1.004139</td>\n",
       "      <td>0.786007</td>\n",
       "      <td>7767.467773</td>\n",
       "      <td>38548.199219</td>\n",
       "      <td>231.0663</td>\n",
       "      <td>233.957082</td>\n",
       "      <td>-0.756595</td>\n",
       "      <td>1.213980</td>\n",
       "      <td>0.0</td>\n",
       "      <td>0.0</td>\n",
       "      <td>0</td>\n",
       "    </tr>\n",
       "    <tr>\n",
       "      <th>1</th>\n",
       "      <td>0.392377</td>\n",
       "      <td>-3.502594</td>\n",
       "      <td>0.330121</td>\n",
       "      <td>89.755198</td>\n",
       "      <td>76.328761</td>\n",
       "      <td>7767.467773</td>\n",
       "      <td>38548.199219</td>\n",
       "      <td>1999.5467</td>\n",
       "      <td>1999.487180</td>\n",
       "      <td>0.406925</td>\n",
       "      <td>-3.632460</td>\n",
       "      <td>0.0</td>\n",
       "      <td>0.0</td>\n",
       "      <td>0</td>\n",
       "    </tr>\n",
       "    <tr>\n",
       "      <th>2</th>\n",
       "      <td>-2.973625</td>\n",
       "      <td>-0.000772</td>\n",
       "      <td>0.235211</td>\n",
       "      <td>130.713750</td>\n",
       "      <td>110.987143</td>\n",
       "      <td>7767.467773</td>\n",
       "      <td>38548.199219</td>\n",
       "      <td>2398.2223</td>\n",
       "      <td>2407.584075</td>\n",
       "      <td>-3.072740</td>\n",
       "      <td>-0.000798</td>\n",
       "      <td>0.0</td>\n",
       "      <td>0.0</td>\n",
       "      <td>0</td>\n",
       "    </tr>\n",
       "    <tr>\n",
       "      <th>3</th>\n",
       "      <td>-0.610765</td>\n",
       "      <td>1.647124</td>\n",
       "      <td>0.083283</td>\n",
       "      <td>567.301917</td>\n",
       "      <td>479.321347</td>\n",
       "      <td>7767.467773</td>\n",
       "      <td>38548.199219</td>\n",
       "      <td>4928.1093</td>\n",
       "      <td>4987.451239</td>\n",
       "      <td>-0.627502</td>\n",
       "      <td>1.692260</td>\n",
       "      <td>0.0</td>\n",
       "      <td>0.0</td>\n",
       "      <td>0</td>\n",
       "    </tr>\n",
       "    <tr>\n",
       "      <th>4</th>\n",
       "      <td>-0.299162</td>\n",
       "      <td>2.438246</td>\n",
       "      <td>0.161727</td>\n",
       "      <td>2.532462</td>\n",
       "      <td>2.044473</td>\n",
       "      <td>7767.467773</td>\n",
       "      <td>38548.199219</td>\n",
       "      <td>353.3698</td>\n",
       "      <td>357.056217</td>\n",
       "      <td>-0.308264</td>\n",
       "      <td>2.512430</td>\n",
       "      <td>0.0</td>\n",
       "      <td>0.0</td>\n",
       "      <td>0</td>\n",
       "    </tr>\n",
       "    <tr>\n",
       "      <th>...</th>\n",
       "      <td>...</td>\n",
       "      <td>...</td>\n",
       "      <td>...</td>\n",
       "      <td>...</td>\n",
       "      <td>...</td>\n",
       "      <td>...</td>\n",
       "      <td>...</td>\n",
       "      <td>...</td>\n",
       "      <td>...</td>\n",
       "      <td>...</td>\n",
       "      <td>...</td>\n",
       "      <td>...</td>\n",
       "      <td>...</td>\n",
       "      <td>...</td>\n",
       "    </tr>\n",
       "    <tr>\n",
       "      <th>507188</th>\n",
       "      <td>0.779387</td>\n",
       "      <td>2.013662</td>\n",
       "      <td>265.263479</td>\n",
       "      <td>92.861373</td>\n",
       "      <td>78.118635</td>\n",
       "      <td>6539.762207</td>\n",
       "      <td>47708.601562</td>\n",
       "      <td>2192.0636</td>\n",
       "      <td>2033.345777</td>\n",
       "      <td>0.954383</td>\n",
       "      <td>2.465790</td>\n",
       "      <td>0.0</td>\n",
       "      <td>0.0</td>\n",
       "      <td>0</td>\n",
       "    </tr>\n",
       "    <tr>\n",
       "      <th>507189</th>\n",
       "      <td>-1.945079</td>\n",
       "      <td>-1.323470</td>\n",
       "      <td>265.291700</td>\n",
       "      <td>90.845656</td>\n",
       "      <td>77.369983</td>\n",
       "      <td>6539.762207</td>\n",
       "      <td>47708.601562</td>\n",
       "      <td>2183.5901</td>\n",
       "      <td>2011.439402</td>\n",
       "      <td>-2.384750</td>\n",
       "      <td>-1.622630</td>\n",
       "      <td>0.0</td>\n",
       "      <td>0.0</td>\n",
       "      <td>0</td>\n",
       "    </tr>\n",
       "    <tr>\n",
       "      <th>507190</th>\n",
       "      <td>1.239358</td>\n",
       "      <td>-2.259191</td>\n",
       "      <td>265.327313</td>\n",
       "      <td>92.927556</td>\n",
       "      <td>78.881532</td>\n",
       "      <td>6539.762207</td>\n",
       "      <td>47708.601562</td>\n",
       "      <td>2206.9331</td>\n",
       "      <td>2034.060981</td>\n",
       "      <td>1.521890</td>\n",
       "      <td>-2.774210</td>\n",
       "      <td>0.0</td>\n",
       "      <td>0.0</td>\n",
       "      <td>0</td>\n",
       "    </tr>\n",
       "    <tr>\n",
       "      <th>507191</th>\n",
       "      <td>0.553973</td>\n",
       "      <td>0.325295</td>\n",
       "      <td>265.132437</td>\n",
       "      <td>182.613097</td>\n",
       "      <td>154.149304</td>\n",
       "      <td>6539.762207</td>\n",
       "      <td>47708.601562</td>\n",
       "      <td>3053.0185</td>\n",
       "      <td>2840.951991</td>\n",
       "      <td>0.674327</td>\n",
       "      <td>0.395968</td>\n",
       "      <td>0.0</td>\n",
       "      <td>0.0</td>\n",
       "      <td>0</td>\n",
       "    </tr>\n",
       "    <tr>\n",
       "      <th>507192</th>\n",
       "      <td>-1.453417</td>\n",
       "      <td>-0.796094</td>\n",
       "      <td>265.206178</td>\n",
       "      <td>61.257514</td>\n",
       "      <td>51.943671</td>\n",
       "      <td>6539.762207</td>\n",
       "      <td>47708.601562</td>\n",
       "      <td>1790.1834</td>\n",
       "      <td>1656.352413</td>\n",
       "      <td>-1.774960</td>\n",
       "      <td>-0.972216</td>\n",
       "      <td>0.0</td>\n",
       "      <td>0.0</td>\n",
       "      <td>0</td>\n",
       "    </tr>\n",
       "  </tbody>\n",
       "</table>\n",
       "<p>507193 rows × 14 columns</p>\n",
       "</div>"
      ],
      "text/plain": [
       "          x (nm)    y (nm)      z (nm)     mc (Da)  mc_uc (Da)  \\\n",
       "0      -0.737250  1.182940    0.051610    1.004139    0.786007   \n",
       "1       0.392377 -3.502594    0.330121   89.755198   76.328761   \n",
       "2      -2.973625 -0.000772    0.235211  130.713750  110.987143   \n",
       "3      -0.610765  1.647124    0.083283  567.301917  479.321347   \n",
       "4      -0.299162  2.438246    0.161727    2.532462    2.044473   \n",
       "...          ...       ...         ...         ...         ...   \n",
       "507188  0.779387  2.013662  265.263479   92.861373   78.118635   \n",
       "507189 -1.945079 -1.323470  265.291700   90.845656   77.369983   \n",
       "507190  1.239358 -2.259191  265.327313   92.927556   78.881532   \n",
       "507191  0.553973  0.325295  265.132437  182.613097  154.149304   \n",
       "507192 -1.453417 -0.796094  265.206178   61.257514   51.943671   \n",
       "\n",
       "        high_voltage (V)         pulse     t (ns)     t_c (ns)  x_det (cm)  \\\n",
       "0            7767.467773  38548.199219   231.0663   233.957082   -0.756595   \n",
       "1            7767.467773  38548.199219  1999.5467  1999.487180    0.406925   \n",
       "2            7767.467773  38548.199219  2398.2223  2407.584075   -3.072740   \n",
       "3            7767.467773  38548.199219  4928.1093  4987.451239   -0.627502   \n",
       "4            7767.467773  38548.199219   353.3698   357.056217   -0.308264   \n",
       "...                  ...           ...        ...          ...         ...   \n",
       "507188       6539.762207  47708.601562  2192.0636  2033.345777    0.954383   \n",
       "507189       6539.762207  47708.601562  2183.5901  2011.439402   -2.384750   \n",
       "507190       6539.762207  47708.601562  2206.9331  2034.060981    1.521890   \n",
       "507191       6539.762207  47708.601562  3053.0185  2840.951991    0.674327   \n",
       "507192       6539.762207  47708.601562  1790.1834  1656.352413   -1.774960   \n",
       "\n",
       "        y_det (cm)  delta_p  multi  start_counter  \n",
       "0         1.213980      0.0    0.0              0  \n",
       "1        -3.632460      0.0    0.0              0  \n",
       "2        -0.000798      0.0    0.0              0  \n",
       "3         1.692260      0.0    0.0              0  \n",
       "4         2.512430      0.0    0.0              0  \n",
       "...            ...      ...    ...            ...  \n",
       "507188    2.465790      0.0    0.0              0  \n",
       "507189   -1.622630      0.0    0.0              0  \n",
       "507190   -2.774210      0.0    0.0              0  \n",
       "507191    0.395968      0.0    0.0              0  \n",
       "507192   -0.972216      0.0    0.0              0  \n",
       "\n",
       "[507193 rows x 14 columns]"
      ]
     },
     "metadata": {},
     "output_type": "display_data"
    }
   ],
   "source": [
    "# exctract needed data from Pandas data frame as an numpy array\n",
    "data_tools.extract_data(variables.data, variables, flight_path_length.value, max_mc.value)\n",
    "\n",
    "display(variables.data)"
   ]
  },
  {
   "cell_type": "code",
   "execution_count": 25,
   "metadata": {},
   "outputs": [
    {
     "data": {
      "text/plain": [
       "x (nm)              float64\n",
       "y (nm)              float64\n",
       "z (nm)              float64\n",
       "mc (Da)             float64\n",
       "mc_uc (Da)          float64\n",
       "high_voltage (V)    float64\n",
       "pulse               float64\n",
       "t (ns)              float64\n",
       "t_c (ns)            float64\n",
       "x_det (cm)          float64\n",
       "y_det (cm)          float64\n",
       "delta_p             float64\n",
       "multi               float64\n",
       "start_counter        uint32\n",
       "dtype: object"
      ]
     },
     "metadata": {},
     "output_type": "display_data"
    }
   ],
   "source": [
    "display(variables.data.dtypes)"
   ]
  },
  {
   "cell_type": "code",
   "execution_count": 26,
   "metadata": {
    "tags": []
   },
   "outputs": [
    {
     "data": {
      "application/vnd.jupyter.widget-view+json": {
       "model_id": "615ff03aa62c49f2a9d1a7a6500ca574",
       "version_major": 2,
       "version_minor": 0
      },
      "text/plain": [
       "HBox(children=(Tab(children=(VBox(children=(FloatText(value=0.1, description='bin size:'), IntText(value=1, de…"
      ]
     },
     "metadata": {},
     "output_type": "display_data"
    },
    {
     "data": {
      "application/vnd.jupyter.widget-view+json": {
       "model_id": "df502d8ea3a84c0f889ded7c538cff1c",
       "version_major": 2,
       "version_minor": 0
      },
      "text/plain": [
       "HBox(children=(Output(), VBox(children=(Output(), Output()))))"
      ]
     },
     "metadata": {},
     "output_type": "display_data"
    }
   ],
   "source": [
    "helper_ion_selection.call_ion_selection(variables)"
   ]
  },
  {
   "cell_type": "markdown",
   "metadata": {},
   "source": [
    "<div style=\"margin: 0 auto; padding: 20px; font-family: 'Helvetica', sans-serif; font-size: 16px;\">\n",
    "\n",
    "Now we can also show the color in the range dataframe\n",
    "\n",
    "</div>"
   ]
  },
  {
   "cell_type": "code",
   "execution_count": null,
   "metadata": {},
   "outputs": [],
   "source": [
    "display(variables.range_data.style.applymap(ion_selection.display_color, subset=['color']))"
   ]
  },
  {
   "cell_type": "code",
   "execution_count": null,
   "metadata": {
    "tags": []
   },
   "outputs": [],
   "source": [
    "variables.range_data.dtypes"
   ]
  },
  {
   "cell_type": "markdown",
   "metadata": {},
   "source": [
    "<div style=\"margin: 0 auto; padding: 20px; font-family: 'Helvetica', sans-serif; font-size: 16px;\">\n",
    "\n",
    "Save the range in the hdf5 and csv format.\n",
    "\n",
    "</div>"
   ]
  },
  {
   "cell_type": "code",
   "execution_count": null,
   "metadata": {},
   "outputs": [],
   "source": [
    "interact_manual_range = interact_manual.options(manual_name=\"save range\")\n",
    "interact_manual_range(data_tools.save_range, variables=fixed(variables));"
   ]
  },
  {
   "cell_type": "markdown",
   "metadata": {},
   "source": [
    "<div style=\"margin: 0 auto; padding: 20px; font-family: 'Helvetica', sans-serif; font-size: 16px;\">\n",
    "\n",
    "Save the cropped dataset. You can specify te output format from list below. The output formats are HDF5, EPOS, POS, ATO, and CSV. The output file will be saved in the same directory as the original dataset file in a new directory nammed load_crop.\n",
    "</div>"
   ]
  },
  {
   "cell_type": "code",
   "execution_count": 22,
   "metadata": {
    "tags": []
   },
   "outputs": [
    {
     "data": {
      "application/vnd.jupyter.widget-view+json": {
       "model_id": "fee8b23510944052b8e860d29ce67b61",
       "version_major": 2,
       "version_minor": 0
      },
      "text/plain": [
       "interactive(children=(Text(value='2409_Feb-14-2025_15-08_NiC6_Pd139Charged2bar', description='name'), Dropdown…"
      ]
     },
     "metadata": {},
     "output_type": "display_data"
    }
   ],
   "source": [
    "interact_manual_data = interact_manual.options(manual_name=\"save data\")\n",
    "interact_manual_data(data_tools.save_data, data=fixed(variables.data), variables=fixed(variables),\n",
    "                name=widgets.Text(value=variables.result_data_name),\n",
    "                hdf=widgets.Dropdown(options=[('True', True), ('False', False)]),\n",
    "                epos=widgets.Dropdown(options=[('False', False), ('True', True)]),\n",
    "                pos=widgets.Dropdown(options=[('False', False), ('True', True)]),\n",
    "                ato_6v=widgets.Dropdown(options=[('False', False), ('True', True)]),\n",
    "                csv=widgets.Dropdown(options=[('False', False), ('True', True)]),\n",
    "               temp=fixed(False));"
   ]
  },
  {
   "cell_type": "markdown",
   "metadata": {},
   "source": [
    "-------------------------------------------------------\n",
    "-------------------------------------------------------"
   ]
  },
  {
   "cell_type": "markdown",
   "metadata": {},
   "source": [
    "<div style=\"margin: 0 auto; padding: 20px; font-family: 'Helvetica', sans-serif; font-size: 16px;\">\n",
    "    \n",
    "# Visualization\n",
    "    \n",
    "</div>"
   ]
  },
  {
   "cell_type": "code",
   "execution_count": null,
   "metadata": {
    "tags": []
   },
   "outputs": [],
   "source": [
    "variables.data"
   ]
  },
  {
   "cell_type": "markdown",
   "metadata": {
    "tags": []
   },
   "source": [
    "# helper_visualization.call_visualization(variables)"
   ]
  },
  {
   "cell_type": "code",
   "execution_count": 28,
   "metadata": {},
   "outputs": [
    {
     "name": "stdout",
     "output_type": "stream",
     "text": [
      "The maximum possible time of flight is: 12435\n"
     ]
    }
   ],
   "source": [
    "data_tools.extract_data(variables.data, variables, flight_path_length.value, max_mc.value)"
   ]
  },
  {
   "cell_type": "code",
   "execution_count": 29,
   "metadata": {},
   "outputs": [
    {
     "data": {
      "application/vnd.jupyter.widget-view+json": {
       "model_id": "42b71f04dc1d43b095fd0c780b9fb860",
       "version_major": 2,
       "version_minor": 0
      },
      "text/plain": [
       "VBox(children=(Tab(children=(HBox(children=(VBox(children=(HBox(children=(Label(value='Target:', layout=Layout…"
      ]
     },
     "metadata": {},
     "output_type": "display_data"
    }
   ],
   "source": [
    "helper_visualization.call_visualization(variables)"
   ]
  },
  {
   "cell_type": "code",
   "execution_count": null,
   "metadata": {
    "tags": []
   },
   "outputs": [],
   "source": [
    "variables.plotly_3d_reconstruction.show()"
   ]
  },
  {
   "cell_type": "code",
   "execution_count": null,
   "metadata": {
    "tags": []
   },
   "outputs": [],
   "source": [
    "from IPython.display import display, HTML\n",
    "display(HTML(variables.animation_detector_html))"
   ]
  }
 ],
 "metadata": {
  "kernelspec": {
   "display_name": "Python 3 (ipykernel)",
   "language": "python",
   "name": "python3"
  },
  "language_info": {
   "codemirror_mode": {
    "name": "ipython",
    "version": 3
   },
   "file_extension": ".py",
   "mimetype": "text/x-python",
   "name": "python",
   "nbconvert_exporter": "python",
   "pygments_lexer": "ipython3",
   "version": "3.9.21"
  },
  "widgets": {
   "application/vnd.jupyter.widget-state+json": {
    "state": {
     "09229c91ed7e4922bfd492bb703377d4": {
      "model_module": "@jupyter-widgets/controls",
      "model_module_version": "2.0.0",
      "model_name": "DescriptionStyleModel",
      "state": {
       "description_width": ""
      }
     },
     "0cec613644d44480bdaaf291a0f4b8b0": {
      "model_module": "@jupyter-widgets/controls",
      "model_module_version": "2.0.0",
      "model_name": "ButtonModel",
      "state": {
       "description": "load dataset",
       "layout": "IPY_MODEL_4036010f33994910b46b54d647c8184d",
       "style": "IPY_MODEL_576c5349138f4e2ea9764e5ed9efccab",
       "tooltip": null
      }
     },
     "0d2eb0756c3d41b7b8109e7efb0245f2": {
      "model_module": "@jupyter-widgets/base",
      "model_module_version": "2.0.0",
      "model_name": "LayoutModel",
      "state": {
       "width": "200px"
      }
     },
     "1cdfb741a0c444bfaad227f354744482": {
      "model_module": "@jupyter-widgets/base",
      "model_module_version": "2.0.0",
      "model_name": "LayoutModel",
      "state": {}
     },
     "217fac65d2f442d99c411d2b7bab182a": {
      "model_module": "@jupyter-widgets/controls",
      "model_module_version": "2.0.0",
      "model_name": "FloatTextModel",
      "state": {
       "description": "Max mc:",
       "layout": "IPY_MODEL_75f339f4c4cd413e9ded646794ba985d",
       "step": null,
       "style": "IPY_MODEL_4ef3d11a6be14944a4dd36533884dbad",
       "value": 400
      }
     },
     "2a094dc0696f469b8275386ad5e6890a": {
      "model_module": "@jupyter-widgets/controls",
      "model_module_version": "2.0.0",
      "model_name": "FloatTextModel",
      "state": {
       "description": "Detector diameter:",
       "layout": "IPY_MODEL_1cdfb741a0c444bfaad227f354744482",
       "step": null,
       "style": "IPY_MODEL_bda4b85a59ed4a3881bbd4f37f6521dd",
       "value": 80
      }
     },
     "2e98ff932b004820a4667977f53c3fdd": {
      "model_module": "@jupyter-widgets/base",
      "model_module_version": "2.0.0",
      "model_name": "LayoutModel",
      "state": {}
     },
     "33bf8471d5504e2a9892784a938c09ed": {
      "model_module": "@jupyter-widgets/base",
      "model_module_version": "2.0.0",
      "model_name": "LayoutModel",
      "state": {}
     },
     "39d6131d3afa4004a351e2a8ebc6fb7b": {
      "model_module": "@jupyter-widgets/base",
      "model_module_version": "2.0.0",
      "model_name": "LayoutModel",
      "state": {
       "width": "200px"
      }
     },
     "4036010f33994910b46b54d647c8184d": {
      "model_module": "@jupyter-widgets/base",
      "model_module_version": "2.0.0",
      "model_name": "LayoutModel",
      "state": {}
     },
     "48dae63192a54c6fae46b8365eedf76c": {
      "model_module": "@jupyter-widgets/base",
      "model_module_version": "2.0.0",
      "model_name": "LayoutModel",
      "state": {
       "width": "200px"
      }
     },
     "4ef3d11a6be14944a4dd36533884dbad": {
      "model_module": "@jupyter-widgets/controls",
      "model_module_version": "2.0.0",
      "model_name": "DescriptionStyleModel",
      "state": {
       "description_width": ""
      }
     },
     "4f7bf3e6f8fc4f0b865e8b4de52fa3cf": {
      "model_module": "@jupyter-widgets/controls",
      "model_module_version": "2.0.0",
      "model_name": "DescriptionStyleModel",
      "state": {
       "description_width": ""
      }
     },
     "571248cd14634952a43027b0fb8019c1": {
      "model_module": "@jupyter-widgets/controls",
      "model_module_version": "2.0.0",
      "model_name": "DropdownModel",
      "state": {
       "_options_labels": [
        "voltage",
        "laser"
       ],
       "description": "Pulse mode:",
       "index": 0,
       "layout": "IPY_MODEL_a8c46409982b4fcc9fb81d98087d76e9",
       "style": "IPY_MODEL_6b1c839abaaa4facb2f8d201ac0c8a0e"
      }
     },
     "576c5349138f4e2ea9764e5ed9efccab": {
      "model_module": "@jupyter-widgets/controls",
      "model_module_version": "2.0.0",
      "model_name": "ButtonStyleModel",
      "state": {
       "font_family": null,
       "font_size": null,
       "font_style": null,
       "font_variant": null,
       "font_weight": null,
       "text_color": null,
       "text_decoration": null
      }
     },
     "57710495118a422bb66a9832f2c9c132": {
      "model_module": "@jupyter-widgets/controls",
      "model_module_version": "2.0.0",
      "model_name": "DescriptionStyleModel",
      "state": {
       "description_width": ""
      }
     },
     "5a239524686b4ed2a2e27e25df761fe5": {
      "model_module": "@jupyter-widgets/base",
      "model_module_version": "2.0.0",
      "model_name": "LayoutModel",
      "state": {
       "width": "200px"
      }
     },
     "62aa2b13e80b4e3492ca038255076bcf": {
      "model_module": "@jupyter-widgets/base",
      "model_module_version": "2.0.0",
      "model_name": "LayoutModel",
      "state": {}
     },
     "6b1c839abaaa4facb2f8d201ac0c8a0e": {
      "model_module": "@jupyter-widgets/controls",
      "model_module_version": "2.0.0",
      "model_name": "DescriptionStyleModel",
      "state": {
       "description_width": ""
      }
     },
     "6c8aafe28c1d457ca86f5398d0c15a09": {
      "model_module": "@jupyter-widgets/controls",
      "model_module_version": "2.0.0",
      "model_name": "DescriptionStyleModel",
      "state": {
       "description_width": ""
      }
     },
     "6e0685e3d61c4ffdaba41a9de1f56301": {
      "model_module": "@jupyter-widgets/controls",
      "model_module_version": "2.0.0",
      "model_name": "FloatTextModel",
      "state": {
       "description": "Flight path length:",
       "layout": "IPY_MODEL_2e98ff932b004820a4667977f53c3fdd",
       "step": null,
       "style": "IPY_MODEL_4f7bf3e6f8fc4f0b865e8b4de52fa3cf",
       "value": 380
      }
     },
     "75f339f4c4cd413e9ded646794ba985d": {
      "model_module": "@jupyter-widgets/base",
      "model_module_version": "2.0.0",
      "model_name": "LayoutModel",
      "state": {}
     },
     "a8c46409982b4fcc9fb81d98087d76e9": {
      "model_module": "@jupyter-widgets/base",
      "model_module_version": "2.0.0",
      "model_name": "LayoutModel",
      "state": {}
     },
     "aa8f87f259c9441db33cfd856f1e0211": {
      "model_module": "@jupyter-widgets/controls",
      "model_module_version": "2.0.0",
      "model_name": "DropdownModel",
      "state": {
       "_options_labels": [
        "(1, 'H', 52.7, 0.0)",
        "(2, 'He', 28.7, 0.0)",
        "(3, 'Li', 46.3, 14.0)",
        "(4, 'Be', 124.2, 53.0)",
        "(5, 'B', 137.2, 64.0)",
        "(6, 'C', 142.0, 142.0)",
        "(7, 'N', 44.5, 0.0)",
        "(8, 'O', 34.7, 0.0)",
        "(9, 'F', 53.8, 0.0)",
        "(10, 'Ne', 45.5, 0.0)",
        "(11, 'Na', 25.3, 11.0)",
        "(12, 'Mg', 43.0, 21.0)",
        "(13, 'Al', 60.2, 19.0)",
        "(14, 'Si', 49.9, 45.0)",
        "(15, 'P', 35.4, 0.0)",
        "(16, 'S', 38.8, 0.0)",
        "(17, 'Cl', 34.6, 0.0)",
        "(18, 'Ar', 26.7, 0.0)",
        "(19, 'K', 13.1, 7.0)",
        "(20, 'Ca', 23.0, 19.0)",
        "(21, 'Sc', 40.2, nan)",
        "(22, 'Ti', 56.6, 41.0)",
        "(23, 'V', 72.4, 44.0)",
        "(24, 'Cr', 83.3, 27.0)",
        "(25, 'Mn', 81.9, 30.0)",
        "(26, 'Fe', 85.0, 42.0)",
        "(27, 'Co', 90.3, 43.0)",
        "(28, 'Ni', 91.4, 35.0)",
        "(29, 'Cu', 84.7, 30.0)",
        "(30, 'Zn', 65.8, 33.0)",
        "(31, 'Ga', 51.0, 15.0)",
        "(32, 'Ge', 44.2, 35.0)",
        "(33, 'As', 46.5, 46.0)",
        "(34, 'Se', 36.7, 0.0)",
        "(35, 'Br', 30.4, 0.0)",
        "(36, 'Kr', 21.5, 0.0)",
        "(37, 'Rb', 10.8, 6.0)",
        "(38, 'Sr', 17.7, 0.0)",
        "(39, 'Y', 30.3, 40.0)",
        "(40, 'Zr', 43.0, 56.0)",
        "(41, 'Nb', 55.6, 74.0)",
        "(42, 'Mo', 64.2, 65.0)",
        "(43, 'Tc', 69.8, 0.0)",
        "(44, 'Ru', 73.7, 62.0)",
        "(45, 'Rh', 72.7, 46.0)",
        "(46, 'Pd', 70.4, 37.0)",
        "(47, 'Ag', 58.6, 24.0)",
        "(48, 'Cd', 46.3, 25.0)",
        "(49, 'In', 38.2, 12.0)",
        "(50, 'Sn', 37.0, 26.0)",
        "(51, 'Sb', 33.1, 32.0)",
        "(52, 'Te', 29.4, 0.0)",
        "(53, 'I', 23.4, 0.0)",
        "(54, 'Xe', 16.8, 0.0)",
        "(55, 'Cs', 8.5, 5.0)",
        "(56, 'Ba', 15.8, 15.0)",
        "(57, 'La', 26.9, 32.0)",
        "(58, 'Ce', 29.1, 0.0)",
        "(59, 'Pr', 29.0, 0.0)",
        "(60, 'Nd', 29.3, 0.0)",
        "(61, 'Pm', 29.8, 0.0)",
        "(62, 'Sm', 30.1, 0.0)",
        "(63, 'Eu', 20.8, 0.0)",
        "(64, 'Gd', 30.3, 0.0)",
        "(65, 'Tb', 31.2, 0.0)",
        "(66, 'Dy', 31.7, 0.0)",
        "(67, 'Ho', 32.1, 0.0)",
        "(68, 'Er', 32.6, 0.0)",
        "(69, 'Tm', 31.5, 0.0)",
        "(70, 'Yb', 24.2, 0.0)",
        "(71, 'Lu', 33.9, 0.0)",
        "(72, 'Hf', 44.8, 67.0)",
        "(73, 'Ta', 55.5, 96.0)",
        "(74, 'W', 63.6, 102.0)",
        "(75, 'Re', 68.0, 82.0)",
        "(76, 'Os', 71.5, 86.0)",
        "(77, 'Ir', 70.7, 80.0)",
        "(78, 'Pt', 66.3, 63.0)",
        "(79, 'Au', 59.0, 53.0)",
        "(80, 'Hg', 42.7, 31.0)",
        "(81, 'Tl', 35.0, 13.0)",
        "(82, 'Pb', 32.9, 20.0)",
        "(83, 'Bi', 28.3, 18.0)",
        "(84, 'Po', 26.2, 0.0)",
        "(85, 'At', 0.0, 0.0)",
        "(86, 'Rn', 11.9, 0.0)",
        "(87, 'Fr', 0.0, 0.0)",
        "(88, 'Ra', 0.0, 0.0)",
        "(89, 'Ac', 26.7, 0.0)",
        "(90, 'Th', 30.4, 0.0)",
        "(91, 'Pa', 39.7, 0.0)",
        "(92, 'U', 48.2, 0.0)",
        "(93, 'Np', 52.0, 0.0)",
        "(94, 'Pu', 49.0, 0.0)",
        "(95, 'Am', 34.2, 0.0)",
        "(96, 'Cm', 33.4, 0.0)",
        "(97, 'Bk', 35.8, 0.0)",
        "(98, 'Cf', 36.5, 0.0)",
        "(99, 'Es', 21.1, 0.0)",
        "(100, 'Fm', 0.0, 0.0)",
        "(101, 'Md', 0.0, 0.0)",
        "(102, 'No', 0.0, 0.0)",
        "(103, 'Lw', 0.0, 0.0)"
       ],
       "description": "Element",
       "index": 12,
       "layout": "IPY_MODEL_b37be47c07b44cc5b67d8a9cd5795933",
       "style": "IPY_MODEL_57710495118a422bb66a9832f2c9c132"
      }
     },
     "b088d050dcb148dd969f6d91bc78195c": {
      "model_module": "@jupyter-widgets/base",
      "model_module_version": "2.0.0",
      "model_name": "LayoutModel",
      "state": {
       "width": "200px"
      }
     },
     "b37be47c07b44cc5b67d8a9cd5795933": {
      "model_module": "@jupyter-widgets/base",
      "model_module_version": "2.0.0",
      "model_name": "LayoutModel",
      "state": {}
     },
     "bda4b85a59ed4a3881bbd4f37f6521dd": {
      "model_module": "@jupyter-widgets/controls",
      "model_module_version": "2.0.0",
      "model_name": "DescriptionStyleModel",
      "state": {
       "description_width": ""
      }
     },
     "ddf89b36629d4d00898346aa9446ab6f": {
      "model_module": "@jupyter-widgets/base",
      "model_module_version": "2.0.0",
      "model_name": "LayoutModel",
      "state": {
       "width": "200px"
      }
     },
     "de6b8a81ebc1431e933317eba5a6d13f": {
      "model_module": "@jupyter-widgets/base",
      "model_module_version": "2.0.0",
      "model_name": "LayoutModel",
      "state": {
       "width": "200px"
      }
     },
     "de8b75a6fd71446284c94691693a2256": {
      "model_module": "@jupyter-widgets/controls",
      "model_module_version": "2.0.0",
      "model_name": "DropdownModel",
      "state": {
       "_options_labels": [
        "pyccapt",
        "leap_epos",
        "leap_pos",
        "leap_apt",
        "ato_v6"
       ],
       "description": "Data mode:",
       "index": 0,
       "layout": "IPY_MODEL_33bf8471d5504e2a9892784a938c09ed",
       "style": "IPY_MODEL_6c8aafe28c1d457ca86f5398d0c15a09"
      }
     },
     "ed5ea33b5d374a01992a7b7501973815": {
      "model_module": "@jupyter-widgets/base",
      "model_module_version": "2.0.0",
      "model_name": "LayoutModel",
      "state": {
       "width": "300px"
      }
     },
     "fca33622da2b4b23b123295a5558c32f": {
      "model_module": "@jupyter-widgets/controls",
      "model_module_version": "2.0.0",
      "model_name": "FloatTextModel",
      "state": {
       "description": "t0:",
       "layout": "IPY_MODEL_62aa2b13e80b4e3492ca038255076bcf",
       "step": null,
       "style": "IPY_MODEL_09229c91ed7e4922bfd492bb703377d4",
       "value": 38
      }
     }
    },
    "version_major": 2,
    "version_minor": 0
   }
  }
 },
 "nbformat": 4,
 "nbformat_minor": 4
}

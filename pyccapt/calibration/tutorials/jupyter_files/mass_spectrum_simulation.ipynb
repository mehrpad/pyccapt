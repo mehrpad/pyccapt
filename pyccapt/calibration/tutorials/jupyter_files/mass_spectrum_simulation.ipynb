{
 "cells": [
  {
   "cell_type": "code",
   "execution_count": null,
   "id": "4f210d53-bf9e-465d-bd61-c70fed53466d",
   "metadata": {},
   "outputs": [],
   "source": [
    "import numpy as np\n",
    "import matplotlib.pyplot as plt\n",
    "\n",
    "# Arbitrary parameter values for the Gaussian function\n",
    "mu = 0.2\n",
    "sigma = 0.0001\n",
    "\n",
    "# Define the Gaussian function with mean (mu) and standard deviation (sigma)\n",
    "def gaussian(x, mu, sigma):\n",
    "    return (1 / (np.sqrt(2 * np.pi) * sigma)) * np.exp(-0.5 * ((x - mu) / sigma)**2)\n",
    "\n",
    "# Arbitrary parameter values for the exponential decay function\n",
    "A = 0.3\n",
    "B = 0.9\n",
    "\n",
    "# Define the exponential decay function\n",
    "def exp_decay(x):\n",
    "    return np.exp(A ** (x * B))\n",
    "\n",
    "# Generate a sample of x values\n",
    "x_values = np.linspace(-2, 2, 1000)\n",
    "\n",
    "# Compute the Gaussian function\n",
    "gaussian_values = gaussian(x_values, mu, sigma)\n",
    "\n",
    "# Compute the exponential decay function\n",
    "decay_values = exp_decay(x_values)\n",
    "\n",
    "# Convolve the Gaussian and exponential decay functions\n",
    "convolved_pulse = np.convolve(gaussian_values, decay_values, mode='same') \n",
    "\n",
    "# Plot the individual functions and the convolved pulse\n",
    "plt.figure(figsize=(10, 6))\n",
    "\n",
    "plt.subplot(3, 1, 1)\n",
    "plt.plot(x_values, gaussian_values, label='Gaussian Function')\n",
    "plt.legend()\n",
    "\n",
    "plt.subplot(3, 1, 2)\n",
    "plt.plot(x_values, decay_values, label='Exponential Decay Function')\n",
    "plt.legend()\n",
    "\n",
    "plt.subplot(3, 1, 3)\n",
    "plt.plot(x_values+4, convolved_pulse/max(convolved_pulse), label='Convolved Pulse')\n",
    "plt.legend()\n",
    "\n",
    "plt.tight_layout()\n",
    "plt.show()\n"
   ]
  },
  {
   "cell_type": "code",
   "execution_count": null,
   "id": "70439797-0ac0-4436-b912-bfbbc870d2fc",
   "metadata": {},
   "outputs": [],
   "source": []
  }
 ],
 "metadata": {
  "kernelspec": {
   "display_name": "Python 3 (ipykernel)",
   "language": "python",
   "name": "python3"
  },
  "language_info": {
   "codemirror_mode": {
    "name": "ipython",
    "version": 3
   },
   "file_extension": ".py",
   "mimetype": "text/x-python",
   "name": "python",
   "nbconvert_exporter": "python",
   "pygments_lexer": "ipython3",
   "version": "3.8.16"
  }
 },
 "nbformat": 4,
 "nbformat_minor": 5
}

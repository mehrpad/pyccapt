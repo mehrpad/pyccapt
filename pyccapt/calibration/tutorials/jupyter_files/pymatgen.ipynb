{
 "cells": [
  {
   "cell_type": "code",
   "execution_count": 1,
   "id": "7db6537b-28ff-4bc9-a5ef-17dd0a3559c2",
   "metadata": {
    "tags": []
   },
   "outputs": [],
   "source": [
    "from pymatgen.ext.matproj import MPRester\n",
    "\n",
    "from pymatgen.io.cif import CifParser"
   ]
  },
  {
   "cell_type": "code",
   "execution_count": 2,
   "id": "31b0fe9b-c72b-4ab9-91b5-5f1da541fc65",
   "metadata": {
    "tags": []
   },
   "outputs": [],
   "source": [
    "material = \"mp-134\"\n",
    "API_KEY = \"eWfhcw0uEaw30szQLlCVVukuc78DbAml\"\n",
    "mpr = MPRester(API_KEY)"
   ]
  },
  {
   "cell_type": "code",
   "execution_count": 3,
   "id": "c265f5f9-3b3d-41c8-b6a5-69f59050fb7b",
   "metadata": {
    "tags": []
   },
   "outputs": [
    {
     "data": {
      "application/vnd.jupyter.widget-view+json": {
       "model_id": "4dbee0c4b4ca4f6aa26726666f653fce",
       "version_major": 2,
       "version_minor": 0
      },
      "text/plain": [
       "Retrieving MaterialsDoc documents:   0%|          | 0/1 [00:00<?, ?it/s]"
      ]
     },
     "metadata": {},
     "output_type": "display_data"
    },
    {
     "name": "stdout",
     "output_type": "stream",
     "text": [
      "Full Formula (Al1)\n",
      "Reduced Formula: Al\n",
      "abc   :   2.855954   2.855954   2.855955\n",
      "angles:  60.000003  60.000003  60.000002\n",
      "pbc   :       True       True       True\n",
      "Sites (1)\n",
      "  #  SP      a    b    c    magmom\n",
      "---  ----  ---  ---  ---  --------\n",
      "  0  Al      0    0    0        -0\n"
     ]
    },
    {
     "data": {
      "application/vnd.jupyter.widget-view+json": {
       "model_id": "f9421dbbc1f84dd781c6de55945c6dde",
       "version_major": 2,
       "version_minor": 0
      },
      "text/plain": [
       "Retrieving ElectronicStructureDoc documents:   0%|          | 0/1 [00:00<?, ?it/s]"
      ]
     },
     "metadata": {},
     "output_type": "display_data"
    },
    {
     "name": "stdout",
     "output_type": "stream",
     "text": [
      "Complete DOS for Full Formula (Al1)\n",
      "Reduced Formula: Al\n",
      "abc   :   2.855955   2.855955   2.855955\n",
      "angles:  60.000000  60.000000  60.000000\n",
      "pbc   :       True       True       True\n",
      "Sites (1)\n",
      "  #  SP      a    b    c\n",
      "---  ----  ---  ---  ---\n",
      "  0  Al      0    0    0\n"
     ]
    },
    {
     "data": {
      "application/vnd.jupyter.widget-view+json": {
       "model_id": "2192594299e54296ad7e1a17f27753e3",
       "version_major": 2,
       "version_minor": 0
      },
      "text/plain": [
       "Retrieving ElectronicStructureDoc documents:   0%|          | 0/1 [00:00<?, ?it/s]"
      ]
     },
     "metadata": {},
     "output_type": "display_data"
    },
    {
     "name": "stdout",
     "output_type": "stream",
     "text": [
      "<pymatgen.electronic_structure.bandstructure.BandStructureSymmLine object at 0x00000233ED2C6D30>\n"
     ]
    }
   ],
   "source": [
    "# Structure for material id\n",
    "structure = mpr.get_structure_by_material_id(material)\n",
    "print(structure)\n",
    "# Dos for material id\n",
    "dos = mpr.get_dos_by_material_id(material)\n",
    "print(dos)\n",
    "# Bandstructure for material id\n",
    "bandstructure = mpr.get_bandstructure_by_material_id(material)\n",
    "print(bandstructure)"
   ]
  },
  {
   "cell_type": "code",
   "execution_count": 4,
   "id": "88ec83da-081f-4b5e-94c3-e3397ec199ea",
   "metadata": {
    "tags": []
   },
   "outputs": [
    {
     "name": "stdout",
     "output_type": "stream",
     "text": [
      "\u001b[1;31m---------------------------------------------------------------------------\u001b[0m\n",
      "\u001b[1;31mAttributeError\u001b[0m                            Traceback (most recent call last)\n",
      "Cell \u001b[1;32mIn[4], line 2\u001b[0m\n",
      "\u001b[0;32m      1\u001b[0m \u001b[38;5;66;03m# To get a list of data for all entries having formula Fe2O3\u001b[39;00m\n",
      "\u001b[1;32m----> 2\u001b[0m data \u001b[38;5;241m=\u001b[39m \u001b[43mmpr\u001b[49m\u001b[38;5;241;43m.\u001b[39;49m\u001b[43mget_data\u001b[49m(\u001b[38;5;124m\"\u001b[39m\u001b[38;5;124mFe2O3\u001b[39m\u001b[38;5;124m\"\u001b[39m)\n",
      "\u001b[0;32m      4\u001b[0m \u001b[38;5;66;03m# To get the energies of all entries having formula Fe2O3\u001b[39;00m\n",
      "\u001b[0;32m      5\u001b[0m energies \u001b[38;5;241m=\u001b[39m mpr\u001b[38;5;241m.\u001b[39mget_data(\u001b[38;5;124m\"\u001b[39m\u001b[38;5;124mFe2O3\u001b[39m\u001b[38;5;124m\"\u001b[39m, \u001b[38;5;124m\"\u001b[39m\u001b[38;5;124menergy\u001b[39m\u001b[38;5;124m\"\u001b[39m)\n",
      "\n",
      "File \u001b[1;32m~\\.conda\\envs\\oxcart5\\lib\\site-packages\\mp_api\\client\\mprester.py:359\u001b[0m, in \u001b[0;36mMPRester.__getattr__\u001b[1;34m(self, attr)\u001b[0m\n",
      "\u001b[0;32m    353\u001b[0m     \u001b[38;5;28;01mraise\u001b[39;00m MPRestError(\n",
      "\u001b[0;32m    354\u001b[0m         \u001b[38;5;124m\"\u001b[39m\u001b[38;5;124mboto3 not installed. \u001b[39m\u001b[38;5;124m\"\u001b[39m\n",
      "\u001b[0;32m    355\u001b[0m         \u001b[38;5;124m\"\u001b[39m\u001b[38;5;124mTo query charge density data first install with: \u001b[39m\u001b[38;5;124m'\u001b[39m\u001b[38;5;124mpip install boto3\u001b[39m\u001b[38;5;124m'\u001b[39m\u001b[38;5;124m\"\u001b[39m\n",
      "\u001b[0;32m    356\u001b[0m     )\n",
      "\u001b[0;32m    358\u001b[0m \u001b[38;5;28;01melse\u001b[39;00m:\n",
      "\u001b[1;32m--> 359\u001b[0m     \u001b[38;5;28;01mraise\u001b[39;00m \u001b[38;5;167;01mAttributeError\u001b[39;00m(\n",
      "\u001b[0;32m    360\u001b[0m         \u001b[38;5;124mf\u001b[39m\u001b[38;5;124m\"\u001b[39m\u001b[38;5;132;01m{\u001b[39;00m\u001b[38;5;28mself\u001b[39m\u001b[38;5;241m.\u001b[39m\u001b[38;5;18m__class__\u001b[39m\u001b[38;5;241m.\u001b[39m\u001b[38;5;18m__name__\u001b[39m\u001b[38;5;132;01m!r}\u001b[39;00m\u001b[38;5;124m object has no attribute \u001b[39m\u001b[38;5;132;01m{\u001b[39;00mattr\u001b[38;5;132;01m!r}\u001b[39;00m\u001b[38;5;124m\"\u001b[39m\n",
      "\u001b[0;32m    361\u001b[0m     )\n",
      "\n",
      "\u001b[1;31mAttributeError\u001b[0m: 'MPRester' object has no attribute 'get_data'\n"
     ]
    }
   ],
   "source": [
    "# To get a list of data for all entries having formula Fe2O3\n",
    "data = mpr.get_data(\"Fe2O3\")\n",
    "\n",
    "# To get the energies of all entries having formula Fe2O3\n",
    "energies = mpr.get_data(\"Fe2O3\", \"energy\")"
   ]
  },
  {
   "cell_type": "code",
   "execution_count": 21,
   "id": "c94f0d34-5388-4888-9193-40735b6c4fb7",
   "metadata": {
    "tags": []
   },
   "outputs": [
    {
     "name": "stdout",
     "output_type": "stream",
     "text": [
      "\u001b[1;31m---------------------------------------------------------------------------\u001b[0m\n",
      "\u001b[1;31mAttributeError\u001b[0m                            Traceback (most recent call last)\n",
      "Cell \u001b[1;32mIn[21], line 1\u001b[0m\n",
      "\u001b[1;32m----> 1\u001b[0m structure_cif \u001b[38;5;241m=\u001b[39m \u001b[43mmpr\u001b[49m\u001b[38;5;241;43m.\u001b[39;49m\u001b[43mget_data\u001b[49m(material, data_type \u001b[38;5;241m=\u001b[39m \u001b[38;5;124m'\u001b[39m\u001b[38;5;124m'\u001b[39m, prop\u001b[38;5;241m=\u001b[39m\u001b[38;5;124m'\u001b[39m\u001b[38;5;124mcif\u001b[39m\u001b[38;5;124m'\u001b[39m)\n",
      "\u001b[0;32m      2\u001b[0m \u001b[38;5;28mprint\u001b[39m(structure_cif)\n",
      "\n",
      "File \u001b[1;32m~\\.conda\\envs\\oxcart5\\lib\\site-packages\\mp_api\\client\\mprester.py:359\u001b[0m, in \u001b[0;36mMPRester.__getattr__\u001b[1;34m(self, attr)\u001b[0m\n",
      "\u001b[0;32m    353\u001b[0m     \u001b[38;5;28;01mraise\u001b[39;00m MPRestError(\n",
      "\u001b[0;32m    354\u001b[0m         \u001b[38;5;124m\"\u001b[39m\u001b[38;5;124mboto3 not installed. \u001b[39m\u001b[38;5;124m\"\u001b[39m\n",
      "\u001b[0;32m    355\u001b[0m         \u001b[38;5;124m\"\u001b[39m\u001b[38;5;124mTo query charge density data first install with: \u001b[39m\u001b[38;5;124m'\u001b[39m\u001b[38;5;124mpip install boto3\u001b[39m\u001b[38;5;124m'\u001b[39m\u001b[38;5;124m\"\u001b[39m\n",
      "\u001b[0;32m    356\u001b[0m     )\n",
      "\u001b[0;32m    358\u001b[0m \u001b[38;5;28;01melse\u001b[39;00m:\n",
      "\u001b[1;32m--> 359\u001b[0m     \u001b[38;5;28;01mraise\u001b[39;00m \u001b[38;5;167;01mAttributeError\u001b[39;00m(\n",
      "\u001b[0;32m    360\u001b[0m         \u001b[38;5;124mf\u001b[39m\u001b[38;5;124m\"\u001b[39m\u001b[38;5;132;01m{\u001b[39;00m\u001b[38;5;28mself\u001b[39m\u001b[38;5;241m.\u001b[39m\u001b[38;5;18m__class__\u001b[39m\u001b[38;5;241m.\u001b[39m\u001b[38;5;18m__name__\u001b[39m\u001b[38;5;132;01m!r}\u001b[39;00m\u001b[38;5;124m object has no attribute \u001b[39m\u001b[38;5;132;01m{\u001b[39;00mattr\u001b[38;5;132;01m!r}\u001b[39;00m\u001b[38;5;124m\"\u001b[39m\n",
      "\u001b[0;32m    361\u001b[0m     )\n",
      "\n",
      "\u001b[1;31mAttributeError\u001b[0m: 'MPRester' object has no attribute 'get_data'\n"
     ]
    }
   ],
   "source": [
    "structure_cif = mpr.get_data(material, data_type = '', prop='cif')\n",
    "print(structure_cif)"
   ]
  },
  {
   "cell_type": "code",
   "execution_count": null,
   "id": "a8176318-8e1f-4765-b8f8-04b4135ea180",
   "metadata": {},
   "outputs": [],
   "source": []
  }
 ],
 "metadata": {
  "kernelspec": {
   "display_name": "Python 3 (ipykernel)",
   "language": "python",
   "name": "python3"
  },
  "language_info": {
   "codemirror_mode": {
    "name": "ipython",
    "version": 3
   },
   "file_extension": ".py",
   "mimetype": "text/x-python",
   "name": "python",
   "nbconvert_exporter": "python",
   "pygments_lexer": "ipython3",
   "version": "3.8.16"
  },
  "widgets": {
   "application/vnd.jupyter.widget-state+json": {
    "state": {
     "10ba58cfee40421c875e06796efc3587": {
      "model_module": "@jupyter-widgets/controls",
      "model_module_version": "2.0.0",
      "model_name": "FloatProgressModel",
      "state": {
       "bar_style": "success",
       "layout": "IPY_MODEL_17da50f0b0b541ce96e9bdddf620832e",
       "max": 1,
       "style": "IPY_MODEL_65d5b42d2a974ae086cef8a5f2f076a2",
       "value": 1
      }
     },
     "16565e2421c04c7696923b5dad2bf00a": {
      "model_module": "@jupyter-widgets/controls",
      "model_module_version": "2.0.0",
      "model_name": "HTMLModel",
      "state": {
       "layout": "IPY_MODEL_2c1868c6314440d0b99205657803a95d",
       "style": "IPY_MODEL_2f9c7e86e3ab4d58a1a41bef086f13ee",
       "value": " 1/1 [00:00&lt;00:00, 78.50it/s]"
      }
     },
     "17da50f0b0b541ce96e9bdddf620832e": {
      "model_module": "@jupyter-widgets/base",
      "model_module_version": "2.0.0",
      "model_name": "LayoutModel",
      "state": {}
     },
     "184aac7fea124dc4b8c3014d7d1c9862": {
      "model_module": "@jupyter-widgets/base",
      "model_module_version": "2.0.0",
      "model_name": "LayoutModel",
      "state": {}
     },
     "2192594299e54296ad7e1a17f27753e3": {
      "model_module": "@jupyter-widgets/controls",
      "model_module_version": "2.0.0",
      "model_name": "HBoxModel",
      "state": {
       "children": [
        "IPY_MODEL_b17bc6d246aa479ba69c56f21ac375ee",
        "IPY_MODEL_27fd268cb42a41e6a1320f82887bab6f",
        "IPY_MODEL_32213018e3dc48818c7978741efb0f3c"
       ],
       "layout": "IPY_MODEL_bd1fa85491524fdfbdbd192dfd548282"
      }
     },
     "21eb5805b7014f16ae30f91bf320197f": {
      "model_module": "@jupyter-widgets/controls",
      "model_module_version": "2.0.0",
      "model_name": "HTMLStyleModel",
      "state": {
       "description_width": "",
       "font_size": null,
       "text_color": null
      }
     },
     "27fd268cb42a41e6a1320f82887bab6f": {
      "model_module": "@jupyter-widgets/controls",
      "model_module_version": "2.0.0",
      "model_name": "FloatProgressModel",
      "state": {
       "bar_style": "success",
       "layout": "IPY_MODEL_2bd16f4805c24f0eb206bd3e4b6b22a1",
       "max": 1,
       "style": "IPY_MODEL_d9d68d94595a4b1988baa9857f1cfebf",
       "value": 1
      }
     },
     "2bd16f4805c24f0eb206bd3e4b6b22a1": {
      "model_module": "@jupyter-widgets/base",
      "model_module_version": "2.0.0",
      "model_name": "LayoutModel",
      "state": {}
     },
     "2c1868c6314440d0b99205657803a95d": {
      "model_module": "@jupyter-widgets/base",
      "model_module_version": "2.0.0",
      "model_name": "LayoutModel",
      "state": {}
     },
     "2f9c7e86e3ab4d58a1a41bef086f13ee": {
      "model_module": "@jupyter-widgets/controls",
      "model_module_version": "2.0.0",
      "model_name": "HTMLStyleModel",
      "state": {
       "description_width": "",
       "font_size": null,
       "text_color": null
      }
     },
     "32213018e3dc48818c7978741efb0f3c": {
      "model_module": "@jupyter-widgets/controls",
      "model_module_version": "2.0.0",
      "model_name": "HTMLModel",
      "state": {
       "layout": "IPY_MODEL_a88f4229d68d47f79629f80fc8ff6f24",
       "style": "IPY_MODEL_e2c2abfa1ac643a8b8c155a102f2af52",
       "value": " 1/1 [00:00&lt;00:00, 90.91it/s]"
      }
     },
     "397e1083b37a4b298e70e8027c8122b9": {
      "model_module": "@jupyter-widgets/controls",
      "model_module_version": "2.0.0",
      "model_name": "HTMLModel",
      "state": {
       "layout": "IPY_MODEL_f7f4b6832fde482d88517dd890e34cdf",
       "style": "IPY_MODEL_e6de3719a08445e6a5453835b4f9ee3b",
       "value": "Retrieving MaterialsDoc documents: 100%"
      }
     },
     "49fbbaf9e39147abaf413d566ee94f79": {
      "model_module": "@jupyter-widgets/controls",
      "model_module_version": "2.0.0",
      "model_name": "HTMLStyleModel",
      "state": {
       "description_width": "",
       "font_size": null,
       "text_color": null
      }
     },
     "4dbee0c4b4ca4f6aa26726666f653fce": {
      "model_module": "@jupyter-widgets/controls",
      "model_module_version": "2.0.0",
      "model_name": "HBoxModel",
      "state": {
       "children": [
        "IPY_MODEL_397e1083b37a4b298e70e8027c8122b9",
        "IPY_MODEL_10ba58cfee40421c875e06796efc3587",
        "IPY_MODEL_16565e2421c04c7696923b5dad2bf00a"
       ],
       "layout": "IPY_MODEL_d793b1d29c88499aa1b18b4fde2ab568"
      }
     },
     "52442dbb78eb44f9873756edc6b92ac4": {
      "model_module": "@jupyter-widgets/controls",
      "model_module_version": "2.0.0",
      "model_name": "HTMLStyleModel",
      "state": {
       "description_width": "",
       "font_size": null,
       "text_color": null
      }
     },
     "65d5b42d2a974ae086cef8a5f2f076a2": {
      "model_module": "@jupyter-widgets/controls",
      "model_module_version": "2.0.0",
      "model_name": "ProgressStyleModel",
      "state": {
       "description_width": ""
      }
     },
     "77120347d77241e2851dcfa3ee143820": {
      "model_module": "@jupyter-widgets/base",
      "model_module_version": "2.0.0",
      "model_name": "LayoutModel",
      "state": {}
     },
     "8ca6c1555210405e8507c67817bbbe99": {
      "model_module": "@jupyter-widgets/controls",
      "model_module_version": "2.0.0",
      "model_name": "FloatProgressModel",
      "state": {
       "bar_style": "success",
       "layout": "IPY_MODEL_77120347d77241e2851dcfa3ee143820",
       "max": 1,
       "style": "IPY_MODEL_a29b16ee59484511b93b519174fd7820",
       "value": 1
      }
     },
     "9282b44a743a4fbbbb23aa0ac0689b37": {
      "model_module": "@jupyter-widgets/base",
      "model_module_version": "2.0.0",
      "model_name": "LayoutModel",
      "state": {}
     },
     "a29b16ee59484511b93b519174fd7820": {
      "model_module": "@jupyter-widgets/controls",
      "model_module_version": "2.0.0",
      "model_name": "ProgressStyleModel",
      "state": {
       "description_width": ""
      }
     },
     "a88f4229d68d47f79629f80fc8ff6f24": {
      "model_module": "@jupyter-widgets/base",
      "model_module_version": "2.0.0",
      "model_name": "LayoutModel",
      "state": {}
     },
     "b17bc6d246aa479ba69c56f21ac375ee": {
      "model_module": "@jupyter-widgets/controls",
      "model_module_version": "2.0.0",
      "model_name": "HTMLModel",
      "state": {
       "layout": "IPY_MODEL_deb4fa1fe9cf4b1bae7671590c928680",
       "style": "IPY_MODEL_52442dbb78eb44f9873756edc6b92ac4",
       "value": "Retrieving ElectronicStructureDoc documents: 100%"
      }
     },
     "b2b1ae6d9e8146acbc04c8b2eca89964": {
      "model_module": "@jupyter-widgets/base",
      "model_module_version": "2.0.0",
      "model_name": "LayoutModel",
      "state": {}
     },
     "b9d68b9e3b244276b705be7314c5c276": {
      "model_module": "@jupyter-widgets/controls",
      "model_module_version": "2.0.0",
      "model_name": "HTMLModel",
      "state": {
       "layout": "IPY_MODEL_184aac7fea124dc4b8c3014d7d1c9862",
       "style": "IPY_MODEL_21eb5805b7014f16ae30f91bf320197f",
       "value": " 1/1 [00:00&lt;00:00, 100.02it/s]"
      }
     },
     "bd1fa85491524fdfbdbd192dfd548282": {
      "model_module": "@jupyter-widgets/base",
      "model_module_version": "2.0.0",
      "model_name": "LayoutModel",
      "state": {}
     },
     "d793b1d29c88499aa1b18b4fde2ab568": {
      "model_module": "@jupyter-widgets/base",
      "model_module_version": "2.0.0",
      "model_name": "LayoutModel",
      "state": {}
     },
     "d9d68d94595a4b1988baa9857f1cfebf": {
      "model_module": "@jupyter-widgets/controls",
      "model_module_version": "2.0.0",
      "model_name": "ProgressStyleModel",
      "state": {
       "description_width": ""
      }
     },
     "deb4fa1fe9cf4b1bae7671590c928680": {
      "model_module": "@jupyter-widgets/base",
      "model_module_version": "2.0.0",
      "model_name": "LayoutModel",
      "state": {}
     },
     "e2c2abfa1ac643a8b8c155a102f2af52": {
      "model_module": "@jupyter-widgets/controls",
      "model_module_version": "2.0.0",
      "model_name": "HTMLStyleModel",
      "state": {
       "description_width": "",
       "font_size": null,
       "text_color": null
      }
     },
     "e6de3719a08445e6a5453835b4f9ee3b": {
      "model_module": "@jupyter-widgets/controls",
      "model_module_version": "2.0.0",
      "model_name": "HTMLStyleModel",
      "state": {
       "description_width": "",
       "font_size": null,
       "text_color": null
      }
     },
     "f3ab567d41124dffbc45b6e47e304761": {
      "model_module": "@jupyter-widgets/controls",
      "model_module_version": "2.0.0",
      "model_name": "HTMLModel",
      "state": {
       "layout": "IPY_MODEL_9282b44a743a4fbbbb23aa0ac0689b37",
       "style": "IPY_MODEL_49fbbaf9e39147abaf413d566ee94f79",
       "value": "Retrieving ElectronicStructureDoc documents: 100%"
      }
     },
     "f7f4b6832fde482d88517dd890e34cdf": {
      "model_module": "@jupyter-widgets/base",
      "model_module_version": "2.0.0",
      "model_name": "LayoutModel",
      "state": {}
     },
     "f9421dbbc1f84dd781c6de55945c6dde": {
      "model_module": "@jupyter-widgets/controls",
      "model_module_version": "2.0.0",
      "model_name": "HBoxModel",
      "state": {
       "children": [
        "IPY_MODEL_f3ab567d41124dffbc45b6e47e304761",
        "IPY_MODEL_8ca6c1555210405e8507c67817bbbe99",
        "IPY_MODEL_b9d68b9e3b244276b705be7314c5c276"
       ],
       "layout": "IPY_MODEL_b2b1ae6d9e8146acbc04c8b2eca89964"
      }
     }
    },
    "version_major": 2,
    "version_minor": 0
   }
  }
 },
 "nbformat": 4,
 "nbformat_minor": 5
}

{
 "cells": [
  {
   "cell_type": "markdown",
   "metadata": {
    "pycharm": {
     "name": "#%% md\n"
    }
   },
   "source": [
    "<div style=\"margin: 0 auto; padding: 20px; font-family: 'Helvetica', sans-serif; font-size: 16px;\">\n",
    "\n",
    "## Data Visualization Workflow\n",
    "\n",
    "In this workflow within PyCCAPT, we can crop the data, do the voltage and bowl calibration, calculate the 3d reconstruction, and do the ranging.\n",
    "</div>"
   ]
  },
  {
   "cell_type": "code",
   "execution_count": null,
   "metadata": {
    "pycharm": {
     "name": "#%%\n"
    },
    "tags": []
   },
   "outputs": [],
   "source": [
    "# Activate intractive functionality of matplotlib\n",
    "%matplotlib ipympl\n",
    "# Activate auto reload \n",
    "%load_ext autoreload\n",
    "%autoreload 2\n",
    "%reload_ext autoreload\n",
    "# import libraries\n",
    "import os\n",
    "import numpy as np\n",
    "import subprocess\n",
    "from ipywidgets import widgets\n",
    "from IPython.display import display\n",
    "from ipywidgets import fixed, interact_manual\n",
    "import warnings\n",
    "# Ignore all warnings\n",
    "warnings.filterwarnings(\"ignore\")\n",
    "\n",
    "# Local module and scripts\n",
    "from pyccapt.calibration.calibration import widgets as wd\n",
    "from pyccapt.calibration.data_tools import data_tools\n",
    "from pyccapt.calibration.tutorials.tutorials_helpers import helper_data_loader\n",
    "from pyccapt.calibration.tutorials.tutorials_helpers import helper_visualization\n",
    "from pyccapt.calibration.calibration import share_variables\n",
    "from pyccapt.calibration.calibration import ion_selection"
   ]
  },
  {
   "cell_type": "markdown",
   "metadata": {},
   "source": [
    "<div style=\"margin: 0 auto; padding: 20px; font-family: 'Helvetica', sans-serif; font-size: 16px;\">\n",
    "In case of recieving the error about pytable library, you have to install the pytables library with conda command. to do that you can open a new cell and copy the line below in it. Then just run it like other cells. The pytables library will be innstalled.\n",
    "    \n",
    "`!conda install --yes --prefix {sys.prefix} pytables`\n",
    "</div>\n"
   ]
  },
  {
   "cell_type": "markdown",
   "metadata": {},
   "source": [
    "<div style=\"margin: 0 auto; padding: 20px; font-family: 'Helvetica', sans-serif; font-size: 16px;\">\n",
    "In the cell below we create variable object. This object is used in many of the functions to share the data between functions in as easy way. \n",
    "</div>\n"
   ]
  },
  {
   "cell_type": "code",
   "execution_count": null,
   "metadata": {},
   "outputs": [],
   "source": [
    "variables = share_variables.Variables()"
   ]
  },
  {
   "cell_type": "markdown",
   "metadata": {},
   "source": [
    "<div style=\"margin: 0 auto; padding: 20px; font-family: 'Helvetica', sans-serif; font-size: 16px;\">\n",
    "    \n",
    "By clicking on the button below, you can select the dataset file you want to crop. The dataset file can be in various formats, including HDF5, EPOS, POS, ATO, and CSV. The cropped data will be saved in the same directory as the original dataset file in a new directory nammed load_crop. The name of the cropped dataset file will be the same as the original dataset file. The figures will be saved in the same directory as the dataset file.\n",
    "</div>"
   ]
  },
  {
   "cell_type": "code",
   "execution_count": null,
   "metadata": {
    "tags": []
   },
   "outputs": [],
   "source": [
    "button = widgets.Button(description='load dataset')\n",
    "\n",
    "@button.on_click\n",
    "def open_file_on_click_r(b):\n",
    "    global dataset_path\n",
    "    folder_path = variables.last_directory\n",
    "    script = '..//..//data_tools//run_dataset_path_qt.py'\n",
    "    cmd = f\"python {script} {folder_path}\"\n",
    "    result = subprocess.run(cmd, capture_output=True, text=True, shell=True)\n",
    "    dataset_path = result.stdout.strip()\n",
    "    variables.last_directory = dataset_path\n",
    "\n",
    "button"
   ]
  },
  {
   "cell_type": "markdown",
   "metadata": {
    "tags": []
   },
   "source": [
    "<div style=\"margin: 0 auto; padding: 20px; font-family: 'Helvetica', sans-serif; font-size: 16px;\">\n",
    "\n",
    "## ROI Selection and Data Cropping\n",
    "    \n",
    "\n",
    "</div>\n",
    "\n"
   ]
  },
  {
   "cell_type": "markdown",
   "metadata": {},
   "source": [
    "<div style=\"margin: 0 auto; padding: 20px; font-family: 'Helvetica', sans-serif; font-size: 16px;\">\n",
    "\n",
    "    \n",
    "From the dropdown lists below, you can select the instrument specifications of the dataset. The instrument specifications are the same as the ones used for the calibration process. Data mode is specify the dataset structure. The dataset can be in raw or calibrated mode. The flight path length is the distance between the sample and the detector. The t0 is the time of flight of the ions with the lowest mass-to-charge ratio. The maximum mass-to-charge ratio is the maximum mass-to-charge ratio of tat you want to plot. You can also change it in te related cells. The detector diameter is the diameter of the detector.\n",
    "</div>\n"
   ]
  },
  {
   "cell_type": "code",
   "execution_count": null,
   "metadata": {
    "tags": []
   },
   "outputs": [],
   "source": [
    "# create an object for selection of instrument specifications of the dataset\n",
    "tdc, pulse_mode, flight_path_length, t0, max_mc, det_diam = wd.dataset_instrument_specification_selection()\n",
    "\n",
    "# Display lists and comboboxes to selected instrument specifications\n",
    "display(tdc, pulse_mode, flight_path_length, t0, max_mc)"
   ]
  },
  {
   "cell_type": "code",
   "execution_count": null,
   "metadata": {
    "tags": []
   },
   "outputs": [],
   "source": [
    "helper_data_loader.load_data(dataset_path, max_mc.value, flight_path_length.value, pulse_mode.value, tdc.value, variables, processing_mode=False)\n",
    "data_tools.extract_data(variables.data, variables, flight_path_length.value, max_mc.value)\n",
    "display(variables.data)\n",
    "display(variables.range_data)"
   ]
  },
  {
   "cell_type": "markdown",
   "metadata": {},
   "source": [
    "<div style=\"margin: 0 auto; padding: 20px;\">\n",
    "\n",
    "Load a pre saved range file if you want from cell below\n",
    "</div>\n"
   ]
  },
  {
   "cell_type": "code",
   "execution_count": null,
   "metadata": {
    "tags": []
   },
   "outputs": [],
   "source": [
    "button_r = widgets.Button(description='load range dataset')\n",
    "\n",
    "@button_r.on_click\n",
    "def open_file_on_click_r(b):\n",
    "    global range_path\n",
    "    folder_path = variables.last_directory\n",
    "    script = '..//..//data_tools//run_dataset_path_qt.py'\n",
    "    cmd = f\"python {script} {folder_path}\"\n",
    "    result = subprocess.run(cmd, capture_output=True, text=True, shell=True)\n",
    "    range_path = result.stdout.strip()\n",
    "\n",
    "button_r"
   ]
  },
  {
   "cell_type": "code",
   "execution_count": null,
   "metadata": {
    "tags": []
   },
   "outputs": [],
   "source": [
    "if 'range_path' in globals():\n",
    "    variables.range_data = data_tools.read_range(range_path)"
   ]
  },
  {
   "cell_type": "code",
   "execution_count": null,
   "metadata": {},
   "outputs": [],
   "source": [
    "display(variables.range_data.style.applymap(ion_selection.display_color, subset=['color']))"
   ]
  },
  {
   "cell_type": "markdown",
   "metadata": {},
   "source": [
    "<div style=\"margin: 0 auto; padding: 20px; font-family: 'Helvetica', sans-serif; font-size: 16px;\">\n",
    "\n",
    "Save the range in the hdf5 and csv format.\n",
    "\n",
    "</div>"
   ]
  },
  {
   "cell_type": "code",
   "execution_count": null,
   "metadata": {},
   "outputs": [],
   "source": [
    "interact_manual_range = interact_manual.options(manual_name=\"save range\")\n",
    "interact_manual_range(data_tools.save_range, variables=fixed(variables));"
   ]
  },
  {
   "cell_type": "markdown",
   "metadata": {},
   "source": [
    "<div style=\"margin: 0 auto; padding: 20px; font-family: 'Helvetica', sans-serif; font-size: 16px;\">\n",
    "\n",
    "Save the dataset in any other format that you want.\n",
    "\n",
    "</div>"
   ]
  },
  {
   "cell_type": "code",
   "execution_count": null,
   "metadata": {},
   "outputs": [],
   "source": [
    "interact_manual_data = interact_manual.options(manual_name=\"save data\")\n",
    "interact_manual_data(data_tools.save_data, data=fixed(variables.data), variables=fixed(variables),\n",
    "                name=widgets.Text(value=variables.result_data_name),\n",
    "                hdf=widgets.Dropdown(options=[('True', True), ('False', False)]),\n",
    "                epos=widgets.Dropdown(options=[('False', False), ('True', True)]),\n",
    "                pos=widgets.Dropdown(options=[('False', False), ('True', True)]),\n",
    "                ato_6v=widgets.Dropdown(options=[('False', False), ('True', True)]),\n",
    "                csv=widgets.Dropdown(options=[('False', False), ('True', True)]),\n",
    "               temp=fixed(False));"
   ]
  },
  {
   "cell_type": "markdown",
   "metadata": {},
   "source": [
    "<div style=\"margin: 0 auto; padding: 20px; font-family: 'Helvetica', sans-serif; font-size: 16px;\">\n",
    "    \n",
    "# Visualization\n",
    "    \n",
    "</div>"
   ]
  },
  {
   "cell_type": "code",
   "execution_count": null,
   "metadata": {},
   "outputs": [],
   "source": [
    "data_tools.extract_data(variables.data, variables, flight_path_length.value, max_mc.value)"
   ]
  },
  {
   "cell_type": "code",
   "execution_count": null,
   "metadata": {
    "tags": []
   },
   "outputs": [],
   "source": [
    "helper_visualization.call_visualization(variables)"
   ]
  },
  {
   "cell_type": "code",
   "execution_count": null,
   "metadata": {},
   "outputs": [],
   "source": [
    "from pyccapt.calibration.calibration import mc_plot\n",
    "hist = variables.data['mc (Da)'].to_numpy()\n",
    "mc_hist = mc_plot.AptHistPlotter(hist[hist < 40], variables)\n",
    "mc_hist.plot_histogram(bin_width=0.1, label='mc', steps='stepfilled', log=True)\n",
    "mc_hist.find_peaks_and_widths()\n",
    "mc_hist.plot_hist_info_legend(loc='right')\n",
    "mc_hist.plot_line_hist()\n",
    "mc_hist.manual_background_fit()"
   ]
  },
  {
   "cell_type": "code",
   "execution_count": null,
   "metadata": {
    "tags": []
   },
   "outputs": [],
   "source": [
    "variables.plotly_3d_reconstruction"
   ]
  },
  {
   "cell_type": "code",
   "execution_count": null,
   "metadata": {
    "tags": []
   },
   "outputs": [],
   "source": [
    "from IPython.display import display, HTML\n",
    "display(HTML(variables.animation_detector_html))"
   ]
  },
  {
   "cell_type": "code",
   "execution_count": null,
   "metadata": {},
   "outputs": [],
   "source": []
  }
 ],
 "metadata": {
  "kernelspec": {
   "display_name": "Python 3 (ipykernel)",
   "language": "python",
   "name": "python3"
  },
  "language_info": {
   "codemirror_mode": {
    "name": "ipython",
    "version": 3
   },
   "file_extension": ".py",
   "mimetype": "text/x-python",
   "name": "python",
   "nbconvert_exporter": "python",
   "pygments_lexer": "ipython3",
   "version": "3.9.20"
  },
  "widgets": {
   "application/vnd.jupyter.widget-state+json": {
    "state": {},
    "version_major": 2,
    "version_minor": 0
   }
  }
 },
 "nbformat": 4,
 "nbformat_minor": 4
}

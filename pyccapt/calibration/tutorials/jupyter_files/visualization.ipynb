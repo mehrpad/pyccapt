{
 "cells": [
  {
   "cell_type": "markdown",
   "metadata": {
    "pycharm": {
     "name": "#%% md\n"
    }
   },
   "source": [
    "<div style=\"margin: 0 auto; padding: 20px; font-family: 'Helvetica', sans-serif; font-size: 16px;\">\n",
    "\n",
    "## Data Visualization Workflow\n",
    "\n",
    "In this workflow within PyCCAPT, we can crop the data, do the voltage and bowl calibration, calculate the 3d reconstruction, and do the ranging.\n",
    "</div>"
   ]
  },
  {
   "cell_type": "code",
   "execution_count": 1,
   "metadata": {
    "pycharm": {
     "name": "#%%\n"
    },
    "tags": []
   },
   "outputs": [],
   "source": [
    "# Activate intractive functionality of matplotlib\n",
    "%matplotlib ipympl\n",
    "# Activate auto reload \n",
    "%load_ext autoreload\n",
    "%autoreload 2\n",
    "%reload_ext autoreload\n",
    "# import libraries\n",
    "import os\n",
    "import numpy as np\n",
    "import subprocess\n",
    "from ipywidgets import widgets\n",
    "from IPython.display import display\n",
    "from ipywidgets import fixed, interact_manual\n",
    "import warnings\n",
    "# Ignore all warnings\n",
    "warnings.filterwarnings(\"ignore\")\n",
    "\n",
    "# Local module and scripts\n",
    "from pyccapt.calibration.calibration import widgets as wd\n",
    "from pyccapt.calibration.data_tools import data_tools\n",
    "from pyccapt.calibration.tutorials.tutorials_helpers import helper_data_loader\n",
    "from pyccapt.calibration.tutorials.tutorials_helpers import helper_visualization\n",
    "from pyccapt.calibration.calibration import share_variables\n",
    "from pyccapt.calibration.calibration import ion_selection"
   ]
  },
  {
   "cell_type": "markdown",
   "metadata": {},
   "source": [
    "<div style=\"margin: 0 auto; padding: 20px; font-family: 'Helvetica', sans-serif; font-size: 16px;\">\n",
    "In case of recieving the error about pytable library, you have to install the pytables library with conda command. to do that you can open a new cell and copy the line below in it. Then just run it like other cells. The pytables library will be innstalled.\n",
    "    \n",
    "`!conda install --yes --prefix {sys.prefix} pytables`\n",
    "</div>\n"
   ]
  },
  {
   "cell_type": "markdown",
   "metadata": {},
   "source": [
    "<div style=\"margin: 0 auto; padding: 20px; font-family: 'Helvetica', sans-serif; font-size: 16px;\">\n",
    "In the cell below we create variable object. This object is used in many of the functions to share the data between functions in as easy way. \n",
    "</div>\n"
   ]
  },
  {
   "cell_type": "code",
   "execution_count": 2,
   "metadata": {},
   "outputs": [],
   "source": [
    "variables = share_variables.Variables()"
   ]
  },
  {
   "cell_type": "markdown",
   "metadata": {},
   "source": [
    "<div style=\"margin: 0 auto; padding: 20px; font-family: 'Helvetica', sans-serif; font-size: 16px;\">\n",
    "    \n",
    "By clicking on the button below, you can select the dataset file you want to crop. The dataset file can be in various formats, including HDF5, EPOS, POS, ATO, and CSV. The cropped data will be saved in the same directory as the original dataset file in a new directory nammed load_crop. The name of the cropped dataset file will be the same as the original dataset file. The figures will be saved in the same directory as the dataset file.\n",
    "</div>"
   ]
  },
  {
   "cell_type": "code",
   "execution_count": 3,
   "metadata": {
    "tags": []
   },
   "outputs": [
    {
     "data": {
      "application/vnd.jupyter.widget-view+json": {
       "model_id": "5e68437890bf4046904ae04ec309e018",
       "version_major": 2,
       "version_minor": 0
      },
      "text/plain": [
       "Button(description='load dataset', style=ButtonStyle())"
      ]
     },
     "execution_count": 3,
     "metadata": {},
     "output_type": "execute_result"
    }
   ],
   "source": [
    "button = widgets.Button(description='load dataset')\n",
    "\n",
    "@button.on_click\n",
    "def open_file_on_click_r(b):\n",
    "    global dataset_path\n",
    "    folder_path = variables.last_directory\n",
    "    script = '..//..//data_tools//run_dataset_path_qt.py'\n",
    "    cmd = f\"python {script} {folder_path}\"\n",
    "    result = subprocess.run(cmd, capture_output=True, text=True, shell=True)\n",
    "    dataset_path = result.stdout.strip()\n",
    "    variables.last_directory = dataset_path\n",
    "\n",
    "button"
   ]
  },
  {
   "cell_type": "markdown",
   "metadata": {
    "tags": []
   },
   "source": [
    "<div style=\"margin: 0 auto; padding: 20px; font-family: 'Helvetica', sans-serif; font-size: 16px;\">\n",
    "\n",
    "## ROI Selection and Data Cropping\n",
    "    \n",
    "\n",
    "</div>\n",
    "\n"
   ]
  },
  {
   "cell_type": "markdown",
   "metadata": {},
   "source": [
    "<div style=\"margin: 0 auto; padding: 20px; font-family: 'Helvetica', sans-serif; font-size: 16px;\">\n",
    "\n",
    "    \n",
    "From the dropdown lists below, you can select the instrument specifications of the dataset. The instrument specifications are the same as the ones used for the calibration process. Data mode is specify the dataset structure. The dataset can be in raw or calibrated mode. The flight path length is the distance between the sample and the detector. The t0 is the time of flight of the ions with the lowest mass-to-charge ratio. The maximum mass-to-charge ratio is the maximum mass-to-charge ratio of tat you want to plot. You can also change it in te related cells. The detector diameter is the diameter of the detector.\n",
    "</div>\n"
   ]
  },
  {
   "cell_type": "code",
   "execution_count": 4,
   "metadata": {
    "tags": []
   },
   "outputs": [
    {
     "data": {
      "application/vnd.jupyter.widget-view+json": {
       "model_id": "5437d20731304e5b976f061408a459bc",
       "version_major": 2,
       "version_minor": 0
      },
      "text/plain": [
       "Dropdown(description='Data mode:', options=('pyccapt', 'leap_epos', 'leap_pos', 'leap_apt', 'ato_v6'), value='…"
      ]
     },
     "metadata": {},
     "output_type": "display_data"
    },
    {
     "data": {
      "application/vnd.jupyter.widget-view+json": {
       "model_id": "030610329450489a95cc028b5ba0234a",
       "version_major": 2,
       "version_minor": 0
      },
      "text/plain": [
       "Dropdown(description='Pulse mode:', options=('voltage', 'laser'), value='voltage')"
      ]
     },
     "metadata": {},
     "output_type": "display_data"
    },
    {
     "data": {
      "application/vnd.jupyter.widget-view+json": {
       "model_id": "6aced42bd6f84a069e662d45f084ad97",
       "version_major": 2,
       "version_minor": 0
      },
      "text/plain": [
       "FloatText(value=110.0, description='Flight path length:')"
      ]
     },
     "metadata": {},
     "output_type": "display_data"
    },
    {
     "data": {
      "application/vnd.jupyter.widget-view+json": {
       "model_id": "36e0df8c5bdd4696ab7e123cc8ecc447",
       "version_major": 2,
       "version_minor": 0
      },
      "text/plain": [
       "FloatText(value=38.0, description='t0:')"
      ]
     },
     "metadata": {},
     "output_type": "display_data"
    },
    {
     "data": {
      "application/vnd.jupyter.widget-view+json": {
       "model_id": "f68b1f9e962e4a89b43b2ea1f9ad38b1",
       "version_major": 2,
       "version_minor": 0
      },
      "text/plain": [
       "FloatText(value=400.0, description='Max mc:')"
      ]
     },
     "metadata": {},
     "output_type": "display_data"
    }
   ],
   "source": [
    "# create an object for selection of instrument specifications of the dataset\n",
    "tdc, pulse_mode, flight_path_length, t0, max_mc, det_diam = wd.dataset_instrument_specification_selection()\n",
    "\n",
    "# Display lists and comboboxes to selected instrument specifications\n",
    "display(tdc, pulse_mode, flight_path_length, t0, max_mc)"
   ]
  },
  {
   "cell_type": "code",
   "execution_count": 14,
   "metadata": {},
   "outputs": [
    {
     "data": {
      "text/html": [
       "<div>\n",
       "<style scoped>\n",
       "    .dataframe tbody tr th:only-of-type {\n",
       "        vertical-align: middle;\n",
       "    }\n",
       "\n",
       "    .dataframe tbody tr th {\n",
       "        vertical-align: top;\n",
       "    }\n",
       "\n",
       "    .dataframe thead th {\n",
       "        text-align: right;\n",
       "    }\n",
       "</style>\n",
       "<table border=\"1\" class=\"dataframe\">\n",
       "  <thead>\n",
       "    <tr style=\"text-align: right;\">\n",
       "      <th></th>\n",
       "      <th>x (nm)</th>\n",
       "      <th>y (nm)</th>\n",
       "      <th>z (nm)</th>\n",
       "    </tr>\n",
       "  </thead>\n",
       "  <tbody>\n",
       "    <tr>\n",
       "      <th>0</th>\n",
       "      <td>7.188491</td>\n",
       "      <td>9.126222</td>\n",
       "      <td>1.304370</td>\n",
       "    </tr>\n",
       "    <tr>\n",
       "      <th>1</th>\n",
       "      <td>5.936238</td>\n",
       "      <td>-0.114405</td>\n",
       "      <td>1.092584</td>\n",
       "    </tr>\n",
       "    <tr>\n",
       "      <th>2</th>\n",
       "      <td>12.767946</td>\n",
       "      <td>-7.585999</td>\n",
       "      <td>1.606336</td>\n",
       "    </tr>\n",
       "    <tr>\n",
       "      <th>3</th>\n",
       "      <td>-6.851343</td>\n",
       "      <td>1.138044</td>\n",
       "      <td>1.072736</td>\n",
       "    </tr>\n",
       "    <tr>\n",
       "      <th>4</th>\n",
       "      <td>4.802635</td>\n",
       "      <td>10.018098</td>\n",
       "      <td>1.247635</td>\n",
       "    </tr>\n",
       "    <tr>\n",
       "      <th>...</th>\n",
       "      <td>...</td>\n",
       "      <td>...</td>\n",
       "      <td>...</td>\n",
       "    </tr>\n",
       "    <tr>\n",
       "      <th>9844174</th>\n",
       "      <td>-26.884720</td>\n",
       "      <td>-0.754438</td>\n",
       "      <td>98.918388</td>\n",
       "    </tr>\n",
       "    <tr>\n",
       "      <th>9844175</th>\n",
       "      <td>5.182794</td>\n",
       "      <td>-20.673302</td>\n",
       "      <td>98.831482</td>\n",
       "    </tr>\n",
       "    <tr>\n",
       "      <th>9844176</th>\n",
       "      <td>4.396833</td>\n",
       "      <td>6.569318</td>\n",
       "      <td>99.223213</td>\n",
       "    </tr>\n",
       "    <tr>\n",
       "      <th>9844177</th>\n",
       "      <td>1.953367</td>\n",
       "      <td>4.762229</td>\n",
       "      <td>99.209442</td>\n",
       "    </tr>\n",
       "    <tr>\n",
       "      <th>9844178</th>\n",
       "      <td>-20.500990</td>\n",
       "      <td>16.610140</td>\n",
       "      <td>98.473351</td>\n",
       "    </tr>\n",
       "  </tbody>\n",
       "</table>\n",
       "<p>9844179 rows × 3 columns</p>\n",
       "</div>"
      ],
      "text/plain": [
       "            x (nm)     y (nm)     z (nm)\n",
       "0         7.188491   9.126222   1.304370\n",
       "1         5.936238  -0.114405   1.092584\n",
       "2        12.767946  -7.585999   1.606336\n",
       "3        -6.851343   1.138044   1.072736\n",
       "4         4.802635  10.018098   1.247635\n",
       "...            ...        ...        ...\n",
       "9844174 -26.884720  -0.754438  98.918388\n",
       "9844175   5.182794 -20.673302  98.831482\n",
       "9844176   4.396833   6.569318  99.223213\n",
       "9844177   1.953367   4.762229  99.209442\n",
       "9844178 -20.500990  16.610140  98.473351\n",
       "\n",
       "[9844179 rows x 3 columns]"
      ]
     },
     "execution_count": 14,
     "metadata": {},
     "output_type": "execute_result"
    }
   ],
   "source": [
    "import pandas as pd\n",
    "\n",
    "df = pd.read_hdf('D:/3D_AI_save_models/pinn_best/2025-February-05_18-08-00_pinn_fc_4096_2_APTFC_s-1_b-8192_dropout0.5_L1-0.0_L2-0.0/predictions_s-1/predictions.h5')\n",
    "df = df.iloc[::-1].reset_index(drop=True)\n",
    "df"
   ]
  },
  {
   "cell_type": "code",
   "execution_count": 39,
   "metadata": {
    "tags": []
   },
   "outputs": [
    {
     "name": "stdout",
     "output_type": "stream",
     "text": [
      "The data will be saved on the path: T:/Monajem/APT_data/R5096_92769_A3/visualization/\n",
      "=============================\n",
      "The dataset name after saving is: R5096_92769_A3\n",
      "=============================\n",
      "The figures will be saved on the path: T:/Monajem/APT_data/R5096_92769_A3/visualization/\n",
      "=============================\n",
      "Total number of Ions: 972435\n",
      "The maximum possible time of flight is: 4555\n"
     ]
    },
    {
     "data": {
      "text/html": [
       "<div>\n",
       "<style scoped>\n",
       "    .dataframe tbody tr th:only-of-type {\n",
       "        vertical-align: middle;\n",
       "    }\n",
       "\n",
       "    .dataframe tbody tr th {\n",
       "        vertical-align: top;\n",
       "    }\n",
       "\n",
       "    .dataframe thead th {\n",
       "        text-align: right;\n",
       "    }\n",
       "</style>\n",
       "<table border=\"1\" class=\"dataframe\">\n",
       "  <thead>\n",
       "    <tr style=\"text-align: right;\">\n",
       "      <th></th>\n",
       "      <th>x (nm)</th>\n",
       "      <th>y (nm)</th>\n",
       "      <th>z (nm)</th>\n",
       "      <th>mc (Da)</th>\n",
       "      <th>mc_uc (Da)</th>\n",
       "      <th>high_voltage (V)</th>\n",
       "      <th>pulse</th>\n",
       "      <th>t (ns)</th>\n",
       "      <th>t_c (ns)</th>\n",
       "      <th>x_det (cm)</th>\n",
       "      <th>y_det (cm)</th>\n",
       "      <th>delta_p</th>\n",
       "      <th>multi</th>\n",
       "      <th>start_counter</th>\n",
       "    </tr>\n",
       "  </thead>\n",
       "  <tbody>\n",
       "    <tr>\n",
       "      <th>0</th>\n",
       "      <td>0.002877</td>\n",
       "      <td>0.095777</td>\n",
       "      <td>0.000230</td>\n",
       "      <td>17.994671</td>\n",
       "      <td>0.0</td>\n",
       "      <td>1400.000000</td>\n",
       "      <td>0.0</td>\n",
       "      <td>2906.762939</td>\n",
       "      <td>0.0</td>\n",
       "      <td>0.037374</td>\n",
       "      <td>0.021606</td>\n",
       "      <td>20127</td>\n",
       "      <td>1</td>\n",
       "      <td>0</td>\n",
       "    </tr>\n",
       "    <tr>\n",
       "      <th>1</th>\n",
       "      <td>-7.562898</td>\n",
       "      <td>-6.210838</td>\n",
       "      <td>2.557997</td>\n",
       "      <td>37.951508</td>\n",
       "      <td>0.0</td>\n",
       "      <td>1400.000000</td>\n",
       "      <td>0.0</td>\n",
       "      <td>4140.364258</td>\n",
       "      <td>0.0</td>\n",
       "      <td>-1.022439</td>\n",
       "      <td>-0.796715</td>\n",
       "      <td>8026</td>\n",
       "      <td>1</td>\n",
       "      <td>0</td>\n",
       "    </tr>\n",
       "    <tr>\n",
       "      <th>2</th>\n",
       "      <td>-5.412895</td>\n",
       "      <td>-8.613509</td>\n",
       "      <td>2.780905</td>\n",
       "      <td>28.988277</td>\n",
       "      <td>0.0</td>\n",
       "      <td>1400.000000</td>\n",
       "      <td>0.0</td>\n",
       "      <td>3630.809082</td>\n",
       "      <td>0.0</td>\n",
       "      <td>-0.683406</td>\n",
       "      <td>-1.134307</td>\n",
       "      <td>1841</td>\n",
       "      <td>1</td>\n",
       "      <td>0</td>\n",
       "    </tr>\n",
       "    <tr>\n",
       "      <th>3</th>\n",
       "      <td>-5.331628</td>\n",
       "      <td>-9.801417</td>\n",
       "      <td>3.401989</td>\n",
       "      <td>23.101273</td>\n",
       "      <td>0.0</td>\n",
       "      <td>1400.000000</td>\n",
       "      <td>0.0</td>\n",
       "      <td>3236.699951</td>\n",
       "      <td>0.0</td>\n",
       "      <td>-0.662049</td>\n",
       "      <td>-1.320657</td>\n",
       "      <td>1</td>\n",
       "      <td>1</td>\n",
       "      <td>0</td>\n",
       "    </tr>\n",
       "    <tr>\n",
       "      <th>4</th>\n",
       "      <td>4.733482</td>\n",
       "      <td>-10.001842</td>\n",
       "      <td>3.340309</td>\n",
       "      <td>30.476511</td>\n",
       "      <td>0.0</td>\n",
       "      <td>1400.000000</td>\n",
       "      <td>0.0</td>\n",
       "      <td>3787.559082</td>\n",
       "      <td>0.0</td>\n",
       "      <td>0.808874</td>\n",
       "      <td>-1.355766</td>\n",
       "      <td>14451</td>\n",
       "      <td>1</td>\n",
       "      <td>0</td>\n",
       "    </tr>\n",
       "    <tr>\n",
       "      <th>...</th>\n",
       "      <td>...</td>\n",
       "      <td>...</td>\n",
       "      <td>...</td>\n",
       "      <td>...</td>\n",
       "      <td>...</td>\n",
       "      <td>...</td>\n",
       "      <td>...</td>\n",
       "      <td>...</td>\n",
       "      <td>...</td>\n",
       "      <td>...</td>\n",
       "      <td>...</td>\n",
       "      <td>...</td>\n",
       "      <td>...</td>\n",
       "      <td>...</td>\n",
       "    </tr>\n",
       "    <tr>\n",
       "      <th>972430</th>\n",
       "      <td>11.536530</td>\n",
       "      <td>-7.087959</td>\n",
       "      <td>72.009300</td>\n",
       "      <td>27.967495</td>\n",
       "      <td>0.0</td>\n",
       "      <td>2575.949951</td>\n",
       "      <td>0.0</td>\n",
       "      <td>2697.288086</td>\n",
       "      <td>0.0</td>\n",
       "      <td>0.977056</td>\n",
       "      <td>-0.540146</td>\n",
       "      <td>326</td>\n",
       "      <td>1</td>\n",
       "      <td>0</td>\n",
       "    </tr>\n",
       "    <tr>\n",
       "      <th>972431</th>\n",
       "      <td>-1.148942</td>\n",
       "      <td>-11.526008</td>\n",
       "      <td>71.245232</td>\n",
       "      <td>29.986776</td>\n",
       "      <td>0.0</td>\n",
       "      <td>2575.949951</td>\n",
       "      <td>0.0</td>\n",
       "      <td>2757.789062</td>\n",
       "      <td>0.0</td>\n",
       "      <td>-0.032035</td>\n",
       "      <td>-0.845328</td>\n",
       "      <td>144</td>\n",
       "      <td>1</td>\n",
       "      <td>0</td>\n",
       "    </tr>\n",
       "    <tr>\n",
       "      <th>972432</th>\n",
       "      <td>-7.063421</td>\n",
       "      <td>-9.574553</td>\n",
       "      <td>71.359039</td>\n",
       "      <td>27.979965</td>\n",
       "      <td>0.0</td>\n",
       "      <td>2575.949951</td>\n",
       "      <td>0.0</td>\n",
       "      <td>2646.918945</td>\n",
       "      <td>0.0</td>\n",
       "      <td>-0.512554</td>\n",
       "      <td>-0.691387</td>\n",
       "      <td>124</td>\n",
       "      <td>1</td>\n",
       "      <td>0</td>\n",
       "    </tr>\n",
       "    <tr>\n",
       "      <th>972433</th>\n",
       "      <td>0.332655</td>\n",
       "      <td>-11.636479</td>\n",
       "      <td>71.266014</td>\n",
       "      <td>27.960554</td>\n",
       "      <td>0.0</td>\n",
       "      <td>2575.949951</td>\n",
       "      <td>0.0</td>\n",
       "      <td>2666.982910</td>\n",
       "      <td>0.0</td>\n",
       "      <td>0.085426</td>\n",
       "      <td>-0.856131</td>\n",
       "      <td>278</td>\n",
       "      <td>1</td>\n",
       "      <td>0</td>\n",
       "    </tr>\n",
       "    <tr>\n",
       "      <th>972434</th>\n",
       "      <td>4.283334</td>\n",
       "      <td>10.734188</td>\n",
       "      <td>71.236107</td>\n",
       "      <td>27.975859</td>\n",
       "      <td>0.0</td>\n",
       "      <td>2575.949951</td>\n",
       "      <td>0.0</td>\n",
       "      <td>2678.209961</td>\n",
       "      <td>0.0</td>\n",
       "      <td>0.445815</td>\n",
       "      <td>0.796715</td>\n",
       "      <td>550</td>\n",
       "      <td>1</td>\n",
       "      <td>0</td>\n",
       "    </tr>\n",
       "  </tbody>\n",
       "</table>\n",
       "<p>972435 rows × 14 columns</p>\n",
       "</div>"
      ],
      "text/plain": [
       "           x (nm)     y (nm)     z (nm)    mc (Da)  mc_uc (Da)  \\\n",
       "0        0.002877   0.095777   0.000230  17.994671         0.0   \n",
       "1       -7.562898  -6.210838   2.557997  37.951508         0.0   \n",
       "2       -5.412895  -8.613509   2.780905  28.988277         0.0   \n",
       "3       -5.331628  -9.801417   3.401989  23.101273         0.0   \n",
       "4        4.733482 -10.001842   3.340309  30.476511         0.0   \n",
       "...           ...        ...        ...        ...         ...   \n",
       "972430  11.536530  -7.087959  72.009300  27.967495         0.0   \n",
       "972431  -1.148942 -11.526008  71.245232  29.986776         0.0   \n",
       "972432  -7.063421  -9.574553  71.359039  27.979965         0.0   \n",
       "972433   0.332655 -11.636479  71.266014  27.960554         0.0   \n",
       "972434   4.283334  10.734188  71.236107  27.975859         0.0   \n",
       "\n",
       "        high_voltage (V)  pulse       t (ns)  t_c (ns)  x_det (cm)  \\\n",
       "0            1400.000000    0.0  2906.762939       0.0    0.037374   \n",
       "1            1400.000000    0.0  4140.364258       0.0   -1.022439   \n",
       "2            1400.000000    0.0  3630.809082       0.0   -0.683406   \n",
       "3            1400.000000    0.0  3236.699951       0.0   -0.662049   \n",
       "4            1400.000000    0.0  3787.559082       0.0    0.808874   \n",
       "...                  ...    ...          ...       ...         ...   \n",
       "972430       2575.949951    0.0  2697.288086       0.0    0.977056   \n",
       "972431       2575.949951    0.0  2757.789062       0.0   -0.032035   \n",
       "972432       2575.949951    0.0  2646.918945       0.0   -0.512554   \n",
       "972433       2575.949951    0.0  2666.982910       0.0    0.085426   \n",
       "972434       2575.949951    0.0  2678.209961       0.0    0.445815   \n",
       "\n",
       "        y_det (cm)  delta_p  multi  start_counter  \n",
       "0         0.021606    20127      1              0  \n",
       "1        -0.796715     8026      1              0  \n",
       "2        -1.134307     1841      1              0  \n",
       "3        -1.320657        1      1              0  \n",
       "4        -1.355766    14451      1              0  \n",
       "...            ...      ...    ...            ...  \n",
       "972430   -0.540146      326      1              0  \n",
       "972431   -0.845328      144      1              0  \n",
       "972432   -0.691387      124      1              0  \n",
       "972433   -0.856131      278      1              0  \n",
       "972434    0.796715      550      1              0  \n",
       "\n",
       "[972435 rows x 14 columns]"
      ]
     },
     "metadata": {},
     "output_type": "display_data"
    },
    {
     "data": {
      "text/html": [
       "<div>\n",
       "<style scoped>\n",
       "    .dataframe tbody tr th:only-of-type {\n",
       "        vertical-align: middle;\n",
       "    }\n",
       "\n",
       "    .dataframe tbody tr th {\n",
       "        vertical-align: top;\n",
       "    }\n",
       "\n",
       "    .dataframe thead th {\n",
       "        text-align: right;\n",
       "    }\n",
       "</style>\n",
       "<table border=\"1\" class=\"dataframe\">\n",
       "  <thead>\n",
       "    <tr style=\"text-align: right;\">\n",
       "      <th></th>\n",
       "      <th>ion</th>\n",
       "      <th>mass</th>\n",
       "      <th>mc</th>\n",
       "      <th>mc_low</th>\n",
       "      <th>mc_up</th>\n",
       "      <th>color</th>\n",
       "      <th>element</th>\n",
       "      <th>complex</th>\n",
       "      <th>isotope</th>\n",
       "      <th>charge</th>\n",
       "    </tr>\n",
       "  </thead>\n",
       "  <tbody>\n",
       "    <tr>\n",
       "      <th>0</th>\n",
       "      <td>unranged</td>\n",
       "      <td>0.0</td>\n",
       "      <td>0.0</td>\n",
       "      <td>0.0</td>\n",
       "      <td>400.0</td>\n",
       "      <td>#000000</td>\n",
       "      <td>unranged</td>\n",
       "      <td>0</td>\n",
       "      <td>0</td>\n",
       "      <td>0</td>\n",
       "    </tr>\n",
       "  </tbody>\n",
       "</table>\n",
       "</div>"
      ],
      "text/plain": [
       "        ion  mass   mc  mc_low  mc_up    color   element complex isotope  \\\n",
       "0  unranged   0.0  0.0     0.0  400.0  #000000  unranged       0       0   \n",
       "\n",
       "   charge  \n",
       "0       0  "
      ]
     },
     "metadata": {},
     "output_type": "display_data"
    }
   ],
   "source": [
    "helper_data_loader.load_data(dataset_path, max_mc.value, flight_path_length.value, pulse_mode.value, tdc.value, variables, processing_mode=False)\n",
    "data_tools.extract_data(variables.data, variables, flight_path_length.value, max_mc.value)\n",
    "display(variables.data)\n",
    "display(variables.range_data)"
   ]
  },
  {
   "cell_type": "code",
   "execution_count": 14,
   "metadata": {},
   "outputs": [
    {
     "data": {
      "text/plain": [
       "-24.010223388671875"
      ]
     },
     "execution_count": 14,
     "metadata": {},
     "output_type": "execute_result"
    }
   ],
   "source": [
    "z = - variables.data['z (nm)'].to_numpy()\n",
    "dz = np.diff(z)\n",
    "np.min(dz)"
   ]
  },
  {
   "cell_type": "markdown",
   "metadata": {},
   "source": [
    "<div style=\"margin: 0 auto; padding: 20px;\">\n",
    "\n",
    "Load a pre saved range file if you want from cell below\n",
    "</div>\n"
   ]
  },
  {
   "cell_type": "code",
   "execution_count": 7,
   "metadata": {
    "tags": []
   },
   "outputs": [
    {
     "data": {
      "application/vnd.jupyter.widget-view+json": {
       "model_id": "03d2165deca042d988d98975473f90ba",
       "version_major": 2,
       "version_minor": 0
      },
      "text/plain": [
       "Button(description='load range dataset', style=ButtonStyle())"
      ]
     },
     "execution_count": 7,
     "metadata": {},
     "output_type": "execute_result"
    }
   ],
   "source": [
    "button_r = widgets.Button(description='load range dataset')\n",
    "\n",
    "@button_r.on_click\n",
    "def open_file_on_click_r(b):\n",
    "    global range_path\n",
    "    folder_path = variables.last_directory\n",
    "    script = '..//..//data_tools//run_dataset_path_qt.py'\n",
    "    cmd = f\"python {script} {folder_path}\"\n",
    "    result = subprocess.run(cmd, capture_output=True, text=True, shell=True)\n",
    "    range_path = result.stdout.strip()\n",
    "\n",
    "button_r"
   ]
  },
  {
   "cell_type": "code",
   "execution_count": 8,
   "metadata": {
    "tags": []
   },
   "outputs": [],
   "source": [
    "if 'range_path' in globals():\n",
    "    variables.range_data = data_tools.read_range(range_path)"
   ]
  },
  {
   "cell_type": "code",
   "execution_count": 9,
   "metadata": {},
   "outputs": [
    {
     "data": {
      "text/html": [
       "<style type=\"text/css\">\n",
       "#T_50907_row0_col5 {\n",
       "  background-color: #000000;\n",
       "  width: 50px;\n",
       "  height: 20px;\n",
       "}\n",
       "</style>\n",
       "<table id=\"T_50907\">\n",
       "  <thead>\n",
       "    <tr>\n",
       "      <th class=\"blank level0\" >&nbsp;</th>\n",
       "      <th id=\"T_50907_level0_col0\" class=\"col_heading level0 col0\" >ion</th>\n",
       "      <th id=\"T_50907_level0_col1\" class=\"col_heading level0 col1\" >mass</th>\n",
       "      <th id=\"T_50907_level0_col2\" class=\"col_heading level0 col2\" >mc</th>\n",
       "      <th id=\"T_50907_level0_col3\" class=\"col_heading level0 col3\" >mc_low</th>\n",
       "      <th id=\"T_50907_level0_col4\" class=\"col_heading level0 col4\" >mc_up</th>\n",
       "      <th id=\"T_50907_level0_col5\" class=\"col_heading level0 col5\" >color</th>\n",
       "      <th id=\"T_50907_level0_col6\" class=\"col_heading level0 col6\" >element</th>\n",
       "      <th id=\"T_50907_level0_col7\" class=\"col_heading level0 col7\" >complex</th>\n",
       "      <th id=\"T_50907_level0_col8\" class=\"col_heading level0 col8\" >isotope</th>\n",
       "      <th id=\"T_50907_level0_col9\" class=\"col_heading level0 col9\" >charge</th>\n",
       "    </tr>\n",
       "  </thead>\n",
       "  <tbody>\n",
       "    <tr>\n",
       "      <th id=\"T_50907_level0_row0\" class=\"row_heading level0 row0\" >0</th>\n",
       "      <td id=\"T_50907_row0_col0\" class=\"data row0 col0\" >unranged</td>\n",
       "      <td id=\"T_50907_row0_col1\" class=\"data row0 col1\" >0.000000</td>\n",
       "      <td id=\"T_50907_row0_col2\" class=\"data row0 col2\" >0.000000</td>\n",
       "      <td id=\"T_50907_row0_col3\" class=\"data row0 col3\" >0.000000</td>\n",
       "      <td id=\"T_50907_row0_col4\" class=\"data row0 col4\" >400.000000</td>\n",
       "      <td id=\"T_50907_row0_col5\" class=\"data row0 col5\" >#000000</td>\n",
       "      <td id=\"T_50907_row0_col6\" class=\"data row0 col6\" >unranged</td>\n",
       "      <td id=\"T_50907_row0_col7\" class=\"data row0 col7\" >0</td>\n",
       "      <td id=\"T_50907_row0_col8\" class=\"data row0 col8\" >0</td>\n",
       "      <td id=\"T_50907_row0_col9\" class=\"data row0 col9\" >0</td>\n",
       "    </tr>\n",
       "  </tbody>\n",
       "</table>\n"
      ],
      "text/plain": [
       "<pandas.io.formats.style.Styler at 0x2a01a66c400>"
      ]
     },
     "metadata": {},
     "output_type": "display_data"
    }
   ],
   "source": [
    "display(variables.range_data.style.applymap(ion_selection.display_color, subset=['color']))"
   ]
  },
  {
   "cell_type": "markdown",
   "metadata": {},
   "source": [
    "<div style=\"margin: 0 auto; padding: 20px; font-family: 'Helvetica', sans-serif; font-size: 16px;\">\n",
    "\n",
    "Save the range in the hdf5 and csv format.\n",
    "\n",
    "</div>"
   ]
  },
  {
   "cell_type": "code",
   "execution_count": null,
   "metadata": {},
   "outputs": [],
   "source": [
    "interact_manual_range = interact_manual.options(manual_name=\"save range\")\n",
    "interact_manual_range(data_tools.save_range, variables=fixed(variables));"
   ]
  },
  {
   "cell_type": "code",
   "execution_count": 11,
   "metadata": {},
   "outputs": [
    {
     "data": {
      "text/html": [
       "<div>\n",
       "<style scoped>\n",
       "    .dataframe tbody tr th:only-of-type {\n",
       "        vertical-align: middle;\n",
       "    }\n",
       "\n",
       "    .dataframe tbody tr th {\n",
       "        vertical-align: top;\n",
       "    }\n",
       "\n",
       "    .dataframe thead th {\n",
       "        text-align: right;\n",
       "    }\n",
       "</style>\n",
       "<table border=\"1\" class=\"dataframe\">\n",
       "  <thead>\n",
       "    <tr style=\"text-align: right;\">\n",
       "      <th></th>\n",
       "      <th>x (nm)</th>\n",
       "      <th>y (nm)</th>\n",
       "      <th>z (nm)</th>\n",
       "      <th>mc (Da)</th>\n",
       "      <th>mc_uc (Da)</th>\n",
       "      <th>high_voltage (V)</th>\n",
       "      <th>pulse</th>\n",
       "      <th>t (ns)</th>\n",
       "      <th>t_c (ns)</th>\n",
       "      <th>x_det (cm)</th>\n",
       "      <th>y_det (cm)</th>\n",
       "      <th>delta_p</th>\n",
       "      <th>multi</th>\n",
       "      <th>start_counter</th>\n",
       "    </tr>\n",
       "  </thead>\n",
       "  <tbody>\n",
       "    <tr>\n",
       "      <th>0</th>\n",
       "      <td>-9.762777</td>\n",
       "      <td>6.067947</td>\n",
       "      <td>3.633320</td>\n",
       "      <td>61.926613</td>\n",
       "      <td>0.0</td>\n",
       "      <td>2336.120117</td>\n",
       "      <td>0.0</td>\n",
       "      <td>3894.886719</td>\n",
       "      <td>0.0</td>\n",
       "      <td>-1.291257</td>\n",
       "      <td>1.014173</td>\n",
       "      <td>62</td>\n",
       "      <td>1</td>\n",
       "      <td>0</td>\n",
       "    </tr>\n",
       "    <tr>\n",
       "      <th>1</th>\n",
       "      <td>0.695408</td>\n",
       "      <td>2.319493</td>\n",
       "      <td>0.147132</td>\n",
       "      <td>53.940742</td>\n",
       "      <td>0.0</td>\n",
       "      <td>2336.120117</td>\n",
       "      <td>0.0</td>\n",
       "      <td>3753.868652</td>\n",
       "      <td>0.0</td>\n",
       "      <td>0.109610</td>\n",
       "      <td>0.335396</td>\n",
       "      <td>152</td>\n",
       "      <td>1</td>\n",
       "      <td>0</td>\n",
       "    </tr>\n",
       "    <tr>\n",
       "      <th>2</th>\n",
       "      <td>1.734118</td>\n",
       "      <td>3.074459</td>\n",
       "      <td>0.313951</td>\n",
       "      <td>51.973881</td>\n",
       "      <td>0.0</td>\n",
       "      <td>2336.120117</td>\n",
       "      <td>0.0</td>\n",
       "      <td>3691.825928</td>\n",
       "      <td>0.0</td>\n",
       "      <td>0.275361</td>\n",
       "      <td>0.447194</td>\n",
       "      <td>58</td>\n",
       "      <td>1</td>\n",
       "      <td>0</td>\n",
       "    </tr>\n",
       "    <tr>\n",
       "      <th>3</th>\n",
       "      <td>0.974282</td>\n",
       "      <td>-9.012513</td>\n",
       "      <td>2.172342</td>\n",
       "      <td>57.892830</td>\n",
       "      <td>0.0</td>\n",
       "      <td>2336.120117</td>\n",
       "      <td>0.0</td>\n",
       "      <td>3867.165039</td>\n",
       "      <td>0.0</td>\n",
       "      <td>0.272688</td>\n",
       "      <td>-1.338921</td>\n",
       "      <td>23</td>\n",
       "      <td>1</td>\n",
       "      <td>0</td>\n",
       "    </tr>\n",
       "    <tr>\n",
       "      <th>4</th>\n",
       "      <td>-12.462036</td>\n",
       "      <td>-0.085641</td>\n",
       "      <td>4.357419</td>\n",
       "      <td>26.981827</td>\n",
       "      <td>0.0</td>\n",
       "      <td>2336.120117</td>\n",
       "      <td>0.0</td>\n",
       "      <td>2554.733398</td>\n",
       "      <td>0.0</td>\n",
       "      <td>-1.665535</td>\n",
       "      <td>-0.015971</td>\n",
       "      <td>124</td>\n",
       "      <td>1</td>\n",
       "      <td>0</td>\n",
       "    </tr>\n",
       "    <tr>\n",
       "      <th>...</th>\n",
       "      <td>...</td>\n",
       "      <td>...</td>\n",
       "      <td>...</td>\n",
       "      <td>...</td>\n",
       "      <td>...</td>\n",
       "      <td>...</td>\n",
       "      <td>...</td>\n",
       "      <td>...</td>\n",
       "      <td>...</td>\n",
       "      <td>...</td>\n",
       "      <td>...</td>\n",
       "      <td>...</td>\n",
       "      <td>...</td>\n",
       "      <td>...</td>\n",
       "    </tr>\n",
       "    <tr>\n",
       "      <th>9844174</th>\n",
       "      <td>3.546847</td>\n",
       "      <td>13.888915</td>\n",
       "      <td>93.694427</td>\n",
       "      <td>57.928997</td>\n",
       "      <td>0.0</td>\n",
       "      <td>7695.790039</td>\n",
       "      <td>0.0</td>\n",
       "      <td>2139.775146</td>\n",
       "      <td>0.0</td>\n",
       "      <td>0.355564</td>\n",
       "      <td>1.046115</td>\n",
       "      <td>230</td>\n",
       "      <td>1</td>\n",
       "      <td>0</td>\n",
       "    </tr>\n",
       "    <tr>\n",
       "      <th>9844175</th>\n",
       "      <td>-11.616783</td>\n",
       "      <td>2.130886</td>\n",
       "      <td>92.798866</td>\n",
       "      <td>25.980337</td>\n",
       "      <td>0.0</td>\n",
       "      <td>7695.790039</td>\n",
       "      <td>0.0</td>\n",
       "      <td>1410.338257</td>\n",
       "      <td>0.0</td>\n",
       "      <td>-0.823410</td>\n",
       "      <td>0.162374</td>\n",
       "      <td>308</td>\n",
       "      <td>1</td>\n",
       "      <td>0</td>\n",
       "    </tr>\n",
       "    <tr>\n",
       "      <th>9844176</th>\n",
       "      <td>14.079150</td>\n",
       "      <td>-9.819579</td>\n",
       "      <td>94.940720</td>\n",
       "      <td>28.954844</td>\n",
       "      <td>0.0</td>\n",
       "      <td>7695.790039</td>\n",
       "      <td>0.0</td>\n",
       "      <td>1528.093872</td>\n",
       "      <td>0.0</td>\n",
       "      <td>1.229769</td>\n",
       "      <td>-0.790576</td>\n",
       "      <td>646</td>\n",
       "      <td>1</td>\n",
       "      <td>0</td>\n",
       "    </tr>\n",
       "    <tr>\n",
       "      <th>9844177</th>\n",
       "      <td>6.096278</td>\n",
       "      <td>0.119694</td>\n",
       "      <td>91.451447</td>\n",
       "      <td>57.889843</td>\n",
       "      <td>0.0</td>\n",
       "      <td>7695.790039</td>\n",
       "      <td>0.0</td>\n",
       "      <td>2151.238037</td>\n",
       "      <td>0.0</td>\n",
       "      <td>0.473194</td>\n",
       "      <td>0.007986</td>\n",
       "      <td>705</td>\n",
       "      <td>1</td>\n",
       "      <td>0</td>\n",
       "    </tr>\n",
       "    <tr>\n",
       "      <th>9844178</th>\n",
       "      <td>7.060112</td>\n",
       "      <td>12.430894</td>\n",
       "      <td>93.679207</td>\n",
       "      <td>29.490499</td>\n",
       "      <td>0.0</td>\n",
       "      <td>7695.790039</td>\n",
       "      <td>0.0</td>\n",
       "      <td>1532.298828</td>\n",
       "      <td>0.0</td>\n",
       "      <td>0.633598</td>\n",
       "      <td>0.947626</td>\n",
       "      <td>139</td>\n",
       "      <td>1</td>\n",
       "      <td>0</td>\n",
       "    </tr>\n",
       "  </tbody>\n",
       "</table>\n",
       "<p>9844179 rows × 14 columns</p>\n",
       "</div>"
      ],
      "text/plain": [
       "            x (nm)     y (nm)     z (nm)    mc (Da)  mc_uc (Da)  \\\n",
       "0        -9.762777   6.067947   3.633320  61.926613         0.0   \n",
       "1         0.695408   2.319493   0.147132  53.940742         0.0   \n",
       "2         1.734118   3.074459   0.313951  51.973881         0.0   \n",
       "3         0.974282  -9.012513   2.172342  57.892830         0.0   \n",
       "4       -12.462036  -0.085641   4.357419  26.981827         0.0   \n",
       "...            ...        ...        ...        ...         ...   \n",
       "9844174   3.546847  13.888915  93.694427  57.928997         0.0   \n",
       "9844175 -11.616783   2.130886  92.798866  25.980337         0.0   \n",
       "9844176  14.079150  -9.819579  94.940720  28.954844         0.0   \n",
       "9844177   6.096278   0.119694  91.451447  57.889843         0.0   \n",
       "9844178   7.060112  12.430894  93.679207  29.490499         0.0   \n",
       "\n",
       "         high_voltage (V)  pulse       t (ns)  t_c (ns)  x_det (cm)  \\\n",
       "0             2336.120117    0.0  3894.886719       0.0   -1.291257   \n",
       "1             2336.120117    0.0  3753.868652       0.0    0.109610   \n",
       "2             2336.120117    0.0  3691.825928       0.0    0.275361   \n",
       "3             2336.120117    0.0  3867.165039       0.0    0.272688   \n",
       "4             2336.120117    0.0  2554.733398       0.0   -1.665535   \n",
       "...                   ...    ...          ...       ...         ...   \n",
       "9844174       7695.790039    0.0  2139.775146       0.0    0.355564   \n",
       "9844175       7695.790039    0.0  1410.338257       0.0   -0.823410   \n",
       "9844176       7695.790039    0.0  1528.093872       0.0    1.229769   \n",
       "9844177       7695.790039    0.0  2151.238037       0.0    0.473194   \n",
       "9844178       7695.790039    0.0  1532.298828       0.0    0.633598   \n",
       "\n",
       "         y_det (cm)  delta_p  multi  start_counter  \n",
       "0          1.014173       62      1              0  \n",
       "1          0.335396      152      1              0  \n",
       "2          0.447194       58      1              0  \n",
       "3         -1.338921       23      1              0  \n",
       "4         -0.015971      124      1              0  \n",
       "...             ...      ...    ...            ...  \n",
       "9844174    1.046115      230      1              0  \n",
       "9844175    0.162374      308      1              0  \n",
       "9844176   -0.790576      646      1              0  \n",
       "9844177    0.007986      705      1              0  \n",
       "9844178    0.947626      139      1              0  \n",
       "\n",
       "[9844179 rows x 14 columns]"
      ]
     },
     "execution_count": 11,
     "metadata": {},
     "output_type": "execute_result"
    }
   ],
   "source": [
    "variables.data = variables.data.rename(columns={\"pulse_pi\": \"delta_p\"})\n",
    "variables.data = variables.data.rename(columns={\"ion_pp\": \"multi\"})\n",
    "variables.data"
   ]
  },
  {
   "cell_type": "code",
   "execution_count": 15,
   "metadata": {},
   "outputs": [
    {
     "data": {
      "text/html": [
       "<div>\n",
       "<style scoped>\n",
       "    .dataframe tbody tr th:only-of-type {\n",
       "        vertical-align: middle;\n",
       "    }\n",
       "\n",
       "    .dataframe tbody tr th {\n",
       "        vertical-align: top;\n",
       "    }\n",
       "\n",
       "    .dataframe thead th {\n",
       "        text-align: right;\n",
       "    }\n",
       "</style>\n",
       "<table border=\"1\" class=\"dataframe\">\n",
       "  <thead>\n",
       "    <tr style=\"text-align: right;\">\n",
       "      <th></th>\n",
       "      <th>x (nm)</th>\n",
       "      <th>y (nm)</th>\n",
       "      <th>z (nm)</th>\n",
       "      <th>mc (Da)</th>\n",
       "      <th>mc_uc (Da)</th>\n",
       "      <th>high_voltage (V)</th>\n",
       "      <th>pulse</th>\n",
       "      <th>t (ns)</th>\n",
       "      <th>t_c (ns)</th>\n",
       "      <th>x_det (cm)</th>\n",
       "      <th>y_det (cm)</th>\n",
       "      <th>delta_p</th>\n",
       "      <th>multi</th>\n",
       "      <th>start_counter</th>\n",
       "    </tr>\n",
       "  </thead>\n",
       "  <tbody>\n",
       "    <tr>\n",
       "      <th>0</th>\n",
       "      <td>7.188491</td>\n",
       "      <td>9.126222</td>\n",
       "      <td>1.304370</td>\n",
       "      <td>61.926613</td>\n",
       "      <td>0.0</td>\n",
       "      <td>2336.120117</td>\n",
       "      <td>0.0</td>\n",
       "      <td>3894.886719</td>\n",
       "      <td>0.0</td>\n",
       "      <td>-1.291257</td>\n",
       "      <td>1.014173</td>\n",
       "      <td>62</td>\n",
       "      <td>1</td>\n",
       "      <td>0</td>\n",
       "    </tr>\n",
       "    <tr>\n",
       "      <th>1</th>\n",
       "      <td>5.936238</td>\n",
       "      <td>-0.114405</td>\n",
       "      <td>1.092584</td>\n",
       "      <td>53.940742</td>\n",
       "      <td>0.0</td>\n",
       "      <td>2336.120117</td>\n",
       "      <td>0.0</td>\n",
       "      <td>3753.868652</td>\n",
       "      <td>0.0</td>\n",
       "      <td>0.109610</td>\n",
       "      <td>0.335396</td>\n",
       "      <td>152</td>\n",
       "      <td>1</td>\n",
       "      <td>0</td>\n",
       "    </tr>\n",
       "    <tr>\n",
       "      <th>2</th>\n",
       "      <td>12.767946</td>\n",
       "      <td>-7.585999</td>\n",
       "      <td>1.606336</td>\n",
       "      <td>51.973881</td>\n",
       "      <td>0.0</td>\n",
       "      <td>2336.120117</td>\n",
       "      <td>0.0</td>\n",
       "      <td>3691.825928</td>\n",
       "      <td>0.0</td>\n",
       "      <td>0.275361</td>\n",
       "      <td>0.447194</td>\n",
       "      <td>58</td>\n",
       "      <td>1</td>\n",
       "      <td>0</td>\n",
       "    </tr>\n",
       "    <tr>\n",
       "      <th>3</th>\n",
       "      <td>-6.851343</td>\n",
       "      <td>1.138044</td>\n",
       "      <td>1.072736</td>\n",
       "      <td>57.892830</td>\n",
       "      <td>0.0</td>\n",
       "      <td>2336.120117</td>\n",
       "      <td>0.0</td>\n",
       "      <td>3867.165039</td>\n",
       "      <td>0.0</td>\n",
       "      <td>0.272688</td>\n",
       "      <td>-1.338921</td>\n",
       "      <td>23</td>\n",
       "      <td>1</td>\n",
       "      <td>0</td>\n",
       "    </tr>\n",
       "    <tr>\n",
       "      <th>4</th>\n",
       "      <td>4.802635</td>\n",
       "      <td>10.018098</td>\n",
       "      <td>1.247635</td>\n",
       "      <td>26.981827</td>\n",
       "      <td>0.0</td>\n",
       "      <td>2336.120117</td>\n",
       "      <td>0.0</td>\n",
       "      <td>2554.733398</td>\n",
       "      <td>0.0</td>\n",
       "      <td>-1.665535</td>\n",
       "      <td>-0.015971</td>\n",
       "      <td>124</td>\n",
       "      <td>1</td>\n",
       "      <td>0</td>\n",
       "    </tr>\n",
       "    <tr>\n",
       "      <th>...</th>\n",
       "      <td>...</td>\n",
       "      <td>...</td>\n",
       "      <td>...</td>\n",
       "      <td>...</td>\n",
       "      <td>...</td>\n",
       "      <td>...</td>\n",
       "      <td>...</td>\n",
       "      <td>...</td>\n",
       "      <td>...</td>\n",
       "      <td>...</td>\n",
       "      <td>...</td>\n",
       "      <td>...</td>\n",
       "      <td>...</td>\n",
       "      <td>...</td>\n",
       "    </tr>\n",
       "    <tr>\n",
       "      <th>9844174</th>\n",
       "      <td>-26.884720</td>\n",
       "      <td>-0.754438</td>\n",
       "      <td>98.918388</td>\n",
       "      <td>57.928997</td>\n",
       "      <td>0.0</td>\n",
       "      <td>7695.790039</td>\n",
       "      <td>0.0</td>\n",
       "      <td>2139.775146</td>\n",
       "      <td>0.0</td>\n",
       "      <td>0.355564</td>\n",
       "      <td>1.046115</td>\n",
       "      <td>230</td>\n",
       "      <td>1</td>\n",
       "      <td>0</td>\n",
       "    </tr>\n",
       "    <tr>\n",
       "      <th>9844175</th>\n",
       "      <td>5.182794</td>\n",
       "      <td>-20.673302</td>\n",
       "      <td>98.831482</td>\n",
       "      <td>25.980337</td>\n",
       "      <td>0.0</td>\n",
       "      <td>7695.790039</td>\n",
       "      <td>0.0</td>\n",
       "      <td>1410.338257</td>\n",
       "      <td>0.0</td>\n",
       "      <td>-0.823410</td>\n",
       "      <td>0.162374</td>\n",
       "      <td>308</td>\n",
       "      <td>1</td>\n",
       "      <td>0</td>\n",
       "    </tr>\n",
       "    <tr>\n",
       "      <th>9844176</th>\n",
       "      <td>4.396833</td>\n",
       "      <td>6.569318</td>\n",
       "      <td>99.223213</td>\n",
       "      <td>28.954844</td>\n",
       "      <td>0.0</td>\n",
       "      <td>7695.790039</td>\n",
       "      <td>0.0</td>\n",
       "      <td>1528.093872</td>\n",
       "      <td>0.0</td>\n",
       "      <td>1.229769</td>\n",
       "      <td>-0.790576</td>\n",
       "      <td>646</td>\n",
       "      <td>1</td>\n",
       "      <td>0</td>\n",
       "    </tr>\n",
       "    <tr>\n",
       "      <th>9844177</th>\n",
       "      <td>1.953367</td>\n",
       "      <td>4.762229</td>\n",
       "      <td>99.209442</td>\n",
       "      <td>57.889843</td>\n",
       "      <td>0.0</td>\n",
       "      <td>7695.790039</td>\n",
       "      <td>0.0</td>\n",
       "      <td>2151.238037</td>\n",
       "      <td>0.0</td>\n",
       "      <td>0.473194</td>\n",
       "      <td>0.007986</td>\n",
       "      <td>705</td>\n",
       "      <td>1</td>\n",
       "      <td>0</td>\n",
       "    </tr>\n",
       "    <tr>\n",
       "      <th>9844178</th>\n",
       "      <td>-20.500990</td>\n",
       "      <td>16.610140</td>\n",
       "      <td>98.473351</td>\n",
       "      <td>29.490499</td>\n",
       "      <td>0.0</td>\n",
       "      <td>7695.790039</td>\n",
       "      <td>0.0</td>\n",
       "      <td>1532.298828</td>\n",
       "      <td>0.0</td>\n",
       "      <td>0.633598</td>\n",
       "      <td>0.947626</td>\n",
       "      <td>139</td>\n",
       "      <td>1</td>\n",
       "      <td>0</td>\n",
       "    </tr>\n",
       "  </tbody>\n",
       "</table>\n",
       "<p>9844179 rows × 14 columns</p>\n",
       "</div>"
      ],
      "text/plain": [
       "            x (nm)     y (nm)     z (nm)    mc (Da)  mc_uc (Da)  \\\n",
       "0         7.188491   9.126222   1.304370  61.926613         0.0   \n",
       "1         5.936238  -0.114405   1.092584  53.940742         0.0   \n",
       "2        12.767946  -7.585999   1.606336  51.973881         0.0   \n",
       "3        -6.851343   1.138044   1.072736  57.892830         0.0   \n",
       "4         4.802635  10.018098   1.247635  26.981827         0.0   \n",
       "...            ...        ...        ...        ...         ...   \n",
       "9844174 -26.884720  -0.754438  98.918388  57.928997         0.0   \n",
       "9844175   5.182794 -20.673302  98.831482  25.980337         0.0   \n",
       "9844176   4.396833   6.569318  99.223213  28.954844         0.0   \n",
       "9844177   1.953367   4.762229  99.209442  57.889843         0.0   \n",
       "9844178 -20.500990  16.610140  98.473351  29.490499         0.0   \n",
       "\n",
       "         high_voltage (V)  pulse       t (ns)  t_c (ns)  x_det (cm)  \\\n",
       "0             2336.120117    0.0  3894.886719       0.0   -1.291257   \n",
       "1             2336.120117    0.0  3753.868652       0.0    0.109610   \n",
       "2             2336.120117    0.0  3691.825928       0.0    0.275361   \n",
       "3             2336.120117    0.0  3867.165039       0.0    0.272688   \n",
       "4             2336.120117    0.0  2554.733398       0.0   -1.665535   \n",
       "...                   ...    ...          ...       ...         ...   \n",
       "9844174       7695.790039    0.0  2139.775146       0.0    0.355564   \n",
       "9844175       7695.790039    0.0  1410.338257       0.0   -0.823410   \n",
       "9844176       7695.790039    0.0  1528.093872       0.0    1.229769   \n",
       "9844177       7695.790039    0.0  2151.238037       0.0    0.473194   \n",
       "9844178       7695.790039    0.0  1532.298828       0.0    0.633598   \n",
       "\n",
       "         y_det (cm)  delta_p  multi  start_counter  \n",
       "0          1.014173       62      1              0  \n",
       "1          0.335396      152      1              0  \n",
       "2          0.447194       58      1              0  \n",
       "3         -1.338921       23      1              0  \n",
       "4         -0.015971      124      1              0  \n",
       "...             ...      ...    ...            ...  \n",
       "9844174    1.046115      230      1              0  \n",
       "9844175    0.162374      308      1              0  \n",
       "9844176   -0.790576      646      1              0  \n",
       "9844177    0.007986      705      1              0  \n",
       "9844178    0.947626      139      1              0  \n",
       "\n",
       "[9844179 rows x 14 columns]"
      ]
     },
     "execution_count": 15,
     "metadata": {},
     "output_type": "execute_result"
    }
   ],
   "source": [
    "variables.data[\"x (nm)\"] = df['x (nm)']\n",
    "variables.data[\"y (nm)\"] = df['y (nm)']\n",
    "variables.data[\"z (nm)\"] = df['z (nm)']\n",
    "variables.data"
   ]
  },
  {
   "cell_type": "markdown",
   "metadata": {},
   "source": [
    "<div style=\"margin: 0 auto; padding: 20px; font-family: 'Helvetica', sans-serif; font-size: 16px;\">\n",
    "\n",
    "Save the dataset in any other format that you want.\n",
    "\n",
    "</div>"
   ]
  },
  {
   "cell_type": "code",
   "execution_count": 6,
   "metadata": {},
   "outputs": [
    {
     "data": {
      "application/vnd.jupyter.widget-view+json": {
       "model_id": "47e02d0924e041c69b8c97da432f947a",
       "version_major": 2,
       "version_minor": 0
      },
      "text/plain": [
       "interactive(children=(Text(value='R5076_80365', continuous_update=False, description='name'), Dropdown(descrip…"
      ]
     },
     "metadata": {},
     "output_type": "display_data"
    }
   ],
   "source": [
    "interact_manual_data = interact_manual.options(manual_name=\"save data\")\n",
    "interact_manual_data(data_tools.save_data, data=fixed(variables.data), variables=fixed(variables),\n",
    "                name=widgets.Text(value=variables.result_data_name),\n",
    "                hdf=widgets.Dropdown(options=[('True', True), ('False', False)]),\n",
    "                epos=widgets.Dropdown(options=[('False', False), ('True', True)]),\n",
    "                pos=widgets.Dropdown(options=[('False', False), ('True', True)]),\n",
    "                ato_6v=widgets.Dropdown(options=[('False', False), ('True', True)]),\n",
    "                csv=widgets.Dropdown(options=[('False', False), ('True', True)]),\n",
    "               temp=fixed(False));"
   ]
  },
  {
   "cell_type": "markdown",
   "metadata": {},
   "source": [
    "<div style=\"margin: 0 auto; padding: 20px; font-family: 'Helvetica', sans-serif; font-size: 16px;\">\n",
    "    \n",
    "# Visualization\n",
    "    \n",
    "</div>"
   ]
  },
  {
   "cell_type": "code",
   "execution_count": null,
   "metadata": {},
   "outputs": [],
   "source": [
    "data_tools.extract_data(variables.data, variables, flight_path_length.value, max_mc.value)"
   ]
  },
  {
   "cell_type": "code",
   "execution_count": null,
   "metadata": {
    "tags": []
   },
   "outputs": [],
   "source": [
    "helper_visualization.call_visualization(variables)"
   ]
  },
  {
   "cell_type": "code",
   "execution_count": null,
   "metadata": {},
   "outputs": [],
   "source": [
    "from pyccapt.calibration.calibration import mc_plot\n",
    "hist = variables.data['mc (Da)'].to_numpy()\n",
    "mc_hist = mc_plot.AptHistPlotter(hist[hist < 40], variables)\n",
    "mc_hist.plot_histogram(bin_width=0.1, label='mc', steps='stepfilled', log=True)\n",
    "mc_hist.find_peaks_and_widths()\n",
    "mc_hist.plot_hist_info_legend(loc='right')\n",
    "mc_hist.plot_line_hist()\n",
    "mc_hist.manual_background_fit()"
   ]
  },
  {
   "cell_type": "code",
   "execution_count": null,
   "metadata": {
    "tags": []
   },
   "outputs": [],
   "source": [
    "variables.plotly_3d_reconstruction"
   ]
  },
  {
   "cell_type": "code",
   "execution_count": null,
   "metadata": {
    "tags": []
   },
   "outputs": [],
   "source": [
    "from IPython.display import display, HTML\n",
    "display(HTML(variables.animation_detector_html))"
   ]
  },
  {
   "cell_type": "code",
   "execution_count": null,
   "metadata": {},
   "outputs": [],
   "source": []
  }
 ],
 "metadata": {
  "kernelspec": {
   "display_name": "Python 3 (ipykernel)",
   "language": "python",
   "name": "python3"
  },
  "language_info": {
   "codemirror_mode": {
    "name": "ipython",
    "version": 3
   },
   "file_extension": ".py",
   "mimetype": "text/x-python",
   "name": "python",
   "nbconvert_exporter": "python",
   "pygments_lexer": "ipython3",
   "version": "3.9.20"
  },
  "widgets": {
   "application/vnd.jupyter.widget-state+json": {
    "state": {
     "020bf540740f40918ba1923e73956e2c": {
      "model_module": "@jupyter-widgets/controls",
      "model_module_version": "2.0.0",
      "model_name": "DropdownModel",
      "state": {
       "_options_labels": [
        "False",
        "True"
       ],
       "description": "csv",
       "index": 0,
       "layout": "IPY_MODEL_1607ff48f34640eeb6dc4ca9e794b001",
       "style": "IPY_MODEL_25702bd68c384e3b9dd75f2a3dba7db3"
      }
     },
     "030610329450489a95cc028b5ba0234a": {
      "model_module": "@jupyter-widgets/controls",
      "model_module_version": "2.0.0",
      "model_name": "DropdownModel",
      "state": {
       "_options_labels": [
        "voltage",
        "laser"
       ],
       "description": "Pulse mode:",
       "index": 1,
       "layout": "IPY_MODEL_652c522986154d24956c960aae559651",
       "style": "IPY_MODEL_d88d62456c594bd0af2d993bba789a4e"
      }
     },
     "03d2165deca042d988d98975473f90ba": {
      "model_module": "@jupyter-widgets/controls",
      "model_module_version": "2.0.0",
      "model_name": "ButtonModel",
      "state": {
       "description": "load range dataset",
       "layout": "IPY_MODEL_103d84b380e14c5f8dbd36af7f43a6a1",
       "style": "IPY_MODEL_428a06e1e3d9488f9b23894f352fd437",
       "tooltip": null
      }
     },
     "086ed162f3f44d4c808789b447a0e605": {
      "model_module": "@jupyter-widgets/base",
      "model_module_version": "2.0.0",
      "model_name": "LayoutModel",
      "state": {
       "width": "200px"
      }
     },
     "094a40ab85d8425185d79853dc627794": {
      "model_module": "@jupyter-widgets/controls",
      "model_module_version": "2.0.0",
      "model_name": "DropdownModel",
      "state": {
       "_options_labels": [
        "False",
        "True"
       ],
       "description": "pos",
       "index": 0,
       "layout": "IPY_MODEL_373e6c670e1f439f83f6b69c4b91e1b3",
       "style": "IPY_MODEL_fcffa4f0b40f43e391f99b5c8c4f4429"
      }
     },
     "103d84b380e14c5f8dbd36af7f43a6a1": {
      "model_module": "@jupyter-widgets/base",
      "model_module_version": "2.0.0",
      "model_name": "LayoutModel",
      "state": {}
     },
     "1607ff48f34640eeb6dc4ca9e794b001": {
      "model_module": "@jupyter-widgets/base",
      "model_module_version": "2.0.0",
      "model_name": "LayoutModel",
      "state": {}
     },
     "1fe895c007d54575b2e78b95d2137dbe": {
      "model_module": "@jupyter-widgets/controls",
      "model_module_version": "2.0.0",
      "model_name": "DescriptionStyleModel",
      "state": {
       "description_width": ""
      }
     },
     "25702bd68c384e3b9dd75f2a3dba7db3": {
      "model_module": "@jupyter-widgets/controls",
      "model_module_version": "2.0.0",
      "model_name": "DescriptionStyleModel",
      "state": {
       "description_width": ""
      }
     },
     "285bd466c12e45b0af2610b76eb432bc": {
      "model_module": "@jupyter-widgets/controls",
      "model_module_version": "2.0.0",
      "model_name": "DescriptionStyleModel",
      "state": {
       "description_width": ""
      }
     },
     "2a6c25fadaa3429c954fdbeaca163da6": {
      "model_module": "@jupyter-widgets/controls",
      "model_module_version": "2.0.0",
      "model_name": "ButtonStyleModel",
      "state": {
       "font_family": null,
       "font_size": null,
       "font_style": null,
       "font_variant": null,
       "font_weight": null,
       "text_color": null,
       "text_decoration": null
      }
     },
     "2f8bb9ba898846abae60189ba55dfcca": {
      "model_module": "@jupyter-widgets/base",
      "model_module_version": "2.0.0",
      "model_name": "LayoutModel",
      "state": {}
     },
     "340075b2c9da49b2ab22fbf57e619e82": {
      "model_module": "@jupyter-widgets/base",
      "model_module_version": "2.0.0",
      "model_name": "LayoutModel",
      "state": {}
     },
     "34623aa8209742b38517a7bd48aa2a77": {
      "model_module": "@jupyter-widgets/controls",
      "model_module_version": "2.0.0",
      "model_name": "DescriptionStyleModel",
      "state": {
       "description_width": ""
      }
     },
     "36c2ac7a849e467798d46f84f877bc95": {
      "model_module": "@jupyter-widgets/base",
      "model_module_version": "2.0.0",
      "model_name": "LayoutModel",
      "state": {}
     },
     "36e0df8c5bdd4696ab7e123cc8ecc447": {
      "model_module": "@jupyter-widgets/controls",
      "model_module_version": "2.0.0",
      "model_name": "FloatTextModel",
      "state": {
       "description": "t0:",
       "layout": "IPY_MODEL_37bc3f6f9d35468faef8ae1762a9fb8f",
       "step": null,
       "style": "IPY_MODEL_285bd466c12e45b0af2610b76eb432bc"
      }
     },
     "373e6c670e1f439f83f6b69c4b91e1b3": {
      "model_module": "@jupyter-widgets/base",
      "model_module_version": "2.0.0",
      "model_name": "LayoutModel",
      "state": {}
     },
     "37bc3f6f9d35468faef8ae1762a9fb8f": {
      "model_module": "@jupyter-widgets/base",
      "model_module_version": "2.0.0",
      "model_name": "LayoutModel",
      "state": {}
     },
     "3c29c08614504f22ba243033f12cee12": {
      "model_module": "@jupyter-widgets/controls",
      "model_module_version": "2.0.0",
      "model_name": "TextModel",
      "state": {
       "continuous_update": false,
       "description": "name",
       "layout": "IPY_MODEL_36c2ac7a849e467798d46f84f877bc95",
       "style": "IPY_MODEL_ef371d3ae296407b9f98291e6062aa48",
       "value": "R5076_80365"
      }
     },
     "3d490ec6f9d04fbc979beef12ad974a8": {
      "model_module": "@jupyter-widgets/controls",
      "model_module_version": "2.0.0",
      "model_name": "DescriptionStyleModel",
      "state": {
       "description_width": ""
      }
     },
     "428a06e1e3d9488f9b23894f352fd437": {
      "model_module": "@jupyter-widgets/controls",
      "model_module_version": "2.0.0",
      "model_name": "ButtonStyleModel",
      "state": {
       "font_family": null,
       "font_size": null,
       "font_style": null,
       "font_variant": null,
       "font_weight": null,
       "text_color": null,
       "text_decoration": null
      }
     },
     "44e9de9908ee4cbda911cfbfeb31a763": {
      "model_module": "@jupyter-widgets/controls",
      "model_module_version": "2.0.0",
      "model_name": "DescriptionStyleModel",
      "state": {
       "description_width": ""
      }
     },
     "47e02d0924e041c69b8c97da432f947a": {
      "model_module": "@jupyter-widgets/controls",
      "model_module_version": "2.0.0",
      "model_name": "VBoxModel",
      "state": {
       "_dom_classes": [
        "widget-interact"
       ],
       "children": [
        "IPY_MODEL_3c29c08614504f22ba243033f12cee12",
        "IPY_MODEL_4c0d895c81044c2b835101a24b5c236d",
        "IPY_MODEL_e1198e70c95e491a87ac06922c6f9997",
        "IPY_MODEL_094a40ab85d8425185d79853dc627794",
        "IPY_MODEL_020bf540740f40918ba1923e73956e2c",
        "IPY_MODEL_6adf2e1adb6a403b93c817251f09be38",
        "IPY_MODEL_e65253fb4cba488bb0b5e1a5ce7dae8f"
       ],
       "layout": "IPY_MODEL_2f8bb9ba898846abae60189ba55dfcca"
      }
     },
     "4c0d895c81044c2b835101a24b5c236d": {
      "model_module": "@jupyter-widgets/controls",
      "model_module_version": "2.0.0",
      "model_name": "DropdownModel",
      "state": {
       "_options_labels": [
        "True",
        "False"
       ],
       "description": "hdf",
       "index": 0,
       "layout": "IPY_MODEL_9a303b83485540fdbe1d94859cf30189",
       "style": "IPY_MODEL_34623aa8209742b38517a7bd48aa2a77"
      }
     },
     "5437d20731304e5b976f061408a459bc": {
      "model_module": "@jupyter-widgets/controls",
      "model_module_version": "2.0.0",
      "model_name": "DropdownModel",
      "state": {
       "_options_labels": [
        "pyccapt",
        "leap_epos",
        "leap_pos",
        "leap_apt",
        "ato_v6"
       ],
       "description": "Data mode:",
       "index": 3,
       "layout": "IPY_MODEL_7313ca4464914097853a4e19669ce2d1",
       "style": "IPY_MODEL_44e9de9908ee4cbda911cfbfeb31a763"
      }
     },
     "5e68437890bf4046904ae04ec309e018": {
      "model_module": "@jupyter-widgets/controls",
      "model_module_version": "2.0.0",
      "model_name": "ButtonModel",
      "state": {
       "description": "load dataset",
       "layout": "IPY_MODEL_836c29171b8942a0bc2d8b8f9a91beb3",
       "style": "IPY_MODEL_2a6c25fadaa3429c954fdbeaca163da6",
       "tooltip": null
      }
     },
     "652c522986154d24956c960aae559651": {
      "model_module": "@jupyter-widgets/base",
      "model_module_version": "2.0.0",
      "model_name": "LayoutModel",
      "state": {}
     },
     "6aced42bd6f84a069e662d45f084ad97": {
      "model_module": "@jupyter-widgets/controls",
      "model_module_version": "2.0.0",
      "model_name": "FloatTextModel",
      "state": {
       "description": "Flight path length:",
       "layout": "IPY_MODEL_eec906128f4948d5978ffcd1436b6cd4",
       "step": null,
       "style": "IPY_MODEL_8ba56635bfad4d768f002e736c0449e0",
       "value": 100
      }
     },
     "6adf2e1adb6a403b93c817251f09be38": {
      "model_module": "@jupyter-widgets/controls",
      "model_module_version": "2.0.0",
      "model_name": "ButtonModel",
      "state": {
       "description": "save data",
       "layout": "IPY_MODEL_7efe14ff420f48ac9d2c41589f0086da",
       "style": "IPY_MODEL_7c0833b5ad6f4f3c91c6f148f2393e20",
       "tooltip": null
      }
     },
     "7313ca4464914097853a4e19669ce2d1": {
      "model_module": "@jupyter-widgets/base",
      "model_module_version": "2.0.0",
      "model_name": "LayoutModel",
      "state": {}
     },
     "7703fe33de19465a88dfdea470043222": {
      "model_module": "@jupyter-widgets/controls",
      "model_module_version": "2.0.0",
      "model_name": "DropdownModel",
      "state": {
       "_options_labels": [
        "False",
        "True"
       ],
       "index": 0,
       "layout": "IPY_MODEL_8c6ba9b4e7b04c79895c3db5cd287b76",
       "style": "IPY_MODEL_a38fe0e67855440f906574639e32c98e"
      }
     },
     "7c0833b5ad6f4f3c91c6f148f2393e20": {
      "model_module": "@jupyter-widgets/controls",
      "model_module_version": "2.0.0",
      "model_name": "ButtonStyleModel",
      "state": {
       "font_family": null,
       "font_size": null,
       "font_style": null,
       "font_variant": null,
       "font_weight": null,
       "text_color": null,
       "text_decoration": null
      }
     },
     "7efe14ff420f48ac9d2c41589f0086da": {
      "model_module": "@jupyter-widgets/base",
      "model_module_version": "2.0.0",
      "model_name": "LayoutModel",
      "state": {}
     },
     "836c29171b8942a0bc2d8b8f9a91beb3": {
      "model_module": "@jupyter-widgets/base",
      "model_module_version": "2.0.0",
      "model_name": "LayoutModel",
      "state": {}
     },
     "8ba56635bfad4d768f002e736c0449e0": {
      "model_module": "@jupyter-widgets/controls",
      "model_module_version": "2.0.0",
      "model_name": "DescriptionStyleModel",
      "state": {
       "description_width": ""
      }
     },
     "8c6ba9b4e7b04c79895c3db5cd287b76": {
      "model_module": "@jupyter-widgets/base",
      "model_module_version": "2.0.0",
      "model_name": "LayoutModel",
      "state": {}
     },
     "9333d7e2211e4aba8bdf6497ce41ee9a": {
      "model_module": "@jupyter-widgets/controls",
      "model_module_version": "2.0.0",
      "model_name": "FloatTextModel",
      "state": {
       "description": "Detector diameter:",
       "layout": "IPY_MODEL_f54bbdbf12ec41848e5c404b1de1f800",
       "step": null,
       "style": "IPY_MODEL_3d490ec6f9d04fbc979beef12ad974a8",
       "value": 80
      }
     },
     "9a303b83485540fdbe1d94859cf30189": {
      "model_module": "@jupyter-widgets/base",
      "model_module_version": "2.0.0",
      "model_name": "LayoutModel",
      "state": {}
     },
     "9b4be0cbefd7403ca5e1f03305c50227": {
      "model_module": "@jupyter-widgets/base",
      "model_module_version": "2.0.0",
      "model_name": "LayoutModel",
      "state": {}
     },
     "a38fe0e67855440f906574639e32c98e": {
      "model_module": "@jupyter-widgets/controls",
      "model_module_version": "2.0.0",
      "model_name": "DescriptionStyleModel",
      "state": {
       "description_width": ""
      }
     },
     "c24b972fec884f73af595a6a7d9f853f": {
      "model_module": "@jupyter-widgets/base",
      "model_module_version": "2.0.0",
      "model_name": "LayoutModel",
      "state": {}
     },
     "d88d62456c594bd0af2d993bba789a4e": {
      "model_module": "@jupyter-widgets/controls",
      "model_module_version": "2.0.0",
      "model_name": "DescriptionStyleModel",
      "state": {
       "description_width": ""
      }
     },
     "e1198e70c95e491a87ac06922c6f9997": {
      "model_module": "@jupyter-widgets/controls",
      "model_module_version": "2.0.0",
      "model_name": "DropdownModel",
      "state": {
       "_options_labels": [
        "False",
        "True"
       ],
       "description": "epos",
       "index": 0,
       "layout": "IPY_MODEL_c24b972fec884f73af595a6a7d9f853f",
       "style": "IPY_MODEL_1fe895c007d54575b2e78b95d2137dbe"
      }
     },
     "e65253fb4cba488bb0b5e1a5ce7dae8f": {
      "model_module": "@jupyter-widgets/output",
      "model_module_version": "1.0.0",
      "model_name": "OutputModel",
      "state": {
       "layout": "IPY_MODEL_9b4be0cbefd7403ca5e1f03305c50227"
      }
     },
     "eec906128f4948d5978ffcd1436b6cd4": {
      "model_module": "@jupyter-widgets/base",
      "model_module_version": "2.0.0",
      "model_name": "LayoutModel",
      "state": {}
     },
     "ef371d3ae296407b9f98291e6062aa48": {
      "model_module": "@jupyter-widgets/controls",
      "model_module_version": "2.0.0",
      "model_name": "TextStyleModel",
      "state": {
       "description_width": "",
       "font_size": null,
       "text_color": null
      }
     },
     "f54bbdbf12ec41848e5c404b1de1f800": {
      "model_module": "@jupyter-widgets/base",
      "model_module_version": "2.0.0",
      "model_name": "LayoutModel",
      "state": {}
     },
     "f68b1f9e962e4a89b43b2ea1f9ad38b1": {
      "model_module": "@jupyter-widgets/controls",
      "model_module_version": "2.0.0",
      "model_name": "FloatTextModel",
      "state": {
       "description": "Max mc:",
       "layout": "IPY_MODEL_340075b2c9da49b2ab22fbf57e619e82",
       "step": null,
       "style": "IPY_MODEL_fc787b3495754cf5b99276d01eb1dfbd",
       "value": 400
      }
     },
     "fc787b3495754cf5b99276d01eb1dfbd": {
      "model_module": "@jupyter-widgets/controls",
      "model_module_version": "2.0.0",
      "model_name": "DescriptionStyleModel",
      "state": {
       "description_width": ""
      }
     },
     "fcffa4f0b40f43e391f99b5c8c4f4429": {
      "model_module": "@jupyter-widgets/controls",
      "model_module_version": "2.0.0",
      "model_name": "DescriptionStyleModel",
      "state": {
       "description_width": ""
      }
     }
    },
    "version_major": 2,
    "version_minor": 0
   }
  }
 },
 "nbformat": 4,
 "nbformat_minor": 4
}

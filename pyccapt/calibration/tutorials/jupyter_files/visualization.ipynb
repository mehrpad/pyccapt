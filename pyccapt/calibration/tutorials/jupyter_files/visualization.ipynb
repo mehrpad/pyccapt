{
 "cells": [
  {
   "cell_type": "markdown",
   "metadata": {
    "pycharm": {
     "name": "#%% md\n"
    }
   },
   "source": [
    "<div style=\"margin: 0 auto; padding: 20px; font-family: 'Helvetica', sans-serif; font-size: 16px;\">\n",
    "\n",
    "## Data Visualization Workflow\n",
    "\n",
    "In this workflow within PyCCAPT, we can crop the data, do the voltage and bowl calibration, calculate the 3d reconstruction, and do the ranging.\n",
    "</div>"
   ]
  },
  {
   "cell_type": "code",
   "execution_count": 9,
   "metadata": {
    "pycharm": {
     "name": "#%%\n"
    },
    "tags": []
   },
   "outputs": [
    {
     "name": "stdout",
     "output_type": "stream",
     "text": [
      "The autoreload extension is already loaded. To reload it, use:\n",
      "  %reload_ext autoreload\n"
     ]
    }
   ],
   "source": [
    "# Activate intractive functionality of matplotlib\n",
    "%matplotlib ipympl\n",
    "# Activate auto reload \n",
    "%load_ext autoreload\n",
    "%autoreload 2\n",
    "%reload_ext autoreload\n",
    "# import libraries\n",
    "import os\n",
    "import numpy as np\n",
    "import subprocess\n",
    "from ipywidgets import widgets\n",
    "from IPython.display import display\n",
    "from ipywidgets import fixed, interact_manual\n",
    "import warnings\n",
    "# Ignore all warnings\n",
    "warnings.filterwarnings(\"ignore\")\n",
    "\n",
    "# Local module and scripts\n",
    "from pyccapt.calibration.calibration import widgets as wd\n",
    "from pyccapt.calibration.data_tools import data_tools\n",
    "from pyccapt.calibration.tutorials.tutorials_helpers import helper_data_loader\n",
    "from pyccapt.calibration.tutorials.tutorials_helpers import helper_visualization\n",
    "from pyccapt.calibration.calibration import share_variables\n",
    "from pyccapt.calibration.calibration import ion_selection"
   ]
  },
  {
   "cell_type": "markdown",
   "metadata": {},
   "source": [
    "<div style=\"margin: 0 auto; padding: 20px; font-family: 'Helvetica', sans-serif; font-size: 16px;\">\n",
    "In case of recieving the error about pytable library, you have to install the pytables library with conda command. to do that you can open a new cell and copy the line below in it. Then just run it like other cells. The pytables library will be innstalled.\n",
    "    \n",
    "`!conda install --yes --prefix {sys.prefix} pytables`\n",
    "</div>\n"
   ]
  },
  {
   "cell_type": "markdown",
   "metadata": {},
   "source": [
    "<div style=\"margin: 0 auto; padding: 20px; font-family: 'Helvetica', sans-serif; font-size: 16px;\">\n",
    "In the cell below we create variable object. This object is used in many of the functions to share the data between functions in as easy way. \n",
    "</div>\n"
   ]
  },
  {
   "cell_type": "code",
   "execution_count": 10,
   "metadata": {},
   "outputs": [],
   "source": [
    "variables = share_variables.Variables()"
   ]
  },
  {
   "cell_type": "markdown",
   "metadata": {},
   "source": [
    "<div style=\"margin: 0 auto; padding: 20px; font-family: 'Helvetica', sans-serif; font-size: 16px;\">\n",
    "    \n",
    "By clicking on the button below, you can select the dataset file you want to crop. The dataset file can be in various formats, including HDF5, EPOS, POS, ATO, and CSV. The cropped data will be saved in the same directory as the original dataset file in a new directory nammed load_crop. The name of the cropped dataset file will be the same as the original dataset file. The figures will be saved in the same directory as the dataset file.\n",
    "</div>"
   ]
  },
  {
   "cell_type": "code",
   "execution_count": 11,
   "metadata": {
    "tags": []
   },
   "outputs": [
    {
     "data": {
      "application/vnd.jupyter.widget-view+json": {
       "model_id": "d1d7f4a0e3c343c78188760d4bd15f37",
       "version_major": 2,
       "version_minor": 0
      },
      "text/plain": [
       "Button(description='load dataset', style=ButtonStyle())"
      ]
     },
     "execution_count": 11,
     "metadata": {},
     "output_type": "execute_result"
    }
   ],
   "source": [
    "button = widgets.Button(description='load dataset')\n",
    "\n",
    "@button.on_click\n",
    "def open_file_on_click_r(b):\n",
    "    global dataset_path\n",
    "    folder_path = variables.last_directory\n",
    "    script = '..//..//data_tools//run_dataset_path_qt.py'\n",
    "    cmd = f\"python {script} {folder_path}\"\n",
    "    result = subprocess.run(cmd, capture_output=True, text=True, shell=True)\n",
    "    dataset_path = result.stdout.strip()\n",
    "    variables.last_directory = dataset_path\n",
    "\n",
    "button"
   ]
  },
  {
   "cell_type": "markdown",
   "metadata": {
    "tags": []
   },
   "source": [
    "<div style=\"margin: 0 auto; padding: 20px; font-family: 'Helvetica', sans-serif; font-size: 16px;\">\n",
    "\n",
    "## ROI Selection and Data Cropping\n",
    "    \n",
    "\n",
    "</div>\n",
    "\n"
   ]
  },
  {
   "cell_type": "markdown",
   "metadata": {},
   "source": [
    "<div style=\"margin: 0 auto; padding: 20px; font-family: 'Helvetica', sans-serif; font-size: 16px;\">\n",
    "\n",
    "    \n",
    "From the dropdown lists below, you can select the instrument specifications of the dataset. The instrument specifications are the same as the ones used for the calibration process. Data mode is specify the dataset structure. The dataset can be in raw or calibrated mode. The flight path length is the distance between the sample and the detector. The t0 is the time of flight of the ions with the lowest mass-to-charge ratio. The maximum mass-to-charge ratio is the maximum mass-to-charge ratio of tat you want to plot. You can also change it in te related cells. The detector diameter is the diameter of the detector.\n",
    "</div>\n"
   ]
  },
  {
   "cell_type": "code",
   "execution_count": 4,
   "metadata": {
    "tags": []
   },
   "outputs": [
    {
     "data": {
      "application/vnd.jupyter.widget-view+json": {
       "model_id": "d89a76ed429d49dabf2ac9beab3ffd5b",
       "version_major": 2,
       "version_minor": 0
      },
      "text/plain": [
       "Dropdown(description='Data mode:', options=('pyccapt', 'leap_epos', 'leap_pos', 'leap_apt', 'ato_v6'), value='…"
      ]
     },
     "metadata": {},
     "output_type": "display_data"
    },
    {
     "data": {
      "application/vnd.jupyter.widget-view+json": {
       "model_id": "075268827b7546da83f51d8795263d2e",
       "version_major": 2,
       "version_minor": 0
      },
      "text/plain": [
       "Dropdown(description='Pulse mode:', options=('voltage', 'laser'), value='voltage')"
      ]
     },
     "metadata": {},
     "output_type": "display_data"
    },
    {
     "data": {
      "application/vnd.jupyter.widget-view+json": {
       "model_id": "f716482ee2a84431b71fac33d5d9fa3c",
       "version_major": 2,
       "version_minor": 0
      },
      "text/plain": [
       "FloatText(value=110.0, description='Flight path length:')"
      ]
     },
     "metadata": {},
     "output_type": "display_data"
    },
    {
     "data": {
      "application/vnd.jupyter.widget-view+json": {
       "model_id": "57eaa48960bb4ddeaf0d7953895ee738",
       "version_major": 2,
       "version_minor": 0
      },
      "text/plain": [
       "FloatText(value=38.0, description='t0:')"
      ]
     },
     "metadata": {},
     "output_type": "display_data"
    },
    {
     "data": {
      "application/vnd.jupyter.widget-view+json": {
       "model_id": "5bff3c27251949b8bd9ebf2751460c93",
       "version_major": 2,
       "version_minor": 0
      },
      "text/plain": [
       "FloatText(value=400.0, description='Max mc:')"
      ]
     },
     "metadata": {},
     "output_type": "display_data"
    }
   ],
   "source": [
    "# create an object for selection of instrument specifications of the dataset\n",
    "tdc, pulse_mode, flight_path_length, t0, max_mc, det_diam = wd.dataset_instrument_specification_selection()\n",
    "\n",
    "# Display lists and comboboxes to selected instrument specifications\n",
    "display(tdc, pulse_mode, flight_path_length, t0, max_mc)"
   ]
  },
  {
   "cell_type": "code",
   "execution_count": 5,
   "metadata": {},
   "outputs": [],
   "source": [
    "# import pandas as pd\n",
    "\n",
    "# df = pd.read_hdf('D:/3D_AI_save_models/pinn_best/2025-February-05_18-08-00_pinn_fc_4096_2_APTFC_s-1_b-8192_dropout0.5_L1-0.0_L2-0.0/predictions_s-1/predictions.h5')\n",
    "# df = df.iloc[::-1].reset_index(drop=True)\n",
    "# df"
   ]
  },
  {
   "cell_type": "code",
   "execution_count": 13,
   "metadata": {},
   "outputs": [],
   "source": [
    "variables.data = variables.data[:2_000_000]"
   ]
  },
  {
   "cell_type": "code",
   "execution_count": 12,
   "metadata": {
    "tags": []
   },
   "outputs": [
    {
     "name": "stdout",
     "output_type": "stream",
     "text": [
      "The data will be saved on the path: E:/ai_driven_apt_3d_reconstruction/data/R56_09770-v01_LM_LEAP_rc/visualization/\n",
      "=============================\n",
      "The dataset name after saving is: R56_09770-v01_LM_LEAP_rc\n",
      "=============================\n",
      "The figures will be saved on the path: E:/ai_driven_apt_3d_reconstruction/data/R56_09770-v01_LM_LEAP_rc/visualization/\n",
      "=============================\n",
      "Total number of Ions: 9844179\n",
      "The maximum possible time of flight is: 5010\n"
     ]
    },
    {
     "data": {
      "text/html": [
       "<div>\n",
       "<style scoped>\n",
       "    .dataframe tbody tr th:only-of-type {\n",
       "        vertical-align: middle;\n",
       "    }\n",
       "\n",
       "    .dataframe tbody tr th {\n",
       "        vertical-align: top;\n",
       "    }\n",
       "\n",
       "    .dataframe thead th {\n",
       "        text-align: right;\n",
       "    }\n",
       "</style>\n",
       "<table border=\"1\" class=\"dataframe\">\n",
       "  <thead>\n",
       "    <tr style=\"text-align: right;\">\n",
       "      <th></th>\n",
       "      <th>x (nm)</th>\n",
       "      <th>y (nm)</th>\n",
       "      <th>z (nm)</th>\n",
       "      <th>mc (Da)</th>\n",
       "      <th>mc_uc (Da)</th>\n",
       "      <th>high_voltage (V)</th>\n",
       "      <th>pulse_v (V)</th>\n",
       "      <th>pulse_l (pJ)</th>\n",
       "      <th>t (ns)</th>\n",
       "      <th>t_c (ns)</th>\n",
       "      <th>x_det (cm)</th>\n",
       "      <th>y_det (cm)</th>\n",
       "      <th>delta_p</th>\n",
       "      <th>multi</th>\n",
       "      <th>start_counter</th>\n",
       "    </tr>\n",
       "  </thead>\n",
       "  <tbody>\n",
       "    <tr>\n",
       "      <th>0</th>\n",
       "      <td>-9.762777</td>\n",
       "      <td>6.067947</td>\n",
       "      <td>3.633320</td>\n",
       "      <td>61.926613</td>\n",
       "      <td>0.0</td>\n",
       "      <td>2336.120117</td>\n",
       "      <td>0.0</td>\n",
       "      <td>0.0</td>\n",
       "      <td>3894.886719</td>\n",
       "      <td>0.0</td>\n",
       "      <td>-0.019202</td>\n",
       "      <td>0.125393</td>\n",
       "      <td>62</td>\n",
       "      <td>1</td>\n",
       "      <td>0</td>\n",
       "    </tr>\n",
       "    <tr>\n",
       "      <th>1</th>\n",
       "      <td>0.695408</td>\n",
       "      <td>2.319493</td>\n",
       "      <td>0.147132</td>\n",
       "      <td>53.940742</td>\n",
       "      <td>0.0</td>\n",
       "      <td>2336.120117</td>\n",
       "      <td>0.0</td>\n",
       "      <td>0.0</td>\n",
       "      <td>3753.868652</td>\n",
       "      <td>0.0</td>\n",
       "      <td>-0.034688</td>\n",
       "      <td>-0.022763</td>\n",
       "      <td>152</td>\n",
       "      <td>1</td>\n",
       "      <td>0</td>\n",
       "    </tr>\n",
       "    <tr>\n",
       "      <th>2</th>\n",
       "      <td>1.734118</td>\n",
       "      <td>3.074459</td>\n",
       "      <td>0.313951</td>\n",
       "      <td>51.973881</td>\n",
       "      <td>0.0</td>\n",
       "      <td>2336.120117</td>\n",
       "      <td>0.0</td>\n",
       "      <td>0.0</td>\n",
       "      <td>3691.825928</td>\n",
       "      <td>0.0</td>\n",
       "      <td>-0.049524</td>\n",
       "      <td>-0.027997</td>\n",
       "      <td>58</td>\n",
       "      <td>1</td>\n",
       "      <td>0</td>\n",
       "    </tr>\n",
       "    <tr>\n",
       "      <th>3</th>\n",
       "      <td>0.974282</td>\n",
       "      <td>-9.012513</td>\n",
       "      <td>2.172342</td>\n",
       "      <td>57.892830</td>\n",
       "      <td>0.0</td>\n",
       "      <td>2336.120117</td>\n",
       "      <td>0.0</td>\n",
       "      <td>0.0</td>\n",
       "      <td>3867.165039</td>\n",
       "      <td>0.0</td>\n",
       "      <td>0.091557</td>\n",
       "      <td>-0.102887</td>\n",
       "      <td>23</td>\n",
       "      <td>1</td>\n",
       "      <td>0</td>\n",
       "    </tr>\n",
       "    <tr>\n",
       "      <th>4</th>\n",
       "      <td>-12.462036</td>\n",
       "      <td>-0.085641</td>\n",
       "      <td>4.357419</td>\n",
       "      <td>26.981827</td>\n",
       "      <td>0.0</td>\n",
       "      <td>2336.120117</td>\n",
       "      <td>0.0</td>\n",
       "      <td>0.0</td>\n",
       "      <td>2554.733398</td>\n",
       "      <td>0.0</td>\n",
       "      <td>0.081094</td>\n",
       "      <td>0.109164</td>\n",
       "      <td>124</td>\n",
       "      <td>1</td>\n",
       "      <td>0</td>\n",
       "    </tr>\n",
       "    <tr>\n",
       "      <th>...</th>\n",
       "      <td>...</td>\n",
       "      <td>...</td>\n",
       "      <td>...</td>\n",
       "      <td>...</td>\n",
       "      <td>...</td>\n",
       "      <td>...</td>\n",
       "      <td>...</td>\n",
       "      <td>...</td>\n",
       "      <td>...</td>\n",
       "      <td>...</td>\n",
       "      <td>...</td>\n",
       "      <td>...</td>\n",
       "      <td>...</td>\n",
       "      <td>...</td>\n",
       "      <td>...</td>\n",
       "    </tr>\n",
       "    <tr>\n",
       "      <th>9844174</th>\n",
       "      <td>3.546847</td>\n",
       "      <td>13.888915</td>\n",
       "      <td>93.694427</td>\n",
       "      <td>57.928997</td>\n",
       "      <td>0.0</td>\n",
       "      <td>7695.790039</td>\n",
       "      <td>0.0</td>\n",
       "      <td>0.0</td>\n",
       "      <td>2139.775146</td>\n",
       "      <td>0.0</td>\n",
       "      <td>-0.097218</td>\n",
       "      <td>-0.001824</td>\n",
       "      <td>230</td>\n",
       "      <td>1</td>\n",
       "      <td>0</td>\n",
       "    </tr>\n",
       "    <tr>\n",
       "      <th>9844175</th>\n",
       "      <td>-11.616783</td>\n",
       "      <td>2.130886</td>\n",
       "      <td>92.798866</td>\n",
       "      <td>25.980337</td>\n",
       "      <td>0.0</td>\n",
       "      <td>7695.790039</td>\n",
       "      <td>0.0</td>\n",
       "      <td>0.0</td>\n",
       "      <td>1410.338257</td>\n",
       "      <td>0.0</td>\n",
       "      <td>0.019241</td>\n",
       "      <td>0.036617</td>\n",
       "      <td>308</td>\n",
       "      <td>1</td>\n",
       "      <td>0</td>\n",
       "    </tr>\n",
       "    <tr>\n",
       "      <th>9844176</th>\n",
       "      <td>14.079150</td>\n",
       "      <td>-9.819579</td>\n",
       "      <td>94.940720</td>\n",
       "      <td>28.954844</td>\n",
       "      <td>0.0</td>\n",
       "      <td>7695.790039</td>\n",
       "      <td>0.0</td>\n",
       "      <td>0.0</td>\n",
       "      <td>1528.093872</td>\n",
       "      <td>0.0</td>\n",
       "      <td>0.007644</td>\n",
       "      <td>-0.147613</td>\n",
       "      <td>646</td>\n",
       "      <td>1</td>\n",
       "      <td>0</td>\n",
       "    </tr>\n",
       "    <tr>\n",
       "      <th>9844177</th>\n",
       "      <td>6.096278</td>\n",
       "      <td>0.119694</td>\n",
       "      <td>91.451447</td>\n",
       "      <td>57.889843</td>\n",
       "      <td>0.0</td>\n",
       "      <td>7695.790039</td>\n",
       "      <td>0.0</td>\n",
       "      <td>0.0</td>\n",
       "      <td>2151.238037</td>\n",
       "      <td>0.0</td>\n",
       "      <td>-0.024889</td>\n",
       "      <td>-0.060914</td>\n",
       "      <td>705</td>\n",
       "      <td>1</td>\n",
       "      <td>0</td>\n",
       "    </tr>\n",
       "    <tr>\n",
       "      <th>9844178</th>\n",
       "      <td>7.060112</td>\n",
       "      <td>12.430894</td>\n",
       "      <td>93.679207</td>\n",
       "      <td>29.490499</td>\n",
       "      <td>0.0</td>\n",
       "      <td>7695.790039</td>\n",
       "      <td>0.0</td>\n",
       "      <td>0.0</td>\n",
       "      <td>1532.298828</td>\n",
       "      <td>0.0</td>\n",
       "      <td>-0.101171</td>\n",
       "      <td>-0.024137</td>\n",
       "      <td>139</td>\n",
       "      <td>1</td>\n",
       "      <td>0</td>\n",
       "    </tr>\n",
       "  </tbody>\n",
       "</table>\n",
       "<p>9844179 rows × 15 columns</p>\n",
       "</div>"
      ],
      "text/plain": [
       "            x (nm)     y (nm)     z (nm)    mc (Da)  mc_uc (Da)  \\\n",
       "0        -9.762777   6.067947   3.633320  61.926613         0.0   \n",
       "1         0.695408   2.319493   0.147132  53.940742         0.0   \n",
       "2         1.734118   3.074459   0.313951  51.973881         0.0   \n",
       "3         0.974282  -9.012513   2.172342  57.892830         0.0   \n",
       "4       -12.462036  -0.085641   4.357419  26.981827         0.0   \n",
       "...            ...        ...        ...        ...         ...   \n",
       "9844174   3.546847  13.888915  93.694427  57.928997         0.0   \n",
       "9844175 -11.616783   2.130886  92.798866  25.980337         0.0   \n",
       "9844176  14.079150  -9.819579  94.940720  28.954844         0.0   \n",
       "9844177   6.096278   0.119694  91.451447  57.889843         0.0   \n",
       "9844178   7.060112  12.430894  93.679207  29.490499         0.0   \n",
       "\n",
       "         high_voltage (V)  pulse_v (V)  pulse_l (pJ)       t (ns)  t_c (ns)  \\\n",
       "0             2336.120117          0.0           0.0  3894.886719       0.0   \n",
       "1             2336.120117          0.0           0.0  3753.868652       0.0   \n",
       "2             2336.120117          0.0           0.0  3691.825928       0.0   \n",
       "3             2336.120117          0.0           0.0  3867.165039       0.0   \n",
       "4             2336.120117          0.0           0.0  2554.733398       0.0   \n",
       "...                   ...          ...           ...          ...       ...   \n",
       "9844174       7695.790039          0.0           0.0  2139.775146       0.0   \n",
       "9844175       7695.790039          0.0           0.0  1410.338257       0.0   \n",
       "9844176       7695.790039          0.0           0.0  1528.093872       0.0   \n",
       "9844177       7695.790039          0.0           0.0  2151.238037       0.0   \n",
       "9844178       7695.790039          0.0           0.0  1532.298828       0.0   \n",
       "\n",
       "         x_det (cm)  y_det (cm)  delta_p  multi  start_counter  \n",
       "0         -0.019202    0.125393       62      1              0  \n",
       "1         -0.034688   -0.022763      152      1              0  \n",
       "2         -0.049524   -0.027997       58      1              0  \n",
       "3          0.091557   -0.102887       23      1              0  \n",
       "4          0.081094    0.109164      124      1              0  \n",
       "...             ...         ...      ...    ...            ...  \n",
       "9844174   -0.097218   -0.001824      230      1              0  \n",
       "9844175    0.019241    0.036617      308      1              0  \n",
       "9844176    0.007644   -0.147613      646      1              0  \n",
       "9844177   -0.024889   -0.060914      705      1              0  \n",
       "9844178   -0.101171   -0.024137      139      1              0  \n",
       "\n",
       "[9844179 rows x 15 columns]"
      ]
     },
     "metadata": {},
     "output_type": "display_data"
    },
    {
     "data": {
      "text/html": [
       "<div>\n",
       "<style scoped>\n",
       "    .dataframe tbody tr th:only-of-type {\n",
       "        vertical-align: middle;\n",
       "    }\n",
       "\n",
       "    .dataframe tbody tr th {\n",
       "        vertical-align: top;\n",
       "    }\n",
       "\n",
       "    .dataframe thead th {\n",
       "        text-align: right;\n",
       "    }\n",
       "</style>\n",
       "<table border=\"1\" class=\"dataframe\">\n",
       "  <thead>\n",
       "    <tr style=\"text-align: right;\">\n",
       "      <th></th>\n",
       "      <th>name</th>\n",
       "      <th>ion</th>\n",
       "      <th>mass</th>\n",
       "      <th>mc</th>\n",
       "      <th>mc_low</th>\n",
       "      <th>mc_up</th>\n",
       "      <th>color</th>\n",
       "      <th>element</th>\n",
       "      <th>complex</th>\n",
       "      <th>isotope</th>\n",
       "      <th>charge</th>\n",
       "    </tr>\n",
       "  </thead>\n",
       "  <tbody>\n",
       "    <tr>\n",
       "      <th>0</th>\n",
       "      <td>unranged0</td>\n",
       "      <td>un</td>\n",
       "      <td>0.0</td>\n",
       "      <td>0.0</td>\n",
       "      <td>0.0</td>\n",
       "      <td>400.0</td>\n",
       "      <td>#000000</td>\n",
       "      <td>[unranged]</td>\n",
       "      <td>[0]</td>\n",
       "      <td>[0]</td>\n",
       "      <td>0</td>\n",
       "    </tr>\n",
       "  </tbody>\n",
       "</table>\n",
       "</div>"
      ],
      "text/plain": [
       "        name ion  mass   mc  mc_low  mc_up    color     element complex  \\\n",
       "0  unranged0  un   0.0  0.0     0.0  400.0  #000000  [unranged]     [0]   \n",
       "\n",
       "  isotope  charge  \n",
       "0     [0]       0  "
      ]
     },
     "metadata": {},
     "output_type": "display_data"
    }
   ],
   "source": [
    "helper_data_loader.load_data(dataset_path, max_mc.value, flight_path_length.value, pulse_mode.value, tdc.value, variables, processing_mode=False)\n",
    "data_tools.extract_data(variables.data, variables, flight_path_length.value, max_mc.value)\n",
    "display(variables.data)\n",
    "display(variables.range_data)"
   ]
  },
  {
   "cell_type": "code",
   "execution_count": 14,
   "metadata": {},
   "outputs": [
    {
     "data": {
      "text/plain": [
       "-24.010223388671875"
      ]
     },
     "execution_count": 14,
     "metadata": {},
     "output_type": "execute_result"
    }
   ],
   "source": [
    "z = - variables.data['z (nm)'].to_numpy()\n",
    "dz = np.diff(z)\n",
    "np.min(dz)"
   ]
  },
  {
   "cell_type": "code",
   "execution_count": 45,
   "metadata": {},
   "outputs": [
    {
     "data": {
      "text/plain": [
       "1.6791487"
      ]
     },
     "execution_count": 45,
     "metadata": {},
     "output_type": "execute_result"
    }
   ],
   "source": [
    "det_x = - variables.data['x_det (cm)'].to_numpy()\n",
    "np.max(det_x)"
   ]
  },
  {
   "cell_type": "markdown",
   "metadata": {},
   "source": [
    "<div style=\"margin: 0 auto; padding: 20px;\">\n",
    "\n",
    "Load a pre saved range file if you want from cell below\n",
    "</div>\n"
   ]
  },
  {
   "cell_type": "code",
   "execution_count": 7,
   "metadata": {
    "tags": []
   },
   "outputs": [
    {
     "data": {
      "application/vnd.jupyter.widget-view+json": {
       "model_id": "03d2165deca042d988d98975473f90ba",
       "version_major": 2,
       "version_minor": 0
      },
      "text/plain": [
       "Button(description='load range dataset', style=ButtonStyle())"
      ]
     },
     "execution_count": 7,
     "metadata": {},
     "output_type": "execute_result"
    }
   ],
   "source": [
    "button_r = widgets.Button(description='load range dataset')\n",
    "\n",
    "@button_r.on_click\n",
    "def open_file_on_click_r(b):\n",
    "    global range_path\n",
    "    folder_path = variables.last_directory\n",
    "    script = '..//..//data_tools//run_dataset_path_qt.py'\n",
    "    cmd = f\"python {script} {folder_path}\"\n",
    "    result = subprocess.run(cmd, capture_output=True, text=True, shell=True)\n",
    "    range_path = result.stdout.strip()\n",
    "\n",
    "button_r"
   ]
  },
  {
   "cell_type": "code",
   "execution_count": 8,
   "metadata": {
    "tags": []
   },
   "outputs": [],
   "source": [
    "if 'range_path' in globals():\n",
    "    variables.range_data = data_tools.read_range(range_path)"
   ]
  },
  {
   "cell_type": "code",
   "execution_count": 9,
   "metadata": {},
   "outputs": [
    {
     "data": {
      "text/html": [
       "<style type=\"text/css\">\n",
       "#T_50907_row0_col5 {\n",
       "  background-color: #000000;\n",
       "  width: 50px;\n",
       "  height: 20px;\n",
       "}\n",
       "</style>\n",
       "<table id=\"T_50907\">\n",
       "  <thead>\n",
       "    <tr>\n",
       "      <th class=\"blank level0\" >&nbsp;</th>\n",
       "      <th id=\"T_50907_level0_col0\" class=\"col_heading level0 col0\" >ion</th>\n",
       "      <th id=\"T_50907_level0_col1\" class=\"col_heading level0 col1\" >mass</th>\n",
       "      <th id=\"T_50907_level0_col2\" class=\"col_heading level0 col2\" >mc</th>\n",
       "      <th id=\"T_50907_level0_col3\" class=\"col_heading level0 col3\" >mc_low</th>\n",
       "      <th id=\"T_50907_level0_col4\" class=\"col_heading level0 col4\" >mc_up</th>\n",
       "      <th id=\"T_50907_level0_col5\" class=\"col_heading level0 col5\" >color</th>\n",
       "      <th id=\"T_50907_level0_col6\" class=\"col_heading level0 col6\" >element</th>\n",
       "      <th id=\"T_50907_level0_col7\" class=\"col_heading level0 col7\" >complex</th>\n",
       "      <th id=\"T_50907_level0_col8\" class=\"col_heading level0 col8\" >isotope</th>\n",
       "      <th id=\"T_50907_level0_col9\" class=\"col_heading level0 col9\" >charge</th>\n",
       "    </tr>\n",
       "  </thead>\n",
       "  <tbody>\n",
       "    <tr>\n",
       "      <th id=\"T_50907_level0_row0\" class=\"row_heading level0 row0\" >0</th>\n",
       "      <td id=\"T_50907_row0_col0\" class=\"data row0 col0\" >unranged</td>\n",
       "      <td id=\"T_50907_row0_col1\" class=\"data row0 col1\" >0.000000</td>\n",
       "      <td id=\"T_50907_row0_col2\" class=\"data row0 col2\" >0.000000</td>\n",
       "      <td id=\"T_50907_row0_col3\" class=\"data row0 col3\" >0.000000</td>\n",
       "      <td id=\"T_50907_row0_col4\" class=\"data row0 col4\" >400.000000</td>\n",
       "      <td id=\"T_50907_row0_col5\" class=\"data row0 col5\" >#000000</td>\n",
       "      <td id=\"T_50907_row0_col6\" class=\"data row0 col6\" >unranged</td>\n",
       "      <td id=\"T_50907_row0_col7\" class=\"data row0 col7\" >0</td>\n",
       "      <td id=\"T_50907_row0_col8\" class=\"data row0 col8\" >0</td>\n",
       "      <td id=\"T_50907_row0_col9\" class=\"data row0 col9\" >0</td>\n",
       "    </tr>\n",
       "  </tbody>\n",
       "</table>\n"
      ],
      "text/plain": [
       "<pandas.io.formats.style.Styler at 0x2a01a66c400>"
      ]
     },
     "metadata": {},
     "output_type": "display_data"
    }
   ],
   "source": [
    "display(variables.range_data.style.applymap(ion_selection.display_color, subset=['color']))"
   ]
  },
  {
   "cell_type": "markdown",
   "metadata": {},
   "source": [
    "<div style=\"margin: 0 auto; padding: 20px; font-family: 'Helvetica', sans-serif; font-size: 16px;\">\n",
    "\n",
    "Save the range in the hdf5 and csv format.\n",
    "\n",
    "</div>"
   ]
  },
  {
   "cell_type": "code",
   "execution_count": null,
   "metadata": {},
   "outputs": [],
   "source": [
    "interact_manual_range = interact_manual.options(manual_name=\"save range\")\n",
    "interact_manual_range(data_tools.save_range, variables=fixed(variables));"
   ]
  },
  {
   "cell_type": "code",
   "execution_count": 11,
   "metadata": {},
   "outputs": [
    {
     "data": {
      "text/html": [
       "<div>\n",
       "<style scoped>\n",
       "    .dataframe tbody tr th:only-of-type {\n",
       "        vertical-align: middle;\n",
       "    }\n",
       "\n",
       "    .dataframe tbody tr th {\n",
       "        vertical-align: top;\n",
       "    }\n",
       "\n",
       "    .dataframe thead th {\n",
       "        text-align: right;\n",
       "    }\n",
       "</style>\n",
       "<table border=\"1\" class=\"dataframe\">\n",
       "  <thead>\n",
       "    <tr style=\"text-align: right;\">\n",
       "      <th></th>\n",
       "      <th>x (nm)</th>\n",
       "      <th>y (nm)</th>\n",
       "      <th>z (nm)</th>\n",
       "      <th>mc (Da)</th>\n",
       "      <th>mc_uc (Da)</th>\n",
       "      <th>high_voltage (V)</th>\n",
       "      <th>pulse</th>\n",
       "      <th>t (ns)</th>\n",
       "      <th>t_c (ns)</th>\n",
       "      <th>x_det (cm)</th>\n",
       "      <th>y_det (cm)</th>\n",
       "      <th>delta_p</th>\n",
       "      <th>multi</th>\n",
       "      <th>start_counter</th>\n",
       "    </tr>\n",
       "  </thead>\n",
       "  <tbody>\n",
       "    <tr>\n",
       "      <th>0</th>\n",
       "      <td>-9.762777</td>\n",
       "      <td>6.067947</td>\n",
       "      <td>3.633320</td>\n",
       "      <td>61.926613</td>\n",
       "      <td>0.0</td>\n",
       "      <td>2336.120117</td>\n",
       "      <td>0.0</td>\n",
       "      <td>3894.886719</td>\n",
       "      <td>0.0</td>\n",
       "      <td>-1.291257</td>\n",
       "      <td>1.014173</td>\n",
       "      <td>62</td>\n",
       "      <td>1</td>\n",
       "      <td>0</td>\n",
       "    </tr>\n",
       "    <tr>\n",
       "      <th>1</th>\n",
       "      <td>0.695408</td>\n",
       "      <td>2.319493</td>\n",
       "      <td>0.147132</td>\n",
       "      <td>53.940742</td>\n",
       "      <td>0.0</td>\n",
       "      <td>2336.120117</td>\n",
       "      <td>0.0</td>\n",
       "      <td>3753.868652</td>\n",
       "      <td>0.0</td>\n",
       "      <td>0.109610</td>\n",
       "      <td>0.335396</td>\n",
       "      <td>152</td>\n",
       "      <td>1</td>\n",
       "      <td>0</td>\n",
       "    </tr>\n",
       "    <tr>\n",
       "      <th>2</th>\n",
       "      <td>1.734118</td>\n",
       "      <td>3.074459</td>\n",
       "      <td>0.313951</td>\n",
       "      <td>51.973881</td>\n",
       "      <td>0.0</td>\n",
       "      <td>2336.120117</td>\n",
       "      <td>0.0</td>\n",
       "      <td>3691.825928</td>\n",
       "      <td>0.0</td>\n",
       "      <td>0.275361</td>\n",
       "      <td>0.447194</td>\n",
       "      <td>58</td>\n",
       "      <td>1</td>\n",
       "      <td>0</td>\n",
       "    </tr>\n",
       "    <tr>\n",
       "      <th>3</th>\n",
       "      <td>0.974282</td>\n",
       "      <td>-9.012513</td>\n",
       "      <td>2.172342</td>\n",
       "      <td>57.892830</td>\n",
       "      <td>0.0</td>\n",
       "      <td>2336.120117</td>\n",
       "      <td>0.0</td>\n",
       "      <td>3867.165039</td>\n",
       "      <td>0.0</td>\n",
       "      <td>0.272688</td>\n",
       "      <td>-1.338921</td>\n",
       "      <td>23</td>\n",
       "      <td>1</td>\n",
       "      <td>0</td>\n",
       "    </tr>\n",
       "    <tr>\n",
       "      <th>4</th>\n",
       "      <td>-12.462036</td>\n",
       "      <td>-0.085641</td>\n",
       "      <td>4.357419</td>\n",
       "      <td>26.981827</td>\n",
       "      <td>0.0</td>\n",
       "      <td>2336.120117</td>\n",
       "      <td>0.0</td>\n",
       "      <td>2554.733398</td>\n",
       "      <td>0.0</td>\n",
       "      <td>-1.665535</td>\n",
       "      <td>-0.015971</td>\n",
       "      <td>124</td>\n",
       "      <td>1</td>\n",
       "      <td>0</td>\n",
       "    </tr>\n",
       "    <tr>\n",
       "      <th>...</th>\n",
       "      <td>...</td>\n",
       "      <td>...</td>\n",
       "      <td>...</td>\n",
       "      <td>...</td>\n",
       "      <td>...</td>\n",
       "      <td>...</td>\n",
       "      <td>...</td>\n",
       "      <td>...</td>\n",
       "      <td>...</td>\n",
       "      <td>...</td>\n",
       "      <td>...</td>\n",
       "      <td>...</td>\n",
       "      <td>...</td>\n",
       "      <td>...</td>\n",
       "    </tr>\n",
       "    <tr>\n",
       "      <th>9844174</th>\n",
       "      <td>3.546847</td>\n",
       "      <td>13.888915</td>\n",
       "      <td>93.694427</td>\n",
       "      <td>57.928997</td>\n",
       "      <td>0.0</td>\n",
       "      <td>7695.790039</td>\n",
       "      <td>0.0</td>\n",
       "      <td>2139.775146</td>\n",
       "      <td>0.0</td>\n",
       "      <td>0.355564</td>\n",
       "      <td>1.046115</td>\n",
       "      <td>230</td>\n",
       "      <td>1</td>\n",
       "      <td>0</td>\n",
       "    </tr>\n",
       "    <tr>\n",
       "      <th>9844175</th>\n",
       "      <td>-11.616783</td>\n",
       "      <td>2.130886</td>\n",
       "      <td>92.798866</td>\n",
       "      <td>25.980337</td>\n",
       "      <td>0.0</td>\n",
       "      <td>7695.790039</td>\n",
       "      <td>0.0</td>\n",
       "      <td>1410.338257</td>\n",
       "      <td>0.0</td>\n",
       "      <td>-0.823410</td>\n",
       "      <td>0.162374</td>\n",
       "      <td>308</td>\n",
       "      <td>1</td>\n",
       "      <td>0</td>\n",
       "    </tr>\n",
       "    <tr>\n",
       "      <th>9844176</th>\n",
       "      <td>14.079150</td>\n",
       "      <td>-9.819579</td>\n",
       "      <td>94.940720</td>\n",
       "      <td>28.954844</td>\n",
       "      <td>0.0</td>\n",
       "      <td>7695.790039</td>\n",
       "      <td>0.0</td>\n",
       "      <td>1528.093872</td>\n",
       "      <td>0.0</td>\n",
       "      <td>1.229769</td>\n",
       "      <td>-0.790576</td>\n",
       "      <td>646</td>\n",
       "      <td>1</td>\n",
       "      <td>0</td>\n",
       "    </tr>\n",
       "    <tr>\n",
       "      <th>9844177</th>\n",
       "      <td>6.096278</td>\n",
       "      <td>0.119694</td>\n",
       "      <td>91.451447</td>\n",
       "      <td>57.889843</td>\n",
       "      <td>0.0</td>\n",
       "      <td>7695.790039</td>\n",
       "      <td>0.0</td>\n",
       "      <td>2151.238037</td>\n",
       "      <td>0.0</td>\n",
       "      <td>0.473194</td>\n",
       "      <td>0.007986</td>\n",
       "      <td>705</td>\n",
       "      <td>1</td>\n",
       "      <td>0</td>\n",
       "    </tr>\n",
       "    <tr>\n",
       "      <th>9844178</th>\n",
       "      <td>7.060112</td>\n",
       "      <td>12.430894</td>\n",
       "      <td>93.679207</td>\n",
       "      <td>29.490499</td>\n",
       "      <td>0.0</td>\n",
       "      <td>7695.790039</td>\n",
       "      <td>0.0</td>\n",
       "      <td>1532.298828</td>\n",
       "      <td>0.0</td>\n",
       "      <td>0.633598</td>\n",
       "      <td>0.947626</td>\n",
       "      <td>139</td>\n",
       "      <td>1</td>\n",
       "      <td>0</td>\n",
       "    </tr>\n",
       "  </tbody>\n",
       "</table>\n",
       "<p>9844179 rows × 14 columns</p>\n",
       "</div>"
      ],
      "text/plain": [
       "            x (nm)     y (nm)     z (nm)    mc (Da)  mc_uc (Da)  \\\n",
       "0        -9.762777   6.067947   3.633320  61.926613         0.0   \n",
       "1         0.695408   2.319493   0.147132  53.940742         0.0   \n",
       "2         1.734118   3.074459   0.313951  51.973881         0.0   \n",
       "3         0.974282  -9.012513   2.172342  57.892830         0.0   \n",
       "4       -12.462036  -0.085641   4.357419  26.981827         0.0   \n",
       "...            ...        ...        ...        ...         ...   \n",
       "9844174   3.546847  13.888915  93.694427  57.928997         0.0   \n",
       "9844175 -11.616783   2.130886  92.798866  25.980337         0.0   \n",
       "9844176  14.079150  -9.819579  94.940720  28.954844         0.0   \n",
       "9844177   6.096278   0.119694  91.451447  57.889843         0.0   \n",
       "9844178   7.060112  12.430894  93.679207  29.490499         0.0   \n",
       "\n",
       "         high_voltage (V)  pulse       t (ns)  t_c (ns)  x_det (cm)  \\\n",
       "0             2336.120117    0.0  3894.886719       0.0   -1.291257   \n",
       "1             2336.120117    0.0  3753.868652       0.0    0.109610   \n",
       "2             2336.120117    0.0  3691.825928       0.0    0.275361   \n",
       "3             2336.120117    0.0  3867.165039       0.0    0.272688   \n",
       "4             2336.120117    0.0  2554.733398       0.0   -1.665535   \n",
       "...                   ...    ...          ...       ...         ...   \n",
       "9844174       7695.790039    0.0  2139.775146       0.0    0.355564   \n",
       "9844175       7695.790039    0.0  1410.338257       0.0   -0.823410   \n",
       "9844176       7695.790039    0.0  1528.093872       0.0    1.229769   \n",
       "9844177       7695.790039    0.0  2151.238037       0.0    0.473194   \n",
       "9844178       7695.790039    0.0  1532.298828       0.0    0.633598   \n",
       "\n",
       "         y_det (cm)  delta_p  multi  start_counter  \n",
       "0          1.014173       62      1              0  \n",
       "1          0.335396      152      1              0  \n",
       "2          0.447194       58      1              0  \n",
       "3         -1.338921       23      1              0  \n",
       "4         -0.015971      124      1              0  \n",
       "...             ...      ...    ...            ...  \n",
       "9844174    1.046115      230      1              0  \n",
       "9844175    0.162374      308      1              0  \n",
       "9844176   -0.790576      646      1              0  \n",
       "9844177    0.007986      705      1              0  \n",
       "9844178    0.947626      139      1              0  \n",
       "\n",
       "[9844179 rows x 14 columns]"
      ]
     },
     "execution_count": 11,
     "metadata": {},
     "output_type": "execute_result"
    }
   ],
   "source": [
    "variables.data = variables.data.rename(columns={\"pulse_pi\": \"delta_p\"})\n",
    "variables.data = variables.data.rename(columns={\"ion_pp\": \"multi\"})\n",
    "variables.data"
   ]
  },
  {
   "cell_type": "code",
   "execution_count": 14,
   "metadata": {},
   "outputs": [
    {
     "data": {
      "text/html": [
       "<div>\n",
       "<style scoped>\n",
       "    .dataframe tbody tr th:only-of-type {\n",
       "        vertical-align: middle;\n",
       "    }\n",
       "\n",
       "    .dataframe tbody tr th {\n",
       "        vertical-align: top;\n",
       "    }\n",
       "\n",
       "    .dataframe thead th {\n",
       "        text-align: right;\n",
       "    }\n",
       "</style>\n",
       "<table border=\"1\" class=\"dataframe\">\n",
       "  <thead>\n",
       "    <tr style=\"text-align: right;\">\n",
       "      <th></th>\n",
       "      <th>x (nm)</th>\n",
       "      <th>y (nm)</th>\n",
       "      <th>z (nm)</th>\n",
       "      <th>mc (Da)</th>\n",
       "      <th>mc_uc (Da)</th>\n",
       "      <th>high_voltage (V)</th>\n",
       "      <th>pulse_v (V)</th>\n",
       "      <th>pulse_l (pJ)</th>\n",
       "      <th>t (ns)</th>\n",
       "      <th>t_c (ns)</th>\n",
       "      <th>x_det (cm)</th>\n",
       "      <th>y_det (cm)</th>\n",
       "      <th>delta_p</th>\n",
       "      <th>multi</th>\n",
       "      <th>start_counter</th>\n",
       "    </tr>\n",
       "  </thead>\n",
       "  <tbody>\n",
       "    <tr>\n",
       "      <th>0</th>\n",
       "      <td>-9.762777</td>\n",
       "      <td>6.067947</td>\n",
       "      <td>3.633320</td>\n",
       "      <td>61.926613</td>\n",
       "      <td>0.0</td>\n",
       "      <td>2336.120117</td>\n",
       "      <td>0.0</td>\n",
       "      <td>0.0</td>\n",
       "      <td>3894.886719</td>\n",
       "      <td>0.0</td>\n",
       "      <td>-0.019202</td>\n",
       "      <td>0.125393</td>\n",
       "      <td>62</td>\n",
       "      <td>1</td>\n",
       "      <td>0</td>\n",
       "    </tr>\n",
       "    <tr>\n",
       "      <th>1</th>\n",
       "      <td>0.695408</td>\n",
       "      <td>2.319493</td>\n",
       "      <td>0.147132</td>\n",
       "      <td>53.940742</td>\n",
       "      <td>0.0</td>\n",
       "      <td>2336.120117</td>\n",
       "      <td>0.0</td>\n",
       "      <td>0.0</td>\n",
       "      <td>3753.868652</td>\n",
       "      <td>0.0</td>\n",
       "      <td>-0.034688</td>\n",
       "      <td>-0.022763</td>\n",
       "      <td>152</td>\n",
       "      <td>1</td>\n",
       "      <td>0</td>\n",
       "    </tr>\n",
       "    <tr>\n",
       "      <th>2</th>\n",
       "      <td>1.734118</td>\n",
       "      <td>3.074459</td>\n",
       "      <td>0.313951</td>\n",
       "      <td>51.973881</td>\n",
       "      <td>0.0</td>\n",
       "      <td>2336.120117</td>\n",
       "      <td>0.0</td>\n",
       "      <td>0.0</td>\n",
       "      <td>3691.825928</td>\n",
       "      <td>0.0</td>\n",
       "      <td>-0.049524</td>\n",
       "      <td>-0.027997</td>\n",
       "      <td>58</td>\n",
       "      <td>1</td>\n",
       "      <td>0</td>\n",
       "    </tr>\n",
       "    <tr>\n",
       "      <th>3</th>\n",
       "      <td>0.974282</td>\n",
       "      <td>-9.012513</td>\n",
       "      <td>2.172342</td>\n",
       "      <td>57.892830</td>\n",
       "      <td>0.0</td>\n",
       "      <td>2336.120117</td>\n",
       "      <td>0.0</td>\n",
       "      <td>0.0</td>\n",
       "      <td>3867.165039</td>\n",
       "      <td>0.0</td>\n",
       "      <td>0.091557</td>\n",
       "      <td>-0.102887</td>\n",
       "      <td>23</td>\n",
       "      <td>1</td>\n",
       "      <td>0</td>\n",
       "    </tr>\n",
       "    <tr>\n",
       "      <th>4</th>\n",
       "      <td>-12.462036</td>\n",
       "      <td>-0.085641</td>\n",
       "      <td>4.357419</td>\n",
       "      <td>26.981827</td>\n",
       "      <td>0.0</td>\n",
       "      <td>2336.120117</td>\n",
       "      <td>0.0</td>\n",
       "      <td>0.0</td>\n",
       "      <td>2554.733398</td>\n",
       "      <td>0.0</td>\n",
       "      <td>0.081094</td>\n",
       "      <td>0.109164</td>\n",
       "      <td>124</td>\n",
       "      <td>1</td>\n",
       "      <td>0</td>\n",
       "    </tr>\n",
       "    <tr>\n",
       "      <th>...</th>\n",
       "      <td>...</td>\n",
       "      <td>...</td>\n",
       "      <td>...</td>\n",
       "      <td>...</td>\n",
       "      <td>...</td>\n",
       "      <td>...</td>\n",
       "      <td>...</td>\n",
       "      <td>...</td>\n",
       "      <td>...</td>\n",
       "      <td>...</td>\n",
       "      <td>...</td>\n",
       "      <td>...</td>\n",
       "      <td>...</td>\n",
       "      <td>...</td>\n",
       "      <td>...</td>\n",
       "    </tr>\n",
       "    <tr>\n",
       "      <th>1999995</th>\n",
       "      <td>-1.164621</td>\n",
       "      <td>2.855423</td>\n",
       "      <td>28.221741</td>\n",
       "      <td>28.064693</td>\n",
       "      <td>0.0</td>\n",
       "      <td>5152.620117</td>\n",
       "      <td>0.0</td>\n",
       "      <td>0.0</td>\n",
       "      <td>1815.165405</td>\n",
       "      <td>0.0</td>\n",
       "      <td>-0.023397</td>\n",
       "      <td>-0.007746</td>\n",
       "      <td>34</td>\n",
       "      <td>1</td>\n",
       "      <td>0</td>\n",
       "    </tr>\n",
       "    <tr>\n",
       "      <th>1999996</th>\n",
       "      <td>5.113430</td>\n",
       "      <td>7.725410</td>\n",
       "      <td>29.751648</td>\n",
       "      <td>58.152195</td>\n",
       "      <td>0.0</td>\n",
       "      <td>5152.620117</td>\n",
       "      <td>0.0</td>\n",
       "      <td>0.0</td>\n",
       "      <td>2632.144775</td>\n",
       "      <td>0.0</td>\n",
       "      <td>-0.098830</td>\n",
       "      <td>-0.029968</td>\n",
       "      <td>19</td>\n",
       "      <td>1</td>\n",
       "      <td>0</td>\n",
       "    </tr>\n",
       "    <tr>\n",
       "      <th>1999997</th>\n",
       "      <td>-9.648464</td>\n",
       "      <td>-1.161121</td>\n",
       "      <td>29.930407</td>\n",
       "      <td>26.974596</td>\n",
       "      <td>0.0</td>\n",
       "      <td>5152.620117</td>\n",
       "      <td>0.0</td>\n",
       "      <td>0.0</td>\n",
       "      <td>1747.907349</td>\n",
       "      <td>0.0</td>\n",
       "      <td>0.051875</td>\n",
       "      <td>0.039835</td>\n",
       "      <td>49</td>\n",
       "      <td>1</td>\n",
       "      <td>0</td>\n",
       "    </tr>\n",
       "    <tr>\n",
       "      <th>1999998</th>\n",
       "      <td>-1.316335</td>\n",
       "      <td>-10.334057</td>\n",
       "      <td>30.225662</td>\n",
       "      <td>22.965160</td>\n",
       "      <td>0.0</td>\n",
       "      <td>5152.620117</td>\n",
       "      <td>0.0</td>\n",
       "      <td>0.0</td>\n",
       "      <td>1632.875244</td>\n",
       "      <td>0.0</td>\n",
       "      <td>0.091960</td>\n",
       "      <td>-0.072079</td>\n",
       "      <td>29</td>\n",
       "      <td>1</td>\n",
       "      <td>0</td>\n",
       "    </tr>\n",
       "    <tr>\n",
       "      <th>1999999</th>\n",
       "      <td>-0.417877</td>\n",
       "      <td>10.599274</td>\n",
       "      <td>30.310057</td>\n",
       "      <td>58.001797</td>\n",
       "      <td>0.0</td>\n",
       "      <td>5152.620117</td>\n",
       "      <td>0.0</td>\n",
       "      <td>0.0</td>\n",
       "      <td>2602.851562</td>\n",
       "      <td>0.0</td>\n",
       "      <td>-0.095729</td>\n",
       "      <td>0.026484</td>\n",
       "      <td>5</td>\n",
       "      <td>1</td>\n",
       "      <td>0</td>\n",
       "    </tr>\n",
       "  </tbody>\n",
       "</table>\n",
       "<p>2000000 rows × 15 columns</p>\n",
       "</div>"
      ],
      "text/plain": [
       "            x (nm)     y (nm)     z (nm)    mc (Da)  mc_uc (Da)  \\\n",
       "0        -9.762777   6.067947   3.633320  61.926613         0.0   \n",
       "1         0.695408   2.319493   0.147132  53.940742         0.0   \n",
       "2         1.734118   3.074459   0.313951  51.973881         0.0   \n",
       "3         0.974282  -9.012513   2.172342  57.892830         0.0   \n",
       "4       -12.462036  -0.085641   4.357419  26.981827         0.0   \n",
       "...            ...        ...        ...        ...         ...   \n",
       "1999995  -1.164621   2.855423  28.221741  28.064693         0.0   \n",
       "1999996   5.113430   7.725410  29.751648  58.152195         0.0   \n",
       "1999997  -9.648464  -1.161121  29.930407  26.974596         0.0   \n",
       "1999998  -1.316335 -10.334057  30.225662  22.965160         0.0   \n",
       "1999999  -0.417877  10.599274  30.310057  58.001797         0.0   \n",
       "\n",
       "         high_voltage (V)  pulse_v (V)  pulse_l (pJ)       t (ns)  t_c (ns)  \\\n",
       "0             2336.120117          0.0           0.0  3894.886719       0.0   \n",
       "1             2336.120117          0.0           0.0  3753.868652       0.0   \n",
       "2             2336.120117          0.0           0.0  3691.825928       0.0   \n",
       "3             2336.120117          0.0           0.0  3867.165039       0.0   \n",
       "4             2336.120117          0.0           0.0  2554.733398       0.0   \n",
       "...                   ...          ...           ...          ...       ...   \n",
       "1999995       5152.620117          0.0           0.0  1815.165405       0.0   \n",
       "1999996       5152.620117          0.0           0.0  2632.144775       0.0   \n",
       "1999997       5152.620117          0.0           0.0  1747.907349       0.0   \n",
       "1999998       5152.620117          0.0           0.0  1632.875244       0.0   \n",
       "1999999       5152.620117          0.0           0.0  2602.851562       0.0   \n",
       "\n",
       "         x_det (cm)  y_det (cm)  delta_p  multi  start_counter  \n",
       "0         -0.019202    0.125393       62      1              0  \n",
       "1         -0.034688   -0.022763      152      1              0  \n",
       "2         -0.049524   -0.027997       58      1              0  \n",
       "3          0.091557   -0.102887       23      1              0  \n",
       "4          0.081094    0.109164      124      1              0  \n",
       "...             ...         ...      ...    ...            ...  \n",
       "1999995   -0.023397   -0.007746       34      1              0  \n",
       "1999996   -0.098830   -0.029968       19      1              0  \n",
       "1999997    0.051875    0.039835       49      1              0  \n",
       "1999998    0.091960   -0.072079       29      1              0  \n",
       "1999999   -0.095729    0.026484        5      1              0  \n",
       "\n",
       "[2000000 rows x 15 columns]"
      ]
     },
     "execution_count": 14,
     "metadata": {},
     "output_type": "execute_result"
    }
   ],
   "source": [
    "# variables.data[\"x (nm)\"] = df['x (nm)']\n",
    "# variables.data[\"y (nm)\"] = df['y (nm)']\n",
    "# variables.data[\"z (nm)\"] = df['z (nm)']\n",
    "variables.data"
   ]
  },
  {
   "cell_type": "markdown",
   "metadata": {},
   "source": [
    "<div style=\"margin: 0 auto; padding: 20px; font-family: 'Helvetica', sans-serif; font-size: 16px;\">\n",
    "\n",
    "Save the dataset in any other format that you want.\n",
    "\n",
    "</div>"
   ]
  },
  {
   "cell_type": "code",
   "execution_count": 15,
   "metadata": {},
   "outputs": [
    {
     "data": {
      "application/vnd.jupyter.widget-view+json": {
       "model_id": "2ae024cd4bac4bf8af75af4fdbaaa823",
       "version_major": 2,
       "version_minor": 0
      },
      "text/plain": [
       "interactive(children=(Text(value='R56_09770-v01_LM_LEAP_rc', continuous_update=False, description='name'), Dro…"
      ]
     },
     "metadata": {},
     "output_type": "display_data"
    }
   ],
   "source": [
    "interact_manual_data = interact_manual.options(manual_name=\"save data\")\n",
    "interact_manual_data(data_tools.save_data, data=fixed(variables.data), variables=fixed(variables),\n",
    "                name=widgets.Text(value=variables.result_data_name),\n",
    "                hdf=widgets.Dropdown(options=[('True', True), ('False', False)]),\n",
    "                epos=widgets.Dropdown(options=[('False', False), ('True', True)]),\n",
    "                pos=widgets.Dropdown(options=[('False', False), ('True', True)]),\n",
    "                ato_6v=widgets.Dropdown(options=[('False', False), ('True', True)]),\n",
    "                csv=widgets.Dropdown(options=[('False', False), ('True', True)]),\n",
    "               temp=fixed(False));"
   ]
  },
  {
   "cell_type": "markdown",
   "metadata": {},
   "source": [
    "<div style=\"margin: 0 auto; padding: 20px; font-family: 'Helvetica', sans-serif; font-size: 16px;\">\n",
    "    \n",
    "# Visualization\n",
    "    \n",
    "</div>"
   ]
  },
  {
   "cell_type": "code",
   "execution_count": 6,
   "metadata": {},
   "outputs": [
    {
     "name": "stdout",
     "output_type": "stream",
     "text": [
      "The maximum possible time of flight is: 17309\n"
     ]
    }
   ],
   "source": [
    "data_tools.extract_data(variables.data, variables, flight_path_length.value, max_mc.value)"
   ]
  },
  {
   "cell_type": "code",
   "execution_count": 7,
   "metadata": {
    "tags": []
   },
   "outputs": [
    {
     "data": {
      "application/vnd.jupyter.widget-view+json": {
       "model_id": "a353fa10d3984a7787f60a6309b6d4f2",
       "version_major": 2,
       "version_minor": 0
      },
      "text/plain": [
       "VBox(children=(Tab(children=(HBox(children=(VBox(children=(HBox(children=(Label(value='Target:', layout=Layout…"
      ]
     },
     "metadata": {},
     "output_type": "display_data"
    }
   ],
   "source": [
    "helper_visualization.call_visualization(variables)"
   ]
  },
  {
   "cell_type": "code",
   "execution_count": null,
   "metadata": {},
   "outputs": [],
   "source": [
    "from pyccapt.calibration.calibration import mc_plot\n",
    "hist = variables.data['mc (Da)'].to_numpy()\n",
    "mc_hist = mc_plot.AptHistPlotter(hist[hist < 40], variables)\n",
    "mc_hist.plot_histogram(bin_width=0.1, label='mc', steps='stepfilled', log=True)\n",
    "mc_hist.find_peaks_and_widths()\n",
    "mc_hist.plot_hist_info_legend(loc='right')\n",
    "mc_hist.plot_line_hist()\n",
    "mc_hist.manual_background_fit()"
   ]
  },
  {
   "cell_type": "code",
   "execution_count": null,
   "metadata": {
    "tags": []
   },
   "outputs": [],
   "source": [
    "variables.plotly_3d_reconstruction"
   ]
  },
  {
   "cell_type": "code",
   "execution_count": null,
   "metadata": {
    "tags": []
   },
   "outputs": [],
   "source": [
    "from IPython.display import display, HTML\n",
    "display(HTML(variables.animation_detector_html))"
   ]
  },
  {
   "cell_type": "code",
   "execution_count": null,
   "metadata": {},
   "outputs": [],
   "source": []
  }
 ],
 "metadata": {
  "kernelspec": {
   "display_name": "Python 3 (ipykernel)",
   "language": "python",
   "name": "python3"
  },
  "language_info": {
   "codemirror_mode": {
    "name": "ipython",
    "version": 3
   },
   "file_extension": ".py",
   "mimetype": "text/x-python",
   "name": "python",
   "nbconvert_exporter": "python",
   "pygments_lexer": "ipython3",
   "version": "3.9.20"
  },
  "widgets": {
   "application/vnd.jupyter.widget-state+json": {
    "state": {},
    "version_major": 2,
    "version_minor": 0
   }
  }
 },
 "nbformat": 4,
 "nbformat_minor": 4
}

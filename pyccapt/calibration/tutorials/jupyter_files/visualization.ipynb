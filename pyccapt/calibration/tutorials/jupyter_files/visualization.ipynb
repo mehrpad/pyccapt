{
 "cells": [
  {
   "cell_type": "markdown",
   "metadata": {
    "pycharm": {
     "name": "#%% md\n"
    }
   },
   "source": [
    "<div style=\"margin: 0 auto; padding: 20px; font-family: 'Helvetica', sans-serif; font-size: 16px;\">\n",
    "\n",
    "## Data Visualization Workflow\n",
    "\n",
    "In this workflow within PyCCAPT, we can crop the data, do the voltage and bowl calibration, calculate the 3d reconstruction, and do the ranging.\n",
    "</div>"
   ]
  },
  {
   "cell_type": "code",
   "execution_count": 1,
   "metadata": {
    "pycharm": {
     "name": "#%%\n"
    },
    "tags": []
   },
   "outputs": [],
   "source": [
    "# Activate intractive functionality of matplotlib\n",
    "%matplotlib ipympl\n",
    "# Activate auto reload \n",
    "%load_ext autoreload\n",
    "%autoreload 2\n",
    "%reload_ext autoreload\n",
    "# import libraries\n",
    "import os\n",
    "import numpy as np\n",
    "import subprocess\n",
    "from ipywidgets import widgets\n",
    "from IPython.display import display\n",
    "from ipywidgets import fixed, interact_manual\n",
    "import warnings\n",
    "# Ignore all warnings\n",
    "warnings.filterwarnings(\"ignore\")\n",
    "\n",
    "# Local module and scripts\n",
    "from pyccapt.calibration.calibration import widgets as wd\n",
    "from pyccapt.calibration.data_tools import data_tools\n",
    "from pyccapt.calibration.tutorials.tutorials_helpers import helper_data_loader\n",
    "from pyccapt.calibration.tutorials.tutorials_helpers import helper_visualization\n",
    "from pyccapt.calibration.calibration import share_variables\n",
    "from pyccapt.calibration.calibration import ion_selection"
   ]
  },
  {
   "cell_type": "markdown",
   "metadata": {},
   "source": [
    "<div style=\"margin: 0 auto; padding: 20px; font-family: 'Helvetica', sans-serif; font-size: 16px;\">\n",
    "In case of recieving the error about pytable library, you have to install the pytables library with conda command. to do that you can open a new cell and copy the line below in it. Then just run it like other cells. The pytables library will be innstalled.\n",
    "    \n",
    "`!conda install --yes --prefix {sys.prefix} pytables`\n",
    "</div>\n"
   ]
  },
  {
   "cell_type": "markdown",
   "metadata": {},
   "source": [
    "<div style=\"margin: 0 auto; padding: 20px; font-family: 'Helvetica', sans-serif; font-size: 16px;\">\n",
    "In the cell below we create variable object. This object is used in many of the functions to share the data between functions in as easy way. \n",
    "</div>\n"
   ]
  },
  {
   "cell_type": "code",
   "execution_count": 2,
   "metadata": {},
   "outputs": [],
   "source": [
    "variables = share_variables.Variables()"
   ]
  },
  {
   "cell_type": "markdown",
   "metadata": {},
   "source": [
    "<div style=\"margin: 0 auto; padding: 20px; font-family: 'Helvetica', sans-serif; font-size: 16px;\">\n",
    "    \n",
    "By clicking on the button below, you can select the dataset file you want to crop. The dataset file can be in various formats, including HDF5, EPOS, POS, ATO, and CSV. The cropped data will be saved in the same directory as the original dataset file in a new directory nammed load_crop. The name of the cropped dataset file will be the same as the original dataset file. The figures will be saved in the same directory as the dataset file.\n",
    "</div>"
   ]
  },
  {
   "cell_type": "code",
   "execution_count": 3,
   "metadata": {
    "tags": []
   },
   "outputs": [
    {
     "data": {
      "application/vnd.jupyter.widget-view+json": {
       "model_id": "927c1392bb9c4314ae3f5a4dba0bfe53",
       "version_major": 2,
       "version_minor": 0
      },
      "text/plain": [
       "Button(description='load dataset', style=ButtonStyle())"
      ]
     },
     "execution_count": 3,
     "metadata": {},
     "output_type": "execute_result"
    }
   ],
   "source": [
    "button = widgets.Button(description='load dataset')\n",
    "\n",
    "@button.on_click\n",
    "def open_file_on_click_r(b):\n",
    "    global dataset_path\n",
    "    folder_path = variables.last_directory\n",
    "    script = '..//..//data_tools//run_dataset_path_qt.py'\n",
    "    cmd = f\"python {script} {folder_path}\"\n",
    "    result = subprocess.run(cmd, capture_output=True, text=True, shell=True)\n",
    "    dataset_path = result.stdout.strip()\n",
    "    variables.last_directory = dataset_path\n",
    "\n",
    "button"
   ]
  },
  {
   "cell_type": "markdown",
   "metadata": {
    "tags": []
   },
   "source": [
    "<div style=\"margin: 0 auto; padding: 20px; font-family: 'Helvetica', sans-serif; font-size: 16px;\">\n",
    "\n",
    "## ROI Selection and Data Cropping\n",
    "    \n",
    "\n",
    "</div>\n",
    "\n"
   ]
  },
  {
   "cell_type": "markdown",
   "metadata": {},
   "source": [
    "<div style=\"margin: 0 auto; padding: 20px; font-family: 'Helvetica', sans-serif; font-size: 16px;\">\n",
    "\n",
    "    \n",
    "From the dropdown lists below, you can select the instrument specifications of the dataset. The instrument specifications are the same as the ones used for the calibration process. Data mode is specify the dataset structure. The dataset can be in raw or calibrated mode. The flight path length is the distance between the sample and the detector. The t0 is the time of flight of the ions with the lowest mass-to-charge ratio. The maximum mass-to-charge ratio is the maximum mass-to-charge ratio of tat you want to plot. You can also change it in te related cells. The detector diameter is the diameter of the detector.\n",
    "</div>\n"
   ]
  },
  {
   "cell_type": "code",
   "execution_count": 4,
   "metadata": {
    "tags": []
   },
   "outputs": [
    {
     "data": {
      "application/vnd.jupyter.widget-view+json": {
       "model_id": "7240e0ff26b74b1e9df7a90974d2f6e9",
       "version_major": 2,
       "version_minor": 0
      },
      "text/plain": [
       "Dropdown(description='Data mode:', options=('pyccapt', 'leap_epos', 'leap_pos', 'leap_apt', 'ato_v6'), value='…"
      ]
     },
     "metadata": {},
     "output_type": "display_data"
    },
    {
     "data": {
      "application/vnd.jupyter.widget-view+json": {
       "model_id": "ce3b2bc1a90246ef9e06ac1958186320",
       "version_major": 2,
       "version_minor": 0
      },
      "text/plain": [
       "Dropdown(description='Pulse mode:', options=('voltage', 'laser'), value='voltage')"
      ]
     },
     "metadata": {},
     "output_type": "display_data"
    },
    {
     "data": {
      "application/vnd.jupyter.widget-view+json": {
       "model_id": "b1b2a7a81097416c8a7c13b561eaefce",
       "version_major": 2,
       "version_minor": 0
      },
      "text/plain": [
       "FloatText(value=110.0, description='Flight path length:')"
      ]
     },
     "metadata": {},
     "output_type": "display_data"
    },
    {
     "data": {
      "application/vnd.jupyter.widget-view+json": {
       "model_id": "6fd3c0f0edc340d79796f10b461892b3",
       "version_major": 2,
       "version_minor": 0
      },
      "text/plain": [
       "FloatText(value=38.0, description='t0:')"
      ]
     },
     "metadata": {},
     "output_type": "display_data"
    },
    {
     "data": {
      "application/vnd.jupyter.widget-view+json": {
       "model_id": "afe508454eeb4c959caf88ced7ca5d4f",
       "version_major": 2,
       "version_minor": 0
      },
      "text/plain": [
       "FloatText(value=400.0, description='Max mc:')"
      ]
     },
     "metadata": {},
     "output_type": "display_data"
    }
   ],
   "source": [
    "# create an object for selection of instrument specifications of the dataset\n",
    "tdc, pulse_mode, flight_path_length, t0, max_mc, det_diam = wd.dataset_instrument_specification_selection()\n",
    "\n",
    "# Display lists and comboboxes to selected instrument specifications\n",
    "display(tdc, pulse_mode, flight_path_length, t0, max_mc)"
   ]
  },
  {
   "cell_type": "code",
   "execution_count": 14,
   "metadata": {},
   "outputs": [
    {
     "data": {
      "text/html": [
       "<div>\n",
       "<style scoped>\n",
       "    .dataframe tbody tr th:only-of-type {\n",
       "        vertical-align: middle;\n",
       "    }\n",
       "\n",
       "    .dataframe tbody tr th {\n",
       "        vertical-align: top;\n",
       "    }\n",
       "\n",
       "    .dataframe thead th {\n",
       "        text-align: right;\n",
       "    }\n",
       "</style>\n",
       "<table border=\"1\" class=\"dataframe\">\n",
       "  <thead>\n",
       "    <tr style=\"text-align: right;\">\n",
       "      <th></th>\n",
       "      <th>x (nm)</th>\n",
       "      <th>y (nm)</th>\n",
       "      <th>z (nm)</th>\n",
       "    </tr>\n",
       "  </thead>\n",
       "  <tbody>\n",
       "    <tr>\n",
       "      <th>0</th>\n",
       "      <td>7.188491</td>\n",
       "      <td>9.126222</td>\n",
       "      <td>1.304370</td>\n",
       "    </tr>\n",
       "    <tr>\n",
       "      <th>1</th>\n",
       "      <td>5.936238</td>\n",
       "      <td>-0.114405</td>\n",
       "      <td>1.092584</td>\n",
       "    </tr>\n",
       "    <tr>\n",
       "      <th>2</th>\n",
       "      <td>12.767946</td>\n",
       "      <td>-7.585999</td>\n",
       "      <td>1.606336</td>\n",
       "    </tr>\n",
       "    <tr>\n",
       "      <th>3</th>\n",
       "      <td>-6.851343</td>\n",
       "      <td>1.138044</td>\n",
       "      <td>1.072736</td>\n",
       "    </tr>\n",
       "    <tr>\n",
       "      <th>4</th>\n",
       "      <td>4.802635</td>\n",
       "      <td>10.018098</td>\n",
       "      <td>1.247635</td>\n",
       "    </tr>\n",
       "    <tr>\n",
       "      <th>...</th>\n",
       "      <td>...</td>\n",
       "      <td>...</td>\n",
       "      <td>...</td>\n",
       "    </tr>\n",
       "    <tr>\n",
       "      <th>9844174</th>\n",
       "      <td>-26.884720</td>\n",
       "      <td>-0.754438</td>\n",
       "      <td>98.918388</td>\n",
       "    </tr>\n",
       "    <tr>\n",
       "      <th>9844175</th>\n",
       "      <td>5.182794</td>\n",
       "      <td>-20.673302</td>\n",
       "      <td>98.831482</td>\n",
       "    </tr>\n",
       "    <tr>\n",
       "      <th>9844176</th>\n",
       "      <td>4.396833</td>\n",
       "      <td>6.569318</td>\n",
       "      <td>99.223213</td>\n",
       "    </tr>\n",
       "    <tr>\n",
       "      <th>9844177</th>\n",
       "      <td>1.953367</td>\n",
       "      <td>4.762229</td>\n",
       "      <td>99.209442</td>\n",
       "    </tr>\n",
       "    <tr>\n",
       "      <th>9844178</th>\n",
       "      <td>-20.500990</td>\n",
       "      <td>16.610140</td>\n",
       "      <td>98.473351</td>\n",
       "    </tr>\n",
       "  </tbody>\n",
       "</table>\n",
       "<p>9844179 rows × 3 columns</p>\n",
       "</div>"
      ],
      "text/plain": [
       "            x (nm)     y (nm)     z (nm)\n",
       "0         7.188491   9.126222   1.304370\n",
       "1         5.936238  -0.114405   1.092584\n",
       "2        12.767946  -7.585999   1.606336\n",
       "3        -6.851343   1.138044   1.072736\n",
       "4         4.802635  10.018098   1.247635\n",
       "...            ...        ...        ...\n",
       "9844174 -26.884720  -0.754438  98.918388\n",
       "9844175   5.182794 -20.673302  98.831482\n",
       "9844176   4.396833   6.569318  99.223213\n",
       "9844177   1.953367   4.762229  99.209442\n",
       "9844178 -20.500990  16.610140  98.473351\n",
       "\n",
       "[9844179 rows x 3 columns]"
      ]
     },
     "execution_count": 14,
     "metadata": {},
     "output_type": "execute_result"
    }
   ],
   "source": [
    "import pandas as pd\n",
    "\n",
    "df = pd.read_hdf('D:/3D_AI_save_models/pinn_best/2025-February-05_18-08-00_pinn_fc_4096_2_APTFC_s-1_b-8192_dropout0.5_L1-0.0_L2-0.0/predictions_s-1/predictions.h5')\n",
    "df = df.iloc[::-1].reset_index(drop=True)\n",
    "df"
   ]
  },
  {
   "cell_type": "code",
   "execution_count": 9,
   "metadata": {
    "tags": []
   },
   "outputs": [
    {
     "name": "stdout",
     "output_type": "stream",
     "text": [
      "The data will be saved on the path: E:/ai_driven_apt_3d_reconstruction/data/R56_09770-v01_LM_LEAP/visualization/\n",
      "=============================\n",
      "The dataset name after saving is: R56_09770-v01_LM_LEAP\n",
      "=============================\n",
      "The figures will be saved on the path: E:/ai_driven_apt_3d_reconstruction/data/R56_09770-v01_LM_LEAP/visualization/\n",
      "=============================\n",
      "Total number of Ions: 9844179\n",
      "The maximum possible time of flight is: 5010\n"
     ]
    },
    {
     "data": {
      "text/html": [
       "<div>\n",
       "<style scoped>\n",
       "    .dataframe tbody tr th:only-of-type {\n",
       "        vertical-align: middle;\n",
       "    }\n",
       "\n",
       "    .dataframe tbody tr th {\n",
       "        vertical-align: top;\n",
       "    }\n",
       "\n",
       "    .dataframe thead th {\n",
       "        text-align: right;\n",
       "    }\n",
       "</style>\n",
       "<table border=\"1\" class=\"dataframe\">\n",
       "  <thead>\n",
       "    <tr style=\"text-align: right;\">\n",
       "      <th></th>\n",
       "      <th>x (nm)</th>\n",
       "      <th>y (nm)</th>\n",
       "      <th>z (nm)</th>\n",
       "      <th>mc (Da)</th>\n",
       "      <th>mc_uc (Da)</th>\n",
       "      <th>high_voltage (V)</th>\n",
       "      <th>pulse</th>\n",
       "      <th>t (ns)</th>\n",
       "      <th>t_c (ns)</th>\n",
       "      <th>x_det (cm)</th>\n",
       "      <th>y_det (cm)</th>\n",
       "      <th>pulse_pi</th>\n",
       "      <th>ion_pp</th>\n",
       "      <th>start_counter</th>\n",
       "    </tr>\n",
       "  </thead>\n",
       "  <tbody>\n",
       "    <tr>\n",
       "      <th>0</th>\n",
       "      <td>-9.762777</td>\n",
       "      <td>6.067947</td>\n",
       "      <td>3.633320</td>\n",
       "      <td>61.926613</td>\n",
       "      <td>0.0</td>\n",
       "      <td>2336.120117</td>\n",
       "      <td>0.0</td>\n",
       "      <td>3894.886719</td>\n",
       "      <td>0.0</td>\n",
       "      <td>-1.291257</td>\n",
       "      <td>1.014173</td>\n",
       "      <td>62</td>\n",
       "      <td>1</td>\n",
       "      <td>0</td>\n",
       "    </tr>\n",
       "    <tr>\n",
       "      <th>1</th>\n",
       "      <td>0.695408</td>\n",
       "      <td>2.319493</td>\n",
       "      <td>0.147132</td>\n",
       "      <td>53.940742</td>\n",
       "      <td>0.0</td>\n",
       "      <td>2336.120117</td>\n",
       "      <td>0.0</td>\n",
       "      <td>3753.868652</td>\n",
       "      <td>0.0</td>\n",
       "      <td>0.109610</td>\n",
       "      <td>0.335396</td>\n",
       "      <td>152</td>\n",
       "      <td>1</td>\n",
       "      <td>0</td>\n",
       "    </tr>\n",
       "    <tr>\n",
       "      <th>2</th>\n",
       "      <td>1.734118</td>\n",
       "      <td>3.074459</td>\n",
       "      <td>0.313951</td>\n",
       "      <td>51.973881</td>\n",
       "      <td>0.0</td>\n",
       "      <td>2336.120117</td>\n",
       "      <td>0.0</td>\n",
       "      <td>3691.825928</td>\n",
       "      <td>0.0</td>\n",
       "      <td>0.275361</td>\n",
       "      <td>0.447194</td>\n",
       "      <td>58</td>\n",
       "      <td>1</td>\n",
       "      <td>0</td>\n",
       "    </tr>\n",
       "    <tr>\n",
       "      <th>3</th>\n",
       "      <td>0.974282</td>\n",
       "      <td>-9.012513</td>\n",
       "      <td>2.172342</td>\n",
       "      <td>57.892830</td>\n",
       "      <td>0.0</td>\n",
       "      <td>2336.120117</td>\n",
       "      <td>0.0</td>\n",
       "      <td>3867.165039</td>\n",
       "      <td>0.0</td>\n",
       "      <td>0.272688</td>\n",
       "      <td>-1.338921</td>\n",
       "      <td>23</td>\n",
       "      <td>1</td>\n",
       "      <td>0</td>\n",
       "    </tr>\n",
       "    <tr>\n",
       "      <th>4</th>\n",
       "      <td>-12.462036</td>\n",
       "      <td>-0.085641</td>\n",
       "      <td>4.357419</td>\n",
       "      <td>26.981827</td>\n",
       "      <td>0.0</td>\n",
       "      <td>2336.120117</td>\n",
       "      <td>0.0</td>\n",
       "      <td>2554.733398</td>\n",
       "      <td>0.0</td>\n",
       "      <td>-1.665535</td>\n",
       "      <td>-0.015971</td>\n",
       "      <td>124</td>\n",
       "      <td>1</td>\n",
       "      <td>0</td>\n",
       "    </tr>\n",
       "    <tr>\n",
       "      <th>...</th>\n",
       "      <td>...</td>\n",
       "      <td>...</td>\n",
       "      <td>...</td>\n",
       "      <td>...</td>\n",
       "      <td>...</td>\n",
       "      <td>...</td>\n",
       "      <td>...</td>\n",
       "      <td>...</td>\n",
       "      <td>...</td>\n",
       "      <td>...</td>\n",
       "      <td>...</td>\n",
       "      <td>...</td>\n",
       "      <td>...</td>\n",
       "      <td>...</td>\n",
       "    </tr>\n",
       "    <tr>\n",
       "      <th>9844174</th>\n",
       "      <td>3.546847</td>\n",
       "      <td>13.888915</td>\n",
       "      <td>93.694427</td>\n",
       "      <td>57.928997</td>\n",
       "      <td>0.0</td>\n",
       "      <td>7695.790039</td>\n",
       "      <td>0.0</td>\n",
       "      <td>2139.775146</td>\n",
       "      <td>0.0</td>\n",
       "      <td>0.355564</td>\n",
       "      <td>1.046115</td>\n",
       "      <td>230</td>\n",
       "      <td>1</td>\n",
       "      <td>0</td>\n",
       "    </tr>\n",
       "    <tr>\n",
       "      <th>9844175</th>\n",
       "      <td>-11.616783</td>\n",
       "      <td>2.130886</td>\n",
       "      <td>92.798866</td>\n",
       "      <td>25.980337</td>\n",
       "      <td>0.0</td>\n",
       "      <td>7695.790039</td>\n",
       "      <td>0.0</td>\n",
       "      <td>1410.338257</td>\n",
       "      <td>0.0</td>\n",
       "      <td>-0.823410</td>\n",
       "      <td>0.162374</td>\n",
       "      <td>308</td>\n",
       "      <td>1</td>\n",
       "      <td>0</td>\n",
       "    </tr>\n",
       "    <tr>\n",
       "      <th>9844176</th>\n",
       "      <td>14.079150</td>\n",
       "      <td>-9.819579</td>\n",
       "      <td>94.940720</td>\n",
       "      <td>28.954844</td>\n",
       "      <td>0.0</td>\n",
       "      <td>7695.790039</td>\n",
       "      <td>0.0</td>\n",
       "      <td>1528.093872</td>\n",
       "      <td>0.0</td>\n",
       "      <td>1.229769</td>\n",
       "      <td>-0.790576</td>\n",
       "      <td>646</td>\n",
       "      <td>1</td>\n",
       "      <td>0</td>\n",
       "    </tr>\n",
       "    <tr>\n",
       "      <th>9844177</th>\n",
       "      <td>6.096278</td>\n",
       "      <td>0.119694</td>\n",
       "      <td>91.451447</td>\n",
       "      <td>57.889843</td>\n",
       "      <td>0.0</td>\n",
       "      <td>7695.790039</td>\n",
       "      <td>0.0</td>\n",
       "      <td>2151.238037</td>\n",
       "      <td>0.0</td>\n",
       "      <td>0.473194</td>\n",
       "      <td>0.007986</td>\n",
       "      <td>705</td>\n",
       "      <td>1</td>\n",
       "      <td>0</td>\n",
       "    </tr>\n",
       "    <tr>\n",
       "      <th>9844178</th>\n",
       "      <td>7.060112</td>\n",
       "      <td>12.430894</td>\n",
       "      <td>93.679207</td>\n",
       "      <td>29.490499</td>\n",
       "      <td>0.0</td>\n",
       "      <td>7695.790039</td>\n",
       "      <td>0.0</td>\n",
       "      <td>1532.298828</td>\n",
       "      <td>0.0</td>\n",
       "      <td>0.633598</td>\n",
       "      <td>0.947626</td>\n",
       "      <td>139</td>\n",
       "      <td>1</td>\n",
       "      <td>0</td>\n",
       "    </tr>\n",
       "  </tbody>\n",
       "</table>\n",
       "<p>9844179 rows × 14 columns</p>\n",
       "</div>"
      ],
      "text/plain": [
       "            x (nm)     y (nm)     z (nm)    mc (Da)  mc_uc (Da)  \\\n",
       "0        -9.762777   6.067947   3.633320  61.926613         0.0   \n",
       "1         0.695408   2.319493   0.147132  53.940742         0.0   \n",
       "2         1.734118   3.074459   0.313951  51.973881         0.0   \n",
       "3         0.974282  -9.012513   2.172342  57.892830         0.0   \n",
       "4       -12.462036  -0.085641   4.357419  26.981827         0.0   \n",
       "...            ...        ...        ...        ...         ...   \n",
       "9844174   3.546847  13.888915  93.694427  57.928997         0.0   \n",
       "9844175 -11.616783   2.130886  92.798866  25.980337         0.0   \n",
       "9844176  14.079150  -9.819579  94.940720  28.954844         0.0   \n",
       "9844177   6.096278   0.119694  91.451447  57.889843         0.0   \n",
       "9844178   7.060112  12.430894  93.679207  29.490499         0.0   \n",
       "\n",
       "         high_voltage (V)  pulse       t (ns)  t_c (ns)  x_det (cm)  \\\n",
       "0             2336.120117    0.0  3894.886719       0.0   -1.291257   \n",
       "1             2336.120117    0.0  3753.868652       0.0    0.109610   \n",
       "2             2336.120117    0.0  3691.825928       0.0    0.275361   \n",
       "3             2336.120117    0.0  3867.165039       0.0    0.272688   \n",
       "4             2336.120117    0.0  2554.733398       0.0   -1.665535   \n",
       "...                   ...    ...          ...       ...         ...   \n",
       "9844174       7695.790039    0.0  2139.775146       0.0    0.355564   \n",
       "9844175       7695.790039    0.0  1410.338257       0.0   -0.823410   \n",
       "9844176       7695.790039    0.0  1528.093872       0.0    1.229769   \n",
       "9844177       7695.790039    0.0  2151.238037       0.0    0.473194   \n",
       "9844178       7695.790039    0.0  1532.298828       0.0    0.633598   \n",
       "\n",
       "         y_det (cm)  pulse_pi  ion_pp  start_counter  \n",
       "0          1.014173        62       1              0  \n",
       "1          0.335396       152       1              0  \n",
       "2          0.447194        58       1              0  \n",
       "3         -1.338921        23       1              0  \n",
       "4         -0.015971       124       1              0  \n",
       "...             ...       ...     ...            ...  \n",
       "9844174    1.046115       230       1              0  \n",
       "9844175    0.162374       308       1              0  \n",
       "9844176   -0.790576       646       1              0  \n",
       "9844177    0.007986       705       1              0  \n",
       "9844178    0.947626       139       1              0  \n",
       "\n",
       "[9844179 rows x 14 columns]"
      ]
     },
     "metadata": {},
     "output_type": "display_data"
    },
    {
     "data": {
      "text/html": [
       "<div>\n",
       "<style scoped>\n",
       "    .dataframe tbody tr th:only-of-type {\n",
       "        vertical-align: middle;\n",
       "    }\n",
       "\n",
       "    .dataframe tbody tr th {\n",
       "        vertical-align: top;\n",
       "    }\n",
       "\n",
       "    .dataframe thead th {\n",
       "        text-align: right;\n",
       "    }\n",
       "</style>\n",
       "<table border=\"1\" class=\"dataframe\">\n",
       "  <thead>\n",
       "    <tr style=\"text-align: right;\">\n",
       "      <th></th>\n",
       "      <th>name</th>\n",
       "      <th>ion</th>\n",
       "      <th>mass</th>\n",
       "      <th>mc</th>\n",
       "      <th>mc_low</th>\n",
       "      <th>mc_up</th>\n",
       "      <th>color</th>\n",
       "      <th>element</th>\n",
       "      <th>complex</th>\n",
       "      <th>isotope</th>\n",
       "      <th>charge</th>\n",
       "    </tr>\n",
       "  </thead>\n",
       "  <tbody>\n",
       "    <tr>\n",
       "      <th>0</th>\n",
       "      <td>unranged0</td>\n",
       "      <td>un</td>\n",
       "      <td>0.0</td>\n",
       "      <td>0.0</td>\n",
       "      <td>0.0</td>\n",
       "      <td>400.0</td>\n",
       "      <td>#000000</td>\n",
       "      <td>[unranged]</td>\n",
       "      <td>[0]</td>\n",
       "      <td>[0]</td>\n",
       "      <td>0</td>\n",
       "    </tr>\n",
       "  </tbody>\n",
       "</table>\n",
       "</div>"
      ],
      "text/plain": [
       "        name ion  mass   mc  mc_low  mc_up    color     element complex  \\\n",
       "0  unranged0  un   0.0  0.0     0.0  400.0  #000000  [unranged]     [0]   \n",
       "\n",
       "  isotope  charge  \n",
       "0     [0]       0  "
      ]
     },
     "metadata": {},
     "output_type": "display_data"
    }
   ],
   "source": [
    "helper_data_loader.load_data(dataset_path, max_mc.value, flight_path_length.value, pulse_mode.value, tdc.value, variables, processing_mode=False)\n",
    "data_tools.extract_data(variables.data, variables, flight_path_length.value, max_mc.value)\n",
    "display(variables.data)\n",
    "display(variables.range_data)"
   ]
  },
  {
   "cell_type": "markdown",
   "metadata": {},
   "source": [
    "<div style=\"margin: 0 auto; padding: 20px;\">\n",
    "\n",
    "Load a pre saved range file if you want from cell below\n",
    "</div>\n"
   ]
  },
  {
   "cell_type": "code",
   "execution_count": null,
   "metadata": {
    "tags": []
   },
   "outputs": [],
   "source": [
    "button_r = widgets.Button(description='load range dataset')\n",
    "\n",
    "@button_r.on_click\n",
    "def open_file_on_click_r(b):\n",
    "    global range_path\n",
    "    folder_path = variables.last_directory\n",
    "    script = '..//..//data_tools//run_dataset_path_qt.py'\n",
    "    cmd = f\"python {script} {folder_path}\"\n",
    "    result = subprocess.run(cmd, capture_output=True, text=True, shell=True)\n",
    "    range_path = result.stdout.strip()\n",
    "\n",
    "button_r"
   ]
  },
  {
   "cell_type": "code",
   "execution_count": null,
   "metadata": {
    "tags": []
   },
   "outputs": [],
   "source": [
    "if 'range_path' in globals():\n",
    "    variables.range_data = data_tools.read_range(range_path)"
   ]
  },
  {
   "cell_type": "code",
   "execution_count": null,
   "metadata": {},
   "outputs": [],
   "source": [
    "display(variables.range_data.style.applymap(ion_selection.display_color, subset=['color']))"
   ]
  },
  {
   "cell_type": "markdown",
   "metadata": {},
   "source": [
    "<div style=\"margin: 0 auto; padding: 20px; font-family: 'Helvetica', sans-serif; font-size: 16px;\">\n",
    "\n",
    "Save the range in the hdf5 and csv format.\n",
    "\n",
    "</div>"
   ]
  },
  {
   "cell_type": "code",
   "execution_count": null,
   "metadata": {},
   "outputs": [],
   "source": [
    "interact_manual_range = interact_manual.options(manual_name=\"save range\")\n",
    "interact_manual_range(data_tools.save_range, variables=fixed(variables));"
   ]
  },
  {
   "cell_type": "code",
   "execution_count": 11,
   "metadata": {},
   "outputs": [
    {
     "data": {
      "text/html": [
       "<div>\n",
       "<style scoped>\n",
       "    .dataframe tbody tr th:only-of-type {\n",
       "        vertical-align: middle;\n",
       "    }\n",
       "\n",
       "    .dataframe tbody tr th {\n",
       "        vertical-align: top;\n",
       "    }\n",
       "\n",
       "    .dataframe thead th {\n",
       "        text-align: right;\n",
       "    }\n",
       "</style>\n",
       "<table border=\"1\" class=\"dataframe\">\n",
       "  <thead>\n",
       "    <tr style=\"text-align: right;\">\n",
       "      <th></th>\n",
       "      <th>x (nm)</th>\n",
       "      <th>y (nm)</th>\n",
       "      <th>z (nm)</th>\n",
       "      <th>mc (Da)</th>\n",
       "      <th>mc_uc (Da)</th>\n",
       "      <th>high_voltage (V)</th>\n",
       "      <th>pulse</th>\n",
       "      <th>t (ns)</th>\n",
       "      <th>t_c (ns)</th>\n",
       "      <th>x_det (cm)</th>\n",
       "      <th>y_det (cm)</th>\n",
       "      <th>delta_p</th>\n",
       "      <th>multi</th>\n",
       "      <th>start_counter</th>\n",
       "    </tr>\n",
       "  </thead>\n",
       "  <tbody>\n",
       "    <tr>\n",
       "      <th>0</th>\n",
       "      <td>-9.762777</td>\n",
       "      <td>6.067947</td>\n",
       "      <td>3.633320</td>\n",
       "      <td>61.926613</td>\n",
       "      <td>0.0</td>\n",
       "      <td>2336.120117</td>\n",
       "      <td>0.0</td>\n",
       "      <td>3894.886719</td>\n",
       "      <td>0.0</td>\n",
       "      <td>-1.291257</td>\n",
       "      <td>1.014173</td>\n",
       "      <td>62</td>\n",
       "      <td>1</td>\n",
       "      <td>0</td>\n",
       "    </tr>\n",
       "    <tr>\n",
       "      <th>1</th>\n",
       "      <td>0.695408</td>\n",
       "      <td>2.319493</td>\n",
       "      <td>0.147132</td>\n",
       "      <td>53.940742</td>\n",
       "      <td>0.0</td>\n",
       "      <td>2336.120117</td>\n",
       "      <td>0.0</td>\n",
       "      <td>3753.868652</td>\n",
       "      <td>0.0</td>\n",
       "      <td>0.109610</td>\n",
       "      <td>0.335396</td>\n",
       "      <td>152</td>\n",
       "      <td>1</td>\n",
       "      <td>0</td>\n",
       "    </tr>\n",
       "    <tr>\n",
       "      <th>2</th>\n",
       "      <td>1.734118</td>\n",
       "      <td>3.074459</td>\n",
       "      <td>0.313951</td>\n",
       "      <td>51.973881</td>\n",
       "      <td>0.0</td>\n",
       "      <td>2336.120117</td>\n",
       "      <td>0.0</td>\n",
       "      <td>3691.825928</td>\n",
       "      <td>0.0</td>\n",
       "      <td>0.275361</td>\n",
       "      <td>0.447194</td>\n",
       "      <td>58</td>\n",
       "      <td>1</td>\n",
       "      <td>0</td>\n",
       "    </tr>\n",
       "    <tr>\n",
       "      <th>3</th>\n",
       "      <td>0.974282</td>\n",
       "      <td>-9.012513</td>\n",
       "      <td>2.172342</td>\n",
       "      <td>57.892830</td>\n",
       "      <td>0.0</td>\n",
       "      <td>2336.120117</td>\n",
       "      <td>0.0</td>\n",
       "      <td>3867.165039</td>\n",
       "      <td>0.0</td>\n",
       "      <td>0.272688</td>\n",
       "      <td>-1.338921</td>\n",
       "      <td>23</td>\n",
       "      <td>1</td>\n",
       "      <td>0</td>\n",
       "    </tr>\n",
       "    <tr>\n",
       "      <th>4</th>\n",
       "      <td>-12.462036</td>\n",
       "      <td>-0.085641</td>\n",
       "      <td>4.357419</td>\n",
       "      <td>26.981827</td>\n",
       "      <td>0.0</td>\n",
       "      <td>2336.120117</td>\n",
       "      <td>0.0</td>\n",
       "      <td>2554.733398</td>\n",
       "      <td>0.0</td>\n",
       "      <td>-1.665535</td>\n",
       "      <td>-0.015971</td>\n",
       "      <td>124</td>\n",
       "      <td>1</td>\n",
       "      <td>0</td>\n",
       "    </tr>\n",
       "    <tr>\n",
       "      <th>...</th>\n",
       "      <td>...</td>\n",
       "      <td>...</td>\n",
       "      <td>...</td>\n",
       "      <td>...</td>\n",
       "      <td>...</td>\n",
       "      <td>...</td>\n",
       "      <td>...</td>\n",
       "      <td>...</td>\n",
       "      <td>...</td>\n",
       "      <td>...</td>\n",
       "      <td>...</td>\n",
       "      <td>...</td>\n",
       "      <td>...</td>\n",
       "      <td>...</td>\n",
       "    </tr>\n",
       "    <tr>\n",
       "      <th>9844174</th>\n",
       "      <td>3.546847</td>\n",
       "      <td>13.888915</td>\n",
       "      <td>93.694427</td>\n",
       "      <td>57.928997</td>\n",
       "      <td>0.0</td>\n",
       "      <td>7695.790039</td>\n",
       "      <td>0.0</td>\n",
       "      <td>2139.775146</td>\n",
       "      <td>0.0</td>\n",
       "      <td>0.355564</td>\n",
       "      <td>1.046115</td>\n",
       "      <td>230</td>\n",
       "      <td>1</td>\n",
       "      <td>0</td>\n",
       "    </tr>\n",
       "    <tr>\n",
       "      <th>9844175</th>\n",
       "      <td>-11.616783</td>\n",
       "      <td>2.130886</td>\n",
       "      <td>92.798866</td>\n",
       "      <td>25.980337</td>\n",
       "      <td>0.0</td>\n",
       "      <td>7695.790039</td>\n",
       "      <td>0.0</td>\n",
       "      <td>1410.338257</td>\n",
       "      <td>0.0</td>\n",
       "      <td>-0.823410</td>\n",
       "      <td>0.162374</td>\n",
       "      <td>308</td>\n",
       "      <td>1</td>\n",
       "      <td>0</td>\n",
       "    </tr>\n",
       "    <tr>\n",
       "      <th>9844176</th>\n",
       "      <td>14.079150</td>\n",
       "      <td>-9.819579</td>\n",
       "      <td>94.940720</td>\n",
       "      <td>28.954844</td>\n",
       "      <td>0.0</td>\n",
       "      <td>7695.790039</td>\n",
       "      <td>0.0</td>\n",
       "      <td>1528.093872</td>\n",
       "      <td>0.0</td>\n",
       "      <td>1.229769</td>\n",
       "      <td>-0.790576</td>\n",
       "      <td>646</td>\n",
       "      <td>1</td>\n",
       "      <td>0</td>\n",
       "    </tr>\n",
       "    <tr>\n",
       "      <th>9844177</th>\n",
       "      <td>6.096278</td>\n",
       "      <td>0.119694</td>\n",
       "      <td>91.451447</td>\n",
       "      <td>57.889843</td>\n",
       "      <td>0.0</td>\n",
       "      <td>7695.790039</td>\n",
       "      <td>0.0</td>\n",
       "      <td>2151.238037</td>\n",
       "      <td>0.0</td>\n",
       "      <td>0.473194</td>\n",
       "      <td>0.007986</td>\n",
       "      <td>705</td>\n",
       "      <td>1</td>\n",
       "      <td>0</td>\n",
       "    </tr>\n",
       "    <tr>\n",
       "      <th>9844178</th>\n",
       "      <td>7.060112</td>\n",
       "      <td>12.430894</td>\n",
       "      <td>93.679207</td>\n",
       "      <td>29.490499</td>\n",
       "      <td>0.0</td>\n",
       "      <td>7695.790039</td>\n",
       "      <td>0.0</td>\n",
       "      <td>1532.298828</td>\n",
       "      <td>0.0</td>\n",
       "      <td>0.633598</td>\n",
       "      <td>0.947626</td>\n",
       "      <td>139</td>\n",
       "      <td>1</td>\n",
       "      <td>0</td>\n",
       "    </tr>\n",
       "  </tbody>\n",
       "</table>\n",
       "<p>9844179 rows × 14 columns</p>\n",
       "</div>"
      ],
      "text/plain": [
       "            x (nm)     y (nm)     z (nm)    mc (Da)  mc_uc (Da)  \\\n",
       "0        -9.762777   6.067947   3.633320  61.926613         0.0   \n",
       "1         0.695408   2.319493   0.147132  53.940742         0.0   \n",
       "2         1.734118   3.074459   0.313951  51.973881         0.0   \n",
       "3         0.974282  -9.012513   2.172342  57.892830         0.0   \n",
       "4       -12.462036  -0.085641   4.357419  26.981827         0.0   \n",
       "...            ...        ...        ...        ...         ...   \n",
       "9844174   3.546847  13.888915  93.694427  57.928997         0.0   \n",
       "9844175 -11.616783   2.130886  92.798866  25.980337         0.0   \n",
       "9844176  14.079150  -9.819579  94.940720  28.954844         0.0   \n",
       "9844177   6.096278   0.119694  91.451447  57.889843         0.0   \n",
       "9844178   7.060112  12.430894  93.679207  29.490499         0.0   \n",
       "\n",
       "         high_voltage (V)  pulse       t (ns)  t_c (ns)  x_det (cm)  \\\n",
       "0             2336.120117    0.0  3894.886719       0.0   -1.291257   \n",
       "1             2336.120117    0.0  3753.868652       0.0    0.109610   \n",
       "2             2336.120117    0.0  3691.825928       0.0    0.275361   \n",
       "3             2336.120117    0.0  3867.165039       0.0    0.272688   \n",
       "4             2336.120117    0.0  2554.733398       0.0   -1.665535   \n",
       "...                   ...    ...          ...       ...         ...   \n",
       "9844174       7695.790039    0.0  2139.775146       0.0    0.355564   \n",
       "9844175       7695.790039    0.0  1410.338257       0.0   -0.823410   \n",
       "9844176       7695.790039    0.0  1528.093872       0.0    1.229769   \n",
       "9844177       7695.790039    0.0  2151.238037       0.0    0.473194   \n",
       "9844178       7695.790039    0.0  1532.298828       0.0    0.633598   \n",
       "\n",
       "         y_det (cm)  delta_p  multi  start_counter  \n",
       "0          1.014173       62      1              0  \n",
       "1          0.335396      152      1              0  \n",
       "2          0.447194       58      1              0  \n",
       "3         -1.338921       23      1              0  \n",
       "4         -0.015971      124      1              0  \n",
       "...             ...      ...    ...            ...  \n",
       "9844174    1.046115      230      1              0  \n",
       "9844175    0.162374      308      1              0  \n",
       "9844176   -0.790576      646      1              0  \n",
       "9844177    0.007986      705      1              0  \n",
       "9844178    0.947626      139      1              0  \n",
       "\n",
       "[9844179 rows x 14 columns]"
      ]
     },
     "execution_count": 11,
     "metadata": {},
     "output_type": "execute_result"
    }
   ],
   "source": [
    "variables.data = variables.data.rename(columns={\"pulse_pi\": \"delta_p\"})\n",
    "variables.data = variables.data.rename(columns={\"ion_pp\": \"multi\"})\n",
    "variables.data"
   ]
  },
  {
   "cell_type": "code",
   "execution_count": 15,
   "metadata": {},
   "outputs": [
    {
     "data": {
      "text/html": [
       "<div>\n",
       "<style scoped>\n",
       "    .dataframe tbody tr th:only-of-type {\n",
       "        vertical-align: middle;\n",
       "    }\n",
       "\n",
       "    .dataframe tbody tr th {\n",
       "        vertical-align: top;\n",
       "    }\n",
       "\n",
       "    .dataframe thead th {\n",
       "        text-align: right;\n",
       "    }\n",
       "</style>\n",
       "<table border=\"1\" class=\"dataframe\">\n",
       "  <thead>\n",
       "    <tr style=\"text-align: right;\">\n",
       "      <th></th>\n",
       "      <th>x (nm)</th>\n",
       "      <th>y (nm)</th>\n",
       "      <th>z (nm)</th>\n",
       "      <th>mc (Da)</th>\n",
       "      <th>mc_uc (Da)</th>\n",
       "      <th>high_voltage (V)</th>\n",
       "      <th>pulse</th>\n",
       "      <th>t (ns)</th>\n",
       "      <th>t_c (ns)</th>\n",
       "      <th>x_det (cm)</th>\n",
       "      <th>y_det (cm)</th>\n",
       "      <th>delta_p</th>\n",
       "      <th>multi</th>\n",
       "      <th>start_counter</th>\n",
       "    </tr>\n",
       "  </thead>\n",
       "  <tbody>\n",
       "    <tr>\n",
       "      <th>0</th>\n",
       "      <td>7.188491</td>\n",
       "      <td>9.126222</td>\n",
       "      <td>1.304370</td>\n",
       "      <td>61.926613</td>\n",
       "      <td>0.0</td>\n",
       "      <td>2336.120117</td>\n",
       "      <td>0.0</td>\n",
       "      <td>3894.886719</td>\n",
       "      <td>0.0</td>\n",
       "      <td>-1.291257</td>\n",
       "      <td>1.014173</td>\n",
       "      <td>62</td>\n",
       "      <td>1</td>\n",
       "      <td>0</td>\n",
       "    </tr>\n",
       "    <tr>\n",
       "      <th>1</th>\n",
       "      <td>5.936238</td>\n",
       "      <td>-0.114405</td>\n",
       "      <td>1.092584</td>\n",
       "      <td>53.940742</td>\n",
       "      <td>0.0</td>\n",
       "      <td>2336.120117</td>\n",
       "      <td>0.0</td>\n",
       "      <td>3753.868652</td>\n",
       "      <td>0.0</td>\n",
       "      <td>0.109610</td>\n",
       "      <td>0.335396</td>\n",
       "      <td>152</td>\n",
       "      <td>1</td>\n",
       "      <td>0</td>\n",
       "    </tr>\n",
       "    <tr>\n",
       "      <th>2</th>\n",
       "      <td>12.767946</td>\n",
       "      <td>-7.585999</td>\n",
       "      <td>1.606336</td>\n",
       "      <td>51.973881</td>\n",
       "      <td>0.0</td>\n",
       "      <td>2336.120117</td>\n",
       "      <td>0.0</td>\n",
       "      <td>3691.825928</td>\n",
       "      <td>0.0</td>\n",
       "      <td>0.275361</td>\n",
       "      <td>0.447194</td>\n",
       "      <td>58</td>\n",
       "      <td>1</td>\n",
       "      <td>0</td>\n",
       "    </tr>\n",
       "    <tr>\n",
       "      <th>3</th>\n",
       "      <td>-6.851343</td>\n",
       "      <td>1.138044</td>\n",
       "      <td>1.072736</td>\n",
       "      <td>57.892830</td>\n",
       "      <td>0.0</td>\n",
       "      <td>2336.120117</td>\n",
       "      <td>0.0</td>\n",
       "      <td>3867.165039</td>\n",
       "      <td>0.0</td>\n",
       "      <td>0.272688</td>\n",
       "      <td>-1.338921</td>\n",
       "      <td>23</td>\n",
       "      <td>1</td>\n",
       "      <td>0</td>\n",
       "    </tr>\n",
       "    <tr>\n",
       "      <th>4</th>\n",
       "      <td>4.802635</td>\n",
       "      <td>10.018098</td>\n",
       "      <td>1.247635</td>\n",
       "      <td>26.981827</td>\n",
       "      <td>0.0</td>\n",
       "      <td>2336.120117</td>\n",
       "      <td>0.0</td>\n",
       "      <td>2554.733398</td>\n",
       "      <td>0.0</td>\n",
       "      <td>-1.665535</td>\n",
       "      <td>-0.015971</td>\n",
       "      <td>124</td>\n",
       "      <td>1</td>\n",
       "      <td>0</td>\n",
       "    </tr>\n",
       "    <tr>\n",
       "      <th>...</th>\n",
       "      <td>...</td>\n",
       "      <td>...</td>\n",
       "      <td>...</td>\n",
       "      <td>...</td>\n",
       "      <td>...</td>\n",
       "      <td>...</td>\n",
       "      <td>...</td>\n",
       "      <td>...</td>\n",
       "      <td>...</td>\n",
       "      <td>...</td>\n",
       "      <td>...</td>\n",
       "      <td>...</td>\n",
       "      <td>...</td>\n",
       "      <td>...</td>\n",
       "    </tr>\n",
       "    <tr>\n",
       "      <th>9844174</th>\n",
       "      <td>-26.884720</td>\n",
       "      <td>-0.754438</td>\n",
       "      <td>98.918388</td>\n",
       "      <td>57.928997</td>\n",
       "      <td>0.0</td>\n",
       "      <td>7695.790039</td>\n",
       "      <td>0.0</td>\n",
       "      <td>2139.775146</td>\n",
       "      <td>0.0</td>\n",
       "      <td>0.355564</td>\n",
       "      <td>1.046115</td>\n",
       "      <td>230</td>\n",
       "      <td>1</td>\n",
       "      <td>0</td>\n",
       "    </tr>\n",
       "    <tr>\n",
       "      <th>9844175</th>\n",
       "      <td>5.182794</td>\n",
       "      <td>-20.673302</td>\n",
       "      <td>98.831482</td>\n",
       "      <td>25.980337</td>\n",
       "      <td>0.0</td>\n",
       "      <td>7695.790039</td>\n",
       "      <td>0.0</td>\n",
       "      <td>1410.338257</td>\n",
       "      <td>0.0</td>\n",
       "      <td>-0.823410</td>\n",
       "      <td>0.162374</td>\n",
       "      <td>308</td>\n",
       "      <td>1</td>\n",
       "      <td>0</td>\n",
       "    </tr>\n",
       "    <tr>\n",
       "      <th>9844176</th>\n",
       "      <td>4.396833</td>\n",
       "      <td>6.569318</td>\n",
       "      <td>99.223213</td>\n",
       "      <td>28.954844</td>\n",
       "      <td>0.0</td>\n",
       "      <td>7695.790039</td>\n",
       "      <td>0.0</td>\n",
       "      <td>1528.093872</td>\n",
       "      <td>0.0</td>\n",
       "      <td>1.229769</td>\n",
       "      <td>-0.790576</td>\n",
       "      <td>646</td>\n",
       "      <td>1</td>\n",
       "      <td>0</td>\n",
       "    </tr>\n",
       "    <tr>\n",
       "      <th>9844177</th>\n",
       "      <td>1.953367</td>\n",
       "      <td>4.762229</td>\n",
       "      <td>99.209442</td>\n",
       "      <td>57.889843</td>\n",
       "      <td>0.0</td>\n",
       "      <td>7695.790039</td>\n",
       "      <td>0.0</td>\n",
       "      <td>2151.238037</td>\n",
       "      <td>0.0</td>\n",
       "      <td>0.473194</td>\n",
       "      <td>0.007986</td>\n",
       "      <td>705</td>\n",
       "      <td>1</td>\n",
       "      <td>0</td>\n",
       "    </tr>\n",
       "    <tr>\n",
       "      <th>9844178</th>\n",
       "      <td>-20.500990</td>\n",
       "      <td>16.610140</td>\n",
       "      <td>98.473351</td>\n",
       "      <td>29.490499</td>\n",
       "      <td>0.0</td>\n",
       "      <td>7695.790039</td>\n",
       "      <td>0.0</td>\n",
       "      <td>1532.298828</td>\n",
       "      <td>0.0</td>\n",
       "      <td>0.633598</td>\n",
       "      <td>0.947626</td>\n",
       "      <td>139</td>\n",
       "      <td>1</td>\n",
       "      <td>0</td>\n",
       "    </tr>\n",
       "  </tbody>\n",
       "</table>\n",
       "<p>9844179 rows × 14 columns</p>\n",
       "</div>"
      ],
      "text/plain": [
       "            x (nm)     y (nm)     z (nm)    mc (Da)  mc_uc (Da)  \\\n",
       "0         7.188491   9.126222   1.304370  61.926613         0.0   \n",
       "1         5.936238  -0.114405   1.092584  53.940742         0.0   \n",
       "2        12.767946  -7.585999   1.606336  51.973881         0.0   \n",
       "3        -6.851343   1.138044   1.072736  57.892830         0.0   \n",
       "4         4.802635  10.018098   1.247635  26.981827         0.0   \n",
       "...            ...        ...        ...        ...         ...   \n",
       "9844174 -26.884720  -0.754438  98.918388  57.928997         0.0   \n",
       "9844175   5.182794 -20.673302  98.831482  25.980337         0.0   \n",
       "9844176   4.396833   6.569318  99.223213  28.954844         0.0   \n",
       "9844177   1.953367   4.762229  99.209442  57.889843         0.0   \n",
       "9844178 -20.500990  16.610140  98.473351  29.490499         0.0   \n",
       "\n",
       "         high_voltage (V)  pulse       t (ns)  t_c (ns)  x_det (cm)  \\\n",
       "0             2336.120117    0.0  3894.886719       0.0   -1.291257   \n",
       "1             2336.120117    0.0  3753.868652       0.0    0.109610   \n",
       "2             2336.120117    0.0  3691.825928       0.0    0.275361   \n",
       "3             2336.120117    0.0  3867.165039       0.0    0.272688   \n",
       "4             2336.120117    0.0  2554.733398       0.0   -1.665535   \n",
       "...                   ...    ...          ...       ...         ...   \n",
       "9844174       7695.790039    0.0  2139.775146       0.0    0.355564   \n",
       "9844175       7695.790039    0.0  1410.338257       0.0   -0.823410   \n",
       "9844176       7695.790039    0.0  1528.093872       0.0    1.229769   \n",
       "9844177       7695.790039    0.0  2151.238037       0.0    0.473194   \n",
       "9844178       7695.790039    0.0  1532.298828       0.0    0.633598   \n",
       "\n",
       "         y_det (cm)  delta_p  multi  start_counter  \n",
       "0          1.014173       62      1              0  \n",
       "1          0.335396      152      1              0  \n",
       "2          0.447194       58      1              0  \n",
       "3         -1.338921       23      1              0  \n",
       "4         -0.015971      124      1              0  \n",
       "...             ...      ...    ...            ...  \n",
       "9844174    1.046115      230      1              0  \n",
       "9844175    0.162374      308      1              0  \n",
       "9844176   -0.790576      646      1              0  \n",
       "9844177    0.007986      705      1              0  \n",
       "9844178    0.947626      139      1              0  \n",
       "\n",
       "[9844179 rows x 14 columns]"
      ]
     },
     "execution_count": 15,
     "metadata": {},
     "output_type": "execute_result"
    }
   ],
   "source": [
    "variables.data[\"x (nm)\"] = df['x (nm)']\n",
    "variables.data[\"y (nm)\"] = df['y (nm)']\n",
    "variables.data[\"z (nm)\"] = df['z (nm)']\n",
    "variables.data"
   ]
  },
  {
   "cell_type": "markdown",
   "metadata": {},
   "source": [
    "<div style=\"margin: 0 auto; padding: 20px; font-family: 'Helvetica', sans-serif; font-size: 16px;\">\n",
    "\n",
    "Save the dataset in any other format that you want.\n",
    "\n",
    "</div>"
   ]
  },
  {
   "cell_type": "code",
   "execution_count": 12,
   "metadata": {},
   "outputs": [
    {
     "data": {
      "application/vnd.jupyter.widget-view+json": {
       "model_id": "8075bb9a43ca43a8871379a477e406d0",
       "version_major": 2,
       "version_minor": 0
      },
      "text/plain": [
       "interactive(children=(Text(value='R56_09770-v01_LM_LEAP', continuous_update=False, description='name'), Dropdo…"
      ]
     },
     "metadata": {},
     "output_type": "display_data"
    }
   ],
   "source": [
    "interact_manual_data = interact_manual.options(manual_name=\"save data\")\n",
    "interact_manual_data(data_tools.save_data, data=fixed(variables.data), variables=fixed(variables),\n",
    "                name=widgets.Text(value=variables.result_data_name),\n",
    "                hdf=widgets.Dropdown(options=[('True', True), ('False', False)]),\n",
    "                epos=widgets.Dropdown(options=[('False', False), ('True', True)]),\n",
    "                pos=widgets.Dropdown(options=[('False', False), ('True', True)]),\n",
    "                ato_6v=widgets.Dropdown(options=[('False', False), ('True', True)]),\n",
    "                csv=widgets.Dropdown(options=[('False', False), ('True', True)]),\n",
    "               temp=fixed(False));"
   ]
  },
  {
   "cell_type": "markdown",
   "metadata": {},
   "source": [
    "<div style=\"margin: 0 auto; padding: 20px; font-family: 'Helvetica', sans-serif; font-size: 16px;\">\n",
    "    \n",
    "# Visualization\n",
    "    \n",
    "</div>"
   ]
  },
  {
   "cell_type": "code",
   "execution_count": null,
   "metadata": {},
   "outputs": [],
   "source": [
    "data_tools.extract_data(variables.data, variables, flight_path_length.value, max_mc.value)"
   ]
  },
  {
   "cell_type": "code",
   "execution_count": null,
   "metadata": {
    "tags": []
   },
   "outputs": [],
   "source": [
    "helper_visualization.call_visualization(variables)"
   ]
  },
  {
   "cell_type": "code",
   "execution_count": null,
   "metadata": {},
   "outputs": [],
   "source": [
    "from pyccapt.calibration.calibration import mc_plot\n",
    "hist = variables.data['mc (Da)'].to_numpy()\n",
    "mc_hist = mc_plot.AptHistPlotter(hist[hist < 40], variables)\n",
    "mc_hist.plot_histogram(bin_width=0.1, label='mc', steps='stepfilled', log=True)\n",
    "mc_hist.find_peaks_and_widths()\n",
    "mc_hist.plot_hist_info_legend(loc='right')\n",
    "mc_hist.plot_line_hist()\n",
    "mc_hist.manual_background_fit()"
   ]
  },
  {
   "cell_type": "code",
   "execution_count": null,
   "metadata": {
    "tags": []
   },
   "outputs": [],
   "source": [
    "variables.plotly_3d_reconstruction"
   ]
  },
  {
   "cell_type": "code",
   "execution_count": null,
   "metadata": {
    "tags": []
   },
   "outputs": [],
   "source": [
    "from IPython.display import display, HTML\n",
    "display(HTML(variables.animation_detector_html))"
   ]
  },
  {
   "cell_type": "code",
   "execution_count": null,
   "metadata": {},
   "outputs": [],
   "source": []
  }
 ],
 "metadata": {
  "kernelspec": {
   "display_name": "Python 3 (ipykernel)",
   "language": "python",
   "name": "python3"
  },
  "language_info": {
   "codemirror_mode": {
    "name": "ipython",
    "version": 3
   },
   "file_extension": ".py",
   "mimetype": "text/x-python",
   "name": "python",
   "nbconvert_exporter": "python",
   "pygments_lexer": "ipython3",
   "version": "3.9.20"
  },
  "widgets": {
   "application/vnd.jupyter.widget-state+json": {
    "state": {
     "000e7271b9784bd5a6b1abdfc0342604": {
      "model_module": "@jupyter-widgets/base",
      "model_module_version": "2.0.0",
      "model_name": "LayoutModel",
      "state": {}
     },
     "0c7808ef905b4471a09aab40f9f6254a": {
      "model_module": "@jupyter-widgets/controls",
      "model_module_version": "2.0.0",
      "model_name": "TextStyleModel",
      "state": {
       "description_width": "",
       "font_size": null,
       "text_color": null
      }
     },
     "0cffff1baa62423aa9569eb37dc0f9db": {
      "model_module": "@jupyter-widgets/base",
      "model_module_version": "2.0.0",
      "model_name": "LayoutModel",
      "state": {}
     },
     "0d4f52cb7966471eb4efda0554b34b01": {
      "model_module": "@jupyter-widgets/base",
      "model_module_version": "2.0.0",
      "model_name": "LayoutModel",
      "state": {}
     },
     "109a46c0274b4705b19fa55416120912": {
      "model_module": "@jupyter-widgets/base",
      "model_module_version": "2.0.0",
      "model_name": "LayoutModel",
      "state": {}
     },
     "13976b47ebf74344be4cb5df454db26e": {
      "model_module": "@jupyter-widgets/controls",
      "model_module_version": "2.0.0",
      "model_name": "DescriptionStyleModel",
      "state": {
       "description_width": ""
      }
     },
     "22f91d011d024507963e523121463423": {
      "model_module": "@jupyter-widgets/base",
      "model_module_version": "2.0.0",
      "model_name": "LayoutModel",
      "state": {}
     },
     "243214611a2f4fcba7d1ca3fb0c6dcdb": {
      "model_module": "@jupyter-widgets/controls",
      "model_module_version": "2.0.0",
      "model_name": "TextModel",
      "state": {
       "continuous_update": false,
       "description": "name",
       "layout": "IPY_MODEL_24c0a76e7ede44f8aa091a53eceb4dcb",
       "style": "IPY_MODEL_e3e6baa984104a13afa27a83bc048bf0",
       "value": "Model_R56_09770-v01_LM_LEAP"
      }
     },
     "24c0a76e7ede44f8aa091a53eceb4dcb": {
      "model_module": "@jupyter-widgets/base",
      "model_module_version": "2.0.0",
      "model_name": "LayoutModel",
      "state": {}
     },
     "25a138c4878d42c693c10d60ab8234f7": {
      "model_module": "@jupyter-widgets/controls",
      "model_module_version": "2.0.0",
      "model_name": "DescriptionStyleModel",
      "state": {
       "description_width": ""
      }
     },
     "2c8f40f3b2d14599aa6ec2ef3e60e912": {
      "model_module": "@jupyter-widgets/controls",
      "model_module_version": "2.0.0",
      "model_name": "DescriptionStyleModel",
      "state": {
       "description_width": ""
      }
     },
     "3378f5d257874cd3ab59e7cd5571d600": {
      "model_module": "@jupyter-widgets/base",
      "model_module_version": "2.0.0",
      "model_name": "LayoutModel",
      "state": {
       "width": "200px"
      }
     },
     "4271caca61354777904cdea7354fa862": {
      "model_module": "@jupyter-widgets/controls",
      "model_module_version": "2.0.0",
      "model_name": "ButtonModel",
      "state": {
       "description": "save data",
       "layout": "IPY_MODEL_ed62ebc2d7c54232b10f09d149dd8fdd",
       "style": "IPY_MODEL_e2b3466bea2c4944921f92903098c6e8",
       "tooltip": null
      }
     },
     "47045699b58e46b4808d4abe98502457": {
      "model_module": "@jupyter-widgets/controls",
      "model_module_version": "2.0.0",
      "model_name": "DescriptionStyleModel",
      "state": {
       "description_width": ""
      }
     },
     "4af6f68cd30149a7914c6dac94e4f307": {
      "model_module": "@jupyter-widgets/base",
      "model_module_version": "2.0.0",
      "model_name": "LayoutModel",
      "state": {}
     },
     "4c5ba8e84ae64be49da474d204184406": {
      "model_module": "@jupyter-widgets/base",
      "model_module_version": "2.0.0",
      "model_name": "LayoutModel",
      "state": {}
     },
     "4e1bd45e45ff45b488b26207f2528304": {
      "model_module": "@jupyter-widgets/controls",
      "model_module_version": "2.0.0",
      "model_name": "DropdownModel",
      "state": {
       "_options_labels": [
        "False",
        "True"
       ],
       "description": "csv",
       "index": 0,
       "layout": "IPY_MODEL_bef3640d3a5449e4a310b16c9d8cd364",
       "style": "IPY_MODEL_ad8b0eaeb31344fc9f4604cced61794c"
      }
     },
     "4e756f1e4c6f4f67a0ac24d832dcc5c0": {
      "model_module": "@jupyter-widgets/controls",
      "model_module_version": "2.0.0",
      "model_name": "ButtonStyleModel",
      "state": {
       "font_family": null,
       "font_size": null,
       "font_style": null,
       "font_variant": null,
       "font_weight": null,
       "text_color": null,
       "text_decoration": null
      }
     },
     "53d49319631e4ccdadc1b26dee7ff641": {
      "model_module": "@jupyter-widgets/controls",
      "model_module_version": "2.0.0",
      "model_name": "DescriptionStyleModel",
      "state": {
       "description_width": ""
      }
     },
     "5631551b04d44dc6a335b7dd9284f588": {
      "model_module": "@jupyter-widgets/controls",
      "model_module_version": "2.0.0",
      "model_name": "DescriptionStyleModel",
      "state": {
       "description_width": ""
      }
     },
     "57f092d4d4634fa1a33ae5965d4f6f1d": {
      "model_module": "@jupyter-widgets/base",
      "model_module_version": "2.0.0",
      "model_name": "LayoutModel",
      "state": {}
     },
     "5ad5030357304114a5f0d22a2fcc6d33": {
      "model_module": "@jupyter-widgets/base",
      "model_module_version": "2.0.0",
      "model_name": "LayoutModel",
      "state": {}
     },
     "5b2a04e58ee040f8a9be10fb1db752aa": {
      "model_module": "@jupyter-widgets/controls",
      "model_module_version": "2.0.0",
      "model_name": "DropdownModel",
      "state": {
       "_options_labels": [
        "False",
        "True"
       ],
       "index": 0,
       "layout": "IPY_MODEL_22f91d011d024507963e523121463423",
       "style": "IPY_MODEL_9bbabe8b14fe40cba7a056eb1f97f8db"
      }
     },
     "5e7ff18737a24bf39d4678fd748a5d1c": {
      "model_module": "@jupyter-widgets/base",
      "model_module_version": "2.0.0",
      "model_name": "LayoutModel",
      "state": {}
     },
     "6887a782c50049338aae1a8c8d9f8ea2": {
      "model_module": "@jupyter-widgets/base",
      "model_module_version": "2.0.0",
      "model_name": "LayoutModel",
      "state": {}
     },
     "68d0c0bb967e4d6c8de51e7988976089": {
      "model_module": "@jupyter-widgets/base",
      "model_module_version": "2.0.0",
      "model_name": "LayoutModel",
      "state": {}
     },
     "6cb52e3fef744bd5a203ec9852c59485": {
      "model_module": "@jupyter-widgets/controls",
      "model_module_version": "2.0.0",
      "model_name": "DescriptionStyleModel",
      "state": {
       "description_width": ""
      }
     },
     "6d43765db2744428869d24fc5df6f884": {
      "model_module": "@jupyter-widgets/base",
      "model_module_version": "2.0.0",
      "model_name": "LayoutModel",
      "state": {}
     },
     "6fd3c0f0edc340d79796f10b461892b3": {
      "model_module": "@jupyter-widgets/controls",
      "model_module_version": "2.0.0",
      "model_name": "FloatTextModel",
      "state": {
       "description": "t0:",
       "layout": "IPY_MODEL_4af6f68cd30149a7914c6dac94e4f307",
       "step": null,
       "style": "IPY_MODEL_7e6f96c393d74b01b556ee4135932cbe",
       "value": 38
      }
     },
     "7024c44d61e14e568aee7660c73a6f6d": {
      "model_module": "@jupyter-widgets/controls",
      "model_module_version": "2.0.0",
      "model_name": "DropdownModel",
      "state": {
       "_options_labels": [
        "False",
        "True"
       ],
       "index": 0,
       "layout": "IPY_MODEL_4c5ba8e84ae64be49da474d204184406",
       "style": "IPY_MODEL_802d883fffa44a01862bbd779844e953"
      }
     },
     "7240e0ff26b74b1e9df7a90974d2f6e9": {
      "model_module": "@jupyter-widgets/controls",
      "model_module_version": "2.0.0",
      "model_name": "DropdownModel",
      "state": {
       "_options_labels": [
        "pyccapt",
        "leap_epos",
        "leap_pos",
        "leap_apt",
        "ato_v6"
       ],
       "description": "Data mode:",
       "index": 0,
       "layout": "IPY_MODEL_0cffff1baa62423aa9569eb37dc0f9db",
       "style": "IPY_MODEL_5631551b04d44dc6a335b7dd9284f588"
      }
     },
     "7ab69da8c58e46d0886f0e69bbfb29d5": {
      "model_module": "@jupyter-widgets/base",
      "model_module_version": "2.0.0",
      "model_name": "LayoutModel",
      "state": {}
     },
     "7e6f96c393d74b01b556ee4135932cbe": {
      "model_module": "@jupyter-widgets/controls",
      "model_module_version": "2.0.0",
      "model_name": "DescriptionStyleModel",
      "state": {
       "description_width": ""
      }
     },
     "7f16069f84c64e60bae876fc7b91d1c0": {
      "model_module": "@jupyter-widgets/base",
      "model_module_version": "2.0.0",
      "model_name": "LayoutModel",
      "state": {}
     },
     "7f49cc2566a847758ca3cbdac017e286": {
      "model_module": "@jupyter-widgets/controls",
      "model_module_version": "2.0.0",
      "model_name": "DropdownModel",
      "state": {
       "_options_labels": [
        "False",
        "True"
       ],
       "description": "pos",
       "index": 0,
       "layout": "IPY_MODEL_68d0c0bb967e4d6c8de51e7988976089",
       "style": "IPY_MODEL_c241fdeed159403483a0a8cb80a232ca"
      }
     },
     "802d883fffa44a01862bbd779844e953": {
      "model_module": "@jupyter-widgets/controls",
      "model_module_version": "2.0.0",
      "model_name": "DescriptionStyleModel",
      "state": {
       "description_width": ""
      }
     },
     "8075bb9a43ca43a8871379a477e406d0": {
      "model_module": "@jupyter-widgets/controls",
      "model_module_version": "2.0.0",
      "model_name": "VBoxModel",
      "state": {
       "_dom_classes": [
        "widget-interact"
       ],
       "children": [
        "IPY_MODEL_243214611a2f4fcba7d1ca3fb0c6dcdb",
        "IPY_MODEL_ece42382723543a19b3d179b2725f407",
        "IPY_MODEL_c7aafdc923f0481b9074d010afa28923",
        "IPY_MODEL_7f49cc2566a847758ca3cbdac017e286",
        "IPY_MODEL_4e1bd45e45ff45b488b26207f2528304",
        "IPY_MODEL_87b43751f7d04d008d392547a79b1e5a",
        "IPY_MODEL_bd00c2d811de47d396c72c389bc60bfa"
       ],
       "layout": "IPY_MODEL_109a46c0274b4705b19fa55416120912"
      }
     },
     "82f6714ffb4b4a23b8a50bed98c1f740": {
      "model_module": "@jupyter-widgets/base",
      "model_module_version": "2.0.0",
      "model_name": "LayoutModel",
      "state": {}
     },
     "85dd9dfc0735455a844b855de7c92e06": {
      "model_module": "@jupyter-widgets/controls",
      "model_module_version": "2.0.0",
      "model_name": "DescriptionStyleModel",
      "state": {
       "description_width": ""
      }
     },
     "87b43751f7d04d008d392547a79b1e5a": {
      "model_module": "@jupyter-widgets/controls",
      "model_module_version": "2.0.0",
      "model_name": "ButtonModel",
      "state": {
       "description": "save data",
       "disabled": true,
       "layout": "IPY_MODEL_6887a782c50049338aae1a8c8d9f8ea2",
       "style": "IPY_MODEL_eb2443e023d741ffa9ce6bee2c85cb1a",
       "tooltip": null
      }
     },
     "8ce684afd6ef4d7d8f1f8e0b22947a8a": {
      "model_module": "@jupyter-widgets/controls",
      "model_module_version": "2.0.0",
      "model_name": "TextModel",
      "state": {
       "continuous_update": false,
       "description": "name",
       "layout": "IPY_MODEL_7ab69da8c58e46d0886f0e69bbfb29d5",
       "style": "IPY_MODEL_0c7808ef905b4471a09aab40f9f6254a",
       "value": "R56_09770-v01_LM_LEAP"
      }
     },
     "8d44fe4bbe794a4683f276e5af4d6ad1": {
      "model_module": "@jupyter-widgets/base",
      "model_module_version": "2.0.0",
      "model_name": "LayoutModel",
      "state": {}
     },
     "927c1392bb9c4314ae3f5a4dba0bfe53": {
      "model_module": "@jupyter-widgets/controls",
      "model_module_version": "2.0.0",
      "model_name": "ButtonModel",
      "state": {
       "description": "load dataset",
       "layout": "IPY_MODEL_7f16069f84c64e60bae876fc7b91d1c0",
       "style": "IPY_MODEL_4e756f1e4c6f4f67a0ac24d832dcc5c0",
       "tooltip": null
      }
     },
     "9a6beba33c6448bd9db7f7570944a238": {
      "model_module": "@jupyter-widgets/base",
      "model_module_version": "2.0.0",
      "model_name": "LayoutModel",
      "state": {}
     },
     "9bbabe8b14fe40cba7a056eb1f97f8db": {
      "model_module": "@jupyter-widgets/controls",
      "model_module_version": "2.0.0",
      "model_name": "DescriptionStyleModel",
      "state": {
       "description_width": ""
      }
     },
     "9ea488db0c8546dea46dff788a5fb7cb": {
      "model_module": "@jupyter-widgets/base",
      "model_module_version": "2.0.0",
      "model_name": "LayoutModel",
      "state": {}
     },
     "a3f9958d1a31463f8480a52aeafc8de5": {
      "model_module": "@jupyter-widgets/controls",
      "model_module_version": "2.0.0",
      "model_name": "DescriptionStyleModel",
      "state": {
       "description_width": ""
      }
     },
     "ac1e25f27ba840b6bacfe74640f87fb5": {
      "model_module": "@jupyter-widgets/base",
      "model_module_version": "2.0.0",
      "model_name": "LayoutModel",
      "state": {}
     },
     "ad8b0eaeb31344fc9f4604cced61794c": {
      "model_module": "@jupyter-widgets/controls",
      "model_module_version": "2.0.0",
      "model_name": "DescriptionStyleModel",
      "state": {
       "description_width": ""
      }
     },
     "afa45f97c08342f0969d09154f3e3314": {
      "model_module": "@jupyter-widgets/controls",
      "model_module_version": "2.0.0",
      "model_name": "DropdownModel",
      "state": {
       "_options_labels": [
        "False",
        "True"
       ],
       "description": "epos",
       "index": 1,
       "layout": "IPY_MODEL_82f6714ffb4b4a23b8a50bed98c1f740",
       "style": "IPY_MODEL_25a138c4878d42c693c10d60ab8234f7"
      }
     },
     "afe508454eeb4c959caf88ced7ca5d4f": {
      "model_module": "@jupyter-widgets/controls",
      "model_module_version": "2.0.0",
      "model_name": "FloatTextModel",
      "state": {
       "description": "Max mc:",
       "layout": "IPY_MODEL_6d43765db2744428869d24fc5df6f884",
       "step": null,
       "style": "IPY_MODEL_a3f9958d1a31463f8480a52aeafc8de5",
       "value": 400
      }
     },
     "b1b2a7a81097416c8a7c13b561eaefce": {
      "model_module": "@jupyter-widgets/controls",
      "model_module_version": "2.0.0",
      "model_name": "FloatTextModel",
      "state": {
       "description": "Flight path length:",
       "layout": "IPY_MODEL_9ea488db0c8546dea46dff788a5fb7cb",
       "step": null,
       "style": "IPY_MODEL_c8c34e0ef68848168235ab411a55ec9e",
       "value": 110
      }
     },
     "b79c40fbe57a41c291f1351cd085cb2f": {
      "model_module": "@jupyter-widgets/base",
      "model_module_version": "2.0.0",
      "model_name": "LayoutModel",
      "state": {}
     },
     "b8b69fc8659c4a098c31bd6debd2bcec": {
      "model_module": "@jupyter-widgets/controls",
      "model_module_version": "2.0.0",
      "model_name": "DropdownModel",
      "state": {
       "_options_labels": [
        "False",
        "True"
       ],
       "description": "pos",
       "index": 0,
       "layout": "IPY_MODEL_5e7ff18737a24bf39d4678fd748a5d1c",
       "style": "IPY_MODEL_6cb52e3fef744bd5a203ec9852c59485"
      }
     },
     "bd00c2d811de47d396c72c389bc60bfa": {
      "model_module": "@jupyter-widgets/output",
      "model_module_version": "1.0.0",
      "model_name": "OutputModel",
      "state": {
       "layout": "IPY_MODEL_8d44fe4bbe794a4683f276e5af4d6ad1",
       "msg_id": "eb067557-ba8b-4a69-b088-d6524ad10103"
      }
     },
     "bef3640d3a5449e4a310b16c9d8cd364": {
      "model_module": "@jupyter-widgets/base",
      "model_module_version": "2.0.0",
      "model_name": "LayoutModel",
      "state": {}
     },
     "c04fc17f82d4481c8d55790be718e443": {
      "model_module": "@jupyter-widgets/controls",
      "model_module_version": "2.0.0",
      "model_name": "VBoxModel",
      "state": {
       "_dom_classes": [
        "widget-interact"
       ],
       "children": [
        "IPY_MODEL_8ce684afd6ef4d7d8f1f8e0b22947a8a",
        "IPY_MODEL_eb926719fcac4abd9326d6c8ae15dcb3",
        "IPY_MODEL_afa45f97c08342f0969d09154f3e3314",
        "IPY_MODEL_b8b69fc8659c4a098c31bd6debd2bcec",
        "IPY_MODEL_f7337878f3c74e46a753766ef3439a6d",
        "IPY_MODEL_4271caca61354777904cdea7354fa862",
        "IPY_MODEL_d2784992f3c345df81acb23d4b5a0584"
       ],
       "layout": "IPY_MODEL_0d4f52cb7966471eb4efda0554b34b01"
      }
     },
     "c21a1b6b6307412b8bd0ebd696c93da6": {
      "model_module": "@jupyter-widgets/controls",
      "model_module_version": "2.0.0",
      "model_name": "DescriptionStyleModel",
      "state": {
       "description_width": ""
      }
     },
     "c241fdeed159403483a0a8cb80a232ca": {
      "model_module": "@jupyter-widgets/controls",
      "model_module_version": "2.0.0",
      "model_name": "DescriptionStyleModel",
      "state": {
       "description_width": ""
      }
     },
     "c7aafdc923f0481b9074d010afa28923": {
      "model_module": "@jupyter-widgets/controls",
      "model_module_version": "2.0.0",
      "model_name": "DropdownModel",
      "state": {
       "_options_labels": [
        "False",
        "True"
       ],
       "description": "epos",
       "index": 1,
       "layout": "IPY_MODEL_9a6beba33c6448bd9db7f7570944a238",
       "style": "IPY_MODEL_85dd9dfc0735455a844b855de7c92e06"
      }
     },
     "c8c34e0ef68848168235ab411a55ec9e": {
      "model_module": "@jupyter-widgets/controls",
      "model_module_version": "2.0.0",
      "model_name": "DescriptionStyleModel",
      "state": {
       "description_width": ""
      }
     },
     "ce3b2bc1a90246ef9e06ac1958186320": {
      "model_module": "@jupyter-widgets/controls",
      "model_module_version": "2.0.0",
      "model_name": "DropdownModel",
      "state": {
       "_options_labels": [
        "voltage",
        "laser"
       ],
       "description": "Pulse mode:",
       "index": 0,
       "layout": "IPY_MODEL_000e7271b9784bd5a6b1abdfc0342604",
       "style": "IPY_MODEL_47045699b58e46b4808d4abe98502457"
      }
     },
     "ce4a5180da9745c3bcda176eb4695a48": {
      "model_module": "@jupyter-widgets/base",
      "model_module_version": "2.0.0",
      "model_name": "LayoutModel",
      "state": {}
     },
     "d17c955a8c0343f2a04cd1b2e021a4dd": {
      "model_module": "@jupyter-widgets/controls",
      "model_module_version": "2.0.0",
      "model_name": "FloatTextModel",
      "state": {
       "description": "Detector diameter:",
       "layout": "IPY_MODEL_5ad5030357304114a5f0d22a2fcc6d33",
       "step": null,
       "style": "IPY_MODEL_13976b47ebf74344be4cb5df454db26e",
       "value": 80
      }
     },
     "d2784992f3c345df81acb23d4b5a0584": {
      "model_module": "@jupyter-widgets/output",
      "model_module_version": "1.0.0",
      "model_name": "OutputModel",
      "state": {
       "layout": "IPY_MODEL_ce4a5180da9745c3bcda176eb4695a48",
       "outputs": [
        {
         "ename": "KeyError",
         "evalue": "\"['delta_p', 'multi'] not in index\"",
         "output_type": "error",
         "traceback": [
          "\u001b[1;31m---------------------------------------------------------------------------\u001b[0m",
          "\u001b[1;31mKeyError\u001b[0m                                  Traceback (most recent call last)",
          "File \u001b[1;32m~\\.conda\\envs\\pyccapt\\lib\\site-packages\\ipywidgets\\widgets\\interaction.py:243\u001b[0m, in \u001b[0;36minteractive.update\u001b[1;34m(self, *args)\u001b[0m\n\u001b[0;32m    241\u001b[0m     value \u001b[38;5;241m=\u001b[39m widget\u001b[38;5;241m.\u001b[39mget_interact_value()\n\u001b[0;32m    242\u001b[0m     \u001b[38;5;28mself\u001b[39m\u001b[38;5;241m.\u001b[39mkwargs[widget\u001b[38;5;241m.\u001b[39m_kwarg] \u001b[38;5;241m=\u001b[39m value\n\u001b[1;32m--> 243\u001b[0m \u001b[38;5;28mself\u001b[39m\u001b[38;5;241m.\u001b[39mresult \u001b[38;5;241m=\u001b[39m \u001b[38;5;28mself\u001b[39m\u001b[38;5;241m.\u001b[39mf(\u001b[38;5;241m*\u001b[39m\u001b[38;5;241m*\u001b[39m\u001b[38;5;28mself\u001b[39m\u001b[38;5;241m.\u001b[39mkwargs)\n\u001b[0;32m    244\u001b[0m show_inline_matplotlib_plots()\n\u001b[0;32m    245\u001b[0m \u001b[38;5;28;01mif\u001b[39;00m \u001b[38;5;28mself\u001b[39m\u001b[38;5;241m.\u001b[39mauto_display \u001b[38;5;129;01mand\u001b[39;00m \u001b[38;5;28mself\u001b[39m\u001b[38;5;241m.\u001b[39mresult \u001b[38;5;129;01mis\u001b[39;00m \u001b[38;5;129;01mnot\u001b[39;00m \u001b[38;5;28;01mNone\u001b[39;00m:\n",
          "File \u001b[1;32me:\\pyccapt\\pyccapt\\calibration\\data_tools\\data_tools.py:203\u001b[0m, in \u001b[0;36msave_data\u001b[1;34m(data, variables, name, hdf, epos, pos, csv, temp)\u001b[0m\n\u001b[0;32m    200\u001b[0m     store_df_to_hdf(data, hierarchyName, variables\u001b[38;5;241m.\u001b[39mresult_data_path \u001b[38;5;241m+\u001b[39m \u001b[38;5;124m'\u001b[39m\u001b[38;5;124m//\u001b[39m\u001b[38;5;124m'\u001b[39m \u001b[38;5;241m+\u001b[39m data_name \u001b[38;5;241m+\u001b[39m \u001b[38;5;124m'\u001b[39m\u001b[38;5;124m.h5\u001b[39m\u001b[38;5;124m'\u001b[39m)\n\u001b[0;32m    201\u001b[0m \u001b[38;5;28;01mif\u001b[39;00m epos:\n\u001b[0;32m    202\u001b[0m     \u001b[38;5;66;03m# save data as epos file\u001b[39;00m\n\u001b[1;32m--> 203\u001b[0m     \u001b[43mccapt_tools\u001b[49m\u001b[38;5;241;43m.\u001b[39;49m\u001b[43mccapt_to_epos\u001b[49m\u001b[43m(\u001b[49m\u001b[43mdata\u001b[49m\u001b[43m,\u001b[49m\u001b[43m \u001b[49m\u001b[43mpath\u001b[49m\u001b[38;5;241;43m=\u001b[39;49m\u001b[43mvariables\u001b[49m\u001b[38;5;241;43m.\u001b[39;49m\u001b[43mresult_path\u001b[49m\u001b[43m,\u001b[49m\n\u001b[0;32m    204\u001b[0m \u001b[43m                              \u001b[49m\u001b[43mname\u001b[49m\u001b[38;5;241;43m=\u001b[39;49m\u001b[43mdata_name\u001b[49m\u001b[43m \u001b[49m\u001b[38;5;241;43m+\u001b[39;49m\u001b[43m \u001b[49m\u001b[38;5;124;43m'\u001b[39;49m\u001b[38;5;124;43m.epos\u001b[39;49m\u001b[38;5;124;43m'\u001b[39;49m\u001b[43m)\u001b[49m\n\u001b[0;32m    205\u001b[0m \u001b[38;5;28;01mif\u001b[39;00m pos:\n\u001b[0;32m    206\u001b[0m     \u001b[38;5;66;03m# save data in pos format\u001b[39;00m\n\u001b[0;32m    207\u001b[0m     ccapt_tools\u001b[38;5;241m.\u001b[39mccapt_to_pos(data, path\u001b[38;5;241m=\u001b[39mvariables\u001b[38;5;241m.\u001b[39mresult_path, name\u001b[38;5;241m=\u001b[39mdata_name \u001b[38;5;241m+\u001b[39m \u001b[38;5;124m'\u001b[39m\u001b[38;5;124m.pos\u001b[39m\u001b[38;5;124m'\u001b[39m)\n",
          "File \u001b[1;32me:\\pyccapt\\pyccapt\\calibration\\leap_tools\\ccapt_tools.py:49\u001b[0m, in \u001b[0;36mccapt_to_epos\u001b[1;34m(data, path, name)\u001b[0m\n\u001b[0;32m     36\u001b[0m \u001b[38;5;28;01mdef\u001b[39;00m \u001b[38;5;21mccapt_to_epos\u001b[39m(data, path\u001b[38;5;241m=\u001b[39m\u001b[38;5;28;01mNone\u001b[39;00m, name\u001b[38;5;241m=\u001b[39m\u001b[38;5;28;01mNone\u001b[39;00m):\n\u001b[0;32m     37\u001b[0m \u001b[38;5;250m    \u001b[39m\u001b[38;5;124;03m\"\"\"\u001b[39;00m\n\u001b[0;32m     38\u001b[0m \u001b[38;5;124;03m    Convert CCAPT data to EPOS format.\u001b[39;00m\n\u001b[0;32m     39\u001b[0m \n\u001b[1;32m   (...)\u001b[0m\n\u001b[0;32m     47\u001b[0m \n\u001b[0;32m     48\u001b[0m \u001b[38;5;124;03m    \"\"\"\u001b[39;00m\n\u001b[1;32m---> 49\u001b[0m     dd \u001b[38;5;241m=\u001b[39m \u001b[43mdata\u001b[49m\u001b[43m[\u001b[49m\n\u001b[0;32m     50\u001b[0m \u001b[43m        \u001b[49m\u001b[43m[\u001b[49m\u001b[38;5;124;43m'\u001b[39;49m\u001b[38;5;124;43mx (nm)\u001b[39;49m\u001b[38;5;124;43m'\u001b[39;49m\u001b[43m,\u001b[49m\u001b[43m \u001b[49m\u001b[38;5;124;43m'\u001b[39;49m\u001b[38;5;124;43my (nm)\u001b[39;49m\u001b[38;5;124;43m'\u001b[39;49m\u001b[43m,\u001b[49m\u001b[43m \u001b[49m\u001b[38;5;124;43m'\u001b[39;49m\u001b[38;5;124;43mz (nm)\u001b[39;49m\u001b[38;5;124;43m'\u001b[39;49m\u001b[43m,\u001b[49m\u001b[43m \u001b[49m\u001b[38;5;124;43m'\u001b[39;49m\u001b[38;5;124;43mmc (Da)\u001b[39;49m\u001b[38;5;124;43m'\u001b[39;49m\u001b[43m,\u001b[49m\u001b[43m \u001b[49m\u001b[38;5;124;43m'\u001b[39;49m\u001b[38;5;124;43mt (ns)\u001b[39;49m\u001b[38;5;124;43m'\u001b[39;49m\u001b[43m,\u001b[49m\u001b[43m \u001b[49m\u001b[38;5;124;43m'\u001b[39;49m\u001b[38;5;124;43mhigh_voltage (V)\u001b[39;49m\u001b[38;5;124;43m'\u001b[39;49m\u001b[43m,\u001b[49m\u001b[43m \u001b[49m\u001b[38;5;124;43m'\u001b[39;49m\u001b[38;5;124;43mpulse\u001b[39;49m\u001b[38;5;124;43m'\u001b[39;49m\u001b[43m,\u001b[49m\u001b[43m \u001b[49m\u001b[38;5;124;43m'\u001b[39;49m\u001b[38;5;124;43mx_det (cm)\u001b[39;49m\u001b[38;5;124;43m'\u001b[39;49m\u001b[43m,\u001b[49m\n\u001b[0;32m     51\u001b[0m \u001b[43m         \u001b[49m\u001b[38;5;124;43m'\u001b[39;49m\u001b[38;5;124;43my_det (cm)\u001b[39;49m\u001b[38;5;124;43m'\u001b[39;49m\u001b[43m,\u001b[49m\u001b[43m \u001b[49m\u001b[38;5;124;43m'\u001b[39;49m\u001b[38;5;124;43mdelta_p\u001b[39;49m\u001b[38;5;124;43m'\u001b[39;49m\u001b[43m,\u001b[49m\u001b[43m \u001b[49m\u001b[38;5;124;43m'\u001b[39;49m\u001b[38;5;124;43mmulti\u001b[39;49m\u001b[38;5;124;43m'\u001b[39;49m\u001b[43m]\u001b[49m\u001b[43m]\u001b[49m\n\u001b[0;32m     53\u001b[0m     dd \u001b[38;5;241m=\u001b[39m dd\u001b[38;5;241m.\u001b[39mastype(np\u001b[38;5;241m.\u001b[39msingle)\n\u001b[0;32m     54\u001b[0m     dd \u001b[38;5;241m=\u001b[39m dd\u001b[38;5;241m.\u001b[39mastype({\u001b[38;5;124m'\u001b[39m\u001b[38;5;124mdelta_p\u001b[39m\u001b[38;5;124m'\u001b[39m: np\u001b[38;5;241m.\u001b[39muintc})\n",
          "File \u001b[1;32m~\\.conda\\envs\\pyccapt\\lib\\site-packages\\pandas\\core\\frame.py:4108\u001b[0m, in \u001b[0;36mDataFrame.__getitem__\u001b[1;34m(self, key)\u001b[0m\n\u001b[0;32m   4106\u001b[0m     \u001b[38;5;28;01mif\u001b[39;00m is_iterator(key):\n\u001b[0;32m   4107\u001b[0m         key \u001b[38;5;241m=\u001b[39m \u001b[38;5;28mlist\u001b[39m(key)\n\u001b[1;32m-> 4108\u001b[0m     indexer \u001b[38;5;241m=\u001b[39m \u001b[38;5;28;43mself\u001b[39;49m\u001b[38;5;241;43m.\u001b[39;49m\u001b[43mcolumns\u001b[49m\u001b[38;5;241;43m.\u001b[39;49m\u001b[43m_get_indexer_strict\u001b[49m\u001b[43m(\u001b[49m\u001b[43mkey\u001b[49m\u001b[43m,\u001b[49m\u001b[43m \u001b[49m\u001b[38;5;124;43m\"\u001b[39;49m\u001b[38;5;124;43mcolumns\u001b[39;49m\u001b[38;5;124;43m\"\u001b[39;49m\u001b[43m)\u001b[49m[\u001b[38;5;241m1\u001b[39m]\n\u001b[0;32m   4110\u001b[0m \u001b[38;5;66;03m# take() does not accept boolean indexers\u001b[39;00m\n\u001b[0;32m   4111\u001b[0m \u001b[38;5;28;01mif\u001b[39;00m \u001b[38;5;28mgetattr\u001b[39m(indexer, \u001b[38;5;124m\"\u001b[39m\u001b[38;5;124mdtype\u001b[39m\u001b[38;5;124m\"\u001b[39m, \u001b[38;5;28;01mNone\u001b[39;00m) \u001b[38;5;241m==\u001b[39m \u001b[38;5;28mbool\u001b[39m:\n",
          "File \u001b[1;32m~\\.conda\\envs\\pyccapt\\lib\\site-packages\\pandas\\core\\indexes\\base.py:6200\u001b[0m, in \u001b[0;36mIndex._get_indexer_strict\u001b[1;34m(self, key, axis_name)\u001b[0m\n\u001b[0;32m   6197\u001b[0m \u001b[38;5;28;01melse\u001b[39;00m:\n\u001b[0;32m   6198\u001b[0m     keyarr, indexer, new_indexer \u001b[38;5;241m=\u001b[39m \u001b[38;5;28mself\u001b[39m\u001b[38;5;241m.\u001b[39m_reindex_non_unique(keyarr)\n\u001b[1;32m-> 6200\u001b[0m \u001b[38;5;28;43mself\u001b[39;49m\u001b[38;5;241;43m.\u001b[39;49m\u001b[43m_raise_if_missing\u001b[49m\u001b[43m(\u001b[49m\u001b[43mkeyarr\u001b[49m\u001b[43m,\u001b[49m\u001b[43m \u001b[49m\u001b[43mindexer\u001b[49m\u001b[43m,\u001b[49m\u001b[43m \u001b[49m\u001b[43maxis_name\u001b[49m\u001b[43m)\u001b[49m\n\u001b[0;32m   6202\u001b[0m keyarr \u001b[38;5;241m=\u001b[39m \u001b[38;5;28mself\u001b[39m\u001b[38;5;241m.\u001b[39mtake(indexer)\n\u001b[0;32m   6203\u001b[0m \u001b[38;5;28;01mif\u001b[39;00m \u001b[38;5;28misinstance\u001b[39m(key, Index):\n\u001b[0;32m   6204\u001b[0m     \u001b[38;5;66;03m# GH 42790 - Preserve name from an Index\u001b[39;00m\n",
          "File \u001b[1;32m~\\.conda\\envs\\pyccapt\\lib\\site-packages\\pandas\\core\\indexes\\base.py:6252\u001b[0m, in \u001b[0;36mIndex._raise_if_missing\u001b[1;34m(self, key, indexer, axis_name)\u001b[0m\n\u001b[0;32m   6249\u001b[0m     \u001b[38;5;28;01mraise\u001b[39;00m \u001b[38;5;167;01mKeyError\u001b[39;00m(\u001b[38;5;124mf\u001b[39m\u001b[38;5;124m\"\u001b[39m\u001b[38;5;124mNone of [\u001b[39m\u001b[38;5;132;01m{\u001b[39;00mkey\u001b[38;5;132;01m}\u001b[39;00m\u001b[38;5;124m] are in the [\u001b[39m\u001b[38;5;132;01m{\u001b[39;00maxis_name\u001b[38;5;132;01m}\u001b[39;00m\u001b[38;5;124m]\u001b[39m\u001b[38;5;124m\"\u001b[39m)\n\u001b[0;32m   6251\u001b[0m not_found \u001b[38;5;241m=\u001b[39m \u001b[38;5;28mlist\u001b[39m(ensure_index(key)[missing_mask\u001b[38;5;241m.\u001b[39mnonzero()[\u001b[38;5;241m0\u001b[39m]]\u001b[38;5;241m.\u001b[39munique())\n\u001b[1;32m-> 6252\u001b[0m \u001b[38;5;28;01mraise\u001b[39;00m \u001b[38;5;167;01mKeyError\u001b[39;00m(\u001b[38;5;124mf\u001b[39m\u001b[38;5;124m\"\u001b[39m\u001b[38;5;132;01m{\u001b[39;00mnot_found\u001b[38;5;132;01m}\u001b[39;00m\u001b[38;5;124m not in index\u001b[39m\u001b[38;5;124m\"\u001b[39m)\n",
          "\u001b[1;31mKeyError\u001b[0m: \"['delta_p', 'multi'] not in index\""
         ]
        }
       ]
      }
     },
     "e2b3466bea2c4944921f92903098c6e8": {
      "model_module": "@jupyter-widgets/controls",
      "model_module_version": "2.0.0",
      "model_name": "ButtonStyleModel",
      "state": {
       "font_family": null,
       "font_size": null,
       "font_style": null,
       "font_variant": null,
       "font_weight": null,
       "text_color": null,
       "text_decoration": null
      }
     },
     "e3e6baa984104a13afa27a83bc048bf0": {
      "model_module": "@jupyter-widgets/controls",
      "model_module_version": "2.0.0",
      "model_name": "TextStyleModel",
      "state": {
       "description_width": "",
       "font_size": null,
       "text_color": null
      }
     },
     "eb2443e023d741ffa9ce6bee2c85cb1a": {
      "model_module": "@jupyter-widgets/controls",
      "model_module_version": "2.0.0",
      "model_name": "ButtonStyleModel",
      "state": {
       "font_family": null,
       "font_size": null,
       "font_style": null,
       "font_variant": null,
       "font_weight": null,
       "text_color": null,
       "text_decoration": null
      }
     },
     "eb926719fcac4abd9326d6c8ae15dcb3": {
      "model_module": "@jupyter-widgets/controls",
      "model_module_version": "2.0.0",
      "model_name": "DropdownModel",
      "state": {
       "_options_labels": [
        "True",
        "False"
       ],
       "description": "hdf",
       "index": 1,
       "layout": "IPY_MODEL_b79c40fbe57a41c291f1351cd085cb2f",
       "style": "IPY_MODEL_c21a1b6b6307412b8bd0ebd696c93da6"
      }
     },
     "ece42382723543a19b3d179b2725f407": {
      "model_module": "@jupyter-widgets/controls",
      "model_module_version": "2.0.0",
      "model_name": "DropdownModel",
      "state": {
       "_options_labels": [
        "True",
        "False"
       ],
       "description": "hdf",
       "index": 1,
       "layout": "IPY_MODEL_57f092d4d4634fa1a33ae5965d4f6f1d",
       "style": "IPY_MODEL_2c8f40f3b2d14599aa6ec2ef3e60e912"
      }
     },
     "ed62ebc2d7c54232b10f09d149dd8fdd": {
      "model_module": "@jupyter-widgets/base",
      "model_module_version": "2.0.0",
      "model_name": "LayoutModel",
      "state": {}
     },
     "f7337878f3c74e46a753766ef3439a6d": {
      "model_module": "@jupyter-widgets/controls",
      "model_module_version": "2.0.0",
      "model_name": "DropdownModel",
      "state": {
       "_options_labels": [
        "False",
        "True"
       ],
       "description": "csv",
       "index": 0,
       "layout": "IPY_MODEL_ac1e25f27ba840b6bacfe74640f87fb5",
       "style": "IPY_MODEL_53d49319631e4ccdadc1b26dee7ff641"
      }
     }
    },
    "version_major": 2,
    "version_minor": 0
   }
  }
 },
 "nbformat": 4,
 "nbformat_minor": 4
}
